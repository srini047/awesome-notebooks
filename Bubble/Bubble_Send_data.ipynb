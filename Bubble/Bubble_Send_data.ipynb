{
 "cells": [
  {
   "cell_type": "markdown",
   "id": "athletic-turning",
   "metadata": {
    "papermill": {},
    "tags": []
   },
   "source": [
    "<img width=\"10%\" alt=\"Naas\" src=\"https://landen.imgix.net/jtci2pxwjczr/assets/5ice39g4.png?w=160\"/>"
   ]
  },
  {
   "cell_type": "markdown",
   "id": "obvious-currency",
   "metadata": {
    "papermill": {},
    "tags": []
   },
   "source": [
    "# Bubble - Send data\n",
    "<a href=\"https://app.naas.ai/user-redirect/naas/downloader?url=https://raw.githubusercontent.com/jupyter-naas/awesome-notebooks/master/Bubble/Bubble_Send_data.ipynb\" target=\"_parent\"><img src=\"https://naasai-public.s3.eu-west-3.amazonaws.com/Open_in_Naas_Lab.svg\"/></a><br><br><a href=\"https://github.com/jupyter-naas/awesome-notebooks/issues/new?assignees=&labels=&template=template-request.md&title=Tool+-+Action+of+the+notebook+\">Template request</a> | <a href=\"https://github.com/jupyter-naas/awesome-notebooks/issues/new?assignees=&labels=bug&template=bug_report.md&title=Bubble+-+Send+data:+Error+short+description\">Bug report</a> | <a href=\"https://app.naas.ai/user-redirect/naas/downloader?url=https://raw.githubusercontent.com/jupyter-naas/awesome-notebooks/master/Naas/Naas_Start_data_product.ipynb\" target=\"_parent\">Generate Data Product</a>"
   ]
  },
  {
   "cell_type": "markdown",
   "id": "3354ffc3-0289-42c1-a1fa-b96b61909bb2",
   "metadata": {
    "execution": {
     "iopub.execute_input": "2021-10-01T09:42:41.839729Z",
     "iopub.status.busy": "2021-10-01T09:42:41.839448Z",
     "iopub.status.idle": "2021-10-01T09:42:41.852424Z",
     "shell.execute_reply": "2021-10-01T09:42:41.851502Z",
     "shell.execute_reply.started": "2021-10-01T09:42:41.839663Z"
    },
    "papermill": {},
    "tags": []
   },
   "source": [
    "**Tags:** #bubble #naas_drivers #operations #snippet"
   ]
  },
  {
   "cell_type": "markdown",
   "id": "4628b600-9899-49c2-85f6-a9d198911291",
   "metadata": {
    "papermill": {},
    "tags": []
   },
   "source": [
    "**Author:** [Martin Donadieu](https://www.linkedin.com/in/martindonadieu/)"
   ]
  },
  {
   "cell_type": "markdown",
   "id": "naas-description",
   "metadata": {
    "papermill": {},
    "tags": [
     "description"
    ]
   },
   "source": [
    "**Description:** This notebook allows users to easily send data through a secure, cloud-based platform."
   ]
  },
  {
   "cell_type": "markdown",
   "id": "a24ad195-0023-4574-94d6-e1176b5d7453",
   "metadata": {
    "execution": {
     "iopub.execute_input": "2021-10-01T09:42:52.225300Z",
     "iopub.status.busy": "2021-10-01T09:42:52.225036Z",
     "iopub.status.idle": "2021-10-01T09:42:52.227906Z",
     "shell.execute_reply": "2021-10-01T09:42:52.227297Z",
     "shell.execute_reply.started": "2021-10-01T09:42:52.225274Z"
    },
    "papermill": {},
    "tags": []
   },
   "source": [
    "## Input"
   ]
  },
  {
   "cell_type": "markdown",
   "id": "4526aa8c-32ee-4fd4-ab7e-dda90a82fe95",
   "metadata": {
    "papermill": {},
    "tags": []
   },
   "source": [
    "### Import library"
   ]
  },
  {
   "cell_type": "code",
   "execution_count": null,
   "id": "2bcd3564-91f1-4742-b381-ecdfc9f68fe0",
   "metadata": {
    "papermill": {},
    "tags": []
   },
   "outputs": [],
   "source": [
    "from naas_drivers import bubble"
   ]
  },
  {
   "cell_type": "markdown",
   "id": "fe7c29dd-c38e-4a4b-9b07-db0eb1869480",
   "metadata": {
    "papermill": {},
    "tags": []
   },
   "source": [
    "### Variables"
   ]
  },
  {
   "cell_type": "code",
   "execution_count": null,
   "id": "a0121e43-9820-4e69-a2dc-ddc59e53991d",
   "metadata": {
    "papermill": {},
    "tags": []
   },
   "outputs": [],
   "source": [
    "url = \"https://appname.bubbleapps.io/api/1.1/wf/endpoint_name\"\n",
    "data = {\"first_name\": \"Bryan\", \"last_name\": \"Helmig\", \"age\": 27}"
   ]
  },
  {
   "cell_type": "markdown",
   "id": "89679771-712a-4877-86d9-c6afd7f39cb9",
   "metadata": {
    "papermill": {},
    "tags": []
   },
   "source": [
    "## Model"
   ]
  },
  {
   "cell_type": "markdown",
   "id": "ecf2965d-137b-40e0-a3d9-11e27a421a14",
   "metadata": {
    "papermill": {},
    "tags": []
   },
   "source": [
    "### Trigger workflow"
   ]
  },
  {
   "cell_type": "code",
   "execution_count": null,
   "id": "55751b9a-0a32-44a8-8a09-61ba452db5e0",
   "metadata": {
    "papermill": {},
    "tags": []
   },
   "outputs": [],
   "source": [
    "def send_data(url, data):\n",
    "    bubble.send(url, data)"
   ]
  },
  {
   "cell_type": "markdown",
   "id": "40bbe760-5f71-4dd0-8d40-b475139d7026",
   "metadata": {
    "papermill": {},
    "tags": []
   },
   "source": [
    "## Output"
   ]
  },
  {
   "cell_type": "markdown",
   "id": "51734192-9104-417a-88e4-d66747938516",
   "metadata": {
    "papermill": {},
    "tags": []
   },
   "source": [
    "### Send result"
   ]
  },
  {
   "cell_type": "code",
   "execution_count": null,
   "id": "administrative-director",
   "metadata": {
    "papermill": {},
    "tags": []
   },
   "outputs": [],
   "source": [
    "result = send_data(url, data)"
   ]
  }
 ],
 "metadata": {
  "kernelspec": {
   "display_name": "Python 3",
   "language": "python",
   "name": "python3"
  },
  "language_info": {
   "codemirror_mode": {
    "name": "ipython",
    "version": 3
   },
   "file_extension": ".py",
   "mimetype": "text/x-python",
   "name": "python",
   "nbconvert_exporter": "python",
   "pygments_lexer": "ipython3",
   "version": "3.9.6"
  },
  "naas": {
   "notebook_id": "f969028b22c1a3a446445dd979298e843d9b00e67cfcdc6d9f0e0ca94ed9e8fa",
   "notebook_path": "Bubble/Bubble_Send_data.ipynb"
  },
  "papermill": {
   "default_parameters": {},
   "environment_variables": {},
   "parameters": {},
   "version": "2.3.3"
  }
 },
 "nbformat": 4,
 "nbformat_minor": 5
}