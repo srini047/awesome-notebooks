{
 "cells": [
  {
   "cell_type": "markdown",
   "id": "62d585e6",
   "metadata": {
    "papermill": {},
    "tags": []
   },
   "source": [
    "<img width=\"10%\" alt=\"Naas\" src=\"https://landen.imgix.net/jtci2pxwjczr/assets/5ice39g4.png?w=160\"/>"
   ]
  },
  {
   "cell_type": "markdown",
   "id": "f9a0a919-3d6e-46cb-a25a-0913bddaff5e",
   "metadata": {
    "papermill": {},
    "tags": [
     "twilio"
    ]
   },
   "source": [
    "# Twilio - Send SMS\n",
    "<a href=\"https://app.naas.ai/user-redirect/naas/downloader?url=https://raw.githubusercontent.com/jupyter-naas/awesome-notebooks/master/Twilio/Twilio_Send_SMS.ipynb\" target=\"_parent\"><img src=\"https://naasai-public.s3.eu-west-3.amazonaws.com/Open_in_Naas_Lab.svg\"/></a><br><br><a href=\"https://github.com/jupyter-naas/awesome-notebooks/issues/new?assignees=&labels=&template=template-request.md&title=Tool+-+Action+of+the+notebook+\">Template request</a> | <a href=\"https://github.com/jupyter-naas/awesome-notebooks/issues/new?assignees=&labels=bug&template=bug_report.md&title=Twilio+-+Send+SMS:+Error+short+description\">Bug report</a> | <a href=\"https://app.naas.ai/user-redirect/naas/downloader?url=https://raw.githubusercontent.com/jupyter-naas/awesome-notebooks/master/Naas/Naas_Start_data_product.ipynb\" target=\"_parent\">Generate Data Product</a>"
   ]
  },
  {
   "cell_type": "markdown",
   "id": "68990820",
   "metadata": {
    "papermill": {},
    "tags": []
   },
   "source": [
    "**Tags:** #twilio #project #send #sms #snippet #operations #dataframe"
   ]
  },
  {
   "cell_type": "markdown",
   "id": "f880afb8",
   "metadata": {
    "papermill": {},
    "tags": []
   },
   "source": [
    "**Author:** [Sriniketh Jayasendil](https://www.linkedin.com/in/sriniketh-jayasendil/)"
   ]
  },
  {
   "cell_type": "markdown",
   "id": "naas-description",
   "metadata": {
    "papermill": {},
    "tags": [
     "description"
    ]
   },
   "source": [
    "**Description:** This notebook allows you to send SMS messages using the Twilio API."
   ]
  },
  {
   "cell_type": "markdown",
   "id": "a00162bf",
   "metadata": {
    "papermill": {},
    "tags": []
   },
   "source": [
    "## Input"
   ]
  },
  {
   "cell_type": "markdown",
   "id": "9989498f",
   "metadata": {
    "papermill": {},
    "tags": []
   },
   "source": [
    "## Import Library"
   ]
  },
  {
   "cell_type": "code",
   "execution_count": null,
   "id": "cd82d02f-1a10-4210-af05-8d8d7d76f71d",
   "metadata": {
    "papermill": {},
    "tags": []
   },
   "outputs": [],
   "source": [
    "try:\n",
    "    from twilio.rest import Client\n",
    "except:\n",
    "    ! pip install --user twilio\n",
    "    from twilio.rest import Client"
   ]
  },
  {
   "cell_type": "markdown",
   "id": "22950f29",
   "metadata": {
    "papermill": {},
    "tags": []
   },
   "source": [
    "### Setup Twilio\n",
    "- [Get your credentials](https://support.twilio.com/hc/en-us/articles/223136027-Auth-Tokens-and-How-to-Change-Them)"
   ]
  },
  {
   "cell_type": "code",
   "execution_count": null,
   "id": "44fa3425-8674-4560-9c1b-32b5c7fb65f8",
   "metadata": {
    "papermill": {},
    "tags": []
   },
   "outputs": [],
   "source": [
    "# Credentials\n",
    "account_sid = \"\"  # From Twilio Console\n",
    "auth_token = \"\"  # From Twilio Console\n",
    "\n",
    "# Message\n",
    "from_number = (\n",
    "    \"\"  # Buy a new number if not available preferably starting with \"+1\" country code\n",
    ")\n",
    "to_number = \"\"  # Could send messages only to verified Caller ID's\n",
    "message = \"\"  # Message to be Sent"
   ]
  },
  {
   "cell_type": "markdown",
   "id": "431fd000-d7f8-4ab8-a9b8-33126ef9965c",
   "metadata": {
    "papermill": {},
    "tags": []
   },
   "source": [
    "## Model\n"
   ]
  },
  {
   "cell_type": "markdown",
   "id": "383ee9a0-841f-4c6e-98be-39c189cedb3d",
   "metadata": {
    "papermill": {},
    "tags": []
   },
   "source": [
    "### Set Client"
   ]
  },
  {
   "cell_type": "code",
   "execution_count": null,
   "id": "7c53974b-a461-427a-bc45-34fc5ffb6812",
   "metadata": {
    "papermill": {},
    "tags": []
   },
   "outputs": [],
   "source": [
    "client = Client(account_sid, auth_token)  # Set Client"
   ]
  },
  {
   "cell_type": "markdown",
   "id": "c67911de-6906-4411-b8e9-a3b8cdb041a9",
   "metadata": {
    "papermill": {},
    "tags": []
   },
   "source": [
    "## Output\n"
   ]
  },
  {
   "cell_type": "markdown",
   "id": "49f500e4-c07b-41fd-8aca-40eb8d214f54",
   "metadata": {
    "papermill": {},
    "tags": []
   },
   "source": [
    "### Send message"
   ]
  },
  {
   "cell_type": "code",
   "execution_count": null,
   "id": "320e69bc-c0e2-45f2-8c0d-4cc1300a297d",
   "metadata": {
    "papermill": {},
    "tags": []
   },
   "outputs": [],
   "source": [
    "client.api.account.messages.create(to=to_number, from_=from_number, body=message)"
   ]
  }
 ],
 "metadata": {
  "kernelspec": {
   "display_name": "Python 3",
   "language": "python",
   "name": "python3"
  },
  "language_info": {
   "codemirror_mode": {
    "name": "ipython",
    "version": 3
   },
   "file_extension": ".py",
   "mimetype": "text/x-python",
   "name": "python",
   "nbconvert_exporter": "python",
   "pygments_lexer": "ipython3",
   "version": "3.9.6"
  },
  "naas": {
   "notebook_id": "cf796abab887f0c032b38c2ac5c95b86f4245e69d66aea9a8d7b7e5cc5dac186",
   "notebook_path": "Twilio/Twilio_Send_SMS.ipynb"
  },
  "papermill": {
   "default_parameters": {},
   "environment_variables": {},
   "parameters": {},
   "version": "2.3.4"
  }
 },
 "nbformat": 4,
 "nbformat_minor": 5
}