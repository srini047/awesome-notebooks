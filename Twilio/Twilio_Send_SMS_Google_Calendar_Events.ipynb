{
 "cells": [
  {
   "cell_type": "markdown",
   "id": "latin-packing",
   "metadata": {
    "execution": {
     "iopub.execute_input": "2021-02-23T14:22:16.610471Z",
     "iopub.status.busy": "2021-02-23T14:22:16.610129Z",
     "iopub.status.idle": "2021-02-23T14:22:16.627784Z",
     "shell.execute_reply": "2021-02-23T14:22:16.626866Z",
     "shell.execute_reply.started": "2021-02-23T14:22:16.610384Z"
    },
    "papermill": {},
    "tags": []
   },
   "source": [
    "<img width=\"10%\" alt=\"Naas\" src=\"https://landen.imgix.net/jtci2pxwjczr/assets/5ice39g4.png?w=160\"/>"
   ]
  },
  {
   "cell_type": "markdown",
   "id": "compressed-wilson",
   "metadata": {
    "papermill": {},
    "tags": []
   },
   "source": [
    "# Twilio - Send  SMS messages for Google Calendar Events\n",
    "<a href=\"https://app.naas.ai/user-redirect/naas/downloader?url=https://raw.githubusercontent.com/jupyter-naas/awesome-notebooks/master/Twilio/Twilio_Send_SMS_Google_Calendar_Events.ipynb\" target=\"_parent\"><img src=\"https://naasai-public.s3.eu-west-3.amazonaws.com/Open_in_Naas_Lab.svg\"/></a><br><br><a href=\"https://github.com/jupyter-naas/awesome-notebooks/issues/new?assignees=&labels=&template=template-request.md&title=Tool+-+Action+of+the+notebook+\">Template request</a> | <a href=\"https://github.com/jupyter-naas/awesome-notebooks/issues/new?assignees=&labels=bug&template=bug_report.md&title=Twilio+-+Send++SMS+messages+for+Google+Calendar+Events:+Error+short+description\">Bug report</a> | <a href=\"https://app.naas.ai/user-redirect/naas/downloader?url=https://raw.githubusercontent.com/jupyter-naas/awesome-notebooks/master/Naas/Naas_Start_data_product.ipynb\" target=\"_parent\">Generate Data Product</a>"
   ]
  },
  {
   "cell_type": "markdown",
   "id": "religious-programmer",
   "metadata": {
    "papermill": {},
    "tags": []
   },
   "source": [
    "**Tags:** #googlecalendar #twilio #notification #event"
   ]
  },
  {
   "cell_type": "markdown",
   "id": "1fe9f56e-561c-4f52-aef8-b861c9462107",
   "metadata": {
    "papermill": {},
    "tags": []
   },
   "source": [
    "**Author:** [Sriniketh Jayasendil](https://www.linkedin.com/in/sriniketh-jayasendil)"
   ]
  },
  {
   "cell_type": "markdown",
   "id": "31ea7cdb-e10d-43fc-b026-f69249a59736",
   "metadata": {
    "papermill": {},
    "tags": []
   },
   "source": [
    "**Description:** This notebook sends an SMS notification for upcoming the next event you're attending in your Google Calendar."
   ]
  },
  {
   "cell_type": "markdown",
   "id": "0fad2bec",
   "metadata": {
    "papermill": {},
    "tags": []
   },
   "source": [
    "**References:**\n",
    "- https://developers.google.com/calendar/api/quickstart/python"
   ]
  },
  {
   "cell_type": "markdown",
   "id": "distinguished-truth",
   "metadata": {
    "papermill": {},
    "tags": []
   },
   "source": [
    "## Input"
   ]
  },
  {
   "cell_type": "markdown",
   "id": "numeric-mediterranean",
   "metadata": {
    "papermill": {},
    "tags": []
   },
   "source": [
    "### Import libraries"
   ]
  },
  {
   "cell_type": "code",
   "execution_count": null,
   "id": "potential-surfing",
   "metadata": {
    "papermill": {},
    "tags": []
   },
   "outputs": [],
   "source": [
    "import naas\n",
    "from datetime import datetime\n",
    "import pytz\n",
    "try:\n",
    "    from apiclient.discovery import build\n",
    "    from google_auth_oauthlib.flow import InstalledAppFlow\n",
    "except ModuleNotFoundError:\n",
    "    !pip install google-api-python-client --user\n",
    "    from apiclient.discovery import build\n",
    "    from google_auth_oauthlib.flow import InstalledAppFlow \n",
    "try:\n",
    "    from twilio.rest import Client\n",
    "except ModuleNotFoundError:\n",
    "    !pip install twilio --user\n",
    "    from twilio.rest import Client\n",
    "import pickle"
   ]
  },
  {
   "cell_type": "markdown",
   "id": "aggressive-trustee",
   "metadata": {
    "papermill": {},
    "tags": []
   },
   "source": [
    "### Setup Variables"
   ]
  },
  {
   "cell_type": "markdown",
   "id": "1cee2ffa-57b3-4aaa-a474-c93521c5b4db",
   "metadata": {
    "papermill": {},
    "tags": []
   },
   "source": [
    "1. [Twilio](https://console.twilio.com)\n",
    "- `account_sid`: Account SID\n",
    "- `auth_token`: Authentication Token\n",
    "- `twilio_phone_number`: My Twilio phone number\n",
    "- `twilio_verified_phone_number`: Twilio verified phone number\n",
    "\n",
    "2. [Google Cloud](https://console.cloud.google.com/)\n",
    "Follow this [blog](https://blog.sriniketh.design/getting-credentials-from-gcp-google-cloud-platform) to know how to get the credentials from GCP\n",
    "- `scopes`: The scopes to be used for authentication\n",
    "- `secret_path`: secret json path extracted from GCP\n",
    "Assuming you have got the credentials, you can proceed further.\n",
    "\n",
    "Then you are all set to proceed further 🚀"
   ]
  },
  {
   "cell_type": "code",
   "execution_count": null,
   "id": "continuous-melbourne",
   "metadata": {
    "papermill": {},
    "tags": []
   },
   "outputs": [],
   "source": [
    "# Inputs\n",
    "account_sid = naas.secret.get(\"TWILIO_ACCOUNT_SID\")\n",
    "auth_token = naas.secret.get(\"TWILIO_AUTH_TOKEN\")\n",
    "twilio_phone_number = naas.secret.get(\"TWILIO_FROM_NUMBER\")\n",
    "twilio_verified_phone_number = naas.secret.get(\"TWILIO_TO_NUMBER\")\n",
    "scopes = ['https://www.googleapis.com/auth/calendar']\n",
    "secret_path = \"secrets.json\"\n",
    "calendar_id = \"primary\"\n",
    "time_min = datetime.utcnow().isoformat() + 'Z'\n",
    "time_zone = 'Europe/Paris'"
   ]
  },
  {
   "cell_type": "markdown",
   "id": "f66aac9e-85bf-47e8-ac06-2a2575faace7",
   "metadata": {
    "papermill": {},
    "tags": []
   },
   "source": [
    "### Connect to service\n",
    "Connect to service and copy/paste the autorization code in the input box below"
   ]
  },
  {
   "cell_type": "code",
   "execution_count": null,
   "id": "55422b7b-279c-442b-9993-bbf41d3e483d",
   "metadata": {
    "papermill": {},
    "tags": []
   },
   "outputs": [],
   "source": [
    "flow = InstalledAppFlow.from_client_secrets_file(secret_path, scopes=scopes)\n",
    "credentials = flow.run_console()\n",
    "service = build(\"calendar\", \"v3\", credentials=credentials)"
   ]
  },
  {
   "cell_type": "markdown",
   "id": "registered-showcase",
   "metadata": {
    "papermill": {},
    "tags": []
   },
   "source": [
    "## Model"
   ]
  },
  {
   "cell_type": "markdown",
   "id": "5c6774bb-88e1-413b-b271-a287362e43b8",
   "metadata": {
    "papermill": {},
    "tags": []
   },
   "source": [
    "### Get next event"
   ]
  },
  {
   "cell_type": "code",
   "execution_count": null,
   "id": "7afa30cf-f391-41e1-936f-59c66011465a",
   "metadata": {
    "papermill": {},
    "tags": []
   },
   "outputs": [],
   "source": [
    "events_result = service.events().list(\n",
    "    calendarId=calendar_id,\n",
    "    timeMin=time_min,\n",
    "    maxResults=1,\n",
    "    singleEvents=True,\n",
    "    orderBy='startTime'\n",
    ").execute()\n",
    "events = events_result.get('items', [])\n",
    "if not events:\n",
    "    print('No upcoming events found😢')\n",
    "    \n",
    "# Parse datetime string\n",
    "next_dt = datetime.fromisoformat(events[0].get(\"start\").get(\"dateTime\"))\n",
    "\n",
    "# Get the current datetime with timezone information\n",
    "now_with_timezone = datetime.now(pytz.timezone(time_zone))  # Replace 'Your/Timezone' with your desired timezone\n",
    "\n",
    "message = f\"\"\"\n",
    "Hi there,\n",
    "Kindly reminder!\n",
    "📆 Next event: {events[0].get('summary')}\n",
    "⏰ Start at {next_dt}\n",
    "\"\"\"\n",
    "print(message)"
   ]
  },
  {
   "cell_type": "markdown",
   "id": "tested-astrology",
   "metadata": {
    "papermill": {},
    "tags": []
   },
   "source": [
    "### Send notifications of new calendar Events"
   ]
  },
  {
   "cell_type": "code",
   "execution_count": null,
   "id": "crude-louisville",
   "metadata": {
    "papermill": {},
    "tags": []
   },
   "outputs": [],
   "source": [
    "def send_sms_google_calendar_events(to_phone_number, message):\n",
    "    # Send SMS using Twilio\n",
    "    client = Client(account_sid, auth_token)\n",
    "    sent_message = client.messages.create(\n",
    "        from_=twilio_phone_number,\n",
    "        to=twilio_verified_phone_number,\n",
    "        body=message)\n",
    "    print(sent_message)"
   ]
  },
  {
   "cell_type": "markdown",
   "id": "lonely-pacific",
   "metadata": {
    "execution": {
     "iopub.execute_input": "2021-07-02T23:32:10.789097Z",
     "iopub.status.busy": "2021-07-02T23:32:10.788829Z",
     "iopub.status.idle": "2021-07-02T23:32:10.796900Z",
     "shell.execute_reply": "2021-07-02T23:32:10.796358Z",
     "shell.execute_reply.started": "2021-07-02T23:32:10.789033Z"
    },
    "papermill": {},
    "tags": []
   },
   "source": [
    "## Output"
   ]
  },
  {
   "cell_type": "markdown",
   "id": "890f7c86-b7bb-4f5d-9a1b-e492dd9580fd",
   "metadata": {
    "papermill": {},
    "tags": []
   },
   "source": [
    "### Save result in csv"
   ]
  },
  {
   "cell_type": "code",
   "execution_count": null,
   "id": "9c4e3b7b-6440-4844-8054-265f1aec65eb",
   "metadata": {
    "papermill": {},
    "tags": []
   },
   "outputs": [],
   "source": [
    "if (next_dt - now_with_timezone).total_seconds() < 3600:\n",
    "    send_sms_google_calendar_events(to_phone_number=twilio_verified_phone_number, message=message)\n",
    "    print('\\n\\nDone🚀')"
   ]
  }
 ],
 "metadata": {
  "kernelspec": {
   "display_name": "Python 3",
   "language": "python",
   "name": "python3"
  },
  "language_info": {
   "codemirror_mode": {
    "name": "ipython",
    "version": 3
   },
   "file_extension": ".py",
   "mimetype": "text/x-python",
   "name": "python",
   "nbconvert_exporter": "python",
   "pygments_lexer": "ipython3",
   "version": "3.9.6"
  },
  "naas": {
   "notebook_id": "9a33bfd7731b24971b0629ffb86419d5e7e45605566c208ce2e82a5e93b81b10",
   "notebook_path": "Twilio/Twilio_Send_SMS_Google_Calendar_Events.ipynb"
  },
  "papermill": {
   "default_parameters": {},
   "environment_variables": {},
   "parameters": {},
   "version": "2.3.3"
  },
  "widgets": {
   "application/vnd.jupyter.widget-state+json": {
    "state": {},
    "version_major": 2,
    "version_minor": 0
   }
  }
 },
 "nbformat": 4,
 "nbformat_minor": 5
}