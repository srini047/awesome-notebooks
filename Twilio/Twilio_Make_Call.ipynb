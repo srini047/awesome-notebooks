{
 "cells": [
  {
   "cell_type": "markdown",
   "id": "62d585e6",
   "metadata": {
    "papermill": {},
    "tags": []
   },
   "source": [
    "<img width=\"10%\" alt=\"Naas\" src=\"https://landen.imgix.net/jtci2pxwjczr/assets/5ice39g4.png?w=160\"/>"
   ]
  },
  {
   "cell_type": "markdown",
   "id": "f9a0a919-3d6e-46cb-a25a-0913bddaff5e",
   "metadata": {
    "papermill": {},
    "tags": [
     "twilio"
    ]
   },
   "source": [
    "# Twilio - Make Call\n",
    "<a href=\"https://app.naas.ai/user-redirect/naas/downloader?url=https://raw.githubusercontent.com/jupyter-naas/awesome-notebooks/master/Twilio/Twilio_Make_Call.ipynb\" target=\"_parent\"><img src=\"https://naasai-public.s3.eu-west-3.amazonaws.com/open_in_naas.svg\"/></a><br><br><a href=\"https://github.com/jupyter-naas/awesome-notebooks/issues/new?assignees=&labels=&template=template-request.md&title=Tool+-+Action+of+the+notebook+\">Template request</a> | <a href=\"https://github.com/jupyter-naas/awesome-notebooks/issues/new?assignees=&labels=bug&template=bug_report.md&title=Twilio+-+Make+Call:+Error+short+description\">Bug report</a>"
   ]
  },
  {
   "cell_type": "markdown",
   "id": "68990820",
   "metadata": {
    "papermill": {},
    "tags": []
   },
   "source": [
    "**Tags:** #twilio #project #call #mobile"
   ]
  },
  {
   "cell_type": "markdown",
   "id": "f880afb8",
   "metadata": {
    "papermill": {},
    "tags": []
   },
   "source": [
    "**Author:** [Sriniketh Jayasendil](https://www.linkedin.com/in/sriniketh-jayasendil/)"
   ]
  },
  {
   "cell_type": "markdown",
   "id": "f3770654-5d5b-4a4b-905b-60b049897fd3",
   "metadata": {
    "papermill": {},
    "tags": []
   },
   "source": [
    "**Description:** This notebook allows us to make a phone call to a verified twilio number. It also has different parameters to customize the output of the voice call."
   ]
  },
  {
   "cell_type": "markdown",
   "id": "a00162bf",
   "metadata": {
    "papermill": {},
    "tags": []
   },
   "source": [
    "## Input"
   ]
  },
  {
   "cell_type": "markdown",
   "id": "d0795dbe-152b-440e-86c5-a1050fbe30d2",
   "metadata": {
    "papermill": {},
    "tags": []
   },
   "source": [
    "## Import libraries"
   ]
  },
  {
   "cell_type": "code",
   "execution_count": null,
   "id": "cd82d02f-1a10-4210-af05-8d8d7d76f71d",
   "metadata": {
    "papermill": {},
    "tags": []
   },
   "outputs": [],
   "source": [
    "import time\n",
    "import naas\n",
    "\n",
    "try:\n",
    "    from twilio.rest import Client\n",
    "except ModuleNotFoundError:\n",
    "    ! pip install twilio\n",
    "    from twilio.rest import Client"
   ]
  },
  {
   "cell_type": "markdown",
   "id": "22950f29",
   "metadata": {
    "papermill": {},
    "tags": []
   },
   "source": [
    "### Setup Twilio"
   ]
  },
  {
   "cell_type": "code",
   "execution_count": null,
   "id": "44fa3425-8674-4560-9c1b-32b5c7fb65f8",
   "metadata": {
    "papermill": {},
    "tags": []
   },
   "outputs": [],
   "source": [
    "account_sid = naas.secret.get(name=\"account_sid\")  # From Twilio Console\n",
    "auth_token = naas.secret.get(name=\"auth_token\")  # From Twilio Console\n",
    "from_number = naas.secret.get(name=\"from_number\")  # From Twilio Console\n",
    "to_number = naas.secret.get(\n",
    "    name=\"to_number\"\n",
    ")  # Could send messages only to verified Caller ID's"
   ]
  },
  {
   "cell_type": "markdown",
   "id": "431fd000-d7f8-4ab8-a9b8-33126ef9965c",
   "metadata": {
    "papermill": {},
    "tags": []
   },
   "source": [
    "## Model\n"
   ]
  },
  {
   "cell_type": "markdown",
   "id": "481e692e-d7f8-48cb-8f6c-63c48103e0a3",
   "metadata": {
    "papermill": {},
    "tags": []
   },
   "source": [
    "### Connect to Twilio"
   ]
  },
  {
   "cell_type": "code",
   "execution_count": null,
   "id": "7c53974b-a461-427a-bc45-34fc5ffb6812",
   "metadata": {
    "papermill": {},
    "tags": []
   },
   "outputs": [],
   "source": [
    "client = Client(account_sid, auth_token)  # Set Client"
   ]
  },
  {
   "cell_type": "markdown",
   "id": "c67911de-6906-4411-b8e9-a3b8cdb041a9",
   "metadata": {
    "papermill": {},
    "tags": []
   },
   "source": [
    "## Output\n"
   ]
  },
  {
   "cell_type": "markdown",
   "id": "32d9455f-aff2-4516-9db2-6cff6c780e22",
   "metadata": {
    "papermill": {},
    "tags": []
   },
   "source": [
    "### Make call"
   ]
  },
  {
   "cell_type": "code",
   "execution_count": null,
   "id": "8f41b897-4d9e-4f37-bd08-2a8ba1b7e22f",
   "metadata": {
    "papermill": {},
    "tags": []
   },
   "outputs": [],
   "source": [
    "call = client.calls.create(\n",
    "    url=\"http://demo.twilio.com/docs/voice.xml\", to=to_number, from_=from_number\n",
    ")\n",
    "\n",
    "time.sleep(5)\n",
    "print(call.sid)"
   ]
  }
 ],
 "metadata": {
  "kernelspec": {
   "display_name": "Python 3",
   "language": "python",
   "name": "python3"
  },
  "language_info": {
   "codemirror_mode": {
    "name": "ipython",
    "version": 3
   },
   "file_extension": ".py",
   "mimetype": "text/x-python",
   "name": "python",
   "nbconvert_exporter": "python",
   "pygments_lexer": "ipython3",
   "version": "3.9.6"
  },
  "papermill": {
   "default_parameters": {},
   "environment_variables": {},
   "parameters": {},
   "version": "2.4.0"
  }
 },
 "nbformat": 4,
 "nbformat_minor": 5
}