{
 "cells": [
  {
   "cell_type": "markdown",
   "id": "latin-packing",
   "metadata": {
    "execution": {
     "iopub.execute_input": "2021-02-23T14:22:16.610471Z",
     "iopub.status.busy": "2021-02-23T14:22:16.610129Z",
     "iopub.status.idle": "2021-02-23T14:22:16.627784Z",
     "shell.execute_reply": "2021-02-23T14:22:16.626866Z",
     "shell.execute_reply.started": "2021-02-23T14:22:16.610384Z"
    },
    "papermill": {},
    "tags": []
   },
   "source": [
    "<img width=\"10%\" alt=\"Naas\" src=\"https://landen.imgix.net/jtci2pxwjczr/assets/5ice39g4.png?w=160\"/>"
   ]
  },
  {
   "cell_type": "markdown",
   "id": "compressed-wilson",
   "metadata": {
    "papermill": {},
    "tags": []
   },
   "source": [
    "# Twilio - Add SMS to Google Sheets spreadsheet\n",
    "<a href=\"https://app.naas.ai/user-redirect/naas/downloader?url=https://raw.githubusercontent.com/jupyter-naas/awesome-notebooks/master/Twilio/Twilio_Add_SMS_to_Google_Sheets_spreadsheet.ipynb\" target=\"_parent\"><img src=\"https://naasai-public.s3.eu-west-3.amazonaws.com/Open_in_Naas_Lab.svg\"/></a><br><br><a href=\"https://github.com/jupyter-naas/awesome-notebooks/issues/new?assignees=&labels=&template=template-request.md&title=Tool+-+Action+of+the+notebook+\">Template request</a> | <a href=\"https://github.com/jupyter-naas/awesome-notebooks/issues/new?assignees=&labels=bug&template=bug_report.md&title=Twilio+-+Add+SMS+to+Google+Sheets+spreadsheet:+Error+short+description\">Bug report</a> | <a href=\"https://app.naas.ai/user-redirect/naas/downloader?url=https://raw.githubusercontent.com/jupyter-naas/awesome-notebooks/master/Naas/Naas_Start_data_product.ipynb\" target=\"_parent\">Generate Data Product</a>"
   ]
  },
  {
   "cell_type": "markdown",
   "id": "religious-programmer",
   "metadata": {
    "papermill": {},
    "tags": []
   },
   "source": [
    "**Tags:** #twilio #google #sheets #googlesheets #send"
   ]
  },
  {
   "cell_type": "markdown",
   "id": "1fe9f56e-561c-4f52-aef8-b861c9462107",
   "metadata": {
    "papermill": {},
    "tags": []
   },
   "source": [
    "**Author:** [Sriniketh Jayasendil](https://www.linkedin.com/in/sriniketh-jayasendil/)"
   ]
  },
  {
   "cell_type": "markdown",
   "id": "31ea7cdb-e10d-43fc-b026-f69249a59736",
   "metadata": {
    "papermill": {},
    "tags": []
   },
   "source": [
    "**Description:** This notebook allows you to log all the messages sent through your Twilio Account into a Google Sheets document. Each new message will be added as a new row, along with the date, time, message ID, and message content. It's a convenient way to keep track of your Twilio activity and make sure you never miss an important message."
   ]
  },
  {
   "cell_type": "markdown",
   "id": "distinguished-truth",
   "metadata": {
    "papermill": {},
    "tags": []
   },
   "source": [
    "## Input"
   ]
  },
  {
   "cell_type": "markdown",
   "id": "numeric-mediterranean",
   "metadata": {
    "papermill": {},
    "tags": []
   },
   "source": [
    "### Import libraries"
   ]
  },
  {
   "cell_type": "code",
   "execution_count": 1,
   "id": "potential-surfing",
   "metadata": {
    "papermill": {},
    "tags": []
   },
   "outputs": [],
   "source": [
    "from datetime import datetime\n",
    "import naas\n",
    "\n",
    "try:\n",
    "    import gspread\n",
    "except ModuleNotFoundError:\n",
    "    !pip install gspread\n",
    "    import gspread\n",
    "\n",
    "try:\n",
    "    from oauth2client.service_account import ServiceAccountCredentials\n",
    "except ModuleNotFoundError:\n",
    "    !pip install oauth2client\n",
    "    from oauth2client.service_account import ServiceAccountCredentials\n",
    "    \n",
    "try:\n",
    "    from twilio.rest import Client\n",
    "except ModuleNotFoundError:\n",
    "    !pip install twilio\n",
    "    from twilio.rest import Client"
   ]
  },
  {
   "cell_type": "markdown",
   "id": "aggressive-trustee",
   "metadata": {
    "papermill": {},
    "tags": []
   },
   "source": [
    "### Setup Variables"
   ]
  },
  {
   "cell_type": "markdown",
   "id": "3e057446-9640-42bf-b3a1-026aab6694b7",
   "metadata": {
    "papermill": {},
    "tags": []
   },
   "source": [
    "1. [Twilio](https://console.twilio.com)\n",
    "\n",
    "- Account SID\n",
    "- Authentication Token\n",
    "- My Twilio phone number\n",
    "- Twilio verified phone number\n",
    "\n",
    "2. [Google Cloud](https://console.cloud.google.com/)\n",
    "\n",
    "- Create a new free cloud project\n",
    "- Go to `API & Services` and enable Google Drive and Sheets API\n",
    "- Then navigate to `Credentials` and create a new service account and provide correct permission (like editor[preferred], viewer, etc.)\n",
    "- Then download the `.json` file in the same directory of the the notebook\n",
    "- Then create a new [google sheet](sheets.new) and give it a name\n",
    "- Go to `.json` file saved earlier and copy the email address from it\n",
    "- Click on `Share` button in the Google sheets and paste the copied email id.\n",
    "\n",
    "Then you are all set to proceed further 🚀"
   ]
  },
  {
   "cell_type": "code",
   "execution_count": 2,
   "id": "continuous-melbourne",
   "metadata": {
    "papermill": {},
    "tags": []
   },
   "outputs": [],
   "source": [
    "#inputs\n",
    "\n",
    "# Twilio\n",
    "account_sid = naas.secret.get(\"TWILIO_ACCOUNT_SID\")\n",
    "auth_token = naas.secret.get(\"TWILIO_AUTH_TOKEN\")\n",
    "twilio_phone_number = naas.secret.get(\"TWILIO_FROM_NUMBER\")\n",
    "twilio_verified_phone_number = naas.secret.get(\"TWILIO_TO_NUMBER\")\n",
    "\n",
    "# Set up Google Sheets credentials\n",
    "scope = ['https://spreadsheets.google.com/feeds', 'https://www.googleapis.com/auth/drive']\n",
    "creds = ServiceAccountCredentials.from_json_keyfile_name('credentials.json', scope)\n",
    "client = gspread.authorize(creds)\n",
    "sheet = client.open('naas-test').sheet1  # Replace with the name of your Google Sheets file\n",
    "\n",
    "# General\n",
    "content = 'Testing Naas + Google Sheets integration'"
   ]
  },
  {
   "cell_type": "markdown",
   "id": "registered-showcase",
   "metadata": {
    "papermill": {},
    "tags": []
   },
   "source": [
    "## Model"
   ]
  },
  {
   "cell_type": "markdown",
   "id": "tested-astrology",
   "metadata": {
    "papermill": {},
    "tags": []
   },
   "source": [
    "### Send SMS (using Twilio) & add the logs as new row inside Google sheets"
   ]
  },
  {
   "cell_type": "code",
   "execution_count": 3,
   "id": "crude-louisville",
   "metadata": {
    "papermill": {},
    "tags": []
   },
   "outputs": [],
   "source": [
    "def send_sms_and_add_to_google_sheets(to_phone_number, message):\n",
    "    # Send SMS using Twilio\n",
    "    client = Client(account_sid, auth_token)\n",
    "    sent_message = client.messages.create(\n",
    "        from_=twilio_phone_number,\n",
    "        to=twilio_verified_phone_number,\n",
    "        body=message)\n",
    "    \n",
    "    # Add new row to Google Sheets\n",
    "    row = [datetime.now().isoformat(), sent_message.sid, sent_message.body]\n",
    "    sheet.append_row(row)\n",
    "\n",
    "    print(sent_message)"
   ]
  },
  {
   "cell_type": "markdown",
   "id": "lonely-pacific",
   "metadata": {
    "execution": {
     "iopub.execute_input": "2021-07-02T23:32:10.789097Z",
     "iopub.status.busy": "2021-07-02T23:32:10.788829Z",
     "iopub.status.idle": "2021-07-02T23:32:10.796900Z",
     "shell.execute_reply": "2021-07-02T23:32:10.796358Z",
     "shell.execute_reply.started": "2021-07-02T23:32:10.789033Z"
    },
    "papermill": {},
    "tags": []
   },
   "source": [
    "## Output"
   ]
  },
  {
   "cell_type": "markdown",
   "id": "890f7c86-b7bb-4f5d-9a1b-e492dd9580fd",
   "metadata": {
    "papermill": {},
    "tags": []
   },
   "source": [
    "### Run the function to log the results"
   ]
  },
  {
   "cell_type": "code",
   "execution_count": 4,
   "id": "9c4e3b7b-6440-4844-8054-265f1aec65eb",
   "metadata": {
    "papermill": {},
    "tags": []
   },
   "outputs": [],
   "source": [
    "send_sms_and_add_to_google_sheets(to_phone_number=twilio_verified_phone_number, message=content)\n",
    "print('\\n\\nDone.')"
   ]
  },
  {
   "cell_type": "code",
   "execution_count": null,
   "id": "51d270ae-65bd-4145-adf8-1a2e7967f58f",
   "metadata": {
    "papermill": {},
    "tags": []
   },
   "outputs": [],
   "source": []
  }
 ],
 "metadata": {
  "kernelspec": {
   "display_name": "Python 3",
   "language": "python",
   "name": "python3"
  },
  "language_info": {
   "codemirror_mode": {
    "name": "ipython",
    "version": 3
   },
   "file_extension": ".py",
   "mimetype": "text/x-python",
   "name": "python",
   "nbconvert_exporter": "python",
   "pygments_lexer": "ipython3",
   "version": "3.9.6"
  },
  "naas": {
   "notebook_id": "2eddf7c217470a6be61c299b0cd813d63d1c4f4786016a3b897ffcf20e36f628",
   "notebook_path": "Twilio/Twilio_Add_SMS_to_Google_Sheets_spreadsheet.ipynb"
  },
  "papermill": {
   "default_parameters": {},
   "environment_variables": {},
   "parameters": {},
   "version": "2.3.3"
  },
  "widgets": {
   "application/vnd.jupyter.widget-state+json": {
    "state": {},
    "version_major": 2,
    "version_minor": 0
   }
  }
 },
 "nbformat": 4,
 "nbformat_minor": 5
}