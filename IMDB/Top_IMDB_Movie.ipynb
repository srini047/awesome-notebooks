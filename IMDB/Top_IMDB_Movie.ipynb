{
 "cells": [
  {
   "cell_type": "markdown",
   "id": "naas-logo",
   "metadata": {
    "papermill": {},
    "tags": [
     "naas"
    ]
   },
   "source": [
    "<img width=\"10%\" alt=\"Naas\" src=\"https://landen.imgix.net/jtci2pxwjczr/assets/5ice39g4.png?w=160\"/>"
   ]
  },
  {
   "cell_type": "markdown",
   "id": "c38301ad-fe71-4b78-921d-75d4b42da0cf",
   "metadata": {
    "papermill": {},
    "tags": []
   },
   "source": [
    "# IMDB - Top  Movie\n",
    "<a href=\"https://app.naas.ai/user-redirect/naas/downloader?url=https://raw.githubusercontent.com/jupyter-naas/awesome-notebooks/master/IMDB/Top_IMDB_Movie.ipynb\" target=\"_parent\"><img src=\"https://naasai-public.s3.eu-west-3.amazonaws.com/Open_in_Naas_Lab.svg\"/></a><br><br><a href=\"https://github.com/jupyter-naas/awesome-notebooks/issues/new?assignees=&labels=&template=template-request.md&title=Tool+-+Action+of+the+notebook+\">Template request</a> | <a href=\"https://github.com/jupyter-naas/awesome-notebooks/issues/new?assignees=&labels=bug&template=bug_report.md&title=IMDB+-+Top++Movie:+Error+short+description\">Bug report</a> | <a href=\"https://app.naas.ai/user-redirect/naas/downloader?url=https://raw.githubusercontent.com/jupyter-naas/awesome-notebooks/master/Naas/Naas_Start_data_product.ipynb\" target=\"_parent\">Generate Data Product</a>"
   ]
  },
  {
   "cell_type": "markdown",
   "id": "5ab33863-3e94-4a5c-a162-17b6a8609e79",
   "metadata": {
    "papermill": {},
    "tags": []
   },
   "source": [
    "**Tags:** #imdb #python #webscraping #imdb #analytics #operations #csv"
   ]
  },
  {
   "cell_type": "markdown",
   "id": "fba23d31-3fde-4d1d-9d02-ebaf01c99d32",
   "metadata": {
    "papermill": {},
    "tags": []
   },
   "source": [
    "**Author:** [Oketunji Oludolapo](https://www.linkedin.com/in/oludolapo-oketunji/)"
   ]
  },
  {
   "cell_type": "markdown",
   "id": "naas-description",
   "metadata": {
    "papermill": {},
    "tags": [
     "description"
    ]
   },
   "source": [
    "**Description:** This notebook provides a list of the top-rated movies according to IMDB ratings."
   ]
  },
  {
   "cell_type": "markdown",
   "id": "0d0e0e38-990b-4378-9d24-e48b5b8ee8ed",
   "metadata": {
    "papermill": {},
    "tags": []
   },
   "source": [
    "## Input"
   ]
  },
  {
   "cell_type": "markdown",
   "id": "3cf32087-01f6-495f-95d9-a42f3a9ae584",
   "metadata": {
    "papermill": {},
    "tags": []
   },
   "source": [
    "### Import libraries"
   ]
  },
  {
   "cell_type": "code",
   "execution_count": null,
   "id": "23c824d1-07eb-42a0-aa41-3952440e2562",
   "metadata": {
    "papermill": {},
    "tags": []
   },
   "outputs": [],
   "source": [
    "try:\n",
    "    import scrapy\n",
    "except:\n",
    "    !pip install scrapy\n",
    "    import scrapy\n",
    "from scrapy.crawler import CrawlerProcess\n",
    "from scrapy.crawler import CrawlerRunner\n",
    "try:\n",
    "    from crochet import setup, wait_for\n",
    "except:\n",
    "    !pip install crochet\n",
    "    from crochet import setup, wait_for\n",
    "setup()"
   ]
  },
  {
   "cell_type": "markdown",
   "id": "6ba363a4-1474-47fa-92d0-fc0a65c8caf8",
   "metadata": {
    "papermill": {},
    "tags": []
   },
   "source": [
    "## Model"
   ]
  },
  {
   "cell_type": "code",
   "execution_count": null,
   "id": "36a559f9-8754-455b-9887-cbf1551b389c",
   "metadata": {
    "papermill": {},
    "tags": []
   },
   "outputs": [],
   "source": [
    "class IMDB(scrapy.Spider):\n",
    "    \"\"\"The scraping class\"\"\"\n",
    "\n",
    "    name = \"movies\"\n",
    "    # Writing the output to a csv file and saving it as sample.csv\n",
    "    custom_settings = {\"FEEDS\": {\"sample.csv\": {\"format\": \"csv\", \"overwrite\": True}}}\n",
    "\n",
    "    def start_requests(self):\n",
    "        \"\"\"The start requests method that holds the url and processes it then send it to the parse method\"\"\"\n",
    "        urls = [\n",
    "            \"https://www.imdb.com/search/title/?title_type=feature&num_votes=25000,&genres=action\",\n",
    "            \"https://www.imdb.com/search/title/?title_type=feature&num_votes=25000,&genres=adventure\",\n",
    "            \"https://www.imdb.com/search/title/?title_type=feature&num_votes=25000,&genres=animation\",\n",
    "            \"https://www.imdb.com/search/title/?title_type=feature&num_votes=25000,&genres=fantasy\",\n",
    "            \"https://www.imdb.com/search/title/?title_type=feature&num_votes=25000,&genres=romance\",\n",
    "        ]\n",
    "        for url in urls:\n",
    "            yield scrapy.Request(url=url, callback=self.parse)\n",
    "\n",
    "    def parse(self, response):\n",
    "        \"\"\"The method that is used for subseting and scraping the websites into acceptable formats\"\"\"\n",
    "        movies = response.css(\"div.lister-item-content\")\n",
    "        for movie in movies:\n",
    "            items = {\n",
    "                \"title\": movie.css(\"h3.lister-item-header\").css(\"a::text\").get(),\n",
    "                \"year\": movie.css(\"span.lister-item-year.text-muted.unbold::text\")\n",
    "                .get()\n",
    "                .replace(\"(\", \"\")\n",
    "                .replace(\")\", \"\")\n",
    "                .replace(\"I\", \"\"),\n",
    "                \"rating\": movie.css(\"span.certificate::text\").get(),\n",
    "                \"duration\": movie.css(\"span.runtime::text\").get(),\n",
    "                \"genre\": movie.css(\"span.genre::text\").get().strip(),\n",
    "                \"Total vote rating\": movie.css(\n",
    "                    \"div.inline-block.ratings-imdb-rating>strong::text\"\n",
    "                ).get(),\n",
    "                \"Number of votes\": movie.css(\n",
    "                    \"p.sort-num_votes-visible>span:nth-of-type(2)::text\"\n",
    "                ).get(),\n",
    "                \"Director\": movie.css(\"p:nth-of-type(3)>a:nth-of-type(1)::text\").get(),\n",
    "            }\n",
    "            yield items\n",
    "            # You can delete the next 3 lines if you need just the first page and not all pages.\n",
    "        next_page = response.css(\"div.desc>a::attr(href)\").get()\n",
    "        if next_page is not None:\n",
    "            yield response.follow(next_page, callback=self.parse)\n",
    "\n",
    "\n",
    "@wait_for(10)  # To avoid reactor time error\n",
    "def run_spider():\n",
    "    \"\"\"run spider\"\"\"\n",
    "    crawler = CrawlerRunner()\n",
    "    result = crawler.crawl(IMDB)\n",
    "    return result"
   ]
  },
  {
   "cell_type": "markdown",
   "id": "e1aad1d9-5888-47fa-a60a-1ff79d94ce33",
   "metadata": {
    "papermill": {},
    "tags": []
   },
   "source": [
    "## Output"
   ]
  },
  {
   "cell_type": "code",
   "execution_count": null,
   "id": "dbd09eb4-f3c9-4ede-9b9a-ba66b95a8144",
   "metadata": {
    "papermill": {},
    "tags": []
   },
   "outputs": [],
   "source": [
    "run_spider()"
   ]
  }
 ],
 "metadata": {
  "kernelspec": {
   "display_name": "Python 3",
   "language": "python",
   "name": "python3"
  },
  "language_info": {
   "codemirror_mode": {
    "name": "ipython",
    "version": 3
   },
   "file_extension": ".py",
   "mimetype": "text/x-python",
   "name": "python",
   "nbconvert_exporter": "python",
   "pygments_lexer": "ipython3",
   "version": "3.9.6"
  },
  "naas": {
   "notebook_id": "d6489bb4d5adeb7d00bb71c99521b750528eb0d76f94b0007a217d5902623f0e",
   "notebook_path": "IMDB/Top_IMDB_Movie.ipynb"
  },
  "papermill": {
   "default_parameters": {},
   "environment_variables": {},
   "parameters": {},
   "version": "2.3.3"
  }
 },
 "nbformat": 4,
 "nbformat_minor": 5
}