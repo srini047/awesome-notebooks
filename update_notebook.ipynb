{
 "cells": [
  {
   "cell_type": "markdown",
   "id": "latin-packing",
   "metadata": {
    "execution": {
     "iopub.execute_input": "2021-02-23T14:22:16.610471Z",
     "iopub.status.busy": "2021-02-23T14:22:16.610129Z",
     "iopub.status.idle": "2021-02-23T14:22:16.627784Z",
     "shell.execute_reply": "2021-02-23T14:22:16.626866Z",
     "shell.execute_reply.started": "2021-02-23T14:22:16.610384Z"
    },
    "papermill": {},
    "tags": []
   },
   "source": [
    "<img width=\"10%\" alt=\"Naas\" src=\"https://landen.imgix.net/jtci2pxwjczr/assets/5ice39g4.png?w=160\"/>"
   ]
  },
  {
   "cell_type": "markdown",
   "id": "compressed-wilson",
   "metadata": {
    "papermill": {},
    "tags": []
   },
   "source": [
    "# Awesome Notebooks - Update\n",
    "<a href=\"https://app.naas.ai/user-redirect/naas/downloader?url=https://raw.githubusercontent.com/jupyter-naas/awesome-notebooks/master/template.ipynb\" target=\"_parent\">\n",
    "<img src=\"https://naasai-public.s3.eu-west-3.amazonaws.com/open_in_naas.svg\"/>\n",
    "</a>"
   ]
  },
  {
   "cell_type": "markdown",
   "id": "religious-programmer",
   "metadata": {},
   "source": [
    "**Tags:** #jupyter #awesome-notebooks"
   ]
  },
  {
   "cell_type": "markdown",
   "id": "1fe9f56e-561c-4f52-aef8-b861c9462107",
   "metadata": {},
   "source": [
    "**Author:** [Florent Ravenel](https://www.linkedin.com/in/florent-ravenel/)"
   ]
  },
  {
   "cell_type": "markdown",
   "id": "2410f9fb-bab6-4840-8897-50ed511b5636",
   "metadata": {
    "execution": {
     "iopub.execute_input": "2023-02-07T09:20:13.967175Z",
     "iopub.status.busy": "2023-02-07T09:20:13.966946Z",
     "iopub.status.idle": "2023-02-07T09:20:13.975072Z",
     "shell.execute_reply": "2023-02-07T09:20:13.974190Z",
     "shell.execute_reply.started": "2023-02-07T09:20:13.967152Z"
    },
    "tags": []
   },
   "source": [
    "**Description:** This notebook update all notebooks in this repository based on specific rules."
   ]
  },
  {
   "cell_type": "markdown",
   "id": "distinguished-truth",
   "metadata": {
    "papermill": {},
    "tags": []
   },
   "source": [
    "## Input"
   ]
  },
  {
   "cell_type": "markdown",
   "id": "numeric-mediterranean",
   "metadata": {},
   "source": [
    "### Import libraries"
   ]
  },
  {
   "cell_type": "code",
   "execution_count": null,
   "id": "potential-surfing",
   "metadata": {
    "tags": []
   },
   "outputs": [],
   "source": [
    "import glob\n",
    "import naas\n",
    "import requests\n",
    "import pandas as pd\n",
    "from pprint import pprint\n",
    "import json\n",
    "try:\n",
    "    import openai\n",
    "except:\n",
    "    !pip install openai --user\n",
    "    import openai\n",
    "import uuid\n",
    "import time\n",
    "import subprocess\n",
    "import re"
   ]
  },
  {
   "cell_type": "markdown",
   "id": "03342ab4-3fc9-4f44-bcda-0a42dbe00e06",
   "metadata": {},
   "source": [
    "### Setup Variables"
   ]
  },
  {
   "cell_type": "code",
   "execution_count": null,
   "id": "00eceaac-3b26-4997-a679-234905636c26",
   "metadata": {
    "tags": []
   },
   "outputs": [],
   "source": [
    "# Inputs\n",
    "repo_url = \"https://github.com/jupyter-naas/awesome-notebooks\"\n",
    "GITHUB_TOKEN = naas.secret.get(\"GITHUB_TOKEN\")\n",
    "openai.api_key = naas.secret.get(name=\"OPENAI_API_KEY\") or \"ENTER_YOUR_OPENAI_API_KEY\""
   ]
  },
  {
   "cell_type": "markdown",
   "id": "registered-showcase",
   "metadata": {},
   "source": [
    "## Model"
   ]
  },
  {
   "cell_type": "markdown",
   "id": "6b3c7732-8e39-41d8-be47-4a2288c7d809",
   "metadata": {
    "execution": {
     "iopub.execute_input": "2022-01-22T13:48:53.656270Z",
     "iopub.status.busy": "2022-01-22T13:48:53.656043Z",
     "iopub.status.idle": "2022-01-22T13:48:53.658818Z",
     "shell.execute_reply": "2022-01-22T13:48:53.658211Z",
     "shell.execute_reply.started": "2022-01-22T13:48:53.656247Z"
    },
    "papermill": {},
    "tags": []
   },
   "source": [
    "### Get current notebooks from master branch"
   ]
  },
  {
   "cell_type": "code",
   "execution_count": null,
   "id": "e7982fe6-3105-493c-bda3-1887d6908f6c",
   "metadata": {
    "tags": []
   },
   "outputs": [],
   "source": [
    "def get_notebooks(commit_id):\n",
    "    notebooks = []\n",
    "    headers = {'Authorization': f'token {GITHUB_TOKEN}'}\n",
    "    url = f\"https://api.github.com/repos/jupyter-naas/awesome-notebooks/git/trees/{commit_id}?recursive=1\"\n",
    "    res = requests.get(url, headers=headers)\n",
    "    res.raise_for_status()\n",
    "    res_json = res.json()\n",
    "\n",
    "    trees = res_json.get(\"tree\")\n",
    "    for file in trees:\n",
    "        if \".github\" not in file.get(\"path\") and \".gitignore\" not in file.get(\"path\") and \"/\" in file.get(\"path\"):\n",
    "            if file.get(\"path\").endswith(\".ipynb\"):\n",
    "                temp = file.get(\"path\").split(\"/\")\n",
    "                if temp == -1:\n",
    "                    data = {\n",
    "                        \"ROOT\": None,\n",
    "                        \"SUBDIR\": file.get(\"path\"),\n",
    "                        \"ID\": file.get(\"sha\"),\n",
    "                        \"URL\": file.get(\"url\"),\n",
    "                    }\n",
    "                    notebooks.append(data)\n",
    "                else:\n",
    "                    last_folder = \"\"\n",
    "                    file_name = temp[-1]\n",
    "                    temp.pop()\n",
    "                    for folder in temp:\n",
    "                        last_folder += \"/\" + folder\n",
    "                    root = last_folder[1:]\n",
    "                    data = {\n",
    "                        \"ROOT\": root,\n",
    "                        \"SUBDIR\": file_name,\n",
    "                        \"ID\": file.get(\"sha\"),\n",
    "                        \"URL\": file.get(\"url\"),\n",
    "                    }\n",
    "                    notebooks.append(data)\n",
    "    df = pd.DataFrame(notebooks)\n",
    "    df[\"CONTENT_URL\"] = \"https://raw.githubusercontent.com/jupyter-naas/awesome-notebooks/master/\" + df[\"ROOT\"] + \"/\" + df[\"SUBDIR\"]\n",
    "    df[\"GITHUB_URL\"] = (\"https://github.com/jupyter-naas/awesome-notebooks/blob/master/\" + df[\"ROOT\"] + \"/\" + df[\"SUBDIR\"]).str.replace(\" \", \"%20\")\n",
    "    return df\n",
    "\n",
    "df_notebooks = get_notebooks(\"master\")\n",
    "print(\"-> Awesome Notebooks fecthed:\", len(df_notebooks))\n",
    "df_notebooks.head(1)"
   ]
  },
  {
   "cell_type": "markdown",
   "id": "9b3f057c-c370-4abe-be5e-701690e93150",
   "metadata": {},
   "source": [
    "### Get all notebooks in locals"
   ]
  },
  {
   "cell_type": "code",
   "execution_count": null,
   "id": "eee7e7d5-a5c0-4468-a604-44df9377585f",
   "metadata": {
    "tags": []
   },
   "outputs": [],
   "source": [
    "notebooks = sorted(glob.glob('*/*.ipynb', recursive=True))\n",
    "print(\"-> Local Notebooks fecthed:\", len(notebooks))\n",
    "notebooks[0]"
   ]
  },
  {
   "cell_type": "markdown",
   "id": "83e4bbb8-f730-4d17-99ed-c794a14ddf4b",
   "metadata": {},
   "source": [
    "### Create notebook description"
   ]
  },
  {
   "cell_type": "code",
   "execution_count": null,
   "id": "17eeac7e-1db2-43a7-b63c-4ec6d82c7212",
   "metadata": {
    "tags": []
   },
   "outputs": [],
   "source": [
    "def create_description(title):\n",
    "    # Create completion\n",
    "    response = openai.Completion.create(\n",
    "      model=\"text-davinci-003\",\n",
    "      prompt=f'Can you create a description for this notebook in one sentence: \"{title}\"',\n",
    "      temperature=0,\n",
    "      max_tokens=2084,\n",
    "    )\n",
    "\n",
    "    # Extract the generated text\n",
    "    text = response[\"choices\"][0][\"text\"].strip()\n",
    "    \n",
    "    # Sleep\n",
    "    time.sleep(3)\n",
    "    return text\n",
    "\n",
    "# title = \"Excel - Apply Custom Styles\"\n",
    "# create_description(title)"
   ]
  },
  {
   "cell_type": "markdown",
   "id": "tested-astrology",
   "metadata": {},
   "source": [
    "### Update notebook"
   ]
  },
  {
   "cell_type": "code",
   "execution_count": null,
   "id": "crude-louisville",
   "metadata": {
    "papermill": {},
    "tags": []
   },
   "outputs": [],
   "source": [
    "def update_notebook(notebook_path):\n",
    "    # Init \n",
    "    new_cells = []\n",
    "    \n",
    "    \n",
    "    # Open notebook\n",
    "    with open(notebook_path) as f:\n",
    "        nb = json.load(f)\n",
    "        \n",
    "    # Get all cellls\n",
    "    cells = nb.get(\"cells\")\n",
    "    \n",
    "    # Title\n",
    "    title = cells[1]\n",
    "    title_type = title.get(\"cell_type\")\n",
    "    title_source = title.get(\"source\")[0].replace(\"#\", \"\").strip()\n",
    "    \n",
    "    # Description\n",
    "    desc = cells[4]\n",
    "    desc_type = desc.get(\"cell_type\")\n",
    "    desc_source = desc.get(\"source\")\n",
    "    if isinstance(desc_source, list):\n",
    "        desc_source = desc_source[0]\n",
    "    \n",
    "    # ## Input\n",
    "    section_i = cells[5]\n",
    "    section_i_type = section_i.get(\"cell_type\")\n",
    "    section_i_source = section_i.get(\"source\")[0]\n",
    "    \n",
    "    # Check description\n",
    "    create_desc = False\n",
    "    rewrite_desc = False\n",
    "    if desc_type == \"markdown\" and desc_source == '## Input':\n",
    "        print(f\"Creating description: {title_source}\")\n",
    "        create_desc = True\n",
    "        description = create_description(title_source)\n",
    "        new_description = f\"**Description:** {description}\"\n",
    "        print(new_description)\n",
    "\n",
    "    elif desc_type == \"markdown\" and not desc_source.startswith(\"**Description:**\") and (section_i_source == '## Input' or section_i_source.startswith(\"<div class\")):\n",
    "        print(f\"Updating description: {title_source}\")\n",
    "        rewrite_desc = True\n",
    "        description = create_description(title_source)\n",
    "        new_description = f\"**Description:** {description}\"\n",
    "        print(new_description)\n",
    "  \n",
    "    # Apply change\n",
    "    new_cells = []\n",
    "    for index, cell in enumerate(cells):\n",
    "        if index == 4 and create_desc:\n",
    "            cell_desc = {\n",
    "                'cell_type': 'markdown',\n",
    "                'id': 'naas-description',\n",
    "                'metadata': {'papermill': {}, 'tags': [\"description\"]},\n",
    "                'source': [new_description]\n",
    "            }\n",
    "            new_cells.append(cell_desc)\n",
    "        elif index == 4 and rewrite_desc:\n",
    "            cell = {\n",
    "                'cell_type': 'markdown',\n",
    "                'id': 'naas-description',\n",
    "                'metadata': {'papermill': {}, 'tags': [\"description\"]},\n",
    "                'source': [new_description]\n",
    "            }\n",
    "        new_cells.append(cell)\n",
    "                \n",
    "    if create_desc or rewrite_desc:\n",
    "        # Save notebook\n",
    "        nb_new = nb.copy()\n",
    "        nb_new[\"cells\"] = new_cells\n",
    "#         nb_new[\"metadata\"][\"naas\"] = {\"notebook_path\": notebook_path.replace(\"./\", \"\"),\n",
    "#                                       \"notebook_id\": str(uuid.uuid4())}\n",
    "        with open(notebook_path, 'w') as f:\n",
    "            json.dump(nb_new, f, indent=1)\n",
    "        print(f\"✔️ {notebook_path} saved in Naas.\")\n",
    "    \n",
    "# update_notebook(notebooks[0])"
   ]
  },
  {
   "cell_type": "markdown",
   "id": "85558ab6-0ede-4c03-a88a-ad4b4a73c3b4",
   "metadata": {},
   "source": [
    "### Run black"
   ]
  },
  {
   "cell_type": "code",
   "execution_count": null,
   "id": "a58da941-5021-4203-b48c-14c05665e876",
   "metadata": {
    "tags": []
   },
   "outputs": [],
   "source": [
    "def run_black(file):\n",
    "    # Open file\n",
    "    with open(file) as f:\n",
    "        nb = json.load(f)\n",
    "        \n",
    "    # Get init cells\n",
    "    cells_init = nb['cells']\n",
    "    \n",
    "    # Apply black on cells\n",
    "    for cell in nb['cells']:\n",
    "        if cell['cell_type'] == 'code':\n",
    "            code = cell['source']\n",
    "            code = \"\".join(code)\n",
    "            result = subprocess.run(['black', '-', '--fast'], input=code.encode(), stdout=subprocess.PIPE, stderr=subprocess.PIPE)\n",
    "            if result.stdout:\n",
    "                cells_change = True\n",
    "                new_code = result.stdout.decode()\n",
    "                if new_code.endswith(\"\\n\"):\n",
    "                    new_code = new_code[:-1]\n",
    "                cell['source'] = new_code\n",
    "    \n",
    "    # Save file if changes applied\n",
    "    if cells_init != nb['cells']:       \n",
    "        with open(file, 'w') as f:\n",
    "            json.dump(nb, f, indent=1)\n",
    "        print(f\"✔️ Black apply to your notebook: {file}\")"
   ]
  },
  {
   "cell_type": "markdown",
   "id": "lonely-pacific",
   "metadata": {
    "execution": {
     "iopub.execute_input": "2021-07-02T23:32:10.789097Z",
     "iopub.status.busy": "2021-07-02T23:32:10.788829Z",
     "iopub.status.idle": "2021-07-02T23:32:10.796900Z",
     "shell.execute_reply": "2021-07-02T23:32:10.796358Z",
     "shell.execute_reply.started": "2021-07-02T23:32:10.789033Z"
    }
   },
   "source": [
    "## Output"
   ]
  },
  {
   "cell_type": "markdown",
   "id": "linear-address",
   "metadata": {},
   "source": [
    "### Update all awesome notebooks"
   ]
  },
  {
   "cell_type": "code",
   "execution_count": null,
   "id": "32e75ebc-bbc7-49bb-9cdf-27204be1b26e",
   "metadata": {
    "tags": []
   },
   "outputs": [],
   "source": [
    "awesome_notebooks = df_notebooks[\"SUBDIR\"].unique()\n",
    "# Loop on awesome-notebook dir\n",
    "for index, notebook in enumerate(notebooks):\n",
    "    notebook_name = notebook.split(\"/\")[-1]\n",
    "    if notebook_name in awesome_notebooks:\n",
    "        print(index, notebook_name)\n",
    "#         update_notebook(notebook)\n",
    "        run_black(notebook)"
   ]
  },
  {
   "cell_type": "code",
   "execution_count": null,
   "id": "b6768a72-48cf-475b-9659-abce23d15d5d",
   "metadata": {},
   "outputs": [],
   "source": []
  }
 ],
 "metadata": {
  "kernelspec": {
   "display_name": "Python 3",
   "language": "python",
   "name": "python3"
  },
  "language_info": {
   "codemirror_mode": {
    "name": "ipython",
    "version": 3
   },
   "file_extension": ".py",
   "mimetype": "text/x-python",
   "name": "python",
   "nbconvert_exporter": "python",
   "pygments_lexer": "ipython3",
   "version": "3.9.6"
  },
  "papermill": {
   "default_parameters": {},
   "environment_variables": {},
   "parameters": {},
   "version": "2.3.3"
  },
  "widgets": {
   "application/vnd.jupyter.widget-state+json": {
    "state": {},
    "version_major": 2,
    "version_minor": 0
   }
  }
 },
 "nbformat": 4,
 "nbformat_minor": 5
}
