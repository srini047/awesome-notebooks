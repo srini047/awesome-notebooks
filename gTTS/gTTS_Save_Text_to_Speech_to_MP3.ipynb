{
 "cells": [
  {
   "cell_type": "markdown",
   "id": "50267fc2-3b60-4144-9827-1d91f9033d5a",
   "metadata": {
    "papermill": {},
    "tags": []
   },
   "source": [
    "<img width=\"10%\" alt=\"Naas\" src=\"https://landen.imgix.net/jtci2pxwjczr/assets/5ice39g4.png?w=160\"/>"
   ]
  },
  {
   "cell_type": "markdown",
   "id": "3a18b511-15e6-45cd-a6bb-7b9438d129ee",
   "metadata": {
    "papermill": {},
    "tags": []
   },
   "source": [
    "# gTTS - Save Text to Speech to MP3\n",
    "<a href=\"https://app.naas.ai/user-redirect/naas/downloader?url=https://raw.githubusercontent.com/jupyter-naas/awesome-notebooks/master/gTTS/gTTS_Save_Text_to_Speech_to_MP3.ipynb\" target=\"_parent\"><img src=\"https://naasai-public.s3.eu-west-3.amazonaws.com/Open_in_Naas_Lab.svg\"/></a><br><br><a href=\"https://github.com/jupyter-naas/awesome-notebooks/issues/new?assignees=&labels=&template=template-request.md&title=Tool+-+Action+of+the+notebook+\">Template request</a> | <a href=\"https://github.com/jupyter-naas/awesome-notebooks/issues/new?assignees=&labels=bug&template=bug_report.md&title=gTTS+-+Save+Text+to+Speech+to+MP3:+Error+short+description\">Bug report</a> | <a href=\"https://app.naas.ai/user-redirect/naas/downloader?url=https://raw.githubusercontent.com/jupyter-naas/awesome-notebooks/master/Naas/Naas_Start_data_product.ipynb\" target=\"_parent\">Generate Data Product</a>"
   ]
  },
  {
   "cell_type": "markdown",
   "id": "c0db973c-88e4-4564-a10b-083d675515e7",
   "metadata": {
    "papermill": {},
    "tags": []
   },
   "source": [
    "**Tags:** #gTTS #texttospeech #mp3 #python #library #audio"
   ]
  },
  {
   "cell_type": "markdown",
   "id": "ba0e16df-b4cf-4c4a-8b96-6ee7daaa2b8d",
   "metadata": {
    "papermill": {},
    "tags": []
   },
   "source": [
    "**Author:** [Sriniketh Jayasendil](http://linkedin.com/in/sriniketh-jayasendil/)"
   ]
  },
  {
   "cell_type": "markdown",
   "id": "4e999280-cbcf-4d37-9ead-3c7ac53f86f5",
   "metadata": {
    "papermill": {},
    "tags": []
   },
   "source": [
    "**Description:** This notebook will demonstrate how to use the gTTS library to save text to speech as an MP3 file."
   ]
  },
  {
   "cell_type": "markdown",
   "id": "e977b9fa-c7ae-46d5-b644-9eca29bcee02",
   "metadata": {
    "papermill": {},
    "tags": []
   },
   "source": [
    "**References:**\n",
    "- [gTTS Documentation](https://pypi.org/project/gTTS/)\n",
    "- [gTTS GitHub Repository](https://github.com/pndurette/gTTS)"
   ]
  },
  {
   "cell_type": "markdown",
   "id": "4016d533-aae6-442b-abbc-8619ef9e5d41",
   "metadata": {
    "papermill": {},
    "tags": []
   },
   "source": [
    "## Input"
   ]
  },
  {
   "cell_type": "markdown",
   "id": "6e61d168-e9ce-489f-bb4a-0cf6a42e005e",
   "metadata": {
    "papermill": {},
    "tags": []
   },
   "source": [
    "### Import libraries"
   ]
  },
  {
   "cell_type": "code",
   "execution_count": null,
   "id": "7ab7bdb9-ea5a-44f2-98b9-80eaed0de407",
   "metadata": {
    "papermill": {},
    "tags": []
   },
   "outputs": [],
   "source": [
    "try:\n",
    "    from gtts import gTTS\n",
    "\n",
    "except ModuleNotFoundError:\n",
    "    !pip install gTTS\n",
    "    from gtts import gTTS"
   ]
  },
  {
   "cell_type": "markdown",
   "id": "d1fc8e4a-cb52-450b-94c2-0dc5baeb7c80",
   "metadata": {
    "papermill": {},
    "tags": []
   },
   "source": [
    "### Setup Variables\n",
    "- `text`: Text to be converted to speech"
   ]
  },
  {
   "cell_type": "code",
   "execution_count": null,
   "id": "8f398bad-9aab-44bf-8bdd-1e0d8dfd38e0",
   "metadata": {
    "papermill": {},
    "tags": []
   },
   "outputs": [],
   "source": [
    "text = \"This is a demonstration of the gTTS library\""
   ]
  },
  {
   "cell_type": "markdown",
   "id": "74d64701-fa0f-464f-8de0-c500fa2959d7",
   "metadata": {
    "papermill": {},
    "tags": []
   },
   "source": [
    "## Model"
   ]
  },
  {
   "cell_type": "markdown",
   "id": "ca9a4781-142e-42ac-9d2d-47eaa750a833",
   "metadata": {
    "papermill": {},
    "tags": []
   },
   "source": [
    "### Convert Text to Speech"
   ]
  },
  {
   "cell_type": "markdown",
   "id": "e528de12-041c-4fc7-ba01-51dcb65c810e",
   "metadata": {
    "papermill": {},
    "tags": []
   },
   "source": [
    "This code will convert the text to speech and save it as an MP3 file."
   ]
  },
  {
   "cell_type": "code",
   "execution_count": null,
   "id": "e4025fb1-d883-4324-8780-c00288eedca6",
   "metadata": {
    "papermill": {},
    "tags": []
   },
   "outputs": [],
   "source": [
    "tts = gTTS(text=text, lang=\"en\")\n",
    "tts.save(\"text_to_speech.mp3\")"
   ]
  },
  {
   "cell_type": "markdown",
   "id": "c721c532-125e-4791-94c8-32b12ad9c0fe",
   "metadata": {
    "papermill": {},
    "tags": []
   },
   "source": [
    "## Output"
   ]
  },
  {
   "cell_type": "markdown",
   "id": "2da81c5f-25bc-4240-b587-cec4eb61e324",
   "metadata": {
    "papermill": {},
    "tags": []
   },
   "source": [
    "### Display result"
   ]
  },
  {
   "cell_type": "markdown",
   "id": "4904ec7a-045d-480d-aa56-817e6e52720c",
   "metadata": {
    "papermill": {},
    "tags": []
   },
   "source": [
    "This code will display the result of the conversion."
   ]
  },
  {
   "cell_type": "code",
   "execution_count": null,
   "id": "d19605c8-cc2e-48ef-b1dd-c2c56db05bf9",
   "metadata": {
    "papermill": {},
    "tags": []
   },
   "outputs": [],
   "source": [
    "print(\"Text to Speech conversion successful!\")"
   ]
  },
  {
   "cell_type": "markdown",
   "id": "313a1324-4f70-43ba-9f13-ef75f45f96f7",
   "metadata": {
    "papermill": {},
    "tags": []
   },
   "source": [
    " "
   ]
  }
 ],
 "metadata": {
  "kernelspec": {
   "display_name": "Python 3",
   "language": "python",
   "name": "python3"
  },
  "language_info": {
   "codemirror_mode": {
    "name": "ipython",
    "version": 3
   },
   "file_extension": ".py",
   "mimetype": "text/x-python",
   "name": "python",
   "nbconvert_exporter": "python",
   "pygments_lexer": "ipython3",
   "version": "3.9.6"
  },
  "naas": {
   "notebook_id": "9393d951ab135f69cd1aadae8c73b1974891c6586136f3e62aa631501ed53fab",
   "notebook_path": "gTTS/gTTS_Save_Text_to_Speech_to_MP3.ipynb"
  },
  "papermill": {
   "default_parameters": {},
   "environment_variables": {},
   "parameters": {},
   "version": "2.4.0"
  },
  "widgets": {
   "application/vnd.jupyter.widget-state+json": {
    "state": {},
    "version_major": 2,
    "version_minor": 0
   }
  }
 },
 "nbformat": 4,
 "nbformat_minor": 5
}