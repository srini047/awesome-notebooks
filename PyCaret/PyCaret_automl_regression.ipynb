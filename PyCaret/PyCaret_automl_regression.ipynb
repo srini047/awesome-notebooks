{
 "cells": [
  {
   "cell_type": "markdown",
   "id": "latin-packing",
   "metadata": {
    "execution": {
     "iopub.execute_input": "2021-02-23T14:22:16.610471Z",
     "iopub.status.busy": "2021-02-23T14:22:16.610129Z",
     "iopub.status.idle": "2021-02-23T14:22:16.627784Z",
     "shell.execute_reply": "2021-02-23T14:22:16.626866Z",
     "shell.execute_reply.started": "2021-02-23T14:22:16.610384Z"
    },
    "papermill": {},
    "tags": []
   },
   "source": [
    "<img width=\"10%\" alt=\"Naas\" src=\"https://landen.imgix.net/jtci2pxwjczr/assets/5ice39g4.png?w=160\"/>"
   ]
  },
  {
   "cell_type": "markdown",
   "id": "compressed-wilson",
   "metadata": {
    "papermill": {},
    "tags": []
   },
   "source": [
    "# PyCaret - Automl regression\n",
    "<a href=\"https://app.naas.ai/user-redirect/naas/downloader?url=https://raw.githubusercontent.com/jupyter-naas/awesome-notebooks/master/PyCaret/PyCaret_automl_regression.ipynb\" target=\"_parent\"><img src=\"https://naasai-public.s3.eu-west-3.amazonaws.com/Open_in_Naas_Lab.svg\"/></a><br><br><a href=\"https://github.com/jupyter-naas/awesome-notebooks/issues/new?assignees=&labels=&template=template-request.md&title=Tool+-+Action+of+the+notebook+\">Template request</a> | <a href=\"https://github.com/jupyter-naas/awesome-notebooks/issues/new?assignees=&labels=bug&template=bug_report.md&title=PyCaret+-+Automl+regression:+Error+short+description\">Bug report</a> | <a href=\"https://app.naas.ai/user-redirect/naas/downloader?url=https://raw.githubusercontent.com/jupyter-naas/awesome-notebooks/master/Naas/Naas_Start_data_product.ipynb\" target=\"_parent\">Generate Data Product</a>"
   ]
  },
  {
   "cell_type": "markdown",
   "id": "religious-programmer",
   "metadata": {
    "papermill": {},
    "tags": []
   },
   "source": [
    "**Tags:** #automl #pandas #snippet #regression #dataframe #visualize #pycaret #operations"
   ]
  },
  {
   "cell_type": "markdown",
   "id": "1fe9f56e-561c-4f52-aef8-b861c9462107",
   "metadata": {
    "papermill": {},
    "tags": []
   },
   "source": [
    "**Author:** [Minura Punchihewa](https://www.linkedin.com/in/minurapunchihewa/)"
   ]
  },
  {
   "cell_type": "markdown",
   "id": "naas-description",
   "metadata": {
    "papermill": {},
    "tags": [
     "description"
    ]
   },
   "source": [
    "**Description:** This notebook demonstrates how to use PyCaret's automated machine learning capabilities to perform regression tasks."
   ]
  },
  {
   "cell_type": "markdown",
   "id": "distinguished-truth",
   "metadata": {
    "papermill": {},
    "tags": []
   },
   "source": [
    "## Input"
   ]
  },
  {
   "cell_type": "markdown",
   "id": "numeric-mediterranean",
   "metadata": {
    "papermill": {},
    "tags": []
   },
   "source": [
    "### Import libraries"
   ]
  },
  {
   "cell_type": "code",
   "execution_count": 2,
   "id": "potential-surfing",
   "metadata": {
    "papermill": {},
    "tags": []
   },
   "outputs": [],
   "source": [
    "import pandas as pd\n",
    "\n",
    "try:\n",
    "    from pycaret.regression import setup, compare_models, evaluate_model, predict_model, finalize_model, \\\n",
    "         save_model, load_model, create_docker\n",
    "except:\n",
    "    !pip install --user pycaret\n",
    "    from pycaret.regression import setup, compare_models, evaluate_model, predict_model, finalize_model, \\\n",
    "     save_model, load_model, create_docker"
   ]
  },
  {
   "cell_type": "markdown",
   "id": "aggressive-trustee",
   "metadata": {
    "papermill": {},
    "tags": []
   },
   "source": [
    "### Variables"
   ]
  },
  {
   "cell_type": "code",
   "execution_count": 3,
   "id": "continuous-melbourne",
   "metadata": {
    "papermill": {},
    "tags": []
   },
   "outputs": [],
   "source": [
    "csv_path = \"https://raw.githubusercontent.com/MinuraPunchihewa/pycaret-automl/main/data/wine-quality.csv\"\n",
    "target_column = \"quality\""
   ]
  },
  {
   "cell_type": "markdown",
   "id": "registered-showcase",
   "metadata": {
    "papermill": {},
    "tags": []
   },
   "source": [
    "## Model"
   ]
  },
  {
   "cell_type": "markdown",
   "id": "tested-astrology",
   "metadata": {
    "papermill": {},
    "tags": []
   },
   "source": [
    "### Read the CSV from path"
   ]
  },
  {
   "cell_type": "code",
   "execution_count": 4,
   "id": "crude-louisville",
   "metadata": {
    "papermill": {},
    "tags": []
   },
   "outputs": [],
   "source": [
    "df = pd.read_csv(csv_path)"
   ]
  },
  {
   "cell_type": "markdown",
   "id": "fe83159c",
   "metadata": {
    "papermill": {},
    "tags": []
   },
   "source": [
    "### View a sample of the data"
   ]
  },
  {
   "cell_type": "code",
   "execution_count": 5,
   "id": "1bcd29f0",
   "metadata": {
    "papermill": {},
    "tags": []
   },
   "outputs": [],
   "source": [
    "df.head()"
   ]
  },
  {
   "cell_type": "markdown",
   "id": "dc256d30",
   "metadata": {
    "papermill": {},
    "tags": []
   },
   "source": [
    "### Setup the dataset"
   ]
  },
  {
   "cell_type": "code",
   "execution_count": 6,
   "id": "dbd19cb1",
   "metadata": {
    "papermill": {},
    "tags": []
   },
   "outputs": [],
   "source": [
    "# must be called before executing any other function\n",
    "# change target column as required\n",
    "# can configure many types of transformation operations\n",
    "# by default Missing Value Imputation, One-Hot Encoding and Train-Test Split operations will be performed\n",
    "# press enter to continue\n",
    "grid = setup(data=df, target=target_column)"
   ]
  },
  {
   "cell_type": "markdown",
   "id": "7d8284e0",
   "metadata": {
    "papermill": {},
    "tags": []
   },
   "source": [
    "### Train and compare all supported models"
   ]
  },
  {
   "cell_type": "code",
   "execution_count": 7,
   "id": "f0e5510c",
   "metadata": {
    "papermill": {},
    "tags": []
   },
   "outputs": [],
   "source": [
    "# uses cross-validation\n",
    "best_model = compare_models()"
   ]
  },
  {
   "cell_type": "markdown",
   "id": "c6487ee0",
   "metadata": {
    "papermill": {},
    "tags": []
   },
   "source": [
    "### Report the best model"
   ]
  },
  {
   "cell_type": "code",
   "execution_count": 8,
   "id": "e76d4cb1",
   "metadata": {
    "papermill": {},
    "tags": []
   },
   "outputs": [],
   "source": [
    "print(best_model)"
   ]
  },
  {
   "cell_type": "markdown",
   "id": "fc5267fa",
   "metadata": {
    "papermill": {},
    "tags": []
   },
   "source": [
    "### Evaluate the model using a number of different plots"
   ]
  },
  {
   "cell_type": "code",
   "execution_count": 9,
   "id": "35ef67c0",
   "metadata": {
    "papermill": {},
    "tags": []
   },
   "outputs": [],
   "source": [
    "# click on the different plot types to exlpore\n",
    "# some plots may not work depending on the data and the model\n",
    "evaluate_model(best_model)"
   ]
  },
  {
   "cell_type": "markdown",
   "id": "23941997",
   "metadata": {
    "papermill": {},
    "tags": []
   },
   "source": [
    "### Make predictions on new data"
   ]
  },
  {
   "cell_type": "code",
   "execution_count": 10,
   "id": "b364c9a7",
   "metadata": {
    "papermill": {},
    "tags": []
   },
   "outputs": [],
   "source": [
    "# data should be a DataFrame without label\n",
    "# predict_model(best_model, new_data)"
   ]
  },
  {
   "cell_type": "markdown",
   "id": "0cd8edb7",
   "metadata": {
    "papermill": {},
    "tags": []
   },
   "source": [
    "### Finalize model"
   ]
  },
  {
   "cell_type": "code",
   "execution_count": 11,
   "id": "a3e56bf8",
   "metadata": {
    "papermill": {},
    "tags": []
   },
   "outputs": [],
   "source": [
    "# trains the model on the entire dataset including the hold-out set\n",
    "# does not change any parameter of the model\n",
    "final_model = finalize_model(best_model)"
   ]
  },
  {
   "cell_type": "markdown",
   "id": "lonely-pacific",
   "metadata": {
    "execution": {
     "iopub.execute_input": "2021-07-02T23:32:10.789097Z",
     "iopub.status.busy": "2021-07-02T23:32:10.788829Z",
     "iopub.status.idle": "2021-07-02T23:32:10.796900Z",
     "shell.execute_reply": "2021-07-02T23:32:10.796358Z",
     "shell.execute_reply.started": "2021-07-02T23:32:10.789033Z"
    },
    "papermill": {},
    "tags": []
   },
   "source": [
    "## Output"
   ]
  },
  {
   "cell_type": "markdown",
   "id": "890f7c86-b7bb-4f5d-9a1b-e492dd9580fd",
   "metadata": {
    "papermill": {},
    "tags": []
   },
   "source": [
    "### Save model as a pickle file"
   ]
  },
  {
   "cell_type": "code",
   "execution_count": 12,
   "id": "9c4e3b7b-6440-4844-8054-265f1aec65eb",
   "metadata": {
    "papermill": {},
    "tags": []
   },
   "outputs": [],
   "source": [
    "save_model(final_model, \"regression_model\")"
   ]
  },
  {
   "cell_type": "markdown",
   "id": "94366d49",
   "metadata": {
    "papermill": {},
    "tags": []
   },
   "source": [
    "### Load saved model from pickle file"
   ]
  },
  {
   "cell_type": "code",
   "execution_count": 13,
   "id": "7cb5fe01",
   "metadata": {
    "papermill": {},
    "tags": []
   },
   "outputs": [],
   "source": [
    "model = load_model(\"regression_model\")"
   ]
  },
  {
   "cell_type": "markdown",
   "id": "e5e13120",
   "metadata": {
    "papermill": {},
    "tags": []
   },
   "source": [
    "### Create Dockerfile for model"
   ]
  },
  {
   "cell_type": "code",
   "execution_count": 14,
   "id": "7622a320",
   "metadata": {
    "papermill": {},
    "tags": []
   },
   "outputs": [],
   "source": [
    "# also creates a requirements.txt file for dependencies\n",
    "create_docker(\"regression_model\")"
   ]
  }
 ],
 "metadata": {
  "kernelspec": {
   "display_name": "Python 3",
   "language": "python",
   "name": "python3"
  },
  "language_info": {
   "codemirror_mode": {
    "name": "ipython",
    "version": 3
   },
   "file_extension": ".py",
   "mimetype": "text/x-python",
   "name": "python",
   "nbconvert_exporter": "python",
   "pygments_lexer": "ipython3",
   "version": "3.9.6"
  },
  "naas": {
   "notebook_id": "7836b18a1acc436173deeed60d42ff7bd8ddf36559c8275931e2ec346a0b7087",
   "notebook_path": "PyCaret/PyCaret_automl_regression.ipynb"
  },
  "papermill": {
   "default_parameters": {},
   "environment_variables": {},
   "parameters": {},
   "version": "2.3.3"
  },
  "widgets": {
   "application/vnd.jupyter.widget-state+json": {
    "state": {},
    "version_major": 2,
    "version_minor": 0
   }
  }
 },
 "nbformat": 4,
 "nbformat_minor": 5
}