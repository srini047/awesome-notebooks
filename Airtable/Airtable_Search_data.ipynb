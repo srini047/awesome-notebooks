{
 "cells": [
  {
   "cell_type": "markdown",
   "id": "suffering-montana",
   "metadata": {
    "papermill": {},
    "tags": []
   },
   "source": [
    "<img width=\"10%\" alt=\"Naas\" src=\"https://landen.imgix.net/jtci2pxwjczr/assets/5ice39g4.png?w=160\"/>"
   ]
  },
  {
   "cell_type": "markdown",
   "id": "established-consortium",
   "metadata": {
    "papermill": {},
    "tags": []
   },
   "source": [
    "# Airtable - Search data\n",
    "<a href=\"https://app.naas.ai/user-redirect/naas/downloader?url=https://raw.githubusercontent.com/jupyter-naas/awesome-notebooks/master/Airtable/Airtable_Search_data.ipynb\" target=\"_parent\"><img src=\"https://naasai-public.s3.eu-west-3.amazonaws.com/open_in_naas.svg\"/></a><br><br><a href=\"https://github.com/jupyter-naas/awesome-notebooks/issues/new?assignees=&labels=&template=template-request.md&title=Tool+-+Action+of+the+notebook+\">Template request</a> | <a href=\"https://github.com/jupyter-naas/awesome-notebooks/issues/new?assignees=&labels=bug&template=bug_report.md&title=Airtable+-+Search+data:+Error+short+description\">Bug report</a>"
   ]
  },
  {
   "cell_type": "markdown",
   "id": "reverse-wealth",
   "metadata": {
    "papermill": {},
    "tags": []
   },
   "source": [
    "**Tags:** #airtable #database #productivity #spreadsheet #naas_drivers #operations #snippet #dataframe"
   ]
  },
  {
   "cell_type": "markdown",
   "id": "f6154111-b3be-42df-9e11-493356ee53ad",
   "metadata": {
    "papermill": {},
    "tags": []
   },
   "source": [
    "**Author:** [Jeremy Ravenel](https://www.linkedin.com/in/ACoAAAJHE7sB5OxuKHuzguZ9L6lfDHqw--cdnJg/)"
   ]
  },
  {
   "cell_type": "markdown",
   "id": "naas-description",
   "metadata": {
    "papermill": {},
    "tags": [
     "description"
    ]
   },
   "source": [
    "**Description:** This notebook allows users to search through data stored in Airtable, making it easy to find the information they need quickly and efficiently."
   ]
  },
  {
   "cell_type": "markdown",
   "id": "fe583a4d-f8d3-4bd5-82ed-5a66b9ad7a43",
   "metadata": {
    "execution": {
     "iopub.execute_input": "2021-10-01T09:02:16.217476Z",
     "iopub.status.busy": "2021-10-01T09:02:16.217138Z",
     "iopub.status.idle": "2021-10-01T09:02:16.220555Z",
     "shell.execute_reply": "2021-10-01T09:02:16.219910Z",
     "shell.execute_reply.started": "2021-10-01T09:02:16.217391Z"
    },
    "papermill": {},
    "tags": []
   },
   "source": [
    "## Input"
   ]
  },
  {
   "cell_type": "markdown",
   "id": "b43ffe01-8437-42e9-8944-afdda98fa69b",
   "metadata": {
    "papermill": {},
    "tags": []
   },
   "source": [
    "### Import library"
   ]
  },
  {
   "cell_type": "code",
   "execution_count": null,
   "id": "95c23353-b685-4bd5-a7df-af4c757e980e",
   "metadata": {
    "papermill": {},
    "tags": []
   },
   "outputs": [],
   "source": [
    "from naas_drivers import airtable"
   ]
  },
  {
   "cell_type": "markdown",
   "id": "b1c212b3-d0ed-4d91-a3df-854b69d1138f",
   "metadata": {
    "papermill": {},
    "tags": []
   },
   "source": [
    "### Variables"
   ]
  },
  {
   "cell_type": "code",
   "execution_count": null,
   "id": "ad25cbd1-7a0f-41a4-b0be-974d8c08fdec",
   "metadata": {
    "papermill": {},
    "tags": []
   },
   "outputs": [],
   "source": [
    "API_KEY = \"API_KEY\"\n",
    "BASE_KEY = \"BASE_KEY\"\n",
    "TABLE_NAME = \"TABLE_NAME\""
   ]
  },
  {
   "cell_type": "markdown",
   "id": "ffa7df55-7720-4bb8-bed3-c4b74c9a8bfe",
   "metadata": {
    "papermill": {},
    "tags": []
   },
   "source": [
    "## Model"
   ]
  },
  {
   "cell_type": "markdown",
   "id": "d7af906f-4f4c-437a-93a8-609ab61eaba9",
   "metadata": {
    "papermill": {},
    "tags": []
   },
   "source": [
    "### Search data"
   ]
  },
  {
   "cell_type": "code",
   "execution_count": null,
   "id": "5f1da43a-c05a-41ee-8405-2015bf95d918",
   "metadata": {
    "papermill": {},
    "tags": []
   },
   "outputs": [],
   "source": [
    "data = airtable.connect(API_KEY, BASE_KEY, TABLE_NAME).search(\"Name\", \"Tom\")"
   ]
  },
  {
   "cell_type": "markdown",
   "id": "4d5f2783-0ef0-4d3e-aaa2-6a1c9692b10e",
   "metadata": {
    "papermill": {},
    "tags": []
   },
   "source": [
    "## Output"
   ]
  },
  {
   "cell_type": "markdown",
   "id": "0e639069-0559-4fba-935b-fdf739de3acc",
   "metadata": {
    "papermill": {},
    "tags": []
   },
   "source": [
    "### Display result"
   ]
  },
  {
   "cell_type": "code",
   "execution_count": null,
   "id": "otherwise-sugar",
   "metadata": {
    "papermill": {},
    "tags": []
   },
   "outputs": [],
   "source": [
    "data"
   ]
  }
 ],
 "metadata": {
  "kernelspec": {
   "display_name": "Python 3",
   "language": "python",
   "name": "python3"
  },
  "language_info": {
   "codemirror_mode": {
    "name": "ipython",
    "version": 3
   },
   "file_extension": ".py",
   "mimetype": "text/x-python",
   "name": "python",
   "nbconvert_exporter": "python",
   "pygments_lexer": "ipython3",
   "version": "3.9.6"
  },
  "naas": {
   "notebook_id": "b14e98f6-1a09-4016-b1e1-167b9307fb2e",
   "notebook_path": "Airtable/Airtable_Search_data.ipynb"
  },
  "papermill": {
   "default_parameters": {},
   "environment_variables": {},
   "parameters": {},
   "version": "2.3.3"
  },
  "widgets": {
   "application/vnd.jupyter.widget-state+json": {
    "state": {},
    "version_major": 2,
    "version_minor": 0
   }
  }
 },
 "nbformat": 4,
 "nbformat_minor": 5
}