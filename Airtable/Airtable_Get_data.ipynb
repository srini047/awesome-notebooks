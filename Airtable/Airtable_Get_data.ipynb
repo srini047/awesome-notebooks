{
 "cells": [
  {
   "cell_type": "markdown",
   "id": "stable-spider",
   "metadata": {
    "papermill": {},
    "tags": []
   },
   "source": [
    "<img width=\"10%\" alt=\"Naas\" src=\"https://landen.imgix.net/jtci2pxwjczr/assets/5ice39g4.png?w=160\"/>"
   ]
  },
  {
   "cell_type": "markdown",
   "id": "impressed-sapphire",
   "metadata": {
    "papermill": {},
    "tags": []
   },
   "source": [
    "# Airtable - Get data\n",
    "<a href=\"https://app.naas.ai/user-redirect/naas/downloader?url=https://raw.githubusercontent.com/jupyter-naas/awesome-notebooks/master/Airtable/Airtable_Get_data.ipynb\" target=\"_parent\"><img src=\"https://naasai-public.s3.eu-west-3.amazonaws.com/open_in_naas.svg\"/></a><br><br><a href=\"https://github.com/jupyter-naas/awesome-notebooks/issues/new?assignees=&labels=&template=template-request.md&title=Tool+-+Action+of+the+notebook+\">Template request</a> | <a href=\"https://github.com/jupyter-naas/awesome-notebooks/issues/new?assignees=&labels=bug&template=bug_report.md&title=Airtable+-+Get+data:+Error+short+description\">Bug report</a>"
   ]
  },
  {
   "cell_type": "markdown",
   "id": "b8e295f0-cc75-4438-a0ad-eec854e4028e",
   "metadata": {
    "papermill": {},
    "tags": []
   },
   "source": [
    "**Tags:** #airtable #database #productivity #spreadsheet #naas_drivers #operations #snippet #dataframe"
   ]
  },
  {
   "cell_type": "markdown",
   "id": "5c266da9-08ec-481c-adba-477d8b169d90",
   "metadata": {
    "papermill": {},
    "tags": []
   },
   "source": [
    "**Author:** [Jeremy Ravenel](https://www.linkedin.com/in/ACoAAAJHE7sB5OxuKHuzguZ9L6lfDHqw--cdnJg/)"
   ]
  },
  {
   "cell_type": "markdown",
   "id": "naas-description",
   "metadata": {
    "papermill": {},
    "tags": [
     "description"
    ]
   },
   "source": [
    "**Description:** This notebook provides an introduction to Airtable, a cloud-based database platform that allows users to easily access and manage data. It provides step-by-step instructions on how to get data from Airtable into a notebook for further analysis."
   ]
  },
  {
   "cell_type": "markdown",
   "id": "f31019f5-145d-42af-9b48-ee1269052bde",
   "metadata": {
    "papermill": {},
    "tags": []
   },
   "source": [
    "## Input"
   ]
  },
  {
   "cell_type": "markdown",
   "id": "3d19ed19-baf8-4bc0-bfb9-63861d877ac0",
   "metadata": {
    "execution": {
     "iopub.execute_input": "2021-10-01T08:44:36.391670Z",
     "iopub.status.busy": "2021-10-01T08:44:36.391199Z",
     "iopub.status.idle": "2021-10-01T08:44:36.396020Z",
     "shell.execute_reply": "2021-10-01T08:44:36.395354Z",
     "shell.execute_reply.started": "2021-10-01T08:44:36.391555Z"
    },
    "papermill": {},
    "tags": []
   },
   "source": [
    "### Import library"
   ]
  },
  {
   "cell_type": "code",
   "execution_count": null,
   "id": "c22f5515-2e1c-4253-995d-544c9c0f6b4e",
   "metadata": {
    "papermill": {},
    "tags": []
   },
   "outputs": [],
   "source": [
    "from naas_drivers import airtable"
   ]
  },
  {
   "cell_type": "markdown",
   "id": "941f91f5-7ac5-4e26-8eb0-4e1c1d255497",
   "metadata": {
    "execution": {
     "iopub.execute_input": "2021-10-01T08:45:14.334572Z",
     "iopub.status.busy": "2021-10-01T08:45:14.334247Z",
     "iopub.status.idle": "2021-10-01T08:45:14.346105Z",
     "shell.execute_reply": "2021-10-01T08:45:14.345466Z",
     "shell.execute_reply.started": "2021-10-01T08:45:14.334538Z"
    },
    "papermill": {},
    "tags": []
   },
   "source": [
    "### Variables"
   ]
  },
  {
   "cell_type": "code",
   "execution_count": null,
   "id": "146ae5eb-5f97-4367-8c93-fa17eced7025",
   "metadata": {
    "papermill": {},
    "tags": []
   },
   "outputs": [],
   "source": [
    "API_KEY = \"API_KEY\"\n",
    "BASE_KEY = \"BASE_KEY\"\n",
    "TABLE_NAME = \"TABLE_NAME\""
   ]
  },
  {
   "cell_type": "markdown",
   "id": "2c2b65cd-041b-469c-b2f4-81bb958e2459",
   "metadata": {
    "papermill": {},
    "tags": []
   },
   "source": [
    "## Model"
   ]
  },
  {
   "cell_type": "markdown",
   "id": "0253b39a-9fc9-4c5b-8912-86447701adab",
   "metadata": {
    "papermill": {},
    "tags": []
   },
   "source": [
    "### Connect to airtable and get data"
   ]
  },
  {
   "cell_type": "code",
   "execution_count": null,
   "id": "2b0d0525-aebc-4f49-8ec0-de5e58337448",
   "metadata": {
    "papermill": {},
    "tags": []
   },
   "outputs": [],
   "source": [
    "df = airtable.connect(API_KEY, BASE_KEY, TABLE_NAME).get(\n",
    "    view=\"All opportunities\", maxRecords=20\n",
    ")"
   ]
  },
  {
   "cell_type": "markdown",
   "id": "20beb518-0336-4553-8fdc-517c885af09d",
   "metadata": {
    "papermill": {},
    "tags": []
   },
   "source": [
    "## Output"
   ]
  },
  {
   "cell_type": "markdown",
   "id": "a6231558-82cb-4579-a189-d4f428cd53a3",
   "metadata": {
    "papermill": {},
    "tags": []
   },
   "source": [
    "### Display result"
   ]
  },
  {
   "cell_type": "code",
   "execution_count": null,
   "id": "hydraulic-lincoln",
   "metadata": {
    "papermill": {},
    "tags": []
   },
   "outputs": [],
   "source": [
    "df"
   ]
  }
 ],
 "metadata": {
  "kernelspec": {
   "display_name": "Python 3",
   "language": "python",
   "name": "python3"
  },
  "language_info": {
   "codemirror_mode": {
    "name": "ipython",
    "version": 3
   },
   "file_extension": ".py",
   "mimetype": "text/x-python",
   "name": "python",
   "nbconvert_exporter": "python",
   "pygments_lexer": "ipython3",
   "version": "3.9.6"
  },
  "naas": {
   "notebook_id": "3ea1ec28-d8cd-43b3-bf93-06bacb146024",
   "notebook_path": "Airtable/Airtable_Get_data.ipynb"
  },
  "papermill": {
   "default_parameters": {},
   "environment_variables": {},
   "parameters": {},
   "version": "2.3.3"
  },
  "widgets": {
   "application/vnd.jupyter.widget-state+json": {
    "state": {},
    "version_major": 2,
    "version_minor": 0
   }
  }
 },
 "nbformat": 4,
 "nbformat_minor": 5
}