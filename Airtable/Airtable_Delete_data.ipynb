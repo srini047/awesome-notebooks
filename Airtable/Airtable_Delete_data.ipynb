{
 "cells": [
  {
   "cell_type": "markdown",
   "id": "tight-fusion",
   "metadata": {
    "papermill": {},
    "tags": []
   },
   "source": [
    "<img width=\"10%\" alt=\"Naas\" src=\"https://landen.imgix.net/jtci2pxwjczr/assets/5ice39g4.png?w=160\"/>"
   ]
  },
  {
   "cell_type": "markdown",
   "id": "amateur-lender",
   "metadata": {
    "papermill": {},
    "tags": []
   },
   "source": [
    "# Airtable - Delete data\n",
    "<a href=\"https://app.naas.ai/user-redirect/naas/downloader?url=https://raw.githubusercontent.com/jupyter-naas/awesome-notebooks/master/Airtable/Airtable_Delete_data.ipynb\" target=\"_parent\"><img src=\"https://naasai-public.s3.eu-west-3.amazonaws.com/open_in_naas.svg\"/></a><br><br><a href=\"https://github.com/jupyter-naas/awesome-notebooks/issues/new?assignees=&labels=&template=template-request.md&title=Tool+-+Action+of+the+notebook+\">Template request</a> | <a href=\"https://github.com/jupyter-naas/awesome-notebooks/issues/new?assignees=&labels=bug&template=bug_report.md&title=Airtable+-+Delete+data:+Error+short+description\">Bug report</a>"
   ]
  },
  {
   "cell_type": "markdown",
   "id": "cathedral-phase",
   "metadata": {
    "papermill": {},
    "tags": []
   },
   "source": [
    "**Tags:** #airtable #database #productivity #spreadsheet #naas_drivers #operations #snippet #text"
   ]
  },
  {
   "cell_type": "markdown",
   "id": "df338340-9cde-49ca-b0c6-9d7b4f6b1f73",
   "metadata": {
    "papermill": {},
    "tags": []
   },
   "source": [
    "**Author:** [Jeremy Ravenel](https://www.linkedin.com/in/ACoAAAJHE7sB5OxuKHuzguZ9L6lfDHqw--cdnJg/)"
   ]
  },
  {
   "cell_type": "markdown",
   "id": "naas-description",
   "metadata": {
    "papermill": {},
    "tags": [
     "description"
    ]
   },
   "source": [
    "**Description:** This notebook provides instructions on how to delete data from an Airtable database."
   ]
  },
  {
   "cell_type": "markdown",
   "id": "11843d6f-dea5-4f25-9290-6b14469be34c",
   "metadata": {
    "papermill": {},
    "tags": []
   },
   "source": [
    "## Input"
   ]
  },
  {
   "cell_type": "markdown",
   "id": "b7030679-6456-4d60-ad9b-537636fe07a1",
   "metadata": {
    "papermill": {},
    "tags": []
   },
   "source": [
    "### Import library"
   ]
  },
  {
   "cell_type": "code",
   "execution_count": null,
   "id": "1cd28bbe-ea13-4c04-9580-5d0b2a843bc9",
   "metadata": {
    "papermill": {},
    "tags": []
   },
   "outputs": [],
   "source": [
    "from naas_drivers import airtable"
   ]
  },
  {
   "cell_type": "markdown",
   "id": "287303f8-133e-41b8-a4f0-44325e7812ac",
   "metadata": {
    "papermill": {},
    "tags": []
   },
   "source": [
    "### Variables"
   ]
  },
  {
   "cell_type": "code",
   "execution_count": null,
   "id": "8d9bdd1c-1b7f-44df-a3ce-491f890f6eec",
   "metadata": {
    "papermill": {},
    "tags": []
   },
   "outputs": [],
   "source": [
    "API_KEY = \"API_KEY\"\n",
    "BASE_KEY = \"BASE_KEY\"\n",
    "TABLE_NAME = \"TABLE_NAME\""
   ]
  },
  {
   "cell_type": "markdown",
   "id": "7b4a5128-d2f9-427b-bc6d-baf864a2b7f8",
   "metadata": {
    "papermill": {},
    "tags": []
   },
   "source": [
    "## Model"
   ]
  },
  {
   "cell_type": "markdown",
   "id": "f0de3881-169b-4644-9b0f-01b98f13c2d4",
   "metadata": {
    "execution": {
     "iopub.execute_input": "2021-10-01T08:41:59.375373Z",
     "iopub.status.busy": "2021-10-01T08:41:59.375110Z",
     "iopub.status.idle": "2021-10-01T08:41:59.382987Z",
     "shell.execute_reply": "2021-10-01T08:41:59.382368Z",
     "shell.execute_reply.started": "2021-10-01T08:41:59.375311Z"
    },
    "papermill": {},
    "tags": []
   },
   "source": [
    "### Delete data"
   ]
  },
  {
   "cell_type": "code",
   "execution_count": null,
   "id": "ecological-positive",
   "metadata": {
    "papermill": {},
    "tags": []
   },
   "outputs": [],
   "source": [
    "data = airtable.connect(API_KEY, BASE_KEY, TABLE_NAME).delete_by_field(\"Name\", \"Tom\")"
   ]
  },
  {
   "cell_type": "markdown",
   "id": "afc38fde-cecb-4a97-90b7-15602d8530ff",
   "metadata": {
    "papermill": {},
    "tags": []
   },
   "source": [
    "## Output"
   ]
  },
  {
   "cell_type": "markdown",
   "id": "c24cc059-83e8-4236-99c6-5558edcc826e",
   "metadata": {
    "papermill": {},
    "tags": []
   },
   "source": [
    "### Display result"
   ]
  },
  {
   "cell_type": "code",
   "execution_count": null,
   "id": "polished-magnitude",
   "metadata": {
    "papermill": {},
    "tags": []
   },
   "outputs": [],
   "source": [
    "data"
   ]
  }
 ],
 "metadata": {
  "kernelspec": {
   "display_name": "Python 3",
   "language": "python",
   "name": "python3"
  },
  "language_info": {
   "codemirror_mode": {
    "name": "ipython",
    "version": 3
   },
   "file_extension": ".py",
   "mimetype": "text/x-python",
   "name": "python",
   "nbconvert_exporter": "python",
   "pygments_lexer": "ipython3",
   "version": "3.9.6"
  },
  "naas": {
   "notebook_id": "6bd35bf3-37fe-49fd-9aa0-fa4f639006c0",
   "notebook_path": "Airtable/Airtable_Delete_data.ipynb"
  },
  "papermill": {
   "default_parameters": {},
   "environment_variables": {},
   "parameters": {},
   "version": "2.3.3"
  },
  "widgets": {
   "application/vnd.jupyter.widget-state+json": {
    "state": {},
    "version_major": 2,
    "version_minor": 0
   }
  }
 },
 "nbformat": 4,
 "nbformat_minor": 5
}