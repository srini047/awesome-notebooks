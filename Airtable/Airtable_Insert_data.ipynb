{
 "cells": [
  {
   "cell_type": "markdown",
   "id": "advisory-century",
   "metadata": {
    "papermill": {},
    "tags": []
   },
   "source": [
    "<img width=\"10%\" alt=\"Naas\" src=\"https://landen.imgix.net/jtci2pxwjczr/assets/5ice39g4.png?w=160\"/>"
   ]
  },
  {
   "cell_type": "markdown",
   "id": "harmful-billy",
   "metadata": {
    "papermill": {},
    "tags": []
   },
   "source": [
    "# Airtable - Insert data\n",
    "<a href=\"https://app.naas.ai/user-redirect/naas/downloader?url=https://raw.githubusercontent.com/jupyter-naas/awesome-notebooks/master/Airtable/Airtable_Insert_data.ipynb\" target=\"_parent\"><img src=\"https://naasai-public.s3.eu-west-3.amazonaws.com/open_in_naas.svg\"/></a><br><br><a href=\"https://github.com/jupyter-naas/awesome-notebooks/issues/new?assignees=&labels=&template=template-request.md&title=Tool+-+Action+of+the+notebook+\">Template request</a> | <a href=\"https://github.com/jupyter-naas/awesome-notebooks/issues/new?assignees=&labels=bug&template=bug_report.md&title=Airtable+-+Insert+data:+Error+short+description\">Bug report</a>"
   ]
  },
  {
   "cell_type": "markdown",
   "id": "married-carrier",
   "metadata": {
    "papermill": {},
    "tags": []
   },
   "source": [
    "**Tags:** #airtable #database #productivity #spreadsheet #naas_drivers #operations #snippet #text"
   ]
  },
  {
   "cell_type": "markdown",
   "id": "d7eee2d9-62b7-40ea-b984-9e79c52db650",
   "metadata": {
    "papermill": {},
    "tags": []
   },
   "source": [
    "**Author:** [Jeremy Ravenel](https://www.linkedin.com/in/ACoAAAJHE7sB5OxuKHuzguZ9L6lfDHqw--cdnJg/)"
   ]
  },
  {
   "cell_type": "markdown",
   "id": "naas-description",
   "metadata": {
    "papermill": {},
    "tags": [
     "description"
    ]
   },
   "source": [
    "**Description:** This notebook provides a step-by-step guide on how to insert data into an Airtable database."
   ]
  },
  {
   "cell_type": "markdown",
   "id": "45d5baee-1f85-417d-928c-f3b982ee26c6",
   "metadata": {
    "execution": {
     "iopub.execute_input": "2021-10-01T08:53:00.117936Z",
     "iopub.status.busy": "2021-10-01T08:53:00.117470Z",
     "iopub.status.idle": "2021-10-01T08:53:00.121082Z",
     "shell.execute_reply": "2021-10-01T08:53:00.120558Z",
     "shell.execute_reply.started": "2021-10-01T08:53:00.117859Z"
    },
    "papermill": {},
    "tags": []
   },
   "source": [
    "## Input"
   ]
  },
  {
   "cell_type": "markdown",
   "id": "36231032-cebc-4cd2-86a1-2789cc90beff",
   "metadata": {
    "papermill": {},
    "tags": []
   },
   "source": [
    "### Import library"
   ]
  },
  {
   "cell_type": "code",
   "execution_count": null,
   "id": "4fcb2dc3-09d5-418b-990d-b9c0a92cec4d",
   "metadata": {
    "papermill": {},
    "tags": []
   },
   "outputs": [],
   "source": [
    "from naas_drivers import airtable"
   ]
  },
  {
   "cell_type": "markdown",
   "id": "11dac76e-db5f-4c35-87b3-6388caf3ccee",
   "metadata": {
    "papermill": {},
    "tags": []
   },
   "source": [
    "### Variables"
   ]
  },
  {
   "cell_type": "code",
   "execution_count": null,
   "id": "0463abd5-6eb7-4779-9a0c-824f5ffd158b",
   "metadata": {
    "papermill": {},
    "tags": []
   },
   "outputs": [],
   "source": [
    "API_KEY = \"API_KEY\"\n",
    "BASE_KEY = \"BASE_KEY\"\n",
    "TABLE_NAME = \"TABLE_NAME\""
   ]
  },
  {
   "cell_type": "markdown",
   "id": "636dfd05-4431-46d6-b0e2-89881040461b",
   "metadata": {
    "execution": {
     "iopub.execute_input": "2021-10-01T08:53:03.640232Z",
     "iopub.status.busy": "2021-10-01T08:53:03.639987Z",
     "iopub.status.idle": "2021-10-01T08:53:03.644213Z",
     "shell.execute_reply": "2021-10-01T08:53:03.643585Z",
     "shell.execute_reply.started": "2021-10-01T08:53:03.640207Z"
    },
    "papermill": {},
    "tags": []
   },
   "source": [
    "## Model"
   ]
  },
  {
   "cell_type": "markdown",
   "id": "0f428db9-a46c-4874-b7ce-721b5f2c8708",
   "metadata": {
    "papermill": {},
    "tags": []
   },
   "source": [
    "### Insert data"
   ]
  },
  {
   "cell_type": "code",
   "execution_count": null,
   "id": "numeric-wallet",
   "metadata": {
    "papermill": {},
    "tags": []
   },
   "outputs": [],
   "source": [
    "data = (\n",
    "    airtable.connect(API_KEY, BASE_KEY, TABLE_NAME)\n",
    "    .get(view=\"All opportunities\", maxRecords=20)\n",
    "    .insert({\"Name\": \"Brian\"})\n",
    ")"
   ]
  },
  {
   "cell_type": "markdown",
   "id": "048122bb-7cd9-406b-959d-376ea1f30969",
   "metadata": {
    "papermill": {},
    "tags": []
   },
   "source": [
    "## Output"
   ]
  },
  {
   "cell_type": "markdown",
   "id": "e52bfd24-1491-4a07-bc3a-09731af33bc3",
   "metadata": {
    "papermill": {},
    "tags": []
   },
   "source": [
    "### Display result"
   ]
  },
  {
   "cell_type": "code",
   "execution_count": null,
   "id": "weekly-pulse",
   "metadata": {
    "papermill": {},
    "tags": []
   },
   "outputs": [],
   "source": [
    "data"
   ]
  }
 ],
 "metadata": {
  "kernelspec": {
   "display_name": "Python 3",
   "language": "python",
   "name": "python3"
  },
  "language_info": {
   "codemirror_mode": {
    "name": "ipython",
    "version": 3
   },
   "file_extension": ".py",
   "mimetype": "text/x-python",
   "name": "python",
   "nbconvert_exporter": "python",
   "pygments_lexer": "ipython3",
   "version": "3.9.6"
  },
  "naas": {
   "notebook_id": "5c521c54-2d7c-47ea-9791-2f3dab1c09ce",
   "notebook_path": "Airtable/Airtable_Insert_data.ipynb"
  },
  "papermill": {
   "default_parameters": {},
   "environment_variables": {},
   "parameters": {},
   "version": "2.3.3"
  },
  "widgets": {
   "application/vnd.jupyter.widget-state+json": {
    "state": {},
    "version_major": 2,
    "version_minor": 0
   }
  }
 },
 "nbformat": 4,
 "nbformat_minor": 5
}