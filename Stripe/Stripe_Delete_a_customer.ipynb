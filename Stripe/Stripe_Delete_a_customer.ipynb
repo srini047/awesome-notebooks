{
 "cells": [
  {
   "cell_type": "markdown",
   "id": "8d10b667-1188-47d0-9f19-7b1e81c8bc48",
   "metadata": {
    "papermill": {},
    "tags": []
   },
   "source": [
    "<img width=\"10%\" alt=\"Naas\" src=\"https://landen.imgix.net/jtci2pxwjczr/assets/5ice39g4.png?w=160\"/>"
   ]
  },
  {
   "cell_type": "markdown",
   "id": "3953ff63-52a0-414d-a888-a8ec75da0223",
   "metadata": {
    "papermill": {},
    "tags": []
   },
   "source": [
    "# Stripe - Delete a customer\n",
    "<a href=\"https://app.naas.ai/user-redirect/naas/downloader?url=https://raw.githubusercontent.com/jupyter-naas/awesome-notebooks/master/Stripe/Stripe_Delete_a_customer.ipynb\" target=\"_parent\"><img src=\"https://naasai-public.s3.eu-west-3.amazonaws.com/Open_in_Naas_Lab.svg\"/></a><br><br><a href=\"https://github.com/jupyter-naas/awesome-notebooks/issues/new?assignees=&labels=&template=template-request.md&title=Tool+-+Action+of+the+notebook+\">Template request</a> | <a href=\"https://github.com/jupyter-naas/awesome-notebooks/issues/new?assignees=&labels=bug&template=bug_report.md&title=Stripe+-+Delete+a+customer:+Error+short+description\">Bug report</a> | <a href=\"https://app.naas.ai/user-redirect/naas/downloader?url=https://raw.githubusercontent.com/jupyter-naas/awesome-notebooks/master/Naas/Naas_Start_data_product.ipynb\" target=\"_parent\">Generate Data Product</a>"
   ]
  },
  {
   "cell_type": "markdown",
   "id": "23c14dfd-2264-4158-a85d-e74a94a6c13e",
   "metadata": {
    "papermill": {},
    "tags": []
   },
   "source": [
    "**Tags:** #stripe #payment #customer #api #python #delete #crud"
   ]
  },
  {
   "cell_type": "markdown",
   "id": "3269a336-fdfc-43e1-b36b-ee0270c3a625",
   "metadata": {
    "papermill": {},
    "tags": []
   },
   "source": [
    "**Author:** [Florent Ravenel](https://www.linkedin.com/in/florent-ravenel/)"
   ]
  },
  {
   "cell_type": "markdown",
   "id": "3e4ca7eb-b266-494a-9121-e01957924e61",
   "metadata": {
    "papermill": {},
    "tags": []
   },
   "source": [
    "**Description:** This notebook will show how to delete a customer using the Stripe API. It is usefull for organizations that need to manage customer payments."
   ]
  },
  {
   "cell_type": "markdown",
   "id": "99edf4c5-896a-4c49-911b-1994ca1d2012",
   "metadata": {
    "papermill": {},
    "tags": []
   },
   "source": [
    "**References:**\n",
    "- [Stripe API Documentation](https://stripe.com/docs/api/customers/delete?lang=python)"
   ]
  },
  {
   "cell_type": "markdown",
   "id": "4bb29a9e-d3b5-499d-a3af-b24cda16e11c",
   "metadata": {
    "papermill": {},
    "tags": []
   },
   "source": [
    "## Input"
   ]
  },
  {
   "cell_type": "markdown",
   "id": "4eb537c6-7879-4b15-833f-1d9706d7376c",
   "metadata": {
    "papermill": {},
    "tags": []
   },
   "source": [
    "### Import libraries"
   ]
  },
  {
   "cell_type": "code",
   "execution_count": null,
   "id": "aeae4dd1-e2b9-4c09-89a2-11b8a72ba34a",
   "metadata": {
    "papermill": {},
    "tags": []
   },
   "outputs": [],
   "source": [
    "import requests\n",
    "import naas\n",
    "from pprint import pprint"
   ]
  },
  {
   "cell_type": "markdown",
   "id": "79b35bbc-271b-4624-870c-aedbbfd9d747",
   "metadata": {
    "papermill": {},
    "tags": []
   },
   "source": [
    "### Setup Variables\n",
    "- `api_key`: [API key](https://stripe.com/docs/keys) used to authenticate with Stripe\n",
    "- `customer_id`: Customer ID to be deleted"
   ]
  },
  {
   "cell_type": "code",
   "execution_count": null,
   "id": "518c4339-6c25-4afb-af2c-752f3535bb33",
   "metadata": {
    "papermill": {},
    "tags": []
   },
   "outputs": [],
   "source": [
    "api_key = naas.secret.get(\"STRIPE_API_KEY_TEST\") or \"sk_test_4eC39HqLyjWDarjtT1zdp7dc\"\n",
    "customer_id = \"cus_NurgMvmiySMhh7\""
   ]
  },
  {
   "cell_type": "markdown",
   "id": "cdb75f36-adbd-42bd-9f48-f777fc5d7203",
   "metadata": {
    "papermill": {},
    "tags": []
   },
   "source": [
    "## Model"
   ]
  },
  {
   "cell_type": "markdown",
   "id": "3b160fe8-b88d-488f-820a-9052f2529d78",
   "metadata": {
    "papermill": {},
    "tags": []
   },
   "source": [
    "### Delete a customer"
   ]
  },
  {
   "cell_type": "code",
   "execution_count": null,
   "id": "13aa186b-8b39-4f0b-affb-9951bbd0cbb5",
   "metadata": {
    "papermill": {},
    "tags": []
   },
   "outputs": [],
   "source": [
    "def delete_customer(api_key, object_id):\n",
    "    # Init\n",
    "    stripe_endpoint = f\"https://api.stripe.com/v1/customers/{object_id}\"\n",
    "\n",
    "    # Define headers with authorization using Stripe API key\n",
    "    headers = {\n",
    "        \"Authorization\": f\"Bearer {api_key}\"\n",
    "    }\n",
    "\n",
    "    # Send DELETE request to Stripe API to delete a customer\n",
    "    response = requests.delete(stripe_endpoint, headers=headers)\n",
    "    return response"
   ]
  },
  {
   "cell_type": "markdown",
   "id": "1970c0a8-ab91-4154-9ffa-c5952bfe8e85",
   "metadata": {
    "papermill": {},
    "tags": []
   },
   "source": [
    "## Output"
   ]
  },
  {
   "cell_type": "markdown",
   "id": "f8b5a372-3644-4550-a761-305063d2fcba",
   "metadata": {
    "papermill": {},
    "tags": []
   },
   "source": [
    "### Display result"
   ]
  },
  {
   "cell_type": "code",
   "execution_count": null,
   "id": "714fd2ef-0694-43c2-ada3-f186e312c156",
   "metadata": {
    "papermill": {},
    "tags": []
   },
   "outputs": [],
   "source": [
    "response = delete_customer(api_key, customer_id)\n",
    "if response.status_code == 200:\n",
    "    print(f\"✅ Customer successfully deleted\")\n",
    "else:\n",
    "    print(f\"❌ Error deleting the customer\")\n",
    "response.json()"
   ]
  },
  {
   "cell_type": "markdown",
   "id": "ddea6d1f-dd01-4cbd-879f-24e687fcdd6f",
   "metadata": {
    "papermill": {},
    "tags": []
   },
   "source": [
    " "
   ]
  }
 ],
 "metadata": {
  "kernelspec": {
   "display_name": "Python 3",
   "language": "python",
   "name": "python3"
  },
  "language_info": {
   "codemirror_mode": {
    "name": "ipython",
    "version": 3
   },
   "file_extension": ".py",
   "mimetype": "text/x-python",
   "name": "python",
   "nbconvert_exporter": "python",
   "pygments_lexer": "ipython3",
   "version": "3.9.6"
  },
  "naas": {
   "notebook_id": "80d3f6a6c98fb33c54b4e6eb95c5741adf5c5a89f6ca6c85ec149c2d1789a907",
   "notebook_path": "Stripe/Stripe_Delete_a_customer.ipynb"
  },
  "papermill": {
   "default_parameters": {},
   "environment_variables": {},
   "parameters": {},
   "version": "2.4.0"
  },
  "widgets": {
   "application/vnd.jupyter.widget-state+json": {
    "state": {},
    "version_major": 2,
    "version_minor": 0
   }
  }
 },
 "nbformat": 4,
 "nbformat_minor": 5
}