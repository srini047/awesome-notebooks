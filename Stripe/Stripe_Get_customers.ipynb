{
 "cells": [
  {
   "cell_type": "markdown",
   "id": "caring-auction",
   "metadata": {
    "papermill": {},
    "tags": []
   },
   "source": [
    "<img width=\"10%\" alt=\"Naas\" src=\"https://landen.imgix.net/jtci2pxwjczr/assets/5ice39g4.png?w=160\"/>"
   ]
  },
  {
   "cell_type": "markdown",
   "id": "residential-working",
   "metadata": {
    "papermill": {},
    "tags": []
   },
   "source": [
    "# Stripe - Get customers\n",
    "<a href=\"https://app.naas.ai/user-redirect/naas/downloader?url=https://raw.githubusercontent.com/jupyter-naas/awesome-notebooks/master/Stripe/Stripe_Get_customers.ipynb\" target=\"_parent\"><img src=\"https://naasai-public.s3.eu-west-3.amazonaws.com/open_in_naas.svg\"/></a><br><br><a href=\"https://github.com/jupyter-naas/awesome-notebooks/issues/new?assignees=&labels=&template=template-request.md&title=Tool+-+Action+of+the+notebook+\">Template request</a> | <a href=\"https://github.com/jupyter-naas/awesome-notebooks/issues/new?assignees=&labels=bug&template=bug_report.md&title=Stripe+-+Get+customers:+Error+short+description\">Bug report</a>"
   ]
  },
  {
   "cell_type": "markdown",
   "id": "1337e963-168e-4873-974b-af3e9c76e8e8",
   "metadata": {
    "papermill": {},
    "tags": []
   },
   "source": [
    "**Tags:** #stripe #customers #snippet #operations #dataframe"
   ]
  },
  {
   "cell_type": "markdown",
   "id": "naas-author",
   "metadata": {
    "papermill": {},
    "tags": [
     "naas"
    ]
   },
   "source": [
    "**Author:** [Martin Donadieu](https://www.linkedin.com/in/martindonadieu/)"
   ]
  },
  {
   "cell_type": "markdown",
   "id": "naas-description",
   "metadata": {
    "papermill": {},
    "tags": [
     "description"
    ]
   },
   "source": [
    "**Description:** This notebook provides a guide to acquiring customers through Stripe."
   ]
  },
  {
   "cell_type": "markdown",
   "id": "input_cell",
   "metadata": {
    "papermill": {},
    "tags": []
   },
   "source": [
    "## Input"
   ]
  },
  {
   "cell_type": "markdown",
   "id": "import_cell",
   "metadata": {
    "papermill": {},
    "tags": []
   },
   "source": [
    "### Import libraries"
   ]
  },
  {
   "cell_type": "code",
   "execution_count": null,
   "id": "c754b866-07a5-4438-88e2-b2c19bb6435c",
   "metadata": {
    "papermill": {},
    "tags": []
   },
   "outputs": [],
   "source": [
    "try:\n",
    "    import stripe\n",
    "except:\n",
    "    !pip install stripe\n",
    "    import stripe\n",
    "import pandas as pd"
   ]
  },
  {
   "cell_type": "markdown",
   "id": "4e1de7ea-5e90-49e9-9ae0-cef9ff2bd07d",
   "metadata": {
    "papermill": {},
    "tags": []
   },
   "source": [
    "### Variables"
   ]
  },
  {
   "cell_type": "code",
   "execution_count": 2,
   "id": "sound-format",
   "metadata": {
    "execution": {
     "iopub.execute_input": "2021-01-28T13:36:39.107688Z",
     "iopub.status.busy": "2021-01-28T13:36:39.107425Z",
     "iopub.status.idle": "2021-01-28T13:36:39.110700Z",
     "shell.execute_reply": "2021-01-28T13:36:39.110010Z",
     "shell.execute_reply.started": "2021-01-28T13:36:39.107664Z"
    },
    "papermill": {},
    "tags": []
   },
   "outputs": [],
   "source": [
    "api_key = \"sk_test_4eC39HqLyjWDarjtT1zdp7dc\""
   ]
  },
  {
   "cell_type": "markdown",
   "id": "model_cell",
   "metadata": {
    "papermill": {},
    "tags": []
   },
   "source": [
    "## Model"
   ]
  },
  {
   "cell_type": "markdown",
   "id": "dffbe21b-4102-42b9-8784-8387ad3c5e30",
   "metadata": {
    "papermill": {},
    "tags": []
   },
   "source": [
    "### Connect to the API"
   ]
  },
  {
   "cell_type": "code",
   "execution_count": 3,
   "id": "experimental-taiwan",
   "metadata": {
    "execution": {
     "iopub.execute_input": "2021-01-28T13:36:39.272305Z",
     "iopub.status.busy": "2021-01-28T13:36:39.271769Z",
     "iopub.status.idle": "2021-01-28T13:36:39.632730Z",
     "shell.execute_reply": "2021-01-28T13:36:39.632115Z",
     "shell.execute_reply.started": "2021-01-28T13:36:39.272270Z"
    },
    "papermill": {},
    "tags": []
   },
   "outputs": [],
   "source": [
    "stripe.api_key = api_key"
   ]
  },
  {
   "cell_type": "code",
   "execution_count": 4,
   "id": "global-oracle",
   "metadata": {
    "execution": {
     "iopub.execute_input": "2021-01-28T13:36:39.634108Z",
     "iopub.status.busy": "2021-01-28T13:36:39.633836Z",
     "iopub.status.idle": "2021-01-28T13:36:40.606885Z",
     "shell.execute_reply": "2021-01-28T13:36:40.606237Z",
     "shell.execute_reply.started": "2021-01-28T13:36:39.634079Z"
    },
    "papermill": {},
    "tags": []
   },
   "outputs": [],
   "source": [
    "customers = stripe.Customer.list(limit=30)"
   ]
  },
  {
   "cell_type": "markdown",
   "id": "output_cell",
   "metadata": {
    "papermill": {},
    "tags": []
   },
   "source": [
    "## Output"
   ]
  },
  {
   "cell_type": "markdown",
   "id": "display_cell",
   "metadata": {
    "papermill": {},
    "tags": []
   },
   "source": [
    "### Get customers"
   ]
  },
  {
   "cell_type": "code",
   "execution_count": null,
   "id": "8d95818c-1339-418e-b506-ef45bd2b57f6",
   "metadata": {
    "papermill": {},
    "tags": []
   },
   "outputs": [],
   "source": [
    "pd.DataFrame(customers.get(\"data\"))"
   ]
  }
 ],
 "metadata": {
  "kernelspec": {
   "display_name": "Python 3",
   "language": "python",
   "name": "python3"
  },
  "language_info": {
   "codemirror_mode": {
    "name": "ipython",
    "version": 3
   },
   "file_extension": ".py",
   "mimetype": "text/x-python",
   "name": "python",
   "nbconvert_exporter": "python",
   "pygments_lexer": "ipython3",
   "version": "3.9.6"
  },
  "naas": {
   "notebook_id": "e62e9552-3a78-48da-b2ed-dc1e115cfc7c",
   "notebook_path": "Stripe/Stripe_Get_customers.ipynb"
  },
  "papermill": {
   "default_parameters": {},
   "environment_variables": {},
   "parameters": {},
   "version": "2.3.3"
  }
 },
 "nbformat": 4,
 "nbformat_minor": 5
}