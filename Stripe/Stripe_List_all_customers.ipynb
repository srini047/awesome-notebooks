{
 "cells": [
  {
   "cell_type": "markdown",
   "id": "eaaf6631-395e-4cf3-abcf-66ee894d0a18",
   "metadata": {
    "papermill": {},
    "tags": []
   },
   "source": [
    "<img width=\"10%\" alt=\"Naas\" src=\"https://landen.imgix.net/jtci2pxwjczr/assets/5ice39g4.png?w=160\"/>"
   ]
  },
  {
   "cell_type": "markdown",
   "id": "0160dad7-1c05-42cb-a4b7-1fe462480278",
   "metadata": {
    "papermill": {},
    "tags": []
   },
   "source": [
    "# Stripe - List all customers\n",
    "<a href=\"https://app.naas.ai/user-redirect/naas/downloader?url=https://raw.githubusercontent.com/jupyter-naas/awesome-notebooks/master/Stripe/Stripe_List_all_customers.ipynb\" target=\"_parent\"><img src=\"https://naasai-public.s3.eu-west-3.amazonaws.com/Open_in_Naas_Lab.svg\"/></a><br><br><a href=\"https://github.com/jupyter-naas/awesome-notebooks/issues/new?assignees=&labels=&template=template-request.md&title=Tool+-+Action+of+the+notebook+\">Template request</a> | <a href=\"https://github.com/jupyter-naas/awesome-notebooks/issues/new?assignees=&labels=bug&template=bug_report.md&title=Stripe+-+List+all+customers:+Error+short+description\">Bug report</a> | <a href=\"https://app.naas.ai/user-redirect/naas/downloader?url=https://raw.githubusercontent.com/jupyter-naas/awesome-notebooks/master/Naas/Naas_Start_data_product.ipynb\" target=\"_parent\">Generate Data Product</a>"
   ]
  },
  {
   "cell_type": "markdown",
   "id": "962d901a-45f9-49a7-a382-8e252e0abb8a",
   "metadata": {
    "papermill": {},
    "tags": []
   },
   "source": [
    "**Tags:** #stripe #api #customers #list #python #reference"
   ]
  },
  {
   "cell_type": "markdown",
   "id": "4832542f-90bb-4354-ad14-d485b43114d3",
   "metadata": {
    "papermill": {},
    "tags": []
   },
   "source": [
    "**Author:** [Florent Ravenel](https://www.linkedin.com/in/florent-ravenel)"
   ]
  },
  {
   "cell_type": "markdown",
   "id": "513ea102-6eda-40ea-b044-ae537153f20c",
   "metadata": {
    "papermill": {},
    "tags": []
   },
   "source": [
    "**Description:** This notebook will list all customers from Stripe and explain how to use the Stripe API to do so. It is usefull for organizations that need to manage their customers."
   ]
  },
  {
   "cell_type": "markdown",
   "id": "caabbda5-da9f-4a1f-b741-9c739872eab0",
   "metadata": {
    "papermill": {},
    "tags": []
   },
   "source": [
    "**References:**\n",
    "- [Stripe API Documentation](https://stripe.com/docs/api/customers/list)"
   ]
  },
  {
   "cell_type": "markdown",
   "id": "bd6edbef-8c55-4f73-8b99-6e3ff76c6933",
   "metadata": {
    "papermill": {},
    "tags": []
   },
   "source": [
    "## Input"
   ]
  },
  {
   "cell_type": "markdown",
   "id": "2da60e74-65cc-4dcf-8a0e-12b9ebd4e087",
   "metadata": {
    "papermill": {},
    "tags": []
   },
   "source": [
    "### Import libraries"
   ]
  },
  {
   "cell_type": "code",
   "execution_count": null,
   "id": "49de6c59-c45d-4010-8611-917177f45d30",
   "metadata": {
    "papermill": {},
    "tags": []
   },
   "outputs": [],
   "source": [
    "import requests\n",
    "import naas\n",
    "from pprint import pprint"
   ]
  },
  {
   "cell_type": "markdown",
   "id": "0a712804-1d83-4194-97ef-d0bc61ba8932",
   "metadata": {
    "papermill": {},
    "tags": []
   },
   "source": [
    "### Setup Variables\n",
    "- `api_key`: [API key](https://stripe.com/docs/keys) used to authenticate with Stripe"
   ]
  },
  {
   "cell_type": "code",
   "execution_count": null,
   "id": "dd96200b-489d-4822-8564-7ee22a0a3af9",
   "metadata": {
    "papermill": {},
    "tags": []
   },
   "outputs": [],
   "source": [
    "api_key = naas.secret.get(\"STRIPE_API_KEY_TEST\") or \"sk_test_4eC39HqLyjWDarjtT1zdp7dc\""
   ]
  },
  {
   "cell_type": "markdown",
   "id": "af0ab9ea-d60f-40fc-9684-accff7091b97",
   "metadata": {
    "papermill": {},
    "tags": []
   },
   "source": [
    "## Model"
   ]
  },
  {
   "cell_type": "markdown",
   "id": "ceaaaab6-b28c-4cb4-8b0b-551559d4c1a1",
   "metadata": {
    "papermill": {},
    "tags": []
   },
   "source": [
    "### List all customers"
   ]
  },
  {
   "cell_type": "code",
   "execution_count": null,
   "id": "bca5b783-6d4f-484d-a827-4c1a8e7a3f57",
   "metadata": {
    "papermill": {},
    "tags": []
   },
   "outputs": [],
   "source": [
    "def list_all_customers(api_key):\n",
    "    # Init\n",
    "    stripe_endpoint = \"https://api.stripe.com/v1/customers\"\n",
    "    data = []\n",
    "\n",
    "    # Define headers with authorization using Stripe API key\n",
    "    headers = {\n",
    "        \"Authorization\": f\"Bearer {api_key}\"\n",
    "    }\n",
    "\n",
    "    # Send GET request to Stripe API to list customers\n",
    "    response = requests.get(stripe_endpoint, headers=headers)\n",
    "\n",
    "    # Check for successful response (status code 200)\n",
    "    if response.status_code == 200:\n",
    "        # Get the customers from the response\n",
    "        data = response.json()[\"data\"]\n",
    "\n",
    "        # Check if there are more customers to fetch\n",
    "        while response.json()[\"has_more\"]:\n",
    "            # Set the starting_after parameter to the last customer ID from the previous response\n",
    "            starting_after = data[-1][\"id\"]\n",
    "\n",
    "            # Send GET request with the starting_after parameter to fetch the next set of customers\n",
    "            response = requests.get(\n",
    "                stripe_endpoint,\n",
    "                headers=headers,\n",
    "                params={\"starting_after\": starting_after}\n",
    "            )\n",
    "\n",
    "            # Check for successful response (status code 200)\n",
    "            if response.status_code == 200:\n",
    "                # Get the customers from the response\n",
    "                data.append(response.json()[\"data\"])\n",
    "    return data"
   ]
  },
  {
   "cell_type": "markdown",
   "id": "30ba8cfc-0781-4d2c-a07a-77599f64944d",
   "metadata": {
    "papermill": {},
    "tags": []
   },
   "source": [
    "## Output"
   ]
  },
  {
   "cell_type": "markdown",
   "id": "763924cf-c023-46da-82ba-4a7e4f2df14b",
   "metadata": {
    "papermill": {},
    "tags": []
   },
   "source": [
    "### Display result"
   ]
  },
  {
   "cell_type": "code",
   "execution_count": null,
   "id": "1089f120-10a7-464d-8029-72a1cb177d1c",
   "metadata": {
    "papermill": {},
    "tags": []
   },
   "outputs": [],
   "source": [
    "results = list_all_customers(api_key)\n",
    "print(\"✅ Customers fetched:\", len(results))\n",
    "if len(results) > 0:\n",
    "    pprint(results[0])"
   ]
  }
 ],
 "metadata": {
  "kernelspec": {
   "display_name": "Python 3",
   "language": "python",
   "name": "python3"
  },
  "language_info": {
   "codemirror_mode": {
    "name": "ipython",
    "version": 3
   },
   "file_extension": ".py",
   "mimetype": "text/x-python",
   "name": "python",
   "nbconvert_exporter": "python",
   "pygments_lexer": "ipython3",
   "version": "3.9.6"
  },
  "naas": {
   "notebook_id": "3bc32324991101e1a88858f766923d627fe005351a5a1424287302bf586dca76",
   "notebook_path": "Stripe/Stripe_List_all_customers.ipynb"
  },
  "papermill": {
   "default_parameters": {},
   "environment_variables": {},
   "parameters": {},
   "version": "2.4.0"
  },
  "widgets": {
   "application/vnd.jupyter.widget-state+json": {
    "state": {},
    "version_major": 2,
    "version_minor": 0
   }
  }
 },
 "nbformat": 4,
 "nbformat_minor": 5
}