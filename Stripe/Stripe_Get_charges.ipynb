{
 "cells": [
  {
   "cell_type": "markdown",
   "id": "looking-boulder",
   "metadata": {
    "papermill": {},
    "tags": []
   },
   "source": [
    "<img width=\"10%\" alt=\"Naas\" src=\"https://landen.imgix.net/jtci2pxwjczr/assets/5ice39g4.png?w=160\"/>"
   ]
  },
  {
   "cell_type": "markdown",
   "id": "intermediate-retro",
   "metadata": {
    "papermill": {},
    "tags": []
   },
   "source": [
    "# Stripe - Get charges\n",
    "<a href=\"https://app.naas.ai/user-redirect/naas/downloader?url=https://raw.githubusercontent.com/jupyter-naas/awesome-notebooks/master/Stripe/Stripe_Get_charges.ipynb\" target=\"_parent\"><img src=\"https://naasai-public.s3.eu-west-3.amazonaws.com/open_in_naas.svg\"/></a><br><br><a href=\"https://github.com/jupyter-naas/awesome-notebooks/issues/new?assignees=&labels=&template=template-request.md&title=Tool+-+Action+of+the+notebook+\">Template request</a> | <a href=\"https://github.com/jupyter-naas/awesome-notebooks/issues/new?assignees=&labels=bug&template=bug_report.md&title=Stripe+-+Get+charges:+Error+short+description\">Bug report</a>"
   ]
  },
  {
   "cell_type": "markdown",
   "id": "311a1d9c-96f4-40aa-9b3f-f48b5445c1b2",
   "metadata": {
    "papermill": {},
    "tags": []
   },
   "source": [
    "**Tags:** #stripe #charges #snippet #operations #dataframe"
   ]
  },
  {
   "cell_type": "markdown",
   "id": "naas-author",
   "metadata": {
    "papermill": {},
    "tags": [
     "naas"
    ]
   },
   "source": [
    "**Author:** [Martin Donadieu](https://www.linkedin.com/in/martindonadieu/)"
   ]
  },
  {
   "cell_type": "markdown",
   "id": "naas-description",
   "metadata": {
    "papermill": {},
    "tags": [
     "description"
    ]
   },
   "source": [
    "**Description:** This notebook provides an overview of Stripe charges and their associated data."
   ]
  },
  {
   "cell_type": "markdown",
   "id": "input_cell",
   "metadata": {
    "papermill": {},
    "tags": []
   },
   "source": [
    "## Input"
   ]
  },
  {
   "cell_type": "markdown",
   "id": "import_cell",
   "metadata": {
    "papermill": {},
    "tags": []
   },
   "source": [
    "### Import libraries"
   ]
  },
  {
   "cell_type": "code",
   "execution_count": null,
   "id": "136f115f-b1e1-4fde-ae9c-b83aaba6d29b",
   "metadata": {
    "papermill": {},
    "tags": []
   },
   "outputs": [],
   "source": [
    "try:\n",
    "    import stripe\n",
    "except:\n",
    "    !pip install stripe\n",
    "    import stripe\n",
    "import pandas as pd"
   ]
  },
  {
   "cell_type": "code",
   "execution_count": 7,
   "id": "distant-turkey",
   "metadata": {
    "execution": {
     "iopub.execute_input": "2021-01-28T13:33:58.833266Z",
     "iopub.status.busy": "2021-01-28T13:33:58.833032Z",
     "iopub.status.idle": "2021-01-28T13:33:58.837835Z",
     "shell.execute_reply": "2021-01-28T13:33:58.837288Z",
     "shell.execute_reply.started": "2021-01-28T13:33:58.833241Z"
    },
    "papermill": {},
    "tags": []
   },
   "outputs": [],
   "source": [
    "api_key = \"sk_test_4eC39HqLyjWDarjtT1zdp7dc\""
   ]
  },
  {
   "cell_type": "markdown",
   "id": "model_cell",
   "metadata": {
    "papermill": {},
    "tags": []
   },
   "source": [
    "## Model"
   ]
  },
  {
   "cell_type": "markdown",
   "id": "5af6fbe0-9e46-4f8b-be25-542b3847ea68",
   "metadata": {
    "papermill": {},
    "tags": []
   },
   "source": [
    "### Connect to the API"
   ]
  },
  {
   "cell_type": "code",
   "execution_count": 8,
   "id": "union-lithuania",
   "metadata": {
    "execution": {
     "iopub.execute_input": "2021-01-28T13:33:59.006625Z",
     "iopub.status.busy": "2021-01-28T13:33:59.006273Z",
     "iopub.status.idle": "2021-01-28T13:33:59.009897Z",
     "shell.execute_reply": "2021-01-28T13:33:59.009279Z",
     "shell.execute_reply.started": "2021-01-28T13:33:59.006589Z"
    },
    "papermill": {},
    "tags": []
   },
   "outputs": [],
   "source": [
    "stripe.api_key = api_key"
   ]
  },
  {
   "cell_type": "code",
   "execution_count": 12,
   "id": "looking-processor",
   "metadata": {
    "execution": {
     "iopub.execute_input": "2021-01-28T13:34:34.613466Z",
     "iopub.status.busy": "2021-01-28T13:34:34.613230Z",
     "iopub.status.idle": "2021-01-28T13:34:35.020580Z",
     "shell.execute_reply": "2021-01-28T13:34:35.019895Z",
     "shell.execute_reply.started": "2021-01-28T13:34:34.613439Z"
    },
    "papermill": {},
    "tags": []
   },
   "outputs": [],
   "source": [
    "charges = stripe.Charge.list(limit=30)"
   ]
  },
  {
   "cell_type": "markdown",
   "id": "output_cell",
   "metadata": {
    "papermill": {},
    "tags": []
   },
   "source": [
    "## Output"
   ]
  },
  {
   "cell_type": "markdown",
   "id": "display_cell",
   "metadata": {
    "papermill": {},
    "tags": []
   },
   "source": [
    "### Display result"
   ]
  },
  {
   "cell_type": "code",
   "execution_count": null,
   "id": "2936b3ff-d14f-4ba8-9573-3717145be203",
   "metadata": {
    "papermill": {},
    "tags": []
   },
   "outputs": [],
   "source": [
    "pd.DataFrame(charges.get(\"data\"))"
   ]
  }
 ],
 "metadata": {
  "kernelspec": {
   "display_name": "Python 3",
   "language": "python",
   "name": "python3"
  },
  "language_info": {
   "codemirror_mode": {
    "name": "ipython",
    "version": 3
   },
   "file_extension": ".py",
   "mimetype": "text/x-python",
   "name": "python",
   "nbconvert_exporter": "python",
   "pygments_lexer": "ipython3",
   "version": "3.9.6"
  },
  "naas": {
   "notebook_id": "32ae68b8-09a3-48b8-bfd3-520c87f6a05a",
   "notebook_path": "Stripe/Stripe_Get_charges.ipynb"
  },
  "papermill": {
   "default_parameters": {},
   "environment_variables": {},
   "parameters": {},
   "version": "2.3.3"
  }
 },
 "nbformat": 4,
 "nbformat_minor": 5
}