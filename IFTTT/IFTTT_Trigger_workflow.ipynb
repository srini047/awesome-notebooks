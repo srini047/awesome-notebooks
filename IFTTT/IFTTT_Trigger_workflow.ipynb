{
 "cells": [
  {
   "cell_type": "markdown",
   "id": "mobile-expression",
   "metadata": {
    "papermill": {},
    "tags": []
   },
   "source": [
    "<img width=\"10%\" alt=\"Naas\" src=\"https://landen.imgix.net/jtci2pxwjczr/assets/5ice39g4.png?w=160\"/>"
   ]
  },
  {
   "cell_type": "markdown",
   "id": "animated-romania",
   "metadata": {
    "execution": {
     "iopub.execute_input": "2021-02-28T13:57:50.268102Z",
     "iopub.status.busy": "2021-02-28T13:57:50.267825Z",
     "iopub.status.idle": "2021-02-28T13:57:50.271341Z",
     "shell.execute_reply": "2021-02-28T13:57:50.270668Z",
     "shell.execute_reply.started": "2021-02-28T13:57:50.268035Z"
    },
    "papermill": {},
    "tags": []
   },
   "source": [
    "# IFTTT - Trigger workflow\n",
    "<a href=\"https://app.naas.ai/user-redirect/naas/downloader?url=https://raw.githubusercontent.com/jupyter-naas/awesome-notebooks/master/IFTTT/IFTTT_Trigger_workflow.ipynb\" target=\"_parent\"><img src=\"https://naasai-public.s3.eu-west-3.amazonaws.com/open_in_naas.svg\"/></a><br><br><a href=\"https://github.com/jupyter-naas/awesome-notebooks/issues/new?assignees=&labels=&template=template-request.md&title=Tool+-+Action+of+the+notebook+\">Template request</a> | <a href=\"https://github.com/jupyter-naas/awesome-notebooks/issues/new?assignees=&labels=bug&template=bug_report.md&title=IFTTT+-+Trigger+workflow:+Error+short+description\">Bug report</a>"
   ]
  },
  {
   "cell_type": "markdown",
   "id": "6a7faf4c-9b2f-42e5-90ff-5e9eb443742e",
   "metadata": {
    "papermill": {},
    "tags": []
   },
   "source": [
    "**Tags:** #ifttt #nocode #snippet #marketing"
   ]
  },
  {
   "cell_type": "markdown",
   "id": "naas-author",
   "metadata": {
    "papermill": {},
    "tags": [
     "naas"
    ]
   },
   "source": [
    "**Author:** [Jeremy Ravenel](https://www.linkedin.com/in/ACoAAAJHE7sB5OxuKHuzguZ9L6lfDHqw--cdnJg/)"
   ]
  },
  {
   "cell_type": "markdown",
   "id": "naas-description",
   "metadata": {
    "papermill": {},
    "tags": [
     "description"
    ]
   },
   "source": [
    "**Description:** This notebook allows users to create automated workflows based on triggers from IFTTT."
   ]
  },
  {
   "cell_type": "markdown",
   "id": "input_cell",
   "metadata": {
    "papermill": {},
    "tags": []
   },
   "source": [
    "## Input"
   ]
  },
  {
   "cell_type": "markdown",
   "id": "import_cell",
   "metadata": {
    "papermill": {},
    "tags": []
   },
   "source": [
    "### Import library"
   ]
  },
  {
   "cell_type": "code",
   "execution_count": 1,
   "id": "toxic-example",
   "metadata": {
    "execution": {
     "iopub.execute_input": "2021-10-05T09:11:14.141920Z",
     "iopub.status.busy": "2021-10-05T09:11:14.141670Z",
     "iopub.status.idle": "2021-10-05T09:11:19.902031Z",
     "shell.execute_reply": "2021-10-05T09:11:19.901424Z",
     "shell.execute_reply.started": "2021-10-05T09:11:14.141859Z"
    },
    "papermill": {},
    "tags": []
   },
   "outputs": [],
   "source": [
    "from naas_drivers import ifttt"
   ]
  },
  {
   "cell_type": "markdown",
   "id": "58bf3d65-df9f-497b-abda-fa423c31be35",
   "metadata": {
    "papermill": {},
    "tags": []
   },
   "source": [
    "### Variables"
   ]
  },
  {
   "cell_type": "code",
   "execution_count": null,
   "id": "fluid-recipe",
   "metadata": {
    "papermill": {},
    "tags": []
   },
   "outputs": [],
   "source": [
    "event = \"myevent\"\n",
    "key = \"cl9U-VaeBu1**********\"\n",
    "data = {\"value1\": \"Bryan\", \"value2\": \"Helmig\", \"value3\": 27}"
   ]
  },
  {
   "cell_type": "markdown",
   "id": "model_cell",
   "metadata": {
    "papermill": {},
    "tags": []
   },
   "source": [
    "## Model"
   ]
  },
  {
   "cell_type": "markdown",
   "id": "60614221-1225-4503-9bf1-bb0e3b976f72",
   "metadata": {
    "papermill": {},
    "tags": []
   },
   "source": [
    "### Connect to IFTTT"
   ]
  },
  {
   "cell_type": "code",
   "execution_count": null,
   "id": "76b14842-26e5-4abc-8cf0-6328f690284e",
   "metadata": {
    "papermill": {},
    "tags": []
   },
   "outputs": [],
   "source": [
    "result = ifttt.connect(key)"
   ]
  },
  {
   "cell_type": "markdown",
   "id": "output_cell",
   "metadata": {
    "papermill": {},
    "tags": []
   },
   "source": [
    "## Output"
   ]
  },
  {
   "cell_type": "markdown",
   "id": "display_cell",
   "metadata": {
    "papermill": {},
    "tags": []
   },
   "source": [
    "### Display result"
   ]
  },
  {
   "cell_type": "code",
   "execution_count": null,
   "id": "a3f3bacb-b2ec-428a-a28e-cf2e4b197287",
   "metadata": {
    "papermill": {},
    "tags": []
   },
   "outputs": [],
   "source": [
    "result = ifttt.send(event, data)"
   ]
  }
 ],
 "metadata": {
  "kernelspec": {
   "display_name": "Python 3",
   "language": "python",
   "name": "python3"
  },
  "language_info": {
   "codemirror_mode": {
    "name": "ipython",
    "version": 3
   },
   "file_extension": ".py",
   "mimetype": "text/x-python",
   "name": "python",
   "nbconvert_exporter": "python",
   "pygments_lexer": "ipython3",
   "version": "3.9.6"
  },
  "naas": {
   "notebook_id": "d9e56019-eef5-48f0-82f4-a56827acf13e",
   "notebook_path": "IFTTT/IFTTT_Trigger_workflow.ipynb"
  },
  "papermill": {
   "default_parameters": {},
   "environment_variables": {},
   "parameters": {},
   "version": "2.3.3"
  }
 },
 "nbformat": 4,
 "nbformat_minor": 5
}