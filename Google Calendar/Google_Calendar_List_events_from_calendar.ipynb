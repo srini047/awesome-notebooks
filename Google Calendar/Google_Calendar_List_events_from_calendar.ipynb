{
 "cells": [
  {
   "cell_type": "markdown",
   "id": "b5f406d1-ae4f-4d65-80be-881728f2939d",
   "metadata": {
    "papermill": {},
    "tags": []
   },
   "source": [
    "<img width=\"10%\" alt=\"Naas\" src=\"https://landen.imgix.net/jtci2pxwjczr/assets/5ice39g4.png?w=160\"/>"
   ]
  },
  {
   "cell_type": "markdown",
   "id": "dabebfda-7779-40c4-99c5-aec4233d0406",
   "metadata": {
    "papermill": {},
    "tags": []
   },
   "source": [
    "# Google Calendar - List events from calendar\n",
    "<a href=\"https://app.naas.ai/user-redirect/naas/downloader?url=https://raw.githubusercontent.com/jupyter-naas/awesome-notebooks/master/Google%20Calendar/Google_Calendar_List_events_from_calendar.ipynb\" target=\"_parent\"><img src=\"https://naasai-public.s3.eu-west-3.amazonaws.com/Open_in_Naas_Lab.svg\"/></a><br><br><a href=\"https://github.com/jupyter-naas/awesome-notebooks/issues/new?assignees=&labels=&template=template-request.md&title=Tool+-+Action+of+the+notebook+\">Template request</a> | <a href=\"https://github.com/jupyter-naas/awesome-notebooks/issues/new?assignees=&labels=bug&template=bug_report.md&title=Google+Calendar+-+List+events+from+calendar:+Error+short+description\">Bug report</a> | <a href=\"https://app.naas.ai/user-redirect/naas/downloader?url=https://raw.githubusercontent.com/jupyter-naas/awesome-notebooks/master/Naas/Naas_Start_data_product.ipynb\" target=\"_parent\">Generate Data Product</a>"
   ]
  },
  {
   "cell_type": "markdown",
   "id": "7b781d86-0825-464d-b45c-1df6e5a66b05",
   "metadata": {
    "papermill": {},
    "tags": []
   },
   "source": [
    "**Tags:** #googlecalendar #calendar #events #list #api #python"
   ]
  },
  {
   "cell_type": "markdown",
   "id": "29173820-2c17-49a5-8f30-5c31e8398e3f",
   "metadata": {
    "papermill": {},
    "tags": []
   },
   "source": [
    "**Author:** [Sriniketh Jayasendil](https://www.linkedin.com/in/sriniketh-jayasendil)"
   ]
  },
  {
   "cell_type": "markdown",
   "id": "919b460a-07a8-4371-b7f4-2c1f32718782",
   "metadata": {
    "papermill": {},
    "tags": []
   },
   "source": [
    "**Description:** This notebook will demonstrate how to use the Google Calendar API to list events from a calendar."
   ]
  },
  {
   "cell_type": "markdown",
   "id": "431c30bd-9010-4307-9d78-14305e8d6e54",
   "metadata": {
    "papermill": {},
    "tags": []
   },
   "source": [
    "**References:**\n",
    "- [Google Calendar API Reference](https://developers.google.com/calendar/api/v3/reference/events/list)\n",
    "- [Google Calendar API Python Quickstart](https://developers.google.com/calendar/quickstart/python)"
   ]
  },
  {
   "cell_type": "markdown",
   "id": "2f8aae53-c19c-4e90-a129-89d01bec112e",
   "metadata": {
    "papermill": {},
    "tags": []
   },
   "source": [
    "## Input"
   ]
  },
  {
   "cell_type": "markdown",
   "id": "f65917f4-9a1f-4717-822f-08d8e324d244",
   "metadata": {
    "papermill": {},
    "tags": []
   },
   "source": [
    "### Import libraries"
   ]
  },
  {
   "cell_type": "code",
   "execution_count": null,
   "id": "24ef80a2-2406-4cce-9390-87b55bf544ac",
   "metadata": {
    "papermill": {},
    "tags": []
   },
   "outputs": [],
   "source": [
    "from pprint import pprint\n",
    "from datetime import datetime\n",
    "try:\n",
    "    from apiclient.discovery import build\n",
    "    from google_auth_oauthlib.flow import InstalledAppFlow\n",
    "except ModuleNotFoundError:\n",
    "    !pip install google-api-python-client\n",
    "    from apiclient.discovery import build\n",
    "    from google_auth_oauthlib.flow import InstalledAppFlow"
   ]
  },
  {
   "cell_type": "markdown",
   "id": "4e4cce29-4d15-4fe0-a900-b6c017039eac",
   "metadata": {
    "papermill": {},
    "tags": []
   },
   "source": [
    "### Setup Variables\n",
    "Follow this [blog](https://blog.sriniketh.design/getting-credentials-from-gcp-google-cloud-platform) to know how to get the credentials from GCP\n",
    "- `scopes`: The scopes to be used for authentication\n",
    "- `secret_path`: secret json path extracted from GCP\n",
    "- `calendar_id`: calendar ID in Google Calendar\n",
    "- `time_min`: min time to start getting events from (example: '2023-04-11T14:44:29.977036Z')\n",
    "- `max_results`: number of events to be returned\n",
    "Assuming you have got the credentials, you can proceed further."
   ]
  },
  {
   "cell_type": "code",
   "execution_count": null,
   "id": "a6cb3c1c-0494-46a7-ac06-ffa35b967b90",
   "metadata": {
    "papermill": {},
    "tags": []
   },
   "outputs": [],
   "source": [
    "# Inputs\n",
    "scopes = ['https://www.googleapis.com/auth/calendar']\n",
    "secret_path = \"secrets.json\"\n",
    "calendar_id = \"primary\"\n",
    "time_min = datetime.utcnow().isoformat() + 'Z'\n",
    "max_results = 10"
   ]
  },
  {
   "cell_type": "markdown",
   "id": "703b5dac-2589-4f2d-8236-3de2b9cceed4",
   "metadata": {
    "papermill": {},
    "tags": []
   },
   "source": [
    "### Connect to service\n",
    "Connect to service and copy/paste the autorization code in the input box below"
   ]
  },
  {
   "cell_type": "code",
   "execution_count": null,
   "id": "01a5f104-1a2f-4d7e-91ca-22d27f996b9a",
   "metadata": {
    "papermill": {},
    "tags": []
   },
   "outputs": [],
   "source": [
    "flow = InstalledAppFlow.from_client_secrets_file(secret_path, scopes=scopes)\n",
    "credentials = flow.run_console()\n",
    "service = build(\"calendar\", \"v3\", credentials=credentials)"
   ]
  },
  {
   "cell_type": "markdown",
   "id": "a7c126d6-193b-47ca-bed5-4bf746bd778b",
   "metadata": {
    "papermill": {},
    "tags": []
   },
   "source": [
    "## Model"
   ]
  },
  {
   "cell_type": "markdown",
   "id": "9c692868-1955-4377-9f9e-c553cdef8212",
   "metadata": {
    "papermill": {},
    "tags": []
   },
   "source": [
    "### List Events"
   ]
  },
  {
   "cell_type": "markdown",
   "id": "883c76f3-eb66-465b-8adc-55e83e7b7ec9",
   "metadata": {
    "papermill": {},
    "tags": []
   },
   "source": [
    "List events from the specified calendar."
   ]
  },
  {
   "cell_type": "code",
   "execution_count": null,
   "id": "f58b8ccf-4bab-4f6a-a29d-fc1e6b00633e",
   "metadata": {
    "papermill": {},
    "tags": []
   },
   "outputs": [],
   "source": [
    "print(f'Getting the upcoming {max_results} events')\n",
    "events_result = service.events().list(\n",
    "    calendarId=calendar_id,\n",
    "    timeMin=time_min,\n",
    "    maxResults=max_results,\n",
    "    singleEvents=True,\n",
    "    orderBy='startTime'\n",
    ").execute()\n",
    "events = events_result.get('items', [])\n",
    "\n",
    "if not events:\n",
    "    print('No upcoming events found😢')"
   ]
  },
  {
   "cell_type": "markdown",
   "id": "ecb783e3-a3c0-4e7a-aafd-fc6d1dd3d94f",
   "metadata": {
    "papermill": {},
    "tags": []
   },
   "source": [
    "## Output"
   ]
  },
  {
   "cell_type": "markdown",
   "id": "40d3dfcc-9226-4963-ab78-19e16bee56d3",
   "metadata": {
    "papermill": {},
    "tags": []
   },
   "source": [
    "### Display result"
   ]
  },
  {
   "cell_type": "code",
   "execution_count": null,
   "id": "8748f1dd-319e-457e-b302-7c70c6ab603c",
   "metadata": {
    "papermill": {},
    "tags": []
   },
   "outputs": [],
   "source": [
    "for event in events:\n",
    "    start = event['start'].get('dateTime', event['start'].get('date'))\n",
    "    print(start, event['summary'])"
   ]
  },
  {
   "cell_type": "markdown",
   "id": "da34236a-67ab-40ac-9103-6d7124b2d4dc",
   "metadata": {
    "papermill": {},
    "tags": []
   },
   "source": [
    " "
   ]
  }
 ],
 "metadata": {
  "kernelspec": {
   "display_name": "Python 3",
   "language": "python",
   "name": "python3"
  },
  "language_info": {
   "codemirror_mode": {
    "name": "ipython",
    "version": 3
   },
   "file_extension": ".py",
   "mimetype": "text/x-python",
   "name": "python",
   "nbconvert_exporter": "python",
   "pygments_lexer": "ipython3",
   "version": "3.9.6"
  },
  "naas": {
   "notebook_id": "a2db899b2d3b4a8407d9734bb11c66eb169b4a0a55b53fe65902049471de9fc7",
   "notebook_path": "Google Calendar/Google_Calendar_List_events_from_calendar.ipynb"
  },
  "papermill": {
   "default_parameters": {},
   "environment_variables": {},
   "parameters": {},
   "version": "2.4.0"
  },
  "widgets": {
   "application/vnd.jupyter.widget-state+json": {
    "state": {},
    "version_major": 2,
    "version_minor": 0
   }
  }
 },
 "nbformat": 4,
 "nbformat_minor": 5
}