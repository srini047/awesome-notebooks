{
 "cells": [
  {
   "cell_type": "markdown",
   "id": "f358fda4-155d-4db0-b94c-09634751e5f0",
   "metadata": {
    "papermill": {},
    "tags": []
   },
   "source": [
    "<img width=\"10%\" alt=\"Naas\" src=\"https://landen.imgix.net/jtci2pxwjczr/assets/5ice39g4.png?w=160\"/>"
   ]
  },
  {
   "cell_type": "markdown",
   "id": "4227e1a3-51e1-45e9-905b-1afbec3f8b4b",
   "metadata": {
    "papermill": {},
    "tags": []
   },
   "source": [
    "# Google Calendar - Get calendar\n",
    "<a href=\"https://app.naas.ai/user-redirect/naas/downloader?url=https://raw.githubusercontent.com/jupyter-naas/awesome-notebooks/master/Google%20Calendar/Google_Calendar_Get_calendar.ipynb\" target=\"_parent\"><img src=\"https://naasai-public.s3.eu-west-3.amazonaws.com/Open_in_Naas_Lab.svg\"/></a><br><br><a href=\"https://github.com/jupyter-naas/awesome-notebooks/issues/new?assignees=&labels=&template=template-request.md&title=Tool+-+Action+of+the+notebook+\">Template request</a> | <a href=\"https://github.com/jupyter-naas/awesome-notebooks/issues/new?assignees=&labels=bug&template=bug_report.md&title=Google+Calendar+-+Get+calendar:+Error+short+description\">Bug report</a> | <a href=\"https://app.naas.ai/user-redirect/naas/downloader?url=https://raw.githubusercontent.com/jupyter-naas/awesome-notebooks/master/Naas/Naas_Start_data_product.ipynb\" target=\"_parent\">Generate Data Product</a>"
   ]
  },
  {
   "cell_type": "markdown",
   "id": "d9c08bbb-94c3-4e96-8c00-b68bbe6e1b0c",
   "metadata": {
    "papermill": {},
    "tags": []
   },
   "source": [
    "**Tags:** #googlecalendar #calendar #get #api #reference #v3"
   ]
  },
  {
   "cell_type": "markdown",
   "id": "780d3d9f-621b-4c3a-bba7-75d734a7fe6e",
   "metadata": {
    "papermill": {},
    "tags": []
   },
   "source": [
    "**Author:** [Sriniketh Jayasendil](https://www.linkedin.com/in/sriniketh-jayasendil)"
   ]
  },
  {
   "cell_type": "markdown",
   "id": "18da03ee-a728-40de-9351-52a1fa228e78",
   "metadata": {
    "papermill": {},
    "tags": []
   },
   "source": [
    "**Description:** This notebook will demonstrate how to use the Google Calendar API to get metadata for a calendar."
   ]
  },
  {
   "cell_type": "markdown",
   "id": "35b60773-2b1c-40b6-a443-3a3ca13e98b7",
   "metadata": {
    "papermill": {},
    "tags": []
   },
   "source": [
    "**References:**\n",
    "- [Google Calendar API Reference](https://developers.google.com/calendar/api/v3/reference/calendars/get)"
   ]
  },
  {
   "cell_type": "markdown",
   "id": "08a541d4-3524-4c53-a316-0d0de16721f1",
   "metadata": {
    "papermill": {},
    "tags": []
   },
   "source": [
    "## Input"
   ]
  },
  {
   "cell_type": "markdown",
   "id": "889e4c0e-e99c-4c27-a2f2-4df92d5f03be",
   "metadata": {
    "papermill": {},
    "tags": []
   },
   "source": [
    "### Import libraries"
   ]
  },
  {
   "cell_type": "code",
   "execution_count": 7,
   "id": "49b3eb5c-d3c2-484f-b7d9-c41af911b308",
   "metadata": {
    "papermill": {},
    "tags": []
   },
   "outputs": [],
   "source": [
    "from pprint import pprint\n",
    "try:\n",
    "    from apiclient.discovery import build\n",
    "    from google_auth_oauthlib.flow import InstalledAppFlow\n",
    "except ModuleNotFoundError:\n",
    "    !pip install google-api-python-client\n",
    "    from apiclient.discovery import build\n",
    "    from google_auth_oauthlib.flow import InstalledAppFlow"
   ]
  },
  {
   "cell_type": "markdown",
   "id": "c3ea62e2-c042-4c89-af89-a69331da7804",
   "metadata": {
    "papermill": {},
    "tags": []
   },
   "source": [
    "### Setup Variables\n",
    "Follow this [blog](https://blog.sriniketh.design/getting-credentials-from-gcp-google-cloud-platform) to know how to get the credentials from GCP\n",
    "- `scopes`: The scopes to be used for authentication\n",
    "- `secret_path`: secret json path extracted from GCP\n",
    "- `calendar_id`: calendar ID in Google Calendar\n",
    "Assuming you have got the credentials, you can proceed further."
   ]
  },
  {
   "cell_type": "code",
   "execution_count": 3,
   "id": "c0b20269-476a-4080-8f62-ba90405d7536",
   "metadata": {
    "papermill": {},
    "tags": []
   },
   "outputs": [],
   "source": [
    "# Inputs\n",
    "scopes = ['https://www.googleapis.com/auth/calendar']\n",
    "secret_path = \"secrets.json\"\n",
    "calendar_id = \"primary\""
   ]
  },
  {
   "cell_type": "markdown",
   "id": "a3fb6968-6605-4002-a65f-41613509b80a",
   "metadata": {
    "papermill": {},
    "tags": []
   },
   "source": [
    "### Connect to service\n",
    "Connect to service and copy/paste the autorization code in the input box below"
   ]
  },
  {
   "cell_type": "code",
   "execution_count": 4,
   "id": "34a42cfc-6fcc-45a4-8ee5-d2f0db4502d4",
   "metadata": {
    "papermill": {},
    "tags": []
   },
   "outputs": [],
   "source": [
    "flow = InstalledAppFlow.from_client_secrets_file(secret_path, scopes=scopes)\n",
    "credentials = flow.run_console()\n",
    "service = build(\"calendar\", \"v3\", credentials=credentials)"
   ]
  },
  {
   "cell_type": "markdown",
   "id": "0e762aa3-62c9-4dbf-ad9c-92ec5eaf5202",
   "metadata": {
    "papermill": {},
    "tags": []
   },
   "source": [
    "## Model"
   ]
  },
  {
   "cell_type": "markdown",
   "id": "9af44f66-afb9-4ff6-a1eb-1687400018e9",
   "metadata": {
    "papermill": {},
    "tags": []
   },
   "source": [
    "### Get calendar"
   ]
  },
  {
   "cell_type": "markdown",
   "id": "8f2ea2fa-fdba-48d0-86af-85b12d0c7bc6",
   "metadata": {
    "papermill": {},
    "tags": []
   },
   "source": [
    "This function will use the Google Calendar API to get metadata for a calendar."
   ]
  },
  {
   "cell_type": "code",
   "execution_count": 5,
   "id": "6211c7ae-421c-42c8-9ae9-c7c99a1d93b2",
   "metadata": {
    "papermill": {},
    "tags": []
   },
   "outputs": [],
   "source": [
    "def get_calendar(calendar_id):\n",
    "    calendar = service.calendars().get(calendarId=calendar_id).execute()\n",
    "    return calendar"
   ]
  },
  {
   "cell_type": "markdown",
   "id": "a55eecfe-ff31-407c-9cbe-e7672757f691",
   "metadata": {
    "papermill": {},
    "tags": []
   },
   "source": [
    "## Output"
   ]
  },
  {
   "cell_type": "markdown",
   "id": "d51560b6-a12a-4913-b9c6-c9025da74c2a",
   "metadata": {
    "papermill": {},
    "tags": []
   },
   "source": [
    "### Display result"
   ]
  },
  {
   "cell_type": "code",
   "execution_count": 9,
   "id": "a8638ea8-6418-48c9-a7f9-7aa06a4a856c",
   "metadata": {
    "papermill": {},
    "tags": []
   },
   "outputs": [],
   "source": [
    "calendar = get_calendar(calendar_id)\n",
    "pprint(calendar)"
   ]
  },
  {
   "cell_type": "markdown",
   "id": "cb96a41a-1f2e-4ba1-8991-ea6da91f19ca",
   "metadata": {
    "papermill": {},
    "tags": []
   },
   "source": [
    " "
   ]
  }
 ],
 "metadata": {
  "kernelspec": {
   "display_name": "Python 3",
   "language": "python",
   "name": "python3"
  },
  "language_info": {
   "codemirror_mode": {
    "name": "ipython",
    "version": 3
   },
   "file_extension": ".py",
   "mimetype": "text/x-python",
   "name": "python",
   "nbconvert_exporter": "python",
   "pygments_lexer": "ipython3",
   "version": "3.9.6"
  },
  "naas": {
   "notebook_id": "f28cb2cc683e6496c50f1a68829a0c527ee8e5af9091132ec5c0b87769aba753",
   "notebook_path": "Google Calendar/Google_Calendar_Get_calendar.ipynb"
  },
  "papermill": {
   "default_parameters": {},
   "environment_variables": {},
   "parameters": {},
   "version": "2.4.0"
  },
  "widgets": {
   "application/vnd.jupyter.widget-state+json": {
    "state": {},
    "version_major": 2,
    "version_minor": 0
   }
  }
 },
 "nbformat": 4,
 "nbformat_minor": 5
}