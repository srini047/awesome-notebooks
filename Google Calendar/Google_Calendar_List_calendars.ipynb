{
 "cells": [
  {
   "cell_type": "markdown",
   "id": "99ac82cf-f475-4104-bf09-e38eec8576a4",
   "metadata": {
    "papermill": {},
    "tags": []
   },
   "source": [
    "<img width=\"10%\" alt=\"Naas\" src=\"https://landen.imgix.net/jtci2pxwjczr/assets/5ice39g4.png?w=160\"/>"
   ]
  },
  {
   "cell_type": "markdown",
   "id": "28811e07-569a-4c9d-ac97-8f6b7b419e89",
   "metadata": {
    "papermill": {},
    "tags": []
   },
   "source": [
    "# Google Calendar - List calendars\n",
    "<a href=\"https://app.naas.ai/user-redirect/naas/downloader?url=https://raw.githubusercontent.com/jupyter-naas/awesome-notebooks/master/Google%20Calendar/Google_Calendar_List_calendars.ipynb\" target=\"_parent\"><img src=\"https://naasai-public.s3.eu-west-3.amazonaws.com/Open_in_Naas_Lab.svg\"/></a><br><br><a href=\"https://github.com/jupyter-naas/awesome-notebooks/issues/new?assignees=&labels=&template=template-request.md&title=Tool+-+Action+of+the+notebook+\">Template request</a> | <a href=\"https://github.com/jupyter-naas/awesome-notebooks/issues/new?assignees=&labels=bug&template=bug_report.md&title=Google+Calendar+-+List+calendars:+Error+short+description\">Bug report</a> | <a href=\"https://app.naas.ai/user-redirect/naas/downloader?url=https://raw.githubusercontent.com/jupyter-naas/awesome-notebooks/master/Naas/Naas_Start_data_product.ipynb\" target=\"_parent\">Generate Data Product</a>"
   ]
  },
  {
   "cell_type": "markdown",
   "id": "9c61c43f-7edc-4f28-8fd2-9cfadeacb791",
   "metadata": {
    "papermill": {},
    "tags": []
   },
   "source": [
    "**Tags:** #googlecalendar #calendarlist #list #api #python #reference"
   ]
  },
  {
   "cell_type": "markdown",
   "id": "d7c1c00f-4fbb-459d-8e35-a71c802f9453",
   "metadata": {
    "papermill": {},
    "tags": []
   },
   "source": [
    "**Author:** [Sriniketh Jayasendil](https://www.linkedin.com/in/sriniketh-jayasendil)"
   ]
  },
  {
   "cell_type": "markdown",
   "id": "38858ee9-46fe-4425-b2df-b501e603f2d2",
   "metadata": {
    "papermill": {},
    "tags": []
   },
   "source": [
    "**Description:** This notebook will demonstrate how to use the Google Calendar API to list the calendars on the user's calendar list."
   ]
  },
  {
   "cell_type": "markdown",
   "id": "f27f7bed-a5cf-40e9-bcbf-0c852a9b6a11",
   "metadata": {
    "papermill": {},
    "tags": []
   },
   "source": [
    "**References:**\n",
    "- [Google Calendar API Reference](https://developers.google.com/calendar/api/v3/reference/calendarList/list)\n",
    "- [Google Calendar API Python Quickstart](https://developers.google.com/calendar/quickstart/python)"
   ]
  },
  {
   "cell_type": "markdown",
   "id": "bef0493d-918d-493f-9566-61b8fa9d5f60",
   "metadata": {
    "papermill": {},
    "tags": []
   },
   "source": [
    "## Input"
   ]
  },
  {
   "cell_type": "markdown",
   "id": "614b3555-cffc-4fd2-b73b-a8902d6da705",
   "metadata": {
    "papermill": {},
    "tags": []
   },
   "source": [
    "### Import libraries"
   ]
  },
  {
   "cell_type": "code",
   "execution_count": null,
   "id": "afdf0b97-aa44-4a43-93a3-3de35e2f4558",
   "metadata": {
    "papermill": {},
    "tags": []
   },
   "outputs": [],
   "source": [
    "from pprint import pprint\n",
    "try:\n",
    "    from apiclient.discovery import build\n",
    "    from google_auth_oauthlib.flow import InstalledAppFlow\n",
    "except ModuleNotFoundError:\n",
    "    !pip install google-api-python-client\n",
    "    from apiclient.discovery import build\n",
    "    from google_auth_oauthlib.flow import InstalledAppFlow"
   ]
  },
  {
   "cell_type": "markdown",
   "id": "6cfe93ac-b9ba-4fc2-ba10-d96fdbcc3da1",
   "metadata": {
    "papermill": {},
    "tags": []
   },
   "source": [
    "### Setup Variables\n",
    "Follow this [blog](https://blog.sriniketh.design/getting-credentials-from-gcp-google-cloud-platform) to know how to get the credentials from GCP\n",
    "- `scopes`: The scopes to be used for authentication\n",
    "- `secret_path`: secret json path extracted from GCP\n",
    "Assuming you have got the credentials, you can proceed further."
   ]
  },
  {
   "cell_type": "code",
   "execution_count": null,
   "id": "7b90e2fd-9464-42bd-9500-bef38e12c1cf",
   "metadata": {
    "papermill": {},
    "tags": []
   },
   "outputs": [],
   "source": [
    "# Inputs\n",
    "scopes = ['https://www.googleapis.com/auth/calendar']\n",
    "secret_path = \"secrets.json\""
   ]
  },
  {
   "cell_type": "markdown",
   "id": "40a06ab5-e594-4bd7-b93c-8790290a8cf2",
   "metadata": {
    "papermill": {},
    "tags": []
   },
   "source": [
    "### Connect to service\n",
    "Connect to service and copy/paste the autorization code in the input box below"
   ]
  },
  {
   "cell_type": "code",
   "execution_count": null,
   "id": "10201a03-a97e-4cb6-9e0a-dc73d2d57406",
   "metadata": {
    "papermill": {},
    "tags": []
   },
   "outputs": [],
   "source": [
    "flow = InstalledAppFlow.from_client_secrets_file(secret_path, scopes=scopes)\n",
    "credentials = flow.run_console()\n",
    "service = build(\"calendar\", \"v3\", credentials=credentials)"
   ]
  },
  {
   "cell_type": "markdown",
   "id": "8f5d3505-770f-4400-a172-d5529e19a036",
   "metadata": {
    "papermill": {},
    "tags": []
   },
   "source": [
    "## Model"
   ]
  },
  {
   "cell_type": "markdown",
   "id": "595a6081-4cbd-4727-bab4-111a493fe6d1",
   "metadata": {
    "papermill": {},
    "tags": []
   },
   "source": [
    "### List Calendars"
   ]
  },
  {
   "cell_type": "markdown",
   "id": "df069bb9-ff5f-40bd-b2f1-a191d8478abc",
   "metadata": {
    "papermill": {},
    "tags": []
   },
   "source": [
    "This function will use the Google Calendar API to list the calendars on the user's calendar list."
   ]
  },
  {
   "cell_type": "code",
   "execution_count": null,
   "id": "ebc4f910-b04d-4b2c-94ec-30c1eb567a00",
   "metadata": {
    "papermill": {},
    "tags": []
   },
   "outputs": [],
   "source": [
    "def list_calendars(service):    \n",
    "    # Call the Calendar API\n",
    "    results = service.calendarList().list().execute()\n",
    "    return results"
   ]
  },
  {
   "cell_type": "markdown",
   "id": "ac795830-5d74-4b76-a06a-7548ce88ae4f",
   "metadata": {
    "papermill": {},
    "tags": []
   },
   "source": [
    "## Output"
   ]
  },
  {
   "cell_type": "markdown",
   "id": "6d5b646a-2d8a-47d5-a057-1401c14f47fd",
   "metadata": {
    "papermill": {},
    "tags": []
   },
   "source": [
    "### Display result"
   ]
  },
  {
   "cell_type": "code",
   "execution_count": null,
   "id": "c6d5c7a7-56c0-482e-812d-b203de9a624a",
   "metadata": {
    "papermill": {},
    "tags": []
   },
   "outputs": [],
   "source": [
    "calendars = list_calendars(service)\n",
    "print(\"📅 Calendars found:\", len(calendars))\n",
    "pprint(calendars)"
   ]
  },
  {
   "cell_type": "markdown",
   "id": "e6112fa9-99aa-4834-93f9-c04b72af5b91",
   "metadata": {
    "papermill": {},
    "tags": []
   },
   "source": [
    " "
   ]
  }
 ],
 "metadata": {
  "kernelspec": {
   "display_name": "Python 3",
   "language": "python",
   "name": "python3"
  },
  "language_info": {
   "codemirror_mode": {
    "name": "ipython",
    "version": 3
   },
   "file_extension": ".py",
   "mimetype": "text/x-python",
   "name": "python",
   "nbconvert_exporter": "python",
   "pygments_lexer": "ipython3",
   "version": "3.9.6"
  },
  "naas": {
   "notebook_id": "7513483959a8c033cb93018a8f4a9eb29cbfbfcbef8eacd5d2f2b9f5dd48ef1c",
   "notebook_path": "Google Calendar/Google_Calendar_List_calendars.ipynb"
  },
  "papermill": {
   "default_parameters": {},
   "environment_variables": {},
   "parameters": {},
   "version": "2.4.0"
  },
  "widgets": {
   "application/vnd.jupyter.widget-state+json": {
    "state": {},
    "version_major": 2,
    "version_minor": 0
   }
  }
 },
 "nbformat": 4,
 "nbformat_minor": 5
}