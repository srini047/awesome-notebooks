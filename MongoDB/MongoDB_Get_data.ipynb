{
 "cells": [
  {
   "cell_type": "markdown",
   "id": "funky-knowing",
   "metadata": {
    "papermill": {},
    "tags": []
   },
   "source": [
    "<img width=\"10%\" alt=\"Naas\" src=\"https://landen.imgix.net/jtci2pxwjczr/assets/5ice39g4.png?w=160\"/>"
   ]
  },
  {
   "cell_type": "markdown",
   "id": "north-notice",
   "metadata": {
    "papermill": {},
    "tags": []
   },
   "source": [
    "# MongoDB - Get data\n",
    "<a href=\"https://app.naas.ai/user-redirect/naas/downloader?url=https://raw.githubusercontent.com/jupyter-naas/awesome-notebooks/master/MongoDB/MongoDB_Get_data.ipynb\" target=\"_parent\"><img src=\"https://naasai-public.s3.eu-west-3.amazonaws.com/open_in_naas.svg\"/></a><br><br><a href=\"https://github.com/jupyter-naas/awesome-notebooks/issues/new?assignees=&labels=&template=template-request.md&title=Tool+-+Action+of+the+notebook+\">Template request</a> | <a href=\"https://github.com/jupyter-naas/awesome-notebooks/issues/new?assignees=&labels=bug&template=bug_report.md&title=MongoDB+-+Get+data:+Error+short+description\">Bug report</a>"
   ]
  },
  {
   "cell_type": "markdown",
   "id": "95f3515c-8ced-4fa8-8f61-88e6286f6688",
   "metadata": {
    "papermill": {},
    "tags": []
   },
   "source": [
    "**Tags:** #mongodb #database #naas_drivers #snippet #operations #naas"
   ]
  },
  {
   "cell_type": "markdown",
   "id": "naas-author",
   "metadata": {
    "papermill": {},
    "tags": [
     "naas"
    ]
   },
   "source": [
    "**Author:** [Florent Ravenel](https://www.linkedin.com/in/ACoAABCNSioBW3YZHc2lBHVG0E_TXYWitQkmwog/)"
   ]
  },
  {
   "cell_type": "markdown",
   "id": "naas-description",
   "metadata": {
    "papermill": {},
    "tags": [
     "description"
    ]
   },
   "source": [
    "**Description:** This notebook provides instructions on how to retrieve data from a MongoDB database."
   ]
  },
  {
   "cell_type": "markdown",
   "id": "input_cell",
   "metadata": {
    "papermill": {},
    "tags": []
   },
   "source": [
    "## Input"
   ]
  },
  {
   "cell_type": "markdown",
   "id": "import_cell",
   "metadata": {
    "papermill": {},
    "tags": []
   },
   "source": [
    "### Import library"
   ]
  },
  {
   "cell_type": "code",
   "execution_count": null,
   "id": "necessary-scholarship",
   "metadata": {
    "papermill": {},
    "tags": []
   },
   "outputs": [],
   "source": [
    "from naas_drivers import mongo"
   ]
  },
  {
   "cell_type": "markdown",
   "id": "6e388e54-551c-470e-aef9-11db4cb4cd41",
   "metadata": {
    "papermill": {},
    "tags": []
   },
   "source": [
    "### Setup your MongoDB"
   ]
  },
  {
   "cell_type": "code",
   "execution_count": null,
   "id": "8b5e345d-cee4-4555-a86e-3c9194751ab0",
   "metadata": {
    "papermill": {},
    "tags": []
   },
   "outputs": [],
   "source": [
    "# Credentials\n",
    "user = \"my user\"\n",
    "passwd = \"my passwd\"\n",
    "host = \"url\"\n",
    "port = 9090\n",
    "\n",
    "# DB parameters\n",
    "collection_name = \"col\"\n",
    "db_name = \"db_name\""
   ]
  },
  {
   "cell_type": "markdown",
   "id": "model_cell",
   "metadata": {
    "papermill": {},
    "tags": []
   },
   "source": [
    "## Model"
   ]
  },
  {
   "cell_type": "markdown",
   "id": "interesting-seven",
   "metadata": {
    "execution": {
     "iopub.execute_input": "2021-03-03T08:25:34.105506Z",
     "iopub.status.busy": "2021-03-03T08:25:34.105279Z",
     "iopub.status.idle": "2021-03-03T08:25:34.109748Z",
     "shell.execute_reply": "2021-03-03T08:25:34.109191Z",
     "shell.execute_reply.started": "2021-03-03T08:25:34.105484Z"
    },
    "papermill": {},
    "tags": []
   },
   "source": [
    "### Get data"
   ]
  },
  {
   "cell_type": "code",
   "execution_count": null,
   "id": "alive-refund",
   "metadata": {
    "papermill": {},
    "tags": []
   },
   "outputs": [],
   "source": [
    "df = naas_drivers.mongo.connect(host, port, user, passwd).get(collection_name, db_name)"
   ]
  },
  {
   "cell_type": "markdown",
   "id": "output_cell",
   "metadata": {
    "papermill": {},
    "tags": []
   },
   "source": [
    "## Output"
   ]
  },
  {
   "cell_type": "markdown",
   "id": "domestic-falls",
   "metadata": {
    "papermill": {},
    "tags": []
   },
   "source": [
    "### Display result"
   ]
  },
  {
   "cell_type": "code",
   "execution_count": null,
   "id": "afraid-belarus",
   "metadata": {
    "papermill": {},
    "tags": []
   },
   "outputs": [],
   "source": [
    "df"
   ]
  }
 ],
 "metadata": {
  "kernelspec": {
   "display_name": "Python 3",
   "language": "python",
   "name": "python3"
  },
  "language_info": {
   "codemirror_mode": {
    "name": "ipython",
    "version": 3
   },
   "file_extension": ".py",
   "mimetype": "text/x-python",
   "name": "python",
   "nbconvert_exporter": "python",
   "pygments_lexer": "ipython3",
   "version": "3.9.6"
  },
  "naas": {
   "notebook_id": "e14426ba-0ffa-469d-a40d-4ac789f7aa06",
   "notebook_path": "MongoDB/MongoDB_Get_data.ipynb"
  },
  "papermill": {
   "default_parameters": {},
   "environment_variables": {},
   "parameters": {},
   "version": "2.3.3"
  }
 },
 "nbformat": 4,
 "nbformat_minor": 5
}