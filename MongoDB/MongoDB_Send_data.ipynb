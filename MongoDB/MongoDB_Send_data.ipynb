{
 "cells": [
  {
   "cell_type": "markdown",
   "id": "funky-knowing",
   "metadata": {
    "papermill": {},
    "tags": []
   },
   "source": [
    "<img width=\"10%\" alt=\"Naas\" src=\"https://landen.imgix.net/jtci2pxwjczr/assets/5ice39g4.png?w=160\"/>"
   ]
  },
  {
   "cell_type": "markdown",
   "id": "north-notice",
   "metadata": {
    "papermill": {},
    "tags": []
   },
   "source": [
    "# MongoDB - Send data\n",
    "<a href=\"https://app.naas.ai/user-redirect/naas/downloader?url=https://raw.githubusercontent.com/jupyter-naas/awesome-notebooks/master/MongoDB/MongoDB_Send_data.ipynb\" target=\"_parent\"><img src=\"https://naasai-public.s3.eu-west-3.amazonaws.com/open_in_naas.svg\"/></a><br><br><a href=\"https://github.com/jupyter-naas/awesome-notebooks/issues/new?assignees=&labels=&template=template-request.md&title=Tool+-+Action+of+the+notebook+\">Template request</a> | <a href=\"https://github.com/jupyter-naas/awesome-notebooks/issues/new?assignees=&labels=bug&template=bug_report.md&title=MongoDB+-+Send+data:+Error+short+description\">Bug report</a>"
   ]
  },
  {
   "cell_type": "markdown",
   "id": "bae9c637-d933-420a-a505-356ff4d56b8e",
   "metadata": {
    "papermill": {},
    "tags": []
   },
   "source": [
    "**Tags:** #mongodb #database #naas_drivers #snippet #operations #naas"
   ]
  },
  {
   "cell_type": "markdown",
   "id": "naas-author",
   "metadata": {
    "papermill": {},
    "tags": [
     "naas"
    ]
   },
   "source": [
    "**Author:** [Florent Ravenel](https://www.linkedin.com/in/ACoAABCNSioBW3YZHc2lBHVG0E_TXYWitQkmwog/)"
   ]
  },
  {
   "cell_type": "markdown",
   "id": "naas-description",
   "metadata": {
    "papermill": {},
    "tags": [
     "description"
    ]
   },
   "source": [
    "**Description:** This notebook provides instructions on how to send data to a MongoDB database."
   ]
  },
  {
   "cell_type": "markdown",
   "id": "input_cell",
   "metadata": {
    "papermill": {},
    "tags": []
   },
   "source": [
    "## Input"
   ]
  },
  {
   "cell_type": "markdown",
   "id": "import_cell",
   "metadata": {
    "papermill": {},
    "tags": []
   },
   "source": [
    "### Import library"
   ]
  },
  {
   "cell_type": "code",
   "execution_count": null,
   "id": "necessary-scholarship",
   "metadata": {
    "papermill": {},
    "tags": []
   },
   "outputs": [],
   "source": [
    "from naas_drivers import mongo\n",
    "import pandas as pd"
   ]
  },
  {
   "cell_type": "markdown",
   "id": "de9e2c82-3963-4c94-ba84-6bf3da56a527",
   "metadata": {
    "papermill": {},
    "tags": []
   },
   "source": [
    "### Variables"
   ]
  },
  {
   "cell_type": "code",
   "execution_count": null,
   "id": "8c593a8b-66ac-4699-8cce-6ba0d78faa04",
   "metadata": {
    "papermill": {},
    "tags": []
   },
   "outputs": [],
   "source": [
    "# Credentials\n",
    "user = \"my user\"\n",
    "passwd = \"my passwd\"\n",
    "host = \"url\"\n",
    "port = 9090\n",
    "\n",
    "# DB parameters\n",
    "collection_name = \"col\"\n",
    "db_name = \"db_name\""
   ]
  },
  {
   "cell_type": "markdown",
   "id": "model_cell",
   "metadata": {
    "papermill": {},
    "tags": []
   },
   "source": [
    "## Model"
   ]
  },
  {
   "cell_type": "markdown",
   "id": "4a391f03-803d-4242-bc82-f98c68b86cdd",
   "metadata": {
    "papermill": {},
    "tags": []
   },
   "source": [
    "### Read dataframe"
   ]
  },
  {
   "cell_type": "code",
   "execution_count": null,
   "id": "f34f4059-bf3f-4990-9b64-1397c1f55120",
   "metadata": {
    "papermill": {},
    "tags": []
   },
   "outputs": [],
   "source": [
    "data = {\"LABEL\": \"Label 1\", \"VALUE\": 0}\n",
    "df = pd.DataFrame([data])\n",
    "df"
   ]
  },
  {
   "cell_type": "markdown",
   "id": "output_cell",
   "metadata": {
    "papermill": {},
    "tags": []
   },
   "source": [
    "## Output"
   ]
  },
  {
   "cell_type": "markdown",
   "id": "interesting-seven",
   "metadata": {
    "execution": {
     "iopub.execute_input": "2021-03-03T08:25:34.105506Z",
     "iopub.status.busy": "2021-03-03T08:25:34.105279Z",
     "iopub.status.idle": "2021-03-03T08:25:34.109748Z",
     "shell.execute_reply": "2021-03-03T08:25:34.109191Z",
     "shell.execute_reply.started": "2021-03-03T08:25:34.105484Z"
    },
    "papermill": {},
    "tags": []
   },
   "source": [
    "### Send data"
   ]
  },
  {
   "cell_type": "code",
   "execution_count": null,
   "id": "alive-refund",
   "metadata": {
    "papermill": {},
    "tags": []
   },
   "outputs": [],
   "source": [
    "mongo.connect(host, port, user, passwd).send(\n",
    "    df, collection_name, db_name, replace=False\n",
    ")"
   ]
  }
 ],
 "metadata": {
  "kernelspec": {
   "display_name": "Python 3",
   "language": "python",
   "name": "python3"
  },
  "language_info": {
   "codemirror_mode": {
    "name": "ipython",
    "version": 3
   },
   "file_extension": ".py",
   "mimetype": "text/x-python",
   "name": "python",
   "nbconvert_exporter": "python",
   "pygments_lexer": "ipython3",
   "version": "3.9.6"
  },
  "naas": {
   "notebook_id": "88287d2c-459f-4163-a39f-0af6a3f4c46d",
   "notebook_path": "MongoDB/MongoDB_Send_data.ipynb"
  },
  "papermill": {
   "default_parameters": {},
   "environment_variables": {},
   "parameters": {},
   "version": "2.3.3"
  }
 },
 "nbformat": 4,
 "nbformat_minor": 5
}