{
 "cells": [
  {
   "cell_type": "markdown",
   "id": "e69724e7-9d9a-44f7-94d5-295273be6daf",
   "metadata": {
    "papermill": {},
    "tags": []
   },
   "source": [
    "<img width=\"10%\" alt=\"Naas\" src=\"https://landen.imgix.net/jtci2pxwjczr/assets/5ice39g4.png?w=160\"/>"
   ]
  },
  {
   "cell_type": "markdown",
   "id": "081128f9-8409-4fc1-94ad-691752a2e21b",
   "metadata": {
    "papermill": {},
    "tags": []
   },
   "source": [
    "# MongoDB - Send data to Google Sheets\n",
    "<a href=\"https://app.naas.ai/user-redirect/naas/downloader?url=https://raw.githubusercontent.com/jupyter-naas/awesome-notebooks/master/MongoDB/MongoDB_Send_data_to_Google_Sheets.ipynb\" target=\"_parent\"><img src=\"https://naasai-public.s3.eu-west-3.amazonaws.com/Open_in_Naas_Lab.svg\"/></a><br><br><a href=\"https://github.com/jupyter-naas/awesome-notebooks/issues/new?assignees=&labels=&template=template-request.md&title=Tool+-+Action+of+the+notebook+\">Template request</a> | <a href=\"https://github.com/jupyter-naas/awesome-notebooks/issues/new?assignees=&labels=bug&template=bug_report.md&title=MongoDB+-+Send+data+to+Google+Sheets:+Error+short+description\">Bug report</a> | <a href=\"https://app.naas.ai/user-redirect/naas/downloader?url=https://raw.githubusercontent.com/jupyter-naas/awesome-notebooks/master/Naas/Naas_Start_data_product.ipynb\" target=\"_parent\">Generate Data Product</a>"
   ]
  },
  {
   "cell_type": "markdown",
   "id": "49857589-ce9f-404a-97fa-72f113ed4e6c",
   "metadata": {
    "papermill": {},
    "tags": []
   },
   "source": [
    "**Tags:** #mongodb #googlesheets #nosql #operations #automation"
   ]
  },
  {
   "cell_type": "markdown",
   "id": "5a4c59ca-126b-4e4c-8847-f4badebc42a0",
   "metadata": {
    "papermill": {},
    "tags": []
   },
   "source": [
    "**Author:** [Oketunji Oludolapo](https://www.linkedin.com/in/oludolapo-oketunji/)"
   ]
  },
  {
   "cell_type": "markdown",
   "id": "b2b288da-6e0e-47d4-a835-b63a038c97dd",
   "metadata": {
    "papermill": {},
    "tags": []
   },
   "source": [
    "This notebook will help you send data from your MongoDB database collection to your spreadsheet"
   ]
  },
  {
   "cell_type": "markdown",
   "id": "3766d898-fc97-43b7-9984-117898afe9fd",
   "metadata": {
    "papermill": {},
    "tags": []
   },
   "source": [
    "**How To Use Template:** [Video](https://drive.google.com/file/d/1lAZdZP6qk4tZepgWJtiQ6rL6D3wosPSN/view?usp=sharing)"
   ]
  },
  {
   "cell_type": "markdown",
   "id": "406b191e-709f-4eb0-b065-2cbca616cbbf",
   "metadata": {
    "papermill": {},
    "tags": []
   },
   "source": [
    "## Input"
   ]
  },
  {
   "cell_type": "code",
   "execution_count": null,
   "id": "cc1d3e66-94a4-4e0a-95f9-f31693ec8c36",
   "metadata": {
    "papermill": {},
    "tags": []
   },
   "outputs": [],
   "source": [
    "from naas_drivers import mongo, gsheet\n",
    "import pandas as pd\n",
    "import naas"
   ]
  },
  {
   "cell_type": "markdown",
   "id": "6b11c298-b2f2-4dd6-a40d-651392a77964",
   "metadata": {
    "papermill": {},
    "tags": []
   },
   "source": [
    "### Setup MongoDB\n",
    "- Get your user, password and connection URL details from your MongoDB Atlas Cluster\n",
    "**How To get Required MongoDB details**: [Article](https://towardsdev.com/part-6-7-of-python-mongodb-tutorial-series-for-data-scientists-connecting-mongodb-atlas-to-python-d7169445fca1)"
   ]
  },
  {
   "cell_type": "code",
   "execution_count": null,
   "id": "fedfef53-df8b-4e55-b507-0036040c4c64",
   "metadata": {
    "papermill": {},
    "tags": []
   },
   "outputs": [],
   "source": [
    "user = \"your user\"\n",
    "passwd = \"your password\"\n",
    "host = \"Your Connection URL\"\n",
    "port = 9090\n",
    "collection_name = \"COLLECTION NAME\"\n",
    "db_name = \"DATABASE NAME\""
   ]
  },
  {
   "cell_type": "markdown",
   "id": "131e661e-a650-48c1-9da7-6c06229e4261",
   "metadata": {
    "papermill": {},
    "tags": []
   },
   "source": [
    "### Setup Google Sheet\n",
    "- Share your Google Sheet with our service account : 🔗 naas-share@naas-gsheets.iam.gserviceaccount.com"
   ]
  },
  {
   "cell_type": "code",
   "execution_count": null,
   "id": "49bfa4a4-6d98-4925-8670-61152a5ae86d",
   "metadata": {
    "papermill": {},
    "tags": []
   },
   "outputs": [],
   "source": [
    "spreadsheet_id = \"------\"\n",
    "sheet_name = \"Sheet1\""
   ]
  },
  {
   "cell_type": "markdown",
   "id": "a301c5e7-3648-4123-8d10-d74c6ffd50ef",
   "metadata": {
    "papermill": {},
    "tags": []
   },
   "source": [
    "### Setup Naas"
   ]
  },
  {
   "cell_type": "code",
   "execution_count": null,
   "id": "59830734-d8fa-45b1-8d68-30a15a04ed15",
   "metadata": {
    "papermill": {},
    "tags": []
   },
   "outputs": [],
   "source": [
    "naas.scheduler.add(\n",
    "    cron=\"0 9 * * *\"\n",
    ")  # Send in production this notebook and run it, every day at 9:00.\n",
    "\n",
    "# use this to delete your automation\n",
    "# naas.scheduler.delete()"
   ]
  },
  {
   "cell_type": "markdown",
   "id": "08912c4e-7b6e-4d30-acce-8c0f2caf9ea1",
   "metadata": {
    "papermill": {},
    "tags": []
   },
   "source": [
    "## Model"
   ]
  },
  {
   "cell_type": "markdown",
   "id": "fae21df2-e526-4b5a-a101-da61e7b6ddd8",
   "metadata": {
    "papermill": {},
    "tags": []
   },
   "source": [
    "### Get data in MongoDB"
   ]
  },
  {
   "cell_type": "code",
   "execution_count": null,
   "id": "165561bc-8c9c-4447-9ffb-9a02eac45474",
   "metadata": {
    "papermill": {},
    "tags": []
   },
   "outputs": [],
   "source": [
    "df = mongo.connect(host, port, user, passwd).get(collection_name, db_name)"
   ]
  },
  {
   "cell_type": "markdown",
   "id": "75e01e33-5ab8-48c8-90bd-cf9daae2b8ea",
   "metadata": {
    "papermill": {},
    "tags": []
   },
   "source": [
    "## Output"
   ]
  },
  {
   "cell_type": "markdown",
   "id": "0ed83a0f-e418-4075-80f2-ae22b240e670",
   "metadata": {
    "papermill": {},
    "tags": []
   },
   "source": [
    "### Send data to Google Sheet"
   ]
  },
  {
   "cell_type": "code",
   "execution_count": null,
   "id": "b2ba3d73-e730-4e3b-a390-26c8c37f8a7d",
   "metadata": {
    "papermill": {},
    "tags": []
   },
   "outputs": [],
   "source": [
    "gsheet.connect(spreadsheet_id).send(sheet_name=sheet_name, data=df, append=False)"
   ]
  }
 ],
 "metadata": {
  "kernelspec": {
   "display_name": "Python 3",
   "language": "python",
   "name": "python3"
  },
  "language_info": {
   "codemirror_mode": {
    "name": "ipython",
    "version": 3
   },
   "file_extension": ".py",
   "mimetype": "text/x-python",
   "name": "python",
   "nbconvert_exporter": "python",
   "pygments_lexer": "ipython3",
   "version": "3.9.6"
  },
  "naas": {
   "notebook_id": "d7646a98514c3189281b5bfe97b6c5c639807d7eb9b6d6c1367b0c0934d5d540",
   "notebook_path": "MongoDB/MongoDB_Send_data_to_Google_Sheets.ipynb"
  },
  "papermill": {
   "default_parameters": {},
   "environment_variables": {},
   "parameters": {},
   "version": "2.3.4"
  }
 },
 "nbformat": 4,
 "nbformat_minor": 5
}