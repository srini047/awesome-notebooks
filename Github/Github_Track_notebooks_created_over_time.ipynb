{
 "cells": [
  {
   "cell_type": "markdown",
   "id": "da3d8a29-e10c-4c8d-a012-5f1114d86fad",
   "metadata": {
    "papermill": {},
    "tags": []
   },
   "source": [
    "# Github - Track notebooks created over time\n",
    "<a href=\"https://app.naas.ai/user-redirect/naas/downloader?url=https://raw.githubusercontent.com/jupyter-naas/awesome-notebooks/master/Github/Github_Track_notebooks_created_over_time.ipynb\" target=\"_parent\"><img src=\"https://naasai-public.s3.eu-west-3.amazonaws.com/open_in_naas.svg\"/></a>"
   ]
  },
  {
   "cell_type": "markdown",
   "id": "ef49c8ec-8f57-4ec1-b681-c8f763b4d946",
   "metadata": {
    "papermill": {},
    "tags": []
   },
   "source": [
    "## Input"
   ]
  },
  {
   "cell_type": "markdown",
   "id": "617f6a47-ae37-4760-9195-4829926cce94",
   "metadata": {},
   "source": [
    "### Import libraries"
   ]
  },
  {
   "cell_type": "code",
   "execution_count": null,
   "id": "b5a034dd-2a9d-4fdd-b1f6-7a2b58fd3cdd",
   "metadata": {
    "papermill": {},
    "tags": []
   },
   "outputs": [],
   "source": [
    "import pandas as pd\n",
    "import requests\n",
    "import plotly.graph_objects as go\n",
    "from datetime import datetime\n",
    "from naas_drivers import github"
   ]
  },
  {
   "cell_type": "markdown",
   "id": "98ad0485-44eb-428d-bfe3-45391fe1d371",
   "metadata": {
    "papermill": {},
    "tags": []
   },
   "source": [
    "### Setup Github\n",
    "**How to find your personal access token on Github?**\n",
    "\n",
    "- First we need to create a personal access token to get the details of our organization from here: https://github.com/settings/tokens\n",
    "- You will be asked to select scopes for the token. Which scopes you choose will determine what information and actions you will be able to perform against the API.\n",
    "- You should be careful with the ones prefixed with write:, delete: and admin: as these might be quite destructive.\n",
    "- You can find description of each scope in docs here (https://docs.github.com/en/developers/apps/building-oauth-apps/scopes-for-oauth-apps)."
   ]
  },
  {
   "cell_type": "code",
   "execution_count": null,
   "id": "b4bd695e-f7bd-4cde-85a2-050e98bae3b6",
   "metadata": {
    "papermill": {},
    "tags": []
   },
   "outputs": [],
   "source": [
    "GITHUB_TOKEN = \"GITHUB_TOKEN\"\n",
    "REPO_URL = \"https://github.com/jupyter-naas/awesome-notebooks\""
   ]
  },
  {
   "cell_type": "markdown",
   "id": "7abf49a0-a5f8-43d1-af1f-be26f39fa952",
   "metadata": {
    "execution": {
     "iopub.execute_input": "2022-01-22T13:48:53.656270Z",
     "iopub.status.busy": "2022-01-22T13:48:53.656043Z",
     "iopub.status.idle": "2022-01-22T13:48:53.658818Z",
     "shell.execute_reply": "2022-01-22T13:48:53.658211Z",
     "shell.execute_reply.started": "2022-01-22T13:48:53.656247Z"
    },
    "papermill": {},
    "tags": []
   },
   "source": [
    "### Get commits"
   ]
  },
  {
   "cell_type": "code",
   "execution_count": null,
   "id": "796a40ff-75a4-4f09-aa7a-f1b7dda682d9",
   "metadata": {
    "papermill": {},
    "tags": []
   },
   "outputs": [],
   "source": [
    "df_commits = github.connect(GITHUB_TOKEN).repositories.get_commits(REPO_URL)\n",
    "print(\"Total commits:\", len(df_commits))\n",
    "df_commits.head(1)"
   ]
  },
  {
   "cell_type": "markdown",
   "id": "7d64d497-7281-407a-b216-c58137dfc469",
   "metadata": {
    "papermill": {},
    "tags": []
   },
   "source": [
    "## Model"
   ]
  },
  {
   "cell_type": "markdown",
   "id": "3ea2f696-6e79-4a7d-953a-4b0bebd224ab",
   "metadata": {
    "papermill": {},
    "tags": []
   },
   "source": [
    "### Filter on merge PR and date"
   ]
  },
  {
   "cell_type": "code",
   "execution_count": null,
   "id": "c06cda12-e0f3-41da-9143-906514dd69e2",
   "metadata": {
    "papermill": {},
    "tags": []
   },
   "outputs": [],
   "source": [
    "def get_commits_merge(df):\n",
    "    df_pr = df[(df.MESSAGE.str[:5] == \"Merge\") & \n",
    "               (df.VERIFICATION_STATUS == True)].reset_index(drop=True)\n",
    "    print(\"Total Merged PR:\", len(df_pr))\n",
    "\n",
    "    df_pr[\"DATE\"] = df_pr[\"AUTHOR_DATE\"].dt.strftime(\"%Y-%m-%d\")\n",
    "    df_pr = df_pr[[\"DATE\", \"COMMITTER_NAME\", \"ID\"]].drop_duplicates(\"DATE\").reset_index(drop=True)\n",
    "    print(\"Total Merged PR (unique date):\", len(df_pr))\n",
    "    return df_pr\n",
    "\n",
    "df_pr = get_commits_merge(df_commits)\n",
    "df_pr.head(1)"
   ]
  },
  {
   "cell_type": "markdown",
   "id": "a2f39e6f-2a9e-4a2b-b1b7-48e892b2aed1",
   "metadata": {
    "papermill": {},
    "tags": []
   },
   "source": [
    "### Get notebooks for each commits"
   ]
  },
  {
   "cell_type": "code",
   "execution_count": null,
   "id": "9deb6e43-abba-49ec-8603-c02bf14fe90e",
   "metadata": {
    "tags": []
   },
   "outputs": [],
   "source": [
    "def get_notebooks(commit_id):\n",
    "    notebooks = []\n",
    "    headers = {'Authorization': f'token {GITHUB_TOKEN}'}\n",
    "    url = f\"https://api.github.com/repos/jupyter-naas/awesome-notebooks/git/trees/{commit_id}?recursive=1\"\n",
    "    res = requests.get(url, headers=headers)\n",
    "    try:\n",
    "        res.raise_for_status()\n",
    "    except requests.HTTPError as e:\n",
    "        raise(e)\n",
    "    res_json = res.json()\n",
    "\n",
    "    trees = res_json.get(\"tree\")\n",
    "    for file in trees:\n",
    "        if \".github\" not in file.get(\"path\") and \".gitignore\" not in file.get(\"path\") and \"/\" in file.get(\"path\"):\n",
    "            if file.get(\"path\").endswith(\".ipynb\"):\n",
    "                temp = file.get(\"path\").split(\"/\")\n",
    "                if temp == -1:\n",
    "                    data = {\n",
    "                        \"root\": None,\n",
    "                        \"subdir\": file.get(\"path\")\n",
    "                    }\n",
    "                    notebooks.append(data)\n",
    "                else:\n",
    "                    last_folder = \"\"\n",
    "                    file_name = temp[-1]\n",
    "                    temp.pop()\n",
    "                    for folder in temp:\n",
    "                        last_folder += \"/\" + folder\n",
    "                    root = last_folder[1:]\n",
    "                    data = {\n",
    "                        \"root\": root,\n",
    "                        \"subdir\": file_name\n",
    "                    }\n",
    "                    notebooks.append(data)\n",
    "    return pd.DataFrame(notebooks)"
   ]
  },
  {
   "cell_type": "code",
   "execution_count": null,
   "id": "0d0968b6-7df6-4232-a31d-eb072274f9f4",
   "metadata": {
    "papermill": {},
    "tags": []
   },
   "outputs": [],
   "source": [
    "df_tracks = pd.DataFrame()\n",
    "\n",
    "for _, row in df_pr.iterrows():\n",
    "    date = row.DATE\n",
    "    commit_id = row.ID\n",
    "    try:\n",
    "        df_track = get_notebooks(commit_id)\n",
    "        df_track[\"DATE\"] = date\n",
    "        df_track[\"ID\"] = commit_id\n",
    "        # Concat\n",
    "        df_tracks = pd.concat([df_tracks, df_track], axis=0)\n",
    "    except Exception as e:\n",
    "        print(f\"Error on {date} - {commit_id}\", e)\n",
    "\n",
    "print(\"Total notebooks tracked:\", len(df_tracks))       \n",
    "df_tracks.head(1)"
   ]
  },
  {
   "cell_type": "markdown",
   "id": "5dc1e74c-90af-4e87-b131-06415220d4d6",
   "metadata": {
    "papermill": {},
    "tags": []
   },
   "source": [
    "## Output"
   ]
  },
  {
   "cell_type": "markdown",
   "id": "0d4ca5e9-05df-4a7d-970e-658b33f97262",
   "metadata": {},
   "source": [
    "### Get number of notebooks by unique date"
   ]
  },
  {
   "cell_type": "code",
   "execution_count": null,
   "id": "a34f5de4-bec4-4735-bc75-614a6ddfe2e9",
   "metadata": {
    "papermill": {},
    "tags": []
   },
   "outputs": [],
   "source": [
    "def get_trend(df,\n",
    "              date_col_name='DATE',\n",
    "              date_order='asc'):\n",
    "    \n",
    "    df = df.groupby(date_col_name, as_index=False).agg({\"ID\": \"count\"})\n",
    "    d = datetime.now().date()\n",
    "    d2 = df.loc[df.index[0], date_col_name]\n",
    "    idx = pd.date_range(d2, d, freq = \"D\")\n",
    "    \n",
    "    df.set_index(date_col_name, drop=True, inplace=True)\n",
    "    df.index = pd.DatetimeIndex(df.index)\n",
    "    df = df.reindex(idx, fill_value=0)\n",
    "    df[date_col_name] = pd.DatetimeIndex(df.index)\n",
    "    df = df.reset_index(drop=True)\n",
    "    for _, row in df.iterrows():\n",
    "        if _ > 0:\n",
    "            n_1 = df.loc[df.index[_-1], \"ID\"]\n",
    "            n = df.loc[df.index[_], \"ID\"]\n",
    "            if n == 0:\n",
    "                df.loc[_, \"ID\"] = n_1\n",
    "        \n",
    "    return df\n",
    "\n",
    "df_notebooks = get_trend(df_tracks)\n",
    "df_notebooks"
   ]
  },
  {
   "cell_type": "markdown",
   "id": "c3d2e573-0d96-4ec6-9361-376d28438604",
   "metadata": {
    "papermill": {},
    "tags": []
   },
   "source": [
    "### Plotting a line chart for number of notebooks dy date"
   ]
  },
  {
   "cell_type": "code",
   "execution_count": null,
   "id": "58622641-9a4f-491e-9df2-0a876cc8649a",
   "metadata": {
    "tags": []
   },
   "outputs": [],
   "source": [
    "def create_linechart(df):\n",
    "    # Calc commits\n",
    "    notebooks = df.loc[df.index[-1], \"ID\"]\n",
    "    \n",
    "    # Init\n",
    "    fig = go.Figure()\n",
    "    \n",
    "    # Create fig\n",
    "    fig.add_trace(\n",
    "        go.Scatter(\n",
    "            x=df.DATE.to_list(),\n",
    "            y=df.ID.to_list(),\n",
    "            mode=\"lines+text\",\n",
    "            line=dict(color=\"black\"),\n",
    "        )\n",
    "    )\n",
    "    fig.update_traces(marker_color='black')\n",
    "    fig.update_layout(\n",
    "        title=f\"<b>Tracks of notebooks created since naas launch </b><br><span style='font-size: 13px;'>Total notebooks as of today: {notebooks}</span>\",\n",
    "        title_font=dict(family=\"Arial\", size=18, color=\"black\"),\n",
    "        plot_bgcolor=\"#ffffff\",\n",
    "        width=1200,\n",
    "        height=800,\n",
    "        paper_bgcolor=\"white\",\n",
    "        xaxis_title='Date',\n",
    "        xaxis_title_font=dict(family=\"Arial\", size=11, color=\"black\"),\n",
    "        yaxis_title='Nb. of notebooks',\n",
    "        yaxis_title_font=dict(family=\"Arial\", size=11, color=\"black\"),\n",
    "        margin_pad=10,\n",
    "    )\n",
    "    fig.show()\n",
    "    return fig\n",
    "\n",
    "fig = create_linechart(df_notebooks)"
   ]
  },
  {
   "cell_type": "code",
   "execution_count": null,
   "id": "5062427c-6be6-4a72-bfad-69bc55856e5d",
   "metadata": {},
   "outputs": [],
   "source": []
  }
 ],
 "metadata": {
  "kernelspec": {
   "display_name": "Python 3",
   "language": "python",
   "name": "python3"
  },
  "language_info": {
   "codemirror_mode": {
    "name": "ipython",
    "version": 3
   },
   "file_extension": ".py",
   "mimetype": "text/x-python",
   "name": "python",
   "nbconvert_exporter": "python",
   "pygments_lexer": "ipython3",
   "version": "3.8.8"
  },
  "papermill": {
   "default_parameters": {},
   "environment_variables": {},
   "parameters": {},
   "version": "2.3.4"
  }
 },
 "nbformat": 4,
 "nbformat_minor": 5
}
