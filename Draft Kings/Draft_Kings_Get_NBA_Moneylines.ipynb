{
 "cells": [
  {
   "cell_type": "markdown",
   "id": "latin-packing",
   "metadata": {
    "execution": {
     "iopub.execute_input": "2021-02-23T14:22:16.610471Z",
     "iopub.status.busy": "2021-02-23T14:22:16.610129Z",
     "iopub.status.idle": "2021-02-23T14:22:16.627784Z",
     "shell.execute_reply": "2021-02-23T14:22:16.626866Z",
     "shell.execute_reply.started": "2021-02-23T14:22:16.610384Z"
    },
    "papermill": {},
    "tags": []
   },
   "source": [
    "<img width=\"10%\" alt=\"Naas\" src=\"https://landen.imgix.net/jtci2pxwjczr/assets/5ice39g4.png?w=160\"/>"
   ]
  },
  {
   "cell_type": "markdown",
   "id": "compressed-wilson",
   "metadata": {
    "papermill": {},
    "tags": []
   },
   "source": [
    "# Draft Kings - Get NBA Moneylines\n",
    "<a href=\"https://app.naas.ai/user-redirect/naas/downloader?url=https://raw.githubusercontent.com/jupyter-naas/awesome-notebooks/master/Draft%20Kings/Draft_Kings_Get_NBA_Moneylines.ipynb\" target=\"_parent\"><img src=\"https://naasai-public.s3.eu-west-3.amazonaws.com/open_in_naas.svg\"/></a><br><br><a href=\"https://github.com/jupyter-naas/awesome-notebooks/issues/new?assignees=&labels=&template=template-request.md&title=Tool+-+Action+of+the+notebook+\">Template request</a> | <a href=\"https://github.com/jupyter-naas/awesome-notebooks/issues/new?assignees=&labels=bug&template=bug_report.md&title=Draft+Kings+-+Get+NBA+Moneylines:+Error+short+description\">Bug report</a>"
   ]
  },
  {
   "cell_type": "markdown",
   "id": "religious-programmer",
   "metadata": {
    "papermill": {},
    "tags": []
   },
   "source": [
    "**Tags:** #draftkings #nba #betting #python #analytics #automation #sports #sports_betting #opendata #notification #email"
   ]
  },
  {
   "cell_type": "markdown",
   "id": "1fe9f56e-561c-4f52-aef8-b861c9462107",
   "metadata": {
    "papermill": {},
    "tags": []
   },
   "source": [
    "**Author:** [JA Williams](https://www.linkedin.com/in/ja-williams-529517187/)"
   ]
  },
  {
   "cell_type": "markdown",
   "id": "naas-description",
   "metadata": {
    "papermill": {},
    "tags": [
     "description"
    ]
   },
   "source": [
    "**Description:** This notebook provides an analysis of NBA Moneylines from Draft Kings to help you make informed betting decisions."
   ]
  },
  {
   "cell_type": "markdown",
   "id": "5397666a",
   "metadata": {
    "papermill": {},
    "tags": []
   },
   "source": [
    "## Input"
   ]
  },
  {
   "cell_type": "markdown",
   "id": "numeric-mediterranean",
   "metadata": {
    "papermill": {},
    "tags": []
   },
   "source": [
    "### Import libraries"
   ]
  },
  {
   "cell_type": "code",
   "execution_count": null,
   "id": "potential-surfing",
   "metadata": {
    "papermill": {},
    "tags": []
   },
   "outputs": [],
   "source": [
    "import naas\n",
    "import requests\n",
    "import pandas as pd\n",
    "from bs4 import BeautifulSoup\n",
    "from naas_drivers import emailbuilder\n",
    "from datetime import datetime\n",
    "import pytz"
   ]
  },
  {
   "cell_type": "markdown",
   "id": "0d884e55-9270-49e5-8645-60e91385297f",
   "metadata": {
    "papermill": {},
    "tags": []
   },
   "source": [
    "### Setup Draft Kings"
   ]
  },
  {
   "cell_type": "code",
   "execution_count": null,
   "id": "e0a304b4-d823-4258-9b53-5ea10daabb68",
   "metadata": {
    "papermill": {},
    "tags": []
   },
   "outputs": [],
   "source": [
    "# URL to scrap data\n",
    "URL = \"https://sportsbook.draftkings.com/leagues/basketball/88670846\""
   ]
  },
  {
   "cell_type": "markdown",
   "id": "968aaba2-6c0c-4342-9442-73bf5d63f25f",
   "metadata": {
    "papermill": {},
    "tags": []
   },
   "source": [
    "### Setup Naas"
   ]
  },
  {
   "cell_type": "code",
   "execution_count": null,
   "id": "a286e4c6-39ae-467c-933e-27c78dfb8bd9",
   "metadata": {
    "papermill": {},
    "tags": []
   },
   "outputs": [],
   "source": [
    "# Get all timezone\n",
    "pytz.all_timezones"
   ]
  },
  {
   "cell_type": "code",
   "execution_count": null,
   "id": "2394959b-ea9c-4d43-82b7-49c24e9dc27f",
   "metadata": {
    "papermill": {},
    "tags": []
   },
   "outputs": [],
   "source": [
    "# Set Time zone\n",
    "TIME_ZONE = \"America/New_York\"\n",
    "naas.set_remote_timezone(TIME_ZONE)"
   ]
  },
  {
   "cell_type": "code",
   "execution_count": null,
   "id": "cd653d24",
   "metadata": {
    "papermill": {},
    "tags": []
   },
   "outputs": [],
   "source": [
    "# Schedule the Notebook to run at 11 AM each day of the NBA season\n",
    "naas.scheduler.add(cron=\"0 11 * 10,11,12,1,2,3,4,5 *\")\n",
    "\n",
    "# To delete your scheduler, uncomment the line below and execute the cell\n",
    "# naas.scheduler.delete()"
   ]
  },
  {
   "cell_type": "code",
   "execution_count": null,
   "id": "cd21b670-39ef-4dc4-9a65-8e7b51f03e53",
   "metadata": {
    "papermill": {},
    "tags": []
   },
   "outputs": [],
   "source": [
    "# Email\n",
    "EMAIL_TO = \"<YOUR_EMAIL>\"\n",
    "TODAY = datetime.now(pytz.timezone(TIME_ZONE)).strftime(\"%Y-%m-%d\")\n",
    "EMAIL_SUBJECT = f\"🏀 Draft Kings : Your NBA game of the day {TODAY}\""
   ]
  },
  {
   "cell_type": "markdown",
   "id": "085253c3",
   "metadata": {
    "papermill": {},
    "tags": []
   },
   "source": [
    "## Model"
   ]
  },
  {
   "cell_type": "markdown",
   "id": "aggressive-trustee",
   "metadata": {
    "papermill": {},
    "tags": []
   },
   "source": [
    "### Scrape Data from Draft Kings"
   ]
  },
  {
   "cell_type": "code",
   "execution_count": null,
   "id": "continuous-melbourne",
   "metadata": {
    "papermill": {},
    "tags": []
   },
   "outputs": [],
   "source": [
    "page = requests.get(URL)\n",
    "soup = BeautifulSoup(page.content, \"html.parser\")"
   ]
  },
  {
   "cell_type": "code",
   "execution_count": null,
   "id": "8a385797",
   "metadata": {
    "papermill": {},
    "tags": []
   },
   "outputs": [],
   "source": [
    "results = soup.find(id=\"root\")"
   ]
  },
  {
   "cell_type": "code",
   "execution_count": null,
   "id": "40fd911e",
   "metadata": {
    "papermill": {},
    "tags": []
   },
   "outputs": [],
   "source": [
    "div = results.find_all(\"div\", class_=\"parlay-card-10-a\")"
   ]
  },
  {
   "cell_type": "markdown",
   "id": "b15b304b-9f82-4349-bb83-3fc55e74b09a",
   "metadata": {
    "papermill": {},
    "tags": []
   },
   "source": [
    "### Separate the Elements"
   ]
  },
  {
   "cell_type": "code",
   "execution_count": null,
   "id": "1383d1a5-9741-4376-abe9-ae608709b7da",
   "metadata": {
    "papermill": {},
    "tags": []
   },
   "outputs": [],
   "source": [
    "teams = []\n",
    "lines = []\n",
    "\n",
    "for element in div:\n",
    "    team = element.find_all(\"div\", class_=\"event-cell__name-text\")\n",
    "    teams.append(f\"{team}\")\n",
    "    line = element.find_all(\n",
    "        \"span\", class_=\"sportsbook-odds american no-margin default-color\"\n",
    "    )\n",
    "    lines.append(f\"{line}\")"
   ]
  },
  {
   "cell_type": "markdown",
   "id": "tested-astrology",
   "metadata": {
    "papermill": {},
    "tags": []
   },
   "source": [
    "### Clean Team Element"
   ]
  },
  {
   "cell_type": "code",
   "execution_count": null,
   "id": "crude-louisville",
   "metadata": {
    "papermill": {},
    "tags": []
   },
   "outputs": [],
   "source": [
    "team_a = teams[0]\n",
    "team_b = teams[1]\n",
    "team_list_a = team_a.split(\", \")\n",
    "team_list_b = team_b.split(\",\")"
   ]
  },
  {
   "cell_type": "code",
   "execution_count": null,
   "id": "8a9d0635",
   "metadata": {
    "papermill": {},
    "tags": []
   },
   "outputs": [],
   "source": [
    "team_list2_a = []\n",
    "team_list2_b = []\n",
    "\n",
    "for t in team_list_a:\n",
    "    new = t[:-6]\n",
    "    team_list2_a.append(new)\n",
    "\n",
    "for t in team_list_b:\n",
    "    new = t[:-6]\n",
    "    team_list2_b.append(new)"
   ]
  },
  {
   "cell_type": "code",
   "execution_count": null,
   "id": "952e0c3f",
   "metadata": {
    "papermill": {},
    "tags": []
   },
   "outputs": [],
   "source": [
    "team_list3_a = []\n",
    "team_list3_b = []\n",
    "\n",
    "for x in team_list2_a:\n",
    "    new = x[35:]\n",
    "    team_list3_a.append(new)\n",
    "\n",
    "for x in team_list2_b:\n",
    "    new = x[35:]\n",
    "    team_list3_b.append(new)"
   ]
  },
  {
   "cell_type": "code",
   "execution_count": null,
   "id": "3cac8dd7",
   "metadata": {
    "papermill": {},
    "tags": []
   },
   "outputs": [],
   "source": [
    "team_list4_a = [q.replace(\">\", \"\") for q in team_list3_a]\n",
    "dk_team_names_a = [q.replace(\"<\", \"\") for q in team_list4_a]\n",
    "\n",
    "team_list4_b = [q.replace(\">\", \"\") for q in team_list3_b]\n",
    "dk_team_names_b = [q.replace(\"<\", \"\") for q in team_list4_b]"
   ]
  },
  {
   "cell_type": "code",
   "execution_count": null,
   "id": "e5e5a3b3",
   "metadata": {
    "papermill": {},
    "tags": []
   },
   "outputs": [],
   "source": [
    "dk_team_names_a.extend(dk_team_names_b)"
   ]
  },
  {
   "cell_type": "code",
   "execution_count": null,
   "id": "6553b9ce",
   "metadata": {
    "papermill": {},
    "tags": []
   },
   "outputs": [],
   "source": [
    "# Change Team Names to Match with 3-letter Code\n",
    "new1 = [team.replace(\"CLE Cavaliers\", \"CLE\") for team in dk_team_names_a]\n",
    "new2 = [team.replace(\"CHI Bulls\", \"CHI\") for team in new1]\n",
    "new3 = [team.replace(\"MIN Timberwolves\", \"MIN\") for team in new2]\n",
    "new4 = [team.replace(\"MIA Heat\", \"MIA\") for team in new3]\n",
    "new5 = [team.replace(\"IND Pacers\", \"IND\") for team in new4]\n",
    "new6 = [team.replace(\"SA Spurs\", \"SAS\") for team in new5]\n",
    "new7 = [team.replace(\"MIL Bucks\", \"MIL\") for team in new6]\n",
    "new8 = [team.replace(\"GS Warriors\", \"GSW\") for team in new7]\n",
    "new9 = [team.replace(\"SAC Kings\", \"SAC\") for team in new8]\n",
    "new10 = [team.replace(\"UTA Jazz\", \"UTA\") for team in new9]\n",
    "new11 = [team.replace(\"TOR Raptors\", \"TOR\") for team in new10]\n",
    "new12 = [team.replace(\"DEN Nuggets\", \"DEN\") for team in new11]\n",
    "new13 = [team.replace(\"WAS Wizards\", \"WAS\") for team in new12]\n",
    "new14 = [team.replace(\"POR Trail Blazers\", \"POR\") for team in new13]\n",
    "new15 = [team.replace(\"NY Knicks\", \"NYK\") for team in new14]\n",
    "new16 = [team.replace(\"BKN Nets\", \"BRK\") for team in new15]\n",
    "new17 = [team.replace(\"LA Clippers\", \"LAC\") for team in new16]\n",
    "new18 = [team.replace(\"DET Pistons\", \"DET\") for team in new17]\n",
    "new19 = [team.replace(\"DAL Mavericks\", \"DAL\") for team in new18]\n",
    "new20 = [team.replace(\"BOS Celtics\", \"BOS\") for team in new19]\n",
    "new21 = [team.replace(\"PHI 76ers\", \"PHI\") for team in new20]\n",
    "new22 = [team.replace(\"ORL Magic\", \"ORL\") for team in new21]\n",
    "new23 = [team.replace(\"MEM Grizzlies\", \"MEM\") for team in new22]\n",
    "new24 = [team.replace(\"OKC Thunder\", \"OKC\") for team in new23]\n",
    "new25 = [team.replace(\"HOU Rockets\", \"HOU\") for team in new24]\n",
    "new26 = [team.replace(\"NO Pelicans\", \"NOP\") for team in new25]\n",
    "new27 = [team.replace(\"LA Lakers\", \"LAL\") for team in new26]\n",
    "new28 = [team.replace(\"ATL Hawks\", \"ATL\") for team in new27]\n",
    "new29 = [team.replace(\"PHO Suns\", \"PHO\") for team in new28]\n",
    "new30 = [team.replace(\"CHA Hornets\", \"CHA\") for team in new29]"
   ]
  },
  {
   "cell_type": "code",
   "execution_count": null,
   "id": "c24e89a6",
   "metadata": {
    "papermill": {},
    "tags": []
   },
   "outputs": [],
   "source": [
    "teams_today = new30"
   ]
  },
  {
   "cell_type": "markdown",
   "id": "890f7c86-b7bb-4f5d-9a1b-e492dd9580fd",
   "metadata": {
    "papermill": {},
    "tags": []
   },
   "source": [
    "### Clean Lines Element"
   ]
  },
  {
   "cell_type": "code",
   "execution_count": null,
   "id": "9c4e3b7b-6440-4844-8054-265f1aec65eb",
   "metadata": {
    "papermill": {},
    "tags": []
   },
   "outputs": [],
   "source": [
    "line_a = lines[0]\n",
    "line_b = lines[1]\n",
    "line_list_a = line_a.split(\", \")\n",
    "line_list_b = line_b.split(\", \")"
   ]
  },
  {
   "cell_type": "code",
   "execution_count": null,
   "id": "1199b9e6",
   "metadata": {
    "papermill": {},
    "tags": []
   },
   "outputs": [],
   "source": [
    "line_list2_a = []\n",
    "line_list2_b = []\n",
    "\n",
    "for t in line_list_a:\n",
    "    new = t[:-6]\n",
    "    line_list2_a.append(new)\n",
    "\n",
    "for t in line_list_b:\n",
    "    new = t[:-6]\n",
    "    line_list2_b.append(new)"
   ]
  },
  {
   "cell_type": "code",
   "execution_count": null,
   "id": "11178529",
   "metadata": {
    "papermill": {},
    "tags": []
   },
   "outputs": [],
   "source": [
    "line_list3_a = []\n",
    "line_list3_b = []\n",
    "\n",
    "for x in line_list2_a:\n",
    "    new = x[63:]\n",
    "    line_list3_a.append(new)\n",
    "\n",
    "for x in line_list2_b:\n",
    "    new = x[63:]\n",
    "    line_list3_b.append(new)"
   ]
  },
  {
   "cell_type": "code",
   "execution_count": null,
   "id": "525a4823",
   "metadata": {
    "papermill": {},
    "tags": []
   },
   "outputs": [],
   "source": [
    "line_list4_a = [q.replace(\">\", \"\") for q in line_list3_a]\n",
    "line_list5_a = [q.replace(\"/\", \"\") for q in line_list4_a]\n",
    "dk_lines_a = [q.replace(\"<\", \"\") for q in line_list5_a]\n",
    "\n",
    "line_list4_b = [q.replace(\">\", \"\") for q in line_list3_b]\n",
    "line_list5_b = [q.replace(\"/\", \"\") for q in line_list4_b]\n",
    "dk_lines_b = [q.replace(\"<\", \"\") for q in line_list5_b]"
   ]
  },
  {
   "cell_type": "code",
   "execution_count": null,
   "id": "554679f0",
   "metadata": {
    "papermill": {},
    "tags": []
   },
   "outputs": [],
   "source": [
    "dk_lines_a.extend(dk_lines_b)"
   ]
  },
  {
   "cell_type": "code",
   "execution_count": null,
   "id": "f6ef4d7c",
   "metadata": {
    "papermill": {},
    "tags": []
   },
   "outputs": [],
   "source": [
    "lines_today = dk_lines_a"
   ]
  },
  {
   "cell_type": "markdown",
   "id": "a28950bb-1d7d-4835-a83a-faac837ebc7c",
   "metadata": {
    "papermill": {},
    "tags": []
   },
   "source": [
    "### Check that there is the same number of lines as their is games"
   ]
  },
  {
   "cell_type": "code",
   "execution_count": null,
   "id": "db205965-a2dc-4541-ba8e-db3250d1cff0",
   "metadata": {
    "papermill": {},
    "tags": []
   },
   "outputs": [],
   "source": [
    "correct_num_games = len(lines_today)"
   ]
  },
  {
   "cell_type": "code",
   "execution_count": null,
   "id": "070a83eb",
   "metadata": {
    "papermill": {},
    "tags": []
   },
   "outputs": [],
   "source": [
    "correct_teams_today = []\n",
    "\n",
    "if len(teams_today) > len(lines_today):\n",
    "    correct_teams_today = teams_today[:correct_num_games]\n",
    "else:\n",
    "    correct_teams_today = teams_today"
   ]
  },
  {
   "cell_type": "markdown",
   "id": "9f2323f8",
   "metadata": {
    "papermill": {},
    "tags": []
   },
   "source": [
    "### Combine the Two Elements"
   ]
  },
  {
   "cell_type": "code",
   "execution_count": null,
   "id": "b07c769f-1880-4721-a38f-cb7d72c020ee",
   "metadata": {
    "papermill": {},
    "tags": []
   },
   "outputs": [],
   "source": [
    "team1 = correct_teams_today[1::2]\n",
    "team2 = correct_teams_today[::2]"
   ]
  },
  {
   "cell_type": "code",
   "execution_count": null,
   "id": "877c80e2",
   "metadata": {
    "papermill": {},
    "tags": []
   },
   "outputs": [],
   "source": [
    "team1_line = lines_today[1::2]\n",
    "team2_line = lines_today[::2]"
   ]
  },
  {
   "cell_type": "code",
   "execution_count": null,
   "id": "3f3eb59c",
   "metadata": {
    "papermill": {},
    "tags": []
   },
   "outputs": [],
   "source": [
    "combined_list = pd.DataFrame(\n",
    "    {\n",
    "        \"Team 1\": team1,\n",
    "        \"Team 2\": team2,\n",
    "        \"Team 1 - Moneyline\": team1_line,\n",
    "        \"Team 2 - Moneyline\": team2_line,\n",
    "    }\n",
    ")"
   ]
  },
  {
   "cell_type": "markdown",
   "id": "4561479b",
   "metadata": {
    "papermill": {},
    "tags": []
   },
   "source": [
    "### Today's NBA Games with Betting Lines from Draft Kings:"
   ]
  },
  {
   "cell_type": "code",
   "execution_count": null,
   "id": "7cff74ec-5c40-4dff-8e84-b7433d3c42ac",
   "metadata": {
    "papermill": {},
    "tags": []
   },
   "outputs": [],
   "source": [
    "combined_list"
   ]
  },
  {
   "cell_type": "markdown",
   "id": "0fb6bc69-0d1a-47a4-9979-bc8ab16b030b",
   "metadata": {
    "papermill": {},
    "tags": []
   },
   "source": [
    "### Create email with data"
   ]
  },
  {
   "cell_type": "code",
   "execution_count": null,
   "id": "cab6180d-e498-4950-9998-0a063cb6c126",
   "metadata": {
    "papermill": {},
    "tags": []
   },
   "outputs": [],
   "source": [
    "content = {\n",
    "    \"header\": emailbuilder.image(\n",
    "        src=\"https://s3-symbol-logo.tradingview.com/draftkings--600.png\",\n",
    "        link=\"https://sportsbook.draftkings.com\",\n",
    "        align=\"center\",\n",
    "        width=\"20%\",\n",
    "    ),\n",
    "    \"txt_0\": emailbuilder.text(\n",
    "        \"Hi Ballers 🏀,<br><br>\"\n",
    "        f\"Here below the Moneylines* for NBA games as of {TODAY} :<br>\"\n",
    "    ),\n",
    "    \"table\": emailbuilder.table(\n",
    "        combined_list,\n",
    "        border=True,\n",
    "        header=True,\n",
    "        col_size={0: \"15%\", 1: \"15%\", 2: \"35%\", 3: \"35%\"},\n",
    "        col_align={0: \"center\", 1: \"center\", 2: \"center\", 3: \"center\"},\n",
    "    ),\n",
    "    \"txt_1\": emailbuilder.text(\n",
    "        \"<i>*A moneyline bet in sports refers to a wager on the winning team.</i>\"\n",
    "    ),\n",
    "    \"button_1\": emailbuilder.button(\n",
    "        link=\"https://sportsbook.draftkings.com\",\n",
    "        text=\"Bet on Draft Kings\",\n",
    "        color=\"white\",\n",
    "        background_color=\"#53d337\",\n",
    "    ),\n",
    "    \"txt_4\": (\n",
    "        \"Interested to improve this template, please send contact <a href='https://www.linkedin.com/in/ja-williams-529517187'>JA Williams<a/> or send a message to Naas Core Team at hello@naas.ai.<br><br>\"\n",
    "    ),\n",
    "    \"heading_5\": emailbuilder.text(\"Happy betting 💸!\"),\n",
    "    \"footer\": emailbuilder.footer_company(naas=True),\n",
    "}\n",
    "email_content = emailbuilder.generate(display=\"iframe\", **content)"
   ]
  },
  {
   "cell_type": "markdown",
   "id": "d36a8ac0",
   "metadata": {
    "papermill": {},
    "tags": []
   },
   "source": [
    "## Output"
   ]
  },
  {
   "cell_type": "markdown",
   "id": "a4a98c48-4b87-4370-8657-168f689d39ba",
   "metadata": {
    "papermill": {},
    "tags": []
   },
   "source": [
    "### Send email"
   ]
  },
  {
   "cell_type": "code",
   "execution_count": null,
   "id": "878dd982-9ed1-48ef-9c7f-c5af9906eec5",
   "metadata": {
    "papermill": {},
    "tags": []
   },
   "outputs": [],
   "source": [
    "naas.notification.send(EMAIL_TO, EMAIL_SUBJECT, email_content)"
   ]
  }
 ],
 "metadata": {
  "kernelspec": {
   "display_name": "Python 3",
   "language": "python",
   "name": "python3"
  },
  "language_info": {
   "codemirror_mode": {
    "name": "ipython",
    "version": 3
   },
   "file_extension": ".py",
   "mimetype": "text/x-python",
   "name": "python",
   "nbconvert_exporter": "python",
   "pygments_lexer": "ipython3",
   "version": "3.9.6"
  },
  "papermill": {
   "default_parameters": {},
   "environment_variables": {},
   "parameters": {},
   "version": "2.3.3"
  },
  "widgets": {
   "application/vnd.jupyter.widget-state+json": {
    "state": {},
    "version_major": 2,
    "version_minor": 0
   }
  }
 },
 "nbformat": 4,
 "nbformat_minor": 5
}