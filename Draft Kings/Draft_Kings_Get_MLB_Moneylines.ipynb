{
 "cells": [
  {
   "cell_type": "markdown",
   "id": "latin-packing",
   "metadata": {
    "execution": {
     "iopub.execute_input": "2021-02-23T14:22:16.610471Z",
     "iopub.status.busy": "2021-02-23T14:22:16.610129Z",
     "iopub.status.idle": "2021-02-23T14:22:16.627784Z",
     "shell.execute_reply": "2021-02-23T14:22:16.626866Z",
     "shell.execute_reply.started": "2021-02-23T14:22:16.610384Z"
    },
    "papermill": {},
    "tags": []
   },
   "source": [
    "<img width=\"10%\" alt=\"Naas\" src=\"https://landen.imgix.net/jtci2pxwjczr/assets/5ice39g4.png?w=160\"/>"
   ]
  },
  {
   "cell_type": "markdown",
   "id": "compressed-wilson",
   "metadata": {
    "papermill": {},
    "tags": []
   },
   "source": [
    "# Draft Kings - Get MLB Moneylines\n",
    "<a href=\"https://app.naas.ai/user-redirect/naas/downloader?url=https://raw.githubusercontent.com/jupyter-naas/awesome-notebooks/master/Draft%20Kings/Draft_Kings_Get_MLB_Moneylines.ipynb\" target=\"_parent\"><img src=\"https://naasai-public.s3.eu-west-3.amazonaws.com/Open_in_Naas_Lab.svg\"/></a><br><br><a href=\"https://github.com/jupyter-naas/awesome-notebooks/issues/new?assignees=&labels=&template=template-request.md&title=Tool+-+Action+of+the+notebook+\">Template request</a> | <a href=\"https://github.com/jupyter-naas/awesome-notebooks/issues/new?assignees=&labels=bug&template=bug_report.md&title=Draft+Kings+-+Get+MLB+Moneylines:+Error+short+description\">Bug report</a> | <a href=\"https://app.naas.ai/user-redirect/naas/downloader?url=https://raw.githubusercontent.com/jupyter-naas/awesome-notebooks/master/Naas/Naas_Start_data_product.ipynb\" target=\"_parent\">Generate Data Product</a>"
   ]
  },
  {
   "cell_type": "markdown",
   "id": "religious-programmer",
   "metadata": {
    "papermill": {},
    "tags": []
   },
   "source": [
    "**Tags:** #draftkings #mlb #betting #python #analytics #automation #sports #sports_betting #opendata #notification #email"
   ]
  },
  {
   "cell_type": "markdown",
   "id": "1fe9f56e-561c-4f52-aef8-b861c9462107",
   "metadata": {
    "papermill": {},
    "tags": []
   },
   "source": [
    "**Author:** [JA Williams](https://www.linkedin.com/in/ja-williams-529517187/)"
   ]
  },
  {
   "cell_type": "markdown",
   "id": "naas-description",
   "metadata": {
    "papermill": {},
    "tags": [
     "description"
    ]
   },
   "source": [
    "**Description:** This notebook provides an analysis of Major League Baseball moneylines from DraftKings."
   ]
  },
  {
   "cell_type": "markdown",
   "id": "5397666a",
   "metadata": {
    "papermill": {},
    "tags": []
   },
   "source": [
    "## Input"
   ]
  },
  {
   "cell_type": "markdown",
   "id": "numeric-mediterranean",
   "metadata": {
    "papermill": {},
    "tags": []
   },
   "source": [
    "### Import libraries"
   ]
  },
  {
   "cell_type": "code",
   "execution_count": 2,
   "id": "potential-surfing",
   "metadata": {
    "papermill": {},
    "tags": []
   },
   "outputs": [],
   "source": [
    "import naas\n",
    "import requests\n",
    "import pandas as pd\n",
    "from bs4 import BeautifulSoup\n",
    "from naas_drivers import emailbuilder\n",
    "from datetime import datetime\n",
    "import pytz"
   ]
  },
  {
   "cell_type": "markdown",
   "id": "0d884e55-9270-49e5-8645-60e91385297f",
   "metadata": {
    "papermill": {},
    "tags": []
   },
   "source": [
    "### Setup Draft Kings"
   ]
  },
  {
   "cell_type": "code",
   "execution_count": 3,
   "id": "e0a304b4-d823-4258-9b53-5ea10daabb68",
   "metadata": {
    "papermill": {},
    "tags": []
   },
   "outputs": [],
   "source": [
    "# URL to scrap data\n",
    "URL = \"https://sportsbook.draftkings.com/leagues/baseball/88670847\""
   ]
  },
  {
   "cell_type": "markdown",
   "id": "968aaba2-6c0c-4342-9442-73bf5d63f25f",
   "metadata": {
    "papermill": {},
    "tags": []
   },
   "source": [
    "### Setup Naas"
   ]
  },
  {
   "cell_type": "code",
   "execution_count": 4,
   "id": "a286e4c6-39ae-467c-933e-27c78dfb8bd9",
   "metadata": {
    "papermill": {},
    "tags": []
   },
   "outputs": [],
   "source": [
    "# Get all timezone\n",
    "pytz.all_timezones"
   ]
  },
  {
   "cell_type": "code",
   "execution_count": 5,
   "id": "2394959b-ea9c-4d43-82b7-49c24e9dc27f",
   "metadata": {
    "papermill": {},
    "tags": []
   },
   "outputs": [],
   "source": [
    "# Set Time zone\n",
    "TIME_ZONE = \"America/New_York\"\n",
    "naas.set_remote_timezone(TIME_ZONE)"
   ]
  },
  {
   "cell_type": "code",
   "execution_count": 6,
   "id": "cd653d24",
   "metadata": {
    "papermill": {},
    "tags": []
   },
   "outputs": [],
   "source": [
    "# Schedule the Notebook to run at 10 AM each day of the MLB season\n",
    "naas.scheduler.add(cron=\"0 10 * 10,11,12,1,2,3,4,5 *\")\n",
    "\n",
    "# To delete your scheduler, uncomment the line below and execute the cell\n",
    "# naas.scheduler.delete()"
   ]
  },
  {
   "cell_type": "code",
   "execution_count": 7,
   "id": "cd21b670-39ef-4dc4-9a65-8e7b51f03e53",
   "metadata": {
    "papermill": {},
    "tags": []
   },
   "outputs": [],
   "source": [
    "# Email\n",
    "EMAIL_TO = \"<YOUR EMAIL>\"\n",
    "TODAY = datetime.now(pytz.timezone(TIME_ZONE)).strftime(\"%Y-%m-%d\")\n",
    "EMAIL_SUBJECT = f\"⚾ Draft Kings : Your MLB game of the day {TODAY}\""
   ]
  },
  {
   "cell_type": "markdown",
   "id": "085253c3",
   "metadata": {
    "papermill": {},
    "tags": []
   },
   "source": [
    "## Model"
   ]
  },
  {
   "cell_type": "markdown",
   "id": "aggressive-trustee",
   "metadata": {
    "papermill": {},
    "tags": []
   },
   "source": [
    "### Scrape Data from Draft Kings"
   ]
  },
  {
   "cell_type": "code",
   "execution_count": 8,
   "id": "continuous-melbourne",
   "metadata": {
    "papermill": {},
    "tags": []
   },
   "outputs": [],
   "source": [
    "page = requests.get(URL)\n",
    "soup = BeautifulSoup(page.content, \"html.parser\")"
   ]
  },
  {
   "cell_type": "code",
   "execution_count": 9,
   "id": "8a385797",
   "metadata": {
    "papermill": {},
    "tags": []
   },
   "outputs": [],
   "source": [
    "results = soup.find(id=\"root\")"
   ]
  },
  {
   "cell_type": "code",
   "execution_count": 10,
   "id": "40fd911e",
   "metadata": {
    "papermill": {},
    "tags": []
   },
   "outputs": [],
   "source": [
    "div = results.find_all(\"div\", class_=\"parlay-card-10-a\")"
   ]
  },
  {
   "cell_type": "markdown",
   "id": "b15b304b-9f82-4349-bb83-3fc55e74b09a",
   "metadata": {
    "papermill": {},
    "tags": []
   },
   "source": [
    "### Separate the Elements"
   ]
  },
  {
   "cell_type": "code",
   "execution_count": 11,
   "id": "1383d1a5-9741-4376-abe9-ae608709b7da",
   "metadata": {
    "papermill": {},
    "tags": []
   },
   "outputs": [],
   "source": [
    "teams = []\n",
    "lines = []\n",
    "\n",
    "for element in div:\n",
    "    team = element.find_all(\"div\", class_=\"event-cell__name-text\")\n",
    "    teams.append(f\"{team}\")\n",
    "    line = element.find_all(\n",
    "        \"span\", class_=\"sportsbook-odds american no-margin default-color\"\n",
    "    )\n",
    "    lines.append(f\"{line}\")"
   ]
  },
  {
   "cell_type": "markdown",
   "id": "tested-astrology",
   "metadata": {
    "papermill": {},
    "tags": []
   },
   "source": [
    "### Clean Team Element"
   ]
  },
  {
   "cell_type": "code",
   "execution_count": 12,
   "id": "crude-louisville",
   "metadata": {
    "papermill": {},
    "tags": []
   },
   "outputs": [],
   "source": [
    "game_list_1 = []\n",
    "\n",
    "for t in teams:\n",
    "    new = t[36:]\n",
    "    game_list_1.append(new)"
   ]
  },
  {
   "cell_type": "code",
   "execution_count": 13,
   "id": "8a9d0635",
   "metadata": {
    "papermill": {},
    "tags": []
   },
   "outputs": [],
   "source": [
    "game_list_2 = []\n",
    "\n",
    "for g in game_list_1:\n",
    "    new = g.split(\",\")\n",
    "    game_list_2.extend(new)"
   ]
  },
  {
   "cell_type": "code",
   "execution_count": 14,
   "id": "952e0c3f",
   "metadata": {
    "papermill": {},
    "tags": []
   },
   "outputs": [],
   "source": [
    "game_list_3 = [\n",
    "    x.replace(' <div class=\"event-cell__name-text\">', \"\") for x in game_list_2\n",
    "]"
   ]
  },
  {
   "cell_type": "code",
   "execution_count": 15,
   "id": "3cac8dd7",
   "metadata": {
    "papermill": {},
    "tags": []
   },
   "outputs": [],
   "source": [
    "game_list_4 = []\n",
    "\n",
    "for t in game_list_3:\n",
    "    new = t[:-6]\n",
    "    game_list_4.append(new)"
   ]
  },
  {
   "cell_type": "code",
   "execution_count": 16,
   "id": "e5e5a3b3",
   "metadata": {
    "papermill": {},
    "tags": []
   },
   "outputs": [],
   "source": [
    "game_list_5 = [x.replace(\"<\", \"\") for x in game_list_4]"
   ]
  },
  {
   "cell_type": "code",
   "execution_count": 17,
   "id": "a685d11a-64cb-4326-8767-6b48a2b52d32",
   "metadata": {
    "papermill": {},
    "tags": []
   },
   "outputs": [],
   "source": [
    "outcomes_today = game_list_5"
   ]
  },
  {
   "cell_type": "code",
   "execution_count": 18,
   "id": "6553b9ce",
   "metadata": {
    "papermill": {},
    "tags": []
   },
   "outputs": [],
   "source": [
    "# Change Team Names to Match with 3-letter Code\n",
    "\n",
    "new1 = [team.replace(\"ARI Diamondbacks\", \"ARI\") for team in game_list_5]\n",
    "new2 = [team.replace(\"ATL Braves\", \"ATL\") for team in new1]\n",
    "new3 = [team.replace(\"BAL Orioles\", \"BAL\") for team in new2]\n",
    "new4 = [team.replace(\"BOS Red Sox\", \"BOS\") for team in new3]\n",
    "new5 = [team.replace(\"CHI Cubs\", \"CHC\") for team in new4]\n",
    "new6 = [team.replace(\"CHI White Sox\", \"CHW\") for team in new5]\n",
    "new7 = [team.replace(\"CIN Reds\", \"CIN\") for team in new6]\n",
    "new8 = [team.replace(\"CLE Guardians\", \"CLE\") for team in new7]\n",
    "new9 = [team.replace(\"COL Rockies\", \"COL\") for team in new8]\n",
    "new10 = [team.replace(\"DET Tigers\", \"DET\") for team in new9]\n",
    "new11 = [team.replace(\"MIA Marlins\", \"FLA\") for team in new10]\n",
    "new12 = [team.replace(\"HOU Astros\", \"HOU\") for team in new11]\n",
    "new13 = [team.replace(\"KC Royals\", \"KCR\") for team in new12]\n",
    "new14 = [team.replace(\"LA Angels\", \"ANA\") for team in new13]\n",
    "new15 = [team.replace(\"LA Dodgers\", \"LAD\") for team in new14]\n",
    "new16 = [team.replace(\"MIL Brewers\", \"MIL\") for team in new15]\n",
    "new17 = [team.replace(\"MIN Twins\", \"MIN\") for team in new16]\n",
    "new18 = [team.replace(\"NY Mets\", \"NYM\") for team in new17]\n",
    "new19 = [team.replace(\"NY Yankees\", \"NYY\") for team in new18]\n",
    "new20 = [team.replace(\"OAK Athletics\", \"OAK\") for team in new19]\n",
    "new21 = [team.replace(\"PHI Phillies\", \"PHI\") for team in new20]\n",
    "new22 = [team.replace(\"PIT Pirates\", \"PIT\") for team in new21]\n",
    "new23 = [team.replace(\"SD Padres\", \"SDP\") for team in new22]\n",
    "new24 = [team.replace(\"SF Giants\", \"SFG\") for team in new23]\n",
    "new25 = [team.replace(\"SEA Mariners\", \"SEA\") for team in new24]\n",
    "new26 = [team.replace(\"STL Cardinals\", \"STL\") for team in new25]\n",
    "new27 = [team.replace(\"TB Rays\", \"TBD\") for team in new26]\n",
    "new28 = [team.replace(\"TEX Rangers\", \"TEX\") for team in new27]\n",
    "new29 = [team.replace(\"TOR Blue Jays\", \"TOR\") for team in new28]\n",
    "new30 = [team.replace(\"WAS Nationals\", \"WAN\") for team in new29]"
   ]
  },
  {
   "cell_type": "code",
   "execution_count": 19,
   "id": "c24e89a6",
   "metadata": {
    "papermill": {},
    "tags": []
   },
   "outputs": [],
   "source": [
    "teams_today = new30"
   ]
  },
  {
   "cell_type": "markdown",
   "id": "890f7c86-b7bb-4f5d-9a1b-e492dd9580fd",
   "metadata": {
    "papermill": {},
    "tags": []
   },
   "source": [
    "### Clean Lines Element"
   ]
  },
  {
   "cell_type": "code",
   "execution_count": 20,
   "id": "9c4e3b7b-6440-4844-8054-265f1aec65eb",
   "metadata": {
    "papermill": {},
    "tags": []
   },
   "outputs": [],
   "source": [
    "lines_list_1 = []\n",
    "\n",
    "for l in lines:\n",
    "    new = l.split(\",\")\n",
    "    lines_list_1.extend(new)"
   ]
  },
  {
   "cell_type": "code",
   "execution_count": 21,
   "id": "1199b9e6",
   "metadata": {
    "papermill": {},
    "tags": []
   },
   "outputs": [],
   "source": [
    "lines_list_2 = []\n",
    "\n",
    "for l in lines_list_1:\n",
    "    new = l[64:]\n",
    "    lines_list_2.append(new)"
   ]
  },
  {
   "cell_type": "code",
   "execution_count": 22,
   "id": "11178529",
   "metadata": {
    "papermill": {},
    "tags": []
   },
   "outputs": [],
   "source": [
    "lines_list_3 = []\n",
    "\n",
    "for l in lines_list_2:\n",
    "    new = l[:-7]\n",
    "    lines_list_3.append(new)"
   ]
  },
  {
   "cell_type": "code",
   "execution_count": 23,
   "id": "525a4823",
   "metadata": {
    "papermill": {},
    "tags": []
   },
   "outputs": [],
   "source": [
    "lines_list_4 = [x.replace(\"<\", \"\") for x in lines_list_3]"
   ]
  },
  {
   "cell_type": "code",
   "execution_count": 24,
   "id": "f6ef4d7c",
   "metadata": {
    "papermill": {},
    "tags": []
   },
   "outputs": [],
   "source": [
    "lines_today = lines_list_4"
   ]
  },
  {
   "cell_type": "markdown",
   "id": "28acbb41-a56b-405b-a303-cd7491614878",
   "metadata": {
    "papermill": {},
    "tags": []
   },
   "source": [
    "### Check that there is the same number of lines as their is games"
   ]
  },
  {
   "cell_type": "code",
   "execution_count": 25,
   "id": "847acf8e-d463-4d5f-903c-1f5a152d01c0",
   "metadata": {
    "papermill": {},
    "tags": []
   },
   "outputs": [],
   "source": [
    "correct_num_games = len(lines_today)"
   ]
  },
  {
   "cell_type": "code",
   "execution_count": 26,
   "id": "961d6cb7-e9ca-4216-a7b5-c8674b03449f",
   "metadata": {
    "papermill": {},
    "tags": []
   },
   "outputs": [],
   "source": [
    "correct_teams_today = []\n",
    "\n",
    "if len(teams_today) > len(lines_today):\n",
    "    correct_teams_today = teams_today[:correct_num_games]\n",
    "else:\n",
    "    correct_teams_today = teams_today"
   ]
  },
  {
   "cell_type": "markdown",
   "id": "e84b0345-4135-43e7-ab2f-24f9897df342",
   "metadata": {
    "papermill": {},
    "tags": []
   },
   "source": [
    "### Combine the Elements"
   ]
  },
  {
   "cell_type": "code",
   "execution_count": 27,
   "id": "ede63bda-0265-4d6e-ae28-d6d62f143ce4",
   "metadata": {
    "papermill": {},
    "tags": []
   },
   "outputs": [],
   "source": [
    "team1 = teams_today[::2]\n",
    "team2 = teams_today[1::2]\n",
    "\n",
    "team1_line = lines_today[::2]\n",
    "team2_line = lines_today[1::2]\n",
    "\n",
    "combined_list = pd.DataFrame(\n",
    "    {\n",
    "        \"team1\": team2,\n",
    "        \"team2\": team1,\n",
    "        \"team1_line\": team2_line,\n",
    "        \"team2_line\": team1_line,\n",
    "    }\n",
    ")\n",
    "\n",
    "combined_list.drop_duplicates(subset=[\"team1\", \"team2\"], inplace=True)"
   ]
  },
  {
   "cell_type": "markdown",
   "id": "4561479b",
   "metadata": {
    "papermill": {},
    "tags": []
   },
   "source": [
    "### Today's NBA Games with Betting Lines from Draft Kings:"
   ]
  },
  {
   "cell_type": "code",
   "execution_count": 28,
   "id": "7cff74ec-5c40-4dff-8e84-b7433d3c42ac",
   "metadata": {
    "papermill": {},
    "tags": []
   },
   "outputs": [],
   "source": [
    "combined_list"
   ]
  },
  {
   "cell_type": "markdown",
   "id": "0fb6bc69-0d1a-47a4-9979-bc8ab16b030b",
   "metadata": {
    "papermill": {},
    "tags": []
   },
   "source": [
    "### Create email with data"
   ]
  },
  {
   "cell_type": "code",
   "execution_count": 32,
   "id": "cab6180d-e498-4950-9998-0a063cb6c126",
   "metadata": {
    "papermill": {},
    "tags": []
   },
   "outputs": [],
   "source": [
    "content = {\n",
    "    \"header\": emailbuilder.image(\n",
    "        src=\"https://s3-symbol-logo.tradingview.com/draftkings--600.png\",\n",
    "        link=\"https://sportsbook.draftkings.com\",\n",
    "        align=\"center\",\n",
    "        width=\"20%\",\n",
    "    ),\n",
    "    \"txt_0\": emailbuilder.text(\n",
    "        \"Hi Slugger ⚾,<br><br>\"\n",
    "        f\"Here below the Moneylines* for MLB games as of {TODAY} :<br>\"\n",
    "    ),\n",
    "    \"table\": emailbuilder.table(\n",
    "        combined_list,\n",
    "        border=True,\n",
    "        header=True,\n",
    "        col_size={0: \"15%\", 1: \"15%\", 2: \"35%\", 3: \"35%\"},\n",
    "        col_align={0: \"center\", 1: \"center\", 2: \"center\", 3: \"center\"},\n",
    "    ),\n",
    "    \"txt_1\": emailbuilder.text(\n",
    "        \"<i>*A moneyline bet in sports refers to a wager on the winning team. Plus odds (+) mean that amount of money would be made on a $100 bet. (eg. +150 means if you bet $100, you would win $150 of profit, for a total return of $250). Minus odds (-) mean you would have to bet that amount of money to make $100 of profit. (eg. -150 means you would need to bet $150 to win $100 of profit, for a total return of $250).</i>\"\n",
    "    ),\n",
    "    \"button_1\": emailbuilder.button(\n",
    "        link=\"https://sportsbook.draftkings.com\",\n",
    "        text=\"Bet on Draft Kings\",\n",
    "        color=\"white\",\n",
    "        background_color=\"#53d337\",\n",
    "    ),\n",
    "    \"txt_4\": (\n",
    "        \"Interested to improve this template, please send contact <a href='https://www.linkedin.com/in/ja-williams-529517187'>JA Williams<a/> or send a message to Naas Core Team at hello@naas.ai.<br><br>\"\n",
    "    ),\n",
    "    \"heading_5\": emailbuilder.text(\"Happy betting 💸!\"),\n",
    "    \"footer\": emailbuilder.footer_company(naas=True),\n",
    "}\n",
    "email_content = emailbuilder.generate(display=\"iframe\", **content)"
   ]
  },
  {
   "cell_type": "markdown",
   "id": "d36a8ac0",
   "metadata": {
    "papermill": {},
    "tags": []
   },
   "source": [
    "## Output"
   ]
  },
  {
   "cell_type": "markdown",
   "id": "a4a98c48-4b87-4370-8657-168f689d39ba",
   "metadata": {
    "papermill": {},
    "tags": []
   },
   "source": [
    "### Send email"
   ]
  },
  {
   "cell_type": "code",
   "execution_count": 30,
   "id": "878dd982-9ed1-48ef-9c7f-c5af9906eec5",
   "metadata": {
    "papermill": {},
    "tags": []
   },
   "outputs": [],
   "source": [
    "naas.notification.send(EMAIL_TO, EMAIL_SUBJECT, email_content)"
   ]
  }
 ],
 "metadata": {
  "kernelspec": {
   "display_name": "Python 3",
   "language": "python",
   "name": "python3"
  },
  "language_info": {
   "codemirror_mode": {
    "name": "ipython",
    "version": 3
   },
   "file_extension": ".py",
   "mimetype": "text/x-python",
   "name": "python",
   "nbconvert_exporter": "python",
   "pygments_lexer": "ipython3",
   "version": "3.9.6"
  },
  "naas": {
   "notebook_id": "8f82e653557ca28f058454ad86c1553add053a2e1d00829c8a1a7cc052d5df90",
   "notebook_path": "Draft Kings/Draft_Kings_Get_MLB_Moneylines.ipynb"
  },
  "papermill": {
   "default_parameters": {},
   "environment_variables": {},
   "parameters": {},
   "version": "2.3.3"
  },
  "widgets": {
   "application/vnd.jupyter.widget-state+json": {
    "state": {},
    "version_major": 2,
    "version_minor": 0
   }
  }
 },
 "nbformat": 4,
 "nbformat_minor": 5
}