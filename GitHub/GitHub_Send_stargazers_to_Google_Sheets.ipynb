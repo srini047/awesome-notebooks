{
 "cells": [
  {
   "cell_type": "markdown",
   "id": "d3dbe6cd-a4a5-4b3d-be20-007b80dc0c8f",
   "metadata": {
    "papermill": {},
    "tags": []
   },
   "source": [
    "<img width=\"10%\" alt=\"Naas\" src=\"https://landen.imgix.net/jtci2pxwjczr/assets/5ice39g4.png?w=160\"/>"
   ]
  },
  {
   "cell_type": "markdown",
   "id": "5a674526-0492-4092-90ca-b026403bd4ac",
   "metadata": {
    "papermill": {},
    "tags": []
   },
   "source": [
    "# GitHub - Send stargazers to Google Sheets\n",
    "<a href=\"https://app.naas.ai/user-redirect/naas/downloader?url=https://raw.githubusercontent.com/jupyter-naas/awesome-notebooks/master/GitHub/GitHub_Send_stargazers_to_Google_Sheets.ipynb\" target=\"_parent\"><img src=\"https://naasai-public.s3.eu-west-3.amazonaws.com/Open_in_Naas_Lab.svg\"/></a><br><br><a href=\"https://github.com/jupyter-naas/awesome-notebooks/issues/new?assignees=&labels=&template=template-request.md&title=Tool+-+Action+of+the+notebook+\">Template request</a> | <a href=\"https://github.com/jupyter-naas/awesome-notebooks/issues/new?assignees=&labels=bug&template=bug_report.md&title=GitHub+-+Send+stargazers+to+Google+Sheets:+Error+short+description\">Bug report</a> | <a href=\"https://app.naas.ai/user-redirect/naas/downloader?url=https://raw.githubusercontent.com/jupyter-naas/awesome-notebooks/master/Naas/Naas_Start_data_product.ipynb\" target=\"_parent\">Generate Data Product</a>"
   ]
  },
  {
   "cell_type": "markdown",
   "id": "199d175a-a515-405f-ad3e-92bff8f37a0a",
   "metadata": {
    "papermill": {},
    "tags": []
   },
   "source": [
    "**Tags:** #github #stars #stargazers #googlesheets #snippet"
   ]
  },
  {
   "cell_type": "markdown",
   "id": "a9d9de40-66cd-4561-a80f-98f5784b0cb4",
   "metadata": {
    "papermill": {},
    "tags": []
   },
   "source": [
    "**Author:** [Florent Ravenel](https://www.linkedin.com/in/florent-ravenel/)"
   ]
  },
  {
   "cell_type": "markdown",
   "id": "2778e07e-1c08-4dd0-8a94-8efa6239f934",
   "metadata": {
    "papermill": {},
    "tags": []
   },
   "source": [
    "**Description:** This notebook will show how to send GitHub stargazers from a given repository to a Google Sheets spreadsheet."
   ]
  },
  {
   "cell_type": "markdown",
   "id": "2a774147-8e07-4637-996d-6cd5a31bd024",
   "metadata": {
    "papermill": {},
    "tags": []
   },
   "source": [
    "**References:**\n",
    "- [GitHub - List Stargazers](https://docs.github.com/en/rest/activity/starring?apiVersion=2022-11-28#list-stargazers)\n",
    "- [Naas drivers - GitHub](https://github.com/jupyter-naas/drivers/blob/main/naas_drivers/tools/github.py)\n",
    "- [Naas drivers - Google Sheets](https://github.com/jupyter-naas/drivers/blob/main/naas_drivers/tools/gsheet.py)"
   ]
  },
  {
   "cell_type": "markdown",
   "id": "cf31d67b-df50-40df-bb62-a4511d99d114",
   "metadata": {
    "papermill": {},
    "tags": []
   },
   "source": [
    "## Input"
   ]
  },
  {
   "cell_type": "markdown",
   "id": "9fe5852f-e030-4466-8913-d6713a7b12e2",
   "metadata": {
    "papermill": {},
    "tags": []
   },
   "source": [
    "### Import libraries"
   ]
  },
  {
   "cell_type": "code",
   "execution_count": null,
   "id": "415e9946-fdb8-4157-8e4c-9b024e91f8a0",
   "metadata": {
    "papermill": {},
    "tags": []
   },
   "outputs": [],
   "source": [
    "from naas_drivers import github, gsheet\n",
    "import naas"
   ]
  },
  {
   "cell_type": "markdown",
   "id": "b62300e3-340e-4f88-bbb4-9bdf110fb8ac",
   "metadata": {
    "papermill": {},
    "tags": []
   },
   "source": [
    "### Setup Variables\n",
    "[Create your GitHub personal access token](https://github.com/settings/tokens)\n",
    "- `token`: GitHub personal access token\n",
    "- `repo_url`: URL of the GitHub repository\n",
    "\n",
    "Share your Google Sheets spreadsheet with our service account : 🔗 naas-share@naas-gsheets.iam.gserviceaccount.com\n",
    "- `spreadsheet_url`: URL of the Google Sheets spreadsheet\n",
    "- `sheet_name`: name of the sheet to send data"
   ]
  },
  {
   "cell_type": "code",
   "execution_count": null,
   "id": "888a9a87-22a9-4939-acad-2ae2da9d075a",
   "metadata": {
    "papermill": {},
    "tags": []
   },
   "outputs": [],
   "source": [
    "# Inputs\n",
    "token = naas.secret.get(\"GITHUB_TOKEN\") or \"YOUR_GITHUB_TOKEN\"\n",
    "repo_url = \"https://github.com/jupyter-naas/awesome-notebooks\"\n",
    "\n",
    "# Outputs\n",
    "spreadsheet_url = \"https://docs.google.com/spreadsheets/d/1Bk0LgCmdz_Uxxxxxxxxxxxx/edit#gid=0\"\n",
    "sheet_name = \"GITHUB_STARGAZERS\""
   ]
  },
  {
   "cell_type": "markdown",
   "id": "5ffb2967-6a71-48d7-8096-84b1ded039af",
   "metadata": {
    "papermill": {},
    "tags": []
   },
   "source": [
    "## Model"
   ]
  },
  {
   "cell_type": "markdown",
   "id": "9a437db4-9a9a-4aa2-8bb2-896ad70327cf",
   "metadata": {
    "papermill": {},
    "tags": []
   },
   "source": [
    "### Get stargazers"
   ]
  },
  {
   "cell_type": "code",
   "execution_count": null,
   "id": "3500c892-7c12-4764-8ec0-d55fbdd05c77",
   "metadata": {
    "papermill": {},
    "tags": []
   },
   "outputs": [],
   "source": [
    "df = github.connect(token).repos.get_stargazers(repo_url)\n",
    "print('Row fetched:', len(df))\n",
    "df.tail(3)"
   ]
  },
  {
   "cell_type": "markdown",
   "id": "67a9fd63-7fb3-423d-8613-0626c8a01421",
   "metadata": {
    "papermill": {},
    "tags": []
   },
   "source": [
    "## Output"
   ]
  },
  {
   "cell_type": "markdown",
   "id": "f9d65b6f-e4aa-47e2-81a5-930cde4adaf6",
   "metadata": {
    "papermill": {},
    "tags": []
   },
   "source": [
    "### Send dataframe to Google Sheets"
   ]
  },
  {
   "cell_type": "code",
   "execution_count": null,
   "id": "f7e9e2bf-1610-4e46-aa8b-6f51567ae816",
   "metadata": {
    "papermill": {},
    "tags": []
   },
   "outputs": [],
   "source": [
    "gsheet.connect(spreadsheet_url).send(\n",
    "    sheet_name=sheet_name,\n",
    "    data=df,\n",
    "    append=False\n",
    ")"
   ]
  }
 ],
 "metadata": {
  "kernelspec": {
   "display_name": "Python 3",
   "language": "python",
   "name": "python3"
  },
  "language_info": {
   "codemirror_mode": {
    "name": "ipython",
    "version": 3
   },
   "file_extension": ".py",
   "mimetype": "text/x-python",
   "name": "python",
   "nbconvert_exporter": "python",
   "pygments_lexer": "ipython3",
   "version": "3.9.6"
  },
  "naas": {
   "notebook_id": "9c57f872a50f25acbb10c6400142ac1e874a1c4b7d26c38e6efc0c4b819bb16f",
   "notebook_path": "GitHub/GitHub_Send_stargazers_to_Google_Sheets.ipynb"
  },
  "papermill": {
   "default_parameters": {},
   "environment_variables": {},
   "parameters": {},
   "version": "2.4.0"
  },
  "widgets": {
   "application/vnd.jupyter.widget-state+json": {
    "state": {},
    "version_major": 2,
    "version_minor": 0
   }
  }
 },
 "nbformat": 4,
 "nbformat_minor": 5
}