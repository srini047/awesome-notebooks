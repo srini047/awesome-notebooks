{
 "cells": [
  {
   "cell_type": "markdown",
   "id": "352d312f-7434-4010-a99b-e413f17fea40",
   "metadata": {
    "papermill": {},
    "tags": []
   },
   "source": [
    "<img width=\"10%\" alt=\"Naas\" src=\"https://landen.imgix.net/jtci2pxwjczr/assets/5ice39g4.png?w=160\"/>"
   ]
  },
  {
   "cell_type": "markdown",
   "id": "196a6e22-38b0-42af-aa8b-53f050c864de",
   "metadata": {
    "papermill": {},
    "tags": []
   },
   "source": [
    "# GitHub - List branches\n",
    "<a href=\"https://app.naas.ai/user-redirect/naas/downloader?url=https://raw.githubusercontent.com/jupyter-naas/awesome-notebooks/master/GitHub/GitHub_List_branches.ipynb\" target=\"_parent\"><img src=\"https://naasai-public.s3.eu-west-3.amazonaws.com/Open_in_Naas_Lab.svg\"/></a><br><br><a href=\"https://github.com/jupyter-naas/awesome-notebooks/issues/new?assignees=&labels=&template=template-request.md&title=Tool+-+Action+of+the+notebook+\">Template request</a> | <a href=\"https://github.com/jupyter-naas/awesome-notebooks/issues/new?assignees=&labels=bug&template=bug_report.md&title=GitHub+-+List+branches:+Error+short+description\">Bug report</a> | <a href=\"https://app.naas.ai/user-redirect/naas/downloader?url=https://raw.githubusercontent.com/jupyter-naas/awesome-notebooks/master/Naas/Naas_Start_data_product.ipynb\" target=\"_parent\">Generate Data Product</a>"
   ]
  },
  {
   "cell_type": "markdown",
   "id": "1bfdeea3-b3c1-4313-a9c4-0cb07ded0800",
   "metadata": {
    "papermill": {},
    "tags": []
   },
   "source": [
    "**Tags:** #github #branches #list #api #rest #python"
   ]
  },
  {
   "cell_type": "markdown",
   "id": "d2288e33-f6dd-4898-8f6b-c9b078c1867e",
   "metadata": {
    "papermill": {},
    "tags": []
   },
   "source": [
    "**Author:** [Benjamin Filly](https://www.linkedin.com/in/benjamin-filly-05427727a/)"
   ]
  },
  {
   "cell_type": "markdown",
   "id": "ccdcb65f-dd8b-49c4-ba5b-bbb78df54403",
   "metadata": {
    "papermill": {},
    "tags": []
   },
   "source": [
    "**Description:** This notebook will list all branches from a given GitHub repository;"
   ]
  },
  {
   "cell_type": "markdown",
   "id": "8493f6fb-59f3-4c7b-b15a-451beb599bce",
   "metadata": {
    "papermill": {},
    "tags": []
   },
   "source": [
    "**References:**\n",
    "- [GitHub - List branches](https://docs.github.com/en/rest/branches/branches?apiVersion=2022-11-28#list-branches)\n",
    "- [GitHub - Authentication](https://docs.github.com/en/rest/overview/resources-in-the-rest-api#authentication)"
   ]
  },
  {
   "cell_type": "markdown",
   "id": "c134d691-cfa6-4f0e-ba25-ce5e6b4e7294",
   "metadata": {
    "papermill": {},
    "tags": []
   },
   "source": [
    "## Input"
   ]
  },
  {
   "cell_type": "markdown",
   "id": "f402bd95-68ba-41b5-8f8f-ac60a6157851",
   "metadata": {
    "papermill": {},
    "tags": []
   },
   "source": [
    "### Import libraries"
   ]
  },
  {
   "cell_type": "code",
   "execution_count": null,
   "id": "d185778c-8bce-4b7e-b494-694ad609c7e8",
   "metadata": {
    "papermill": {},
    "tags": []
   },
   "outputs": [],
   "source": [
    "import naas\n",
    "import pandas as pd\n",
    "try:\n",
    "    from github import Github\n",
    "except:\n",
    "    !pip install PyGithub --user\n",
    "    from github import Github\n",
    "from pprint import pprint"
   ]
  },
  {
   "cell_type": "markdown",
   "id": "f27d6294-0792-4995-8813-8d410a446cb2",
   "metadata": {
    "papermill": {},
    "tags": []
   },
   "source": [
    "### Setup Variables\n",
    "- `token`: [Generate a personal access token](https://docs.github.com/en/github/authenticating-to-github/creating-a-personal-access-token)\n",
    "- `owner`: owner of the repository\n",
    "- `repository`: name of the repository"
   ]
  },
  {
   "cell_type": "code",
   "execution_count": null,
   "id": "ddc91127-3315-4dda-88e5-8229d5c53176",
   "metadata": {
    "papermill": {},
    "tags": []
   },
   "outputs": [],
   "source": [
    "token = naas.secret.get(name=\"GITHUB_TOKEN\") or \"YOUR_GITHUB_TOKEN\"\n",
    "owner = \"jupyter-naas\" #This is an example for naas\n",
    "repository = \"awesome-notebooks\" #This is an example for naas"
   ]
  },
  {
   "cell_type": "markdown",
   "id": "b6e0e4e4-4881-425a-9751-ef97d202562d",
   "metadata": {
    "papermill": {},
    "tags": []
   },
   "source": [
    "## Model"
   ]
  },
  {
   "cell_type": "markdown",
   "id": "ae781b5e-06db-4345-a287-44f760462548",
   "metadata": {
    "papermill": {},
    "tags": []
   },
   "source": [
    "### List branches"
   ]
  },
  {
   "cell_type": "code",
   "execution_count": null,
   "id": "43620d60-48cb-4c8a-8fcc-48189bd14b15",
   "metadata": {
    "papermill": {},
    "tags": []
   },
   "outputs": [],
   "source": [
    "def list_branches(owner, repository):\n",
    "    g = Github(token)\n",
    "\n",
    "    try:\n",
    "        repo = g.get_repo(f\"{owner}/{repository}\")\n",
    "        branches = repo.get_branches()\n",
    "\n",
    "        data = []\n",
    "        for branch in branches:\n",
    "            branch_data = {\n",
    "                'branch': branch.name,\n",
    "                'creation_date': branch.commit.commit.author.date,\n",
    "                'creator': branch.commit.commit.author.name\n",
    "            }\n",
    "            data.append(branch_data)\n",
    "\n",
    "        df = pd.DataFrame(data)\n",
    "        return df\n",
    "\n",
    "    except Exception as e:\n",
    "        print(f\"An error occurred: {e}\")\n",
    "        return pd.DataFrame()\n",
    "\n",
    "branches_df = list_branches(owner, repository)"
   ]
  },
  {
   "cell_type": "markdown",
   "id": "f94c42ab-2a53-406d-8423-f2f19c57e5d0",
   "metadata": {
    "papermill": {},
    "tags": []
   },
   "source": [
    "## Output"
   ]
  },
  {
   "cell_type": "markdown",
   "id": "9d86ad23-9f7e-45f8-8ddd-ea451365754c",
   "metadata": {
    "papermill": {},
    "tags": []
   },
   "source": [
    "### Display result"
   ]
  },
  {
   "cell_type": "code",
   "execution_count": null,
   "id": "0c14344f-f4c0-4473-9a9a-9172e3299cb4",
   "metadata": {
    "papermill": {},
    "tags": []
   },
   "outputs": [],
   "source": [
    "print(f\"Branches for {owner}/{repository}:\", len(branches_df))\n",
    "print(\"-\" * 50)\n",
    "pprint(branches_df['branch'].tolist())\n",
    "print(\"-\" * 50)"
   ]
  },
  {
   "cell_type": "markdown",
   "id": "ff36ed17-b795-447d-9ed3-9ef638b5c904",
   "metadata": {
    "papermill": {},
    "tags": []
   },
   "source": [
    " "
   ]
  }
 ],
 "metadata": {
  "kernelspec": {
   "display_name": "Python 3",
   "language": "python",
   "name": "python3"
  },
  "language_info": {
   "codemirror_mode": {
    "name": "ipython",
    "version": 3
   },
   "file_extension": ".py",
   "mimetype": "text/x-python",
   "name": "python",
   "nbconvert_exporter": "python",
   "pygments_lexer": "ipython3",
   "version": "3.9.6"
  },
  "naas": {
   "notebook_id": "9c502c94394240a77a6261022e61b720843f587f1694bc5067f24e85ca04b1cf",
   "notebook_path": "GitHub/GitHub_List_branches.ipynb"
  },
  "papermill": {
   "default_parameters": {},
   "environment_variables": {},
   "parameters": {},
   "version": "2.4.0"
  },
  "widgets": {
   "application/vnd.jupyter.widget-state+json": {
    "state": {},
    "version_major": 2,
    "version_minor": 0
   }
  }
 },
 "nbformat": 4,
 "nbformat_minor": 5
}