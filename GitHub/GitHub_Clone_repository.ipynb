{
 "cells": [
  {
   "cell_type": "markdown",
   "id": "injured-evolution",
   "metadata": {
    "papermill": {},
    "tags": []
   },
   "source": [
    "<img width=\"10%\" alt=\"Naas\" src=\"https://landen.imgix.net/jtci2pxwjczr/assets/5ice39g4.png?w=160\"/>"
   ]
  },
  {
   "cell_type": "markdown",
   "id": "substantial-decline",
   "metadata": {
    "papermill": {},
    "tags": []
   },
   "source": [
    "# GitHub - Clone repository\n",
    "<a href=\"https://app.naas.ai/user-redirect/naas/downloader?url=https://raw.githubusercontent.com/jupyter-naas/awesome-notebooks/master/GitHub/GitHub_Clone_repository.ipynb\" target=\"_parent\"><img src=\"https://naasai-public.s3.eu-west-3.amazonaws.com/Open_in_Naas_Lab.svg\"/></a><br><br><a href=\"https://github.com/jupyter-naas/awesome-notebooks/issues/new?assignees=&labels=&template=template-request.md&title=Tool+-+Action+of+the+notebook+\">Template request</a> | <a href=\"https://github.com/jupyter-naas/awesome-notebooks/issues/new?assignees=&labels=bug&template=bug_report.md&title=GitHub+-+Clone+repository:+Error+short+description\">Bug report</a> | <a href=\"https://app.naas.ai/user-redirect/naas/downloader?url=https://raw.githubusercontent.com/jupyter-naas/awesome-notebooks/master/Naas/Naas_Start_data_product.ipynb\" target=\"_parent\">Generate Data Product</a>"
   ]
  },
  {
   "cell_type": "markdown",
   "id": "00619b69-5ce8-417a-b8b1-c81af6342f9c",
   "metadata": {
    "papermill": {},
    "tags": []
   },
   "source": [
    "**Tags:** #github #snippet #operations #repository"
   ]
  },
  {
   "cell_type": "markdown",
   "id": "1446840e-74d1-4c76-afb6-4752a6b4a0c4",
   "metadata": {
    "papermill": {},
    "tags": []
   },
   "source": [
    "**Author:** [Florent Ravenel](https://www.linkedin.com/in/florent-ravenel/)"
   ]
  },
  {
   "cell_type": "markdown",
   "id": "2bf7fc9a-24f6-4a40-a85c-e564df9f915b",
   "metadata": {
    "papermill": {},
    "tags": []
   },
   "source": [
    "**References:**\n",
    "- [GitHub Documentation - Cloning a repository](https://docs.github.com/en/github/creating-cloning-and-archiving-repositories/cloning-a-repository)"
   ]
  },
  {
   "cell_type": "markdown",
   "id": "ba4e2faf-9cbd-4405-b3a5-09ff543951e8",
   "metadata": {
    "papermill": {},
    "tags": []
   },
   "source": [
    "## Input"
   ]
  },
  {
   "cell_type": "markdown",
   "id": "e1db5a47-1aef-4cb8-b939-4341cf6d7007",
   "metadata": {
    "papermill": {},
    "tags": []
   },
   "source": [
    "### Import libraries"
   ]
  },
  {
   "cell_type": "code",
   "execution_count": null,
   "id": "89dfc24e-90e9-43b6-a5a9-329d404b58ba",
   "metadata": {
    "papermill": {},
    "tags": []
   },
   "outputs": [],
   "source": [
    "import os"
   ]
  },
  {
   "cell_type": "markdown",
   "id": "e295de8b-d6b2-447d-aaca-11aa8adb0fe7",
   "metadata": {
    "papermill": {},
    "tags": []
   },
   "source": [
    "### Setup Variables\n",
    "- `repo_url`: URL of the repository to clone\n",
    "- `output_dir`: Output directory to clone repo. If None, we will create a folder with the name of the repo"
   ]
  },
  {
   "cell_type": "code",
   "execution_count": null,
   "id": "61e258bc-250b-4013-9bc3-f26a198ce405",
   "metadata": {
    "papermill": {},
    "tags": []
   },
   "outputs": [],
   "source": [
    "# Inputs\n",
    "repo_url = \"https://github.com/jupyter-naas/awesome-notebooks\"\n",
    "\n",
    "# Outputs\n",
    "output_dir = None"
   ]
  },
  {
   "cell_type": "markdown",
   "id": "0002a818-8861-436c-a34d-5eaee3993d2f",
   "metadata": {
    "papermill": {},
    "tags": []
   },
   "source": [
    "## Model"
   ]
  },
  {
   "cell_type": "markdown",
   "id": "8155b17a-3af5-4eb6-a0af-840f986123ee",
   "metadata": {
    "papermill": {},
    "tags": []
   },
   "source": [
    "### Clone repository\n",
    "Clone the repository from the given URL and create a local copy of it."
   ]
  },
  {
   "cell_type": "code",
   "execution_count": null,
   "id": "84973cf4-bb97-4cdc-a3a7-7e333cc85ed5",
   "metadata": {
    "papermill": {},
    "tags": []
   },
   "outputs": [],
   "source": [
    "def clone_branch(repo_url, output_dir):\n",
    "    # Get GitHub owner and repo name\n",
    "    owner = repo_url.split(\"https://github.com/\")[-1].split(\"/\")[0]\n",
    "    repo_name = repo_url.split(\"/\")[-1]\n",
    "    \n",
    "    # Add repo name with .git extension\n",
    "    if not repo_name.endswith(\".git\"):\n",
    "        repo_name = f\"{repo_name}.git\"\n",
    "    repo = f\"{owner}/{repo_name}\"\n",
    "        \n",
    "    # Init output dir\n",
    "    if not output_dir:\n",
    "        output_dir = repo_name[:-4]\n",
    "    \n",
    "    # Create output directoy\n",
    "    if not os.path.exists(output_dir):\n",
    "        os.makedirs(output_dir)\n",
    "        \n",
    "    # GitHub Action\n",
    "    !cd '{output_dir}'\n",
    "    !git clone git@github.com:'{repo}' '{output_dir}'\n",
    "    print(f\"✅ GitHub repo cloned: {output_dir}\")\n",
    "    return output_dir"
   ]
  },
  {
   "cell_type": "markdown",
   "id": "ae35a60a-1a3b-4e05-8cd4-bd83872afc37",
   "metadata": {
    "papermill": {},
    "tags": []
   },
   "source": [
    "## Output"
   ]
  },
  {
   "cell_type": "markdown",
   "id": "3a60606d-5835-4c31-a864-5bdc60f3fd7e",
   "metadata": {
    "papermill": {},
    "tags": []
   },
   "source": [
    "### Clone repository"
   ]
  },
  {
   "cell_type": "code",
   "execution_count": null,
   "id": "90969cb5-2e9c-4fe4-8309-2586830754b1",
   "metadata": {
    "papermill": {},
    "tags": []
   },
   "outputs": [],
   "source": [
    "output_dir = clone_branch(repo_url, output_dir)"
   ]
  }
 ],
 "metadata": {
  "kernelspec": {
   "display_name": "Python 3",
   "language": "python",
   "name": "python3"
  },
  "language_info": {
   "codemirror_mode": {
    "name": "ipython",
    "version": 3
   },
   "file_extension": ".py",
   "mimetype": "text/x-python",
   "name": "python",
   "nbconvert_exporter": "python",
   "pygments_lexer": "ipython3",
   "version": "3.9.6"
  },
  "naas": {
   "notebook_id": "9a285091900a306e1d94106e8130989f033c65589f2bc28dc7515436d73a5af4",
   "notebook_path": "GitHub/GitHub_Clone_repository.ipynb"
  },
  "papermill": {
   "default_parameters": {},
   "environment_variables": {},
   "parameters": {},
   "version": "2.3.3"
  },
  "toc-autonumbering": false,
  "widgets": {
   "application/vnd.jupyter.widget-state+json": {
    "state": {},
    "version_major": 2,
    "version_minor": 0
   }
  }
 },
 "nbformat": 4,
 "nbformat_minor": 5
}