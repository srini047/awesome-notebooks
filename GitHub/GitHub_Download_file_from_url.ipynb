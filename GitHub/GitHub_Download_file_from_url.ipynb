{
 "cells": [
  {
   "cell_type": "markdown",
   "id": "private-antigua",
   "metadata": {
    "execution": {
     "iopub.execute_input": "2021-01-26T14:19:41.734342Z",
     "iopub.status.busy": "2021-01-26T14:19:41.734061Z",
     "iopub.status.idle": "2021-01-26T14:19:41.746082Z",
     "shell.execute_reply": "2021-01-26T14:19:41.745168Z",
     "shell.execute_reply.started": "2021-01-26T14:19:41.734276Z"
    },
    "papermill": {},
    "tags": []
   },
   "source": [
    "<img width=\"10%\" alt=\"Naas\" src=\"https://landen.imgix.net/jtci2pxwjczr/assets/5ice39g4.png?w=160\"/>"
   ]
  },
  {
   "cell_type": "markdown",
   "id": "temporal-charleston",
   "metadata": {
    "execution": {
     "iopub.execute_input": "2021-01-26T14:20:23.712683Z",
     "iopub.status.busy": "2021-01-26T14:20:23.712460Z",
     "iopub.status.idle": "2021-01-26T14:20:23.715365Z",
     "shell.execute_reply": "2021-01-26T14:20:23.714680Z",
     "shell.execute_reply.started": "2021-01-26T14:20:23.712660Z"
    },
    "papermill": {},
    "tags": []
   },
   "source": [
    "# GitHub - Download file from url\n",
    "<a href=\"https://app.naas.ai/user-redirect/naas/downloader?url=https://raw.githubusercontent.com/jupyter-naas/awesome-notebooks/master/GitHub/GitHub_Download_file_from_url.ipynb\" target=\"_parent\"><img src=\"https://naasai-public.s3.eu-west-3.amazonaws.com/open_in_naas.svg\"/></a><br><br><a href=\"https://github.com/jupyter-naas/awesome-notebooks/issues/new?assignees=&labels=&template=template-request.md&title=Tool+-+Action+of+the+notebook+\">Template request</a> | <a href=\"https://github.com/jupyter-naas/awesome-notebooks/issues/new?assignees=&labels=bug&template=bug_report.md&title=GitHub+-+Download+file+from+url:+Error+short+description\">Bug report</a>"
   ]
  },
  {
   "cell_type": "markdown",
   "id": "tags_cell",
   "metadata": {
    "papermill": {},
    "tags": []
   },
   "source": [
    "**Tags:** #github #productivity #code #operations #snippet #dataframe"
   ]
  },
  {
   "cell_type": "markdown",
   "id": "c011abf5-e109-48c2-b1d3-f34eb7464429",
   "metadata": {
    "execution": {
     "iopub.execute_input": "2022-02-22T07:53:10.442350Z",
     "iopub.status.busy": "2022-02-22T07:53:10.442088Z",
     "iopub.status.idle": "2022-02-22T07:53:10.453562Z",
     "shell.execute_reply": "2022-02-22T07:53:10.452681Z",
     "shell.execute_reply.started": "2022-02-22T07:53:10.442281Z"
    },
    "papermill": {},
    "tags": []
   },
   "source": [
    "**Author:** [Jeremy Ravenel](https://www.linkedin.com/in/ACoAAAJHE7sB5OxuKHuzguZ9L6lfDHqw--cdnJg/)"
   ]
  },
  {
   "cell_type": "markdown",
   "id": "naas-description",
   "metadata": {
    "papermill": {},
    "tags": [
     "description"
    ]
   },
   "source": [
    "**Description:** This notebook provides instructions on how to download a file from a URL using GitHub."
   ]
  },
  {
   "cell_type": "markdown",
   "id": "input_cell",
   "metadata": {
    "papermill": {},
    "tags": []
   },
   "source": [
    "## Input"
   ]
  },
  {
   "cell_type": "markdown",
   "id": "interpreted-picnic",
   "metadata": {
    "execution": {
     "iopub.execute_input": "2021-01-26T14:20:42.280435Z",
     "iopub.status.busy": "2021-01-26T14:20:42.280200Z",
     "iopub.status.idle": "2021-01-26T14:20:42.283029Z",
     "shell.execute_reply": "2021-01-26T14:20:42.282302Z",
     "shell.execute_reply.started": "2021-01-26T14:20:42.280412Z"
    },
    "papermill": {},
    "tags": []
   },
   "source": [
    "### Import needed library"
   ]
  },
  {
   "cell_type": "code",
   "execution_count": 1,
   "id": "handmade-winter",
   "metadata": {
    "execution": {
     "iopub.execute_input": "2021-02-28T10:55:28.843048Z",
     "iopub.status.busy": "2021-02-28T10:55:28.842782Z",
     "iopub.status.idle": "2021-02-28T10:55:31.722822Z",
     "shell.execute_reply": "2021-02-28T10:55:31.722138Z",
     "shell.execute_reply.started": "2021-02-28T10:55:28.842987Z"
    },
    "papermill": {},
    "tags": []
   },
   "outputs": [],
   "source": [
    "import requests\n",
    "import naas\n",
    "import uuid"
   ]
  },
  {
   "cell_type": "markdown",
   "id": "model_cell",
   "metadata": {
    "papermill": {},
    "tags": []
   },
   "source": [
    "## Model"
   ]
  },
  {
   "cell_type": "markdown",
   "id": "inner-redhead",
   "metadata": {
    "papermill": {},
    "tags": []
   },
   "source": [
    "### Default Github file for testing purpose"
   ]
  },
  {
   "cell_type": "code",
   "execution_count": 2,
   "id": "nutritional-egyptian",
   "metadata": {
    "execution": {
     "iopub.execute_input": "2021-02-28T10:55:32.727530Z",
     "iopub.status.busy": "2021-02-28T10:55:32.727286Z",
     "iopub.status.idle": "2021-02-28T10:55:32.730550Z",
     "shell.execute_reply": "2021-02-28T10:55:32.729877Z",
     "shell.execute_reply.started": "2021-02-28T10:55:32.727505Z"
    },
    "papermill": {},
    "tags": [
     "parameters"
    ]
   },
   "outputs": [],
   "source": [
    "target = \"https://github.com/jupyter-naas/awesome-notebooks/blob/master/Plotly/Create%20Candlestick%20chart.ipynb\""
   ]
  },
  {
   "cell_type": "markdown",
   "id": "polished-creek",
   "metadata": {
    "papermill": {},
    "tags": []
   },
   "source": [
    "### Convert url to downloadable one"
   ]
  },
  {
   "cell_type": "code",
   "execution_count": 3,
   "id": "written-bicycle",
   "metadata": {
    "execution": {
     "iopub.execute_input": "2021-02-28T10:55:33.921701Z",
     "iopub.status.busy": "2021-02-28T10:55:33.921447Z",
     "iopub.status.idle": "2021-02-28T10:55:33.925422Z",
     "shell.execute_reply": "2021-02-28T10:55:33.924798Z",
     "shell.execute_reply.started": "2021-02-28T10:55:33.921678Z"
    },
    "papermill": {},
    "tags": []
   },
   "outputs": [],
   "source": [
    "# https://raw.githubusercontent.com/jupyter-naas/awesome-notebooks/master/Dataviz/Plotly/Create%20Candlestick%20chart.ipynb\n",
    "raw_target = target.replace(\"https://github.com/\", \"https://raw.githubusercontent.com/\")\n",
    "raw_target = raw_target.replace(\"/blob/\", \"/\")\n",
    "print(raw_target)"
   ]
  },
  {
   "cell_type": "markdown",
   "id": "output_cell",
   "metadata": {
    "papermill": {},
    "tags": []
   },
   "source": [
    "## Output"
   ]
  },
  {
   "cell_type": "markdown",
   "id": "earned-slovakia",
   "metadata": {
    "papermill": {},
    "tags": []
   },
   "source": [
    "### Dowload file locally"
   ]
  },
  {
   "cell_type": "code",
   "execution_count": 4,
   "id": "centered-morris",
   "metadata": {
    "execution": {
     "iopub.execute_input": "2021-02-28T10:55:38.998295Z",
     "iopub.status.busy": "2021-02-28T10:55:38.998044Z",
     "iopub.status.idle": "2021-02-28T10:55:39.122045Z",
     "shell.execute_reply": "2021-02-28T10:55:39.121369Z",
     "shell.execute_reply.started": "2021-02-28T10:55:38.998273Z"
    },
    "papermill": {},
    "tags": []
   },
   "outputs": [],
   "source": [
    "import urllib.parse\n",
    "\n",
    "r = requests.get(raw_target)\n",
    "uid = uuid.uuid4().hex\n",
    "\n",
    "file_name = raw_target.split(\"/\")[-1]\n",
    "file_name = urllib.parse.unquote(file_name)\n",
    "\n",
    "with open(file_name, \"wb\") as f:\n",
    "    f.write(r.content)"
   ]
  }
 ],
 "metadata": {
  "kernelspec": {
   "display_name": "Python 3",
   "language": "python",
   "name": "python3"
  },
  "language_info": {
   "codemirror_mode": {
    "name": "ipython",
    "version": 3
   },
   "file_extension": ".py",
   "mimetype": "text/x-python",
   "name": "python",
   "nbconvert_exporter": "python",
   "pygments_lexer": "ipython3",
   "version": "3.9.6"
  },
  "naas": {
   "notebook_id": "79d20f9d-7c82-4a7b-b8c1-610ed5d56a9f",
   "notebook_path": "GitHub/GitHub_Download_file_from_url.ipynb"
  },
  "papermill": {
   "default_parameters": {},
   "environment_variables": {},
   "parameters": {},
   "version": "2.3.3"
  }
 },
 "nbformat": 4,
 "nbformat_minor": 5
}