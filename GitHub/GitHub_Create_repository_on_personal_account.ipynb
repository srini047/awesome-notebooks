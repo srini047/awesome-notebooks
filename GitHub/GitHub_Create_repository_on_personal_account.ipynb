{
 "cells": [
  {
   "cell_type": "markdown",
   "id": "4f908394-d041-49d8-a274-c9b359ba6a9a",
   "metadata": {
    "execution": {
     "iopub.execute_input": "2022-10-04T18:08:42.774699Z",
     "iopub.status.busy": "2022-10-04T18:08:42.774423Z",
     "iopub.status.idle": "2022-10-04T18:08:42.840406Z",
     "shell.execute_reply": "2022-10-04T18:08:42.839749Z",
     "shell.execute_reply.started": "2022-10-04T18:08:42.774633Z"
    },
    "papermill": {},
    "tags": []
   },
   "source": [
    "<img width=\"10%\" alt=\"Naas\" src=\"https://landen.imgix.net/jtci2pxwjczr/assets/5ice39g4.png?w=160\"/>\n"
   ]
  },
  {
   "cell_type": "markdown",
   "id": "97edb724-e2fc-40e5-a651-91fe451232db",
   "metadata": {
    "papermill": {},
    "tags": []
   },
   "source": [
    "# GitHub - Create repository on personal account\n",
    "<a href=\"https://app.naas.ai/user-redirect/naas/downloader?url=https://raw.githubusercontent.com/jupyter-naas/awesome-notebooks/master/GitHub/GitHub_Create_repository_on_personal_account.ipynb\" target=\"_parent\"><img src=\"https://naasai-public.s3.eu-west-3.amazonaws.com/Open_in_Naas_Lab.svg\"/></a><br><br><a href=\"https://github.com/jupyter-naas/awesome-notebooks/issues/new?assignees=&labels=&template=template-request.md&title=Tool+-+Action+of+the+notebook+\">Template request</a> | <a href=\"https://github.com/jupyter-naas/awesome-notebooks/issues/new?assignees=&labels=bug&template=bug_report.md&title=GitHub+-+Create+repository+on+personal+account:+Error+short+description\">Bug report</a> | <a href=\"https://app.naas.ai/user-redirect/naas/downloader?url=https://raw.githubusercontent.com/jupyter-naas/awesome-notebooks/master/Naas/Naas_Start_data_product.ipynb\" target=\"_parent\">Generate Data Product</a>"
   ]
  },
  {
   "cell_type": "markdown",
   "id": "0af6e280-4a6f-4c63-a67c-69e091c2f44e",
   "metadata": {
    "papermill": {},
    "tags": []
   },
   "source": [
    "**Tags:** #github #productivity #code #operations #snippet"
   ]
  },
  {
   "cell_type": "markdown",
   "id": "f44bdb06-af80-49b7-9272-9d1bfe0d2a97",
   "metadata": {
    "papermill": {},
    "tags": []
   },
   "source": [
    "**Author:** [Kanishk Pareek](https://in.linkedin.com/in/kanishkpareek/)"
   ]
  },
  {
   "cell_type": "markdown",
   "id": "naas-description",
   "metadata": {
    "papermill": {},
    "tags": [
     "description"
    ]
   },
   "source": [
    "**Description:** This notebook provides instructions on how to create a repository on a personal GitHub account."
   ]
  },
  {
   "cell_type": "markdown",
   "id": "1cecc96c-8f90-4a67-9250-535b24f302c2",
   "metadata": {
    "papermill": {},
    "tags": []
   },
   "source": [
    "## Input"
   ]
  },
  {
   "cell_type": "markdown",
   "id": "7ed00378-8093-4a67-93f0-a4478c096c91",
   "metadata": {
    "papermill": {},
    "tags": []
   },
   "source": [
    "### Importing library"
   ]
  },
  {
   "cell_type": "code",
   "execution_count": 1,
   "id": "8dcd840c-6c08-413d-9e5b-d41a95d3e3fa",
   "metadata": {
    "papermill": {},
    "tags": []
   },
   "outputs": [],
   "source": [
    "import requests\n",
    "import json"
   ]
  },
  {
   "cell_type": "markdown",
   "id": "6fefdecd-a1e7-4081-ab3e-00248d4656cc",
   "metadata": {
    "papermill": {},
    "tags": []
   },
   "source": [
    "### Setup variables"
   ]
  },
  {
   "cell_type": "code",
   "execution_count": 2,
   "id": "78f51d09-a23d-46aa-8af9-a194078a07d1",
   "metadata": {
    "papermill": {},
    "tags": []
   },
   "outputs": [],
   "source": [
    "# Enter your username here\n",
    "user_name = \"jravenel\"\n",
    "\n",
    "# Enter your github personal access token (Profile > Settings > Developpers settings > Personal access tokens)\n",
    "github_token = \"**********\"\n",
    "\n",
    "# Enter your repo name that you want to create\n",
    "repo_name = \"test\"\n",
    "\n",
    "# Enter Your repo description\n",
    "repo_description = \"This is another repo\""
   ]
  },
  {
   "cell_type": "markdown",
   "id": "84c363fc-e138-42cb-bb4f-120feb2d10b3",
   "metadata": {
    "papermill": {},
    "tags": []
   },
   "source": [
    "## Model"
   ]
  },
  {
   "cell_type": "code",
   "execution_count": 3,
   "id": "f997373a-7fd7-49e8-ac61-f31a5ebeb5a4",
   "metadata": {
    "papermill": {},
    "tags": []
   },
   "outputs": [],
   "source": [
    "payload = {\"name\": repo_name, \"description\": repo_description, \"auto_init\": \"true\"}\n",
    "repo_request = requests.post(\n",
    "    \"https://api.github.com/\" + \"user/repos\",\n",
    "    auth=(user_name, github_token),\n",
    "    data=json.dumps(payload),\n",
    ")"
   ]
  },
  {
   "cell_type": "markdown",
   "id": "e969cc2b-d747-499d-ab37-68a9018d3ce7",
   "metadata": {
    "papermill": {},
    "tags": []
   },
   "source": [
    "## Output"
   ]
  },
  {
   "cell_type": "code",
   "execution_count": 4,
   "id": "b6f48ca0-5304-4439-b3dd-4216f551a8cc",
   "metadata": {
    "papermill": {},
    "tags": []
   },
   "outputs": [],
   "source": [
    "if repo_request.status_code == 422:\n",
    "    print(\"Github repo already exists try wih other name.\")\n",
    "elif repo_request.status_code == 201:\n",
    "    print(\"Github repo has created successfully.\")\n",
    "elif repo_request.status_code == 401:\n",
    "    print(\"You are unauthorized user for this action.\")"
   ]
  }
 ],
 "metadata": {
  "kernelspec": {
   "display_name": "Python 3",
   "language": "python",
   "name": "python3"
  },
  "language_info": {
   "codemirror_mode": {
    "name": "ipython",
    "version": 3
   },
   "file_extension": ".py",
   "mimetype": "text/x-python",
   "name": "python",
   "nbconvert_exporter": "python",
   "pygments_lexer": "ipython3",
   "version": "3.9.6"
  },
  "naas": {
   "notebook_id": "45e3c14a696be711aaa32ba00141daa87f830e1d23755fa0a4974ebf66cc81ef",
   "notebook_path": "GitHub/GitHub_Create_repository_on_personal_account.ipynb"
  },
  "papermill": {
   "default_parameters": {},
   "environment_variables": {},
   "parameters": {},
   "version": "2.4.0"
  },
  "widgets": {
   "application/vnd.jupyter.widget-state+json": {
    "state": {},
    "version_major": 2,
    "version_minor": 0
   }
  }
 },
 "nbformat": 4,
 "nbformat_minor": 5
}