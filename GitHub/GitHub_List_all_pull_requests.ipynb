{
 "cells": [
  {
   "cell_type": "markdown",
   "id": "62b53981-542a-4c3d-b7a1-053791ba7e2d",
   "metadata": {
    "papermill": {},
    "tags": []
   },
   "source": [
    "<img width=\"10%\" alt=\"Naas\" src=\"https://landen.imgix.net/jtci2pxwjczr/assets/5ice39g4.png?w=160\"/>"
   ]
  },
  {
   "cell_type": "markdown",
   "id": "5c199c98-a244-429c-8fd3-41ae0e06efc7",
   "metadata": {
    "papermill": {},
    "tags": []
   },
   "source": [
    "# GitHub - List all pull requests\n",
    "<a href=\"https://app.naas.ai/user-redirect/naas/downloader?url=https://raw.githubusercontent.com/jupyter-naas/awesome-notebooks/master/GitHub/GitHub_List_all_pull_requests.ipynb\" target=\"_parent\"><img src=\"https://naasai-public.s3.eu-west-3.amazonaws.com/Open_in_Naas_Lab.svg\"/></a><br><br><a href=\"https://github.com/jupyter-naas/awesome-notebooks/issues/new?assignees=&labels=&template=template-request.md&title=Tool+-+Action+of+the+notebook+\">Template request</a> | <a href=\"https://github.com/jupyter-naas/awesome-notebooks/issues/new?assignees=&labels=bug&template=bug_report.md&title=GitHub+-+List+all+pull+requests:+Error+short+description\">Bug report</a> | <a href=\"https://app.naas.ai/user-redirect/naas/downloader?url=https://raw.githubusercontent.com/jupyter-naas/awesome-notebooks/master/Naas/Naas_Start_data_product.ipynb\" target=\"_parent\">Generate Data Product</a>"
   ]
  },
  {
   "cell_type": "markdown",
   "id": "cd9544a0-4ef4-4250-a4cc-3bded5ccbb18",
   "metadata": {
    "papermill": {},
    "tags": []
   },
   "source": [
    "**Tags:** #github #pygithub #repo #api #python"
   ]
  },
  {
   "cell_type": "markdown",
   "id": "a001fffd-d496-4194-80a4-5872acbd9452",
   "metadata": {
    "papermill": {},
    "tags": []
   },
   "source": [
    "**Author:** [Florent Ravenel](https://www.linkedin.com/in/florent-ravenel/)"
   ]
  },
  {
   "cell_type": "markdown",
   "id": "d2f016ec-10a6-46e2-9730-4e111c10371a",
   "metadata": {
    "papermill": {},
    "tags": []
   },
   "source": [
    "**Description:** This notebook list all pull requests from a repository name using pygithub library."
   ]
  },
  {
   "cell_type": "markdown",
   "id": "9cb89356-d105-4061-90b0-5653078e590f",
   "metadata": {
    "papermill": {},
    "tags": []
   },
   "source": [
    "**References:**\n",
    "- [PyGithub Documentation](https://pygithub.readthedocs.io/en/latest/)\n",
    "- [GitHub API Documentation](https://developer.github.com/v3/)"
   ]
  },
  {
   "cell_type": "markdown",
   "id": "3833753b-30f1-4254-9cf3-b498fde5de10",
   "metadata": {
    "papermill": {},
    "tags": []
   },
   "source": [
    "## Input"
   ]
  },
  {
   "cell_type": "markdown",
   "id": "50f9d1e9-6430-4e80-836f-2f905af104c9",
   "metadata": {
    "papermill": {},
    "tags": []
   },
   "source": [
    "### Import libraries"
   ]
  },
  {
   "cell_type": "code",
   "execution_count": 1,
   "id": "21788077-c209-4ab5-b047-7ce1b2f13e0f",
   "metadata": {
    "papermill": {},
    "tags": []
   },
   "outputs": [],
   "source": [
    "import os\n",
    "import json\n",
    "from github import Github\n",
    "import naas"
   ]
  },
  {
   "cell_type": "markdown",
   "id": "d2c5d0f3-6237-4ba8-a6c8-80841aaa5265",
   "metadata": {
    "papermill": {},
    "tags": []
   },
   "source": [
    "### Setup Variables\n",
    "- `token`: [Generate a personal access token](https://docs.github.com/en/github/authenticating-to-github/creating-a-personal-access-token)\n",
    "- `repo_name`: name of the repository"
   ]
  },
  {
   "cell_type": "code",
   "execution_count": 2,
   "id": "c52ef7a6-909c-4fb2-85d5-98e2efc51563",
   "metadata": {
    "papermill": {},
    "tags": []
   },
   "outputs": [],
   "source": [
    "token = naas.secret.get(\"GITHUB_TOKEN\") or \"YOUR_TOKEN\"\n",
    "repo_name = \"jupyter-naas/awesome-notebooks\""
   ]
  },
  {
   "cell_type": "markdown",
   "id": "b40d8294-dbf4-4ef4-95e1-5d35c0ed8641",
   "metadata": {
    "papermill": {},
    "tags": []
   },
   "source": [
    "## Model"
   ]
  },
  {
   "cell_type": "markdown",
   "id": "b6bf2319-417a-48f7-9d1e-6b3c00db290a",
   "metadata": {
    "papermill": {},
    "tags": []
   },
   "source": [
    "### List pull requests"
   ]
  },
  {
   "cell_type": "markdown",
   "id": "7960700e-a4b1-4303-95b4-c4f344f7b30d",
   "metadata": {
    "papermill": {},
    "tags": []
   },
   "source": [
    "Using the `Github` class from the `github` library, we can connect to the GitHub API and get the all PR from a given repository."
   ]
  },
  {
   "cell_type": "code",
   "execution_count": 3,
   "id": "fb0a9570-700a-46b5-ad36-322851b46dc1",
   "metadata": {
    "papermill": {},
    "tags": []
   },
   "outputs": [],
   "source": [
    "# Connect to the GitHub API\n",
    "g = Github(token)\n",
    "# Get the repository\n",
    "repo = g.get_repo(repo_name)\n",
    "# Get the closed PR\n",
    "pull_requests = repo.get_pulls(state=\"all\")"
   ]
  },
  {
   "cell_type": "markdown",
   "id": "e83731c1-1974-4785-8a41-d8c84cef9e70",
   "metadata": {
    "papermill": {},
    "tags": []
   },
   "source": [
    "## Output"
   ]
  },
  {
   "cell_type": "markdown",
   "id": "ea084bc0-4d57-48ee-9682-895ccf1482de",
   "metadata": {
    "papermill": {},
    "tags": []
   },
   "source": [
    "### Display result"
   ]
  },
  {
   "cell_type": "code",
   "execution_count": 4,
   "id": "ca2c95d7-622c-4476-bf01-fa6d1c008c50",
   "metadata": {
    "papermill": {},
    "tags": []
   },
   "outputs": [],
   "source": [
    "# Print the closed PR\n",
    "print(\"✅ Pull Requests fetched:\", pull_requests.totalCount)\n",
    "for index, pr in enumerate(pull_requests):\n",
    "    print(json.dumps(pr.raw_data, indent=4))\n",
    "    break"
   ]
  },
  {
   "cell_type": "markdown",
   "id": "512114e2-dbb5-4ef3-96ae-26a1c788a605",
   "metadata": {
    "papermill": {},
    "tags": []
   },
   "source": [
    " "
   ]
  }
 ],
 "metadata": {
  "kernelspec": {
   "display_name": "Python 3",
   "language": "python",
   "name": "python3"
  },
  "language_info": {
   "codemirror_mode": {
    "name": "ipython",
    "version": 3
   },
   "file_extension": ".py",
   "mimetype": "text/x-python",
   "name": "python",
   "nbconvert_exporter": "python",
   "pygments_lexer": "ipython3",
   "version": "3.9.6"
  },
  "naas": {
   "notebook_id": "5494d12097ff82773cb0889f21a3f00dc84f32169f334038fc77493d818710ef",
   "notebook_path": "GitHub/GitHub_List_all_pull_requests.ipynb"
  },
  "papermill": {
   "default_parameters": {},
   "environment_variables": {},
   "parameters": {},
   "version": "2.4.0"
  },
  "widgets": {
   "application/vnd.jupyter.widget-state+json": {
    "state": {},
    "version_major": 2,
    "version_minor": 0
   }
  }
 },
 "nbformat": 4,
 "nbformat_minor": 5
}