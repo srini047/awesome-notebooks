{
 "cells": [
  {
   "cell_type": "markdown",
   "id": "c19a1cf8-865c-45f1-9c17-21bb0103a157",
   "metadata": {
    "papermill": {},
    "tags": []
   },
   "source": [
    "<img width=\"10%\" alt=\"Naas\" src=\"https://landen.imgix.net/jtci2pxwjczr/assets/5ice39g4.png?w=160\"/>"
   ]
  },
  {
   "cell_type": "markdown",
   "id": "53db8a4d-7b3f-4669-8447-cc4b3e13eecc",
   "metadata": {
    "papermill": {},
    "tags": []
   },
   "source": [
    "# GitHub - List team members\n",
    "<a href=\"https://app.naas.ai/user-redirect/naas/downloader?url=https://raw.githubusercontent.com/jupyter-naas/awesome-notebooks/master/GitHub/GitHub_List_team_members.ipynb\" target=\"_parent\"><img src=\"https://naasai-public.s3.eu-west-3.amazonaws.com/Open_in_Naas_Lab.svg\"/></a><br><br><a href=\"https://github.com/jupyter-naas/awesome-notebooks/issues/new?assignees=&labels=&template=template-request.md&title=Tool+-+Action+of+the+notebook+\">Template request</a> | <a href=\"https://github.com/jupyter-naas/awesome-notebooks/issues/new?assignees=&labels=bug&template=bug_report.md&title=GitHub+-+List+team+members:+Error+short+description\">Bug report</a> | <a href=\"https://app.naas.ai/user-redirect/naas/downloader?url=https://raw.githubusercontent.com/jupyter-naas/awesome-notebooks/master/Naas/Naas_Start_data_product.ipynb\" target=\"_parent\">Generate Data Product</a>"
   ]
  },
  {
   "cell_type": "markdown",
   "id": "781da279-8238-4bf3-8b00-f466c2e5921a",
   "metadata": {
    "papermill": {},
    "tags": []
   },
   "source": [
    "**Tags:** #github #teams #members #rest #api #list #snippet"
   ]
  },
  {
   "cell_type": "markdown",
   "id": "a4f3a270-2051-43d1-a8a8-87fa192c8ff6",
   "metadata": {
    "papermill": {},
    "tags": []
   },
   "source": [
    "**Author:** [Florent Ravenel](http://linkedin.com/in/florent-ravenel)"
   ]
  },
  {
   "cell_type": "markdown",
   "id": "713bc947-519a-41a9-a5bc-2c6f1f841d74",
   "metadata": {
    "papermill": {},
    "tags": []
   },
   "source": [
    "**Description:** This notebook will demonstrate how to list team members using the GitHub REST API and will create a DataFrame as output. It can be used by organizations or repository owners to manage their teams on GitHub by listing the current team members. It helps in keeping track of team members, their roles, and permissions, enabling organizations to efficiently manage their teams and ensure that the right users have the appropriate access.\n",
    "\n",
    "DataFrame returned:\n",
    "- login': Represents the username or login name of the GitHub user.\n",
    "- 'id': Represents the unique identifier assigned to the GitHub user.\n",
    "- 'node_id': Represents the unique identifier for the GitHub user's profile as a node in the GitHub GraphQL API.\n",
    "- 'avatar_url': Represents the URL of the avatar (profile picture) of the GitHub user.\n",
    "- 'gravatar_id': Represents the unique identifier associated with the GitHub user's Gravatar profile.\n",
    "- 'url': Represents the URL of the GitHub user's profile.\n",
    "- 'html_url': Represents the HTML URL of the GitHub user's profile.\n",
    "- 'followers_url': Represents the URL for retrieving the list of followers of the GitHub user.\n",
    "- 'following_url': Represents the URL for retrieving the list of users that the GitHub user is following.\n",
    "- 'gists_url': Represents the URL for retrieving the list of gists created by the GitHub user.\n",
    "- 'starred_url': Represents the URL for retrieving the list of repositories starred by the GitHub user.\n",
    "- 'subscriptions_url': Represents the URL for retrieving the list of repositories subscribed to by the GitHub user.\n",
    "- 'organizations_url': Represents the URL for retrieving the list of organizations the GitHub user is a member of.\n",
    "- 'repos_url': Represents the URL for retrieving the list of repositories owned by the GitHub user.\n",
    "- 'events_url': Represents the URL for retrieving the list of events related to the GitHub user's activity.\n",
    "- 'received_events_url': Represents the URL for retrieving the list of events received by the GitHub user.\n",
    "- 'type': Represents the type of GitHub user, which can be 'User' or 'Organization'.\n",
    "- 'site_admin': Represents a boolean value indicating if the GitHub user has administrative privileges (true) or not (false) in the associated organization or repository."
   ]
  },
  {
   "cell_type": "markdown",
   "id": "6e9a1d96-f758-421f-a47b-bb020f61b4ba",
   "metadata": {
    "papermill": {},
    "tags": []
   },
   "source": [
    "**References:**\n",
    "- [List team members](https://docs.github.com/fr/rest/teams/members?apiVersion=2022-11-28#list-team-members)"
   ]
  },
  {
   "cell_type": "markdown",
   "id": "3d627390-ef1c-43e5-a1f7-34841cd94f12",
   "metadata": {
    "papermill": {},
    "tags": []
   },
   "source": [
    "## Input"
   ]
  },
  {
   "cell_type": "markdown",
   "id": "b37d8b6e-b134-468b-abe8-37de0afb2f3d",
   "metadata": {
    "papermill": {},
    "tags": []
   },
   "source": [
    "### Import libraries"
   ]
  },
  {
   "cell_type": "code",
   "execution_count": null,
   "id": "700b28f6-9000-4822-926b-5ab3c96ea316",
   "metadata": {
    "papermill": {},
    "tags": []
   },
   "outputs": [],
   "source": [
    "import requests\n",
    "import naas\n",
    "import pandas as pd"
   ]
  },
  {
   "cell_type": "markdown",
   "id": "0a238bd0-be8f-4a10-9b0d-a681310adb4a",
   "metadata": {
    "papermill": {},
    "tags": []
   },
   "source": [
    "### Setup Variables\n",
    "- `token`: Create your personal access token [here](https://github.com/settings/tokens)\n",
    "- `team_url`: The URL of the team to list pending invitations for."
   ]
  },
  {
   "cell_type": "code",
   "execution_count": null,
   "id": "26188125-436e-4569-ae0d-a86afd55c17b",
   "metadata": {
    "papermill": {},
    "tags": []
   },
   "outputs": [],
   "source": [
    "token = naas.secret.get(\"GITHUB_TOKEN\") or \"YOUR_TOKEN\"\n",
    "team_url = \"https://github.com/orgs/jupyter-naas/teams/opensource-contributors\""
   ]
  },
  {
   "cell_type": "markdown",
   "id": "a79c2024-da55-4a3c-b469-477cf263f18e",
   "metadata": {
    "papermill": {},
    "tags": []
   },
   "source": [
    "## Model"
   ]
  },
  {
   "cell_type": "markdown",
   "id": "2d9ab4e0-c056-4a5f-a9ab-20e3f1661ace",
   "metadata": {
    "papermill": {},
    "tags": []
   },
   "source": [
    "### List team members\n",
    "This action will list all members of a team using the GitHub REST API."
   ]
  },
  {
   "cell_type": "code",
   "execution_count": null,
   "id": "e76f801f-727a-4544-8135-729ebf306c5a",
   "metadata": {
    "papermill": {},
    "tags": []
   },
   "outputs": [],
   "source": [
    "def list_team_members(team_url, token):\n",
    "    # Init\n",
    "    page = 1\n",
    "    df_members = pd.DataFrame()\n",
    "    org = team_url.split(\"/orgs/\")[-1].split(\"/\")[0]\n",
    "    team_slug = team_url.split(\"/teams/\")[-1]\n",
    "    while True:\n",
    "        url = f\"https://api.github.com/orgs/{org}/teams/{team_slug}/members?per_page=100&page={page}\"\n",
    "        response = requests.get(url)\n",
    "        headers = {\"Authorization\": f\"token {token}\"}\n",
    "        res = requests.get(url, headers=headers)\n",
    "        if res.status_code == 200 and len(res.json()) > 0:\n",
    "            df = pd.DataFrame(res.json())\n",
    "            df_members = pd.concat([df_members, df])\n",
    "            page += 1\n",
    "        else:\n",
    "            break\n",
    "    return df_members\n",
    "\n",
    "df_team_members = list_team_members(team_url, token)"
   ]
  },
  {
   "cell_type": "markdown",
   "id": "b644856f-5ca1-4834-8294-c0a6ce05e371",
   "metadata": {
    "papermill": {},
    "tags": []
   },
   "source": [
    "## Output"
   ]
  },
  {
   "cell_type": "markdown",
   "id": "365d1b54-55de-4e5e-8629-e9f4bd27324b",
   "metadata": {
    "papermill": {},
    "tags": []
   },
   "source": [
    "### Display result"
   ]
  },
  {
   "cell_type": "code",
   "execution_count": null,
   "id": "fd55161b-d061-434b-9658-de0b68ffad40",
   "metadata": {
    "papermill": {},
    "tags": []
   },
   "outputs": [],
   "source": [
    "print(\"Team members found:\", len(df_team_members))\n",
    "df_team_members"
   ]
  },
  {
   "cell_type": "markdown",
   "id": "2db16871-0d71-470f-be32-a5ada6f76e24",
   "metadata": {
    "papermill": {},
    "tags": []
   },
   "source": [
    " "
   ]
  }
 ],
 "metadata": {
  "kernelspec": {
   "display_name": "Python 3",
   "language": "python",
   "name": "python3"
  },
  "language_info": {
   "codemirror_mode": {
    "name": "ipython",
    "version": 3
   },
   "file_extension": ".py",
   "mimetype": "text/x-python",
   "name": "python",
   "nbconvert_exporter": "python",
   "pygments_lexer": "ipython3",
   "version": "3.9.6"
  },
  "naas": {
   "notebook_id": "cbb03445c11c8235ed502fd4031d9c94f68d15a70486cc4eae08329f546df285",
   "notebook_path": "GitHub/GitHub_List_team_members.ipynb"
  },
  "papermill": {
   "default_parameters": {},
   "environment_variables": {},
   "parameters": {},
   "version": "2.4.0"
  },
  "widgets": {
   "application/vnd.jupyter.widget-state+json": {
    "state": {},
    "version_major": 2,
    "version_minor": 0
   }
  }
 },
 "nbformat": 4,
 "nbformat_minor": 5
}