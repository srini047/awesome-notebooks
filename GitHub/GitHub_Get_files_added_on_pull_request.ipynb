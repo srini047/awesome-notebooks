{
 "cells": [
  {
   "cell_type": "markdown",
   "id": "b0f267f0-8fda-4c87-8a2a-537099b53bf3",
   "metadata": {
    "papermill": {},
    "tags": []
   },
   "source": [
    "<img width=\"10%\" alt=\"Naas\" src=\"https://landen.imgix.net/jtci2pxwjczr/assets/5ice39g4.png?w=160\"/>"
   ]
  },
  {
   "cell_type": "markdown",
   "id": "c4bd0d6b-36c7-4822-a021-38699189660c",
   "metadata": {
    "papermill": {},
    "tags": []
   },
   "source": [
    "# GitHub - Get files added on pull request\n",
    "<a href=\"https://app.naas.ai/user-redirect/naas/downloader?url=https://raw.githubusercontent.com/jupyter-naas/awesome-notebooks/master/GitHub/GitHub_Get_files_added_on_pull_request.ipynb\" target=\"_parent\"><img src=\"https://naasai-public.s3.eu-west-3.amazonaws.com/Open_in_Naas_Lab.svg\"/></a><br><br><a href=\"https://github.com/jupyter-naas/awesome-notebooks/issues/new?assignees=&labels=&template=template-request.md&title=Tool+-+Action+of+the+notebook+\">Template request</a> | <a href=\"https://github.com/jupyter-naas/awesome-notebooks/issues/new?assignees=&labels=bug&template=bug_report.md&title=GitHub+-+Get+files+added+on+pull+request:+Error+short+description\">Bug report</a> | <a href=\"https://app.naas.ai/user-redirect/naas/downloader?url=https://raw.githubusercontent.com/jupyter-naas/awesome-notebooks/master/Naas/Naas_Start_data_product.ipynb\" target=\"_parent\">Generate Data Product</a>"
   ]
  },
  {
   "cell_type": "markdown",
   "id": "3f781edc-ef9d-4499-9be1-19a9892169f9",
   "metadata": {
    "papermill": {},
    "tags": []
   },
   "source": [
    "**Tags:** #github #pullrequest #files #merge #api #python"
   ]
  },
  {
   "cell_type": "markdown",
   "id": "70d3f0df-f315-4fd7-bcdf-077fad3260f0",
   "metadata": {
    "papermill": {},
    "tags": []
   },
   "source": [
    "**Author:** [Florent Ravenel](https://www.linkedin.com/in/florent-ravenel/)"
   ]
  },
  {
   "cell_type": "markdown",
   "id": "6f626969-d13e-4917-abd3-ddf68edf3f1c",
   "metadata": {
    "papermill": {},
    "tags": []
   },
   "source": [
    "**Description:** This notebook get the files added on a pull request using the GitHub API."
   ]
  },
  {
   "cell_type": "markdown",
   "id": "cee5e1de-b29e-4d58-afba-52a4a7c11d08",
   "metadata": {
    "papermill": {},
    "tags": []
   },
   "source": [
    "**References:**\n",
    "- [GitHub API Documentation](https://developer.github.com/v3/)\n",
    "- [GitHub Pull Request API Documentation](https://developer.github.com/v3/pulls/)"
   ]
  },
  {
   "cell_type": "markdown",
   "id": "c8a7aff9-df86-48f5-ade8-dd13afc709ea",
   "metadata": {
    "papermill": {},
    "tags": []
   },
   "source": [
    "## Input"
   ]
  },
  {
   "cell_type": "markdown",
   "id": "99b83a3b-9549-4af5-89f9-669ac9e81fd3",
   "metadata": {
    "papermill": {},
    "tags": []
   },
   "source": [
    "### Import libraries"
   ]
  },
  {
   "cell_type": "code",
   "execution_count": null,
   "id": "eb84cfdc-0493-4af7-b9b7-be6e345fa928",
   "metadata": {
    "papermill": {},
    "tags": []
   },
   "outputs": [],
   "source": [
    "import requests\n",
    "import naas"
   ]
  },
  {
   "cell_type": "markdown",
   "id": "5753d901-7764-4a91-b487-98faa2e6f725",
   "metadata": {
    "papermill": {},
    "tags": []
   },
   "source": [
    "### Setup Variables\n",
    "- `token`: Create your personal access token [here](https://github.com/settings/tokens)\n",
    "- `owner`: owner of the repository\n",
    "- `repo`: name of the repository\n",
    "- `pull_number`: number of the pull request\n",
    "- `file_status`: file types to be extracted: \"added\", \"removed\", \"renamed\""
   ]
  },
  {
   "cell_type": "code",
   "execution_count": null,
   "id": "c79323cf-1ff6-4189-89e6-b876a71e55e8",
   "metadata": {
    "papermill": {},
    "tags": []
   },
   "outputs": [],
   "source": [
    "token = naas.secret.get(\"GITHUB_TOKEN\") or \"GITHUB_TOKEN\"\n",
    "owner = \"jupyter-naas\"\n",
    "repo = \"awesome-notebooks\"\n",
    "pull_number = 1496\n",
    "file_status = \"added\""
   ]
  },
  {
   "cell_type": "markdown",
   "id": "49069b95-637b-48fa-bc00-bccaf9641ea2",
   "metadata": {
    "papermill": {},
    "tags": []
   },
   "source": [
    "## Model"
   ]
  },
  {
   "cell_type": "markdown",
   "id": "59a08db0-3b65-4a8c-b6eb-9e5c65c8141b",
   "metadata": {
    "papermill": {},
    "tags": []
   },
   "source": [
    "### Get files added on pull request"
   ]
  },
  {
   "cell_type": "code",
   "execution_count": null,
   "id": "820ba4ea-1b20-42a6-8dbc-1f7d6e394dc0",
   "metadata": {
    "papermill": {},
    "tags": []
   },
   "outputs": [],
   "source": [
    "def get_files_added_on_pull_request(owner, repo, pull_number, file_status):\n",
    "    files = []\n",
    "    url = f\"https://api.github.com/repos/{owner}/{repo}/pulls/{pull_number}/files\"\n",
    "    response = requests.get(url)\n",
    "    files_changed = response.json()\n",
    "    for file in files_changed:\n",
    "        filename = file[\"filename\"]\n",
    "        status = file[\"status\"]\n",
    "        if status == file_status:\n",
    "            files.append(filename)\n",
    "    return files\n",
    "\n",
    "files_added = get_files_added_on_pull_request(owner, repo, pull_number, file_status)"
   ]
  },
  {
   "cell_type": "markdown",
   "id": "64b033b1-9db4-4f4c-afcc-75b52c29960f",
   "metadata": {
    "papermill": {},
    "tags": []
   },
   "source": [
    "## Output"
   ]
  },
  {
   "cell_type": "markdown",
   "id": "195a9d73-80e0-4c65-8e5b-c72308e6186f",
   "metadata": {
    "papermill": {},
    "tags": []
   },
   "source": [
    "### Display result"
   ]
  },
  {
   "cell_type": "code",
   "execution_count": null,
   "id": "77af1ef6-c41d-46c0-b4f2-c6d34f946f52",
   "metadata": {
    "papermill": {},
    "tags": []
   },
   "outputs": [],
   "source": [
    "if len(files_added) > 0:\n",
    "    for file in files_added:\n",
    "        print(\"File added:\", file)"
   ]
  }
 ],
 "metadata": {
  "kernelspec": {
   "display_name": "Python 3",
   "language": "python",
   "name": "python3"
  },
  "language_info": {
   "codemirror_mode": {
    "name": "ipython",
    "version": 3
   },
   "file_extension": ".py",
   "mimetype": "text/x-python",
   "name": "python",
   "nbconvert_exporter": "python",
   "pygments_lexer": "ipython3",
   "version": "3.9.6"
  },
  "naas": {
   "notebook_id": "1128f006266221999d8fbaa49d9e373c698e9b5c08a0ecefbe8eaa41795d69ee",
   "notebook_path": "GitHub/GitHub_Get_files_added_on_pull_request.ipynb"
  },
  "papermill": {
   "default_parameters": {},
   "environment_variables": {},
   "parameters": {},
   "version": "2.4.0"
  },
  "widgets": {
   "application/vnd.jupyter.widget-state+json": {
    "state": {},
    "version_major": 2,
    "version_minor": 0
   }
  }
 },
 "nbformat": 4,
 "nbformat_minor": 5
}