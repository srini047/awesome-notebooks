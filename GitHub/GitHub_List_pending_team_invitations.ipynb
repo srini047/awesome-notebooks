{
 "cells": [
  {
   "cell_type": "markdown",
   "id": "75d3572d-e05d-4cc2-ae90-90e28ec0ea5b",
   "metadata": {
    "papermill": {},
    "tags": []
   },
   "source": [
    "<img width=\"10%\" alt=\"Naas\" src=\"https://landen.imgix.net/jtci2pxwjczr/assets/5ice39g4.png?w=160\"/>"
   ]
  },
  {
   "cell_type": "markdown",
   "id": "459d5f89-4dfd-4eb1-ae88-3bc81b5d1bd8",
   "metadata": {
    "papermill": {},
    "tags": []
   },
   "source": [
    "# GitHub - List pending team invitations\n",
    "<a href=\"https://app.naas.ai/user-redirect/naas/downloader?url=https://raw.githubusercontent.com/jupyter-naas/awesome-notebooks/master/GitHub/GitHub_List_pending_team_invitations.ipynb\" target=\"_parent\"><img src=\"https://naasai-public.s3.eu-west-3.amazonaws.com/Open_in_Naas_Lab.svg\"/></a><br><br><a href=\"https://github.com/jupyter-naas/awesome-notebooks/issues/new?assignees=&labels=&template=template-request.md&title=Tool+-+Action+of+the+notebook+\">Template request</a> | <a href=\"https://github.com/jupyter-naas/awesome-notebooks/issues/new?assignees=&labels=bug&template=bug_report.md&title=GitHub+-+List+pending+team+invitations:+Error+short+description\">Bug report</a> | <a href=\"https://app.naas.ai/user-redirect/naas/downloader?url=https://raw.githubusercontent.com/jupyter-naas/awesome-notebooks/master/Naas/Naas_Start_data_product.ipynb\" target=\"_parent\">Generate Data Product</a>"
   ]
  },
  {
   "cell_type": "markdown",
   "id": "d50a936a-75c9-4f97-85f5-67839b6edb77",
   "metadata": {
    "papermill": {},
    "tags": []
   },
   "source": [
    "**Tags:** #github #teams #invitations #rest #api #list #snippet"
   ]
  },
  {
   "cell_type": "markdown",
   "id": "f065aa68-8a6d-4911-9cfe-5319acd87a16",
   "metadata": {
    "papermill": {},
    "tags": []
   },
   "source": [
    "**Author:** [Florent Ravenel](http://linkedin.com/in/florent-ravenel)"
   ]
  },
  {
   "cell_type": "markdown",
   "id": "d116166d-1170-4869-aac7-1645ed6ac5e2",
   "metadata": {
    "papermill": {},
    "tags": []
   },
   "source": [
    "**Description:** This notebook will show how to list pending team invitations using the GitHub REST API and will create a DataFrame as output. It can be used by organizations with multiple teams on GitHub to keep track of pending team invitations, ensuring that all team members are added to the appropriate teams and can collaborate effectively. It helps in managing team membership and permissions for efficient collaboration within the organization."
   ]
  },
  {
   "cell_type": "markdown",
   "id": "ff22496a-1c70-486e-843a-d853725d2c3c",
   "metadata": {
    "papermill": {},
    "tags": []
   },
   "source": [
    "**References:**\n",
    "- [GitHub REST API - List pending team invitations](https://docs.github.com/fr/rest/teams/members?apiVersion=2022-11-28#list-pending-team-invitations)"
   ]
  },
  {
   "cell_type": "markdown",
   "id": "e6177f71-05ed-44b2-ba70-9a061867e97a",
   "metadata": {
    "papermill": {},
    "tags": []
   },
   "source": [
    "## Input"
   ]
  },
  {
   "cell_type": "markdown",
   "id": "9fc3a11b-4fb4-4b23-b8d4-85542c308ce7",
   "metadata": {
    "papermill": {},
    "tags": []
   },
   "source": [
    "### Import libraries"
   ]
  },
  {
   "cell_type": "code",
   "execution_count": 1,
   "id": "c5800bf2-cdf5-4df9-85a2-22e44ccf957d",
   "metadata": {
    "papermill": {},
    "tags": []
   },
   "outputs": [],
   "source": [
    "import requests\n",
    "import naas\n",
    "import pandas as pd\n",
    "from pprint import pprint"
   ]
  },
  {
   "cell_type": "markdown",
   "id": "c157362c-1833-4be0-ab62-7d98379abcca",
   "metadata": {
    "papermill": {},
    "tags": []
   },
   "source": [
    "### Setup Variables\n",
    "- `token`: Create your personal access token [here](https://github.com/settings/tokens)\n",
    "- `team_url`: The URL of the team to list pending invitations for."
   ]
  },
  {
   "cell_type": "code",
   "execution_count": 2,
   "id": "23a8f166-6d15-421e-9240-b02bf116724f",
   "metadata": {
    "papermill": {},
    "tags": []
   },
   "outputs": [],
   "source": [
    "token = naas.secret.get(\"GITHUB_TOKEN\") or \"YOUR_TOKEN\"\n",
    "team_url = \"https://github.com/orgs/jupyter-naas/teams/opensource-contributors\""
   ]
  },
  {
   "cell_type": "markdown",
   "id": "a7d43775-e0bd-4b41-b1fa-c9b5c40e73f4",
   "metadata": {
    "papermill": {},
    "tags": []
   },
   "source": [
    "## Model"
   ]
  },
  {
   "cell_type": "markdown",
   "id": "93b0092d-4139-43ee-b679-81fb2956733a",
   "metadata": {
    "papermill": {},
    "tags": []
   },
   "source": [
    "### List pending team invitations\n",
    "This function will list pending team invitations using the GitHub REST API."
   ]
  },
  {
   "cell_type": "code",
   "execution_count": 3,
   "id": "5193b954-d042-49f4-bb86-46d976602f06",
   "metadata": {
    "papermill": {},
    "tags": []
   },
   "outputs": [],
   "source": [
    "def list_pending_team_invitations(team_url):\n",
    "    org = team_url.split(\"/orgs/\")[-1].split(\"/\")[0]\n",
    "    team_slug = team_url.split(\"/teams/\")[-1]\n",
    "    url = f\"https://api.github.com/orgs/{org}/teams/{team_slug}/invitations\"\n",
    "    response = requests.get(url)\n",
    "    headers = {\"Authorization\": f\"token {token}\"}\n",
    "    res = requests.get(url, headers=headers)\n",
    "    if res.status_code == 200:\n",
    "        return res.json()\n",
    "\n",
    "pending_invitations = list_pending_team_invitations(team_url)"
   ]
  },
  {
   "cell_type": "markdown",
   "id": "2df774ae-5305-4f97-87ca-b7590c12d292",
   "metadata": {
    "papermill": {},
    "tags": []
   },
   "source": [
    "## Output"
   ]
  },
  {
   "cell_type": "markdown",
   "id": "ded2161d-115f-4742-b33c-f93b2b9566ee",
   "metadata": {
    "papermill": {},
    "tags": []
   },
   "source": [
    "### Display result"
   ]
  },
  {
   "cell_type": "code",
   "execution_count": 4,
   "id": "a7e36d9d-aa9c-426b-b053-e7f5c8ab8266",
   "metadata": {
    "papermill": {},
    "tags": []
   },
   "outputs": [],
   "source": [
    "# Flatten the nested dict\n",
    "def flatten_dict(d, parent_key='', sep='_'):\n",
    "    \"\"\"\n",
    "    Flattens a nested dictionary into a single level dictionary.\n",
    "\n",
    "    Args:\n",
    "        d (dict): A nested dictionary.\n",
    "        parent_key (str): Optional string to prefix the keys with.\n",
    "        sep (str): Optional separator to use between parent_key and child_key.\n",
    "\n",
    "    Returns:\n",
    "        dict: A flattened dictionary.\n",
    "    \"\"\"\n",
    "    items = []\n",
    "    for k, v in d.items():\n",
    "        new_key = f\"{parent_key}{sep}{k}\" if parent_key else k\n",
    "        if isinstance(v, dict):\n",
    "            items.extend(flatten_dict(v, new_key, sep=sep).items())\n",
    "        else:\n",
    "            items.append((new_key, v))\n",
    "    return dict(items)\n",
    "\n",
    "data = []\n",
    "for d in pending_invitations:\n",
    "    data.append(flatten_dict(d))\n",
    "    \n",
    "df_pending_invitations = pd.DataFrame(data)\n",
    "print(\"Pending invitations found:\", len(df_pending_invitations))\n",
    "df_pending_invitations"
   ]
  },
  {
   "cell_type": "markdown",
   "id": "aecb1f8c-089d-482f-a208-0ce7f05d2988",
   "metadata": {
    "papermill": {},
    "tags": []
   },
   "source": [
    " "
   ]
  }
 ],
 "metadata": {
  "kernelspec": {
   "display_name": "Python 3",
   "language": "python",
   "name": "python3"
  },
  "language_info": {
   "codemirror_mode": {
    "name": "ipython",
    "version": 3
   },
   "file_extension": ".py",
   "mimetype": "text/x-python",
   "name": "python",
   "nbconvert_exporter": "python",
   "pygments_lexer": "ipython3",
   "version": "3.9.6"
  },
  "naas": {
   "notebook_id": "9402c5818d40c9a1056603298a6ece7b054a8313e93aa96e3a08670d775334b7",
   "notebook_path": "GitHub/GitHub_List_pending_team_invitations.ipynb"
  },
  "papermill": {
   "default_parameters": {},
   "environment_variables": {},
   "parameters": {},
   "version": "2.4.0"
  },
  "widgets": {
   "application/vnd.jupyter.widget-state+json": {
    "state": {},
    "version_major": 2,
    "version_minor": 0
   }
  }
 },
 "nbformat": 4,
 "nbformat_minor": 5
}