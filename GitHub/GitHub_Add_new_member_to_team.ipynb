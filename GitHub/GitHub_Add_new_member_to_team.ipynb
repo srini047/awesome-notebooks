{
 "cells": [
  {
   "cell_type": "markdown",
   "id": "a3b5dbd5-489b-46e2-aecd-7e16d46fd84f",
   "metadata": {
    "papermill": {},
    "tags": []
   },
   "source": [
    "<img width=\"10%\" alt=\"Naas\" src=\"https://landen.imgix.net/jtci2pxwjczr/assets/5ice39g4.png?w=160\"/>\n"
   ]
  },
  {
   "cell_type": "markdown",
   "id": "7ebd74f1-e09d-4329-80b7-9184020d9170",
   "metadata": {
    "papermill": {},
    "tags": []
   },
   "source": [
    "# GitHub - Add new member to team\n",
    "<a href=\"https://app.naas.ai/user-redirect/naas/downloader?url=https://raw.githubusercontent.com/jupyter-naas/awesome-notebooks/master/GitHub/GitHub_Add_new_member_to_team.ipynb\" target=\"_parent\"><img src=\"https://naasai-public.s3.eu-west-3.amazonaws.com/Open_in_Naas_Lab.svg\"/></a><br><br><a href=\"https://github.com/jupyter-naas/awesome-notebooks/issues/new?assignees=&labels=&template=template-request.md&title=Tool+-+Action+of+the+notebook+\">Template request</a> | <a href=\"https://github.com/jupyter-naas/awesome-notebooks/issues/new?assignees=&labels=bug&template=bug_report.md&title=GitHub+-+Add+new+member+to+team:+Error+short+description\">Bug report</a> | <a href=\"https://app.naas.ai/user-redirect/naas/downloader?url=https://raw.githubusercontent.com/jupyter-naas/awesome-notebooks/master/Naas/Naas_Start_data_product.ipynb\" target=\"_parent\">Generate Data Product</a>"
   ]
  },
  {
   "cell_type": "markdown",
   "id": "2cf3b312-5ae8-4f95-8bb1-6bd296dc8531",
   "metadata": {
    "papermill": {},
    "tags": []
   },
   "source": [
    "**Tags:** #github #teams #snippet #operations #invitations"
   ]
  },
  {
   "cell_type": "markdown",
   "id": "58ab60a2-0b0e-499c-a928-83e28204dad6",
   "metadata": {
    "papermill": {},
    "tags": []
   },
   "source": [
    "**Author:** [Sanjeet Attili](https://linkedin.com/in/sanjeet-attili-760bab190/)\n"
   ]
  },
  {
   "cell_type": "markdown",
   "id": "naas-description",
   "metadata": {
    "papermill": {},
    "tags": [
     "description"
    ]
   },
   "source": [
    "**Description:** This notebook provides instructions on how to add a new member to a GitHub team."
   ]
  },
  {
   "cell_type": "markdown",
   "id": "b0ec1ff1-6820-4b1b-94c5-8c00f44687d0",
   "metadata": {
    "papermill": {},
    "tags": []
   },
   "source": [
    "## Input"
   ]
  },
  {
   "cell_type": "markdown",
   "id": "dc0a7ccc-810b-4870-822d-b10e1ed43c45",
   "metadata": {
    "papermill": {},
    "tags": []
   },
   "source": [
    "### Import libraries"
   ]
  },
  {
   "cell_type": "code",
   "execution_count": null,
   "id": "44910877-6222-4f45-bee8-2b73542d6ec7",
   "metadata": {
    "papermill": {},
    "tags": []
   },
   "outputs": [],
   "source": [
    "import requests\n",
    "from naas_drivers import github\n",
    "import pandas as pd\n",
    "import naas"
   ]
  },
  {
   "cell_type": "markdown",
   "id": "d63ddd7e-d158-48cd-8e75-2533cbcae80b",
   "metadata": {
    "papermill": {},
    "tags": []
   },
   "source": [
    "### Setup GitHub\n",
    "**How to find your personal access token on GitHub?**\n",
    "\n",
    "- First we need to create a personal access token to get the details of our organization from here: https://github.com/settings/tokens\n",
    "- You will be asked to select scopes for the token. Which scopes you choose will determine what information and actions you will be able to perform against the API.\n",
    "- You should be careful with the ones prefixed with write:, delete: and admin: as these might be quite destructive.\n",
    "- You can find description of each scope in docs here (https://docs.github.com/en/developers/apps/building-oauth-apps/scopes-for-oauth-apps)."
   ]
  },
  {
   "cell_type": "code",
   "execution_count": null,
   "id": "7795e334-375c-4126-9433-ff8fdf1dd091",
   "metadata": {
    "papermill": {},
    "tags": []
   },
   "outputs": [],
   "source": [
    "# GitHub token\n",
    "GITHUB_TOKEN = \"ENTER_YOUR_GITHUB_TOKEN_HERE\"  # EXAMPLE : \"ghp_fUYP0Z5i29AG4ggX8owctGnHU**********\"\n",
    "\n",
    "# GitHub teams url\n",
    "GITHUB_TEAMS_URL = \"ENTER_YOUR_GITHUB_TEAMS_URL_HERE\"  # EXAMPLE : \"https://github.com/orgs/jupyter-naas/teams/opensource-contributors\"\n",
    "\n",
    "# New members to add : str or list of members\n",
    "GITHUB_NEW_MEMBERS = (\n",
    "    \"ENTER_YOUR_NEW_USERS_HERE\"  # EXAMPLE : \"FlorentLvr\" or [\"FlorentLvr\", \"Dr0p42\"]\n",
    ")"
   ]
  },
  {
   "cell_type": "markdown",
   "id": "a729ef39-15d2-491a-81df-36ddafb49aa4",
   "metadata": {
    "papermill": {},
    "tags": []
   },
   "source": [
    "## Model"
   ]
  },
  {
   "cell_type": "markdown",
   "id": "22e7d0d7-6cbe-4b09-8c47-58a6e5d0174f",
   "metadata": {
    "papermill": {},
    "tags": []
   },
   "source": [
    "### Add members to team"
   ]
  },
  {
   "cell_type": "code",
   "execution_count": null,
   "id": "6214d657-8c9d-411c-b0de-c3bde862bff8",
   "metadata": {
    "papermill": {},
    "tags": []
   },
   "outputs": [],
   "source": [
    "def add_members(team_url, new_members):\n",
    "    # Init output\n",
    "    df = pd.DataFrame()\n",
    "\n",
    "    # Get org id and team id\n",
    "    team_id = team_url.split(\"/teams/\")[-1].split(\"/\")[0]\n",
    "    team_org = team_url.split(\"https://github.com/orgs/\")[-1].split(\"/\")[0]\n",
    "\n",
    "    # If a particular member already is present in the team,\n",
    "    # then it does not create a copy of that member. No need to worry :)\n",
    "    if isinstance(new_members, str):\n",
    "        new_members = [new_members]\n",
    "\n",
    "    # Add new members to team\n",
    "    data = []\n",
    "    for member in new_members:\n",
    "        member = member.split(\"https://github.com/\")[-1].split(\"/\")[0]\n",
    "        req_url = f\"https://api.github.com/orgs/{team_org}/teams/{team_id}/memberships/{member}\"\n",
    "        headers = {\n",
    "            \"Authorization\": f\"token {GITHUB_TOKEN}\",\n",
    "            \"Accept\": \"application/vnd.github.v3+json\",\n",
    "        }\n",
    "        res = requests.put(req_url, headers=headers)\n",
    "        res.raise_for_status()\n",
    "\n",
    "        if res.status_code == 200:\n",
    "            print(f\"✅ Member {member} successfully invited to your team {team_id}\")\n",
    "            res_json = res.json()\n",
    "            data.append(res_json)\n",
    "\n",
    "    # Send result as dataframe\n",
    "    df = pd.DataFrame(data)\n",
    "    return df.reset_index(drop=True)\n",
    "\n",
    "\n",
    "df_new = add_members(GITHUB_TEAMS_URL, GITHUB_NEW_MEMBERS)"
   ]
  },
  {
   "cell_type": "markdown",
   "id": "23be3000-3692-4b32-985a-96f3738e921b",
   "metadata": {
    "papermill": {},
    "tags": []
   },
   "source": [
    "## Output"
   ]
  },
  {
   "cell_type": "markdown",
   "id": "c9091171-458f-43d5-a13a-968cd84ee7d3",
   "metadata": {
    "papermill": {},
    "tags": []
   },
   "source": [
    "### New members added"
   ]
  },
  {
   "cell_type": "code",
   "execution_count": null,
   "id": "a4523ba2-74c9-4eab-aab0-ddaf160a74d2",
   "metadata": {
    "papermill": {},
    "tags": []
   },
   "outputs": [],
   "source": [
    "df_new"
   ]
  }
 ],
 "metadata": {
  "kernelspec": {
   "display_name": "Python 3",
   "language": "python",
   "name": "python3"
  },
  "language_info": {
   "codemirror_mode": {
    "name": "ipython",
    "version": 3
   },
   "file_extension": ".py",
   "mimetype": "text/x-python",
   "name": "python",
   "nbconvert_exporter": "python",
   "pygments_lexer": "ipython3",
   "version": "3.9.6"
  },
  "naas": {
   "notebook_id": "bcda82e2ccc375448f59bfea7ab1cc6a9c5e3388650e69034914e132319a5924",
   "notebook_path": "GitHub/GitHub_Add_new_member_to_team.ipynb"
  },
  "papermill": {
   "default_parameters": {},
   "environment_variables": {},
   "parameters": {},
   "version": "2.3.4"
  }
 },
 "nbformat": 4,
 "nbformat_minor": 5
}