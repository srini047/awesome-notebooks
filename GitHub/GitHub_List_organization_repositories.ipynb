{
 "cells": [
  {
   "cell_type": "markdown",
   "id": "bbec7dc9-b764-473d-b557-7429c3dbb015",
   "metadata": {
    "papermill": {},
    "tags": []
   },
   "source": [
    "<img width=\"10%\" alt=\"Naas\" src=\"https://landen.imgix.net/jtci2pxwjczr/assets/5ice39g4.png?w=160\"/>"
   ]
  },
  {
   "cell_type": "markdown",
   "id": "7d24a12e-a105-40a8-8350-8fb8bd927c7e",
   "metadata": {
    "papermill": {},
    "tags": []
   },
   "source": [
    "# GitHub - List organization repositories\n",
    "<a href=\"https://app.naas.ai/user-redirect/naas/downloader?url=https://raw.githubusercontent.com/jupyter-naas/awesome-notebooks/master/GitHub/GitHub_List_organization_repositories.ipynb\" target=\"_parent\"><img src=\"https://naasai-public.s3.eu-west-3.amazonaws.com/open_in_naas.svg\"/></a><br><br><a href=\"https://github.com/jupyter-naas/awesome-notebooks/issues/new?assignees=&labels=&template=template-request.md&title=Tool+-+Action+of+the+notebook+\">Template request</a> | <a href=\"https://github.com/jupyter-naas/awesome-notebooks/issues/new?assignees=&labels=bug&template=bug_report.md&title=GitHub+-+List+organization+repositories:+Error+short+description\">Bug report</a>"
   ]
  },
  {
   "cell_type": "markdown",
   "id": "21b9381f-dab5-4150-a5c8-91d1efb92b78",
   "metadata": {
    "papermill": {},
    "tags": []
   },
   "source": [
    "**Tags:** #github #pygithub #list #organization #repositories"
   ]
  },
  {
   "cell_type": "markdown",
   "id": "0ea6e635-5fa8-4b95-985a-5f64986eba24",
   "metadata": {
    "papermill": {},
    "tags": []
   },
   "source": [
    "**Author:** [Florent Ravenel](https://www.linkedin.com/in/florent-ravenel/)"
   ]
  },
  {
   "cell_type": "markdown",
   "id": "ff1302e1-d541-4a45-96dc-f45b336640ef",
   "metadata": {
    "papermill": {},
    "tags": []
   },
   "source": [
    "**Description:** This notebook will show how to list organization repositories using pygithub."
   ]
  },
  {
   "cell_type": "markdown",
   "id": "d35cfd0d-5235-41ef-80b4-b6cda70443df",
   "metadata": {
    "papermill": {},
    "tags": []
   },
   "source": [
    "**References:**\n",
    "- [GitHub REST API v3](https://docs.github.com/fr/rest/repos/repos?apiVersion=2022-11-28#list-organization-repositories)\n",
    "- [PyGithub Documentation](https://pygithub.readthedocs.io/en/latest/)"
   ]
  },
  {
   "cell_type": "markdown",
   "id": "5a75cad5-3f52-4ac7-aaf7-c0030fbfc79e",
   "metadata": {
    "papermill": {},
    "tags": []
   },
   "source": [
    "## Input"
   ]
  },
  {
   "cell_type": "markdown",
   "id": "84490650-4a8f-4696-9023-e8fdff4f5369",
   "metadata": {
    "papermill": {},
    "tags": []
   },
   "source": [
    "### Import libraries"
   ]
  },
  {
   "cell_type": "code",
   "execution_count": null,
   "id": "74e09406-02ce-4751-8dbf-93f67afe2528",
   "metadata": {
    "papermill": {},
    "tags": []
   },
   "outputs": [],
   "source": [
    "import naas\n",
    "import github"
   ]
  },
  {
   "cell_type": "markdown",
   "id": "2acd5d72-5479-40e8-913e-1969c457fbc2",
   "metadata": {
    "papermill": {},
    "tags": []
   },
   "source": [
    "### Setup Variables\n",
    "- `token`: [Create a personal access token](https://docs.github.com/en/github/authenticating-to-github/creating-a-personal-access-token)\n",
    "- `organization`: name of your github organization"
   ]
  },
  {
   "cell_type": "code",
   "execution_count": 5,
   "id": "44266da0-5175-4e7d-804c-3df83d3876cf",
   "metadata": {
    "execution": {
     "iopub.execute_input": "2023-03-05T20:36:23.542494Z",
     "iopub.status.busy": "2023-03-05T20:36:23.542283Z",
     "iopub.status.idle": "2023-03-05T20:36:23.633751Z",
     "shell.execute_reply": "2023-03-05T20:36:23.633259Z",
     "shell.execute_reply.started": "2023-03-05T20:36:23.542472Z"
    },
    "papermill": {},
    "tags": []
   },
   "outputs": [],
   "source": [
    "token = naas.secret.get('GITHUB_TOKEN') or \"YOUR_TOKEN\"\n",
    "organization = \"jupyter-naas\""
   ]
  },
  {
   "cell_type": "markdown",
   "id": "3badd109-9159-4b4a-b6b2-bf6ae87710a7",
   "metadata": {
    "papermill": {},
    "tags": []
   },
   "source": [
    "## Model"
   ]
  },
  {
   "cell_type": "markdown",
   "id": "aa48aee1-3178-4e0b-bf83-5aeec7d835c5",
   "metadata": {
    "papermill": {},
    "tags": []
   },
   "source": [
    "### List organization repositories"
   ]
  },
  {
   "cell_type": "markdown",
   "id": "4e71d616-cff1-4c39-b81a-3778228fcf77",
   "metadata": {
    "papermill": {},
    "tags": []
   },
   "source": [
    "Using the [PyGithub](https://pygithub.readthedocs.io/en/latest/) library, we can list all the repositories of an organization."
   ]
  },
  {
   "cell_type": "code",
   "execution_count": null,
   "id": "efea7c29-f00a-4be1-b0bb-591a2ddac33a",
   "metadata": {
    "papermill": {},
    "tags": []
   },
   "outputs": [],
   "source": [
    "# Create a Github instance\n",
    "g = github.Github(token)\n",
    "# Get the organization\n",
    "org = g.get_organization(organization)\n",
    "# List all the repositories\n",
    "repos = org.get_repos()"
   ]
  },
  {
   "cell_type": "markdown",
   "id": "9720eb5f-3a55-4412-8f5f-5a91d646497c",
   "metadata": {
    "papermill": {},
    "tags": []
   },
   "source": [
    "## Output"
   ]
  },
  {
   "cell_type": "markdown",
   "id": "5363c3c0-42dc-44cd-93c9-443823346949",
   "metadata": {
    "papermill": {},
    "tags": []
   },
   "source": [
    "### Display result\n",
    "Response attributes available here: https://docs.github.com/fr/rest/repos/repos?apiVersion=2022-11-28#get-a-repository"
   ]
  },
  {
   "cell_type": "code",
   "execution_count": null,
   "id": "d8cdadd2-412c-4da4-b06a-1a80ff329e25",
   "metadata": {
    "papermill": {},
    "tags": []
   },
   "outputs": [],
   "source": [
    "for repo in repos:\n",
    "    print(repo.name)"
   ]
  },
  {
   "cell_type": "markdown",
   "id": "45635d38-59bf-4513-bead-5091cabbc206",
   "metadata": {
    "papermill": {},
    "tags": []
   },
   "source": [
    " "
   ]
  }
 ],
 "metadata": {
  "kernelspec": {
   "display_name": "Python 3",
   "language": "python",
   "name": "python3"
  },
  "language_info": {
   "codemirror_mode": {
    "name": "ipython",
    "version": 3
   },
   "file_extension": ".py",
   "mimetype": "text/x-python",
   "name": "python",
   "nbconvert_exporter": "python",
   "pygments_lexer": "ipython3",
   "version": "3.9.6"
  },
  "papermill": {
   "default_parameters": {},
   "environment_variables": {},
   "parameters": {},
   "version": "2.4.0"
  },
  "widgets": {
   "application/vnd.jupyter.widget-state+json": {
    "state": {},
    "version_major": 2,
    "version_minor": 0
   }
  }
 },
 "nbformat": 4,
 "nbformat_minor": 5
}