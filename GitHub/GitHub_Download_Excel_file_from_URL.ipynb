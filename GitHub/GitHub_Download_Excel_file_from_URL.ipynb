{
 "cells": [
  {
   "cell_type": "markdown",
   "id": "1b400251-8cdd-4f50-9849-61ff08cc06c3",
   "metadata": {
    "papermill": {},
    "tags": []
   },
   "source": [
    "<img width=\"10%\" alt=\"Naas\" src=\"https://landen.imgix.net/jtci2pxwjczr/assets/5ice39g4.png?w=160\"/>"
   ]
  },
  {
   "cell_type": "markdown",
   "id": "72159eb3-4df5-497f-a1ca-d03d54c1148d",
   "metadata": {
    "papermill": {},
    "tags": []
   },
   "source": [
    "# GitHub - Download Excel file from URL\n",
    "<a href=\"https://app.naas.ai/user-redirect/naas/downloader?url=https://raw.githubusercontent.com/jupyter-naas/awesome-notebooks/master/GitHub/GitHub_Download_Excel_file_from_URL.ipynb\" target=\"_parent\"><img src=\"https://naasai-public.s3.eu-west-3.amazonaws.com/Open_in_Naas_Lab.svg\"/></a><br><br><a href=\"https://github.com/jupyter-naas/awesome-notebooks/issues/new?assignees=&labels=&template=template-request.md&title=Tool+-+Action+of+the+notebook+\">Template request</a> | <a href=\"https://github.com/jupyter-naas/awesome-notebooks/issues/new?assignees=&labels=bug&template=bug_report.md&title=GitHub+-+Download+Excel+file+from+URL:+Error+short+description\">Bug report</a> | <a href=\"https://app.naas.ai/user-redirect/naas/downloader?url=https://raw.githubusercontent.com/jupyter-naas/awesome-notebooks/master/Naas/Naas_Start_data_product.ipynb\" target=\"_parent\">Generate Data Product</a>"
   ]
  },
  {
   "cell_type": "markdown",
   "id": "fc81aa7a-91e5-4877-8f35-6b9bed4ea431",
   "metadata": {
    "papermill": {},
    "tags": []
   },
   "source": [
    "**Tags:** #github #excel #download #url #file #python"
   ]
  },
  {
   "cell_type": "markdown",
   "id": "e801721d-7791-4c89-9549-4ab11b36cb23",
   "metadata": {
    "papermill": {},
    "tags": []
   },
   "source": [
    "**Author:** [Florent Ravenel](http://linkedin.com/in/florent-ravenel)"
   ]
  },
  {
   "cell_type": "markdown",
   "id": "b1d4be05-ee3f-459c-9501-704cffe7707a",
   "metadata": {
    "papermill": {},
    "tags": []
   },
   "source": [
    "**Description:** This notebook explains how to download an Excel file stored on a GitHub repository."
   ]
  },
  {
   "cell_type": "markdown",
   "id": "9fdbd359-254c-4a5c-be0d-6f2b0e1e7750",
   "metadata": {
    "papermill": {},
    "tags": []
   },
   "source": [
    "**References:**\n",
    "- [GitHub API Documentation](https://developer.github.com/v3/)\n",
    "- [Python Requests Library](https://requests.readthedocs.io/en/master/)"
   ]
  },
  {
   "cell_type": "markdown",
   "id": "cddad27a-f563-4926-b282-23b695c7425a",
   "metadata": {
    "papermill": {},
    "tags": []
   },
   "source": [
    "## Input"
   ]
  },
  {
   "cell_type": "markdown",
   "id": "f7d713f7-0868-4d24-9e20-5b5e9cfd1a36",
   "metadata": {
    "papermill": {},
    "tags": []
   },
   "source": [
    "### Import libraries"
   ]
  },
  {
   "cell_type": "code",
   "execution_count": null,
   "id": "50ea07f3-fdad-44c2-9e9e-298bc8af8de1",
   "metadata": {
    "papermill": {},
    "tags": []
   },
   "outputs": [],
   "source": [
    "import requests\n",
    "import pandas as pd"
   ]
  },
  {
   "cell_type": "markdown",
   "id": "2c948bae-7937-49f1-864f-d4dc21a7144f",
   "metadata": {
    "papermill": {},
    "tags": []
   },
   "source": [
    "### Setup Variables\n",
    "- `url`: URL of the Excel file stored on GitHub\n",
    "- `output_path`: Name of the output to be saved on your local"
   ]
  },
  {
   "cell_type": "code",
   "execution_count": null,
   "id": "01c59c46-1513-4b13-879d-391bbd2d9f20",
   "metadata": {
    "papermill": {},
    "tags": []
   },
   "outputs": [],
   "source": [
    "# Inputs\n",
    "url = \"https://github.com/jupyter-naas/awesome-notebooks/blob/master/Excel/Conso.xlsx\"\n",
    "\n",
    "# Outputs\n",
    "output_path = \"Excel.xlsx\""
   ]
  },
  {
   "cell_type": "markdown",
   "id": "a2a665c8-349f-4e8e-b8cc-7b4c5f4dd992",
   "metadata": {
    "papermill": {},
    "tags": []
   },
   "source": [
    "## Model"
   ]
  },
  {
   "cell_type": "markdown",
   "id": "718a0932-e63f-4a74-b54c-6a2127ced8c0",
   "metadata": {
    "papermill": {},
    "tags": []
   },
   "source": [
    "### Download Excel file"
   ]
  },
  {
   "cell_type": "code",
   "execution_count": null,
   "id": "2093da6c-baca-4a57-818c-6031d8c729e9",
   "metadata": {
    "papermill": {},
    "tags": []
   },
   "outputs": [],
   "source": [
    "def download_excel_file(url, output_path):\n",
    "    # Check URL\n",
    "    if not url.endswith(\"?raw=true\") and url.endswith(\".xlsx\"):\n",
    "        url = f'{url}?raw=true'\n",
    "        \n",
    "    # Get file\n",
    "    response = requests.get(url)\n",
    "    with open(output_path, \"wb\") as f:\n",
    "        f.write(response.content)\n",
    "    print(\"✅ Excel file successfully saved:\", output_path)"
   ]
  },
  {
   "cell_type": "markdown",
   "id": "fa8fd7d7-a3a0-45ba-a5de-cb715af7994d",
   "metadata": {
    "papermill": {},
    "tags": []
   },
   "source": [
    "## Output"
   ]
  },
  {
   "cell_type": "markdown",
   "id": "d5fdca68-83d1-4165-b80e-d53e08b985ad",
   "metadata": {
    "papermill": {},
    "tags": []
   },
   "source": [
    "### Display result"
   ]
  },
  {
   "cell_type": "code",
   "execution_count": null,
   "id": "affe1a16-e02d-4f52-918e-27683ba33131",
   "metadata": {
    "papermill": {},
    "tags": []
   },
   "outputs": [],
   "source": [
    "download_excel_file(url, output_path)"
   ]
  }
 ],
 "metadata": {
  "kernelspec": {
   "display_name": "Python 3",
   "language": "python",
   "name": "python3"
  },
  "language_info": {
   "codemirror_mode": {
    "name": "ipython",
    "version": 3
   },
   "file_extension": ".py",
   "mimetype": "text/x-python",
   "name": "python",
   "nbconvert_exporter": "python",
   "pygments_lexer": "ipython3",
   "version": "3.9.6"
  },
  "naas": {
   "notebook_id": "dbff6f5f2fa8547e5d0a19beb2643be87b924ee91e01121e3d37985bac070cd8",
   "notebook_path": "GitHub/GitHub_Download_Excel_file_from_URL.ipynb"
  },
  "papermill": {
   "default_parameters": {},
   "environment_variables": {},
   "parameters": {},
   "version": "2.4.0"
  },
  "widgets": {
   "application/vnd.jupyter.widget-state+json": {
    "state": {},
    "version_major": 2,
    "version_minor": 0
   }
  }
 },
 "nbformat": 4,
 "nbformat_minor": 5
}