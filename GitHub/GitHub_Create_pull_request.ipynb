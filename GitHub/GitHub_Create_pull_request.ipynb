{
 "cells": [
  {
   "cell_type": "markdown",
   "id": "621d75d9-b4ce-4126-bcd9-8bae98b3c5a1",
   "metadata": {
    "papermill": {},
    "tags": []
   },
   "source": [
    "<img width=\"10%\" alt=\"Naas\" src=\"https://landen.imgix.net/jtci2pxwjczr/assets/5ice39g4.png?w=160\"/>"
   ]
  },
  {
   "cell_type": "markdown",
   "id": "d1a5e34d-b4ae-4163-851b-10c6db965fc6",
   "metadata": {
    "papermill": {},
    "tags": []
   },
   "source": [
    "# GitHub - Create pull request\n",
    "<a href=\"https://app.naas.ai/user-redirect/naas/downloader?url=https://raw.githubusercontent.com/jupyter-naas/awesome-notebooks/master/GitHub/GitHub_Create_pull_request.ipynb\" target=\"_parent\"><img src=\"https://naasai-public.s3.eu-west-3.amazonaws.com/open_in_naas.svg\"/></a><br><br><a href=\"https://github.com/jupyter-naas/awesome-notebooks/issues/new?assignees=&labels=&template=template-request.md&title=Tool+-+Action+of+the+notebook+\">Template request</a> | <a href=\"https://github.com/jupyter-naas/awesome-notebooks/issues/new?assignees=&labels=bug&template=bug_report.md&title=GitHub+-+Create+pull+request:+Error+short+description\">Bug report</a>"
   ]
  },
  {
   "cell_type": "markdown",
   "id": "4ee32fea-d721-446e-ab75-74ca1bfb1210",
   "metadata": {
    "papermill": {},
    "tags": []
   },
   "source": [
    "**Tags:** #github #pygithub #pullrequest #create #assign #issue"
   ]
  },
  {
   "cell_type": "markdown",
   "id": "11aa93e7-943c-4a70-804f-03ee199f1024",
   "metadata": {
    "papermill": {},
    "tags": []
   },
   "source": [
    "**Author:** [Florent Ravenel](https://www.linkedin.com/in/florent-ravenel/)"
   ]
  },
  {
   "cell_type": "markdown",
   "id": "ae0b030c-6330-4622-9cb3-7316923b6bbd",
   "metadata": {
    "papermill": {},
    "tags": []
   },
   "source": [
    "**Description:** This notebook creates a pull request using pygithub library."
   ]
  },
  {
   "cell_type": "markdown",
   "id": "f49d9417-cbb8-4c68-9b13-7ccb746c076d",
   "metadata": {
    "papermill": {},
    "tags": []
   },
   "source": [
    "**References:**\n",
    "- [PyGithub Documentation](https://pygithub.readthedocs.io/en/latest/)\n",
    "- [GitHub Documentation](https://docs.github.com/en/github/collaborating-with-issues-and-pull-requests/creating-a-pull-request)"
   ]
  },
  {
   "cell_type": "markdown",
   "id": "314a3e2b-68cf-4ed8-af3e-83fc52a42590",
   "metadata": {
    "papermill": {},
    "tags": []
   },
   "source": [
    "## Input"
   ]
  },
  {
   "cell_type": "markdown",
   "id": "438e3250-f55d-4f66-8233-d18832c55369",
   "metadata": {
    "papermill": {},
    "tags": []
   },
   "source": [
    "### Import libraries"
   ]
  },
  {
   "cell_type": "code",
   "execution_count": null,
   "id": "55b6723a-6d1d-42c7-a1bd-764d9c3b4333",
   "metadata": {
    "papermill": {},
    "tags": []
   },
   "outputs": [],
   "source": [
    "try:\n",
    "    import github\n",
    "except:\n",
    "    !pip install pygithub --user\n",
    "    import github\n",
    "import naas"
   ]
  },
  {
   "cell_type": "markdown",
   "id": "08549840-69f5-4a90-aee7-2d9ce922235c",
   "metadata": {
    "papermill": {},
    "tags": []
   },
   "source": [
    "### Setup Variables\n",
    "- `token`: [GitHub token](https://docs.github.com/en/github/authenticating-to-github/creating-a-personal-access-token)\n",
    "- `repo`: repository name\n",
    "- `owner`: repository owner\n",
    "- `title`: pull request title\n",
    "- `body`: pull request body\n",
    "- `head`: branch name where your changes are implemented\n",
    "- `base`: branch name where your changes will be merged into"
   ]
  },
  {
   "cell_type": "code",
   "execution_count": null,
   "id": "d89c4f3f-21a7-49b6-9112-81267d432820",
   "metadata": {
    "papermill": {},
    "tags": []
   },
   "outputs": [],
   "source": [
    "token = naas.secret.get('GITHUB_TOKEN') or \"YOUR_TOKEN\"\n",
    "repo = \"YOUR_REPO\"\n",
    "owner = \"YOUR_OWNER\"\n",
    "title = \"YOUR_TITLE\"\n",
    "body = \"YOUR_BODY\" #To link your PR to an issue, you can add the following in your body 'This PR resolves {issue_html_url}'\n",
    "head = \"YOUR_HEAD\"\n",
    "base = \"YOUR_BASE\""
   ]
  },
  {
   "cell_type": "markdown",
   "id": "35112173-4135-4a21-a86f-69cd65ae2694",
   "metadata": {
    "papermill": {},
    "tags": []
   },
   "source": [
    "## Model"
   ]
  },
  {
   "cell_type": "markdown",
   "id": "b3a9db93-3a28-4327-ad32-c008f98ec75d",
   "metadata": {
    "papermill": {},
    "tags": []
   },
   "source": [
    "### Create Pull Request"
   ]
  },
  {
   "cell_type": "markdown",
   "id": "61f41916-cfb3-4bf6-b29d-2bb9b9bb3ffd",
   "metadata": {
    "papermill": {},
    "tags": []
   },
   "source": [
    "Create a pull request with assignee and link to issue using pygithub library."
   ]
  },
  {
   "cell_type": "code",
   "execution_count": null,
   "id": "ee8eb20f-dfe2-4f09-b8c8-fac86d6bd6d3",
   "metadata": {
    "papermill": {},
    "tags": []
   },
   "outputs": [],
   "source": [
    "# Create a Github instance\n",
    "gh = github.Github(token)\n",
    "# Get the repository\n",
    "repo = gh.get_repo(f\"{owner}/{repo}\")\n",
    "# Create the pull request\n",
    "pull_request = repo.create_pull(\n",
    "    title=title, body=body, head=head, base=base\n",
    ")"
   ]
  },
  {
   "cell_type": "markdown",
   "id": "5fa9b07e-4f45-43c6-9d9a-c4e2b12ef182",
   "metadata": {
    "papermill": {},
    "tags": []
   },
   "source": [
    "## Output"
   ]
  },
  {
   "cell_type": "markdown",
   "id": "09aeceab-25d4-4f39-ae41-74f6ec3bcdbb",
   "metadata": {
    "papermill": {},
    "tags": []
   },
   "source": [
    "### Display result"
   ]
  },
  {
   "cell_type": "code",
   "execution_count": null,
   "id": "6db7f5f3-92b7-48e0-b92d-8037f6b650d7",
   "metadata": {
    "papermill": {},
    "tags": []
   },
   "outputs": [],
   "source": [
    "# Display the pull request\n",
    "pull_request"
   ]
  },
  {
   "cell_type": "markdown",
   "id": "fb874a08-130a-4fc2-ab69-98e191752871",
   "metadata": {
    "papermill": {},
    "tags": []
   },
   "source": [
    " "
   ]
  }
 ],
 "metadata": {
  "kernelspec": {
   "display_name": "Python 3",
   "language": "python",
   "name": "python3"
  },
  "language_info": {
   "codemirror_mode": {
    "name": "ipython",
    "version": 3
   },
   "file_extension": ".py",
   "mimetype": "text/x-python",
   "name": "python",
   "nbconvert_exporter": "python",
   "pygments_lexer": "ipython3",
   "version": "3.9.6"
  },
  "papermill": {
   "default_parameters": {},
   "environment_variables": {},
   "parameters": {},
   "version": "2.4.0"
  },
  "widgets": {
   "application/vnd.jupyter.widget-state+json": {
    "state": {},
    "version_major": 2,
    "version_minor": 0
   }
  }
 },
 "nbformat": 4,
 "nbformat_minor": 5
}