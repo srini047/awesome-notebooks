{
 "cells": [
  {
   "cell_type": "markdown",
   "id": "4ca0da70-29a6-4d55-832e-a8f8873b6e0d",
   "metadata": {
    "papermill": {},
    "tags": []
   },
   "source": [
    "<img width=\"10%\" alt=\"Naas\" src=\"https://landen.imgix.net/jtci2pxwjczr/assets/5ice39g4.png?w=160\"/>"
   ]
  },
  {
   "cell_type": "markdown",
   "id": "cfbedfd8-6e0a-418d-9cbe-bf7490210718",
   "metadata": {
    "papermill": {},
    "tags": []
   },
   "source": [
    "# GitHub - Add or update team membership for a user\n",
    "<a href=\"https://app.naas.ai/user-redirect/naas/downloader?url=https://raw.githubusercontent.com/jupyter-naas/awesome-notebooks/master/GitHub/GitHub_Add_or_update_team_membership_for_a_user.ipynb\" target=\"_parent\"><img src=\"https://naasai-public.s3.eu-west-3.amazonaws.com/Open_in_Naas_Lab.svg\"/></a><br><br><a href=\"https://github.com/jupyter-naas/awesome-notebooks/issues/new?assignees=&labels=&template=template-request.md&title=Tool+-+Action+of+the+notebook+\">Template request</a> | <a href=\"https://github.com/jupyter-naas/awesome-notebooks/issues/new?assignees=&labels=bug&template=bug_report.md&title=GitHub+-+Add+or+update+team+membership+for+a+user:+Error+short+description\">Bug report</a> | <a href=\"https://app.naas.ai/user-redirect/naas/downloader?url=https://raw.githubusercontent.com/jupyter-naas/awesome-notebooks/master/Naas/Naas_Start_data_product.ipynb\" target=\"_parent\">Generate Data Product</a>"
   ]
  },
  {
   "cell_type": "markdown",
   "id": "e04bbb2d-b0ff-4372-b88f-5036dc3496fb",
   "metadata": {
    "papermill": {},
    "tags": []
   },
   "source": [
    "**Tags:** #github #teams #members #api #rest #python"
   ]
  },
  {
   "cell_type": "markdown",
   "id": "4e0821dc-30e0-45a3-a58a-806ed434d5fc",
   "metadata": {
    "papermill": {},
    "tags": []
   },
   "source": [
    "**Author:** [Florent Ravenel](http://linkedin.com/in/florent-ravenel)"
   ]
  },
  {
   "cell_type": "markdown",
   "id": "479957e9-1b4e-4723-95f6-68ec794e6910",
   "metadata": {
    "papermill": {},
    "tags": []
   },
   "source": [
    "**Description:** This notebook add or update team membership for a user."
   ]
  },
  {
   "cell_type": "markdown",
   "id": "98170003-9560-4f5b-a34c-9a9502f9582d",
   "metadata": {
    "papermill": {},
    "tags": []
   },
   "source": [
    "**References:**\n",
    "- [GitHub - Add or update team membership for a user](https://docs.github.com/fr/rest/teams/members?apiVersion=2022-11-28#add-or-update-team-membership-for-a-user)"
   ]
  },
  {
   "cell_type": "markdown",
   "id": "40027af9-1953-4cf4-a2d0-bf3a4ed2d1d6",
   "metadata": {
    "papermill": {},
    "tags": []
   },
   "source": [
    "## Input"
   ]
  },
  {
   "cell_type": "markdown",
   "id": "683bf77e-5ff6-4e2f-8b93-8a1801ce2d2e",
   "metadata": {
    "papermill": {},
    "tags": []
   },
   "source": [
    "### Import libraries"
   ]
  },
  {
   "cell_type": "code",
   "execution_count": null,
   "id": "0ae64b1f-8246-41de-a0af-d3fd3cc6754a",
   "metadata": {
    "papermill": {},
    "tags": []
   },
   "outputs": [],
   "source": [
    "import requests\n",
    "import naas"
   ]
  },
  {
   "cell_type": "markdown",
   "id": "80a66621-0749-47fa-867a-878c24e9533e",
   "metadata": {
    "papermill": {},
    "tags": []
   },
   "source": [
    "### Setup Variables\n",
    "- `token`: [GitHub personal access token](https://github.com/settings/tokens)\n",
    "- `org_id`: ID of the organization\n",
    "- `team_id`: ID of the team\n",
    "- `username`: GitHub username\n",
    "- `role`: The role that this user should have in the team. Can be one of: `maintainer`, `member`."
   ]
  },
  {
   "cell_type": "code",
   "execution_count": null,
   "id": "f28ca0de-3850-43c2-b5e5-c970c390306a",
   "metadata": {
    "papermill": {},
    "tags": []
   },
   "outputs": [],
   "source": [
    "token = naas.secret.get(\"GITHUB_TOKEN\") or \"GITHUB_TOKEN\"\n",
    "org_id = \"jupyter-naas\"\n",
    "team_id = \"<team_id>\"\n",
    "username = \"<username>\"\n",
    "role = \"member\""
   ]
  },
  {
   "cell_type": "markdown",
   "id": "51f2a8ab-2f08-4fa8-9f02-9df40672d002",
   "metadata": {
    "papermill": {},
    "tags": []
   },
   "source": [
    "## Model"
   ]
  },
  {
   "cell_type": "markdown",
   "id": "e4dc5cf8-40fa-4d36-9caa-9cd626b615d1",
   "metadata": {
    "papermill": {},
    "tags": []
   },
   "source": [
    "### Add or update team membership for a user"
   ]
  },
  {
   "cell_type": "code",
   "execution_count": null,
   "id": "dcdda7cb-6f7a-4329-9c2f-797ee650644a",
   "metadata": {
    "papermill": {},
    "tags": []
   },
   "outputs": [],
   "source": [
    "def update_team_membership(token, org, team, username, role):\n",
    "    # Init\n",
    "    res_json = None\n",
    "    \n",
    "    # Request\n",
    "    url = f\"https://api.github.com/orgs/{org}/teams/{team}/memberships/{username}\"\n",
    "    payload = {\"role\": role}\n",
    "    headers = {\n",
    "        \"Authorization\": f\"token {token}\",\n",
    "        \"Accept\": \"application/vnd.github.hellcat-preview+json\",\n",
    "    }\n",
    "    res = requests.put(url, headers=headers, json=payload)\n",
    "    \n",
    "    # Result\n",
    "    if res.status_code == 200:\n",
    "        print(f\"✅ User '{username}' updated in '{org}/{team}'\")\n",
    "        res_json = res.json()\n",
    "    else:\n",
    "        print(f\"❌ User not updated in '{org}/{team}'\")\n",
    "    return res_json"
   ]
  },
  {
   "cell_type": "markdown",
   "id": "afb2e8d2-8977-45ad-ab10-224ab703af8c",
   "metadata": {
    "papermill": {},
    "tags": []
   },
   "source": [
    "## Output"
   ]
  },
  {
   "cell_type": "markdown",
   "id": "012821f3-80f2-4799-b626-754c97307b6d",
   "metadata": {
    "papermill": {},
    "tags": []
   },
   "source": [
    "### Display result"
   ]
  },
  {
   "cell_type": "code",
   "execution_count": null,
   "id": "fcfdaa95-c47a-4cc2-8a3b-a1cf0bf81bdf",
   "metadata": {
    "papermill": {},
    "tags": []
   },
   "outputs": [],
   "source": [
    "membership = update_team_membership(token, org_id, team_id, username, role)\n",
    "if membership:\n",
    "    print(membership)"
   ]
  }
 ],
 "metadata": {
  "kernelspec": {
   "display_name": "Python 3",
   "language": "python",
   "name": "python3"
  },
  "language_info": {
   "codemirror_mode": {
    "name": "ipython",
    "version": 3
   },
   "file_extension": ".py",
   "mimetype": "text/x-python",
   "name": "python",
   "nbconvert_exporter": "python",
   "pygments_lexer": "ipython3",
   "version": "3.9.6"
  },
  "naas": {
   "notebook_id": "10bd58b431807c01460f0309cd7ee2b2a7e2a61e38cbabc60c0fc2b439b9d309",
   "notebook_path": "GitHub/GitHub_Add_or_update_team_membership_for_a_user.ipynb"
  },
  "papermill": {
   "default_parameters": {},
   "environment_variables": {},
   "parameters": {},
   "version": "2.4.0"
  },
  "widgets": {
   "application/vnd.jupyter.widget-state+json": {
    "state": {},
    "version_major": 2,
    "version_minor": 0
   }
  }
 },
 "nbformat": 4,
 "nbformat_minor": 5
}