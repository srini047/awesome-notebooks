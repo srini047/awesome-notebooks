{
 "cells": [
  {
   "cell_type": "markdown",
   "id": "644ab0cd-1ff1-4087-b14a-2b4e596c6807",
   "metadata": {
    "papermill": {},
    "tags": []
   },
   "source": [
    "<img width=\"10%\" alt=\"Naas\" src=\"https://landen.imgix.net/jtci2pxwjczr/assets/5ice39g4.png?w=160\"/>"
   ]
  },
  {
   "cell_type": "markdown",
   "id": "b00c39ca-3d99-48c6-8e7c-b1462f696749",
   "metadata": {
    "papermill": {},
    "tags": []
   },
   "source": [
    "# GitHub - List stargazers from repository\n",
    "<a href=\"https://app.naas.ai/user-redirect/naas/downloader?url=https://raw.githubusercontent.com/jupyter-naas/awesome-notebooks/master/GitHub/GitHub_List_stargazers_from_repository.ipynb\" target=\"_parent\"><img src=\"https://naasai-public.s3.eu-west-3.amazonaws.com/Open_in_Naas_Lab.svg\"/></a><br><br><a href=\"https://github.com/jupyter-naas/awesome-notebooks/issues/new?assignees=&labels=&template=template-request.md&title=Tool+-+Action+of+the+notebook+\">Template request</a> | <a href=\"https://github.com/jupyter-naas/awesome-notebooks/issues/new?assignees=&labels=bug&template=bug_report.md&title=GitHub+-+List+stargazers+from+repository:+Error+short+description\">Bug report</a> | <a href=\"https://app.naas.ai/user-redirect/naas/downloader?url=https://raw.githubusercontent.com/jupyter-naas/awesome-notebooks/master/Naas/Naas_Start_data_product.ipynb\" target=\"_parent\">Generate Data Product</a>"
   ]
  },
  {
   "cell_type": "markdown",
   "id": "ec6f2c33-5600-4324-a3e5-9e470926ea21",
   "metadata": {
    "execution": {
     "iopub.execute_input": "2022-01-19T17:29:04.864875Z",
     "iopub.status.busy": "2022-01-19T17:29:04.864611Z",
     "iopub.status.idle": "2022-01-19T17:29:04.881259Z",
     "shell.execute_reply": "2022-01-19T17:29:04.880462Z",
     "shell.execute_reply.started": "2022-01-19T17:29:04.864810Z"
    },
    "papermill": {},
    "tags": []
   },
   "source": [
    "**Tags:** #github #stars #stargazers #naas_drivers #operations #analytics #html #plotly #csv #image #png"
   ]
  },
  {
   "cell_type": "markdown",
   "id": "831e5714-3d01-4b39-86b7-661e83691e63",
   "metadata": {
    "papermill": {},
    "tags": []
   },
   "source": [
    "**Author:** [Sanjeet Attili](https://www.linkedin.com/in/sanjeet-attili-760bab190/)"
   ]
  },
  {
   "cell_type": "markdown",
   "id": "naas-description",
   "metadata": {
    "papermill": {},
    "tags": [
     "description"
    ]
   },
   "source": [
    "**Description:** This notebook provides a way to retrieve the list of users who have starred a given GitHub repository and save it into a csv file."
   ]
  },
  {
   "cell_type": "markdown",
   "id": "573ba258-db77-43e7-b169-1423fbe7a6c1",
   "metadata": {
    "papermill": {},
    "tags": []
   },
   "source": [
    "**References:**\n",
    "- [GitHub - List Stargazers](https://docs.github.com/en/rest/activity/starring?apiVersion=2022-11-28#list-stargazers)\n",
    "- [Naas drivers - GitHub](https://github.com/jupyter-naas/drivers/blob/main/naas_drivers/tools/github.py)"
   ]
  },
  {
   "cell_type": "markdown",
   "id": "3d06b4aa-5607-475d-a5c7-d4896f02efbb",
   "metadata": {
    "papermill": {},
    "tags": []
   },
   "source": [
    "## Input"
   ]
  },
  {
   "cell_type": "markdown",
   "id": "1a3276ae-5b97-4737-ba44-0b748c4ad216",
   "metadata": {
    "papermill": {},
    "tags": []
   },
   "source": [
    "### Imports"
   ]
  },
  {
   "cell_type": "code",
   "execution_count": null,
   "id": "120e7d13-d71b-4faa-8d71-416c2fa0c2c6",
   "metadata": {
    "papermill": {},
    "tags": []
   },
   "outputs": [],
   "source": [
    "from naas_drivers import github\n",
    "import naas"
   ]
  },
  {
   "cell_type": "markdown",
   "id": "93332ab9-2a6e-4c36-827c-0af32dc79ed4",
   "metadata": {
    "papermill": {},
    "tags": []
   },
   "source": [
    "### Setup Variables\n",
    "[Create your GitHub personal access token](https://github.com/settings/tokens)\n",
    "- `token`: GitHub personal access token\n",
    "- `repo_url`: URL of the GitHub repository\n",
    "- `csv_output`: CSV output path"
   ]
  },
  {
   "cell_type": "code",
   "execution_count": null,
   "id": "534f2053-a2a9-4899-abf8-0192c83f9c94",
   "metadata": {
    "papermill": {},
    "tags": []
   },
   "outputs": [],
   "source": [
    "# Inputs\n",
    "token = naas.secret.get(\"GITHUB_TOKEN\") or \"YOUR_GITHUB_TOKEN\"\n",
    "repo_url = \"https://github.com/jupyter-naas/awesome-notebooks\"\n",
    "\n",
    "# Outputs\n",
    "csv_output = f\"GitHub_{repo_url.split('/')[-1]}_stargazers.csv\""
   ]
  },
  {
   "cell_type": "markdown",
   "id": "65bb6473-255b-4cc8-a821-dca6c828b269",
   "metadata": {
    "papermill": {},
    "tags": []
   },
   "source": [
    "## Model"
   ]
  },
  {
   "cell_type": "markdown",
   "id": "7bfb0a01-048c-42e6-b26e-f6179e94a15e",
   "metadata": {
    "papermill": {},
    "tags": []
   },
   "source": [
    "### Get stargazers\n",
    "Dataframe returned:\n",
    "- LOGIN: GitHub Login\n",
    "- ID: GitHub profile ID\n",
    "- URL: GitHub API profile URL\n",
    "- TYPE: User type\n",
    "- SITE_ADMIN: User admin (Boolean)\n",
    "- STARRED_AT: Starring date"
   ]
  },
  {
   "cell_type": "code",
   "execution_count": null,
   "id": "4227b553-0c64-42c4-9514-ac17a70b05e0",
   "metadata": {
    "papermill": {},
    "tags": []
   },
   "outputs": [],
   "source": [
    "df = github.connect(token).repos.get_stargazers(repo_url)\n",
    "print('Row fetched:', len(df))\n",
    "df.tail(3)"
   ]
  },
  {
   "cell_type": "markdown",
   "id": "e856e144-c91c-484a-9ec5-9a7c709ef71a",
   "metadata": {
    "papermill": {},
    "tags": []
   },
   "source": [
    "## Output"
   ]
  },
  {
   "cell_type": "markdown",
   "id": "c5e4289f-d386-4c0a-932c-d9bc606efd62",
   "metadata": {
    "papermill": {},
    "tags": []
   },
   "source": [
    "### Save dataframe to csv"
   ]
  },
  {
   "cell_type": "code",
   "execution_count": null,
   "id": "3f9268b0-bc26-4edf-8e43-01996b8c9254",
   "metadata": {
    "papermill": {},
    "tags": []
   },
   "outputs": [],
   "source": [
    "# Save your dataframe in CSV\n",
    "df.to_csv(csv_output, index=False)"
   ]
  }
 ],
 "metadata": {
  "kernelspec": {
   "display_name": "Python 3",
   "language": "python",
   "name": "python3"
  },
  "language_info": {
   "codemirror_mode": {
    "name": "ipython",
    "version": 3
   },
   "file_extension": ".py",
   "mimetype": "text/x-python",
   "name": "python",
   "nbconvert_exporter": "python",
   "pygments_lexer": "ipython3",
   "version": "3.9.6"
  },
  "naas": {
   "notebook_id": "2afff9452829305d478206c7df493312ed90cc027380628a2fa35705dc1246a0",
   "notebook_path": "GitHub/GitHub_List_stargazers_from_repository.ipynb"
  },
  "papermill": {
   "default_parameters": {},
   "environment_variables": {},
   "parameters": {},
   "version": "2.3.3"
  }
 },
 "nbformat": 4,
 "nbformat_minor": 5
}