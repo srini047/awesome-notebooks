{
 "cells": [
  {
   "cell_type": "markdown",
   "id": "1f1420f1-6bde-4016-bda6-5f6c9685771f",
   "metadata": {
    "papermill": {},
    "tags": []
   },
   "source": [
    "<img width=\"10%\" alt=\"Naas\" src=\"https://landen.imgix.net/jtci2pxwjczr/assets/5ice39g4.png?w=160\"/>"
   ]
  },
  {
   "cell_type": "markdown",
   "id": "258874e3-20d1-4a2e-a3f9-874889872713",
   "metadata": {
    "papermill": {},
    "tags": []
   },
   "source": [
    "# GitHub - List issue comments\n",
    "<a href=\"https://app.naas.ai/user-redirect/naas/downloader?url=https://raw.githubusercontent.com/jupyter-naas/awesome-notebooks/master/GitHub/GitHub_List_issue_comments.ipynb\" target=\"_parent\"><img src=\"https://naasai-public.s3.eu-west-3.amazonaws.com/Open_in_Naas_Lab.svg\"/></a><br><br><a href=\"https://github.com/jupyter-naas/awesome-notebooks/issues/new?assignees=&labels=&template=template-request.md&title=Tool+-+Action+of+the+notebook+\">Template request</a> | <a href=\"https://github.com/jupyter-naas/awesome-notebooks/issues/new?assignees=&labels=bug&template=bug_report.md&title=GitHub+-+List+issue+comments:+Error+short+description\">Bug report</a> | <a href=\"https://app.naas.ai/user-redirect/naas/downloader?url=https://raw.githubusercontent.com/jupyter-naas/awesome-notebooks/master/Naas/Naas_Start_data_product.ipynb\" target=\"_parent\">Generate Data Product</a>"
   ]
  },
  {
   "cell_type": "markdown",
   "id": "2cf92420-8d0c-44d5-841d-fc432358e1a6",
   "metadata": {
    "papermill": {},
    "tags": []
   },
   "source": [
    "**Tags:** #github #issue #comment #api #python #library"
   ]
  },
  {
   "cell_type": "markdown",
   "id": "05f8f528-8e03-493c-926b-829fd3380aa6",
   "metadata": {
    "papermill": {},
    "tags": []
   },
   "source": [
    "**Author:** [Florent Ravenel](https://www.linkedin.com/in/florent-ravenel/)"
   ]
  },
  {
   "cell_type": "markdown",
   "id": "dc9481f3-d140-455d-925a-c47a1b41307c",
   "metadata": {
    "papermill": {},
    "tags": []
   },
   "source": [
    "**Description:** This notebook shows how to list comments from an issue on GitHub."
   ]
  },
  {
   "cell_type": "markdown",
   "id": "9ba9f2ed-a2c5-40d9-a27e-9de73d31b57f",
   "metadata": {
    "papermill": {},
    "tags": []
   },
   "source": [
    "**References:**\n",
    "- [GitHub API Documentation](https://docs.github.com/fr/rest/issues/comments?apiVersion=2022-11-28#list-issue-comments)"
   ]
  },
  {
   "cell_type": "markdown",
   "id": "aecf43dd-d63f-49a0-89b3-8b2a7b545179",
   "metadata": {
    "papermill": {},
    "tags": []
   },
   "source": [
    "## Input"
   ]
  },
  {
   "cell_type": "markdown",
   "id": "2dc65245-a1dc-4c94-a801-f014b77ead2e",
   "metadata": {
    "papermill": {},
    "tags": []
   },
   "source": [
    "### Import libraries"
   ]
  },
  {
   "cell_type": "code",
   "execution_count": null,
   "id": "0786e518-998f-4b9b-a015-a086a3a9f6f0",
   "metadata": {
    "papermill": {},
    "tags": []
   },
   "outputs": [],
   "source": [
    "import requests\n",
    "import naas\n",
    "import pandas as pd"
   ]
  },
  {
   "cell_type": "markdown",
   "id": "e66c3509-53e9-40ed-a012-11490eb71be9",
   "metadata": {
    "papermill": {},
    "tags": []
   },
   "source": [
    "### Setup Variables\n",
    "- `token`: [GitHub token](https://help.github.com/en/github/authenticating-to-github/creating-a-personal-access-token-for-the-command-line)\n",
    "- `owner`: owner of the repository\n",
    "- `repo`: name of the repository\n",
    "- `issue_number`: number of the issue"
   ]
  },
  {
   "cell_type": "code",
   "execution_count": null,
   "id": "55d4eaed-f009-4a2d-8d6c-5489dfedc69a",
   "metadata": {
    "papermill": {},
    "tags": []
   },
   "outputs": [],
   "source": [
    "token = naas.secret.get('GITHUB_TOKEN')\n",
    "owner = \"jupyter-naas\"\n",
    "repo = \"awesome-notebooks\"\n",
    "issue_number = 1808"
   ]
  },
  {
   "cell_type": "markdown",
   "id": "923292cd-ee21-4c00-a34d-f6fd6dcd2c5d",
   "metadata": {
    "papermill": {},
    "tags": []
   },
   "source": [
    "## Model"
   ]
  },
  {
   "cell_type": "markdown",
   "id": "c9990cc5-fc1a-4d1b-9b0d-306cea89cd4f",
   "metadata": {
    "papermill": {},
    "tags": []
   },
   "source": [
    "### Flatten nested dict"
   ]
  },
  {
   "cell_type": "code",
   "execution_count": null,
   "id": "4de53a20-dc05-44a5-8b8e-28d4e2b72bc2",
   "metadata": {
    "papermill": {},
    "tags": []
   },
   "outputs": [],
   "source": [
    "# Flatten the nested dict\n",
    "def flatten_dict(d, parent_key='', sep='_'):\n",
    "    \"\"\"\n",
    "    Flattens a nested dictionary into a single level dictionary.\n",
    "\n",
    "    Args:\n",
    "        d (dict): A nested dictionary.\n",
    "        parent_key (str): Optional string to prefix the keys with.\n",
    "        sep (str): Optional separator to use between parent_key and child_key.\n",
    "\n",
    "    Returns:\n",
    "        dict: A flattened dictionary.\n",
    "    \"\"\"\n",
    "    items = []\n",
    "    for k, v in d.items():\n",
    "        new_key = f\"{parent_key}{sep}{k}\" if parent_key else k\n",
    "        if isinstance(v, dict):\n",
    "            items.extend(flatten_dict(v, new_key, sep=sep).items())\n",
    "        else:\n",
    "            items.append((new_key, v))\n",
    "    return dict(items)"
   ]
  },
  {
   "cell_type": "markdown",
   "id": "b90b2d73-92fd-436d-995a-00236a167e48",
   "metadata": {
    "papermill": {},
    "tags": []
   },
   "source": [
    "### Create an issue comment"
   ]
  },
  {
   "cell_type": "code",
   "execution_count": null,
   "id": "95cc4efd-49bc-4e6e-99f5-729fd22f38c8",
   "metadata": {
    "papermill": {},
    "tags": []
   },
   "outputs": [],
   "source": [
    "def list_issue_comments(\n",
    "    token=None,\n",
    "    owner=None,\n",
    "    repo=None,\n",
    "    issue_number=None,\n",
    "):\n",
    "    # Init\n",
    "    page = 1\n",
    "    df = pd.DataFrame()\n",
    "    while True:\n",
    "        url = f\"https://api.github.com/repos/{owner}/{repo}/issues/{issue_number}/comments?per_page=100&page={page}\"\n",
    "        response = requests.get(url)\n",
    "        headers = {\"Authorization\": f\"token {token}\"}\n",
    "        res = requests.get(url, headers=headers)\n",
    "        if res.status_code == 200 and len(res.json()) > 0:\n",
    "            res_json = res.json()\n",
    "            for r in res_json:\n",
    "                flatten_r = flatten_dict(r)\n",
    "                tmp_df = pd.DataFrame([flatten_r])\n",
    "                df = pd.concat([df, tmp_df]).sort_values(\"created_at\")\n",
    "            page += 1\n",
    "        else:\n",
    "            break\n",
    "    return df"
   ]
  },
  {
   "cell_type": "markdown",
   "id": "313ce53c-2666-4e55-b2d1-7c26f87df3eb",
   "metadata": {
    "papermill": {},
    "tags": []
   },
   "source": [
    "## Output"
   ]
  },
  {
   "cell_type": "markdown",
   "id": "8ddc5ab5-8700-4184-83d8-56b87694ed15",
   "metadata": {
    "papermill": {},
    "tags": []
   },
   "source": [
    "### Display result"
   ]
  },
  {
   "cell_type": "code",
   "execution_count": null,
   "id": "3e112ad8-3eae-4ac7-bcf4-89e4ed593e6b",
   "metadata": {
    "papermill": {},
    "tags": []
   },
   "outputs": [],
   "source": [
    "df = list_issue_comments(token, owner, repo, issue_number)\n",
    "print('Comments fetched:', len(df))\n",
    "print(df.info())\n",
    "df"
   ]
  },
  {
   "cell_type": "markdown",
   "id": "0bffcd19-4ae1-4e78-8348-094cbde52829",
   "metadata": {
    "papermill": {},
    "tags": []
   },
   "source": [
    " "
   ]
  }
 ],
 "metadata": {
  "kernelspec": {
   "display_name": "Python 3",
   "language": "python",
   "name": "python3"
  },
  "language_info": {
   "codemirror_mode": {
    "name": "ipython",
    "version": 3
   },
   "file_extension": ".py",
   "mimetype": "text/x-python",
   "name": "python",
   "nbconvert_exporter": "python",
   "pygments_lexer": "ipython3",
   "version": "3.9.6"
  },
  "naas": {
   "notebook_id": "0acd7acb64f20d87ed237d4c909f9743978f067f9d98836c6ff364c577fa8d3b",
   "notebook_path": "GitHub/GitHub_List_issue_comments.ipynb"
  },
  "papermill": {
   "default_parameters": {},
   "environment_variables": {},
   "parameters": {},
   "version": "2.4.0"
  },
  "widgets": {
   "application/vnd.jupyter.widget-state+json": {
    "state": {},
    "version_major": 2,
    "version_minor": 0
   }
  }
 },
 "nbformat": 4,
 "nbformat_minor": 5
}