{
 "cells": [
  {
   "cell_type": "markdown",
   "id": "8bfe7242-9952-4529-8e33-8ede94a2c73f",
   "metadata": {
    "papermill": {},
    "tags": []
   },
   "source": [
    "<img width=\"10%\" alt=\"Naas\" src=\"https://landen.imgix.net/jtci2pxwjczr/assets/5ice39g4.png?w=160\"/>"
   ]
  },
  {
   "cell_type": "markdown",
   "id": "7a947a13-6b2f-446a-8b6d-32fcfe9c71a4",
   "metadata": {
    "papermill": {},
    "tags": []
   },
   "source": [
    "# GitHub - Track issues on projects\n",
    "<a href=\"https://app.naas.ai/user-redirect/naas/downloader?url=https://raw.githubusercontent.com/jupyter-naas/awesome-notebooks/master/GitHub/GitHub_Track_issues_on_projects.ipynb\" target=\"_parent\"><img src=\"https://naasai-public.s3.eu-west-3.amazonaws.com/Open_in_Naas_Lab.svg\"/></a><br><br><a href=\"https://github.com/jupyter-naas/awesome-notebooks/issues/new?assignees=&labels=&template=template-request.md&title=Tool+-+Action+of+the+notebook+\">Template request</a> | <a href=\"https://github.com/jupyter-naas/awesome-notebooks/issues/new?assignees=&labels=bug&template=bug_report.md&title=GitHub+-+Track+issues+on+projects:+Error+short+description\">Bug report</a> | <a href=\"https://app.naas.ai/user-redirect/naas/downloader?url=https://raw.githubusercontent.com/jupyter-naas/awesome-notebooks/master/Naas/Naas_Start_data_product.ipynb\" target=\"_parent\">Generate Data Product</a>"
   ]
  },
  {
   "cell_type": "markdown",
   "id": "423098f4-3362-4f5c-bc87-acce7b1d58ad",
   "metadata": {
    "papermill": {},
    "tags": []
   },
   "source": [
    "**Tags:** #github #repos #issues #operations #analytics #csv #plotly"
   ]
  },
  {
   "cell_type": "markdown",
   "id": "9448683e-f117-4a15-bff0-767313519a0a",
   "metadata": {
    "papermill": {},
    "tags": []
   },
   "source": [
    "**Author:** [Sanjeet Attili](https://www.linkedin.com/in/sanjeet-attili-760bab190/)"
   ]
  },
  {
   "cell_type": "markdown",
   "id": "naas-description",
   "metadata": {
    "papermill": {},
    "tags": [
     "description"
    ]
   },
   "source": [
    "**Description:** This notebook allows users to track and manage issues related to their projects on GitHub."
   ]
  },
  {
   "cell_type": "markdown",
   "id": "63d8ce9e-f1bb-49c3-a753-01fd30949b21",
   "metadata": {
    "papermill": {},
    "tags": []
   },
   "source": [
    "## Input"
   ]
  },
  {
   "cell_type": "markdown",
   "id": "d4d1e767-29ef-4975-901d-dfa00f40834e",
   "metadata": {
    "papermill": {},
    "tags": []
   },
   "source": [
    "### Imports libraries"
   ]
  },
  {
   "cell_type": "code",
   "execution_count": 2,
   "id": "b4baafbb-d91c-433c-a68b-482d9b10f600",
   "metadata": {
    "papermill": {},
    "tags": []
   },
   "outputs": [],
   "source": [
    "import plotly.express as px\n",
    "from naas_drivers import github"
   ]
  },
  {
   "cell_type": "markdown",
   "id": "29a2408f-fe33-4b95-96cc-e175fd5a75fa",
   "metadata": {
    "papermill": {},
    "tags": []
   },
   "source": [
    "### Setup GitHub\n",
    "**How to find your personal access token on Github?** \n",
    "- First we need to create a personal access token to get the details of our organization from here: https://github.com/settings/tokens\n",
    "- You will be asked to select scopes for the token. Which scopes you choose will determine what information and actions you will be able to perform against the API. \n",
    "- You should be careful with the ones prefixed with write:, delete: and admin: as these might be quite destructive. \n",
    "- You can find description of each scope in docs here (https://docs.github.com/en/developers/apps/building-oauth-apps/scopes-for-oauth-apps)."
   ]
  },
  {
   "cell_type": "code",
   "execution_count": 3,
   "id": "3ef3fdc5-a458-4ca8-a65e-605ff18546f5",
   "metadata": {
    "papermill": {},
    "tags": []
   },
   "outputs": [],
   "source": [
    "# Project URL from web\n",
    "PROJECT_URL = \"https://github.com/orgs/jupyter-naas/projects\"\n",
    "\n",
    "# GitHub Token\n",
    "GITHUB_TOKEN = \"ghp_COJiJEU4cQR4rjsxxxxxx\""
   ]
  },
  {
   "cell_type": "markdown",
   "id": "b19f63a8-976c-4dfc-8a79-33b2fb790b0b",
   "metadata": {
    "papermill": {},
    "tags": []
   },
   "source": [
    "### Setup variables"
   ]
  },
  {
   "cell_type": "code",
   "execution_count": 14,
   "id": "f6f89326-1108-4d35-bb11-8c766a0e5b65",
   "metadata": {
    "papermill": {},
    "tags": []
   },
   "outputs": [],
   "source": [
    "# Graph : bar order\n",
    "STATUS_ORDER = [\"Backlog\", \"To Do\", \"In Progress\", \"Review\", \"Done\"]\n",
    "\n",
    "# Outputs\n",
    "csv_output = \"GitHub_Issues.csv\""
   ]
  },
  {
   "cell_type": "markdown",
   "id": "27a2ef01-52fd-466a-ad9a-892827dfe97d",
   "metadata": {
    "papermill": {},
    "tags": []
   },
   "source": [
    "## Model"
   ]
  },
  {
   "cell_type": "markdown",
   "id": "9ffb74a9-02c2-44f9-bc38-55f1b34cc25a",
   "metadata": {
    "papermill": {},
    "tags": []
   },
   "source": [
    "### Get issues from project on Github"
   ]
  },
  {
   "cell_type": "code",
   "execution_count": 5,
   "id": "8e4e673f-57f3-4366-8ae4-6ccc7f688db8",
   "metadata": {
    "papermill": {},
    "tags": []
   },
   "outputs": [],
   "source": [
    "df_issues = github.connect(GITHUB_TOKEN).projects.get_issues(PROJECT_URL)\n",
    "df_issues.tail(15)"
   ]
  },
  {
   "cell_type": "markdown",
   "id": "b09cd844-2ae6-40f4-afb0-ce660300f438",
   "metadata": {
    "papermill": {},
    "tags": []
   },
   "source": [
    "### Create barchart"
   ]
  },
  {
   "cell_type": "code",
   "execution_count": 15,
   "id": "98d396a2-77dc-4522-8644-a3471d94b584",
   "metadata": {
    "papermill": {},
    "tags": []
   },
   "outputs": [],
   "source": [
    "for index, s in enumerate(STATUS_ORDER):\n",
    "    print(index, s)"
   ]
  },
  {
   "cell_type": "code",
   "execution_count": 16,
   "id": "b7e0e9e4-dfe8-4855-a184-c77f799d737c",
   "metadata": {
    "papermill": {},
    "tags": []
   },
   "outputs": [],
   "source": [
    "def create_barchart(df, title, labels):\n",
    "    # Get status\n",
    "    status = df.issue_status.unique().tolist()\n",
    "    status_order = []\n",
    "    for index, s in enumerate(STATUS_ORDER):\n",
    "        if s in status:\n",
    "            status_order += [s]\n",
    "\n",
    "    # Create fig\n",
    "    fig = px.bar(\n",
    "        df, title=title, x=status_order, y=\"count\", text=\"count\", labels=labels\n",
    "    )\n",
    "    fig.update_traces(marker_color=\"black\")\n",
    "    fig.update_layout(\n",
    "        plot_bgcolor=\"#ffffff\",\n",
    "        width=1000,\n",
    "        height=800,\n",
    "        font=dict(family=\"Arial\", size=14, color=\"black\"),\n",
    "        paper_bgcolor=\"white\",\n",
    "        yaxis_title=\"No of issues\",\n",
    "        yaxis_title_font=dict(family=\"Arial\", size=11, color=\"black\"),\n",
    "        xaxis_title=\"Status\",\n",
    "        xaxis_title_font=dict(family=\"Arial\", size=11, color=\"black\"),\n",
    "        margin_pad=10,\n",
    "    )\n",
    "    fig.show()\n",
    "    return fig"
   ]
  },
  {
   "cell_type": "markdown",
   "id": "283068ba-78b3-4b9b-a5f6-ce60a8d304ff",
   "metadata": {
    "papermill": {},
    "tags": []
   },
   "source": [
    "## Output"
   ]
  },
  {
   "cell_type": "markdown",
   "id": "dd8ebaf3-608f-449c-aff0-faae05f5e232",
   "metadata": {
    "papermill": {},
    "tags": []
   },
   "source": [
    "### Save data in csv"
   ]
  },
  {
   "cell_type": "code",
   "execution_count": null,
   "id": "ff8ec4a8-67ae-40d9-b926-d405a217d7b7",
   "metadata": {
    "papermill": {},
    "tags": []
   },
   "outputs": [],
   "source": [
    "df_issues.to_csv(csv_output, index=False)"
   ]
  },
  {
   "cell_type": "markdown",
   "id": "14c5ca12-e9f9-40f3-923c-8bba5ee6a4a1",
   "metadata": {
    "papermill": {},
    "tags": []
   },
   "source": [
    "### Plotting a bar graph for total number of issues"
   ]
  },
  {
   "cell_type": "code",
   "execution_count": 17,
   "id": "42710764-bf47-47de-8638-71665f2d64a0",
   "metadata": {
    "papermill": {},
    "tags": []
   },
   "outputs": [],
   "source": [
    "# Dataframe\n",
    "issues = (\n",
    "    df_issues.groupby(\"issue_status\")\n",
    "    .agg({\"issue_number\": \"count\"})\n",
    "    .reset_index()\n",
    "    .rename(columns={\"issue_number\": \"count\"})\n",
    ")\n",
    "\n",
    "# Chart title\n",
    "title = f\"Github Project - {PROJECT_URL.split('/')[-2]} : {df_issues['project_name'].unique()[0]} <br><span style='font-size: 13px;'>Total issues: {issues['count'].sum()}</span>\"\n",
    "\n",
    "# Hover labels\n",
    "labels = {\"issue_status\": \"Issue status\", \"count\": \"Number of Issues\"}\n",
    "fig = create_barchart(issues, title, labels)"
   ]
  },
  {
   "cell_type": "markdown",
   "id": "542502e1-7a3a-4029-a8a5-169d8faa3d23",
   "metadata": {
    "papermill": {},
    "tags": []
   },
   "source": [
    "### Plotting a bar graph for open issues"
   ]
  },
  {
   "cell_type": "code",
   "execution_count": 18,
   "id": "e2d953de-3041-4c5e-9517-e742049b8b79",
   "metadata": {
    "papermill": {},
    "tags": []
   },
   "outputs": [],
   "source": [
    "# Dataframe\n",
    "open_issues = (\n",
    "    df_issues[df_issues[\"issue_state\"] == \"open\"]\n",
    "    .groupby(\"issue_status\")\n",
    "    .agg({\"issue_number\": \"count\"})\n",
    "    .reset_index()\n",
    "    .rename(columns={\"issue_number\": \"count\"})\n",
    ")\n",
    "\n",
    "# Chart title\n",
    "title = f\"Github Project - {PROJECT_URL.split('/')[-2]} : {df_issues['project_name'].unique()[0]} <br><span style='font-size: 13px;'>Total open issues: {open_issues['count'].sum()}</span>\"\n",
    "\n",
    "# Hover labels\n",
    "labels = {\"issue_status\": \"Issue status\", \"count\": \"Number of Open issues\"}\n",
    "fig = create_barchart(open_issues, title, labels)"
   ]
  },
  {
   "cell_type": "markdown",
   "id": "9f1ea835-26bb-4d25-a18f-bd78c3e24058",
   "metadata": {
    "papermill": {},
    "tags": []
   },
   "source": [
    "### Plotting a bar graph for closed issues"
   ]
  },
  {
   "cell_type": "code",
   "execution_count": 20,
   "id": "fa1d3d6f-dfaf-41e1-ac11-355882712e98",
   "metadata": {
    "papermill": {},
    "tags": []
   },
   "outputs": [],
   "source": [
    "# Dataframe\n",
    "closed_issues = (\n",
    "    df_issues[df_issues[\"issue_state\"] == \"closed\"]\n",
    "    .groupby(\"issue_status\")\n",
    "    .agg({\"issue_number\": \"count\"})\n",
    "    .reset_index()\n",
    "    .rename(columns={\"issue_number\": \"count\"})\n",
    ")\n",
    "\n",
    "# Chart title\n",
    "title = f\"Github Project - {PROJECT_URL.split('/')[-2]} : {df_issues['project_name'].unique()[0]} <br><span style='font-size: 13px;'>Total closed issues: {closed_issues['count'].sum()}</span>\"\n",
    "\n",
    "# Hover labels\n",
    "labels = {\"issue_status\": \"Issue status\", \"count\": \"Number of Closed issues\"}\n",
    "\n",
    "fig = create_barchart(closed_issues, title, labels)"
   ]
  },
  {
   "cell_type": "markdown",
   "id": "d6de9a03-795f-427b-9978-03489673fc33",
   "metadata": {
    "papermill": {},
    "tags": []
   },
   "source": [
    "### Plotting a bar graph for stale issues"
   ]
  },
  {
   "cell_type": "code",
   "execution_count": 21,
   "id": "ae36ac06-446f-4da0-b6ea-628b7aca5803",
   "metadata": {
    "papermill": {},
    "tags": []
   },
   "outputs": [],
   "source": [
    "stale_issues = []\n",
    "for item in df_issues.stale_issue:\n",
    "    if item != \"None\":\n",
    "        stale_issues.append(int(item.split()[-2]) >= 7)\n",
    "    else:\n",
    "        stale_issues.append(False)\n",
    "\n",
    "df_issues[\"stale_bool\"] = stale_issues\n",
    "temp = df_issues[df_issues[\"stale_bool\"] == True]\n",
    "temp[temp[\"issue_state\"] == \"open\"]\n",
    "\n",
    "# Dataframe\n",
    "open_stale_issues = (\n",
    "    temp[temp[\"issue_state\"] == \"open\"]\n",
    "    .groupby(\"issue_status\")\n",
    "    .agg({\"stale_bool\": \"count\"})\n",
    "    .reset_index()\n",
    "    .rename(columns={\"stale_bool\": \"count\"})\n",
    ")\n",
    "\n",
    "# Chart title\n",
    "title = f\"Github Project - {PROJECT_URL.split('/')[-2]} : {df_issues['project_name'].unique()[0]} <br><span style='font-size: 13px;'>Total open stale issues: {open_stale_issues['count'].sum()}</span>\"\n",
    "\n",
    "# Hover labels\n",
    "labels = {\n",
    "    \"issue_status\": \"Issue status\",\n",
    "    \"count\": \"Number of Open issues with no activity since more than 7 days\",\n",
    "}\n",
    "fig = create_barchart(open_stale_issues, title, labels)"
   ]
  }
 ],
 "metadata": {
  "kernelspec": {
   "display_name": "Python 3",
   "language": "python",
   "name": "python3"
  },
  "language_info": {
   "codemirror_mode": {
    "name": "ipython",
    "version": 3
   },
   "file_extension": ".py",
   "mimetype": "text/x-python",
   "name": "python",
   "nbconvert_exporter": "python",
   "pygments_lexer": "ipython3",
   "version": "3.9.6"
  },
  "naas": {
   "notebook_id": "7afaaedd1fb202006ad3861d87fc8671e703e8ab3af059d97fd4c95fc4e61601",
   "notebook_path": "GitHub/GitHub_Track_issues_on_projects.ipynb"
  },
  "papermill": {
   "default_parameters": {},
   "environment_variables": {},
   "parameters": {},
   "version": "2.3.4"
  }
 },
 "nbformat": 4,
 "nbformat_minor": 5
}