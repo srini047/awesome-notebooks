{
 "cells": [
  {
   "cell_type": "markdown",
   "id": "eeae8e8a-8a24-41da-b47c-737549ec164c",
   "metadata": {
    "papermill": {},
    "tags": []
   },
   "source": [
    "<img width=\"10%\" alt=\"Naas\" src=\"https://landen.imgix.net/jtci2pxwjczr/assets/5ice39g4.png?w=160\"/>"
   ]
  },
  {
   "cell_type": "markdown",
   "id": "b78360eb-9f97-4735-951f-72d2c4747c61",
   "metadata": {
    "papermill": {},
    "tags": []
   },
   "source": [
    "# GitHub - Get a repository\n",
    "<a href=\"https://app.naas.ai/user-redirect/naas/downloader?url=https://raw.githubusercontent.com/jupyter-naas/awesome-notebooks/master/GitHub/GitHub_Get_a_repository.ipynb\" target=\"_parent\"><img src=\"https://naasai-public.s3.eu-west-3.amazonaws.com/Open_in_Naas_Lab.svg\"/></a><br><br><a href=\"https://github.com/jupyter-naas/awesome-notebooks/issues/new?assignees=&labels=&template=template-request.md&title=Tool+-+Action+of+the+notebook+\">Template request</a> | <a href=\"https://github.com/jupyter-naas/awesome-notebooks/issues/new?assignees=&labels=bug&template=bug_report.md&title=GitHub+-+Get+a+repository:+Error+short+description\">Bug report</a> | <a href=\"https://app.naas.ai/user-redirect/naas/downloader?url=https://raw.githubusercontent.com/jupyter-naas/awesome-notebooks/master/Naas/Naas_Start_data_product.ipynb\" target=\"_parent\">Generate Data Product</a>"
   ]
  },
  {
   "cell_type": "markdown",
   "id": "fc7235ec-471d-4e64-95b8-a50c7bcf806d",
   "metadata": {
    "papermill": {},
    "tags": []
   },
   "source": [
    "**Tags:** #github #pygithub #repository #get #rest #api"
   ]
  },
  {
   "cell_type": "markdown",
   "id": "a4422bab-77b9-44aa-a2d9-f6eb71461428",
   "metadata": {
    "papermill": {},
    "tags": []
   },
   "source": [
    "**Author:** [Florent Ravenel](https://www.linkedin.com/in/florent-ravenel/)"
   ]
  },
  {
   "cell_type": "markdown",
   "id": "df640666-f775-4fad-915e-d60907367948",
   "metadata": {
    "papermill": {},
    "tags": []
   },
   "source": [
    "**Description:** This notebook will show how to get a repository using pygithub."
   ]
  },
  {
   "cell_type": "markdown",
   "id": "9cc501ea-dd60-460b-a867-94a0f4543920",
   "metadata": {
    "papermill": {},
    "tags": []
   },
   "source": [
    "**References:**\n",
    "- [GitHub - Get a repository](https://docs.github.com/fr/rest/repos/repos?apiVersion=2022-11-28#get-a-repository)"
   ]
  },
  {
   "cell_type": "markdown",
   "id": "b1fb69af-7956-4f8e-be82-c4edcb8fafe5",
   "metadata": {
    "papermill": {},
    "tags": []
   },
   "source": [
    "## Input"
   ]
  },
  {
   "cell_type": "markdown",
   "id": "121ec422-d1fd-4ece-a80b-5bd37042f020",
   "metadata": {
    "papermill": {},
    "tags": []
   },
   "source": [
    "### Import libraries"
   ]
  },
  {
   "cell_type": "code",
   "execution_count": null,
   "id": "9b94e1ec-073d-4ac1-ae4f-2c7580146853",
   "metadata": {
    "papermill": {},
    "tags": []
   },
   "outputs": [],
   "source": [
    "import naas\n",
    "import github"
   ]
  },
  {
   "cell_type": "markdown",
   "id": "baa10d64-6eaf-4689-b7d4-c131acfd7ddc",
   "metadata": {
    "papermill": {},
    "tags": []
   },
   "source": [
    "### Setup Variables\n",
    "- `token`: [Generate a personal access token](https://docs.github.com/en/github/authenticating-to-github/creating-a-personal-access-token)\n",
    "- `repository_url`: URL of your repository"
   ]
  },
  {
   "cell_type": "code",
   "execution_count": null,
   "id": "e29c76aa-51d5-4548-9e48-98e8bc13b825",
   "metadata": {
    "papermill": {},
    "tags": []
   },
   "outputs": [],
   "source": [
    "token = naas.secret.get('GITHUB_TOKEN') or \"YOUR_TOKEN\"\n",
    "repository_url = \"https://github.com/jupyter-naas/awesome-notebooks\""
   ]
  },
  {
   "cell_type": "markdown",
   "id": "02bfdb97-0d4e-4eeb-ab2f-c291fb6ec731",
   "metadata": {
    "papermill": {},
    "tags": []
   },
   "source": [
    "## Model"
   ]
  },
  {
   "cell_type": "markdown",
   "id": "7117cbed-5657-4700-b887-484b33d82a31",
   "metadata": {
    "papermill": {},
    "tags": []
   },
   "source": [
    "### Get a repository"
   ]
  },
  {
   "cell_type": "code",
   "execution_count": null,
   "id": "75371f7c-9f2e-4e16-8c3e-aa9abea093ee",
   "metadata": {
    "papermill": {},
    "tags": []
   },
   "outputs": [],
   "source": [
    "# Create a Github instance\n",
    "g = github.Github(token)\n",
    "# Get a repository\n",
    "repo = g.get_repo(repository_url.split(\"https://github.com/\")[-1])"
   ]
  },
  {
   "cell_type": "markdown",
   "id": "1e7d7aad-2d8c-40a1-9e92-4858ca1b741b",
   "metadata": {
    "papermill": {},
    "tags": []
   },
   "source": [
    "## Output"
   ]
  },
  {
   "cell_type": "markdown",
   "id": "bc70d036-2760-42d3-aff1-847dc7c86cea",
   "metadata": {
    "papermill": {},
    "tags": []
   },
   "source": [
    "### Display result\n",
    "Response attributes available here: https://docs.github.com/fr/rest/repos/repos?apiVersion=2022-11-28#get-a-repository"
   ]
  },
  {
   "cell_type": "code",
   "execution_count": null,
   "id": "e7a0ab05-7389-42dc-973e-a62d22b82394",
   "metadata": {
    "papermill": {},
    "tags": []
   },
   "outputs": [],
   "source": [
    "print(repo)"
   ]
  },
  {
   "cell_type": "markdown",
   "id": "e8ff8a96-692c-41fc-b8bb-e84b1e80a292",
   "metadata": {
    "papermill": {},
    "tags": []
   },
   "source": [
    " "
   ]
  }
 ],
 "metadata": {
  "kernelspec": {
   "display_name": "Python 3",
   "language": "python",
   "name": "python3"
  },
  "language_info": {
   "codemirror_mode": {
    "name": "ipython",
    "version": 3
   },
   "file_extension": ".py",
   "mimetype": "text/x-python",
   "name": "python",
   "nbconvert_exporter": "python",
   "pygments_lexer": "ipython3",
   "version": "3.9.6"
  },
  "naas": {
   "notebook_id": "c8a8977c13770d7cc1a9709d463a6c9b394b327ba768a497ede1e05dda40b7d7",
   "notebook_path": "GitHub/GitHub_Get_a_repository.ipynb"
  },
  "papermill": {
   "default_parameters": {},
   "environment_variables": {},
   "parameters": {},
   "version": "2.4.0"
  },
  "widgets": {
   "application/vnd.jupyter.widget-state+json": {
    "state": {},
    "version_major": 2,
    "version_minor": 0
   }
  }
 },
 "nbformat": 4,
 "nbformat_minor": 5
}