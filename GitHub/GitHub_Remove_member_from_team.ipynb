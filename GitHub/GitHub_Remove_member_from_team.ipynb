{
 "cells": [
  {
   "cell_type": "markdown",
   "id": "744cc02c-4a06-4c91-b138-bd7da023e161",
   "metadata": {
    "papermill": {},
    "tags": []
   },
   "source": [
    "<img width=\"10%\" alt=\"Naas\" src=\"https://landen.imgix.net/jtci2pxwjczr/assets/5ice39g4.png?w=160\"/>\n"
   ]
  },
  {
   "cell_type": "markdown",
   "id": "b2f2d128-1f3b-49ff-bca8-534e5b266bdf",
   "metadata": {
    "papermill": {},
    "tags": []
   },
   "source": [
    "# GitHub - Remove member from team\n",
    "<a href=\"https://app.naas.ai/user-redirect/naas/downloader?url=https://raw.githubusercontent.com/jupyter-naas/awesome-notebooks/master/GitHub/GitHub_Remove_member_from_team.ipynb\" target=\"_parent\"><img src=\"https://naasai-public.s3.eu-west-3.amazonaws.com/open_in_naas.svg\"/></a><br><br><a href=\"https://github.com/jupyter-naas/awesome-notebooks/issues/new?assignees=&labels=&template=template-request.md&title=Tool+-+Action+of+the+notebook+\">Template request</a> | <a href=\"https://github.com/jupyter-naas/awesome-notebooks/issues/new?assignees=&labels=bug&template=bug_report.md&title=GitHub+-+Remove+member+from+team:+Error+short+description\">Bug report</a>"
   ]
  },
  {
   "cell_type": "markdown",
   "id": "ea038049-0503-43e0-8adf-bac88daa4462",
   "metadata": {
    "papermill": {},
    "tags": []
   },
   "source": [
    "**Tags:** #github #teams #snippet #operations"
   ]
  },
  {
   "cell_type": "markdown",
   "id": "f8d9a9ed-9d9c-4ae9-954a-85ffbb81fcf5",
   "metadata": {
    "papermill": {},
    "tags": []
   },
   "source": [
    "**Author:** [Sanjeet Attili](https://linkedin.com/in/sanjeet-attili-760bab190/)\n"
   ]
  },
  {
   "cell_type": "markdown",
   "id": "naas-description",
   "metadata": {
    "papermill": {},
    "tags": [
     "description"
    ]
   },
   "source": [
    "**Description:** This notebook provides instructions on how to remove a member from a GitHub team."
   ]
  },
  {
   "cell_type": "markdown",
   "id": "c03953a9-04ed-4dd5-b46b-d826153e0128",
   "metadata": {
    "papermill": {},
    "tags": []
   },
   "source": [
    "## Input"
   ]
  },
  {
   "cell_type": "markdown",
   "id": "32f7b9c3-717d-4295-82e4-8ccf605577f8",
   "metadata": {
    "papermill": {},
    "tags": []
   },
   "source": [
    "### Import libraries"
   ]
  },
  {
   "cell_type": "code",
   "execution_count": null,
   "id": "c0867304-68ef-4db6-899e-3d779fa2fd66",
   "metadata": {
    "papermill": {},
    "tags": []
   },
   "outputs": [],
   "source": [
    "import requests\n",
    "from naas_drivers import github"
   ]
  },
  {
   "cell_type": "markdown",
   "id": "b5f5279d-8773-4085-a20a-84d94e63299d",
   "metadata": {
    "papermill": {},
    "tags": []
   },
   "source": [
    "## Setup Github\n",
    "**How to find your personal access token on Github?**\n",
    "\n",
    "- First we need to create a personal access token to get the details of our organization from [here](https://github.com/settings/tokens)\n",
    "- You will be asked to select scopes for the token. Which scopes you choose will determine what information and actions you will be able to perform against the API.\n",
    "- You should be careful with the ones prefixed with write:, delete: and admin: as these might be quite destructive.\n",
    "- You can find description of each scope in docs [here](https://docs.github.com/en/developers/apps/building-oauth-apps/scopes-for-oauth-apps)."
   ]
  },
  {
   "cell_type": "code",
   "execution_count": null,
   "id": "2d0f1dbd-ee73-43a0-b24b-40243ef48f43",
   "metadata": {
    "papermill": {},
    "tags": []
   },
   "outputs": [],
   "source": [
    "# GitHub token\n",
    "GITHUB_TOKEN = \"ENTER_YOUR_GITHUB_TOKEN_HERE\"  # EXAMPLE : \"ghp_fUYP0Z5i29AG4ggX8owctGnHU**********\"\n",
    "\n",
    "# GitHub teams url\n",
    "GITHUB_TEAMS_URL = \"ENTER_YOUR_GITHUB_TEAMS_URL_HERE\"  # EXAMPLE : \"https://github.com/orgs/jupyter-naas/teams/opensource-contributors\"\n",
    "\n",
    "# members to remove : str or list of members\n",
    "GITHUB_MEMBERS = \"ENTER_YOUR_USERS_TO_BE_DELETED_HERE\"  # EXAMPLE : \"FlorentLvr\" or [\"FlorentLvr\", \"Dr0p42\"]"
   ]
  },
  {
   "cell_type": "markdown",
   "id": "a97d86cb-26d8-4984-a160-9022d8aaff03",
   "metadata": {
    "papermill": {},
    "tags": []
   },
   "source": [
    "## Model"
   ]
  },
  {
   "cell_type": "markdown",
   "id": "8f6d40b8-dc3c-4270-989c-27bff97da9f2",
   "metadata": {
    "papermill": {},
    "tags": []
   },
   "source": [
    "### Remove members to team"
   ]
  },
  {
   "cell_type": "code",
   "execution_count": null,
   "id": "79550523-673a-439f-ae19-169374f91a3b",
   "metadata": {
    "papermill": {},
    "tags": []
   },
   "outputs": [],
   "source": [
    "def remove_members(team_url, members):\n",
    "    # Init output\n",
    "    members = []\n",
    "\n",
    "    # Get org id and team id\n",
    "    team_id = team_url.split(\"/teams/\")[-1].split(\"/\")[0]\n",
    "    team_org = team_url.split(\"https://github.com/orgs/\")[-1].split(\"/\")[0]\n",
    "\n",
    "    # Headers\n",
    "    headers = {\n",
    "        \"Authorization\": f\"token {GITHUB_TOKEN}\",\n",
    "        \"Accept\": \"application/vnd.github.v3+json\",\n",
    "    }\n",
    "\n",
    "    if isinstance(members, str):\n",
    "        members = [members]\n",
    "\n",
    "    # Remove members from team\n",
    "    for member in members:\n",
    "        member = member.split(\"https://github.com/\")[-1].split(\"/\")[0]\n",
    "        req_url = f\"https://api.github.com/orgs/{team_org}/teams/{team_id}/memberships/{member}\"\n",
    "        res = requests.delete(req_url, headers=headers)\n",
    "        res.raise_for_status()\n",
    "        if res.status_code == 204:\n",
    "            print(f\"✅ Member {member} successfully removed from your team {team_id}\")\n",
    "            data = {\"MEMBER\": member, \"TEAM\": team_id, \"STATUS\": \"Removed\"}\n",
    "            members.appen(member)\n",
    "    return pd.DataFrame(members)\n",
    "\n",
    "\n",
    "df_remove = remove_members(GITHUB_TEAMS_URL, GITHUB_MEMBERS)"
   ]
  },
  {
   "cell_type": "markdown",
   "id": "7f0ecd64-ac8a-4d73-a6b5-004e0c2d75a1",
   "metadata": {
    "papermill": {},
    "tags": []
   },
   "source": [
    "## Output"
   ]
  },
  {
   "cell_type": "markdown",
   "id": "448b0dcf-b135-47a6-bb06-5b0de2bdba36",
   "metadata": {
    "papermill": {},
    "tags": []
   },
   "source": [
    "### Member(s) removed"
   ]
  },
  {
   "cell_type": "code",
   "execution_count": null,
   "id": "3c7add0b-4b63-41c8-94cb-1b585a38249c",
   "metadata": {
    "papermill": {},
    "tags": []
   },
   "outputs": [],
   "source": [
    "df_remove"
   ]
  },
  {
   "cell_type": "markdown",
   "id": "8fea1605-85aa-4f23-8816-efa0e85112fd",
   "metadata": {
    "papermill": {},
    "tags": []
   },
   "source": [
    "The members are finally removed from the github teams :) !!"
   ]
  }
 ],
 "metadata": {
  "kernelspec": {
   "display_name": "Python 3",
   "language": "python",
   "name": "python3"
  },
  "language_info": {
   "codemirror_mode": {
    "name": "ipython",
    "version": 3
   },
   "file_extension": ".py",
   "mimetype": "text/x-python",
   "name": "python",
   "nbconvert_exporter": "python",
   "pygments_lexer": "ipython3",
   "version": "3.9.6"
  },
  "papermill": {
   "default_parameters": {},
   "environment_variables": {},
   "parameters": {},
   "version": "2.3.4"
  }
 },
 "nbformat": 4,
 "nbformat_minor": 5
}