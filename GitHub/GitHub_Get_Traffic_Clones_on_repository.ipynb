{
 "cells": [
  {
   "cell_type": "markdown",
   "id": "66ebba28-d5ca-47d7-83fc-f81a0410a771",
   "metadata": {
    "papermill": {},
    "tags": []
   },
   "source": [
    "<img width=\"10%\" alt=\"Naas\" src=\"https://landen.imgix.net/jtci2pxwjczr/assets/5ice39g4.png?w=160\"/>"
   ]
  },
  {
   "cell_type": "markdown",
   "id": "fc17d8d1-b687-4977-b137-fa0b4faf5037",
   "metadata": {
    "papermill": {},
    "tags": []
   },
   "source": [
    "# GitHub - Get Traffic Clones on repository\n",
    "<a href=\"https://app.naas.ai/user-redirect/naas/downloader?url=https://raw.githubusercontent.com/jupyter-naas/awesome-notebooks/master/GitHub/GitHub_Get_Traffic_Clones_on_repository.ipynb\" target=\"_parent\"><img src=\"https://naasai-public.s3.eu-west-3.amazonaws.com/Open_in_Naas_Lab.svg\"/></a><br><br><a href=\"https://github.com/jupyter-naas/awesome-notebooks/issues/new?assignees=&labels=&template=template-request.md&title=Tool+-+Action+of+the+notebook+\">Template request</a> | <a href=\"https://github.com/jupyter-naas/awesome-notebooks/issues/new?assignees=&labels=bug&template=bug_report.md&title=GitHub+-+Get+Traffic+Clones+on+repository:+Error+short+description\">Bug report</a> | <a href=\"https://app.naas.ai/user-redirect/naas/downloader?url=https://raw.githubusercontent.com/jupyter-naas/awesome-notebooks/master/Naas/Naas_Start_data_product.ipynb\" target=\"_parent\">Generate Data Product</a>"
   ]
  },
  {
   "cell_type": "markdown",
   "id": "b3dd16f4-07a1-4147-8608-a685821ae7a0",
   "metadata": {
    "papermill": {},
    "tags": []
   },
   "source": [
    "**Tags:** #github #api #traffic #clones #plotly #linechart"
   ]
  },
  {
   "cell_type": "markdown",
   "id": "d8b9eecc-80c7-4c63-b923-6ad4f45bd16d",
   "metadata": {
    "papermill": {},
    "tags": []
   },
   "source": [
    "**Author:** [Florent Ravenel](https://www.linkedin.com/in/florent-ravenel/)"
   ]
  },
  {
   "cell_type": "markdown",
   "id": "c655a064-0d03-4a2c-b72d-91cd42007165",
   "metadata": {
    "papermill": {},
    "tags": []
   },
   "source": [
    "**Description:** This notebook will show how to get traffic clones on a GitHub repository."
   ]
  },
  {
   "cell_type": "markdown",
   "id": "d4404e5c-a2e3-4191-b075-7d68ae8a7857",
   "metadata": {
    "papermill": {},
    "tags": []
   },
   "source": [
    "<u>References:</u>\n",
    "- [GitHub API Documentation](https://developer.github.com/v3/)\n",
    "- [GitHub Traffic API Documentation](https://developer.github.com/v3/repos/traffic/)"
   ]
  },
  {
   "cell_type": "markdown",
   "id": "8aad5006-40e8-4fdc-a28d-292710f72b0e",
   "metadata": {
    "papermill": {},
    "tags": []
   },
   "source": [
    "## Input"
   ]
  },
  {
   "cell_type": "markdown",
   "id": "335d36e2-4b99-4ea6-9bc4-e80ee36fb80f",
   "metadata": {
    "papermill": {},
    "tags": []
   },
   "source": [
    "### Import libraries"
   ]
  },
  {
   "cell_type": "code",
   "execution_count": 1,
   "id": "91d781b6-3cfb-4749-a201-10cc09eb3d94",
   "metadata": {
    "papermill": {},
    "tags": []
   },
   "outputs": [],
   "source": [
    "import requests\n",
    "import naas\n",
    "from pprint import pprint\n",
    "import pandas as pd\n",
    "import plotly.graph_objects as go"
   ]
  },
  {
   "cell_type": "markdown",
   "id": "eba823cf-42fb-4d39-946e-d9d004905ea6",
   "metadata": {
    "papermill": {},
    "tags": []
   },
   "source": [
    "### Setup Variables\n",
    "- Create your personal access token [here](https://github.com/settings/tokens)\n",
    "- Select all scopes on \"repo\" section"
   ]
  },
  {
   "cell_type": "code",
   "execution_count": 2,
   "id": "55053852-b170-468f-8600-068d07c17b7c",
   "metadata": {
    "papermill": {},
    "tags": []
   },
   "outputs": [],
   "source": [
    "repo_url = \"https://github.com/jupyter-naas/awesome-notebooks\"\n",
    "token = naas.secret.get(\"GITHUB_TOKEN\") or \"GITHUB_TOKEN\""
   ]
  },
  {
   "cell_type": "markdown",
   "id": "2b55c75f-72fa-46d4-9dbf-7e3665af30c5",
   "metadata": {
    "papermill": {},
    "tags": []
   },
   "source": [
    "## Model"
   ]
  },
  {
   "cell_type": "markdown",
   "id": "541ee917-0c71-4d1f-83e1-9b92e0f70497",
   "metadata": {
    "papermill": {},
    "tags": []
   },
   "source": [
    "### Get Traffic Clones"
   ]
  },
  {
   "cell_type": "markdown",
   "id": "9e931f52-32b0-4439-b481-49105ff637d9",
   "metadata": {
    "papermill": {},
    "tags": []
   },
   "source": [
    "This function will get the traffic clones of a GitHub repository."
   ]
  },
  {
   "cell_type": "code",
   "execution_count": 3,
   "id": "c3bc597b-69e2-4b6c-b90f-d99e4a0873cc",
   "metadata": {
    "papermill": {},
    "tags": []
   },
   "outputs": [],
   "source": [
    "def get_traffic_clones(repo_url, token):\n",
    "    # owner + name of the repository\n",
    "    owner = repo_url.split(\"/\")[-2]\n",
    "    name = repo_url.split(\"/\")[-1]\n",
    "    url = f\"https://api.github.com/repos/{owner}/{name}/traffic/clones\"\n",
    "    headers = {\"Authorization\": f\"token {token}\"}\n",
    "    response = requests.get(url, headers=headers)\n",
    "    return response.json()\n",
    "\n",
    "\n",
    "traffic_clones = get_traffic_clones(repo_url, token)\n",
    "pprint(traffic_clones)"
   ]
  },
  {
   "cell_type": "markdown",
   "id": "4e47dd6f-1224-4c32-a843-e4807853051f",
   "metadata": {
    "papermill": {},
    "tags": []
   },
   "source": [
    "## Output"
   ]
  },
  {
   "cell_type": "markdown",
   "id": "497766f3-b167-45b1-b2a7-4c4155a52dc9",
   "metadata": {
    "papermill": {},
    "tags": []
   },
   "source": [
    "### Display data"
   ]
  },
  {
   "cell_type": "code",
   "execution_count": 4,
   "id": "5c890939-b5a9-48d8-8036-54a006c8db54",
   "metadata": {
    "papermill": {},
    "tags": []
   },
   "outputs": [],
   "source": [
    "print(\"-> Git clones on the last 14 days\")\n",
    "print(f\"Clones count: {traffic_clones.get('count')}\")\n",
    "print(f\"Uniques cloner: {traffic_clones.get('uniques')}\")\n",
    "\n",
    "df = pd.DataFrame(traffic_clones.get(\"clones\"))\n",
    "df"
   ]
  },
  {
   "cell_type": "markdown",
   "id": "ddd22392-1c18-4734-9470-8c4506b46360",
   "metadata": {
    "papermill": {},
    "tags": []
   },
   "source": [
    "### Display graph"
   ]
  },
  {
   "cell_type": "code",
   "execution_count": 5,
   "id": "4441e27f-df78-45ae-82e3-1bd3d2108212",
   "metadata": {
    "papermill": {},
    "tags": []
   },
   "outputs": [],
   "source": [
    "fig = go.Figure()\n",
    "fig.add_trace(\n",
    "    go.Scatter(\n",
    "        name=\"count\",\n",
    "        x=df[\"timestamp\"],\n",
    "        y=df[\"count\"],\n",
    "        mode=\"lines+markers\",\n",
    "        marker=dict(color=\"blue\"),\n",
    "    )\n",
    ")\n",
    "fig.add_trace(\n",
    "    go.Scatter(\n",
    "        name=\"uniques\",\n",
    "        x=df[\"timestamp\"],\n",
    "        y=df[\"uniques\"],\n",
    "        mode=\"lines+markers\",\n",
    "        marker=dict(color=\"orange\"),\n",
    "    )\n",
    ")\n",
    "fig.update_layout(title=\"Git clones\")\n",
    "fig.show()"
   ]
  }
 ],
 "metadata": {
  "kernelspec": {
   "display_name": "Python 3",
   "language": "python",
   "name": "python3"
  },
  "language_info": {
   "codemirror_mode": {
    "name": "ipython",
    "version": 3
   },
   "file_extension": ".py",
   "mimetype": "text/x-python",
   "name": "python",
   "nbconvert_exporter": "python",
   "pygments_lexer": "ipython3",
   "version": "3.9.6"
  },
  "naas": {
   "notebook_id": "2d6e1a35712e37dcf78b873d165069cce01361f5c3800ddca0f1455a215c6bfd",
   "notebook_path": "GitHub/GitHub_Get_Traffic_Clones_on_repository.ipynb"
  },
  "papermill": {
   "default_parameters": {},
   "environment_variables": {},
   "parameters": {},
   "version": "2.4.0"
  },
  "widgets": {
   "application/vnd.jupyter.widget-state+json": {
    "state": {},
    "version_major": 2,
    "version_minor": 0
   }
  }
 },
 "nbformat": 4,
 "nbformat_minor": 5
}