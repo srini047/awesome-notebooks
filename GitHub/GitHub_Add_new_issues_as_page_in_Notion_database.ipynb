{
 "cells": [
  {
   "cell_type": "markdown",
   "id": "84cadd0c",
   "metadata": {
    "papermill": {},
    "tags": []
   },
   "source": [
    "<img width=\"10%\" alt=\"Naas\" src=\"https://landen.imgix.net/jtci2pxwjczr/assets/5ice39g4.png?w=160\"/>"
   ]
  },
  {
   "cell_type": "markdown",
   "id": "0d43ed38",
   "metadata": {
    "papermill": {},
    "tags": []
   },
   "source": [
    "# GitHub - Add new issues as page in Notion database\n",
    "<a href=\"https://app.naas.ai/user-redirect/naas/downloader?url=https://raw.githubusercontent.com/jupyter-naas/awesome-notebooks/master/GitHub/GitHub_Add_new_issues_as_page_in_Notion_database.ipynb\" target=\"_parent\"><img src=\"https://naasai-public.s3.eu-west-3.amazonaws.com/open_in_naas.svg\"/></a><br><br><a href=\"https://github.com/jupyter-naas/awesome-notebooks/issues/new?assignees=&labels=&template=template-request.md&title=Tool+-+Action+of+the+notebook+\">Template request</a> | <a href=\"https://github.com/jupyter-naas/awesome-notebooks/issues/new?assignees=&labels=bug&template=bug_report.md&title=GitHub+-+Add+new+issues+as+page+in+Notion+database:+Error+short+description\">Bug report</a>"
   ]
  },
  {
   "cell_type": "markdown",
   "id": "d9313642",
   "metadata": {
    "papermill": {},
    "tags": []
   },
   "source": [
    "**Tags:** #github #notion #operations #automation"
   ]
  },
  {
   "cell_type": "markdown",
   "id": "8faf487c",
   "metadata": {
    "papermill": {},
    "tags": []
   },
   "source": [
    "**Author:** [Sanjeet Attili](https://linkedin.com/in/sanjeet-attili-760bab190/)"
   ]
  },
  {
   "cell_type": "markdown",
   "id": "naas-description",
   "metadata": {
    "papermill": {},
    "tags": [
     "description"
    ]
   },
   "source": [
    "**Description:** This notebook allows users to add new GitHub issues as pages in a Notion database."
   ]
  },
  {
   "cell_type": "markdown",
   "id": "7412988b",
   "metadata": {
    "papermill": {},
    "tags": []
   },
   "source": [
    "## Input"
   ]
  },
  {
   "cell_type": "markdown",
   "id": "b483a140",
   "metadata": {
    "papermill": {},
    "tags": []
   },
   "source": [
    "### Import libraries"
   ]
  },
  {
   "cell_type": "code",
   "execution_count": null,
   "id": "353ef79c",
   "metadata": {
    "papermill": {},
    "tags": []
   },
   "outputs": [],
   "source": [
    "import naas\n",
    "from naas_drivers import notion, github"
   ]
  },
  {
   "cell_type": "markdown",
   "id": "68b48858",
   "metadata": {
    "papermill": {},
    "tags": []
   },
   "source": [
    "### Setup GitHub\n",
    "**How to find your personal access token on GitHub?**\n",
    "\n",
    "- First we need to create a personal access token to get the details of our organization from here: https://github.com/settings/tokens\n",
    "- You will be asked to select scopes for the token. Which scopes you choose will determine what information and actions you will be able to perform against the API.\n",
    "- You should be careful with the ones prefixed with write:, delete: and admin: as these might be quite destructive.\n",
    "- You can find description of each scope in docs here (https://docs.github.com/en/developers/apps/building-oauth-apps/scopes-for-oauth-apps)."
   ]
  },
  {
   "cell_type": "code",
   "execution_count": null,
   "id": "01647a55",
   "metadata": {
    "papermill": {},
    "tags": []
   },
   "outputs": [],
   "source": [
    "# GitHub token\n",
    "GITHUB_TOKEN = \"ENTER_YOUR_GITHUB_TOKEN_HERE\"  # EXAMPLE : \"ghp_fUYP0Z5i29AG4ggX8owctGnHU**********\"\n",
    "\n",
    "# Github repo on which we want to create issues.\n",
    "REPO_URL = \"ENTER_YOUR_REPO_URL_HERE\"  # EXAMPLE : \"https://github.com/jupyter-naas/awesome-notebooks/\""
   ]
  },
  {
   "cell_type": "markdown",
   "id": "1e00b224",
   "metadata": {
    "papermill": {},
    "tags": []
   },
   "source": [
    "### Setup Notion\n",
    "<a href='https://docs.naas.ai/drivers/notion'>How to get your Notion integration token ?</a>"
   ]
  },
  {
   "cell_type": "code",
   "execution_count": null,
   "id": "d130b46b",
   "metadata": {
    "papermill": {},
    "tags": []
   },
   "outputs": [],
   "source": [
    "# Notion token\n",
    "NOTION_TOKEN = \"ENTER_YOUR_NOTION_TOKEN_HERE\"  # EXAMPLE : \"secret_xxskqjlodshfiqs\"\n",
    "\n",
    "# Notion database URL\n",
    "DATABASE_URL = \"https://www.notion.so/naas-official/f42d6592949axxxxxxxxxxxxx\"  # EXAMPLE : \"https://www.notion.so/naas-official/f42d6592949axxxxxxxxxxxxx\""
   ]
  },
  {
   "cell_type": "markdown",
   "id": "d10e6972",
   "metadata": {
    "papermill": {},
    "tags": []
   },
   "source": [
    "### Setup Naas scheduler"
   ]
  },
  {
   "cell_type": "code",
   "execution_count": null,
   "id": "518ee97b",
   "metadata": {
    "papermill": {},
    "tags": []
   },
   "outputs": [],
   "source": [
    "# Schedule your notebook every 15 minutes.\n",
    "naas.scheduler.add(cron=\"*/15 * * * *\")\n",
    "\n",
    "# -> Uncomment the line below to remove your scheduler\n",
    "# naas.scheduler.delete()"
   ]
  },
  {
   "cell_type": "markdown",
   "id": "93347abb",
   "metadata": {
    "papermill": {},
    "tags": []
   },
   "source": [
    "## Model\n"
   ]
  },
  {
   "cell_type": "markdown",
   "id": "0f0264bf",
   "metadata": {
    "papermill": {},
    "tags": []
   },
   "source": [
    "### Query Notion database"
   ]
  },
  {
   "cell_type": "code",
   "execution_count": null,
   "id": "f5d8c1e7",
   "metadata": {
    "papermill": {},
    "tags": []
   },
   "outputs": [],
   "source": [
    "notion_database_id = DATABASE_URL.split(\"/\")[-1].split(\"?v=\")[0]\n",
    "db_notion = notion.connect(NOTION_TOKEN).database.get(notion_database_id)\n",
    "df_notion = db_notion.df()\n",
    "\n",
    "for idx, row in df_notion.iterrows():\n",
    "    if row.Name == \"\":\n",
    "        df_notion.drop(index=idx, inplace=True)\n",
    "    try:\n",
    "        df_notion.drop(columns=[\"Tags\"], inplace=True)\n",
    "    except KeyError:\n",
    "        pass\n",
    "\n",
    "df_notion"
   ]
  },
  {
   "cell_type": "markdown",
   "id": "18f1066e",
   "metadata": {
    "papermill": {},
    "tags": []
   },
   "source": [
    "### Get GitHub issues"
   ]
  },
  {
   "cell_type": "code",
   "execution_count": null,
   "id": "3d4e2489",
   "metadata": {
    "papermill": {},
    "tags": []
   },
   "outputs": [],
   "source": [
    "df_issues = github.connect(GITHUB_TOKEN).repos.get_issues(REPO_URL)\n",
    "df_issues.head()"
   ]
  },
  {
   "cell_type": "markdown",
   "id": "4f9034d2",
   "metadata": {
    "papermill": {},
    "tags": []
   },
   "source": [
    "### Create Notion page from GitHub issue"
   ]
  },
  {
   "cell_type": "code",
   "execution_count": null,
   "id": "cc5aca0f",
   "metadata": {
    "papermill": {},
    "tags": []
   },
   "outputs": [],
   "source": [
    "def notion_page_from_gh_issue(issue, notion_database_id):\n",
    "    if len(df_notion) == 0:\n",
    "        pass\n",
    "    elif len(df_notion) != 0 and str(issue.issue_id) in df_notion.Issue_id.to_list():\n",
    "        return \"issue already exists in database\"\n",
    "\n",
    "    page = notion.connect(NOTION_TOKEN).page.create(\n",
    "        database_id=notion_database_id, title=issue.issue_title\n",
    "    )\n",
    "    page.rich_text(\"URL\", issue.link_to_the_issue)\n",
    "    page.rich_text(\"Assignees\", issue.issue_assignees)\n",
    "    page.number(\"Issue_id\", issue.issue_id)\n",
    "    page.date(\n",
    "        \"Last_created\",\n",
    "        str(issue.last_created_date) + \"T\" + str(issue.last_created_time),\n",
    "    )\n",
    "    page.update()\n",
    "    return \"Done\""
   ]
  },
  {
   "cell_type": "markdown",
   "id": "b819d06a",
   "metadata": {
    "papermill": {},
    "tags": []
   },
   "source": [
    "## Output\n"
   ]
  },
  {
   "cell_type": "markdown",
   "id": "20d38845",
   "metadata": {
    "papermill": {},
    "tags": []
   },
   "source": [
    "### Iterate over each issue.\n"
   ]
  },
  {
   "cell_type": "code",
   "execution_count": null,
   "id": "00fa33b2",
   "metadata": {
    "papermill": {},
    "tags": []
   },
   "outputs": [],
   "source": [
    "for idx, issue in df_issues.iterrows():\n",
    "    val = notion_page_from_gh_issue(issue, notion_database_id)\n",
    "    if val == \"issue already exists in database\":\n",
    "        print(\"Database up to date!\")\n",
    "        break\n",
    "    print(f\"✅ Notion page created for issue {issue.link_to_the_issue}\")"
   ]
  }
 ],
 "metadata": {
  "kernelspec": {
   "display_name": "Python 3",
   "language": "python",
   "name": "python3"
  },
  "language_info": {
   "codemirror_mode": {
    "name": "ipython",
    "version": 3
   },
   "file_extension": ".py",
   "mimetype": "text/x-python",
   "name": "python",
   "nbconvert_exporter": "python",
   "pygments_lexer": "ipython3",
   "version": "3.9.6"
  },
  "papermill": {
   "default_parameters": {},
   "environment_variables": {},
   "parameters": {},
   "version": "2.3.4"
  }
 },
 "nbformat": 4,
 "nbformat_minor": 5
}