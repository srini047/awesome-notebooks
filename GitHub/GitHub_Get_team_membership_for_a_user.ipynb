{
 "cells": [
  {
   "cell_type": "markdown",
   "id": "28dd811d-ced4-4b1a-873c-e70c87b0f835",
   "metadata": {
    "papermill": {},
    "tags": []
   },
   "source": [
    "<img width=\"10%\" alt=\"Naas\" src=\"https://landen.imgix.net/jtci2pxwjczr/assets/5ice39g4.png?w=160\"/>"
   ]
  },
  {
   "cell_type": "markdown",
   "id": "6874e12b-813a-4cab-9778-b310d0b10f56",
   "metadata": {
    "papermill": {},
    "tags": []
   },
   "source": [
    "# GitHub - Get team membership for a user\n",
    "<a href=\"https://app.naas.ai/user-redirect/naas/downloader?url=https://raw.githubusercontent.com/jupyter-naas/awesome-notebooks/master/GitHub/GitHub_Get_team_membership_for_a_user.ipynb\" target=\"_parent\"><img src=\"https://naasai-public.s3.eu-west-3.amazonaws.com/Open_in_Naas_Lab.svg\"/></a><br><br><a href=\"https://github.com/jupyter-naas/awesome-notebooks/issues/new?assignees=&labels=&template=template-request.md&title=Tool+-+Action+of+the+notebook+\">Template request</a> | <a href=\"https://github.com/jupyter-naas/awesome-notebooks/issues/new?assignees=&labels=bug&template=bug_report.md&title=GitHub+-+Get+team+membership+for+a+user:+Error+short+description\">Bug report</a> | <a href=\"https://app.naas.ai/user-redirect/naas/downloader?url=https://raw.githubusercontent.com/jupyter-naas/awesome-notebooks/master/Naas/Naas_Start_data_product.ipynb\" target=\"_parent\">Generate Data Product</a>"
   ]
  },
  {
   "cell_type": "markdown",
   "id": "ce710985-97e4-4ce8-a34e-777cd98bf795",
   "metadata": {
    "papermill": {},
    "tags": []
   },
   "source": [
    "**Tags:** #github #teams #members #rest #api #python #snippet"
   ]
  },
  {
   "cell_type": "markdown",
   "id": "0eae3620-fbc8-4b46-8621-ebf6fcbd9820",
   "metadata": {
    "papermill": {},
    "tags": []
   },
   "source": [
    "**Author:** [Florent Ravenel](http://linkedin.com/in/florent-ravenel)"
   ]
  },
  {
   "cell_type": "markdown",
   "id": "39753038-1387-440b-ae4a-4f4851b320c1",
   "metadata": {
    "papermill": {},
    "tags": []
   },
   "source": [
    "**Description:** This notebook get team membership for a user. It will return a dictionary with the state, role and url of the membership."
   ]
  },
  {
   "cell_type": "markdown",
   "id": "90c72cb6-d72b-4dc5-b40c-995603afe9b3",
   "metadata": {
    "papermill": {},
    "tags": []
   },
   "source": [
    "**References:**\n",
    "- [GitHub REST API - Get team membership for a user](https://docs.github.com/fr/rest/teams/members?apiVersion=2022-11-28#get-team-membership-for-a-user)"
   ]
  },
  {
   "cell_type": "markdown",
   "id": "6714a432-bf79-47aa-8744-a559e4e8ba3f",
   "metadata": {
    "papermill": {},
    "tags": []
   },
   "source": [
    "## Input"
   ]
  },
  {
   "cell_type": "markdown",
   "id": "f8d3f971-4df0-49e5-97be-3d39130afbcf",
   "metadata": {
    "papermill": {},
    "tags": []
   },
   "source": [
    "### Import libraries"
   ]
  },
  {
   "cell_type": "code",
   "execution_count": null,
   "id": "0b0af312-10dc-4051-aac3-de13b7698355",
   "metadata": {
    "papermill": {},
    "tags": []
   },
   "outputs": [],
   "source": [
    "import requests\n",
    "import naas"
   ]
  },
  {
   "cell_type": "markdown",
   "id": "b525c613-ff33-442c-9cfb-ae11161af7a1",
   "metadata": {
    "papermill": {},
    "tags": []
   },
   "source": [
    "### Setup Variables\n",
    "- `token`: [GitHub personal access token](https://github.com/settings/tokens)\n",
    "- `org_id`: ID of the organization\n",
    "- `team_id`: ID of the team\n",
    "- `username`: GitHub username"
   ]
  },
  {
   "cell_type": "code",
   "execution_count": null,
   "id": "2128369d-1fdd-4457-a5e6-a35c6377f3b5",
   "metadata": {
    "papermill": {},
    "tags": []
   },
   "outputs": [],
   "source": [
    "token = naas.secret.get(\"GITHUB_TOKEN\") or \"GITHUB_TOKEN\"\n",
    "org_id = \"jupyter-naas\"\n",
    "team_id = \"<team_id>\"\n",
    "username = \"<username>\""
   ]
  },
  {
   "cell_type": "markdown",
   "id": "61252d34-3808-4554-84b3-c7d408dc45dd",
   "metadata": {
    "papermill": {},
    "tags": []
   },
   "source": [
    "## Model"
   ]
  },
  {
   "cell_type": "markdown",
   "id": "3b6513ad-ceb6-4e36-bbee-14a5beae25b1",
   "metadata": {
    "papermill": {},
    "tags": []
   },
   "source": [
    "### Get team membership for a user"
   ]
  },
  {
   "cell_type": "code",
   "execution_count": null,
   "id": "49f38a0e-178c-47aa-8806-4f2dc551a898",
   "metadata": {
    "papermill": {},
    "tags": []
   },
   "outputs": [],
   "source": [
    "def get_team_membership(token, org, team, username):\n",
    "    # Init\n",
    "    res_json = None\n",
    "    \n",
    "    # Request\n",
    "    url = f\"https://api.github.com/orgs/{org}/teams/{team}/memberships/{username}\"\n",
    "    headers = {\n",
    "        \"Authorization\": f\"token {token}\",\n",
    "        \"Accept\": \"application/vnd.github.hellcat-preview+json\",\n",
    "    }\n",
    "    res = requests.get(url, headers=headers)\n",
    "    \n",
    "    # Result\n",
    "    if res.status_code == 200:\n",
    "        print(f\"✅ User '{username }' found in '{org}/{team}'\")\n",
    "        res_json = res.json()\n",
    "    else:\n",
    "        print(f\"❌ User not found in '{org}/{team}'\")\n",
    "    return res_json"
   ]
  },
  {
   "cell_type": "markdown",
   "id": "973f7b2d-c226-499e-a264-7a8709312b56",
   "metadata": {
    "papermill": {},
    "tags": []
   },
   "source": [
    "## Output"
   ]
  },
  {
   "cell_type": "markdown",
   "id": "303415f3-8b60-4ab8-ab59-73e2b77be3ac",
   "metadata": {
    "papermill": {},
    "tags": []
   },
   "source": [
    "### Display result"
   ]
  },
  {
   "cell_type": "code",
   "execution_count": null,
   "id": "8386cbca-1ed2-479b-924b-0a6c68bd49b7",
   "metadata": {
    "papermill": {},
    "tags": []
   },
   "outputs": [],
   "source": [
    "membership = get_team_membership(token, org_id, team_id, username)\n",
    "if membership:\n",
    "    print(membership)"
   ]
  },
  {
   "cell_type": "markdown",
   "id": "ef0a2a53-02d4-4ea2-b5b1-86b0024ab1be",
   "metadata": {
    "papermill": {},
    "tags": []
   },
   "source": [
    " "
   ]
  }
 ],
 "metadata": {
  "kernelspec": {
   "display_name": "Python 3",
   "language": "python",
   "name": "python3"
  },
  "language_info": {
   "codemirror_mode": {
    "name": "ipython",
    "version": 3
   },
   "file_extension": ".py",
   "mimetype": "text/x-python",
   "name": "python",
   "nbconvert_exporter": "python",
   "pygments_lexer": "ipython3",
   "version": "3.9.6"
  },
  "naas": {
   "notebook_id": "cff3ad5e2da30b6e823aef6421cf3d08a71a70e60c8fde077ba9952f06c9624e",
   "notebook_path": "GitHub/GitHub_Get_team_membership_for_a_user.ipynb"
  },
  "papermill": {
   "default_parameters": {},
   "environment_variables": {},
   "parameters": {},
   "version": "2.4.0"
  },
  "widgets": {
   "application/vnd.jupyter.widget-state+json": {
    "state": {},
    "version_major": 2,
    "version_minor": 0
   }
  }
 },
 "nbformat": 4,
 "nbformat_minor": 5
}