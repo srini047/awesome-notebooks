{
 "cells": [
  {
   "cell_type": "markdown",
   "id": "2a3332d4-af82-468d-a185-95ef66198c22",
   "metadata": {
    "papermill": {},
    "tags": []
   },
   "source": [
    "<img width=\"10%\" alt=\"Naas\" src=\"https://landen.imgix.net/jtci2pxwjczr/assets/5ice39g4.png?w=160\"/>"
   ]
  },
  {
   "cell_type": "markdown",
   "id": "aboriginal-overall",
   "metadata": {
    "papermill": {},
    "tags": []
   },
   "source": [
    "# GitHub - Peform basic actions\n",
    "<a href=\"https://app.naas.ai/user-redirect/naas/downloader?url=https://raw.githubusercontent.com/jupyter-naas/awesome-notebooks/master/GitHub/GitHub_Peform_basic_actions.ipynb\" target=\"_parent\"><img src=\"https://naasai-public.s3.eu-west-3.amazonaws.com/Open_in_Naas_Lab.svg\"/></a><br><br><a href=\"https://github.com/jupyter-naas/awesome-notebooks/issues/new?assignees=&labels=&template=template-request.md&title=Tool+-+Action+of+the+notebook+\">Template request</a> | <a href=\"https://github.com/jupyter-naas/awesome-notebooks/issues/new?assignees=&labels=bug&template=bug_report.md&title=GitHub+-+Peform+basic+actions:+Error+short+description\">Bug report</a> | <a href=\"https://app.naas.ai/user-redirect/naas/downloader?url=https://raw.githubusercontent.com/jupyter-naas/awesome-notebooks/master/Naas/Naas_Start_data_product.ipynb\" target=\"_parent\">Generate Data Product</a>"
   ]
  },
  {
   "cell_type": "markdown",
   "id": "tags_cell",
   "metadata": {
    "papermill": {},
    "tags": []
   },
   "source": [
    "**Tags:** #github #productivity #code #operations #snippet"
   ]
  },
  {
   "cell_type": "markdown",
   "id": "c8dba8af-01f5-4e05-ac60-458bf599f6c9",
   "metadata": {
    "papermill": {},
    "tags": []
   },
   "source": [
    "**Author:** [Jeremy Ravenel](https://www.linkedin.com/in/ACoAAAJHE7sB5OxuKHuzguZ9L6lfDHqw--cdnJg/)"
   ]
  },
  {
   "cell_type": "markdown",
   "id": "naas-description",
   "metadata": {
    "papermill": {},
    "tags": [
     "description"
    ]
   },
   "source": [
    "**Description:** This notebook provides instructions on how to use GitHub to perform basic tasks."
   ]
  },
  {
   "cell_type": "markdown",
   "id": "input_cell",
   "metadata": {
    "papermill": {},
    "tags": []
   },
   "source": [
    "## Input"
   ]
  },
  {
   "cell_type": "markdown",
   "id": "e8a434a9-af18-441f-9e21-3e82b0e8100a",
   "metadata": {
    "papermill": {},
    "tags": []
   },
   "source": [
    "### Import library"
   ]
  },
  {
   "cell_type": "code",
   "execution_count": null,
   "id": "c749d1b6-732a-4003-adad-2712d23bfcf1",
   "metadata": {
    "papermill": {},
    "tags": []
   },
   "outputs": [],
   "source": [
    "from git_lib import Git"
   ]
  },
  {
   "cell_type": "markdown",
   "id": "model_cell",
   "metadata": {
    "papermill": {},
    "tags": []
   },
   "source": [
    "## Model"
   ]
  },
  {
   "cell_type": "markdown",
   "id": "indirect-closing",
   "metadata": {
    "papermill": {},
    "tags": []
   },
   "source": [
    "### Configuration attribute description\n",
    "- username : Git username\n",
    "- password : Git password\n",
    "- github_url : Git url to clone\n",
    "- branch : Branch name on which perform action\n",
    "- target_folder : Folder name of which clone,commit,push,pull,checkout has to be performed\n",
    "- action : Action you wish to perform **(clone,commit,push,pull,checkout)**\n",
    "- commit_message : Any message you wish to pass while commit"
   ]
  },
  {
   "cell_type": "markdown",
   "id": "psychological-technical",
   "metadata": {
    "papermill": {},
    "tags": []
   },
   "source": [
    "### Git configuration"
   ]
  },
  {
   "cell_type": "code",
   "execution_count": 7,
   "id": "directed-employee",
   "metadata": {
    "papermill": {},
    "tags": []
   },
   "outputs": [],
   "source": [
    "config = {\n",
    "    \"username\": \"< Your github username >\",\n",
    "    \"password\": \"< Your github password >\",\n",
    "    \"github_url\": \"< Github url >\",\n",
    "    \"branch\": \"< Github branch name >\",\n",
    "    \"target_folder\": \"< Folder name >\",\n",
    "    \"action\": \"< Github action >\",\n",
    "    \"commit_message\": \"< Your message for commit >\",\n",
    "}"
   ]
  },
  {
   "cell_type": "markdown",
   "id": "output_cell",
   "metadata": {
    "papermill": {},
    "tags": []
   },
   "source": [
    "## Output"
   ]
  },
  {
   "cell_type": "markdown",
   "id": "unlike-province",
   "metadata": {
    "papermill": {},
    "tags": []
   },
   "source": [
    "### Execute Github connector"
   ]
  },
  {
   "cell_type": "code",
   "execution_count": 8,
   "id": "native-collectible",
   "metadata": {
    "papermill": {},
    "tags": []
   },
   "outputs": [],
   "source": [
    "git_instance = Git(config)"
   ]
  }
 ],
 "metadata": {
  "kernelspec": {
   "display_name": "Python 3",
   "language": "python",
   "name": "python3"
  },
  "language_info": {
   "codemirror_mode": {
    "name": "ipython",
    "version": 3
   },
   "file_extension": ".py",
   "mimetype": "text/x-python",
   "name": "python",
   "nbconvert_exporter": "python",
   "pygments_lexer": "ipython3",
   "version": "3.9.6"
  },
  "naas": {
   "notebook_id": "8591114911bf4f214706b00f87ba2c2ac8b8ac4af35a244bee65923f75841c03",
   "notebook_path": "GitHub/GitHub_Peform_basic_actions.ipynb"
  },
  "papermill": {
   "default_parameters": {},
   "environment_variables": {},
   "parameters": {},
   "version": "2.3.3"
  }
 },
 "nbformat": 4,
 "nbformat_minor": 5
}