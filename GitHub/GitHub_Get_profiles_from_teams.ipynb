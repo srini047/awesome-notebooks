{
 "cells": [
  {
   "cell_type": "markdown",
   "id": "134abbdf-6bc6-44d7-a320-6d6add8c527c",
   "metadata": {
    "papermill": {},
    "tags": []
   },
   "source": [
    "<img width=\"10%\" alt=\"Naas\" src=\"https://landen.imgix.net/jtci2pxwjczr/assets/5ice39g4.png?w=160\"/>"
   ]
  },
  {
   "cell_type": "markdown",
   "id": "4cb5fcb7-4390-4e38-825f-59a318d11b7b",
   "metadata": {
    "papermill": {},
    "tags": []
   },
   "source": [
    "# GitHub - Get profiles from teams\n",
    "<a href=\"https://app.naas.ai/user-redirect/naas/downloader?url=https://raw.githubusercontent.com/jupyter-naas/awesome-notebooks/master/GitHub/GitHub_Get_profiles_from_teams.ipynb\" target=\"_parent\"><img src=\"https://naasai-public.s3.eu-west-3.amazonaws.com/open_in_naas.svg\"/></a><br><br><a href=\"https://github.com/jupyter-naas/awesome-notebooks/issues/new?assignees=&labels=&template=template-request.md&title=Tool+-+Action+of+the+notebook+\">Template request</a> | <a href=\"https://github.com/jupyter-naas/awesome-notebooks/issues/new?assignees=&labels=bug&template=bug_report.md&title=GitHub+-+Get+profiles+from+teams:+Error+short+description\">Bug report</a>"
   ]
  },
  {
   "cell_type": "markdown",
   "id": "30c49f0d-b304-45f8-bcc5-5a8311b3f404",
   "metadata": {
    "papermill": {},
    "tags": []
   },
   "source": [
    "**Tags:** #github #team #operations #snippet #dataframe"
   ]
  },
  {
   "cell_type": "markdown",
   "id": "8d87b08f-a95c-41d7-9acb-677a1658c106",
   "metadata": {
    "papermill": {},
    "tags": []
   },
   "source": [
    "**Author:** [Sanjeet Attili](https://www.linkedin.com/in/sanjeet-attili-760bab190/)"
   ]
  },
  {
   "cell_type": "markdown",
   "id": "naas-description",
   "metadata": {
    "papermill": {},
    "tags": [
     "description"
    ]
   },
   "source": [
    "**Description:** This notebook allows users to retrieve profiles from teams on GitHub."
   ]
  },
  {
   "cell_type": "markdown",
   "id": "9a776aae-914a-4133-a39d-a02ab6b88b49",
   "metadata": {
    "papermill": {},
    "tags": []
   },
   "source": [
    "## Input"
   ]
  },
  {
   "cell_type": "markdown",
   "id": "5c058b65-7577-44a4-aa3c-c0570cb9f806",
   "metadata": {
    "papermill": {},
    "tags": []
   },
   "source": [
    "### Import libraries"
   ]
  },
  {
   "cell_type": "code",
   "execution_count": 1,
   "id": "6675fff8-1cf3-4849-b108-3cb1f8e12e99",
   "metadata": {
    "execution": {
     "iopub.execute_input": "2022-06-07T06:03:46.979780Z",
     "iopub.status.busy": "2022-06-07T06:03:46.979393Z",
     "iopub.status.idle": "2022-06-07T06:03:47.454470Z",
     "shell.execute_reply": "2022-06-07T06:03:47.453872Z",
     "shell.execute_reply.started": "2022-06-07T06:03:46.979676Z"
    },
    "papermill": {},
    "tags": []
   },
   "outputs": [],
   "source": [
    "from naas_drivers import github"
   ]
  },
  {
   "cell_type": "markdown",
   "id": "2914fd03-fd37-4e64-a667-4143cf94920d",
   "metadata": {
    "papermill": {},
    "tags": []
   },
   "source": [
    "### Setup Github"
   ]
  },
  {
   "cell_type": "markdown",
   "id": "00a7d47e-241c-4570-8ea7-ea52e8e56073",
   "metadata": {
    "papermill": {},
    "tags": []
   },
   "source": [
    "**How to find your personal access token on Github?** \n",
    "- First we need to create a personal access token to get the details of our organization from here: https://github.com/settings/tokens\n",
    "- You will be asked to select scopes for the token. Which scopes you choose will determine what information and actions you will be able to perform against the API. \n",
    "- You should be careful with the ones prefixed with write:, delete: and admin: as these might be quite destructive. \n",
    "- You can find description of each scope in docs here (https://docs.github.com/en/developers/apps/building-oauth-apps/scopes-for-oauth-apps).\n"
   ]
  },
  {
   "cell_type": "markdown",
   "id": "3a30205c-4cf4-43ad-ba44-ca0a318bebb7",
   "metadata": {
    "papermill": {},
    "tags": []
   },
   "source": [
    "### Variables"
   ]
  },
  {
   "cell_type": "code",
   "execution_count": 2,
   "id": "461c6e09-8d30-411e-9a14-057e23825401",
   "metadata": {
    "execution": {
     "iopub.execute_input": "2022-06-07T06:03:50.658342Z",
     "iopub.status.busy": "2022-06-07T06:03:50.658040Z",
     "iopub.status.idle": "2022-06-07T06:03:50.664761Z",
     "shell.execute_reply": "2022-06-07T06:03:50.664090Z",
     "shell.execute_reply.started": "2022-06-07T06:03:50.658310Z"
    },
    "papermill": {},
    "tags": []
   },
   "outputs": [],
   "source": [
    "TEAM_URL = \"https://github.com/orgs/jupyter-naas/teams\"\n",
    "\n",
    "GITHUB_TOKEN = \"ghp_PITkKHTBIbcXXXXXXXXXXXXXX\""
   ]
  },
  {
   "cell_type": "markdown",
   "id": "b0813a9b-6f79-4e1d-a3ac-27517ee3014c",
   "metadata": {
    "papermill": {},
    "tags": []
   },
   "source": [
    "## Model"
   ]
  },
  {
   "cell_type": "code",
   "execution_count": 3,
   "id": "46d7f7b9-2ce8-4753-91f7-dbe99433c38d",
   "metadata": {
    "execution": {
     "iopub.execute_input": "2022-06-07T06:03:51.737457Z",
     "iopub.status.busy": "2022-06-07T06:03:51.737152Z",
     "iopub.status.idle": "2022-06-07T06:04:16.544804Z",
     "shell.execute_reply": "2022-06-07T06:04:16.544074Z",
     "shell.execute_reply.started": "2022-06-07T06:03:51.737421Z"
    },
    "papermill": {},
    "tags": []
   },
   "outputs": [],
   "source": [
    "df_teams = github.connect(GITHUB_TOKEN).teams.get_profiles(TEAM_URL)"
   ]
  },
  {
   "cell_type": "markdown",
   "id": "526599d6-7548-4ed6-b28c-002958ed0e98",
   "metadata": {
    "papermill": {},
    "tags": []
   },
   "source": [
    "## Output"
   ]
  },
  {
   "cell_type": "code",
   "execution_count": 4,
   "id": "3186bb57-9e7f-4a86-bd4d-4314ffbf3270",
   "metadata": {
    "execution": {
     "iopub.execute_input": "2022-06-07T06:04:16.546246Z",
     "iopub.status.busy": "2022-06-07T06:04:16.546009Z",
     "iopub.status.idle": "2022-06-07T06:04:16.592323Z",
     "shell.execute_reply": "2022-06-07T06:04:16.591710Z",
     "shell.execute_reply.started": "2022-06-07T06:04:16.546216Z"
    },
    "papermill": {},
    "tags": []
   },
   "outputs": [],
   "source": [
    "print(f\"Dataset size -> {df_teams.shape}\")\n",
    "df_teams.head(25)"
   ]
  }
 ],
 "metadata": {
  "kernelspec": {
   "display_name": "Python 3",
   "language": "python",
   "name": "python3"
  },
  "language_info": {
   "codemirror_mode": {
    "name": "ipython",
    "version": 3
   },
   "file_extension": ".py",
   "mimetype": "text/x-python",
   "name": "python",
   "nbconvert_exporter": "python",
   "pygments_lexer": "ipython3",
   "version": "3.9.6"
  },
  "naas": {
   "notebook_id": "f9b733d8-2648-4e9d-913b-a0023ec28268",
   "notebook_path": "GitHub/GitHub_Get_profiles_from_teams.ipynb"
  },
  "papermill": {
   "default_parameters": {},
   "environment_variables": {},
   "parameters": {},
   "version": "2.3.4"
  }
 },
 "nbformat": 4,
 "nbformat_minor": 5
}