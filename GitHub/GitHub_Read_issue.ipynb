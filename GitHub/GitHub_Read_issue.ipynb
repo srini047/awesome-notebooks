{
 "cells": [
  {
   "cell_type": "markdown",
   "id": "radical-progress",
   "metadata": {
    "papermill": {},
    "tags": []
   },
   "source": [
    "<img width=\"10%\" alt=\"Naas\" src=\"https://landen.imgix.net/jtci2pxwjczr/assets/5ice39g4.png?w=160\"/>"
   ]
  },
  {
   "cell_type": "markdown",
   "id": "hazardous-promise",
   "metadata": {
    "papermill": {},
    "tags": []
   },
   "source": [
    "# GitHub - Read issue\n",
    "<a href=\"https://app.naas.ai/user-redirect/naas/downloader?url=https://raw.githubusercontent.com/jupyter-naas/awesome-notebooks/master/GitHub/GitHub_Read_issue.ipynb\" target=\"_parent\"><img src=\"https://naasai-public.s3.eu-west-3.amazonaws.com/Open_in_Naas_Lab.svg\"/></a><br><br><a href=\"https://github.com/jupyter-naas/awesome-notebooks/issues/new?assignees=&labels=&template=template-request.md&title=Tool+-+Action+of+the+notebook+\">Template request</a> | <a href=\"https://github.com/jupyter-naas/awesome-notebooks/issues/new?assignees=&labels=bug&template=bug_report.md&title=GitHub+-+Read+issue:+Error+short+description\">Bug report</a> | <a href=\"https://app.naas.ai/user-redirect/naas/downloader?url=https://raw.githubusercontent.com/jupyter-naas/awesome-notebooks/master/Naas/Naas_Start_data_product.ipynb\" target=\"_parent\">Generate Data Product</a>"
   ]
  },
  {
   "cell_type": "markdown",
   "id": "tags_cell",
   "metadata": {
    "papermill": {},
    "tags": []
   },
   "source": [
    "**Tags:** #github #productivity #code #operations #snippet"
   ]
  },
  {
   "cell_type": "markdown",
   "id": "60b09e32-135a-45b1-b361-312325903508",
   "metadata": {
    "papermill": {},
    "tags": []
   },
   "source": [
    "**Author:** [Jeremy Ravenel](https://www.linkedin.com/in/ACoAAAJHE7sB5OxuKHuzguZ9L6lfDHqw--cdnJg/)"
   ]
  },
  {
   "cell_type": "markdown",
   "id": "naas-description",
   "metadata": {
    "papermill": {},
    "tags": [
     "description"
    ]
   },
   "source": [
    "**Description:** This notebook provides instructions on how to read and understand issues on GitHub."
   ]
  },
  {
   "cell_type": "markdown",
   "id": "input_cell",
   "metadata": {
    "papermill": {},
    "tags": []
   },
   "source": [
    "## Input"
   ]
  },
  {
   "cell_type": "markdown",
   "id": "e4cbdbdd-de3c-472d-a1c9-fa8a6ac1e56d",
   "metadata": {
    "papermill": {},
    "tags": []
   },
   "source": [
    "### Import Library"
   ]
  },
  {
   "cell_type": "code",
   "execution_count": null,
   "id": "a09bdb08-5653-4619-8962-080c21416f10",
   "metadata": {
    "papermill": {},
    "tags": []
   },
   "outputs": [],
   "source": [
    "from github import Github"
   ]
  },
  {
   "cell_type": "markdown",
   "id": "regulation-steering",
   "metadata": {
    "papermill": {},
    "tags": []
   },
   "source": [
    "### Enter repository path and token"
   ]
  },
  {
   "cell_type": "code",
   "execution_count": 1,
   "id": "focal-neutral",
   "metadata": {
    "papermill": {},
    "tags": []
   },
   "outputs": [],
   "source": [
    "repo_name = \"**********\"  # Repository path\n",
    "git_key = \"**********\"  # Settings/Developer settings"
   ]
  },
  {
   "cell_type": "markdown",
   "id": "model_cell",
   "metadata": {
    "papermill": {},
    "tags": []
   },
   "source": [
    "## Model"
   ]
  },
  {
   "cell_type": "markdown",
   "id": "standing-empty",
   "metadata": {
    "papermill": {},
    "tags": []
   },
   "source": [
    "### Establishing connection"
   ]
  },
  {
   "cell_type": "code",
   "execution_count": 3,
   "id": "hollow-ladder",
   "metadata": {
    "papermill": {},
    "tags": []
   },
   "outputs": [],
   "source": [
    "g = Github(git_key)"
   ]
  },
  {
   "cell_type": "markdown",
   "id": "pressed-emphasis",
   "metadata": {
    "papermill": {},
    "tags": []
   },
   "source": [
    "### See issue list"
   ]
  },
  {
   "cell_type": "code",
   "execution_count": 4,
   "id": "hollywood-rubber",
   "metadata": {
    "papermill": {},
    "tags": []
   },
   "outputs": [],
   "source": [
    "import pandas as pd\n",
    "\n",
    "repo = g.get_repo(repo_name)\n",
    "open_issues = repo.get_issues(state=\"open\")\n",
    "title = []\n",
    "number = []\n",
    "for issue in open_issues:\n",
    "    title.append(issue.title)\n",
    "    number.append(issue.number)\n",
    "data = {\"Title\": title, \"Description\": title, \"ID\": number}\n",
    "df = pd.DataFrame(data)\n",
    "df"
   ]
  },
  {
   "cell_type": "markdown",
   "id": "output_cell",
   "metadata": {
    "papermill": {},
    "tags": []
   },
   "source": [
    "## Output"
   ]
  },
  {
   "cell_type": "markdown",
   "id": "52df7fec-e550-4351-97c5-da40b9e96528",
   "metadata": {
    "papermill": {},
    "tags": []
   },
   "source": [
    "### Display issue list"
   ]
  },
  {
   "cell_type": "code",
   "execution_count": null,
   "id": "122b8c0d-ec54-4f75-b87a-0550fab0e291",
   "metadata": {
    "papermill": {},
    "tags": []
   },
   "outputs": [],
   "source": [
    "df"
   ]
  }
 ],
 "metadata": {
  "kernelspec": {
   "display_name": "Python 3",
   "language": "python",
   "name": "python3"
  },
  "language_info": {
   "codemirror_mode": {
    "name": "ipython",
    "version": 3
   },
   "file_extension": ".py",
   "mimetype": "text/x-python",
   "name": "python",
   "nbconvert_exporter": "python",
   "pygments_lexer": "ipython3",
   "version": "3.9.6"
  },
  "naas": {
   "notebook_id": "cd80d6b09a931a9e136faa98ec7db9b739b3d2f198222dc8b96f947b56d9cadc",
   "notebook_path": "GitHub/GitHub_Read_issue.ipynb"
  },
  "papermill": {
   "default_parameters": {},
   "environment_variables": {},
   "parameters": {},
   "version": "2.3.3"
  }
 },
 "nbformat": 4,
 "nbformat_minor": 5
}