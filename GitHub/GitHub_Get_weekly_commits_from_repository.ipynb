{
 "cells": [
  {
   "cell_type": "markdown",
   "id": "190088f8-6fb6-4695-bcfe-8f24eac03192",
   "metadata": {
    "papermill": {},
    "tags": []
   },
   "source": [
    "<img width=\"10%\" alt=\"Naas\" src=\"https://landen.imgix.net/jtci2pxwjczr/assets/5ice39g4.png?w=160\"/>"
   ]
  },
  {
   "cell_type": "markdown",
   "id": "1e0b104c-3f5c-4557-810c-510ad5c01aed",
   "metadata": {
    "papermill": {},
    "tags": []
   },
   "source": [
    "# GitHub - Get weekly commits from repository\n",
    "<a href=\"https://app.naas.ai/user-redirect/naas/downloader?url=https://raw.githubusercontent.com/jupyter-naas/awesome-notebooks/master/GitHub/GitHub_Get_weekly_commits_from_repository.ipynb\" target=\"_parent\"><img src=\"https://naasai-public.s3.eu-west-3.amazonaws.com/Open_in_Naas_Lab.svg\"/></a><br><br><a href=\"https://github.com/jupyter-naas/awesome-notebooks/issues/new?assignees=&labels=&template=template-request.md&title=Tool+-+Action+of+the+notebook+\">Template request</a> | <a href=\"https://github.com/jupyter-naas/awesome-notebooks/issues/new?assignees=&labels=bug&template=bug_report.md&title=GitHub+-+Get+weekly+commits+from+repository:+Error+short+description\">Bug report</a> | <a href=\"https://app.naas.ai/user-redirect/naas/downloader?url=https://raw.githubusercontent.com/jupyter-naas/awesome-notebooks/master/Naas/Naas_Start_data_product.ipynb\" target=\"_parent\">Generate Data Product</a>"
   ]
  },
  {
   "cell_type": "markdown",
   "id": "62bb926c-e38e-45fe-82fb-46ee85a7c33e",
   "metadata": {
    "papermill": {},
    "tags": []
   },
   "source": [
    "**Tags:** #github #repos #commits #stats #naas_drivers #plotly #linechart #operations #analytics #dataframe #html"
   ]
  },
  {
   "cell_type": "markdown",
   "id": "da172f56-b5b4-4bff-bbb3-6037231b002c",
   "metadata": {
    "papermill": {},
    "tags": []
   },
   "source": [
    "**Author:** [Sanjeet Attili](https://www.linkedin.com/in/sanjeet-attili-760bab190/)"
   ]
  },
  {
   "cell_type": "markdown",
   "id": "naas-description",
   "metadata": {
    "papermill": {},
    "tags": [
     "description"
    ]
   },
   "source": [
    "**Description:** This notebook provides a weekly summary of commits made to a GitHub repository."
   ]
  },
  {
   "cell_type": "markdown",
   "id": "3699bd74-3eba-4ebd-91a3-12ee02ddeb63",
   "metadata": {
    "papermill": {},
    "tags": []
   },
   "source": [
    "## Input"
   ]
  },
  {
   "cell_type": "code",
   "execution_count": 1,
   "id": "e802bdc0-6a85-4dac-8ef9-bba364e5d8c6",
   "metadata": {
    "papermill": {},
    "tags": []
   },
   "outputs": [],
   "source": [
    "import pandas as pd\n",
    "import plotly.express as px\n",
    "from naas_drivers import github\n",
    "import naas"
   ]
  },
  {
   "cell_type": "markdown",
   "id": "7fc73352-c674-4e46-8e3c-3afd17a59672",
   "metadata": {
    "papermill": {},
    "tags": []
   },
   "source": [
    "### Setup Github\n",
    "**How to find your personal access token on Github?**\n",
    "\n",
    "- First we need to create a personal access token to get the details of our organization from here: https://github.com/settings/tokens\n",
    "- You will be asked to select scopes for the token. Which scopes you choose will determine what information and actions you will be able to perform against the API.\n",
    "- You should be careful with the ones prefixed with write:, delete: and admin: as these might be quite destructive.\n",
    "- You can find description of each scope in docs here (https://docs.github.com/en/developers/apps/building-oauth-apps/scopes-for-oauth-apps)."
   ]
  },
  {
   "cell_type": "code",
   "execution_count": 2,
   "id": "fa40b6d3-867e-4361-92c8-4161abaa945f",
   "metadata": {
    "papermill": {},
    "tags": []
   },
   "outputs": [],
   "source": [
    "# GitHub token\n",
    "GITHUB_TOKEN = \"ENTER_YOUR_GITHUB_TOKEN_HERE\"  # EXAMPLE : \"ghp_fUYP0Z5i29AG4ggX8owctGnHU**********\"\n",
    "\n",
    "# Github repo on which we want to create issues.\n",
    "REPO_URL = \"ENTER_YOUR_REPO_URL_HERE\"  # EXAMPLE : \"https://github.com/jupyter-naas/awesome-notebooks/\""
   ]
  },
  {
   "cell_type": "markdown",
   "id": "0f2b7704-60e7-4e97-a1f9-b09779e7130a",
   "metadata": {
    "papermill": {},
    "tags": []
   },
   "source": [
    "## Model"
   ]
  },
  {
   "cell_type": "markdown",
   "id": "bb7f0cb3-dfe6-4031-8c10-77d1610184fd",
   "metadata": {
    "execution": {
     "iopub.execute_input": "2022-01-27T15:20:01.862544Z",
     "iopub.status.busy": "2022-01-27T15:20:01.862252Z",
     "iopub.status.idle": "2022-01-27T15:20:01.865361Z",
     "shell.execute_reply": "2022-01-27T15:20:01.864765Z",
     "shell.execute_reply.started": "2022-01-27T15:20:01.862513Z"
    },
    "papermill": {},
    "tags": []
   },
   "source": [
    "### Get commits from repository url"
   ]
  },
  {
   "cell_type": "code",
   "execution_count": 3,
   "id": "334fee0f-2c06-41b0-b54c-56f78e2ec4f2",
   "metadata": {
    "papermill": {},
    "tags": []
   },
   "outputs": [],
   "source": [
    "df_commits = github.connect(GITHUB_TOKEN).repos.get_commits(REPO_URL)\n",
    "df_commits"
   ]
  },
  {
   "cell_type": "markdown",
   "id": "caa405e0-b6ec-4812-9f0d-8849bebfa208",
   "metadata": {
    "papermill": {},
    "tags": []
   },
   "source": [
    "### Get weekly commits"
   ]
  },
  {
   "cell_type": "code",
   "execution_count": 4,
   "id": "abdaa146-46e5-4031-99ac-2bc61774bf3e",
   "metadata": {
    "papermill": {},
    "tags": []
   },
   "outputs": [],
   "source": [
    "def get_weekly_commits(df):\n",
    "    # Exclude Github commits\n",
    "    df = df[(df.COMMITTER_EMAIL.str[-10:] != \"github.com\")]\n",
    "\n",
    "    # Groupby and count\n",
    "    df = (\n",
    "        df.groupby(pd.Grouper(freq=\"W\", key=\"AUTHOR_DATE\"))\n",
    "        .agg({\"ID\": \"count\"})\n",
    "        .reset_index()\n",
    "    )\n",
    "    df[\"WEEKS\"] = df[\"AUTHOR_DATE\"].dt.strftime(\"W%U-%Y\")\n",
    "\n",
    "    # Cleaning\n",
    "    df = df.rename(columns={\"ID\": \"NB_COMMITS\"})\n",
    "    return df\n",
    "\n",
    "\n",
    "df_weekly = get_weekly_commits(df_commits)\n",
    "df_weekly"
   ]
  },
  {
   "cell_type": "markdown",
   "id": "e94d4a6d-4b81-425e-9648-e4f0951d1236",
   "metadata": {
    "papermill": {},
    "tags": []
   },
   "source": [
    "### Plot a bar chart of weekly commit activity"
   ]
  },
  {
   "cell_type": "code",
   "execution_count": 5,
   "id": "4fd91ba1-93a1-449d-875b-5fde3c87f8ae",
   "metadata": {
    "papermill": {},
    "tags": []
   },
   "outputs": [],
   "source": [
    "def create_barchart(df, repository):\n",
    "    # Get repository\n",
    "    repository = repository.split(\"/\")[-1]\n",
    "\n",
    "    # Calc commits\n",
    "    commits = df.NB_COMMITS.sum()\n",
    "\n",
    "    # Create fig\n",
    "    fig = px.bar(\n",
    "        df,\n",
    "        title=f\"GitHub - {repository} : Weekly user commits <br><span style='font-size: 13px;'>Total commits: {commits}</span>\",\n",
    "        x=\"WEEKS\",\n",
    "        y=\"NB_COMMITS\",\n",
    "        labels={\"WEEKS\": \"Weeks committed\", \"NB_COMMITS\": \"Nb. commits\"},\n",
    "    )\n",
    "    fig.update_traces(marker_color=\"black\")\n",
    "    fig.update_layout(\n",
    "        plot_bgcolor=\"#ffffff\",\n",
    "        width=1200,\n",
    "        height=800,\n",
    "        font=dict(family=\"Arial\", size=14, color=\"black\"),\n",
    "        paper_bgcolor=\"white\",\n",
    "        margin_pad=10,\n",
    "    )\n",
    "    fig.show()\n",
    "    return fig\n",
    "\n",
    "\n",
    "fig = create_barchart(df_weekly, REPO_URL)"
   ]
  },
  {
   "cell_type": "markdown",
   "id": "f4087b7c-0347-45ee-95c4-b547f24b1bc2",
   "metadata": {
    "papermill": {},
    "tags": []
   },
   "source": [
    "## Output"
   ]
  },
  {
   "cell_type": "markdown",
   "id": "6681c93d-dabb-4841-b21f-4996869cd6a9",
   "metadata": {
    "papermill": {},
    "tags": []
   },
   "source": [
    "### Save and export html"
   ]
  },
  {
   "cell_type": "code",
   "execution_count": 6,
   "id": "e0b399a1-e140-48a7-bd8c-83017df7e711",
   "metadata": {
    "papermill": {},
    "tags": []
   },
   "outputs": [],
   "source": [
    "output_path = f\"{REPO_URL.split('/')[-1]}_weekly_commits.html\"\n",
    "fig.write_html(output_path)\n",
    "naas.asset.add(output_path, params={\"inline\": True})"
   ]
  },
  {
   "cell_type": "code",
   "execution_count": null,
   "id": "74feef07-5c80-4333-90bc-76de2d04e067",
   "metadata": {
    "papermill": {},
    "tags": []
   },
   "outputs": [],
   "source": []
  }
 ],
 "metadata": {
  "kernelspec": {
   "display_name": "Python 3",
   "language": "python",
   "name": "python3"
  },
  "language_info": {
   "codemirror_mode": {
    "name": "ipython",
    "version": 3
   },
   "file_extension": ".py",
   "mimetype": "text/x-python",
   "name": "python",
   "nbconvert_exporter": "python",
   "pygments_lexer": "ipython3",
   "version": "3.9.6"
  },
  "naas": {
   "notebook_id": "8a639940269e34df28bbdefbea42c889370febabbb161f8d5d31cc5772689c93",
   "notebook_path": "GitHub/GitHub_Get_weekly_commits_from_repository.ipynb"
  },
  "papermill": {
   "default_parameters": {},
   "environment_variables": {},
   "parameters": {},
   "version": "2.3.4"
  }
 },
 "nbformat": 4,
 "nbformat_minor": 5
}