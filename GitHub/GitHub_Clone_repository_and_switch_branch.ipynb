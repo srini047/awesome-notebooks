{
 "cells": [
  {
   "cell_type": "markdown",
   "id": "d7076cde-ba11-49a1-9648-b4e8891166e9",
   "metadata": {
    "papermill": {},
    "tags": []
   },
   "source": [
    "<img width=\"10%\" alt=\"Naas\" src=\"https://landen.imgix.net/jtci2pxwjczr/assets/5ice39g4.png?w=160\"/>"
   ]
  },
  {
   "cell_type": "markdown",
   "id": "ce08063e-5356-4702-8d55-a9759f5659f8",
   "metadata": {
    "papermill": {},
    "tags": []
   },
   "source": [
    "# GitHub - Clone repository and switch branch\n",
    "<a href=\"https://app.naas.ai/user-redirect/naas/downloader?url=https://raw.githubusercontent.com/jupyter-naas/awesome-notebooks/master/GitHub/GitHub_Clone_repository_and_switch_branch.ipynb\" target=\"_parent\"><img src=\"https://naasai-public.s3.eu-west-3.amazonaws.com/Open_in_Naas_Lab.svg\"/></a><br><br><a href=\"https://github.com/jupyter-naas/awesome-notebooks/issues/new?assignees=&labels=&template=template-request.md&title=Tool+-+Action+of+the+notebook+\">Template request</a> | <a href=\"https://github.com/jupyter-naas/awesome-notebooks/issues/new?assignees=&labels=bug&template=bug_report.md&title=GitHub+-+Clone+repository+and+switch+branch:+Error+short+description\">Bug report</a> | <a href=\"https://app.naas.ai/user-redirect/naas/downloader?url=https://raw.githubusercontent.com/jupyter-naas/awesome-notebooks/master/Naas/Naas_Start_data_product.ipynb\" target=\"_parent\">Generate Data Product</a>"
   ]
  },
  {
   "cell_type": "markdown",
   "id": "4201f36d-934e-464b-8fa9-19dafd0cc6ac",
   "metadata": {
    "papermill": {},
    "tags": []
   },
   "source": [
    "**Tags:** #github #clone #repository #branch #switch #git"
   ]
  },
  {
   "cell_type": "markdown",
   "id": "c1c5d6da-5d9f-4557-8025-f5188f86537a",
   "metadata": {
    "papermill": {},
    "tags": []
   },
   "source": [
    "**Author:** [Florent Ravenel](https://www.linkedin.com/in/florent-ravenel/)"
   ]
  },
  {
   "cell_type": "markdown",
   "id": "33b77a09-e96c-4849-907d-9bbdc40e388e",
   "metadata": {
    "papermill": {},
    "tags": []
   },
   "source": [
    "**Description:** This notebook explains how to clone a repository from GitHub and switch to a specific branch."
   ]
  },
  {
   "cell_type": "markdown",
   "id": "03b28b45-6509-40a2-862c-a83be7b53ae1",
   "metadata": {
    "papermill": {},
    "tags": []
   },
   "source": [
    "**References:**\n",
    "- [GitHub Documentation - Cloning a repository](https://docs.github.com/en/github/creating-cloning-and-archiving-repositories/cloning-a-repository)"
   ]
  },
  {
   "cell_type": "markdown",
   "id": "c60f6731-c6fd-440d-9384-85864f979083",
   "metadata": {
    "papermill": {},
    "tags": []
   },
   "source": [
    "## Input"
   ]
  },
  {
   "cell_type": "markdown",
   "id": "cb39121c-7e1b-4762-94e2-8973f9e36044",
   "metadata": {
    "papermill": {},
    "tags": []
   },
   "source": [
    "### Import libraries"
   ]
  },
  {
   "cell_type": "code",
   "execution_count": null,
   "id": "82cd626c-faad-4aaf-a224-d36ba3646f34",
   "metadata": {
    "papermill": {},
    "tags": []
   },
   "outputs": [],
   "source": [
    "import os"
   ]
  },
  {
   "cell_type": "markdown",
   "id": "9e58cedd-3bbd-4d98-92a7-a85e84892097",
   "metadata": {
    "papermill": {},
    "tags": []
   },
   "source": [
    "### Setup Variables\n",
    "- `repo_url`: URL of the repository to clone\n",
    "- `branch_name`: Name of the branch to switch to\n",
    "- `output_dir`: Output directory to clone repo. If None, we will create a folder with the name of the branch"
   ]
  },
  {
   "cell_type": "code",
   "execution_count": null,
   "id": "a2c157a8-9559-424e-8921-03159e45c299",
   "metadata": {
    "papermill": {},
    "tags": []
   },
   "outputs": [],
   "source": [
    "# Inputs\n",
    "repo_url = \"https://github.com/jupyter-naas/awesome-notebooks\"\n",
    "branch_name = \"1743-github-clone-repository-and-switch-branch\"\n",
    "\n",
    "# Outputs\n",
    "output_dir = None"
   ]
  },
  {
   "cell_type": "markdown",
   "id": "dff6dcdb-9de3-440d-bf9f-1062950b5245",
   "metadata": {
    "papermill": {},
    "tags": []
   },
   "source": [
    "## Model"
   ]
  },
  {
   "cell_type": "markdown",
   "id": "22731e47-50ad-407f-ae43-72158369b492",
   "metadata": {
    "papermill": {},
    "tags": []
   },
   "source": [
    "### Clone repository\n",
    "Clone the repository from the given URL and create a local copy of it."
   ]
  },
  {
   "cell_type": "code",
   "execution_count": null,
   "id": "1390b815-43df-4360-bfeb-112dc36033c2",
   "metadata": {
    "papermill": {},
    "tags": []
   },
   "outputs": [],
   "source": [
    "def clone_branch(repo_url, output_dir, branch_name):\n",
    "    # Get GitHub owner and repo name\n",
    "    owner = repo_url.split(\"https://github.com/\")[-1].split(\"/\")[0]\n",
    "    repo_name = repo_url.split(\"/\")[-1]\n",
    "    \n",
    "    # Add repo name with .git extension\n",
    "    if not repo_name.endswith(\".git\"):\n",
    "        repo_name = f\"{repo_name}.git\"\n",
    "    repo = f\"{owner}/{repo_name}\"\n",
    "        \n",
    "    # Init output dir\n",
    "    if not output_dir:\n",
    "        output_dir = branch_name\n",
    "    \n",
    "    # Create output directoy\n",
    "    if not os.path.exists(output_dir):\n",
    "        os.makedirs(output_dir)\n",
    "        \n",
    "    # GitHub Action\n",
    "    !cd '{output_dir}'\n",
    "    !git clone git@github.com:'{repo}' '{output_dir}'\n",
    "    print(f\"✅ GitHub repo cloned: {output_dir}\")\n",
    "    return output_dir\n",
    "    \n",
    "output_dir = clone_branch(repo_url, output_dir, branch_name)"
   ]
  },
  {
   "cell_type": "markdown",
   "id": "1cdd1258-deaa-4eaf-b9ec-ca69e3d28a71",
   "metadata": {
    "papermill": {},
    "tags": []
   },
   "source": [
    "## Output"
   ]
  },
  {
   "cell_type": "markdown",
   "id": "04b02edc-5167-415b-a21c-6d05e0c01425",
   "metadata": {
    "papermill": {},
    "tags": []
   },
   "source": [
    "### Switch branch\n",
    "Change the current branch to the given branch name."
   ]
  },
  {
   "cell_type": "code",
   "execution_count": null,
   "id": "5cb98eb7-5200-4fdd-acd1-cd2c04714d01",
   "metadata": {
    "papermill": {},
    "tags": []
   },
   "outputs": [],
   "source": [
    "def switch_branch(output_dir, branch_name):\n",
    "    # GitHub action\n",
    "    !cd '{output_dir}' && git checkout '{branch_name}'\n",
    "    print(f\"✅ Switched to branch '{branch_name}'\")\n",
    "\n",
    "switch_branch(output_dir, branch_name)"
   ]
  },
  {
   "cell_type": "markdown",
   "id": "44b2d538-c81d-4ba7-b59c-8321b2fd8317",
   "metadata": {
    "papermill": {},
    "tags": []
   },
   "source": [
    " "
   ]
  },
  {
   "cell_type": "markdown",
   "id": "75abeb1f-a4dc-4e39-85f4-025098677a3c",
   "metadata": {
    "papermill": {},
    "tags": []
   },
   "source": [
    " "
   ]
  }
 ],
 "metadata": {
  "kernelspec": {
   "display_name": "Python 3",
   "language": "python",
   "name": "python3"
  },
  "language_info": {
   "codemirror_mode": {
    "name": "ipython",
    "version": 3
   },
   "file_extension": ".py",
   "mimetype": "text/x-python",
   "name": "python",
   "nbconvert_exporter": "python",
   "pygments_lexer": "ipython3",
   "version": "3.9.6"
  },
  "naas": {
   "notebook_id": "ff694fb2b2ebce38feccd3e1bef21019cdb9994ae3cf4f6fdc0ab7e317c15f22",
   "notebook_path": "GitHub/GitHub_Clone_repository_and_switch_branch.ipynb"
  },
  "papermill": {
   "default_parameters": {},
   "environment_variables": {},
   "parameters": {},
   "version": "2.4.0"
  },
  "widgets": {
   "application/vnd.jupyter.widget-state+json": {
    "state": {},
    "version_major": 2,
    "version_minor": 0
   }
  }
 },
 "nbformat": 4,
 "nbformat_minor": 5
}