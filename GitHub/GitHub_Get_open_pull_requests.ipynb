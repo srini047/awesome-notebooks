{
 "cells": [
  {
   "cell_type": "markdown",
   "id": "d0bac9aa-0a84-46d7-857c-c46fdcb59e94",
   "metadata": {
    "papermill": {},
    "tags": []
   },
   "source": [
    "<img width=\"10%\" alt=\"Naas\" src=\"https://landen.imgix.net/jtci2pxwjczr/assets/5ice39g4.png?w=160\"/>"
   ]
  },
  {
   "cell_type": "markdown",
   "id": "2654c74b-0b54-4eb9-84ab-49e738c66780",
   "metadata": {
    "papermill": {},
    "tags": []
   },
   "source": [
    "# GitHub - Get open pull requests\n",
    "<a href=\"https://app.naas.ai/user-redirect/naas/downloader?url=https://raw.githubusercontent.com/jupyter-naas/awesome-notebooks/master/GitHub/GitHub_Get_open_pull_requests.ipynb\" target=\"_parent\"><img src=\"https://naasai-public.s3.eu-west-3.amazonaws.com/Open_in_Naas_Lab.svg\"/></a><br><br><a href=\"https://github.com/jupyter-naas/awesome-notebooks/issues/new?assignees=&labels=&template=template-request.md&title=Tool+-+Action+of+the+notebook+\">Template request</a> | <a href=\"https://github.com/jupyter-naas/awesome-notebooks/issues/new?assignees=&labels=bug&template=bug_report.md&title=GitHub+-+Get+open+pull+requests:+Error+short+description\">Bug report</a> | <a href=\"https://app.naas.ai/user-redirect/naas/downloader?url=https://raw.githubusercontent.com/jupyter-naas/awesome-notebooks/master/Naas/Naas_Start_data_product.ipynb\" target=\"_parent\">Generate Data Product</a>"
   ]
  },
  {
   "cell_type": "markdown",
   "id": "34c5fdf7-5e74-4a1a-a54b-b0c3dd33ad0b",
   "metadata": {
    "papermill": {},
    "tags": []
   },
   "source": [
    "**Tags:** #github #repos #pulls #PR #operations #analytics #plotly #dataframe"
   ]
  },
  {
   "cell_type": "markdown",
   "id": "479cdb1d-1d4e-4078-a53d-f59c83a3b7d9",
   "metadata": {
    "papermill": {},
    "tags": []
   },
   "source": [
    "**Author:** [Sanjeet Attili](https://www.linkedin.com/in/sanjeet-attili-760bab190/)"
   ]
  },
  {
   "cell_type": "markdown",
   "id": "naas-description",
   "metadata": {
    "papermill": {},
    "tags": [
     "description"
    ]
   },
   "source": [
    "**Description:** This notebook retrieves pull requests from a repository URL."
   ]
  },
  {
   "cell_type": "markdown",
   "id": "3959f0f8-f7d0-445d-8651-8ab5429e2672",
   "metadata": {
    "papermill": {},
    "tags": []
   },
   "source": [
    "**References:**\n",
    "- [Get a pull request](https://docs.github.com/en/rest/pulls/pulls?apiVersion=2022-11-28#get-a-pull-request)"
   ]
  },
  {
   "cell_type": "markdown",
   "id": "2229e144-819b-4c99-b5c4-b3e121dd59eb",
   "metadata": {
    "papermill": {},
    "tags": []
   },
   "source": [
    "## Input"
   ]
  },
  {
   "cell_type": "markdown",
   "id": "61f1a7ea-77b2-49e0-8e9b-a1b5da09b3dd",
   "metadata": {
    "papermill": {},
    "tags": []
   },
   "source": [
    "### Imports"
   ]
  },
  {
   "cell_type": "code",
   "execution_count": null,
   "id": "837efcdb-508a-4b10-a0c6-fe8d6acb55e5",
   "metadata": {
    "papermill": {},
    "tags": []
   },
   "outputs": [],
   "source": [
    "from naas_drivers import github\n",
    "import naas"
   ]
  },
  {
   "cell_type": "markdown",
   "id": "1a7a322a-ca2b-4da3-89db-4b64dbb356a5",
   "metadata": {
    "papermill": {},
    "tags": []
   },
   "source": [
    "### Setup Variables\n",
    "- `token`: [Generate a personal access token](https://docs.github.com/en/github/authenticating-to-github/creating-a-personal-access-token)\n",
    "- `repository_url`: URL of your repository"
   ]
  },
  {
   "cell_type": "code",
   "execution_count": null,
   "id": "22269aec-b412-446d-bada-51a5a2db0c99",
   "metadata": {
    "papermill": {},
    "tags": []
   },
   "outputs": [],
   "source": [
    "# GitHub token\n",
    "token = naas.secret.get(\"GITHUB_TOKEN\") or \"YOUR_TOKEN\"\n",
    "\n",
    "# Github repo on which we want to create issues.\n",
    "repository_url = \"ENTER_YOUR_REPO_URL_HERE\"  # EXAMPLE : \"https://github.com/jupyter-naas/awesome-notebooks\""
   ]
  },
  {
   "cell_type": "markdown",
   "id": "24dedb0c-494b-42b7-8f3f-e2d32efb55de",
   "metadata": {
    "papermill": {},
    "tags": []
   },
   "source": [
    "## Model"
   ]
  },
  {
   "cell_type": "code",
   "execution_count": null,
   "id": "5fb57fe6-5798-451c-82ce-60a1915a47aa",
   "metadata": {
    "papermill": {},
    "tags": []
   },
   "outputs": [],
   "source": [
    "df_pulls = github.connect(token).repos.get_pulls(repository_url)"
   ]
  },
  {
   "cell_type": "markdown",
   "id": "ae32a0a1-93e8-4d70-93ab-c415817f7ae1",
   "metadata": {
    "papermill": {},
    "tags": []
   },
   "source": [
    "## Output"
   ]
  },
  {
   "cell_type": "markdown",
   "id": "9714651d-84eb-420c-94bf-798370955183",
   "metadata": {
    "papermill": {},
    "tags": []
   },
   "source": [
    "### Display result"
   ]
  },
  {
   "cell_type": "code",
   "execution_count": null,
   "id": "89d29a24-daef-4dbf-9ead-6f739ee990d0",
   "metadata": {
    "papermill": {},
    "tags": []
   },
   "outputs": [],
   "source": [
    "print(\"Opened PR:\", len(df_pulls))\n",
    "df_pulls"
   ]
  }
 ],
 "metadata": {
  "kernelspec": {
   "display_name": "Python 3",
   "language": "python",
   "name": "python3"
  },
  "language_info": {
   "codemirror_mode": {
    "name": "ipython",
    "version": 3
   },
   "file_extension": ".py",
   "mimetype": "text/x-python",
   "name": "python",
   "nbconvert_exporter": "python",
   "pygments_lexer": "ipython3",
   "version": "3.9.6"
  },
  "naas": {
   "notebook_id": "bd51601dc7146cccf78e53232a470ddde08272706420c31e7494698e0fe8b38e",
   "notebook_path": "GitHub/GitHub_Get_open_pull_requests.ipynb"
  },
  "papermill": {
   "default_parameters": {},
   "environment_variables": {},
   "parameters": {},
   "version": "2.3.4"
  }
 },
 "nbformat": 4,
 "nbformat_minor": 5
}