{
 "cells": [
  {
   "cell_type": "markdown",
   "id": "completed-compact",
   "metadata": {
    "execution": {
     "iopub.execute_input": "2021-02-23T14:07:40.156540Z",
     "iopub.status.busy": "2021-02-23T14:07:40.156186Z",
     "iopub.status.idle": "2021-02-23T14:07:40.169288Z",
     "shell.execute_reply": "2021-02-23T14:07:40.168472Z",
     "shell.execute_reply.started": "2021-02-23T14:07:40.156456Z"
    },
    "papermill": {},
    "tags": []
   },
   "source": [
    "<img width=\"10%\" alt=\"Naas\" src=\"https://landen.imgix.net/jtci2pxwjczr/assets/5ice39g4.png?w=160\"/>"
   ]
  },
  {
   "cell_type": "markdown",
   "id": "optimum-wrong",
   "metadata": {
    "papermill": {},
    "tags": []
   },
   "source": [
    "# AlphaVantage - Get company overview\n",
    "<a href=\"https://app.naas.ai/user-redirect/naas/downloader?url=https://raw.githubusercontent.com/jupyter-naas/awesome-notebooks/master/AlphaVantage/AlphaVantage_Get_company_overview.ipynb\" target=\"_parent\"><img src=\"https://naasai-public.s3.eu-west-3.amazonaws.com/open_in_naas.svg\"/></a><br><br><a href=\"https://github.com/jupyter-naas/awesome-notebooks/issues/new?assignees=&labels=&template=template-request.md&title=Tool+-+Action+of+the+notebook+\">Template request</a> | <a href=\"https://github.com/jupyter-naas/awesome-notebooks/issues/new?assignees=&labels=bug&template=bug_report.md&title=AlphaVantage+-+Get+company+overview:+Error+short+description\">Bug report</a>"
   ]
  },
  {
   "cell_type": "markdown",
   "id": "residential-cambridge",
   "metadata": {
    "papermill": {},
    "tags": []
   },
   "source": [
    "**Tags:** #alphavantage #trading #market_data #investors #snippet #dataframe"
   ]
  },
  {
   "cell_type": "markdown",
   "id": "57f07d61-294c-43a6-bc0b-a4f658114285",
   "metadata": {
    "papermill": {},
    "tags": []
   },
   "source": [
    "**Author:** [Florent Ravenel](https://www.linkedin.com/in/ACoAABCNSioBW3YZHc2lBHVG0E_TXYWitQkmwog/)"
   ]
  },
  {
   "cell_type": "markdown",
   "id": "naas-description",
   "metadata": {
    "papermill": {},
    "tags": [
     "description"
    ]
   },
   "source": [
    "**Description:** This notebook provides an overview of the AlphaVantage API, which allows users to access real-time and historical financial data for global equities, commodities, and currencies. It provides a comprehensive set of tools to analyze and visualize financial data for a variety of purposes."
   ]
  },
  {
   "cell_type": "markdown",
   "id": "c217570a-931f-4160-9a23-6a7f34003709",
   "metadata": {
    "papermill": {},
    "tags": []
   },
   "source": [
    "## Input"
   ]
  },
  {
   "cell_type": "markdown",
   "id": "a2f80aa6-87b7-4479-bc4d-cd98a14c4366",
   "metadata": {
    "papermill": {},
    "tags": []
   },
   "source": [
    "### Import libraries"
   ]
  },
  {
   "cell_type": "code",
   "execution_count": 2,
   "id": "f1bf16ca-be92-469c-8a19-20c669ddb865",
   "metadata": {
    "execution": {
     "iopub.execute_input": "2022-02-22T18:31:19.381468Z",
     "iopub.status.busy": "2022-02-22T18:31:19.381228Z",
     "iopub.status.idle": "2022-02-22T18:31:19.384189Z",
     "shell.execute_reply": "2022-02-22T18:31:19.383521Z",
     "shell.execute_reply.started": "2022-02-22T18:31:19.381444Z"
    },
    "papermill": {},
    "tags": []
   },
   "outputs": [],
   "source": [
    "import requests\n",
    "import pandas as pd"
   ]
  },
  {
   "cell_type": "markdown",
   "id": "69e2fc46-4ea1-440a-9bac-635b453a164d",
   "metadata": {
    "papermill": {},
    "tags": []
   },
   "source": [
    "### Variables"
   ]
  },
  {
   "cell_type": "code",
   "execution_count": 9,
   "id": "2b79583f-db93-43db-8c97-ab7333d870a2",
   "metadata": {
    "execution": {
     "iopub.execute_input": "2022-02-22T18:34:20.603260Z",
     "iopub.status.busy": "2022-02-22T18:34:20.603036Z",
     "iopub.status.idle": "2022-02-22T18:34:20.605966Z",
     "shell.execute_reply": "2022-02-22T18:34:20.605329Z",
     "shell.execute_reply.started": "2022-02-22T18:34:20.603237Z"
    },
    "papermill": {},
    "tags": []
   },
   "outputs": [],
   "source": [
    "API_KEY = \"demo\"\n",
    "COMPANY = \"IBM\""
   ]
  },
  {
   "cell_type": "markdown",
   "id": "383de97b-5103-44dd-b71b-e17102fd7b2b",
   "metadata": {
    "papermill": {},
    "tags": []
   },
   "source": [
    "## Model"
   ]
  },
  {
   "cell_type": "markdown",
   "id": "ff1747bf-9fb6-4b71-bfd2-cc677caea2ff",
   "metadata": {
    "papermill": {},
    "tags": []
   },
   "source": [
    "### Get company overview"
   ]
  },
  {
   "cell_type": "code",
   "execution_count": 10,
   "id": "cloudy-command",
   "metadata": {
    "execution": {
     "iopub.execute_input": "2022-02-22T18:34:21.658028Z",
     "iopub.status.busy": "2022-02-22T18:34:21.657740Z",
     "iopub.status.idle": "2022-02-22T18:34:21.833312Z",
     "shell.execute_reply": "2022-02-22T18:34:21.832710Z",
     "shell.execute_reply.started": "2022-02-22T18:34:21.657997Z"
    },
    "papermill": {},
    "tags": []
   },
   "outputs": [],
   "source": [
    "response = requests.get(\n",
    "    f\"https://www.alphavantage.co/query?function=OVERVIEW&symbol={COMPANY}&apikey={API_KEY}\"\n",
    ")\n",
    "data = response.json()"
   ]
  },
  {
   "cell_type": "markdown",
   "id": "4e945bb8-cacb-4f17-b1ca-b8cfc3d0147b",
   "metadata": {
    "papermill": {},
    "tags": []
   },
   "source": [
    "## Output"
   ]
  },
  {
   "cell_type": "markdown",
   "id": "acba0226-405d-4ac2-8c15-54f61dfc69c4",
   "metadata": {
    "papermill": {},
    "tags": []
   },
   "source": [
    "### Display result"
   ]
  },
  {
   "cell_type": "code",
   "execution_count": 11,
   "id": "34863d61-348e-4f74-9125-16d6d600dd18",
   "metadata": {
    "execution": {
     "iopub.execute_input": "2022-02-22T18:34:22.718191Z",
     "iopub.status.busy": "2022-02-22T18:34:22.717962Z",
     "iopub.status.idle": "2022-02-22T18:34:22.722660Z",
     "shell.execute_reply": "2022-02-22T18:34:22.722035Z",
     "shell.execute_reply.started": "2022-02-22T18:34:22.718167Z"
    },
    "papermill": {},
    "tags": []
   },
   "outputs": [],
   "source": [
    "data"
   ]
  }
 ],
 "metadata": {
  "kernelspec": {
   "display_name": "Python 3",
   "language": "python",
   "name": "python3"
  },
  "language_info": {
   "codemirror_mode": {
    "name": "ipython",
    "version": 3
   },
   "file_extension": ".py",
   "mimetype": "text/x-python",
   "name": "python",
   "nbconvert_exporter": "python",
   "pygments_lexer": "ipython3",
   "version": "3.9.6"
  },
  "naas": {
   "notebook_id": "311f0e5b-92db-466d-bc08-b28f4dea5e6a",
   "notebook_path": "AlphaVantage/AlphaVantage_Get_company_overview.ipynb"
  },
  "papermill": {
   "default_parameters": {},
   "environment_variables": {},
   "parameters": {},
   "version": "2.3.3"
  },
  "widgets": {
   "application/vnd.jupyter.widget-state+json": {
    "state": {},
    "version_major": 2,
    "version_minor": 0
   }
  }
 },
 "nbformat": 4,
 "nbformat_minor": 5
}