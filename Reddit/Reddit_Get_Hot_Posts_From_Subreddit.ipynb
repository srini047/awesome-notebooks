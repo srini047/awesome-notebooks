{
 "cells": [
  {
   "cell_type": "markdown",
   "id": "naas-logo",
   "metadata": {
    "papermill": {},
    "tags": [
     "naas"
    ]
   },
   "source": [
    "<img width=\"10%\" alt=\"Naas\" src=\"https://landen.imgix.net/jtci2pxwjczr/assets/5ice39g4.png?w=160\"/>"
   ]
  },
  {
   "cell_type": "markdown",
   "id": "configured-belgium",
   "metadata": {
    "execution": {
     "iopub.execute_input": "2021-08-16T10:37:31.478245Z",
     "iopub.status.busy": "2021-08-16T10:37:31.477978Z",
     "iopub.status.idle": "2021-08-16T10:37:31.481364Z",
     "shell.execute_reply": "2021-08-16T10:37:31.480745Z",
     "shell.execute_reply.started": "2021-08-16T10:37:31.478180Z"
    },
    "papermill": {},
    "tags": []
   },
   "source": [
    "# Reddit - Get Hot Posts From Subreddit\n",
    "<a href=\"https://app.naas.ai/user-redirect/naas/downloader?url=https://raw.githubusercontent.com/jupyter-naas/awesome-notebooks/master/Reddit/Reddit_Get_Hot_Posts_From_Subreddit.ipynb\" target=\"_parent\"><img src=\"https://naasai-public.s3.eu-west-3.amazonaws.com/Open_in_Naas_Lab.svg\"/></a><br><br><a href=\"https://github.com/jupyter-naas/awesome-notebooks/issues/new?assignees=&labels=&template=template-request.md&title=Tool+-+Action+of+the+notebook+\">Template request</a> | <a href=\"https://github.com/jupyter-naas/awesome-notebooks/issues/new?assignees=&labels=bug&template=bug_report.md&title=Reddit+-+Get+Hot+Posts+From+Subreddit:+Error+short+description\">Bug report</a> | <a href=\"https://app.naas.ai/user-redirect/naas/downloader?url=https://raw.githubusercontent.com/jupyter-naas/awesome-notebooks/master/Naas/Naas_Start_data_product.ipynb\" target=\"_parent\">Generate Data Product</a>"
   ]
  },
  {
   "cell_type": "markdown",
   "id": "binding-collaboration",
   "metadata": {
    "papermill": {},
    "tags": []
   },
   "source": [
    "**Tags:** #reddit #subreddit #data #hottopics #rss #information #opendata #snippet #dataframe"
   ]
  },
  {
   "cell_type": "markdown",
   "id": "spread-syndicate",
   "metadata": {
    "papermill": {},
    "tags": []
   },
   "source": [
    "**Author:** [Yaswanthkumar GOTHIREDDY](https://www.linkedin.com/in/yaswanthkumargothireddy/)"
   ]
  },
  {
   "cell_type": "markdown",
   "id": "naas-description",
   "metadata": {
    "papermill": {},
    "tags": [
     "description"
    ]
   },
   "source": [
    "**Description:** This notebook allows users to retrieve the hottest posts from a specified subreddit on Reddit."
   ]
  },
  {
   "cell_type": "markdown",
   "id": "postal-restoration",
   "metadata": {
    "papermill": {},
    "tags": []
   },
   "source": [
    "## Input"
   ]
  },
  {
   "cell_type": "markdown",
   "id": "stuffed-prayer",
   "metadata": {
    "papermill": {},
    "tags": []
   },
   "source": [
    "### Install packages"
   ]
  },
  {
   "cell_type": "code",
   "execution_count": null,
   "id": "executed-tulsa",
   "metadata": {
    "papermill": {},
    "tags": []
   },
   "outputs": [],
   "source": [
    "!pip install praw"
   ]
  },
  {
   "cell_type": "code",
   "execution_count": 4,
   "id": "widespread-moment",
   "metadata": {
    "papermill": {},
    "tags": []
   },
   "outputs": [],
   "source": [
    "import praw\n",
    "import pandas as pd\n",
    "import numpy as np\n",
    "from datetime import datetime"
   ]
  },
  {
   "cell_type": "markdown",
   "id": "rational-reason",
   "metadata": {
    "papermill": {},
    "tags": []
   },
   "source": [
    "### Choose Subreddit topic "
   ]
  },
  {
   "cell_type": "code",
   "execution_count": 2,
   "id": "infectious-population",
   "metadata": {
    "papermill": {},
    "tags": []
   },
   "outputs": [],
   "source": [
    "SUBREDDIT = \"Python\"  # example: \"CryptoCurrency\""
   ]
  },
  {
   "cell_type": "markdown",
   "id": "behavioral-beatles",
   "metadata": {
    "papermill": {},
    "tags": []
   },
   "source": [
    "### Setup App to connect to Reddit API"
   ]
  },
  {
   "cell_type": "markdown",
   "id": "still-drill",
   "metadata": {
    "papermill": {},
    "tags": []
   },
   "source": [
    "* To get data from reddit, you need to [create a reddit app](https://www.reddit.com/prefs/apps) which queries the reddit API.\n",
    "* Select “script” as the type of app.\n",
    "* Name your app and give it a description.\n",
    "* Set-up the redirect uri to be http://localhost:8080.\n",
    "* Once you click on “create app”, you will get a box showing you your \"client_id\" and \"client_secrets\".\n",
    "* \"user_agent\" is the name of your app."
   ]
  },
  {
   "cell_type": "markdown",
   "id": "dedicated-psychiatry",
   "metadata": {
    "papermill": {},
    "tags": []
   },
   "source": [
    "If you need help on setting up and getting your API credentials, please visit ---> [Get Reddit API Credentials](https://www.jcchouinard.com/get-reddit-api-credentials-with-praw/)"
   ]
  },
  {
   "cell_type": "code",
   "execution_count": 1,
   "id": "smoking-mount",
   "metadata": {
    "papermill": {},
    "tags": []
   },
   "outputs": [],
   "source": [
    "MY_CLIENT_ID = \"EtAr0o-oKbVuEnPOFbrRqQ\"\n",
    "MY_CLIENT_SECRET = \"LmNpsZuFM-WXyZULAayVyNsOhMd_ug\"\n",
    "MY_USER_AGENT = \"script by u/naas\""
   ]
  },
  {
   "cell_type": "markdown",
   "id": "accurate-bibliography",
   "metadata": {
    "papermill": {},
    "tags": []
   },
   "source": [
    "## Model"
   ]
  },
  {
   "cell_type": "markdown",
   "id": "aquatic-pride",
   "metadata": {
    "papermill": {},
    "tags": []
   },
   "source": [
    "#### Connect with the reddit API"
   ]
  },
  {
   "cell_type": "code",
   "execution_count": 5,
   "id": "supposed-amateur",
   "metadata": {
    "papermill": {},
    "tags": []
   },
   "outputs": [],
   "source": [
    "reddit = praw.Reddit(\n",
    "    client_id=MY_CLIENT_ID, client_secret=MY_CLIENT_SECRET, user_agent=MY_USER_AGENT\n",
    ")"
   ]
  },
  {
   "cell_type": "markdown",
   "id": "possible-opinion",
   "metadata": {
    "papermill": {},
    "tags": []
   },
   "source": [
    "#### Get the subreddit level data"
   ]
  },
  {
   "cell_type": "code",
   "execution_count": 6,
   "id": "understood-breed",
   "metadata": {
    "papermill": {},
    "tags": []
   },
   "outputs": [],
   "source": [
    "posts = []\n",
    "for post in reddit.subreddit(SUBREDDIT).hot(limit=50):\n",
    "\n",
    "    posts.append(\n",
    "        [\n",
    "            post.title,\n",
    "            post.score,\n",
    "            post.id,\n",
    "            post.subreddit,\n",
    "            post.url,\n",
    "            post.num_comments,\n",
    "            post.selftext,\n",
    "            post.created,\n",
    "        ]\n",
    "    )\n",
    "posts = pd.DataFrame(\n",
    "    posts,\n",
    "    columns=[\n",
    "        \"title\",\n",
    "        \"score\",\n",
    "        \"id\",\n",
    "        \"subreddit\",\n",
    "        \"url\",\n",
    "        \"num_comments\",\n",
    "        \"body\",\n",
    "        \"created\",\n",
    "    ],\n",
    ")"
   ]
  },
  {
   "cell_type": "markdown",
   "id": "eleven-internship",
   "metadata": {
    "papermill": {},
    "tags": []
   },
   "source": [
    "* If you need more variables, check \"vars()\" function``\n",
    "* Usage: 'vars(post)', you'll get post level variables "
   ]
  },
  {
   "cell_type": "markdown",
   "id": "moved-flush",
   "metadata": {
    "papermill": {},
    "tags": []
   },
   "source": [
    "#### Convert unix timestamp to interpretable date-time "
   ]
  },
  {
   "cell_type": "code",
   "execution_count": 7,
   "id": "electronic-breast",
   "metadata": {
    "papermill": {},
    "tags": []
   },
   "outputs": [],
   "source": [
    "posts[\"created\"] = pd.to_datetime(posts[\"created\"], unit=\"s\")"
   ]
  },
  {
   "cell_type": "markdown",
   "id": "expanded-juvenile",
   "metadata": {
    "papermill": {},
    "tags": []
   },
   "source": [
    "## Output"
   ]
  },
  {
   "cell_type": "code",
   "execution_count": 8,
   "id": "limited-savings",
   "metadata": {
    "papermill": {},
    "tags": []
   },
   "outputs": [],
   "source": [
    "posts.head()"
   ]
  },
  {
   "cell_type": "markdown",
   "id": "urban-cycle",
   "metadata": {
    "papermill": {},
    "tags": []
   },
   "source": [
    "Hint: Filter data using \"created\" variable for past 24 hours hot posts"
   ]
  },
  {
   "cell_type": "markdown",
   "id": "acquired-outdoors",
   "metadata": {
    "papermill": {},
    "tags": []
   },
   "source": [
    "## Additional Resources\n",
    "- More info on the PRAW package used: https://praw.readthedocs.io/en/stable/"
   ]
  }
 ],
 "metadata": {
  "kernelspec": {
   "display_name": "Python 3",
   "language": "python",
   "name": "python3"
  },
  "language_info": {
   "codemirror_mode": {
    "name": "ipython",
    "version": 3
   },
   "file_extension": ".py",
   "mimetype": "text/x-python",
   "name": "python",
   "nbconvert_exporter": "python",
   "pygments_lexer": "ipython3",
   "version": "3.9.6"
  },
  "naas": {
   "notebook_id": "8531d6684ed740ec2ff6fd79b946c490932a6fb0b5f8929ace7f53c543152096",
   "notebook_path": "Reddit/Reddit_Get_Hot_Posts_From_Subreddit.ipynb"
  },
  "papermill": {
   "default_parameters": {},
   "environment_variables": {},
   "parameters": {},
   "version": "2.3.3"
  },
  "widgets": {
   "application/vnd.jupyter.widget-state+json": {
    "state": {},
    "version_major": 2,
    "version_minor": 0
   }
  }
 },
 "nbformat": 4,
 "nbformat_minor": 5
}