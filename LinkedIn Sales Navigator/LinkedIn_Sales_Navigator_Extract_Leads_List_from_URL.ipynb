{
 "cells": [
  {
   "cell_type": "markdown",
   "id": "d3ac161d-3ec7-49da-9dbb-7ba20f9d673a",
   "metadata": {
    "papermill": {},
    "tags": []
   },
   "source": [
    "<img width=\"10%\" alt=\"Naas\" src=\"https://landen.imgix.net/jtci2pxwjczr/assets/5ice39g4.png?w=160\"/>"
   ]
  },
  {
   "cell_type": "markdown",
   "id": "e0d6762c-ab8c-4598-ba97-e0388b93a3c7",
   "metadata": {
    "papermill": {},
    "tags": []
   },
   "source": [
    "# LinkedIn Sales Navigator - Extract Leads List from URL\n",
    "<a href=\"https://app.naas.ai/user-redirect/naas/downloader?url=https://raw.githubusercontent.com/jupyter-naas/awesome-notebooks/master/LinkedIn%20Sales%20Navigator/LinkedIn_Sales_Navigator_Extract_Leads_List_from_URL.ipynb\" target=\"_parent\"><img src=\"https://naasai-public.s3.eu-west-3.amazonaws.com/Open_in_Naas_Lab.svg\"/></a><br><br><a href=\"https://github.com/jupyter-naas/awesome-notebooks/issues/new?assignees=&labels=&template=template-request.md&title=Tool+-+Action+of+the+notebook+\">Template request</a> | <a href=\"https://github.com/jupyter-naas/awesome-notebooks/issues/new?assignees=&labels=bug&template=bug_report.md&title=LinkedIn+Sales+Navigator+-+Extract+Leads+List+from+URL:+Error+short+description\">Bug report</a> | <a href=\"https://app.naas.ai/user-redirect/naas/downloader?url=https://raw.githubusercontent.com/jupyter-naas/awesome-notebooks/master/Naas/Naas_Start_data_product.ipynb\" target=\"_parent\">Generate Data Product</a>"
   ]
  },
  {
   "cell_type": "markdown",
   "id": "83478d0d-4e3a-4aa7-975a-1515dc2721aa",
   "metadata": {
    "papermill": {},
    "tags": []
   },
   "source": [
    "**Tags:** #linkedin #salesnavigator #extract #leads"
   ]
  },
  {
   "cell_type": "markdown",
   "id": "4f78c363-85f3-4b28-9712-e11e0a28696b",
   "metadata": {
    "papermill": {},
    "tags": []
   },
   "source": [
    "**Author:** [Florent Ravenel](https://www.linkedin.com/in/florent-ravenel/)"
   ]
  },
  {
   "cell_type": "markdown",
   "id": "e0211137-912b-4be7-b0d7-4e6c25069319",
   "metadata": {
    "papermill": {},
    "tags": []
   },
   "source": [
    "**Description:** This notebook will show how to extract a list of leads from a URL using LinkedIn Sales Navigator."
   ]
  },
  {
   "cell_type": "markdown",
   "id": "2aff7394-a980-4f3b-aecb-91bebb9daa42",
   "metadata": {
    "papermill": {},
    "tags": []
   },
   "source": [
    "**References:**\n",
    "- [LinkedIn Sales Navigator Documentation](https://docs.microsoft.com/en-us/linkedin/sales-navigator/)\n",
    "- [LinkedIn Sales Navigator API](https://docs.microsoft.com/en-us/linkedin/sales-navigator/api-overview)"
   ]
  },
  {
   "cell_type": "markdown",
   "id": "ac3d2cc9-d0dd-4f2f-aa8b-90769c2c412b",
   "metadata": {
    "papermill": {},
    "tags": []
   },
   "source": [
    "## Input"
   ]
  },
  {
   "cell_type": "markdown",
   "id": "91cf842a-205b-4433-98bb-3f37a316e0ed",
   "metadata": {
    "papermill": {},
    "tags": []
   },
   "source": [
    "### Import libraries"
   ]
  },
  {
   "cell_type": "code",
   "execution_count": null,
   "id": "3e203a97-a915-4914-bfb0-39402420d62f",
   "metadata": {
    "papermill": {},
    "tags": []
   },
   "outputs": [],
   "source": [
    "from naas_drivers import linkedin_salesnavigator as linkedin_sn\n",
    "import naas"
   ]
  },
  {
   "cell_type": "markdown",
   "id": "416a70f5-dedb-4cfc-88dd-c8c24a452db3",
   "metadata": {
    "papermill": {},
    "tags": []
   },
   "source": [
    "### Setup Variables\n",
    "<a href='https://www.notion.so/LinkedIn-driver-Get-your-cookies-d20a8e7e508e42af8a5b52e33f3dba75'>How to get your cookies ?</a>\n",
    "- `li_at`: Cookie used to authenticate Members and API clients\n",
    "- `JSESSIONID`: Cookie used for Cross Site Request Forgery (CSRF) protection and URL signature validation\n",
    "- `li_a`: Cookie used to authenticate enterprise users on Sales Navigator and Recruiter\n",
    "- `url`: URL of the page to extract leads from\n",
    "- `limit`: By default limit is set to 1000\n",
    "- `csv_output`: Name of the CSV file to be saved. If name is not changed \"LINKEDIN_LEADS.csv\", we will save it by adding the search ID."
   ]
  },
  {
   "cell_type": "code",
   "execution_count": null,
   "id": "398f9bcd-7858-42e4-bc0a-ef64a46fa934",
   "metadata": {
    "papermill": {},
    "tags": []
   },
   "outputs": [],
   "source": [
    "# Inputs\n",
    "li_at = naas.secret.get(\"LINKEDIN_LI_AT\") or 'ENTER_YOUR_COOKIE_LI_AT_HERE'  # Used to authenticate Members and API clients\n",
    "JSESSIONID = naas.secret.get(\"LINKEDIN_JSESSIONID\") or 'ENTER_YOUR_COOKIE_JSESSIONID_HERE'  # Used for Cross Site Request Forgery (CSRF) protection and URL signature validation.\n",
    "li_a =  naas.secret.get(\"LINKEDIN_LI_A\") or 'ENTER_YOUR_COOKIE_LI_A_HERE'  # Used to authenticate enterprise users on Sales Navigator and Recruiter\n",
    "url = input(\"LinkedIn URL:\")\n",
    "limit = 1000\n",
    "\n",
    "# Outputs\n",
    "csv_output = \"LINKEDIN_LEADS.csv\""
   ]
  },
  {
   "cell_type": "markdown",
   "id": "fd730043-04cb-403a-9403-0c3a29a14594",
   "metadata": {
    "papermill": {},
    "tags": []
   },
   "source": [
    "## Model"
   ]
  },
  {
   "cell_type": "markdown",
   "id": "ed042dfc-1b57-48c7-8bd2-38201698f0dd",
   "metadata": {
    "papermill": {},
    "tags": []
   },
   "source": [
    "### Extract leads from URL\n",
    "Return an dataframe object with 27 columns:\n",
    "- PROFILE_ID                    \n",
    "- PROFILE_URL                   \n",
    "- FIRSTNAME                     \n",
    "- LASTNAME                      \n",
    "- FULLNAME                      \n",
    "- LOCATION                      \n",
    "- DISTANCE                      \n",
    "- PENDING_INVITATIONS           \n",
    "- PREMIUM                       \n",
    "- ABOUT                         \n",
    "- HIGHLIGHTS                    \n",
    "- PROFILE_PICTURE               \n",
    "- JOB_TITLE                     \n",
    "- JOB_DESCRIPTION               \n",
    "- JOB_START                     \n",
    "- JOB_TENURE         \n",
    "- JOB_TENURE_MONTHS\n",
    "- COMPANY_NAME                  \n",
    "- COMPANY_ID                    \n",
    "- COMPANY_LK_URL                \n",
    "- COMPANY_TENURE      \n",
    "- COMPANY_TENURE_MONTHS\n",
    "- COMPANY_INDUSTRY              \n",
    "- COMPANY_LOGO                  \n",
    "- SHARED_CONNECTIONS_COUNT\n",
    "- SHARED_CONNECTIONS"
   ]
  },
  {
   "cell_type": "code",
   "execution_count": null,
   "id": "41b7656c-6fea-4865-9bdd-975a5820c0f7",
   "metadata": {
    "papermill": {},
    "tags": []
   },
   "outputs": [],
   "source": [
    "df_leads = linkedin_sn.connect(li_at, JSESSIONID, li_a).leads.get_list(url, limit=limit)\n",
    "print(\"Leads Extracted:\", len(df_leads))\n",
    "df_leads.head(3)"
   ]
  },
  {
   "cell_type": "markdown",
   "id": "7a55a978-3005-4e14-897c-242390b502fa",
   "metadata": {
    "papermill": {},
    "tags": []
   },
   "source": [
    "## Output"
   ]
  },
  {
   "cell_type": "markdown",
   "id": "b5b9aeea-47cf-4f70-a5e2-0a1a54aa926a",
   "metadata": {
    "papermill": {},
    "tags": []
   },
   "source": [
    "### Save dataframe in CSV"
   ]
  },
  {
   "cell_type": "code",
   "execution_count": null,
   "id": "2a6fe4af-e36f-47f2-87da-fc831f5d17a5",
   "metadata": {
    "papermill": {},
    "tags": []
   },
   "outputs": [],
   "source": [
    "def save_df_to_csv(df, csv_output):\n",
    "    if csv_output ==  \"LINKEDIN_LEADS.csv\":\n",
    "        query = url.split(\"query=\")[-1].split(\"&\")[0]\n",
    "        query_id = urllib.parse.unquote(query).split('recentSearchParam:(id:')[-1].split(\",\")[0]\n",
    "        csv_output = f\"LINKEDIN_LEADS_{query_id}.csv\"\n",
    "    df.to_csv(csv_output, index=False)\n",
    "    print('Dataframe successfully saved:', csv_output)\n",
    "    \n",
    "save_df_to_csv(df_leads, csv_output)"
   ]
  }
 ],
 "metadata": {
  "kernelspec": {
   "display_name": "Python 3",
   "language": "python",
   "name": "python3"
  },
  "language_info": {
   "codemirror_mode": {
    "name": "ipython",
    "version": 3
   },
   "file_extension": ".py",
   "mimetype": "text/x-python",
   "name": "python",
   "nbconvert_exporter": "python",
   "pygments_lexer": "ipython3",
   "version": "3.9.6"
  },
  "naas": {
   "notebook_id": "479b87603a0cbdf9ac2a26af7a59038d199f9ac114b46261f5550b23ab40220d",
   "notebook_path": "LinkedIn Sales Navigator/LinkedIn_Sales_Navigator_Extract_Leads_List_from_URL.ipynb"
  },
  "papermill": {
   "default_parameters": {},
   "environment_variables": {},
   "parameters": {},
   "version": "2.4.0"
  },
  "widgets": {
   "application/vnd.jupyter.widget-state+json": {
    "state": {},
    "version_major": 2,
    "version_minor": 0
   }
  }
 },
 "nbformat": 4,
 "nbformat_minor": 5
}