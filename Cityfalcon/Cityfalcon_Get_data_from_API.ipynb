{
 "cells": [
  {
   "cell_type": "markdown",
   "id": "congressional-lincoln",
   "metadata": {
    "papermill": {},
    "tags": []
   },
   "source": [
    "<img width=\"10%\" alt=\"Naas\" src=\"https://landen.imgix.net/jtci2pxwjczr/assets/5ice39g4.png?w=160\"/>"
   ]
  },
  {
   "cell_type": "markdown",
   "id": "great-basket",
   "metadata": {
    "papermill": {},
    "tags": []
   },
   "source": [
    "# Cityfalcon - Get data from API\n",
    "<a href=\"https://app.naas.ai/user-redirect/naas/downloader?url=https://raw.githubusercontent.com/jupyter-naas/awesome-notebooks/master/Cityfalcon/Cityfalcon_Get_data_from_API.ipynb\" target=\"_parent\"><img src=\"https://naasai-public.s3.eu-west-3.amazonaws.com/open_in_naas.svg\"/></a><br><br><a href=\"https://github.com/jupyter-naas/awesome-notebooks/issues/new?assignees=&labels=&template=template-request.md&title=Tool+-+Action+of+the+notebook+\">Template request</a> | <a href=\"https://github.com/jupyter-naas/awesome-notebooks/issues/new?assignees=&labels=bug&template=bug_report.md&title=Cityfalcon+-+Get+data+from+API:+Error+short+description\">Bug report</a>"
   ]
  },
  {
   "cell_type": "markdown",
   "id": "83887382-e873-4ffc-b30d-ef00c58e0ad8",
   "metadata": {
    "papermill": {},
    "tags": []
   },
   "source": [
    "**Tags:** #cityfalcon #news #opendata #snippet #investors #dataframe"
   ]
  },
  {
   "cell_type": "markdown",
   "id": "naas-author",
   "metadata": {
    "papermill": {},
    "tags": [
     "naas"
    ]
   },
   "source": [
    "**Author:** [Jeremy Ravenel](https://www.linkedin.com/in/ACoAAAJHE7sB5OxuKHuzguZ9L6lfDHqw--cdnJg/)"
   ]
  },
  {
   "cell_type": "markdown",
   "id": "naas-description",
   "metadata": {
    "papermill": {},
    "tags": [
     "description"
    ]
   },
   "source": [
    "**Description:** This notebook provides a guide to using the Cityfalcon API to access data."
   ]
  },
  {
   "cell_type": "markdown",
   "id": "348cb83a-906c-40e5-9989-7d3f7cb7c4de",
   "metadata": {
    "papermill": {},
    "tags": []
   },
   "source": [
    "## Input"
   ]
  },
  {
   "cell_type": "markdown",
   "id": "a3def45f-70ab-4d45-9170-148f08ae46c5",
   "metadata": {
    "papermill": {},
    "tags": []
   },
   "source": [
    "### Import library"
   ]
  },
  {
   "cell_type": "code",
   "execution_count": null,
   "id": "d5762c39-8c86-44b5-b5ce-c54decd74eb6",
   "metadata": {
    "papermill": {},
    "tags": []
   },
   "outputs": [],
   "source": [
    "from naas_drivers import cityfalcon"
   ]
  },
  {
   "cell_type": "markdown",
   "id": "37b12393-9a93-491d-aca4-13a9b7e35cca",
   "metadata": {
    "papermill": {},
    "tags": []
   },
   "source": [
    "### Variable"
   ]
  },
  {
   "cell_type": "code",
   "execution_count": null,
   "id": "05fbde30-b8f2-49ad-8fc0-52378d631a69",
   "metadata": {
    "papermill": {},
    "tags": []
   },
   "outputs": [],
   "source": [
    "API_KEY = \"YOUR_API_KEY\""
   ]
  },
  {
   "cell_type": "markdown",
   "id": "abe5182c-6c44-4b94-9f36-ee570511ae0a",
   "metadata": {
    "papermill": {},
    "tags": []
   },
   "source": [
    "## Model"
   ]
  },
  {
   "cell_type": "markdown",
   "id": "bb9b3425-5de8-477d-b276-8fa8b821f6c7",
   "metadata": {
    "papermill": {},
    "tags": []
   },
   "source": [
    "### Connect to cityfalcon"
   ]
  },
  {
   "cell_type": "code",
   "execution_count": null,
   "id": "9bf6654d-2c28-4fa0-8f0b-6b2b79a5cbde",
   "metadata": {
    "papermill": {},
    "tags": []
   },
   "outputs": [],
   "source": [
    "CF = cityfalcon.connect(API_KEY).get(\"TSLA\")"
   ]
  },
  {
   "cell_type": "markdown",
   "id": "92466ebd-a8a1-46f4-87e7-e90aeced94e8",
   "metadata": {
    "papermill": {},
    "tags": []
   },
   "source": [
    "## Output"
   ]
  },
  {
   "cell_type": "markdown",
   "id": "53bec915-40ef-4c57-8e24-86f7f830b532",
   "metadata": {
    "papermill": {},
    "tags": []
   },
   "source": [
    "### Display result"
   ]
  },
  {
   "cell_type": "code",
   "execution_count": null,
   "id": "tracked-cleaner",
   "metadata": {
    "papermill": {},
    "tags": []
   },
   "outputs": [],
   "source": [
    "CF"
   ]
  }
 ],
 "metadata": {
  "kernelspec": {
   "display_name": "Python 3",
   "language": "python",
   "name": "python3"
  },
  "language_info": {
   "codemirror_mode": {
    "name": "ipython",
    "version": 3
   },
   "file_extension": ".py",
   "mimetype": "text/x-python",
   "name": "python",
   "nbconvert_exporter": "python",
   "pygments_lexer": "ipython3",
   "version": "3.9.6"
  },
  "naas": {
   "notebook_id": "158a009c-d8a2-432c-a851-3c5efdce32b1",
   "notebook_path": "Cityfalcon/Cityfalcon_Get_data_from_API.ipynb"
  },
  "papermill": {
   "default_parameters": {},
   "environment_variables": {},
   "parameters": {},
   "version": "2.3.3"
  }
 },
 "nbformat": 4,
 "nbformat_minor": 5
}