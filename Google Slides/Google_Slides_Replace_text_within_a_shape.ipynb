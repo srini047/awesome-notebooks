{
 "cells": [
  {
   "cell_type": "markdown",
   "id": "6bb07741-64c5-4ea6-bf88-4af7f38879f8",
   "metadata": {
    "papermill": {},
    "tags": []
   },
   "source": [
    "<img width=\"10%\" alt=\"Naas\" src=\"https://landen.imgix.net/jtci2pxwjczr/assets/5ice39g4.png?w=160\"/>"
   ]
  },
  {
   "cell_type": "markdown",
   "id": "b34c16a9-24cb-46b6-b986-1b48cf7bc1cb",
   "metadata": {
    "papermill": {},
    "tags": []
   },
   "source": [
    "# Google Slides - Replace text within a shape\n",
    "<a href=\"https://app.naas.ai/user-redirect/naas/downloader?url=https://raw.githubusercontent.com/jupyter-naas/awesome-notebooks/master/Google%20Slides/Google_Slides_Replace_text_within_a_shape.ipynb\" target=\"_parent\"><img src=\"https://naasai-public.s3.eu-west-3.amazonaws.com/Open_in_Naas_Lab.svg\"/></a><br><br><a href=\"https://github.com/jupyter-naas/awesome-notebooks/issues/new?assignees=&labels=&template=template-request.md&title=Tool+-+Action+of+the+notebook+\">Template request</a> | <a href=\"https://github.com/jupyter-naas/awesome-notebooks/issues/new?assignees=&labels=bug&template=bug_report.md&title=Google+Slides+-+Replace+text+within+a+shape:+Error+short+description\">Bug report</a> | <a href=\"https://app.naas.ai/user-redirect/naas/downloader?url=https://raw.githubusercontent.com/jupyter-naas/awesome-notebooks/master/Naas/Naas_Start_data_product.ipynb\" target=\"_parent\">Generate Data Product</a>"
   ]
  },
  {
   "cell_type": "markdown",
   "id": "280a4b28-04d1-404e-b717-58ab8b85ae0b",
   "metadata": {
    "papermill": {},
    "tags": []
   },
   "source": [
    "**Tags:** #googleslides #text #shape #replace #api #slides"
   ]
  },
  {
   "cell_type": "markdown",
   "id": "fb7a4f10-7290-43f7-a763-075cb55458d4",
   "metadata": {
    "papermill": {},
    "tags": []
   },
   "source": [
    "**Author:** [Florent Ravenel](https://www.linkedin.com/in/florent-ravenel)"
   ]
  },
  {
   "cell_type": "markdown",
   "id": "31819550-05d0-4547-bfe1-552aabe88ae2",
   "metadata": {
    "papermill": {},
    "tags": []
   },
   "source": [
    "**Description:** This notebook explains how to use the Slides API to modify the text content of a shape establishing a seamless connection using OAuth consent."
   ]
  },
  {
   "cell_type": "markdown",
   "id": "505fe9cd-55e6-4e35-9eb6-ac3ad3a14b6f",
   "metadata": {
    "papermill": {},
    "tags": []
   },
   "source": [
    "**References:**\n",
    "- [Google Slides API](https://developers.google.com/slides/api/guides/styling)\n",
    "- [Google Slides API Documentation](https://developers.google.com/slides/how-tos/overview)"
   ]
  },
  {
   "cell_type": "markdown",
   "id": "7272ffbb-f0b1-46e2-bdd8-64787ca38de6",
   "metadata": {
    "papermill": {},
    "tags": []
   },
   "source": [
    "## Input"
   ]
  },
  {
   "cell_type": "markdown",
   "id": "e117706b-8c0c-4777-8b92-2b9db6abb397",
   "metadata": {
    "papermill": {},
    "tags": []
   },
   "source": [
    "### Import libraries"
   ]
  },
  {
   "cell_type": "code",
   "execution_count": null,
   "id": "02829f44-e786-49fa-8c91-b683c1abeec3",
   "metadata": {
    "papermill": {},
    "tags": []
   },
   "outputs": [],
   "source": [
    "try:\n",
    "    from apiclient.discovery import build\n",
    "    from google_auth_oauthlib.flow import InstalledAppFlow\n",
    "    from googleapiclient.errors import HttpError\n",
    "except ModuleNotFoundError:\n",
    "    !pip install google-api-python-client\n",
    "    from apiclient.discovery import build\n",
    "    from google_auth_oauthlib.flow import InstalledAppFlow\n",
    "    from googleapiclient.errors import HttpError"
   ]
  },
  {
   "cell_type": "markdown",
   "id": "d13344ed-90f9-4f5e-a345-4dc39feafb59",
   "metadata": {
    "papermill": {},
    "tags": []
   },
   "source": [
    "### Setup Variables\n",
    "- `secret_path`: Set the path to the credentials JSON file\n",
    "- `scopes`: Set the scopes required for accessing Google Slides\n",
    "- `presentation_url`: The URL of the presentation to add the slide to.\n",
    "- `shape_id`: ID of the shape to be modified. To get it, get the \"pageElements\" of your slide and find the objectId desired\n",
    "- `replacement_text`: Text to be replaced"
   ]
  },
  {
   "cell_type": "code",
   "execution_count": null,
   "id": "b123d27b-21fa-4981-9f35-d8098a318ecb",
   "metadata": {
    "papermill": {},
    "tags": []
   },
   "outputs": [],
   "source": [
    "# Inputs\n",
    "secret_path = 'secret.json'\n",
    "scopes = ['https://www.googleapis.com/auth/presentations', 'https://www.googleapis.com/auth/presentations.readonly']\n",
    "presentation_url = \"https://docs.google.com/presentation/d/xxxxxx/\"\n",
    "shape_id = \"SLIDES_API583292764_2\"\n",
    "replacement_text = \"TOOL - ACTION OF THE TOOL\""
   ]
  },
  {
   "cell_type": "markdown",
   "id": "8890b81e-12b6-4084-ae2b-9bf679d72f9a",
   "metadata": {
    "papermill": {},
    "tags": []
   },
   "source": [
    "## Model"
   ]
  },
  {
   "cell_type": "markdown",
   "id": "87446d5d-1f51-440f-a17a-2761b750c960",
   "metadata": {
    "papermill": {},
    "tags": []
   },
   "source": [
    "### Connect to client"
   ]
  },
  {
   "cell_type": "code",
   "execution_count": null,
   "id": "d69d39bf-2d99-49a0-819d-f411bf7457ba",
   "metadata": {
    "papermill": {},
    "tags": []
   },
   "outputs": [],
   "source": [
    "flow = InstalledAppFlow.from_client_secrets_file(secret_path, scopes=scopes)\n",
    "credentials = flow.run_console()\n",
    "slides_service = build('slides', 'v1', credentials=credentials)"
   ]
  },
  {
   "cell_type": "markdown",
   "id": "a2d34fe9-790f-4185-9934-3b3133fde733",
   "metadata": {
    "papermill": {},
    "tags": []
   },
   "source": [
    "## Output"
   ]
  },
  {
   "cell_type": "markdown",
   "id": "977b2942-a0b9-496a-abe0-4a0ded79551a",
   "metadata": {
    "papermill": {},
    "tags": []
   },
   "source": [
    "### Replace text within a shape\n",
    "The Slides API lets you modify the text content of a shape. You can remove individual ranges of text, and you can insert text at a specific location."
   ]
  },
  {
   "cell_type": "code",
   "execution_count": null,
   "id": "15ff4bed-f80a-4936-b8ad-fc52967caf19",
   "metadata": {
    "papermill": {},
    "tags": []
   },
   "outputs": [],
   "source": [
    "def simple_text_replace(\n",
    "    slides_service,\n",
    "    presentation_url,\n",
    "    shape_id,\n",
    "    replacement_text\n",
    "):\n",
    "    # Get the presentation ID from URL\n",
    "    presentation_id = presentation_url.split(\"/d/\")[-1].split(\"/\")[0]\n",
    "\n",
    "    # pylint: disable=maybe-no-member\n",
    "    try:\n",
    "        # Remove existing text in the shape, then insert new text.\n",
    "        requests = []\n",
    "        requests.append({\n",
    "            'deleteText': {\n",
    "                'objectId': shape_id,\n",
    "                'textRange': {\n",
    "                    'type': 'ALL'\n",
    "                }\n",
    "            }\n",
    "        })\n",
    "        requests.append({\n",
    "            'insertText': {\n",
    "                'objectId': shape_id,\n",
    "                'insertionIndex': 0,\n",
    "                'text': replacement_text\n",
    "            }\n",
    "        })\n",
    "\n",
    "        # Execute the requests.\n",
    "        body = {\n",
    "            'requests': requests\n",
    "        }\n",
    "        response = slides_service.presentations().batchUpdate(\n",
    "            presentationId=presentation_id, body=body).execute()\n",
    "        print(f\"Replaced text in shape with ID: {shape_id}\")\n",
    "        return response\n",
    "    except HttpError as error:\n",
    "        print(f\"An error occurred: {error}\")\n",
    "        print(\"Text is not merged\")\n",
    "        return error\n",
    "    \n",
    "# Put the slides_service, presentation_id, shape_id and replacement_text\n",
    "res = simple_text_replace(\n",
    "    slides_service,\n",
    "    presentation_url,\n",
    "    shape_id,\n",
    "    replacement_text\n",
    ")"
   ]
  }
 ],
 "metadata": {
  "kernelspec": {
   "display_name": "Python 3",
   "language": "python",
   "name": "python3"
  },
  "language_info": {
   "codemirror_mode": {
    "name": "ipython",
    "version": 3
   },
   "file_extension": ".py",
   "mimetype": "text/x-python",
   "name": "python",
   "nbconvert_exporter": "python",
   "pygments_lexer": "ipython3",
   "version": "3.9.6"
  },
  "naas": {
   "notebook_id": "5ee4be70aada8b886738cac583ed13df2be5a8597fa7dc4f811f5a8a12861f36",
   "notebook_path": "Google Slides/Google_Slides_Replace_text_within_a_shape.ipynb"
  },
  "papermill": {
   "default_parameters": {},
   "environment_variables": {},
   "parameters": {},
   "version": "2.4.0"
  },
  "widgets": {
   "application/vnd.jupyter.widget-state+json": {
    "state": {},
    "version_major": 2,
    "version_minor": 0
   }
  }
 },
 "nbformat": 4,
 "nbformat_minor": 5
}