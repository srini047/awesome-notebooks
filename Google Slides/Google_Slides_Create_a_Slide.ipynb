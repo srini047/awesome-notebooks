{
 "cells": [
  {
   "cell_type": "markdown",
   "id": "67529b92-2e80-4457-8435-001ae13d6a10",
   "metadata": {
    "papermill": {},
    "tags": []
   },
   "source": [
    "<img width=\"10%\" alt=\"Naas\" src=\"https://landen.imgix.net/jtci2pxwjczr/assets/5ice39g4.png?w=160\"/>"
   ]
  },
  {
   "cell_type": "markdown",
   "id": "6db3d2c1-072c-4d83-afb2-0ba3593e218d",
   "metadata": {
    "papermill": {},
    "tags": []
   },
   "source": [
    "# Google Slides - Create a Slide\n",
    "<a href=\"https://app.naas.ai/user-redirect/naas/downloader?url=https://raw.githubusercontent.com/jupyter-naas/awesome-notebooks/master/Google%20Slides/Google_Slides_Create_a_Slide.ipynb\" target=\"_parent\"><img src=\"https://naasai-public.s3.eu-west-3.amazonaws.com/Open_in_Naas_Lab.svg\"/></a><br><br><a href=\"https://github.com/jupyter-naas/awesome-notebooks/issues/new?assignees=&labels=&template=template-request.md&title=Tool+-+Action+of+the+notebook+\">Template request</a> | <a href=\"https://github.com/jupyter-naas/awesome-notebooks/issues/new?assignees=&labels=bug&template=bug_report.md&title=Google+Slides+-+Create+a+Slide:+Error+short+description\">Bug report</a> | <a href=\"https://app.naas.ai/user-redirect/naas/downloader?url=https://raw.githubusercontent.com/jupyter-naas/awesome-notebooks/master/Naas/Naas_Start_data_product.ipynb\" target=\"_parent\">Generate Data Product</a>"
   ]
  },
  {
   "cell_type": "markdown",
   "id": "937ae706-c3fe-4104-a85a-3b74f68f93b6",
   "metadata": {
    "papermill": {},
    "tags": []
   },
   "source": [
    "**Tags:** #googleslides #slides #create #api #developers #guides"
   ]
  },
  {
   "cell_type": "markdown",
   "id": "6306fa7b-6298-4fb2-b138-f62c3f85da87",
   "metadata": {
    "papermill": {},
    "tags": []
   },
   "source": [
    "**Author:** [Florent Ravenel](http://linkedin.com/in/florent-ravenel)"
   ]
  },
  {
   "cell_type": "markdown",
   "id": "3b0bab0b-8174-4ef4-ac87-5567dbd02b7d",
   "metadata": {
    "papermill": {},
    "tags": []
   },
   "source": [
    "**Description:** This notebook describes how to insert a blank slide to an existing Google Slides presentation establishing a seamless connection using OAuth consent."
   ]
  },
  {
   "cell_type": "markdown",
   "id": "55d96804-df93-4dcf-a329-99ed2fcc0f0b",
   "metadata": {
    "papermill": {},
    "tags": []
   },
   "source": [
    "**References:**\n",
    "- [Google Slides API Guides](https://developers.google.com/slides/api/guides/create-slide)"
   ]
  },
  {
   "cell_type": "markdown",
   "id": "eeab2c39-8dbd-484e-8696-acbd84627ebd",
   "metadata": {
    "papermill": {},
    "tags": []
   },
   "source": [
    "## Input"
   ]
  },
  {
   "cell_type": "markdown",
   "id": "e9e65d84-941c-4f33-b2cf-2f88d1017a92",
   "metadata": {
    "papermill": {},
    "tags": []
   },
   "source": [
    "### Import libraries"
   ]
  },
  {
   "cell_type": "code",
   "execution_count": null,
   "id": "cdccb272-0f59-4549-9d5b-ca45feb70455",
   "metadata": {
    "papermill": {},
    "tags": []
   },
   "outputs": [],
   "source": [
    "try:\n",
    "    from apiclient.discovery import build\n",
    "    from google_auth_oauthlib.flow import InstalledAppFlow\n",
    "except ModuleNotFoundError:\n",
    "    !pip install google-api-python-client\n",
    "    from apiclient.discovery import build\n",
    "    from google_auth_oauthlib.flow import InstalledAppFlow\n",
    "import uuid"
   ]
  },
  {
   "cell_type": "markdown",
   "id": "ba93fa6f-db30-451c-8a64-b30fa62f5567",
   "metadata": {
    "papermill": {},
    "tags": []
   },
   "source": [
    "### Setup Variables\n",
    "- `secret_path`: Set the path to the credentials JSON file\n",
    "- `scopes`: Set the scopes required for accessing Google Slides\n",
    "- `presentation_url`: The URL of the presentation to add the slide to.\n",
    "- `insertion_index`: Specify the position at which you want to insert the slide"
   ]
  },
  {
   "cell_type": "code",
   "execution_count": null,
   "id": "370e5916-a8a9-4866-a1e0-585a792d6345",
   "metadata": {
    "papermill": {},
    "tags": []
   },
   "outputs": [],
   "source": [
    "# Inputs\n",
    "secret_path = 'secret.json'\n",
    "scopes = [\n",
    "    'https://www.googleapis.com/auth/presentations',\n",
    "    'https://www.googleapis.com/auth/presentations.readonly'\n",
    "]\n",
    "presentation_url = \"https://docs.google.com/presentation/d/xxxxxxxxxxxxxxxxx/\"\n",
    "insertion_index = 1  # Replace with the actual position where you want to insert the slide"
   ]
  },
  {
   "cell_type": "markdown",
   "id": "a011a5ea-c0af-4a78-a04a-675314d83925",
   "metadata": {
    "papermill": {},
    "tags": []
   },
   "source": [
    "## Model"
   ]
  },
  {
   "cell_type": "markdown",
   "id": "71718993-9133-432c-9d5b-18d766842180",
   "metadata": {
    "papermill": {},
    "tags": []
   },
   "source": [
    "### Connect to client"
   ]
  },
  {
   "cell_type": "code",
   "execution_count": null,
   "id": "82259031-0913-42fa-9ec5-3b893da89526",
   "metadata": {
    "papermill": {},
    "tags": []
   },
   "outputs": [],
   "source": [
    "flow = InstalledAppFlow.from_client_secrets_file(secret_path, scopes=scopes)\n",
    "credentials = flow.run_console()\n",
    "slides_service = build('slides', 'v1', credentials=credentials)"
   ]
  },
  {
   "cell_type": "markdown",
   "id": "d85a3a9a-0697-47bb-af2d-cb4d587ddb9e",
   "metadata": {
    "papermill": {},
    "tags": []
   },
   "source": [
    "## Output"
   ]
  },
  {
   "cell_type": "markdown",
   "id": "fd4906d3-b8b1-4d05-9762-1e09c7f36188",
   "metadata": {
    "papermill": {},
    "tags": []
   },
   "source": [
    "### Create Slide"
   ]
  },
  {
   "cell_type": "code",
   "execution_count": null,
   "id": "cce792ca-16b7-414e-8da9-9038bffa0c47",
   "metadata": {
    "papermill": {},
    "tags": []
   },
   "outputs": [],
   "source": [
    "# Get the presentation ID from URL\n",
    "presentation_id = presentation_url.split(\"/d/\")[-1].split(\"/\")[0]\n",
    "\n",
    "# Generate a unique object ID for the duplicated slide\n",
    "new_slide_id = f'{str(uuid.uuid4())[:50]}'\n",
    "\n",
    "# Duplicate the slide\n",
    "requests = [\n",
    "    {\n",
    "        'createSlide': {\n",
    "            'objectId': new_slide_id,\n",
    "            'slideLayoutReference': {\n",
    "                'predefinedLayout': 'BLANK'\n",
    "            },\n",
    "            'insertionIndex': insertion_index,\n",
    "        }\n",
    "    }\n",
    "]\n",
    "\n",
    "# Execute the batch update request\n",
    "slides_service.presentations().batchUpdate(presentationId=presentation_id, body={'requests': requests}).execute()\n",
    "print('Slide created successfully!', f\"https://docs.google.com/presentation/d/{presentation_id}/edit#slide=id.{new_slide_id}\")"
   ]
  },
  {
   "cell_type": "markdown",
   "id": "c96dc86f-9af4-4385-b4c0-cb5eb92e331b",
   "metadata": {
    "papermill": {},
    "tags": []
   },
   "source": [
    " "
   ]
  }
 ],
 "metadata": {
  "kernelspec": {
   "display_name": "Python 3",
   "language": "python",
   "name": "python3"
  },
  "language_info": {
   "codemirror_mode": {
    "name": "ipython",
    "version": 3
   },
   "file_extension": ".py",
   "mimetype": "text/x-python",
   "name": "python",
   "nbconvert_exporter": "python",
   "pygments_lexer": "ipython3",
   "version": "3.9.6"
  },
  "naas": {
   "notebook_id": "ce8167442d31886b2f8cd299da0d39fd5c26e646f8a734d91fc21a0d3372f5ff",
   "notebook_path": "Google Slides/Google_Slides_Create_a_Slide.ipynb"
  },
  "papermill": {
   "default_parameters": {},
   "environment_variables": {},
   "parameters": {},
   "version": "2.4.0"
  },
  "widgets": {
   "application/vnd.jupyter.widget-state+json": {
    "state": {},
    "version_major": 2,
    "version_minor": 0
   }
  }
 },
 "nbformat": 4,
 "nbformat_minor": 5
}