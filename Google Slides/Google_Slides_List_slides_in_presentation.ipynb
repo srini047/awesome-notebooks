{
 "cells": [
  {
   "cell_type": "markdown",
   "id": "54d4033c-4cf4-4cf2-94f6-427ed65302e6",
   "metadata": {
    "papermill": {},
    "tags": []
   },
   "source": [
    "<img width=\"10%\" alt=\"Naas\" src=\"https://landen.imgix.net/jtci2pxwjczr/assets/5ice39g4.png?w=160\"/>"
   ]
  },
  {
   "cell_type": "markdown",
   "id": "16071481-f0ec-420f-8c5c-f5a4a133091b",
   "metadata": {
    "papermill": {},
    "tags": []
   },
   "source": [
    "# Google Slides - List slides in presentation\n",
    "<a href=\"https://app.naas.ai/user-redirect/naas/downloader?url=https://raw.githubusercontent.com/jupyter-naas/awesome-notebooks/master/Google%20Slides/Google_Slides_List_slides_in_presentation.ipynb\" target=\"_parent\"><img src=\"https://naasai-public.s3.eu-west-3.amazonaws.com/Open_in_Naas_Lab.svg\"/></a><br><br><a href=\"https://github.com/jupyter-naas/awesome-notebooks/issues/new?assignees=&labels=&template=template-request.md&title=Tool+-+Action+of+the+notebook+\">Template request</a> | <a href=\"https://github.com/jupyter-naas/awesome-notebooks/issues/new?assignees=&labels=bug&template=bug_report.md&title=Google+Slides+-+List+slides+in+presentation:+Error+short+description\">Bug report</a> | <a href=\"https://app.naas.ai/user-redirect/naas/downloader?url=https://raw.githubusercontent.com/jupyter-naas/awesome-notebooks/master/Naas/Naas_Start_data_product.ipynb\" target=\"_parent\">Generate Data Product</a>"
   ]
  },
  {
   "cell_type": "markdown",
   "id": "a629d6d0-b920-4b7f-80a9-3e37ccadade7",
   "metadata": {
    "papermill": {},
    "tags": []
   },
   "source": [
    "**Tags:** #googleslides #presentation #list #slides #python #api"
   ]
  },
  {
   "cell_type": "markdown",
   "id": "b0d5f706-0787-4f63-92bf-b33e3084fe25",
   "metadata": {
    "papermill": {},
    "tags": []
   },
   "source": [
    "**Author:** [Florent Ravenel](https://linkedin.com/in/florent-ravenel)"
   ]
  },
  {
   "cell_type": "markdown",
   "id": "97979593-b78f-4842-b7ef-07ce6e433989",
   "metadata": {
    "papermill": {},
    "tags": []
   },
   "source": [
    "**Description:** This notebook will list all the slides in a Google Slides presentation and is usefull for organizations that need to quickly access the content of a presentation."
   ]
  },
  {
   "cell_type": "markdown",
   "id": "9cdcd63f-2f58-468c-b8ba-1e3e7e9e41a9",
   "metadata": {
    "papermill": {},
    "tags": []
   },
   "source": [
    "**References:**\n",
    "- [Google Slides API Documentation](https://developers.google.com/slides/how-tos/overview)\n",
    "- [Google Slides API Python Quickstart](https://developers.google.com/slides/quickstart/python)"
   ]
  },
  {
   "cell_type": "markdown",
   "id": "c6cd7a96-ef06-46e3-a6ce-f899b941b81d",
   "metadata": {
    "papermill": {},
    "tags": []
   },
   "source": [
    "## Input"
   ]
  },
  {
   "cell_type": "markdown",
   "id": "e20cd7fe-1117-45b6-b237-fefb12e0ee39",
   "metadata": {
    "papermill": {},
    "tags": []
   },
   "source": [
    "### Import libraries"
   ]
  },
  {
   "cell_type": "code",
   "execution_count": null,
   "id": "d882554f-d366-402b-a073-bf81f26ecea6",
   "metadata": {
    "papermill": {},
    "tags": []
   },
   "outputs": [],
   "source": [
    "try:\n",
    "    from apiclient.discovery import build\n",
    "    from google_auth_oauthlib.flow import InstalledAppFlow\n",
    "except ModuleNotFoundError:\n",
    "    !pip install google-api-python-client\n",
    "    from apiclient.discovery import build\n",
    "    from google_auth_oauthlib.flow import InstalledAppFlow"
   ]
  },
  {
   "cell_type": "markdown",
   "id": "7f3113ea-b4aa-4b32-9cbd-225ddfd3c897",
   "metadata": {
    "papermill": {},
    "tags": []
   },
   "source": [
    "### Setup Variables\n",
    "- `secret_path`: Set the path to the credentials JSON file\n",
    "- `scopes`: Set the scopes required for accessing Google Slides\n",
    "- `presentation_url`: The URL of the presentation to add the slide to."
   ]
  },
  {
   "cell_type": "code",
   "execution_count": null,
   "id": "7aa9149a-81a8-42b1-9e6b-933d8edc56bd",
   "metadata": {
    "papermill": {},
    "tags": []
   },
   "outputs": [],
   "source": [
    "# Inputs\n",
    "secret_path = 'secret.json'\n",
    "scopes = [\n",
    "    'https://www.googleapis.com/auth/presentations',\n",
    "    'https://www.googleapis.com/auth/presentations.readonly'\n",
    "]\n",
    "presentation_url = \"https://docs.google.com/presentation/d/xxxxxxxxxxxxxxxxx/\""
   ]
  },
  {
   "cell_type": "markdown",
   "id": "af6c7068-939e-4394-8872-b0ba0ec54bd4",
   "metadata": {
    "papermill": {},
    "tags": []
   },
   "source": [
    "## Model"
   ]
  },
  {
   "cell_type": "markdown",
   "id": "924f83ae-ad7c-4525-8187-c68cacc83f76",
   "metadata": {
    "papermill": {},
    "tags": []
   },
   "source": [
    "### Connect to client"
   ]
  },
  {
   "cell_type": "code",
   "execution_count": null,
   "id": "68c1dd80-6cd3-44c7-8580-57d5fddcb4a5",
   "metadata": {
    "papermill": {},
    "tags": []
   },
   "outputs": [],
   "source": [
    "flow = InstalledAppFlow.from_client_secrets_file(secret_path, scopes=scopes)\n",
    "credentials = flow.run_console()\n",
    "slides_service = build('slides', 'v1', credentials=credentials)"
   ]
  },
  {
   "cell_type": "markdown",
   "id": "23156b1b-1902-4f24-ba32-b0c7e3f4fc2f",
   "metadata": {
    "papermill": {},
    "tags": []
   },
   "source": [
    "### Get presentation"
   ]
  },
  {
   "cell_type": "code",
   "execution_count": null,
   "id": "7b6fd077-143a-4ed9-a838-5698722b646f",
   "metadata": {
    "papermill": {},
    "tags": []
   },
   "outputs": [],
   "source": [
    "# Get the presentation ID from URL\n",
    "presentation_id = presentation_url.split(\"/d/\")[-1].split(\"/\")[0]\n",
    "\n",
    "# Call the presentations().get method to get the details of the presentation\n",
    "presentation = slides_service.presentations().get(presentationId=presentation_id).execute()\n",
    "\n",
    "# Extract the details of the presentation from the response\n",
    "presentation_title = presentation.get('title')\n",
    "presentation_page_size = presentation.get('pageSize')\n",
    "\n",
    "# Print the details of the presentation\n",
    "print(f'Presentation ID: {presentation_id}')\n",
    "print(f'Title: {presentation_title}')"
   ]
  },
  {
   "cell_type": "markdown",
   "id": "7f4e0b8f-da44-4560-8135-ae4fddd29065",
   "metadata": {
    "papermill": {},
    "tags": []
   },
   "source": [
    "## Output"
   ]
  },
  {
   "cell_type": "markdown",
   "id": "b5b48df6-02da-4bed-b75b-63cfa233839b",
   "metadata": {
    "papermill": {},
    "tags": []
   },
   "source": [
    "### List slides"
   ]
  },
  {
   "cell_type": "code",
   "execution_count": null,
   "id": "2810770e-f639-498e-941d-35ed3bed32d2",
   "metadata": {
    "papermill": {},
    "tags": []
   },
   "outputs": [],
   "source": [
    "# Call the slides().list() method to retrieve the slides in the presentation\n",
    "slides = slides_service.presentations().get(presentationId=presentation_id).execute()\n",
    "list_slides = slides.get(\"slides\")\n",
    "print(\"Slides fetched:\", len(list_slides))\n",
    "list_slides[0]"
   ]
  }
 ],
 "metadata": {
  "kernelspec": {
   "display_name": "Python 3",
   "language": "python",
   "name": "python3"
  },
  "language_info": {
   "codemirror_mode": {
    "name": "ipython",
    "version": 3
   },
   "file_extension": ".py",
   "mimetype": "text/x-python",
   "name": "python",
   "nbconvert_exporter": "python",
   "pygments_lexer": "ipython3",
   "version": "3.9.6"
  },
  "naas": {
   "notebook_id": "4310bd0e9d59bba6ee8d36901c9519799e4753bb99624ef7f21272d14bc967ac",
   "notebook_path": "Google Slides/Google_Slides_List_slides_in_presentation.ipynb"
  },
  "papermill": {
   "default_parameters": {},
   "environment_variables": {},
   "parameters": {},
   "version": "2.4.0"
  },
  "widgets": {
   "application/vnd.jupyter.widget-state+json": {
    "state": {},
    "version_major": 2,
    "version_minor": 0
   }
  }
 },
 "nbformat": 4,
 "nbformat_minor": 5
}