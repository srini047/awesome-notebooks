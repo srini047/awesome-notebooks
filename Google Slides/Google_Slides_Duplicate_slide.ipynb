{
 "cells": [
  {
   "cell_type": "markdown",
   "id": "a73ecba8-6ff9-4595-a057-cba26a9b2ff7",
   "metadata": {
    "papermill": {},
    "tags": []
   },
   "source": [
    "<img width=\"10%\" alt=\"Naas\" src=\"https://landen.imgix.net/jtci2pxwjczr/assets/5ice39g4.png?w=160\"/>"
   ]
  },
  {
   "cell_type": "markdown",
   "id": "44b8981a-6e44-4209-9fdc-c6e3708f428f",
   "metadata": {
    "papermill": {},
    "tags": []
   },
   "source": [
    "# Google Slides - Duplicate slide\n",
    "<a href=\"https://app.naas.ai/user-redirect/naas/downloader?url=https://raw.githubusercontent.com/jupyter-naas/awesome-notebooks/master/Google%20Slides/Google_Slides_Duplicate_slide.ipynb\" target=\"_parent\"><img src=\"https://naasai-public.s3.eu-west-3.amazonaws.com/Open_in_Naas_Lab.svg\"/></a><br><br><a href=\"https://github.com/jupyter-naas/awesome-notebooks/issues/new?assignees=&labels=&template=template-request.md&title=Tool+-+Action+of+the+notebook+\">Template request</a> | <a href=\"https://github.com/jupyter-naas/awesome-notebooks/issues/new?assignees=&labels=bug&template=bug_report.md&title=Google+Slides+-+Duplicate+slide:+Error+short+description\">Bug report</a> | <a href=\"https://app.naas.ai/user-redirect/naas/downloader?url=https://raw.githubusercontent.com/jupyter-naas/awesome-notebooks/master/Naas/Naas_Start_data_product.ipynb\" target=\"_parent\">Generate Data Product</a>"
   ]
  },
  {
   "cell_type": "markdown",
   "id": "7f014a99-5503-469a-9833-b9d03b78780c",
   "metadata": {
    "papermill": {},
    "tags": []
   },
   "source": [
    "**Tags:** #googleslides #slides #duplicate #copy #presentation #slideshow"
   ]
  },
  {
   "cell_type": "markdown",
   "id": "96c10548-5ed1-421a-b825-fe90eb20da1f",
   "metadata": {
    "papermill": {},
    "tags": []
   },
   "source": [
    "**Author:** [Florent Ravenel](https://linkedin.com/in/florent-ravenel)"
   ]
  },
  {
   "cell_type": "markdown",
   "id": "2dc8a869-42a4-40bb-87d8-c8d5c0272eee",
   "metadata": {
    "papermill": {},
    "tags": []
   },
   "source": [
    "**Description:** This notebook explains how to duplicate a slide in Google Slides establishing a seamless connection using OAuth consent. It is usefull for organizations that need to quickly create a presentation with similar slides."
   ]
  },
  {
   "cell_type": "markdown",
   "id": "46fbdf38-efe7-445b-9853-9929f08c1be8",
   "metadata": {
    "papermill": {},
    "tags": []
   },
   "source": [
    "**References:**\n",
    "- [Google Slides - Duplicate a slide](https://support.google.com/docs/answer/9071445?hl=en)\n",
    "- [Google Slides - Create a presentation](https://support.google.com/docs/answer/181403?hl=en)"
   ]
  },
  {
   "cell_type": "markdown",
   "id": "8b66d300-4ede-4978-9b5c-373ed064eada",
   "metadata": {
    "papermill": {},
    "tags": []
   },
   "source": [
    "## Input"
   ]
  },
  {
   "cell_type": "markdown",
   "id": "08d206f9-efd9-441a-891a-2eabf5ce0081",
   "metadata": {
    "papermill": {},
    "tags": []
   },
   "source": [
    "### Import libraries"
   ]
  },
  {
   "cell_type": "code",
   "execution_count": null,
   "id": "c610c2b7-b57e-40df-b644-40aa35715274",
   "metadata": {
    "papermill": {},
    "tags": []
   },
   "outputs": [],
   "source": [
    "try:\n",
    "    from apiclient.discovery import build\n",
    "    from google_auth_oauthlib.flow import InstalledAppFlow\n",
    "except ModuleNotFoundError:\n",
    "    !pip install google-api-python-client\n",
    "    from apiclient.discovery import build\n",
    "    from google_auth_oauthlib.flow import InstalledAppFlow\n",
    "import uuid"
   ]
  },
  {
   "cell_type": "markdown",
   "id": "5a51e25c-db80-4e9e-b091-65b68318b077",
   "metadata": {
    "papermill": {},
    "tags": []
   },
   "source": [
    "### Setup Variables\n",
    "- `secret_path`: Set the path to the credentials JSON file\n",
    "- `scopes`: Set the scopes required for accessing Google Slides\n",
    "- `slide_url`: The URL of the slide to be duplicated.\n",
    "- `insertion_index`: Specify the position at which you want to insert the slide"
   ]
  },
  {
   "cell_type": "code",
   "execution_count": null,
   "id": "a1d836ce-4621-4dc5-a7b6-7df698ad6800",
   "metadata": {
    "papermill": {},
    "tags": []
   },
   "outputs": [],
   "source": [
    "# Inputs\n",
    "secret_path = 'secret.json'\n",
    "scopes = [\n",
    "    'https://www.googleapis.com/auth/presentations',\n",
    "    'https://www.googleapis.com/auth/presentations.readonly'\n",
    "]\n",
    "slide_url = \"https://docs.google.com/presentation/d/xxxxxxxxxxxxx/edit#slide=id.xxxxxxxxxx\"\n",
    "insertion_index = 1  # Replace with the actual position where you want to insert the slide"
   ]
  },
  {
   "cell_type": "markdown",
   "id": "06d7d0b3-30ab-4186-b622-2fbbb559817d",
   "metadata": {
    "papermill": {},
    "tags": []
   },
   "source": [
    "## Model"
   ]
  },
  {
   "cell_type": "markdown",
   "id": "b77177c3-c2ea-49aa-b52b-72197296cf77",
   "metadata": {
    "papermill": {},
    "tags": []
   },
   "source": [
    "### Connect to client"
   ]
  },
  {
   "cell_type": "code",
   "execution_count": null,
   "id": "22c6f299-1b09-4b7c-9ed2-2d16ae0a0af4",
   "metadata": {
    "papermill": {},
    "tags": []
   },
   "outputs": [],
   "source": [
    "flow = InstalledAppFlow.from_client_secrets_file(secret_path, scopes=scopes)\n",
    "credentials = flow.run_console()\n",
    "slides_service = build('slides', 'v1', credentials=credentials)"
   ]
  },
  {
   "cell_type": "markdown",
   "id": "2412f1fa-2ff8-42e8-a921-2fe8f267f775",
   "metadata": {
    "papermill": {},
    "tags": []
   },
   "source": [
    "## Output"
   ]
  },
  {
   "cell_type": "markdown",
   "id": "0363da7c-8422-4417-88d9-9838d8e8cf11",
   "metadata": {
    "papermill": {},
    "tags": []
   },
   "source": [
    "### Duplicate slide\n",
    "Duplicate a slide in Google Slides using the slide ID."
   ]
  },
  {
   "cell_type": "code",
   "execution_count": null,
   "id": "e7acfff2-0039-4677-81dd-77a2e5947be2",
   "metadata": {
    "papermill": {},
    "tags": []
   },
   "outputs": [],
   "source": [
    "# Get presentation_id & slide ID\n",
    "presentation_id = slide_url.split(\"/d/\")[-1].split(\"/\")[0]\n",
    "slide_id = slide_url.split(\"slide=id.\")[-1]\n",
    "\n",
    "# Duplicate the slide and place it at the first position\n",
    "requests = [\n",
    "    {\n",
    "        'duplicateObject': {\n",
    "            'objectId': slide_id,\n",
    "            'objectIds': {},\n",
    "        }\n",
    "    }\n",
    "]\n",
    "\n",
    "# Execute the batch update request\n",
    "response = slides_service.presentations().batchUpdate(presentationId=presentation_id, body={'requests': requests}).execute()\n",
    "\n",
    "# Get the ID of the duplicated slide\n",
    "duplicated_slide_id = response['replies'][0]['duplicateObject']['objectId']\n",
    "\n",
    "print(f'Slide duplicated successfully! Duplicated slide ID: https://docs.google.com/presentation/d/{presentation_id}/edit#slide=id.{duplicated_slide_id}')"
   ]
  }
 ],
 "metadata": {
  "kernelspec": {
   "display_name": "Python 3",
   "language": "python",
   "name": "python3"
  },
  "language_info": {
   "codemirror_mode": {
    "name": "ipython",
    "version": 3
   },
   "file_extension": ".py",
   "mimetype": "text/x-python",
   "name": "python",
   "nbconvert_exporter": "python",
   "pygments_lexer": "ipython3",
   "version": "3.9.6"
  },
  "naas": {
   "notebook_id": "a397cec39c6fdad00f731f42c05d051037f4b2f52822c0818359408002f7c450",
   "notebook_path": "Google Slides/Google_Slides_Duplicate_slide.ipynb"
  },
  "papermill": {
   "default_parameters": {},
   "environment_variables": {},
   "parameters": {},
   "version": "2.4.0"
  },
  "widgets": {
   "application/vnd.jupyter.widget-state+json": {
    "state": {},
    "version_major": 2,
    "version_minor": 0
   }
  }
 },
 "nbformat": 4,
 "nbformat_minor": 5
}