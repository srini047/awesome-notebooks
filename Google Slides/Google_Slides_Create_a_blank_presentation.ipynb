{
 "cells": [
  {
   "cell_type": "markdown",
   "id": "7d5fe892-c7f9-4256-ae68-9d92938a5818",
   "metadata": {
    "papermill": {},
    "tags": []
   },
   "source": [
    "<img width=\"10%\" alt=\"Naas\" src=\"https://landen.imgix.net/jtci2pxwjczr/assets/5ice39g4.png?w=160\"/>"
   ]
  },
  {
   "cell_type": "markdown",
   "id": "1bf61de5-f4b2-447b-b225-fd7ea7675456",
   "metadata": {
    "papermill": {},
    "tags": []
   },
   "source": [
    "# Google Slides - Create a blank presentation\n",
    "<a href=\"https://app.naas.ai/user-redirect/naas/downloader?url=https://raw.githubusercontent.com/jupyter-naas/awesome-notebooks/master/Google%20Slides/Google_Slides_Create_a_blank_presentation.ipynb\" target=\"_parent\"><img src=\"https://naasai-public.s3.eu-west-3.amazonaws.com/Open_in_Naas_Lab.svg\"/></a><br><br><a href=\"https://github.com/jupyter-naas/awesome-notebooks/issues/new?assignees=&labels=&template=template-request.md&title=Tool+-+Action+of+the+notebook+\">Template request</a> | <a href=\"https://github.com/jupyter-naas/awesome-notebooks/issues/new?assignees=&labels=bug&template=bug_report.md&title=Google+Slides+-+Create+a+blank+presentation:+Error+short+description\">Bug report</a> | <a href=\"https://app.naas.ai/user-redirect/naas/downloader?url=https://raw.githubusercontent.com/jupyter-naas/awesome-notebooks/master/Naas/Naas_Start_data_product.ipynb\" target=\"_parent\">Generate Data Product</a>"
   ]
  },
  {
   "cell_type": "markdown",
   "id": "4369339a-bd8a-476c-8e37-d0313a15e1ec",
   "metadata": {
    "papermill": {},
    "tags": []
   },
   "source": [
    "**Tags:** #google #slides #presentation #create #blank #api"
   ]
  },
  {
   "cell_type": "markdown",
   "id": "f98d1b48-0ade-4893-a4b7-8150848113c6",
   "metadata": {
    "papermill": {},
    "tags": []
   },
   "source": [
    "**Author:** [Florent Ravenel](http://linkedin.com/in/florent-ravenel)"
   ]
  },
  {
   "cell_type": "markdown",
   "id": "09517615-515a-4af8-9a7d-fd9984f02eac",
   "metadata": {
    "papermill": {},
    "tags": []
   },
   "source": [
    "**Description:** This notebook creates a blank presentation with a specified title using Google Slides API while connecting with oauth consent."
   ]
  },
  {
   "cell_type": "markdown",
   "id": "234d9cd1-41e4-41f9-b417-c14150eadd1d",
   "metadata": {
    "papermill": {},
    "tags": []
   },
   "source": [
    "**References:**\n",
    "- [Google Slides API](https://developers.google.com/slides/api/guides/presentations)\n",
    "- [Google Slides API Quickstart](https://developers.google.com/slides/quickstart/python)"
   ]
  },
  {
   "cell_type": "markdown",
   "id": "135848e4-ee39-4d70-9260-6124979d921e",
   "metadata": {
    "papermill": {},
    "tags": []
   },
   "source": [
    "## Input"
   ]
  },
  {
   "cell_type": "markdown",
   "id": "c5d8b47a-35e0-4a36-961a-2be47f2c4c1f",
   "metadata": {
    "papermill": {},
    "tags": []
   },
   "source": [
    "### Import libraries"
   ]
  },
  {
   "cell_type": "code",
   "execution_count": null,
   "id": "c3c58f75-4349-4055-9984-d61f9b816e6c",
   "metadata": {
    "papermill": {},
    "tags": []
   },
   "outputs": [],
   "source": [
    "try:\n",
    "    from apiclient.discovery import build\n",
    "    from google_auth_oauthlib.flow import InstalledAppFlow\n",
    "except ModuleNotFoundError:\n",
    "    !pip install google-api-python-client\n",
    "    from apiclient.discovery import build\n",
    "    from google_auth_oauthlib.flow import InstalledAppFlow"
   ]
  },
  {
   "cell_type": "markdown",
   "id": "fb65284a-6318-4401-819f-bc07d546638a",
   "metadata": {
    "papermill": {},
    "tags": []
   },
   "source": [
    "### Setup Variables\n",
    "- `secret_path`: Set the path to the credentials JSON file\n",
    "- `scopes`: Set the scopes required for accessing Google Slides\n",
    "- `title`: Title of the presentation"
   ]
  },
  {
   "cell_type": "code",
   "execution_count": null,
   "id": "7f49f613-1935-4324-a935-528bd666d91b",
   "metadata": {
    "papermill": {},
    "tags": []
   },
   "outputs": [],
   "source": [
    "secret_path = 'secret.json'\n",
    "scopes = [\n",
    "    'https://www.googleapis.com/auth/presentations',\n",
    "    'https://www.googleapis.com/auth/presentations.readonly'\n",
    "]\n",
    "title = 'New Presentation'"
   ]
  },
  {
   "cell_type": "markdown",
   "id": "0c7238bd-b2c4-45e4-a42d-69a24d036020",
   "metadata": {
    "papermill": {},
    "tags": []
   },
   "source": [
    "## Model"
   ]
  },
  {
   "cell_type": "markdown",
   "id": "59065136-8e8e-4185-aa2b-791caaa084c0",
   "metadata": {
    "papermill": {},
    "tags": []
   },
   "source": [
    "### Connect to client"
   ]
  },
  {
   "cell_type": "code",
   "execution_count": null,
   "id": "9e9c4321-3bc9-4aff-acaa-63c82e7c853a",
   "metadata": {
    "papermill": {},
    "tags": []
   },
   "outputs": [],
   "source": [
    "flow = InstalledAppFlow.from_client_secrets_file(secret_path, scopes=scopes)\n",
    "credentials = flow.run_console()\n",
    "slides_service = build('slides', 'v1', credentials=credentials)"
   ]
  },
  {
   "cell_type": "markdown",
   "id": "21671440-ba25-4985-8b07-b88293cb37da",
   "metadata": {
    "papermill": {},
    "tags": []
   },
   "source": [
    "## Output"
   ]
  },
  {
   "cell_type": "markdown",
   "id": "ea0fd340-ea82-45fd-8c2e-74fd0b32066a",
   "metadata": {
    "papermill": {},
    "tags": []
   },
   "source": [
    "### Create a blank presentation"
   ]
  },
  {
   "cell_type": "code",
   "execution_count": null,
   "id": "e806fca5-e9cf-4f4b-86a2-8bc189bc8c5b",
   "metadata": {
    "papermill": {},
    "tags": []
   },
   "outputs": [],
   "source": [
    "# Create a new Google Slides presentation\n",
    "presentation = {\n",
    "    'title': title\n",
    "}\n",
    "presentation = slides_service.presentations() \\\n",
    "    .create(body=presentation).execute()\n",
    "\n",
    "# Retrieve the presentation ID\n",
    "presentation_id = presentation.get('presentationId')\n",
    "\n",
    "# Create a new slide in the presentation\n",
    "requests = [\n",
    "    {\n",
    "        'createSlide': {\n",
    "            'insertionIndex': '1',  # Insert the new slide as the first slide\n",
    "            'slideLayoutReference': {\n",
    "                'predefinedLayout': 'TITLE_AND_TWO_COLUMNS'  # Specify the layout for the new slide\n",
    "            }\n",
    "        }\n",
    "    }\n",
    "]\n",
    "slides_service.presentations().batchUpdate(\n",
    "    presentationId=presentation_id,\n",
    "    body={'requests': requests}).execute()\n",
    "\n",
    "print(f'Google Slide created with presentation ID: https://docs.google.com/presentation/d/{presentation_id}')"
   ]
  },
  {
   "cell_type": "markdown",
   "id": "fa65511e-8656-481f-ac53-be140b8d699e",
   "metadata": {
    "papermill": {},
    "tags": []
   },
   "source": [
    " "
   ]
  }
 ],
 "metadata": {
  "kernelspec": {
   "display_name": "Python 3",
   "language": "python",
   "name": "python3"
  },
  "language_info": {
   "codemirror_mode": {
    "name": "ipython",
    "version": 3
   },
   "file_extension": ".py",
   "mimetype": "text/x-python",
   "name": "python",
   "nbconvert_exporter": "python",
   "pygments_lexer": "ipython3",
   "version": "3.9.6"
  },
  "naas": {
   "notebook_id": "c18cd5159f738d52c6c4c7b6c95f1cf6bbc69b830505f91e9e82c9d2b99382ee",
   "notebook_path": "Google Slides/Google_Slides_Create_a_blank_presentation.ipynb"
  },
  "papermill": {
   "default_parameters": {},
   "environment_variables": {},
   "parameters": {},
   "version": "2.4.0"
  },
  "widgets": {
   "application/vnd.jupyter.widget-state+json": {
    "state": {},
    "version_major": 2,
    "version_minor": 0
   }
  }
 },
 "nbformat": 4,
 "nbformat_minor": 5
}