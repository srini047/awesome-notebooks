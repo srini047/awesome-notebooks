{
 "cells": [
  {
   "cell_type": "markdown",
   "id": "c3365311-8788-47d6-a798-4a9ec0f168e9",
   "metadata": {
    "papermill": {},
    "tags": []
   },
   "source": [
    "<img width=\"10%\" alt=\"Naas\" src=\"https://landen.imgix.net/jtci2pxwjczr/assets/5ice39g4.png?w=160\"/>"
   ]
  },
  {
   "cell_type": "markdown",
   "id": "08b90567-c640-4263-81be-696909170b97",
   "metadata": {
    "papermill": {},
    "tags": []
   },
   "source": [
    "# Pandas - Map column with values in dict\n",
    "<a href=\"https://app.naas.ai/user-redirect/naas/downloader?url=https://raw.githubusercontent.com/jupyter-naas/awesome-notebooks/master/Pandas/Pandas_Map_column_with_values_in_dict.ipynb\" target=\"_parent\"><img src=\"https://naasai-public.s3.eu-west-3.amazonaws.com/Open_in_Naas_Lab.svg\"/></a><br><br><a href=\"https://github.com/jupyter-naas/awesome-notebooks/issues/new?assignees=&labels=&template=template-request.md&title=Tool+-+Action+of+the+notebook+\">Template request</a> | <a href=\"https://github.com/jupyter-naas/awesome-notebooks/issues/new?assignees=&labels=bug&template=bug_report.md&title=Pandas+-+Map+column+with+values+in+dict:+Error+short+description\">Bug report</a> | <a href=\"https://app.naas.ai/user-redirect/naas/downloader?url=https://raw.githubusercontent.com/jupyter-naas/awesome-notebooks/master/Naas/Naas_Start_data_product.ipynb\" target=\"_parent\">Generate Data Product</a>"
   ]
  },
  {
   "cell_type": "markdown",
   "id": "695d7e4f-3144-4822-b1ea-ca4ab98baf16",
   "metadata": {
    "papermill": {},
    "tags": []
   },
   "source": [
    "**Tags:** #pandas #dict #map #series"
   ]
  },
  {
   "cell_type": "markdown",
   "id": "5a9663dc-37ce-4311-b15b-3a6ba630600d",
   "metadata": {
    "papermill": {},
    "tags": []
   },
   "source": [
    "**Author:** [Florent Ravenel](https://www.linkedin.com/in/florent-ravenel/)"
   ]
  },
  {
   "cell_type": "markdown",
   "id": "efe29146-4ed5-494b-9bdf-04c1701b2a2a",
   "metadata": {
    "papermill": {},
    "tags": []
   },
   "source": [
    "**Description:** This notebook shows how to map a column of a Pandas DataFrame with values from a dictionary."
   ]
  },
  {
   "cell_type": "markdown",
   "id": "3bd0807e-8613-4f3d-a1ba-ab3aec73135b",
   "metadata": {
    "papermill": {},
    "tags": []
   },
   "source": [
    "<u>References:</u>\n",
    "- https://pandas.pydata.org/pandas-docs/stable/reference/api/pandas.DataFrame.map.html\n",
    "- https://www.geeksforgeeks.org/python-pandas-dataframe-map/"
   ]
  },
  {
   "cell_type": "markdown",
   "id": "f6b25878-e1ce-4a73-9f32-e23149baa457",
   "metadata": {
    "papermill": {},
    "tags": []
   },
   "source": [
    "## Input"
   ]
  },
  {
   "cell_type": "markdown",
   "id": "f00a9d2c-7089-4e23-82c6-515f367c9273",
   "metadata": {
    "papermill": {},
    "tags": []
   },
   "source": [
    "### Import libraries"
   ]
  },
  {
   "cell_type": "code",
   "execution_count": 1,
   "id": "7437a4c2-ea17-4dc4-b855-ef8a90565cef",
   "metadata": {
    "papermill": {},
    "tags": []
   },
   "outputs": [],
   "source": [
    "import pandas as pd"
   ]
  },
  {
   "cell_type": "markdown",
   "id": "ee213dd7-3891-4609-aba1-c44554bb5489",
   "metadata": {
    "papermill": {},
    "tags": []
   },
   "source": [
    "### Setup Variables"
   ]
  },
  {
   "cell_type": "code",
   "execution_count": 2,
   "id": "5b4be54e-fc99-49e9-9907-ce7601b2ae02",
   "metadata": {
    "papermill": {},
    "tags": []
   },
   "outputs": [],
   "source": [
    "data = {\"Name\": [\"John\", \"Paul\", \"George\", \"Ringo\"], \"Age\": [20, 21, 19, 18]}\n",
    "mapping_dict = {20: \"Young\", 21: \"Young\", 19: \"Adult\", 18: \"Adult\"}"
   ]
  },
  {
   "cell_type": "markdown",
   "id": "4be580f2-aa19-492b-a933-9ed5b326a91d",
   "metadata": {
    "papermill": {},
    "tags": []
   },
   "source": [
    "## Model"
   ]
  },
  {
   "cell_type": "markdown",
   "id": "7e449791-8ccf-4a46-819d-ff241cb430ac",
   "metadata": {
    "papermill": {},
    "tags": []
   },
   "source": [
    "### Read dataframe"
   ]
  },
  {
   "cell_type": "code",
   "execution_count": 3,
   "id": "56ffc845-f16b-46d0-bb75-ef4978c3d015",
   "metadata": {
    "papermill": {},
    "tags": []
   },
   "outputs": [],
   "source": [
    "df = pd.DataFrame(data)\n",
    "df"
   ]
  },
  {
   "cell_type": "markdown",
   "id": "155b1db4-e636-4bbf-a2f4-7b6e712758b7",
   "metadata": {
    "papermill": {},
    "tags": []
   },
   "source": [
    "### Map column with values in dict"
   ]
  },
  {
   "cell_type": "code",
   "execution_count": 4,
   "id": "8a1d5e92-75f6-4ab1-9975-d9f3ddc4b650",
   "metadata": {
    "papermill": {},
    "tags": []
   },
   "outputs": [],
   "source": [
    "df[\"Age_Group\"] = df[\"Age\"].map(mapping_dict)"
   ]
  },
  {
   "cell_type": "markdown",
   "id": "e78555d1-0796-45cc-9f4a-3beaa58fb7c3",
   "metadata": {
    "papermill": {},
    "tags": []
   },
   "source": [
    "## Output"
   ]
  },
  {
   "cell_type": "markdown",
   "id": "be0c3b7e-6e70-4352-a73a-e9c7528b59fc",
   "metadata": {
    "papermill": {},
    "tags": []
   },
   "source": [
    "### Display result"
   ]
  },
  {
   "cell_type": "code",
   "execution_count": 5,
   "id": "296149ef-dd7e-438e-92ad-38a3b109cfc3",
   "metadata": {
    "papermill": {},
    "tags": []
   },
   "outputs": [],
   "source": [
    "df"
   ]
  }
 ],
 "metadata": {
  "kernelspec": {
   "display_name": "Python 3",
   "language": "python",
   "name": "python3"
  },
  "language_info": {
   "codemirror_mode": {
    "name": "ipython",
    "version": 3
   },
   "file_extension": ".py",
   "mimetype": "text/x-python",
   "name": "python",
   "nbconvert_exporter": "python",
   "pygments_lexer": "ipython3",
   "version": "3.9.6"
  },
  "naas": {
   "notebook_id": "4ad864c7c502f13639fafe2b968aa7346943bb6330ba7557259e9e431848adcc",
   "notebook_path": "Pandas/Pandas_Map_column_with_values_in_dict.ipynb"
  },
  "papermill": {
   "default_parameters": {},
   "environment_variables": {},
   "parameters": {},
   "version": "2.4.0"
  },
  "widgets": {
   "application/vnd.jupyter.widget-state+json": {
    "state": {},
    "version_major": 2,
    "version_minor": 0
   }
  }
 },
 "nbformat": 4,
 "nbformat_minor": 5
}