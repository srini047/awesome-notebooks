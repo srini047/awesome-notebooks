{
 "cells": [
  {
   "cell_type": "markdown",
   "id": "7fcd5ad4-6963-4ad7-8866-46b4af742bc8",
   "metadata": {
    "execution": {
     "iopub.execute_input": "2021-02-23T14:22:16.610471Z",
     "iopub.status.busy": "2021-02-23T14:22:16.610129Z",
     "iopub.status.idle": "2021-02-23T14:22:16.627784Z",
     "shell.execute_reply": "2021-02-23T14:22:16.626866Z",
     "shell.execute_reply.started": "2021-02-23T14:22:16.610384Z"
    },
    "papermill": {},
    "tags": []
   },
   "source": [
    "<img width=\"10%\" alt=\"Naas\" src=\"https://landen.imgix.net/jtci2pxwjczr/assets/5ice39g4.png?w=160\"/>"
   ]
  },
  {
   "cell_type": "markdown",
   "id": "5d00299c-439b-448d-aca0-556a5a777dca",
   "metadata": {
    "papermill": {},
    "tags": []
   },
   "source": [
    "# Pandas - Drop Duplicate Columns\n",
    "<a href=\"https://app.naas.ai/user-redirect/naas/downloader?url=https://raw.githubusercontent.com/jupyter-naas/awesome-notebooks/master/Pandas/Pandas_Drop_Duplicate_Columns.ipynb\" target=\"_parent\"><img src=\"https://naasai-public.s3.eu-west-3.amazonaws.com/open_in_naas.svg\"/></a><br><br><a href=\"https://github.com/jupyter-naas/awesome-notebooks/issues/new?assignees=&labels=&template=template-request.md&title=Tool+-+Action+of+the+notebook+\">Template request</a> | <a href=\"https://github.com/jupyter-naas/awesome-notebooks/issues/new?assignees=&labels=bug&template=bug_report.md&title=Pandas+-+Drop+Duplicate+Columns:+Error+short+description\">Bug report</a>"
   ]
  },
  {
   "cell_type": "markdown",
   "id": "e45fe6e7-17f7-479e-a0b0-236707950291",
   "metadata": {
    "papermill": {},
    "tags": []
   },
   "source": [
    "**Tags:** #pandas #snippet #datacleaning #operations"
   ]
  },
  {
   "cell_type": "markdown",
   "id": "d8a91802-e447-4c00-897b-e5757a198306",
   "metadata": {
    "papermill": {},
    "tags": []
   },
   "source": [
    "**Author:** [Sunny Chugh](https://www.linkedin.com/in/sunny-chugh-ab1630177/)"
   ]
  },
  {
   "cell_type": "markdown",
   "id": "12216852-bbe9-457b-a7df-e47898f4f21f",
   "metadata": {
    "papermill": {},
    "tags": []
   },
   "source": [
    "**Description:** This notebook shows how to define a new DataFrame that drops duplicate columns in the dataframe"
   ]
  },
  {
   "cell_type": "markdown",
   "id": "916ce77b-e317-4a10-a183-02750979fa93",
   "metadata": {
    "papermill": {},
    "tags": []
   },
   "source": [
    "<u>Reference:</u> https://www.statology.org/pandas-drop-duplicate-columns/"
   ]
  },
  {
   "cell_type": "markdown",
   "id": "dc839710-9320-4f78-b61e-92628227f40c",
   "metadata": {
    "papermill": {},
    "tags": []
   },
   "source": [
    "## Input"
   ]
  },
  {
   "cell_type": "markdown",
   "id": "f1d427ef-e4f0-4d72-b27f-ffc88342e802",
   "metadata": {
    "papermill": {},
    "tags": []
   },
   "source": [
    "### Import libraries"
   ]
  },
  {
   "cell_type": "code",
   "execution_count": null,
   "id": "84eb8f51-e7cc-48ec-8422-7045cab01f8c",
   "metadata": {
    "papermill": {},
    "tags": []
   },
   "outputs": [],
   "source": [
    "import pandas as pd"
   ]
  },
  {
   "cell_type": "markdown",
   "id": "cfce228b-6db5-47d8-9b17-fe649ce51969",
   "metadata": {
    "papermill": {},
    "tags": []
   },
   "source": [
    "### Setup DataFrame"
   ]
  },
  {
   "cell_type": "code",
   "execution_count": null,
   "id": "b57cfc14-d2cc-412a-a23d-480b1d7820f7",
   "metadata": {
    "papermill": {},
    "tags": []
   },
   "outputs": [],
   "source": [
    "# create DataFrame with duplicate columns\n",
    "df = pd.DataFrame(\n",
    "    {\n",
    "        \"team\": [\"A\", \"A\", \"A\", \"A\", \"B\", \"B\", \"B\", \"B\"],\n",
    "        \"points1\": [25, 25, 15, 14, 19, 23, 25, 29],\n",
    "        \"points2\": [25, 25, 15, 14, 19, 23, 25, 29],\n",
    "        \"rebounds\": [11, 11, 10, 6, 6, 5, 9, 12],\n",
    "    }\n",
    ")\n",
    "\n",
    "# view DataFrame\n",
    "df"
   ]
  },
  {
   "cell_type": "markdown",
   "id": "358dc361-82e5-479d-81e9-68a1ee70a5d3",
   "metadata": {
    "papermill": {},
    "tags": []
   },
   "source": [
    "## Model"
   ]
  },
  {
   "cell_type": "markdown",
   "id": "61f8cc97-10aa-4d67-ab09-3cf3bb0a37b4",
   "metadata": {
    "papermill": {},
    "tags": []
   },
   "source": [
    "### Drop Duplicate columns with subset\n",
    "subset : column label or sequence of labels, optional\n",
    "Only consider certain columns for identifying duplicates, by default use all of the columns."
   ]
  },
  {
   "cell_type": "code",
   "execution_count": null,
   "id": "9f520d69-d9fa-4818-b73f-a29f76cfb108",
   "metadata": {
    "papermill": {},
    "tags": []
   },
   "outputs": [],
   "source": [
    "subset = [\"team\"]\n",
    "\n",
    "\n",
    "def drop_columns(df, subset=None):\n",
    "    return df.drop_duplicates(subset)\n",
    "\n",
    "\n",
    "df1 = drop_columns(df, subset)\n",
    "df1"
   ]
  },
  {
   "cell_type": "markdown",
   "id": "16331d06-0ab3-4a28-8e61-ee00aad85d5a",
   "metadata": {
    "papermill": {},
    "tags": []
   },
   "source": [
    "### Drop Duplicate columns even if column names are different"
   ]
  },
  {
   "cell_type": "code",
   "execution_count": null,
   "id": "2ecfa2a3-9764-468e-a2ea-08a7e506ef71",
   "metadata": {
    "papermill": {},
    "tags": []
   },
   "outputs": [],
   "source": [
    "def drop_columns(df):\n",
    "    return df.T.drop_duplicates().T\n",
    "\n",
    "\n",
    "df2 = drop_columns(df)\n",
    "df2"
   ]
  },
  {
   "cell_type": "markdown",
   "id": "e1c03479-d409-4292-a974-4edf477ebe0c",
   "metadata": {
    "execution": {
     "iopub.execute_input": "2021-07-02T23:32:10.789097Z",
     "iopub.status.busy": "2021-07-02T23:32:10.788829Z",
     "iopub.status.idle": "2021-07-02T23:32:10.796900Z",
     "shell.execute_reply": "2021-07-02T23:32:10.796358Z",
     "shell.execute_reply.started": "2021-07-02T23:32:10.789033Z"
    },
    "papermill": {},
    "tags": []
   },
   "source": [
    "## Output"
   ]
  },
  {
   "cell_type": "markdown",
   "id": "aae756f7-b441-4973-98a7-e38e6b52e044",
   "metadata": {
    "papermill": {},
    "tags": []
   },
   "source": [
    "### View new DataFrame"
   ]
  },
  {
   "cell_type": "code",
   "execution_count": null,
   "id": "7e88a36f-27dd-4eae-bb6a-0d1dc8137016",
   "metadata": {
    "papermill": {},
    "tags": []
   },
   "outputs": [],
   "source": [
    "df1"
   ]
  },
  {
   "cell_type": "markdown",
   "id": "4aff3ec8-ae7c-481d-9ea4-21bb60f54228",
   "metadata": {
    "papermill": {},
    "tags": []
   },
   "source": [
    "### View new DataFrame"
   ]
  },
  {
   "cell_type": "code",
   "execution_count": null,
   "id": "54fab831-6ce7-483d-9c5b-c20131219271",
   "metadata": {
    "papermill": {},
    "tags": []
   },
   "outputs": [],
   "source": [
    "df2"
   ]
  }
 ],
 "metadata": {
  "kernelspec": {
   "display_name": "Python 3",
   "language": "python",
   "name": "python3"
  },
  "language_info": {
   "codemirror_mode": {
    "name": "ipython",
    "version": 3
   },
   "file_extension": ".py",
   "mimetype": "text/x-python",
   "name": "python",
   "nbconvert_exporter": "python",
   "pygments_lexer": "ipython3",
   "version": "3.9.6"
  },
  "papermill": {
   "default_parameters": {},
   "environment_variables": {},
   "parameters": {},
   "version": "2.4.0"
  }
 },
 "nbformat": 4,
 "nbformat_minor": 5
}