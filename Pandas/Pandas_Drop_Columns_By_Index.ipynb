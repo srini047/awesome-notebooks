{
 "cells": [
  {
   "cell_type": "markdown",
   "id": "c945f9fb-803e-41c0-aca4-3386b92f4194",
   "metadata": {
    "execution": {
     "iopub.execute_input": "2021-02-23T14:22:16.610471Z",
     "iopub.status.busy": "2021-02-23T14:22:16.610129Z",
     "iopub.status.idle": "2021-02-23T14:22:16.627784Z",
     "shell.execute_reply": "2021-02-23T14:22:16.626866Z",
     "shell.execute_reply.started": "2021-02-23T14:22:16.610384Z"
    },
    "papermill": {},
    "tags": []
   },
   "source": [
    "<img width=\"10%\" alt=\"Naas\" src=\"https://landen.imgix.net/jtci2pxwjczr/assets/5ice39g4.png?w=160\"/>"
   ]
  },
  {
   "cell_type": "markdown",
   "id": "e99cba9a-9d93-482d-925e-18b923eaf1d7",
   "metadata": {
    "papermill": {},
    "tags": []
   },
   "source": [
    "# Pandas - Drop Columns By Index\n",
    "<a href=\"https://app.naas.ai/user-redirect/naas/downloader?url=https://raw.githubusercontent.com/jupyter-naas/awesome-notebooks/master/Pandas/Pandas_Drop_Columns_By_Index.ipynb\" target=\"_parent\"><img src=\"https://naasai-public.s3.eu-west-3.amazonaws.com/open_in_naas.svg\"/></a><br><br><a href=\"https://github.com/jupyter-naas/awesome-notebooks/issues/new?assignees=&labels=&template=template-request.md&title=Tool+-+Action+of+the+notebook+\">Template request</a> | <a href=\"https://github.com/jupyter-naas/awesome-notebooks/issues/new?assignees=&labels=bug&template=bug_report.md&title=Pandas+-+Drop+Columns+By+Index:+Error+short+description\">Bug report</a>"
   ]
  },
  {
   "cell_type": "markdown",
   "id": "4b7b5e11-f08c-42e8-8e8c-d07ca8c74d0d",
   "metadata": {
    "papermill": {},
    "tags": []
   },
   "source": [
    "**Tags:** #pandas #snippet #datacleaning #operations"
   ]
  },
  {
   "cell_type": "markdown",
   "id": "230fd380-7405-42f2-92a1-8a651b95834c",
   "metadata": {
    "papermill": {},
    "tags": []
   },
   "source": [
    "**Author:** [Sunny Chugh](https://www.linkedin.com/in/sunny-chugh-ab1630177/)"
   ]
  },
  {
   "cell_type": "markdown",
   "id": "09415eb1-4144-495f-90b1-7ca5a94c2515",
   "metadata": {
    "papermill": {},
    "tags": []
   },
   "source": [
    "**Description:** This notebook shows how to drop columns in Pandas DataFrame by index."
   ]
  },
  {
   "cell_type": "markdown",
   "id": "6c9147d0-e6aa-4a95-9a0e-1ecfcaf089df",
   "metadata": {
    "papermill": {},
    "tags": []
   },
   "source": [
    "<u>Reference:</u> https://www.statology.org/pandas-drop-column-by-index/"
   ]
  },
  {
   "cell_type": "markdown",
   "id": "ac5d43ac-519f-4870-9064-4c4914b0cead",
   "metadata": {
    "papermill": {},
    "tags": []
   },
   "source": [
    "## Input"
   ]
  },
  {
   "cell_type": "markdown",
   "id": "78c32f7e-5a70-4ab0-a42c-d91443586d7b",
   "metadata": {
    "papermill": {},
    "tags": []
   },
   "source": [
    "### Import libraries"
   ]
  },
  {
   "cell_type": "code",
   "execution_count": null,
   "id": "25a7dfcb-5c29-4da2-a5c5-fe315731beb6",
   "metadata": {
    "papermill": {},
    "tags": []
   },
   "outputs": [],
   "source": [
    "import pandas as pd"
   ]
  },
  {
   "cell_type": "markdown",
   "id": "49ebdb7b-501a-4c64-ad4b-65d55d712af8",
   "metadata": {
    "papermill": {},
    "tags": []
   },
   "source": [
    "### Setup DataFrame"
   ]
  },
  {
   "cell_type": "code",
   "execution_count": null,
   "id": "ab1d5742-1250-4902-9326-247d363daac3",
   "metadata": {
    "papermill": {},
    "tags": []
   },
   "outputs": [],
   "source": [
    "# create DataFrame\n",
    "df = pd.DataFrame(\n",
    "    {\n",
    "        \"team\": [\"Mavs\", \"Lakers\", \"Spurs\", \"Cavs\"],\n",
    "        \"first\": [\"Dirk\", \"Kobe\", \"Tim\", \"Lebron\"],\n",
    "        \"last\": [\"Nowitzki\", \"Bryant\", \"Duncan\", \"James\"],\n",
    "        \"points\": [26, 31, 22, 29],\n",
    "    }\n",
    ")\n",
    "df"
   ]
  },
  {
   "cell_type": "markdown",
   "id": "b81e0893-86d4-4b7e-b131-59ee3b229c77",
   "metadata": {
    "papermill": {},
    "tags": []
   },
   "source": [
    "## Model"
   ]
  },
  {
   "cell_type": "markdown",
   "id": "1a87b484-32af-47f0-8a0e-fc2533e18544",
   "metadata": {
    "papermill": {},
    "tags": []
   },
   "source": [
    "### Method : Use drop\n",
    "The following code shows how to use the drop() function to drop the multiple columns of the pandas DataFrame by index."
   ]
  },
  {
   "cell_type": "code",
   "execution_count": null,
   "id": "9e58e165-d81f-47d6-b257-9c3523d0cdd5",
   "metadata": {
    "papermill": {},
    "tags": []
   },
   "outputs": [],
   "source": [
    "# Copy init dataframe\n",
    "df1 = df.copy()\n",
    "cols = [0, 1, 3]\n",
    "df1.drop(df1.columns[cols], axis=1, inplace=True)\n",
    "print(df1)"
   ]
  },
  {
   "cell_type": "markdown",
   "id": "4b5929e4-2921-412b-9ffd-8c5c16c1b37e",
   "metadata": {
    "papermill": {},
    "tags": []
   },
   "source": [
    "## Output"
   ]
  },
  {
   "cell_type": "markdown",
   "id": "6dd04898-ceb1-4ee0-872f-80f9ef61f4de",
   "metadata": {
    "papermill": {},
    "tags": []
   },
   "source": [
    "### Display result"
   ]
  },
  {
   "cell_type": "code",
   "execution_count": null,
   "id": "36074c75-5022-417f-8653-cd9284ba5e4f",
   "metadata": {
    "papermill": {},
    "tags": []
   },
   "outputs": [],
   "source": [
    "columns_dropped = \"\"\n",
    "for column in cols:\n",
    "    columns_dropped = columns_dropped + df.columns[column] + \", \"\n",
    "print(\"The Columns- \" + columns_dropped + \"are removed from dataframe\")"
   ]
  }
 ],
 "metadata": {
  "kernelspec": {
   "display_name": "Python 3",
   "language": "python",
   "name": "python3"
  },
  "language_info": {
   "codemirror_mode": {
    "name": "ipython",
    "version": 3
   },
   "file_extension": ".py",
   "mimetype": "text/x-python",
   "name": "python",
   "nbconvert_exporter": "python",
   "pygments_lexer": "ipython3",
   "version": "3.9.6"
  },
  "papermill": {
   "default_parameters": {},
   "environment_variables": {},
   "parameters": {},
   "version": "2.4.0"
  }
 },
 "nbformat": 4,
 "nbformat_minor": 5
}