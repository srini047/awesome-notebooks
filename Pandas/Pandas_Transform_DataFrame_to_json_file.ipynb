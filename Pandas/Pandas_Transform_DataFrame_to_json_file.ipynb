{
 "cells": [
  {
   "cell_type": "markdown",
   "id": "25b0e2dc-5e30-4b2f-9cfb-00f993aae855",
   "metadata": {
    "papermill": {},
    "tags": []
   },
   "source": [
    "<img width=\"10%\" alt=\"Naas\" src=\"https://landen.imgix.net/jtci2pxwjczr/assets/5ice39g4.png?w=160\"/>"
   ]
  },
  {
   "cell_type": "markdown",
   "id": "f6b4e9c5-6e20-4dc9-a7f0-1e92382162bd",
   "metadata": {
    "papermill": {},
    "tags": []
   },
   "source": [
    "# Pandas - Transform DataFrame to json file\n",
    "<a href=\"https://app.naas.ai/user-redirect/naas/downloader?url=https://raw.githubusercontent.com/jupyter-naas/awesome-notebooks/master/Pandas/Pandas_Transform_DataFrame_to_json_file.ipynb\" target=\"_parent\"><img src=\"https://naasai-public.s3.eu-west-3.amazonaws.com/Open_in_Naas_Lab.svg\"/></a><br><br><a href=\"https://github.com/jupyter-naas/awesome-notebooks/issues/new?assignees=&labels=&template=template-request.md&title=Tool+-+Action+of+the+notebook+\">Template request</a> | <a href=\"https://github.com/jupyter-naas/awesome-notebooks/issues/new?assignees=&labels=bug&template=bug_report.md&title=Pandas+-+Transform+DataFrame+to+json+file:+Error+short+description\">Bug report</a> | <a href=\"https://app.naas.ai/user-redirect/naas/downloader?url=https://raw.githubusercontent.com/jupyter-naas/awesome-notebooks/master/Naas/Naas_Start_data_product.ipynb\" target=\"_parent\">Generate Data Product</a>"
   ]
  },
  {
   "cell_type": "markdown",
   "id": "504d076b-ccc5-49a9-bb01-8b7d6041e042",
   "metadata": {
    "papermill": {},
    "tags": []
   },
   "source": [
    "**Tags:** #pandas #dataframe #json #transform #file #dict #snippet"
   ]
  },
  {
   "cell_type": "markdown",
   "id": "fab111b9-576f-4d2c-97ee-a56caf25af07",
   "metadata": {
    "papermill": {},
    "tags": []
   },
   "source": [
    "**Author:** [Florent Ravenel](https://www.linkedin.com/in/florent-ravenel/)"
   ]
  },
  {
   "cell_type": "markdown",
   "id": "506d034f-6cb7-4348-95b5-6f5401774e7a",
   "metadata": {
    "papermill": {},
    "tags": []
   },
   "source": [
    "**Description:** This notebook will show how to transform a DataFrame into a json file. It is usefull for organizations that need to store data in a json format."
   ]
  },
  {
   "cell_type": "markdown",
   "id": "9111c129-4813-494d-bc2a-046395fcb8c1",
   "metadata": {
    "papermill": {},
    "tags": []
   },
   "source": [
    "**References:**\n",
    "- [Pandas DataFrame to_dict](https://pandas.pydata.org/docs/reference/api/pandas.DataFrame.to_dict.html)\n",
    "- [JSON - Wikipedia](https://en.wikipedia.org/wiki/JSON)"
   ]
  },
  {
   "cell_type": "markdown",
   "id": "e073b8f2-837b-454a-8083-759e2c1b103f",
   "metadata": {
    "papermill": {},
    "tags": []
   },
   "source": [
    "## Input"
   ]
  },
  {
   "cell_type": "markdown",
   "id": "2b674e89-615f-49cd-ba87-0d51d91afd9d",
   "metadata": {
    "papermill": {},
    "tags": []
   },
   "source": [
    "### Import libraries"
   ]
  },
  {
   "cell_type": "code",
   "execution_count": null,
   "id": "1a9b2a11-4423-4657-8519-e04681b5eb79",
   "metadata": {
    "papermill": {},
    "tags": []
   },
   "outputs": [],
   "source": [
    "import pandas as pd\n",
    "import json"
   ]
  },
  {
   "cell_type": "markdown",
   "id": "11a3445f-be47-41d8-afd2-04702704fc1c",
   "metadata": {
    "papermill": {},
    "tags": []
   },
   "source": [
    "### Setup Variables\n",
    "- `orient` : Determines the type of the values of the dictionary ('dict', 'list', 'series', 'split', 'tight', 'records', 'index')\n",
    "- `df`: fake DataFrame\n",
    "- `json_path`: json file path"
   ]
  },
  {
   "cell_type": "code",
   "execution_count": null,
   "id": "3cc925dc-09ab-4263-bb31-1183ec8e7850",
   "metadata": {
    "papermill": {},
    "tags": []
   },
   "outputs": [],
   "source": [
    "orient = \"records\"\n",
    "df = pd.DataFrame({\"A\": [1, 2, 3], \"B\": [4, 5, 6]})\n",
    "json_path = \"data.json\""
   ]
  },
  {
   "cell_type": "markdown",
   "id": "e65cbb82-c487-46e6-85d7-90281ffe1ff0",
   "metadata": {
    "papermill": {},
    "tags": []
   },
   "source": [
    "## Model"
   ]
  },
  {
   "cell_type": "markdown",
   "id": "252f3cb4-291b-4272-9c36-4235cae2a06b",
   "metadata": {
    "papermill": {},
    "tags": []
   },
   "source": [
    "### Transform DataFrame to dict\n"
   ]
  },
  {
   "cell_type": "code",
   "execution_count": null,
   "id": "da1d4ba4-c911-4b7d-9fe4-5bbf57976623",
   "metadata": {
    "papermill": {},
    "tags": []
   },
   "outputs": [],
   "source": [
    "# Transform DataFrame to json\n",
    "data = df.to_dict(orient=orient)\n",
    "data"
   ]
  },
  {
   "cell_type": "markdown",
   "id": "19cf9316-92f8-4d8e-bfbe-3a9c8de5ccf3",
   "metadata": {
    "papermill": {},
    "tags": []
   },
   "source": [
    "## Output"
   ]
  },
  {
   "cell_type": "markdown",
   "id": "30c4b106-a4f7-4789-ab8a-19df71930e46",
   "metadata": {
    "papermill": {},
    "tags": []
   },
   "source": [
    "### Save dict to JSON"
   ]
  },
  {
   "cell_type": "code",
   "execution_count": null,
   "id": "4c972bac-5bf2-4483-8862-f6d6ced4015e",
   "metadata": {
    "papermill": {},
    "tags": []
   },
   "outputs": [],
   "source": [
    "with open(json_path, \"w\") as f:\n",
    "    json.dump(data, f)\n",
    "print(\"The json file has been saved to the current directory.\")"
   ]
  },
  {
   "cell_type": "markdown",
   "id": "4966c506-661f-4852-b25f-714482708c89",
   "metadata": {
    "papermill": {},
    "tags": []
   },
   "source": [
    " "
   ]
  }
 ],
 "metadata": {
  "kernelspec": {
   "display_name": "Python 3",
   "language": "python",
   "name": "python3"
  },
  "language_info": {
   "codemirror_mode": {
    "name": "ipython",
    "version": 3
   },
   "file_extension": ".py",
   "mimetype": "text/x-python",
   "name": "python",
   "nbconvert_exporter": "python",
   "pygments_lexer": "ipython3",
   "version": "3.9.6"
  },
  "naas": {
   "notebook_id": "b27675b70ee0475d12381be158a83a7888089de73a76f6f28e4f4d3c1088bfad",
   "notebook_path": "Pandas/Pandas_Transform_DataFrame_to_json_file.ipynb"
  },
  "papermill": {
   "default_parameters": {},
   "environment_variables": {},
   "parameters": {},
   "version": "2.4.0"
  },
  "widgets": {
   "application/vnd.jupyter.widget-state+json": {
    "state": {},
    "version_major": 2,
    "version_minor": 0
   }
  }
 },
 "nbformat": 4,
 "nbformat_minor": 5
}