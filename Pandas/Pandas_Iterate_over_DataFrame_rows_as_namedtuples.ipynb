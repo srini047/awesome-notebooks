{
 "cells": [
  {
   "cell_type": "markdown",
   "id": "naas-logo",
   "metadata": {
    "papermill": {},
    "tags": [
     "naas"
    ]
   },
   "source": [
    "<img width=\"10%\" alt=\"Naas\" src=\"https://landen.imgix.net/jtci2pxwjczr/assets/5ice39g4.png?w=160\"/>"
   ]
  },
  {
   "cell_type": "markdown",
   "id": "db17b79b",
   "metadata": {
    "papermill": {},
    "tags": []
   },
   "source": [
    "# Pandas - Iterate over DataFrame rows as namedtuples\n",
    "<a href=\"https://app.naas.ai/user-redirect/naas/downloader?url=https://raw.githubusercontent.com/jupyter-naas/awesome-notebooks/master/Pandas/Pandas_Iterate_over_DataFrame_rows_as_namedtuples.ipynb\" target=\"_parent\"><img src=\"https://naasai-public.s3.eu-west-3.amazonaws.com/Open_in_Naas_Lab.svg\"/></a><br><br><a href=\"https://github.com/jupyter-naas/awesome-notebooks/issues/new?assignees=&labels=&template=template-request.md&title=Tool+-+Action+of+the+notebook+\">Template request</a> | <a href=\"https://github.com/jupyter-naas/awesome-notebooks/issues/new?assignees=&labels=bug&template=bug_report.md&title=Pandas+-+Iterate+over+DataFrame+rows+as+namedtuples:+Error+short+description\">Bug report</a> | <a href=\"https://app.naas.ai/user-redirect/naas/downloader?url=https://raw.githubusercontent.com/jupyter-naas/awesome-notebooks/master/Naas/Naas_Start_data_product.ipynb\" target=\"_parent\">Generate Data Product</a>"
   ]
  },
  {
   "cell_type": "markdown",
   "id": "13800319",
   "metadata": {
    "papermill": {},
    "tags": []
   },
   "source": [
    "**Tags:** #pandas #python #loops #snippet #operations #namedtuples #dataframe"
   ]
  },
  {
   "cell_type": "markdown",
   "id": "8761af40",
   "metadata": {
    "papermill": {},
    "tags": []
   },
   "source": [
    "**Author:** [Benjamin Filly](https://www.linkedin.com/in/benjamin-filly-05427727a/)"
   ]
  },
  {
   "cell_type": "markdown",
   "id": "naas-description",
   "metadata": {
    "papermill": {},
    "tags": [
     "description"
    ]
   },
   "source": [
    "**Description:** This notebook demonstrates how to iterate over DataFrame rows as namedtuples"
   ]
  },
  {
   "cell_type": "markdown",
   "id": "660db7fe-d9cb-4697-beb1-c67128d62c0f",
   "metadata": {
    "papermill": {},
    "tags": []
   },
   "source": [
    "**References:**\n",
    "- [Pandas - DataFrame.itertuples](https://pandas.pydata.org/docs/reference/api/pandas.DataFrame.itertuples.html)\n",
    "- [Numpy - random.choice](https://numpy.org/doc/stable/reference/random/generated/numpy.random.choice.html)\n",
    "- [Collections - namedtuple](https://www.geeksforgeeks.org/namedtuple-in-python/)"
   ]
  },
  {
   "cell_type": "markdown",
   "id": "d6ed8917",
   "metadata": {
    "papermill": {},
    "tags": []
   },
   "source": [
    "## Input"
   ]
  },
  {
   "cell_type": "markdown",
   "id": "fb1b9009",
   "metadata": {
    "papermill": {},
    "tags": []
   },
   "source": [
    "### Import libraries"
   ]
  },
  {
   "cell_type": "code",
   "execution_count": 1,
   "id": "aefef37f",
   "metadata": {
    "papermill": {},
    "tags": []
   },
   "outputs": [],
   "source": [
    "import pandas as pd\n",
    "import numpy as np\n",
    "from collections import namedtuple"
   ]
  },
  {
   "cell_type": "markdown",
   "id": "93232477",
   "metadata": {
    "papermill": {},
    "tags": []
   },
   "source": [
    "## Model"
   ]
  },
  {
   "cell_type": "markdown",
   "id": "07164b8b",
   "metadata": {
    "papermill": {},
    "tags": []
   },
   "source": [
    "### Create Sample Dataframe "
   ]
  },
  {
   "cell_type": "code",
   "execution_count": 2,
   "id": "d919085d",
   "metadata": {
    "papermill": {},
    "tags": []
   },
   "outputs": [],
   "source": [
    "dict1 = {\n",
    "    \"student_id\": [1, 2, 3, 4, 5, 6, 7, 8, 9, 10], # List of student IDs\n",
    "    \"student_name\": [\n",
    "        \"Peter\",\n",
    "        \"Dolly\",\n",
    "        \"Maggie\",\n",
    "        \"David\",\n",
    "        \"Isabelle\",\n",
    "        \"Harry\",\n",
    "        \"Akin\",\n",
    "        \"Abbey\",\n",
    "        \"Victoria\",\n",
    "        \"Sam\",\n",
    "    ], # List of student names\n",
    "    \"student_course\": np.random.choice([\"Biology\", \"Physics\", \"Chemistry\"], size=10), # List of random courses for each student\n",
    "}\n",
    "\n",
    "# DataFrame creation from the dictionary\n",
    "df = pd.DataFrame(dict1)\n",
    "df"
   ]
  },
  {
   "cell_type": "markdown",
   "id": "ae5b8e44-215f-4531-a60a-3a751af7f915",
   "metadata": {
    "papermill": {},
    "tags": []
   },
   "source": [
    "### Definition of namedtuple"
   ]
  },
  {
   "cell_type": "code",
   "execution_count": 3,
   "id": "fccb29ca-85b5-47ad-abf8-bebcb844508f",
   "metadata": {
    "papermill": {},
    "tags": []
   },
   "outputs": [],
   "source": [
    "# Creation of a namedtuple called \"Student\" with \"index\" fields and df DataFrame columns\n",
    "Student = namedtuple(\"Student\", [\"index\"] + df.columns.tolist())"
   ]
  },
  {
   "cell_type": "markdown",
   "id": "02d1fc4b",
   "metadata": {
    "papermill": {},
    "tags": []
   },
   "source": [
    "## Output"
   ]
  },
  {
   "cell_type": "markdown",
   "id": "83016df9-3584-4d9a-967a-21956a1d38ad",
   "metadata": {
    "papermill": {},
    "tags": []
   },
   "source": [
    "### Display result"
   ]
  },
  {
   "cell_type": "code",
   "execution_count": 4,
   "id": "b57e1865",
   "metadata": {
    "papermill": {},
    "tags": []
   },
   "outputs": [],
   "source": [
    "for row in df.itertuples(index=True, name=\"Student\"):# Iteration on df DataFrame rows using itertuples\n",
    "    student = Student(*row) # Create a Student object from each line\n",
    "    print(\"Index:\", student.index) # Display student information\n",
    "    print(\"Student ID:\", student.student_id)\n",
    "    print(\"Name:\", student.student_name)\n",
    "    print(\"Course:\", student.student_course)\n",
    "    print()"
   ]
  },
  {
   "cell_type": "code",
   "execution_count": null,
   "id": "160d3cb8-f971-4573-8979-cc6f690df8d7",
   "metadata": {
    "papermill": {},
    "tags": []
   },
   "outputs": [],
   "source": []
  }
 ],
 "metadata": {
  "kernelspec": {
   "display_name": "Python 3",
   "language": "python",
   "name": "python3"
  },
  "language_info": {
   "codemirror_mode": {
    "name": "ipython",
    "version": 3
   },
   "file_extension": ".py",
   "mimetype": "text/x-python",
   "name": "python",
   "nbconvert_exporter": "python",
   "pygments_lexer": "ipython3",
   "version": "3.9.6"
  },
  "naas": {
   "notebook_id": "56f61acbe2bb3fb0a64d18a0d1d86efe024967f9d0f7640c21efbc6fab85d961",
   "notebook_path": "Pandas/Pandas_Iterate_over_DataFrame_rows_as_namedtuples.ipynb"
  },
  "papermill": {
   "default_parameters": {},
   "environment_variables": {},
   "parameters": {},
   "version": "2.3.3"
  }
 },
 "nbformat": 4,
 "nbformat_minor": 5
}