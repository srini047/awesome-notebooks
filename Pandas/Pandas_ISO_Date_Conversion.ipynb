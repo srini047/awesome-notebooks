{
 "cells": [
  {
   "cell_type": "markdown",
   "id": "naas-logo",
   "metadata": {
    "papermill": {},
    "tags": [
     "naas"
    ]
   },
   "source": [
    "<img width=\"10%\" alt=\"Naas\" src=\"https://landen.imgix.net/jtci2pxwjczr/assets/5ice39g4.png?w=160\"/>"
   ]
  },
  {
   "cell_type": "markdown",
   "id": "32a15d0c-4f46-418a-ba23-19211e807164",
   "metadata": {
    "execution": {
     "iopub.execute_input": "2021-08-25T21:04:37.849088Z",
     "iopub.status.busy": "2021-08-25T21:04:37.848741Z",
     "iopub.status.idle": "2021-08-25T21:04:38.247710Z",
     "shell.execute_reply": "2021-08-25T21:04:38.246977Z",
     "shell.execute_reply.started": "2021-08-25T21:04:37.848999Z"
    },
    "papermill": {},
    "tags": []
   },
   "source": [
    "# Pandas - ISO Date Conversion\n",
    "<a href=\"https://app.naas.ai/user-redirect/naas/downloader?url=https://raw.githubusercontent.com/jupyter-naas/awesome-notebooks/master/Pandas/Pandas_ISO_Date_Conversion.ipynb\" target=\"_parent\"><img src=\"https://naasai-public.s3.eu-west-3.amazonaws.com/Open_in_Naas_Lab.svg\"/></a><br><br><a href=\"https://github.com/jupyter-naas/awesome-notebooks/issues/new?assignees=&labels=&template=template-request.md&title=Tool+-+Action+of+the+notebook+\">Template request</a> | <a href=\"https://github.com/jupyter-naas/awesome-notebooks/issues/new?assignees=&labels=bug&template=bug_report.md&title=Pandas+-+ISO+Date+Conversion:+Error+short+description\">Bug report</a> | <a href=\"https://app.naas.ai/user-redirect/naas/downloader?url=https://raw.githubusercontent.com/jupyter-naas/awesome-notebooks/master/Naas/Naas_Start_data_product.ipynb\" target=\"_parent\">Generate Data Product</a>"
   ]
  },
  {
   "cell_type": "markdown",
   "id": "a40ce3ea-d278-4a9c-9a74-6c467617c994",
   "metadata": {
    "papermill": {},
    "tags": []
   },
   "source": [
    "**Tags:** #pandas #python #date #conversion #isoformat #dateconversion #operations #snippet #dataframe"
   ]
  },
  {
   "cell_type": "markdown",
   "id": "e5a73a9e-8df0-43b9-b760-35e2b1845263",
   "metadata": {
    "papermill": {},
    "tags": []
   },
   "source": [
    "**Author:** [Oketunji Oludolapo](https://www.linkedin.com/in/oludolapo-oketunji/)"
   ]
  },
  {
   "cell_type": "markdown",
   "id": "naas-description",
   "metadata": {
    "papermill": {},
    "tags": [
     "description"
    ]
   },
   "source": [
    "**Description:** This notebook provides a guide to converting ISO dates into Pandas-compatible formats."
   ]
  },
  {
   "cell_type": "markdown",
   "id": "5d7d75c1-d610-4a42-b022-2a633449d943",
   "metadata": {
    "papermill": {},
    "tags": []
   },
   "source": [
    "## Input"
   ]
  },
  {
   "cell_type": "markdown",
   "id": "13960bf3-b0e1-49bb-9d2c-e78c7de19edb",
   "metadata": {
    "papermill": {},
    "tags": []
   },
   "source": [
    "### Import Libraries"
   ]
  },
  {
   "cell_type": "code",
   "execution_count": 3,
   "id": "a7055a7e-bda7-4bc1-9322-b7469b755f92",
   "metadata": {
    "papermill": {},
    "tags": []
   },
   "outputs": [],
   "source": [
    "import pandas as pd\n",
    "from dateutil.parser import parse"
   ]
  },
  {
   "cell_type": "markdown",
   "id": "8aadc115-1951-4120-bfb7-a7078306738b",
   "metadata": {
    "papermill": {},
    "tags": []
   },
   "source": [
    "### Create Sample Dataframe "
   ]
  },
  {
   "cell_type": "code",
   "execution_count": 13,
   "id": "a98236fa-b3d4-4da5-be4d-6daa55e9ee44",
   "metadata": {
    "papermill": {},
    "tags": []
   },
   "outputs": [],
   "source": [
    "dict1 = {\n",
    "    \"Name\": [\"Peter\", \"Dolly\", \"Maggie\", \"David\", \"Isabelle\"],\n",
    "    \"Date\": [\"20/2/2021\", \"19/8/2014\", \"8/9/2000\", \"4/3/2013\", \"14/7/1995\"],\n",
    "    \"Second Date\": [\n",
    "        \"August 20,2011\",\n",
    "        \"September 16,1993\",\n",
    "        \"January 23,2009\",\n",
    "        \"October 17,2019\",\n",
    "        \"March 4,2021\",\n",
    "    ],\n",
    "}"
   ]
  },
  {
   "cell_type": "code",
   "execution_count": 14,
   "id": "b49c95de-9a60-48ec-99de-9dbfbee2b9c3",
   "metadata": {
    "papermill": {},
    "tags": []
   },
   "outputs": [],
   "source": [
    "data = pd.DataFrame(dict1)"
   ]
  },
  {
   "cell_type": "code",
   "execution_count": 15,
   "id": "2258abd5-8c06-46b4-902a-78f764d16318",
   "metadata": {
    "papermill": {},
    "tags": []
   },
   "outputs": [],
   "source": [
    "data"
   ]
  },
  {
   "cell_type": "markdown",
   "id": "8bc0a70d-31b7-46b9-9cde-70fdc51c5eca",
   "metadata": {
    "papermill": {},
    "tags": []
   },
   "source": [
    "## Model\n",
    "ISO date format is the standard internationally acceptable format of writing date. It eliminates the differences between the date format of different regions. This template will convert any date to ISO format. \n",
    "There are 2 date formats in the sample data and the conversion of both takes place below"
   ]
  },
  {
   "cell_type": "code",
   "execution_count": 16,
   "id": "314800cc-883c-4464-8eff-4d8ba986657b",
   "metadata": {
    "papermill": {},
    "tags": []
   },
   "outputs": [],
   "source": [
    "# Converting the first Date into ISO Format\n",
    "data[\"Date\"] = pd.to_datetime(data[\"Date\"]).dt.strftime(\"%Y-%m-%d\")"
   ]
  },
  {
   "cell_type": "code",
   "execution_count": 18,
   "id": "a1ba9749-707c-4bbf-9d96-5a97dcd4e2c8",
   "metadata": {
    "papermill": {},
    "tags": []
   },
   "outputs": [],
   "source": [
    "# Converting the second date into ISO Format\n",
    "data[\"Second Date\"] = data[\"Second Date\"].apply(lambda i: parse(i))"
   ]
  },
  {
   "cell_type": "markdown",
   "id": "149406a3-60e0-4764-8c54-2ae554f462ca",
   "metadata": {
    "papermill": {},
    "tags": []
   },
   "source": [
    "## Output"
   ]
  },
  {
   "cell_type": "markdown",
   "id": "c612c74c-c240-44fa-83cf-cd2e7845b99a",
   "metadata": {
    "papermill": {},
    "tags": []
   },
   "source": [
    "### Display result"
   ]
  },
  {
   "cell_type": "code",
   "execution_count": 19,
   "id": "23ed2374-f156-4bba-9a41-b3672a12b335",
   "metadata": {
    "papermill": {},
    "tags": []
   },
   "outputs": [],
   "source": [
    "data"
   ]
  }
 ],
 "metadata": {
  "kernelspec": {
   "display_name": "Python 3",
   "language": "python",
   "name": "python3"
  },
  "language_info": {
   "codemirror_mode": {
    "name": "ipython",
    "version": 3
   },
   "file_extension": ".py",
   "mimetype": "text/x-python",
   "name": "python",
   "nbconvert_exporter": "python",
   "pygments_lexer": "ipython3",
   "version": "3.9.6"
  },
  "naas": {
   "notebook_id": "bbc337a0d36c172e2e37ae7f50ffe79583936213893f036e3e538450012a1a46",
   "notebook_path": "Pandas/Pandas_ISO_Date_Conversion.ipynb"
  },
  "papermill": {
   "default_parameters": {},
   "environment_variables": {},
   "parameters": {},
   "version": "2.3.3"
  }
 },
 "nbformat": 4,
 "nbformat_minor": 5
}