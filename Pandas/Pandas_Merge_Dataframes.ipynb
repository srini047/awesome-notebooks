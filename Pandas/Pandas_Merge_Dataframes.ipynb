{
 "cells": [
  {
   "cell_type": "markdown",
   "id": "naas-logo",
   "metadata": {
    "papermill": {},
    "tags": [
     "naas"
    ]
   },
   "source": [
    "<img width=\"10%\" alt=\"Naas\" src=\"https://landen.imgix.net/jtci2pxwjczr/assets/5ice39g4.png?w=160\"/>"
   ]
  },
  {
   "cell_type": "markdown",
   "id": "loaded-giving",
   "metadata": {
    "papermill": {},
    "tags": []
   },
   "source": [
    "# Pandas - Merge Dataframes\n",
    "<a href=\"https://app.naas.ai/user-redirect/naas/downloader?url=https://raw.githubusercontent.com/jupyter-naas/awesome-notebooks/master/Pandas/Pandas_Merge_Dataframes.ipynb\" target=\"_parent\"><img src=\"https://naasai-public.s3.eu-west-3.amazonaws.com/Open_in_Naas_Lab.svg\"/></a><br><br><a href=\"https://github.com/jupyter-naas/awesome-notebooks/issues/new?assignees=&labels=&template=template-request.md&title=Tool+-+Action+of+the+notebook+\">Template request</a> | <a href=\"https://github.com/jupyter-naas/awesome-notebooks/issues/new?assignees=&labels=bug&template=bug_report.md&title=Pandas+-+Merge+Dataframes:+Error+short+description\">Bug report</a> | <a href=\"https://app.naas.ai/user-redirect/naas/downloader?url=https://raw.githubusercontent.com/jupyter-naas/awesome-notebooks/master/Naas/Naas_Start_data_product.ipynb\" target=\"_parent\">Generate Data Product</a>"
   ]
  },
  {
   "cell_type": "markdown",
   "id": "bff61ab9-2d50-4753-a896-7e1693fc02e7",
   "metadata": {
    "papermill": {},
    "tags": []
   },
   "source": [
    "**Tags:** #pandas #python #merging #merge #dataframes #consolidate #operations #snippet #dataframe"
   ]
  },
  {
   "cell_type": "markdown",
   "id": "97291db7-f585-4617-88ec-2d6f55d11815",
   "metadata": {
    "papermill": {},
    "tags": []
   },
   "source": [
    "**Author:** [Oketunji Oludolapo](https://www.linkedin.com/in/oludolapo-oketunji/)"
   ]
  },
  {
   "cell_type": "markdown",
   "id": "naas-description",
   "metadata": {
    "papermill": {},
    "tags": [
     "description"
    ]
   },
   "source": [
    "**Description:** This notebook provides an overview of how to use the Pandas library to merge two or more dataframes."
   ]
  },
  {
   "cell_type": "markdown",
   "id": "7f1335eb-499c-4d9e-a0dd-578f807a5d7d",
   "metadata": {
    "papermill": {},
    "tags": []
   },
   "source": [
    "**References:**\n",
    "- [Pandas - Merge](https://pandas.pydata.org/docs/reference/api/pandas.DataFrame.merge.html)"
   ]
  },
  {
   "cell_type": "markdown",
   "id": "dried-pound",
   "metadata": {
    "papermill": {},
    "tags": []
   },
   "source": [
    "## Input"
   ]
  },
  {
   "cell_type": "markdown",
   "id": "joint-cancer",
   "metadata": {
    "papermill": {},
    "tags": []
   },
   "source": [
    "### Import libraries"
   ]
  },
  {
   "cell_type": "code",
   "execution_count": 1,
   "id": "organized-veteran",
   "metadata": {
    "papermill": {},
    "tags": []
   },
   "outputs": [],
   "source": [
    "import pandas as pd\n",
    "import numpy as np"
   ]
  },
  {
   "cell_type": "markdown",
   "id": "adolescent-illinois",
   "metadata": {
    "papermill": {},
    "tags": []
   },
   "source": [
    "### Create dataframes to be merged"
   ]
  },
  {
   "cell_type": "markdown",
   "id": "second-share",
   "metadata": {
    "papermill": {},
    "tags": []
   },
   "source": [
    "#### Dataframe 1"
   ]
  },
  {
   "cell_type": "code",
   "execution_count": 2,
   "id": "answering-adjustment",
   "metadata": {
    "papermill": {},
    "tags": []
   },
   "outputs": [],
   "source": [
    "# Creating values to be used as datasets\n",
    "dict1 = {\n",
    "    \"student_id\": [1, 2, 3, 4, 5, 6, 7, 8, 9, 10],\n",
    "    \"student_name\": [\n",
    "        \"Peter\",\n",
    "        \"Dolly\",\n",
    "        \"Maggie\",\n",
    "        \"David\",\n",
    "        \"Isabelle\",\n",
    "        \"Harry\",\n",
    "        \"Akin\",\n",
    "        \"Abbey\",\n",
    "        \"Victoria\",\n",
    "        \"Sam\",\n",
    "    ],\n",
    "    \"student_course\": np.random.choice([\"Biology\", \"Physics\", \"Chemistry\"], size=10),\n",
    "}"
   ]
  },
  {
   "cell_type": "code",
   "execution_count": 3,
   "id": "stunning-steering",
   "metadata": {
    "papermill": {},
    "tags": []
   },
   "outputs": [],
   "source": [
    "# Create dataframe\n",
    "df_1 = pd.DataFrame(dict1)\n",
    "df_1"
   ]
  },
  {
   "cell_type": "markdown",
   "id": "grave-commander",
   "metadata": {
    "papermill": {},
    "tags": []
   },
   "source": [
    "#### Dataframe 2"
   ]
  },
  {
   "cell_type": "code",
   "execution_count": 4,
   "id": "opposite-hampshire",
   "metadata": {
    "papermill": {},
    "tags": []
   },
   "outputs": [],
   "source": [
    "# Creating values to be used as datasets\n",
    "dict2 = {\n",
    "    \"student_id\": np.random.choice([1, 2, 3, 4, 5, 6, 7, 8, 9, 10], size=100),\n",
    "    \"student_grade\": np.random.choice([\"A\", \"B\", \"C\", \"D\", \"E\", \"F\"], size=100),\n",
    "    \"professors\": np.random.choice(\n",
    "        [\"Mark Levinson\", \"Angela Marge\", \"Bonnie James\", \"Klaus Michealson\"], size=100\n",
    "    ),\n",
    "}"
   ]
  },
  {
   "cell_type": "code",
   "execution_count": 5,
   "id": "cleared-southwest",
   "metadata": {
    "papermill": {},
    "tags": []
   },
   "outputs": [],
   "source": [
    "# Create dataframe\n",
    "df_2 = pd.DataFrame(dict2)  # OR Data2=pd.read_csv(filepath)\n",
    "df_2"
   ]
  },
  {
   "cell_type": "markdown",
   "id": "sticky-fifty",
   "metadata": {
    "papermill": {},
    "tags": []
   },
   "source": [
    "## Model\n",
    "pd.merge: acts like an SQL inner join and joins based on similar columns or index unless specified to join differently<br />"
   ]
  },
  {
   "cell_type": "markdown",
   "id": "unauthorized-disorder",
   "metadata": {
    "papermill": {},
    "tags": []
   },
   "source": [
    "### Merging dataframes with same values with same column names\n",
    "Using pd.merge(left, right) acts like sql inner join and only joins on the common column they have.<br>\n",
    "It tries finding everything from the right and append to left 'student_id' is common to both so it has been merged into one and included all the other df_2 columns to df_1 table.<br>"
   ]
  },
  {
   "cell_type": "code",
   "execution_count": 6,
   "id": "awful-contributor",
   "metadata": {
    "papermill": {},
    "tags": []
   },
   "outputs": [],
   "source": [
    "df = pd.merge(df_1, df_2)"
   ]
  },
  {
   "cell_type": "markdown",
   "id": "described-contrast",
   "metadata": {
    "papermill": {},
    "tags": []
   },
   "source": [
    "## Output"
   ]
  },
  {
   "cell_type": "markdown",
   "id": "later-fraction",
   "metadata": {
    "papermill": {},
    "tags": []
   },
   "source": [
    "### Display result"
   ]
  },
  {
   "cell_type": "code",
   "execution_count": 7,
   "id": "optimum-helicopter",
   "metadata": {
    "papermill": {},
    "tags": []
   },
   "outputs": [],
   "source": [
    "df"
   ]
  },
  {
   "cell_type": "markdown",
   "id": "thrown-touch",
   "metadata": {
    "papermill": {},
    "tags": []
   },
   "source": [
    "### Other options"
   ]
  },
  {
   "cell_type": "markdown",
   "id": "expanded-adapter",
   "metadata": {
    "execution": {
     "iopub.execute_input": "2021-07-20T12:54:32.522810Z",
     "iopub.status.busy": "2021-07-20T12:54:32.522572Z",
     "iopub.status.idle": "2021-07-20T12:54:32.525785Z",
     "shell.execute_reply": "2021-07-20T12:54:32.525058Z",
     "shell.execute_reply.started": "2021-07-20T12:54:32.522788Z"
    },
    "papermill": {},
    "tags": []
   },
   "source": [
    "#### Specifiying the comon column using parameters \"on\""
   ]
  },
  {
   "cell_type": "code",
   "execution_count": 8,
   "id": "environmental-actress",
   "metadata": {
    "papermill": {},
    "tags": []
   },
   "outputs": [],
   "source": [
    "df = pd.merge(df_1, df_2, on=\"student_id\")\n",
    "df"
   ]
  },
  {
   "cell_type": "markdown",
   "id": "patient-cathedral",
   "metadata": {
    "papermill": {},
    "tags": []
   },
   "source": [
    "#### Specifying what kind of Joins you want since merging does inner joins by default"
   ]
  },
  {
   "cell_type": "markdown",
   "id": "blocked-valuable",
   "metadata": {
    "papermill": {},
    "tags": []
   },
   "source": [
    "- \"inner\" > Inner Join: INCLUDING ROWS OF FIRST AND SECOND ONLY IF THE VALUE IS THE SAME IN BOTH DATAFRAMES<br />\n",
    "- \"outer\" > Outer Join: IT JOINS ALL THE ROWS OF FIRST AND SECOND DATAFRAMES TOGETHER AND CREATE NaN VALUE IF A ROW DOESN'T HAVE A VALUE AFTER JOINING<br />\n",
    "- \"left\" > Left Join: INCLUDES ALL THE ROWS IN THE FIRST DATAFRAME AND ADDS THE COLUMNS OF SECOND DATAFRAME BUT IT WON'T INCLUDE THE ROWS OF THE SECOND DATAFRAME IF IT'S NOT THE SAME WITH THE FIRST<br />\n",
    "- \"right\" > Right Join: INCLUDES ALL THE ROWS OF SECOND DATAFRAME AND THE COLUMNS OF THE FIRST DATAFRAME BUT WON'T INCLUDE THE ROWS OF THE FIRST DATAFRAME IF IT'S NOT SIMILAR TO THE SECOND DATAFRAME"
   ]
  },
  {
   "cell_type": "code",
   "execution_count": 9,
   "id": "active-billion",
   "metadata": {
    "papermill": {},
    "tags": []
   },
   "outputs": [],
   "source": [
    "df = pd.merge(df_1, df_2, on=\"student_id\", how=\"left\")\n",
    "df"
   ]
  },
  {
   "cell_type": "markdown",
   "id": "divided-sculpture",
   "metadata": {
    "papermill": {},
    "tags": []
   },
   "source": [
    "#### Merging dataframes with same values but different column names\n",
    "We add two more parameters :<br>\n",
    "- Left_on means merge using this column name<br>\n",
    "- Right_on means merge using this column name<br>\n",
    "i.e merge both id and student_id together<br>\n",
    "since they don't have same name, they will create different columns on the new table"
   ]
  },
  {
   "cell_type": "code",
   "execution_count": 10,
   "id": "behind-copper",
   "metadata": {
    "papermill": {},
    "tags": []
   },
   "outputs": [],
   "source": [
    "df_1 = df_1.rename(\n",
    "    columns={\"student_id\": \"id\"}\n",
    ")  # Renamed student_id to id so as to give this example\n",
    "df_1"
   ]
  },
  {
   "cell_type": "code",
   "execution_count": 11,
   "id": "rocky-south",
   "metadata": {
    "papermill": {},
    "tags": []
   },
   "outputs": [],
   "source": [
    "df = pd.merge(df_1, df_2, left_on=\"id\", right_on=\"student_id\")\n",
    "df"
   ]
  },
  {
   "cell_type": "markdown",
   "id": "welsh-grove",
   "metadata": {
    "papermill": {},
    "tags": []
   },
   "source": [
    "#### Merging with the index of the first dataframe"
   ]
  },
  {
   "cell_type": "code",
   "execution_count": 12,
   "id": "mechanical-personal",
   "metadata": {
    "papermill": {},
    "tags": []
   },
   "outputs": [],
   "source": [
    "df_1.set_index(\"id\")  # this will make id the new index for df_1"
   ]
  },
  {
   "cell_type": "code",
   "execution_count": 13,
   "id": "english-material",
   "metadata": {
    "papermill": {},
    "tags": []
   },
   "outputs": [],
   "source": [
    "df = pd.merge(\n",
    "    df_1, df_2, left_index=True, right_on=\"student_id\"\n",
    ")  # the new index will be from index of df_2 where they joined\n",
    "df"
   ]
  },
  {
   "cell_type": "markdown",
   "id": "labeled-highlight",
   "metadata": {
    "papermill": {},
    "tags": []
   },
   "source": [
    "#### Merging both table on their index i.e two indexes"
   ]
  },
  {
   "cell_type": "code",
   "execution_count": 14,
   "id": "reported-trial",
   "metadata": {
    "papermill": {},
    "tags": []
   },
   "outputs": [],
   "source": [
    "df_2.set_index(\"student_id\")  # making student_id the index of Data2"
   ]
  },
  {
   "cell_type": "code",
   "execution_count": 15,
   "id": "driven-winter",
   "metadata": {
    "papermill": {},
    "tags": []
   },
   "outputs": [],
   "source": [
    "df = pd.merge(\n",
    "    df_1, df_2, left_index=True, right_index=True\n",
    ")  # new index will be from the left index unlike when joining only one index\n",
    "df"
   ]
  }
 ],
 "metadata": {
  "kernelspec": {
   "display_name": "Python 3",
   "language": "python",
   "name": "python3"
  },
  "language_info": {
   "codemirror_mode": {
    "name": "ipython",
    "version": 3
   },
   "file_extension": ".py",
   "mimetype": "text/x-python",
   "name": "python",
   "nbconvert_exporter": "python",
   "pygments_lexer": "ipython3",
   "version": "3.9.6"
  },
  "naas": {
   "notebook_id": "ea957a5f2454415ccc337c1c056b1e7a9e2cb345f786c1938a3ef0b4a434955e",
   "notebook_path": "Pandas/Pandas_Merge_Dataframes.ipynb"
  },
  "papermill": {
   "default_parameters": {},
   "environment_variables": {},
   "parameters": {},
   "version": "2.3.3"
  }
 },
 "nbformat": 4,
 "nbformat_minor": 5
}