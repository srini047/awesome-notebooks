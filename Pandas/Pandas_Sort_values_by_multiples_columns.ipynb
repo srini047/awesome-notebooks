{
 "cells": [
  {
   "cell_type": "markdown",
   "id": "38c38f00-d8cc-43ad-afc0-09298dd5aca6",
   "metadata": {
    "papermill": {},
    "tags": []
   },
   "source": [
    "<img width=\"10%\" alt=\"Naas\" src=\"https://landen.imgix.net/jtci2pxwjczr/assets/5ice39g4.png?w=160\"/>"
   ]
  },
  {
   "cell_type": "markdown",
   "id": "3136e18b-5c22-4ecb-8f95-efaf7ed76a77",
   "metadata": {
    "papermill": {},
    "tags": []
   },
   "source": [
    "# Pandas - Sort values by multiples columns\n",
    "<a href=\"https://app.naas.ai/user-redirect/naas/downloader?url=https://raw.githubusercontent.com/jupyter-naas/awesome-notebooks/master/Pandas/Pandas_Sort_values_by_multiples_columns.ipynb\" target=\"_parent\"><img src=\"https://naasai-public.s3.eu-west-3.amazonaws.com/Open_in_Naas_Lab.svg\"/></a><br><br><a href=\"https://github.com/jupyter-naas/awesome-notebooks/issues/new?assignees=&labels=&template=template-request.md&title=Tool+-+Action+of+the+notebook+\">Template request</a> | <a href=\"https://github.com/jupyter-naas/awesome-notebooks/issues/new?assignees=&labels=bug&template=bug_report.md&title=Pandas+-+Sort+values+by+multiples+columns:+Error+short+description\">Bug report</a> | <a href=\"https://app.naas.ai/user-redirect/naas/downloader?url=https://raw.githubusercontent.com/jupyter-naas/awesome-notebooks/master/Naas/Naas_Start_data_product.ipynb\" target=\"_parent\">Generate Data Product</a>"
   ]
  },
  {
   "cell_type": "markdown",
   "id": "b9104055-b0d9-4c23-97ea-b884521fe6a1",
   "metadata": {
    "papermill": {},
    "tags": []
   },
   "source": [
    "**Tags:** #pandas #dataframe #sort #columns #values #multiples"
   ]
  },
  {
   "cell_type": "markdown",
   "id": "b10a3fd1-d153-4157-82b7-a19b791b49c2",
   "metadata": {
    "papermill": {},
    "tags": []
   },
   "source": [
    "**Author:** [Benjamin Filly](https://www.linkedin.com/in/benjamin-filly-05427727a/)"
   ]
  },
  {
   "cell_type": "markdown",
   "id": "b8009e82-4d85-45bd-9272-eb7538d0443d",
   "metadata": {
    "papermill": {},
    "tags": []
   },
   "source": [
    "**Description:** This notebook will show how to sort values by multiples columns in Pandas. It is usefull for data analysis and data manipulation."
   ]
  },
  {
   "cell_type": "markdown",
   "id": "cf0ca181-4c01-4f7e-838a-4c009a70b34e",
   "metadata": {
    "papermill": {},
    "tags": []
   },
   "source": [
    "**References:**\n",
    "- [Pandas - Sort values](https://pandas.pydata.org/docs/reference/api/pandas.DataFrame.sort_values.html)\n",
    "- [Pandas - Tutoriel Sort Value](https://www.geeksforgeeks.org/python-pandas-dataframe-sort_values-set-2/)"
   ]
  },
  {
   "cell_type": "markdown",
   "id": "e7e1bcd6-99c2-4d6b-87d5-4ff719805970",
   "metadata": {
    "papermill": {},
    "tags": []
   },
   "source": [
    "## Input"
   ]
  },
  {
   "cell_type": "markdown",
   "id": "45572bfd-d58c-4d61-b01a-456443b2893f",
   "metadata": {
    "papermill": {},
    "tags": []
   },
   "source": [
    "### Import libraries"
   ]
  },
  {
   "cell_type": "code",
   "execution_count": 6,
   "id": "704cb95a-84db-4b16-863d-9e822ceba451",
   "metadata": {
    "papermill": {},
    "tags": []
   },
   "outputs": [],
   "source": [
    "import pandas as pd"
   ]
  },
  {
   "cell_type": "markdown",
   "id": "eb50fcb2-66be-4771-bc91-184d924ba72a",
   "metadata": {
    "papermill": {},
    "tags": []
   },
   "source": [
    "### Setup Variables"
   ]
  },
  {
   "cell_type": "markdown",
   "id": "ba2b5676-c647-4ecd-9834-eb1c9352d4de",
   "metadata": {
    "papermill": {},
    "tags": []
   },
   "source": [
    "- `by`: Name or list of names to sort by.\n",
    "- `ascending`: bool or list of bool, default True. Specify list for multiple sort orders. If this is a list of bools, must match the length of the by.\n",
    "- `ignore_index`: bool, default False. If True, the resulting axis will be labeled 0, 1, …, n - 1."
   ]
  },
  {
   "cell_type": "code",
   "execution_count": 7,
   "id": "91e87fae-323f-48e9-97d6-4b37e7c5e1aa",
   "metadata": {
    "papermill": {},
    "tags": []
   },
   "outputs": [],
   "source": [
    "by = ['Score', 'Age']\n",
    "ascending = [False, True]\n",
    "ignore_index = True"
   ]
  },
  {
   "cell_type": "markdown",
   "id": "423e009e-6e05-4341-8ca0-868603209531",
   "metadata": {
    "papermill": {},
    "tags": []
   },
   "source": [
    "## Model"
   ]
  },
  {
   "cell_type": "markdown",
   "id": "50d5381b-0e9c-461f-a21b-a71b0043fdcc",
   "metadata": {
    "papermill": {},
    "tags": []
   },
   "source": [
    "### Create a dataframe"
   ]
  },
  {
   "cell_type": "code",
   "execution_count": 8,
   "id": "f5e0b799-3f43-49e2-9f0e-4f27a7f097e1",
   "metadata": {
    "papermill": {},
    "tags": []
   },
   "outputs": [],
   "source": [
    "# Create a dataframe\n",
    "data = {\n",
    "    \"Name\": [\"Tom\", \"nick\", \"krish\", \"jack\"],\n",
    "    \"Age\": [20, 21, 19, 18],\n",
    "    \"Score\": [99, 98, 95, 90],\n",
    "}\n",
    "df = pd.DataFrame(data)\n",
    "df"
   ]
  },
  {
   "cell_type": "markdown",
   "id": "b77736cd-8875-4747-93a2-3da162cea5fc",
   "metadata": {
    "papermill": {},
    "tags": []
   },
   "source": [
    "## Output"
   ]
  },
  {
   "cell_type": "markdown",
   "id": "479849bd-482f-49fb-ba7f-1fe6fe4cb31d",
   "metadata": {
    "papermill": {},
    "tags": []
   },
   "source": [
    "### Sort values by multiples columns"
   ]
  },
  {
   "cell_type": "code",
   "execution_count": 9,
   "id": "d9fd8855-b8e5-4c0d-b3f8-ab0b2ca9b4f1",
   "metadata": {
    "papermill": {},
    "tags": []
   },
   "outputs": [],
   "source": [
    "# Sort the DataFrame by multiple columns\n",
    "sorted_df = df.sort_values(by=by, ascending=ascending, ignore_index=ignore_index)\n",
    "sorted_df"
   ]
  },
  {
   "cell_type": "markdown",
   "id": "58948eff-0aeb-4c9f-aca2-880870ca0c54",
   "metadata": {
    "papermill": {},
    "tags": []
   },
   "source": [
    " "
   ]
  }
 ],
 "metadata": {
  "kernelspec": {
   "display_name": "Python 3",
   "language": "python",
   "name": "python3"
  },
  "language_info": {
   "codemirror_mode": {
    "name": "ipython",
    "version": 3
   },
   "file_extension": ".py",
   "mimetype": "text/x-python",
   "name": "python",
   "nbconvert_exporter": "python",
   "pygments_lexer": "ipython3",
   "version": "3.9.6"
  },
  "naas": {
   "notebook_id": "1d2d1155e7b45a7959095737ba4ecd08e96ffc02a72d097d5271eae4b71902a5",
   "notebook_path": "Pandas/Pandas_Sort_values_by_multiples_columns.ipynb"
  },
  "papermill": {
   "default_parameters": {},
   "environment_variables": {},
   "parameters": {},
   "version": "2.4.0"
  },
  "widgets": {
   "application/vnd.jupyter.widget-state+json": {
    "state": {},
    "version_major": 2,
    "version_minor": 0
   }
  }
 },
 "nbformat": 4,
 "nbformat_minor": 5
}