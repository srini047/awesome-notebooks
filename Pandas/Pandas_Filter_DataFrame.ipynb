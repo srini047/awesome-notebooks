{
 "cells": [
  {
   "cell_type": "markdown",
   "id": "88a8e162-4b2b-45ce-a647-58d7d197bb16",
   "metadata": {
    "papermill": {},
    "tags": []
   },
   "source": [
    "<img width=\"10%\" alt=\"Naas\" src=\"https://landen.imgix.net/jtci2pxwjczr/assets/5ice39g4.png?w=160\"/>"
   ]
  },
  {
   "cell_type": "markdown",
   "id": "5b823cd5-6425-4149-8777-89ca4ff9e824",
   "metadata": {
    "papermill": {},
    "tags": []
   },
   "source": [
    "# Pandas - Filter DataFrame\n",
    "<a href=\"https://app.naas.ai/user-redirect/naas/downloader?url=https://raw.githubusercontent.com/jupyter-naas/awesome-notebooks/master/Pandas/Pandas_Filter_DataFrame.ipynb\" target=\"_parent\"><img src=\"https://naasai-public.s3.eu-west-3.amazonaws.com/open_in_naas.svg\"/></a><br><br><a href=\"https://github.com/jupyter-naas/awesome-notebooks/issues/new?assignees=&labels=&template=template-request.md&title=Tool+-+Action+of+the+notebook+\">Template request</a> | <a href=\"https://github.com/jupyter-naas/awesome-notebooks/issues/new?assignees=&labels=bug&template=bug_report.md&title=Pandas+-+Filter+DataFrame:+Error+short+description\">Bug report</a>"
   ]
  },
  {
   "cell_type": "markdown",
   "id": "5038956e-31d5-4236-986c-15fe35f0ccfd",
   "metadata": {
    "papermill": {},
    "tags": []
   },
   "source": [
    "**Tags:** #pandas #dataframe #filter #python #dataanalysis"
   ]
  },
  {
   "cell_type": "markdown",
   "id": "75bd8b3d-1c43-4105-8faa-7820148b4a5e",
   "metadata": {
    "papermill": {},
    "tags": []
   },
   "source": [
    "**Author:** [Florent Ravenel](https://www.linkedin.com/in/florent-ravenel/)"
   ]
  },
  {
   "cell_type": "markdown",
   "id": "404fb738-3c38-4823-96bd-78efd28f61ee",
   "metadata": {
    "papermill": {},
    "tags": []
   },
   "source": [
    "**Description:** This notebook will show how to filter a DataFrame using Pandas."
   ]
  },
  {
   "cell_type": "markdown",
   "id": "94e1e202-4420-47bd-b558-36a4fddce3ce",
   "metadata": {
    "papermill": {},
    "tags": []
   },
   "source": [
    "**References:**\n",
    "- [Tutorialspoint - Pandas](https://www.tutorialspoint.com/python_pandas/python_pandas_dataframe.htm)"
   ]
  },
  {
   "cell_type": "markdown",
   "id": "0b208f98-36f3-4182-9f2a-be48d42971e1",
   "metadata": {
    "papermill": {},
    "tags": []
   },
   "source": [
    "## Input"
   ]
  },
  {
   "cell_type": "markdown",
   "id": "d8a8fb2f-e89b-4774-82b7-13ff29de2ce5",
   "metadata": {
    "papermill": {},
    "tags": []
   },
   "source": [
    "### Import libraries"
   ]
  },
  {
   "cell_type": "code",
   "execution_count": null,
   "id": "767ad87e-ed1d-4a87-9fea-657d50687b73",
   "metadata": {
    "papermill": {},
    "tags": []
   },
   "outputs": [],
   "source": [
    "import pandas as pd"
   ]
  },
  {
   "cell_type": "markdown",
   "id": "da9d9d88-95e5-4c9a-8a27-3aea0d85bae0",
   "metadata": {
    "papermill": {},
    "tags": []
   },
   "source": [
    "### Setup Variables"
   ]
  },
  {
   "cell_type": "code",
   "execution_count": null,
   "id": "7555116d-e59e-467f-a2a6-115c05ad2152",
   "metadata": {
    "papermill": {},
    "tags": []
   },
   "outputs": [],
   "source": [
    "# Create a fake dataset\n",
    "data = {\n",
    "    \"name\": [\"Jason\", \"Molly\", \"Tina\", \"Jake\", \"Amy\"],\n",
    "    \"year\": [2012, 2012, 2013, 2014, 2014],\n",
    "    \"reports\": [4, 24, 31, 2, 3],\n",
    "}\n",
    "# Create a DataFrame\n",
    "df = pd.DataFrame(data)\n",
    "df"
   ]
  },
  {
   "cell_type": "markdown",
   "id": "d77b3dc2-c9f7-493e-9b33-ccef50d04b75",
   "metadata": {
    "papermill": {},
    "tags": []
   },
   "source": [
    "## Model"
   ]
  },
  {
   "cell_type": "markdown",
   "id": "5aa4c853-7ed4-40bd-b075-fdc6f9ea7903",
   "metadata": {
    "papermill": {},
    "tags": []
   },
   "source": [
    "### Filter DataFrame"
   ]
  },
  {
   "cell_type": "markdown",
   "id": "98246342-1715-44bf-b3c5-0c12dc7f5cbb",
   "metadata": {
    "papermill": {},
    "tags": []
   },
   "source": [
    "This will filter the DataFrame to only show the rows where the number of reports is greater than 4."
   ]
  },
  {
   "cell_type": "code",
   "execution_count": null,
   "id": "0c5e05d9-b705-4c3f-9efb-47ccaad09b7a",
   "metadata": {
    "papermill": {},
    "tags": []
   },
   "outputs": [],
   "source": [
    "# Filter the DataFrame\n",
    "df_filtered = df.copy()\n",
    "df_filtered = df_filtered[df_filtered[\"reports\"] > 4]\n",
    "df_filtered"
   ]
  },
  {
   "cell_type": "markdown",
   "id": "556cf713-60ca-4f9f-9c40-83df322fc613",
   "metadata": {
    "papermill": {},
    "tags": []
   },
   "source": [
    "## Output"
   ]
  },
  {
   "cell_type": "markdown",
   "id": "f94d18de-bffd-4313-b7b2-ec93a8302e90",
   "metadata": {
    "papermill": {},
    "tags": []
   },
   "source": [
    "### Display result"
   ]
  },
  {
   "cell_type": "code",
   "execution_count": null,
   "id": "536bf923-ffd3-4521-8d59-8e938d95b41f",
   "metadata": {
    "papermill": {},
    "tags": []
   },
   "outputs": [],
   "source": [
    "# Display the filtered DataFrame\n",
    "df_filtered"
   ]
  },
  {
   "cell_type": "markdown",
   "id": "cd284d41-9a59-4741-a835-8f0746c3d12a",
   "metadata": {
    "papermill": {},
    "tags": []
   },
   "source": [
    " "
   ]
  }
 ],
 "metadata": {
  "kernelspec": {
   "display_name": "Python 3",
   "language": "python",
   "name": "python3"
  },
  "language_info": {
   "codemirror_mode": {
    "name": "ipython",
    "version": 3
   },
   "file_extension": ".py",
   "mimetype": "text/x-python",
   "name": "python",
   "nbconvert_exporter": "python",
   "pygments_lexer": "ipython3",
   "version": "3.9.6"
  },
  "papermill": {
   "default_parameters": {},
   "environment_variables": {},
   "parameters": {},
   "version": "2.4.0"
  },
  "widgets": {
   "application/vnd.jupyter.widget-state+json": {
    "state": {},
    "version_major": 2,
    "version_minor": 0
   }
  }
 },
 "nbformat": 4,
 "nbformat_minor": 5
}