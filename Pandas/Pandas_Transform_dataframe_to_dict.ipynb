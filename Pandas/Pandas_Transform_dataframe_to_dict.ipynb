{
 "cells": [
  {
   "cell_type": "markdown",
   "id": "73fdd6d5-d8c4-47fe-9ab6-beac569af513",
   "metadata": {
    "papermill": {},
    "tags": []
   },
   "source": [
    "<img width=\"10%\" alt=\"Naas\" src=\"https://landen.imgix.net/jtci2pxwjczr/assets/5ice39g4.png?w=160\"/>"
   ]
  },
  {
   "cell_type": "markdown",
   "id": "descending-grammar",
   "metadata": {
    "papermill": {},
    "tags": []
   },
   "source": [
    "# Pandas - Transform dataframe to dict\n",
    "<a href=\"https://app.naas.ai/user-redirect/naas/downloader?url=https://raw.githubusercontent.com/jupyter-naas/awesome-notebooks/master/Pandas/Pandas_Transform_dataframe_to_dict.ipynb\" target=\"_parent\"><img src=\"https://naasai-public.s3.eu-west-3.amazonaws.com/open_in_naas.svg\"/></a><br><br><a href=\"https://github.com/jupyter-naas/awesome-notebooks/issues/new?assignees=&labels=&template=template-request.md&title=Tool+-+Action+of+the+notebook+\">Template request</a> | <a href=\"https://github.com/jupyter-naas/awesome-notebooks/issues/new?assignees=&labels=bug&template=bug_report.md&title=Pandas+-+Transform+dataframe+to+dict:+Error+short+description\">Bug report</a>"
   ]
  },
  {
   "cell_type": "markdown",
   "id": "ea0f4d52-5687-4719-9b35-e5abcc48328b",
   "metadata": {
    "papermill": {},
    "tags": []
   },
   "source": [
    "**Tags:** #pandas #dict #snippet #yahoofinance #naas_drivers #operations #jupyternotebooks"
   ]
  },
  {
   "cell_type": "markdown",
   "id": "16d1f778-1306-4cb9-a405-f217a4cc8051",
   "metadata": {
    "papermill": {},
    "tags": []
   },
   "source": [
    "**Author:** [Florent Ravenel](https://www.linkedin.com/in/florent-ravenel/)"
   ]
  },
  {
   "cell_type": "markdown",
   "id": "naas-description",
   "metadata": {
    "papermill": {},
    "tags": [
     "description"
    ]
   },
   "source": [
    "**Description:** This notebook provides an example of how to use the Pandas library to convert a dataframe into a dictionary."
   ]
  },
  {
   "cell_type": "markdown",
   "id": "d17064b3-00b5-4d71-96ba-38c6af450919",
   "metadata": {
    "papermill": {},
    "tags": []
   },
   "source": [
    "## Input"
   ]
  },
  {
   "cell_type": "markdown",
   "id": "1d8f5e20-bcfc-4ceb-83ad-0856868327a0",
   "metadata": {
    "papermill": {},
    "tags": []
   },
   "source": [
    "### Import libraries"
   ]
  },
  {
   "cell_type": "code",
   "execution_count": 1,
   "id": "fd368ba3-fc40-46db-af1d-a62d11573923",
   "metadata": {
    "execution": {
     "iopub.execute_input": "2022-03-07T16:12:06.781481Z",
     "iopub.status.busy": "2022-03-07T16:12:06.781219Z",
     "iopub.status.idle": "2022-03-07T16:12:07.378228Z",
     "shell.execute_reply": "2022-03-07T16:12:07.377553Z",
     "shell.execute_reply.started": "2022-03-07T16:12:06.781418Z"
    },
    "papermill": {},
    "tags": []
   },
   "outputs": [],
   "source": [
    "from naas_drivers import yahoofinance"
   ]
  },
  {
   "cell_type": "markdown",
   "id": "79126baa-2a38-4861-8130-66b4c4e13621",
   "metadata": {
    "papermill": {},
    "tags": []
   },
   "source": [
    "### Input parameters\n",
    "👉 Here you can change the ticker, timeframe and add moving averages analysis"
   ]
  },
  {
   "cell_type": "code",
   "execution_count": 2,
   "id": "exceptional-pearl",
   "metadata": {
    "execution": {
     "iopub.execute_input": "2022-03-07T16:12:16.296907Z",
     "iopub.status.busy": "2022-03-07T16:12:16.296661Z",
     "iopub.status.idle": "2022-03-07T16:12:16.300179Z",
     "shell.execute_reply": "2022-03-07T16:12:16.299516Z",
     "shell.execute_reply.started": "2022-03-07T16:12:16.296882Z"
    },
    "papermill": {},
    "tags": []
   },
   "outputs": [],
   "source": [
    "ticker = \"TSLA\"\n",
    "date_from = -100\n",
    "date_to = \"today\""
   ]
  },
  {
   "cell_type": "markdown",
   "id": "0a1ad0db-97b3-4f84-a82e-517595d95f17",
   "metadata": {
    "papermill": {},
    "tags": []
   },
   "source": [
    "## Model"
   ]
  },
  {
   "cell_type": "markdown",
   "id": "manufactured-allocation",
   "metadata": {
    "papermill": {},
    "tags": []
   },
   "source": [
    "### Get dataframe from Yahoo Finance"
   ]
  },
  {
   "cell_type": "code",
   "execution_count": 6,
   "id": "powered-ensemble",
   "metadata": {
    "execution": {
     "iopub.execute_input": "2022-03-07T16:12:48.650759Z",
     "iopub.status.busy": "2022-03-07T16:12:48.650530Z",
     "iopub.status.idle": "2022-03-07T16:12:48.723751Z",
     "shell.execute_reply": "2022-03-07T16:12:48.723124Z",
     "shell.execute_reply.started": "2022-03-07T16:12:48.650736Z"
    },
    "papermill": {},
    "tags": []
   },
   "outputs": [],
   "source": [
    "df_yahoo = yahoofinance.get(ticker, date_from=-5)\n",
    "df_yahoo"
   ]
  },
  {
   "cell_type": "markdown",
   "id": "d71d8ad4-697d-4d4e-be8c-6c7d54d174e0",
   "metadata": {
    "papermill": {},
    "tags": []
   },
   "source": [
    "## Output"
   ]
  },
  {
   "cell_type": "markdown",
   "id": "great-visiting",
   "metadata": {
    "papermill": {},
    "tags": []
   },
   "source": [
    "### Transform dataframe\n",
    "Params = orient\n",
    "- list: keys are column names, values are lists of column data\n",
    "- records: each row becomes a dictionary where key is column name and value is the data in the cell"
   ]
  },
  {
   "cell_type": "code",
   "execution_count": 9,
   "id": "isolated-harrison",
   "metadata": {
    "execution": {
     "iopub.execute_input": "2022-03-07T16:13:34.316682Z",
     "iopub.status.busy": "2022-03-07T16:13:34.316447Z",
     "iopub.status.idle": "2022-03-07T16:13:34.322582Z",
     "shell.execute_reply": "2022-03-07T16:13:34.321940Z",
     "shell.execute_reply.started": "2022-03-07T16:13:34.316659Z"
    },
    "papermill": {},
    "tags": []
   },
   "outputs": [],
   "source": [
    "dict_yahoo = df_yahoo.to_dict(orient=\"records\")\n",
    "dict_yahoo"
   ]
  }
 ],
 "metadata": {
  "kernelspec": {
   "display_name": "Python 3",
   "language": "python",
   "name": "python3"
  },
  "language_info": {
   "codemirror_mode": {
    "name": "ipython",
    "version": 3
   },
   "file_extension": ".py",
   "mimetype": "text/x-python",
   "name": "python",
   "nbconvert_exporter": "python",
   "pygments_lexer": "ipython3",
   "version": "3.8.8"
  },
  "naas": {
   "notebook_id": "d472d3e3-564d-4ba3-99bd-f6b8dcdd0925",
   "notebook_path": "Pandas/Pandas_Transform_dataframe_to_dict.ipynb"
  },
  "papermill": {
   "default_parameters": {},
   "environment_variables": {},
   "parameters": {},
   "version": "2.3.3"
  },
  "toc-autonumbering": false,
  "widgets": {
   "application/vnd.jupyter.widget-state+json": {
    "state": {},
    "version_major": 2,
    "version_minor": 0
   }
  }
 },
 "nbformat": 4,
 "nbformat_minor": 5
}