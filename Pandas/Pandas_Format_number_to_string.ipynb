{
 "cells": [
  {
   "cell_type": "markdown",
   "id": "73fdd6d5-d8c4-47fe-9ab6-beac569af513",
   "metadata": {
    "papermill": {},
    "tags": []
   },
   "source": [
    "<img width=\"10%\" alt=\"Naas\" src=\"https://landen.imgix.net/jtci2pxwjczr/assets/5ice39g4.png?w=160\"/>"
   ]
  },
  {
   "cell_type": "markdown",
   "id": "descending-grammar",
   "metadata": {
    "papermill": {},
    "tags": []
   },
   "source": [
    "# Pandas - Format number to string\n",
    "<a href=\"https://app.naas.ai/user-redirect/naas/downloader?url=https://raw.githubusercontent.com/jupyter-naas/awesome-notebooks/master/Pandas/Pandas_Format_number_to_string.ipynb\" target=\"_parent\"><img src=\"https://naasai-public.s3.eu-west-3.amazonaws.com/open_in_naas.svg\"/></a><br><br><a href=\"https://github.com/jupyter-naas/awesome-notebooks/issues/new?assignees=&labels=&template=template-request.md&title=Tool+-+Action+of+the+notebook+\">Template request</a> | <a href=\"https://github.com/jupyter-naas/awesome-notebooks/issues/new?assignees=&labels=bug&template=bug_report.md&title=Pandas+-+Format+number+to+string:+Error+short+description\">Bug report</a>"
   ]
  },
  {
   "cell_type": "markdown",
   "id": "ea0f4d52-5687-4719-9b35-e5abcc48328b",
   "metadata": {
    "papermill": {},
    "tags": []
   },
   "source": [
    "**Tags:** #pandas #dataframe #format #snippet #yahoofinance #naas_drivers #operations #jupyternotebooks"
   ]
  },
  {
   "cell_type": "markdown",
   "id": "16d1f778-1306-4cb9-a405-f217a4cc8051",
   "metadata": {
    "papermill": {},
    "tags": []
   },
   "source": [
    "**Author:** [Florent Ravenel](https://www.linkedin.com/in/florent-ravenel/)"
   ]
  },
  {
   "cell_type": "markdown",
   "id": "naas-description",
   "metadata": {
    "papermill": {},
    "tags": [
     "description"
    ]
   },
   "source": [
    "**Description:** This notebook provides an example of how to convert numerical values to strings using the Pandas library."
   ]
  },
  {
   "cell_type": "markdown",
   "id": "d17064b3-00b5-4d71-96ba-38c6af450919",
   "metadata": {
    "papermill": {},
    "tags": []
   },
   "source": [
    "## Input"
   ]
  },
  {
   "cell_type": "markdown",
   "id": "1d8f5e20-bcfc-4ceb-83ad-0856868327a0",
   "metadata": {
    "papermill": {},
    "tags": []
   },
   "source": [
    "### Import libraries"
   ]
  },
  {
   "cell_type": "code",
   "execution_count": 1,
   "id": "fd368ba3-fc40-46db-af1d-a62d11573923",
   "metadata": {
    "execution": {
     "iopub.execute_input": "2022-03-07T17:34:13.417854Z",
     "iopub.status.busy": "2022-03-07T17:34:13.417412Z",
     "iopub.status.idle": "2022-03-07T17:34:14.129042Z",
     "shell.execute_reply": "2022-03-07T17:34:14.128465Z",
     "shell.execute_reply.started": "2022-03-07T17:34:13.417783Z"
    },
    "papermill": {},
    "tags": []
   },
   "outputs": [],
   "source": [
    "from naas_drivers import yahoofinance"
   ]
  },
  {
   "cell_type": "markdown",
   "id": "79126baa-2a38-4861-8130-66b4c4e13621",
   "metadata": {
    "papermill": {},
    "tags": []
   },
   "source": [
    "### Input parameters"
   ]
  },
  {
   "cell_type": "code",
   "execution_count": 2,
   "id": "exceptional-pearl",
   "metadata": {
    "execution": {
     "iopub.execute_input": "2022-03-07T17:34:14.130274Z",
     "iopub.status.busy": "2022-03-07T17:34:14.130047Z",
     "iopub.status.idle": "2022-03-07T17:34:14.135052Z",
     "shell.execute_reply": "2022-03-07T17:34:14.134527Z",
     "shell.execute_reply.started": "2022-03-07T17:34:14.130246Z"
    },
    "papermill": {},
    "tags": []
   },
   "outputs": [],
   "source": [
    "ticker = \"TSLA\"\n",
    "date_from = -100\n",
    "date_to = \"today\""
   ]
  },
  {
   "cell_type": "markdown",
   "id": "0a1ad0db-97b3-4f84-a82e-517595d95f17",
   "metadata": {
    "papermill": {},
    "tags": []
   },
   "source": [
    "## Model"
   ]
  },
  {
   "cell_type": "markdown",
   "id": "manufactured-allocation",
   "metadata": {
    "papermill": {},
    "tags": []
   },
   "source": [
    "### Get dataframe from Yahoo Finance"
   ]
  },
  {
   "cell_type": "code",
   "execution_count": 3,
   "id": "powered-ensemble",
   "metadata": {
    "execution": {
     "iopub.execute_input": "2022-03-07T17:34:14.136125Z",
     "iopub.status.busy": "2022-03-07T17:34:14.135902Z",
     "iopub.status.idle": "2022-03-07T17:34:14.305813Z",
     "shell.execute_reply": "2022-03-07T17:34:14.305271Z",
     "shell.execute_reply.started": "2022-03-07T17:34:14.136095Z"
    },
    "papermill": {},
    "tags": []
   },
   "outputs": [],
   "source": [
    "df_yahoo = yahoofinance.get(ticker, date_from=-5)\n",
    "df_yahoo"
   ]
  },
  {
   "cell_type": "markdown",
   "id": "d71d8ad4-697d-4d4e-be8c-6c7d54d174e0",
   "metadata": {
    "papermill": {},
    "tags": []
   },
   "source": [
    "## Output"
   ]
  },
  {
   "cell_type": "markdown",
   "id": "great-visiting",
   "metadata": {
    "papermill": {},
    "tags": []
   },
   "source": [
    "### Format number nicely\n",
    "Get more information in the doc [here](https://pandas.pydata.org/docs/reference/api/pandas.Series.map.html)"
   ]
  },
  {
   "cell_type": "code",
   "execution_count": 7,
   "id": "isolated-harrison",
   "metadata": {
    "execution": {
     "iopub.execute_input": "2022-03-07T17:35:37.139945Z",
     "iopub.status.busy": "2022-03-07T17:35:37.139721Z",
     "iopub.status.idle": "2022-03-07T17:35:37.152578Z",
     "shell.execute_reply": "2022-03-07T17:35:37.151954Z",
     "shell.execute_reply.started": "2022-03-07T17:35:37.139922Z"
    },
    "papermill": {},
    "tags": []
   },
   "outputs": [],
   "source": [
    "df_yahoo[\"VALUE\"] = df_yahoo[\"Close\"].map(\"€ {:,.2f}\".format).str.replace(\",\", \" \")\n",
    "df_yahoo"
   ]
  },
  {
   "cell_type": "code",
   "execution_count": null,
   "id": "f8b9a7ef-4f87-4d23-933e-14e9eca45046",
   "metadata": {
    "papermill": {},
    "tags": []
   },
   "outputs": [],
   "source": []
  }
 ],
 "metadata": {
  "kernelspec": {
   "display_name": "Python 3",
   "language": "python",
   "name": "python3"
  },
  "language_info": {
   "codemirror_mode": {
    "name": "ipython",
    "version": 3
   },
   "file_extension": ".py",
   "mimetype": "text/x-python",
   "name": "python",
   "nbconvert_exporter": "python",
   "pygments_lexer": "ipython3",
   "version": "3.8.8"
  },
  "naas": {
   "notebook_id": "65178c3d-fa6a-4bd5-b3f6-cbc6dff33061",
   "notebook_path": "Pandas/Pandas_Format_number_to_string.ipynb"
  },
  "papermill": {
   "default_parameters": {},
   "environment_variables": {},
   "parameters": {},
   "version": "2.3.3"
  },
  "toc-autonumbering": false,
  "widgets": {
   "application/vnd.jupyter.widget-state+json": {
    "state": {},
    "version_major": 2,
    "version_minor": 0
   }
  }
 },
 "nbformat": 4,
 "nbformat_minor": 5
}