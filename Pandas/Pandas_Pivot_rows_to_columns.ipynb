{
 "cells": [
  {
   "cell_type": "markdown",
   "id": "73fdd6d5-d8c4-47fe-9ab6-beac569af513",
   "metadata": {
    "papermill": {},
    "tags": []
   },
   "source": [
    "<img width=\"10%\" alt=\"Naas\" src=\"https://landen.imgix.net/jtci2pxwjczr/assets/5ice39g4.png?w=160\"/>"
   ]
  },
  {
   "cell_type": "markdown",
   "id": "descending-grammar",
   "metadata": {
    "papermill": {},
    "tags": []
   },
   "source": [
    "# Pandas - Pivot rows to columns\n",
    "<a href=\"https://app.naas.ai/user-redirect/naas/downloader?url=https://raw.githubusercontent.com/jupyter-naas/awesome-notebooks/master/Pandas/Pandas_Pivot_rows_to_columns.ipynb\" target=\"_parent\"><img src=\"https://naasai-public.s3.eu-west-3.amazonaws.com/Open_in_Naas_Lab.svg\"/></a><br><br><a href=\"https://github.com/jupyter-naas/awesome-notebooks/issues/new?assignees=&labels=&template=template-request.md&title=Tool+-+Action+of+the+notebook+\">Template request</a> | <a href=\"https://github.com/jupyter-naas/awesome-notebooks/issues/new?assignees=&labels=bug&template=bug_report.md&title=Pandas+-+Pivot+rows+to+columns:+Error+short+description\">Bug report</a> | <a href=\"https://app.naas.ai/user-redirect/naas/downloader?url=https://raw.githubusercontent.com/jupyter-naas/awesome-notebooks/master/Naas/Naas_Start_data_product.ipynb\" target=\"_parent\">Generate Data Product</a>"
   ]
  },
  {
   "cell_type": "markdown",
   "id": "ea0f4d52-5687-4719-9b35-e5abcc48328b",
   "metadata": {
    "papermill": {},
    "tags": []
   },
   "source": [
    "**Tags:** #pandas #pivot #snippet #operations #utils #data"
   ]
  },
  {
   "cell_type": "markdown",
   "id": "16d1f778-1306-4cb9-a405-f217a4cc8051",
   "metadata": {
    "papermill": {},
    "tags": []
   },
   "source": [
    "**Author:** [Ismail Chihab](https://www.linkedin.com/in/ismail-chihab-4b0a04202/)"
   ]
  },
  {
   "cell_type": "markdown",
   "id": "naas-description",
   "metadata": {
    "papermill": {},
    "tags": [
     "description"
    ]
   },
   "source": [
    "**Description:** This notebook demonstrates how to use the Pandas library to transform data by pivoting rows into columns."
   ]
  },
  {
   "cell_type": "markdown",
   "id": "d17064b3-00b5-4d71-96ba-38c6af450919",
   "metadata": {
    "papermill": {},
    "tags": []
   },
   "source": [
    "## Input"
   ]
  },
  {
   "cell_type": "markdown",
   "id": "742d49bf-7288-4381-8aac-353b886a432d",
   "metadata": {
    "execution": {
     "iopub.execute_input": "2022-09-09T08:10:24.304515Z",
     "iopub.status.busy": "2022-09-09T08:10:24.304225Z",
     "iopub.status.idle": "2022-09-09T08:10:24.311003Z",
     "shell.execute_reply": "2022-09-09T08:10:24.307440Z",
     "shell.execute_reply.started": "2022-09-09T08:10:24.304485Z"
    },
    "papermill": {},
    "tags": []
   },
   "source": [
    "### Import library"
   ]
  },
  {
   "cell_type": "code",
   "execution_count": null,
   "id": "6c3ed64e-4445-46e8-aa5e-d605176f8646",
   "metadata": {
    "papermill": {},
    "tags": []
   },
   "outputs": [],
   "source": [
    "import pandas as pd"
   ]
  },
  {
   "cell_type": "markdown",
   "id": "8cc863f6-9a93-4ef4-ab65-cc1a09bc73fb",
   "metadata": {
    "papermill": {},
    "tags": []
   },
   "source": [
    "### Setup Data"
   ]
  },
  {
   "cell_type": "code",
   "execution_count": null,
   "id": "e896324a-675a-455a-87f3-2e1bf453a824",
   "metadata": {
    "papermill": {},
    "tags": []
   },
   "outputs": [],
   "source": [
    "data = {\n",
    "    \"LABEL\": [\n",
    "        \"Sales\",\n",
    "        \"Sales\",\n",
    "        \"Sales\",\n",
    "        \"Gross Profit\",\n",
    "        \"Gross Profit\",\n",
    "        \"Gross Profit\",\n",
    "        \"EBIT\",\n",
    "        \"EBIT\",\n",
    "        \"EBIT\",\n",
    "    ],\n",
    "    \"DATE\": [\"Jan\", \"Feb\", \"Mar\", \"Jan\", \"Feb\", \"Mar\", \"Jan\", \"Feb\", \"Mar\"],\n",
    "    \"VALUE\": [0, 2, 3, 4, 5, 6, 7, 8, 9],\n",
    "}\n",
    "df = pd.DataFrame(data)\n",
    "df"
   ]
  },
  {
   "cell_type": "markdown",
   "id": "a3985c3b-5149-438f-814b-97cb4f4b0133",
   "metadata": {
    "papermill": {},
    "tags": []
   },
   "source": [
    "### Setup Variables"
   ]
  },
  {
   "cell_type": "code",
   "execution_count": null,
   "id": "f272e5db-2b76-4bdf-835e-a2a150dff784",
   "metadata": {
    "papermill": {},
    "tags": []
   },
   "outputs": [],
   "source": [
    "# Name of the column you want to pivot\n",
    "col_pivot = \"DATE\"\n",
    "\n",
    "# Name of the column containing the values\n",
    "col_value = \"VALUE\"\n",
    "\n",
    "# List of columns not be pivot\n",
    "cols_index = [\"LABEL\"]"
   ]
  },
  {
   "cell_type": "markdown",
   "id": "4ebce3db-0043-4679-8ce2-0f84e78021f7",
   "metadata": {
    "papermill": {},
    "tags": []
   },
   "source": [
    "## Model:"
   ]
  },
  {
   "cell_type": "code",
   "execution_count": null,
   "id": "ba32e247-4dd3-4a16-b4bb-45a43348502e",
   "metadata": {
    "papermill": {},
    "tags": []
   },
   "outputs": [],
   "source": [
    "def pivot_data(df_init, col_pivot, col_value, cols_index):\n",
    "    # Drop duplicates\n",
    "    df = df_init.copy()\n",
    "    df = df.drop_duplicates()\n",
    "    columns = df[col_pivot].unique().tolist()\n",
    "\n",
    "    # Pivot\n",
    "    df = pd.pivot(df, index=cols_index, values=col_value, columns=col_pivot)\n",
    "    for col in cols_index:\n",
    "        df.loc[:, col] = df.index.get_level_values(0)\n",
    "    df = df.reset_index(drop=True)\n",
    "    df = df.reindex(columns=cols_index + columns)\n",
    "    return df"
   ]
  },
  {
   "cell_type": "markdown",
   "id": "6a07b43d-c8ff-4e7d-8f5c-68fa2727e98d",
   "metadata": {
    "papermill": {},
    "tags": []
   },
   "source": [
    "## Output"
   ]
  },
  {
   "cell_type": "markdown",
   "id": "7ab1cf6c-1b6d-46ff-ae98-05715e9a9fef",
   "metadata": {
    "papermill": {},
    "tags": []
   },
   "source": [
    "### Display result"
   ]
  },
  {
   "cell_type": "code",
   "execution_count": null,
   "id": "3a9d7942-cabe-458e-b0aa-4bced68220d2",
   "metadata": {
    "papermill": {},
    "tags": []
   },
   "outputs": [],
   "source": [
    "table = pivot_data(df, col_pivot, col_value, cols_index)\n",
    "table"
   ]
  }
 ],
 "metadata": {
  "kernelspec": {
   "display_name": "Python 3",
   "language": "python",
   "name": "python3"
  },
  "language_info": {
   "codemirror_mode": {
    "name": "ipython",
    "version": 3
   },
   "file_extension": ".py",
   "mimetype": "text/x-python",
   "name": "python",
   "nbconvert_exporter": "python",
   "pygments_lexer": "ipython3",
   "version": "3.9.6"
  },
  "naas": {
   "notebook_id": "dfd4c9e70e3517613da38637dc496216b24dd65e6305d5edc6f1eae5d0172d6c",
   "notebook_path": "Pandas/Pandas_Pivot_rows_to_columns.ipynb"
  },
  "papermill": {
   "default_parameters": {},
   "environment_variables": {},
   "parameters": {},
   "version": "2.3.3"
  },
  "toc-autonumbering": false,
  "widgets": {
   "application/vnd.jupyter.widget-state+json": {
    "state": {},
    "version_major": 2,
    "version_minor": 0
   }
  }
 },
 "nbformat": 4,
 "nbformat_minor": 5
}