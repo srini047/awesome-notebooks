{
 "cells": [
  {
   "cell_type": "markdown",
   "id": "7fcd5ad4-6963-4ad7-8866-46b4af742bc8",
   "metadata": {
    "execution": {
     "iopub.execute_input": "2021-02-23T14:22:16.610471Z",
     "iopub.status.busy": "2021-02-23T14:22:16.610129Z",
     "iopub.status.idle": "2021-02-23T14:22:16.627784Z",
     "shell.execute_reply": "2021-02-23T14:22:16.626866Z",
     "shell.execute_reply.started": "2021-02-23T14:22:16.610384Z"
    },
    "papermill": {},
    "tags": []
   },
   "source": [
    "<img width=\"10%\" alt=\"Naas\" src=\"https://landen.imgix.net/jtci2pxwjczr/assets/5ice39g4.png?w=160\"/>"
   ]
  },
  {
   "cell_type": "markdown",
   "id": "5d00299c-439b-448d-aca0-556a5a777dca",
   "metadata": {
    "papermill": {},
    "tags": []
   },
   "source": [
    "# Pandas - Drop duplicates\n",
    "<a href=\"https://app.naas.ai/user-redirect/naas/downloader?url=https://raw.githubusercontent.com/jupyter-naas/awesome-notebooks/master/Pandas/Pandas_Drop_duplicates.ipynb\" target=\"_parent\"><img src=\"https://naasai-public.s3.eu-west-3.amazonaws.com/Open_in_Naas_Lab.svg\"/></a><br><br><a href=\"https://github.com/jupyter-naas/awesome-notebooks/issues/new?assignees=&labels=&template=template-request.md&title=Tool+-+Action+of+the+notebook+\">Template request</a> | <a href=\"https://github.com/jupyter-naas/awesome-notebooks/issues/new?assignees=&labels=bug&template=bug_report.md&title=Pandas+-+Drop+duplicates:+Error+short+description\">Bug report</a> | <a href=\"https://app.naas.ai/user-redirect/naas/downloader?url=https://raw.githubusercontent.com/jupyter-naas/awesome-notebooks/master/Naas/Naas_Start_data_product.ipynb\" target=\"_parent\">Generate Data Product</a>"
   ]
  },
  {
   "cell_type": "markdown",
   "id": "e45fe6e7-17f7-479e-a0b0-236707950291",
   "metadata": {
    "papermill": {},
    "tags": []
   },
   "source": [
    "**Tags:** #pandas #snippet #datacleaning #operations"
   ]
  },
  {
   "cell_type": "markdown",
   "id": "d8a91802-e447-4c00-897b-e5757a198306",
   "metadata": {
    "papermill": {},
    "tags": []
   },
   "source": [
    "**Author:** [Sunny Chugh](https://www.linkedin.com/in/sunny-chugh-ab1630177/)"
   ]
  },
  {
   "cell_type": "markdown",
   "id": "12216852-bbe9-457b-a7df-e47898f4f21f",
   "metadata": {
    "papermill": {},
    "tags": []
   },
   "source": [
    "**Description:** This notebook shows how to drop duplicates in a DataFrame."
   ]
  },
  {
   "cell_type": "markdown",
   "id": "916ce77b-e317-4a10-a183-02750979fa93",
   "metadata": {
    "papermill": {},
    "tags": []
   },
   "source": [
    "**References:**\n",
    "- [Pandas - Drop duplicates](https://pandas.pydata.org/docs/reference/api/pandas.DataFrame.drop_duplicates.html)\n",
    "- https://www.statology.org/pandas-drop-duplicate-columns/"
   ]
  },
  {
   "cell_type": "markdown",
   "id": "dc839710-9320-4f78-b61e-92628227f40c",
   "metadata": {
    "papermill": {},
    "tags": []
   },
   "source": [
    "## Input"
   ]
  },
  {
   "cell_type": "markdown",
   "id": "f1d427ef-e4f0-4d72-b27f-ffc88342e802",
   "metadata": {
    "papermill": {},
    "tags": []
   },
   "source": [
    "### Import libraries"
   ]
  },
  {
   "cell_type": "code",
   "execution_count": null,
   "id": "84eb8f51-e7cc-48ec-8422-7045cab01f8c",
   "metadata": {
    "papermill": {},
    "tags": []
   },
   "outputs": [],
   "source": [
    "import pandas as pd"
   ]
  },
  {
   "cell_type": "markdown",
   "id": "69d6f3d6-171c-41f0-b4bc-fc47e70f0b51",
   "metadata": {
    "papermill": {},
    "tags": []
   },
   "source": [
    "### Setup Variables\n",
    "- `subset`: column label or sequence of labels. Only consider certain columns for identifying duplicates, by default use all of the columns.\n",
    "- `keep`: {‘first’, ‘last’, False}, default ‘first’. Determines which duplicates (if any) to keep: ‘first’ : Drop duplicates except for the first occurrence; ‘last’ : Drop duplicates except for the last occurrence; False : Drop all duplicates."
   ]
  },
  {
   "cell_type": "code",
   "execution_count": null,
   "id": "f50c17a7-8bbf-4bda-983c-92de6694f96a",
   "metadata": {
    "papermill": {},
    "tags": []
   },
   "outputs": [],
   "source": [
    "subset = None\n",
    "keep = \"first\""
   ]
  },
  {
   "cell_type": "markdown",
   "id": "358dc361-82e5-479d-81e9-68a1ee70a5d3",
   "metadata": {
    "papermill": {},
    "tags": []
   },
   "source": [
    "## Model"
   ]
  },
  {
   "cell_type": "markdown",
   "id": "cfce228b-6db5-47d8-9b17-fe649ce51969",
   "metadata": {
    "papermill": {},
    "tags": []
   },
   "source": [
    "### Create DataFrame"
   ]
  },
  {
   "cell_type": "code",
   "execution_count": null,
   "id": "b57cfc14-d2cc-412a-a23d-480b1d7820f7",
   "metadata": {
    "papermill": {},
    "tags": []
   },
   "outputs": [],
   "source": [
    "# create DataFrame with duplicate columns\n",
    "df = pd.DataFrame(\n",
    "    {\n",
    "        \"team\": [\"A\", \"A\", \"A\", \"A\", \"B\", \"B\", \"B\", \"B\"],\n",
    "        \"points1\": [25, 25, 15, 14, 19, 23, 25, 29],\n",
    "        \"points2\": [25, 25, 15, 14, 19, 23, 25, 29],\n",
    "        \"rebounds\": [11, 11, 10, 6, 6, 5, 9, 12],\n",
    "    }\n",
    ")\n",
    "\n",
    "# view DataFrame\n",
    "print(\"Columns fetched:\", len(df.columns))\n",
    "print(\"Rows fetched:\", len(df))\n",
    "df"
   ]
  },
  {
   "cell_type": "markdown",
   "id": "e1c03479-d409-4292-a974-4edf477ebe0c",
   "metadata": {
    "execution": {
     "iopub.execute_input": "2021-07-02T23:32:10.789097Z",
     "iopub.status.busy": "2021-07-02T23:32:10.788829Z",
     "iopub.status.idle": "2021-07-02T23:32:10.796900Z",
     "shell.execute_reply": "2021-07-02T23:32:10.796358Z",
     "shell.execute_reply.started": "2021-07-02T23:32:10.789033Z"
    },
    "papermill": {},
    "tags": []
   },
   "source": [
    "## Output"
   ]
  },
  {
   "cell_type": "markdown",
   "id": "61f8cc97-10aa-4d67-ab09-3cf3bb0a37b4",
   "metadata": {
    "papermill": {},
    "tags": []
   },
   "source": [
    "### Drop Duplicated rows"
   ]
  },
  {
   "cell_type": "code",
   "execution_count": null,
   "id": "9f520d69-d9fa-4818-b73f-a29f76cfb108",
   "metadata": {
    "papermill": {},
    "tags": []
   },
   "outputs": [],
   "source": [
    "df1 = df.drop_duplicates(subset, keep=keep, ignore_index=True)\n",
    "print(\"Rows fetched:\", len(df1))\n",
    "df1"
   ]
  },
  {
   "cell_type": "markdown",
   "id": "16331d06-0ab3-4a28-8e61-ee00aad85d5a",
   "metadata": {
    "papermill": {},
    "tags": []
   },
   "source": [
    "### Drop Duplicated columns even if column names are different"
   ]
  },
  {
   "cell_type": "code",
   "execution_count": null,
   "id": "2ecfa2a3-9764-468e-a2ea-08a7e506ef71",
   "metadata": {
    "papermill": {},
    "tags": []
   },
   "outputs": [],
   "source": [
    "df2 = df.T.drop_duplicates().T\n",
    "print(\"Columns fetched:\", len(df2.columns))\n",
    "df2"
   ]
  }
 ],
 "metadata": {
  "kernelspec": {
   "display_name": "Python 3",
   "language": "python",
   "name": "python3"
  },
  "language_info": {
   "codemirror_mode": {
    "name": "ipython",
    "version": 3
   },
   "file_extension": ".py",
   "mimetype": "text/x-python",
   "name": "python",
   "nbconvert_exporter": "python",
   "pygments_lexer": "ipython3",
   "version": "3.9.6"
  },
  "naas": {
   "notebook_id": "d6fb1e632b01ef9b6537987e8a40f196a59dbe2dc049961dbfaeeea7833d9f17",
   "notebook_path": "Pandas/Pandas_Drop_duplicates.ipynb"
  },
  "papermill": {
   "default_parameters": {},
   "environment_variables": {},
   "parameters": {},
   "version": "2.4.0"
  }
 },
 "nbformat": 4,
 "nbformat_minor": 5
}