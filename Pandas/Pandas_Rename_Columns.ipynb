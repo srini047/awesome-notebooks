{
 "cells": [
  {
   "cell_type": "markdown",
   "id": "latin-packing",
   "metadata": {
    "execution": {
     "iopub.execute_input": "2021-02-23T14:22:16.610471Z",
     "iopub.status.busy": "2021-02-23T14:22:16.610129Z",
     "iopub.status.idle": "2021-02-23T14:22:16.627784Z",
     "shell.execute_reply": "2021-02-23T14:22:16.626866Z",
     "shell.execute_reply.started": "2021-02-23T14:22:16.610384Z"
    },
    "papermill": {},
    "tags": []
   },
   "source": [
    "<img width=\"10%\" alt=\"Naas\" src=\"https://landen.imgix.net/jtci2pxwjczr/assets/5ice39g4.png?w=160\"/>"
   ]
  },
  {
   "cell_type": "markdown",
   "id": "compressed-wilson",
   "metadata": {
    "papermill": {},
    "tags": []
   },
   "source": [
    "# Pandas - Rename Columns\n",
    "<a href=\"https://app.naas.ai/user-redirect/naas/downloader?url=https://raw.githubusercontent.com/jupyter-naas/awesome-notebooks/master/Pandas/Pandas_Rename_Columns.ipynb\" target=\"_parent\"><img src=\"https://naasai-public.s3.eu-west-3.amazonaws.com/open_in_naas.svg\"/></a><br><br><a href=\"https://github.com/jupyter-naas/awesome-notebooks/issues/new?assignees=&labels=&template=template-request.md&title=Tool+-+Action+of+the+notebook+\">Template request</a> | <a href=\"https://github.com/jupyter-naas/awesome-notebooks/issues/new?assignees=&labels=bug&template=bug_report.md&title=Pandas+-+Rename+Columns:+Error+short+description\">Bug report</a>"
   ]
  },
  {
   "cell_type": "markdown",
   "id": "religious-programmer",
   "metadata": {
    "papermill": {},
    "tags": []
   },
   "source": [
    "**Tags:** #pandas #snippet #datacleaning #operations"
   ]
  },
  {
   "cell_type": "markdown",
   "id": "1fe9f56e-561c-4f52-aef8-b861c9462107",
   "metadata": {
    "papermill": {},
    "tags": []
   },
   "source": [
    "**Author:** [Florent Ravenel](https://www.linkedin.com/in/florent-ravenel/)"
   ]
  },
  {
   "cell_type": "markdown",
   "id": "31ea7cdb-e10d-43fc-b026-f69249a59736",
   "metadata": {
    "papermill": {},
    "tags": []
   },
   "source": [
    "**Description:** This notebook renames columns in a dataframe."
   ]
  },
  {
   "cell_type": "markdown",
   "id": "distinguished-truth",
   "metadata": {
    "papermill": {},
    "tags": []
   },
   "source": [
    "## Input"
   ]
  },
  {
   "cell_type": "markdown",
   "id": "numeric-mediterranean",
   "metadata": {
    "papermill": {},
    "tags": []
   },
   "source": [
    "### Import libraries"
   ]
  },
  {
   "cell_type": "code",
   "execution_count": 1,
   "id": "potential-surfing",
   "metadata": {
    "execution": {
     "iopub.execute_input": "2022-11-29T10:57:15.207727Z",
     "iopub.status.busy": "2022-11-29T10:57:15.207290Z",
     "iopub.status.idle": "2022-11-29T10:57:15.693173Z",
     "shell.execute_reply": "2022-11-29T10:57:15.692596Z",
     "shell.execute_reply.started": "2022-11-29T10:57:15.207647Z"
    },
    "papermill": {},
    "tags": []
   },
   "outputs": [],
   "source": [
    "import pandas as pd"
   ]
  },
  {
   "cell_type": "markdown",
   "id": "aggressive-trustee",
   "metadata": {
    "papermill": {},
    "tags": []
   },
   "source": [
    "### Setup DataFrame"
   ]
  },
  {
   "cell_type": "code",
   "execution_count": 2,
   "id": "continuous-melbourne",
   "metadata": {
    "execution": {
     "iopub.execute_input": "2022-11-29T10:57:15.696010Z",
     "iopub.status.busy": "2022-11-29T10:57:15.695834Z",
     "iopub.status.idle": "2022-11-29T10:57:15.712245Z",
     "shell.execute_reply": "2022-11-29T10:57:15.711673Z",
     "shell.execute_reply.started": "2022-11-29T10:57:15.695991Z"
    },
    "papermill": {},
    "tags": []
   },
   "outputs": [],
   "source": [
    "# create DataFrame\n",
    "df = pd.DataFrame(\n",
    "    {\n",
    "        \"team\": [\"A\", \"A\", \"A\", \"B\", \"B\", \"B\"],\n",
    "        \"points\": [11, 7, 8, 10, 21, 13],\n",
    "        \"assists\": [5, 7, 7, 9, 12, 0],\n",
    "        \"rebounds\": [5, 8, 10, 6, 6, 22],\n",
    "    }\n",
    ")\n",
    "df"
   ]
  },
  {
   "cell_type": "markdown",
   "id": "34e8ca18-38b2-4c64-ba34-8fa02eca583f",
   "metadata": {
    "papermill": {},
    "tags": []
   },
   "source": [
    "### Define columns to rename\n",
    "This function will not throw an error if column does not exist in dataframe."
   ]
  },
  {
   "cell_type": "code",
   "execution_count": 3,
   "id": "03f6679f-d36a-4fa0-aa45-a57f38d74559",
   "metadata": {
    "execution": {
     "iopub.execute_input": "2022-11-29T10:57:15.713403Z",
     "iopub.status.busy": "2022-11-29T10:57:15.713189Z",
     "iopub.status.idle": "2022-11-29T10:57:15.783406Z",
     "shell.execute_reply": "2022-11-29T10:57:15.782624Z",
     "shell.execute_reply.started": "2022-11-29T10:57:15.713376Z"
    },
    "papermill": {},
    "tags": []
   },
   "outputs": [],
   "source": [
    "# dict of columns with new names\n",
    "to_rename = {\n",
    "    \"team\": \"equipo\",\n",
    "    \"points\": \"puntos\",\n",
    "    \"assists\": \"asistancias\",\n",
    "    \"rebounds\": \"rebotes\",\n",
    "    \"col\": \"new_col\",\n",
    "}"
   ]
  },
  {
   "cell_type": "markdown",
   "id": "registered-showcase",
   "metadata": {
    "papermill": {},
    "tags": []
   },
   "source": [
    "## Model"
   ]
  },
  {
   "cell_type": "markdown",
   "id": "tested-astrology",
   "metadata": {
    "papermill": {},
    "tags": []
   },
   "source": [
    "### Rename columns in dataframe"
   ]
  },
  {
   "cell_type": "code",
   "execution_count": 4,
   "id": "crude-louisville",
   "metadata": {
    "execution": {
     "iopub.execute_input": "2022-11-29T10:57:15.785036Z",
     "iopub.status.busy": "2022-11-29T10:57:15.784619Z",
     "iopub.status.idle": "2022-11-29T10:57:15.861537Z",
     "shell.execute_reply": "2022-11-29T10:57:15.860972Z",
     "shell.execute_reply.started": "2022-11-29T10:57:15.785005Z"
    },
    "papermill": {},
    "tags": []
   },
   "outputs": [],
   "source": [
    "df = df.rename(columns=to_rename)"
   ]
  },
  {
   "cell_type": "markdown",
   "id": "lonely-pacific",
   "metadata": {
    "execution": {
     "iopub.execute_input": "2021-07-02T23:32:10.789097Z",
     "iopub.status.busy": "2021-07-02T23:32:10.788829Z",
     "iopub.status.idle": "2021-07-02T23:32:10.796900Z",
     "shell.execute_reply": "2021-07-02T23:32:10.796358Z",
     "shell.execute_reply.started": "2021-07-02T23:32:10.789033Z"
    },
    "papermill": {},
    "tags": []
   },
   "source": [
    "## Output"
   ]
  },
  {
   "cell_type": "markdown",
   "id": "890f7c86-b7bb-4f5d-9a1b-e492dd9580fd",
   "metadata": {
    "papermill": {},
    "tags": []
   },
   "source": [
    "### View new DataFrame"
   ]
  },
  {
   "cell_type": "code",
   "execution_count": 5,
   "id": "9c4e3b7b-6440-4844-8054-265f1aec65eb",
   "metadata": {
    "execution": {
     "iopub.execute_input": "2022-11-29T10:57:15.862849Z",
     "iopub.status.busy": "2022-11-29T10:57:15.862610Z",
     "iopub.status.idle": "2022-11-29T10:57:15.944027Z",
     "shell.execute_reply": "2022-11-29T10:57:15.943314Z",
     "shell.execute_reply.started": "2022-11-29T10:57:15.862820Z"
    },
    "papermill": {},
    "tags": []
   },
   "outputs": [],
   "source": [
    "df"
   ]
  }
 ],
 "metadata": {
  "kernelspec": {
   "display_name": "Python 3",
   "language": "python",
   "name": "python3"
  },
  "language_info": {
   "codemirror_mode": {
    "name": "ipython",
    "version": 3
   },
   "file_extension": ".py",
   "mimetype": "text/x-python",
   "name": "python",
   "nbconvert_exporter": "python",
   "pygments_lexer": "ipython3",
   "version": "3.9.6"
  },
  "papermill": {
   "default_parameters": {},
   "environment_variables": {},
   "parameters": {},
   "version": "2.3.3"
  },
  "widgets": {
   "application/vnd.jupyter.widget-state+json": {
    "state": {},
    "version_major": 2,
    "version_minor": 0
   }
  }
 },
 "nbformat": 4,
 "nbformat_minor": 5
}