{
 "cells": [
  {
   "cell_type": "markdown",
   "id": "b2209b9f-bf88-46ca-961e-92bbb6c9c911",
   "metadata": {
    "papermill": {},
    "tags": []
   },
   "source": [
    "<img width=\"10%\" alt=\"Naas\" src=\"https://landen.imgix.net/jtci2pxwjczr/assets/5ice39g4.png?w=160\"/>"
   ]
  },
  {
   "cell_type": "markdown",
   "id": "970258f1-bb7c-4a6e-a9fa-67369e3bb680",
   "metadata": {
    "papermill": {},
    "tags": []
   },
   "source": [
    "# Pandas - Get n smallest\n",
    "<a href=\"https://app.naas.ai/user-redirect/naas/downloader?url=https://raw.githubusercontent.com/jupyter-naas/awesome-notebooks/master/Pandas/Pandas_Get_n_smallest.ipynb\" target=\"_parent\"><img src=\"https://naasai-public.s3.eu-west-3.amazonaws.com/Open_in_Naas_Lab.svg\"/></a><br><br><a href=\"https://github.com/jupyter-naas/awesome-notebooks/issues/new?assignees=&labels=&template=template-request.md&title=Tool+-+Action+of+the+notebook+\">Template request</a> | <a href=\"https://github.com/jupyter-naas/awesome-notebooks/issues/new?assignees=&labels=bug&template=bug_report.md&title=Pandas+-+Get+n+smallest:+Error+short+description\">Bug report</a> | <a href=\"https://app.naas.ai/user-redirect/naas/downloader?url=https://raw.githubusercontent.com/jupyter-naas/awesome-notebooks/master/Naas/Naas_Start_data_product.ipynb\" target=\"_parent\">Generate Data Product</a>"
   ]
  },
  {
   "cell_type": "markdown",
   "id": "79ea58bc-f4b0-46d0-81bb-611c5da31a97",
   "metadata": {
    "papermill": {},
    "tags": []
   },
   "source": [
    "**Tags:** #pandas #dataframe #nsmallest #python #data #analysis"
   ]
  },
  {
   "cell_type": "markdown",
   "id": "e3cb1542-b8e1-4f7f-bdd7-1e5a3089f77d",
   "metadata": {
    "papermill": {},
    "tags": []
   },
   "source": [
    "**Author:** [Benjamin Filly](https://www.linkedin.com/in/benjamin-filly-05427727a/)"
   ]
  },
  {
   "cell_type": "markdown",
   "id": "7fbf01ed-bcfa-4c5a-b083-315d3ab7c919",
   "metadata": {
    "papermill": {},
    "tags": []
   },
   "source": [
    "**Description:** This notebook explains how to use the `nsmallest` function from the Pandas library to get the n smallest values from column in a DataFrame."
   ]
  },
  {
   "cell_type": "markdown",
   "id": "0dea3890-462b-40a8-9389-888a4d5a2ecc",
   "metadata": {
    "papermill": {},
    "tags": []
   },
   "source": [
    "**References:**\n",
    "- [Pandas Documentation - nsmallest](https://pandas.pydata.org/docs/reference/api/pandas.DataFrame.nsmallest.html)\n",
    "- [Stack Overflow - nsmallest](https://stackoverflow.com/questions/50995090/pandas-dataframe-nsmallest-function)"
   ]
  },
  {
   "cell_type": "markdown",
   "id": "7a8a204d-547d-4c48-a7ad-65471503c73e",
   "metadata": {
    "papermill": {},
    "tags": []
   },
   "source": [
    "## Input"
   ]
  },
  {
   "cell_type": "markdown",
   "id": "012db5c4-412b-41c7-8c18-2a8263f33557",
   "metadata": {
    "papermill": {},
    "tags": []
   },
   "source": [
    "### Import libraries"
   ]
  },
  {
   "cell_type": "code",
   "execution_count": 1,
   "id": "be2e61d0-235c-40e3-9341-6e986e9b07a4",
   "metadata": {
    "papermill": {},
    "tags": []
   },
   "outputs": [],
   "source": [
    "import pandas as pd"
   ]
  },
  {
   "cell_type": "markdown",
   "id": "4e5eaa19-11aa-45d2-a065-2fdac1d12a4e",
   "metadata": {
    "papermill": {},
    "tags": []
   },
   "source": [
    "### Setup Variables\n",
    "- `n`: Number of items to retrieve.\n",
    "- `column`: Column name or names to order by."
   ]
  },
  {
   "cell_type": "code",
   "execution_count": 2,
   "id": "01e84b6c-31ee-4ce9-b57d-6dc0030cc5cb",
   "metadata": {
    "papermill": {},
    "tags": []
   },
   "outputs": [],
   "source": [
    "n = 2\n",
    "column = \"Age\""
   ]
  },
  {
   "cell_type": "markdown",
   "id": "36f070de-4923-4704-8df7-a215f03ca2f1",
   "metadata": {
    "papermill": {},
    "tags": []
   },
   "source": [
    "## Model"
   ]
  },
  {
   "cell_type": "markdown",
   "id": "25aa2dc4-aafd-4c9a-a108-8fc8b693ca4c",
   "metadata": {
    "papermill": {},
    "tags": []
   },
   "source": [
    "### Create dataframe"
   ]
  },
  {
   "cell_type": "code",
   "execution_count": 3,
   "id": "1001b981-bc34-4369-a3dc-d7cece8137ab",
   "metadata": {
    "papermill": {},
    "tags": []
   },
   "outputs": [],
   "source": [
    "# Create a fake dataset\n",
    "data = {\n",
    "    \"Name\": [\"Tom\", \"nick\", \"krish\", \"jack\"],\n",
    "    \"Age\": [20, 21, 19, 18]\n",
    "}\n",
    "\n",
    "# Create a DataFrame\n",
    "df = pd.DataFrame(data)\n",
    "df"
   ]
  },
  {
   "cell_type": "markdown",
   "id": "e79a2aa9-6188-42d3-9b2b-45a2b39fae5a",
   "metadata": {
    "papermill": {},
    "tags": []
   },
   "source": [
    "## Output"
   ]
  },
  {
   "cell_type": "markdown",
   "id": "6420dd67-c13c-458f-b366-2e28f2610a42",
   "metadata": {
    "papermill": {},
    "tags": []
   },
   "source": [
    "### Get n smallest values\n",
    "The `nsmallest` function from the Pandas library allows to get the n smallest values from a DataFrame."
   ]
  },
  {
   "cell_type": "code",
   "execution_count": 4,
   "id": "c7c5506d-2eb4-4cbb-9f75-5c381bfb78fd",
   "metadata": {
    "papermill": {},
    "tags": []
   },
   "outputs": [],
   "source": [
    "# Display the result\n",
    "df.nsmallest(n, column)"
   ]
  },
  {
   "cell_type": "markdown",
   "id": "93eef45a-64de-46e5-b187-140a3bfe1f0f",
   "metadata": {
    "papermill": {},
    "tags": []
   },
   "source": [
    " "
   ]
  }
 ],
 "metadata": {
  "kernelspec": {
   "display_name": "Python 3",
   "language": "python",
   "name": "python3"
  },
  "language_info": {
   "codemirror_mode": {
    "name": "ipython",
    "version": 3
   },
   "file_extension": ".py",
   "mimetype": "text/x-python",
   "name": "python",
   "nbconvert_exporter": "python",
   "pygments_lexer": "ipython3",
   "version": "3.9.6"
  },
  "naas": {
   "notebook_id": "11148b2df16b8fc1df13c6aaa2928e94e1335bda5e3cb7410191d4772db14fc1",
   "notebook_path": "Pandas/Pandas_Get_n_smallest.ipynb"
  },
  "papermill": {
   "default_parameters": {},
   "environment_variables": {},
   "parameters": {},
   "version": "2.4.0"
  },
  "widgets": {
   "application/vnd.jupyter.widget-state+json": {
    "state": {},
    "version_major": 2,
    "version_minor": 0
   }
  }
 },
 "nbformat": 4,
 "nbformat_minor": 5
}