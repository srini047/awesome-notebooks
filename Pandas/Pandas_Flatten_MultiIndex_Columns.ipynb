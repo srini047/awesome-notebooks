{
 "cells": [
  {
   "cell_type": "markdown",
   "id": "d96a8c40-bbbe-4f9e-ac94-a689eae3655b",
   "metadata": {
    "papermill": {},
    "tags": []
   },
   "source": [
    "<img width=\"10%\" alt=\"Naas\" src=\"https://landen.imgix.net/jtci2pxwjczr/assets/5ice39g4.png?w=160\"/>"
   ]
  },
  {
   "cell_type": "markdown",
   "id": "3e9464ba-a103-4516-a7e5-ef2187e082ce",
   "metadata": {
    "papermill": {},
    "tags": []
   },
   "source": [
    "# Pandas - Flatten MultiIndex Columns\n",
    "<a href=\"https://app.naas.ai/user-redirect/naas/downloader?url=https://raw.githubusercontent.com/jupyter-naas/awesome-notebooks/master/Pandas/Pandas_Flatten_MultiIndex_Columns.ipynb\" target=\"_parent\"><img src=\"https://naasai-public.s3.eu-west-3.amazonaws.com/Open_in_Naas_Lab.svg\"/></a><br><br><a href=\"https://github.com/jupyter-naas/awesome-notebooks/issues/new?assignees=&labels=&template=template-request.md&title=Tool+-+Action+of+the+notebook+\">Template request</a> | <a href=\"https://github.com/jupyter-naas/awesome-notebooks/issues/new?assignees=&labels=bug&template=bug_report.md&title=Pandas+-+Flatten+MultiIndex+Columns:+Error+short+description\">Bug report</a> | <a href=\"https://app.naas.ai/user-redirect/naas/downloader?url=https://raw.githubusercontent.com/jupyter-naas/awesome-notebooks/master/Naas/Naas_Start_data_product.ipynb\" target=\"_parent\">Generate Data Product</a>"
   ]
  },
  {
   "cell_type": "markdown",
   "id": "5cb105a9-4e29-4db0-944c-838172b8e200",
   "metadata": {
    "papermill": {},
    "tags": []
   },
   "source": [
    "**Tags:** #pandas #dataframe #multiindex #flatten #columns"
   ]
  },
  {
   "cell_type": "markdown",
   "id": "b725bdb4-ada9-4efb-aa4b-7e31eba9568c",
   "metadata": {
    "papermill": {},
    "tags": []
   },
   "source": [
    "**Author:** [Florent Ravenel](http://linkedin.com/in/florent-ravenel)"
   ]
  },
  {
   "cell_type": "markdown",
   "id": "f870be67-e49c-4211-9c28-29c1ffdabfea",
   "metadata": {
    "papermill": {},
    "tags": []
   },
   "source": [
    "**Description:** This notebook explains how to flatten a MultiIndex column in a Pandas DataFrame."
   ]
  },
  {
   "cell_type": "markdown",
   "id": "f26c5127-8cb9-4d47-a5b6-167534ce5583",
   "metadata": {
    "papermill": {},
    "tags": []
   },
   "source": [
    "**References:**\n",
    "- [SparkByExamples.com - Pandas MultiIndex DataFrame Examples](https://sparkbyexamples.com/pandas/pandas-multiindex-dataframe-examples/)\n",
    "- [Pandas Documentation - MultiIndex / Advanced Indexing](https://pandas.pydata.org/pandas-docs/stable/user_guide/advanced.html)"
   ]
  },
  {
   "cell_type": "markdown",
   "id": "a3dcc2a4-4ec9-489f-94ea-c00ecad6a52a",
   "metadata": {
    "papermill": {},
    "tags": []
   },
   "source": [
    "## Input"
   ]
  },
  {
   "cell_type": "markdown",
   "id": "540f3342-daf7-4f6d-82b1-24f6ad7e9f2e",
   "metadata": {
    "papermill": {},
    "tags": []
   },
   "source": [
    "### Import libraries"
   ]
  },
  {
   "cell_type": "code",
   "execution_count": null,
   "id": "32ccc291-5ff4-444b-81d3-5feba88a7981",
   "metadata": {
    "papermill": {},
    "tags": []
   },
   "outputs": [],
   "source": [
    "import pandas as pd"
   ]
  },
  {
   "cell_type": "markdown",
   "id": "fd558b7b-7d8b-46de-a981-2c8b2d17b993",
   "metadata": {
    "papermill": {},
    "tags": []
   },
   "source": [
    "### Setup Variables"
   ]
  },
  {
   "cell_type": "code",
   "execution_count": null,
   "id": "f102d1d1-d32d-4437-9d53-082f40d09ea3",
   "metadata": {
    "papermill": {},
    "tags": []
   },
   "outputs": [],
   "source": [
    "# Inputs\n",
    "url = \"https://en.wikipedia.org/wiki/List_of_cities_by_population\""
   ]
  },
  {
   "cell_type": "markdown",
   "id": "7d5f1f34-840f-4961-a280-f664659484b0",
   "metadata": {
    "papermill": {},
    "tags": []
   },
   "source": [
    "## Model"
   ]
  },
  {
   "cell_type": "markdown",
   "id": "360c6f91-ff2a-42c0-9423-56649db70614",
   "metadata": {
    "papermill": {},
    "tags": []
   },
   "source": [
    "### Read dataframe with MultiIndex Columns"
   ]
  },
  {
   "cell_type": "code",
   "execution_count": null,
   "id": "b69d0b10-cd70-41c8-813d-d178fe9e942d",
   "metadata": {
    "papermill": {},
    "tags": []
   },
   "outputs": [],
   "source": [
    "df = pd.read_html(url)[1]\n",
    "df.head(3)"
   ]
  },
  {
   "cell_type": "markdown",
   "id": "86fba0ab-ffbc-4d7e-ab79-13fdaf3490b9",
   "metadata": {
    "papermill": {},
    "tags": []
   },
   "source": [
    "## Output"
   ]
  },
  {
   "cell_type": "markdown",
   "id": "f46f1bc6-74d5-4d05-87c8-4ad9bcd40c67",
   "metadata": {
    "papermill": {},
    "tags": []
   },
   "source": [
    "### Flatten MultiIndex Columns"
   ]
  },
  {
   "cell_type": "code",
   "execution_count": null,
   "id": "38406218-c28f-4d33-9d89-2303876edb6d",
   "metadata": {
    "papermill": {},
    "tags": []
   },
   "outputs": [],
   "source": [
    "# Flatten the columns of the DataFrame\n",
    "df.columns = df.columns.get_level_values(1)\n",
    "df"
   ]
  },
  {
   "cell_type": "markdown",
   "id": "539688fc-5cd1-4875-a44c-2d8ec85792b7",
   "metadata": {
    "papermill": {},
    "tags": []
   },
   "source": [
    " "
   ]
  }
 ],
 "metadata": {
  "kernelspec": {
   "display_name": "Python 3",
   "language": "python",
   "name": "python3"
  },
  "language_info": {
   "codemirror_mode": {
    "name": "ipython",
    "version": 3
   },
   "file_extension": ".py",
   "mimetype": "text/x-python",
   "name": "python",
   "nbconvert_exporter": "python",
   "pygments_lexer": "ipython3",
   "version": "3.9.6"
  },
  "naas": {
   "notebook_id": "17af8c0029b88a375ce0ca2eada983c97f6d6c0f4bab83a36a524026cc5e74d4",
   "notebook_path": "Pandas/Pandas_Flatten_MultiIndex_Columns.ipynb"
  },
  "papermill": {
   "default_parameters": {},
   "environment_variables": {},
   "parameters": {},
   "version": "2.4.0"
  },
  "widgets": {
   "application/vnd.jupyter.widget-state+json": {
    "state": {},
    "version_major": 2,
    "version_minor": 0
   }
  }
 },
 "nbformat": 4,
 "nbformat_minor": 5
}