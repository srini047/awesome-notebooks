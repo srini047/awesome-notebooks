{
 "cells": [
  {
   "cell_type": "markdown",
   "id": "expired-assessment",
   "metadata": {
    "papermill": {},
    "tags": []
   },
   "source": [
    "<img width=\"10%\" alt=\"Naas\" src=\"https://landen.imgix.net/jtci2pxwjczr/assets/5ice39g4.png?w=160\"/>"
   ]
  },
  {
   "cell_type": "markdown",
   "id": "thermal-speed",
   "metadata": {
    "papermill": {},
    "tags": []
   },
   "source": [
    "# CCXT - Calculate Support and Resistance\n",
    "<a href=\"https://app.naas.ai/user-redirect/naas/downloader?url=https://raw.githubusercontent.com/jupyter-naas/awesome-notebooks/master/CCXT/CCXT_Calculate_Support_and_Resistance.ipynb\" target=\"_parent\"><img src=\"https://naasai-public.s3.eu-west-3.amazonaws.com/open_in_naas.svg\"/></a><br><br><a href=\"https://github.com/jupyter-naas/awesome-notebooks/issues/new?assignees=&labels=&template=template-request.md&title=Tool+-+Action+of+the+notebook+\">Template request</a> | <a href=\"https://github.com/jupyter-naas/awesome-notebooks/issues/new?assignees=&labels=bug&template=bug_report.md&title=CCXT+-+Calculate+Support+and+Resistance:+Error+short+description\">Bug report</a>"
   ]
  },
  {
   "cell_type": "markdown",
   "id": "620ebc4d-b7c7-4d8c-9665-1e148415315b",
   "metadata": {
    "papermill": {},
    "tags": []
   },
   "source": [
    "**Tags:** #ccxt #bitcoin #trading #investors #analytics #plotly"
   ]
  },
  {
   "cell_type": "markdown",
   "id": "3b76e00f-ebd8-4d6d-bb9a-239754ba9992",
   "metadata": {
    "papermill": {},
    "tags": []
   },
   "source": [
    "**Author:** [Jeremy Ravenel](https://www.linkedin.com/in/ACoAAAJHE7sB5OxuKHuzguZ9L6lfDHqw--cdnJg/)"
   ]
  },
  {
   "cell_type": "markdown",
   "id": "naas-description",
   "metadata": {
    "papermill": {},
    "tags": [
     "description"
    ]
   },
   "source": [
    "**Description:** This notebook provides a guide to using the CCXT library to calculate support and resistance levels for cryptocurrency trading."
   ]
  },
  {
   "cell_type": "markdown",
   "id": "9928dfd7-ff0b-409f-9b81-37c11b6310ee",
   "metadata": {
    "papermill": {},
    "tags": []
   },
   "source": [
    "## Input"
   ]
  },
  {
   "cell_type": "code",
   "execution_count": null,
   "id": "sustainable-xerox",
   "metadata": {
    "papermill": {},
    "tags": []
   },
   "outputs": [],
   "source": [
    "!pip install trendln matplotlib==3.1.3 --user"
   ]
  },
  {
   "cell_type": "code",
   "execution_count": 1,
   "id": "fifty-tackle",
   "metadata": {
    "execution": {
     "iopub.execute_input": "2021-01-29T11:26:02.833155Z",
     "iopub.status.busy": "2021-01-29T11:26:02.832871Z",
     "iopub.status.idle": "2021-01-29T11:26:04.852307Z",
     "shell.execute_reply": "2021-01-29T11:26:04.851658Z",
     "shell.execute_reply.started": "2021-01-29T11:26:02.833084Z"
    },
    "papermill": {},
    "tags": []
   },
   "outputs": [],
   "source": [
    "import naas\n",
    "import ccxt\n",
    "import pandas as pd\n",
    "from datetime import datetime\n",
    "import naas_drivers\n",
    "import trendln\n",
    "import plotly.tools as tls\n",
    "import plotly.graph_objects as go"
   ]
  },
  {
   "cell_type": "markdown",
   "id": "da5f1c81-fe85-49e4-9a82-79726ce065bb",
   "metadata": {
    "papermill": {},
    "tags": []
   },
   "source": [
    "### Setup Binance\n",
    "👉 <a href='https://www.binance.com/en/support/faq/360002502072'>How to create API ?</a>"
   ]
  },
  {
   "cell_type": "code",
   "execution_count": null,
   "id": "f50e4667-00b8-47fa-906c-b875bc778556",
   "metadata": {
    "papermill": {},
    "tags": []
   },
   "outputs": [],
   "source": [
    "binance_api = \"\"\n",
    "binance_secret = \"\""
   ]
  },
  {
   "cell_type": "markdown",
   "id": "f19b5fa1-7e85-4f52-9bcc-918b2524a11d",
   "metadata": {
    "papermill": {},
    "tags": []
   },
   "source": [
    "### Variables"
   ]
  },
  {
   "cell_type": "code",
   "execution_count": null,
   "id": "b8d797ae-c958-4170-bec1-950c2bf66f22",
   "metadata": {
    "papermill": {},
    "tags": []
   },
   "outputs": [],
   "source": [
    "symbol = \"BTC/USDT\"\n",
    "limit = 180\n",
    "timeframe = \"4h\""
   ]
  },
  {
   "cell_type": "markdown",
   "id": "d5400ab8-80e2-483c-bc67-7e6c61e1831a",
   "metadata": {
    "papermill": {},
    "tags": []
   },
   "source": [
    "## Model"
   ]
  },
  {
   "cell_type": "markdown",
   "id": "39fee543-6732-418c-bdae-02e7b67f25db",
   "metadata": {
    "papermill": {},
    "tags": []
   },
   "source": [
    "### Get data"
   ]
  },
  {
   "cell_type": "code",
   "execution_count": 2,
   "id": "sublime-policy",
   "metadata": {
    "execution": {
     "iopub.execute_input": "2021-01-29T11:26:04.853895Z",
     "iopub.status.busy": "2021-01-29T11:26:04.853634Z",
     "iopub.status.idle": "2021-01-29T11:26:05.494624Z",
     "shell.execute_reply": "2021-01-29T11:26:05.493214Z",
     "shell.execute_reply.started": "2021-01-29T11:26:04.853862Z"
    },
    "papermill": {},
    "tags": []
   },
   "outputs": [],
   "source": [
    "binance = ccxt.binance({\"apiKey\": binance_api, \"secret\": binance_secret})\n",
    "\n",
    "data = binance.fetch_ohlcv(symbol=symbol, limit=limit, timeframe=timeframe)"
   ]
  },
  {
   "cell_type": "markdown",
   "id": "f168d842-5011-4916-806e-122f2a3a5e9b",
   "metadata": {
    "papermill": {},
    "tags": []
   },
   "source": [
    "### Data cleaning"
   ]
  },
  {
   "cell_type": "code",
   "execution_count": 3,
   "id": "beautiful-banner",
   "metadata": {
    "execution": {
     "iopub.execute_input": "2021-01-29T11:26:05.497791Z",
     "iopub.status.busy": "2021-01-29T11:26:05.497612Z",
     "iopub.status.idle": "2021-01-29T11:26:05.535225Z",
     "shell.execute_reply": "2021-01-29T11:26:05.534726Z",
     "shell.execute_reply.started": "2021-01-29T11:26:05.497772Z"
    },
    "papermill": {},
    "tags": []
   },
   "outputs": [],
   "source": [
    "df = pd.DataFrame(data, columns=[\"Date\", \"Open\", \"High\", \"Low\", \"Close\", \"Volume\"])\n",
    "df[\"Date\"] = [datetime.fromtimestamp(float(time) / 1000) for time in df[\"Date\"]]\n",
    "df"
   ]
  },
  {
   "cell_type": "markdown",
   "id": "e4ce3c07-aeac-44c2-aea8-f97659a94ebe",
   "metadata": {
    "papermill": {},
    "tags": []
   },
   "source": [
    "## Output"
   ]
  },
  {
   "cell_type": "markdown",
   "id": "e0dfdcaf-7f64-4d21-9cbc-7e2d65f402f1",
   "metadata": {
    "papermill": {},
    "tags": []
   },
   "source": [
    "### Plotting figure"
   ]
  },
  {
   "cell_type": "code",
   "execution_count": 47,
   "id": "brown-consent",
   "metadata": {
    "execution": {
     "iopub.execute_input": "2021-01-29T11:43:07.295709Z",
     "iopub.status.busy": "2021-01-29T11:43:07.295468Z",
     "iopub.status.idle": "2021-01-29T11:43:08.274889Z",
     "shell.execute_reply": "2021-01-29T11:43:08.274171Z",
     "shell.execute_reply.started": "2021-01-29T11:43:07.295682Z"
    },
    "papermill": {},
    "tags": []
   },
   "outputs": [],
   "source": [
    "fig = trendln.plot_support_resistance(\n",
    "    df[-1000:].Close,  # as per h for calc_support_resistance\n",
    "    xformatter=None,  # x-axis data formatter turning numeric indexes to display output\n",
    "    # e.g. ticker.FuncFormatter(func) otherwise just display numeric indexes\n",
    "    numbest=1,  # number of best support and best resistance lines to display\n",
    "    fromwindows=True,  # draw numbest best from each window, otherwise draw numbest across whole range\n",
    "    pctbound=0.1,  # bound trend line based on this maximum percentage of the data range above the high or below the low\n",
    "    extmethod=trendln.METHOD_NUMDIFF,\n",
    "    method=trendln.METHOD_PROBHOUGH,\n",
    "    window=125,\n",
    "    errpct=0.005,\n",
    "    hough_prob_iter=50,\n",
    "    sortError=False,\n",
    "    accuracy=1,\n",
    ")"
   ]
  },
  {
   "cell_type": "code",
   "execution_count": 48,
   "id": "chicken-banana",
   "metadata": {
    "execution": {
     "iopub.execute_input": "2021-01-29T11:43:08.276428Z",
     "iopub.status.busy": "2021-01-29T11:43:08.276192Z",
     "iopub.status.idle": "2021-01-29T11:43:08.420560Z",
     "shell.execute_reply": "2021-01-29T11:43:08.419418Z",
     "shell.execute_reply.started": "2021-01-29T11:43:08.276398Z"
    },
    "papermill": {},
    "tags": []
   },
   "outputs": [],
   "source": [
    "plotly_fig = tls.mpl_to_plotly(fig)"
   ]
  },
  {
   "cell_type": "code",
   "execution_count": 49,
   "id": "developing-breathing",
   "metadata": {
    "execution": {
     "iopub.execute_input": "2021-01-29T11:43:09.243390Z",
     "iopub.status.busy": "2021-01-29T11:43:09.243155Z",
     "iopub.status.idle": "2021-01-29T11:43:09.261085Z",
     "shell.execute_reply": "2021-01-29T11:43:09.260596Z",
     "shell.execute_reply.started": "2021-01-29T11:43:09.243367Z"
    },
    "papermill": {},
    "tags": []
   },
   "outputs": [],
   "source": [
    "layout = dict(\n",
    "    dragmode=\"pan\",\n",
    "    xaxis_rangeslider_visible=False,\n",
    "    showlegend=True,\n",
    ")\n",
    "new_data = list(plotly_fig.data)\n",
    "new_data.pop(2)\n",
    "new_data.pop(2)\n",
    "new_data.pop(1)\n",
    "new_data.pop(1)\n",
    "fig = go.Figure(data=new_data, layout=layout)\n",
    "fig"
   ]
  }
 ],
 "metadata": {
  "kernelspec": {
   "display_name": "Python 3",
   "language": "python",
   "name": "python3"
  },
  "language_info": {
   "codemirror_mode": {
    "name": "ipython",
    "version": 3
   },
   "file_extension": ".py",
   "mimetype": "text/x-python",
   "name": "python",
   "nbconvert_exporter": "python",
   "pygments_lexer": "ipython3",
   "version": "3.9.6"
  },
  "naas": {
   "notebook_id": "77f63bf3-1dd5-4b3f-b999-1fb91d169094",
   "notebook_path": "CCXT/CCXT_Calculate_Support_and_Resistance.ipynb"
  },
  "papermill": {
   "default_parameters": {},
   "environment_variables": {},
   "parameters": {},
   "version": "2.3.3"
  }
 },
 "nbformat": 4,
 "nbformat_minor": 5
}