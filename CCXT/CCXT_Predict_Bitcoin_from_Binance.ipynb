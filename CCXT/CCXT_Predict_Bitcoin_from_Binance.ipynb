{
 "cells": [
  {
   "cell_type": "markdown",
   "id": "upper-ladder",
   "metadata": {
    "papermill": {},
    "tags": []
   },
   "source": [
    "<img width=\"10%\" alt=\"Naas\" src=\"https://landen.imgix.net/jtci2pxwjczr/assets/5ice39g4.png?w=160\"/>"
   ]
  },
  {
   "cell_type": "markdown",
   "id": "pleased-transfer",
   "metadata": {
    "papermill": {},
    "tags": []
   },
   "source": [
    "# CCXT - Predict Bitcoin from Binance\n",
    "<a href=\"https://app.naas.ai/user-redirect/naas/downloader?url=https://raw.githubusercontent.com/jupyter-naas/awesome-notebooks/master/CCXT/CCXT_Predict_Bitcoin_from_Binance.ipynb\" target=\"_parent\"><img src=\"https://naasai-public.s3.eu-west-3.amazonaws.com/open_in_naas.svg\"/></a><br><br><a href=\"https://github.com/jupyter-naas/awesome-notebooks/issues/new?assignees=&labels=&template=template-request.md&title=Tool+-+Action+of+the+notebook+\">Template request</a> | <a href=\"https://github.com/jupyter-naas/awesome-notebooks/issues/new?assignees=&labels=bug&template=bug_report.md&title=CCXT+-+Predict+Bitcoin+from+Binance:+Error+short+description\">Bug report</a>"
   ]
  },
  {
   "cell_type": "markdown",
   "id": "excess-reason",
   "metadata": {
    "papermill": {},
    "tags": []
   },
   "source": [
    "**Tags:** #ccxt #bitcoin #trading #investors #ai #analytics #plotly"
   ]
  },
  {
   "cell_type": "markdown",
   "id": "810568cb-78d9-4410-95cf-9951af7df890",
   "metadata": {
    "papermill": {},
    "tags": []
   },
   "source": [
    "**Author:** [Jeremy Ravenel](https://www.linkedin.com/in/ACoAAAJHE7sB5OxuKHuzguZ9L6lfDHqw--cdnJg/)"
   ]
  },
  {
   "cell_type": "markdown",
   "id": "naas-description",
   "metadata": {
    "papermill": {},
    "tags": [
     "description"
    ]
   },
   "source": [
    "**Description:** This notebook uses the CCXT library to predict Bitcoin prices on the Binance exchange."
   ]
  },
  {
   "cell_type": "markdown",
   "id": "aa8fe2dc-63a2-4ccc-a5cb-2aaa07d3fc83",
   "metadata": {
    "papermill": {},
    "tags": []
   },
   "source": [
    "## Input"
   ]
  },
  {
   "cell_type": "markdown",
   "id": "97a6b92e-eae4-4133-a8ee-0620c94df791",
   "metadata": {
    "papermill": {},
    "tags": []
   },
   "source": [
    "### Install package"
   ]
  },
  {
   "cell_type": "code",
   "execution_count": null,
   "id": "further-champagne",
   "metadata": {
    "papermill": {},
    "tags": []
   },
   "outputs": [],
   "source": [
    "!pip install ccxt --user"
   ]
  },
  {
   "cell_type": "markdown",
   "id": "ef92850c-97ef-4c0b-8d08-be821c052dcc",
   "metadata": {
    "papermill": {},
    "tags": []
   },
   "source": [
    "### Import libraries"
   ]
  },
  {
   "cell_type": "code",
   "execution_count": null,
   "id": "monthly-latino",
   "metadata": {
    "papermill": {},
    "tags": []
   },
   "outputs": [],
   "source": [
    "import naas\n",
    "import ccxt\n",
    "import pandas as pd\n",
    "from datetime import datetime\n",
    "from naas_drivers import plotly, prediction"
   ]
  },
  {
   "cell_type": "markdown",
   "id": "c80bed8f-fceb-4daf-87da-db04489515e9",
   "metadata": {
    "papermill": {},
    "tags": []
   },
   "source": [
    "### Setup Binance\n",
    "👉 <a href='https://www.binance.com/en/support/faq/360002502072'>How to create API ?</a>"
   ]
  },
  {
   "cell_type": "code",
   "execution_count": null,
   "id": "f38ea004-5e3b-46b4-8180-313b0e4cd9a3",
   "metadata": {
    "papermill": {},
    "tags": []
   },
   "outputs": [],
   "source": [
    "binance_api = \"\"\n",
    "binance_secret = \"\""
   ]
  },
  {
   "cell_type": "markdown",
   "id": "a1ef887a-2c9a-4e87-bdc2-679b37c8b04e",
   "metadata": {
    "papermill": {},
    "tags": []
   },
   "source": [
    "### Variables"
   ]
  },
  {
   "cell_type": "code",
   "execution_count": null,
   "id": "49c52000-114e-4aee-99af-0df9c6c57919",
   "metadata": {
    "papermill": {},
    "tags": []
   },
   "outputs": [],
   "source": [
    "symbol = \"BTC/USDT\"\n",
    "limit = 200\n",
    "timeframe = \"1d\""
   ]
  },
  {
   "cell_type": "markdown",
   "id": "8c4a8e63-cc7b-4898-88b0-40c2078bb61f",
   "metadata": {
    "papermill": {},
    "tags": []
   },
   "source": [
    "## Model"
   ]
  },
  {
   "cell_type": "markdown",
   "id": "54018008-0757-4268-b6ed-e5535aa1dcc1",
   "metadata": {
    "papermill": {},
    "tags": []
   },
   "source": [
    "### Get data"
   ]
  },
  {
   "cell_type": "code",
   "execution_count": null,
   "id": "tamil-local",
   "metadata": {
    "papermill": {},
    "tags": []
   },
   "outputs": [],
   "source": [
    "binance = ccxt.binance({\"apiKey\": binance_api, \"secret\": binance_secret})\n",
    "\n",
    "data = binance.fetch_ohlcv(symbol=symbol, limit=limit, timeframe=timeframe)"
   ]
  },
  {
   "cell_type": "markdown",
   "id": "b12b1f34-e224-4f92-851f-7a46ce25721c",
   "metadata": {
    "papermill": {},
    "tags": []
   },
   "source": [
    "### Mapping of the candlestick plot"
   ]
  },
  {
   "cell_type": "code",
   "execution_count": null,
   "id": "whole-retrieval",
   "metadata": {
    "papermill": {},
    "tags": []
   },
   "outputs": [],
   "source": [
    "df = pd.DataFrame(data, columns=[\"Date\", \"Open\", \"High\", \"Low\", \"Close\", \"Volume\"])\n",
    "df[\"Date\"] = [datetime.fromtimestamp(float(time) / 1000) for time in df[\"Date\"]]"
   ]
  },
  {
   "cell_type": "markdown",
   "id": "b14ecb93-4051-4c97-b02f-28d7305352f2",
   "metadata": {
    "papermill": {},
    "tags": []
   },
   "source": [
    "### Attribute the candlesticks variables"
   ]
  },
  {
   "cell_type": "code",
   "execution_count": null,
   "id": "grave-opinion",
   "metadata": {
    "papermill": {},
    "tags": []
   },
   "outputs": [],
   "source": [
    "chart_candlestick = plotly.candlestick(\n",
    "    df,\n",
    "    label_x=\"Date\",\n",
    "    label_open=\"Open\",\n",
    "    label_high=\"High\",\n",
    "    label_low=\"Low\",\n",
    "    label_close=\"Close\",\n",
    ")"
   ]
  },
  {
   "cell_type": "code",
   "execution_count": null,
   "id": "faced-cooler",
   "metadata": {
    "papermill": {},
    "tags": []
   },
   "outputs": [],
   "source": [
    "df[f\"MA{20}\"] = df.Close.rolling(20).mean()\n",
    "df[f\"MA{50}\"] = df.Close.rolling(50).mean()"
   ]
  },
  {
   "cell_type": "markdown",
   "id": "3200f0d4-3e12-49d1-961c-611ed5cbe111",
   "metadata": {
    "papermill": {},
    "tags": []
   },
   "source": [
    "### Get the prediction for the stock plot"
   ]
  },
  {
   "cell_type": "code",
   "execution_count": null,
   "id": "laden-niger",
   "metadata": {
    "papermill": {},
    "tags": []
   },
   "outputs": [],
   "source": [
    "pr = prediction.get(dataset=df)\n",
    "chart_stock = plotly.stock(pr, kind=\"linechart\")"
   ]
  },
  {
   "cell_type": "markdown",
   "id": "e795da63-3ae1-4b2c-a624-83cdab5584bb",
   "metadata": {
    "papermill": {},
    "tags": []
   },
   "source": [
    "## Output"
   ]
  },
  {
   "cell_type": "markdown",
   "id": "8c8cf0bc-2313-45a1-90b0-91baad77d857",
   "metadata": {
    "papermill": {},
    "tags": []
   },
   "source": [
    "### Display bitcoin plot prediction by changing resolution"
   ]
  },
  {
   "cell_type": "code",
   "execution_count": null,
   "id": "wound-passage",
   "metadata": {
    "papermill": {},
    "tags": []
   },
   "outputs": [],
   "source": [
    "chart_stock.update_layout(\n",
    "    autosize=True,\n",
    "    width=1300,\n",
    "    height=800,\n",
    ")"
   ]
  }
 ],
 "metadata": {
  "kernelspec": {
   "display_name": "Python 3",
   "language": "python",
   "name": "python3"
  },
  "language_info": {
   "codemirror_mode": {
    "name": "ipython",
    "version": 3
   },
   "file_extension": ".py",
   "mimetype": "text/x-python",
   "name": "python",
   "nbconvert_exporter": "python",
   "pygments_lexer": "ipython3",
   "version": "3.9.6"
  },
  "naas": {
   "notebook_id": "cf4d2425-859e-4357-bd59-f00838ac14e7",
   "notebook_path": "CCXT/CCXT_Predict_Bitcoin_from_Binance.ipynb"
  },
  "papermill": {
   "default_parameters": {},
   "environment_variables": {},
   "parameters": {},
   "version": "2.3.3"
  }
 },
 "nbformat": 4,
 "nbformat_minor": 5
}