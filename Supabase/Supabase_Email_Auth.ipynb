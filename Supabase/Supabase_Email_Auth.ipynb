{
 "cells": [
  {
   "cell_type": "markdown",
   "id": "latin-packing",
   "metadata": {
    "execution": {
     "iopub.execute_input": "2021-02-23T14:22:16.610471Z",
     "iopub.status.busy": "2021-02-23T14:22:16.610129Z",
     "iopub.status.idle": "2021-02-23T14:22:16.627784Z",
     "shell.execute_reply": "2021-02-23T14:22:16.626866Z",
     "shell.execute_reply.started": "2021-02-23T14:22:16.610384Z"
    },
    "papermill": {},
    "tags": []
   },
   "source": [
    "<img width=\"10%\" alt=\"Naas\" src=\"https://landen.imgix.net/jtci2pxwjczr/assets/5ice39g4.png?w=160\"/>"
   ]
  },
  {
   "cell_type": "markdown",
   "id": "compressed-wilson",
   "metadata": {
    "papermill": {},
    "tags": []
   },
   "source": [
    "# Supabase - Email Auth\n",
    "<a href=\"https://app.naas.ai/user-redirect/naas/downloader?url=https://raw.githubusercontent.com/jupyter-naas/awesome-notebooks/master/Supabase/Supabase_Email_Auth.ipynb\" target=\"_parent\"><img src=\"https://naasai-public.s3.eu-west-3.amazonaws.com/open_in_naas.svg\"/></a><br><br><a href=\"https://github.com/jupyter-naas/awesome-notebooks/issues/new?assignees=&labels=&template=template-request.md&title=Tool+-+Action+of+the+notebook+\">Template request</a> | <a href=\"https://github.com/jupyter-naas/awesome-notebooks/issues/new?assignees=&labels=bug&template=bug_report.md&title=Supabase+-+Email+Auth:+Error+short+description\">Bug report</a>"
   ]
  },
  {
   "cell_type": "markdown",
   "id": "religious-programmer",
   "metadata": {
    "papermill": {},
    "tags": []
   },
   "source": [
    "**Tags:** #supabase #auth #email #signin #signout #verification"
   ]
  },
  {
   "cell_type": "markdown",
   "id": "1fe9f56e-561c-4f52-aef8-b861c9462107",
   "metadata": {
    "papermill": {},
    "tags": []
   },
   "source": [
    "**Author:** [Sriniketh Jayasendil](http://linkedin.com/in/sriniketh-jayasendil/)"
   ]
  },
  {
   "cell_type": "markdown",
   "id": "31ea7cdb-e10d-43fc-b026-f69249a59736",
   "metadata": {
    "papermill": {},
    "tags": []
   },
   "source": [
    "**Description:** This notebook will utilize the Supabase DB and Authentication (with email verification) to Login users."
   ]
  },
  {
   "cell_type": "markdown",
   "id": "dd733a0f-473d-4194-a6b7-f35c2cc97682",
   "metadata": {
    "execution": {
     "iopub.execute_input": "2023-02-24T07:36:01.374737Z",
     "iopub.status.busy": "2023-02-24T07:36:01.374389Z",
     "iopub.status.idle": "2023-02-24T07:36:01.398756Z",
     "shell.execute_reply": "2023-02-24T07:36:01.397916Z",
     "shell.execute_reply.started": "2023-02-24T07:36:01.374650Z"
    },
    "papermill": {},
    "tags": []
   },
   "source": [
    "**References:**\n",
    "- [Supabase Signin](https://supabase.com/docs/reference/python/auth-signinwithpassword)"
   ]
  },
  {
   "cell_type": "markdown",
   "id": "distinguished-truth",
   "metadata": {
    "papermill": {},
    "tags": []
   },
   "source": [
    "## Input"
   ]
  },
  {
   "cell_type": "markdown",
   "id": "numeric-mediterranean",
   "metadata": {
    "papermill": {},
    "tags": []
   },
   "source": [
    "### Import libraries"
   ]
  },
  {
   "cell_type": "code",
   "execution_count": 2,
   "id": "potential-surfing",
   "metadata": {
    "execution": {
     "iopub.execute_input": "2023-02-24T13:57:47.638444Z",
     "iopub.status.busy": "2023-02-24T13:57:47.638222Z",
     "iopub.status.idle": "2023-02-24T13:57:51.031381Z",
     "shell.execute_reply": "2023-02-24T13:57:51.030770Z",
     "shell.execute_reply.started": "2023-02-24T13:57:47.638422Z"
    },
    "papermill": {},
    "tags": []
   },
   "outputs": [],
   "source": [
    "import naas\n",
    "import json\n",
    "\n",
    "try:\n",
    "    from supabase import create_client\n",
    "except ModuleNotFoundError:\n",
    "    !pip install supabase --user\n",
    "    from supabase import create_client"
   ]
  },
  {
   "cell_type": "markdown",
   "id": "5c66e5e5-d40c-4f36-9081-40b374cd8f27",
   "metadata": {
    "papermill": {},
    "tags": []
   },
   "source": [
    "### Add naas secret"
   ]
  },
  {
   "cell_type": "code",
   "execution_count": 3,
   "id": "201a5364-db3d-4746-a569-0580bae367f7",
   "metadata": {
    "execution": {
     "iopub.execute_input": "2023-02-24T13:57:51.034572Z",
     "iopub.status.busy": "2023-02-24T13:57:51.034393Z",
     "iopub.status.idle": "2023-02-24T13:57:51.038342Z",
     "shell.execute_reply": "2023-02-24T13:57:51.037811Z",
     "shell.execute_reply.started": "2023-02-24T13:57:51.034552Z"
    },
    "papermill": {},
    "tags": []
   },
   "outputs": [],
   "source": [
    "# naas.secret.add(name=\"SUPABASE_URL\", secret=\"\")\n",
    "# naas.secret.add(name=\"SUPABASE_KEY\", secret=\"\")\n",
    "# naas.secret.add(name=\"USER_EMAIL\", secret=\"\")\n",
    "# naas.secret.add(name=\"USER_PASSWORD\", secret=\"\")"
   ]
  },
  {
   "cell_type": "markdown",
   "id": "aggressive-trustee",
   "metadata": {
    "papermill": {},
    "tags": []
   },
   "source": [
    "### Setup Variables\n",
    "\n",
    "First head to https://app.supabase.com/projects and create a new project. Then go to the `Project Setting\\API` in the left panel. You could find the all these variables there. \n",
    "\n",
    "- `url`: A RESTful endpoint for querying and managing your database.\n",
    "- `key`: Please use the public key\n",
    "- `email`: Any valid email id\n",
    "- `password`: A password of atleast 6 charachters\n",
    "- `session`: To keep track of the login status of the particular user."
   ]
  },
  {
   "cell_type": "code",
   "execution_count": 5,
   "id": "continuous-melbourne",
   "metadata": {
    "execution": {
     "iopub.execute_input": "2023-02-24T13:58:08.912111Z",
     "iopub.status.busy": "2023-02-24T13:58:08.911862Z",
     "iopub.status.idle": "2023-02-24T13:58:09.399320Z",
     "shell.execute_reply": "2023-02-24T13:58:09.398644Z",
     "shell.execute_reply.started": "2023-02-24T13:58:08.912087Z"
    },
    "papermill": {},
    "tags": []
   },
   "outputs": [],
   "source": [
    "# Inputs\n",
    "url = naas.secret.get(\"SUPABASE_URL\") or \"SUPABASE_URL\"\n",
    "key = naas.secret.get(\"SUPABASE_KEY\") or \"SUPABASE_KEY\"\n",
    "email = naas.secret.get(\"USER_EMAIL\") or \"USER_EMAIL\"\n",
    "password = naas.secret.get(\"USER_PASSWORD\") or \"USER_PASSWORD\"\n",
    "\n",
    "# Outputs\n",
    "session = \"\""
   ]
  },
  {
   "cell_type": "markdown",
   "id": "registered-showcase",
   "metadata": {
    "papermill": {},
    "tags": []
   },
   "source": [
    "## Model"
   ]
  },
  {
   "cell_type": "markdown",
   "id": "tested-astrology",
   "metadata": {
    "papermill": {},
    "tags": []
   },
   "source": [
    "### Create the new supabase client"
   ]
  },
  {
   "cell_type": "code",
   "execution_count": 6,
   "id": "crude-louisville",
   "metadata": {
    "execution": {
     "iopub.execute_input": "2023-02-24T13:58:10.577556Z",
     "iopub.status.busy": "2023-02-24T13:58:10.577314Z",
     "iopub.status.idle": "2023-02-24T13:58:10.594359Z",
     "shell.execute_reply": "2023-02-24T13:58:10.593839Z",
     "shell.execute_reply.started": "2023-02-24T13:58:10.577531Z"
    },
    "papermill": {},
    "tags": []
   },
   "outputs": [],
   "source": [
    "Client = create_client(url, key)\n",
    "\n",
    "# print(Client)"
   ]
  },
  {
   "cell_type": "markdown",
   "id": "15d669c9-36b4-44c9-9cb7-3024a7ff044c",
   "metadata": {
    "papermill": {},
    "tags": []
   },
   "source": [
    "### Create new user \n",
    "Similar to sign up logic.\n",
    "\n",
    "**Note:** After you run the query successfully you will get an verification email in the provided mail id."
   ]
  },
  {
   "cell_type": "code",
   "execution_count": 7,
   "id": "8af4142b-19cc-4de2-8f8b-f792e11ac2ce",
   "metadata": {
    "execution": {
     "iopub.execute_input": "2023-02-24T13:58:11.694983Z",
     "iopub.status.busy": "2023-02-24T13:58:11.694705Z",
     "iopub.status.idle": "2023-02-24T13:58:15.605451Z",
     "shell.execute_reply": "2023-02-24T13:58:15.604744Z",
     "shell.execute_reply.started": "2023-02-24T13:58:11.694954Z"
    },
    "papermill": {},
    "tags": []
   },
   "outputs": [],
   "source": [
    "# To sign up user\n",
    "res = Client.auth.sign_up({\n",
    "  \"email\": email,\n",
    "  \"password\": password,\n",
    "})\n",
    "\n",
    "# print(res)"
   ]
  },
  {
   "cell_type": "markdown",
   "id": "6e8c0e3a-34ab-4642-90ed-feb392671117",
   "metadata": {
    "papermill": {},
    "tags": []
   },
   "source": [
    "### Login user\n",
    "\n",
    "Use the credentials as you provided above"
   ]
  },
  {
   "cell_type": "code",
   "execution_count": 8,
   "id": "a3e13f6a-ab94-471f-b6b8-6f6e2a5b79c6",
   "metadata": {
    "execution": {
     "iopub.execute_input": "2023-02-24T13:58:15.610682Z",
     "iopub.status.busy": "2023-02-24T13:58:15.609078Z",
     "iopub.status.idle": "2023-02-24T13:58:16.090304Z",
     "shell.execute_reply": "2023-02-24T13:58:16.089558Z",
     "shell.execute_reply.started": "2023-02-24T13:58:15.610647Z"
    },
    "papermill": {},
    "tags": []
   },
   "outputs": [],
   "source": [
    "# To login user\n",
    "try:\n",
    "    session = Client.auth.sign_in_with_password({\n",
    "        \"email\": email,\n",
    "        \"password\": password\n",
    "    })\n",
    "    print('Login successful...🚀')\n",
    "    \n",
    "except:\n",
    "    print('Login failed!!!\\n\\n\\nPotential reasons could be\\n1. Make sure to confirm the email address.\\n2. Check your spam incase if you are unable to find the email.\\n3. If not the above ones check supabase docs: https://supabase.com/docs/reference/python/auth-signinwithpassword')"
   ]
  },
  {
   "cell_type": "markdown",
   "id": "c7ee49d7-f379-4162-934c-1bbffe1df7ee",
   "metadata": {
    "papermill": {},
    "tags": []
   },
   "source": [
    "### To sign out user\n",
    "\n",
    "Use the just the module without any parameters"
   ]
  },
  {
   "cell_type": "code",
   "execution_count": 9,
   "id": "85142ff9-e06e-408b-b1a4-66ee8ab5d815",
   "metadata": {
    "execution": {
     "iopub.execute_input": "2023-02-24T13:58:16.092037Z",
     "iopub.status.busy": "2023-02-24T13:58:16.091755Z",
     "iopub.status.idle": "2023-02-24T13:58:16.095737Z",
     "shell.execute_reply": "2023-02-24T13:58:16.095107Z",
     "shell.execute_reply.started": "2023-02-24T13:58:16.092003Z"
    },
    "papermill": {},
    "tags": []
   },
   "outputs": [],
   "source": [
    "# To terminate the session / sign out the user\n",
    "Client.auth.sign_out()\n",
    "print('Logout successful👋...')"
   ]
  },
  {
   "cell_type": "markdown",
   "id": "lonely-pacific",
   "metadata": {
    "execution": {
     "iopub.execute_input": "2021-07-02T23:32:10.789097Z",
     "iopub.status.busy": "2021-07-02T23:32:10.788829Z",
     "iopub.status.idle": "2021-07-02T23:32:10.796900Z",
     "shell.execute_reply": "2021-07-02T23:32:10.796358Z",
     "shell.execute_reply.started": "2021-07-02T23:32:10.789033Z"
    },
    "papermill": {},
    "tags": []
   },
   "source": [
    "## Output"
   ]
  },
  {
   "cell_type": "markdown",
   "id": "b9cb212f-cae5-45fd-aa27-2cf7691cf630",
   "metadata": {
    "papermill": {},
    "tags": []
   },
   "source": [
    "### Display result"
   ]
  },
  {
   "cell_type": "code",
   "execution_count": 10,
   "id": "dcae9569-2917-4620-842d-5c22865404a2",
   "metadata": {
    "execution": {
     "iopub.execute_input": "2023-02-24T13:58:16.245552Z",
     "iopub.status.busy": "2023-02-24T13:58:16.245327Z",
     "iopub.status.idle": "2023-02-24T13:58:16.248762Z",
     "shell.execute_reply": "2023-02-24T13:58:16.248128Z",
     "shell.execute_reply.started": "2023-02-24T13:58:16.245529Z"
    },
    "papermill": {},
    "tags": []
   },
   "outputs": [],
   "source": [
    "print(session)"
   ]
  }
 ],
 "metadata": {
  "kernelspec": {
   "display_name": "Python 3",
   "language": "python",
   "name": "python3"
  },
  "language_info": {
   "codemirror_mode": {
    "name": "ipython",
    "version": 3
   },
   "file_extension": ".py",
   "mimetype": "text/x-python",
   "name": "python",
   "nbconvert_exporter": "python",
   "pygments_lexer": "ipython3",
   "version": "3.9.6"
  },
  "papermill": {
   "default_parameters": {},
   "environment_variables": {},
   "parameters": {},
   "version": "2.3.3"
  },
  "widgets": {
   "application/vnd.jupyter.widget-state+json": {
    "state": {},
    "version_major": 2,
    "version_minor": 0
   }
  }
 },
 "nbformat": 4,
 "nbformat_minor": 5
}