{
 "cells": [
  {
   "cell_type": "markdown",
   "id": "biological-sigma",
   "metadata": {
    "papermill": {},
    "tags": []
   },
   "source": [
    "<img width=\"10%\" alt=\"Naas\" src=\"https://landen.imgix.net/jtci2pxwjczr/assets/5ice39g4.png?w=160\"/>"
   ]
  },
  {
   "cell_type": "markdown",
   "id": "automatic-polymer",
   "metadata": {
    "colab_type": "text",
    "id": "g-8m38fV3K3l",
    "papermill": {},
    "tags": []
   },
   "source": [
    "# Quandl - Get data from CSV\n",
    "<a href=\"https://app.naas.ai/user-redirect/naas/downloader?url=https://raw.githubusercontent.com/jupyter-naas/awesome-notebooks/master/Quandl/Quandl_Get_data_from_CSV.ipynb\" target=\"_parent\"><img src=\"https://naasai-public.s3.eu-west-3.amazonaws.com/Open_in_Naas_Lab.svg\"/></a><br><br><a href=\"https://github.com/jupyter-naas/awesome-notebooks/issues/new?assignees=&labels=&template=template-request.md&title=Tool+-+Action+of+the+notebook+\">Template request</a> | <a href=\"https://github.com/jupyter-naas/awesome-notebooks/issues/new?assignees=&labels=bug&template=bug_report.md&title=Quandl+-+Get+data+from+CSV:+Error+short+description\">Bug report</a> | <a href=\"https://app.naas.ai/user-redirect/naas/downloader?url=https://raw.githubusercontent.com/jupyter-naas/awesome-notebooks/master/Naas/Naas_Start_data_product.ipynb\" target=\"_parent\">Generate Data Product</a>"
   ]
  },
  {
   "cell_type": "markdown",
   "id": "25d12513-da43-485e-8ce1-7d4f362f0663",
   "metadata": {
    "papermill": {},
    "tags": []
   },
   "source": [
    "**Tags:** #quandl #marketdata #opendata #finance #snippet #csv"
   ]
  },
  {
   "cell_type": "markdown",
   "id": "naas-author",
   "metadata": {
    "papermill": {},
    "tags": [
     "naas"
    ]
   },
   "source": [
    "**Author:** [Jeremy Ravenel](https://www.linkedin.com/in/ACoAAAJHE7sB5OxuKHuzguZ9L6lfDHqw--cdnJg/)"
   ]
  },
  {
   "cell_type": "markdown",
   "id": "naas-description",
   "metadata": {
    "papermill": {},
    "tags": [
     "description"
    ]
   },
   "source": [
    "**Description:** This notebook provides a guide to retrieving data from CSV files using the Quandl API."
   ]
  },
  {
   "cell_type": "markdown",
   "id": "input_cell",
   "metadata": {
    "papermill": {},
    "tags": []
   },
   "source": [
    "## Input"
   ]
  },
  {
   "cell_type": "markdown",
   "id": "formal-craft",
   "metadata": {
    "colab_type": "text",
    "id": "IutcWsSg3RFr",
    "papermill": {},
    "tags": []
   },
   "source": [
    "### Import librairies"
   ]
  },
  {
   "cell_type": "code",
   "execution_count": null,
   "id": "polished-crowd",
   "metadata": {
    "colab": {},
    "colab_type": "code",
    "id": "x_pOunb4v4-o",
    "papermill": {},
    "tags": []
   },
   "outputs": [],
   "source": [
    "import matplotlib.pyplot as plt\n",
    "import pandas as pd\n",
    "import os"
   ]
  },
  {
   "cell_type": "markdown",
   "id": "model_cell",
   "metadata": {
    "papermill": {},
    "tags": []
   },
   "source": [
    "## Model"
   ]
  },
  {
   "cell_type": "markdown",
   "id": "bearing-blocking",
   "metadata": {
    "colab_type": "text",
    "id": "xD97nhr13Uxm",
    "papermill": {},
    "tags": []
   },
   "source": [
    "### Read CSV with pandas"
   ]
  },
  {
   "cell_type": "code",
   "execution_count": null,
   "id": "fifty-immune",
   "metadata": {
    "colab": {
     "base_uri": "https://localhost:8080/",
     "height": 415
    },
    "colab_type": "code",
    "id": "cOZm-UoFv-y6",
    "outputId": "3c83d18e-4732-48a0-9f4f-96e0f7135ec7",
    "papermill": {},
    "tags": []
   },
   "outputs": [],
   "source": [
    "data = pd.read_csv(\n",
    "    \"https://www.quandl.com/api/v3/datasets/BITFINEX/BTCUSD.csv?api_key=bxrSXWimkiknuCcV71uL\"\n",
    ")\n",
    "data"
   ]
  },
  {
   "cell_type": "markdown",
   "id": "output_cell",
   "metadata": {
    "papermill": {},
    "tags": []
   },
   "source": [
    "## Output"
   ]
  },
  {
   "cell_type": "markdown",
   "id": "innocent-silly",
   "metadata": {
    "colab_type": "text",
    "id": "Bqt9_5OK3Yyl",
    "papermill": {},
    "tags": []
   },
   "source": [
    "### Visualize & plot chart"
   ]
  },
  {
   "cell_type": "code",
   "execution_count": null,
   "id": "expected-assist",
   "metadata": {
    "colab": {},
    "colab_type": "code",
    "id": "Jolb4oNv2ucC",
    "papermill": {},
    "tags": []
   },
   "outputs": [],
   "source": [
    "%matplotlib inline"
   ]
  },
  {
   "cell_type": "code",
   "execution_count": null,
   "id": "coupled-portal",
   "metadata": {
    "colab": {
     "base_uri": "https://localhost:8080/",
     "height": 283
    },
    "colab_type": "code",
    "id": "BGwMqP052zqE",
    "outputId": "47dc8d9c-e789-4666-8d60-ab6a1c85b661",
    "papermill": {},
    "tags": []
   },
   "outputs": [],
   "source": [
    "data.plot()"
   ]
  }
 ],
 "metadata": {
  "colab": {
   "authorship_tag": "ABX9TyNvOvxmMF08QZx1FIteWBGe",
   "include_colab_link": true,
   "name": "Example.ipynb",
   "provenance": []
  },
  "kernelspec": {
   "display_name": "Python 3",
   "language": "python",
   "name": "python3"
  },
  "language_info": {
   "codemirror_mode": {
    "name": "ipython",
    "version": 3
   },
   "file_extension": ".py",
   "mimetype": "text/x-python",
   "name": "python",
   "nbconvert_exporter": "python",
   "pygments_lexer": "ipython3",
   "version": "3.9.6"
  },
  "naas": {
   "notebook_id": "5fc16e4d7e6415f3d4c6c3adb959707425d1e22a89f4c9ed83dce4819a6524be",
   "notebook_path": "Quandl/Quandl_Get_data_from_CSV.ipynb"
  },
  "papermill": {
   "default_parameters": {},
   "environment_variables": {},
   "parameters": {},
   "version": "2.3.3"
  }
 },
 "nbformat": 4,
 "nbformat_minor": 5
}