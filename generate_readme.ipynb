{
 "cells": [
  {
   "cell_type": "markdown",
   "id": "latter-teddy",
   "metadata": {},
   "source": [
    "<img width=\"10%\" alt=\"Naas\" src=\"https://landen.imgix.net/jtci2pxwjczr/assets/5ice39g4.png?w=160\"/>\n",
    "\n",
    "# Generate Readme for Awesome Notebooks"
   ]
  },
  {
   "cell_type": "markdown",
   "id": "421e4c6e-d5ef-4d53-9d36-f352426c4d87",
   "metadata": {
    "execution": {
     "iopub.execute_input": "2021-10-06T11:02:41.091855Z",
     "iopub.status.busy": "2021-10-06T11:02:41.091514Z",
     "iopub.status.idle": "2021-10-06T11:02:41.099143Z",
     "shell.execute_reply": "2021-10-06T11:02:41.098565Z",
     "shell.execute_reply.started": "2021-10-06T11:02:41.091773Z"
    },
    "tags": []
   },
   "source": [
    "## Input"
   ]
  },
  {
   "cell_type": "markdown",
   "id": "e84f7e80-dda2-4569-96dd-5abaaed2c73a",
   "metadata": {},
   "source": [
    "### Import librairies"
   ]
  },
  {
   "cell_type": "code",
   "execution_count": null,
   "id": "sitting-directory",
   "metadata": {
    "execution": {
     "iopub.execute_input": "2023-06-26T11:11:00.231978Z",
     "iopub.status.busy": "2023-06-26T11:11:00.231747Z",
     "iopub.status.idle": "2023-06-26T11:11:03.184701Z",
     "shell.execute_reply": "2023-06-26T11:11:03.183948Z"
    },
    "tags": []
   },
   "outputs": [],
   "source": [
    "import os\n",
    "import requests\n",
    "import pandas as pd\n",
    "import urllib.parse\n",
    "try:\n",
    "    from git import Repo\n",
    "except:\n",
    "    !pip install GitPython\n",
    "    from git import Repo\n",
    "from naas_drivers import markdown\n",
    "from pprint import pprint\n",
    "import json\n",
    "from papermill.iorw import (\n",
    "    load_notebook_node,\n",
    "    write_ipynb,\n",
    ")\n",
    "import copy\n",
    "import hashlib"
   ]
  },
  {
   "cell_type": "markdown",
   "id": "agricultural-contest",
   "metadata": {},
   "source": [
    "### Setup Variables\n",
    "- `readme_template`: This variable stores the file name or path of the README template file. It is used as a template to generate the final README file.\n",
    "- `naas_lab_logo`: This variable contains the URL of the Naas Lab logo image.\n",
    "- `naas_chat_logo`: This variable holds the URL of the Naas Chat logo image.\n",
    "- `template_request`: This variable represents the URL for submitting a template request on GitHub. It includes parameters such as assignees, labels, template, and title.\n",
    "- `bug_report`: This variable stores the URL for submitting a bug report on GitHub. It includes parameters such as assignees, labels, template, and title.\n",
    "- `start_data_product`: This variable contains the URL for the \"Naas_Start_data_product\" notebook.\n",
    "- `json_file`: This variable represents the file name or path for the output JSON file that will store the templates.\n",
    "- `naas_lab_url`: This variable holds the URL prefix for accessing Naas Lab resources.\n",
    "- `naas_chat_url`: This variable represents the URL prefix for using Naas Chat plugins.\n",
    "- `readme`: This variable stores the file name or path for the final README file."
   ]
  },
  {
   "cell_type": "code",
   "execution_count": null,
   "id": "guided-edgar",
   "metadata": {
    "execution": {
     "iopub.execute_input": "2023-06-26T11:11:03.188819Z",
     "iopub.status.busy": "2023-06-26T11:11:03.188487Z",
     "iopub.status.idle": "2023-06-26T11:11:03.193890Z",
     "shell.execute_reply": "2023-06-26T11:11:03.193309Z"
    },
    "tags": []
   },
   "outputs": [],
   "source": [
    "# Inputs\n",
    "readme_template = \"README_template.md\"\n",
    "naas_lab_logo = \"https://naasai-public.s3.eu-west-3.amazonaws.com/Open_in_Naas_Lab.svg\"\n",
    "naas_chat_logo = \"https://naasai-public.s3.eu-west-3.amazonaws.com/Open_in_MyChatGPT.svg\"\n",
    "template_request = \"https://github.com/jupyter-naas/awesome-notebooks/issues/new?assignees=&labels=&template=template-request.md&title=Tool+-+Action+of+the+notebook+\"\n",
    "bug_report = \"https://github.com/jupyter-naas/awesome-notebooks/issues/new?assignees=&labels=bug&template=bug_report.md&title=\"\n",
    "start_data_product = \"https://raw.githubusercontent.com/jupyter-naas/awesome-notebooks/master/Naas/Naas_Start_data_product.ipynb\"\n",
    "\n",
    "# Outputs\n",
    "json_file = \"templates.json\"\n",
    "naas_lab_url ='https://app.naas.ai/user-redirect/naas/downloader?url='\n",
    "naas_chat_url = \"https://workspace.naas.ai/chat/use?plugin_url=\"\n",
    "readme = \"README.md\""
   ]
  },
  {
   "cell_type": "markdown",
   "id": "d76baf36-56c4-49f9-93e8-00889b174845",
   "metadata": {},
   "source": [
    "## Model"
   ]
  },
  {
   "cell_type": "markdown",
   "id": "distinguished-declaration",
   "metadata": {},
   "source": [
    "### Get all notebooks"
   ]
  },
  {
   "cell_type": "code",
   "execution_count": null,
   "id": "36c9011e-5f51-4779-8062-a627503100e1",
   "metadata": {
    "execution": {
     "iopub.execute_input": "2023-06-26T11:11:03.197443Z",
     "iopub.status.busy": "2023-06-26T11:11:03.196973Z",
     "iopub.status.idle": "2023-06-26T11:11:03.456845Z",
     "shell.execute_reply": "2023-06-26T11:11:03.456025Z"
    },
    "tags": []
   },
   "outputs": [],
   "source": [
    "def get_all_notebooks():\n",
    "    # Init\n",
    "    html_url_base = \"https://github.com/jupyter-naas/awesome-notebooks/blob/master\"\n",
    "    raw_url_base = \"https://raw.githubusercontent.com/jupyter-naas/awesome-notebooks/master\"\n",
    "    notebooks = []\n",
    "    res_json = []\n",
    "    \n",
    "    # Connect to GitHub and get branch\n",
    "    repo = Repo('.')\n",
    "    branch = repo.active_branch\n",
    "    \n",
    "    # Get tree from json\n",
    "    url = f\"https://api.github.com/repos/jupyter-naas/awesome-notebooks/git/trees/{branch.name}?recursive=1\"\n",
    "    res = requests.get(url)\n",
    "    if res.status_code == 200:\n",
    "        res_json = res.json().get(\"tree\")\n",
    "    \n",
    "    # Loop on files\n",
    "    for r in res_json:\n",
    "        root = None\n",
    "        file_name = None\n",
    "        file_path = r.get(\"path\")\n",
    "        notebook_path = urllib.parse.quote(file_path)\n",
    "        if \".github\" not in file_path and \".gitignore\" not in file_path and \"/\" in file_path:\n",
    "            if file_path.endswith(\".ipynb\"):\n",
    "                data = {\n",
    "                    \"tool\": file_path.split(\"/\")[0],\n",
    "                    \"notebook_name\": file_path.split(\"/\")[1],\n",
    "                    \"notebook_path\": file_path,\n",
    "                    \"html_url\": f\"{html_url_base}/{notebook_path}\",\n",
    "                    \"raw_url\": f\"{raw_url_base}/{notebook_path}\",\n",
    "                }\n",
    "                notebooks.append(data)\n",
    "    return pd.DataFrame(notebooks)\n",
    "\n",
    "df_notebooks = get_all_notebooks()\n",
    "print(\"✅ Notebooks fetched:\", len(df_notebooks))\n",
    "df_notebooks.head(1)"
   ]
  },
  {
   "cell_type": "markdown",
   "id": "f6d3b7f0-0491-4d73-8e36-b556834a3b7c",
   "metadata": {},
   "source": [
    "### Create title cell, generate markdown for README & json for naas search"
   ]
  },
  {
   "cell_type": "markdown",
   "id": "33984c63-30c6-4ed3-afee-108c5e48c2c0",
   "metadata": {},
   "source": [
    "#### Encode notebook name"
   ]
  },
  {
   "cell_type": "code",
   "execution_count": null,
   "id": "7fa60d66-a43a-4ba3-abfb-ee1779afdfc3",
   "metadata": {
    "execution": {
     "iopub.execute_input": "2023-06-26T11:11:03.460480Z",
     "iopub.status.busy": "2023-06-26T11:11:03.459833Z",
     "iopub.status.idle": "2023-06-26T11:11:03.463913Z",
     "shell.execute_reply": "2023-06-26T11:11:03.463313Z"
    },
    "tags": []
   },
   "outputs": [],
   "source": [
    "def encode_notebook_name(notebook_name):\n",
    "    # Convert the notebook name to bytes\n",
    "    notebook_name_bytes = notebook_name.encode('utf-8')\n",
    "\n",
    "    # Calculate the SHA-256 hash of the notebook name\n",
    "    sha_hash = hashlib.sha256(notebook_name_bytes)\n",
    "\n",
    "    # Get the hexadecimal representation of the hash\n",
    "    encoded_name = sha_hash.hexdigest()\n",
    "    return encoded_name\n",
    "\n",
    "# # Example usage\n",
    "# notebook_name = \"my_notebook.ipynb\"\n",
    "# encoded_name = encode_notebook_name(notebook_name)\n",
    "# print(encoded_name)"
   ]
  },
  {
   "cell_type": "markdown",
   "id": "8c417199-4154-4c48-84d5-f4a92eab6121",
   "metadata": {},
   "source": [
    "#### Get notebook data functions"
   ]
  },
  {
   "cell_type": "code",
   "execution_count": null,
   "id": "f9a4c7b2-d667-4555-98ed-31786278e947",
   "metadata": {
    "execution": {
     "iopub.execute_input": "2023-06-26T11:11:03.466850Z",
     "iopub.status.busy": "2023-06-26T11:11:03.466635Z",
     "iopub.status.idle": "2023-06-26T11:11:03.481264Z",
     "shell.execute_reply": "2023-06-26T11:11:03.480688Z"
    },
    "tags": []
   },
   "outputs": [],
   "source": [
    "def get_imports(sources, imports):\n",
    "    # Loop on sources\n",
    "    for source in sources.split(\"\\n\"):\n",
    "        if \"from\" in source and \"import\" in source:\n",
    "            lib = (\n",
    "                source.replace(\"\\n\", \"\")\n",
    "                .split(\"from\")[-1]\n",
    "                .split(\"import\")[0]\n",
    "                .strip()\n",
    "            )\n",
    "            module = (\n",
    "                source.replace(\"\\n\", \"\")\n",
    "                .split(\"import\")[-1]\n",
    "                .split(\" as \")[0]\n",
    "                .strip()\n",
    "            )\n",
    "            imports.append(f\"{lib}.{module}\")\n",
    "        if \"from\" not in source and \"import\" in source:\n",
    "            library = (\n",
    "                source.replace(\"\\n\", \"\")\n",
    "                .split(\"import\")[-1]\n",
    "                .split(\" as \")[0]\n",
    "                .strip()\n",
    "            )\n",
    "            imports.append(library)\n",
    "    return imports\n",
    "\n",
    "def get_notebook_info(notebook_path):\n",
    "    # Init\n",
    "    action = \"\"\n",
    "    title = \"\"\n",
    "    tags = \"\"\n",
    "    author = \"\"\n",
    "    author_url = \"\"\n",
    "    description = \"\"\n",
    "    plugin = False\n",
    "    imports = []\n",
    "    first_cell = []\n",
    "    \n",
    "    # Get notebook\n",
    "    tool = notebook_path.split(\"/\")[0]\n",
    "    nb_init = load_notebook_node(notebook_path)\n",
    "    nb = copy.deepcopy(nb_init)\n",
    "    \n",
    "    # Update encoded name\n",
    "    encoded_name = encode_notebook_name(notebook_path)\n",
    "    nb.metadata[\"naas\"] = {}\n",
    "    nb.metadata[\"naas\"][\"notebook_id\"] = encoded_name\n",
    "    nb.metadata[\"naas\"][\"notebook_path\"] = notebook_path\n",
    "    \n",
    "    # Get cells\n",
    "    cells = nb.cells\n",
    "\n",
    "    # Get metadata store in fixed cells\n",
    "    first_cell = cells[1].get(\"source\")\n",
    "    title = first_cell.replace(\"#\", \"\").replace(tool, \"\").split(\"-\", 1)[-1].split(\"\\n\")[0].strip()\n",
    "    action = first_cell.split(\"<br><br>\")[0].split(\"\\n\")[-1].strip()\n",
    "    tags = cells[2].get(\"source\").replace(\"**Tags:**\", \"\").strip()\n",
    "    tags = [f\"#{tag.strip()}\" for tag in tags.split(\"#\") if tag != \"\"]\n",
    "    author = cells[3].get(\"source\").replace(\"**Author:**\", \"\").strip()\n",
    "    author_name = author.replace(\"[\", \"\").replace(\"]\", \"\").split(\"(\")[0].strip()\n",
    "    if \"(\" in author:\n",
    "        author_url = author.split(\"(\")[-1].replace(\")\", \"\")\n",
    "    description = cells[4].get(\"source\").replace(\"**Description:**\", \"\").strip()\n",
    "\n",
    "    # Get metadata store in variables cells\n",
    "    for index, cell in enumerate(cells):\n",
    "        cell_type = cell.get(\"cell_type\")\n",
    "        metadata = cell.get(\"metadata\")\n",
    "        sources = cell.get(\"source\")\n",
    "        outputs = cell.get(\"outputs\")\n",
    "        if cell_type == \"code\":\n",
    "            imports = get_imports(sources, imports)\n",
    "            # Remove metadata\n",
    "            if metadata.get(\"execution\"):\n",
    "                del metadata['execution']\n",
    "                nb.cells[index].metadata = metadata\n",
    "            # Get plugin tags\n",
    "            if \"plugin\" in metadata.get(\"tags\"):\n",
    "                plugin = True\n",
    "                # Add plugin\n",
    "                if \"#plugin\" not in tags:\n",
    "                    nb.cells[2].source = \"**Tags:** \" + \" \".join(tags) + \" #plugin\"\n",
    "                    tags.append(\"#plugin\")\n",
    "            # Remove outputs except plugin\n",
    "            if not \"plugin\" in metadata.get(\"tags\") and outputs != []:\n",
    "                nb.cells[index].outputs = []\n",
    "\n",
    "    # Save notebook\n",
    "    if nb != nb_init:\n",
    "        write_ipynb(nb, notebook_path)\n",
    "        print(\"✅ Notebook successfully updated.\")\n",
    "    return title, action, tags, author_name, author_url, description, imports, plugin, first_cell\n",
    "\n",
    "# notebook_path = \"OpenAI/OpenAI_Act_as_a_CEO.ipynb\"\n",
    "# # notebook_path = \"ZIP/ZIP_Extract_files.ipynb\"\n",
    "# title, action, tags, author_name, author_url, description, imports, plugin, first_cell = get_notebook_info(notebook_path)\n",
    "# print(\"- Title:\", title)\n",
    "# print(\"- Action:\", action)\n",
    "# print(\"- Tags:\", tags)\n",
    "# print(\"- Author:\", author_name)\n",
    "# print(\"- Author URL:\", author_url)\n",
    "# print(\"- Description:\", description)\n",
    "# print(\"- Imports:\", imports)\n",
    "# print(\"- Plugin:\", plugin)\n",
    "# print(\"- First cell:\", first_cell)"
   ]
  },
  {
   "cell_type": "markdown",
   "id": "cfcd4270-bdc8-4f1e-8e63-2c0bbc41a137",
   "metadata": {},
   "source": [
    "#### Create title cell function"
   ]
  },
  {
   "cell_type": "code",
   "execution_count": null,
   "id": "9f21cfbb-2bcc-4bca-81a4-fad14b081371",
   "metadata": {
    "execution": {
     "iopub.execute_input": "2023-06-26T11:11:03.484176Z",
     "iopub.status.busy": "2023-06-26T11:11:03.483958Z",
     "iopub.status.idle": "2023-06-26T11:11:03.490313Z",
     "shell.execute_reply": "2023-06-26T11:11:03.489667Z"
    },
    "tags": []
   },
   "outputs": [],
   "source": [
    "def create_title_cell(\n",
    "    tool,\n",
    "    title,\n",
    "    open_in_lab,\n",
    "    naas_lab_logo,\n",
    "    open_in_chat,\n",
    "    naas_chat_logo,\n",
    "    template_request,\n",
    "    bug_report,\n",
    "    naas_lab_url,\n",
    "    start_data_product,\n",
    "):\n",
    "    # Init\n",
    "    title_cell_source = \"\"\n",
    "    notebook_title = ''\n",
    "    open_in_lab_url = ''\n",
    "    open_in_chat_url = ''\n",
    "    template_request_url = ''\n",
    "    bug_report_url = ''\n",
    "    generate_data_product_url = ''\n",
    "    \n",
    "    # Create notebook title\n",
    "    notebook_title = f\"# {tool} - {title}\\n\" # Jupyter Notebooks - Get libraries\n",
    "    \n",
    "    # Create logos\n",
    "    if open_in_lab != \"\":\n",
    "        open_in_lab_url = f\"\"\"<a href=\"{open_in_lab}\" target=\"_parent\"><img src=\"{naas_lab_logo}\"/></a>\"\"\"\n",
    "    if open_in_chat != \"\":\n",
    "        open_in_chat_url = f\"\"\"  <a href=\"{open_in_chat}\" target=\"_parent\"><img src=\"{naas_chat_logo}\"/></a>\"\"\"\n",
    "        \n",
    "    # Hyperlinks\n",
    "    template_request_url = f\"\"\"<a href=\"{template_request}\">Template request</a>\"\"\"\n",
    "    \n",
    "    title_url = (f\"{tool}+-+{title}\").replace(\" \", \"+\")\n",
    "    bug_report_url = f\"\"\"<a href=\"{bug_report}{title_url}:+Error+short+description\">Bug report</a>\"\"\"\n",
    "    \n",
    "    start_data_product_url = f\"{naas_lab_url}{start_data_product}\"\n",
    "    generate_data_product_url = f\"\"\"<a href=\"{start_data_product_url}\" target=\"_parent\">Generate Data Product</a>\"\"\"\n",
    "    \n",
    "    # Title cell source\n",
    "    title_cell_source = f\"\"\"{notebook_title}{open_in_lab_url}{open_in_chat_url}<br><br>{template_request_url} | {bug_report_url} | {generate_data_product_url}\"\"\"\n",
    "    \n",
    "    # Display open button\n",
    "#     markdown.display(title_cell_source)\n",
    "    return title_cell_source\n",
    "\n",
    "# tool = \"OpenAI\"\n",
    "# raw_url = \"https://raw.githubusercontent.com/jupyter-naas/awesome-notebooks/master/OpenAI/OpenAI_Act_as_a_chef.ipynb\"\n",
    "# open_in_lab = f\"{naas_lab_url}{raw_url}\"\n",
    "# open_in_chat = \"\"\n",
    "# # Create Open in MyChatGPT URL\n",
    "# if plugin:\n",
    "#     open_in_chat = f\"{naas_chat_url}{raw_url}\"\n",
    "# create_title_cell(\n",
    "#     tool,\n",
    "#     title,\n",
    "#     open_in_lab,\n",
    "#     naas_lab_logo,\n",
    "#     open_in_chat,\n",
    "#     naas_chat_logo,\n",
    "#     template_request,\n",
    "#     bug_report,\n",
    "#     naas_lab_url,\n",
    "#     start_data_product,\n",
    "# )"
   ]
  },
  {
   "cell_type": "markdown",
   "id": "1d2b8a95-a9bd-4949-83de-f7b0995d86fe",
   "metadata": {},
   "source": [
    "#### Update title cell function"
   ]
  },
  {
   "cell_type": "code",
   "execution_count": null,
   "id": "94dcc3bd-07e2-48a3-bf81-a327e940a934",
   "metadata": {
    "execution": {
     "iopub.execute_input": "2023-06-26T11:11:03.493318Z",
     "iopub.status.busy": "2023-06-26T11:11:03.492935Z",
     "iopub.status.idle": "2023-06-26T11:11:03.496841Z",
     "shell.execute_reply": "2023-06-26T11:11:03.496232Z"
    },
    "tags": []
   },
   "outputs": [],
   "source": [
    "def update_title_cell(\n",
    "    notebook_path,\n",
    "    title_cell\n",
    "):\n",
    "    # Get notebook\n",
    "    nb = load_notebook_node(notebook_path)\n",
    "    nb = copy.deepcopy(nb)\n",
    "    \n",
    "    # Update title\n",
    "    nb.cells[1].source = title_cell\n",
    "    \n",
    "    # Set the good title format in the notebook\n",
    "    write_ipynb(nb, notebook_path)\n",
    "    \n",
    "# notebook_path = \"Data.gouv.fr/COVID19 -  FR - Entrées et sorties par région pour 1 million d'hab..ipynb\"\n",
    "# title_cell = \"\"\n",
    "# update_title_cell(notebook_path, title_cell)"
   ]
  },
  {
   "cell_type": "markdown",
   "id": "featured-anchor",
   "metadata": {},
   "source": [
    "#### Loop on notebooks to apply functions"
   ]
  },
  {
   "cell_type": "code",
   "execution_count": null,
   "id": "e45fc17e-ba5a-4317-92b3-f6de4c1a0bde",
   "metadata": {
    "execution": {
     "iopub.execute_input": "2023-06-26T11:11:03.499928Z",
     "iopub.status.busy": "2023-06-26T11:11:03.499543Z",
     "iopub.status.idle": "2023-06-26T11:11:05.552041Z",
     "shell.execute_reply": "2023-06-26T11:11:05.551465Z"
    },
    "tags": []
   },
   "outputs": [],
   "source": [
    "generated_list = \"\"\n",
    "json_templates = []\n",
    "folder = None\n",
    "\n",
    "for row in df_notebooks.itertuples():\n",
    "    notebook_path = row.notebook_path\n",
    "    print(notebook_path)\n",
    "    tool = row.tool\n",
    "    raw_url = row.raw_url\n",
    "    html_url = row.html_url\n",
    "    open_in_lab = f\"{naas_lab_url}{raw_url}\"\n",
    "    open_in_chat = \"\"\n",
    "    \n",
    "    # Get data from notebook\n",
    "    title, action, tags, author_name, author_url, description, imports, plugin, title_cell = get_notebook_info(notebook_path)\n",
    "    \n",
    "    # Create Open in MyChatGPT URL\n",
    "    if plugin:\n",
    "        open_in_chat = f\"{naas_chat_url}{raw_url}\"\n",
    "        \n",
    "    # Create OpenButton\n",
    "    new_title_cell = create_title_cell(\n",
    "        tool,\n",
    "        title,\n",
    "        open_in_lab,\n",
    "        naas_lab_logo,\n",
    "        open_in_chat,\n",
    "        naas_chat_logo,\n",
    "        template_request,\n",
    "        bug_report,\n",
    "        naas_lab_url,\n",
    "        start_data_product,\n",
    "    )\n",
    "\n",
    "    # Update OpenButton in notebook\n",
    "    if title_cell != new_title_cell:\n",
    "        print(\"⚠️ Title cell to to be updated:\", notebook_path)\n",
    "        update_title_cell(\n",
    "            notebook_path,\n",
    "            new_title_cell\n",
    "        )\n",
    "        print(\"✅ Title cell successfully updated\")\n",
    "\n",
    "    # Update json\n",
    "    new_json = {\n",
    "        'objectID': encode_notebook_name(notebook_path),\n",
    "        'tool': tool,\n",
    "        'notebook': title,\n",
    "        'action': action,\n",
    "        'tags': tags,\n",
    "        'author': author_name,\n",
    "        'author_url': author_url,\n",
    "        'description':  description,\n",
    "        \"open_in_lab\": open_in_lab,\n",
    "        \"open_in_chat\": open_in_chat,\n",
    "        \"notebook_url\": html_url,\n",
    "        \"imports\": imports,\n",
    "        \"updated_at\": \"\",\n",
    "        \"image_url\": \"\",\n",
    "    }\n",
    "    json_templates.append(new_json)\n",
    "    \n",
    "    # Create markdwon\n",
    "    new_folder = row.tool\n",
    "    if new_folder != folder:\n",
    "        generated_list += f\"\\n## {new_folder}\\n\"\n",
    "        folder = new_folder\n",
    "    nb_redirect = f\"* [{title}]({html_url})\\n\"\n",
    "    generated_list += nb_redirect"
   ]
  },
  {
   "cell_type": "markdown",
   "id": "f5d63b5f-5209-4f89-8d1c-d85fa8a2b73f",
   "metadata": {},
   "source": [
    "## Output"
   ]
  },
  {
   "cell_type": "markdown",
   "id": "88e075a7-8341-45af-a250-c1594c004579",
   "metadata": {},
   "source": [
    "### Generate README.md"
   ]
  },
  {
   "cell_type": "code",
   "execution_count": null,
   "id": "younger-consensus",
   "metadata": {
    "execution": {
     "iopub.execute_input": "2023-06-26T11:11:05.555342Z",
     "iopub.status.busy": "2023-06-26T11:11:05.554661Z",
     "iopub.status.idle": "2023-06-26T11:11:05.562052Z",
     "shell.execute_reply": "2023-06-26T11:11:05.561436Z"
    },
    "tags": []
   },
   "outputs": [],
   "source": [
    "# Open README template\n",
    "template = open(readme_template).read()\n",
    "\n",
    "# Replace var to get list of templates in markdown format\n",
    "template = template.replace(\"[[DYNAMIC_LIST]]\", generated_list)\n",
    "\n",
    "# Save README\n",
    "f  = open(readme, \"w+\")\n",
    "f.write(template)\n",
    "f.close()\n",
    "print(\"✅ README updated\")\n",
    "# markdown.display(generated_list)"
   ]
  },
  {
   "cell_type": "markdown",
   "id": "de15f85e-5b64-4e51-a73b-b666fe319e97",
   "metadata": {},
   "source": [
    "### Generate json for naas manager & naas search"
   ]
  },
  {
   "cell_type": "code",
   "execution_count": null,
   "id": "2a95cba3-027c-4a57-8bfa-2ee1e9053bb7",
   "metadata": {
    "execution": {
     "iopub.execute_input": "2023-06-26T11:11:05.565490Z",
     "iopub.status.busy": "2023-06-26T11:11:05.565067Z",
     "iopub.status.idle": "2023-06-26T11:11:05.591326Z",
     "shell.execute_reply": "2023-06-26T11:11:05.590609Z"
    },
    "tags": []
   },
   "outputs": [],
   "source": [
    "with open(json_file, 'w') as f:\n",
    "    json.dump(json_templates, f)\n",
    "print(\"✅ JSON file updated\", len(json_templates))\n",
    "# pprint(json_templates[0])"
   ]
  },
  {
   "cell_type": "code",
   "execution_count": null,
   "id": "70db7c84-57ad-4a92-a60b-9f20b60b5329",
   "metadata": {},
   "outputs": [],
   "source": []
  }
 ],
 "metadata": {
  "interpreter": {
   "hash": "e7370f93d1d0cde622a1f8e1c04877d8463912d04d973331ad4851f04de6915a"
  },
  "kernelspec": {
   "display_name": "Python 3",
   "language": "python",
   "name": "python3"
  },
  "language_info": {
   "codemirror_mode": {
    "name": "ipython",
    "version": 3
   },
   "file_extension": ".py",
   "mimetype": "text/x-python",
   "name": "python",
   "nbconvert_exporter": "python",
   "pygments_lexer": "ipython3",
   "version": "3.9.17"
  },
  "widgets": {
   "application/vnd.jupyter.widget-state+json": {
    "state": {},
    "version_major": 2,
    "version_minor": 0
   }
  }
 },
 "nbformat": 4,
 "nbformat_minor": 5
}
