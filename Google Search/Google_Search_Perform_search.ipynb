{
 "cells": [
  {
   "cell_type": "markdown",
   "id": "derived-intention",
   "metadata": {
    "papermill": {},
    "tags": []
   },
   "source": [
    "<img width=\"10%\" alt=\"Naas\" src=\"https://landen.imgix.net/jtci2pxwjczr/assets/5ice39g4.png?w=160\"/>"
   ]
  },
  {
   "cell_type": "markdown",
   "id": "broad-biotechnology",
   "metadata": {
    "papermill": {},
    "tags": []
   },
   "source": [
    "# Google Search - Perform search\n",
    "<a href=\"https://app.naas.ai/user-redirect/naas/downloader?url=https://raw.githubusercontent.com/jupyter-naas/awesome-notebooks/master/Google%20Search/Google_Search_Perform_search.ipynb\" target=\"_parent\"><img src=\"https://naasai-public.s3.eu-west-3.amazonaws.com/Open_in_Naas_Lab.svg\"/></a><br><br><a href=\"https://github.com/jupyter-naas/awesome-notebooks/issues/new?assignees=&labels=&template=template-request.md&title=Tool+-+Action+of+the+notebook+\">Template request</a> | <a href=\"https://github.com/jupyter-naas/awesome-notebooks/issues/new?assignees=&labels=bug&template=bug_report.md&title=Google+Search+-+Perform+search:+Error+short+description\">Bug report</a> | <a href=\"https://app.naas.ai/user-redirect/naas/downloader?url=https://raw.githubusercontent.com/jupyter-naas/awesome-notebooks/master/Naas/Naas_Start_data_product.ipynb\" target=\"_parent\">Generate Data Product</a>"
   ]
  },
  {
   "cell_type": "markdown",
   "id": "tags_cell",
   "metadata": {
    "papermill": {},
    "tags": []
   },
   "source": [
    "**Tags:** #googlesearch #snippet #operations #url"
   ]
  },
  {
   "cell_type": "markdown",
   "id": "naas-author",
   "metadata": {
    "papermill": {},
    "tags": [
     "naas"
    ]
   },
   "source": [
    "**Author:** [Jeremy Ravenel](https://www.linkedin.com/in/ACoAAAJHE7sB5OxuKHuzguZ9L6lfDHqw--cdnJg/)"
   ]
  },
  {
   "cell_type": "markdown",
   "id": "naas-description",
   "metadata": {
    "papermill": {},
    "tags": [
     "description"
    ]
   },
   "source": [
    "**Description:** This notebook allows users to perform Google searches quickly and easily."
   ]
  },
  {
   "cell_type": "markdown",
   "id": "input_cell",
   "metadata": {
    "papermill": {},
    "tags": []
   },
   "source": [
    "## Input"
   ]
  },
  {
   "cell_type": "markdown",
   "id": "7b426a4c-db44-4b15-867b-ef0d7f52c142",
   "metadata": {
    "papermill": {},
    "tags": []
   },
   "source": [
    "### Import library"
   ]
  },
  {
   "cell_type": "code",
   "execution_count": null,
   "id": "5db19a20-c212-47ac-9869-4f28a10e083f",
   "metadata": {
    "papermill": {},
    "tags": []
   },
   "outputs": [],
   "source": [
    "try:\n",
    "    from googlesearch import search\n",
    "except:\n",
    "    !pip install google\n",
    "    from googlesearch import search"
   ]
  },
  {
   "cell_type": "markdown",
   "id": "b205686b-b3d5-4a82-8209-6dc2c75f3f7d",
   "metadata": {
    "papermill": {},
    "tags": []
   },
   "source": [
    "### Variables"
   ]
  },
  {
   "cell_type": "code",
   "execution_count": null,
   "id": "a939647a-edc3-464f-9421-ef47fd477bae",
   "metadata": {
    "papermill": {},
    "tags": []
   },
   "outputs": [],
   "source": [
    "query = \"telsa\""
   ]
  },
  {
   "cell_type": "markdown",
   "id": "model_cell",
   "metadata": {
    "papermill": {},
    "tags": []
   },
   "source": [
    "## Model"
   ]
  },
  {
   "cell_type": "markdown",
   "id": "bound-inclusion",
   "metadata": {
    "papermill": {},
    "tags": []
   },
   "source": [
    "Parameters : \n",
    "\n",
    "- query: This is the text that you want to search for.\n",
    "\n",
    "- tld: This refers to the top level domain value like co.in or com which will specify which Google website we want to use.\n",
    "\n",
    "- lang: This parameter stands for language.\n",
    "\n",
    "- num: This is used to specify the number of results we want.\n",
    "\n",
    "- start: This is to specify from where to start the results. We should keep it 0 to begin from the very start.\n",
    "\n",
    "- stop: The last result to retrieve. Use None to keep searching forever.\n",
    "\n",
    "- pause: This parameter is used to specify the number of seconds to pause between consecutive HTTP requests because if we hit too many requests, Google can block our IP address.\n",
    "\n",
    "The above function will return a python generator (iterator) which has the search result URLs."
   ]
  },
  {
   "cell_type": "markdown",
   "id": "reduced-publicity",
   "metadata": {
    "papermill": {},
    "tags": []
   },
   "source": [
    "Source : https://www.studytonight.com/post/how-to-perform-google-search-using-python#"
   ]
  },
  {
   "cell_type": "markdown",
   "id": "output_cell",
   "metadata": {
    "papermill": {},
    "tags": []
   },
   "source": [
    "## Output"
   ]
  },
  {
   "cell_type": "markdown",
   "id": "1591816c-33c0-43bb-993a-dc4a2bb1cc65",
   "metadata": {
    "papermill": {},
    "tags": []
   },
   "source": [
    "### Display the result of the search"
   ]
  },
  {
   "cell_type": "code",
   "execution_count": null,
   "id": "cellular-wheat",
   "metadata": {
    "papermill": {},
    "tags": []
   },
   "outputs": [],
   "source": [
    "for i in search(query, tld=\"co.in\", num=30, stop=10, pause=2):\n",
    "    print(i)"
   ]
  }
 ],
 "metadata": {
  "kernelspec": {
   "display_name": "Python 3",
   "language": "python",
   "name": "python3"
  },
  "language_info": {
   "codemirror_mode": {
    "name": "ipython",
    "version": 3
   },
   "file_extension": ".py",
   "mimetype": "text/x-python",
   "name": "python",
   "nbconvert_exporter": "python",
   "pygments_lexer": "ipython3",
   "version": "3.9.6"
  },
  "naas": {
   "notebook_id": "2064667ee2f72eea060b675451e0aa7ce39cae50c52fce3ddd817440bfba9e21",
   "notebook_path": "Google Search/Google_Search_Perform_search.ipynb"
  },
  "papermill": {
   "default_parameters": {},
   "environment_variables": {},
   "parameters": {},
   "version": "2.3.3"
  }
 },
 "nbformat": 4,
 "nbformat_minor": 5
}