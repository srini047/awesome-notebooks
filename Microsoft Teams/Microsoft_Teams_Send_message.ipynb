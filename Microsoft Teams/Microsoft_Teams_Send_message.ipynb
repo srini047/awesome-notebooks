{
 "cells": [
  {
   "cell_type": "markdown",
   "id": "turned-earth",
   "metadata": {
    "papermill": {},
    "tags": []
   },
   "source": [
    "<img width=\"10%\" alt=\"Naas\" src=\"https://landen.imgix.net/jtci2pxwjczr/assets/5ice39g4.png?w=160\"/>"
   ]
  },
  {
   "cell_type": "markdown",
   "id": "consistent-scholar",
   "metadata": {
    "execution": {
     "iopub.execute_input": "2021-01-26T14:10:27.020371Z",
     "iopub.status.busy": "2021-01-26T14:10:27.020098Z",
     "iopub.status.idle": "2021-01-26T14:10:27.023428Z",
     "shell.execute_reply": "2021-01-26T14:10:27.022739Z",
     "shell.execute_reply.started": "2021-01-26T14:10:27.020304Z"
    },
    "papermill": {},
    "tags": []
   },
   "source": [
    "# Microsoft Teams - Send message\n",
    "<a href=\"https://app.naas.ai/user-redirect/naas/downloader?url=https://raw.githubusercontent.com/jupyter-naas/awesome-notebooks/master/Microsoft%20Teams/Microsoft_Teams_Send_message.ipynb\" target=\"_parent\"><img src=\"https://naasai-public.s3.eu-west-3.amazonaws.com/open_in_naas.svg\"/></a><br><br><a href=\"https://github.com/jupyter-naas/awesome-notebooks/issues/new?assignees=&labels=&template=template-request.md&title=Tool+-+Action+of+the+notebook+\">Template request</a> | <a href=\"https://github.com/jupyter-naas/awesome-notebooks/issues/new?assignees=&labels=bug&template=bug_report.md&title=Microsoft+Teams+-+Send+message:+Error+short+description\">Bug report</a>"
   ]
  },
  {
   "cell_type": "markdown",
   "id": "4ced3a2a-840b-4ca0-b184-dda55e422779",
   "metadata": {
    "papermill": {},
    "tags": []
   },
   "source": [
    "**Tags:** #microsoftteams #snippet #operations"
   ]
  },
  {
   "cell_type": "markdown",
   "id": "naas-author",
   "metadata": {
    "papermill": {},
    "tags": [
     "naas"
    ]
   },
   "source": [
    "**Author:** [Martin Donadieu](https://www.linkedin.com/in/martindonadieu/)"
   ]
  },
  {
   "cell_type": "markdown",
   "id": "naas-description",
   "metadata": {
    "papermill": {},
    "tags": [
     "description"
    ]
   },
   "source": [
    "**Description:** This notebook allows users to send messages through Microsoft Teams."
   ]
  },
  {
   "cell_type": "markdown",
   "id": "input_cell",
   "metadata": {
    "papermill": {},
    "tags": []
   },
   "source": [
    "## Input"
   ]
  },
  {
   "cell_type": "markdown",
   "id": "import_cell",
   "metadata": {
    "papermill": {},
    "tags": []
   },
   "source": [
    "### Import library"
   ]
  },
  {
   "cell_type": "code",
   "execution_count": 1,
   "id": "alpine-restaurant",
   "metadata": {
    "execution": {
     "iopub.execute_input": "2021-10-05T12:29:52.061848Z",
     "iopub.status.busy": "2021-10-05T12:29:52.061588Z",
     "iopub.status.idle": "2021-10-05T12:29:59.352297Z",
     "shell.execute_reply": "2021-10-05T12:29:59.351615Z",
     "shell.execute_reply.started": "2021-10-05T12:29:52.061783Z"
    },
    "papermill": {},
    "tags": []
   },
   "outputs": [],
   "source": [
    "from naas_drivers import teams"
   ]
  },
  {
   "cell_type": "markdown",
   "id": "sharing-match",
   "metadata": {
    "execution": {
     "iopub.execute_input": "2021-01-26T14:13:57.115792Z",
     "iopub.status.busy": "2021-01-26T14:13:57.115575Z",
     "iopub.status.idle": "2021-01-26T14:13:57.123461Z",
     "shell.execute_reply": "2021-01-26T14:13:57.122684Z",
     "shell.execute_reply.started": "2021-01-26T14:13:57.115768Z"
    },
    "papermill": {},
    "tags": []
   },
   "source": [
    "### Connect to your Teams\n",
    "[Click here to discover how to get your webhook](https://naas.gitbook.io/drivers/automation/teams)"
   ]
  },
  {
   "cell_type": "code",
   "execution_count": 11,
   "id": "polished-picture",
   "metadata": {
    "execution": {
     "iopub.execute_input": "2021-01-26T14:18:25.176008Z",
     "iopub.status.busy": "2021-01-26T14:18:25.175736Z",
     "iopub.status.idle": "2021-01-26T14:18:25.180401Z",
     "shell.execute_reply": "2021-01-26T14:18:25.179879Z",
     "shell.execute_reply.started": "2021-01-26T14:18:25.175982Z"
    },
    "papermill": {},
    "tags": []
   },
   "outputs": [],
   "source": [
    "webhook = \"https://forgr.webhook.office.com/webhookb2/83bcbd92-7095-48e9-bc59-60fb9f6dcf2e@da744f16-111c-41b2-899f-6332dfe22d16/IncomingWebhook/b3cf540a51d7465ca10bd85a61c10d92/c97dc097-a7ff-4123-865d-ac6482bcdac2\""
   ]
  },
  {
   "cell_type": "markdown",
   "id": "model_cell",
   "metadata": {
    "papermill": {},
    "tags": []
   },
   "source": [
    "## Model"
   ]
  },
  {
   "cell_type": "markdown",
   "id": "martial-breakfast",
   "metadata": {
    "execution": {
     "iopub.execute_input": "2021-01-26T14:12:31.462033Z",
     "iopub.status.busy": "2021-01-26T14:12:31.461804Z",
     "iopub.status.idle": "2021-01-26T14:12:31.464769Z",
     "shell.execute_reply": "2021-01-26T14:12:31.464098Z",
     "shell.execute_reply.started": "2021-01-26T14:12:31.462007Z"
    },
    "papermill": {},
    "tags": []
   },
   "source": [
    "### Set your message "
   ]
  },
  {
   "cell_type": "code",
   "execution_count": 12,
   "id": "thousand-painting",
   "metadata": {
    "execution": {
     "iopub.execute_input": "2021-01-26T14:18:25.835925Z",
     "iopub.status.busy": "2021-01-26T14:18:25.835657Z",
     "iopub.status.idle": "2021-01-26T14:18:25.838782Z",
     "shell.execute_reply": "2021-01-26T14:18:25.838160Z",
     "shell.execute_reply.started": "2021-01-26T14:18:25.835899Z"
    },
    "papermill": {},
    "tags": []
   },
   "outputs": [],
   "source": [
    "message = \"second test\"\n",
    "image_url = \"http://i.imgur.com/c4jt321l.png\"  # Set to None if you don't need it"
   ]
  },
  {
   "cell_type": "markdown",
   "id": "output_cell",
   "metadata": {
    "papermill": {},
    "tags": []
   },
   "source": [
    "## Output"
   ]
  },
  {
   "cell_type": "markdown",
   "id": "neutral-patrick",
   "metadata": {
    "papermill": {},
    "tags": []
   },
   "source": [
    "### Send it"
   ]
  },
  {
   "cell_type": "code",
   "execution_count": 13,
   "id": "seventh-catering",
   "metadata": {
    "execution": {
     "iopub.execute_input": "2021-01-26T14:18:36.588316Z",
     "iopub.status.busy": "2021-01-26T14:18:36.588092Z",
     "iopub.status.idle": "2021-01-26T14:18:37.292988Z",
     "shell.execute_reply": "2021-01-26T14:18:37.292283Z",
     "shell.execute_reply.started": "2021-01-26T14:18:36.588293Z"
    },
    "papermill": {},
    "tags": []
   },
   "outputs": [],
   "source": [
    "tm = teams.connect(webhook)\n",
    "tm.send(message, image=image_url)"
   ]
  }
 ],
 "metadata": {
  "kernelspec": {
   "display_name": "Python 3",
   "language": "python",
   "name": "python3"
  },
  "language_info": {
   "codemirror_mode": {
    "name": "ipython",
    "version": 3
   },
   "file_extension": ".py",
   "mimetype": "text/x-python",
   "name": "python",
   "nbconvert_exporter": "python",
   "pygments_lexer": "ipython3",
   "version": "3.9.6"
  },
  "naas": {
   "notebook_id": "36d2e909-2ede-4375-a52e-57b5fdac8298",
   "notebook_path": "Microsoft Teams/Microsoft_Teams_Send_message.ipynb"
  },
  "papermill": {
   "default_parameters": {},
   "environment_variables": {},
   "parameters": {},
   "version": "2.3.3"
  },
  "toc-autonumbering": false,
  "toc-showmarkdowntxt": false
 },
 "nbformat": 4,
 "nbformat_minor": 5
}