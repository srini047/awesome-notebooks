{
 "cells": [
  {
   "cell_type": "markdown",
   "id": "above-calvin",
   "metadata": {
    "papermill": {},
    "tags": []
   },
   "source": [
    "<img width=\"10%\" alt=\"Naas\" src=\"https://landen.imgix.net/jtci2pxwjczr/assets/5ice39g4.png?w=160\"/>"
   ]
  },
  {
   "cell_type": "markdown",
   "id": "professional-browse",
   "metadata": {
    "execution": {
     "iopub.execute_input": "2021-03-01T23:08:51.432231Z",
     "iopub.status.busy": "2021-03-01T23:08:51.431909Z",
     "iopub.status.idle": "2021-03-01T23:08:51.438164Z",
     "shell.execute_reply": "2021-03-01T23:08:51.437596Z",
     "shell.execute_reply.started": "2021-03-01T23:08:51.432154Z"
    },
    "papermill": {},
    "tags": []
   },
   "source": [
    "# Thinkific - Send users\n",
    "<a href=\"https://app.naas.ai/user-redirect/naas/downloader?url=https://raw.githubusercontent.com/jupyter-naas/awesome-notebooks/master/Thinkific/Thinkific_Send_users.ipynb\" target=\"_parent\"><img src=\"https://naasai-public.s3.eu-west-3.amazonaws.com/Open_in_Naas_Lab.svg\"/></a><br><br><a href=\"https://github.com/jupyter-naas/awesome-notebooks/issues/new?assignees=&labels=&template=template-request.md&title=Tool+-+Action+of+the+notebook+\">Template request</a> | <a href=\"https://github.com/jupyter-naas/awesome-notebooks/issues/new?assignees=&labels=bug&template=bug_report.md&title=Thinkific+-+Send+users:+Error+short+description\">Bug report</a> | <a href=\"https://app.naas.ai/user-redirect/naas/downloader?url=https://raw.githubusercontent.com/jupyter-naas/awesome-notebooks/master/Naas/Naas_Start_data_product.ipynb\" target=\"_parent\">Generate Data Product</a>"
   ]
  },
  {
   "cell_type": "markdown",
   "id": "44698e61-1ecb-449f-a6fa-e29b8b6f07ed",
   "metadata": {
    "papermill": {},
    "tags": []
   },
   "source": [
    "**Tags:** #thinkific #education #naas_drivers #operations #snippet"
   ]
  },
  {
   "cell_type": "markdown",
   "id": "8fbbd4c1-c137-42ac-a7f1-fc7e9c8603f7",
   "metadata": {
    "papermill": {},
    "tags": []
   },
   "source": [
    "**Author:** [Florent Ravenel](https://www.linkedin.com/in/florent-ravenel/)"
   ]
  },
  {
   "cell_type": "markdown",
   "id": "naas-description",
   "metadata": {
    "papermill": {},
    "tags": [
     "description"
    ]
   },
   "source": [
    "**Description:** This notebook allows you to send users automated emails from Thinkific."
   ]
  },
  {
   "cell_type": "markdown",
   "id": "input_cell",
   "metadata": {
    "papermill": {},
    "tags": []
   },
   "source": [
    "## Input"
   ]
  },
  {
   "cell_type": "markdown",
   "id": "import_cell",
   "metadata": {
    "papermill": {},
    "tags": []
   },
   "source": [
    "### Import library"
   ]
  },
  {
   "cell_type": "code",
   "execution_count": null,
   "id": "47483385-ed3d-465f-80c9-17a257f6f1d2",
   "metadata": {
    "papermill": {},
    "tags": []
   },
   "outputs": [],
   "source": [
    "from naas_drivers import thinkific"
   ]
  },
  {
   "cell_type": "markdown",
   "id": "ab3f5952-09fc-4463-895e-f89df9576c0d",
   "metadata": {
    "papermill": {},
    "tags": []
   },
   "source": [
    "### Variables"
   ]
  },
  {
   "cell_type": "code",
   "execution_count": null,
   "id": "035a2b63-050b-46d2-a66a-94fbd0bfbf23",
   "metadata": {
    "papermill": {},
    "tags": []
   },
   "outputs": [],
   "source": [
    "api_key = \"api_key\""
   ]
  },
  {
   "cell_type": "markdown",
   "id": "model_cell",
   "metadata": {
    "papermill": {},
    "tags": []
   },
   "source": [
    "## Model"
   ]
  },
  {
   "cell_type": "markdown",
   "id": "31017695-35ed-43a0-86e4-9a099c96c04d",
   "metadata": {
    "papermill": {},
    "tags": []
   },
   "source": [
    "### Connect to the API"
   ]
  },
  {
   "cell_type": "code",
   "execution_count": null,
   "id": "latter-revelation",
   "metadata": {
    "papermill": {},
    "tags": []
   },
   "outputs": [],
   "source": [
    "thinkific.connect(api_key)"
   ]
  },
  {
   "cell_type": "markdown",
   "id": "output_cell",
   "metadata": {
    "papermill": {},
    "tags": []
   },
   "source": [
    "## Output"
   ]
  },
  {
   "cell_type": "markdown",
   "id": "display_cell",
   "metadata": {
    "papermill": {},
    "tags": []
   },
   "source": [
    "### Send the user"
   ]
  },
  {
   "cell_type": "code",
   "execution_count": null,
   "id": "32a4c3a2-b11c-4698-ad53-6af4347579ec",
   "metadata": {
    "papermill": {},
    "tags": []
   },
   "outputs": [],
   "source": [
    "thinkific.users.send(email=\"bob@cashstory.com\")"
   ]
  }
 ],
 "metadata": {
  "kernelspec": {
   "display_name": "Python 3",
   "language": "python",
   "name": "python3"
  },
  "language_info": {
   "codemirror_mode": {
    "name": "ipython",
    "version": 3
   },
   "file_extension": ".py",
   "mimetype": "text/x-python",
   "name": "python",
   "nbconvert_exporter": "python",
   "pygments_lexer": "ipython3",
   "version": "3.8.8"
  },
  "naas": {
   "notebook_id": "5b7aab31600212c5c3c1ebe3bde329691ef5e075e26bfad83e30b96a27406539",
   "notebook_path": "Thinkific/Thinkific_Send_users.ipynb"
  },
  "papermill": {
   "default_parameters": {},
   "environment_variables": {},
   "parameters": {},
   "version": "2.3.3"
  }
 },
 "nbformat": 4,
 "nbformat_minor": 5
}