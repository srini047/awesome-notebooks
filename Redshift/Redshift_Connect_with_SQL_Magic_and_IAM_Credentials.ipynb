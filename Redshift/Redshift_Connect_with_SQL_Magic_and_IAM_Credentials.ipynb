{
 "cells": [
  {
   "cell_type": "markdown",
   "id": "according-klein",
   "metadata": {
    "execution": {
     "iopub.execute_input": "2021-06-16T23:22:07.178503Z",
     "iopub.status.busy": "2021-06-16T23:22:07.178215Z",
     "iopub.status.idle": "2021-06-16T23:22:07.189423Z",
     "shell.execute_reply": "2021-06-16T23:22:07.188478Z",
     "shell.execute_reply.started": "2021-06-16T23:22:07.178474Z"
    },
    "papermill": {},
    "tags": []
   },
   "source": [
    "<img width=\"10%\" alt=\"Naas\" src=\"https://landen.imgix.net/jtci2pxwjczr/assets/5ice39g4.png?w=160\"/>"
   ]
  },
  {
   "cell_type": "markdown",
   "id": "tamil-contribution",
   "metadata": {
    "papermill": {},
    "tags": []
   },
   "source": [
    "# Redshift - Connect with SQL Magic and IAM Credentials\n",
    "<a href=\"https://app.naas.ai/user-redirect/naas/downloader?url=https://raw.githubusercontent.com/jupyter-naas/awesome-notebooks/master/Redshift/Redshift_Connect_with_SQL_Magic_and_IAM_Credentials.ipynb\" target=\"_parent\"><img src=\"https://naasai-public.s3.eu-west-3.amazonaws.com/Open_in_Naas_Lab.svg\"/></a><br><br><a href=\"https://github.com/jupyter-naas/awesome-notebooks/issues/new?assignees=&labels=&template=template-request.md&title=Tool+-+Action+of+the+notebook+\">Template request</a> | <a href=\"https://github.com/jupyter-naas/awesome-notebooks/issues/new?assignees=&labels=bug&template=bug_report.md&title=Redshift+-+Connect+with+SQL+Magic+and+IAM+Credentials:+Error+short+description\">Bug report</a> | <a href=\"https://app.naas.ai/user-redirect/naas/downloader?url=https://raw.githubusercontent.com/jupyter-naas/awesome-notebooks/master/Naas/Naas_Start_data_product.ipynb\" target=\"_parent\">Generate Data Product</a>"
   ]
  },
  {
   "cell_type": "markdown",
   "id": "87292d72-067a-45ef-85d7-3c28baf7afee",
   "metadata": {
    "papermill": {},
    "tags": []
   },
   "source": [
    "**Tags:** #redshift #database #snippet #operations #naas #jupyternotebooks"
   ]
  },
  {
   "cell_type": "markdown",
   "id": "naas-author",
   "metadata": {
    "papermill": {},
    "tags": [
     "naas"
    ]
   },
   "source": [
    "**Author:** [Caleb Keller](https://www.linkedin.com/in/calebmkeller/)"
   ]
  },
  {
   "cell_type": "markdown",
   "id": "atmospheric-capital",
   "metadata": {
    "papermill": {},
    "tags": []
   },
   "source": [
    "## Input\n",
    "\n",
    "- ipython-sql\n",
    "- boto3\n",
    "- psycopg2\n",
    "- sqlalchemy-redshift\n",
    "\n",
    "If you're running in NaaS, you can execute the below to install the necessary libraries."
   ]
  },
  {
   "cell_type": "code",
   "execution_count": null,
   "id": "documentary-afternoon",
   "metadata": {
    "papermill": {},
    "tags": []
   },
   "outputs": [],
   "source": [
    "!pip install -q ipython-sql boto3 psycopg2-binary sqlalchemy-redshift"
   ]
  },
  {
   "cell_type": "markdown",
   "id": "casual-large",
   "metadata": {
    "papermill": {},
    "tags": []
   },
   "source": [
    "When using the `ipython-sql` library of *SQL Magics* I like to put the `%reload_ext sql` at the top. This loads the extension if it isn't already loaded or reloads it. Reload instead of load helps it not error out if you so something like run all cells."
   ]
  },
  {
   "cell_type": "code",
   "execution_count": null,
   "id": "palestinian-trustee",
   "metadata": {
    "papermill": {},
    "tags": []
   },
   "outputs": [],
   "source": [
    "%reload_ext sql\n",
    "\n",
    "import boto3\n",
    "import psycopg2\n",
    "import getpass\n",
    "import pandas as pd\n",
    "from urllib import parse"
   ]
  },
  {
   "cell_type": "markdown",
   "id": "varied-receptor",
   "metadata": {
    "papermill": {},
    "tags": []
   },
   "source": [
    "## Model\n",
    "\n",
    "The SQL Magic, powered by SQL ALchemy, needs the connection string in a specific format. The below function does several things:\n",
    "\n",
    "1. It takes in your AWS IAM credentials.\n",
    "2. It uses those credentials to get temporary database credentials.\n",
    "3. It creates a SQL alchemy connection string from those credentials.\n"
   ]
  },
  {
   "cell_type": "code",
   "execution_count": null,
   "id": "incomplete-haiti",
   "metadata": {
    "papermill": {},
    "tags": []
   },
   "outputs": [],
   "source": [
    "def rs_connect(dbname, dbhost, clusterid, dbport, dbuser, region_name=\"us-east-1\"):\n",
    "\n",
    "    \"\"\"Connect to redshift using AIM credentials\"\"\"\n",
    "    aaki = getpass.getpass(\"aws_access_key_id\")\n",
    "    asak = getpass.getpass(\"aws_secret_access_key\")\n",
    "    aws_session = boto3.session.Session(\n",
    "        aws_access_key_id=aaki, aws_secret_access_key=asak, region_name=region_name\n",
    "    )\n",
    "    aaki = \"\"\n",
    "    asak = \"\"\n",
    "\n",
    "    aws_rs = aws_session.client(\"redshift\")\n",
    "    response = aws_rs.get_cluster_credentials(\n",
    "        DbUser=dbuser, DbName=dbname, ClusterIdentifier=clusterid, AutoCreate=False\n",
    "    )\n",
    "\n",
    "    \"\"\" Convert those credentials into Database user credentials \"\"\"\n",
    "    dbuser = response[\"DbUser\"]\n",
    "    dbpwd = response[\"DbPassword\"]\n",
    "\n",
    "    \"\"\" Generate the SQLAlchemy Connection string \"\"\"\n",
    "    connectionString = \"redshift+psycopg2://{username}:{password}@{host}:{port}/{db}?sslmode=prefer\".format(\n",
    "        username=parse.quote_plus(dbuser),\n",
    "        password=parse.quote_plus(dbpwd),\n",
    "        host=dbhost,\n",
    "        port=dbport,\n",
    "        db=dbname,\n",
    "    )\n",
    "\n",
    "    dbuser = None\n",
    "    dbpwd = None\n",
    "    conn_str = None\n",
    "    response = None\n",
    "\n",
    "    return connectionString"
   ]
  },
  {
   "cell_type": "markdown",
   "id": "respiratory-basement",
   "metadata": {
    "papermill": {},
    "tags": []
   },
   "source": [
    "## Output\n",
    "\n",
    "Run the below and replace the parameters with your own server's information."
   ]
  },
  {
   "cell_type": "code",
   "execution_count": null,
   "id": "average-arabic",
   "metadata": {
    "papermill": {},
    "tags": []
   },
   "outputs": [],
   "source": [
    "connectionString = rs_connect(\n",
    "    \"database_name\", \"host\", \"cluster_id\", 5439, \"database_user\"\n",
    ")"
   ]
  },
  {
   "cell_type": "code",
   "execution_count": null,
   "id": "nervous-lecture",
   "metadata": {
    "papermill": {},
    "tags": []
   },
   "outputs": [],
   "source": [
    "%sql $connectionString"
   ]
  },
  {
   "cell_type": "code",
   "execution_count": null,
   "id": "engaged-smart",
   "metadata": {
    "papermill": {},
    "tags": []
   },
   "outputs": [],
   "source": [
    "%%sql\n",
    "\n",
    "select\n",
    "    your,\n",
    "    sql,\n",
    "    goes,\n",
    "    here\n",
    "from\n",
    "  your.brain"
   ]
  },
  {
   "cell_type": "markdown",
   "id": "sitting-belief",
   "metadata": {
    "papermill": {},
    "tags": []
   },
   "source": [
    "\n",
    "Article from the author here: <a href=\"https://calebmkeller.medium.com/jupyter-sql-magic-connection-to-redshift-using-iam-credentials-8a9c53ce29db\" _target=\"blank\">here</a>.\n",
    "\n",
    "For more on SQL magics read up on them with the below links:\n",
    " - https://towardsdatascience.com/jupyter-magics-with-sql-921370099589\n",
    " - https://blog.dominodatalab.com/lesser-known-ways-of-using-notebooks/"
   ]
  }
 ],
 "metadata": {
  "kernelspec": {
   "display_name": "Python 3",
   "language": "python",
   "name": "python3"
  },
  "language_info": {
   "codemirror_mode": {
    "name": "ipython",
    "version": 3
   },
   "file_extension": ".py",
   "mimetype": "text/x-python",
   "name": "python",
   "nbconvert_exporter": "python",
   "pygments_lexer": "ipython3",
   "version": "3.9.6"
  },
  "naas": {
   "notebook_id": "8812c328726e145037006c5dcb182640230ec58dcb57aec562289e838e3ae409",
   "notebook_path": "Redshift/Redshift_Connect_with_SQL_Magic_and_IAM_Credentials.ipynb"
  },
  "papermill": {
   "default_parameters": {},
   "environment_variables": {},
   "parameters": {},
   "version": "2.3.3"
  },
  "widgets": {
   "application/vnd.jupyter.widget-state+json": {
    "state": {},
    "version_major": 2,
    "version_minor": 0
   }
  }
 },
 "nbformat": 4,
 "nbformat_minor": 5
}