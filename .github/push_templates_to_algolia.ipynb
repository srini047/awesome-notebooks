{
 "cells": [
  {
   "attachments": {},
   "cell_type": "markdown",
   "id": "11d08c61-173e-4247-8a82-3893b9579c03",
   "metadata": {
    "papermill": {},
    "tags": []
   },
   "source": [
    "<img width=\"10%\" alt=\"Naas\" src=\"https://landen.imgix.net/jtci2pxwjczr/assets/5ice39g4.png?w=160\"/>"
   ]
  },
  {
   "attachments": {},
   "cell_type": "markdown",
   "id": "6a7dc56a-a769-4fcf-add5-fe7c6d976784",
   "metadata": {
    "papermill": {},
    "tags": []
   },
   "source": [
    "# Push templates to Algolia"
   ]
  },
  {
   "attachments": {},
   "cell_type": "markdown",
   "id": "554e5d73-9fd4-4e6c-9ff0-7758851faa90",
   "metadata": {
    "papermill": {},
    "tags": []
   },
   "source": [
    "## Input"
   ]
  },
  {
   "attachments": {},
   "cell_type": "markdown",
   "id": "7df6b816-2392-4301-855a-f49278e5837d",
   "metadata": {
    "papermill": {},
    "tags": []
   },
   "source": [
    "### Import libraries"
   ]
  },
  {
   "cell_type": "code",
   "execution_count": null,
   "id": "aa0e3e6f-1260-4452-8abf-7c084e26c8a4",
   "metadata": {
    "execution": {
     "iopub.execute_input": "2023-06-26T11:11:09.847176Z",
     "iopub.status.busy": "2023-06-26T11:11:09.846617Z",
     "iopub.status.idle": "2023-06-26T11:11:09.901233Z",
     "shell.execute_reply": "2023-06-26T11:11:09.900586Z"
    },
    "papermill": {},
    "tags": []
   },
   "outputs": [],
   "source": [
    "try:\n",
    "    from algoliasearch.search_client import SearchClient\n",
    "except:\n",
    "    !pip install algoliasearch --user\n",
    "    from algoliasearch.search_client import SearchClient\n",
    "import json\n",
    "import os"
   ]
  },
  {
   "attachments": {},
   "cell_type": "markdown",
   "id": "e1b7463d-b2ae-47ae-8ca4-97ae1fe801db",
   "metadata": {
    "papermill": {},
    "tags": []
   },
   "source": [
    "### Setup Variables\n",
    "- `file_name`: JSON file name\n",
    "- `app_id`: Algolia application ID. [Get your credentials](https://dashboard.algolia.com/account/api-keyss)\n",
    "- `api_key`: Algolia API key. [Get your credentials](https://dashboard.algolia.com/account/api-keys)\n",
    "- `index_name`: Algolia index name"
   ]
  },
  {
   "cell_type": "code",
   "execution_count": null,
   "id": "cfa97168-63eb-4e8c-89c3-0a5d26f47740",
   "metadata": {
    "execution": {
     "iopub.execute_input": "2023-06-26T11:11:09.904752Z",
     "iopub.status.busy": "2023-06-26T11:11:09.904316Z",
     "iopub.status.idle": "2023-06-26T11:11:09.907853Z",
     "shell.execute_reply": "2023-06-26T11:11:09.907210Z"
    },
    "papermill": {},
    "tags": []
   },
   "outputs": [],
   "source": [
    "# Inputs\n",
    "file_name = \"../templates.json\"\n",
    "app_id = os.environ.get('ALGOLIA_APP_ID')\n",
    "api_key = os.environ.get('ALGOLIA_API_KEY')\n",
    "\n",
    "# Outputs\n",
    "index_name = \"workspace-search\""
   ]
  },
  {
   "attachments": {},
   "cell_type": "markdown",
   "id": "8871707b-c02f-4800-ae8e-fd551aa0717f",
   "metadata": {
    "papermill": {},
    "tags": []
   },
   "source": [
    "## Model"
   ]
  },
  {
   "attachments": {},
   "cell_type": "markdown",
   "id": "64cdfd20-a279-4cf7-acf9-9af583e95c04",
   "metadata": {},
   "source": [
    "### Read json file"
   ]
  },
  {
   "cell_type": "code",
   "execution_count": null,
   "id": "7a9c86c2-931d-4113-abbc-31b3f517b6c4",
   "metadata": {
    "execution": {
     "iopub.execute_input": "2023-06-26T11:11:09.910921Z",
     "iopub.status.busy": "2023-06-26T11:11:09.910694Z",
     "iopub.status.idle": "2023-06-26T11:11:09.921452Z",
     "shell.execute_reply": "2023-06-26T11:11:09.920934Z"
    },
    "tags": []
   },
   "outputs": [],
   "source": [
    "def read_json_file(file_name):\n",
    "    with open(file_name) as json_file:\n",
    "        data = json.load(json_file)\n",
    "    return data\n",
    "\n",
    "data = read_json_file(file_name)\n",
    "print(\"Entries fetched:\", len(data))\n",
    "# print(data)"
   ]
  },
  {
   "attachments": {},
   "cell_type": "markdown",
   "id": "dfc29d71-db3a-4c28-a046-ca4333a42f64",
   "metadata": {
    "papermill": {},
    "tags": []
   },
   "source": [
    "### Get all records from Algolia index"
   ]
  },
  {
   "cell_type": "code",
   "execution_count": null,
   "id": "c50e96b2-4403-413c-a99a-9243be0c0a04",
   "metadata": {
    "execution": {
     "iopub.execute_input": "2023-06-26T11:11:09.924593Z",
     "iopub.status.busy": "2023-06-26T11:11:09.924383Z",
     "iopub.status.idle": "2023-06-26T11:11:10.671432Z",
     "shell.execute_reply": "2023-06-26T11:11:10.670776Z"
    },
    "tags": []
   },
   "outputs": [],
   "source": [
    "# Initialize the Algolia client\n",
    "client = SearchClient.create(app_id, api_key)\n",
    "\n",
    "# Initialize the Algolia index\n",
    "index = client.init_index(index_name)\n",
    "\n",
    "# Init\n",
    "records = []\n",
    "\n",
    "# Get all records as iterator\n",
    "for record in index.browse_objects():\n",
    "    records.append(record)\n",
    "    \n",
    "print(\"Records fetched:\", len(records))"
   ]
  },
  {
   "attachments": {},
   "cell_type": "markdown",
   "id": "88605bbe-4b30-4b3e-877c-ace2a00a0073",
   "metadata": {
    "papermill": {},
    "tags": []
   },
   "source": [
    "## Output"
   ]
  },
  {
   "attachments": {},
   "cell_type": "markdown",
   "id": "ff913e30-9034-4b56-8b60-aff8e769d81a",
   "metadata": {},
   "source": [
    "### Update records"
   ]
  },
  {
   "cell_type": "code",
   "execution_count": null,
   "id": "da661ba3-fd15-4abc-bd4f-d13ae77b82b0",
   "metadata": {
    "execution": {
     "iopub.execute_input": "2023-06-26T11:11:10.676429Z",
     "iopub.status.busy": "2023-06-26T11:11:10.675967Z",
     "iopub.status.idle": "2023-06-26T11:11:11.583738Z",
     "shell.execute_reply": "2023-06-26T11:11:11.583126Z"
    },
    "tags": []
   },
   "outputs": [],
   "source": [
    "index.save_objects(data)"
   ]
  },
  {
   "attachments": {},
   "cell_type": "markdown",
   "id": "2e68c026-77ac-4436-9cc4-b094e6119b9c",
   "metadata": {
    "papermill": {},
    "tags": []
   },
   "source": [
    "### Delete records"
   ]
  },
  {
   "cell_type": "code",
   "execution_count": null,
   "id": "f1482a8f-4ce5-4e04-93c8-ddd883375d67",
   "metadata": {
    "execution": {
     "iopub.execute_input": "2023-06-26T11:11:11.586687Z",
     "iopub.status.busy": "2023-06-26T11:11:11.586337Z",
     "iopub.status.idle": "2023-06-26T11:11:11.600400Z",
     "shell.execute_reply": "2023-06-26T11:11:11.599793Z"
    },
    "tags": []
   },
   "outputs": [],
   "source": [
    "object_ids = []\n",
    "json_objects_ids = [d.get(\"objectID\") for d in data]\n",
    "for r in records:\n",
    "    object_id = r.get(\"objectID\")\n",
    "    if object_id not in json_objects_ids:\n",
    "        object_ids.append(object_id)\n",
    "print(\"Records to be deleted:\", len(object_ids))\n",
    "index.delete_objects(object_ids)"
   ]
  }
 ],
 "metadata": {
  "kernelspec": {
   "display_name": "Python 3",
   "language": "python",
   "name": "python3"
  },
  "language_info": {
   "codemirror_mode": {
    "name": "ipython",
    "version": 3
   },
   "file_extension": ".py",
   "mimetype": "text/x-python",
   "name": "python",
   "nbconvert_exporter": "python",
   "pygments_lexer": "ipython3",
   "version": "3.9.17"
  },
  "widgets": {
   "application/vnd.jupyter.widget-state+json": {
    "state": {},
    "version_major": 2,
    "version_minor": 0
   }
  }
 },
 "nbformat": 4,
 "nbformat_minor": 5
}
