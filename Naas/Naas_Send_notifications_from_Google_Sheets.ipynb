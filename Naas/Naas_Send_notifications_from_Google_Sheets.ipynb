{
 "cells": [
  {
   "cell_type": "markdown",
   "id": "material-creation",
   "metadata": {
    "papermill": {},
    "tags": []
   },
   "source": [
    "<img width=\"10%\" alt=\"Naas\" src=\"https://landen.imgix.net/jtci2pxwjczr/assets/5ice39g4.png?w=160\"/>"
   ]
  },
  {
   "cell_type": "markdown",
   "id": "negative-baking",
   "metadata": {
    "papermill": {},
    "tags": []
   },
   "source": [
    "# Naas - Send notifications from Google Sheets\n",
    "<a href=\"https://app.naas.ai/user-redirect/naas/downloader?url=https://raw.githubusercontent.com/jupyter-naas/awesome-notebooks/master/Naas/Naas_Send_notifications_from_Google_Sheets.ipynb\" target=\"_parent\"><img src=\"https://naasai-public.s3.eu-west-3.amazonaws.com/Open_in_Naas_Lab.svg\"/></a><br><br><a href=\"https://github.com/jupyter-naas/awesome-notebooks/issues/new?assignees=&labels=&template=template-request.md&title=Tool+-+Action+of+the+notebook+\">Template request</a> | <a href=\"https://github.com/jupyter-naas/awesome-notebooks/issues/new?assignees=&labels=bug&template=bug_report.md&title=Naas+-+Send+notifications+from+Google+Sheets:+Error+short+description\">Bug report</a> | <a href=\"https://app.naas.ai/user-redirect/naas/downloader?url=https://raw.githubusercontent.com/jupyter-naas/awesome-notebooks/master/Naas/Naas_Start_data_product.ipynb\" target=\"_parent\">Generate Data Product</a>"
   ]
  },
  {
   "cell_type": "markdown",
   "id": "tags_cell",
   "metadata": {
    "papermill": {},
    "tags": []
   },
   "source": [
    "**Tags:** #naas #productivity #gsheet #naas_drivers #operations #snippet #email"
   ]
  },
  {
   "cell_type": "markdown",
   "id": "9c601883-7833-47a9-aad7-a445ad99bff2",
   "metadata": {
    "papermill": {},
    "tags": []
   },
   "source": [
    "**Author:** [Jeremy Ravenel](https://www.linkedin.com/in/ACoAAAJHE7sB5OxuKHuzguZ9L6lfDHqw--cdnJg/)"
   ]
  },
  {
   "cell_type": "markdown",
   "id": "naas-description",
   "metadata": {
    "papermill": {},
    "tags": [
     "description"
    ]
   },
   "source": [
    "**Description:** This notebook allows users to send emails from a Google Sheets spreadsheet."
   ]
  },
  {
   "cell_type": "markdown",
   "id": "input_cell",
   "metadata": {
    "papermill": {},
    "tags": []
   },
   "source": [
    "## Input"
   ]
  },
  {
   "cell_type": "markdown",
   "id": "understanding-allergy",
   "metadata": {
    "papermill": {},
    "tags": []
   },
   "source": [
    "### Import libraries"
   ]
  },
  {
   "cell_type": "code",
   "execution_count": null,
   "id": "civic-academy",
   "metadata": {
    "papermill": {},
    "tags": []
   },
   "outputs": [],
   "source": [
    "import naas_drivers\n",
    "from naas_drivers import gsheet, emailbuilder, naasauth\n",
    "import naas"
   ]
  },
  {
   "cell_type": "markdown",
   "id": "475a0427-cb72-43ab-957b-69e50efa46ae",
   "metadata": {
    "papermill": {},
    "tags": []
   },
   "source": [
    "### Setup Variables\n",
    "Share your Google Sheets spreadsheet with our service account : 🔗 naas-share@naas-gsheets.iam.gserviceaccount.com\n",
    "- `spreadsheet_url`: This variable stores the URL of a spreadsheet.\n",
    "- `sheet_name`: This variable represents the name of a specific sheet within the spreadsheet.\n",
    "- `first_name_col`: This variable stores the name or identifier of a column in the spreadsheet. \n",
    "- `email_col`: This variable represents the name or identifier of another column in the spreadsheet.\n",
    "- `email_subject`: This variable stores the email subject."
   ]
  },
  {
   "cell_type": "code",
   "execution_count": null,
   "id": "bd107de2-69cd-4bd4-880e-5165310e584e",
   "metadata": {
    "papermill": {},
    "tags": []
   },
   "outputs": [],
   "source": [
    "spreadsheet_url = \"1swGTMX6d_N8-AVRueBEd8C0J6OlvO218iDSVMootWZk\"\n",
    "sheet_name = \"Sheet1\"\n",
    "first_name_col = \"FIRST NAME\"\n",
    "email_col = \"EMAIL\"\n",
    "email_subject = \"Merry Christmas & spread love for 2021 ❤️\""
   ]
  },
  {
   "cell_type": "markdown",
   "id": "model_cell",
   "metadata": {
    "papermill": {},
    "tags": []
   },
   "source": [
    "## Model"
   ]
  },
  {
   "cell_type": "markdown",
   "id": "8e978b02-e2e2-4476-a09c-8c1bb7589296",
   "metadata": {
    "papermill": {},
    "tags": []
   },
   "source": [
    "### Get data from Google Sheets spreadsheet"
   ]
  },
  {
   "cell_type": "code",
   "execution_count": null,
   "id": "0779a623-36df-4849-b0d2-53489c83a803",
   "metadata": {
    "papermill": {},
    "tags": []
   },
   "outputs": [],
   "source": [
    "df = naas_drivers.gsheet.connect(spreadsheet_url).get(sheet_name=sheet_name)\n",
    "print(\"Row fechted:\", len(df))\n",
    "df.head(1)"
   ]
  },
  {
   "cell_type": "markdown",
   "id": "suspended-steam",
   "metadata": {
    "papermill": {},
    "tags": []
   },
   "source": [
    "### Mail preview"
   ]
  },
  {
   "cell_type": "code",
   "execution_count": null,
   "id": "violent-customs",
   "metadata": {
    "papermill": {},
    "tags": []
   },
   "outputs": [],
   "source": [
    "email_content = naas_drivers.emailbuilder.generate(\n",
    "    display=\"iframe\",\n",
    "    title=\"🎅 Merry Christmas\",\n",
    "    heading= emailbuilder.heading(\"& Happy new year {first_name} 🍾\", text_align=\"center\"),\n",
    "    text_1=emailbuilder.text(\"Even if 2020 has been extremely difficult year, let's make 2021 better!\"),\n",
    "    text_2=emailbuilder.text(\"Keep smiling,\"),\n",
    "    text_3=emailbuilder.text(\"Keep laughing,\"),\n",
    "    text_4=emailbuilder.text(\"Spread love ❤️\"),\n",
    ")"
   ]
  },
  {
   "cell_type": "markdown",
   "id": "output_cell",
   "metadata": {
    "papermill": {},
    "tags": []
   },
   "source": [
    "## Output"
   ]
  },
  {
   "cell_type": "markdown",
   "id": "classical-composer",
   "metadata": {
    "papermill": {},
    "tags": []
   },
   "source": [
    "### Sending emails"
   ]
  },
  {
   "cell_type": "code",
   "execution_count": null,
   "id": "synthetic-anderson",
   "metadata": {
    "papermill": {},
    "tags": []
   },
   "outputs": [],
   "source": [
    "firstname_list = data[first_name_col]\n",
    "email_list = data[email_col]\n",
    "\n",
    "for i in range(len(data)):\n",
    "    content = email_content.replace(\"{first_name}\", firstname_list[i])\n",
    "    naas.notifications.send(\n",
    "        email_to=email_list[i],\n",
    "        subject=email_subject,\n",
    "        html=content,\n",
    "        email_from=naasauth.connect().user.me().get(\"username\")\n",
    "    )"
   ]
  }
 ],
 "metadata": {
  "kernelspec": {
   "display_name": "Python 3",
   "language": "python",
   "name": "python3"
  },
  "language_info": {
   "codemirror_mode": {
    "name": "ipython",
    "version": 3
   },
   "file_extension": ".py",
   "mimetype": "text/x-python",
   "name": "python",
   "nbconvert_exporter": "python",
   "pygments_lexer": "ipython3",
   "version": "3.9.6"
  },
  "naas": {
   "notebook_id": "551be4f36d8e50ce4395892079f25ea4f86bc3f5057eb9c3b85f5664ed741aef",
   "notebook_path": "Naas/Naas_Send_notifications_from_Google_Sheets.ipynb"
  },
  "papermill": {
   "default_parameters": {},
   "environment_variables": {},
   "parameters": {},
   "version": "2.3.3"
  }
 },
 "nbformat": 4,
 "nbformat_minor": 5
}