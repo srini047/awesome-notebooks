{
 "cells": [
  {
   "cell_type": "markdown",
   "id": "latin-packing",
   "metadata": {
    "execution": {
     "iopub.execute_input": "2021-02-23T14:22:16.610471Z",
     "iopub.status.busy": "2021-02-23T14:22:16.610129Z",
     "iopub.status.idle": "2021-02-23T14:22:16.627784Z",
     "shell.execute_reply": "2021-02-23T14:22:16.626866Z",
     "shell.execute_reply.started": "2021-02-23T14:22:16.610384Z"
    },
    "papermill": {},
    "tags": []
   },
   "source": [
    "<img width=\"10%\" alt=\"Naas\" src=\"https://landen.imgix.net/jtci2pxwjczr/assets/5ice39g4.png?w=160\"/>"
   ]
  },
  {
   "cell_type": "markdown",
   "id": "compressed-wilson",
   "metadata": {
    "papermill": {},
    "tags": []
   },
   "source": [
    "# Naas - Create Kernel\n",
    "<a href=\"https://app.naas.ai/user-redirect/naas/downloader?url=https://raw.githubusercontent.com/jupyter-naas/awesome-notebooks/master/Naas/Naas_Create_Kernel.ipynb\" target=\"_parent\"><img src=\"https://naasai-public.s3.eu-west-3.amazonaws.com/Open_in_Naas_Lab.svg\"/></a><br><br><a href=\"https://github.com/jupyter-naas/awesome-notebooks/issues/new?assignees=&labels=&template=template-request.md&title=Tool+-+Action+of+the+notebook+\">Template request</a> | <a href=\"https://github.com/jupyter-naas/awesome-notebooks/issues/new?assignees=&labels=bug&template=bug_report.md&title=Naas+-+Create+Kernel:+Error+short+description\">Bug report</a> | <a href=\"https://app.naas.ai/user-redirect/naas/downloader?url=https://raw.githubusercontent.com/jupyter-naas/awesome-notebooks/master/Naas/Naas_Start_data_product.ipynb\" target=\"_parent\">Generate Data Product</a>"
   ]
  },
  {
   "cell_type": "markdown",
   "id": "religious-programmer",
   "metadata": {
    "papermill": {},
    "tags": []
   },
   "source": [
    "**Tags:** #naas #ipython #conda #kernel"
   ]
  },
  {
   "cell_type": "markdown",
   "id": "1fe9f56e-561c-4f52-aef8-b861c9462107",
   "metadata": {
    "papermill": {},
    "tags": []
   },
   "source": [
    "**Author:** [Maxime Jublou](https://www.linkedin.com/in/maximejublou)"
   ]
  },
  {
   "cell_type": "markdown",
   "id": "31ea7cdb-e10d-43fc-b026-f69249a59736",
   "metadata": {
    "papermill": {},
    "tags": []
   },
   "source": [
    "**Description:** This Jupyter Notebook will enable you to establish a new IPython Kernel that you can customize, allowing you to install any desired tools. This kernel, once created, can be selected to run your notebooks and can be used even in a production environment."
   ]
  },
  {
   "cell_type": "markdown",
   "id": "distinguished-truth",
   "metadata": {
    "papermill": {},
    "tags": []
   },
   "source": [
    "## Input"
   ]
  },
  {
   "cell_type": "markdown",
   "id": "numeric-mediterranean",
   "metadata": {
    "papermill": {},
    "tags": []
   },
   "source": [
    "### Parameters"
   ]
  },
  {
   "cell_type": "code",
   "execution_count": null,
   "id": "potential-surfing",
   "metadata": {
    "papermill": {},
    "tags": [
     "parameters"
    ]
   },
   "outputs": [],
   "source": [
    "KERNEL_NAME = \"my-new-kernel\"  # This is the name of the Kernel you want to create.\n",
    "\n",
    "# specify your requirements here.\n",
    "REQUIREMENTS = \"\"\"\n",
    "\n",
    "\"\"\""
   ]
  },
  {
   "cell_type": "markdown",
   "id": "registered-showcase",
   "metadata": {
    "papermill": {},
    "tags": []
   },
   "source": [
    "## Model"
   ]
  },
  {
   "cell_type": "markdown",
   "id": "374d859c-7903-42cb-92a2-e7fd5afd99a3",
   "metadata": {
    "papermill": {},
    "tags": []
   },
   "source": [
    "### Create script to create the kernel."
   ]
  },
  {
   "cell_type": "code",
   "execution_count": null,
   "id": "a4330858-3208-40e1-b48c-e7a71025ec33",
   "metadata": {
    "papermill": {},
    "tags": []
   },
   "outputs": [],
   "source": [
    "script = f\"\"\"#!/usr/bin/env bash\n",
    "\n",
    "# Make the script exit on error.\n",
    "set -e\n",
    "\n",
    "echo \"🛠️ Removing kernel and conda env if it already exists\"\n",
    "\n",
    "# Remove kernel and conda env if it already exists\n",
    "jupyter kernelspec remove -f {KERNEL_NAME} || true\n",
    "rm -rf /home/ftp/__naas_custom_kernels__/{KERNEL_NAME} || true\n",
    "\n",
    "echo \"✅ Cleaning done\"\n",
    "\n",
    "# Create directory that will store our kernels\n",
    "mkdir -p /home/ftp/__naas_custom_kernels__\n",
    "\n",
    "echo \"✅ '/home/ftp/__naas_custom_kernels__' directory created\"\n",
    "\n",
    "echo \"🛠️ Creating conda env\"\n",
    "\n",
    "# Create conda env\n",
    "conda create -p /home/ftp/__naas_custom_kernels__/{KERNEL_NAME} --yes\n",
    "\n",
    "echo \"✅ Conda env created\"\n",
    "\n",
    "# Init conda env with bash and load it\n",
    "conda init bash\n",
    "source /home/ftp/.bashrc\n",
    "conda activate /home/ftp/__naas_custom_kernels__/{KERNEL_NAME}\n",
    "\n",
    "echo \"✅ Conda env loaded\"\n",
    "\n",
    "echo \"🛠️ Installing ipykernel to the new conda env\"\n",
    "\n",
    "# Install ipykernel to be able to create a new kernel.\n",
    "conda install --yes -c anaconda ipykernel\n",
    "\n",
    "echo \"✅ ipykernel installed\"\n",
    "\n",
    "echo \"🛠️ Creating new kernel from conda env\"\n",
    "\n",
    "# Create the new kernel.\n",
    "python -m ipykernel install --name {KERNEL_NAME} --sys-prefix\n",
    "\n",
    "echo \"✅ Kernel created\"\n",
    "\n",
    "echo \"🛠️ Installing kernel into JupyterLab\" \n",
    "\n",
    "# Install newly created kernel.\n",
    "jupyter kernelspec install --user /home/ftp/__naas_custom_kernels__/{KERNEL_NAME}/share/jupyter/kernels/{KERNEL_NAME}\n",
    "\n",
    "echo \"✅ Kernel installed\"\n",
    "\n",
    "\"\"\"\n",
    "\n",
    "# Write script to filesystem.\n",
    "with open(\"kernel_create.sh\", \"w\") as f:\n",
    "    f.write(script)"
   ]
  },
  {
   "cell_type": "markdown",
   "id": "ce2942fd-d4d3-4222-8a46-031648c1757a",
   "metadata": {
    "papermill": {},
    "tags": []
   },
   "source": [
    "### Execute kernel_create.sh script"
   ]
  },
  {
   "cell_type": "code",
   "execution_count": null,
   "id": "3d5bc90e-c9de-499b-a9bc-effa9f9d44df",
   "metadata": {
    "papermill": {},
    "tags": []
   },
   "outputs": [],
   "source": [
    "%%time\n",
    "\n",
    "!bash ./kernel_create.sh"
   ]
  },
  {
   "cell_type": "markdown",
   "id": "0a49743d-1eb4-43b5-93b5-2f689a110201",
   "metadata": {
    "papermill": {},
    "tags": []
   },
   "source": [
    "<p style=\"background-color:coral;padding:10px;text-align:center;font-size:16px;\" >💡 This script usually takes around 10 minutes to complete, be patient.</p>"
   ]
  },
  {
   "cell_type": "markdown",
   "id": "tested-astrology",
   "metadata": {
    "papermill": {},
    "tags": []
   },
   "source": [
    "### Create script to install requirements into the new kernel"
   ]
  },
  {
   "cell_type": "code",
   "execution_count": null,
   "id": "crude-louisville",
   "metadata": {
    "papermill": {},
    "tags": []
   },
   "outputs": [],
   "source": [
    "install_requirements_script = f\"\"\"#!/usr/bin/env bash\n",
    "\n",
    "# Make the script exit on error.\n",
    "set -e\n",
    "\n",
    "source /home/ftp/.bashrc\n",
    "conda activate /home/ftp/__naas_custom_kernels__/{KERNEL_NAME}\n",
    "\n",
    "echo \"✅ Conda env activated\"\n",
    "\n",
    "pip install -r kernel_requirements.txt\n",
    "\n",
    "echo \"✅ Requirements installed in the kernel\"\n",
    "\"\"\"\n",
    "\n",
    "# Write script to filesystem.\n",
    "with open(\"install_requirements.sh\", \"w\") as f:\n",
    "    f.write(install_requirements_script)"
   ]
  },
  {
   "cell_type": "markdown",
   "id": "2f264e72-fff7-489f-9b87-3e34f9d4695b",
   "metadata": {
    "papermill": {},
    "tags": []
   },
   "source": [
    "### Write requirements to filesystem"
   ]
  },
  {
   "cell_type": "code",
   "execution_count": null,
   "id": "7f3a0316-2bef-4ad6-a242-8856ea52c6c3",
   "metadata": {
    "papermill": {},
    "tags": []
   },
   "outputs": [],
   "source": [
    "with open(\"kernel_requirements.txt\", \"w\") as f:\n",
    "    f.write(REQUIREMENTS)"
   ]
  },
  {
   "cell_type": "markdown",
   "id": "8efffcff-2ff4-40e3-83ac-61f1aa8eef84",
   "metadata": {
    "papermill": {},
    "tags": []
   },
   "source": [
    "### Install requirements"
   ]
  },
  {
   "cell_type": "code",
   "execution_count": null,
   "id": "5c1cd0ae-356d-4399-9408-a57ad1f43dd6",
   "metadata": {
    "papermill": {},
    "tags": []
   },
   "outputs": [],
   "source": [
    "%%time\n",
    "\n",
    "!bash ./install_requirements.sh"
   ]
  },
  {
   "cell_type": "markdown",
   "id": "86081cce-fa02-4460-adca-c72cbf5bfccf",
   "metadata": {
    "papermill": {},
    "tags": []
   },
   "source": [
    "<p style=\"background-color:coral;padding:10px;text-align:center;font-size:16px;\" >💡 This script can take a long time based on your requirements.</p>"
   ]
  },
  {
   "cell_type": "markdown",
   "id": "lonely-pacific",
   "metadata": {
    "execution": {
     "iopub.execute_input": "2021-07-02T23:32:10.789097Z",
     "iopub.status.busy": "2021-07-02T23:32:10.788829Z",
     "iopub.status.idle": "2021-07-02T23:32:10.796900Z",
     "shell.execute_reply": "2021-07-02T23:32:10.796358Z",
     "shell.execute_reply.started": "2021-07-02T23:32:10.789033Z"
    },
    "papermill": {},
    "tags": []
   },
   "source": [
    "## Output"
   ]
  },
  {
   "cell_type": "markdown",
   "id": "fc77c24f-ff4c-4046-bcde-b94fe61f5d9c",
   "metadata": {
    "papermill": {},
    "tags": []
   },
   "source": [
    "### Listing installed kernel"
   ]
  },
  {
   "cell_type": "code",
   "execution_count": null,
   "id": "52717a51-8837-49ac-b6a5-1c7c3ccf23cf",
   "metadata": {
    "papermill": {},
    "tags": []
   },
   "outputs": [],
   "source": [
    "kernels = !jupyter kernelspec list | awk '{ print $1 }'\n",
    "assert KERNEL_NAME in kernels\n",
    "print(f'✅ Kernel {KERNEL_NAME} created')"
   ]
  },
  {
   "cell_type": "markdown",
   "id": "c57795c2-75f3-40b0-a1a5-46f868d5b3b8",
   "metadata": {
    "papermill": {},
    "tags": []
   },
   "source": [
    "<p style=\"background-color:MediumSeaGreen;padding:10px;text-align:center;font-size:16px;\"> 🎉 Your new kernel is all set 👏</p>"
   ]
  }
 ],
 "metadata": {
  "kernelspec": {
   "display_name": "Python 3",
   "language": "python",
   "name": "python3"
  },
  "language_info": {
   "codemirror_mode": {
    "name": "ipython",
    "version": 3
   },
   "file_extension": ".py",
   "mimetype": "text/x-python",
   "name": "python",
   "nbconvert_exporter": "python",
   "pygments_lexer": "ipython3",
   "version": "3.9.6"
  },
  "naas": {
   "notebook_id": "55207a267c659be8a52dab480828d899bcb20c49f124060ea6c4a6f1d890531c",
   "notebook_path": "Naas/Naas_Create_Kernel.ipynb"
  },
  "papermill": {
   "default_parameters": {},
   "environment_variables": {},
   "parameters": {},
   "version": "2.3.3"
  },
  "widgets": {
   "application/vnd.jupyter.widget-state+json": {
    "state": {},
    "version_major": 2,
    "version_minor": 0
   }
  }
 },
 "nbformat": 4,
 "nbformat_minor": 5
}