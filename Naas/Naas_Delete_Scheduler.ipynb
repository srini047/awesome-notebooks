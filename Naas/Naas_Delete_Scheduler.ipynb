{
 "cells": [
  {
   "cell_type": "markdown",
   "id": "2cef10e8-a573-4aaf-99cd-ea641e0e2cd7",
   "metadata": {
    "papermill": {},
    "tags": []
   },
   "source": [
    "<img width=\"10%\" alt=\"Naas\" src=\"https://landen.imgix.net/jtci2pxwjczr/assets/5ice39g4.png?w=160\"/>"
   ]
  },
  {
   "cell_type": "markdown",
   "id": "497e762a-cb6b-44c0-96da-86658fbd03a2",
   "metadata": {
    "papermill": {},
    "tags": []
   },
   "source": [
    "# Naas - Delete Scheduler\n",
    "<a href=\"https://app.naas.ai/user-redirect/naas/downloader?url=https://raw.githubusercontent.com/jupyter-naas/awesome-notebooks/master/Naas/Naas_Delete_Scheduler.ipynb\" target=\"_parent\"><img src=\"https://naasai-public.s3.eu-west-3.amazonaws.com/open_in_naas.svg\"/></a><br><br><a href=\"https://github.com/jupyter-naas/awesome-notebooks/issues/new?assignees=&labels=&template=template-request.md&title=Tool+-+Action+of+the+notebook+\">Template request</a> | <a href=\"https://github.com/jupyter-naas/awesome-notebooks/issues/new?assignees=&labels=bug&template=bug_report.md&title=Naas+-+Delete+Scheduler:+Error+short+description\">Bug report</a>"
   ]
  },
  {
   "cell_type": "markdown",
   "id": "98655e6d-72ac-4a3f-b73b-60e3206694da",
   "metadata": {
    "papermill": {},
    "tags": []
   },
   "source": [
    "**Tags:** #naas #scheduler #snippet #operations"
   ]
  },
  {
   "cell_type": "markdown",
   "id": "e8767133-e4c4-4f55-8fd4-60351aa45979",
   "metadata": {
    "papermill": {},
    "tags": []
   },
   "source": [
    "**Author:** [Florent Ravenel](https://www.linkedin.com/in/florent-ravenel)"
   ]
  },
  {
   "cell_type": "markdown",
   "id": "78f1675e-056a-4913-b39f-058a4da749b6",
   "metadata": {
    "papermill": {},
    "tags": []
   },
   "source": [
    "**Description:** This notebook will show how to delete a naas scheduler."
   ]
  },
  {
   "cell_type": "markdown",
   "id": "99f44d62-3330-46ab-b5a0-fc7c2b8646be",
   "metadata": {
    "papermill": {},
    "tags": []
   },
   "source": [
    "**References:**\n",
    "- [Naas API Documentation](https://docs.naas.ai/)\n",
    "- [Naas Scheduler Documentation](https://docs.naas.ai/features/scheduler)"
   ]
  },
  {
   "cell_type": "markdown",
   "id": "c943e949-b0d9-4574-9042-070d85b980fc",
   "metadata": {
    "papermill": {},
    "tags": []
   },
   "source": [
    "## Input"
   ]
  },
  {
   "cell_type": "markdown",
   "id": "c433be63-b9a5-40d9-b571-57d416655787",
   "metadata": {
    "papermill": {},
    "tags": []
   },
   "source": [
    "### Import libraries"
   ]
  },
  {
   "cell_type": "code",
   "execution_count": null,
   "id": "cd738e31-7e51-49c3-9978-5483621792ca",
   "metadata": {
    "papermill": {},
    "tags": []
   },
   "outputs": [],
   "source": [
    "import naas"
   ]
  },
  {
   "cell_type": "markdown",
   "id": "0a7e97df-74d3-40dd-9b91-b7692e0b0a03",
   "metadata": {
    "papermill": {},
    "tags": []
   },
   "source": [
    "### Setup Variables\n",
    "- `path`: Go to your Naas manager, section \"Jobs\" and copy/paste the path of the scheduler you want to delete.\n",
    "\n",
    "If this notebook is not on your root folder, you need to set absolute path of your notebook starting with \"/home/ftp/\".   "
   ]
  },
  {
   "cell_type": "code",
   "execution_count": null,
   "id": "d7037708-2f67-49b1-9d40-4a0a3381ea19",
   "metadata": {
    "papermill": {},
    "tags": []
   },
   "outputs": [],
   "source": [
    "path = \"\""
   ]
  },
  {
   "cell_type": "markdown",
   "id": "0cd7c242-ce94-4ace-a65a-6ddcc8943ef0",
   "metadata": {
    "papermill": {},
    "tags": []
   },
   "source": [
    "## Model"
   ]
  },
  {
   "cell_type": "markdown",
   "id": "6f142f96-bbc6-47e7-a233-da93f6f7fbdb",
   "metadata": {
    "papermill": {},
    "tags": []
   },
   "source": [
    "### Delete Scheduler"
   ]
  },
  {
   "cell_type": "code",
   "execution_count": null,
   "id": "9183acc7-3649-41dc-becb-22ea3e42931a",
   "metadata": {
    "papermill": {},
    "tags": []
   },
   "outputs": [],
   "source": [
    "naas.scheduler.delete(path=path)"
   ]
  },
  {
   "cell_type": "markdown",
   "id": "241ee691-ce49-4b73-b90b-6d0c0e89aa16",
   "metadata": {
    "papermill": {},
    "tags": []
   },
   "source": [
    "## Output"
   ]
  },
  {
   "cell_type": "markdown",
   "id": "4c868416-2ad8-4c33-86dc-ea3587b6f235",
   "metadata": {
    "papermill": {},
    "tags": []
   },
   "source": [
    "### Display result"
   ]
  },
  {
   "cell_type": "code",
   "execution_count": null,
   "id": "d4014293-f616-4b73-b2ae-e475d7e48b2f",
   "metadata": {
    "papermill": {},
    "tags": []
   },
   "outputs": [],
   "source": [
    "print(\"🗑 Done! Your Scheduler has been remove from production.\")"
   ]
  },
  {
   "cell_type": "markdown",
   "id": "c7148382-aa9f-45da-81f0-c69376df74bf",
   "metadata": {
    "papermill": {},
    "tags": []
   },
   "source": [
    " "
   ]
  }
 ],
 "metadata": {
  "kernelspec": {
   "display_name": "Python 3",
   "language": "python",
   "name": "python3"
  },
  "language_info": {
   "codemirror_mode": {
    "name": "ipython",
    "version": 3
   },
   "file_extension": ".py",
   "mimetype": "text/x-python",
   "name": "python",
   "nbconvert_exporter": "python",
   "pygments_lexer": "ipython3",
   "version": "3.9.6"
  },
  "papermill": {
   "default_parameters": {},
   "environment_variables": {},
   "parameters": {},
   "version": "2.4.0"
  },
  "widgets": {
   "application/vnd.jupyter.widget-state+json": {
    "state": {},
    "version_major": 2,
    "version_minor": 0
   }
  }
 },
 "nbformat": 4,
 "nbformat_minor": 5
}