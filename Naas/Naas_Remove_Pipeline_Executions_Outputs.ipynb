{
 "cells": [
  {
   "cell_type": "markdown",
   "id": "latin-packing",
   "metadata": {
    "execution": {
     "iopub.execute_input": "2021-02-23T14:22:16.610471Z",
     "iopub.status.busy": "2021-02-23T14:22:16.610129Z",
     "iopub.status.idle": "2021-02-23T14:22:16.627784Z",
     "shell.execute_reply": "2021-02-23T14:22:16.626866Z",
     "shell.execute_reply.started": "2021-02-23T14:22:16.610384Z"
    },
    "papermill": {},
    "tags": []
   },
   "source": [
    "<img width=\"10%\" alt=\"Naas\" src=\"https://landen.imgix.net/jtci2pxwjczr/assets/5ice39g4.png?w=160\"/>"
   ]
  },
  {
   "cell_type": "markdown",
   "id": "compressed-wilson",
   "metadata": {
    "papermill": {},
    "tags": []
   },
   "source": [
    "# Naas - Remove Pipeline Executions Outputs\n",
    "<a href=\"https://app.naas.ai/user-redirect/naas/downloader?url=https://raw.githubusercontent.com/jupyter-naas/awesome-notebooks/master/Naas/Naas_Remove_Pipeline_Executions_Outputs.ipynb\" target=\"_parent\"><img src=\"https://naasai-public.s3.eu-west-3.amazonaws.com/open_in_naas.svg\"/></a><br><br><a href=\"https://github.com/jupyter-naas/awesome-notebooks/issues/new?assignees=&labels=&template=template-request.md&title=Tool+-+Action+of+the+notebook+\">Template request</a> | <a href=\"https://github.com/jupyter-naas/awesome-notebooks/issues/new?assignees=&labels=bug&template=bug_report.md&title=Naas+-+Remove+Pipeline+Executions+Outputs:+Error+short+description\">Bug report</a>"
   ]
  },
  {
   "cell_type": "markdown",
   "id": "religious-programmer",
   "metadata": {
    "papermill": {},
    "tags": []
   },
   "source": [
    "**Tags:** #naas #scheduler #automation #operations"
   ]
  },
  {
   "cell_type": "markdown",
   "id": "1fe9f56e-561c-4f52-aef8-b861c9462107",
   "metadata": {
    "papermill": {},
    "tags": []
   },
   "source": [
    "**Author:** [Florent Ravenel](https://www.linkedin.com/in/ACoAABCNSioBW3YZHc2lBHVG0E_TXYWitQkmwog/)"
   ]
  },
  {
   "cell_type": "markdown",
   "id": "31ea7cdb-e10d-43fc-b026-f69249a59736",
   "metadata": {
    "papermill": {},
    "tags": []
   },
   "source": [
    "**Description:** This notebook removes your production pipeline executions outputs automatically."
   ]
  },
  {
   "cell_type": "markdown",
   "id": "distinguished-truth",
   "metadata": {
    "papermill": {},
    "tags": []
   },
   "source": [
    "## Input"
   ]
  },
  {
   "cell_type": "markdown",
   "id": "numeric-mediterranean",
   "metadata": {
    "papermill": {},
    "tags": []
   },
   "source": [
    "### Import libraries"
   ]
  },
  {
   "cell_type": "code",
   "execution_count": null,
   "id": "potential-surfing",
   "metadata": {
    "papermill": {},
    "tags": []
   },
   "outputs": [],
   "source": [
    "import glob\n",
    "import os\n",
    "import naas\n",
    "from datetime import datetime\n",
    "from dateutil.relativedelta import relativedelta\n",
    "import shutil"
   ]
  },
  {
   "cell_type": "markdown",
   "id": "9c4e8c3f-6058-4a3e-bd51-82edb76f4266",
   "metadata": {
    "papermill": {},
    "tags": []
   },
   "source": [
    "### Setup Variables"
   ]
  },
  {
   "cell_type": "code",
   "execution_count": null,
   "id": "6609ec32-c664-4e57-ae65-7fe7208adc7d",
   "metadata": {
    "papermill": {},
    "tags": []
   },
   "outputs": [],
   "source": [
    "MONTH_LIMIT = 1"
   ]
  },
  {
   "cell_type": "markdown",
   "id": "43869b08-d436-425c-9de6-652443f0d82b",
   "metadata": {
    "papermill": {},
    "tags": []
   },
   "source": [
    "### Schedule your notebook"
   ]
  },
  {
   "cell_type": "code",
   "execution_count": null,
   "id": "339df3c4-88f7-43c1-9c5e-9295d591bde8",
   "metadata": {
    "papermill": {},
    "tags": []
   },
   "outputs": [],
   "source": [
    "# Schedule your notebook everyday at 9 AM\n",
    "naas.scheduler.add(cron=\"0 9 * * *\")\n",
    "\n",
    "# -> Uncomment the line below to remove your scheduler\n",
    "# naas.scheduler.delete()"
   ]
  },
  {
   "cell_type": "markdown",
   "id": "9ba1e9c6-05f9-4ba7-918e-36cd5d61752e",
   "metadata": {
    "papermill": {},
    "tags": []
   },
   "source": [
    "## Model"
   ]
  },
  {
   "cell_type": "markdown",
   "id": "dd384734-3209-4acb-a1cf-3176e000c44b",
   "metadata": {
    "papermill": {},
    "tags": []
   },
   "source": [
    "### Get pipeline executions folders"
   ]
  },
  {
   "cell_type": "code",
   "execution_count": null,
   "id": "254d5898-5732-4516-85de-6e75131b6591",
   "metadata": {
    "papermill": {},
    "tags": []
   },
   "outputs": [],
   "source": [
    "folders = glob.glob(\"/home/ftp/.naas/home/ftp/**/pipeline_executions/*\", recursive=True)\n",
    "print(\"Folders found:\", len(folders))\n",
    "folders[:1]"
   ]
  },
  {
   "cell_type": "markdown",
   "id": "376e3ea8-fbb9-4504-949f-72566777319c",
   "metadata": {
    "papermill": {},
    "tags": []
   },
   "source": [
    "### Remove scheduler outputs."
   ]
  },
  {
   "cell_type": "code",
   "execution_count": null,
   "id": "c4dfdfe6-62e3-439a-907a-c2405bfb07d2",
   "metadata": {
    "papermill": {},
    "tags": []
   },
   "outputs": [],
   "source": [
    "def remove_pipeline_executions(folders, limit):\n",
    "    date_limit = (datetime.today() - relativedelta(months=limit)).strftime(\n",
    "        \"%Y%m%d%H%M%S\"\n",
    "    )\n",
    "    for folder in folders:\n",
    "        timestamp = folder.split(\"/\")[-1][:19].replace(\"_\", \"\").replace(\"-\", \"\")\n",
    "        if int(date_limit) > int(timestamp):\n",
    "            shutil.rmtree(folder)\n",
    "            print(f\"✅ DELETED: {folder}\")"
   ]
  },
  {
   "cell_type": "markdown",
   "id": "lonely-pacific",
   "metadata": {
    "execution": {
     "iopub.execute_input": "2021-07-02T23:32:10.789097Z",
     "iopub.status.busy": "2021-07-02T23:32:10.788829Z",
     "iopub.status.idle": "2021-07-02T23:32:10.796900Z",
     "shell.execute_reply": "2021-07-02T23:32:10.796358Z",
     "shell.execute_reply.started": "2021-07-02T23:32:10.789033Z"
    },
    "papermill": {},
    "tags": []
   },
   "source": [
    "## Output"
   ]
  },
  {
   "cell_type": "code",
   "execution_count": null,
   "id": "db205965-a2dc-4541-ba8e-db3250d1cff0",
   "metadata": {
    "papermill": {},
    "tags": []
   },
   "outputs": [],
   "source": [
    "remove_pipeline_executions(folders, MONTH_LIMIT)"
   ]
  }
 ],
 "metadata": {
  "kernelspec": {
   "display_name": "Python 3",
   "language": "python",
   "name": "python3"
  },
  "language_info": {
   "codemirror_mode": {
    "name": "ipython",
    "version": 3
   },
   "file_extension": ".py",
   "mimetype": "text/x-python",
   "name": "python",
   "nbconvert_exporter": "python",
   "pygments_lexer": "ipython3",
   "version": "3.9.6"
  },
  "naas": {
   "notebook_id": "c9666503-38cd-4bdc-891b-962ae82a6f19",
   "notebook_path": "Naas/Naas_Remove_Scheduler_Outputs.ipynb"
  },
  "papermill": {
   "default_parameters": {},
   "environment_variables": {},
   "parameters": {},
   "version": "2.3.3"
  },
  "widgets": {
   "application/vnd.jupyter.widget-state+json": {
    "state": {},
    "version_major": 2,
    "version_minor": 0
   }
  }
 },
 "nbformat": 4,
 "nbformat_minor": 5
}