{
 "cells": [
  {
   "cell_type": "markdown",
   "id": "24e92854-4429-49d7-ba0b-c32918abab37",
   "metadata": {
    "papermill": {},
    "tags": []
   },
   "source": [
    "<img width=\"10%\" alt=\"Naas\" src=\"https://landen.imgix.net/jtci2pxwjczr/assets/5ice39g4.png?w=160\"/>"
   ]
  },
  {
   "cell_type": "markdown",
   "id": "457ad76c-9adf-49e5-8657-e816174e9a65",
   "metadata": {
    "papermill": {},
    "tags": []
   },
   "source": [
    "# Naas - Find Asset link from path\n",
    "<a href=\"https://app.naas.ai/user-redirect/naas/downloader?url=https://raw.githubusercontent.com/jupyter-naas/awesome-notebooks/master/Naas/Naas_Find_Asset_link_from_path.ipynb\" target=\"_parent\"><img src=\"https://naasai-public.s3.eu-west-3.amazonaws.com/Open_in_Naas_Lab.svg\"/></a><br><br><a href=\"https://github.com/jupyter-naas/awesome-notebooks/issues/new?assignees=&labels=&template=template-request.md&title=Tool+-+Action+of+the+notebook+\">Template request</a> | <a href=\"https://github.com/jupyter-naas/awesome-notebooks/issues/new?assignees=&labels=bug&template=bug_report.md&title=Naas+-+Find+Asset+link+from+path:+Error+short+description\">Bug report</a> | <a href=\"https://app.naas.ai/user-redirect/naas/downloader?url=https://raw.githubusercontent.com/jupyter-naas/awesome-notebooks/master/Naas/Naas_Start_data_product.ipynb\" target=\"_parent\">Generate Data Product</a>"
   ]
  },
  {
   "cell_type": "markdown",
   "id": "748b8c6f-df06-4221-a37b-fdb986fb7514",
   "metadata": {
    "papermill": {},
    "tags": []
   },
   "source": [
    "**Tags:** #naas #asset #path #link #find #python"
   ]
  },
  {
   "cell_type": "markdown",
   "id": "c0a4ffe0-465d-4436-a166-0bb8dd02b298",
   "metadata": {
    "papermill": {},
    "tags": []
   },
   "source": [
    "**Author:** [Florent Ravenel](https://www.linkedin.com/in/florent-ravenel/)"
   ]
  },
  {
   "cell_type": "markdown",
   "id": "549cc679-7e12-46ff-82af-8a3bfea32fe4",
   "metadata": {
    "papermill": {},
    "tags": []
   },
   "source": [
    "**Description:** This notebook will help you find the asset link generated with naas from a given file path."
   ]
  },
  {
   "cell_type": "markdown",
   "id": "5daf9216-e9f8-49ac-9caa-c422a3b0a957",
   "metadata": {
    "papermill": {},
    "tags": []
   },
   "source": [
    "**References:**\n",
    "- [Naas Documentation](https://docs.naas.ai/)\n",
    "- [Naas Asset Documentation](https://docs.naas.ai/features/asset)"
   ]
  },
  {
   "cell_type": "markdown",
   "id": "4f3e9d69-de7a-4349-aa47-c112e43d8770",
   "metadata": {
    "papermill": {},
    "tags": []
   },
   "source": [
    "## Input"
   ]
  },
  {
   "cell_type": "markdown",
   "id": "97ea2d60-91ff-4c85-a7c8-1c40ec6e6611",
   "metadata": {
    "papermill": {},
    "tags": []
   },
   "source": [
    "### Import libraries"
   ]
  },
  {
   "cell_type": "code",
   "execution_count": null,
   "id": "4dd085cc-b67f-413a-a69c-45bda9d53d3b",
   "metadata": {
    "papermill": {},
    "tags": []
   },
   "outputs": [],
   "source": [
    "import naas"
   ]
  },
  {
   "cell_type": "markdown",
   "id": "0cf430e6-0417-41ba-a122-7350bea4e978",
   "metadata": {
    "papermill": {},
    "tags": []
   },
   "source": [
    "### Setup Variables\n",
    "- `file_path`: File path in naas"
   ]
  },
  {
   "cell_type": "code",
   "execution_count": null,
   "id": "8da42a46-25a8-4f95-85df-2374a52d0d1e",
   "metadata": {
    "papermill": {},
    "tags": []
   },
   "outputs": [],
   "source": [
    "file_path = \".\""
   ]
  },
  {
   "cell_type": "markdown",
   "id": "dae1ea26-ee7b-4e16-b13c-0aec2d193022",
   "metadata": {
    "papermill": {},
    "tags": []
   },
   "source": [
    "## Model"
   ]
  },
  {
   "cell_type": "markdown",
   "id": "fea17c58-90ec-4024-9cc4-d0188e6c8dcd",
   "metadata": {
    "papermill": {},
    "tags": []
   },
   "source": [
    "### Find asset link from path"
   ]
  },
  {
   "cell_type": "code",
   "execution_count": null,
   "id": "a68be714-4551-4ce8-aa3b-6d2055f32c33",
   "metadata": {
    "papermill": {},
    "tags": []
   },
   "outputs": [],
   "source": [
    "def find_naas_asset_link(file_path):\n",
    "    if not file_path.startswith(\"/home/ftp/\"):\n",
    "        file_path = f\"/home/ftp/{file_path}\"\n",
    "    asset_link = naas.asset.find(file_path)\n",
    "    if asset_link:\n",
    "        print(\"✅ Asset link found:\")\n",
    "    return asset_link"
   ]
  },
  {
   "cell_type": "markdown",
   "id": "0ab4c973-6f1b-4050-a43d-005c67c6151f",
   "metadata": {
    "papermill": {},
    "tags": []
   },
   "source": [
    "## Output"
   ]
  },
  {
   "cell_type": "markdown",
   "id": "f909db7f-4a8c-4ebf-838b-145984a54008",
   "metadata": {
    "papermill": {},
    "tags": []
   },
   "source": [
    "### Display result"
   ]
  },
  {
   "cell_type": "code",
   "execution_count": null,
   "id": "73c005b8-192f-4620-b348-3b02978d60cb",
   "metadata": {
    "papermill": {},
    "tags": []
   },
   "outputs": [],
   "source": [
    "asset_link = find_naas_asset_link(file_path)\n",
    "print(asset_link)"
   ]
  },
  {
   "cell_type": "markdown",
   "id": "41746d38-1aaa-4cc3-a3e7-33b80f516e82",
   "metadata": {
    "papermill": {},
    "tags": []
   },
   "source": [
    " "
   ]
  }
 ],
 "metadata": {
  "kernelspec": {
   "display_name": "Python 3",
   "language": "python",
   "name": "python3"
  },
  "language_info": {
   "codemirror_mode": {
    "name": "ipython",
    "version": 3
   },
   "file_extension": ".py",
   "mimetype": "text/x-python",
   "name": "python",
   "nbconvert_exporter": "python",
   "pygments_lexer": "ipython3",
   "version": "3.9.6"
  },
  "naas": {
   "notebook_id": "1149e5c1a3d183a41ab530f754117157d2f86e1719516b99e4a263256a582065",
   "notebook_path": "Naas/Naas_Find_Asset_link_from_path.ipynb"
  },
  "papermill": {
   "default_parameters": {},
   "environment_variables": {},
   "parameters": {},
   "version": "2.4.0"
  },
  "widgets": {
   "application/vnd.jupyter.widget-state+json": {
    "state": {},
    "version_major": 2,
    "version_minor": 0
   }
  }
 },
 "nbformat": 4,
 "nbformat_minor": 5
}