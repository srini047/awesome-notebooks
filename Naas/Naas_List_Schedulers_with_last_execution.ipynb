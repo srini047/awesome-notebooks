{
 "cells": [
  {
   "cell_type": "markdown",
   "id": "616c1f9e-3e7c-4719-b236-f3fdd8dccadb",
   "metadata": {
    "papermill": {},
    "tags": []
   },
   "source": [
    "<img width=\"10%\" alt=\"Naas\" src=\"https://landen.imgix.net/jtci2pxwjczr/assets/5ice39g4.png?w=160\"/>"
   ]
  },
  {
   "cell_type": "markdown",
   "id": "b76f602a-b33e-4b7b-92cb-b67b4daff326",
   "metadata": {
    "papermill": {},
    "tags": []
   },
   "source": [
    "# Naas - List Schedulers with last execution\n",
    "<a href=\"https://app.naas.ai/user-redirect/naas/downloader?url=https://raw.githubusercontent.com/jupyter-naas/awesome-notebooks/master/Naas/Naas_List_Schedulers_with_last_execution.ipynb\" target=\"_parent\"><img src=\"https://naasai-public.s3.eu-west-3.amazonaws.com/Open_in_Naas_Lab.svg\"/></a><br><br><a href=\"https://github.com/jupyter-naas/awesome-notebooks/issues/new?assignees=&labels=&template=template-request.md&title=Tool+-+Action+of+the+notebook+\">Template request</a> | <a href=\"https://github.com/jupyter-naas/awesome-notebooks/issues/new?assignees=&labels=bug&template=bug_report.md&title=Naas+-+List+Schedulers+with+last+execution:+Error+short+description\">Bug report</a> | <a href=\"https://app.naas.ai/user-redirect/naas/downloader?url=https://raw.githubusercontent.com/jupyter-naas/awesome-notebooks/master/Naas/Naas_Start_data_product.ipynb\" target=\"_parent\">Generate Data Product</a>"
   ]
  },
  {
   "cell_type": "markdown",
   "id": "87d98230-1d43-4966-a923-6fe8d89df3db",
   "metadata": {
    "papermill": {},
    "tags": []
   },
   "source": [
    "**Tags:** #naas #schedulers #list #production #tool #library"
   ]
  },
  {
   "cell_type": "markdown",
   "id": "4b12d6ca-4912-4b94-9234-9ed174761313",
   "metadata": {
    "papermill": {},
    "tags": []
   },
   "source": [
    "**Author:** [Florent Ravenel](https://www.linkedin.com/in/florent-ravenel/)"
   ]
  },
  {
   "cell_type": "markdown",
   "id": "446d152a-3b90-4758-820e-faa22f6bad72",
   "metadata": {
    "papermill": {},
    "tags": []
   },
   "source": [
    "**Description:** This notebook will show how to list current schedulers running in production with their last execution meta data and return a dataframe."
   ]
  },
  {
   "cell_type": "markdown",
   "id": "0d5cdd4c-0090-4db3-96da-831ea2b4f848",
   "metadata": {
    "papermill": {},
    "tags": []
   },
   "source": [
    "**References:**\n",
    "- [Naas Documentation](https://docs.naas.ai/)\n",
    "- [Naas Asset Documentation](https://docs.naas.ai/features/scheduler)"
   ]
  },
  {
   "cell_type": "markdown",
   "id": "40c1294c-44ff-44e5-9d6c-cc49c463e167",
   "metadata": {
    "papermill": {},
    "tags": []
   },
   "source": [
    "## Input"
   ]
  },
  {
   "cell_type": "markdown",
   "id": "c9f106b1-4a63-4cd5-8e84-70fb198ac8f9",
   "metadata": {
    "papermill": {},
    "tags": []
   },
   "source": [
    "### Import libraries"
   ]
  },
  {
   "cell_type": "code",
   "execution_count": null,
   "id": "e99c6706-a74f-4a7b-b27b-c0251908c767",
   "metadata": {
    "papermill": {},
    "tags": []
   },
   "outputs": [],
   "source": [
    "import naas\n",
    "import pandas as pd"
   ]
  },
  {
   "cell_type": "markdown",
   "id": "ea7194a3-72c2-4a03-8afd-d9e1df9711b0",
   "metadata": {
    "papermill": {},
    "tags": []
   },
   "source": [
    "## Model"
   ]
  },
  {
   "cell_type": "markdown",
   "id": "84fd4f6e-6c06-497d-b1d4-71d15177cc19",
   "metadata": {
    "papermill": {},
    "tags": []
   },
   "source": [
    "### List current Schedulers"
   ]
  },
  {
   "cell_type": "code",
   "execution_count": null,
   "id": "27caa2ba-b326-44bc-94a3-9369443aae76",
   "metadata": {
    "papermill": {},
    "tags": []
   },
   "outputs": [],
   "source": [
    "schedulers = naas.scheduler.currents(raw=True)\n",
    "schedulers[0]"
   ]
  },
  {
   "cell_type": "markdown",
   "id": "7e986188-1850-4a14-957f-b65cfde16659",
   "metadata": {
    "papermill": {},
    "tags": []
   },
   "source": [
    "## Output"
   ]
  },
  {
   "cell_type": "markdown",
   "id": "12654ff6-6f5f-455c-9407-fd9ece7b1544",
   "metadata": {
    "papermill": {},
    "tags": []
   },
   "source": [
    "### Display result"
   ]
  },
  {
   "cell_type": "code",
   "execution_count": null,
   "id": "505e28a1-477a-4878-ad4d-eaae80146366",
   "metadata": {
    "papermill": {},
    "tags": []
   },
   "outputs": [],
   "source": [
    "df = pd.DataFrame(schedulers).drop(\"runs\", axis=1)\n",
    "print(\"Scheduler fecthed:\", len(df))\n",
    "df"
   ]
  },
  {
   "cell_type": "markdown",
   "id": "60b2c157-813c-4a67-a68c-61806c8f4090",
   "metadata": {
    "papermill": {},
    "tags": []
   },
   "source": [
    " "
   ]
  }
 ],
 "metadata": {
  "kernelspec": {
   "display_name": "Python 3",
   "language": "python",
   "name": "python3"
  },
  "language_info": {
   "codemirror_mode": {
    "name": "ipython",
    "version": 3
   },
   "file_extension": ".py",
   "mimetype": "text/x-python",
   "name": "python",
   "nbconvert_exporter": "python",
   "pygments_lexer": "ipython3",
   "version": "3.9.6"
  },
  "naas": {
   "notebook_id": "6e0e66eeeef53f91e97285ff107f1c3101bfa1142186dec4122d51dfda1e01e2",
   "notebook_path": "Naas/Naas_List_Schedulers_with_last_execution.ipynb"
  },
  "papermill": {
   "default_parameters": {},
   "environment_variables": {},
   "parameters": {},
   "version": "2.4.0"
  },
  "widgets": {
   "application/vnd.jupyter.widget-state+json": {
    "state": {},
    "version_major": 2,
    "version_minor": 0
   }
  }
 },
 "nbformat": 4,
 "nbformat_minor": 5
}