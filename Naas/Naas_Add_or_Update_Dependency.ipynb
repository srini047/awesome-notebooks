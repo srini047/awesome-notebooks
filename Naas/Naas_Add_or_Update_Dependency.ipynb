{
 "cells": [
  {
   "cell_type": "markdown",
   "id": "f4e74168-c688-42a1-b731-53472f6cf1da",
   "metadata": {
    "papermill": {},
    "tags": []
   },
   "source": [
    "<img width=\"10%\" alt=\"Naas\" src=\"https://landen.imgix.net/jtci2pxwjczr/assets/5ice39g4.png?w=160\"/>"
   ]
  },
  {
   "cell_type": "markdown",
   "id": "1f9e926f-dbe8-44d2-a744-bc62c06be71a",
   "metadata": {
    "papermill": {},
    "tags": []
   },
   "source": [
    "# Naas - Add or Update Dependency\n",
    "<a href=\"https://app.naas.ai/user-redirect/naas/downloader?url=https://raw.githubusercontent.com/jupyter-naas/awesome-notebooks/master/Naas/Naas_Add_or_Update_Dependency.ipynb\" target=\"_parent\"><img src=\"https://naasai-public.s3.eu-west-3.amazonaws.com/Open_in_Naas_Lab.svg\"/></a><br><br><a href=\"https://github.com/jupyter-naas/awesome-notebooks/issues/new?assignees=&labels=&template=template-request.md&title=Tool+-+Action+of+the+notebook+\">Template request</a> | <a href=\"https://github.com/jupyter-naas/awesome-notebooks/issues/new?assignees=&labels=bug&template=bug_report.md&title=Naas+-+Add+or+Update+Dependency:+Error+short+description\">Bug report</a> | <a href=\"https://app.naas.ai/user-redirect/naas/downloader?url=https://raw.githubusercontent.com/jupyter-naas/awesome-notebooks/master/Naas/Naas_Start_data_product.ipynb\" target=\"_parent\">Generate Data Product</a>"
   ]
  },
  {
   "cell_type": "markdown",
   "id": "56a11240-aad4-4b47-8bae-d69ecf0239e0",
   "metadata": {
    "papermill": {},
    "tags": []
   },
   "source": [
    "**Tags:** #naas #dependency #add #update #snippet #operation"
   ]
  },
  {
   "cell_type": "markdown",
   "id": "052c4676-eb2f-4554-bf25-3926422e6676",
   "metadata": {
    "papermill": {},
    "tags": []
   },
   "source": [
    "**Author:** [Florent Ravenel](https://www.linkedin.com/in/florent-ravenel/)"
   ]
  },
  {
   "cell_type": "markdown",
   "id": "86307034-ca70-479a-93a0-01f714087715",
   "metadata": {
    "papermill": {},
    "tags": []
   },
   "source": [
    "**Description:** This notebook will show how to add or update a dependency in Naas. The naas dependency feature push files (script, csv) into production environment. "
   ]
  },
  {
   "cell_type": "markdown",
   "id": "fb5767ef-177d-43f8-b89e-53f0a485b88c",
   "metadata": {
    "papermill": {},
    "tags": []
   },
   "source": [
    "**References:**\n",
    "- [Naas Documentation](https://docs.naas.ai/)\n",
    "- [Naas Dependency Documentation](https://docs.naas.ai/features/dependency)"
   ]
  },
  {
   "cell_type": "markdown",
   "id": "45972d09-1266-4d8c-829e-4d62de12b1b4",
   "metadata": {
    "papermill": {},
    "tags": []
   },
   "source": [
    "## Input"
   ]
  },
  {
   "cell_type": "markdown",
   "id": "f47f177e-2f75-43cf-b350-3c3ab0985e91",
   "metadata": {
    "papermill": {},
    "tags": []
   },
   "source": [
    "### Import libraries"
   ]
  },
  {
   "cell_type": "code",
   "execution_count": null,
   "id": "f7d63c4b-0f1f-47e6-b236-571d5d09a947",
   "metadata": {
    "papermill": {},
    "tags": []
   },
   "outputs": [],
   "source": [
    "import naas"
   ]
  },
  {
   "cell_type": "markdown",
   "id": "00e2ae89-5b71-4202-8e05-747d0e407df5",
   "metadata": {
    "papermill": {},
    "tags": []
   },
   "source": [
    "### Setup Variables\n",
    "- `path`: path of the file to be send into production. If no path is set, the current notebook will be sent to production."
   ]
  },
  {
   "cell_type": "code",
   "execution_count": null,
   "id": "39da38c7-7aaa-4727-8113-ab157494dffd",
   "metadata": {
    "papermill": {},
    "tags": []
   },
   "outputs": [],
   "source": [
    "path = None"
   ]
  },
  {
   "cell_type": "markdown",
   "id": "34885e41-82ce-41c9-925a-c4bd5930c39a",
   "metadata": {
    "papermill": {},
    "tags": []
   },
   "source": [
    "## Model"
   ]
  },
  {
   "cell_type": "markdown",
   "id": "68be7025-a82c-479d-9648-28b7b7914dfd",
   "metadata": {
    "papermill": {},
    "tags": []
   },
   "source": [
    "### Add or Update Dependency"
   ]
  },
  {
   "cell_type": "code",
   "execution_count": null,
   "id": "36c430c3-f08b-487d-986c-fc272c264663",
   "metadata": {
    "papermill": {},
    "tags": []
   },
   "outputs": [],
   "source": [
    "naas.dependency.add(path)"
   ]
  },
  {
   "cell_type": "markdown",
   "id": "39a607c3-c7d1-4f44-95d4-5a889b66bd97",
   "metadata": {
    "papermill": {},
    "tags": []
   },
   "source": [
    "## Output"
   ]
  },
  {
   "cell_type": "markdown",
   "id": "c5be2dd7-6a7e-4597-8db3-c004119be1c9",
   "metadata": {
    "papermill": {},
    "tags": []
   },
   "source": [
    "### Display result"
   ]
  },
  {
   "cell_type": "code",
   "execution_count": null,
   "id": "7e5b6d8a-b5b2-4547-a296-825236ebedf4",
   "metadata": {
    "papermill": {},
    "tags": []
   },
   "outputs": [],
   "source": [
    "print(\"👌 Well done! Your Dependency has been sent to production.\")"
   ]
  },
  {
   "cell_type": "markdown",
   "id": "981dc068-4d54-43bf-bcdf-87e346c5c81a",
   "metadata": {
    "papermill": {},
    "tags": []
   },
   "source": [
    " "
   ]
  }
 ],
 "metadata": {
  "kernelspec": {
   "display_name": "Python 3",
   "language": "python",
   "name": "python3"
  },
  "language_info": {
   "codemirror_mode": {
    "name": "ipython",
    "version": 3
   },
   "file_extension": ".py",
   "mimetype": "text/x-python",
   "name": "python",
   "nbconvert_exporter": "python",
   "pygments_lexer": "ipython3",
   "version": "3.9.6"
  },
  "naas": {
   "notebook_id": "a8e532c51f125b4b806b25baaa49c531492178fb58f0a6f823bf8b33833fab72",
   "notebook_path": "Naas/Naas_Add_or_Update_Dependency.ipynb"
  },
  "papermill": {
   "default_parameters": {},
   "environment_variables": {},
   "parameters": {},
   "version": "2.4.0"
  },
  "widgets": {
   "application/vnd.jupyter.widget-state+json": {
    "state": {},
    "version_major": 2,
    "version_minor": 0
   }
  }
 },
 "nbformat": 4,
 "nbformat_minor": 5
}