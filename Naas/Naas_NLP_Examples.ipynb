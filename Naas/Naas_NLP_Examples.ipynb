{
 "cells": [
  {
   "cell_type": "markdown",
   "id": "fee07af3-45df-484e-9dc7-12f1509c52ac",
   "metadata": {
    "papermill": {},
    "tags": []
   },
   "source": [
    "<img width=\"10%\" alt=\"Naas\" src=\"https://landen.imgix.net/jtci2pxwjczr/assets/5ice39g4.png?w=160\"/>"
   ]
  },
  {
   "cell_type": "markdown",
   "id": "mobile-table",
   "metadata": {
    "papermill": {},
    "tags": []
   },
   "source": [
    "# Naas - NLP Examples\n",
    "<a href=\"https://app.naas.ai/user-redirect/naas/downloader?url=https://raw.githubusercontent.com/jupyter-naas/awesome-notebooks/master/Naas/Naas_NLP_Examples.ipynb\" target=\"_parent\"><img src=\"https://naasai-public.s3.eu-west-3.amazonaws.com/Open_in_Naas_Lab.svg\"/></a><br><br><a href=\"https://github.com/jupyter-naas/awesome-notebooks/issues/new?assignees=&labels=&template=template-request.md&title=Tool+-+Action+of+the+notebook+\">Template request</a> | <a href=\"https://github.com/jupyter-naas/awesome-notebooks/issues/new?assignees=&labels=bug&template=bug_report.md&title=Naas+-+NLP+Examples:+Error+short+description\">Bug report</a> | <a href=\"https://app.naas.ai/user-redirect/naas/downloader?url=https://raw.githubusercontent.com/jupyter-naas/awesome-notebooks/master/Naas/Naas_Start_data_product.ipynb\" target=\"_parent\">Generate Data Product</a>"
   ]
  },
  {
   "cell_type": "markdown",
   "id": "anonymous-philip",
   "metadata": {
    "papermill": {},
    "tags": []
   },
   "source": [
    "**Tags:** #naas #nlp #snippet #operations"
   ]
  },
  {
   "cell_type": "markdown",
   "id": "68801fcb-682b-449c-9254-2213d18c8826",
   "metadata": {
    "papermill": {},
    "tags": []
   },
   "source": [
    "**Author:** [Jeremy Ravenel](https://www.linkedin.com/in/ACoAAAJHE7sB5OxuKHuzguZ9L6lfDHqw--cdnJg/)"
   ]
  },
  {
   "cell_type": "markdown",
   "id": "naas-description",
   "metadata": {
    "papermill": {},
    "tags": [
     "description"
    ]
   },
   "source": [
    "**Description:** This notebook provides examples of Natural Language Processing (NLP) using the Naas framework."
   ]
  },
  {
   "cell_type": "markdown",
   "id": "input_cell",
   "metadata": {
    "papermill": {},
    "tags": []
   },
   "source": [
    "## Input"
   ]
  },
  {
   "cell_type": "markdown",
   "id": "import_cell",
   "metadata": {
    "papermill": {},
    "tags": []
   },
   "source": [
    "### Import library"
   ]
  },
  {
   "cell_type": "code",
   "execution_count": null,
   "id": "initial-tractor",
   "metadata": {
    "papermill": {},
    "tags": []
   },
   "outputs": [],
   "source": [
    "from naas_drivers import nlp"
   ]
  },
  {
   "cell_type": "markdown",
   "id": "model_cell",
   "metadata": {
    "papermill": {},
    "tags": []
   },
   "source": [
    "## Model"
   ]
  },
  {
   "cell_type": "markdown",
   "id": "corresponding-plaintiff",
   "metadata": {
    "papermill": {},
    "tags": []
   },
   "source": [
    "### Text Generation"
   ]
  },
  {
   "cell_type": "code",
   "execution_count": null,
   "id": "broke-ceremony",
   "metadata": {
    "papermill": {},
    "tags": []
   },
   "outputs": [],
   "source": [
    "nlp.get(\"text-generation\", model=\"gpt2\", tokenizer=\"gpt2\")(\n",
    "    \"What is the most important thing in your life right now?\"\n",
    ")"
   ]
  },
  {
   "cell_type": "markdown",
   "id": "mighty-pharmacology",
   "metadata": {
    "papermill": {},
    "tags": []
   },
   "source": [
    "### Text Summarization\n",
    "Summarize the text given, maximum lenght (number of tokens/words) is set to 200."
   ]
  },
  {
   "cell_type": "code",
   "execution_count": null,
   "id": "approximate-mexican",
   "metadata": {
    "papermill": {},
    "tags": []
   },
   "outputs": [],
   "source": [
    "nlp.get(\"summarization\", model=\"t5-small\", tokenizer=\"t5-small\")(\n",
    "    \"\"\"\n",
    "\n",
    "There will be fewer and fewer jobs that a robot cannot do better. \n",
    "What to do about mass unemployment this is gonna be a massive social challenge and \n",
    "I think ultimately we will have to have some kind of universal basic income.\n",
    "\n",
    "I think some kind of a universal basic income is going to be necessary \n",
    "now the output of goods and services will be extremely high \n",
    "so with automation they will they will come abundance there will be or almost everything will get very cheap.\n",
    "\n",
    "The harder challenge much harder challenge is how do people then have meaning like a lot of people \n",
    "they find meaning from their employment so if you don't have if you're not needed if \n",
    "there's not a need for your labor how do you what's the meaning if you have meaning \n",
    "if you feel useless these are much that's a much harder problem to deal with. \n",
    "\n",
    "\"\"\"\n",
    ")"
   ]
  },
  {
   "cell_type": "markdown",
   "id": "italic-certification",
   "metadata": {
    "papermill": {},
    "tags": []
   },
   "source": [
    "### Text Classification\n",
    "Basic sentiment analysis on a text.<br>\n",
    "Returns a \"label\" (negative/neutral/positive), and score between -1 and 1."
   ]
  },
  {
   "cell_type": "code",
   "execution_count": null,
   "id": "detailed-listening",
   "metadata": {
    "papermill": {},
    "tags": []
   },
   "outputs": [],
   "source": [
    "nlp.get(\n",
    "    \"text-classification\",\n",
    "    model=\"distilbert-base-uncased-finetuned-sst-2-english\",\n",
    "    tokenizer=\"distilbert-base-uncased-finetuned-sst-2-english\",\n",
    ")(\n",
    "    \"\"\"\n",
    "\n",
    "It was a weird concept. Why would I really need to generate a random paragraph? \n",
    "Could I actually learn something from doing so? \n",
    "All these questions were running through her head as she pressed the generate button. \n",
    "To her surprise, she found what she least expected to see.\n",
    "\n",
    "\"\"\"\n",
    ")"
   ]
  },
  {
   "cell_type": "markdown",
   "id": "american-first",
   "metadata": {
    "papermill": {},
    "tags": []
   },
   "source": [
    "### Fill Mask"
   ]
  },
  {
   "cell_type": "markdown",
   "id": "consecutive-router",
   "metadata": {
    "papermill": {},
    "tags": []
   },
   "source": [
    "Fill the blanks ('< mask >') in a sentence given with multiple proposals. <br>\n",
    "Each proposal has a score (confidence of accuracy), token value (proposed word in number), token_str (proposed word)"
   ]
  },
  {
   "cell_type": "code",
   "execution_count": null,
   "id": "toxic-armstrong",
   "metadata": {
    "papermill": {},
    "tags": []
   },
   "outputs": [],
   "source": [
    "nlp.get(\"fill-mask\", model=\"distilroberta-base\", tokenizer=\"distilroberta-base\")(\n",
    "    \"\"\"\n",
    "\n",
    "It was a beautiful <mask>.\n",
    "\n",
    "\"\"\"\n",
    ")"
   ]
  },
  {
   "cell_type": "markdown",
   "id": "welcome-shoulder",
   "metadata": {
    "papermill": {},
    "tags": []
   },
   "source": [
    "### Feature extraction\n",
    "This generate a words embedding (extract numbers out of the text data).<br>\n",
    "Output is a list of numerical values."
   ]
  },
  {
   "cell_type": "code",
   "execution_count": null,
   "id": "single-cocktail",
   "metadata": {
    "papermill": {},
    "tags": []
   },
   "outputs": [],
   "source": [
    "nlp.get(\n",
    "    \"feature-extraction\",\n",
    "    model=\"distilbert-base-cased\",\n",
    "    tokenizer=\"distilbert-base-cased\",\n",
    ")(\"Life is a super cool thing\")"
   ]
  },
  {
   "cell_type": "markdown",
   "id": "bored-george",
   "metadata": {
    "papermill": {},
    "tags": []
   },
   "source": [
    "### Token classification\n",
    "Basically NER. If you give names, location, or any \"entity\" it can detect it.<br>\n",
    "\n",
    "| Entity abreviation | Description                                                                  |\n",
    "|--------------|------------------------------------------------------------------------------|\n",
    "| O            | Outside of a named entity                                                    |\n",
    "| B-MIS        | Beginning of a miscellaneous entity right after another miscellaneous entity |\n",
    "| I-MIS        | Miscellaneous entity                                                         |\n",
    "| B-PER        | Beginning of a person’s name right after another person’s name               |\n",
    "| I-PER        | Person’s name                                                                |\n",
    "| B-ORG        | Beginning of an organization right after another organization                |\n",
    "| I-ORG        | organization                                                                 |\n",
    "| B-LOC        | Beginning of a location right after another location                         |\n",
    "| I-LOC        | Location                                                                     |\n",
    "\n",
    "\n",
    "Full documentation : https://huggingface.co/dslim/bert-base-NER.<br>"
   ]
  },
  {
   "cell_type": "markdown",
   "id": "output_cell",
   "metadata": {
    "papermill": {},
    "tags": []
   },
   "source": [
    "## Output"
   ]
  },
  {
   "cell_type": "markdown",
   "id": "display_cell",
   "metadata": {
    "papermill": {},
    "tags": []
   },
   "source": [
    "### Display result"
   ]
  },
  {
   "cell_type": "code",
   "execution_count": null,
   "id": "deadly-queen",
   "metadata": {
    "papermill": {},
    "tags": []
   },
   "outputs": [],
   "source": [
    "nlp.get(\n",
    "    \"token-classification\", model=\"dslim/bert-base-NER\", tokenizer=\"dslim/bert-base-NER\"\n",
    ")(\n",
    "    \"\"\"\n",
    "\n",
    "My name is Wolfgang and I live in Berlin\n",
    "\n",
    "\"\"\"\n",
    ")"
   ]
  }
 ],
 "metadata": {
  "kernelspec": {
   "display_name": "Python 3",
   "language": "python",
   "name": "python3"
  },
  "language_info": {
   "codemirror_mode": {
    "name": "ipython",
    "version": 3
   },
   "file_extension": ".py",
   "mimetype": "text/x-python",
   "name": "python",
   "nbconvert_exporter": "python",
   "pygments_lexer": "ipython3",
   "version": "3.8.8"
  },
  "naas": {
   "notebook_id": "e26291e9d6bfb6a7d09e27a665447ed0ea75c57dde69de0957353a0ba7e6ad0c",
   "notebook_path": "Naas/Naas_NLP_Examples.ipynb"
  },
  "papermill": {
   "default_parameters": {},
   "environment_variables": {},
   "parameters": {},
   "version": "2.3.3"
  },
  "widgets": {
   "application/vnd.jupyter.widget-state+json": {
    "state": {},
    "version_major": 2,
    "version_minor": 0
   }
  }
 },
 "nbformat": 4,
 "nbformat_minor": 5
}