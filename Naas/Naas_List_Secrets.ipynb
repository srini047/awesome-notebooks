{
 "cells": [
  {
   "cell_type": "markdown",
   "id": "abbf16c3-5fd9-4d2f-9997-ce0ef386ffd7",
   "metadata": {
    "papermill": {},
    "tags": []
   },
   "source": [
    "<img width=\"10%\" alt=\"Naas\" src=\"https://landen.imgix.net/jtci2pxwjczr/assets/5ice39g4.png?w=160\"/>"
   ]
  },
  {
   "cell_type": "markdown",
   "id": "98a7138e-26ef-4cb3-a0b0-8d152f66d7e3",
   "metadata": {
    "papermill": {},
    "tags": []
   },
   "source": [
    "# Naas - List Secrets\n",
    "<a href=\"https://app.naas.ai/user-redirect/naas/downloader?url=https://raw.githubusercontent.com/jupyter-naas/awesome-notebooks/master/Naas/Naas_List_Secrets.ipynb\" target=\"_parent\"><img src=\"https://naasai-public.s3.eu-west-3.amazonaws.com/Open_in_Naas_Lab.svg\"/></a><br><br><a href=\"https://github.com/jupyter-naas/awesome-notebooks/issues/new?assignees=&labels=&template=template-request.md&title=Tool+-+Action+of+the+notebook+\">Template request</a> | <a href=\"https://github.com/jupyter-naas/awesome-notebooks/issues/new?assignees=&labels=bug&template=bug_report.md&title=Naas+-+List+Secrets:+Error+short+description\">Bug report</a> | <a href=\"https://app.naas.ai/user-redirect/naas/downloader?url=https://raw.githubusercontent.com/jupyter-naas/awesome-notebooks/master/Naas/Naas_Start_data_product.ipynb\" target=\"_parent\">Generate Data Product</a>"
   ]
  },
  {
   "cell_type": "markdown",
   "id": "b5675fb2-ddc4-44ca-94d4-30aae0e8d343",
   "metadata": {
    "papermill": {},
    "tags": []
   },
   "source": [
    "**Tags:** #naas #secret #list #snippet"
   ]
  },
  {
   "cell_type": "markdown",
   "id": "3123006b-cf35-4067-8a2a-c66ea794a2bc",
   "metadata": {
    "papermill": {},
    "tags": []
   },
   "source": [
    "**Author:** [Florent Ravenel](https://www.linkedin.com/in/florent-ravenel)"
   ]
  },
  {
   "cell_type": "markdown",
   "id": "0b39429c-9853-4ea4-8a23-a48ac896e31f",
   "metadata": {
    "papermill": {},
    "tags": []
   },
   "source": [
    "**Description:** This notebook will show how to list of your secrets stored in Naas.\n",
    "A dataframe with the following column will be retunred:\n",
    "- \"id\"\n",
    "- \"lastUpdate\"\n",
    "- \"name\"\n",
    "- \"secret\""
   ]
  },
  {
   "cell_type": "markdown",
   "id": "a2b9da31-da6b-416b-b1d0-24911a5f8b29",
   "metadata": {
    "papermill": {},
    "tags": []
   },
   "source": [
    "**References:**\n",
    "- [Naas Documentation](https://docs.naas.ai/)\n",
    "- [Naas Secret Documentation](https://docs.naas.ai/features/secret)"
   ]
  },
  {
   "cell_type": "markdown",
   "id": "d3c73ec8-898d-4d9e-83db-15550a80af71",
   "metadata": {
    "papermill": {},
    "tags": []
   },
   "source": [
    "## Input"
   ]
  },
  {
   "cell_type": "markdown",
   "id": "3f337dd3-9e1b-44f8-a268-6951d37c7e7a",
   "metadata": {
    "papermill": {},
    "tags": []
   },
   "source": [
    "### Import libraries"
   ]
  },
  {
   "cell_type": "code",
   "execution_count": null,
   "id": "90760955-5133-4c1a-a43b-e3dee1a02f44",
   "metadata": {
    "papermill": {},
    "tags": []
   },
   "outputs": [],
   "source": [
    "import naas"
   ]
  },
  {
   "cell_type": "markdown",
   "id": "844aaf24-d342-41e0-8d10-f5a751d6c8ae",
   "metadata": {
    "papermill": {},
    "tags": []
   },
   "source": [
    "## Model"
   ]
  },
  {
   "cell_type": "markdown",
   "id": "e7dc8faa-fc16-4d58-8181-43a26650674f",
   "metadata": {
    "papermill": {},
    "tags": []
   },
   "source": [
    "### List Secrets"
   ]
  },
  {
   "cell_type": "code",
   "execution_count": null,
   "id": "f30c11f1-d027-4a13-86e3-49f408e46e6b",
   "metadata": {
    "papermill": {},
    "tags": []
   },
   "outputs": [],
   "source": [
    "df = naas.secret.list()\n",
    "df"
   ]
  },
  {
   "cell_type": "markdown",
   "id": "2513ab2f-6ad6-467e-90d8-09812c132015",
   "metadata": {
    "papermill": {},
    "tags": []
   },
   "source": [
    "## Output"
   ]
  },
  {
   "cell_type": "markdown",
   "id": "5280ebb8-ce27-41ff-a73a-21e0701ec548",
   "metadata": {
    "papermill": {},
    "tags": []
   },
   "source": [
    "### Display result"
   ]
  },
  {
   "cell_type": "code",
   "execution_count": null,
   "id": "40de06c9-967a-4ac9-886e-a1c943e42308",
   "metadata": {
    "papermill": {},
    "tags": []
   },
   "outputs": [],
   "source": [
    "print('Secrets found:', len(df))"
   ]
  },
  {
   "cell_type": "markdown",
   "id": "466f8c5f-18cb-419f-bf40-fdcb9f48796c",
   "metadata": {
    "papermill": {},
    "tags": []
   },
   "source": [
    " "
   ]
  }
 ],
 "metadata": {
  "kernelspec": {
   "display_name": "Python 3",
   "language": "python",
   "name": "python3"
  },
  "language_info": {
   "codemirror_mode": {
    "name": "ipython",
    "version": 3
   },
   "file_extension": ".py",
   "mimetype": "text/x-python",
   "name": "python",
   "nbconvert_exporter": "python",
   "pygments_lexer": "ipython3",
   "version": "3.9.6"
  },
  "naas": {
   "notebook_id": "ce518a817ab35c537e18a42c72d3e128ed9c8631f2a01ae33c7371e9e2191c13",
   "notebook_path": "Naas/Naas_List_Secrets.ipynb"
  },
  "papermill": {
   "default_parameters": {},
   "environment_variables": {},
   "parameters": {},
   "version": "2.4.0"
  },
  "widgets": {
   "application/vnd.jupyter.widget-state+json": {
    "state": {},
    "version_major": 2,
    "version_minor": 0
   }
  }
 },
 "nbformat": 4,
 "nbformat_minor": 5
}