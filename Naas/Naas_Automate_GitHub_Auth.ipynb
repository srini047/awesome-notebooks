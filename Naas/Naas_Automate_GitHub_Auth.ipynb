{
 "cells": [
  {
   "cell_type": "markdown",
   "id": "deluxe-force",
   "metadata": {
    "papermill": {},
    "tags": []
   },
   "source": [
    "<img width=\"10%\" alt=\"Naas\" src=\"https://landen.imgix.net/jtci2pxwjczr/assets/5ice39g4.png?w=160\"/>\n"
   ]
  },
  {
   "cell_type": "markdown",
   "id": "unlimited-internship",
   "metadata": {
    "papermill": {},
    "tags": []
   },
   "source": [
    "# Naas - Automate GitHub Auth\n",
    "<a href=\"https://app.naas.ai/user-redirect/naas/downloader?url=https://raw.githubusercontent.com/jupyter-naas/awesome-notebooks/master/Naas/Naas_Automate_GitHub_Auth.ipynb\" target=\"_parent\"><img src=\"https://naasai-public.s3.eu-west-3.amazonaws.com/Open_in_Naas_Lab.svg\"/></a><br><br><a href=\"https://github.com/jupyter-naas/awesome-notebooks/issues/new?assignees=&labels=&template=template-request.md&title=Tool+-+Action+of+the+notebook+\">Template request</a> | <a href=\"https://github.com/jupyter-naas/awesome-notebooks/issues/new?assignees=&labels=bug&template=bug_report.md&title=Naas+-+Automate+GitHub+Auth:+Error+short+description\">Bug report</a> | <a href=\"https://app.naas.ai/user-redirect/naas/downloader?url=https://raw.githubusercontent.com/jupyter-naas/awesome-notebooks/master/Naas/Naas_Start_data_product.ipynb\" target=\"_parent\">Generate Data Product</a>"
   ]
  },
  {
   "cell_type": "markdown",
   "id": "3097faf3-b2b9-41fd-8589-f7718b5f919a",
   "metadata": {
    "papermill": {},
    "tags": []
   },
   "source": [
    "**Tags:** #naas #asset #snippet #operations"
   ]
  },
  {
   "cell_type": "markdown",
   "id": "opposite-guatemala",
   "metadata": {
    "papermill": {},
    "tags": []
   },
   "source": [
    "**Author:** [Jeremy Ravenel](https://www.linkedin.com/in/ACoAAAJHE7sB5OxuKHuzguZ9L6lfDHqw--cdnJg/)"
   ]
  },
  {
   "cell_type": "markdown",
   "id": "naas-description",
   "metadata": {
    "papermill": {},
    "tags": [
     "description"
    ]
   },
   "source": [
    "**Description:** This notebook provides an automated way to authenticate with GitHub using Naas."
   ]
  },
  {
   "cell_type": "markdown",
   "id": "input_cell",
   "metadata": {
    "papermill": {},
    "tags": []
   },
   "source": [
    "## Input"
   ]
  },
  {
   "cell_type": "markdown",
   "id": "287e7f6d-87c4-4850-ba71-b1b1b430df06",
   "metadata": {
    "papermill": {},
    "tags": []
   },
   "source": [
    "No input required."
   ]
  },
  {
   "cell_type": "markdown",
   "id": "model_cell",
   "metadata": {
    "papermill": {},
    "tags": []
   },
   "source": [
    "## Model\n",
    "Generate the public key:"
   ]
  },
  {
   "cell_type": "code",
   "execution_count": null,
   "id": "f7ac0f88-36aa-452c-908e-9da12d16a065",
   "metadata": {
    "papermill": {},
    "tags": []
   },
   "outputs": [],
   "source": [
    "!ssh-keygen -b 2048 -t rsa -f /home/ftp/.ssh/id_rsa -q -N \"\""
   ]
  },
  {
   "cell_type": "markdown",
   "id": "output_cell",
   "metadata": {
    "papermill": {},
    "tags": []
   },
   "source": [
    "## Output"
   ]
  },
  {
   "cell_type": "markdown",
   "id": "ffbcda74-45f0-4b4e-b2b8-46a6c65a3943",
   "metadata": {
    "papermill": {},
    "tags": []
   },
   "source": [
    "Retrieve the public key by running the cell below:"
   ]
  },
  {
   "cell_type": "code",
   "execution_count": null,
   "id": "c14e4a38-75b1-475b-bc28-45db7effe45f",
   "metadata": {
    "papermill": {},
    "tags": []
   },
   "outputs": [],
   "source": [
    "cat /home/ftp/.ssh/id_rsa.pub"
   ]
  },
  {
   "cell_type": "markdown",
   "id": "272045bd-4a8b-4fe1-96a7-dfe49f011f7a",
   "metadata": {
    "papermill": {},
    "tags": []
   },
   "source": [
    "Then: \n",
    "- go Github/Settings/SSH and GCP keys\n",
    "- create new SSH key\n",
    "- paste the public key in the key section\n",
    "- name the public key and save\n",
    "\n",
    "You just changed the way naas connects with GitHub for any repository. <br>\n",
    "It means you need to choose the SSH method to clone now but you can still use Git tab to push.\n",
    "\n",
    "- Click on File > New > Terminal \n",
    "- Type : git clone git@github.com:jravenel/my_project.git\n",
    "\n",
    "This technique wil enable you to never use your Git username and password anymore."
   ]
  }
 ],
 "metadata": {
  "kernelspec": {
   "display_name": "Python 3",
   "language": "python",
   "name": "python3"
  },
  "language_info": {
   "codemirror_mode": {
    "name": "ipython",
    "version": 3
   },
   "file_extension": ".py",
   "mimetype": "text/x-python",
   "name": "python",
   "nbconvert_exporter": "python",
   "pygments_lexer": "ipython3",
   "version": "3.9.6"
  },
  "naas": {
   "notebook_id": "7e51dbae8cf766d7bbe70b8e5d811776b60173220ab6eccc75086cf2480daed3",
   "notebook_path": "Naas/Naas_Automate_GitHub_Auth.ipynb"
  },
  "papermill": {
   "default_parameters": {},
   "environment_variables": {},
   "parameters": {},
   "version": "2.3.3"
  }
 },
 "nbformat": 4,
 "nbformat_minor": 5
}