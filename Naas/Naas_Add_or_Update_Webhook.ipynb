{
 "cells": [
  {
   "cell_type": "markdown",
   "id": "b13ca555-3a87-4ad3-8c66-a12d4ebad475",
   "metadata": {
    "papermill": {},
    "tags": []
   },
   "source": [
    "<img width=\"10%\" alt=\"Naas\" src=\"https://landen.imgix.net/jtci2pxwjczr/assets/5ice39g4.png?w=160\"/>"
   ]
  },
  {
   "cell_type": "markdown",
   "id": "452f3a54-f901-4981-8188-e2d817b3b337",
   "metadata": {
    "papermill": {},
    "tags": []
   },
   "source": [
    "# Naas - Add or Update Webhook\n",
    "<a href=\"https://app.naas.ai/user-redirect/naas/downloader?url=https://raw.githubusercontent.com/jupyter-naas/awesome-notebooks/master/Naas/Naas_Add_or_Update_Webhook.ipynb\" target=\"_parent\"><img src=\"https://naasai-public.s3.eu-west-3.amazonaws.com/Open_in_Naas_Lab.svg\"/></a><br><br><a href=\"https://github.com/jupyter-naas/awesome-notebooks/issues/new?assignees=&labels=&template=template-request.md&title=Tool+-+Action+of+the+notebook+\">Template request</a> | <a href=\"https://github.com/jupyter-naas/awesome-notebooks/issues/new?assignees=&labels=bug&template=bug_report.md&title=Naas+-+Add+or+Update+Webhook:+Error+short+description\">Bug report</a> | <a href=\"https://app.naas.ai/user-redirect/naas/downloader?url=https://raw.githubusercontent.com/jupyter-naas/awesome-notebooks/master/Naas/Naas_Start_data_product.ipynb\" target=\"_parent\">Generate Data Product</a>"
   ]
  },
  {
   "cell_type": "markdown",
   "id": "00514755-3e77-41f8-82d2-2ef74ce59119",
   "metadata": {
    "papermill": {},
    "tags": []
   },
   "source": [
    "**Tags:** #naas #webhook #add #update #snippet #operation"
   ]
  },
  {
   "cell_type": "markdown",
   "id": "62fc4691-d389-4586-9ca9-92ac057829a1",
   "metadata": {
    "papermill": {},
    "tags": []
   },
   "source": [
    "**Author:** [Florent Ravenel](http://linkedin.com/in/florent-ravenel)"
   ]
  },
  {
   "cell_type": "markdown",
   "id": "9dc99c6a-a656-4fbf-8158-07d5307c8c8c",
   "metadata": {
    "papermill": {},
    "tags": []
   },
   "source": [
    "**Description:** This notebook will show how to add or update a webhook in production using Naas feature. The notebook will be sent to production and you will get an URL that can be triggered.\n",
    "\n",
    "Webhooks are useful because they enable real-time communication between applications, allowing for automated notifications or data exchange when specific events occur. This eliminates the need for constant polling and manual data retrieval, making webhooks efficient and scalable for various use cases."
   ]
  },
  {
   "cell_type": "markdown",
   "id": "bb56927f-c6c8-4c42-aadd-348024caec2a",
   "metadata": {
    "papermill": {},
    "tags": []
   },
   "source": [
    "**References:**\n",
    "- [Naas Documentation](https://docs.naas.ai/)\n",
    "- [Naas Webhook Documentation](https://docs.naas.ai/features/api)"
   ]
  },
  {
   "cell_type": "markdown",
   "id": "8006fbcf-c1b1-4000-b322-4b00594a1490",
   "metadata": {
    "papermill": {},
    "tags": []
   },
   "source": [
    "## Input"
   ]
  },
  {
   "cell_type": "markdown",
   "id": "03cc9b7c-c6e2-4467-8829-91c8c12f5e61",
   "metadata": {
    "papermill": {},
    "tags": []
   },
   "source": [
    "### Import libraries"
   ]
  },
  {
   "cell_type": "code",
   "execution_count": null,
   "id": "564496e4-e12a-47cc-b587-96b8169d1aa3",
   "metadata": {
    "papermill": {},
    "tags": []
   },
   "outputs": [],
   "source": [
    "import naas"
   ]
  },
  {
   "cell_type": "markdown",
   "id": "b4f76005-de0e-4afa-8faf-114227d06b97",
   "metadata": {
    "papermill": {},
    "tags": []
   },
   "source": [
    "### Setup Variables\n",
    "- `path`: path of the notebook to be deploy in production. If no path is set, the current notebook will be sent to production.\n",
    "- `notif_down`: List of emails. Receive an email when the notebook run fails. By default, you will received notifications on your email used on your naas account\n",
    "- `notif_up`: List of emails. Receive an email when the notebook runs well. By default, you won't received notifications if it went well."
   ]
  },
  {
   "cell_type": "code",
   "execution_count": null,
   "id": "9e53011e-b797-4283-8207-e64b161cdf3c",
   "metadata": {
    "papermill": {},
    "tags": []
   },
   "outputs": [],
   "source": [
    "path = None\n",
    "notif_down = []\n",
    "notif_up = []"
   ]
  },
  {
   "cell_type": "markdown",
   "id": "ee11eda3-b7db-4d7f-b346-5532e39bebe5",
   "metadata": {
    "papermill": {},
    "tags": []
   },
   "source": [
    "## Model"
   ]
  },
  {
   "cell_type": "markdown",
   "id": "cf28b744-33f7-41df-af18-bac4e685c13f",
   "metadata": {
    "papermill": {},
    "tags": []
   },
   "source": [
    "### Add or Update Webhook\n",
    "Send in production this notebook and get URL to run it when opened."
   ]
  },
  {
   "cell_type": "code",
   "execution_count": null,
   "id": "bceca995-89db-41dc-9bcc-f649303c0e13",
   "metadata": {
    "papermill": {},
    "tags": []
   },
   "outputs": [],
   "source": [
    "webhook_url = naas.webhook.add(path=path, params={\"notif_down\": notif_down, \"notif_up\": notif_up})"
   ]
  },
  {
   "cell_type": "markdown",
   "id": "0b2357e0-434e-4a27-8ecc-652ef4d345a3",
   "metadata": {
    "papermill": {},
    "tags": []
   },
   "source": [
    "## Output"
   ]
  },
  {
   "cell_type": "markdown",
   "id": "7a4a9825-50d1-47db-b002-4c8c9b097207",
   "metadata": {
    "papermill": {},
    "tags": []
   },
   "source": [
    "### Display result"
   ]
  },
  {
   "cell_type": "code",
   "execution_count": null,
   "id": "1d4164bb-f393-4bde-a024-3f51a9209d5c",
   "metadata": {
    "papermill": {},
    "tags": []
   },
   "outputs": [],
   "source": [
    "print(\"👌 Well done! Your Notebook has been sent to production:\", webhook_url)"
   ]
  },
  {
   "cell_type": "markdown",
   "id": "3ca0386a-ee06-4840-846d-99c00a6764dd",
   "metadata": {
    "papermill": {},
    "tags": []
   },
   "source": [
    " "
   ]
  }
 ],
 "metadata": {
  "kernelspec": {
   "display_name": "Python 3",
   "language": "python",
   "name": "python3"
  },
  "language_info": {
   "codemirror_mode": {
    "name": "ipython",
    "version": 3
   },
   "file_extension": ".py",
   "mimetype": "text/x-python",
   "name": "python",
   "nbconvert_exporter": "python",
   "pygments_lexer": "ipython3",
   "version": "3.9.6"
  },
  "naas": {
   "notebook_id": "abd7d33c33240f853371346227a2ae5b2c4b78bec62d783f4ce06e07af02da6f",
   "notebook_path": "Naas/Naas_Add_or_Update_Webhook.ipynb"
  },
  "papermill": {
   "default_parameters": {},
   "environment_variables": {},
   "parameters": {},
   "version": "2.4.0"
  },
  "widgets": {
   "application/vnd.jupyter.widget-state+json": {
    "state": {},
    "version_major": 2,
    "version_minor": 0
   }
  }
 },
 "nbformat": 4,
 "nbformat_minor": 5
}