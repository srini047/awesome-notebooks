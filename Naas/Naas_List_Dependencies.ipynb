{
 "cells": [
  {
   "cell_type": "markdown",
   "id": "e4353e89-7fdb-4793-ac0e-749cf853334d",
   "metadata": {
    "papermill": {},
    "tags": []
   },
   "source": [
    "<img width=\"10%\" alt=\"Naas\" src=\"https://landen.imgix.net/jtci2pxwjczr/assets/5ice39g4.png?w=160\"/>"
   ]
  },
  {
   "cell_type": "markdown",
   "id": "b15aee72-b60b-437a-933f-742bb8c77753",
   "metadata": {
    "papermill": {},
    "tags": []
   },
   "source": [
    "# Naas - List Dependencies\n",
    "<a href=\"https://app.naas.ai/user-redirect/naas/downloader?url=https://raw.githubusercontent.com/jupyter-naas/awesome-notebooks/master/Naas/Naas_List_Dependencies.ipynb\" target=\"_parent\"><img src=\"https://naasai-public.s3.eu-west-3.amazonaws.com/Open_in_Naas_Lab.svg\"/></a><br><br><a href=\"https://github.com/jupyter-naas/awesome-notebooks/issues/new?assignees=&labels=&template=template-request.md&title=Tool+-+Action+of+the+notebook+\">Template request</a> | <a href=\"https://github.com/jupyter-naas/awesome-notebooks/issues/new?assignees=&labels=bug&template=bug_report.md&title=Naas+-+List+Dependencies:+Error+short+description\">Bug report</a> | <a href=\"https://app.naas.ai/user-redirect/naas/downloader?url=https://raw.githubusercontent.com/jupyter-naas/awesome-notebooks/master/Naas/Naas_Start_data_product.ipynb\" target=\"_parent\">Generate Data Product</a>"
   ]
  },
  {
   "cell_type": "markdown",
   "id": "a52c9644-b2ad-4b42-8fc8-1a3c97e7ec0e",
   "metadata": {
    "papermill": {},
    "tags": []
   },
   "source": [
    "**Tags:** #naas #dependency #snipet #operations #list"
   ]
  },
  {
   "cell_type": "markdown",
   "id": "2f7b04f7-c8cc-40e4-9656-2473f1a1b876",
   "metadata": {
    "papermill": {},
    "tags": []
   },
   "source": [
    "**Author:** [Florent Ravenel](https://www.linkedin.com/in/florent-ravenel/)"
   ]
  },
  {
   "cell_type": "markdown",
   "id": "3254dbc3-9bda-4c46-b502-60674af26293",
   "metadata": {
    "papermill": {},
    "tags": []
   },
   "source": [
    "**Description:** This notebook will show how to list current dependencies in production."
   ]
  },
  {
   "cell_type": "markdown",
   "id": "96d8b325-710d-48b7-86dd-33f6bf13d5ba",
   "metadata": {
    "papermill": {},
    "tags": []
   },
   "source": [
    "**References:**\n",
    "- [Naas Documentation](https://docs.naas.ai/)\n",
    "- [Naas Dependency Documentation](https://docs.naas.ai/features/dependency)"
   ]
  },
  {
   "cell_type": "markdown",
   "id": "5743c43b-4c39-4f7c-88e2-018febe5e62d",
   "metadata": {
    "papermill": {},
    "tags": []
   },
   "source": [
    "## Input"
   ]
  },
  {
   "cell_type": "markdown",
   "id": "0b4efc98-f194-45ac-b79e-51523845101b",
   "metadata": {
    "papermill": {},
    "tags": []
   },
   "source": [
    "### Import libraries"
   ]
  },
  {
   "cell_type": "code",
   "execution_count": 1,
   "id": "b26eb844-fedf-4edc-bc67-a3dc060a619e",
   "metadata": {
    "papermill": {},
    "tags": []
   },
   "outputs": [],
   "source": [
    "import naas"
   ]
  },
  {
   "cell_type": "markdown",
   "id": "0a302d85-1d55-4dc9-a2a7-171fb0ce8076",
   "metadata": {
    "papermill": {},
    "tags": []
   },
   "source": [
    "## Model"
   ]
  },
  {
   "cell_type": "markdown",
   "id": "53d7b6e9-9d11-4f35-9fc0-dd808b942b25",
   "metadata": {
    "papermill": {},
    "tags": []
   },
   "source": [
    "### List current Dependencies"
   ]
  },
  {
   "cell_type": "code",
   "execution_count": 2,
   "id": "700632d6-93be-45a3-9c74-31b6ae991b36",
   "metadata": {
    "papermill": {},
    "tags": []
   },
   "outputs": [],
   "source": [
    "dependencies = naas.dependency.currents()"
   ]
  },
  {
   "cell_type": "markdown",
   "id": "49629bac-113f-4697-bdf9-df1f194202b3",
   "metadata": {
    "papermill": {},
    "tags": []
   },
   "source": [
    "## Output"
   ]
  },
  {
   "cell_type": "markdown",
   "id": "abf53e1f-3e09-49aa-92ab-4bdbdcb978bf",
   "metadata": {
    "papermill": {},
    "tags": []
   },
   "source": [
    "### Display result"
   ]
  },
  {
   "cell_type": "code",
   "execution_count": 3,
   "id": "122579b3-4f8b-42a0-a0d2-82786b53993b",
   "metadata": {
    "papermill": {},
    "tags": []
   },
   "outputs": [],
   "source": [
    "print(\"Dependencies found in production:\", len(dependencies))\n",
    "dependencies.head(5)"
   ]
  },
  {
   "cell_type": "markdown",
   "id": "450ba3a9-1f1e-43e6-a83e-8ed734c740a5",
   "metadata": {
    "papermill": {},
    "tags": []
   },
   "source": [
    " "
   ]
  }
 ],
 "metadata": {
  "kernelspec": {
   "display_name": "Python 3",
   "language": "python",
   "name": "python3"
  },
  "language_info": {
   "codemirror_mode": {
    "name": "ipython",
    "version": 3
   },
   "file_extension": ".py",
   "mimetype": "text/x-python",
   "name": "python",
   "nbconvert_exporter": "python",
   "pygments_lexer": "ipython3",
   "version": "3.9.6"
  },
  "naas": {
   "notebook_id": "d140789cfd7892de0efe6e8a0bc0dfe7f63e1bcca0670e3125f08ec0e453ff9e",
   "notebook_path": "Naas/Naas_List_Dependencies.ipynb"
  },
  "papermill": {
   "default_parameters": {},
   "environment_variables": {},
   "parameters": {},
   "version": "2.4.0"
  },
  "widgets": {
   "application/vnd.jupyter.widget-state+json": {
    "state": {},
    "version_major": 2,
    "version_minor": 0
   }
  }
 },
 "nbformat": 4,
 "nbformat_minor": 5
}