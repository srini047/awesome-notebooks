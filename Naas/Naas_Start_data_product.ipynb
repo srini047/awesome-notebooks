{
 "cells": [
  {
   "cell_type": "markdown",
   "id": "a61230dc-6327-4a06-80dd-74377a33abdf",
   "metadata": {
    "papermill": {},
    "tags": []
   },
   "source": [
    "<img width=\"10%\" alt=\"Naas\" src=\"https://landen.imgix.net/jtci2pxwjczr/assets/5ice39g4.png?w=160\"/>"
   ]
  },
  {
   "cell_type": "markdown",
   "id": "96ab0035-d52a-4a9a-a69b-81305045ae98",
   "metadata": {
    "papermill": {},
    "tags": []
   },
   "source": [
    "# Naas - Start data product\n",
    "<a href=\"https://app.naas.ai/user-redirect/naas/downloader?url=https://raw.githubusercontent.com/jupyter-naas/awesome-notebooks/master/Naas/Naas_Start_data_product.ipynb\" target=\"_parent\"><img src=\"https://naasai-public.s3.eu-west-3.amazonaws.com/Open_in_Naas_Lab.svg\"/></a><br><br><a href=\"https://github.com/jupyter-naas/awesome-notebooks/issues/new?assignees=&labels=&template=template-request.md&title=Tool+-+Action+of+the+notebook+\">Template request</a> | <a href=\"https://github.com/jupyter-naas/awesome-notebooks/issues/new?assignees=&labels=bug&template=bug_report.md&title=Naas+-+Start+data+product:+Error+short+description\">Bug report</a> | <a href=\"https://app.naas.ai/user-redirect/naas/downloader?url=https://raw.githubusercontent.com/jupyter-naas/awesome-notebooks/master/Naas/Naas_Start_data_product.ipynb\" target=\"_parent\">Generate Data Product</a>"
   ]
  },
  {
   "cell_type": "markdown",
   "id": "ea164626-423c-4f0c-a036-0416c357c177",
   "metadata": {
    "papermill": {},
    "tags": []
   },
   "source": [
    "**Tags:** #naas #dataproduct #automation"
   ]
  },
  {
   "cell_type": "markdown",
   "id": "5ee9f194-1670-4761-93e8-e41ce3753f76",
   "metadata": {
    "papermill": {},
    "tags": []
   },
   "source": [
    "**Author:** [Florent Ravenel](http://linkedin.com/in/florent-ravenel)"
   ]
  },
  {
   "cell_type": "markdown",
   "id": "55aebec7-d8db-4ad1-8fa4-136e546ce940",
   "metadata": {
    "papermill": {},
    "tags": []
   },
   "source": [
    "**Description:** In this notebook, we'll walk you through the process of starting a data product using the Naas data product framework and integrating awesome-notebooks into your project. \n",
    "\n",
    "Please note that this notebook can only be used while connected to your Naas account. If you'd like to perform these steps locally, please don't hesitate to contact us – we're more than happy to assist you."
   ]
  },
  {
   "cell_type": "markdown",
   "id": "c82538f2-fc10-4177-8d74-e6862a3ec99c",
   "metadata": {
    "papermill": {},
    "tags": []
   },
   "source": [
    "**References:**\n",
    "- [Data Product Framework](https://github.com/jupyter-naas/data-product-framework)\n",
    "- [Naas Documentation](https://docs.naas.ai/)"
   ]
  },
  {
   "cell_type": "markdown",
   "id": "b8e2d836-d8bc-4979-a12a-249d25ae402f",
   "metadata": {
    "papermill": {},
    "tags": []
   },
   "source": [
    "## Input"
   ]
  },
  {
   "cell_type": "markdown",
   "id": "94d46544-00c4-4b60-a06a-d3b274e30d4c",
   "metadata": {
    "papermill": {},
    "tags": []
   },
   "source": [
    "### Import libraries"
   ]
  },
  {
   "cell_type": "code",
   "execution_count": null,
   "id": "881385e5-ead0-4538-84e7-c2fefe1fc0b1",
   "metadata": {
    "papermill": {},
    "tags": []
   },
   "outputs": [],
   "source": [
    "import urllib.request\n",
    "import zipfile\n",
    "import glob\n",
    "import os\n",
    "import shutil\n",
    "import pandas as pd\n",
    "import re"
   ]
  },
  {
   "cell_type": "markdown",
   "id": "1887dd61-cdeb-4e63-a2c9-4fbefea935a1",
   "metadata": {
    "papermill": {},
    "tags": []
   },
   "source": [
    "### Setup Variables\n",
    "- `product_name`: Name of your data product in lower cases without space\n",
    "- `notebooks`: List of awesome-notebooks name to be added into models/basic to kick start your data product."
   ]
  },
  {
   "cell_type": "code",
   "execution_count": 12,
   "id": "f5fcb84e-6abb-4242-a8b0-eb0101ca743e",
   "metadata": {
    "papermill": {},
    "tags": []
   },
   "outputs": [],
   "source": [
    "product_name = \"my-first-data-product\"\n",
    "notebooks = [\n",
    "    \"Naas_Create_Pipeline.ipynb\",\n",
    "    \"Naas_Add_Scheduler.ipynb\",\n",
    "    \"Naas_Delete_Scheduler.ipynb\",\n",
    "]"
   ]
  },
  {
   "cell_type": "markdown",
   "id": "128acdfb-fb2f-4004-aa3b-b75f669ab262",
   "metadata": {
    "papermill": {},
    "tags": []
   },
   "source": [
    "## Model"
   ]
  },
  {
   "cell_type": "markdown",
   "id": "b1797f34-7d6d-4c82-b254-c8622d8892f9",
   "metadata": {
    "papermill": {},
    "tags": []
   },
   "source": [
    "### Clean data product name"
   ]
  },
  {
   "cell_type": "code",
   "execution_count": null,
   "id": "70b02320-d7a0-40d1-9ca9-ddfec03e10e3",
   "metadata": {
    "papermill": {},
    "tags": []
   },
   "outputs": [],
   "source": [
    "product_name = product_name.lower().replace(\" \", \"-\")\n",
    "print(\"✅ Data product name:\", product_name)"
   ]
  },
  {
   "cell_type": "markdown",
   "id": "47a52092-ac98-4eb8-bdc9-4ffdd2c2dc84",
   "metadata": {
    "papermill": {},
    "tags": []
   },
   "source": [
    "### Download data product framework repository (ZIP)"
   ]
  },
  {
   "cell_type": "code",
   "execution_count": null,
   "id": "ff89b4fb-e56d-44c4-abc7-9ce8eae62e16",
   "metadata": {
    "papermill": {},
    "tags": []
   },
   "outputs": [],
   "source": [
    "zip_url = f\"https://github.com/jupyter-naas/data-product-framework/archive/refs/heads/master.zip\"\n",
    "output_dir = f\"/home/ftp/{product_name}.zip\"\n",
    "urllib.request.urlretrieve(zip_url, output_dir)\n",
    "print(\"✅ Data Product Framework ZIP downloaded:\", output_dir)"
   ]
  },
  {
   "cell_type": "markdown",
   "id": "5c1cd170-f3e4-445b-96ae-a35f403c948d",
   "metadata": {
    "papermill": {},
    "tags": []
   },
   "source": [
    "### Unzip and rename reposistory"
   ]
  },
  {
   "cell_type": "code",
   "execution_count": null,
   "id": "f24ebd26-197a-4878-9348-9b59d8dca943",
   "metadata": {
    "papermill": {},
    "tags": []
   },
   "outputs": [],
   "source": [
    "with zipfile.ZipFile(output_dir, 'r') as zip_ref:\n",
    "    # extract files on root dir\n",
    "    zip_ref.extractall(\"/home/ftp/\")\n",
    "    \n",
    "current_folder_name = f\"/home/ftp/data-product-framework-main\"\n",
    "new_folder_name = f\"/home/ftp/{product_name}\"\n",
    "\n",
    "# Rename the folder\n",
    "i = 1\n",
    "while True:\n",
    "    if os.path.exists(new_folder_name):\n",
    "        new_folder_name = f\"{new_folder_name}_{i}\"\n",
    "        i += 1\n",
    "    else:\n",
    "        break\n",
    "os.rename(current_folder_name, new_folder_name)\n",
    "print(\"✅ Folder unzip:\", new_folder_name)"
   ]
  },
  {
   "cell_type": "markdown",
   "id": "069cf702-37dc-4407-9089-630be8cfdb2f",
   "metadata": {
    "execution": {
     "iopub.execute_input": "2023-04-10T13:51:38.287088Z",
     "iopub.status.busy": "2023-04-10T13:51:38.286833Z",
     "iopub.status.idle": "2023-04-10T13:51:38.290774Z",
     "shell.execute_reply": "2023-04-10T13:51:38.289705Z",
     "shell.execute_reply.started": "2023-04-10T13:51:38.287061Z"
    },
    "papermill": {},
    "tags": []
   },
   "source": [
    "### Remove ZIP"
   ]
  },
  {
   "cell_type": "code",
   "execution_count": null,
   "id": "17a79fab-3e65-4d9d-80ec-498affbbbc22",
   "metadata": {
    "papermill": {},
    "tags": []
   },
   "outputs": [],
   "source": [
    "os.remove(output_dir)\n",
    "print(\"✅ Data Product Framework ZIP removed from root folder\")"
   ]
  },
  {
   "cell_type": "markdown",
   "id": "3eeb0b84-ecc3-47d3-8b2f-2ee606573b87",
   "metadata": {
    "papermill": {},
    "tags": []
   },
   "source": [
    "### Copy Awesome-notebooks to your data product"
   ]
  },
  {
   "cell_type": "code",
   "execution_count": null,
   "id": "d9b116c8-4232-4220-9a1e-79765e37a9fd",
   "metadata": {
    "papermill": {},
    "tags": []
   },
   "outputs": [],
   "source": [
    "# Get all templates\n",
    "templates_path = sorted(glob.glob(\"/home/ftp/__templates__/*/*.ipynb\", recursive=True))\n",
    "df_templates = pd.DataFrame({\"TEMPLATE_PATH\": templates_path})\n",
    "df_templates[\"TEMPLATE_NAME\"] = df_templates.apply(lambda row: row[\"TEMPLATE_PATH\"].split(\"/\")[-1], axis=1)\n",
    "print(\"Templates found:\", len(df_templates))\n",
    "\n",
    "for notebook in notebooks:\n",
    "    if notebook.endswith(\".ipynb\") and notebook in df_templates[\"TEMPLATE_NAME\"].unique():\n",
    "        notebook_path = df_templates.loc[df_templates[\"TEMPLATE_NAME\"] == notebook, \"TEMPLATE_PATH\"].values[0]\n",
    "        dst_file = f\"{new_folder_name}/models/basic/{notebook}\"\n",
    "        shutil.copy2(notebook_path, dst_file)\n",
    "        print(f\"✅ Notebook '{notebook_path}' copied to '{dst_file}'\")      "
   ]
  },
  {
   "cell_type": "markdown",
   "id": "87a0e3b6-290d-48a2-9b03-bb1e61f2bdf5",
   "metadata": {
    "papermill": {},
    "tags": []
   },
   "source": [
    "## Output"
   ]
  },
  {
   "cell_type": "markdown",
   "id": "ebdabe6d-2c7e-4b79-bbea-69fead4e61df",
   "metadata": {
    "papermill": {},
    "tags": []
   },
   "source": [
    "### Display result"
   ]
  },
  {
   "cell_type": "code",
   "execution_count": null,
   "id": "163c414b-de56-488f-91a7-d6184266548a",
   "metadata": {
    "papermill": {},
    "tags": []
   },
   "outputs": [],
   "source": [
    "print(\"✅ You can now started working on your new data product:\", new_folder_name)"
   ]
  }
 ],
 "metadata": {
  "kernelspec": {
   "display_name": "Python 3",
   "language": "python",
   "name": "python3"
  },
  "language_info": {
   "codemirror_mode": {
    "name": "ipython",
    "version": 3
   },
   "file_extension": ".py",
   "mimetype": "text/x-python",
   "name": "python",
   "nbconvert_exporter": "python",
   "pygments_lexer": "ipython3",
   "version": "3.9.6"
  },
  "naas": {
   "notebook_id": "17a6818193a07da83c5d6e09deb7bc618424cfbb53e9405b8661bceabcdadd91",
   "notebook_path": "Naas/Naas_Start_data_product.ipynb"
  },
  "papermill": {
   "default_parameters": {},
   "environment_variables": {},
   "parameters": {},
   "version": "2.4.0"
  },
  "widgets": {
   "application/vnd.jupyter.widget-state+json": {
    "state": {},
    "version_major": 2,
    "version_minor": 0
   }
  }
 },
 "nbformat": 4,
 "nbformat_minor": 5
}