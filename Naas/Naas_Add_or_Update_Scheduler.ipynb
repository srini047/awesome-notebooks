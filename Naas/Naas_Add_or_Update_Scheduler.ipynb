{
 "cells": [
  {
   "cell_type": "markdown",
   "id": "a6cde7ac-e919-43f8-aa10-1e6da86dd2d3",
   "metadata": {
    "papermill": {},
    "tags": []
   },
   "source": [
    "<img width=\"10%\" alt=\"Naas\" src=\"https://landen.imgix.net/jtci2pxwjczr/assets/5ice39g4.png?w=160\"/>"
   ]
  },
  {
   "cell_type": "markdown",
   "id": "45b4697d-f78e-438c-8d95-adc68380e204",
   "metadata": {
    "papermill": {},
    "tags": []
   },
   "source": [
    "# Naas - Add or Update Scheduler\n",
    "<a href=\"https://app.naas.ai/user-redirect/naas/downloader?url=https://raw.githubusercontent.com/jupyter-naas/awesome-notebooks/master/Naas/Naas_Add_or_Update_Scheduler.ipynb\" target=\"_parent\"><img src=\"https://naasai-public.s3.eu-west-3.amazonaws.com/Open_in_Naas_Lab.svg\"/></a><br><br><a href=\"https://github.com/jupyter-naas/awesome-notebooks/issues/new?assignees=&labels=&template=template-request.md&title=Tool+-+Action+of+the+notebook+\">Template request</a> | <a href=\"https://github.com/jupyter-naas/awesome-notebooks/issues/new?assignees=&labels=bug&template=bug_report.md&title=Naas+-+Add+or+Update+Scheduler:+Error+short+description\">Bug report</a> | <a href=\"https://app.naas.ai/user-redirect/naas/downloader?url=https://raw.githubusercontent.com/jupyter-naas/awesome-notebooks/master/Naas/Naas_Start_data_product.ipynb\" target=\"_parent\">Generate Data Product</a>"
   ]
  },
  {
   "cell_type": "markdown",
   "id": "d698ca97-49e1-463f-8398-553bb673f14d",
   "metadata": {
    "papermill": {},
    "tags": []
   },
   "source": [
    "**Tags:** #naas #scheduler #snippet #operations #add #update"
   ]
  },
  {
   "cell_type": "markdown",
   "id": "f0305b6e-0c15-4f78-8d6d-5657d802a845",
   "metadata": {
    "papermill": {},
    "tags": []
   },
   "source": [
    "**Author:** [Florent Ravenel](https://www.linkedin.com/in/florent-ravenel)"
   ]
  },
  {
   "cell_type": "markdown",
   "id": "1b65b662-59e8-40d7-89cb-ee5da27baeea",
   "metadata": {
    "papermill": {},
    "tags": []
   },
   "source": [
    "**Description:** This notebook will show how to automate a notebook using the scheduler feature of Naas."
   ]
  },
  {
   "cell_type": "markdown",
   "id": "922ba076-111e-4257-a3ab-b6e22401828d",
   "metadata": {
    "papermill": {},
    "tags": []
   },
   "source": [
    "**References:**\n",
    "- [Naas Documentation](https://docs.naas.ai/)\n",
    "- [Naas Scheduler Documentation](https://docs.naas.ai/features/scheduler)"
   ]
  },
  {
   "cell_type": "markdown",
   "id": "3bafb84a-7a71-4306-b80f-84be64c73f96",
   "metadata": {
    "papermill": {},
    "tags": []
   },
   "source": [
    "## Input"
   ]
  },
  {
   "cell_type": "markdown",
   "id": "db9724de-9023-463f-af6c-7e49e330f99a",
   "metadata": {
    "papermill": {},
    "tags": []
   },
   "source": [
    "### Import libraries"
   ]
  },
  {
   "cell_type": "code",
   "execution_count": null,
   "id": "208b1d37-1766-47cf-8167-50e64dfb3edd",
   "metadata": {
    "papermill": {},
    "tags": []
   },
   "outputs": [],
   "source": [
    "import naas"
   ]
  },
  {
   "cell_type": "markdown",
   "id": "e7d65603-5303-45f8-be2d-ae74034d7f9f",
   "metadata": {
    "papermill": {},
    "tags": []
   },
   "source": [
    "### Setup Variables\n",
    "- `path`: path of the notebook to be deploy in production. If no path is set, the current notebook will be sent to production.\n",
    "- `cron`: We use CRON tasks to schedule notebooks, find the syntax you need to on: https://crontab.guru/\n",
    "- `notif_down`: List of emails. Receive an email when the notebook run fails. By default, you will received notifications on your email used on your naas account\n",
    "- `notif_up`: List of emails. Receive an email when the notebook runs well. By default, you won't received notifications if it went well."
   ]
  },
  {
   "cell_type": "code",
   "execution_count": null,
   "id": "eb482a79-df81-4a4a-97ab-ab60b46490a0",
   "metadata": {
    "papermill": {},
    "tags": []
   },
   "outputs": [],
   "source": [
    "path = None\n",
    "cron = \"0 9 * * *\"\n",
    "notif_down = []\n",
    "notif_up = []"
   ]
  },
  {
   "cell_type": "markdown",
   "id": "ae8f9740-36b4-43e9-9c74-c1985e3b0db6",
   "metadata": {
    "papermill": {},
    "tags": []
   },
   "source": [
    "## Model"
   ]
  },
  {
   "cell_type": "markdown",
   "id": "d982f78e-4396-43b4-98bf-433e192dffa6",
   "metadata": {
    "papermill": {},
    "tags": []
   },
   "source": [
    "### Add or Update Scheduler"
   ]
  },
  {
   "cell_type": "code",
   "execution_count": null,
   "id": "31af6deb-b3e4-4d1b-8543-8a5d0e6d7b9b",
   "metadata": {
    "papermill": {},
    "tags": []
   },
   "outputs": [],
   "source": [
    "naas.scheduler.add(path=path, cron=cron, params={\"notif_down\": notif_down, \"notif_up\": notif_up})"
   ]
  },
  {
   "cell_type": "markdown",
   "id": "6b303cab-209e-4f0e-82e1-2138026f741b",
   "metadata": {
    "papermill": {},
    "tags": []
   },
   "source": [
    "## Output"
   ]
  },
  {
   "cell_type": "markdown",
   "id": "767d6501-7b0c-4b38-9487-fde6994e3f8a",
   "metadata": {
    "papermill": {},
    "tags": []
   },
   "source": [
    "### Display result"
   ]
  },
  {
   "cell_type": "code",
   "execution_count": null,
   "id": "6440a22b-b99b-418b-ae62-6dc1855f79ac",
   "metadata": {
    "papermill": {},
    "tags": []
   },
   "outputs": [],
   "source": [
    "print(\"👌 Well done! Your Notebook has been sent to production.\")"
   ]
  }
 ],
 "metadata": {
  "kernelspec": {
   "display_name": "Python 3",
   "language": "python",
   "name": "python3"
  },
  "language_info": {
   "codemirror_mode": {
    "name": "ipython",
    "version": 3
   },
   "file_extension": ".py",
   "mimetype": "text/x-python",
   "name": "python",
   "nbconvert_exporter": "python",
   "pygments_lexer": "ipython3",
   "version": "3.9.6"
  },
  "naas": {
   "notebook_id": "6324a3458ed02970a57df320b23fe3db9e2b49b779c42a0851a2b64b47ad0948",
   "notebook_path": "Naas/Naas_Add_or_Update_Scheduler.ipynb"
  },
  "papermill": {
   "default_parameters": {},
   "environment_variables": {},
   "parameters": {},
   "version": "2.4.0"
  },
  "widgets": {
   "application/vnd.jupyter.widget-state+json": {
    "state": {},
    "version_major": 2,
    "version_minor": 0
   }
  }
 },
 "nbformat": 4,
 "nbformat_minor": 5
}