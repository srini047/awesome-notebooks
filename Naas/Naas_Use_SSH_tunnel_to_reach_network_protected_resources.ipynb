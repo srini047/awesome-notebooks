{
 "cells": [
  {
   "cell_type": "markdown",
   "id": "ce667998-b729-4d10-aed6-6679f4bc5d0c",
   "metadata": {
    "papermill": {},
    "tags": []
   },
   "source": [
    "<img width=\"10%\" alt=\"Naas\" src=\"https://landen.imgix.net/jtci2pxwjczr/assets/5ice39g4.png?w=160\"/>\n"
   ]
  },
  {
   "cell_type": "markdown",
   "id": "70b90f64-e2d6-4ce3-987c-abdfa5663ff6",
   "metadata": {
    "papermill": {},
    "tags": []
   },
   "source": [
    "# Naas - Use SSH tunnel to reach network protected resources\n",
    "<a href=\"https://app.naas.ai/user-redirect/naas/downloader?url=https://raw.githubusercontent.com/jupyter-naas/awesome-notebooks/master/Naas/Naas_Use_SSH_tunnel_to_reach_network_protected_resources.ipynb\" target=\"_parent\"><img src=\"https://naasai-public.s3.eu-west-3.amazonaws.com/Open_in_Naas_Lab.svg\"/></a><br><br><a href=\"https://github.com/jupyter-naas/awesome-notebooks/issues/new?assignees=&labels=&template=template-request.md&title=Tool+-+Action+of+the+notebook+\">Template request</a> | <a href=\"https://github.com/jupyter-naas/awesome-notebooks/issues/new?assignees=&labels=bug&template=bug_report.md&title=Naas+-+Use+SSH+tunnel+to+reach+network+protected+resources:+Error+short+description\">Bug report</a> | <a href=\"https://app.naas.ai/user-redirect/naas/downloader?url=https://raw.githubusercontent.com/jupyter-naas/awesome-notebooks/master/Naas/Naas_Start_data_product.ipynb\" target=\"_parent\">Generate Data Product</a>"
   ]
  },
  {
   "cell_type": "markdown",
   "id": "6526f383-8187-4df3-8a66-b4f6a1a18fde",
   "metadata": {
    "papermill": {},
    "tags": []
   },
   "source": [
    "**Tags:** #naas #ssh #snippet"
   ]
  },
  {
   "cell_type": "markdown",
   "id": "61e6d7e4-f9de-4b74-b6d8-0e2bcedd4d79",
   "metadata": {
    "papermill": {},
    "tags": []
   },
   "source": [
    "**Author:** [Maxime Jublou](https://www.linkedin.com/in/maximejublou)"
   ]
  },
  {
   "cell_type": "markdown",
   "id": "naas-description",
   "metadata": {
    "papermill": {},
    "tags": [
     "description"
    ]
   },
   "source": [
    "**Description:** This notebook provides instructions on how to use an SSH tunnel to securely access resources on a network that is otherwise protected."
   ]
  },
  {
   "cell_type": "markdown",
   "id": "6442d0b8-fab3-4fab-a540-ee29143acc27",
   "metadata": {
    "papermill": {},
    "tags": []
   },
   "source": [
    "## Input"
   ]
  },
  {
   "cell_type": "markdown",
   "id": "c503cca5-2181-43d7-aecf-2d3d176a35a3",
   "metadata": {
    "papermill": {},
    "tags": []
   },
   "source": [
    "### Install and import libraries"
   ]
  },
  {
   "cell_type": "code",
   "execution_count": null,
   "id": "f1915de2-38b5-4a0d-b5b5-933858d197af",
   "metadata": {
    "papermill": {},
    "tags": []
   },
   "outputs": [],
   "source": [
    "try:\n",
    "    import sshtunnel\n",
    "except:\n",
    "    ! pip install --user sshtunnel paramiko\n",
    "    import sshtunnel\n",
    "\n",
    "try:\n",
    "    import psycopg2\n",
    "except:\n",
    "    ! pip install --user psycopg2-binary\n",
    "    import psycopg2"
   ]
  },
  {
   "cell_type": "markdown",
   "id": "952a005f-154c-4886-a6a1-a83555a4e481",
   "metadata": {
    "papermill": {},
    "tags": []
   },
   "source": [
    "## Model"
   ]
  },
  {
   "cell_type": "markdown",
   "id": "28f2ca88-862c-4ffc-b128-ed726f5f880b",
   "metadata": {
    "papermill": {},
    "tags": []
   },
   "source": [
    "### Configure an SSH tunnel"
   ]
  },
  {
   "cell_type": "code",
   "execution_count": null,
   "id": "fddfc0e3-9dea-456d-b561-8b21acee329f",
   "metadata": {
    "papermill": {},
    "tags": []
   },
   "outputs": [],
   "source": [
    "tunnel = sshtunnel.open_tunnel(\n",
    "    (\"1.2.3.4\", 22),  # The IP address of the SSH server you want to connect to.\n",
    "    ssh_username=\"user\",  # SSH username\n",
    "    ssh_pkey=\"path/to/ssh_key\",  # SSH key to use\n",
    "    remote_bind_addresses=[  # List of remote servers. Lets say the database you\n",
    "        (\"10.0.0.2\", 5432)\n",
    "    ],\n",
    ")"
   ]
  },
  {
   "cell_type": "markdown",
   "id": "1dddeafe-6d81-4a2b-9598-5e27875206ac",
   "metadata": {
    "papermill": {},
    "tags": []
   },
   "source": [
    "### Open the tunnel"
   ]
  },
  {
   "cell_type": "code",
   "execution_count": null,
   "id": "317bbfd2-c334-4888-8fab-e2b6fb45ec4b",
   "metadata": {
    "papermill": {},
    "tags": []
   },
   "outputs": [],
   "source": [
    "tunnel.start()\n",
    "tunnel.tunnel_is_up()"
   ]
  },
  {
   "cell_type": "markdown",
   "id": "2d293265-c444-4a94-bb47-b6c86b39eaff",
   "metadata": {
    "papermill": {},
    "tags": []
   },
   "source": [
    "Example of output:\n",
    "\n",
    "```\n",
    "{('0.0.0.0', 42359)}\n",
    "```\n",
    "\n",
    "The following output is telling us that we now have an SSH tunnel that we can connect to on `127.0.0.1:42359` this will send us to `10.0.0.2:5432` which is our Postgres instance.\n",
    "\n"
   ]
  },
  {
   "cell_type": "markdown",
   "id": "deca4d34-ddb5-4706-96cd-9274e926eca4",
   "metadata": {
    "papermill": {},
    "tags": []
   },
   "source": [
    "### Store the open port in a variable"
   ]
  },
  {
   "cell_type": "code",
   "execution_count": null,
   "id": "3294e67a-439a-4191-b4f0-614d95033e81",
   "metadata": {
    "papermill": {},
    "tags": []
   },
   "outputs": [],
   "source": [
    "local_listening_tunnels = list(tunnel.tunnel_is_up())\n",
    "local_port = local_listening_tunnels[0][1]  # This is to get the local port."
   ]
  },
  {
   "cell_type": "markdown",
   "id": "c2387cd0-5188-4f5a-a2ab-6df4c9154d4e",
   "metadata": {
    "papermill": {},
    "tags": []
   },
   "source": [
    "### Connect to Postgres"
   ]
  },
  {
   "cell_type": "code",
   "execution_count": null,
   "id": "24eaf0f8-be8b-4560-ad4d-f88d8f4124ac",
   "metadata": {
    "papermill": {},
    "tags": []
   },
   "outputs": [],
   "source": [
    "conn = psycopg2.connect(\n",
    "    dbname=\"myDatabase\",\n",
    "    user=\"myUser\",\n",
    "    password=\"myPassword\",\n",
    "    host=\"127.0.0.1\",  # We are going through the tunnel here,\n",
    "    port=local_port,\n",
    ")\n",
    "\n",
    "# You can know use your connection"
   ]
  },
  {
   "cell_type": "markdown",
   "id": "094a8bc4-ca56-406c-b1e1-3e18c1c67453",
   "metadata": {
    "papermill": {},
    "tags": []
   },
   "source": [
    "### Close SSH Tunnel\n",
    "\n",
    "It's important to close your tunnel (even though it will be done automatically when the Kernel is killed)"
   ]
  },
  {
   "cell_type": "code",
   "execution_count": null,
   "id": "b2008d93-968f-4184-8f6b-3c6ab6b96433",
   "metadata": {
    "papermill": {},
    "tags": []
   },
   "outputs": [],
   "source": [
    "tunnel.close()"
   ]
  },
  {
   "cell_type": "markdown",
   "id": "8b5c38c3-3d7d-4f2a-b587-763f9a48d8f5",
   "metadata": {
    "papermill": {},
    "tags": []
   },
   "source": [
    "## Output"
   ]
  },
  {
   "cell_type": "markdown",
   "id": "aecddeb9-21a8-4c8b-8c91-caec5f040f13",
   "metadata": {
    "papermill": {},
    "tags": []
   },
   "source": [
    "As this notebook is more a how to we do not have outputs"
   ]
  },
  {
   "cell_type": "markdown",
   "id": "625652e7-ecee-43ba-af06-f6b6eee59334",
   "metadata": {
    "papermill": {},
    "tags": []
   },
   "source": [
    "🎉 You now know how to create an SSH tunnel on naas.\n",
    "\n",
    "The fact that we are using `tunnel.tunnel_is_up()` will allow you to have multiple notebooks running on production, opening tunnels to the same SSH server / databases without interferring with each other because the local ports will be random.\n",
    "\n",
    "If you still need help with this notebook, contact me on [LinkedIn](https://www.linkedin.com/in/maximejublou)."
   ]
  }
 ],
 "metadata": {
  "kernelspec": {
   "display_name": "Python 3",
   "language": "python",
   "name": "python3"
  },
  "language_info": {
   "codemirror_mode": {
    "name": "ipython",
    "version": 3
   },
   "file_extension": ".py",
   "mimetype": "text/x-python",
   "name": "python",
   "nbconvert_exporter": "python",
   "pygments_lexer": "ipython3",
   "version": "3.9.6"
  },
  "naas": {
   "notebook_id": "d9094479c5bfd3f36bf674ca012c3b174702051ba15319d9bd9213fd3454fd9f",
   "notebook_path": "Naas/Naas_Use_SSH_tunnel_to_reach_network_protected_resources.ipynb"
  },
  "papermill": {
   "default_parameters": {},
   "environment_variables": {},
   "parameters": {},
   "version": "2.3.4"
  }
 },
 "nbformat": 4,
 "nbformat_minor": 5
}