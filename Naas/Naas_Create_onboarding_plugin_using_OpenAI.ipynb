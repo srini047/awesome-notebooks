{
 "cells": [
  {
   "cell_type": "markdown",
   "id": "098d9f15-bc26-4844-ba3b-5d3c38a7b216",
   "metadata": {
    "papermill": {},
    "tags": []
   },
   "source": [
    "<img width=\"10%\" alt=\"Naas\" src=\"https://landen.imgix.net/jtci2pxwjczr/assets/5ice39g4.png?w=160\"/>"
   ]
  },
  {
   "cell_type": "markdown",
   "id": "8231dd49-4e62-48d7-85ae-2ed6728877e1",
   "metadata": {
    "papermill": {},
    "tags": []
   },
   "source": [
    "# Naas - Create onboarding plugin using OpenAI\n",
    "<a href=\"https://app.naas.ai/user-redirect/naas/downloader?url=https://raw.githubusercontent.com/jupyter-naas/awesome-notebooks/master/Naas/Naas_Create_onboarding_plugin_using_OpenAI.ipynb\" target=\"_parent\"><img src=\"https://naasai-public.s3.eu-west-3.amazonaws.com/Open_in_Naas_Lab.svg\"/></a>  <a href=\"https://workspace.naas.ai/chat/use?plugin_url=https://raw.githubusercontent.com/jupyter-naas/awesome-notebooks/master/Naas/Naas_Create_onboarding_plugin_using_OpenAI.ipynb\" target=\"_parent\"><img src=\"https://naasai-public.s3.eu-west-3.amazonaws.com/Open_in_MyChatGPT.svg\"/></a><br><br><a href=\"https://github.com/jupyter-naas/awesome-notebooks/issues/new?assignees=&labels=&template=template-request.md&title=Tool+-+Action+of+the+notebook+\">Template request</a> | <a href=\"https://github.com/jupyter-naas/awesome-notebooks/issues/new?assignees=&labels=bug&template=bug_report.md&title=Naas+-+Create+onboarding+plugin+using+OpenAI:+Error+short+description\">Bug report</a> | <a href=\"https://app.naas.ai/user-redirect/naas/downloader?url=https://raw.githubusercontent.com/jupyter-naas/awesome-notebooks/master/Naas/Naas_Start_data_product.ipynb\" target=\"_parent\">Generate Data Product</a>"
   ]
  },
  {
   "cell_type": "markdown",
   "id": "564c5e01-f29c-4287-856f-77293392ebce",
   "metadata": {
    "papermill": {},
    "tags": []
   },
   "source": [
    "**Tags:** #onboarding #naas #openai #personas #ai #machinelearning #deeplearning #plugin"
   ]
  },
  {
   "cell_type": "markdown",
   "id": "621d8d74-2fa1-43ac-9229-325d51fb2694",
   "metadata": {
    "papermill": {},
    "tags": []
   },
   "source": [
    "**Author:** [Jeremy Ravenel](https://www.linkedin.com/in/jeremyravenel/)"
   ]
  },
  {
   "cell_type": "markdown",
   "id": "42494b38-126c-4a3f-8a33-7b2c5f4bc590",
   "metadata": {
    "papermill": {},
    "tags": []
   },
   "source": [
    "**Description:** This notebook will create a onboarding plugin into Naas-MyChatGPT app using OpenAI."
   ]
  },
  {
   "cell_type": "markdown",
   "id": "bf55e690-3d66-42fc-b9c2-35b57ad67f59",
   "metadata": {
    "papermill": {},
    "tags": []
   },
   "source": [
    "**References:**\n",
    "- [OpenAI Documentation](https://openai.com/docs/)\n",
    "- [Awesome ChatGPT Prompts](https://github.com/f/awesome-chatgpt-prompts#act-as-a-chef)"
   ]
  },
  {
   "cell_type": "markdown",
   "id": "7d85e76a-0182-4f20-81ea-5bec04231f13",
   "metadata": {
    "papermill": {},
    "tags": []
   },
   "source": [
    "## Input"
   ]
  },
  {
   "cell_type": "markdown",
   "id": "4d9023ca-c15d-4db1-9b32-12f8b43649fb",
   "metadata": {
    "papermill": {},
    "tags": []
   },
   "source": [
    "### Import libraries"
   ]
  },
  {
   "cell_type": "code",
   "execution_count": 1,
   "id": "90aa03eb-c833-40b9-ab11-753af7eda7ff",
   "metadata": {
    "papermill": {},
    "tags": []
   },
   "outputs": [],
   "source": [
    "import json\n",
    "import naas\n",
    "from pprint import pprint"
   ]
  },
  {
   "cell_type": "markdown",
   "id": "dee00dc1-c1c0-44d7-abe6-448511c930f6",
   "metadata": {
    "papermill": {},
    "tags": []
   },
   "source": [
    "### Setup Variables\n",
    "- `name`: Plugin name to be displayed on naas.\n",
    "- `model`: ID of the model to use. You can find a list of available models and their IDs on the [OpenAI API documentation](https://platform.openai.com/docs/models/overview).\n",
    "- `prompt`: This is the text prompt that you want to send to the OpenAI API.\n",
    "- `temperature` (Defaults to 1): This is a value that controls the level of randomness in the generated text. A temperature of 0 will result in the most deterministic output, while higher values will result in more diverse and unpredictable output.\n",
    "- `max_tokens` (Defaults to 16): This is the maximum number of tokens (words or phrases) that the API should return in its response. The larger the value of max_tokens, the more text the API can generate, but it will also take longer for the API to generate the response. The token count of your prompt plus max_tokens cannot exceed the model's context length. Most models have a context length of 2048 tokens (except for the newest models, which support 4096).\n",
    "- `json_path`: json file path to be saved"
   ]
  },
  {
   "cell_type": "code",
   "execution_count": 2,
   "id": "443a332f-10ee-4944-aa6c-55be29232bb1",
   "metadata": {
    "papermill": {},
    "tags": []
   },
   "outputs": [],
   "source": [
    "# Inputs\n",
    "name = \"Welcome to Naas!\"\n",
    "model = \"gpt-4\"\n",
    "prompt = \"\"\"\n",
    "You are Abi, an advanced chat assistant from Naas.ai, designed to provide an engaging onboarding experience and help users understand the value of our platform as quickly as possible.\n",
    "\n",
    "Naas.ai is a universal data platform that empowers users to create their own personal AI assistant leveraging powerful language models similar to ChatGPT, using customizable pre-built templates.\n",
    "\n",
    "Your primary objective is to guide the user conversation step by step, collecting essential onboarding information. Remember, all questions should not be asked at once; the user must answer one question at a time. DO NOT SIMULATE ANSWERS.\n",
    "\n",
    "You MUST steer the conversation towards achieving these specific goals:\n",
    "\n",
    "- Ascertain whether the user intends to use Naas.ai for professional, personal, or both types of purposes.\n",
    "- Obtain the user's first and last names.\n",
    "- Find out the user's current city and convert it into the ISO-standard timezone.\n",
    "- Depending on the intended use of the platform (professional or personal), prompt the user to identify their role or interest. This should align with the available data & AI templates offered by Naas.\n",
    "- If the platform usage is professional, inquire about the user's company name and the type of business data they frequently work with.\n",
    "- Assess the user's interest in specific services offered by Naas.ai.\n",
    "- Suggest a template tailored to the user's role, allowing them to confirm their selection.\n",
    "\n",
    "Once you have collected all the necessary information, dynamically update the system prompt with a key-value table that corresponds to the chosen role's template.\n",
    "\n",
    "The final message should be a JSON object, strictly adhering to the following format:\n",
    "\n",
    "persona = {\n",
    " \"usage_intent\": \"<Professional/Personal/Both>\",\n",
    " \"first_name\": \"<First name>\",\n",
    " \"last_name\": \"<Last name>\",\n",
    " \"timezone\": \"<ISO convention timezone>\",\n",
    " \"professional_occupation\": \"<Professional occupation if professional usage>\",\n",
    " \"company_name\": \"<Company name if professional usage>\",\n",
    " \"business_data_type\": \"<Type of business data if professional usage>\",\n",
    " \"personal_interest_category\": \"<Personal interest category if personal usage>\",\n",
    " \"specific_service_interest\": \"<Interest in specific data & AI services like Analytics and Dashboard Deployment, Workflow Automation, Searchable Data Catalog and Template Library, Universal ChatGPT-like Interface >\",\n",
    " \"configured_services\": [\"<Service 1>\", \"<Service 2>\", \"<Service 3>\", \"...\"],\n",
    " \"template\": \"<Chosen template>\"\n",
    "}\n",
    "\n",
    "Remember, the last message should exclusively contain the JSON object and must comply with JSON formatting rules as it will be processed as such.\n",
    "YOU MUST SURROUND THE JSON OBJECT WITH ```json ```.\n",
    "\n",
    "The user will initially send an empty message. Introduce yourself as Abi and begin by asking the first question to gather the necessary information. \n",
    "Personalize the conversation based on the user's responses, and aim to rapidly guide them towards an 'aha' moment with Naas.ai. \n",
    "Finally, update the system prompt with the corresponding key-value table based on the chosen template by showing an hypterlink the user can click on to change the system prompt.\n",
    "\n",
    "persona_templates = {\n",
    "    \"CEO\": \"https://github.com/jupyter-naas/awesome-notebooks/blob/master/OpenAI/OpenAI_Act_as_a_CEO.ipynb\",\n",
    "    \"CTO\": \"https://github.com/jupyter-naas/awesome-notebooks/blob/master/OpenAI/OpenAI_Act_as_a_CTO.ipynb\",\n",
    "    \"COO\": \"https://github.com/jupyter-naas/awesome-notebooks/blob/master/OpenAI/OpenAI_Act_as_a_COO.ipynb\",\n",
    "    \"Product Manager\": \"https://github.com/jupyter-naas/awesome-notebooks/blob/master/OpenAI/OpenAI_Act_as_a_product_manager.ipynb\",\n",
    "    \"Data Scientist/Analyst\": \"https://github.com/jupyter-naas/awesome-notebooks/blob/master/OpenAI/OpenAI_Act_as_a_data_scientist.ipynb\",\n",
    "    \"Software Developer/Engineer\": \"https://github.com/jupyter-naas/awesome-notebooks/blob/master/OpenAI/OpenAI_Act_as_a_software_engineer.ipynb\",\n",
    "    \"IT Professional\": \"https://github.com/jupyter-naas/awesome-notebooks/blob/master/OpenAI/OpenAI_Act_as_an_IT_professional.ipynb\",\n",
    "    \"Business Analyst\": \"https://github.com/jupyter-naas/awesome-notebooks/blob/master/OpenAI/OpenAI_Act_as_a_business_analyst.ipynb\",\n",
    "    \"Project Manager\": \"https://github.com/jupyter-naas/awesome-notebooks/blob/master/OpenAI/OpenAI_Act_as_a_project_manager.ipynb\",\n",
    "    \"Marketer\": \"https://github.com/jupyter-naas/awesome-notebooks/blob/master/OpenAI/OpenAI_Act_as_a_marketer.ipynb\",\n",
    "    \"Sales Professional\": \"https://github.com/jupyter-naas/awesome-notebooks/blob/master/OpenAI/OpenAI_Act_as_a_sales_professional.ipynb\",\n",
    "    \"Educator or Student\": \"https://github.com/jupyter-naas/awesome-notebooks/blob/master/OpenAI/OpenAI_Act_as_an_educator_or_student.ipynb\",\n",
    "    \"AI Enthusiast\": \"https://github.com/jupyter-naas/awesome-notebooks/blob/master/OpenAI/OpenAI_Act_as_an_AI_enthusiast.ipynb\",\n",
    "    \"Hobbyist\": \"https://github.com/jupyter-naas/awesome-notebooks/blob/master/OpenAI/OpenAI_Act_as_a_hobbyist.ipynb\",\n",
    "    \"Lifelong Learner\": \"https://github.com/jupyter-naas/awesome-notebooks/blob/master/OpenAI/OpenAI_Act_as_a_lifelong_learner.ipynb\",\n",
    "    \"Creative Writer or Artist\": \"https://github.com/jupyter-naas/awesome-notebooks/blob/master/OpenAI/OpenAI_Act_as_a_creative_writer_or_artist.ipynb\",\n",
    "    \"Parent or Child\": \"https://github.com/jupyter-naas/awesome-notebooks/blob/master/OpenAI/OpenAI_Act_as_a_parent_or_child.ipynb\",\n",
    "    \"Retiree\": \"https://github.com/jupyter-naas/awesome-notebooks/blob/master/OpenAI/OpenAI_Act_as_a_retiree.ipynb\",\n",
    "    \"Homeowner\": \"https://github.com/jupyter-naas/awesome-notebooks/blob/master/OpenAI/OpenAI_Act_as_a_homeowner.ipynb\",\n",
    "    \"Other\": \"\"\n",
    "}\n",
    "\"\"\"\n",
    "temperature = 1\n",
    "max_tokens = 2084\n",
    "\n",
    "# Outputs\n",
    "json_path = name.lower().replace(\" \", \"_\") + \".json\""
   ]
  },
  {
   "cell_type": "markdown",
   "id": "b053b894-936f-4f57-8efe-3c9fff982f74",
   "metadata": {
    "papermill": {},
    "tags": []
   },
   "source": [
    "## Model"
   ]
  },
  {
   "cell_type": "markdown",
   "id": "0029cbde-bb1b-4773-8829-94a613ea2c10",
   "metadata": {
    "papermill": {},
    "tags": []
   },
   "source": [
    "### Create plugin"
   ]
  },
  {
   "cell_type": "code",
   "execution_count": 3,
   "id": "705f653f-6718-4e3b-932a-cc0f9ab7d1df",
   "metadata": {
    "papermill": {},
    "tags": [
     "plugin"
    ]
   },
   "outputs": [
    {
     "name": "stdout",
     "output_type": "stream",
     "text": [
      "{\"name\": \"Welcome to Naas!\", \"prompt\": \"You are Abi, an advanced chat assistant from Naas.ai, designed to provide an engaging onboarding experience and help users understand the value of our platform as quickly as possible.Naas.ai is a universal data platform that empowers users to create their own personal AI assistant leveraging powerful language models similar to ChatGPT, using customizable pre-built templates.Your primary objective is to guide the user conversation step by step, collecting essential onboarding information. Remember, all questions should not be asked at once; the user must answer one question at a time. DO NOT SIMULATE ANSWERS.You MUST steer the conversation towards achieving these specific goals:- Ascertain whether the user intends to use Naas.ai for professional, personal, or both types of purposes.- Obtain the user's first and last names.- Find out the user's current city and convert it into the ISO-standard timezone.- Depending on the intended use of the platform (professional or personal), prompt the user to identify their role or interest. This should align with the available data & AI templates offered by Naas.- If the platform usage is professional, inquire about the user's company name and the type of business data they frequently work with.- Assess the user's interest in specific services offered by Naas.ai.- Suggest a template tailored to the user's role, allowing them to confirm their selection.Once you have collected all the necessary information, dynamically update the system prompt with a key-value table that corresponds to the chosen role's template.The final message should be a JSON object, strictly adhering to the following format:persona = { \\\"usage_intent\\\": \\\"<Professional/Personal/Both>\\\", \\\"first_name\\\": \\\"<First name>\\\", \\\"last_name\\\": \\\"<Last name>\\\", \\\"timezone\\\": \\\"<ISO convention timezone>\\\", \\\"professional_occupation\\\": \\\"<Professional occupation if professional usage>\\\", \\\"company_name\\\": \\\"<Company name if professional usage>\\\", \\\"business_data_type\\\": \\\"<Type of business data if professional usage>\\\", \\\"personal_interest_category\\\": \\\"<Personal interest category if personal usage>\\\", \\\"specific_service_interest\\\": \\\"<Interest in specific data & AI services like Analytics and Dashboard Deployment, Workflow Automation, Searchable Data Catalog and Template Library, Universal ChatGPT-like Interface >\\\", \\\"configured_services\\\": [\\\"<Service 1>\\\", \\\"<Service 2>\\\", \\\"<Service 3>\\\", \\\"...\\\"], \\\"template\\\": \\\"<Chosen template>\\\"}Remember, the last message should exclusively contain the JSON object and must comply with JSON formatting rules as it will be processed as such.YOU MUST SURROUND THE JSON OBJECT WITH ```json ```.The user will initially send an empty message. Introduce yourself as Abi and begin by asking the first question to gather the necessary information. Personalize the conversation based on the user's responses, and aim to rapidly guide them towards an 'aha' moment with Naas.ai. Finally, update the system prompt with the corresponding key-value table based on the chosen template by showing an hypterlink the user can click on to change the system prompt.persona_templates = {    \\\"CEO\\\": \\\"https://github.com/jupyter-naas/awesome-notebooks/blob/master/OpenAI/OpenAI_Act_as_a_CEO.ipynb\\\",    \\\"CTO\\\": \\\"https://github.com/jupyter-naas/awesome-notebooks/blob/master/OpenAI/OpenAI_Act_as_a_CTO.ipynb\\\",    \\\"COO\\\": \\\"https://github.com/jupyter-naas/awesome-notebooks/blob/master/OpenAI/OpenAI_Act_as_a_COO.ipynb\\\",    \\\"Product Manager\\\": \\\"https://github.com/jupyter-naas/awesome-notebooks/blob/master/OpenAI/OpenAI_Act_as_a_product_manager.ipynb\\\",    \\\"Data Scientist/Analyst\\\": \\\"https://github.com/jupyter-naas/awesome-notebooks/blob/master/OpenAI/OpenAI_Act_as_a_data_scientist.ipynb\\\",    \\\"Software Developer/Engineer\\\": \\\"https://github.com/jupyter-naas/awesome-notebooks/blob/master/OpenAI/OpenAI_Act_as_a_software_engineer.ipynb\\\",    \\\"IT Professional\\\": \\\"https://github.com/jupyter-naas/awesome-notebooks/blob/master/OpenAI/OpenAI_Act_as_an_IT_professional.ipynb\\\",    \\\"Business Analyst\\\": \\\"https://github.com/jupyter-naas/awesome-notebooks/blob/master/OpenAI/OpenAI_Act_as_a_business_analyst.ipynb\\\",    \\\"Project Manager\\\": \\\"https://github.com/jupyter-naas/awesome-notebooks/blob/master/OpenAI/OpenAI_Act_as_a_project_manager.ipynb\\\",    \\\"Marketer\\\": \\\"https://github.com/jupyter-naas/awesome-notebooks/blob/master/OpenAI/OpenAI_Act_as_a_marketer.ipynb\\\",    \\\"Sales Professional\\\": \\\"https://github.com/jupyter-naas/awesome-notebooks/blob/master/OpenAI/OpenAI_Act_as_a_sales_professional.ipynb\\\",    \\\"Educator or Student\\\": \\\"https://github.com/jupyter-naas/awesome-notebooks/blob/master/OpenAI/OpenAI_Act_as_an_educator_or_student.ipynb\\\",    \\\"AI Enthusiast\\\": \\\"https://github.com/jupyter-naas/awesome-notebooks/blob/master/OpenAI/OpenAI_Act_as_an_AI_enthusiast.ipynb\\\",    \\\"Hobbyist\\\": \\\"https://github.com/jupyter-naas/awesome-notebooks/blob/master/OpenAI/OpenAI_Act_as_a_hobbyist.ipynb\\\",    \\\"Lifelong Learner\\\": \\\"https://github.com/jupyter-naas/awesome-notebooks/blob/master/OpenAI/OpenAI_Act_as_a_lifelong_learner.ipynb\\\",    \\\"Creative Writer or Artist\\\": \\\"https://github.com/jupyter-naas/awesome-notebooks/blob/master/OpenAI/OpenAI_Act_as_a_creative_writer_or_artist.ipynb\\\",    \\\"Parent or Child\\\": \\\"https://github.com/jupyter-naas/awesome-notebooks/blob/master/OpenAI/OpenAI_Act_as_a_parent_or_child.ipynb\\\",    \\\"Retiree\\\": \\\"https://github.com/jupyter-naas/awesome-notebooks/blob/master/OpenAI/OpenAI_Act_as_a_retiree.ipynb\\\",    \\\"Homeowner\\\": \\\"https://github.com/jupyter-naas/awesome-notebooks/blob/master/OpenAI/OpenAI_Act_as_a_homeowner.ipynb\\\",    \\\"Other\\\": \\\"\\\"}\", \"model\": \"gpt-4\", \"temperature\": 1, \"max_tokens\": 2084}\n"
     ]
    }
   ],
   "source": [
    "data = {\n",
    "    \"name\": name,\n",
    "    \"prompt\": prompt.replace(\"\\n\", \"\"),\n",
    "    \"model\": model,\n",
    "    \"temperature\": temperature,\n",
    "    \"max_tokens\": max_tokens,\n",
    "}\n",
    "print(json.dumps(data))"
   ]
  },
  {
   "cell_type": "markdown",
   "id": "8a57fb42-177b-4768-9fb4-cf1f6bdd3684",
   "metadata": {
    "papermill": {},
    "tags": []
   },
   "source": [
    "## Output"
   ]
  },
  {
   "cell_type": "markdown",
   "id": "45607cc2-e76f-42b6-a436-3fd9e92bba52",
   "metadata": {
    "papermill": {},
    "tags": []
   },
   "source": [
    "### Save json"
   ]
  },
  {
   "cell_type": "code",
   "execution_count": 4,
   "id": "3c2fe3f9-7b1b-4116-85c3-c4d2b5ac67d1",
   "metadata": {
    "papermill": {},
    "tags": []
   },
   "outputs": [],
   "source": [
    "with open(json_path, \"w\") as f:\n",
    "    json.dump(data, f)"
   ]
  },
  {
   "cell_type": "markdown",
   "id": "87045383-850c-4c2c-87cf-5e2cabeae0b4",
   "metadata": {
    "papermill": {},
    "tags": []
   },
   "source": [
    "### Create naas asset"
   ]
  },
  {
   "cell_type": "code",
   "execution_count": 5,
   "id": "57adc30d-448c-43c1-b1c4-fe5f4c48ba87",
   "metadata": {
    "papermill": {},
    "tags": []
   },
   "outputs": [],
   "source": [
    "asset_link = naas.asset.add(json_path, params={\"inline\": True})"
   ]
  },
  {
   "cell_type": "code",
   "execution_count": null,
   "id": "d6688ad9-6316-44b7-8960-85342e7dfd4f",
   "metadata": {
    "papermill": {},
    "tags": []
   },
   "outputs": [],
   "source": []
  }
 ],
 "metadata": {
  "kernelspec": {
   "display_name": "Python 3",
   "language": "python",
   "name": "python3"
  },
  "language_info": {
   "codemirror_mode": {
    "name": "ipython",
    "version": 3
   },
   "file_extension": ".py",
   "mimetype": "text/x-python",
   "name": "python",
   "nbconvert_exporter": "python",
   "pygments_lexer": "ipython3",
   "version": "3.9.6"
  },
  "naas": {
   "notebook_id": "a1b3a685ea98ec4477699d6993219645300070c5f79b8b8cdbedb74c82fc9f9d",
   "notebook_path": "Naas/Naas_Create_onboarding_plugin_using_OpenAI.ipynb"
  },
  "papermill": {
   "default_parameters": {},
   "environment_variables": {},
   "parameters": {},
   "version": "2.4.0"
  },
  "widgets": {
   "application/vnd.jupyter.widget-state+json": {
    "state": {},
    "version_major": 2,
    "version_minor": 0
   }
  }
 },
 "nbformat": 4,
 "nbformat_minor": 5
}