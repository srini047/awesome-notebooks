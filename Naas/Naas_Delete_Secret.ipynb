{
 "cells": [
  {
   "cell_type": "markdown",
   "id": "abbf16c3-5fd9-4d2f-9997-ce0ef386ffd7",
   "metadata": {
    "papermill": {},
    "tags": []
   },
   "source": [
    "<img width=\"10%\" alt=\"Naas\" src=\"https://landen.imgix.net/jtci2pxwjczr/assets/5ice39g4.png?w=160\"/>"
   ]
  },
  {
   "cell_type": "markdown",
   "id": "98a7138e-26ef-4cb3-a0b0-8d152f66d7e3",
   "metadata": {
    "papermill": {},
    "tags": []
   },
   "source": [
    "# Naas - Delete Secret\n",
    "<a href=\"https://app.naas.ai/user-redirect/naas/downloader?url=https://raw.githubusercontent.com/jupyter-naas/awesome-notebooks/master/Naas/Naas_Delete_Secret.ipynb\" target=\"_parent\"><img src=\"https://naasai-public.s3.eu-west-3.amazonaws.com/Open_in_Naas_Lab.svg\"/></a><br><br><a href=\"https://github.com/jupyter-naas/awesome-notebooks/issues/new?assignees=&labels=&template=template-request.md&title=Tool+-+Action+of+the+notebook+\">Template request</a> | <a href=\"https://github.com/jupyter-naas/awesome-notebooks/issues/new?assignees=&labels=bug&template=bug_report.md&title=Naas+-+Delete+Secret:+Error+short+description\">Bug report</a> | <a href=\"https://app.naas.ai/user-redirect/naas/downloader?url=https://raw.githubusercontent.com/jupyter-naas/awesome-notebooks/master/Naas/Naas_Start_data_product.ipynb\" target=\"_parent\">Generate Data Product</a>"
   ]
  },
  {
   "cell_type": "markdown",
   "id": "b5675fb2-ddc4-44ca-94d4-30aae0e8d343",
   "metadata": {
    "papermill": {},
    "tags": []
   },
   "source": [
    "**Tags:** #naas #secret #delete #api #python #snippet"
   ]
  },
  {
   "cell_type": "markdown",
   "id": "3123006b-cf35-4067-8a2a-c66ea794a2bc",
   "metadata": {
    "papermill": {},
    "tags": []
   },
   "source": [
    "**Author:** [Florent Ravenel](https://www.linkedin.com/in/florent-ravenel)"
   ]
  },
  {
   "cell_type": "markdown",
   "id": "0b39429c-9853-4ea4-8a23-a48ac896e31f",
   "metadata": {
    "papermill": {},
    "tags": []
   },
   "source": [
    "**Description:** This notebook will show how to delete a secret in Naas.\n",
    "\n",
    "Secrets are an important part of Naas, when you need to interact with other services, you need secret, like any other variable the temptation is big to put it straight in your notebook, but this lead to a big security breach since we replicate a lot the notebook, in the versioning system, the output and your ability to share it or send it to git!  \n",
    "Use this simple feature instead to have global secure storage share with your sandbox and production.\n",
    "Secrets are local to your machine and encoded, that a big layer of security with a little effort."
   ]
  },
  {
   "cell_type": "markdown",
   "id": "a2b9da31-da6b-416b-b1d0-24911a5f8b29",
   "metadata": {
    "papermill": {},
    "tags": []
   },
   "source": [
    "**References:**\n",
    "- [Naas Documentation](https://docs.naas.ai/)\n",
    "- [Naas Secret Documentation](https://docs.naas.ai/features/secret)"
   ]
  },
  {
   "cell_type": "markdown",
   "id": "d3c73ec8-898d-4d9e-83db-15550a80af71",
   "metadata": {
    "papermill": {},
    "tags": []
   },
   "source": [
    "## Input"
   ]
  },
  {
   "cell_type": "markdown",
   "id": "3f337dd3-9e1b-44f8-a268-6951d37c7e7a",
   "metadata": {
    "papermill": {},
    "tags": []
   },
   "source": [
    "### Import libraries"
   ]
  },
  {
   "cell_type": "code",
   "execution_count": null,
   "id": "90760955-5133-4c1a-a43b-e3dee1a02f44",
   "metadata": {
    "papermill": {},
    "tags": []
   },
   "outputs": [],
   "source": [
    "import naas"
   ]
  },
  {
   "cell_type": "markdown",
   "id": "a69b4abe-e06d-4d14-a6e7-f2631ecdcff3",
   "metadata": {
    "papermill": {},
    "tags": []
   },
   "source": [
    "### Setup Variables\n",
    "- `naas_secret_name`: Name of the secret to delete"
   ]
  },
  {
   "cell_type": "code",
   "execution_count": null,
   "id": "ddca8d9b-a981-4b11-82be-80ccd7d9b2b6",
   "metadata": {
    "papermill": {},
    "tags": []
   },
   "outputs": [],
   "source": [
    "naas_secret_name = \"YOUR_SECRET_NAME\""
   ]
  },
  {
   "cell_type": "markdown",
   "id": "844aaf24-d342-41e0-8d10-f5a751d6c8ae",
   "metadata": {
    "papermill": {},
    "tags": []
   },
   "source": [
    "## Model"
   ]
  },
  {
   "cell_type": "markdown",
   "id": "e7dc8faa-fc16-4d58-8181-43a26650674f",
   "metadata": {
    "papermill": {},
    "tags": []
   },
   "source": [
    "### Delete Secret"
   ]
  },
  {
   "cell_type": "code",
   "execution_count": null,
   "id": "f30c11f1-d027-4a13-86e3-49f408e46e6b",
   "metadata": {
    "papermill": {},
    "tags": []
   },
   "outputs": [],
   "source": [
    "naas.secret.delete(naas_secret_name)"
   ]
  },
  {
   "cell_type": "markdown",
   "id": "2513ab2f-6ad6-467e-90d8-09812c132015",
   "metadata": {
    "papermill": {},
    "tags": []
   },
   "source": [
    "## Output"
   ]
  },
  {
   "cell_type": "markdown",
   "id": "5280ebb8-ce27-41ff-a73a-21e0701ec548",
   "metadata": {
    "papermill": {},
    "tags": []
   },
   "source": [
    "### Display result\n",
    "It should return \"None\""
   ]
  },
  {
   "cell_type": "code",
   "execution_count": null,
   "id": "40de06c9-967a-4ac9-886e-a1c943e42308",
   "metadata": {
    "papermill": {},
    "tags": []
   },
   "outputs": [],
   "source": [
    "naas.secret.get(naas_secret_name)"
   ]
  },
  {
   "cell_type": "markdown",
   "id": "466f8c5f-18cb-419f-bf40-fdcb9f48796c",
   "metadata": {
    "papermill": {},
    "tags": []
   },
   "source": [
    " "
   ]
  }
 ],
 "metadata": {
  "kernelspec": {
   "display_name": "Python 3",
   "language": "python",
   "name": "python3"
  },
  "language_info": {
   "codemirror_mode": {
    "name": "ipython",
    "version": 3
   },
   "file_extension": ".py",
   "mimetype": "text/x-python",
   "name": "python",
   "nbconvert_exporter": "python",
   "pygments_lexer": "ipython3",
   "version": "3.9.6"
  },
  "naas": {
   "notebook_id": "13f4b5a9bef18a2771e6e56c4ecd486c68e6b83c5b8be85e302ec59fcb4fc4ad",
   "notebook_path": "Naas/Naas_Delete_Secret.ipynb"
  },
  "papermill": {
   "default_parameters": {},
   "environment_variables": {},
   "parameters": {},
   "version": "2.4.0"
  },
  "widgets": {
   "application/vnd.jupyter.widget-state+json": {
    "state": {},
    "version_major": 2,
    "version_minor": 0
   }
  }
 },
 "nbformat": 4,
 "nbformat_minor": 5
}