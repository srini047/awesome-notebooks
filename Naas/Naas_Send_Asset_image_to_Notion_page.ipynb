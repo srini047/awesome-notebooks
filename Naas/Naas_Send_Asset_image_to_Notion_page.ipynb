{
 "cells": [
  {
   "cell_type": "markdown",
   "id": "a3d79651-ccbb-4baa-9938-321ee9edcc40",
   "metadata": {
    "papermill": {},
    "tags": []
   },
   "source": [
    "<img width=\"10%\" alt=\"Naas\" src=\"https://landen.imgix.net/jtci2pxwjczr/assets/5ice39g4.png?w=160\"/>"
   ]
  },
  {
   "cell_type": "markdown",
   "id": "190d7ab0-b836-4933-b809-1f0297454cd1",
   "metadata": {
    "papermill": {},
    "tags": []
   },
   "source": [
    "# Naas - Send Asset image to Notion page\n",
    "<a href=\"https://app.naas.ai/user-redirect/naas/downloader?url=https://raw.githubusercontent.com/jupyter-naas/awesome-notebooks/master/Naas/Naas_Send_Asset_image_to_Notion_page.ipynb\" target=\"_parent\"><img src=\"https://naasai-public.s3.eu-west-3.amazonaws.com/Open_in_Naas_Lab.svg\"/></a><br><br><a href=\"https://github.com/jupyter-naas/awesome-notebooks/issues/new?assignees=&labels=&template=template-request.md&title=Tool+-+Action+of+the+notebook+\">Template request</a> | <a href=\"https://github.com/jupyter-naas/awesome-notebooks/issues/new?assignees=&labels=bug&template=bug_report.md&title=Naas+-+Send+Asset+image+to+Notion+page:+Error+short+description\">Bug report</a> | <a href=\"https://app.naas.ai/user-redirect/naas/downloader?url=https://raw.githubusercontent.com/jupyter-naas/awesome-notebooks/master/Naas/Naas_Start_data_product.ipynb\" target=\"_parent\">Generate Data Product</a>"
   ]
  },
  {
   "cell_type": "markdown",
   "id": "01e22ea4-5b1b-4433-995c-938aec200f38",
   "metadata": {
    "papermill": {},
    "tags": []
   },
   "source": [
    "**Tags:** #naas #notion #image #asset #send #vizualise"
   ]
  },
  {
   "cell_type": "markdown",
   "id": "74771dcc-449a-4994-9701-028de1b1e895",
   "metadata": {
    "papermill": {},
    "tags": []
   },
   "source": [
    "**Author:** [Florent Ravenel](https://www.linkedin.com/in/florent-ravenel/)"
   ]
  },
  {
   "cell_type": "markdown",
   "id": "e735dee3-8da5-4375-8dac-53698ba14871",
   "metadata": {
    "papermill": {},
    "tags": []
   },
   "source": [
    "**Description:** This notebook sends an naas image asset to a Notion page. It could be usefull to push chart created in plotly to Notion. If your page is in a notion database, you will be able to vizualise the chart in Gallery (display page content). The image asset will be updated (deleted and added) to make sure the graph display is always up to date in Notion."
   ]
  },
  {
   "cell_type": "markdown",
   "id": "9781331a-3bb9-42d2-b444-ae96433b492b",
   "metadata": {
    "papermill": {},
    "tags": []
   },
   "source": [
    "**References:**\n",
    "- [Naas Documentation](https://docs.naas.io/)\n",
    "- [Notion Documentation](https://www.notion.so/product/Notion-cffd2f2fad6e4f9fae9c563d9f0e4e53)"
   ]
  },
  {
   "cell_type": "markdown",
   "id": "e23ca193-d048-4d3a-aab0-44d692599474",
   "metadata": {
    "papermill": {},
    "tags": []
   },
   "source": [
    "## Input"
   ]
  },
  {
   "cell_type": "markdown",
   "id": "d59975e4-98f1-4d74-8148-2bfc7a60abb2",
   "metadata": {
    "papermill": {},
    "tags": []
   },
   "source": [
    "### Import libraries"
   ]
  },
  {
   "cell_type": "code",
   "execution_count": null,
   "id": "9bc7cbad-f21d-48e8-bc67-ed29e68ede60",
   "metadata": {
    "papermill": {},
    "tags": []
   },
   "outputs": [],
   "source": [
    "from naas_drivers import notion\n",
    "import plotly.graph_objects as go\n",
    "import naas"
   ]
  },
  {
   "cell_type": "markdown",
   "id": "48eecbc0-d750-4860-acd6-15f9b651a459",
   "metadata": {
    "papermill": {},
    "tags": []
   },
   "source": [
    "### Setup Variables\n",
    "[Create integration with Notion](https://developers.notion.com/docs/create-a-notion-integration)\n",
    "- `output_image`: Image output path\n",
    "- `notion_token`: Notion token shared with your database\n",
    "- `page_url`: Notion page URL or ID"
   ]
  },
  {
   "cell_type": "code",
   "execution_count": null,
   "id": "bf5e76d8-1f00-49d0-8cf9-ae54b7e4a18a",
   "metadata": {
    "papermill": {},
    "tags": []
   },
   "outputs": [],
   "source": [
    "output_image = \"image.png\"\n",
    "notion_token = naas.secret.get(\"NOTION_TOKEN\") or \"YOUR_TOKEN\"\n",
    "page_url = \"https://www.notion.so/naas-official/Test-f01437dd2b414edfbfe7a45c36966b13?pvs=4\""
   ]
  },
  {
   "cell_type": "markdown",
   "id": "5760f07f-629e-4b0a-9e7d-13bf5270d028",
   "metadata": {
    "papermill": {},
    "tags": []
   },
   "source": [
    "## Model"
   ]
  },
  {
   "cell_type": "markdown",
   "id": "7d068205-3e11-4c54-a5e4-608bf89be09a",
   "metadata": {
    "papermill": {},
    "tags": []
   },
   "source": [
    "### Create Waterfall chart"
   ]
  },
  {
   "cell_type": "code",
   "execution_count": null,
   "id": "9bb2aacc-727c-4244-9b43-e53c8fad5ab1",
   "metadata": {
    "papermill": {},
    "tags": []
   },
   "outputs": [],
   "source": [
    "title = \"EBITDA (simple)\"\n",
    "fig = go.Figure(\n",
    "    go.Waterfall(\n",
    "        name=\"20\",\n",
    "        orientation=\"v\",\n",
    "        measure=[\"relative\", \"relative\", \"total\", \"relative\", \"relative\", \"total\"],\n",
    "        decreasing={\"marker\": {\"color\": \"#d94228\"}},\n",
    "        increasing={\"marker\": {\"color\": \"#5ee290\"}},\n",
    "        totals={\"marker\": {\"color\": \"#3f3f3f\"}},\n",
    "        x=[\n",
    "            \"Sales\",\n",
    "            \"Consulting\",\n",
    "            \"Revenue\",\n",
    "            \"Direct expenses\",\n",
    "            \"Other expenses\",\n",
    "            \"EBITDA\",\n",
    "        ],\n",
    "        textposition=\"outside\",\n",
    "        text=[\"+60\", \"+80\", \"140\", \"-40\", \"-20\", \"80\"],\n",
    "        y=[60, 80, 0, -40, -20, 0],\n",
    "        connector={\"line\": {\"color\": \"white\"}},\n",
    "    )\n",
    ")\n",
    "\n",
    "fig.update_layout(\n",
    "    title=title,\n",
    "    plot_bgcolor=\"#ffffff\",\n",
    "    width=800,\n",
    "    height=600,\n",
    "    xaxis_tickfont_size=14,\n",
    "    yaxis=dict(\n",
    "        title=\"USD (millions)\",\n",
    "        titlefont_size=16,\n",
    "        tickfont_size=14,\n",
    "    ),\n",
    "    legend=dict(x=0, y=1.0, bgcolor=\"white\", bordercolor=\"white\"),\n",
    "    bargap=0.1,  # gap between bars of adjacent location coordinates.\n",
    "    bargroupgap=0.1,  # gap between bars of the same location coordinate.\n",
    ")\n",
    "config = {\"displayModeBar\": False}\n",
    "fig.show(config=config)"
   ]
  },
  {
   "cell_type": "markdown",
   "id": "22326d53-7121-48e4-9cbe-9841c4bee18a",
   "metadata": {
    "papermill": {},
    "tags": []
   },
   "source": [
    "### Export in PNG and HTML"
   ]
  },
  {
   "cell_type": "code",
   "execution_count": null,
   "id": "e192a19c-4be7-484e-a2a7-a2d93846de4b",
   "metadata": {
    "papermill": {},
    "tags": []
   },
   "outputs": [],
   "source": [
    "fig.write_image(output_image)"
   ]
  },
  {
   "cell_type": "markdown",
   "id": "2b6c10cc-e34d-4e25-9e49-a26e45211dc2",
   "metadata": {
    "papermill": {},
    "tags": []
   },
   "source": [
    "### Add naas asset"
   ]
  },
  {
   "cell_type": "code",
   "execution_count": null,
   "id": "67e8809f-5cfa-4eb8-a266-e7b0f38a47f4",
   "metadata": {
    "papermill": {},
    "tags": []
   },
   "outputs": [],
   "source": [
    "asset_link = naas.asset.add(output_image)"
   ]
  },
  {
   "cell_type": "markdown",
   "id": "f1c8587d-77ad-46df-956d-b4e4bc1e3cdd",
   "metadata": {
    "papermill": {},
    "tags": []
   },
   "source": [
    "### Upload image"
   ]
  },
  {
   "cell_type": "code",
   "execution_count": null,
   "id": "aba50b4d-f49b-41d0-ba4d-2c1025f91e0a",
   "metadata": {
    "papermill": {},
    "tags": []
   },
   "outputs": [],
   "source": [
    "page_id = page_url.split(\"/\")[-1].split(\"?\")[0].split(\"-\")[-1]\n",
    "page = notion.connect(notion_token).page.get(page_id)\n",
    "\n",
    "# Check if image already exists\n",
    "blocks = page.get_blocks()\n",
    "for block in blocks:\n",
    "    content_block = getattr(block, block.type)\n",
    "    if block.type == \"image\":\n",
    "        image_url = block.image.external.url\n",
    "        if image_url.startswith(\"https://public.naas.ai/\"):\n",
    "            notion.connect(notion_token).blocks.delete(block.id)\n",
    "            \n",
    "page.image(asset_link)\n",
    "page.update()"
   ]
  },
  {
   "cell_type": "markdown",
   "id": "034bb20d-2ea3-43ea-a2e2-0dfaf47471cb",
   "metadata": {
    "papermill": {},
    "tags": []
   },
   "source": [
    "## Output"
   ]
  },
  {
   "cell_type": "markdown",
   "id": "7060f7a2-8bbe-47d7-baac-05ade5f200bf",
   "metadata": {
    "papermill": {},
    "tags": []
   },
   "source": [
    "### Display result"
   ]
  },
  {
   "cell_type": "code",
   "execution_count": null,
   "id": "ab536767-5765-4d11-8119-6695672cf1f7",
   "metadata": {
    "papermill": {},
    "tags": []
   },
   "outputs": [],
   "source": [
    "print(\"Image uploaded in your page:\", page_url)"
   ]
  },
  {
   "cell_type": "markdown",
   "id": "801e94f3-6902-4ee5-9519-25f77dfb6774",
   "metadata": {
    "papermill": {},
    "tags": []
   },
   "source": [
    " "
   ]
  },
  {
   "cell_type": "markdown",
   "id": "6943d3b9-f12f-470b-946e-693a13eb261a",
   "metadata": {
    "papermill": {},
    "tags": []
   },
   "source": [
    " "
   ]
  }
 ],
 "metadata": {
  "kernelspec": {
   "display_name": "Python 3",
   "language": "python",
   "name": "python3"
  },
  "language_info": {
   "codemirror_mode": {
    "name": "ipython",
    "version": 3
   },
   "file_extension": ".py",
   "mimetype": "text/x-python",
   "name": "python",
   "nbconvert_exporter": "python",
   "pygments_lexer": "ipython3",
   "version": "3.9.6"
  },
  "naas": {
   "notebook_id": "ebdd845a8c40505f123a9e8cbe5afdd1d1acbef753489ec61a74b133e7973c53",
   "notebook_path": "Naas/Naas_Send_Asset_image_to_Notion_page.ipynb"
  },
  "papermill": {
   "default_parameters": {},
   "environment_variables": {},
   "parameters": {},
   "version": "2.4.0"
  },
  "widgets": {
   "application/vnd.jupyter.widget-state+json": {
    "state": {},
    "version_major": 2,
    "version_minor": 0
   }
  }
 },
 "nbformat": 4,
 "nbformat_minor": 5
}