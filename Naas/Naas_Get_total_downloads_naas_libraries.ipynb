{
 "cells": [
  {
   "cell_type": "markdown",
   "id": "72a216be-10dc-4c1d-a3fa-a9ce992d1c27",
   "metadata": {
    "papermill": {},
    "tags": []
   },
   "source": [
    "<img width=\"10%\" alt=\"Naas\" src=\"https://landen.imgix.net/jtci2pxwjczr/assets/5ice39g4.png?w=160\"/>"
   ]
  },
  {
   "cell_type": "markdown",
   "id": "25f38b3f-5cb5-4700-ba73-fb24646dd3ca",
   "metadata": {
    "papermill": {},
    "tags": []
   },
   "source": [
    "# Naas - Get total downloads naas libraries\n",
    "<a href=\"https://app.naas.ai/user-redirect/naas/downloader?url=https://raw.githubusercontent.com/jupyter-naas/awesome-notebooks/master/Naas/Naas_Get_total_downloads_naas_libraries.ipynb\" target=\"_parent\"><img src=\"https://naasai-public.s3.eu-west-3.amazonaws.com/Open_in_Naas_Lab.svg\"/></a><br><br><a href=\"https://github.com/jupyter-naas/awesome-notebooks/issues/new?assignees=&labels=&template=template-request.md&title=Tool+-+Action+of+the+notebook+\">Template request</a> | <a href=\"https://github.com/jupyter-naas/awesome-notebooks/issues/new?assignees=&labels=bug&template=bug_report.md&title=Naas+-+Get+total+downloads+naas+libraries:+Error+short+description\">Bug report</a> | <a href=\"https://app.naas.ai/user-redirect/naas/downloader?url=https://raw.githubusercontent.com/jupyter-naas/awesome-notebooks/master/Naas/Naas_Start_data_product.ipynb\" target=\"_parent\">Generate Data Product</a>"
   ]
  },
  {
   "cell_type": "markdown",
   "id": "4da75a0d-6fba-4115-8667-429956d5ffa0",
   "metadata": {
    "papermill": {},
    "tags": []
   },
   "source": [
    "**Tags:** #pypi #downloads #package #operations #analytics #plotly #html #csv #image #png"
   ]
  },
  {
   "cell_type": "markdown",
   "id": "ab9c2b57-cd13-4086-8a8c-676006cdaebf",
   "metadata": {
    "papermill": {},
    "tags": []
   },
   "source": [
    "**Author:** [Sanjeet Attili](https://linkedin.com/in/sanjeet-attili-760bab190/)"
   ]
  },
  {
   "cell_type": "markdown",
   "id": "naas-description",
   "metadata": {
    "papermill": {},
    "tags": [
     "description"
    ]
   },
   "source": [
    "**Description:** This notebook provides a way to track the total number of downloads for Naas libraries."
   ]
  },
  {
   "cell_type": "markdown",
   "id": "922c974a-a4f5-41b1-af0e-83db3798dee4",
   "metadata": {
    "papermill": {},
    "tags": []
   },
   "source": [
    "## Input"
   ]
  },
  {
   "cell_type": "markdown",
   "id": "f12057c4-d1d7-4870-a399-d6ad5fe04045",
   "metadata": {
    "papermill": {},
    "tags": []
   },
   "source": [
    "### Import libraries"
   ]
  },
  {
   "cell_type": "code",
   "execution_count": null,
   "id": "6b1b919a-fe68-41c6-8401-1c0395149f33",
   "metadata": {
    "papermill": {},
    "tags": []
   },
   "outputs": [],
   "source": [
    "try:\n",
    "    import pypistats\n",
    "except:\n",
    "    !pip install -U pypistats --user\n",
    "    !pip install --upgrade pypistats\n",
    "    import pypistats\n",
    "# from pprint import pprint\n",
    "from datetime import datetime\n",
    "import plotly.graph_objects as go\n",
    "import naas\n",
    "import pandas as pd"
   ]
  },
  {
   "cell_type": "markdown",
   "id": "4c3161ff-a300-4b0a-a7ab-d63cd762fead",
   "metadata": {
    "papermill": {},
    "tags": []
   },
   "source": [
    "### Variables"
   ]
  },
  {
   "cell_type": "code",
   "execution_count": null,
   "id": "2c16f635-fbb6-4921-9777-4a4013dcfa37",
   "metadata": {
    "papermill": {},
    "tags": []
   },
   "outputs": [],
   "source": [
    "packages = [\"naas\", \"naas-drivers\"]"
   ]
  },
  {
   "cell_type": "markdown",
   "id": "36f9d891-dd69-49e0-9288-ba6cf1566198",
   "metadata": {
    "papermill": {},
    "tags": []
   },
   "source": [
    "## Model"
   ]
  },
  {
   "cell_type": "markdown",
   "id": "2f380f3f-7731-4b63-bad8-a042d0ca9709",
   "metadata": {
    "papermill": {},
    "tags": []
   },
   "source": [
    "**Difference between with_mirrors and without_mirrors**\n",
    "\n",
    "The with_mirrors and without_mirrors are not mutually exclusive sets of download counts like the other segmentations provided.\n",
    "In fact, the without_mirrors downloads are a subset of the downloads in with_mirrors.\n",
    "\n",
    "i.e If you sum the with (a+b) and without (a) mirrors, you count the without mirrors twice (a+b+a)."
   ]
  },
  {
   "cell_type": "code",
   "execution_count": null,
   "id": "83227828-b6ca-4ebe-8ace-4344975b695c",
   "metadata": {
    "papermill": {},
    "tags": []
   },
   "outputs": [],
   "source": [
    "df_final = pd.DataFrame()\n",
    "for package in packages:\n",
    "    df = pypistats.overall(package, total=False, format=\"pandas\")\n",
    "    df_final = df_final.append(df, ignore_index=True)\n",
    "df_final"
   ]
  },
  {
   "cell_type": "code",
   "execution_count": null,
   "id": "4da3d345-bb29-4b44-a1b1-8ebc840255d7",
   "metadata": {
    "papermill": {},
    "tags": []
   },
   "outputs": [],
   "source": [
    "# Gives us the cumulative number of downloads over a period of 180 days\n",
    "def get_cumulative_dataframe(df):\n",
    "\n",
    "    data = (\n",
    "        df.groupby(\"category\")\n",
    "        .get_group(\"with_mirrors\")\n",
    "        .sort_values(\"date\")\n",
    "        .reset_index(drop=\"index\")\n",
    "        .groupby(\"date\")\n",
    "        .agg({\"downloads\": \"sum\"})\n",
    "        .reset_index()\n",
    "    )\n",
    "\n",
    "    cum_sum = 0\n",
    "    for idx, num in enumerate(data[\"downloads\"]):\n",
    "        cum_sum += num\n",
    "        data.loc[idx, \"cumulative_downloads\"] = cum_sum\n",
    "\n",
    "    data[\"cumulative_downloads\"] = data.cumulative_downloads.astype(\"int\")\n",
    "    data.drop(columns=\"downloads\", inplace=True)\n",
    "\n",
    "    return data\n",
    "\n",
    "\n",
    "df_downloads = get_cumulative_dataframe(df_final)\n",
    "df_downloads.head()"
   ]
  },
  {
   "cell_type": "markdown",
   "id": "b7077755-36d0-4e95-a581-86c5764cc383",
   "metadata": {
    "papermill": {},
    "tags": []
   },
   "source": [
    "## Output"
   ]
  },
  {
   "cell_type": "markdown",
   "id": "d0b568d5-3904-4dbd-b1e8-476ad4ae9a61",
   "metadata": {
    "papermill": {},
    "tags": []
   },
   "source": [
    "### Plotting a line chart for number of downloads"
   ]
  },
  {
   "cell_type": "code",
   "execution_count": null,
   "id": "70713839-101a-4d57-af31-3340bc13b857",
   "metadata": {
    "papermill": {},
    "tags": []
   },
   "outputs": [],
   "source": [
    "def create_linechart(df, package, date, value):\n",
    "    # Get last value\n",
    "    last_value = \"{:,.0f}\".format(df.loc[df.index[-1], value]).replace(\",\", \" \")\n",
    "\n",
    "    # Init\n",
    "    fig = go.Figure()\n",
    "\n",
    "    # Create fig\n",
    "    fig.add_trace(\n",
    "        go.Scatter(\n",
    "            x=df[date].to_list(),\n",
    "            y=df[value].to_list(),\n",
    "            mode=\"lines+text\",\n",
    "            line=dict(color=\"black\"),\n",
    "        )\n",
    "    )\n",
    "    fig.update_traces(marker_color=\"black\")\n",
    "    fig.update_layout(\n",
    "        title=f\"⭐<b> Total number of downloads for naas libraries </b><br><span style='font-size: 13px;'> Total Downloads as of today: {last_value}</span>\",\n",
    "        title_font=dict(family=\"Arial\", size=18, color=\"black\"),\n",
    "        plot_bgcolor=\"#ffffff\",\n",
    "        width=1200,\n",
    "        height=800,\n",
    "        paper_bgcolor=\"white\",\n",
    "        xaxis_title=\"Date\",\n",
    "        xaxis_title_font=dict(family=\"Arial\", size=13, color=\"black\"),\n",
    "        yaxis_title=\"No. of downloads\",\n",
    "        yaxis_title_font=dict(family=\"Arial\", size=13, color=\"black\"),\n",
    "        margin_pad=10,\n",
    "    )\n",
    "    fig.show()\n",
    "    return fig\n",
    "\n",
    "\n",
    "fig = create_linechart(df_downloads, packages, \"date\", \"cumulative_downloads\")"
   ]
  },
  {
   "cell_type": "markdown",
   "id": "0b8fdef0-a9c7-4654-a767-0e6298f28dbd",
   "metadata": {
    "papermill": {},
    "tags": []
   },
   "source": [
    "### Save and share your csv file"
   ]
  },
  {
   "cell_type": "code",
   "execution_count": null,
   "id": "f7cd5fe6-51e9-4b2b-975d-6d79cbf8aac4",
   "metadata": {
    "papermill": {},
    "tags": []
   },
   "outputs": [],
   "source": [
    "# Save your dataframe in CSV\n",
    "df_downloads.to_csv(csv_output, index=False)\n",
    "\n",
    "# Share output with naas\n",
    "naas.asset.add(csv_output)\n",
    "\n",
    "# -> Uncomment the line below to remove your asset\n",
    "# naas.asset.delete(csv_output)"
   ]
  },
  {
   "cell_type": "markdown",
   "id": "a929d04c-ba16-4c82-86b5-b40e2777c7e8",
   "metadata": {
    "papermill": {},
    "tags": []
   },
   "source": [
    "### Save and share your graph in HTML"
   ]
  },
  {
   "cell_type": "code",
   "execution_count": null,
   "id": "57bceeac-621c-447a-9308-8bce9600c48c",
   "metadata": {
    "papermill": {},
    "tags": []
   },
   "outputs": [],
   "source": [
    "# Save your graph in HTML\n",
    "fig.write_html(html_output)\n",
    "\n",
    "# Share output with naas\n",
    "naas.asset.add(html_output, params={\"inline\": True})\n",
    "\n",
    "# -> Uncomment the line below to remove your asset\n",
    "# naas.asset.delete(html_output)"
   ]
  },
  {
   "cell_type": "markdown",
   "id": "405ea64d-6c35-4858-86d6-cb3a03854abe",
   "metadata": {
    "papermill": {},
    "tags": []
   },
   "source": [
    "### Save and share your graph in image"
   ]
  },
  {
   "cell_type": "code",
   "execution_count": null,
   "id": "a0e5128d-01ed-4bf4-b3b1-a1184144d6ce",
   "metadata": {
    "papermill": {},
    "tags": []
   },
   "outputs": [],
   "source": [
    "# Save your graph in PNG\n",
    "fig.write_image(image_output)\n",
    "\n",
    "# Share output with naas\n",
    "naas.asset.add(image_output, params={\"inline\": True})\n",
    "\n",
    "# -> Uncomment the line below to remove your asset\n",
    "# naas.asset.delete(image_output)"
   ]
  }
 ],
 "metadata": {
  "kernelspec": {
   "display_name": "Python 3",
   "language": "python",
   "name": "python3"
  },
  "language_info": {
   "codemirror_mode": {
    "name": "ipython",
    "version": 3
   },
   "file_extension": ".py",
   "mimetype": "text/x-python",
   "name": "python",
   "nbconvert_exporter": "python",
   "pygments_lexer": "ipython3",
   "version": "3.9.6"
  },
  "naas": {
   "notebook_id": "cdc37edf1d19e1738a9b7d3ba99776a599632e661bce3cb24a35e684bf673089",
   "notebook_path": "Naas/Naas_Get_total_downloads_naas_libraries.ipynb"
  },
  "papermill": {
   "default_parameters": {},
   "environment_variables": {},
   "parameters": {},
   "version": "2.3.4"
  }
 },
 "nbformat": 4,
 "nbformat_minor": 5
}