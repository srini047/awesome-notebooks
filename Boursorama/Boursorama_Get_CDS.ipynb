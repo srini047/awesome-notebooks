{
 "cells": [
  {
   "cell_type": "markdown",
   "id": "first-equity",
   "metadata": {
    "papermill": {},
    "tags": []
   },
   "source": [
    "<img width=\"10%\" alt=\"Naas\" src=\"https://landen.imgix.net/jtci2pxwjczr/assets/5ice39g4.png?w=160\"/>"
   ]
  },
  {
   "cell_type": "markdown",
   "id": "demanding-finland",
   "metadata": {
    "papermill": {},
    "tags": []
   },
   "source": [
    "# Boursorama - Get CDS\n",
    "<a href=\"https://app.naas.ai/user-redirect/naas/downloader?url=https://raw.githubusercontent.com/jupyter-naas/awesome-notebooks/master/Boursorama/Boursorama_Get_CDS.ipynb\" target=\"_parent\"><img src=\"https://naasai-public.s3.eu-west-3.amazonaws.com/open_in_naas.svg\"/></a><br><br><a href=\"https://github.com/jupyter-naas/awesome-notebooks/issues/new?assignees=&labels=&template=template-request.md&title=Tool+-+Action+of+the+notebook+\">Template request</a> | <a href=\"https://github.com/jupyter-naas/awesome-notebooks/issues/new?assignees=&labels=bug&template=bug_report.md&title=Boursorama+-+Get+CDS:+Error+short+description\">Bug report</a>"
   ]
  },
  {
   "cell_type": "markdown",
   "id": "listed-vehicle",
   "metadata": {
    "papermill": {},
    "tags": []
   },
   "source": [
    "**Tags:** #boursorama #finance #snippet #dataframe"
   ]
  },
  {
   "cell_type": "markdown",
   "id": "2aceffa8-7ba3-4186-b1ad-81f6e11cb685",
   "metadata": {
    "papermill": {},
    "tags": []
   },
   "source": [
    "**Author:** [Jeremy Ravenel](https://www.linkedin.com/in/ACoAAAJHE7sB5OxuKHuzguZ9L6lfDHqw--cdnJg/)"
   ]
  },
  {
   "cell_type": "markdown",
   "id": "naas-description",
   "metadata": {
    "papermill": {},
    "tags": [
     "description"
    ]
   },
   "source": [
    "**Description:** This notebook provides a way to access and analyze CDS data from Boursorama."
   ]
  },
  {
   "cell_type": "markdown",
   "id": "44ed28f0-f06f-4798-8cfd-e5d361205841",
   "metadata": {
    "execution": {
     "iopub.execute_input": "2021-10-01T09:38:26.763111Z",
     "iopub.status.busy": "2021-10-01T09:38:26.762778Z",
     "iopub.status.idle": "2021-10-01T09:38:26.768400Z",
     "shell.execute_reply": "2021-10-01T09:38:26.767790Z",
     "shell.execute_reply.started": "2021-10-01T09:38:26.763027Z"
    },
    "papermill": {},
    "tags": []
   },
   "source": [
    "## Input"
   ]
  },
  {
   "cell_type": "markdown",
   "id": "a8cc99f7-5712-4ec8-8813-98a9c790ad64",
   "metadata": {
    "execution": {
     "iopub.execute_input": "2021-10-01T09:39:08.490731Z",
     "iopub.status.busy": "2021-10-01T09:39:08.490495Z",
     "iopub.status.idle": "2021-10-01T09:39:08.493586Z",
     "shell.execute_reply": "2021-10-01T09:39:08.492626Z",
     "shell.execute_reply.started": "2021-10-01T09:39:08.490705Z"
    },
    "papermill": {},
    "tags": []
   },
   "source": [
    "### Import library"
   ]
  },
  {
   "cell_type": "code",
   "execution_count": null,
   "id": "e098f530-1941-43d8-9d54-5ce494629fe7",
   "metadata": {
    "papermill": {},
    "tags": []
   },
   "outputs": [],
   "source": [
    "import pandas as pd"
   ]
  },
  {
   "cell_type": "markdown",
   "id": "a515c4b2-2de0-4894-b69f-035e857d819c",
   "metadata": {
    "papermill": {},
    "tags": []
   },
   "source": [
    "### Variables"
   ]
  },
  {
   "cell_type": "code",
   "execution_count": null,
   "id": "32e1d05e-f6ed-4fbc-ac1c-e45e3a55cd4a",
   "metadata": {
    "papermill": {},
    "tags": []
   },
   "outputs": [],
   "source": [
    "URL = \"https://www.boursorama.com/bourse/taux/cds/\""
   ]
  },
  {
   "cell_type": "markdown",
   "id": "459102e9-9afb-4151-80c1-164971fb492e",
   "metadata": {
    "execution": {
     "iopub.execute_input": "2021-10-01T09:38:36.738109Z",
     "iopub.status.busy": "2021-10-01T09:38:36.737861Z",
     "iopub.status.idle": "2021-10-01T09:38:36.741395Z",
     "shell.execute_reply": "2021-10-01T09:38:36.740511Z",
     "shell.execute_reply.started": "2021-10-01T09:38:36.738085Z"
    },
    "papermill": {},
    "tags": []
   },
   "source": [
    "## Model"
   ]
  },
  {
   "cell_type": "markdown",
   "id": "functioning-honor",
   "metadata": {
    "papermill": {},
    "tags": []
   },
   "source": [
    "### Get the CDS from URL "
   ]
  },
  {
   "cell_type": "code",
   "execution_count": null,
   "id": "general-arrow",
   "metadata": {
    "papermill": {},
    "tags": []
   },
   "outputs": [],
   "source": [
    "dfs = pd.read_html(URL)\n",
    "df = dfs[0]"
   ]
  },
  {
   "cell_type": "markdown",
   "id": "fba56ccc-cc5b-4b00-88dd-889369b109cf",
   "metadata": {
    "papermill": {},
    "tags": []
   },
   "source": [
    "## Output"
   ]
  },
  {
   "cell_type": "markdown",
   "id": "f92fe74e-7197-4362-929d-d682793df61a",
   "metadata": {
    "papermill": {},
    "tags": []
   },
   "source": [
    "### Display result"
   ]
  },
  {
   "cell_type": "code",
   "execution_count": null,
   "id": "d5f3dd01-62bf-4285-9d7f-8ac1cd4e6a32",
   "metadata": {
    "papermill": {},
    "tags": []
   },
   "outputs": [],
   "source": [
    "df"
   ]
  },
  {
   "cell_type": "markdown",
   "id": "mathematical-balloon",
   "metadata": {
    "papermill": {},
    "tags": []
   },
   "source": [
    "### Save as csv"
   ]
  },
  {
   "cell_type": "code",
   "execution_count": null,
   "id": "flush-mounting",
   "metadata": {
    "papermill": {},
    "tags": []
   },
   "outputs": [],
   "source": [
    "df.to_excel(r\"Get_CDS.csv\", index=False)"
   ]
  }
 ],
 "metadata": {
  "kernelspec": {
   "display_name": "Python 3",
   "language": "python",
   "name": "python3"
  },
  "language_info": {
   "codemirror_mode": {
    "name": "ipython",
    "version": 3
   },
   "file_extension": ".py",
   "mimetype": "text/x-python",
   "name": "python",
   "nbconvert_exporter": "python",
   "pygments_lexer": "ipython3",
   "version": "3.8.8"
  },
  "naas": {
   "notebook_id": "b644b847-6f1c-4d6e-9917-c0abf69813b4",
   "notebook_path": "Boursorama/Boursorama_Get_CDS.ipynb"
  },
  "papermill": {
   "default_parameters": {},
   "environment_variables": {},
   "parameters": {},
   "version": "2.3.3"
  },
  "widgets": {
   "application/vnd.jupyter.widget-state+json": {
    "state": {},
    "version_major": 2,
    "version_minor": 0
   }
  }
 },
 "nbformat": 4,
 "nbformat_minor": 5
}