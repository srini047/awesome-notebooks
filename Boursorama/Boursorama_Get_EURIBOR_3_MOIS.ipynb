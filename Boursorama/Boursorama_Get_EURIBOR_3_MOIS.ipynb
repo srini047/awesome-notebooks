{
 "cells": [
  {
   "cell_type": "markdown",
   "id": "a9b62775-a29d-431e-bf18-a57949b1b588",
   "metadata": {
    "papermill": {},
    "tags": []
   },
   "source": [
    "<img width=\"10%\" alt=\"Naas\" src=\"https://landen.imgix.net/jtci2pxwjczr/assets/5ice39g4.png?w=160\"/>"
   ]
  },
  {
   "cell_type": "markdown",
   "id": "ddaca910-5feb-4c61-8390-fb9e67bb3124",
   "metadata": {
    "papermill": {},
    "tags": []
   },
   "source": [
    "# Boursorama - Get EURIBOR 3 MOIS\n",
    "<a href=\"https://app.naas.ai/user-redirect/naas/downloader?url=https://raw.githubusercontent.com/jupyter-naas/awesome-notebooks/master/Boursorama/Boursorama_Get_EURIBOR_3_MOIS.ipynb\" target=\"_parent\"><img src=\"https://naasai-public.s3.eu-west-3.amazonaws.com/Open_in_Naas_Lab.svg\"/></a><br><br><a href=\"https://github.com/jupyter-naas/awesome-notebooks/issues/new?assignees=&labels=&template=template-request.md&title=Tool+-+Action+of+the+notebook+\">Template request</a> | <a href=\"https://github.com/jupyter-naas/awesome-notebooks/issues/new?assignees=&labels=bug&template=bug_report.md&title=Boursorama+-+Get+EURIBOR+3+MOIS:+Error+short+description\">Bug report</a> | <a href=\"https://app.naas.ai/user-redirect/naas/downloader?url=https://raw.githubusercontent.com/jupyter-naas/awesome-notebooks/master/Naas/Naas_Start_data_product.ipynb\" target=\"_parent\">Generate Data Product</a>"
   ]
  },
  {
   "cell_type": "markdown",
   "id": "184ddd46-094e-4fb5-a582-c4485ab1162e",
   "metadata": {
    "papermill": {},
    "tags": []
   },
   "source": [
    "**Tags:** #boursorama #euribor #pandas #read_html #finance #data"
   ]
  },
  {
   "cell_type": "markdown",
   "id": "507370b9-8e02-43b8-b04d-6d7c12be3fdd",
   "metadata": {
    "papermill": {},
    "tags": []
   },
   "source": [
    "**Author:** [Florent Ravenel](http://linkedin.com/in/florent-ravenel)"
   ]
  },
  {
   "cell_type": "markdown",
   "id": "88185417-57d0-47a3-950c-6db33f8f9cf8",
   "metadata": {
    "papermill": {},
    "tags": []
   },
   "source": [
    "**Description:** This notebook will show how to get EURIBOR 3 MOIS using pandas.read_html()."
   ]
  },
  {
   "cell_type": "markdown",
   "id": "556816ba-e8db-41ab-98f0-5c72ddfb70a7",
   "metadata": {
    "papermill": {},
    "tags": []
   },
   "source": [
    "**References:**\n",
    "- [Boursorama](https://www.boursorama.com/bourse/indices/euribor-3-mois-0D0003M0GQ)\n",
    "- [Pandas.read_html](https://pandas.pydata.org/pandas-docs/stable/reference/api/pandas.read_html.html)"
   ]
  },
  {
   "cell_type": "markdown",
   "id": "e1ec5d8b-a088-47e5-99c5-456777ff6024",
   "metadata": {
    "papermill": {},
    "tags": []
   },
   "source": [
    "## Input"
   ]
  },
  {
   "cell_type": "markdown",
   "id": "455eefca-66b8-4ca4-81df-8f1231b9eeca",
   "metadata": {
    "papermill": {},
    "tags": []
   },
   "source": [
    "### Import libraries"
   ]
  },
  {
   "cell_type": "code",
   "execution_count": 1,
   "id": "a2126acc-3416-42ae-8c45-b574bf47d023",
   "metadata": {
    "papermill": {},
    "tags": []
   },
   "outputs": [],
   "source": [
    "import pandas as pd"
   ]
  },
  {
   "cell_type": "markdown",
   "id": "f21e2950-946e-4450-b709-737eca86c76f",
   "metadata": {
    "papermill": {},
    "tags": []
   },
   "source": [
    "### Setup Variables\n",
    "- `url`: URL of the Boursorama page to get EURIBOR 3 MOIS"
   ]
  },
  {
   "cell_type": "code",
   "execution_count": 2,
   "id": "814d151a-2c1a-46ce-964c-53ce81046ec8",
   "metadata": {
    "papermill": {},
    "tags": []
   },
   "outputs": [],
   "source": [
    "url = \"https://www.boursorama.com/bourse/taux/cours/2xERB3MOIS/\""
   ]
  },
  {
   "cell_type": "markdown",
   "id": "c221ae34-8865-4d37-b0f0-ae244f4565d5",
   "metadata": {
    "papermill": {},
    "tags": []
   },
   "source": [
    "## Model"
   ]
  },
  {
   "cell_type": "markdown",
   "id": "04a055e9-3200-469c-a2ee-50e980fdff61",
   "metadata": {
    "papermill": {},
    "tags": []
   },
   "source": [
    "### Get EURIBOR 3 MOIS\n",
    "Using `pandas.read_html()` to get the EURIBOR 3 MOIS from the Boursorama page."
   ]
  },
  {
   "cell_type": "code",
   "execution_count": 3,
   "id": "4d0fc7d1-fcba-413d-9825-f828532e4f58",
   "metadata": {
    "papermill": {},
    "tags": []
   },
   "outputs": [],
   "source": [
    "tables = pd.read_html(url)"
   ]
  },
  {
   "cell_type": "markdown",
   "id": "49eaeb68-bcae-44fe-8db5-e9745ad7f3ac",
   "metadata": {
    "papermill": {},
    "tags": []
   },
   "source": [
    "## Output"
   ]
  },
  {
   "cell_type": "markdown",
   "id": "c6d23138-9e3f-409b-9621-d235dcb1d0ef",
   "metadata": {
    "papermill": {},
    "tags": []
   },
   "source": [
    "### Current data"
   ]
  },
  {
   "cell_type": "code",
   "execution_count": 4,
   "id": "fe2b89b2-6139-4779-b59f-2f9da789ee82",
   "metadata": {
    "papermill": {},
    "tags": []
   },
   "outputs": [],
   "source": [
    "tables[0]"
   ]
  },
  {
   "cell_type": "markdown",
   "id": "5aaf8188-855e-47dd-8604-ecc73817fe30",
   "metadata": {
    "papermill": {},
    "tags": []
   },
   "source": [
    "### Historical data"
   ]
  },
  {
   "cell_type": "code",
   "execution_count": 5,
   "id": "12f9c000-05d3-4f86-9c86-4ab473ac2564",
   "metadata": {
    "papermill": {},
    "tags": []
   },
   "outputs": [],
   "source": [
    "tables[1]"
   ]
  },
  {
   "cell_type": "markdown",
   "id": "ec19ddb9-1cb1-42fd-83cc-5e6a07613d1d",
   "metadata": {
    "papermill": {},
    "tags": []
   },
   "source": [
    " "
   ]
  }
 ],
 "metadata": {
  "kernelspec": {
   "display_name": "Python 3",
   "language": "python",
   "name": "python3"
  },
  "language_info": {
   "codemirror_mode": {
    "name": "ipython",
    "version": 3
   },
   "file_extension": ".py",
   "mimetype": "text/x-python",
   "name": "python",
   "nbconvert_exporter": "python",
   "pygments_lexer": "ipython3",
   "version": "3.9.6"
  },
  "naas": {
   "notebook_id": "916217867d00e933791e4bd89337ec26ce052f7e856663b80b8707fb16257d4e",
   "notebook_path": "Boursorama/Boursorama_Get_EURIBOR_3_MOIS.ipynb"
  },
  "papermill": {
   "default_parameters": {},
   "environment_variables": {},
   "parameters": {},
   "version": "2.4.0"
  },
  "widgets": {
   "application/vnd.jupyter.widget-state+json": {
    "state": {},
    "version_major": 2,
    "version_minor": 0
   }
  }
 },
 "nbformat": 4,
 "nbformat_minor": 5
}