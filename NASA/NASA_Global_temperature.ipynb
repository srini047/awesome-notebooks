{
 "cells": [
  {
   "cell_type": "markdown",
   "id": "naas-logo",
   "metadata": {
    "papermill": {},
    "tags": [
     "naas"
    ]
   },
   "source": [
    "<img width=\"10%\" alt=\"Naas\" src=\"https://landen.imgix.net/jtci2pxwjczr/assets/5ice39g4.png?w=160\"/>"
   ]
  },
  {
   "cell_type": "markdown",
   "id": "falling-message",
   "metadata": {
    "papermill": {},
    "tags": []
   },
   "source": [
    "# NASA - Global temperature\n",
    "<a href=\"https://app.naas.ai/user-redirect/naas/downloader?url=https://raw.githubusercontent.com/jupyter-naas/awesome-notebooks/master/NASA/NASA_Global_temperature.ipynb\" target=\"_parent\"><img src=\"https://naasai-public.s3.eu-west-3.amazonaws.com/Open_in_Naas_Lab.svg\"/></a><br><br><a href=\"https://github.com/jupyter-naas/awesome-notebooks/issues/new?assignees=&labels=&template=template-request.md&title=Tool+-+Action+of+the+notebook+\">Template request</a> | <a href=\"https://github.com/jupyter-naas/awesome-notebooks/issues/new?assignees=&labels=bug&template=bug_report.md&title=NASA+-+Global+temperature:+Error+short+description\">Bug report</a> | <a href=\"https://app.naas.ai/user-redirect/naas/downloader?url=https://raw.githubusercontent.com/jupyter-naas/awesome-notebooks/master/Naas/Naas_Start_data_product.ipynb\" target=\"_parent\">Generate Data Product</a>"
   ]
  },
  {
   "cell_type": "markdown",
   "id": "760df8dd-12c7-4b95-b492-a09d8ee37feb",
   "metadata": {
    "papermill": {},
    "tags": []
   },
   "source": [
    "**Tags:** #nasa #opendata #analytics #plotly"
   ]
  },
  {
   "cell_type": "markdown",
   "id": "naas-author",
   "metadata": {
    "papermill": {},
    "tags": [
     "naas"
    ]
   },
   "source": [
    "**Author:** [Colyn TIDMAN](https://www.linkedin.com/in/colyntidman/), [Dylan PICHON](https://www.linkedin.com/in/dylan-pichon/)"
   ]
  },
  {
   "cell_type": "markdown",
   "id": "bridal-mongolia",
   "metadata": {
    "papermill": {},
    "tags": []
   },
   "source": [
    "This graph illustrates the change in global surface temperature relative to 1951-1980 average temperatures. Nineteen of the warmest years have occurred since 2000, with the exception of 1998. The year 2020 tied with 2016 for the warmest year on record since record-keeping began in 1880 (source: NASA/GISS). This research is broadly consistent with similar constructions prepared by the Climatic Research Unit and the National Oceanic and Atmospheric Administration.\n",
    "\n",
    "The time series below shows the five-year average variation of global surface temperatures. Dark blue indicates areas cooler than average. Dark red indicates areas warmer than average.\n",
    "\n",
    "The “Global Temperature” figure on the home page dashboard shows global temperature change since 1880. One gets this number by subtracting the first data point in the chart from the latest data point.\n",
    "\n",
    "Website : https://climate.nasa.gov/vital-signs/global-temperature/"
   ]
  },
  {
   "cell_type": "markdown",
   "id": "failing-brain",
   "metadata": {
    "execution": {
     "iopub.execute_input": "2021-05-17T12:26:03.066131Z",
     "iopub.status.busy": "2021-05-17T12:26:03.065891Z",
     "iopub.status.idle": "2021-05-17T12:26:03.076608Z",
     "shell.execute_reply": "2021-05-17T12:26:03.075716Z",
     "shell.execute_reply.started": "2021-05-17T12:26:03.066108Z"
    },
    "papermill": {},
    "tags": []
   },
   "source": [
    "Data source: NASA's Goddard Institute for Space Studies (GISS). \n",
    "\n",
    "Credit: NASA/GISS"
   ]
  },
  {
   "cell_type": "markdown",
   "id": "naughty-pulse",
   "metadata": {
    "execution": {
     "iopub.execute_input": "2021-05-17T07:53:04.796112Z",
     "iopub.status.busy": "2021-05-17T07:53:04.795875Z",
     "iopub.status.idle": "2021-05-17T07:53:04.799082Z",
     "shell.execute_reply": "2021-05-17T07:53:04.798423Z",
     "shell.execute_reply.started": "2021-05-17T07:53:04.796089Z"
    },
    "papermill": {},
    "tags": []
   },
   "source": [
    "## Input"
   ]
  },
  {
   "cell_type": "markdown",
   "id": "solved-massachusetts",
   "metadata": {
    "papermill": {},
    "tags": []
   },
   "source": [
    "Data source : https://data.giss.nasa.gov/gistemp/graphs/graph_data/Global_Mean_Estimates_based_on_Land_and_Ocean_Data/graph.txt"
   ]
  },
  {
   "cell_type": "markdown",
   "id": "369c98d2-0591-46e5-8d36-b125856cce64",
   "metadata": {
    "papermill": {},
    "tags": []
   },
   "source": [
    "### Import libraries"
   ]
  },
  {
   "cell_type": "code",
   "execution_count": 1,
   "id": "d103ef35-4d6d-40c4-9ef5-d0c07416ca27",
   "metadata": {
    "papermill": {},
    "tags": []
   },
   "outputs": [],
   "source": [
    "import pandas\n",
    "import plotly.graph_objects as go"
   ]
  },
  {
   "cell_type": "markdown",
   "id": "b841ce86-ea31-4d6c-9afe-f4465bc0f440",
   "metadata": {
    "papermill": {},
    "tags": []
   },
   "source": [
    "### URL"
   ]
  },
  {
   "cell_type": "code",
   "execution_count": 2,
   "id": "operating-joseph",
   "metadata": {
    "papermill": {},
    "tags": []
   },
   "outputs": [],
   "source": [
    "url_nasa_termperatures = \"https://data.giss.nasa.gov/gistemp/graphs/graph_data/Global_Mean_Estimates_based_on_Land_and_Ocean_Data/graph.txt\""
   ]
  },
  {
   "cell_type": "markdown",
   "id": "divided-quebec",
   "metadata": {
    "papermill": {},
    "tags": []
   },
   "source": [
    "## Model"
   ]
  },
  {
   "cell_type": "markdown",
   "id": "495d2ca2-d259-4ef0-8d82-e24fec5366d3",
   "metadata": {
    "papermill": {},
    "tags": []
   },
   "source": [
    "### Get the data and create the table"
   ]
  },
  {
   "cell_type": "code",
   "execution_count": 3,
   "id": "greek-opening",
   "metadata": {
    "papermill": {},
    "tags": []
   },
   "outputs": [],
   "source": [
    "df = pandas.read_csv(\n",
    "    url_nasa_termperatures,\n",
    "    sep=r\"     \",\n",
    "    skiprows=5,\n",
    "    names=[\"Year\", \"Delta\", \"Detla (Smoothed)\"],\n",
    "    engine=\"python\",\n",
    ")\n",
    "\n",
    "df.tail(10)"
   ]
  },
  {
   "cell_type": "markdown",
   "id": "intense-grain",
   "metadata": {
    "execution": {
     "iopub.execute_input": "2021-05-17T07:58:53.181873Z",
     "iopub.status.busy": "2021-05-17T07:58:53.181577Z",
     "iopub.status.idle": "2021-05-17T07:58:53.191194Z",
     "shell.execute_reply": "2021-05-17T07:58:53.190323Z",
     "shell.execute_reply.started": "2021-05-17T07:58:53.181843Z"
    },
    "papermill": {},
    "tags": []
   },
   "source": [
    "Here we can see the evolution of the average surface temperature anomaly from the last 10 years. <br>"
   ]
  },
  {
   "cell_type": "markdown",
   "id": "million-thriller",
   "metadata": {
    "execution": {
     "iopub.execute_input": "2021-05-17T07:58:58.473916Z",
     "iopub.status.busy": "2021-05-17T07:58:58.473617Z",
     "iopub.status.idle": "2021-05-17T07:58:58.516631Z",
     "shell.execute_reply": "2021-05-17T07:58:58.515572Z",
     "shell.execute_reply.started": "2021-05-17T07:58:58.473885Z"
    },
    "papermill": {},
    "tags": []
   },
   "source": [
    "Now lets visualize this information with a graph using plotly."
   ]
  },
  {
   "cell_type": "markdown",
   "id": "difficult-generation",
   "metadata": {
    "papermill": {},
    "tags": []
   },
   "source": [
    "## Output"
   ]
  },
  {
   "cell_type": "markdown",
   "id": "respective-calculation",
   "metadata": {
    "papermill": {},
    "tags": []
   },
   "source": [
    "### Land-Ocean Temperature Index - Visualization"
   ]
  },
  {
   "cell_type": "code",
   "execution_count": 4,
   "id": "labeled-timer",
   "metadata": {
    "papermill": {},
    "tags": []
   },
   "outputs": [],
   "source": [
    "fig = go.Figure(layout_title=\"<b>Land-Ocean Temperature Index (°C)</b>\")\n",
    "fig.add_trace(\n",
    "    go.Scatter(\n",
    "        x=df[\"Year\"],\n",
    "        y=df[\"Delta\"],\n",
    "        name=\"Delta\",\n",
    "    )\n",
    ")\n",
    "\n",
    "fig.add_trace(\n",
    "    go.Scatter(\n",
    "        x=df[\"Year\"],\n",
    "        y=df[\"Detla (Smoothed)\"],\n",
    "        name=\"Delta (Smoothed)\",\n",
    "    )\n",
    ")\n",
    "\n",
    "fig.update_layout(\n",
    "    autosize=False,\n",
    "    width=1300,\n",
    "    height=700,\n",
    "    plot_bgcolor=\"rgb(250,250,250)\",\n",
    "    xaxis=dict(\n",
    "        tickmode=\"linear\",\n",
    "        tick0=2,\n",
    "        dtick=5,\n",
    "    ),\n",
    ")\n",
    "fig.update_yaxes(title_text=\"Temperature anomaly (°C)\")\n",
    "fig.update_xaxes(title_text=\"Year\", tickangle=60)\n",
    "fig.add_hline(y=0.0)\n",
    "# To add maximum Temperature Delta line : uncomment the following line\n",
    "# fig.add_hline(y=2.0)\n",
    "fig.update_layout(title_x=0.5)\n",
    "\n",
    "fig.show()"
   ]
  },
  {
   "cell_type": "markdown",
   "id": "alternate-madness",
   "metadata": {
    "papermill": {},
    "tags": []
   },
   "source": [
    "According to the Paris Agreement, the delta **should not be higher than 2**. As you can see here on the graph, it increasing quickly with the years specially since 1950."
   ]
  },
  {
   "cell_type": "markdown",
   "id": "rational-litigation",
   "metadata": {
    "papermill": {},
    "tags": []
   },
   "source": [
    "### Land-Ocean Temperature Index - Visualization with Industrial Revolution Dates"
   ]
  },
  {
   "cell_type": "markdown",
   "id": "threaded-doctrine",
   "metadata": {
    "papermill": {},
    "tags": []
   },
   "source": [
    "We can now add the dates of the three last Industrial Revolutions :\n",
    "\n",
    "    - Second 1910 : gaz and petrol\n",
    "    - Third 1970 : internet\n",
    "    - Forth 2000 : AI"
   ]
  },
  {
   "cell_type": "code",
   "execution_count": 5,
   "id": "split-terrorism",
   "metadata": {
    "papermill": {},
    "tags": []
   },
   "outputs": [],
   "source": [
    "fig.add_vrect(\n",
    "    x0=\"1910\",\n",
    "    x1=\"1911\",\n",
    "    annotation_text=\"2nd IR <br> 1910\",\n",
    "    annotation_position=\"top left\",\n",
    "    annotation=dict(font_size=20, font_family=\"Times New Roman\"),\n",
    "    fillcolor=\"black\",\n",
    "    opacity=0.45,\n",
    "    line_width=0,\n",
    ")\n",
    "\n",
    "fig.add_vrect(\n",
    "    x0=\"1970\",\n",
    "    x1=\"1971\",\n",
    "    annotation_text=\"3rd IR <br> 1970\",\n",
    "    annotation_position=\"top left\",\n",
    "    annotation=dict(font_size=20, font_family=\"Times New Roman\"),\n",
    "    fillcolor=\"yellow\",\n",
    "    opacity=0.45,\n",
    "    line_width=0,\n",
    ")\n",
    "\n",
    "fig.add_vrect(\n",
    "    x0=\"2000\",\n",
    "    x1=\"2001\",\n",
    "    annotation_text=\"4th IR <br> 2000\",\n",
    "    annotation_position=\"top left\",\n",
    "    annotation=dict(font_size=20, font_family=\"Times New Roman\"),\n",
    "    fillcolor=\"green\",\n",
    "    opacity=0.45,\n",
    "    line_width=0,\n",
    ")\n",
    "\n",
    "fig.update_layout(\n",
    "    title_x=0.5,\n",
    "    title_text=\"<b>Land-Ocean Temperature Index (°C)</b> <br> Focused on Industrial Revolution Dates (IR)\",\n",
    ")\n",
    "\n",
    "fig.show()"
   ]
  },
  {
   "cell_type": "markdown",
   "id": "danish-easter",
   "metadata": {
    "execution": {
     "iopub.execute_input": "2021-05-17T07:50:25.093819Z",
     "iopub.status.busy": "2021-05-17T07:50:25.093477Z",
     "iopub.status.idle": "2021-05-17T07:50:25.101049Z",
     "shell.execute_reply": "2021-05-17T07:50:25.100144Z",
     "shell.execute_reply.started": "2021-05-17T07:50:25.093785Z"
    },
    "papermill": {},
    "tags": []
   },
   "source": [
    "<br><br> **Idea to improve :**\n",
    "- *Predict with machine learning the delta for the next 50 years*"
   ]
  }
 ],
 "metadata": {
  "kernelspec": {
   "display_name": "Python 3",
   "language": "python",
   "name": "python3"
  },
  "language_info": {
   "codemirror_mode": {
    "name": "ipython",
    "version": 3
   },
   "file_extension": ".py",
   "mimetype": "text/x-python",
   "name": "python",
   "nbconvert_exporter": "python",
   "pygments_lexer": "ipython3",
   "version": "3.8.8"
  },
  "naas": {
   "notebook_id": "1fcde93a2f4eb30a04bb469261370e4772541277ba8e30b726593dd5939d11f6",
   "notebook_path": "NASA/NASA_Global_temperature.ipynb"
  },
  "papermill": {
   "default_parameters": {},
   "environment_variables": {},
   "parameters": {},
   "version": "2.3.3"
  }
 },
 "nbformat": 4,
 "nbformat_minor": 5
}