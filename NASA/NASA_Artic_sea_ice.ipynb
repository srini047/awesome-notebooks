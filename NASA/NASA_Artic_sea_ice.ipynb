{
 "cells": [
  {
   "cell_type": "markdown",
   "id": "naas-logo",
   "metadata": {
    "papermill": {},
    "tags": [
     "naas"
    ]
   },
   "source": [
    "<img width=\"10%\" alt=\"Naas\" src=\"https://landen.imgix.net/jtci2pxwjczr/assets/5ice39g4.png?w=160\"/>"
   ]
  },
  {
   "cell_type": "markdown",
   "id": "veterinary-pleasure",
   "metadata": {
    "papermill": {},
    "tags": []
   },
   "source": [
    "# NASA - Artic sea ice\n",
    "<a href=\"https://app.naas.ai/user-redirect/naas/downloader?url=https://raw.githubusercontent.com/jupyter-naas/awesome-notebooks/master/NASA/NASA_Artic_sea_ice.ipynb\" target=\"_parent\"><img src=\"https://naasai-public.s3.eu-west-3.amazonaws.com/open_in_naas.svg\"/></a><br><br><a href=\"https://github.com/jupyter-naas/awesome-notebooks/issues/new?assignees=&labels=&template=template-request.md&title=Tool+-+Action+of+the+notebook+\">Template request</a> | <a href=\"https://github.com/jupyter-naas/awesome-notebooks/issues/new?assignees=&labels=bug&template=bug_report.md&title=NASA+-+Artic+sea+ice:+Error+short+description\">Bug report</a>"
   ]
  },
  {
   "cell_type": "markdown",
   "id": "fc44a5d0-50db-4c8c-967a-3670dea9db8d",
   "metadata": {
    "papermill": {},
    "tags": []
   },
   "source": [
    "**Tags:** #nasa #naas #opendata #analytics #asset #html #png #operations #image #plotly"
   ]
  },
  {
   "cell_type": "markdown",
   "id": "naas-author",
   "metadata": {
    "papermill": {},
    "tags": [
     "naas"
    ]
   },
   "source": [
    "**Author:** [Florent Ravenel](https://www.linkedin.com/in/ACoAABCNSioBW3YZHc2lBHVG0E_TXYWitQkmwog/)"
   ]
  },
  {
   "cell_type": "markdown",
   "id": "traditional-assist",
   "metadata": {
    "papermill": {},
    "tags": []
   },
   "source": [
    "AVERAGE SEPTEMBER MINIMUM EXTENT<br>\n",
    "Data source: Satellite observations. Credit: NSIDC/NASA\n",
    "\n",
    "**What is Arctic sea ice extent?**<br>\n",
    "Sea ice extent is a measure of the surface area of the ocean covered by sea ice. Increases in air and ocean temperatures decrease sea ice extent; in turn, the resulting darker ocean surface absorbs more solar radiation and increases Arctic warming.<br>\n",
    "Date Range: 1979 - 2020."
   ]
  },
  {
   "cell_type": "markdown",
   "id": "contained-burlington",
   "metadata": {
    "papermill": {},
    "tags": []
   },
   "source": [
    "## Get data from website\n",
    "Click on [Artic Sea Ice](https://climate.nasa.gov/vital-signs/arctic-sea-ice/)"
   ]
  },
  {
   "cell_type": "markdown",
   "id": "4b08853c-1a82-4e12-9ac6-39bebbd80d0f",
   "metadata": {
    "papermill": {},
    "tags": []
   },
   "source": [
    "## Input"
   ]
  },
  {
   "cell_type": "markdown",
   "id": "cf6fdfd1-8b34-466c-9d42-42d568ca8d85",
   "metadata": {
    "papermill": {},
    "tags": []
   },
   "source": [
    "### Import libraries"
   ]
  },
  {
   "cell_type": "code",
   "execution_count": 9,
   "id": "77fb59f5-b8e1-44db-9b41-72ec0d378173",
   "metadata": {
    "execution": {
     "iopub.execute_input": "2022-03-04T10:49:35.738004Z",
     "iopub.status.busy": "2022-03-04T10:49:35.737772Z",
     "iopub.status.idle": "2022-03-04T10:49:35.740858Z",
     "shell.execute_reply": "2022-03-04T10:49:35.740202Z",
     "shell.execute_reply.started": "2022-03-04T10:49:35.737981Z"
    },
    "papermill": {},
    "tags": []
   },
   "outputs": [],
   "source": [
    "import pandas as pd\n",
    "import plotly.graph_objects as go\n",
    "import naas"
   ]
  },
  {
   "cell_type": "markdown",
   "id": "f9e459ce-b599-4fca-99b4-e93ea94cc3e3",
   "metadata": {
    "papermill": {},
    "tags": []
   },
   "source": [
    "### Variables"
   ]
  },
  {
   "cell_type": "code",
   "execution_count": null,
   "id": "fc47577e-370e-48e2-a0d0-a7d546b63e98",
   "metadata": {
    "papermill": {},
    "tags": []
   },
   "outputs": [],
   "source": [
    "# Input\n",
    "data_input = \"https://climate.nasa.gov/system/internal_resources/details/original/2485_Sept_Arctic_extent_1979-2021.xlsx\"\n",
    "\n",
    "# Output\n",
    "image_output = \"Artic_sea_ice_extent.png\"\n",
    "html_output = \"Artic_sea_ice_extent.png\""
   ]
  },
  {
   "cell_type": "markdown",
   "id": "98e4a20f-f69f-41ff-abdb-b56d454fe63c",
   "metadata": {
    "papermill": {},
    "tags": []
   },
   "source": [
    "## Model"
   ]
  },
  {
   "cell_type": "markdown",
   "id": "e9eb1dfb-7ccc-4cad-ba67-89ea299cafb7",
   "metadata": {
    "papermill": {},
    "tags": []
   },
   "source": [
    "### Get data"
   ]
  },
  {
   "cell_type": "code",
   "execution_count": null,
   "id": "b717651c-3f2f-48c7-a66b-73bc418ca581",
   "metadata": {
    "papermill": {},
    "tags": []
   },
   "outputs": [],
   "source": [
    "df = pd.read_excel(data_input)\n",
    "df.tail(10)"
   ]
  },
  {
   "cell_type": "markdown",
   "id": "random-restoration",
   "metadata": {
    "papermill": {},
    "tags": []
   },
   "source": [
    "### Create graph"
   ]
  },
  {
   "cell_type": "code",
   "execution_count": null,
   "id": "informative-terry",
   "metadata": {
    "papermill": {},
    "tags": []
   },
   "outputs": [],
   "source": [
    "def create_linechart(df, label, value):\n",
    "    # Init\n",
    "    fig = go.Figure()\n",
    "\n",
    "    # Create fig\n",
    "    fig.add_trace(\n",
    "        go.Scatter(\n",
    "            x=df[label],\n",
    "            y=df[value],\n",
    "            hoverinfo=\"text\",\n",
    "            hovertext=df[label].astype(str)\n",
    "            + \"<br>\"\n",
    "            + df[value].astype(str)\n",
    "            + \" million square km\",\n",
    "            mode=\"lines+text\",\n",
    "        )\n",
    "    )\n",
    "    fig.update_layout(\n",
    "        title=f\"<b>Arctic Sea Ice Extent</b><br><span style='font-size: 13px;'>ANNUAL SEPTEMBER MINIMUM EXTENT</span>\",\n",
    "        title_font=dict(family=\"Arial\", size=18, color=\"black\"),\n",
    "        plot_bgcolor=\"#ffffff\",\n",
    "        width=1200,\n",
    "        height=800,\n",
    "        paper_bgcolor=\"white\",\n",
    "        xaxis_title=\"Year\",\n",
    "        xaxis_title_font=dict(family=\"Arial\", size=11, color=\"black\"),\n",
    "        yaxis_title=\"million square km\",\n",
    "        yaxis_title_font=dict(family=\"Arial\", size=11, color=\"black\"),\n",
    "        margin_pad=10,\n",
    "    )\n",
    "    fig.show()\n",
    "    return fig\n",
    "\n",
    "\n",
    "fig = create_linechart(df, \"year\", \"extent\")"
   ]
  },
  {
   "cell_type": "markdown",
   "id": "14d732ae-e702-4255-b62d-f2632546dabe",
   "metadata": {
    "papermill": {},
    "tags": []
   },
   "source": [
    "## Output"
   ]
  },
  {
   "cell_type": "markdown",
   "id": "4dfc1326-c3d6-40ce-9312-5ca23aba504d",
   "metadata": {
    "papermill": {},
    "tags": []
   },
   "source": [
    "### Save and share output"
   ]
  },
  {
   "cell_type": "code",
   "execution_count": null,
   "id": "542889a8-cff9-43c5-81b3-86f1204aa88f",
   "metadata": {
    "papermill": {},
    "tags": []
   },
   "outputs": [],
   "source": [
    "fig.write_html(html_output)\n",
    "fig.write_image(image_output)"
   ]
  },
  {
   "cell_type": "code",
   "execution_count": null,
   "id": "d9f1f92f-8292-468a-8de0-a51203f7653c",
   "metadata": {
    "papermill": {},
    "tags": []
   },
   "outputs": [],
   "source": [
    "naas.asset.add(html_output, params={\"inline\": True})\n",
    "naas.asset.add(image_output)\n",
    "\n",
    "# -> Uncomment lines below to remove your assets\n",
    "# naas.asset.delete(html_output)\n",
    "# naas.asset.delete(image_output)"
   ]
  }
 ],
 "metadata": {
  "kernelspec": {
   "display_name": "Python 3",
   "language": "python",
   "name": "python3"
  },
  "language_info": {
   "codemirror_mode": {
    "name": "ipython",
    "version": 3
   },
   "file_extension": ".py",
   "mimetype": "text/x-python",
   "name": "python",
   "nbconvert_exporter": "python",
   "pygments_lexer": "ipython3",
   "version": "3.8.8"
  },
  "naas": {
   "notebook_id": "9fda4e28-5ae1-43f8-8f77-0b36c396b2ba",
   "notebook_path": "NASA/NASA_Artic_sea_ice.ipynb"
  },
  "papermill": {
   "default_parameters": {},
   "environment_variables": {},
   "parameters": {},
   "version": "2.3.3"
  },
  "widgets": {
   "application/vnd.jupyter.widget-state+json": {
    "state": {},
    "version_major": 2,
    "version_minor": 0
   }
  }
 },
 "nbformat": 4,
 "nbformat_minor": 5
}