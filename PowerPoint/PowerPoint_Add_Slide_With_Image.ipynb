{
 "cells": [
  {
   "cell_type": "markdown",
   "id": "73fdd6d5-d8c4-47fe-9ab6-beac569af513",
   "metadata": {
    "papermill": {},
    "tags": []
   },
   "source": [
    "<img width=\"10%\" alt=\"Naas\" src=\"https://landen.imgix.net/jtci2pxwjczr/assets/5ice39g4.png?w=160\"/>"
   ]
  },
  {
   "cell_type": "markdown",
   "id": "descending-grammar",
   "metadata": {
    "papermill": {},
    "tags": []
   },
   "source": [
    "# PowerPoint - Add Slide With Image\n",
    "<a href=\"https://app.naas.ai/user-redirect/naas/downloader?url=https://raw.githubusercontent.com/jupyter-naas/awesome-notebooks/master/PowerPoint/PowerPoint_Add_Slide_With_Image.ipynb\" target=\"_parent\"><img src=\"https://naasai-public.s3.eu-west-3.amazonaws.com/Open_in_Naas_Lab.svg\"/></a><br><br><a href=\"https://github.com/jupyter-naas/awesome-notebooks/issues/new?assignees=&labels=&template=template-request.md&title=Tool+-+Action+of+the+notebook+\">Template request</a> | <a href=\"https://github.com/jupyter-naas/awesome-notebooks/issues/new?assignees=&labels=bug&template=bug_report.md&title=PowerPoint+-+Add+Slide+With+Image:+Error+short+description\">Bug report</a> | <a href=\"https://app.naas.ai/user-redirect/naas/downloader?url=https://raw.githubusercontent.com/jupyter-naas/awesome-notebooks/master/Naas/Naas_Start_data_product.ipynb\" target=\"_parent\">Generate Data Product</a>"
   ]
  },
  {
   "cell_type": "markdown",
   "id": "ea0f4d52-5687-4719-9b35-e5abcc48328b",
   "metadata": {
    "papermill": {},
    "tags": []
   },
   "source": [
    "**Tags:** #powerpoint #slide #portrait #pptx #snippet"
   ]
  },
  {
   "cell_type": "markdown",
   "id": "16d1f778-1306-4cb9-a405-f217a4cc8051",
   "metadata": {
    "papermill": {},
    "tags": []
   },
   "source": [
    "**Author:** [Florent Ravenel](https://www.linkedin.com/in/florent-ravenel/)"
   ]
  },
  {
   "cell_type": "markdown",
   "id": "naas-description",
   "metadata": {
    "papermill": {},
    "tags": [
     "description"
    ]
   },
   "source": [
    "**Description:** This notebook provides instructions on how to add an image to a PowerPoint slide."
   ]
  },
  {
   "cell_type": "markdown",
   "id": "d17064b3-00b5-4d71-96ba-38c6af450919",
   "metadata": {
    "papermill": {},
    "tags": []
   },
   "source": [
    "## Input"
   ]
  },
  {
   "cell_type": "markdown",
   "id": "1d8f5e20-bcfc-4ceb-83ad-0856868327a0",
   "metadata": {
    "papermill": {},
    "tags": []
   },
   "source": [
    "### Import libraries"
   ]
  },
  {
   "cell_type": "code",
   "execution_count": 1,
   "id": "fd368ba3-fc40-46db-af1d-a62d11573923",
   "metadata": {
    "papermill": {},
    "tags": []
   },
   "outputs": [],
   "source": [
    "try:\n",
    "    from pptx import Presentation\n",
    "except:\n",
    "    !pip install python-pptx --user\n",
    "    from pptx import Presentation\n",
    "from pptx.util import Inches"
   ]
  },
  {
   "cell_type": "markdown",
   "id": "24f8eaac-55f9-4c4e-8ae4-17b9ef2c9f5b",
   "metadata": {
    "papermill": {},
    "tags": []
   },
   "source": [
    "### Setup Variables"
   ]
  },
  {
   "cell_type": "code",
   "execution_count": 4,
   "id": "c3a3ce45-b695-4024-8c22-2a56e1681dea",
   "metadata": {
    "papermill": {},
    "tags": []
   },
   "outputs": [],
   "source": [
    "output_pptx = \"MyPowerPoint_Slide_Image.pptx\"\n",
    "img_path = \"1664217502406.jfif\""
   ]
  },
  {
   "cell_type": "markdown",
   "id": "0a1ad0db-97b3-4f84-a82e-517595d95f17",
   "metadata": {
    "papermill": {},
    "tags": []
   },
   "source": [
    "## Model"
   ]
  },
  {
   "cell_type": "markdown",
   "id": "b3c67078-aa4f-4de6-8fa4-5a213e238c92",
   "metadata": {
    "papermill": {},
    "tags": []
   },
   "source": [
    "### Create Presentation Obj"
   ]
  },
  {
   "cell_type": "code",
   "execution_count": 2,
   "id": "71ff5fd2-6cc7-4894-a673-fc2bb4946237",
   "metadata": {
    "papermill": {},
    "tags": []
   },
   "outputs": [],
   "source": [
    "prs = Presentation()"
   ]
  },
  {
   "cell_type": "markdown",
   "id": "185bdd85-7724-4f48-aaa2-48f6892bd30d",
   "metadata": {
    "execution": {
     "iopub.execute_input": "2022-09-29T15:14:12.622858Z",
     "iopub.status.busy": "2022-09-29T15:14:12.622603Z",
     "iopub.status.idle": "2022-09-29T15:14:12.625510Z",
     "shell.execute_reply": "2022-09-29T15:14:12.624881Z",
     "shell.execute_reply.started": "2022-09-29T15:14:12.622833Z"
    },
    "papermill": {},
    "tags": []
   },
   "source": [
    "### Setup Width & Height (Portrait)"
   ]
  },
  {
   "cell_type": "code",
   "execution_count": 3,
   "id": "6630d111-b503-49fe-b26a-60f5b50ed6f1",
   "metadata": {
    "papermill": {},
    "tags": []
   },
   "outputs": [],
   "source": [
    "prs.slide_height = Inches(11.69)\n",
    "prs.slide_width = Inches(8.27)"
   ]
  },
  {
   "cell_type": "markdown",
   "id": "2ebc8a60-bcf7-4c59-a6e4-9724ad83d5a7",
   "metadata": {
    "papermill": {},
    "tags": []
   },
   "source": [
    "### Setup Layout"
   ]
  },
  {
   "cell_type": "code",
   "execution_count": 5,
   "id": "1d194c06-b37d-48e1-9b28-c91c513bbf4b",
   "metadata": {
    "papermill": {},
    "tags": []
   },
   "outputs": [],
   "source": [
    "blank_slide_layout = prs.slide_layouts[6]"
   ]
  },
  {
   "cell_type": "markdown",
   "id": "manufactured-allocation",
   "metadata": {
    "papermill": {},
    "tags": []
   },
   "source": [
    "### Add slide 1 with Image"
   ]
  },
  {
   "cell_type": "code",
   "execution_count": 6,
   "id": "powered-ensemble",
   "metadata": {
    "papermill": {},
    "tags": []
   },
   "outputs": [],
   "source": [
    "slide1 = prs.slides.add_slide(blank_slide_layout)\n",
    "\n",
    "left = top = Inches(1)\n",
    "pic = slide1.shapes.add_picture(img_path, left, top)"
   ]
  },
  {
   "cell_type": "markdown",
   "id": "295e2df3-024c-4143-9abf-022def3023c9",
   "metadata": {
    "papermill": {},
    "tags": []
   },
   "source": [
    "### Add slide 2 with Image"
   ]
  },
  {
   "cell_type": "code",
   "execution_count": 7,
   "id": "688ceb3e-cb43-48de-9977-6204a79cb5b4",
   "metadata": {
    "papermill": {},
    "tags": []
   },
   "outputs": [],
   "source": [
    "slide2 = prs.slides.add_slide(blank_slide_layout)\n",
    "\n",
    "left = Inches(5)\n",
    "height = Inches(5.5)\n",
    "pic = slide2.shapes.add_picture(img_path, left, top, height=height)"
   ]
  },
  {
   "cell_type": "markdown",
   "id": "d71d8ad4-697d-4d4e-be8c-6c7d54d174e0",
   "metadata": {
    "papermill": {},
    "tags": []
   },
   "source": [
    "## Output"
   ]
  },
  {
   "cell_type": "markdown",
   "id": "great-visiting",
   "metadata": {
    "papermill": {},
    "tags": []
   },
   "source": [
    "### Save presentation"
   ]
  },
  {
   "cell_type": "code",
   "execution_count": 8,
   "id": "isolated-harrison",
   "metadata": {
    "papermill": {},
    "tags": []
   },
   "outputs": [],
   "source": [
    "prs.save(output_pptx)"
   ]
  }
 ],
 "metadata": {
  "kernelspec": {
   "display_name": "Python 3",
   "language": "python",
   "name": "python3"
  },
  "language_info": {
   "codemirror_mode": {
    "name": "ipython",
    "version": 3
   },
   "file_extension": ".py",
   "mimetype": "text/x-python",
   "name": "python",
   "nbconvert_exporter": "python",
   "pygments_lexer": "ipython3",
   "version": "3.9.6"
  },
  "naas": {
   "notebook_id": "d407f6c7c08a81f0c5871257274d21d6b1ca36d44fdb2483cc0caab78c998412",
   "notebook_path": "PowerPoint/PowerPoint_Add_Slide_With_Image.ipynb"
  },
  "papermill": {
   "default_parameters": {},
   "environment_variables": {},
   "parameters": {},
   "version": "2.3.3"
  },
  "toc-autonumbering": false,
  "widgets": {
   "application/vnd.jupyter.widget-state+json": {
    "state": {},
    "version_major": 2,
    "version_minor": 0
   }
  }
 },
 "nbformat": 4,
 "nbformat_minor": 5
}