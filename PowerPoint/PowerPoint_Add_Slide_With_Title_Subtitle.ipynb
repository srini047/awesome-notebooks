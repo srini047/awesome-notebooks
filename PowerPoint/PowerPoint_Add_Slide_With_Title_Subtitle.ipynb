{
 "cells": [
  {
   "cell_type": "markdown",
   "id": "73fdd6d5-d8c4-47fe-9ab6-beac569af513",
   "metadata": {
    "papermill": {},
    "tags": []
   },
   "source": [
    "<img width=\"10%\" alt=\"Naas\" src=\"https://landen.imgix.net/jtci2pxwjczr/assets/5ice39g4.png?w=160\"/>"
   ]
  },
  {
   "cell_type": "markdown",
   "id": "descending-grammar",
   "metadata": {
    "papermill": {},
    "tags": []
   },
   "source": [
    "# PowerPoint - Add Slide With Title Subtitle\n",
    "<a href=\"https://app.naas.ai/user-redirect/naas/downloader?url=https://raw.githubusercontent.com/jupyter-naas/awesome-notebooks/master/PowerPoint/PowerPoint_Add_Slide_With_Title_Subtitle.ipynb\" target=\"_parent\"><img src=\"https://naasai-public.s3.eu-west-3.amazonaws.com/Open_in_Naas_Lab.svg\"/></a><br><br><a href=\"https://github.com/jupyter-naas/awesome-notebooks/issues/new?assignees=&labels=&template=template-request.md&title=Tool+-+Action+of+the+notebook+\">Template request</a> | <a href=\"https://github.com/jupyter-naas/awesome-notebooks/issues/new?assignees=&labels=bug&template=bug_report.md&title=PowerPoint+-+Add+Slide+With+Title+Subtitle:+Error+short+description\">Bug report</a> | <a href=\"https://app.naas.ai/user-redirect/naas/downloader?url=https://raw.githubusercontent.com/jupyter-naas/awesome-notebooks/master/Naas/Naas_Start_data_product.ipynb\" target=\"_parent\">Generate Data Product</a>"
   ]
  },
  {
   "cell_type": "markdown",
   "id": "ea0f4d52-5687-4719-9b35-e5abcc48328b",
   "metadata": {
    "papermill": {},
    "tags": []
   },
   "source": [
    "**Tags:** #powerpoint #slide #portrait #pptx #snippet"
   ]
  },
  {
   "cell_type": "markdown",
   "id": "16d1f778-1306-4cb9-a405-f217a4cc8051",
   "metadata": {
    "papermill": {},
    "tags": []
   },
   "source": [
    "**Author:** [Florent Ravenel](https://www.linkedin.com/in/florent-ravenel/)"
   ]
  },
  {
   "cell_type": "markdown",
   "id": "naas-description",
   "metadata": {
    "papermill": {},
    "tags": [
     "description"
    ]
   },
   "source": [
    "**Description:** This notebook allows users to quickly and easily create a new slide in PowerPoint with a title and subtitle."
   ]
  },
  {
   "cell_type": "markdown",
   "id": "d17064b3-00b5-4d71-96ba-38c6af450919",
   "metadata": {
    "papermill": {},
    "tags": []
   },
   "source": [
    "## Input"
   ]
  },
  {
   "cell_type": "markdown",
   "id": "1d8f5e20-bcfc-4ceb-83ad-0856868327a0",
   "metadata": {
    "papermill": {},
    "tags": []
   },
   "source": [
    "### Import libraries"
   ]
  },
  {
   "cell_type": "code",
   "execution_count": null,
   "id": "fd368ba3-fc40-46db-af1d-a62d11573923",
   "metadata": {
    "papermill": {},
    "tags": []
   },
   "outputs": [],
   "source": [
    "try:\n",
    "    from pptx import Presentation\n",
    "except:\n",
    "    !pip install python-pptx --user\n",
    "    from pptx import Presentation\n",
    "from pptx.util import Inches"
   ]
  },
  {
   "cell_type": "markdown",
   "id": "d5792678-2f16-44cd-a362-1bda4f5f4a3a",
   "metadata": {
    "papermill": {},
    "tags": []
   },
   "source": [
    "### Setup Variables"
   ]
  },
  {
   "cell_type": "code",
   "execution_count": null,
   "id": "d66b33d7-feae-4f29-95e4-1ec07e31308b",
   "metadata": {
    "papermill": {},
    "tags": []
   },
   "outputs": [],
   "source": [
    "output_pptx = \"MyPowerPoint_Slide.pptx\"\n",
    "title_text = \"Hello, World!\"\n",
    "subtitle_text = \"python-pptx was here!\""
   ]
  },
  {
   "cell_type": "markdown",
   "id": "0a1ad0db-97b3-4f84-a82e-517595d95f17",
   "metadata": {
    "papermill": {},
    "tags": []
   },
   "source": [
    "## Model"
   ]
  },
  {
   "cell_type": "markdown",
   "id": "63d64b25-77c8-44bc-998c-d761ba90f175",
   "metadata": {
    "execution": {
     "iopub.execute_input": "2022-09-29T15:25:39.725048Z",
     "iopub.status.busy": "2022-09-29T15:25:39.724793Z",
     "iopub.status.idle": "2022-09-29T15:25:39.728355Z",
     "shell.execute_reply": "2022-09-29T15:25:39.727721Z",
     "shell.execute_reply.started": "2022-09-29T15:25:39.724985Z"
    },
    "papermill": {},
    "tags": []
   },
   "source": [
    "### Create Presentation Obj"
   ]
  },
  {
   "cell_type": "code",
   "execution_count": null,
   "id": "913274e8-9358-4c8f-88a4-89a39927ce9b",
   "metadata": {
    "papermill": {},
    "tags": []
   },
   "outputs": [],
   "source": [
    "prs = Presentation()"
   ]
  },
  {
   "cell_type": "markdown",
   "id": "185bdd85-7724-4f48-aaa2-48f6892bd30d",
   "metadata": {
    "execution": {
     "iopub.execute_input": "2022-09-29T15:14:12.622858Z",
     "iopub.status.busy": "2022-09-29T15:14:12.622603Z",
     "iopub.status.idle": "2022-09-29T15:14:12.625510Z",
     "shell.execute_reply": "2022-09-29T15:14:12.624881Z",
     "shell.execute_reply.started": "2022-09-29T15:14:12.622833Z"
    },
    "papermill": {},
    "tags": []
   },
   "source": [
    "### Setup Width & Height (Portrait)"
   ]
  },
  {
   "cell_type": "code",
   "execution_count": null,
   "id": "6630d111-b503-49fe-b26a-60f5b50ed6f1",
   "metadata": {
    "papermill": {},
    "tags": []
   },
   "outputs": [],
   "source": [
    "prs.slide_height = Inches(11.69)\n",
    "prs.slide_width = Inches(8.27)"
   ]
  },
  {
   "cell_type": "markdown",
   "id": "manufactured-allocation",
   "metadata": {
    "papermill": {},
    "tags": []
   },
   "source": [
    "### Add slide"
   ]
  },
  {
   "cell_type": "code",
   "execution_count": null,
   "id": "powered-ensemble",
   "metadata": {
    "papermill": {},
    "tags": []
   },
   "outputs": [],
   "source": [
    "title_slide_layout = prs.slide_layouts[0]\n",
    "slide = prs.slides.add_slide(title_slide_layout)\n",
    "title = slide.shapes.title\n",
    "subtitle = slide.placeholders[1]\n",
    "\n",
    "title.text = title_text\n",
    "subtitle.text = subtitle_text"
   ]
  },
  {
   "cell_type": "markdown",
   "id": "d71d8ad4-697d-4d4e-be8c-6c7d54d174e0",
   "metadata": {
    "papermill": {},
    "tags": []
   },
   "source": [
    "## Output"
   ]
  },
  {
   "cell_type": "markdown",
   "id": "great-visiting",
   "metadata": {
    "papermill": {},
    "tags": []
   },
   "source": [
    "### Save presentation"
   ]
  },
  {
   "cell_type": "code",
   "execution_count": null,
   "id": "isolated-harrison",
   "metadata": {
    "papermill": {},
    "tags": []
   },
   "outputs": [],
   "source": [
    "prs.save(output_pptx)"
   ]
  }
 ],
 "metadata": {
  "kernelspec": {
   "display_name": "Python 3",
   "language": "python",
   "name": "python3"
  },
  "language_info": {
   "codemirror_mode": {
    "name": "ipython",
    "version": 3
   },
   "file_extension": ".py",
   "mimetype": "text/x-python",
   "name": "python",
   "nbconvert_exporter": "python",
   "pygments_lexer": "ipython3",
   "version": "3.9.6"
  },
  "naas": {
   "notebook_id": "e3d8e2acd0d06ddfb9d30c2f126b22ec639ec52fb578e2bf890674239ab7e4b6",
   "notebook_path": "PowerPoint/PowerPoint_Add_Slide_With_Title_Subtitle.ipynb"
  },
  "papermill": {
   "default_parameters": {},
   "environment_variables": {},
   "parameters": {},
   "version": "2.3.3"
  },
  "toc-autonumbering": false,
  "widgets": {
   "application/vnd.jupyter.widget-state+json": {
    "state": {},
    "version_major": 2,
    "version_minor": 0
   }
  }
 },
 "nbformat": 4,
 "nbformat_minor": 5
}