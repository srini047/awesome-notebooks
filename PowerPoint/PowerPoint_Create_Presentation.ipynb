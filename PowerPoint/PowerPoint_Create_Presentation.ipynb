{
 "cells": [
  {
   "cell_type": "markdown",
   "id": "latin-packing",
   "metadata": {
    "execution": {
     "iopub.execute_input": "2021-02-23T14:22:16.610471Z",
     "iopub.status.busy": "2021-02-23T14:22:16.610129Z",
     "iopub.status.idle": "2021-02-23T14:22:16.627784Z",
     "shell.execute_reply": "2021-02-23T14:22:16.626866Z",
     "shell.execute_reply.started": "2021-02-23T14:22:16.610384Z"
    },
    "papermill": {},
    "tags": []
   },
   "source": [
    "<img width=\"10%\" alt=\"Naas\" src=\"https://landen.imgix.net/jtci2pxwjczr/assets/5ice39g4.png?w=160\"/>"
   ]
  },
  {
   "cell_type": "markdown",
   "id": "compressed-wilson",
   "metadata": {
    "papermill": {},
    "tags": []
   },
   "source": [
    "# PowerPoint - Create Presentation\n",
    "<a href=\"https://app.naas.ai/user-redirect/naas/downloader?url=https://raw.githubusercontent.com/jupyter-naas/awesome-notebooks/master/PowerPoint/PowerPoint_Create_Presentation.ipynb\" target=\"_parent\"><img src=\"https://naasai-public.s3.eu-west-3.amazonaws.com/open_in_naas.svg\"/></a><br><br><a href=\"https://github.com/jupyter-naas/awesome-notebooks/issues/new?assignees=&labels=&template=template-request.md&title=Tool+-+Action+of+the+notebook+\">Template request</a> | <a href=\"https://github.com/jupyter-naas/awesome-notebooks/issues/new?assignees=&labels=bug&template=bug_report.md&title=PowerPoint+-+Create+Presentation:+Error+short+description\">Bug report</a>"
   ]
  },
  {
   "cell_type": "markdown",
   "id": "religious-programmer",
   "metadata": {
    "papermill": {},
    "tags": []
   },
   "source": [
    "**Tags:** #powerpoint #naas #python #pythonpptx #asset #snippet #operations #slide #microsoft"
   ]
  },
  {
   "cell_type": "markdown",
   "id": "1fe9f56e-561c-4f52-aef8-b861c9462107",
   "metadata": {
    "papermill": {},
    "tags": []
   },
   "source": [
    "**Author:** [Ayoub Berdeddouch](https://www.linkedin.com/in/ayoub-berdeddouch)"
   ]
  },
  {
   "cell_type": "markdown",
   "id": "31ea7cdb-e10d-43fc-b026-f69249a59736",
   "metadata": {
    "papermill": {},
    "tags": []
   },
   "source": [
    "**Description:** This notebook creates a PowerPoint presentation with a cover page, 3 pages with graphs and text and a last page."
   ]
  },
  {
   "cell_type": "markdown",
   "id": "distinguished-truth",
   "metadata": {
    "papermill": {},
    "tags": []
   },
   "source": [
    "## Input"
   ]
  },
  {
   "cell_type": "markdown",
   "id": "numeric-mediterranean",
   "metadata": {
    "papermill": {},
    "tags": []
   },
   "source": [
    "### Import libraries"
   ]
  },
  {
   "cell_type": "markdown",
   "id": "a9ae36e1-de27-4385-8a41-c8c162f8077c",
   "metadata": {
    "papermill": {},
    "tags": []
   },
   "source": [
    "* Installation: https://pypi.org/project/python-pptx/\n",
    "* python-pptx documentation: https://python-pptx.readthedocs.io/en/latest/api/presentation.html"
   ]
  },
  {
   "cell_type": "code",
   "execution_count": null,
   "id": "potential-surfing",
   "metadata": {
    "papermill": {},
    "tags": []
   },
   "outputs": [],
   "source": [
    "try:\n",
    "    from pptx import Presentation\n",
    "except:\n",
    "    !pip install python-pptx --user\n",
    "from pptx.enum.shapes import MSO_SHAPE\n",
    "from pptx.dml.color import RGBColor\n",
    "from pptx.util import Inches, Pt\n",
    "from pptx.enum.dml import MSO_THEME_COLOR\n",
    "from pptx.chart.data import CategoryChartData\n",
    "from pptx.enum.chart import XL_CHART_TYPE\n",
    "from pptx.chart.data import ChartData\n",
    "from pptx.util import Inches\n",
    "import numpy as np \n",
    "import datetime\n",
    "import requests\n",
    "import plotly.graph_objects as go\n",
    "import pandas as pd\n",
    "import naas"
   ]
  },
  {
   "cell_type": "markdown",
   "id": "0ad7eefc-b25e-4d84-a484-0e2d5f023150",
   "metadata": {
    "papermill": {},
    "tags": []
   },
   "source": [
    "### Setup Variables"
   ]
  },
  {
   "cell_type": "code",
   "execution_count": null,
   "id": "2566b0bc-4932-4066-aa4a-b1a2b60405c1",
   "metadata": {
    "papermill": {},
    "tags": []
   },
   "outputs": [],
   "source": [
    "# Title\n",
    "title = \"NaaS Automated Presentation Creating Process\\n\\\n",
    "    How to Create PowerPoint Presentations with NaaS Jupyter Template\"\n",
    "\n",
    "# Logos URL\n",
    "url_naas = \"https://cdn.umso.co/jtci2pxwjczr/assets/axa9wbqm.png?w=1200&h=630&fit=crop\"  # url naas to get logo\n",
    "url_ppt = \"https://encrypted-tbn0.gstatic.com/images?q=tbn:ANd9GcQA_0dSO8kAxQFB3s6-cdJAvcYWJKFcHFwr2xzqBauweg&s\"  # url ppt to get logo\n",
    "\n",
    "# Logos outputs\n",
    "naaslogo = \"naaslogo.png\"  # name of logo naas downloaded on local\n",
    "pptlogo = \"pptlogo.png\"  # name of logo ppt downloaded on local\n",
    "\n",
    "# Presentation pptx\n",
    "output_pptx = \"basic_presentation_naas.pptx\""
   ]
  },
  {
   "cell_type": "markdown",
   "id": "registered-showcase",
   "metadata": {
    "papermill": {},
    "tags": []
   },
   "source": [
    "## Model"
   ]
  },
  {
   "cell_type": "markdown",
   "id": "82de357a-55fb-4dae-a670-9a9f162c1457",
   "metadata": {
    "papermill": {},
    "tags": []
   },
   "source": [
    "### Download image on local"
   ]
  },
  {
   "cell_type": "code",
   "execution_count": null,
   "id": "b5642fd1-b49f-455a-8823-dc76883828ad",
   "metadata": {
    "papermill": {},
    "tags": []
   },
   "outputs": [],
   "source": [
    "# Function to download image = logo\n",
    "def download_image(url, file_name):\n",
    "    # Send GET request\n",
    "    response = requests.get(url)\n",
    "    # Save the image\n",
    "    if response.status_code == 200:\n",
    "        with open(file_name, \"wb\") as f:\n",
    "            f.write(response.content)\n",
    "    else:\n",
    "        print(response.status_code)"
   ]
  },
  {
   "cell_type": "code",
   "execution_count": null,
   "id": "16af0e5e-e30e-4492-bebc-0fe25a37e4b8",
   "metadata": {
    "papermill": {},
    "tags": []
   },
   "outputs": [],
   "source": [
    "# Download naaslogo\n",
    "download_image(url_naas, naaslogo)\n",
    "\n",
    "# Download pptlogo\n",
    "download_image(url_ppt, pptlogo)"
   ]
  },
  {
   "cell_type": "markdown",
   "id": "a06688a6-60c0-4cf9-91fe-e22ffedb6db2",
   "metadata": {
    "papermill": {},
    "tags": []
   },
   "source": [
    "### Set Presentation obj"
   ]
  },
  {
   "cell_type": "code",
   "execution_count": null,
   "id": "23856cef-b30e-45aa-a6e3-3f42db77cec5",
   "metadata": {
    "papermill": {},
    "tags": []
   },
   "outputs": [],
   "source": [
    "# Presentation obj\n",
    "prs = Presentation()\n",
    "prs.slide_width = Inches(16)\n",
    "prs.slide_height = Inches(9)"
   ]
  },
  {
   "cell_type": "markdown",
   "id": "tested-astrology",
   "metadata": {
    "papermill": {},
    "tags": []
   },
   "source": [
    "### Font Page : Create a title and a line within the Presentation"
   ]
  },
  {
   "cell_type": "code",
   "execution_count": null,
   "id": "78700b93-32a9-4f0e-806a-325ed006338f",
   "metadata": {
    "papermill": {},
    "tags": []
   },
   "outputs": [],
   "source": [
    "slide = prs.slides.add_slide(prs.slide_layouts[6])\n",
    "\n",
    "shape = slide.shapes.add_shape(\n",
    "    MSO_SHAPE.RECTANGLE, 0, Inches(9 / 1.5), Inches(16), Inches(9 / 8.5)\n",
    ")\n",
    "shape.shadow.inherit = False\n",
    "fill = shape.fill\n",
    "fill.solid()\n",
    "fill.fore_color.rgb = RGBColor(0, 0, 0)\n",
    "shape.text = title\n",
    "line = shape.line\n",
    "line.color.rgb = RGBColor(0, 0, 0)\n",
    "\n",
    "logo1 = slide.shapes.add_picture(\n",
    "    naaslogo, Inches(13.5), Inches(6.0), height=Inches(1.0), width=Inches(1.0)\n",
    ")\n",
    "logo2 = slide.shapes.add_picture(\n",
    "    pptlogo, Inches(14.5), Inches(5.8), height=Inches(1.5), width=Inches(1.5)\n",
    ")"
   ]
  },
  {
   "cell_type": "markdown",
   "id": "aa822e09-bc3f-491c-82b2-c363650b6caf",
   "metadata": {
    "papermill": {},
    "tags": []
   },
   "source": [
    "### Page 1 : \"How to Add a Chart\""
   ]
  },
  {
   "cell_type": "code",
   "execution_count": null,
   "id": "7859443d-66d1-4c8c-acca-4dec4fd1e763",
   "metadata": {
    "papermill": {},
    "tags": []
   },
   "outputs": [],
   "source": [
    "slide = prs.slides.add_slide(prs.slide_layouts[6])\n",
    "\n",
    "shape = slide.shapes.add_shape(\n",
    "    MSO_SHAPE.RECTANGLE, 0, Inches(0.5), Inches(16), Inches(0.3)\n",
    ")\n",
    "shape.shadow.inherit = False\n",
    "fill = shape.fill\n",
    "fill.solid()\n",
    "fill.fore_color.rgb = RGBColor(0, 0, 0)\n",
    "shape.text = \"How to Add a Chart\"\n",
    "line = shape.line\n",
    "line.color.rgb = RGBColor(0, 0, 0)\n",
    "logo1 = slide.shapes.add_picture(\n",
    "    naaslogo, Inches(14.5), Inches(0.4), height=Inches(0.5), width=Inches(0.5)\n",
    ")\n",
    "logo2 = slide.shapes.add_picture(\n",
    "    pptlogo, Inches(15.0), Inches(0.4), height=Inches(0.5), width=Inches(0.5)\n",
    ")\n",
    "\n",
    "N = 100\n",
    "\n",
    "random_x = np.random.randn(N) + 10\n",
    "random_y = np.random.randn(N) + 5\n",
    "random_z = np.random.randn(N) + 20\n",
    "\n",
    "dte = datetime.datetime.today()\n",
    "dt_lst = [dte - datetime.timedelta(days=i) for i in range(N)]\n",
    "\n",
    "chart_data = ChartData()\n",
    "chart_data.categories = dt_lst\n",
    "chart_data.add_series(\"Data 1\", random_x)\n",
    "chart_data.add_series(\"Data 2\", random_y)\n",
    "chart_data.add_series(\"Data 3\", random_z)\n",
    "\n",
    "x, y, cx, cy = Inches(1), Inches(2), Inches(14), Inches(6)\n",
    "chart = slide.shapes.add_chart(XL_CHART_TYPE.LINE, x, y, cx, cy, chart_data).chart\n",
    "chart.has_legend = True\n",
    "chart.legend.include_in_layout = False\n",
    "chart.series[2].smooth = True"
   ]
  },
  {
   "cell_type": "markdown",
   "id": "300a5227-4ca9-4214-873b-149d82c05b9c",
   "metadata": {
    "papermill": {},
    "tags": []
   },
   "source": [
    "### Page 2 : \"How to Add an Chart_2\""
   ]
  },
  {
   "cell_type": "code",
   "execution_count": null,
   "id": "52113694-4919-4974-adef-0fc3b37f910b",
   "metadata": {
    "papermill": {},
    "tags": []
   },
   "outputs": [],
   "source": [
    "slide = prs.slides.add_slide(prs.slide_layouts[6])\n",
    "\n",
    "shape = slide.shapes.add_shape(\n",
    "    MSO_SHAPE.RECTANGLE, 0, Inches(0.5), Inches(16), Inches(0.3)\n",
    ")\n",
    "shape.shadow.inherit = False\n",
    "fill = shape.fill\n",
    "fill.solid()\n",
    "fill.fore_color.rgb = RGBColor(0, 0, 0)\n",
    "shape.text = \"How to Add an Chart_2\"\n",
    "line = shape.line\n",
    "line.color.rgb = RGBColor(0, 0, 0)\n",
    "logo1 = slide.shapes.add_picture(\n",
    "    naaslogo, Inches(14.5), Inches(0.4), height=Inches(0.5), width=Inches(0.5)\n",
    ")\n",
    "logo2 = slide.shapes.add_picture(\n",
    "    pptlogo, Inches(15.0), Inches(0.4), height=Inches(0.5), width=Inches(0.5)\n",
    ")\n",
    "\n",
    "df = pd.read_csv(\n",
    "    \"https://raw.githubusercontent.com/plotly/datasets/718417069ead87650b90472464c7565dc8c2cb1c/sunburst-coffee-flavors-complete.csv\"\n",
    ")\n",
    "\n",
    "fig = go.Figure(go.Sunburst(ids=df.ids, labels=df.labels, parents=df.parents))\n",
    "fig.update_layout(uniformtext=dict(minsize=10, mode=\"hide\"))\n",
    "\n",
    "fig.write_image(\"img.png\")\n",
    "\n",
    "imgpth = \"img.png\"\n",
    "\n",
    "left = top = Inches(1)\n",
    "pic = slide.shapes.add_picture(imgpth, left, top)"
   ]
  },
  {
   "cell_type": "markdown",
   "id": "a950824d-e4f3-47c0-8fba-371c749916e2",
   "metadata": {
    "papermill": {},
    "tags": []
   },
   "source": [
    "### Page 3 : \"How to Add a Text\\ Paragraph\""
   ]
  },
  {
   "cell_type": "code",
   "execution_count": null,
   "id": "64794df9-36b4-4ff3-9073-450fb99aea91",
   "metadata": {
    "papermill": {},
    "tags": []
   },
   "outputs": [],
   "source": [
    "slide = prs.slides.add_slide(prs.slide_layouts[6])\n",
    "\n",
    "shape = slide.shapes.add_shape(\n",
    "    MSO_SHAPE.RECTANGLE, 0, Inches(0.5), Inches(16), Inches(0.3)\n",
    ")\n",
    "shape.shadow.inherit = False\n",
    "fill = shape.fill\n",
    "fill.solid()\n",
    "fill.fore_color.rgb = RGBColor(0, 0, 0)\n",
    "shape.text = \"How to Add a Text\\ Paragraph\"\n",
    "line = shape.line\n",
    "line.color.rgb = RGBColor(0, 0, 0)\n",
    "logo1 = slide.shapes.add_picture(\n",
    "    naaslogo, Inches(14.5), Inches(0.4), height=Inches(0.5), width=Inches(0.5)\n",
    ")\n",
    "logo2 = slide.shapes.add_picture(\n",
    "    pptlogo, Inches(15.0), Inches(0.4), height=Inches(0.5), width=Inches(0.5)\n",
    ")\n",
    "\n",
    "left = Inches(1)\n",
    "top = Inches(2)\n",
    "width = Inches(12)\n",
    "height = Inches(5)\n",
    "\n",
    "text_box = slide.shapes.add_textbox(left, top, width, height)\n",
    "\n",
    "tb = text_box.text_frame\n",
    "tb.text = \"Ready to use data science templates, organized by tools to jumpstart your projects and data products in minutes.\\n\\\n",
    "😎 published by the Naas community.\"\n",
    "\n",
    "prg = tb.add_paragraph()\n",
    "prg.text = \" \"\n",
    "\n",
    "prg = tb.add_paragraph()\n",
    "prg.text = \"😎Naas Templates😎 ~~ (aka the awesome-notebooks)\""
   ]
  },
  {
   "cell_type": "markdown",
   "id": "03966286-95e6-46ed-81e7-93b1001ab92c",
   "metadata": {
    "papermill": {},
    "tags": []
   },
   "source": [
    "### Last Page : Add author name"
   ]
  },
  {
   "cell_type": "code",
   "execution_count": null,
   "id": "bbebd879-a361-4f9e-bff0-9badd20a15a0",
   "metadata": {
    "papermill": {},
    "tags": []
   },
   "outputs": [],
   "source": [
    "slide = prs.slides.add_slide(prs.slide_layouts[6])\n",
    "\n",
    "shape = slide.shapes.add_shape(\n",
    "    MSO_SHAPE.RECTANGLE, 0, Inches(4.0), Inches(16), Inches(1.0)\n",
    ")\n",
    "shape.shadow.inherit = False\n",
    "fill = shape.fill\n",
    "fill.solid()\n",
    "fill.fore_color.rgb = RGBColor(0, 0, 0)\n",
    "shape.text = \"Thank You, by Ayoub Berdeddouch\"\n",
    "line = shape.line\n",
    "line.color.rgb = RGBColor(0, 0, 0)\n",
    "\n",
    "logo1 = slide.shapes.add_picture(\n",
    "    naaslogo, Inches(13.5), Inches(4.0), height=Inches(1.0), width=Inches(1.0)\n",
    ")\n",
    "logo2 = slide.shapes.add_picture(\n",
    "    pptlogo, Inches(14.5), Inches(4.0), height=Inches(1.0), width=Inches(1.0)\n",
    ")"
   ]
  },
  {
   "cell_type": "markdown",
   "id": "lonely-pacific",
   "metadata": {
    "execution": {
     "iopub.execute_input": "2021-07-02T23:32:10.789097Z",
     "iopub.status.busy": "2021-07-02T23:32:10.788829Z",
     "iopub.status.idle": "2021-07-02T23:32:10.796900Z",
     "shell.execute_reply": "2021-07-02T23:32:10.796358Z",
     "shell.execute_reply.started": "2021-07-02T23:32:10.789033Z"
    },
    "papermill": {},
    "tags": []
   },
   "source": [
    "## Output"
   ]
  },
  {
   "cell_type": "markdown",
   "id": "890f7c86-b7bb-4f5d-9a1b-e492dd9580fd",
   "metadata": {
    "papermill": {},
    "tags": []
   },
   "source": [
    "### Save result in csv"
   ]
  },
  {
   "cell_type": "code",
   "execution_count": null,
   "id": "7c4f5167-a6fe-457c-ac8d-3144786d6088",
   "metadata": {
    "papermill": {},
    "tags": []
   },
   "outputs": [],
   "source": [
    "prs.save(output_pptx)"
   ]
  },
  {
   "cell_type": "markdown",
   "id": "f02df08c-5349-4e80-b496-1f48a01c0830",
   "metadata": {
    "papermill": {},
    "tags": []
   },
   "source": [
    "### Share PowerPoint Presentation with naas asset"
   ]
  },
  {
   "cell_type": "code",
   "execution_count": null,
   "id": "99b164b3-b06b-4a28-b1a1-0a11c52aabf3",
   "metadata": {
    "papermill": {},
    "tags": []
   },
   "outputs": [],
   "source": [
    "# Share output with naas\n",
    "naas.asset.add(output_pptx)\n",
    "\n",
    "# -> Uncomment the line below and run the cell to remove your asset\n",
    "# naas.asset.delete(output_pptx)"
   ]
  }
 ],
 "metadata": {
  "kernelspec": {
   "display_name": "Python 3",
   "language": "python",
   "name": "python3"
  },
  "language_info": {
   "codemirror_mode": {
    "name": "ipython",
    "version": 3
   },
   "file_extension": ".py",
   "mimetype": "text/x-python",
   "name": "python",
   "nbconvert_exporter": "python",
   "pygments_lexer": "ipython3",
   "version": "3.9.6"
  },
  "papermill": {
   "default_parameters": {},
   "environment_variables": {},
   "parameters": {},
   "version": "2.3.3"
  },
  "widgets": {
   "application/vnd.jupyter.widget-state+json": {
    "state": {},
    "version_major": 2,
    "version_minor": 0
   }
  }
 },
 "nbformat": 4,
 "nbformat_minor": 5
}