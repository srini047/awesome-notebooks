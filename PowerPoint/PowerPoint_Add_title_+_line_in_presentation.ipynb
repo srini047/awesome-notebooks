{
 "cells": [
  {
   "cell_type": "markdown",
   "id": "latin-packing",
   "metadata": {
    "execution": {
     "iopub.execute_input": "2021-02-23T14:22:16.610471Z",
     "iopub.status.busy": "2021-02-23T14:22:16.610129Z",
     "iopub.status.idle": "2021-02-23T14:22:16.627784Z",
     "shell.execute_reply": "2021-02-23T14:22:16.626866Z",
     "shell.execute_reply.started": "2021-02-23T14:22:16.610384Z"
    },
    "papermill": {},
    "tags": []
   },
   "source": [
    "<img width=\"10%\" alt=\"Naas\" src=\"https://landen.imgix.net/jtci2pxwjczr/assets/5ice39g4.png?w=160\"/>"
   ]
  },
  {
   "cell_type": "markdown",
   "id": "compressed-wilson",
   "metadata": {
    "papermill": {},
    "tags": []
   },
   "source": [
    "# PowerPoint - Add title + line in presentation\n",
    "<a href=\"https://app.naas.ai/user-redirect/naas/downloader?url=https://raw.githubusercontent.com/jupyter-naas/awesome-notebooks/master/PowerPoint/PowerPoint_Add_title_%2B_line_in_presentation.ipynb\" target=\"_parent\"><img src=\"https://naasai-public.s3.eu-west-3.amazonaws.com/open_in_naas.svg\"/></a><br><br><a href=\"https://github.com/jupyter-naas/awesome-notebooks/issues/new?assignees=&labels=&template=template-request.md&title=Tool+-+Action+of+the+notebook+\">Template request</a> | <a href=\"https://github.com/jupyter-naas/awesome-notebooks/issues/new?assignees=&labels=bug&template=bug_report.md&title=PowerPoint+-+Add+title+++line+in+presentation:+Error+short+description\">Bug report</a>"
   ]
  },
  {
   "cell_type": "markdown",
   "id": "religious-programmer",
   "metadata": {
    "papermill": {},
    "tags": []
   },
   "source": [
    "**Tags:** #powerpoint #naas #python #python_pptx"
   ]
  },
  {
   "cell_type": "markdown",
   "id": "1fe9f56e-561c-4f52-aef8-b861c9462107",
   "metadata": {
    "papermill": {},
    "tags": []
   },
   "source": [
    "**Author:** [Ayoub Berdeddouch](https://www.linkedin.com/in/ayoub-berdeddouch)"
   ]
  },
  {
   "cell_type": "markdown",
   "id": "31ea7cdb-e10d-43fc-b026-f69249a59736",
   "metadata": {
    "papermill": {},
    "tags": []
   },
   "source": [
    "**Description:** This notebook Adds a title + Line to a presentation in PowerPoint"
   ]
  },
  {
   "cell_type": "markdown",
   "id": "distinguished-truth",
   "metadata": {
    "papermill": {},
    "tags": []
   },
   "source": [
    "## Input"
   ]
  },
  {
   "cell_type": "markdown",
   "id": "numeric-mediterranean",
   "metadata": {
    "papermill": {},
    "tags": []
   },
   "source": [
    "### Import libraries"
   ]
  },
  {
   "cell_type": "markdown",
   "id": "a9ae36e1-de27-4385-8a41-c8c162f8077c",
   "metadata": {
    "papermill": {},
    "tags": []
   },
   "source": [
    "* Installation : https://pypi.org/project/python-pptx/\n",
    "* **pptx documentation : https://python-pptx.readthedocs.io/en/latest/api/presentation.html**"
   ]
  },
  {
   "cell_type": "code",
   "execution_count": 1,
   "id": "57026a57-2917-4e63-949e-0e258695cf82",
   "metadata": {
    "execution": {
     "iopub.execute_input": "2022-10-28T15:01:06.311391Z",
     "iopub.status.busy": "2022-10-28T15:01:06.311135Z",
     "iopub.status.idle": "2022-10-28T15:01:09.738037Z",
     "shell.execute_reply": "2022-10-28T15:01:09.737357Z",
     "shell.execute_reply.started": "2022-10-28T15:01:06.311329Z"
    },
    "papermill": {},
    "tags": []
   },
   "outputs": [],
   "source": [
    " !pip install python-pptx"
   ]
  },
  {
   "cell_type": "code",
   "execution_count": 6,
   "id": "potential-surfing",
   "metadata": {
    "execution": {
     "iopub.execute_input": "2022-10-28T15:02:22.894553Z",
     "iopub.status.busy": "2022-10-28T15:02:22.894328Z",
     "iopub.status.idle": "2022-10-28T15:02:22.899284Z",
     "shell.execute_reply": "2022-10-28T15:02:22.898697Z",
     "shell.execute_reply.started": "2022-10-28T15:02:22.894530Z"
    },
    "papermill": {},
    "tags": []
   },
   "outputs": [],
   "source": [
    "from pptx import Presentation\n",
    "from pptx.enum.shapes import MSO_CONNECTOR\n",
    "from pptx.util import Inches"
   ]
  },
  {
   "cell_type": "markdown",
   "id": "aggressive-trustee",
   "metadata": {
    "papermill": {},
    "tags": []
   },
   "source": [
    "### Variables"
   ]
  },
  {
   "cell_type": "code",
   "execution_count": 16,
   "id": "continuous-melbourne",
   "metadata": {
    "execution": {
     "iopub.execute_input": "2022-10-28T15:17:40.127477Z",
     "iopub.status.busy": "2022-10-28T15:17:40.127262Z",
     "iopub.status.idle": "2022-10-28T15:17:40.152538Z",
     "shell.execute_reply": "2022-10-28T15:17:40.151943Z",
     "shell.execute_reply.started": "2022-10-28T15:17:40.127455Z"
    },
    "papermill": {},
    "tags": []
   },
   "outputs": [],
   "source": [
    "# Create blank PowerPoint file\n",
    "prs = Presentation()\n",
    "\n",
    "# set slide template labels. This just makes is easier to read the code. The layout index can also be used.\n",
    "SLD_LAYOUT_TITLE = 0\n",
    "SLD_LAYOUT_TITLE_AND_CONTENT = 1\n",
    "SLD_LAYOUT_TITLE_ONLY = 5"
   ]
  },
  {
   "cell_type": "markdown",
   "id": "registered-showcase",
   "metadata": {
    "papermill": {},
    "tags": []
   },
   "source": [
    "## Model"
   ]
  },
  {
   "cell_type": "markdown",
   "id": "tested-astrology",
   "metadata": {
    "papermill": {},
    "tags": []
   },
   "source": [
    "### Create a title and a line within the Presentation"
   ]
  },
  {
   "cell_type": "code",
   "execution_count": 10,
   "id": "crude-louisville",
   "metadata": {
    "execution": {
     "iopub.execute_input": "2022-10-19T09:53:09.721310Z",
     "iopub.status.busy": "2022-10-19T09:53:09.721013Z",
     "iopub.status.idle": "2022-10-19T09:53:09.729472Z",
     "shell.execute_reply": "2022-10-19T09:53:09.728934Z",
     "shell.execute_reply.started": "2022-10-19T09:53:09.721277Z"
    },
    "papermill": {},
    "tags": []
   },
   "outputs": [],
   "source": [
    "# Set title page text variables\n",
    "slide_title = \"Jupyter Notebooks-as-a-service\"\n",
    "# slide_subtitle = dt.datetime.today().strftime('%m/%d/%Y')\n",
    "\n",
    "# slide_subtitle = \"All-in-one open source data platform, based on @jupyter\"\n",
    "# Add a title slide\n",
    "slide_layout = prs.slide_layouts[SLD_LAYOUT_TITLE]\n",
    "slide = prs.slides.add_slide(slide_layout)\n",
    "\n",
    "# Insert title slide text. There are two text shapes on the Title slide layout by default.\n",
    "slide.shapes[0].text = slide_title\n",
    "# slide.shapes[1].text = slide_subtitle"
   ]
  },
  {
   "cell_type": "code",
   "execution_count": 47,
   "id": "bbebd879-a361-4f9e-bff0-9badd20a15a0",
   "metadata": {
    "execution": {
     "iopub.execute_input": "2022-10-28T15:40:39.957531Z",
     "iopub.status.busy": "2022-10-28T15:40:39.957308Z",
     "iopub.status.idle": "2022-10-28T15:40:39.961786Z",
     "shell.execute_reply": "2022-10-28T15:40:39.961164Z",
     "shell.execute_reply.started": "2022-10-28T15:40:39.957506Z"
    },
    "papermill": {},
    "tags": []
   },
   "outputs": [],
   "source": [
    "# function to create slide with title and a line\n",
    "def pptx_slide(title=\"Title\"):\n",
    "    # Create blank PowerPoint file\n",
    "    prs = Presentation()\n",
    "\n",
    "    # set slide template labels. This just makes is easier to read the code. The layout index can also be used.\n",
    "    SLD_LAYOUT_TITLE = 0\n",
    "    SLD_LAYOUT_TITLE_AND_CONTENT = 1\n",
    "    SLD_LAYOUT_TITLE_ONLY = 5\n",
    "\n",
    "    # Set title page text variables\n",
    "    slide_title = title\n",
    "    # slide_subtitle = dt.datetime.today().strftime('%m/%d/%Y')\n",
    "\n",
    "    # Add a title slide\n",
    "    slide_layout = prs.slide_layouts[SLD_LAYOUT_TITLE_ONLY]\n",
    "    slide = prs.slides.add_slide(slide_layout)\n",
    "\n",
    "    # Insert title slide text. There are two text shapes on the Title slide layout by default.\n",
    "    slide.shapes[0].text = slide_title\n",
    "\n",
    "    # Inserting the line\n",
    "    line1 = slide.shapes.add_connector(\n",
    "        MSO_CONNECTOR.STRAIGHT, Inches(7.0), Inches(2.0), Inches(1.5), Inches(2.0)\n",
    "    )\n",
    "\n",
    "    # save the presentation\n",
    "    prs.save(\"Presentation_Title_Line.pptx\")"
   ]
  },
  {
   "cell_type": "markdown",
   "id": "lonely-pacific",
   "metadata": {
    "execution": {
     "iopub.execute_input": "2021-07-02T23:32:10.789097Z",
     "iopub.status.busy": "2021-07-02T23:32:10.788829Z",
     "iopub.status.idle": "2021-07-02T23:32:10.796900Z",
     "shell.execute_reply": "2021-07-02T23:32:10.796358Z",
     "shell.execute_reply.started": "2021-07-02T23:32:10.789033Z"
    },
    "papermill": {},
    "tags": []
   },
   "source": [
    "## Output"
   ]
  },
  {
   "cell_type": "markdown",
   "id": "890f7c86-b7bb-4f5d-9a1b-e492dd9580fd",
   "metadata": {
    "papermill": {},
    "tags": []
   },
   "source": [
    "### Save result in csv"
   ]
  },
  {
   "cell_type": "code",
   "execution_count": 48,
   "id": "bf2af3c7-fa4e-46b8-8cfd-8d6623e26717",
   "metadata": {
    "execution": {
     "iopub.execute_input": "2022-10-28T15:40:41.133204Z",
     "iopub.status.busy": "2022-10-28T15:40:41.132968Z",
     "iopub.status.idle": "2022-10-28T15:40:41.247638Z",
     "shell.execute_reply": "2022-10-28T15:40:41.245817Z",
     "shell.execute_reply.started": "2022-10-28T15:40:41.133180Z"
    },
    "papermill": {},
    "tags": []
   },
   "outputs": [],
   "source": [
    "# save with the function\n",
    "pptx_slide(\"NaaS: Jupyter Notebooks-as-a-service\")"
   ]
  },
  {
   "cell_type": "code",
   "execution_count": null,
   "id": "2e404c80-5cf6-487b-8175-2ea2ca0dbde8",
   "metadata": {
    "papermill": {},
    "tags": []
   },
   "outputs": [],
   "source": []
  }
 ],
 "metadata": {
  "kernelspec": {
   "display_name": "Python 3",
   "language": "python",
   "name": "python3"
  },
  "language_info": {
   "codemirror_mode": {
    "name": "ipython",
    "version": 3
   },
   "file_extension": ".py",
   "mimetype": "text/x-python",
   "name": "python",
   "nbconvert_exporter": "python",
   "pygments_lexer": "ipython3",
   "version": "3.9.6"
  },
  "papermill": {
   "default_parameters": {},
   "environment_variables": {},
   "parameters": {},
   "version": "2.3.3"
  },
  "widgets": {
   "application/vnd.jupyter.widget-state+json": {
    "state": {},
    "version_major": 2,
    "version_minor": 0
   }
  }
 },
 "nbformat": 4,
 "nbformat_minor": 5
}