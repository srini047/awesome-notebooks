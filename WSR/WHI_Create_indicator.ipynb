{
 "cells": [
  {
   "cell_type": "markdown",
   "id": "naas-logo",
   "metadata": {
    "papermill": {},
    "tags": [
     "naas"
    ]
   },
   "source": [
    "<img width=\"10%\" alt=\"Naas\" src=\"https://landen.imgix.net/jtci2pxwjczr/assets/5ice39g4.png?w=160\"/>"
   ]
  },
  {
   "cell_type": "markdown",
   "id": "disturbed-technology",
   "metadata": {
    "papermill": {},
    "tags": []
   },
   "source": [
    "# WSR - WHI Create indicator\n",
    "<a href=\"https://app.naas.ai/user-redirect/naas/downloader?url=https://raw.githubusercontent.com/jupyter-naas/awesome-notebooks/master/WSR/WHI_Create_indicator.ipynb\" target=\"_parent\"><img src=\"https://naasai-public.s3.eu-west-3.amazonaws.com/open_in_naas.svg\"/></a><br><br><a href=\"https://github.com/jupyter-naas/awesome-notebooks/issues/new?assignees=&labels=&template=template-request.md&title=Tool+-+Action+of+the+notebook+\">Template request</a> | <a href=\"https://github.com/jupyter-naas/awesome-notebooks/issues/new?assignees=&labels=bug&template=bug_report.md&title=WSR+-+WHI+Create+indicator:+Error+short+description\">Bug report</a>"
   ]
  },
  {
   "cell_type": "markdown",
   "id": "7ec146cb-0ed6-40ea-9568-b6a30a9a0edc",
   "metadata": {
    "papermill": {},
    "tags": []
   },
   "source": [
    "**Tags:** #wsr #whi #indicators #opendata #worldsituationroom #analytics #dataframe #image"
   ]
  },
  {
   "cell_type": "markdown",
   "id": "naas-author",
   "metadata": {
    "papermill": {},
    "tags": [
     "naas"
    ]
   },
   "source": [
    "**Author:** [Peter Turner](https://www.linkedin.com/in/peter-turner-0839aa116/)"
   ]
  },
  {
   "cell_type": "markdown",
   "id": "naas-description",
   "metadata": {
    "papermill": {},
    "tags": [
     "description"
    ]
   },
   "source": [
    "**Description:** This notebook creates an indicator to measure the performance of the WSR-WHI portfolio."
   ]
  },
  {
   "cell_type": "markdown",
   "id": "467e92cb-4bd3-4f71-87b1-8d16428b594a",
   "metadata": {
    "papermill": {},
    "tags": []
   },
   "source": [
    "## Input"
   ]
  },
  {
   "cell_type": "markdown",
   "id": "79f67e07-5ebb-437c-bccf-8a22c56811f7",
   "metadata": {
    "papermill": {},
    "tags": []
   },
   "source": [
    "### Import libraries"
   ]
  },
  {
   "cell_type": "code",
   "execution_count": null,
   "id": "fatty-tomato",
   "metadata": {
    "papermill": {},
    "tags": []
   },
   "outputs": [],
   "source": [
    "import pandas as pd\n",
    "from PIL import Image, ImageDraw, ImageFont\n",
    "from datetime import date"
   ]
  },
  {
   "cell_type": "markdown",
   "id": "44b8b495-b79b-486c-8775-00018b6aa206",
   "metadata": {
    "papermill": {},
    "tags": []
   },
   "source": [
    "### Variables"
   ]
  },
  {
   "cell_type": "code",
   "execution_count": null,
   "id": "9c442cb0-64af-4731-9e39-e768385514a5",
   "metadata": {
    "papermill": {},
    "tags": []
   },
   "outputs": [],
   "source": [
    "# Input extracted from your open source data\n",
    "data = [\n",
    "    {\n",
    "        \"DATE_PROCESSED\": \"2021-05-28\",\n",
    "        \"INDICATOR\": \"COVID-19 Active Cases\",\n",
    "        \"VALUE\": 0.21,\n",
    "        \"WEIGHT\": 4,\n",
    "    },\n",
    "    {\n",
    "        \"DATE_PROCESSED\": \"2021-05-28\",\n",
    "        \"INDICATOR\": \"Sea Level\",\n",
    "        \"VALUE\": 4.951165245651996,\n",
    "        \"WEIGHT\": 2,\n",
    "    },\n",
    "    {\n",
    "        \"DATE_PROCESSED\": \"2021-06-10\",\n",
    "        \"INDICATOR\": \"Delta global temperature\",\n",
    "        \"VALUE\": 4.9,\n",
    "        \"WEIGHT\": 4,\n",
    "    },\n",
    "    {\n",
    "        \"DATE_PROCESSED\": \"2021-06-10\",\n",
    "        \"INDICATOR\": \"Arctic Sea Ice level (million square km)\",\n",
    "        \"VALUE\": 4.9,\n",
    "        \"WEIGHT\": 2,\n",
    "    },\n",
    "]\n",
    "\n",
    "# Input image\n",
    "input_image = \"layout.png\"\n",
    "\n",
    "# Input font\n",
    "input_font = \"ArchivoBlack-Regular.ttf\"\n",
    "\n",
    "# Output image\n",
    "output_image = \"WHI.png\""
   ]
  },
  {
   "cell_type": "markdown",
   "id": "c9de0c21-b37c-4de9-8e95-9215e857d7e3",
   "metadata": {
    "papermill": {},
    "tags": []
   },
   "source": [
    "## Model"
   ]
  },
  {
   "cell_type": "markdown",
   "id": "f52db77a-d18c-4907-9f92-31082d82016c",
   "metadata": {
    "papermill": {},
    "tags": []
   },
   "source": [
    "### Get the name of the files present in output"
   ]
  },
  {
   "cell_type": "code",
   "execution_count": null,
   "id": "adverse-granny",
   "metadata": {
    "papermill": {},
    "tags": []
   },
   "outputs": [],
   "source": [
    "df = pd.DataFrame(data)\n",
    "df"
   ]
  },
  {
   "cell_type": "markdown",
   "id": "f579e263-27e0-4445-8df5-e6f7b48352ce",
   "metadata": {
    "papermill": {},
    "tags": []
   },
   "source": [
    "### Get weighted WHI"
   ]
  },
  {
   "cell_type": "code",
   "execution_count": null,
   "id": "b5fea7cf-ea86-4e1d-af08-ed4638958f6f",
   "metadata": {
    "papermill": {},
    "tags": []
   },
   "outputs": [],
   "source": [
    "def whi(df):\n",
    "    return round((df[\"VALUE\"] * df[\"WEIGHT\"]).sum() / df[\"WEIGHT\"].sum(), 2)\n",
    "\n",
    "\n",
    "whi(df)"
   ]
  },
  {
   "cell_type": "markdown",
   "id": "937f18b4-8851-46c8-afbd-066e0d0a870e",
   "metadata": {
    "papermill": {},
    "tags": []
   },
   "source": [
    "### Create output image"
   ]
  },
  {
   "cell_type": "code",
   "execution_count": null,
   "id": "suitable-watson",
   "metadata": {
    "papermill": {},
    "tags": []
   },
   "outputs": [],
   "source": [
    "def create_image(value, datetime):\n",
    "    img = Image.open(input_image)\n",
    "    d = ImageDraw.Draw(img)\n",
    "\n",
    "    font = ImageFont.truetype(input_font, 90)\n",
    "    fill = (255, 255, 255)\n",
    "\n",
    "    d.text(\n",
    "        (50, 900),\n",
    "        \"{indicator}/10, {date}\".format(\n",
    "            date=datetime.strftime(\"%d/%m/%Y\"), indicator=value\n",
    "        ),\n",
    "        font=font,\n",
    "        fill=fill,\n",
    "    )\n",
    "    return img"
   ]
  },
  {
   "cell_type": "markdown",
   "id": "competitive-canon",
   "metadata": {
    "papermill": {},
    "tags": []
   },
   "source": [
    "## Output"
   ]
  },
  {
   "cell_type": "markdown",
   "id": "0332ed90-ce38-4be0-8452-5f9651e5c2ec",
   "metadata": {
    "papermill": {},
    "tags": []
   },
   "source": [
    "### Display image"
   ]
  },
  {
   "cell_type": "code",
   "execution_count": null,
   "id": "federal-graph",
   "metadata": {
    "papermill": {},
    "tags": []
   },
   "outputs": [],
   "source": [
    "img = create_image(f\"{whi(df)}\", date.today())\n",
    "display(img)"
   ]
  },
  {
   "cell_type": "markdown",
   "id": "d066e183-dc32-4db0-9a08-e37603c372c4",
   "metadata": {
    "papermill": {},
    "tags": []
   },
   "source": [
    "### Save and share image"
   ]
  },
  {
   "cell_type": "code",
   "execution_count": null,
   "id": "0764528a-774e-426a-b1fd-68a9d81c7d7e",
   "metadata": {
    "papermill": {},
    "tags": []
   },
   "outputs": [],
   "source": [
    "img.save(output_image)\n",
    "\n",
    "naas.asset.add(output_image)\n",
    "\n",
    "# -> Uncomment the line below to remove your asset\n",
    "# naas.asset.delete(output_image)"
   ]
  }
 ],
 "metadata": {
  "kernelspec": {
   "display_name": "Python 3",
   "language": "python",
   "name": "python3"
  },
  "language_info": {
   "codemirror_mode": {
    "name": "ipython",
    "version": 3
   },
   "file_extension": ".py",
   "mimetype": "text/x-python",
   "name": "python",
   "nbconvert_exporter": "python",
   "pygments_lexer": "ipython3",
   "version": "3.9.6"
  },
  "naas": {
   "notebook_id": "2480aaa5-cdc9-4837-97df-d7291420fc33",
   "notebook_path": "WSR/WHI_Create_indicator.ipynb"
  },
  "papermill": {
   "default_parameters": {},
   "environment_variables": {},
   "parameters": {},
   "version": "2.3.3"
  }
 },
 "nbformat": 4,
 "nbformat_minor": 5
}