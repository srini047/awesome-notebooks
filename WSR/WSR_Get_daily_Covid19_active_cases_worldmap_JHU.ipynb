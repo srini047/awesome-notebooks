{
 "cells": [
  {
   "cell_type": "markdown",
   "id": "7f7761b9-ec41-4696-95e8-9a1cd8717087",
   "metadata": {
    "papermill": {},
    "tags": []
   },
   "source": [
    "<img width=\"10%\" alt=\"Naas\" src=\"https://landen.imgix.net/jtci2pxwjczr/assets/5ice39g4.png?w=160\"/>"
   ]
  },
  {
   "cell_type": "markdown",
   "id": "0aa34cd8-e74a-4268-93ae-2b946530cf11",
   "metadata": {
    "papermill": {},
    "tags": []
   },
   "source": [
    "# WSR - Get daily Covid19 active cases worldmap JHU\n",
    "<a href=\"https://app.naas.ai/user-redirect/naas/downloader?url=https://raw.githubusercontent.com/jupyter-naas/awesome-notebooks/master/WSR/WSR_Get_daily_Covid19_active_cases_worldmap_JHU.ipynb\" target=\"_parent\"><img src=\"https://naasai-public.s3.eu-west-3.amazonaws.com/Open_in_Naas_Lab.svg\"/></a><br><br><a href=\"https://github.com/jupyter-naas/awesome-notebooks/issues/new?assignees=&labels=&template=template-request.md&title=Tool+-+Action+of+the+notebook+\">Template request</a> | <a href=\"https://github.com/jupyter-naas/awesome-notebooks/issues/new?assignees=&labels=bug&template=bug_report.md&title=WSR+-+Get+daily+Covid19+active+cases+worldmap+JHU:+Error+short+description\">Bug report</a> | <a href=\"https://app.naas.ai/user-redirect/naas/downloader?url=https://raw.githubusercontent.com/jupyter-naas/awesome-notebooks/master/Naas/Naas_Start_data_product.ipynb\" target=\"_parent\">Generate Data Product</a>"
   ]
  },
  {
   "cell_type": "markdown",
   "id": "fee27b4d-9078-44b7-8e7f-29945f80aeaa",
   "metadata": {
    "papermill": {},
    "tags": []
   },
   "source": [
    "**Tags:** #wsr #covid #active-cases #analytics #plotly #automation #naas #opendata #image"
   ]
  },
  {
   "cell_type": "markdown",
   "id": "52bc33ca-8c07-43c1-8505-bccd87d6ddf5",
   "metadata": {
    "papermill": {},
    "tags": []
   },
   "source": [
    "**Author:** [Florent Ravenel](https://www.linkedin.com/in/ACoAABCNSioBW3YZHc2lBHVG0E_TXYWitQkmwog/)"
   ]
  },
  {
   "cell_type": "markdown",
   "id": "naas-description",
   "metadata": {
    "papermill": {},
    "tags": [
     "description"
    ]
   },
   "source": [
    "**Description:** This notebook provides a daily world map of active Covid-19 cases based on data from the Johns Hopkins University."
   ]
  },
  {
   "cell_type": "markdown",
   "id": "8736e5dc-a856-4b15-8be1-caf2c85ad70b",
   "metadata": {
    "papermill": {},
    "tags": []
   },
   "source": [
    "## Input"
   ]
  },
  {
   "cell_type": "markdown",
   "id": "c38f24ce-23bb-422b-8069-205f89b274f6",
   "metadata": {
    "papermill": {},
    "tags": []
   },
   "source": [
    "### Import libraries"
   ]
  },
  {
   "cell_type": "code",
   "execution_count": null,
   "id": "5a6f9854-1928-4e33-9103-ea3d3dab8b79",
   "metadata": {
    "papermill": {},
    "tags": []
   },
   "outputs": [],
   "source": [
    "import pandas as pd\n",
    "from datetime import datetime\n",
    "try:\n",
    "    from dataprep.clean import clean_country\n",
    "except:\n",
    "    !pip install dataprep --user\n",
    "    from dataprep.clean import clean_country\n",
    "import plotly.graph_objects as go\n",
    "import naas"
   ]
  },
  {
   "cell_type": "markdown",
   "id": "e56db954-20c6-4dee-b16b-4c08ef7b3384",
   "metadata": {
    "papermill": {},
    "tags": []
   },
   "source": [
    "### Setup chart title"
   ]
  },
  {
   "cell_type": "code",
   "execution_count": null,
   "id": "c775a998-48f3-4001-9d05-2071a871b77b",
   "metadata": {
    "papermill": {},
    "tags": []
   },
   "outputs": [],
   "source": [
    "title = \"COVID 19 - Active cases (in milions)\""
   ]
  },
  {
   "cell_type": "markdown",
   "id": "2d5895d2-7405-4fb7-9f1f-937636a6be25",
   "metadata": {
    "papermill": {},
    "tags": []
   },
   "source": [
    "### Variables"
   ]
  },
  {
   "cell_type": "code",
   "execution_count": null,
   "id": "7ea457bf-bab3-406e-9c74-145d5b774e2d",
   "metadata": {
    "papermill": {},
    "tags": []
   },
   "outputs": [],
   "source": [
    "# Input URLs of the raw csv dataset\n",
    "urls = [\n",
    "    \"https://raw.githubusercontent.com/CSSEGISandData/COVID-19/master/csse_covid_19_data/csse_covid_19_time_series/time_series_covid19_confirmed_global.csv\",\n",
    "    \"https://raw.githubusercontent.com/CSSEGISandData/COVID-19/master/csse_covid_19_data/csse_covid_19_time_series/time_series_covid19_deaths_global.csv\",\n",
    "    \"https://raw.githubusercontent.com/CSSEGISandData/COVID-19/master/csse_covid_19_data/csse_covid_19_time_series/time_series_covid19_recovered_global.csv\",\n",
    "]\n",
    "\n",
    "# Output paths\n",
    "output_image = f\"{title}.png\"\n",
    "output_html = f\"{title}.html\""
   ]
  },
  {
   "cell_type": "markdown",
   "id": "8bd44f1b-d1a9-48da-ae30-ffd2ece74981",
   "metadata": {
    "execution": {
     "iopub.execute_input": "2022-03-07T17:28:42.638758Z",
     "iopub.status.busy": "2022-03-07T17:28:42.638439Z",
     "iopub.status.idle": "2022-03-07T17:28:42.644596Z",
     "shell.execute_reply": "2022-03-07T17:28:42.644012Z",
     "shell.execute_reply.started": "2022-03-07T17:28:42.638723Z"
    },
    "papermill": {},
    "tags": []
   },
   "source": [
    "### Schedule your automation"
   ]
  },
  {
   "cell_type": "code",
   "execution_count": null,
   "id": "cbef0144-33f9-4bfc-8623-a6d785dc7ebd",
   "metadata": {
    "papermill": {},
    "tags": []
   },
   "outputs": [],
   "source": [
    "# Schedule your job everyday at 8:00 AM (NB: you can choose the time of your scheduling bot)\n",
    "naas.scheduler.add(cron=\"0 8 * * *\")\n",
    "\n",
    "# -> Uncomment the line below (by removing the hashtag) to remove your scheduler\n",
    "# naas.scheduler.delete()"
   ]
  },
  {
   "cell_type": "markdown",
   "id": "89d848e4-b60d-4ab2-a16e-627e83670e8a",
   "metadata": {
    "papermill": {},
    "tags": []
   },
   "source": [
    "## Model"
   ]
  },
  {
   "cell_type": "markdown",
   "id": "ef003330-884d-4ab6-bbf6-f49b5c939e51",
   "metadata": {
    "papermill": {},
    "tags": []
   },
   "source": [
    "### Get data from JHU"
   ]
  },
  {
   "cell_type": "code",
   "execution_count": null,
   "id": "1b99d903-6e41-4f8f-ad81-3dcae9122b50",
   "metadata": {
    "papermill": {},
    "tags": []
   },
   "outputs": [],
   "source": [
    "def get_data_url(urls):\n",
    "    df = pd.DataFrame()\n",
    "    for url in urls:\n",
    "        tmp_df = pd.read_csv(url)\n",
    "        tmp_df[\"Indicator\"] = (\n",
    "            url.split(\"/time_series_covid19_\")[-1].split(\"_global.csv\")[0].capitalize()\n",
    "        )\n",
    "        df = pd.concat([df, tmp_df])\n",
    "    return df\n",
    "\n",
    "\n",
    "df_init = get_data_url(urls)\n",
    "df_init"
   ]
  },
  {
   "cell_type": "markdown",
   "id": "a871a9ba-bb9a-44d9-b138-b80e71f02a59",
   "metadata": {
    "papermill": {},
    "tags": []
   },
   "source": [
    "### Get all data from JHU"
   ]
  },
  {
   "cell_type": "code",
   "execution_count": null,
   "id": "cb280fa4-2758-4ddb-b217-6cc233a3ed68",
   "metadata": {
    "papermill": {},
    "tags": []
   },
   "outputs": [],
   "source": [
    "def get_all_data(df_init):\n",
    "    df = df_init.copy()\n",
    "    # Cleaning\n",
    "    df = df.drop(\"Province/State\", axis=1)\n",
    "\n",
    "    # Melt data\n",
    "    df = pd.melt(\n",
    "        df,\n",
    "        id_vars=[\"Country/Region\", \"Lat\", \"Long\", \"Indicator\"],\n",
    "        var_name=\"Date\",\n",
    "        value_name=\"Value\",\n",
    "    ).fillna(0)\n",
    "    df[\"Date\"] = pd.to_datetime(df[\"Date\"])\n",
    "\n",
    "    # Calc active cases\n",
    "    df_active = df.copy()\n",
    "    df_active.loc[\n",
    "        df_active[\"Indicator\"].isin([\"Deaths\", \"Recovered\"]), \"Value\"\n",
    "    ] = df_active[\"Value\"] * (-1)\n",
    "    df_active[\"Indicator\"] = \"Active cases\"\n",
    "\n",
    "    # Concat data\n",
    "    df = pd.concat([df, df_active])\n",
    "\n",
    "    # Group by country/region\n",
    "    to_group = [\"Country/Region\", \"Lat\", \"Long\", \"Indicator\", \"Date\"]\n",
    "    df = df.groupby(to_group, as_index=False).agg({\"Value\": \"sum\"})\n",
    "\n",
    "    # Cleaning\n",
    "    df = df.rename(columns={\"Country/Region\": \"COUNTRY\"})\n",
    "    df.columns = df.columns.str.upper()\n",
    "    return df.reset_index(drop=True)\n",
    "\n",
    "\n",
    "df_clean = get_all_data(df_init)\n",
    "df_clean"
   ]
  },
  {
   "cell_type": "markdown",
   "id": "671d872e-3b90-47d3-bb4b-262c316377c5",
   "metadata": {
    "papermill": {},
    "tags": []
   },
   "source": [
    "### Prep data for worldmap"
   ]
  },
  {
   "cell_type": "code",
   "execution_count": null,
   "id": "0689e301-1bec-4bc2-a0b1-a152cf991a8f",
   "metadata": {
    "papermill": {},
    "tags": []
   },
   "outputs": [],
   "source": [
    "def prep_data(df_init):\n",
    "    df = df_init.copy()\n",
    "    # Filter\n",
    "    date_max = df[\"DATE\"].max()\n",
    "    df = df[(df[\"INDICATOR\"] == \"Active cases\") & (df[\"DATE\"] == date_max)].reset_index(\n",
    "        drop=True\n",
    "    )\n",
    "\n",
    "    # Clean country\n",
    "    df = clean_country(df, \"COUNTRY\", output_format=\"alpha-3\").dropna()\n",
    "    df = df.rename(columns={\"COUNTRY_clean\": \"COUNTRY_ISO\"})\n",
    "    return df.reset_index(drop=True)\n",
    "\n",
    "\n",
    "df_worldmap = prep_data(df_clean)\n",
    "df_worldmap"
   ]
  },
  {
   "cell_type": "markdown",
   "id": "d2cb281d-0ed1-4230-a47e-4bc194c57d59",
   "metadata": {
    "papermill": {},
    "tags": []
   },
   "source": [
    "### Create worldmap"
   ]
  },
  {
   "cell_type": "code",
   "execution_count": null,
   "id": "37cb318c-d760-48dd-9667-dff0ae00c5db",
   "metadata": {
    "papermill": {},
    "tags": []
   },
   "outputs": [],
   "source": [
    "def create_worldmap(df):\n",
    "    fig = go.Figure()\n",
    "\n",
    "    fig = go.Figure(\n",
    "        data=go.Choropleth(\n",
    "            locations=df[\"COUNTRY_ISO\"],\n",
    "            z=df[\"VALUE\"],\n",
    "            text=df[\"COUNTRY\"]\n",
    "            + \": \"\n",
    "            + df[\"VALUE\"].map(\"{:,.0f}\".format).str.replace(\",\", \" \")\n",
    "            + \" active cases\",\n",
    "            hoverinfo=\"text\",\n",
    "            colorscale=\"Blues\",\n",
    "            autocolorscale=False,\n",
    "            reversescale=False,\n",
    "            marker_line_color=\"darkgray\",\n",
    "            marker_line_width=0.5,\n",
    "            colorbar_tickprefix=\"\",\n",
    "            colorbar_title=\"Active cases\",\n",
    "        )\n",
    "    )\n",
    "\n",
    "    fig.update_layout(\n",
    "        title=title,\n",
    "        plot_bgcolor=\"#ffffff\",\n",
    "        legend_x=1,\n",
    "        geo=dict(\n",
    "            showframe=False,\n",
    "            showcoastlines=False,\n",
    "            # projection_type='equirectangular'\n",
    "        ),\n",
    "        dragmode=False,\n",
    "        width=1200,\n",
    "        height=800,\n",
    "    )\n",
    "    config = {\"displayModeBar\": False}\n",
    "    fig.show(config=config)\n",
    "    return fig\n",
    "\n",
    "\n",
    "fig = create_worldmap(df_worldmap)"
   ]
  },
  {
   "cell_type": "markdown",
   "id": "974df13c-9781-45f1-9b1e-7c9a4faa0f02",
   "metadata": {
    "papermill": {},
    "tags": []
   },
   "source": [
    "## Output"
   ]
  },
  {
   "cell_type": "markdown",
   "id": "2e48fdf3-dc6d-4023-84b8-7e801880a630",
   "metadata": {
    "papermill": {},
    "tags": []
   },
   "source": [
    "### Export in PNG and HTML"
   ]
  },
  {
   "cell_type": "code",
   "execution_count": null,
   "id": "0f4423e1-59cf-4355-a52f-ebd521914536",
   "metadata": {
    "papermill": {},
    "tags": []
   },
   "outputs": [],
   "source": [
    "fig.write_image(output_image, width=1200)\n",
    "fig.write_html(output_html)"
   ]
  },
  {
   "cell_type": "markdown",
   "id": "8830b53f-d41e-43fb-9139-d4cd0c77fcc9",
   "metadata": {
    "papermill": {},
    "tags": []
   },
   "source": [
    "### Generate shareable assets"
   ]
  },
  {
   "cell_type": "code",
   "execution_count": null,
   "id": "b7f0a907-abf1-48f5-9ed5-6cf77912c76c",
   "metadata": {
    "papermill": {},
    "tags": []
   },
   "outputs": [],
   "source": [
    "link_image = naas.asset.add(output_image)\n",
    "link_html = naas.asset.add(output_html, {\"inline\": True})\n",
    "\n",
    "# -> Uncomment the line below to remove your assets\n",
    "# naas.asset.delete(output_image)\n",
    "# naas.asset.delete(output_html)"
   ]
  }
 ],
 "metadata": {
  "kernelspec": {
   "display_name": "Python 3",
   "language": "python",
   "name": "python3"
  },
  "language_info": {
   "codemirror_mode": {
    "name": "ipython",
    "version": 3
   },
   "file_extension": ".py",
   "mimetype": "text/x-python",
   "name": "python",
   "nbconvert_exporter": "python",
   "pygments_lexer": "ipython3",
   "version": "3.8.8"
  },
  "naas": {
   "notebook_id": "aab90eca5a5dad874fdf39c39fe60d29d579c385566f7156bea44d68c7d6f84b",
   "notebook_path": "WSR/WSR_Get_daily_Covid19_active_cases_worldmap_JHU.ipynb"
  },
  "papermill": {
   "default_parameters": {},
   "environment_variables": {},
   "parameters": {},
   "version": "2.3.3"
  }
 },
 "nbformat": 4,
 "nbformat_minor": 5
}