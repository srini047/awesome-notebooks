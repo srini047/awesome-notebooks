{
 "cells": [
  {
   "cell_type": "markdown",
   "id": "7f7761b9-ec41-4696-95e8-9a1cd8717087",
   "metadata": {
    "papermill": {},
    "tags": []
   },
   "source": [
    "<img width=\"10%\" alt=\"Naas\" src=\"https://landen.imgix.net/jtci2pxwjczr/assets/5ice39g4.png?w=160\"/>"
   ]
  },
  {
   "cell_type": "markdown",
   "id": "0aa34cd8-e74a-4268-93ae-2b946530cf11",
   "metadata": {
    "papermill": {},
    "tags": []
   },
   "source": [
    "# WSR - Get daily Covid19 active cases trend JHU\n",
    "<a href=\"https://app.naas.ai/user-redirect/naas/downloader?url=https://raw.githubusercontent.com/jupyter-naas/awesome-notebooks/master/WSR/WSR_Get_daily_Covid19_active_cases_trend_JHU.ipynb\" target=\"_parent\"><img src=\"https://naasai-public.s3.eu-west-3.amazonaws.com/Open_in_Naas_Lab.svg\"/></a><br><br><a href=\"https://github.com/jupyter-naas/awesome-notebooks/issues/new?assignees=&labels=&template=template-request.md&title=Tool+-+Action+of+the+notebook+\">Template request</a> | <a href=\"https://github.com/jupyter-naas/awesome-notebooks/issues/new?assignees=&labels=bug&template=bug_report.md&title=WSR+-+Get+daily+Covid19+active+cases+trend+JHU:+Error+short+description\">Bug report</a> | <a href=\"https://app.naas.ai/user-redirect/naas/downloader?url=https://raw.githubusercontent.com/jupyter-naas/awesome-notebooks/master/Naas/Naas_Start_data_product.ipynb\" target=\"_parent\">Generate Data Product</a>"
   ]
  },
  {
   "cell_type": "markdown",
   "id": "fee27b4d-9078-44b7-8e7f-29945f80aeaa",
   "metadata": {
    "papermill": {},
    "tags": []
   },
   "source": [
    "**Tags:** #wsr #covid #active-cases #plotly #opendata #snippet"
   ]
  },
  {
   "cell_type": "markdown",
   "id": "52bc33ca-8c07-43c1-8505-bccd87d6ddf5",
   "metadata": {
    "papermill": {},
    "tags": []
   },
   "source": [
    "**Author:** [Florent Ravenel](https://www.linkedin.com/in/ACoAABCNSioBW3YZHc2lBHVG0E_TXYWitQkmwog/)"
   ]
  },
  {
   "cell_type": "markdown",
   "id": "naas-description",
   "metadata": {
    "papermill": {},
    "tags": [
     "description"
    ]
   },
   "source": [
    "**Description:** This notebook provides a daily trend of Covid19 active cases from the Johns Hopkins University (JHU) dataset."
   ]
  },
  {
   "cell_type": "markdown",
   "id": "8736e5dc-a856-4b15-8be1-caf2c85ad70b",
   "metadata": {
    "papermill": {},
    "tags": []
   },
   "source": [
    "## Input"
   ]
  },
  {
   "cell_type": "markdown",
   "id": "c38f24ce-23bb-422b-8069-205f89b274f6",
   "metadata": {
    "papermill": {},
    "tags": []
   },
   "source": [
    "### Import libraries"
   ]
  },
  {
   "cell_type": "code",
   "execution_count": null,
   "id": "5a6f9854-1928-4e33-9103-ea3d3dab8b79",
   "metadata": {
    "papermill": {},
    "tags": []
   },
   "outputs": [],
   "source": [
    "import pandas as pd\n",
    "from datetime import datetime\n",
    "import plotly.graph_objects as go\n",
    "import naas"
   ]
  },
  {
   "cell_type": "markdown",
   "id": "2d5895d2-7405-4fb7-9f1f-937636a6be25",
   "metadata": {
    "papermill": {},
    "tags": []
   },
   "source": [
    "### Variables"
   ]
  },
  {
   "cell_type": "code",
   "execution_count": null,
   "id": "7ea457bf-bab3-406e-9c74-145d5b774e2d",
   "metadata": {
    "papermill": {},
    "tags": []
   },
   "outputs": [],
   "source": [
    "# Input URLs of the raw csv dataset\n",
    "urls = [\n",
    "    \"https://raw.githubusercontent.com/CSSEGISandData/COVID-19/master/csse_covid_19_data/csse_covid_19_time_series/time_series_covid19_confirmed_global.csv\",\n",
    "    \"https://raw.githubusercontent.com/CSSEGISandData/COVID-19/master/csse_covid_19_data/csse_covid_19_time_series/time_series_covid19_deaths_global.csv\",\n",
    "    \"https://raw.githubusercontent.com/CSSEGISandData/COVID-19/master/csse_covid_19_data/csse_covid_19_time_series/time_series_covid19_recovered_global.csv\",\n",
    "]\n",
    "\n",
    "# Outputs\n",
    "uid = \"WSR_00002\"\n",
    "name_output = \"Covid19_Activecases_trend\"\n",
    "csv_output = f\"{name_output}.csv\"\n",
    "html_output = f\"{name_output}.html\"\n",
    "image_output = f\"{name_output}.png\"\n",
    "title = \"COVID 19 - Active cases (in milions)\""
   ]
  },
  {
   "cell_type": "markdown",
   "id": "89d848e4-b60d-4ab2-a16e-627e83670e8a",
   "metadata": {
    "papermill": {},
    "tags": []
   },
   "source": [
    "## Model"
   ]
  },
  {
   "cell_type": "markdown",
   "id": "ef003330-884d-4ab6-bbf6-f49b5c939e51",
   "metadata": {
    "papermill": {},
    "tags": []
   },
   "source": [
    "### Get data from JHU"
   ]
  },
  {
   "cell_type": "code",
   "execution_count": null,
   "id": "1b99d903-6e41-4f8f-ad81-3dcae9122b50",
   "metadata": {
    "papermill": {},
    "tags": []
   },
   "outputs": [],
   "source": [
    "def get_data_url(urls):\n",
    "    df = pd.DataFrame()\n",
    "    for url in urls:\n",
    "        tmp_df = pd.read_csv(url)\n",
    "        tmp_df[\"Indicator\"] = (\n",
    "            url.split(\"/time_series_covid19_\")[-1].split(\"_global.csv\")[0].capitalize()\n",
    "        )\n",
    "        df = pd.concat([df, tmp_df])\n",
    "    return df\n",
    "\n",
    "\n",
    "df_init = get_data_url(urls)\n",
    "df_init"
   ]
  },
  {
   "cell_type": "markdown",
   "id": "a871a9ba-bb9a-44d9-b138-b80e71f02a59",
   "metadata": {
    "papermill": {},
    "tags": []
   },
   "source": [
    "### Get all data from JHU"
   ]
  },
  {
   "cell_type": "code",
   "execution_count": null,
   "id": "cb280fa4-2758-4ddb-b217-6cc233a3ed68",
   "metadata": {
    "papermill": {},
    "tags": []
   },
   "outputs": [],
   "source": [
    "def get_all_data(df_init):\n",
    "    df = df_init.copy()\n",
    "    # Cleaning\n",
    "    df = df.drop(\"Province/State\", axis=1)\n",
    "\n",
    "    # Melt data\n",
    "    df = pd.melt(\n",
    "        df,\n",
    "        id_vars=[\"Country/Region\", \"Lat\", \"Long\", \"Indicator\"],\n",
    "        var_name=\"Date\",\n",
    "        value_name=\"Value\",\n",
    "    ).fillna(0)\n",
    "    df[\"Date\"] = pd.to_datetime(df[\"Date\"])\n",
    "\n",
    "    # Calc active cases\n",
    "    df_active = df.copy()\n",
    "    df_active.loc[\n",
    "        df_active[\"Indicator\"].isin([\"Deaths\", \"Recovered\"]), \"Value\"\n",
    "    ] = df_active[\"Value\"] * (-1)\n",
    "    df_active[\"Indicator\"] = \"Active cases\"\n",
    "\n",
    "    # Concat data\n",
    "    df = pd.concat([df, df_active])\n",
    "\n",
    "    # Group by country/region\n",
    "    to_group = [\"Country/Region\", \"Lat\", \"Long\", \"Indicator\", \"Date\"]\n",
    "    df = df.groupby(to_group, as_index=False).agg({\"Value\": \"sum\"})\n",
    "\n",
    "    # Cleaning\n",
    "    df = df.rename(columns={\"Country/Region\": \"COUNTRY\"})\n",
    "    df.columns = df.columns.str.upper()\n",
    "    return df.reset_index(drop=True)\n",
    "\n",
    "\n",
    "df_clean = get_all_data(df_init)\n",
    "df_clean"
   ]
  },
  {
   "cell_type": "markdown",
   "id": "2aa8f07b-9870-4ed4-8665-16904a2550df",
   "metadata": {
    "papermill": {},
    "tags": []
   },
   "source": [
    "### Get trend"
   ]
  },
  {
   "cell_type": "code",
   "execution_count": null,
   "id": "235cb2fa-dfb2-467a-95e8-8fb9e11c8c39",
   "metadata": {
    "papermill": {},
    "tags": []
   },
   "outputs": [],
   "source": [
    "def get_trend(df_init):\n",
    "    df = df_init.copy()\n",
    "    # Filter\n",
    "    df = df[(df[\"INDICATOR\"] == \"Active cases\")]\n",
    "\n",
    "    # Groupby date\n",
    "    df = df.groupby([\"DATE\"], as_index=False).agg({\"VALUE\": \"sum\"})\n",
    "\n",
    "    # Calc variation\n",
    "    for idx, row in df.iterrows():\n",
    "        if idx == 0:\n",
    "            value_n1 = 0\n",
    "        else:\n",
    "            value_n1 = df.loc[df.index[idx - 1], \"VALUE\"]\n",
    "        df.loc[df.index[idx], \"VALUE_COMP\"] = value_n1\n",
    "    df[\"VARV\"] = df[\"VALUE\"] - df[\"VALUE_COMP\"]\n",
    "    df[\"VARP\"] = df[\"VARV\"] / abs(df[\"VALUE_COMP\"])\n",
    "\n",
    "    # Calc variation\n",
    "    for idx, row in df.iterrows():\n",
    "        if idx == 0:\n",
    "            value_n1 = 0\n",
    "        else:\n",
    "            value_n1 = df.loc[df.index[idx - 1], \"VARP\"]\n",
    "        df.loc[df.index[idx], \"VARP_COMP\"] = value_n1\n",
    "    df[\"VARP_VAR\"] = df[\"VARP\"] - df[\"VARP_COMP\"]\n",
    "\n",
    "    # Prep data\n",
    "    df[\"VALUE_D\"] = df[\"VALUE\"].map(\"{:,.0f}\".format).str.replace(\",\", \" \")\n",
    "    df[\"VARV_D\"] = df[\"VARV\"].map(\"{:,.0f}\".format).str.replace(\",\", \" \")\n",
    "    df.loc[df[\"VARV\"] > 0, \"VARV_D\"] = \"+\" + df[\"VARV_D\"]\n",
    "    df[\"VARP_D\"] = df[\"VARP\"].map(\"{:,.2%}\".format).str.replace(\",\", \" \")\n",
    "    df.loc[df[\"VARP\"] > 0, \"VARP_D\"] = \"+\" + df[\"VARP_D\"]\n",
    "\n",
    "    df[\"TEXT\"] = (\n",
    "        df[\"VALUE_D\"]\n",
    "        + \" active cases as of \"\n",
    "        + df[\"DATE\"].dt.strftime(\"%Y-%m-%d\")\n",
    "        + \"<br>\"\n",
    "        \" (\" + df[\"VARP_D\"] + \" vs yesterday)\"\n",
    "    )\n",
    "    return df\n",
    "\n",
    "\n",
    "df_trend = get_trend(df_clean)\n",
    "df_trend.tail(30)"
   ]
  },
  {
   "cell_type": "markdown",
   "id": "d2cb281d-0ed1-4230-a47e-4bc194c57d59",
   "metadata": {
    "papermill": {},
    "tags": []
   },
   "source": [
    "### Create linechart"
   ]
  },
  {
   "cell_type": "code",
   "execution_count": null,
   "id": "1a421d8d-aac4-4fdd-b425-2650ea3f1de7",
   "metadata": {
    "papermill": {},
    "tags": []
   },
   "outputs": [],
   "source": [
    "def create_linechart(df, label, value, text):\n",
    "    # Init\n",
    "    fig = go.Figure()\n",
    "\n",
    "    # Create fig\n",
    "    fig.add_trace(\n",
    "        go.Scatter(\n",
    "            x=df[label],\n",
    "            y=df[value],\n",
    "            text=df[text],\n",
    "            hoverinfo=\"text\",\n",
    "            mode=\"lines\",\n",
    "            line=dict(color=\"black\"),\n",
    "        )\n",
    "    )\n",
    "    fig.update_traces(marker_color=\"black\")\n",
    "    fig.update_layout(\n",
    "        title=title,\n",
    "        title_font=dict(family=\"Arial\", size=18, color=\"black\"),\n",
    "        plot_bgcolor=\"#ffffff\",\n",
    "        width=1200,\n",
    "        height=800,\n",
    "        paper_bgcolor=\"white\",\n",
    "        xaxis_title=\"Date\",\n",
    "        xaxis_title_font=dict(family=\"Arial\", size=11, color=\"black\"),\n",
    "        yaxis_title=\"No. of active cases\",\n",
    "        yaxis_title_font=dict(family=\"Arial\", size=11, color=\"black\"),\n",
    "        margin_pad=10,\n",
    "    )\n",
    "    fig.show()\n",
    "    return fig\n",
    "\n",
    "\n",
    "fig = create_linechart(df_trend, \"DATE\", \"VALUE\", \"TEXT\")"
   ]
  },
  {
   "cell_type": "markdown",
   "id": "974df13c-9781-45f1-9b1e-7c9a4faa0f02",
   "metadata": {
    "papermill": {},
    "tags": []
   },
   "source": [
    "## Output"
   ]
  },
  {
   "cell_type": "markdown",
   "id": "83fabb6a-36a4-4f2c-ba97-93f660ad21cc",
   "metadata": {
    "papermill": {},
    "tags": []
   },
   "source": [
    "### Save and share csv with naas"
   ]
  },
  {
   "cell_type": "code",
   "execution_count": null,
   "id": "d080bbb0-e193-4b1e-b677-e958d8d07b78",
   "metadata": {
    "papermill": {},
    "tags": []
   },
   "outputs": [],
   "source": [
    "# Save your dataframe in CSV\n",
    "df.to_csv(csv_output, index=False)\n",
    "\n",
    "# Share output with naas\n",
    "naas.asset.add(csv_output)\n",
    "\n",
    "# -> Uncomment the line below to remove your asset\n",
    "# naas.asset.delete(csv_output)"
   ]
  },
  {
   "cell_type": "markdown",
   "id": "797925d0-37d0-412b-baed-6b51a809d9e9",
   "metadata": {
    "papermill": {},
    "tags": []
   },
   "source": [
    "### Save and share image with naas"
   ]
  },
  {
   "cell_type": "code",
   "execution_count": null,
   "id": "223a06bb-21b3-4b05-8321-58006322cae1",
   "metadata": {
    "papermill": {},
    "tags": []
   },
   "outputs": [],
   "source": [
    "# Save your graph in PNG\n",
    "fig.write_image(image_output)\n",
    "\n",
    "# Share output with naas\n",
    "naas.asset.add(image_output, params={\"inline\": True})\n",
    "\n",
    "# -> Uncomment the line below to remove your asset\n",
    "# naas.asset.delete(image_output)"
   ]
  },
  {
   "cell_type": "markdown",
   "id": "9f410a74-eb71-499c-9880-2f0ac73ef662",
   "metadata": {
    "papermill": {},
    "tags": []
   },
   "source": [
    "### Save and share html with naas"
   ]
  },
  {
   "cell_type": "code",
   "execution_count": null,
   "id": "12cbecf2-e337-4598-8ae4-3d159d4e81e0",
   "metadata": {
    "papermill": {},
    "tags": []
   },
   "outputs": [],
   "source": [
    "# Save your graph in HTML\n",
    "fig.write_html(html_output)\n",
    "\n",
    "# Share output with naas\n",
    "naas.asset.add(html_output, params={\"inline\": True})\n",
    "\n",
    "# -> Uncomment the line below to remove your asset\n",
    "# naas.asset.delete(html_output)"
   ]
  }
 ],
 "metadata": {
  "kernelspec": {
   "display_name": "Python 3",
   "language": "python",
   "name": "python3"
  },
  "language_info": {
   "codemirror_mode": {
    "name": "ipython",
    "version": 3
   },
   "file_extension": ".py",
   "mimetype": "text/x-python",
   "name": "python",
   "nbconvert_exporter": "python",
   "pygments_lexer": "ipython3",
   "version": "3.9.6"
  },
  "naas": {
   "notebook_id": "cc4d4bf571af50f16896b07354de0083ff3fb16b3b12963460441fda9ea72ffe",
   "notebook_path": "WSR/WSR_Get_daily_Covid19_active_cases_trend_JHU.ipynb"
  },
  "papermill": {
   "default_parameters": {},
   "environment_variables": {},
   "parameters": {},
   "version": "2.3.3"
  }
 },
 "nbformat": 4,
 "nbformat_minor": 5
}