{
 "cells": [
  {
   "cell_type": "markdown",
   "id": "bedfa998",
   "metadata": {
    "id": "G8G4XdnudkS6",
    "papermill": {},
    "tags": []
   },
   "source": [
    "<img width=\"10%\" alt=\"Naas\" src=\"https://landen.imgix.net/jtci2pxwjczr/assets/5ice39g4.png?w=160\"/>"
   ]
  },
  {
   "cell_type": "markdown",
   "id": "dfa971dd",
   "metadata": {
    "id": "cziuXC9hduys",
    "papermill": {},
    "tags": []
   },
   "source": [
    "# Hugging Face - Question Answering from PDF\n",
    "<a href=\"https://app.naas.ai/user-redirect/naas/downloader?url=https://raw.githubusercontent.com/jupyter-naas/awesome-notebooks/master/Hugging%20Face/Hugging_Face_Question_Answering_from_PDF.ipynb\" target=\"_parent\"><img src=\"https://naasai-public.s3.eu-west-3.amazonaws.com/Open_in_Naas_Lab.svg\"/></a><br><br><a href=\"https://github.com/jupyter-naas/awesome-notebooks/issues/new?assignees=&labels=&template=template-request.md&title=Tool+-+Action+of+the+notebook+\">Template request</a> | <a href=\"https://github.com/jupyter-naas/awesome-notebooks/issues/new?assignees=&labels=bug&template=bug_report.md&title=Hugging+Face+-+Question+Answering+from+PDF:+Error+short+description\">Bug report</a> | <a href=\"https://app.naas.ai/user-redirect/naas/downloader?url=https://raw.githubusercontent.com/jupyter-naas/awesome-notebooks/master/Naas/Naas_Start_data_product.ipynb\" target=\"_parent\">Generate Data Product</a>"
   ]
  },
  {
   "cell_type": "markdown",
   "id": "9776f972",
   "metadata": {
    "id": "CLPRc-MJd982",
    "papermill": {},
    "tags": []
   },
   "source": [
    "**Tags:** #huggingface #ml #question_answer #ai #text"
   ]
  },
  {
   "cell_type": "markdown",
   "id": "36ddb4e8",
   "metadata": {
    "id": "9TxAcynceEXm",
    "papermill": {},
    "tags": []
   },
   "source": [
    "**Author:** [Muhammad Talha Khan](https://www.linkedin.com/in/muhtalhakhan/)"
   ]
  },
  {
   "cell_type": "markdown",
   "id": "naas-description",
   "metadata": {
    "papermill": {},
    "tags": [
     "description"
    ]
   },
   "source": [
    "**Description:** This notebook provides a way to answer questions from PDF documents using Hugging Face's natural language processing capabilities."
   ]
  },
  {
   "cell_type": "markdown",
   "id": "df7f0816",
   "metadata": {
    "id": "I5qfxShzjrJK",
    "papermill": {},
    "tags": []
   },
   "source": [
    "## Input"
   ]
  },
  {
   "cell_type": "markdown",
   "id": "e4b53a36",
   "metadata": {
    "execution": {
     "iopub.execute_input": "2022-11-02T22:06:30.070094Z",
     "iopub.status.busy": "2022-11-02T22:06:30.069794Z",
     "iopub.status.idle": "2022-11-02T22:06:30.072975Z",
     "shell.execute_reply": "2022-11-02T22:06:30.072331Z",
     "shell.execute_reply.started": "2022-11-02T22:06:30.070062Z"
    },
    "papermill": {},
    "tags": []
   },
   "source": [
    "### Install Packages"
   ]
  },
  {
   "cell_type": "code",
   "execution_count": 16,
   "id": "72d1eac5",
   "metadata": {
    "colab": {
     "base_uri": "https://localhost:8080/"
    },
    "id": "hWQbKgcncvLE",
    "outputId": "218bfc13-27fd-4331-b3c3-304c7986a0b1",
    "papermill": {},
    "tags": []
   },
   "outputs": [],
   "source": [
    "!pip install tensorflow"
   ]
  },
  {
   "cell_type": "code",
   "execution_count": 2,
   "id": "1ea37c89",
   "metadata": {
    "colab": {
     "base_uri": "https://localhost:8080/"
    },
    "id": "EuixEtFCjg4N",
    "outputId": "44f505a4-29cb-4d5d-ede2-ce62d8ac9796",
    "papermill": {},
    "tags": []
   },
   "outputs": [],
   "source": [
    "!pip install -q transformers"
   ]
  },
  {
   "cell_type": "markdown",
   "id": "bbc4c01a",
   "metadata": {
    "papermill": {},
    "tags": []
   },
   "source": [
    "Use \"--user\" if it asks for permission prompt."
   ]
  },
  {
   "cell_type": "code",
   "execution_count": 3,
   "id": "7e514057",
   "metadata": {
    "papermill": {},
    "tags": []
   },
   "outputs": [],
   "source": [
    "!pip install PyPDF2"
   ]
  },
  {
   "cell_type": "code",
   "execution_count": 4,
   "id": "c5ea0590",
   "metadata": {
    "papermill": {},
    "tags": []
   },
   "outputs": [],
   "source": [
    "!pip install urllib3"
   ]
  },
  {
   "cell_type": "markdown",
   "id": "e3f7133c",
   "metadata": {
    "id": "qGxt0Sy1lQlL",
    "papermill": {},
    "tags": []
   },
   "source": [
    "### Import Libraries\n"
   ]
  },
  {
   "cell_type": "code",
   "execution_count": 5,
   "id": "99f89fd4",
   "metadata": {
    "papermill": {},
    "tags": []
   },
   "outputs": [],
   "source": [
    "from transformers import pipeline\n",
    "import urllib.request\n",
    "import PyPDF2\n",
    "import io"
   ]
  },
  {
   "cell_type": "markdown",
   "id": "63d3834b",
   "metadata": {
    "papermill": {},
    "tags": []
   },
   "source": [
    "### Add the Document Path"
   ]
  },
  {
   "cell_type": "code",
   "execution_count": 6,
   "id": "5d02938f",
   "metadata": {
    "papermill": {},
    "tags": []
   },
   "outputs": [],
   "source": [
    "URL = \"https://bitcoin.org/bitcoin.pdf\"\n",
    "req = urllib.request.Request(URL, headers={\"User-Agent\": \"Chrome\"})\n",
    "remote_file = urllib.request.urlopen(req).read()\n",
    "remote_file_bytes = io.BytesIO(remote_file)\n",
    "pdfdoc_remote = PyPDF2.PdfFileReader(remote_file_bytes)"
   ]
  },
  {
   "cell_type": "markdown",
   "id": "c722046c",
   "metadata": {
    "papermill": {},
    "tags": []
   },
   "source": [
    "You can change the URL path to the desired one relating to any of the PDF."
   ]
  },
  {
   "cell_type": "markdown",
   "id": "ec280229",
   "metadata": {
    "papermill": {},
    "tags": []
   },
   "source": [
    "## Model"
   ]
  },
  {
   "cell_type": "markdown",
   "id": "38e868fc",
   "metadata": {
    "papermill": {},
    "tags": []
   },
   "source": [
    "### Read Text from File"
   ]
  },
  {
   "cell_type": "code",
   "execution_count": 7,
   "id": "37c02550",
   "metadata": {
    "papermill": {},
    "tags": []
   },
   "outputs": [],
   "source": [
    "pdf_text = \"\"\n",
    "\n",
    "for i in range(pdfdoc_remote.getNumPages()):\n",
    "    print(i)\n",
    "    page = pdfdoc_remote.getPage(i)\n",
    "    page_content = page.extractText()\n",
    "    pdf_text += page_content"
   ]
  },
  {
   "cell_type": "markdown",
   "id": "59d1c654",
   "metadata": {
    "papermill": {},
    "tags": []
   },
   "source": [
    "### Generate the text data from the pdf file "
   ]
  },
  {
   "cell_type": "code",
   "execution_count": 8,
   "id": "d2dc6752",
   "metadata": {
    "papermill": {},
    "tags": []
   },
   "outputs": [],
   "source": [
    "print(pdf_text)"
   ]
  },
  {
   "cell_type": "markdown",
   "id": "e517aa25",
   "metadata": {
    "papermill": {},
    "tags": []
   },
   "source": [
    "### Loading the pipeline\n",
    "Import Pipeline from Transformer after installing the transformers and tensorflow."
   ]
  },
  {
   "cell_type": "code",
   "execution_count": 9,
   "id": "06c48acd",
   "metadata": {
    "colab": {
     "base_uri": "https://localhost:8080/",
     "height": 209,
     "referenced_widgets": [
      "02846d328fc64470a7ef51f7356fffe7",
      "206ec1e1751a4b1e823625a41a16f198",
      "7daeaf7a72e049f5a83115281dff722c",
      "1e41eb994e6043fd9d9f71056aa919fd",
      "f2d878498481419982cfbed6998badc7",
      "78ae7daee32742fdbea799d1ecee725b",
      "8313171613564f49a51a7c4ddd1c54be",
      "70d27bf4885946f1bac900aa2ed3acbf",
      "128c82f0610b4d35ab58c19c7ecad285",
      "cd92f70cae464dbd904b95e226e009d8",
      "610195e2abb24f4e918548542f162994",
      "10b1223b0b2048178604837fca8fe019",
      "370f8be3eee94ba7a46aecb68c88ac0b",
      "39c387561f434a8ca5d1ed0a75e35555",
      "389ad910daf14e7880d4358f99050188",
      "5e1928ec730e46e29001098852869319",
      "28488283d9d442ceb9f6e6a0081bba08",
      "85c5c24bfc6f4995a5153d82b3a08813",
      "02df147b9de3493aa13d75bbb821b993",
      "1355b4ec48984de6a5d36f270a56ffd3",
      "e00274fcfea746f1b36ab2a9df66a2f9",
      "0461f63c22a14468ad634137893cad45",
      "b2f9b334892343bba1c7bfe5e7a48de8",
      "235a946a49ae4075964010b86c464c73",
      "b43ec80677a64fa4b01a61174883312e",
      "ecf79c84a2d3472387910d157c049e90",
      "d3996a83e1ad44d195e102bf7000c0fc",
      "51d93806f3074ba18fd486e8008fdd44",
      "349bc7e86a7c4461ab13db063e8cb75d",
      "626356298e8648c8876c509af33e4b36",
      "5122530a03a94f71a0ba83db763a138b",
      "e5a1a2f6d5f64adc97436ecb713a6319",
      "86893849c8d84dada247ed4d40b8cd98",
      "61c9de49aa564f09bbe6ee2f4fcd607d",
      "72fb8550c3b143b9886a5c1a14708b8d",
      "7a11d0ddb5724447b140136c75794aec",
      "6d56ab522b8a41b89efdeb5a50c5f45e",
      "b862356a497744b8bbf6cf601425268d",
      "f964f9a07ae742988128ce6dddb9a005",
      "cadebe7a16b94b5384382a2da6433a9d",
      "f72533a3d8094979a62e8df311d4a71d",
      "12c1a0c764d7427e8fbc89c61f61af62",
      "4b4fb5cc07ab4770a9b44e5d42cecc9b",
      "47cd1e65edf6420dac974dd1373782ca",
      "4db03df182684c28ae253e789dbb69fb",
      "f39fb158684945c5868669ffb48b6ee8",
      "d233bc1ff6d94886acc73d822e78e32f",
      "9ef3e38cf9014c93a706dba061b27606",
      "a31fea5b27a141769f6b0e91f2cea545",
      "76fcc46988784ec78377cf30f87f8b53",
      "6a433c3bd7084fb592c84bfb74bc6fe7",
      "d795b3310476413b896ccc0d88a5f9d5",
      "71c30aa1d50240eb88f66088c422c09f",
      "799370ebd73047f4ba98cc27c5b553c7",
      "236eb10e4b904c9f8779599534b56c52",
      "9bd9e1704ad84d64af60580ff1d995c2",
      "ef0350009a5044e7b711c4a19c94a093",
      "32748b1fde84418f865c0cda68128827",
      "b6135c491fa1403eb746d3e4c1aae989",
      "dda0a8d9629f471d97d6546acca528b6",
      "b40f3bd75acd4721a01fc5016e3e2f9d",
      "82ce19b8a51c48cca24db581bb224213",
      "0a1ef2c489024ec38a367e3509c080dd",
      "e89a5d617279418b90932e76cdbf0890",
      "e6c514181a7442418c4165e7af7cb98b",
      "30532c9838bf429cacc7b8d85c840f60"
     ]
    },
    "id": "Gd51u6zFoKbG",
    "outputId": "19997e7c-5a92-4e40-b132-68273c2f6e0c",
    "papermill": {},
    "tags": []
   },
   "outputs": [],
   "source": [
    "nlp = pipeline(\n",
    "    \"question-answering\",\n",
    "    model=\"deepset/roberta-base-squad2\",\n",
    "    tokenizer=\"deepset/roberta-base-squad2\",\n",
    ")"
   ]
  },
  {
   "cell_type": "markdown",
   "id": "378de1e9",
   "metadata": {
    "execution": {
     "iopub.execute_input": "2022-11-02T22:04:21.973105Z",
     "iopub.status.busy": "2022-11-02T22:04:21.972816Z",
     "iopub.status.idle": "2022-11-02T22:04:21.980111Z",
     "shell.execute_reply": "2022-11-02T22:04:21.977454Z",
     "shell.execute_reply.started": "2022-11-02T22:04:21.973076Z"
    },
    "papermill": {},
    "tags": []
   },
   "source": [
    "## Output"
   ]
  },
  {
   "cell_type": "markdown",
   "id": "fba0a8f9",
   "metadata": {
    "papermill": {},
    "tags": []
   },
   "source": [
    "### Ask question"
   ]
  },
  {
   "cell_type": "code",
   "execution_count": 12,
   "id": "acc20e20",
   "metadata": {
    "colab": {
     "base_uri": "https://localhost:8080/"
    },
    "id": "9yETPBqgoWpO",
    "outputId": "062820d9-a750-45ea-b263-ec617df962d6",
    "papermill": {},
    "tags": []
   },
   "outputs": [],
   "source": [
    "context = pdf_text\n",
    "question = input(\"Enter your question:\\n\")\n",
    "\n",
    "question_set = {\"context\": context, \"question\": question}\n",
    "\n",
    "results = nlp(question_set)"
   ]
  },
  {
   "cell_type": "markdown",
   "id": "9f24f731",
   "metadata": {
    "id": "zaufheoZo4mf",
    "papermill": {},
    "tags": []
   },
   "source": [
    "\n",
    "\n",
    "### Get answer\n",
    "\n",
    "This will print the answer to the question you have asked before."
   ]
  },
  {
   "cell_type": "code",
   "execution_count": 13,
   "id": "45e3ccf1",
   "metadata": {
    "papermill": {},
    "tags": []
   },
   "outputs": [],
   "source": [
    "print(\"\\nAnswer: \" + results[\"answer\"])"
   ]
  }
 ],
 "metadata": {
  "colab": {
   "provenance": []
  },
  "kernelspec": {
   "display_name": "Python 3",
   "language": "python",
   "name": "python3"
  },
  "language_info": {
   "codemirror_mode": {
    "name": "ipython",
    "version": 3
   },
   "file_extension": ".py",
   "mimetype": "text/x-python",
   "name": "python",
   "nbconvert_exporter": "python",
   "pygments_lexer": "ipython3",
   "version": "3.9.6"
  },
  "naas": {
   "notebook_id": "6ae02ceb527a779c1815a5254e6a3b1292f024034c61fa1c62c4dfcb88905990",
   "notebook_path": "Hugging Face/Hugging_Face_Question_Answering_from_PDF.ipynb"
  },
  "papermill": {
   "default_parameters": {},
   "environment_variables": {},
   "parameters": {},
   "version": "2.4.0"
  },
  "widgets": {
   "application/vnd.jupyter.widget-state+json": {
    "state": {},
    "version_major": 2,
    "version_minor": 0
   }
  }
 },
 "nbformat": 4,
 "nbformat_minor": 5
}