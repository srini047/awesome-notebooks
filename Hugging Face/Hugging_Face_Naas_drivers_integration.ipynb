{
 "cells": [
  {
   "cell_type": "markdown",
   "id": "6333c255-e8a5-48ee-b1e8-e37f929c7a2c",
   "metadata": {
    "papermill": {},
    "tags": []
   },
   "source": [
    "<img width=\"10%\" alt=\"Naas\" src=\"https://landen.imgix.net/jtci2pxwjczr/assets/5ice39g4.png?w=160\"/>"
   ]
  },
  {
   "cell_type": "markdown",
   "id": "mobile-table",
   "metadata": {
    "papermill": {},
    "tags": []
   },
   "source": [
    "# Hugging Face - Naas drivers integration\n",
    "<a href=\"https://app.naas.ai/user-redirect/naas/downloader?url=https://raw.githubusercontent.com/jupyter-naas/awesome-notebooks/master/Hugging%20Face/Hugging_Face_Naas_drivers_integration.ipynb\" target=\"_parent\"><img src=\"https://naasai-public.s3.eu-west-3.amazonaws.com/open_in_naas.svg\"/></a><br><br><a href=\"https://github.com/jupyter-naas/awesome-notebooks/issues/new?assignees=&labels=&template=template-request.md&title=Tool+-+Action+of+the+notebook+\">Template request</a> | <a href=\"https://github.com/jupyter-naas/awesome-notebooks/issues/new?assignees=&labels=bug&template=bug_report.md&title=Hugging+Face+-+Naas+drivers+integration:+Error+short+description\">Bug report</a>"
   ]
  },
  {
   "cell_type": "markdown",
   "id": "anonymous-philip",
   "metadata": {
    "papermill": {},
    "tags": []
   },
   "source": [
    "**Tags:** #huggingface #nlp #huggingface #api #models #transformers #sales #ai #text"
   ]
  },
  {
   "cell_type": "markdown",
   "id": "4d95915b-f71c-4d35-b713-66eb5e45ba21",
   "metadata": {
    "execution": {
     "iopub.execute_input": "2021-08-31T15:29:19.186051Z",
     "iopub.status.busy": "2021-08-31T15:29:19.185166Z",
     "iopub.status.idle": "2021-08-31T15:29:19.249969Z",
     "shell.execute_reply": "2021-08-31T15:29:19.242962Z",
     "shell.execute_reply.started": "2021-08-31T15:29:19.185890Z"
    },
    "papermill": {},
    "tags": []
   },
   "source": [
    "**Author:** [Gagan Bhatia](https://www.linkedin.com/in/gbhatia30/)"
   ]
  },
  {
   "cell_type": "markdown",
   "id": "24302ee4-bc91-4a8c-b894-9f21211ba843",
   "metadata": {
    "papermill": {},
    "tags": []
   },
   "source": [
    "In this notebook, you will be able to explore the Hugging Face transformers package with minimal technical knowledge thanks to Naas low-code drivers.<br>\n",
    "Hugging Face is an immensely popular Python library providing pretrained models that are extraordinarily useful for a variety of natural language processing (NLP) tasks."
   ]
  },
  {
   "cell_type": "markdown",
   "id": "protecting-arrest",
   "metadata": {
    "papermill": {},
    "tags": []
   },
   "source": [
    "## How it works?\n",
    "Naas drivers HuggingFace formulas follow this format.\n",
    "```\n",
    "huggingface.get(task, model, tokenizer)(inputs)\n",
    "```\n",
    "The supported tasks are the following:\n",
    "\n",
    "- text-generation (model: GPT2)\n",
    "- summarization (model: t5-small)\n",
    "- fill-mask (model: distilroberta-base)\n",
    "- text-classification (model: distilbert-base-uncased-finetuned-sst-2-english)\n",
    "- feature-extraction (model: distilbert-base-cased)\n",
    "- token-classification (model: dslim/bert-base-NER)\n",
    "- question-answering\n",
    "- translation\n",
    "\n",
    "We simply use [Hugging Face API](https://huggingface.co/models) under the hood to access the models."
   ]
  },
  {
   "cell_type": "markdown",
   "id": "input_cell",
   "metadata": {
    "papermill": {},
    "tags": []
   },
   "source": [
    "## Input"
   ]
  },
  {
   "cell_type": "markdown",
   "id": "import_cell",
   "metadata": {
    "papermill": {},
    "tags": []
   },
   "source": [
    "### Import library"
   ]
  },
  {
   "cell_type": "code",
   "execution_count": null,
   "id": "initial-tractor",
   "metadata": {
    "papermill": {},
    "tags": []
   },
   "outputs": [],
   "source": [
    "from naas_drivers import huggingface"
   ]
  },
  {
   "cell_type": "markdown",
   "id": "corresponding-plaintiff",
   "metadata": {
    "papermill": {},
    "tags": []
   },
   "source": [
    "### Text Generation"
   ]
  },
  {
   "cell_type": "code",
   "execution_count": null,
   "id": "broke-ceremony",
   "metadata": {
    "papermill": {},
    "tags": []
   },
   "outputs": [],
   "source": [
    "huggingface.get(\"text-generation\", model=\"gpt2\", tokenizer=\"gpt2\")(\n",
    "    \"What is the most important thing in your life right now?\"\n",
    ")"
   ]
  },
  {
   "cell_type": "markdown",
   "id": "model_cell",
   "metadata": {
    "papermill": {},
    "tags": []
   },
   "source": [
    "## Model"
   ]
  },
  {
   "cell_type": "markdown",
   "id": "mighty-pharmacology",
   "metadata": {
    "papermill": {},
    "tags": []
   },
   "source": [
    "### Text Summarization\n",
    "Summarize the text given, maximum lenght (number of tokens/words) is set to 200."
   ]
  },
  {
   "cell_type": "code",
   "execution_count": null,
   "id": "approximate-mexican",
   "metadata": {
    "papermill": {},
    "tags": []
   },
   "outputs": [],
   "source": [
    "huggingface.get(\"summarization\", model=\"t5-small\", tokenizer=\"t5-small\")(\n",
    "    \"\"\"\n",
    "\n",
    "There will be fewer and fewer jobs that a robot cannot do better. \n",
    "What to do about mass unemployment this is gonna be a massive social challenge and \n",
    "I think ultimately we will have to have some kind of universal basic income.\n",
    "\n",
    "I think some kind of a universal basic income is going to be necessary \n",
    "now the output of goods and services will be extremely high \n",
    "so with automation they will they will come abundance there will be or almost everything will get very cheap.\n",
    "\n",
    "The harder challenge much harder challenge is how do people then have meaning like a lot of people \n",
    "they find meaning from their employment so if you don't have if you're not needed if \n",
    "there's not a need for your labor how do you what's the meaning if you have meaning \n",
    "if you feel useless these are much that's a much harder problem to deal with. \n",
    "\n",
    "\"\"\"\n",
    ")"
   ]
  },
  {
   "cell_type": "markdown",
   "id": "italic-certification",
   "metadata": {
    "papermill": {},
    "tags": []
   },
   "source": [
    "### Text Classification\n",
    "Basic sentiment analysis on a text.<br>\n",
    "Returns a \"label\" (negative/neutral/positive), and score between -1 and 1."
   ]
  },
  {
   "cell_type": "code",
   "execution_count": null,
   "id": "detailed-listening",
   "metadata": {
    "papermill": {},
    "tags": []
   },
   "outputs": [],
   "source": [
    "huggingface.get(\n",
    "    \"text-classification\",\n",
    "    model=\"distilbert-base-uncased-finetuned-sst-2-english\",\n",
    "    tokenizer=\"distilbert-base-uncased-finetuned-sst-2-english\",\n",
    ")(\n",
    "    \"\"\"\n",
    "\n",
    "It was a weird concept. Why would I really need to generate a random paragraph? \n",
    "Could I actually learn something from doing so? \n",
    "All these questions were running through her head as she pressed the generate button. \n",
    "To her surprise, she found what she least expected to see.\n",
    "\n",
    "\"\"\"\n",
    ")"
   ]
  },
  {
   "cell_type": "markdown",
   "id": "american-first",
   "metadata": {
    "papermill": {},
    "tags": []
   },
   "source": [
    "### Fill Mask"
   ]
  },
  {
   "cell_type": "markdown",
   "id": "consecutive-router",
   "metadata": {
    "papermill": {},
    "tags": []
   },
   "source": [
    "Fill the blanks ('< mask >') in a sentence given with multiple proposals. <br>\n",
    "Each proposal has a score (confidence of accuracy), token value (proposed word in number), token_str (proposed word)"
   ]
  },
  {
   "cell_type": "code",
   "execution_count": null,
   "id": "toxic-armstrong",
   "metadata": {
    "papermill": {},
    "tags": []
   },
   "outputs": [],
   "source": [
    "huggingface.get(\n",
    "    \"fill-mask\", model=\"distilroberta-base\", tokenizer=\"distilroberta-base\"\n",
    ")(\n",
    "    \"\"\"\n",
    "\n",
    "It was a beautiful <mask>.\n",
    "\n",
    "\"\"\"\n",
    ")"
   ]
  },
  {
   "cell_type": "markdown",
   "id": "welcome-shoulder",
   "metadata": {
    "papermill": {},
    "tags": []
   },
   "source": [
    "### Feature extraction\n",
    "This generate a words embedding (extract numbers out of the text data).<br>\n",
    "Output is a list of numerical values."
   ]
  },
  {
   "cell_type": "code",
   "execution_count": null,
   "id": "single-cocktail",
   "metadata": {
    "papermill": {},
    "tags": []
   },
   "outputs": [],
   "source": [
    "huggingface.get(\n",
    "    \"feature-extraction\",\n",
    "    model=\"distilbert-base-cased\",\n",
    "    tokenizer=\"distilbert-base-cased\",\n",
    ")(\"Life is a super cool thing\")"
   ]
  },
  {
   "cell_type": "markdown",
   "id": "bored-george",
   "metadata": {
    "papermill": {},
    "tags": []
   },
   "source": [
    "### Token classification\n",
    "Basically NER. If you give names, location, or any \"entity\" it can detect it.<br>\n",
    "\n",
    "| Entity abreviation | Description                                                                  |\n",
    "|--------------|------------------------------------------------------------------------------|\n",
    "| O            | Outside of a named entity                                                    |\n",
    "| B-MIS        | Beginning of a miscellaneous entity right after another miscellaneous entity |\n",
    "| I-MIS        | Miscellaneous entity                                                         |\n",
    "| B-PER        | Beginning of a person’s name right after another person’s name               |\n",
    "| I-PER        | Person’s name                                                                |\n",
    "| B-ORG        | Beginning of an organization right after another organization                |\n",
    "| I-ORG        | organization                                                                 |\n",
    "| B-LOC        | Beginning of a location right after another location                         |\n",
    "| I-LOC        | Location                                                                     |\n",
    "\n",
    "\n",
    "Full documentation : https://huggingface.co/dslim/bert-base-NER.<br>"
   ]
  },
  {
   "cell_type": "markdown",
   "id": "output_cell",
   "metadata": {
    "papermill": {},
    "tags": []
   },
   "source": [
    "## Output"
   ]
  },
  {
   "cell_type": "markdown",
   "id": "display_cell",
   "metadata": {
    "papermill": {},
    "tags": []
   },
   "source": [
    "### Display result"
   ]
  },
  {
   "cell_type": "code",
   "execution_count": null,
   "id": "deadly-queen",
   "metadata": {
    "papermill": {},
    "tags": []
   },
   "outputs": [],
   "source": [
    "huggingface.get(\n",
    "    \"token-classification\", model=\"dslim/bert-base-NER\", tokenizer=\"dslim/bert-base-NER\"\n",
    ")(\n",
    "    \"\"\"\n",
    "\n",
    "My name is Wolfgang and I live in Berlin\n",
    "\n",
    "\"\"\"\n",
    ")"
   ]
  }
 ],
 "metadata": {
  "kernelspec": {
   "display_name": "Python 3",
   "language": "python",
   "name": "python3"
  },
  "language_info": {
   "codemirror_mode": {
    "name": "ipython",
    "version": 3
   },
   "file_extension": ".py",
   "mimetype": "text/x-python",
   "name": "python",
   "nbconvert_exporter": "python",
   "pygments_lexer": "ipython3",
   "version": "3.9.6"
  },
  "naas": {
   "notebook_id": "85c9231a-8179-4dc2-b003-f832b34450e3",
   "notebook_path": "Hugging Face/Hugging_Face_Naas_drivers_integration.ipynb"
  },
  "papermill": {
   "default_parameters": {},
   "environment_variables": {},
   "parameters": {},
   "version": "2.3.3"
  },
  "widgets": {
   "application/vnd.jupyter.widget-state+json": {
    "state": {},
    "version_major": 2,
    "version_minor": 0
   }
  }
 },
 "nbformat": 4,
 "nbformat_minor": 5
}