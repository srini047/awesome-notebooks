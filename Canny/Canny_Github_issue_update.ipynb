{
 "cells": [
  {
   "cell_type": "markdown",
   "id": "arranged-giant",
   "metadata": {
    "papermill": {},
    "tags": []
   },
   "source": [
    "<img width=\"10%\" alt=\"Naas\" src=\"https://landen.imgix.net/jtci2pxwjczr/assets/5ice39g4.png?w=160\"/>"
   ]
  },
  {
   "cell_type": "markdown",
   "id": "assigned-certificate",
   "metadata": {
    "papermill": {},
    "tags": []
   },
   "source": [
    "# Canny - Github issue update\n",
    "<a href=\"https://app.naas.ai/user-redirect/naas/downloader?url=https://raw.githubusercontent.com/jupyter-naas/awesome-notebooks/master/Canny/Canny_Github_issue_update.ipynb\" target=\"_parent\"><img src=\"https://naasai-public.s3.eu-west-3.amazonaws.com/Open_in_Naas_Lab.svg\"/></a><br><br><a href=\"https://github.com/jupyter-naas/awesome-notebooks/issues/new?assignees=&labels=&template=template-request.md&title=Tool+-+Action+of+the+notebook+\">Template request</a> | <a href=\"https://github.com/jupyter-naas/awesome-notebooks/issues/new?assignees=&labels=bug&template=bug_report.md&title=Canny+-+Github+issue+update:+Error+short+description\">Bug report</a> | <a href=\"https://app.naas.ai/user-redirect/naas/downloader?url=https://raw.githubusercontent.com/jupyter-naas/awesome-notebooks/master/Naas/Naas_Start_data_product.ipynb\" target=\"_parent\">Generate Data Product</a>"
   ]
  },
  {
   "cell_type": "markdown",
   "id": "095c0c64-1a7a-4324-b764-5eb1bf2afe93",
   "metadata": {
    "papermill": {},
    "tags": []
   },
   "source": [
    "**Tags:** #canny #product #operations #snippet #github"
   ]
  },
  {
   "cell_type": "markdown",
   "id": "4b3a076b-9f78-4c87-9287-e10dda1e8605",
   "metadata": {
    "papermill": {},
    "tags": []
   },
   "source": [
    "**Author:** [Martin Donadieu](https://www.linkedin.com/in/martindonadieu)"
   ]
  },
  {
   "cell_type": "markdown",
   "id": "naas-description",
   "metadata": {
    "papermill": {},
    "tags": [
     "description"
    ]
   },
   "source": [
    "**Description:** This notebook provides an automated way to keep track of Github issues and their updates."
   ]
  },
  {
   "cell_type": "markdown",
   "id": "6c3d23ac-1815-4f9d-95ee-40183d7f174a",
   "metadata": {
    "execution": {
     "iopub.execute_input": "2021-10-01T13:17:20.192557Z",
     "iopub.status.busy": "2021-10-01T13:17:20.192265Z",
     "iopub.status.idle": "2021-10-01T13:17:20.195951Z",
     "shell.execute_reply": "2021-10-01T13:17:20.195164Z",
     "shell.execute_reply.started": "2021-10-01T13:17:20.192488Z"
    },
    "papermill": {},
    "tags": []
   },
   "source": [
    "## Input"
   ]
  },
  {
   "cell_type": "markdown",
   "id": "b86875f4-13da-49c2-ab9c-a296cc146d53",
   "metadata": {
    "papermill": {},
    "tags": []
   },
   "source": [
    "### Install package"
   ]
  },
  {
   "cell_type": "code",
   "execution_count": 1,
   "id": "weekly-speech",
   "metadata": {
    "papermill": {},
    "tags": []
   },
   "outputs": [],
   "source": [
    "pip install PyGithub"
   ]
  },
  {
   "cell_type": "markdown",
   "id": "e1dcbfff-a04f-4d3e-90f2-cb7d566e11ad",
   "metadata": {
    "papermill": {},
    "tags": []
   },
   "source": [
    "### Import librairies"
   ]
  },
  {
   "cell_type": "code",
   "execution_count": 2,
   "id": "fatal-square",
   "metadata": {
    "papermill": {},
    "tags": []
   },
   "outputs": [],
   "source": [
    "import requests\n",
    "import json\n",
    "from github import Github"
   ]
  },
  {
   "cell_type": "markdown",
   "id": "quiet-bradford",
   "metadata": {
    "papermill": {},
    "tags": []
   },
   "source": [
    "### Insert your accounts details"
   ]
  },
  {
   "cell_type": "code",
   "execution_count": 3,
   "id": "premier-clothing",
   "metadata": {
    "papermill": {},
    "tags": []
   },
   "outputs": [],
   "source": [
    "# For Github\n",
    "gihub_personal_token = (\n",
    "    \"YOUR_GITHUB_TOKEN\"  # Settings/Developer settings/Personal access tokens\n",
    ")\n",
    "github_repo = \"optimusprime2021/api-tester\"  # Github repository name\n",
    "\n",
    "# For Canny\n",
    "canny_post_url = \"https://canny.io/api/v1/posts/list\"  # Canny post url\n",
    "canny_apikey = \"CANNY_API_KEY\"  # Canny api key"
   ]
  },
  {
   "cell_type": "markdown",
   "id": "c92d1190-2670-4510-8a2f-d0326adaceb1",
   "metadata": {
    "papermill": {},
    "tags": []
   },
   "source": [
    "## Model"
   ]
  },
  {
   "cell_type": "markdown",
   "id": "noble-stadium",
   "metadata": {
    "papermill": {},
    "tags": []
   },
   "source": [
    "### Get Canny posts Dataframe"
   ]
  },
  {
   "cell_type": "code",
   "execution_count": 4,
   "id": "urban-semester",
   "metadata": {
    "papermill": {},
    "tags": []
   },
   "outputs": [],
   "source": [
    "response = requests.get(canny_post_url)\n",
    "data = {\"apiKey\": canny_apikey, \"id\": \"\", \"limit\": \"100\"}\n",
    "response = requests.post(canny_post_url, data)\n",
    "post_details = response.json()"
   ]
  },
  {
   "cell_type": "markdown",
   "id": "spiritual-natural",
   "metadata": {
    "papermill": {},
    "tags": []
   },
   "source": [
    "### Check connection status"
   ]
  },
  {
   "cell_type": "code",
   "execution_count": 5,
   "id": "partial-design",
   "metadata": {
    "papermill": {},
    "tags": []
   },
   "outputs": [],
   "source": [
    "if response.status_code == 200:\n",
    "    print(\"Successfully connected to Canny\")\n",
    "elif response.status_code == 404:\n",
    "    print(\"Couldn't connect to Canny, Please check the credentials\")\n",
    "    exit()"
   ]
  },
  {
   "cell_type": "markdown",
   "id": "imperial-grace",
   "metadata": {
    "papermill": {},
    "tags": []
   },
   "source": [
    "### Generating dataframe"
   ]
  },
  {
   "cell_type": "code",
   "execution_count": 6,
   "id": "occupational-heavy",
   "metadata": {
    "papermill": {},
    "tags": []
   },
   "outputs": [],
   "source": [
    "import pandas as pd\n",
    "\n",
    "pd.set_option(\"mode.chained_assignment\", None)\n",
    "dd = post_details[\"posts\"]\n",
    "df = pd.DataFrame(columns=dd[0].keys())\n",
    "for i in range(len(dd)):\n",
    "    df = df.append(dd[i], ignore_index=True)\n",
    "# df\n",
    "\n",
    "board = []\n",
    "category = []\n",
    "tags = []\n",
    "for i in range(len(df)):\n",
    "    board.append(df[\"board\"][i][\"name\"])\n",
    "    if not df[\"category\"][i]:\n",
    "        category.append(\"Not assigned\")\n",
    "    else:\n",
    "        category.append(df[\"category\"][i][\"name\"])\n",
    "    if not df[\"tags\"][i]:\n",
    "        tags.append(\"Not assigned\")\n",
    "    else:\n",
    "        tags.append(df[\"tags\"][i][0][\"name\"])\n",
    "\n",
    "\n",
    "df = df[[\"title\", \"status\", \"details\", \"url\"]]\n",
    "df[\"board\"] = board\n",
    "df[\"category\"] = category\n",
    "df[\"tags\"] = tags\n",
    "df = df[(df[\"tags\"] == \"Awesome-notebooks\")]  # tag name\n",
    "df"
   ]
  },
  {
   "cell_type": "code",
   "execution_count": 7,
   "id": "indian-retreat",
   "metadata": {
    "papermill": {},
    "tags": []
   },
   "outputs": [],
   "source": [
    "## add url to dataframe"
   ]
  },
  {
   "cell_type": "markdown",
   "id": "living-influence",
   "metadata": {
    "papermill": {},
    "tags": []
   },
   "source": [
    "### Existing issue list"
   ]
  },
  {
   "cell_type": "code",
   "execution_count": 8,
   "id": "conventional-peeing",
   "metadata": {
    "papermill": {},
    "tags": []
   },
   "outputs": [],
   "source": [
    "issues = []\n",
    "g = Github(gihub_personal_token)\n",
    "repo = g.get_repo(github_repo)\n",
    "open_issues = repo.get_issues(state=\"open\")\n",
    "for issue in open_issues:\n",
    "    issues.append(issue.title)"
   ]
  },
  {
   "cell_type": "markdown",
   "id": "dfcc3814-5421-4afd-b05f-54e3bfc41047",
   "metadata": {
    "papermill": {},
    "tags": []
   },
   "source": [
    "## Output"
   ]
  },
  {
   "cell_type": "markdown",
   "id": "detailed-binary",
   "metadata": {
    "papermill": {},
    "tags": []
   },
   "source": [
    "### Push all issues"
   ]
  },
  {
   "cell_type": "code",
   "execution_count": 9,
   "id": "shaped-chemical",
   "metadata": {
    "papermill": {},
    "tags": []
   },
   "outputs": [],
   "source": [
    "repo = g.get_repo(github_repo)\n",
    "for i in df.index:\n",
    "    if df[\"title\"][i] not in issues:\n",
    "        repo.create_issue(\n",
    "            title=df[\"title\"][i],\n",
    "            body=df[\"details\"][i] + \"\\n canny url: \" + df[\"url\"][i],\n",
    "        )"
   ]
  },
  {
   "cell_type": "markdown",
   "id": "regulated-religion",
   "metadata": {
    "papermill": {},
    "tags": []
   },
   "source": [
    "### Close all issues"
   ]
  },
  {
   "cell_type": "code",
   "execution_count": 10,
   "id": "flush-substitute",
   "metadata": {
    "papermill": {},
    "tags": []
   },
   "outputs": [],
   "source": [
    "# repo = g.get_repo(github_repo)\n",
    "# open_issues = repo.get_issues(state='open')\n",
    "# for issue in open_issues:\n",
    "#     issue.edit(state='closed')"
   ]
  }
 ],
 "metadata": {
  "kernelspec": {
   "display_name": "Python 3",
   "language": "python",
   "name": "python3"
  },
  "language_info": {
   "codemirror_mode": {
    "name": "ipython",
    "version": 3
   },
   "file_extension": ".py",
   "mimetype": "text/x-python",
   "name": "python",
   "nbconvert_exporter": "python",
   "pygments_lexer": "ipython3",
   "version": "3.9.6"
  },
  "naas": {
   "notebook_id": "e99b960cfb98cd5fe1eefc5ab9734d32cd7328846af6b8258321e40463768645",
   "notebook_path": "Canny/Canny_Github_issue_update.ipynb"
  },
  "papermill": {
   "default_parameters": {},
   "environment_variables": {},
   "parameters": {},
   "version": "2.3.3"
  }
 },
 "nbformat": 4,
 "nbformat_minor": 5
}