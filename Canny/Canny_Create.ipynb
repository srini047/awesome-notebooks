{
 "cells": [
  {
   "cell_type": "markdown",
   "id": "appreciated-reset",
   "metadata": {
    "papermill": {},
    "tags": []
   },
   "source": [
    "<img width=\"10%\" alt=\"Naas\" src=\"https://landen.imgix.net/jtci2pxwjczr/assets/5ice39g4.png?w=160\"/>"
   ]
  },
  {
   "cell_type": "markdown",
   "id": "strong-medium",
   "metadata": {
    "papermill": {},
    "tags": []
   },
   "source": [
    "# Canny - Create\n",
    "<a href=\"https://app.naas.ai/user-redirect/naas/downloader?url=https://raw.githubusercontent.com/jupyter-naas/awesome-notebooks/master/Canny/Canny_Create.ipynb\" target=\"_parent\"><img src=\"https://naasai-public.s3.eu-west-3.amazonaws.com/Open_in_Naas_Lab.svg\"/></a><br><br><a href=\"https://github.com/jupyter-naas/awesome-notebooks/issues/new?assignees=&labels=&template=template-request.md&title=Tool+-+Action+of+the+notebook+\">Template request</a> | <a href=\"https://github.com/jupyter-naas/awesome-notebooks/issues/new?assignees=&labels=bug&template=bug_report.md&title=Canny+-+Create:+Error+short+description\">Bug report</a> | <a href=\"https://app.naas.ai/user-redirect/naas/downloader?url=https://raw.githubusercontent.com/jupyter-naas/awesome-notebooks/master/Naas/Naas_Start_data_product.ipynb\" target=\"_parent\">Generate Data Product</a>"
   ]
  },
  {
   "cell_type": "markdown",
   "id": "20ceda8f-6d70-426c-be7b-6008d7111675",
   "metadata": {
    "papermill": {},
    "tags": []
   },
   "source": [
    "**Tags:** #canny #product #operations #snippet"
   ]
  },
  {
   "cell_type": "markdown",
   "id": "d0e9c2c5-7589-4170-ae70-90360b47f3dc",
   "metadata": {
    "papermill": {},
    "tags": []
   },
   "source": [
    "**Author:** [Martin Donadieu](https://www.linkedin.com/in/martindonadieu)"
   ]
  },
  {
   "cell_type": "markdown",
   "id": "naas-description",
   "metadata": {
    "papermill": {},
    "tags": [
     "description"
    ]
   },
   "source": [
    "**Description:** This notebook provides an easy-to-use interface for creating custom Canny edge detection filters."
   ]
  },
  {
   "cell_type": "markdown",
   "id": "a44ff1cc-fa4c-4ce8-87f2-1541516bb136",
   "metadata": {
    "papermill": {},
    "tags": []
   },
   "source": [
    "## Input"
   ]
  },
  {
   "cell_type": "markdown",
   "id": "04a30e4d-3577-488f-b1e1-cd03e7764843",
   "metadata": {
    "papermill": {},
    "tags": []
   },
   "source": [
    "### Import librairies"
   ]
  },
  {
   "cell_type": "code",
   "execution_count": null,
   "id": "confused-tribe",
   "metadata": {
    "papermill": {},
    "tags": []
   },
   "outputs": [],
   "source": [
    "import requests\n",
    "import json\n",
    "import pandas as pd"
   ]
  },
  {
   "cell_type": "markdown",
   "id": "imported-linux",
   "metadata": {
    "papermill": {},
    "tags": []
   },
   "source": [
    "### Enter credentials"
   ]
  },
  {
   "cell_type": "code",
   "execution_count": null,
   "id": "planned-helena",
   "metadata": {
    "papermill": {},
    "tags": []
   },
   "outputs": [],
   "source": [
    "canny_api = \"CANNY_API_KEY\"  # api key of canny\n",
    "post_title = \"Post title\"  # Enter post title\n",
    "post_body = \"Post body using canny api\"  # Enter post body"
   ]
  },
  {
   "cell_type": "markdown",
   "id": "fb9cbeef-333e-4908-a176-221b5a2e0c90",
   "metadata": {
    "papermill": {},
    "tags": []
   },
   "source": [
    "## Model"
   ]
  },
  {
   "cell_type": "markdown",
   "id": "arranged-mileage",
   "metadata": {
    "papermill": {},
    "tags": []
   },
   "source": [
    "### Board dataframe using api-key"
   ]
  },
  {
   "cell_type": "code",
   "execution_count": null,
   "id": "thousand-pension",
   "metadata": {
    "papermill": {},
    "tags": []
   },
   "outputs": [],
   "source": [
    "api_key = {\"apiKey\": canny_api}\n",
    "limit = {\"limit\": \"100\"}\n",
    "response = requests.get(\"https://canny.io/api/v1/boards/list\")\n",
    "response = requests.post(\"https://canny.io/api/v1/boards/list\", api_key)\n",
    "post_details = response.json()\n",
    "db = post_details[\"boards\"]\n",
    "df = pd.DataFrame(columns=db[0].keys())\n",
    "for i in range(len(db)):\n",
    "    df = df.append(db[i], ignore_index=True)\n",
    "df = df[[\"name\", \"id\"]]\n",
    "board_list = df.rename(columns={\"name\": \"BOARD_NAME\", \"id\": \"BOARD_ID\"})\n",
    "board_list"
   ]
  },
  {
   "cell_type": "markdown",
   "id": "average-twenty",
   "metadata": {
    "papermill": {},
    "tags": []
   },
   "source": [
    "### Enter board name"
   ]
  },
  {
   "cell_type": "code",
   "execution_count": null,
   "id": "competent-enzyme",
   "metadata": {
    "papermill": {},
    "tags": []
   },
   "outputs": [],
   "source": [
    "board_name = \"Requests\"  # Enter board name\n",
    "for i in range(len(board_list)):\n",
    "    if board_list[\"BOARD_NAME\"][i] == board_name:\n",
    "        board_id = board_list[\"BOARD_ID\"][i]\n",
    "board_id\n",
    "board_id = {\"boardID\": board_id}"
   ]
  },
  {
   "cell_type": "markdown",
   "id": "fixed-evans",
   "metadata": {
    "papermill": {},
    "tags": []
   },
   "source": [
    "### Using api and board name to get author list"
   ]
  },
  {
   "cell_type": "code",
   "execution_count": null,
   "id": "promising-declaration",
   "metadata": {
    "papermill": {},
    "tags": []
   },
   "outputs": [],
   "source": [
    "response = requests.get(\"https://canny.io/api/v1/posts/list\")\n",
    "data = {**api_key, **board_id, **limit}\n",
    "response = requests.post(\"https://canny.io/api/v1/posts/list\", data)\n",
    "post_details = response.json()\n",
    "# post_details['posts']\n",
    "author_list = pd.DataFrame()\n",
    "for i in range(len(post_details[\"posts\"])):\n",
    "    author_list = author_list.append(\n",
    "        post_details[\"posts\"][i][\"author\"], ignore_index=True\n",
    "    )\n",
    "author_list.drop_duplicates(subset=\"email\", keep=False, inplace=True)\n",
    "author_list = author_list[[\"name\", \"id\"]]\n",
    "author_list = author_list.rename(columns={\"name\": \"AUTHOR_NAME\", \"id\": \"AUTHOR_ID\"})\n",
    "author_list"
   ]
  },
  {
   "cell_type": "markdown",
   "id": "soviet-lawsuit",
   "metadata": {
    "papermill": {},
    "tags": []
   },
   "source": [
    "### Enter author name"
   ]
  },
  {
   "cell_type": "code",
   "execution_count": null,
   "id": "interpreted-tolerance",
   "metadata": {
    "papermill": {},
    "tags": []
   },
   "outputs": [],
   "source": [
    "author_name = \"Sanjay Sabu\"  # Enter author name\n",
    "for i in author_list[\"AUTHOR_NAME\"].index:\n",
    "    if author_list[\"AUTHOR_NAME\"][i] == author_name:\n",
    "        author_id = author_list[\"AUTHOR_ID\"][i]\n",
    "author_id = {\"authorID\": author_id}"
   ]
  },
  {
   "cell_type": "markdown",
   "id": "registered-excerpt",
   "metadata": {
    "papermill": {},
    "tags": []
   },
   "source": [
    "### Creating post"
   ]
  },
  {
   "cell_type": "code",
   "execution_count": null,
   "id": "3735a23e-90ac-41b7-9519-25c2c3b69084",
   "metadata": {
    "papermill": {},
    "tags": []
   },
   "outputs": [],
   "source": [
    "post_title = {\"title\": post_title}\n",
    "post_body = {\"details\": post_body}\n",
    "data = {**api_key, **author_id, **board_id, **post_body, **post_title}"
   ]
  },
  {
   "cell_type": "markdown",
   "id": "3eda9cc8-9ee9-4f25-b2ce-2d04d8e2d450",
   "metadata": {
    "papermill": {},
    "tags": []
   },
   "source": [
    "## Output"
   ]
  },
  {
   "cell_type": "markdown",
   "id": "73f21889-882e-4938-a149-2af4e1177c85",
   "metadata": {
    "papermill": {},
    "tags": []
   },
   "source": [
    "### Send the post"
   ]
  },
  {
   "cell_type": "code",
   "execution_count": null,
   "id": "moved-amber",
   "metadata": {
    "papermill": {},
    "tags": []
   },
   "outputs": [],
   "source": [
    "response = requests.post(\"https://canny.io/api/v1/posts/create\", data)"
   ]
  }
 ],
 "metadata": {
  "kernelspec": {
   "display_name": "Python 3",
   "language": "python",
   "name": "python3"
  },
  "language_info": {
   "codemirror_mode": {
    "name": "ipython",
    "version": 3
   },
   "file_extension": ".py",
   "mimetype": "text/x-python",
   "name": "python",
   "nbconvert_exporter": "python",
   "pygments_lexer": "ipython3",
   "version": "3.8.8"
  },
  "naas": {
   "notebook_id": "2fac04a0e47274af3af50087ce42c66a7c88cdc4d2187f530ae968310c7cefe9",
   "notebook_path": "Canny/Canny_Create.ipynb"
  },
  "papermill": {
   "default_parameters": {},
   "environment_variables": {},
   "parameters": {},
   "version": "2.3.3"
  }
 },
 "nbformat": 4,
 "nbformat_minor": 5
}