{
 "cells": [
  {
   "cell_type": "markdown",
   "id": "practical-marsh",
   "metadata": {
    "papermill": {},
    "tags": []
   },
   "source": [
    "<img width=\"10%\" alt=\"Naas\" src=\"https://landen.imgix.net/jtci2pxwjczr/assets/5ice39g4.png?w=160\"/>"
   ]
  },
  {
   "cell_type": "markdown",
   "id": "abandoned-costume",
   "metadata": {
    "papermill": {},
    "tags": []
   },
   "source": [
    "# Canny - Read\n",
    "<a href=\"https://app.naas.ai/user-redirect/naas/downloader?url=https://raw.githubusercontent.com/jupyter-naas/awesome-notebooks/master/Canny/Canny_Read.ipynb\" target=\"_parent\"><img src=\"https://naasai-public.s3.eu-west-3.amazonaws.com/Open_in_Naas_Lab.svg\"/></a><br><br><a href=\"https://github.com/jupyter-naas/awesome-notebooks/issues/new?assignees=&labels=&template=template-request.md&title=Tool+-+Action+of+the+notebook+\">Template request</a> | <a href=\"https://github.com/jupyter-naas/awesome-notebooks/issues/new?assignees=&labels=bug&template=bug_report.md&title=Canny+-+Read:+Error+short+description\">Bug report</a> | <a href=\"https://app.naas.ai/user-redirect/naas/downloader?url=https://raw.githubusercontent.com/jupyter-naas/awesome-notebooks/master/Naas/Naas_Start_data_product.ipynb\" target=\"_parent\">Generate Data Product</a>"
   ]
  },
  {
   "cell_type": "markdown",
   "id": "daab9a57-8583-44e8-8f34-a2dccd3e6b65",
   "metadata": {
    "execution": {
     "iopub.execute_input": "2021-10-01T13:22:33.188930Z",
     "iopub.status.busy": "2021-10-01T13:22:33.188632Z",
     "iopub.status.idle": "2021-10-01T13:22:33.205076Z",
     "shell.execute_reply": "2021-10-01T13:22:33.204129Z",
     "shell.execute_reply.started": "2021-10-01T13:22:33.188849Z"
    },
    "papermill": {},
    "tags": []
   },
   "source": [
    "**Tags:** #canny #product #operations #snippet"
   ]
  },
  {
   "cell_type": "markdown",
   "id": "4352e51c-d0e7-4629-ad9b-4d0f07138b08",
   "metadata": {
    "papermill": {},
    "tags": []
   },
   "source": [
    "**Author:** [Martin Donadieu](https://www.linkedin.com/in/martindonadieu)"
   ]
  },
  {
   "cell_type": "markdown",
   "id": "naas-description",
   "metadata": {
    "papermill": {},
    "tags": [
     "description"
    ]
   },
   "source": [
    "**Description:** This notebook is a comprehensive guide to understanding and applying the Canny edge detection algorithm."
   ]
  },
  {
   "cell_type": "markdown",
   "id": "9d8d34a6-0a02-453e-ba19-8236f113d544",
   "metadata": {
    "execution": {
     "iopub.execute_input": "2021-10-01T13:22:40.231691Z",
     "iopub.status.busy": "2021-10-01T13:22:40.231463Z",
     "iopub.status.idle": "2021-10-01T13:22:40.234307Z",
     "shell.execute_reply": "2021-10-01T13:22:40.233649Z",
     "shell.execute_reply.started": "2021-10-01T13:22:40.231666Z"
    },
    "papermill": {},
    "tags": []
   },
   "source": [
    "## Input"
   ]
  },
  {
   "cell_type": "markdown",
   "id": "ee941082-ae5a-44af-9f9f-9d004c880cf7",
   "metadata": {
    "papermill": {},
    "tags": []
   },
   "source": [
    "### Import librairies"
   ]
  },
  {
   "cell_type": "code",
   "execution_count": null,
   "id": "0dd1d041-ec52-4874-a003-efc3d36a4c3e",
   "metadata": {
    "papermill": {},
    "tags": []
   },
   "outputs": [],
   "source": [
    "import requests\n",
    "import json\n",
    "import pandas as pd"
   ]
  },
  {
   "cell_type": "markdown",
   "id": "8fbfb168-c46e-4e2c-a3a1-f091432236e4",
   "metadata": {
    "papermill": {},
    "tags": []
   },
   "source": [
    "### API key"
   ]
  },
  {
   "cell_type": "code",
   "execution_count": 1,
   "id": "median-cooling",
   "metadata": {
    "papermill": {},
    "tags": []
   },
   "outputs": [],
   "source": [
    "canny_api = \"CANNY_API_KEY\"  # api key of canny"
   ]
  },
  {
   "cell_type": "markdown",
   "id": "041ee102-f876-4881-a107-0fbd1b396de7",
   "metadata": {
    "execution": {
     "iopub.execute_input": "2021-10-01T13:22:44.234122Z",
     "iopub.status.busy": "2021-10-01T13:22:44.233823Z",
     "iopub.status.idle": "2021-10-01T13:22:44.236776Z",
     "shell.execute_reply": "2021-10-01T13:22:44.236131Z",
     "shell.execute_reply.started": "2021-10-01T13:22:44.234090Z"
    },
    "papermill": {},
    "tags": []
   },
   "source": [
    "## Model"
   ]
  },
  {
   "cell_type": "markdown",
   "id": "recent-momentum",
   "metadata": {
    "papermill": {},
    "tags": []
   },
   "source": [
    "### Connecting to canny"
   ]
  },
  {
   "cell_type": "code",
   "execution_count": 2,
   "id": "fuzzy-attraction",
   "metadata": {
    "papermill": {},
    "tags": []
   },
   "outputs": [],
   "source": [
    "class canny:\n",
    "    def __init__(self, api_key):\n",
    "        self.api_key = api_key\n",
    "\n",
    "    def read(self):\n",
    "        canny_api = self.api_key\n",
    "        response = requests.get(\"https://canny.io/api/v1/posts/list\")\n",
    "        api_key = {\"apiKey\": canny_api}\n",
    "        board_id = {\"id\": \"\"}\n",
    "        limit = {\"limit\": \"100\"}\n",
    "        data = {**api_key, **board_id, **limit}\n",
    "        response = requests.post(\"https://canny.io/api/v1/posts/list\", data)\n",
    "        post_details = response.json()\n",
    "        pd.set_option(\"mode.chained_assignment\", None)\n",
    "        dd = post_details[\"posts\"]\n",
    "        df = pd.DataFrame(columns=dd[0].keys())\n",
    "        for i in range(len(dd)):\n",
    "            df = df.append(dd[i], ignore_index=True)\n",
    "        df = df.rename(\n",
    "            columns={\n",
    "                \"details\": \"POST_DETAIL\",\n",
    "                \"status\": \"STATUS\",\n",
    "                \"title\": \"POST_NAME\",\n",
    "                \"board\": \"BOARD\",\n",
    "                \"category\": \"CATEGORY\",\n",
    "                \"id\": \"BOARD_ID\",\n",
    "            }\n",
    "        )\n",
    "        board = []\n",
    "        category = []\n",
    "        tags = []\n",
    "        eta = []\n",
    "        created = []\n",
    "        for i in range(len(df)):\n",
    "            board.append(df[\"BOARD\"][i][\"name\"])\n",
    "            created.append(df[\"BOARD\"][i][\"created\"])\n",
    "            if not df[\"CATEGORY\"][i]:\n",
    "                category.append(\"Not assigned\")\n",
    "            else:\n",
    "                category.append(df[\"CATEGORY\"][i][\"name\"])\n",
    "            if not df[\"tags\"][i]:\n",
    "                tags.append(\"Not assigned\")\n",
    "            else:\n",
    "                tags.append(df[\"tags\"][i][0][\"name\"])\n",
    "            if not df[\"eta\"][i]:\n",
    "                eta.append(\"Not assigned\")\n",
    "            else:\n",
    "                eta.append(df[\"eta\"][i])\n",
    "        df1 = df[[\"POST_NAME\", \"POST_DETAIL\", \"STATUS\", \"BOARD_ID\"]]\n",
    "        df1[\"BOARD\"] = board\n",
    "        df1[\"CREATED\"] = created\n",
    "        df1[\"ETA\"] = eta\n",
    "        df1[\"CATEGORY\"] = category\n",
    "        df1[\"TAGS\"] = tags\n",
    "        return df1"
   ]
  },
  {
   "cell_type": "markdown",
   "id": "affiliated-contract",
   "metadata": {
    "papermill": {},
    "tags": []
   },
   "source": [
    "### Post Retrieve"
   ]
  },
  {
   "cell_type": "code",
   "execution_count": 3,
   "id": "outstanding-bracket",
   "metadata": {
    "papermill": {},
    "tags": []
   },
   "outputs": [],
   "source": [
    "canny(canny_api).read()"
   ]
  },
  {
   "cell_type": "markdown",
   "id": "fddddfd4-33b3-4dd5-8217-379ae5d46259",
   "metadata": {
    "execution": {
     "iopub.execute_input": "2021-10-01T13:22:48.063385Z",
     "iopub.status.busy": "2021-10-01T13:22:48.063083Z",
     "iopub.status.idle": "2021-10-01T13:22:48.067481Z",
     "shell.execute_reply": "2021-10-01T13:22:48.066791Z",
     "shell.execute_reply.started": "2021-10-01T13:22:48.063355Z"
    },
    "papermill": {},
    "tags": []
   },
   "source": [
    "## Output"
   ]
  },
  {
   "cell_type": "markdown",
   "id": "partial-logging",
   "metadata": {
    "papermill": {},
    "tags": []
   },
   "source": [
    "### Save as csv"
   ]
  },
  {
   "cell_type": "code",
   "execution_count": 4,
   "id": "tight-discharge",
   "metadata": {
    "papermill": {},
    "tags": []
   },
   "outputs": [],
   "source": [
    "canny(canny_api).read().to_csv(\"naas_canny.csv\")"
   ]
  }
 ],
 "metadata": {
  "kernelspec": {
   "display_name": "Python 3",
   "language": "python",
   "name": "python3"
  },
  "language_info": {
   "codemirror_mode": {
    "name": "ipython",
    "version": 3
   },
   "file_extension": ".py",
   "mimetype": "text/x-python",
   "name": "python",
   "nbconvert_exporter": "python",
   "pygments_lexer": "ipython3",
   "version": "3.8.8"
  },
  "naas": {
   "notebook_id": "5f7c655a1a23609d607d4d123f44853440b27a11ac985de645279ef85c92db1a",
   "notebook_path": "Canny/Canny_Read.ipynb"
  },
  "papermill": {
   "default_parameters": {},
   "environment_variables": {},
   "parameters": {},
   "version": "2.3.3"
  }
 },
 "nbformat": 4,
 "nbformat_minor": 5
}