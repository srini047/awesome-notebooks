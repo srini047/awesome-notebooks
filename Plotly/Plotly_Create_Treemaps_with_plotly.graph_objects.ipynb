{
 "cells": [
  {
   "cell_type": "markdown",
   "id": "latin-packing",
   "metadata": {
    "execution": {
     "iopub.execute_input": "2021-02-23T14:22:16.610471Z",
     "iopub.status.busy": "2021-02-23T14:22:16.610129Z",
     "iopub.status.idle": "2021-02-23T14:22:16.627784Z",
     "shell.execute_reply": "2021-02-23T14:22:16.626866Z",
     "shell.execute_reply.started": "2021-02-23T14:22:16.610384Z"
    },
    "papermill": {},
    "tags": []
   },
   "source": [
    "<img width=\"10%\" alt=\"Naas\" src=\"https://landen.imgix.net/jtci2pxwjczr/assets/5ice39g4.png?w=160\"/>"
   ]
  },
  {
   "cell_type": "markdown",
   "id": "compressed-wilson",
   "metadata": {
    "papermill": {},
    "tags": []
   },
   "source": [
    "# Plotly - Create Treemaps with plotly.graph objects\n",
    "<a href=\"https://app.naas.ai/user-redirect/naas/downloader?url=https://raw.githubusercontent.com/jupyter-naas/awesome-notebooks/master/Plotly/Plotly_Create_Treemaps_with_plotly.graph_objects.ipynb\" target=\"_parent\"><img src=\"https://naasai-public.s3.eu-west-3.amazonaws.com/Open_in_Naas_Lab.svg\"/></a><br><br><a href=\"https://github.com/jupyter-naas/awesome-notebooks/issues/new?assignees=&labels=&template=template-request.md&title=Tool+-+Action+of+the+notebook+\">Template request</a> | <a href=\"https://github.com/jupyter-naas/awesome-notebooks/issues/new?assignees=&labels=bug&template=bug_report.md&title=Plotly+-+Create+Treemaps+with+plotly.graph+objects:+Error+short+description\">Bug report</a> | <a href=\"https://app.naas.ai/user-redirect/naas/downloader?url=https://raw.githubusercontent.com/jupyter-naas/awesome-notebooks/master/Naas/Naas_Start_data_product.ipynb\" target=\"_parent\">Generate Data Product</a>"
   ]
  },
  {
   "cell_type": "markdown",
   "id": "religious-programmer",
   "metadata": {
    "papermill": {},
    "tags": []
   },
   "source": [
    "**Tags:** #plotly #treemap #snippet #dataviz #plotly.graph_objects #go"
   ]
  },
  {
   "cell_type": "markdown",
   "id": "1fe9f56e-561c-4f52-aef8-b861c9462107",
   "metadata": {
    "papermill": {},
    "tags": []
   },
   "source": [
    "**Author:** [Florent Ravenel](https://www.linkedin.com/in/florent-ravenel/)"
   ]
  },
  {
   "cell_type": "markdown",
   "id": "31ea7cdb-e10d-43fc-b026-f69249a59736",
   "metadata": {
    "papermill": {},
    "tags": []
   },
   "source": [
    "**Description:** This notebook creates Treemaps with plotly.graph_objects."
   ]
  },
  {
   "cell_type": "markdown",
   "id": "f2161e74-0bb5-4524-9c59-4a8e12cc7070",
   "metadata": {
    "execution": {
     "iopub.execute_input": "2023-01-31T07:36:23.088474Z",
     "iopub.status.busy": "2023-01-31T07:36:23.088192Z",
     "iopub.status.idle": "2023-01-31T07:36:23.111586Z",
     "shell.execute_reply": "2023-01-31T07:36:23.109451Z",
     "shell.execute_reply.started": "2023-01-31T07:36:23.088407Z"
    },
    "papermill": {},
    "tags": []
   },
   "source": [
    "<u>References:</u>\n",
    "- https://plotly.com/python/treemaps/\n",
    "- https://plotly.com/python/graph-objects/\n",
    "- https://plotly.com/python/reference/treemap/"
   ]
  },
  {
   "cell_type": "markdown",
   "id": "distinguished-truth",
   "metadata": {
    "papermill": {},
    "tags": []
   },
   "source": [
    "## Input"
   ]
  },
  {
   "cell_type": "markdown",
   "id": "numeric-mediterranean",
   "metadata": {
    "papermill": {},
    "tags": []
   },
   "source": [
    "### Import libraries"
   ]
  },
  {
   "cell_type": "code",
   "execution_count": null,
   "id": "potential-surfing",
   "metadata": {
    "papermill": {},
    "tags": []
   },
   "outputs": [],
   "source": [
    "import plotly.graph_objects as go\n",
    "from plotly.subplots import make_subplots\n",
    "import numpy as np\n",
    "import pandas as pd\n",
    "import naas"
   ]
  },
  {
   "cell_type": "markdown",
   "id": "28550d7b-912e-4260-adbf-4ca423b51d27",
   "metadata": {
    "papermill": {},
    "tags": []
   },
   "source": [
    "### Setup Variables"
   ]
  },
  {
   "cell_type": "code",
   "execution_count": null,
   "id": "bf64d523-191f-42d8-ab2c-f2692d93d9f0",
   "metadata": {
    "papermill": {},
    "tags": []
   },
   "outputs": [],
   "source": [
    "# Outputs\n",
    "html_output = \"Treemap_plotly_graph_objects.html\"\n",
    "png_output = \"Treemap_plotly_graph_objects.png\""
   ]
  },
  {
   "cell_type": "markdown",
   "id": "registered-showcase",
   "metadata": {
    "papermill": {},
    "tags": []
   },
   "source": [
    "## Model"
   ]
  },
  {
   "cell_type": "markdown",
   "id": "68ca9a03-004b-42b1-ada5-a82e8a31edc6",
   "metadata": {
    "papermill": {},
    "tags": []
   },
   "source": [
    "### Basic Treemap with go.Treemap\n",
    "If Plotly Express does not provide a good starting point, it is also possible to use the more generic go.Treemap class from plotly.graph_objects."
   ]
  },
  {
   "cell_type": "code",
   "execution_count": null,
   "id": "ad2cccad-3479-4ae7-95d3-f849f86cfeab",
   "metadata": {
    "papermill": {},
    "tags": []
   },
   "outputs": [],
   "source": [
    "fig = go.Figure(\n",
    "    go.Treemap(\n",
    "        labels=[\n",
    "            \"Eve\",\n",
    "            \"Cain\",\n",
    "            \"Seth\",\n",
    "            \"Enos\",\n",
    "            \"Noam\",\n",
    "            \"Abel\",\n",
    "            \"Awan\",\n",
    "            \"Enoch\",\n",
    "            \"Azura\",\n",
    "        ],\n",
    "        parents=[\"\", \"Eve\", \"Eve\", \"Seth\", \"Seth\", \"Eve\", \"Eve\", \"Awan\", \"Eve\"],\n",
    "        root_color=\"lightgrey\",\n",
    "    )\n",
    ")\n",
    "\n",
    "fig.update_layout(margin=dict(t=50, l=25, r=25, b=25))\n",
    "fig.show()"
   ]
  },
  {
   "cell_type": "markdown",
   "id": "1f1d7129-8149-43b2-81d3-edd6839db4bd",
   "metadata": {
    "papermill": {},
    "tags": []
   },
   "source": [
    "### Set Different Attributes in Treemap\n",
    "This example uses the following attributes:\n",
    "\n",
    "1. values: sets the values associated with each of the sectors.\n",
    "2. textinfo: determines which trace information appear on the graph that can be 'text', 'value', 'current path', 'percent root', 'percent entry', and 'percent parent', or any combination of them.\n",
    "3. pathbar: a main extra feature of treemap to display the current path of the visible portion of the hierarchical map. It may also be useful for zooming out of the graph.\n",
    "branchvalues: determines how the items in values are summed. When set to \"total\", items in values are taken to be value of all its descendants. In the example below Eva = 65, which is equal to 14 + 12 + 10 + 2 + 6 + 6 + 1 + 4. When set to \"remainder\", items in \n",
    "4. values corresponding to the root and the branches sectors are taken to be the extra part not part of the sum of the values at their leaves."
   ]
  },
  {
   "cell_type": "code",
   "execution_count": null,
   "id": "aea89797-4031-49f4-9601-d8206e668e53",
   "metadata": {
    "papermill": {},
    "tags": []
   },
   "outputs": [],
   "source": [
    "labels = [\"Eve\", \"Cain\", \"Seth\", \"Enos\", \"Noam\", \"Abel\", \"Awan\", \"Enoch\", \"Azura\"]\n",
    "parents = [\"\", \"Eve\", \"Eve\", \"Seth\", \"Seth\", \"Eve\", \"Eve\", \"Awan\", \"Eve\"]\n",
    "\n",
    "fig = make_subplots(\n",
    "    cols=2,\n",
    "    rows=1,\n",
    "    column_widths=[0.4, 0.4],\n",
    "    subplot_titles=(\n",
    "        \"branchvalues: <b>remainder<br />&nbsp;<br />\",\n",
    "        \"branchvalues: <b>total<br />&nbsp;<br />\",\n",
    "    ),\n",
    "    specs=[[{\"type\": \"treemap\", \"rowspan\": 1}, {\"type\": \"treemap\"}]],\n",
    ")\n",
    "\n",
    "fig.add_trace(\n",
    "    go.Treemap(\n",
    "        labels=labels,\n",
    "        parents=parents,\n",
    "        values=[10, 14, 12, 10, 2, 6, 6, 1, 4],\n",
    "        textinfo=\"label+value+percent parent+percent entry+percent root\",\n",
    "        root_color=\"lightgrey\",\n",
    "    ),\n",
    "    row=1,\n",
    "    col=1,\n",
    ")\n",
    "\n",
    "fig.add_trace(\n",
    "    go.Treemap(\n",
    "        branchvalues=\"total\",\n",
    "        labels=labels,\n",
    "        parents=parents,\n",
    "        values=[65, 14, 12, 10, 2, 6, 6, 1, 4],\n",
    "        textinfo=\"label+value+percent parent+percent entry\",\n",
    "        root_color=\"lightgrey\",\n",
    "    ),\n",
    "    row=1,\n",
    "    col=2,\n",
    ")\n",
    "\n",
    "fig.update_layout(margin=dict(t=50, l=25, r=25, b=25))\n",
    "fig.show()"
   ]
  },
  {
   "cell_type": "markdown",
   "id": "4a62e20a-6a41-4ca2-8ce4-e22590d3b974",
   "metadata": {
    "papermill": {},
    "tags": []
   },
   "source": [
    "### Set Color of Treemap Sectors\n",
    "There are three different ways to change the color of the sectors in Treemap:\n",
    "\n",
    "marker.colors, 2) colorway, 3) colorscale. The following examples show how to use each of them."
   ]
  },
  {
   "cell_type": "code",
   "execution_count": null,
   "id": "2cd39ec7-41bb-4a41-8869-0846a64cdfb7",
   "metadata": {
    "papermill": {},
    "tags": []
   },
   "outputs": [],
   "source": [
    "values = [0, 11, 12, 13, 14, 15, 20, 30]\n",
    "labels = [\"container\", \"A1\", \"A2\", \"A3\", \"A4\", \"A5\", \"B1\", \"B2\"]\n",
    "parents = [\"\", \"container\", \"A1\", \"A2\", \"A3\", \"A4\", \"container\", \"B1\"]\n",
    "\n",
    "fig = go.Figure(\n",
    "    go.Treemap(\n",
    "        labels=labels,\n",
    "        values=values,\n",
    "        parents=parents,\n",
    "        marker_colors=[\n",
    "            \"pink\",\n",
    "            \"royalblue\",\n",
    "            \"lightgray\",\n",
    "            \"purple\",\n",
    "            \"cyan\",\n",
    "            \"lightgray\",\n",
    "            \"lightblue\",\n",
    "            \"lightgreen\",\n",
    "        ],\n",
    "    )\n",
    ")\n",
    "\n",
    "fig.update_layout(margin=dict(t=50, l=25, r=25, b=25))\n",
    "fig.show()"
   ]
  },
  {
   "cell_type": "markdown",
   "id": "be660638-1692-4e02-86b3-1124314a9913",
   "metadata": {
    "papermill": {},
    "tags": []
   },
   "source": [
    "This example uses treemapcolorway attribute, which should be set in layout."
   ]
  },
  {
   "cell_type": "code",
   "execution_count": null,
   "id": "880a79d4-4f54-4a5d-9f37-fff4ca8f3706",
   "metadata": {
    "papermill": {},
    "tags": []
   },
   "outputs": [],
   "source": [
    "values = [0, 11, 12, 13, 14, 15, 20, 30]\n",
    "labels = [\"container\", \"A1\", \"A2\", \"A3\", \"A4\", \"A5\", \"B1\", \"B2\"]\n",
    "parents = [\"\", \"container\", \"A1\", \"A2\", \"A3\", \"A4\", \"container\", \"B1\"]\n",
    "\n",
    "fig = go.Figure(\n",
    "    go.Treemap(labels=labels, values=values, parents=parents, root_color=\"lightblue\")\n",
    ")\n",
    "\n",
    "fig.update_layout(\n",
    "    treemapcolorway=[\"pink\", \"lightgray\"], margin=dict(t=50, l=25, r=25, b=25)\n",
    ")\n",
    "fig.show()"
   ]
  },
  {
   "cell_type": "code",
   "execution_count": null,
   "id": "38e25411-d3b4-434b-82af-17c3655c71df",
   "metadata": {
    "papermill": {},
    "tags": []
   },
   "outputs": [],
   "source": [
    "values = [0, 11, 12, 13, 14, 15, 20, 30]\n",
    "labels = [\"container\", \"A1\", \"A2\", \"A3\", \"A4\", \"A5\", \"B1\", \"B2\"]\n",
    "parents = [\"\", \"container\", \"A1\", \"A2\", \"A3\", \"A4\", \"container\", \"B1\"]\n",
    "\n",
    "fig = go.Figure(\n",
    "    go.Treemap(labels=labels, values=values, parents=parents, marker_colorscale=\"Blues\")\n",
    ")\n",
    "\n",
    "fig.update_layout(margin=dict(t=50, l=25, r=25, b=25))\n",
    "\n",
    "fig.show()"
   ]
  },
  {
   "cell_type": "markdown",
   "id": "812d8b29-8154-4b0c-b289-f989599fd36a",
   "metadata": {
    "papermill": {},
    "tags": []
   },
   "source": [
    "### Treemap chart with a continuous colorscale\n",
    "The example below visualizes a breakdown of sales (corresponding to sector width) and call success rate (corresponding to sector color) by region, county and salesperson level. For example, when exploring the data you can see that although the East region is behaving poorly, the Tyler county is still above average -- however, its performance is reduced by the poor success rate of salesperson GT.\n",
    "\n",
    "In the right subplot which has a maxdepth of two levels, click on a sector to see its breakdown to lower levels."
   ]
  },
  {
   "cell_type": "code",
   "execution_count": null,
   "id": "53dcb063-ec73-4ca9-bc8a-7718eb078f3d",
   "metadata": {
    "papermill": {},
    "tags": []
   },
   "outputs": [],
   "source": [
    "df = pd.read_csv(\n",
    "    \"https://raw.githubusercontent.com/plotly/datasets/master/sales_success.csv\"\n",
    ")\n",
    "print(df.head())\n",
    "\n",
    "levels = [\"salesperson\", \"county\", \"region\"]  # levels used for the hierarchical chart\n",
    "color_columns = [\"sales\", \"calls\"]\n",
    "value_column = \"calls\"\n",
    "\n",
    "\n",
    "def build_hierarchical_dataframe(df, levels, value_column, color_columns=None):\n",
    "    \"\"\"\n",
    "    Build a hierarchy of levels for Sunburst or Treemap charts.\n",
    "\n",
    "    Levels are given starting from the bottom to the top of the hierarchy,\n",
    "    ie the last level corresponds to the root.\n",
    "    \"\"\"\n",
    "    df_all_trees = pd.DataFrame(columns=[\"id\", \"parent\", \"value\", \"color\"])\n",
    "    for i, level in enumerate(levels):\n",
    "        df_tree = pd.DataFrame(columns=[\"id\", \"parent\", \"value\", \"color\"])\n",
    "        dfg = df.groupby(levels[i:]).sum()\n",
    "        dfg = dfg.reset_index()\n",
    "        df_tree[\"id\"] = dfg[level].copy()\n",
    "        if i < len(levels) - 1:\n",
    "            df_tree[\"parent\"] = dfg[levels[i + 1]].copy()\n",
    "        else:\n",
    "            df_tree[\"parent\"] = \"total\"\n",
    "        df_tree[\"value\"] = dfg[value_column]\n",
    "        df_tree[\"color\"] = dfg[color_columns[0]] / dfg[color_columns[1]]\n",
    "        df_all_trees = df_all_trees.append(df_tree, ignore_index=True)\n",
    "    total = pd.Series(\n",
    "        dict(\n",
    "            id=\"total\",\n",
    "            parent=\"\",\n",
    "            value=df[value_column].sum(),\n",
    "            color=df[color_columns[0]].sum() / df[color_columns[1]].sum(),\n",
    "        )\n",
    "    )\n",
    "    df_all_trees = df_all_trees.append(total, ignore_index=True)\n",
    "    return df_all_trees\n",
    "\n",
    "\n",
    "df_all_trees = build_hierarchical_dataframe(df, levels, value_column, color_columns)\n",
    "average_score = df[\"sales\"].sum() / df[\"calls\"].sum()\n",
    "\n",
    "fig = make_subplots(\n",
    "    1,\n",
    "    2,\n",
    "    specs=[[{\"type\": \"domain\"}, {\"type\": \"domain\"}]],\n",
    ")\n",
    "\n",
    "fig.add_trace(\n",
    "    go.Treemap(\n",
    "        labels=df_all_trees[\"id\"],\n",
    "        parents=df_all_trees[\"parent\"],\n",
    "        values=df_all_trees[\"value\"],\n",
    "        branchvalues=\"total\",\n",
    "        marker=dict(\n",
    "            colors=df_all_trees[\"color\"], colorscale=\"RdBu\", cmid=average_score\n",
    "        ),\n",
    "        hovertemplate=\"<b>%{label} </b> <br> Sales: %{value}<br> Success rate: %{color:.2f}\",\n",
    "        name=\"\",\n",
    "    ),\n",
    "    1,\n",
    "    1,\n",
    ")\n",
    "\n",
    "fig.add_trace(\n",
    "    go.Treemap(\n",
    "        labels=df_all_trees[\"id\"],\n",
    "        parents=df_all_trees[\"parent\"],\n",
    "        values=df_all_trees[\"value\"],\n",
    "        branchvalues=\"total\",\n",
    "        marker=dict(\n",
    "            colors=df_all_trees[\"color\"], colorscale=\"RdBu\", cmid=average_score\n",
    "        ),\n",
    "        hovertemplate=\"<b>%{label} </b> <br> Sales: %{value}<br> Success rate: %{color:.2f}\",\n",
    "        maxdepth=2,\n",
    "    ),\n",
    "    1,\n",
    "    2,\n",
    ")\n",
    "\n",
    "fig.update_layout(margin=dict(t=50, l=25, r=25, b=25))\n",
    "fig.show()"
   ]
  },
  {
   "cell_type": "markdown",
   "id": "8d4a09d1-58ea-4f4a-b6a9-e989dd8dcdd6",
   "metadata": {
    "papermill": {},
    "tags": []
   },
   "source": [
    "### Nested Layers in Treemap\n",
    "The following example uses hierarchical data that includes layers and grouping. Treemap and Sunburst charts reveal insights into the data, and the format of your hierarchical data. maxdepth attribute sets the number of rendered sectors from the given level."
   ]
  },
  {
   "cell_type": "code",
   "execution_count": null,
   "id": "8e4e1e6f-9af8-451d-9331-9335f4fec3c0",
   "metadata": {
    "papermill": {},
    "tags": []
   },
   "outputs": [],
   "source": [
    "df = pd.read_csv(\n",
    "    \"https://raw.githubusercontent.com/plotly/datasets/96c0bd/sunburst-coffee-flavors-complete.csv\"\n",
    ")\n",
    "\n",
    "fig = go.Figure()\n",
    "\n",
    "fig.add_trace(\n",
    "    go.Treemap(\n",
    "        ids=df.ids,\n",
    "        labels=df.labels,\n",
    "        parents=df.parents,\n",
    "        maxdepth=3,\n",
    "        root_color=\"lightgrey\",\n",
    "    )\n",
    ")\n",
    "\n",
    "fig.update_layout(margin=dict(t=50, l=25, r=25, b=25))\n",
    "\n",
    "fig.show()"
   ]
  },
  {
   "cell_type": "markdown",
   "id": "24f18176-996e-4bf1-80c7-bf0cf1b4aac4",
   "metadata": {
    "papermill": {},
    "tags": []
   },
   "source": [
    "### Controlling text fontsize with uniformtext\n",
    "If you want all the text labels to have the same size, you can use the uniformtext layout parameter. The minsize attribute sets the font size, and the mode attribute sets what happens for labels which cannot fit with the desired fontsize: either hide them or show them with overflow.\n",
    "\n",
    "Note: animated transitions are currently not implemented when uniformtext is used."
   ]
  },
  {
   "cell_type": "code",
   "execution_count": null,
   "id": "86ed9f0c-ebe0-4d45-b322-32aa17eb719d",
   "metadata": {
    "papermill": {},
    "tags": []
   },
   "outputs": [],
   "source": [
    "df = pd.read_csv(\n",
    "    \"https://raw.githubusercontent.com/plotly/datasets/96c0bd/sunburst-coffee-flavors-complete.csv\"\n",
    ")\n",
    "\n",
    "fig = go.Figure(\n",
    "    go.Treemap(\n",
    "        ids=df.ids,\n",
    "        labels=df.labels,\n",
    "        parents=df.parents,\n",
    "        pathbar_textfont_size=15,\n",
    "        root_color=\"lightgrey\",\n",
    "    )\n",
    ")\n",
    "fig.update_layout(\n",
    "    uniformtext=dict(minsize=10, mode=\"hide\"), margin=dict(t=50, l=25, r=25, b=25)\n",
    ")\n",
    "fig.show()"
   ]
  },
  {
   "cell_type": "markdown",
   "id": "lonely-pacific",
   "metadata": {
    "execution": {
     "iopub.execute_input": "2021-07-02T23:32:10.789097Z",
     "iopub.status.busy": "2021-07-02T23:32:10.788829Z",
     "iopub.status.idle": "2021-07-02T23:32:10.796900Z",
     "shell.execute_reply": "2021-07-02T23:32:10.796358Z",
     "shell.execute_reply.started": "2021-07-02T23:32:10.789033Z"
    },
    "papermill": {},
    "tags": []
   },
   "source": [
    "## Output"
   ]
  },
  {
   "cell_type": "markdown",
   "id": "733e3cae-617f-416f-9fad-3646e184f25d",
   "metadata": {
    "papermill": {},
    "tags": []
   },
   "source": [
    "### Save and share your graph as PNG"
   ]
  },
  {
   "cell_type": "code",
   "execution_count": null,
   "id": "6898d8d0-57e0-4f66-a062-ba46446b0c8b",
   "metadata": {
    "papermill": {},
    "tags": []
   },
   "outputs": [],
   "source": [
    "fig.write_image(png_output)\n",
    "\n",
    "# Share output with naas\n",
    "naas.asset.add(png_output)\n",
    "\n",
    "# -> Uncomment the line below to remove your asset\n",
    "# naas.asset.delete(html_output)"
   ]
  },
  {
   "cell_type": "markdown",
   "id": "373930eb-48e0-4770-8bd6-ccc2fa572493",
   "metadata": {
    "papermill": {},
    "tags": []
   },
   "source": [
    "### Save and share your graph as HTML"
   ]
  },
  {
   "cell_type": "code",
   "execution_count": null,
   "id": "40e276bb-ee42-43b0-9d26-48fd48955747",
   "metadata": {
    "papermill": {},
    "tags": []
   },
   "outputs": [],
   "source": [
    "fig.write_html(html_output)\n",
    "\n",
    "# Share output with naas\n",
    "naas.asset.add(html_output, params={\"inline\": True})\n",
    "\n",
    "# -> Uncomment the line below to remove your asset\n",
    "# naas.asset.delete(html_output)"
   ]
  }
 ],
 "metadata": {
  "kernelspec": {
   "display_name": "Python 3",
   "language": "python",
   "name": "python3"
  },
  "language_info": {
   "codemirror_mode": {
    "name": "ipython",
    "version": 3
   },
   "file_extension": ".py",
   "mimetype": "text/x-python",
   "name": "python",
   "nbconvert_exporter": "python",
   "pygments_lexer": "ipython3",
   "version": "3.9.6"
  },
  "naas": {
   "notebook_id": "33642dbaa758ab80c8d181a5e069bbd51c833d71d3f5b8802bd45cd6f7062ff9",
   "notebook_path": "Plotly/Plotly_Create_Treemaps_with_plotly.graph_objects.ipynb"
  },
  "papermill": {
   "default_parameters": {},
   "environment_variables": {},
   "parameters": {},
   "version": "2.3.3"
  },
  "widgets": {
   "application/vnd.jupyter.widget-state+json": {
    "state": {},
    "version_major": 2,
    "version_minor": 0
   }
  }
 },
 "nbformat": 4,
 "nbformat_minor": 5
}