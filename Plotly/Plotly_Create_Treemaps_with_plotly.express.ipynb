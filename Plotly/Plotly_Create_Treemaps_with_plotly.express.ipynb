{
 "cells": [
  {
   "cell_type": "markdown",
   "id": "latin-packing",
   "metadata": {
    "execution": {
     "iopub.execute_input": "2021-02-23T14:22:16.610471Z",
     "iopub.status.busy": "2021-02-23T14:22:16.610129Z",
     "iopub.status.idle": "2021-02-23T14:22:16.627784Z",
     "shell.execute_reply": "2021-02-23T14:22:16.626866Z",
     "shell.execute_reply.started": "2021-02-23T14:22:16.610384Z"
    },
    "papermill": {},
    "tags": []
   },
   "source": [
    "<img width=\"10%\" alt=\"Naas\" src=\"https://landen.imgix.net/jtci2pxwjczr/assets/5ice39g4.png?w=160\"/>"
   ]
  },
  {
   "cell_type": "markdown",
   "id": "compressed-wilson",
   "metadata": {
    "papermill": {},
    "tags": []
   },
   "source": [
    "# Plotly - Create Treemaps with plotly.express\n",
    "<a href=\"https://app.naas.ai/user-redirect/naas/downloader?url=https://raw.githubusercontent.com/jupyter-naas/awesome-notebooks/master/Plotly/Plotly_Create_Treemaps_with_plotly.express.ipynb\" target=\"_parent\"><img src=\"https://naasai-public.s3.eu-west-3.amazonaws.com/open_in_naas.svg\"/></a><br><br><a href=\"https://github.com/jupyter-naas/awesome-notebooks/issues/new?assignees=&labels=&template=template-request.md&title=Tool+-+Action+of+the+notebook+\">Template request</a> | <a href=\"https://github.com/jupyter-naas/awesome-notebooks/issues/new?assignees=&labels=bug&template=bug_report.md&title=Plotly+-+Create+Treemaps+with+plotly.express:+Error+short+description\">Bug report</a>"
   ]
  },
  {
   "cell_type": "markdown",
   "id": "religious-programmer",
   "metadata": {
    "papermill": {},
    "tags": []
   },
   "source": [
    "**Tags:** #plotly #treemap #snippet #dataviz #plotly.express #px"
   ]
  },
  {
   "cell_type": "markdown",
   "id": "1fe9f56e-561c-4f52-aef8-b861c9462107",
   "metadata": {
    "papermill": {},
    "tags": []
   },
   "source": [
    "**Author:** [Florent Ravenel](https://www.linkedin.com/in/florent-ravenel/)"
   ]
  },
  {
   "cell_type": "markdown",
   "id": "31ea7cdb-e10d-43fc-b026-f69249a59736",
   "metadata": {
    "papermill": {},
    "tags": []
   },
   "source": [
    "**Description:** This notebook creates Treemaps with plotly.express. Plotly Express is the easy-to-use, high-level interface to Plotly, which operates on a variety of types of data and produces easy-to-style figures."
   ]
  },
  {
   "cell_type": "markdown",
   "id": "f2161e74-0bb5-4524-9c59-4a8e12cc7070",
   "metadata": {
    "execution": {
     "iopub.execute_input": "2023-01-31T07:36:23.088474Z",
     "iopub.status.busy": "2023-01-31T07:36:23.088192Z",
     "iopub.status.idle": "2023-01-31T07:36:23.111586Z",
     "shell.execute_reply": "2023-01-31T07:36:23.109451Z",
     "shell.execute_reply.started": "2023-01-31T07:36:23.088407Z"
    },
    "papermill": {},
    "tags": []
   },
   "source": [
    "<u>References:</u>\n",
    "- https://plotly.com/python/treemaps/\n",
    "- https://plotly.com/python-api-reference/generated/plotly.express.treemap"
   ]
  },
  {
   "cell_type": "markdown",
   "id": "distinguished-truth",
   "metadata": {
    "papermill": {},
    "tags": []
   },
   "source": [
    "## Input"
   ]
  },
  {
   "cell_type": "markdown",
   "id": "numeric-mediterranean",
   "metadata": {
    "papermill": {},
    "tags": []
   },
   "source": [
    "### Import libraries"
   ]
  },
  {
   "cell_type": "code",
   "execution_count": 1,
   "id": "potential-surfing",
   "metadata": {
    "execution": {
     "iopub.execute_input": "2023-01-31T15:10:29.428825Z",
     "iopub.status.busy": "2023-01-31T15:10:29.427794Z",
     "iopub.status.idle": "2023-01-31T15:10:34.982032Z",
     "shell.execute_reply": "2023-01-31T15:10:34.981383Z",
     "shell.execute_reply.started": "2023-01-31T15:10:29.428743Z"
    },
    "papermill": {},
    "tags": []
   },
   "outputs": [],
   "source": [
    "import plotly.express as px\n",
    "import numpy as np\n",
    "import pandas as pd\n",
    "import naas"
   ]
  },
  {
   "cell_type": "markdown",
   "id": "28550d7b-912e-4260-adbf-4ca423b51d27",
   "metadata": {
    "papermill": {},
    "tags": []
   },
   "source": [
    "### Setup Variables"
   ]
  },
  {
   "cell_type": "code",
   "execution_count": 2,
   "id": "bf64d523-191f-42d8-ab2c-f2692d93d9f0",
   "metadata": {
    "execution": {
     "iopub.execute_input": "2023-01-31T15:10:34.986614Z",
     "iopub.status.busy": "2023-01-31T15:10:34.986216Z",
     "iopub.status.idle": "2023-01-31T15:10:34.989675Z",
     "shell.execute_reply": "2023-01-31T15:10:34.989119Z",
     "shell.execute_reply.started": "2023-01-31T15:10:34.986582Z"
    },
    "papermill": {},
    "tags": []
   },
   "outputs": [],
   "source": [
    "# Outputs\n",
    "html_output = \"Treemap_plotly_express.html\"\n",
    "png_output = \"Treemap_plotly_express.png\""
   ]
  },
  {
   "cell_type": "markdown",
   "id": "registered-showcase",
   "metadata": {
    "papermill": {},
    "tags": []
   },
   "source": [
    "## Model"
   ]
  },
  {
   "cell_type": "markdown",
   "id": "68ca9a03-004b-42b1-ada5-a82e8a31edc6",
   "metadata": {
    "papermill": {},
    "tags": []
   },
   "source": [
    "### Basic Treemap with plotly.express\n",
    "With px.treemap, each row of the DataFrame is represented as a sector of the treemap."
   ]
  },
  {
   "cell_type": "code",
   "execution_count": 3,
   "id": "ad2cccad-3479-4ae7-95d3-f849f86cfeab",
   "metadata": {
    "execution": {
     "iopub.execute_input": "2023-01-31T15:10:34.991152Z",
     "iopub.status.busy": "2023-01-31T15:10:34.990778Z",
     "iopub.status.idle": "2023-01-31T15:10:38.662726Z",
     "shell.execute_reply": "2023-01-31T15:10:38.662172Z",
     "shell.execute_reply.started": "2023-01-31T15:10:34.991123Z"
    },
    "papermill": {},
    "tags": []
   },
   "outputs": [],
   "source": [
    "fig = px.treemap(\n",
    "    names=[\"Eve\", \"Cain\", \"Seth\", \"Enos\", \"Noam\", \"Abel\", \"Awan\", \"Enoch\", \"Azura\"],\n",
    "    parents=[\"\", \"Eve\", \"Eve\", \"Seth\", \"Seth\", \"Eve\", \"Eve\", \"Awan\", \"Eve\"],\n",
    ")\n",
    "fig.update_traces(root_color=\"lightgrey\")\n",
    "fig.update_layout(margin=dict(t=50, l=25, r=25, b=25))\n",
    "fig.show()"
   ]
  },
  {
   "cell_type": "markdown",
   "id": "1f1d7129-8149-43b2-81d3-edd6839db4bd",
   "metadata": {
    "papermill": {},
    "tags": []
   },
   "source": [
    "### Treemap of a rectangular DataFrame with plotly.express\n",
    "Hierarchical data are often stored as a rectangular dataframe, with different columns corresponding to different levels of the hierarchy. px.treemap can take a path parameter corresponding to a list of columns. Note that id and parent should not be provided if path is given."
   ]
  },
  {
   "cell_type": "code",
   "execution_count": 4,
   "id": "aea89797-4031-49f4-9601-d8206e668e53",
   "metadata": {
    "execution": {
     "iopub.execute_input": "2023-01-31T15:10:38.664098Z",
     "iopub.status.busy": "2023-01-31T15:10:38.663738Z",
     "iopub.status.idle": "2023-01-31T15:10:38.822897Z",
     "shell.execute_reply": "2023-01-31T15:10:38.822194Z",
     "shell.execute_reply.started": "2023-01-31T15:10:38.664070Z"
    },
    "papermill": {},
    "tags": []
   },
   "outputs": [],
   "source": [
    "df = px.data.tips()\n",
    "fig = px.treemap(\n",
    "    df, path=[px.Constant(\"all\"), \"day\", \"time\", \"sex\"], values=\"total_bill\"\n",
    ")\n",
    "fig.update_traces(root_color=\"lightgrey\")\n",
    "fig.update_layout(margin=dict(t=50, l=25, r=25, b=25))\n",
    "fig.show()"
   ]
  },
  {
   "cell_type": "markdown",
   "id": "4a62e20a-6a41-4ca2-8ce4-e22590d3b974",
   "metadata": {
    "papermill": {},
    "tags": []
   },
   "source": [
    "### Treemap of a rectangular DataFrame with continuous color argument in px.treemap\n",
    "If a color argument is passed, the color of a node is computed as the average of the color values of its children, weighted by their values.\n",
    "\n",
    "Note: for best results, ensure that the first path element is a single root node. In the examples below we are creating a dummy column containing identical values for each row to achieve this."
   ]
  },
  {
   "cell_type": "code",
   "execution_count": 5,
   "id": "2cd39ec7-41bb-4a41-8869-0846a64cdfb7",
   "metadata": {
    "execution": {
     "iopub.execute_input": "2023-01-31T15:10:38.824218Z",
     "iopub.status.busy": "2023-01-31T15:10:38.823981Z",
     "iopub.status.idle": "2023-01-31T15:10:39.097952Z",
     "shell.execute_reply": "2023-01-31T15:10:39.096237Z",
     "shell.execute_reply.started": "2023-01-31T15:10:38.824188Z"
    },
    "papermill": {},
    "tags": []
   },
   "outputs": [],
   "source": [
    "df = px.data.gapminder().query(\"year == 2007\")\n",
    "fig = px.treemap(\n",
    "    df,\n",
    "    path=[px.Constant(\"world\"), \"continent\", \"country\"],\n",
    "    values=\"pop\",\n",
    "    color=\"lifeExp\",\n",
    "    hover_data=[\"iso_alpha\"],\n",
    "    color_continuous_scale=\"RdBu\",\n",
    "    color_continuous_midpoint=np.average(df[\"lifeExp\"], weights=df[\"pop\"]),\n",
    ")\n",
    "fig.update_layout(margin=dict(t=50, l=25, r=25, b=25))\n",
    "fig.show()"
   ]
  },
  {
   "cell_type": "markdown",
   "id": "812d8b29-8154-4b0c-b289-f989599fd36a",
   "metadata": {
    "papermill": {},
    "tags": []
   },
   "source": [
    "### Treemap of a rectangular DataFrame with discrete color argument in px.treemap\n",
    "When the argument of color corresponds to non-numerical data, discrete colors are used. If a sector has the same value of the color column for all its children, then the corresponding color is used, otherwise the first color of the discrete color sequence is used."
   ]
  },
  {
   "cell_type": "code",
   "execution_count": 6,
   "id": "53dcb063-ec73-4ca9-bc8a-7718eb078f3d",
   "metadata": {
    "execution": {
     "iopub.execute_input": "2023-01-31T15:10:39.099262Z",
     "iopub.status.busy": "2023-01-31T15:10:39.098978Z",
     "iopub.status.idle": "2023-01-31T15:10:39.245598Z",
     "shell.execute_reply": "2023-01-31T15:10:39.244914Z",
     "shell.execute_reply.started": "2023-01-31T15:10:39.099231Z"
    },
    "papermill": {},
    "tags": []
   },
   "outputs": [],
   "source": [
    "df = px.data.tips()\n",
    "fig = px.treemap(\n",
    "    df,\n",
    "    path=[px.Constant(\"all\"), \"sex\", \"day\", \"time\"],\n",
    "    values=\"total_bill\",\n",
    "    color=\"day\",\n",
    ")\n",
    "fig.update_layout(margin=dict(t=50, l=25, r=25, b=25))\n",
    "fig.show()"
   ]
  },
  {
   "cell_type": "markdown",
   "id": "8d4a09d1-58ea-4f4a-b6a9-e989dd8dcdd6",
   "metadata": {
    "papermill": {},
    "tags": []
   },
   "source": [
    "In the example below the color of Saturday and Sunday sectors is the same as Dinner because there are only Dinner entries for Saturday and Sunday. However, for Female -> Friday there are both lunches and dinners, hence the \"mixed\" color (blue here) is used."
   ]
  },
  {
   "cell_type": "code",
   "execution_count": 7,
   "id": "8e4e1e6f-9af8-451d-9331-9335f4fec3c0",
   "metadata": {
    "execution": {
     "iopub.execute_input": "2023-01-31T15:10:39.246971Z",
     "iopub.status.busy": "2023-01-31T15:10:39.246608Z",
     "iopub.status.idle": "2023-01-31T15:10:39.408547Z",
     "shell.execute_reply": "2023-01-31T15:10:39.407878Z",
     "shell.execute_reply.started": "2023-01-31T15:10:39.246937Z"
    },
    "papermill": {},
    "tags": []
   },
   "outputs": [],
   "source": [
    "df = px.data.tips()\n",
    "fig = px.treemap(\n",
    "    df,\n",
    "    path=[px.Constant(\"all\"), \"sex\", \"day\", \"time\"],\n",
    "    values=\"total_bill\",\n",
    "    color=\"time\",\n",
    ")\n",
    "fig.update_layout(margin=dict(t=50, l=25, r=25, b=25))\n",
    "fig.show()"
   ]
  },
  {
   "cell_type": "markdown",
   "id": "24f18176-996e-4bf1-80c7-bf0cf1b4aac4",
   "metadata": {
    "papermill": {},
    "tags": []
   },
   "source": [
    "### Using an explicit mapping for discrete colors\n",
    "For more information about discrete colors, see the [dedicated page](https://plotly.com/python/discrete-color/)."
   ]
  },
  {
   "cell_type": "code",
   "execution_count": 8,
   "id": "86ed9f0c-ebe0-4d45-b322-32aa17eb719d",
   "metadata": {
    "execution": {
     "iopub.execute_input": "2023-01-31T15:10:39.409831Z",
     "iopub.status.busy": "2023-01-31T15:10:39.409563Z",
     "iopub.status.idle": "2023-01-31T15:10:39.533040Z",
     "shell.execute_reply": "2023-01-31T15:10:39.532315Z",
     "shell.execute_reply.started": "2023-01-31T15:10:39.409801Z"
    },
    "papermill": {},
    "tags": []
   },
   "outputs": [],
   "source": [
    "df = px.data.tips()\n",
    "fig = px.treemap(\n",
    "    df,\n",
    "    path=[px.Constant(\"all\"), \"sex\", \"day\", \"time\"],\n",
    "    values=\"total_bill\",\n",
    "    color=\"time\",\n",
    "    color_discrete_map={\"(?)\": \"lightgrey\", \"Lunch\": \"gold\", \"Dinner\": \"darkblue\"},\n",
    ")\n",
    "fig.update_layout(margin=dict(t=50, l=25, r=25, b=25))\n",
    "fig.show()"
   ]
  },
  {
   "cell_type": "markdown",
   "id": "01890132-5c7d-40ac-bfbb-59eb71a31a2b",
   "metadata": {
    "papermill": {},
    "tags": []
   },
   "source": [
    "### Rectangular data with missing values\n",
    "If the dataset is not fully rectangular, missing values should be supplied as None."
   ]
  },
  {
   "cell_type": "code",
   "execution_count": 9,
   "id": "b0c2e269-bf20-4ddf-bcdf-c4559653da6a",
   "metadata": {
    "execution": {
     "iopub.execute_input": "2023-01-31T15:10:39.534411Z",
     "iopub.status.busy": "2023-01-31T15:10:39.534161Z",
     "iopub.status.idle": "2023-01-31T15:10:39.651465Z",
     "shell.execute_reply": "2023-01-31T15:10:39.650626Z",
     "shell.execute_reply.started": "2023-01-31T15:10:39.534379Z"
    },
    "papermill": {},
    "tags": []
   },
   "outputs": [],
   "source": [
    "vendors = [\"A\", \"B\", \"C\", \"D\", None, \"E\", \"F\", \"G\", \"H\", None]\n",
    "sectors = [\n",
    "    \"Tech\",\n",
    "    \"Tech\",\n",
    "    \"Finance\",\n",
    "    \"Finance\",\n",
    "    \"Other\",\n",
    "    \"Tech\",\n",
    "    \"Tech\",\n",
    "    \"Finance\",\n",
    "    \"Finance\",\n",
    "    \"Other\",\n",
    "]\n",
    "regions = [\n",
    "    \"North\",\n",
    "    \"North\",\n",
    "    \"North\",\n",
    "    \"North\",\n",
    "    \"North\",\n",
    "    \"South\",\n",
    "    \"South\",\n",
    "    \"South\",\n",
    "    \"South\",\n",
    "    \"South\",\n",
    "]\n",
    "sales = [1, 3, 2, 4, 1, 2, 2, 1, 4, 1]\n",
    "df = pd.DataFrame(dict(vendors=vendors, sectors=sectors, regions=regions, sales=sales))\n",
    "df[\"all\"] = \"all\"  # in order to have a single root node\n",
    "print(df)\n",
    "fig = px.treemap(df, path=[\"all\", \"regions\", \"sectors\", \"vendors\"], values=\"sales\")\n",
    "fig.update_traces(root_color=\"lightgrey\")\n",
    "fig.update_layout(margin=dict(t=50, l=25, r=25, b=25))\n",
    "fig.show()"
   ]
  },
  {
   "cell_type": "markdown",
   "id": "lonely-pacific",
   "metadata": {
    "execution": {
     "iopub.execute_input": "2021-07-02T23:32:10.789097Z",
     "iopub.status.busy": "2021-07-02T23:32:10.788829Z",
     "iopub.status.idle": "2021-07-02T23:32:10.796900Z",
     "shell.execute_reply": "2021-07-02T23:32:10.796358Z",
     "shell.execute_reply.started": "2021-07-02T23:32:10.789033Z"
    },
    "papermill": {},
    "tags": []
   },
   "source": [
    "## Output"
   ]
  },
  {
   "cell_type": "markdown",
   "id": "733e3cae-617f-416f-9fad-3646e184f25d",
   "metadata": {
    "papermill": {},
    "tags": []
   },
   "source": [
    "### Save and share your graph as PNG"
   ]
  },
  {
   "cell_type": "code",
   "execution_count": 10,
   "id": "6898d8d0-57e0-4f66-a062-ba46446b0c8b",
   "metadata": {
    "execution": {
     "iopub.execute_input": "2023-01-31T15:10:39.652925Z",
     "iopub.status.busy": "2023-01-31T15:10:39.652667Z",
     "iopub.status.idle": "2023-01-31T15:10:41.009949Z",
     "shell.execute_reply": "2023-01-31T15:10:41.009255Z",
     "shell.execute_reply.started": "2023-01-31T15:10:39.652892Z"
    },
    "papermill": {},
    "tags": []
   },
   "outputs": [],
   "source": [
    "fig.write_image(png_output)\n",
    "\n",
    "# Share output with naas\n",
    "naas.asset.add(png_output)\n",
    "\n",
    "# -> Uncomment the line below to remove your asset\n",
    "# naas.asset.delete(html_output)"
   ]
  },
  {
   "cell_type": "markdown",
   "id": "373930eb-48e0-4770-8bd6-ccc2fa572493",
   "metadata": {
    "papermill": {},
    "tags": []
   },
   "source": [
    "### Save and share your graph as HTML"
   ]
  },
  {
   "cell_type": "code",
   "execution_count": 11,
   "id": "40e276bb-ee42-43b0-9d26-48fd48955747",
   "metadata": {
    "execution": {
     "iopub.execute_input": "2023-01-31T15:10:41.011475Z",
     "iopub.status.busy": "2023-01-31T15:10:41.011235Z",
     "iopub.status.idle": "2023-01-31T15:10:41.904354Z",
     "shell.execute_reply": "2023-01-31T15:10:41.903735Z",
     "shell.execute_reply.started": "2023-01-31T15:10:41.011442Z"
    },
    "papermill": {},
    "tags": []
   },
   "outputs": [],
   "source": [
    "fig.write_html(html_output)\n",
    "\n",
    "# Share output with naas\n",
    "naas.asset.add(html_output, params={\"inline\": True})\n",
    "\n",
    "# -> Uncomment the line below to remove your asset\n",
    "# naas.asset.delete(html_output)"
   ]
  }
 ],
 "metadata": {
  "kernelspec": {
   "display_name": "Python 3",
   "language": "python",
   "name": "python3"
  },
  "language_info": {
   "codemirror_mode": {
    "name": "ipython",
    "version": 3
   },
   "file_extension": ".py",
   "mimetype": "text/x-python",
   "name": "python",
   "nbconvert_exporter": "python",
   "pygments_lexer": "ipython3",
   "version": "3.9.6"
  },
  "papermill": {
   "default_parameters": {},
   "environment_variables": {},
   "parameters": {},
   "version": "2.3.3"
  },
  "widgets": {
   "application/vnd.jupyter.widget-state+json": {
    "state": {},
    "version_major": 2,
    "version_minor": 0
   }
  }
 },
 "nbformat": 4,
 "nbformat_minor": 5
}