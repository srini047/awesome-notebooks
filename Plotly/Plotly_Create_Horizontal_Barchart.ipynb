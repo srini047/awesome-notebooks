{
 "cells": [
  {
   "cell_type": "markdown",
   "id": "c2d4e392-15c4-48ff-8aa6-31ccdcf18ee3",
   "metadata": {
    "papermill": {},
    "tags": []
   },
   "source": [
    "<img width=\"10%\" alt=\"Naas\" src=\"https://landen.imgix.net/jtci2pxwjczr/assets/5ice39g4.png?w=160\"/>\n"
   ]
  },
  {
   "cell_type": "markdown",
   "id": "military-doubt",
   "metadata": {
    "papermill": {},
    "tags": []
   },
   "source": [
    "# Plotly - Create Horizontal Barchart\n",
    "<a href=\"https://app.naas.ai/user-redirect/naas/downloader?url=https://raw.githubusercontent.com/jupyter-naas/awesome-notebooks/master/Plotly/Plotly_Create_Horizontal_Barchart.ipynb\" target=\"_parent\"><img src=\"https://naasai-public.s3.eu-west-3.amazonaws.com/Open_in_Naas_Lab.svg\"/></a><br><br><a href=\"https://github.com/jupyter-naas/awesome-notebooks/issues/new?assignees=&labels=&template=template-request.md&title=Tool+-+Action+of+the+notebook+\">Template request</a> | <a href=\"https://github.com/jupyter-naas/awesome-notebooks/issues/new?assignees=&labels=bug&template=bug_report.md&title=Plotly+-+Create+Horizontal+Barchart:+Error+short+description\">Bug report</a> | <a href=\"https://app.naas.ai/user-redirect/naas/downloader?url=https://raw.githubusercontent.com/jupyter-naas/awesome-notebooks/master/Naas/Naas_Start_data_product.ipynb\" target=\"_parent\">Generate Data Product</a>"
   ]
  },
  {
   "cell_type": "markdown",
   "id": "bd0a026e-6c1a-4d45-b60a-c5a2592c73c5",
   "metadata": {
    "papermill": {},
    "tags": []
   },
   "source": [
    "**Tags:** #plotly #chart #horizontalbar #dataviz #snippet #operations #image #html"
   ]
  },
  {
   "cell_type": "markdown",
   "id": "naas-author",
   "metadata": {
    "papermill": {},
    "tags": [
     "naas"
    ]
   },
   "source": [
    "**Author:** [Florent Ravenel](https://www.linkedin.com/in/ACoAABCNSioBW3YZHc2lBHVG0E_TXYWitQkmwog/)"
   ]
  },
  {
   "cell_type": "markdown",
   "id": "naas-description",
   "metadata": {
    "papermill": {},
    "tags": [
     "description"
    ]
   },
   "source": [
    "**Description:** This notebook provides instructions on how to create a horizontal bar chart using Plotly."
   ]
  },
  {
   "cell_type": "markdown",
   "id": "input_cell",
   "metadata": {
    "papermill": {},
    "tags": []
   },
   "source": [
    "## Input"
   ]
  },
  {
   "cell_type": "markdown",
   "id": "import_cell",
   "metadata": {
    "papermill": {},
    "tags": []
   },
   "source": [
    "### Import library"
   ]
  },
  {
   "cell_type": "code",
   "execution_count": 4,
   "id": "52e927f2-d9d4-48d1-bcbe-76191991ba74",
   "metadata": {
    "papermill": {},
    "tags": []
   },
   "outputs": [],
   "source": [
    "import plotly.graph_objects as go"
   ]
  },
  {
   "cell_type": "markdown",
   "id": "model_cell",
   "metadata": {
    "papermill": {},
    "tags": []
   },
   "source": [
    "## Model"
   ]
  },
  {
   "cell_type": "markdown",
   "id": "ccfe8de8-0314-49d7-8fd5-5669f35a2af4",
   "metadata": {
    "papermill": {},
    "tags": []
   },
   "source": [
    "### Create the plot"
   ]
  },
  {
   "cell_type": "code",
   "execution_count": 11,
   "id": "active-account",
   "metadata": {
    "papermill": {},
    "tags": []
   },
   "outputs": [],
   "source": [
    "fig = go.Figure(\n",
    "    go.Bar(\n",
    "        x=[20, 14, 23],\n",
    "        y=[\"giraffes\", \"orangutans\", \"monkeys\"],\n",
    "        orientation=\"h\",\n",
    "        text=[20, 14, 23],\n",
    "    )\n",
    ")\n",
    "fig.update_layout(\n",
    "    title=\"Horizontal barchart\",\n",
    "    plot_bgcolor=\"#ffffff\",\n",
    "    width=1200,\n",
    "    height=800,\n",
    "    margin_pad=10,\n",
    "    xaxis_showticklabels=False,\n",
    "    bargap=0.1,  # gap between bars of adjacent location coordinates.\n",
    "    bargroupgap=0.2,  # gap between bars of the same location coordinate.\n",
    ")\n",
    "config = {\"displayModeBar\": False}\n",
    "fig.show(config=config)"
   ]
  },
  {
   "cell_type": "markdown",
   "id": "output_cell",
   "metadata": {
    "papermill": {},
    "tags": []
   },
   "source": [
    "## Output"
   ]
  },
  {
   "cell_type": "markdown",
   "id": "display_cell",
   "metadata": {
    "papermill": {},
    "tags": []
   },
   "source": [
    "### Export in PNG and HTML"
   ]
  },
  {
   "cell_type": "code",
   "execution_count": null,
   "id": "touched-nurse",
   "metadata": {
    "papermill": {},
    "tags": []
   },
   "outputs": [],
   "source": [
    "fig.write_image(output_image, width=1200)\n",
    "fig.write_html(output_html)"
   ]
  },
  {
   "cell_type": "markdown",
   "id": "16adb8c4-2834-4bc0-b942-7898465b235e",
   "metadata": {
    "papermill": {},
    "tags": []
   },
   "source": [
    "### Generate shareable assets"
   ]
  },
  {
   "cell_type": "code",
   "execution_count": null,
   "id": "7800b0cc-2657-4d6b-9379-34e32cb6ed26",
   "metadata": {
    "papermill": {},
    "tags": []
   },
   "outputs": [],
   "source": [
    "link_image = naas.asset.add(output_image)\n",
    "link_html = naas.asset.add(output_html, {\"inline\": True})\n",
    "\n",
    "# -> Uncomment the line below to remove your assets\n",
    "# naas.asset.delete(output_image)\n",
    "# naas.asset.delete(output_html)"
   ]
  }
 ],
 "metadata": {
  "kernelspec": {
   "display_name": "Python 3",
   "language": "python",
   "name": "python3"
  },
  "language_info": {
   "codemirror_mode": {
    "name": "ipython",
    "version": 3
   },
   "file_extension": ".py",
   "mimetype": "text/x-python",
   "name": "python",
   "nbconvert_exporter": "python",
   "pygments_lexer": "ipython3",
   "version": "3.8.8"
  },
  "naas": {
   "notebook_id": "f71d07001cfdc2d67718ef0fd91d6bcab1b1c98e043fdbf770d52276f6449f3b",
   "notebook_path": "Plotly/Plotly_Create_Horizontal_Barchart.ipynb"
  },
  "papermill": {
   "default_parameters": {},
   "environment_variables": {},
   "parameters": {},
   "version": "2.3.3"
  }
 },
 "nbformat": 4,
 "nbformat_minor": 5
}