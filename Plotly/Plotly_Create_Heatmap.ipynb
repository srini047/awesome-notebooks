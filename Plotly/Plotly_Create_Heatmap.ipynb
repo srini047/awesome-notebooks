{
 "cells": [
  {
   "cell_type": "markdown",
   "id": "258570e7-30c0-4931-8b26-220176827b1a",
   "metadata": {
    "papermill": {},
    "tags": []
   },
   "source": [
    "<img width=\"10%\" alt=\"Naas\" src=\"https://landen.imgix.net/jtci2pxwjczr/assets/5ice39g4.png?w=160\"/>\n"
   ]
  },
  {
   "cell_type": "markdown",
   "id": "bibliographic-reach",
   "metadata": {
    "papermill": {},
    "tags": []
   },
   "source": [
    "# Plotly - Create Heatmap\n",
    "<a href=\"https://app.naas.ai/user-redirect/naas/downloader?url=https://raw.githubusercontent.com/jupyter-naas/awesome-notebooks/master/Plotly/Plotly_Create_Heatmap.ipynb\" target=\"_parent\"><img src=\"https://naasai-public.s3.eu-west-3.amazonaws.com/Open_in_Naas_Lab.svg\"/></a><br><br><a href=\"https://github.com/jupyter-naas/awesome-notebooks/issues/new?assignees=&labels=&template=template-request.md&title=Tool+-+Action+of+the+notebook+\">Template request</a> | <a href=\"https://github.com/jupyter-naas/awesome-notebooks/issues/new?assignees=&labels=bug&template=bug_report.md&title=Plotly+-+Create+Heatmap:+Error+short+description\">Bug report</a> | <a href=\"https://app.naas.ai/user-redirect/naas/downloader?url=https://raw.githubusercontent.com/jupyter-naas/awesome-notebooks/master/Naas/Naas_Start_data_product.ipynb\" target=\"_parent\">Generate Data Product</a>"
   ]
  },
  {
   "cell_type": "markdown",
   "id": "91ea1e69-37f6-4eda-87d9-edb0f388e167",
   "metadata": {
    "papermill": {},
    "tags": []
   },
   "source": [
    "**Tags:** #plotly #chart #heatmap #dataviz #snippet #operations #image #html"
   ]
  },
  {
   "cell_type": "markdown",
   "id": "naas-author",
   "metadata": {
    "papermill": {},
    "tags": [
     "naas"
    ]
   },
   "source": [
    "**Author:** [Florent Ravenel](https://www.linkedin.com/in/ACoAABCNSioBW3YZHc2lBHVG0E_TXYWitQkmwog/)"
   ]
  },
  {
   "cell_type": "markdown",
   "id": "naas-description",
   "metadata": {
    "papermill": {},
    "tags": [
     "description"
    ]
   },
   "source": [
    "**Description:** This notebook provides an example of how to create a heatmap using the Plotly library."
   ]
  },
  {
   "cell_type": "markdown",
   "id": "considered-tanzania",
   "metadata": {
    "papermill": {},
    "tags": []
   },
   "source": [
    "## Input"
   ]
  },
  {
   "cell_type": "markdown",
   "id": "import_cell",
   "metadata": {
    "papermill": {},
    "tags": []
   },
   "source": [
    "### Import libraries"
   ]
  },
  {
   "cell_type": "code",
   "execution_count": 9,
   "id": "demographic-chess",
   "metadata": {
    "papermill": {},
    "tags": []
   },
   "outputs": [],
   "source": [
    "import naas\n",
    "import plotly.graph_objects as go\n",
    "import plotly.express as px\n",
    "import pandas as pd"
   ]
  },
  {
   "cell_type": "markdown",
   "id": "5485df48-6027-4a7a-8d87-ee92cb4a7348",
   "metadata": {
    "papermill": {},
    "tags": []
   },
   "source": [
    "### Variables"
   ]
  },
  {
   "cell_type": "code",
   "execution_count": 10,
   "id": "7d3d6bca-4daf-4e1d-aa17-10d391347187",
   "metadata": {
    "papermill": {},
    "tags": []
   },
   "outputs": [],
   "source": [
    "title = \"Heatmap\"\n",
    "\n",
    "# Output paths\n",
    "output_image = f\"{title}.png\"\n",
    "output_html = f\"{title}.html\""
   ]
  },
  {
   "cell_type": "markdown",
   "id": "69246b84-31d1-4d29-803b-211efd200fef",
   "metadata": {
    "papermill": {},
    "tags": []
   },
   "source": [
    "### Get data"
   ]
  },
  {
   "cell_type": "code",
   "execution_count": 11,
   "id": "optical-danish",
   "metadata": {
    "papermill": {},
    "tags": []
   },
   "outputs": [],
   "source": [
    "data = [\n",
    "    [54.25, 65, 52, 51, 49],\n",
    "    [20, 16, 60, 80, 30],\n",
    "    [30, 60, 51, 59, 20],\n",
    "    [40, 30, 12, 25, 20],\n",
    "]\n",
    "df = pd.DataFrame(data)\n",
    "df"
   ]
  },
  {
   "cell_type": "markdown",
   "id": "entire-choir",
   "metadata": {
    "papermill": {},
    "tags": []
   },
   "source": [
    "## Model"
   ]
  },
  {
   "cell_type": "markdown",
   "id": "a7000628-a9a3-4058-aa4d-51f45d22b607",
   "metadata": {
    "papermill": {},
    "tags": []
   },
   "source": [
    "### Create Heatmap"
   ]
  },
  {
   "cell_type": "code",
   "execution_count": 13,
   "id": "cdf6149f-3cf0-4923-8eb9-d8330969a483",
   "metadata": {
    "papermill": {},
    "tags": []
   },
   "outputs": [],
   "source": [
    "config = {\"displayModeBar\": False}\n",
    "\n",
    "\n",
    "def update_layout(\n",
    "    fig,\n",
    "    title=None,\n",
    "    plot_bgcolor=None,\n",
    "    width=1200,\n",
    "    height=800,\n",
    "    showlegend=None,\n",
    "    margin=None,\n",
    "):\n",
    "    fig.update_layout(\n",
    "        title=title,\n",
    "        plot_bgcolor=plot_bgcolor,\n",
    "        width=width,\n",
    "        margin=margin,\n",
    "        height=height,\n",
    "        showlegend=showlegend,\n",
    "    )\n",
    "    return fig\n",
    "\n",
    "\n",
    "def heatmap(\n",
    "    df,\n",
    "    x,\n",
    "    y,\n",
    "    x_label,\n",
    "    y_label,\n",
    "    color,\n",
    "    colorscale=[[0, \"#d94228\"], [0.5, \"#d94228\"], [0.5, \"#5ee290\"], [1.0, \"#5ee290\"]],\n",
    "    title=None,\n",
    "    margin=None,\n",
    "):\n",
    "    fig = go.Figure()\n",
    "    fig = px.imshow(df, labels=dict(x=x_label, y=y_label, color=color), x=x, y=y)\n",
    "    fig.update_xaxes(side=\"top\")\n",
    "    fig.update_traces(xgap=5, selector=dict(type=\"heatmap\"))\n",
    "    fig.update_traces(ygap=5, selector=dict(type=\"heatmap\"))\n",
    "    fig.update_traces(\n",
    "        dict(showscale=False, coloraxis=None, colorscale=colorscale),\n",
    "        selector={\"type\": \"heatmap\"},\n",
    "    )\n",
    "    fig = update_layout(fig, title=title, margin=margin)\n",
    "    fig.show(config=config)\n",
    "    return fig\n",
    "\n",
    "\n",
    "fig = heatmap(\n",
    "    df,\n",
    "    x=[\"Global\", \"Americas\", \"EMEA\", \"Asia\", \"Oceania\"],\n",
    "    y=[\"Product 1\", \"Product 2\", \"Product 3\", \"Product 4\"],\n",
    "    x_label=\"Business lines\",\n",
    "    y_label=\"Products\",\n",
    "    color=\"Sales\",\n",
    "    title=title,\n",
    "    margin=dict(l=0, r=0, t=150, b=50),\n",
    ")"
   ]
  },
  {
   "cell_type": "markdown",
   "id": "delayed-empire",
   "metadata": {
    "papermill": {},
    "tags": []
   },
   "source": [
    "## Output"
   ]
  },
  {
   "cell_type": "markdown",
   "id": "ea6ebc76-0d85-4f29-a88f-736e42cf1420",
   "metadata": {
    "execution": {
     "iopub.execute_input": "2021-10-17T15:35:59.991727Z",
     "iopub.status.busy": "2021-10-17T15:35:59.991476Z",
     "iopub.status.idle": "2021-10-17T15:36:00.000426Z",
     "shell.execute_reply": "2021-10-17T15:35:59.999753Z",
     "shell.execute_reply.started": "2021-10-17T15:35:59.991702Z"
    },
    "papermill": {},
    "tags": []
   },
   "source": [
    "### Export in PNG and HTML"
   ]
  },
  {
   "cell_type": "code",
   "execution_count": null,
   "id": "f3676232-8e05-4fb4-83aa-8be0e421160c",
   "metadata": {
    "papermill": {},
    "tags": []
   },
   "outputs": [],
   "source": [
    "fig.write_image(output_image, width=1200)\n",
    "fig.write_html(output_html)"
   ]
  },
  {
   "cell_type": "markdown",
   "id": "53d12909-ea1f-450f-8383-98e8829b77f7",
   "metadata": {
    "papermill": {},
    "tags": []
   },
   "source": [
    "### Generate shareable assets"
   ]
  },
  {
   "cell_type": "code",
   "execution_count": null,
   "id": "45263671-6b18-46f3-88d7-7bf5db36d58c",
   "metadata": {
    "papermill": {},
    "tags": []
   },
   "outputs": [],
   "source": [
    "link_image = naas.asset.add(output_image)\n",
    "link_html = naas.asset.add(output_html, {\"inline\": True})\n",
    "\n",
    "# -> Uncomment the line below to remove your assets\n",
    "# naas.asset.delete(output_image)\n",
    "# naas.asset.delete(output_html)"
   ]
  }
 ],
 "metadata": {
  "kernelspec": {
   "display_name": "Python 3",
   "language": "python",
   "name": "python3"
  },
  "language_info": {
   "codemirror_mode": {
    "name": "ipython",
    "version": 3
   },
   "file_extension": ".py",
   "mimetype": "text/x-python",
   "name": "python",
   "nbconvert_exporter": "python",
   "pygments_lexer": "ipython3",
   "version": "3.8.8"
  },
  "naas": {
   "notebook_id": "38ddb9935318bf5698eae5b352037f790c225ef788173972b6896f6f028a0814",
   "notebook_path": "Plotly/Plotly_Create_Heatmap.ipynb"
  },
  "papermill": {
   "default_parameters": {},
   "environment_variables": {},
   "parameters": {},
   "version": "2.3.3"
  },
  "widgets": {
   "application/vnd.jupyter.widget-state+json": {
    "state": {
     "015e259b52f149f7b8d81fc01e31eef6": {
      "model_module": "@jupyter-widgets/base",
      "model_module_version": "1.2.0",
      "model_name": "LayoutModel",
      "state": {}
     },
     "0b74f56f029f4836877762f8587e1580": {
      "model_module": "@jupyter-widgets/base",
      "model_module_version": "1.2.0",
      "model_name": "LayoutModel",
      "state": {}
     },
     "1d1c9e08ddd44e288a8f2eedbf6c771d": {
      "model_module": "@jupyter-widgets/controls",
      "model_module_version": "1.5.0",
      "model_name": "ButtonStyleModel",
      "state": {}
     },
     "2ce9b367cf5a4328bd36326c324084d1": {
      "model_module": "@jupyter-widgets/controls",
      "model_module_version": "1.5.0",
      "model_name": "ButtonModel",
      "state": {
       "button_style": "primary",
       "description": "Copy URL",
       "layout": "IPY_MODEL_a0a4cfd6fbb4423589b7fd2db4f9c922",
       "style": "IPY_MODEL_43ba71ac912f4b878c98ceba272de353"
      }
     },
     "40fad1e21bda4d499975f20a863f0cdc": {
      "model_module": "@jupyter-widgets/output",
      "model_module_version": "1.0.0",
      "model_name": "OutputModel",
      "state": {
       "layout": "IPY_MODEL_42f40eb56f4c446da01f42acd067054d"
      }
     },
     "42f40eb56f4c446da01f42acd067054d": {
      "model_module": "@jupyter-widgets/base",
      "model_module_version": "1.2.0",
      "model_name": "LayoutModel",
      "state": {}
     },
     "43ba71ac912f4b878c98ceba272de353": {
      "model_module": "@jupyter-widgets/controls",
      "model_module_version": "1.5.0",
      "model_name": "ButtonStyleModel",
      "state": {}
     },
     "5d73261ca69846148f6c19d642970cd1": {
      "model_module": "@jupyter-widgets/output",
      "model_module_version": "1.0.0",
      "model_name": "OutputModel",
      "state": {
       "layout": "IPY_MODEL_67065735e3c44cdfb12f0a548b8c7a72"
      }
     },
     "67065735e3c44cdfb12f0a548b8c7a72": {
      "model_module": "@jupyter-widgets/base",
      "model_module_version": "1.2.0",
      "model_name": "LayoutModel",
      "state": {}
     },
     "7031ab25df9c4d8e8fae3316a5c2c52a": {
      "model_module": "@jupyter-widgets/controls",
      "model_module_version": "1.5.0",
      "model_name": "ButtonStyleModel",
      "state": {}
     },
     "71b2943270454474a8a2b4e687d03123": {
      "model_module": "@jupyter-widgets/output",
      "model_module_version": "1.0.0",
      "model_name": "OutputModel",
      "state": {
       "layout": "IPY_MODEL_d7906d74effe43628d1632051cef45bb"
      }
     },
     "7eb5bb2ef06546cab6ca6b19af55b28d": {
      "model_module": "@jupyter-widgets/controls",
      "model_module_version": "1.5.0",
      "model_name": "ButtonModel",
      "state": {
       "button_style": "primary",
       "description": "Copy URL",
       "layout": "IPY_MODEL_af37ced027b74500b7e41015d4e1fc66",
       "style": "IPY_MODEL_1d1c9e08ddd44e288a8f2eedbf6c771d"
      }
     },
     "80af5d029cba405591ab95f89ec877a2": {
      "model_module": "@jupyter-widgets/output",
      "model_module_version": "1.0.0",
      "model_name": "OutputModel",
      "state": {
       "layout": "IPY_MODEL_0b74f56f029f4836877762f8587e1580"
      }
     },
     "95be744fd8f844aa9bca4f3ba196fd3b": {
      "model_module": "@jupyter-widgets/controls",
      "model_module_version": "1.5.0",
      "model_name": "ButtonStyleModel",
      "state": {}
     },
     "a0a4cfd6fbb4423589b7fd2db4f9c922": {
      "model_module": "@jupyter-widgets/base",
      "model_module_version": "1.2.0",
      "model_name": "LayoutModel",
      "state": {}
     },
     "ae5a01611116463e8b63047974f1f108": {
      "model_module": "@jupyter-widgets/controls",
      "model_module_version": "1.5.0",
      "model_name": "ButtonModel",
      "state": {
       "button_style": "primary",
       "description": "Copy URL",
       "layout": "IPY_MODEL_015e259b52f149f7b8d81fc01e31eef6",
       "style": "IPY_MODEL_7031ab25df9c4d8e8fae3316a5c2c52a"
      }
     },
     "af37ced027b74500b7e41015d4e1fc66": {
      "model_module": "@jupyter-widgets/base",
      "model_module_version": "1.2.0",
      "model_name": "LayoutModel",
      "state": {}
     },
     "d7906d74effe43628d1632051cef45bb": {
      "model_module": "@jupyter-widgets/base",
      "model_module_version": "1.2.0",
      "model_name": "LayoutModel",
      "state": {}
     },
     "f48767eda39f4cebbe48c727911190c3": {
      "model_module": "@jupyter-widgets/controls",
      "model_module_version": "1.5.0",
      "model_name": "ButtonModel",
      "state": {
       "button_style": "primary",
       "description": "Copy URL",
       "layout": "IPY_MODEL_fb53fc0c4d2140e89d7d35b5ab9c77b1",
       "style": "IPY_MODEL_95be744fd8f844aa9bca4f3ba196fd3b"
      }
     },
     "fb53fc0c4d2140e89d7d35b5ab9c77b1": {
      "model_module": "@jupyter-widgets/base",
      "model_module_version": "1.2.0",
      "model_name": "LayoutModel",
      "state": {}
     }
    },
    "version_major": 2,
    "version_minor": 0
   }
  }
 },
 "nbformat": 4,
 "nbformat_minor": 5
}