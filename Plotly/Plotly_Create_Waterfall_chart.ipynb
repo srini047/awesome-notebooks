{
 "cells": [
  {
   "cell_type": "markdown",
   "id": "230fc809-c2d3-42f2-8389-2ad2b0b164a3",
   "metadata": {
    "papermill": {},
    "tags": []
   },
   "source": [
    "<img width=\"10%\" alt=\"Naas\" src=\"https://landen.imgix.net/jtci2pxwjczr/assets/5ice39g4.png?w=160\"/>"
   ]
  },
  {
   "cell_type": "markdown",
   "id": "historical-quebec",
   "metadata": {
    "papermill": {},
    "tags": []
   },
   "source": [
    "# Plotly - Create Waterfall chart\n",
    "<a href=\"https://app.naas.ai/user-redirect/naas/downloader?url=https://raw.githubusercontent.com/jupyter-naas/awesome-notebooks/master/Plotly/Plotly_Create_Waterfall_chart.ipynb\" target=\"_parent\"><img src=\"https://naasai-public.s3.eu-west-3.amazonaws.com/open_in_naas.svg\"/></a><br><br><a href=\"https://github.com/jupyter-naas/awesome-notebooks/issues/new?assignees=&labels=&template=template-request.md&title=Tool+-+Action+of+the+notebook+\">Template request</a> | <a href=\"https://github.com/jupyter-naas/awesome-notebooks/issues/new?assignees=&labels=bug&template=bug_report.md&title=Plotly+-+Create+Waterfall+chart:+Error+short+description\">Bug report</a>"
   ]
  },
  {
   "cell_type": "markdown",
   "id": "c3cd7be3-5a1e-45cb-8bc0-e3eb23da2166",
   "metadata": {
    "papermill": {},
    "tags": []
   },
   "source": [
    "**Tags:** #plotly #chart #warterfall #dataviz #snippet #operations #image #html"
   ]
  },
  {
   "cell_type": "markdown",
   "id": "naas-author",
   "metadata": {
    "papermill": {},
    "tags": [
     "naas"
    ]
   },
   "source": [
    "**Author:** [Jeremy Ravenel](https://www.linkedin.com/in/ACoAAAJHE7sB5OxuKHuzguZ9L6lfDHqw--cdnJg/)"
   ]
  },
  {
   "cell_type": "markdown",
   "id": "naas-description",
   "metadata": {
    "papermill": {},
    "tags": [
     "description"
    ]
   },
   "source": [
    "**Description:** This notebook provides instructions on how to create a Waterfall chart using Plotly."
   ]
  },
  {
   "cell_type": "markdown",
   "id": "input_cell",
   "metadata": {
    "papermill": {},
    "tags": []
   },
   "source": [
    "## Input"
   ]
  },
  {
   "cell_type": "markdown",
   "id": "2a074b55-8141-4ba2-8200-3bc0a7baa724",
   "metadata": {
    "papermill": {},
    "tags": []
   },
   "source": [
    "### Import libraries"
   ]
  },
  {
   "cell_type": "code",
   "execution_count": 2,
   "id": "25be4091-7237-48d2-bba8-d4f7d75fd2c4",
   "metadata": {
    "execution": {
     "iopub.execute_input": "2022-03-07T09:38:33.566353Z",
     "iopub.status.busy": "2022-03-07T09:38:33.566078Z",
     "iopub.status.idle": "2022-03-07T09:38:35.299939Z",
     "shell.execute_reply": "2022-03-07T09:38:35.299278Z",
     "shell.execute_reply.started": "2022-03-07T09:38:33.566323Z"
    },
    "papermill": {},
    "tags": []
   },
   "outputs": [],
   "source": [
    "import naas\n",
    "import plotly.graph_objects as go"
   ]
  },
  {
   "cell_type": "markdown",
   "id": "a41ad4f9-5079-4e9a-83a6-3792d463cdef",
   "metadata": {
    "papermill": {},
    "tags": []
   },
   "source": [
    "### Variables"
   ]
  },
  {
   "cell_type": "code",
   "execution_count": 3,
   "id": "38c23052-7948-4566-9485-35c8d8d11be1",
   "metadata": {
    "execution": {
     "iopub.execute_input": "2022-03-07T09:38:35.302890Z",
     "iopub.status.busy": "2022-03-07T09:38:35.302709Z",
     "iopub.status.idle": "2022-03-07T09:38:35.306994Z",
     "shell.execute_reply": "2022-03-07T09:38:35.306509Z",
     "shell.execute_reply.started": "2022-03-07T09:38:35.302870Z"
    },
    "papermill": {},
    "tags": []
   },
   "outputs": [],
   "source": [
    "title = \"EBITDA (simple)\"\n",
    "\n",
    "# Output paths\n",
    "output_image = f\"{title}.png\"\n",
    "output_html = f\"{title}.html\""
   ]
  },
  {
   "cell_type": "markdown",
   "id": "model_cell",
   "metadata": {
    "papermill": {},
    "tags": []
   },
   "source": [
    "## Model"
   ]
  },
  {
   "cell_type": "markdown",
   "id": "50b00720-a23a-4d49-892e-a1a251d0cfd2",
   "metadata": {
    "papermill": {},
    "tags": []
   },
   "source": [
    "### Create Waterfall chart"
   ]
  },
  {
   "cell_type": "code",
   "execution_count": 4,
   "id": "spread-season",
   "metadata": {
    "execution": {
     "iopub.execute_input": "2022-03-07T09:38:36.946647Z",
     "iopub.status.busy": "2022-03-07T09:38:36.946304Z",
     "iopub.status.idle": "2022-03-07T09:38:37.159970Z",
     "shell.execute_reply": "2022-03-07T09:38:37.159268Z",
     "shell.execute_reply.started": "2022-03-07T09:38:36.946612Z"
    },
    "papermill": {},
    "tags": []
   },
   "outputs": [],
   "source": [
    "fig = go.Figure(\n",
    "    go.Waterfall(\n",
    "        name=\"20\",\n",
    "        orientation=\"v\",\n",
    "        measure=[\"relative\", \"relative\", \"total\", \"relative\", \"relative\", \"total\"],\n",
    "        decreasing={\"marker\": {\"color\": \"#d94228\"}},\n",
    "        increasing={\"marker\": {\"color\": \"#5ee290\"}},\n",
    "        totals={\"marker\": {\"color\": \"#3f3f3f\"}},\n",
    "        x=[\n",
    "            \"Sales\",\n",
    "            \"Consulting\",\n",
    "            \"Revenue\",\n",
    "            \"Direct expenses\",\n",
    "            \"Other expenses\",\n",
    "            \"EBITDA\",\n",
    "        ],\n",
    "        textposition=\"outside\",\n",
    "        text=[\"+60\", \"+80\", \"140\", \"-40\", \"-20\", \"80\"],\n",
    "        y=[60, 80, 0, -40, -20, 0],\n",
    "        connector={\"line\": {\"color\": \"white\"}},\n",
    "    )\n",
    ")\n",
    "\n",
    "fig.update_layout(\n",
    "    title=title,\n",
    "    plot_bgcolor=\"#ffffff\",\n",
    "    width=1200,\n",
    "    height=800,\n",
    "    xaxis_tickfont_size=14,\n",
    "    yaxis=dict(\n",
    "        title=\"USD (millions)\",\n",
    "        titlefont_size=16,\n",
    "        tickfont_size=14,\n",
    "    ),\n",
    "    legend=dict(x=0, y=1.0, bgcolor=\"white\", bordercolor=\"white\"),\n",
    "    bargap=0.1,  # gap between bars of adjacent location coordinates.\n",
    "    bargroupgap=0.1,  # gap between bars of the same location coordinate.\n",
    ")\n",
    "config = {\"displayModeBar\": False}\n",
    "fig.show(config=config)"
   ]
  },
  {
   "cell_type": "markdown",
   "id": "output_cell",
   "metadata": {
    "papermill": {},
    "tags": []
   },
   "source": [
    "## Output"
   ]
  },
  {
   "cell_type": "markdown",
   "id": "display_cell",
   "metadata": {
    "papermill": {},
    "tags": []
   },
   "source": [
    "### Export in PNG and HTML"
   ]
  },
  {
   "cell_type": "code",
   "execution_count": null,
   "id": "c2166dab-90f3-4473-a89e-af5b16e72188",
   "metadata": {
    "papermill": {},
    "tags": []
   },
   "outputs": [],
   "source": [
    "fig.write_image(output_image, width=1200)\n",
    "fig.write_html(output_html)"
   ]
  },
  {
   "cell_type": "markdown",
   "id": "c1fe8400-23b0-4e47-a99a-a9cc14304513",
   "metadata": {
    "papermill": {},
    "tags": []
   },
   "source": [
    "### Generate shareable assets"
   ]
  },
  {
   "cell_type": "code",
   "execution_count": null,
   "id": "1e7b4d50-c96b-497b-8f00-e10b66594f10",
   "metadata": {
    "papermill": {},
    "tags": []
   },
   "outputs": [],
   "source": [
    "link_image = naas.asset.add(output_image)\n",
    "link_html = naas.asset.add(output_html, {\"inline\": True})\n",
    "\n",
    "# -> Uncomment the line below to remove your assets\n",
    "# naas.asset.delete(output_image)\n",
    "# naas.asset.delete(output_html)"
   ]
  }
 ],
 "metadata": {
  "kernelspec": {
   "display_name": "Python 3",
   "language": "python",
   "name": "python3"
  },
  "language_info": {
   "codemirror_mode": {
    "name": "ipython",
    "version": 3
   },
   "file_extension": ".py",
   "mimetype": "text/x-python",
   "name": "python",
   "nbconvert_exporter": "python",
   "pygments_lexer": "ipython3",
   "version": "3.8.8"
  },
  "naas": {
   "notebook_id": "513af719-8027-4bb6-aafa-623dbb0a3e18",
   "notebook_path": "Plotly/Plotly_Create_Waterfall_chart.ipynb"
  },
  "papermill": {
   "default_parameters": {},
   "environment_variables": {},
   "parameters": {},
   "version": "2.3.3"
  },
  "widgets": {
   "application/vnd.jupyter.widget-state+json": {
    "state": {},
    "version_major": 2,
    "version_minor": 0
   }
  }
 },
 "nbformat": 4,
 "nbformat_minor": 5
}