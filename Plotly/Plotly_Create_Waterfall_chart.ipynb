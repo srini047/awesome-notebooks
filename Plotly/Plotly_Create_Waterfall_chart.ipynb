{
 "cells": [
  {
   "cell_type": "markdown",
   "id": "230fc809-c2d3-42f2-8389-2ad2b0b164a3",
   "metadata": {
    "papermill": {},
    "tags": []
   },
   "source": [
    "<img width=\"10%\" alt=\"Naas\" src=\"https://landen.imgix.net/jtci2pxwjczr/assets/5ice39g4.png?w=160\"/>"
   ]
  },
  {
   "cell_type": "markdown",
   "id": "historical-quebec",
   "metadata": {
    "papermill": {},
    "tags": []
   },
   "source": [
    "# Plotly - Create Waterfall chart\n",
    "<a href=\"https://app.naas.ai/user-redirect/naas/downloader?url=https://raw.githubusercontent.com/jupyter-naas/awesome-notebooks/master/Plotly/Plotly_Create_Waterfall_chart.ipynb\" target=\"_parent\"><img src=\"https://naasai-public.s3.eu-west-3.amazonaws.com/Open_in_Naas_Lab.svg\"/></a><br><br><a href=\"https://github.com/jupyter-naas/awesome-notebooks/issues/new?assignees=&labels=&template=template-request.md&title=Tool+-+Action+of+the+notebook+\">Template request</a> | <a href=\"https://github.com/jupyter-naas/awesome-notebooks/issues/new?assignees=&labels=bug&template=bug_report.md&title=Plotly+-+Create+Waterfall+chart:+Error+short+description\">Bug report</a> | <a href=\"https://app.naas.ai/user-redirect/naas/downloader?url=https://raw.githubusercontent.com/jupyter-naas/awesome-notebooks/master/Naas/Naas_Start_data_product.ipynb\" target=\"_parent\">Generate Data Product</a>"
   ]
  },
  {
   "cell_type": "markdown",
   "id": "c3cd7be3-5a1e-45cb-8bc0-e3eb23da2166",
   "metadata": {
    "papermill": {},
    "tags": []
   },
   "source": [
    "**Tags:** #plotly #chart #warterfall #dataviz #snippet #operations #image #html"
   ]
  },
  {
   "cell_type": "markdown",
   "id": "naas-author",
   "metadata": {
    "papermill": {},
    "tags": [
     "naas"
    ]
   },
   "source": [
    "**Author:** [Jeremy Ravenel](https://www.linkedin.com/in/ACoAAAJHE7sB5OxuKHuzguZ9L6lfDHqw--cdnJg/)"
   ]
  },
  {
   "cell_type": "markdown",
   "id": "naas-description",
   "metadata": {
    "papermill": {},
    "tags": [
     "description"
    ]
   },
   "source": [
    "**Description:** This notebook provides instructions on how to create a Waterfall chart using Plotly."
   ]
  },
  {
   "cell_type": "markdown",
   "id": "input_cell",
   "metadata": {
    "papermill": {},
    "tags": []
   },
   "source": [
    "## Input"
   ]
  },
  {
   "cell_type": "markdown",
   "id": "2a074b55-8141-4ba2-8200-3bc0a7baa724",
   "metadata": {
    "papermill": {},
    "tags": []
   },
   "source": [
    "### Import libraries"
   ]
  },
  {
   "cell_type": "code",
   "execution_count": 1,
   "id": "25be4091-7237-48d2-bba8-d4f7d75fd2c4",
   "metadata": {
    "papermill": {},
    "tags": []
   },
   "outputs": [],
   "source": [
    "import naas\n",
    "import plotly.graph_objects as go"
   ]
  },
  {
   "cell_type": "markdown",
   "id": "a41ad4f9-5079-4e9a-83a6-3792d463cdef",
   "metadata": {
    "papermill": {},
    "tags": []
   },
   "source": [
    "### Variables"
   ]
  },
  {
   "cell_type": "code",
   "execution_count": 2,
   "id": "38c23052-7948-4566-9485-35c8d8d11be1",
   "metadata": {
    "papermill": {},
    "tags": []
   },
   "outputs": [],
   "source": [
    "title = \"EBITDA (simple)\"\n",
    "\n",
    "# Output paths\n",
    "output_image = f\"{title}.png\"\n",
    "output_html = f\"{title}.html\""
   ]
  },
  {
   "cell_type": "markdown",
   "id": "model_cell",
   "metadata": {
    "papermill": {},
    "tags": []
   },
   "source": [
    "## Model"
   ]
  },
  {
   "cell_type": "markdown",
   "id": "50b00720-a23a-4d49-892e-a1a251d0cfd2",
   "metadata": {
    "papermill": {},
    "tags": []
   },
   "source": [
    "### Create Waterfall chart"
   ]
  },
  {
   "cell_type": "code",
   "execution_count": 7,
   "id": "spread-season",
   "metadata": {
    "papermill": {},
    "tags": []
   },
   "outputs": [],
   "source": [
    "fig = go.Figure(\n",
    "    go.Waterfall(\n",
    "        name=\"20\",\n",
    "        orientation=\"v\",\n",
    "        measure=[\"relative\", \"relative\", \"total\", \"relative\", \"relative\", \"total\"],\n",
    "        decreasing={\"marker\": {\"color\": \"#d94228\"}},\n",
    "        increasing={\"marker\": {\"color\": \"#5ee290\"}},\n",
    "        totals={\"marker\": {\"color\": \"#3f3f3f\"}},\n",
    "        x=[\n",
    "            \"Sales\",\n",
    "            \"Consulting\",\n",
    "            \"Revenue\",\n",
    "            \"Direct expenses\",\n",
    "            \"Other expenses\",\n",
    "            \"EBITDA\",\n",
    "        ],\n",
    "        textposition=\"outside\",\n",
    "        text=[\"+60\", \"+80\", \"140\", \"-40\", \"-20\", \"80\"],\n",
    "        y=[60, 80, 0, -40, -20, 0],\n",
    "        connector={\"line\": {\"color\": \"white\"}},\n",
    "    )\n",
    ")\n",
    "\n",
    "fig.update_layout(\n",
    "    title=title,\n",
    "    plot_bgcolor=\"#ffffff\",\n",
    "    width=800,\n",
    "    height=600,\n",
    "    xaxis_tickfont_size=14,\n",
    "    yaxis=dict(\n",
    "        title=\"USD (millions)\",\n",
    "        titlefont_size=16,\n",
    "        tickfont_size=14,\n",
    "    ),\n",
    "    legend=dict(x=0, y=1.0, bgcolor=\"white\", bordercolor=\"white\"),\n",
    "    bargap=0.1,  # gap between bars of adjacent location coordinates.\n",
    "    bargroupgap=0.1,  # gap between bars of the same location coordinate.\n",
    ")\n",
    "config = {\"displayModeBar\": False}\n",
    "fig.show(config=config)"
   ]
  },
  {
   "cell_type": "markdown",
   "id": "output_cell",
   "metadata": {
    "papermill": {},
    "tags": []
   },
   "source": [
    "## Output"
   ]
  },
  {
   "cell_type": "markdown",
   "id": "display_cell",
   "metadata": {
    "papermill": {},
    "tags": []
   },
   "source": [
    "### Export in PNG and HTML"
   ]
  },
  {
   "cell_type": "code",
   "execution_count": 4,
   "id": "c2166dab-90f3-4473-a89e-af5b16e72188",
   "metadata": {
    "papermill": {},
    "tags": []
   },
   "outputs": [],
   "source": [
    "fig.write_image(output_image, width=1200)\n",
    "fig.write_html(output_html)"
   ]
  },
  {
   "cell_type": "markdown",
   "id": "c1fe8400-23b0-4e47-a99a-a9cc14304513",
   "metadata": {
    "papermill": {},
    "tags": []
   },
   "source": [
    "### Generate shareable assets"
   ]
  },
  {
   "cell_type": "code",
   "execution_count": 5,
   "id": "1e7b4d50-c96b-497b-8f00-e10b66594f10",
   "metadata": {
    "papermill": {},
    "tags": []
   },
   "outputs": [],
   "source": [
    "link_image = naas.asset.add(output_image)\n",
    "link_html = naas.asset.add(output_html, {\"inline\": True})\n",
    "\n",
    "# -> Uncomment the line below to remove your assets\n",
    "# naas.asset.delete(output_image)\n",
    "# naas.asset.delete(output_html)"
   ]
  },
  {
   "cell_type": "code",
   "execution_count": null,
   "id": "3b585ba1-52ae-46a6-9537-12e03e6f2b93",
   "metadata": {
    "papermill": {},
    "tags": []
   },
   "outputs": [],
   "source": []
  }
 ],
 "metadata": {
  "kernelspec": {
   "display_name": "Python 3",
   "language": "python",
   "name": "python3"
  },
  "language_info": {
   "codemirror_mode": {
    "name": "ipython",
    "version": 3
   },
   "file_extension": ".py",
   "mimetype": "text/x-python",
   "name": "python",
   "nbconvert_exporter": "python",
   "pygments_lexer": "ipython3",
   "version": "3.9.6"
  },
  "naas": {
   "notebook_id": "e90ce80fa0c56a2714a58552d3ca00e07d35d53d5d2a89216f1449170e347e6d",
   "notebook_path": "Plotly/Plotly_Create_Waterfall_chart.ipynb"
  },
  "papermill": {
   "default_parameters": {},
   "environment_variables": {},
   "parameters": {},
   "version": "2.3.3"
  },
  "widgets": {
   "application/vnd.jupyter.widget-state+json": {
    "state": {
     "2a25617b8aec4bdf95e26c2755802c23": {
      "model_module": "@jupyter-widgets/output",
      "model_module_version": "1.0.0",
      "model_name": "OutputModel",
      "state": {
       "layout": "IPY_MODEL_a92548d9f53c4d02af38926e6af6e79d"
      }
     },
     "3d07a3abf9c540978627346e97c38e6a": {
      "model_module": "@jupyter-widgets/controls",
      "model_module_version": "1.5.0",
      "model_name": "ButtonModel",
      "state": {
       "button_style": "primary",
       "description": "Copy URL",
       "layout": "IPY_MODEL_f45fdf4df1b348c3ac1cd0d60be3ad27",
       "style": "IPY_MODEL_d70b62d370ce4d94868082e95eb73ab0"
      }
     },
     "7b04feccc22042d7aa458d7c2f9cf89d": {
      "model_module": "@jupyter-widgets/controls",
      "model_module_version": "1.5.0",
      "model_name": "ButtonModel",
      "state": {
       "button_style": "primary",
       "description": "Copy URL",
       "layout": "IPY_MODEL_be5a5753140a4dc7b17f51c62bd663ab",
       "style": "IPY_MODEL_849d66f05632476b8fbed3407a00a555"
      }
     },
     "849d66f05632476b8fbed3407a00a555": {
      "model_module": "@jupyter-widgets/controls",
      "model_module_version": "1.5.0",
      "model_name": "ButtonStyleModel",
      "state": {}
     },
     "a92548d9f53c4d02af38926e6af6e79d": {
      "model_module": "@jupyter-widgets/base",
      "model_module_version": "1.2.0",
      "model_name": "LayoutModel",
      "state": {}
     },
     "be5a5753140a4dc7b17f51c62bd663ab": {
      "model_module": "@jupyter-widgets/base",
      "model_module_version": "1.2.0",
      "model_name": "LayoutModel",
      "state": {}
     },
     "bf94bcefacf1423bb42d77ade7cde338": {
      "model_module": "@jupyter-widgets/base",
      "model_module_version": "1.2.0",
      "model_name": "LayoutModel",
      "state": {}
     },
     "d70b62d370ce4d94868082e95eb73ab0": {
      "model_module": "@jupyter-widgets/controls",
      "model_module_version": "1.5.0",
      "model_name": "ButtonStyleModel",
      "state": {}
     },
     "dcf4bb289c24406fb5be4a207e990298": {
      "model_module": "@jupyter-widgets/output",
      "model_module_version": "1.0.0",
      "model_name": "OutputModel",
      "state": {
       "layout": "IPY_MODEL_bf94bcefacf1423bb42d77ade7cde338"
      }
     },
     "f45fdf4df1b348c3ac1cd0d60be3ad27": {
      "model_module": "@jupyter-widgets/base",
      "model_module_version": "1.2.0",
      "model_name": "LayoutModel",
      "state": {}
     }
    },
    "version_major": 2,
    "version_minor": 0
   }
  }
 },
 "nbformat": 4,
 "nbformat_minor": 5
}