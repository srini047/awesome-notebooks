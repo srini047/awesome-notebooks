{
 "cells": [
  {
   "cell_type": "markdown",
   "id": "latin-packing",
   "metadata": {
    "execution": {
     "iopub.execute_input": "2021-02-23T14:22:16.610471Z",
     "iopub.status.busy": "2021-02-23T14:22:16.610129Z",
     "iopub.status.idle": "2021-02-23T14:22:16.627784Z",
     "shell.execute_reply": "2021-02-23T14:22:16.626866Z",
     "shell.execute_reply.started": "2021-02-23T14:22:16.610384Z"
    },
    "papermill": {},
    "tags": []
   },
   "source": [
    "<img width=\"10%\" alt=\"Naas\" src=\"https://landen.imgix.net/jtci2pxwjczr/assets/5ice39g4.png?w=160\"/>"
   ]
  },
  {
   "cell_type": "markdown",
   "id": "compressed-wilson",
   "metadata": {
    "papermill": {},
    "tags": []
   },
   "source": [
    "# Plotly - Create Balance Sheet Treemaps\n",
    "<a href=\"https://app.naas.ai/user-redirect/naas/downloader?url=https://raw.githubusercontent.com/jupyter-naas/awesome-notebooks/master/Plotly/Plotly_Create_Balance_Sheet_Treemaps.ipynb\" target=\"_parent\"><img src=\"https://naasai-public.s3.eu-west-3.amazonaws.com/open_in_naas.svg\"/></a><br><br><a href=\"https://github.com/jupyter-naas/awesome-notebooks/issues/new?assignees=&labels=&template=template-request.md&title=Tool+-+Action+of+the+notebook+\">Template request</a> | <a href=\"https://github.com/jupyter-naas/awesome-notebooks/issues/new?assignees=&labels=bug&template=bug_report.md&title=Plotly+-+Create+Balance+Sheet+Treemaps:+Error+short+description\">Bug report</a>"
   ]
  },
  {
   "cell_type": "markdown",
   "id": "religious-programmer",
   "metadata": {
    "papermill": {},
    "tags": []
   },
   "source": [
    "**Tags:** #plotly #treemap #snippet #dataviz #balancesheet"
   ]
  },
  {
   "cell_type": "markdown",
   "id": "1fe9f56e-561c-4f52-aef8-b861c9462107",
   "metadata": {
    "papermill": {},
    "tags": []
   },
   "source": [
    "**Author:** [Florent Ravenel](https://www.linkedin.com/in/florent-ravenel/)"
   ]
  },
  {
   "cell_type": "markdown",
   "id": "31ea7cdb-e10d-43fc-b026-f69249a59736",
   "metadata": {
    "papermill": {},
    "tags": []
   },
   "source": [
    "**Description:** This notebook displays Balance Sheet items into treemap graphs. In a balance sheet, treemap templates can be used to show the distribution of assets and liabilities. The assets can be divided into smaller categories such as cash, marketable securities, accounts receivable, and inventory, while the liabilities can be separated into categories like loans payable, bonds payable, and accounts payable. With a treemap, it is easy to see the relative proportions of each category, making it easier to identify any trends or patterns in the data."
   ]
  },
  {
   "cell_type": "markdown",
   "id": "f2161e74-0bb5-4524-9c59-4a8e12cc7070",
   "metadata": {
    "execution": {
     "iopub.execute_input": "2023-01-31T07:36:23.088474Z",
     "iopub.status.busy": "2023-01-31T07:36:23.088192Z",
     "iopub.status.idle": "2023-01-31T07:36:23.111586Z",
     "shell.execute_reply": "2023-01-31T07:36:23.109451Z",
     "shell.execute_reply.started": "2023-01-31T07:36:23.088407Z"
    },
    "papermill": {},
    "tags": []
   },
   "source": [
    "<u>References</u>:\n",
    "- https://plotly.com/python/treemaps/"
   ]
  },
  {
   "cell_type": "markdown",
   "id": "distinguished-truth",
   "metadata": {
    "papermill": {},
    "tags": []
   },
   "source": [
    "## Input"
   ]
  },
  {
   "cell_type": "markdown",
   "id": "numeric-mediterranean",
   "metadata": {
    "papermill": {},
    "tags": []
   },
   "source": [
    "### Import libraries"
   ]
  },
  {
   "cell_type": "code",
   "execution_count": 1,
   "id": "potential-surfing",
   "metadata": {
    "execution": {
     "iopub.execute_input": "2023-01-31T14:53:04.081937Z",
     "iopub.status.busy": "2023-01-31T14:53:04.081539Z",
     "iopub.status.idle": "2023-01-31T14:53:08.169022Z",
     "shell.execute_reply": "2023-01-31T14:53:08.168428Z",
     "shell.execute_reply.started": "2023-01-31T14:53:04.081864Z"
    },
    "papermill": {},
    "tags": []
   },
   "outputs": [],
   "source": [
    "import plotly.graph_objects as go\n",
    "from plotly.subplots import make_subplots\n",
    "import pandas as pd\n",
    "import naas"
   ]
  },
  {
   "cell_type": "markdown",
   "id": "aggressive-trustee",
   "metadata": {
    "papermill": {},
    "tags": []
   },
   "source": [
    "### Setup Variables"
   ]
  },
  {
   "cell_type": "code",
   "execution_count": 2,
   "id": "continuous-melbourne",
   "metadata": {
    "execution": {
     "iopub.execute_input": "2023-01-31T14:53:08.171726Z",
     "iopub.status.busy": "2023-01-31T14:53:08.171492Z",
     "iopub.status.idle": "2023-01-31T14:53:08.177637Z",
     "shell.execute_reply": "2023-01-31T14:53:08.177129Z",
     "shell.execute_reply.started": "2023-01-31T14:53:08.171702Z"
    },
    "papermill": {},
    "tags": []
   },
   "outputs": [],
   "source": [
    "# Inputs\n",
    "# Create sample financial data\n",
    "data_asset = {\n",
    "    \"ENTITY\": [\"Entity X\"] * 5,\n",
    "    \"SCENARIO\": [\"2022-12\"] * 5,\n",
    "    \"LABEL\": [\n",
    "        \"Total Assets\",\n",
    "        \"Accounts Receivable\",\n",
    "        \"Inventory\",\n",
    "        \"Property & Equipment\",\n",
    "        \"Cash\",\n",
    "    ],\n",
    "    \"PARENT\": [\"\", \"Total Assets\", \"Total Assets\", \"Total Assets\", \"Total Assets\"],\n",
    "    \"CATEGORY\": [\"Actif\"] * 5,\n",
    "    \"VALUE\": [35.4, 10.2, 2.5, 17.1, 5.6],\n",
    "}\n",
    "\n",
    "data_liability = {\n",
    "    \"ENTITY\": [\"Entity X\"] * 5,\n",
    "    \"SCENARIO\": [\"2022-12\"] * 5,\n",
    "    \"LABEL\": [\n",
    "        \"Total Liabilities\",\n",
    "        \"Equity\",\n",
    "        \"Debt\",\n",
    "        \"Accounts Payable\",\n",
    "        \"Retained Earnings\",\n",
    "    ],\n",
    "    \"PARENT\": [\n",
    "        \"\",\n",
    "        \"Total Liabilities\",\n",
    "        \"Total Liabilities\",\n",
    "        \"Total Liabilities\",\n",
    "        \"Total Liabilities\",\n",
    "    ],\n",
    "    \"CATEGORY\": [\"Actif\"] * 5,\n",
    "    \"VALUE\": [35.4, 16.8, 14.8, 1.2, 2.6],\n",
    "}\n",
    "\n",
    "# Outputs\n",
    "html_output = \"Plotly_BS_Treemap.html\"\n",
    "png_output = \"Plotly_BS_Treemap.png\""
   ]
  },
  {
   "cell_type": "markdown",
   "id": "registered-showcase",
   "metadata": {
    "papermill": {},
    "tags": []
   },
   "source": [
    "## Model"
   ]
  },
  {
   "cell_type": "markdown",
   "id": "68ca9a03-004b-42b1-ada5-a82e8a31edc6",
   "metadata": {
    "papermill": {},
    "tags": []
   },
   "source": [
    "### Get \"Assets\" data"
   ]
  },
  {
   "cell_type": "code",
   "execution_count": 3,
   "id": "ad2cccad-3479-4ae7-95d3-f849f86cfeab",
   "metadata": {
    "execution": {
     "iopub.execute_input": "2023-01-31T14:53:08.179786Z",
     "iopub.status.busy": "2023-01-31T14:53:08.179617Z",
     "iopub.status.idle": "2023-01-31T14:53:08.298615Z",
     "shell.execute_reply": "2023-01-31T14:53:08.297824Z",
     "shell.execute_reply.started": "2023-01-31T14:53:08.179760Z"
    },
    "papermill": {},
    "tags": []
   },
   "outputs": [],
   "source": [
    "df_asset = pd.DataFrame(data_asset)\n",
    "df_asset"
   ]
  },
  {
   "cell_type": "markdown",
   "id": "c38729b5-fe0c-410d-8fa9-4c0587fa38f2",
   "metadata": {
    "papermill": {},
    "tags": []
   },
   "source": [
    "### Get \"Liabilities\" data"
   ]
  },
  {
   "cell_type": "code",
   "execution_count": 4,
   "id": "5d2996bd-6b24-4e36-903f-088b5276e1a0",
   "metadata": {
    "execution": {
     "iopub.execute_input": "2023-01-31T14:53:08.300378Z",
     "iopub.status.busy": "2023-01-31T14:53:08.300113Z",
     "iopub.status.idle": "2023-01-31T14:53:08.396747Z",
     "shell.execute_reply": "2023-01-31T14:53:08.396009Z",
     "shell.execute_reply.started": "2023-01-31T14:53:08.300345Z"
    },
    "papermill": {},
    "tags": []
   },
   "outputs": [],
   "source": [
    "df_liability = pd.DataFrame(data_liability)\n",
    "df_liability"
   ]
  },
  {
   "cell_type": "markdown",
   "id": "tested-astrology",
   "metadata": {
    "papermill": {},
    "tags": []
   },
   "source": [
    "### Create Treemap"
   ]
  },
  {
   "cell_type": "code",
   "execution_count": 5,
   "id": "crude-louisville",
   "metadata": {
    "execution": {
     "iopub.execute_input": "2023-01-31T14:53:08.398206Z",
     "iopub.status.busy": "2023-01-31T14:53:08.397945Z",
     "iopub.status.idle": "2023-01-31T14:53:09.189061Z",
     "shell.execute_reply": "2023-01-31T14:53:09.188297Z",
     "shell.execute_reply.started": "2023-01-31T14:53:08.398172Z"
    },
    "papermill": {},
    "tags": []
   },
   "outputs": [],
   "source": [
    "fig = make_subplots(\n",
    "    cols=2,\n",
    "    rows=1,\n",
    "    horizontal_spacing=0.02,\n",
    "    specs=[[{\"type\": \"treemap\", \"rowspan\": 1}, {\"type\": \"treemap\"}]],\n",
    ")\n",
    "\n",
    "fig.add_trace(\n",
    "    go.Treemap(\n",
    "        labels=df_asset[\"LABEL\"],\n",
    "        parents=df_asset[\"PARENT\"],\n",
    "        values=df_asset[\"VALUE\"],\n",
    "        textinfo=\"label+value+percent parent\",\n",
    "        marker_colorscale=\"Blues\",\n",
    "        hoverinfo=\"label+value+percent parent\",\n",
    "        branchvalues=\"total\",\n",
    "    ),\n",
    "    row=1,\n",
    "    col=1,\n",
    ")\n",
    "\n",
    "fig.add_trace(\n",
    "    go.Treemap(\n",
    "        labels=df_liability[\"LABEL\"],\n",
    "        parents=df_liability[\"PARENT\"],\n",
    "        values=df_liability[\"VALUE\"],\n",
    "        textinfo=\"label+value+percent parent\",\n",
    "        marker_colorscale=\"oranges\",\n",
    "        hoverinfo=\"label+value+percent parent\",\n",
    "        branchvalues=\"total\",\n",
    "    ),\n",
    "    row=1,\n",
    "    col=2,\n",
    ")\n",
    "\n",
    "fig.update_layout(\n",
    "    title=\"Balance Sheet Breakdown\", title_x=0.01, margin=dict(t=75, l=10, r=10, b=25)\n",
    ")\n",
    "fig.show()"
   ]
  },
  {
   "cell_type": "markdown",
   "id": "lonely-pacific",
   "metadata": {
    "execution": {
     "iopub.execute_input": "2021-07-02T23:32:10.789097Z",
     "iopub.status.busy": "2021-07-02T23:32:10.788829Z",
     "iopub.status.idle": "2021-07-02T23:32:10.796900Z",
     "shell.execute_reply": "2021-07-02T23:32:10.796358Z",
     "shell.execute_reply.started": "2021-07-02T23:32:10.789033Z"
    },
    "papermill": {},
    "tags": []
   },
   "source": [
    "## Output"
   ]
  },
  {
   "cell_type": "markdown",
   "id": "c20ad888-740d-4117-ba41-fb81da1a2dd6",
   "metadata": {
    "papermill": {},
    "tags": []
   },
   "source": [
    "### Save and share your graph as PNG"
   ]
  },
  {
   "cell_type": "code",
   "execution_count": 6,
   "id": "11c476d7-144e-4e4d-a36f-8df4c1e5e630",
   "metadata": {
    "execution": {
     "iopub.execute_input": "2023-01-31T14:53:09.190900Z",
     "iopub.status.busy": "2023-01-31T14:53:09.190429Z",
     "iopub.status.idle": "2023-01-31T14:53:10.370592Z",
     "shell.execute_reply": "2023-01-31T14:53:10.369861Z",
     "shell.execute_reply.started": "2023-01-31T14:53:09.190870Z"
    },
    "papermill": {},
    "tags": []
   },
   "outputs": [],
   "source": [
    "fig.write_image(png_output)\n",
    "\n",
    "# Share output with naas\n",
    "naas.asset.add(png_output)\n",
    "\n",
    "# -> Uncomment the line below to remove your asset\n",
    "# naas.asset.delete(html_output)"
   ]
  },
  {
   "cell_type": "markdown",
   "id": "6bafac51-6100-4ac9-926e-69e2c98a06c2",
   "metadata": {
    "papermill": {},
    "tags": []
   },
   "source": [
    "### Save and share your graph as HTML"
   ]
  },
  {
   "cell_type": "code",
   "execution_count": 7,
   "id": "8e07ea6b-5f43-45b1-8b25-71aac1392d45",
   "metadata": {
    "execution": {
     "iopub.execute_input": "2023-01-31T14:53:10.372437Z",
     "iopub.status.busy": "2023-01-31T14:53:10.371923Z",
     "iopub.status.idle": "2023-01-31T14:53:11.037420Z",
     "shell.execute_reply": "2023-01-31T14:53:11.036766Z",
     "shell.execute_reply.started": "2023-01-31T14:53:10.372403Z"
    },
    "papermill": {},
    "tags": []
   },
   "outputs": [],
   "source": [
    "fig.write_html(html_output)\n",
    "\n",
    "# Share output with naas\n",
    "naas.asset.add(html_output, params={\"inline\": True})\n",
    "\n",
    "# -> Uncomment the line below to remove your asset\n",
    "# naas.asset.delete(html_output)"
   ]
  },
  {
   "cell_type": "code",
   "execution_count": null,
   "id": "03ea0c36-5eff-4d98-aba6-8ee7a8d1442b",
   "metadata": {
    "papermill": {},
    "tags": []
   },
   "outputs": [],
   "source": []
  },
  {
   "cell_type": "code",
   "execution_count": null,
   "id": "93a4cf12-15e4-4d49-ac6c-5a436885e85b",
   "metadata": {
    "papermill": {},
    "tags": []
   },
   "outputs": [],
   "source": []
  }
 ],
 "metadata": {
  "kernelspec": {
   "display_name": "Python 3",
   "language": "python",
   "name": "python3"
  },
  "language_info": {
   "codemirror_mode": {
    "name": "ipython",
    "version": 3
   },
   "file_extension": ".py",
   "mimetype": "text/x-python",
   "name": "python",
   "nbconvert_exporter": "python",
   "pygments_lexer": "ipython3",
   "version": "3.9.6"
  },
  "papermill": {
   "default_parameters": {},
   "environment_variables": {},
   "parameters": {},
   "version": "2.3.3"
  },
  "widgets": {
   "application/vnd.jupyter.widget-state+json": {
    "state": {},
    "version_major": 2,
    "version_minor": 0
   }
  }
 },
 "nbformat": 4,
 "nbformat_minor": 5
}