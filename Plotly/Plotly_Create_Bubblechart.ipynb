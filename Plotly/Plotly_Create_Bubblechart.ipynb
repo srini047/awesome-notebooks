{
 "cells": [
  {
   "cell_type": "markdown",
   "id": "8da4a68c-32ef-480d-8955-cabde9283bb8",
   "metadata": {
    "papermill": {},
    "tags": []
   },
   "source": [
    "<img width=\"10%\" alt=\"Naas\" src=\"https://landen.imgix.net/jtci2pxwjczr/assets/5ice39g4.png?w=160\"/>\n"
   ]
  },
  {
   "cell_type": "markdown",
   "id": "simplified-greeting",
   "metadata": {
    "papermill": {},
    "tags": []
   },
   "source": [
    "# Plotly - Create Bubblechart\n",
    "<a href=\"https://app.naas.ai/user-redirect/naas/downloader?url=https://raw.githubusercontent.com/jupyter-naas/awesome-notebooks/master/Plotly/Plotly_Create_Bubblechart.ipynb\" target=\"_parent\"><img src=\"https://naasai-public.s3.eu-west-3.amazonaws.com/open_in_naas.svg\"/></a><br><br><a href=\"https://github.com/jupyter-naas/awesome-notebooks/issues/new?assignees=&labels=&template=template-request.md&title=Tool+-+Action+of+the+notebook+\">Template request</a> | <a href=\"https://github.com/jupyter-naas/awesome-notebooks/issues/new?assignees=&labels=bug&template=bug_report.md&title=Plotly+-+Create+Bubblechart:+Error+short+description\">Bug report</a>"
   ]
  },
  {
   "cell_type": "markdown",
   "id": "fc758347-da54-40ab-9b38-42c14a7b7fb3",
   "metadata": {
    "papermill": {},
    "tags": []
   },
   "source": [
    "**Tags:** #plotly #chart #bubblechart #dataviz #snippet #operations #image #html"
   ]
  },
  {
   "cell_type": "markdown",
   "id": "naas-author",
   "metadata": {
    "papermill": {},
    "tags": [
     "naas"
    ]
   },
   "source": [
    "**Author:** [Jeremy Ravenel](https://www.linkedin.com/in/ACoAAAJHE7sB5OxuKHuzguZ9L6lfDHqw--cdnJg/)"
   ]
  },
  {
   "cell_type": "markdown",
   "id": "naas-description",
   "metadata": {
    "papermill": {},
    "tags": [
     "description"
    ]
   },
   "source": [
    "**Description:** This notebook provides instructions on how to create a bubble chart using Plotly."
   ]
  },
  {
   "cell_type": "markdown",
   "id": "input_cell",
   "metadata": {
    "papermill": {},
    "tags": []
   },
   "source": [
    "## Input"
   ]
  },
  {
   "cell_type": "markdown",
   "id": "import_cell",
   "metadata": {
    "papermill": {},
    "tags": []
   },
   "source": [
    "### Import libraries"
   ]
  },
  {
   "cell_type": "code",
   "execution_count": 1,
   "id": "d04bad40-d64d-4a57-832b-a9eca0f5842f",
   "metadata": {
    "execution": {
     "iopub.execute_input": "2022-03-07T09:07:10.398306Z",
     "iopub.status.busy": "2022-03-07T09:07:10.397871Z",
     "iopub.status.idle": "2022-03-07T09:07:12.242233Z",
     "shell.execute_reply": "2022-03-07T09:07:12.241529Z",
     "shell.execute_reply.started": "2022-03-07T09:07:10.398235Z"
    },
    "papermill": {},
    "tags": []
   },
   "outputs": [],
   "source": [
    "import naas\n",
    "import plotly.express as px\n",
    "import pandas as pd"
   ]
  },
  {
   "cell_type": "markdown",
   "id": "758d0031-4b46-4f70-b65c-60190582606b",
   "metadata": {
    "papermill": {},
    "tags": []
   },
   "source": [
    "### Variables"
   ]
  },
  {
   "cell_type": "code",
   "execution_count": 2,
   "id": "8855238b-ecf0-400d-a99c-cef8de8123bd",
   "metadata": {
    "execution": {
     "iopub.execute_input": "2022-03-07T09:07:12.243565Z",
     "iopub.status.busy": "2022-03-07T09:07:12.243346Z",
     "iopub.status.idle": "2022-03-07T09:07:12.248582Z",
     "shell.execute_reply": "2022-03-07T09:07:12.246755Z",
     "shell.execute_reply.started": "2022-03-07T09:07:12.243536Z"
    },
    "papermill": {},
    "tags": []
   },
   "outputs": [],
   "source": [
    "title = \"Life Expectancy vs GDP per Capita GDP, 2007\"\n",
    "\n",
    "# Output paths\n",
    "output_image = f\"{title}.png\"\n",
    "output_html = f\"{title}.html\""
   ]
  },
  {
   "cell_type": "markdown",
   "id": "74d4a334-8fb4-429b-ab5f-d2be4dda4a1b",
   "metadata": {
    "papermill": {},
    "tags": []
   },
   "source": [
    "### Get data"
   ]
  },
  {
   "cell_type": "code",
   "execution_count": 3,
   "id": "19fbc012-960e-4bca-bfb9-7e2fd583b4f8",
   "metadata": {
    "execution": {
     "iopub.execute_input": "2022-03-07T09:07:12.249727Z",
     "iopub.status.busy": "2022-03-07T09:07:12.249512Z",
     "iopub.status.idle": "2022-03-07T09:07:12.377736Z",
     "shell.execute_reply": "2022-03-07T09:07:12.370562Z",
     "shell.execute_reply.started": "2022-03-07T09:07:12.249700Z"
    },
    "papermill": {},
    "tags": []
   },
   "outputs": [],
   "source": [
    "df = px.data.gapminder()\n",
    "df"
   ]
  },
  {
   "cell_type": "markdown",
   "id": "model_cell",
   "metadata": {
    "papermill": {},
    "tags": []
   },
   "source": [
    "## Model"
   ]
  },
  {
   "cell_type": "markdown",
   "id": "be181478-e915-420c-9fa7-b96397d285ab",
   "metadata": {
    "papermill": {},
    "tags": []
   },
   "source": [
    "### Create Bubblechart"
   ]
  },
  {
   "cell_type": "code",
   "execution_count": 4,
   "id": "embedded-wound",
   "metadata": {
    "execution": {
     "iopub.execute_input": "2022-03-07T09:07:12.380448Z",
     "iopub.status.busy": "2022-03-07T09:07:12.380022Z",
     "iopub.status.idle": "2022-03-07T09:07:12.786710Z",
     "shell.execute_reply": "2022-03-07T09:07:12.786110Z",
     "shell.execute_reply.started": "2022-03-07T09:07:12.380416Z"
    },
    "papermill": {},
    "tags": []
   },
   "outputs": [],
   "source": [
    "fig = px.scatter(\n",
    "    df.query(\"year==2007\"),\n",
    "    x=\"gdpPercap\",\n",
    "    y=\"lifeExp\",\n",
    "    size=\"pop\",\n",
    "    color=\"continent\",\n",
    "    hover_name=\"country\",\n",
    "    log_x=True,\n",
    "    size_max=60,\n",
    ")\n",
    "\n",
    "fig.update_layout(\n",
    "    plot_bgcolor=\"#ffffff\",\n",
    "    margin=dict(l=0, r=0, t=50, b=50),\n",
    "    width=1200,\n",
    "    height=800,\n",
    "    showlegend=False,\n",
    "    xaxis_nticks=36,\n",
    "    title=title,\n",
    "    xaxis=dict(\n",
    "        title=\"GDP per capita (dollars)\",\n",
    "        gridcolor=\"white\",\n",
    "        type=\"log\",\n",
    "        gridwidth=2,\n",
    "    ),\n",
    "    yaxis=dict(\n",
    "        title=\"Life Expectancy (years)\",\n",
    "        gridcolor=\"white\",\n",
    "        gridwidth=2,\n",
    "    ),\n",
    ")\n",
    "\n",
    "config = {\"displayModeBar\": False}\n",
    "fig.show(config=config)"
   ]
  },
  {
   "cell_type": "markdown",
   "id": "output_cell",
   "metadata": {
    "papermill": {},
    "tags": []
   },
   "source": [
    "## Output"
   ]
  },
  {
   "cell_type": "markdown",
   "id": "display_cell",
   "metadata": {
    "papermill": {},
    "tags": []
   },
   "source": [
    "### Export in PNG and HTML"
   ]
  },
  {
   "cell_type": "code",
   "execution_count": 5,
   "id": "selective-chase",
   "metadata": {
    "execution": {
     "iopub.execute_input": "2022-03-07T09:07:12.787960Z",
     "iopub.status.busy": "2022-03-07T09:07:12.787658Z",
     "iopub.status.idle": "2022-03-07T09:07:14.285441Z",
     "shell.execute_reply": "2022-03-07T09:07:14.284678Z",
     "shell.execute_reply.started": "2022-03-07T09:07:12.787933Z"
    },
    "papermill": {},
    "tags": []
   },
   "outputs": [],
   "source": [
    "fig.write_image(output_image, width=1200)\n",
    "fig.write_html(output_html)"
   ]
  },
  {
   "cell_type": "markdown",
   "id": "c9bb8e15-e713-4e50-a10d-011dc5d6cbec",
   "metadata": {
    "papermill": {},
    "tags": []
   },
   "source": [
    "### Generate shareable assets"
   ]
  },
  {
   "cell_type": "code",
   "execution_count": 6,
   "id": "d04728d8-bd74-479a-8fb6-0287c15a6eeb",
   "metadata": {
    "execution": {
     "iopub.execute_input": "2022-03-07T09:07:14.288321Z",
     "iopub.status.busy": "2022-03-07T09:07:14.288130Z",
     "iopub.status.idle": "2022-03-07T09:07:14.292364Z",
     "shell.execute_reply": "2022-03-07T09:07:14.291869Z",
     "shell.execute_reply.started": "2022-03-07T09:07:14.288297Z"
    },
    "papermill": {},
    "tags": []
   },
   "outputs": [],
   "source": [
    "link_image = naas.asset.add(output_image)\n",
    "link_html = naas.asset.add(output_html, {\"inline\": True})\n",
    "\n",
    "# -> Uncomment the line below to remove your assets\n",
    "# naas.asset.delete(output_image)\n",
    "# naas.asset.delete(output_html)"
   ]
  }
 ],
 "metadata": {
  "kernelspec": {
   "display_name": "Python 3",
   "language": "python",
   "name": "python3"
  },
  "language_info": {
   "codemirror_mode": {
    "name": "ipython",
    "version": 3
   },
   "file_extension": ".py",
   "mimetype": "text/x-python",
   "name": "python",
   "nbconvert_exporter": "python",
   "pygments_lexer": "ipython3",
   "version": "3.8.8"
  },
  "naas": {
   "notebook_id": "601597aa-8a4a-46c7-9ac4-d129a19f094f",
   "notebook_path": "Plotly/Plotly_Create_Bubblechart.ipynb"
  },
  "papermill": {
   "default_parameters": {},
   "environment_variables": {},
   "parameters": {},
   "version": "2.3.3"
  },
  "widgets": {
   "application/vnd.jupyter.widget-state+json": {
    "state": {},
    "version_major": 2,
    "version_minor": 0
   }
  }
 },
 "nbformat": 4,
 "nbformat_minor": 5
}