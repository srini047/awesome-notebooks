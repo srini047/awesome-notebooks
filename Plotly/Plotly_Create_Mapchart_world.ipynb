{
 "cells": [
  {
   "cell_type": "markdown",
   "id": "258570e7-30c0-4931-8b26-220176827b1a",
   "metadata": {
    "papermill": {},
    "tags": []
   },
   "source": [
    "<img width=\"10%\" alt=\"Naas\" src=\"https://landen.imgix.net/jtci2pxwjczr/assets/5ice39g4.png?w=160\"/>\n"
   ]
  },
  {
   "cell_type": "markdown",
   "id": "bibliographic-reach",
   "metadata": {
    "papermill": {},
    "tags": []
   },
   "source": [
    "# Plotly - Create Mapchart world\n",
    "<a href=\"https://app.naas.ai/user-redirect/naas/downloader?url=https://raw.githubusercontent.com/jupyter-naas/awesome-notebooks/master/Plotly/Plotly_Create_Mapchart_world.ipynb\" target=\"_parent\"><img src=\"https://naasai-public.s3.eu-west-3.amazonaws.com/open_in_naas.svg\"/></a><br><br><a href=\"https://github.com/jupyter-naas/awesome-notebooks/issues/new?assignees=&labels=&template=template-request.md&title=Tool+-+Action+of+the+notebook+\">Template request</a> | <a href=\"https://github.com/jupyter-naas/awesome-notebooks/issues/new?assignees=&labels=bug&template=bug_report.md&title=Plotly+-+Create+Mapchart+world:+Error+short+description\">Bug report</a>"
   ]
  },
  {
   "cell_type": "markdown",
   "id": "91ea1e69-37f6-4eda-87d9-edb0f388e167",
   "metadata": {
    "papermill": {},
    "tags": []
   },
   "source": [
    "**Tags:** #plotly #chart #worldmap #dataviz #snippet #operations #image #html"
   ]
  },
  {
   "cell_type": "markdown",
   "id": "naas-author",
   "metadata": {
    "papermill": {},
    "tags": [
     "naas"
    ]
   },
   "source": [
    "**Author:** [Jeremy Ravenel](https://www.linkedin.com/in/ACoAAAJHE7sB5OxuKHuzguZ9L6lfDHqw--cdnJg/)"
   ]
  },
  {
   "cell_type": "markdown",
   "id": "naas-description",
   "metadata": {
    "papermill": {},
    "tags": [
     "description"
    ]
   },
   "source": [
    "**Description:** This notebook provides a step-by-step guide to creating an interactive mapchart of the world using Plotly."
   ]
  },
  {
   "cell_type": "markdown",
   "id": "considered-tanzania",
   "metadata": {
    "papermill": {},
    "tags": []
   },
   "source": [
    "## Input"
   ]
  },
  {
   "cell_type": "markdown",
   "id": "import_cell",
   "metadata": {
    "papermill": {},
    "tags": []
   },
   "source": [
    "### Import libraries"
   ]
  },
  {
   "cell_type": "code",
   "execution_count": 1,
   "id": "demographic-chess",
   "metadata": {
    "execution": {
     "iopub.execute_input": "2022-03-07T09:26:36.728438Z",
     "iopub.status.busy": "2022-03-07T09:26:36.728161Z",
     "iopub.status.idle": "2022-03-07T09:26:38.748723Z",
     "shell.execute_reply": "2022-03-07T09:26:38.747889Z",
     "shell.execute_reply.started": "2022-03-07T09:26:36.728363Z"
    },
    "papermill": {},
    "tags": []
   },
   "outputs": [],
   "source": [
    "import naas\n",
    "import plotly.graph_objects as go\n",
    "import pandas as pd"
   ]
  },
  {
   "cell_type": "markdown",
   "id": "f0dbbfdf-d0fc-4316-8db7-82d6dd351ab9",
   "metadata": {
    "papermill": {},
    "tags": []
   },
   "source": [
    "### Variables"
   ]
  },
  {
   "cell_type": "code",
   "execution_count": 2,
   "id": "7d3d6bca-4daf-4e1d-aa17-10d391347187",
   "metadata": {
    "execution": {
     "iopub.execute_input": "2022-03-07T09:26:38.865070Z",
     "iopub.status.busy": "2022-03-07T09:26:38.864846Z",
     "iopub.status.idle": "2022-03-07T09:26:38.868327Z",
     "shell.execute_reply": "2022-03-07T09:26:38.867680Z",
     "shell.execute_reply.started": "2022-03-07T09:26:38.865049Z"
    },
    "papermill": {},
    "tags": []
   },
   "outputs": [],
   "source": [
    "title = \"Worldmap\"\n",
    "\n",
    "# Output paths\n",
    "output_image = f\"{title}.png\"\n",
    "output_html = f\"{title}.html\""
   ]
  },
  {
   "cell_type": "markdown",
   "id": "f066dfb3-d290-49f0-8f53-d51bc522bcc9",
   "metadata": {
    "papermill": {},
    "tags": []
   },
   "source": [
    "### Get data\n",
    "Columns :\n",
    "1. ISO code of country    \n",
    "2. Value"
   ]
  },
  {
   "cell_type": "markdown",
   "id": "aboriginal-imperial",
   "metadata": {
    "papermill": {},
    "tags": []
   },
   "source": [
    "To use the built-in countries geometry, provide locations as [three-letter ISO country codes](https://en.wikipedia.org/wiki/ISO_3166-1_alpha-3)."
   ]
  },
  {
   "cell_type": "code",
   "execution_count": 3,
   "id": "optical-danish",
   "metadata": {
    "execution": {
     "iopub.execute_input": "2022-03-07T09:26:41.837998Z",
     "iopub.status.busy": "2022-03-07T09:26:41.837770Z",
     "iopub.status.idle": "2022-03-07T09:26:42.039870Z",
     "shell.execute_reply": "2022-03-07T09:26:42.039207Z",
     "shell.execute_reply.started": "2022-03-07T09:26:41.837976Z"
    },
    "papermill": {},
    "tags": []
   },
   "outputs": [],
   "source": [
    "df = pd.read_csv(\n",
    "    \"https://raw.githubusercontent.com/plotly/datasets/master/2014_world_gdp_with_codes.csv\"\n",
    ")\n",
    "df"
   ]
  },
  {
   "cell_type": "markdown",
   "id": "entire-choir",
   "metadata": {
    "papermill": {},
    "tags": []
   },
   "source": [
    "## Model"
   ]
  },
  {
   "cell_type": "markdown",
   "id": "79f64417-4f51-45be-83f4-ffa432c6ff03",
   "metadata": {
    "papermill": {},
    "tags": []
   },
   "source": [
    "### Create the plot"
   ]
  },
  {
   "cell_type": "code",
   "execution_count": 5,
   "id": "desperate-decision",
   "metadata": {
    "execution": {
     "iopub.execute_input": "2022-03-07T09:27:10.923661Z",
     "iopub.status.busy": "2022-03-07T09:27:10.923431Z",
     "iopub.status.idle": "2022-03-07T09:27:10.951376Z",
     "shell.execute_reply": "2022-03-07T09:27:10.950331Z",
     "shell.execute_reply.started": "2022-03-07T09:27:10.923639Z"
    },
    "papermill": {},
    "tags": []
   },
   "outputs": [],
   "source": [
    "fig = go.Figure()\n",
    "\n",
    "fig = go.Figure(\n",
    "    data=go.Choropleth(\n",
    "        locations=df[\"CODE\"],\n",
    "        z=df[\"GDP (BILLIONS)\"],\n",
    "        text=df[\"COUNTRY\"],\n",
    "        colorscale=\"Blues\",\n",
    "        autocolorscale=False,\n",
    "        reversescale=True,\n",
    "        marker_line_color=\"darkgray\",\n",
    "        marker_line_width=0.5,\n",
    "        colorbar_tickprefix=\"$\",\n",
    "        colorbar_title=\"GDP<br>Billions US$\",\n",
    "    )\n",
    ")\n",
    "\n",
    "fig.update_layout(\n",
    "    title=title,\n",
    "    plot_bgcolor=\"#ffffff\",\n",
    "    legend_x=1,\n",
    "    geo=dict(\n",
    "        showframe=False,\n",
    "        showcoastlines=False,\n",
    "        # projection_type='equirectangular'\n",
    "    ),\n",
    "    dragmode=False,\n",
    "    width=1200,\n",
    "    height=800,\n",
    ")\n",
    "\n",
    "config = {\"displayModeBar\": False}\n",
    "fig.show(config=config)"
   ]
  },
  {
   "cell_type": "markdown",
   "id": "delayed-empire",
   "metadata": {
    "papermill": {},
    "tags": []
   },
   "source": [
    "## Output"
   ]
  },
  {
   "cell_type": "markdown",
   "id": "ea6ebc76-0d85-4f29-a88f-736e42cf1420",
   "metadata": {
    "execution": {
     "iopub.execute_input": "2021-10-17T15:35:59.991727Z",
     "iopub.status.busy": "2021-10-17T15:35:59.991476Z",
     "iopub.status.idle": "2021-10-17T15:36:00.000426Z",
     "shell.execute_reply": "2021-10-17T15:35:59.999753Z",
     "shell.execute_reply.started": "2021-10-17T15:35:59.991702Z"
    },
    "papermill": {},
    "tags": []
   },
   "source": [
    "### Export in PNG and HTML"
   ]
  },
  {
   "cell_type": "code",
   "execution_count": null,
   "id": "f3676232-8e05-4fb4-83aa-8be0e421160c",
   "metadata": {
    "papermill": {},
    "tags": []
   },
   "outputs": [],
   "source": [
    "fig.write_image(output_image, width=1200)\n",
    "fig.write_html(output_html)"
   ]
  },
  {
   "cell_type": "markdown",
   "id": "53d12909-ea1f-450f-8383-98e8829b77f7",
   "metadata": {
    "papermill": {},
    "tags": []
   },
   "source": [
    "### Generate shareable assets"
   ]
  },
  {
   "cell_type": "code",
   "execution_count": null,
   "id": "45263671-6b18-46f3-88d7-7bf5db36d58c",
   "metadata": {
    "papermill": {},
    "tags": []
   },
   "outputs": [],
   "source": [
    "link_image = naas.asset.add(output_image)\n",
    "link_html = naas.asset.add(output_html, {\"inline\": True})\n",
    "\n",
    "# -> Uncomment the line below to remove your assets\n",
    "# naas.asset.delete(output_image)\n",
    "# naas.asset.delete(output_html)"
   ]
  }
 ],
 "metadata": {
  "kernelspec": {
   "display_name": "Python 3",
   "language": "python",
   "name": "python3"
  },
  "language_info": {
   "codemirror_mode": {
    "name": "ipython",
    "version": 3
   },
   "file_extension": ".py",
   "mimetype": "text/x-python",
   "name": "python",
   "nbconvert_exporter": "python",
   "pygments_lexer": "ipython3",
   "version": "3.9.6"
  },
  "naas": {
   "notebook_id": "a292101d-7a49-4517-af13-6dbe838ac653",
   "notebook_path": "Plotly/Plotly_Create_Mapchart_world.ipynb"
  },
  "papermill": {
   "default_parameters": {},
   "environment_variables": {},
   "parameters": {},
   "version": "2.3.3"
  },
  "widgets": {
   "application/vnd.jupyter.widget-state+json": {
    "state": {},
    "version_major": 2,
    "version_minor": 0
   }
  }
 },
 "nbformat": 4,
 "nbformat_minor": 5
}