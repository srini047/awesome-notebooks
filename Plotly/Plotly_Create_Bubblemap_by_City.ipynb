{
 "cells": [
  {
   "cell_type": "markdown",
   "id": "03b7c281-b2db-42b7-a3a8-567a24bf862f",
   "metadata": {
    "papermill": {},
    "tags": []
   },
   "source": [
    "<img width=\"10%\" alt=\"Naas\" src=\"https://landen.imgix.net/jtci2pxwjczr/assets/5ice39g4.png?w=160\"/>"
   ]
  },
  {
   "cell_type": "markdown",
   "id": "7698dcd2-20ba-4350-84ae-546aa4a1231b",
   "metadata": {
    "papermill": {},
    "tags": []
   },
   "source": [
    "# Plotly - Create Bubblemap by City\n",
    "<a href=\"https://app.naas.ai/user-redirect/naas/downloader?url=https://raw.githubusercontent.com/jupyter-naas/awesome-notebooks/master/Plotly/Plotly_Create_Bubblemap_by_City.ipynb\" target=\"_parent\"><img src=\"https://naasai-public.s3.eu-west-3.amazonaws.com/Open_in_Naas_Lab.svg\"/></a><br><br><a href=\"https://github.com/jupyter-naas/awesome-notebooks/issues/new?assignees=&labels=&template=template-request.md&title=Tool+-+Action+of+the+notebook+\">Template request</a> | <a href=\"https://github.com/jupyter-naas/awesome-notebooks/issues/new?assignees=&labels=bug&template=bug_report.md&title=Plotly+-+Create+Bubblemap+by+City:+Error+short+description\">Bug report</a> | <a href=\"https://app.naas.ai/user-redirect/naas/downloader?url=https://raw.githubusercontent.com/jupyter-naas/awesome-notebooks/master/Naas/Naas_Start_data_product.ipynb\" target=\"_parent\">Generate Data Product</a>"
   ]
  },
  {
   "cell_type": "markdown",
   "id": "fcb1f273-4849-4b02-9580-62389b54004d",
   "metadata": {
    "papermill": {},
    "tags": []
   },
   "source": [
    "**Tags:** #plotly #bubblemap #city #python #snippet"
   ]
  },
  {
   "cell_type": "markdown",
   "id": "57d35c19-c949-431b-9bf3-6e1e771e8776",
   "metadata": {
    "papermill": {},
    "tags": []
   },
   "source": [
    "**Author:** [Florent Ravenel](https://www.linkedin.com/in/florent-ravenel/)"
   ]
  },
  {
   "cell_type": "markdown",
   "id": "61b68199-278e-4070-8b79-94de0b5409de",
   "metadata": {
    "papermill": {},
    "tags": []
   },
   "source": [
    "**Description:** This notebook will show how to creates a bubblemap with values by city using Plotly."
   ]
  },
  {
   "cell_type": "markdown",
   "id": "9c9cc64a-9fd1-4e33-93cf-fe193bbfd30c",
   "metadata": {
    "papermill": {},
    "tags": []
   },
   "source": [
    "**References:**\n",
    "- [Plotly Bubble map](https://plotly.com/python/bubble-maps/)\n",
    "- [Plotly Choropleth Maps](https://plotly.com/python/choropleth-maps/)"
   ]
  },
  {
   "cell_type": "markdown",
   "id": "eedee3d2-210d-4241-b7c5-6ec3ee4c1dfc",
   "metadata": {
    "papermill": {},
    "tags": []
   },
   "source": [
    "## Input"
   ]
  },
  {
   "cell_type": "markdown",
   "id": "54e9af6d-2e6f-4a01-9476-a2fce4738dd6",
   "metadata": {
    "papermill": {},
    "tags": []
   },
   "source": [
    "### Import libraries"
   ]
  },
  {
   "cell_type": "code",
   "execution_count": null,
   "id": "70a8e7f3-a908-44d3-9950-c4ea7e3d9b1f",
   "metadata": {
    "papermill": {},
    "tags": []
   },
   "outputs": [],
   "source": [
    "import pandas as pd\n",
    "import plotly.express as px\n",
    "import naas"
   ]
  },
  {
   "cell_type": "markdown",
   "id": "8ed8d2d4-8cb8-46c1-bd1f-79634976f4f6",
   "metadata": {
    "papermill": {},
    "tags": []
   },
   "source": [
    "### Setup Variables\n",
    "- `file_path`: file path containing cities with latitude and longitude\n",
    "- `output_html`: html output path"
   ]
  },
  {
   "cell_type": "code",
   "execution_count": null,
   "id": "8142c472-67c1-4651-a6af-4d7162740917",
   "metadata": {
    "papermill": {},
    "tags": []
   },
   "outputs": [],
   "source": [
    "# Inputs\n",
    "file_path = 'https://raw.githubusercontent.com/R-CoderDotCom/data/main/sample_datasets/population_spain.csv'\n",
    "\n",
    "# Outputs\n",
    "output_html = f\"Bubblemap.html\""
   ]
  },
  {
   "cell_type": "markdown",
   "id": "74f34f79-f831-4d9b-b5a1-4952994e8390",
   "metadata": {
    "papermill": {},
    "tags": []
   },
   "source": [
    "## Model"
   ]
  },
  {
   "cell_type": "markdown",
   "id": "67ac7d1b-c673-46ec-8ca4-e5c9e5b4f5f2",
   "metadata": {
    "papermill": {},
    "tags": []
   },
   "source": [
    "### Get data with latitude/longitude and values"
   ]
  },
  {
   "cell_type": "code",
   "execution_count": null,
   "id": "96656f79-7f54-4e00-883e-39f0932b26a4",
   "metadata": {
    "papermill": {},
    "tags": []
   },
   "outputs": [],
   "source": [
    "df = pd.read_csv(file_path, encoding ='latin-1')\n",
    "print(\"Row fetched:\", len(df))\n",
    "df.head(5)"
   ]
  },
  {
   "cell_type": "markdown",
   "id": "170a303e-7758-420b-a0c7-1cd32ff50a4a",
   "metadata": {
    "papermill": {},
    "tags": []
   },
   "source": [
    "### Create Bubblemap"
   ]
  },
  {
   "cell_type": "code",
   "execution_count": null,
   "id": "d069fc24-bb79-444d-b4e5-4d8af020fec4",
   "metadata": {
    "papermill": {},
    "tags": []
   },
   "outputs": [],
   "source": [
    "fig = px.scatter_mapbox(\n",
    "    df,\n",
    "    lat='latitude',\n",
    "    lon='longitude',\n",
    "    size='tot_pop',\n",
    "    text='name',\n",
    "    zoom=4,\n",
    "    mapbox_style='open-street-map'\n",
    ")\n",
    "fig.update_layout(\n",
    "    width=1200,\n",
    "    height=800,\n",
    ")\n",
    "config = {\"displayModeBar\": False}\n",
    "fig.show(config=config)"
   ]
  },
  {
   "cell_type": "markdown",
   "id": "f8d5a066-a966-4404-87ac-43ee08891ac7",
   "metadata": {
    "papermill": {},
    "tags": []
   },
   "source": [
    "## Output"
   ]
  },
  {
   "cell_type": "markdown",
   "id": "bf71f088-bf4b-40e8-9d61-208f126b67dd",
   "metadata": {
    "execution": {
     "iopub.execute_input": "2021-10-17T15:35:59.991727Z",
     "iopub.status.busy": "2021-10-17T15:35:59.991476Z",
     "iopub.status.idle": "2021-10-17T15:36:00.000426Z",
     "shell.execute_reply": "2021-10-17T15:35:59.999753Z",
     "shell.execute_reply.started": "2021-10-17T15:35:59.991702Z"
    },
    "papermill": {},
    "tags": []
   },
   "source": [
    "### Export HTML"
   ]
  },
  {
   "cell_type": "code",
   "execution_count": null,
   "id": "dd673642-d943-49c3-97dd-777c2414e2d8",
   "metadata": {
    "papermill": {},
    "tags": []
   },
   "outputs": [],
   "source": [
    "fig.write_html(output_html)"
   ]
  },
  {
   "cell_type": "markdown",
   "id": "51d0cc40-ecae-462a-af11-dd40d6d230d0",
   "metadata": {
    "papermill": {},
    "tags": []
   },
   "source": [
    "### Generate shareable asset"
   ]
  },
  {
   "cell_type": "code",
   "execution_count": null,
   "id": "84f9fee2-b887-42db-9134-1e2341bf2d5a",
   "metadata": {
    "papermill": {},
    "tags": []
   },
   "outputs": [],
   "source": [
    "link_html = naas.asset.add(output_html, {\"inline\": True})\n",
    "\n",
    "# -> Uncomment the line below to remove your assets\n",
    "# naas.asset.delete(output_html)"
   ]
  },
  {
   "cell_type": "markdown",
   "id": "90d4c139-a16b-46b2-837e-95f7dd926edd",
   "metadata": {
    "papermill": {},
    "tags": []
   },
   "source": [
    " "
   ]
  }
 ],
 "metadata": {
  "kernelspec": {
   "display_name": "Python 3",
   "language": "python",
   "name": "python3"
  },
  "language_info": {
   "codemirror_mode": {
    "name": "ipython",
    "version": 3
   },
   "file_extension": ".py",
   "mimetype": "text/x-python",
   "name": "python",
   "nbconvert_exporter": "python",
   "pygments_lexer": "ipython3",
   "version": "3.9.6"
  },
  "naas": {
   "notebook_id": "662519b80629a12be69f987f9d8875dddf515b461d05e9055158e24ff7fc2207",
   "notebook_path": "Plotly/Plotly_Create_Bubblemap_by_City.ipynb"
  },
  "papermill": {
   "default_parameters": {},
   "environment_variables": {},
   "parameters": {},
   "version": "2.4.0"
  },
  "widgets": {
   "application/vnd.jupyter.widget-state+json": {
    "state": {},
    "version_major": 2,
    "version_minor": 0
   }
  }
 },
 "nbformat": 4,
 "nbformat_minor": 5
}