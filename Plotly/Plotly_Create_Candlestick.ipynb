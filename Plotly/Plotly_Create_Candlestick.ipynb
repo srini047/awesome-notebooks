{
 "cells": [
  {
   "cell_type": "markdown",
   "id": "naas-logo",
   "metadata": {
    "papermill": {},
    "tags": [
     "naas"
    ]
   },
   "source": [
    "<img width=\"10%\" alt=\"Naas\" src=\"https://landen.imgix.net/jtci2pxwjczr/assets/5ice39g4.png?w=160\"/>"
   ]
  },
  {
   "cell_type": "markdown",
   "id": "f46461a1-a2be-4baf-925e-751c1feca15d",
   "metadata": {
    "execution": {
     "iopub.execute_input": "2021-10-16T17:13:12.744615Z",
     "iopub.status.busy": "2021-10-16T17:13:12.744389Z",
     "iopub.status.idle": "2021-10-16T17:13:12.747431Z",
     "shell.execute_reply": "2021-10-16T17:13:12.746699Z",
     "shell.execute_reply.started": "2021-10-16T17:13:12.744592Z"
    },
    "papermill": {},
    "tags": []
   },
   "source": [
    "# Plotly - Create Candlestick\n",
    "<a href=\"https://app.naas.ai/user-redirect/naas/downloader?url=https://raw.githubusercontent.com/jupyter-naas/awesome-notebooks/master/Plotly/Plotly_Create_Candlestick.ipynb\" target=\"_parent\"><img src=\"https://naasai-public.s3.eu-west-3.amazonaws.com/Open_in_Naas_Lab.svg\"/></a><br><br><a href=\"https://github.com/jupyter-naas/awesome-notebooks/issues/new?assignees=&labels=&template=template-request.md&title=Tool+-+Action+of+the+notebook+\">Template request</a> | <a href=\"https://github.com/jupyter-naas/awesome-notebooks/issues/new?assignees=&labels=bug&template=bug_report.md&title=Plotly+-+Create+Candlestick:+Error+short+description\">Bug report</a> | <a href=\"https://app.naas.ai/user-redirect/naas/downloader?url=https://raw.githubusercontent.com/jupyter-naas/awesome-notebooks/master/Naas/Naas_Start_data_product.ipynb\" target=\"_parent\">Generate Data Product</a>"
   ]
  },
  {
   "cell_type": "markdown",
   "id": "7df4bbf3-8007-4a65-bd30-7b1ef3f55010",
   "metadata": {
    "papermill": {},
    "tags": []
   },
   "source": [
    "**Tags:** #plotly #chart #candlestick #group #dataviz #snippet #operations #image #html"
   ]
  },
  {
   "cell_type": "markdown",
   "id": "naas-author",
   "metadata": {
    "papermill": {},
    "tags": [
     "naas"
    ]
   },
   "source": [
    "**Author:** [Jeremy Ravenel](https://www.linkedin.com/in/ACoAAAJHE7sB5OxuKHuzguZ9L6lfDHqw--cdnJg/)"
   ]
  },
  {
   "cell_type": "markdown",
   "id": "naas-description",
   "metadata": {
    "papermill": {},
    "tags": [
     "description"
    ]
   },
   "source": [
    "**Description:** This notebook provides an example of how to create a candlestick chart using the Plotly library."
   ]
  },
  {
   "cell_type": "markdown",
   "id": "685f8370-93a9-4959-9f28-611b74fd7bb1",
   "metadata": {
    "papermill": {},
    "tags": []
   },
   "source": [
    "## Input"
   ]
  },
  {
   "cell_type": "markdown",
   "id": "10bb05b6-2e47-494d-8b0f-70c3772817a0",
   "metadata": {
    "papermill": {},
    "tags": []
   },
   "source": [
    "### Import libraries"
   ]
  },
  {
   "cell_type": "code",
   "execution_count": 1,
   "id": "0caafda9-b5df-495a-95dd-34369b6ac5b0",
   "metadata": {
    "papermill": {},
    "tags": []
   },
   "outputs": [],
   "source": [
    "import naas\n",
    "from naas_drivers import yahoofinance\n",
    "import plotly.graph_objects as go\n",
    "import pandas as pd"
   ]
  },
  {
   "cell_type": "markdown",
   "id": "81a9bd8c-b6a8-46cf-843a-0c95f1a0c657",
   "metadata": {
    "papermill": {},
    "tags": []
   },
   "source": [
    "### Variables"
   ]
  },
  {
   "cell_type": "code",
   "execution_count": 2,
   "id": "08af88b3-38ae-42b3-8752-c451523ba1a1",
   "metadata": {
    "papermill": {},
    "tags": []
   },
   "outputs": [],
   "source": [
    "title = \"Candlestick\"\n",
    "\n",
    "# Output paths\n",
    "output_image = f\"{title}.png\"\n",
    "output_html = f\"{title}.html\""
   ]
  },
  {
   "cell_type": "markdown",
   "id": "cc9ce021-5146-4904-b34f-e8ca02c1409b",
   "metadata": {
    "papermill": {},
    "tags": []
   },
   "source": [
    "### Get data"
   ]
  },
  {
   "cell_type": "code",
   "execution_count": 3,
   "id": "efbe194c-f7f1-44e8-bce7-93a513d1bdb8",
   "metadata": {
    "papermill": {},
    "tags": []
   },
   "outputs": [],
   "source": [
    "date_from = -360  # Date can be number or date or today\n",
    "date_to = \"today\"\n",
    "df = yahoofinance.get(\"TSLA\", date_from=date_from, date_to=date_to)\n",
    "df"
   ]
  },
  {
   "cell_type": "markdown",
   "id": "7509f24b-b03b-40f9-9422-a87dc1069d5d",
   "metadata": {
    "papermill": {},
    "tags": []
   },
   "source": [
    "## Model"
   ]
  },
  {
   "cell_type": "markdown",
   "id": "39405a7e-525e-4ac7-aaf1-87438aaeb85b",
   "metadata": {
    "papermill": {},
    "tags": []
   },
   "source": [
    "### Create Candlestick"
   ]
  },
  {
   "cell_type": "code",
   "execution_count": 4,
   "id": "b3bd98d8-d3c2-446b-ae1f-8d6e0f5f83d8",
   "metadata": {
    "papermill": {},
    "tags": []
   },
   "outputs": [],
   "source": [
    "fig = go.Figure()\n",
    "fig = go.Figure(\n",
    "    data=[\n",
    "        go.Candlestick(\n",
    "            x=df[\"Date\"],\n",
    "            open=df[\"Open\"],\n",
    "            high=df[\"High\"],\n",
    "            low=df[\"Low\"],\n",
    "            close=df[\"Close\"],\n",
    "        )\n",
    "    ]\n",
    ")\n",
    "\n",
    "fig.update_layout(\n",
    "    title=title,\n",
    "    plot_bgcolor=\"#ffffff\",\n",
    "    width=1200,\n",
    "    height=800,\n",
    "    xaxis_tickfont_size=14,\n",
    "    yaxis=dict(\n",
    "        title=\"Price in $\",\n",
    "        titlefont_size=16,\n",
    "        tickfont_size=14,\n",
    "    ),\n",
    ")\n",
    "config = {\"displayModeBar\": False}\n",
    "fig.show(config=config)"
   ]
  },
  {
   "cell_type": "markdown",
   "id": "fa96ad4c-13d6-4410-a64a-915a713bcab0",
   "metadata": {
    "papermill": {},
    "tags": []
   },
   "source": [
    "## Output"
   ]
  },
  {
   "cell_type": "markdown",
   "id": "80810632-32d7-4396-adcc-27263b8124ba",
   "metadata": {
    "papermill": {},
    "tags": []
   },
   "source": [
    "### Export in PNG and HTML"
   ]
  },
  {
   "cell_type": "code",
   "execution_count": 5,
   "id": "f1e1caae-edf8-4349-87be-870c0860c4f1",
   "metadata": {
    "papermill": {},
    "tags": []
   },
   "outputs": [],
   "source": [
    "fig.write_image(output_image, width=1200)\n",
    "fig.write_html(output_html)"
   ]
  },
  {
   "cell_type": "markdown",
   "id": "0c90bc56-7ad6-41b5-8380-529dcd71eda3",
   "metadata": {
    "papermill": {},
    "tags": []
   },
   "source": [
    "### Generate shareable assets"
   ]
  },
  {
   "cell_type": "code",
   "execution_count": 6,
   "id": "993f934f-b551-4981-a884-a6be636d8a90",
   "metadata": {
    "papermill": {},
    "tags": []
   },
   "outputs": [],
   "source": [
    "link_image = naas.asset.add(output_image)\n",
    "link_html = naas.asset.add(output_html, {\"inline\": True})\n",
    "\n",
    "# -> Uncomment the line below to remove your assets\n",
    "# naas.asset.delete(output_image)\n",
    "# naas.asset.delete(output_html)"
   ]
  }
 ],
 "metadata": {
  "kernelspec": {
   "display_name": "Python 3",
   "language": "python",
   "name": "python3"
  },
  "language_info": {
   "codemirror_mode": {
    "name": "ipython",
    "version": 3
   },
   "file_extension": ".py",
   "mimetype": "text/x-python",
   "name": "python",
   "nbconvert_exporter": "python",
   "pygments_lexer": "ipython3",
   "version": "3.8.8"
  },
  "naas": {
   "notebook_id": "517e1dc7f83b92be09f8be6d565dc49f1b608178f833c7e3aa8b30f5b4687c7f",
   "notebook_path": "Plotly/Plotly_Create_Candlestick.ipynb"
  },
  "papermill": {
   "default_parameters": {},
   "environment_variables": {},
   "parameters": {},
   "version": "2.3.3"
  },
  "widgets": {
   "application/vnd.jupyter.widget-state+json": {
    "state": {
     "3b31869c4dad485580f483550b4c79d8": {
      "model_module": "@jupyter-widgets/controls",
      "model_module_version": "1.5.0",
      "model_name": "ButtonModel",
      "state": {
       "button_style": "primary",
       "description": "Copy URL",
       "layout": "IPY_MODEL_563107586d5a4c8889d06243c5c23e23",
       "style": "IPY_MODEL_97e71ad1c0384594a7953156f74be35d"
      }
     },
     "4a3b7b64a44b47d1ab8d6f10761eb31b": {
      "model_module": "@jupyter-widgets/output",
      "model_module_version": "1.0.0",
      "model_name": "OutputModel",
      "state": {
       "layout": "IPY_MODEL_ba87fc1bd9354be9b23b86408e71de90"
      }
     },
     "563107586d5a4c8889d06243c5c23e23": {
      "model_module": "@jupyter-widgets/base",
      "model_module_version": "1.2.0",
      "model_name": "LayoutModel",
      "state": {}
     },
     "86851b17820b4bd188a4e957c836fe0a": {
      "model_module": "@jupyter-widgets/base",
      "model_module_version": "1.2.0",
      "model_name": "LayoutModel",
      "state": {}
     },
     "8e930c1ab3434be29b5e85bf5f1da23d": {
      "model_module": "@jupyter-widgets/controls",
      "model_module_version": "1.5.0",
      "model_name": "ButtonModel",
      "state": {
       "button_style": "primary",
       "description": "Copy URL",
       "layout": "IPY_MODEL_bb1da32ea38e4713a4e01a78c8607810",
       "style": "IPY_MODEL_ba03d18a640e4f3b9ca4faeec51a18db"
      }
     },
     "97e71ad1c0384594a7953156f74be35d": {
      "model_module": "@jupyter-widgets/controls",
      "model_module_version": "1.5.0",
      "model_name": "ButtonStyleModel",
      "state": {}
     },
     "ad3f8803be7a481fbe616e8bcc371caf": {
      "model_module": "@jupyter-widgets/output",
      "model_module_version": "1.0.0",
      "model_name": "OutputModel",
      "state": {
       "layout": "IPY_MODEL_86851b17820b4bd188a4e957c836fe0a"
      }
     },
     "ba03d18a640e4f3b9ca4faeec51a18db": {
      "model_module": "@jupyter-widgets/controls",
      "model_module_version": "1.5.0",
      "model_name": "ButtonStyleModel",
      "state": {}
     },
     "ba87fc1bd9354be9b23b86408e71de90": {
      "model_module": "@jupyter-widgets/base",
      "model_module_version": "1.2.0",
      "model_name": "LayoutModel",
      "state": {}
     },
     "bb1da32ea38e4713a4e01a78c8607810": {
      "model_module": "@jupyter-widgets/base",
      "model_module_version": "1.2.0",
      "model_name": "LayoutModel",
      "state": {}
     }
    },
    "version_major": 2,
    "version_minor": 0
   }
  }
 },
 "nbformat": 4,
 "nbformat_minor": 5
}