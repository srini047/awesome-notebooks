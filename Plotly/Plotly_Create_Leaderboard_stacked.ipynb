{
 "cells": [
  {
   "cell_type": "markdown",
   "id": "c2d4e392-15c4-48ff-8aa6-31ccdcf18ee3",
   "metadata": {
    "papermill": {},
    "tags": []
   },
   "source": [
    "<img width=\"10%\" alt=\"Naas\" src=\"https://landen.imgix.net/jtci2pxwjczr/assets/5ice39g4.png?w=160\"/>\n"
   ]
  },
  {
   "cell_type": "markdown",
   "id": "military-doubt",
   "metadata": {
    "papermill": {},
    "tags": []
   },
   "source": [
    "# Plotly - Create Leaderboard stacked\n",
    "<a href=\"https://app.naas.ai/user-redirect/naas/downloader?url=https://raw.githubusercontent.com/jupyter-naas/awesome-notebooks/master/Plotly/Plotly_Create_Leaderboard_stacked.ipynb\" target=\"_parent\"><img src=\"https://naasai-public.s3.eu-west-3.amazonaws.com/Open_in_Naas_Lab.svg\"/></a><br><br><a href=\"https://github.com/jupyter-naas/awesome-notebooks/issues/new?assignees=&labels=&template=template-request.md&title=Tool+-+Action+of+the+notebook+\">Template request</a> | <a href=\"https://github.com/jupyter-naas/awesome-notebooks/issues/new?assignees=&labels=bug&template=bug_report.md&title=Plotly+-+Create+Leaderboard+stacked:+Error+short+description\">Bug report</a> | <a href=\"https://app.naas.ai/user-redirect/naas/downloader?url=https://raw.githubusercontent.com/jupyter-naas/awesome-notebooks/master/Naas/Naas_Start_data_product.ipynb\" target=\"_parent\">Generate Data Product</a>"
   ]
  },
  {
   "cell_type": "markdown",
   "id": "bd0a026e-6c1a-4d45-b60a-c5a2592c73c5",
   "metadata": {
    "papermill": {},
    "tags": []
   },
   "source": [
    "**Tags:** #plotly #chart #horizontalbar #dataviz #snippet #operations #image #html"
   ]
  },
  {
   "cell_type": "markdown",
   "id": "naas-author",
   "metadata": {
    "papermill": {},
    "tags": [
     "naas"
    ]
   },
   "source": [
    "**Author:** [Florent Ravenel](https://www.linkedin.com/in/ACoAABCNSioBW3YZHc2lBHVG0E_TXYWitQkmwog/)"
   ]
  },
  {
   "cell_type": "markdown",
   "id": "naas-description",
   "metadata": {
    "papermill": {},
    "tags": [
     "description"
    ]
   },
   "source": [
    "**Description:** This notebook provides an example of how to create a leaderboard using Plotly's stacked bar chart visualization."
   ]
  },
  {
   "cell_type": "markdown",
   "id": "input_cell",
   "metadata": {
    "papermill": {},
    "tags": []
   },
   "source": [
    "## Input"
   ]
  },
  {
   "cell_type": "markdown",
   "id": "import_cell",
   "metadata": {
    "papermill": {},
    "tags": []
   },
   "source": [
    "### Import libraries"
   ]
  },
  {
   "cell_type": "code",
   "execution_count": null,
   "id": "52e927f2-d9d4-48d1-bcbe-76191991ba74",
   "metadata": {
    "papermill": {},
    "tags": []
   },
   "outputs": [],
   "source": [
    "import plotly.express as px\n",
    "import pandas as pd"
   ]
  },
  {
   "cell_type": "markdown",
   "id": "bd7df3fd-52cf-4871-b70b-c7cda6ab508a",
   "metadata": {
    "papermill": {},
    "tags": []
   },
   "source": [
    "### Variables"
   ]
  },
  {
   "cell_type": "code",
   "execution_count": null,
   "id": "453eeb93-4d95-40f5-bf67-79c058090ef7",
   "metadata": {
    "papermill": {},
    "tags": []
   },
   "outputs": [],
   "source": [
    "title = \"Leaderboard_stacked\"\n",
    "\n",
    "# Output paths\n",
    "output_image = f\"{title}.png\"\n",
    "output_html = f\"{title}.html\""
   ]
  },
  {
   "cell_type": "markdown",
   "id": "model_cell",
   "metadata": {
    "papermill": {},
    "tags": []
   },
   "source": [
    "## Model"
   ]
  },
  {
   "cell_type": "markdown",
   "id": "53bd28a4-2873-42f4-bffa-8137deb4572f",
   "metadata": {
    "papermill": {},
    "tags": []
   },
   "source": [
    "### Get data model"
   ]
  },
  {
   "cell_type": "code",
   "execution_count": null,
   "id": "7ee1e1bc-1b71-40eb-8dec-753880d4e694",
   "metadata": {
    "papermill": {},
    "tags": []
   },
   "outputs": [],
   "source": [
    "data = [\n",
    "    {\"LABEL\": \"A\", \"GROUPS\": \"1\", \"VALUE\": 88},\n",
    "    {\"LABEL\": \"A\", \"GROUPS\": \"2\", \"VALUE\": 12},\n",
    "    {\"LABEL\": \"B\", \"GROUPS\": \"1\", \"VALUE\": 43},\n",
    "    {\"LABEL\": \"B\", \"GROUPS\": \"2\", \"VALUE\": 43},\n",
    "    {\"LABEL\": \"C\", \"GROUPS\": \"1\", \"VALUE\": 2},\n",
    "    {\"LABEL\": \"C\", \"GROUPS\": \"2\", \"VALUE\": 87},\n",
    "    {\"LABEL\": \"D\", \"GROUPS\": \"1\", \"VALUE\": 67},\n",
    "    {\"LABEL\": \"D\", \"GROUPS\": \"2\", \"VALUE\": 111},\n",
    "    {\"LABEL\": \"E\", \"GROUPS\": \"1\", \"VALUE\": 24},\n",
    "    {\"LABEL\": \"E\", \"GROUPS\": \"2\", \"VALUE\": 123},\n",
    "]\n",
    "df = pd.DataFrame(data)\n",
    "df"
   ]
  },
  {
   "cell_type": "markdown",
   "id": "f79e32bd-fb2e-47c6-8945-ffac6e96199c",
   "metadata": {
    "papermill": {},
    "tags": []
   },
   "source": [
    "### Prep data"
   ]
  },
  {
   "cell_type": "code",
   "execution_count": null,
   "id": "2d61d2c1-969c-4da3-b977-89b72b12ce54",
   "metadata": {
    "papermill": {},
    "tags": []
   },
   "outputs": [],
   "source": [
    "# Calc VALUE TOTAL by LABEL to sort bar\n",
    "def prep_data(df):\n",
    "    # Calc total\n",
    "    df_tot = (\n",
    "        df.groupby([\"LABEL\"], as_index=False)\n",
    "        .agg({\"VALUE\": \"sum\"})\n",
    "        .rename(columns={\"VALUE\": \"VALUE_TOT\"})\n",
    "    )\n",
    "\n",
    "    # Merge dataframe\n",
    "    df = pd.merge(df, df_tot, on=\"LABEL\")\n",
    "\n",
    "    # Sort values\n",
    "    df = df.sort_values(by=[\"VALUE_TOT\", \"LABEL\"])\n",
    "    return df\n",
    "\n",
    "\n",
    "df_plot = prep_data(df)\n",
    "df_plot"
   ]
  },
  {
   "cell_type": "markdown",
   "id": "ccfe8de8-0314-49d7-8fd5-5669f35a2af4",
   "metadata": {
    "papermill": {},
    "tags": []
   },
   "source": [
    "### Create the plot"
   ]
  },
  {
   "cell_type": "code",
   "execution_count": null,
   "id": "active-account",
   "metadata": {
    "papermill": {},
    "tags": []
   },
   "outputs": [],
   "source": [
    "def create_barchart(df, label, groups, value):\n",
    "    last_value = \"{:,.0f}\".format(df[value].sum())\n",
    "    colors = {\n",
    "        \"1\": \"blue\",\n",
    "        \"2\": \"green\",\n",
    "    }\n",
    "    fig = px.bar(\n",
    "        df,\n",
    "        y=label,\n",
    "        color=groups,\n",
    "        x=value,\n",
    "        orientation=\"h\",\n",
    "        color_discrete_map=colors,\n",
    "        text=value,\n",
    "    )\n",
    "    fig.update_layout(\n",
    "        title=f\"<b>Ranking by label</b><br><span style='font-size: 13px;'>Total value: {last_value}</span>\",\n",
    "        title_font=dict(family=\"Arial\", size=18, color=\"black\"),\n",
    "        legend_title=\"Packs\",\n",
    "        legend_title_font=dict(family=\"Arial\", size=11, color=\"black\"),\n",
    "        legend_font=dict(family=\"Arial\", size=10, color=\"black\"),\n",
    "        font=dict(family=\"Arial\", size=12, color=\"black\"),\n",
    "        plot_bgcolor=\"#ffffff\",\n",
    "        width=1200,\n",
    "        height=800,\n",
    "        xaxis_title=None,\n",
    "        xaxis_showticklabels=False,\n",
    "        yaxis_title=None,\n",
    "        margin_pad=10,\n",
    "        margin_t=100,\n",
    "    )\n",
    "    fig.update_yaxes(categoryarray=df[label].unique())\n",
    "    # Display fig\n",
    "    config = {\"displayModeBar\": False}\n",
    "    fig.show(config=config)\n",
    "    return fig\n",
    "\n",
    "\n",
    "fig = create_barchart(df_plot, \"LABEL\", \"GROUPS\", \"VALUE\")"
   ]
  },
  {
   "cell_type": "markdown",
   "id": "output_cell",
   "metadata": {
    "papermill": {},
    "tags": []
   },
   "source": [
    "## Output"
   ]
  },
  {
   "cell_type": "markdown",
   "id": "display_cell",
   "metadata": {
    "papermill": {},
    "tags": []
   },
   "source": [
    "### Export in PNG and HTML"
   ]
  },
  {
   "cell_type": "code",
   "execution_count": null,
   "id": "touched-nurse",
   "metadata": {
    "papermill": {},
    "tags": []
   },
   "outputs": [],
   "source": [
    "fig.write_image(output_image, width=1200)\n",
    "fig.write_html(output_html)"
   ]
  },
  {
   "cell_type": "markdown",
   "id": "16adb8c4-2834-4bc0-b942-7898465b235e",
   "metadata": {
    "papermill": {},
    "tags": []
   },
   "source": [
    "### Generate shareable assets"
   ]
  },
  {
   "cell_type": "code",
   "execution_count": null,
   "id": "7800b0cc-2657-4d6b-9379-34e32cb6ed26",
   "metadata": {
    "papermill": {},
    "tags": []
   },
   "outputs": [],
   "source": [
    "link_image = naas.asset.add(output_image)\n",
    "link_html = naas.asset.add(output_html, {\"inline\": True})\n",
    "\n",
    "# -> Uncomment the line below to remove your assets\n",
    "# naas.asset.delete(output_image)\n",
    "# naas.asset.delete(output_html)"
   ]
  }
 ],
 "metadata": {
  "kernelspec": {
   "display_name": "Python 3",
   "language": "python",
   "name": "python3"
  },
  "language_info": {
   "codemirror_mode": {
    "name": "ipython",
    "version": 3
   },
   "file_extension": ".py",
   "mimetype": "text/x-python",
   "name": "python",
   "nbconvert_exporter": "python",
   "pygments_lexer": "ipython3",
   "version": "3.8.8"
  },
  "naas": {
   "notebook_id": "a64b46ba602d154f700f434315aea461c9170c8f939d1062ae9277dd131941c8",
   "notebook_path": "Plotly/Plotly_Create_Leaderboard_stacked.ipynb"
  },
  "papermill": {
   "default_parameters": {},
   "environment_variables": {},
   "parameters": {},
   "version": "2.3.3"
  }
 },
 "nbformat": 4,
 "nbformat_minor": 5
}