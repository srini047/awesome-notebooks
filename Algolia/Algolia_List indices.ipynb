{
 "cells": [
  {
   "cell_type": "markdown",
   "id": "11d08c61-173e-4247-8a82-3893b9579c03",
   "metadata": {
    "papermill": {},
    "tags": []
   },
   "source": [
    "<img width=\"10%\" alt=\"Naas\" src=\"https://landen.imgix.net/jtci2pxwjczr/assets/5ice39g4.png?w=160\"/>"
   ]
  },
  {
   "cell_type": "markdown",
   "id": "6a7dc56a-a769-4fcf-add5-fe7c6d976784",
   "metadata": {
    "papermill": {},
    "tags": []
   },
   "source": [
    "# Algolia - List indices\n",
    "<a href=\"https://app.naas.ai/user-redirect/naas/downloader?url=https://raw.githubusercontent.com/jupyter-naas/awesome-notebooks/master/Algolia/Algolia_List%20indices.ipynb\" target=\"_parent\"><img src=\"https://naasai-public.s3.eu-west-3.amazonaws.com/Open_in_Naas_Lab.svg\"/></a><br><br><a href=\"https://github.com/jupyter-naas/awesome-notebooks/issues/new?assignees=&labels=&template=template-request.md&title=Tool+-+Action+of+the+notebook+\">Template request</a> | <a href=\"https://github.com/jupyter-naas/awesome-notebooks/issues/new?assignees=&labels=bug&template=bug_report.md&title=Algolia+-+List+indices:+Error+short+description\">Bug report</a> | <a href=\"https://app.naas.ai/user-redirect/naas/downloader?url=https://raw.githubusercontent.com/jupyter-naas/awesome-notebooks/master/Naas/Naas_Start_data_product.ipynb\" target=\"_parent\">Generate Data Product</a>"
   ]
  },
  {
   "cell_type": "markdown",
   "id": "7c5b1cd2-a7c3-4e7a-b7ed-670542dbe124",
   "metadata": {
    "papermill": {},
    "tags": []
   },
   "source": [
    "**Tags:** #algolia #python #api #index #list"
   ]
  },
  {
   "cell_type": "markdown",
   "id": "5cb77dcb-252c-448a-8c54-1b3cecc566e0",
   "metadata": {
    "papermill": {},
    "tags": []
   },
   "source": [
    "**Author:** [Florent Ravenel](https://www.linkedin.com/in/florent-ravenel/)"
   ]
  },
  {
   "cell_type": "markdown",
   "id": "157047ba-776b-430e-add1-5f72083ead65",
   "metadata": {
    "papermill": {},
    "tags": []
   },
   "source": [
    "**Description:** This notebook shows how to get a list of indices with their associated metadata from Algolia using Python. This method retrieves a list of all indices associated with a given Application ID.\n",
    "The returned list includes the names of the indices as well as their associated metadata, such as the number of records, size, and last build time."
   ]
  },
  {
   "cell_type": "markdown",
   "id": "60d5b331-15e2-4812-b086-13dd192ac2fa",
   "metadata": {
    "papermill": {},
    "tags": []
   },
   "source": [
    "**References:**\n",
    "- [Algolia API Reference](https://www.algolia.com/doc/api-reference/api-methods/list-indices/)\n",
    "- [Algolia Python Client](https://github.com/algolia/algoliasearch-client-python)"
   ]
  },
  {
   "cell_type": "markdown",
   "id": "554e5d73-9fd4-4e6c-9ff0-7758851faa90",
   "metadata": {
    "papermill": {},
    "tags": []
   },
   "source": [
    "## Input"
   ]
  },
  {
   "cell_type": "markdown",
   "id": "7df6b816-2392-4301-855a-f49278e5837d",
   "metadata": {
    "papermill": {},
    "tags": []
   },
   "source": [
    "### Import libraries"
   ]
  },
  {
   "cell_type": "code",
   "execution_count": null,
   "id": "aa0e3e6f-1260-4452-8abf-7c084e26c8a4",
   "metadata": {
    "papermill": {},
    "tags": []
   },
   "outputs": [],
   "source": [
    "try:\n",
    "    from algoliasearch.search_client import SearchClient\n",
    "except:\n",
    "    !pip install algoliasearch --user\n",
    "    from algoliasearch.search_client import SearchClient\n",
    "import naas"
   ]
  },
  {
   "cell_type": "markdown",
   "id": "e1b7463d-b2ae-47ae-8ca4-97ae1fe801db",
   "metadata": {
    "papermill": {},
    "tags": []
   },
   "source": [
    "### Setup Variables\n",
    "- `app_id`: Algolia application ID. [Get your credentials](https://dashboard.algolia.com/account/api-keyss)\n",
    "- `api_key`: Algolia API key. [Get your credentials](https://dashboard.algolia.com/account/api-keys)"
   ]
  },
  {
   "cell_type": "code",
   "execution_count": null,
   "id": "cfa97168-63eb-4e8c-89c3-0a5d26f47740",
   "metadata": {
    "papermill": {},
    "tags": []
   },
   "outputs": [],
   "source": [
    "app_id = naas.secret.get(\"ALGOLIA_APP_ID\") or \"<YOUR_APP_ID>\"\n",
    "api_key = naas.secret.get(\"ALGOLIA_API_KEY\") or \"<YOUR_API_KEY>\""
   ]
  },
  {
   "cell_type": "markdown",
   "id": "8871707b-c02f-4800-ae8e-fd551aa0717f",
   "metadata": {
    "papermill": {},
    "tags": []
   },
   "source": [
    "## Model"
   ]
  },
  {
   "cell_type": "markdown",
   "id": "dc30c4a0-d4df-42d5-a3c9-084f31b38523",
   "metadata": {
    "papermill": {},
    "tags": []
   },
   "source": [
    "### Connect to Algolia"
   ]
  },
  {
   "cell_type": "code",
   "execution_count": null,
   "id": "def6224a-8fb4-42bf-a882-08e26ff6e3e2",
   "metadata": {
    "papermill": {},
    "tags": []
   },
   "outputs": [],
   "source": [
    "# Initialize the Algolia client\n",
    "client = SearchClient.create(app_id, api_key)"
   ]
  },
  {
   "cell_type": "markdown",
   "id": "dfc29d71-db3a-4c28-a046-ca4333a42f64",
   "metadata": {
    "papermill": {},
    "tags": []
   },
   "source": [
    "### List indices"
   ]
  },
  {
   "cell_type": "code",
   "execution_count": null,
   "id": "5cd787c1-e901-422e-b7bf-8b2b262ab0ef",
   "metadata": {
    "papermill": {},
    "tags": []
   },
   "outputs": [],
   "source": [
    "indices = client.list_indices()\n",
    "indices"
   ]
  },
  {
   "cell_type": "markdown",
   "id": "88605bbe-4b30-4b3e-877c-ace2a00a0073",
   "metadata": {
    "papermill": {},
    "tags": []
   },
   "source": [
    "## Output"
   ]
  },
  {
   "cell_type": "markdown",
   "id": "286cc7a7-0a43-4a22-8d39-145824ba6105",
   "metadata": {
    "papermill": {},
    "tags": []
   },
   "source": [
    "### Display outputs"
   ]
  },
  {
   "cell_type": "code",
   "execution_count": null,
   "id": "41802411-a551-4164-9e8c-be692d128476",
   "metadata": {
    "papermill": {},
    "tags": []
   },
   "outputs": [],
   "source": [
    "print(\"Indices fetched:\", len(indices.get(\"items\")))\n",
    "indices.get(\"items\")"
   ]
  }
 ],
 "metadata": {
  "kernelspec": {
   "display_name": "Python 3",
   "language": "python",
   "name": "python3"
  },
  "language_info": {
   "codemirror_mode": {
    "name": "ipython",
    "version": 3
   },
   "file_extension": ".py",
   "mimetype": "text/x-python",
   "name": "python",
   "nbconvert_exporter": "python",
   "pygments_lexer": "ipython3",
   "version": "3.9.6"
  },
  "naas": {
   "notebook_id": "f5ee3a4a99ee8df9d2b7751ff23b22e1813c83a7c0eb3aae1d3ea0995563ccf2",
   "notebook_path": "Algolia/Algolia_List indices.ipynb"
  },
  "papermill": {
   "default_parameters": {},
   "environment_variables": {},
   "parameters": {},
   "version": "2.4.0"
  },
  "widgets": {
   "application/vnd.jupyter.widget-state+json": {
    "state": {},
    "version_major": 2,
    "version_minor": 0
   }
  }
 },
 "nbformat": 4,
 "nbformat_minor": 5
}