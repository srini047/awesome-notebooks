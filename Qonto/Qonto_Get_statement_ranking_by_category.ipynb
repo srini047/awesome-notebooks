{
 "cells": [
  {
   "cell_type": "markdown",
   "id": "exceptional-theorem",
   "metadata": {
    "papermill": {},
    "tags": []
   },
   "source": [
    "<img width=\"10%\" alt=\"Naas\" src=\"https://landen.imgix.net/jtci2pxwjczr/assets/5ice39g4.png?w=160\"/>"
   ]
  },
  {
   "cell_type": "markdown",
   "id": "legitimate-conservation",
   "metadata": {
    "papermill": {},
    "tags": []
   },
   "source": [
    "# Qonto - Get statement ranking by category\n",
    "<a href=\"https://app.naas.ai/user-redirect/naas/downloader?url=https://raw.githubusercontent.com/jupyter-naas/awesome-notebooks/master/Qonto/Qonto_Get_statement_ranking_by_category.ipynb\" target=\"_parent\"><img src=\"https://naasai-public.s3.eu-west-3.amazonaws.com/Open_in_Naas_Lab.svg\"/></a><br><br><a href=\"https://github.com/jupyter-naas/awesome-notebooks/issues/new?assignees=&labels=&template=template-request.md&title=Tool+-+Action+of+the+notebook+\">Template request</a> | <a href=\"https://github.com/jupyter-naas/awesome-notebooks/issues/new?assignees=&labels=bug&template=bug_report.md&title=Qonto+-+Get+statement+ranking+by+category:+Error+short+description\">Bug report</a> | <a href=\"https://app.naas.ai/user-redirect/naas/downloader?url=https://raw.githubusercontent.com/jupyter-naas/awesome-notebooks/master/Naas/Naas_Start_data_product.ipynb\" target=\"_parent\">Generate Data Product</a>"
   ]
  },
  {
   "cell_type": "markdown",
   "id": "28f2e2b6-7fa2-4261-9b8d-cbf25f99cd15",
   "metadata": {
    "papermill": {},
    "tags": []
   },
   "source": [
    "**Tags:** #qonto #bank #statement #naas_drivers #finance #snippet #dataframe"
   ]
  },
  {
   "cell_type": "markdown",
   "id": "e039f74c-436d-4d14-a019-77efbcd5556c",
   "metadata": {
    "papermill": {},
    "tags": []
   },
   "source": [
    "**Author:** [Florent Ravenel](https://www.linkedin.com/in/florent-ravenel/)"
   ]
  },
  {
   "cell_type": "markdown",
   "id": "naas-description",
   "metadata": {
    "papermill": {},
    "tags": [
     "description"
    ]
   },
   "source": [
    "**Description:** This notebook provides a way to organize and analyze financial statements by category to gain insights into spending patterns."
   ]
  },
  {
   "cell_type": "markdown",
   "id": "input_cell",
   "metadata": {
    "papermill": {},
    "tags": []
   },
   "source": [
    "## Input"
   ]
  },
  {
   "cell_type": "markdown",
   "id": "import_cell",
   "metadata": {
    "papermill": {},
    "tags": []
   },
   "source": [
    "### Import library"
   ]
  },
  {
   "cell_type": "code",
   "execution_count": null,
   "id": "ebc068bf-8564-4908-8a73-c7bfa91fc6c9",
   "metadata": {
    "papermill": {},
    "tags": []
   },
   "outputs": [],
   "source": [
    "from naas_drivers import qonto"
   ]
  },
  {
   "cell_type": "markdown",
   "id": "f5348fc4-5fd2-486c-a1f0-67f72afb34ae",
   "metadata": {
    "papermill": {},
    "tags": []
   },
   "source": [
    "### Get your Qonto credentials\n",
    "<a href='https://www.notion.so/naas-official/Qonto-driver-Get-your-credentials-0cc97828b4e7467c8bfbcf704a77e5f4'>How to get your credentials ?</a>"
   ]
  },
  {
   "cell_type": "code",
   "execution_count": null,
   "id": "677b7c87-6f76-4a04-ad0b-3324dab9fcc6",
   "metadata": {
    "papermill": {},
    "tags": []
   },
   "outputs": [],
   "source": [
    "QONTO_USER_ID = \"YOUR_USER_ID\"\n",
    "QONTO_SECRET_KEY = \"YOUR_SECRET_KEY\""
   ]
  },
  {
   "cell_type": "markdown",
   "id": "f7d98835-708a-44e0-b508-d7aba759d5eb",
   "metadata": {
    "papermill": {},
    "tags": []
   },
   "source": [
    "### Parameters"
   ]
  },
  {
   "cell_type": "code",
   "execution_count": null,
   "id": "d95a4155-c950-4f62-b2e2-4f089f398797",
   "metadata": {
    "papermill": {},
    "tags": []
   },
   "outputs": [],
   "source": [
    "# Date to start extraction, format: \"AAAA-MM-JJ\", example: \"2021-01-01\"\n",
    "date_from = None\n",
    "# Date to end extraction, format: \"AAAA-MM-JJ\", example: \"2021-01-01\", default = now\n",
    "date_to = None"
   ]
  },
  {
   "cell_type": "markdown",
   "id": "model_cell",
   "metadata": {
    "papermill": {},
    "tags": []
   },
   "source": [
    "## Model"
   ]
  },
  {
   "cell_type": "markdown",
   "id": "cd2885ec-68d2-4b32-9b51-9fa6af3de7e4",
   "metadata": {
    "papermill": {},
    "tags": []
   },
   "source": [
    "### Get statement summary"
   ]
  },
  {
   "cell_type": "code",
   "execution_count": null,
   "id": "046c4b2e-4c9e-4509-bbe3-9e11b390f54e",
   "metadata": {
    "papermill": {},
    "tags": []
   },
   "outputs": [],
   "source": [
    "df_summary = qonto.connect(QONTO_USER_ID, QONTO_SECRET_KEY).statements.summary(\n",
    "    summary_type=\"CATEGORY\", date_from=date_from, date_to=date_to\n",
    ")"
   ]
  },
  {
   "cell_type": "markdown",
   "id": "output_cell",
   "metadata": {
    "papermill": {},
    "tags": []
   },
   "source": [
    "## Output"
   ]
  },
  {
   "cell_type": "markdown",
   "id": "display_cell",
   "metadata": {
    "papermill": {},
    "tags": []
   },
   "source": [
    "### Display result"
   ]
  },
  {
   "cell_type": "code",
   "execution_count": null,
   "id": "780a635b-f73d-446a-8ba3-2ca85ca420ac",
   "metadata": {
    "papermill": {},
    "tags": []
   },
   "outputs": [],
   "source": [
    "df_summary"
   ]
  },
  {
   "cell_type": "code",
   "execution_count": null,
   "id": "1df06869-5b60-429d-bba4-efa4cb03a949",
   "metadata": {
    "papermill": {},
    "tags": []
   },
   "outputs": [],
   "source": []
  }
 ],
 "metadata": {
  "kernelspec": {
   "display_name": "Python 3",
   "language": "python",
   "name": "python3"
  },
  "language_info": {
   "codemirror_mode": {
    "name": "ipython",
    "version": 3
   },
   "file_extension": ".py",
   "mimetype": "text/x-python",
   "name": "python",
   "nbconvert_exporter": "python",
   "pygments_lexer": "ipython3",
   "version": "3.8.8"
  },
  "naas": {
   "notebook_id": "e34d7a0d1f542aed1377cf95b45f7b2ae126679533186edb3529908fe0b406c8",
   "notebook_path": "Qonto/Qonto_Get_statement_ranking_by_category.ipynb"
  },
  "papermill": {
   "default_parameters": {},
   "environment_variables": {},
   "parameters": {},
   "version": "2.3.3"
  },
  "widgets": {
   "application/vnd.jupyter.widget-state+json": {
    "state": {},
    "version_major": 2,
    "version_minor": 0
   }
  }
 },
 "nbformat": 4,
 "nbformat_minor": 5
}