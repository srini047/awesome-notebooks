{
 "cells": [
  {
   "cell_type": "markdown",
   "id": "exceptional-theorem",
   "metadata": {
    "papermill": {},
    "tags": []
   },
   "source": [
    "<img width=\"10%\" alt=\"Naas\" src=\"https://landen.imgix.net/jtci2pxwjczr/assets/5ice39g4.png?w=160\"/>"
   ]
  },
  {
   "cell_type": "markdown",
   "id": "legitimate-conservation",
   "metadata": {
    "papermill": {},
    "tags": []
   },
   "source": [
    "# Qonto - Get statement barline\n",
    "<a href=\"https://app.naas.ai/user-redirect/naas/downloader?url=https://raw.githubusercontent.com/jupyter-naas/awesome-notebooks/master/Qonto/Qonto_Get_statement_barline.ipynb\" target=\"_parent\"><img src=\"https://naasai-public.s3.eu-west-3.amazonaws.com/open_in_naas.svg\"/></a><br><br><a href=\"https://github.com/jupyter-naas/awesome-notebooks/issues/new?assignees=&labels=&template=template-request.md&title=Tool+-+Action+of+the+notebook+\">Template request</a> | <a href=\"https://github.com/jupyter-naas/awesome-notebooks/issues/new?assignees=&labels=bug&template=bug_report.md&title=Qonto+-+Get+statement+barline:+Error+short+description\">Bug report</a>"
   ]
  },
  {
   "cell_type": "markdown",
   "id": "28f2e2b6-7fa2-4261-9b8d-cbf25f99cd15",
   "metadata": {
    "papermill": {},
    "tags": []
   },
   "source": [
    "**Tags:** #qonto #bank #statement #plotly #barline #naas_drivers #finance #snippet"
   ]
  },
  {
   "cell_type": "markdown",
   "id": "f5a46a45-6b68-4230-8936-0bc555090f11",
   "metadata": {
    "papermill": {},
    "tags": []
   },
   "source": [
    "**Author:** [Florent Ravenel](https://www.linkedin.com/in/florent-ravenel/)"
   ]
  },
  {
   "cell_type": "markdown",
   "id": "naas-description",
   "metadata": {
    "papermill": {},
    "tags": [
     "description"
    ]
   },
   "source": [
    "**Description:** This notebook provides a convenient way to generate barlines for Qonto statements."
   ]
  },
  {
   "cell_type": "markdown",
   "id": "input_cell",
   "metadata": {
    "papermill": {},
    "tags": []
   },
   "source": [
    "## Input"
   ]
  },
  {
   "cell_type": "markdown",
   "id": "import_cell",
   "metadata": {
    "papermill": {},
    "tags": []
   },
   "source": [
    "### Import library"
   ]
  },
  {
   "cell_type": "code",
   "execution_count": null,
   "id": "ebc068bf-8564-4908-8a73-c7bfa91fc6c9",
   "metadata": {
    "papermill": {},
    "tags": []
   },
   "outputs": [],
   "source": [
    "from naas_drivers import qonto"
   ]
  },
  {
   "cell_type": "markdown",
   "id": "f5348fc4-5fd2-486c-a1f0-67f72afb34ae",
   "metadata": {
    "papermill": {},
    "tags": []
   },
   "source": [
    "### Get your Qonto credentials\n",
    "<a href='https://www.notion.so/naas-official/Qonto-driver-Get-your-credentials-0cc97828b4e7467c8bfbcf704a77e5f4'>How to get your credentials ?</a>"
   ]
  },
  {
   "cell_type": "code",
   "execution_count": null,
   "id": "677b7c87-6f76-4a04-ad0b-3324dab9fcc6",
   "metadata": {
    "papermill": {},
    "tags": []
   },
   "outputs": [],
   "source": [
    "QONTO_USER_ID = \"YOUR_USER_ID\"\n",
    "QONTO_SECRET_KEY = \"YOUR_SECRET_KEY\""
   ]
  },
  {
   "cell_type": "markdown",
   "id": "11fe7a91-0a15-4af7-b502-e9451ebe81e0",
   "metadata": {
    "papermill": {},
    "tags": []
   },
   "source": [
    "### Parameters"
   ]
  },
  {
   "cell_type": "code",
   "execution_count": null,
   "id": "3372f008-16ff-455b-a9d1-5de208e23e60",
   "metadata": {
    "papermill": {},
    "tags": []
   },
   "outputs": [],
   "source": [
    "# Date to start extraction, format: \"AAAA-MM-JJ\", example: \"2021-01-01\"\n",
    "date_from = None\n",
    "# Date to end extraction, format: \"AAAA-MM-JJ\", example: \"2021-01-01\", default = now\n",
    "date_to = None\n",
    "# Title of the graph, default = \"Evolution du {date_from} au {date_to}\"\n",
    "title = f\"💵<b> Qonto - Suivi des encaissements / Décaissements</b><br>\"\n",
    "# Name of line displayed in legend\n",
    "line_name = \"Solde\"\n",
    "# Line color\n",
    "line_color = \"#1ea1f1\"\n",
    "# Name of cash in bar displayed in legend\n",
    "cashin_name = \"Encaissements\"\n",
    "# Cash in bar color\n",
    "cashin_color = \"#47dd82\"\n",
    "# Name of cash out bar displayed in legend\n",
    "cashout_name = \"Décaissements\"\n",
    "# Cash out bar color\n",
    "cashout_color = \"#ea484f\""
   ]
  },
  {
   "cell_type": "markdown",
   "id": "model_cell",
   "metadata": {
    "papermill": {},
    "tags": []
   },
   "source": [
    "## Model"
   ]
  },
  {
   "cell_type": "markdown",
   "id": "cd2885ec-68d2-4b32-9b51-9fa6af3de7e4",
   "metadata": {
    "papermill": {},
    "tags": []
   },
   "source": [
    "### Create barline chart"
   ]
  },
  {
   "cell_type": "code",
   "execution_count": null,
   "id": "046c4b2e-4c9e-4509-bbe3-9e11b390f54e",
   "metadata": {
    "papermill": {},
    "tags": []
   },
   "outputs": [],
   "source": [
    "barline = qonto.connect(QONTO_USER_ID, QONTO_SECRET_KEY).statements.barline(\n",
    "    date_from=date_from,\n",
    "    date_to=date_to,\n",
    "    title=title,\n",
    "    line_name=line_name,\n",
    "    line_color=line_color,\n",
    "    cashin_name=cashin_name,\n",
    "    cashin_color=cashin_color,\n",
    "    cashout_name=cashout_name,\n",
    "    cashout_color=cashout_color,\n",
    ")"
   ]
  },
  {
   "cell_type": "markdown",
   "id": "output_cell",
   "metadata": {
    "papermill": {},
    "tags": []
   },
   "source": [
    "## Output"
   ]
  },
  {
   "cell_type": "markdown",
   "id": "display_cell",
   "metadata": {
    "papermill": {},
    "tags": []
   },
   "source": [
    "### Display chart"
   ]
  },
  {
   "cell_type": "code",
   "execution_count": null,
   "id": "aboriginal-phone",
   "metadata": {
    "papermill": {},
    "tags": []
   },
   "outputs": [],
   "source": [
    "barline"
   ]
  },
  {
   "cell_type": "code",
   "execution_count": null,
   "id": "504340d0-c0cf-4ad6-a5a2-5999d3a5d4d3",
   "metadata": {
    "papermill": {},
    "tags": []
   },
   "outputs": [],
   "source": []
  }
 ],
 "metadata": {
  "kernelspec": {
   "display_name": "Python 3",
   "language": "python",
   "name": "python3"
  },
  "language_info": {
   "codemirror_mode": {
    "name": "ipython",
    "version": 3
   },
   "file_extension": ".py",
   "mimetype": "text/x-python",
   "name": "python",
   "nbconvert_exporter": "python",
   "pygments_lexer": "ipython3",
   "version": "3.8.8"
  },
  "naas": {
   "notebook_id": "a577a6ef-b27c-4424-94bd-41598d8cca8e",
   "notebook_path": "Qonto/Qonto_Get_statement_barline.ipynb"
  },
  "papermill": {
   "default_parameters": {},
   "environment_variables": {},
   "parameters": {},
   "version": "2.3.3"
  },
  "widgets": {
   "application/vnd.jupyter.widget-state+json": {
    "state": {},
    "version_major": 2,
    "version_minor": 0
   }
  }
 },
 "nbformat": 4,
 "nbformat_minor": 5
}