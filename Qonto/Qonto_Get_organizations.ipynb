{
 "cells": [
  {
   "cell_type": "markdown",
   "id": "exceptional-theorem",
   "metadata": {
    "papermill": {},
    "tags": []
   },
   "source": [
    "<img width=\"10%\" alt=\"Naas\" src=\"https://landen.imgix.net/jtci2pxwjczr/assets/5ice39g4.png?w=160\"/>"
   ]
  },
  {
   "cell_type": "markdown",
   "id": "legitimate-conservation",
   "metadata": {
    "papermill": {},
    "tags": []
   },
   "source": [
    "# Qonto - Get organizations\n",
    "<a href=\"https://app.naas.ai/user-redirect/naas/downloader?url=https://raw.githubusercontent.com/jupyter-naas/awesome-notebooks/master/Qonto/Qonto_Get_organizations.ipynb\" target=\"_parent\"><img src=\"https://naasai-public.s3.eu-west-3.amazonaws.com/Open_in_Naas_Lab.svg\"/></a><br><br><a href=\"https://github.com/jupyter-naas/awesome-notebooks/issues/new?assignees=&labels=&template=template-request.md&title=Tool+-+Action+of+the+notebook+\">Template request</a> | <a href=\"https://github.com/jupyter-naas/awesome-notebooks/issues/new?assignees=&labels=bug&template=bug_report.md&title=Qonto+-+Get+organizations:+Error+short+description\">Bug report</a> | <a href=\"https://app.naas.ai/user-redirect/naas/downloader?url=https://raw.githubusercontent.com/jupyter-naas/awesome-notebooks/master/Naas/Naas_Start_data_product.ipynb\" target=\"_parent\">Generate Data Product</a>"
   ]
  },
  {
   "cell_type": "markdown",
   "id": "28f2e2b6-7fa2-4261-9b8d-cbf25f99cd15",
   "metadata": {
    "papermill": {},
    "tags": []
   },
   "source": [
    "**Tags:** #qonto #bank #organizations #positions #naas_drivers #finance #snippet #dataframe"
   ]
  },
  {
   "cell_type": "markdown",
   "id": "8712472c-29fa-42a8-bab2-e8d6793f92e8",
   "metadata": {
    "papermill": {},
    "tags": []
   },
   "source": [
    "**Author:** [Florent Ravenel](https://www.linkedin.com/in/florent-ravenel/)"
   ]
  },
  {
   "cell_type": "markdown",
   "id": "naas-description",
   "metadata": {
    "papermill": {},
    "tags": [
     "description"
    ]
   },
   "source": [
    "**Description:** Qonto is a financial service that helps organizations manage their finances and get organized."
   ]
  },
  {
   "cell_type": "markdown",
   "id": "input_cell",
   "metadata": {
    "papermill": {},
    "tags": []
   },
   "source": [
    "## Input"
   ]
  },
  {
   "cell_type": "markdown",
   "id": "import_cell",
   "metadata": {
    "papermill": {},
    "tags": []
   },
   "source": [
    "### Import library"
   ]
  },
  {
   "cell_type": "code",
   "execution_count": null,
   "id": "ebc068bf-8564-4908-8a73-c7bfa91fc6c9",
   "metadata": {
    "papermill": {},
    "tags": []
   },
   "outputs": [],
   "source": [
    "from naas_drivers import qonto"
   ]
  },
  {
   "cell_type": "markdown",
   "id": "f5348fc4-5fd2-486c-a1f0-67f72afb34ae",
   "metadata": {
    "papermill": {},
    "tags": []
   },
   "source": [
    "### Get your Qonto credentials\n",
    "<a href='https://www.notion.so/naas-official/Qonto-driver-Get-your-credentials-0cc97828b4e7467c8bfbcf704a77e5f4'>How to get your credentials ?</a>"
   ]
  },
  {
   "cell_type": "code",
   "execution_count": null,
   "id": "677b7c87-6f76-4a04-ad0b-3324dab9fcc6",
   "metadata": {
    "papermill": {},
    "tags": []
   },
   "outputs": [],
   "source": [
    "QONTO_USER_ID = \"YOUR_USER_ID\"\n",
    "QONTO_SECRET_KEY = \"YOUR_SECRET_KEY\""
   ]
  },
  {
   "cell_type": "markdown",
   "id": "model_cell",
   "metadata": {
    "papermill": {},
    "tags": []
   },
   "source": [
    "## Model"
   ]
  },
  {
   "cell_type": "markdown",
   "id": "cd2885ec-68d2-4b32-9b51-9fa6af3de7e4",
   "metadata": {
    "papermill": {},
    "tags": []
   },
   "source": [
    "### Get organizations"
   ]
  },
  {
   "cell_type": "code",
   "execution_count": null,
   "id": "046c4b2e-4c9e-4509-bbe3-9e11b390f54e",
   "metadata": {
    "papermill": {},
    "tags": []
   },
   "outputs": [],
   "source": [
    "df_organizations = qonto.connect(QONTO_USER_ID, QONTO_SECRET_KEY).organizations.get()"
   ]
  },
  {
   "cell_type": "markdown",
   "id": "output_cell",
   "metadata": {
    "papermill": {},
    "tags": []
   },
   "source": [
    "## Output"
   ]
  },
  {
   "cell_type": "markdown",
   "id": "display_cell",
   "metadata": {
    "papermill": {},
    "tags": []
   },
   "source": [
    "### Display result"
   ]
  },
  {
   "cell_type": "code",
   "execution_count": null,
   "id": "aboriginal-phone",
   "metadata": {
    "papermill": {},
    "tags": []
   },
   "outputs": [],
   "source": [
    "df_organizations"
   ]
  }
 ],
 "metadata": {
  "kernelspec": {
   "display_name": "Python 3",
   "language": "python",
   "name": "python3"
  },
  "language_info": {
   "codemirror_mode": {
    "name": "ipython",
    "version": 3
   },
   "file_extension": ".py",
   "mimetype": "text/x-python",
   "name": "python",
   "nbconvert_exporter": "python",
   "pygments_lexer": "ipython3",
   "version": "3.8.8"
  },
  "naas": {
   "notebook_id": "31964e4e6eb09f073ef7878131675b687729a27f0a488f0186e6666b735b861e",
   "notebook_path": "Qonto/Qonto_Get_organizations.ipynb"
  },
  "papermill": {
   "default_parameters": {},
   "environment_variables": {},
   "parameters": {},
   "version": "2.3.3"
  },
  "widgets": {
   "application/vnd.jupyter.widget-state+json": {
    "state": {},
    "version_major": 2,
    "version_minor": 0
   }
  }
 },
 "nbformat": 4,
 "nbformat_minor": 5
}