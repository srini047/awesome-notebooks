{
 "cells": [
  {
   "cell_type": "markdown",
   "id": "norwegian-canberra",
   "metadata": {
    "papermill": {},
    "tags": []
   },
   "source": [
    "<img width=\"10%\" alt=\"Naas\" src=\"https://landen.imgix.net/jtci2pxwjczr/assets/5ice39g4.png?w=160\"/>"
   ]
  },
  {
   "cell_type": "markdown",
   "id": "elect-legislation",
   "metadata": {
    "papermill": {},
    "tags": []
   },
   "source": [
    "# Qonto - Get positions\n",
    "<a href=\"https://app.naas.ai/user-redirect/naas/downloader?url=https://raw.githubusercontent.com/jupyter-naas/awesome-notebooks/master/Qonto/Qonto_Get_positions.ipynb\" target=\"_parent\"><img src=\"https://naasai-public.s3.eu-west-3.amazonaws.com/Open_in_Naas_Lab.svg\"/></a><br><br><a href=\"https://github.com/jupyter-naas/awesome-notebooks/issues/new?assignees=&labels=&template=template-request.md&title=Tool+-+Action+of+the+notebook+\">Template request</a> | <a href=\"https://github.com/jupyter-naas/awesome-notebooks/issues/new?assignees=&labels=bug&template=bug_report.md&title=Qonto+-+Get+positions:+Error+short+description\">Bug report</a> | <a href=\"https://app.naas.ai/user-redirect/naas/downloader?url=https://raw.githubusercontent.com/jupyter-naas/awesome-notebooks/master/Naas/Naas_Start_data_product.ipynb\" target=\"_parent\">Generate Data Product</a>"
   ]
  },
  {
   "cell_type": "markdown",
   "id": "852cbbbd-6b3f-4aad-adef-db29376b90bd",
   "metadata": {
    "papermill": {},
    "tags": []
   },
   "source": [
    "**Tags:** #qonto #bank #organizations #positions #naas_drivers #finance #snippet #dataframe"
   ]
  },
  {
   "cell_type": "markdown",
   "id": "42415c8f-db97-4a8d-8d6e-2c72fe8ee59d",
   "metadata": {
    "papermill": {},
    "tags": []
   },
   "source": [
    "**Author:** [Florent Ravenel](https://www.linkedin.com/in/florent-ravenel/)"
   ]
  },
  {
   "cell_type": "markdown",
   "id": "naas-description",
   "metadata": {
    "papermill": {},
    "tags": [
     "description"
    ]
   },
   "source": [
    "**Description:** This notebook provides an overview of the positions available through Qonto, a digital banking service."
   ]
  },
  {
   "cell_type": "markdown",
   "id": "input_cell",
   "metadata": {
    "papermill": {},
    "tags": []
   },
   "source": [
    "## Input"
   ]
  },
  {
   "cell_type": "markdown",
   "id": "import_cell",
   "metadata": {
    "papermill": {},
    "tags": []
   },
   "source": [
    "### Import library"
   ]
  },
  {
   "cell_type": "code",
   "execution_count": null,
   "id": "24a8d426-a1f8-401c-b976-d374a0b1e27a",
   "metadata": {
    "papermill": {},
    "tags": []
   },
   "outputs": [],
   "source": [
    "from naas_drivers import qonto"
   ]
  },
  {
   "cell_type": "markdown",
   "id": "663da99a-07f3-43d1-81c0-0a06efb5a569",
   "metadata": {
    "papermill": {},
    "tags": []
   },
   "source": [
    "### Get your Qonto credentials\n",
    "<a href='https://www.notion.so/naas-official/Qonto-driver-Get-your-credentials-0cc97828b4e7467c8bfbcf704a77e5f4'>How to get your credentials ?</a>"
   ]
  },
  {
   "cell_type": "code",
   "execution_count": null,
   "id": "b5c27b97-f362-4ee1-aa90-45da3a5ed4dc",
   "metadata": {
    "papermill": {},
    "tags": []
   },
   "outputs": [],
   "source": [
    "QONTO_USER_ID = \"YOUR_USER_ID\"\n",
    "QONTO_SECRET_KEY = \"YOUR_SECRET_KEY\""
   ]
  },
  {
   "cell_type": "markdown",
   "id": "model_cell",
   "metadata": {
    "papermill": {},
    "tags": []
   },
   "source": [
    "## Model"
   ]
  },
  {
   "cell_type": "markdown",
   "id": "ecbf0417-2bce-4aba-bc25-1ebeaf7804b5",
   "metadata": {
    "papermill": {},
    "tags": []
   },
   "source": [
    "### Get bank positions"
   ]
  },
  {
   "cell_type": "code",
   "execution_count": null,
   "id": "a95ab8bc-7738-42f8-8b78-4df975a57b84",
   "metadata": {
    "papermill": {},
    "tags": []
   },
   "outputs": [],
   "source": [
    "df_positions = qonto.connect(QONTO_USER_ID, QONTO_SECRET_KEY).positions.get()"
   ]
  },
  {
   "cell_type": "markdown",
   "id": "output_cell",
   "metadata": {
    "papermill": {},
    "tags": []
   },
   "source": [
    "## Output"
   ]
  },
  {
   "cell_type": "markdown",
   "id": "display_cell",
   "metadata": {
    "papermill": {},
    "tags": []
   },
   "source": [
    "### Display result"
   ]
  },
  {
   "cell_type": "code",
   "execution_count": null,
   "id": "e9f0f2c4-e863-4e74-8de5-03bc90f2f1b4",
   "metadata": {
    "papermill": {},
    "tags": []
   },
   "outputs": [],
   "source": [
    "df_positions"
   ]
  }
 ],
 "metadata": {
  "kernelspec": {
   "display_name": "Python 3",
   "language": "python",
   "name": "python3"
  },
  "language_info": {
   "codemirror_mode": {
    "name": "ipython",
    "version": 3
   },
   "file_extension": ".py",
   "mimetype": "text/x-python",
   "name": "python",
   "nbconvert_exporter": "python",
   "pygments_lexer": "ipython3",
   "version": "3.8.8"
  },
  "naas": {
   "notebook_id": "ea9e48f2660d5e99bf7c98f34152cb079f7643c88a1cb3bbb689828118d28d35",
   "notebook_path": "Qonto/Qonto_Get_positions.ipynb"
  },
  "papermill": {
   "default_parameters": {},
   "environment_variables": {},
   "parameters": {},
   "version": "2.3.3"
  },
  "widgets": {
   "application/vnd.jupyter.widget-state+json": {
    "state": {},
    "version_major": 2,
    "version_minor": 0
   }
  }
 },
 "nbformat": 4,
 "nbformat_minor": 5
}