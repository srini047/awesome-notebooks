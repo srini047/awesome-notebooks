{
 "cells": [
  {
   "cell_type": "markdown",
   "id": "e04c2a66-0232-4311-8445-d69e43f287e7",
   "metadata": {
    "execution": {
     "iopub.execute_input": "2022-01-07T21:15:57.009861Z",
     "iopub.status.busy": "2022-01-07T21:15:57.009532Z",
     "iopub.status.idle": "2022-01-07T21:15:57.013136Z",
     "shell.execute_reply": "2022-01-07T21:15:57.012559Z",
     "shell.execute_reply.started": "2022-01-07T21:15:57.009826Z"
    },
    "papermill": {},
    "tags": []
   },
   "source": [
    "<img width=\"10%\" alt=\"Naas\" src=\"https://landen.imgix.net/jtci2pxwjczr/assets/5ice39g4.png?w=160\"/>"
   ]
  },
  {
   "cell_type": "markdown",
   "id": "47c20033-2e43-4c30-9d89-6fd47bfa98e9",
   "metadata": {
    "papermill": {},
    "tags": []
   },
   "source": [
    "# Twitter - Get posts stats\n",
    "<a href=\"https://app.naas.ai/user-redirect/naas/downloader?url=https://raw.githubusercontent.com/jupyter-naas/awesome-notebooks/master/Twitter/Twitter_Get_posts_stats.ipynb\" target=\"_parent\"><img src=\"https://naasai-public.s3.eu-west-3.amazonaws.com/open_in_naas.svg\"/></a><br><br><a href=\"https://github.com/jupyter-naas/awesome-notebooks/issues/new?assignees=&labels=&template=template-request.md&title=Tool+-+Action+of+the+notebook+\">Template request</a> | <a href=\"https://github.com/jupyter-naas/awesome-notebooks/issues/new?assignees=&labels=bug&template=bug_report.md&title=Twitter+-+Get+posts+stats:+Error+short+description\">Bug report</a>"
   ]
  },
  {
   "cell_type": "markdown",
   "id": "6ec59f5e-ac9e-4ab0-a0e9-51b01b38dcaa",
   "metadata": {
    "papermill": {},
    "tags": []
   },
   "source": [
    "**Tags:** #twitter #post #comments #naas_drivers #snippet #content"
   ]
  },
  {
   "cell_type": "markdown",
   "id": "c40e4f30-0b07-4a3b-b39b-7cb460053f74",
   "metadata": {
    "papermill": {},
    "tags": []
   },
   "source": [
    "**Author:** [Alok Chilka](https://www.linkedin.com/in/calok64/)"
   ]
  },
  {
   "cell_type": "markdown",
   "id": "naas-description",
   "metadata": {
    "papermill": {},
    "tags": [
     "description"
    ]
   },
   "source": [
    "**Description:** This notebook provides an analysis of Twitter posts, including statistics on user engagement and post performance."
   ]
  },
  {
   "cell_type": "markdown",
   "id": "618b546f-943a-498c-9eb6-637a1e992f21",
   "metadata": {
    "papermill": {},
    "tags": []
   },
   "source": [
    "## Input"
   ]
  },
  {
   "cell_type": "markdown",
   "id": "91fc2ccf-9a27-40f4-bb62-df542a468bc6",
   "metadata": {
    "execution": {
     "iopub.execute_input": "2022-01-08T05:48:50.458541Z",
     "iopub.status.busy": "2022-01-08T05:48:50.458187Z",
     "iopub.status.idle": "2022-01-08T05:48:50.465249Z",
     "shell.execute_reply": "2022-01-08T05:48:50.464699Z",
     "shell.execute_reply.started": "2022-01-08T05:48:50.458451Z"
    },
    "papermill": {},
    "tags": []
   },
   "source": [
    "### Import libraries"
   ]
  },
  {
   "cell_type": "code",
   "execution_count": null,
   "id": "e52f830d-57df-4d2d-9b34-35e431afd2c9",
   "metadata": {
    "papermill": {},
    "tags": []
   },
   "outputs": [],
   "source": [
    "!pip install --user tweepy"
   ]
  },
  {
   "cell_type": "code",
   "execution_count": 2,
   "id": "4f6774a6-ff96-4c39-87a7-69a1fd3777cc",
   "metadata": {
    "execution": {
     "iopub.execute_input": "2022-04-09T22:34:43.604970Z",
     "iopub.status.busy": "2022-04-09T22:34:43.604752Z",
     "iopub.status.idle": "2022-04-09T22:34:45.740798Z",
     "shell.execute_reply": "2022-04-09T22:34:45.740193Z",
     "shell.execute_reply.started": "2022-04-09T22:34:43.604947Z"
    },
    "papermill": {},
    "tags": []
   },
   "outputs": [],
   "source": [
    "from naas_drivers import linkedin, hubspot\n",
    "import pandas as pd\n",
    "import numpy as np\n",
    "import naas\n",
    "from datetime import datetime, timedelta\n",
    "import requests\n",
    "import json\n",
    "import tweepy"
   ]
  },
  {
   "cell_type": "markdown",
   "id": "958d3406-bf4c-48b9-b56b-ad4dad7caaae",
   "metadata": {
    "papermill": {},
    "tags": []
   },
   "source": [
    "### Setup your Twitter"
   ]
  },
  {
   "cell_type": "markdown",
   "id": "2ff0acc6-3b40-49c5-b623-da7cad94899e",
   "metadata": {
    "papermill": {},
    "tags": []
   },
   "source": [
    "### How to get token ?\n",
    "\n",
    "bearer_token – the token used for authentication\n",
    "https://developer.twitter.com/en/docs/authentication/oauth-2-0/bearer-tokens\n"
   ]
  },
  {
   "cell_type": "code",
   "execution_count": 105,
   "id": "cb06a98e-6e82-4a9e-bedc-9bc7a6cb30dc",
   "metadata": {
    "execution": {
     "iopub.execute_input": "2022-04-09T23:53:53.458348Z",
     "iopub.status.busy": "2022-04-09T23:53:53.458042Z",
     "iopub.status.idle": "2022-04-09T23:53:53.663600Z",
     "shell.execute_reply": "2022-04-09T23:53:53.663003Z",
     "shell.execute_reply.started": "2022-04-09T23:53:53.458316Z"
    },
    "papermill": {},
    "tags": []
   },
   "outputs": [],
   "source": [
    "# Twitter cookies\n",
    "bearer_token = \"AAAAAAAAAAAAAAAAAAAAAFGZZgEAXXXXXXXXXXXXXXXXXXXXXXXXXXXXXXXXXXXXXXXXX\"\n",
    "\n",
    "client = tweepy.Client(bearer_token=bearer_token)\n",
    "user_name = \"<YOUR_PREFERRED_USERNAME>\"\n",
    "users = client.get_users(usernames=[user_name])\n",
    "user_id = users.data[0][\"id\"]\n",
    "\n",
    "# set application type. This is used to distinguish data for application in master data model\n",
    "APP_TYPE = \"Twitter\"\n",
    "\n",
    "BASE_URL = \"https://twitter.com/\""
   ]
  },
  {
   "cell_type": "markdown",
   "id": "e83e32f8-9c09-440d-ae87-4f174dad44ee",
   "metadata": {
    "papermill": {},
    "tags": []
   },
   "source": [
    "### Setup your email to receive notifications"
   ]
  },
  {
   "cell_type": "code",
   "execution_count": 7,
   "id": "f74f2901-5b69-4cb0-a111-065d6aec83a7",
   "metadata": {
    "execution": {
     "iopub.execute_input": "2022-03-20T23:36:08.841940Z",
     "iopub.status.busy": "2022-03-20T23:36:08.841710Z",
     "iopub.status.idle": "2022-03-20T23:36:08.844750Z",
     "shell.execute_reply": "2022-03-20T23:36:08.844112Z",
     "shell.execute_reply.started": "2022-03-20T23:36:08.841916Z"
    },
    "papermill": {},
    "tags": []
   },
   "outputs": [],
   "source": [
    "SEND_EMAIL_TO = \"<YOUR_EMAIL_ID>\""
   ]
  },
  {
   "cell_type": "markdown",
   "id": "43fff853-fdf1-4949-a781-43b31e65cce9",
   "metadata": {
    "papermill": {},
    "tags": []
   },
   "source": [
    "## Model"
   ]
  },
  {
   "cell_type": "markdown",
   "id": "662dcde3-5093-4635-8971-677853e52f3e",
   "metadata": {
    "papermill": {},
    "tags": []
   },
   "source": [
    "### Get posts from Twitter feed"
   ]
  },
  {
   "cell_type": "code",
   "execution_count": 4,
   "id": "944f85cd-f3ed-45b2-867c-965f8eca83eb",
   "metadata": {
    "execution": {
     "iopub.execute_input": "2022-04-09T22:34:52.183210Z",
     "iopub.status.busy": "2022-04-09T22:34:52.182985Z",
     "iopub.status.idle": "2022-04-09T22:34:52.405256Z",
     "shell.execute_reply": "2022-04-09T22:34:52.404618Z",
     "shell.execute_reply.started": "2022-04-09T22:34:52.183186Z"
    },
    "papermill": {},
    "tags": []
   },
   "outputs": [],
   "source": [
    "# Get user tweets\n",
    "tweets = client.get_users_tweets(id=user_id)"
   ]
  },
  {
   "cell_type": "markdown",
   "id": "1545652b",
   "metadata": {
    "papermill": {},
    "tags": []
   },
   "source": [
    "### Build tweet id list"
   ]
  },
  {
   "cell_type": "code",
   "execution_count": 5,
   "id": "45db64e4",
   "metadata": {
    "execution": {
     "iopub.execute_input": "2022-04-09T22:34:54.266581Z",
     "iopub.status.busy": "2022-04-09T22:34:54.266357Z",
     "iopub.status.idle": "2022-04-09T22:34:54.269537Z",
     "shell.execute_reply": "2022-04-09T22:34:54.268931Z",
     "shell.execute_reply.started": "2022-04-09T22:34:54.266558Z"
    },
    "papermill": {},
    "tags": []
   },
   "outputs": [],
   "source": [
    "tweetIdList = []\n",
    "for tweet in tweets.data:\n",
    "    tweetIdList.append(str(tweet[\"id\"]))"
   ]
  },
  {
   "cell_type": "code",
   "execution_count": null,
   "id": "0606a013-53e9-4f30-9662-d17752f97792",
   "metadata": {
    "papermill": {},
    "tags": []
   },
   "outputs": [],
   "source": [
    "tweetIdList"
   ]
  },
  {
   "cell_type": "markdown",
   "id": "220f2008-106d-439a-a4bc-caa3200f3adc",
   "metadata": {
    "papermill": {},
    "tags": []
   },
   "source": [
    "### Get stats from Twitter posts"
   ]
  },
  {
   "cell_type": "code",
   "execution_count": 124,
   "id": "96053b77-ad3f-4eb0-8234-d06d52425678",
   "metadata": {
    "execution": {
     "iopub.execute_input": "2022-04-10T00:20:42.273073Z",
     "iopub.status.busy": "2022-04-10T00:20:42.272839Z",
     "iopub.status.idle": "2022-04-10T00:20:42.284150Z",
     "shell.execute_reply": "2022-04-10T00:20:42.283567Z",
     "shell.execute_reply.started": "2022-04-10T00:20:42.273049Z"
    },
    "papermill": {},
    "tags": []
   },
   "outputs": [],
   "source": [
    "def get_post_stats(tweetIdList):\n",
    "    twitterDF = pd.DataFrame()\n",
    "    for tweetId in tweetIdList:\n",
    "\n",
    "        # print(\"*********************************\")\n",
    "        # print(\"Tweet ID : \", tweetId)\n",
    "        parent_tweet = client.get_tweet(\n",
    "            id=tweetId,\n",
    "            tweet_fields=[\n",
    "                \"author_id\",\n",
    "                \"created_at\",\n",
    "                \"entities\",\n",
    "                \"in_reply_to_user_id\",\n",
    "                \"referenced_tweets,source,public_metrics\",\n",
    "            ],\n",
    "        )\n",
    "        parent_user_name = user_name\n",
    "        parent_Tweet_Title = \"\"\n",
    "        # parent_tweet_id = reply_tweet.data[\"data\"][\"referenced_tweets\"][0][\"id\"]\n",
    "        parent_tweet_text = parent_tweet.data[\"text\"]\n",
    "        parent_created_at = parent_tweet.data[\"created_at\"].strftime(\n",
    "            \"%d-%m-%Y %H:%M:%S\"\n",
    "        )\n",
    "        parent_tweet_URL = BASE_URL + user_name + \"/status/\" + tweetId\n",
    "        parent_public_metrics = parent_tweet.data[\"data\"][\"public_metrics\"]\n",
    "        parent_retweet_count = parent_public_metrics[\"retweet_count\"]\n",
    "        parent_reply_count = parent_public_metrics[\"reply_count\"]\n",
    "        parent_like_count = parent_public_metrics[\"like_count\"]\n",
    "        parent_quote_count = parent_public_metrics[\"quote_count\"]\n",
    "        parent_view_count = 0  # currently twitter has no ways to find out who actually viewed your post hence kept value = 0 to map the columns\n",
    "        parent_comments_mentions = []\n",
    "\n",
    "        retweeted_by_users = client.get_retweeters(id=tweetId)\n",
    "\n",
    "        retweeted_by_username = []\n",
    "        if retweeted_by_users.data != None:\n",
    "            for retweet_user in retweeted_by_users.data:\n",
    "                retweeted_by_username.append(retweet_user[\"username\"])\n",
    "\n",
    "        like_by_users = client.get_liking_users(id=tweetId)\n",
    "        liked_by_username = []\n",
    "        if like_by_users.data != None:\n",
    "            for like_user in like_by_users.data:\n",
    "                liked_by_username.append(like_user[\"username\"])\n",
    "\n",
    "        mentions = client.get_users_mentions(id=user_id)\n",
    "\n",
    "        comments = []\n",
    "        if mentions.data != None:\n",
    "            for mention in mentions.data:\n",
    "                child_tweet = client.get_tweet(\n",
    "                    id=mention[\"id\"],\n",
    "                    tweet_fields=[\n",
    "                        \"author_id\",\n",
    "                        \"in_reply_to_user_id\",\n",
    "                        \"referenced_tweets,source,public_metrics,text\",\n",
    "                    ],\n",
    "                )\n",
    "                in_reply_to_tweet_id = child_tweet.data[\"data\"][\"referenced_tweets\"][0][\n",
    "                    \"id\"\n",
    "                ]\n",
    "\n",
    "                if str(in_reply_to_tweet_id) == tweetId:\n",
    "                    username = \"@\" + user_name\n",
    "                    temp = str(mention[\"text\"])\n",
    "                    temp = temp.replace(username, \"\")\n",
    "                    comments.append(temp)\n",
    "\n",
    "        data = [\n",
    "            [\n",
    "                tweetId,\n",
    "                parent_created_at,\n",
    "                parent_user_name,\n",
    "                parent_Tweet_Title,\n",
    "                parent_tweet_text,\n",
    "                parent_tweet_URL,\n",
    "                parent_view_count,\n",
    "                parent_reply_count,\n",
    "                parent_like_count,\n",
    "                parent_retweet_count,\n",
    "                APP_TYPE,\n",
    "            ]\n",
    "        ]\n",
    "        df = pd.DataFrame(\n",
    "            data,\n",
    "            columns=[\n",
    "                \"ACTIVITY_ID\",\n",
    "                \"PUBLISHED_DATE\",\n",
    "                \"AUTHOR_NAME\",\n",
    "                \"TITLE\",\n",
    "                \"TEXT\",\n",
    "                \"POST_URL\",\n",
    "                \"VIEWS\",\n",
    "                \"COMMENTS\",\n",
    "                \"LIKES\",\n",
    "                \"SHARES\",\n",
    "                \"APPLICATION_TYPE\",\n",
    "            ],\n",
    "        )\n",
    "        twitterDF = twitterDF.append(df)\n",
    "\n",
    "    return twitterDF"
   ]
  },
  {
   "cell_type": "markdown",
   "id": "b0868ba5",
   "metadata": {
    "papermill": {},
    "tags": []
   },
   "source": [
    "## Output"
   ]
  },
  {
   "cell_type": "markdown",
   "id": "a1672113-9137-48d2-8a9c-9b0d629173ac",
   "metadata": {
    "execution": {
     "iopub.execute_input": "2022-04-10T00:28:03.509608Z",
     "iopub.status.busy": "2022-04-10T00:28:03.509359Z",
     "iopub.status.idle": "2022-04-10T00:28:03.518507Z",
     "shell.execute_reply": "2022-04-10T00:28:03.517626Z",
     "shell.execute_reply.started": "2022-04-10T00:28:03.509581Z"
    },
    "papermill": {},
    "tags": []
   },
   "source": [
    "Available Columns / Data :\n",
    "\n",
    "- Text\n",
    "- Created At\n",
    "- Public Metrics (Retweet Count, Reply Count,Like Count)\n",
    "- List of users who retweeted \n",
    "- List of users who liked the tweet\n",
    "- Comments with mentions\n",
    "\n",
    "More details can be found at https://developer.twitter.com/en/docs/twitter-api/data-dictionary/object-model/user"
   ]
  },
  {
   "cell_type": "code",
   "execution_count": 125,
   "id": "c49b2635-dee7-47f0-bf5a-07a5b1e8b64f",
   "metadata": {
    "execution": {
     "iopub.execute_input": "2022-04-10T00:20:44.016073Z",
     "iopub.status.busy": "2022-04-10T00:20:44.015812Z",
     "iopub.status.idle": "2022-04-10T00:20:53.109216Z",
     "shell.execute_reply": "2022-04-10T00:20:53.108591Z",
     "shell.execute_reply.started": "2022-04-10T00:20:44.016047Z"
    },
    "papermill": {},
    "tags": []
   },
   "outputs": [],
   "source": [
    "get_post_stats(tweetIdList)"
   ]
  }
 ],
 "metadata": {
  "kernelspec": {
   "display_name": "Python 3",
   "language": "python",
   "name": "python3"
  },
  "language_info": {
   "codemirror_mode": {
    "name": "ipython",
    "version": 3
   },
   "file_extension": ".py",
   "mimetype": "text/x-python",
   "name": "python",
   "nbconvert_exporter": "python",
   "pygments_lexer": "ipython3",
   "version": "3.9.6"
  },
  "papermill": {
   "default_parameters": {},
   "environment_variables": {},
   "parameters": {},
   "version": "2.3.4"
  }
 },
 "nbformat": 4,
 "nbformat_minor": 5
}