{
 "cells": [
  {
   "cell_type": "markdown",
   "id": "naas-logo",
   "metadata": {
    "papermill": {},
    "tags": [
     "naas"
    ]
   },
   "source": [
    "<img width=\"10%\" alt=\"Naas\" src=\"https://landen.imgix.net/jtci2pxwjczr/assets/5ice39g4.png?w=160\"/>"
   ]
  },
  {
   "cell_type": "markdown",
   "id": "22b3e6a7-eaf5-49ab-93f6-d5b5b0ac4bb7",
   "metadata": {
    "papermill": {},
    "tags": []
   },
   "source": [
    "# Twitter - Get tweets from search\n",
    "<a href=\"https://app.naas.ai/user-redirect/naas/downloader?url=https://raw.githubusercontent.com/jupyter-naas/awesome-notebooks/master/Twitter/Twitter_Get_tweets_from_search.ipynb\" target=\"_parent\"><img src=\"https://naasai-public.s3.eu-west-3.amazonaws.com/Open_in_Naas_Lab.svg\"/></a><br><br><a href=\"https://github.com/jupyter-naas/awesome-notebooks/issues/new?assignees=&labels=&template=template-request.md&title=Tool+-+Action+of+the+notebook+\">Template request</a> | <a href=\"https://github.com/jupyter-naas/awesome-notebooks/issues/new?assignees=&labels=bug&template=bug_report.md&title=Twitter+-+Get+tweets+from+search:+Error+short+description\">Bug report</a> | <a href=\"https://app.naas.ai/user-redirect/naas/downloader?url=https://raw.githubusercontent.com/jupyter-naas/awesome-notebooks/master/Naas/Naas_Start_data_product.ipynb\" target=\"_parent\">Generate Data Product</a>"
   ]
  },
  {
   "cell_type": "markdown",
   "id": "32c26cef-6a0b-4e42-b821-24731046d65c",
   "metadata": {
    "papermill": {},
    "tags": []
   },
   "source": [
    "**Tags:** #twitter #ifttt #naas_drivers #snippet #content #dataframe"
   ]
  },
  {
   "cell_type": "markdown",
   "id": "naas-author",
   "metadata": {
    "papermill": {},
    "tags": [
     "naas"
    ]
   },
   "source": [
    "**Author:** [Dineshkumar Sundaram](https://github.com/dineshh912)"
   ]
  },
  {
   "cell_type": "markdown",
   "id": "naas-description",
   "metadata": {
    "papermill": {},
    "tags": [
     "description"
    ]
   },
   "source": [
    "**Description:** This notebook allows users to search and retrieve tweets from Twitter."
   ]
  },
  {
   "cell_type": "markdown",
   "id": "7331465c-f134-4411-b2c2-0b0c3e0a688c",
   "metadata": {
    "papermill": {},
    "tags": []
   },
   "source": [
    "## Input"
   ]
  },
  {
   "cell_type": "markdown",
   "id": "import_cell",
   "metadata": {
    "papermill": {},
    "tags": []
   },
   "source": [
    "### Import libraries"
   ]
  },
  {
   "cell_type": "code",
   "execution_count": null,
   "id": "6e4a6247-513e-42de-af1c-70b9a87bdcff",
   "metadata": {
    "papermill": {},
    "tags": []
   },
   "outputs": [],
   "source": [
    "import tweepy\n",
    "import pandas as pd"
   ]
  },
  {
   "cell_type": "markdown",
   "id": "60f6074a-9b9a-4869-b34a-b5ecc1857d79",
   "metadata": {
    "papermill": {},
    "tags": []
   },
   "source": [
    "### API Credentials"
   ]
  },
  {
   "cell_type": "code",
   "execution_count": null,
   "id": "45564994-08dc-4551-9da3-10c5a755ec74",
   "metadata": {
    "papermill": {},
    "tags": []
   },
   "outputs": [],
   "source": [
    "consumer_key = \"XXXXXXXXXXXXXXXXXX\"\n",
    "consumer_secret = \"XXXXXXXXXXXXXXXXXXXXXXXXXXXXXXXXXXXX\""
   ]
  },
  {
   "cell_type": "markdown",
   "id": "2254eb13-8fe7-4d2b-8412-5e3cad10a4c4",
   "metadata": {
    "papermill": {},
    "tags": []
   },
   "source": [
    "### How to generate API Keys?"
   ]
  },
  {
   "cell_type": "markdown",
   "id": "36000229-a41e-4ffc-ba2f-e3d4445ec05d",
   "metadata": {
    "papermill": {},
    "tags": []
   },
   "source": [
    "[Twitter API Documentation](https://developer.twitter.com/en/docs/getting-started)"
   ]
  },
  {
   "cell_type": "markdown",
   "id": "663c610e-1558-479a-9143-300fcdfc9af6",
   "metadata": {
    "papermill": {},
    "tags": []
   },
   "source": [
    "## Model"
   ]
  },
  {
   "cell_type": "markdown",
   "id": "de1a64b0-7664-4b89-805a-5b599152aa12",
   "metadata": {
    "papermill": {},
    "tags": []
   },
   "source": [
    "### Authentification"
   ]
  },
  {
   "cell_type": "code",
   "execution_count": null,
   "id": "25193cda-fb05-4477-9c13-7c9d0a600102",
   "metadata": {
    "papermill": {},
    "tags": []
   },
   "outputs": [],
   "source": [
    "try:\n",
    "    auth = tweepy.AppAuthHandler(consumer_key, consumer_secret)\n",
    "    api = tweepy.API(auth)\n",
    "except BaseException as e:\n",
    "    print(f\"Authentication has been failed due to -{str(e)}\")"
   ]
  },
  {
   "cell_type": "markdown",
   "id": "ce3dd718-25e8-407f-a066-e2b52e773210",
   "metadata": {
    "papermill": {},
    "tags": []
   },
   "source": [
    "### Fonctions"
   ]
  },
  {
   "cell_type": "code",
   "execution_count": null,
   "id": "8d718030-74e7-47e6-a8c9-74427ee74e52",
   "metadata": {
    "papermill": {},
    "tags": []
   },
   "outputs": [],
   "source": [
    "def getTweets(search_words, date_since, numTweets):\n",
    "\n",
    "    # Define a pandas dataframe to store the date:\n",
    "    tweets_df = pd.DataFrame(\n",
    "        columns=[\n",
    "            \"username\",\n",
    "            \"desc\",\n",
    "            \"location\",\n",
    "            \"following\",\n",
    "            \"followers\",\n",
    "            \"totaltweets\",\n",
    "            \"usercreated\",\n",
    "            \"tweetcreated\",\n",
    "            \"retweetcount\",\n",
    "            \"text\",\n",
    "            \"hashtags\",\n",
    "        ]\n",
    "    )\n",
    "\n",
    "    # Collect tweets using the Cursor object\n",
    "    # .Cursor() returns an object that you can iterate or loop over to access the data collected.\n",
    "    tweets = tweepy.Cursor(\n",
    "        api.search, q=search_words, lang=\"en\", since=date_since, tweet_mode=\"extended\"\n",
    "    ).items(numTweets)\n",
    "    # Store tweets into a python list\n",
    "    tweet_list = [tweet for tweet in tweets]\n",
    "    for tweet in tweet_list:\n",
    "        username = tweet.user.screen_name\n",
    "        desc = tweet.user.description\n",
    "        location = tweet.user.location\n",
    "        following = tweet.user.friends_count\n",
    "        followers = tweet.user.followers_count\n",
    "        totaltweets = tweet.user.statuses_count\n",
    "        usercreated = tweet.user.created_at\n",
    "        tweetcreated = tweet.created_at\n",
    "        retweetcount = tweet.retweet_count\n",
    "        hashtags = tweet.entities[\"hashtags\"]\n",
    "        try:\n",
    "            text = tweet.retweeted_status.full_text\n",
    "        except AttributeError:\n",
    "            text = tweet.full_text\n",
    "\n",
    "        tweet_data = [\n",
    "            username,\n",
    "            desc,\n",
    "            location,\n",
    "            following,\n",
    "            followers,\n",
    "            totaltweets,\n",
    "            usercreated,\n",
    "            tweetcreated,\n",
    "            retweetcount,\n",
    "            text,\n",
    "            hashtags,\n",
    "        ]\n",
    "\n",
    "        tweets_df.loc[len(tweets_df)] = tweet_data\n",
    "\n",
    "    return tweets_df"
   ]
  },
  {
   "cell_type": "markdown",
   "id": "e3f32250-0ab3-4b4d-8c53-17d4870ce32b",
   "metadata": {
    "papermill": {},
    "tags": []
   },
   "source": [
    "### Initialise these function attributes:"
   ]
  },
  {
   "cell_type": "code",
   "execution_count": null,
   "id": "1dc8e565-1706-49d8-ab8a-6f8f5aa18032",
   "metadata": {
    "papermill": {},
    "tags": []
   },
   "outputs": [],
   "source": [
    "search_words = \"#jupyterlab OR #python OR #naas OR #naasai\"\n",
    "date_since = \"2021-09-21\"\n",
    "numTweets = 50"
   ]
  },
  {
   "cell_type": "markdown",
   "id": "f7d86d62-9cdd-4737-a5de-2da8bc191e30",
   "metadata": {
    "papermill": {},
    "tags": []
   },
   "source": [
    "## Output"
   ]
  },
  {
   "cell_type": "markdown",
   "id": "f6fe9aff-4c2d-4e2a-b862-006106354bb5",
   "metadata": {
    "papermill": {},
    "tags": []
   },
   "source": [
    "### Get the tweets"
   ]
  },
  {
   "cell_type": "code",
   "execution_count": null,
   "id": "5f00ab06-24f8-4334-a14e-ba53a3773141",
   "metadata": {
    "papermill": {},
    "tags": []
   },
   "outputs": [],
   "source": [
    "df = getTweets(search_words, date_since, numTweets)"
   ]
  }
 ],
 "metadata": {
  "kernelspec": {
   "display_name": "Python 3",
   "language": "python",
   "name": "python3"
  },
  "language_info": {
   "codemirror_mode": {
    "name": "ipython",
    "version": 3
   },
   "file_extension": ".py",
   "mimetype": "text/x-python",
   "name": "python",
   "nbconvert_exporter": "python",
   "pygments_lexer": "ipython3",
   "version": "3.9.6"
  },
  "naas": {
   "notebook_id": "d50dc5991bf4fe05f69298b0b37857587e63f47d21cab0b07fbf0c4f6d4bf0b7",
   "notebook_path": "Twitter/Twitter_Get_tweets_from_search.ipynb"
  },
  "papermill": {
   "default_parameters": {},
   "environment_variables": {},
   "parameters": {},
   "version": "2.3.3"
  },
  "widgets": {
   "application/vnd.jupyter.widget-state+json": {
    "state": {},
    "version_major": 2,
    "version_minor": 0
   }
  }
 },
 "nbformat": 4,
 "nbformat_minor": 5
}