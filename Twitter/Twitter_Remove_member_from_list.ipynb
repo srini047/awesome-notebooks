{
 "cells": [
  {
   "cell_type": "markdown",
   "id": "latin-packing",
   "metadata": {
    "execution": {
     "iopub.execute_input": "2021-02-23T14:22:16.610471Z",
     "iopub.status.busy": "2021-02-23T14:22:16.610129Z",
     "iopub.status.idle": "2021-02-23T14:22:16.627784Z",
     "shell.execute_reply": "2021-02-23T14:22:16.626866Z",
     "shell.execute_reply.started": "2021-02-23T14:22:16.610384Z"
    },
    "papermill": {},
    "tags": []
   },
   "source": [
    "<img width=\"10%\" alt=\"Naas\" src=\"https://landen.imgix.net/jtci2pxwjczr/assets/5ice39g4.png?w=160\"/>"
   ]
  },
  {
   "cell_type": "markdown",
   "id": "compressed-wilson",
   "metadata": {
    "papermill": {},
    "tags": []
   },
   "source": [
    "# Twitter - Remove member from list\n",
    "<a href=\"https://app.naas.ai/user-redirect/naas/downloader?url=https://raw.githubusercontent.com/jupyter-naas/awesome-notebooks/master/Twitter/Twitter_Remove_member_from_list.ipynb\" target=\"_parent\"><img src=\"https://naasai-public.s3.eu-west-3.amazonaws.com/Open_in_Naas_Lab.svg\"/></a><br><br><a href=\"https://github.com/jupyter-naas/awesome-notebooks/issues/new?assignees=&labels=&template=template-request.md&title=Tool+-+Action+of+the+notebook+\">Template request</a> | <a href=\"https://github.com/jupyter-naas/awesome-notebooks/issues/new?assignees=&labels=bug&template=bug_report.md&title=Twitter+-+Remove+member+from+list:+Error+short+description\">Bug report</a> | <a href=\"https://app.naas.ai/user-redirect/naas/downloader?url=https://raw.githubusercontent.com/jupyter-naas/awesome-notebooks/master/Naas/Naas_Start_data_product.ipynb\" target=\"_parent\">Generate Data Product</a>"
   ]
  },
  {
   "cell_type": "markdown",
   "id": "religious-programmer",
   "metadata": {
    "papermill": {},
    "tags": []
   },
   "source": [
    "**Tags:** #twitter #tweepy #pandas #twitterautomation #twitterlistmembers #snippet"
   ]
  },
  {
   "cell_type": "markdown",
   "id": "1fe9f56e-561c-4f52-aef8-b861c9462107",
   "metadata": {
    "papermill": {},
    "tags": []
   },
   "source": [
    "**Author:** [Kaushal Krishna](https://www.linkedin.com/in/kaushal-krishna-a48959153)"
   ]
  },
  {
   "cell_type": "markdown",
   "id": "31ea7cdb-e10d-43fc-b026-f69249a59736",
   "metadata": {
    "papermill": {},
    "tags": []
   },
   "source": [
    "**Description:** This notebook removes a single member from member list."
   ]
  },
  {
   "cell_type": "markdown",
   "id": "543df7ab-6eb6-491b-9b3d-4a4640b77b35",
   "metadata": {
    "papermill": {},
    "tags": []
   },
   "source": [
    "<u>References:</u>\n",
    "- https://developer.twitter.com/en/docs/twitter-api/lists/list-members/introduction"
   ]
  },
  {
   "cell_type": "markdown",
   "id": "distinguished-truth",
   "metadata": {
    "papermill": {},
    "tags": []
   },
   "source": [
    "## Input"
   ]
  },
  {
   "cell_type": "markdown",
   "id": "numeric-mediterranean",
   "metadata": {
    "papermill": {},
    "tags": []
   },
   "source": [
    "### Import libraries"
   ]
  },
  {
   "cell_type": "code",
   "execution_count": null,
   "id": "potential-surfing",
   "metadata": {
    "papermill": {},
    "tags": []
   },
   "outputs": [],
   "source": [
    "import tweepy\n",
    "import pandas as pd\n",
    "import naas"
   ]
  },
  {
   "cell_type": "markdown",
   "id": "aggressive-trustee",
   "metadata": {
    "papermill": {},
    "tags": []
   },
   "source": [
    "### Setup Variables\n",
    "-> Get your bearer token by applying in twitter developer website https://developer.twitter.com/en/docs/authentication/oauth-2-0/bearer-tokens  \n",
    "-> Get your Oauth 1.0 token by applying into twitter developer website with Read and Write Permission https://developer.twitter.com/en/docs/authentication/oauth-1-0a     \n",
    "-> For the user name supply the display name (Twitter Handle) without '@' i.e.  \"JupyterNaas\" for Naas.ai    \n",
    "-> Please consult the tweepy docs for more help on authentication https://docs.tweepy.org/en/stable/authentication.html"
   ]
  },
  {
   "cell_type": "markdown",
   "id": "0cfd218f-4a39-4034-a442-1bc58730bbaf",
   "metadata": {
    "papermill": {},
    "tags": []
   },
   "source": [
    "**The bearer_token is for Oauth 2.0 user lookup and consumer_key, consumer_secret ,access_token, access_token_secret are for Oauth 1.0 get_user(by username parameter) list lookup(even private ones),list_member lookup  list add member and remove member**"
   ]
  },
  {
   "cell_type": "code",
   "execution_count": null,
   "id": "continuous-melbourne",
   "metadata": {
    "papermill": {},
    "tags": []
   },
   "outputs": [],
   "source": [
    "# inputs\n",
    "tw_bearer_token = (\n",
    "    naas.secret.get(\"TWITTER_BEARER_TOKEN\")\n",
    "    or \"AAAAAAAAAAAAAAAAAAAAAMQhdgEAAAAAD0EI4sREei02us...\"\n",
    ")\n",
    "tw_consumer_key = naas.secret.get(\"TWITTER_CONSUMER_KEY\") or \"xxxxxxxxxxxxxxx\"\n",
    "tw_consumer_secret = naas.secret.get(\"TWITTER_CONSUMER_SECRET\") or \"xxxxxxxxxxxxxxxxx\"\n",
    "tw_access_token = naas.secret.get(\"TWITTER_ACCESS_TOKEN\") or \"xxxxxxxxxxxxxxxxxxxxxxx\"\n",
    "tw_access_token_secret = (\n",
    "    naas.secret.get(\"TWITTER_ACCESS_TOKEN_SECRET\") or \"xxxxxxxxxxxxxx\"\n",
    ")\n",
    "user_name = \"JupyterNaas\"\n",
    "list_name = \"Cool Tweets\"\n",
    "member_username = \"ravenel_jeremy\"\n",
    "\n",
    "# outputs\n",
    "csv_output = \"output.csv\""
   ]
  },
  {
   "cell_type": "markdown",
   "id": "registered-showcase",
   "metadata": {
    "papermill": {},
    "tags": []
   },
   "source": [
    "## Model"
   ]
  },
  {
   "cell_type": "markdown",
   "id": "9e22cffd-7e95-4687-befe-d6d1c4844767",
   "metadata": {
    "papermill": {},
    "tags": []
   },
   "source": [
    "### Connect to client"
   ]
  },
  {
   "cell_type": "code",
   "execution_count": null,
   "id": "crude-louisville",
   "metadata": {
    "papermill": {},
    "tags": []
   },
   "outputs": [],
   "source": [
    "try:\n",
    "    client_1 = tweepy.Client(bearer_token=tw_bearer_token)\n",
    "    client_2 = tweepy.Client(\n",
    "        consumer_key=tw_consumer_key,\n",
    "        consumer_secret=tw_consumer_secret,\n",
    "        access_token=tw_access_token,\n",
    "        access_token_secret=tw_access_token_secret,\n",
    "    )\n",
    "except:\n",
    "    print(\"Failure in Authentication.\")"
   ]
  },
  {
   "cell_type": "markdown",
   "id": "2aeacdbc-260e-463e-9731-71ac98f13204",
   "metadata": {
    "papermill": {},
    "tags": []
   },
   "source": [
    "### Get list ID"
   ]
  },
  {
   "cell_type": "code",
   "execution_count": null,
   "id": "7c47b660-83c9-413d-ad4f-f4274d3560f6",
   "metadata": {
    "papermill": {},
    "tags": []
   },
   "outputs": [],
   "source": [
    "def find_list_id(list_name, user_name, client, user_auth=True):\n",
    "    list_id = None\n",
    "    user = client.get_user(username=user_name, user_auth=user_auth)\n",
    "    user_id = user.data[\"id\"]\n",
    "    twitter_list = client.get_owned_lists(id=user_id, user_auth=user_auth)\n",
    "    for row in twitter_list.data:\n",
    "        if row[\"name\"] == list_name:\n",
    "            list_id = row[\"id\"]\n",
    "            break\n",
    "    return list_id\n",
    "\n",
    "\n",
    "list_id = find_list_id(list_name=list_name, user_name=user_name, client=client_2)\n",
    "print(f\"'{list_name}' ID:\", list_id)"
   ]
  },
  {
   "cell_type": "markdown",
   "id": "f53802a5-94d8-4625-9bdc-9761e3de8b72",
   "metadata": {
    "papermill": {},
    "tags": []
   },
   "source": [
    "### Get member ID"
   ]
  },
  {
   "cell_type": "code",
   "execution_count": null,
   "id": "4b74674a-66c2-43c6-9a96-72113553afde",
   "metadata": {
    "papermill": {},
    "tags": []
   },
   "outputs": [],
   "source": [
    "member_id = client_1.get_user(username=member_username).data[\"id\"]\n",
    "print(f\"'{member_username}' ID:\", member_id)"
   ]
  },
  {
   "cell_type": "markdown",
   "id": "0a26affe-c333-478b-954b-de24323aeeee",
   "metadata": {
    "papermill": {},
    "tags": []
   },
   "source": [
    "### Remove list member\n"
   ]
  },
  {
   "cell_type": "code",
   "execution_count": null,
   "id": "a1e41b8e-71f1-4225-ad37-0d07033cf74b",
   "metadata": {
    "papermill": {},
    "tags": []
   },
   "outputs": [],
   "source": [
    "res = client_2.remove_list_member(id=list_id, user_id=member_id, user_auth=True)\n",
    "res"
   ]
  },
  {
   "cell_type": "markdown",
   "id": "lonely-pacific",
   "metadata": {
    "execution": {
     "iopub.execute_input": "2021-07-02T23:32:10.789097Z",
     "iopub.status.busy": "2021-07-02T23:32:10.788829Z",
     "iopub.status.idle": "2021-07-02T23:32:10.796900Z",
     "shell.execute_reply": "2021-07-02T23:32:10.796358Z",
     "shell.execute_reply.started": "2021-07-02T23:32:10.789033Z"
    },
    "papermill": {},
    "tags": []
   },
   "source": [
    "## Output"
   ]
  },
  {
   "cell_type": "markdown",
   "id": "bd7b4ba0-d978-43fa-8360-4d14ae6332b1",
   "metadata": {
    "papermill": {},
    "tags": []
   },
   "source": [
    "### Get members from list"
   ]
  },
  {
   "cell_type": "code",
   "execution_count": null,
   "id": "e0146970-9b58-464f-be18-767ca17a6a00",
   "metadata": {
    "papermill": {},
    "tags": []
   },
   "outputs": [],
   "source": [
    "def get_members_of_list(client, print_choice=False):\n",
    "    user = client.get_user(username=user_name)\n",
    "    user_id = user.data[\"id\"]\n",
    "    twitter_list = client.get_owned_lists(id=user_id)\n",
    "    data_dict = {\"Username\": [], \"Name\": []}\n",
    "    for row in twitter_list.data:\n",
    "        list_id = row[\"id\"]\n",
    "        list_members = client.get_list_members(id=list_id)\n",
    "        for member in list_members.data:\n",
    "            data_dict[\"Username\"].append(member[\"username\"])\n",
    "            data_dict[\"Name\"].append(member[\"name\"])\n",
    "            if print_choice:\n",
    "                print(\n",
    "                    f\"Username : {member['username']:<14} ||  Name : {member['name']:<28}\"\n",
    "                )\n",
    "    return data_dict\n",
    "\n",
    "\n",
    "dicter = get_members_of_list(client_1)\n",
    "res_df = pd.DataFrame(dicter)\n",
    "res_df"
   ]
  },
  {
   "cell_type": "markdown",
   "id": "890f7c86-b7bb-4f5d-9a1b-e492dd9580fd",
   "metadata": {
    "papermill": {},
    "tags": []
   },
   "source": [
    "### Save result in csv"
   ]
  },
  {
   "cell_type": "code",
   "execution_count": null,
   "id": "9c4e3b7b-6440-4844-8054-265f1aec65eb",
   "metadata": {
    "papermill": {},
    "tags": []
   },
   "outputs": [],
   "source": [
    "res_df.to_csv(csv_output, index=False)"
   ]
  },
  {
   "cell_type": "code",
   "execution_count": null,
   "id": "b01d1b90-8653-4228-bb5d-b62c0ff5fc02",
   "metadata": {
    "papermill": {},
    "tags": []
   },
   "outputs": [],
   "source": []
  }
 ],
 "metadata": {
  "kernelspec": {
   "display_name": "Python 3",
   "language": "python",
   "name": "python3"
  },
  "language_info": {
   "codemirror_mode": {
    "name": "ipython",
    "version": 3
   },
   "file_extension": ".py",
   "mimetype": "text/x-python",
   "name": "python",
   "nbconvert_exporter": "python",
   "pygments_lexer": "ipython3",
   "version": "3.9.6"
  },
  "naas": {
   "notebook_id": "d3bc43603e97ccc16cae1bc8045699ce7340ce42c481cd1502c91450da209673",
   "notebook_path": "Twitter/Twitter_Remove_member_from_list.ipynb"
  },
  "papermill": {
   "default_parameters": {},
   "environment_variables": {},
   "parameters": {},
   "version": "2.3.3"
  },
  "widgets": {
   "application/vnd.jupyter.widget-state+json": {
    "state": {},
    "version_major": 2,
    "version_minor": 0
   }
  }
 },
 "nbformat": 4,
 "nbformat_minor": 5
}