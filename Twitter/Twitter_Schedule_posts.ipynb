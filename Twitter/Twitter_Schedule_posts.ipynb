{
 "cells": [
  {
   "cell_type": "markdown",
   "id": "naas-logo",
   "metadata": {
    "papermill": {},
    "tags": [
     "naas"
    ]
   },
   "source": [
    "<img width=\"10%\" alt=\"Naas\" src=\"https://landen.imgix.net/jtci2pxwjczr/assets/5ice39g4.png?w=160\"/>"
   ]
  },
  {
   "cell_type": "markdown",
   "id": "competent-physics",
   "metadata": {
    "papermill": {},
    "tags": []
   },
   "source": [
    "# Twitter - Schedule posts\n",
    "<a href=\"https://app.naas.ai/user-redirect/naas/downloader?url=https://raw.githubusercontent.com/jupyter-naas/awesome-notebooks/master/Twitter/Twitter_Schedule_posts.ipynb\" target=\"_parent\"><img src=\"https://naasai-public.s3.eu-west-3.amazonaws.com/open_in_naas.svg\"/></a><br><br><a href=\"https://github.com/jupyter-naas/awesome-notebooks/issues/new?assignees=&labels=&template=template-request.md&title=Tool+-+Action+of+the+notebook+\">Template request</a> | <a href=\"https://github.com/jupyter-naas/awesome-notebooks/issues/new?assignees=&labels=bug&template=bug_report.md&title=Twitter+-+Schedule+posts:+Error+short+description\">Bug report</a>"
   ]
  },
  {
   "cell_type": "markdown",
   "id": "18bbe6f9-a1c6-483f-bdd4-583ef3e4ff1a",
   "metadata": {
    "papermill": {},
    "tags": []
   },
   "source": [
    "**Tags:** #twitter #automation #ifttt #naas_drivers #gsheet #content"
   ]
  },
  {
   "cell_type": "markdown",
   "id": "naas-author",
   "metadata": {
    "papermill": {},
    "tags": [
     "naas"
    ]
   },
   "source": [
    "**Author:** [Jeremy Ravenel](https://www.linkedin.com/in/ACoAAAJHE7sB5OxuKHuzguZ9L6lfDHqw--cdnJg/)"
   ]
  },
  {
   "cell_type": "markdown",
   "id": "naas-description",
   "metadata": {
    "papermill": {},
    "tags": [
     "description"
    ]
   },
   "source": [
    "**Description:** This notebook allows you to plan and schedule posts to your Twitter account."
   ]
  },
  {
   "cell_type": "markdown",
   "id": "input_cell",
   "metadata": {
    "papermill": {},
    "tags": []
   },
   "source": [
    "## Input"
   ]
  },
  {
   "cell_type": "markdown",
   "id": "import_cell",
   "metadata": {
    "papermill": {},
    "tags": []
   },
   "source": [
    "### Import library"
   ]
  },
  {
   "cell_type": "code",
   "execution_count": null,
   "id": "infinite-parent",
   "metadata": {
    "papermill": {},
    "tags": []
   },
   "outputs": [],
   "source": [
    "from datetime import datetime\n",
    "import naas_drivers\n",
    "import naas"
   ]
  },
  {
   "cell_type": "markdown",
   "id": "62be8440-2725-44d6-9d8e-2d0ea4065802",
   "metadata": {
    "papermill": {},
    "tags": []
   },
   "source": [
    "### Variables"
   ]
  },
  {
   "cell_type": "code",
   "execution_count": null,
   "id": "b5e0d323-b4ec-4c48-bc7a-860bf057fb7a",
   "metadata": {
    "papermill": {},
    "tags": []
   },
   "outputs": [],
   "source": [
    "spreadsheet_id = \"1rFzw8eeVNXyD5CEUjnpxVn_iA2hzabYKU6pRdmnZ3FQ\""
   ]
  },
  {
   "cell_type": "markdown",
   "id": "model_cell",
   "metadata": {
    "papermill": {},
    "tags": []
   },
   "source": [
    "## Model"
   ]
  },
  {
   "cell_type": "markdown",
   "id": "welcome-geneva",
   "metadata": {
    "papermill": {},
    "tags": []
   },
   "source": [
    "### Get data from Gsheet"
   ]
  },
  {
   "cell_type": "code",
   "execution_count": null,
   "id": "55e95c1a-3ac5-4395-adcd-d65a618604b3",
   "metadata": {
    "papermill": {},
    "tags": []
   },
   "outputs": [],
   "source": [
    "df = naas_drivers.gsheet.connect(spreadsheet_id).get(sheet_name=\"Sheet1\")\n",
    "df"
   ]
  },
  {
   "cell_type": "markdown",
   "id": "convertible-number",
   "metadata": {
    "papermill": {},
    "tags": []
   },
   "source": [
    "### Get current date and time details"
   ]
  },
  {
   "cell_type": "code",
   "execution_count": null,
   "id": "expanded-fifty",
   "metadata": {
    "papermill": {},
    "tags": []
   },
   "outputs": [],
   "source": [
    "now = datetime.now().replace(\n",
    "    second=0, microsecond=0\n",
    ")  # the Naas scheduler only allow minutes\n",
    "now"
   ]
  },
  {
   "cell_type": "code",
   "execution_count": null,
   "id": "opened-possible",
   "metadata": {
    "papermill": {},
    "tags": []
   },
   "outputs": [],
   "source": [
    "# dd/mm/YY H:M:S\n",
    "dt_string = now.strftime(\n",
    "    \"%d/%m/%Y %H:%M:%S\"\n",
    ")  # To mach date time format in google sheet\n",
    "dt_string"
   ]
  },
  {
   "cell_type": "markdown",
   "id": "existing-judge",
   "metadata": {
    "papermill": {},
    "tags": []
   },
   "source": [
    "### Schedule check every minute\n",
    "If BROADCAST_DATE matches the current time then send twit from text column."
   ]
  },
  {
   "cell_type": "code",
   "execution_count": null,
   "id": "behind-launch",
   "metadata": {
    "papermill": {},
    "tags": []
   },
   "outputs": [],
   "source": [
    "# naas.scheduler.delete()\n",
    "naas.scheduler.add(recurrence=\"* * * * *\")  # to run every minute"
   ]
  },
  {
   "cell_type": "markdown",
   "id": "output_cell",
   "metadata": {
    "papermill": {},
    "tags": []
   },
   "source": [
    "## Output"
   ]
  },
  {
   "cell_type": "markdown",
   "id": "useful-handling",
   "metadata": {
    "papermill": {},
    "tags": []
   },
   "source": [
    "### If current date and column date in Gsheet matches then post"
   ]
  },
  {
   "cell_type": "code",
   "execution_count": null,
   "id": "sound-learning",
   "metadata": {
    "papermill": {},
    "tags": []
   },
   "outputs": [],
   "source": [
    "for i in range(len(df)):\n",
    "    print(dt_string, df[\"BROADCAST_DATE\"][i])\n",
    "    if dt_string == df[\"BROADCAST_DATE\"][i]:\n",
    "        twitter_post = df[\"TEXT\"][i]\n",
    "        event = \"naas_demo\"\n",
    "        key = \"ke4AigvXI5-EABaowdLt4fju1aOUxeMxSXQoN8FVyA\"\n",
    "        data = {\"value1\": twitter_post}\n",
    "        result = naas_drivers.ifttt.connect(key).send(event, data)"
   ]
  }
 ],
 "metadata": {
  "kernelspec": {
   "display_name": "Python 3",
   "language": "python",
   "name": "python3"
  },
  "language_info": {
   "codemirror_mode": {
    "name": "ipython",
    "version": 3
   },
   "file_extension": ".py",
   "mimetype": "text/x-python",
   "name": "python",
   "nbconvert_exporter": "python",
   "pygments_lexer": "ipython3",
   "version": "3.9.6"
  },
  "naas": {
   "notebook_id": "02f99981-752e-4866-b631-42761c390c30",
   "notebook_path": "Twitter/Twitter_Schedule_posts.ipynb"
  },
  "papermill": {
   "default_parameters": {},
   "environment_variables": {},
   "parameters": {},
   "version": "2.3.3"
  }
 },
 "nbformat": 4,
 "nbformat_minor": 5
}