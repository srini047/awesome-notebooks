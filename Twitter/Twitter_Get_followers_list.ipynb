{
 "cells": [
  {
   "cell_type": "markdown",
   "id": "b2199c49-58e5-4609-8983-030e92d10b1d",
   "metadata": {
    "papermill": {},
    "tags": []
   },
   "source": [
    "<img width=\"10%\" alt=\"Naas\" src=\"https://landen.imgix.net/jtci2pxwjczr/assets/5ice39g4.png?w=160\"/>"
   ]
  },
  {
   "cell_type": "markdown",
   "id": "03f025e8-7ac1-4b3c-9acb-9b93761a4a16",
   "metadata": {
    "papermill": {},
    "tags": []
   },
   "source": [
    "# Twitter - Get followers list\n",
    "<a href=\"https://app.naas.ai/user-redirect/naas/downloader?url=https://raw.githubusercontent.com/jupyter-naas/awesome-notebooks/master/Twitter/Twitter_Get_followers_list.ipynb\" target=\"_parent\"><img src=\"https://naasai-public.s3.eu-west-3.amazonaws.com/Open_in_Naas_Lab.svg\"/></a><br><br><a href=\"https://github.com/jupyter-naas/awesome-notebooks/issues/new?assignees=&labels=&template=template-request.md&title=Tool+-+Action+of+the+notebook+\">Template request</a> | <a href=\"https://github.com/jupyter-naas/awesome-notebooks/issues/new?assignees=&labels=bug&template=bug_report.md&title=Twitter+-+Get+followers+list:+Error+short+description\">Bug report</a> | <a href=\"https://app.naas.ai/user-redirect/naas/downloader?url=https://raw.githubusercontent.com/jupyter-naas/awesome-notebooks/master/Naas/Naas_Start_data_product.ipynb\" target=\"_parent\">Generate Data Product</a>"
   ]
  },
  {
   "cell_type": "markdown",
   "id": "cf70995a-ff4d-42b3-8143-15f02baceb1e",
   "metadata": {
    "papermill": {},
    "tags": []
   },
   "source": [
    "**Tags:** #twitter #api #followers #list #get #developer"
   ]
  },
  {
   "cell_type": "markdown",
   "id": "660aa481-3959-492f-bfb6-863f239e29ec",
   "metadata": {
    "papermill": {},
    "tags": []
   },
   "source": [
    "**Author:** [Sriniketh Jayasendil](https://www.linkedin.com/in/sriniketh-jayasendil/)"
   ]
  },
  {
   "cell_type": "markdown",
   "id": "a3730abc-a1c2-4931-8a20-36608b64d47a",
   "metadata": {
    "papermill": {},
    "tags": []
   },
   "source": [
    "**Description:** This notebook will demonstrate how to get a list of followers from Twitter using the API. This feature is only available on paid plan."
   ]
  },
  {
   "cell_type": "markdown",
   "id": "5639e484-7e40-46ac-b7a5-bca4ea8d658d",
   "metadata": {
    "papermill": {},
    "tags": []
   },
   "source": [
    "**References:**\n",
    "- [Twitter API Documentation](https://developer.twitter.com/en/docs/twitter-api/users/follows/quick-start/follows-lookup)\n",
    "- [Twitter API Authentication](https://developer.twitter.com/en/docs/basics/authentication/guides/access-tokens)"
   ]
  },
  {
   "cell_type": "markdown",
   "id": "bb171698-a0f0-42ba-930c-a603dd87bef8",
   "metadata": {
    "papermill": {},
    "tags": []
   },
   "source": [
    "## Input"
   ]
  },
  {
   "cell_type": "markdown",
   "id": "21208736-6232-40bf-9113-8e8b0d296215",
   "metadata": {
    "papermill": {},
    "tags": []
   },
   "source": [
    "### Import libraries"
   ]
  },
  {
   "cell_type": "code",
   "execution_count": null,
   "id": "d657be74-080e-4012-ae6e-c084f0c24549",
   "metadata": {
    "papermill": {},
    "tags": []
   },
   "outputs": [],
   "source": [
    "import naas\n",
    "import tweepy\n",
    "from tweepy import Stream\n",
    "import json\n",
    "import pandas as pd"
   ]
  },
  {
   "cell_type": "markdown",
   "id": "77db52ed-7910-418b-8e06-375729754b5e",
   "metadata": {
    "papermill": {},
    "tags": []
   },
   "source": [
    "### Setup Variables\n",
    "- `API_KEY`: [Twitter API Key](https://developer.twitter.com/en/docs/basics/authentication/guides/access-tokens)\n",
    "- `API_SECRET`: [Twitter API Secret](https://developer.twitter.com/en/docs/basics/authentication/guides/access-tokens)\n",
    "- `AUTH_TOKEN`: [Twitter Auth Token](https://developer.twitter.com/en/docs/authentication/oauth-2-0/application-only)\n",
    "- `AUTH_SECRET`: [Twitter Auth Secret](https://developer.twitter.com/en/docs/authentication/oauth-2-0/application-only)\n",
    "- `USER_ID`: Any preferred twitter user ID"
   ]
  },
  {
   "cell_type": "code",
   "execution_count": null,
   "id": "1808abae-9e4a-43a4-a37f-5b2b96960c56",
   "metadata": {
    "papermill": {},
    "tags": []
   },
   "outputs": [],
   "source": [
    "API_KEY = naas.secret.get(\"TWITTER_API_KEY\")\n",
    "API_SECRET = naas.secret.get(\"TWITTER_API_SECRET\")\n",
    "AUTH_TOKEN = naas.secret.get(\"TWITTER_AUTH_TOKEN\")\n",
    "AUTH_SECRET = naas.secret.get(\"TWITTER_AUTH_SECRET\")\n",
    "USER_ID = \"JupyterNaas\""
   ]
  },
  {
   "cell_type": "markdown",
   "id": "dd3b8ca6-32b6-450e-97d1-9ee53d5c270b",
   "metadata": {
    "papermill": {},
    "tags": []
   },
   "source": [
    "## Model"
   ]
  },
  {
   "cell_type": "markdown",
   "id": "88dd3758-1a74-4fcf-92c6-8c79abeaafee",
   "metadata": {
    "papermill": {},
    "tags": []
   },
   "source": [
    "### Create the connection with Tweepy and TwitterAPI"
   ]
  },
  {
   "cell_type": "code",
   "execution_count": null,
   "id": "029daf2b-ff6d-443f-95c2-1b69a0834dfc",
   "metadata": {
    "papermill": {},
    "tags": []
   },
   "outputs": [],
   "source": [
    "try:\n",
    "    auth = tweepy.OAuthHandler(API_KEY, API_SECRET)\n",
    "    auth.set_access_token(AUTH_TOKEN, AUTH_SECRET)\n",
    "    api = tweepy.API(auth, wait_on_rate_limit = True)\n",
    "    print(\"Connection creation successful...\")\n",
    "except:\n",
    "    print(\"Connection creation failed...\")"
   ]
  },
  {
   "cell_type": "markdown",
   "id": "89d0acb8-fba6-4411-a9ea-c5548d279acc",
   "metadata": {
    "papermill": {},
    "tags": []
   },
   "source": [
    "### Get followers list"
   ]
  },
  {
   "cell_type": "markdown",
   "id": "aa14f424-fd14-4e03-adac-a22ee05e04bb",
   "metadata": {
    "papermill": {},
    "tags": []
   },
   "source": [
    "This function will use the Twitter API to get a list of followers for a given user ID."
   ]
  },
  {
   "cell_type": "code",
   "execution_count": null,
   "id": "130c24b7-e646-4552-a97f-07efe7beae8a",
   "metadata": {
    "papermill": {},
    "tags": []
   },
   "outputs": [],
   "source": [
    "def get_followers_list(username):\n",
    "    followers_scraped = []\n",
    "    user = api.get_user(screen_name = username)\n",
    "    for i, _id in enumerate(tweepy.Cursor(api.followers_ids, screen_name=username).items()):\n",
    "        print(i, _id)\n",
    "        followers_scraped.append(_id)\n",
    "    return followers_scraped"
   ]
  },
  {
   "cell_type": "markdown",
   "id": "57d4f09a-ee16-4a85-9936-9790969b4501",
   "metadata": {
    "papermill": {},
    "tags": []
   },
   "source": [
    "## Output"
   ]
  },
  {
   "cell_type": "markdown",
   "id": "3c846a71-db21-4354-9c80-3082421aba46",
   "metadata": {
    "papermill": {},
    "tags": []
   },
   "source": [
    "### Display result"
   ]
  },
  {
   "cell_type": "code",
   "execution_count": null,
   "id": "89b1762d-d8f1-466b-a4ac-da3de72ce8d2",
   "metadata": {
    "papermill": {},
    "tags": []
   },
   "outputs": [],
   "source": [
    "followers_list_id = get_followers_list(USER_ID)\n",
    "print(followers_list_id)"
   ]
  },
  {
   "cell_type": "markdown",
   "id": "192f673f-2139-461d-94ff-8021ee6c44ac",
   "metadata": {
    "papermill": {},
    "tags": []
   },
   "source": [
    "### Save the result in a dataframe"
   ]
  },
  {
   "cell_type": "code",
   "execution_count": null,
   "id": "41baafe3-6f60-4a34-ab61-de0862164324",
   "metadata": {
    "papermill": {},
    "tags": []
   },
   "outputs": [],
   "source": [
    "followers_list_name = []\n",
    "for i in range(len(followers_list_id)):\n",
    "    followers_list_name.append(api.get_user(followers_list_id[i]).screen_name)\n",
    "    \n",
    "df = pd.DataFrame(followers_list_name, columns=['Followers'])\n",
    "print(df.head())"
   ]
  }
 ],
 "metadata": {
  "kernelspec": {
   "display_name": "Python 3",
   "language": "python",
   "name": "python3"
  },
  "language_info": {
   "codemirror_mode": {
    "name": "ipython",
    "version": 3
   },
   "file_extension": ".py",
   "mimetype": "text/x-python",
   "name": "python",
   "nbconvert_exporter": "python",
   "pygments_lexer": "ipython3",
   "version": "3.9.6"
  },
  "naas": {
   "notebook_id": "ac4829f37f52f9554372ffdc6920da0099d83854bdd4d6e8e18efcc86af6fa37",
   "notebook_path": "Twitter/Twitter_Get_followers_list.ipynb"
  },
  "papermill": {
   "default_parameters": {},
   "environment_variables": {},
   "parameters": {},
   "version": "2.4.0"
  },
  "widgets": {
   "application/vnd.jupyter.widget-state+json": {
    "state": {},
    "version_major": 2,
    "version_minor": 0
   }
  }
 },
 "nbformat": 4,
 "nbformat_minor": 5
}