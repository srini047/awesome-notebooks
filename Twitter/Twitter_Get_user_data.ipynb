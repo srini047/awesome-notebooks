{
 "cells": [
  {
   "cell_type": "markdown",
   "id": "naas-logo",
   "metadata": {
    "papermill": {},
    "tags": [
     "naas"
    ]
   },
   "source": [
    "<img width=\"10%\" alt=\"Naas\" src=\"https://landen.imgix.net/jtci2pxwjczr/assets/5ice39g4.png?w=160\"/>"
   ]
  },
  {
   "cell_type": "markdown",
   "id": "22b3e6a7-eaf5-49ab-93f6-d5b5b0ac4bb7",
   "metadata": {
    "papermill": {},
    "tags": []
   },
   "source": [
    "# Twitter - Get user data\n",
    "<a href=\"https://app.naas.ai/user-redirect/naas/downloader?url=https://raw.githubusercontent.com/jupyter-naas/awesome-notebooks/master/Twitter/Twitter_Get_user_data.ipynb\" target=\"_parent\"><img src=\"https://naasai-public.s3.eu-west-3.amazonaws.com/open_in_naas.svg\"/></a><br><br><a href=\"https://github.com/jupyter-naas/awesome-notebooks/issues/new?assignees=&labels=&template=template-request.md&title=Tool+-+Action+of+the+notebook+\">Template request</a> | <a href=\"https://github.com/jupyter-naas/awesome-notebooks/issues/new?assignees=&labels=bug&template=bug_report.md&title=Twitter+-+Get+user+data:+Error+short+description\">Bug report</a>"
   ]
  },
  {
   "cell_type": "markdown",
   "id": "31d47bd1-3264-4b02-9025-bd2375857188",
   "metadata": {
    "papermill": {},
    "tags": []
   },
   "source": [
    "**Tags:** #twitter #ifttt #naas_drivers #snippet #content #dataframe"
   ]
  },
  {
   "cell_type": "markdown",
   "id": "naas-author",
   "metadata": {
    "papermill": {},
    "tags": [
     "naas"
    ]
   },
   "source": [
    "**Author:** [Dineshkumar Sundaram](https://github.com/dineshh912)"
   ]
  },
  {
   "cell_type": "markdown",
   "id": "naas-description",
   "metadata": {
    "papermill": {},
    "tags": [
     "description"
    ]
   },
   "source": [
    "**Description:** This notebook provides a way to access and analyze data from Twitter users."
   ]
  },
  {
   "cell_type": "markdown",
   "id": "093dbcaa-decd-4758-a8e6-1f3b0fb71446",
   "metadata": {
    "papermill": {},
    "tags": []
   },
   "source": [
    "## Input"
   ]
  },
  {
   "cell_type": "markdown",
   "id": "import_cell",
   "metadata": {
    "papermill": {},
    "tags": []
   },
   "source": [
    "### Import library"
   ]
  },
  {
   "cell_type": "code",
   "execution_count": null,
   "id": "6e4a6247-513e-42de-af1c-70b9a87bdcff",
   "metadata": {
    "papermill": {},
    "tags": []
   },
   "outputs": [],
   "source": [
    "import tweepy\n",
    "import pandas as pd"
   ]
  },
  {
   "cell_type": "markdown",
   "id": "a404fc32-62b2-4245-9971-f45c49bc9ab7",
   "metadata": {
    "papermill": {},
    "tags": []
   },
   "source": [
    "### How to get API keys?"
   ]
  },
  {
   "cell_type": "markdown",
   "id": "36000229-a41e-4ffc-ba2f-e3d4445ec05d",
   "metadata": {
    "papermill": {},
    "tags": []
   },
   "source": [
    "[Twitter API Documentation](https://developer.twitter.com/en/docs/getting-started)"
   ]
  },
  {
   "cell_type": "markdown",
   "id": "49d51c57-ad10-4ed1-9e78-ddf4c8a23025",
   "metadata": {
    "papermill": {},
    "tags": []
   },
   "source": [
    "### Variables"
   ]
  },
  {
   "cell_type": "code",
   "execution_count": null,
   "id": "45564994-08dc-4551-9da3-10c5a755ec74",
   "metadata": {
    "papermill": {},
    "tags": []
   },
   "outputs": [],
   "source": [
    "# API Credentials\n",
    "consumer_key = \"XXXXXXXXXXXXXXXXXX\"\n",
    "consumer_secret = \"XXXXXXXXXXXXXXXXXXXXXXXXXXXXXXXXXXXX\""
   ]
  },
  {
   "cell_type": "code",
   "execution_count": null,
   "id": "1dc8e565-1706-49d8-ab8a-6f8f5aa18032",
   "metadata": {
    "papermill": {},
    "tags": []
   },
   "outputs": [],
   "source": [
    "user_list = [\"JupyterNaas\", \"Spotify\", \"ProjectJupyter\"]"
   ]
  },
  {
   "cell_type": "markdown",
   "id": "f3b84755-c3db-4cc5-96f3-aca1d8cdfbec",
   "metadata": {
    "papermill": {},
    "tags": []
   },
   "source": [
    "## Model"
   ]
  },
  {
   "cell_type": "markdown",
   "id": "64cefc0e-cb74-4c63-bd02-c0cd33a848e4",
   "metadata": {
    "papermill": {},
    "tags": []
   },
   "source": [
    "### Authentication"
   ]
  },
  {
   "cell_type": "code",
   "execution_count": null,
   "id": "25193cda-fb05-4477-9c13-7c9d0a600102",
   "metadata": {
    "papermill": {},
    "tags": []
   },
   "outputs": [],
   "source": [
    "try:\n",
    "    auth = tweepy.AppAuthHandler(consumer_key, consumer_secret)\n",
    "    api = tweepy.API(auth)\n",
    "except BaseException as e:\n",
    "    print(f\"Authentication has been failed due to -{str(e)}\")"
   ]
  },
  {
   "cell_type": "markdown",
   "id": "e7fafaf2-d7a1-4351-a0d5-4bab535065dc",
   "metadata": {
    "papermill": {},
    "tags": []
   },
   "source": [
    "### Below function will retrive only the information about the user."
   ]
  },
  {
   "cell_type": "code",
   "execution_count": null,
   "id": "8d718030-74e7-47e6-a8c9-74427ee74e52",
   "metadata": {
    "papermill": {},
    "tags": []
   },
   "outputs": [],
   "source": [
    "def getUserInfo(user_id):\n",
    "\n",
    "    # Define a pandas dataframe to store the date:\n",
    "    user_info_df = pd.DataFrame(\n",
    "        columns=[\n",
    "            \"twitter_id\",\n",
    "            \"name\",\n",
    "            \"screen_name\",\n",
    "            \"description\",\n",
    "            \"tweet_count\",\n",
    "            \"friends_count\",\n",
    "            \"followers_count\",\n",
    "            \"favourites_count\",\n",
    "            \"verified\",\n",
    "            \"created_at\",\n",
    "        ]\n",
    "    )\n",
    "\n",
    "    # Collect userinformation using get_user\n",
    "    for user in user_id:\n",
    "        info = api.get_user(user)  # Get user information request\n",
    "\n",
    "        twitter_id = info.id\n",
    "        name = info.name\n",
    "        screen_name = info.screen_name\n",
    "        description = info.description\n",
    "        tweet_count = info.statuses_count\n",
    "        friends_count = info.friends_count\n",
    "        followers_count = info.followers_count\n",
    "        favourites_count = info.favourites_count\n",
    "        verified = info.verified\n",
    "        created_at = info.created_at\n",
    "\n",
    "        user_info = [\n",
    "            twitter_id,\n",
    "            name,\n",
    "            screen_name,\n",
    "            description,\n",
    "            tweet_count,\n",
    "            friends_count,\n",
    "            followers_count,\n",
    "            favourites_count,\n",
    "            verified,\n",
    "            created_at,\n",
    "        ]\n",
    "\n",
    "        user_info_df.loc[len(user_info_df)] = user_info\n",
    "\n",
    "    return user_info_df"
   ]
  },
  {
   "cell_type": "markdown",
   "id": "8bd87e52-193c-412a-afd4-cd5b7c6f9922",
   "metadata": {
    "papermill": {},
    "tags": []
   },
   "source": [
    "## Output"
   ]
  },
  {
   "cell_type": "markdown",
   "id": "4758c189-bc55-4282-90fe-919d42c7e40b",
   "metadata": {
    "papermill": {},
    "tags": []
   },
   "source": [
    "### Get user data"
   ]
  },
  {
   "cell_type": "code",
   "execution_count": null,
   "id": "630b6020-74b4-469b-8410-b7802122e03f",
   "metadata": {
    "papermill": {},
    "tags": []
   },
   "outputs": [],
   "source": [
    "df = getUserInfo(user_list)"
   ]
  }
 ],
 "metadata": {
  "kernelspec": {
   "display_name": "Python 3",
   "language": "python",
   "name": "python3"
  },
  "language_info": {
   "codemirror_mode": {
    "name": "ipython",
    "version": 3
   },
   "file_extension": ".py",
   "mimetype": "text/x-python",
   "name": "python",
   "nbconvert_exporter": "python",
   "pygments_lexer": "ipython3",
   "version": "3.9.6"
  },
  "naas": {
   "notebook_id": "ee181068-7c3f-4c52-a549-8d1490c57d7f",
   "notebook_path": "Twitter/Twitter_Get_user_data.ipynb"
  },
  "papermill": {
   "default_parameters": {},
   "environment_variables": {},
   "parameters": {},
   "version": "2.3.3"
  },
  "widgets": {
   "application/vnd.jupyter.widget-state+json": {
    "state": {},
    "version_major": 2,
    "version_minor": 0
   }
  }
 },
 "nbformat": 4,
 "nbformat_minor": 5
}