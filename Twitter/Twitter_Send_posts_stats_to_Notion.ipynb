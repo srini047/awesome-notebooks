{
 "cells": [
  {
   "cell_type": "markdown",
   "id": "b8a43220-7515-4284-930d-dae183734852",
   "metadata": {
    "papermill": {},
    "tags": []
   },
   "source": [
    "<img width=\"10%\" alt=\"Naas\" src=\"https://landen.imgix.net/jtci2pxwjczr/assets/5ice39g4.png?w=160\"/>"
   ]
  },
  {
   "cell_type": "markdown",
   "id": "425d4020-2b89-4351-afa3-f66272412360",
   "metadata": {
    "papermill": {},
    "tags": []
   },
   "source": [
    "# Twitter - Send posts stats to Notion\n",
    "<a href=\"https://app.naas.ai/user-redirect/naas/downloader?url=https://raw.githubusercontent.com/jupyter-naas/awesome-notebooks/master/Twitter/Twitter_Send_posts_stats_to_Notion.ipynb\" target=\"_parent\"><img src=\"https://naasai-public.s3.eu-west-3.amazonaws.com/Open_in_Naas_Lab.svg\"/></a><br><br><a href=\"https://github.com/jupyter-naas/awesome-notebooks/issues/new?assignees=&labels=&template=template-request.md&title=Tool+-+Action+of+the+notebook+\">Template request</a> | <a href=\"https://github.com/jupyter-naas/awesome-notebooks/issues/new?assignees=&labels=bug&template=bug_report.md&title=Twitter+-+Send+posts+stats+to+Notion:+Error+short+description\">Bug report</a> | <a href=\"https://app.naas.ai/user-redirect/naas/downloader?url=https://raw.githubusercontent.com/jupyter-naas/awesome-notebooks/master/Naas/Naas_Start_data_product.ipynb\" target=\"_parent\">Generate Data Product</a>"
   ]
  },
  {
   "cell_type": "markdown",
   "id": "bb15ba94-a94b-4faf-a13d-8a0b712a2d6c",
   "metadata": {
    "papermill": {},
    "tags": []
   },
   "source": [
    "**Tags:** #twitter #post #comments #naas_drivers #snippet #content #notion"
   ]
  },
  {
   "cell_type": "markdown",
   "id": "382b0f34-082f-46c6-8511-2e9fb0f95a3a",
   "metadata": {
    "papermill": {},
    "tags": []
   },
   "source": [
    "**Author:** [Maxime Jublou](https://www.linkedin.com/in/maixmejublou)"
   ]
  },
  {
   "cell_type": "markdown",
   "id": "naas-description",
   "metadata": {
    "papermill": {},
    "tags": [
     "description"
    ]
   },
   "source": [
    "**Description:** This notebook allows you to track and analyze your Twitter posts and send the stats to Notion for further analysis."
   ]
  },
  {
   "cell_type": "markdown",
   "id": "dab4240b-8692-4765-8bea-03d972958a47",
   "metadata": {
    "papermill": {},
    "tags": []
   },
   "source": [
    "## Input"
   ]
  },
  {
   "cell_type": "markdown",
   "id": "3d295097-fe1b-4496-9545-159815e9941d",
   "metadata": {
    "papermill": {},
    "tags": []
   },
   "source": [
    "### Import libraries"
   ]
  },
  {
   "cell_type": "code",
   "execution_count": null,
   "id": "a2449e97-c192-4bc6-880d-7ce3d2262a28",
   "metadata": {
    "papermill": {},
    "tags": []
   },
   "outputs": [],
   "source": [
    "import naas\n",
    "from naas_drivers import notion\n",
    "import re\n",
    "import regex\n",
    "from numpy import inf\n",
    "try:\n",
    "    import emoji\n",
    "except:\n",
    "    ! pip install --user emoji\n",
    "    import emoji"
   ]
  },
  {
   "cell_type": "markdown",
   "id": "dec9d19d-f6f7-4378-9938-a8a6521c91c3",
   "metadata": {
    "papermill": {},
    "tags": []
   },
   "source": [
    "### Setup Twitter"
   ]
  },
  {
   "cell_type": "code",
   "execution_count": null,
   "id": "dc857d61-d79f-49fd-b366-83f7704b51cd",
   "metadata": {
    "papermill": {},
    "tags": []
   },
   "outputs": [],
   "source": [
    "TWITTER_CONSUMER_KEY = naas.secret.get(\"TWITTER_CONSUMER_KEY\") or \"YourCredential\"\n",
    "TWITTER_CONSUMER_SECRET = naas.secret.get(\"TWITTER_CONSUMER_SECRET\") or \"YourCredential\"\n",
    "\n",
    "TWITTER_BEARER_TOKEN = naas.secret.get(\"TWITTER_BEARER_TOKEN\") or \"YourCredential\"\n",
    "\n",
    "\n",
    "TWITTER_ACCESS_TOKEN = naas.secret.get(\"TWITTER_ACCESS_TOKEN\") or \"YourCredential\"\n",
    "TWITTER_ACCESS_TOKEN_SECRET = (\n",
    "    naas.secret.get(\"TWITTER_ACCESS_TOKEN_SECRET\") or \"YourCredential\"\n",
    ")"
   ]
  },
  {
   "cell_type": "markdown",
   "id": "c59aa3a6-0c11-40b1-8e65-b14cf32e512d",
   "metadata": {
    "papermill": {},
    "tags": []
   },
   "source": [
    "### Setup Notion"
   ]
  },
  {
   "cell_type": "code",
   "execution_count": null,
   "id": "bcf6a102-0a96-4a12-a0de-ae251933d659",
   "metadata": {
    "papermill": {},
    "tags": []
   },
   "outputs": [],
   "source": [
    "# Notion token\n",
    "NOTION_TOKEN = naas.secret.get(\"NOTION_TOKEN\") or \"YourNotionToken\"\n",
    "\n",
    "# Notion database url\n",
    "notion_database_url = \"https://www.notion.so/naas-official/ed622cae89e045249c464a08dc818876?v=989e444993d3421c8712e6e6b2d60810\""
   ]
  },
  {
   "cell_type": "markdown",
   "id": "2fad82a8-996f-4ff2-acd4-e20912571ce6",
   "metadata": {
    "papermill": {},
    "tags": []
   },
   "source": [
    "## Model"
   ]
  },
  {
   "cell_type": "markdown",
   "id": "d2314737-e03c-46c7-9173-3b0cb8dd0b6c",
   "metadata": {
    "papermill": {},
    "tags": []
   },
   "source": [
    "### Create a naas driver for Twitter"
   ]
  },
  {
   "cell_type": "code",
   "execution_count": null,
   "id": "ddf4b913-c960-449a-a506-a70d23ca60ad",
   "metadata": {
    "jupyter": {
     "source_hidden": true
    },
    "papermill": {},
    "tags": []
   },
   "outputs": [],
   "source": [
    "import tweepy\n",
    "import pandas as pd\n",
    "import json\n",
    "from typing import List\n",
    "import datetime\n",
    "import pydash\n",
    "\n",
    "tweet_fields = [\"author_id,created_at,source,public_metrics\"]\n",
    "tweet_personal_fields = [\n",
    "    \"author_id,created_at,source,public_metrics,non_public_metrics,organic_metrics\"\n",
    "]\n",
    "\n",
    "\n",
    "class Twitter:\n",
    "\n",
    "    # Authenticate as an app.\n",
    "    __bearer_token: str\n",
    "\n",
    "    # Authenticate as a user.\n",
    "    __consumer_key: str\n",
    "    __consumer_secret: str\n",
    "    __access_token: str\n",
    "    __access_token_secret: str\n",
    "\n",
    "    # Twitter v2 auth\n",
    "    __app_client: tweepy.Client\n",
    "    __user_client: tweepy.Client\n",
    "\n",
    "    __me: pd.Series\n",
    "\n",
    "    def connect(\n",
    "        self,\n",
    "        bearer_token: str,\n",
    "        consumer_key: str,\n",
    "        consumer_secret: str,\n",
    "        access_token: str,\n",
    "        access_token_secret: str,\n",
    "    ) -> \"Twitter\":\n",
    "        self.__bearer_token = bearer_token\n",
    "\n",
    "        self.__app_client = tweepy.Client(bearer_token=self.__bearer_token)\n",
    "\n",
    "        self.__consumer_key = consumer_key\n",
    "        self.__consumer_secret = consumer_secret\n",
    "        self.__access_token = access_token\n",
    "        self.__access_token_secret = access_token_secret\n",
    "\n",
    "        self.__user_client = tweepy.Client(\n",
    "            consumer_key=consumer_key,\n",
    "            consumer_secret=consumer_secret,\n",
    "            access_token=access_token,\n",
    "            access_token_secret=access_token_secret,\n",
    "        )\n",
    "\n",
    "        self.__me = self.get_me()\n",
    "\n",
    "        return self\n",
    "\n",
    "    @property\n",
    "    def app_client(self):\n",
    "        return self.__app_client\n",
    "\n",
    "    @property\n",
    "    def user_client(self):\n",
    "        return self.__user_client\n",
    "\n",
    "    def get_user(self, username: str) -> pd.Series:\n",
    "        users = self.__app_client.get_users(usernames=[username])\n",
    "        if users is None:\n",
    "            return None\n",
    "\n",
    "        return pd.Series(users.data[0].data)\n",
    "\n",
    "    def get_me(self):\n",
    "        me = self.__user_client.get_me()\n",
    "        if me is None:\n",
    "            return None\n",
    "        return pd.Series(me.data.data)\n",
    "\n",
    "    def get_my_tweets(self, **kwargs):\n",
    "        return self.get_users_tweets(self.__me.id, **kwargs)\n",
    "\n",
    "    def get_users_tweets(\n",
    "        self,\n",
    "        user_id: str,\n",
    "        tweet_count=10,\n",
    "        tweet_fields: List[str] = tweet_fields,\n",
    "        start_time=datetime.datetime.now() - datetime.timedelta(days=30),\n",
    "        end_time=datetime.datetime.now(),\n",
    "    ) -> pd.DataFrame:\n",
    "        should_stop = False\n",
    "        tweets_array = []\n",
    "        next_token = None\n",
    "\n",
    "        while len(tweets_array) < tweet_count and should_stop is False:\n",
    "            tweets_left_to_fetch = tweet_count - len(tweets_array)\n",
    "\n",
    "            if tweets_left_to_fetch > 100:\n",
    "                max_results = 100\n",
    "            elif tweets_left_to_fetch < 5:\n",
    "                max_results = 5\n",
    "            else:\n",
    "                max_results = tweets_left_to_fetch\n",
    "\n",
    "            tweets = self.__app_client.get_users_tweets(\n",
    "                id=user_id,\n",
    "                max_results=max_results,\n",
    "                start_time=start_time,\n",
    "                end_time=end_time,\n",
    "                pagination_token=next_token,\n",
    "            )\n",
    "            next_token = pydash.get(tweets, \"meta.next_token\", None)\n",
    "            if next_token is None:\n",
    "                should_stop = True\n",
    "\n",
    "            is_own_tweets = user_id == self.__me.id\n",
    "\n",
    "            for tweet in tweets.data:\n",
    "                tweet_id = tweet.id\n",
    "\n",
    "                if is_own_tweets is True:\n",
    "                    rich_tweet_response = self.__user_client.get_tweet(\n",
    "                        tweet_id, tweet_fields=tweet_personal_fields, user_auth=True\n",
    "                    )\n",
    "                    if len(rich_tweet_response.errors):\n",
    "                        rich_tweet_response = self.__user_client.get_tweet(\n",
    "                            tweet_id, tweet_fields=tweet_fields, user_auth=True\n",
    "                        )\n",
    "                else:\n",
    "                    rich_tweet_response = self.__app_client.get_tweet(\n",
    "                        tweet_id, tweet_fields=tweet_fields, user_auth=False\n",
    "                    )\n",
    "\n",
    "                rtd = rich_tweet_response.data\n",
    "\n",
    "                tweets_array.append(\n",
    "                    {\n",
    "                        \"id\": rtd.id,\n",
    "                        \"url\": f\"https://twitter.com/{self.__me.username}/status/{rtd.id}\",\n",
    "                        \"created_at\": rtd.created_at,\n",
    "                        \"author_id\": rtd.author_id,\n",
    "                        \"author_name\": self.__me[\"name\"],\n",
    "                        \"author_username\": self.__me.username,\n",
    "                        \"text\": rtd.text,\n",
    "                        \"public_retweet_count\": pydash.get(\n",
    "                            rtd, \"public_metrics.retweet_count\", -1\n",
    "                        ),\n",
    "                        \"public_reply_count\": pydash.get(\n",
    "                            rtd, \"public_metrics.reply_count\", -1\n",
    "                        ),\n",
    "                        \"public_like_count\": pydash.get(\n",
    "                            rtd, \"public_metrics.like_count\", -1\n",
    "                        ),\n",
    "                        \"public_quote_count\": pydash.get(\n",
    "                            rtd, \"public_metrics.quote_count\", -1\n",
    "                        ),\n",
    "                        \"organic_retweet_count\": pydash.get(\n",
    "                            rtd, \"organic_metrics.retweet_count\", -1\n",
    "                        ),\n",
    "                        \"organic_reply_count\": pydash.get(\n",
    "                            rtd, \"organic_metrics.reply_count\", -1\n",
    "                        ),\n",
    "                        \"organic_like_count\": pydash.get(\n",
    "                            rtd, \"organic_metrics.like_count\", -1\n",
    "                        ),\n",
    "                        \"organic_quote_count\": pydash.get(\n",
    "                            rtd, \"organic_metrics.quote_count\", -1\n",
    "                        ),\n",
    "                        \"non_public_user_profile_clicks\": pydash.get(\n",
    "                            rtd, \"non_public_metrics.user_profile_clicks\", -1\n",
    "                        ),\n",
    "                        \"non_public_impression_count\": pydash.get(\n",
    "                            rtd, \"non_public_metrics.impression_count\", -1\n",
    "                        ),\n",
    "                    }\n",
    "                )\n",
    "\n",
    "        return pd.DataFrame(tweets_array).astype(\n",
    "            {\n",
    "                \"public_retweet_count\": int,\n",
    "                \"public_reply_count\": int,\n",
    "                \"public_like_count\": int,\n",
    "                \"public_quote_count\": int,\n",
    "                \"organic_retweet_count\": int,\n",
    "                \"organic_reply_count\": int,\n",
    "                \"organic_like_count\": int,\n",
    "                \"organic_quote_count\": int,\n",
    "                \"non_public_user_profile_clicks\": int,\n",
    "                \"non_public_impression_count\": int,\n",
    "            }\n",
    "        )\n",
    "\n",
    "\n",
    "twitter = Twitter()"
   ]
  },
  {
   "cell_type": "markdown",
   "id": "bac049f9-36e7-4a51-a3a8-4c4829241871",
   "metadata": {
    "papermill": {},
    "tags": []
   },
   "source": [
    "### Connect Twitter driver"
   ]
  },
  {
   "cell_type": "code",
   "execution_count": null,
   "id": "6bab6792-95c8-4251-b52e-ca3a513c52da",
   "metadata": {
    "papermill": {},
    "tags": []
   },
   "outputs": [],
   "source": [
    "twitter.connect(\n",
    "    TWITTER_BEARER_TOKEN,\n",
    "    TWITTER_CONSUMER_KEY,\n",
    "    TWITTER_CONSUMER_SECRET,\n",
    "    TWITTER_ACCESS_TOKEN,\n",
    "    TWITTER_ACCESS_TOKEN_SECRET,\n",
    ")"
   ]
  },
  {
   "cell_type": "markdown",
   "id": "92a04ff2-aff6-4d41-9929-68c0e7f3b70d",
   "metadata": {
    "papermill": {},
    "tags": []
   },
   "source": [
    "### Get our user"
   ]
  },
  {
   "cell_type": "code",
   "execution_count": null,
   "id": "5ae62847-31e6-4c6c-831c-5eaf3a959dbf",
   "metadata": {
    "papermill": {},
    "tags": []
   },
   "outputs": [],
   "source": [
    "user = twitter.get_me()\n",
    "user"
   ]
  },
  {
   "cell_type": "markdown",
   "id": "42dee520-4b5d-4e16-b6c0-a867ed0a3c4e",
   "metadata": {
    "papermill": {},
    "tags": []
   },
   "source": [
    "### Get our tweets"
   ]
  },
  {
   "cell_type": "code",
   "execution_count": null,
   "id": "19b37cf0-7699-4dd8-a350-0f38d545b34d",
   "metadata": {
    "papermill": {},
    "tags": []
   },
   "outputs": [],
   "source": [
    "tweets = twitter.get_my_tweets()\n",
    "tweets"
   ]
  },
  {
   "cell_type": "markdown",
   "id": "69f51070-e9b3-49a1-9827-43dfbdb91a04",
   "metadata": {
    "papermill": {},
    "tags": []
   },
   "source": [
    "### Compute reach"
   ]
  },
  {
   "cell_type": "code",
   "execution_count": null,
   "id": "677ee4cb-5e6c-4508-af5a-5dc11a49820d",
   "metadata": {
    "papermill": {},
    "tags": []
   },
   "outputs": [],
   "source": [
    "tweets[\"REACH\"] = (\n",
    "    tweets[\"public_retweet_count\"]\n",
    "    + tweets[\"public_reply_count\"]\n",
    "    + tweets[\"public_like_count\"]\n",
    "    + tweets[\"public_quote_count\"]\n",
    "    + tweets[\"non_public_user_profile_clicks\"]\n",
    ") / tweets[\"non_public_impression_count\"]\n",
    "tweets = tweets.round({\"REACH\": 4})\n",
    "\n",
    "tweets = tweets.fillna({\"REACH\": -1})\n",
    "\n",
    "tweets[\"REACH\"] = tweets[\"REACH\"].replace(inf, -1)\n",
    "tweets[\"REACH\"] = tweets[\"REACH\"].apply(lambda x: 0 if x < 0 else x)\n",
    "tweets[\"REACH\"]"
   ]
  },
  {
   "cell_type": "markdown",
   "id": "519be232-b4e2-4559-9048-8e1f96db34d6",
   "metadata": {
    "papermill": {},
    "tags": []
   },
   "source": [
    "### Connect Notion Driver"
   ]
  },
  {
   "cell_type": "code",
   "execution_count": null,
   "id": "362ed07d-e5ab-4ca5-910e-f9030d80e37e",
   "metadata": {
    "papermill": {},
    "tags": []
   },
   "outputs": [],
   "source": [
    "notion.connect(NOTION_TOKEN)"
   ]
  },
  {
   "cell_type": "markdown",
   "id": "6ad3c70e-cfd0-4438-b960-3b35efda6dac",
   "metadata": {
    "papermill": {},
    "tags": []
   },
   "source": [
    "### Get Notion database"
   ]
  },
  {
   "cell_type": "code",
   "execution_count": null,
   "id": "4ffb0a0e-be6c-4e4d-9619-b68bfa1a7bc3",
   "metadata": {
    "papermill": {},
    "tags": []
   },
   "outputs": [],
   "source": [
    "db = notion.database.query(notion_database_url, query={})"
   ]
  },
  {
   "cell_type": "markdown",
   "id": "13e5eb79-5716-4833-b1a1-a97e2219feb3",
   "metadata": {
    "papermill": {},
    "tags": []
   },
   "source": [
    "### Helper function to quickly get page from database"
   ]
  },
  {
   "cell_type": "code",
   "execution_count": null,
   "id": "dcc9d9b4-13c2-4523-8521-62fc3e00f1da",
   "metadata": {
    "papermill": {},
    "tags": []
   },
   "outputs": [],
   "source": [
    "def get_page_with_matching_property(db, property_name, property_value):\n",
    "    return pydash.find(db, lambda x: str(x.properties[property_name]) == property_value)"
   ]
  },
  {
   "cell_type": "markdown",
   "id": "b27730d6-99bc-4a72-b2eb-d484c1a3b379",
   "metadata": {
    "papermill": {},
    "tags": []
   },
   "source": [
    "### Helper function to extract emojis"
   ]
  },
  {
   "cell_type": "code",
   "execution_count": null,
   "id": "75c5f48f-22a8-429b-97e1-fe38868f3b66",
   "metadata": {
    "papermill": {},
    "tags": []
   },
   "outputs": [],
   "source": [
    "def get_emojis(text):\n",
    "    emoji_list = []\n",
    "    data = regex.findall(r\"\\X\", text)\n",
    "    for word in data:\n",
    "        if any(char in emoji.UNICODE_EMOJI[\"en\"] for char in word):\n",
    "            emoji_list.append(word)\n",
    "    return emoji_list\n",
    "\n",
    "\n",
    "def get_tags(text):\n",
    "    tags = []\n",
    "    tags_list = re.findall(\"#[^#| ]+[a-zA-Z0-9]\", text)\n",
    "    for i in range(0, len(tags_list)):\n",
    "        tag = tags_list[i]\n",
    "        check_tag = True\n",
    "        for t in tag:\n",
    "            if not t.isalpha() and not t.isnumeric() and t != \"#\":\n",
    "                check_tag = False\n",
    "            if check_tag is False:\n",
    "                break\n",
    "        if check_tag is False:\n",
    "            tag = tag.rsplit(t)[0]\n",
    "        tags.append(tag)\n",
    "    return tags"
   ]
  },
  {
   "cell_type": "markdown",
   "id": "5184d390-a723-4bb1-a53a-9b77d4a2dfea",
   "metadata": {
    "papermill": {},
    "tags": []
   },
   "source": [
    "### Iterate over tweets and upsert page in Notion database"
   ]
  },
  {
   "cell_type": "code",
   "execution_count": null,
   "id": "04ee4551-1c77-4df2-aa7f-091ce381cf7e",
   "metadata": {
    "papermill": {},
    "tags": []
   },
   "outputs": [],
   "source": [
    "page_updated = 0\n",
    "page_created = 0\n",
    "page_created_list = []\n",
    "\n",
    "for _, tweet in tweets.iterrows():\n",
    "    content_url = tweet.url\n",
    "    notion_page = get_page_with_matching_property(db, \"Content URL\", content_url)\n",
    "\n",
    "    if notion_page is None:\n",
    "        notion_page = notion.page.create(\n",
    "            database_id=notion_database_url, title=tweet.text\n",
    "        )\n",
    "        page_created += 1\n",
    "        page_created_list.append(notion_page.url)\n",
    "        print(f\"✅ New notion page create for tweet: {content_url}\")\n",
    "    else:\n",
    "        page_updated += 1\n",
    "        print(f\"⚙️ Updating page {notion_page.url} for tweet {content_url}\")\n",
    "\n",
    "    notion_page.link(\"Content URL\", content_url)\n",
    "    notion_page.number(\n",
    "        \"Engagment score\", tweet[\"REACH\"]\n",
    "    )  # Typo here but it was already there in the database.\n",
    "    notion_page.number(\"Engagement score\", tweet[\"REACH\"])\n",
    "    notion_page.number(\"Views\", tweet[\"non_public_impression_count\"])\n",
    "    notion_page.number(\"Likes\", tweet[\"public_like_count\"])\n",
    "    notion_page.number(\"Comments\", tweet[\"public_reply_count\"])\n",
    "    notion_page.date(\"Publication Date\", str(tweet[\"created_at\"]))\n",
    "\n",
    "    emojis_array = get_emojis(tweet[\"text\"])\n",
    "    notion_page.rich_text(\"Emojis\", \" ,\".join(emojis_array))\n",
    "    notion_page.number(\"Nb emojis\", len(emojis_array))\n",
    "\n",
    "    tags_array = get_tags(tweet[\"text\"])\n",
    "    notion_page.rich_text(\"Tags\", \" \".join(tags_array))\n",
    "    notion_page.number(\"Nb tags\", len(tags_array))\n",
    "\n",
    "    notion_page.select(\"Status\", \"Published ✨\")\n",
    "    notion_page.select(\"Platform\", \"Twitter\")\n",
    "    notion_page.select(\"Content type\", \"Text\")\n",
    "    notion_page.select(\"Author\", tweet[\"author_name\"])\n",
    "\n",
    "    notion_page.update()\n",
    "    print(f\"✅ Page for tweet {content_url} updated!\")"
   ]
  },
  {
   "cell_type": "markdown",
   "id": "02718ba7-920a-4b75-ac31-bdb8e6b349a2",
   "metadata": {
    "papermill": {},
    "tags": []
   },
   "source": [
    "## Output"
   ]
  },
  {
   "cell_type": "markdown",
   "id": "a8daf3b0-0287-4422-8f5a-df691bee4e17",
   "metadata": {
    "papermill": {},
    "tags": []
   },
   "source": [
    "### Display results"
   ]
  },
  {
   "cell_type": "code",
   "execution_count": null,
   "id": "a5e60968-0edf-4cd6-9cfb-b65346527246",
   "metadata": {
    "papermill": {},
    "tags": []
   },
   "outputs": [],
   "source": [
    "page_created_template = \"\\n\\n\".join(page_created_list)\n",
    "\n",
    "print(\n",
    "    f\"\"\"\n",
    "✅ Execution completed!\n",
    "\n",
    "Number of page created: {page_created}\n",
    "Number of page updated: {page_updated}\n",
    "\n",
    "Page created:\n",
    "\n",
    "{page_created_template}\n",
    "\n",
    "\"\"\"\n",
    ")"
   ]
  }
 ],
 "metadata": {
  "kernelspec": {
   "display_name": "Python 3",
   "language": "python",
   "name": "python3"
  },
  "language_info": {
   "codemirror_mode": {
    "name": "ipython",
    "version": 3
   },
   "file_extension": ".py",
   "mimetype": "text/x-python",
   "name": "python",
   "nbconvert_exporter": "python",
   "pygments_lexer": "ipython3",
   "version": "3.9.6"
  },
  "naas": {
   "notebook_id": "49bb50d18a5fbfeb26b133b99b0f52e247e3ff104935fe78c1b7aad18334c7ff",
   "notebook_path": "Twitter/Twitter_Send_posts_stats_to_Notion.ipynb"
  },
  "papermill": {
   "default_parameters": {},
   "environment_variables": {},
   "parameters": {},
   "version": "2.3.4"
  }
 },
 "nbformat": 4,
 "nbformat_minor": 5
}