{
 "cells": [
  {
   "cell_type": "markdown",
   "id": "latin-packing",
   "metadata": {
    "execution": {
     "iopub.execute_input": "2021-02-23T14:22:16.610471Z",
     "iopub.status.busy": "2021-02-23T14:22:16.610129Z",
     "iopub.status.idle": "2021-02-23T14:22:16.627784Z",
     "shell.execute_reply": "2021-02-23T14:22:16.626866Z",
     "shell.execute_reply.started": "2021-02-23T14:22:16.610384Z"
    },
    "papermill": {},
    "tags": []
   },
   "source": [
    "<img width=\"10%\" alt=\"Naas\" src=\"https://landen.imgix.net/jtci2pxwjczr/assets/5ice39g4.png?w=160\"/>"
   ]
  },
  {
   "cell_type": "markdown",
   "id": "1eb97308-3641-45ee-a966-4d1d8d7903a7",
   "metadata": {
    "papermill": {},
    "tags": []
   },
   "source": [
    "# Twitter - Get tweets stats from profile\n",
    "<a href=\"https://app.naas.ai/user-redirect/naas/downloader?url=https://raw.githubusercontent.com/jupyter-naas/awesome-notebooks/master/Twitter/Twitter_Get_tweets_stats_from_profile.ipynb\" target=\"_parent\"><img src=\"https://naasai-public.s3.eu-west-3.amazonaws.com/open_in_naas.svg\"/></a><br><br><a href=\"https://github.com/jupyter-naas/awesome-notebooks/issues/new?assignees=&labels=&template=template-request.md&title=Tool+-+Action+of+the+notebook+\">Template request</a> | <a href=\"https://github.com/jupyter-naas/awesome-notebooks/issues/new?assignees=&labels=bug&template=bug_report.md&title=Twitter+-+Get+tweets+stats+from+profile:+Error+short+description\">Bug report</a>"
   ]
  },
  {
   "cell_type": "markdown",
   "id": "religious-programmer",
   "metadata": {
    "papermill": {},
    "tags": []
   },
   "source": [
    "**Tags:** #twitter #tweets #scrap #snippet #content #dataframe"
   ]
  },
  {
   "cell_type": "markdown",
   "id": "naas-author",
   "metadata": {
    "papermill": {},
    "tags": [
     "naas"
    ]
   },
   "source": [
    "**Author:** [Tannia Dubon](https://www.linkedin.com/in/tanniadubon/)"
   ]
  },
  {
   "cell_type": "markdown",
   "id": "naas-description",
   "metadata": {
    "papermill": {},
    "tags": [
     "description"
    ]
   },
   "source": [
    "**Description:** This notebook allows users to retrieve and analyze statistics from a Twitter profile."
   ]
  },
  {
   "cell_type": "markdown",
   "id": "distinguished-truth",
   "metadata": {
    "papermill": {},
    "tags": []
   },
   "source": [
    "## Input"
   ]
  },
  {
   "cell_type": "markdown",
   "id": "numeric-mediterranean",
   "metadata": {
    "papermill": {},
    "tags": []
   },
   "source": [
    "### Import library"
   ]
  },
  {
   "cell_type": "code",
   "execution_count": 1,
   "id": "2ae05562-8dc9-4f2c-ba4a-b8a3dae7e0d4",
   "metadata": {
    "execution": {
     "iopub.execute_input": "2021-12-27T11:58:34.877652Z",
     "iopub.status.busy": "2021-12-27T11:58:34.877219Z",
     "iopub.status.idle": "2021-12-27T11:58:35.146805Z",
     "shell.execute_reply": "2021-12-27T11:58:35.146218Z",
     "shell.execute_reply.started": "2021-12-27T11:58:34.877584Z"
    },
    "papermill": {},
    "tags": []
   },
   "outputs": [],
   "source": [
    "import os\n",
    "import re\n",
    "import pandas as pd"
   ]
  },
  {
   "cell_type": "code",
   "execution_count": 2,
   "id": "699478b3-f20f-4cce-86ea-1ff43c5b007d",
   "metadata": {
    "execution": {
     "iopub.execute_input": "2021-12-27T11:58:35.148199Z",
     "iopub.status.busy": "2021-12-27T11:58:35.147977Z",
     "iopub.status.idle": "2021-12-27T11:58:39.493592Z",
     "shell.execute_reply": "2021-12-27T11:58:39.493034Z",
     "shell.execute_reply.started": "2021-12-27T11:58:35.148172Z"
    },
    "papermill": {},
    "tags": []
   },
   "outputs": [],
   "source": [
    "# install developer snscrape package via command line\n",
    "os.system(\"pip3 install git+https://github.com/JustAnotherArchivist/snscrape.git\")"
   ]
  },
  {
   "cell_type": "markdown",
   "id": "aggressive-trustee",
   "metadata": {
    "papermill": {},
    "tags": []
   },
   "source": [
    "### Variables"
   ]
  },
  {
   "cell_type": "code",
   "execution_count": 3,
   "id": "continuous-melbourne",
   "metadata": {
    "execution": {
     "iopub.execute_input": "2021-12-27T11:58:39.494804Z",
     "iopub.status.busy": "2021-12-27T11:58:39.494573Z",
     "iopub.status.idle": "2021-12-27T11:58:39.499255Z",
     "shell.execute_reply": "2021-12-27T11:58:39.498750Z",
     "shell.execute_reply.started": "2021-12-27T11:58:39.494773Z"
    },
    "papermill": {},
    "tags": []
   },
   "outputs": [],
   "source": [
    "# criteria for searching by username\n",
    "username = \"JupyterNaas\"\n",
    "tweet_count = 500"
   ]
  },
  {
   "cell_type": "markdown",
   "id": "9a1c63cf-9e67-4276-b461-e4a8bb2509dd",
   "metadata": {
    "papermill": {},
    "tags": []
   },
   "source": [
    "## Model "
   ]
  },
  {
   "cell_type": "markdown",
   "id": "abd83ba5-fdef-4258-b0eb-b99afe99abd4",
   "metadata": {
    "execution": {
     "iopub.execute_input": "2021-12-27T11:31:52.212556Z",
     "iopub.status.busy": "2021-12-27T11:31:52.212317Z",
     "iopub.status.idle": "2021-12-27T11:31:52.215233Z",
     "shell.execute_reply": "2021-12-27T11:31:52.214573Z",
     "shell.execute_reply.started": "2021-12-27T11:31:52.212532Z"
    },
    "papermill": {},
    "tags": []
   },
   "source": [
    "### Scrap and save results in JSON "
   ]
  },
  {
   "cell_type": "code",
   "execution_count": 4,
   "id": "04e05b45-824f-4742-8e21-fe053e387fec",
   "metadata": {
    "execution": {
     "iopub.execute_input": "2021-12-27T11:58:39.500451Z",
     "iopub.status.busy": "2021-12-27T11:58:39.500110Z",
     "iopub.status.idle": "2021-12-27T11:58:44.141801Z",
     "shell.execute_reply": "2021-12-27T11:58:44.141232Z",
     "shell.execute_reply.started": "2021-12-27T11:58:39.500421Z"
    },
    "papermill": {},
    "tags": []
   },
   "outputs": [],
   "source": [
    "# search by username using command line\n",
    "os.system(\n",
    "    \"snscrape --jsonl --max-results {} twitter-search from:{} > user-tweets.json\".format(\n",
    "        tweet_count, username\n",
    "    )\n",
    ")"
   ]
  },
  {
   "cell_type": "markdown",
   "id": "4ca72279-58b6-4ba5-b1ab-59ef06319c35",
   "metadata": {
    "papermill": {},
    "tags": []
   },
   "source": [
    "###  Read JSON"
   ]
  },
  {
   "cell_type": "code",
   "execution_count": 5,
   "id": "crude-louisville",
   "metadata": {
    "execution": {
     "iopub.execute_input": "2021-12-27T11:58:44.143069Z",
     "iopub.status.busy": "2021-12-27T11:58:44.142822Z",
     "iopub.status.idle": "2021-12-27T11:58:44.238376Z",
     "shell.execute_reply": "2021-12-27T11:58:44.237684Z",
     "shell.execute_reply.started": "2021-12-27T11:58:44.143040Z"
    },
    "papermill": {},
    "tags": []
   },
   "outputs": [],
   "source": [
    "# Reads the json generated from the CLI command above and creates a pandas dataframe\n",
    "df = pd.read_json(\n",
    "    \"user-tweets.json\", lines=True, convert_dates=True, keep_default_dates=True\n",
    ")\n",
    "df"
   ]
  },
  {
   "cell_type": "markdown",
   "id": "d2139068-c21e-40bc-b09f-4ce4e13cff13",
   "metadata": {
    "papermill": {},
    "tags": []
   },
   "source": [
    "### Clean dataframe to keep only necessary columns"
   ]
  },
  {
   "cell_type": "markdown",
   "id": "82103dc0-1d11-4c29-b42f-43282fcc4ac7",
   "metadata": {
    "papermill": {},
    "tags": []
   },
   "source": [
    "- URL\n",
    "- TITLE\n",
    "- CONTENT\n",
    "- HASTAGS\n",
    "- DATE\n",
    "- LIKES\n",
    "- RETWEETS"
   ]
  },
  {
   "cell_type": "code",
   "execution_count": 11,
   "id": "55ca7b27-8ad3-469d-9c3a-408700026d4f",
   "metadata": {
    "execution": {
     "iopub.execute_input": "2021-12-27T12:05:00.785698Z",
     "iopub.status.busy": "2021-12-27T12:05:00.785454Z",
     "iopub.status.idle": "2021-12-27T12:05:00.800014Z",
     "shell.execute_reply": "2021-12-27T12:05:00.799298Z",
     "shell.execute_reply.started": "2021-12-27T12:05:00.785674Z"
    },
    "papermill": {},
    "tags": []
   },
   "outputs": [],
   "source": [
    "# copy dataframe\n",
    "df1 = df.copy()\n",
    "\n",
    "# keep only the columns needed\n",
    "df1 = df1[[\"url\", \"content\", \"hashtags\", \"date\", \"likeCount\", \"retweetCount\"]]\n",
    "\n",
    "# convert columns to upper case to follow naas df convention\n",
    "df1.columns = df1.columns.str.upper()\n",
    "\n",
    "# convert time to ISO format to follow naas date convention\n",
    "df1.DATE = pd.to_datetime(df1.DATE).dt.strftime(\"%Y-%m-%d\")\n",
    "\n",
    "# clean HASHTAGS column to provide searchable items in columns\n",
    "df1.HASHTAGS = df1.HASHTAGS.fillna(\"[]\")\n",
    "df1.HASHTAGS = df1.apply(\n",
    "    lambda row: \", \".join(list(row.HASHTAGS)) if row.HASHTAGS != \"[]\" else \"\", axis=1\n",
    ")\n",
    "\n",
    "# display results\n",
    "df1"
   ]
  },
  {
   "cell_type": "markdown",
   "id": "lonely-pacific",
   "metadata": {
    "execution": {
     "iopub.execute_input": "2021-07-02T23:32:10.789097Z",
     "iopub.status.busy": "2021-07-02T23:32:10.788829Z",
     "iopub.status.idle": "2021-07-02T23:32:10.796900Z",
     "shell.execute_reply": "2021-07-02T23:32:10.796358Z",
     "shell.execute_reply.started": "2021-07-02T23:32:10.789033Z"
    },
    "papermill": {},
    "tags": []
   },
   "source": [
    "## Output"
   ]
  },
  {
   "cell_type": "markdown",
   "id": "bca2cbca-c670-4522-a9e8-ac870034bf37",
   "metadata": {
    "execution": {
     "iopub.execute_input": "2021-12-27T12:02:18.338913Z",
     "iopub.status.busy": "2021-12-27T12:02:18.338669Z",
     "iopub.status.idle": "2021-12-27T12:02:18.341768Z",
     "shell.execute_reply": "2021-12-27T12:02:18.341087Z",
     "shell.execute_reply.started": "2021-12-27T12:02:18.338889Z"
    },
    "papermill": {},
    "tags": []
   },
   "source": [
    "### Save to df"
   ]
  },
  {
   "cell_type": "code",
   "execution_count": 8,
   "id": "275fa6c6-490d-4912-9662-a298186cca29",
   "metadata": {
    "execution": {
     "iopub.execute_input": "2021-12-27T11:58:44.382525Z",
     "iopub.status.busy": "2021-12-27T11:58:44.382287Z",
     "iopub.status.idle": "2021-12-27T11:58:44.542859Z",
     "shell.execute_reply": "2021-12-27T11:58:44.542267Z",
     "shell.execute_reply.started": "2021-12-27T11:58:44.382495Z"
    },
    "papermill": {},
    "tags": []
   },
   "outputs": [],
   "source": [
    "df1.to_csv(\"tweets_from_URL.csv\", index=False)"
   ]
  }
 ],
 "metadata": {
  "kernelspec": {
   "display_name": "Python 3",
   "language": "python",
   "name": "python3"
  },
  "language_info": {
   "codemirror_mode": {
    "name": "ipython",
    "version": 3
   },
   "file_extension": ".py",
   "mimetype": "text/x-python",
   "name": "python",
   "nbconvert_exporter": "python",
   "pygments_lexer": "ipython3",
   "version": "3.9.6"
  },
  "naas": {
   "notebook_id": "384ab08b-f901-44a0-9246-3f12124b9d31",
   "notebook_path": "Twitter/Twitter_Get_tweets_stats_from_profile.ipynb"
  },
  "papermill": {
   "default_parameters": {},
   "environment_variables": {},
   "parameters": {},
   "version": "2.3.3"
  },
  "widgets": {
   "application/vnd.jupyter.widget-state+json": {
    "state": {},
    "version_major": 2,
    "version_minor": 0
   }
  }
 },
 "nbformat": 4,
 "nbformat_minor": 5
}