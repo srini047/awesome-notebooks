{
 "cells": [
  {
   "cell_type": "markdown",
   "id": "latin-packing",
   "metadata": {
    "execution": {
     "iopub.execute_input": "2021-02-23T14:22:16.610471Z",
     "iopub.status.busy": "2021-02-23T14:22:16.610129Z",
     "iopub.status.idle": "2021-02-23T14:22:16.627784Z",
     "shell.execute_reply": "2021-02-23T14:22:16.626866Z",
     "shell.execute_reply.started": "2021-02-23T14:22:16.610384Z"
    },
    "papermill": {},
    "tags": []
   },
   "source": [
    "<img width=\"10%\" alt=\"Naas\" src=\"https://landen.imgix.net/jtci2pxwjczr/assets/5ice39g4.png?w=160\"/>"
   ]
  },
  {
   "cell_type": "markdown",
   "id": "compressed-wilson",
   "metadata": {
    "papermill": {},
    "tags": []
   },
   "source": [
    "# Twitter - Get members of list\n",
    "<a href=\"https://app.naas.ai/user-redirect/naas/downloader?url=https://raw.githubusercontent.com/jupyter-naas/awesome-notebooks/master/Twitter/Twitter_Get_members_of%20list.ipynb\" target=\"_parent\"><img src=\"https://naasai-public.s3.eu-west-3.amazonaws.com/open_in_naas.svg\"/></a><br><br><a href=\"https://github.com/jupyter-naas/awesome-notebooks/issues/new?assignees=&labels=&template=template-request.md&title=Tool+-+Action+of+the+notebook+\">Template request</a> | <a href=\"https://github.com/jupyter-naas/awesome-notebooks/issues/new?assignees=&labels=bug&template=bug_report.md&title=Twitter+-+Get+members+of+list:+Error+short+description\">Bug report</a>"
   ]
  },
  {
   "cell_type": "markdown",
   "id": "religious-programmer",
   "metadata": {
    "papermill": {},
    "tags": []
   },
   "source": [
    "**Tags:** #twitter #tweepy #pandas #twitterautomation #twitterlistmembers #snippet"
   ]
  },
  {
   "cell_type": "markdown",
   "id": "1fe9f56e-561c-4f52-aef8-b861c9462107",
   "metadata": {
    "papermill": {},
    "tags": []
   },
   "source": [
    "**Author:** [Kaushal Krishna](https://www.linkedin.com/in/kaushal-krishna-a48959153)"
   ]
  },
  {
   "cell_type": "markdown",
   "id": "31ea7cdb-e10d-43fc-b026-f69249a59736",
   "metadata": {
    "papermill": {},
    "tags": []
   },
   "source": [
    "**Description:** This notebook gets the members of a list of a particular user. Private list members will only be shown if the authenticated user owns the specified list. It can be used to enable people to curate and organize new Lists based on the membership information"
   ]
  },
  {
   "cell_type": "markdown",
   "id": "543df7ab-6eb6-491b-9b3d-4a4640b77b35",
   "metadata": {
    "papermill": {},
    "tags": []
   },
   "source": [
    "<u>References:</u>\n",
    "- https://developer.twitter.com/en/docs/twitter-api/lists/list-members/introduction"
   ]
  },
  {
   "cell_type": "markdown",
   "id": "distinguished-truth",
   "metadata": {
    "papermill": {},
    "tags": []
   },
   "source": [
    "## Input"
   ]
  },
  {
   "cell_type": "markdown",
   "id": "numeric-mediterranean",
   "metadata": {
    "papermill": {},
    "tags": []
   },
   "source": [
    "### Import libraries"
   ]
  },
  {
   "cell_type": "code",
   "execution_count": 17,
   "id": "potential-surfing",
   "metadata": {
    "execution": {
     "iopub.execute_input": "2023-01-24T16:59:48.974350Z",
     "iopub.status.busy": "2023-01-24T16:59:48.974045Z",
     "iopub.status.idle": "2023-01-24T16:59:48.977625Z",
     "shell.execute_reply": "2023-01-24T16:59:48.977004Z",
     "shell.execute_reply.started": "2023-01-24T16:59:48.974312Z"
    },
    "papermill": {},
    "tags": []
   },
   "outputs": [],
   "source": [
    "import tweepy\n",
    "import pandas as pd\n",
    "import naas"
   ]
  },
  {
   "cell_type": "markdown",
   "id": "aggressive-trustee",
   "metadata": {
    "papermill": {},
    "tags": []
   },
   "source": [
    "### Setup Variables\n",
    "-> Get your bearer token by applying in twitter developer website https://developer.twitter.com/en/docs/authentication/oauth-2-0/bearer-tokens            \n",
    "-> For the user name supply the display name (Twitter Handle) without '@' i.e.  \"JupyterNaas\" for Naas.ai .                                                                                                                                                                                      \n",
    "-> The list has to be public in order to be noticed by the api."
   ]
  },
  {
   "cell_type": "code",
   "execution_count": 18,
   "id": "continuous-melbourne",
   "metadata": {
    "execution": {
     "iopub.execute_input": "2023-01-24T16:59:49.465372Z",
     "iopub.status.busy": "2023-01-24T16:59:49.465146Z",
     "iopub.status.idle": "2023-01-24T16:59:49.568010Z",
     "shell.execute_reply": "2023-01-24T16:59:49.567368Z",
     "shell.execute_reply.started": "2023-01-24T16:59:49.465350Z"
    },
    "papermill": {},
    "tags": []
   },
   "outputs": [],
   "source": [
    "# inputs\n",
    "bearer_token = (\n",
    "    naas.secret.get(\"TWITTER_BEARER_TOKEN\")\n",
    "    or \"AAAAAAAAAAAAAAAAAAAAAMQhdgEAAAAAD0EI4sREei02us...\"\n",
    ")\n",
    "user_name = \"JupyterNaas\"\n",
    "\n",
    "# outputs\n",
    "csv_output = \"output.csv\""
   ]
  },
  {
   "cell_type": "markdown",
   "id": "registered-showcase",
   "metadata": {
    "papermill": {},
    "tags": []
   },
   "source": [
    "## Model"
   ]
  },
  {
   "cell_type": "markdown",
   "id": "9e22cffd-7e95-4687-befe-d6d1c4844767",
   "metadata": {
    "papermill": {},
    "tags": []
   },
   "source": [
    "### Connect to client"
   ]
  },
  {
   "cell_type": "code",
   "execution_count": 19,
   "id": "crude-louisville",
   "metadata": {
    "execution": {
     "iopub.execute_input": "2023-01-24T16:59:50.204511Z",
     "iopub.status.busy": "2023-01-24T16:59:50.204286Z",
     "iopub.status.idle": "2023-01-24T16:59:50.207765Z",
     "shell.execute_reply": "2023-01-24T16:59:50.207058Z",
     "shell.execute_reply.started": "2023-01-24T16:59:50.204488Z"
    },
    "papermill": {},
    "tags": []
   },
   "outputs": [],
   "source": [
    "try:\n",
    "    client = tweepy.Client(bearer_token=bearer_token)\n",
    "except:\n",
    "    print(\"Failure in Authentication.\")"
   ]
  },
  {
   "cell_type": "markdown",
   "id": "tested-astrology",
   "metadata": {
    "papermill": {},
    "tags": []
   },
   "source": [
    "### Get data from Twitter"
   ]
  },
  {
   "cell_type": "code",
   "execution_count": 20,
   "id": "b06b39ea-8d9b-4af7-8a6e-28e7f2646156",
   "metadata": {
    "execution": {
     "iopub.execute_input": "2023-01-24T16:59:50.687118Z",
     "iopub.status.busy": "2023-01-24T16:59:50.686894Z",
     "iopub.status.idle": "2023-01-24T16:59:51.229199Z",
     "shell.execute_reply": "2023-01-24T16:59:51.228535Z",
     "shell.execute_reply.started": "2023-01-24T16:59:50.687096Z"
    },
    "papermill": {},
    "tags": []
   },
   "outputs": [],
   "source": [
    "def get_members_of_list(client, user_name):\n",
    "    user = client.get_user(username=user_name)\n",
    "    user_id = user.data[\"id\"]\n",
    "    twitter_list = client.get_owned_lists(id=user_id)\n",
    "\n",
    "    # init result\n",
    "    data_dict = {\n",
    "        \"LIST_ID\": [],\n",
    "        \"LIST_NAME\": [],\n",
    "        \"MEMBER_ID\": [],\n",
    "        \"MEMBER_NAME\": [],\n",
    "        \"MEMBER_USERNAME\": [],\n",
    "    }\n",
    "\n",
    "    for row in twitter_list.data:\n",
    "        list_id = row[\"id\"]\n",
    "        list_name = row[\"name\"]\n",
    "        list_members = client.get_list_members(id=list_id)\n",
    "        for member in list_members.data:\n",
    "            data_dict[\"LIST_ID\"].append(list_id)\n",
    "            data_dict[\"LIST_NAME\"].append(list_name)\n",
    "            data_dict[\"MEMBER_ID\"].append(member[\"id\"])\n",
    "            data_dict[\"MEMBER_NAME\"].append(member[\"name\"])\n",
    "            data_dict[\"MEMBER_USERNAME\"].append(member[\"username\"])\n",
    "    df = pd.DataFrame(data_dict)\n",
    "    return df\n",
    "\n",
    "\n",
    "df_members = get_members_of_list(client, user_name)\n",
    "df_members"
   ]
  },
  {
   "cell_type": "markdown",
   "id": "lonely-pacific",
   "metadata": {
    "execution": {
     "iopub.execute_input": "2021-07-02T23:32:10.789097Z",
     "iopub.status.busy": "2021-07-02T23:32:10.788829Z",
     "iopub.status.idle": "2021-07-02T23:32:10.796900Z",
     "shell.execute_reply": "2021-07-02T23:32:10.796358Z",
     "shell.execute_reply.started": "2021-07-02T23:32:10.789033Z"
    },
    "papermill": {},
    "tags": []
   },
   "source": [
    "## Output"
   ]
  },
  {
   "cell_type": "markdown",
   "id": "890f7c86-b7bb-4f5d-9a1b-e492dd9580fd",
   "metadata": {
    "papermill": {},
    "tags": []
   },
   "source": [
    "### Save result in csv"
   ]
  },
  {
   "cell_type": "code",
   "execution_count": 21,
   "id": "9c4e3b7b-6440-4844-8054-265f1aec65eb",
   "metadata": {
    "execution": {
     "iopub.execute_input": "2023-01-24T16:59:51.604794Z",
     "iopub.status.busy": "2023-01-24T16:59:51.604578Z",
     "iopub.status.idle": "2023-01-24T16:59:51.631632Z",
     "shell.execute_reply": "2023-01-24T16:59:51.631057Z",
     "shell.execute_reply.started": "2023-01-24T16:59:51.604772Z"
    },
    "papermill": {},
    "tags": []
   },
   "outputs": [],
   "source": [
    "df.to_csv(csv_output, index=False)"
   ]
  }
 ],
 "metadata": {
  "kernelspec": {
   "display_name": "Python 3",
   "language": "python",
   "name": "python3"
  },
  "language_info": {
   "codemirror_mode": {
    "name": "ipython",
    "version": 3
   },
   "file_extension": ".py",
   "mimetype": "text/x-python",
   "name": "python",
   "nbconvert_exporter": "python",
   "pygments_lexer": "ipython3",
   "version": "3.9.6"
  },
  "papermill": {
   "default_parameters": {},
   "environment_variables": {},
   "parameters": {},
   "version": "2.3.3"
  },
  "widgets": {
   "application/vnd.jupyter.widget-state+json": {
    "state": {},
    "version_major": 2,
    "version_minor": 0
   }
  }
 },
 "nbformat": 4,
 "nbformat_minor": 5
}