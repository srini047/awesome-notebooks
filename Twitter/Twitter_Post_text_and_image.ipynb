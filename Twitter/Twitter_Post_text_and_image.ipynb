{
 "cells": [
  {
   "cell_type": "markdown",
   "id": "experimental-camel",
   "metadata": {
    "papermill": {},
    "tags": []
   },
   "source": [
    "<img width=\"10%\" alt=\"Naas\" src=\"https://landen.imgix.net/jtci2pxwjczr/assets/5ice39g4.png?w=160\"/>\n"
   ]
  },
  {
   "cell_type": "markdown",
   "id": "removed-variation",
   "metadata": {
    "papermill": {},
    "tags": []
   },
   "source": [
    "# Twitter - Post text and image\n",
    "<a href=\"https://app.naas.ai/user-redirect/naas/downloader?url=https://raw.githubusercontent.com/jupyter-naas/awesome-notebooks/master/Twitter/Twitter_Post_text_and_image.ipynb\" target=\"_parent\"><img src=\"https://naasai-public.s3.eu-west-3.amazonaws.com/Open_in_Naas_Lab.svg\"/></a><br><br><a href=\"https://github.com/jupyter-naas/awesome-notebooks/issues/new?assignees=&labels=&template=template-request.md&title=Tool+-+Action+of+the+notebook+\">Template request</a> | <a href=\"https://github.com/jupyter-naas/awesome-notebooks/issues/new?assignees=&labels=bug&template=bug_report.md&title=Twitter+-+Post+text+and+image:+Error+short+description\">Bug report</a> | <a href=\"https://app.naas.ai/user-redirect/naas/downloader?url=https://raw.githubusercontent.com/jupyter-naas/awesome-notebooks/master/Naas/Naas_Start_data_product.ipynb\" target=\"_parent\">Generate Data Product</a>"
   ]
  },
  {
   "cell_type": "markdown",
   "id": "8295f433-f346-4e32-879f-b9322bf2e8d3",
   "metadata": {
    "papermill": {},
    "tags": []
   },
   "source": [
    "**Tags:** #twitter #ifttt #naas_drivers #snippet #content"
   ]
  },
  {
   "cell_type": "markdown",
   "id": "naas-author",
   "metadata": {
    "papermill": {},
    "tags": [
     "naas"
    ]
   },
   "source": [
    "**Author:** [Jeremy Ravenel](https://www.linkedin.com/in/ACoAAAJHE7sB5OxuKHuzguZ9L6lfDHqw--cdnJg/)"
   ]
  },
  {
   "cell_type": "markdown",
   "id": "naas-description",
   "metadata": {
    "papermill": {},
    "tags": [
     "description"
    ]
   },
   "source": [
    "**Description:** This notebook allows users to post text and images to their Twitter account."
   ]
  },
  {
   "cell_type": "markdown",
   "id": "input_cell",
   "metadata": {
    "papermill": {},
    "tags": []
   },
   "source": [
    "## Input"
   ]
  },
  {
   "cell_type": "markdown",
   "id": "import_cell",
   "metadata": {
    "papermill": {},
    "tags": []
   },
   "source": [
    "### Import libraries"
   ]
  },
  {
   "cell_type": "code",
   "execution_count": null,
   "id": "8ce5bf9a-aacd-465a-9613-1cd9b38d8dba",
   "metadata": {
    "papermill": {},
    "tags": []
   },
   "outputs": [],
   "source": [
    "import naas\n",
    "import naas_drivers"
   ]
  },
  {
   "cell_type": "markdown",
   "id": "model_cell",
   "metadata": {
    "papermill": {},
    "tags": []
   },
   "source": [
    "## Model"
   ]
  },
  {
   "cell_type": "markdown",
   "id": "7891dc64-464a-4ec4-af4c-214dd791f355",
   "metadata": {
    "papermill": {},
    "tags": []
   },
   "source": [
    "### Get data from yahoofinance"
   ]
  },
  {
   "cell_type": "code",
   "execution_count": 17,
   "id": "latest-abraham",
   "metadata": {
    "papermill": {},
    "tags": []
   },
   "outputs": [],
   "source": [
    "data = naas_drivers.yahoofinance.get(\"^FCHI\", date_from=-200, moving_averages=[50, 20])"
   ]
  },
  {
   "cell_type": "code",
   "execution_count": 18,
   "id": "challenging-framework",
   "metadata": {
    "papermill": {},
    "tags": []
   },
   "outputs": [],
   "source": [
    "chart = naas_drivers.plotly.stock(data)\n",
    "chart.show()"
   ]
  },
  {
   "cell_type": "code",
   "execution_count": 19,
   "id": "italic-calcium",
   "metadata": {
    "papermill": {},
    "tags": []
   },
   "outputs": [],
   "source": [
    "name = \"chart.png\"\n",
    "naas_drivers.plotly.export(chart, name)"
   ]
  },
  {
   "cell_type": "code",
   "execution_count": 20,
   "id": "lesbian-defeat",
   "metadata": {
    "papermill": {},
    "tags": []
   },
   "outputs": [],
   "source": [
    "url = naas.assets.add(name, params={\"inline\": True})"
   ]
  },
  {
   "cell_type": "markdown",
   "id": "b07c8240-8920-42d0-88e4-3d5e566a5626",
   "metadata": {
    "papermill": {},
    "tags": []
   },
   "source": [
    "### Let's write the post"
   ]
  },
  {
   "cell_type": "code",
   "execution_count": 20,
   "id": "fewer-traveler",
   "metadata": {
    "papermill": {},
    "tags": []
   },
   "outputs": [],
   "source": [
    "twitter_post = \"\"\"📈🚀 Every day at 9AM PST / 6PM CET<br>\n",
    "CAC40 index value with #MovingAverages 20 and 50\n",
    "<br>\n",
    "Don't miss an #opportunity to #invest<br>\n",
    "<br>\n",
    "PS : this post has been generated automatically with https://www.naas.ai/ 😎 \n",
    "#automation #trading #data #analysis @Nasdaq\n",
    "\"\"\"\n",
    "event = \"twitter-post\"\n",
    "key = \"ke4AigvXI5-EABaowdLt4fju1aOUxeMxSXQoN8FVyA\"\n",
    "data = {\"value1\": twitter_post, \"value2\": url}"
   ]
  },
  {
   "cell_type": "markdown",
   "id": "output_cell",
   "metadata": {
    "papermill": {},
    "tags": []
   },
   "source": [
    "## Output"
   ]
  },
  {
   "cell_type": "markdown",
   "id": "display_cell",
   "metadata": {
    "papermill": {},
    "tags": []
   },
   "source": [
    "### Post data"
   ]
  },
  {
   "cell_type": "code",
   "execution_count": 21,
   "id": "ignored-paper",
   "metadata": {
    "papermill": {},
    "tags": []
   },
   "outputs": [],
   "source": [
    "result = naas_drivers.ifttt.webhook(event, key, data)"
   ]
  }
 ],
 "metadata": {
  "kernelspec": {
   "display_name": "Python 3",
   "language": "python",
   "name": "python3"
  },
  "language_info": {
   "codemirror_mode": {
    "name": "ipython",
    "version": 3
   },
   "file_extension": ".py",
   "mimetype": "text/x-python",
   "name": "python",
   "nbconvert_exporter": "python",
   "pygments_lexer": "ipython3",
   "version": "3.9.6"
  },
  "naas": {
   "notebook_id": "dfd78b97b964be28292a8cf054deb633939e1af86deb1831414ef29b59722f8f",
   "notebook_path": "Twitter/Twitter_Post_text_and_image.ipynb"
  },
  "papermill": {
   "default_parameters": {},
   "environment_variables": {},
   "parameters": {},
   "version": "2.3.3"
  }
 },
 "nbformat": 4,
 "nbformat_minor": 5
}