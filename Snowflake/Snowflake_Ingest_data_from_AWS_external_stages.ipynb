{
 "cells": [
  {
   "cell_type": "markdown",
   "id": "69ae8428",
   "metadata": {
    "papermill": {},
    "tags": []
   },
   "source": [
    "<img width=\"10%\" alt=\"Naas\" src=\"https://landen.imgix.net/jtci2pxwjczr/assets/5ice39g4.png?w=160\"/>"
   ]
  },
  {
   "cell_type": "markdown",
   "id": "9cbf2345",
   "metadata": {
    "papermill": {},
    "tags": []
   },
   "source": [
    "# Snowflake - Ingest data from AWS external stages\n",
    "<a href=\"https://app.naas.ai/user-redirect/naas/downloader?url=https://raw.githubusercontent.com/jupyter-naas/awesome-notebooks/master/Snowflake/Snowflake_Ingest_data_from_AWS_external_stages.ipynb\" target=\"_parent\"><img src=\"https://naasai-public.s3.eu-west-3.amazonaws.com/open_in_naas.svg\"/></a><br><br><a href=\"https://github.com/jupyter-naas/awesome-notebooks/issues/new?assignees=&labels=&template=template-request.md&title=Tool+-+Action+of+the+notebook+\">Template request</a> | <a href=\"https://github.com/jupyter-naas/awesome-notebooks/issues/new?assignees=&labels=bug&template=bug_report.md&title=Snowflake+-+Ingest+data+from+AWS+external+stages:+Error+short+description\">Bug report</a>"
   ]
  },
  {
   "cell_type": "markdown",
   "id": "2eace8ee",
   "metadata": {
    "papermill": {},
    "tags": []
   },
   "source": [
    "**Tags:** #snowflake #data #warehouse #naas_drivers #snippet"
   ]
  },
  {
   "cell_type": "markdown",
   "id": "450fa84e",
   "metadata": {
    "papermill": {},
    "tags": []
   },
   "source": [
    "**Author:** [Mateusz Polakowski](https://www.linkedin.com/in/polakowski/)"
   ]
  },
  {
   "cell_type": "markdown",
   "id": "naas-description",
   "metadata": {
    "papermill": {},
    "tags": [
     "description"
    ]
   },
   "source": [
    "**Description:** This notebook demonstrates how to ingest data from AWS external stages into Snowflake."
   ]
  },
  {
   "cell_type": "markdown",
   "id": "54dbe920",
   "metadata": {
    "papermill": {},
    "tags": []
   },
   "source": [
    "## Input"
   ]
  },
  {
   "cell_type": "markdown",
   "id": "3b447b1d",
   "metadata": {
    "papermill": {},
    "tags": []
   },
   "source": [
    "### Import library"
   ]
  },
  {
   "cell_type": "code",
   "execution_count": 1,
   "id": "50fb55cd",
   "metadata": {
    "papermill": {},
    "tags": []
   },
   "outputs": [],
   "source": [
    "import os\n",
    "from naas_drivers import snowflake\n",
    "from snowflake.connector.errors import ProgrammingError"
   ]
  },
  {
   "cell_type": "markdown",
   "id": "c0313520",
   "metadata": {
    "papermill": {},
    "tags": []
   },
   "source": [
    "### Setup Snowflake account\n",
    "\n",
    "If you don't have your SF account, you can easily set up a [30-day trial account with $400 budget here](https://signup.snowflake.com/).\n",
    "\n",
    "To get your Snowflake account ID essential for connecting, please refer to [Account Identifiers in Snowflake documentation](https://docs.snowflake.com/en/user-guide/admin-account-identifier.html). There are several methods to get your account ID, but the overall rule can be found below:\n",
    "\n",
    "```<account_identifier>.snowflakecomputing.com```\n",
    "\n",
    "If you're proceeding with the trial account, it's highly probable that your ID will resemble something like: `xy1234.eu-central-1`."
   ]
  },
  {
   "cell_type": "markdown",
   "id": "93ae1e8c",
   "metadata": {
    "papermill": {},
    "tags": []
   },
   "source": [
    "### Credentials"
   ]
  },
  {
   "cell_type": "code",
   "execution_count": 2,
   "id": "8d16f29d",
   "metadata": {
    "papermill": {},
    "tags": []
   },
   "outputs": [],
   "source": [
    "# Here environment variables are used to pass Snowflake credentials,\n",
    "# but it's okay to do it in a different manner\n",
    "\n",
    "sf_username = os.environ[\"SNOWFLAKE_USER\"]\n",
    "sf_password = os.environ[\"SNOWFLAKE_PASSWORD\"]\n",
    "sf_account = os.environ[\"SNOWFLAKE_ACCOUNT\"]"
   ]
  },
  {
   "cell_type": "markdown",
   "id": "bff86d1d",
   "metadata": {
    "papermill": {},
    "tags": []
   },
   "source": [
    "## Model"
   ]
  },
  {
   "cell_type": "markdown",
   "id": "ab766db4",
   "metadata": {
    "papermill": {},
    "tags": []
   },
   "source": [
    "### Connecting to your Snowflake account"
   ]
  },
  {
   "cell_type": "code",
   "execution_count": 3,
   "id": "662f1131",
   "metadata": {
    "papermill": {},
    "tags": []
   },
   "outputs": [],
   "source": [
    "snowflake.connect(username=sf_username, password=sf_password, account=sf_account)"
   ]
  },
  {
   "cell_type": "markdown",
   "id": "314e6f16",
   "metadata": {
    "papermill": {},
    "tags": []
   },
   "source": [
    "### Environment setup"
   ]
  },
  {
   "cell_type": "code",
   "execution_count": 4,
   "id": "7b9ab5da",
   "metadata": {
    "papermill": {},
    "tags": []
   },
   "outputs": [],
   "source": [
    "snowflake.role.use(\"ACCOUNTADMIN\", silent=True)\n",
    "snowflake.warehouse.use(\"COMPUTE_WH\", silent=True)\n",
    "snowflake.database.create(\"NAAS\", or_replace=True, silent=True)\n",
    "snowflake.database.use(\"NAAS\", silent=True)\n",
    "snowflake.schema.create(\"NAAS_SCHEMA\", or_replace=True, silent=True)\n",
    "snowflake.schema.use(\"NAAS_SCHEMA\", silent=True)"
   ]
  },
  {
   "cell_type": "code",
   "execution_count": 5,
   "id": "7699c4ee",
   "metadata": {
    "papermill": {},
    "tags": []
   },
   "outputs": [],
   "source": [
    "snowflake.get_environment()"
   ]
  },
  {
   "cell_type": "markdown",
   "id": "5508126e",
   "metadata": {
    "papermill": {},
    "tags": []
   },
   "source": [
    "## Output"
   ]
  },
  {
   "cell_type": "markdown",
   "id": "16fed778",
   "metadata": {
    "papermill": {},
    "tags": []
   },
   "source": [
    "### Creating file format"
   ]
  },
  {
   "cell_type": "code",
   "execution_count": 6,
   "id": "33ed8558",
   "metadata": {
    "papermill": {},
    "tags": []
   },
   "outputs": [],
   "source": [
    "results_ff = snowflake.file_format.create(\"my_json_format\", \"JSON\", or_replace=True)\n",
    "\n",
    "results_ff"
   ]
  },
  {
   "cell_type": "markdown",
   "id": "8ddc13e1",
   "metadata": {
    "papermill": {},
    "tags": []
   },
   "source": [
    "### Creating external stage for public data"
   ]
  },
  {
   "cell_type": "code",
   "execution_count": 7,
   "id": "02e7099d",
   "metadata": {
    "papermill": {},
    "tags": []
   },
   "outputs": [],
   "source": [
    "snowflake.stage.create(\n",
    "    stage_name=\"external_aws_stage_public\",\n",
    "    or_replace=True,\n",
    "    file_format_name=\"my_json_format\",\n",
    "    url=\"'s3://amazon-reviews-ml/json/dev/dataset_en_dev.json'\",\n",
    ")"
   ]
  },
  {
   "cell_type": "markdown",
   "id": "d42baf4d",
   "metadata": {
    "papermill": {},
    "tags": []
   },
   "source": [
    "### Creating a table"
   ]
  },
  {
   "cell_type": "code",
   "execution_count": 8,
   "id": "c32d2138",
   "metadata": {
    "papermill": {},
    "tags": []
   },
   "outputs": [],
   "source": [
    "query_create_table = \"\"\"\n",
    "    CREATE OR REPLACE TABLE reviews_dev_public (\n",
    "      language VARCHAR\n",
    "      , product_category VARCHAR\n",
    "      , product_id VARCHAR\n",
    "      , review_body VARCHAR\n",
    "      , review_id VARCHAR\n",
    "      , review_title VARCHAR\n",
    "      , reviewer_id VARCHAR\n",
    "      , stars INT\n",
    "    );\n",
    "\"\"\"\n",
    "\n",
    "# No worries, Table API will be available soon too!\n",
    "snowflake.execute(query_create_table)[\"results\"]"
   ]
  },
  {
   "cell_type": "markdown",
   "id": "e0982a34",
   "metadata": {
    "papermill": {},
    "tags": []
   },
   "source": [
    "### Loading data from public external stage to a table\n",
    "\n",
    "As we're loading data in JSON format, transformations are required to not put everything into a single VARIANT type column (for more, [see the documentation](https://docs.snowflake.com/en/sql-reference/data-types-semistructured.html))."
   ]
  },
  {
   "cell_type": "code",
   "execution_count": 9,
   "id": "bc05d865",
   "metadata": {
    "papermill": {},
    "tags": []
   },
   "outputs": [],
   "source": [
    "transformation_statement = \"\"\"\n",
    "    SELECT\n",
    "        $1:language::varchar AS language\n",
    "        , $1:product_category::varchar AS product_category\n",
    "        , $1:product_id::varchar AS product_id\n",
    "        , $1:review_body::varchar AS review_body\n",
    "        , $1:review_id::varchar AS review_id\n",
    "        , $1:review_title::varchar AS review_title\n",
    "        , $1:reviewer_id::varchar AS reviewer_id\n",
    "        , $1:stars::int AS stars\n",
    "    FROM @external_aws_stage_public\n",
    "\"\"\"\n",
    "\n",
    "snowflake.copy_into(\n",
    "    table_name=\"reviews_dev_public\", source_stage=transformation_statement, silent=True\n",
    ")"
   ]
  },
  {
   "cell_type": "markdown",
   "id": "f42e6e12",
   "metadata": {
    "papermill": {},
    "tags": []
   },
   "source": [
    "### Data querying straight to Pandas DataFrame"
   ]
  },
  {
   "cell_type": "code",
   "execution_count": 10,
   "id": "22edf2e2",
   "metadata": {
    "papermill": {},
    "tags": []
   },
   "outputs": [],
   "source": [
    "reviews_dev_public = snowflake.query_pd(\"SELECT * FROM reviews_dev_public\")\n",
    "reviews_dev_public.head()"
   ]
  },
  {
   "cell_type": "markdown",
   "id": "0a6bb68d",
   "metadata": {
    "papermill": {},
    "tags": []
   },
   "source": [
    "---\n",
    "\n",
    "### Creating storage integration for AWS S3 bucket connection with Snowflake\n",
    "\n",
    "For more about connecting your private cloud storage with Snowflake see below documentation pages:\n",
    "\n",
    "- [Loading data to Snowflake from AWS S3](https://docs.snowflake.com/en/user-guide/data-load-s3.html)\n",
    "- [Loading data to Snowflake from Google Cloud Storage](https://docs.snowflake.com/en/user-guide/data-load-gcs.html)\n",
    "- [Loading data to Snowflake from Azure](https://docs.snowflake.com/en/user-guide/data-load-azure.html)\n",
    "- [External stage create command - necessary parameters](https://docs.snowflake.com/en/sql-reference/sql/create-stage.html#external-stage-parameters-externalstageparams)\n",
    "\n",
    "Bear in mind that **only users with ACCOUNTADMIN role** selected can create storage integration objects.\n",
    "\n",
    "Below cells follow `Option 1` from the [list of available approaches](https://docs.snowflake.com/en/user-guide/data-load-s3-config.html). It's highly recommended to do it this way, thus let's follow the advice.\n",
    "\n",
    "Some of the parameters are dummy, for security reasons, although cells were executed with proper values. If you follow the instructions in Snowflake documentation, you shouldn't have any issues modifying them."
   ]
  },
  {
   "cell_type": "code",
   "execution_count": 11,
   "id": "222d3b8a",
   "metadata": {
    "papermill": {},
    "tags": []
   },
   "outputs": [],
   "source": [
    "snowflake.storage_integration.create(\n",
    "    storage_integration_name=\"storage_integration_aws_naas_sf_data\",\n",
    "    storage_provider=\"S3\",\n",
    "    storage_allowed_locations=[\"s3://naas-snowflake-data/\"],\n",
    "    STORAGE_AWS_ROLE_ARN=\"'arn:aws:iam::112233445566:role/NaasDummyRole'\",\n",
    "    or_replace=True,\n",
    "    silent=True,\n",
    ")"
   ]
  },
  {
   "cell_type": "markdown",
   "id": "573c5578",
   "metadata": {
    "papermill": {},
    "tags": []
   },
   "source": [
    "### Setting up proper IAM access\n",
    "\n",
    "Policy code is taken directly from [Snowflake documentation](https://docs.snowflake.com/en/user-guide/data-load-s3-config-storage-integration.html)."
   ]
  },
  {
   "cell_type": "code",
   "execution_count": 13,
   "id": "dbb1c9f0",
   "metadata": {
    "papermill": {},
    "tags": []
   },
   "outputs": [],
   "source": [
    "import pandas as pd\n",
    "\n",
    "pd.set_option(\"display.max_colwidth\", None)  # useful to copy-paste parameters\n",
    "\n",
    "# Remove `head()` to see all necessary values\n",
    "snowflake.query_pd(\"DESC INTEGRATION storage_integration_aws_naas_sf_data;\").iloc[\n",
    "    :, [0, 2]\n",
    "].head(2)"
   ]
  },
  {
   "cell_type": "markdown",
   "id": "005ce547",
   "metadata": {
    "papermill": {},
    "tags": []
   },
   "source": [
    "According to values returned by storage integration description, please go to AWS console and alter your IAM Role's Trust Policy.\n",
    "\n",
    "When this is done, you can proceed forward."
   ]
  },
  {
   "cell_type": "markdown",
   "id": "8c1e807b",
   "metadata": {
    "papermill": {},
    "tags": []
   },
   "source": [
    "### Creating external stage for private data"
   ]
  },
  {
   "cell_type": "code",
   "execution_count": 14,
   "id": "dd3b94d9",
   "metadata": {
    "papermill": {},
    "tags": []
   },
   "outputs": [],
   "source": [
    "snowflake.stage.create(\n",
    "    stage_name=\"external_aws_stage_private\",\n",
    "    STORAGE_INTEGRATION=\"storage_integration_aws_naas_sf_data\",\n",
    "    url=\"'s3://naas-snowflake-data/'\",\n",
    "    file_format_name=\"my_json_format\",\n",
    "    or_replace=True,\n",
    ")"
   ]
  },
  {
   "cell_type": "markdown",
   "id": "c18ebe8a",
   "metadata": {
    "papermill": {},
    "tags": []
   },
   "source": [
    "### Listing external stage objects"
   ]
  },
  {
   "cell_type": "code",
   "execution_count": 15,
   "id": "5144c67a",
   "metadata": {
    "papermill": {},
    "tags": []
   },
   "outputs": [],
   "source": [
    "snowflake.query_pd(\"LIST @external_aws_stage_private\")"
   ]
  },
  {
   "cell_type": "markdown",
   "id": "e25015be",
   "metadata": {
    "papermill": {},
    "tags": []
   },
   "source": [
    "### Creating a table"
   ]
  },
  {
   "cell_type": "code",
   "execution_count": 16,
   "id": "7a43deaf",
   "metadata": {
    "papermill": {},
    "tags": []
   },
   "outputs": [],
   "source": [
    "query_create_table = \"\"\"\n",
    "    CREATE OR REPLACE TABLE reviews_dev_private (\n",
    "      language VARCHAR\n",
    "      , product_category VARCHAR\n",
    "      , product_id VARCHAR\n",
    "      , review_body VARCHAR\n",
    "      , review_id VARCHAR\n",
    "      , review_title VARCHAR\n",
    "      , reviewer_id VARCHAR\n",
    "      , stars INT\n",
    "    );\n",
    "\"\"\"\n",
    "\n",
    "snowflake.execute(query_create_table)[\"results\"]"
   ]
  },
  {
   "cell_type": "markdown",
   "id": "ffd7dca3",
   "metadata": {
    "papermill": {},
    "tags": []
   },
   "source": [
    "### Loading data from private external stage to a table"
   ]
  },
  {
   "cell_type": "code",
   "execution_count": 17,
   "id": "5563162c",
   "metadata": {
    "papermill": {},
    "tags": []
   },
   "outputs": [],
   "source": [
    "transformation_statement = \"\"\"\n",
    "    SELECT\n",
    "        $1:language::varchar AS language\n",
    "        , $1:product_category::varchar AS product_category\n",
    "        , $1:product_id::varchar AS product_id\n",
    "        , $1:review_body::varchar AS review_body\n",
    "        , $1:review_id::varchar AS review_id\n",
    "        , $1:review_title::varchar AS review_title\n",
    "        , $1:reviewer_id::varchar AS reviewer_id\n",
    "        , $1:stars::int AS stars\n",
    "    FROM @external_aws_stage_private\n",
    "\"\"\"\n",
    "\n",
    "snowflake.copy_into(\n",
    "    table_name=\"reviews_dev_private\", source_stage=transformation_statement, silent=True\n",
    ")"
   ]
  },
  {
   "cell_type": "markdown",
   "id": "26377523",
   "metadata": {
    "papermill": {},
    "tags": []
   },
   "source": [
    "### Querying data straight to Pandas DataFrame"
   ]
  },
  {
   "cell_type": "code",
   "execution_count": 18,
   "id": "869ebfb7",
   "metadata": {
    "papermill": {},
    "tags": []
   },
   "outputs": [],
   "source": [
    "pd.set_option(\"display.max_colwidth\", 100)\n",
    "reviews_dev_public = snowflake.query_pd(\"SELECT * FROM reviews_dev_private\")\n",
    "reviews_dev_public.head()"
   ]
  },
  {
   "cell_type": "markdown",
   "id": "67ff1643",
   "metadata": {
    "papermill": {},
    "tags": []
   },
   "source": [
    "### Dropping storage integration"
   ]
  },
  {
   "cell_type": "code",
   "execution_count": 19,
   "id": "12758573",
   "metadata": {
    "papermill": {},
    "tags": []
   },
   "outputs": [],
   "source": [
    "snowflake.storage_integration.drop(\"storage_integration_aws_naas_sf_data\")"
   ]
  }
 ],
 "metadata": {
  "kernelspec": {
   "display_name": "Python 3 (ipykernel)",
   "language": "python",
   "name": "python3"
  },
  "language_info": {
   "codemirror_mode": {
    "name": "ipython",
    "version": 3
   },
   "file_extension": ".py",
   "mimetype": "text/x-python",
   "name": "python",
   "nbconvert_exporter": "python",
   "pygments_lexer": "ipython3",
   "version": "3.8.10"
  },
  "papermill": {
   "default_parameters": {},
   "environment_variables": {},
   "parameters": {},
   "version": "2.4.0"
  }
 },
 "nbformat": 4,
 "nbformat_minor": 5
}