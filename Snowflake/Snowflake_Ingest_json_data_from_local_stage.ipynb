{
 "cells": [
  {
   "cell_type": "markdown",
   "id": "e2eb0bc6",
   "metadata": {
    "papermill": {},
    "tags": []
   },
   "source": [
    "<img width=\"10%\" alt=\"Naas\" src=\"https://landen.imgix.net/jtci2pxwjczr/assets/5ice39g4.png?w=160\"/>"
   ]
  },
  {
   "cell_type": "markdown",
   "id": "0f84859b",
   "metadata": {
    "papermill": {},
    "tags": []
   },
   "source": [
    "# Snowflake - Ingest json data from local stage\n",
    "<a href=\"https://app.naas.ai/user-redirect/naas/downloader?url=https://raw.githubusercontent.com/jupyter-naas/awesome-notebooks/master/Snowflake/Snowflake_Ingest_json_data_from_local_stage.ipynb\" target=\"_parent\"><img src=\"https://naasai-public.s3.eu-west-3.amazonaws.com/open_in_naas.svg\"/></a><br><br><a href=\"https://github.com/jupyter-naas/awesome-notebooks/issues/new?assignees=&labels=&template=template-request.md&title=Tool+-+Action+of+the+notebook+\">Template request</a> | <a href=\"https://github.com/jupyter-naas/awesome-notebooks/issues/new?assignees=&labels=bug&template=bug_report.md&title=Snowflake+-+Ingest+json+data+from+local+stage:+Error+short+description\">Bug report</a>"
   ]
  },
  {
   "cell_type": "markdown",
   "id": "92464720",
   "metadata": {
    "papermill": {},
    "tags": []
   },
   "source": [
    "**Tags:** #snowflake #data #warehouse #naas_drivers #snippet"
   ]
  },
  {
   "cell_type": "markdown",
   "id": "fb1d01f0",
   "metadata": {
    "papermill": {},
    "tags": []
   },
   "source": [
    "**Author:** [Mateusz Polakowski](https://www.linkedin.com/in/polakowski/)"
   ]
  },
  {
   "cell_type": "markdown",
   "id": "naas-description",
   "metadata": {
    "papermill": {},
    "tags": [
     "description"
    ]
   },
   "source": [
    "**Description:** This notebook demonstrates how to ingest JSON data from a local stage into Snowflake."
   ]
  },
  {
   "cell_type": "markdown",
   "id": "4a935b0c",
   "metadata": {
    "papermill": {},
    "tags": []
   },
   "source": [
    "## Input"
   ]
  },
  {
   "cell_type": "markdown",
   "id": "8f79c07f",
   "metadata": {
    "papermill": {},
    "tags": []
   },
   "source": [
    "### Import library"
   ]
  },
  {
   "cell_type": "code",
   "execution_count": 1,
   "id": "8b02bf9b",
   "metadata": {
    "papermill": {},
    "tags": []
   },
   "outputs": [],
   "source": [
    "import os\n",
    "from naas_drivers import snowflake\n",
    "from snowflake.connector.errors import ProgrammingError"
   ]
  },
  {
   "cell_type": "markdown",
   "id": "bdac85b5",
   "metadata": {
    "papermill": {},
    "tags": []
   },
   "source": [
    "### Setup Snowflake account\n",
    "\n",
    "If you don't have your SF account, you can easily set up a [30-day trial account with $400 budget here](https://signup.snowflake.com/).\n",
    "\n",
    "To get your Snowflake account ID essential for connecting, please refer to [Account Identifiers in Snowflake documentation](https://docs.snowflake.com/en/user-guide/admin-account-identifier.html). There are several methods to get your account ID, but the overall rule can be found below:\n",
    "\n",
    "```<account_identifier>.snowflakecomputing.com```\n",
    "\n",
    "If you're proceeding with the trial account, it's highly probable that your ID will resemble something like: `xy1234.eu-central-1`."
   ]
  },
  {
   "cell_type": "markdown",
   "id": "ae5fb4eb",
   "metadata": {
    "papermill": {},
    "tags": []
   },
   "source": [
    "### Credentials"
   ]
  },
  {
   "cell_type": "code",
   "execution_count": 2,
   "id": "c0ced68e",
   "metadata": {
    "papermill": {},
    "tags": []
   },
   "outputs": [],
   "source": [
    "# Here environment variables are used to pass Snowflake credentials,\n",
    "# but it's okay to do it in a different manner\n",
    "\n",
    "sf_username = os.environ[\"SNOWFLAKE_USER\"]\n",
    "sf_password = os.environ[\"SNOWFLAKE_PASSWORD\"]\n",
    "sf_account = os.environ[\"SNOWFLAKE_ACCOUNT\"]"
   ]
  },
  {
   "cell_type": "markdown",
   "id": "05a1d279",
   "metadata": {
    "papermill": {},
    "tags": []
   },
   "source": [
    "## Model"
   ]
  },
  {
   "cell_type": "markdown",
   "id": "e1f57829",
   "metadata": {
    "papermill": {},
    "tags": []
   },
   "source": [
    "### Connecting to your Snowflake account"
   ]
  },
  {
   "cell_type": "code",
   "execution_count": 3,
   "id": "baccbd29",
   "metadata": {
    "papermill": {},
    "tags": []
   },
   "outputs": [],
   "source": [
    "snowflake.connect(username=sf_username, password=sf_password, account=sf_account)"
   ]
  },
  {
   "cell_type": "markdown",
   "id": "5b2f824a",
   "metadata": {
    "papermill": {},
    "tags": []
   },
   "source": [
    "### Environment setup"
   ]
  },
  {
   "cell_type": "code",
   "execution_count": 4,
   "id": "c93d0bbc",
   "metadata": {
    "papermill": {},
    "tags": []
   },
   "outputs": [],
   "source": [
    "snowflake.database.get_current() is None"
   ]
  },
  {
   "cell_type": "code",
   "execution_count": 5,
   "id": "6d704242",
   "metadata": {
    "papermill": {},
    "tags": []
   },
   "outputs": [],
   "source": [
    "snowflake.set_environment(warehouse=\"COMPUTE_WH\", role=\"ACCOUNTADMIN\")"
   ]
  },
  {
   "cell_type": "code",
   "execution_count": 6,
   "id": "0642988f",
   "metadata": {
    "papermill": {},
    "tags": []
   },
   "outputs": [],
   "source": [
    "snowflake.database.create(\"NAAS\", or_replace=True, silent=True)\n",
    "snowflake.database.use(\"NAAS\", silent=True)\n",
    "snowflake.schema.create(\"NAAS_SCHEMA\", or_replace=True, silent=True)\n",
    "snowflake.schema.use(\"NAAS_SCHEMA\", silent=True)"
   ]
  },
  {
   "cell_type": "code",
   "execution_count": 7,
   "id": "bfc2912b",
   "metadata": {
    "papermill": {},
    "tags": []
   },
   "outputs": [],
   "source": [
    "snowflake.get_environment()"
   ]
  },
  {
   "cell_type": "markdown",
   "id": "8a0b0cff",
   "metadata": {
    "papermill": {},
    "tags": []
   },
   "source": [
    "## Output"
   ]
  },
  {
   "cell_type": "markdown",
   "id": "602d7090",
   "metadata": {
    "papermill": {},
    "tags": []
   },
   "source": [
    "### Creating file format"
   ]
  },
  {
   "cell_type": "code",
   "execution_count": 8,
   "id": "0249e5bf",
   "metadata": {
    "papermill": {},
    "tags": []
   },
   "outputs": [],
   "source": [
    "# It's possible to add extra parameters to the function\n",
    "# They will be passed as additional variables at the end of the query statement\n",
    "results_ff = snowflake.file_format.create(\n",
    "    \"my_json_format\", \"JSON\", or_replace=True, TRIM_SPACE=\"TRUE\"\n",
    ")\n",
    "\n",
    "results_ff"
   ]
  },
  {
   "cell_type": "code",
   "execution_count": 9,
   "id": "57a66055",
   "metadata": {
    "papermill": {},
    "tags": []
   },
   "outputs": [],
   "source": [
    "# Let's not forget about `snowflake.execute` functionality\n",
    "snowflake.execute(\"SHOW FILE FORMATS;\")[\"results\"]"
   ]
  },
  {
   "cell_type": "markdown",
   "id": "4c0a3dee",
   "metadata": {
    "papermill": {},
    "tags": []
   },
   "source": [
    "### Creating file format with wrong parameter (not applicable for JSON file format, see [docs](https://docs.snowflake.com/en/sql-reference/sql/create-file-format.html))"
   ]
  },
  {
   "cell_type": "code",
   "execution_count": 10,
   "id": "1a0cead6",
   "metadata": {
    "papermill": {},
    "tags": []
   },
   "outputs": [],
   "source": [
    "try:\n",
    "    snowflake.file_format.create(\n",
    "        \"my_invalid_son_format\", \"JSON\", or_replace=True, ESCAPE='\"\\\\\"'\n",
    "    )\n",
    "except ProgrammingError as pe:\n",
    "    print(\"Something went wrong!\")\n",
    "    print(pe)"
   ]
  },
  {
   "cell_type": "markdown",
   "id": "b0d9b4f8",
   "metadata": {
    "papermill": {},
    "tags": []
   },
   "source": [
    "### Dropping file format"
   ]
  },
  {
   "cell_type": "code",
   "execution_count": 11,
   "id": "29345bfa",
   "metadata": {
    "papermill": {},
    "tags": []
   },
   "outputs": [],
   "source": [
    "# snowflake.file_format.drop('my_json_format', if_exists=True)"
   ]
  },
  {
   "cell_type": "markdown",
   "id": "c4d6251e",
   "metadata": {
    "papermill": {},
    "tags": []
   },
   "source": [
    "### Creating internal stage"
   ]
  },
  {
   "cell_type": "code",
   "execution_count": 12,
   "id": "90e0d129",
   "metadata": {
    "papermill": {},
    "tags": []
   },
   "outputs": [],
   "source": [
    "snowflake.stage.create(\n",
    "    stage_name=\"my_internal_stage\", or_replace=True, file_format_name=\"my_json_format\"\n",
    ")"
   ]
  },
  {
   "cell_type": "markdown",
   "id": "74762751",
   "metadata": {
    "papermill": {},
    "tags": []
   },
   "source": [
    "### Putting data on the stage"
   ]
  },
  {
   "cell_type": "code",
   "execution_count": 13,
   "id": "78fcec1a",
   "metadata": {
    "papermill": {},
    "tags": []
   },
   "outputs": [],
   "source": [
    "snowflake.stage.put(\n",
    "    filepath=\"file://~/Downloads/reviews_data.json\",\n",
    "    internal_stage_name=\"@my_internal_stage\",\n",
    "    silent=True,\n",
    ")"
   ]
  },
  {
   "cell_type": "markdown",
   "id": "83870d63",
   "metadata": {
    "papermill": {},
    "tags": []
   },
   "source": [
    "### Listing files inside stage"
   ]
  },
  {
   "cell_type": "code",
   "execution_count": 14,
   "id": "e85e80c6",
   "metadata": {
    "papermill": {},
    "tags": []
   },
   "outputs": [],
   "source": [
    "result_list_stage = snowflake.stage.list(\"@my_internal_stage\")\n",
    "\n",
    "print(result_list_stage[\"results\"])\n",
    "print(result_list_stage[\"statement\"])"
   ]
  },
  {
   "cell_type": "markdown",
   "id": "96ee2542",
   "metadata": {
    "papermill": {},
    "tags": []
   },
   "source": [
    "### Creating table with query execution"
   ]
  },
  {
   "cell_type": "code",
   "execution_count": 15,
   "id": "4e6e0da2",
   "metadata": {
    "papermill": {},
    "tags": []
   },
   "outputs": [],
   "source": [
    "query_create_table = \"\"\"\n",
    "    CREATE OR REPLACE TABLE reviews_dev (\n",
    "      language VARCHAR\n",
    "      , product_category VARCHAR\n",
    "      , product_id VARCHAR\n",
    "      , review_body VARCHAR\n",
    "      , review_id VARCHAR\n",
    "      , review_title VARCHAR\n",
    "      , reviewer_id VARCHAR\n",
    "      , stars INT\n",
    "    );\n",
    "\"\"\"\n",
    "\n",
    "# No worries, Table API will be available soon too!\n",
    "snowflake.execute(query_create_table)[\"results\"]"
   ]
  },
  {
   "cell_type": "markdown",
   "id": "4beeeceb",
   "metadata": {
    "papermill": {},
    "tags": []
   },
   "source": [
    "### Loading data from internal stage to a table\n",
    "\n",
    "As we're loading data in JSON format, transformations are required to not put everything into a single VARIANT type column (for more, [see the documentation](https://docs.snowflake.com/en/sql-reference/data-types-semistructured.html))."
   ]
  },
  {
   "cell_type": "code",
   "execution_count": 16,
   "id": "7337af96",
   "metadata": {
    "papermill": {},
    "tags": []
   },
   "outputs": [],
   "source": [
    "transformation_statement = \"\"\"\n",
    "    SELECT\n",
    "        $1:language::varchar AS language\n",
    "        , $1:product_category::varchar AS product_category\n",
    "        , $1:product_id::varchar AS product_id\n",
    "        , $1:review_body::varchar AS review_body\n",
    "        , $1:review_id::varchar AS review_id\n",
    "        , $1:review_title::varchar AS review_title\n",
    "        , $1:reviewer_id::varchar AS reviewer_id\n",
    "        , $1:stars::int AS stars\n",
    "    FROM @my_internal_stage\n",
    "\"\"\"\n",
    "\n",
    "snowflake.copy_into(\n",
    "    table_name=\"reviews_dev\", source_stage=transformation_statement, silent=True\n",
    ")"
   ]
  },
  {
   "cell_type": "markdown",
   "id": "524c54c8",
   "metadata": {
    "papermill": {},
    "tags": []
   },
   "source": [
    "### Data querying straight to Pandas DataFrame"
   ]
  },
  {
   "cell_type": "code",
   "execution_count": 17,
   "id": "2a951d0e",
   "metadata": {
    "papermill": {},
    "tags": []
   },
   "outputs": [],
   "source": [
    "reviews_dev = snowflake.query_pd(\"SELECT * FROM reviews_dev\")\n",
    "reviews_dev.head()"
   ]
  }
 ],
 "metadata": {
  "kernelspec": {
   "display_name": "Python 3 (ipykernel)",
   "language": "python",
   "name": "python3"
  },
  "language_info": {
   "codemirror_mode": {
    "name": "ipython",
    "version": 3
   },
   "file_extension": ".py",
   "mimetype": "text/x-python",
   "name": "python",
   "nbconvert_exporter": "python",
   "pygments_lexer": "ipython3",
   "version": "3.8.10"
  },
  "papermill": {
   "default_parameters": {},
   "environment_variables": {},
   "parameters": {},
   "version": "2.4.0"
  }
 },
 "nbformat": 4,
 "nbformat_minor": 5
}