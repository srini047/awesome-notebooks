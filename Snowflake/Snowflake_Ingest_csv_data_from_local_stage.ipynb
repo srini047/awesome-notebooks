{
 "cells": [
  {
   "cell_type": "markdown",
   "id": "cbd18c20",
   "metadata": {
    "papermill": {},
    "tags": []
   },
   "source": [
    "<img width=\"10%\" alt=\"Naas\" src=\"https://landen.imgix.net/jtci2pxwjczr/assets/5ice39g4.png?w=160\"/>"
   ]
  },
  {
   "cell_type": "markdown",
   "id": "a13fb93f",
   "metadata": {
    "papermill": {},
    "tags": []
   },
   "source": [
    "# Snowflake - Ingest csv data from local stage\n",
    "<a href=\"https://app.naas.ai/user-redirect/naas/downloader?url=https://raw.githubusercontent.com/jupyter-naas/awesome-notebooks/master/Snowflake/Snowflake_Ingest_csv_data_from_local_stage.ipynb\" target=\"_parent\"><img src=\"https://naasai-public.s3.eu-west-3.amazonaws.com/open_in_naas.svg\"/></a><br><br><a href=\"https://github.com/jupyter-naas/awesome-notebooks/issues/new?assignees=&labels=&template=template-request.md&title=Tool+-+Action+of+the+notebook+\">Template request</a> | <a href=\"https://github.com/jupyter-naas/awesome-notebooks/issues/new?assignees=&labels=bug&template=bug_report.md&title=Snowflake+-+Ingest+csv+data+from+local+stage:+Error+short+description\">Bug report</a>"
   ]
  },
  {
   "cell_type": "markdown",
   "id": "f00d82f8",
   "metadata": {
    "papermill": {},
    "tags": []
   },
   "source": [
    "**Tags:** #snowflake #data #warehouse #naas_drivers #snippet"
   ]
  },
  {
   "cell_type": "markdown",
   "id": "df733fab",
   "metadata": {
    "papermill": {},
    "tags": []
   },
   "source": [
    "**Author:** [Mateusz Polakowski](https://www.linkedin.com/in/polakowski/)"
   ]
  },
  {
   "cell_type": "markdown",
   "id": "naas-description",
   "metadata": {
    "papermill": {},
    "tags": [
     "description"
    ]
   },
   "source": [
    "**Description:** This notebook demonstrates how to ingest CSV data from a local stage into Snowflake."
   ]
  },
  {
   "cell_type": "markdown",
   "id": "8d50bfc3",
   "metadata": {
    "papermill": {},
    "tags": []
   },
   "source": [
    "## Input"
   ]
  },
  {
   "cell_type": "markdown",
   "id": "895f4676",
   "metadata": {
    "papermill": {},
    "tags": []
   },
   "source": [
    "### Import library"
   ]
  },
  {
   "cell_type": "code",
   "execution_count": 1,
   "id": "3819f8b3",
   "metadata": {
    "papermill": {},
    "tags": []
   },
   "outputs": [],
   "source": [
    "import os\n",
    "from naas_drivers import snowflake\n",
    "from snowflake.connector.errors import ProgrammingError"
   ]
  },
  {
   "cell_type": "markdown",
   "id": "80a612e0",
   "metadata": {
    "papermill": {},
    "tags": []
   },
   "source": [
    "### Setup Snowflake account\n",
    "\n",
    "If you don't have your SF account, you can easily set up a [30-day trial account with $400 budget here](https://signup.snowflake.com/).\n",
    "\n",
    "To get your Snowflake account ID essential for connecting, please refer to [Account Identifiers in Snowflake documentation](https://docs.snowflake.com/en/user-guide/admin-account-identifier.html). There are several methods to get your account ID, but the overall rule can be found below:\n",
    "\n",
    "```<account_identifier>.snowflakecomputing.com```\n",
    "\n",
    "If you're proceeding with the trial account, it's highly probable that your ID will resemble something like: `xy1234.eu-central-1`."
   ]
  },
  {
   "cell_type": "markdown",
   "id": "ade01544",
   "metadata": {
    "papermill": {},
    "tags": []
   },
   "source": [
    "### Credentials"
   ]
  },
  {
   "cell_type": "code",
   "execution_count": 2,
   "id": "8fc32c40",
   "metadata": {
    "papermill": {},
    "tags": []
   },
   "outputs": [],
   "source": [
    "# Here environment variables are used to pass Snowflake credentials,\n",
    "# but it's okay to do it in a different manner\n",
    "\n",
    "sf_username = os.environ[\"SNOWFLAKE_USER\"]\n",
    "sf_password = os.environ[\"SNOWFLAKE_PASSWORD\"]\n",
    "sf_account = os.environ[\"SNOWFLAKE_ACCOUNT\"]"
   ]
  },
  {
   "cell_type": "markdown",
   "id": "7e406f93",
   "metadata": {
    "papermill": {},
    "tags": []
   },
   "source": [
    "## Model"
   ]
  },
  {
   "cell_type": "markdown",
   "id": "b2f0a9f0",
   "metadata": {
    "papermill": {},
    "tags": []
   },
   "source": [
    "### Connecting to your Snowflake account"
   ]
  },
  {
   "cell_type": "code",
   "execution_count": 3,
   "id": "69ef40cb",
   "metadata": {
    "papermill": {},
    "tags": []
   },
   "outputs": [],
   "source": [
    "snowflake.connect(username=sf_username, password=sf_password, account=sf_account)"
   ]
  },
  {
   "cell_type": "markdown",
   "id": "71a0c9f2",
   "metadata": {
    "papermill": {},
    "tags": []
   },
   "source": [
    "### Environment setup"
   ]
  },
  {
   "cell_type": "code",
   "execution_count": 4,
   "id": "cbb731a5",
   "metadata": {
    "papermill": {},
    "tags": []
   },
   "outputs": [],
   "source": [
    "snowflake.database.get_current() is None"
   ]
  },
  {
   "cell_type": "code",
   "execution_count": 5,
   "id": "2f23c7d8",
   "metadata": {
    "papermill": {},
    "tags": []
   },
   "outputs": [],
   "source": [
    "snowflake.warehouse.use(\"COMPUTE_WH\")"
   ]
  },
  {
   "cell_type": "code",
   "execution_count": 6,
   "id": "3c89004a",
   "metadata": {
    "papermill": {},
    "tags": []
   },
   "outputs": [],
   "source": [
    "snowflake.role.use(\"ACCOUNTADMIN\")"
   ]
  },
  {
   "cell_type": "code",
   "execution_count": 7,
   "id": "e8232079",
   "metadata": {
    "papermill": {},
    "tags": []
   },
   "outputs": [],
   "source": [
    "snowflake.database.create(\"NAAS\", or_replace=True, silent=True)\n",
    "snowflake.database.use(\"NAAS\", silent=True)\n",
    "snowflake.schema.create(\"NAAS_SCHEMA\", or_replace=True, silent=True)\n",
    "snowflake.schema.use(\"NAAS_SCHEMA\", silent=True)"
   ]
  },
  {
   "cell_type": "code",
   "execution_count": 8,
   "id": "ee506263",
   "metadata": {
    "papermill": {},
    "tags": []
   },
   "outputs": [],
   "source": [
    "snowflake.get_environment()"
   ]
  },
  {
   "cell_type": "markdown",
   "id": "2dfa4099",
   "metadata": {
    "papermill": {},
    "tags": []
   },
   "source": [
    "## Output"
   ]
  },
  {
   "cell_type": "markdown",
   "id": "c5947ea5",
   "metadata": {
    "papermill": {},
    "tags": []
   },
   "source": [
    "### Creating file format"
   ]
  },
  {
   "cell_type": "code",
   "execution_count": 9,
   "id": "fcfa6f05",
   "metadata": {
    "papermill": {},
    "tags": []
   },
   "outputs": [],
   "source": [
    "results_ff = snowflake.file_format.create(\n",
    "    \"my_csv_format\", \"CSV\", or_replace=True, FIELD_DELIMITER=\"','\", SKIP_HEADER=1\n",
    ")\n",
    "\n",
    "results_ff"
   ]
  },
  {
   "cell_type": "markdown",
   "id": "dfe2fa0c",
   "metadata": {
    "papermill": {},
    "tags": []
   },
   "source": [
    "### Creating file format with wrong parameter (not applicable for JSON file format, see [docs](https://docs.snowflake.com/en/sql-reference/sql/create-file-format.html))"
   ]
  },
  {
   "cell_type": "code",
   "execution_count": 10,
   "id": "fa2e9b15",
   "metadata": {
    "papermill": {},
    "tags": []
   },
   "outputs": [],
   "source": [
    "try:\n",
    "    snowflake.file_format.create(\n",
    "        \"my_invalid_csv_format\", \"CSV\", or_replace=True, ENABLE_OCTAL=\"TRUE\"\n",
    "    )\n",
    "except ProgrammingError as pe:\n",
    "    print(\"Something went wrong!\")\n",
    "    print(pe)"
   ]
  },
  {
   "cell_type": "markdown",
   "id": "4745ea8b",
   "metadata": {
    "papermill": {},
    "tags": []
   },
   "source": [
    "### Dropping file format"
   ]
  },
  {
   "cell_type": "code",
   "execution_count": 11,
   "id": "b08acce7",
   "metadata": {
    "papermill": {},
    "tags": []
   },
   "outputs": [],
   "source": [
    "# snowflake.file_format.drop('my_csv_format', if_exists=True)"
   ]
  },
  {
   "cell_type": "markdown",
   "id": "1831adb6",
   "metadata": {
    "papermill": {},
    "tags": []
   },
   "source": [
    "### Creating internal stage"
   ]
  },
  {
   "cell_type": "code",
   "execution_count": 12,
   "id": "696e5447",
   "metadata": {
    "papermill": {},
    "tags": []
   },
   "outputs": [],
   "source": [
    "snowflake.stage.create(\n",
    "    stage_name=\"my_internal_stage\", or_replace=True, file_format_name=\"my_csv_format\"\n",
    ")"
   ]
  },
  {
   "cell_type": "markdown",
   "id": "117828e4",
   "metadata": {
    "papermill": {},
    "tags": []
   },
   "source": [
    "### Putting data on the stage"
   ]
  },
  {
   "cell_type": "code",
   "execution_count": 13,
   "id": "84bac64d",
   "metadata": {
    "papermill": {},
    "tags": []
   },
   "outputs": [],
   "source": [
    "snowflake.stage.put(\n",
    "    filepath=\"file://~/Downloads/sales_data.csv\",\n",
    "    internal_stage_name=\"@my_internal_stage\",\n",
    "    silent=True,\n",
    ")"
   ]
  },
  {
   "cell_type": "markdown",
   "id": "77c2246f",
   "metadata": {
    "papermill": {},
    "tags": []
   },
   "source": [
    "### Showing files inside stage"
   ]
  },
  {
   "cell_type": "code",
   "execution_count": 14,
   "id": "bb255a74",
   "metadata": {
    "papermill": {},
    "tags": []
   },
   "outputs": [],
   "source": [
    "result_list_stage = snowflake.stage.list(\"@my_internal_stage\")\n",
    "\n",
    "print(result_list_stage[\"results\"])"
   ]
  },
  {
   "cell_type": "markdown",
   "id": "1ac81f9e",
   "metadata": {
    "papermill": {},
    "tags": []
   },
   "source": [
    "### Creating a table\n",
    "\n",
    "It's possible to do something like `CREATE TABLE AS SELECT ... FROM @stage`, although it's highly not recommended! With that approach we don't keep file loading history (which Snowflake is capable to do and make a lot of use from)."
   ]
  },
  {
   "cell_type": "code",
   "execution_count": 15,
   "id": "98a7bcdb",
   "metadata": {
    "papermill": {},
    "tags": []
   },
   "outputs": [],
   "source": [
    "query_create_table = \"\"\"\n",
    "    CREATE OR REPLACE TABLE sales_data (\n",
    "      month VARCHAR\n",
    "      , year INT\n",
    "      , item VARCHAR\n",
    "      , amount BIGINT\n",
    "      , currency VARCHAR\n",
    "    );\n",
    "\"\"\"\n",
    "\n",
    "# No worries, Table API will be available soon too!\n",
    "snowflake.execute(query_create_table)[\"results\"]"
   ]
  },
  {
   "cell_type": "markdown",
   "id": "acfd74ea",
   "metadata": {
    "papermill": {},
    "tags": []
   },
   "source": [
    "### Loading data from internal stage to a table"
   ]
  },
  {
   "cell_type": "code",
   "execution_count": 16,
   "id": "4f1afa8e",
   "metadata": {
    "papermill": {},
    "tags": []
   },
   "outputs": [],
   "source": [
    "snowflake.copy_into(\n",
    "    table_name=\"sales_data\", source_stage=\"@my_internal_stage\", silent=True\n",
    ")"
   ]
  },
  {
   "cell_type": "markdown",
   "id": "11a27f2c",
   "metadata": {
    "papermill": {},
    "tags": []
   },
   "source": [
    "### Running the same command again \n",
    "\n",
    "No harm as `COPY INTO` tracks which files have been loaded already"
   ]
  },
  {
   "cell_type": "code",
   "execution_count": 17,
   "id": "98979d51",
   "metadata": {
    "papermill": {},
    "tags": []
   },
   "outputs": [],
   "source": [
    "snowflake.copy_into(\n",
    "    table_name=\"sales_data\", source_stage=\"@my_internal_stage\", silent=True\n",
    ")"
   ]
  },
  {
   "cell_type": "markdown",
   "id": "d84b6feb",
   "metadata": {
    "papermill": {},
    "tags": []
   },
   "source": [
    "### Data querying straight to Pandas DataFrame"
   ]
  },
  {
   "cell_type": "code",
   "execution_count": 18,
   "id": "5075746e",
   "metadata": {
    "papermill": {},
    "tags": []
   },
   "outputs": [],
   "source": [
    "sales_data = snowflake.query_pd(\"SELECT * FROM sales_data\")\n",
    "sales_data.head()"
   ]
  }
 ],
 "metadata": {
  "kernelspec": {
   "display_name": "Python 3 (ipykernel)",
   "language": "python",
   "name": "python3"
  },
  "language_info": {
   "codemirror_mode": {
    "name": "ipython",
    "version": 3
   },
   "file_extension": ".py",
   "mimetype": "text/x-python",
   "name": "python",
   "nbconvert_exporter": "python",
   "pygments_lexer": "ipython3",
   "version": "3.8.10"
  },
  "papermill": {
   "default_parameters": {},
   "environment_variables": {},
   "parameters": {},
   "version": "2.4.0"
  }
 },
 "nbformat": 4,
 "nbformat_minor": 5
}