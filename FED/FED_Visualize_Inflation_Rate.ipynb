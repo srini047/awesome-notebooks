{
 "cells": [
  {
   "cell_type": "markdown",
   "id": "2aba6057-bd1c-4409-a3db-ceea69e4d048",
   "metadata": {
    "papermill": {},
    "tags": []
   },
   "source": [
    "<img width=\"10%\" alt=\"Naas\" src=\"https://landen.imgix.net/jtci2pxwjczr/assets/5ice39g4.png?w=160\"/>"
   ]
  },
  {
   "cell_type": "markdown",
   "id": "77b7be9f-81df-41aa-b096-408c2f21c20c",
   "metadata": {
    "papermill": {},
    "tags": []
   },
   "source": [
    "# FED - Visualize Inflation Rate\n",
    "<a href=\"https://app.naas.ai/user-redirect/naas/downloader?url=https://raw.githubusercontent.com/jupyter-naas/awesome-notebooks/master/FED/FED_Visualize_Inflation_Rate.ipynb\" target=\"_parent\"><img src=\"https://naasai-public.s3.eu-west-3.amazonaws.com/Open_in_Naas_Lab.svg\"/></a><br><br><a href=\"https://github.com/jupyter-naas/awesome-notebooks/issues/new?assignees=&labels=&template=template-request.md&title=Tool+-+Action+of+the+notebook+\">Template request</a> | <a href=\"https://github.com/jupyter-naas/awesome-notebooks/issues/new?assignees=&labels=bug&template=bug_report.md&title=FED+-+Visualize+Inflation+Rate:+Error+short+description\">Bug report</a> | <a href=\"https://app.naas.ai/user-redirect/naas/downloader?url=https://raw.githubusercontent.com/jupyter-naas/awesome-notebooks/master/Naas/Naas_Start_data_product.ipynb\" target=\"_parent\">Generate Data Product</a>"
   ]
  },
  {
   "cell_type": "markdown",
   "id": "ed5a4ba1-4581-44d5-8054-877d9f43c15a",
   "metadata": {
    "papermill": {},
    "tags": []
   },
   "source": [
    "**Tags:** #fed #inflation_rate #vizualization #plotly"
   ]
  },
  {
   "cell_type": "markdown",
   "id": "edae5c8f-137b-4c69-9713-c69d3b809a22",
   "metadata": {
    "papermill": {},
    "tags": []
   },
   "source": [
    "**Author:** [Mohit Singh](https://www.linkedin.com/in/mohwits/)"
   ]
  },
  {
   "cell_type": "markdown",
   "id": "c5b89b33-c2f2-47cc-83c5-86d8127a4857",
   "metadata": {
    "papermill": {},
    "tags": []
   },
   "source": [
    "**Description:** This notebook vizualize the inflation rate of the US using plotly and fred api"
   ]
  },
  {
   "cell_type": "markdown",
   "id": "7e2a6ea1-a505-4532-8cb2-cc0bbfb8eb8b",
   "metadata": {
    "papermill": {},
    "tags": []
   },
   "source": [
    "## Input"
   ]
  },
  {
   "cell_type": "code",
   "execution_count": null,
   "id": "4925ce1e-6b52-4934-b6c2-1975b3590d9b",
   "metadata": {
    "papermill": {},
    "tags": []
   },
   "outputs": [],
   "source": [
    "import naas\n",
    "import pandas as pd\n",
    "import plotly.express as px\n",
    "# fredapi\n",
    "try:\n",
    "    from fredapi import Fred\n",
    "except ModuleNotFoundError:\n",
    "    !pip install fredapi\n",
    "    from fredapi import Fred"
   ]
  },
  {
   "cell_type": "markdown",
   "id": "14d7071d-ce1f-4ebf-8da9-7ffec2616f81",
   "metadata": {
    "papermill": {},
    "tags": []
   },
   "source": [
    "### Setup Variables\n",
    "- `fred_api_key`: Fred API Key, to obtain an Fred API key, please refer to the [St. Louis Fed Website](https://fred.stlouisfed.org/).\n",
    "- `series_id`: A series ID is used to retrieve data for a specific economic indicator from the FRED database, please refer to the [FRED Documentation](https://fred.stlouisfed.org/docs/api/fred/#General_Documentation)"
   ]
  },
  {
   "cell_type": "code",
   "execution_count": null,
   "id": "12891607-9f21-4521-9c3e-ca274e1208e3",
   "metadata": {
    "papermill": {},
    "tags": []
   },
   "outputs": [],
   "source": [
    "## api key\n",
    "fred_api_key = naas.secret.get(\"FRED_API_KEY\")"
   ]
  },
  {
   "cell_type": "code",
   "execution_count": null,
   "id": "3d65fe29-87c2-4fbf-828b-35ad4f7d5176",
   "metadata": {
    "papermill": {},
    "tags": []
   },
   "outputs": [],
   "source": [
    "## series id\n",
    "series_id = 'CPALTT01USM657N'"
   ]
  },
  {
   "cell_type": "code",
   "execution_count": null,
   "id": "81bac12c-e199-4a72-bf53-fe04f39cd1be",
   "metadata": {
    "papermill": {},
    "tags": []
   },
   "outputs": [],
   "source": [
    "## initialize Fred with api key\n",
    "fred = Fred(api_key=fred_api_key)"
   ]
  },
  {
   "cell_type": "code",
   "execution_count": null,
   "id": "846ed9b0-9afd-4db2-b9c0-b437e35b84c9",
   "metadata": {
    "papermill": {},
    "tags": []
   },
   "outputs": [],
   "source": [
    "# Define the start date for the inflation rate data\n",
    "start_date = \"1960-01-01\""
   ]
  },
  {
   "cell_type": "code",
   "execution_count": null,
   "id": "714bf33d-7f9e-4196-b289-e36a63bbcd12",
   "metadata": {
    "papermill": {},
    "tags": []
   },
   "outputs": [],
   "source": [
    "# Retrieve the inflation rate data\n",
    "data = fred.get_series(series_id, start_date)"
   ]
  },
  {
   "cell_type": "markdown",
   "id": "c5f2f639-aab9-40f2-9403-8fc732b30779",
   "metadata": {
    "papermill": {},
    "tags": []
   },
   "source": [
    "## Model"
   ]
  },
  {
   "cell_type": "code",
   "execution_count": null,
   "id": "4a7c1af8-4552-42b7-9d22-281548caaa62",
   "metadata": {
    "papermill": {},
    "tags": []
   },
   "outputs": [],
   "source": [
    "# Convert the data to a Pandas DataFrame\n",
    "df = pd.DataFrame(data, columns=[\"inflation rate\"])"
   ]
  },
  {
   "cell_type": "code",
   "execution_count": null,
   "id": "5f53012f-9581-4b78-bcdd-13c1544fa58a",
   "metadata": {
    "papermill": {},
    "tags": []
   },
   "outputs": [],
   "source": [
    "# Resample the data to the annual frequency and calculate the mean\n",
    "df = df.resample(\"A\").mean()"
   ]
  },
  {
   "cell_type": "code",
   "execution_count": null,
   "id": "523e3454-52e6-4331-bc17-6f5b715db896",
   "metadata": {
    "papermill": {},
    "tags": []
   },
   "outputs": [],
   "source": [
    "# Create a line plot using Plotly\n",
    "fig = px.line(df, x=df.index, y=\"inflation rate\", title=\"US Inflation Rate (1960-2023)\")"
   ]
  },
  {
   "cell_type": "markdown",
   "id": "eb3fe554-fc71-4042-87b4-75b7b3adc13b",
   "metadata": {
    "papermill": {},
    "tags": []
   },
   "source": [
    "## Output"
   ]
  },
  {
   "cell_type": "code",
   "execution_count": null,
   "id": "3a724bae-f65a-4c1e-ae2e-3f63c292d9d6",
   "metadata": {
    "papermill": {},
    "tags": []
   },
   "outputs": [],
   "source": [
    "## display the plot\n",
    "fig.show()"
   ]
  }
 ],
 "metadata": {
  "kernelspec": {
   "display_name": "Python 3",
   "language": "python",
   "name": "python3"
  },
  "language_info": {
   "codemirror_mode": {
    "name": "ipython",
    "version": 3
   },
   "file_extension": ".py",
   "mimetype": "text/x-python",
   "name": "python",
   "nbconvert_exporter": "python",
   "pygments_lexer": "ipython3",
   "version": "3.9.6"
  },
  "naas": {
   "notebook_id": "3d5d98e21d25b8ffe3b8c6deb3b9d8beecba5a65754590a020591220885efdd0",
   "notebook_path": "FED/FED_Visualize_Inflation_Rate.ipynb"
  },
  "papermill": {
   "default_parameters": {},
   "environment_variables": {},
   "parameters": {},
   "version": "2.4.0"
  }
 },
 "nbformat": 4,
 "nbformat_minor": 5
}