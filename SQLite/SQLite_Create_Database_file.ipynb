{
 "cells": [
  {
   "cell_type": "markdown",
   "id": "latin-packing",
   "metadata": {
    "execution": {
     "iopub.execute_input": "2021-02-23T14:22:16.610471Z",
     "iopub.status.busy": "2021-02-23T14:22:16.610129Z",
     "iopub.status.idle": "2021-02-23T14:22:16.627784Z",
     "shell.execute_reply": "2021-02-23T14:22:16.626866Z",
     "shell.execute_reply.started": "2021-02-23T14:22:16.610384Z"
    },
    "papermill": {},
    "tags": []
   },
   "source": [
    "<img width=\"10%\" alt=\"Naas\" src=\"https://landen.imgix.net/jtci2pxwjczr/assets/5ice39g4.png?w=160\"/>"
   ]
  },
  {
   "cell_type": "markdown",
   "id": "compressed-wilson",
   "metadata": {
    "papermill": {},
    "tags": []
   },
   "source": [
    "# SQLite - Create Database file\n",
    "<a href=\"https://app.naas.ai/user-redirect/naas/downloader?url=https://raw.githubusercontent.com/jupyter-naas/awesome-notebooks/master/SQLite/SQLite_Create_Database_file.ipynb\" target=\"_parent\"><img src=\"https://naasai-public.s3.eu-west-3.amazonaws.com/open_in_naas.svg\"/></a><br><br><a href=\"https://github.com/jupyter-naas/awesome-notebooks/issues/new?assignees=&labels=&template=template-request.md&title=Tool+-+Action+of+the+notebook+\">Template request</a> | <a href=\"https://github.com/jupyter-naas/awesome-notebooks/issues/new?assignees=&labels=bug&template=bug_report.md&title=SQLite+-+Create+Database+file:+Error+short+description\">Bug report</a>"
   ]
  },
  {
   "cell_type": "markdown",
   "id": "religious-programmer",
   "metadata": {
    "papermill": {},
    "tags": []
   },
   "source": [
    "**Tags:** #SQLite #database #databasemanagement #filebaseddb #dbcreation #dbsetup #SQLiteDB #localstorage #datastore #SQLitedatabase #embeddedDB #PythonDB #sqllite3 #DBfile"
   ]
  },
  {
   "cell_type": "markdown",
   "id": "1fe9f56e-561c-4f52-aef8-b861c9462107",
   "metadata": {
    "papermill": {},
    "tags": []
   },
   "source": [
    "**Author:** [Florent Ravenel](https://www.linkedin.com/in/florent-ravenel/)"
   ]
  },
  {
   "cell_type": "markdown",
   "id": "31ea7cdb-e10d-43fc-b026-f69249a59736",
   "metadata": {
    "papermill": {},
    "tags": []
   },
   "source": [
    "**Description:** This notebook creates a new SQLite database file using the sqlite3 module in Python. Here's an example of how you can create a new SQLite database file called \"mydatabase.db\""
   ]
  },
  {
   "cell_type": "markdown",
   "id": "dc2a88e1-137a-4240-bda2-208fdc269459",
   "metadata": {
    "papermill": {},
    "tags": []
   },
   "source": [
    "**About SQLlite ?**\n",
    "\n",
    "SQLite is a lightweight, file-based database management system that can be embedded into other applications to provide local data storage. Because of its small footprint, it is often used as an embedded database in mobile and desktop applications, as well as in web browsers and other programs that need a local data storage option.\n",
    "\n",
    "Here are a few reasons why SQLite can be useful for working with data:\n",
    "\n",
    "Easy to use and integrate: SQLite is written in C and provides a simple, easy-to-use API for working with databases. The SQLite library is lightweight and can be easily integrated into other applications without the need for additional dependencies or software.\n",
    "\n",
    "- Serverless: Unlike other databases like MySQL and PostgreSQL, SQLite does not require a separate server process to be running in order to work. Instead, it reads and writes directly to a database file on disk, which makes it easy to set up and use in a variety of environments.\n",
    "\n",
    "- Cross-platform: SQLite is available for a wide range of platforms, including Windows, macOS, Linux, iOS, and Android. This means that you can develop and deploy applications that use SQLite on multiple platforms with minimal changes.\n",
    "\n",
    "- Scalable: SQLite is capable of handling large amounts of data, with the maximum size of a database file limited by the amount of free disk space available. The database can handle many concurrent connections and read-write accesses.\n",
    "\n",
    "- ACID compliant: SQLite follows the ACID properties (Atomicity, Consistency, Isolation, Durability) which means that once you perform any transaction it will be guaranteed to be completed successfully or not at all. This makes it a good fit for mission critical systems, as it is reliable.\n",
    "\n",
    "- Open Source: SQLite is open-source software, which means that it is free to use and distribute. It also means that developers can access the source code, which can be useful for understanding how the database works and for troubleshooting problems.\n",
    "\n",
    "Overall, SQLite is a very powerful, reliable and fast database. Its small footprint and ease of integration make it a great option for a wide variety of applications that require local data storage."
   ]
  },
  {
   "cell_type": "markdown",
   "id": "distinguished-truth",
   "metadata": {
    "papermill": {},
    "tags": []
   },
   "source": [
    "## Input"
   ]
  },
  {
   "cell_type": "markdown",
   "id": "numeric-mediterranean",
   "metadata": {
    "papermill": {},
    "tags": []
   },
   "source": [
    "### Import libraries"
   ]
  },
  {
   "cell_type": "code",
   "execution_count": 1,
   "id": "potential-surfing",
   "metadata": {
    "execution": {
     "iopub.execute_input": "2023-01-12T11:55:45.032049Z",
     "iopub.status.busy": "2023-01-12T11:55:45.031623Z",
     "iopub.status.idle": "2023-01-12T11:55:45.040453Z",
     "shell.execute_reply": "2023-01-12T11:55:45.039959Z",
     "shell.execute_reply.started": "2023-01-12T11:55:45.031976Z"
    },
    "papermill": {},
    "tags": []
   },
   "outputs": [],
   "source": [
    "import sqlite3"
   ]
  },
  {
   "cell_type": "markdown",
   "id": "aggressive-trustee",
   "metadata": {
    "papermill": {},
    "tags": []
   },
   "source": [
    "### Setup Variables"
   ]
  },
  {
   "cell_type": "code",
   "execution_count": 2,
   "id": "continuous-melbourne",
   "metadata": {
    "execution": {
     "iopub.execute_input": "2023-01-12T11:55:45.041870Z",
     "iopub.status.busy": "2023-01-12T11:55:45.041480Z",
     "iopub.status.idle": "2023-01-12T11:55:45.156443Z",
     "shell.execute_reply": "2023-01-12T11:55:45.155781Z",
     "shell.execute_reply.started": "2023-01-12T11:55:45.041840Z"
    },
    "papermill": {},
    "tags": []
   },
   "outputs": [],
   "source": [
    "# database name\n",
    "db_name = \"mydatabase.db\""
   ]
  },
  {
   "cell_type": "markdown",
   "id": "registered-showcase",
   "metadata": {
    "papermill": {},
    "tags": []
   },
   "source": [
    "## Model"
   ]
  },
  {
   "cell_type": "markdown",
   "id": "tested-astrology",
   "metadata": {
    "papermill": {},
    "tags": []
   },
   "source": [
    "### Create database file\n",
    "In this example, the connect() function is used to connect to a SQLite database file called \"mydatabase.db\". If the file does not exist, it will be created.\n",
    "Once the connection is made, the connection object returned by the connect() function can be used to execute SQL statements and perform other operations on the database.\n",
    "\n",
    "Please note that creating a new database file with sqlite3 module in python, won't create any tables or data inside it. To do so, you will need to create tables and insert data using sql statement.\n",
    "\n",
    "Please also keep in mind that python does not make any directories for the database file, So make sure the path specified for the connection string is valid and exists."
   ]
  },
  {
   "cell_type": "code",
   "execution_count": 3,
   "id": "crude-louisville",
   "metadata": {
    "execution": {
     "iopub.execute_input": "2023-01-12T11:55:45.157748Z",
     "iopub.status.busy": "2023-01-12T11:55:45.157466Z",
     "iopub.status.idle": "2023-01-12T11:55:45.243734Z",
     "shell.execute_reply": "2023-01-12T11:55:45.243075Z",
     "shell.execute_reply.started": "2023-01-12T11:55:45.157678Z"
    },
    "papermill": {},
    "tags": []
   },
   "outputs": [],
   "source": [
    "# connect to the database file\n",
    "conn = sqlite3.connect(db_name)"
   ]
  },
  {
   "cell_type": "markdown",
   "id": "lonely-pacific",
   "metadata": {
    "execution": {
     "iopub.execute_input": "2021-07-02T23:32:10.789097Z",
     "iopub.status.busy": "2021-07-02T23:32:10.788829Z",
     "iopub.status.idle": "2021-07-02T23:32:10.796900Z",
     "shell.execute_reply": "2021-07-02T23:32:10.796358Z",
     "shell.execute_reply.started": "2021-07-02T23:32:10.789033Z"
    },
    "papermill": {},
    "tags": []
   },
   "source": [
    "## Output"
   ]
  },
  {
   "cell_type": "markdown",
   "id": "890f7c86-b7bb-4f5d-9a1b-e492dd9580fd",
   "metadata": {
    "papermill": {},
    "tags": []
   },
   "source": [
    "### Close the connection"
   ]
  },
  {
   "cell_type": "code",
   "execution_count": 4,
   "id": "9c4e3b7b-6440-4844-8054-265f1aec65eb",
   "metadata": {
    "execution": {
     "iopub.execute_input": "2023-01-12T11:55:45.245010Z",
     "iopub.status.busy": "2023-01-12T11:55:45.244781Z",
     "iopub.status.idle": "2023-01-12T11:55:45.316375Z",
     "shell.execute_reply": "2023-01-12T11:55:45.315645Z",
     "shell.execute_reply.started": "2023-01-12T11:55:45.244983Z"
    },
    "papermill": {},
    "tags": []
   },
   "outputs": [],
   "source": [
    "# close the connection\n",
    "conn.close()"
   ]
  }
 ],
 "metadata": {
  "kernelspec": {
   "display_name": "Python 3",
   "language": "python",
   "name": "python3"
  },
  "language_info": {
   "codemirror_mode": {
    "name": "ipython",
    "version": 3
   },
   "file_extension": ".py",
   "mimetype": "text/x-python",
   "name": "python",
   "nbconvert_exporter": "python",
   "pygments_lexer": "ipython3",
   "version": "3.9.6"
  },
  "papermill": {
   "default_parameters": {},
   "environment_variables": {},
   "parameters": {},
   "version": "2.3.3"
  },
  "widgets": {
   "application/vnd.jupyter.widget-state+json": {
    "state": {},
    "version_major": 2,
    "version_minor": 0
   }
  }
 },
 "nbformat": 4,
 "nbformat_minor": 5
}