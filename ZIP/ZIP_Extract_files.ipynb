{
 "cells": [
  {
   "cell_type": "markdown",
   "id": "revolutionary-trinity",
   "metadata": {
    "papermill": {},
    "tags": []
   },
   "source": [
    "<img width=\"10%\" alt=\"Naas\" src=\"https://landen.imgix.net/jtci2pxwjczr/assets/5ice39g4.png?w=160\"/>"
   ]
  },
  {
   "cell_type": "markdown",
   "id": "limiting-testimony",
   "metadata": {
    "papermill": {},
    "tags": []
   },
   "source": [
    "# ZIP - Extract files\n",
    "<a href=\"https://app.naas.ai/user-redirect/naas/downloader?url=https://raw.githubusercontent.com/jupyter-naas/awesome-notebooks/master/ZIP/ZIP_Extract_files.ipynb\" target=\"_parent\"><img src=\"https://naasai-public.s3.eu-west-3.amazonaws.com/Open_in_Naas_Lab.svg\"/></a><br><br><a href=\"https://github.com/jupyter-naas/awesome-notebooks/issues/new?assignees=&labels=&template=template-request.md&title=Tool+-+Action+of+the+notebook+\">Template request</a> | <a href=\"https://github.com/jupyter-naas/awesome-notebooks/issues/new?assignees=&labels=bug&template=bug_report.md&title=ZIP+-+Extract+files:+Error+short+description\">Bug report</a> | <a href=\"https://app.naas.ai/user-redirect/naas/downloader?url=https://raw.githubusercontent.com/jupyter-naas/awesome-notebooks/master/Naas/Naas_Start_data_product.ipynb\" target=\"_parent\">Generate Data Product</a>"
   ]
  },
  {
   "cell_type": "markdown",
   "id": "29328b36-abcd-446f-824b-34523b9d6076",
   "metadata": {
    "papermill": {},
    "tags": []
   },
   "source": [
    "**Tags:** #zip #extract #file #operations #snippet #naas"
   ]
  },
  {
   "cell_type": "markdown",
   "id": "29d7d2b0-7196-4f15-b0a3-b7ed29c34bbe",
   "metadata": {
    "papermill": {},
    "tags": []
   },
   "source": [
    "**Author:** [Maxime Jublou](https://www.linkedin.com/in/maximejublou)"
   ]
  },
  {
   "cell_type": "markdown",
   "id": "naas-description",
   "metadata": {
    "papermill": {},
    "tags": [
     "description"
    ]
   },
   "source": [
    "**Description:** This notebook allows users to extract files from a ZIP archive."
   ]
  },
  {
   "cell_type": "markdown",
   "id": "input_cell",
   "metadata": {
    "papermill": {},
    "tags": []
   },
   "source": [
    "## Input"
   ]
  },
  {
   "cell_type": "markdown",
   "id": "import_cell",
   "metadata": {
    "papermill": {},
    "tags": []
   },
   "source": [
    "### Import libraries"
   ]
  },
  {
   "cell_type": "code",
   "execution_count": null,
   "id": "separate-inside",
   "metadata": {
    "papermill": {},
    "tags": []
   },
   "outputs": [],
   "source": [
    "import zipfile\n",
    "import os\n",
    "from pprint import pprint"
   ]
  },
  {
   "cell_type": "markdown",
   "id": "3fdc4874-d917-4d6f-9e7b-d8830b67b52f",
   "metadata": {
    "papermill": {},
    "tags": []
   },
   "source": [
    "### Setup Variables\n",
    "- `file_path`: zip archive file path\n",
    "- `output_dir`: directory name in which files will be extracted"
   ]
  },
  {
   "cell_type": "code",
   "execution_count": null,
   "id": "ac6d5f3f-e974-4d6c-8ad5-360f6ebcdc46",
   "metadata": {
    "papermill": {},
    "tags": []
   },
   "outputs": [],
   "source": [
    "# Inputs\n",
    "file_path = \"files.zip\"\n",
    "\n",
    "# Outputs\n",
    "output_dir = \"zip_extraction\""
   ]
  },
  {
   "cell_type": "markdown",
   "id": "model_cell",
   "metadata": {
    "papermill": {},
    "tags": []
   },
   "source": [
    "## Model"
   ]
  },
  {
   "cell_type": "markdown",
   "id": "c617ada9-56d9-47a0-b5e1-bfb0ae7453a9",
   "metadata": {
    "papermill": {},
    "tags": []
   },
   "source": [
    "### Extract files\n",
    "In this example, `file_path` is the path of the ZIP archive that you want to extract. \n",
    "The with statement is used to ensure that the ZIP file is closed properly after it has been read. \n",
    "The ZipFile class is used to open the file in read mode ('r'). \n",
    "The extractall method is called to extract all the files in the archive to the current working directory. \n",
    "You can also specify a different directory to extract the files to by passing a path to the extractall method."
   ]
  },
  {
   "cell_type": "code",
   "execution_count": null,
   "id": "sporting-factory",
   "metadata": {
    "papermill": {},
    "tags": []
   },
   "outputs": [],
   "source": [
    "# Create output dir\n",
    "os.mkdir(output_dir)\n",
    "\n",
    "# Extract files\n",
    "if os.path.exists(file_path):\n",
    "    # open the zip file for reading\n",
    "    with zipfile.ZipFile(file_path, 'r') as zip_ref:\n",
    "        # extract all files to the current working directory\n",
    "        zip_ref.extractall(output_dir)\n",
    "else:\n",
    "    print(f\"❌ ZIP path '{file_path}' does not exist. Please update it on your variables.\")"
   ]
  },
  {
   "cell_type": "markdown",
   "id": "output_cell",
   "metadata": {
    "papermill": {},
    "tags": []
   },
   "source": [
    "## Output"
   ]
  },
  {
   "cell_type": "markdown",
   "id": "display_cell",
   "metadata": {
    "papermill": {},
    "tags": []
   },
   "source": [
    "### Display result"
   ]
  },
  {
   "cell_type": "code",
   "execution_count": null,
   "id": "anticipated-corps",
   "metadata": {
    "papermill": {},
    "tags": []
   },
   "outputs": [],
   "source": [
    "print(\"Number of files extracted:\", len(os.listdir(output_dir)))\n",
    "pprint(os.listdir(output_dir))"
   ]
  }
 ],
 "metadata": {
  "kernelspec": {
   "display_name": "Python 3",
   "language": "python",
   "name": "python3"
  },
  "language_info": {
   "codemirror_mode": {
    "name": "ipython",
    "version": 3
   },
   "file_extension": ".py",
   "mimetype": "text/x-python",
   "name": "python",
   "nbconvert_exporter": "python",
   "pygments_lexer": "ipython3",
   "version": "3.9.6"
  },
  "naas": {
   "notebook_id": "e62887290cc7a4c0b82ec67c82df44f9f6236be9992da26426b64649630170c0",
   "notebook_path": "ZIP/ZIP_Extract_files.ipynb"
  },
  "papermill": {
   "default_parameters": {},
   "environment_variables": {},
   "parameters": {},
   "version": "2.3.3"
  }
 },
 "nbformat": 4,
 "nbformat_minor": 5
}