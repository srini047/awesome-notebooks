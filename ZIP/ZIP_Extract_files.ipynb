{
 "cells": [
  {
   "cell_type": "markdown",
   "id": "revolutionary-trinity",
   "metadata": {
    "papermill": {},
    "tags": []
   },
   "source": [
    "<img width=\"10%\" alt=\"Naas\" src=\"https://landen.imgix.net/jtci2pxwjczr/assets/5ice39g4.png?w=160\"/>"
   ]
  },
  {
   "cell_type": "markdown",
   "id": "limiting-testimony",
   "metadata": {
    "papermill": {},
    "tags": []
   },
   "source": [
    "# ZIP - Extract files\n",
    "<a href=\"https://app.naas.ai/user-redirect/naas/downloader?url=https://raw.githubusercontent.com/jupyter-naas/awesome-notebooks/master/ZIP/ZIP_Extract_files.ipynb\" target=\"_parent\"><img src=\"https://naasai-public.s3.eu-west-3.amazonaws.com/open_in_naas.svg\"/></a><br><br><a href=\"https://github.com/jupyter-naas/awesome-notebooks/issues/new?assignees=&labels=&template=template-request.md&title=Tool+-+Action+of+the+notebook+\">Template request</a> | <a href=\"https://github.com/jupyter-naas/awesome-notebooks/issues/new?assignees=&labels=bug&template=bug_report.md&title=ZIP+-+Extract+files:+Error+short+description\">Bug report</a>"
   ]
  },
  {
   "cell_type": "markdown",
   "id": "29328b36-abcd-446f-824b-34523b9d6076",
   "metadata": {
    "papermill": {},
    "tags": []
   },
   "source": [
    "**Tags:** #zip #extract #file #operations #snippet #naas"
   ]
  },
  {
   "cell_type": "markdown",
   "id": "29d7d2b0-7196-4f15-b0a3-b7ed29c34bbe",
   "metadata": {
    "papermill": {},
    "tags": []
   },
   "source": [
    "**Author:** [Maxime Jublou](https://www.linkedin.com/in/maximejublou)"
   ]
  },
  {
   "cell_type": "markdown",
   "id": "naas-description",
   "metadata": {
    "papermill": {},
    "tags": [
     "description"
    ]
   },
   "source": [
    "**Description:** This notebook allows users to extract files from a ZIP archive."
   ]
  },
  {
   "cell_type": "markdown",
   "id": "input_cell",
   "metadata": {
    "papermill": {},
    "tags": []
   },
   "source": [
    "## Input"
   ]
  },
  {
   "cell_type": "markdown",
   "id": "import_cell",
   "metadata": {
    "papermill": {},
    "tags": []
   },
   "source": [
    "### Import libraries"
   ]
  },
  {
   "cell_type": "code",
   "execution_count": 2,
   "id": "separate-inside",
   "metadata": {
    "papermill": {},
    "tags": []
   },
   "outputs": [],
   "source": [
    "import zipfile\n",
    "from io import BytesIO\n",
    "import re"
   ]
  },
  {
   "cell_type": "markdown",
   "id": "model_cell",
   "metadata": {
    "papermill": {},
    "tags": []
   },
   "source": [
    "## Model"
   ]
  },
  {
   "cell_type": "markdown",
   "id": "c617ada9-56d9-47a0-b5e1-bfb0ae7453a9",
   "metadata": {
    "papermill": {},
    "tags": []
   },
   "source": [
    "### Function"
   ]
  },
  {
   "cell_type": "code",
   "execution_count": 3,
   "id": "sporting-factory",
   "metadata": {
    "papermill": {},
    "tags": []
   },
   "outputs": [],
   "source": [
    "def extract_zip(filepath):\n",
    "    i = 0\n",
    "    with zipfile.ZipFile(filepath, \"r\") as zfile:\n",
    "        for name in zfile.namelist():\n",
    "            if re.search(r\"\\.zip$\", name) is not None:\n",
    "                zfiledata = BytesIO(zfile.read(name))\n",
    "                with zipfile.ZipFile(zfiledata) as zfile2:\n",
    "                    for name2 in zfile2.namelist():\n",
    "                        zfile2.extract(name2, path=\"../\", pwd=None)\n",
    "                        i = i + 1\n",
    "    zfile.close()\n",
    "    print(\"Processing Completed. \" + str(i) + \" file(s) extracted\")"
   ]
  },
  {
   "cell_type": "markdown",
   "id": "output_cell",
   "metadata": {
    "papermill": {},
    "tags": []
   },
   "source": [
    "## Output"
   ]
  },
  {
   "cell_type": "markdown",
   "id": "display_cell",
   "metadata": {
    "papermill": {},
    "tags": []
   },
   "source": [
    "### Extract zip"
   ]
  },
  {
   "cell_type": "code",
   "execution_count": 5,
   "id": "anticipated-corps",
   "metadata": {
    "papermill": {},
    "tags": []
   },
   "outputs": [],
   "source": [
    "extract_zip(\"bilans_saisis_20181231.zip\")"
   ]
  }
 ],
 "metadata": {
  "kernelspec": {
   "display_name": "Python 3",
   "language": "python",
   "name": "python3"
  },
  "language_info": {
   "codemirror_mode": {
    "name": "ipython",
    "version": 3
   },
   "file_extension": ".py",
   "mimetype": "text/x-python",
   "name": "python",
   "nbconvert_exporter": "python",
   "pygments_lexer": "ipython3",
   "version": "3.8.8"
  },
  "naas": {
   "notebook_id": "57c8309f-418b-4eab-b37c-0367e5312320",
   "notebook_path": "ZIP/ZIP_Extract_files.ipynb"
  },
  "papermill": {
   "default_parameters": {},
   "environment_variables": {},
   "parameters": {},
   "version": "2.3.3"
  }
 },
 "nbformat": 4,
 "nbformat_minor": 5
}