{
 "cells": [
  {
   "cell_type": "markdown",
   "id": "441639cf-1b70-4817-a47e-bcb40f14dd0c",
   "metadata": {
    "papermill": {},
    "tags": []
   },
   "source": [
    "<img width=\"10%\" alt=\"Naas\" src=\"https://landen.imgix.net/jtci2pxwjczr/assets/5ice39g4.png?w=160\"/>"
   ]
  },
  {
   "cell_type": "markdown",
   "id": "2d7b00d8-c627-4f90-b105-cadd5271e5b9",
   "metadata": {
    "papermill": {},
    "tags": []
   },
   "source": [
    "# PyGWalker - Analyze Pandas dataframe\n",
    "<a href=\"https://app.naas.ai/user-redirect/naas/downloader?url=https://raw.githubusercontent.com/jupyter-naas/awesome-notebooks/master/PyGWalker/PyGWalker_Analyze_Pandas_dataframe.ipynb\" target=\"_parent\"><img src=\"https://naasai-public.s3.eu-west-3.amazonaws.com/open_in_naas.svg\"/></a><br><br><a href=\"https://github.com/jupyter-naas/awesome-notebooks/issues/new?assignees=&labels=&template=template-request.md&title=Tool+-+Action+of+the+notebook+\">Template request</a> | <a href=\"https://github.com/jupyter-naas/awesome-notebooks/issues/new?assignees=&labels=bug&template=bug_report.md&title=PyGWalker+-+Analyze+Pandas+dataframe:+Error+short+description\">Bug report</a>"
   ]
  },
  {
   "cell_type": "markdown",
   "id": "d614893f-f6d7-4158-85c9-89ce4202d31d",
   "metadata": {
    "papermill": {},
    "tags": []
   },
   "source": [
    "**Tags:** #pandas #dataframe #tableau #pygwalker #analyze #jupyter"
   ]
  },
  {
   "cell_type": "markdown",
   "id": "d581f254-8c8b-4021-99c4-101e84ebc83c",
   "metadata": {
    "papermill": {},
    "tags": []
   },
   "source": [
    "**Author:** [Abraham Israel](https://www.linkedin.com/in/abraham-israel/)"
   ]
  },
  {
   "cell_type": "markdown",
   "id": "c5e4e7c6-cd39-4802-93ff-4e6859480f85",
   "metadata": {
    "papermill": {},
    "tags": []
   },
   "source": [
    "**Description:** This notebook will demonstrate how to analyze a Pandas dataframe in Jupyter using a Tableau-style interface."
   ]
  },
  {
   "cell_type": "markdown",
   "id": "ecb02426-e78e-42c5-b802-9b58fef8a1b8",
   "metadata": {
    "papermill": {},
    "tags": []
   },
   "source": [
    "**References:**\n",
    "- [Tableau Documentation](https://help.tableau.com/current/pro/desktop/en-us/data_analysis.htm)\n",
    "- [Pandas Documentation](https://pandas.pydata.org/pandas-docs/stable/reference/index.html)"
   ]
  },
  {
   "cell_type": "markdown",
   "id": "9e4331ed-9e2f-4f74-af35-9d2bbdcd90e7",
   "metadata": {
    "papermill": {},
    "tags": []
   },
   "source": [
    "## Input"
   ]
  },
  {
   "cell_type": "markdown",
   "id": "e6324dba-809f-4e0e-83c1-306db807881e",
   "metadata": {
    "papermill": {},
    "tags": []
   },
   "source": [
    "### Import libraries"
   ]
  },
  {
   "cell_type": "code",
   "execution_count": 1,
   "id": "f5644a0b-9488-4164-933f-9ea8cfe4bedb",
   "metadata": {
    "execution": {
     "iopub.execute_input": "2023-03-13T09:11:01.881390Z",
     "iopub.status.busy": "2023-03-13T09:11:01.881124Z",
     "iopub.status.idle": "2023-03-13T09:11:03.123192Z",
     "shell.execute_reply": "2023-03-13T09:11:03.122543Z",
     "shell.execute_reply.started": "2023-03-13T09:11:01.881323Z"
    },
    "papermill": {},
    "tags": []
   },
   "outputs": [],
   "source": [
    "import pandas as pd\n",
    "import numpy as np\n",
    "try:\n",
    "    import pygwalker as pyg\n",
    "except:\n",
    "    !pip install pygwalker --user\n",
    "    import pygwalker as pyg"
   ]
  },
  {
   "cell_type": "markdown",
   "id": "6f93d839-e641-431a-b889-8532cb062925",
   "metadata": {
    "papermill": {},
    "tags": []
   },
   "source": [
    "### Setup Variables\n",
    "- `df`: Pandas dataframe to be analyzed"
   ]
  },
  {
   "cell_type": "code",
   "execution_count": 2,
   "id": "2701e203-039d-47b5-9ee9-caaf77a043c4",
   "metadata": {
    "execution": {
     "iopub.execute_input": "2023-03-13T09:11:03.125492Z",
     "iopub.status.busy": "2023-03-13T09:11:03.125031Z",
     "iopub.status.idle": "2023-03-13T09:11:03.129764Z",
     "shell.execute_reply": "2023-03-13T09:11:03.129283Z",
     "shell.execute_reply.started": "2023-03-13T09:11:03.125461Z"
    },
    "papermill": {},
    "tags": []
   },
   "outputs": [],
   "source": [
    "df = pd.DataFrame(np.random.randint(0, 100, size=(100, 4)), columns=list(\"ABCD\"))"
   ]
  },
  {
   "cell_type": "markdown",
   "id": "a3e09208-738b-4cc7-ba36-c7cf2f0fea8a",
   "metadata": {
    "papermill": {},
    "tags": []
   },
   "source": [
    "## Model"
   ]
  },
  {
   "cell_type": "markdown",
   "id": "a1548963-d78e-4523-85c0-0c74a7e30cec",
   "metadata": {
    "papermill": {},
    "tags": []
   },
   "source": [
    "### Analyze dataframe"
   ]
  },
  {
   "cell_type": "markdown",
   "id": "ecdb2194-0316-4aa8-9439-5515bd18728e",
   "metadata": {
    "papermill": {},
    "tags": []
   },
   "source": [
    "This action will analyze the dataframe using a Tableau-style interface."
   ]
  },
  {
   "cell_type": "code",
   "execution_count": 3,
   "id": "30948e92-1fc4-48cb-b6d7-25b6f101d50e",
   "metadata": {
    "execution": {
     "iopub.execute_input": "2023-03-13T09:11:03.130733Z",
     "iopub.status.busy": "2023-03-13T09:11:03.130581Z",
     "iopub.status.idle": "2023-03-13T09:11:03.271563Z",
     "shell.execute_reply": "2023-03-13T09:11:03.270905Z",
     "shell.execute_reply.started": "2023-03-13T09:11:03.130716Z"
    },
    "papermill": {},
    "tags": []
   },
   "outputs": [],
   "source": [
    "# Analyze dataframe\n",
    "df.describe()"
   ]
  },
  {
   "cell_type": "markdown",
   "id": "c9d45624-1c2d-449f-bc8b-52b5867eaaf9",
   "metadata": {
    "papermill": {},
    "tags": []
   },
   "source": [
    "## Output"
   ]
  },
  {
   "cell_type": "markdown",
   "id": "6cee3fd5-82be-4b3c-8d91-cbdedf4f30f1",
   "metadata": {
    "papermill": {},
    "tags": []
   },
   "source": [
    "### Display result"
   ]
  },
  {
   "cell_type": "code",
   "execution_count": 4,
   "id": "b4fe362a-a4da-4d11-9c93-b5659d100b1b",
   "metadata": {
    "execution": {
     "iopub.execute_input": "2023-03-13T09:11:03.276021Z",
     "iopub.status.busy": "2023-03-13T09:11:03.274339Z",
     "iopub.status.idle": "2023-03-13T09:11:03.477877Z",
     "shell.execute_reply": "2023-03-13T09:11:03.477222Z",
     "shell.execute_reply.started": "2023-03-13T09:11:03.275990Z"
    },
    "papermill": {},
    "tags": []
   },
   "outputs": [],
   "source": [
    "# Display result\n",
    "gwalker = pyg.walk(df)"
   ]
  }
 ],
 "metadata": {
  "kernelspec": {
   "display_name": "Python 3",
   "language": "python",
   "name": "python3"
  },
  "language_info": {
   "codemirror_mode": {
    "name": "ipython",
    "version": 3
   },
   "file_extension": ".py",
   "mimetype": "text/x-python",
   "name": "python",
   "nbconvert_exporter": "python",
   "pygments_lexer": "ipython3",
   "version": "3.9.6"
  },
  "papermill": {
   "default_parameters": {},
   "environment_variables": {},
   "parameters": {},
   "version": "2.4.0"
  },
  "widgets": {
   "application/vnd.jupyter.widget-state+json": {
    "state": {},
    "version_major": 2,
    "version_minor": 0
   }
  }
 },
 "nbformat": 4,
 "nbformat_minor": 5
}