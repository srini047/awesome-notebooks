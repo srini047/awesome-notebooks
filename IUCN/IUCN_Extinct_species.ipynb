{
 "cells": [
  {
   "cell_type": "markdown",
   "id": "naas-logo",
   "metadata": {
    "papermill": {},
    "tags": [
     "naas"
    ]
   },
   "source": [
    "<img width=\"10%\" alt=\"Naas\" src=\"https://landen.imgix.net/jtci2pxwjczr/assets/5ice39g4.png?w=160\"/>"
   ]
  },
  {
   "cell_type": "markdown",
   "id": "strong-italian",
   "metadata": {
    "papermill": {},
    "tags": []
   },
   "source": [
    "# IUCN - Extinct species\n",
    "<a href=\"https://app.naas.ai/user-redirect/naas/downloader?url=https://raw.githubusercontent.com/jupyter-naas/awesome-notebooks/master/IUCN/IUCN_Extinct_species.ipynb\" target=\"_parent\"><img src=\"https://naasai-public.s3.eu-west-3.amazonaws.com/Open_in_Naas_Lab.svg\"/></a><br><br><a href=\"https://github.com/jupyter-naas/awesome-notebooks/issues/new?assignees=&labels=&template=template-request.md&title=Tool+-+Action+of+the+notebook+\">Template request</a> | <a href=\"https://github.com/jupyter-naas/awesome-notebooks/issues/new?assignees=&labels=bug&template=bug_report.md&title=IUCN+-+Extinct+species:+Error+short+description\">Bug report</a> | <a href=\"https://app.naas.ai/user-redirect/naas/downloader?url=https://raw.githubusercontent.com/jupyter-naas/awesome-notebooks/master/Naas/Naas_Start_data_product.ipynb\" target=\"_parent\">Generate Data Product</a>"
   ]
  },
  {
   "cell_type": "markdown",
   "id": "d05f7c9d-5d21-4084-9c78-2d8bd3eead7b",
   "metadata": {
    "papermill": {},
    "tags": []
   },
   "source": [
    "**Tags:** #iucn #opendata #extinctspecies #analytics #plotly"
   ]
  },
  {
   "cell_type": "markdown",
   "id": "naas-author",
   "metadata": {
    "papermill": {},
    "tags": [
     "naas"
    ]
   },
   "source": [
    "**Author:** [Martin Delasalle](https://github.com/delasalle-sio-martin)"
   ]
  },
  {
   "cell_type": "markdown",
   "id": "artificial-lesson",
   "metadata": {
    "papermill": {},
    "tags": []
   },
   "source": [
    "Source : https://www.iucnredlist.org/statistics"
   ]
  },
  {
   "cell_type": "markdown",
   "id": "black-brief",
   "metadata": {
    "papermill": {},
    "tags": []
   },
   "source": [
    "If you want another view of the data : Link : https://ourworldindata.org/extinctions"
   ]
  },
  {
   "cell_type": "markdown",
   "id": "identified-score",
   "metadata": {
    "papermill": {},
    "tags": []
   },
   "source": [
    "### History\n",
    "The initial aim was to compare the number of threatened species per species over time (e.g. number of pandas per year).\n",
    "\n",
    "After a lot of research, it turns out that this kind of data is not available or it is only data from one year (2015 or 2018).\n",
    "\n",
    "Therefore, we decided to start another project: Number of threatened species per year, with details by category using data from this site : https://www.iucnredlist.org/resources/summary-statistics#Summary%20Tables\n",
    "\n",
    "So we took the pdf from this site and turned it into a csv.\n",
    "But the data was heavy and not easy to use. Moreover, we thought that this would not necessarily be viable and adaptable over time.\n",
    "\n",
    "So we decided to take another datasource on a similar subject : *Extinct Species*, from this website : https://www.iucnredlist.org/statistics"
   ]
  },
  {
   "cell_type": "markdown",
   "id": "sorted-australian",
   "metadata": {
    "papermill": {},
    "tags": []
   },
   "source": [
    "### Links that we found during the course "
   ]
  },
  {
   "cell_type": "markdown",
   "id": "korean-dictionary",
   "metadata": {
    "execution": {
     "iopub.execute_input": "2021-05-19T09:37:29.224195Z",
     "iopub.status.busy": "2021-05-19T09:37:29.223832Z",
     "iopub.status.idle": "2021-05-19T09:37:29.243671Z",
     "shell.execute_reply": "2021-05-19T09:37:29.242825Z",
     "shell.execute_reply.started": "2021-05-19T09:37:29.224100Z"
    },
    "papermill": {},
    "tags": []
   },
   "source": [
    "- https://donnees.banquemondiale.org/indicator/EN.MAM.THRD.NO (only 2018)"
   ]
  },
  {
   "cell_type": "markdown",
   "id": "vocational-amount",
   "metadata": {
    "papermill": {},
    "tags": []
   },
   "source": [
    "- https://www.eea.europa.eu/data-and-maps/data/european-red-lists-4/european-red-list/european-red-list-csv-files/view (old Dataset, last upload was in 2015)"
   ]
  },
  {
   "cell_type": "markdown",
   "id": "plastic-friendship",
   "metadata": {
    "papermill": {},
    "tags": []
   },
   "source": [
    "- https://www.worldwildlife.org/species/directory?page=2 (the years are not available)"
   ]
  },
  {
   "cell_type": "markdown",
   "id": "little-peripheral",
   "metadata": {
    "papermill": {},
    "tags": []
   },
   "source": [
    "- https://www.worldwildlife.org/pages/conservation-science-data-and-tools (apart from the case)"
   ]
  },
  {
   "cell_type": "markdown",
   "id": "speaking-treasurer",
   "metadata": {
    "papermill": {},
    "tags": []
   },
   "source": [
    "- https://databasin.org/datasets/68635d7c77f1475f9b6c1d1dbe0a4c4c/ (we can't use it)"
   ]
  },
  {
   "cell_type": "markdown",
   "id": "equivalent-warner",
   "metadata": {
    "papermill": {},
    "tags": []
   },
   "source": [
    "- https://gisandscience.com/2009/12/01/download-datasets-from-the-world-wildlife-funds-conservation-science-program/ (no datas about threatened species)"
   ]
  },
  {
   "cell_type": "markdown",
   "id": "willing-marine",
   "metadata": {
    "papermill": {},
    "tags": []
   },
   "source": [
    "- https://data.world/datasets/tiger (only about tigers but there are no datas usefull)"
   ]
  },
  {
   "cell_type": "markdown",
   "id": "limiting-character",
   "metadata": {
    "execution": {
     "iopub.execute_input": "2021-05-19T13:06:44.812599Z",
     "iopub.status.busy": "2021-05-19T13:06:44.812361Z",
     "iopub.status.idle": "2021-05-19T13:06:44.815436Z",
     "shell.execute_reply": "2021-05-19T13:06:44.814755Z",
     "shell.execute_reply.started": "2021-05-19T13:06:44.812577Z"
    },
    "papermill": {},
    "tags": []
   },
   "source": [
    "## Input"
   ]
  },
  {
   "cell_type": "markdown",
   "id": "import_cell",
   "metadata": {
    "papermill": {},
    "tags": []
   },
   "source": [
    "### Import library"
   ]
  },
  {
   "cell_type": "code",
   "execution_count": 1,
   "id": "98440e74-92e7-43f2-88de-bb317fd628da",
   "metadata": {
    "papermill": {},
    "tags": []
   },
   "outputs": [],
   "source": [
    "import pandas as pd\n",
    "import plotly.express as px"
   ]
  },
  {
   "cell_type": "markdown",
   "id": "recreational-freeze",
   "metadata": {
    "papermill": {},
    "tags": []
   },
   "source": [
    "### Setup your variables"
   ]
  },
  {
   "cell_type": "markdown",
   "id": "apart-intersection",
   "metadata": {
    "papermill": {},
    "tags": []
   },
   "source": [
    "👉 Download data in [CSV](https://www.iucnredlist.org/statistics) and drop it on your root folder"
   ]
  },
  {
   "cell_type": "code",
   "execution_count": 2,
   "id": "awful-ceramic",
   "metadata": {
    "papermill": {},
    "tags": []
   },
   "outputs": [],
   "source": [
    "# Input csv\n",
    "csv_input = \"Table 3  Species by kingdom and class - show all.csv\""
   ]
  },
  {
   "cell_type": "markdown",
   "id": "model_cell",
   "metadata": {
    "papermill": {},
    "tags": []
   },
   "source": [
    "## Model"
   ]
  },
  {
   "cell_type": "markdown",
   "id": "4c51b8b1-78f0-4702-a11a-3cb72ce73f6c",
   "metadata": {
    "papermill": {},
    "tags": []
   },
   "source": [
    "### Get data from csv"
   ]
  },
  {
   "cell_type": "code",
   "execution_count": 3,
   "id": "fantastic-coral",
   "metadata": {
    "papermill": {},
    "tags": []
   },
   "outputs": [],
   "source": [
    "# We load the csv file\n",
    "data = pd.read_csv(csv_input, \",\")\n",
    "\n",
    "# We set the column Name as index\n",
    "data.set_index(\"Name\", inplace=True)\n",
    "\n",
    "# Then we select the columns EX, EW and Name, and all the lines we want in the graph\n",
    "table = data.loc[\n",
    "    [\n",
    "        \"Total\",\n",
    "        \"GASTROPODA\",\n",
    "        \"BIVALVIA\",\n",
    "        \"AVES\",\n",
    "        \"MAMMALIA\",\n",
    "        \"ACTINOPTERYGII\",\n",
    "        \"CEPHALASPIDOMORPHI\",\n",
    "        \"INSECTA\",\n",
    "        \"AMPHIBIA\",\n",
    "        \"REPTILIA\",\n",
    "        \"ARACHNIDA\",\n",
    "        \"CLITELLATA\",\n",
    "        \"DIPLOPODA\",\n",
    "        \"ENOPLA\",\n",
    "        \"TURBELLARIA\",\n",
    "        \"MALACOSTRACA\",\n",
    "        \"MAXILLOPODA\",\n",
    "        \"OSTRACODA\",\n",
    "    ],  # add species here\n",
    "    \"EX\":\"EW\",\n",
    "]\n",
    "table"
   ]
  },
  {
   "cell_type": "code",
   "execution_count": 4,
   "id": "mechanical-helen",
   "metadata": {
    "papermill": {},
    "tags": []
   },
   "outputs": [],
   "source": [
    "# We add a new column 'CATEGORY' to our Dataframe\n",
    "table[\"CATEGORY\"] = [\n",
    "    \"Total\",\n",
    "    \"Molluscs\",\n",
    "    \"Molluscs\",\n",
    "    \"Birds\",\n",
    "    \"Mammals\",\n",
    "    \"Fishes\",\n",
    "    \"Fishes\",\n",
    "    \"Insects\",\n",
    "    \"Amphibians\",\n",
    "    \"Reptiles\",\n",
    "    \"Others\",\n",
    "    \"Others\",\n",
    "    \"Others\",\n",
    "    \"Others\",\n",
    "    \"Others\",\n",
    "    \"Crustaceans\",\n",
    "    \"Crustaceans\",\n",
    "    \"Crustaceans\",\n",
    "]\n",
    "table = table.loc[:, [\"CATEGORY\", \"EX\"]]  # we drop the column \"EW\"\n",
    "table\n",
    "# ---NOTE : If you want to add new species, you have to also add his category"
   ]
  },
  {
   "cell_type": "code",
   "execution_count": 5,
   "id": "stock-internet",
   "metadata": {
    "papermill": {},
    "tags": []
   },
   "outputs": [],
   "source": [
    "# We groupby CATEGORIES :\n",
    "table.reset_index(drop=True, inplace=True)\n",
    "table = table.groupby([\"CATEGORY\"]).sum().reset_index()\n",
    "table.rename(columns={\"EX\": \"Extincted\"}, inplace=True)\n",
    "table"
   ]
  },
  {
   "cell_type": "markdown",
   "id": "unauthorized-kinase",
   "metadata": {
    "execution": {
     "iopub.execute_input": "2021-05-19T13:08:07.196366Z",
     "iopub.status.busy": "2021-05-19T13:08:07.196091Z",
     "iopub.status.idle": "2021-05-19T13:08:07.198948Z",
     "shell.execute_reply": "2021-05-19T13:08:07.198335Z",
     "shell.execute_reply.started": "2021-05-19T13:08:07.196340Z"
    },
    "papermill": {},
    "tags": []
   },
   "source": [
    "## Output"
   ]
  },
  {
   "cell_type": "markdown",
   "id": "measured-removal",
   "metadata": {
    "papermill": {},
    "tags": []
   },
   "source": [
    "### Plot graph"
   ]
  },
  {
   "cell_type": "code",
   "execution_count": 6,
   "id": "ideal-western",
   "metadata": {
    "papermill": {},
    "tags": []
   },
   "outputs": [],
   "source": [
    "# We use plotly to show datas with an horizontal bar chart\n",
    "def create_barchart(table):\n",
    "    Graph = table.sort_values(\"Extincted\", ascending=False)\n",
    "    fig = px.bar(Graph, x=\"Extincted\", y=\"CATEGORY\", color=\"CATEGORY\", orientation=\"h\")\n",
    "    fig.update_layout(\n",
    "        title_text=\"Number of species that have gone extinct since 1500\", title_x=0.5\n",
    "    )\n",
    "    fig.add_annotation(\n",
    "        x=800,\n",
    "        y=0,\n",
    "        text=\"Source : IUCN Red List of Threatened Species<br>https://www.iucnredlist.org/statistics\",\n",
    "        showarrow=False,\n",
    "    )\n",
    "    fig.show()\n",
    "    return fig\n",
    "\n",
    "\n",
    "fig = create_barchart(table)"
   ]
  },
  {
   "cell_type": "code",
   "execution_count": null,
   "id": "3d6a4e66-1aa1-4826-b6c0-c25b3b39d6bc",
   "metadata": {
    "papermill": {},
    "tags": []
   },
   "outputs": [],
   "source": []
  }
 ],
 "metadata": {
  "kernelspec": {
   "display_name": "Python 3",
   "language": "python",
   "name": "python3"
  },
  "language_info": {
   "codemirror_mode": {
    "name": "ipython",
    "version": 3
   },
   "file_extension": ".py",
   "mimetype": "text/x-python",
   "name": "python",
   "nbconvert_exporter": "python",
   "pygments_lexer": "ipython3",
   "version": "3.9.6"
  },
  "naas": {
   "notebook_id": "2b6a8399ba0ec449ff89d9613b7c9dbefa5e8eb4c3baf8b472fdbdb7847e2b43",
   "notebook_path": "IUCN/IUCN_Extinct_species.ipynb"
  },
  "papermill": {
   "default_parameters": {},
   "environment_variables": {},
   "parameters": {},
   "version": "2.3.3"
  }
 },
 "nbformat": 4,
 "nbformat_minor": 5
}