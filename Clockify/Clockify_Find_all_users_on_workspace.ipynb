{
 "cells": [
  {
   "cell_type": "markdown",
   "id": "64a712e2-3a3e-49a7-aad8-727cfc40136b",
   "metadata": {
    "papermill": {},
    "tags": []
   },
   "source": [
    "<img width=\"10%\" alt=\"Naas\" src=\"https://landen.imgix.net/jtci2pxwjczr/assets/5ice39g4.png?w=160\"/>"
   ]
  },
  {
   "cell_type": "markdown",
   "id": "47714bfa-ccf6-40eb-91a1-00a3f069ab37",
   "metadata": {
    "papermill": {},
    "tags": []
   },
   "source": [
    "# Clockify - Find all users on workspace\n",
    "<a href=\"https://app.naas.ai/user-redirect/naas/downloader?url=https://raw.githubusercontent.com/jupyter-naas/awesome-notebooks/master/Clockify/Clockify_Find_all_users_on_workspace.ipynb\" target=\"_parent\"><img src=\"https://naasai-public.s3.eu-west-3.amazonaws.com/Open_in_Naas_Lab.svg\"/></a><br><br><a href=\"https://github.com/jupyter-naas/awesome-notebooks/issues/new?assignees=&labels=&template=template-request.md&title=Tool+-+Action+of+the+notebook+\">Template request</a> | <a href=\"https://github.com/jupyter-naas/awesome-notebooks/issues/new?assignees=&labels=bug&template=bug_report.md&title=Clockify+-+Find+all+users+on+workspace:+Error+short+description\">Bug report</a> | <a href=\"https://app.naas.ai/user-redirect/naas/downloader?url=https://raw.githubusercontent.com/jupyter-naas/awesome-notebooks/master/Naas/Naas_Start_data_product.ipynb\" target=\"_parent\">Generate Data Product</a>"
   ]
  },
  {
   "cell_type": "markdown",
   "id": "13012d74-9229-4900-bda7-a86aebbd727e",
   "metadata": {
    "papermill": {},
    "tags": []
   },
   "source": [
    "**Tags:** #clockify #workspace #users #find #api #python"
   ]
  },
  {
   "cell_type": "markdown",
   "id": "1e2c22ec-84b3-49da-b105-a761a87ff449",
   "metadata": {
    "papermill": {},
    "tags": []
   },
   "source": [
    "**Author:** [Florent Ravenel](https://www.linkedin.com/in/florent-ravenel/)"
   ]
  },
  {
   "cell_type": "markdown",
   "id": "43c7a52a-6f0f-486f-9533-c3508df123e2",
   "metadata": {
    "papermill": {},
    "tags": []
   },
   "source": [
    "**Description:** This notebook will show how to find all users on a workspace using Clockify API.\n",
    "It will return a dataframe with columns as follow:\n",
    "- id: This column stores an identifier or unique identifier associated with a user. It likely contains alphanumeric values that uniquely identify each user in the DataFrame.\n",
    "- email: This column stores the email addresses associated with the users in the DataFrame. It likely contains text values representing the email addresses of the users.\n",
    "- name: This column stores the names or titles associated with the users in the DataFrame. It likely contains text values representing the names of the users.\n",
    "- memberships: This column represents the memberships or group affiliations of the users. It likely contains a list or nested data structure that indicates the groups or memberships the users belong to.\n",
    "- profilePicture: This column stores the URLs or paths to the profile pictures of the users. It likely contains text values representing the image URLs or file paths.\n",
    "- activeWorkspace: This column represents the identifier or unique identifier of the active workspace for each user. It likely contains alphanumeric values that uniquely identify the active workspace.\n",
    "- defaultWorkspace: This column stores the identifier or unique identifier of the default workspace for each user. It likely contains alphanumeric values that uniquely identify the default workspace.\n",
    "- settings: This column stores user-specific settings or configurations. It likely contains nested data structures or dictionaries that hold various settings related to the user, such as the week start day and timezone.\n",
    "- status: This column indicates the status of the users, whether they are active or inactive. It likely contains text values such as \"ACTIVE\" or \"INACTIVE\".\n",
    "- customFields: This column stores custom fields or additional information specific to each user. It may contain nested data structures or lists that hold user-specific custom field values."
   ]
  },
  {
   "cell_type": "markdown",
   "id": "ab6f0b5e-761f-47fb-adfd-263e1b7ff297",
   "metadata": {
    "papermill": {},
    "tags": []
   },
   "source": [
    "**References:**\n",
    "- [Clockify API Documentation](https://docs.clockify.me/#tag/User/operation/getUsersOfWorkspace)"
   ]
  },
  {
   "cell_type": "markdown",
   "id": "f315e972-7157-4d31-a4fa-62eb14171da2",
   "metadata": {
    "papermill": {},
    "tags": []
   },
   "source": [
    "## Input"
   ]
  },
  {
   "cell_type": "markdown",
   "id": "2431a252-74cd-4c9b-9207-d1166eaff812",
   "metadata": {
    "papermill": {},
    "tags": []
   },
   "source": [
    "### Import libraries"
   ]
  },
  {
   "cell_type": "code",
   "execution_count": 5,
   "id": "2426b064-548f-4993-a793-a7432eccb2c6",
   "metadata": {
    "papermill": {},
    "tags": []
   },
   "outputs": [],
   "source": [
    "import requests\n",
    "import naas\n",
    "import pandas as pd"
   ]
  },
  {
   "cell_type": "markdown",
   "id": "84c8eda1-9e72-44b4-8dc3-41e89d610caf",
   "metadata": {
    "papermill": {},
    "tags": []
   },
   "source": [
    "### Setup Variables\n",
    "- `api_key`: [Get your API key](https://clockify.me/user/settings)\n",
    "- `workspace_id`: ID of the workspace"
   ]
  },
  {
   "cell_type": "code",
   "execution_count": 2,
   "id": "286c4eb2-07e0-4956-be19-41cf3809a5ad",
   "metadata": {
    "papermill": {},
    "tags": []
   },
   "outputs": [],
   "source": [
    "api_key = naas.secret.get(\"CLOCKIFY_API_KEY\") or \"YOUR_API_KEY\"\n",
    "workspace_id = \"626f9e3b36c2670314c0386e\" #\"<WORKSPACE_ID>\""
   ]
  },
  {
   "cell_type": "markdown",
   "id": "5e9cddb7-feb7-4e56-a09b-77f62972e310",
   "metadata": {
    "papermill": {},
    "tags": []
   },
   "source": [
    "## Model"
   ]
  },
  {
   "cell_type": "markdown",
   "id": "f0433a41-f108-4c37-939f-d4a38045c7c3",
   "metadata": {
    "papermill": {},
    "tags": []
   },
   "source": [
    "### Get all users from workspace"
   ]
  },
  {
   "cell_type": "markdown",
   "id": "e7279bab-d1c7-497a-8c3d-e3230efd6a9e",
   "metadata": {
    "papermill": {},
    "tags": []
   },
   "source": [
    "This function will get all users from a workspace using Clockify API."
   ]
  },
  {
   "cell_type": "code",
   "execution_count": 3,
   "id": "74043bc1-d8f7-4ba9-a948-67228e5c8fd8",
   "metadata": {
    "papermill": {},
    "tags": []
   },
   "outputs": [],
   "source": [
    "def get_users_from_workspace(workspace_id, api_key):\n",
    "    url = f\"https://api.clockify.me/api/v1/workspaces/{workspace_id}/users\"\n",
    "    headers = {\"X-Api-Key\": api_key}\n",
    "    response = requests.get(url, headers=headers)\n",
    "    return response.json()\n",
    "\n",
    "users = get_users_from_workspace(workspace_id, api_key)"
   ]
  },
  {
   "cell_type": "markdown",
   "id": "1d8a36fc-7893-4798-9107-bba582556b84",
   "metadata": {
    "papermill": {},
    "tags": []
   },
   "source": [
    "## Output"
   ]
  },
  {
   "cell_type": "markdown",
   "id": "15bc5626-9c1b-4860-a56f-c17d4fe1cbfd",
   "metadata": {
    "papermill": {},
    "tags": []
   },
   "source": [
    "### Display result"
   ]
  },
  {
   "cell_type": "code",
   "execution_count": 6,
   "id": "a7f9a09c-90d4-4b33-bc81-217ffd68ef71",
   "metadata": {
    "papermill": {},
    "tags": []
   },
   "outputs": [],
   "source": [
    "print(\"Users found:\", len(users), \"\\n\")\n",
    "for user in users:\n",
    "    print(\"-\", user[\"name\"], f'(id: {user[\"id\"]})')\n",
    "    \n",
    "df = pd.DataFrame(users)\n",
    "df"
   ]
  }
 ],
 "metadata": {
  "kernelspec": {
   "display_name": "Python 3",
   "language": "python",
   "name": "python3"
  },
  "language_info": {
   "codemirror_mode": {
    "name": "ipython",
    "version": 3
   },
   "file_extension": ".py",
   "mimetype": "text/x-python",
   "name": "python",
   "nbconvert_exporter": "python",
   "pygments_lexer": "ipython3",
   "version": "3.9.6"
  },
  "naas": {
   "notebook_id": "889fc1d9060a7d6797b56f68349eabd2bedb1e4e9627fcb1ebac0236ceca3330",
   "notebook_path": "Clockify/Clockify_Find_all_users_on_workspace.ipynb"
  },
  "papermill": {
   "default_parameters": {},
   "environment_variables": {},
   "parameters": {},
   "version": "2.4.0"
  },
  "widgets": {
   "application/vnd.jupyter.widget-state+json": {
    "state": {},
    "version_major": 2,
    "version_minor": 0
   }
  }
 },
 "nbformat": 4,
 "nbformat_minor": 5
}