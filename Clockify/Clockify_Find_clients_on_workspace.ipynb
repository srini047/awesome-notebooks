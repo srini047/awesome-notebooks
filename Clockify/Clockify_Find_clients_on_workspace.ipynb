{
 "cells": [
  {
   "cell_type": "markdown",
   "id": "990b03ba-258b-4e22-ba2d-d6cf82aeedcc",
   "metadata": {
    "papermill": {},
    "tags": []
   },
   "source": [
    "<img width=\"10%\" alt=\"Naas\" src=\"https://landen.imgix.net/jtci2pxwjczr/assets/5ice39g4.png?w=160\"/>"
   ]
  },
  {
   "cell_type": "markdown",
   "id": "017dac64-ffdd-48df-ac1a-31757a5bbaed",
   "metadata": {
    "papermill": {},
    "tags": []
   },
   "source": [
    "# Clockify - Find clients on workspace\n",
    "<a href=\"https://app.naas.ai/user-redirect/naas/downloader?url=https://raw.githubusercontent.com/jupyter-naas/awesome-notebooks/master/Clockify/Clockify_Find_clients_on_workspace.ipynb\" target=\"_parent\"><img src=\"https://naasai-public.s3.eu-west-3.amazonaws.com/Open_in_Naas_Lab.svg\"/></a><br><br><a href=\"https://github.com/jupyter-naas/awesome-notebooks/issues/new?assignees=&labels=&template=template-request.md&title=Tool+-+Action+of+the+notebook+\">Template request</a> | <a href=\"https://github.com/jupyter-naas/awesome-notebooks/issues/new?assignees=&labels=bug&template=bug_report.md&title=Clockify+-+Find+clients+on+workspace:+Error+short+description\">Bug report</a> | <a href=\"https://app.naas.ai/user-redirect/naas/downloader?url=https://raw.githubusercontent.com/jupyter-naas/awesome-notebooks/master/Naas/Naas_Start_data_product.ipynb\" target=\"_parent\">Generate Data Product</a>"
   ]
  },
  {
   "cell_type": "markdown",
   "id": "86b5c6d0-fa98-4823-ade5-fb031b33e822",
   "metadata": {
    "papermill": {},
    "tags": []
   },
   "source": [
    "**Tags:** #clockify #workspace #client #api #python #find"
   ]
  },
  {
   "cell_type": "markdown",
   "id": "198beb35-fc87-4130-8da0-3dcb395a1b0c",
   "metadata": {
    "papermill": {},
    "tags": []
   },
   "source": [
    "**Author:** [Florent Ravenel](https://www.linkedin.com/in/florent-ravenel/)"
   ]
  },
  {
   "cell_type": "markdown",
   "id": "bfebcc8c-6d4b-4901-b6bd-33a280590d5c",
   "metadata": {
    "papermill": {},
    "tags": []
   },
   "source": [
    "**Description:** This notebook will show how to find clients on a workspace using the Clockify API. It will return a dataframe with columns as follow:\n",
    "- id: This column represents an identifier or unique identifier associated with a record or entity. It contains alphanumeric values that uniquely identify each row in the DataFrame.\n",
    "- name: This column stores the name or title associated with a particular record or entity. It likely contains text values representing the name of a person, object, or entity.\n",
    "- email: This column stores email addresses associated with the records in the DataFrame. It likely contains text values representing the email addresses of individuals or entities.\n",
    "- workspaceId: This column represents an identifier or unique identifier associated with a workspace. It likely contains alphanumeric values that uniquely identify each workspace.\n",
    "- archived: This column indicates whether a record or entity is archived or not. It likely contains boolean values (True or False), with True indicating that the record is archived and False indicating that it is not.\n",
    "- address: This column stores addresses associated with the records in the DataFrame. It likely contains text values representing physical or postal addresses.\n",
    "- note: This column stores additional notes or comments related to the records in the DataFrame. It may contain text values providing extra information or details about a particular record or entity."
   ]
  },
  {
   "cell_type": "markdown",
   "id": "dc0eb1d1-c41c-45dd-8006-8f347959b108",
   "metadata": {
    "papermill": {},
    "tags": []
   },
   "source": [
    "**References:**\n",
    "- [Clockify API Documentation](https://docs.clockify.me/#tag/Client/operation/getClients)\n",
    "- [Clockify API Client Libraries](https://clockify.github.io/clockify_client_libraries/)"
   ]
  },
  {
   "cell_type": "markdown",
   "id": "f310bf6d-bdb9-4c44-a8f5-2d95de5cea6d",
   "metadata": {
    "papermill": {},
    "tags": []
   },
   "source": [
    "## Input"
   ]
  },
  {
   "cell_type": "markdown",
   "id": "b4a4fbd7-188b-422d-aea4-18f0ffa34530",
   "metadata": {
    "papermill": {},
    "tags": []
   },
   "source": [
    "### Import libraries"
   ]
  },
  {
   "cell_type": "code",
   "execution_count": null,
   "id": "dde4e830-81ea-4c81-ac23-71c47167969d",
   "metadata": {
    "papermill": {},
    "tags": []
   },
   "outputs": [],
   "source": [
    "import requests\n",
    "import naas\n",
    "import pandas as pd"
   ]
  },
  {
   "cell_type": "markdown",
   "id": "717fe79a-bd99-4d9e-a5da-e7d47755ec72",
   "metadata": {
    "papermill": {},
    "tags": []
   },
   "source": [
    "### Setup Variables\n",
    "- `api_key`: [Get your API key](https://clockify.me/user/settings)\n",
    "- `workspace_id`: ID of the workspace"
   ]
  },
  {
   "cell_type": "code",
   "execution_count": null,
   "id": "4a51709c-d47d-4561-9847-fa30f3a455b8",
   "metadata": {
    "papermill": {},
    "tags": []
   },
   "outputs": [],
   "source": [
    "api_key = naas.secret.get(\"CLOCKIFY_API_KEY\") or \"YOUR_API_KEY\"\n",
    "workspace_id = \"626f9e3b36c2670314c0386e\" #\"<WORKSPACE_ID>\""
   ]
  },
  {
   "cell_type": "markdown",
   "id": "1819400b-7be4-4bce-a6c3-31acc9df0d5b",
   "metadata": {
    "papermill": {},
    "tags": []
   },
   "source": [
    "## Model"
   ]
  },
  {
   "cell_type": "markdown",
   "id": "3209839e-af33-4306-ac86-4caed5075c82",
   "metadata": {
    "papermill": {},
    "tags": []
   },
   "source": [
    "### Find clients on workspace"
   ]
  },
  {
   "cell_type": "markdown",
   "id": "b98aff2a-9eb5-48bc-8f2f-d147cba3c871",
   "metadata": {
    "papermill": {},
    "tags": []
   },
   "source": [
    "This function will use the Clockify API to find clients on a workspace."
   ]
  },
  {
   "cell_type": "code",
   "execution_count": null,
   "id": "51fa89d0-b9dc-409b-8ae8-714a7fb69e7f",
   "metadata": {
    "papermill": {},
    "tags": []
   },
   "outputs": [],
   "source": [
    "def find_clients_on_workspace(workspace_id, api_key):\n",
    "    # Set the request URL\n",
    "    url = f\"https://api.clockify.me/api/v1/workspaces/{workspace_id}/clients\"\n",
    "    # Set the request headers\n",
    "    headers = {\"X-Api-Key\": api_key}\n",
    "    # Make the request\n",
    "    response = requests.get(url, headers=headers)\n",
    "    # Return the response\n",
    "    return response.json()\n",
    "\n",
    "# Find clients on workspace\n",
    "clients = find_clients_on_workspace(workspace_id, api_key)"
   ]
  },
  {
   "cell_type": "markdown",
   "id": "075f2eb0-699a-408c-a762-978911731ba0",
   "metadata": {
    "papermill": {},
    "tags": []
   },
   "source": [
    "## Output"
   ]
  },
  {
   "cell_type": "markdown",
   "id": "10329647-571b-460a-912e-49653d0532e6",
   "metadata": {
    "papermill": {},
    "tags": []
   },
   "source": [
    "### Display result"
   ]
  },
  {
   "cell_type": "code",
   "execution_count": null,
   "id": "36ec4dd1-03f7-47be-92c1-4459e8cd0b3a",
   "metadata": {
    "papermill": {},
    "tags": []
   },
   "outputs": [],
   "source": [
    "print(\"Clients found:\", len(clients), \"\\n\")\n",
    "for client in clients:\n",
    "    print(\"-\", client[\"name\"], f'(id: {client[\"id\"]})')\n",
    "\n",
    "df = pd.DataFrame(clients)\n",
    "df"
   ]
  },
  {
   "cell_type": "markdown",
   "id": "83920146-43d1-4a0b-80dd-9354e491c173",
   "metadata": {
    "papermill": {},
    "tags": []
   },
   "source": [
    " "
   ]
  }
 ],
 "metadata": {
  "kernelspec": {
   "display_name": "Python 3",
   "language": "python",
   "name": "python3"
  },
  "language_info": {
   "codemirror_mode": {
    "name": "ipython",
    "version": 3
   },
   "file_extension": ".py",
   "mimetype": "text/x-python",
   "name": "python",
   "nbconvert_exporter": "python",
   "pygments_lexer": "ipython3",
   "version": "3.9.6"
  },
  "naas": {
   "notebook_id": "27f82b7d0a5b14067a0ddf876dab8649394f189567eecf8a87d260783e7b44d8",
   "notebook_path": "Clockify/Clockify_Find_clients_on_workspace.ipynb"
  },
  "papermill": {
   "default_parameters": {},
   "environment_variables": {},
   "parameters": {},
   "version": "2.4.0"
  },
  "widgets": {
   "application/vnd.jupyter.widget-state+json": {
    "state": {},
    "version_major": 2,
    "version_minor": 0
   }
  }
 },
 "nbformat": 4,
 "nbformat_minor": 5
}