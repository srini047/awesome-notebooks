{
 "cells": [
  {
   "cell_type": "markdown",
   "id": "742717e2-f5bc-444e-8619-8a3a4f1ad120",
   "metadata": {
    "papermill": {},
    "tags": []
   },
   "source": [
    "<img width=\"10%\" alt=\"Naas\" src=\"https://landen.imgix.net/jtci2pxwjczr/assets/5ice39g4.png?w=160\"/>"
   ]
  },
  {
   "cell_type": "markdown",
   "id": "13f76b21-c823-4736-9f03-ccfda5630a1d",
   "metadata": {
    "papermill": {},
    "tags": []
   },
   "source": [
    "# Clockify - Get all projects on workspace\n",
    "<a href=\"https://app.naas.ai/user-redirect/naas/downloader?url=https://raw.githubusercontent.com/jupyter-naas/awesome-notebooks/master/Clockify/Clockify_Get_all_projects_on_workspace.ipynb\" target=\"_parent\"><img src=\"https://naasai-public.s3.eu-west-3.amazonaws.com/Open_in_Naas_Lab.svg\"/></a><br><br><a href=\"https://github.com/jupyter-naas/awesome-notebooks/issues/new?assignees=&labels=&template=template-request.md&title=Tool+-+Action+of+the+notebook+\">Template request</a> | <a href=\"https://github.com/jupyter-naas/awesome-notebooks/issues/new?assignees=&labels=bug&template=bug_report.md&title=Clockify+-+Get+all+projects+on+workspace:+Error+short+description\">Bug report</a> | <a href=\"https://app.naas.ai/user-redirect/naas/downloader?url=https://raw.githubusercontent.com/jupyter-naas/awesome-notebooks/master/Naas/Naas_Start_data_product.ipynb\" target=\"_parent\">Generate Data Product</a>"
   ]
  },
  {
   "cell_type": "markdown",
   "id": "52388c8c-99a5-4e7b-8d17-1570b14dbb9a",
   "metadata": {
    "papermill": {},
    "tags": []
   },
   "source": [
    "**Tags:** #clockify #api #projects #workspace #get #python"
   ]
  },
  {
   "cell_type": "markdown",
   "id": "0cc286a3-fab5-41da-a30a-de942c8bb52c",
   "metadata": {
    "papermill": {},
    "tags": []
   },
   "source": [
    "**Author:** [Florent Ravenel](http://linkedin.com/in/florent-ravenel)"
   ]
  },
  {
   "cell_type": "markdown",
   "id": "6178e577-7796-436b-9b86-8761484a421c",
   "metadata": {
    "papermill": {},
    "tags": []
   },
   "source": [
    "**Description:** This notebook will show how to get all projects on a workspace using the Clockify API and return a dict."
   ]
  },
  {
   "cell_type": "markdown",
   "id": "28017f82-948a-438d-af3d-63926d3a4357",
   "metadata": {
    "papermill": {},
    "tags": []
   },
   "source": [
    "**References:**\n",
    "- [Clockify API Documentation](https://docs.clockify.me/#tag/Project/operation/getProjects)"
   ]
  },
  {
   "cell_type": "markdown",
   "id": "44310b5f-dffc-42b7-bbaf-9c69f4ff653f",
   "metadata": {
    "papermill": {},
    "tags": []
   },
   "source": [
    "## Input"
   ]
  },
  {
   "cell_type": "markdown",
   "id": "0cfc2aa1-7059-4b34-9f14-d9651c4b4563",
   "metadata": {
    "papermill": {},
    "tags": []
   },
   "source": [
    "### Import libraries"
   ]
  },
  {
   "cell_type": "code",
   "execution_count": null,
   "id": "49e7a169-4bff-473c-b0c1-4c93b049cefa",
   "metadata": {
    "papermill": {},
    "tags": []
   },
   "outputs": [],
   "source": [
    "import requests\n",
    "import naas\n",
    "from pprint import pprint"
   ]
  },
  {
   "cell_type": "markdown",
   "id": "ea340388-3f02-4312-bd64-b052ed6c68b5",
   "metadata": {
    "papermill": {},
    "tags": []
   },
   "source": [
    "### Setup Variables\n",
    "- `api_key`: [Get your API key](https://clockify.me/user/settings)\n",
    "- `workspace_id`: ID of the workspace"
   ]
  },
  {
   "cell_type": "code",
   "execution_count": null,
   "id": "d4d9851c-be04-4a59-bd15-f25e9bbbe71b",
   "metadata": {
    "papermill": {},
    "tags": []
   },
   "outputs": [],
   "source": [
    "api_key = naas.secret.get(\"CLOCKIFY_API_KEY\") or \"YOUR_API_KEY\"\n",
    "workspace_id = \"626f9e3b36c2670314c0386e\" #\"<WORKSPACE_ID>\""
   ]
  },
  {
   "cell_type": "markdown",
   "id": "4441d7ad-007d-418b-a89b-06d1454ca5ee",
   "metadata": {
    "papermill": {},
    "tags": []
   },
   "source": [
    "## Model"
   ]
  },
  {
   "cell_type": "markdown",
   "id": "0625355d-b900-4840-85ed-67477f8e615f",
   "metadata": {
    "papermill": {},
    "tags": []
   },
   "source": [
    "### Get all projects on workspace"
   ]
  },
  {
   "cell_type": "markdown",
   "id": "f077352f-3bea-401b-9c2e-ee5d205054ae",
   "metadata": {
    "papermill": {},
    "tags": []
   },
   "source": [
    "This function will get all projects on a workspace using the Clockify API."
   ]
  },
  {
   "cell_type": "code",
   "execution_count": null,
   "id": "c8b20332-1611-422b-8f84-37bf1b4144ce",
   "metadata": {
    "papermill": {},
    "tags": []
   },
   "outputs": [],
   "source": [
    "def get_projects(api_key, workspace_id):\n",
    "    url = f\"https://api.clockify.me/api/v1/workspaces/{workspace_id}/projects\"\n",
    "    headers = {\"X-Api-Key\": api_key}\n",
    "    response = requests.get(url, headers=headers)\n",
    "    return response.json()\n",
    "\n",
    "projects = get_projects(api_key, workspace_id)"
   ]
  },
  {
   "cell_type": "markdown",
   "id": "2d0fbe59-ace3-4270-8a1a-0f5adbfb9ebf",
   "metadata": {
    "papermill": {},
    "tags": []
   },
   "source": [
    "## Output"
   ]
  },
  {
   "cell_type": "markdown",
   "id": "7ecef857-661a-480c-855a-3e468b658f91",
   "metadata": {
    "papermill": {},
    "tags": []
   },
   "source": [
    "### Display result"
   ]
  },
  {
   "cell_type": "code",
   "execution_count": null,
   "id": "0b96033c-7b95-4776-a9d1-790741cd0804",
   "metadata": {
    "papermill": {},
    "tags": []
   },
   "outputs": [],
   "source": [
    "print(\"Projects found:\", len(projects), \"\\n\")\n",
    "for project in projects:\n",
    "    print(\"-\", project[\"name\"], f'(id: {project[\"id\"]})')\n",
    "if len(projects) > 0:\n",
    "    print()\n",
    "    pprint(projects[0])"
   ]
  },
  {
   "cell_type": "markdown",
   "id": "5d1800ce-e1c8-46b9-87be-0775461e4069",
   "metadata": {
    "papermill": {},
    "tags": []
   },
   "source": [
    " "
   ]
  }
 ],
 "metadata": {
  "kernelspec": {
   "display_name": "Python 3",
   "language": "python",
   "name": "python3"
  },
  "language_info": {
   "codemirror_mode": {
    "name": "ipython",
    "version": 3
   },
   "file_extension": ".py",
   "mimetype": "text/x-python",
   "name": "python",
   "nbconvert_exporter": "python",
   "pygments_lexer": "ipython3",
   "version": "3.9.6"
  },
  "naas": {
   "notebook_id": "26994336a93d1f5c9ce8b985beda6b15c3739af1bb21802a977f33b5083da2a5",
   "notebook_path": "Clockify/Clockify_Get_all_projects_on_workspace.ipynb"
  },
  "papermill": {
   "default_parameters": {},
   "environment_variables": {},
   "parameters": {},
   "version": "2.4.0"
  },
  "widgets": {
   "application/vnd.jupyter.widget-state+json": {
    "state": {},
    "version_major": 2,
    "version_minor": 0
   }
  }
 },
 "nbformat": 4,
 "nbformat_minor": 5
}