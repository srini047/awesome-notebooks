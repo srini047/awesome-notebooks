{
 "cells": [
  {
   "cell_type": "markdown",
   "id": "9fb0af28-c278-4b7c-ad96-e55d0a33d821",
   "metadata": {
    "papermill": {},
    "tags": []
   },
   "source": [
    "<img width=\"10%\" alt=\"Naas\" src=\"https://landen.imgix.net/jtci2pxwjczr/assets/5ice39g4.png?w=160\"/>"
   ]
  },
  {
   "cell_type": "markdown",
   "id": "eee62749-6f32-45bd-8d6f-d1d308237b64",
   "metadata": {
    "papermill": {},
    "tags": []
   },
   "source": [
    "# Clockify - Get all my workspaces\n",
    "<a href=\"https://app.naas.ai/user-redirect/naas/downloader?url=https://raw.githubusercontent.com/jupyter-naas/awesome-notebooks/master/Clockify/Clockify_Get_all_my_workspaces.ipynb\" target=\"_parent\"><img src=\"https://naasai-public.s3.eu-west-3.amazonaws.com/Open_in_Naas_Lab.svg\"/></a><br><br><a href=\"https://github.com/jupyter-naas/awesome-notebooks/issues/new?assignees=&labels=&template=template-request.md&title=Tool+-+Action+of+the+notebook+\">Template request</a> | <a href=\"https://github.com/jupyter-naas/awesome-notebooks/issues/new?assignees=&labels=bug&template=bug_report.md&title=Clockify+-+Get+all+my+workspaces:+Error+short+description\">Bug report</a> | <a href=\"https://app.naas.ai/user-redirect/naas/downloader?url=https://raw.githubusercontent.com/jupyter-naas/awesome-notebooks/master/Naas/Naas_Start_data_product.ipynb\" target=\"_parent\">Generate Data Product</a>"
   ]
  },
  {
   "cell_type": "markdown",
   "id": "84c858d8-2827-4e84-b83a-24854af67b35",
   "metadata": {
    "papermill": {},
    "tags": []
   },
   "source": [
    "**Tags:** #clockify #api #workspace #get #python #rest"
   ]
  },
  {
   "cell_type": "markdown",
   "id": "a3ba0ec2-00cc-457d-8430-b49e1ec3fd5e",
   "metadata": {
    "papermill": {},
    "tags": []
   },
   "source": [
    "**Author:** [Florent Ravenel](http://linkedin.com/in/florent-ravenel)"
   ]
  },
  {
   "cell_type": "markdown",
   "id": "1c6e9983-cdf2-400c-9225-fa307a500d7e",
   "metadata": {
    "papermill": {},
    "tags": []
   },
   "source": [
    "**Description:** This notebook will show how to get all workspaces of a user using the Clockify API and return a dict."
   ]
  },
  {
   "cell_type": "markdown",
   "id": "2161ec2f-021d-4dda-8d5e-278b49812a7f",
   "metadata": {
    "papermill": {},
    "tags": []
   },
   "source": [
    "**References:**\n",
    "- [Clockify API Documentation](https://docs.clockify.me/#tag/Workspace/operation/getWorkspacesOfUser)"
   ]
  },
  {
   "cell_type": "markdown",
   "id": "0b77496a-c753-4e1f-817b-5cf8c3bea409",
   "metadata": {
    "papermill": {},
    "tags": []
   },
   "source": [
    "## Input"
   ]
  },
  {
   "cell_type": "markdown",
   "id": "26035896-b02d-4539-853e-f99bbdee7c2a",
   "metadata": {
    "papermill": {},
    "tags": []
   },
   "source": [
    "### Import libraries"
   ]
  },
  {
   "cell_type": "code",
   "execution_count": null,
   "id": "f001936a-7ca2-46ff-8add-6be7575d1852",
   "metadata": {
    "papermill": {},
    "tags": []
   },
   "outputs": [],
   "source": [
    "import requests\n",
    "import naas\n",
    "from pprint import pprint"
   ]
  },
  {
   "cell_type": "markdown",
   "id": "732021a4-222e-45b6-94e9-f06d01fe83fa",
   "metadata": {
    "papermill": {},
    "tags": []
   },
   "source": [
    "### Setup Variables\n",
    "- `api_key`: [Get your API key](https://clockify.me/user/settings)"
   ]
  },
  {
   "cell_type": "code",
   "execution_count": null,
   "id": "4e179704-21ce-447f-8dd4-6b8db59cf853",
   "metadata": {
    "papermill": {},
    "tags": []
   },
   "outputs": [],
   "source": [
    "api_key = naas.secret.get(\"CLOCKIFY_API_KEY\") or \"YOUR_API_KEY\""
   ]
  },
  {
   "cell_type": "markdown",
   "id": "4c76d821-bad9-4926-960a-ba8550062bbe",
   "metadata": {
    "papermill": {},
    "tags": []
   },
   "source": [
    "## Model"
   ]
  },
  {
   "cell_type": "markdown",
   "id": "3e2530ef-5c50-453f-9d02-3212db4a15c6",
   "metadata": {
    "papermill": {},
    "tags": []
   },
   "source": [
    "### Get all workspaces"
   ]
  },
  {
   "cell_type": "markdown",
   "id": "f41571bc-15e6-4312-8a87-81f6379b9d50",
   "metadata": {
    "papermill": {},
    "tags": []
   },
   "source": [
    "This function will get all workspaces of a user using the Clockify API."
   ]
  },
  {
   "cell_type": "code",
   "execution_count": null,
   "id": "4a7546e2-2afe-485f-bc7a-0e46661f2aa5",
   "metadata": {
    "papermill": {},
    "tags": []
   },
   "outputs": [],
   "source": [
    "def get_workspaces(api_key):\n",
    "    url = \"https://api.clockify.me/api/workspaces\"\n",
    "    headers = {\"X-Api-Key\": api_key}\n",
    "    response = requests.get(url, headers=headers)\n",
    "    return response.json()\n",
    "\n",
    "workspaces = get_workspaces(api_key)"
   ]
  },
  {
   "cell_type": "markdown",
   "id": "ed646c7f-d744-4cc8-8333-a1bf244692f5",
   "metadata": {
    "papermill": {},
    "tags": []
   },
   "source": [
    "## Output"
   ]
  },
  {
   "cell_type": "markdown",
   "id": "ec70ab9e-1eb4-445b-b2f6-1e307f104b70",
   "metadata": {
    "papermill": {},
    "tags": []
   },
   "source": [
    "### Display result"
   ]
  },
  {
   "cell_type": "code",
   "execution_count": null,
   "id": "26540492-0387-4985-ac24-b3f573f5e2da",
   "metadata": {
    "papermill": {},
    "tags": []
   },
   "outputs": [],
   "source": [
    "print(\"Workspaces found:\", len(workspaces), \"\\n\")\n",
    "pprint(workspaces)"
   ]
  },
  {
   "cell_type": "markdown",
   "id": "c7f16a4b-f3aa-406a-ada5-629199af7d1b",
   "metadata": {
    "papermill": {},
    "tags": []
   },
   "source": [
    " "
   ]
  }
 ],
 "metadata": {
  "kernelspec": {
   "display_name": "Python 3",
   "language": "python",
   "name": "python3"
  },
  "language_info": {
   "codemirror_mode": {
    "name": "ipython",
    "version": 3
   },
   "file_extension": ".py",
   "mimetype": "text/x-python",
   "name": "python",
   "nbconvert_exporter": "python",
   "pygments_lexer": "ipython3",
   "version": "3.9.6"
  },
  "naas": {
   "notebook_id": "a0b6e7901a2279ecf1696d79f06b9f10b174ad1d6e1af1afdf173c4aefe92635",
   "notebook_path": "Clockify/Clockify_Get_all_my_workspaces.ipynb"
  },
  "papermill": {
   "default_parameters": {},
   "environment_variables": {},
   "parameters": {},
   "version": "2.4.0"
  },
  "widgets": {
   "application/vnd.jupyter.widget-state+json": {
    "state": {},
    "version_major": 2,
    "version_minor": 0
   }
  }
 },
 "nbformat": 4,
 "nbformat_minor": 5
}