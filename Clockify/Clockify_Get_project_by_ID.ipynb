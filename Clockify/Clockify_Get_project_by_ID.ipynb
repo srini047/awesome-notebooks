{
 "cells": [
  {
   "cell_type": "markdown",
   "id": "3e6082c8-f297-480b-b50a-924fcc79e7db",
   "metadata": {
    "papermill": {},
    "tags": []
   },
   "source": [
    "<img width=\"10%\" alt=\"Naas\" src=\"https://landen.imgix.net/jtci2pxwjczr/assets/5ice39g4.png?w=160\"/>"
   ]
  },
  {
   "cell_type": "markdown",
   "id": "f0a21752-7632-4070-af0a-e5497291e93c",
   "metadata": {
    "papermill": {},
    "tags": []
   },
   "source": [
    "# Clockify - Get project by ID\n",
    "<a href=\"https://app.naas.ai/user-redirect/naas/downloader?url=https://raw.githubusercontent.com/jupyter-naas/awesome-notebooks/master/Clockify/Clockify_Get_project_by_ID.ipynb\" target=\"_parent\"><img src=\"https://naasai-public.s3.eu-west-3.amazonaws.com/Open_in_Naas_Lab.svg\"/></a><br><br><a href=\"https://github.com/jupyter-naas/awesome-notebooks/issues/new?assignees=&labels=&template=template-request.md&title=Tool+-+Action+of+the+notebook+\">Template request</a> | <a href=\"https://github.com/jupyter-naas/awesome-notebooks/issues/new?assignees=&labels=bug&template=bug_report.md&title=Clockify+-+Get+project+by+ID:+Error+short+description\">Bug report</a> | <a href=\"https://app.naas.ai/user-redirect/naas/downloader?url=https://raw.githubusercontent.com/jupyter-naas/awesome-notebooks/master/Naas/Naas_Start_data_product.ipynb\" target=\"_parent\">Generate Data Product</a>"
   ]
  },
  {
   "cell_type": "markdown",
   "id": "af72a081-1b22-4e4b-a2bc-571ebc200bb3",
   "metadata": {
    "papermill": {},
    "tags": []
   },
   "source": [
    "**Tags:** #clockify #project #create #api #rest #documentation"
   ]
  },
  {
   "cell_type": "markdown",
   "id": "63728e67-4ac9-43b8-a0db-36cd95a1acf6",
   "metadata": {
    "papermill": {},
    "tags": []
   },
   "source": [
    "**Author:** [Florent Ravenel](https://www.linkedin.com/in/florent-ravenel/)"
   ]
  },
  {
   "cell_type": "markdown",
   "id": "3422944e-43e0-437a-bacb-75f5a4c06962",
   "metadata": {
    "papermill": {},
    "tags": []
   },
   "source": [
    "**Description:** This notebook will show how to get a project using Clockify API from a specific workspace."
   ]
  },
  {
   "cell_type": "markdown",
   "id": "7cd59fdf-9792-496d-8caa-1dfe5bf2c415",
   "metadata": {
    "papermill": {},
    "tags": []
   },
   "source": [
    "**References:**\n",
    "- [Clockify API Documentation](https://docs.clockify.me/#tag/Project/operation/getProject)"
   ]
  },
  {
   "cell_type": "markdown",
   "id": "8308e804-f91c-4554-b242-8cb5903bd0ef",
   "metadata": {
    "papermill": {},
    "tags": []
   },
   "source": [
    "## Input"
   ]
  },
  {
   "cell_type": "markdown",
   "id": "b8e83785-9586-44b9-ba36-70c196faa64a",
   "metadata": {
    "papermill": {},
    "tags": []
   },
   "source": [
    "### Import libraries"
   ]
  },
  {
   "cell_type": "code",
   "execution_count": null,
   "id": "74239d79-d9a0-4d95-ba2e-c1c2814fc45d",
   "metadata": {
    "papermill": {},
    "tags": []
   },
   "outputs": [],
   "source": [
    "import requests\n",
    "import naas"
   ]
  },
  {
   "cell_type": "markdown",
   "id": "d9f2b66c-f690-4418-96cf-1d940f61f4f6",
   "metadata": {
    "papermill": {},
    "tags": []
   },
   "source": [
    "### Setup Variables\n",
    "- `api_key`: [Get your API key](https://clockify.me/user/settings)\n",
    "- `workspace_id`: ID of the workspace\n",
    "- `project_id`: ID of the project to get"
   ]
  },
  {
   "cell_type": "code",
   "execution_count": null,
   "id": "8fdb24cb-8602-4f08-93d0-30b9b19bf34a",
   "metadata": {
    "papermill": {},
    "tags": []
   },
   "outputs": [],
   "source": [
    "api_key = naas.secret.get(\"CLOCKIFY_API_KEY\") or \"YOUR_API_KEY\"\n",
    "workspace_id = \"626f9e3b36c2670314c0386e\" #\"<WORKSPACE_ID>\"\n",
    "project_id = \"63c7ac83978e3a0c21495757\""
   ]
  },
  {
   "cell_type": "markdown",
   "id": "f1a41e64-837d-425d-9b4e-98c24cfc1ff3",
   "metadata": {
    "papermill": {},
    "tags": []
   },
   "source": [
    "## Model"
   ]
  },
  {
   "cell_type": "markdown",
   "id": "99daad44-44b0-4732-894f-64438dae77fb",
   "metadata": {
    "papermill": {},
    "tags": []
   },
   "source": [
    "### Get project"
   ]
  },
  {
   "cell_type": "code",
   "execution_count": null,
   "id": "467e55ba-2064-4991-8b73-c16b4d415535",
   "metadata": {
    "papermill": {},
    "tags": []
   },
   "outputs": [],
   "source": [
    "def get_project(api_key, workspace_id, project_id):\n",
    "    url = f\"https://api.clockify.me/api/workspaces/{workspace_id}/projects/{project_id}\"\n",
    "    headers = {\n",
    "        \"X-Api-Key\": api_key,\n",
    "        \"Content-Type\": \"application/json\"\n",
    "    }\n",
    "    response = requests.get(url, headers=headers)\n",
    "    return response"
   ]
  },
  {
   "cell_type": "markdown",
   "id": "d11454d0-acff-4436-a8d9-355b2ff3c82d",
   "metadata": {
    "papermill": {},
    "tags": []
   },
   "source": [
    "## Output"
   ]
  },
  {
   "cell_type": "markdown",
   "id": "ea34bbcf-bb92-4863-9c90-8b364bd0ac93",
   "metadata": {
    "papermill": {},
    "tags": []
   },
   "source": [
    "### Display result"
   ]
  },
  {
   "cell_type": "code",
   "execution_count": null,
   "id": "3faa8d4b-993c-4405-ac83-7ccfc7ad4e9a",
   "metadata": {
    "papermill": {},
    "tags": []
   },
   "outputs": [],
   "source": [
    "response = get_project(api_key, workspace_id, project_id)\n",
    "if response.status_code == 200:\n",
    "    print(f\"✅ Project '{project_id}' retrieved from workspace.\")\n",
    "else:\n",
    "    print(f\"❌ Error retrieving project\")\n",
    "response.json()"
   ]
  },
  {
   "cell_type": "markdown",
   "id": "b5bf388a-df43-4296-8c38-26e32efad20e",
   "metadata": {
    "papermill": {},
    "tags": []
   },
   "source": [
    " "
   ]
  }
 ],
 "metadata": {
  "kernelspec": {
   "display_name": "Python 3",
   "language": "python",
   "name": "python3"
  },
  "language_info": {
   "codemirror_mode": {
    "name": "ipython",
    "version": 3
   },
   "file_extension": ".py",
   "mimetype": "text/x-python",
   "name": "python",
   "nbconvert_exporter": "python",
   "pygments_lexer": "ipython3",
   "version": "3.9.6"
  },
  "naas": {
   "notebook_id": "e0be8e4e76433300e789b377ab059f135ee55e69afac5dddbe0d479c67696650",
   "notebook_path": "Clockify/Clockify_Get_project_by_ID.ipynb"
  },
  "papermill": {
   "default_parameters": {},
   "environment_variables": {},
   "parameters": {},
   "version": "2.4.0"
  },
  "widgets": {
   "application/vnd.jupyter.widget-state+json": {
    "state": {},
    "version_major": 2,
    "version_minor": 0
   }
  }
 },
 "nbformat": 4,
 "nbformat_minor": 5
}