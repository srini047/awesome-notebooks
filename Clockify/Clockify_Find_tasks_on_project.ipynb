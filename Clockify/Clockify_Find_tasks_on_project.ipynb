{
 "cells": [
  {
   "cell_type": "markdown",
   "id": "e0882076-b185-4452-9ff5-03ae9abddf29",
   "metadata": {
    "papermill": {},
    "tags": []
   },
   "source": [
    "<img width=\"10%\" alt=\"Naas\" src=\"https://landen.imgix.net/jtci2pxwjczr/assets/5ice39g4.png?w=160\"/>"
   ]
  },
  {
   "cell_type": "markdown",
   "id": "0c5be36c-6fa4-4d28-80e0-ac13d083c712",
   "metadata": {
    "papermill": {},
    "tags": []
   },
   "source": [
    "# Clockify - Find tasks on project\n",
    "<a href=\"https://app.naas.ai/user-redirect/naas/downloader?url=https://raw.githubusercontent.com/jupyter-naas/awesome-notebooks/master/Clockify/Clockify_Find_tasks_on_project.ipynb\" target=\"_parent\"><img src=\"https://naasai-public.s3.eu-west-3.amazonaws.com/Open_in_Naas_Lab.svg\"/></a><br><br><a href=\"https://github.com/jupyter-naas/awesome-notebooks/issues/new?assignees=&labels=&template=template-request.md&title=Tool+-+Action+of+the+notebook+\">Template request</a> | <a href=\"https://github.com/jupyter-naas/awesome-notebooks/issues/new?assignees=&labels=bug&template=bug_report.md&title=Clockify+-+Find+tasks+on+project:+Error+short+description\">Bug report</a> | <a href=\"https://app.naas.ai/user-redirect/naas/downloader?url=https://raw.githubusercontent.com/jupyter-naas/awesome-notebooks/master/Naas/Naas_Start_data_product.ipynb\" target=\"_parent\">Generate Data Product</a>"
   ]
  },
  {
   "cell_type": "markdown",
   "id": "515df3ba-1d2f-46d4-b355-20338f4c5a03",
   "metadata": {
    "papermill": {},
    "tags": []
   },
   "source": [
    "**Tags:** #clockify #task #project #find #api #python"
   ]
  },
  {
   "cell_type": "markdown",
   "id": "04e55fcb-6ef6-4023-a66a-c27d7e6253dc",
   "metadata": {
    "papermill": {},
    "tags": []
   },
   "source": [
    "**Author:** [Florent Ravenel](https://www.linkedin.com/in/florent-ravenel/)"
   ]
  },
  {
   "cell_type": "markdown",
   "id": "7bfe7e72-8fc9-4ed3-aec3-18130901ae14",
   "metadata": {
    "papermill": {},
    "tags": []
   },
   "source": [
    "**Description:** This notebook will help you find tasks on a project using Clockify API. It will return a dataframe with columns as follow:\n",
    "- id: This column stores an identifier or unique identifier associated with a task. It likely contains alphanumeric values that uniquely identify each task in the DataFrame.\n",
    "- name: This column stores the names or titles associated with the tasks. It likely contains text values representing the names or titles of the tasks.\n",
    "- projectId: This column represents the identifier or unique identifier of the project to which each task belongs. It likely contains alphanumeric values that uniquely identify the project.\n",
    "- assigneeIds: This column stores the identifiers or unique identifiers of the assignees assigned to the tasks. It likely contains a list or nested data structure that indicates the assignees associated with each task.\n",
    "- assigneeId: This column stores the identifier or unique identifier of a single assignee assigned to the task. It likely contains a single value indicating the assignee for the task.\n",
    "- userGroupIds: This column stores the identifiers or unique identifiers of the user groups associated with the tasks. It likely contains a list or nested data structure that indicates the user groups associated with each task.\n",
    "- estimate: This column stores the estimate or estimated duration for each task. It likely contains a time duration format, such as \"PT0S\" (indicating zero duration).\n",
    "- status: This column indicates the status of the tasks, whether they are active or inactive. It likely contains text values such as \"ACTIVE\" or \"INACTIVE\".\n",
    "- duration: This column stores the actual duration or time taken for each task. It likely contains a time duration format, such as \"PT2H42M1S\" (indicating a duration of 2 hours, 42 minutes, and 1 second).\n",
    "- billable: This column indicates whether the task is billable or not. It likely contains boolean values (True or False), with True indicating that the task is billable and False indicating that it is not.\n",
    "- hourlyRate: This column stores the hourly rate associated with the task. It likely contains numerical values representing the rate for the task, such as an hourly billing rate.\n",
    "- costRate: This column stores the cost rate associated with the task. It likely contains numerical values representing the cost rate for the task, such as the rate at which the task incurs costs."
   ]
  },
  {
   "cell_type": "markdown",
   "id": "fada31bb-ec7e-40c9-a193-5d5da2799a3a",
   "metadata": {
    "papermill": {},
    "tags": []
   },
   "source": [
    "**References:**\n",
    "- [Clockify API Documentation](https://docs.clockify.me/#tag/Task/operation/getTasks)\n",
    "- [Clockify API Client](https://github.com/tomasbasham/clockify-api)"
   ]
  },
  {
   "cell_type": "markdown",
   "id": "dc9e4c3b-3029-49a2-ad86-c44c86ed078b",
   "metadata": {
    "papermill": {},
    "tags": []
   },
   "source": [
    "## Input"
   ]
  },
  {
   "cell_type": "markdown",
   "id": "d9591223-a88e-4dfc-94df-db740762b367",
   "metadata": {
    "papermill": {},
    "tags": []
   },
   "source": [
    "### Import libraries"
   ]
  },
  {
   "cell_type": "code",
   "execution_count": null,
   "id": "7a99507b-83f8-45d1-ab54-7d1e95017420",
   "metadata": {
    "papermill": {},
    "tags": []
   },
   "outputs": [],
   "source": [
    "import requests\n",
    "import naas\n",
    "import pandas as pd"
   ]
  },
  {
   "cell_type": "markdown",
   "id": "51d0836b-41c5-4caf-817d-61fdd3ad2a39",
   "metadata": {
    "papermill": {},
    "tags": []
   },
   "source": [
    "### Setup Variables\n",
    "- `api_key`: [Get your API key](https://clockify.me/user/settings)\n",
    "- `workspace_id`: ID of the workspace\n",
    "- `project_id`: [Find your project ID](https://clockify.me/developers-api#operation/getProjects)"
   ]
  },
  {
   "cell_type": "code",
   "execution_count": null,
   "id": "a0e1dcf3-e88a-4b58-a60f-91c6b4ff5dbe",
   "metadata": {
    "papermill": {},
    "tags": []
   },
   "outputs": [],
   "source": [
    "api_key = naas.secret.get(\"CLOCKIFY_API_KEY\") or \"YOUR_API_KEY\"\n",
    "workspace_id = \"626f9e3b36c2670314c0386e\" #\"<WORKSPACE_ID>\"\n",
    "project_id = \"637e3121e9eca632b62aee58\""
   ]
  },
  {
   "cell_type": "markdown",
   "id": "cf9fe442-639f-4d4f-8a2e-99e69c7b9011",
   "metadata": {
    "papermill": {},
    "tags": []
   },
   "source": [
    "## Model"
   ]
  },
  {
   "cell_type": "markdown",
   "id": "5271bdfc-3f80-4c7e-ae0e-d9f2740ad8ad",
   "metadata": {
    "papermill": {},
    "tags": []
   },
   "source": [
    "### Find tasks on project"
   ]
  },
  {
   "cell_type": "code",
   "execution_count": null,
   "id": "e4976bbc-e297-4c82-a36e-567d2c30f076",
   "metadata": {
    "papermill": {},
    "tags": []
   },
   "outputs": [],
   "source": [
    "def get_tasks(api_key, workspace_id, project_id):\n",
    "    url = f\"https://api.clockify.me/api/v1/workspaces/{workspace_id}/projects/{project_id}/tasks\"\n",
    "    headers = {\"X-Api-Key\": api_key}\n",
    "    response = requests.get(url, headers=headers)\n",
    "    return response.json()\n",
    "\n",
    "tasks = get_tasks(api_key, workspace_id, project_id)"
   ]
  },
  {
   "cell_type": "markdown",
   "id": "22af36ce-3365-4dd9-a66a-2d31e2dd9dab",
   "metadata": {
    "papermill": {},
    "tags": []
   },
   "source": [
    "## Output"
   ]
  },
  {
   "cell_type": "markdown",
   "id": "9c1ea610-af5b-43c0-a02e-927c24a912a9",
   "metadata": {
    "papermill": {},
    "tags": []
   },
   "source": [
    "### Display result"
   ]
  },
  {
   "cell_type": "code",
   "execution_count": null,
   "id": "b46ee94f-b409-4d3c-81f8-a6cc57b5f87a",
   "metadata": {
    "papermill": {},
    "tags": []
   },
   "outputs": [],
   "source": [
    "print(\"Tasks found:\", len(tasks), \"\\n\")\n",
    "for task in tasks:\n",
    "    print(\"-\", task[\"name\"], f'(id: {task[\"id\"]})')\n",
    "\n",
    "df = pd.DataFrame(tasks)\n",
    "df"
   ]
  },
  {
   "cell_type": "markdown",
   "id": "ad671465-aa85-4bbf-968f-362a7553790d",
   "metadata": {
    "papermill": {},
    "tags": []
   },
   "source": [
    " "
   ]
  }
 ],
 "metadata": {
  "kernelspec": {
   "display_name": "Python 3",
   "language": "python",
   "name": "python3"
  },
  "language_info": {
   "codemirror_mode": {
    "name": "ipython",
    "version": 3
   },
   "file_extension": ".py",
   "mimetype": "text/x-python",
   "name": "python",
   "nbconvert_exporter": "python",
   "pygments_lexer": "ipython3",
   "version": "3.9.6"
  },
  "naas": {
   "notebook_id": "78681e3bc7de22fcb89133eb27fcb13afb59ba5dc01a777f4b0fafb2fda819de",
   "notebook_path": "Clockify/Clockify_Find_tasks_on_project.ipynb"
  },
  "papermill": {
   "default_parameters": {},
   "environment_variables": {},
   "parameters": {},
   "version": "2.4.0"
  },
  "widgets": {
   "application/vnd.jupyter.widget-state+json": {
    "state": {},
    "version_major": 2,
    "version_minor": 0
   }
  }
 },
 "nbformat": 4,
 "nbformat_minor": 5
}