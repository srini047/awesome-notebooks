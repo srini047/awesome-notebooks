{
 "cells": [
  {
   "cell_type": "markdown",
   "id": "be0e988a-3fb6-4bbd-a349-6749c0ac1938",
   "metadata": {
    "papermill": {},
    "tags": []
   },
   "source": [
    "<img width=\"10%\" alt=\"Naas\" src=\"https://landen.imgix.net/jtci2pxwjczr/assets/5ice39g4.png?w=160\"/>"
   ]
  },
  {
   "cell_type": "markdown",
   "id": "5e8856b9-614d-4926-a615-e3dbf5fc92af",
   "metadata": {
    "papermill": {},
    "tags": []
   },
   "source": [
    "# Clockify - Get time entries for a user on workspace\n",
    "<a href=\"https://app.naas.ai/user-redirect/naas/downloader?url=https://raw.githubusercontent.com/jupyter-naas/awesome-notebooks/master/Clockify/Clockify_Get_time_entries_for_a_user_on_workspace.ipynb\" target=\"_parent\"><img src=\"https://naasai-public.s3.eu-west-3.amazonaws.com/Open_in_Naas_Lab.svg\"/></a><br><br><a href=\"https://github.com/jupyter-naas/awesome-notebooks/issues/new?assignees=&labels=&template=template-request.md&title=Tool+-+Action+of+the+notebook+\">Template request</a> | <a href=\"https://github.com/jupyter-naas/awesome-notebooks/issues/new?assignees=&labels=bug&template=bug_report.md&title=Clockify+-+Get+time+entries+for+a+user+on+workspace:+Error+short+description\">Bug report</a> | <a href=\"https://app.naas.ai/user-redirect/naas/downloader?url=https://raw.githubusercontent.com/jupyter-naas/awesome-notebooks/master/Naas/Naas_Start_data_product.ipynb\" target=\"_parent\">Generate Data Product</a>"
   ]
  },
  {
   "cell_type": "markdown",
   "id": "b60d20d8-2d26-4913-b065-ed450142f52e",
   "metadata": {
    "papermill": {},
    "tags": []
   },
   "source": [
    "**Tags:** #clockify #timeentry #api #python #workspace #user"
   ]
  },
  {
   "cell_type": "markdown",
   "id": "2f197591-0357-4007-8f19-d24ea358731c",
   "metadata": {
    "papermill": {},
    "tags": []
   },
   "source": [
    "**Author:** [Florent Ravenel](https://www.linkedin.com/in/florent-ravenel/)"
   ]
  },
  {
   "cell_type": "markdown",
   "id": "35415d7d-c533-4665-b0bd-d0fa72f7b876",
   "metadata": {
    "papermill": {},
    "tags": []
   },
   "source": [
    "**Description:** This notebook will show how to get time entries for a user on a workspace using Clockify API. It will return a dataframe with columns as follow:\n",
    "- id: This column stores an identifier or unique identifier associated with a time entry. It likely contains alphanumeric values that uniquely identify each time entry in the DataFrame.\n",
    "- description: This column stores the description or details associated with the time entry. It likely contains text values representing a description of the activity or task performed during the time entry.\n",
    "- tagIds: This column stores the identifiers or unique identifiers of the tags associated with the time entry. It likely contains a list or nested data structure that indicates the tags associated with the time entry.\n",
    "- userId: This column represents the identifier or unique identifier of the user who created the time entry. It likely contains alphanumeric values that uniquely identify the user.\n",
    "- billable: This column indicates whether the time entry is billable or not. It likely contains boolean values (True or False), with True indicating that the time entry is billable and False indicating that it is not.\n",
    "- taskId: This column stores the identifier or unique identifier of the task associated with the time entry. It likely contains alphanumeric values that uniquely identify the task.\n",
    "- projectId: This column represents the identifier or unique identifier of the project associated with the time entry. It likely contains alphanumeric values that uniquely identify the project.\n",
    "- timeInterval_start: This column stores the start timestamp of the time interval for the time entry. It likely contains timestamp values indicating when the time entry started.\n",
    "- timeInterval_end: This column stores the end timestamp of the time interval for the time entry. It likely contains timestamp values indicating when the time entry ended.\n",
    "- timeInterval_duration: This column stores the duration of the time entry. It likely contains a time duration format, such as \"PT37M16S\" (indicating a duration of 37 minutes and 16 seconds).\n",
    "- workspaceId: This column represents the identifier or unique identifier of the workspace associated with the time entry. It likely contains alphanumeric values that uniquely identify the workspace.\n",
    "- isLocked: This column indicates whether the time entry is locked or not. It likely contains boolean values (True or False), with True indicating that the time entry is locked and False indicating that it is not.\n",
    "- customFieldValues: This column stores custom field values associated with the time entry. It likely contains nested data structures or lists that hold custom field values specific to the time entry.\n",
    "- type: This column indicates the type or category of the time entry. It likely contains text values representing the type of activity or task associated with the time entry.\n",
    "- kioskId: This column stores the identifier or unique identifier of the kiosk associated with the time entry. It likely contains alphanumeric values that uniquely identify the kiosk."
   ]
  },
  {
   "cell_type": "markdown",
   "id": "aa114779-2b8b-4612-bb18-d05fa7d2a4e7",
   "metadata": {
    "papermill": {},
    "tags": []
   },
   "source": [
    "**References:**\n",
    "- [Clockify API Documentation](https://docs.clockify.me/#tag/Time-entry/operation/getTimeEntries)\n",
    "- [Clockify API Client](https://github.com/toggl/clockify-api-python)"
   ]
  },
  {
   "cell_type": "markdown",
   "id": "aecdea32-16f0-4d05-be3f-b155085de9fd",
   "metadata": {
    "papermill": {},
    "tags": []
   },
   "source": [
    "## Input"
   ]
  },
  {
   "cell_type": "markdown",
   "id": "fe25639d-96bc-4efc-8e19-277b4eaf32f3",
   "metadata": {
    "papermill": {},
    "tags": []
   },
   "source": [
    "### Import libraries"
   ]
  },
  {
   "cell_type": "code",
   "execution_count": null,
   "id": "09d66928-438e-4e61-b475-fd3fd2fa0019",
   "metadata": {
    "papermill": {},
    "tags": []
   },
   "outputs": [],
   "source": [
    "import requests\n",
    "import naas\n",
    "import pandas as pd"
   ]
  },
  {
   "cell_type": "markdown",
   "id": "726d9a40-bb8b-4817-bdc9-f63d3460e9ed",
   "metadata": {
    "papermill": {},
    "tags": []
   },
   "source": [
    "### Setup Variables\n",
    "- `api_key`: [Get your API key](https://clockify.me/user/settings)\n",
    "- `workspace_id`: ID of the workspace\n",
    "- `user_id`: ID of the user to get time entries from"
   ]
  },
  {
   "cell_type": "markdown",
   "id": "41a609c2-8643-4dc1-ad41-446c41caff89",
   "metadata": {
    "papermill": {},
    "tags": []
   },
   "source": [
    "For more information on how to get the workspace and user ID, please refer to [this documentation](https://docs.clockify.me/#operation/getWorkspaces)."
   ]
  },
  {
   "cell_type": "code",
   "execution_count": null,
   "id": "b1dfcd6b-b3fe-4518-b85c-82dc3da072f8",
   "metadata": {
    "papermill": {},
    "tags": []
   },
   "outputs": [],
   "source": [
    "api_key = naas.secret.get(\"CLOCKIFY_API_KEY\") or \"YOUR_API_KEY\"\n",
    "workspace_id = \"626f9e3b36c2670314c0386e\" #\"<WORKSPACE_ID>\"\n",
    "user_id = \"5e1c633abff57e6a72cd8000\""
   ]
  },
  {
   "cell_type": "markdown",
   "id": "758209c3-3943-4fe2-bd12-4d7f7b7e7938",
   "metadata": {
    "papermill": {},
    "tags": []
   },
   "source": [
    "## Model"
   ]
  },
  {
   "cell_type": "markdown",
   "id": "b70dd4e0-870a-4d75-b1e8-f9cbaa27c2c1",
   "metadata": {
    "papermill": {},
    "tags": []
   },
   "source": [
    "### Get time entries"
   ]
  },
  {
   "cell_type": "markdown",
   "id": "c08cb99e-335d-4b07-b4b2-2df14f36ba64",
   "metadata": {
    "papermill": {},
    "tags": []
   },
   "source": [
    "This function will get all time entries for a user on a workspace."
   ]
  },
  {
   "cell_type": "code",
   "execution_count": null,
   "id": "6f022f0a-b9ba-401e-ba43-dee54413b0c0",
   "metadata": {
    "papermill": {},
    "tags": []
   },
   "outputs": [],
   "source": [
    "def get_time_entries(workspace_id, api_key, user_id):\n",
    "    url = f\"https://api.clockify.me/api/v1/workspaces/{workspace_id}/user/{user_id}/time-entries\"\n",
    "    headers = {\"X-Api-Key\": api_key}\n",
    "    response = requests.get(url, headers=headers)\n",
    "    return response.json()\n",
    "\n",
    "time_entries = get_time_entries(workspace_id, api_key, user_id)\n",
    "print(\"Time entries fetched:\", len(time_entries))"
   ]
  },
  {
   "cell_type": "markdown",
   "id": "c82c4a44-8a32-4306-8640-2f57786e7976",
   "metadata": {
    "papermill": {},
    "tags": []
   },
   "source": [
    "### Flatten nested dict"
   ]
  },
  {
   "cell_type": "code",
   "execution_count": null,
   "id": "3cacf5b7-94d4-49e8-b9e9-f35c2d76b39d",
   "metadata": {
    "papermill": {},
    "tags": []
   },
   "outputs": [],
   "source": [
    "# Flatten the nested dict\n",
    "def flatten_dict(d, parent_key='', sep='_'):\n",
    "    \"\"\"\n",
    "    Flattens a nested dictionary into a single level dictionary.\n",
    "\n",
    "    Args:\n",
    "        d (dict): A nested dictionary.\n",
    "        parent_key (str): Optional string to prefix the keys with.\n",
    "        sep (str): Optional separator to use between parent_key and child_key.\n",
    "\n",
    "    Returns:\n",
    "        dict: A flattened dictionary.\n",
    "    \"\"\"\n",
    "    items = []\n",
    "    for k, v in d.items():\n",
    "        new_key = f\"{parent_key}{sep}{k}\" if parent_key else k\n",
    "        if isinstance(v, dict):\n",
    "            items.extend(flatten_dict(v, new_key, sep=sep).items())\n",
    "        else:\n",
    "            items.append((new_key, v))\n",
    "    return dict(items)\n",
    "\n",
    "df_time_entries = pd.DataFrame()\n",
    "for time_entry in time_entries:\n",
    "    res = flatten_dict(time_entry)\n",
    "    tmp_df = pd.DataFrame([res])\n",
    "    df_time_entries = pd.concat([df_time_entries, tmp_df])\n",
    "    \n",
    "df_time_entries = df_time_entries.reset_index(drop=True)\n",
    "print(\"Time entries fetched:\", len(df_time_entries))"
   ]
  },
  {
   "cell_type": "markdown",
   "id": "cda5093a-7878-477b-8210-8c8636142d27",
   "metadata": {
    "papermill": {},
    "tags": []
   },
   "source": [
    "## Output"
   ]
  },
  {
   "cell_type": "markdown",
   "id": "9d508d7c-e4df-426b-8f08-29330bd2ca80",
   "metadata": {
    "papermill": {},
    "tags": []
   },
   "source": [
    "### Display result"
   ]
  },
  {
   "cell_type": "code",
   "execution_count": null,
   "id": "5027fbb2-abab-413d-baa6-9802af071bb1",
   "metadata": {
    "papermill": {},
    "tags": []
   },
   "outputs": [],
   "source": [
    "df_time_entries"
   ]
  },
  {
   "cell_type": "markdown",
   "id": "97e09f62-ff79-4150-8582-2e4d93df0613",
   "metadata": {
    "papermill": {},
    "tags": []
   },
   "source": [
    " "
   ]
  }
 ],
 "metadata": {
  "kernelspec": {
   "display_name": "Python 3",
   "language": "python",
   "name": "python3"
  },
  "language_info": {
   "codemirror_mode": {
    "name": "ipython",
    "version": 3
   },
   "file_extension": ".py",
   "mimetype": "text/x-python",
   "name": "python",
   "nbconvert_exporter": "python",
   "pygments_lexer": "ipython3",
   "version": "3.9.6"
  },
  "naas": {
   "notebook_id": "b40e1e0366358c58a01662a2ec775ec47ecfb7a75fb0790826c477378b0e6657",
   "notebook_path": "Clockify/Clockify_Get_time_entries_for_a_user_on_workspace.ipynb"
  },
  "papermill": {
   "default_parameters": {},
   "environment_variables": {},
   "parameters": {},
   "version": "2.4.0"
  },
  "widgets": {
   "application/vnd.jupyter.widget-state+json": {
    "state": {},
    "version_major": 2,
    "version_minor": 0
   }
  }
 },
 "nbformat": 4,
 "nbformat_minor": 5
}