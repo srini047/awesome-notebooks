{
 "cells": [
  {
   "cell_type": "markdown",
   "id": "3631f954-3b6f-4bde-989b-93a727c371d4",
   "metadata": {
    "papermill": {},
    "tags": []
   },
   "source": [
    "<img width=\"10%\" alt=\"Naas\" src=\"https://landen.imgix.net/jtci2pxwjczr/assets/5ice39g4.png?w=160\"/>"
   ]
  },
  {
   "cell_type": "markdown",
   "id": "52eaf83d-58a6-4efa-816a-7900e8af7938",
   "metadata": {
    "papermill": {},
    "tags": []
   },
   "source": [
    "# Dash - Create spinner button\n",
    "<a href=\"https://app.naas.ai/user-redirect/naas/downloader?url=https://raw.githubusercontent.com/jupyter-naas/awesome-notebooks/master/Dash/Dash_Create_spinner_button.ipynb\" target=\"_parent\"><img src=\"https://naasai-public.s3.eu-west-3.amazonaws.com/Open_in_Naas_Lab.svg\"/></a><br><br><a href=\"https://github.com/jupyter-naas/awesome-notebooks/issues/new?assignees=&labels=&template=template-request.md&title=Tool+-+Action+of+the+notebook+\">Template request</a> | <a href=\"https://github.com/jupyter-naas/awesome-notebooks/issues/new?assignees=&labels=bug&template=bug_report.md&title=Dash+-+Create+spinner+button:+Error+short+description\">Bug report</a> | <a href=\"https://app.naas.ai/user-redirect/naas/downloader?url=https://raw.githubusercontent.com/jupyter-naas/awesome-notebooks/master/Naas/Naas_Start_data_product.ipynb\" target=\"_parent\">Generate Data Product</a>"
   ]
  },
  {
   "cell_type": "markdown",
   "id": "4008031f-a99f-413c-8cc4-bbfaa571cc43",
   "metadata": {
    "papermill": {},
    "tags": []
   },
   "source": [
    "**Tags:** #dash #button #download #create #python #library #spinner"
   ]
  },
  {
   "cell_type": "markdown",
   "id": "df8139ba-3114-4410-b2f6-a0de93f0d3a4",
   "metadata": {
    "papermill": {},
    "tags": []
   },
   "source": [
    "**Author:** [Florent Ravenel](https://www.linkedin.com/in/florent-ravenel/)"
   ]
  },
  {
   "cell_type": "markdown",
   "id": "723fcf1e-8654-4d87-b54d-70c5c8fc3ea2",
   "metadata": {
    "papermill": {},
    "tags": []
   },
   "source": [
    "**Description:** This notebook will show how to create a spinner button with Dash. The `Spinner` component can be used inside buttons to indicate that an action is currently processing or taking place.\n",
    "\n"
   ]
  },
  {
   "cell_type": "markdown",
   "id": "2ff81b89-8cb2-4660-847e-6667b0b23125",
   "metadata": {
    "papermill": {},
    "tags": []
   },
   "source": [
    "**References:**\n",
    "- [Dash Bootstrap Components - Spinner](https://dash-bootstrap-components.opensource.faculty.ai/docs/components/spinner/)"
   ]
  },
  {
   "cell_type": "markdown",
   "id": "89e88d7b-4499-467e-9d4f-90dd7cb2e2e9",
   "metadata": {
    "papermill": {},
    "tags": []
   },
   "source": [
    "## Input"
   ]
  },
  {
   "cell_type": "markdown",
   "id": "6540167f-4189-45ce-9fcf-7d66a4e3ea69",
   "metadata": {
    "papermill": {},
    "tags": []
   },
   "source": [
    "### Import libraries"
   ]
  },
  {
   "cell_type": "code",
   "execution_count": null,
   "id": "06e65ba1-9100-4a39-a70c-36805fe8cfd9",
   "metadata": {
    "papermill": {},
    "tags": []
   },
   "outputs": [],
   "source": [
    "import os\n",
    "try:\n",
    "    import dash\n",
    "except:\n",
    "    !pip install dash --user\n",
    "    import dash\n",
    "try:\n",
    "    import dash_bootstrap_components as dbc\n",
    "except:\n",
    "    !pip install dash_bootstrap_components --user\n",
    "    import dash_bootstrap_components as dbc\n",
    "from dash import html"
   ]
  },
  {
   "cell_type": "markdown",
   "id": "6a4be3eb-2397-4db2-99c2-355898a186e3",
   "metadata": {
    "papermill": {},
    "tags": []
   },
   "source": [
    "### Setup Variables\n",
    "- `DASH_PORT`: specify a port number for Dash"
   ]
  },
  {
   "cell_type": "code",
   "execution_count": null,
   "id": "3bd442a1-18f2-45a3-a27f-e68da490278c",
   "metadata": {
    "papermill": {},
    "tags": []
   },
   "outputs": [],
   "source": [
    "DASH_PORT = 8050"
   ]
  },
  {
   "cell_type": "markdown",
   "id": "3595a507-260e-4a61-87b2-bcbe0dc22b05",
   "metadata": {
    "papermill": {},
    "tags": []
   },
   "source": [
    "## Model"
   ]
  },
  {
   "cell_type": "markdown",
   "id": "bae072a8-4cfa-408e-8dbf-6ed719c5d7ff",
   "metadata": {
    "papermill": {},
    "tags": []
   },
   "source": [
    "### Initialize Dash app"
   ]
  },
  {
   "cell_type": "code",
   "execution_count": null,
   "id": "b8512618-4272-4ac0-b68e-d7f0c7461c79",
   "metadata": {
    "papermill": {},
    "tags": []
   },
   "outputs": [],
   "source": [
    "app = dash.Dash(\n",
    "    requests_pathname_prefix=f'/user/{os.environ.get(\"JUPYTERHUB_USER\")}/proxy/{DASH_PORT}/',\n",
    "    external_stylesheets=[dbc.themes.BOOTSTRAP],\n",
    "    meta_tags=[\n",
    "        {\"name\": \"viewport\", \"content\": \"width=device-width, initial-scale=1.0\"}\n",
    "    ],\n",
    ")\n",
    "\n",
    "# app = dash.Dash() if you are not in Naas"
   ]
  },
  {
   "cell_type": "markdown",
   "id": "482311a7-7d4c-4860-9097-04a604fd94a6",
   "metadata": {
    "papermill": {},
    "tags": []
   },
   "source": [
    "### Create download button"
   ]
  },
  {
   "cell_type": "code",
   "execution_count": null,
   "id": "77718716-5754-41bf-ad94-d6ca4525a6f6",
   "metadata": {
    "papermill": {},
    "tags": []
   },
   "outputs": [],
   "source": [
    "spinners = html.Div(\n",
    "    [\n",
    "        dbc.Button(\n",
    "            dbc.Spinner(size=\"sm\"),\n",
    "            color=\"primary\",\n",
    "            disabled=True,\n",
    "            className=\"me-1\",\n",
    "        ),\n",
    "        dbc.Button(\n",
    "            [dbc.Spinner(size=\"sm\"), \" Loading...\"],\n",
    "            color=\"primary\",\n",
    "            disabled=True,\n",
    "        ),\n",
    "    ]\n",
    ")\n",
    "\n",
    "app.layout = html.Div(\n",
    "    [\n",
    "        # SPACE\n",
    "        html.Br(),\n",
    "        \n",
    "        # Spinner button\n",
    "        spinners\n",
    "    ]\n",
    ")"
   ]
  },
  {
   "cell_type": "markdown",
   "id": "e11d7b54-52bb-4fd6-8ded-ed44854b3bef",
   "metadata": {
    "execution": {
     "iopub.execute_input": "2021-07-02T23:32:10.789097Z",
     "iopub.status.busy": "2021-07-02T23:32:10.788829Z",
     "iopub.status.idle": "2021-07-02T23:32:10.796900Z",
     "shell.execute_reply": "2021-07-02T23:32:10.796358Z",
     "shell.execute_reply.started": "2021-07-02T23:32:10.789033Z"
    },
    "papermill": {},
    "tags": []
   },
   "source": [
    "## Output"
   ]
  },
  {
   "cell_type": "markdown",
   "id": "bceab09a-8595-4a7b-96de-7dfd37765bed",
   "metadata": {
    "papermill": {},
    "tags": []
   },
   "source": [
    "### Generate URL and show logs"
   ]
  },
  {
   "cell_type": "code",
   "execution_count": 5,
   "id": "da028227-639d-484c-a691-0c7bf9c75ee4",
   "metadata": {
    "papermill": {},
    "tags": []
   },
   "outputs": [],
   "source": [
    "if __name__ == \"__main__\":\n",
    "    app.run_server(proxy=f\"http://127.0.0.1:{DASH_PORT}::https://app.naas.ai\")"
   ]
  },
  {
   "cell_type": "markdown",
   "id": "1f837be3-1268-4e90-9bf4-50991ef824e8",
   "metadata": {
    "papermill": {},
    "tags": []
   },
   "source": [
    " "
   ]
  }
 ],
 "metadata": {
  "kernelspec": {
   "display_name": "Python 3",
   "language": "python",
   "name": "python3"
  },
  "language_info": {
   "codemirror_mode": {
    "name": "ipython",
    "version": 3
   },
   "file_extension": ".py",
   "mimetype": "text/x-python",
   "name": "python",
   "nbconvert_exporter": "python",
   "pygments_lexer": "ipython3",
   "version": "3.9.6"
  },
  "naas": {
   "notebook_id": "dd2c5fe6315560fa638685fb739dc1b4a6d39089220f430d269c01b78c7dd953",
   "notebook_path": "Dash/Dash_Create_spinner_button.ipynb"
  },
  "papermill": {
   "default_parameters": {},
   "environment_variables": {},
   "parameters": {},
   "version": "2.4.0"
  },
  "widgets": {
   "application/vnd.jupyter.widget-state+json": {
    "state": {},
    "version_major": 2,
    "version_minor": 0
   }
  }
 },
 "nbformat": 4,
 "nbformat_minor": 5
}