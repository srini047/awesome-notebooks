{
 "cells": [
  {
   "cell_type": "markdown",
   "id": "068f0de1",
   "metadata": {
    "papermill": {},
    "tags": []
   },
   "source": [
    "<img width=\"10%\" alt=\"Naas\" src=\"https://landen.imgix.net/jtci2pxwjczr/assets/5ice39g4.png?w=160\"/>"
   ]
  },
  {
   "cell_type": "markdown",
   "id": "b52bd787",
   "metadata": {
    "papermill": {},
    "tags": []
   },
   "source": [
    "# Dash - Plotly Dynamic Link\n",
    "<a href=\"https://app.naas.ai/user-redirect/naas/downloader?url=https://raw.githubusercontent.com/jupyter-naas/awesome-notebooks/master/Dash/Dash_Plotly_Dynamic_Link.ipynb\" target=\"_parent\"><img src=\"https://naasai-public.s3.eu-west-3.amazonaws.com/Open_in_Naas_Lab.svg\"/></a><br><br><a href=\"https://github.com/jupyter-naas/awesome-notebooks/issues/new?assignees=&labels=&template=template-request.md&title=Tool+-+Action+of+the+notebook+\">Template request</a> | <a href=\"https://github.com/jupyter-naas/awesome-notebooks/issues/new?assignees=&labels=bug&template=bug_report.md&title=Dash+-+Plotly+Dynamic+Link:+Error+short+description\">Bug report</a> | <a href=\"https://app.naas.ai/user-redirect/naas/downloader?url=https://raw.githubusercontent.com/jupyter-naas/awesome-notebooks/master/Naas/Naas_Start_data_product.ipynb\" target=\"_parent\">Generate Data Product</a>"
   ]
  },
  {
   "cell_type": "markdown",
   "id": "d515720b",
   "metadata": {
    "papermill": {},
    "tags": []
   },
   "source": [
    "**Tags:** #dash #plotly #naas #analytics"
   ]
  },
  {
   "cell_type": "markdown",
   "id": "bab9bb6e",
   "metadata": {
    "papermill": {},
    "tags": []
   },
   "source": [
    "**Author:** [Oguz Akif Tufekcioglu](https://www.linkedin.com/in/oguzakiftufekcioglu/)"
   ]
  },
  {
   "cell_type": "markdown",
   "id": "naas-description",
   "metadata": {
    "papermill": {},
    "tags": [
     "description"
    ]
   },
   "source": [
    "**Description:** This notebook provides an interactive way to explore data with Dash and Plotly, allowing users to create dynamic links between visualizations."
   ]
  },
  {
   "cell_type": "markdown",
   "id": "eac4dc18",
   "metadata": {
    "papermill": {},
    "tags": []
   },
   "source": [
    "## Input"
   ]
  },
  {
   "cell_type": "markdown",
   "id": "ab8f0689",
   "metadata": {
    "papermill": {},
    "tags": []
   },
   "source": [
    "### Import libraries"
   ]
  },
  {
   "cell_type": "code",
   "execution_count": null,
   "id": "64cdd842",
   "metadata": {
    "papermill": {},
    "tags": []
   },
   "outputs": [],
   "source": [
    "import os\n",
    "try:\n",
    "    import dash\n",
    "except:\n",
    "    !pip install dash --user\n",
    "    import dash\n",
    "try:\n",
    "    import dash_bootstrap_components as dbc\n",
    "except:\n",
    "    !pip install dash_bootstrap_components --user\n",
    "    import dash_bootstrap_components as dbc\n",
    "    \n",
    "import webbrowser\n",
    "from dash.dependencies import Input, Output\n",
    "from dash import html, dcc\n",
    "from dash.exceptions import PreventUpdate\n",
    "import plotly.express as px\n",
    "import plotly.graph_objects as go"
   ]
  },
  {
   "cell_type": "markdown",
   "id": "994cdd04",
   "metadata": {
    "papermill": {},
    "tags": []
   },
   "source": [
    "### Setup Variables"
   ]
  },
  {
   "cell_type": "code",
   "execution_count": null,
   "id": "680fae41",
   "metadata": {
    "papermill": {},
    "tags": []
   },
   "outputs": [],
   "source": [
    "DASH_PORT = 8050"
   ]
  },
  {
   "cell_type": "markdown",
   "id": "3ed674cc",
   "metadata": {
    "papermill": {},
    "tags": []
   },
   "source": [
    "## Model"
   ]
  },
  {
   "cell_type": "markdown",
   "id": "6314e8fb",
   "metadata": {
    "papermill": {},
    "tags": []
   },
   "source": [
    "### Initialize Dash app"
   ]
  },
  {
   "cell_type": "code",
   "execution_count": null,
   "id": "a2c6ff9d",
   "metadata": {
    "papermill": {},
    "tags": []
   },
   "outputs": [],
   "source": [
    "app = dash.Dash(\n",
    "    requests_pathname_prefix=f'/user/{os.environ.get(\"JUPYTERHUB_USER\")}/proxy/{DASH_PORT}/',\n",
    "    external_stylesheets=[dbc.themes.BOOTSTRAP],\n",
    "    meta_tags=[\n",
    "        {\"name\": \"viewport\", \"content\": \"width=device-width, initial-scale=1.0\"}\n",
    "    ],\n",
    ")\n",
    "\n",
    "# if you are not in Naas\n",
    "# app = dash.Dash()"
   ]
  },
  {
   "cell_type": "markdown",
   "id": "8c293e72",
   "metadata": {
    "papermill": {},
    "tags": []
   },
   "source": [
    "### Get stock prices"
   ]
  },
  {
   "cell_type": "code",
   "execution_count": null,
   "id": "7ea70d69",
   "metadata": {
    "papermill": {},
    "tags": []
   },
   "outputs": [],
   "source": [
    "df = px.data.stocks()  # reading stock price dataset\n",
    "print(\"Data fetched:\", len(df))\n",
    "df.head()"
   ]
  },
  {
   "cell_type": "markdown",
   "id": "4737ce2d",
   "metadata": {
    "papermill": {},
    "tags": []
   },
   "source": [
    "### Add an url column"
   ]
  },
  {
   "cell_type": "code",
   "execution_count": null,
   "id": "c1bb6bb5",
   "metadata": {
    "papermill": {},
    "tags": []
   },
   "outputs": [],
   "source": [
    "# add a url for each stock in the dataset into urls column\n",
    "df[\"urls\"] = \"https://www.naas.ai/\"\n",
    "df.head()"
   ]
  },
  {
   "cell_type": "markdown",
   "id": "5d98abd0",
   "metadata": {
    "papermill": {},
    "tags": []
   },
   "source": [
    "### Create app layout"
   ]
  },
  {
   "cell_type": "code",
   "execution_count": null,
   "id": "227ee332",
   "metadata": {
    "papermill": {},
    "tags": []
   },
   "outputs": [],
   "source": [
    "app.layout = html.Div(\n",
    "    id=\"parent\",\n",
    "    children=[\n",
    "        html.H1(\n",
    "            id=\"H1\",\n",
    "            children=\"Dynamic link on label click on plotly chart python\",\n",
    "            style={\"textAlign\": \"center\", \"marginTop\": 40, \"marginBottom\": 40},\n",
    "        ),\n",
    "        dcc.Graph(\n",
    "            id=\"line-plot\",\n",
    "            figure=px.line(\n",
    "                data_frame=df,\n",
    "                x=\"date\",\n",
    "                y=\"GOOG\",\n",
    "                title=\"Google stock prices over time\",\n",
    "                hover_name=\"urls\",\n",
    "                custom_data=(\"urls\",),\n",
    "            ),\n",
    "        ),\n",
    "        dcc.Store(id=\"clientside-data\", data=\"\"),\n",
    "        dcc.Store(id=\"redirected-url\", data=\"\"),\n",
    "    ],\n",
    ")"
   ]
  },
  {
   "cell_type": "markdown",
   "id": "169a1ee8",
   "metadata": {
    "papermill": {},
    "tags": []
   },
   "source": [
    "### Call callback function to save url in a dcc Store component when data point is clicked"
   ]
  },
  {
   "cell_type": "code",
   "execution_count": null,
   "id": "d121d2b9",
   "metadata": {
    "papermill": {},
    "tags": []
   },
   "outputs": [],
   "source": [
    "@app.callback(Output(\"clientside-data\", \"data\"), [Input(\"line-plot\", \"clickData\")])\n",
    "def open_url(clickData):\n",
    "    if clickData != None:\n",
    "        print(clickData)\n",
    "        url = clickData[\"points\"][0][\"customdata\"][0]\n",
    "        return url\n",
    "    else:\n",
    "        raise PreventUpdate"
   ]
  },
  {
   "cell_type": "markdown",
   "id": "d2e51a81",
   "metadata": {
    "papermill": {},
    "tags": []
   },
   "source": [
    "### Call client-side callback function open url in a new tab"
   ]
  },
  {
   "cell_type": "code",
   "execution_count": null,
   "id": "ffe79e29",
   "metadata": {
    "papermill": {},
    "tags": []
   },
   "outputs": [],
   "source": [
    "app.clientside_callback(\n",
    "    \"\"\"\n",
    "    function(data,scale) {\n",
    "      console.log(data);\n",
    "      window.open(data, '_blank');\n",
    "      return data;\n",
    "    }\n",
    "    \"\"\",\n",
    "    Output(\"redirected-url\", \"data\"),\n",
    "    Input(\"clientside-data\", \"data\"),\n",
    ")"
   ]
  },
  {
   "cell_type": "markdown",
   "id": "dafa6e90",
   "metadata": {
    "papermill": {},
    "tags": []
   },
   "source": [
    "## Output"
   ]
  },
  {
   "cell_type": "markdown",
   "id": "9137d65a",
   "metadata": {
    "papermill": {},
    "tags": []
   },
   "source": [
    "### Generate URL and show logs"
   ]
  },
  {
   "cell_type": "code",
   "execution_count": null,
   "id": "3a1011c6",
   "metadata": {
    "papermill": {},
    "tags": []
   },
   "outputs": [],
   "source": [
    "if __name__ == \"__main__\":\n",
    "    app.run_server(proxy=f\"http://127.0.0.1:{DASH_PORT}::https://app.naas.ai\")"
   ]
  }
 ],
 "metadata": {
  "kernelspec": {
   "display_name": "Python 3",
   "language": "python",
   "name": "python3"
  },
  "language_info": {
   "codemirror_mode": {
    "name": "ipython",
    "version": 3
   },
   "file_extension": ".py",
   "mimetype": "text/x-python",
   "name": "python",
   "nbconvert_exporter": "python",
   "pygments_lexer": "ipython3",
   "version": "3.9.6"
  },
  "naas": {
   "notebook_id": "950b5ed31417ee13e856d45afc141338d870a01592a83e9f71131ed42d8d2f02",
   "notebook_path": "Dash/Dash_Plotly_Dynamic_Link.ipynb"
  },
  "papermill": {
   "default_parameters": {},
   "environment_variables": {},
   "parameters": {},
   "version": "2.4.0"
  },
  "vscode": {
   "interpreter": {
    "hash": "1199c261b5e24789861580535954eb82c9d3b7f440249a3a44925e76d155f691"
   }
  }
 },
 "nbformat": 4,
 "nbformat_minor": 5
}