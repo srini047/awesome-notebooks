{
 "cells": [
  {
   "cell_type": "markdown",
   "id": "319837b0-d90e-4440-97a4-f4435fdbae18",
   "metadata": {
    "papermill": {},
    "tags": []
   },
   "source": [
    "<img width=\"10%\" alt=\"Naas\" src=\"https://landen.imgix.net/jtci2pxwjczr/assets/5ice39g4.png?w=160\"/>"
   ]
  },
  {
   "cell_type": "markdown",
   "id": "d036b92a-2734-43c9-b084-b9e101109e04",
   "metadata": {
    "papermill": {},
    "tags": []
   },
   "source": [
    "# Dash - Create button to refresh page\n",
    "<a href=\"https://app.naas.ai/user-redirect/naas/downloader?url=https://raw.githubusercontent.com/jupyter-naas/awesome-notebooks/master/Dash/Dash_Create_button_to_refresh_page.ipynb\" target=\"_parent\"><img src=\"https://naasai-public.s3.eu-west-3.amazonaws.com/Open_in_Naas_Lab.svg\"/></a><br><br><a href=\"https://github.com/jupyter-naas/awesome-notebooks/issues/new?assignees=&labels=&template=template-request.md&title=Tool+-+Action+of+the+notebook+\">Template request</a> | <a href=\"https://github.com/jupyter-naas/awesome-notebooks/issues/new?assignees=&labels=bug&template=bug_report.md&title=Dash+-+Create+button+to+refresh+page:+Error+short+description\">Bug report</a> | <a href=\"https://app.naas.ai/user-redirect/naas/downloader?url=https://raw.githubusercontent.com/jupyter-naas/awesome-notebooks/master/Naas/Naas_Start_data_product.ipynb\" target=\"_parent\">Generate Data Product</a>"
   ]
  },
  {
   "cell_type": "markdown",
   "id": "de4a0bb6-3c97-486f-ab1f-ed0d34c2f1f7",
   "metadata": {
    "papermill": {},
    "tags": []
   },
   "source": [
    "**Tags:** #dash #python #button #refresh #page #stackoverflow"
   ]
  },
  {
   "cell_type": "markdown",
   "id": "2853738c-e5e5-45b8-ac95-f37decb7a817",
   "metadata": {
    "papermill": {},
    "tags": []
   },
   "source": [
    "**Author:** [Florent Ravenel](https://www.linkedin.com/in/florent-ravenel/)"
   ]
  },
  {
   "cell_type": "markdown",
   "id": "3bf44485-252d-441d-a375-9e3ace239f54",
   "metadata": {
    "papermill": {},
    "tags": []
   },
   "source": [
    "**Description:** This notebook explains how to create a button in Dash to refresh the page."
   ]
  },
  {
   "cell_type": "markdown",
   "id": "f4f04bb6-80fa-4dca-b2aa-7fed49d5d885",
   "metadata": {
    "papermill": {},
    "tags": []
   },
   "source": [
    "**References:**\n",
    "- [Dash Application Python Button for Refresh the Page](https://stackoverflow.com/questions/60762890/dash-application-python-button-for-refresh-the-page)"
   ]
  },
  {
   "cell_type": "markdown",
   "id": "ce709e17-3abc-4fbb-8289-707b69cf25f0",
   "metadata": {
    "papermill": {},
    "tags": []
   },
   "source": [
    "## Input"
   ]
  },
  {
   "cell_type": "markdown",
   "id": "67870a87-915d-4560-b49b-16e4a962e5f2",
   "metadata": {
    "papermill": {},
    "tags": []
   },
   "source": [
    "### Import libraries"
   ]
  },
  {
   "cell_type": "code",
   "execution_count": null,
   "id": "05ba524e-8269-4c8d-826e-b36cae13af1b",
   "metadata": {
    "papermill": {},
    "tags": []
   },
   "outputs": [],
   "source": [
    "import os\n",
    "try:\n",
    "    import dash\n",
    "except:\n",
    "    !pip install dash --user\n",
    "    import dash\n",
    "try:\n",
    "    import dash_bootstrap_components as dbc\n",
    "except:\n",
    "    !pip install dash_bootstrap_components --user\n",
    "    import dash_bootstrap_components as dbc\n",
    "from dash import html, dcc, Output, Input, State"
   ]
  },
  {
   "cell_type": "markdown",
   "id": "509fb584-b1bf-444e-a913-b95aa838faec",
   "metadata": {
    "papermill": {},
    "tags": []
   },
   "source": [
    "### Setup Variables\n",
    "- `DASH_PORT`: specify a port number for Dash"
   ]
  },
  {
   "cell_type": "code",
   "execution_count": null,
   "id": "3d7a66d7-badb-4fe1-8707-4a762277840a",
   "metadata": {
    "papermill": {},
    "tags": []
   },
   "outputs": [],
   "source": [
    "DASH_PORT = 8050"
   ]
  },
  {
   "cell_type": "markdown",
   "id": "80bf1005-7ee8-4674-adaa-ac4ea888b329",
   "metadata": {
    "papermill": {},
    "tags": []
   },
   "source": [
    "## Model"
   ]
  },
  {
   "cell_type": "markdown",
   "id": "39b14036-e73b-4953-9303-c3c8e0854745",
   "metadata": {
    "papermill": {},
    "tags": []
   },
   "source": [
    "### Initialize Dash app"
   ]
  },
  {
   "cell_type": "code",
   "execution_count": null,
   "id": "a82f337c-9545-492c-8557-56838aabb457",
   "metadata": {
    "papermill": {},
    "tags": []
   },
   "outputs": [],
   "source": [
    "app = dash.Dash(\n",
    "    requests_pathname_prefix=f'/user/{os.environ.get(\"JUPYTERHUB_USER\")}/proxy/{DASH_PORT}/',\n",
    "    external_stylesheets=[dbc.themes.BOOTSTRAP],\n",
    "    meta_tags=[\n",
    "        {\"name\": \"viewport\", \"content\": \"width=device-width, initial-scale=1.0\"}\n",
    "    ],\n",
    ")\n",
    "\n",
    "# app = dash.Dash() if you are not in Naas"
   ]
  },
  {
   "cell_type": "markdown",
   "id": "74ba6a83-8eb6-49eb-a44d-849b897194a1",
   "metadata": {
    "papermill": {},
    "tags": []
   },
   "source": [
    "### Create button to refresh page"
   ]
  },
  {
   "cell_type": "code",
   "execution_count": null,
   "id": "2c1b8bf0-8e89-4156-9df4-d1adffd95256",
   "metadata": {
    "papermill": {},
    "tags": []
   },
   "outputs": [],
   "source": [
    "app.layout = html.Div([\n",
    "    # represents the browser address bar and doesn't render anything\n",
    "    dcc.Location(id='url', refresh=False),\n",
    "\n",
    "    dcc.Link('Navigate to \"/\"', href='/'),\n",
    "\n",
    "    # content will be rendered in this element\n",
    "    html.Div(id='page-content')\n",
    "])\n",
    "\n",
    "\n",
    "@app.callback(\n",
    "    Output('page-content', 'children'),\n",
    "    [Input('url', 'pathname')])\n",
    "def display_page(relative_pathname):\n",
    "    return html.Div([\n",
    "        html.H3(f'You are on page {relative_pathname}'),\n",
    "        html.A(html.Button('Refresh Page'),href=relative_pathname),\n",
    "    ])"
   ]
  },
  {
   "cell_type": "markdown",
   "id": "c35ef780-9a10-4fe3-ac38-3ed44562a0b4",
   "metadata": {
    "execution": {
     "iopub.execute_input": "2021-07-02T23:32:10.789097Z",
     "iopub.status.busy": "2021-07-02T23:32:10.788829Z",
     "iopub.status.idle": "2021-07-02T23:32:10.796900Z",
     "shell.execute_reply": "2021-07-02T23:32:10.796358Z",
     "shell.execute_reply.started": "2021-07-02T23:32:10.789033Z"
    },
    "papermill": {},
    "tags": []
   },
   "source": [
    "## Output"
   ]
  },
  {
   "cell_type": "markdown",
   "id": "38a2cdf1-1e74-40a7-88db-092e2bdf34a3",
   "metadata": {
    "papermill": {},
    "tags": []
   },
   "source": [
    "### Generate URL and show logs"
   ]
  },
  {
   "cell_type": "code",
   "execution_count": null,
   "id": "9b9c7b4c-5a6d-4ddf-9613-590faef59c97",
   "metadata": {
    "papermill": {},
    "tags": []
   },
   "outputs": [],
   "source": [
    "if __name__ == \"__main__\":\n",
    "    app.run_server(proxy=f\"http://127.0.0.1:{DASH_PORT}::https://app.naas.ai\")"
   ]
  },
  {
   "cell_type": "code",
   "execution_count": null,
   "id": "75b69886-b045-4ccb-93d4-4e2c38a7a50c",
   "metadata": {
    "papermill": {},
    "tags": []
   },
   "outputs": [],
   "source": []
  }
 ],
 "metadata": {
  "kernelspec": {
   "display_name": "Python 3",
   "language": "python",
   "name": "python3"
  },
  "language_info": {
   "codemirror_mode": {
    "name": "ipython",
    "version": 3
   },
   "file_extension": ".py",
   "mimetype": "text/x-python",
   "name": "python",
   "nbconvert_exporter": "python",
   "pygments_lexer": "ipython3",
   "version": "3.9.6"
  },
  "naas": {
   "notebook_id": "4b333f42522abb0ce297502127eba3288b9cd14336f94c563c7523156c545ceb",
   "notebook_path": "Dash/Dash_Create_button_to_refresh_page.ipynb"
  },
  "papermill": {
   "default_parameters": {},
   "environment_variables": {},
   "parameters": {},
   "version": "2.4.0"
  },
  "widgets": {
   "application/vnd.jupyter.widget-state+json": {
    "state": {},
    "version_major": 2,
    "version_minor": 0
   }
  }
 },
 "nbformat": 4,
 "nbformat_minor": 5
}