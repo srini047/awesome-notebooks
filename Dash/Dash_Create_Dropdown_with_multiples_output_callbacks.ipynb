{
 "cells": [
  {
   "cell_type": "markdown",
   "id": "latin-packing",
   "metadata": {
    "execution": {
     "iopub.execute_input": "2021-02-23T14:22:16.610471Z",
     "iopub.status.busy": "2021-02-23T14:22:16.610129Z",
     "iopub.status.idle": "2021-02-23T14:22:16.627784Z",
     "shell.execute_reply": "2021-02-23T14:22:16.626866Z",
     "shell.execute_reply.started": "2021-02-23T14:22:16.610384Z"
    },
    "papermill": {},
    "tags": []
   },
   "source": [
    "<img width=\"10%\" alt=\"Naas\" src=\"https://landen.imgix.net/jtci2pxwjczr/assets/5ice39g4.png?w=160\"/>"
   ]
  },
  {
   "cell_type": "markdown",
   "id": "compressed-wilson",
   "metadata": {
    "papermill": {},
    "tags": []
   },
   "source": [
    "# Dash - Create Dropdown with multiples output callbacks\n",
    "<a href=\"https://app.naas.ai/user-redirect/naas/downloader?url=https://raw.githubusercontent.com/jupyter-naas/awesome-notebooks/master/Dash/Dash_Create_Dropdown_with_multiples_output_callbacks.ipynb\" target=\"_parent\"><img src=\"https://naasai-public.s3.eu-west-3.amazonaws.com/open_in_naas.svg\"/></a><br><br><a href=\"https://github.com/jupyter-naas/awesome-notebooks/issues/new?assignees=&labels=&template=template-request.md&title=Tool+-+Action+of+the+notebook+\">Template request</a> | <a href=\"https://github.com/jupyter-naas/awesome-notebooks/issues/new?assignees=&labels=bug&template=bug_report.md&title=Dash+-+Create+Dropdown+with+multiples+output+callbacks:+Error+short+description\">Bug report</a>"
   ]
  },
  {
   "cell_type": "markdown",
   "id": "religious-programmer",
   "metadata": {
    "papermill": {},
    "tags": []
   },
   "source": [
    "**Tags:** #dashboard #plotly #dash #naas #asset #analytics #dropdown #callback #bootstrap"
   ]
  },
  {
   "cell_type": "markdown",
   "id": "1fe9f56e-561c-4f52-aef8-b861c9462107",
   "metadata": {
    "papermill": {},
    "tags": []
   },
   "source": [
    "**Author:** [Florent Ravenel](https://www.linkedin.com/in/florent-ravenel/)"
   ]
  },
  {
   "cell_type": "markdown",
   "id": "96f20bb5-d815-4a57-aca7-9397b8677b3e",
   "metadata": {
    "papermill": {},
    "tags": []
   },
   "source": [
    "Create a basic dropdown, provide options and a value to dcc.Dropdown in that order."
   ]
  },
  {
   "cell_type": "markdown",
   "id": "b3c038bc-7e50-40c4-83aa-b3f8d6302eba",
   "metadata": {
    "papermill": {},
    "tags": []
   },
   "source": [
    "<u>Reference:</u> https://dash.plotly.com/dash-core-components/dropdown"
   ]
  },
  {
   "cell_type": "markdown",
   "id": "distinguished-truth",
   "metadata": {
    "papermill": {},
    "tags": []
   },
   "source": [
    "## Input"
   ]
  },
  {
   "cell_type": "markdown",
   "id": "numeric-mediterranean",
   "metadata": {
    "papermill": {},
    "tags": []
   },
   "source": [
    "### Import libraries"
   ]
  },
  {
   "cell_type": "code",
   "execution_count": null,
   "id": "68ed1f03-e836-4410-aca9-63114fcd8b9f",
   "metadata": {
    "papermill": {},
    "tags": []
   },
   "outputs": [],
   "source": [
    "import os\n",
    "try:\n",
    "    import dash\n",
    "except:\n",
    "    !pip install dash --user\n",
    "    import dash\n",
    "try:\n",
    "    import dash_bootstrap_components as dbc\n",
    "except:\n",
    "    !pip install dash_bootstrap_components --user\n",
    "    import dash_bootstrap_components as dbc\n",
    "from dash import html, Input, Output, State, dcc, dash_table as dt\n",
    "import plotly.graph_objs as go\n",
    "from dash.exceptions import PreventUpdate"
   ]
  },
  {
   "cell_type": "markdown",
   "id": "aggressive-trustee",
   "metadata": {
    "papermill": {},
    "tags": []
   },
   "source": [
    "### Setup Variables"
   ]
  },
  {
   "cell_type": "code",
   "execution_count": null,
   "id": "continuous-melbourne",
   "metadata": {
    "papermill": {},
    "tags": []
   },
   "outputs": [],
   "source": [
    "DASH_PORT = 8050"
   ]
  },
  {
   "cell_type": "markdown",
   "id": "registered-showcase",
   "metadata": {
    "papermill": {},
    "tags": []
   },
   "source": [
    "## Model"
   ]
  },
  {
   "cell_type": "markdown",
   "id": "4d1fce2c-8272-49ca-aa06-008ec0cce104",
   "metadata": {
    "papermill": {},
    "tags": []
   },
   "source": [
    "### Data"
   ]
  },
  {
   "cell_type": "code",
   "execution_count": null,
   "id": "910fa792-9af8-4eca-ba17-944aacb969f5",
   "metadata": {
    "papermill": {},
    "tags": []
   },
   "outputs": [],
   "source": [
    "sample_data = {\n",
    "    \"series\": {\n",
    "        \"data\": [\n",
    "            {\"title\": \"Game of Thrones\", \"score\": 9.5},\n",
    "            {\"title\": \"Stranger Things\", \"score\": 8.9},\n",
    "            {\"title\": \"Vikings\", \"score\": 8.6},\n",
    "        ],\n",
    "        \"style\": {\"backgroundColor\": \"#ff998a\"},\n",
    "    },\n",
    "    \"movies\": {\n",
    "        \"data\": [\n",
    "            {\"title\": \"Rambo\", \"score\": 7.7},\n",
    "            {\"title\": \"The Terminator\", \"score\": 8.0},\n",
    "            {\"title\": \"Alien\", \"score\": 8.5},\n",
    "        ],\n",
    "        \"style\": {\"backgroundColor\": \"#fff289\"},\n",
    "    },\n",
    "}"
   ]
  },
  {
   "cell_type": "markdown",
   "id": "22ac3f9c-2067-4a13-a0c5-9d4d249d5693",
   "metadata": {
    "papermill": {},
    "tags": []
   },
   "source": [
    "### Create dropdown"
   ]
  },
  {
   "cell_type": "code",
   "execution_count": null,
   "id": "598c9847-4596-4677-afa0-fecfb6c7754e",
   "metadata": {
    "papermill": {},
    "tags": []
   },
   "outputs": [],
   "source": [
    "app = dash.Dash(\n",
    "    requests_pathname_prefix=f'/user/{os.environ.get(\"JUPYTERHUB_USER\")}/proxy/{DASH_PORT}/',\n",
    "    external_stylesheets=[dbc.themes.BOOTSTRAP],\n",
    "    meta_tags=[\n",
    "        {\"name\": \"viewport\", \"content\": \"width=device-width, initial-scale=1.0\"}\n",
    "    ],\n",
    ")\n",
    "\n",
    "app.layout = html.Div(\n",
    "    [\n",
    "        html.H1(\"Multi output example\"),\n",
    "        dcc.Dropdown(\n",
    "            id=\"data-dropdown\",\n",
    "            options=[\n",
    "                {\"label\": \"Movies\", \"value\": \"movies\"},\n",
    "                {\"label\": \"Series\", \"value\": \"series\"},\n",
    "            ],\n",
    "            value=\"movies\",\n",
    "        ),\n",
    "        html.Div(\n",
    "            [\n",
    "                dcc.Graph(id=\"graph\"),\n",
    "                dt.DataTable(\n",
    "                    id=\"data-table\",\n",
    "                    columns=[\n",
    "                        {\"name\": \"Title\", \"id\": \"title\"},\n",
    "                        {\"name\": \"Score\", \"id\": \"score\"},\n",
    "                    ],\n",
    "                ),\n",
    "            ]\n",
    "        ),\n",
    "    ],\n",
    "    id=\"container\",\n",
    ")\n",
    "\n",
    "\n",
    "@app.callback(\n",
    "    [\n",
    "        Output(\"graph\", \"figure\"),\n",
    "        Output(\"data-table\", \"data\"),\n",
    "        Output(\"data-table\", \"columns\"),\n",
    "        Output(\"container\", \"style\"),\n",
    "    ],\n",
    "    [Input(\"data-dropdown\", \"value\")],\n",
    ")\n",
    "def multi_outputs(value):\n",
    "    if value is None:\n",
    "        raise PreventUpdate\n",
    "\n",
    "    # Display table data\n",
    "    selected = sample_data[value]\n",
    "    data = selected[\"data\"]\n",
    "    columns = [{\"name\": k.capitalize(), \"id\": k} for k in data[0].keys()]\n",
    "\n",
    "    # Display figure\n",
    "    figure = go.Figure(\n",
    "        data=[go.Bar(x=[x[\"score\"]], text=x[\"title\"], name=x[\"title\"]) for x in data]\n",
    "    )\n",
    "    return figure, data, columns, selected[\"style\"]"
   ]
  },
  {
   "cell_type": "markdown",
   "id": "lonely-pacific",
   "metadata": {
    "execution": {
     "iopub.execute_input": "2021-07-02T23:32:10.789097Z",
     "iopub.status.busy": "2021-07-02T23:32:10.788829Z",
     "iopub.status.idle": "2021-07-02T23:32:10.796900Z",
     "shell.execute_reply": "2021-07-02T23:32:10.796358Z",
     "shell.execute_reply.started": "2021-07-02T23:32:10.789033Z"
    },
    "papermill": {},
    "tags": []
   },
   "source": [
    "## Output"
   ]
  },
  {
   "cell_type": "markdown",
   "id": "890f7c86-b7bb-4f5d-9a1b-e492dd9580fd",
   "metadata": {
    "papermill": {},
    "tags": []
   },
   "source": [
    "### Generate URL and show logs"
   ]
  },
  {
   "cell_type": "code",
   "execution_count": null,
   "id": "9c4e3b7b-6440-4844-8054-265f1aec65eb",
   "metadata": {
    "papermill": {},
    "tags": []
   },
   "outputs": [],
   "source": [
    "if __name__ == \"__main__\":\n",
    "    app.run_server(proxy=f\"http://127.0.0.1:{DASH_PORT}::https://app.naas.ai\")"
   ]
  },
  {
   "cell_type": "code",
   "execution_count": null,
   "id": "6e085f51-09b2-433c-8d14-c422798dfcfe",
   "metadata": {
    "papermill": {},
    "tags": []
   },
   "outputs": [],
   "source": []
  }
 ],
 "metadata": {
  "kernelspec": {
   "display_name": "Python 3",
   "language": "python",
   "name": "python3"
  },
  "language_info": {
   "codemirror_mode": {
    "name": "ipython",
    "version": 3
   },
   "file_extension": ".py",
   "mimetype": "text/x-python",
   "name": "python",
   "nbconvert_exporter": "python",
   "pygments_lexer": "ipython3",
   "version": "3.9.6"
  },
  "papermill": {
   "default_parameters": {},
   "environment_variables": {},
   "parameters": {},
   "version": "2.3.3"
  },
  "widgets": {
   "application/vnd.jupyter.widget-state+json": {
    "state": {},
    "version_major": 2,
    "version_minor": 0
   }
  }
 },
 "nbformat": 4,
 "nbformat_minor": 5
}