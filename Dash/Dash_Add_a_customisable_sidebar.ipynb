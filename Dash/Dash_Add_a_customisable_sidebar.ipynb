{
 "cells": [
  {
   "cell_type": "markdown",
   "id": "dd33afaf-04ae-43a2-afac-befbcb6a4e18",
   "metadata": {
    "papermill": {},
    "tags": []
   },
   "source": [
    "<img width=\"10%\" alt=\"Naas\" src=\"https://landen.imgix.net/jtci2pxwjczr/assets/5ice39g4.png?w=160\"/>"
   ]
  },
  {
   "cell_type": "markdown",
   "id": "b894955f-b4e2-43e0-b007-6410860296aa",
   "metadata": {
    "papermill": {},
    "tags": []
   },
   "source": [
    "# Dash - Add a customisable sidebar\n",
    "<a href=\"https://app.naas.ai/user-redirect/naas/downloader?url=https://raw.githubusercontent.com/jupyter-naas/awesome-notebooks/master/Dash/Dash_Add_a_customisable_sidebar.ipynb\" target=\"_parent\"><img src=\"https://naasai-public.s3.eu-west-3.amazonaws.com/Open_in_Naas_Lab.svg\"/></a><br><br><a href=\"https://github.com/jupyter-naas/awesome-notebooks/issues/new?assignees=&labels=&template=template-request.md&title=Tool+-+Action+of+the+notebook+\">Template request</a> | <a href=\"https://github.com/jupyter-naas/awesome-notebooks/issues/new?assignees=&labels=bug&template=bug_report.md&title=Dash+-+Add+a+customisable+sidebar:+Error+short+description\">Bug report</a> | <a href=\"https://app.naas.ai/user-redirect/naas/downloader?url=https://raw.githubusercontent.com/jupyter-naas/awesome-notebooks/master/Naas/Naas_Start_data_product.ipynb\" target=\"_parent\">Generate Data Product</a>"
   ]
  },
  {
   "cell_type": "markdown",
   "id": "a9bd920b-654f-403b-8cb8-e5600e111fe2",
   "metadata": {
    "papermill": {},
    "tags": []
   },
   "source": [
    "**Tags:** #dash #offcanvas #sidebar #customisable #component #library"
   ]
  },
  {
   "cell_type": "markdown",
   "id": "e0aaf121-24bc-495e-8e97-32c756288a02",
   "metadata": {
    "papermill": {},
    "tags": []
   },
   "source": [
    "**Author:** [Florent Ravenel](https://www.linkedin.com/in/florent-ravenel/)"
   ]
  },
  {
   "cell_type": "markdown",
   "id": "a04f45ce-c6b5-4ddd-9c95-9d9b359ba6e8",
   "metadata": {
    "papermill": {},
    "tags": []
   },
   "source": [
    "**Description:** This notebook demonstrates how to use the Offcanvas component to add a customisable sidebar to your apps. It is usefull for organisations that need to add a sidebar to their Dash apps."
   ]
  },
  {
   "cell_type": "markdown",
   "id": "f590f72a-bee4-40cf-bbfe-a6ca8af23938",
   "metadata": {
    "papermill": {},
    "tags": []
   },
   "source": [
    "**References:**\n",
    "- [Dash Bootstrap Components - Offcanvas](https://dash-bootstrap-components.opensource.faculty.ai/docs/components/offcanvas/)\n",
    "- [Dash Bootstrap Components - Getting Started](https://dash-bootstrap-components.opensource.faculty.ai/docs/getting-started)"
   ]
  },
  {
   "cell_type": "markdown",
   "id": "d1ae48d8-7615-4340-ad96-7972a7c67b41",
   "metadata": {
    "papermill": {},
    "tags": []
   },
   "source": [
    "## Input"
   ]
  },
  {
   "cell_type": "markdown",
   "id": "d3f8da7e-0e07-4dd8-ae6c-4ed5321ad4b9",
   "metadata": {
    "papermill": {},
    "tags": []
   },
   "source": [
    "### Import libraries"
   ]
  },
  {
   "cell_type": "code",
   "execution_count": null,
   "id": "bf1e1e6a-516c-4587-8924-a8f980c72a41",
   "metadata": {
    "papermill": {},
    "tags": []
   },
   "outputs": [],
   "source": [
    "import os\n",
    "try:\n",
    "    import dash\n",
    "except:\n",
    "    !pip install dash --user\n",
    "    import dash\n",
    "try:\n",
    "    import dash_bootstrap_components as dbc\n",
    "except:\n",
    "    !pip install dash_bootstrap_components --user\n",
    "    import dash_bootstrap_components as dbc\n",
    "from dash import Input, Output, State, html"
   ]
  },
  {
   "cell_type": "markdown",
   "id": "1fb20abe-0aa7-4fe9-9683-ee7660dba461",
   "metadata": {
    "papermill": {},
    "tags": []
   },
   "source": [
    "### Setup Variables\n",
    "- `DASH_PORT`: specify a port number for Dash\n",
    "- `placement`: a value equal to: 'start', 'end', 'top', 'bottom'; optional: Which side of the viewport the offcanvas will appear from."
   ]
  },
  {
   "cell_type": "code",
   "execution_count": null,
   "id": "b9947094-2932-45d5-8d29-ac5ab7c8e16e",
   "metadata": {
    "papermill": {},
    "tags": []
   },
   "outputs": [],
   "source": [
    "DASH_PORT = 8050\n",
    "placement = \"start\""
   ]
  },
  {
   "cell_type": "markdown",
   "id": "06a94f7b-49d4-450e-b51f-591c8631564b",
   "metadata": {
    "papermill": {},
    "tags": []
   },
   "source": [
    "## Model"
   ]
  },
  {
   "cell_type": "markdown",
   "id": "5646e328-cd53-489a-b50f-eccbba25af8d",
   "metadata": {
    "papermill": {},
    "tags": []
   },
   "source": [
    "### Initialize Dash app"
   ]
  },
  {
   "cell_type": "code",
   "execution_count": null,
   "id": "e1c935e4-1393-436c-b7e6-fcf191244055",
   "metadata": {
    "papermill": {},
    "tags": []
   },
   "outputs": [],
   "source": [
    "app = dash.Dash(\n",
    "    requests_pathname_prefix=f'/user/{os.environ.get(\"JUPYTERHUB_USER\")}/proxy/{DASH_PORT}/',\n",
    "    external_stylesheets=[dbc.themes.BOOTSTRAP],\n",
    "    meta_tags=[\n",
    "        {\"name\": \"viewport\", \"content\": \"width=device-width, initial-scale=1.0\"}\n",
    "    ],\n",
    ")\n",
    "\n",
    "# app = dash.Dash() if you are not in Naas"
   ]
  },
  {
   "cell_type": "markdown",
   "id": "7d7d8206-c570-49fd-9286-7a54c9c2dbc2",
   "metadata": {
    "papermill": {},
    "tags": []
   },
   "source": [
    "### Create Offcanvas component"
   ]
  },
  {
   "cell_type": "markdown",
   "id": "2d2548d2-964b-4228-b1f5-5db673a0ce67",
   "metadata": {
    "papermill": {},
    "tags": []
   },
   "source": [
    "Long description of the function: The Offcanvas component is a customisable sidebar that can be used to add content to your Dash apps. It is created using the `dbc.Offcanvas` function."
   ]
  },
  {
   "cell_type": "code",
   "execution_count": null,
   "id": "f20b1e85-7a9c-46f7-88c9-4ec6b79a5e03",
   "metadata": {
    "papermill": {},
    "tags": []
   },
   "outputs": [],
   "source": [
    "offcanvas = html.Div(\n",
    "    [\n",
    "        dbc.Button(\"Open Offcanvas\", id=\"open-offcanvas\", n_clicks=0),\n",
    "        dbc.Offcanvas(\n",
    "            html.P(\n",
    "                \"This is the content of the Offcanvas. \"\n",
    "                \"Close it by clicking on the close button, or \"\n",
    "                \"the backdrop.\"\n",
    "            ),\n",
    "            id=\"offcanvas\",\n",
    "            title=\"Title\",\n",
    "            is_open=False,\n",
    "            placement=placement,\n",
    "        ),\n",
    "    ]\n",
    ")\n",
    "\n",
    "app.layout = html.Div(\n",
    "    [\n",
    "        offcanvas\n",
    "    ]\n",
    ")\n",
    "\n",
    "@app.callback(\n",
    "    Output(\"offcanvas\", \"is_open\"),\n",
    "    Input(\"open-offcanvas\", \"n_clicks\"),\n",
    "    [State(\"offcanvas\", \"is_open\")],\n",
    ")\n",
    "def toggle_offcanvas(n1, is_open):\n",
    "    if n1:\n",
    "        return not is_open\n",
    "    return is_open"
   ]
  },
  {
   "cell_type": "markdown",
   "id": "4a1e67c5-375e-46e6-8a2d-32a620e9f33a",
   "metadata": {
    "papermill": {},
    "tags": []
   },
   "source": [
    "## Output"
   ]
  },
  {
   "cell_type": "markdown",
   "id": "07e88ea2-1f1e-4a70-b507-4ea3100cd088",
   "metadata": {
    "papermill": {},
    "tags": []
   },
   "source": [
    "### Generate URL and show logs"
   ]
  },
  {
   "cell_type": "code",
   "execution_count": null,
   "id": "a62919ac-0eca-497f-8c6d-3ca017332290",
   "metadata": {
    "papermill": {},
    "tags": []
   },
   "outputs": [],
   "source": [
    "if __name__ == \"__main__\":\n",
    "    app.run_server(proxy=f\"http://127.0.0.1:{DASH_PORT}::https://app.naas.ai\")"
   ]
  },
  {
   "cell_type": "markdown",
   "id": "719fd1ab-1cf4-4554-a131-5c217cac959e",
   "metadata": {
    "papermill": {},
    "tags": []
   },
   "source": [
    " "
   ]
  }
 ],
 "metadata": {
  "kernelspec": {
   "display_name": "Python 3",
   "language": "python",
   "name": "python3"
  },
  "language_info": {
   "codemirror_mode": {
    "name": "ipython",
    "version": 3
   },
   "file_extension": ".py",
   "mimetype": "text/x-python",
   "name": "python",
   "nbconvert_exporter": "python",
   "pygments_lexer": "ipython3",
   "version": "3.9.6"
  },
  "naas": {
   "notebook_id": "27f443089a00055bee93b043b9b42d368258d639ffac4a99a34bcac72a8c6f06",
   "notebook_path": "Dash/Dash_Add_a_customisable_sidebar.ipynb"
  },
  "papermill": {
   "default_parameters": {},
   "environment_variables": {},
   "parameters": {},
   "version": "2.4.0"
  },
  "widgets": {
   "application/vnd.jupyter.widget-state+json": {
    "state": {},
    "version_major": 2,
    "version_minor": 0
   }
  }
 },
 "nbformat": 4,
 "nbformat_minor": 5
}