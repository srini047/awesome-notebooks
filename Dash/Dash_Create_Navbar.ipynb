{
 "cells": [
  {
   "cell_type": "markdown",
   "id": "latin-packing",
   "metadata": {
    "execution": {
     "iopub.execute_input": "2021-02-23T14:22:16.610471Z",
     "iopub.status.busy": "2021-02-23T14:22:16.610129Z",
     "iopub.status.idle": "2021-02-23T14:22:16.627784Z",
     "shell.execute_reply": "2021-02-23T14:22:16.626866Z",
     "shell.execute_reply.started": "2021-02-23T14:22:16.610384Z"
    },
    "papermill": {},
    "tags": []
   },
   "source": [
    "<img width=\"10%\" alt=\"Naas\" src=\"https://landen.imgix.net/jtci2pxwjczr/assets/5ice39g4.png?w=160\"/>"
   ]
  },
  {
   "cell_type": "markdown",
   "id": "compressed-wilson",
   "metadata": {
    "papermill": {},
    "tags": []
   },
   "source": [
    "# Dash - Create Navbar\n",
    "<a href=\"https://app.naas.ai/user-redirect/naas/downloader?url=https://raw.githubusercontent.com/jupyter-naas/awesome-notebooks/master/Dash/Dash_Create_Navbar.ipynb\" target=\"_parent\"><img src=\"https://naasai-public.s3.eu-west-3.amazonaws.com/open_in_naas.svg\"/></a><br><br><a href=\"https://github.com/jupyter-naas/awesome-notebooks/issues/new?assignees=&labels=&template=template-request.md&title=Tool+-+Action+of+the+notebook+\">Template request</a> | <a href=\"https://github.com/jupyter-naas/awesome-notebooks/issues/new?assignees=&labels=bug&template=bug_report.md&title=Dash+-+Create+Navbar:+Error+short+description\">Bug report</a>"
   ]
  },
  {
   "cell_type": "markdown",
   "id": "religious-programmer",
   "metadata": {
    "papermill": {},
    "tags": []
   },
   "source": [
    "**Tags:** #dashboard #plotly #dash #naas #asset #analytics #navbar #bootstrap"
   ]
  },
  {
   "cell_type": "markdown",
   "id": "1fe9f56e-561c-4f52-aef8-b861c9462107",
   "metadata": {
    "papermill": {},
    "tags": []
   },
   "source": [
    "**Author:** [Florent Ravenel](https://www.linkedin.com/in/florent-ravenel/)"
   ]
  },
  {
   "cell_type": "markdown",
   "id": "31ea7cdb-e10d-43fc-b026-f69249a59736",
   "metadata": {
    "papermill": {},
    "tags": []
   },
   "source": [
    "A simple app demonstrating how to manually construct a navbar with a customised layout using the Navbar component and the supporting Nav, NavItem, NavLink, NavbarBrand, and NavbarToggler components.\n",
    "\n",
    "Requires dash-bootstrap-components 0.3.0 or later"
   ]
  },
  {
   "cell_type": "markdown",
   "id": "01e26363-d16a-40f5-bb86-3c5a297c4514",
   "metadata": {
    "papermill": {},
    "tags": []
   },
   "source": [
    "<u>Reference:</u> https://github.com/facultyai/dash-bootstrap-components/blob/main/examples/python/advanced-component-usage/navbars.py"
   ]
  },
  {
   "cell_type": "markdown",
   "id": "distinguished-truth",
   "metadata": {
    "papermill": {},
    "tags": []
   },
   "source": [
    "## Input"
   ]
  },
  {
   "cell_type": "markdown",
   "id": "numeric-mediterranean",
   "metadata": {
    "papermill": {},
    "tags": []
   },
   "source": [
    "### Import libraries"
   ]
  },
  {
   "cell_type": "code",
   "execution_count": null,
   "id": "68ed1f03-e836-4410-aca9-63114fcd8b9f",
   "metadata": {
    "papermill": {},
    "tags": []
   },
   "outputs": [],
   "source": [
    "import os\n",
    "try:\n",
    "    import dash\n",
    "except:\n",
    "    !pip install dash --user\n",
    "    import dash\n",
    "try:\n",
    "    import dash_bootstrap_components as dbc\n",
    "except:\n",
    "    !pip install dash_bootstrap_components --user\n",
    "    import dash_bootstrap_components as dbc\n",
    "from dash import html, Input, Output, State"
   ]
  },
  {
   "cell_type": "markdown",
   "id": "aggressive-trustee",
   "metadata": {
    "papermill": {},
    "tags": []
   },
   "source": [
    "### Setup Variables"
   ]
  },
  {
   "cell_type": "code",
   "execution_count": null,
   "id": "continuous-melbourne",
   "metadata": {
    "papermill": {},
    "tags": []
   },
   "outputs": [],
   "source": [
    "DASH_PORT = 8050\n",
    "PLOTLY_LOGO = \"https://images.plot.ly/logo/new-branding/plotly-logomark.png\""
   ]
  },
  {
   "cell_type": "markdown",
   "id": "registered-showcase",
   "metadata": {
    "papermill": {},
    "tags": []
   },
   "source": [
    "## Model"
   ]
  },
  {
   "cell_type": "markdown",
   "id": "22ac3f9c-2067-4a13-a0c5-9d4d249d5693",
   "metadata": {
    "papermill": {},
    "tags": []
   },
   "source": [
    "### Utils"
   ]
  },
  {
   "cell_type": "code",
   "execution_count": null,
   "id": "23569f52-868c-4c4a-8f81-2411b0e02e24",
   "metadata": {
    "papermill": {},
    "tags": []
   },
   "outputs": [],
   "source": [
    "# make a reuseable navitem for the different examples\n",
    "nav_item = dbc.NavItem(dbc.NavLink(\"Link\", href=\"#\"))\n",
    "\n",
    "# make a reuseable dropdown for the different examples\n",
    "dropdown = dbc.DropdownMenu(\n",
    "    children=[\n",
    "        dbc.DropdownMenuItem(\"Entry 1\"),\n",
    "        dbc.DropdownMenuItem(\"Entry 2\"),\n",
    "        dbc.DropdownMenuItem(divider=True),\n",
    "        dbc.DropdownMenuItem(\"Entry 3\"),\n",
    "    ],\n",
    "    nav=True,\n",
    "    in_navbar=True,\n",
    "    label=\"Menu\",\n",
    ")"
   ]
  },
  {
   "cell_type": "markdown",
   "id": "1c9c5a07-e693-42ae-b44c-d3d04ba6d5c4",
   "metadata": {
    "papermill": {},
    "tags": []
   },
   "source": [
    "### Navbar Simple"
   ]
  },
  {
   "cell_type": "code",
   "execution_count": null,
   "id": "fa87009d-b302-482e-b62c-792f958c8467",
   "metadata": {
    "papermill": {},
    "tags": []
   },
   "outputs": [],
   "source": [
    "# this is the default navbar style created by the NavbarSimple component\n",
    "default = dbc.NavbarSimple(\n",
    "    children=[nav_item, dropdown],\n",
    "    brand=\"NavbarSimple\",\n",
    "    brand_href=\"#\",\n",
    "    sticky=\"top\",\n",
    "    className=\"mb-5\",\n",
    ")"
   ]
  },
  {
   "cell_type": "markdown",
   "id": "421c4a56-2dda-4962-845f-4e094994ef2c",
   "metadata": {
    "papermill": {},
    "tags": []
   },
   "source": [
    "### Navbar Custom"
   ]
  },
  {
   "cell_type": "code",
   "execution_count": null,
   "id": "2b44ffa7-c296-4d74-a054-8dd1145b9038",
   "metadata": {
    "papermill": {},
    "tags": []
   },
   "outputs": [],
   "source": [
    "# here's how you can recreate the same thing using Navbar\n",
    "# (see also required callback at the end of the file)\n",
    "custom_default = dbc.Navbar(\n",
    "    dbc.Container(\n",
    "        [\n",
    "            dbc.NavbarBrand(\"Custom default\", href=\"#\"),\n",
    "            dbc.NavbarToggler(id=\"navbar-toggler1\"),\n",
    "            dbc.Collapse(\n",
    "                dbc.Nav([nav_item, dropdown], className=\"ms-auto\", navbar=True),\n",
    "                id=\"navbar-collapse1\",\n",
    "                navbar=True,\n",
    "                is_open=False,\n",
    "            ),\n",
    "        ]\n",
    "    ),\n",
    "    className=\"mb-5\",\n",
    ")"
   ]
  },
  {
   "cell_type": "markdown",
   "id": "66e9f989-a7d0-4443-bd8d-9b05e8b814bc",
   "metadata": {
    "papermill": {},
    "tags": []
   },
   "source": [
    "### Navbar Custom with logo"
   ]
  },
  {
   "cell_type": "code",
   "execution_count": null,
   "id": "c5e925a1-28ad-4579-920f-89d55cae13bc",
   "metadata": {
    "papermill": {},
    "tags": []
   },
   "outputs": [],
   "source": [
    "# this example that adds a logo to the navbar brand\n",
    "logo = dbc.Navbar(\n",
    "    dbc.Container(\n",
    "        [\n",
    "            html.A(\n",
    "                # Use row and col to control vertical alignment of logo / brand\n",
    "                dbc.Row(\n",
    "                    [\n",
    "                        dbc.Col(html.Img(src=PLOTLY_LOGO, height=\"30px\")),\n",
    "                        dbc.Col(dbc.NavbarBrand(\"Logo\", className=\"ms-2\")),\n",
    "                    ],\n",
    "                    align=\"center\",\n",
    "                    className=\"g-0\",\n",
    "                ),\n",
    "                href=\"https://plotly.com\",\n",
    "                style={\"textDecoration\": \"none\"},\n",
    "            ),\n",
    "            dbc.NavbarToggler(id=\"navbar-toggler2\", n_clicks=0),\n",
    "            dbc.Collapse(\n",
    "                dbc.Nav(\n",
    "                    [nav_item, dropdown],\n",
    "                    className=\"ms-auto\",\n",
    "                    navbar=True,\n",
    "                ),\n",
    "                id=\"navbar-collapse2\",\n",
    "                navbar=True,\n",
    "                is_open=False,\n",
    "            ),\n",
    "        ],\n",
    "    ),\n",
    "    color=\"dark\",\n",
    "    dark=True,\n",
    "    className=\"mb-5\",\n",
    ")"
   ]
  },
  {
   "cell_type": "markdown",
   "id": "d3b972bc-60ef-4a91-8c0b-7bb1cc0734c5",
   "metadata": {
    "papermill": {},
    "tags": []
   },
   "source": [
    "### Navbar Custom with search"
   ]
  },
  {
   "cell_type": "code",
   "execution_count": null,
   "id": "4a987e1f-f840-45da-ad3a-c58b6a2341ed",
   "metadata": {
    "papermill": {},
    "tags": []
   },
   "outputs": [],
   "source": [
    "# this example has a search bar and button instead of navitems / dropdowns\n",
    "search_navbar = dbc.Navbar(\n",
    "    dbc.Container(\n",
    "        [\n",
    "            dbc.NavbarBrand(\"Search\", href=\"#\"),\n",
    "            dbc.NavbarToggler(id=\"navbar-toggler3\"),\n",
    "            dbc.Collapse(\n",
    "                dbc.Row(\n",
    "                    [\n",
    "                        dbc.Col(dbc.Input(type=\"search\", placeholder=\"Search\")),\n",
    "                        dbc.Col(\n",
    "                            dbc.Button(\"Search\", color=\"primary\", className=\"ms-2\"),\n",
    "                            # set width of button column to auto to allow\n",
    "                            # search box to take up remaining space.\n",
    "                            width=\"auto\",\n",
    "                        ),\n",
    "                    ],\n",
    "                    # add a top margin to make things look nice when the navbar\n",
    "                    # isn't expanded (mt-3) remove the margin on medium or\n",
    "                    # larger screens (mt-md-0) when the navbar is expanded.\n",
    "                    # keep button and search box on same row (flex-nowrap).\n",
    "                    # align everything on the right with left margin (ms-auto).\n",
    "                    className=\"g-0 ms-auto flex-nowrap mt-3 mt-md-0\",\n",
    "                    align=\"center\",\n",
    "                ),\n",
    "                id=\"navbar-collapse3\",\n",
    "                navbar=True,\n",
    "                is_open=False,\n",
    "            ),\n",
    "        ]\n",
    "    ),\n",
    "    className=\"mb-5\",\n",
    ")"
   ]
  },
  {
   "cell_type": "markdown",
   "id": "273f8e52-f082-41ed-b662-cf5fa9495fbb",
   "metadata": {
    "papermill": {},
    "tags": []
   },
   "source": [
    "### Navbar Custom Dashboard"
   ]
  },
  {
   "cell_type": "code",
   "execution_count": null,
   "id": "805f9681-5e9c-45b1-925b-ee165a4d5e9f",
   "metadata": {
    "papermill": {},
    "tags": []
   },
   "outputs": [],
   "source": [
    "# custom navbar based on https://getbootstrap.com/docs/4.1/examples/dashboard/\n",
    "dashboard = dbc.Navbar(\n",
    "    dbc.Container(\n",
    "        [\n",
    "            dbc.Col(dbc.NavbarBrand(\"Dashboard\", href=\"#\"), sm=3, md=2),\n",
    "            dbc.Col(dbc.Input(type=\"search\", placeholder=\"Search here\")),\n",
    "            dbc.Col(\n",
    "                dbc.Nav(\n",
    "                    dbc.Container(dbc.NavItem(dbc.NavLink(\"Sign out\"))),\n",
    "                    navbar=True,\n",
    "                ),\n",
    "                width=\"auto\",\n",
    "            ),\n",
    "        ],\n",
    "    ),\n",
    "    color=\"dark\",\n",
    "    dark=True,\n",
    ")"
   ]
  },
  {
   "cell_type": "markdown",
   "id": "25a0995d-aab9-4651-a652-e33c1126d014",
   "metadata": {
    "papermill": {},
    "tags": []
   },
   "source": [
    "### Create app layout"
   ]
  },
  {
   "cell_type": "code",
   "execution_count": null,
   "id": "9eef0448-82b3-4a6f-99fb-3393ea9f7d9d",
   "metadata": {
    "papermill": {},
    "tags": []
   },
   "outputs": [],
   "source": [
    "app = dash.Dash(\n",
    "    requests_pathname_prefix=f'/user/{os.environ.get(\"JUPYTERHUB_USER\")}/proxy/{DASH_PORT}/',\n",
    "    external_stylesheets=[dbc.themes.BOOTSTRAP],\n",
    "    meta_tags=[\n",
    "        {\"name\": \"viewport\", \"content\": \"width=device-width, initial-scale=1.0\"}\n",
    "    ],\n",
    ")\n",
    "\n",
    "app.layout = html.Div([default, custom_default, logo, search_navbar, dashboard])\n",
    "\n",
    "# we use a callback to toggle the collapse on small screens\n",
    "def toggle_navbar_collapse(n, is_open):\n",
    "    if n:\n",
    "        return not is_open\n",
    "    return is_open\n",
    "\n",
    "\n",
    "# the same function (toggle_navbar_collapse) is used in all three callbacks\n",
    "for i in [1, 2, 3]:\n",
    "    app.callback(\n",
    "        Output(f\"navbar-collapse{i}\", \"is_open\"),\n",
    "        [Input(f\"navbar-toggler{i}\", \"n_clicks\")],\n",
    "        [State(f\"navbar-collapse{i}\", \"is_open\")],\n",
    "    )(toggle_navbar_collapse)"
   ]
  },
  {
   "cell_type": "markdown",
   "id": "lonely-pacific",
   "metadata": {
    "execution": {
     "iopub.execute_input": "2021-07-02T23:32:10.789097Z",
     "iopub.status.busy": "2021-07-02T23:32:10.788829Z",
     "iopub.status.idle": "2021-07-02T23:32:10.796900Z",
     "shell.execute_reply": "2021-07-02T23:32:10.796358Z",
     "shell.execute_reply.started": "2021-07-02T23:32:10.789033Z"
    },
    "papermill": {},
    "tags": []
   },
   "source": [
    "## Output"
   ]
  },
  {
   "cell_type": "markdown",
   "id": "d7bcce05-c843-464f-9ffb-b2bdaad0cb61",
   "metadata": {
    "papermill": {},
    "tags": []
   },
   "source": [
    "### Generate URL and show logs"
   ]
  },
  {
   "cell_type": "code",
   "execution_count": 10,
   "id": "9664fb53-62c7-49c1-8cdd-73c0641c7721",
   "metadata": {
    "execution": {
     "iopub.status.idle": "2022-08-18T06:32:05.375430Z",
     "shell.execute_reply": "2022-08-18T06:32:05.374761Z",
     "shell.execute_reply.started": "2022-08-18T06:28:17.026504Z"
    },
    "papermill": {},
    "tags": []
   },
   "outputs": [],
   "source": [
    "if __name__ == \"__main__\":\n",
    "    app.run_server(proxy=f\"http://127.0.0.1:{DASH_PORT}::https://app.naas.ai\")"
   ]
  }
 ],
 "metadata": {
  "kernelspec": {
   "display_name": "Python 3",
   "language": "python",
   "name": "python3"
  },
  "language_info": {
   "codemirror_mode": {
    "name": "ipython",
    "version": 3
   },
   "file_extension": ".py",
   "mimetype": "text/x-python",
   "name": "python",
   "nbconvert_exporter": "python",
   "pygments_lexer": "ipython3",
   "version": "3.9.6"
  },
  "papermill": {
   "default_parameters": {},
   "environment_variables": {},
   "parameters": {},
   "version": "2.3.3"
  },
  "widgets": {
   "application/vnd.jupyter.widget-state+json": {
    "state": {},
    "version_major": 2,
    "version_minor": 0
   }
  }
 },
 "nbformat": 4,
 "nbformat_minor": 5
}