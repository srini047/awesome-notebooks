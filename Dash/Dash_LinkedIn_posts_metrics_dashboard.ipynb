{
 "cells": [
  {
   "cell_type": "markdown",
   "id": "latin-packing",
   "metadata": {
    "execution": {
     "iopub.execute_input": "2021-02-23T14:22:16.610471Z",
     "iopub.status.busy": "2021-02-23T14:22:16.610129Z",
     "iopub.status.idle": "2021-02-23T14:22:16.627784Z",
     "shell.execute_reply": "2021-02-23T14:22:16.626866Z",
     "shell.execute_reply.started": "2021-02-23T14:22:16.610384Z"
    },
    "papermill": {},
    "tags": []
   },
   "source": [
    "<img width=\"10%\" alt=\"Naas\" src=\"https://landen.imgix.net/jtci2pxwjczr/assets/5ice39g4.png?w=160\"/>"
   ]
  },
  {
   "cell_type": "markdown",
   "id": "compressed-wilson",
   "metadata": {
    "papermill": {},
    "tags": []
   },
   "source": [
    "# Dash - LinkedIn posts metrics dashboard\n",
    "<a href=\"https://app.naas.ai/user-redirect/naas/downloader?url=https://raw.githubusercontent.com/jupyter-naas/awesome-notebooks/master/Dash/Dash_LinkedIn_posts_metrics_dashboard.ipynb\" target=\"_parent\"><img src=\"https://naasai-public.s3.eu-west-3.amazonaws.com/open_in_naas.svg\"/></a><br><br><a href=\"https://github.com/jupyter-naas/awesome-notebooks/issues/new?assignees=&labels=&template=template-request.md&title=Tool+-+Action+of+the+notebook+\">Template request</a> | <a href=\"https://github.com/jupyter-naas/awesome-notebooks/issues/new?assignees=&labels=bug&template=bug_report.md&title=Dash+-+LinkedIn+posts+metrics+dashboard:+Error+short+description\">Bug report</a>"
   ]
  },
  {
   "cell_type": "markdown",
   "id": "religious-programmer",
   "metadata": {
    "papermill": {},
    "tags": []
   },
   "source": [
    "**Tags:** #dash #linkedin #dashboard #plotly #naas #asset #automation #analytics"
   ]
  },
  {
   "cell_type": "markdown",
   "id": "1fe9f56e-561c-4f52-aef8-b861c9462107",
   "metadata": {
    "papermill": {},
    "tags": []
   },
   "source": [
    "**Author:** [Florent Ravenel](https://www.linkedin.com/in/florent-ravenel/)"
   ]
  },
  {
   "cell_type": "markdown",
   "id": "naas-description",
   "metadata": {
    "papermill": {},
    "tags": [
     "description"
    ]
   },
   "source": [
    "**Description:** This notebook provides a dashboard to track and analyze metrics related to LinkedIn posts."
   ]
  },
  {
   "cell_type": "markdown",
   "id": "distinguished-truth",
   "metadata": {
    "papermill": {},
    "tags": []
   },
   "source": [
    "## Input"
   ]
  },
  {
   "cell_type": "markdown",
   "id": "numeric-mediterranean",
   "metadata": {
    "papermill": {},
    "tags": []
   },
   "source": [
    "### Import libraries"
   ]
  },
  {
   "cell_type": "code",
   "execution_count": null,
   "id": "potential-surfing",
   "metadata": {
    "papermill": {},
    "tags": []
   },
   "outputs": [],
   "source": [
    "# Data\n",
    "import os\n",
    "from os import environ\n",
    "import pandas as pd\n",
    "import naas\n",
    "from datetime import datetime\n",
    "from naas_drivers import gsheet\n",
    "\n",
    "# Plotly\n",
    "import plotly.graph_objects as go\n",
    "import plotly.express as px\n",
    "from plotly.subplots import make_subplots\n",
    "\n",
    "# Dash\n",
    "try:\n",
    "    import dash\n",
    "except:\n",
    "    !pip install dash --user\n",
    "    import dash\n",
    "try:\n",
    "    import dash_bootstrap_components as dbc\n",
    "except:\n",
    "    !pip install dash_bootstrap_components --user\n",
    "    import dash_bootstrap_components as dbc\n",
    "from dash import html, dcc, Input, Output, State\n",
    "from dash_bootstrap_components._components.Container import Container\n",
    "from dash.exceptions import PreventUpdate"
   ]
  },
  {
   "cell_type": "markdown",
   "id": "616706cc-2d4e-4e32-b7f2-ac3e991313d6",
   "metadata": {
    "papermill": {},
    "tags": []
   },
   "source": [
    "### Setup Dash App\n",
    "Elements displayed in Dash App"
   ]
  },
  {
   "cell_type": "code",
   "execution_count": null,
   "id": "f4c043e1-cd66-410f-9037-ba8cb11e111b",
   "metadata": {
    "papermill": {},
    "tags": []
   },
   "outputs": [],
   "source": [
    "# Defining the port of the dashboard\n",
    "APP_NAME = \"LinkedIn\"\n",
    "APP_TITLE = \"Posts Metrics Analysis\"\n",
    "APP_LOGO = \"https://upload.wikimedia.org/wikipedia/commons/thumb/c/ca/LinkedIn_logo_initials.png/800px-LinkedIn_logo_initials.png\"\n",
    "COLOR = \"#1293d2\"\n",
    "COLOR2 = \"#cfe9f6\"\n",
    "BACKGROUND_COLOR = \"#f8f9fa\"\n",
    "\n",
    "# Navbar\n",
    "NAVBAR_COLOR = \"white\"\n",
    "NAVBAR_TOGGLE_BD_COLOR = \"#f8f9fa\"\n",
    "\n",
    "# Card\n",
    "CARD_COLOR = \"white\"\n",
    "\n",
    "# Chart\n",
    "CHART_COLOR = \"white\"\n",
    "\n",
    "# Port used to displayed preview\n",
    "DASH_PORT = 8050"
   ]
  },
  {
   "cell_type": "markdown",
   "id": "2a220105-8fa0-4208-8372-b2e2ccb64839",
   "metadata": {
    "papermill": {},
    "tags": []
   },
   "source": [
    "### Setup Google Sheets"
   ]
  },
  {
   "cell_type": "code",
   "execution_count": null,
   "id": "e0473f78-d6da-41b4-897d-a68e6270d8a8",
   "metadata": {
    "papermill": {},
    "tags": []
   },
   "outputs": [],
   "source": [
    "SPREADSHEET_URL = \"https://docs.google.com/spreadsheets/d/1yR29Kfg8iHPiMsl5n_xIsdWIjxKgMbMphRr7_q-4SBs/edit#gid=1582298725\"\n",
    "SH_ENTITIES = \"ENTITIES\"\n",
    "SH_SCENARIOS = \"SCENARIOS\"\n",
    "SH_POSTS_PUBLISHED = \"POSTS_PUBLISHED\"\n",
    "SH_POSTS_VIEWS = \"POSTS_VIEWS\"\n",
    "SH_POSTS_LIKES = \"POSTS_LIKES\"\n",
    "SH_POSTS_COMMENTS = \"POSTS_COMMENTS\""
   ]
  },
  {
   "cell_type": "markdown",
   "id": "registered-showcase",
   "metadata": {
    "papermill": {},
    "tags": []
   },
   "source": [
    "## Model"
   ]
  },
  {
   "cell_type": "markdown",
   "id": "f2aea9ef-5957-4532-a6fc-0befb62d70c0",
   "metadata": {
    "papermill": {},
    "tags": []
   },
   "source": [
    "### Constants"
   ]
  },
  {
   "cell_type": "code",
   "execution_count": null,
   "id": "564311f4-1242-4230-be47-560c2949c6a7",
   "metadata": {
    "papermill": {},
    "tags": []
   },
   "outputs": [],
   "source": [
    "DATE_FORMAT = \"%Y-%m-%d\"\n",
    "PERIOD = \"%Y%m\"\n",
    "PERIOD_D = \"%b %Y\"\n",
    "PERIOD_TEXT = \"This Month\"\n",
    "PERIOD_COMP = \"last month\""
   ]
  },
  {
   "cell_type": "markdown",
   "id": "f6558026-6566-4b4d-ab74-a5eec170f57b",
   "metadata": {
    "papermill": {},
    "tags": []
   },
   "source": [
    "### Data"
   ]
  },
  {
   "cell_type": "markdown",
   "id": "0527b0b3-5bc1-4a3b-b24d-43d0a23f8a1c",
   "metadata": {
    "papermill": {},
    "tags": []
   },
   "source": [
    "#### Ref Data: Entities"
   ]
  },
  {
   "cell_type": "code",
   "execution_count": null,
   "id": "3713a83c-1416-4b23-a922-b2413b209a9e",
   "metadata": {
    "papermill": {},
    "tags": []
   },
   "outputs": [],
   "source": [
    "df_entities = gsheet.connect(SPREADSHEET_URL).get(SH_ENTITIES)\n",
    "entities = sorted(df_entities[\"ENTITY\"].unique(), reverse=True)\n",
    "entities"
   ]
  },
  {
   "cell_type": "markdown",
   "id": "753b37e9-a47c-43ae-9690-832ee179e9a4",
   "metadata": {
    "papermill": {},
    "tags": []
   },
   "source": [
    "#### Ref Data: Scenarios"
   ]
  },
  {
   "cell_type": "code",
   "execution_count": null,
   "id": "f947d866-32a3-43e0-a1c6-deb1ce14f3eb",
   "metadata": {
    "papermill": {},
    "tags": []
   },
   "outputs": [],
   "source": [
    "df_scenarios = gsheet.connect(SPREADSHEET_URL).get(SH_SCENARIOS)\n",
    "scenarios = df_scenarios[\"SCENARIO\"].unique().tolist()\n",
    "scenarios"
   ]
  },
  {
   "cell_type": "markdown",
   "id": "058063ba-dffc-484b-a771-54bbb928f4f2",
   "metadata": {
    "papermill": {},
    "tags": []
   },
   "source": [
    "#### Posts published"
   ]
  },
  {
   "cell_type": "code",
   "execution_count": null,
   "id": "1feb0e91-98cd-4eb9-8f2e-fd49979cff52",
   "metadata": {
    "papermill": {},
    "tags": []
   },
   "outputs": [],
   "source": [
    "df_1 = gsheet.connect(SPREADSHEET_URL).get(SH_POSTS_PUBLISHED)\n",
    "print(\"Rows fetched:\", len(df_1))\n",
    "df_1.head(1)"
   ]
  },
  {
   "cell_type": "markdown",
   "id": "8c69e024-c274-46a1-ab1b-2eca84c157f8",
   "metadata": {
    "papermill": {},
    "tags": []
   },
   "source": [
    "#### Posts views"
   ]
  },
  {
   "cell_type": "code",
   "execution_count": null,
   "id": "0ee07f08-008d-467c-bed3-918caf78de87",
   "metadata": {
    "papermill": {},
    "tags": []
   },
   "outputs": [],
   "source": [
    "df_2 = gsheet.connect(SPREADSHEET_URL).get(SH_POSTS_VIEWS)\n",
    "print(\"Rows fetched:\", len(df_2))\n",
    "df_2.head(1)"
   ]
  },
  {
   "cell_type": "markdown",
   "id": "312108a2-2f5b-4c07-b604-47fb644cdab4",
   "metadata": {
    "papermill": {},
    "tags": []
   },
   "source": [
    "#### Posts likes"
   ]
  },
  {
   "cell_type": "code",
   "execution_count": null,
   "id": "350a26aa-188d-47f7-84ec-b77d5cdc87e2",
   "metadata": {
    "papermill": {},
    "tags": []
   },
   "outputs": [],
   "source": [
    "df_3 = gsheet.connect(SPREADSHEET_URL).get(SH_POSTS_LIKES)\n",
    "print(\"Rows fetched:\", len(df_3))\n",
    "df_3.head(1)"
   ]
  },
  {
   "cell_type": "markdown",
   "id": "3f35cfaa-f38f-4ddc-95e0-8ff7ec58e3f2",
   "metadata": {
    "papermill": {},
    "tags": []
   },
   "source": [
    "#### Posts comments"
   ]
  },
  {
   "cell_type": "code",
   "execution_count": null,
   "id": "76af69aa-4a91-4263-8d94-66512e5a0ba4",
   "metadata": {
    "papermill": {},
    "tags": []
   },
   "outputs": [],
   "source": [
    "df_4 = gsheet.connect(SPREADSHEET_URL).get(SH_POSTS_COMMENTS)\n",
    "print(\"Rows fetched:\", len(df_4))\n",
    "df_4.head(1)"
   ]
  },
  {
   "cell_type": "markdown",
   "id": "f20f64fc-e388-42e7-9010-4e8764de4c98",
   "metadata": {
    "papermill": {},
    "tags": []
   },
   "source": [
    "### Charts"
   ]
  },
  {
   "cell_type": "markdown",
   "id": "07490f8f-58dc-49e2-a532-dba238982af3",
   "metadata": {
    "papermill": {},
    "tags": []
   },
   "source": [
    "#### Create barchart"
   ]
  },
  {
   "cell_type": "code",
   "execution_count": null,
   "id": "92761dcc-d4da-4f86-935e-9028dbe64cd3",
   "metadata": {
    "papermill": {},
    "tags": []
   },
   "outputs": [],
   "source": [
    "def create_barchart(df, title=None, label=\"DATE_D\", value=\"VALUE\", value_d=\"VALUE_D\"):\n",
    "    # Init\n",
    "    fig = go.Figure()\n",
    "\n",
    "    # Create fig\n",
    "    fig.add_trace(\n",
    "        go.Bar(\n",
    "            x=df[label],\n",
    "            y=df[value],\n",
    "            text=df[value_d],\n",
    "            textposition=\"outside\",\n",
    "            marker=dict(color=COLOR),\n",
    "        )\n",
    "    )\n",
    "    fig.update_traces(showlegend=False)\n",
    "\n",
    "    # Update layout\n",
    "    fig.update_layout(\n",
    "        title=title,\n",
    "        title_font=dict(family=\"Arial\", color=\"black\"),\n",
    "        paper_bgcolor=CHART_COLOR,\n",
    "        plot_bgcolor=CHART_COLOR,\n",
    "        xaxis=dict(showgrid=False),\n",
    "        yaxis=dict(showgrid=False),\n",
    "        margin=dict(l=20, r=20, t=20, b=20),\n",
    "    )\n",
    "    fig.update_yaxes(showticklabels=False)\n",
    "    config = {\"displayModeBar\": False, \"responsive\": True}\n",
    "    fig.show(config=config)\n",
    "    return fig\n",
    "\n",
    "\n",
    "# Create chart (test)\n",
    "df_barchart = df_1[(df_1.ENTITY == entities[0]) & (df_1.SCENARIO == scenarios[0])]\n",
    "fig = create_barchart(df_barchart)"
   ]
  },
  {
   "cell_type": "markdown",
   "id": "3ee93f31-81d4-4ad3-8b58-f5b038802ed4",
   "metadata": {
    "execution": {
     "iopub.execute_input": "2022-08-07T12:36:43.651149Z",
     "iopub.status.busy": "2022-08-07T12:36:43.650909Z",
     "iopub.status.idle": "2022-08-07T12:36:43.655756Z",
     "shell.execute_reply": "2022-08-07T12:36:43.655122Z",
     "shell.execute_reply.started": "2022-08-07T12:36:43.651126Z"
    },
    "papermill": {},
    "tags": []
   },
   "source": [
    "### Dash App"
   ]
  },
  {
   "cell_type": "markdown",
   "id": "145b9578-9eb6-4754-b067-5af5f3a0021e",
   "metadata": {
    "papermill": {},
    "tags": []
   },
   "source": [
    "#### Create dropdown \"Entity\""
   ]
  },
  {
   "cell_type": "code",
   "execution_count": null,
   "id": "604e3369-e87b-45be-bec8-0a891510f333",
   "metadata": {
    "papermill": {},
    "tags": []
   },
   "outputs": [],
   "source": [
    "dropdown_entity = dcc.Dropdown(\n",
    "    id=\"entity\",\n",
    "    options=[{\"label\": i, \"value\": i} for i in entities],\n",
    "    placeholder=\"Entity\",\n",
    "    value=entities[0],\n",
    "    style={\"text-align\": \"center\", \"background-color\": \"#EEF3F8\", \"color\": \"light\"},\n",
    ")"
   ]
  },
  {
   "cell_type": "markdown",
   "id": "5ca44d4b-de5c-49bc-b0b2-7d3da3670e0c",
   "metadata": {
    "papermill": {},
    "tags": []
   },
   "source": [
    "#### Create dropdown \"Scenario\""
   ]
  },
  {
   "cell_type": "code",
   "execution_count": null,
   "id": "34063f1b-5a36-4440-94c5-9919596f0492",
   "metadata": {
    "papermill": {},
    "tags": []
   },
   "outputs": [],
   "source": [
    "dropdown_scenario = dcc.Dropdown(\n",
    "    id=\"scenario\",\n",
    "    options=[{\"label\": i, \"value\": i} for i in scenarios],\n",
    "    placeholder=\"Scenario\",\n",
    "    value=scenarios[0],\n",
    "    style={\"text-align\": \"center\", \"background-color\": \"#EEF3F8\", \"color\": \"light\"},\n",
    ")"
   ]
  },
  {
   "cell_type": "markdown",
   "id": "0a450c71-ebc4-4261-b9e2-16dbc549316b",
   "metadata": {
    "papermill": {},
    "tags": []
   },
   "source": [
    "#### Create Navbar"
   ]
  },
  {
   "cell_type": "code",
   "execution_count": null,
   "id": "afab0065-49aa-4945-a8ec-0b81fc58fe28",
   "metadata": {
    "papermill": {},
    "tags": []
   },
   "outputs": [],
   "source": [
    "navbar = dbc.Navbar(\n",
    "    dbc.Container(\n",
    "        [\n",
    "            html.A(\n",
    "                # Use row and col to control vertical alignment of logo / brand\n",
    "                dbc.Row(\n",
    "                    [\n",
    "                        dbc.Col(html.Img(src=APP_LOGO, height=\"30px\")),\n",
    "                        dbc.Col(\n",
    "                            dbc.NavbarBrand(\n",
    "                                \"LinkedIn\",\n",
    "                                className=\"ms-2\",\n",
    "                                style={\"color\": COLOR, \"font-weight\": \"bold\"},\n",
    "                            )\n",
    "                        ),\n",
    "                    ],\n",
    "                    align=\"center\",\n",
    "                    className=\"g-0\",\n",
    "                ),\n",
    "                href=\"https://github.com/jupyter-naas/awesome-notebooks/tree/master/Dash\",\n",
    "                style={\"textDecoration\": \"none\"},\n",
    "            ),\n",
    "            dbc.NavbarToggler(\n",
    "                id=\"navbar-toggler\",\n",
    "                n_clicks=0,\n",
    "                style={\n",
    "                    \"border-color\": NAVBAR_TOGGLE_BD_COLOR,\n",
    "                    \"background\": COLOR2,\n",
    "                    \"margin-right\": \"10px\",\n",
    "                },\n",
    "            ),\n",
    "            dbc.Collapse(\n",
    "                dbc.Nav(\n",
    "                    [\n",
    "                        html.Div(\n",
    "                            [\n",
    "                                html.Div(className=\"w-100\"),\n",
    "                                html.Div(className=\"w-100\"),\n",
    "                                html.Div(dropdown_entity, className=\"w-100\"),\n",
    "                                html.Div(dropdown_scenario, className=\"w-100\"),\n",
    "                            ],\n",
    "                            className=\"pt-1 pb-1 d-grid gap-2 d-md-flex w-100\",\n",
    "                        )\n",
    "                    ],\n",
    "                    className=\"ms-auto w-100\",\n",
    "                    navbar=True,\n",
    "                ),\n",
    "                id=\"navbar-collapse\",\n",
    "                navbar=True,\n",
    "                is_open=False,\n",
    "            ),\n",
    "        ],\n",
    "    ),\n",
    "    color=NAVBAR_COLOR,\n",
    "    dark=True,\n",
    "    className=\"navbar border-bottom border-light fixed-top\",\n",
    "    style={},\n",
    ")"
   ]
  },
  {
   "cell_type": "markdown",
   "id": "90b3c880-c16f-4077-ab38-39fa8ccaf49d",
   "metadata": {
    "papermill": {},
    "tags": []
   },
   "source": [
    "#### Create App title"
   ]
  },
  {
   "cell_type": "code",
   "execution_count": null,
   "id": "09222c5a-c9d8-41fa-99ac-a45592d39102",
   "metadata": {
    "papermill": {},
    "tags": []
   },
   "outputs": [],
   "source": [
    "def create_app_title(name, uid=\"app_title\"):\n",
    "    title = dbc.Row(\n",
    "        html.H2(\n",
    "            name,\n",
    "            id=uid,\n",
    "            style={\n",
    "                \"color\": COLOR,\n",
    "                \"background-color\": BACKGROUND_COLOR,\n",
    "                \"font-weight\": \"bold\",\n",
    "            },\n",
    "        ),\n",
    "        className=\"text-center\",\n",
    "        style={\n",
    "            \"background-color\": BACKGROUND_COLOR,\n",
    "            \"padding-top\": \"70px\",\n",
    "            \"padding-bottom\": \"10px\",\n",
    "        },\n",
    "    )\n",
    "    return title"
   ]
  },
  {
   "cell_type": "markdown",
   "id": "2c49b9fa-8d15-41b3-b6f3-3199428a50d7",
   "metadata": {
    "papermill": {},
    "tags": []
   },
   "source": [
    "#### Create Section"
   ]
  },
  {
   "cell_type": "code",
   "execution_count": null,
   "id": "c3f42855-694e-429d-b0a7-fc2b89056191",
   "metadata": {
    "papermill": {},
    "tags": []
   },
   "outputs": [],
   "source": [
    "def create_section(name, uid=None):\n",
    "    section = dbc.Row(\n",
    "        [\n",
    "            dbc.Col(html.Hr(), xs=4, sm=4, md=5, lg=5, xl=5),\n",
    "            dbc.Col(\n",
    "                html.H4(\n",
    "                    name,\n",
    "                    id=uid,\n",
    "                    className=\"text-center\",\n",
    "                    style={\n",
    "                        \"color\": COLOR,\n",
    "                        \"background-color\": BACKGROUND_COLOR,\n",
    "                        \"margin-bottom\": \"0px\",\n",
    "                    },\n",
    "                ),\n",
    "                xs=4,\n",
    "                sm=4,\n",
    "                md=2,\n",
    "                lg=2,\n",
    "                xl=2,\n",
    "            ),\n",
    "            dbc.Col(html.Hr(), xs=4, sm=4, md=5, lg=5, xl=5),\n",
    "        ],\n",
    "        style={\n",
    "            \"background-color\": BACKGROUND_COLOR,\n",
    "            \"padding-top\": \"8px\",\n",
    "            \"padding-bottom\": \"8px\",\n",
    "        },\n",
    "        className=\"align-items-center\",\n",
    "    )\n",
    "    return section"
   ]
  },
  {
   "cell_type": "markdown",
   "id": "dafee09f-084a-4c8a-9fd2-157f57b1d012",
   "metadata": {
    "papermill": {},
    "tags": []
   },
   "source": [
    "#### Create HKPIs"
   ]
  },
  {
   "cell_type": "code",
   "execution_count": null,
   "id": "8abe0788-45c6-45db-a390-157d90b5fc79",
   "metadata": {
    "papermill": {},
    "tags": []
   },
   "outputs": [],
   "source": [
    "def create_hkpis(card_title, card_value, card_var):\n",
    "    card = dbc.Col(\n",
    "        dbc.Card(\n",
    "            dbc.CardBody(\n",
    "                [\n",
    "                    html.P(\n",
    "                        card_title,\n",
    "                        className=\"card-title\",\n",
    "                        style={\n",
    "                            \"font-size\": \"15px\",\n",
    "                            \"font-weight\": \"bold\",\n",
    "                            \"padding-bottom\": \"5px\",\n",
    "                        },\n",
    "                    ),\n",
    "                    html.P(className=\"card-text\", style={}, id=card_var),\n",
    "                    html.P(\n",
    "                        className=\"card-text\",\n",
    "                        style={\n",
    "                            \"font-size\": \"14px\",\n",
    "                        },\n",
    "                        id=card_value,\n",
    "                    ),\n",
    "                ]\n",
    "            ),\n",
    "            color=CARD_COLOR,\n",
    "            inverse=False,\n",
    "        ),\n",
    "        style={\"background-color\": BACKGROUND_COLOR},\n",
    "        className=\"gx-5 g-2\",\n",
    "        xs=12,\n",
    "        sm=12,\n",
    "        md=12,\n",
    "        lg=3,\n",
    "        xl=3,\n",
    "    )\n",
    "    return card"
   ]
  },
  {
   "cell_type": "markdown",
   "id": "ecdff953-c07b-41eb-b238-3f1a45317e5e",
   "metadata": {
    "papermill": {},
    "tags": []
   },
   "source": [
    "#### Create Chart"
   ]
  },
  {
   "cell_type": "code",
   "execution_count": null,
   "id": "f8923d5f-f576-4959-a6b4-cdb2952fcea5",
   "metadata": {
    "papermill": {},
    "tags": []
   },
   "outputs": [],
   "source": [
    "def create_chart(title, chart_id):\n",
    "    card = dbc.Col(\n",
    "        dbc.Card(\n",
    "            dbc.CardBody(\n",
    "                [\n",
    "                    html.H5(\n",
    "                        title,\n",
    "                        style={\n",
    "                            \"padding-top\": \"20px\",\n",
    "                            \"margin-left\": \"20px\",\n",
    "                            \"font-weight\": \"bold\",\n",
    "                        },\n",
    "                    ),\n",
    "                    dcc.Graph(\n",
    "                        id=chart_id,\n",
    "                        config={\"displayModeBar\": False, \"staticPlot\": True},\n",
    "                    ),\n",
    "                ],\n",
    "            ),\n",
    "            color=CARD_COLOR,\n",
    "            inverse=False,\n",
    "        ),\n",
    "        style={\"background-color\": BACKGROUND_COLOR},\n",
    "        className=\"gx-5 g-2\",\n",
    "        xs=12,\n",
    "        sm=12,\n",
    "        md=12,\n",
    "        lg=6,\n",
    "        xl=6,\n",
    "    )\n",
    "    return card"
   ]
  },
  {
   "cell_type": "markdown",
   "id": "fd1d09b0-20eb-4d8e-a6a1-8e4ca908bdf4",
   "metadata": {
    "papermill": {},
    "tags": []
   },
   "source": [
    "#### Create Layout"
   ]
  },
  {
   "cell_type": "code",
   "execution_count": null,
   "id": "d8d7988b-0d84-481e-9a8b-9ce487573eba",
   "metadata": {
    "papermill": {},
    "tags": []
   },
   "outputs": [],
   "source": [
    "# Init App\n",
    "app = dash.Dash(\n",
    "    requests_pathname_prefix=f'/user/{os.environ.get(\"JUPYTERHUB_USER\")}/proxy/{DASH_PORT}/',\n",
    "    external_stylesheets=[dbc.themes.BOOTSTRAP],\n",
    "    assets_external_path=\"chart.css\",\n",
    "    meta_tags=[\n",
    "        {\"name\": \"viewport\", \"content\": \"width=device-width, initial-scale=1.0\"}\n",
    "    ],\n",
    ")\n",
    "\n",
    "# App title\n",
    "app.title = APP_TITLE\n",
    "\n",
    "# App layout\n",
    "app.layout = html.Div(\n",
    "    [\n",
    "        # Navbar\n",
    "        navbar,\n",
    "        # App title\n",
    "        create_app_title(APP_TITLE),\n",
    "        # Section name\n",
    "        create_section(\"Overview\", \"section1\"),\n",
    "        # HKPIS\n",
    "        dbc.Row(\n",
    "            [\n",
    "                create_hkpis(\"PUBLISHED\", \"card_val1\", \"card_var1\"),\n",
    "                create_hkpis(\"VIEWS\", \"card_val2\", \"card_var2\"),\n",
    "                create_hkpis(\"LIKES\", \"card_val3\", \"card_var3\"),\n",
    "                create_hkpis(\"COMMENTS\", \"card_val4\", \"card_var4\"),\n",
    "            ],\n",
    "            style={\n",
    "                \"background-color\": BACKGROUND_COLOR,\n",
    "                \"padding-top\": \"8px\",\n",
    "                \"padding-bottom\": \"8px\",\n",
    "            },\n",
    "            className=\"align-items-center\",\n",
    "        ),\n",
    "        # Section name\n",
    "        create_section(\"Charts\", \"section2\"),\n",
    "        # Charts\n",
    "        dbc.Row(\n",
    "            [\n",
    "                create_chart(\"POST PUBLISHED\", \"fig1\"),\n",
    "                create_chart(\"POST VIEWS\", \"fig2\"),\n",
    "            ],\n",
    "            style={\n",
    "                \"background-color\": BACKGROUND_COLOR,\n",
    "                \"padding-top\": \"8px\",\n",
    "                \"padding-bottom\": \"8px\",\n",
    "            },\n",
    "        ),\n",
    "        dbc.Row(\n",
    "            [\n",
    "                create_chart(\"POST LIKES\", \"fig3\"),\n",
    "                create_chart(\"POST COMMENTS\", \"fig4\"),\n",
    "            ],\n",
    "            style={\n",
    "                \"background-color\": BACKGROUND_COLOR,\n",
    "                \"padding-top\": \"8px\",\n",
    "                \"padding-bottom\": \"8px\",\n",
    "            },\n",
    "        ),\n",
    "    ]\n",
    ")\n",
    "\n",
    "# add callback for toggling the collapse on small screens\n",
    "@app.callback(\n",
    "    Output(\"navbar-collapse\", \"is_open\"),\n",
    "    [Input(\"navbar-toggler\", \"n_clicks\")],\n",
    "    [State(\"navbar-collapse\", \"is_open\")],\n",
    ")\n",
    "def toggle_navbar_collapse(n, is_open):\n",
    "    if n:\n",
    "        return not is_open\n",
    "    return is_open\n",
    "\n",
    "\n",
    "@app.callback(\n",
    "    [\n",
    "        Output(\"card_val1\", \"children\"),\n",
    "        Output(\"card_var1\", \"children\"),\n",
    "        Output(\"card_val2\", \"children\"),\n",
    "        Output(\"card_var2\", \"children\"),\n",
    "        Output(\"card_val3\", \"children\"),\n",
    "        Output(\"card_var3\", \"children\"),\n",
    "        Output(\"card_val4\", \"children\"),\n",
    "        Output(\"card_var4\", \"children\"),\n",
    "        Output(\"fig1\", \"figure\"),\n",
    "        Output(\"fig2\", \"figure\"),\n",
    "        Output(\"fig3\", \"figure\"),\n",
    "        Output(\"fig4\", \"figure\"),\n",
    "    ],\n",
    "    [Input(\"entity\", \"value\"), Input(\"scenario\", \"value\")],\n",
    ")\n",
    "def multi_outputs(entity, scenario):\n",
    "    if entity is None and scenario is None:\n",
    "        raise PreventUpdate\n",
    "\n",
    "    # Get graph dataframe\n",
    "    def filter_dropdowns(df, entity, scenario):\n",
    "        df = df[(df[\"ENTITY\"] == entity) & (df[\"SCENARIO\"] == scenario)].reset_index(\n",
    "            drop=True\n",
    "        )\n",
    "        return df\n",
    "\n",
    "    df1 = filter_dropdowns(df_1, entity, scenario)\n",
    "    df2 = filter_dropdowns(df_2, entity, scenario)\n",
    "    df3 = filter_dropdowns(df_3, entity, scenario)\n",
    "    df4 = filter_dropdowns(df_4, entity, scenario)\n",
    "\n",
    "    # Return card data\n",
    "    card_val1 = df1.loc[df1.index[-1], \"HKPI_VALUE\"]\n",
    "    card_var1 = df1.loc[df1.index[-1], \"HKPI_VAR\"]\n",
    "    card_val2 = df2.loc[df2.index[-1], \"HKPI_VALUE\"]\n",
    "    card_var2 = df2.loc[df2.index[-1], \"HKPI_VAR\"]\n",
    "    card_val3 = df3.loc[df3.index[-1], \"HKPI_VALUE\"]\n",
    "    card_var3 = df3.loc[df3.index[-1], \"HKPI_VAR\"]\n",
    "    card_val4 = df4.loc[df4.index[-1], \"HKPI_VALUE\"]\n",
    "    card_var4 = df4.loc[df4.index[-1], \"HKPI_VAR\"]\n",
    "\n",
    "    # Create graph\n",
    "    fig1 = create_barchart(df1)\n",
    "    fig2 = create_barchart(df2)\n",
    "    fig3 = create_barchart(df3)\n",
    "    fig4 = create_barchart(df4)\n",
    "    return (\n",
    "        card_val1,\n",
    "        card_var1,\n",
    "        card_val2,\n",
    "        card_var2,\n",
    "        card_val3,\n",
    "        card_var3,\n",
    "        card_val4,\n",
    "        card_var4,\n",
    "        fig1,\n",
    "        fig2,\n",
    "        fig3,\n",
    "        fig4,\n",
    "    )"
   ]
  },
  {
   "cell_type": "markdown",
   "id": "lonely-pacific",
   "metadata": {
    "execution": {
     "iopub.execute_input": "2021-07-02T23:32:10.789097Z",
     "iopub.status.busy": "2021-07-02T23:32:10.788829Z",
     "iopub.status.idle": "2021-07-02T23:32:10.796900Z",
     "shell.execute_reply": "2021-07-02T23:32:10.796358Z",
     "shell.execute_reply.started": "2021-07-02T23:32:10.789033Z"
    },
    "papermill": {},
    "tags": []
   },
   "source": [
    "## Output"
   ]
  },
  {
   "cell_type": "markdown",
   "id": "890f7c86-b7bb-4f5d-9a1b-e492dd9580fd",
   "metadata": {
    "papermill": {},
    "tags": []
   },
   "source": [
    "### Generate URL and show logs"
   ]
  },
  {
   "cell_type": "code",
   "execution_count": null,
   "id": "9c4e3b7b-6440-4844-8054-265f1aec65eb",
   "metadata": {
    "papermill": {},
    "tags": []
   },
   "outputs": [],
   "source": [
    "if __name__ == \"__main__\":\n",
    "    app.run_server(proxy=f\"http://127.0.0.1:{DASH_PORT}::https://app.naas.ai\")"
   ]
  }
 ],
 "metadata": {
  "kernelspec": {
   "display_name": "Python 3",
   "language": "python",
   "name": "python3"
  },
  "language_info": {
   "codemirror_mode": {
    "name": "ipython",
    "version": 3
   },
   "file_extension": ".py",
   "mimetype": "text/x-python",
   "name": "python",
   "nbconvert_exporter": "python",
   "pygments_lexer": "ipython3",
   "version": "3.9.6"
  },
  "papermill": {
   "default_parameters": {},
   "environment_variables": {},
   "parameters": {},
   "version": "2.3.3"
  },
  "widgets": {
   "application/vnd.jupyter.widget-state+json": {
    "state": {},
    "version_major": 2,
    "version_minor": 0
   }
  }
 },
 "nbformat": 4,
 "nbformat_minor": 5
}