{
 "cells": [
  {
   "cell_type": "markdown",
   "id": "8e72ff72-baf4-418a-9d68-5ab0e4d1cf59",
   "metadata": {
    "papermill": {},
    "tags": []
   },
   "source": [
    "<img width=\"10%\" alt=\"Naas\" src=\"https://landen.imgix.net/jtci2pxwjczr/assets/5ice39g4.png?w=160\"/>"
   ]
  },
  {
   "cell_type": "markdown",
   "id": "e569c653-554c-4e05-8a5d-772c7c2f66a3",
   "metadata": {
    "papermill": {},
    "tags": []
   },
   "source": [
    "# Dash - Create loading button\n",
    "<a href=\"https://app.naas.ai/user-redirect/naas/downloader?url=https://raw.githubusercontent.com/jupyter-naas/awesome-notebooks/master/Dash/Dash_Create_loading_button.ipynb\" target=\"_parent\"><img src=\"https://naasai-public.s3.eu-west-3.amazonaws.com/Open_in_Naas_Lab.svg\"/></a><br><br><a href=\"https://github.com/jupyter-naas/awesome-notebooks/issues/new?assignees=&labels=&template=template-request.md&title=Tool+-+Action+of+the+notebook+\">Template request</a> | <a href=\"https://github.com/jupyter-naas/awesome-notebooks/issues/new?assignees=&labels=bug&template=bug_report.md&title=Dash+-+Create+loading+button:+Error+short+description\">Bug report</a> | <a href=\"https://app.naas.ai/user-redirect/naas/downloader?url=https://raw.githubusercontent.com/jupyter-naas/awesome-notebooks/master/Naas/Naas_Start_data_product.ipynb\" target=\"_parent\">Generate Data Product</a>"
   ]
  },
  {
   "cell_type": "markdown",
   "id": "b0e6e295-52b3-4afa-b8f9-80c7e459e9e0",
   "metadata": {
    "papermill": {},
    "tags": []
   },
   "source": [
    "**Tags:** #dash #plotly #loading #button #python #web"
   ]
  },
  {
   "cell_type": "markdown",
   "id": "904a1a70-ce40-4865-845e-5af64fd0c278",
   "metadata": {
    "papermill": {},
    "tags": []
   },
   "source": [
    "**Author:** [Florent Ravenel](https://www.linkedin.com/in/florent-ravenel/)"
   ]
  },
  {
   "cell_type": "markdown",
   "id": "1c6d4082-6a4f-4427-8bee-400d441ed906",
   "metadata": {
    "papermill": {},
    "tags": []
   },
   "source": [
    "**Description:** This notebook explains how to create a loading button with Dash Plotly."
   ]
  },
  {
   "cell_type": "markdown",
   "id": "30a381ee-3699-4811-adaf-ae39c7c00286",
   "metadata": {
    "papermill": {},
    "tags": []
   },
   "source": [
    "**References:**\n",
    "- [Dash Loading States](https://dash.plotly.com/loading-states)\n",
    "- [Plotly Loading Button](https://dash-bootstrap-components.opensource.faculty.ai/docs/components/spinner/)"
   ]
  },
  {
   "cell_type": "markdown",
   "id": "02cc5a56-d67a-4f1a-ac88-2197e4605742",
   "metadata": {
    "papermill": {},
    "tags": []
   },
   "source": [
    "## Input"
   ]
  },
  {
   "cell_type": "markdown",
   "id": "77db9a5a-d280-4115-803c-07492478d603",
   "metadata": {
    "papermill": {},
    "tags": []
   },
   "source": [
    "### Import libraries"
   ]
  },
  {
   "cell_type": "code",
   "execution_count": null,
   "id": "c5cac7e2-3d2b-44fa-8789-df9cc69c270f",
   "metadata": {
    "papermill": {},
    "tags": []
   },
   "outputs": [],
   "source": [
    "import os\n",
    "try:\n",
    "    import dash\n",
    "except:\n",
    "    !pip install dash --user\n",
    "    import dash\n",
    "try:\n",
    "    import dash_bootstrap_components as dbc\n",
    "except:\n",
    "    !pip install dash_bootstrap_components --user\n",
    "    import dash_bootstrap_components as dbc\n",
    "import pandas as pd\n",
    "from dash import Dash, html, dcc, callback, Output, Input, State\n",
    "import time"
   ]
  },
  {
   "cell_type": "markdown",
   "id": "40a4bd14-5d22-4378-af4d-ff55c52d4824",
   "metadata": {
    "papermill": {},
    "tags": []
   },
   "source": [
    "### Setup Variables\n",
    "- `DASH_PORT`: specify a port number for Dash"
   ]
  },
  {
   "cell_type": "code",
   "execution_count": null,
   "id": "e931c05d-06ac-4a72-9ae6-ba637b355fdb",
   "metadata": {
    "papermill": {},
    "tags": []
   },
   "outputs": [],
   "source": [
    "DASH_PORT = 8050"
   ]
  },
  {
   "cell_type": "markdown",
   "id": "acb83da9-8041-4d37-92ea-40aa3d9a9cbf",
   "metadata": {
    "papermill": {},
    "tags": []
   },
   "source": [
    "## Model"
   ]
  },
  {
   "cell_type": "markdown",
   "id": "aff192ea-a4d8-4aa3-8247-45a5318f9320",
   "metadata": {
    "papermill": {},
    "tags": []
   },
   "source": [
    "### Initialize Dash app"
   ]
  },
  {
   "cell_type": "code",
   "execution_count": null,
   "id": "19f67b17-3c37-4e59-8973-5973ca15d245",
   "metadata": {
    "papermill": {},
    "tags": []
   },
   "outputs": [],
   "source": [
    "app = dash.Dash(\n",
    "    requests_pathname_prefix=f'/user/{os.environ.get(\"JUPYTERHUB_USER\")}/proxy/{DASH_PORT}/',\n",
    "    external_stylesheets=[dbc.themes.BOOTSTRAP],\n",
    "    meta_tags=[\n",
    "        {\"name\": \"viewport\", \"content\": \"width=device-width, initial-scale=1.0\"}\n",
    "    ],\n",
    ")\n",
    "\n",
    "# app = dash.Dash() if you are not in Naas"
   ]
  },
  {
   "cell_type": "markdown",
   "id": "790b825b-4b6d-4df6-a502-941afa369eaf",
   "metadata": {
    "papermill": {},
    "tags": []
   },
   "source": [
    "### Create loading button"
   ]
  },
  {
   "cell_type": "code",
   "execution_count": null,
   "id": "4f5df4d8-811d-46f6-b2d7-ad45c583b82e",
   "metadata": {
    "papermill": {},
    "tags": []
   },
   "outputs": [],
   "source": [
    "loading_spinner = html.Div(\n",
    "    [\n",
    "        dbc.Button(\n",
    "            \"Load\",\n",
    "            id=\"loading-button\",\n",
    "            n_clicks=0,\n",
    "            className=\"d-grid gap-2 col-6 mx-auto\",\n",
    "            style={\"padding\": \"20px\"}\n",
    "        ),\n",
    "        dbc.Spinner(html.Div(id=\"loading-output\")),\n",
    "    ]\n",
    ")\n",
    "\n",
    "app.layout = html.Div(\n",
    "    [\n",
    "        # SPACE\n",
    "        html.Br(),\n",
    "        \n",
    "        # Loading spinner\n",
    "        loading_spinner,\n",
    "    ]\n",
    ")\n",
    "    \n",
    "\n",
    "@app.callback(\n",
    "    Output(\"loading-output\", \"children\"), [Input(\"loading-button\", \"n_clicks\")]\n",
    ")\n",
    "def load_output(n):\n",
    "    if n:\n",
    "        time.sleep(3)\n",
    "        return f\"Output loaded {n} times\"\n",
    "    return \"Output not reloaded yet\""
   ]
  },
  {
   "cell_type": "markdown",
   "id": "4621035e-88df-4a18-830d-a33feb0b30d8",
   "metadata": {
    "papermill": {},
    "tags": []
   },
   "source": [
    "## Output"
   ]
  },
  {
   "cell_type": "markdown",
   "id": "dd7fab3f-1176-4c26-9a16-db9de7b31763",
   "metadata": {
    "papermill": {},
    "tags": []
   },
   "source": [
    "### Generate URL and show logs"
   ]
  },
  {
   "cell_type": "code",
   "execution_count": null,
   "id": "ec09ac54-9545-4aff-804e-ab1553275ba4",
   "metadata": {
    "papermill": {},
    "tags": []
   },
   "outputs": [],
   "source": [
    "if __name__ == \"__main__\":\n",
    "    app.run_server(proxy=f\"http://127.0.0.1:{DASH_PORT}::https://app.naas.ai\")"
   ]
  },
  {
   "cell_type": "markdown",
   "id": "6233c1d4-475c-44f4-ba26-1501a5cd00b1",
   "metadata": {
    "papermill": {},
    "tags": []
   },
   "source": [
    " "
   ]
  }
 ],
 "metadata": {
  "kernelspec": {
   "display_name": "Python 3",
   "language": "python",
   "name": "python3"
  },
  "language_info": {
   "codemirror_mode": {
    "name": "ipython",
    "version": 3
   },
   "file_extension": ".py",
   "mimetype": "text/x-python",
   "name": "python",
   "nbconvert_exporter": "python",
   "pygments_lexer": "ipython3",
   "version": "3.9.6"
  },
  "naas": {
   "notebook_id": "8724d5174822ed9a031f96f8bb87140b72d60f7a27a664065d744aab70131681",
   "notebook_path": "Dash/Dash_Create_loading_button.ipynb"
  },
  "papermill": {
   "default_parameters": {},
   "environment_variables": {},
   "parameters": {},
   "version": "2.4.0"
  },
  "widgets": {
   "application/vnd.jupyter.widget-state+json": {
    "state": {},
    "version_major": 2,
    "version_minor": 0
   }
  }
 },
 "nbformat": 4,
 "nbformat_minor": 5
}