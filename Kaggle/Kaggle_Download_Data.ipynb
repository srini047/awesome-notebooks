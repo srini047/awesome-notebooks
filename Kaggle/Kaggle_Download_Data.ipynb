{
 "cells": [
  {
   "cell_type": "markdown",
   "id": "a1a7b800-9fdb-494c-adf2-1c946ce36b43",
   "metadata": {
    "papermill": {},
    "tags": []
   },
   "source": [
    "<img width=\"10%\" alt=\"Naas\" src=\"https://landen.imgix.net/jtci2pxwjczr/assets/5ice39g4.png?w=160\"/>\n"
   ]
  },
  {
   "cell_type": "markdown",
   "id": "8df5bb3e-c562-444e-bd70-9aa84b1756bc",
   "metadata": {
    "papermill": {},
    "tags": []
   },
   "source": [
    "# Kaggle - Download Data\n",
    "<a href=\"https://app.naas.ai/user-redirect/naas/downloader?url=https://raw.githubusercontent.com/jupyter-naas/awesome-notebooks/master/Kaggle/Kaggle_Download_Data.ipynb\" target=\"_parent\"><img src=\"https://naasai-public.s3.eu-west-3.amazonaws.com/open_in_naas.svg\"/></a><br><br><a href=\"https://github.com/jupyter-naas/awesome-notebooks/issues/new?assignees=&labels=&template=template-request.md&title=Tool+-+Action+of+the+notebook+\">Template request</a> | <a href=\"https://github.com/jupyter-naas/awesome-notebooks/issues/new?assignees=&labels=bug&template=bug_report.md&title=Kaggle+-+Download+Data:+Error+short+description\">Bug report</a>"
   ]
  },
  {
   "cell_type": "markdown",
   "id": "6402fa44-8739-465a-8a86-355c8f76b193",
   "metadata": {
    "papermill": {},
    "tags": []
   },
   "source": [
    "**Tags:** #kaggle #dataset #download #data #datascience"
   ]
  },
  {
   "cell_type": "markdown",
   "id": "ae6b75d2-113a-4266-817b-92c12e368c4d",
   "metadata": {
    "papermill": {},
    "tags": []
   },
   "source": [
    "**Author:** [Muhammad Waqar Gul](https://www.linkedin.com/in/waqar-gul)"
   ]
  },
  {
   "cell_type": "markdown",
   "id": "naas-description",
   "metadata": {
    "papermill": {},
    "tags": [
     "description"
    ]
   },
   "source": [
    "**Description:** This notebook provides instructions on how to download data from Kaggle for use in data analysis."
   ]
  },
  {
   "cell_type": "markdown",
   "id": "e3a37fc4-826a-4cba-af1e-dcb3bc12f4be",
   "metadata": {
    "papermill": {},
    "tags": []
   },
   "source": [
    "## Input"
   ]
  },
  {
   "cell_type": "markdown",
   "id": "1e99322b-2cd6-43a7-9543-ffdf47830afd",
   "metadata": {
    "papermill": {},
    "tags": []
   },
   "source": [
    "### Import libraries"
   ]
  },
  {
   "cell_type": "code",
   "execution_count": null,
   "id": "49653ec9-1892-4a61-aab7-9cc89c0bff99",
   "metadata": {
    "papermill": {},
    "tags": []
   },
   "outputs": [],
   "source": [
    "try:\n",
    "    import opendatasets as od\n",
    "    import pandas as pd\n",
    "except:\n",
    "    !pip install opendatasets\n",
    "    import opendatasets as od\n",
    "from os import path"
   ]
  },
  {
   "cell_type": "markdown",
   "id": "3ff83b16-4c33-4db2-89d9-5c436ea90651",
   "metadata": {
    "execution": {
     "iopub.execute_input": "2022-10-10T17:46:34.910974Z",
     "iopub.status.busy": "2022-10-10T17:46:34.910757Z",
     "iopub.status.idle": "2022-10-10T17:46:34.915401Z",
     "shell.execute_reply": "2022-10-10T17:46:34.914798Z",
     "shell.execute_reply.started": "2022-10-10T17:46:34.910952Z"
    },
    "papermill": {},
    "tags": []
   },
   "source": [
    "### Variables"
   ]
  },
  {
   "cell_type": "code",
   "execution_count": null,
   "id": "e830c460-2128-4fdf-95a9-b974325626b0",
   "metadata": {
    "papermill": {},
    "tags": []
   },
   "outputs": [],
   "source": [
    "url = \"\"  ### kaggle dataset url here\n",
    "data_dir = \"\"  ### directory where you want to save data"
   ]
  },
  {
   "cell_type": "markdown",
   "id": "69896c6e-a243-4e3e-be58-fcd18cb7f7a1",
   "metadata": {
    "papermill": {},
    "tags": []
   },
   "source": [
    "## Model\n",
    "\n",
    "\n",
    "    "
   ]
  },
  {
   "cell_type": "markdown",
   "id": "ec6de8a1-e334-4cdd-8b87-53f6d6df717f",
   "metadata": {
    "papermill": {},
    "tags": []
   },
   "source": [
    "When the function is run, it is going to ask you for your Kaggle username and your Kaggle key. \n",
    "\n",
    "For getting access to the Kaggle username and key, inside your Kaggle profile:\n",
    "\n",
    "- Go to the account tab and under API section, click Create New API Token. \n",
    "\n",
    "- A JSON file will be downloaded, open it locally or you can also use any online JSON viewer and upload it there. \n",
    "\n",
    "- On opening this file, you will find the username and key in it. Copy the username and  password and paste it into the prompted Notebook cell. The content of the downloaded file would look like this.\n",
    "\n",
    "                    {\"username\":<KAGGLE USERNAME>,\"key\":<KAGGLE KEY>}\n",
    "    \n",
    "    \n",
    "<b>*Note: Your Kaggle key is private, make sure that you dont share it with anyone else.    </b>"
   ]
  },
  {
   "cell_type": "markdown",
   "id": "b0cf76aa-5073-4343-bfa1-6f00b253738b",
   "metadata": {
    "papermill": {},
    "tags": []
   },
   "source": [
    "### Function"
   ]
  },
  {
   "cell_type": "code",
   "execution_count": null,
   "id": "db8b5bed-1b7d-4cba-9b27-2aeff30c8bd3",
   "metadata": {
    "papermill": {},
    "tags": []
   },
   "outputs": [],
   "source": [
    "\"\"\"\n",
    "    function for downloading data, pass the URL of the dataset and directory where to save\n",
    "    as an argument to the function.\n",
    "\"\"\"\n",
    "\n",
    "\n",
    "def download_data(url, data_dir):\n",
    "    od.download(url, data_dir)\n",
    "\n",
    "\n",
    "download_data(url, data_dir)"
   ]
  },
  {
   "cell_type": "markdown",
   "id": "1495a9c3-df5d-4650-8dd4-659fc96ab97f",
   "metadata": {
    "papermill": {},
    "tags": []
   },
   "source": [
    "## Output"
   ]
  },
  {
   "cell_type": "markdown",
   "id": "1c5e8e78-f7fe-4530-a864-3e0acaa7d6da",
   "metadata": {
    "papermill": {},
    "tags": []
   },
   "source": [
    "### Display CSV result\n",
    "Downloaded file path csv needs to be set manually."
   ]
  },
  {
   "cell_type": "code",
   "execution_count": null,
   "id": "c9e40505-44c5-4515-8d6b-b94535de9dee",
   "metadata": {
    "papermill": {},
    "tags": []
   },
   "outputs": [],
   "source": [
    "downloaded_file_path_csv = \"\"\n",
    "if path.exists(downloaded_file_path_csv):\n",
    "    df = pd.read_csv(\n",
    "        downloaded_file_path_csv\n",
    "    )  # pass downloaded filepath as an argument here\n",
    "    df.head()"
   ]
  }
 ],
 "metadata": {
  "kernelspec": {
   "display_name": "Python 3",
   "language": "python",
   "name": "python3"
  },
  "language_info": {
   "codemirror_mode": {
    "name": "ipython",
    "version": 3
   },
   "file_extension": ".py",
   "mimetype": "text/x-python",
   "name": "python",
   "nbconvert_exporter": "python",
   "pygments_lexer": "ipython3",
   "version": "3.9.6"
  },
  "papermill": {
   "default_parameters": {},
   "environment_variables": {},
   "parameters": {},
   "version": "2.4.0"
  }
 },
 "nbformat": 4,
 "nbformat_minor": 5
}