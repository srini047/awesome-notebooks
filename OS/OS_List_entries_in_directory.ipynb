{
 "cells": [
  {
   "cell_type": "markdown",
   "id": "c163d9b6-e064-4e24-bea3-b68d22667d4a",
   "metadata": {
    "papermill": {},
    "tags": []
   },
   "source": [
    "<img width=\"10%\" alt=\"Naas\" src=\"https://landen.imgix.net/jtci2pxwjczr/assets/5ice39g4.png?w=160\"/>"
   ]
  },
  {
   "cell_type": "markdown",
   "id": "749f9834-ad35-4f72-9754-87a79c79b44c",
   "metadata": {
    "papermill": {},
    "tags": []
   },
   "source": [
    "# OS - List entries in directory\n",
    "<a href=\"https://app.naas.ai/user-redirect/naas/downloader?url=https://raw.githubusercontent.com/jupyter-naas/awesome-notebooks/master/OS/OS_List_entries_in_directory.ipynb\" target=\"_parent\"><img src=\"https://naasai-public.s3.eu-west-3.amazonaws.com/Open_in_Naas_Lab.svg\"/></a><br><br><a href=\"https://github.com/jupyter-naas/awesome-notebooks/issues/new?assignees=&labels=&template=template-request.md&title=Tool+-+Action+of+the+notebook+\">Template request</a> | <a href=\"https://github.com/jupyter-naas/awesome-notebooks/issues/new?assignees=&labels=bug&template=bug_report.md&title=OS+-+List+entries+in+directory:+Error+short+description\">Bug report</a> | <a href=\"https://app.naas.ai/user-redirect/naas/downloader?url=https://raw.githubusercontent.com/jupyter-naas/awesome-notebooks/master/Naas/Naas_Start_data_product.ipynb\" target=\"_parent\">Generate Data Product</a>"
   ]
  },
  {
   "cell_type": "markdown",
   "id": "77c54649-ab3f-41a7-88f8-758f31939fa3",
   "metadata": {
    "papermill": {},
    "tags": []
   },
   "source": [
    "**Tags:** #os #listdir #directory #python #entries #list"
   ]
  },
  {
   "cell_type": "markdown",
   "id": "a2fd2cb5-c242-4fca-a692-4d8aa19e4553",
   "metadata": {
    "papermill": {},
    "tags": []
   },
   "source": [
    "**Author:** [Benjamin Filly](https://www.linkedin.com/in/benjamin-filly-05427727a/)"
   ]
  },
  {
   "cell_type": "markdown",
   "id": "ae633511-0455-4f2e-9673-a4f4aa01ddff",
   "metadata": {
    "papermill": {},
    "tags": []
   },
   "source": [
    "**Description:** This notebook explains how to use the Python method listdir() to list entries in a directory. It is usefull for organizations to quickly access the content of a directory."
   ]
  },
  {
   "cell_type": "markdown",
   "id": "7df2da47-e10d-4cb3-82d6-ac8250ed1a45",
   "metadata": {
    "papermill": {},
    "tags": []
   },
   "source": [
    "**References:**\n",
    "- [Python OS Listdir](https://www.tutorialspoint.com/python/os_listdir.htm)\n",
    "- [Python OS Module](https://docs.python.org/fr/3/library/os.html)"
   ]
  },
  {
   "cell_type": "markdown",
   "id": "885d82ff-55e9-4617-8611-eea463577f72",
   "metadata": {
    "papermill": {},
    "tags": []
   },
   "source": [
    "## Input"
   ]
  },
  {
   "cell_type": "markdown",
   "id": "de3a2f80-dcf8-43dc-a695-3f26e9727b2f",
   "metadata": {
    "papermill": {},
    "tags": []
   },
   "source": [
    "### Import libraries"
   ]
  },
  {
   "cell_type": "code",
   "execution_count": 1,
   "id": "e1517a5a-0ec2-48ab-b502-e0544a57e7fd",
   "metadata": {
    "papermill": {},
    "tags": []
   },
   "outputs": [],
   "source": [
    "import os"
   ]
  },
  {
   "cell_type": "markdown",
   "id": "8cf5f6c9-1e02-41c3-98a1-fa6279f0f7ac",
   "metadata": {
    "papermill": {},
    "tags": []
   },
   "source": [
    "### Setup Variables\n",
    "- `directory`: path of the directory to list entries"
   ]
  },
  {
   "cell_type": "code",
   "execution_count": 2,
   "id": "7e6134bd-8ded-45b0-9551-a0433c44bede",
   "metadata": {
    "papermill": {},
    "tags": []
   },
   "outputs": [],
   "source": [
    "directory = '/home/ftp/'"
   ]
  },
  {
   "cell_type": "markdown",
   "id": "b296612e-bf0b-4222-94da-7b93700ead2a",
   "metadata": {
    "papermill": {},
    "tags": []
   },
   "source": [
    "## Model"
   ]
  },
  {
   "cell_type": "markdown",
   "id": "bdfa24cb-b1d9-4685-b083-27a6f8994684",
   "metadata": {
    "papermill": {},
    "tags": []
   },
   "source": [
    "### List entries in directory"
   ]
  },
  {
   "cell_type": "markdown",
   "id": "985105ef-9037-4e37-aa2a-0a92ee8fa9be",
   "metadata": {
    "papermill": {},
    "tags": []
   },
   "source": [
    "Python method listdir() returns a list containing the names of the entries in the directory given by path. The list is in arbitrary order. It does not include the special entries '.' and '..' even if they are present in the directory."
   ]
  },
  {
   "cell_type": "code",
   "execution_count": 3,
   "id": "bf76a84e-6f26-4f85-8317-15e55351d317",
   "metadata": {
    "papermill": {},
    "tags": []
   },
   "outputs": [],
   "source": [
    "entries = os.listdir(directory)"
   ]
  },
  {
   "cell_type": "markdown",
   "id": "f442521b-2dbd-484e-9b21-36534f652964",
   "metadata": {
    "papermill": {},
    "tags": []
   },
   "source": [
    "\n",
    "This code snippet separates directory entries into files and subdirectories It creates two empty lists, `files` and `subdirectories`, and browses the entries. If an entry is a file, it is added to the `files` list. If it's a subdirectory, it's added to the `subdirectories` list."
   ]
  },
  {
   "cell_type": "code",
   "execution_count": 4,
   "id": "853586db-8dfb-4517-8587-d0db5517126d",
   "metadata": {
    "papermill": {},
    "tags": []
   },
   "outputs": [],
   "source": [
    "# Separate files and subdirectories\n",
    "files = []\n",
    "subdirectories = []\n",
    "\n",
    "for entry in entries:\n",
    "    if os.path.isfile(os.path.join(directory, entry)):\n",
    "        files.append(entry)\n",
    "    else:\n",
    "        subdirectories.append(entry)"
   ]
  },
  {
   "cell_type": "markdown",
   "id": "dec60ff3-b00a-4ea4-8e02-7104c9e6e96e",
   "metadata": {
    "papermill": {},
    "tags": []
   },
   "source": [
    "## Output"
   ]
  },
  {
   "cell_type": "markdown",
   "id": "0b5b7f7e-0dab-49e7-a6dc-fe5b13a6c6f1",
   "metadata": {
    "papermill": {},
    "tags": []
   },
   "source": [
    "### Display result"
   ]
  },
  {
   "cell_type": "code",
   "execution_count": 5,
   "id": "387c9a23-d166-4b02-8bb3-96608d9f4ad1",
   "metadata": {
    "papermill": {},
    "tags": []
   },
   "outputs": [],
   "source": [
    "# Print the list of files\n",
    "print(\"Files:\")\n",
    "for file in files:\n",
    "    print(\"- {}\".format(file))\n",
    "\n",
    "# Print the list of subdirectories\n",
    "print(\"Subdirectories:\")\n",
    "for subdirectory in subdirectories:\n",
    "    print(\"- {}\".format(subdirectory))"
   ]
  },
  {
   "cell_type": "markdown",
   "id": "de634f22-8849-4a86-af5d-6df2aa750cd9",
   "metadata": {
    "papermill": {},
    "tags": []
   },
   "source": [
    " "
   ]
  }
 ],
 "metadata": {
  "kernelspec": {
   "display_name": "Python 3",
   "language": "python",
   "name": "python3"
  },
  "language_info": {
   "codemirror_mode": {
    "name": "ipython",
    "version": 3
   },
   "file_extension": ".py",
   "mimetype": "text/x-python",
   "name": "python",
   "nbconvert_exporter": "python",
   "pygments_lexer": "ipython3",
   "version": "3.9.6"
  },
  "naas": {
   "notebook_id": "17ab0d4319f5f16b54359cb73279a21fea85248f5b54e3e982edc251fe0735df",
   "notebook_path": "OS/OS_List_entries_in_directory.ipynb"
  },
  "papermill": {
   "default_parameters": {},
   "environment_variables": {},
   "parameters": {},
   "version": "2.4.0"
  },
  "widgets": {
   "application/vnd.jupyter.widget-state+json": {
    "state": {},
    "version_major": 2,
    "version_minor": 0
   }
  }
 },
 "nbformat": 4,
 "nbformat_minor": 5
}