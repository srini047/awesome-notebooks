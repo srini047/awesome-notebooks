{
 "cells": [
  {
   "cell_type": "markdown",
   "id": "18b456ed-e482-434e-a9e3-a67981e19d63",
   "metadata": {
    "papermill": {},
    "tags": []
   },
   "source": [
    "<img width=\"10%\" alt=\"Naas\" src=\"https://landen.imgix.net/jtci2pxwjczr/assets/5ice39g4.png?w=160\"/>"
   ]
  },
  {
   "cell_type": "markdown",
   "id": "1118bf38-fee4-4fac-a020-f4958a64c8aa",
   "metadata": {
    "papermill": {},
    "tags": []
   },
   "source": [
    "# OS - Remove file\n",
    "<a href=\"https://app.naas.ai/user-redirect/naas/downloader?url=https://raw.githubusercontent.com/jupyter-naas/awesome-notebooks/master/OS/OS_Remove_file.ipynb\" target=\"_parent\"><img src=\"https://naasai-public.s3.eu-west-3.amazonaws.com/Open_in_Naas_Lab.svg\"/></a><br><br><a href=\"https://github.com/jupyter-naas/awesome-notebooks/issues/new?assignees=&labels=&template=template-request.md&title=Tool+-+Action+of+the+notebook+\">Template request</a> | <a href=\"https://github.com/jupyter-naas/awesome-notebooks/issues/new?assignees=&labels=bug&template=bug_report.md&title=OS+-+Remove+file:+Error+short+description\">Bug report</a> | <a href=\"https://app.naas.ai/user-redirect/naas/downloader?url=https://raw.githubusercontent.com/jupyter-naas/awesome-notebooks/master/Naas/Naas_Start_data_product.ipynb\" target=\"_parent\">Generate Data Product</a>"
   ]
  },
  {
   "cell_type": "markdown",
   "id": "d51213ba-59eb-455a-b446-8d9f8f800d48",
   "metadata": {
    "papermill": {},
    "tags": []
   },
   "source": [
    "**Tags:** #os #python #remove #file #system #library #snippet #operations"
   ]
  },
  {
   "cell_type": "markdown",
   "id": "8957e724-0940-46e0-af42-93d3b1afdceb",
   "metadata": {
    "papermill": {},
    "tags": []
   },
   "source": [
    "**Author:** [Florent Ravenel](http://linkedin.com/in/florent-ravenel)"
   ]
  },
  {
   "cell_type": "markdown",
   "id": "2c46f996-46e9-4155-ab5b-5f49fb5ff052",
   "metadata": {
    "papermill": {},
    "tags": []
   },
   "source": [
    "**Description:** This notebook will show how to remove file from system using os library."
   ]
  },
  {
   "cell_type": "markdown",
   "id": "fd9a440d-1ead-4226-8c45-c33fd1d350b2",
   "metadata": {
    "papermill": {},
    "tags": []
   },
   "source": [
    "**References:**\n",
    "- [os library documentation](https://docs.python.org/3/library/os.html)\n",
    "- [os.remove() documentation](https://docs.python.org/3/library/os.html#os.remove)"
   ]
  },
  {
   "cell_type": "markdown",
   "id": "e83de48c-d8b1-41e6-93b6-22ad6b6b9289",
   "metadata": {
    "papermill": {},
    "tags": []
   },
   "source": [
    "## Input"
   ]
  },
  {
   "cell_type": "markdown",
   "id": "556d4838-92f4-4436-a4fb-78f7e9a4fcb8",
   "metadata": {
    "papermill": {},
    "tags": []
   },
   "source": [
    "### Import libraries"
   ]
  },
  {
   "cell_type": "code",
   "execution_count": null,
   "id": "fff3c4e5-c9f1-4547-a6ed-c036d23c49ad",
   "metadata": {
    "papermill": {},
    "tags": []
   },
   "outputs": [],
   "source": [
    "import os"
   ]
  },
  {
   "cell_type": "markdown",
   "id": "018eae87-b326-4cf6-8288-19dd8be7d0d1",
   "metadata": {
    "papermill": {},
    "tags": []
   },
   "source": [
    "### Setup Variables\n",
    "- `file_path`: path of the file to be removed"
   ]
  },
  {
   "cell_type": "code",
   "execution_count": null,
   "id": "2dafee87-b207-4e8d-ae78-dd18f7234a57",
   "metadata": {
    "papermill": {},
    "tags": []
   },
   "outputs": [],
   "source": [
    "file_path = \"untitled.txt\""
   ]
  },
  {
   "cell_type": "markdown",
   "id": "5af62796-5953-4d5e-b851-2a456e845bde",
   "metadata": {
    "papermill": {},
    "tags": []
   },
   "source": [
    "## Model"
   ]
  },
  {
   "cell_type": "markdown",
   "id": "4a98356e-40b6-46a4-ba71-f8d62f6d40a4",
   "metadata": {
    "papermill": {},
    "tags": []
   },
   "source": [
    "### Remove file\n",
    "This function will remove the file from the system."
   ]
  },
  {
   "cell_type": "code",
   "execution_count": null,
   "id": "113cfdc7-56ab-4bca-8e3a-8cc69a9c22a7",
   "metadata": {
    "papermill": {},
    "tags": []
   },
   "outputs": [],
   "source": [
    "os.remove(file_path)"
   ]
  },
  {
   "cell_type": "markdown",
   "id": "343c4407-f24f-444f-8d7a-26e4e544ea7d",
   "metadata": {
    "papermill": {},
    "tags": []
   },
   "source": [
    "## Output"
   ]
  },
  {
   "cell_type": "markdown",
   "id": "25a7a516-e86e-419d-a591-d7054d9ee001",
   "metadata": {
    "papermill": {},
    "tags": []
   },
   "source": [
    "### Display result"
   ]
  },
  {
   "cell_type": "code",
   "execution_count": null,
   "id": "90b2d308-e116-4a95-9d33-40a8b5c1ae00",
   "metadata": {
    "papermill": {},
    "tags": []
   },
   "outputs": [],
   "source": [
    "print(f\"The file '{file_path}' has been removed from the system.\")"
   ]
  }
 ],
 "metadata": {
  "kernelspec": {
   "display_name": "Python 3",
   "language": "python",
   "name": "python3"
  },
  "language_info": {
   "codemirror_mode": {
    "name": "ipython",
    "version": 3
   },
   "file_extension": ".py",
   "mimetype": "text/x-python",
   "name": "python",
   "nbconvert_exporter": "python",
   "pygments_lexer": "ipython3",
   "version": "3.9.6"
  },
  "naas": {
   "notebook_id": "fa208f2a6760c8f1d61394c59eb08948b2421d0ca23668df0927b40b12a0ee11",
   "notebook_path": "OS/OS_Remove_file.ipynb"
  },
  "papermill": {
   "default_parameters": {},
   "environment_variables": {},
   "parameters": {},
   "version": "2.4.0"
  },
  "widgets": {
   "application/vnd.jupyter.widget-state+json": {
    "state": {},
    "version_major": 2,
    "version_minor": 0
   }
  }
 },
 "nbformat": 4,
 "nbformat_minor": 5
}