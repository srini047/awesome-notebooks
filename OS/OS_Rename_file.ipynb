{
 "cells": [
  {
   "cell_type": "markdown",
   "id": "3eaf9cd0-87cf-471f-bf7c-07f81e163206",
   "metadata": {
    "execution": {
     "iopub.execute_input": "2021-10-07T18:08:42.284676Z",
     "iopub.status.busy": "2021-10-07T18:08:42.284311Z",
     "iopub.status.idle": "2021-10-07T18:08:42.296032Z",
     "shell.execute_reply": "2021-10-07T18:08:42.295101Z",
     "shell.execute_reply.started": "2021-10-07T18:08:42.284600Z"
    },
    "papermill": {},
    "tags": []
   },
   "source": [
    "<img width=\"10%\" alt=\"Naas\" src=\"https://landen.imgix.net/jtci2pxwjczr/assets/5ice39g4.png?w=160\"/>"
   ]
  },
  {
   "cell_type": "markdown",
   "id": "23cc1f57-01c6-462b-8da4-af5ddd5dd815",
   "metadata": {
    "papermill": {},
    "tags": []
   },
   "source": [
    "# OS - Rename file\n",
    "<a href=\"https://app.naas.ai/user-redirect/naas/downloader?url=https://raw.githubusercontent.com/jupyter-naas/awesome-notebooks/master/OS/OS_Rename_file.ipynb\" target=\"_parent\"><img src=\"https://naasai-public.s3.eu-west-3.amazonaws.com/Open_in_Naas_Lab.svg\"/></a><br><br><a href=\"https://github.com/jupyter-naas/awesome-notebooks/issues/new?assignees=&labels=&template=template-request.md&title=Tool+-+Action+of+the+notebook+\">Template request</a> | <a href=\"https://github.com/jupyter-naas/awesome-notebooks/issues/new?assignees=&labels=bug&template=bug_report.md&title=OS+-+Rename+file:+Error+short+description\">Bug report</a> | <a href=\"https://app.naas.ai/user-redirect/naas/downloader?url=https://raw.githubusercontent.com/jupyter-naas/awesome-notebooks/master/Naas/Naas_Start_data_product.ipynb\" target=\"_parent\">Generate Data Product</a>"
   ]
  },
  {
   "cell_type": "markdown",
   "id": "74a154f7-1396-4b5d-bec7-cf9be1669b50",
   "metadata": {
    "execution": {
     "iopub.execute_input": "2021-10-07T17:02:10.532600Z",
     "iopub.status.busy": "2021-10-07T17:02:10.532368Z",
     "iopub.status.idle": "2021-10-07T17:02:10.540305Z",
     "shell.execute_reply": "2021-10-07T17:02:10.539440Z",
     "shell.execute_reply.started": "2021-10-07T17:02:10.532576Z"
    },
    "papermill": {},
    "tags": []
   },
   "source": [
    "**Tags:** #os #python #snippet #operations"
   ]
  },
  {
   "cell_type": "markdown",
   "id": "8b89da2b-d7df-4257-8788-89394e0c9786",
   "metadata": {
    "papermill": {},
    "tags": []
   },
   "source": [
    "**Author:** [Divakar](https://www.linkedin.com/in/divakar-r-9b34b86b/)"
   ]
  },
  {
   "cell_type": "markdown",
   "id": "4ee51ccb-052d-4d96-801b-4c5463e1d1f0",
   "metadata": {
    "papermill": {},
    "tags": []
   },
   "source": [
    "**Description:** This notebook will show how to rename file using os library."
   ]
  },
  {
   "cell_type": "markdown",
   "id": "52c3d2cc-3d99-427c-95a9-5fb0248aa722",
   "metadata": {
    "papermill": {},
    "tags": []
   },
   "source": [
    "**References:**\n",
    "- [OS Module Python Tutorial](https://pythonprogramming.net/python-3-os-module/)\n",
    "- [os — Miscellaneous operating system interfaces](https://docs.python.org/3/library/os.html)"
   ]
  },
  {
   "cell_type": "markdown",
   "id": "d8c69c1c-f7e7-443c-b6ab-dd5a4430a351",
   "metadata": {
    "papermill": {},
    "tags": []
   },
   "source": [
    "## Input "
   ]
  },
  {
   "cell_type": "markdown",
   "id": "58458713-c53b-489c-b929-37b1f95583e4",
   "metadata": {
    "papermill": {},
    "tags": []
   },
   "source": [
    "### Import libraries"
   ]
  },
  {
   "cell_type": "code",
   "execution_count": null,
   "id": "a227aa86-256d-4e9a-b473-343260c16b38",
   "metadata": {
    "papermill": {},
    "tags": []
   },
   "outputs": [],
   "source": [
    "import os"
   ]
  },
  {
   "cell_type": "markdown",
   "id": "ef20d385-aee5-4710-8efc-630fbee36e25",
   "metadata": {
    "papermill": {},
    "tags": []
   },
   "source": [
    "### Setup Variables\n",
    "- `input_file_path`: input file path\n",
    "- `output_file_path`: output file path"
   ]
  },
  {
   "cell_type": "code",
   "execution_count": null,
   "id": "043f4fa3",
   "metadata": {
    "papermill": {},
    "tags": []
   },
   "outputs": [],
   "source": [
    "input_file_path = \"test1.ppt\"\n",
    "output_file_path = \"test2.ppt\""
   ]
  },
  {
   "cell_type": "markdown",
   "id": "27e6f6ae",
   "metadata": {
    "papermill": {},
    "tags": []
   },
   "source": [
    "## Model"
   ]
  },
  {
   "cell_type": "markdown",
   "id": "49268222-0ee1-421e-be34-7eab6ea38d55",
   "metadata": {
    "papermill": {},
    "tags": []
   },
   "source": [
    "### Rename file using os"
   ]
  },
  {
   "cell_type": "code",
   "execution_count": null,
   "id": "27b1fdb6",
   "metadata": {
    "papermill": {},
    "tags": []
   },
   "outputs": [],
   "source": [
    "os.rename(input_file_path, output_file_path)"
   ]
  },
  {
   "cell_type": "markdown",
   "id": "0c34bf31-eea1-4e0b-8be5-a7863b538534",
   "metadata": {
    "papermill": {},
    "tags": []
   },
   "source": [
    "## Output"
   ]
  },
  {
   "cell_type": "markdown",
   "id": "8e9b32f1-7589-4759-a6c9-061a1ceaa177",
   "metadata": {
    "papermill": {},
    "tags": []
   },
   "source": [
    "### Display result"
   ]
  },
  {
   "cell_type": "code",
   "execution_count": null,
   "id": "e60725c8-1384-416d-9b8a-3f80cada2a5c",
   "metadata": {
    "papermill": {},
    "tags": []
   },
   "outputs": [],
   "source": [
    "print(f\"File {input_file_path} successfully renamed: {output_file_path}!\")"
   ]
  }
 ],
 "metadata": {
  "kernelspec": {
   "display_name": "Python 3",
   "language": "python",
   "name": "python3"
  },
  "language_info": {
   "codemirror_mode": {
    "name": "ipython",
    "version": 3
   },
   "file_extension": ".py",
   "mimetype": "text/x-python",
   "name": "python",
   "nbconvert_exporter": "python",
   "pygments_lexer": "ipython3",
   "version": "3.9.6"
  },
  "naas": {
   "notebook_id": "41e782306e5647529deb821db88d07feef810caef4389f00189aaaf47a7207c8",
   "notebook_path": "OS/OS_Rename_file.ipynb"
  },
  "papermill": {
   "default_parameters": {},
   "environment_variables": {},
   "parameters": {},
   "version": "2.3.3"
  },
  "widgets": {
   "application/vnd.jupyter.widget-state+json": {
    "state": {},
    "version_major": 2,
    "version_minor": 0
   }
  }
 },
 "nbformat": 4,
 "nbformat_minor": 5
}