{
 "cells": [
  {
   "cell_type": "markdown",
   "id": "18b456ed-e482-434e-a9e3-a67981e19d63",
   "metadata": {
    "papermill": {},
    "tags": []
   },
   "source": [
    "<img width=\"10%\" alt=\"Naas\" src=\"https://landen.imgix.net/jtci2pxwjczr/assets/5ice39g4.png?w=160\"/>"
   ]
  },
  {
   "cell_type": "markdown",
   "id": "1118bf38-fee4-4fac-a020-f4958a64c8aa",
   "metadata": {
    "papermill": {},
    "tags": []
   },
   "source": [
    "# OS - Check path exist\n",
    "<a href=\"https://app.naas.ai/user-redirect/naas/downloader?url=https://raw.githubusercontent.com/jupyter-naas/awesome-notebooks/master/OS/OS_Check_path_exist.ipynb\" target=\"_parent\"><img src=\"https://naasai-public.s3.eu-west-3.amazonaws.com/Open_in_Naas_Lab.svg\"/></a><br><br><a href=\"https://github.com/jupyter-naas/awesome-notebooks/issues/new?assignees=&labels=&template=template-request.md&title=Tool+-+Action+of+the+notebook+\">Template request</a> | <a href=\"https://github.com/jupyter-naas/awesome-notebooks/issues/new?assignees=&labels=bug&template=bug_report.md&title=OS+-+Check+path+exist:+Error+short+description\">Bug report</a> | <a href=\"https://app.naas.ai/user-redirect/naas/downloader?url=https://raw.githubusercontent.com/jupyter-naas/awesome-notebooks/master/Naas/Naas_Start_data_product.ipynb\" target=\"_parent\">Generate Data Product</a>"
   ]
  },
  {
   "cell_type": "markdown",
   "id": "d51213ba-59eb-455a-b446-8d9f8f800d48",
   "metadata": {
    "papermill": {},
    "tags": []
   },
   "source": [
    "**Tags:** #os #python #path #file #system #library #snippet #operations #check"
   ]
  },
  {
   "cell_type": "markdown",
   "id": "8957e724-0940-46e0-af42-93d3b1afdceb",
   "metadata": {
    "papermill": {},
    "tags": []
   },
   "source": [
    "**Author:** [Benjamin Filly](https://www.linkedin.com/in/benjamin-filly-05427727a/)"
   ]
  },
  {
   "cell_type": "markdown",
   "id": "2c46f996-46e9-4155-ab5b-5f49fb5ff052",
   "metadata": {
    "papermill": {},
    "tags": []
   },
   "source": [
    "**Description:** This notebook will show how to check a path exist using os library."
   ]
  },
  {
   "cell_type": "markdown",
   "id": "fd9a440d-1ead-4226-8c45-c33fd1d350b2",
   "metadata": {
    "papermill": {},
    "tags": []
   },
   "source": [
    "**References:**\n",
    "- [os.path.exists() method](https://www.geeksforgeeks.org/python-os-path-exists-method/)"
   ]
  },
  {
   "cell_type": "markdown",
   "id": "e83de48c-d8b1-41e6-93b6-22ad6b6b9289",
   "metadata": {
    "papermill": {},
    "tags": []
   },
   "source": [
    "## Input"
   ]
  },
  {
   "cell_type": "markdown",
   "id": "556d4838-92f4-4436-a4fb-78f7e9a4fcb8",
   "metadata": {
    "papermill": {},
    "tags": []
   },
   "source": [
    "### Import libraries"
   ]
  },
  {
   "cell_type": "code",
   "execution_count": 1,
   "id": "fff3c4e5-c9f1-4547-a6ed-c036d23c49ad",
   "metadata": {
    "papermill": {},
    "tags": []
   },
   "outputs": [],
   "source": [
    "import os"
   ]
  },
  {
   "cell_type": "markdown",
   "id": "018eae87-b326-4cf6-8288-19dd8be7d0d1",
   "metadata": {
    "papermill": {},
    "tags": []
   },
   "source": [
    "### Setup Variables\n",
    "- `path`:  file path in your local system. If you are using Naas you should start with `/home/ftp` to locate your file"
   ]
  },
  {
   "cell_type": "code",
   "execution_count": 2,
   "id": "2dafee87-b207-4e8d-ae78-dd18f7234a57",
   "metadata": {
    "papermill": {},
    "tags": []
   },
   "outputs": [],
   "source": [
    "path = '/home/ftp/__templates__' # Specify path"
   ]
  },
  {
   "cell_type": "markdown",
   "id": "5af62796-5953-4d5e-b851-2a456e845bde",
   "metadata": {
    "papermill": {},
    "tags": []
   },
   "source": [
    "## Model"
   ]
  },
  {
   "cell_type": "markdown",
   "id": "4a98356e-40b6-46a4-ba71-f8d62f6d40a4",
   "metadata": {
    "papermill": {},
    "tags": []
   },
   "source": [
    "### Check if path exists\n",
    "This function will check the precise location of the file or directory in a file system you put in the variable"
   ]
  },
  {
   "cell_type": "code",
   "execution_count": 3,
   "id": "113cfdc7-56ab-4bca-8e3a-8cc69a9c22a7",
   "metadata": {
    "papermill": {},
    "tags": []
   },
   "outputs": [],
   "source": [
    "is_exist = os.path.exists(path) # Check whether the specified path exists or not"
   ]
  },
  {
   "cell_type": "markdown",
   "id": "343c4407-f24f-444f-8d7a-26e4e544ea7d",
   "metadata": {
    "papermill": {},
    "tags": []
   },
   "source": [
    "## Output"
   ]
  },
  {
   "cell_type": "markdown",
   "id": "25a7a516-e86e-419d-a591-d7054d9ee001",
   "metadata": {
    "papermill": {},
    "tags": []
   },
   "source": [
    "### Display result"
   ]
  },
  {
   "cell_type": "code",
   "execution_count": 4,
   "id": "90b2d308-e116-4a95-9d33-40a8b5c1ae00",
   "metadata": {
    "papermill": {},
    "tags": []
   },
   "outputs": [],
   "source": [
    "print(\"Is the path existing ?\")\n",
    "print(is_exist)"
   ]
  }
 ],
 "metadata": {
  "kernelspec": {
   "display_name": "Python 3",
   "language": "python",
   "name": "python3"
  },
  "language_info": {
   "codemirror_mode": {
    "name": "ipython",
    "version": 3
   },
   "file_extension": ".py",
   "mimetype": "text/x-python",
   "name": "python",
   "nbconvert_exporter": "python",
   "pygments_lexer": "ipython3",
   "version": "3.9.6"
  },
  "naas": {
   "notebook_id": "141f931922bdd2a673d198df328243e7aed56d0ecd1f1c4c83a1b08a2ba263f5",
   "notebook_path": "OS/OS_Check_path_exist.ipynb"
  },
  "papermill": {
   "default_parameters": {},
   "environment_variables": {},
   "parameters": {},
   "version": "2.4.0"
  },
  "widgets": {
   "application/vnd.jupyter.widget-state+json": {
    "state": {},
    "version_major": 2,
    "version_minor": 0
   }
  }
 },
 "nbformat": 4,
 "nbformat_minor": 5
}