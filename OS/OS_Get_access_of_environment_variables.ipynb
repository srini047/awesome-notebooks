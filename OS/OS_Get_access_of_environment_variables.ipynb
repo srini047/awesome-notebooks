{
 "cells": [
  {
   "cell_type": "markdown",
   "id": "125b1427-420b-46d0-af95-ba7891f22944",
   "metadata": {
    "papermill": {},
    "tags": []
   },
   "source": [
    "<img width=\"10%\" alt=\"Naas\" src=\"https://landen.imgix.net/jtci2pxwjczr/assets/5ice39g4.png?w=160\"/>"
   ]
  },
  {
   "cell_type": "markdown",
   "id": "7f13ac28-924f-4fc8-9190-6ee345ae2517",
   "metadata": {
    "papermill": {},
    "tags": []
   },
   "source": [
    "# OS - Get access of environment variables\n",
    "<a href=\"https://app.naas.ai/user-redirect/naas/downloader?url=https://raw.githubusercontent.com/jupyter-naas/awesome-notebooks/master/OS/OS_Get_access_of_environment_variables.ipynb\" target=\"_parent\"><img src=\"https://naasai-public.s3.eu-west-3.amazonaws.com/Open_in_Naas_Lab.svg\"/></a><br><br><a href=\"https://github.com/jupyter-naas/awesome-notebooks/issues/new?assignees=&labels=&template=template-request.md&title=Tool+-+Action+of+the+notebook+\">Template request</a> | <a href=\"https://github.com/jupyter-naas/awesome-notebooks/issues/new?assignees=&labels=bug&template=bug_report.md&title=OS+-+Get+access+of+environment+variables:+Error+short+description\">Bug report</a> | <a href=\"https://app.naas.ai/user-redirect/naas/downloader?url=https://raw.githubusercontent.com/jupyter-naas/awesome-notebooks/master/Naas/Naas_Start_data_product.ipynb\" target=\"_parent\">Generate Data Product</a>"
   ]
  },
  {
   "cell_type": "markdown",
   "id": "542a5123-63da-4fed-9d66-8e2b8f74b822",
   "metadata": {
    "papermill": {},
    "tags": []
   },
   "source": [
    "**Tags:** #python #environment #variables #os #environ #object"
   ]
  },
  {
   "cell_type": "markdown",
   "id": "36ae4df8-7417-4423-9a94-dacb5ee1d7f2",
   "metadata": {
    "papermill": {},
    "tags": []
   },
   "source": [
    "**Author:** [Florent Ravenel](https://www.linkedin.com/in/florent-ravenel/)"
   ]
  },
  {
   "cell_type": "markdown",
   "id": "ec95cb57-b363-4e5e-b4ad-bd914fd5ebe1",
   "metadata": {
    "papermill": {},
    "tags": []
   },
   "source": [
    "**Description:** This notebook explains how to use of `os.environ` to get access of environment variables. Environment variables are useful in several ways:\n",
    "- Portability: Environment variables are independent of the code and can be easily ported across systems. This means that you can define an environment variable once, and use it in multiple scripts, applications, or systems without having to hardcode the variable's value.\n",
    "- Security: Environment variables can be used to store sensitive information like passwords or API keys, which can be accessed by the code without exposing them in the script. This is particularly useful when you need to deploy your code to a server or share it with others.\n",
    "- Flexibility: Environment variables allow you to change the behavior of your code without modifying the code itself. This is useful when you need to modify the behavior of your code based on different scenarios, such as development, testing, or production environments.\n",
    "- Configuration: Environment variables can be used to configure your code, by providing default values for variables that can be overridden by environment variables. This makes your code more flexible and easier to customize.\n",
    "\n",
    "Overall, environment variables are a useful tool for managing configuration settings and sensitive information in your code, and can make your code more portable, secure, and flexible."
   ]
  },
  {
   "cell_type": "markdown",
   "id": "a1700cbe-f655-4ade-a771-01fa964115a6",
   "metadata": {
    "papermill": {},
    "tags": []
   },
   "source": [
    "**References:**\n",
    "- [Python os.environ object](https://www.geeksforgeeks.org/python-os-environ-object/)\n",
    "- [Python os.environ documentation](https://docs.python.org/3/library/os.html#os.environ)"
   ]
  },
  {
   "cell_type": "markdown",
   "id": "7c977aae-2bfb-402d-b382-467b7ab52801",
   "metadata": {
    "papermill": {},
    "tags": []
   },
   "source": [
    "## Input"
   ]
  },
  {
   "cell_type": "markdown",
   "id": "43b41254-a92d-4a08-8e09-2caeda1713ae",
   "metadata": {
    "papermill": {},
    "tags": []
   },
   "source": [
    "### Import libraries"
   ]
  },
  {
   "cell_type": "code",
   "execution_count": null,
   "id": "e36ca348-9c1a-4f7d-8e01-72052aba616b",
   "metadata": {
    "papermill": {},
    "tags": []
   },
   "outputs": [],
   "source": [
    "import os\n",
    "import pprint"
   ]
  },
  {
   "cell_type": "markdown",
   "id": "37ce1f0b-5a20-4d7b-a58e-7b43df65d94d",
   "metadata": {
    "papermill": {},
    "tags": []
   },
   "source": [
    "## Model"
   ]
  },
  {
   "cell_type": "markdown",
   "id": "8f0a6e68-876a-4bc9-8690-fde3fadf8261",
   "metadata": {
    "papermill": {},
    "tags": []
   },
   "source": [
    "### Get the list of user's environment variables"
   ]
  },
  {
   "cell_type": "code",
   "execution_count": null,
   "id": "43b85a49-a541-48ce-9922-46a7454e3359",
   "metadata": {
    "papermill": {},
    "tags": []
   },
   "outputs": [],
   "source": [
    "# Get the list of user's environment variables\n",
    "env_var = os.environ"
   ]
  },
  {
   "cell_type": "markdown",
   "id": "8d0b6876-068a-45cc-aa3e-be7835efe1dc",
   "metadata": {
    "papermill": {},
    "tags": []
   },
   "source": [
    "## Output"
   ]
  },
  {
   "cell_type": "markdown",
   "id": "e8a44b04-4b3f-4de6-af74-6fb611a5f94a",
   "metadata": {
    "papermill": {},
    "tags": []
   },
   "source": [
    "### Display result"
   ]
  },
  {
   "cell_type": "code",
   "execution_count": null,
   "id": "f78d29c1-54f7-4e16-97a9-1cbeb18c2780",
   "metadata": {
    "papermill": {},
    "tags": []
   },
   "outputs": [],
   "source": [
    "# Print the list of user's\n",
    "# environment variables\n",
    "print(\"User's Environment variable:\")\n",
    "pprint.pprint(dict(env_var), width = 1)"
   ]
  },
  {
   "cell_type": "markdown",
   "id": "0aff680b-d78f-40af-8f24-cf5ea40dd13c",
   "metadata": {
    "papermill": {},
    "tags": []
   },
   "source": [
    " "
   ]
  }
 ],
 "metadata": {
  "kernelspec": {
   "display_name": "Python 3",
   "language": "python",
   "name": "python3"
  },
  "language_info": {
   "codemirror_mode": {
    "name": "ipython",
    "version": 3
   },
   "file_extension": ".py",
   "mimetype": "text/x-python",
   "name": "python",
   "nbconvert_exporter": "python",
   "pygments_lexer": "ipython3",
   "version": "3.9.6"
  },
  "naas": {
   "notebook_id": "2eca9945533598a7b77fba6dd42d083942103cf78ce933470cfdedc5f385d6da",
   "notebook_path": "OS/OS_Get_access_of_environment_variables.ipynb"
  },
  "papermill": {
   "default_parameters": {},
   "environment_variables": {},
   "parameters": {},
   "version": "2.4.0"
  },
  "widgets": {
   "application/vnd.jupyter.widget-state+json": {
    "state": {},
    "version_major": 2,
    "version_minor": 0
   }
  }
 },
 "nbformat": 4,
 "nbformat_minor": 5
}