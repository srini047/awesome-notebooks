{
 "cells": [
  {
   "cell_type": "markdown",
   "id": "4d57a413-4634-430c-9a85-5bf4cf3922bc",
   "metadata": {
    "papermill": {},
    "tags": []
   },
   "source": [
    "<img width=\"10%\" alt=\"Naas\" src=\"https://landen.imgix.net/jtci2pxwjczr/assets/5ice39g4.png?w=160\"/>"
   ]
  },
  {
   "cell_type": "markdown",
   "id": "383d1ce2-d740-4d67-b3ca-a53f8bfb0566",
   "metadata": {
    "papermill": {},
    "tags": []
   },
   "source": [
    "# OS - Get current working directory\n",
    "<a href=\"https://app.naas.ai/user-redirect/naas/downloader?url=https://raw.githubusercontent.com/jupyter-naas/awesome-notebooks/master/OS/OS_Get_current_working_directory.ipynb\" target=\"_parent\"><img src=\"https://naasai-public.s3.eu-west-3.amazonaws.com/Open_in_Naas_Lab.svg\"/></a><br><br><a href=\"https://github.com/jupyter-naas/awesome-notebooks/issues/new?assignees=&labels=&template=template-request.md&title=Tool+-+Action+of+the+notebook+\">Template request</a> | <a href=\"https://github.com/jupyter-naas/awesome-notebooks/issues/new?assignees=&labels=bug&template=bug_report.md&title=OS+-+Get+current+working+directory:+Error+short+description\">Bug report</a> | <a href=\"https://app.naas.ai/user-redirect/naas/downloader?url=https://raw.githubusercontent.com/jupyter-naas/awesome-notebooks/master/Naas/Naas_Start_data_product.ipynb\" target=\"_parent\">Generate Data Product</a>"
   ]
  },
  {
   "cell_type": "markdown",
   "id": "70c602a6-08b6-477c-9474-d27eb72dc369",
   "metadata": {
    "papermill": {},
    "tags": []
   },
   "source": [
    "**Tags:** #os #python #snippet #operations #operatingsystem"
   ]
  },
  {
   "cell_type": "markdown",
   "id": "05c80ce0-1748-4e07-8883-e98fe686a0a6",
   "metadata": {
    "papermill": {},
    "tags": []
   },
   "source": [
    "**Author:** [Florent Ravenel](https://www.linkedin.com/in/florent-ravenel/)"
   ]
  },
  {
   "cell_type": "markdown",
   "id": "791185fe-ac12-4624-ae7f-3e9aae53a212",
   "metadata": {
    "papermill": {},
    "tags": []
   },
   "source": [
    "**Description:** This notebook demonstrates how to get the current working directory using `os` module. The main purpose of the OS module is to interact with your operating system. The primary use I find for it is to create folders, remove folders, move folders, and sometimes change the working directory. You can also access the names of files within a file path by doing listdir(). We do not cover that in this video, but that's an option."
   ]
  },
  {
   "cell_type": "markdown",
   "id": "3af4a4b9-62d0-4b72-87f5-4d0646f84c17",
   "metadata": {
    "papermill": {},
    "tags": []
   },
   "source": [
    "**References:**\n",
    "- [OS Module Python Tutorial](https://pythonprogramming.net/python-3-os-module/)\n",
    "- [os — Miscellaneous operating system interfaces](https://docs.python.org/3/library/os.html)"
   ]
  },
  {
   "cell_type": "markdown",
   "id": "0b3143b9-7d6b-4d0d-8b53-787c6ae1db52",
   "metadata": {
    "papermill": {},
    "tags": []
   },
   "source": [
    "## Input"
   ]
  },
  {
   "cell_type": "markdown",
   "id": "f840ad34-d501-4e52-be5e-5c927c639a43",
   "metadata": {
    "papermill": {},
    "tags": []
   },
   "source": [
    "### Import libraries"
   ]
  },
  {
   "cell_type": "code",
   "execution_count": null,
   "id": "971ccbc6-98bc-4d27-aa86-614ed0fa7b54",
   "metadata": {
    "papermill": {},
    "tags": []
   },
   "outputs": [],
   "source": [
    "import os"
   ]
  },
  {
   "cell_type": "markdown",
   "id": "26425351-63b3-4b31-a700-5b56548ea6a1",
   "metadata": {
    "papermill": {},
    "tags": []
   },
   "source": [
    "## Model"
   ]
  },
  {
   "cell_type": "markdown",
   "id": "675848bf-f98c-41bb-ba19-8cb9231d76e0",
   "metadata": {
    "papermill": {},
    "tags": []
   },
   "source": [
    "### Get current working directory\n",
    "The os.getcwd() function returns the current working directory of the process."
   ]
  },
  {
   "cell_type": "code",
   "execution_count": null,
   "id": "3c28ae9e-d8c8-460d-ae3a-69082e972ece",
   "metadata": {
    "papermill": {},
    "tags": []
   },
   "outputs": [],
   "source": [
    "# Get the current working directory\n",
    "cwd = os.getcwd()"
   ]
  },
  {
   "cell_type": "markdown",
   "id": "ec62c408-6e3f-4031-b225-65ef06843833",
   "metadata": {
    "papermill": {},
    "tags": []
   },
   "source": [
    "## Output"
   ]
  },
  {
   "cell_type": "markdown",
   "id": "18d304a2-4351-4e87-baa7-b673dede4932",
   "metadata": {
    "papermill": {},
    "tags": []
   },
   "source": [
    "### Display result"
   ]
  },
  {
   "cell_type": "code",
   "execution_count": null,
   "id": "72a8e5a6-1546-4dea-9502-af2259cf086d",
   "metadata": {
    "papermill": {},
    "tags": []
   },
   "outputs": [],
   "source": [
    "# Print the current working directory\n",
    "print(cwd)"
   ]
  },
  {
   "cell_type": "markdown",
   "id": "9bde2cb3-519e-48c3-b43d-5ade39a1e4ba",
   "metadata": {
    "papermill": {},
    "tags": []
   },
   "source": [
    " "
   ]
  }
 ],
 "metadata": {
  "kernelspec": {
   "display_name": "Python 3",
   "language": "python",
   "name": "python3"
  },
  "language_info": {
   "codemirror_mode": {
    "name": "ipython",
    "version": 3
   },
   "file_extension": ".py",
   "mimetype": "text/x-python",
   "name": "python",
   "nbconvert_exporter": "python",
   "pygments_lexer": "ipython3",
   "version": "3.9.6"
  },
  "naas": {
   "notebook_id": "c7bf168e0033b04e424d24283c3804f677d20958b8a7519e60e69f4a176cddc1",
   "notebook_path": "OS/OS_Get_current_working_directory.ipynb"
  },
  "papermill": {
   "default_parameters": {},
   "environment_variables": {},
   "parameters": {},
   "version": "2.4.0"
  },
  "widgets": {
   "application/vnd.jupyter.widget-state+json": {
    "state": {},
    "version_major": 2,
    "version_minor": 0
   }
  }
 },
 "nbformat": 4,
 "nbformat_minor": 5
}