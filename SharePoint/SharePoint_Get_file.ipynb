{
 "cells": [
  {
   "cell_type": "markdown",
   "id": "52e0e5da",
   "metadata": {
    "execution": {
     "iopub.execute_input": "2021-02-23T14:22:16.610471Z",
     "iopub.status.busy": "2021-02-23T14:22:16.610129Z",
     "iopub.status.idle": "2021-02-23T14:22:16.627784Z",
     "shell.execute_reply": "2021-02-23T14:22:16.626866Z",
     "shell.execute_reply.started": "2021-02-23T14:22:16.610384Z"
    },
    "papermill": {},
    "tags": []
   },
   "source": [
    "<img width=\"10%\" alt=\"Naas\" src=\"https://landen.imgix.net/jtci2pxwjczr/assets/5ice39g4.png?w=160\"/>"
   ]
  },
  {
   "cell_type": "markdown",
   "id": "402fd896",
   "metadata": {
    "papermill": {},
    "tags": []
   },
   "source": [
    "# SharePoint - Get file\n",
    "<a href=\"https://app.naas.ai/user-redirect/naas/downloader?url=https://raw.githubusercontent.com/jupyter-naas/awesome-notebooks/master/SharePoint/SharePoint_Get_file.ipynb\" target=\"_parent\"><img src=\"https://naasai-public.s3.eu-west-3.amazonaws.com/open_in_naas.svg\"/></a><br><br><a href=\"https://github.com/jupyter-naas/awesome-notebooks/issues/new?assignees=&labels=&template=template-request.md&title=Tool+-+Action+of+the+notebook+\">Template request</a> | <a href=\"https://github.com/jupyter-naas/awesome-notebooks/issues/new?assignees=&labels=bug&template=bug_report.md&title=SharePoint+-+Get+file:+Error+short+description\">Bug report</a>"
   ]
  },
  {
   "cell_type": "markdown",
   "id": "e968d3e1-1530-466a-a8ea-327bab4ded9b",
   "metadata": {
    "papermill": {},
    "tags": []
   },
   "source": [
    "**Tags:** #sharepoint #productivity #naas_drivers #operations #snippet"
   ]
  },
  {
   "cell_type": "markdown",
   "id": "ebd9655c-5526-4e4d-b2da-0af9acece82a",
   "metadata": {
    "papermill": {},
    "tags": []
   },
   "source": [
    "**Author:** [Florent Ravenel](https://www.linkedin.com/in/florent-ravenel/)"
   ]
  },
  {
   "cell_type": "markdown",
   "id": "naas-description",
   "metadata": {
    "papermill": {},
    "tags": [
     "description"
    ]
   },
   "source": [
    "**Description:** This notebook provides a guide to retrieving files from a SharePoint server."
   ]
  },
  {
   "cell_type": "markdown",
   "id": "949052de",
   "metadata": {
    "papermill": {},
    "tags": []
   },
   "source": [
    "## Input"
   ]
  },
  {
   "cell_type": "markdown",
   "id": "a278b8a9-8838-4826-b5b1-b0b2258bcba2",
   "metadata": {
    "papermill": {},
    "tags": []
   },
   "source": [
    "### Import libraries"
   ]
  },
  {
   "cell_type": "code",
   "execution_count": null,
   "id": "0024e100-e38b-4886-a0a5-2985874d08cd",
   "metadata": {
    "papermill": {},
    "tags": []
   },
   "outputs": [],
   "source": [
    "from naas_drivers import sharepoint\n",
    "import naas"
   ]
  },
  {
   "cell_type": "markdown",
   "id": "d9f07ccd-add3-4348-a33f-f13c167ff6ff",
   "metadata": {
    "papermill": {},
    "tags": []
   },
   "source": [
    "### Setup SharePoint"
   ]
  },
  {
   "cell_type": "code",
   "execution_count": null,
   "id": "f715cf8d",
   "metadata": {
    "papermill": {},
    "tags": []
   },
   "outputs": [],
   "source": [
    "# SharePoint credentials\n",
    "SP_ENDPOINT = naas.secret.get(\"SP_ENDPOINT\") or \"ENTER_YOUR_SP_ENDPOINT_HERE\"\n",
    "SP_USERNAME = naas.secret.get(\"SP_USERNAME\") or \"ENTER_YOUR_SP_USERNAME_HERE\"\n",
    "SP_PASSWORD = naas.secret.get(\"SP_PASSWORD\") or \"ENTER_YOUR_SP_PASSWORD_HERE\"\n",
    "SP_SITE = naas.secret.get(\"SP_SITE\") or \"ENTER_YOUR_SP_SITE_HERE\"\n",
    "\n",
    "# File path in SharePoint\n",
    "FILE_PATH_SOURCE = \"ENTER_YOUR_FILE_PATH_SOURCE_HERE\"\n",
    "\n",
    "# File path in your local\n",
    "FILE_PATH_DESTINATION = \"ENTER_YOUR_FILE_PATH_DESTINATION_HERE\""
   ]
  },
  {
   "cell_type": "markdown",
   "id": "14814853-ab1a-407f-a6ed-f43f6750bdec",
   "metadata": {
    "papermill": {},
    "tags": []
   },
   "source": [
    "## Model"
   ]
  },
  {
   "cell_type": "markdown",
   "id": "593459ed-9299-498c-a59d-d4363622c403",
   "metadata": {
    "papermill": {},
    "tags": []
   },
   "source": [
    "### Get file"
   ]
  },
  {
   "cell_type": "code",
   "execution_count": null,
   "id": "4c77546c-db2a-4157-8c8e-ab26fb57ddd6",
   "metadata": {
    "papermill": {},
    "tags": []
   },
   "outputs": [],
   "source": [
    "file = sharepoint.connect(SP_ENDPOINT, SP_USERNAME, SP_PASSWORD, SP_SITE).get_file(\n",
    "    FILE_PATH_SOURCE, FILE_PATH_DESTINATION\n",
    ")"
   ]
  },
  {
   "cell_type": "markdown",
   "id": "86766318-4190-411d-a977-eeaca66c540a",
   "metadata": {
    "execution": {
     "iopub.execute_input": "2021-09-08T08:35:26.852888Z",
     "iopub.status.busy": "2021-09-08T08:35:26.852535Z",
     "iopub.status.idle": "2021-09-08T08:35:27.816622Z",
     "shell.execute_reply": "2021-09-08T08:35:27.809968Z",
     "shell.execute_reply.started": "2021-09-08T08:35:26.852857Z"
    },
    "papermill": {},
    "tags": []
   },
   "source": [
    "## Output"
   ]
  },
  {
   "cell_type": "markdown",
   "id": "bbe0b8e4-7bd0-4fda-80a5-3b6e75296ea7",
   "metadata": {
    "execution": {
     "iopub.execute_input": "2021-11-01T20:25:28.201119Z",
     "iopub.status.busy": "2021-11-01T20:25:28.200888Z",
     "iopub.status.idle": "2021-11-01T20:25:28.203684Z",
     "shell.execute_reply": "2021-11-01T20:25:28.202990Z",
     "shell.execute_reply.started": "2021-11-01T20:25:28.201096Z"
    },
    "papermill": {},
    "tags": []
   },
   "source": [
    "### Display result"
   ]
  },
  {
   "cell_type": "code",
   "execution_count": null,
   "id": "b62e8409-6b1d-4977-9839-3c2c5bb48fa1",
   "metadata": {
    "papermill": {},
    "tags": []
   },
   "outputs": [],
   "source": [
    "file"
   ]
  }
 ],
 "metadata": {
  "kernelspec": {
   "display_name": "Python 3",
   "language": "python",
   "name": "python3"
  },
  "language_info": {
   "codemirror_mode": {
    "name": "ipython",
    "version": 3
   },
   "file_extension": ".py",
   "mimetype": "text/x-python",
   "name": "python",
   "nbconvert_exporter": "python",
   "pygments_lexer": "ipython3",
   "version": "3.9.6"
  },
  "naas": {
   "notebook_id": "d0b5a6ac-30f2-4dd1-8546-448993d9fd06",
   "notebook_path": "Notion/Notion_Update_page.ipynb"
  },
  "papermill": {
   "default_parameters": {},
   "environment_variables": {},
   "parameters": {},
   "version": "2.3.3"
  },
  "widgets": {
   "application/vnd.jupyter.widget-state+json": {
    "state": {},
    "version_major": 2,
    "version_minor": 0
   }
  }
 },
 "nbformat": 4,
 "nbformat_minor": 5
}