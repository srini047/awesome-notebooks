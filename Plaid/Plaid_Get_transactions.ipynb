{
 "cells": [
  {
   "cell_type": "markdown",
   "id": "naughty-chester",
   "metadata": {
    "papermill": {},
    "tags": []
   },
   "source": [
    "<img width=\"10%\" alt=\"Naas\" src=\"https://landen.imgix.net/jtci2pxwjczr/assets/5ice39g4.png?w=160\"/>"
   ]
  },
  {
   "cell_type": "markdown",
   "id": "painful-intersection",
   "metadata": {
    "papermill": {},
    "tags": []
   },
   "source": [
    "# Plaid - Get transactions\n",
    "<a href=\"https://app.naas.ai/user-redirect/naas/downloader?url=https://raw.githubusercontent.com/jupyter-naas/awesome-notebooks/master/Plaid/Plaid_Get_transactions.ipynb\" target=\"_parent\"><img src=\"https://naasai-public.s3.eu-west-3.amazonaws.com/open_in_naas.svg\"/></a><br><br><a href=\"https://github.com/jupyter-naas/awesome-notebooks/issues/new?assignees=&labels=&template=template-request.md&title=Tool+-+Action+of+the+notebook+\">Template request</a> | <a href=\"https://github.com/jupyter-naas/awesome-notebooks/issues/new?assignees=&labels=bug&template=bug_report.md&title=Plaid+-+Get+transactions:+Error+short+description\">Bug report</a>"
   ]
  },
  {
   "cell_type": "markdown",
   "id": "c5747c12-bc91-49b9-b2e6-c9fdca638922",
   "metadata": {
    "papermill": {},
    "tags": []
   },
   "source": [
    "**Tags:** #plaid #bank #transactions #snippet #finance #dataframe"
   ]
  },
  {
   "cell_type": "markdown",
   "id": "naas-author",
   "metadata": {
    "papermill": {},
    "tags": [
     "naas"
    ]
   },
   "source": [
    "**Author:** [Martin Donadieu](https://www.linkedin.com/in/martindonadieu/)"
   ]
  },
  {
   "cell_type": "markdown",
   "id": "naas-description",
   "metadata": {
    "papermill": {},
    "tags": [
     "description"
    ]
   },
   "source": [
    "**Description:** This notebook provides a guide to retrieving financial transaction data from Plaid."
   ]
  },
  {
   "cell_type": "markdown",
   "id": "input_cell",
   "metadata": {
    "papermill": {},
    "tags": []
   },
   "source": [
    "## Input"
   ]
  },
  {
   "cell_type": "markdown",
   "id": "29a4ab4f-24df-4d04-9a55-f49e19e6bb00",
   "metadata": {
    "papermill": {},
    "tags": []
   },
   "source": [
    "### Install packages"
   ]
  },
  {
   "cell_type": "code",
   "execution_count": null,
   "id": "senior-treasure",
   "metadata": {
    "papermill": {},
    "tags": []
   },
   "outputs": [],
   "source": [
    "pip install plaid-python"
   ]
  },
  {
   "cell_type": "markdown",
   "id": "minimal-ordinary",
   "metadata": {
    "papermill": {},
    "tags": []
   },
   "source": [
    "### Create account here :\n",
    "https://plaid.com/\n",
    "    \n",
    "    "
   ]
  },
  {
   "cell_type": "markdown",
   "id": "import_cell",
   "metadata": {
    "papermill": {},
    "tags": []
   },
   "source": [
    "### Import libraries"
   ]
  },
  {
   "cell_type": "code",
   "execution_count": null,
   "id": "headed-participation",
   "metadata": {
    "papermill": {},
    "tags": []
   },
   "outputs": [],
   "source": [
    "import os\n",
    "import plaid\n",
    "import naas\n",
    "import IPython.core.display\n",
    "import uuid\n",
    "import json"
   ]
  },
  {
   "cell_type": "markdown",
   "id": "lesbian-michael",
   "metadata": {
    "papermill": {},
    "tags": []
   },
   "source": [
    "### Config your variables"
   ]
  },
  {
   "cell_type": "code",
   "execution_count": null,
   "id": "verified-geneva",
   "metadata": {
    "papermill": {},
    "tags": []
   },
   "outputs": [],
   "source": [
    "PLAID_CLIENT_ID = \"*************\"\n",
    "PLAID_SECRET = \"*************\"\n",
    "PLAID_ENV = \"sandbox\"\n",
    "\n",
    "PLAID_PRODUCTS = [\"transactions\"]\n",
    "PLAID_COUNTRY_CODES = [\"FR\"]\n",
    "start_transaction = \"2020-09-01\"\n",
    "end_transaction = \"2020-10-01\""
   ]
  },
  {
   "cell_type": "markdown",
   "id": "model_cell",
   "metadata": {
    "papermill": {},
    "tags": []
   },
   "source": [
    "## Model"
   ]
  },
  {
   "cell_type": "markdown",
   "id": "broken-flight",
   "metadata": {
    "execution": {
     "iopub.execute_input": "2021-01-28T12:58:58.267083Z",
     "iopub.status.busy": "2021-01-28T12:58:58.266839Z",
     "iopub.status.idle": "2021-01-28T12:58:58.270280Z",
     "shell.execute_reply": "2021-01-28T12:58:58.269610Z",
     "shell.execute_reply.started": "2021-01-28T12:58:58.267059Z"
    },
    "papermill": {},
    "tags": []
   },
   "source": [
    "### Connect to plaid"
   ]
  },
  {
   "cell_type": "code",
   "execution_count": null,
   "id": "directed-tobago",
   "metadata": {
    "papermill": {},
    "tags": []
   },
   "outputs": [],
   "source": [
    "client = plaid.Client(\n",
    "    client_id=PLAID_CLIENT_ID, secret=PLAID_SECRET, environment=PLAID_ENV\n",
    ")"
   ]
  },
  {
   "cell_type": "code",
   "execution_count": null,
   "id": "applicable-lemon",
   "metadata": {
    "papermill": {},
    "tags": []
   },
   "outputs": [],
   "source": [
    "def create_link_token():\n",
    "    response = client.LinkToken.create(\n",
    "        {\n",
    "            \"user\": {\n",
    "                # This should correspond to a unique id for the current user.\n",
    "                \"client_user_id\": \"user-id\",\n",
    "            },\n",
    "            \"client_name\": \"Plaid Quickstart\",\n",
    "            \"products\": PLAID_PRODUCTS,\n",
    "            \"country_codes\": PLAID_COUNTRY_CODES,\n",
    "            \"language\": \"en\",\n",
    "            \"redirect_uri\": None,\n",
    "        }\n",
    "    )\n",
    "    return response"
   ]
  },
  {
   "cell_type": "code",
   "execution_count": null,
   "id": "sized-perspective",
   "metadata": {
    "papermill": {},
    "tags": []
   },
   "outputs": [],
   "source": [
    "token = create_link_token()\n",
    "token"
   ]
  },
  {
   "cell_type": "markdown",
   "id": "informed-schedule",
   "metadata": {
    "execution": {
     "iopub.execute_input": "2021-01-28T12:59:33.801190Z",
     "iopub.status.busy": "2021-01-28T12:59:33.800945Z",
     "iopub.status.idle": "2021-01-28T12:59:33.803748Z",
     "shell.execute_reply": "2021-01-28T12:59:33.803087Z",
     "shell.execute_reply.started": "2021-01-28T12:59:33.801165Z"
    },
    "papermill": {},
    "tags": []
   },
   "source": [
    "### Use Naas callback to get the plaid OAuth token"
   ]
  },
  {
   "cell_type": "code",
   "execution_count": null,
   "id": "sorted-bottom",
   "metadata": {
    "papermill": {},
    "tags": []
   },
   "outputs": [],
   "source": [
    "cb_url = naas.callback.add()"
   ]
  },
  {
   "cell_type": "markdown",
   "id": "norwegian-attachment",
   "metadata": {
    "papermill": {},
    "tags": []
   },
   "source": [
    "### Select Bank connection"
   ]
  },
  {
   "cell_type": "code",
   "execution_count": null,
   "id": "pretty-immunology",
   "metadata": {
    "papermill": {},
    "tags": []
   },
   "outputs": [],
   "source": [
    "uid = uuid.uuid4().hex\n",
    "iframe = \"\"\"\n",
    "<head>\n",
    "  <script src=\"https://cdn.plaid.com/link/v2/stable/link-initialize.js\"></script>\n",
    "</head>\n",
    "<script>\n",
    "const handler_{uid} = Plaid.create({\n",
    "  token: '{GENERATED_LINK_TOKEN}',\n",
    "  onSuccess: (public_token, metadata) => {\n",
    "        const xhr = new XMLHttpRequest();\n",
    "        xhr.open(\"POST\", \"{CALLBACK_URL}\", true);\n",
    "        xhr.setRequestHeader('Content-Type', 'application/json');\n",
    "        xhr.send(JSON.stringify({\n",
    "            public_token: public_token\n",
    "        }));\n",
    "  }\n",
    "});\n",
    "handler_{uid}.open();\n",
    "</script>\n",
    "\"\"\"\n",
    "iframe = iframe.replace(\"{uid}\", uid)\n",
    "iframe = iframe.replace(\"{CALLBACK_URL}\", cb_url.get(\"url\"))\n",
    "iframe = iframe.replace(\"{GENERATED_LINK_TOKEN}\", token.get(\"link_token\"))\n",
    "IPython.core.display.display(IPython.core.display.HTML(iframe))"
   ]
  },
  {
   "cell_type": "markdown",
   "id": "unlike-arbor",
   "metadata": {
    "papermill": {},
    "tags": []
   },
   "source": [
    "### Get back plaid token"
   ]
  },
  {
   "cell_type": "code",
   "execution_count": null,
   "id": "weighted-verse",
   "metadata": {
    "papermill": {},
    "tags": []
   },
   "outputs": [],
   "source": [
    "cb_data = naas.callback.get(cb_url.get(\"uuid\"))\n",
    "cb_data = json.loads(cb_data)\n",
    "public_token = cb_data.get(\"public_token\")\n",
    "public_token"
   ]
  },
  {
   "cell_type": "markdown",
   "id": "excessive-calgary",
   "metadata": {
    "papermill": {},
    "tags": []
   },
   "source": [
    "### Exange token "
   ]
  },
  {
   "cell_type": "code",
   "execution_count": null,
   "id": "junior-sunglasses",
   "metadata": {
    "papermill": {},
    "tags": []
   },
   "outputs": [],
   "source": [
    "exchange_response = client.Item.public_token.exchange(public_token)\n",
    "access_token = exchange_response[\"access_token\"]\n",
    "item_id = exchange_response[\"item_id\"]"
   ]
  },
  {
   "cell_type": "markdown",
   "id": "output_cell",
   "metadata": {
    "papermill": {},
    "tags": []
   },
   "source": [
    "## Output"
   ]
  },
  {
   "cell_type": "markdown",
   "id": "metric-cloud",
   "metadata": {
    "papermill": {},
    "tags": []
   },
   "source": [
    "### Show transactions"
   ]
  },
  {
   "cell_type": "code",
   "execution_count": null,
   "id": "loving-dancing",
   "metadata": {
    "papermill": {},
    "tags": []
   },
   "outputs": [],
   "source": [
    "response = client.Transactions.get(\n",
    "    access_token, start_date=start_transaction, end_date=end_transaction\n",
    ")\n",
    "transactions = response[\"transactions\"]\n",
    "\n",
    "while len(transactions) < response[\"total_transactions\"]:\n",
    "    response = client.Transactions.get(\n",
    "        access_token, start_date=start, end_date=end, offset=len(transactions)\n",
    "    )\n",
    "    transactions.extend(response[\"transactions\"])\n",
    "transaction_df = pd.DataFrame.from_records(transactions)\n",
    "transaction_df"
   ]
  },
  {
   "cell_type": "markdown",
   "id": "acute-designation",
   "metadata": {
    "papermill": {},
    "tags": []
   },
   "source": [
    "### Save as csv"
   ]
  },
  {
   "cell_type": "code",
   "execution_count": null,
   "id": "sixth-rabbit",
   "metadata": {
    "papermill": {},
    "tags": []
   },
   "outputs": [],
   "source": [
    "transaction_df.to_csv(\"transactions.csv\")"
   ]
  },
  {
   "cell_type": "markdown",
   "id": "backed-feeling",
   "metadata": {
    "papermill": {},
    "tags": []
   },
   "source": [
    "#### If you need more data check the api doc \n",
    "https://plaid.com/docs/"
   ]
  }
 ],
 "metadata": {
  "kernelspec": {
   "display_name": "Python 3",
   "language": "python",
   "name": "python3"
  },
  "language_info": {
   "codemirror_mode": {
    "name": "ipython",
    "version": 3
   },
   "file_extension": ".py",
   "mimetype": "text/x-python",
   "name": "python",
   "nbconvert_exporter": "python",
   "pygments_lexer": "ipython3",
   "version": "3.9.6"
  },
  "naas": {
   "notebook_id": "3416f2ea-e1b1-41f2-b925-89da73b88f19",
   "notebook_path": "Plaid/Plaid_Get_transactions.ipynb"
  },
  "papermill": {
   "default_parameters": {},
   "environment_variables": {},
   "parameters": {},
   "version": "2.3.3"
  }
 },
 "nbformat": 4,
 "nbformat_minor": 5
}