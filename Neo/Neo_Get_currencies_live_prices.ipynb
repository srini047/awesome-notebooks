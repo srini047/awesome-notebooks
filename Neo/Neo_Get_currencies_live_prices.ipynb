{
 "cells": [
  {
   "cell_type": "markdown",
   "id": "bright-thailand",
   "metadata": {
    "papermill": {},
    "tags": []
   },
   "source": [
    "<img width=\"10%\" alt=\"Naas\" src=\"https://landen.imgix.net/jtci2pxwjczr/assets/5ice39g4.png?w=160\"/>"
   ]
  },
  {
   "cell_type": "markdown",
   "id": "interpreted-inspiration",
   "metadata": {
    "papermill": {},
    "tags": []
   },
   "source": [
    "# Neo - Get currencies live prices\n",
    "<a href=\"https://app.naas.ai/user-redirect/naas/downloader?url=https://raw.githubusercontent.com/jupyter-naas/awesome-notebooks/master/Neo/Neo_Get_currencies_live_prices.ipynb\" target=\"_parent\"><img src=\"https://naasai-public.s3.eu-west-3.amazonaws.com/Open_in_Naas_Lab.svg\"/></a><br><br><a href=\"https://github.com/jupyter-naas/awesome-notebooks/issues/new?assignees=&labels=&template=template-request.md&title=Tool+-+Action+of+the+notebook+\">Template request</a> | <a href=\"https://github.com/jupyter-naas/awesome-notebooks/issues/new?assignees=&labels=bug&template=bug_report.md&title=Neo+-+Get+currencies+live+prices:+Error+short+description\">Bug report</a> | <a href=\"https://app.naas.ai/user-redirect/naas/downloader?url=https://raw.githubusercontent.com/jupyter-naas/awesome-notebooks/master/Naas/Naas_Start_data_product.ipynb\" target=\"_parent\">Generate Data Product</a>"
   ]
  },
  {
   "cell_type": "markdown",
   "id": "8397272d-44fa-4f70-ad26-3f64ed655c4c",
   "metadata": {
    "papermill": {},
    "tags": []
   },
   "source": [
    "**Tags:** #neo #bank #snippet #finance #csv"
   ]
  },
  {
   "cell_type": "markdown",
   "id": "naas-author",
   "metadata": {
    "papermill": {},
    "tags": [
     "naas"
    ]
   },
   "source": [
    "**Author:** [Jeremy Ravenel](https://www.linkedin.com/in/ACoAAAJHE7sB5OxuKHuzguZ9L6lfDHqw--cdnJg/)"
   ]
  },
  {
   "cell_type": "markdown",
   "id": "naas-description",
   "metadata": {
    "papermill": {},
    "tags": [
     "description"
    ]
   },
   "source": [
    "**Description:** This notebook provides live currency prices for various currencies."
   ]
  },
  {
   "cell_type": "markdown",
   "id": "input_cell",
   "metadata": {
    "papermill": {},
    "tags": []
   },
   "source": [
    "## Input"
   ]
  },
  {
   "cell_type": "markdown",
   "id": "8110aab6-7f16-4f19-b29e-e73b6c774b2b",
   "metadata": {
    "papermill": {},
    "tags": []
   },
   "source": [
    "### Install packages"
   ]
  },
  {
   "cell_type": "code",
   "execution_count": null,
   "id": "prescription-railway",
   "metadata": {
    "papermill": {},
    "tags": []
   },
   "outputs": [],
   "source": [
    "!pip install requests"
   ]
  },
  {
   "cell_type": "markdown",
   "id": "import_cell",
   "metadata": {
    "papermill": {},
    "tags": []
   },
   "source": [
    "### Import libraries"
   ]
  },
  {
   "cell_type": "code",
   "execution_count": 2,
   "id": "reserved-castle",
   "metadata": {
    "papermill": {},
    "tags": []
   },
   "outputs": [],
   "source": [
    "from pathlib import Path\n",
    "import pandas as pd\n",
    "import requests"
   ]
  },
  {
   "cell_type": "markdown",
   "id": "model_cell",
   "metadata": {
    "papermill": {},
    "tags": []
   },
   "source": [
    "## Model"
   ]
  },
  {
   "cell_type": "markdown",
   "id": "5a2f9407-4d40-4585-b15a-1bb6042724ad",
   "metadata": {
    "papermill": {},
    "tags": []
   },
   "source": [
    "### API configurations"
   ]
  },
  {
   "cell_type": "code",
   "execution_count": 3,
   "id": "dirty-laptop",
   "metadata": {
    "papermill": {},
    "tags": []
   },
   "outputs": [],
   "source": [
    "ccy_pair = \"EUR/CHF\"\n",
    "AUTH_HOST = \"https://auth.getneo.com\"\n",
    "DATA_HOST = \"https://data.getneo.com\"\n",
    "login_id = \"LOGIN\"\n",
    "api_key = \"PASSWORD\"\n",
    "bearer_token = None"
   ]
  },
  {
   "cell_type": "markdown",
   "id": "653a0f11-bba6-4c4b-87b5-515818cd4a89",
   "metadata": {
    "papermill": {},
    "tags": []
   },
   "source": [
    "### Output file config"
   ]
  },
  {
   "cell_type": "code",
   "execution_count": null,
   "id": "1a7ab853-6078-4f39-ab89-756ed1eacf11",
   "metadata": {
    "papermill": {},
    "tags": []
   },
   "outputs": [],
   "source": [
    "output_dir = Path(\"../data_output/\")\n",
    "output_file = f\"{ccy_pair.replace('/', '')}.csv\""
   ]
  },
  {
   "cell_type": "markdown",
   "id": "52056171-d93e-4ace-a166-4f2cf93af80b",
   "metadata": {
    "papermill": {},
    "tags": []
   },
   "source": [
    "### Authenticate to get token"
   ]
  },
  {
   "cell_type": "code",
   "execution_count": 4,
   "id": "marine-johnston",
   "metadata": {
    "papermill": {},
    "tags": []
   },
   "outputs": [],
   "source": [
    "if not bearer_token:\n",
    "    response = requests.get(\n",
    "        f\"{AUTH_HOST}/api/v1/auth/login/\",\n",
    "        params={\"login_id\": login_id, \"api_key\": api_key},\n",
    "    )\n",
    "    if response.status_code != 200:\n",
    "        raise PermissionError(f\"Failed to authenticate as {login_id}\")\n",
    "    print(f\"Authenticated as {login_id}\")\n",
    "\n",
    "    bearer_token = response.headers[\"Authorization\"]"
   ]
  },
  {
   "cell_type": "markdown",
   "id": "2450b62e-c8f2-4870-855b-0a015f12a1df",
   "metadata": {
    "papermill": {},
    "tags": []
   },
   "source": [
    "### Get data with token"
   ]
  },
  {
   "cell_type": "code",
   "execution_count": 5,
   "id": "czech-arlington",
   "metadata": {
    "papermill": {},
    "tags": []
   },
   "outputs": [],
   "source": [
    "response = requests.get(\n",
    "    f\"{DATA_HOST}/api/v1/prices/{ccy_pair}\", headers={\"Authorization\": bearer_token}\n",
    ")\n",
    "if response.status_code != 200:\n",
    "    bearer_token = None\n",
    "    raise ValueError(f\"Failed to retrieve {ccy_pair} prices\")"
   ]
  },
  {
   "cell_type": "markdown",
   "id": "output_cell",
   "metadata": {
    "papermill": {},
    "tags": []
   },
   "source": [
    "## Output"
   ]
  },
  {
   "cell_type": "markdown",
   "id": "display_cell",
   "metadata": {
    "papermill": {},
    "tags": []
   },
   "source": [
    "### Display result"
   ]
  },
  {
   "cell_type": "code",
   "execution_count": 6,
   "id": "complimentary-vault",
   "metadata": {
    "papermill": {},
    "tags": []
   },
   "outputs": [],
   "source": [
    "prices_dict = response.json()\n",
    "prices = pd.DataFrame(data=list(prices_dict.items()), columns=[\"DATE\", \"VALUE\"])\n",
    "oldest_date = prices[\"DATE\"].min()\n",
    "print(f\"Closing price for {ccy_pair} on {oldest_date}: {prices_dict[oldest_date]}\")\n",
    "newest_date = prices[\"DATE\"].max()\n",
    "print(f\"Closing price for {ccy_pair} on {newest_date}: {prices_dict[newest_date]}\")"
   ]
  },
  {
   "cell_type": "markdown",
   "id": "36014572-9b13-4a2a-8370-626042e92f05",
   "metadata": {
    "papermill": {},
    "tags": []
   },
   "source": [
    "### Saving output to file"
   ]
  },
  {
   "cell_type": "code",
   "execution_count": 7,
   "id": "copyrighted-economics",
   "metadata": {
    "papermill": {},
    "tags": []
   },
   "outputs": [],
   "source": [
    "prices.to_csv(output_dir / output_file, index=False)"
   ]
  }
 ],
 "metadata": {
  "kernelspec": {
   "display_name": "Python 3",
   "language": "python",
   "name": "python3"
  },
  "language_info": {
   "codemirror_mode": {
    "name": "ipython",
    "version": 3
   },
   "file_extension": ".py",
   "mimetype": "text/x-python",
   "name": "python",
   "nbconvert_exporter": "python",
   "pygments_lexer": "ipython3",
   "version": "3.9.6"
  },
  "naas": {
   "notebook_id": "615ec6a8a79947d3ad3332806a73e9d47724fb113848dfdbff7166e70b84e367",
   "notebook_path": "Neo/Neo_Get_currencies_live_prices.ipynb"
  },
  "papermill": {
   "default_parameters": {},
   "environment_variables": {},
   "parameters": {},
   "version": "2.3.3"
  }
 },
 "nbformat": 4,
 "nbformat_minor": 5
}