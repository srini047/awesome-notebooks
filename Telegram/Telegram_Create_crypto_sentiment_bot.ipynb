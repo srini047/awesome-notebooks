{
 "cells": [
  {
   "cell_type": "markdown",
   "id": "naas-logo",
   "metadata": {
    "papermill": {},
    "tags": [
     "naas"
    ]
   },
   "source": [
    "<img width=\"10%\" alt=\"Naas\" src=\"https://landen.imgix.net/jtci2pxwjczr/assets/5ice39g4.png?w=160\"/>"
   ]
  },
  {
   "cell_type": "markdown",
   "id": "demanding-combine",
   "metadata": {
    "papermill": {},
    "tags": []
   },
   "source": [
    "# Telegram - Create crypto sentiment bot\n",
    "<a href=\"https://app.naas.ai/user-redirect/naas/downloader?url=https://raw.githubusercontent.com/jupyter-naas/awesome-notebooks/master/Telegram/Telegram_Create_crypto_sentiment_bot.ipynb\" target=\"_parent\"><img src=\"https://naasai-public.s3.eu-west-3.amazonaws.com/open_in_naas.svg\"/></a><br><br><a href=\"https://github.com/jupyter-naas/awesome-notebooks/issues/new?assignees=&labels=&template=template-request.md&title=Tool+-+Action+of+the+notebook+\">Template request</a> | <a href=\"https://github.com/jupyter-naas/awesome-notebooks/issues/new?assignees=&labels=bug&template=bug_report.md&title=Telegram+-+Create+crypto+sentiment+bot:+Error+short+description\">Bug report</a>"
   ]
  },
  {
   "cell_type": "markdown",
   "id": "0c5b7fa7-8a65-4375-8353-83613b93df3b",
   "metadata": {
    "papermill": {},
    "tags": []
   },
   "source": [
    "**Tags:** #telegram #sentiment #bot #naas_drivers #ai #investors"
   ]
  },
  {
   "cell_type": "markdown",
   "id": "naas-author",
   "metadata": {
    "papermill": {},
    "tags": [
     "naas"
    ]
   },
   "source": [
    "**Author:** [Yaswanthkumar GOTHIREDDY](https://www.linkedin.com/in/yaswanthkumargothireddy/)"
   ]
  },
  {
   "cell_type": "markdown",
   "id": "naas-description",
   "metadata": {
    "papermill": {},
    "tags": [
     "description"
    ]
   },
   "source": [
    "**Description:** This notebook provides instructions on how to create a Telegram bot that tracks and analyzes sentiment around cryptocurrencies."
   ]
  },
  {
   "cell_type": "markdown",
   "id": "surprising-edinburgh",
   "metadata": {
    "papermill": {},
    "tags": []
   },
   "source": [
    "## Input"
   ]
  },
  {
   "cell_type": "markdown",
   "id": "54366d3e-c261-4be8-881e-0698116c0ff9",
   "metadata": {
    "papermill": {},
    "tags": []
   },
   "source": [
    "### Install packages"
   ]
  },
  {
   "cell_type": "code",
   "execution_count": 3,
   "id": "empirical-people",
   "metadata": {
    "execution": {
     "iopub.execute_input": "2021-08-06T15:55:04.051861Z",
     "iopub.status.busy": "2021-08-06T15:55:04.049052Z",
     "iopub.status.idle": "2021-08-06T15:55:08.961030Z",
     "shell.execute_reply": "2021-08-06T15:55:08.960389Z",
     "shell.execute_reply.started": "2021-08-06T15:55:04.051827Z"
    },
    "papermill": {},
    "tags": []
   },
   "outputs": [],
   "source": [
    "!pip install python-telegram-bot --user"
   ]
  },
  {
   "cell_type": "markdown",
   "id": "import_cell",
   "metadata": {
    "papermill": {},
    "tags": []
   },
   "source": [
    "### Import libraries"
   ]
  },
  {
   "cell_type": "code",
   "execution_count": 4,
   "id": "grateful-control",
   "metadata": {
    "execution": {
     "iopub.execute_input": "2021-08-06T15:55:08.962499Z",
     "iopub.status.busy": "2021-08-06T15:55:08.962264Z",
     "iopub.status.idle": "2021-08-06T15:55:25.998294Z",
     "shell.execute_reply": "2021-08-06T15:55:25.997582Z",
     "shell.execute_reply.started": "2021-08-06T15:55:08.962467Z"
    },
    "papermill": {},
    "tags": []
   },
   "outputs": [],
   "source": [
    "import logging\n",
    "from telegram.ext import *\n",
    "import numpy as np\n",
    "from naas_drivers import newsapi\n",
    "from naas_drivers import sentiment\n",
    "from datetime import datetime, timedelta"
   ]
  },
  {
   "cell_type": "markdown",
   "id": "talented-single",
   "metadata": {
    "papermill": {},
    "tags": []
   },
   "source": [
    "### Variables"
   ]
  },
  {
   "cell_type": "markdown",
   "id": "decreased-marketplace",
   "metadata": {
    "papermill": {},
    "tags": []
   },
   "source": [
    "[Create a Telegram bot and get your API KEY](https://core.telegram.org/bots#6-botfather)"
   ]
  },
  {
   "cell_type": "code",
   "execution_count": 1,
   "id": "million-filing",
   "metadata": {
    "execution": {
     "iopub.execute_input": "2021-08-06T15:55:03.897894Z",
     "iopub.status.busy": "2021-08-06T15:55:03.897478Z",
     "iopub.status.idle": "2021-08-06T15:55:03.906336Z",
     "shell.execute_reply": "2021-08-06T15:55:03.905689Z",
     "shell.execute_reply.started": "2021-08-06T15:55:03.897824Z"
    },
    "papermill": {},
    "tags": []
   },
   "outputs": [],
   "source": [
    "TELEGRAM_API_KEY = \"***********\""
   ]
  },
  {
   "cell_type": "markdown",
   "id": "clinical-copying",
   "metadata": {
    "papermill": {},
    "tags": []
   },
   "source": [
    "[Get Newsapi API KEY](https://newsapi.org/)"
   ]
  },
  {
   "cell_type": "code",
   "execution_count": 2,
   "id": "spare-bermuda",
   "metadata": {
    "execution": {
     "iopub.execute_input": "2021-08-06T15:55:03.907863Z",
     "iopub.status.busy": "2021-08-06T15:55:03.907476Z",
     "iopub.status.idle": "2021-08-06T15:55:04.046822Z",
     "shell.execute_reply": "2021-08-06T15:55:04.046177Z",
     "shell.execute_reply.started": "2021-08-06T15:55:03.907835Z"
    },
    "papermill": {},
    "tags": []
   },
   "outputs": [],
   "source": [
    "NEWSAPI_API_KEY = \"***********\""
   ]
  },
  {
   "cell_type": "code",
   "execution_count": 5,
   "id": "oriental-nashville",
   "metadata": {
    "execution": {
     "iopub.execute_input": "2021-08-06T15:55:25.999931Z",
     "iopub.status.busy": "2021-08-06T15:55:25.999519Z",
     "iopub.status.idle": "2021-08-06T15:55:26.004895Z",
     "shell.execute_reply": "2021-08-06T15:55:26.004249Z",
     "shell.execute_reply.started": "2021-08-06T15:55:25.999901Z"
    },
    "papermill": {},
    "tags": []
   },
   "outputs": [],
   "source": [
    "# Set up the logging\n",
    "logging.basicConfig(\n",
    "    format=\"%(asctime)s - %(name)s - %(levelname)s - %(message)s\", level=logging.INFO\n",
    ")\n",
    "logging.info(\"Starting Bot...\")"
   ]
  },
  {
   "cell_type": "markdown",
   "id": "overall-boutique",
   "metadata": {
    "papermill": {},
    "tags": []
   },
   "source": [
    "### Get last 24 hours articles from NewsAPI on a CoinMarketCap top coins"
   ]
  },
  {
   "cell_type": "code",
   "execution_count": 6,
   "id": "fatal-census",
   "metadata": {
    "execution": {
     "iopub.execute_input": "2021-08-06T15:55:26.006422Z",
     "iopub.status.busy": "2021-08-06T15:55:26.005977Z",
     "iopub.status.idle": "2021-08-06T15:55:26.108971Z",
     "shell.execute_reply": "2021-08-06T15:55:26.108284Z",
     "shell.execute_reply.started": "2021-08-06T15:55:26.006391Z"
    },
    "papermill": {},
    "tags": []
   },
   "outputs": [],
   "source": [
    "# parameters for newsapi\n",
    "FROM_DATE = (datetime.now() - timedelta(days=1)).replace(microsecond=0).isoformat()\n",
    "TO_DATE = datetime.now().replace(microsecond=0).isoformat()\n",
    "\n",
    "# top marketcap coins according to coinmarketcap\n",
    "coins = [\n",
    "    \"bitcoin\",\n",
    "    \"ethereum\",\n",
    "    \"ripple\",\n",
    "    \"dogecoin\",\n",
    "    \"cardano\",\n",
    "    \"polygon\",\n",
    "    \"binance\",\n",
    "    \"polkadot\",\n",
    "    \"uniswap\",\n",
    "    \"litecoin\",\n",
    "    \"chainlink\",\n",
    "    \"solana\",\n",
    "    \"stellar\",\n",
    "]\n",
    "\n",
    "# connect to Newsapi Naas drivers\n",
    "newsapi.connect(NEWSAPI_API_KEY)\n",
    "newsapi.connect()"
   ]
  },
  {
   "cell_type": "markdown",
   "id": "useful-offering",
   "metadata": {
    "papermill": {},
    "tags": []
   },
   "source": [
    "## Model"
   ]
  },
  {
   "cell_type": "markdown",
   "id": "possible-bobby",
   "metadata": {
    "papermill": {},
    "tags": []
   },
   "source": [
    "### User need to ask for coins ticker and get responses"
   ]
  },
  {
   "cell_type": "code",
   "execution_count": 7,
   "id": "headed-retention",
   "metadata": {
    "execution": {
     "iopub.execute_input": "2021-08-06T15:55:26.111003Z",
     "iopub.status.busy": "2021-08-06T15:55:26.110729Z",
     "iopub.status.idle": "2021-08-06T15:55:26.206800Z",
     "shell.execute_reply": "2021-08-06T15:55:26.206207Z",
     "shell.execute_reply.started": "2021-08-06T15:55:26.110973Z"
    },
    "papermill": {},
    "tags": []
   },
   "outputs": [],
   "source": [
    "# user_response\n",
    "def get_response(user_message):\n",
    "\n",
    "    usr_msg_text = user_message.lower()\n",
    "\n",
    "    if usr_msg_text in coins:  # check if returned message has the top coins\n",
    "        data = newsapi.get(\n",
    "            q=usr_msg_text, from_param=FROM_DATE, to=TO_DATE, language=\"en\"\n",
    "        )\n",
    "        if len(data) == 0:  # extra check to returned data\n",
    "            sentiment = \"No news for this ticker in last 24 hours, try another\"\n",
    "            return sentiment\n",
    "        else:\n",
    "            sentiment_df = sentiment.get(\n",
    "                data, column_name=\"title\"\n",
    "            )  # sentiment calculation\n",
    "            sentiment = sentiment_df[\"Score\"].mean()\n",
    "    else:\n",
    "        sentiment = \"There is no data for this ticker\\n use \\help command\"\n",
    "\n",
    "    return sentiment"
   ]
  },
  {
   "cell_type": "markdown",
   "id": "maritime-medline",
   "metadata": {
    "papermill": {},
    "tags": []
   },
   "source": [
    "### Here are the commands to communicate with Telegram"
   ]
  },
  {
   "cell_type": "code",
   "execution_count": 8,
   "id": "diverse-environment",
   "metadata": {
    "execution": {
     "iopub.execute_input": "2021-08-06T15:55:26.209842Z",
     "iopub.status.busy": "2021-08-06T15:55:26.209666Z",
     "iopub.status.idle": "2021-08-06T15:55:26.297142Z",
     "shell.execute_reply": "2021-08-06T15:55:26.296602Z",
     "shell.execute_reply.started": "2021-08-06T15:55:26.209823Z"
    },
    "papermill": {},
    "tags": []
   },
   "outputs": [],
   "source": [
    "# commands\n",
    "def start_command(update, context):\n",
    "    update.message.reply_text(\n",
    "        \"\"\"Hello there! I\\'m a crypto sentiment bot.\n",
    "    Send me the coin name, I\\'ll send you sentiment!\"\"\"\n",
    "    )\n",
    "\n",
    "\n",
    "def help_command(update, context):\n",
    "    update.message.reply_text(\n",
    "        \"\"\"check the coin names from the list below!\n",
    "    bitcoin\\n etherium\\n ripple\\n dogecoin\\n cardano\\n polygon\n",
    "    binance\\n polkadot\\n uniswap\\n litecoin\\n chainlink\\n solana\\n stellar\"\"\"\n",
    "    )\n",
    "\n",
    "\n",
    "# message handler\n",
    "def handle_message(update, context):\n",
    "    text = str(update.message.text).lower()\n",
    "    logging.info(f\"User ({update.message.chat.id}) says: {text}\")\n",
    "\n",
    "    # Bot response\n",
    "    sentiment_naas = get_response(text)\n",
    "    update.message.reply_text(sentiment_naas)\n",
    "\n",
    "\n",
    "# error logs\n",
    "def error(update, context):\n",
    "    # Logs errors\n",
    "    logging.error(f\"Update {update} caused error {context.error}\")"
   ]
  },
  {
   "cell_type": "markdown",
   "id": "executive-effects",
   "metadata": {
    "papermill": {},
    "tags": []
   },
   "source": [
    "## Output"
   ]
  },
  {
   "cell_type": "markdown",
   "id": "acting-dayton",
   "metadata": {
    "papermill": {},
    "tags": []
   },
   "source": [
    "### Start the bot"
   ]
  },
  {
   "cell_type": "code",
   "execution_count": null,
   "id": "compliant-measurement",
   "metadata": {
    "execution": {
     "iopub.execute_input": "2021-08-06T15:55:26.299583Z",
     "iopub.status.busy": "2021-08-06T15:55:26.299413Z"
    },
    "papermill": {},
    "tags": []
   },
   "outputs": [],
   "source": [
    "# Run the programme\n",
    "\n",
    "# create an object \"bot\"\n",
    "updater = Updater(TELEGRAM_API_KEY, use_context=True)\n",
    "dp = updater.dispatcher\n",
    "\n",
    "#  bot's command handlers\n",
    "dp.add_handler(CommandHandler(\"start\", start_command))\n",
    "dp.add_handler(CommandHandler(\"help\", help_command))\n",
    "\n",
    "# bot's text handlers\n",
    "dp.add_handler(MessageHandler(Filters.text, handle_message))\n",
    "\n",
    "# bot's error handler\n",
    "dp.add_error_handler(error)\n",
    "\n",
    "\n",
    "# Run the bot\n",
    "updater.start_polling(1.0)\n",
    "updater.idle()"
   ]
  },
  {
   "cell_type": "markdown",
   "id": "light-munich",
   "metadata": {
    "papermill": {},
    "tags": []
   },
   "source": [
    "Info: the cell above will stay alive until you press stop, the bot will not respond anymore once the cell is stoped."
   ]
  }
 ],
 "metadata": {
  "kernelspec": {
   "display_name": "Python 3",
   "language": "python",
   "name": "python3"
  },
  "language_info": {
   "codemirror_mode": {
    "name": "ipython",
    "version": 3
   },
   "file_extension": ".py",
   "mimetype": "text/x-python",
   "name": "python",
   "nbconvert_exporter": "python",
   "pygments_lexer": "ipython3",
   "version": "3.9.6"
  },
  "naas": {
   "notebook_id": "757ef9cf-aa26-4a37-95b3-9fae291c5478",
   "notebook_path": "Telegram/Telegram_Create_crypto_sentiment_bot.ipynb"
  },
  "papermill": {
   "default_parameters": {},
   "environment_variables": {},
   "parameters": {},
   "version": "2.3.3"
  },
  "widgets": {
   "application/vnd.jupyter.widget-state+json": {
    "state": {},
    "version_major": 2,
    "version_minor": 0
   }
  }
 },
 "nbformat": 4,
 "nbformat_minor": 5
}