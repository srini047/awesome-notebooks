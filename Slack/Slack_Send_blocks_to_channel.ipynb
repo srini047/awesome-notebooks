{
 "cells": [
  {
   "cell_type": "markdown",
   "id": "thick-environment",
   "metadata": {
    "papermill": {},
    "tags": []
   },
   "source": [
    "<img width=\"10%\" alt=\"Naas\" src=\"https://landen.imgix.net/jtci2pxwjczr/assets/5ice39g4.png?w=160\"/>"
   ]
  },
  {
   "cell_type": "markdown",
   "id": "sealed-trainer",
   "metadata": {
    "execution": {
     "iopub.execute_input": "2021-01-26T14:10:27.020371Z",
     "iopub.status.busy": "2021-01-26T14:10:27.020098Z",
     "iopub.status.idle": "2021-01-26T14:10:27.023428Z",
     "shell.execute_reply": "2021-01-26T14:10:27.022739Z",
     "shell.execute_reply.started": "2021-01-26T14:10:27.020304Z"
    },
    "papermill": {},
    "tags": []
   },
   "source": [
    "# Slack - Send blocks to channel\n",
    "<a href=\"https://app.naas.ai/user-redirect/naas/downloader?url=https://raw.githubusercontent.com/jupyter-naas/awesome-notebooks/master/Slack/Slack_Send_blocks_to_channel.ipynb\" target=\"_parent\"><img src=\"https://naasai-public.s3.eu-west-3.amazonaws.com/Open_in_Naas_Lab.svg\"/></a><br><br><a href=\"https://github.com/jupyter-naas/awesome-notebooks/issues/new?assignees=&labels=&template=template-request.md&title=Tool+-+Action+of+the+notebook+\">Template request</a> | <a href=\"https://github.com/jupyter-naas/awesome-notebooks/issues/new?assignees=&labels=bug&template=bug_report.md&title=Slack+-+Send+blocks+to+channel:+Error+short+description\">Bug report</a> | <a href=\"https://app.naas.ai/user-redirect/naas/downloader?url=https://raw.githubusercontent.com/jupyter-naas/awesome-notebooks/master/Naas/Naas_Start_data_product.ipynb\" target=\"_parent\">Generate Data Product</a>"
   ]
  },
  {
   "cell_type": "markdown",
   "id": "a16debaa-1696-4e20-b179-64078074ebb6",
   "metadata": {
    "papermill": {},
    "tags": []
   },
   "source": [
    "**Tags:** #slack #message #send #operations #snippet #block"
   ]
  },
  {
   "cell_type": "markdown",
   "id": "naas-author",
   "metadata": {
    "papermill": {},
    "tags": [
     "naas"
    ]
   },
   "source": [
    "**Author:** [Benjamin Filly](https://www.linkedin.com/in/benjamin-filly-05427727a/)"
   ]
  },
  {
   "cell_type": "markdown",
   "id": "naas-description",
   "metadata": {
    "papermill": {},
    "tags": [
     "description"
    ]
   },
   "source": [
    "**Description:** This notebook allows you to quickly and easily send blocks through Slack. Blocks are visual components that can be stacked and arranged to create app layouts. Block Kit can make your app's communication clearer while also giving you consistent opportunity to interact with and assist users."
   ]
  },
  {
   "cell_type": "markdown",
   "id": "24830127-7e17-44e1-9bec-1854df66e14e",
   "metadata": {
    "papermill": {},
    "tags": []
   },
   "source": [
    "**References:**\n",
    "- [Reference: Layout blocks](https://api.slack.com/reference/block-kit/blocks)\n",
    "- [Building with Block Kit](https://api.slack.com/block-kit/building)\n",
    "- [Block Kit Builder](https://app.slack.com/block-kit-builder)"
   ]
  },
  {
   "cell_type": "markdown",
   "id": "input_cell",
   "metadata": {
    "papermill": {},
    "tags": []
   },
   "source": [
    "## Input"
   ]
  },
  {
   "cell_type": "markdown",
   "id": "aquatic-administration",
   "metadata": {
    "papermill": {},
    "tags": []
   },
   "source": [
    "### Import needed library"
   ]
  },
  {
   "cell_type": "code",
   "execution_count": null,
   "id": "pretty-earthquake",
   "metadata": {
    "papermill": {},
    "tags": []
   },
   "outputs": [],
   "source": [
    "from naas_drivers import slack\n",
    "import naas"
   ]
  },
  {
   "cell_type": "markdown",
   "id": "hawaiian-villa",
   "metadata": {
    "execution": {
     "iopub.execute_input": "2021-01-26T14:13:57.115792Z",
     "iopub.status.busy": "2021-01-26T14:13:57.115575Z",
     "iopub.status.idle": "2021-01-26T14:13:57.123461Z",
     "shell.execute_reply": "2021-01-26T14:13:57.122684Z",
     "shell.execute_reply.started": "2021-01-26T14:13:57.115768Z"
    },
    "papermill": {},
    "tags": []
   },
   "source": [
    "### Setup Variables\n",
    "- Create [Slack App](https://api.slack.com/apps)\n",
    "- Add OAuth & Permissions(chat:write, chat:write.public to send message in a public channel)\n",
    "- Install your App\n",
    "- Get your Bot Token\n",
    "\n",
    "Once it's done, update the variables below and run the notebook.\n",
    "\n",
    "- `slack_token`: This is where you place the Bot token\n",
    "- `slack_channel`: the channel where you wish to send the message\n",
    "- `blocks`: Custom blocks you wish to send"
   ]
  },
  {
   "cell_type": "code",
   "execution_count": null,
   "id": "given-pilot",
   "metadata": {
    "papermill": {},
    "tags": []
   },
   "outputs": [],
   "source": [
    "slack_token = naas.secret.get(\"SLACK_TOKEN\") or \"SLACK_TOKEN\"\n",
    "slack_channel = \"channel-name\" \n",
    "blocks = [\n",
    "    {\n",
    "        \"type\": \"section\",\n",
    "        \"text\": {\n",
    "            \"type\": \"mrkdwn\",\n",
    "            \"text\": \"Hello, Assistant to the Regional Manager Dwight! *Michael Scott* wants to know where you'd like to take the Paper Company investors to dinner tonight.\\n\\n *Please select a restaurant:*\"\n",
    "        }\n",
    "    },\n",
    "    {\n",
    "        \"type\": \"divider\"\n",
    "    },\n",
    "    {\n",
    "        \"type\": \"section\",\n",
    "        \"text\": {\n",
    "            \"type\": \"mrkdwn\",\n",
    "            \"text\": \"*Farmhouse Thai Cuisine*\\n:star::star::star::star: 1528 reviews\\n They do have some vegan options, like the roti and curry, plus they have a ton of salad stuff and noodles can be ordered without meat!! They have something for everyone here\"\n",
    "        },\n",
    "        \"accessory\": {\n",
    "            \"type\": \"image\",\n",
    "            \"image_url\": \"https://s3-media3.fl.yelpcdn.com/bphoto/c7ed05m9lC2EmA3Aruue7A/o.jpg\",\n",
    "            \"alt_text\": \"alt text for image\"\n",
    "        }\n",
    "    },\n",
    "    {\n",
    "        \"type\": \"section\",\n",
    "        \"text\": {\n",
    "            \"type\": \"mrkdwn\",\n",
    "            \"text\": \"*Kin Khao*\\n:star::star::star::star: 1638 reviews\\n The sticky rice also goes wonderfully with the caramelized pork belly, which is absolutely melt-in-your-mouth and so soft.\"\n",
    "        },\n",
    "        \"accessory\": {\n",
    "            \"type\": \"image\",\n",
    "            \"image_url\": \"https://s3-media2.fl.yelpcdn.com/bphoto/korel-1YjNtFtJlMTaC26A/o.jpg\",\n",
    "            \"alt_text\": \"alt text for image\"\n",
    "        }\n",
    "    },\n",
    "    {\n",
    "        \"type\": \"section\",\n",
    "        \"text\": {\n",
    "            \"type\": \"mrkdwn\",\n",
    "            \"text\": \"*Ler Ros*\\n:star::star::star::star: 2082 reviews\\n I would really recommend the  Yum Koh Moo Yang - Spicy lime dressing and roasted quick marinated pork shoulder, basil leaves, chili & rice powder.\"\n",
    "        },\n",
    "        \"accessory\": {\n",
    "            \"type\": \"image\",\n",
    "            \"image_url\": \"https://s3-media2.fl.yelpcdn.com/bphoto/DawwNigKJ2ckPeDeDM7jAg/o.jpg\",\n",
    "            \"alt_text\": \"alt text for image\"\n",
    "        }\n",
    "    },\n",
    "    {\n",
    "        \"type\": \"divider\"\n",
    "    },\n",
    "    {\n",
    "        \"type\": \"actions\",\n",
    "        \"elements\": [\n",
    "            {\n",
    "                \"type\": \"button\",\n",
    "                \"text\": {\n",
    "                    \"type\": \"plain_text\",\n",
    "                    \"text\": \"Farmhouse\",\n",
    "                    \"emoji\": True\n",
    "                },\n",
    "                \"value\": \"click_me_123\"\n",
    "            },\n",
    "            {\n",
    "                \"type\": \"button\",\n",
    "                \"text\": {\n",
    "                    \"type\": \"plain_text\",\n",
    "                    \"text\": \"Kin Khao\",\n",
    "                    \"emoji\": True\n",
    "                },\n",
    "                \"value\": \"click_me_123\",\n",
    "                \"url\": \"https://google.com\"\n",
    "            },\n",
    "            {\n",
    "                \"type\": \"button\",\n",
    "                \"text\": {\n",
    "                    \"type\": \"plain_text\",\n",
    "                    \"text\": \"Ler Ros\",\n",
    "                    \"emoji\": True\n",
    "                },\n",
    "                \"value\": \"click_me_123\",\n",
    "                \"url\": \"https://google.com\"\n",
    "            }\n",
    "        ]\n",
    "    }\n",
    "]"
   ]
  },
  {
   "cell_type": "markdown",
   "id": "model_cell",
   "metadata": {
    "papermill": {},
    "tags": []
   },
   "source": [
    "## Model"
   ]
  },
  {
   "cell_type": "markdown",
   "id": "16f998eb-8600-4516-a36f-d070d0d7fd13",
   "metadata": {
    "papermill": {},
    "tags": []
   },
   "source": [
    "### Connect to Slack"
   ]
  },
  {
   "cell_type": "code",
   "execution_count": null,
   "id": "c58aad98-7420-41ab-af3d-d5e1dfdd33b1",
   "metadata": {
    "papermill": {},
    "tags": []
   },
   "outputs": [],
   "source": [
    "SLACK = slack.connect(slack_token)"
   ]
  },
  {
   "cell_type": "markdown",
   "id": "output_cell",
   "metadata": {
    "papermill": {},
    "tags": []
   },
   "source": [
    "## Output"
   ]
  },
  {
   "cell_type": "markdown",
   "id": "identical-assault",
   "metadata": {
    "execution": {
     "iopub.execute_input": "2021-01-26T14:12:31.462033Z",
     "iopub.status.busy": "2021-01-26T14:12:31.461804Z",
     "iopub.status.idle": "2021-01-26T14:12:31.464769Z",
     "shell.execute_reply": "2021-01-26T14:12:31.464098Z",
     "shell.execute_reply.started": "2021-01-26T14:12:31.462007Z"
    },
    "papermill": {},
    "tags": []
   },
   "source": [
    "### Send your message "
   ]
  },
  {
   "cell_type": "code",
   "execution_count": null,
   "id": "surrounded-senior",
   "metadata": {
    "papermill": {},
    "tags": []
   },
   "outputs": [],
   "source": [
    "SLACK.send(slack_channel, text=\"\", blocks=blocks)"
   ]
  }
 ],
 "metadata": {
  "kernelspec": {
   "display_name": "Python 3",
   "language": "python",
   "name": "python3"
  },
  "language_info": {
   "codemirror_mode": {
    "name": "ipython",
    "version": 3
   },
   "file_extension": ".py",
   "mimetype": "text/x-python",
   "name": "python",
   "nbconvert_exporter": "python",
   "pygments_lexer": "ipython3",
   "version": "3.9.6"
  },
  "naas": {
   "notebook_id": "8c14aab53bd8c6fe6689201ba16d90346db4f37cb888763e61eb7a3c65c38eda",
   "notebook_path": "Slack/Slack_Send_blocks_to_channel.ipynb"
  },
  "papermill": {
   "default_parameters": {},
   "environment_variables": {},
   "parameters": {},
   "version": "2.3.3"
  }
 },
 "nbformat": 4,
 "nbformat_minor": 5
}