{
 "cells": [
  {
   "cell_type": "markdown",
   "id": "thick-environment",
   "metadata": {
    "papermill": {},
    "tags": []
   },
   "source": [
    "<img width=\"10%\" alt=\"Naas\" src=\"https://landen.imgix.net/jtci2pxwjczr/assets/5ice39g4.png?w=160\"/>"
   ]
  },
  {
   "cell_type": "markdown",
   "id": "sealed-trainer",
   "metadata": {
    "execution": {
     "iopub.execute_input": "2021-01-26T14:10:27.020371Z",
     "iopub.status.busy": "2021-01-26T14:10:27.020098Z",
     "iopub.status.idle": "2021-01-26T14:10:27.023428Z",
     "shell.execute_reply": "2021-01-26T14:10:27.022739Z",
     "shell.execute_reply.started": "2021-01-26T14:10:27.020304Z"
    },
    "papermill": {},
    "tags": []
   },
   "source": [
    "# Slack - Send message\n",
    "<a href=\"https://app.naas.ai/user-redirect/naas/downloader?url=https://raw.githubusercontent.com/jupyter-naas/awesome-notebooks/master/Slack/Slack_Send_message_to_channel.ipynb\" target=\"_parent\"><img src=\"https://naasai-public.s3.eu-west-3.amazonaws.com/Open_in_Naas_Lab.svg\"/></a><br><br><a href=\"https://github.com/jupyter-naas/awesome-notebooks/issues/new?assignees=&labels=&template=template-request.md&title=Tool+-+Action+of+the+notebook+\">Template request</a> | <a href=\"https://github.com/jupyter-naas/awesome-notebooks/issues/new?assignees=&labels=bug&template=bug_report.md&title=Slack+-+Send+message:+Error+short+description\">Bug report</a> | <a href=\"https://app.naas.ai/user-redirect/naas/downloader?url=https://raw.githubusercontent.com/jupyter-naas/awesome-notebooks/master/Naas/Naas_Start_data_product.ipynb\" target=\"_parent\">Generate Data Product</a>"
   ]
  },
  {
   "cell_type": "markdown",
   "id": "a16debaa-1696-4e20-b179-64078074ebb6",
   "metadata": {
    "papermill": {},
    "tags": []
   },
   "source": [
    "**Tags:** #slack #message #send #operations #snippet"
   ]
  },
  {
   "cell_type": "markdown",
   "id": "naas-author",
   "metadata": {
    "papermill": {},
    "tags": [
     "naas"
    ]
   },
   "source": [
    "**Author:** [Florent Ravenel](https://www.linkedin.com/in/florent-ravenel/)"
   ]
  },
  {
   "cell_type": "markdown",
   "id": "naas-description",
   "metadata": {
    "papermill": {},
    "tags": [
     "description"
    ]
   },
   "source": [
    "**Description:** This notebook allows you to quickly and easily send text messages through Slack."
   ]
  },
  {
   "cell_type": "markdown",
   "id": "8a80fe30-596f-40d0-b6f9-38809acf6285",
   "metadata": {
    "papermill": {},
    "tags": []
   },
   "source": [
    "**References:**\n",
    "- [Sending messages](https://api.slack.com/messaging/sending)"
   ]
  },
  {
   "cell_type": "markdown",
   "id": "input_cell",
   "metadata": {
    "papermill": {},
    "tags": []
   },
   "source": [
    "## Input"
   ]
  },
  {
   "cell_type": "markdown",
   "id": "aquatic-administration",
   "metadata": {
    "papermill": {},
    "tags": []
   },
   "source": [
    "### Import needed library"
   ]
  },
  {
   "cell_type": "code",
   "execution_count": null,
   "id": "pretty-earthquake",
   "metadata": {
    "papermill": {},
    "tags": []
   },
   "outputs": [],
   "source": [
    "from naas_drivers import slack\n",
    "import naas"
   ]
  },
  {
   "cell_type": "markdown",
   "id": "aa826fd4-3036-4572-a4c5-69145f57bb92",
   "metadata": {
    "execution": {
     "iopub.execute_input": "2021-01-26T14:13:57.115792Z",
     "iopub.status.busy": "2021-01-26T14:13:57.115575Z",
     "iopub.status.idle": "2021-01-26T14:13:57.123461Z",
     "shell.execute_reply": "2021-01-26T14:13:57.122684Z",
     "shell.execute_reply.started": "2021-01-26T14:13:57.115768Z"
    },
    "papermill": {},
    "tags": []
   },
   "source": [
    "### Setup Variables\n",
    "- Create [Slack App](https://api.slack.com/apps)\n",
    "- Add OAuth & Permissions(chat:write, chat:write.public to send message in a public channel)\n",
    "- Install your App\n",
    "- Get your Bot Token\n",
    "\n",
    "Once it's done, update the variables below and run the notebook.\n",
    "\n",
    "- `slack_token`: This is where you place the Bot token\n",
    "- `slack_channel`: the channel where you wish to send the message\n",
    "- `text_message`: the message you wish to send"
   ]
  },
  {
   "cell_type": "code",
   "execution_count": null,
   "id": "given-pilot",
   "metadata": {
    "papermill": {},
    "tags": []
   },
   "outputs": [],
   "source": [
    "slack_token = naas.secret.get(\"SLACK_TOKEN\") or \"SLACK_TOKEN\"\n",
    "slack_channel = \"channel-name\" \n",
    "text_message = \"Hello World!\""
   ]
  },
  {
   "cell_type": "markdown",
   "id": "model_cell",
   "metadata": {
    "papermill": {},
    "tags": []
   },
   "source": [
    "## Model"
   ]
  },
  {
   "cell_type": "markdown",
   "id": "16f998eb-8600-4516-a36f-d070d0d7fd13",
   "metadata": {
    "papermill": {},
    "tags": []
   },
   "source": [
    "### Connect to Slack"
   ]
  },
  {
   "cell_type": "code",
   "execution_count": null,
   "id": "c58aad98-7420-41ab-af3d-d5e1dfdd33b1",
   "metadata": {
    "papermill": {},
    "tags": []
   },
   "outputs": [],
   "source": [
    "SLACK = slack.connect(slack_token)"
   ]
  },
  {
   "cell_type": "markdown",
   "id": "output_cell",
   "metadata": {
    "papermill": {},
    "tags": []
   },
   "source": [
    "## Output"
   ]
  },
  {
   "cell_type": "markdown",
   "id": "identical-assault",
   "metadata": {
    "execution": {
     "iopub.execute_input": "2021-01-26T14:12:31.462033Z",
     "iopub.status.busy": "2021-01-26T14:12:31.461804Z",
     "iopub.status.idle": "2021-01-26T14:12:31.464769Z",
     "shell.execute_reply": "2021-01-26T14:12:31.464098Z",
     "shell.execute_reply.started": "2021-01-26T14:12:31.462007Z"
    },
    "papermill": {},
    "tags": []
   },
   "source": [
    "### Send your message "
   ]
  },
  {
   "cell_type": "code",
   "execution_count": null,
   "id": "surrounded-senior",
   "metadata": {
    "papermill": {},
    "tags": []
   },
   "outputs": [],
   "source": [
    "SLACK.send(slack_channel, text_message)"
   ]
  }
 ],
 "metadata": {
  "kernelspec": {
   "display_name": "Python 3",
   "language": "python",
   "name": "python3"
  },
  "language_info": {
   "codemirror_mode": {
    "name": "ipython",
    "version": 3
   },
   "file_extension": ".py",
   "mimetype": "text/x-python",
   "name": "python",
   "nbconvert_exporter": "python",
   "pygments_lexer": "ipython3",
   "version": "3.9.6"
  },
  "naas": {
   "notebook_id": "0531f44f6ac83d8e06902f52b1460d35fb57a29f6afb4091f1a276d3244a91af",
   "notebook_path": "Slack/Slack_Send_message_to_channel.ipynb"
  },
  "papermill": {
   "default_parameters": {},
   "environment_variables": {},
   "parameters": {},
   "version": "2.3.3"
  }
 },
 "nbformat": 4,
 "nbformat_minor": 5
}