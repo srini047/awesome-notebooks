{
 "cells": [
  {
   "cell_type": "markdown",
   "id": "imposed-nickname",
   "metadata": {
    "papermill": {},
    "tags": []
   },
   "source": [
    "<img width=\"10%\" alt=\"Naas\" src=\"https://landen.imgix.net/jtci2pxwjczr/assets/5ice39g4.png?w=160\"/>"
   ]
  },
  {
   "cell_type": "markdown",
   "id": "dated-disco",
   "metadata": {
    "papermill": {},
    "tags": []
   },
   "source": [
    "# Healthchecks - Perfom basic actions\n",
    "<a href=\"https://app.naas.ai/user-redirect/naas/downloader?url=https://raw.githubusercontent.com/jupyter-naas/awesome-notebooks/master/Healthchecks/Healthchecks_Perfom_basic_actions.ipynb\" target=\"_parent\"><img src=\"https://naasai-public.s3.eu-west-3.amazonaws.com/Open_in_Naas_Lab.svg\"/></a><br><br><a href=\"https://github.com/jupyter-naas/awesome-notebooks/issues/new?assignees=&labels=&template=template-request.md&title=Tool+-+Action+of+the+notebook+\">Template request</a> | <a href=\"https://github.com/jupyter-naas/awesome-notebooks/issues/new?assignees=&labels=bug&template=bug_report.md&title=Healthchecks+-+Perfom+basic+actions:+Error+short+description\">Bug report</a> | <a href=\"https://app.naas.ai/user-redirect/naas/downloader?url=https://raw.githubusercontent.com/jupyter-naas/awesome-notebooks/master/Naas/Naas_Start_data_product.ipynb\" target=\"_parent\">Generate Data Product</a>"
   ]
  },
  {
   "cell_type": "markdown",
   "id": "bf600e15-5b33-41b6-88f2-1251e13809af",
   "metadata": {
    "papermill": {},
    "tags": []
   },
   "source": [
    "**Tags:** #healthchecks #snippet #operations"
   ]
  },
  {
   "cell_type": "markdown",
   "id": "naas-author",
   "metadata": {
    "papermill": {},
    "tags": [
     "naas"
    ]
   },
   "source": [
    "**Author:** [Martin Donadieu](https://www.linkedin.com/in/martindonadieu/)"
   ]
  },
  {
   "cell_type": "markdown",
   "id": "naas-description",
   "metadata": {
    "papermill": {},
    "tags": [
     "description"
    ]
   },
   "source": [
    "**Description:** This notebook provides a set of basic actions to help monitor and maintain the health of a system."
   ]
  },
  {
   "cell_type": "markdown",
   "id": "f54942ad-ab3f-4a9b-9c00-1f292111cb7f",
   "metadata": {
    "papermill": {},
    "tags": []
   },
   "source": [
    "## Input"
   ]
  },
  {
   "cell_type": "markdown",
   "id": "e1e9f576-1a64-4ccf-b514-58b018c27916",
   "metadata": {
    "papermill": {},
    "tags": []
   },
   "source": [
    "### Import library"
   ]
  },
  {
   "cell_type": "code",
   "execution_count": null,
   "id": "98f7f2ae-2362-46d8-a0fa-6f5199aa6921",
   "metadata": {
    "papermill": {},
    "tags": []
   },
   "outputs": [],
   "source": [
    "from naas_drivers import healthcheck"
   ]
  },
  {
   "cell_type": "markdown",
   "id": "4c219ae5-386f-4211-8b16-093f36bf857c",
   "metadata": {
    "papermill": {},
    "tags": []
   },
   "source": [
    "### Variables"
   ]
  },
  {
   "cell_type": "code",
   "execution_count": null,
   "id": "e6d07aff-53e8-4f3f-88e6-b64dd02ebb28",
   "metadata": {
    "papermill": {},
    "tags": []
   },
   "outputs": [],
   "source": [
    "url = \"https://google.com\"\n",
    "key = \"123456-123456-12455\""
   ]
  },
  {
   "cell_type": "markdown",
   "id": "a9662772-12f1-43ee-af0e-d56620172c5e",
   "metadata": {
    "papermill": {},
    "tags": []
   },
   "source": [
    "## Model"
   ]
  },
  {
   "cell_type": "markdown",
   "id": "9562fa23-c8a2-4ecc-b6de-6a20aa3d47e2",
   "metadata": {
    "papermill": {},
    "tags": []
   },
   "source": [
    "### Connect to healthcheck"
   ]
  },
  {
   "cell_type": "code",
   "execution_count": null,
   "id": "623d9702-721c-44b6-a71e-3569f53b0d59",
   "metadata": {
    "papermill": {},
    "tags": []
   },
   "outputs": [],
   "source": [
    "healthcheck.connect(key)"
   ]
  },
  {
   "cell_type": "markdown",
   "id": "99220951-e7e7-4b3b-8b65-be949baad970",
   "metadata": {
    "papermill": {},
    "tags": []
   },
   "source": [
    "## Output"
   ]
  },
  {
   "cell_type": "markdown",
   "id": "known-battlefield",
   "metadata": {
    "execution": {
     "iopub.execute_input": "2021-02-28T13:36:11.829590Z",
     "iopub.status.busy": "2021-02-28T13:36:11.829246Z",
     "iopub.status.idle": "2021-02-28T13:36:11.835447Z",
     "shell.execute_reply": "2021-02-28T13:36:11.834849Z",
     "shell.execute_reply.started": "2021-02-28T13:36:11.829498Z"
    },
    "papermill": {},
    "tags": []
   },
   "source": [
    "### Starting"
   ]
  },
  {
   "cell_type": "code",
   "execution_count": null,
   "id": "vital-brush",
   "metadata": {
    "papermill": {},
    "tags": []
   },
   "outputs": [],
   "source": [
    "healthcheck.send(\"start\")"
   ]
  },
  {
   "cell_type": "markdown",
   "id": "banner-privacy",
   "metadata": {
    "papermill": {},
    "tags": []
   },
   "source": [
    "### Done"
   ]
  },
  {
   "cell_type": "code",
   "execution_count": null,
   "id": "nuclear-friend",
   "metadata": {
    "papermill": {},
    "tags": []
   },
   "outputs": [],
   "source": [
    "healthcheck.send()"
   ]
  },
  {
   "cell_type": "markdown",
   "id": "hourly-kidney",
   "metadata": {
    "papermill": {},
    "tags": []
   },
   "source": [
    "### Failing"
   ]
  },
  {
   "cell_type": "code",
   "execution_count": null,
   "id": "involved-earthquake",
   "metadata": {
    "papermill": {},
    "tags": []
   },
   "outputs": [],
   "source": [
    "healthcheck.send(\"fail\")"
   ]
  },
  {
   "cell_type": "markdown",
   "id": "dominant-hardwood",
   "metadata": {
    "execution": {
     "iopub.execute_input": "2021-02-28T13:43:57.617499Z",
     "iopub.status.busy": "2021-02-28T13:43:57.617275Z",
     "iopub.status.idle": "2021-02-28T13:43:57.619938Z",
     "shell.execute_reply": "2021-02-28T13:43:57.619317Z",
     "shell.execute_reply.started": "2021-02-28T13:43:57.617477Z"
    },
    "papermill": {},
    "tags": []
   },
   "source": [
    "### Check status UP"
   ]
  },
  {
   "cell_type": "code",
   "execution_count": null,
   "id": "eligible-mandate",
   "metadata": {
    "papermill": {},
    "tags": []
   },
   "outputs": [],
   "source": [
    "healthcheck.check_up(url)"
   ]
  }
 ],
 "metadata": {
  "kernelspec": {
   "display_name": "Python 3",
   "language": "python",
   "name": "python3"
  },
  "language_info": {
   "codemirror_mode": {
    "name": "ipython",
    "version": 3
   },
   "file_extension": ".py",
   "mimetype": "text/x-python",
   "name": "python",
   "nbconvert_exporter": "python",
   "pygments_lexer": "ipython3",
   "version": "3.9.6"
  },
  "naas": {
   "notebook_id": "7b4313cc79bea4a013f6abcc10f65b57072015ef0036a00f2ec9eb5002243581",
   "notebook_path": "Healthchecks/Healthchecks_Perfom_basic_actions.ipynb"
  },
  "papermill": {
   "default_parameters": {},
   "environment_variables": {},
   "parameters": {},
   "version": "2.3.3"
  }
 },
 "nbformat": 4,
 "nbformat_minor": 5
}