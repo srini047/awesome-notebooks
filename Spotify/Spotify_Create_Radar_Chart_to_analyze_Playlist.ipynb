{
 "cells": [
  {
   "cell_type": "markdown",
   "id": "8e5603ec-47a2-40b8-812a-bcea08c31a36",
   "metadata": {
    "papermill": {},
    "tags": []
   },
   "source": [
    "<img width=\"10%\" alt=\"Naas\" src=\"https://landen.imgix.net/jtci2pxwjczr/assets/5ice39g4.png?w=160\"/>"
   ]
  },
  {
   "cell_type": "markdown",
   "id": "compressed-wilson",
   "metadata": {
    "papermill": {},
    "tags": []
   },
   "source": [
    "# Spotify - Create Radar Chart to analyze Playlist\n",
    "<a href=\"https://app.naas.ai/user-redirect/naas/downloader?url=https://raw.githubusercontent.com/jupyter-naas/awesome-notebooks/master/Spotify/Spotify_Create_Radar_Chart_to_analyze_Playlist.ipynb\" target=\"_parent\"><img src=\"https://naasai-public.s3.eu-west-3.amazonaws.com/Open_in_Naas_Lab.svg\"/></a><br><br><a href=\"https://github.com/jupyter-naas/awesome-notebooks/issues/new?assignees=&labels=&template=template-request.md&title=Tool+-+Action+of+the+notebook+\">Template request</a> | <a href=\"https://github.com/jupyter-naas/awesome-notebooks/issues/new?assignees=&labels=bug&template=bug_report.md&title=Spotify+-+Create+Radar+Chart+to+analyze+Playlist:+Error+short+description\">Bug report</a> | <a href=\"https://app.naas.ai/user-redirect/naas/downloader?url=https://raw.githubusercontent.com/jupyter-naas/awesome-notebooks/master/Naas/Naas_Start_data_product.ipynb\" target=\"_parent\">Generate Data Product</a>"
   ]
  },
  {
   "cell_type": "markdown",
   "id": "religious-programmer",
   "metadata": {
    "papermill": {},
    "tags": []
   },
   "source": [
    "**Tags:** #spotify #python #spotipy #analytics #operations #image"
   ]
  },
  {
   "cell_type": "markdown",
   "id": "d155869f-a820-4cae-804a-921d9d05819c",
   "metadata": {
    "papermill": {},
    "tags": []
   },
   "source": [
    "**Author:** [Akshaya Parthasarathy](https://github.com/iaks23)"
   ]
  },
  {
   "cell_type": "markdown",
   "id": "naas-description",
   "metadata": {
    "papermill": {},
    "tags": [
     "description"
    ]
   },
   "source": [
    "**Description:** This notebook provides a step-by-step guide to creating a Radar Chart to analyze a Spotify Playlist."
   ]
  },
  {
   "cell_type": "markdown",
   "id": "distinguished-truth",
   "metadata": {
    "papermill": {},
    "tags": []
   },
   "source": [
    "## Input"
   ]
  },
  {
   "cell_type": "markdown",
   "id": "numeric-mediterranean",
   "metadata": {
    "papermill": {},
    "tags": []
   },
   "source": [
    "### Import libraries\n",
    "\n",
    "First you need to set up Spotify API at https://developer.spotify.com to get clientID and clientSecret"
   ]
  },
  {
   "cell_type": "code",
   "execution_count": 4,
   "id": "c9b0daea-654b-4e3f-a26d-21987b6a94e4",
   "metadata": {
    "papermill": {},
    "tags": []
   },
   "outputs": [],
   "source": [
    "!pip install spotify\n",
    "!pip install spotipy"
   ]
  },
  {
   "cell_type": "code",
   "execution_count": 5,
   "id": "potential-surfing",
   "metadata": {
    "papermill": {},
    "tags": []
   },
   "outputs": [],
   "source": [
    "import json\n",
    "import spotipy\n",
    "import pandas as pd\n",
    "from spotipy.oauth2 import SpotifyClientCredentials\n",
    "from sklearn.preprocessing import MinMaxScaler\n",
    "import matplotlib.pyplot as plt\n",
    "from math import pi"
   ]
  },
  {
   "cell_type": "markdown",
   "id": "aggressive-trustee",
   "metadata": {
    "papermill": {},
    "tags": []
   },
   "source": [
    "### Variables"
   ]
  },
  {
   "cell_type": "code",
   "execution_count": 6,
   "id": "continuous-melbourne",
   "metadata": {
    "papermill": {},
    "tags": []
   },
   "outputs": [],
   "source": [
    "# Retrieve Client credentials from Spotify Developer Page\n",
    "client_id = \"\"\n",
    "client_secret = \"\"\n",
    "\n",
    "client_credentials_manager = SpotifyClientCredentials(client_id, client_secret)\n",
    "sp = spotipy.Spotify(client_credentials_manager=client_credentials_manager)\n",
    "\n",
    "# Retrieve playlist_id by getting the Spotify URI of any playlist\n",
    "playlist_id = \"spotify:playlist:5fqIcaihygJQGberg0wy0G\"\n",
    "results = sp.playlist(playlist_id)\n",
    "\n",
    "min_max_scaler = MinMaxScaler()"
   ]
  },
  {
   "cell_type": "markdown",
   "id": "registered-showcase",
   "metadata": {
    "papermill": {},
    "tags": []
   },
   "source": [
    "## Model"
   ]
  },
  {
   "cell_type": "markdown",
   "id": "tested-astrology",
   "metadata": {
    "papermill": {},
    "tags": []
   },
   "source": [
    "### Function"
   ]
  },
  {
   "cell_type": "code",
   "execution_count": 7,
   "id": "crude-louisville",
   "metadata": {
    "papermill": {},
    "tags": []
   },
   "outputs": [],
   "source": [
    "# Function to Convert JSON to Dataframe\n",
    "# create a list of song ids\n",
    "ids = []\n",
    "\n",
    "for item in results[\"tracks\"][\"items\"]:\n",
    "    track = item[\"track\"][\"id\"]\n",
    "    ids.append(track)\n",
    "\n",
    "song_meta = {\n",
    "    \"id\": [],\n",
    "    \"album\": [],\n",
    "    \"name\": [],\n",
    "    \"artist\": [],\n",
    "    \"explicit\": [],\n",
    "    \"popularity\": [],\n",
    "}\n",
    "\n",
    "for song_id in ids:\n",
    "    # get song's meta data\n",
    "    meta = sp.track(song_id)\n",
    "\n",
    "    # song id\n",
    "    song_meta[\"id\"].append(song_id)\n",
    "\n",
    "    # album name\n",
    "    album = meta[\"album\"][\"name\"]\n",
    "    song_meta[\"album\"] += [album]\n",
    "\n",
    "    # song name\n",
    "    song = meta[\"name\"]\n",
    "    song_meta[\"name\"] += [song]\n",
    "\n",
    "    # artists name\n",
    "    s = \", \"\n",
    "    artist = s.join([singer_name[\"name\"] for singer_name in meta[\"artists\"]])\n",
    "    song_meta[\"artist\"] += [artist]\n",
    "\n",
    "    # explicit: lyrics could be considered offensive or unsuitable for children\n",
    "    explicit = meta[\"explicit\"]\n",
    "    song_meta[\"explicit\"].append(explicit)\n",
    "\n",
    "    # song popularity\n",
    "    popularity = meta[\"popularity\"]\n",
    "    song_meta[\"popularity\"].append(popularity)\n",
    "\n",
    "song_meta_df = pd.DataFrame.from_dict(song_meta)\n",
    "\n",
    "# check the song feature\n",
    "features = sp.audio_features(song_meta[\"id\"])\n",
    "# change dictionary to dataframe\n",
    "features_df = pd.DataFrame.from_dict(features)\n",
    "\n",
    "# convert milliseconds to mins\n",
    "# duration_ms: The duration of the track in milliseconds.\n",
    "# 1 minute = 60 seconds = 60 × 1000 milliseconds = 60,000 ms\n",
    "features_df[\"duration_ms\"] = features_df[\"duration_ms\"] / 60000\n",
    "\n",
    "# combine two dataframe\n",
    "final_df = song_meta_df.merge(features_df)"
   ]
  },
  {
   "cell_type": "code",
   "execution_count": 8,
   "id": "5de4e63e-43d8-4e22-b6fa-0b4df6a3832e",
   "metadata": {
    "papermill": {},
    "tags": []
   },
   "outputs": [],
   "source": [
    "# Function for Data Pre-Processing\n",
    "music_features = features_df[\n",
    "    [\n",
    "        \"danceability\",\n",
    "        \"energy\",\n",
    "        \"loudness\",\n",
    "        \"speechiness\",\n",
    "        \"acousticness\",\n",
    "        \"instrumentalness\",\n",
    "        \"liveness\",\n",
    "        \"valence\",\n",
    "        \"tempo\",\n",
    "        \"duration_ms\",\n",
    "    ]\n",
    "]\n",
    "\n",
    "music_features.describe()\n",
    "# Transforming Data so that all values are in the range 0 to 1\n",
    "# To turn of warning run below command\n",
    "pd.set_option(\"mode.chained_assignment\", None)\n",
    "music_features.loc[:] = min_max_scaler.fit_transform(music_features.loc[:])"
   ]
  },
  {
   "cell_type": "markdown",
   "id": "lonely-pacific",
   "metadata": {
    "execution": {
     "iopub.execute_input": "2021-07-02T23:32:10.789097Z",
     "iopub.status.busy": "2021-07-02T23:32:10.788829Z",
     "iopub.status.idle": "2021-07-02T23:32:10.796900Z",
     "shell.execute_reply": "2021-07-02T23:32:10.796358Z",
     "shell.execute_reply.started": "2021-07-02T23:32:10.789033Z"
    },
    "papermill": {},
    "tags": []
   },
   "source": [
    "## Output"
   ]
  },
  {
   "cell_type": "markdown",
   "id": "linear-address",
   "metadata": {
    "papermill": {},
    "tags": []
   },
   "source": [
    "### Display result"
   ]
  },
  {
   "cell_type": "code",
   "execution_count": 9,
   "id": "offensive-poetry",
   "metadata": {
    "papermill": {},
    "tags": []
   },
   "outputs": [],
   "source": [
    "# Radar Chart with several heads from DataFrame\n",
    "# Creating Radar Chart\n",
    "fig = plt.figure(figsize=(10, 10))\n",
    "\n",
    "categories = list(music_features.columns)\n",
    "\n",
    "N = len(categories)\n",
    "\n",
    "value = list(music_features.mean())\n",
    "\n",
    "value += value[:1]\n",
    "angles = [n / float(N) * 2 * pi for n in range(N)]\n",
    "angles += angles[:1]\n",
    "\n",
    "\n",
    "plt.polar(angles, value, color=\"red\")\n",
    "plt.fill(angles, value, alpha=0.7, color=\"purple\")\n",
    "\n",
    "plt.title(\"Playlist Audio Features\", size=20, y=1.05)\n",
    "\n",
    "plt.xticks(angles[:-1], categories, size=15, color=\"purple\")\n",
    "plt.yticks(color=\"black\", size=15)\n",
    "plt.show()"
   ]
  },
  {
   "cell_type": "code",
   "execution_count": null,
   "id": "0621438d-f671-44f9-be3a-beed33532eb4",
   "metadata": {
    "papermill": {},
    "tags": []
   },
   "outputs": [],
   "source": []
  }
 ],
 "metadata": {
  "kernelspec": {
   "display_name": "Python 3",
   "language": "python",
   "name": "python3"
  },
  "language_info": {
   "codemirror_mode": {
    "name": "ipython",
    "version": 3
   },
   "file_extension": ".py",
   "mimetype": "text/x-python",
   "name": "python",
   "nbconvert_exporter": "python",
   "pygments_lexer": "ipython3",
   "version": "3.8.8"
  },
  "naas": {
   "notebook_id": "460cb50b6264b395c250e70db47ad5aa39b2bfcc2b406dc25e5adbce004a87dc",
   "notebook_path": "Spotify/Spotify_Create_Radar_Chart_to_analyze_Playlist.ipynb"
  },
  "papermill": {
   "default_parameters": {},
   "environment_variables": {},
   "parameters": {},
   "version": "2.3.3"
  },
  "widgets": {
   "application/vnd.jupyter.widget-state+json": {
    "state": {},
    "version_major": 2,
    "version_minor": 0
   }
  }
 },
 "nbformat": 4,
 "nbformat_minor": 5
}