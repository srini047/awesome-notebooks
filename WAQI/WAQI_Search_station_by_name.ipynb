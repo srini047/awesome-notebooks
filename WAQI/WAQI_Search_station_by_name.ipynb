{
 "cells": [
  {
   "cell_type": "markdown",
   "id": "7968a603-b3b4-4f89-9a3a-11efb051faff",
   "metadata": {
    "papermill": {},
    "tags": []
   },
   "source": [
    "<img width=\"10%\" alt=\"Naas\" src=\"https://landen.imgix.net/jtci2pxwjczr/assets/5ice39g4.png?w=160\"/>"
   ]
  },
  {
   "cell_type": "markdown",
   "id": "ecb22ef4-1967-46d5-905f-ce4396bbdc3e",
   "metadata": {
    "papermill": {},
    "tags": []
   },
   "source": [
    "# WAQI - Search station by name\n",
    "<a href=\"https://app.naas.ai/user-redirect/naas/downloader?url=https://raw.githubusercontent.com/jupyter-naas/awesome-notebooks/master/WAQI/WAQI_Search_station_by_name.ipynb\" target=\"_parent\"><img src=\"https://naasai-public.s3.eu-west-3.amazonaws.com/Open_in_Naas_Lab.svg\"/></a><br><br><a href=\"https://github.com/jupyter-naas/awesome-notebooks/issues/new?assignees=&labels=&template=template-request.md&title=Tool+-+Action+of+the+notebook+\">Template request</a> | <a href=\"https://github.com/jupyter-naas/awesome-notebooks/issues/new?assignees=&labels=bug&template=bug_report.md&title=WAQI+-+Search+station+by+name:+Error+short+description\">Bug report</a> | <a href=\"https://app.naas.ai/user-redirect/naas/downloader?url=https://raw.githubusercontent.com/jupyter-naas/awesome-notebooks/master/Naas/Naas_Start_data_product.ipynb\" target=\"_parent\">Generate Data Product</a>"
   ]
  },
  {
   "cell_type": "markdown",
   "id": "0eeb2c4a-fd78-4e59-a01a-b3ae23b10e0a",
   "metadata": {
    "papermill": {},
    "tags": []
   },
   "source": [
    "**Tags:** #waqi #airquality #api #data #city #python #stations"
   ]
  },
  {
   "cell_type": "markdown",
   "id": "a50f9548-b43a-4e2b-be98-52bdf94c1e34",
   "metadata": {
    "papermill": {},
    "tags": []
   },
   "source": [
    "**Author:** [Florent Ravenel](https://www.linkedin.com/in/florent-ravenel/)"
   ]
  },
  {
   "cell_type": "markdown",
   "id": "440563ef-3227-4976-85be-75d42fd9cdfb",
   "metadata": {
    "papermill": {},
    "tags": []
   },
   "source": [
    "**Description:** This notebook will demonstrate how to search stations by name using AQI API."
   ]
  },
  {
   "cell_type": "markdown",
   "id": "eef01b1c-d55c-4fea-959f-04e00d60942d",
   "metadata": {
    "papermill": {},
    "tags": []
   },
   "source": [
    "**References:**\n",
    "- [WAQI API Documentation](https://aqicn.org/json-api/doc/#api-Search-SearchByName)"
   ]
  },
  {
   "cell_type": "markdown",
   "id": "91cb14d4-e98f-4a5d-a9a9-49c16c57bb8b",
   "metadata": {
    "papermill": {},
    "tags": []
   },
   "source": [
    "## Input"
   ]
  },
  {
   "cell_type": "markdown",
   "id": "3259487c-1c55-41ff-b86d-b67f96a5a2d8",
   "metadata": {
    "papermill": {},
    "tags": []
   },
   "source": [
    "### Import libraries"
   ]
  },
  {
   "cell_type": "code",
   "execution_count": null,
   "id": "32693ca8-de25-4df9-89af-e587a09bcabb",
   "metadata": {
    "papermill": {},
    "tags": []
   },
   "outputs": [],
   "source": [
    "import requests\n",
    "import naas\n",
    "import pandas as pd"
   ]
  },
  {
   "cell_type": "markdown",
   "id": "ccb26442-971b-4f63-b7cf-1393bd534c6f",
   "metadata": {
    "papermill": {},
    "tags": []
   },
   "source": [
    "### Setup Variables\n",
    "- `token`: WAQI API token. [Get your token here](https://aqicn.org/data-platform/token/).\n",
    "- `keyword`: Keyword to find station."
   ]
  },
  {
   "cell_type": "code",
   "execution_count": null,
   "id": "13a1399e-2a01-488d-952c-3168b1b7f4f4",
   "metadata": {
    "papermill": {},
    "tags": []
   },
   "outputs": [],
   "source": [
    "token = naas.secret.get(\"WAQI_TOKEN\") or \"YOUR_TOKEN_HERE\"\n",
    "keyword = \"Paris\""
   ]
  },
  {
   "cell_type": "markdown",
   "id": "30a17761-3a90-4ac5-be58-384c523dac10",
   "metadata": {
    "papermill": {},
    "tags": []
   },
   "source": [
    "## Model"
   ]
  },
  {
   "cell_type": "markdown",
   "id": "d91d6d3d-da67-4ac7-8b73-d19b9804fb6b",
   "metadata": {
    "papermill": {},
    "tags": []
   },
   "source": [
    "### Search station by name"
   ]
  },
  {
   "cell_type": "code",
   "execution_count": null,
   "id": "6bc50618-1612-4e7f-a46c-a13a30310a4e",
   "metadata": {
    "papermill": {},
    "tags": []
   },
   "outputs": [],
   "source": [
    "def search_station_by_name(token, keyword):\n",
    "    url = f\"https://api.waqi.info/search/?keyword={keyword}&token={token}\"\n",
    "    res = requests.get(url)\n",
    "    if res.status_code == 200:\n",
    "        return res.json()\n",
    "\n",
    "result = search_station_by_name(token, keyword)"
   ]
  },
  {
   "cell_type": "markdown",
   "id": "b963eb5e-3b99-4b1b-bf66-a902fc0843b2",
   "metadata": {
    "papermill": {},
    "tags": []
   },
   "source": [
    "### Create dataframe"
   ]
  },
  {
   "cell_type": "code",
   "execution_count": null,
   "id": "51f0ed5b-fc87-4948-b3e5-40f93ec39385",
   "metadata": {
    "papermill": {},
    "tags": []
   },
   "outputs": [],
   "source": [
    "def flatten_dict(d, parent_key='', sep='_'):\n",
    "    \"\"\"\n",
    "    Flattens a nested dictionary into a single level dictionary.\n",
    "\n",
    "    Args:\n",
    "        d (dict): A nested dictionary.\n",
    "        parent_key (str): Optional string to prefix the keys with.\n",
    "        sep (str): Optional separator to use between parent_key and child_key.\n",
    "\n",
    "    Returns:\n",
    "        dict: A flattened dictionary.\n",
    "    \"\"\"\n",
    "    items = []\n",
    "    for k, v in d.items():\n",
    "        new_key = f\"{parent_key}{sep}{k}\" if parent_key else k\n",
    "        if isinstance(v, dict):\n",
    "            items.extend(flatten_dict(v, new_key, sep=sep).items())\n",
    "        else:\n",
    "            items.append((new_key, v))\n",
    "    return dict(items)\n",
    "\n",
    "data = []\n",
    "for d in result.get(\"data\"):\n",
    "    station = flatten_dict(d, parent_key='', sep='_')\n",
    "    data.append(station)\n",
    "\n",
    "df = pd.DataFrame(data)"
   ]
  },
  {
   "cell_type": "markdown",
   "id": "600d7847-be08-4b59-bf6a-586fe79c5f36",
   "metadata": {
    "papermill": {},
    "tags": []
   },
   "source": [
    "## Output"
   ]
  },
  {
   "cell_type": "markdown",
   "id": "ed7cd365-bd61-45aa-9e28-dd34b397023a",
   "metadata": {
    "papermill": {},
    "tags": []
   },
   "source": [
    "### Display result"
   ]
  },
  {
   "cell_type": "code",
   "execution_count": null,
   "id": "257d465f-2f47-4474-8a2e-6e4c290c7f52",
   "metadata": {
    "papermill": {},
    "tags": []
   },
   "outputs": [],
   "source": [
    "print(\"➡️ Results found:\", len(df))\n",
    "df"
   ]
  },
  {
   "cell_type": "markdown",
   "id": "cd55a903-19fc-4d26-9d80-a2cce5944737",
   "metadata": {
    "papermill": {},
    "tags": []
   },
   "source": [
    " "
   ]
  }
 ],
 "metadata": {
  "kernelspec": {
   "display_name": "Python 3",
   "language": "python",
   "name": "python3"
  },
  "language_info": {
   "codemirror_mode": {
    "name": "ipython",
    "version": 3
   },
   "file_extension": ".py",
   "mimetype": "text/x-python",
   "name": "python",
   "nbconvert_exporter": "python",
   "pygments_lexer": "ipython3",
   "version": "3.9.6"
  },
  "naas": {
   "notebook_id": "3d0747d79e0168df75adfc3ed3b500e5308bda1d114f932c5972004833cef961",
   "notebook_path": "WAQI/WAQI_Search_station_by_name.ipynb"
  },
  "papermill": {
   "default_parameters": {},
   "environment_variables": {},
   "parameters": {},
   "version": "2.4.0"
  },
  "widgets": {
   "application/vnd.jupyter.widget-state+json": {
    "state": {},
    "version_major": 2,
    "version_minor": 0
   }
  }
 },
 "nbformat": 4,
 "nbformat_minor": 5
}