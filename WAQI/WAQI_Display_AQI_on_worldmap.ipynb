{
 "cells": [
  {
   "cell_type": "markdown",
   "id": "7968a603-b3b4-4f89-9a3a-11efb051faff",
   "metadata": {
    "papermill": {},
    "tags": []
   },
   "source": [
    "<img width=\"10%\" alt=\"Naas\" src=\"https://landen.imgix.net/jtci2pxwjczr/assets/5ice39g4.png?w=160\"/>"
   ]
  },
  {
   "cell_type": "markdown",
   "id": "ecb22ef4-1967-46d5-905f-ce4396bbdc3e",
   "metadata": {
    "papermill": {},
    "tags": []
   },
   "source": [
    "# WAQI - Display AQI on worldmap\n",
    "<a href=\"https://app.naas.ai/user-redirect/naas/downloader?url=https://raw.githubusercontent.com/jupyter-naas/awesome-notebooks/master/WAQI/WAQI_Display_AQI_on_worldmap.ipynb\" target=\"_parent\"><img src=\"https://naasai-public.s3.eu-west-3.amazonaws.com/Open_in_Naas_Lab.svg\"/></a><br><br><a href=\"https://github.com/jupyter-naas/awesome-notebooks/issues/new?assignees=&labels=&template=template-request.md&title=Tool+-+Action+of+the+notebook+\">Template request</a> | <a href=\"https://github.com/jupyter-naas/awesome-notebooks/issues/new?assignees=&labels=bug&template=bug_report.md&title=WAQI+-+Display+AQI+on+worldmap:+Error+short+description\">Bug report</a> | <a href=\"https://app.naas.ai/user-redirect/naas/downloader?url=https://raw.githubusercontent.com/jupyter-naas/awesome-notebooks/master/Naas/Naas_Start_data_product.ipynb\" target=\"_parent\">Generate Data Product</a>"
   ]
  },
  {
   "cell_type": "markdown",
   "id": "0eeb2c4a-fd78-4e59-a01a-b3ae23b10e0a",
   "metadata": {
    "papermill": {},
    "tags": []
   },
   "source": [
    "**Tags:** #waqi #airquality #api #data #city #stations"
   ]
  },
  {
   "cell_type": "markdown",
   "id": "a50f9548-b43a-4e2b-be98-52bdf94c1e34",
   "metadata": {
    "papermill": {},
    "tags": []
   },
   "source": [
    "**Author:** [Florent Ravenel](https://www.linkedin.com/in/florent-ravenel/)"
   ]
  },
  {
   "cell_type": "markdown",
   "id": "440563ef-3227-4976-85be-75d42fd9cdfb",
   "metadata": {
    "papermill": {},
    "tags": []
   },
   "source": [
    "**Description:** This notebook displays AQI on worldmap.<br>\n",
    "\n",
    "Air Quality Index Scale:\n",
    "- 0 - 50: Good - Air quality is considered satisfactory, and air pollution poses little or no risk\n",
    "- 51 - 100: Moderate - Air quality is acceptable; however, for some pollutants there may be a moderate health concern for a very small number of people who are unusually sensitive to air pollution.\n",
    "- 101-150: Unhealthy for Sensitive Groups - Members of sensitive groups may experience health effects. The general public is not likely to be affected.\n",
    "- 151-200: Unhealthy - Everyone may begin to experience health effects; members of sensitive groups may experience more serious health effects.\n",
    "- 201-300: Very Unhealthy - Health warnings of emergency conditions. The entire population is more likely to be affected.\n",
    "- 300+: Hazardous - Health alert: everyone may experience more serious health effects."
   ]
  },
  {
   "cell_type": "markdown",
   "id": "eef01b1c-d55c-4fea-959f-04e00d60942d",
   "metadata": {
    "papermill": {},
    "tags": []
   },
   "source": [
    "**References:**\n",
    "- [WAQI API Documentation](https://aqicn.org/json-api/doc/#api-Map_Queries-GetMapStations)\n",
    "- [Air Quality Index Scale](https://aqicn.org/scale/)"
   ]
  },
  {
   "cell_type": "markdown",
   "id": "91cb14d4-e98f-4a5d-a9a9-49c16c57bb8b",
   "metadata": {
    "papermill": {},
    "tags": []
   },
   "source": [
    "## Input"
   ]
  },
  {
   "cell_type": "markdown",
   "id": "3259487c-1c55-41ff-b86d-b67f96a5a2d8",
   "metadata": {
    "papermill": {},
    "tags": []
   },
   "source": [
    "### Import libraries"
   ]
  },
  {
   "cell_type": "code",
   "execution_count": null,
   "id": "32693ca8-de25-4df9-89af-e587a09bcabb",
   "metadata": {
    "papermill": {},
    "tags": []
   },
   "outputs": [],
   "source": [
    "import requests\n",
    "import naas\n",
    "import pandas as pd\n",
    "import plotly.express as px"
   ]
  },
  {
   "cell_type": "markdown",
   "id": "ccb26442-971b-4f63-b7cf-1393bd534c6f",
   "metadata": {
    "papermill": {},
    "tags": []
   },
   "source": [
    "### Setup Variables\n",
    "- `token`: WAQI API token. [Get your token here](https://aqicn.org/data-platform/token/).\n",
    "- `latlng`: map bounds in the form lat1,lng1,lat2,lng2"
   ]
  },
  {
   "cell_type": "code",
   "execution_count": null,
   "id": "13a1399e-2a01-488d-952c-3168b1b7f4f4",
   "metadata": {
    "papermill": {},
    "tags": []
   },
   "outputs": [],
   "source": [
    "# Inputs\n",
    "token = naas.secret.get(\"WAQI_TOKEN\") or \"YOUR_TOKEN_HERE\"\n",
    "latlng = \"-90,-180,90,180\"\n",
    "\n",
    "# Outputs\n",
    "output_html = \"WAQI_worldmap.html\"\n",
    "output_csv = \"WAQI_data.csv\""
   ]
  },
  {
   "cell_type": "markdown",
   "id": "30a17761-3a90-4ac5-be58-384c523dac10",
   "metadata": {
    "papermill": {},
    "tags": []
   },
   "source": [
    "## Model"
   ]
  },
  {
   "cell_type": "markdown",
   "id": "d91d6d3d-da67-4ac7-8b73-d19b9804fb6b",
   "metadata": {
    "papermill": {},
    "tags": []
   },
   "source": [
    "### Get all stations by lat/lng bounds"
   ]
  },
  {
   "cell_type": "code",
   "execution_count": null,
   "id": "6bc50618-1612-4e7f-a46c-a13a30310a4e",
   "metadata": {
    "papermill": {},
    "tags": []
   },
   "outputs": [],
   "source": [
    "def get_all_stations(token, latlng):\n",
    "    url = f'https://api.waqi.info/map/bounds?token={token}&latlng={latlng}'\n",
    "    res = requests.get(url)\n",
    "    if res.status_code == 200:\n",
    "        return res.json()\n",
    "\n",
    "result = get_all_stations(token, latlng)"
   ]
  },
  {
   "cell_type": "markdown",
   "id": "26d19d2a-9408-438e-9440-d79723d3b4d0",
   "metadata": {
    "papermill": {},
    "tags": []
   },
   "source": [
    "### Create dataframe"
   ]
  },
  {
   "cell_type": "code",
   "execution_count": null,
   "id": "1636705d-3325-4714-87d3-114a9a5b6e75",
   "metadata": {
    "papermill": {},
    "tags": []
   },
   "outputs": [],
   "source": [
    "def flatten_dict(d, parent_key='', sep='_'):\n",
    "    \"\"\"\n",
    "    Flattens a nested dictionary into a single level dictionary.\n",
    "\n",
    "    Args:\n",
    "        d (dict): A nested dictionary.\n",
    "        parent_key (str): Optional string to prefix the keys with.\n",
    "        sep (str): Optional separator to use between parent_key and child_key.\n",
    "\n",
    "    Returns:\n",
    "        dict: A flattened dictionary.\n",
    "    \"\"\"\n",
    "    items = []\n",
    "    for k, v in d.items():\n",
    "        new_key = f\"{parent_key}{sep}{k}\" if parent_key else k\n",
    "        if isinstance(v, dict):\n",
    "            items.extend(flatten_dict(v, new_key, sep=sep).items())\n",
    "        else:\n",
    "            items.append((new_key, v))\n",
    "    return dict(items)\n",
    "\n",
    "data = []\n",
    "for d in result.get(\"data\"):\n",
    "    aqi = d.get(\"aqi\")\n",
    "    if aqi != \"-\":\n",
    "        station = flatten_dict(d, parent_key='', sep='_')\n",
    "        data.append(station)\n",
    "\n",
    "df = pd.DataFrame(data).reset_index(drop=True)\n",
    "\n",
    "# Cleaning\n",
    "df = df.astype({\"aqi\": int})\n",
    "\n",
    "def set_color(row):\n",
    "    hex_code = \"\" # example hexadecimal color code\n",
    "    aqi = row[\"aqi\"]\n",
    "    if aqi <= 50:\n",
    "        hex_code = '#009966'\n",
    "    elif aqi <= 100:\n",
    "        hex_code = '#ffde33'\n",
    "    elif aqi <= 150:\n",
    "        hex_code = '#ff9933'\n",
    "    elif aqi <= 200:\n",
    "        hex_code = '#cc0033'\n",
    "    elif aqi <= 250:\n",
    "        hex_code = '#660099'\n",
    "    else:\n",
    "        hex_code = '#7e0023'\n",
    "    return hex_code\n",
    "    # convert hexadecimal to RGB\n",
    "    red = int(hex_code[1:3], 16)\n",
    "    green = int(hex_code[3:5], 16)\n",
    "    blue = int(hex_code[5:7], 16)\n",
    "\n",
    "    rgb_code = (red, green, blue) # RGB tuple\n",
    "    return rgb_code # output: (255, 165, 0)\n",
    "\n",
    "df[\"color\"] = df.apply(lambda row: set_color(row), axis=1)\n",
    "print(\"➡️ Results found:\", len(df))\n",
    "df.head(5)"
   ]
  },
  {
   "cell_type": "markdown",
   "id": "ae074fb5-99d9-489a-a7f8-d5a88cef0034",
   "metadata": {
    "papermill": {},
    "tags": []
   },
   "source": [
    "### Create Bubblemap"
   ]
  },
  {
   "cell_type": "code",
   "execution_count": null,
   "id": "99aadd6e-271f-475e-8f9f-9dbb479aea74",
   "metadata": {
    "papermill": {},
    "tags": []
   },
   "outputs": [],
   "source": [
    "fig = px.scatter_mapbox(\n",
    "    df,\n",
    "    lat='lat',\n",
    "    lon='lon',\n",
    "    size='aqi',\n",
    "    color='color',\n",
    "    color_discrete_map=\"identity\",\n",
    "    zoom=2,\n",
    "    mapbox_style='carto-positron',\n",
    "    text='station_name',\n",
    "    hover_name=\"station_name\",\n",
    ")\n",
    "fig.update_layout(\n",
    "    title=\"World's Air Pollution: Real-time Air Quality Index\",\n",
    "    autosize=True,\n",
    ")\n",
    "config = {\"displayModeBar\": False}\n",
    "fig.show(config=config)"
   ]
  },
  {
   "cell_type": "markdown",
   "id": "b04abfd8-d24f-47e4-96a0-6db064ce4e45",
   "metadata": {
    "papermill": {},
    "tags": []
   },
   "source": [
    "## Output"
   ]
  },
  {
   "cell_type": "markdown",
   "id": "0a6e4cc3-4aef-4b3d-b6aa-3914801cb274",
   "metadata": {
    "papermill": {},
    "tags": []
   },
   "source": [
    "### Save data in csv"
   ]
  },
  {
   "cell_type": "code",
   "execution_count": null,
   "id": "3912d1e8-61e9-40e3-b088-04a0bb31778a",
   "metadata": {
    "papermill": {},
    "tags": []
   },
   "outputs": [],
   "source": [
    "df.to_csv(output_csv, index=False)"
   ]
  },
  {
   "cell_type": "markdown",
   "id": "292ad6c8-6830-46d4-88cb-3029184727c5",
   "metadata": {
    "execution": {
     "iopub.execute_input": "2021-10-17T15:35:59.991727Z",
     "iopub.status.busy": "2021-10-17T15:35:59.991476Z",
     "iopub.status.idle": "2021-10-17T15:36:00.000426Z",
     "shell.execute_reply": "2021-10-17T15:35:59.999753Z",
     "shell.execute_reply.started": "2021-10-17T15:35:59.991702Z"
    },
    "papermill": {},
    "tags": []
   },
   "source": [
    "### Export HTML"
   ]
  },
  {
   "cell_type": "code",
   "execution_count": null,
   "id": "e0f4c646-cff6-49cc-9f78-225501e9a26d",
   "metadata": {
    "papermill": {},
    "tags": []
   },
   "outputs": [],
   "source": [
    "fig.write_html(output_html)"
   ]
  },
  {
   "cell_type": "markdown",
   "id": "5219be5b-036a-4675-87fc-448d7e86ffc2",
   "metadata": {
    "papermill": {},
    "tags": []
   },
   "source": [
    "### Generate shareable asset"
   ]
  },
  {
   "cell_type": "code",
   "execution_count": null,
   "id": "b2e36c70-e434-412b-a116-ff53c8752d7f",
   "metadata": {
    "papermill": {},
    "tags": []
   },
   "outputs": [],
   "source": [
    "link_csv = naas.asset.add(output_csv, {\"inline\": True})\n",
    "link_html = naas.asset.add(output_html, {\"inline\": True})\n",
    "\n",
    "# -> Uncomment the line below to remove your assets\n",
    "# naas.asset.delete(output_csv)\n",
    "# naas.asset.delete(output_html)"
   ]
  },
  {
   "cell_type": "markdown",
   "id": "cd55a903-19fc-4d26-9d80-a2cce5944737",
   "metadata": {
    "papermill": {},
    "tags": []
   },
   "source": [
    " "
   ]
  },
  {
   "cell_type": "code",
   "execution_count": null,
   "id": "f9fad2ec-a632-4ea4-b8d2-24b7451bd7cb",
   "metadata": {
    "papermill": {},
    "tags": []
   },
   "outputs": [],
   "source": []
  }
 ],
 "metadata": {
  "kernelspec": {
   "display_name": "Python 3",
   "language": "python",
   "name": "python3"
  },
  "language_info": {
   "codemirror_mode": {
    "name": "ipython",
    "version": 3
   },
   "file_extension": ".py",
   "mimetype": "text/x-python",
   "name": "python",
   "nbconvert_exporter": "python",
   "pygments_lexer": "ipython3",
   "version": "3.9.6"
  },
  "naas": {
   "notebook_id": "78e0951d9b24d4a7bccd167a4af767b31a9916c4adbbdba076453909d87a7484",
   "notebook_path": "WAQI/WAQI_Display_AQI_on_worldmap.ipynb"
  },
  "papermill": {
   "default_parameters": {},
   "environment_variables": {},
   "parameters": {},
   "version": "2.4.0"
  },
  "widgets": {
   "application/vnd.jupyter.widget-state+json": {
    "state": {},
    "version_major": 2,
    "version_minor": 0
   }
  }
 },
 "nbformat": 4,
 "nbformat_minor": 5
}