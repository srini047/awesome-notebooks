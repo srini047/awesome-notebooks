{
 "cells": [
  {
   "cell_type": "markdown",
   "id": "717c2c3f-840e-4710-94e0-98e78baf6f41",
   "metadata": {
    "papermill": {},
    "tags": []
   },
   "source": [
    "<img width=\"10%\" alt=\"Naas\" src=\"https://landen.imgix.net/jtci2pxwjczr/assets/5ice39g4.png?w=160\"/>"
   ]
  },
  {
   "cell_type": "markdown",
   "id": "83dc13d4-ff90-4614-9d5e-151fde8d21d4",
   "metadata": {
    "papermill": {},
    "tags": []
   },
   "source": [
    "# Abstract API - Check Email Validation\n",
    "<a href=\"https://app.naas.ai/user-redirect/naas/downloader?url=https://raw.githubusercontent.com/jupyter-naas/awesome-notebooks/master/Abstract%20API/Abstract_API_Check_Email_Validation.ipynb\" target=\"_parent\"><img src=\"https://naasai-public.s3.eu-west-3.amazonaws.com/open_in_naas.svg\"/></a><br><br><a href=\"https://github.com/jupyter-naas/awesome-notebooks/issues/new?assignees=&labels=&template=template-request.md&title=Tool+-+Action+of+the+notebook+\">Template request</a> | <a href=\"https://github.com/jupyter-naas/awesome-notebooks/issues/new?assignees=&labels=bug&template=bug_report.md&title=Abstract+API+-+Check+Email+Validation:+Error+short+description\">Bug report</a>"
   ]
  },
  {
   "cell_type": "markdown",
   "id": "6db0c7ea-20f4-4429-a39f-80d357f7d58a",
   "metadata": {
    "papermill": {},
    "tags": []
   },
   "source": [
    "**Tags:** #abstractapi #email #validation #api #check #tester"
   ]
  },
  {
   "cell_type": "markdown",
   "id": "600ecae5-3e9c-42d3-8c14-76b05ff52813",
   "metadata": {
    "papermill": {},
    "tags": []
   },
   "source": [
    "**Author:** [Florent Ravenel](https://www.linkedin.com/in/florent-ravenel/)"
   ]
  },
  {
   "cell_type": "markdown",
   "id": "7cd72303-2a38-4332-8753-3758310a6e4b",
   "metadata": {
    "papermill": {},
    "tags": []
   },
   "source": [
    "**Description:** This notebook will demonstrate how to use Abstract API to check if an email is valid."
   ]
  },
  {
   "cell_type": "markdown",
   "id": "b878e53b-e5d4-45fb-99ee-b1e154d714c1",
   "metadata": {
    "papermill": {},
    "tags": []
   },
   "source": [
    "**References:**\n",
    "- [Abstract API - Email Validation](https://app.abstractapi.com/api/email-validation/tester)"
   ]
  },
  {
   "cell_type": "markdown",
   "id": "90df0f88-12b0-4eb7-b3ac-132b4c3ec042",
   "metadata": {
    "papermill": {},
    "tags": []
   },
   "source": [
    "## Input"
   ]
  },
  {
   "cell_type": "markdown",
   "id": "be0fa8af-fbd6-483a-a86d-27ab4e63cb95",
   "metadata": {
    "papermill": {},
    "tags": []
   },
   "source": [
    "### Import libraries"
   ]
  },
  {
   "cell_type": "code",
   "execution_count": null,
   "id": "a2e63c84-d717-488f-ba09-a5d0a1764c2c",
   "metadata": {
    "papermill": {},
    "tags": []
   },
   "outputs": [],
   "source": [
    "import requests\n",
    "import naas\n",
    "from pprint import pprint"
   ]
  },
  {
   "cell_type": "markdown",
   "id": "1936265e-d2aa-4ef6-aec8-6e8c607bac82",
   "metadata": {
    "papermill": {},
    "tags": []
   },
   "source": [
    "### Setup Variables\n",
    "- `api_key`: [Get your API key](https://app.abstractapi.com/signup)\n",
    "- `email`: Email to be validated"
   ]
  },
  {
   "cell_type": "code",
   "execution_count": null,
   "id": "d2ffb205-f81b-413d-88c6-a760bfdc1a07",
   "metadata": {
    "papermill": {},
    "tags": []
   },
   "outputs": [],
   "source": [
    "api_key = naas.secret.get(\"ABSTRACT_API\") or \"YOUR_API_KEY\"\n",
    "email = \"florent@naas.ai\""
   ]
  },
  {
   "cell_type": "markdown",
   "id": "158781c7-c1ab-4868-9a8b-8825bcfe6e45",
   "metadata": {
    "papermill": {},
    "tags": []
   },
   "source": [
    "## Model"
   ]
  },
  {
   "cell_type": "markdown",
   "id": "238037af-7dc7-44d2-af09-311f3612616e",
   "metadata": {
    "papermill": {},
    "tags": []
   },
   "source": [
    "### Validate Email"
   ]
  },
  {
   "cell_type": "markdown",
   "id": "f43ba018-ff20-439f-871e-1d4dae140aee",
   "metadata": {
    "papermill": {},
    "tags": []
   },
   "source": [
    "Validate an email address using Abstract API's Email Validation API."
   ]
  },
  {
   "cell_type": "code",
   "execution_count": null,
   "id": "813f7514-831b-4116-9a2e-4b00889af2c5",
   "metadata": {
    "papermill": {},
    "tags": []
   },
   "outputs": [],
   "source": [
    "url = f\"https://emailvalidation.abstractapi.com/v1/?api_key={api_key}&email={email}\"\n",
    "response = requests.get(url)"
   ]
  },
  {
   "cell_type": "markdown",
   "id": "b568aaf8-605a-485b-9397-153a6f5bd721",
   "metadata": {
    "papermill": {},
    "tags": []
   },
   "source": [
    "## Output"
   ]
  },
  {
   "cell_type": "markdown",
   "id": "bb60a9e7-afc1-455a-942c-6b8d61060a3f",
   "metadata": {
    "papermill": {},
    "tags": []
   },
   "source": [
    "### Display result"
   ]
  },
  {
   "cell_type": "code",
   "execution_count": 7,
   "id": "506676d3-17c1-4923-b8ee-d1b3d15b7786",
   "metadata": {
    "execution": {
     "iopub.execute_input": "2023-02-24T15:42:02.291995Z",
     "iopub.status.busy": "2023-02-24T15:42:02.291758Z",
     "iopub.status.idle": "2023-02-24T15:42:02.297296Z",
     "shell.execute_reply": "2023-02-24T15:42:02.296648Z",
     "shell.execute_reply.started": "2023-02-24T15:42:02.291963Z"
    },
    "papermill": {},
    "tags": []
   },
   "outputs": [],
   "source": [
    "pprint(response.json())"
   ]
  },
  {
   "cell_type": "markdown",
   "id": "a6ddb1be-3c35-4f71-8c2b-7ad29d9c97d0",
   "metadata": {
    "papermill": {},
    "tags": []
   },
   "source": [
    " "
   ]
  }
 ],
 "metadata": {
  "kernelspec": {
   "display_name": "Python 3",
   "language": "python",
   "name": "python3"
  },
  "language_info": {
   "codemirror_mode": {
    "name": "ipython",
    "version": 3
   },
   "file_extension": ".py",
   "mimetype": "text/x-python",
   "name": "python",
   "nbconvert_exporter": "python",
   "pygments_lexer": "ipython3",
   "version": "3.9.6"
  },
  "papermill": {
   "default_parameters": {},
   "environment_variables": {},
   "parameters": {},
   "version": "2.4.0"
  },
  "widgets": {
   "application/vnd.jupyter.widget-state+json": {
    "state": {},
    "version_major": 2,
    "version_minor": 0
   }
  }
 },
 "nbformat": 4,
 "nbformat_minor": 5
}