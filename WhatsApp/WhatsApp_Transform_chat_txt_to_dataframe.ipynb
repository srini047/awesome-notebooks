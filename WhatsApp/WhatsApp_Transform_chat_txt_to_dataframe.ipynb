{
 "cells": [
  {
   "cell_type": "markdown",
   "id": "1b5aa293-3594-4114-95bd-6673b5b42561",
   "metadata": {
    "papermill": {},
    "tags": []
   },
   "source": [
    "<img width=\"10%\" alt=\"Naas\" src=\"https://landen.imgix.net/jtci2pxwjczr/assets/5ice39g4.png?w=160\"/>"
   ]
  },
  {
   "cell_type": "markdown",
   "id": "ae801e17-0c25-42f0-8e76-582d3f16bf45",
   "metadata": {
    "papermill": {},
    "tags": []
   },
   "source": [
    "# WhatsApp - Transform chat txt to dataframe\n",
    "<a href=\"https://app.naas.ai/user-redirect/naas/downloader?url=https://raw.githubusercontent.com/jupyter-naas/awesome-notebooks/master/WhatsApp/WhatsApp_Transform_chat_txt_to_dataframe.ipynb\" target=\"_parent\"><img src=\"https://naasai-public.s3.eu-west-3.amazonaws.com/Open_in_Naas_Lab.svg\"/></a><br><br><a href=\"https://github.com/jupyter-naas/awesome-notebooks/issues/new?assignees=&labels=&template=template-request.md&title=Tool+-+Action+of+the+notebook+\">Template request</a> | <a href=\"https://github.com/jupyter-naas/awesome-notebooks/issues/new?assignees=&labels=bug&template=bug_report.md&title=WhatsApp+-+Transform+chat+txt+to+dataframe:+Error+short+description\">Bug report</a> | <a href=\"https://app.naas.ai/user-redirect/naas/downloader?url=https://raw.githubusercontent.com/jupyter-naas/awesome-notebooks/master/Naas/Naas_Start_data_product.ipynb\" target=\"_parent\">Generate Data Product</a>"
   ]
  },
  {
   "cell_type": "markdown",
   "id": "81bbbe1a-91f8-4084-b0d5-65a3dae62aa1",
   "metadata": {
    "papermill": {},
    "tags": []
   },
   "source": [
    "**Tags:** #python #pandas #regex #whatsapp #chats\n"
   ]
  },
  {
   "cell_type": "markdown",
   "id": "f6d77eea-4274-4cd4-81f8-389f03bfebcd",
   "metadata": {
    "papermill": {},
    "tags": []
   },
   "source": [
    "**Author:** [Mohit Singh](https://www.linkedin.com/in/mohwits/)"
   ]
  },
  {
   "cell_type": "markdown",
   "id": "4ddb06b1-6f83-4511-b8c9-517e323cca58",
   "metadata": {
    "papermill": {},
    "tags": []
   },
   "source": [
    "**Description:** This notebook transforms your WhatsApp chat export from txt to a dataframe."
   ]
  },
  {
   "cell_type": "markdown",
   "id": "31ca8aff-7d1c-4509-81c7-582153e08c79",
   "metadata": {
    "papermill": {},
    "tags": []
   },
   "source": [
    "## Input"
   ]
  },
  {
   "cell_type": "markdown",
   "id": "963be109-3c1f-44aa-8fd6-afc408f8a60d",
   "metadata": {
    "papermill": {},
    "tags": []
   },
   "source": [
    "### Import libraries"
   ]
  },
  {
   "cell_type": "code",
   "execution_count": null,
   "id": "9b61596b-3366-4927-ae21-ee249cee2515",
   "metadata": {
    "papermill": {},
    "tags": []
   },
   "outputs": [],
   "source": [
    "import re\n",
    "import pandas as pd"
   ]
  },
  {
   "cell_type": "markdown",
   "id": "c5d6665d-5808-4b50-a0fb-b2b424bd3ae0",
   "metadata": {
    "execution": {
     "iopub.execute_input": "2023-05-19T08:50:49.716515Z",
     "iopub.status.busy": "2023-05-19T08:50:49.716238Z",
     "iopub.status.idle": "2023-05-19T08:50:49.721781Z",
     "shell.execute_reply": "2023-05-19T08:50:49.721196Z",
     "shell.execute_reply.started": "2023-05-19T08:50:49.716447Z"
    },
    "papermill": {},
    "tags": []
   },
   "source": [
    "### Setup Variables"
   ]
  },
  {
   "cell_type": "markdown",
   "id": "5460b56b-3343-4305-a18a-5e363cc3901f",
   "metadata": {
    "papermill": {},
    "tags": []
   },
   "source": [
    "**Export chat history**\n",
    "\n",
    "You can use the export chat feature to export a copy of the chat history from an individual or group chat.\n",
    "1. Open the individual or group chat.\n",
    "2. Tap > More > Export chat.\n",
    "3. Choose to export without media.\n",
    "4. Save it to your drive or choose your preferred option.\n",
    "\n",
    "- `file_path`: file path of your chat in txt\n",
    "- `group_chat_name`: enter group chat name if it's a group chat."
   ]
  },
  {
   "cell_type": "code",
   "execution_count": null,
   "id": "8e4bb7e1-41cb-464a-98d2-bf610d8f4e9c",
   "metadata": {
    "papermill": {},
    "tags": []
   },
   "outputs": [],
   "source": [
    "file_path = \"Chat WhatsApp with +00 0 00 00 00 00.txt\"\n",
    "group_chat_name = None"
   ]
  },
  {
   "cell_type": "markdown",
   "id": "2996adbd-e764-4bbf-8aec-9ccd1dfe6ae8",
   "metadata": {
    "papermill": {},
    "tags": []
   },
   "source": [
    "## Model"
   ]
  },
  {
   "cell_type": "markdown",
   "id": "a2db71c1-8629-4df2-97f5-6ccb6924865a",
   "metadata": {
    "papermill": {},
    "tags": []
   },
   "source": [
    "### Open chat file"
   ]
  },
  {
   "cell_type": "code",
   "execution_count": null,
   "id": "d18aa057-2794-4661-88c1-49a567f654c9",
   "metadata": {
    "papermill": {},
    "tags": []
   },
   "outputs": [],
   "source": [
    "chat_txt =  open(file_path, 'r', encoding='utf-8')\n",
    "chat_txt = chat_txt.read()\n",
    "# print(chat_txt)"
   ]
  },
  {
   "cell_type": "markdown",
   "id": "9f3f9886-f40b-48ee-8f0e-e18dbdd9a307",
   "metadata": {
    "execution": {
     "iopub.execute_input": "2023-05-31T06:58:57.730881Z",
     "iopub.status.busy": "2023-05-31T06:58:57.730663Z",
     "iopub.status.idle": "2023-05-31T06:58:57.733589Z",
     "shell.execute_reply": "2023-05-31T06:58:57.732958Z",
     "shell.execute_reply.started": "2023-05-31T06:58:57.730859Z"
    },
    "papermill": {},
    "tags": []
   },
   "source": [
    "### Create dataframe from txt"
   ]
  },
  {
   "cell_type": "code",
   "execution_count": null,
   "id": "b4db9af4-9a2f-441c-bfc8-d0060bf056fe",
   "metadata": {
    "papermill": {},
    "tags": []
   },
   "outputs": [],
   "source": [
    "def create_dataframe(file, group_chat_name=None):\n",
    "    # Regex pattern to separate date and time\n",
    "    pattern = '\\d{1,2}/\\d{1,2}/\\d{2,4},\\s\\d{1,2}:\\d{2}\\s-\\s'\n",
    "    \n",
    "    # Splitting message and dates\n",
    "    messages = re.split(pattern, file)[1:]\n",
    "    dates = re.findall(pattern, file)\n",
    "    \n",
    "    # Create dataframe\n",
    "    df = pd.DataFrame({'Message': messages, 'Date': dates, 'Group Chart': group_chat_name})\n",
    "    \n",
    "    # Convert messages_data type\n",
    "    df['Date'] = pd.to_datetime(df['Date'], format='%d/%m/%Y, %H:%M - ')\n",
    "\n",
    "    # List for user\n",
    "    users = []\n",
    "    # List for messages\n",
    "    messages = []\n",
    "\n",
    "    # Iterating in messages\n",
    "    for message in df['Message']:\n",
    "      # Splitting message with ':'\n",
    "      entry = re.split('([\\w\\W]+?):\\s', message)\n",
    "\n",
    "      # If it has value after ':'\n",
    "      if entry[1:]:\n",
    "            users.append(entry[1])\n",
    "            messages.append(entry[2][:-1])\n",
    "      # If it does not have a user name\n",
    "      else:\n",
    "          # appending name as 'Notification'\n",
    "          users.append('Notification')\n",
    "          # appending message\n",
    "          messages.append(entry[0][:-1])\n",
    "\n",
    "    # Dropping previous message column\n",
    "    df.drop('Message', axis = 1, inplace=True)\n",
    "\n",
    "    # Adding user column with user names\n",
    "    df['User'] = users\n",
    "    # Adding message column with just message\n",
    "    df['Message'] = messages\n",
    "\n",
    "    # Separating Year, month, day, hour and minute from Date and creating specific column\n",
    "    df['Year'] = df['Date'].dt.year\n",
    "    df['Month'] = df['Date'].dt.month_name()\n",
    "    df['Day'] = df['Date'].dt.day\n",
    "    df['Hour'] = df['Date'].dt.hour\n",
    "    df['Minute'] = df['Date'].dt.minute\n",
    "    return df"
   ]
  },
  {
   "cell_type": "markdown",
   "id": "4629a6f4-c63e-4909-9297-62cf38983202",
   "metadata": {
    "papermill": {},
    "tags": []
   },
   "source": [
    "## Output"
   ]
  },
  {
   "cell_type": "markdown",
   "id": "946943a1-e083-4743-816a-7732da5dfe98",
   "metadata": {
    "execution": {
     "iopub.execute_input": "2023-05-31T06:59:00.305288Z",
     "iopub.status.busy": "2023-05-31T06:59:00.304947Z",
     "iopub.status.idle": "2023-05-31T06:59:00.349100Z",
     "shell.execute_reply": "2023-05-31T06:59:00.348186Z",
     "shell.execute_reply.started": "2023-05-31T06:59:00.305257Z"
    },
    "papermill": {},
    "tags": []
   },
   "source": [
    "### Display dataframe"
   ]
  },
  {
   "cell_type": "code",
   "execution_count": null,
   "id": "f55ff538-b2c1-47a5-a3ac-416a5b25eb99",
   "metadata": {
    "papermill": {},
    "tags": []
   },
   "outputs": [],
   "source": [
    "df_whatsapp = create_dataframe(chat_txt, group_chat_name)\n",
    "print(\"Messages fetched:\", len(df_whatsapp))\n",
    "df_whatsapp"
   ]
  }
 ],
 "metadata": {
  "kernelspec": {
   "display_name": "Python 3",
   "language": "python",
   "name": "python3"
  },
  "language_info": {
   "codemirror_mode": {
    "name": "ipython",
    "version": 3
   },
   "file_extension": ".py",
   "mimetype": "text/x-python",
   "name": "python",
   "nbconvert_exporter": "python",
   "pygments_lexer": "ipython3",
   "version": "3.9.6"
  },
  "naas": {
   "notebook_id": "ec40932392f591f65891e1b562c477459f79dd9c603a6fec6aeb8a299504ba47",
   "notebook_path": "WhatsApp/WhatsApp_Transform_chat_txt_to_dataframe.ipynb"
  },
  "papermill": {
   "default_parameters": {},
   "environment_variables": {},
   "parameters": {},
   "version": "2.4.0"
  }
 },
 "nbformat": 4,
 "nbformat_minor": 5
}