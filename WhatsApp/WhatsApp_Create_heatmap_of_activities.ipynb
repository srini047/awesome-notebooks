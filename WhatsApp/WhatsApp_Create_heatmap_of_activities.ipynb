{
 "cells": [
  {
   "cell_type": "markdown",
   "id": "latin-packing",
   "metadata": {
    "execution": {
     "iopub.execute_input": "2021-02-23T14:22:16.610471Z",
     "iopub.status.busy": "2021-02-23T14:22:16.610129Z",
     "iopub.status.idle": "2021-02-23T14:22:16.627784Z",
     "shell.execute_reply": "2021-02-23T14:22:16.626866Z",
     "shell.execute_reply.started": "2021-02-23T14:22:16.610384Z"
    },
    "papermill": {},
    "tags": []
   },
   "source": [
    "<img width=\"10%\" alt=\"Naas\" src=\"https://landen.imgix.net/jtci2pxwjczr/assets/5ice39g4.png?w=160\"/>"
   ]
  },
  {
   "cell_type": "markdown",
   "id": "compressed-wilson",
   "metadata": {
    "papermill": {},
    "tags": []
   },
   "source": [
    "# WhatsApp - Create heatmap of activities\n",
    "<a href=\"https://app.naas.ai/user-redirect/naas/downloader?url=https://raw.githubusercontent.com/jupyter-naas/awesome-notebooks/master/WhatsApp/WhatsApp_Create_heatmap_of_activities.ipynb\" target=\"_parent\"><img src=\"https://naasai-public.s3.eu-west-3.amazonaws.com/Open_in_Naas_Lab.svg\"/></a><br><br><a href=\"https://github.com/jupyter-naas/awesome-notebooks/issues/new?assignees=&labels=&template=template-request.md&title=Tool+-+Action+of+the+notebook+\">Template request</a> | <a href=\"https://github.com/jupyter-naas/awesome-notebooks/issues/new?assignees=&labels=bug&template=bug_report.md&title=WhatsApp+-+Create+heatmap+of+activities:+Error+short+description\">Bug report</a> | <a href=\"https://app.naas.ai/user-redirect/naas/downloader?url=https://raw.githubusercontent.com/jupyter-naas/awesome-notebooks/master/Naas/Naas_Start_data_product.ipynb\" target=\"_parent\">Generate Data Product</a>"
   ]
  },
  {
   "cell_type": "markdown",
   "id": "religious-programmer",
   "metadata": {
    "papermill": {},
    "tags": []
   },
   "source": [
    "**Tags:** #whatsapp #naas_drivers #naas #visualisation #chatminers #heatmap"
   ]
  },
  {
   "cell_type": "markdown",
   "id": "1fe9f56e-561c-4f52-aef8-b861c9462107",
   "metadata": {
    "papermill": {},
    "tags": []
   },
   "source": [
    "**Author:** [Hamid Mukhtar](https://www.linkedin.com/in/mukhtar-hamid/)"
   ]
  },
  {
   "cell_type": "markdown",
   "id": "31ea7cdb-e10d-43fc-b026-f69249a59736",
   "metadata": {
    "papermill": {},
    "tags": []
   },
   "source": [
    "**Description:** This notebook creates a heatmap of your chat activities."
   ]
  },
  {
   "cell_type": "markdown",
   "id": "distinguished-truth",
   "metadata": {
    "papermill": {},
    "tags": []
   },
   "source": [
    "## Input"
   ]
  },
  {
   "cell_type": "markdown",
   "id": "numeric-mediterranean",
   "metadata": {
    "papermill": {},
    "tags": []
   },
   "source": [
    "### Import libraries"
   ]
  },
  {
   "cell_type": "code",
   "execution_count": null,
   "id": "potential-surfing",
   "metadata": {
    "papermill": {},
    "tags": []
   },
   "outputs": [],
   "source": [
    "try:\n",
    "    import chatminer\n",
    "except:\n",
    "    !pip install chat-miner --user\n",
    "from chatminer.chatparsers import WhatsAppParser\n",
    "import chatminer.visualizations as vis\n",
    "import matplotlib.pyplot as plt"
   ]
  },
  {
   "cell_type": "markdown",
   "id": "72989926-7ce8-4b5f-bec8-dbf7a069f960",
   "metadata": {
    "execution": {
     "iopub.execute_input": "2023-05-19T08:50:49.716515Z",
     "iopub.status.busy": "2023-05-19T08:50:49.716238Z",
     "iopub.status.idle": "2023-05-19T08:50:49.721781Z",
     "shell.execute_reply": "2023-05-19T08:50:49.721196Z",
     "shell.execute_reply.started": "2023-05-19T08:50:49.716447Z"
    },
    "papermill": {},
    "tags": []
   },
   "source": [
    "### Setup Variables"
   ]
  },
  {
   "cell_type": "markdown",
   "id": "d4c31f4a-62cf-4fdc-a658-943680d10234",
   "metadata": {
    "papermill": {},
    "tags": []
   },
   "source": [
    "**Export chat history**\n",
    "\n",
    "You can use the export chat feature to export a copy of the chat history from an individual or group chat.\n",
    "1. Open the individual or group chat.\n",
    "2. Tap > More > Export chat.\n",
    "3. Choose to export without media.\n",
    "4. Save it to your drive or choose your preferred option.\n",
    "\n",
    "- `file_path`: file path of your chat in txt"
   ]
  },
  {
   "cell_type": "code",
   "execution_count": null,
   "id": "aeec78cb-3244-46e9-adc0-794a7f1de44f",
   "metadata": {
    "papermill": {},
    "tags": []
   },
   "outputs": [],
   "source": [
    "file_path = \"Chat WhatsApp with +00 0 00 00 00 00.txt\""
   ]
  },
  {
   "cell_type": "markdown",
   "id": "127f7a32-706f-405b-b132-21fd84dd20fb",
   "metadata": {
    "papermill": {},
    "tags": []
   },
   "source": [
    "## Model"
   ]
  },
  {
   "cell_type": "markdown",
   "id": "14ac498b-ade5-4b52-b0ee-7ffdac2e1d4d",
   "metadata": {
    "papermill": {},
    "tags": []
   },
   "source": [
    "### Open & Parse chat file"
   ]
  },
  {
   "cell_type": "code",
   "execution_count": null,
   "id": "3dbdc371-37a3-486d-9b9b-bf13a858f29d",
   "metadata": {
    "papermill": {},
    "tags": []
   },
   "outputs": [],
   "source": [
    "parser = WhatsAppParser(file_path)\n",
    "parser.parse_file()\n",
    "df = parser.parsed_messages.get_df()\n",
    "df.head()"
   ]
  },
  {
   "cell_type": "markdown",
   "id": "registered-showcase",
   "metadata": {
    "papermill": {},
    "tags": []
   },
   "source": [
    "## Output"
   ]
  },
  {
   "cell_type": "markdown",
   "id": "d242d4f5-adcd-46f6-9584-4ffde3b9177c",
   "metadata": {
    "papermill": {},
    "tags": []
   },
   "source": [
    "### Create heatmap"
   ]
  },
  {
   "cell_type": "code",
   "execution_count": null,
   "id": "crude-louisville",
   "metadata": {
    "papermill": {},
    "tags": []
   },
   "outputs": [],
   "source": [
    "fig, ax = plt.subplots(2, 1, figsize=(20, 10))\n",
    "ax[0] = vis.calendar_heatmap(df, year=2023, cmap='Oranges', ax=ax[0])\n",
    "ax[1] = vis.calendar_heatmap(df, year=2023, linewidth=0, monthly_border=True, ax=ax[1])"
   ]
  }
 ],
 "metadata": {
  "kernelspec": {
   "display_name": "Python 3",
   "language": "python",
   "name": "python3"
  },
  "language_info": {
   "codemirror_mode": {
    "name": "ipython",
    "version": 3
   },
   "file_extension": ".py",
   "mimetype": "text/x-python",
   "name": "python",
   "nbconvert_exporter": "python",
   "pygments_lexer": "ipython3",
   "version": "3.9.6"
  },
  "naas": {
   "notebook_id": "20d2d1915c03323426f0cc05b016a752a34555d15cd4f08ab70992b5c1b93ec4",
   "notebook_path": "WhatsApp/WhatsApp_Create_heatmap_of_activities.ipynb"
  },
  "papermill": {
   "default_parameters": {},
   "environment_variables": {},
   "parameters": {},
   "version": "2.3.3"
  },
  "widgets": {
   "application/vnd.jupyter.widget-state+json": {
    "state": {},
    "version_major": 2,
    "version_minor": 0
   }
  }
 },
 "nbformat": 4,
 "nbformat_minor": 5
}