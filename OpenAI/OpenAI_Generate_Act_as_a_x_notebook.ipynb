{
 "cells": [
  {
   "cell_type": "markdown",
   "id": "7ddf1412-6ae7-4845-8245-99a9e0c0ec09",
   "metadata": {
    "papermill": {},
    "tags": []
   },
   "source": [
    "<img width=\"10%\" alt=\"Naas\" src=\"https://landen.imgix.net/jtci2pxwjczr/assets/5ice39g4.png?w=160\"/>"
   ]
  },
  {
   "cell_type": "markdown",
   "id": "d7f3a80b-6616-4bfc-ad5b-b4ef958fa8db",
   "metadata": {
    "papermill": {},
    "tags": []
   },
   "source": [
    "# OpenAI - Generate_Act_as_a_x_notebook\n",
    "<a href=\"https://app.naas.ai/user-redirect/naas/downloader?url=https://raw.githubusercontent.com/jupyter-naas/awesome-notebooks/master/OpenAI/OpenAI_Generate_Act_as_a_x_notebook.ipynb\" target=\"_parent\"><img src=\"https://naasai-public.s3.eu-west-3.amazonaws.com/Open_in_Naas_Lab.svg\"/></a><br><br><a href=\"https://github.com/jupyter-naas/awesome-notebooks/issues/new?assignees=&labels=&template=template-request.md&title=Tool+-+Action+of+the+notebook+\">Template request</a> | <a href=\"https://github.com/jupyter-naas/awesome-notebooks/issues/new?assignees=&labels=bug&template=bug_report.md&title=OpenAI+-+Generate_Act_as_a_x_notebook:+Error+short+description\">Bug report</a> | <a href=\"https://app.naas.ai/user-redirect/naas/downloader?url=https://raw.githubusercontent.com/jupyter-naas/awesome-notebooks/master/Naas/Naas_Start_data_product.ipynb\" target=\"_parent\">Generate Data Product</a>"
   ]
  },
  {
   "cell_type": "markdown",
   "id": "f7de975d-92c5-4c12-9a13-bc99e0c8641d",
   "metadata": {
    "papermill": {},
    "tags": []
   },
   "source": [
    "**Tags:** #openai #ai #machinelearning #deeplearning #notebooks #automation #gsheet"
   ]
  },
  {
   "cell_type": "markdown",
   "id": "30622b3a-7547-4de3-a2ea-1cc4e92e0ada",
   "metadata": {
    "papermill": {},
    "tags": []
   },
   "source": [
    "**Author:** [Florent Ravenel](https://www.linkedin.com/in/florent-ravenel/)"
   ]
  },
  {
   "cell_type": "markdown",
   "id": "6f94abc4-02a4-4f90-85c6-59f8c718d8ac",
   "metadata": {
    "papermill": {},
    "tags": []
   },
   "source": [
    "**Description:** This notebook creates \"Act as a ...\" notebooks from a Google Sheets spreadsheet using OpenAI_Act_as_a_chef.ipynb as template."
   ]
  },
  {
   "cell_type": "markdown",
   "id": "106ed0e4-0f9c-4e8a-af1e-8b5c13dbb7d4",
   "metadata": {
    "papermill": {},
    "tags": []
   },
   "source": [
    "**References:**\n",
    "- [OpenAI Documentation](https://openai.com/docs/)\n",
    "- [Awesome ChatGPT Prompts](https://github.com/f/awesome-chatgpt-prompts#act-as-a-chef)"
   ]
  },
  {
   "cell_type": "markdown",
   "id": "ed297bf1-9fa1-4ca1-ba4d-9cd243b65302",
   "metadata": {
    "papermill": {},
    "tags": []
   },
   "source": [
    "## Input"
   ]
  },
  {
   "cell_type": "markdown",
   "id": "8093ec6f-823b-4d20-9b48-c673788e54d3",
   "metadata": {
    "papermill": {},
    "tags": []
   },
   "source": [
    "### Import libraries"
   ]
  },
  {
   "cell_type": "code",
   "execution_count": null,
   "id": "4a3db93f-11d2-4628-9b7c-531607657c62",
   "metadata": {
    "papermill": {},
    "tags": []
   },
   "outputs": [],
   "source": [
    "from papermill.iorw import (\n",
    "    load_notebook_node,\n",
    "    write_ipynb,\n",
    ")\n",
    "import naas\n",
    "from naas_drivers import gsheet\n",
    "import copy\n",
    "import json\n",
    "import subprocess"
   ]
  },
  {
   "cell_type": "markdown",
   "id": "14b42145-22ee-4ad2-abb6-316777fe52ca",
   "metadata": {
    "papermill": {},
    "tags": []
   },
   "source": [
    "### Setup Variables"
   ]
  },
  {
   "cell_type": "code",
   "execution_count": null,
   "id": "4b1fad6f-e7d1-4753-89a0-68088d56650d",
   "metadata": {
    "papermill": {},
    "tags": []
   },
   "outputs": [],
   "source": [
    "# Inputs\n",
    "spreadsheet_url = \"https://docs.google.com/spreadsheets/d/\"\n",
    "sheet_name = \"Templates\"\n",
    "\n",
    "# Outputs\n",
    "notebook_init = \"OpenAI_Act_as_a_chef.ipynb\"\n",
    "name_init = \"Act as a chef\"\n",
    "model = \"gpt-4\"\n",
    "prompt_init = f\"\"\"\n",
    "Act as a chef whose name is Florent. \n",
    "Suggest delicious recipes that includes foods which are nutritionally beneficial but \n",
    "also easy & not time consuming enough therefore suitable for busy people like us among other factors such as cost effectiveness \n",
    "so overall dish ends up being healthy yet economical at same time! \n",
    "In your first message, you will present yourself and what you can do.\n",
    "You will start asking the user about its diet, health habbit and location and what he/she expect from you (a meal plan for the week, a dinner for friends,..) with questions in bullet point.\n",
    "\"\"\"\n",
    "temperature = 1\n",
    "max_tokens = 2084"
   ]
  },
  {
   "cell_type": "markdown",
   "id": "cda269c3-b283-4bf8-956f-7a4f4fb54367",
   "metadata": {
    "papermill": {},
    "tags": []
   },
   "source": [
    "## Model"
   ]
  },
  {
   "cell_type": "markdown",
   "id": "ada7c872-9e8b-40af-b37c-3cb0cebdba57",
   "metadata": {
    "papermill": {},
    "tags": []
   },
   "source": [
    "### Open template notebook"
   ]
  },
  {
   "cell_type": "code",
   "execution_count": null,
   "id": "cd48cc8a-269b-4c4f-af6c-072a0c82b211",
   "metadata": {
    "papermill": {},
    "tags": []
   },
   "outputs": [],
   "source": [
    "# Get notebook\n",
    "nb_init = load_notebook_node(notebook_init)"
   ]
  },
  {
   "cell_type": "markdown",
   "id": "d18711cf-becf-4c5b-93d3-ba655324f85a",
   "metadata": {
    "papermill": {},
    "tags": []
   },
   "source": [
    "### Get data from Google Sheets spreadsheet"
   ]
  },
  {
   "cell_type": "code",
   "execution_count": null,
   "id": "330f4d8a-9b65-452c-9629-04b20d94775b",
   "metadata": {
    "papermill": {},
    "tags": []
   },
   "outputs": [],
   "source": [
    "df_input = gsheet.connect(spreadsheet_url).get(sheet_name=sheet_name)\n",
    "print(\"Row fetched:\", len(df_input))\n",
    "df_input.head(1)"
   ]
  },
  {
   "cell_type": "markdown",
   "id": "b6c44f79-3b50-4649-9828-166ecf3ae74c",
   "metadata": {
    "papermill": {},
    "tags": []
   },
   "source": [
    "## Output"
   ]
  },
  {
   "cell_type": "markdown",
   "id": "56f0d08e-604a-49f8-bdfb-afc0a34c0ad9",
   "metadata": {
    "papermill": {},
    "tags": []
   },
   "source": [
    "### Create notebooks"
   ]
  },
  {
   "cell_type": "code",
   "execution_count": null,
   "id": "5662f1c0-2c4e-4a1b-880f-0c99b7942365",
   "metadata": {
    "papermill": {},
    "tags": []
   },
   "outputs": [],
   "source": [
    "for row in df_input.itertuples():\n",
    "    # Init\n",
    "    nb = copy.deepcopy(nb_init)\n",
    "    name = row.Name\n",
    "    description = row.Description\n",
    "    tags = row.Tags\n",
    "    prompt = row.Prompt\n",
    "    \n",
    "    # Prep outputs\n",
    "    notebook_output = f\"OpenAI_{name.replace(' ', '_')}.ipynb\"\n",
    "    title = f\"# OpenAI - {name}\"\n",
    "    hashtags = f\"**Tags:** {tags.lower()}\"\n",
    "    author = \"**Author:** [Jeremy Ravenel](https://www.linkedin.com/in/jeremyravenel/)\"\n",
    "    nb_description = f\"**Description:** {description}\"\n",
    "    variables = nb.cells[10].source\n",
    "    data = {\n",
    "        \"name\": name,\n",
    "        \"prompt\": prompt.replace(\"\\n\", \"\"),\n",
    "        \"model\": model,\n",
    "        \"temperature\": temperature,\n",
    "        \"max_tokens\": max_tokens,\n",
    "    }\n",
    "    \n",
    "    # Update notebook\n",
    "    nb.cells[1].source = title\n",
    "    nb.cells[2].source = hashtags\n",
    "    nb.cells[3].source = author\n",
    "    nb.cells[4].source = nb_description\n",
    "    nb.cells[10].source = variables.replace(name_init, name, 1).replace(prompt_init, prompt)\n",
    "    nb.cells[13].outputs[0][\"text\"] = json.dumps(data)\n",
    "    \n",
    "    # Save new notebook\n",
    "    write_ipynb(nb, notebook_output)"
   ]
  }
 ],
 "metadata": {
  "kernelspec": {
   "display_name": "Python 3",
   "language": "python",
   "name": "python3"
  },
  "language_info": {
   "codemirror_mode": {
    "name": "ipython",
    "version": 3
   },
   "file_extension": ".py",
   "mimetype": "text/x-python",
   "name": "python",
   "nbconvert_exporter": "python",
   "pygments_lexer": "ipython3",
   "version": "3.9.6"
  },
  "naas": {
   "notebook_id": "c51c4610007ed74a0ecde9c8fd0a9fc269e96164e2ba4f6fe7fc971bf86943e6",
   "notebook_path": "OpenAI/OpenAI_Generate_Act_as_a_x_notebook.ipynb"
  },
  "papermill": {
   "default_parameters": {},
   "environment_variables": {},
   "parameters": {},
   "version": "2.4.0"
  }
 },
 "nbformat": 4,
 "nbformat_minor": 5
}