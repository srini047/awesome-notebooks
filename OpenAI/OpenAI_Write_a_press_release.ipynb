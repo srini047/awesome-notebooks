{
 "cells": [
  {
   "cell_type": "markdown",
   "id": "4acf11bd-e9b5-42c4-9b87-f60e39965592",
   "metadata": {
    "papermill": {},
    "tags": []
   },
   "source": [
    "<img width=\"10%\" alt=\"Naas\" src=\"https://landen.imgix.net/jtci2pxwjczr/assets/5ice39g4.png?w=160\"/>"
   ]
  },
  {
   "cell_type": "markdown",
   "id": "34c3dcaf-759d-4b89-9a0f-beae6c019cc7",
   "metadata": {
    "papermill": {},
    "tags": []
   },
   "source": [
    "# OpenAI - Write a press release\n",
    "<a href=\"https://app.naas.ai/user-redirect/naas/downloader?url=https://raw.githubusercontent.com/jupyter-naas/awesome-notebooks/master/OpenAI/OpenAI_Write_a_press_release.ipynb\" target=\"_parent\"><img src=\"https://naasai-public.s3.eu-west-3.amazonaws.com/open_in_naas.svg\"/></a><br><br><a href=\"https://github.com/jupyter-naas/awesome-notebooks/issues/new?assignees=&labels=&template=template-request.md&title=Tool+-+Action+of+the+notebook+\">Template request</a> | <a href=\"https://github.com/jupyter-naas/awesome-notebooks/issues/new?assignees=&labels=bug&template=bug_report.md&title=OpenAI+-+Write+a+press+release:+Error+short+description\">Bug report</a>"
   ]
  },
  {
   "cell_type": "markdown",
   "id": "c8345328-a073-4128-a64d-46681e319c6f",
   "metadata": {
    "papermill": {},
    "tags": []
   },
   "source": [
    "**Tags:** #openai #pressrelease #writing #communication #publicrelations #journalism"
   ]
  },
  {
   "cell_type": "markdown",
   "id": "a2615ff9-1171-4ca5-96b6-2b0bccdcf00d",
   "metadata": {
    "papermill": {},
    "tags": []
   },
   "source": [
    "**Author:** [Florent Ravenel](https://www.linkedin.com/in/florent-ravenel/)"
   ]
  },
  {
   "cell_type": "markdown",
   "id": "568bca3b-ff6a-4c57-9f86-1d6103b28b76",
   "metadata": {
    "papermill": {},
    "tags": []
   },
   "source": [
    "**Description:** This notebook will provide a guide to write using OpenAI API."
   ]
  },
  {
   "cell_type": "markdown",
   "id": "d901f837-a2e8-413b-b989-425d9a48210c",
   "metadata": {
    "papermill": {},
    "tags": []
   },
   "source": [
    "**References:**\n",
    "- [OpenAI](https://openai.com/)"
   ]
  },
  {
   "cell_type": "markdown",
   "id": "6a88acc5-281c-4362-87f9-91bdbc908b1b",
   "metadata": {
    "papermill": {},
    "tags": []
   },
   "source": [
    "## Input"
   ]
  },
  {
   "cell_type": "markdown",
   "id": "b926bbfd-120a-4ea2-9a5a-54166cc69189",
   "metadata": {
    "papermill": {},
    "tags": []
   },
   "source": [
    "### Import libraries"
   ]
  },
  {
   "cell_type": "code",
   "execution_count": 1,
   "id": "c0721a15-3f15-4f24-b0e8-534adf30d34b",
   "metadata": {
    "execution": {
     "iopub.execute_input": "2023-02-24T09:50:19.419576Z",
     "iopub.status.busy": "2023-02-24T09:50:19.419220Z",
     "iopub.status.idle": "2023-02-24T09:50:22.400865Z",
     "shell.execute_reply": "2023-02-24T09:50:22.400217Z",
     "shell.execute_reply.started": "2023-02-24T09:50:19.419510Z"
    },
    "papermill": {},
    "tags": []
   },
   "outputs": [],
   "source": [
    "try:\n",
    "    import openai\n",
    "except:\n",
    "    !pip install openai --user\n",
    "    import openai\n",
    "import naas"
   ]
  },
  {
   "cell_type": "markdown",
   "id": "65aa58e1-abc1-4cd6-96ae-b54c3c557992",
   "metadata": {
    "papermill": {},
    "tags": []
   },
   "source": [
    "### Setup Variables\n",
    "- `api_key`: OpenAI API key, to obtain an OpenAI API key, please refer to the [OpenAI Documentation](https://openai.com/docs/).\n",
    "- `topic`: the topic of the blog post"
   ]
  },
  {
   "cell_type": "code",
   "execution_count": 4,
   "id": "4121e748-328c-419f-82ac-18744cda778f",
   "metadata": {
    "execution": {
     "iopub.execute_input": "2023-02-24T09:50:22.520601Z",
     "iopub.status.busy": "2023-02-24T09:50:22.517900Z",
     "iopub.status.idle": "2023-02-24T09:50:22.759322Z",
     "shell.execute_reply": "2023-02-24T09:50:22.758676Z",
     "shell.execute_reply.started": "2023-02-24T09:50:22.520568Z"
    },
    "papermill": {},
    "tags": []
   },
   "outputs": [],
   "source": [
    "# Inputs\n",
    "api_key = naas.secret.get(name=\"OPENAI_API_KEY\") or \"ENTER_YOUR_OPENAI_API_KEY\"\n",
    "topic = \"naas.ai re-launch March 2023\"\n",
    "prompt = f\"Write a press release about '{topic}'\"\n",
    "\n",
    "# Outputs\n",
    "file_path = f\"Press_Release_{topic.replace(' ', '_')}.txt\""
   ]
  },
  {
   "cell_type": "markdown",
   "id": "21cb5ca5-61c2-4b61-83b2-d7047f3a61c6",
   "metadata": {
    "papermill": {},
    "tags": []
   },
   "source": [
    "## Model"
   ]
  },
  {
   "cell_type": "markdown",
   "id": "90e47055-e91c-480d-87a1-63f9cd83f542",
   "metadata": {
    "papermill": {},
    "tags": []
   },
   "source": [
    "### Send requests to OpenAI API"
   ]
  },
  {
   "cell_type": "code",
   "execution_count": 5,
   "id": "4c9fef9f-a61b-4cca-a076-db0c631cc98a",
   "metadata": {
    "execution": {
     "iopub.execute_input": "2023-02-24T09:50:22.761410Z",
     "iopub.status.busy": "2023-02-24T09:50:22.760998Z",
     "iopub.status.idle": "2023-02-24T09:50:38.256271Z",
     "shell.execute_reply": "2023-02-24T09:50:38.255570Z",
     "shell.execute_reply.started": "2023-02-24T09:50:22.761377Z"
    },
    "papermill": {},
    "tags": []
   },
   "outputs": [],
   "source": [
    "openai.api_key = api_key\n",
    "response = openai.Completion.create(\n",
    "    engine=\"text-davinci-003\",\n",
    "    prompt=prompt,\n",
    "    max_tokens=2084,\n",
    "    temperature=0.7,\n",
    "    top_p=0.9\n",
    ")"
   ]
  },
  {
   "cell_type": "markdown",
   "id": "c1b01256-b4bb-4eb5-8395-4e3913831126",
   "metadata": {
    "papermill": {},
    "tags": []
   },
   "source": [
    "### Get text"
   ]
  },
  {
   "cell_type": "code",
   "execution_count": 6,
   "id": "319fa0ff-1f6f-4f7b-9da2-83ba1bcc1f30",
   "metadata": {
    "execution": {
     "iopub.execute_input": "2023-02-24T09:50:38.257763Z",
     "iopub.status.busy": "2023-02-24T09:50:38.257531Z",
     "iopub.status.idle": "2023-02-24T09:50:38.261975Z",
     "shell.execute_reply": "2023-02-24T09:50:38.261392Z",
     "shell.execute_reply.started": "2023-02-24T09:50:38.257733Z"
    },
    "papermill": {},
    "tags": []
   },
   "outputs": [],
   "source": [
    "text = response['choices'][0]['text']\n",
    "print(text)"
   ]
  },
  {
   "cell_type": "markdown",
   "id": "73f015c0-eaf4-4f90-bfa2-f2fe2f83e8cd",
   "metadata": {
    "papermill": {},
    "tags": []
   },
   "source": [
    "## Output"
   ]
  },
  {
   "cell_type": "markdown",
   "id": "9225892b-4fcf-4095-82bb-d1610225efb8",
   "metadata": {
    "papermill": {},
    "tags": []
   },
   "source": [
    "### Save text to txt file"
   ]
  },
  {
   "cell_type": "code",
   "execution_count": 7,
   "id": "289567ad-edf2-421d-81b6-94ad8814a209",
   "metadata": {
    "execution": {
     "iopub.execute_input": "2023-02-24T09:50:38.263179Z",
     "iopub.status.busy": "2023-02-24T09:50:38.262843Z",
     "iopub.status.idle": "2023-02-24T09:50:38.391046Z",
     "shell.execute_reply": "2023-02-24T09:50:38.390338Z",
     "shell.execute_reply.started": "2023-02-24T09:50:38.263149Z"
    },
    "papermill": {},
    "tags": []
   },
   "outputs": [],
   "source": [
    "text_file = open(file_path, \"w\")\n",
    "text_file.write(text)\n",
    "text_file.close()"
   ]
  },
  {
   "cell_type": "markdown",
   "id": "4eec16f4-07da-4415-9e04-df37ec2f0c89",
   "metadata": {
    "papermill": {},
    "tags": []
   },
   "source": [
    " "
   ]
  }
 ],
 "metadata": {
  "kernelspec": {
   "display_name": "Python 3",
   "language": "python",
   "name": "python3"
  },
  "language_info": {
   "codemirror_mode": {
    "name": "ipython",
    "version": 3
   },
   "file_extension": ".py",
   "mimetype": "text/x-python",
   "name": "python",
   "nbconvert_exporter": "python",
   "pygments_lexer": "ipython3",
   "version": "3.9.6"
  },
  "papermill": {
   "default_parameters": {},
   "environment_variables": {},
   "parameters": {},
   "version": "2.4.0"
  },
  "widgets": {
   "application/vnd.jupyter.widget-state+json": {
    "state": {},
    "version_major": 2,
    "version_minor": 0
   }
  }
 },
 "nbformat": 4,
 "nbformat_minor": 5
}