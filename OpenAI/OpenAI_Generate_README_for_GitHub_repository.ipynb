{
 "cells": [
  {
   "cell_type": "markdown",
   "id": "d391a0e1-7099-44ad-8f17-30e936eb4092",
   "metadata": {
    "papermill": {},
    "tags": []
   },
   "source": [
    "<img width=\"10%\" alt=\"Naas\" src=\"https://landen.imgix.net/jtci2pxwjczr/assets/5ice39g4.png?w=160\"/>"
   ]
  },
  {
   "cell_type": "markdown",
   "id": "016e63d3-616c-4b82-a4b7-925be7b3cade",
   "metadata": {
    "papermill": {},
    "tags": []
   },
   "source": [
    "# OpenAI - Generate README for GitHub repository\n",
    "<a href=\"https://app.naas.ai/user-redirect/naas/downloader?url=https://raw.githubusercontent.com/jupyter-naas/awesome-notebooks/master/OpenAI/OpenAI_Generate_README_for_GitHub_repository.ipynb\" target=\"_parent\"><img src=\"https://naasai-public.s3.eu-west-3.amazonaws.com/Open_in_Naas_Lab.svg\"/></a><br><br><a href=\"https://github.com/jupyter-naas/awesome-notebooks/issues/new?assignees=&labels=&template=template-request.md&title=Tool+-+Action+of+the+notebook+\">Template request</a> | <a href=\"https://github.com/jupyter-naas/awesome-notebooks/issues/new?assignees=&labels=bug&template=bug_report.md&title=OpenAI+-+Generate+README+for+GitHub+repository:+Error+short+description\">Bug report</a> | <a href=\"https://app.naas.ai/user-redirect/naas/downloader?url=https://raw.githubusercontent.com/jupyter-naas/awesome-notebooks/master/Naas/Naas_Start_data_product.ipynb\" target=\"_parent\">Generate Data Product</a>"
   ]
  },
  {
   "cell_type": "markdown",
   "id": "361054cb-6c28-4ba2-9c54-c63432902487",
   "metadata": {
    "papermill": {},
    "tags": []
   },
   "source": [
    "**Tags:** #openai #github #readme #repository #generate #automation"
   ]
  },
  {
   "cell_type": "markdown",
   "id": "c44920a4-c4f8-445c-847c-473565debdd5",
   "metadata": {
    "papermill": {},
    "tags": []
   },
   "source": [
    "**Author:** [Florent Ravenel](http://linkedin.com/in/florent-ravenel)"
   ]
  },
  {
   "cell_type": "markdown",
   "id": "c2e3049a-4307-49f3-bf05-7f47666e6442",
   "metadata": {
    "papermill": {},
    "tags": []
   },
   "source": [
    "**Description:** This notebook will generate a README for a GitHub repository based on the project name and description."
   ]
  },
  {
   "cell_type": "markdown",
   "id": "4c0846ab-eecc-4d8a-9b70-325b24563836",
   "metadata": {
    "papermill": {},
    "tags": []
   },
   "source": [
    "**References:**\n",
    "- [GitHub Documentation](https://docs.github.com/en/github/creating-cloning-and-archiving-repositories/creating-a-readme)\n",
    "- [OpenAI Documentation](https://openai.com/docs/)"
   ]
  },
  {
   "cell_type": "markdown",
   "id": "c6b9b773-54ed-40c3-b8ee-f014616a728a",
   "metadata": {
    "papermill": {},
    "tags": []
   },
   "source": [
    "## Input"
   ]
  },
  {
   "cell_type": "markdown",
   "id": "144c7db0-dfd1-4e3d-9a01-231462801173",
   "metadata": {
    "papermill": {},
    "tags": []
   },
   "source": [
    "### Import libraries"
   ]
  },
  {
   "cell_type": "code",
   "execution_count": 1,
   "id": "dd3aaa0f-5d75-4a57-a069-a962e4ad2f60",
   "metadata": {
    "papermill": {},
    "tags": []
   },
   "outputs": [],
   "source": [
    "try:\n",
    "    import openai\n",
    "except ModuleNotFoundError:\n",
    "    !pip install --user openai\n",
    "    import openai\n",
    "import naas"
   ]
  },
  {
   "cell_type": "markdown",
   "id": "3f6d75fa-56f2-4158-b259-a8a6def80be9",
   "metadata": {
    "papermill": {},
    "tags": []
   },
   "source": [
    "### Setup Variables\n",
    "- `api_key`: OpenAI API key, to obtain an OpenAI API key, please refer to the [OpenAI Documentation](https://openai.com/docs/).\n",
    "- `project_name`: The name of your project, which should be clear and concise.\n",
    "- `project_description`: A brief description of your project that explains what it does, why it is important, and how it can be used."
   ]
  },
  {
   "cell_type": "code",
   "execution_count": 2,
   "id": "9a950aed-3dfa-4e9d-b3c1-23081cd41c78",
   "metadata": {
    "papermill": {},
    "tags": []
   },
   "outputs": [],
   "source": [
    "# Inputs\n",
    "api_key = naas.secret.get(name=\"OPENAI_API_KEY\") or \"ENTER_YOUR_OPENAI_API_KEY\"\n",
    "project_name = \"Naas - Data Product Framework\"\n",
    "project_description = \"This data product is a framework to show how to leverage GitHub and naas to build data products in no time.\"\n",
    "prompt = f\"Write a README file using the best practice of GitHub for this project '{project_name}': '{project_description}'\""
   ]
  },
  {
   "cell_type": "markdown",
   "id": "c69cfe96-8b27-4374-b59a-4cc3c4382cad",
   "metadata": {
    "papermill": {},
    "tags": []
   },
   "source": [
    "## Model"
   ]
  },
  {
   "cell_type": "markdown",
   "id": "ce22353c-c242-461d-9be4-8c7a068a6e85",
   "metadata": {
    "papermill": {},
    "tags": []
   },
   "source": [
    "### Generate README\n",
    "Generate a README for a GitHub repository based on the project name and description."
   ]
  },
  {
   "cell_type": "code",
   "execution_count": 3,
   "id": "17daafb8-c5c7-4423-bd7e-1490ac99504f",
   "metadata": {
    "papermill": {},
    "tags": []
   },
   "outputs": [],
   "source": [
    "openai.api_key = api_key\n",
    "response = openai.Completion.create(\n",
    "    engine=\"text-davinci-003\",\n",
    "    prompt=prompt,\n",
    "    max_tokens=2084,\n",
    "    temperature=0.5,\n",
    "    top_p=0.9\n",
    ")"
   ]
  },
  {
   "cell_type": "markdown",
   "id": "cf55d0d7-f52c-476b-b9c8-6e49d8b085fe",
   "metadata": {
    "papermill": {},
    "tags": []
   },
   "source": [
    "## Output"
   ]
  },
  {
   "cell_type": "markdown",
   "id": "c7a785d9-a333-43b6-84f0-f6f122fadc49",
   "metadata": {
    "papermill": {},
    "tags": []
   },
   "source": [
    "### Get text"
   ]
  },
  {
   "cell_type": "code",
   "execution_count": 4,
   "id": "8cc435ed-b7d6-4c2f-b580-9d12a71b9f21",
   "metadata": {
    "papermill": {},
    "tags": []
   },
   "outputs": [],
   "source": [
    "text = response['choices'][0]['text']\n",
    "print(text)"
   ]
  }
 ],
 "metadata": {
  "kernelspec": {
   "display_name": "Python 3",
   "language": "python",
   "name": "python3"
  },
  "language_info": {
   "codemirror_mode": {
    "name": "ipython",
    "version": 3
   },
   "file_extension": ".py",
   "mimetype": "text/x-python",
   "name": "python",
   "nbconvert_exporter": "python",
   "pygments_lexer": "ipython3",
   "version": "3.9.6"
  },
  "naas": {
   "notebook_id": "f4334e52da15c82c96fa2ba1ebc2a7e0e769de9f92ed2b06ff6db3e4ac828cb3",
   "notebook_path": "OpenAI/OpenAI_Generate_README_for_GitHub_repository.ipynb"
  },
  "papermill": {
   "default_parameters": {},
   "environment_variables": {},
   "parameters": {},
   "version": "2.4.0"
  },
  "widgets": {
   "application/vnd.jupyter.widget-state+json": {
    "state": {},
    "version_major": 2,
    "version_minor": 0
   }
  }
 },
 "nbformat": 4,
 "nbformat_minor": 5
}