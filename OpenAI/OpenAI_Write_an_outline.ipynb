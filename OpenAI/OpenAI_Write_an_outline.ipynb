{
 "cells": [
  {
   "cell_type": "markdown",
   "id": "f8cd24f5-5cd5-4f07-9f69-121f1f2ad9e8",
   "metadata": {
    "papermill": {},
    "tags": []
   },
   "source": [
    "<img width=\"10%\" alt=\"Naas\" src=\"https://landen.imgix.net/jtci2pxwjczr/assets/5ice39g4.png?w=160\"/>"
   ]
  },
  {
   "cell_type": "markdown",
   "id": "d8047db6-8c06-45b6-886a-216187424b7c",
   "metadata": {
    "papermill": {},
    "tags": []
   },
   "source": [
    "# OpenAI - Write an outline\n",
    "<a href=\"https://app.naas.ai/user-redirect/naas/downloader?url=https://raw.githubusercontent.com/jupyter-naas/awesome-notebooks/master/OpenAI/OpenAI_Write_an_outline.ipynb\" target=\"_parent\"><img src=\"https://naasai-public.s3.eu-west-3.amazonaws.com/open_in_naas.svg\"/></a><br><br><a href=\"https://github.com/jupyter-naas/awesome-notebooks/issues/new?assignees=&labels=&template=template-request.md&title=Tool+-+Action+of+the+notebook+\">Template request</a> | <a href=\"https://github.com/jupyter-naas/awesome-notebooks/issues/new?assignees=&labels=bug&template=bug_report.md&title=OpenAI+-+Write+an+outline:+Error+short+description\">Bug report</a>"
   ]
  },
  {
   "cell_type": "markdown",
   "id": "98934039-1139-47a0-8da5-bbdac5292605",
   "metadata": {
    "papermill": {},
    "tags": []
   },
   "source": [
    "**Tags:** #openai #outline #writing #topic #structure #organize"
   ]
  },
  {
   "cell_type": "markdown",
   "id": "d03cd34a-6ab7-4471-b21d-29d83e444304",
   "metadata": {
    "papermill": {},
    "tags": []
   },
   "source": [
    "**Author:** [Florent Ravenel](https://www.linkedin.com/in/florent-ravenel/)"
   ]
  },
  {
   "cell_type": "markdown",
   "id": "538efa1d-1bf9-486c-a0c9-ac62ff9aadb5",
   "metadata": {
    "papermill": {},
    "tags": []
   },
   "source": [
    "**Description:** This notebook will provide an outline for writing a specific topic. An outline is a structured plan or framework that serves as a blueprint for organizing and presenting information in a clear and logical way. Outlines can be used for a variety of purposes, such as organizing an essay or research paper, preparing a speech or presentation, or planning a project."
   ]
  },
  {
   "cell_type": "markdown",
   "id": "50aea883-43f1-4960-a549-1b7e304a3e83",
   "metadata": {
    "papermill": {},
    "tags": []
   },
   "source": [
    "**References:**\n",
    "- [Writing an Outline](https://www.wikihow.com/Write-an-Outline)\n",
    "- [Outline Structure](https://www.scribbr.com/academic-writing/outline/)"
   ]
  },
  {
   "cell_type": "markdown",
   "id": "6bd6970f-01c7-4f8f-b917-a108ed6df88d",
   "metadata": {
    "papermill": {},
    "tags": []
   },
   "source": [
    "## Input"
   ]
  },
  {
   "cell_type": "markdown",
   "id": "dafcec2d-66d8-4033-abe9-dd779a7b5b05",
   "metadata": {
    "papermill": {},
    "tags": []
   },
   "source": [
    "### Import Libraries"
   ]
  },
  {
   "cell_type": "code",
   "execution_count": null,
   "id": "f611735c-3bf3-4688-9399-67073a50cc29",
   "metadata": {
    "papermill": {},
    "tags": []
   },
   "outputs": [],
   "source": [
    "try:\n",
    "    import openai\n",
    "except:\n",
    "    !pip install openai --user\n",
    "    import openai\n",
    "import naas"
   ]
  },
  {
   "cell_type": "markdown",
   "id": "1cc4b50c-29a0-4fa5-8723-95ba56996971",
   "metadata": {
    "papermill": {},
    "tags": []
   },
   "source": [
    "### Setup Variables\n",
    "- `api_key`: OpenAI API key, to obtain an OpenAI API key, please refer to the [OpenAI Documentation](https://openai.com/docs/).\n",
    "- `topic`: the topic to be written about\n",
    "- `subtopics`: a list of subtopics related to the main topic"
   ]
  },
  {
   "cell_type": "code",
   "execution_count": null,
   "id": "aa01e564-ae40-48f3-8a0f-fdca5aafd76a",
   "metadata": {
    "papermill": {},
    "tags": []
   },
   "outputs": [],
   "source": [
    "# Inputs\n",
    "api_key = naas.secret.get(name=\"OPENAI_API_KEY\") or \"ENTER_YOUR_OPENAI_API_KEY\"\n",
    "topic = \"OpenAI\"\n",
    "subtopics = \"GPT-3, Reinforcement Learning, Generative Models\"\n",
    "prompt = f\"Write an outline about '{topic}' with this subtopics '{subtopics}' and references and citations at the end.\"\n",
    "\n",
    "# Outputs\n",
    "file_path = f\"Outline_{topic.replace(' ', '_')}.txt\""
   ]
  },
  {
   "cell_type": "markdown",
   "id": "53c5be5c-3b99-4aca-bc05-d37eef9c63c3",
   "metadata": {
    "papermill": {},
    "tags": []
   },
   "source": [
    "## Model"
   ]
  },
  {
   "cell_type": "markdown",
   "id": "a3294580-5ad8-4c71-8afb-bffb733518b2",
   "metadata": {
    "papermill": {},
    "tags": []
   },
   "source": [
    "### Send requests to OpenAI API"
   ]
  },
  {
   "cell_type": "code",
   "execution_count": null,
   "id": "43828b3c-0498-4ee9-a4f5-182befd1235d",
   "metadata": {
    "papermill": {},
    "tags": []
   },
   "outputs": [],
   "source": [
    "openai.api_key = api_key\n",
    "response = openai.Completion.create(\n",
    "    engine=\"text-davinci-003\",\n",
    "    prompt=prompt,\n",
    "    max_tokens=2048,\n",
    "    temperature=0.5,\n",
    ")"
   ]
  },
  {
   "cell_type": "markdown",
   "id": "2d343d9e-4c38-40e1-a6e5-56701f3a3ab7",
   "metadata": {
    "papermill": {},
    "tags": []
   },
   "source": [
    "### Get text"
   ]
  },
  {
   "cell_type": "code",
   "execution_count": null,
   "id": "194dfcdb-579a-4101-b3fb-127c12e0536e",
   "metadata": {
    "papermill": {},
    "tags": []
   },
   "outputs": [],
   "source": [
    "text = response['choices'][0]['text']\n",
    "print(text)"
   ]
  },
  {
   "cell_type": "markdown",
   "id": "a1f7286a-9b41-42b4-bb91-9afe3ec39836",
   "metadata": {
    "papermill": {},
    "tags": []
   },
   "source": [
    "## Output"
   ]
  },
  {
   "cell_type": "markdown",
   "id": "0cf54cb7-c8ef-4e7e-9d14-aa89b64d6bf4",
   "metadata": {
    "papermill": {},
    "tags": []
   },
   "source": [
    "### Save text to txt file"
   ]
  },
  {
   "cell_type": "code",
   "execution_count": null,
   "id": "cec8a123-7ee5-4410-a4d8-721cc7041e13",
   "metadata": {
    "papermill": {},
    "tags": []
   },
   "outputs": [],
   "source": [
    "text_file = open(file_path, \"w\")\n",
    "text_file.write(text)\n",
    "text_file.close()"
   ]
  }
 ],
 "metadata": {
  "kernelspec": {
   "display_name": "Python 3",
   "language": "python",
   "name": "python3"
  },
  "language_info": {
   "codemirror_mode": {
    "name": "ipython",
    "version": 3
   },
   "file_extension": ".py",
   "mimetype": "text/x-python",
   "name": "python",
   "nbconvert_exporter": "python",
   "pygments_lexer": "ipython3",
   "version": "3.9.6"
  },
  "papermill": {
   "default_parameters": {},
   "environment_variables": {},
   "parameters": {},
   "version": "2.4.0"
  },
  "widgets": {
   "application/vnd.jupyter.widget-state+json": {
    "state": {},
    "version_major": 2,
    "version_minor": 0
   }
  }
 },
 "nbformat": 4,
 "nbformat_minor": 5
}