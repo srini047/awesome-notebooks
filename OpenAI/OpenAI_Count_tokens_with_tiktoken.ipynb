{
 "cells": [
  {
   "cell_type": "markdown",
   "id": "066fcddf-fd13-4160-b1fb-29cb5316d490",
   "metadata": {
    "papermill": {},
    "tags": []
   },
   "source": [
    "<img width=\"10%\" alt=\"Naas\" src=\"https://landen.imgix.net/jtci2pxwjczr/assets/5ice39g4.png?w=160\"/>"
   ]
  },
  {
   "cell_type": "markdown",
   "id": "7e124d75-7ad2-4f3e-8f3e-f5bb89c106d3",
   "metadata": {
    "papermill": {},
    "tags": []
   },
   "source": [
    "# OpenAI - Count tokens with tiktoken\n",
    "<a href=\"https://app.naas.ai/user-redirect/naas/downloader?url=https://raw.githubusercontent.com/jupyter-naas/awesome-notebooks/master/OpenAI/OpenAI_Count_tokens_with_tiktoken.ipynb\" target=\"_parent\"><img src=\"https://naasai-public.s3.eu-west-3.amazonaws.com/Open_in_Naas_Lab.svg\"/></a><br><br><a href=\"https://github.com/jupyter-naas/awesome-notebooks/issues/new?assignees=&labels=&template=template-request.md&title=Tool+-+Action+of+the+notebook+\">Template request</a> | <a href=\"https://github.com/jupyter-naas/awesome-notebooks/issues/new?assignees=&labels=bug&template=bug_report.md&title=OpenAI+-+Count+tokens+with+tiktoken:+Error+short+description\">Bug report</a> | <a href=\"https://app.naas.ai/user-redirect/naas/downloader?url=https://raw.githubusercontent.com/jupyter-naas/awesome-notebooks/master/Naas/Naas_Start_data_product.ipynb\" target=\"_parent\">Generate Data Product</a>"
   ]
  },
  {
   "cell_type": "markdown",
   "id": "5b9b9e11-6045-4c49-a300-c3cc41bd0865",
   "metadata": {
    "papermill": {},
    "tags": []
   },
   "source": [
    "**Tags:** #openai #tiktoken #count #token #tokens #cookbook"
   ]
  },
  {
   "cell_type": "markdown",
   "id": "c488b4c8-f73e-4adc-8392-4e52dbbad813",
   "metadata": {
    "papermill": {},
    "tags": []
   },
   "source": [
    "**Author:** [Florent Ravenel](https://www.linkedin.com/in/florent-ravenel/)"
   ]
  },
  {
   "cell_type": "markdown",
   "id": "4091824a-c9f9-4396-a8f0-f13cd0704d77",
   "metadata": {
    "papermill": {},
    "tags": []
   },
   "source": [
    "**Description:** This notebook shows how to count tokens used from a string with tiktoken to use OpenAI API."
   ]
  },
  {
   "cell_type": "markdown",
   "id": "59a9a27b-0720-4b8d-82bf-99f81e6f8bc1",
   "metadata": {
    "papermill": {},
    "tags": []
   },
   "source": [
    "**References:**\n",
    "- [OpenAI Cookbook](https://github.com/openai/openai-cookbook)\n",
    "- [How to count tokens with tiktoken](https://github.com/openai/openai-cookbook/blob/main/examples/How_to_count_tokens_with_tiktoken.ipynb)"
   ]
  },
  {
   "cell_type": "markdown",
   "id": "b12812f1-2ed9-4484-8013-25edaa6411ed",
   "metadata": {
    "papermill": {},
    "tags": []
   },
   "source": [
    "## Input"
   ]
  },
  {
   "cell_type": "markdown",
   "id": "2b073eaf-b820-4a92-9eac-eddb45cbb8a6",
   "metadata": {
    "papermill": {},
    "tags": []
   },
   "source": [
    "### Import libraries"
   ]
  },
  {
   "cell_type": "code",
   "execution_count": null,
   "id": "9b3d2f72-9e4d-45bc-a6a3-322e18635240",
   "metadata": {
    "papermill": {},
    "tags": []
   },
   "outputs": [],
   "source": [
    "try:\n",
    "    import tiktoken\n",
    "except:\n",
    "    !pip install tiktoken --user\n",
    "    import tiktoken"
   ]
  },
  {
   "cell_type": "markdown",
   "id": "432a49da-fa46-4009-9f77-ad077218ef2f",
   "metadata": {
    "papermill": {},
    "tags": []
   },
   "source": [
    "### Setup Variables\n",
    "- `text_string`: Given text string\n",
    "- `encoding_name`: Encoding"
   ]
  },
  {
   "cell_type": "code",
   "execution_count": null,
   "id": "85d59ab5-1a69-44cc-88c5-67e7010ade98",
   "metadata": {
    "papermill": {},
    "tags": []
   },
   "outputs": [],
   "source": [
    "text_string = \"tiktoken is great!\"\n",
    "encoding_name = \"cl100k_base\""
   ]
  },
  {
   "cell_type": "markdown",
   "id": "dc56061e-9509-4369-a207-f51961124bf8",
   "metadata": {
    "papermill": {},
    "tags": []
   },
   "source": [
    "## Model"
   ]
  },
  {
   "cell_type": "markdown",
   "id": "e0e7b448-80a5-4dc3-9069-c79646e09df7",
   "metadata": {
    "papermill": {},
    "tags": []
   },
   "source": [
    "### Count tokens\n",
    "Count tokens by counting the length of the list returned by .encode()"
   ]
  },
  {
   "cell_type": "code",
   "execution_count": null,
   "id": "ce81a97e-ac5f-475b-a18e-ca6505b3ca42",
   "metadata": {
    "papermill": {},
    "tags": []
   },
   "outputs": [],
   "source": [
    "def num_tokens_from_string(string: str, encoding_name: str) -> int:\n",
    "    \"\"\"Returns the number of tokens in a text string.\"\"\"\n",
    "    encoding = tiktoken.get_encoding(encoding_name)\n",
    "    num_tokens = len(encoding.encode(string))\n",
    "    return num_tokens"
   ]
  },
  {
   "cell_type": "markdown",
   "id": "97308919-f030-4d13-9ff2-eec61183a015",
   "metadata": {
    "papermill": {},
    "tags": []
   },
   "source": [
    "## Output"
   ]
  },
  {
   "cell_type": "markdown",
   "id": "7d0dee04-491f-41a0-9d6b-e5a3663a3995",
   "metadata": {
    "papermill": {},
    "tags": []
   },
   "source": [
    "### Display result"
   ]
  },
  {
   "cell_type": "code",
   "execution_count": null,
   "id": "f8438d74-9b3b-4d1a-91a4-162d57beb89e",
   "metadata": {
    "papermill": {},
    "tags": []
   },
   "outputs": [],
   "source": [
    "num_tokens = num_tokens_from_string(text_string, encoding_name)\n",
    "print(\"Tokens:\", num_tokens)"
   ]
  },
  {
   "cell_type": "markdown",
   "id": "d61f6ef1-e7a5-47b0-bcd4-1fc3af88e3ee",
   "metadata": {
    "papermill": {},
    "tags": []
   },
   "source": [
    " "
   ]
  }
 ],
 "metadata": {
  "kernelspec": {
   "display_name": "Python 3",
   "language": "python",
   "name": "python3"
  },
  "language_info": {
   "codemirror_mode": {
    "name": "ipython",
    "version": 3
   },
   "file_extension": ".py",
   "mimetype": "text/x-python",
   "name": "python",
   "nbconvert_exporter": "python",
   "pygments_lexer": "ipython3",
   "version": "3.9.6"
  },
  "naas": {
   "notebook_id": "64991d5e7374c52b3e71bbb365667239daea4ce7f872425c483d7da87c59b9f0",
   "notebook_path": "OpenAI/OpenAI_Count_tokens_with_tiktoken.ipynb"
  },
  "papermill": {
   "default_parameters": {},
   "environment_variables": {},
   "parameters": {},
   "version": "2.4.0"
  },
  "widgets": {
   "application/vnd.jupyter.widget-state+json": {
    "state": {},
    "version_major": 2,
    "version_minor": 0
   }
  }
 },
 "nbformat": 4,
 "nbformat_minor": 5
}