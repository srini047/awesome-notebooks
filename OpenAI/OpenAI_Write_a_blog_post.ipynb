{
 "cells": [
  {
   "cell_type": "markdown",
   "id": "7822c594-f543-41a0-9b90-5016b8b20940",
   "metadata": {
    "papermill": {},
    "tags": []
   },
   "source": [
    "<img width=\"10%\" alt=\"Naas\" src=\"https://landen.imgix.net/jtci2pxwjczr/assets/5ice39g4.png?w=160\"/>"
   ]
  },
  {
   "cell_type": "markdown",
   "id": "569a464e-0103-4889-b509-a78359d539fd",
   "metadata": {
    "papermill": {},
    "tags": []
   },
   "source": [
    "# OpenAI - Write a blog post\n",
    "<a href=\"https://app.naas.ai/user-redirect/naas/downloader?url=https://raw.githubusercontent.com/jupyter-naas/awesome-notebooks/master/OpenAI/OpenAI_Write_a_blog_post.ipynb\" target=\"_parent\"><img src=\"https://naasai-public.s3.eu-west-3.amazonaws.com/open_in_naas.svg\"/></a><br><br><a href=\"https://github.com/jupyter-naas/awesome-notebooks/issues/new?assignees=&labels=&template=template-request.md&title=Tool+-+Action+of+the+notebook+\">Template request</a> | <a href=\"https://github.com/jupyter-naas/awesome-notebooks/issues/new?assignees=&labels=bug&template=bug_report.md&title=OpenAI+-+Write+a+blog+post:+Error+short+description\">Bug report</a>"
   ]
  },
  {
   "cell_type": "markdown",
   "id": "dc3a30d6-7cee-4da3-8898-6257bd39fd08",
   "metadata": {
    "papermill": {},
    "tags": []
   },
   "source": [
    "**Tags:** #openai #blogpost #writing #ai #machinelearning #deeplearning"
   ]
  },
  {
   "cell_type": "markdown",
   "id": "c4a95678-3f89-408f-99f3-ddee91fa7154",
   "metadata": {
    "papermill": {},
    "tags": []
   },
   "source": [
    "**Author:** [Florent Ravenel](https://www.linkedin.com/in/florent-ravenel/)"
   ]
  },
  {
   "cell_type": "markdown",
   "id": "eb3184c1-374f-4028-983a-60d60f25048b",
   "metadata": {
    "papermill": {},
    "tags": []
   },
   "source": [
    "**Description:** This notebook will provide a step-by-step guide to writing a blog post using OpenAI."
   ]
  },
  {
   "cell_type": "markdown",
   "id": "1d721830-66ab-4e40-ae43-1d2595af31f7",
   "metadata": {
    "papermill": {},
    "tags": []
   },
   "source": [
    "**References:**\n",
    "- [OpenAI Documentation](https://openai.com/docs/)\n",
    "- [Writing a Blog Post](https://www.wikihow.com/Write-a-Blog-Post)"
   ]
  },
  {
   "cell_type": "markdown",
   "id": "94e5f548-7f46-4a82-a218-c3296047e4b2",
   "metadata": {
    "papermill": {},
    "tags": []
   },
   "source": [
    "## Input"
   ]
  },
  {
   "cell_type": "markdown",
   "id": "4d1d2edb-5977-4ea7-86b7-ec96413f0f5d",
   "metadata": {
    "papermill": {},
    "tags": []
   },
   "source": [
    "### Import libraries"
   ]
  },
  {
   "cell_type": "code",
   "execution_count": null,
   "id": "cff1d3ec-9598-45c0-836c-6b516f08c5cc",
   "metadata": {
    "papermill": {},
    "tags": []
   },
   "outputs": [],
   "source": [
    "try:\n",
    "    import openai\n",
    "except:\n",
    "    !pip install openai --user\n",
    "    import openai\n",
    "import naas"
   ]
  },
  {
   "cell_type": "markdown",
   "id": "eccab150-e3a2-464f-818c-bf7e2dc05a42",
   "metadata": {
    "papermill": {},
    "tags": []
   },
   "source": [
    "### Setup Variables\n",
    "- `api_key`: OpenAI API key, to obtain an OpenAI API key, please refer to the [OpenAI Documentation](https://openai.com/docs/).\n",
    "- `topic`: the topic of the blog post\n",
    "- `tone`: the tone of the blog post\n",
    "- `characters`: the number of characters of the blog post\n",
    "\n",
    "\n",
    "<u>About \"tone\"</u>\n",
    "\n",
    "Here are some different tones you can use for a blog post:\n",
    "- Formal: Use proper language, professional terms, and formal sentence structures. This tone is best used for academic or business-related blog posts.\n",
    "- Informative: Stick to facts and provide helpful information. Avoid adding your opinion and present the content in a straightforward and objective manner.\n",
    "- Conversational: Write as if you're talking to a friend. Use casual language, contractions, and personal anecdotes. This tone is best suited for lifestyle or personal blogs.\n",
    "- Inspirational: Write in a way that motivates and encourages readers. Use positive language, inspiring stories, and uplifting messages.\n",
    "- Humorous: Add some humor and make readers laugh. Use witty remarks, funny anecdotes, and sarcastic comments to engage readers.\n",
    "- Persuasive: Try to persuade readers to take action or change their mind about a topic. Use strong arguments, statistics, and emotional appeals to convince readers.\n",
    "- Opinionated: Share your personal opinion on a topic. Use strong language, personal experiences, and bold statements to express your views.\n",
    "- Educational: Teach readers something new. Use step-by-step instructions, infographics, and helpful tips to educate readers on a topic.\n",
    "- Critical: Analyze a topic critically and provide a detailed analysis. Use logic, reasoning, and evidence to support your arguments.\n",
    "- Empathetic: Write in a way that connects with readers on an emotional level. Use empathy, compassion, and understanding to create a sense of community and support."
   ]
  },
  {
   "cell_type": "code",
   "execution_count": null,
   "id": "46c97539-9bb6-4717-903c-3317a6c66de7",
   "metadata": {
    "papermill": {},
    "tags": []
   },
   "outputs": [],
   "source": [
    "# Inputs\n",
    "api_key = naas.secret.get(name=\"OPENAI_API_KEY\") or \"ENTER_YOUR_OPENAI_API_KEY\"\n",
    "topic = \"OpenAI and chatGPT\"\n",
    "tone = \"Informative\"\n",
    "characters = 1000\n",
    "# prompt = f\"Write a {tone} blog post about {topic} with {characters} words.\"\n",
    "prompt = f\"Write a {characters} characters blog post about {topic} with a {tone} tone and a catchy headline\"\n",
    "\n",
    "# Outputs\n",
    "file_path = f\"Blog_Post_{topic.replace(' ', '_')}_{tone}_{characters}_characters.txt\""
   ]
  },
  {
   "cell_type": "markdown",
   "id": "ce1716f7-967a-477a-902f-39e9ee5f8578",
   "metadata": {
    "papermill": {},
    "tags": []
   },
   "source": [
    "## Model"
   ]
  },
  {
   "cell_type": "markdown",
   "id": "8448e930-2420-4617-8f8c-72a611a8a032",
   "metadata": {
    "papermill": {},
    "tags": []
   },
   "source": [
    "### Send requests to OpenAI API"
   ]
  },
  {
   "cell_type": "code",
   "execution_count": null,
   "id": "7a12d190-ba2b-4199-89ec-01eea5ea25a0",
   "metadata": {
    "papermill": {},
    "tags": []
   },
   "outputs": [],
   "source": [
    "openai.api_key = api_key\n",
    "response = openai.Completion.create(\n",
    "    engine=\"text-davinci-003\",\n",
    "    prompt=prompt,\n",
    "    max_tokens=2084,\n",
    "    temperature=0.7,\n",
    "    top_p=0.9\n",
    ")"
   ]
  },
  {
   "cell_type": "markdown",
   "id": "79482609-ced4-41b6-8497-4ed99b44c2f1",
   "metadata": {
    "papermill": {},
    "tags": []
   },
   "source": [
    "### Get text"
   ]
  },
  {
   "cell_type": "code",
   "execution_count": null,
   "id": "c722754b-ccdf-4645-a6ad-70636160906c",
   "metadata": {
    "papermill": {},
    "tags": []
   },
   "outputs": [],
   "source": [
    "text = response['choices'][0]['text']\n",
    "print(text)"
   ]
  },
  {
   "cell_type": "markdown",
   "id": "815d8aed-11b0-45c9-8025-198e7741d531",
   "metadata": {
    "papermill": {},
    "tags": []
   },
   "source": [
    "## Output"
   ]
  },
  {
   "cell_type": "markdown",
   "id": "21e6a92f-64dd-4433-ba35-30cdcb938669",
   "metadata": {
    "papermill": {},
    "tags": []
   },
   "source": [
    "### Save text to txt file"
   ]
  },
  {
   "cell_type": "code",
   "execution_count": null,
   "id": "1ed6a049-5cf6-4e18-9be4-d33157d63c2a",
   "metadata": {
    "papermill": {},
    "tags": []
   },
   "outputs": [],
   "source": [
    "text_file = open(file_path, \"w\")\n",
    "text_file.write(text)\n",
    "text_file.close()"
   ]
  }
 ],
 "metadata": {
  "kernelspec": {
   "display_name": "Python 3",
   "language": "python",
   "name": "python3"
  },
  "language_info": {
   "codemirror_mode": {
    "name": "ipython",
    "version": 3
   },
   "file_extension": ".py",
   "mimetype": "text/x-python",
   "name": "python",
   "nbconvert_exporter": "python",
   "pygments_lexer": "ipython3",
   "version": "3.9.6"
  },
  "papermill": {
   "default_parameters": {},
   "environment_variables": {},
   "parameters": {},
   "version": "2.4.0"
  },
  "widgets": {
   "application/vnd.jupyter.widget-state+json": {
    "state": {},
    "version_major": 2,
    "version_minor": 0
   }
  }
 },
 "nbformat": 4,
 "nbformat_minor": 5
}