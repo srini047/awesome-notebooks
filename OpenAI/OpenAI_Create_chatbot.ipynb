{
 "cells": [
  {
   "cell_type": "markdown",
   "id": "0997b123-01f6-4d9c-8150-f462ab4d6f78",
   "metadata": {
    "papermill": {},
    "tags": []
   },
   "source": [
    "<img width=\"10%\" alt=\"Naas\" src=\"https://landen.imgix.net/jtci2pxwjczr/assets/5ice39g4.png?w=160\"/>"
   ]
  },
  {
   "cell_type": "markdown",
   "id": "52dd5cfe-6599-441a-b94a-c70fcb3458d4",
   "metadata": {
    "papermill": {},
    "tags": []
   },
   "source": [
    "# OpenAI - Create chatbot\n",
    "<a href=\"https://app.naas.ai/user-redirect/naas/downloader?url=https://raw.githubusercontent.com/jupyter-naas/awesome-notebooks/master/OpenAI/OpenAI_Create_chatbot.ipynb\" target=\"_parent\"><img src=\"https://naasai-public.s3.eu-west-3.amazonaws.com/Open_in_Naas_Lab.svg\"/></a><br><br><a href=\"https://github.com/jupyter-naas/awesome-notebooks/issues/new?assignees=&labels=&template=template-request.md&title=Tool+-+Action+of+the+notebook+\">Template request</a> | <a href=\"https://github.com/jupyter-naas/awesome-notebooks/issues/new?assignees=&labels=bug&template=bug_report.md&title=OpenAI+-+Create+chatbot:+Error+short+description\">Bug report</a> | <a href=\"https://app.naas.ai/user-redirect/naas/downloader?url=https://raw.githubusercontent.com/jupyter-naas/awesome-notebooks/master/Naas/Naas_Start_data_product.ipynb\" target=\"_parent\">Generate Data Product</a>"
   ]
  },
  {
   "cell_type": "markdown",
   "id": "1dc20ce3-b502-42f7-8deb-6e874cb72d4e",
   "metadata": {
    "papermill": {},
    "tags": []
   },
   "source": [
    "**Tags:** #openai #chatbot #conversation #ai #nlp #python"
   ]
  },
  {
   "cell_type": "markdown",
   "id": "fbf26d9e-62f2-4daf-823a-2fb8cd3ba21f",
   "metadata": {
    "papermill": {},
    "tags": []
   },
   "source": [
    "**Author:** [Florent Ravenel](https://www.linkedin.com/in/florent-ravenel/)"
   ]
  },
  {
   "cell_type": "markdown",
   "id": "7af2171d-57b0-4883-8d79-531a89774f03",
   "metadata": {
    "papermill": {},
    "tags": []
   },
   "source": [
    "**Description:** This notebook create a chat conversation with OpenAI based on the initial system information. To stop it, just write \"STOP\" in the user input section."
   ]
  },
  {
   "cell_type": "markdown",
   "id": "ece2e4d1-d9da-439e-8e0f-1ff195657efd",
   "metadata": {
    "papermill": {},
    "tags": []
   },
   "source": [
    "**References:**\n",
    "- [OpenAI API Reference](https://platform.openai.com/docs/api-reference/chat/create?lang=python)\n",
    "- [OpenAI Documentation](https://openai.com/docs/)"
   ]
  },
  {
   "cell_type": "markdown",
   "id": "54e5a86d-0204-4147-a642-d8319923bc38",
   "metadata": {
    "papermill": {},
    "tags": []
   },
   "source": [
    "## Input"
   ]
  },
  {
   "cell_type": "markdown",
   "id": "124658af-9ebc-4847-9a36-81539336fbb2",
   "metadata": {
    "papermill": {},
    "tags": []
   },
   "source": [
    "### Import libraries"
   ]
  },
  {
   "cell_type": "code",
   "execution_count": 6,
   "id": "0a915d31-25e8-436d-92c3-b13a9f939b0b",
   "metadata": {
    "papermill": {},
    "tags": []
   },
   "outputs": [],
   "source": [
    "try:\n",
    "    import openai\n",
    "except:\n",
    "    !pip install openai --user\n",
    "    import openai\n",
    "import naas"
   ]
  },
  {
   "cell_type": "markdown",
   "id": "86d0e9cf-7c95-45b4-b07e-a46c492a1c03",
   "metadata": {
    "papermill": {},
    "tags": []
   },
   "source": [
    "### Setup Variables\n",
    "- `api_key`: OpenAI API key. [Get your API key here](https://openai.com/docs/api-overview/).\n",
    "- `model`: ID of the model to use. You can find a list of available models and their IDs on the [OpenAI API documentation](https://platform.openai.com/docs/models/overview).\n",
    "- `temperature` (Defaults to 1): This is a value that controls the level of randomness in the generated text. A temperature of 0 will result in the most deterministic output, while higher values will result in more diverse and unpredictable output.\n",
    "- `max_tokens` (Defaults to 16): This is the maximum number of tokens (words or phrases) that the API should return in its response. The larger the value of max_tokens, the more text the API can generate, but it will also take longer for the API to generate the response. The token count of your prompt plus max_tokens cannot exceed the model's context length. Most models have a context length of 2048 tokens (except for the newest models, which support 4096).\n",
    "- `messages_role`: The role of the author of this message. One of system, user, or assistant.\n",
    "- `messages_system`: The contents of the message.\n",
    "- `messages`: A list of messages describing the conversation so far."
   ]
  },
  {
   "cell_type": "code",
   "execution_count": 2,
   "id": "e500dd83-60f6-4184-90b0-169cdbcf1acd",
   "metadata": {
    "papermill": {},
    "tags": []
   },
   "outputs": [],
   "source": [
    "api_key = naas.secret.get(name=\"OPENAI_API_KEY\") or \"ENTER_YOUR_OPENAI_API_KEY\"\n",
    "model = \"gpt-3.5-turbo\"\n",
    "temperature = 1\n",
    "max_tokens = 2084\n",
    "messages_role = \"system\"\n",
    "messages_system = f\"\"\"\n",
    "Act as a chef whose name is Florent. \n",
    "Suggest delicious recipes that includes foods which are nutritionally beneficial but \n",
    "also easy & not time consuming enough therefore suitable for busy people like us among other factors such as cost effectiveness \n",
    "so overall dish ends up being healthy yet economical at same time! \n",
    "In your first message, you will present yourself and what you can do.\n",
    "You will start asking the user about its diet, health habbit and location and what he/she expect from you (a meal plan for the week, a dinner for friends,..) with questions in bullet point.\n",
    "\"\"\"\n",
    "messages = [\n",
    "    {\"role\": messages_role, \"content\": messages_system}\n",
    "]"
   ]
  },
  {
   "cell_type": "markdown",
   "id": "a84ce453-cb1b-483d-94e8-9c62e2a6b346",
   "metadata": {
    "papermill": {},
    "tags": []
   },
   "source": [
    "## Model"
   ]
  },
  {
   "cell_type": "markdown",
   "id": "e7ab386c-b55a-4261-9c33-54f515745388",
   "metadata": {
    "papermill": {},
    "tags": []
   },
   "source": [
    "### Connect with API key"
   ]
  },
  {
   "cell_type": "code",
   "execution_count": 3,
   "id": "33320209-7493-4ffd-b204-381624f4e778",
   "metadata": {
    "papermill": {},
    "tags": []
   },
   "outputs": [],
   "source": [
    "openai.api_key = api_key"
   ]
  },
  {
   "cell_type": "markdown",
   "id": "2946fd13-78f0-4b97-9afe-f12c4b521ccd",
   "metadata": {
    "papermill": {},
    "tags": []
   },
   "source": [
    "### Create Chatbot"
   ]
  },
  {
   "cell_type": "code",
   "execution_count": 4,
   "id": "5f99dbce-c2ef-4f57-ac8f-f052b4c35954",
   "metadata": {
    "papermill": {},
    "tags": []
   },
   "outputs": [],
   "source": [
    "def create_openai_chatbot(messages):\n",
    "    print(\"Role: ⚙️\", messages[0].get(\"role\").capitalize())\n",
    "    print(messages[0].get(\"content\"))\n",
    "    i = 0\n",
    "    while True:\n",
    "        # Create chat completion\n",
    "        completion = openai.ChatCompletion.create(\n",
    "            model=model,\n",
    "            messages=messages,\n",
    "            temperature=temperature,\n",
    "            max_tokens=max_tokens\n",
    "        )\n",
    "        \n",
    "        # Display assistant result\n",
    "        role = completion.choices[0].message.role\n",
    "        content = completion.choices[0].message.content\n",
    "        print()\n",
    "        print(f\"Role: 🤖 {role.capitalize()}\")\n",
    "        print()\n",
    "        print(content)\n",
    "        messages.append({\"role\": role, \"content\": content})\n",
    "        i += 1\n",
    "        \n",
    "        # Ask for user content\n",
    "        print()\n",
    "        print(\"Role: 👤 User\")\n",
    "        print()\n",
    "        user_content = input()\n",
    "        messages.append({\"role\": \"user\", \"content\": user_content})\n",
    "        if user_content == \"STOP\":\n",
    "            print(\"🛑 Chatbot Stopped!\")\n",
    "            break"
   ]
  },
  {
   "cell_type": "markdown",
   "id": "3b9f5447-19b7-40e0-b01d-28e46b3028cc",
   "metadata": {
    "papermill": {},
    "tags": []
   },
   "source": [
    "## Output"
   ]
  },
  {
   "cell_type": "markdown",
   "id": "aebaa9a8-c969-42fd-8ea2-76cf12b52297",
   "metadata": {
    "papermill": {},
    "tags": []
   },
   "source": [
    "### Run Chatbot"
   ]
  },
  {
   "cell_type": "code",
   "execution_count": 5,
   "id": "df5690d5-83f1-4722-a16d-09e31ed2ae15",
   "metadata": {
    "papermill": {},
    "tags": []
   },
   "outputs": [],
   "source": [
    "create_openai_chatbot(messages)"
   ]
  },
  {
   "cell_type": "markdown",
   "id": "4921d9bf-ad07-4de2-bdf5-353d4d2147ca",
   "metadata": {
    "papermill": {},
    "tags": []
   },
   "source": [
    " "
   ]
  }
 ],
 "metadata": {
  "kernelspec": {
   "display_name": "Python 3",
   "language": "python",
   "name": "python3"
  },
  "language_info": {
   "codemirror_mode": {
    "name": "ipython",
    "version": 3
   },
   "file_extension": ".py",
   "mimetype": "text/x-python",
   "name": "python",
   "nbconvert_exporter": "python",
   "pygments_lexer": "ipython3",
   "version": "3.9.6"
  },
  "naas": {
   "notebook_id": "80af0a91b7797150d190e1dbab405133c6fb5be12cf1043b33c2709ee7eacdaa",
   "notebook_path": "OpenAI/OpenAI_Create_chatbot.ipynb"
  },
  "papermill": {
   "default_parameters": {},
   "environment_variables": {},
   "parameters": {},
   "version": "2.4.0"
  },
  "widgets": {
   "application/vnd.jupyter.widget-state+json": {
    "state": {},
    "version_major": 2,
    "version_minor": 0
   }
  }
 },
 "nbformat": 4,
 "nbformat_minor": 5
}