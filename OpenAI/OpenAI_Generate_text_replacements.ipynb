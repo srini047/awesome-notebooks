{
 "cells": [
  {
   "cell_type": "markdown",
   "id": "36ec30fa-46e5-4d72-998a-9c0a6c25d5e4",
   "metadata": {
    "execution": {
     "iopub.execute_input": "2023-03-23T12:53:21.399782Z",
     "iopub.status.busy": "2023-03-23T12:53:21.399431Z",
     "iopub.status.idle": "2023-03-23T12:53:21.424514Z",
     "shell.execute_reply": "2023-03-23T12:53:21.423491Z",
     "shell.execute_reply.started": "2023-03-23T12:53:21.399688Z"
    },
    "papermill": {},
    "tags": []
   },
   "source": [
    "<img width=\"10%\" alt=\"Naas\" src=\"https://landen.imgix.net/jtci2pxwjczr/assets/5ice39g4.png?w=160\"/>"
   ]
  },
  {
   "cell_type": "markdown",
   "id": "566e5aad-8343-42cc-b688-95d932b72a78",
   "metadata": {
    "papermill": {},
    "tags": []
   },
   "source": [
    "# OpenAI - Generate text replacements\n",
    "<a href=\"https://app.naas.ai/user-redirect/naas/downloader?url=https://raw.githubusercontent.com/jupyter-naas/awesome-notebooks/master/OpenAI/OpenAI_Generate_text_replacements.ipynb\" target=\"_parent\"><img src=\"https://naasai-public.s3.eu-west-3.amazonaws.com/Open_in_Naas_Lab.svg\"/></a><br><br><a href=\"https://github.com/jupyter-naas/awesome-notebooks/issues/new?assignees=&labels=&template=template-request.md&title=Tool+-+Action+of+the+notebook+\">Template request</a> | <a href=\"https://github.com/jupyter-naas/awesome-notebooks/issues/new?assignees=&labels=bug&template=bug_report.md&title=OpenAI+-+Generate+text+replacements:+Error+short+description\">Bug report</a> | <a href=\"https://app.naas.ai/user-redirect/naas/downloader?url=https://raw.githubusercontent.com/jupyter-naas/awesome-notebooks/master/Naas/Naas_Start_data_product.ipynb\" target=\"_parent\">Generate Data Product</a>"
   ]
  },
  {
   "cell_type": "markdown",
   "id": "879a6a66-275f-40af-a278-a12b699cbf90",
   "metadata": {
    "execution": {
     "iopub.execute_input": "2023-03-23T12:54:11.668783Z",
     "iopub.status.busy": "2023-03-23T12:54:11.668553Z",
     "iopub.status.idle": "2023-03-23T12:54:11.681702Z",
     "shell.execute_reply": "2023-03-23T12:54:11.680760Z",
     "shell.execute_reply.started": "2023-03-23T12:54:11.668762Z"
    },
    "papermill": {},
    "tags": []
   },
   "source": [
    "**Tags:** #openai #text_replacement"
   ]
  },
  {
   "cell_type": "markdown",
   "id": "964af154-b16f-411f-9c7f-390115842adb",
   "metadata": {
    "execution": {
     "iopub.execute_input": "2023-03-23T12:54:37.477654Z",
     "iopub.status.busy": "2023-03-23T12:54:37.477430Z",
     "iopub.status.idle": "2023-03-23T12:54:37.485378Z",
     "shell.execute_reply": "2023-03-23T12:54:37.484522Z",
     "shell.execute_reply.started": "2023-03-23T12:54:37.477631Z"
    },
    "papermill": {},
    "tags": []
   },
   "source": [
    "**Author:** [Mohit Singh](https://www.linkedin.com/in/mohwits/)"
   ]
  },
  {
   "cell_type": "markdown",
   "id": "353d1f89-6a51-40f3-bd8a-9ca45fe5e4c7",
   "metadata": {
    "papermill": {},
    "tags": []
   },
   "source": [
    "**Description:** This notebook shows how to use the OpenAI API to generate text replacements such as correcting grammatical errors or making text more formal."
   ]
  },
  {
   "cell_type": "markdown",
   "id": "388c987d-b1ae-4a5c-99ba-abd671c91914",
   "metadata": {
    "papermill": {},
    "tags": []
   },
   "source": [
    "## Input"
   ]
  },
  {
   "cell_type": "code",
   "execution_count": null,
   "id": "4d564f31-00ac-4eca-a4d2-7881995fffa5",
   "metadata": {
    "papermill": {},
    "tags": []
   },
   "outputs": [],
   "source": [
    "import naas\n",
    "import os\n",
    "# OpenAI\n",
    "try:\n",
    "    import openai\n",
    "except ModuleNotFoundError:\n",
    "    !pip install openai\n",
    "    import openai"
   ]
  },
  {
   "cell_type": "markdown",
   "id": "8eb0a150-c872-4019-8126-feafd87393c6",
   "metadata": {
    "execution": {
     "iopub.execute_input": "2023-03-23T12:56:22.407098Z",
     "iopub.status.busy": "2023-03-23T12:56:22.406867Z",
     "iopub.status.idle": "2023-03-23T12:56:22.415789Z",
     "shell.execute_reply": "2023-03-23T12:56:22.414809Z",
     "shell.execute_reply.started": "2023-03-23T12:56:22.407075Z"
    },
    "papermill": {},
    "tags": []
   },
   "source": [
    "### Setup Variables\n",
    "- `api_key`: OpenAI API key, to obtain an OpenAI API key, please refer to the [OpenAI Documentation](https://openai.com/docs/).\n",
    "- `text`: the text to be corrected"
   ]
  },
  {
   "cell_type": "code",
   "execution_count": null,
   "id": "d6ff7c32-fe2a-4e26-a413-401686f7f54b",
   "metadata": {
    "papermill": {},
    "tags": []
   },
   "outputs": [],
   "source": [
    "# api key\n",
    "openai.api_key = naas.secret.get(\"OPENAI_API_KEY\")\n",
    "\n",
    "# prompt for open ai\n",
    "prompt = 'Correct the grammatical error and make the text formal.\\n'\n",
    "\n",
    "# prompt to enter text to be corrected\n",
    "text = input('Enter your text:')"
   ]
  },
  {
   "cell_type": "code",
   "execution_count": null,
   "id": "7688c51b-ca40-4241-8c0d-d38c71ae594b",
   "metadata": {
    "papermill": {},
    "tags": []
   },
   "outputs": [],
   "source": [
    "# complete prompt to be passed to model\n",
    "complete_prompt = prompt + text"
   ]
  },
  {
   "cell_type": "markdown",
   "id": "c9c86945-858c-4d65-8051-bd5195a6cb3d",
   "metadata": {
    "papermill": {},
    "tags": []
   },
   "source": [
    "## Model"
   ]
  },
  {
   "cell_type": "markdown",
   "id": "73d7dd62-e5c7-4ae7-85e9-e943ba07ab86",
   "metadata": {
    "papermill": {},
    "tags": []
   },
   "source": [
    "### Establish connection with OpenAI and get the response"
   ]
  },
  {
   "cell_type": "code",
   "execution_count": null,
   "id": "ecdae4f5-f96a-4282-b142-3d9077541443",
   "metadata": {
    "papermill": {},
    "tags": []
   },
   "outputs": [],
   "source": [
    "response = openai.Completion.create(\n",
    "  model=\"text-davinci-003\",\n",
    "  prompt=complete_prompt,\n",
    "  temperature=0.7,\n",
    "  max_tokens=256,\n",
    "  top_p=1.0,\n",
    "  frequency_penalty=0.0,\n",
    "  presence_penalty=0.0\n",
    ")"
   ]
  },
  {
   "cell_type": "code",
   "execution_count": null,
   "id": "26b1aab7-edf5-4092-8d8a-d3da69761c2c",
   "metadata": {
    "papermill": {},
    "tags": []
   },
   "outputs": [],
   "source": [
    "# get the text with replacements from response generated\n",
    "new_text = response.choices[0].text"
   ]
  },
  {
   "cell_type": "markdown",
   "id": "8297a9dd-170e-4b25-8a66-e5d5ceb24274",
   "metadata": {
    "papermill": {},
    "tags": []
   },
   "source": [
    "## Output"
   ]
  },
  {
   "cell_type": "code",
   "execution_count": null,
   "id": "09d0e179-a9d0-48e9-9063-b7d6c3e2cecd",
   "metadata": {
    "papermill": {},
    "tags": []
   },
   "outputs": [],
   "source": [
    "#printing the text generated\n",
    "print(new_text)"
   ]
  }
 ],
 "metadata": {
  "kernelspec": {
   "display_name": "Python 3",
   "language": "python",
   "name": "python3"
  },
  "language_info": {
   "codemirror_mode": {
    "name": "ipython",
    "version": 3
   },
   "file_extension": ".py",
   "mimetype": "text/x-python",
   "name": "python",
   "nbconvert_exporter": "python",
   "pygments_lexer": "ipython3",
   "version": "3.9.6"
  },
  "naas": {
   "notebook_id": "fd2a1ab9606a02f8b8004c754a617821290a3e99ba1f9c7e610be1423d93a261",
   "notebook_path": "OpenAI/OpenAI_Generate_text_replacements.ipynb"
  },
  "papermill": {
   "default_parameters": {},
   "environment_variables": {},
   "parameters": {},
   "version": "2.4.0"
  }
 },
 "nbformat": 4,
 "nbformat_minor": 5
}