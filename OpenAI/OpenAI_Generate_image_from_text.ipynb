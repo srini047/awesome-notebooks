{
 "cells": [
  {
   "cell_type": "markdown",
   "id": "a2d4991d-7967-4b12-a640-87dbe7a31227",
   "metadata": {
    "papermill": {},
    "tags": []
   },
   "source": [
    "<img width=\"10%\" alt=\"Naas\" src=\"https://landen.imgix.net/jtci2pxwjczr/assets/5ice39g4.png?w=160\"/>"
   ]
  },
  {
   "cell_type": "markdown",
   "id": "e69cd584-7a96-474c-8174-a7b87e923462",
   "metadata": {
    "papermill": {},
    "tags": []
   },
   "source": [
    "# OpenAI - Generate image from text\n",
    "<a href=\"https://app.naas.ai/user-redirect/naas/downloader?url=https://raw.githubusercontent.com/jupyter-naas/awesome-notebooks/master/OpenAI/OpenAI_Generate_image_from_text.ipynb\" target=\"_parent\"><img src=\"https://naasai-public.s3.eu-west-3.amazonaws.com/Open_in_Naas_Lab.svg\"/></a><br><br><a href=\"https://github.com/jupyter-naas/awesome-notebooks/issues/new?assignees=&labels=&template=template-request.md&title=Tool+-+Action+of+the+notebook+\">Template request</a> | <a href=\"https://github.com/jupyter-naas/awesome-notebooks/issues/new?assignees=&labels=bug&template=bug_report.md&title=OpenAI+-+Generate+image+from+text:+Error+short+description\">Bug report</a> | <a href=\"https://app.naas.ai/user-redirect/naas/downloader?url=https://raw.githubusercontent.com/jupyter-naas/awesome-notebooks/master/Naas/Naas_Start_data_product.ipynb\" target=\"_parent\">Generate Data Product</a>"
   ]
  },
  {
   "cell_type": "markdown",
   "id": "c5429210-8e74-47ab-9df2-78bda8aaf36c",
   "metadata": {
    "papermill": {},
    "tags": []
   },
   "source": [
    "**Tags:** #openai #image #text #generation"
   ]
  },
  {
   "cell_type": "markdown",
   "id": "f36de352-ce89-446f-a07c-6cc91666ce6d",
   "metadata": {
    "papermill": {},
    "tags": []
   },
   "source": [
    "**Author:** [Jeremy Ravenel](https://www.linkedin.com/in/jeremyravenel)"
   ]
  },
  {
   "cell_type": "markdown",
   "id": "974f8b06-0685-485f-811e-912d15a3f686",
   "metadata": {
    "papermill": {},
    "tags": []
   },
   "source": [
    "**Description:** This notebook shows how to use the OpenAI API to make create images from text using Dall-E."
   ]
  },
  {
   "cell_type": "markdown",
   "id": "349579a6-de83-4471-8351-e1a2f15cc88d",
   "metadata": {
    "papermill": {},
    "tags": []
   },
   "source": [
    "**References:**\n",
    "- [Dall-E](https://openai.com/research/dall-e)"
   ]
  },
  {
   "cell_type": "markdown",
   "id": "a02050cf-cf65-4318-8f35-034f9cb3b5e2",
   "metadata": {
    "papermill": {},
    "tags": []
   },
   "source": [
    "## Input"
   ]
  },
  {
   "cell_type": "markdown",
   "id": "df326cbc-c170-4bc7-8359-36a0f3f3a7e4",
   "metadata": {
    "execution": {
     "iopub.execute_input": "2023-03-08T08:54:16.569865Z",
     "iopub.status.busy": "2023-03-08T08:54:16.569555Z",
     "iopub.status.idle": "2023-03-08T08:54:16.572967Z",
     "shell.execute_reply": "2023-03-08T08:54:16.572292Z",
     "shell.execute_reply.started": "2023-03-08T08:54:16.569777Z"
    },
    "papermill": {},
    "tags": []
   },
   "source": [
    "### Install package"
   ]
  },
  {
   "cell_type": "code",
   "execution_count": null,
   "id": "dc99b9cd-8499-463f-b833-b98c87975f23",
   "metadata": {
    "papermill": {},
    "tags": []
   },
   "outputs": [],
   "source": [
    "import os\n",
    "try:\n",
    "    import openai # OpenAI Python library to make API calls\n",
    "    import requests  # used to download images\n",
    "    import os  # used to access filepaths\n",
    "    from PIL import Image  # used to print and edit images\n",
    "    import naas  # used to generate shareable image link\n",
    "except ModuleNotFoundError:\n",
    "    !pip install --user openai\n",
    "    import openai"
   ]
  },
  {
   "cell_type": "markdown",
   "id": "081b27e1-2bf7-4253-80ea-1310a65995a3",
   "metadata": {
    "papermill": {},
    "tags": []
   },
   "source": [
    "### Setup Variables\n",
    "- `api_key`: OpenAI API key. [Get your API key here](https://openai.com/docs/api-overview/).\n",
    "- `n` (int): The number of images to generate. Must be between 1 and 10. Defaults to 1.\n",
    "- `size` (str): The size of the generated images. Must be one of \"256x256\", \"512x512\", or \"1024x1024\". Smaller images are faster. Defaults to \"1024x1024\".\n",
    "- `response_format` (str): The format in which the generated images are returned. Must be one of \"url\" or \"b64_json\". Defaults to \"url\".\n",
    "- `user` (str): A unique identifier representing your end-user, which will help OpenAI to monitor and detect abuse. [Learn more.](https://beta.openai.com/docs/usage-policies/end-user-ids)"
   ]
  },
  {
   "cell_type": "code",
   "execution_count": null,
   "id": "4560b505-a968-47e5-b49a-66192ddabd42",
   "metadata": {
    "papermill": {},
    "tags": []
   },
   "outputs": [],
   "source": [
    "api_key = naas.secret.get(\"OPENAI_API_KEY\")\n",
    "prompt = \"A dragon spreading fire on a house, realistic art\"\n",
    "n = 1\n",
    "size = \"1024x1024\"\n",
    "response_format = \"url\""
   ]
  },
  {
   "cell_type": "markdown",
   "id": "bb9e691e-fc02-4eaa-8349-910f27fa10ba",
   "metadata": {
    "papermill": {},
    "tags": []
   },
   "source": [
    "## Model"
   ]
  },
  {
   "cell_type": "markdown",
   "id": "d12fcb26-0b2c-4ca4-a94e-7093cf29ffad",
   "metadata": {
    "papermill": {},
    "tags": []
   },
   "source": [
    "### Generate image"
   ]
  },
  {
   "cell_type": "code",
   "execution_count": null,
   "id": "2efe538b-4da9-4621-86b6-a4c6adc83706",
   "metadata": {
    "papermill": {},
    "tags": []
   },
   "outputs": [],
   "source": [
    "openai.api_key = api_key\n",
    "\n",
    "# call the OpenAI API\n",
    "generation_response = openai.Image.create(\n",
    "    prompt=prompt,\n",
    "    n=n,\n",
    "    size=size,\n",
    "    response_format=response_format,\n",
    ")\n",
    "\n",
    "# print response\n",
    "print(generation_response)"
   ]
  },
  {
   "cell_type": "markdown",
   "id": "46968c3a-23f5-4b43-9b05-de7a6af61d32",
   "metadata": {
    "execution": {
     "iopub.execute_input": "2023-06-06T08:11:26.121767Z",
     "iopub.status.busy": "2023-06-06T08:11:26.121481Z",
     "iopub.status.idle": "2023-06-06T08:11:26.127943Z",
     "shell.execute_reply": "2023-06-06T08:11:26.127247Z",
     "shell.execute_reply.started": "2023-06-06T08:11:26.121743Z"
    },
    "papermill": {},
    "tags": []
   },
   "source": [
    "### Save image"
   ]
  },
  {
   "cell_type": "code",
   "execution_count": null,
   "id": "f44718d4-14ea-4d41-bbe8-694304426dd5",
   "metadata": {
    "papermill": {},
    "tags": []
   },
   "outputs": [],
   "source": [
    "# set a directory to save DALL-E images to\n",
    "image_dir_name = \"images\"\n",
    "image_dir = os.path.join(os.curdir, image_dir_name)\n",
    "\n",
    "# create the directory if it doesn't yet exist\n",
    "if not os.path.isdir(image_dir):\n",
    "    os.mkdir(image_dir)\n",
    "\n",
    "# print the directory to save to\n",
    "print(f\"{image_dir=}\")\n",
    "\n",
    "# save the image\n",
    "generated_image_name = \"generated_image.png\"  # any name you like; the filetype should be .png\n",
    "generated_image_filepath = os.path.join(image_dir, generated_image_name)\n",
    "generated_image_url = generation_response[\"data\"][0][\"url\"]  # extract image URL from response\n",
    "generated_image = requests.get(generated_image_url).content  # download the image\n",
    "\n",
    "with open(generated_image_filepath, \"wb\") as image_file:\n",
    "    image_file.write(generated_image)  # write the image to the file"
   ]
  },
  {
   "cell_type": "markdown",
   "id": "e877a515-72a8-40c4-89a2-abe5c49ac77e",
   "metadata": {
    "papermill": {},
    "tags": []
   },
   "source": [
    "## Output"
   ]
  },
  {
   "cell_type": "markdown",
   "id": "145dc1b2-0166-4507-a5be-87019fe858b7",
   "metadata": {
    "execution": {
     "iopub.execute_input": "2023-06-06T08:14:51.638414Z",
     "iopub.status.busy": "2023-06-06T08:14:51.638183Z",
     "iopub.status.idle": "2023-06-06T08:14:51.641443Z",
     "shell.execute_reply": "2023-06-06T08:14:51.640689Z",
     "shell.execute_reply.started": "2023-06-06T08:14:51.638391Z"
    },
    "papermill": {},
    "tags": []
   },
   "source": [
    "### Show Image"
   ]
  },
  {
   "cell_type": "code",
   "execution_count": null,
   "id": "ae67f869-c12a-4b28-a4e7-5da526a4b924",
   "metadata": {
    "papermill": {},
    "tags": []
   },
   "outputs": [],
   "source": [
    "# print the image\n",
    "print(generated_image_filepath)\n",
    "display(Image.open(generated_image_filepath))"
   ]
  },
  {
   "cell_type": "markdown",
   "id": "cff1aa47-3635-4c49-b7c8-a750ed71464f",
   "metadata": {
    "papermill": {},
    "tags": []
   },
   "source": [
    "### Create shareable asset "
   ]
  },
  {
   "cell_type": "code",
   "execution_count": null,
   "id": "ee5e4bd4-6b5a-4728-876d-65063bf388aa",
   "metadata": {
    "papermill": {},
    "tags": []
   },
   "outputs": [],
   "source": [
    "naas.asset.add(generated_image_filepath)"
   ]
  }
 ],
 "metadata": {
  "kernelspec": {
   "display_name": "Python 3",
   "language": "python",
   "name": "python3"
  },
  "language_info": {
   "codemirror_mode": {
    "name": "ipython",
    "version": 3
   },
   "file_extension": ".py",
   "mimetype": "text/x-python",
   "name": "python",
   "nbconvert_exporter": "python",
   "pygments_lexer": "ipython3",
   "version": "3.9.6"
  },
  "naas": {
   "notebook_id": "7c89c1b529294dde50d26637c99788c03044af0f901bd4986f554996a3e2e8f3",
   "notebook_path": "OpenAI/OpenAI_Generate_image_from_text.ipynb"
  },
  "papermill": {
   "default_parameters": {},
   "environment_variables": {},
   "parameters": {},
   "version": "2.4.0"
  }
 },
 "nbformat": 4,
 "nbformat_minor": 5
}