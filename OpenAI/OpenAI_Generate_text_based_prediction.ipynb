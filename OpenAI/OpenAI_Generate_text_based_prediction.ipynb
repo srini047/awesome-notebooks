{
 "cells": [
  {
   "cell_type": "markdown",
   "id": "a2d4991d-7967-4b12-a640-87dbe7a31227",
   "metadata": {
    "papermill": {},
    "tags": []
   },
   "source": [
    "<img width=\"10%\" alt=\"Naas\" src=\"https://landen.imgix.net/jtci2pxwjczr/assets/5ice39g4.png?w=160\"/>"
   ]
  },
  {
   "cell_type": "markdown",
   "id": "e69cd584-7a96-474c-8174-a7b87e923462",
   "metadata": {
    "papermill": {},
    "tags": []
   },
   "source": [
    "# OpenAI - Generate text based prediction\n",
    "<a href=\"https://app.naas.ai/user-redirect/naas/downloader?url=https://raw.githubusercontent.com/jupyter-naas/awesome-notebooks/master/OpenAI/OpenAI_Generate_text_based_prediction.ipynb\" target=\"_parent\"><img src=\"https://naasai-public.s3.eu-west-3.amazonaws.com/Open_in_Naas_Lab.svg\"/></a><br><br><a href=\"https://github.com/jupyter-naas/awesome-notebooks/issues/new?assignees=&labels=&template=template-request.md&title=Tool+-+Action+of+the+notebook+\">Template request</a> | <a href=\"https://github.com/jupyter-naas/awesome-notebooks/issues/new?assignees=&labels=bug&template=bug_report.md&title=OpenAI+-+Generate+text+based+prediction:+Error+short+description\">Bug report</a> | <a href=\"https://app.naas.ai/user-redirect/naas/downloader?url=https://raw.githubusercontent.com/jupyter-naas/awesome-notebooks/master/Naas/Naas_Start_data_product.ipynb\" target=\"_parent\">Generate Data Product</a>"
   ]
  },
  {
   "cell_type": "markdown",
   "id": "c5429210-8e74-47ab-9df2-78bda8aaf36c",
   "metadata": {
    "papermill": {},
    "tags": []
   },
   "source": [
    "**Tags:** #openai #prediction #text"
   ]
  },
  {
   "cell_type": "markdown",
   "id": "f36de352-ce89-446f-a07c-6cc91666ce6d",
   "metadata": {
    "papermill": {},
    "tags": []
   },
   "source": [
    "**Author:** [Mohit Singh](https://www.linkedin.com/in/mohwits/)"
   ]
  },
  {
   "cell_type": "markdown",
   "id": "974f8b06-0685-485f-811e-912d15a3f686",
   "metadata": {
    "papermill": {},
    "tags": []
   },
   "source": [
    "**Description:** This notebook shows how to use the OpenAI API to make predictions based on text data"
   ]
  },
  {
   "cell_type": "markdown",
   "id": "a02050cf-cf65-4318-8f35-034f9cb3b5e2",
   "metadata": {
    "papermill": {},
    "tags": []
   },
   "source": [
    "## Input"
   ]
  },
  {
   "cell_type": "markdown",
   "id": "df326cbc-c170-4bc7-8359-36a0f3f3a7e4",
   "metadata": {
    "execution": {
     "iopub.execute_input": "2023-03-08T08:54:16.569865Z",
     "iopub.status.busy": "2023-03-08T08:54:16.569555Z",
     "iopub.status.idle": "2023-03-08T08:54:16.572967Z",
     "shell.execute_reply": "2023-03-08T08:54:16.572292Z",
     "shell.execute_reply.started": "2023-03-08T08:54:16.569777Z"
    },
    "papermill": {},
    "tags": []
   },
   "source": [
    "### Install package"
   ]
  },
  {
   "cell_type": "code",
   "execution_count": null,
   "id": "dc99b9cd-8499-463f-b833-b98c87975f23",
   "metadata": {
    "papermill": {},
    "tags": []
   },
   "outputs": [],
   "source": [
    "import os\n",
    "# OpenAI\n",
    "try:\n",
    "    import openai\n",
    "except ModuleNotFoundError:\n",
    "    !pip install --user openai\n",
    "    import openai"
   ]
  },
  {
   "cell_type": "markdown",
   "id": "081b27e1-2bf7-4253-80ea-1310a65995a3",
   "metadata": {
    "papermill": {},
    "tags": []
   },
   "source": [
    "### Setup Variables"
   ]
  },
  {
   "cell_type": "code",
   "execution_count": null,
   "id": "4560b505-a968-47e5-b49a-66192ddabd42",
   "metadata": {
    "papermill": {},
    "tags": []
   },
   "outputs": [],
   "source": [
    "# api key\n",
    "openai.api_key = \"OPENAI_API_KEY\"\n",
    "\n",
    "# prompt to make prediction\n",
    "prompt = input('Enter the prompt: ')\n",
    "\n",
    "# Outputs\n",
    "prediction = ''"
   ]
  },
  {
   "cell_type": "markdown",
   "id": "bb9e691e-fc02-4eaa-8349-910f27fa10ba",
   "metadata": {
    "papermill": {},
    "tags": []
   },
   "source": [
    "## Model"
   ]
  },
  {
   "cell_type": "markdown",
   "id": "d12fcb26-0b2c-4ca4-a94e-7093cf29ffad",
   "metadata": {
    "papermill": {},
    "tags": []
   },
   "source": [
    "### Establish connection with OpenAI and get the response"
   ]
  },
  {
   "cell_type": "code",
   "execution_count": null,
   "id": "2efe538b-4da9-4621-86b6-a4c6adc83706",
   "metadata": {
    "papermill": {},
    "tags": []
   },
   "outputs": [],
   "source": [
    "response = openai.Completion.create(\n",
    "  model=\"text-davinci-003\",\n",
    "  prompt=prompt,\n",
    "  temperature=0.7,\n",
    "  max_tokens=256,\n",
    "  top_p=1.0,\n",
    "  frequency_penalty=0.0,\n",
    "  presence_penalty=0.0\n",
    ")"
   ]
  },
  {
   "cell_type": "code",
   "execution_count": null,
   "id": "430dc808-048b-4ad4-9149-f962c5ccdd67",
   "metadata": {
    "papermill": {},
    "tags": []
   },
   "outputs": [],
   "source": [
    "# get the prediction from response generated\n",
    "prediction = response.choices[0].text"
   ]
  },
  {
   "cell_type": "markdown",
   "id": "e877a515-72a8-40c4-89a2-abe5c49ac77e",
   "metadata": {
    "papermill": {},
    "tags": []
   },
   "source": [
    "## Output"
   ]
  },
  {
   "cell_type": "code",
   "execution_count": null,
   "id": "da1a39f0-a036-4bc4-9c8d-b400efb9d355",
   "metadata": {
    "papermill": {},
    "tags": []
   },
   "outputs": [],
   "source": [
    "print(prediction)"
   ]
  }
 ],
 "metadata": {
  "kernelspec": {
   "display_name": "Python 3",
   "language": "python",
   "name": "python3"
  },
  "language_info": {
   "codemirror_mode": {
    "name": "ipython",
    "version": 3
   },
   "file_extension": ".py",
   "mimetype": "text/x-python",
   "name": "python",
   "nbconvert_exporter": "python",
   "pygments_lexer": "ipython3",
   "version": "3.9.6"
  },
  "naas": {
   "notebook_id": "5e3fa80c5c4704e4070b51b8cc7f3b4cd631b82a81621d798a826780aa00e474",
   "notebook_path": "OpenAI/OpenAI_Generate_text_based_prediction.ipynb"
  },
  "papermill": {
   "default_parameters": {},
   "environment_variables": {},
   "parameters": {},
   "version": "2.4.0"
  }
 },
 "nbformat": 4,
 "nbformat_minor": 5
}