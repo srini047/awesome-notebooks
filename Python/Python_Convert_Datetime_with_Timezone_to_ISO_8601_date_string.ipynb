{
 "cells": [
  {
   "cell_type": "markdown",
   "id": "a06bf374-99c5-4ad0-92e0-a0da3ea93267",
   "metadata": {
    "papermill": {},
    "tags": []
   },
   "source": [
    "<img width=\"10%\" alt=\"Naas\" src=\"https://landen.imgix.net/jtci2pxwjczr/assets/5ice39g4.png?w=160\"/>"
   ]
  },
  {
   "cell_type": "markdown",
   "id": "83a16942-fd1f-41c1-8848-950422aef831",
   "metadata": {
    "papermill": {},
    "tags": []
   },
   "source": [
    "# Python - Convert Datetime with Timezone to ISO 8601 date string\n",
    "<a href=\"https://app.naas.ai/user-redirect/naas/downloader?url=https://raw.githubusercontent.com/jupyter-naas/awesome-notebooks/master/Python/Python_Convert_Datetime_with_Timezone_to_ISO_8601_date_string.ipynb\" target=\"_parent\"><img src=\"https://naasai-public.s3.eu-west-3.amazonaws.com/Open_in_Naas_Lab.svg\"/></a><br><br><a href=\"https://github.com/jupyter-naas/awesome-notebooks/issues/new?assignees=&labels=&template=template-request.md&title=Tool+-+Action+of+the+notebook+\">Template request</a> | <a href=\"https://github.com/jupyter-naas/awesome-notebooks/issues/new?assignees=&labels=bug&template=bug_report.md&title=Python+-+Convert+Datetime+with+Timezone+to+ISO+8601+date+string:+Error+short+description\">Bug report</a> | <a href=\"https://app.naas.ai/user-redirect/naas/downloader?url=https://raw.githubusercontent.com/jupyter-naas/awesome-notebooks/master/Naas/Naas_Start_data_product.ipynb\" target=\"_parent\">Generate Data Product</a>"
   ]
  },
  {
   "cell_type": "markdown",
   "id": "f87f7d62-0c39-4cb6-9303-dfabc36aa0ae",
   "metadata": {
    "papermill": {},
    "tags": []
   },
   "source": [
    "**Tags:** #python #datetime #timezone #iso8601 #string #conversion"
   ]
  },
  {
   "cell_type": "markdown",
   "id": "2475267a-2e78-413b-9192-1ea7e3ee0e0b",
   "metadata": {
    "papermill": {},
    "tags": []
   },
   "source": [
    "**Author:** [Florent Ravenel](https://www.linkedin.com/in/florent-ravenel/)"
   ]
  },
  {
   "cell_type": "markdown",
   "id": "5027a01d-1d83-4d65-a29b-5ed7b7058cfe",
   "metadata": {
    "papermill": {},
    "tags": []
   },
   "source": [
    "**Description:** This notebook will demonstrate how to convert a datetime with timezone to an ISO 8601 date string."
   ]
  },
  {
   "cell_type": "markdown",
   "id": "0c157435-283a-4c86-9bf0-6d453594bbb5",
   "metadata": {
    "papermill": {},
    "tags": []
   },
   "source": [
    "<u>References:</u>\n",
    "- [Python datetime](https://docs.python.org/3/library/datetime.html)\n",
    "- [ISO 8601](https://en.wikipedia.org/wiki/ISO_8601)"
   ]
  },
  {
   "cell_type": "markdown",
   "id": "6255c022-d822-4176-a31e-d7b2e34d0908",
   "metadata": {
    "papermill": {},
    "tags": []
   },
   "source": [
    "## Input"
   ]
  },
  {
   "cell_type": "markdown",
   "id": "eb142f00-b98f-4a29-a424-5b3a687c2d10",
   "metadata": {
    "papermill": {},
    "tags": []
   },
   "source": [
    "### Import libraries"
   ]
  },
  {
   "cell_type": "code",
   "execution_count": 1,
   "id": "8942af04-ef6d-4fe5-abce-cdf062912eca",
   "metadata": {
    "papermill": {},
    "tags": []
   },
   "outputs": [],
   "source": [
    "from datetime import datetime\n",
    "import pytz"
   ]
  },
  {
   "cell_type": "markdown",
   "id": "3d07ed65-c115-4cb9-bfdb-46a2dcbbdb69",
   "metadata": {
    "papermill": {},
    "tags": []
   },
   "source": [
    "### Setup Variables\n",
    "- `date_time`: datetime with timezone"
   ]
  },
  {
   "cell_type": "code",
   "execution_count": 2,
   "id": "ed3a5350-9710-485f-a398-2c073549bb21",
   "metadata": {
    "papermill": {},
    "tags": []
   },
   "outputs": [],
   "source": [
    "date_time = datetime(2020, 8, 1, 12, 0, 0, tzinfo=pytz.timezone(\"Europe/Paris\"))\n",
    "print(date_time)"
   ]
  },
  {
   "cell_type": "markdown",
   "id": "9ccb0456-298a-4ec1-a8fe-69e8fde6dfb0",
   "metadata": {
    "papermill": {},
    "tags": []
   },
   "source": [
    "## Model"
   ]
  },
  {
   "cell_type": "markdown",
   "id": "b3b99b83-975d-4361-811a-ba6b48b89e71",
   "metadata": {
    "papermill": {},
    "tags": []
   },
   "source": [
    "### Convert datetime with timezone to ISO 8601 date string"
   ]
  },
  {
   "cell_type": "code",
   "execution_count": 3,
   "id": "6db4a241-16e6-47bb-b788-dfec94debbc2",
   "metadata": {
    "papermill": {},
    "tags": []
   },
   "outputs": [],
   "source": [
    "iso_date_string = date_time.isoformat()"
   ]
  },
  {
   "cell_type": "markdown",
   "id": "724c364a-87e5-4531-bc42-670f69802aa0",
   "metadata": {
    "papermill": {},
    "tags": []
   },
   "source": [
    "## Output"
   ]
  },
  {
   "cell_type": "markdown",
   "id": "ceadb216-636a-49d5-8502-9ae132cf7249",
   "metadata": {
    "papermill": {},
    "tags": []
   },
   "source": [
    "### Display result"
   ]
  },
  {
   "cell_type": "code",
   "execution_count": 4,
   "id": "827319e3-4f10-4030-b3fc-c9b4005e9111",
   "metadata": {
    "papermill": {},
    "tags": []
   },
   "outputs": [],
   "source": [
    "print(iso_date_string)"
   ]
  },
  {
   "cell_type": "markdown",
   "id": "57320624-cd4e-4bd6-ac78-6014763d5f86",
   "metadata": {
    "papermill": {},
    "tags": []
   },
   "source": [
    " "
   ]
  }
 ],
 "metadata": {
  "kernelspec": {
   "display_name": "Python 3",
   "language": "python",
   "name": "python3"
  },
  "language_info": {
   "codemirror_mode": {
    "name": "ipython",
    "version": 3
   },
   "file_extension": ".py",
   "mimetype": "text/x-python",
   "name": "python",
   "nbconvert_exporter": "python",
   "pygments_lexer": "ipython3",
   "version": "3.9.6"
  },
  "naas": {
   "notebook_id": "6ecbcc24aa72ffcd4dba78168b4bfc05f46a697de728b9192a9c21743b9fe43d",
   "notebook_path": "Python/Python_Convert_Datetime_with_Timezone_to_ISO_8601_date_string.ipynb"
  },
  "papermill": {
   "default_parameters": {},
   "environment_variables": {},
   "parameters": {},
   "version": "2.4.0"
  },
  "widgets": {
   "application/vnd.jupyter.widget-state+json": {
    "state": {},
    "version_major": 2,
    "version_minor": 0
   }
  }
 },
 "nbformat": 4,
 "nbformat_minor": 5
}