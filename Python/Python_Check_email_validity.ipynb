{
 "cells": [
  {
   "cell_type": "markdown",
   "id": "2c8321fa-40a0-4291-a49d-fae2de36949f",
   "metadata": {
    "papermill": {},
    "tags": []
   },
   "source": [
    "<img width=\"10%\" alt=\"Naas\" src=\"https://landen.imgix.net/jtci2pxwjczr/assets/5ice39g4.png?w=160\"/>"
   ]
  },
  {
   "cell_type": "markdown",
   "id": "78d115a2-ab51-4065-8667-7ca5030c7909",
   "metadata": {
    "papermill": {},
    "tags": []
   },
   "source": [
    "# Python - Check email validity\n",
    "<a href=\"https://app.naas.ai/user-redirect/naas/downloader?url=https://raw.githubusercontent.com/jupyter-naas/awesome-notebooks/master/Python/Python_Check_email_validity.ipynb\" target=\"_parent\"><img src=\"https://naasai-public.s3.eu-west-3.amazonaws.com/open_in_naas.svg\"/></a><br><br><a href=\"https://github.com/jupyter-naas/awesome-notebooks/issues/new?assignees=&labels=&template=template-request.md&title=Tool+-+Action+of+the+notebook+\">Template request</a> | <a href=\"https://github.com/jupyter-naas/awesome-notebooks/issues/new?assignees=&labels=bug&template=bug_report.md&title=Python+-+Check+email+validity:+Error+short+description\">Bug report</a>"
   ]
  },
  {
   "cell_type": "markdown",
   "id": "a57a7e1b-777d-4eef-8674-aefd34f80585",
   "metadata": {
    "papermill": {},
    "tags": []
   },
   "source": [
    "**Tags:** #python #email #validity #check #regex #string"
   ]
  },
  {
   "cell_type": "markdown",
   "id": "9f01e118-a2d7-4f16-a580-9ecdeca9e1f4",
   "metadata": {
    "papermill": {},
    "tags": []
   },
   "source": [
    "**Author:** [Florent Ravenel](https://www.linkedin.com/in/florent-ravenel/)"
   ]
  },
  {
   "cell_type": "markdown",
   "id": "678dfdd1-b4a7-40e0-b67e-3dd826c67d61",
   "metadata": {
    "papermill": {},
    "tags": []
   },
   "source": [
    "**Description:** This notebook will demonstrate how to check the validity of an email address using Python."
   ]
  },
  {
   "cell_type": "markdown",
   "id": "5a7a43ed-66b0-4083-a3f7-b9d494b2eab6",
   "metadata": {
    "papermill": {},
    "tags": []
   },
   "source": [
    "<u>References:</u>\n",
    "- [Python Regular Expressions](https://docs.python.org/3/library/re.html)\n",
    "- [Python String Methods](https://docs.python.org/3/library/stdtypes.html#string-methods)"
   ]
  },
  {
   "cell_type": "markdown",
   "id": "f25760b1-f912-4628-9119-0927280d8497",
   "metadata": {
    "papermill": {},
    "tags": []
   },
   "source": [
    "## Input"
   ]
  },
  {
   "cell_type": "markdown",
   "id": "91748146-2996-40b6-94dd-79d00cfa6d2e",
   "metadata": {
    "papermill": {},
    "tags": []
   },
   "source": [
    "### Import libraries"
   ]
  },
  {
   "cell_type": "code",
   "execution_count": 1,
   "id": "7c1d58d2-81ef-4092-97ca-723a82f6196f",
   "metadata": {
    "execution": {
     "iopub.execute_input": "2023-02-16T19:43:57.461549Z",
     "iopub.status.busy": "2023-02-16T19:43:57.461064Z",
     "iopub.status.idle": "2023-02-16T19:43:57.469757Z",
     "shell.execute_reply": "2023-02-16T19:43:57.469288Z",
     "shell.execute_reply.started": "2023-02-16T19:43:57.461435Z"
    },
    "papermill": {},
    "tags": []
   },
   "outputs": [],
   "source": [
    "import re"
   ]
  },
  {
   "cell_type": "markdown",
   "id": "a496e20b-b8f5-4209-8e28-96b203d44dd2",
   "metadata": {
    "papermill": {},
    "tags": []
   },
   "source": [
    "### Setup Variables\n",
    "- `email`: the email address to be checked"
   ]
  },
  {
   "cell_type": "code",
   "execution_count": 2,
   "id": "b9306c2d-a81d-4b2b-99cf-ca03c3782f24",
   "metadata": {
    "execution": {
     "iopub.execute_input": "2023-02-16T19:43:57.471216Z",
     "iopub.status.busy": "2023-02-16T19:43:57.470999Z",
     "iopub.status.idle": "2023-02-16T19:43:57.629035Z",
     "shell.execute_reply": "2023-02-16T19:43:57.628448Z",
     "shell.execute_reply.started": "2023-02-16T19:43:57.471189Z"
    },
    "papermill": {},
    "tags": []
   },
   "outputs": [],
   "source": [
    "email = \"florent.ravenel@gmail.com\""
   ]
  },
  {
   "cell_type": "markdown",
   "id": "bc569229-68c8-410b-8e97-e3f6d8bb65cc",
   "metadata": {
    "papermill": {},
    "tags": []
   },
   "source": [
    "## Model"
   ]
  },
  {
   "cell_type": "markdown",
   "id": "bd1500bf-d32e-4876-89da-8ecc713ef9e8",
   "metadata": {
    "papermill": {},
    "tags": []
   },
   "source": [
    "### Check email validity"
   ]
  },
  {
   "cell_type": "markdown",
   "id": "56759893-510f-4a20-a00f-f2c79262d907",
   "metadata": {
    "papermill": {},
    "tags": []
   },
   "source": [
    "This function will check the validity of an email address using a regular expression."
   ]
  },
  {
   "cell_type": "code",
   "execution_count": 3,
   "id": "eb42f2e8-69f3-4241-9b74-80827ca1d313",
   "metadata": {
    "execution": {
     "iopub.execute_input": "2023-02-16T19:43:57.630482Z",
     "iopub.status.busy": "2023-02-16T19:43:57.630238Z",
     "iopub.status.idle": "2023-02-16T19:43:57.745227Z",
     "shell.execute_reply": "2023-02-16T19:43:57.744657Z",
     "shell.execute_reply.started": "2023-02-16T19:43:57.630452Z"
    },
    "papermill": {},
    "tags": []
   },
   "outputs": [],
   "source": [
    "def check_email_validity(email):\n",
    "    regex = \"^\\w+([\\.-]?\\w+)*@\\w+([\\.-]?\\w+)*(\\.\\w{2,3})+$\"\n",
    "    if re.search(regex, email):\n",
    "        return True\n",
    "    else:\n",
    "        return False"
   ]
  },
  {
   "cell_type": "markdown",
   "id": "36bec295-4cac-4165-ae17-6b867948e7b7",
   "metadata": {
    "papermill": {},
    "tags": []
   },
   "source": [
    "## Output"
   ]
  },
  {
   "cell_type": "markdown",
   "id": "3dec3655-08e3-4112-83c5-9f382f1bf7e3",
   "metadata": {
    "papermill": {},
    "tags": []
   },
   "source": [
    "### Display result"
   ]
  },
  {
   "cell_type": "code",
   "execution_count": 4,
   "id": "310c369a-49e6-458e-ad01-130ad0cd5ad6",
   "metadata": {
    "execution": {
     "iopub.execute_input": "2023-02-16T19:43:57.747805Z",
     "iopub.status.busy": "2023-02-16T19:43:57.747629Z",
     "iopub.status.idle": "2023-02-16T19:43:57.857145Z",
     "shell.execute_reply": "2023-02-16T19:43:57.856467Z",
     "shell.execute_reply.started": "2023-02-16T19:43:57.747786Z"
    },
    "papermill": {},
    "tags": []
   },
   "outputs": [],
   "source": [
    "print(check_email_validity(email))"
   ]
  },
  {
   "cell_type": "markdown",
   "id": "d35aff66-c0a7-491b-8c70-70cc58bf1c5b",
   "metadata": {
    "papermill": {},
    "tags": []
   },
   "source": [
    " "
   ]
  }
 ],
 "metadata": {
  "kernelspec": {
   "display_name": "Python 3",
   "language": "python",
   "name": "python3"
  },
  "language_info": {
   "codemirror_mode": {
    "name": "ipython",
    "version": 3
   },
   "file_extension": ".py",
   "mimetype": "text/x-python",
   "name": "python",
   "nbconvert_exporter": "python",
   "pygments_lexer": "ipython3",
   "version": "3.9.6"
  },
  "papermill": {
   "default_parameters": {},
   "environment_variables": {},
   "parameters": {},
   "version": "2.4.0"
  },
  "widgets": {
   "application/vnd.jupyter.widget-state+json": {
    "state": {},
    "version_major": 2,
    "version_minor": 0
   }
  }
 },
 "nbformat": 4,
 "nbformat_minor": 5
}