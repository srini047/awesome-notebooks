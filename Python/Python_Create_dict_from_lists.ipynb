{
 "cells": [
  {
   "cell_type": "markdown",
   "id": "naas-logo",
   "metadata": {
    "papermill": {},
    "tags": [
     "naas"
    ]
   },
   "source": [
    "<img width=\"10%\" alt=\"Naas\" src=\"https://landen.imgix.net/jtci2pxwjczr/assets/5ice39g4.png?w=160\"/>"
   ]
  },
  {
   "cell_type": "markdown",
   "id": "db17b79b",
   "metadata": {
    "papermill": {},
    "tags": []
   },
   "source": [
    "# Python - Create dict from lists\n",
    "<a href=\"https://app.naas.ai/user-redirect/naas/downloader?url=https://raw.githubusercontent.com/jupyter-naas/awesome-notebooks/master/Python/Python_Create_dict_from_lists.ipynb\" target=\"_parent\"><img src=\"https://naasai-public.s3.eu-west-3.amazonaws.com/open_in_naas.svg\"/></a><br><br><a href=\"https://github.com/jupyter-naas/awesome-notebooks/issues/new?assignees=&labels=&template=template-request.md&title=Tool+-+Action+of+the+notebook+\">Template request</a> | <a href=\"https://github.com/jupyter-naas/awesome-notebooks/issues/new?assignees=&labels=bug&template=bug_report.md&title=Python+-+Create+dict+from+lists:+Error+short+description\">Bug report</a>"
   ]
  },
  {
   "cell_type": "markdown",
   "id": "13800319",
   "metadata": {
    "papermill": {},
    "tags": []
   },
   "source": [
    "**Tags:** #python #list #dict #snippet #operations"
   ]
  },
  {
   "cell_type": "markdown",
   "id": "8761af40",
   "metadata": {
    "papermill": {},
    "tags": []
   },
   "source": [
    "**Author:** [Florent Ravenel](https://www.linkedin.com/in/ACoAABCNSioBW3YZHc2lBHVG0E_TXYWitQkmwog/)"
   ]
  },
  {
   "cell_type": "markdown",
   "id": "naas-description",
   "metadata": {
    "papermill": {},
    "tags": [
     "description"
    ]
   },
   "source": [
    "**Description:** This notebook provides instructions on how to create a dictionary from two lists in Python."
   ]
  },
  {
   "cell_type": "markdown",
   "id": "d6ed8917",
   "metadata": {
    "papermill": {},
    "tags": []
   },
   "source": [
    "## Input"
   ]
  },
  {
   "cell_type": "markdown",
   "id": "fb1b9009",
   "metadata": {
    "papermill": {},
    "tags": []
   },
   "source": [
    "### Lists"
   ]
  },
  {
   "cell_type": "code",
   "execution_count": 3,
   "id": "aefef37f",
   "metadata": {
    "execution": {
     "iopub.execute_input": "2022-03-07T10:52:04.259198Z",
     "iopub.status.busy": "2022-03-07T10:52:04.258979Z",
     "iopub.status.idle": "2022-03-07T10:52:04.262774Z",
     "shell.execute_reply": "2022-03-07T10:52:04.262094Z",
     "shell.execute_reply.started": "2022-03-07T10:52:04.259177Z"
    },
    "papermill": {},
    "tags": []
   },
   "outputs": [],
   "source": [
    "keys = [\n",
    "    1995,\n",
    "    1996,\n",
    "    1997,\n",
    "    1998,\n",
    "    1999,\n",
    "    2000,\n",
    "    2001,\n",
    "    2002,\n",
    "    2003,\n",
    "    2004,\n",
    "    2005,\n",
    "    2006,\n",
    "    2007,\n",
    "    2008,\n",
    "    2009,\n",
    "    2010,\n",
    "    2011,\n",
    "    2012,\n",
    "]\n",
    "value = [\n",
    "    219,\n",
    "    146,\n",
    "    112,\n",
    "    127,\n",
    "    124,\n",
    "    180,\n",
    "    236,\n",
    "    207,\n",
    "    236,\n",
    "    263,\n",
    "    350,\n",
    "    430,\n",
    "    474,\n",
    "    526,\n",
    "    488,\n",
    "    537,\n",
    "    500,\n",
    "    439,\n",
    "]"
   ]
  },
  {
   "cell_type": "markdown",
   "id": "30f728e7-f3c8-40a9-aeb9-f6551113462c",
   "metadata": {
    "papermill": {},
    "tags": []
   },
   "source": [
    "## Model"
   ]
  },
  {
   "cell_type": "markdown",
   "id": "07164b8b",
   "metadata": {
    "papermill": {},
    "tags": []
   },
   "source": [
    "### Create zip iterator"
   ]
  },
  {
   "cell_type": "code",
   "execution_count": 4,
   "id": "c5d60211-9e68-4b8e-b51a-4d455a48d441",
   "metadata": {
    "execution": {
     "iopub.execute_input": "2022-03-07T10:52:04.895440Z",
     "iopub.status.busy": "2022-03-07T10:52:04.895207Z",
     "iopub.status.idle": "2022-03-07T10:52:04.898269Z",
     "shell.execute_reply": "2022-03-07T10:52:04.897652Z",
     "shell.execute_reply.started": "2022-03-07T10:52:04.895417Z"
    },
    "papermill": {},
    "tags": []
   },
   "outputs": [],
   "source": [
    "# Call zip(iter1, iter2) with one list as iter1 and another list as iter2 to create a zip iterator containing pairs of elements from the two lists.\n",
    "zip_iterators = zip(keys, value)"
   ]
  },
  {
   "cell_type": "markdown",
   "id": "02d1fc4b",
   "metadata": {
    "papermill": {},
    "tags": []
   },
   "source": [
    "## Output"
   ]
  },
  {
   "cell_type": "markdown",
   "id": "6fffa01c-1f9b-4923-93e1-ee793c3a31d9",
   "metadata": {
    "papermill": {},
    "tags": []
   },
   "source": [
    "### Create dict"
   ]
  },
  {
   "cell_type": "code",
   "execution_count": 5,
   "id": "8a54e670",
   "metadata": {
    "execution": {
     "iopub.execute_input": "2022-03-07T10:52:11.543144Z",
     "iopub.status.busy": "2022-03-07T10:52:11.542921Z",
     "iopub.status.idle": "2022-03-07T10:52:11.551528Z",
     "shell.execute_reply": "2022-03-07T10:52:11.550867Z",
     "shell.execute_reply.started": "2022-03-07T10:52:11.543122Z"
    },
    "papermill": {},
    "tags": []
   },
   "outputs": [],
   "source": [
    "# Use dict() to convert this zip iterator to a dictionary of key-value pairs.\n",
    "dict(zip_iterators)"
   ]
  }
 ],
 "metadata": {
  "kernelspec": {
   "display_name": "Python 3",
   "language": "python",
   "name": "python3"
  },
  "language_info": {
   "codemirror_mode": {
    "name": "ipython",
    "version": 3
   },
   "file_extension": ".py",
   "mimetype": "text/x-python",
   "name": "python",
   "nbconvert_exporter": "python",
   "pygments_lexer": "ipython3",
   "version": "3.8.8"
  },
  "naas": {
   "notebook_id": "668a2358-3d2f-49bc-83ae-52c15abc3c7c",
   "notebook_path": "Python/Python_Create_dict_from_lists.ipynb"
  },
  "papermill": {
   "default_parameters": {},
   "environment_variables": {},
   "parameters": {},
   "version": "2.3.3"
  }
 },
 "nbformat": 4,
 "nbformat_minor": 5
}