{
 "cells": [
  {
   "cell_type": "markdown",
   "id": "naas-logo",
   "metadata": {
    "papermill": {},
    "tags": [
     "naas"
    ]
   },
   "source": [
    "<img width=\"10%\" alt=\"Naas\" src=\"https://landen.imgix.net/jtci2pxwjczr/assets/5ice39g4.png?w=160\"/>"
   ]
  },
  {
   "cell_type": "markdown",
   "id": "db17b79b",
   "metadata": {
    "papermill": {},
    "tags": []
   },
   "source": [
    "# Python - Using datetime library\n",
    "<a href=\"https://app.naas.ai/user-redirect/naas/downloader?url=https://raw.githubusercontent.com/jupyter-naas/awesome-notebooks/master/Python/Python_Using_datetime_library.ipynb\" target=\"_parent\"><img src=\"https://naasai-public.s3.eu-west-3.amazonaws.com/open_in_naas.svg\"/></a><br><br><a href=\"https://github.com/jupyter-naas/awesome-notebooks/issues/new?assignees=&labels=&template=template-request.md&title=Tool+-+Action+of+the+notebook+\">Template request</a> | <a href=\"https://github.com/jupyter-naas/awesome-notebooks/issues/new?assignees=&labels=bug&template=bug_report.md&title=Python+-+Using+datetime+library:+Error+short+description\">Bug report</a>"
   ]
  },
  {
   "cell_type": "markdown",
   "id": "13800319",
   "metadata": {
    "papermill": {},
    "tags": []
   },
   "source": [
    "**Tags:** #python #datetime #snippet #operations"
   ]
  },
  {
   "cell_type": "markdown",
   "id": "8761af40",
   "metadata": {
    "papermill": {},
    "tags": []
   },
   "source": [
    "**Author:** [Florent Ravenel](https://www.linkedin.com/in/florent-ravenel/)"
   ]
  },
  {
   "cell_type": "markdown",
   "id": "naas-description",
   "metadata": {
    "papermill": {},
    "tags": [
     "description"
    ]
   },
   "source": [
    "**Description:** This notebook provides an introduction to using the Python datetime library to work with dates and times."
   ]
  },
  {
   "cell_type": "markdown",
   "id": "d6ed8917",
   "metadata": {
    "papermill": {},
    "tags": []
   },
   "source": [
    "## Input"
   ]
  },
  {
   "cell_type": "markdown",
   "id": "fb1b9009",
   "metadata": {
    "papermill": {},
    "tags": []
   },
   "source": [
    "### Import library"
   ]
  },
  {
   "cell_type": "code",
   "execution_count": null,
   "id": "aefef37f",
   "metadata": {
    "papermill": {},
    "tags": []
   },
   "outputs": [],
   "source": [
    "from datetime import datetime"
   ]
  },
  {
   "cell_type": "markdown",
   "id": "b7c1ad2b-ff24-43b9-b2fb-9a28b806e214",
   "metadata": {
    "papermill": {},
    "tags": []
   },
   "source": [
    "### Setup Variables\n",
    "- To parse your date format : you can use the [d3 time format documentation](https://github.com/d3/d3-time-format)"
   ]
  },
  {
   "cell_type": "code",
   "execution_count": null,
   "id": "c25fdd9d-8517-4488-a88d-fc51a8d2e4f8",
   "metadata": {
    "papermill": {},
    "tags": []
   },
   "outputs": [],
   "source": [
    "# Date string format\n",
    "date_string = \"2022-02-25\"\n",
    "\n",
    "# Your date string format\n",
    "current_format = \"%Y-%m-%d\"\n",
    "\n",
    "# New date format you want to use\n",
    "new_format = \"%Y-W%U\""
   ]
  },
  {
   "cell_type": "markdown",
   "id": "93232477",
   "metadata": {
    "papermill": {},
    "tags": []
   },
   "source": [
    "## Model"
   ]
  },
  {
   "cell_type": "markdown",
   "id": "07164b8b",
   "metadata": {
    "papermill": {},
    "tags": []
   },
   "source": [
    "### Convert a string date to a datetime object"
   ]
  },
  {
   "cell_type": "code",
   "execution_count": null,
   "id": "29972637",
   "metadata": {
    "papermill": {},
    "tags": []
   },
   "outputs": [],
   "source": [
    "date_datetime = datetime.strptime(date_string, current_format)\n",
    "date_datetime"
   ]
  },
  {
   "cell_type": "markdown",
   "id": "340a1c51-6b86-49ab-b207-f8624c736b28",
   "metadata": {
    "papermill": {},
    "tags": []
   },
   "source": [
    "### Convert a datetime object to string date"
   ]
  },
  {
   "cell_type": "code",
   "execution_count": null,
   "id": "dffbcf8c-9a7d-4ab0-8eb5-ba12b1188645",
   "metadata": {
    "papermill": {},
    "tags": []
   },
   "outputs": [],
   "source": [
    "new_date = date_datetime.strftime(new_format)\n",
    "new_date"
   ]
  },
  {
   "cell_type": "markdown",
   "id": "d4d3b4c5-eed0-44e2-9f0f-0b35981c391f",
   "metadata": {
    "papermill": {},
    "tags": []
   },
   "source": [
    "### Convert a string date to a datetime object to another string date"
   ]
  },
  {
   "cell_type": "code",
   "execution_count": null,
   "id": "6f69fc2a-ed25-48c6-b7e8-db970f61c64a",
   "metadata": {
    "papermill": {},
    "tags": []
   },
   "outputs": [],
   "source": [
    "new_date = datetime.strptime(date_string, current_format).strftime(new_format)\n",
    "new_date"
   ]
  },
  {
   "cell_type": "markdown",
   "id": "02d1fc4b",
   "metadata": {
    "papermill": {},
    "tags": []
   },
   "source": [
    "## Output"
   ]
  },
  {
   "cell_type": "markdown",
   "id": "1c2b12ba-82a3-4831-b057-f429a5e6bd54",
   "metadata": {
    "papermill": {},
    "tags": []
   },
   "source": [
    "### Display new date"
   ]
  },
  {
   "cell_type": "code",
   "execution_count": null,
   "id": "3b0cf348",
   "metadata": {
    "papermill": {},
    "tags": []
   },
   "outputs": [],
   "source": [
    "new_date"
   ]
  }
 ],
 "metadata": {
  "kernelspec": {
   "display_name": "Python 3",
   "language": "python",
   "name": "python3"
  },
  "language_info": {
   "codemirror_mode": {
    "name": "ipython",
    "version": 3
   },
   "file_extension": ".py",
   "mimetype": "text/x-python",
   "name": "python",
   "nbconvert_exporter": "python",
   "pygments_lexer": "ipython3",
   "version": "3.9.6"
  },
  "naas": {
   "notebook_id": "cf0600b0-e939-4229-a5e5-acd2c0b2d680",
   "notebook_path": "Python/Python_Looping_Over_Dataframe.ipynb"
  },
  "papermill": {
   "default_parameters": {},
   "environment_variables": {},
   "parameters": {},
   "version": "2.3.3"
  }
 },
 "nbformat": 4,
 "nbformat_minor": 5
}