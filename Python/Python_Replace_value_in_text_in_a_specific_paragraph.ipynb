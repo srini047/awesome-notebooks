{
 "cells": [
  {
   "cell_type": "markdown",
   "id": "1f60e1c4-1499-492a-9a28-127a459db0c2",
   "metadata": {
    "papermill": {},
    "tags": []
   },
   "source": [
    "<img width=\"10%\" alt=\"Naas\" src=\"https://landen.imgix.net/jtci2pxwjczr/assets/5ice39g4.png?w=160\"/>"
   ]
  },
  {
   "cell_type": "markdown",
   "id": "5f7bbb79-9acb-408a-a12d-0f7b556f1f25",
   "metadata": {
    "papermill": {},
    "tags": []
   },
   "source": [
    "# Python - Replace value in text in a specific paragraph\n",
    "<a href=\"https://app.naas.ai/user-redirect/naas/downloader?url=https://raw.githubusercontent.com/jupyter-naas/awesome-notebooks/master/Python/Python_Replace_value_in_text_in_a_specific_paragraph.ipynb\" target=\"_parent\"><img src=\"https://naasai-public.s3.eu-west-3.amazonaws.com/open_in_naas.svg\"/></a><br><br><a href=\"https://github.com/jupyter-naas/awesome-notebooks/issues/new?assignees=&labels=&template=template-request.md&title=Tool+-+Action+of+the+notebook+\">Template request</a> | <a href=\"https://github.com/jupyter-naas/awesome-notebooks/issues/new?assignees=&labels=bug&template=bug_report.md&title=Python+-+Replace+value+in+text+in+a+specific+paragraph:+Error+short+description\">Bug report</a>"
   ]
  },
  {
   "cell_type": "markdown",
   "id": "4e2db7ce-6209-4336-8bb3-15372b402e61",
   "metadata": {
    "papermill": {},
    "tags": []
   },
   "source": [
    "**Tags:** #python #string #replace #text #snippet"
   ]
  },
  {
   "cell_type": "markdown",
   "id": "d078f48e-d820-4ce0-9386-8105133fb253",
   "metadata": {
    "papermill": {},
    "tags": []
   },
   "source": [
    "**Author:** [Florent Ravenel](https://www.linkedin.com/in/florent-ravenel/)"
   ]
  },
  {
   "cell_type": "markdown",
   "id": "1fb15eff-4f84-4e31-89ab-4a27f87a5674",
   "metadata": {
    "papermill": {},
    "tags": []
   },
   "source": [
    "**Description:** This notebook will show how to replace a value in a specific paragraph of a text using Python."
   ]
  },
  {
   "cell_type": "markdown",
   "id": "1adf67b3-ac4e-493a-8a1c-2396a98e8885",
   "metadata": {
    "papermill": {},
    "tags": []
   },
   "source": [
    "<u>References:</u>\n",
    "- https://www.geeksforgeeks.org/python-string-replace/\n",
    "- https://www.programiz.com/python-programming/methods/string/replace"
   ]
  },
  {
   "cell_type": "markdown",
   "id": "177b4346-ed14-4ce7-8313-0fdd4424a347",
   "metadata": {
    "papermill": {},
    "tags": []
   },
   "source": [
    "## Input"
   ]
  },
  {
   "cell_type": "markdown",
   "id": "ccf90156-6036-4bc9-aa4b-146bbd05c678",
   "metadata": {
    "papermill": {},
    "tags": []
   },
   "source": [
    "### Import libraries"
   ]
  },
  {
   "cell_type": "code",
   "execution_count": 1,
   "id": "13b260b3-aac0-4613-bff5-a0c31c431931",
   "metadata": {
    "execution": {
     "iopub.execute_input": "2023-02-16T19:32:28.274906Z",
     "iopub.status.busy": "2023-02-16T19:32:28.274370Z",
     "iopub.status.idle": "2023-02-16T19:32:28.283578Z",
     "shell.execute_reply": "2023-02-16T19:32:28.283102Z",
     "shell.execute_reply.started": "2023-02-16T19:32:28.274836Z"
    },
    "papermill": {},
    "tags": []
   },
   "outputs": [],
   "source": [
    "import re"
   ]
  },
  {
   "cell_type": "markdown",
   "id": "cdf06701-85ee-48c2-ae9b-31dcf81097c6",
   "metadata": {
    "papermill": {},
    "tags": []
   },
   "source": [
    "### Setup Variables\n",
    "- `text`: text containing the paragraph to be modified\n",
    "- `paragraph`: paragraph to be modified\n",
    "- `old_value`: value to be replaced\n",
    "- `new_value`: value to replace the old one"
   ]
  },
  {
   "cell_type": "code",
   "execution_count": 2,
   "id": "a4a51699-4ffe-43b1-893d-80613897fbb6",
   "metadata": {
    "execution": {
     "iopub.execute_input": "2023-02-16T19:32:28.285851Z",
     "iopub.status.busy": "2023-02-16T19:32:28.285466Z",
     "iopub.status.idle": "2023-02-16T19:32:28.435120Z",
     "shell.execute_reply": "2023-02-16T19:32:28.434576Z",
     "shell.execute_reply.started": "2023-02-16T19:32:28.285823Z"
    },
    "papermill": {},
    "tags": []
   },
   "outputs": [],
   "source": [
    "# Setup variables\n",
    "text = \"This is the first paragraph. This is the second paragraph. This is the third paragraph.\"\n",
    "paragraph = \"This is the second paragraph.\"\n",
    "old_value = \"second\"\n",
    "new_value = \"fourth\""
   ]
  },
  {
   "cell_type": "markdown",
   "id": "04c88df0-bee2-472d-b799-7cf6ccb2bfb9",
   "metadata": {
    "papermill": {},
    "tags": []
   },
   "source": [
    "## Model"
   ]
  },
  {
   "cell_type": "markdown",
   "id": "cccd6fd7-b04d-471b-97ea-7b6e80821c7a",
   "metadata": {
    "papermill": {},
    "tags": []
   },
   "source": [
    "### Replace value in text"
   ]
  },
  {
   "cell_type": "code",
   "execution_count": 3,
   "id": "e31cc3fa-e734-4f61-9576-4880c36a8155",
   "metadata": {
    "execution": {
     "iopub.execute_input": "2023-02-16T19:32:28.436383Z",
     "iopub.status.busy": "2023-02-16T19:32:28.436158Z",
     "iopub.status.idle": "2023-02-16T19:32:28.539980Z",
     "shell.execute_reply": "2023-02-16T19:32:28.539382Z",
     "shell.execute_reply.started": "2023-02-16T19:32:28.436355Z"
    },
    "papermill": {},
    "tags": []
   },
   "outputs": [],
   "source": [
    "# Replace value in text\n",
    "new_paragraph = re.sub(old_value, new_value, paragraph)\n",
    "new_text = text.replace(paragraph, new_paragraph)"
   ]
  },
  {
   "cell_type": "markdown",
   "id": "be60adbe-12eb-4d65-b6ea-f3d7c2212bbc",
   "metadata": {
    "papermill": {},
    "tags": []
   },
   "source": [
    "## Output"
   ]
  },
  {
   "cell_type": "markdown",
   "id": "fd939962-c212-45e8-b768-6e7ef630f29e",
   "metadata": {
    "papermill": {},
    "tags": []
   },
   "source": [
    "### Display result"
   ]
  },
  {
   "cell_type": "code",
   "execution_count": 4,
   "id": "fba28444-356f-4f88-8083-a5227e75dcfa",
   "metadata": {
    "execution": {
     "iopub.execute_input": "2023-02-16T19:32:28.541356Z",
     "iopub.status.busy": "2023-02-16T19:32:28.540920Z",
     "iopub.status.idle": "2023-02-16T19:32:28.644441Z",
     "shell.execute_reply": "2023-02-16T19:32:28.643729Z",
     "shell.execute_reply.started": "2023-02-16T19:32:28.541326Z"
    },
    "papermill": {},
    "tags": []
   },
   "outputs": [],
   "source": [
    "print(new_text)"
   ]
  }
 ],
 "metadata": {
  "kernelspec": {
   "display_name": "Python 3",
   "language": "python",
   "name": "python3"
  },
  "language_info": {
   "codemirror_mode": {
    "name": "ipython",
    "version": 3
   },
   "file_extension": ".py",
   "mimetype": "text/x-python",
   "name": "python",
   "nbconvert_exporter": "python",
   "pygments_lexer": "ipython3",
   "version": "3.9.6"
  },
  "papermill": {
   "default_parameters": {},
   "environment_variables": {},
   "parameters": {},
   "version": "2.4.0"
  },
  "widgets": {
   "application/vnd.jupyter.widget-state+json": {
    "state": {},
    "version_major": 2,
    "version_minor": 0
   }
  }
 },
 "nbformat": 4,
 "nbformat_minor": 5
}