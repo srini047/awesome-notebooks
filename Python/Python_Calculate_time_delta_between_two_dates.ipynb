{
 "cells": [
  {
   "cell_type": "markdown",
   "id": "a5fbb8e5-d63f-4f63-bee1-2e5280f7262a",
   "metadata": {
    "papermill": {},
    "tags": []
   },
   "source": [
    "<img width=\"10%\" alt=\"Naas\" src=\"https://landen.imgix.net/jtci2pxwjczr/assets/5ice39g4.png?w=160\"/>"
   ]
  },
  {
   "cell_type": "markdown",
   "id": "98fdb274-6466-485f-9a1a-934dee55beb0",
   "metadata": {
    "papermill": {},
    "tags": []
   },
   "source": [
    "# Python - Calculate time delta between two dates\n",
    "<a href=\"https://app.naas.ai/user-redirect/naas/downloader?url=https://raw.githubusercontent.com/jupyter-naas/awesome-notebooks/master/Python/Python_Calculate_time_delta_between_two_dates.ipynb\" target=\"_parent\"><img src=\"https://naasai-public.s3.eu-west-3.amazonaws.com/Open_in_Naas_Lab.svg\"/></a><br><br><a href=\"https://github.com/jupyter-naas/awesome-notebooks/issues/new?assignees=&labels=&template=template-request.md&title=Tool+-+Action+of+the+notebook+\">Template request</a> | <a href=\"https://github.com/jupyter-naas/awesome-notebooks/issues/new?assignees=&labels=bug&template=bug_report.md&title=Python+-+Calculate+time+delta+between+two+dates:+Error+short+description\">Bug report</a> | <a href=\"https://app.naas.ai/user-redirect/naas/downloader?url=https://raw.githubusercontent.com/jupyter-naas/awesome-notebooks/master/Naas/Naas_Start_data_product.ipynb\" target=\"_parent\">Generate Data Product</a>"
   ]
  },
  {
   "cell_type": "markdown",
   "id": "3e1ffc38-bb7f-4dac-9718-fef375e83834",
   "metadata": {
    "papermill": {},
    "tags": []
   },
   "source": [
    "**Tags:** #python #datetime #timedelta #calculate #date #time "
   ]
  },
  {
   "cell_type": "markdown",
   "id": "a9b57526-e80f-4c25-88a6-802635224690",
   "metadata": {
    "papermill": {},
    "tags": []
   },
   "source": [
    "**Author:** [Florent Ravenel](https://www.linkedin.com/in/florent-ravenel/)"
   ]
  },
  {
   "cell_type": "markdown",
   "id": "2e8b31cf-ccc0-4390-86cc-7a43e8afdbc5",
   "metadata": {
    "papermill": {},
    "tags": []
   },
   "source": [
    "**Description:** This notebook calculates the time delta between two dates."
   ]
  },
  {
   "cell_type": "markdown",
   "id": "03650f27-2d09-415f-a998-351daee79942",
   "metadata": {
    "papermill": {},
    "tags": []
   },
   "source": [
    "**References:**\n",
    "- [Python datetime](https://docs.python.org/3/library/datetime.html)\n",
    "- [Python timedelta](https://docs.python.org/3/library/datetime.html#timedelta-objects)"
   ]
  },
  {
   "cell_type": "markdown",
   "id": "cc8126bd-19d6-41fc-9f0b-5460b225217a",
   "metadata": {
    "papermill": {},
    "tags": []
   },
   "source": [
    "## Input"
   ]
  },
  {
   "cell_type": "markdown",
   "id": "5d76b038-0b21-4ee4-8480-55a36215215e",
   "metadata": {
    "papermill": {},
    "tags": []
   },
   "source": [
    "### Import libraries"
   ]
  },
  {
   "cell_type": "code",
   "execution_count": null,
   "id": "e934ee81-3368-4f08-af2e-9f08d0221e96",
   "metadata": {
    "papermill": {},
    "tags": []
   },
   "outputs": [],
   "source": [
    "from datetime import datetime"
   ]
  },
  {
   "cell_type": "markdown",
   "id": "73d11b3e-1c8f-40cb-af2b-3606979358ef",
   "metadata": {
    "papermill": {},
    "tags": []
   },
   "source": [
    "### Setup Variables\n",
    "- `start_date`: First date\n",
    "- `end_date`: Second date"
   ]
  },
  {
   "cell_type": "code",
   "execution_count": null,
   "id": "60794260-c478-4d84-a510-b6b19584d7a0",
   "metadata": {
    "papermill": {},
    "tags": []
   },
   "outputs": [],
   "source": [
    "start_date = datetime(2022, 1, 15)\n",
    "end_date = datetime(2023, 5, 22)"
   ]
  },
  {
   "cell_type": "markdown",
   "id": "e46c0b5e-8428-43df-9938-9e7df860d547",
   "metadata": {
    "papermill": {},
    "tags": []
   },
   "source": [
    "## Model"
   ]
  },
  {
   "cell_type": "markdown",
   "id": "beb142ef-f380-469b-9484-ae21a025ce61",
   "metadata": {
    "papermill": {},
    "tags": []
   },
   "source": [
    "### Calculate time delta"
   ]
  },
  {
   "cell_type": "markdown",
   "id": "0c2d4d1c-a233-49b0-a8b9-34dda49fbcfa",
   "metadata": {
    "papermill": {},
    "tags": []
   },
   "source": [
    "Calculate the time delta between two dates using the `timedelta` function from the `datetime` library."
   ]
  },
  {
   "cell_type": "code",
   "execution_count": null,
   "id": "ac97a7d8-2421-4815-8743-933969476817",
   "metadata": {
    "papermill": {},
    "tags": []
   },
   "outputs": [],
   "source": [
    "delta = end_date - start_date"
   ]
  },
  {
   "cell_type": "markdown",
   "id": "80711f76-06e9-4bec-a96c-b0967048b06d",
   "metadata": {
    "papermill": {},
    "tags": []
   },
   "source": [
    "## Output"
   ]
  },
  {
   "cell_type": "markdown",
   "id": "06fff620-dc13-4061-a219-f90f075cee3a",
   "metadata": {
    "papermill": {},
    "tags": []
   },
   "source": [
    "### Display result"
   ]
  },
  {
   "cell_type": "code",
   "execution_count": null,
   "id": "eb857f38-f044-495f-927d-bf8103b9e7a8",
   "metadata": {
    "papermill": {},
    "tags": []
   },
   "outputs": [],
   "source": [
    "print(delta)"
   ]
  },
  {
   "cell_type": "markdown",
   "id": "52bdb07e-28b9-44d8-aeda-3b899e14997d",
   "metadata": {
    "papermill": {},
    "tags": []
   },
   "source": [
    " "
   ]
  }
 ],
 "metadata": {
  "kernelspec": {
   "display_name": "Python 3",
   "language": "python",
   "name": "python3"
  },
  "language_info": {
   "codemirror_mode": {
    "name": "ipython",
    "version": 3
   },
   "file_extension": ".py",
   "mimetype": "text/x-python",
   "name": "python",
   "nbconvert_exporter": "python",
   "pygments_lexer": "ipython3",
   "version": "3.9.6"
  },
  "naas": {
   "notebook_id": "3e9d2c55229b2a7b7f787f226854d421c8381f80dc8f3e272b04a5fd459515a3",
   "notebook_path": "Python/Python_Calculate_time_delta_between_two_dates.ipynb"
  },
  "papermill": {
   "default_parameters": {},
   "environment_variables": {},
   "parameters": {},
   "version": "2.4.0"
  },
  "widgets": {
   "application/vnd.jupyter.widget-state+json": {
    "state": {},
    "version_major": 2,
    "version_minor": 0
   }
  }
 },
 "nbformat": 4,
 "nbformat_minor": 5
}