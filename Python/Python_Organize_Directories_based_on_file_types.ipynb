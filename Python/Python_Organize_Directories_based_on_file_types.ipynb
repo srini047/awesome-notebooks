{
 "cells": [
  {
   "cell_type": "markdown",
   "id": "latin-packing",
   "metadata": {
    "execution": {
     "iopub.execute_input": "2021-02-23T14:22:16.610471Z",
     "iopub.status.busy": "2021-02-23T14:22:16.610129Z",
     "iopub.status.idle": "2021-02-23T14:22:16.627784Z",
     "shell.execute_reply": "2021-02-23T14:22:16.626866Z",
     "shell.execute_reply.started": "2021-02-23T14:22:16.610384Z"
    },
    "papermill": {},
    "tags": []
   },
   "source": [
    "<img width=\"10%\" alt=\"Naas\" src=\"https://landen.imgix.net/jtci2pxwjczr/assets/5ice39g4.png?w=160\"/>"
   ]
  },
  {
   "cell_type": "markdown",
   "id": "compressed-wilson",
   "metadata": {
    "papermill": {},
    "tags": []
   },
   "source": [
    "# Python - Organize Directories based on file types\n",
    "<a href=\"https://app.naas.ai/user-redirect/naas/downloader?url=https://raw.githubusercontent.com/jupyter-naas/awesome-notebooks/master/Python/Python_Organize_Directories_based_on_file_types.ipynb\" target=\"_parent\"><img src=\"https://naasai-public.s3.eu-west-3.amazonaws.com/open_in_naas.svg\"/></a><br><br><a href=\"https://github.com/jupyter-naas/awesome-notebooks/issues/new?assignees=&labels=&template=template-request.md&title=Tool+-+Action+of+the+notebook+\">Template request</a> | <a href=\"https://github.com/jupyter-naas/awesome-notebooks/issues/new?assignees=&labels=bug&template=bug_report.md&title=Python+-+Organize+Directories+based+on+file+types:+Error+short+description\">Bug report</a>"
   ]
  },
  {
   "cell_type": "markdown",
   "id": "religious-programmer",
   "metadata": {
    "papermill": {},
    "tags": []
   },
   "source": [
    "**Tags:** #organize #files #directories"
   ]
  },
  {
   "cell_type": "markdown",
   "id": "1fe9f56e-561c-4f52-aef8-b861c9462107",
   "metadata": {
    "papermill": {},
    "tags": []
   },
   "source": [
    "**Author:** [Ahmed Mousa](https://www.linkedin.com/in/akmousa/)"
   ]
  },
  {
   "cell_type": "markdown",
   "id": "31ea7cdb-e10d-43fc-b026-f69249a59736",
   "metadata": {
    "papermill": {},
    "tags": []
   },
   "source": [
    "**Description:** This notebook organizes your files based on their extensions to directories for data scientists"
   ]
  },
  {
   "cell_type": "markdown",
   "id": "distinguished-truth",
   "metadata": {
    "papermill": {},
    "tags": []
   },
   "source": [
    "## Input"
   ]
  },
  {
   "cell_type": "markdown",
   "id": "numeric-mediterranean",
   "metadata": {
    "papermill": {},
    "tags": []
   },
   "source": [
    "### Import libraries"
   ]
  },
  {
   "cell_type": "code",
   "execution_count": 16,
   "id": "potential-surfing",
   "metadata": {
    "execution": {
     "iopub.execute_input": "2022-11-11T14:53:39.575946Z",
     "iopub.status.busy": "2022-11-11T14:53:39.575663Z",
     "iopub.status.idle": "2022-11-11T14:53:39.582271Z",
     "shell.execute_reply": "2022-11-11T14:53:39.581681Z",
     "shell.execute_reply.started": "2022-11-11T14:53:39.575916Z"
    },
    "papermill": {},
    "tags": []
   },
   "outputs": [],
   "source": [
    "from shutil import move\n",
    "from os import path\n",
    "import os\n",
    "import glob\n",
    "import pathlib"
   ]
  },
  {
   "cell_type": "markdown",
   "id": "aggressive-trustee",
   "metadata": {
    "papermill": {},
    "tags": []
   },
   "source": [
    "### Variables"
   ]
  },
  {
   "cell_type": "code",
   "execution_count": 2,
   "id": "690d5785-3ff6-403f-aeb3-e6aebb0735eb",
   "metadata": {
    "execution": {
     "iopub.execute_input": "2022-11-11T14:43:58.193874Z",
     "iopub.status.busy": "2022-11-11T14:43:58.193622Z",
     "iopub.status.idle": "2022-11-11T14:43:58.196972Z",
     "shell.execute_reply": "2022-11-11T14:43:58.196363Z",
     "shell.execute_reply.started": "2022-11-11T14:43:58.193850Z"
    },
    "papermill": {},
    "tags": []
   },
   "outputs": [],
   "source": [
    "files_path = \"\"  # Put the path to where your unorganized files are # Leave it as it's if your files are in the same folder with this notebook"
   ]
  },
  {
   "cell_type": "code",
   "execution_count": 17,
   "id": "2842f0a1-8bfb-4dd0-9a66-6c476c67501d",
   "metadata": {
    "execution": {
     "iopub.execute_input": "2022-11-11T14:53:45.207695Z",
     "iopub.status.busy": "2022-11-11T14:53:45.207474Z",
     "iopub.status.idle": "2022-11-11T14:53:45.210306Z",
     "shell.execute_reply": "2022-11-11T14:53:45.209708Z",
     "shell.execute_reply.started": "2022-11-11T14:53:45.207673Z"
    },
    "papermill": {},
    "tags": []
   },
   "outputs": [],
   "source": [
    "exclude_files = []  # Add files to exclude from moving as you wish here in this list\n",
    "exclude_files.append(\"Python_Organize_Directories_based_on_file_types.ipynb\")"
   ]
  },
  {
   "cell_type": "code",
   "execution_count": 18,
   "id": "continuous-melbourne",
   "metadata": {
    "execution": {
     "iopub.execute_input": "2022-11-11T14:53:45.352385Z",
     "iopub.status.busy": "2022-11-11T14:53:45.352171Z",
     "iopub.status.idle": "2022-11-11T14:53:45.357166Z",
     "shell.execute_reply": "2022-11-11T14:53:45.356522Z",
     "shell.execute_reply.started": "2022-11-11T14:53:45.352363Z"
    },
    "papermill": {},
    "tags": []
   },
   "outputs": [],
   "source": [
    "folders_extension = {\n",
    "    \"Programming Files\": [\n",
    "        \"ipynb\",\n",
    "        \"py\",\n",
    "        \"java\",\n",
    "        \"cs\",\n",
    "        \"js\",\n",
    "        \"vsix\",\n",
    "        \"jar\",\n",
    "        \"cc\",\n",
    "        \"ccc\",\n",
    "        \"html\",\n",
    "        \"xml\",\n",
    "        \"kt\",\n",
    "    ],\n",
    "    \"Data\": {\n",
    "        \"Structured Data\": [\n",
    "            \"txt\",\n",
    "            \"pdf\",\n",
    "            \"doc\",\n",
    "            \"pdf\",\n",
    "            \"ppt\",\n",
    "            \"pps\",\n",
    "            \"docx\",\n",
    "            \"pptx\",\n",
    "            \"csv\",\n",
    "            \"xlsx\",\n",
    "            \"xlsm\",\n",
    "            \"xlsb\",\n",
    "            \"xltx\",\n",
    "            \"xltm\",\n",
    "            \"xls\",\n",
    "            \"xlt\",\n",
    "            \"xls\",\n",
    "            \"xml\",\n",
    "            \"xla\",\n",
    "            \"xlam\",\n",
    "            \"xlw\",\n",
    "            \"xlr\",\n",
    "        ],\n",
    "        \"Unstructured Data\": {\n",
    "            \"Images\": [\n",
    "                \"jpeg\",\n",
    "                \"jpg\",\n",
    "                \"png\",\n",
    "                \"gif\",\n",
    "                \"tiff\",\n",
    "                \"raw\",\n",
    "                \"webp\",\n",
    "                \"jfif\",\n",
    "                \"ico\",\n",
    "                \"psd\",\n",
    "                \"svg\",\n",
    "                \"ai\",\n",
    "            ],\n",
    "            \"Videos\": [\n",
    "                \"mp4\",\n",
    "                \"webm\",\n",
    "                \"mkv\",\n",
    "                \"MPG\",\n",
    "                \"MP2\",\n",
    "                \"MPEG\",\n",
    "                \"MPE\",\n",
    "                \"MPV\",\n",
    "                \"OGG\",\n",
    "                \"M4P\",\n",
    "                \"M4V\",\n",
    "                \"WMV\",\n",
    "                \"MOV\",\n",
    "                \"QT\",\n",
    "                \"FLV\",\n",
    "                \"SWF\",\n",
    "                \"AVCHD\",\n",
    "                \"avi\",\n",
    "                \"mpg\",\n",
    "                \"mpe\",\n",
    "                \"mpeg\",\n",
    "                \"asf\",\n",
    "                \"wmv\",\n",
    "                \"mov\",\n",
    "                \"qt\",\n",
    "                \"rm\",\n",
    "            ],\n",
    "            \"Audio\": [\n",
    "                \"mp3\",\n",
    "                \"wav\",\n",
    "                \"wma\",\n",
    "                \"mpa\",\n",
    "                \"ram\",\n",
    "                \"ra\",\n",
    "                \"aac\",\n",
    "                \"aif\",\n",
    "                \"m4a\",\n",
    "                \"tsa\",\n",
    "            ],\n",
    "        },\n",
    "        \"Compressed\": [\n",
    "            \"zip\",\n",
    "            \"rar\",\n",
    "            \"arj\",\n",
    "            \"gz\",\n",
    "            \"sit\",\n",
    "            \"sitx\",\n",
    "            \"sea\",\n",
    "            \"ace\",\n",
    "            \"bz2\",\n",
    "            \"7z\",\n",
    "        ],\n",
    "    },\n",
    "}"
   ]
  },
  {
   "cell_type": "markdown",
   "id": "registered-showcase",
   "metadata": {
    "papermill": {},
    "tags": []
   },
   "source": [
    "## Model"
   ]
  },
  {
   "cell_type": "code",
   "execution_count": 19,
   "id": "97b4d342-c57b-4137-b86a-5f8119ac28d6",
   "metadata": {
    "execution": {
     "iopub.execute_input": "2022-11-11T14:53:46.215396Z",
     "iopub.status.busy": "2022-11-11T14:53:46.215127Z",
     "iopub.status.idle": "2022-11-11T14:53:46.218342Z",
     "shell.execute_reply": "2022-11-11T14:53:46.217732Z",
     "shell.execute_reply.started": "2022-11-11T14:53:46.215369Z"
    },
    "papermill": {},
    "tags": []
   },
   "outputs": [],
   "source": [
    "def create_folder(folder_name):\n",
    "    if not os.path.exists(folder_name):\n",
    "        os.makedirs(folder_name)"
   ]
  },
  {
   "cell_type": "code",
   "execution_count": 23,
   "id": "5ce440f4-f949-43e4-8d9d-edd7c476459a",
   "metadata": {
    "execution": {
     "iopub.execute_input": "2022-11-11T14:54:45.901947Z",
     "iopub.status.busy": "2022-11-11T14:54:45.901597Z",
     "iopub.status.idle": "2022-11-11T14:54:45.905180Z",
     "shell.execute_reply": "2022-11-11T14:54:45.904576Z",
     "shell.execute_reply.started": "2022-11-11T14:54:45.901914Z"
    },
    "papermill": {},
    "tags": []
   },
   "outputs": [],
   "source": [
    "def move_file(file_path, desired_folder_path):\n",
    "    if not file_path in exclude_files:\n",
    "        create_folder(desired_folder_path)\n",
    "        move(file_path, desired_folder_path)\n",
    "        print(f\"Moved file: {file_path}, to {desired_folder_path}\")"
   ]
  },
  {
   "cell_type": "code",
   "execution_count": 24,
   "id": "crude-louisville",
   "metadata": {
    "execution": {
     "iopub.execute_input": "2022-11-11T14:54:47.358355Z",
     "iopub.status.busy": "2022-11-11T14:54:47.358132Z",
     "iopub.status.idle": "2022-11-11T14:54:47.367013Z",
     "shell.execute_reply": "2022-11-11T14:54:47.366425Z",
     "shell.execute_reply.started": "2022-11-11T14:54:47.358332Z"
    },
    "papermill": {},
    "tags": []
   },
   "outputs": [],
   "source": [
    "def organize_files():\n",
    "    for file in glob.glob(files_path + \"*\"):\n",
    "        if os.path.isdir(file):\n",
    "            continue\n",
    "        file_name_path = file\n",
    "        file_extiension = pathlib.Path(file).suffix.replace(\".\", \"\")\n",
    "        for folder in folders_extension.keys():\n",
    "            if isinstance(folders_extension[folder], list):\n",
    "                if file_extiension in folders_extension[folder]:\n",
    "                    target_folder_path = os.path.join(files_path, folder)\n",
    "                    move_file(file, target_folder_path)\n",
    "            else:\n",
    "                if isinstance(folders_extension[folder], list):\n",
    "                    for sub_folder in folders_extension[folder]:\n",
    "                        if file_extiension in folders_extension[folder][sub_folder]:\n",
    "                            target_folder_path = os.path.join(\n",
    "                                files_path, folder, sub_folder\n",
    "                            )\n",
    "                            move_file(file, target_folder_path)\n",
    "                else:\n",
    "                    for sub_folder in folders_extension[folder]:\n",
    "                        if isinstance(folders_extension[folder][sub_folder], list):\n",
    "                            if file_extiension in folders_extension[folder][sub_folder]:\n",
    "                                target_folder_path = os.path.join(\n",
    "                                    files_path, folder, sub_folder\n",
    "                                )\n",
    "                                move_file(file, target_folder_path)\n",
    "                        else:\n",
    "                            for ssub_folder in folders_extension[folder][sub_folder]:\n",
    "                                if (\n",
    "                                    file_extiension\n",
    "                                    in folders_extension[folder][sub_folder][\n",
    "                                        ssub_folder\n",
    "                                    ]\n",
    "                                ):\n",
    "                                    target_folder_path = os.path.join(\n",
    "                                        files_path, folder, sub_folder, ssub_folder\n",
    "                                    )\n",
    "                                    move_file(file, target_folder_path)"
   ]
  },
  {
   "cell_type": "markdown",
   "id": "lonely-pacific",
   "metadata": {
    "execution": {
     "iopub.execute_input": "2021-07-02T23:32:10.789097Z",
     "iopub.status.busy": "2021-07-02T23:32:10.788829Z",
     "iopub.status.idle": "2021-07-02T23:32:10.796900Z",
     "shell.execute_reply": "2021-07-02T23:32:10.796358Z",
     "shell.execute_reply.started": "2021-07-02T23:32:10.789033Z"
    },
    "papermill": {},
    "tags": []
   },
   "source": [
    "## Output"
   ]
  },
  {
   "cell_type": "code",
   "execution_count": 25,
   "id": "9c4e3b7b-6440-4844-8054-265f1aec65eb",
   "metadata": {
    "execution": {
     "iopub.execute_input": "2022-11-11T14:54:51.260251Z",
     "iopub.status.busy": "2022-11-11T14:54:51.259963Z",
     "iopub.status.idle": "2022-11-11T14:54:51.461689Z",
     "shell.execute_reply": "2022-11-11T14:54:51.461028Z",
     "shell.execute_reply.started": "2022-11-11T14:54:51.260210Z"
    },
    "papermill": {},
    "tags": []
   },
   "outputs": [],
   "source": [
    "organize_files()"
   ]
  }
 ],
 "metadata": {
  "kernelspec": {
   "display_name": "Python 3",
   "language": "python",
   "name": "python3"
  },
  "language_info": {
   "codemirror_mode": {
    "name": "ipython",
    "version": 3
   },
   "file_extension": ".py",
   "mimetype": "text/x-python",
   "name": "python",
   "nbconvert_exporter": "python",
   "pygments_lexer": "ipython3",
   "version": "3.9.6"
  },
  "papermill": {
   "default_parameters": {},
   "environment_variables": {},
   "parameters": {},
   "version": "2.3.3"
  },
  "widgets": {
   "application/vnd.jupyter.widget-state+json": {
    "state": {},
    "version_major": 2,
    "version_minor": 0
   }
  }
 },
 "nbformat": 4,
 "nbformat_minor": 5
}