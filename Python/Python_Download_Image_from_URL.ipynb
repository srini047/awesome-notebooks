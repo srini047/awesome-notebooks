{
 "cells": [
  {
   "cell_type": "markdown",
   "id": "selected-stock",
   "metadata": {
    "papermill": {},
    "tags": []
   },
   "source": [
    "<img width=\"10%\" alt=\"Naas\" src=\"https://landen.imgix.net/jtci2pxwjczr/assets/5ice39g4.png?w=160\"/>"
   ]
  },
  {
   "cell_type": "markdown",
   "id": "proved-olympus",
   "metadata": {
    "papermill": {},
    "tags": []
   },
   "source": [
    "# Python - Download Image from URL\n",
    "<a href=\"https://app.naas.ai/user-redirect/naas/downloader?url=https://raw.githubusercontent.com/jupyter-naas/awesome-notebooks/master/Python/Python_Download_Image_from_URL.ipynb\" target=\"_parent\"><img src=\"https://naasai-public.s3.eu-west-3.amazonaws.com/open_in_naas.svg\"/></a><br><br><a href=\"https://github.com/jupyter-naas/awesome-notebooks/issues/new?assignees=&labels=&template=template-request.md&title=Tool+-+Action+of+the+notebook+\">Template request</a> | <a href=\"https://github.com/jupyter-naas/awesome-notebooks/issues/new?assignees=&labels=bug&template=bug_report.md&title=Python+-+Download+Image+from+URL:+Error+short+description\">Bug report</a>"
   ]
  },
  {
   "cell_type": "markdown",
   "id": "1f0d988a-15e5-4f88-b400-781706f0a683",
   "metadata": {
    "papermill": {},
    "tags": []
   },
   "source": [
    "**Tags:** #python #image #url #naas #snippet"
   ]
  },
  {
   "cell_type": "markdown",
   "id": "d6a76fe1-d6aa-4f18-b852-e788476cd7d0",
   "metadata": {
    "papermill": {},
    "tags": []
   },
   "source": [
    "**Author:** [Abraham Israel](https://www.linkedin.com/in/abraham-israel/)"
   ]
  },
  {
   "cell_type": "markdown",
   "id": "naas-description",
   "metadata": {
    "papermill": {},
    "tags": [
     "description"
    ]
   },
   "source": [
    "**Description:** This notebook provides a step-by-step guide to downloading an image from a URL using Python."
   ]
  },
  {
   "cell_type": "markdown",
   "id": "input_cell",
   "metadata": {
    "papermill": {},
    "tags": []
   },
   "source": [
    "## Input"
   ]
  },
  {
   "cell_type": "markdown",
   "id": "import_cell",
   "metadata": {
    "papermill": {},
    "tags": []
   },
   "source": [
    "### Import libraries"
   ]
  },
  {
   "cell_type": "code",
   "execution_count": 1,
   "id": "closing-mercury",
   "metadata": {
    "execution": {
     "iopub.execute_input": "2022-10-10T21:19:18.139674Z",
     "iopub.status.busy": "2022-10-10T21:19:18.139255Z",
     "iopub.status.idle": "2022-10-10T21:19:18.152691Z",
     "shell.execute_reply": "2022-10-10T21:19:18.152106Z",
     "shell.execute_reply.started": "2022-10-10T21:19:18.139607Z"
    },
    "papermill": {},
    "tags": []
   },
   "outputs": [],
   "source": [
    "try:\n",
    "    import wget\n",
    "except:\n",
    "    !pip install wget\n",
    "    import wget"
   ]
  },
  {
   "cell_type": "markdown",
   "id": "ef24f35b-b42a-4c95-b7e4-a79f9ab62c6b",
   "metadata": {
    "papermill": {},
    "tags": []
   },
   "source": [
    "### Setup Variables"
   ]
  },
  {
   "cell_type": "code",
   "execution_count": 2,
   "id": "c1a428b8-c4f4-4bcf-870e-e910a755d7ce",
   "metadata": {
    "execution": {
     "iopub.execute_input": "2022-10-10T21:19:18.154042Z",
     "iopub.status.busy": "2022-10-10T21:19:18.153609Z",
     "iopub.status.idle": "2022-10-10T21:19:18.306747Z",
     "shell.execute_reply": "2022-10-10T21:19:18.305989Z",
     "shell.execute_reply.started": "2022-10-10T21:19:18.154009Z"
    },
    "papermill": {},
    "tags": []
   },
   "outputs": [],
   "source": [
    "image_url = \"https://i0.wp.com/thenerddaily.com/wp-content/uploads/2018/08/Reasons-To-Watch-Anime.jpg\""
   ]
  },
  {
   "cell_type": "markdown",
   "id": "model_cell",
   "metadata": {
    "papermill": {},
    "tags": []
   },
   "source": [
    "## Model"
   ]
  },
  {
   "cell_type": "markdown",
   "id": "51f45bc0-42ec-4297-91e6-5330084b69fb",
   "metadata": {
    "papermill": {},
    "tags": []
   },
   "source": [
    "### Download Image"
   ]
  },
  {
   "cell_type": "code",
   "execution_count": 3,
   "id": "4dde982b",
   "metadata": {
    "execution": {
     "iopub.execute_input": "2022-10-10T21:19:18.308473Z",
     "iopub.status.busy": "2022-10-10T21:19:18.308234Z",
     "iopub.status.idle": "2022-10-10T21:19:18.533700Z",
     "shell.execute_reply": "2022-10-10T21:19:18.533106Z",
     "shell.execute_reply.started": "2022-10-10T21:19:18.308443Z"
    },
    "papermill": {},
    "tags": []
   },
   "outputs": [],
   "source": [
    "image_name = wget.download(image_url)"
   ]
  },
  {
   "cell_type": "markdown",
   "id": "output_cell",
   "metadata": {
    "papermill": {},
    "tags": []
   },
   "source": [
    "## Output"
   ]
  },
  {
   "cell_type": "markdown",
   "id": "display_cell",
   "metadata": {
    "papermill": {},
    "tags": []
   },
   "source": [
    "### Display result"
   ]
  },
  {
   "cell_type": "code",
   "execution_count": 4,
   "id": "working-world",
   "metadata": {
    "execution": {
     "iopub.execute_input": "2022-10-10T21:19:18.536635Z",
     "iopub.status.busy": "2022-10-10T21:19:18.536466Z",
     "iopub.status.idle": "2022-10-10T21:19:18.605245Z",
     "shell.execute_reply": "2022-10-10T21:19:18.604481Z",
     "shell.execute_reply.started": "2022-10-10T21:19:18.536615Z"
    },
    "papermill": {},
    "tags": []
   },
   "outputs": [],
   "source": [
    "print(\"Image downloaded: /\", image_name)\n",
    "\n",
    "from IPython.display import Image\n",
    "\n",
    "Image(filename=image_name)"
   ]
  },
  {
   "cell_type": "code",
   "execution_count": null,
   "id": "1f73fca3-5761-48f2-9f86-f7dda49c66b4",
   "metadata": {
    "papermill": {},
    "tags": []
   },
   "outputs": [],
   "source": []
  }
 ],
 "metadata": {
  "kernelspec": {
   "display_name": "Python 3",
   "language": "python",
   "name": "python3"
  },
  "language_info": {
   "codemirror_mode": {
    "name": "ipython",
    "version": 3
   },
   "file_extension": ".py",
   "mimetype": "text/x-python",
   "name": "python",
   "nbconvert_exporter": "python",
   "pygments_lexer": "ipython3",
   "version": "3.9.6"
  },
  "papermill": {
   "default_parameters": {},
   "environment_variables": {},
   "parameters": {},
   "version": "2.3.3"
  },
  "vscode": {
   "interpreter": {
    "hash": "31f2aee4e71d21fbe5cf8b01ff0e069b9275f58929596ceb00d14d90e3e16cd6"
   }
  },
  "widgets": {
   "application/vnd.jupyter.widget-state+json": {
    "state": {},
    "version_major": 2,
    "version_minor": 0
   }
  }
 },
 "nbformat": 4,
 "nbformat_minor": 5
}