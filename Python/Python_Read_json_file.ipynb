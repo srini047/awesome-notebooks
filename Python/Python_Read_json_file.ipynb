{
 "cells": [
  {
   "cell_type": "markdown",
   "id": "938d9fa1-5f33-4b1c-a073-8bc4065c45fb",
   "metadata": {
    "papermill": {},
    "tags": []
   },
   "source": [
    "<img width=\"10%\" alt=\"Naas\" src=\"https://landen.imgix.net/jtci2pxwjczr/assets/5ice39g4.png?w=160\"/>"
   ]
  },
  {
   "cell_type": "markdown",
   "id": "df50635b-6326-4141-96c3-ff171716c295",
   "metadata": {
    "papermill": {},
    "tags": []
   },
   "source": [
    "# Python - Read json file\n",
    "<a href=\"https://app.naas.ai/user-redirect/naas/downloader?url=https://raw.githubusercontent.com/jupyter-naas/awesome-notebooks/master/Python/Python_Read_json_file.ipynb\" target=\"_parent\"><img src=\"https://naasai-public.s3.eu-west-3.amazonaws.com/open_in_naas.svg\"/></a><br><br><a href=\"https://github.com/jupyter-naas/awesome-notebooks/issues/new?assignees=&labels=&template=template-request.md&title=Tool+-+Action+of+the+notebook+\">Template request</a> | <a href=\"https://github.com/jupyter-naas/awesome-notebooks/issues/new?assignees=&labels=bug&template=bug_report.md&title=Python+-+Read+json+file:+Error+short+description\">Bug report</a>"
   ]
  },
  {
   "cell_type": "markdown",
   "id": "7f0aaa12-3eeb-4de9-a331-ae2acd633d73",
   "metadata": {
    "papermill": {},
    "tags": []
   },
   "source": [
    "**Tags:** #python #json #read #file #data #parse"
   ]
  },
  {
   "cell_type": "markdown",
   "id": "ff436e05-c347-46b6-895d-ef030965955c",
   "metadata": {
    "papermill": {},
    "tags": []
   },
   "source": [
    "**Author:** [Sriniketh Jayasendil](https://www.linkedin.com/in/sriniketh-jayasendil/)"
   ]
  },
  {
   "cell_type": "markdown",
   "id": "c34e25e2-6e18-423a-8171-9a53b908f8d2",
   "metadata": {
    "papermill": {},
    "tags": []
   },
   "source": [
    "**Description:** This notebook will demonstrate how to read a json file in Python."
   ]
  },
  {
   "cell_type": "markdown",
   "id": "32a39269-9f73-43d4-8d3a-545733436471",
   "metadata": {
    "papermill": {},
    "tags": []
   },
   "source": [
    "**References:**\n",
    "- [Python json module](https://docs.python.org/3/library/json.html)\n",
    "- [JSON format](https://www.json.org/json-en.html)"
   ]
  },
  {
   "cell_type": "markdown",
   "id": "5e371692-1cc5-4751-b8ef-c7171c7c9562",
   "metadata": {
    "papermill": {},
    "tags": []
   },
   "source": [
    "## Input"
   ]
  },
  {
   "cell_type": "markdown",
   "id": "4d5b8197-09c8-4ca1-9997-3103db0fcbcf",
   "metadata": {
    "papermill": {},
    "tags": []
   },
   "source": [
    "### Import libraries"
   ]
  },
  {
   "cell_type": "code",
   "execution_count": null,
   "id": "25e9d285-f6b4-4da5-8995-b2d3b25a755d",
   "metadata": {
    "papermill": {},
    "tags": []
   },
   "outputs": [],
   "source": [
    "import json"
   ]
  },
  {
   "cell_type": "markdown",
   "id": "900920f4-dc14-4a60-9082-20731b36af7c",
   "metadata": {
    "papermill": {},
    "tags": []
   },
   "source": [
    "### Setup Variables\n",
    "- `file_name`: Name of the json file to be read"
   ]
  },
  {
   "cell_type": "code",
   "execution_count": null,
   "id": "b1d6e56e-3eb7-4b64-bfce-342cb96fad67",
   "metadata": {
    "papermill": {},
    "tags": []
   },
   "outputs": [],
   "source": [
    "file_name = \"data.json\""
   ]
  },
  {
   "cell_type": "markdown",
   "id": "305071a0-cd72-4032-ba8f-7a97e78b39a4",
   "metadata": {
    "papermill": {},
    "tags": []
   },
   "source": [
    "## Model"
   ]
  },
  {
   "cell_type": "markdown",
   "id": "46cf7375-5884-4a50-a137-98e59e178655",
   "metadata": {
    "papermill": {},
    "tags": []
   },
   "source": [
    "### Read json file"
   ]
  },
  {
   "cell_type": "markdown",
   "id": "f0f5999e-0592-49d9-b3cf-fea08b3f5b87",
   "metadata": {
    "papermill": {},
    "tags": []
   },
   "source": [
    "This function will read the json file and return the content as a dictionary."
   ]
  },
  {
   "cell_type": "code",
   "execution_count": null,
   "id": "884b5c18-249e-491e-9af8-98d6709a7102",
   "metadata": {
    "papermill": {},
    "tags": []
   },
   "outputs": [],
   "source": [
    "def read_json_file(file_name):\n",
    "    with open(file_name) as json_file:\n",
    "        data = json.load(json_file)\n",
    "    return data"
   ]
  },
  {
   "cell_type": "markdown",
   "id": "fe4ab7f9-321e-4ac7-ab36-f16f29939fab",
   "metadata": {
    "papermill": {},
    "tags": []
   },
   "source": [
    "## Output"
   ]
  },
  {
   "cell_type": "markdown",
   "id": "3b0029f8-7a51-4f60-9def-7eb88ad95741",
   "metadata": {
    "papermill": {},
    "tags": []
   },
   "source": [
    "### Display result"
   ]
  },
  {
   "cell_type": "code",
   "execution_count": null,
   "id": "79fd1ae2-97b8-4bf5-9773-ee3eb73ab02a",
   "metadata": {
    "papermill": {},
    "tags": []
   },
   "outputs": [],
   "source": [
    "data = read_json_file(file_name)\n",
    "print(data)"
   ]
  },
  {
   "cell_type": "markdown",
   "id": "ee6dd6c4-619a-4d3c-ba45-2801a4d309b3",
   "metadata": {
    "papermill": {},
    "tags": []
   },
   "source": [
    " "
   ]
  }
 ],
 "metadata": {
  "kernelspec": {
   "display_name": "Python 3",
   "language": "python",
   "name": "python3"
  },
  "language_info": {
   "codemirror_mode": {
    "name": "ipython",
    "version": 3
   },
   "file_extension": ".py",
   "mimetype": "text/x-python",
   "name": "python",
   "nbconvert_exporter": "python",
   "pygments_lexer": "ipython3",
   "version": "3.9.6"
  },
  "papermill": {
   "default_parameters": {},
   "environment_variables": {},
   "parameters": {},
   "version": "2.4.0"
  },
  "widgets": {
   "application/vnd.jupyter.widget-state+json": {
    "state": {},
    "version_major": 2,
    "version_minor": 0
   }
  }
 },
 "nbformat": 4,
 "nbformat_minor": 5
}