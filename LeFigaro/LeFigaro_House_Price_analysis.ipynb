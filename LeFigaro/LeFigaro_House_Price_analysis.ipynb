{
 "cells": [
  {
   "cell_type": "markdown",
   "id": "3db2965e",
   "metadata": {
    "papermill": {},
    "tags": []
   },
   "source": [
    "<img width=\"10%\" alt=\"Naas\" src=\"https://landen.imgix.net/jtci2pxwjczr/assets/5ice39g4.png?w=160\"/>"
   ]
  },
  {
   "cell_type": "markdown",
   "id": "8e16d75a",
   "metadata": {
    "papermill": {},
    "tags": []
   },
   "source": [
    "# LeFigaro - House Price analysis\n",
    "<a href=\"https://app.naas.ai/user-redirect/naas/downloader?url=https://raw.githubusercontent.com/jupyter-naas/awesome-notebooks/master/LeFigaro/LeFigaro_House_Price_analysis.ipynb\" target=\"_parent\"><img src=\"https://naasai-public.s3.eu-west-3.amazonaws.com/Open_in_Naas_Lab.svg\"/></a><br><br><a href=\"https://github.com/jupyter-naas/awesome-notebooks/issues/new?assignees=&labels=&template=template-request.md&title=Tool+-+Action+of+the+notebook+\">Template request</a> | <a href=\"https://github.com/jupyter-naas/awesome-notebooks/issues/new?assignees=&labels=bug&template=bug_report.md&title=LeFigaro+-+House+Price+analysis:+Error+short+description\">Bug report</a> | <a href=\"https://app.naas.ai/user-redirect/naas/downloader?url=https://raw.githubusercontent.com/jupyter-naas/awesome-notebooks/master/Naas/Naas_Start_data_product.ipynb\" target=\"_parent\">Generate Data Product</a>"
   ]
  },
  {
   "cell_type": "markdown",
   "id": "daa4fe42",
   "metadata": {
    "execution": {
     "iopub.execute_input": "2022-06-11T06:41:37.327510Z",
     "iopub.status.busy": "2022-06-11T06:41:37.327283Z",
     "iopub.status.idle": "2022-06-11T06:41:37.338730Z",
     "shell.execute_reply": "2022-06-11T06:41:37.337744Z",
     "shell.execute_reply.started": "2022-06-11T06:41:37.327488Z"
    },
    "papermill": {},
    "tags": []
   },
   "source": [
    "**Tags:** #lefigaro #investors #immobilier #markdown #graph #chart #analytics"
   ]
  },
  {
   "cell_type": "markdown",
   "id": "a5720eb0",
   "metadata": {
    "papermill": {},
    "tags": []
   },
   "source": [
    "**Author:** [Mahanamana Andriamiharisoa](https://www.linkedin.com/in/mahanamana/)"
   ]
  },
  {
   "cell_type": "markdown",
   "id": "naas-description",
   "metadata": {
    "papermill": {},
    "tags": [
     "description"
    ]
   },
   "source": [
    "**Description:** This notebook provides an analysis of house prices in France using data from LeFigaro."
   ]
  },
  {
   "cell_type": "markdown",
   "id": "32403c86",
   "metadata": {
    "papermill": {},
    "tags": []
   },
   "source": [
    "## Input"
   ]
  },
  {
   "cell_type": "markdown",
   "id": "9a9d93e5",
   "metadata": {
    "papermill": {},
    "tags": []
   },
   "source": [
    "### Import libraries"
   ]
  },
  {
   "cell_type": "code",
   "execution_count": null,
   "id": "9b3b3fad",
   "metadata": {
    "papermill": {},
    "tags": []
   },
   "outputs": [],
   "source": [
    "import requests\n",
    "from bs4 import BeautifulSoup\n",
    "import pandas as pd\n",
    "import numpy as np\n",
    "import matplotlib.pyplot as plt\n",
    "import plotly.express as px\n",
    "import naas"
   ]
  },
  {
   "cell_type": "markdown",
   "id": "bdedc3b3",
   "metadata": {
    "papermill": {},
    "tags": []
   },
   "source": [
    "### Setup variables"
   ]
  },
  {
   "cell_type": "code",
   "execution_count": null,
   "id": "e83d1eca",
   "metadata": {
    "papermill": {},
    "tags": []
   },
   "outputs": [],
   "source": [
    "title = \"House price analysis\"\n",
    "lefigaro_url = \"https://immobilier.lefigaro.fr/annonces/immobilier-vente-maison-paris.html?page=\"  # link can be changed but keep ?page= to ensure scraping\n",
    "PAGES = 20  # change the number of pages to scrape\n",
    "\n",
    "# Output paths\n",
    "output_image = f\"{title}.png\"\n",
    "output_html = f\"{title}.html\""
   ]
  },
  {
   "cell_type": "markdown",
   "id": "15ee8851",
   "metadata": {
    "papermill": {},
    "tags": []
   },
   "source": [
    "### Setup scheduler"
   ]
  },
  {
   "cell_type": "code",
   "execution_count": null,
   "id": "c6a831bf",
   "metadata": {
    "papermill": {},
    "tags": []
   },
   "outputs": [],
   "source": [
    "# if you want to activate or delete the scheduler, uncomment the lines below:\n",
    "\n",
    "# naas.scheduler.add(cron=\"0 8 * * *\") #every day at 8am\n",
    "# naas.scheduler.delete()"
   ]
  },
  {
   "cell_type": "markdown",
   "id": "039b3014",
   "metadata": {
    "papermill": {},
    "tags": []
   },
   "source": [
    "## Model"
   ]
  },
  {
   "cell_type": "markdown",
   "id": "769ace9d",
   "metadata": {
    "papermill": {},
    "tags": []
   },
   "source": [
    "### Define functions to get"
   ]
  },
  {
   "cell_type": "code",
   "execution_count": null,
   "id": "fa1a0caf",
   "metadata": {
    "papermill": {},
    "tags": []
   },
   "outputs": [],
   "source": [
    "def get_prices(items):\n",
    "    prices = []\n",
    "    for item in items:\n",
    "        price = item.select(\".price\")[0].get_text().strip().replace(\"€\", \"\").split()\n",
    "        prices.append(\"\".join(price))\n",
    "    return prices\n",
    "\n",
    "\n",
    "def get_location(items):\n",
    "    locations = []\n",
    "    for item in items:\n",
    "        location = item.select(\".title-location\")[0].get_text().strip().split(\" \")\n",
    "        location.pop()\n",
    "        location = \"\".join(location)\n",
    "        locations.append(location)\n",
    "    return locations\n",
    "\n",
    "\n",
    "def get_vars(items):\n",
    "    options = []\n",
    "    piece = []\n",
    "    chambre = []\n",
    "    surface = []\n",
    "    for item in items:\n",
    "        option = item.select(\".options\")\n",
    "        try:\n",
    "            piece.append(option[0].get_text().strip().split(\" \")[0])\n",
    "        except IndexError:\n",
    "            piece.append(None)\n",
    "        try:\n",
    "            chambre.append(option[1].get_text().strip().split(\" \")[0])\n",
    "        except IndexError:\n",
    "            chambre.append(None)\n",
    "        try:\n",
    "            surface.append(option[2].get_text().strip().split(\"M\")[0])\n",
    "        except IndexError:\n",
    "            surface.append(None)\n",
    "\n",
    "    return [piece, chambre, surface]"
   ]
  },
  {
   "cell_type": "markdown",
   "id": "a1168dc9",
   "metadata": {
    "papermill": {},
    "tags": []
   },
   "source": [
    "### Use functions to scrape data"
   ]
  },
  {
   "cell_type": "code",
   "execution_count": null,
   "id": "bcb51b7c",
   "metadata": {
    "papermill": {},
    "tags": []
   },
   "outputs": [],
   "source": [
    "for page in range(PAGES):\n",
    "    url = lefigaro_url + str(page + 1)\n",
    "\n",
    "    whole_html = requests.get(url)\n",
    "\n",
    "    soup = BeautifulSoup(whole_html.content, \"html.parser\")\n",
    "\n",
    "    cartouche_list = soup.findAll(True, {\"class\": \"cartouche-liste\"})\n",
    "\n",
    "    data = pd.DataFrame(\n",
    "        {\n",
    "            \"price_(euro)\": get_prices(cartouche_list),\n",
    "            \"localisation\": get_location(cartouche_list),\n",
    "            \"piece\": get_vars(cartouche_list)[0],\n",
    "            \"chambre\": get_vars(cartouche_list)[1],\n",
    "            \"surface_(m2)\": get_vars(cartouche_list)[2],\n",
    "        }\n",
    "    )\n",
    "\n",
    "    if page == 0:\n",
    "        data.to_csv(\"figaro_dataset.csv\", index=False, encoding=\"utf-8\")\n",
    "        print(str(page + 1) + \" file creation iteration.\")\n",
    "    elif page != 0:\n",
    "        data.to_csv(\n",
    "            \"figaro_dataset.csv\", mode=\"a\", index=False, encoding=\"utf-8\", header=False\n",
    "        )\n",
    "        print(str(page + 1) + \" file appending iteration.\")"
   ]
  },
  {
   "cell_type": "code",
   "execution_count": null,
   "id": "4c658ced",
   "metadata": {
    "papermill": {},
    "tags": []
   },
   "outputs": [],
   "source": [
    "df = pd.read_csv(\"figaro_dataset.csv\")\n",
    "df.dropna(axis=0, inplace=True)"
   ]
  },
  {
   "cell_type": "markdown",
   "id": "3f2e705f",
   "metadata": {
    "papermill": {},
    "tags": []
   },
   "source": [
    "### Clean data to create outputs"
   ]
  },
  {
   "cell_type": "code",
   "execution_count": null,
   "id": "b31034cc",
   "metadata": {
    "papermill": {},
    "tags": []
   },
   "outputs": [],
   "source": [
    "try:\n",
    "    df[\"surface_(m2)\"] = df[\"surface_(m2)\"].str.split(\" \", expand=True)[0]\n",
    "    df = df[~df[\"surface_(m2)\"].str.contains(\"[0-9]+[a-zA-Z]+\", regex=True)]\n",
    "except:\n",
    "    pass\n",
    "try:\n",
    "    df = df[~df[\"price_(euro)\"].str.contains(\"[^0-9]\", regex=True)]\n",
    "except:\n",
    "    pass\n",
    "\n",
    "df[\"price_(euro)\"] = pd.to_numeric(\n",
    "    df[\"price_(euro)\"], downcast=\"float\", errors=\"coerce\"\n",
    ")\n",
    "df[\"piece\"] = pd.to_numeric(df[\"piece\"], errors=\"coerce\")\n",
    "df[\"chambre\"] = pd.to_numeric(df[\"chambre\"], errors=\"coerce\")\n",
    "df[\"surface_(m2)\"] = pd.to_numeric(df[\"surface_(m2)\"], errors=\"coerce\")\n",
    "df.dropna(axis=0, inplace=True)"
   ]
  },
  {
   "cell_type": "markdown",
   "id": "d2207820",
   "metadata": {
    "papermill": {},
    "tags": []
   },
   "source": [
    "## Output"
   ]
  },
  {
   "cell_type": "markdown",
   "id": "27c610a1",
   "metadata": {
    "execution": {
     "iopub.execute_input": "2022-06-10T11:20:53.328805Z",
     "iopub.status.busy": "2022-06-10T11:20:53.328564Z",
     "iopub.status.idle": "2022-06-10T11:20:53.333694Z",
     "shell.execute_reply": "2022-06-10T11:20:53.333037Z",
     "shell.execute_reply.started": "2022-06-10T11:20:53.328776Z"
    },
    "papermill": {},
    "tags": []
   },
   "source": [
    "### Create chart"
   ]
  },
  {
   "cell_type": "code",
   "execution_count": null,
   "id": "68448996",
   "metadata": {
    "papermill": {},
    "tags": []
   },
   "outputs": [],
   "source": [
    "labels = {\n",
    "    \"chambre\": \"Nb. Chambres\",\n",
    "    \"piece\": \"Nb. Pieces\",\n",
    "    \"localisation\": \"Localisation\",\n",
    "    \"price_(euro)\": \"Prix en euro\",\n",
    "}\n",
    "fig = px.scatter(\n",
    "    df[:50],\n",
    "    x=\"chambre\",\n",
    "    y=\"price_(euro)\",\n",
    "    hover_name=\"localisation\",\n",
    "    color=\"localisation\",\n",
    "    size=\"price_(euro)\",\n",
    "    labels=labels,\n",
    "    width=1000,\n",
    "    height=800,\n",
    ")\n",
    "\n",
    "fig.update_layout(title=title)\n",
    "fig.show()"
   ]
  },
  {
   "cell_type": "markdown",
   "id": "5c6927ca",
   "metadata": {
    "papermill": {},
    "tags": []
   },
   "source": [
    "### Export in PNG and HTML"
   ]
  },
  {
   "cell_type": "code",
   "execution_count": null,
   "id": "4cb9263b",
   "metadata": {
    "papermill": {},
    "tags": []
   },
   "outputs": [],
   "source": [
    "fig.write_image(output_image, width=1200)\n",
    "fig.write_html(output_html)"
   ]
  },
  {
   "cell_type": "markdown",
   "id": "2470b676",
   "metadata": {
    "papermill": {},
    "tags": []
   },
   "source": [
    "### Create shareable assets"
   ]
  },
  {
   "cell_type": "code",
   "execution_count": null,
   "id": "a7de0263",
   "metadata": {
    "papermill": {},
    "tags": []
   },
   "outputs": [],
   "source": [
    "link_image = naas.asset.add(output_image)\n",
    "link_html = naas.asset.add(output_html, {\"inline\": True})"
   ]
  }
 ],
 "metadata": {
  "kernelspec": {
   "display_name": "Python 3",
   "language": "python",
   "name": "python3"
  },
  "language_info": {
   "codemirror_mode": {
    "name": "ipython",
    "version": 3
   },
   "file_extension": ".py",
   "mimetype": "text/x-python",
   "name": "python",
   "nbconvert_exporter": "python",
   "pygments_lexer": "ipython3",
   "version": "3.9.6"
  },
  "naas": {
   "notebook_id": "fe3d8478a7a0ec3a8547714e3830c73fe246cb33bbe5bafbf00d39bee94ce2e9",
   "notebook_path": "LeFigaro/LeFigaro_House_Price_analysis.ipynb"
  },
  "papermill": {
   "default_parameters": {},
   "environment_variables": {},
   "parameters": {},
   "version": "2.3.4"
  }
 },
 "nbformat": 4,
 "nbformat_minor": 5
}