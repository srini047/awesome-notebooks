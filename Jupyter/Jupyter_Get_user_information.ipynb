{
 "cells": [
  {
   "cell_type": "markdown",
   "id": "norwegian-making",
   "metadata": {
    "papermill": {},
    "tags": []
   },
   "source": [
    "<img width=\"10%\" alt=\"Naas\" src=\"https://landen.imgix.net/jtci2pxwjczr/assets/5ice39g4.png?w=160\"/>"
   ]
  },
  {
   "cell_type": "markdown",
   "id": "color-electric",
   "metadata": {
    "execution": {
     "iopub.execute_input": "2021-02-23T07:25:55.665867Z",
     "iopub.status.busy": "2021-02-23T07:25:55.665598Z",
     "iopub.status.idle": "2021-02-23T07:25:55.670756Z",
     "shell.execute_reply": "2021-02-23T07:25:55.670230Z",
     "shell.execute_reply.started": "2021-02-23T07:25:55.665804Z"
    },
    "papermill": {},
    "tags": []
   },
   "source": [
    "# Jupyter - Get user information\n",
    "<a href=\"https://app.naas.ai/user-redirect/naas/downloader?url=https://raw.githubusercontent.com/jupyter-naas/awesome-notebooks/master/Jupyter/Jupyter_Get_user_information.ipynb\" target=\"_parent\"><img src=\"https://naasai-public.s3.eu-west-3.amazonaws.com/open_in_naas.svg\"/></a><br><br><a href=\"https://github.com/jupyter-naas/awesome-notebooks/issues/new?assignees=&labels=&template=template-request.md&title=Tool+-+Action+of+the+notebook+\">Template request</a> | <a href=\"https://github.com/jupyter-naas/awesome-notebooks/issues/new?assignees=&labels=bug&template=bug_report.md&title=Jupyter+-+Get+user+information:+Error+short+description\">Bug report</a>"
   ]
  },
  {
   "cell_type": "markdown",
   "id": "853a3f7a-4e96-4d3f-a24e-9b7c7a4ce447",
   "metadata": {
    "papermill": {},
    "tags": []
   },
   "source": [
    "**Tags:** #jupyter #user #snippet #operations #naas"
   ]
  },
  {
   "cell_type": "markdown",
   "id": "naas-author",
   "metadata": {
    "papermill": {},
    "tags": [
     "naas"
    ]
   },
   "source": [
    "**Author:** [Florent Ravenel](https://www.linkedin.com/in/ACoAABCNSioBW3YZHc2lBHVG0E_TXYWitQkmwog/)"
   ]
  },
  {
   "cell_type": "markdown",
   "id": "naas-description",
   "metadata": {
    "papermill": {},
    "tags": [
     "description"
    ]
   },
   "source": [
    "**Description:** This notebook provides a way to retrieve user information from Jupyter."
   ]
  },
  {
   "cell_type": "markdown",
   "id": "5122dd4e-31f2-41b9-bc53-5ace84c8345a",
   "metadata": {
    "papermill": {},
    "tags": []
   },
   "source": [
    "## Input"
   ]
  },
  {
   "cell_type": "markdown",
   "id": "6596d880-db1b-456b-922a-2d774da72c10",
   "metadata": {
    "papermill": {},
    "tags": []
   },
   "source": [
    "### Import libraries"
   ]
  },
  {
   "cell_type": "code",
   "execution_count": null,
   "id": "5fa41ba7-9d3d-46b6-8e96-609d09792578",
   "metadata": {
    "papermill": {},
    "tags": []
   },
   "outputs": [],
   "source": [
    "from naas_drivers import jupyter\n",
    "from os import environ"
   ]
  },
  {
   "cell_type": "markdown",
   "id": "d42f9a18-b435-435a-8604-29447171c544",
   "metadata": {
    "papermill": {},
    "tags": []
   },
   "source": [
    "### Setup your Jupyter"
   ]
  },
  {
   "cell_type": "code",
   "execution_count": null,
   "id": "52eb5952-9d15-487e-ad0f-08efbd046408",
   "metadata": {
    "papermill": {},
    "tags": []
   },
   "outputs": [],
   "source": [
    "# Jupyter token\n",
    "JUPYTER_TOKEN = environ.get(\"JUPYTERHUB_API_TOKEN\")"
   ]
  },
  {
   "cell_type": "markdown",
   "id": "6435f8e3-220b-4edf-9c64-a676ea61646b",
   "metadata": {
    "papermill": {},
    "tags": []
   },
   "source": [
    "## Model"
   ]
  },
  {
   "cell_type": "markdown",
   "id": "444efe5a-8348-4b50-a308-83a14b95307f",
   "metadata": {
    "papermill": {},
    "tags": []
   },
   "source": [
    "### Get user information"
   ]
  },
  {
   "cell_type": "code",
   "execution_count": null,
   "id": "critical-neutral",
   "metadata": {
    "papermill": {},
    "tags": []
   },
   "outputs": [],
   "source": [
    "data = jupyter.connect(JUPYTER_TOKEN).get_me()"
   ]
  },
  {
   "cell_type": "markdown",
   "id": "1a96b44b-eca0-4129-94af-53293654ef54",
   "metadata": {
    "papermill": {},
    "tags": []
   },
   "source": [
    "## Output"
   ]
  },
  {
   "cell_type": "markdown",
   "id": "7c7eb6c7-2516-4049-b0f9-cb318cf73672",
   "metadata": {
    "papermill": {},
    "tags": []
   },
   "source": [
    "### Display result"
   ]
  },
  {
   "cell_type": "code",
   "execution_count": null,
   "id": "imported-muslim",
   "metadata": {
    "papermill": {},
    "tags": []
   },
   "outputs": [],
   "source": [
    "data"
   ]
  }
 ],
 "metadata": {
  "kernelspec": {
   "display_name": "Python 3",
   "language": "python",
   "name": "python3"
  },
  "language_info": {
   "codemirror_mode": {
    "name": "ipython",
    "version": 3
   },
   "file_extension": ".py",
   "mimetype": "text/x-python",
   "name": "python",
   "nbconvert_exporter": "python",
   "pygments_lexer": "ipython3",
   "version": "3.9.6"
  },
  "naas": {
   "notebook_id": "b761a454-7f21-45c7-a6c3-520503ac169a",
   "notebook_path": "Jupyter/Jupyter_Get_user_information.ipynb"
  },
  "papermill": {
   "default_parameters": {},
   "environment_variables": {},
   "parameters": {},
   "version": "2.3.3"
  }
 },
 "nbformat": 4,
 "nbformat_minor": 5
}