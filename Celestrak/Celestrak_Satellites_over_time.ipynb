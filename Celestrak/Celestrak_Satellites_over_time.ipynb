{
 "cells": [
  {
   "cell_type": "markdown",
   "id": "naas-logo",
   "metadata": {
    "papermill": {},
    "tags": [
     "naas"
    ]
   },
   "source": [
    "<img width=\"10%\" alt=\"Naas\" src=\"https://landen.imgix.net/jtci2pxwjczr/assets/5ice39g4.png?w=160\"/>"
   ]
  },
  {
   "cell_type": "markdown",
   "id": "located-temperature",
   "metadata": {
    "execution": {
     "iopub.execute_input": "2021-05-19T07:42:23.666460Z",
     "iopub.status.busy": "2021-05-19T07:42:23.666241Z",
     "iopub.status.idle": "2021-05-19T07:42:23.669434Z",
     "shell.execute_reply": "2021-05-19T07:42:23.668778Z",
     "shell.execute_reply.started": "2021-05-19T07:42:23.666438Z"
    },
    "papermill": {},
    "tags": []
   },
   "source": [
    "# Celestrak - Satellites over time\n",
    "<a href=\"https://app.naas.ai/user-redirect/naas/downloader?url=https://raw.githubusercontent.com/jupyter-naas/awesome-notebooks/master/Celestrak/Celestrak_Satellites_over_time.ipynb\" target=\"_parent\"><img src=\"https://naasai-public.s3.eu-west-3.amazonaws.com/open_in_naas.svg\"/></a><br><br><a href=\"https://github.com/jupyter-naas/awesome-notebooks/issues/new?assignees=&labels=&template=template-request.md&title=Tool+-+Action+of+the+notebook+\">Template request</a> | <a href=\"https://github.com/jupyter-naas/awesome-notebooks/issues/new?assignees=&labels=bug&template=bug_report.md&title=Celestrak+-+Satellites+over+time:+Error+short+description\">Bug report</a>"
   ]
  },
  {
   "cell_type": "markdown",
   "id": "e5c5e75b-7e2e-4b30-9376-8c1441ebdac5",
   "metadata": {
    "papermill": {},
    "tags": []
   },
   "source": [
    "**Tags:** #celestrak #opendata #satellites #analytics #plotly"
   ]
  },
  {
   "cell_type": "markdown",
   "id": "naas-author",
   "metadata": {
    "papermill": {},
    "tags": [
     "naas"
    ]
   },
   "source": [
    "**Author:** [Dumorya](https://github.com/Dumorya)"
   ]
  },
  {
   "cell_type": "markdown",
   "id": "naas-description",
   "metadata": {
    "papermill": {},
    "tags": [
     "description"
    ]
   },
   "source": [
    "**Description:** This notebook provides a visual representation of the changing number of satellites in Earth's orbit over time."
   ]
  },
  {
   "cell_type": "markdown",
   "id": "civic-quantity",
   "metadata": {
    "execution": {
     "iopub.execute_input": "2021-05-19T07:20:40.704203Z",
     "iopub.status.busy": "2021-05-19T07:20:40.703946Z",
     "iopub.status.idle": "2021-05-19T07:20:40.707275Z",
     "shell.execute_reply": "2021-05-19T07:20:40.706641Z",
     "shell.execute_reply.started": "2021-05-19T07:20:40.704140Z"
    },
    "papermill": {},
    "tags": []
   },
   "source": [
    "## Input"
   ]
  },
  {
   "cell_type": "markdown",
   "id": "88583430-f37e-4fe5-9930-6ccbe8043ac0",
   "metadata": {
    "papermill": {},
    "tags": []
   },
   "source": [
    "### Import librairies"
   ]
  },
  {
   "cell_type": "code",
   "execution_count": null,
   "id": "regional-begin",
   "metadata": {
    "papermill": {},
    "tags": []
   },
   "outputs": [],
   "source": [
    "import pandas as pd\n",
    "import plotly.express as px\n",
    "import plotly.graph_objects as go\n",
    "import numpy as np"
   ]
  },
  {
   "cell_type": "markdown",
   "id": "fcb3fb7c-7cc7-415f-a354-5895e8e4671a",
   "metadata": {
    "papermill": {},
    "tags": []
   },
   "source": [
    "### Variables"
   ]
  },
  {
   "cell_type": "code",
   "execution_count": null,
   "id": "balanced-malaysia",
   "metadata": {
    "papermill": {},
    "tags": []
   },
   "outputs": [],
   "source": [
    "URL = \"http://www.celestrak.com/pub/satcat.csv\""
   ]
  },
  {
   "cell_type": "markdown",
   "id": "optional-fifty",
   "metadata": {
    "papermill": {},
    "tags": []
   },
   "source": [
    "## Model"
   ]
  },
  {
   "cell_type": "markdown",
   "id": "9579ef9a-3e96-4440-8266-a7cde959ee54",
   "metadata": {
    "papermill": {},
    "tags": []
   },
   "source": [
    "### Recovery and processing of CSV data"
   ]
  },
  {
   "cell_type": "code",
   "execution_count": null,
   "id": "approved-attribute",
   "metadata": {
    "papermill": {},
    "tags": []
   },
   "outputs": [],
   "source": [
    "df = pd.read_csv(URL)\n",
    "df = df[[\"OPS_STATUS_CODE\", \"LAUNCH_DATE\", \"DECAY_DATE\"]]\n",
    "df[\"DECAY_DATE\"] = df[\"DECAY_DATE\"].mask(df[\"DECAY_DATE\"].isnull(), \"9999\")\n",
    "df[\"LAUNCH_DATE\"] = df[\"LAUNCH_DATE\"].str[:4].astype(int)\n",
    "df[\"DECAY_DATE\"] = df[\"DECAY_DATE\"].str[:4].astype(int)\n",
    "years = df[\"LAUNCH_DATE\"].unique()\n",
    "inactive = list()\n",
    "active = list()\n",
    "\n",
    "for year in years:\n",
    "    active.append(\n",
    "        len(\n",
    "            df[\n",
    "                (\n",
    "                    (df[\"OPS_STATUS_CODE\"].isin([\"+\", \"P\", \"B\", \"S\", \"X\"]))\n",
    "                    & (df[\"LAUNCH_DATE\"] <= year)\n",
    "                )\n",
    "                | (\n",
    "                    (df[\"DECAY_DATE\"] > year)\n",
    "                    & (df[\"OPS_STATUS_CODE\"] == \"D\")\n",
    "                    & (df[\"LAUNCH_DATE\"] <= year)\n",
    "                )\n",
    "            ].index\n",
    "        )\n",
    "    )\n",
    "\n",
    "    inactive.append(\n",
    "        len(\n",
    "            df[\n",
    "                ((df[\"OPS_STATUS_CODE\"] == \"D\") & (df[\"DECAY_DATE\"] <= year))\n",
    "                | ((df[\"OPS_STATUS_CODE\"] == \"-\") & (df[\"LAUNCH_DATE\"] <= year))\n",
    "            ].index\n",
    "        )\n",
    "    )"
   ]
  },
  {
   "cell_type": "markdown",
   "id": "caring-shelter",
   "metadata": {
    "papermill": {},
    "tags": []
   },
   "source": [
    "## Output"
   ]
  },
  {
   "cell_type": "markdown",
   "id": "32132808-8894-4ca9-a1cf-ff8ab67dda20",
   "metadata": {
    "papermill": {},
    "tags": []
   },
   "source": [
    "### Display plot of the number of satellites in space over time"
   ]
  },
  {
   "cell_type": "code",
   "execution_count": null,
   "id": "limited-recall",
   "metadata": {
    "papermill": {},
    "tags": []
   },
   "outputs": [],
   "source": [
    "fig = go.Figure(\n",
    "    data=[\n",
    "        go.Bar(name=\"Inactive satellites\", x=years, y=inactive),\n",
    "        go.Bar(name=\"Active satellites\", x=years, y=active),\n",
    "    ]\n",
    ")\n",
    "# Change the bar mode\n",
    "fig.update_layout(\n",
    "    title=\"Number of satellites in space over time\",\n",
    "    xaxis_title=\"Years\",\n",
    "    yaxis_title=\"Number of satellites\",\n",
    "    barmode=\"stack\",\n",
    ")\n",
    "fig.show()"
   ]
  },
  {
   "cell_type": "markdown",
   "id": "lesser-nigeria",
   "metadata": {
    "papermill": {},
    "tags": []
   },
   "source": [
    "Source: http://www.celestrak.com/pub/satcat.csv"
   ]
  },
  {
   "cell_type": "markdown",
   "id": "e2ada70e-cff4-475b-9a86-aefbde3b7605",
   "metadata": {
    "papermill": {},
    "tags": []
   },
   "source": [
    "### Display the percentage of inactive VS active satellites from 1957 to now"
   ]
  },
  {
   "cell_type": "code",
   "execution_count": null,
   "id": "a0ad3cb0-76c9-4415-8850-f58894423872",
   "metadata": {
    "papermill": {},
    "tags": []
   },
   "outputs": [],
   "source": [
    "labels = years\n",
    "widths = [100 / len(years) for year in years]\n",
    "\n",
    "active_percentage = list()\n",
    "inactive_percentage = list()\n",
    "\n",
    "for index, _ in np.ndenumerate(active):\n",
    "    total = active[index[0]] + inactive[index[0]]\n",
    "    active_percentage.append(active[index[0]] / total * 100)\n",
    "    inactive_percentage.append(inactive[index[0]] / total * 100)\n",
    "\n",
    "data = {\"Inactive\": inactive_percentage, \"Active\": active_percentage}\n",
    "\n",
    "fig = go.Figure()\n",
    "for key in data:\n",
    "    fig.add_trace(go.Bar(name=key, y=data[key], x=years, offset=0))\n",
    "\n",
    "fig.update_xaxes(range=[years[0], years[-1]])\n",
    "fig.update_yaxes(range=[0, 100])\n",
    "\n",
    "fig.update_layout(\n",
    "    title_text=\"Percentage of inactive VS active satellites from 1957 to now\",\n",
    "    barmode=\"stack\",\n",
    "    uniformtext=dict(mode=\"hide\", minsize=10),\n",
    ")"
   ]
  }
 ],
 "metadata": {
  "kernelspec": {
   "display_name": "Python 3",
   "language": "python",
   "name": "python3"
  },
  "language_info": {
   "codemirror_mode": {
    "name": "ipython",
    "version": 3
   },
   "file_extension": ".py",
   "mimetype": "text/x-python",
   "name": "python",
   "nbconvert_exporter": "python",
   "pygments_lexer": "ipython3",
   "version": "3.9.6"
  },
  "naas": {
   "notebook_id": "05728927-5d18-4b32-90c2-f0e7c2adc2da",
   "notebook_path": "Celestrak/Celestrak_Satellites_over_time.ipynb"
  },
  "papermill": {
   "default_parameters": {},
   "environment_variables": {},
   "parameters": {},
   "version": "2.3.3"
  }
 },
 "nbformat": 4,
 "nbformat_minor": 5
}