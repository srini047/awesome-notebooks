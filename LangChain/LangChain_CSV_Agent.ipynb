{
 "cells": [
  {
   "cell_type": "markdown",
   "id": "ef942509-6981-40b7-894d-4f6c33607de2",
   "metadata": {
    "papermill": {},
    "tags": []
   },
   "source": [
    "<img width=\"10%\" alt=\"Naas\" src=\"https://landen.imgix.net/jtci2pxwjczr/assets/5ice39g4.png?w=160\"/>"
   ]
  },
  {
   "cell_type": "markdown",
   "id": "ca4c2cd5-6acc-49c1-9336-72eb54c5ec83",
   "metadata": {
    "papermill": {},
    "tags": []
   },
   "source": [
    "# LangChain - CSV Agent\n",
    "<a href=\"https://app.naas.ai/user-redirect/naas/downloader?url=https://raw.githubusercontent.com/jupyter-naas/awesome-notebooks/master/LangChain/LangChain_CSV_Agent.ipynb\" target=\"_parent\"><img src=\"https://naasai-public.s3.eu-west-3.amazonaws.com/Open_in_Naas_Lab.svg\"/></a><br><br><a href=\"https://github.com/jupyter-naas/awesome-notebooks/issues/new?assignees=&labels=&template=template-request.md&title=Tool+-+Action+of+the+notebook+\">Template request</a> | <a href=\"https://github.com/jupyter-naas/awesome-notebooks/issues/new?assignees=&labels=bug&template=bug_report.md&title=LangChain+-+CSV+Agent:+Error+short+description\">Bug report</a> | <a href=\"https://app.naas.ai/user-redirect/naas/downloader?url=https://raw.githubusercontent.com/jupyter-naas/awesome-notebooks/master/Naas/Naas_Start_data_product.ipynb\" target=\"_parent\">Generate Data Product</a>"
   ]
  },
  {
   "cell_type": "markdown",
   "id": "df7190c7-9f84-4ef9-afed-cbeec9189bdf",
   "metadata": {
    "papermill": {},
    "tags": []
   },
   "source": [
    "**Tags:** #csv #agent #langchain #questionanswering #toolkit #example"
   ]
  },
  {
   "cell_type": "markdown",
   "id": "cda2f1ea-c2df-45c5-9329-d832077dadfb",
   "metadata": {
    "papermill": {},
    "tags": []
   },
   "source": [
    "**Author:** [Hamid Mukhtar](https://www.linkedin.com/in/mukhtar-hamid/)"
   ]
  },
  {
   "cell_type": "markdown",
   "id": "09056bc2-135e-46e8-a422-4ef3dfabf41e",
   "metadata": {
    "papermill": {},
    "tags": []
   },
   "source": [
    "**Description:** This notebook shows how to use agents to interact with a csv. It is mostly optimized for question answering."
   ]
  },
  {
   "cell_type": "markdown",
   "id": "a250dcaf-66c0-40a0-a7f5-c2ff8d50a4c6",
   "metadata": {
    "papermill": {},
    "tags": []
   },
   "source": [
    "**References:**\n",
    "- [LangChain - CSV Agent](https://python.langchain.com/docs/modules/agents/toolkits/csv)\n",
    "- [LangChain - Agents](https://python.langchain.com/en/latest/modules/agents/index.html)"
   ]
  },
  {
   "cell_type": "markdown",
   "id": "70cb3b03-1af8-47b0-a299-2c798e4e0452",
   "metadata": {
    "papermill": {},
    "tags": []
   },
   "source": [
    "## Input"
   ]
  },
  {
   "cell_type": "markdown",
   "id": "90208573-1f14-4e2b-8900-e304035a2570",
   "metadata": {
    "papermill": {},
    "tags": []
   },
   "source": [
    "### Import libraries\n",
    "Note: You may need to restart the kernel to use updated packages."
   ]
  },
  {
   "cell_type": "code",
   "execution_count": null,
   "id": "de70f076-2e23-4d17-9e65-d7812366aad5",
   "metadata": {
    "papermill": {},
    "tags": []
   },
   "outputs": [],
   "source": [
    "try:\n",
    "    import langchain\n",
    "except:\n",
    "    !pip install langchain tabulate typing-inspect==0.8.0 typing_extensions==4.5.0 --user\n",
    "from langchain.agents import create_csv_agent\n",
    "from langchain.llms import OpenAI\n",
    "from langchain.chat_models import ChatOpenAI\n",
    "from langchain.agents.agent_types import AgentType\n",
    "import pandas as pd\n",
    "import naas"
   ]
  },
  {
   "cell_type": "markdown",
   "id": "0e4b4668-1cfa-4aa8-b453-2c9f863b6f29",
   "metadata": {
    "papermill": {},
    "tags": []
   },
   "source": [
    "### Setup Variables\n",
    "- `api_key`: OpenAI API key. [Get your API key here](https://openai.com/docs/api-overview/).\n",
    "- `temperature` (Defaults to 1): This is a value that controls the level of randomness in the generated text. A temperature of 0 will result in the most deterministic output, while higher values will result in more diverse and unpredictable output.\n",
    "- `csv_path`: CSV path\n",
    "- `question`: question to be asked to agent"
   ]
  },
  {
   "cell_type": "code",
   "execution_count": null,
   "id": "54158c1d-3ddf-45ed-8989-9f1fd2240b6f",
   "metadata": {
    "papermill": {},
    "tags": []
   },
   "outputs": [],
   "source": [
    "api_key = naas.secret.get(name=\"OPENAI_API_KEY\") or \"ENTER_YOUR_OPENAI_API_KEY\"\n",
    "temperature = 0\n",
    "csv_path = \"https://covid.ourworldindata.org/data/owid-covid-data.csv\"\n",
    "question = \"what is the number of total_cases in France?\""
   ]
  },
  {
   "cell_type": "markdown",
   "id": "b2e7787e-2c76-4c52-a462-3b0b0eea0e99",
   "metadata": {
    "papermill": {},
    "tags": []
   },
   "source": [
    "## Model"
   ]
  },
  {
   "cell_type": "markdown",
   "id": "42e7d79c-befa-4403-8e52-6baf319edaac",
   "metadata": {
    "papermill": {},
    "tags": []
   },
   "source": [
    "### Read CSV"
   ]
  },
  {
   "cell_type": "code",
   "execution_count": null,
   "id": "c6586e15-c376-4638-b26d-09ae72b5b814",
   "metadata": {
    "papermill": {},
    "tags": []
   },
   "outputs": [],
   "source": [
    "df = pd.read_csv(csv_path)\n",
    "df.head(1)"
   ]
  },
  {
   "cell_type": "markdown",
   "id": "b12cd05b-2e46-4924-a899-7e7b3ceaa4b6",
   "metadata": {
    "papermill": {},
    "tags": []
   },
   "source": [
    "### Create Agent"
   ]
  },
  {
   "cell_type": "code",
   "execution_count": null,
   "id": "3e7ed65d-7a16-4b7b-a735-c494e5fa2604",
   "metadata": {
    "papermill": {},
    "tags": []
   },
   "outputs": [],
   "source": [
    "# Create Agent\n",
    "agent = create_csv_agent(\n",
    "    OpenAI(temperature=temperature, openai_api_key=api_key),\n",
    "    csv_path,\n",
    "    verbose=True\n",
    ")"
   ]
  },
  {
   "cell_type": "markdown",
   "id": "8cb3b5de-f037-4d44-b3cf-a3d52555f213",
   "metadata": {
    "papermill": {},
    "tags": []
   },
   "source": [
    "## Output"
   ]
  },
  {
   "cell_type": "markdown",
   "id": "e90ad73e-e778-46a4-929d-5c61ca93b909",
   "metadata": {
    "papermill": {},
    "tags": []
   },
   "source": [
    "### Display result"
   ]
  },
  {
   "cell_type": "code",
   "execution_count": null,
   "id": "9629a646-86e8-4fe7-870e-474f61550ea0",
   "metadata": {
    "papermill": {},
    "tags": []
   },
   "outputs": [],
   "source": [
    "res = agent.run(question)\n",
    "print(\"Result:\", res)"
   ]
  },
  {
   "cell_type": "markdown",
   "id": "0df1bc9b-9f21-4d02-8998-a4a356420497",
   "metadata": {
    "papermill": {},
    "tags": []
   },
   "source": [
    " "
   ]
  }
 ],
 "metadata": {
  "kernelspec": {
   "display_name": "Python 3",
   "language": "python",
   "name": "python3"
  },
  "language_info": {
   "codemirror_mode": {
    "name": "ipython",
    "version": 3
   },
   "file_extension": ".py",
   "mimetype": "text/x-python",
   "name": "python",
   "nbconvert_exporter": "python",
   "pygments_lexer": "ipython3",
   "version": "3.9.6"
  },
  "naas": {
   "notebook_id": "658a8244b01dfe532c4faaf8423ce808aca1020f8afdf491d99810b8e1cb4ba1",
   "notebook_path": "LangChain/LangChain_CSV_Agent.ipynb"
  },
  "papermill": {
   "default_parameters": {},
   "environment_variables": {},
   "parameters": {},
   "version": "2.4.0"
  },
  "widgets": {
   "application/vnd.jupyter.widget-state+json": {
    "state": {},
    "version_major": 2,
    "version_minor": 0
   }
  }
 },
 "nbformat": 4,
 "nbformat_minor": 5
}