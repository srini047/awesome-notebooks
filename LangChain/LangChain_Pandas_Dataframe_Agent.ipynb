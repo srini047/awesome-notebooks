{
 "cells": [
  {
   "cell_type": "markdown",
   "id": "061acb9c-37b2-4aa2-9e33-d997cca4115c",
   "metadata": {
    "papermill": {},
    "tags": []
   },
   "source": [
    "<img width=\"10%\" alt=\"Naas\" src=\"https://landen.imgix.net/jtci2pxwjczr/assets/5ice39g4.png?w=160\"/>"
   ]
  },
  {
   "cell_type": "markdown",
   "id": "821d172f-6c16-4cfa-9fac-26fe002bfc61",
   "metadata": {
    "papermill": {},
    "tags": []
   },
   "source": [
    "# LangChain - Pandas Dataframe Agent\n",
    "<a href=\"https://app.naas.ai/user-redirect/naas/downloader?url=https://raw.githubusercontent.com/jupyter-naas/awesome-notebooks/master/LangChain/LangChain_Pandas_Dataframe_Agent.ipynb\" target=\"_parent\"><img src=\"https://naasai-public.s3.eu-west-3.amazonaws.com/Open_in_Naas_Lab.svg\"/></a><br><br><a href=\"https://github.com/jupyter-naas/awesome-notebooks/issues/new?assignees=&labels=&template=template-request.md&title=Tool+-+Action+of+the+notebook+\">Template request</a> | <a href=\"https://github.com/jupyter-naas/awesome-notebooks/issues/new?assignees=&labels=bug&template=bug_report.md&title=LangChain+-+Pandas+Dataframe+Agent:+Error+short+description\">Bug report</a> | <a href=\"https://app.naas.ai/user-redirect/naas/downloader?url=https://raw.githubusercontent.com/jupyter-naas/awesome-notebooks/master/Naas/Naas_Start_data_product.ipynb\" target=\"_parent\">Generate Data Product</a>"
   ]
  },
  {
   "cell_type": "markdown",
   "id": "d6c2bd43-41b8-419d-b223-0bc1a5b91b26",
   "metadata": {
    "papermill": {},
    "tags": []
   },
   "source": [
    "**Tags:** #langchain #pandas #dataframe #agent #python #toolkit"
   ]
  },
  {
   "cell_type": "markdown",
   "id": "9f2cefe2-df28-4328-b02c-9946f13694ce",
   "metadata": {
    "papermill": {},
    "tags": []
   },
   "source": [
    "**Author:** [Florent Ravenel](https://www.linkedin.com/in/florent-ravenel/)"
   ]
  },
  {
   "cell_type": "markdown",
   "id": "477dc5fa-ed7d-4268-934a-f59b051777d0",
   "metadata": {
    "papermill": {},
    "tags": []
   },
   "source": [
    "**Description:** This notebook shows how to use agents to interact with a pandas dataframe. It is mostly optimized for question answering."
   ]
  },
  {
   "cell_type": "markdown",
   "id": "c68d8962-ad01-43d4-8282-fc5a5a72b27a",
   "metadata": {
    "papermill": {},
    "tags": []
   },
   "source": [
    "**References:**\n",
    "- [LangChain - Pandas Dataframe Agent](https://python.langchain.com/en/latest/modules/agents/toolkits/examples/pandas.html)"
   ]
  },
  {
   "cell_type": "markdown",
   "id": "cab090ce-c853-4fed-aec3-5b2b74743fce",
   "metadata": {
    "papermill": {},
    "tags": []
   },
   "source": [
    "## Input"
   ]
  },
  {
   "cell_type": "markdown",
   "id": "9b6cfafe-0dbf-41f0-a6ec-80d55059d8e9",
   "metadata": {
    "papermill": {},
    "tags": []
   },
   "source": [
    "### Import libraries\n",
    "Note: You may need to restart the kernel to use updated packages."
   ]
  },
  {
   "cell_type": "code",
   "execution_count": null,
   "id": "1e6cb2d7-3f8d-4e59-ba07-d1514e04b1fd",
   "metadata": {
    "papermill": {},
    "tags": []
   },
   "outputs": [],
   "source": [
    "try:\n",
    "    import langchain\n",
    "except:\n",
    "    !pip install langchain tabulate typing-inspect==0.8.0 typing_extensions==4.5.0 --user\n",
    "from langchain.agents import create_pandas_dataframe_agent\n",
    "from langchain.llms import OpenAI\n",
    "import pandas as pd\n",
    "import naas"
   ]
  },
  {
   "cell_type": "markdown",
   "id": "4abd33c0-470c-4add-b993-4910963b5673",
   "metadata": {
    "papermill": {},
    "tags": []
   },
   "source": [
    "### Setup Variables\n",
    "- `api_key`: OpenAI API key. [Get your API key here](https://openai.com/docs/api-overview/).\n",
    "- `temperature` (Defaults to 1): This is a value that controls the level of randomness in the generated text. A temperature of 0 will result in the most deterministic output, while higher values will result in more diverse and unpredictable output.\n",
    "- `df`: pandas dataframe\n",
    "- `question`: question to be asked to agent"
   ]
  },
  {
   "cell_type": "code",
   "execution_count": null,
   "id": "e5809198-c7cd-4bcd-ba12-76c99f80713a",
   "metadata": {
    "papermill": {},
    "tags": []
   },
   "outputs": [],
   "source": [
    "api_key = naas.secret.get(name=\"OPENAI_API_KEY\") or \"ENTER_YOUR_OPENAI_API_KEY\"\n",
    "temperature = 0\n",
    "df = pd.DataFrame({\"A\": [1, 2, 3], \"B\": [4, 5, 6]})\n",
    "question = \"what is the sum of column B?\""
   ]
  },
  {
   "cell_type": "markdown",
   "id": "2b0e77e7-2991-42c5-b1ae-c4c10091cc51",
   "metadata": {
    "papermill": {},
    "tags": []
   },
   "source": [
    "## Model"
   ]
  },
  {
   "cell_type": "markdown",
   "id": "ace8f85d-86ee-4ee2-bab8-efbcd7911069",
   "metadata": {
    "papermill": {},
    "tags": []
   },
   "source": [
    "### Create Agent"
   ]
  },
  {
   "cell_type": "code",
   "execution_count": null,
   "id": "853abe8d-6cb3-4f7b-b1a7-9e2872cd7d07",
   "metadata": {
    "papermill": {},
    "tags": []
   },
   "outputs": [],
   "source": [
    "# Create Agent\n",
    "agent = create_pandas_dataframe_agent(OpenAI(temperature=temperature, openai_api_key=api_key), [df], verbose=True)"
   ]
  },
  {
   "cell_type": "markdown",
   "id": "93761f23-dfea-4c7a-afc8-7204030e3df6",
   "metadata": {
    "papermill": {},
    "tags": []
   },
   "source": [
    "## Output"
   ]
  },
  {
   "cell_type": "markdown",
   "id": "d6984941-fb26-4bf2-bdc1-f4b8aa92f30e",
   "metadata": {
    "papermill": {},
    "tags": []
   },
   "source": [
    "### Display result"
   ]
  },
  {
   "cell_type": "code",
   "execution_count": null,
   "id": "c03ef8be-6ec7-42b0-8a3a-255cb84f7d30",
   "metadata": {
    "papermill": {},
    "tags": []
   },
   "outputs": [],
   "source": [
    "res = agent.run(question)\n",
    "print(\"Result:\", res)"
   ]
  },
  {
   "cell_type": "markdown",
   "id": "1c8afc6e-455c-46d1-a898-fac2c1f2099e",
   "metadata": {
    "papermill": {},
    "tags": []
   },
   "source": [
    " "
   ]
  }
 ],
 "metadata": {
  "kernelspec": {
   "display_name": "Python 3",
   "language": "python",
   "name": "python3"
  },
  "language_info": {
   "codemirror_mode": {
    "name": "ipython",
    "version": 3
   },
   "file_extension": ".py",
   "mimetype": "text/x-python",
   "name": "python",
   "nbconvert_exporter": "python",
   "pygments_lexer": "ipython3",
   "version": "3.9.6"
  },
  "naas": {
   "notebook_id": "cbffbc54c632f632e483b97eefb687edc995365015f26e51df9e55644b0272ac",
   "notebook_path": "LangChain/LangChain_Pandas_Dataframe_Agent.ipynb"
  },
  "papermill": {
   "default_parameters": {},
   "environment_variables": {},
   "parameters": {},
   "version": "2.4.0"
  },
  "widgets": {
   "application/vnd.jupyter.widget-state+json": {
    "state": {},
    "version_major": 2,
    "version_minor": 0
   }
  }
 },
 "nbformat": 4,
 "nbformat_minor": 5
}
