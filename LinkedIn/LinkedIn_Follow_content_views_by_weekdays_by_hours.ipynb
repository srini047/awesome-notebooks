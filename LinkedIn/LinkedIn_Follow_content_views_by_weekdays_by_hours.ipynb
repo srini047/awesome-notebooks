{
 "cells": [
  {
   "cell_type": "markdown",
   "id": "a6fcf7c9",
   "metadata": {
    "papermill": {},
    "tags": []
   },
   "source": [
    "<img width=\"10%\" alt=\"Naas\" src=\"https://landen.imgix.net/jtci2pxwjczr/assets/5ice39g4.png?w=160\"/>\n"
   ]
  },
  {
   "cell_type": "markdown",
   "id": "7217870e",
   "metadata": {
    "papermill": {},
    "tags": []
   },
   "source": [
    "# LinkedIn - Follow content views by weekdays by hours\n",
    "<a href=\"https://app.naas.ai/user-redirect/naas/downloader?url=https://raw.githubusercontent.com/jupyter-naas/awesome-notebooks/master/LinkedIn/LinkedIn_Follow_content_views_by_weekdays_by_hours.ipynb\" target=\"_parent\"><img src=\"https://naasai-public.s3.eu-west-3.amazonaws.com/open_in_naas.svg\"/></a><br><br><a href=\"https://github.com/jupyter-naas/awesome-notebooks/issues/new?assignees=&labels=&template=template-request.md&title=Tool+-+Action+of+the+notebook+\">Template request</a> | <a href=\"https://github.com/jupyter-naas/awesome-notebooks/issues/new?assignees=&labels=bug&template=bug_report.md&title=LinkedIn+-+Follow+content+views+by+weekdays+by+hours:+Error+short+description\">Bug report</a>"
   ]
  },
  {
   "cell_type": "markdown",
   "id": "c8756b96",
   "metadata": {
    "papermill": {},
    "tags": []
   },
   "source": [
    "**Tags:** #linkedin #html #plotly #csv #image #content #analytics #dependency"
   ]
  },
  {
   "cell_type": "markdown",
   "id": "520d91fd",
   "metadata": {
    "papermill": {},
    "tags": []
   },
   "source": [
    "**Author:** [Florent Ravenel](https://www.linkedin.com/in/florent-ravenel/)"
   ]
  },
  {
   "cell_type": "markdown",
   "id": "naas-description",
   "metadata": {
    "papermill": {},
    "tags": [
     "description"
    ]
   },
   "source": [
    "**Description:** This notebook provides an analysis of the views of content on LinkedIn by day of the week and hour of the day."
   ]
  },
  {
   "cell_type": "markdown",
   "id": "7d2b6e8a-bcf9-46bd-9d9a-2f9e25b5a4df",
   "metadata": {
    "papermill": {},
    "tags": []
   },
   "source": [
    "<div class=\"alert alert-info\" role=\"info\" style=\"margin: 10px\">\n",
    "<b>Requirements:</b><br>\n",
    "To run this notebook, you must have already run <b>LinkedIn_Get_profile_posts_stats.ipynb</b> or <b>LinkedIn_Get_company_posts_stats.ipynb</b> to get your post stats in CSV.<br>\n",
    "</div>"
   ]
  },
  {
   "cell_type": "markdown",
   "id": "227b8ffb",
   "metadata": {
    "papermill": {},
    "tags": []
   },
   "source": [
    "## Input"
   ]
  },
  {
   "cell_type": "markdown",
   "id": "88b8b60b-3da5-44e1-8c78-30ee5e2ed039",
   "metadata": {
    "papermill": {},
    "tags": []
   },
   "source": [
    "### Import libraries"
   ]
  },
  {
   "cell_type": "code",
   "execution_count": null,
   "id": "dcc3882a-2ff9-41fc-8fa4-3984f055d8c9",
   "metadata": {
    "papermill": {},
    "tags": []
   },
   "outputs": [],
   "source": [
    "import naas\n",
    "import pandas as pd\n",
    "from datetime import datetime\n",
    "import plotly.graph_objects as go\n",
    "from pandas.tseries.offsets import MonthEnd\n",
    "import calendar\n",
    "from dateutil.relativedelta import relativedelta"
   ]
  },
  {
   "cell_type": "markdown",
   "id": "fb2817fb",
   "metadata": {
    "papermill": {},
    "tags": []
   },
   "source": [
    "### Setup Variables"
   ]
  },
  {
   "cell_type": "code",
   "execution_count": null,
   "id": "423e1f0b",
   "metadata": {
    "papermill": {},
    "tags": []
   },
   "outputs": [],
   "source": [
    "# Input\n",
    "csv_input = f\"LINKEDIN_PROFILE_POSTS.csv\"  # CSV path with your posts stats generated with 'LinkedIn_Get_profile_posts_stats.ipynb' or 'LinkedIn_Get_company_posts_stats.ipynb'\n",
    "TITLE = \"View reach\"  # Chart title\n",
    "\n",
    "# Outputs\n",
    "name_output = \"LINKEDIN_FOLLOW_CONTENT_VIEWS_REACH\"\n",
    "csv_output = f\"{name_output}.csv\"\n",
    "html_output = f\"{name_output}.html\"\n",
    "image_output = f\"{name_output}.png\""
   ]
  },
  {
   "cell_type": "markdown",
   "id": "024797b3",
   "metadata": {
    "papermill": {},
    "tags": []
   },
   "source": [
    "### Setup Naas dependency"
   ]
  },
  {
   "cell_type": "code",
   "execution_count": null,
   "id": "17dcc289",
   "metadata": {
    "papermill": {},
    "tags": []
   },
   "outputs": [],
   "source": [
    "naas.dependency.add()\n",
    "\n",
    "# -> Uncomment the line below to remove your dependency\n",
    "# naas.dependency.delete()"
   ]
  },
  {
   "cell_type": "markdown",
   "id": "1bb8c4cd",
   "metadata": {
    "papermill": {},
    "tags": []
   },
   "source": [
    "## Model"
   ]
  },
  {
   "cell_type": "markdown",
   "id": "024e9efb-4c80-4c60-a455-103af0884d2d",
   "metadata": {
    "papermill": {},
    "tags": []
   },
   "source": [
    "### Get your posts\n",
    "Get posts feed from CSV stored in your local (Returns empty if CSV does not exist)"
   ]
  },
  {
   "cell_type": "code",
   "execution_count": null,
   "id": "6d00847f-e9bf-4f92-a2b4-406468fb09e2",
   "metadata": {
    "papermill": {},
    "tags": []
   },
   "outputs": [],
   "source": [
    "def read_csv(file_path):\n",
    "    try:\n",
    "        df = pd.read_csv(file_path)\n",
    "    except FileNotFoundError as e:\n",
    "        # Empty dataframe returned\n",
    "        return pd.DataFrame()\n",
    "    return df\n",
    "\n",
    "\n",
    "df_posts = read_csv(csv_input)\n",
    "print(\"✅ Posts fetched:\", len(df_posts))\n",
    "df_posts.head(1)"
   ]
  },
  {
   "cell_type": "markdown",
   "id": "b28cd5c7-0d68-41dd-9da4-7950131516bc",
   "metadata": {
    "papermill": {},
    "tags": []
   },
   "source": [
    "### Get frequency"
   ]
  },
  {
   "cell_type": "code",
   "execution_count": null,
   "id": "12efcdac-acf5-4881-b408-4533b2f1fd26",
   "metadata": {
    "papermill": {},
    "tags": []
   },
   "outputs": [],
   "source": [
    "def get_views_wdh(df_init, col_date, x_axis, y_axis, col_value, type_value):\n",
    "    # Init variable\n",
    "    df = df_init.copy()\n",
    "\n",
    "    # Setup date column and create X and Y axis analysis\n",
    "    df[col_value] = df[col_value].astype(int)\n",
    "    df[col_date] = pd.to_datetime(df[col_date].str[:18])\n",
    "    df[\"X_AXIS\"] = df[col_date].dt.strftime(x_axis)\n",
    "    df[\"Y_AXIS\"] = df[col_date].dt.strftime(y_axis)\n",
    "    df = df.rename(columns={col_value: \"VALUE\"})\n",
    "\n",
    "    # Groupby\n",
    "    to_group = [\n",
    "        \"X_AXIS\",\n",
    "        \"Y_AXIS\",\n",
    "    ]\n",
    "    df = df.groupby(to_group, as_index=False).agg({\"VALUE\": type_value})\n",
    "\n",
    "    # Create empty value\n",
    "    d = df[\"X_AXIS\"].max()\n",
    "    d2 = df[\"X_AXIS\"].min()\n",
    "    for x in range(int(d2), int(d) + 1):\n",
    "        data = [\n",
    "            {\"X_AXIS\": x, \"Y_AXIS\": \"1\", \"VALUE\": 0},\n",
    "            {\"X_AXIS\": x, \"Y_AXIS\": \"2\", \"VALUE\": 0},\n",
    "            {\"X_AXIS\": x, \"Y_AXIS\": \"3\", \"VALUE\": 0},\n",
    "            {\"X_AXIS\": x, \"Y_AXIS\": \"4\", \"VALUE\": 0},\n",
    "            {\"X_AXIS\": x, \"Y_AXIS\": \"5\", \"VALUE\": 0},\n",
    "            {\"X_AXIS\": x, \"Y_AXIS\": \"6\", \"VALUE\": 0},\n",
    "            {\"X_AXIS\": x, \"Y_AXIS\": \"7\", \"VALUE\": 0},\n",
    "        ]\n",
    "        tmp_df = pd.DataFrame(data)\n",
    "        df = pd.concat([tmp_df, df])\n",
    "\n",
    "    # Group by with empty values\n",
    "    df[\"X_AXIS\"] = df[\"X_AXIS\"].astype(int)\n",
    "    df = df.groupby(to_group, as_index=False).agg({\"VALUE\": \"sum\"})\n",
    "\n",
    "    # Sort values\n",
    "    df = df.sort_values(by=[\"X_AXIS\", \"Y_AXIS\"], ascending=[True, False])\n",
    "    return df.reset_index(drop=True)\n",
    "\n",
    "\n",
    "df_plotly = get_views_wdh(\n",
    "    df_posts,\n",
    "    col_date=\"PUBLISHED_DATE\",\n",
    "    x_axis=\"%H\",\n",
    "    y_axis=\"%u\",\n",
    "    col_value=\"VIEWS\",\n",
    "    type_value=\"sum\",\n",
    ")\n",
    "df_plotly"
   ]
  },
  {
   "cell_type": "markdown",
   "id": "6ccdd570-df2c-4756-9441-2e8f3fc2bb6c",
   "metadata": {
    "papermill": {},
    "tags": []
   },
   "source": [
    "### Plot Heatmap"
   ]
  },
  {
   "cell_type": "code",
   "execution_count": null,
   "id": "37f95764-2e42-493d-b357-7f029a1abdff",
   "metadata": {
    "papermill": {},
    "tags": []
   },
   "outputs": [],
   "source": [
    "LOGO = \"https://upload.wikimedia.org/wikipedia/commons/thumb/c/ca/LinkedIn_logo_initials.png/800px-LinkedIn_logo_initials.png\"  # Chart logo\n",
    "COLOR = \"#1293d2\"  # Chart primary color\n",
    "\n",
    "\n",
    "def create_heatmap(\n",
    "    df,\n",
    "    x_value=\"X_AXIS\",\n",
    "    y_value=\"Y_AXIS\",\n",
    "    z_value=\"VALUE\",\n",
    "    x_format=\"%H\",\n",
    "    x_format_d=\"%H\",\n",
    "    text=\"views\",\n",
    "):\n",
    "\n",
    "    # Add display values\n",
    "    df[\"X_AXIS_D\"] = pd.to_datetime(df[x_value], format=x_format).dt.strftime(\n",
    "        x_format_d\n",
    "    )\n",
    "    df[\"Y_AXIS_D\"] = df.apply(\n",
    "        lambda row: calendar.day_name[int(row[y_value]) - 1], axis=1\n",
    "    )\n",
    "    df[\"TEXT\"] = (\n",
    "        df[z_value].astype(str)\n",
    "        + f\" {text} on \"\n",
    "        + df[\"Y_AXIS_D\"]\n",
    "        + \"s, \"\n",
    "        + df[\"X_AXIS_D\"]\n",
    "    )\n",
    "\n",
    "    # Create graph data\n",
    "    x = sorted(df[x_value].unique().tolist())\n",
    "    y = sorted(df[y_value].unique().tolist(), reverse=True)\n",
    "\n",
    "    def get_values(df, y, value):\n",
    "        values = []\n",
    "        for i in y:\n",
    "            tmp = df[df[y_value] == i].reset_index(drop=True)\n",
    "            data = tmp[value].tolist()\n",
    "            values.append(data)\n",
    "        return values\n",
    "\n",
    "    z = get_values(df, y, z_value)\n",
    "    hovertext = get_values(df, y, \"TEXT\")\n",
    "\n",
    "    # Colors\n",
    "    colors = [\n",
    "        [0.00, \"#e7f4fa\"],\n",
    "        [0.01, \"#b7def1\"],\n",
    "        [0.25, \"#88c9e8\"],\n",
    "        [0.50, \"#59b3df\"],\n",
    "        [1.00, \"#1293d2\"],\n",
    "    ]\n",
    "\n",
    "    # Create fig\n",
    "    fig = go.Figure(\n",
    "        data=go.Heatmap(\n",
    "            x=df[\"X_AXIS_D\"].unique().tolist(),\n",
    "            y=df[\"Y_AXIS_D\"].unique().tolist(),\n",
    "            z=z,\n",
    "            text=hovertext,\n",
    "            hoverinfo=\"text\",\n",
    "            type=\"heatmap\",\n",
    "            colorscale=colors,\n",
    "            hoverongaps=False,\n",
    "        )\n",
    "    )\n",
    "    fig.add_layout_image(\n",
    "        dict(\n",
    "            source=LOGO,\n",
    "            xref=\"paper\",\n",
    "            yref=\"paper\",\n",
    "            x=-0.01,\n",
    "            y=1.045,\n",
    "            sizex=0.12,\n",
    "            sizey=0.12,\n",
    "            xanchor=\"right\",\n",
    "            yanchor=\"bottom\",\n",
    "        )\n",
    "    )\n",
    "    fig.update_traces(xgap=10, ygap=10, selector=dict(type=\"heatmap\"), showscale=False)\n",
    "    total_value = \"{:,.0f}\".format(df[z_value].sum()).replace(\",\", \" \")\n",
    "    fig.update_layout(\n",
    "        title=f\"<b><span style='font-size: 20px;'>{TITLE}</span></b><br><span style='font-size: 18px;'>Total {text}: {total_value}</span>\",\n",
    "        title_x=0.08,\n",
    "        title_font=dict(family=\"Arial\", size=20, color=\"black\"),\n",
    "        plot_bgcolor=\"#ffffff\",\n",
    "        width=1200,\n",
    "        height=600,\n",
    "        yaxis_scaleanchor=\"x\",\n",
    "    )\n",
    "    fig.show()\n",
    "    return fig\n",
    "\n",
    "\n",
    "fig = create_heatmap(df_plotly, x_value=\"X_AXIS\", y_value=\"Y_AXIS\", z_value=\"VALUE\")"
   ]
  },
  {
   "cell_type": "markdown",
   "id": "942c681d",
   "metadata": {
    "papermill": {},
    "tags": []
   },
   "source": [
    "## Output\n"
   ]
  },
  {
   "cell_type": "markdown",
   "id": "b4bb71da",
   "metadata": {
    "papermill": {},
    "tags": []
   },
   "source": [
    "### Save and share your csv file"
   ]
  },
  {
   "cell_type": "code",
   "execution_count": null,
   "id": "d43c7763",
   "metadata": {
    "papermill": {},
    "tags": []
   },
   "outputs": [],
   "source": [
    "# Save your dataframe in CSV\n",
    "df_plotly.to_csv(csv_output, index=False)\n",
    "\n",
    "# Share output with naas\n",
    "naas.asset.add(csv_output)\n",
    "\n",
    "# -> Uncomment the line below to remove your asset\n",
    "# naas.asset.delete(csv_output)"
   ]
  },
  {
   "cell_type": "markdown",
   "id": "2f26c093",
   "metadata": {
    "papermill": {},
    "tags": []
   },
   "source": [
    "### Save and share your graph in HTML"
   ]
  },
  {
   "cell_type": "code",
   "execution_count": null,
   "id": "6e0caceb",
   "metadata": {
    "papermill": {},
    "tags": []
   },
   "outputs": [],
   "source": [
    "# Save your graph in HTML\n",
    "fig.write_html(html_output)\n",
    "\n",
    "# Share output with naas\n",
    "naas.asset.add(html_output, params={\"inline\": True})\n",
    "\n",
    "# -> Uncomment the line below to remove your asset\n",
    "# naas.asset.delete(html_output)"
   ]
  },
  {
   "cell_type": "markdown",
   "id": "e327122e",
   "metadata": {
    "papermill": {},
    "tags": []
   },
   "source": [
    "### Save and share your graph in image"
   ]
  },
  {
   "cell_type": "code",
   "execution_count": null,
   "id": "124b1576",
   "metadata": {
    "papermill": {},
    "tags": []
   },
   "outputs": [],
   "source": [
    "# Save your graph in PNG\n",
    "fig.write_image(image_output)\n",
    "\n",
    "# Share output with naas\n",
    "naas.asset.add(image_output)\n",
    "\n",
    "# -> Uncomment the line below to remove your asset\n",
    "# naas.asset.delete(image_output)"
   ]
  }
 ],
 "metadata": {
  "kernelspec": {
   "display_name": "Python 3",
   "language": "python",
   "name": "python3"
  },
  "language_info": {
   "codemirror_mode": {
    "name": "ipython",
    "version": 3
   },
   "file_extension": ".py",
   "mimetype": "text/x-python",
   "name": "python",
   "nbconvert_exporter": "python",
   "pygments_lexer": "ipython3",
   "version": "3.9.6"
  },
  "papermill": {
   "default_parameters": {},
   "environment_variables": {},
   "parameters": {},
   "version": "2.3.4"
  }
 },
 "nbformat": 4,
 "nbformat_minor": 5
}