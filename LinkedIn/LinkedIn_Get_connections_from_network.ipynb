{
 "cells": [
  {
   "cell_type": "markdown",
   "id": "fresh-danish",
   "metadata": {
    "execution": {
     "iopub.execute_input": "2021-01-25T08:00:35.294800Z",
     "iopub.status.busy": "2021-01-25T08:00:35.294557Z",
     "iopub.status.idle": "2021-01-25T08:00:35.307281Z",
     "shell.execute_reply": "2021-01-25T08:00:35.306468Z",
     "shell.execute_reply.started": "2021-01-25T08:00:35.294775Z"
    },
    "papermill": {},
    "tags": []
   },
   "source": [
    "<img width=\"10%\" alt=\"Naas\" src=\"https://landen.imgix.net/jtci2pxwjczr/assets/5ice39g4.png?w=160\"/>"
   ]
  },
  {
   "cell_type": "markdown",
   "id": "federal-pixel",
   "metadata": {
    "papermill": {},
    "tags": []
   },
   "source": [
    "# LinkedIn - Get connections from network\n",
    "<a href=\"https://app.naas.ai/user-redirect/naas/downloader?url=https://raw.githubusercontent.com/jupyter-naas/awesome-notebooks/master/LinkedIn/LinkedIn_Get_connections_from_network.ipynb\" target=\"_parent\"><img src=\"https://naasai-public.s3.eu-west-3.amazonaws.com/open_in_naas.svg\"/></a><br><br><a href=\"https://github.com/jupyter-naas/awesome-notebooks/issues/new?assignees=&labels=&template=template-request.md&title=Tool+-+Action+of+the+notebook+\">Template request</a> | <a href=\"https://github.com/jupyter-naas/awesome-notebooks/issues/new?assignees=&labels=bug&template=bug_report.md&title=LinkedIn+-+Get+connections+from+network:+Error+short+description\">Bug report</a>"
   ]
  },
  {
   "cell_type": "markdown",
   "id": "be29252a-5f47-44cc-a178-c734ab5f042b",
   "metadata": {
    "papermill": {},
    "tags": []
   },
   "source": [
    "**Tags:** #linkedin #network #connections #naas_drivers #analytics #csv #html #image #content #plotly"
   ]
  },
  {
   "cell_type": "markdown",
   "id": "ce9b6fcd-b307-40ba-b872-668562f81947",
   "metadata": {
    "papermill": {},
    "tags": []
   },
   "source": [
    "**Author:** [Florent Ravenel](https://www.linkedin.com/in/florent-ravenel/)"
   ]
  },
  {
   "cell_type": "markdown",
   "id": "naas-description",
   "metadata": {
    "papermill": {},
    "tags": [
     "description"
    ]
   },
   "source": [
    "**Description:** This notebook helps you to build your professional network on LinkedIn by connecting with people in your network."
   ]
  },
  {
   "cell_type": "markdown",
   "id": "normal-rochester",
   "metadata": {
    "papermill": {},
    "tags": []
   },
   "source": [
    "## Input"
   ]
  },
  {
   "cell_type": "markdown",
   "id": "import_cell",
   "metadata": {
    "papermill": {},
    "tags": []
   },
   "source": [
    "### Import library"
   ]
  },
  {
   "cell_type": "code",
   "execution_count": null,
   "id": "recreational-season",
   "metadata": {
    "papermill": {},
    "tags": []
   },
   "outputs": [],
   "source": [
    "from naas_drivers import linkedin\n",
    "import pandas as pd\n",
    "from datetime import datetime\n",
    "import naas\n",
    "import plotly.graph_objects as go"
   ]
  },
  {
   "cell_type": "markdown",
   "id": "wrapped-benjamin",
   "metadata": {
    "papermill": {},
    "tags": []
   },
   "source": [
    "### Setup LinkedIn\n",
    "👉 <a href='https://www.notion.so/LinkedIn-driver-Get-your-cookies-d20a8e7e508e42af8a5b52e33f3dba75'>How to get your cookies ?</a>"
   ]
  },
  {
   "cell_type": "code",
   "execution_count": null,
   "id": "yellow-footage",
   "metadata": {
    "papermill": {},
    "tags": []
   },
   "outputs": [],
   "source": [
    "LI_AT = \"YOUR_COOKIE_LI_AT\"  # EXAMPLE AQFAzQN_PLPR4wAAAXc-FCKmgiMit5FLdY1af3-2\n",
    "JSESSIONID = \"YOUR_COOKIE_JSESSIONID\"  # EXAMPLE ajax:8379907400220387585"
   ]
  },
  {
   "cell_type": "markdown",
   "id": "66b77860-a95b-486c-a153-9cab521de365",
   "metadata": {
    "papermill": {},
    "tags": []
   },
   "source": [
    "### Variables"
   ]
  },
  {
   "cell_type": "code",
   "execution_count": null,
   "id": "63ba2bd2-cc65-4ddf-8d01-42460006a159",
   "metadata": {
    "papermill": {},
    "tags": []
   },
   "outputs": [],
   "source": [
    "# Outputs\n",
    "title = \"LinkedIn - Connections\"\n",
    "name_output = \"LinkedIn_connections\"\n",
    "csv_output = f\"{name_output}.csv\"\n",
    "html_output = f\"{name_output}.html\"\n",
    "image_output = f\"{name_output}.png\""
   ]
  },
  {
   "cell_type": "markdown",
   "id": "pediatric-emerald",
   "metadata": {
    "papermill": {},
    "tags": []
   },
   "source": [
    "## Model"
   ]
  },
  {
   "cell_type": "markdown",
   "id": "differential-agenda",
   "metadata": {
    "execution": {
     "iopub.execute_input": "2021-05-15T10:12:55.887028Z",
     "iopub.status.busy": "2021-05-15T10:12:55.886761Z",
     "iopub.status.idle": "2021-05-15T10:12:55.899441Z",
     "shell.execute_reply": "2021-05-15T10:12:55.898476Z",
     "shell.execute_reply.started": "2021-05-15T10:12:55.886964Z"
    },
    "papermill": {},
    "tags": []
   },
   "source": [
    "### Get connections from LinkedIn network\n",
    "**Available columns :**\n",
    "- FIRSTNAME : First name\n",
    "- LASTNAME : Last name\n",
    "- OCCUPATION : Text below the name in the profile page\n",
    "- CREATED_AT : Date of connection between and your connection\n",
    "- PROFILE_URL : Profile URL\n",
    "- PROFILE_PICTURE : Profile picture URL\n",
    "- PROFILE_ID : LinkedIn profile id\n",
    "- PUBLIC_ID : LinkedIn public profile id"
   ]
  },
  {
   "cell_type": "code",
   "execution_count": null,
   "id": "indoor-colon",
   "metadata": {
    "papermill": {},
    "tags": []
   },
   "outputs": [],
   "source": [
    "df_connections = linkedin.connect(LI_AT, JSESSIONID).network.get_connections(limit=-1)\n",
    "df_connections"
   ]
  },
  {
   "cell_type": "markdown",
   "id": "piano-stylus",
   "metadata": {
    "papermill": {},
    "tags": []
   },
   "source": [
    "## Output"
   ]
  },
  {
   "cell_type": "markdown",
   "id": "micro-funds",
   "metadata": {
    "papermill": {},
    "tags": []
   },
   "source": [
    "### Save connections to CSV"
   ]
  },
  {
   "cell_type": "code",
   "execution_count": null,
   "id": "threaded-minister",
   "metadata": {
    "papermill": {},
    "tags": []
   },
   "outputs": [],
   "source": [
    "df_connections.to_csv(csv_output, index=False)"
   ]
  },
  {
   "cell_type": "markdown",
   "id": "0bbe4f5f-0962-4f32-b2b9-ddd9f2183093",
   "metadata": {
    "papermill": {},
    "tags": []
   },
   "source": [
    "### Share outputs with naas"
   ]
  },
  {
   "cell_type": "code",
   "execution_count": null,
   "id": "a995ab0f-eb82-4dc2-8741-c397255702b3",
   "metadata": {
    "papermill": {},
    "tags": []
   },
   "outputs": [],
   "source": [
    "naas.asset.add(csv_output)\n",
    "\n",
    "# -> to remove your outputs, uncomment the lines and execute the cell\n",
    "# naas.asset.delete(csv_output)"
   ]
  }
 ],
 "metadata": {
  "kernelspec": {
   "display_name": "Python 3",
   "language": "python",
   "name": "python3"
  },
  "language_info": {
   "codemirror_mode": {
    "name": "ipython",
    "version": 3
   },
   "file_extension": ".py",
   "mimetype": "text/x-python",
   "name": "python",
   "nbconvert_exporter": "python",
   "pygments_lexer": "ipython3",
   "version": "3.9.6"
  },
  "naas": {
   "notebook_id": "c45ccb48-ed43-40a5-bb29-abb054d43357",
   "notebook_path": "LinkedIn/LinkedIn_Get_connections_from_network.ipynb"
  },
  "papermill": {
   "default_parameters": {},
   "environment_variables": {},
   "parameters": {},
   "version": "2.3.3"
  },
  "widgets": {
   "application/vnd.jupyter.widget-state+json": {
    "state": {},
    "version_major": 2,
    "version_minor": 0
   }
  }
 },
 "nbformat": 4,
 "nbformat_minor": 5
}