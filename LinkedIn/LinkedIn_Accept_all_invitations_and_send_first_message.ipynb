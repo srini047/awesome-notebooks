{
 "cells": [
  {
   "cell_type": "markdown",
   "id": "c706722a",
   "metadata": {
    "papermill": {},
    "tags": []
   },
   "source": [
    "<img width=\"10%\" alt=\"Naas\" src=\"https://landen.imgix.net/jtci2pxwjczr/assets/5ice39g4.png?w=160\"/>\n"
   ]
  },
  {
   "cell_type": "markdown",
   "id": "3cf2d443",
   "metadata": {
    "papermill": {},
    "tags": []
   },
   "source": [
    "# LinkedIn - Accept all invitations and send first message\n",
    "<a href=\"https://app.naas.ai/user-redirect/naas/downloader?url=https://raw.githubusercontent.com/jupyter-naas/awesome-notebooks/master/LinkedIn/LinkedIn_Accept_all_invitations_and_send_first_message.ipynb\" target=\"_parent\"><img src=\"https://naasai-public.s3.eu-west-3.amazonaws.com/Open_in_Naas_Lab.svg\"/></a><br><br><a href=\"https://github.com/jupyter-naas/awesome-notebooks/issues/new?assignees=&labels=&template=template-request.md&title=Tool+-+Action+of+the+notebook+\">Template request</a> | <a href=\"https://github.com/jupyter-naas/awesome-notebooks/issues/new?assignees=&labels=bug&template=bug_report.md&title=LinkedIn+-+Accept+all+invitations+and+send+first+message:+Error+short+description\">Bug report</a> | <a href=\"https://app.naas.ai/user-redirect/naas/downloader?url=https://raw.githubusercontent.com/jupyter-naas/awesome-notebooks/master/Naas/Naas_Start_data_product.ipynb\" target=\"_parent\">Generate Data Product</a>"
   ]
  },
  {
   "cell_type": "markdown",
   "id": "1f9921af",
   "metadata": {
    "papermill": {},
    "tags": []
   },
   "source": [
    "**Tags:** #linkedin #content #operations #automation #invitation"
   ]
  },
  {
   "cell_type": "markdown",
   "id": "a51124f7",
   "metadata": {
    "papermill": {},
    "tags": []
   },
   "source": [
    "**Author:** [Florent Ravenel](https://www.linkedin.com/in/ACoAABCNSioBW3YZHc2lBHVG0E_TXYWitQkmwog/)"
   ]
  },
  {
   "cell_type": "markdown",
   "id": "naas-description",
   "metadata": {
    "papermill": {},
    "tags": [
     "description"
    ]
   },
   "source": [
    "**Description:** This notebook helps you quickly and easily accept all LinkedIn invitations and send a personalized introductory message to each new connection."
   ]
  },
  {
   "cell_type": "markdown",
   "id": "d38f4660-4afb-4970-8a82-03f1136a5a30",
   "metadata": {
    "papermill": {},
    "tags": []
   },
   "source": [
    "\n",
    "<div class=\"alert alert-info\" role=\"info\" style=\"margin: 10px\">\n",
    "<b>Disclaimer:</b><br>\n",
    "This code is in no way affiliated with, authorized, maintained, sponsored or endorsed by Linkedin or any of its affiliates or subsidiaries. It uses an independent and unofficial API. Use at your own risk.\n",
    "\n",
    "This project violates Linkedin's User Agreement Section 8.2, and because of this, Linkedin may (and will) temporarily or permanently ban your account. We are not responsible for your account being banned.\n",
    "<br>\n",
    "</div>"
   ]
  },
  {
   "cell_type": "markdown",
   "id": "ce6f8812",
   "metadata": {
    "papermill": {},
    "tags": []
   },
   "source": [
    "## Input"
   ]
  },
  {
   "cell_type": "markdown",
   "id": "51403d71",
   "metadata": {
    "papermill": {},
    "tags": []
   },
   "source": [
    "### Import libraries\n"
   ]
  },
  {
   "cell_type": "code",
   "execution_count": 3,
   "id": "8adb0287",
   "metadata": {
    "papermill": {},
    "tags": []
   },
   "outputs": [],
   "source": [
    "import naas\n",
    "from naas_drivers import linkedin\n",
    "import pandas as pd"
   ]
  },
  {
   "cell_type": "markdown",
   "id": "13eed96d-170b-4975-b78e-3c19d2720886",
   "metadata": {
    "papermill": {},
    "tags": []
   },
   "source": [
    "### Setup Variables\n",
    "If you are using the Chrome Extension:\n",
    "- [Install Naas Chrome Extension](https://chrome.google.com/webstore/detail/naas/cpkgfedlkfiknjpkmhcglmjiefnechpp?hl=fr&authuser=0)\n",
    "- [Create a new token](https://app.naas.ai/hub/token)\n",
    "- Copy/Paste your token in your extension\n",
    "- Login/Logout your LinkedIn account\n",
    "- Your secrets \"LINKEDIN_LI_AT\" and \"LINKEDIN_JSESSIONID\" will be added directly on your naas everytime you login and logout.\n",
    "\n",
    "or <br>\n",
    "\n",
    "If you are not using the Google Chrome Extension, [learn how to get your cookies on LinkedIn](https://www.notion.so/LinkedIn-driver-Get-your-cookies-d20a8e7e508e42af8a5b52e33f3dba75)\n",
    "- `li_at`: Cookie used to authenticate Members and API clients\n",
    "- `JSESSIONID`: Cookie used for Cross Site Request Forgery (CSRF) protection and URL signature validation\n",
    "- `cron`: Cron params for naas scheduler. More information: https://crontab.guru/\n",
    "- `first_message`: First message to be send"
   ]
  },
  {
   "cell_type": "code",
   "execution_count": 4,
   "id": "b3534087",
   "metadata": {
    "papermill": {},
    "tags": []
   },
   "outputs": [],
   "source": [
    "# Inputs\n",
    "li_at = naas.secret.get(\"LINKEDIN_LI_AT\") or \"YOUR_COOKIE_LI_AT\"\n",
    "JSESSIONID = naas.secret.get(\"LINKEDIN_JSESSIONID\") or \"YOUR_COOKIE_JSESSIONID\"\n",
    "cron = \"0 * * * *\"\n",
    "\n",
    "# Outputs\n",
    "first_message = \"Hello, Nice to connect!\""
   ]
  },
  {
   "cell_type": "markdown",
   "id": "502127ba",
   "metadata": {
    "papermill": {},
    "tags": []
   },
   "source": [
    "## Model"
   ]
  },
  {
   "cell_type": "markdown",
   "id": "bd4787d3",
   "metadata": {
    "papermill": {},
    "tags": []
   },
   "source": [
    "### Get invitations received"
   ]
  },
  {
   "cell_type": "code",
   "execution_count": 6,
   "id": "8b876f0b",
   "metadata": {
    "papermill": {},
    "tags": []
   },
   "outputs": [],
   "source": [
    "df_invitation = linkedin.connect(li_at, JSESSIONID).invitation.get_received()\n",
    "df_invitation"
   ]
  },
  {
   "cell_type": "markdown",
   "id": "d648529b",
   "metadata": {
    "papermill": {},
    "tags": []
   },
   "source": [
    "### Accept pending invitations received from \"Profile\""
   ]
  },
  {
   "cell_type": "code",
   "execution_count": 9,
   "id": "2b63456d",
   "metadata": {
    "papermill": {},
    "tags": []
   },
   "outputs": [],
   "source": [
    "def accept_new_contact(df):\n",
    "    df_accept = pd.DataFrame()\n",
    "\n",
    "    # Loop\n",
    "    for index, row in df.iterrows():\n",
    "        fullname = row.FULLNAME\n",
    "        status = row.INVITATION_STATUS\n",
    "        invitation_id = row.INVITATION_ID\n",
    "        shared_secret = row.SHARED_SECRET\n",
    "        if status == \"PENDING\":\n",
    "            print(fullname)\n",
    "            tmp_df = linkedin.connect(li_at, JSESSIONID).invitation.accept(\n",
    "                invitation_id, shared_secret\n",
    "            )\n",
    "            df_accept = pd.concat([df_accept, tmp_df])\n",
    "    return df_accept\n",
    "\n",
    "\n",
    "df_accept = accept_new_contact(df_invitation)\n",
    "df_accept"
   ]
  },
  {
   "cell_type": "markdown",
   "id": "74e07ab8-2c0a-4fe0-a28c-c33ab5dc3da9",
   "metadata": {
    "papermill": {},
    "tags": []
   },
   "source": [
    "### Send first message to contact"
   ]
  },
  {
   "cell_type": "code",
   "execution_count": 10,
   "id": "3948e97b-32e8-4352-9294-630f4b2d006a",
   "metadata": {
    "papermill": {},
    "tags": []
   },
   "outputs": [],
   "source": [
    "def send_first_message(df):\n",
    "    # Loop\n",
    "    for index, row in df.iterrows():\n",
    "        fullname = row.FULLNAME\n",
    "        profile_id = row.PROFILE_ID\n",
    "        print(fullname)\n",
    "        linkedin.connect(li_at, JSESSIONID).message.send(FIRST_MESSAGE, profile_id)\n",
    "\n",
    "\n",
    "send_first_message(df_accept)"
   ]
  },
  {
   "cell_type": "markdown",
   "id": "84cfe026",
   "metadata": {
    "papermill": {},
    "tags": []
   },
   "source": [
    "## Output\n"
   ]
  },
  {
   "cell_type": "markdown",
   "id": "3c213178",
   "metadata": {
    "papermill": {},
    "tags": []
   },
   "source": [
    "### Display result\n"
   ]
  },
  {
   "cell_type": "code",
   "execution_count": 11,
   "id": "4f3d451f",
   "metadata": {
    "papermill": {},
    "tags": []
   },
   "outputs": [],
   "source": [
    "df_accept"
   ]
  },
  {
   "cell_type": "markdown",
   "id": "4e4d7984",
   "metadata": {
    "papermill": {},
    "tags": []
   },
   "source": [
    "### Schedule notebook"
   ]
  },
  {
   "cell_type": "code",
   "execution_count": null,
   "id": "1739f078",
   "metadata": {
    "papermill": {},
    "tags": []
   },
   "outputs": [],
   "source": [
    "# Schedule your notebook every hour\n",
    "naas.scheduler.add(cron=cron)\n",
    "\n",
    "# -> Uncomment the line below to remove your scheduler\n",
    "# naas.scheduler.delete()"
   ]
  }
 ],
 "metadata": {
  "kernelspec": {
   "display_name": "Python 3",
   "language": "python",
   "name": "python3"
  },
  "language_info": {
   "codemirror_mode": {
    "name": "ipython",
    "version": 3
   },
   "file_extension": ".py",
   "mimetype": "text/x-python",
   "name": "python",
   "nbconvert_exporter": "python",
   "pygments_lexer": "ipython3",
   "version": "3.9.6"
  },
  "naas": {
   "notebook_id": "9f5596b26533283a108fba2a2dfd62794659f196cef87ccc1649802a6a85844d",
   "notebook_path": "LinkedIn/LinkedIn_Accept_all_invitations_and_send_first_message.ipynb"
  },
  "papermill": {
   "default_parameters": {},
   "environment_variables": {},
   "parameters": {},
   "version": "2.3.4"
  }
 },
 "nbformat": 4,
 "nbformat_minor": 5
}