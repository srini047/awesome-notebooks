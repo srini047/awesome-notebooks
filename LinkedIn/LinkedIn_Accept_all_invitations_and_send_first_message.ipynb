{
 "cells": [
  {
   "cell_type": "markdown",
   "id": "c706722a",
   "metadata": {
    "papermill": {},
    "tags": []
   },
   "source": [
    "<img width=\"10%\" alt=\"Naas\" src=\"https://landen.imgix.net/jtci2pxwjczr/assets/5ice39g4.png?w=160\"/>\n"
   ]
  },
  {
   "cell_type": "markdown",
   "id": "3cf2d443",
   "metadata": {
    "papermill": {},
    "tags": []
   },
   "source": [
    "# LinkedIn - Accept all invitations and send first message\n",
    "<a href=\"https://app.naas.ai/user-redirect/naas/downloader?url=https://raw.githubusercontent.com/jupyter-naas/awesome-notebooks/master/LinkedIn/LinkedIn_Accept_all_invitations_and_send_first_message.ipynb\" target=\"_parent\"><img src=\"https://naasai-public.s3.eu-west-3.amazonaws.com/open_in_naas.svg\"/></a><br><br><a href=\"https://github.com/jupyter-naas/awesome-notebooks/issues/new?assignees=&labels=&template=template-request.md&title=Tool+-+Action+of+the+notebook+\">Template request</a> | <a href=\"https://github.com/jupyter-naas/awesome-notebooks/issues/new?assignees=&labels=bug&template=bug_report.md&title=LinkedIn+-+Accept+all+invitations+and+send+first+message:+Error+short+description\">Bug report</a>"
   ]
  },
  {
   "cell_type": "markdown",
   "id": "1f9921af",
   "metadata": {
    "papermill": {},
    "tags": []
   },
   "source": [
    "**Tags:** #linkedin #content #operations #automation #invitation"
   ]
  },
  {
   "cell_type": "markdown",
   "id": "a51124f7",
   "metadata": {
    "papermill": {},
    "tags": []
   },
   "source": [
    "**Author:** [Florent Ravenel](https://www.linkedin.com/in/ACoAABCNSioBW3YZHc2lBHVG0E_TXYWitQkmwog/)"
   ]
  },
  {
   "cell_type": "markdown",
   "id": "naas-description",
   "metadata": {
    "papermill": {},
    "tags": [
     "description"
    ]
   },
   "source": [
    "**Description:** This notebook helps you quickly and easily accept all LinkedIn invitations and send a personalized introductory message to each new connection."
   ]
  },
  {
   "cell_type": "markdown",
   "id": "ce6f8812",
   "metadata": {
    "papermill": {},
    "tags": []
   },
   "source": [
    "## Input"
   ]
  },
  {
   "cell_type": "markdown",
   "id": "51403d71",
   "metadata": {
    "papermill": {},
    "tags": []
   },
   "source": [
    "### Import libraries\n"
   ]
  },
  {
   "cell_type": "code",
   "execution_count": 1,
   "id": "8adb0287",
   "metadata": {
    "execution": {
     "iopub.execute_input": "2022-04-05T09:00:20.197376Z",
     "iopub.status.busy": "2022-04-05T09:00:20.197106Z",
     "iopub.status.idle": "2022-04-05T09:00:21.954370Z",
     "shell.execute_reply": "2022-04-05T09:00:21.952966Z",
     "shell.execute_reply.started": "2022-04-05T09:00:20.197309Z"
    },
    "papermill": {},
    "tags": []
   },
   "outputs": [],
   "source": [
    "from naas_drivers import linkedin\n",
    "import naas\n",
    "import pandas as pd"
   ]
  },
  {
   "cell_type": "markdown",
   "id": "5f360f35",
   "metadata": {
    "papermill": {},
    "tags": []
   },
   "source": [
    "### Setup LinkedIn\n",
    "\n",
    "- [Get your cookies](/d20a8e7e508e42af8a5b52e33f3dba75)"
   ]
  },
  {
   "cell_type": "code",
   "execution_count": 2,
   "id": "b3534087",
   "metadata": {
    "execution": {
     "iopub.execute_input": "2022-04-05T09:00:21.960045Z",
     "iopub.status.busy": "2022-04-05T09:00:21.959698Z",
     "iopub.status.idle": "2022-04-05T09:00:21.972044Z",
     "shell.execute_reply": "2022-04-05T09:00:21.970889Z",
     "shell.execute_reply.started": "2022-04-05T09:00:21.960010Z"
    },
    "papermill": {},
    "tags": []
   },
   "outputs": [],
   "source": [
    "# Lindekin cookies\n",
    "LI_AT = \"AQEDARCNSioDe6wmAAABfqF-HR4AAAF-xYqhHlYAtSu7EZZEpFer0UZF-GLuz2DNSz4asOOyCRxPGFjenv37irMObYYgxxxxxxx\"\n",
    "JSESSIONID = \"ajax:12XXXXXXXXXXXXXXXXX\"\n",
    "\n",
    "# First message\n",
    "FIRST_MESSAGE = \"Hello, Nice to connect!\""
   ]
  },
  {
   "cell_type": "markdown",
   "id": "4e4d7984",
   "metadata": {
    "papermill": {},
    "tags": []
   },
   "source": [
    "### Setup Naas"
   ]
  },
  {
   "cell_type": "code",
   "execution_count": null,
   "id": "1739f078",
   "metadata": {
    "papermill": {},
    "tags": []
   },
   "outputs": [],
   "source": [
    "# Schedule your notebook every hour\n",
    "naas.scheduler.add(cron=\"0 * * * *\")\n",
    "\n",
    "# -> Uncomment the line below to remove your scheduler\n",
    "# naas.scheduler.delete()"
   ]
  },
  {
   "cell_type": "markdown",
   "id": "502127ba",
   "metadata": {
    "papermill": {},
    "tags": []
   },
   "source": [
    "## Model"
   ]
  },
  {
   "cell_type": "markdown",
   "id": "bd4787d3",
   "metadata": {
    "papermill": {},
    "tags": []
   },
   "source": [
    "### Get invitations received"
   ]
  },
  {
   "cell_type": "code",
   "execution_count": null,
   "id": "8b876f0b",
   "metadata": {
    "papermill": {},
    "tags": []
   },
   "outputs": [],
   "source": [
    "df_invitation = linkedin.connect(LI_AT, JSESSIONID).invitation.get_received()\n",
    "df_invitation"
   ]
  },
  {
   "cell_type": "markdown",
   "id": "d648529b",
   "metadata": {
    "papermill": {},
    "tags": []
   },
   "source": [
    "### Accept pending invitations received from \"Profile\""
   ]
  },
  {
   "cell_type": "code",
   "execution_count": null,
   "id": "2b63456d",
   "metadata": {
    "papermill": {},
    "tags": []
   },
   "outputs": [],
   "source": [
    "def accept_new_contact(df):\n",
    "    df_accept = pd.DataFrame()\n",
    "\n",
    "    # Loop\n",
    "    for index, row in df.iterrows():\n",
    "        fullname = row.FULLNAME\n",
    "        status = row.INVITATION_STATUS\n",
    "        invitation_id = row.INVITATION_ID\n",
    "        shared_secret = row.SHARED_SECRET\n",
    "        if status == \"PENDING\":\n",
    "            print(fullname)\n",
    "            tmp_df = linkedin.connect(LI_AT, JSESSIONID).invitation.accept(\n",
    "                invitation_id, shared_secret\n",
    "            )\n",
    "            df_accept = pd.concat([df_accept, tmp_df])\n",
    "    return df_accept\n",
    "\n",
    "\n",
    "df_accept = accept_new_contact(df_invitation)\n",
    "df_accept"
   ]
  },
  {
   "cell_type": "markdown",
   "id": "74e07ab8-2c0a-4fe0-a28c-c33ab5dc3da9",
   "metadata": {
    "papermill": {},
    "tags": []
   },
   "source": [
    "### Send first message to contact"
   ]
  },
  {
   "cell_type": "code",
   "execution_count": null,
   "id": "3948e97b-32e8-4352-9294-630f4b2d006a",
   "metadata": {
    "papermill": {},
    "tags": []
   },
   "outputs": [],
   "source": [
    "def send_first_message(df):\n",
    "    # Loop\n",
    "    for index, row in df.iterrows():\n",
    "        fullname = row.FULLNAME\n",
    "        profile_id = row.PROFILE_ID\n",
    "        print(fullname)\n",
    "        linkedin.connect(LI_AT, JSESSIONID).message.send(FIRST_MESSAGE, profile_id)\n",
    "\n",
    "\n",
    "send_first_message(df_accept)"
   ]
  },
  {
   "cell_type": "markdown",
   "id": "84cfe026",
   "metadata": {
    "papermill": {},
    "tags": []
   },
   "source": [
    "## Output\n"
   ]
  },
  {
   "cell_type": "markdown",
   "id": "3c213178",
   "metadata": {
    "papermill": {},
    "tags": []
   },
   "source": [
    "### Display result\n"
   ]
  },
  {
   "cell_type": "code",
   "execution_count": null,
   "id": "4f3d451f",
   "metadata": {
    "papermill": {},
    "tags": []
   },
   "outputs": [],
   "source": [
    "df_accept"
   ]
  }
 ],
 "metadata": {
  "kernelspec": {
   "display_name": "Python 3",
   "language": "python",
   "name": "python3"
  },
  "language_info": {
   "codemirror_mode": {
    "name": "ipython",
    "version": 3
   },
   "file_extension": ".py",
   "mimetype": "text/x-python",
   "name": "python",
   "nbconvert_exporter": "python",
   "pygments_lexer": "ipython3",
   "version": "3.9.6"
  },
  "papermill": {
   "default_parameters": {},
   "environment_variables": {},
   "parameters": {},
   "version": "2.3.4"
  }
 },
 "nbformat": 4,
 "nbformat_minor": 5
}