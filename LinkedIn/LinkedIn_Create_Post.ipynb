{
 "cells": [
  {
   "cell_type": "markdown",
   "id": "804ce2e6-6abd-4882-ac66-7a3c67c4df30",
   "metadata": {
    "papermill": {},
    "tags": []
   },
   "source": [
    "<img width=\"10%\" alt=\"Naas\" src=\"https://landen.imgix.net/jtci2pxwjczr/assets/5ice39g4.png?w=160\"/>"
   ]
  },
  {
   "cell_type": "markdown",
   "id": "272ddf71-cf9c-42fd-bdfc-f65e3b0bb689",
   "metadata": {
    "papermill": {},
    "tags": []
   },
   "source": [
    "# LinkedIn - Create Post\n",
    "<a href=\"https://app.naas.ai/user-redirect/naas/downloader?url=https://raw.githubusercontent.com/jupyter-naas/awesome-notebooks/master/LinkedIn/LinkedIn_Create_Post.ipynb\" target=\"_parent\"><img src=\"https://naasai-public.s3.eu-west-3.amazonaws.com/Open_in_Naas_Lab.svg\"/></a><br><br><a href=\"https://github.com/jupyter-naas/awesome-notebooks/issues/new?assignees=&labels=&template=template-request.md&title=Tool+-+Action+of+the+notebook+\">Template request</a> | <a href=\"https://github.com/jupyter-naas/awesome-notebooks/issues/new?assignees=&labels=bug&template=bug_report.md&title=LinkedIn+-+Create+Post:+Error+short+description\">Bug report</a> | <a href=\"https://app.naas.ai/user-redirect/naas/downloader?url=https://raw.githubusercontent.com/jupyter-naas/awesome-notebooks/master/Naas/Naas_Start_data_product.ipynb\" target=\"_parent\">Generate Data Product</a>"
   ]
  },
  {
   "cell_type": "markdown",
   "id": "7dd34e03-dd90-482c-9440-65fe51a9e081",
   "metadata": {
    "papermill": {},
    "tags": []
   },
   "source": [
    "**Tags:** #linkedin #create #api #post #snippet "
   ]
  },
  {
   "cell_type": "markdown",
   "id": "866eb703-ad36-4360-8774-75a530563583",
   "metadata": {
    "papermill": {},
    "tags": []
   },
   "source": [
    "**Author:** [Florent Ravenel](https://www.linkedin.com/in/florent-ravenel/)"
   ]
  },
  {
   "cell_type": "markdown",
   "id": "e8693193-12a9-46c6-a6e1-385e24c02324",
   "metadata": {
    "papermill": {},
    "tags": []
   },
   "source": [
    "**Description:** This notebook creates a post using Linkedin API and Supabase."
   ]
  },
  {
   "cell_type": "markdown",
   "id": "a33b2619-7e68-4b3d-b261-e097b6c38acd",
   "metadata": {
    "papermill": {},
    "tags": []
   },
   "source": [
    "**References:**\n",
    "- [Linkedin API Documentation](https://learn.microsoft.com/en-us/linkedin/consumer/integrations/self-serve/share-on-linkedin?context=linkedin%2Fconsumer%2Fcontext#create-a-text-share)\n",
    "- [Supabase - Login with LinkedIn](https://supabase.com/docs/guides/auth/social-login/auth-linkedin)"
   ]
  },
  {
   "cell_type": "markdown",
   "id": "ac96ed6d-a1e3-4c73-8f0d-bd4b5e8c4cfb",
   "metadata": {
    "papermill": {},
    "tags": []
   },
   "source": [
    "\n",
    "<div class=\"alert alert-info\" role=\"info\" style=\"margin: 10px\">\n",
    "<b>Disclaimer:</b><br>\n",
    "This code is in no way affiliated with, authorized, maintained, sponsored or endorsed by Linkedin or any of its affiliates or subsidiaries. It uses an independent and unofficial API. Use at your own risk.\n",
    "\n",
    "This project violates Linkedin's User Agreement Section 8.2, and because of this, Linkedin may (and will) temporarily or permanently ban your account. We are not responsible for your account being banned.\n",
    "<br>\n",
    "</div>"
   ]
  },
  {
   "cell_type": "markdown",
   "id": "d0ed28e8-fd7b-48a6-a0b2-040283f772d9",
   "metadata": {
    "papermill": {},
    "tags": []
   },
   "source": [
    "## Input"
   ]
  },
  {
   "cell_type": "markdown",
   "id": "5fc259c0-f7e1-4f7c-b893-cd3dab2c5500",
   "metadata": {
    "papermill": {},
    "tags": []
   },
   "source": [
    "### Import libraries"
   ]
  },
  {
   "cell_type": "code",
   "execution_count": null,
   "id": "7cfb7631-2dc2-4b3a-bf6f-50b4c65789dc",
   "metadata": {
    "papermill": {},
    "tags": []
   },
   "outputs": [],
   "source": [
    "import os\n",
    "try:\n",
    "    from supabase import create_client, Client\n",
    "except:\n",
    "    !pip install supabase --user\n",
    "    from supabase import create_client, Client\n",
    "import naas\n",
    "import requests\n",
    "import json"
   ]
  },
  {
   "cell_type": "markdown",
   "id": "9f6cc279-9eb5-4d20-923c-590e9c3eb54d",
   "metadata": {
    "papermill": {},
    "tags": []
   },
   "source": [
    "### Setup Variables\n",
    "- [Supabase - Login with LinkedIn](https://supabase.com/docs/guides/auth/social-login/auth-linkedin)"
   ]
  },
  {
   "cell_type": "code",
   "execution_count": null,
   "id": "dc6b788b-fe1f-45f9-88ba-4d9c88e708ad",
   "metadata": {
    "papermill": {},
    "tags": []
   },
   "outputs": [],
   "source": [
    "# Inputs\n",
    "url = naas.secret.get(\"SUPABASE_URL\") or \"https://<project_id>.supabase.co\"\n",
    "key = naas.secret.get(\"SUPABASE_KEY\") or \"eyJhbGciOiJIUzI1NiIsInR5cCI6IkpXVCJ9.eyJpc3MiOiJzdXBhYmFzZSIsInJlZiI6Imdxxxxxxxxxxxx\" # Project API keys - https://app.supabase.com/project/<project_id>./settings/api\n",
    "\n",
    "# Outputs\n",
    "post_message = \"Check out the LinkedIn Share API!\""
   ]
  },
  {
   "cell_type": "markdown",
   "id": "ab556057-408e-4a72-8f78-3038e5108711",
   "metadata": {
    "papermill": {},
    "tags": []
   },
   "source": [
    "### Connect to Supabase\n",
    "- Click on the link to connect supabase to your LinkedIn account\n",
    "- Copy/Paste the URL of the redirected page on the cell below"
   ]
  },
  {
   "cell_type": "code",
   "execution_count": null,
   "id": "56d46d8e-7821-460a-9076-0d4f3515d3cf",
   "metadata": {
    "papermill": {},
    "tags": []
   },
   "outputs": [],
   "source": [
    "supabase: Client = create_client(url, key)\n",
    "data = supabase.auth.sign_in_with_oauth({\n",
    "  \"provider\": 'linkedin',\n",
    "  \"options\": {\n",
    "      \"scopes\": 'w_member_social'\n",
    "  }\n",
    "})\n",
    "print(data)"
   ]
  },
  {
   "cell_type": "markdown",
   "id": "e18b4940-1fa4-41b0-a309-57e59d5a63f9",
   "metadata": {
    "papermill": {},
    "tags": []
   },
   "source": [
    "### Get your provider token"
   ]
  },
  {
   "cell_type": "code",
   "execution_count": null,
   "id": "8f80f876-d78a-4493-a66c-29d6e46eab33",
   "metadata": {
    "papermill": {},
    "tags": []
   },
   "outputs": [],
   "source": [
    "url_lk = input('Copy/Paste your URL')\n",
    "access_token = url_lk.split(\"provider_token=\")[-1].split(\"&\")[0]\n",
    "access_token"
   ]
  },
  {
   "cell_type": "markdown",
   "id": "4f7a6edb-6bc3-4077-a224-1ec80f03065d",
   "metadata": {
    "papermill": {},
    "tags": []
   },
   "source": [
    "## Model"
   ]
  },
  {
   "cell_type": "markdown",
   "id": "172b6f41-c9f3-44a6-8658-7f1952c68ba0",
   "metadata": {
    "papermill": {},
    "tags": []
   },
   "source": [
    "### Get your user info"
   ]
  },
  {
   "cell_type": "code",
   "execution_count": null,
   "id": "9a3e85d6-1a72-4b31-9daf-7c324c4f6db5",
   "metadata": {
    "papermill": {},
    "tags": []
   },
   "outputs": [],
   "source": [
    "headers = {\n",
    "    \"Authorization\": f\"Bearer {access_token}\",\n",
    "    \"Content-Type\": \"application/json\",\n",
    "    \"X-Restli-Protocol-Version\": \"2.0.0\"\n",
    "}\n",
    "\n",
    "def user_info(headers):\n",
    "    '''\n",
    "    Get user information from Linkedin\n",
    "    '''\n",
    "    response = requests.get('https://api.linkedin.com/v2/me', headers=headers)\n",
    "    print(response.json())\n",
    "    user_info = response.json()\n",
    "    return user_info\n",
    " \n",
    "# Get user id to make a UGC post\n",
    "user_info = user_info(headers)\n",
    "urn = user_info['id']\n",
    "urn"
   ]
  },
  {
   "cell_type": "markdown",
   "id": "3dc089db-65a6-401a-857b-58c93b8dc778",
   "metadata": {
    "papermill": {},
    "tags": []
   },
   "source": [
    "### Create Post with Image"
   ]
  },
  {
   "cell_type": "markdown",
   "id": "3b156d31-d786-48ff-bc84-86f758bc9465",
   "metadata": {
    "papermill": {},
    "tags": []
   },
   "source": [
    "Using the Linkedin Voyager API, we can create a post with an image. We need to set the `shareMediaCategory` to `IMAGE` and provide the `originalUrl` of the image."
   ]
  },
  {
   "cell_type": "code",
   "execution_count": null,
   "id": "1bd0d96a-2532-4551-9de8-edbc9e20ae2f",
   "metadata": {
    "papermill": {},
    "tags": []
   },
   "outputs": [],
   "source": [
    "url = \"https://api.linkedin.com/v2/ugcPosts\"\n",
    "data = {\n",
    "    \"author\": f\"urn:li:person:{urn}\",\n",
    "    \"lifecycleState\": \"PUBLISHED\",\n",
    "    \"specificContent\": {\n",
    "        \"com.linkedin.ugc.ShareContent\": {\n",
    "            \"shareCommentary\": {\"text\": post_message},\n",
    "            \"shareMediaCategory\": \"NONE\"\n",
    "        }\n",
    "    },\n",
    "    \"visibility\": {\"com.linkedin.ugc.MemberNetworkVisibility\": \"PUBLIC\"}, #PUBLIC, CONNECTIONS\n",
    "}\n",
    "response = requests.post(url, headers=headers, data=json.dumps(data))\n",
    "print(response.json())"
   ]
  },
  {
   "cell_type": "markdown",
   "id": "e3ed1fac-7f12-4eb6-8838-e9312a7854f0",
   "metadata": {
    "papermill": {},
    "tags": []
   },
   "source": [
    "## Output"
   ]
  },
  {
   "cell_type": "markdown",
   "id": "be227d69-6e85-4fe1-8839-4157763a3a71",
   "metadata": {
    "papermill": {},
    "tags": []
   },
   "source": [
    "### Display result"
   ]
  },
  {
   "cell_type": "code",
   "execution_count": null,
   "id": "3e561e54-fbf2-4491-899f-5ecc73993c99",
   "metadata": {
    "papermill": {},
    "tags": []
   },
   "outputs": [],
   "source": [
    "from pprint import pprint\n",
    "pprint(response.json())"
   ]
  },
  {
   "cell_type": "markdown",
   "id": "62db8d59-0337-4949-abce-3618159ad643",
   "metadata": {
    "papermill": {},
    "tags": []
   },
   "source": [
    " "
   ]
  }
 ],
 "metadata": {
  "kernelspec": {
   "display_name": "Python 3",
   "language": "python",
   "name": "python3"
  },
  "language_info": {
   "codemirror_mode": {
    "name": "ipython",
    "version": 3
   },
   "file_extension": ".py",
   "mimetype": "text/x-python",
   "name": "python",
   "nbconvert_exporter": "python",
   "pygments_lexer": "ipython3",
   "version": "3.9.6"
  },
  "naas": {
   "notebook_id": "b6b615ac66034a7ebfa52b341d1849c0352ec471108d940809c2477e5fa83f15",
   "notebook_path": "LinkedIn/LinkedIn_Create_Post.ipynb"
  },
  "papermill": {
   "default_parameters": {},
   "environment_variables": {},
   "parameters": {},
   "version": "2.4.0"
  },
  "widgets": {
   "application/vnd.jupyter.widget-state+json": {
    "state": {},
    "version_major": 2,
    "version_minor": 0
   }
  }
 },
 "nbformat": 4,
 "nbformat_minor": 5
}