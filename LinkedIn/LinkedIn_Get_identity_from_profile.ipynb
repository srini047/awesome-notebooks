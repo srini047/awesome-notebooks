{
 "cells": [
  {
   "cell_type": "markdown",
   "id": "alpine-compatibility",
   "metadata": {
    "execution": {
     "iopub.execute_input": "2021-01-25T08:00:35.294800Z",
     "iopub.status.busy": "2021-01-25T08:00:35.294557Z",
     "iopub.status.idle": "2021-01-25T08:00:35.307281Z",
     "shell.execute_reply": "2021-01-25T08:00:35.306468Z",
     "shell.execute_reply.started": "2021-01-25T08:00:35.294775Z"
    },
    "papermill": {},
    "tags": []
   },
   "source": [
    "<img width=\"10%\" alt=\"Naas\" src=\"https://landen.imgix.net/jtci2pxwjczr/assets/5ice39g4.png?w=160\"/>"
   ]
  },
  {
   "cell_type": "markdown",
   "id": "atlantic-coordination",
   "metadata": {
    "papermill": {},
    "tags": []
   },
   "source": [
    "# LinkedIn - Get identity from profile\n",
    "<a href=\"https://app.naas.ai/user-redirect/naas/downloader?url=https://raw.githubusercontent.com/jupyter-naas/awesome-notebooks/master/LinkedIn/LinkedIn_Get_identity_from_profile.ipynb\" target=\"_parent\"><img src=\"https://naasai-public.s3.eu-west-3.amazonaws.com/Open_in_Naas_Lab.svg\"/></a><br><br><a href=\"https://github.com/jupyter-naas/awesome-notebooks/issues/new?assignees=&labels=&template=template-request.md&title=Tool+-+Action+of+the+notebook+\">Template request</a> | <a href=\"https://github.com/jupyter-naas/awesome-notebooks/issues/new?assignees=&labels=bug&template=bug_report.md&title=LinkedIn+-+Get+identity+from+profile:+Error+short+description\">Bug report</a> | <a href=\"https://app.naas.ai/user-redirect/naas/downloader?url=https://raw.githubusercontent.com/jupyter-naas/awesome-notebooks/master/Naas/Naas_Start_data_product.ipynb\" target=\"_parent\">Generate Data Product</a>"
   ]
  },
  {
   "cell_type": "markdown",
   "id": "dd0063c0-06c9-40ad-b735-3396f670d624",
   "metadata": {
    "papermill": {},
    "tags": []
   },
   "source": [
    "**Tags:** #linkedin #profile #identity #naas_drivers #content #snippet #dataframe"
   ]
  },
  {
   "cell_type": "markdown",
   "id": "c0affe9a-bd98-4ee2-b51e-c0614db7c1a6",
   "metadata": {
    "papermill": {},
    "tags": []
   },
   "source": [
    "**Author:** [Florent Ravenel](https://www.linkedin.com/in/florent-ravenel/)"
   ]
  },
  {
   "cell_type": "markdown",
   "id": "naas-description",
   "metadata": {
    "papermill": {},
    "tags": [
     "description"
    ]
   },
   "source": [
    "**Description:** This notebook helps you extract identity information from LinkedIn profiles."
   ]
  },
  {
   "cell_type": "markdown",
   "id": "4e7621df-c69f-4959-8401-5205b9601fbc",
   "metadata": {
    "papermill": {},
    "tags": []
   },
   "source": [
    "\n",
    "<div class=\"alert alert-info\" role=\"info\" style=\"margin: 10px\">\n",
    "<b>Disclaimer:</b><br>\n",
    "This code is in no way affiliated with, authorized, maintained, sponsored or endorsed by Linkedin or any of its affiliates or subsidiaries. It uses an independent and unofficial API. Use at your own risk.\n",
    "\n",
    "This project violates Linkedin's User Agreement Section 8.2, and because of this, Linkedin may (and will) temporarily or permanently ban your account. We are not responsible for your account being banned.\n",
    "<br>\n",
    "</div>"
   ]
  },
  {
   "cell_type": "markdown",
   "id": "expressed-green",
   "metadata": {
    "papermill": {},
    "tags": []
   },
   "source": [
    "## Input"
   ]
  },
  {
   "cell_type": "markdown",
   "id": "import_cell",
   "metadata": {
    "papermill": {},
    "tags": []
   },
   "source": [
    "### Import libraries"
   ]
  },
  {
   "cell_type": "code",
   "execution_count": null,
   "id": "jewish-regular",
   "metadata": {
    "papermill": {},
    "tags": []
   },
   "outputs": [],
   "source": [
    "from naas_drivers import linkedin"
   ]
  },
  {
   "cell_type": "markdown",
   "id": "private-extra",
   "metadata": {
    "papermill": {},
    "tags": []
   },
   "source": [
    "### Get your cookies\n",
    "<a href='https://www.notion.so/LinkedIn-driver-Get-your-cookies-d20a8e7e508e42af8a5b52e33f3dba75'>How to get your cookies ?</a>"
   ]
  },
  {
   "cell_type": "code",
   "execution_count": null,
   "id": "pleasant-savings",
   "metadata": {
    "papermill": {},
    "tags": []
   },
   "outputs": [],
   "source": [
    "LI_AT = \"YOUR_COOKIE_LI_AT\"  # EXAMPLE AQFAzQN_PLPR4wAAAXc-FCKmgiMit5FLdY1af3-2\n",
    "JSESSIONID = \"YOUR_COOKIE_JSESSIONID\"  # EXAMPLE ajax:8379907400220387585"
   ]
  },
  {
   "cell_type": "markdown",
   "id": "musical-genius",
   "metadata": {
    "papermill": {},
    "tags": []
   },
   "source": [
    "### Enter profile URL"
   ]
  },
  {
   "cell_type": "code",
   "execution_count": null,
   "id": "linear-stick",
   "metadata": {
    "papermill": {},
    "tags": []
   },
   "outputs": [],
   "source": [
    "PROFILE_URL = \"PROFILE_URL\""
   ]
  },
  {
   "cell_type": "markdown",
   "id": "buried-rouge",
   "metadata": {
    "papermill": {},
    "tags": []
   },
   "source": [
    "## Model"
   ]
  },
  {
   "cell_type": "markdown",
   "id": "touched-likelihood",
   "metadata": {
    "execution": {
     "iopub.execute_input": "2021-05-15T10:12:55.887028Z",
     "iopub.status.busy": "2021-05-15T10:12:55.886761Z",
     "iopub.status.idle": "2021-05-15T10:12:55.899441Z",
     "shell.execute_reply": "2021-05-15T10:12:55.898476Z",
     "shell.execute_reply.started": "2021-05-15T10:12:55.886964Z"
    },
    "papermill": {},
    "tags": []
   },
   "source": [
    "Get the information return in a dataframe.<br><br>\n",
    "**Available columns :**\n",
    "- FIRSTNAME\n",
    "- LASTNAME\n",
    "- SUMMARY\n",
    "- OCCUPATION\n",
    "- INDUSTRY_NAME\n",
    "- ADDRESS\n",
    "- REGION\n",
    "- COUNTRY\n",
    "- LOCATION\n",
    "- BIRTHDATE\n",
    "- PROFILE_ID\n",
    "- PROFILE_URL\n",
    "- PUBLIC_ID\n",
    "- BACKGROUND_PICTURE\n",
    "- PROFILE_PICTURE"
   ]
  },
  {
   "cell_type": "code",
   "execution_count": null,
   "id": "creative-carpet",
   "metadata": {
    "papermill": {},
    "tags": []
   },
   "outputs": [],
   "source": [
    "df = linkedin.connect(LI_AT, JSESSIONID).profile.get_identity(PROFILE_URL)"
   ]
  },
  {
   "cell_type": "markdown",
   "id": "divine-information",
   "metadata": {
    "papermill": {},
    "tags": []
   },
   "source": [
    "## Output"
   ]
  },
  {
   "cell_type": "markdown",
   "id": "split-asian",
   "metadata": {
    "execution": {
     "iopub.execute_input": "2021-06-17T12:51:12.415888Z",
     "iopub.status.busy": "2021-06-17T12:51:12.415617Z",
     "iopub.status.idle": "2021-06-17T12:51:12.419197Z",
     "shell.execute_reply": "2021-06-17T12:51:12.418556Z",
     "shell.execute_reply.started": "2021-06-17T12:51:12.415822Z"
    },
    "papermill": {},
    "tags": []
   },
   "source": [
    "### Display result"
   ]
  },
  {
   "cell_type": "code",
   "execution_count": null,
   "id": "congressional-walter",
   "metadata": {
    "papermill": {},
    "tags": []
   },
   "outputs": [],
   "source": [
    "df"
   ]
  }
 ],
 "metadata": {
  "kernelspec": {
   "display_name": "Python 3",
   "language": "python",
   "name": "python3"
  },
  "language_info": {
   "codemirror_mode": {
    "name": "ipython",
    "version": 3
   },
   "file_extension": ".py",
   "mimetype": "text/x-python",
   "name": "python",
   "nbconvert_exporter": "python",
   "pygments_lexer": "ipython3",
   "version": "3.9.6"
  },
  "naas": {
   "notebook_id": "28a47ab167568046a591d40544558a84e3385a22f3d151363bc6216f8a0b0159",
   "notebook_path": "LinkedIn/LinkedIn_Get_identity_from_profile.ipynb"
  },
  "papermill": {
   "default_parameters": {},
   "environment_variables": {},
   "parameters": {},
   "version": "2.3.3"
  },
  "widgets": {
   "application/vnd.jupyter.widget-state+json": {
    "state": {},
    "version_major": 2,
    "version_minor": 0
   }
  }
 },
 "nbformat": 4,
 "nbformat_minor": 5
}