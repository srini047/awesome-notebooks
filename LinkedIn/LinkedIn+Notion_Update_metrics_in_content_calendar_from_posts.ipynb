{
 "cells": [
  {
   "cell_type": "markdown",
   "id": "9123d12a",
   "metadata": {
    "papermill": {},
    "tags": []
   },
   "source": [
    "<img width=\"10%\" alt=\"Naas\" src=\"https://landen.imgix.net/jtci2pxwjczr/assets/5ice39g4.png?w=160\"/>"
   ]
  },
  {
   "cell_type": "markdown",
   "id": "08335725",
   "metadata": {
    "papermill": {},
    "tags": []
   },
   "source": [
    "# LinkedIn - +Notion Update metrics in content calendar from posts\n",
    "<a href=\"https://app.naas.ai/user-redirect/naas/downloader?url=https://raw.githubusercontent.com/jupyter-naas/awesome-notebooks/master/LinkedIn/LinkedIn%2BNotion_Update_metrics_in_content_calendar_from_posts.ipynb\" target=\"_parent\"><img src=\"https://naasai-public.s3.eu-west-3.amazonaws.com/open_in_naas.svg\"/></a>"
   ]
  },
  {
   "cell_type": "markdown",
   "id": "e717bb38",
   "metadata": {
    "papermill": {},
    "tags": []
   },
   "source": [
    "**Tags:** #linkedin #profile #post #feed #naas_drivers #notion"
   ]
  },
  {
   "cell_type": "markdown",
   "id": "fece88f2-a877-433e-b864-51730b0a17eb",
   "metadata": {
    "papermill": {},
    "tags": []
   },
   "source": [
    "**Author:** [Florent Ravenel](https://www.linkedin.com/in/florent-ravenel/)"
   ]
  },
  {
   "cell_type": "markdown",
   "id": "c1caa0c3-851c-4873-9bdf-c561c28e3f4c",
   "metadata": {
    "papermill": {},
    "tags": []
   },
   "source": [
    "With this notebook, you can update your content calendar in Notion with all metrics from your posts in LinkedIn:\n",
    "- **Publication date:** When your post has been published.\n",
    "- **Name:** First sentence of your post.\n",
    "- **Content type:** Content type of you past post (Image, Text, Video, Article, Polls).\n",
    "- **Platform:** \"LinkedIn\" by default.\n",
    "- **Status:** \"Published ✨\" by default.\n",
    "- **Engagment score:** Ratio between views and likes/comments\n",
    "- **Views:** Amount of people who saw the content.\n",
    "- **Likes:** Amount of people who pushed the like (or other reaction) button\n",
    "- **Comments:** Amount of people who wrote something in the comment section.\n",
    "- **Shares:** Amount of people who shared the content.\n",
    "- **Profile mention:** People you mentioned.  \n",
    "- **Company mention:** Companies you mentioned.\n",
    "- **Nb Tags:** Number of hashtags.\n",
    "- **Tags:** List of the hashtags.  \n",
    "- **Nb emojis:** Number of emojis.\n",
    "- **Emojis:** List of emojis.\n",
    "- **Nb links:** Number of links.\n",
    "- **Links:** Links used in your past posts.\n",
    "- **Nb characters:** Number of characters in the past post.  \n",
    "- **Content URL:** URL of the content \n",
    "- **Last refresh:** Date of last refresh in Notion"
   ]
  },
  {
   "cell_type": "markdown",
   "id": "40310297",
   "metadata": {
    "papermill": {},
    "tags": []
   },
   "source": [
    "## Input"
   ]
  },
  {
   "cell_type": "markdown",
   "id": "19039a7f",
   "metadata": {
    "papermill": {},
    "tags": []
   },
   "source": [
    "### Schedule your notebook\n",
    "This notebook can run on schedule. It will look for new data in LinkedIn and update accordingly to Notion.<br>\n",
    "Note: You need to remove the hashtag and run cell to activate the scheduler."
   ]
  },
  {
   "cell_type": "code",
   "execution_count": null,
   "id": "54cc596f",
   "metadata": {
    "papermill": {},
    "tags": []
   },
   "outputs": [],
   "source": [
    "# import naas\n",
    "# naas.scheduler.add(cron=\"0 8 * * *\")"
   ]
  },
  {
   "cell_type": "markdown",
   "id": "af373ec1",
   "metadata": {
    "papermill": {},
    "tags": []
   },
   "source": [
    "### Import libraries\n",
    "Here below is the list of tools needed."
   ]
  },
  {
   "cell_type": "code",
   "execution_count": null,
   "id": "92a75b4f",
   "metadata": {
    "jupyter": {
     "source_hidden": true
    },
    "papermill": {},
    "tags": []
   },
   "outputs": [],
   "source": [
    "import naas\n",
    "from naas_drivers import linkedin, notion, emailbuilder, gsheet\n",
    "from datetime import datetime\n",
    "import pandas as pd\n",
    "import plotly.express as px\n",
    "import os\n",
    "import requests"
   ]
  },
  {
   "cell_type": "markdown",
   "id": "b32c35f7",
   "metadata": {
    "papermill": {},
    "tags": []
   },
   "source": [
    "### Setup LinkedIn\n",
    "<a href='https://www.notion.so/LinkedIn-driver-Get-your-cookies-d20a8e7e508e42af8a5b52e33f3dba75'>How to get your cookies ?</a>"
   ]
  },
  {
   "cell_type": "code",
   "execution_count": null,
   "id": "e33c2341",
   "metadata": {
    "papermill": {},
    "tags": []
   },
   "outputs": [],
   "source": [
    "# Lindekin cookies\n",
    "LI_AT = \"AQEDARCNSioDe6wmAAABfqF-HR4AAAF-xYqhHlYAtSu7EZZEpFer0UZF-GLuz2DNSz4asOOyCRxPGFjenv37irMObYYgxxxxxxx\"\n",
    "JSESSIONID = \"ajax:12XXXXXXXXXXXXXXXXX\"\n",
    "\n",
    "# Linkedin profile url\n",
    "profile_url = \"https://www.linkedin.com/in/xxxxxx/\""
   ]
  },
  {
   "cell_type": "markdown",
   "id": "63859bf1",
   "metadata": {
    "papermill": {},
    "tags": []
   },
   "source": [
    "### Setup Notion\n",
    "- Configure naas integration\n",
    "- Duplicate <a href=\"https://naas-official.notion.site/724fec443b134f288b356001bb1543bd?v=c82a8005a5bf4862b7c967a9689aa799\">content calendar template</a>\n",
    "- Share integration on the template"
   ]
  },
  {
   "cell_type": "code",
   "execution_count": null,
   "id": "fcce1bd1",
   "metadata": {
    "papermill": {},
    "tags": []
   },
   "outputs": [],
   "source": [
    "# Notion parameters\n",
    "notion_token = \"secret_eaLtxxxxxxxzuBPQvParsFxxxxxxx\"\n",
    "notion_database = 'https://www.notion.so/naas-official/fc64df2aae7f4796963d14edec816xxxxx'"
   ]
  },
  {
   "cell_type": "markdown",
   "id": "71f5f577",
   "metadata": {
    "papermill": {},
    "tags": []
   },
   "source": [
    "### Setup your email\n",
    "Please put your email so we get inform when your cookies need to renewed."
   ]
  },
  {
   "cell_type": "code",
   "execution_count": null,
   "id": "8d294285",
   "metadata": {
    "papermill": {},
    "tags": []
   },
   "outputs": [],
   "source": [
    "# Email\n",
    "EMAIL = \"email\""
   ]
  },
  {
   "cell_type": "markdown",
   "id": "e26e1292",
   "metadata": {
    "papermill": {},
    "tags": []
   },
   "source": [
    "## Model"
   ]
  },
  {
   "cell_type": "markdown",
   "id": "4449cde8",
   "metadata": {
    "papermill": {},
    "tags": []
   },
   "source": [
    "### Email sent to renew your cookies"
   ]
  },
  {
   "cell_type": "code",
   "execution_count": null,
   "id": "122668a3",
   "metadata": {
    "jupyter": {
     "source_hidden": true
    },
    "papermill": {},
    "tags": []
   },
   "outputs": [],
   "source": [
    "def email_linkedin_limit(email):\n",
    "    content = {\n",
    "       \"header_naas\": (\"<a href='https://www.naas.ai/'>\"\n",
    "                       \"<img align='center' width='30%' target='_blank' style='border-radius:5px;'\"\n",
    "                       \"src='https://landen.imgix.net/jtci2pxwjczr/assets/5ice39g4.png?w=160'\"\n",
    "                       \"alt='Please provide more information.'/>\"\n",
    "                       \"</a>\"),\n",
    "        \"txt_0\": emailbuilder.text(f\"Hi there,<br><br>\"\n",
    "                                   \"Your LinkedIn cookies needs to be renewed.<br><br>\"\n",
    "                                   \"Please go to naas and update them in your notebook 'Setup LinkedIn'.<br>\"),\n",
    "        \"button\": emailbuilder.button(f\"https://app.naas.ai/user/{email}/\", \"Go to Naas\"),\n",
    "        \"signature\": \"Naas Team\",\n",
    "        \"footer\": emailbuilder.footer_company(naas=True)\n",
    "    }\n",
    "    email_content = emailbuilder.generate(display='iframe', **content)\n",
    "    return email_content\n",
    "\n",
    "# email_content = email_linkedin_limit(EMAIL)"
   ]
  },
  {
   "cell_type": "markdown",
   "id": "a76fff9f",
   "metadata": {
    "papermill": {},
    "tags": []
   },
   "source": [
    "### Get content calendar from Notion\n",
    "It will get all posts already created in Notion"
   ]
  },
  {
   "cell_type": "code",
   "execution_count": null,
   "id": "8488aec2",
   "metadata": {
    "jupyter": {
     "source_hidden": true
    },
    "papermill": {},
    "tags": []
   },
   "outputs": [],
   "source": [
    "db_notion = notion.connect(notion_token).database.get(notion_database)\n",
    "df_notion = db_notion.df()\n",
    "print(\"📊 Post in Notion database:\", len(df_notion))"
   ]
  },
  {
   "cell_type": "markdown",
   "id": "39e6bf20",
   "metadata": {
    "papermill": {},
    "tags": []
   },
   "source": [
    "### Get new posts in LinkedIn\n",
    "It will get the new posts not created in Notion."
   ]
  },
  {
   "cell_type": "code",
   "execution_count": null,
   "id": "23c551cc",
   "metadata": {
    "jupyter": {
     "source_hidden": true
    },
    "papermill": {},
    "tags": []
   },
   "outputs": [],
   "source": [
    "# Get last post url in Notion\n",
    "last_post_url = None\n",
    "if len(df_notion) > 0:\n",
    "    df_last_post = df_notion.sort_values(by=\"Publication Date\", ascending=False).reset_index(drop=True)\n",
    "    last_post_url = df_last_post.loc[0, \"Content URL\"]\n",
    "    print(\"👉 Last post url:\", last_post_url)\n",
    "    \n",
    "# Get new post created in LinkedIn\n",
    "try:\n",
    "    until = {}\n",
    "    if last_post_url:\n",
    "        until = {\"POST_URL\": last_post_url}\n",
    "    df_posts_feed = linkedin.connect(LI_AT, JSESSIONID).profile.get_posts_feed(profile_url, until=until, limit=-1, sleep=False)\n",
    "    df_posts_feed = df_posts_feed[df_posts_feed.POST_URL != last_post_url]\n",
    "    print(\"🚀 New posts:\", len(df_posts_feed))\n",
    "except Exception as e:\n",
    "    print(\"❌ Error\")\n",
    "    if e.response.status_code == 302:\n",
    "        email_content = email_linkedin_limit(EMAIL)\n",
    "        naas.notification.send(email_to=EMAIL,\n",
    "                               subject=\"⚠️ naas.ai - Update your Linkedin cookies\",\n",
    "                               html=email_content)\n",
    "        raise(e)"
   ]
  },
  {
   "cell_type": "markdown",
   "id": "37a2d1b5",
   "metadata": {
    "papermill": {},
    "tags": []
   },
   "source": [
    "### Get stats from posts\n",
    "It will get stats from all posts : Engagement Score, Views, Likes, Comments, Shares and Polls results"
   ]
  },
  {
   "cell_type": "code",
   "execution_count": null,
   "id": "d90f5e69",
   "metadata": {
    "jupyter": {
     "source_hidden": true
    },
    "papermill": {},
    "tags": []
   },
   "outputs": [],
   "source": [
    "# limit to last 50 posts\n",
    "try:\n",
    "    df_posts_stats = pd.DataFrame()\n",
    "    count = 50\n",
    "    limit = 50\n",
    "    if len(df_notion) < 100:\n",
    "        count = len(df_notion)\n",
    "        limit = len(df_notion)\n",
    "    if len(df_notion) > 0:\n",
    "        df_posts_stats = linkedin.connect(LI_AT, JSESSIONID).profile.get_posts_feed(profile_url,\n",
    "                                                                                    count=count,\n",
    "                                                                                    limit=limit)\n",
    "        print(\"🔄 Posts stats to update:\", len(df_posts_stats))\n",
    "except Exception as e:\n",
    "    print(\"❌ Error\")\n",
    "    if e.response.status_code == 302:\n",
    "        email_content = email_linkedin_limit(EMAIL)\n",
    "        naas.notification.send(email_to=EMAIL,\n",
    "                               subject=\"⚠️ naas.ai - Update your Linkedin cookies\",\n",
    "                               html=email_content)\n",
    "        raise(e)"
   ]
  },
  {
   "cell_type": "markdown",
   "id": "7d42c4ae",
   "metadata": {
    "papermill": {},
    "tags": []
   },
   "source": [
    "## Output"
   ]
  },
  {
   "cell_type": "code",
   "execution_count": null,
   "id": "d3fe0324",
   "metadata": {
    "jupyter": {
     "source_hidden": true
    },
    "papermill": {},
    "tags": []
   },
   "outputs": [],
   "source": [
    "def create_polls_graph(uid, title, data):\n",
    "    # Create dataframe\n",
    "    df = pd.melt(pd.DataFrame([data]))\n",
    "    df = df.sort_values(by=\"value\")\n",
    "    voters = df.value.sum()\n",
    "    \n",
    "    # Create fig\n",
    "    fig = px.bar(df,\n",
    "                 y=\"variable\",\n",
    "                 x=\"value\",\n",
    "                 orientation='h',\n",
    "                 title=f\"{title}<br><span style='font-size: 13px;'>Total amount of votes: {voters}</span>\",\n",
    "                 text=\"value\",\n",
    "                 labels={\"variable\": \"Poll options\",\n",
    "                         \"value\": \"Poll results\"}\n",
    "                 )\n",
    "    fig.update_traces(marker_color='black')\n",
    "    fig.update_layout(\n",
    "        plot_bgcolor=\"#ffffff\",\n",
    "        width=600,\n",
    "        height=400,\n",
    "        font=dict(family=\"Arial\", size=14, color=\"black\"),\n",
    "        paper_bgcolor=\"white\",\n",
    "        xaxis_title=None,\n",
    "        xaxis_showticklabels=False,\n",
    "        yaxis_title=None,\n",
    "        margin_pad=10,\n",
    "    )\n",
    "    fig.write_html(f\"{uid}.html\")\n",
    "    asset = naas.asset.add(f\"{uid}.html\", params={\"inline\": True})\n",
    "    return asset\n",
    "\n",
    "def update_poll_graph(row):\n",
    "    poll_graph = None\n",
    "    \n",
    "    # Add polls\n",
    "    poll_id = row.POLL_ID\n",
    "    poll_question = row.POLL_QUESTION\n",
    "    poll_results = row.POLL_RESULTS\n",
    "    if poll_id and poll_question and poll_results:\n",
    "        poll_graph = create_polls_graph(poll_id, poll_question, poll_results)\n",
    "    return poll_graph"
   ]
  },
  {
   "cell_type": "code",
   "execution_count": null,
   "id": "2feb9982",
   "metadata": {
    "jupyter": {
     "source_hidden": true
    },
    "papermill": {},
    "tags": []
   },
   "outputs": [],
   "source": [
    "def update_dynamic_properties(page, row):\n",
    "    # Page properties : dynamic\n",
    "    page.number(\"Engagment score\", float(row.ENGAGEMENT_SCORE))\n",
    "    page.number(\"Views\", int(row.VIEWS))\n",
    "    page.number(\"Likes\", int(row.LIKES))\n",
    "    page.number(\"Comments\", int(row.COMMENTS))\n",
    "    page.number(\"Shares\", int(row.SHARES))\n",
    "    return page"
   ]
  },
  {
   "cell_type": "code",
   "execution_count": null,
   "id": "aaff28ff",
   "metadata": {
    "jupyter": {
     "source_hidden": true
    },
    "papermill": {},
    "tags": []
   },
   "outputs": [],
   "source": [
    "def update_content_notion(df, database_url):\n",
    "    # Decode database id\n",
    "    database_id = database_url.split(\"/\")[-1].split(\"?v=\")[0]\n",
    "    \n",
    "    # Get pages from notion database\n",
    "    pages = notion.database.query(database_id, query={})\n",
    "    \n",
    "    # Manage dataframe empty\n",
    "    if len(df) == 0:\n",
    "        print(f\"🛑 Nothing to update in Notion.\")\n",
    "        return\n",
    "    \n",
    "    # Loop in data\n",
    "    df.COMPANY_MENTION = df.COMPANY_MENTION.fillna(\"\")\n",
    "    df.PROFILE_MENTION = df.PROFILE_MENTION.fillna(\"\")\n",
    "    for i, row in df.iterrows():\n",
    "        title = row.TITLE\n",
    "        content_title = row.CONTENT_TITLE\n",
    "        if title is None and content_title is not None:\n",
    "            title = f\"Repost - {content_title}\"\n",
    "        elif title is None and content_title is None:\n",
    "            title = \"Repost\"\n",
    "        post_url = row.POST_URL\n",
    "        print(post_url)\n",
    "        \n",
    "        # Create or update page\n",
    "        page_new = True\n",
    "        for page in pages:\n",
    "            page_temp = page.df()\n",
    "            page_id = page_temp.loc[page_temp.Name == \"Content URL\", \"Value\"].values\n",
    "            if page_id == post_url:\n",
    "                page_new = False\n",
    "                break\n",
    "        try:\n",
    "            if page_new:\n",
    "                # Create new page in notion\n",
    "                page = notion.Page.new(database_id=database_id).create()\n",
    "\n",
    "                # Page properties : static\n",
    "                page.date(\"Publication Date\", row.PUBLISHED_DATE)\n",
    "                page.title(\"Name\", title)\n",
    "                page.select(\"Content type\", row.CONTENT)\n",
    "                page.select(\"Platform\", \"LinkedIn\")\n",
    "                page.select(\"Status\", \"Published ✨\")\n",
    "                if len(row.PROFILE_MENTION) > 2:\n",
    "                    page.rich_text(\"Profile mention\", row.PROFILE_MENTION)\n",
    "                if len(row.COMPANY_MENTION) > 2:\n",
    "                    page.rich_text(\"Company mention\", row.COMPANY_MENTION)\n",
    "                page.number(\"Nb tags\", int(row.TAGS_COUNT))\n",
    "                tags = row.TAGS\n",
    "                if tags is None:\n",
    "                    tags = \"\"\n",
    "                else:\n",
    "                    if len(tags) < 2:\n",
    "                        tags = \"\"\n",
    "                page.rich_text(\"Tags\", tags)\n",
    "                page.number(\"Nb emojis\", int(row.EMOJIS_COUNT))\n",
    "                emojis = row.EMOJIS\n",
    "                if emojis is None:\n",
    "                    emojis = \"\"\n",
    "                else:\n",
    "                    if len(emojis) < 2:\n",
    "                        emojis = \"\"\n",
    "                page.rich_text(\"Emojis\", emojis)\n",
    "                page.number(\"Nb links\", int(row.LINKS_COUNT))\n",
    "                links = row.LINKS\n",
    "                if links is not None:\n",
    "                    if len(links) > 2:\n",
    "                        page.link(\"Links\", links)\n",
    "                page.number(\"Nb characters\", int(row.CHARACTER_COUNT))\n",
    "                page.link(\"Content URL\", post_url)\n",
    "                \n",
    "                # Page blocks text\n",
    "                page.heading_1(\"Text\")\n",
    "                text = row.TEXT\n",
    "                if text is not None:\n",
    "                    split_text = text.split(\"\\n\")\n",
    "                    for t in split_text:\n",
    "                        page.paragraph(t)\n",
    "                    \n",
    "                # Page blocks content\n",
    "                image_url = row.IMAGE_URL\n",
    "                content_url = row.CONTENT_URL\n",
    "                poll_question = row.POLL_QUESTION\n",
    "                if image_url or content_title or content_url or poll_question:\n",
    "                    page.heading_1(\"Content\")\n",
    "                \n",
    "                # Add image in content section\n",
    "                if image_url:\n",
    "                    page.heading_2(\"Image\")\n",
    "                    page.paragraph(image_url)\n",
    "                    \n",
    "                # Add post in content section\n",
    "                if content_title:\n",
    "                    page.heading_2(\"Media\")\n",
    "                    page.heading_3(content_title)\n",
    "                \n",
    "                if content_url:\n",
    "                    page.paragraph(content_url)\n",
    "                \n",
    "                # Add poll graph in content section\n",
    "                if poll_question:\n",
    "                    page.heading_3(\"Poll\")\n",
    "                    poll_graph = update_poll_graph(row)\n",
    "                    if poll_graph:\n",
    "                        page.embed(poll_graph)\n",
    "                \n",
    "                # Page properties : dynamic\n",
    "                page = update_dynamic_properties(page, row)\n",
    "                \n",
    "                # Create page in Notion\n",
    "                page.update()\n",
    "                print(f\"✅ Page '{title}' created in Notion.\", '\\n')\n",
    "            else:\n",
    "                # Update poll graph\n",
    "                update_poll_graph(row)\n",
    "                \n",
    "                # Page properties : dynamic\n",
    "                page = update_dynamic_properties(page, row)\n",
    "                \n",
    "                # Update page\n",
    "                page.update()\n",
    "                print(f\"📈 Post stats updated in notion for page '{title}'.\", '\\n')\n",
    "        except Exception as e:\n",
    "            print(f\"❌ Error creating page '{title}' in Notion\", e)\n",
    "            print(row)"
   ]
  },
  {
   "cell_type": "markdown",
   "id": "619fb9f1",
   "metadata": {
    "papermill": {},
    "tags": []
   },
   "source": [
    "### Create new post page in Notion"
   ]
  },
  {
   "cell_type": "code",
   "execution_count": null,
   "id": "bb4040d9",
   "metadata": {
    "papermill": {},
    "tags": []
   },
   "outputs": [],
   "source": [
    "update_content_notion(df_posts_feed, notion_database)"
   ]
  },
  {
   "cell_type": "markdown",
   "id": "d6f266ba",
   "metadata": {
    "papermill": {},
    "tags": []
   },
   "source": [
    "### Update post stats in Notion"
   ]
  },
  {
   "cell_type": "code",
   "execution_count": null,
   "id": "83060a4d",
   "metadata": {
    "papermill": {},
    "tags": []
   },
   "outputs": [],
   "source": [
    "update_content_notion(df_posts_stats, notion_database)"
   ]
  },
  {
   "cell_type": "markdown",
   "id": "84baf896",
   "metadata": {
    "papermill": {},
    "tags": []
   },
   "source": [
    "### Archive data in naas"
   ]
  },
  {
   "cell_type": "code",
   "execution_count": null,
   "id": "80e80b20",
   "metadata": {
    "jupyter": {
     "source_hidden": true
    },
    "papermill": {},
    "tags": []
   },
   "outputs": [],
   "source": [
    "def archive_csv(df, profile_url=None, output_dir=None):\n",
    "    if profile_url is not None:\n",
    "        profile_id = profile_url.split(\"https://www.linkedin.com/in/\")[-1].split(\"/\")[0]\n",
    "        filename=f\"LINKEDIN_POSTS_FEED_{profile_id}.csv\"\n",
    "    else:\n",
    "        filename=\"LINKEDIN_POSTS_FEED.csv\"\n",
    "    # Add timestamp to df\n",
    "    df[\"DATE_EXTRACT\"] = datetime.now().strftime(\"%Y-%m-%d %H:%M:%S\")\n",
    "    \n",
    "    # Get archive\n",
    "    df_archive = pd.DataFrame()\n",
    "    files = os.listdir(output_dir)\n",
    "    for f in files:\n",
    "        if f == filename:\n",
    "            df_archive = pd.read_csv(filename)\n",
    "            break\n",
    "            \n",
    "    # Concat\n",
    "    df = pd.concat([df, df_archive], axis=0)\n",
    "    df.ACTIVITY_ID = df.ACTIVITY_ID.astype(str)\n",
    "    df = df.drop_duplicates(subset=[\"ACTIVITY_ID\"])\n",
    "    df.to_csv(filename, index=False)\n",
    "    return df"
   ]
  },
  {
   "cell_type": "code",
   "execution_count": null,
   "id": "fe424142",
   "metadata": {
    "papermill": {},
    "tags": []
   },
   "outputs": [],
   "source": [
    "df = archive_csv(df_posts_feed, profile_url)\n",
    "print(\"💾 Linkedin posts archives:\", len(df))"
   ]
  }
 ],
 "metadata": {
  "interpreter": {
   "hash": "e7370f93d1d0cde622a1f8e1c04877d8463912d04d973331ad4851f04de6915a"
  },
  "kernelspec": {
   "display_name": "Python 3",
   "language": "python",
   "name": "python3"
  },
  "language_info": {
   "codemirror_mode": {
    "name": "ipython",
    "version": 3
   },
   "file_extension": ".py",
   "mimetype": "text/x-python",
   "name": "python",
   "nbconvert_exporter": "python",
   "pygments_lexer": "ipython3",
   "version": "3.9.6"
  },
  "papermill": {
   "default_parameters": {},
   "environment_variables": {},
   "parameters": {},
   "version": "2.3.4"
  }
 },
 "nbformat": 4,
 "nbformat_minor": 5
}
