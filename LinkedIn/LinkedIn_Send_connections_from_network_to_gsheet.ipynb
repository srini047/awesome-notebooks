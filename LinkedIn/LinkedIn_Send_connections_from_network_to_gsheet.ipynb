{
 "cells": [
  {
   "cell_type": "markdown",
   "id": "fresh-danish",
   "metadata": {
    "execution": {
     "iopub.execute_input": "2021-01-25T08:00:35.294800Z",
     "iopub.status.busy": "2021-01-25T08:00:35.294557Z",
     "iopub.status.idle": "2021-01-25T08:00:35.307281Z",
     "shell.execute_reply": "2021-01-25T08:00:35.306468Z",
     "shell.execute_reply.started": "2021-01-25T08:00:35.294775Z"
    },
    "papermill": {},
    "tags": []
   },
   "source": [
    "<img width=\"10%\" alt=\"Naas\" src=\"https://landen.imgix.net/jtci2pxwjczr/assets/5ice39g4.png?w=160\"/>"
   ]
  },
  {
   "cell_type": "markdown",
   "id": "federal-pixel",
   "metadata": {
    "papermill": {},
    "tags": []
   },
   "source": [
    "# LinkedIn - Send connections from network to gsheet\n",
    "<a href=\"https://app.naas.ai/user-redirect/naas/downloader?url=https://raw.githubusercontent.com/jupyter-naas/awesome-notebooks/master/LinkedIn/LinkedIn_Send_connections_from_network_to_gsheet.ipynb\" target=\"_parent\"><img src=\"https://naasai-public.s3.eu-west-3.amazonaws.com/open_in_naas.svg\"/></a><br><br><a href=\"https://github.com/jupyter-naas/awesome-notebooks/issues/new?assignees=&labels=&template=template-request.md&title=Tool+-+Action+of+the+notebook+\">Template request</a> | <a href=\"https://github.com/jupyter-naas/awesome-notebooks/issues/new?assignees=&labels=bug&template=bug_report.md&title=LinkedIn+-+Send+connections+from+network+to+gsheet:+Error+short+description\">Bug report</a>"
   ]
  },
  {
   "cell_type": "markdown",
   "id": "be29252a-5f47-44cc-a178-c734ab5f042b",
   "metadata": {
    "papermill": {},
    "tags": []
   },
   "source": [
    "**Tags:** #linkedin #network #connections #naas_drivers #csv #automation #content #googlesheets"
   ]
  },
  {
   "cell_type": "markdown",
   "id": "ce9b6fcd-b307-40ba-b872-668562f81947",
   "metadata": {
    "papermill": {},
    "tags": []
   },
   "source": [
    "**Author:** [Florent Ravenel](https://www.linkedin.com/in/florent-ravenel/)"
   ]
  },
  {
   "cell_type": "markdown",
   "id": "naas-description",
   "metadata": {
    "papermill": {},
    "tags": [
     "description"
    ]
   },
   "source": [
    "**Description:** This notebook allows users to export their LinkedIn connections to a Google Sheet for easy organization and tracking."
   ]
  },
  {
   "cell_type": "markdown",
   "id": "normal-rochester",
   "metadata": {
    "papermill": {},
    "tags": []
   },
   "source": [
    "## Input"
   ]
  },
  {
   "cell_type": "markdown",
   "id": "import_cell",
   "metadata": {
    "papermill": {},
    "tags": []
   },
   "source": [
    "### Import libraries"
   ]
  },
  {
   "cell_type": "code",
   "execution_count": null,
   "id": "recreational-season",
   "metadata": {
    "papermill": {},
    "tags": []
   },
   "outputs": [],
   "source": [
    "from naas_drivers import linkedin, gsheet\n",
    "import naas\n",
    "import pandas as pd"
   ]
  },
  {
   "cell_type": "markdown",
   "id": "wrapped-benjamin",
   "metadata": {
    "papermill": {},
    "tags": []
   },
   "source": [
    "### Setup LinkedIn\n",
    "👉 <a href='https://www.notion.so/LinkedIn-driver-Get-your-cookies-d20a8e7e508e42af8a5b52e33f3dba75'>How to get your cookies ?</a>"
   ]
  },
  {
   "cell_type": "code",
   "execution_count": null,
   "id": "yellow-footage",
   "metadata": {
    "papermill": {},
    "tags": []
   },
   "outputs": [],
   "source": [
    "# Lindekin cookies\n",
    "LI_AT = \"AQEDARCNSioDe6wmAAABfqF-HR4AAAF-xYqhHlYAtSu7EZZEpFer0UZF-GLuz2DNSz4asOOyCRxPGFjenv37irMObYYgxxxxxxx\"\n",
    "JSESSIONID = \"ajax:12XXXXXXXXXXXXXXXXX\""
   ]
  },
  {
   "cell_type": "markdown",
   "id": "66b77860-a95b-486c-a153-9cab521de365",
   "metadata": {
    "papermill": {},
    "tags": []
   },
   "source": [
    "### Setup your Google Sheet\n",
    "👉 Get your spreadsheet URL<br>\n",
    "👉 Share your gsheet with our service account to connect : naas-share@naas-gsheets.iam.gserviceaccount.com<br>\n",
    "👉 Create your sheet before sending data into it"
   ]
  },
  {
   "cell_type": "code",
   "execution_count": null,
   "id": "63ba2bd2-cc65-4ddf-8d01-42460006a159",
   "metadata": {
    "papermill": {},
    "tags": []
   },
   "outputs": [],
   "source": [
    "# Spreadsheet URL\n",
    "SPREADSHEET_URL = \"https://docs.google.com/spreadsheets/d/XXXXXXXXXXXXXXXXXXXX\"\n",
    "\n",
    "# Sheet name\n",
    "SHEET_NAME = \"LK_CONNECTIONS\""
   ]
  },
  {
   "cell_type": "markdown",
   "id": "527141d6-d96f-4d45-8a4b-6c6c11d522c9",
   "metadata": {
    "papermill": {},
    "tags": []
   },
   "source": [
    "### Setup Naas"
   ]
  },
  {
   "cell_type": "code",
   "execution_count": null,
   "id": "4bfb95c8-1b19-4f5d-8d55-a2c6a68d07cb",
   "metadata": {
    "papermill": {},
    "tags": []
   },
   "outputs": [],
   "source": [
    "naas.scheduler.add(cron=\"0 8 * * *\")\n",
    "\n",
    "# -> To delete your scheduler, please uncomment the line below and execute this cell\n",
    "# naas.scheduler.delete()"
   ]
  },
  {
   "cell_type": "markdown",
   "id": "pediatric-emerald",
   "metadata": {
    "papermill": {},
    "tags": []
   },
   "source": [
    "## Model"
   ]
  },
  {
   "cell_type": "markdown",
   "id": "e57aaf6f-1f33-44c4-83d9-1c5fcee2cdaf",
   "metadata": {
    "papermill": {},
    "tags": []
   },
   "source": [
    "### Get connections from Google Sheet"
   ]
  },
  {
   "cell_type": "code",
   "execution_count": null,
   "id": "c2cda8c8-c740-49df-b7ab-dd15f96a9021",
   "metadata": {
    "papermill": {},
    "tags": []
   },
   "outputs": [],
   "source": [
    "df_gsheet = gsheet.connect(SPREADSHEET_URL).get(sheet_name=SHEET_NAME)\n",
    "df_gsheet"
   ]
  },
  {
   "cell_type": "markdown",
   "id": "c74a1ee9-f844-4466-ae72-57f3e317d21d",
   "metadata": {
    "papermill": {},
    "tags": []
   },
   "source": [
    "### Get new connections"
   ]
  },
  {
   "cell_type": "code",
   "execution_count": null,
   "id": "5e4cf0e1-6bc0-4bff-b358-4d3bd693bd14",
   "metadata": {
    "papermill": {},
    "tags": []
   },
   "outputs": [],
   "source": [
    "def get_new_connections(df_gsheet, key=\"PROFILE_URN\"):\n",
    "    profiles = []\n",
    "    if len(df_gsheet) > 0:\n",
    "        profiles = df_gsheet[key].unique()\n",
    "    else:\n",
    "        df = linkedin.connect(LI_AT, JSESSIONID).network.get_connections(limit=-1)\n",
    "        return df\n",
    "\n",
    "    # Get new\n",
    "    df_new = pd.DataFrame()\n",
    "    update = True\n",
    "    while update:\n",
    "        start = 0\n",
    "        df = linkedin.connect(LI_AT, JSESSIONID).network.get_connections(\n",
    "            start=start, count=100, limit=100\n",
    "        )\n",
    "        new_profiles = df[key].unique()\n",
    "        for i, p in enumerate(new_profiles):\n",
    "            if p in profiles:\n",
    "                update = False\n",
    "                df = df[:i]\n",
    "                break\n",
    "        start += 100\n",
    "        df_new = pd.concat([df_new, df])\n",
    "    return df_new\n",
    "\n",
    "\n",
    "df_new = get_new_connections(df_gsheet, key=\"PROFILE_URN\")\n",
    "df_new"
   ]
  },
  {
   "cell_type": "markdown",
   "id": "piano-stylus",
   "metadata": {
    "papermill": {},
    "tags": []
   },
   "source": [
    "## Output"
   ]
  },
  {
   "cell_type": "markdown",
   "id": "0bbe4f5f-0962-4f32-b2b9-ddd9f2183093",
   "metadata": {
    "papermill": {},
    "tags": []
   },
   "source": [
    "### Send to Google Sheet"
   ]
  },
  {
   "cell_type": "code",
   "execution_count": null,
   "id": "a995ab0f-eb82-4dc2-8741-c397255702b3",
   "metadata": {
    "papermill": {},
    "tags": []
   },
   "outputs": [],
   "source": [
    "gsheet.connect(SPREADSHEET_URL).send(df_new, sheet_name=SHEET_NAME, append=True)"
   ]
  }
 ],
 "metadata": {
  "kernelspec": {
   "display_name": "Python 3",
   "language": "python",
   "name": "python3"
  },
  "language_info": {
   "codemirror_mode": {
    "name": "ipython",
    "version": 3
   },
   "file_extension": ".py",
   "mimetype": "text/x-python",
   "name": "python",
   "nbconvert_exporter": "python",
   "pygments_lexer": "ipython3",
   "version": "3.9.6"
  },
  "naas": {
   "notebook_id": "ee378c45-e443-4aa6-9a6f-e32c4d05461d",
   "notebook_path": "LinkedIn/LinkedIn_Send_connections_from_network_to_gsheet.ipynb"
  },
  "papermill": {
   "default_parameters": {},
   "environment_variables": {},
   "parameters": {},
   "version": "2.3.3"
  },
  "widgets": {
   "application/vnd.jupyter.widget-state+json": {
    "state": {},
    "version_major": 2,
    "version_minor": 0
   }
  }
 },
 "nbformat": 4,
 "nbformat_minor": 5
}