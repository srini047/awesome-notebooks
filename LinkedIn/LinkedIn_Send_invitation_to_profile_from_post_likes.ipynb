{
 "cells": [
  {
   "cell_type": "markdown",
   "id": "composite-guinea",
   "metadata": {
    "execution": {
     "iopub.execute_input": "2021-01-25T08:00:35.294800Z",
     "iopub.status.busy": "2021-01-25T08:00:35.294557Z",
     "iopub.status.idle": "2021-01-25T08:00:35.307281Z",
     "shell.execute_reply": "2021-01-25T08:00:35.306468Z",
     "shell.execute_reply.started": "2021-01-25T08:00:35.294775Z"
    },
    "papermill": {},
    "tags": []
   },
   "source": [
    "<img width=\"10%\" alt=\"Naas\" src=\"https://landen.imgix.net/jtci2pxwjczr/assets/5ice39g4.png?w=160\"/>"
   ]
  },
  {
   "cell_type": "markdown",
   "id": "ultimate-physiology",
   "metadata": {
    "papermill": {},
    "tags": []
   },
   "source": [
    "# LinkedIn - Send invitation to profile from post likes\n",
    "<a href=\"https://app.naas.ai/user-redirect/naas/downloader?url=https://raw.githubusercontent.com/jupyter-naas/awesome-notebooks/master/LinkedIn/LinkedIn_Send_invitation_to_profile_from_post_likes.ipynb\" target=\"_parent\"><img src=\"https://naasai-public.s3.eu-west-3.amazonaws.com/Open_in_Naas_Lab.svg\"/></a><br><br><a href=\"https://github.com/jupyter-naas/awesome-notebooks/issues/new?assignees=&labels=&template=template-request.md&title=Tool+-+Action+of+the+notebook+\">Template request</a> | <a href=\"https://github.com/jupyter-naas/awesome-notebooks/issues/new?assignees=&labels=bug&template=bug_report.md&title=LinkedIn+-+Send+invitation+to+profile+from+post+likes:+Error+short+description\">Bug report</a> | <a href=\"https://app.naas.ai/user-redirect/naas/downloader?url=https://raw.githubusercontent.com/jupyter-naas/awesome-notebooks/master/Naas/Naas_Start_data_product.ipynb\" target=\"_parent\">Generate Data Product</a>"
   ]
  },
  {
   "cell_type": "markdown",
   "id": "05c7e6ad-4c2e-415c-b9c5-1811ad14d4be",
   "metadata": {
    "papermill": {},
    "tags": []
   },
   "source": [
    "**Tags:** #linkedin #post #likes #naas_drivers #invitation #content #snippet"
   ]
  },
  {
   "cell_type": "markdown",
   "id": "8b4f752b-1016-4c81-81ba-ecc5c1b81c58",
   "metadata": {
    "papermill": {},
    "tags": []
   },
   "source": [
    "**Author:** [Florent Ravenel](https://www.linkedin.com/in/florent-ravenel/)"
   ]
  },
  {
   "cell_type": "markdown",
   "id": "naas-description",
   "metadata": {
    "papermill": {},
    "tags": [
     "description"
    ]
   },
   "source": [
    "**Description:** This notebook allows users to send LinkedIn invitations to profiles based on post likes."
   ]
  },
  {
   "cell_type": "markdown",
   "id": "8d771da5-3cd2-4dd7-9be6-8564b935c8c1",
   "metadata": {
    "papermill": {},
    "tags": []
   },
   "source": [
    "\n",
    "<div class=\"alert alert-info\" role=\"info\" style=\"margin: 10px\">\n",
    "<b>Disclaimer:</b><br>\n",
    "This code is in no way affiliated with, authorized, maintained, sponsored or endorsed by Linkedin or any of its affiliates or subsidiaries. It uses an independent and unofficial API. Use at your own risk.\n",
    "\n",
    "This project violates Linkedin's User Agreement Section 8.2, and because of this, Linkedin may (and will) temporarily or permanently ban your account. We are not responsible for your account being banned.\n",
    "<br>\n",
    "</div>"
   ]
  },
  {
   "cell_type": "markdown",
   "id": "yellow-clear",
   "metadata": {
    "papermill": {},
    "tags": []
   },
   "source": [
    "## Input"
   ]
  },
  {
   "cell_type": "markdown",
   "id": "import_cell",
   "metadata": {
    "papermill": {},
    "tags": []
   },
   "source": [
    "### Import libraries"
   ]
  },
  {
   "cell_type": "code",
   "execution_count": null,
   "id": "demographic-kennedy",
   "metadata": {
    "papermill": {},
    "tags": []
   },
   "outputs": [],
   "source": [
    "from naas_drivers import linkedin\n",
    "import pandas as pd\n",
    "import naas\n",
    "import time"
   ]
  },
  {
   "cell_type": "markdown",
   "id": "asian-theta",
   "metadata": {
    "papermill": {},
    "tags": []
   },
   "source": [
    "### Setup LinkedIn\n",
    "👉 <a href='https://www.notion.so/LinkedIn-driver-Get-your-cookies-d20a8e7e508e42af8a5b52e33f3dba75'>How to get your cookies ?</a>"
   ]
  },
  {
   "cell_type": "code",
   "execution_count": null,
   "id": "timely-columbus",
   "metadata": {
    "papermill": {},
    "tags": []
   },
   "outputs": [],
   "source": [
    "# Credentials\n",
    "LI_AT = \"YOUR_COOKIE_LI_AT\"  # EXAMPLE AQFAzQN_PLPR4wAAAXc-FCKmgiMit5FLdY1af3-2\n",
    "JSESSIONID = \"YOUR_COOKIE_JSESSIONID\"  # EXAMPLE ajax:8379907400220387585\n",
    "\n",
    "# Post url\n",
    "POST_URL = \"POST_URL\""
   ]
  },
  {
   "cell_type": "markdown",
   "id": "83d6f88d-f06e-43b1-a2de-07f7548a0cfa",
   "metadata": {
    "papermill": {},
    "tags": []
   },
   "source": [
    "### Setup Outputs"
   ]
  },
  {
   "cell_type": "code",
   "execution_count": null,
   "id": "e8647169-7b54-4484-a47b-a36feae6d29c",
   "metadata": {
    "papermill": {},
    "tags": []
   },
   "outputs": [],
   "source": [
    "# Post likes\n",
    "csv_post_likes = (\n",
    "    f\"LINKEDIN_POST_LIKES_{POST_URL.split('activity-')[1].split('-')[0]}.csv\"\n",
    ")"
   ]
  },
  {
   "cell_type": "markdown",
   "id": "crude-melbourne",
   "metadata": {
    "papermill": {},
    "tags": []
   },
   "source": [
    "## Model"
   ]
  },
  {
   "cell_type": "markdown",
   "id": "hazardous-spirituality",
   "metadata": {
    "papermill": {},
    "tags": []
   },
   "source": [
    "### Get likes from post"
   ]
  },
  {
   "cell_type": "code",
   "execution_count": null,
   "id": "finnish-scottish",
   "metadata": {
    "papermill": {},
    "tags": []
   },
   "outputs": [],
   "source": [
    "df_post_likes = linkedin.connect(LI_AT, JSESSIONID).post.get_likes(POST_URL)\n",
    "print(\"👍 Post likes :\", len(df_post_likes))\n",
    "df_post_likes.tail(1)"
   ]
  },
  {
   "cell_type": "markdown",
   "id": "863cc9a1-e538-48e4-a993-c59b61f38a5e",
   "metadata": {
    "papermill": {},
    "tags": []
   },
   "source": [
    "### Get connections from post likes"
   ]
  },
  {
   "cell_type": "code",
   "execution_count": null,
   "id": "597d8244-b8cd-45d4-b70c-7a6c4e438a50",
   "metadata": {
    "papermill": {},
    "tags": []
   },
   "outputs": [],
   "source": [
    "def get_connections(df):\n",
    "    for index, row in df.iterrows():\n",
    "        df_network = pd.DataFrame()\n",
    "        profile = row[\"PUBLIC_ID\"]\n",
    "        print(f\"➡️ Checking :\", profile)\n",
    "\n",
    "        # Get distance with profile\n",
    "        if profile != 0:\n",
    "            df_network = linkedin.connect(LI_AT, JSESSIONID).profile.get_network(\n",
    "                profile\n",
    "            )\n",
    "\n",
    "        # Check if profile is already in your network\n",
    "        if len(df_network) > 0:\n",
    "            distance = df_network.loc[0, \"DISTANCE\"]\n",
    "            df.loc[index, \"DISTANCE\"] = distance\n",
    "            df.to_csv(csv_post_likes, index=False)\n",
    "    return df\n",
    "\n",
    "\n",
    "df_profile = get_connections(df_post_likes)\n",
    "df_profile"
   ]
  },
  {
   "cell_type": "markdown",
   "id": "correct-birth",
   "metadata": {
    "papermill": {},
    "tags": []
   },
   "source": [
    "## Output"
   ]
  },
  {
   "cell_type": "markdown",
   "id": "260a2dce-8035-4fb1-9b7e-ba1bfdbe5606",
   "metadata": {
    "papermill": {},
    "tags": []
   },
   "source": [
    "### Send invitations to profile out of network"
   ]
  },
  {
   "cell_type": "code",
   "execution_count": null,
   "id": "9ccf66d6-8c8c-4696-981c-7c7ba2708e0c",
   "metadata": {
    "papermill": {},
    "tags": []
   },
   "outputs": [],
   "source": [
    "def send_invitation(df):\n",
    "    df = df[~df.DISTANCE.isin([\"SELF\", \"DISTANCE_1\"])].reset_index(drop=True)\n",
    "    for index, row in df.iterrows():\n",
    "        fullname = row[\"FULLNAME\"]\n",
    "        profile_id = row[\"PROFILE_ID\"]\n",
    "        print(f\"➡️ Sending to :\", fullname)\n",
    "\n",
    "        # Get distance with profile\n",
    "        try:\n",
    "            linkedin.invitation.send(recipient_url=profile_id)\n",
    "        except Exception as e:\n",
    "            print(\"❌ Invitation not sent\", e)\n",
    "        time.sleep(3)\n",
    "    return df\n",
    "\n",
    "\n",
    "df_invitation = send_invitation(df_profile)\n",
    "df_invitation"
   ]
  }
 ],
 "metadata": {
  "kernelspec": {
   "display_name": "Python 3",
   "language": "python",
   "name": "python3"
  },
  "language_info": {
   "codemirror_mode": {
    "name": "ipython",
    "version": 3
   },
   "file_extension": ".py",
   "mimetype": "text/x-python",
   "name": "python",
   "nbconvert_exporter": "python",
   "pygments_lexer": "ipython3",
   "version": "3.9.6"
  },
  "naas": {
   "notebook_id": "f0fba0385a33845e76e5bcd0c3a61e1c1b6574dcbec369b6f3cc81f4da639439",
   "notebook_path": "LinkedIn/LinkedIn_Send_invitation_to_profile_from_post_likes.ipynb"
  },
  "papermill": {
   "default_parameters": {},
   "environment_variables": {},
   "parameters": {},
   "version": "2.3.3"
  },
  "widgets": {
   "application/vnd.jupyter.widget-state+json": {
    "state": {},
    "version_major": 2,
    "version_minor": 0
   }
  }
 },
 "nbformat": 4,
 "nbformat_minor": 5
}