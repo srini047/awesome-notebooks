{
 "cells": [
  {
   "cell_type": "markdown",
   "id": "fresh-danish",
   "metadata": {
    "execution": {
     "iopub.execute_input": "2021-01-25T08:00:35.294800Z",
     "iopub.status.busy": "2021-01-25T08:00:35.294557Z",
     "iopub.status.idle": "2021-01-25T08:00:35.307281Z",
     "shell.execute_reply": "2021-01-25T08:00:35.306468Z",
     "shell.execute_reply.started": "2021-01-25T08:00:35.294775Z"
    },
    "papermill": {},
    "tags": []
   },
   "source": [
    "<img width=\"10%\" alt=\"Naas\" src=\"https://landen.imgix.net/jtci2pxwjczr/assets/5ice39g4.png?w=160\"/>"
   ]
  },
  {
   "cell_type": "markdown",
   "id": "federal-pixel",
   "metadata": {
    "papermill": {},
    "tags": []
   },
   "source": [
    "# LinkedIn - Follow company followers\n",
    "<a href=\"https://app.naas.ai/user-redirect/naas/downloader?url=https://raw.githubusercontent.com/jupyter-naas/awesome-notebooks/master/LinkedIn/LinkedIn_Follow_company_followers.ipynb\" target=\"_parent\"><img src=\"https://naasai-public.s3.eu-west-3.amazonaws.com/Open_in_Naas_Lab.svg\"/></a><br><br><a href=\"https://github.com/jupyter-naas/awesome-notebooks/issues/new?assignees=&labels=&template=template-request.md&title=Tool+-+Action+of+the+notebook+\">Template request</a> | <a href=\"https://github.com/jupyter-naas/awesome-notebooks/issues/new?assignees=&labels=bug&template=bug_report.md&title=LinkedIn+-+Follow+company+followers:+Error+short+description\">Bug report</a> | <a href=\"https://app.naas.ai/user-redirect/naas/downloader?url=https://raw.githubusercontent.com/jupyter-naas/awesome-notebooks/master/Naas/Naas_Start_data_product.ipynb\" target=\"_parent\">Generate Data Product</a>"
   ]
  },
  {
   "cell_type": "markdown",
   "id": "be29252a-5f47-44cc-a178-c734ab5f042b",
   "metadata": {
    "papermill": {},
    "tags": []
   },
   "source": [
    "**Tags:** #linkedin #company #followers #naas_drivers #analytics #automation #csv #html #image #content #plotly"
   ]
  },
  {
   "cell_type": "markdown",
   "id": "ce9b6fcd-b307-40ba-b872-668562f81947",
   "metadata": {
    "papermill": {},
    "tags": []
   },
   "source": [
    "**Author:** [Florent Ravenel](https://www.linkedin.com/in/florent-ravenel/)"
   ]
  },
  {
   "cell_type": "markdown",
   "id": "naas-description",
   "metadata": {
    "papermill": {},
    "tags": [
     "description"
    ]
   },
   "source": [
    "**Description:** This notebook allows you to track and follow the followers of a company on LinkedIn."
   ]
  },
  {
   "cell_type": "markdown",
   "id": "38f781e3-8dd6-40b0-a210-625ec0b0a3d9",
   "metadata": {
    "papermill": {},
    "tags": []
   },
   "source": [
    "\n",
    "<div class=\"alert alert-info\" role=\"info\" style=\"margin: 10px\">\n",
    "<b>Disclaimer:</b><br>\n",
    "This code is in no way affiliated with, authorized, maintained, sponsored or endorsed by Linkedin or any of its affiliates or subsidiaries. It uses an independent and unofficial API. Use at your own risk.\n",
    "\n",
    "This project violates Linkedin's User Agreement Section 8.2, and because of this, Linkedin may (and will) temporarily or permanently ban your account. We are not responsible for your account being banned.\n",
    "<br>\n",
    "</div>"
   ]
  },
  {
   "cell_type": "markdown",
   "id": "normal-rochester",
   "metadata": {
    "papermill": {},
    "tags": []
   },
   "source": [
    "## Input"
   ]
  },
  {
   "cell_type": "markdown",
   "id": "import_cell",
   "metadata": {
    "papermill": {},
    "tags": []
   },
   "source": [
    "### Import library"
   ]
  },
  {
   "cell_type": "code",
   "execution_count": 1,
   "id": "recreational-season",
   "metadata": {
    "papermill": {},
    "tags": []
   },
   "outputs": [],
   "source": [
    "from naas_drivers import linkedin\n",
    "import pandas as pd\n",
    "from datetime import datetime\n",
    "import naas\n",
    "import plotly.graph_objects as go"
   ]
  },
  {
   "cell_type": "markdown",
   "id": "wrapped-benjamin",
   "metadata": {
    "papermill": {},
    "tags": []
   },
   "source": [
    "### Setup LinkedIn\n",
    "👉 <a href='https://www.notion.so/LinkedIn-driver-Get-your-cookies-d20a8e7e508e42af8a5b52e33f3dba75'>How to get your cookies ?</a>"
   ]
  },
  {
   "cell_type": "code",
   "execution_count": 2,
   "id": "yellow-footage",
   "metadata": {
    "papermill": {},
    "tags": []
   },
   "outputs": [],
   "source": [
    "# Credentials\n",
    "LI_AT = \"YOUR_COOKIE_LI_AT\"  # EXAMPLE AQFAzQN_PLPR4wAAAXc-FCKmgiMit5FLdY1af3-2\n",
    "JSESSIONID = \"YOUR_COOKIE_JSESSIONID\"  # EXAMPLE ajax:8379907400220387585\n",
    "\n",
    "# Company URL\n",
    "COMPANY_URL = \"https://www.linkedin.com/company/naas-ai/\""
   ]
  },
  {
   "cell_type": "markdown",
   "id": "66b77860-a95b-486c-a153-9cab521de365",
   "metadata": {
    "papermill": {},
    "tags": []
   },
   "source": [
    "### Setup variables"
   ]
  },
  {
   "cell_type": "code",
   "execution_count": 3,
   "id": "63ba2bd2-cc65-4ddf-8d01-42460006a159",
   "metadata": {
    "papermill": {},
    "tags": []
   },
   "outputs": [],
   "source": [
    "# Inputs\n",
    "csv_input = \"LinkedIn_company_followers.csv\"\n",
    "\n",
    "# Outputs\n",
    "company_name = COMPANY_URL.strip().split(\"company/\")[-1].split(\"/\")[0]\n",
    "title = f\"{company_name} : LinkedIn company followers\"\n",
    "name_output = \"LinkedIn_company_followers_trend\"\n",
    "csv_output = f\"{name_output}.csv\"\n",
    "html_output = f\"{name_output}.html\"\n",
    "image_output = f\"{name_output}.png\""
   ]
  },
  {
   "cell_type": "markdown",
   "id": "ec12b890-c407-4147-a877-354c0eab21c2",
   "metadata": {
    "papermill": {},
    "tags": []
   },
   "source": [
    "### Setup Naas"
   ]
  },
  {
   "cell_type": "code",
   "execution_count": 4,
   "id": "26cf5d15-f0a2-4f38-a02a-f53ec20bbdf6",
   "metadata": {
    "papermill": {},
    "tags": []
   },
   "outputs": [],
   "source": [
    "# Schedule your notebook everyday at 9:00 AM\n",
    "naas.scheduler.add(cron=\"0 9 * * *\")\n",
    "\n",
    "# -> Uncomment the line below to remove your scheduler\n",
    "# naas.scheduler.delete()"
   ]
  },
  {
   "cell_type": "markdown",
   "id": "pediatric-emerald",
   "metadata": {
    "papermill": {},
    "tags": []
   },
   "source": [
    "## Model"
   ]
  },
  {
   "cell_type": "markdown",
   "id": "differential-agenda",
   "metadata": {
    "execution": {
     "iopub.execute_input": "2021-05-15T10:12:55.887028Z",
     "iopub.status.busy": "2021-05-15T10:12:55.886761Z",
     "iopub.status.idle": "2021-05-15T10:12:55.899441Z",
     "shell.execute_reply": "2021-05-15T10:12:55.898476Z",
     "shell.execute_reply.started": "2021-05-15T10:12:55.886964Z"
    },
    "papermill": {},
    "tags": []
   },
   "source": [
    "### Get followers from company\n",
    "**Available columns :**\n",
    "- FIRSTNAME : First name\n",
    "- LASTNAME : Last name\n",
    "- OCCUPATION : Text below the name in the profile page\n",
    "- PROFILE_PICTURE : Profile picture URL\n",
    "- PROFILE_URL : Profile URL\n",
    "- PROFILE_ID : LinkedIn profile id\n",
    "- PUBLIC_ID : LinkedIn public profile id\n",
    "- FOLLOWED_AT : Date of following company\n",
    "- DISTANCE : Distance between your profile"
   ]
  },
  {
   "cell_type": "code",
   "execution_count": 5,
   "id": "8b27df3a-166a-4f05-836c-aec268a5a9d5",
   "metadata": {
    "papermill": {},
    "tags": []
   },
   "outputs": [],
   "source": [
    "# Get company followers from CSV stored in your local (Returns empty if CSV does not exist)\n",
    "def get_company_followers(file_path):\n",
    "    try:\n",
    "        df = pd.read_csv(file_path)\n",
    "    except FileNotFoundError as e:\n",
    "        # Empty dataframe returned\n",
    "        return pd.DataFrame()\n",
    "    return df\n",
    "\n",
    "\n",
    "df_followers = get_company_followers(csv_input)\n",
    "df_followers"
   ]
  },
  {
   "cell_type": "code",
   "execution_count": 6,
   "id": "eb4b0e94-614a-4a6f-b631-811c4a4b4122",
   "metadata": {
    "papermill": {},
    "tags": []
   },
   "outputs": [],
   "source": [
    "def get_new_followers(df, input_path):\n",
    "    # Get all profiles\n",
    "    profiles = []\n",
    "    if len(df) > 0:\n",
    "        profiles = df.PROFILE_ID.unique()\n",
    "    start = 0\n",
    "    while True:\n",
    "        tmp_df = linkedin.connect(LI_AT, JSESSIONID).company.get_followers(\n",
    "            COMPANY_URL, start=start, limit=1, sleep=False\n",
    "        )\n",
    "        profile_id = None\n",
    "        if \"PROFILE_ID\" in tmp_df.columns:\n",
    "            profile_id = tmp_df.loc[0, \"PROFILE_ID\"]\n",
    "        if profile_id in profiles:\n",
    "            break\n",
    "        else:\n",
    "            df = pd.concat([tmp_df, df])\n",
    "            df.to_csv(input_path, index=False)\n",
    "            start += 1\n",
    "    return df.reset_index(drop=True)\n",
    "\n",
    "\n",
    "merged_df = get_new_followers(df_followers, csv_input)\n",
    "merged_df"
   ]
  },
  {
   "cell_type": "markdown",
   "id": "963ffdc2-eb5c-4b31-9b1e-cf7842e20374",
   "metadata": {
    "papermill": {},
    "tags": []
   },
   "source": [
    "### Prep trend data"
   ]
  },
  {
   "cell_type": "code",
   "execution_count": 7,
   "id": "68ea26fd-88f4-4703-9c9a-8148d05fa340",
   "metadata": {
    "papermill": {},
    "tags": []
   },
   "outputs": [],
   "source": [
    "def get_trend(df, date_col_name=None, value_col_name=None, date_order=\"asc\"):\n",
    "\n",
    "    # Format date\n",
    "    df[date_col_name] = pd.to_datetime(df[date_col_name]).dt.strftime(\"%Y-%m-%d\")\n",
    "    df = df.groupby(date_col_name, as_index=False).agg({value_col_name: \"count\"})\n",
    "    d = datetime.now().date()\n",
    "    d2 = df.loc[df.index[0], date_col_name]\n",
    "    idx = pd.date_range(d2, d, freq=\"D\")\n",
    "\n",
    "    df.set_index(date_col_name, drop=True, inplace=True)\n",
    "    df.index = pd.DatetimeIndex(df.index)\n",
    "    df = df.reindex(idx, fill_value=0)\n",
    "    df[date_col_name] = pd.DatetimeIndex(df.index)\n",
    "\n",
    "    # Calc sum cum\n",
    "    df[\"VALUE_CUM\"] = df.agg({value_col_name: \"cumsum\"})\n",
    "\n",
    "    df[\"TEXT\"] = (\n",
    "        df[\"VALUE_CUM\"].astype(str)\n",
    "        + \" as of \"\n",
    "        + df[date_col_name].dt.strftime(\"%Y-%m-%d\")\n",
    "        + \" (+\"\n",
    "        + df[value_col_name].astype(str)\n",
    "        + \" vs yesterday)\"\n",
    "    )\n",
    "    return df.reset_index(drop=True)\n",
    "\n",
    "\n",
    "df_trend = get_trend(merged_df, \"FOLLOWED_AT\", \"PROFILE_ID\")\n",
    "df_trend"
   ]
  },
  {
   "cell_type": "markdown",
   "id": "af9e19f3-cb92-468b-8327-e5c7a320cbf0",
   "metadata": {
    "papermill": {},
    "tags": []
   },
   "source": [
    "### Create linechart"
   ]
  },
  {
   "cell_type": "code",
   "execution_count": 8,
   "id": "fd3324f3-3e84-49aa-9aea-f0df4e4ebdb0",
   "metadata": {
    "papermill": {},
    "tags": []
   },
   "outputs": [],
   "source": [
    "def create_linechart(df, label, value, text, title):\n",
    "    # Init\n",
    "    fig = go.Figure()\n",
    "\n",
    "    # Create fig\n",
    "    fig.add_trace(\n",
    "        go.Scatter(\n",
    "            x=df[label],\n",
    "            y=df[value],\n",
    "            text=df[text],\n",
    "            hoverinfo=\"text\",\n",
    "            mode=\"lines\",\n",
    "            stackgroup=\"one\",\n",
    "        )\n",
    "    )\n",
    "    fig.update_layout(\n",
    "        title=f\"<b>{title}</b><br><span style='font-size: 13px;'>{df.loc[df.index[-1], 'TEXT']}</span>\",\n",
    "        title_font=dict(family=\"Arial\", size=18, color=\"black\"),\n",
    "        plot_bgcolor=\"#ffffff\",\n",
    "        width=1200,\n",
    "        height=800,\n",
    "        paper_bgcolor=\"white\",\n",
    "        margin_pad=10,\n",
    "    )\n",
    "    fig.show()\n",
    "    return fig\n",
    "\n",
    "\n",
    "fig = create_linechart(df_trend, \"FOLLOWED_AT\", \"VALUE_CUM\", \"TEXT\", title)"
   ]
  },
  {
   "cell_type": "markdown",
   "id": "piano-stylus",
   "metadata": {
    "papermill": {},
    "tags": []
   },
   "source": [
    "## Output"
   ]
  },
  {
   "cell_type": "markdown",
   "id": "micro-funds",
   "metadata": {
    "papermill": {},
    "tags": []
   },
   "source": [
    "### Save outputs"
   ]
  },
  {
   "cell_type": "code",
   "execution_count": 9,
   "id": "threaded-minister",
   "metadata": {
    "papermill": {},
    "tags": []
   },
   "outputs": [],
   "source": [
    "df_trend.to_csv(csv_output, index=False)\n",
    "fig.write_html(html_output)\n",
    "fig.write_image(image_output)"
   ]
  },
  {
   "cell_type": "markdown",
   "id": "0bbe4f5f-0962-4f32-b2b9-ddd9f2183093",
   "metadata": {
    "papermill": {},
    "tags": []
   },
   "source": [
    "### Save and share CSV with naas"
   ]
  },
  {
   "cell_type": "code",
   "execution_count": 10,
   "id": "fa3fec29-f8f8-450b-a273-5f388275aa73",
   "metadata": {
    "papermill": {},
    "tags": []
   },
   "outputs": [],
   "source": [
    "naas.asset.add(csv_output)\n",
    "\n",
    "# -> to remove your outputs, uncomment the lines and execute the cell\n",
    "# naas.asset.delete(csv_output)"
   ]
  },
  {
   "cell_type": "markdown",
   "id": "bd5d372c-9130-47ca-a3fc-81ffd91d27ef",
   "metadata": {
    "papermill": {},
    "tags": []
   },
   "source": [
    "### Save and share HTML with naas"
   ]
  },
  {
   "cell_type": "code",
   "execution_count": 11,
   "id": "a995ab0f-eb82-4dc2-8741-c397255702b3",
   "metadata": {
    "papermill": {},
    "tags": []
   },
   "outputs": [],
   "source": [
    "naas.asset.add(html_output, params={\"inline\": True})\n",
    "\n",
    "# -> to remove your outputs, uncomment the lines and execute the cell\n",
    "# naas.asset.delete(html_output)"
   ]
  },
  {
   "cell_type": "markdown",
   "id": "17ad675c-0ac6-4e06-9000-3d714f446376",
   "metadata": {
    "papermill": {},
    "tags": []
   },
   "source": [
    "### Save and share image with naas"
   ]
  },
  {
   "cell_type": "code",
   "execution_count": 12,
   "id": "db156a34-02b4-4887-bb1a-a1458cc2be14",
   "metadata": {
    "papermill": {},
    "tags": []
   },
   "outputs": [],
   "source": [
    "naas.asset.add(image_output, params={\"inline\": True})\n",
    "\n",
    "# -> to remove your outputs, uncomment the lines and execute the cell\n",
    "# naas.asset.delete(image_output)"
   ]
  }
 ],
 "metadata": {
  "kernelspec": {
   "display_name": "Python 3",
   "language": "python",
   "name": "python3"
  },
  "language_info": {
   "codemirror_mode": {
    "name": "ipython",
    "version": 3
   },
   "file_extension": ".py",
   "mimetype": "text/x-python",
   "name": "python",
   "nbconvert_exporter": "python",
   "pygments_lexer": "ipython3",
   "version": "3.9.6"
  },
  "naas": {
   "notebook_id": "f16e388f3fc8807c45263b666b7844f2b411a774e745b508c92314292953a44a",
   "notebook_path": "LinkedIn/LinkedIn_Follow_company_followers.ipynb"
  },
  "papermill": {
   "default_parameters": {},
   "environment_variables": {},
   "parameters": {},
   "version": "2.3.3"
  },
  "widgets": {
   "application/vnd.jupyter.widget-state+json": {
    "state": {},
    "version_major": 2,
    "version_minor": 0
   }
  }
 },
 "nbformat": 4,
 "nbformat_minor": 5
}