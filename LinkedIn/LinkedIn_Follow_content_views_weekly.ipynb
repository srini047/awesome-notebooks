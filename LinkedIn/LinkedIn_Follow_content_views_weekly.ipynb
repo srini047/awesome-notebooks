{
 "cells": [
  {
   "cell_type": "markdown",
   "id": "e46cda1e",
   "metadata": {
    "papermill": {},
    "tags": []
   },
   "source": [
    "<img width=\"10%\" alt=\"Naas\" src=\"https://landen.imgix.net/jtci2pxwjczr/assets/5ice39g4.png?w=160\"/>\n"
   ]
  },
  {
   "cell_type": "markdown",
   "id": "b0d4ced6",
   "metadata": {
    "papermill": {},
    "tags": []
   },
   "source": [
    "# LinkedIn - Follow content views weekly\n",
    "<a href=\"https://app.naas.ai/user-redirect/naas/downloader?url=https://raw.githubusercontent.com/jupyter-naas/awesome-notebooks/master/LinkedIn/LinkedIn_Follow_content_views_weekly.ipynb\" target=\"_parent\"><img src=\"https://naasai-public.s3.eu-west-3.amazonaws.com/open_in_naas.svg\"/></a><br><br><a href=\"https://github.com/jupyter-naas/awesome-notebooks/issues/new?assignees=&labels=&template=template-request.md&title=Tool+-+Action+of+the+notebook+\">Template request</a> | <a href=\"https://github.com/jupyter-naas/awesome-notebooks/issues/new?assignees=&labels=bug&template=bug_report.md&title=LinkedIn+-+Follow+content+views+weekly:+Error+short+description\">Bug report</a>"
   ]
  },
  {
   "cell_type": "markdown",
   "id": "06cb7cb7",
   "metadata": {
    "papermill": {},
    "tags": []
   },
   "source": [
    "**Tags:** #linkedin #html #plotly #csv #image #content #analytics #dependency"
   ]
  },
  {
   "cell_type": "markdown",
   "id": "c64eee3c",
   "metadata": {
    "papermill": {},
    "tags": []
   },
   "source": [
    "**Author:** [Florent Ravenel](https://www.linkedin.com/in/florent-ravenel/)"
   ]
  },
  {
   "cell_type": "markdown",
   "id": "naas-description",
   "metadata": {
    "papermill": {},
    "tags": [
     "description"
    ]
   },
   "source": [
    "**Description:** This notebook allows you to track and analyze your weekly content views on LinkedIn."
   ]
  },
  {
   "cell_type": "markdown",
   "id": "c88305ee-e069-4588-a412-1e6d04ca7a89",
   "metadata": {
    "papermill": {},
    "tags": []
   },
   "source": [
    "<div class=\"alert alert-info\" role=\"info\" style=\"margin: 10px\">\n",
    "<b>Requirements:</b><br>\n",
    "To run this notebook, you must have already run <b>LinkedIn_Get_profile_posts_stats.ipynb</b> or <b>LinkedIn_Get_company_posts_stats.ipynb</b> to get your post stats in CSV.<br>\n",
    "</div>"
   ]
  },
  {
   "cell_type": "markdown",
   "id": "f65cd676",
   "metadata": {
    "papermill": {},
    "tags": []
   },
   "source": [
    "## Input"
   ]
  },
  {
   "cell_type": "markdown",
   "id": "428474ab",
   "metadata": {
    "papermill": {},
    "tags": []
   },
   "source": [
    "### Import libraries"
   ]
  },
  {
   "cell_type": "code",
   "execution_count": 1,
   "id": "6214ae90",
   "metadata": {
    "execution": {
     "iopub.execute_input": "2022-06-30T15:04:46.705768Z",
     "iopub.status.busy": "2022-06-30T15:04:46.705479Z",
     "iopub.status.idle": "2022-06-30T15:04:48.549287Z",
     "shell.execute_reply": "2022-06-30T15:04:48.548648Z",
     "shell.execute_reply.started": "2022-06-30T15:04:46.705703Z"
    },
    "papermill": {},
    "tags": []
   },
   "outputs": [],
   "source": [
    "import naas\n",
    "import pandas as pd\n",
    "from datetime import datetime\n",
    "import plotly.graph_objects as go"
   ]
  },
  {
   "cell_type": "markdown",
   "id": "5ed1bed1",
   "metadata": {
    "papermill": {},
    "tags": []
   },
   "source": [
    "### Setup Variables"
   ]
  },
  {
   "cell_type": "code",
   "execution_count": 2,
   "id": "190b8d21",
   "metadata": {
    "execution": {
     "iopub.execute_input": "2022-06-30T15:04:48.552011Z",
     "iopub.status.busy": "2022-06-30T15:04:48.551826Z",
     "iopub.status.idle": "2022-06-30T15:04:48.556364Z",
     "shell.execute_reply": "2022-06-30T15:04:48.555796Z",
     "shell.execute_reply.started": "2022-06-30T15:04:48.551991Z"
    },
    "papermill": {},
    "tags": []
   },
   "outputs": [],
   "source": [
    "# Input\n",
    "csv_input = f\"LINKEDIN_PROFILE_POSTS.csv\"  # CSV path with your posts stats generated with 'LinkedIn_Get_profile_posts_stats.ipynb' or 'LinkedIn_Get_company_posts_stats.ipynb'\n",
    "TITLE = \"Views\"  # Chart title\n",
    "COL_VALUE = \"VIEWS\"  # Column to sum\n",
    "\n",
    "# Outputs\n",
    "name_output = \"LINKEDIN_FOLLOW_CONTENT_VIEWS_WEEKLY\"\n",
    "csv_output = f\"{name_output}.csv\"\n",
    "html_output = f\"{name_output}.html\"\n",
    "image_output = f\"{name_output}.png\""
   ]
  },
  {
   "cell_type": "markdown",
   "id": "74aeeadb",
   "metadata": {
    "papermill": {},
    "tags": []
   },
   "source": [
    "### Setup Naas dependency"
   ]
  },
  {
   "cell_type": "code",
   "execution_count": null,
   "id": "c881a0cf",
   "metadata": {
    "papermill": {},
    "tags": []
   },
   "outputs": [],
   "source": [
    "naas.dependency.add()\n",
    "\n",
    "# -> Uncomment the line below to remove your dependency\n",
    "# naas.dependency.delete()"
   ]
  },
  {
   "cell_type": "markdown",
   "id": "b3566c94",
   "metadata": {
    "papermill": {},
    "tags": []
   },
   "source": [
    "## Model"
   ]
  },
  {
   "cell_type": "markdown",
   "id": "ba2000df",
   "metadata": {
    "papermill": {},
    "tags": []
   },
   "source": [
    "### Get your posts\n",
    "Get posts feed from CSV stored in your local (Returns empty if CSV does not exist)"
   ]
  },
  {
   "cell_type": "code",
   "execution_count": 4,
   "id": "13a489d5",
   "metadata": {
    "execution": {
     "iopub.execute_input": "2022-06-30T15:06:24.714539Z",
     "iopub.status.busy": "2022-06-30T15:06:24.714302Z",
     "iopub.status.idle": "2022-06-30T15:06:24.752420Z",
     "shell.execute_reply": "2022-06-30T15:06:24.751669Z",
     "shell.execute_reply.started": "2022-06-30T15:06:24.714515Z"
    },
    "papermill": {},
    "tags": []
   },
   "outputs": [],
   "source": [
    "def read_csv(file_path):\n",
    "    try:\n",
    "        df = pd.read_csv(file_path)\n",
    "    except FileNotFoundError as e:\n",
    "        # Empty dataframe returned\n",
    "        return pd.DataFrame()\n",
    "    return df\n",
    "\n",
    "\n",
    "df_posts = read_csv(csv_input)\n",
    "print(\"✅ Posts fetched:\", len(df_posts))\n",
    "df_posts.head(1)"
   ]
  },
  {
   "cell_type": "markdown",
   "id": "7456a048",
   "metadata": {
    "papermill": {},
    "tags": []
   },
   "source": [
    "### Create trend dataframe"
   ]
  },
  {
   "cell_type": "code",
   "execution_count": 8,
   "id": "22b41e65",
   "metadata": {
    "execution": {
     "iopub.execute_input": "2022-06-30T15:10:12.008316Z",
     "iopub.status.busy": "2022-06-30T15:10:12.007996Z",
     "iopub.status.idle": "2022-06-30T15:10:12.344081Z",
     "shell.execute_reply": "2022-06-30T15:10:12.343489Z",
     "shell.execute_reply.started": "2022-06-30T15:10:12.008281Z"
    },
    "papermill": {},
    "tags": []
   },
   "outputs": [],
   "source": [
    "DATE_FORMAT = \"%Y-%m-%d\"\n",
    "PERIOD = \"%Y%U\"\n",
    "PERIOD_D = \"%Y-W%U\"\n",
    "PERIOD_TEXT = \"This week\"\n",
    "\n",
    "\n",
    "def get_trend(df_init, col_date, col_value, agg_value, period_rolling=12):\n",
    "    # Init variable\n",
    "    df = df_init.copy()\n",
    "\n",
    "    # Groupby period\n",
    "    if isinstance(col_value, list):\n",
    "        df[\"VALUE\"] = 0\n",
    "        for c in col_value:\n",
    "            df[c] = df[c].astype(float)\n",
    "            df[\"VALUE\"] = df[\"VALUE\"] + df[c]\n",
    "        col_value = \"VALUE\"\n",
    "    elif agg_value == \"sum\":\n",
    "        df[col_value] = df[col_value].astype(float)\n",
    "    df[col_date] = pd.to_datetime(df[col_date].str[:-6]).dt.strftime(DATE_FORMAT)\n",
    "    df = df.groupby(col_date, as_index=False).agg({col_value: agg_value})\n",
    "\n",
    "    # Rename column\n",
    "    to_rename = {col_date: \"DATE_ISO\", col_value: \"VALUE\"}\n",
    "    df = df.rename(columns=to_rename)\n",
    "\n",
    "    # Reindex value\n",
    "    d = datetime.now().date()\n",
    "    d2 = df.loc[df.index[0], \"DATE_ISO\"]\n",
    "    idx = pd.date_range(d2, d, freq=\"D\")\n",
    "    df.set_index(\"DATE_ISO\", drop=True, inplace=True)\n",
    "    df.index = pd.DatetimeIndex(df.index)\n",
    "    df = df.reindex(idx, fill_value=0)\n",
    "    df[\"DATE_ISO\"] = pd.DatetimeIndex(df.index)\n",
    "\n",
    "    # Groupby month\n",
    "    df[\"DATE\"] = pd.to_datetime(df[\"DATE_ISO\"], format=DATE_FORMAT).dt.strftime(PERIOD)\n",
    "    # Plotly: Date display\n",
    "    df[\"DATE_D\"] = pd.to_datetime(df[\"DATE_ISO\"], format=DATE_FORMAT).dt.strftime(\n",
    "        PERIOD_D\n",
    "    )\n",
    "    df = df.groupby([\"DATE\", \"DATE_D\"], as_index=False).agg({\"VALUE\": agg_value})\n",
    "\n",
    "    # Calc variation\n",
    "    for index, row in df.iterrows():\n",
    "        if index > 0:\n",
    "            n = df.loc[df.index[index], \"VALUE\"]\n",
    "            n_1 = df.loc[df.index[index - 1], \"VALUE\"]\n",
    "            df.loc[df.index[index], \"VALUE_COMP\"] = n_1\n",
    "            df.loc[df.index[index], \"VARV\"] = n - n_1\n",
    "            if n_1 > 0:\n",
    "                df.loc[df.index[index], \"VARP\"] = (n - n_1) / abs(n_1)\n",
    "    df = df.fillna(0)\n",
    "\n",
    "    # Plotly: Value display\n",
    "    df[\"VALUE_D\"] = (\n",
    "        \"<b><span style='font-family: Arial;'>\"\n",
    "        + df[\"VALUE\"].map(\"{:,.0f}\".format).str.replace(\",\", \" \")\n",
    "        + \"</span></b>\"\n",
    "    )\n",
    "\n",
    "    # Plotly: Variation display\n",
    "    df[\"VARV_D\"] = df[\"VARV\"].map(\"{:,.0f}\".format).str.replace(\",\", \" \")\n",
    "    df.loc[df[\"VARV\"] >= 0, \"VARV_D\"] = \"+\" + df[\"VARV_D\"]\n",
    "    df[\"VARP_D\"] = df[\"VARP\"].map(\"{:,.0%}\".format).str.replace(\",\", \" \")\n",
    "    df.loc[df[\"VARP\"] >= 0, \"VARP_D\"] = \"+\" + df[\"VARP_D\"]\n",
    "\n",
    "    # Plotly: hovertext\n",
    "    df[\"TEXT\"] = (\n",
    "        \"<b><span style='font-size: 14px;'>\"\n",
    "        + df[\"DATE_D\"].astype(str)\n",
    "        + \": \"\n",
    "        + df[\"VALUE_D\"]\n",
    "        + \"</span></b><br>\"\n",
    "        \"<span style='font-size: 12px;'>\"\n",
    "        + f\"{PERIOD_TEXT}: \"\n",
    "        + df[\"VARV_D\"]\n",
    "        + \" (\"\n",
    "        + df[\"VARP_D\"]\n",
    "        + \")</span>\"\n",
    "    )\n",
    "\n",
    "    # Return month rolling\n",
    "    return df[-period_rolling:].reset_index(drop=True)\n",
    "\n",
    "\n",
    "df_trend = get_trend(\n",
    "    df_posts, col_date=\"PUBLISHED_DATE\", col_value=COL_VALUE, agg_value=\"sum\"\n",
    ")\n",
    "df_trend"
   ]
  },
  {
   "cell_type": "markdown",
   "id": "c8083216",
   "metadata": {
    "papermill": {},
    "tags": []
   },
   "source": [
    "## Output"
   ]
  },
  {
   "cell_type": "markdown",
   "id": "a474cc49",
   "metadata": {
    "papermill": {},
    "tags": []
   },
   "source": [
    "### Display linechart"
   ]
  },
  {
   "cell_type": "code",
   "execution_count": 9,
   "id": "1e553642",
   "metadata": {
    "execution": {
     "iopub.execute_input": "2022-06-30T15:10:15.810816Z",
     "iopub.status.busy": "2022-06-30T15:10:15.810578Z",
     "iopub.status.idle": "2022-06-30T15:10:15.848652Z",
     "shell.execute_reply": "2022-06-30T15:10:15.847943Z",
     "shell.execute_reply.started": "2022-06-30T15:10:15.810792Z"
    },
    "papermill": {},
    "tags": []
   },
   "outputs": [],
   "source": [
    "LOGO = \"https://upload.wikimedia.org/wikipedia/commons/thumb/c/ca/LinkedIn_logo_initials.png/800px-LinkedIn_logo_initials.png\"  # Chart logo\n",
    "COLOR = \"#1293d2\"  # Chart primary color\n",
    "\n",
    "\n",
    "def create_barchart(df, label=\"DATE_D\", value=\"VALUE\", value_d=\"VALUE_D\", text=\"TEXT\"):\n",
    "    # Init\n",
    "    fig = go.Figure()\n",
    "\n",
    "    # Create fig\n",
    "    fig.add_trace(\n",
    "        go.Bar(\n",
    "            x=df[label],\n",
    "            y=df[value],\n",
    "            text=df[value_d],\n",
    "            textposition=\"outside\",\n",
    "            hoverinfo=\"text\",\n",
    "            hovertext=df[text],\n",
    "            marker=dict(color=COLOR),\n",
    "        )\n",
    "    )\n",
    "    # Add logo\n",
    "    fig.add_layout_image(\n",
    "        dict(\n",
    "            source=LOGO,\n",
    "            xref=\"paper\",\n",
    "            yref=\"paper\",\n",
    "            x=0.01,\n",
    "            y=1.045,\n",
    "            sizex=0.12,\n",
    "            sizey=0.12,\n",
    "            xanchor=\"right\",\n",
    "            yanchor=\"bottom\",\n",
    "        )\n",
    "    )\n",
    "    fig.update_traces(showlegend=False)\n",
    "    # Plotly: Create title\n",
    "    total_value = \"{:,.0f}\".format(df[value].sum()).replace(\",\", \" \")\n",
    "    varv = df.loc[df.index[-1], \"VARV\"]\n",
    "    varp = df.loc[df.index[-1], \"VARP\"]\n",
    "    varv_d = \"{:,.0f}\".format(varv).replace(\",\", \" \")\n",
    "    varp_d = \"{:,.0%}\".format(varp).replace(\",\", \" \")\n",
    "    if varv >= 0:\n",
    "        varv_d = f\"+{varv_d}\"\n",
    "        varp_d = f\"+{varp_d}\"\n",
    "    title = f\"<b><span style='font-size: 20px;'>{TITLE}</span></b><br><span style='font-size: 18px;'>Total: {total_value} | {PERIOD_TEXT}: {varv_d} ({varp_d})</span>\"\n",
    "    fig.update_layout(\n",
    "        title=title,\n",
    "        title_x=0.09,\n",
    "        title_font=dict(family=\"Arial\", color=\"black\"),\n",
    "        paper_bgcolor=\"#ffffff\",\n",
    "        plot_bgcolor=\"#ffffff\",\n",
    "        width=1200,\n",
    "        height=600,\n",
    "        margin_pad=10,\n",
    "    )\n",
    "    fig.show()\n",
    "    return fig\n",
    "\n",
    "\n",
    "fig = create_barchart(df_trend)"
   ]
  },
  {
   "cell_type": "markdown",
   "id": "541e16a0",
   "metadata": {
    "papermill": {},
    "tags": []
   },
   "source": [
    "### Save and share your csv file"
   ]
  },
  {
   "cell_type": "code",
   "execution_count": null,
   "id": "61cc88bf",
   "metadata": {
    "papermill": {},
    "tags": []
   },
   "outputs": [],
   "source": [
    "# Save your dataframe in CSV\n",
    "df_trend.to_csv(csv_output, index=False)\n",
    "\n",
    "# Share output with naas\n",
    "naas.asset.add(csv_output)\n",
    "\n",
    "# -> Uncomment the line below to remove your asset\n",
    "# naas.asset.delete(csv_output)"
   ]
  },
  {
   "cell_type": "markdown",
   "id": "d28cd477",
   "metadata": {
    "papermill": {},
    "tags": []
   },
   "source": [
    "### Save and share your graph in HTML\n"
   ]
  },
  {
   "cell_type": "code",
   "execution_count": null,
   "id": "3421d37f",
   "metadata": {
    "papermill": {},
    "tags": []
   },
   "outputs": [],
   "source": [
    "# Save your graph in HTML\n",
    "fig.write_html(html_output)\n",
    "\n",
    "# Share output with naas\n",
    "naas.asset.add(html_output, params={\"inline\": True})\n",
    "\n",
    "# -> Uncomment the line below to remove your asset\n",
    "# naas.asset.delete(html_output)"
   ]
  },
  {
   "cell_type": "markdown",
   "id": "91a987c6",
   "metadata": {
    "papermill": {},
    "tags": []
   },
   "source": [
    "### Save and share your graph in image\n"
   ]
  },
  {
   "cell_type": "code",
   "execution_count": null,
   "id": "8342abf9",
   "metadata": {
    "papermill": {},
    "tags": []
   },
   "outputs": [],
   "source": [
    "# Save your graph in PNG\n",
    "fig.write_image(image_output)\n",
    "\n",
    "# Share output with naas\n",
    "naas.asset.add(image_output)\n",
    "\n",
    "# -> Uncomment the line below to remove your asset\n",
    "# naas.asset.delete(image_output)"
   ]
  }
 ],
 "metadata": {
  "kernelspec": {
   "display_name": "Python 3",
   "language": "python",
   "name": "python3"
  },
  "language_info": {
   "codemirror_mode": {
    "name": "ipython",
    "version": 3
   },
   "file_extension": ".py",
   "mimetype": "text/x-python",
   "name": "python",
   "nbconvert_exporter": "python",
   "pygments_lexer": "ipython3",
   "version": "3.9.6"
  },
  "papermill": {
   "default_parameters": {},
   "environment_variables": {},
   "parameters": {},
   "version": "2.3.4"
  }
 },
 "nbformat": 4,
 "nbformat_minor": 5
}