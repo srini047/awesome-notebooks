{
 "cells": [
  {
   "cell_type": "markdown",
   "id": "recreational-precipitation",
   "metadata": {
    "execution": {
     "iopub.execute_input": "2021-01-25T08:00:35.294800Z",
     "iopub.status.busy": "2021-01-25T08:00:35.294557Z",
     "iopub.status.idle": "2021-01-25T08:00:35.307281Z",
     "shell.execute_reply": "2021-01-25T08:00:35.306468Z",
     "shell.execute_reply.started": "2021-01-25T08:00:35.294775Z"
    },
    "papermill": {},
    "tags": []
   },
   "source": [
    "<img width=\"10%\" alt=\"Naas\" src=\"https://landen.imgix.net/jtci2pxwjczr/assets/5ice39g4.png?w=160\"/>"
   ]
  },
  {
   "cell_type": "markdown",
   "id": "anticipated-teach",
   "metadata": {
    "papermill": {},
    "tags": []
   },
   "source": [
    "# LinkedIn - Get resume from profile\n",
    "<a href=\"https://app.naas.ai/user-redirect/naas/downloader?url=https://raw.githubusercontent.com/jupyter-naas/awesome-notebooks/master/LinkedIn/LinkedIn_Get_resume_from_profile.ipynb\" target=\"_parent\"><img src=\"https://naasai-public.s3.eu-west-3.amazonaws.com/open_in_naas.svg\"/></a><br><br><a href=\"https://github.com/jupyter-naas/awesome-notebooks/issues/new?assignees=&labels=&template=template-request.md&title=Tool+-+Action+of+the+notebook+\">Template request</a> | <a href=\"https://github.com/jupyter-naas/awesome-notebooks/issues/new?assignees=&labels=bug&template=bug_report.md&title=LinkedIn+-+Get+resume+from+profile:+Error+short+description\">Bug report</a>"
   ]
  },
  {
   "cell_type": "markdown",
   "id": "6f9a2cbe-a573-488b-88aa-c505a38b3ef5",
   "metadata": {
    "papermill": {},
    "tags": []
   },
   "source": [
    "**Tags:** #linkedin #profile #resume #naas_drivers #content #snippet #dataframe"
   ]
  },
  {
   "cell_type": "markdown",
   "id": "22dbfea6-e1b5-4ed3-bc81-71d4f44ef0aa",
   "metadata": {
    "papermill": {},
    "tags": []
   },
   "source": [
    "**Author:** [Florent Ravenel](https://www.linkedin.com/in/florent-ravenel/)"
   ]
  },
  {
   "cell_type": "markdown",
   "id": "naas-description",
   "metadata": {
    "papermill": {},
    "tags": [
     "description"
    ]
   },
   "source": [
    "**Description:** This notebook allows users to extract resumes from LinkedIn profiles."
   ]
  },
  {
   "cell_type": "markdown",
   "id": "attractive-bandwidth",
   "metadata": {
    "papermill": {},
    "tags": []
   },
   "source": [
    "## Input"
   ]
  },
  {
   "cell_type": "markdown",
   "id": "import_cell",
   "metadata": {
    "papermill": {},
    "tags": []
   },
   "source": [
    "### Import library"
   ]
  },
  {
   "cell_type": "code",
   "execution_count": null,
   "id": "dangerous-christianity",
   "metadata": {
    "papermill": {},
    "tags": []
   },
   "outputs": [],
   "source": [
    "from naas_drivers import linkedin"
   ]
  },
  {
   "cell_type": "markdown",
   "id": "quiet-founder",
   "metadata": {
    "papermill": {},
    "tags": []
   },
   "source": [
    "### Get your cookies\n",
    "<a href='https://www.notion.so/LinkedIn-driver-Get-your-cookies-d20a8e7e508e42af8a5b52e33f3dba75'>How to get your cookies ?</a>"
   ]
  },
  {
   "cell_type": "code",
   "execution_count": null,
   "id": "classical-necklace",
   "metadata": {
    "papermill": {},
    "tags": []
   },
   "outputs": [],
   "source": [
    "LI_AT = \"YOUR_COOKIE_LI_AT\"  # EXAMPLE AQFAzQN_PLPR4wAAAXc-FCKmgiMit5FLdY1af3-2\n",
    "JSESSIONID = \"YOUR_COOKIE_JSESSIONID\"  # EXAMPLE ajax:8379907400220387585"
   ]
  },
  {
   "cell_type": "markdown",
   "id": "ambient-shanghai",
   "metadata": {
    "papermill": {},
    "tags": []
   },
   "source": [
    "### Enter profile URL"
   ]
  },
  {
   "cell_type": "code",
   "execution_count": null,
   "id": "consolidated-haiti",
   "metadata": {
    "papermill": {},
    "tags": []
   },
   "outputs": [],
   "source": [
    "PROFILE_URL = \"PROFILE_URL\""
   ]
  },
  {
   "cell_type": "markdown",
   "id": "polished-prior",
   "metadata": {
    "papermill": {},
    "tags": []
   },
   "source": [
    "## Model"
   ]
  },
  {
   "cell_type": "markdown",
   "id": "innovative-language",
   "metadata": {
    "execution": {
     "iopub.execute_input": "2021-05-15T10:12:55.887028Z",
     "iopub.status.busy": "2021-05-15T10:12:55.886761Z",
     "iopub.status.idle": "2021-05-15T10:12:55.899441Z",
     "shell.execute_reply": "2021-05-15T10:12:55.898476Z",
     "shell.execute_reply.started": "2021-05-15T10:12:55.886964Z"
    },
    "papermill": {},
    "tags": []
   },
   "source": [
    "Get the information return in a dataframe.<br><br>\n",
    "**Available columns :**\n",
    "- PROFILE_ID\n",
    "- PROFILE_URL\n",
    "- FULL_NAME\n",
    "- CATEGORY\n",
    "- TITLE\n",
    "- DATE_START\n",
    "- DATE_END\n",
    "- PLACE_ID\n",
    "- PLACE\n",
    "- FIELD\n",
    "- LOCATION\n",
    "- DESCRIPTION"
   ]
  },
  {
   "cell_type": "code",
   "execution_count": null,
   "id": "miniature-manitoba",
   "metadata": {
    "papermill": {},
    "tags": []
   },
   "outputs": [],
   "source": [
    "df = linkedin.connect(LI_AT, JSESSIONID).profile.get_resume(PROFILE_URL)"
   ]
  },
  {
   "cell_type": "markdown",
   "id": "comic-sucking",
   "metadata": {
    "papermill": {},
    "tags": []
   },
   "source": [
    "## Output"
   ]
  },
  {
   "cell_type": "markdown",
   "id": "killing-trust",
   "metadata": {
    "papermill": {},
    "tags": []
   },
   "source": [
    "### Display result"
   ]
  },
  {
   "cell_type": "code",
   "execution_count": null,
   "id": "urban-agency",
   "metadata": {
    "papermill": {},
    "tags": []
   },
   "outputs": [],
   "source": [
    "df"
   ]
  }
 ],
 "metadata": {
  "kernelspec": {
   "display_name": "Python 3",
   "language": "python",
   "name": "python3"
  },
  "language_info": {
   "codemirror_mode": {
    "name": "ipython",
    "version": 3
   },
   "file_extension": ".py",
   "mimetype": "text/x-python",
   "name": "python",
   "nbconvert_exporter": "python",
   "pygments_lexer": "ipython3",
   "version": "3.9.6"
  },
  "naas": {
   "notebook_id": "047604be-ec28-4d12-9de2-08745fb9f5be",
   "notebook_path": "LinkedIn/LinkedIn_Get_resume_from_profile.ipynb"
  },
  "papermill": {
   "default_parameters": {},
   "environment_variables": {},
   "parameters": {},
   "version": "2.3.3"
  },
  "widgets": {
   "application/vnd.jupyter.widget-state+json": {
    "state": {},
    "version_major": 2,
    "version_minor": 0
   }
  }
 },
 "nbformat": 4,
 "nbformat_minor": 5
}