{
 "cells": [
  {
   "cell_type": "markdown",
   "id": "international-creativity",
   "metadata": {
    "papermill": {},
    "tags": []
   },
   "source": [
    "<img width=\"10%\" alt=\"Naas\" src=\"https://landen.imgix.net/jtci2pxwjczr/assets/5ice39g4.png?w=160\"/>"
   ]
  },
  {
   "cell_type": "markdown",
   "id": "unlimited-bookmark",
   "metadata": {
    "papermill": {},
    "tags": []
   },
   "source": [
    "# LinkedIn - Send followers demographic data to a Google Sheets spreadsheet\n",
    "<a href=\"https://app.naas.ai/user-redirect/naas/downloader?url=https://raw.githubusercontent.com/jupyter-naas/awesome-notebooks/master/LinkedIn/LinkedIn_Send_followers_demographic_data_to_a_Google_Sheets_spreadsheet.ipynb\" target=\"_parent\"><img src=\"https://naasai-public.s3.eu-west-3.amazonaws.com/open_in_naas.svg\"/></a><br><br><a href=\"https://github.com/jupyter-naas/awesome-notebooks/issues/new?assignees=&labels=&template=template-request.md&title=Tool+-+Action+of+the+notebook+\">Template request</a> | <a href=\"https://github.com/jupyter-naas/awesome-notebooks/issues/new?assignees=&labels=bug&template=bug_report.md&title=LinkedIn+-+Send+followers+demographic+data+to+a+Google+Sheets+spreadsheet:+Error+short+description\">Bug report</a>"
   ]
  },
  {
   "cell_type": "markdown",
   "id": "tags_cell",
   "metadata": {
    "papermill": {},
    "tags": []
   },
   "source": [
    "**Tags:** \"linkedin #googlesheets #gsheet #data #naas_drivers #demographics #content #snippet"
   ]
  },
  {
   "cell_type": "markdown",
   "id": "0da63c91-d40d-461f-9710-7c4748f19489",
   "metadata": {
    "papermill": {},
    "tags": []
   },
   "source": [
    "**Author:** [Asif Syed](https://www.linkedin.com/in/asifsyd/)"
   ]
  },
  {
   "cell_type": "markdown",
   "id": "naas-description",
   "metadata": {
    "papermill": {},
    "tags": [
     "description"
    ]
   },
   "source": [
    "**Description:** This notebook allows users to easily export demographic data about their LinkedIn followers to a Google Sheets spreadsheet."
   ]
  },
  {
   "cell_type": "markdown",
   "id": "input_cell",
   "metadata": {
    "papermill": {},
    "tags": []
   },
   "source": [
    "## Input"
   ]
  },
  {
   "cell_type": "markdown",
   "id": "55d9e878-2148-47e3-a13d-09ba77202893",
   "metadata": {
    "papermill": {},
    "tags": []
   },
   "source": [
    "### Import library"
   ]
  },
  {
   "cell_type": "code",
   "execution_count": null,
   "id": "5fad521a-4a18-4dc7-b13d-98a37172715b",
   "metadata": {
    "papermill": {},
    "tags": []
   },
   "outputs": [],
   "source": [
    "from naas_drivers import gsheet\n",
    "from naas_drivers import linkedin\n",
    "import pandas as pd\n",
    "import numpy as np\n",
    "import naas"
   ]
  },
  {
   "cell_type": "markdown",
   "id": "b1adb3ae-b8a1-45eb-af12-cd8a556be98d",
   "metadata": {
    "papermill": {},
    "tags": []
   },
   "source": [
    "### Setup LinkedIn\n",
    "<a href='https://www.notion.so/LinkedIn-driver-Get-your-cookies-d20a8e7e508e42af8a5b52e33f3dba75'>How to get your cookies ?</a>"
   ]
  },
  {
   "cell_type": "code",
   "execution_count": null,
   "id": "396c1b32-0d53-4c16-8c8a-2dccad1989ae",
   "metadata": {
    "papermill": {},
    "tags": []
   },
   "outputs": [],
   "source": [
    "# LinkedIn cookies\n",
    "LI_AT = (\n",
    "    naas.secret.get(\"LI_AT\") or \"ENTER_YOUR_COOKIE_HERE\"\n",
    ")  # EXAMPLE : \"AQFAzQN_PLPR4wAAAXc-FCKmgiMit5FLdY1af3-2\"\n",
    "JSESSIONID = (\n",
    "    naas.secret.get(\"JSESSIONID\") or \"ENTER_YOUR_JSESSIONID_HERE\"\n",
    ")  # EXAMPLE : \"ajax:8379907400220387585\""
   ]
  },
  {
   "cell_type": "markdown",
   "id": "81303223-fdb5-4d2d-ad70-251351a2c1b2",
   "metadata": {
    "papermill": {},
    "tags": []
   },
   "source": [
    "### Setup Google Sheets\n",
    "Share your spreadsheet with 🔗 naas-share@naas-gsheets.iam.gserviceaccount.com"
   ]
  },
  {
   "cell_type": "code",
   "execution_count": null,
   "id": "7c34bff6-9136-4aaf-a692-b38129b7de83",
   "metadata": {
    "papermill": {},
    "tags": []
   },
   "outputs": [],
   "source": [
    "SPREADSHEET_URL = \"ENTER_YOUR_SPREADSHEET_URL_HERE\"\n",
    "SHEET_NAME = \"ENTER_YOUR_SHEET_NAME_HERE\""
   ]
  },
  {
   "cell_type": "markdown",
   "id": "model_cell",
   "metadata": {
    "papermill": {},
    "tags": []
   },
   "source": [
    "## Model"
   ]
  },
  {
   "cell_type": "markdown",
   "id": "832d8609-0995-43c5-8cc0-0e2041f26f1d",
   "metadata": {
    "papermill": {},
    "tags": []
   },
   "source": [
    "### Connect to LinkedIn"
   ]
  },
  {
   "cell_type": "code",
   "execution_count": null,
   "id": "2e9b9c63-5db8-405f-8b94-56171333e6e0",
   "metadata": {
    "papermill": {},
    "tags": []
   },
   "outputs": [],
   "source": [
    "linkedin.connect(LI_AT, JSESSIONID)"
   ]
  },
  {
   "cell_type": "markdown",
   "id": "9571c07f-dc9d-425c-9765-88f9a8ab3dd2",
   "metadata": {
    "papermill": {},
    "tags": []
   },
   "source": [
    "### Connect to gsheet"
   ]
  },
  {
   "cell_type": "code",
   "execution_count": null,
   "id": "d8dd0ebb-447e-436d-a282-9f4dae3caa1b",
   "metadata": {
    "papermill": {},
    "tags": []
   },
   "outputs": [],
   "source": [
    "gsheet.connect(SPREADSHEET_URL)"
   ]
  },
  {
   "cell_type": "markdown",
   "id": "493f8a59-7988-459b-b4fc-258766eeeb69",
   "metadata": {
    "papermill": {},
    "tags": []
   },
   "source": [
    "### Get the profiles of last 'n' followers (n is the value assigned to limit parameter below)"
   ]
  },
  {
   "cell_type": "markdown",
   "id": "7523f669-8d05-46f3-ae07-024807797aaf",
   "metadata": {
    "papermill": {},
    "tags": []
   },
   "source": [
    "The 'start' parameter below specifies the number of initial rows to be skipped. \n",
    "\n",
    "These initial rows refer to the most recent profiles, hence it is by default maintained as 0, but it could be customized as per the need. "
   ]
  },
  {
   "cell_type": "code",
   "execution_count": null,
   "id": "40fb881f-db27-4063-877c-c0d295fa12b4",
   "metadata": {
    "papermill": {},
    "tags": []
   },
   "outputs": [],
   "source": [
    "df = linkedin.network.get_followers(start=0, limit=1)\n",
    "profiles = df[\"PROFILE_URL\"]"
   ]
  },
  {
   "cell_type": "markdown",
   "id": "7ae62f1a-427f-479c-9224-1f6ece22b187",
   "metadata": {
    "papermill": {},
    "tags": []
   },
   "source": [
    "### Get Industry name and country details for each profile"
   ]
  },
  {
   "cell_type": "code",
   "execution_count": null,
   "id": "3369a60d-7f5b-4fb7-b4fc-939efc68cb89",
   "metadata": {
    "papermill": {},
    "tags": []
   },
   "outputs": [],
   "source": [
    "df_identity = pd.DataFrame()\n",
    "df1 = pd.DataFrame()\n",
    "for counter, profile in enumerate(profiles):\n",
    "    df1 = linkedin.profile.get_identity(profile_url=profile).loc[\n",
    "        :, [\"PROFILE_ID\", \"COUNTRY\", \"INDUSTRY_NAME\"]\n",
    "    ]\n",
    "    df_identity = df_identity.append(df1)"
   ]
  },
  {
   "cell_type": "markdown",
   "id": "9843012f-5c5d-4187-a210-2f25ebcd6f8b",
   "metadata": {
    "papermill": {},
    "tags": []
   },
   "source": [
    "### Get work experience details for each profile"
   ]
  },
  {
   "cell_type": "code",
   "execution_count": null,
   "id": "8f3ec6aa-74d1-406c-b277-479afacb2ff1",
   "metadata": {
    "papermill": {},
    "tags": []
   },
   "outputs": [],
   "source": [
    "df_resume = pd.DataFrame()\n",
    "df1 = pd.DataFrame()\n",
    "for counter, profile in enumerate(profiles):\n",
    "    df1 = linkedin.profile.get_resume(profile_url=profile)\n",
    "    df_resume = df_resume.append(df1)\n",
    "df_resume = df_resume[df_resume[\"CATEGORY\"] == \"Experience\"].loc[\n",
    "    :, [\"PROFILE_ID\", \"TITLE\", \"DATE_START\", \"DATE_END\", \"PLACE\", \"FIELD\"]\n",
    "]"
   ]
  },
  {
   "cell_type": "markdown",
   "id": "89ad86fb-0e4c-4017-9628-5cbc76e25ac7",
   "metadata": {
    "papermill": {},
    "tags": []
   },
   "source": [
    "### Merge two data frames."
   ]
  },
  {
   "cell_type": "code",
   "execution_count": null,
   "id": "ac6c868d-03bc-4cd0-977f-f951a6ea9d1f",
   "metadata": {
    "papermill": {},
    "tags": []
   },
   "outputs": [],
   "source": [
    "df_final = pd.merge(df_identity, df_resume, how=\"inner\", on=\"PROFILE_ID\")\n",
    "df_final"
   ]
  },
  {
   "cell_type": "markdown",
   "id": "output_cell",
   "metadata": {
    "papermill": {},
    "tags": []
   },
   "source": [
    "## Output"
   ]
  },
  {
   "cell_type": "markdown",
   "id": "74f3896b-2eff-4da8-b0cc-81a357c96066",
   "metadata": {
    "papermill": {},
    "tags": []
   },
   "source": [
    "### Send the data"
   ]
  },
  {
   "cell_type": "code",
   "execution_count": null,
   "id": "1870e2f8-132e-4144-9b3e-c9c11a0e573a",
   "metadata": {
    "papermill": {},
    "tags": []
   },
   "outputs": [],
   "source": [
    "gsheet.send(sheet_name=SHEET_NAME, data=df_final)"
   ]
  }
 ],
 "metadata": {
  "kernelspec": {
   "display_name": "Python 3",
   "language": "python",
   "name": "python3"
  },
  "language_info": {
   "codemirror_mode": {
    "name": "ipython",
    "version": 3
   },
   "file_extension": ".py",
   "mimetype": "text/x-python",
   "name": "python",
   "nbconvert_exporter": "python",
   "pygments_lexer": "ipython3",
   "version": "3.9.6"
  },
  "naas": {
   "notebook_id": "b76b3b40-1e87-44f1-a2e4-94115d6a3fb7",
   "notebook_path": "Google Sheets/Google_Sheets_Send_data.ipynb"
  },
  "papermill": {
   "default_parameters": {},
   "environment_variables": {},
   "parameters": {},
   "version": "2.3.3"
  }
 },
 "nbformat": 4,
 "nbformat_minor": 5
}