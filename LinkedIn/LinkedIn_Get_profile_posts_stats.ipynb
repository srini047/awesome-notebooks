{
 "cells": [
  {
   "cell_type": "markdown",
   "id": "recreational-precipitation",
   "metadata": {
    "execution": {
     "iopub.execute_input": "2021-01-25T08:00:35.294800Z",
     "iopub.status.busy": "2021-01-25T08:00:35.294557Z",
     "iopub.status.idle": "2021-01-25T08:00:35.307281Z",
     "shell.execute_reply": "2021-01-25T08:00:35.306468Z",
     "shell.execute_reply.started": "2021-01-25T08:00:35.294775Z"
    },
    "papermill": {},
    "tags": []
   },
   "source": [
    "<img width=\"10%\" alt=\"Naas\" src=\"https://landen.imgix.net/jtci2pxwjczr/assets/5ice39g4.png?w=160\"/>"
   ]
  },
  {
   "cell_type": "markdown",
   "id": "anticipated-teach",
   "metadata": {
    "papermill": {},
    "tags": []
   },
   "source": [
    "# LinkedIn - Get profile posts stats\n",
    "<a href=\"https://app.naas.ai/user-redirect/naas/downloader?url=https://raw.githubusercontent.com/jupyter-naas/awesome-notebooks/master/LinkedIn/LinkedIn_Get_profile_posts_stats.ipynb\" target=\"_parent\"><img src=\"https://naasai-public.s3.eu-west-3.amazonaws.com/Open_in_Naas_Lab.svg\"/></a><br><br><a href=\"https://github.com/jupyter-naas/awesome-notebooks/issues/new?assignees=&labels=&template=template-request.md&title=Tool+-+Action+of+the+notebook+\">Template request</a> | <a href=\"https://github.com/jupyter-naas/awesome-notebooks/issues/new?assignees=&labels=bug&template=bug_report.md&title=LinkedIn+-+Get+profile+posts+stats:+Error+short+description\">Bug report</a> | <a href=\"https://app.naas.ai/user-redirect/naas/downloader?url=https://raw.githubusercontent.com/jupyter-naas/awesome-notebooks/master/Naas/Naas_Start_data_product.ipynb\" target=\"_parent\">Generate Data Product</a>"
   ]
  },
  {
   "cell_type": "markdown",
   "id": "6f9a2cbe-a573-488b-88aa-c505a38b3ef5",
   "metadata": {
    "papermill": {},
    "tags": []
   },
   "source": [
    "**Tags:** #linkedin #profile #post #stats #naas_drivers #content #automation #csv"
   ]
  },
  {
   "cell_type": "markdown",
   "id": "412447a1-7aba-4cdf-afec-b5a94515b619",
   "metadata": {
    "papermill": {},
    "tags": []
   },
   "source": [
    "**Author:** [Florent Ravenel](https://www.linkedin.com/in/florent-ravenel/)"
   ]
  },
  {
   "cell_type": "markdown",
   "id": "naas-description",
   "metadata": {
    "papermill": {},
    "tags": [
     "description"
    ]
   },
   "source": [
    "**Description:** This notebook provides a way to track and analyze the performance of posts on your LinkedIn profile."
   ]
  },
  {
   "cell_type": "markdown",
   "id": "481d93a8-af29-41e3-9fc0-29f2bce7658f",
   "metadata": {
    "papermill": {},
    "tags": []
   },
   "source": [
    "\n",
    "<div class=\"alert alert-info\" role=\"info\" style=\"margin: 10px\">\n",
    "<b>Disclaimer:</b><br>\n",
    "This code is in no way affiliated with, authorized, maintained, sponsored or endorsed by Linkedin or any of its affiliates or subsidiaries. It uses an independent and unofficial API. Use at your own risk.\n",
    "\n",
    "This project violates Linkedin's User Agreement Section 8.2, and because of this, Linkedin may (and will) temporarily or permanently ban your account. We are not responsible for your account being banned.\n",
    "<br>\n",
    "</div>"
   ]
  },
  {
   "cell_type": "markdown",
   "id": "attractive-bandwidth",
   "metadata": {
    "papermill": {},
    "tags": []
   },
   "source": [
    "## Input"
   ]
  },
  {
   "cell_type": "markdown",
   "id": "import_cell",
   "metadata": {
    "papermill": {},
    "tags": []
   },
   "source": [
    "### Import libraries"
   ]
  },
  {
   "cell_type": "code",
   "execution_count": null,
   "id": "dangerous-christianity",
   "metadata": {
    "papermill": {},
    "tags": []
   },
   "outputs": [],
   "source": [
    "from naas_drivers import linkedin\n",
    "import pandas as pd\n",
    "from datetime import datetime\n",
    "import naas"
   ]
  },
  {
   "cell_type": "markdown",
   "id": "quiet-founder",
   "metadata": {
    "papermill": {},
    "tags": []
   },
   "source": [
    "### Setup LinkedIn\n",
    "<a href='https://www.notion.so/LinkedIn-driver-Get-your-cookies-d20a8e7e508e42af8a5b52e33f3dba75'>How to get your cookies ?</a>"
   ]
  },
  {
   "cell_type": "code",
   "execution_count": null,
   "id": "classical-necklace",
   "metadata": {
    "papermill": {},
    "tags": []
   },
   "outputs": [],
   "source": [
    "# LinkedIn cookies\n",
    "LI_AT = (\n",
    "    naas.secret.get(\"LI_AT\") or \"ENTER_YOUR_COOKIE_HERE\"\n",
    ")  # EXAMPLE : \"AQFAzQN_PLPR4wAAAXc-FCKmgiMit5FLdY1af3-2\"\n",
    "JSESSIONID = (\n",
    "    naas.secret.get(\"JSESSIONID\") or \"ENTER_YOUR_JSESSIONID_HERE\"\n",
    ")  # EXAMPLE : \"ajax:8379907400220387585\"\n",
    "\n",
    "# LinkedIn profile url\n",
    "PROFILE_URL = \"ENTER_YOUR_LINKEDIN_PROFILE_HERE\"  # EXAMPLE \"https://www.linkedin.com/in/myprofile/\""
   ]
  },
  {
   "cell_type": "markdown",
   "id": "ambient-shanghai",
   "metadata": {
    "papermill": {},
    "tags": []
   },
   "source": [
    "### Setup Outputs\n",
    "Create CSV to store your posts stats.<br>\n",
    "PS: This CSV could be used in others LinkedIn templates."
   ]
  },
  {
   "cell_type": "code",
   "execution_count": null,
   "id": "consolidated-haiti",
   "metadata": {
    "papermill": {},
    "tags": []
   },
   "outputs": [],
   "source": [
    "# Custom path of your CSV with the profile URL\n",
    "profile_id = PROFILE_URL.split(\"https://www.linkedin.com/in/\")[-1].split(\"/\")[0]\n",
    "csv_output = f\"LINKEDIN_PROFILE_POSTS_{profile_id}.csv\""
   ]
  },
  {
   "cell_type": "markdown",
   "id": "67f01b9b-2f42-473a-a8b2-14b4e0f632b2",
   "metadata": {
    "papermill": {},
    "tags": []
   },
   "source": [
    "### Setup Naas scheduler\n",
    "Schedule your notebook with the naas scheduler feature"
   ]
  },
  {
   "cell_type": "code",
   "execution_count": null,
   "id": "07981f66-32ef-4916-8eb3-042d7144f464",
   "metadata": {
    "papermill": {},
    "tags": []
   },
   "outputs": [],
   "source": [
    "# the default settings below will make the notebook run everyday at 8:00\n",
    "# for information on changing this setting, please check https://crontab.guru/ for information on the required CRON syntax\n",
    "naas.scheduler.add(cron=\"0 8 * * *\")\n",
    "\n",
    "# to de-schedule this notebook, simply run the following command:\n",
    "# naas.scheduler.delete()"
   ]
  },
  {
   "cell_type": "markdown",
   "id": "polished-prior",
   "metadata": {
    "papermill": {},
    "tags": []
   },
   "source": [
    "## Model"
   ]
  },
  {
   "cell_type": "markdown",
   "id": "7298f063-3ea6-464b-a3ef-ee158e584f5b",
   "metadata": {
    "execution": {
     "iopub.execute_input": "2022-01-24T11:24:35.716122Z",
     "iopub.status.busy": "2022-01-24T11:24:35.715845Z",
     "iopub.status.idle": "2022-01-24T11:24:35.719349Z",
     "shell.execute_reply": "2022-01-24T11:24:35.718736Z",
     "shell.execute_reply.started": "2022-01-24T11:24:35.716056Z"
    },
    "papermill": {},
    "tags": []
   },
   "source": [
    "### Get your posts from CSV\n",
    "All your posts will be stored in CSV."
   ]
  },
  {
   "cell_type": "code",
   "execution_count": null,
   "id": "miniature-manitoba",
   "metadata": {
    "papermill": {},
    "tags": []
   },
   "outputs": [],
   "source": [
    "def read_csv(file_path):\n",
    "    try:\n",
    "        df = pd.read_csv(file_path)\n",
    "    except FileNotFoundError as e:\n",
    "        # Empty dataframe returned\n",
    "        return pd.DataFrame()\n",
    "    return df\n",
    "\n",
    "\n",
    "df_posts = read_csv(csv_output)\n",
    "print(\"✅ Posts fetched:\", len(df_posts))\n",
    "df_posts.head(1)"
   ]
  },
  {
   "cell_type": "markdown",
   "id": "36e8dcc0-6963-4aa1-8583-c5c1058c7c49",
   "metadata": {
    "papermill": {},
    "tags": []
   },
   "source": [
    "### Update last posts\n",
    "This function will only update the last 5 posts from LinkedIn API.<br>\n",
    "To change this parameters you can set another number to the parameter \"no_posts\" in the update_posts() function.\n",
    "\n",
    "PS: On the first execution all posts will be retrieved."
   ]
  },
  {
   "cell_type": "code",
   "execution_count": null,
   "id": "96c0d82f-c939-4fde-a5b0-d5577cf081a1",
   "metadata": {
    "papermill": {},
    "tags": []
   },
   "outputs": [],
   "source": [
    "def update_posts(\n",
    "    df_posts, profile_url, key=\"POST_URL\", no_posts=5, min_updated_time=60\n",
    "):\n",
    "    # Init output\n",
    "    df = pd.DataFrame()\n",
    "    df_new = pd.DataFrame()\n",
    "\n",
    "    # Init df posts is empty then return entire database\n",
    "    if len(df_posts) > 0:\n",
    "        if \"DATE_EXTRACT\" in df_posts.columns:\n",
    "            last_update_date = df_posts[\"DATE_EXTRACT\"].max()\n",
    "            time_last_update = datetime.now() - datetime.strptime(\n",
    "                last_update_date, \"%Y-%m-%d %H:%M:%S\"\n",
    "            )\n",
    "            minute_last_update = time_last_update.total_seconds() / 60\n",
    "            if minute_last_update > min_updated_time:\n",
    "                # If df posts not empty get the last X posts (new and already existing)\n",
    "                df_new = linkedin.connect(LI_AT, JSESSIONID).profile.get_posts_feed(\n",
    "                    profile_url, limit=no_posts\n",
    "                )\n",
    "            else:\n",
    "                print(\n",
    "                    f\"🛑 Nothing to update. Last update done {int(minute_last_update)} minutes ago.\"\n",
    "                )\n",
    "    else:\n",
    "        df_new = linkedin.connect(LI_AT, JSESSIONID).profile.get_posts_feed(\n",
    "            profile_url, limit=-1\n",
    "        )\n",
    "\n",
    "    # Concat, save database in CSV and dependency in production\n",
    "    df = pd.concat([df_new, df_posts]).drop_duplicates(key, keep=\"first\")\n",
    "\n",
    "    # Return all posts\n",
    "    print(f\"✅ Updated posts fetched:\", len(df))\n",
    "    return df.reset_index(drop=True)\n",
    "\n",
    "\n",
    "df_update = update_posts(df_posts, PROFILE_URL)\n",
    "df_update.head(1)"
   ]
  },
  {
   "cell_type": "markdown",
   "id": "comic-sucking",
   "metadata": {
    "papermill": {},
    "tags": []
   },
   "source": [
    "## Output"
   ]
  },
  {
   "cell_type": "markdown",
   "id": "killing-trust",
   "metadata": {
    "papermill": {},
    "tags": []
   },
   "source": [
    "### Save dataframe in CSV and send to production"
   ]
  },
  {
   "cell_type": "code",
   "execution_count": null,
   "id": "urban-agency",
   "metadata": {
    "papermill": {},
    "tags": []
   },
   "outputs": [],
   "source": [
    "# Save dataframe in CSV\n",
    "df_update.to_csv(csv_output, index=False)\n",
    "\n",
    "# Send CSV to production (It could be used with other scripts)\n",
    "naas.dependency.add(csv_output)"
   ]
  }
 ],
 "metadata": {
  "kernelspec": {
   "display_name": "Python 3",
   "language": "python",
   "name": "python3"
  },
  "language_info": {
   "codemirror_mode": {
    "name": "ipython",
    "version": 3
   },
   "file_extension": ".py",
   "mimetype": "text/x-python",
   "name": "python",
   "nbconvert_exporter": "python",
   "pygments_lexer": "ipython3",
   "version": "3.9.6"
  },
  "naas": {
   "notebook_id": "ff638a6ff20341b8d9c703bd58fb5088b4bfd7df4f07be972ae77d964ad9eb84",
   "notebook_path": "LinkedIn/LinkedIn_Get_profile_posts_stats.ipynb"
  },
  "papermill": {
   "default_parameters": {},
   "environment_variables": {},
   "parameters": {},
   "version": "2.3.3"
  },
  "widgets": {
   "application/vnd.jupyter.widget-state+json": {
    "state": {},
    "version_major": 2,
    "version_minor": 0
   }
  }
 },
 "nbformat": 4,
 "nbformat_minor": 5
}