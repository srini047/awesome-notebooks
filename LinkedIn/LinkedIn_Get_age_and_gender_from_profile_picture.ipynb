{
 "cells": [
  {
   "cell_type": "markdown",
   "id": "28c8ca96-37a1-4865-a3bc-bdf9f0c41332",
   "metadata": {
    "papermill": {},
    "tags": []
   },
   "source": [
    "<img width=\"10%\" alt=\"Naas\" src=\"https://landen.imgix.net/jtci2pxwjczr/assets/5ice39g4.png?w=160\"/>"
   ]
  },
  {
   "cell_type": "markdown",
   "id": "0ba0dce6-f287-4ff8-92ab-744dd21d30c9",
   "metadata": {
    "papermill": {},
    "tags": []
   },
   "source": [
    "# LinkedIn - Get age and gender from profile picture\n",
    "<a href=\"https://app.naas.ai/user-redirect/naas/downloader?url=https://raw.githubusercontent.com/jupyter-naas/awesome-notebooks/master/LinkedIn/LinkedIn_Get_age_and_gender_from_profile_picture.ipynb\" target=\"_parent\"><img src=\"https://naasai-public.s3.eu-west-3.amazonaws.com/Open_in_Naas_Lab.svg\"/></a><br><br><a href=\"https://github.com/jupyter-naas/awesome-notebooks/issues/new?assignees=&labels=&template=template-request.md&title=Tool+-+Action+of+the+notebook+\">Template request</a> | <a href=\"https://github.com/jupyter-naas/awesome-notebooks/issues/new?assignees=&labels=bug&template=bug_report.md&title=LinkedIn+-+Get+age+and+gender+from+profile+picture:+Error+short+description\">Bug report</a> | <a href=\"https://app.naas.ai/user-redirect/naas/downloader?url=https://raw.githubusercontent.com/jupyter-naas/awesome-notebooks/master/Naas/Naas_Start_data_product.ipynb\" target=\"_parent\">Generate Data Product</a>"
   ]
  },
  {
   "cell_type": "markdown",
   "id": "5d53c15b-7cd1-45a8-b2f0-f577a43f5886",
   "metadata": {
    "papermill": {},
    "tags": []
   },
   "source": [
    "**Tags:** #linkedin #machinelearning #profile #identity #naas_drivers #content #snippet #dataframe"
   ]
  },
  {
   "cell_type": "markdown",
   "id": "c615333d-4107-481a-b195-8c00d377671f",
   "metadata": {
    "papermill": {},
    "tags": []
   },
   "source": [
    "**Author:** [Nikolaj Groeneweg](https://www.linkedin.com/in/njgroene/)"
   ]
  },
  {
   "cell_type": "markdown",
   "id": "9b34752e-b1dc-40ce-838c-78d017b97d47",
   "metadata": {
    "papermill": {},
    "tags": []
   },
   "source": [
    "**Description:** This notebook estimates a person's age and gender based on their LinkedIn profile picture. "
   ]
  },
  {
   "cell_type": "markdown",
   "id": "49293390-796a-404e-9715-605e162094a0",
   "metadata": {
    "papermill": {},
    "tags": []
   },
   "source": [
    "**References:**\n",
    "\n",
    "The code below is based on the following work :\n",
    "    \n",
    "*Karkkainen, K., & Joo, J. (2021).*\n",
    "FairFace: Face Attribute Dataset for Balanced Race, Gender, and Age for Bias Measurement and Mitigation. \n",
    "In Proceedings of the IEEE/CVF Winter Conference on Applications of Computer Vision (pp. 1548-1558).\n",
    "\n",
    "The paper and all other corresponding information can be found on github:\n",
    "https://github.com/joojs/fairface\n",
    "\n",
    "*Disclaimer*: please note that model output and interpretation have been restricted in order to comply to French CNIL regulation regarding the processing and storage of sensitive data (see : https://www.cnil.fr/fr/definition/donnee-sensible)"
   ]
  },
  {
   "cell_type": "markdown",
   "id": "267ca42d-5903-4b78-a053-60cb31bb8941",
   "metadata": {
    "papermill": {},
    "tags": []
   },
   "source": [
    "<u>Prerequisites:</u>\n",
    "\n",
    "This code requires you to download and install a pretrained neural network for it to function correctly. \n",
    "\n",
    "Follow these steps:\n",
    "\n",
    "   1) Create new folder called \"models\" in the same Naas directory as this noteboook\n",
    "   \n",
    "   2) Download the model \"res34_fair_align_multi_7_20190809.pt\" from the following url\n",
    "       https://drive.google.com/drive/folders/1F_pXfbzWvG-bhCpNsRj6F_xsdjpesiFu\n",
    "   \n",
    "   3) Copy the model to your \"models\" folder"
   ]
  },
  {
   "cell_type": "markdown",
   "id": "51263b7c-9f49-4c62-b1d0-bf6184a041b4",
   "metadata": {
    "papermill": {},
    "tags": []
   },
   "source": [
    "\n",
    "<div class=\"alert alert-info\" role=\"info\" style=\"margin: 10px\">\n",
    "<b>Disclaimer:</b><br>\n",
    "This code is in no way affiliated with, authorized, maintained, sponsored or endorsed by Linkedin or any of its affiliates or subsidiaries. It uses an independent and unofficial API. Use at your own risk.\n",
    "\n",
    "This project violates Linkedin's User Agreement Section 8.2, and because of this, Linkedin may (and will) temporarily or permanently ban your account. We are not responsible for your account being banned.\n",
    "<br>\n",
    "</div>"
   ]
  },
  {
   "cell_type": "markdown",
   "id": "66f1907f-bde1-4ea9-ad97-2efb7d60afdd",
   "metadata": {
    "papermill": {},
    "tags": []
   },
   "source": [
    "## Input"
   ]
  },
  {
   "cell_type": "markdown",
   "id": "e19c02d2-0fba-4a10-a254-ddb2009d556b",
   "metadata": {
    "papermill": {},
    "tags": []
   },
   "source": [
    "### Import libraries"
   ]
  },
  {
   "cell_type": "code",
   "execution_count": 5,
   "id": "27300396-9b42-42e5-8051-a6950c0d7b44",
   "metadata": {
    "papermill": {},
    "tags": []
   },
   "outputs": [],
   "source": [
    "from naas_drivers import linkedin\n",
    "import urllib \n",
    "import naas\n",
    "\n",
    "from PIL import Image\n",
    "import pandas as pd\n",
    "import numpy as np\n",
    "\n",
    "import torch\n",
    "import torch.nn as nn\n",
    "try:\n",
    "    import torchvision\n",
    "    from torchvision import datasets, models, transforms\n",
    "except:\n",
    "    !pip install torchvision==0.12.0 --user --no-cache-dir\n",
    "    import torchvision\n",
    "    from torchvision import datasets, models, transforms\n",
    "try:\n",
    "    from torch_mtcnn import detect_faces\n",
    "    from torch_mtcnn import show_bboxes\n",
    "except:\n",
    "    !pip install torch-mtcnn --user\n",
    "    from torch_mtcnn import detect_faces\n",
    "    from torch_mtcnn import show_bboxes"
   ]
  },
  {
   "cell_type": "markdown",
   "id": "e527df00-a0e7-454d-9a2f-0c924580cfb3",
   "metadata": {
    "papermill": {},
    "tags": []
   },
   "source": [
    "### Get your cookies"
   ]
  },
  {
   "cell_type": "markdown",
   "id": "72fa0182-ac41-4dca-b733-48b2d6d5e618",
   "metadata": {
    "papermill": {},
    "tags": []
   },
   "source": [
    "### Setup LinkedIn\n",
    "<a href='https://www.notion.so/LinkedIn-driver-Get-your-cookies-d20a8e7e508e42af8a5b52e33f3dba75'>How to get your cookies ?</a>"
   ]
  },
  {
   "cell_type": "code",
   "execution_count": 1,
   "id": "0c728c34-3e3d-456e-bc5d-141af27d7923",
   "metadata": {
    "papermill": {},
    "tags": []
   },
   "outputs": [],
   "source": [
    "# LinkedIn cookies\n",
    "LI_AT = \"ENTER_YOUR_COOKIE_HERE\"  # EXAMPLE : \"AQFAzQN_PLPR4wAAAXc-FCKmgiMit5FLdY1af3-2\"\n",
    "JSESSIONID = \"ENTER_YOUR_JSESSIONID_HERE\"  # EXAMPLE : \"ajax:8379907400220387585\"\n",
    "\n",
    "# LinkedIn profile url\n",
    "PROFILE_URL = \"ENTER_YOUR_LINKEDIN_PROFILE_HERE\"  # EXAMPLE \"https://www.linkedin.com/in/myprofile/\""
   ]
  },
  {
   "cell_type": "markdown",
   "id": "1396e4a1-e0ea-4740-9a92-fdb0effa6016",
   "metadata": {
    "papermill": {},
    "tags": []
   },
   "source": [
    "## Model"
   ]
  },
  {
   "cell_type": "markdown",
   "id": "925fd497-36fd-4535-9823-b4d0954b6830",
   "metadata": {
    "papermill": {},
    "tags": []
   },
   "source": [
    "### Get image from URL"
   ]
  },
  {
   "cell_type": "code",
   "execution_count": 2,
   "id": "bb7fa747-5bc7-40ea-baeb-50364b847479",
   "metadata": {
    "papermill": {},
    "tags": []
   },
   "outputs": [],
   "source": [
    "def get_image_from_url(imgurl):\n",
    "    urllib.request.urlretrieve(imgurl, \"tmp_file\")\n",
    "    return Image.open(\"tmp_file\")"
   ]
  },
  {
   "cell_type": "markdown",
   "id": "96cbf382-82d7-4714-9d4a-adf8bcad1473",
   "metadata": {
    "papermill": {},
    "tags": []
   },
   "source": [
    "### Get data from image"
   ]
  },
  {
   "cell_type": "code",
   "execution_count": 3,
   "id": "d0e16292-ec6d-4068-bbdb-1e6554bc2726",
   "metadata": {
    "papermill": {},
    "tags": []
   },
   "outputs": [],
   "source": [
    "def get_demographics_from_image(img):\n",
    "    try:\n",
    "        bounding_boxes, landmarks = detect_faces(img)\n",
    "    except Exception as e:\n",
    "        raise Exception(\"Image parse error [\" + str(e) + \"].\")\n",
    "    if len(bounding_boxes) == 0:\n",
    "        raise Exception(\"No face in image.\")\n",
    "    if len(bounding_boxes) > 1:\n",
    "        raise Exception(\"Multiples faces in image.\")\n",
    "\n",
    "    bb = [\n",
    "        bounding_boxes[0, 0],\n",
    "        bounding_boxes[0, 1],\n",
    "        bounding_boxes[0, 2],\n",
    "        bounding_boxes[0, 3],\n",
    "    ]\n",
    "    img_cropped = img.crop(bb)\n",
    "\n",
    "    device = torch.device(\"cuda:0\" if torch.cuda.is_available() else \"cpu\")\n",
    "\n",
    "    model_fair_7 = torchvision.models.resnet34(pretrained=True)\n",
    "    model_fair_7.fc = nn.Linear(model_fair_7.fc.in_features, 18)\n",
    "    model_fair_7.load_state_dict(\n",
    "        torch.load(\n",
    "            \"models/res34_fair_align_multi_7_20190809.pt\",\n",
    "            map_location=torch.device(\"cpu\"),\n",
    "        )\n",
    "    )\n",
    "    model_fair_7 = model_fair_7.to(device)\n",
    "    model_fair_7.eval()\n",
    "\n",
    "    trans = transforms.Compose(\n",
    "        [\n",
    "            transforms.Resize((224, 224)),\n",
    "            transforms.ToTensor(),\n",
    "            transforms.Normalize(mean=[0.485, 0.456, 0.406], std=[0.229, 0.224, 0.225]),\n",
    "        ]\n",
    "    )\n",
    "\n",
    "    face_names = []\n",
    "    gender_scores_fair = []\n",
    "    age_scores_fair = []\n",
    "    gender_preds_fair = []\n",
    "    age_preds_fair = []\n",
    "\n",
    "    image = trans(img_cropped)\n",
    "    image = image.view(\n",
    "        1, 3, 224, 224\n",
    "    )  # reshape image to match model dimensions (1 batch size)\n",
    "    image = image.to(device)\n",
    "\n",
    "    # fair 7 class\n",
    "    outputs = model_fair_7(image)\n",
    "    outputs = outputs.cpu().detach().numpy()\n",
    "    outputs = np.squeeze(outputs)\n",
    "\n",
    "    gender_outputs = outputs[7:9]\n",
    "    age_outputs = outputs[9:18]\n",
    "\n",
    "    gender_score = np.exp(gender_outputs) / np.sum(np.exp(gender_outputs))\n",
    "    age_score = np.exp(age_outputs) / np.sum(np.exp(age_outputs))\n",
    "\n",
    "    gender_pred = np.argmax(gender_score)\n",
    "    age_pred = np.argmax(age_score)\n",
    "\n",
    "    gender_scores_fair.append(gender_score)\n",
    "    age_scores_fair.append(age_score)\n",
    "\n",
    "    gender_preds_fair.append(gender_pred)\n",
    "    age_preds_fair.append(age_pred)\n",
    "\n",
    "    result = pd.DataFrame([gender_preds_fair, age_preds_fair]).T\n",
    "\n",
    "    result.columns = [\"gender_preds_fair\", \"age_preds_fair\"]\n",
    "    # gender\n",
    "    result.loc[result[\"gender_preds_fair\"] == 0, \"gender\"] = \"Male\"\n",
    "    result.loc[result[\"gender_preds_fair\"] == 1, \"gender\"] = \"Female\"\n",
    "\n",
    "    # age\n",
    "    result.loc[result[\"age_preds_fair\"] == 0, \"age\"] = \"0-2\"\n",
    "    result.loc[result[\"age_preds_fair\"] == 1, \"age\"] = \"3-9\"\n",
    "    result.loc[result[\"age_preds_fair\"] == 2, \"age\"] = \"10-19\"\n",
    "    result.loc[result[\"age_preds_fair\"] == 3, \"age\"] = \"20-29\"\n",
    "    result.loc[result[\"age_preds_fair\"] == 4, \"age\"] = \"30-39\"\n",
    "    result.loc[result[\"age_preds_fair\"] == 5, \"age\"] = \"40-49\"\n",
    "    result.loc[result[\"age_preds_fair\"] == 6, \"age\"] = \"50-59\"\n",
    "    result.loc[result[\"age_preds_fair\"] == 7, \"age\"] = \"60-69\"\n",
    "    result.loc[result[\"age_preds_fair\"] == 8, \"age\"] = \"70+\"\n",
    "\n",
    "    return [result[\"gender\"][0], result[\"age\"][0]]"
   ]
  },
  {
   "cell_type": "markdown",
   "id": "e077f19c-6177-4fac-83a7-29134bfe405d",
   "metadata": {
    "papermill": {},
    "tags": []
   },
   "source": [
    "### Get LinkedIn profile"
   ]
  },
  {
   "cell_type": "code",
   "execution_count": 6,
   "id": "03ba6b94-e85a-452c-a8fe-054cb23f367b",
   "metadata": {
    "papermill": {},
    "tags": []
   },
   "outputs": [],
   "source": [
    "df = linkedin.connect(LI_AT, JSESSIONID).profile.get_identity(PROFILE_URL)\n",
    "df.insert(loc=2, column=\"GENDER\", value=None)\n",
    "df.insert(loc=3, column=\"AGE\", value=None)"
   ]
  },
  {
   "cell_type": "markdown",
   "id": "08fecf5b-2323-477d-9078-4e70eae27389",
   "metadata": {
    "execution": {
     "iopub.execute_input": "2022-06-11T21:39:14.514888Z",
     "iopub.status.busy": "2022-06-11T21:39:14.514650Z",
     "iopub.status.idle": "2022-06-11T21:39:14.523188Z",
     "shell.execute_reply": "2022-06-11T21:39:14.522571Z",
     "shell.execute_reply.started": "2022-06-11T21:39:14.514866Z"
    },
    "papermill": {},
    "tags": []
   },
   "source": [
    "### Enrich profile with estimates of gender and age range"
   ]
  },
  {
   "cell_type": "code",
   "execution_count": 7,
   "id": "638072cb-b560-42f6-b8bb-9abfa20d29bf",
   "metadata": {
    "papermill": {},
    "tags": []
   },
   "outputs": [],
   "source": [
    "imgurl = df[\"PROFILE_PICTURE\"][0]\n",
    "if imgurl != None:\n",
    "    img = get_image_from_url(imgurl)\n",
    "    try:\n",
    "        result = get_demographics_from_image(img)\n",
    "        df[\"GENDER\"] = result[0]\n",
    "        df[\"AGE\"] = result[1]\n",
    "    except Exception as e:\n",
    "        print(\n",
    "            \"\\nCould not perform estimation.\\nThe following input error occured : \"\n",
    "            + str(e)\n",
    "            + \"\\n\"\n",
    "        )"
   ]
  },
  {
   "cell_type": "markdown",
   "id": "ddc0062b-02a1-4128-a2bb-3590cadc6d5b",
   "metadata": {
    "execution": {
     "iopub.execute_input": "2022-06-11T21:52:02.284672Z",
     "iopub.status.busy": "2022-06-11T21:52:02.284295Z",
     "iopub.status.idle": "2022-06-11T21:52:02.289475Z",
     "shell.execute_reply": "2022-06-11T21:52:02.288826Z",
     "shell.execute_reply.started": "2022-06-11T21:52:02.284572Z"
    },
    "papermill": {},
    "tags": []
   },
   "source": [
    "## Output"
   ]
  },
  {
   "cell_type": "markdown",
   "id": "933901c5-4cfe-4674-aef0-ad76f4f32c8d",
   "metadata": {
    "papermill": {},
    "tags": []
   },
   "source": [
    "### Display result"
   ]
  },
  {
   "cell_type": "code",
   "execution_count": 8,
   "id": "3368835b-41f7-4426-9419-575d9583254b",
   "metadata": {
    "papermill": {},
    "tags": []
   },
   "outputs": [],
   "source": [
    "df"
   ]
  },
  {
   "cell_type": "code",
   "execution_count": null,
   "id": "4cf8bf7a-ed1e-4b56-8a6e-a9a69b3f2185",
   "metadata": {
    "papermill": {},
    "tags": []
   },
   "outputs": [],
   "source": []
  }
 ],
 "metadata": {
  "kernelspec": {
   "display_name": "Python 3",
   "language": "python",
   "name": "python3"
  },
  "language_info": {
   "codemirror_mode": {
    "name": "ipython",
    "version": 3
   },
   "file_extension": ".py",
   "mimetype": "text/x-python",
   "name": "python",
   "nbconvert_exporter": "python",
   "pygments_lexer": "ipython3",
   "version": "3.9.6"
  },
  "naas": {
   "notebook_id": "38e3a7391f8093e9d1678cb2eb88f6606c087cf81d5dabc31334567fb05b7b55",
   "notebook_path": "LinkedIn/LinkedIn_Get_age_and_gender_from_profile_picture.ipynb"
  },
  "papermill": {
   "default_parameters": {},
   "environment_variables": {},
   "parameters": {},
   "version": "2.3.4"
  }
 },
 "nbformat": 4,
 "nbformat_minor": 5
}