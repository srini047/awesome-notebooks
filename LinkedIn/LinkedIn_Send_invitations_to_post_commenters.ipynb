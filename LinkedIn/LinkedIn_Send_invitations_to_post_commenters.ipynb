{
 "cells": [
  {
   "cell_type": "markdown",
   "id": "developed-maldives",
   "metadata": {
    "execution": {
     "iopub.execute_input": "2021-01-25T08:00:35.294800Z",
     "iopub.status.busy": "2021-01-25T08:00:35.294557Z",
     "iopub.status.idle": "2021-01-25T08:00:35.307281Z",
     "shell.execute_reply": "2021-01-25T08:00:35.306468Z",
     "shell.execute_reply.started": "2021-01-25T08:00:35.294775Z"
    },
    "papermill": {},
    "tags": []
   },
   "source": [
    "<img width=\"10%\" alt=\"Naas\" src=\"https://landen.imgix.net/jtci2pxwjczr/assets/5ice39g4.png?w=160\"/>"
   ]
  },
  {
   "cell_type": "markdown",
   "id": "sharing-bracket",
   "metadata": {
    "papermill": {},
    "tags": []
   },
   "source": [
    "# LinkedIn - Send invitations to post commenters\n",
    "<a href=\"https://app.naas.ai/user-redirect/naas/downloader?url=https://raw.githubusercontent.com/jupyter-naas/awesome-notebooks/master/LinkedIn/LinkedIn_Send_invitations_to_post_commenters.ipynb\" target=\"_parent\"><img src=\"https://naasai-public.s3.eu-west-3.amazonaws.com/open_in_naas.svg\"/></a><br><br><a href=\"https://github.com/jupyter-naas/awesome-notebooks/issues/new?assignees=&labels=&template=template-request.md&title=Tool+-+Action+of+the+notebook+\">Template request</a> | <a href=\"https://github.com/jupyter-naas/awesome-notebooks/issues/new?assignees=&labels=bug&template=bug_report.md&title=LinkedIn+-+Send+invitations+to+post+commenters:+Error+short+description\">Bug report</a>"
   ]
  },
  {
   "cell_type": "markdown",
   "id": "e8c1a8fa-802d-45c9-bcf2-138f0ef0f86e",
   "metadata": {
    "papermill": {},
    "tags": []
   },
   "source": [
    "**Tags:** #linkedin #post #comments #invitations #connections #naas_drivers #content #snippet #dataframe"
   ]
  },
  {
   "cell_type": "markdown",
   "id": "b95d2ae1-1642-4efb-b647-18ed3430968e",
   "metadata": {
    "papermill": {},
    "tags": []
   },
   "source": [
    "**Author:** [Asif Syed](https://www.linkedin.com/in/asifsyd/)"
   ]
  },
  {
   "cell_type": "markdown",
   "id": "naas-description",
   "metadata": {
    "papermill": {},
    "tags": [
     "description"
    ]
   },
   "source": [
    "**Description:** This notebook allows users to quickly and easily send LinkedIn invitations to people who have commented on their posts."
   ]
  },
  {
   "cell_type": "markdown",
   "id": "aging-category",
   "metadata": {
    "papermill": {},
    "tags": []
   },
   "source": [
    "## Input"
   ]
  },
  {
   "cell_type": "markdown",
   "id": "import_cell",
   "metadata": {
    "papermill": {},
    "tags": []
   },
   "source": [
    "### Import library"
   ]
  },
  {
   "cell_type": "code",
   "execution_count": 1,
   "id": "usual-thompson",
   "metadata": {
    "execution": {
     "iopub.execute_input": "2022-07-17T14:24:51.544849Z",
     "iopub.status.busy": "2022-07-17T14:24:51.544502Z",
     "iopub.status.idle": "2022-07-17T14:24:53.184503Z",
     "shell.execute_reply": "2022-07-17T14:24:53.183903Z",
     "shell.execute_reply.started": "2022-07-17T14:24:51.544759Z"
    },
    "papermill": {},
    "tags": []
   },
   "outputs": [],
   "source": [
    "from naas_drivers import linkedin\n",
    "import naas\n",
    "import time"
   ]
  },
  {
   "cell_type": "markdown",
   "id": "healthy-invite",
   "metadata": {
    "papermill": {},
    "tags": []
   },
   "source": [
    "### Setup LinkedIn\n",
    "<a href='https://www.notion.so/LinkedIn-driver-Get-your-cookies-d20a8e7e508e42af8a5b52e33f3dba75'>How to get your cookies ?</a>"
   ]
  },
  {
   "cell_type": "code",
   "execution_count": 2,
   "id": "czech-cooking",
   "metadata": {
    "execution": {
     "iopub.execute_input": "2022-07-17T14:24:59.509814Z",
     "iopub.status.busy": "2022-07-17T14:24:59.509582Z",
     "iopub.status.idle": "2022-07-17T14:24:59.512795Z",
     "shell.execute_reply": "2022-07-17T14:24:59.512122Z",
     "shell.execute_reply.started": "2022-07-17T14:24:59.509790Z"
    },
    "papermill": {},
    "tags": []
   },
   "outputs": [],
   "source": [
    "LI_AT = (\n",
    "    naas.secret.get(\"LI_AT\") or \"ENTER_YOUR_COOKIE_LI_AT_HERE\"\n",
    ")  # EXAMPLE AQFAzQN_PLPR4wAAAXc-FCKmgiMit5FLdY1af3-2\n",
    "JSESSIONID = (\n",
    "    naas.secret.get(\"JSESSIONID\") or \"ENTER_YOUR_COOKIE_JSESSIONID_HERE\"\n",
    ")  # EXAMPLE ajax:8379907400220387585"
   ]
  },
  {
   "cell_type": "markdown",
   "id": "economic-quebec",
   "metadata": {
    "execution": {
     "iopub.execute_input": "2021-06-17T11:37:27.823979Z",
     "iopub.status.busy": "2021-06-17T11:37:27.823716Z",
     "iopub.status.idle": "2021-06-17T11:37:27.827196Z",
     "shell.execute_reply": "2021-06-17T11:37:27.826586Z",
     "shell.execute_reply.started": "2021-06-17T11:37:27.823914Z"
    },
    "papermill": {},
    "tags": []
   },
   "source": [
    "### Enter post URL"
   ]
  },
  {
   "cell_type": "markdown",
   "id": "692765fb-e598-44a7-98af-1eb794f32247",
   "metadata": {
    "papermill": {},
    "tags": []
   },
   "source": [
    "To get the URL for a post, click on the three dots option to the right corner of that post on LinkedIn and select \"copy link to post\" option.\n",
    "\n",
    "Replace the string 'URL' below with the actual URL"
   ]
  },
  {
   "cell_type": "code",
   "execution_count": 18,
   "id": "lesser-counter",
   "metadata": {
    "execution": {
     "iopub.execute_input": "2022-07-17T14:43:44.840220Z",
     "iopub.status.busy": "2022-07-17T14:43:44.839997Z",
     "iopub.status.idle": "2022-07-17T14:43:44.844186Z",
     "shell.execute_reply": "2022-07-17T14:43:44.843587Z",
     "shell.execute_reply.started": "2022-07-17T14:43:44.840198Z"
    },
    "papermill": {},
    "tags": []
   },
   "outputs": [],
   "source": [
    "POST_URL = \"URL\""
   ]
  },
  {
   "cell_type": "markdown",
   "id": "b248b296-3ba2-4bc8-b9b1-9555cd4d1cf5",
   "metadata": {
    "execution": {
     "iopub.execute_input": "2022-07-05T11:44:01.293120Z",
     "iopub.status.busy": "2022-07-05T11:44:01.292798Z",
     "iopub.status.idle": "2022-07-05T11:44:01.296389Z",
     "shell.execute_reply": "2022-07-05T11:44:01.295703Z",
     "shell.execute_reply.started": "2022-07-05T11:44:01.293051Z"
    },
    "papermill": {},
    "tags": []
   },
   "source": [
    "## Model"
   ]
  },
  {
   "cell_type": "markdown",
   "id": "italic-rhythm",
   "metadata": {
    "papermill": {},
    "tags": []
   },
   "source": [
    "### Get comments of the post"
   ]
  },
  {
   "cell_type": "markdown",
   "id": "769e39fe-456a-4a3b-ac18-4f92815c5a3b",
   "metadata": {
    "papermill": {},
    "tags": []
   },
   "source": [
    "Running the below cell fetches the information related to all the comments of the post and stores the information in a dataframe"
   ]
  },
  {
   "cell_type": "code",
   "execution_count": 19,
   "id": "ceramic-brand",
   "metadata": {
    "execution": {
     "iopub.execute_input": "2022-07-17T14:43:47.760341Z",
     "iopub.status.busy": "2022-07-17T14:43:47.760116Z",
     "iopub.status.idle": "2022-07-17T14:43:57.656101Z",
     "shell.execute_reply": "2022-07-17T14:43:57.655427Z",
     "shell.execute_reply.started": "2022-07-17T14:43:47.760319Z"
    },
    "papermill": {},
    "tags": []
   },
   "outputs": [],
   "source": [
    "df = linkedin.connect(LI_AT, JSESSIONID).post.get_comments(POST_URL)"
   ]
  },
  {
   "cell_type": "markdown",
   "id": "confident-nature",
   "metadata": {
    "papermill": {},
    "tags": []
   },
   "source": [
    "### Get profile URLs of all the commenters"
   ]
  },
  {
   "cell_type": "code",
   "execution_count": 21,
   "id": "accessory-practice",
   "metadata": {
    "execution": {
     "iopub.execute_input": "2022-07-17T14:44:38.769562Z",
     "iopub.status.busy": "2022-07-17T14:44:38.769335Z",
     "iopub.status.idle": "2022-07-17T14:44:38.772626Z",
     "shell.execute_reply": "2022-07-17T14:44:38.771986Z",
     "shell.execute_reply.started": "2022-07-17T14:44:38.769538Z"
    },
    "papermill": {},
    "tags": []
   },
   "outputs": [],
   "source": [
    "profiles = df[\"PROFILE_URL\"]  # storing the profile URLs of all the commenters"
   ]
  },
  {
   "cell_type": "markdown",
   "id": "23497270-4594-4a53-b2a6-63a56b7891c2",
   "metadata": {
    "papermill": {},
    "tags": []
   },
   "source": [
    "### Filter these profiles to include only people out of network"
   ]
  },
  {
   "cell_type": "code",
   "execution_count": 23,
   "id": "30a70fd1-938a-42ae-903c-87cc36c7d4e6",
   "metadata": {
    "execution": {
     "iopub.execute_input": "2022-07-17T14:46:02.407677Z",
     "iopub.status.busy": "2022-07-17T14:46:02.407080Z",
     "iopub.status.idle": "2022-07-17T14:46:40.395026Z",
     "shell.execute_reply": "2022-07-17T14:46:40.394193Z",
     "shell.execute_reply.started": "2022-07-17T14:46:02.407637Z"
    },
    "papermill": {},
    "tags": []
   },
   "outputs": [],
   "source": [
    "filtered_profiles = []\n",
    "for i in profiles:\n",
    "    distance = linkedin.profile.get_network(profile_url=i)[\"DISTANCE\"]\n",
    "    if distance[0] != \"DISTANCE_1\":\n",
    "        filtered_profiles.append(i)\n",
    "    time.sleep(3)"
   ]
  },
  {
   "cell_type": "markdown",
   "id": "3dab066b-a64f-41c6-9f9b-c13023bce15f",
   "metadata": {
    "papermill": {},
    "tags": []
   },
   "source": [
    "## Output"
   ]
  },
  {
   "cell_type": "markdown",
   "id": "6abe1f2d-e74f-4705-94d6-675c0cb90239",
   "metadata": {
    "papermill": {},
    "tags": []
   },
   "source": [
    "### Send invitations to all the commenters"
   ]
  },
  {
   "cell_type": "code",
   "execution_count": 26,
   "id": "69b678c9-5ca1-4ded-8ed2-2c6756d94060",
   "metadata": {
    "execution": {
     "iopub.execute_input": "2022-07-17T14:47:26.864733Z",
     "iopub.status.busy": "2022-07-17T14:47:26.864421Z",
     "iopub.status.idle": "2022-07-17T14:48:03.157296Z",
     "shell.execute_reply": "2022-07-17T14:48:03.156586Z",
     "shell.execute_reply.started": "2022-07-17T14:47:26.864693Z"
    },
    "papermill": {},
    "tags": []
   },
   "outputs": [],
   "source": [
    "for i in filtered_profiles:  # looping through each commenter's profile URL\n",
    "    linkedin.connect(LI_AT, JSESSIONID).invitation.send(\n",
    "        recipient_url=i\n",
    "    )  # send invitation"
   ]
  }
 ],
 "metadata": {
  "kernelspec": {
   "display_name": "Python 3",
   "language": "python",
   "name": "python3"
  },
  "language_info": {
   "codemirror_mode": {
    "name": "ipython",
    "version": 3
   },
   "file_extension": ".py",
   "mimetype": "text/x-python",
   "name": "python",
   "nbconvert_exporter": "python",
   "pygments_lexer": "ipython3",
   "version": "3.9.6"
  },
  "naas": {
   "notebook_id": "8dc6c362-1b07-4c9c-99b7-9d94e09d09a5",
   "notebook_path": "LinkedIn/LinkedIn_Get_comments_from_post.ipynb"
  },
  "papermill": {
   "default_parameters": {},
   "environment_variables": {},
   "parameters": {},
   "version": "2.3.3"
  },
  "widgets": {
   "application/vnd.jupyter.widget-state+json": {
    "state": {},
    "version_major": 2,
    "version_minor": 0
   }
  }
 },
 "nbformat": 4,
 "nbformat_minor": 5
}