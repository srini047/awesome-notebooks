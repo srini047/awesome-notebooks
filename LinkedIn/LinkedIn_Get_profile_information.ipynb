{
 "cells": [
  {
   "cell_type": "markdown",
   "id": "recreational-precipitation",
   "metadata": {
    "execution": {
     "iopub.execute_input": "2021-01-25T08:00:35.294800Z",
     "iopub.status.busy": "2021-01-25T08:00:35.294557Z",
     "iopub.status.idle": "2021-01-25T08:00:35.307281Z",
     "shell.execute_reply": "2021-01-25T08:00:35.306468Z",
     "shell.execute_reply.started": "2021-01-25T08:00:35.294775Z"
    },
    "papermill": {},
    "tags": []
   },
   "source": [
    "<img width=\"10%\" alt=\"Naas\" src=\"https://landen.imgix.net/jtci2pxwjczr/assets/5ice39g4.png?w=160\"/>"
   ]
  },
  {
   "cell_type": "markdown",
   "id": "anticipated-teach",
   "metadata": {
    "papermill": {},
    "tags": []
   },
   "source": [
    "# LinkedIn - Get profile information\n",
    "<a href=\"https://app.naas.ai/user-redirect/naas/downloader?url=https://raw.githubusercontent.com/jupyter-naas/awesome-notebooks/master/LinkedIn/LinkedIn_Get_profile_information.ipynb\" target=\"_parent\"><img src=\"https://naasai-public.s3.eu-west-3.amazonaws.com/open_in_naas.svg\"/></a><br><br><a href=\"https://github.com/jupyter-naas/awesome-notebooks/issues/new?assignees=&labels=&template=template-request.md&title=Tool+-+Action+of+the+notebook+\">Template request</a> | <a href=\"https://github.com/jupyter-naas/awesome-notebooks/issues/new?assignees=&labels=bug&template=bug_report.md&title=LinkedIn+-+Get+profile+information:+Error+short+description\">Bug report</a>"
   ]
  },
  {
   "cell_type": "markdown",
   "id": "6f9a2cbe-a573-488b-88aa-c505a38b3ef5",
   "metadata": {
    "papermill": {},
    "tags": []
   },
   "source": [
    "**Tags:** #linkedin #profile #resume #naas_drivers #content #snippet #dataframe"
   ]
  },
  {
   "cell_type": "markdown",
   "id": "22dbfea6-e1b5-4ed3-bc81-71d4f44ef0aa",
   "metadata": {
    "papermill": {},
    "tags": []
   },
   "source": [
    "**Author:** [Florent Ravenel](https://www.linkedin.com/in/florent-ravenel/)"
   ]
  },
  {
   "cell_type": "markdown",
   "id": "naas-description",
   "metadata": {
    "papermill": {},
    "tags": [
     "description"
    ]
   },
   "source": [
    "**Description:** This notebook allows you to access and analyze profile information from LinkedIn."
   ]
  },
  {
   "cell_type": "markdown",
   "id": "attractive-bandwidth",
   "metadata": {
    "papermill": {},
    "tags": []
   },
   "source": [
    "## Input"
   ]
  },
  {
   "cell_type": "markdown",
   "id": "import_cell",
   "metadata": {
    "papermill": {},
    "tags": []
   },
   "source": [
    "### Import library"
   ]
  },
  {
   "cell_type": "code",
   "execution_count": 1,
   "id": "dangerous-christianity",
   "metadata": {
    "execution": {
     "iopub.execute_input": "2022-10-06T11:26:30.903708Z",
     "iopub.status.busy": "2022-10-06T11:26:30.903312Z",
     "iopub.status.idle": "2022-10-06T11:26:35.101503Z",
     "shell.execute_reply": "2022-10-06T11:26:35.100832Z",
     "shell.execute_reply.started": "2022-10-06T11:26:30.903608Z"
    },
    "papermill": {},
    "tags": []
   },
   "outputs": [],
   "source": [
    "from naas_drivers import linkedin\n",
    "import naas"
   ]
  },
  {
   "cell_type": "markdown",
   "id": "quiet-founder",
   "metadata": {
    "papermill": {},
    "tags": []
   },
   "source": [
    "### Get your cookies\n",
    "<a href='https://www.notion.so/LinkedIn-driver-Get-your-cookies-d20a8e7e508e42af8a5b52e33f3dba75'>How to get your cookies ?</a>"
   ]
  },
  {
   "cell_type": "code",
   "execution_count": 2,
   "id": "classical-necklace",
   "metadata": {
    "execution": {
     "iopub.execute_input": "2022-10-06T11:26:35.104617Z",
     "iopub.status.busy": "2022-10-06T11:26:35.104440Z",
     "iopub.status.idle": "2022-10-06T11:26:35.463291Z",
     "shell.execute_reply": "2022-10-06T11:26:35.462500Z",
     "shell.execute_reply.started": "2022-10-06T11:26:35.104596Z"
    },
    "papermill": {},
    "tags": []
   },
   "outputs": [],
   "source": [
    "LI_AT = naas.secret.get(\"LINKEDIN_LI_AT\")\n",
    "JSESSIONID = naas.secret.get(\"LINKEDIN_JSESSIONID\")"
   ]
  },
  {
   "cell_type": "markdown",
   "id": "ambient-shanghai",
   "metadata": {
    "papermill": {},
    "tags": []
   },
   "source": [
    "### Enter profile URL"
   ]
  },
  {
   "cell_type": "code",
   "execution_count": 3,
   "id": "consolidated-haiti",
   "metadata": {
    "execution": {
     "iopub.execute_input": "2022-10-06T11:26:35.466552Z",
     "iopub.status.busy": "2022-10-06T11:26:35.466279Z",
     "iopub.status.idle": "2022-10-06T11:26:35.482306Z",
     "shell.execute_reply": "2022-10-06T11:26:35.481441Z",
     "shell.execute_reply.started": "2022-10-06T11:26:35.466521Z"
    },
    "papermill": {},
    "tags": []
   },
   "outputs": [],
   "source": [
    "PROFILE_URL = \"florent-ravenel\""
   ]
  },
  {
   "cell_type": "markdown",
   "id": "polished-prior",
   "metadata": {
    "papermill": {},
    "tags": []
   },
   "source": [
    "## Model"
   ]
  },
  {
   "cell_type": "markdown",
   "id": "fb5f8f87-3659-4188-88de-cf9ba7652937",
   "metadata": {
    "papermill": {},
    "tags": []
   },
   "source": [
    "### Get identity"
   ]
  },
  {
   "cell_type": "code",
   "execution_count": 4,
   "id": "ebbdcae1-8a09-46a2-9cbb-b312de931e83",
   "metadata": {
    "execution": {
     "iopub.execute_input": "2022-10-06T11:26:35.484040Z",
     "iopub.status.busy": "2022-10-06T11:26:35.483804Z",
     "iopub.status.idle": "2022-10-06T11:26:45.095948Z",
     "shell.execute_reply": "2022-10-06T11:26:45.095251Z",
     "shell.execute_reply.started": "2022-10-06T11:26:35.484011Z"
    },
    "papermill": {},
    "tags": []
   },
   "outputs": [],
   "source": [
    "df_identity = linkedin.connect(LI_AT, JSESSIONID).profile.get_identity(PROFILE_URL)\n",
    "df_identity"
   ]
  },
  {
   "cell_type": "markdown",
   "id": "40ab8d5c-20bc-463b-acfb-17fe196dbe4e",
   "metadata": {
    "papermill": {},
    "tags": []
   },
   "source": [
    "### Get network"
   ]
  },
  {
   "cell_type": "code",
   "execution_count": 5,
   "id": "c93ff77d-83eb-4b05-8211-c17d2517a3ea",
   "metadata": {
    "execution": {
     "iopub.execute_input": "2022-10-06T11:26:59.595945Z",
     "iopub.status.busy": "2022-10-06T11:26:59.595706Z",
     "iopub.status.idle": "2022-10-06T11:27:08.994988Z",
     "shell.execute_reply": "2022-10-06T11:27:08.994390Z",
     "shell.execute_reply.started": "2022-10-06T11:26:59.595923Z"
    },
    "papermill": {},
    "tags": []
   },
   "outputs": [],
   "source": [
    "df_network = linkedin.connect(LI_AT, JSESSIONID).profile.get_network(PROFILE_URL)\n",
    "df_network"
   ]
  },
  {
   "cell_type": "markdown",
   "id": "bbecdf40-d328-436a-85bd-f68f1969823f",
   "metadata": {
    "papermill": {},
    "tags": []
   },
   "source": [
    "### Get contact"
   ]
  },
  {
   "cell_type": "code",
   "execution_count": 6,
   "id": "ef7c9ccf-61b4-4f90-8e18-53e55fae259b",
   "metadata": {
    "execution": {
     "iopub.execute_input": "2022-10-06T11:27:24.107344Z",
     "iopub.status.busy": "2022-10-06T11:27:24.107112Z",
     "iopub.status.idle": "2022-10-06T11:27:33.417738Z",
     "shell.execute_reply": "2022-10-06T11:27:33.409865Z",
     "shell.execute_reply.started": "2022-10-06T11:27:24.107322Z"
    },
    "papermill": {},
    "tags": []
   },
   "outputs": [],
   "source": [
    "df_contact = linkedin.connect(LI_AT, JSESSIONID).profile.get_contact(PROFILE_URL)\n",
    "df_contact"
   ]
  },
  {
   "cell_type": "markdown",
   "id": "eca7ea18-3bbe-45c9-b371-a9764c143f1d",
   "metadata": {
    "papermill": {},
    "tags": []
   },
   "source": [
    "### Get resume"
   ]
  },
  {
   "cell_type": "code",
   "execution_count": 7,
   "id": "miniature-manitoba",
   "metadata": {
    "execution": {
     "iopub.execute_input": "2022-10-06T11:27:45.390660Z",
     "iopub.status.busy": "2022-10-06T11:27:45.390430Z",
     "iopub.status.idle": "2022-10-06T11:27:46.272973Z",
     "shell.execute_reply": "2022-10-06T11:27:46.272446Z",
     "shell.execute_reply.started": "2022-10-06T11:27:45.390636Z"
    },
    "papermill": {},
    "tags": []
   },
   "outputs": [],
   "source": [
    "df_resume = linkedin.connect(LI_AT, JSESSIONID).profile.get_resume(PROFILE_URL)\n",
    "df_resume"
   ]
  },
  {
   "cell_type": "markdown",
   "id": "comic-sucking",
   "metadata": {
    "papermill": {},
    "tags": []
   },
   "source": [
    "## Output"
   ]
  },
  {
   "cell_type": "markdown",
   "id": "killing-trust",
   "metadata": {
    "papermill": {},
    "tags": []
   },
   "source": [
    "### Display result"
   ]
  }
 ],
 "metadata": {
  "kernelspec": {
   "display_name": "Python 3",
   "language": "python",
   "name": "python3"
  },
  "language_info": {
   "codemirror_mode": {
    "name": "ipython",
    "version": 3
   },
   "file_extension": ".py",
   "mimetype": "text/x-python",
   "name": "python",
   "nbconvert_exporter": "python",
   "pygments_lexer": "ipython3",
   "version": "3.9.6"
  },
  "naas": {
   "notebook_id": "047604be-ec28-4d12-9de2-08745fb9f5be",
   "notebook_path": "LinkedIn/LinkedIn_Get_resume_from_profile.ipynb"
  },
  "papermill": {
   "default_parameters": {},
   "environment_variables": {},
   "parameters": {},
   "version": "2.3.3"
  },
  "widgets": {
   "application/vnd.jupyter.widget-state+json": {
    "state": {},
    "version_major": 2,
    "version_minor": 0
   }
  }
 },
 "nbformat": 4,
 "nbformat_minor": 5
}