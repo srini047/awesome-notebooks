{
 "cells": [
  {
   "cell_type": "markdown",
   "id": "e04c2a66-0232-4311-8445-d69e43f287e7",
   "metadata": {
    "execution": {
     "iopub.execute_input": "2022-01-07T21:15:57.009861Z",
     "iopub.status.busy": "2022-01-07T21:15:57.009532Z",
     "iopub.status.idle": "2022-01-07T21:15:57.013136Z",
     "shell.execute_reply": "2022-01-07T21:15:57.012559Z",
     "shell.execute_reply.started": "2022-01-07T21:15:57.009826Z"
    },
    "papermill": {},
    "tags": []
   },
   "source": [
    "<img width=\"10%\" alt=\"Naas\" src=\"https://landen.imgix.net/jtci2pxwjczr/assets/5ice39g4.png?w=160\"/>"
   ]
  },
  {
   "cell_type": "markdown",
   "id": "47c20033-2e43-4c30-9d89-6fd47bfa98e9",
   "metadata": {
    "papermill": {},
    "tags": []
   },
   "source": [
    "# LinkedIn - Generate leads from posts\n",
    "<a href=\"https://app.naas.ai/user-redirect/naas/downloader?url=https://raw.githubusercontent.com/jupyter-naas/awesome-notebooks/master/LinkedIn/LinkedIn_Generate_leads_from_posts.ipynb\" target=\"_parent\"><img src=\"https://naasai-public.s3.eu-west-3.amazonaws.com/Open_in_Naas_Lab.svg\"/></a><br><br><a href=\"https://github.com/jupyter-naas/awesome-notebooks/issues/new?assignees=&labels=&template=template-request.md&title=Tool+-+Action+of+the+notebook+\">Template request</a> | <a href=\"https://github.com/jupyter-naas/awesome-notebooks/issues/new?assignees=&labels=bug&template=bug_report.md&title=LinkedIn+-+Generate+leads+from+posts:+Error+short+description\">Bug report</a> | <a href=\"https://app.naas.ai/user-redirect/naas/downloader?url=https://raw.githubusercontent.com/jupyter-naas/awesome-notebooks/master/Naas/Naas_Start_data_product.ipynb\" target=\"_parent\">Generate Data Product</a>"
   ]
  },
  {
   "cell_type": "markdown",
   "id": "6ec59f5e-ac9e-4ab0-a0e9-51b01b38dcaa",
   "metadata": {
    "papermill": {},
    "tags": []
   },
   "source": [
    "**Tags:** #linkedin #post #comments #naas_drivers #content #snippet #dataframe"
   ]
  },
  {
   "cell_type": "markdown",
   "id": "c40e4f30-0b07-4a3b-b39b-7cb460053f74",
   "metadata": {
    "papermill": {},
    "tags": []
   },
   "source": [
    "**Author:** [Alok Chilka](https://www.linkedin.com/in/calok64/)"
   ]
  },
  {
   "cell_type": "markdown",
   "id": "naas-description",
   "metadata": {
    "papermill": {},
    "tags": [
     "description"
    ]
   },
   "source": [
    "**Description:** This notebook provides a guide to leveraging LinkedIn posts to generate leads for your business."
   ]
  },
  {
   "cell_type": "markdown",
   "id": "9846b89f-86ce-476d-960a-76ede0babd56",
   "metadata": {
    "papermill": {},
    "tags": []
   },
   "source": [
    "\n",
    "<div class=\"alert alert-info\" role=\"info\" style=\"margin: 10px\">\n",
    "<b>Disclaimer:</b><br>\n",
    "This code is in no way affiliated with, authorized, maintained, sponsored or endorsed by Linkedin or any of its affiliates or subsidiaries. It uses an independent and unofficial API. Use at your own risk.\n",
    "\n",
    "This project violates Linkedin's User Agreement Section 8.2, and because of this, Linkedin may (and will) temporarily or permanently ban your account. We are not responsible for your account being banned.\n",
    "<br>\n",
    "</div>"
   ]
  },
  {
   "cell_type": "markdown",
   "id": "618b546f-943a-498c-9eb6-637a1e992f21",
   "metadata": {
    "papermill": {},
    "tags": []
   },
   "source": [
    "## Input"
   ]
  },
  {
   "cell_type": "markdown",
   "id": "91fc2ccf-9a27-40f4-bb62-df542a468bc6",
   "metadata": {
    "execution": {
     "iopub.execute_input": "2022-01-08T05:48:50.458541Z",
     "iopub.status.busy": "2022-01-08T05:48:50.458187Z",
     "iopub.status.idle": "2022-01-08T05:48:50.465249Z",
     "shell.execute_reply": "2022-01-08T05:48:50.464699Z",
     "shell.execute_reply.started": "2022-01-08T05:48:50.458451Z"
    },
    "papermill": {},
    "tags": []
   },
   "source": [
    "### Import libraries"
   ]
  },
  {
   "cell_type": "code",
   "execution_count": null,
   "id": "4f6774a6-ff96-4c39-87a7-69a1fd3777cc",
   "metadata": {
    "papermill": {},
    "tags": []
   },
   "outputs": [],
   "source": [
    "from naas_drivers import linkedin, hubspot\n",
    "import pandas as pd\n",
    "import numpy as np\n",
    "import naas\n",
    "from datetime import datetime, timedelta\n",
    "import requests\n",
    "import json"
   ]
  },
  {
   "cell_type": "markdown",
   "id": "958d3406-bf4c-48b9-b56b-ad4dad7caaae",
   "metadata": {
    "papermill": {},
    "tags": []
   },
   "source": [
    "### Setup your LinkedIn\n",
    "- Get your cookies : <a href='https://www.notion.so/LinkedIn-driver-Get-your-cookies-d20a8e7e508e42af8a5b52e33f3dba75'>How to get your cookies ?</a>"
   ]
  },
  {
   "cell_type": "code",
   "execution_count": null,
   "id": "cb06a98e-6e82-4a9e-bedc-9bc7a6cb30dc",
   "metadata": {
    "papermill": {},
    "tags": []
   },
   "outputs": [],
   "source": [
    "# Lindekin cookies\n",
    "LI_AT = \"AQEFALsBAAAAAAbjCtIAAAF_xxxxxxxxxxxxxxxxxxxxxxxxxxxxxxxxxxxxxxxxxxxx\"\n",
    "JSESSIONID = \"ajax:42778xxxxxxxxxxxxxxxxxxxxxxxxxxxxxxxx\"\n",
    "\n",
    "# Enter your profile URL\n",
    "PROFILE_URL = \"<YOUR_LINKEDIN_PROFILE_URL>\""
   ]
  },
  {
   "cell_type": "markdown",
   "id": "9c36c67b-2738-49c1-90f0-e742c7e1b40b",
   "metadata": {
    "papermill": {},
    "tags": []
   },
   "source": [
    "### Setup your HubSpot\n",
    "👉 Access your [HubSpot API key](https://knowledge.hubspot.com/integrations/how-do-i-get-my-hubspot-api-key)<br>\n",
    "👉 Get your HubSpot owner ID<br>\n",
    "👉 Get your HubSpot company ID from URL"
   ]
  },
  {
   "cell_type": "code",
   "execution_count": null,
   "id": "54e9a7db-a550-47d0-91b3-7b61ce615abd",
   "metadata": {
    "papermill": {},
    "tags": []
   },
   "outputs": [],
   "source": [
    "# HubSpot API key\n",
    "HS_API_TOKEN = \"<YOUR_HUBSPOT_API_TOKEN>\"\n",
    "\n",
    "# Your company located after \"reports-dashboard/\" when you are connected in HubSpot https://app.hubspot.com/reports-dashboard/2474088/view/244930\n",
    "HS_COMPANY_ID = \"<YOUR_HUBSPOT_COMPANY_ID>\"\n",
    "\n",
    "# Hubspot contact URL\n",
    "HS_CONTACT_URL = \"https://app.hubspot.com/contacts/\" + HS_COMPANY_ID + \"/contact/\"\n",
    "\n",
    "# Contact owner => contact id to whom task needs to be assigned\n",
    "HS_OWNER_ID = \"<YOUR_HUBSPOT_API_TOKEN>\"  # remove double quotes from owner id (to be added as integer value)\n",
    "\n",
    "# Time delay to set due date for tasks in days\n",
    "time_delay = 10\n",
    "\n",
    "# Calc timestamp\n",
    "tstampobj = datetime.now() + timedelta(days=time_delay)\n",
    "tstamp = tstampobj.timestamp() * 1000\n",
    "\n",
    "hs = hubspot.connect(HS_API_TOKEN)"
   ]
  },
  {
   "cell_type": "markdown",
   "id": "e83e32f8-9c09-440d-ae87-4f174dad44ee",
   "metadata": {
    "papermill": {},
    "tags": []
   },
   "source": [
    "### Setup your email to receive notifications"
   ]
  },
  {
   "cell_type": "code",
   "execution_count": null,
   "id": "f74f2901-5b69-4cb0-a111-065d6aec83a7",
   "metadata": {
    "papermill": {},
    "tags": []
   },
   "outputs": [],
   "source": [
    "SEND_EMAIL_TO = \"<YOUR_EMAIL_ID>\""
   ]
  },
  {
   "cell_type": "markdown",
   "id": "43fff853-fdf1-4949-a781-43b31e65cce9",
   "metadata": {
    "papermill": {},
    "tags": []
   },
   "source": [
    "## Model"
   ]
  },
  {
   "cell_type": "markdown",
   "id": "662dcde3-5093-4635-8971-677853e52f3e",
   "metadata": {
    "papermill": {},
    "tags": []
   },
   "source": [
    "### Get posts from LinkedIn feed"
   ]
  },
  {
   "cell_type": "code",
   "execution_count": null,
   "id": "944f85cd-f3ed-45b2-867c-965f8eca83eb",
   "metadata": {
    "papermill": {},
    "tags": []
   },
   "outputs": [],
   "source": [
    "df_posts = linkedin.connect(LI_AT, JSESSIONID).profile.get_posts_feed(\n",
    "    PROFILE_URL, count=100\n",
    ")\n",
    "df_posts.head()"
   ]
  },
  {
   "cell_type": "markdown",
   "id": "220f2008-106d-439a-a4bc-caa3200f3adc",
   "metadata": {
    "papermill": {},
    "tags": []
   },
   "source": [
    "### Get likes from LinkedIn posts"
   ]
  },
  {
   "cell_type": "code",
   "execution_count": null,
   "id": "96053b77-ad3f-4eb0-8234-d06d52425678",
   "metadata": {
    "papermill": {},
    "tags": []
   },
   "outputs": [],
   "source": [
    "def get_likes(df_posts):\n",
    "    DF_all_post_likes = pd.DataFrame()\n",
    "    for index, row in df_posts.iterrows():\n",
    "        df = linkedin.connect(LI_AT, JSESSIONID).post.get_likes(row[\"POST_URL\"])\n",
    "        DF_all_post_likes = DF_all_post_likes.append(df)"
   ]
  },
  {
   "cell_type": "code",
   "execution_count": null,
   "id": "c49b2635-dee7-47f0-bf5a-07a5b1e8b64f",
   "metadata": {
    "papermill": {},
    "tags": []
   },
   "outputs": [],
   "source": [
    "get_likes(df_posts)"
   ]
  },
  {
   "cell_type": "markdown",
   "id": "5ef4e8a6-6622-4fbc-a10a-d7944a05c988",
   "metadata": {
    "execution": {
     "iopub.execute_input": "2022-02-17T15:13:44.175165Z",
     "iopub.status.busy": "2022-02-17T15:13:44.174981Z",
     "iopub.status.idle": "2022-02-17T15:13:44.180684Z",
     "shell.execute_reply": "2022-02-17T15:13:44.180104Z",
     "shell.execute_reply.started": "2022-02-17T15:13:44.175144Z"
    },
    "papermill": {},
    "tags": []
   },
   "source": [
    "### Get number of likes by profile"
   ]
  },
  {
   "cell_type": "code",
   "execution_count": null,
   "id": "fcdc84a2-2f23-4faf-ad83-f32a41b1a710",
   "metadata": {
    "papermill": {},
    "tags": []
   },
   "outputs": [],
   "source": [
    "def count_likes(df):\n",
    "    to_group = [\"PROFILE_URN\", \"PROFILE_ID\", \"FIRSTNAME\", \"LASTNAME\"]\n",
    "    # df = df.groupby(to_group, as_index=False).agg({\"PROFILE_ID\": \"count\"}).reset_index(name='count')\n",
    "    # df = df.sort_values(by=\"PROFILE_ID\", ascending=False)\n",
    "    df2 = (\n",
    "        df.groupby([\"PROFILE_ID\"])\n",
    "        .size()\n",
    "        .sort_values(ascending=False)\n",
    "        .reset_index(name=\"LIKE_COUNT\")\n",
    "    )\n",
    "    return df2\n",
    "\n",
    "\n",
    "df_counts = count_likes(DF_all_post_likes)\n",
    "df_counts"
   ]
  },
  {
   "cell_type": "markdown",
   "id": "66e25232-59ba-4460-90d9-f2fd0faa359c",
   "metadata": {
    "papermill": {},
    "tags": []
   },
   "source": [
    "### Apply classification to get potential lead"
   ]
  },
  {
   "cell_type": "markdown",
   "id": "3f689903-8902-4f72-ba76-0df01aaac455",
   "metadata": {
    "papermill": {},
    "tags": []
   },
   "source": [
    "- Grouping the like count and classify the leads as per levels i.e. <b>L1, L2, L3, L4.</b> ( from highest to lowest counts of likes) with column name <b>\"POTENTIAL LEAD\"</b>\n",
    "- Group posts as per the the column <b>\"POTENTIAL LEAD\"</b>"
   ]
  },
  {
   "cell_type": "code",
   "execution_count": null,
   "id": "d934974d-d025-402e-a0ec-ded9192f52e8",
   "metadata": {
    "papermill": {},
    "tags": []
   },
   "outputs": [],
   "source": [
    "max_likes = df_counts[\"LIKE_COUNT\"].max()\n",
    "cluster_1 = round(max_likes * 0.1, 0)\n",
    "cluster_2 = round(max_likes * 0.5, 0)\n",
    "cluster_3 = round(max_likes * 0.8, 0)"
   ]
  },
  {
   "cell_type": "code",
   "execution_count": null,
   "id": "f8463d36-9549-4ca9-b0d8-0b41eab0bde1",
   "metadata": {
    "papermill": {},
    "tags": []
   },
   "outputs": [],
   "source": [
    "conditions = [\n",
    "    (df_counts[\"LIKE_COUNT\"] <= cluster_1),\n",
    "    (df_counts[\"LIKE_COUNT\"] > cluster_1) & (df_counts[\"LIKE_COUNT\"] <= cluster_2),\n",
    "    (df_counts[\"LIKE_COUNT\"] > cluster_2) & (df_counts[\"LIKE_COUNT\"] <= cluster_3),\n",
    "    (df_counts[\"LIKE_COUNT\"] > cluster_3),\n",
    "]\n",
    "\n",
    "values = [\"L4\", \"L3\", \"L2\", \"L1\"]"
   ]
  },
  {
   "cell_type": "code",
   "execution_count": null,
   "id": "0eebb5b5-1e19-4e4c-839d-3cf172ea13e7",
   "metadata": {
    "papermill": {},
    "tags": []
   },
   "outputs": [],
   "source": [
    "df_counts[\"POTENTIAL_LEAD\"] = np.select(conditions, values)\n",
    "df_counts"
   ]
  },
  {
   "cell_type": "markdown",
   "id": "68d17abb-d20f-4f01-8a0a-cb2a0a25b9b7",
   "metadata": {
    "papermill": {},
    "tags": []
   },
   "source": [
    "### Get profile details based on the POST_URL above\n",
    "- filter rows from \"grouped_profile_posts\" dataframe based on L1, L2, & L3 levels and add data to dataframe \"df_leads\"\n",
    "- Iterate through dataframe \"df_leads\" and add items to leads_list\n",
    "- Extract EMAIL, FIRSTNAME, LASTNAME, PHONE_NUMBER, OCCUPATION from profile URL"
   ]
  },
  {
   "cell_type": "code",
   "execution_count": null,
   "id": "fafabe26-8bc3-412e-9e3e-f8c897c9ede6",
   "metadata": {
    "papermill": {},
    "tags": []
   },
   "outputs": [],
   "source": [
    "df_leads = df_counts.loc[df_counts[\"POTENTIAL_LEAD\"].isin([\"L1\", \"L2\"])]\n",
    "df_leads"
   ]
  },
  {
   "cell_type": "code",
   "execution_count": null,
   "id": "f9067787-53d3-4046-887e-66b78e183218",
   "metadata": {
    "papermill": {},
    "tags": []
   },
   "outputs": [],
   "source": [
    "leads_list = []\n",
    "\n",
    "r_count = 1\n",
    "\n",
    "for index, row in df_leads.iterrows():\n",
    "    profileid = row[\"PROFILE_ID\"]\n",
    "    profileurl = \"https://www.linkedin.com/in/\" + profileid + \"/\"\n",
    "\n",
    "    PROFILECONTACTS = linkedin.connect(LI_AT, JSESSIONID).profile.get_contact(\n",
    "        profileurl\n",
    "    )\n",
    "    PROFILEIDENTITY = linkedin.connect(LI_AT, JSESSIONID).profile.get_identity(\n",
    "        profileurl\n",
    "    )\n",
    "\n",
    "    profileemail = PROFILECONTACTS.at[0, \"EMAIL\"]\n",
    "    profilephoneno = PROFILECONTACTS.at[0, \"PHONENUMBER\"]\n",
    "    profilename = (\n",
    "        PROFILEIDENTITY.at[0, \"FIRSTNAME\"] + \" \" + PROFILEIDENTITY.at[0, \"LASTNAME\"]\n",
    "    )\n",
    "    profilefirstname = PROFILEIDENTITY.at[0, \"FIRSTNAME\"]\n",
    "    profilelastname = PROFILEIDENTITY.at[0, \"LASTNAME\"]\n",
    "    profileoccupation = PROFILEIDENTITY.at[0, \"OCCUPATION\"]\n",
    "    leads_list.append(\n",
    "        [\n",
    "            profilename,\n",
    "            profilefirstname,\n",
    "            profilelastname,\n",
    "            profileemail,\n",
    "            profilephoneno,\n",
    "            profileoccupation,\n",
    "            profileurl,\n",
    "        ]\n",
    "    )\n",
    "    r_count = r_count + 1"
   ]
  },
  {
   "cell_type": "markdown",
   "id": "9e10604f-fb16-482c-bd52-dba4ef8a6543",
   "metadata": {
    "papermill": {},
    "tags": []
   },
   "source": [
    "### Create hubspot contacts from linkedin likes"
   ]
  },
  {
   "cell_type": "markdown",
   "id": "a6062eab-7760-4e84-8427-ea957f90337a",
   "metadata": {
    "papermill": {},
    "tags": []
   },
   "source": [
    "<h4>HS_CONTACT_ID_LIST</h4> - The list to store the contact id recently created and the linkedin profile URL of associated contact"
   ]
  },
  {
   "cell_type": "code",
   "execution_count": null,
   "id": "196132dc-5c94-4e54-91be-2f7bc1a2ecda",
   "metadata": {
    "papermill": {},
    "tags": []
   },
   "outputs": [],
   "source": [
    "# to store the resulting output of create contact method\n",
    "contact_id = \"\"\n",
    "HS_CONTACT_ID_LIST = []\n",
    "for i in leads_list:\n",
    "    profilename = i[0]\n",
    "    profilefirstname = i[1]\n",
    "    profilelastname = i[2]\n",
    "    profileemail = i[3]\n",
    "    profilephoneno = i[4]\n",
    "    profileoccupation = i[5]\n",
    "    profileurl = i[6]\n",
    "    # With send method\n",
    "    data = {\n",
    "        \"properties\": {\n",
    "            \"linkedinbio\": profileurl,\n",
    "            \"firstname\": profilefirstname,\n",
    "            \"lastname\": profilelastname,\n",
    "            \"jobtitle\": profileoccupation,\n",
    "            \"email\": profileemail,\n",
    "            \"phone\": profilephoneno,\n",
    "            \"hubspot_owner_id\": 111111086,\n",
    "        }\n",
    "    }\n",
    "    # write data to CRM ( create new contact in CRM)\n",
    "\n",
    "    contact_id = hs.contacts.send(data)\n",
    "    HS_CONTACT_ID_LIST.append([contact_id, profileurl])"
   ]
  },
  {
   "cell_type": "markdown",
   "id": "02470e18-f78e-4cdf-9e74-2316b608ace3",
   "metadata": {
    "papermill": {},
    "tags": []
   },
   "source": [
    "<h4>Build Email Template</h4> \n",
    "- This includes the hubspot contact_id, contact URL and LinkedIN URL"
   ]
  },
  {
   "cell_type": "code",
   "execution_count": null,
   "id": "ecb7a24b-9085-4ed1-a572-0742d82b9cca",
   "metadata": {
    "papermill": {},
    "tags": []
   },
   "outputs": [],
   "source": [
    "table_header = f'<table style=\"border-collapse:collapse;border-spacing:0;font-family:Arial\"><thead><tr><th style=\"border-color:black;border-style:solid;border-width:1px;padding:6px 10px;text-align:left\">Contact ID</th><th style=\"border-color:black;border-style:solid;border-width:1px;padding:6px 10px;text-align:left\">Hubspot URL</th><th style=\"border-color:black;border-style:solid;border-width:1px;padding:6px 10px;text-align:left\">LinkedIN URL</th></tr></thead><tbody>'\n",
    "table_body = \"\"\n",
    "table_footer = \"</tbody></table>\"\n",
    "\n",
    "for i in HS_CONTACT_ID_LIST:\n",
    "    hs_contact_url = HS_CONTACT_URL + i[0]\n",
    "    linkedin_url = i[1]\n",
    "    tablerow = (\n",
    "        '<tr><td style=\"border-color:black;border-style:solid;border-width:1px;padding:6px 10px;\">'\n",
    "        + i[0]\n",
    "        + '</td><td style=\"border-color:black;border-style:solid;border-width:1px;padding:6px 10px;\">'\n",
    "        + hs_contact_url\n",
    "        + '</td><td style=\"border-color:black;border-style:solid;border-width:1px;padding:6px 10px;\">'\n",
    "        + linkedin_url\n",
    "        + \"</td></tr>\"\n",
    "    )\n",
    "    table_body = table_body + tablerow\n",
    "\n",
    "table = table_header + table_body + table_footer\n",
    "\n",
    "email_body = (\n",
    "    f'<p style=\"font-family:Arial\">Hi there,</p><br/><p style=\"font-family:Arial\">Following new task(s) has been created for you :</p><br/>'\n",
    "    + table\n",
    ")"
   ]
  },
  {
   "cell_type": "markdown",
   "id": "39778dc2-266c-458a-bfaa-3f7a9e4e510c",
   "metadata": {
    "papermill": {},
    "tags": []
   },
   "source": [
    "## Output"
   ]
  },
  {
   "cell_type": "markdown",
   "id": "703dead5-98cf-4fe4-8ddb-342e1abcd484",
   "metadata": {
    "papermill": {},
    "tags": []
   },
   "source": [
    "### Create tasks for user and send email notification"
   ]
  },
  {
   "cell_type": "code",
   "execution_count": null,
   "id": "694dfd97-9816-4dc1-930a-04e19e3145ba",
   "metadata": {
    "papermill": {},
    "tags": []
   },
   "outputs": [],
   "source": [
    "def create_task(\n",
    "    owner_id,\n",
    "    tstamp,\n",
    "    contact_id,\n",
    "    contact_props,\n",
    "    contact_linkedin_url,\n",
    "    hs_contact_url,\n",
    "    engagement=\"TASK\",\n",
    "):\n",
    "    \"\"\"owner_id=HS_OWNER_ID, tstamp=tstamp, subject=subject, body=body, status=status, engagement=\"TASK\"\n",
    "    Engagement type = TASK | NOTE | EMAIL | MEETING | CALL\n",
    "    \"\"\"\n",
    "\n",
    "    payload = json.dumps(\n",
    "        {\n",
    "            \"engagement\": {\n",
    "                \"active\": \"true\",\n",
    "                \"ownerId\": 111111086,\n",
    "                \"type\": \"TASK\",\n",
    "                \"timestamp\": tstamp,\n",
    "            },\n",
    "            \"associations\": {\n",
    "                \"contactIds\": [1551],\n",
    "                \"companyIds\": [],\n",
    "                \"dealIds\": [],\n",
    "                \"ownerIds\": [],\n",
    "            },\n",
    "            \"metadata\": {\n",
    "                \"body\": \"Hi there, you need to contact following user & task is already assigned to you.<br/>\"\n",
    "                + \"Name :\"\n",
    "                + contact_props[\"firstname\"]\n",
    "                + contact_props[\"lastname\"]\n",
    "                + \" Contact URL : \"\n",
    "                + hs_contact_url,\n",
    "                \"subject\": \"Task created for Contact ID :\" + contact_id,\n",
    "                \"status\": \"NOT_STARTED\",\n",
    "                \"forObjectType\": \"CONTACT\",\n",
    "            },\n",
    "        }\n",
    "    )\n",
    "    url = \"https://api.hubapi.com/engagements/v1/engagements\"\n",
    "    params = {\"hapikey\": HS_API_TOKEN}\n",
    "    headers = {\"Content-Type\": \"application/json\"}\n",
    "    # Post requests\n",
    "    res = requests.post(url, data=payload, headers=headers, params=params)\n",
    "\n",
    "    # Check requests\n",
    "    try:\n",
    "        res.raise_for_status()\n",
    "    except requests.HTTPError as e:\n",
    "        raise (e)\n",
    "    res_json = res.json()\n",
    "\n",
    "    # Fetch the task id of the current task created\n",
    "    task_id = res_json.get(\"engagement\").get(\"id\")\n",
    "    print(\"🎆 Task created successfully: \", task_id)\n",
    "\n",
    "    return res_json"
   ]
  },
  {
   "cell_type": "code",
   "execution_count": null,
   "id": "6f76137d-aff9-4172-82c0-ae9a35875f8a",
   "metadata": {
    "papermill": {},
    "tags": []
   },
   "outputs": [],
   "source": [
    "TASK_ID_LIST = []\n",
    "for i in HS_CONTACT_ID_LIST:\n",
    "    contact_id = i[0]\n",
    "    contact = hs.contacts.get(contact_id)\n",
    "    contact_props = contact.get(\"properties\")\n",
    "    contact_linkedin_url = i[1]\n",
    "    hs_contact_url = HS_CONTACT_URL + contact_id\n",
    "    # print(hs_contact_url)\n",
    "    result = create_task(\n",
    "        owner_id=HS_OWNER_ID,\n",
    "        tstamp=tstamp,\n",
    "        contact_id=contact_id,\n",
    "        contact_props=contact_props,\n",
    "        contact_linkedin_url=contact_linkedin_url,\n",
    "        hs_contact_url=hs_contact_url,\n",
    "        engagement=\"TASK\",\n",
    "    )\n",
    "    TASK_ID_LIST.append(result.get(\"engagement\").get(\"id\"))"
   ]
  },
  {
   "cell_type": "code",
   "execution_count": null,
   "id": "05a17784-282e-4c16-9921-b60989ef2858",
   "metadata": {
    "papermill": {},
    "tags": []
   },
   "outputs": [],
   "source": [
    "if not TASK_ID_LIST:\n",
    "    print(\"No tasks created\")\n",
    "else:\n",
    "    email_to = SEND_EMAIL_TO  # to send the report\n",
    "    subject = \"LinkedIN Leads Alert\"\n",
    "    content = email_body\n",
    "\n",
    "    naas.notification.send(email_to=email_to, subject=subject, html=content)"
   ]
  },
  {
   "cell_type": "code",
   "execution_count": null,
   "id": "26559471-a2f3-4c9d-affa-5a011bf1bd58",
   "metadata": {
    "papermill": {},
    "tags": []
   },
   "outputs": [],
   "source": []
  }
 ],
 "metadata": {
  "kernelspec": {
   "display_name": "Python 3",
   "language": "python",
   "name": "python3"
  },
  "language_info": {
   "codemirror_mode": {
    "name": "ipython",
    "version": 3
   },
   "file_extension": ".py",
   "mimetype": "text/x-python",
   "name": "python",
   "nbconvert_exporter": "python",
   "pygments_lexer": "ipython3",
   "version": "3.9.6"
  },
  "naas": {
   "notebook_id": "90e6b184ce0fb7a0025c4af64f6ced3cc38deae800bfed2b23bf3f696371c259",
   "notebook_path": "LinkedIn/LinkedIn_Generate_leads_from_posts.ipynb"
  },
  "papermill": {
   "default_parameters": {},
   "environment_variables": {},
   "parameters": {},
   "version": "2.3.4"
  }
 },
 "nbformat": 4,
 "nbformat_minor": 5
}