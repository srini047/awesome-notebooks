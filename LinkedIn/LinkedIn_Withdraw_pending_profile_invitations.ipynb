{
 "cells": [
  {
   "cell_type": "markdown",
   "id": "composite-guinea",
   "metadata": {
    "execution": {
     "iopub.execute_input": "2021-01-25T08:00:35.294800Z",
     "iopub.status.busy": "2021-01-25T08:00:35.294557Z",
     "iopub.status.idle": "2021-01-25T08:00:35.307281Z",
     "shell.execute_reply": "2021-01-25T08:00:35.306468Z",
     "shell.execute_reply.started": "2021-01-25T08:00:35.294775Z"
    },
    "papermill": {},
    "tags": []
   },
   "source": [
    "<img width=\"10%\" alt=\"Naas\" src=\"https://landen.imgix.net/jtci2pxwjczr/assets/5ice39g4.png?w=160\"/>"
   ]
  },
  {
   "cell_type": "markdown",
   "id": "ultimate-physiology",
   "metadata": {
    "papermill": {},
    "tags": []
   },
   "source": [
    "# LinkedIn - Withdraw pending profile invitations\n",
    "<a href=\"https://app.naas.ai/user-redirect/naas/downloader?url=https://raw.githubusercontent.com/jupyter-naas/awesome-notebooks/master/LinkedIn/LinkedIn_Withdraw_pending_profile_invitations.ipynb\" target=\"_parent\"><img src=\"https://naasai-public.s3.eu-west-3.amazonaws.com/open_in_naas.svg\"/></a><br><br><a href=\"https://github.com/jupyter-naas/awesome-notebooks/issues/new?assignees=&labels=&template=template-request.md&title=Tool+-+Action+of+the+notebook+\">Template request</a> | <a href=\"https://github.com/jupyter-naas/awesome-notebooks/issues/new?assignees=&labels=bug&template=bug_report.md&title=LinkedIn+-+Withdraw+pending+profile+invitations:+Error+short+description\">Bug report</a>"
   ]
  },
  {
   "cell_type": "markdown",
   "id": "05c7e6ad-4c2e-415c-b9c5-1811ad14d4be",
   "metadata": {
    "papermill": {},
    "tags": []
   },
   "source": [
    "**Tags:** #linkedin #invitation #pending #naas_drivers #content #automation"
   ]
  },
  {
   "cell_type": "markdown",
   "id": "8b4f752b-1016-4c81-81ba-ecc5c1b81c58",
   "metadata": {
    "papermill": {},
    "tags": []
   },
   "source": [
    "**Author:** [Florent Ravenel](https://www.linkedin.com/in/florent-ravenel/)"
   ]
  },
  {
   "cell_type": "markdown",
   "id": "naas-description",
   "metadata": {
    "papermill": {},
    "tags": [
     "description"
    ]
   },
   "source": [
    "**Description:** This notebook allows users to view and manage pending profile invitations sent through LinkedIn."
   ]
  },
  {
   "cell_type": "markdown",
   "id": "yellow-clear",
   "metadata": {
    "papermill": {},
    "tags": []
   },
   "source": [
    "## Input"
   ]
  },
  {
   "cell_type": "markdown",
   "id": "import_cell",
   "metadata": {
    "papermill": {},
    "tags": []
   },
   "source": [
    "### Import libraries"
   ]
  },
  {
   "cell_type": "code",
   "execution_count": null,
   "id": "demographic-kennedy",
   "metadata": {
    "papermill": {},
    "tags": []
   },
   "outputs": [],
   "source": [
    "from naas_drivers import linkedin\n",
    "import pandas as pd\n",
    "import naas\n",
    "import time\n",
    "from datetime import datetime\n",
    "from dateutil.relativedelta import relativedelta\n",
    "import json\n",
    "import requests"
   ]
  },
  {
   "cell_type": "markdown",
   "id": "asian-theta",
   "metadata": {
    "papermill": {},
    "tags": []
   },
   "source": [
    "### Setup LinkedIn\n",
    "👉 <a href='https://www.notion.so/LinkedIn-driver-Get-your-cookies-d20a8e7e508e42af8a5b52e33f3dba75'>How to get your cookies ?</a>"
   ]
  },
  {
   "cell_type": "code",
   "execution_count": null,
   "id": "timely-columbus",
   "metadata": {
    "papermill": {},
    "tags": []
   },
   "outputs": [],
   "source": [
    "# Credentials\n",
    "LI_AT = (\n",
    "    naas.secret.get(\"LINKEDIN_LI_AT\")\n",
    "    or \"AQFAzQN_PLPR4wAAAXc-FCKmgiMit5FLdY1af3-2AAXc-FCKmgiMit5FLdY1AAXc-FCKmgiMit5FLdY1\"\n",
    ")\n",
    "JSESSIONID = naas.secret.get(\"LINKEDIN_JSESSIONID\") or \"ajax:8379907400220XXXXX\""
   ]
  },
  {
   "cell_type": "markdown",
   "id": "80d63297-e65a-45a9-aab0-a4c5670c4e96",
   "metadata": {
    "papermill": {},
    "tags": []
   },
   "source": [
    "### Setup limit"
   ]
  },
  {
   "cell_type": "code",
   "execution_count": null,
   "id": "cfeeaa66-42b6-4c66-aeda-c4b4194ff316",
   "metadata": {
    "papermill": {},
    "tags": []
   },
   "outputs": [],
   "source": [
    "# Invitations pending limit in month(s)\n",
    "LIMIT = 3"
   ]
  },
  {
   "cell_type": "markdown",
   "id": "003c5615-3a53-4c8c-b45a-fccfb1bc998c",
   "metadata": {
    "papermill": {},
    "tags": []
   },
   "source": [
    "### Setup Naas scheduler\n",
    "For information on changing this setting, please check https://crontab.guru/ for information on the required CRON syntax "
   ]
  },
  {
   "cell_type": "code",
   "execution_count": null,
   "id": "d438595d-575a-48ac-8161-d503d9860366",
   "metadata": {
    "papermill": {},
    "tags": []
   },
   "outputs": [],
   "source": [
    "# the default settings below will make the notebook run everyday at 14:00 on Friday\n",
    "SCHEDULER_CRON = \"0 14 * * 5\""
   ]
  },
  {
   "cell_type": "markdown",
   "id": "crude-melbourne",
   "metadata": {
    "papermill": {},
    "tags": []
   },
   "source": [
    "## Model"
   ]
  },
  {
   "cell_type": "markdown",
   "id": "302fb976-096a-497d-88c6-f85d4a0c49e5",
   "metadata": {
    "papermill": {},
    "tags": []
   },
   "source": [
    "### Get invitations sent"
   ]
  },
  {
   "cell_type": "code",
   "execution_count": null,
   "id": "4dc8ab54-9aa7-485b-9f88-50d640bbd636",
   "metadata": {
    "papermill": {},
    "tags": []
   },
   "outputs": [],
   "source": [
    "df_invitations_sent = linkedin.connect(LI_AT, JSESSIONID).invitation.get_sent()\n",
    "print(\"Pending invitations:\", len(df_invitations_sent))\n",
    "df_invitations_sent.head(1)"
   ]
  },
  {
   "cell_type": "markdown",
   "id": "738d54a5-f726-4a2a-b143-5a52d2c3ce82",
   "metadata": {
    "execution": {
     "iopub.execute_input": "2022-08-26T15:23:56.557153Z",
     "iopub.status.busy": "2022-08-26T15:23:56.556924Z",
     "iopub.status.idle": "2022-08-26T15:23:56.560168Z",
     "shell.execute_reply": "2022-08-26T15:23:56.559457Z",
     "shell.execute_reply.started": "2022-08-26T15:23:56.557129Z"
    },
    "papermill": {},
    "tags": []
   },
   "source": [
    "### Filter invitations pending > limit"
   ]
  },
  {
   "cell_type": "code",
   "execution_count": null,
   "id": "dc0ee778-1df6-4d5e-ac39-194f688ddc3a",
   "metadata": {
    "papermill": {},
    "tags": []
   },
   "outputs": [],
   "source": [
    "def out_of_limit(df):\n",
    "    # Get limit date\n",
    "    date_limit = datetime.today() - relativedelta(months=LIMIT)\n",
    "\n",
    "    # Create time diff columns\n",
    "    df.loc[:, \"TIME_DIFF\"] = 0\n",
    "    df.loc[pd.to_datetime(df[\"SENT_AT\"]) < date_limit, \"TIME_DIFF\"] = 1\n",
    "\n",
    "    # Filter on limit exceed\n",
    "    df = df[df[\"TIME_DIFF\"] == 1]\n",
    "    return df.reset_index(drop=True)\n",
    "\n",
    "\n",
    "df_withdraw = out_of_limit(df_invitations_sent)\n",
    "print(\"Invitations to withdraw:\", len(df_withdraw))\n",
    "df_withdraw.head(1)"
   ]
  },
  {
   "cell_type": "markdown",
   "id": "260a2dce-8035-4fb1-9b7e-ba1bfdbe5606",
   "metadata": {
    "papermill": {},
    "tags": []
   },
   "source": [
    "### Witdraw invitations sent pending"
   ]
  },
  {
   "cell_type": "code",
   "execution_count": null,
   "id": "9ccf66d6-8c8c-4696-981c-7c7ba2708e0c",
   "metadata": {
    "papermill": {},
    "tags": []
   },
   "outputs": [],
   "source": [
    "def withdraw_invitation(invitation_id):\n",
    "    LinkedIn = linkedin.connect(LI_AT, JSESSIONID)\n",
    "    cookies = LinkedIn.cookies\n",
    "    headers = LinkedIn.headers\n",
    "    payload = {\n",
    "        \"inviteActionType\": \"ACTOR_WITHDRAW\",\n",
    "        \"inviteActionData\": [\n",
    "            {\n",
    "                \"entityUrn\": f\"urn:li:fs_relInvitation:{invitation_id}\",\n",
    "                \"genericInvitation\": False,\n",
    "                \"genericInvitationType\": \"CONNECTION\",\n",
    "            }\n",
    "        ],\n",
    "    }\n",
    "    req_url = \"https://www.linkedin.com/voyager/api/relationships/invitations?action=closeInvitations\"\n",
    "    res = requests.post(\n",
    "        req_url, data=json.dumps(payload), cookies=cookies, headers=headers\n",
    "    )\n",
    "    res.raise_for_status()\n",
    "    res_json = res.json()\n",
    "    return res_json\n",
    "\n",
    "\n",
    "def withdraw_invitations(df):\n",
    "    for index, row in df.iterrows():\n",
    "        fullname = row[\"FULLNAME\"]\n",
    "        invitation_id = row[\"INVITATION_ID\"]\n",
    "        print(f\"➡️ Withdrawing from invitations pending:\", fullname)\n",
    "\n",
    "        # Get distance with profile\n",
    "        try:\n",
    "            withdraw_invitation(invitation_id)\n",
    "        except Exception as e:\n",
    "            print(\"❌ Withdraw not available\", e)\n",
    "        time.sleep(3)\n",
    "    return df\n",
    "\n",
    "\n",
    "withdraw_invitations(df_withdraw)"
   ]
  },
  {
   "cell_type": "markdown",
   "id": "correct-birth",
   "metadata": {
    "papermill": {},
    "tags": []
   },
   "source": [
    "## Output"
   ]
  },
  {
   "cell_type": "markdown",
   "id": "0cb91670-f62b-43f2-9b59-03269cbbf02c",
   "metadata": {
    "papermill": {},
    "tags": []
   },
   "source": [
    "### Automate your task"
   ]
  },
  {
   "cell_type": "code",
   "execution_count": null,
   "id": "9e5a9207-28e9-430d-8cc0-c6509c1ffc78",
   "metadata": {
    "papermill": {},
    "tags": []
   },
   "outputs": [],
   "source": [
    "naas.scheduler.add(cron=SCHEDULER_CRON)\n",
    "\n",
    "# to de-schedule this notebook, simply run the following command:\n",
    "# naas.scheduler.delete()"
   ]
  }
 ],
 "metadata": {
  "kernelspec": {
   "display_name": "Python 3",
   "language": "python",
   "name": "python3"
  },
  "language_info": {
   "codemirror_mode": {
    "name": "ipython",
    "version": 3
   },
   "file_extension": ".py",
   "mimetype": "text/x-python",
   "name": "python",
   "nbconvert_exporter": "python",
   "pygments_lexer": "ipython3",
   "version": "3.9.6"
  },
  "naas": {
   "notebook_id": "ed7bdd79-4898-44f1-ab13-31a7e71486e0",
   "notebook_path": "LinkedIn/LinkedIn_Send_likes_from_post_to_gsheet.ipynb"
  },
  "papermill": {
   "default_parameters": {},
   "environment_variables": {},
   "parameters": {},
   "version": "2.3.3"
  },
  "widgets": {
   "application/vnd.jupyter.widget-state+json": {
    "state": {},
    "version_major": 2,
    "version_minor": 0
   }
  }
 },
 "nbformat": 4,
 "nbformat_minor": 5
}