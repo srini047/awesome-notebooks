{
 "cells": [
  {
   "cell_type": "markdown",
   "id": "c706722a",
   "metadata": {
    "papermill": {},
    "tags": []
   },
   "source": [
    "<img width=\"10%\" alt=\"Naas\" src=\"https://landen.imgix.net/jtci2pxwjczr/assets/5ice39g4.png?w=160\"/>\n"
   ]
  },
  {
   "cell_type": "markdown",
   "id": "3cf2d443",
   "metadata": {
    "papermill": {},
    "tags": []
   },
   "source": [
    "# LinkedIn - Get invitations received\n",
    "<a href=\"https://app.naas.ai/user-redirect/naas/downloader?url=https://raw.githubusercontent.com/jupyter-naas/awesome-notebooks/master/LinkedIn/LinkedIn_Get_invitations_received.ipynb\" target=\"_parent\"><img src=\"https://naasai-public.s3.eu-west-3.amazonaws.com/Open_in_Naas_Lab.svg\"/></a><br><br><a href=\"https://github.com/jupyter-naas/awesome-notebooks/issues/new?assignees=&labels=&template=template-request.md&title=Tool+-+Action+of+the+notebook+\">Template request</a> | <a href=\"https://github.com/jupyter-naas/awesome-notebooks/issues/new?assignees=&labels=bug&template=bug_report.md&title=LinkedIn+-+Get+invitations+received:+Error+short+description\">Bug report</a> | <a href=\"https://app.naas.ai/user-redirect/naas/downloader?url=https://raw.githubusercontent.com/jupyter-naas/awesome-notebooks/master/Naas/Naas_Start_data_product.ipynb\" target=\"_parent\">Generate Data Product</a>"
   ]
  },
  {
   "cell_type": "markdown",
   "id": "1f9921af",
   "metadata": {
    "papermill": {},
    "tags": []
   },
   "source": [
    "**Tags:** #linkedin #content #operations #snippet #invitation #dataframe"
   ]
  },
  {
   "cell_type": "markdown",
   "id": "a51124f7",
   "metadata": {
    "papermill": {},
    "tags": []
   },
   "source": [
    "**Author:** [Florent Ravenel](https://www.linkedin.com/in/ACoAABCNSioBW3YZHc2lBHVG0E_TXYWitQkmwog/)"
   ]
  },
  {
   "cell_type": "markdown",
   "id": "naas-description",
   "metadata": {
    "papermill": {},
    "tags": [
     "description"
    ]
   },
   "source": [
    "**Description:** This notebook provides an overview of invitations received on LinkedIn."
   ]
  },
  {
   "cell_type": "markdown",
   "id": "c0284963-0179-4ea2-aa19-fb055e0034e7",
   "metadata": {
    "papermill": {},
    "tags": []
   },
   "source": [
    "\n",
    "<div class=\"alert alert-info\" role=\"info\" style=\"margin: 10px\">\n",
    "<b>Disclaimer:</b><br>\n",
    "This code is in no way affiliated with, authorized, maintained, sponsored or endorsed by Linkedin or any of its affiliates or subsidiaries. It uses an independent and unofficial API. Use at your own risk.\n",
    "\n",
    "This project violates Linkedin's User Agreement Section 8.2, and because of this, Linkedin may (and will) temporarily or permanently ban your account. We are not responsible for your account being banned.\n",
    "<br>\n",
    "</div>"
   ]
  },
  {
   "cell_type": "markdown",
   "id": "ce6f8812",
   "metadata": {
    "papermill": {},
    "tags": []
   },
   "source": [
    "## Input"
   ]
  },
  {
   "cell_type": "markdown",
   "id": "51403d71",
   "metadata": {
    "papermill": {},
    "tags": []
   },
   "source": [
    "### Import libraries\n"
   ]
  },
  {
   "cell_type": "code",
   "execution_count": null,
   "id": "8adb0287",
   "metadata": {
    "papermill": {},
    "tags": []
   },
   "outputs": [],
   "source": [
    "from naas_drivers import linkedin\n",
    "import pandas as pd"
   ]
  },
  {
   "cell_type": "markdown",
   "id": "5f360f35",
   "metadata": {
    "papermill": {},
    "tags": []
   },
   "source": [
    "### Setup LinkedIn\n",
    "\n",
    "- [Get your cookies](/d20a8e7e508e42af8a5b52e33f3dba75)"
   ]
  },
  {
   "cell_type": "code",
   "execution_count": null,
   "id": "b3534087",
   "metadata": {
    "papermill": {},
    "tags": []
   },
   "outputs": [],
   "source": [
    "# Lindekin cookies\n",
    "LI_AT = \"AQEDARCNSioDe6wmAAABfqF-HR4AAAF-xYqhHlYAtSu7EZZEpFer0UZF-GLuz2DNSz4asOOyCRxPGFjenv37irMObYYgxxxxxxx\"\n",
    "JSESSIONID = \"ajax:12XXXXXXXXXXXXXXXXX\""
   ]
  },
  {
   "cell_type": "markdown",
   "id": "502127ba",
   "metadata": {
    "papermill": {},
    "tags": []
   },
   "source": [
    "## Model"
   ]
  },
  {
   "cell_type": "markdown",
   "id": "bd4787d3",
   "metadata": {
    "papermill": {},
    "tags": []
   },
   "source": [
    "### Get invitations\n",
    "Get the information returned in a dataframe.<br><br>\n",
    "**Available columns :**\n",
    "- PROFILE_ID : Sender LinkedIn unique profile id\n",
    "- PROFILE_URL : Sender LinkedIn profile URL\n",
    "- PUBLIC_ID : Sender LinkedIn public profile id\n",
    "- FIRSTNAME : Sender first name\n",
    "- LASTNAME : Sender last name\n",
    "- FULLNAME : Sender first and last name\n",
    "- OCCUPATION : Sender occupation\n",
    "- PROFILE_PICTURE : Sender profile picture\n",
    "- MESSAGE : Message sent with the invitation\n",
    "- SENT_AT : Date time the invitation was sent at (Only for \"Profile\" invitation)\n",
    "- UNSEEN : Boolean to know if the invitation have already been seen (Boolean: True or False)\n",
    "- INVITATION_TYPE : Type of invitation. It could be \"Profile\", \"Company\", \"Event\", \"Newsletter\"\n",
    "- INVITATION_DESC : Detailed type of invitation.\n",
    "- INVITATION_STATUS : Status of the invitation (\"PENDING\" for invitation from Profile)\n",
    "- INVITATION_ID : Secret to be used to accept or ignore invitation\n",
    "- SHARED_SECRET : Secret to be used to accept or ignore invitation"
   ]
  },
  {
   "cell_type": "code",
   "execution_count": null,
   "id": "8b876f0b",
   "metadata": {
    "papermill": {},
    "tags": []
   },
   "outputs": [],
   "source": [
    "df_invitation = linkedin.connect(LI_AT, JSESSIONID).invitation.get_received()"
   ]
  },
  {
   "cell_type": "markdown",
   "id": "84cfe026",
   "metadata": {
    "papermill": {},
    "tags": []
   },
   "source": [
    "## Output\n"
   ]
  },
  {
   "cell_type": "markdown",
   "id": "3c213178",
   "metadata": {
    "papermill": {},
    "tags": []
   },
   "source": [
    "### Display result"
   ]
  },
  {
   "cell_type": "code",
   "execution_count": null,
   "id": "4f3d451f",
   "metadata": {
    "papermill": {},
    "tags": []
   },
   "outputs": [],
   "source": [
    "df_invitation"
   ]
  },
  {
   "cell_type": "code",
   "execution_count": null,
   "id": "6b4b0c8e-f648-4484-b2d8-8c1f62a3557e",
   "metadata": {
    "papermill": {},
    "tags": []
   },
   "outputs": [],
   "source": []
  }
 ],
 "metadata": {
  "kernelspec": {
   "display_name": "Python 3",
   "language": "python",
   "name": "python3"
  },
  "language_info": {
   "codemirror_mode": {
    "name": "ipython",
    "version": 3
   },
   "file_extension": ".py",
   "mimetype": "text/x-python",
   "name": "python",
   "nbconvert_exporter": "python",
   "pygments_lexer": "ipython3",
   "version": "3.9.6"
  },
  "naas": {
   "notebook_id": "e810951640a697452790d8df52dcefc6fe0b153852fdbc64b02f6d9d408908dd",
   "notebook_path": "LinkedIn/LinkedIn_Get_invitations_received.ipynb"
  },
  "papermill": {
   "default_parameters": {},
   "environment_variables": {},
   "parameters": {},
   "version": "2.3.4"
  }
 },
 "nbformat": 4,
 "nbformat_minor": 5
}