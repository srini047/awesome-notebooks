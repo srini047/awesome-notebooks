{
 "cells": [
  {
   "cell_type": "markdown",
   "id": "fresh-danish",
   "metadata": {
    "execution": {
     "iopub.execute_input": "2021-01-25T08:00:35.294800Z",
     "iopub.status.busy": "2021-01-25T08:00:35.294557Z",
     "iopub.status.idle": "2021-01-25T08:00:35.307281Z",
     "shell.execute_reply": "2021-01-25T08:00:35.306468Z",
     "shell.execute_reply.started": "2021-01-25T08:00:35.294775Z"
    },
    "papermill": {},
    "tags": []
   },
   "source": [
    "<img width=\"10%\" alt=\"Naas\" src=\"https://landen.imgix.net/jtci2pxwjczr/assets/5ice39g4.png?w=160\"/>"
   ]
  },
  {
   "cell_type": "markdown",
   "id": "federal-pixel",
   "metadata": {
    "papermill": {},
    "tags": []
   },
   "source": [
    "# LinkedIn - Get company followers\n",
    "<a href=\"https://app.naas.ai/user-redirect/naas/downloader?url=https://raw.githubusercontent.com/jupyter-naas/awesome-notebooks/master/LinkedIn/LinkedIn_Get_company_followers.ipynb\" target=\"_parent\"><img src=\"https://naasai-public.s3.eu-west-3.amazonaws.com/Open_in_Naas_Lab.svg\"/></a><br><br><a href=\"https://github.com/jupyter-naas/awesome-notebooks/issues/new?assignees=&labels=&template=template-request.md&title=Tool+-+Action+of+the+notebook+\">Template request</a> | <a href=\"https://github.com/jupyter-naas/awesome-notebooks/issues/new?assignees=&labels=bug&template=bug_report.md&title=LinkedIn+-+Get+company+followers:+Error+short+description\">Bug report</a> | <a href=\"https://app.naas.ai/user-redirect/naas/downloader?url=https://raw.githubusercontent.com/jupyter-naas/awesome-notebooks/master/Naas/Naas_Start_data_product.ipynb\" target=\"_parent\">Generate Data Product</a>"
   ]
  },
  {
   "cell_type": "markdown",
   "id": "be29252a-5f47-44cc-a178-c734ab5f042b",
   "metadata": {
    "papermill": {},
    "tags": []
   },
   "source": [
    "**Tags:** #linkedin #company #followers #naas_drivers #automation #csv #content"
   ]
  },
  {
   "cell_type": "markdown",
   "id": "ce9b6fcd-b307-40ba-b872-668562f81947",
   "metadata": {
    "papermill": {},
    "tags": []
   },
   "source": [
    "**Author:** [Florent Ravenel](https://www.linkedin.com/in/florent-ravenel/)"
   ]
  },
  {
   "cell_type": "markdown",
   "id": "41d093e4-217a-4cc9-8156-97adb91a311a",
   "metadata": {
    "execution": {
     "iopub.execute_input": "2022-06-14T09:35:14.294463Z",
     "iopub.status.busy": "2022-06-14T09:35:14.294230Z",
     "iopub.status.idle": "2022-06-14T09:35:14.307066Z",
     "shell.execute_reply": "2022-06-14T09:35:14.306006Z",
     "shell.execute_reply.started": "2022-06-14T09:35:14.294440Z"
    },
    "papermill": {},
    "tags": []
   },
   "source": [
    "This templates will get all followers from your LinkedIn company and save it into a CSV.<br><br>\n",
    "**Available columns :**\n",
    "- FIRSTNAME : First name\n",
    "- LASTNAME : Last name\n",
    "- OCCUPATION : Text below the name in the profile page\n",
    "- PROFILE_PICTURE : Profile picture URL\n",
    "- PROFILE_URL : Profile URL\n",
    "- PROFILE_ID : LinkedIn profile id\n",
    "- PUBLIC_ID : LinkedIn public profile id\n",
    "- FOLLOWED_AT : Date of following company\n",
    "- DISTANCE : Distance between your profile"
   ]
  },
  {
   "cell_type": "markdown",
   "id": "f73aa502-44a0-41ee-9251-059ecd03c11c",
   "metadata": {
    "papermill": {},
    "tags": []
   },
   "source": [
    "*NB: Due to LinkedIn restriction, during the first execution, the follow at date will correspond to the 15 of the month.<br>\n",
    "Then, the exact date will be retrieved for every new followers.*"
   ]
  },
  {
   "cell_type": "markdown",
   "id": "5e9bd18f-44a0-4a8d-b777-1d333fbedef0",
   "metadata": {
    "papermill": {},
    "tags": []
   },
   "source": [
    "\n",
    "<div class=\"alert alert-info\" role=\"info\" style=\"margin: 10px\">\n",
    "<b>Disclaimer:</b><br>\n",
    "This code is in no way affiliated with, authorized, maintained, sponsored or endorsed by Linkedin or any of its affiliates or subsidiaries. It uses an independent and unofficial API. Use at your own risk.\n",
    "\n",
    "This project violates Linkedin's User Agreement Section 8.2, and because of this, Linkedin may (and will) temporarily or permanently ban your account. We are not responsible for your account being banned.\n",
    "<br>\n",
    "</div>"
   ]
  },
  {
   "cell_type": "markdown",
   "id": "normal-rochester",
   "metadata": {
    "papermill": {},
    "tags": []
   },
   "source": [
    "## Input"
   ]
  },
  {
   "cell_type": "markdown",
   "id": "import_cell",
   "metadata": {
    "papermill": {},
    "tags": []
   },
   "source": [
    "### Import libraries"
   ]
  },
  {
   "cell_type": "code",
   "execution_count": null,
   "id": "recreational-season",
   "metadata": {
    "papermill": {},
    "tags": []
   },
   "outputs": [],
   "source": [
    "from naas_drivers import linkedin\n",
    "import pandas as pd\n",
    "import naas"
   ]
  },
  {
   "cell_type": "markdown",
   "id": "wrapped-benjamin",
   "metadata": {
    "papermill": {},
    "tags": []
   },
   "source": [
    "### Setup LinkedIn\n",
    "👉 <a href='https://www.notion.so/LinkedIn-driver-Get-your-cookies-d20a8e7e508e42af8a5b52e33f3dba75'>How to get your cookies ?</a>"
   ]
  },
  {
   "cell_type": "code",
   "execution_count": null,
   "id": "yellow-footage",
   "metadata": {
    "papermill": {},
    "tags": []
   },
   "outputs": [],
   "source": [
    "# Credentials\n",
    "LI_AT = None or naas.secret.get(\n",
    "    \"LI_AT\"\n",
    ")  # EXAMPLE AQFAzQN_PLPR4wAAAXc-FCKmgiMit5FLdY1af3-2\n",
    "JSESSIONID = None or naas.secret.get(\"JSESSIONID\")  # EXAMPLE ajax:8379907400220387585\n",
    "\n",
    "# Company URL\n",
    "COMPANY_URL = \"https://www.linkedin.com/company/naas-ai/\""
   ]
  },
  {
   "cell_type": "markdown",
   "id": "66b77860-a95b-486c-a153-9cab521de365",
   "metadata": {
    "papermill": {},
    "tags": []
   },
   "source": [
    "### Setup Variables"
   ]
  },
  {
   "cell_type": "code",
   "execution_count": null,
   "id": "63ba2bd2-cc65-4ddf-8d01-42460006a159",
   "metadata": {
    "papermill": {},
    "tags": []
   },
   "outputs": [],
   "source": [
    "# Inputs\n",
    "company_name = COMPANY_URL.strip().split(\"company/\")[-1].split(\"/\")[0]\n",
    "csv_input = f\"LINKEDIN_COMPANY_FOLLOWERS_{company_name}.csv\""
   ]
  },
  {
   "cell_type": "markdown",
   "id": "419962a4-8cf7-4f38-96b4-eca16b61be3b",
   "metadata": {
    "papermill": {},
    "tags": []
   },
   "source": [
    "### Setup Naas scheduler"
   ]
  },
  {
   "cell_type": "code",
   "execution_count": null,
   "id": "82a3db04-6303-473e-a735-fc74f9f773dc",
   "metadata": {
    "papermill": {},
    "tags": []
   },
   "outputs": [],
   "source": [
    "# Schedule your notebook everyday at 9:00 AM\n",
    "naas.scheduler.add(cron=\"0 9 * * *\")\n",
    "\n",
    "# -> Uncomment the line below to remove your scheduler\n",
    "# naas.scheduler.delete()"
   ]
  },
  {
   "cell_type": "markdown",
   "id": "pediatric-emerald",
   "metadata": {
    "papermill": {},
    "tags": []
   },
   "source": [
    "## Model"
   ]
  },
  {
   "cell_type": "markdown",
   "id": "differential-agenda",
   "metadata": {
    "execution": {
     "iopub.execute_input": "2021-05-15T10:12:55.887028Z",
     "iopub.status.busy": "2021-05-15T10:12:55.886761Z",
     "iopub.status.idle": "2021-05-15T10:12:55.899441Z",
     "shell.execute_reply": "2021-05-15T10:12:55.898476Z",
     "shell.execute_reply.started": "2021-05-15T10:12:55.886964Z"
    },
    "papermill": {},
    "tags": []
   },
   "source": [
    "### Get followers from company"
   ]
  },
  {
   "cell_type": "code",
   "execution_count": null,
   "id": "8b27df3a-166a-4f05-836c-aec268a5a9d5",
   "metadata": {
    "papermill": {},
    "tags": []
   },
   "outputs": [],
   "source": [
    "# Get company followers from CSV stored in your local (Returns empty if CSV does not exist)\n",
    "def get_company_followers(file_path):\n",
    "    try:\n",
    "        df = pd.read_csv(file_path)\n",
    "    except FileNotFoundError as e:\n",
    "        # Empty dataframe returned\n",
    "        return pd.DataFrame()\n",
    "    return df\n",
    "\n",
    "\n",
    "df_followers = get_company_followers(csv_input)\n",
    "df_followers"
   ]
  },
  {
   "cell_type": "markdown",
   "id": "230ef804-d024-481a-b165-c4ee1ef7b2fb",
   "metadata": {
    "papermill": {},
    "tags": []
   },
   "source": [
    "### Update followers"
   ]
  },
  {
   "cell_type": "code",
   "execution_count": null,
   "id": "eb4b0e94-614a-4a6f-b631-811c4a4b4122",
   "metadata": {
    "papermill": {},
    "tags": []
   },
   "outputs": [],
   "source": [
    "def update_connections(df, file_path, key=None):\n",
    "    # Init output\n",
    "    df_update = pd.DataFrame()\n",
    "\n",
    "    # Init df posts is empty then return entire database\n",
    "    if len(df) > 0:\n",
    "        # If dataframe not empty, get last connections\n",
    "        profiles = df[key].unique()\n",
    "        start = 0\n",
    "        count = 1\n",
    "        while True:\n",
    "            tmp_new = linkedin.connect(LI_AT, JSESSIONID).company.get_followers(\n",
    "                start=start, count=count, limit=count\n",
    "            )\n",
    "            # Check if existing profile in each call\n",
    "            tmp_new = tmp_new[~tmp_new.PROFILE_ID.isin(profiles)]\n",
    "            df_update = pd.concat([df_update, tmp_new])\n",
    "            if len(tmp_new) == 0:\n",
    "                break\n",
    "\n",
    "            # Get more profile\n",
    "            start += count\n",
    "        print(f\"-> New followers fetched: {len(df_update)}.\")\n",
    "    else:\n",
    "        df_update = linkedin.connect(LI_AT, JSESSIONID).company.get_followers(\n",
    "            count=100, limit=-1\n",
    "        )\n",
    "\n",
    "    # Concat data\n",
    "    df = pd.concat([df_update, df]).drop_duplicates(key, keep=\"first\")\n",
    "    return df.reset_index(drop=True)\n",
    "\n",
    "\n",
    "df_update = update_connections(df_followers, csv_input, key=\"PROFILE_ID\")\n",
    "df_update"
   ]
  },
  {
   "cell_type": "markdown",
   "id": "piano-stylus",
   "metadata": {
    "papermill": {},
    "tags": []
   },
   "source": [
    "## Output"
   ]
  },
  {
   "cell_type": "markdown",
   "id": "601fd6f5-1ab5-46c3-a553-dbcc45b9ec9d",
   "metadata": {
    "papermill": {},
    "tags": []
   },
   "source": [
    "### Save dataframe in CSV"
   ]
  },
  {
   "cell_type": "code",
   "execution_count": null,
   "id": "1aae73cc-4622-487f-b173-76d83cd47acd",
   "metadata": {
    "papermill": {},
    "tags": []
   },
   "outputs": [],
   "source": [
    "df_update.to_csv(csv_input, index=False)"
   ]
  },
  {
   "cell_type": "markdown",
   "id": "micro-funds",
   "metadata": {
    "papermill": {},
    "tags": []
   },
   "source": [
    "### Add dependency to production"
   ]
  },
  {
   "cell_type": "code",
   "execution_count": null,
   "id": "threaded-minister",
   "metadata": {
    "papermill": {},
    "tags": []
   },
   "outputs": [],
   "source": [
    "naas.dependency.add(csv_input)"
   ]
  }
 ],
 "metadata": {
  "kernelspec": {
   "display_name": "Python 3",
   "language": "python",
   "name": "python3"
  },
  "language_info": {
   "codemirror_mode": {
    "name": "ipython",
    "version": 3
   },
   "file_extension": ".py",
   "mimetype": "text/x-python",
   "name": "python",
   "nbconvert_exporter": "python",
   "pygments_lexer": "ipython3",
   "version": "3.9.6"
  },
  "naas": {
   "notebook_id": "eb94b13f89163a7980a2cf632af1e207573c35271920d52121659af1d90e0aa5",
   "notebook_path": "LinkedIn/LinkedIn_Get_company_followers.ipynb"
  },
  "papermill": {
   "default_parameters": {},
   "environment_variables": {},
   "parameters": {},
   "version": "2.3.3"
  },
  "widgets": {
   "application/vnd.jupyter.widget-state+json": {
    "state": {},
    "version_major": 2,
    "version_minor": 0
   }
  }
 },
 "nbformat": 4,
 "nbformat_minor": 5
}