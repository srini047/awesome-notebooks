{
 "cells": [
  {
   "cell_type": "markdown",
   "id": "second-registrar",
   "metadata": {
    "execution": {
     "iopub.execute_input": "2021-01-25T08:00:35.294800Z",
     "iopub.status.busy": "2021-01-25T08:00:35.294557Z",
     "iopub.status.idle": "2021-01-25T08:00:35.307281Z",
     "shell.execute_reply": "2021-01-25T08:00:35.306468Z",
     "shell.execute_reply.started": "2021-01-25T08:00:35.294775Z"
    },
    "papermill": {},
    "tags": []
   },
   "source": [
    "<img width=\"10%\" alt=\"Naas\" src=\"https://landen.imgix.net/jtci2pxwjczr/assets/5ice39g4.png?w=160\"/>"
   ]
  },
  {
   "cell_type": "markdown",
   "id": "boolean-amendment",
   "metadata": {
    "papermill": {},
    "tags": []
   },
   "source": [
    "# LinkedIn - Send message to new connections\n",
    "<a href=\"https://app.naas.ai/user-redirect/naas/downloader?url=https://raw.githubusercontent.com/jupyter-naas/awesome-notebooks/master/LinkedIn/LinkedIn_Send_message_to_new_connections.ipynb\" target=\"_parent\"><img src=\"https://naasai-public.s3.eu-west-3.amazonaws.com/Open_in_Naas_Lab.svg\"/></a><br><br><a href=\"https://github.com/jupyter-naas/awesome-notebooks/issues/new?assignees=&labels=&template=template-request.md&title=Tool+-+Action+of+the+notebook+\">Template request</a> | <a href=\"https://github.com/jupyter-naas/awesome-notebooks/issues/new?assignees=&labels=bug&template=bug_report.md&title=LinkedIn+-+Send+message+to+new+connections:+Error+short+description\">Bug report</a> | <a href=\"https://app.naas.ai/user-redirect/naas/downloader?url=https://raw.githubusercontent.com/jupyter-naas/awesome-notebooks/master/Naas/Naas_Start_data_product.ipynb\" target=\"_parent\">Generate Data Product</a>"
   ]
  },
  {
   "cell_type": "markdown",
   "id": "535e9a7c-d179-4aeb-9918-c24f352052b0",
   "metadata": {
    "papermill": {},
    "tags": []
   },
   "source": [
    "**Tags:** #linkedin #message #naas_drivers #content #snippet #text"
   ]
  },
  {
   "cell_type": "markdown",
   "id": "e97a5266-abfc-46d5-9a90-441d164d932b",
   "metadata": {
    "papermill": {},
    "tags": []
   },
   "source": [
    "**Author:** [Asif Syed](https://www.linkedin.com/in/www.linkedin.com/in/asifsyd/)"
   ]
  },
  {
   "cell_type": "markdown",
   "id": "naas-description",
   "metadata": {
    "papermill": {},
    "tags": [
     "description"
    ]
   },
   "source": [
    "**Description:** This notebook allows users to quickly and easily send messages to their new LinkedIn connections."
   ]
  },
  {
   "cell_type": "markdown",
   "id": "1bb3abea-0afe-4508-a404-7b609cea13d3",
   "metadata": {
    "papermill": {},
    "tags": []
   },
   "source": [
    "\n",
    "<div class=\"alert alert-info\" role=\"info\" style=\"margin: 10px\">\n",
    "<b>Disclaimer:</b><br>\n",
    "This code is in no way affiliated with, authorized, maintained, sponsored or endorsed by Linkedin or any of its affiliates or subsidiaries. It uses an independent and unofficial API. Use at your own risk.\n",
    "\n",
    "This project violates Linkedin's User Agreement Section 8.2, and because of this, Linkedin may (and will) temporarily or permanently ban your account. We are not responsible for your account being banned.\n",
    "<br>\n",
    "</div>"
   ]
  },
  {
   "cell_type": "markdown",
   "id": "identified-logan",
   "metadata": {
    "papermill": {},
    "tags": []
   },
   "source": [
    "## Input"
   ]
  },
  {
   "cell_type": "markdown",
   "id": "1a265f27-8faa-4e5d-af76-bbacff0dcefd",
   "metadata": {
    "papermill": {},
    "tags": []
   },
   "source": [
    "### Import libraries"
   ]
  },
  {
   "cell_type": "code",
   "execution_count": null,
   "id": "strategic-savage",
   "metadata": {
    "papermill": {},
    "tags": []
   },
   "outputs": [],
   "source": [
    "from naas_drivers import linkedin\n",
    "import pandas as pd\n",
    "from datetime import date\n",
    "import naas"
   ]
  },
  {
   "cell_type": "markdown",
   "id": "sustained-rochester",
   "metadata": {
    "papermill": {},
    "tags": []
   },
   "source": [
    "### Setup LinkedIn\n",
    "<a href='https://www.notion.so/LinkedIn-driver-Get-your-cookies-d20a8e7e508e42af8a5b52e33f3dba75'>How to get your cookies ?</a>"
   ]
  },
  {
   "cell_type": "code",
   "execution_count": null,
   "id": "handy-jacksonville",
   "metadata": {
    "papermill": {},
    "tags": []
   },
   "outputs": [],
   "source": [
    "LI_AT = (\n",
    "    naas.secret.get(\"LI_AT\") or \"ENTER_YOUR_COOKIE_LI_AT_HERE\"\n",
    ")  # EXAMPLE AQFAzQN_PLPR4wAAAXc-FCKmgiMit5FLdY1af3-2\n",
    "JSESSIONID = (\n",
    "    naas.secret.get(\"JSESSIONID\") or \"ENTER_YOUR_COOKIE_JSESSIONID_HERE\"\n",
    ")  # EXAMPLE ajax:8379907400220387585"
   ]
  },
  {
   "cell_type": "markdown",
   "id": "8e120c4d-1c7c-46cb-a306-f4a75bf9df28",
   "metadata": {
    "papermill": {},
    "tags": []
   },
   "source": [
    "### Setup custom message"
   ]
  },
  {
   "cell_type": "markdown",
   "id": "b86c3b5f-f211-4ef4-9f13-ce34c241d37f",
   "metadata": {
    "papermill": {},
    "tags": []
   },
   "source": [
    "The message format sent to new connections is structured as follows - Greeting{space}First_Name{comma}{space}Message\n",
    "\n",
    "eg: Hi Asif, thank you for connecting with me!\n",
    "\n",
    "First_Name is directly fetched from the dataframe and we can customize the Greeting and Message parameters by editing the strings in the below cell."
   ]
  },
  {
   "cell_type": "code",
   "execution_count": null,
   "id": "5d446901-5aeb-4afc-a97b-981e1eb73d35",
   "metadata": {
    "papermill": {},
    "tags": []
   },
   "outputs": [],
   "source": [
    "Greeting = \"Hi\"\n",
    "Message = \"Thank you for connecting with me!\""
   ]
  },
  {
   "cell_type": "markdown",
   "id": "rubber-nutrition",
   "metadata": {
    "execution": {
     "iopub.execute_input": "2021-05-15T10:12:55.887028Z",
     "iopub.status.busy": "2021-05-15T10:12:55.886761Z",
     "iopub.status.idle": "2021-05-15T10:12:55.899441Z",
     "shell.execute_reply": "2021-05-15T10:12:55.898476Z",
     "shell.execute_reply.started": "2021-05-15T10:12:55.886964Z"
    },
    "papermill": {},
    "tags": []
   },
   "source": [
    "## Model"
   ]
  },
  {
   "cell_type": "markdown",
   "id": "13390fa4-d4d3-421b-a903-ac3deff220ae",
   "metadata": {
    "papermill": {},
    "tags": []
   },
   "source": [
    "### Get last connections"
   ]
  },
  {
   "cell_type": "markdown",
   "id": "e36258c8-d97e-45c1-b96e-3996f10dbd84",
   "metadata": {
    "papermill": {},
    "tags": []
   },
   "source": [
    "Get the recent connections data (limit parameter can be changed as per your requirement; it is the maximum number of new connections to whom you want to send the message)"
   ]
  },
  {
   "cell_type": "code",
   "execution_count": null,
   "id": "61e2b7e8-cd1d-475c-b84b-4d888324c251",
   "metadata": {
    "papermill": {},
    "tags": []
   },
   "outputs": [],
   "source": [
    "df = linkedin.connect(LI_AT, JSESSIONID).network.get_connections(limit=100)\n",
    "df.head(5)"
   ]
  },
  {
   "cell_type": "markdown",
   "id": "45881cd1-280d-4b01-968e-0fa1fcd6265b",
   "metadata": {
    "papermill": {},
    "tags": []
   },
   "source": [
    "### Filter data"
   ]
  },
  {
   "cell_type": "code",
   "execution_count": null,
   "id": "696c8f06-8b5e-405e-bff5-4f15bee16d3a",
   "metadata": {
    "papermill": {},
    "tags": []
   },
   "outputs": [],
   "source": [
    "def filter_data(df):\n",
    "    df[\"CREATED_AT\"] = pd.to_datetime(\n",
    "        df[\"CREATED_AT\"]\n",
    "    ).dt.date  # changing the CREATED_AT column data to datetime format\n",
    "    df = df[\n",
    "        df[\"CREATED_AT\"] == date.today()\n",
    "    ]  # restricting the dataframe to hold only the details of people connected today\n",
    "    return df\n",
    "\n",
    "\n",
    "df_profiles = filter_data(df)\n",
    "print(\"✅ New connections today:\", len(df_profiles))\n",
    "df_profiles"
   ]
  },
  {
   "cell_type": "markdown",
   "id": "developed-acquisition",
   "metadata": {
    "papermill": {},
    "tags": []
   },
   "source": [
    "## Output"
   ]
  },
  {
   "cell_type": "markdown",
   "id": "3ffa3d36-aa9d-4f4d-915d-8f16158ef3ac",
   "metadata": {
    "papermill": {},
    "tags": []
   },
   "source": [
    "### Send the message"
   ]
  },
  {
   "cell_type": "code",
   "execution_count": null,
   "id": "impossible-subsection",
   "metadata": {
    "papermill": {},
    "tags": []
   },
   "outputs": [],
   "source": [
    "for (\n",
    "    index,\n",
    "    row,\n",
    ") in (\n",
    "    df_profiles.iterrows()\n",
    "):  # looping through each profile in the dataframe of new connections\n",
    "    firstname = row[\"FIRSTNAME\"]\n",
    "    lastname = row[\"LASTNAME\"]\n",
    "    profile_url = row[\"PROFILE_URL\"]\n",
    "    result = linkedin.message.send(\n",
    "        content=Greeting + \" \" + firstname + \",\" + \" \" + Message,\n",
    "        recipients_url=profile_url,\n",
    "    )\n",
    "    print(f\"✅ Message sent to {firstname} {lastname}\")"
   ]
  }
 ],
 "metadata": {
  "kernelspec": {
   "display_name": "Python 3",
   "language": "python",
   "name": "python3"
  },
  "language_info": {
   "codemirror_mode": {
    "name": "ipython",
    "version": 3
   },
   "file_extension": ".py",
   "mimetype": "text/x-python",
   "name": "python",
   "nbconvert_exporter": "python",
   "pygments_lexer": "ipython3",
   "version": "3.9.6"
  },
  "naas": {
   "notebook_id": "dd529268f794af9c567c6b89ebda05232650474d2045ffd7ba0800fa866f0e1f",
   "notebook_path": "LinkedIn/LinkedIn_Send_message_to_new_connections.ipynb"
  },
  "papermill": {
   "default_parameters": {},
   "environment_variables": {},
   "parameters": {},
   "version": "2.3.3"
  },
  "widgets": {
   "application/vnd.jupyter.widget-state+json": {
    "state": {},
    "version_major": 2,
    "version_minor": 0
   }
  }
 },
 "nbformat": 4,
 "nbformat_minor": 5
}