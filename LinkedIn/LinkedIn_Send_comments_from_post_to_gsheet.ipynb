{
 "cells": [
  {
   "cell_type": "markdown",
   "id": "seven-associate",
   "metadata": {
    "execution": {
     "iopub.execute_input": "2021-01-25T08:00:35.294800Z",
     "iopub.status.busy": "2021-01-25T08:00:35.294557Z",
     "iopub.status.idle": "2021-01-25T08:00:35.307281Z",
     "shell.execute_reply": "2021-01-25T08:00:35.306468Z",
     "shell.execute_reply.started": "2021-01-25T08:00:35.294775Z"
    },
    "papermill": {},
    "tags": []
   },
   "source": [
    "<img width=\"10%\" alt=\"Naas\" src=\"https://landen.imgix.net/jtci2pxwjczr/assets/5ice39g4.png?w=160\"/>"
   ]
  },
  {
   "cell_type": "markdown",
   "id": "durable-genome",
   "metadata": {
    "papermill": {},
    "tags": []
   },
   "source": [
    "# LinkedIn - Send comments from post to gsheet\n",
    "<a href=\"https://app.naas.ai/user-redirect/naas/downloader?url=https://raw.githubusercontent.com/jupyter-naas/awesome-notebooks/master/LinkedIn/LinkedIn_Send_comments_from_post_to_gsheet.ipynb\" target=\"_parent\"><img src=\"https://naasai-public.s3.eu-west-3.amazonaws.com/open_in_naas.svg\"/></a><br><br><a href=\"https://github.com/jupyter-naas/awesome-notebooks/issues/new?assignees=&labels=&template=template-request.md&title=Tool+-+Action+of+the+notebook+\">Template request</a> | <a href=\"https://github.com/jupyter-naas/awesome-notebooks/issues/new?assignees=&labels=bug&template=bug_report.md&title=LinkedIn+-+Send+comments+from+post+to+gsheet:+Error+short+description\">Bug report</a>"
   ]
  },
  {
   "cell_type": "markdown",
   "id": "8a45706f-2d0b-44d0-bf09-ee4ed0c06b76",
   "metadata": {
    "papermill": {},
    "tags": []
   },
   "source": [
    "**Tags:** #linkedin #post #comments #gsheet #naas_drivers #content #snippet #googlesheets"
   ]
  },
  {
   "cell_type": "markdown",
   "id": "ecdb07cb-b821-492e-bca1-53972dbdba1f",
   "metadata": {
    "papermill": {},
    "tags": []
   },
   "source": [
    "**Author:** [Florent Ravenel](https://www.linkedin.com/in/florent-ravenel/)"
   ]
  },
  {
   "cell_type": "markdown",
   "id": "naas-description",
   "metadata": {
    "papermill": {},
    "tags": [
     "description"
    ]
   },
   "source": [
    "**Description:** This notebook allows users to automatically send comments from a LinkedIn post to a Google Sheet."
   ]
  },
  {
   "cell_type": "markdown",
   "id": "present-brooks",
   "metadata": {
    "papermill": {},
    "tags": []
   },
   "source": [
    "## Input"
   ]
  },
  {
   "cell_type": "markdown",
   "id": "import_cell",
   "metadata": {
    "papermill": {},
    "tags": []
   },
   "source": [
    "### Import libraries"
   ]
  },
  {
   "cell_type": "code",
   "execution_count": null,
   "id": "biblical-jumping",
   "metadata": {
    "papermill": {},
    "tags": []
   },
   "outputs": [],
   "source": [
    "from naas_drivers import linkedin, gsheet\n",
    "import random\n",
    "import time\n",
    "import pandas as pd\n",
    "from datetime import datetime"
   ]
  },
  {
   "cell_type": "markdown",
   "id": "solar-theorem",
   "metadata": {
    "papermill": {},
    "tags": []
   },
   "source": [
    "### Setup LinkedIn\n",
    "👉 <a href='https://www.notion.so/LinkedIn-driver-Get-your-cookies-d20a8e7e508e42af8a5b52e33f3dba75'>How to get your cookies ?</a>"
   ]
  },
  {
   "cell_type": "code",
   "execution_count": null,
   "id": "molecular-beginning",
   "metadata": {
    "papermill": {},
    "tags": []
   },
   "outputs": [],
   "source": [
    "# Lindekin cookies\n",
    "LI_AT = \"AQEDARCNSioDe6wmAAABfqF-HR4AAAF-xYqhHlYAtSu7EZZEpFer0UZF-GLuz2DNSz4asOOyCRxPGFjenv37irMObYYgxxxxxxx\"\n",
    "JSESSIONID = \"ajax:12XXXXXXXXXXXXXXXXX\"\n",
    "\n",
    "# Post url\n",
    "POST_URL = \"POST_URL\""
   ]
  },
  {
   "cell_type": "markdown",
   "id": "based-comparison",
   "metadata": {
    "papermill": {},
    "tags": []
   },
   "source": [
    "### Setup your Google Sheet\n",
    "👉 Get your spreadsheet id => it is located in your gsheet url after \"https://docs.google.com/spreadsheets/d/\" and before \"/edit\"<br>\n",
    "👉 Share your gsheet with our service account to connect : naas-share@naas-gsheets.iam.gserviceaccount.com<br>\n",
    "👉 Create your sheet before sending data into it"
   ]
  },
  {
   "cell_type": "code",
   "execution_count": null,
   "id": "polyphonic-japanese",
   "metadata": {
    "papermill": {},
    "tags": []
   },
   "outputs": [],
   "source": [
    "# Spreadsheet id\n",
    "SPREADSHEET_ID = \"SPREADSHEET_ID\"\n",
    "\n",
    "# Sheet names\n",
    "SHEET_POST_COMMENTS = \"POST_COMMENTS\"\n",
    "SHEET_MY_NETWORK = \"MY_NETWORK\"\n",
    "SHEET_NOT_MY_NETWORK = \"NOT_MY_NETWORK\""
   ]
  },
  {
   "cell_type": "markdown",
   "id": "extensive-institute",
   "metadata": {
    "execution": {
     "iopub.execute_input": "2021-06-22T09:46:54.832725Z",
     "iopub.status.busy": "2021-06-22T09:46:54.832512Z",
     "iopub.status.idle": "2021-06-22T09:46:54.835997Z",
     "shell.execute_reply": "2021-06-22T09:46:54.835323Z",
     "shell.execute_reply.started": "2021-06-22T09:46:54.832702Z"
    },
    "papermill": {},
    "tags": []
   },
   "source": [
    "### Constant"
   ]
  },
  {
   "cell_type": "code",
   "execution_count": null,
   "id": "restricted-visibility",
   "metadata": {
    "papermill": {},
    "tags": []
   },
   "outputs": [],
   "source": [
    "DATETIME_FORMAT = \"%Y-%m-%d %H:%M:%S\""
   ]
  },
  {
   "cell_type": "markdown",
   "id": "later-spyware",
   "metadata": {
    "papermill": {},
    "tags": []
   },
   "source": [
    "## Model"
   ]
  },
  {
   "cell_type": "markdown",
   "id": "minute-negotiation",
   "metadata": {
    "papermill": {},
    "tags": []
   },
   "source": [
    "### Get likes from post"
   ]
  },
  {
   "cell_type": "code",
   "execution_count": null,
   "id": "experimental-lambda",
   "metadata": {
    "papermill": {},
    "tags": []
   },
   "outputs": [],
   "source": [
    "df_posts = linkedin.connect(LI_AT, JSESSIONID).post.get_comments(POST_URL)\n",
    "df_posts[\"DATE_EXTRACT\"] = datetime.now().strftime(DATETIME_FORMAT)"
   ]
  },
  {
   "cell_type": "markdown",
   "id": "cellular-remark",
   "metadata": {
    "execution": {
     "iopub.execute_input": "2021-06-22T08:33:04.560571Z",
     "iopub.status.busy": "2021-06-22T08:33:04.560242Z",
     "iopub.status.idle": "2021-06-22T08:33:04.563114Z",
     "shell.execute_reply": "2021-06-22T08:33:04.562551Z",
     "shell.execute_reply.started": "2021-06-22T08:33:04.560541Z"
    },
    "papermill": {},
    "tags": []
   },
   "source": [
    "### Get network for profiles"
   ]
  },
  {
   "cell_type": "code",
   "execution_count": null,
   "id": "inappropriate-boating",
   "metadata": {
    "papermill": {},
    "tags": []
   },
   "outputs": [],
   "source": [
    "df_network = pd.DataFrame()\n",
    "\n",
    "for _, row in df_posts.iterrows():\n",
    "    profile_id = row.PROFILE_ID\n",
    "    # Get network information to know distance between you and people who likes the post\n",
    "    tmp_network = linkedin.connect(LI_AT, JSESSIONID).profile.get_network(profile_id)\n",
    "    # Concat dataframe\n",
    "    df_network = pd.concat([df_network, tmp_network], axis=0)\n",
    "    # Time sleep in made to mimic human behavior, here it is randomly done between 2 and 5 seconds\n",
    "    time.sleep(random.randint(2, 5))\n",
    "\n",
    "df_network.head(5)"
   ]
  },
  {
   "cell_type": "markdown",
   "id": "respective-startup",
   "metadata": {
    "papermill": {},
    "tags": []
   },
   "source": [
    "### Merge posts likes and network data"
   ]
  },
  {
   "cell_type": "code",
   "execution_count": null,
   "id": "alternate-reference",
   "metadata": {
    "papermill": {},
    "tags": []
   },
   "outputs": [],
   "source": [
    "df_all = pd.merge(df_posts, df_network, on=[\"PROFILE_URN\", \"PROFILE_ID\"], how=\"left\")\n",
    "df_all = df_all.sort_values(by=[\"FOLLOWERS_COUNT\"], ascending=False)\n",
    "df_all = df_all[df_all[\"DISTANCE\"] != \"SELF\"].reset_index(drop=True)\n",
    "df_all.head(5)"
   ]
  },
  {
   "cell_type": "markdown",
   "id": "romance-sequence",
   "metadata": {
    "papermill": {},
    "tags": []
   },
   "source": [
    "### Split my network or not"
   ]
  },
  {
   "cell_type": "code",
   "execution_count": null,
   "id": "level-vienna",
   "metadata": {
    "papermill": {},
    "tags": []
   },
   "outputs": [],
   "source": [
    "# My network\n",
    "my_network = df_all[df_all[\"DISTANCE\"] == \"DISTANCE_1\"].reset_index(drop=True)\n",
    "my_network[\"DATE_EXTRACT\"] = datetime.now().strftime(DATETIME_FORMAT)\n",
    "my_network.head(5)"
   ]
  },
  {
   "cell_type": "code",
   "execution_count": null,
   "id": "classified-equipment",
   "metadata": {
    "papermill": {},
    "tags": []
   },
   "outputs": [],
   "source": [
    "# Not in my network\n",
    "not_my_network = df_all[df_all[\"DISTANCE\"] != \"DISTANCE_1\"].reset_index(drop=True)\n",
    "not_my_network[\"DATE_EXTRACT\"] = datetime.now().strftime(DATETIME_FORMAT)\n",
    "not_my_network.head(5)"
   ]
  },
  {
   "cell_type": "markdown",
   "id": "dirty-advocate",
   "metadata": {
    "papermill": {},
    "tags": []
   },
   "source": [
    "## Output"
   ]
  },
  {
   "cell_type": "markdown",
   "id": "combined-provider",
   "metadata": {
    "papermill": {},
    "tags": []
   },
   "source": [
    "### Save post comments in gsheet"
   ]
  },
  {
   "cell_type": "code",
   "execution_count": null,
   "id": "south-scholarship",
   "metadata": {
    "papermill": {},
    "tags": []
   },
   "outputs": [],
   "source": [
    "gsheet.connect(SPREADSHEET_ID).send(\n",
    "    df_posts, sheet_name=SHEET_POST_COMMENTS, append=False\n",
    ")"
   ]
  },
  {
   "cell_type": "markdown",
   "id": "delayed-gilbert",
   "metadata": {
    "papermill": {},
    "tags": []
   },
   "source": [
    "### Save people from my network in gsheet"
   ]
  },
  {
   "cell_type": "code",
   "execution_count": null,
   "id": "magnetic-drilling",
   "metadata": {
    "papermill": {},
    "tags": []
   },
   "outputs": [],
   "source": [
    "gsheet.connect(SPREADSHEET_ID).send(\n",
    "    my_network, sheet_name=SHEET_MY_NETWORK, append=False\n",
    ")"
   ]
  },
  {
   "cell_type": "markdown",
   "id": "intellectual-discretion",
   "metadata": {
    "papermill": {},
    "tags": []
   },
   "source": [
    "### Save people not in my network in gsheet"
   ]
  },
  {
   "cell_type": "code",
   "execution_count": null,
   "id": "outdoor-johnson",
   "metadata": {
    "papermill": {},
    "tags": []
   },
   "outputs": [],
   "source": [
    "gsheet.connect(SPREADSHEET_ID).send(\n",
    "    not_my_network, sheet_name=SHEET_NOT_MY_NETWORK, append=False\n",
    ")"
   ]
  }
 ],
 "metadata": {
  "kernelspec": {
   "display_name": "Python 3",
   "language": "python",
   "name": "python3"
  },
  "language_info": {
   "codemirror_mode": {
    "name": "ipython",
    "version": 3
   },
   "file_extension": ".py",
   "mimetype": "text/x-python",
   "name": "python",
   "nbconvert_exporter": "python",
   "pygments_lexer": "ipython3",
   "version": "3.9.6"
  },
  "naas": {
   "notebook_id": "f75b301d-1b47-48bd-b689-ddedf61ab50c",
   "notebook_path": "LinkedIn/LinkedIn_Send_comments_from_post_to_gsheet.ipynb"
  },
  "papermill": {
   "default_parameters": {},
   "environment_variables": {},
   "parameters": {},
   "version": "2.3.3"
  },
  "widgets": {
   "application/vnd.jupyter.widget-state+json": {
    "state": {},
    "version_major": 2,
    "version_minor": 0
   }
  }
 },
 "nbformat": 4,
 "nbformat_minor": 5
}