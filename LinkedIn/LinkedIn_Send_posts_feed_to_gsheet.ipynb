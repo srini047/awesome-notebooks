{
 "cells": [
  {
   "cell_type": "markdown",
   "id": "recreational-precipitation",
   "metadata": {
    "execution": {
     "iopub.execute_input": "2021-01-25T08:00:35.294800Z",
     "iopub.status.busy": "2021-01-25T08:00:35.294557Z",
     "iopub.status.idle": "2021-01-25T08:00:35.307281Z",
     "shell.execute_reply": "2021-01-25T08:00:35.306468Z",
     "shell.execute_reply.started": "2021-01-25T08:00:35.294775Z"
    },
    "papermill": {},
    "tags": []
   },
   "source": [
    "<img width=\"10%\" alt=\"Naas\" src=\"https://landen.imgix.net/jtci2pxwjczr/assets/5ice39g4.png?w=160\"/>"
   ]
  },
  {
   "cell_type": "markdown",
   "id": "anticipated-teach",
   "metadata": {
    "papermill": {},
    "tags": []
   },
   "source": [
    "# LinkedIn - Send posts feed to gsheet\n",
    "<a href=\"https://app.naas.ai/user-redirect/naas/downloader?url=https://raw.githubusercontent.com/jupyter-naas/awesome-notebooks/master/LinkedIn/LinkedIn_Send_posts_feed_to_gsheet.ipynb\" target=\"_parent\"><img src=\"https://naasai-public.s3.eu-west-3.amazonaws.com/open_in_naas.svg\"/></a><br><br><a href=\"https://github.com/jupyter-naas/awesome-notebooks/issues/new?assignees=&labels=&template=template-request.md&title=Tool+-+Action+of+the+notebook+\">Template request</a> | <a href=\"https://github.com/jupyter-naas/awesome-notebooks/issues/new?assignees=&labels=bug&template=bug_report.md&title=LinkedIn+-+Send+posts+feed+to+gsheet:+Error+short+description\">Bug report</a>"
   ]
  },
  {
   "cell_type": "markdown",
   "id": "6f9a2cbe-a573-488b-88aa-c505a38b3ef5",
   "metadata": {
    "papermill": {},
    "tags": []
   },
   "source": [
    "**Tags:** #linkedin #profile #post #stats #naas_drivers #automation #content #googlesheets"
   ]
  },
  {
   "cell_type": "markdown",
   "id": "412447a1-7aba-4cdf-afec-b5a94515b619",
   "metadata": {
    "papermill": {},
    "tags": []
   },
   "source": [
    "**Author:** [Florent Ravenel](https://www.linkedin.com/in/florent-ravenel/)"
   ]
  },
  {
   "cell_type": "markdown",
   "id": "naas-description",
   "metadata": {
    "papermill": {},
    "tags": [
     "description"
    ]
   },
   "source": [
    "**Description:** This notebook automates the process of sending LinkedIn posts to a Google Sheet for easy tracking and analysis."
   ]
  },
  {
   "cell_type": "markdown",
   "id": "attractive-bandwidth",
   "metadata": {
    "papermill": {},
    "tags": []
   },
   "source": [
    "## Input"
   ]
  },
  {
   "cell_type": "markdown",
   "id": "import_cell",
   "metadata": {
    "papermill": {},
    "tags": []
   },
   "source": [
    "### Import libraries"
   ]
  },
  {
   "cell_type": "code",
   "execution_count": null,
   "id": "dangerous-christianity",
   "metadata": {
    "papermill": {},
    "tags": []
   },
   "outputs": [],
   "source": [
    "from naas_drivers import linkedin, gsheet\n",
    "import naas\n",
    "import pandas as pd"
   ]
  },
  {
   "cell_type": "markdown",
   "id": "quiet-founder",
   "metadata": {
    "papermill": {},
    "tags": []
   },
   "source": [
    "### Setup LinkedIn\n",
    "👉 <a href='https://www.notion.so/LinkedIn-driver-Get-your-cookies-d20a8e7e508e42af8a5b52e33f3dba75'>How to get your cookies ?</a>"
   ]
  },
  {
   "cell_type": "code",
   "execution_count": null,
   "id": "classical-necklace",
   "metadata": {
    "papermill": {},
    "tags": []
   },
   "outputs": [],
   "source": [
    "# Lindekin cookies\n",
    "LI_AT = \"AQEDARCNSioDe6wmAAABfqF-HR4AAAF-xYqhHlYAtSu7EZZEpFer0UZF-GLuz2DNSz4asOOyCRxPGFjenv37irMObYYgxxxxxxx\"\n",
    "JSESSIONID = \"ajax:12XXXXXXXXXXXXXXXXX\"\n",
    "\n",
    "# Linkedin profile url\n",
    "PROFILE_URL = \"https://www.linkedin.com/in/xxxxxx/\"\n",
    "\n",
    "# Number of posts updated in Gsheet (This avoid to requests the entire database)\n",
    "LIMIT = 10"
   ]
  },
  {
   "cell_type": "markdown",
   "id": "ambient-shanghai",
   "metadata": {
    "papermill": {},
    "tags": []
   },
   "source": [
    "### Setup your Google Sheet\n",
    "👉 Get your spreadsheet URL<br>\n",
    "👉 Share your gsheet with our service account to connect : naas-share@naas-gsheets.iam.gserviceaccount.com<br>\n",
    "👉 Create your sheet before sending data into it"
   ]
  },
  {
   "cell_type": "code",
   "execution_count": null,
   "id": "consolidated-haiti",
   "metadata": {
    "papermill": {},
    "tags": []
   },
   "outputs": [],
   "source": [
    "# Spreadsheet URL\n",
    "SPREADSHEET_URL = \"https://docs.google.com/spreadsheets/d/XXXXXXXXXXXXXXXXXXXX\"\n",
    "\n",
    "# Sheet name\n",
    "SHEET_NAME = \"LK_POSTS_FEED\""
   ]
  },
  {
   "cell_type": "markdown",
   "id": "f51a6905-b141-4335-b5e8-d4d98758cba6",
   "metadata": {
    "papermill": {},
    "tags": []
   },
   "source": [
    "### Setup Naas"
   ]
  },
  {
   "cell_type": "code",
   "execution_count": null,
   "id": "536b4e95-8a9a-428b-aa99-2c3452e48850",
   "metadata": {
    "papermill": {},
    "tags": []
   },
   "outputs": [],
   "source": [
    "naas.scheduler.add(cron=\"0 8 * * *\")\n",
    "\n",
    "# -> To delete your scheduler, please uncomment the line below and execute this cell\n",
    "# naas.scheduler.delete()"
   ]
  },
  {
   "cell_type": "markdown",
   "id": "polished-prior",
   "metadata": {
    "papermill": {},
    "tags": []
   },
   "source": [
    "## Model"
   ]
  },
  {
   "cell_type": "markdown",
   "id": "8a6e952a-e72b-42c1-9c5a-6eb65d309453",
   "metadata": {
    "papermill": {},
    "tags": []
   },
   "source": [
    "### Get data from Google Sheet"
   ]
  },
  {
   "cell_type": "code",
   "execution_count": null,
   "id": "de936b53-52bb-4589-96f0-fc0157ac5e0b",
   "metadata": {
    "papermill": {},
    "tags": []
   },
   "outputs": [],
   "source": [
    "df_gsheet = gsheet.connect(SPREADSHEET_URL).get(sheet_name=SHEET_NAME)\n",
    "df_gsheet"
   ]
  },
  {
   "cell_type": "markdown",
   "id": "7298f063-3ea6-464b-a3ef-ee158e584f5b",
   "metadata": {
    "execution": {
     "iopub.execute_input": "2022-01-24T11:24:35.716122Z",
     "iopub.status.busy": "2022-01-24T11:24:35.715845Z",
     "iopub.status.idle": "2022-01-24T11:24:35.719349Z",
     "shell.execute_reply": "2022-01-24T11:24:35.718736Z",
     "shell.execute_reply.started": "2022-01-24T11:24:35.716056Z"
    },
    "papermill": {},
    "tags": []
   },
   "source": [
    "### Get new posts and update last posts stats"
   ]
  },
  {
   "cell_type": "code",
   "execution_count": null,
   "id": "miniature-manitoba",
   "metadata": {
    "papermill": {},
    "tags": []
   },
   "outputs": [],
   "source": [
    "def get_new_posts(df_gsheet, key, limit=LIMIT, sleep=False):\n",
    "    posts = []\n",
    "    if len(df_gsheet) > 0:\n",
    "        posts = df_gsheet[key].unique()\n",
    "    else:\n",
    "        df_posts_feed = linkedin.connect(LI_AT, JSESSIONID).profile.get_posts_feed(\n",
    "            PROFILE_URL, limit=-1, sleep=sleep\n",
    "        )\n",
    "        return df_posts_feed\n",
    "\n",
    "    # Get new\n",
    "    df_posts_feed = linkedin.connect(LI_AT, JSESSIONID).profile.get_posts_feed(\n",
    "        PROFILE_URL, limit=LIMIT, sleep=sleep\n",
    "    )\n",
    "    df_new = pd.concat([df_posts_feed, df_gsheet]).drop_duplicates(key, keep=\"first\")\n",
    "    return df_new\n",
    "\n",
    "\n",
    "df_new = get_new_posts(df_gsheet, \"POST_URL\", limit=LIMIT)\n",
    "df_new"
   ]
  },
  {
   "cell_type": "markdown",
   "id": "comic-sucking",
   "metadata": {
    "papermill": {},
    "tags": []
   },
   "source": [
    "## Output"
   ]
  },
  {
   "cell_type": "markdown",
   "id": "killing-trust",
   "metadata": {
    "papermill": {},
    "tags": []
   },
   "source": [
    "### Send to Google Sheet"
   ]
  },
  {
   "cell_type": "code",
   "execution_count": null,
   "id": "urban-agency",
   "metadata": {
    "papermill": {},
    "tags": []
   },
   "outputs": [],
   "source": [
    "gsheet.connect(SPREADSHEET_URL).send(df_new, sheet_name=SHEET_NAME, append=False)"
   ]
  }
 ],
 "metadata": {
  "kernelspec": {
   "display_name": "Python 3",
   "language": "python",
   "name": "python3"
  },
  "language_info": {
   "codemirror_mode": {
    "name": "ipython",
    "version": 3
   },
   "file_extension": ".py",
   "mimetype": "text/x-python",
   "name": "python",
   "nbconvert_exporter": "python",
   "pygments_lexer": "ipython3",
   "version": "3.9.6"
  },
  "naas": {
   "notebook_id": "140e01b3-adcf-43f4-bf65-f7a626da6f59",
   "notebook_path": "LinkedIn/LinkedIn_Send_posts_feed_to_gsheet.ipynb"
  },
  "papermill": {
   "default_parameters": {},
   "environment_variables": {},
   "parameters": {},
   "version": "2.3.3"
  },
  "widgets": {
   "application/vnd.jupyter.widget-state+json": {
    "state": {},
    "version_major": 2,
    "version_minor": 0
   }
  }
 },
 "nbformat": 4,
 "nbformat_minor": 5
}