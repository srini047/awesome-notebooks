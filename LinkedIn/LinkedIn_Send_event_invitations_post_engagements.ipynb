{
 "cells": [
  {
   "cell_type": "markdown",
   "id": "fresh-danish",
   "metadata": {
    "execution": {
     "iopub.execute_input": "2021-01-25T08:00:35.294800Z",
     "iopub.status.busy": "2021-01-25T08:00:35.294557Z",
     "iopub.status.idle": "2021-01-25T08:00:35.307281Z",
     "shell.execute_reply": "2021-01-25T08:00:35.306468Z",
     "shell.execute_reply.started": "2021-01-25T08:00:35.294775Z"
    },
    "papermill": {},
    "tags": []
   },
   "source": [
    "<img width=\"10%\" alt=\"Naas\" src=\"https://landen.imgix.net/jtci2pxwjczr/assets/5ice39g4.png?w=160\"/>"
   ]
  },
  {
   "cell_type": "markdown",
   "id": "federal-pixel",
   "metadata": {
    "papermill": {},
    "tags": []
   },
   "source": [
    "# LinkedIn - Send event invitations post engagements\n",
    "<a href=\"https://app.naas.ai/user-redirect/naas/downloader?url=https://raw.githubusercontent.com/jupyter-naas/awesome-notebooks/master/LinkedIn/LinkedIn_Send_event_invitations_post_engagements.ipynb\" target=\"_parent\"><img src=\"https://naasai-public.s3.eu-west-3.amazonaws.com/Open_in_Naas_Lab.svg\"/></a><br><br><a href=\"https://github.com/jupyter-naas/awesome-notebooks/issues/new?assignees=&labels=&template=template-request.md&title=Tool+-+Action+of+the+notebook+\">Template request</a> | <a href=\"https://github.com/jupyter-naas/awesome-notebooks/issues/new?assignees=&labels=bug&template=bug_report.md&title=LinkedIn+-+Send+event+invitations+post+engagements:+Error+short+description\">Bug report</a> | <a href=\"https://app.naas.ai/user-redirect/naas/downloader?url=https://raw.githubusercontent.com/jupyter-naas/awesome-notebooks/master/Naas/Naas_Start_data_product.ipynb\" target=\"_parent\">Generate Data Product</a>"
   ]
  },
  {
   "cell_type": "markdown",
   "id": "be29252a-5f47-44cc-a178-c734ab5f042b",
   "metadata": {
    "papermill": {},
    "tags": []
   },
   "source": [
    "**Tags:** #linkedin #events #invitations #naas_drivers #snippet"
   ]
  },
  {
   "cell_type": "markdown",
   "id": "ce9b6fcd-b307-40ba-b872-668562f81947",
   "metadata": {
    "papermill": {},
    "tags": []
   },
   "source": [
    "**Author:** [Florent Ravenel](https://www.linkedin.com/in/florent-ravenel/)"
   ]
  },
  {
   "cell_type": "markdown",
   "id": "naas-description",
   "metadata": {
    "papermill": {},
    "tags": [
     "description"
    ]
   },
   "source": [
    "**Description:** This notebook allows users to send event invitations and post engagements on LinkedIn."
   ]
  },
  {
   "cell_type": "markdown",
   "id": "e08feb82-ede9-461d-960d-90828b8a8b9c",
   "metadata": {
    "papermill": {},
    "tags": []
   },
   "source": [
    "\n",
    "<div class=\"alert alert-info\" role=\"info\" style=\"margin: 10px\">\n",
    "<b>Disclaimer:</b><br>\n",
    "This code is in no way affiliated with, authorized, maintained, sponsored or endorsed by Linkedin or any of its affiliates or subsidiaries. It uses an independent and unofficial API. Use at your own risk.\n",
    "\n",
    "This project violates Linkedin's User Agreement Section 8.2, and because of this, Linkedin may (and will) temporarily or permanently ban your account. We are not responsible for your account being banned.\n",
    "<br>\n",
    "</div>"
   ]
  },
  {
   "cell_type": "markdown",
   "id": "normal-rochester",
   "metadata": {
    "papermill": {},
    "tags": []
   },
   "source": [
    "## Input"
   ]
  },
  {
   "cell_type": "markdown",
   "id": "import_cell",
   "metadata": {
    "papermill": {},
    "tags": []
   },
   "source": [
    "### Import library"
   ]
  },
  {
   "cell_type": "code",
   "execution_count": null,
   "id": "recreational-season",
   "metadata": {
    "papermill": {},
    "tags": []
   },
   "outputs": [],
   "source": [
    "from naas_drivers import linkedin\n",
    "import pandas as pd\n",
    "import naas\n",
    "import requests\n",
    "import time"
   ]
  },
  {
   "cell_type": "markdown",
   "id": "wrapped-benjamin",
   "metadata": {
    "papermill": {},
    "tags": []
   },
   "source": [
    "### Setup LinkedIn\n",
    "👉 <a href='https://www.notion.so/LinkedIn-driver-Get-your-cookies-d20a8e7e508e42af8a5b52e33f3dba75'>How to get your cookies ?</a>"
   ]
  },
  {
   "cell_type": "code",
   "execution_count": null,
   "id": "yellow-footage",
   "metadata": {
    "papermill": {},
    "tags": []
   },
   "outputs": [],
   "source": [
    "# Credentials\n",
    "LI_AT = (\n",
    "    naas.secret.get(\"LI_AT\") or \"ENTER_YOUR_COOKIE_LI_AT_HERE\"\n",
    ")  # EXAMPLE: AQFAzQN_PLPR4wAAAXc-FCKmgiMit5FLdY1af3-2\n",
    "JSESSIONID = (\n",
    "    naas.secret.get(\"JSESSIONID\") or \"ENTER_YOUR_COOKIE_JSESSIONID_HERE\"\n",
    ")  # EXAMPLE: ajax:8379907400220387585\n",
    "\n",
    "# Event URL\n",
    "EVENT_URL = \"ENTER_YOUR_EVENT_URL_HERE\"  # EXAMPLE: https://www.linkedin.com/events/XXXXXXXXXXXX/\n",
    "\n",
    "# Post URL\n",
    "POST_URL = (\n",
    "    \"ENTER_YOUR_POST_URL_HERE\"  # EXAMPLE: https://www.linkedin.com/posts/XXXXXXXXXXXX/\n",
    ")"
   ]
  },
  {
   "cell_type": "markdown",
   "id": "pediatric-emerald",
   "metadata": {
    "papermill": {},
    "tags": []
   },
   "source": [
    "## Model"
   ]
  },
  {
   "cell_type": "markdown",
   "id": "a14b6ad5-ba53-4e41-b7f6-c5e8df57e417",
   "metadata": {
    "papermill": {},
    "tags": []
   },
   "source": [
    "### Get list of events attendees"
   ]
  },
  {
   "cell_type": "code",
   "execution_count": null,
   "id": "7ca96ed2-618e-4a32-a095-5fab7117b2c8",
   "metadata": {
    "papermill": {},
    "tags": []
   },
   "outputs": [],
   "source": [
    "df_attendees = linkedin.connect(LI_AT, JSESSIONID).event.get_guests(EVENT_URL)\n",
    "print(\"✅ Attendees fetched:\", len(df_attendees))\n",
    "df_attendees.head(1)"
   ]
  },
  {
   "cell_type": "markdown",
   "id": "86e71037-ec95-499f-ac23-8f7bd9300e35",
   "metadata": {
    "papermill": {},
    "tags": []
   },
   "source": [
    "### Get post likes and comments"
   ]
  },
  {
   "cell_type": "code",
   "execution_count": null,
   "id": "fae45014-b84e-4726-8d53-106ad7d6486e",
   "metadata": {
    "papermill": {},
    "tags": []
   },
   "outputs": [],
   "source": [
    "def get_engagements(post_url):\n",
    "    # Get engagements\n",
    "    df_likes = linkedin.connect(LI_AT, JSESSIONID).post.get_likes(post_url)\n",
    "    df_comments = linkedin.connect(LI_AT, JSESSIONID).post.get_comments(post_url)\n",
    "\n",
    "    # Concat\n",
    "    df = (\n",
    "        pd.concat([df_likes, df_comments])\n",
    "        .drop_duplicates(\"PROFILE_ID\", keep=\"last\")\n",
    "        .reset_index(drop=True)\n",
    "    )\n",
    "    return df\n",
    "\n",
    "\n",
    "df_engagements = get_engagements(POST_URL)\n",
    "print(\"✅ Engagements fetched:\", len(df_engagements))\n",
    "df_engagements.head(1)"
   ]
  },
  {
   "cell_type": "markdown",
   "id": "b38854da-f87f-41d9-9a1a-f5dcc316d2fe",
   "metadata": {
    "papermill": {},
    "tags": []
   },
   "source": [
    "### Get new invitations"
   ]
  },
  {
   "cell_type": "code",
   "execution_count": null,
   "id": "6f59503a-0f81-4053-b76c-be18614b273b",
   "metadata": {
    "papermill": {},
    "tags": []
   },
   "outputs": [],
   "source": [
    "def get_new_invitations(df_attendees, df_engagements):\n",
    "    attendees_list = df_attendees.PROFILE_ID.unique()\n",
    "    df = df_engagements[~df_engagements.PROFILE_ID.isin(attendees_list)]\n",
    "    return df\n",
    "\n",
    "\n",
    "df_new_invitations = get_new_invitations(df_attendees, df_engagements)\n",
    "print(\"✅ New invitations fetched:\", len(df_new_invitations))\n",
    "df_new_invitations.head(1)"
   ]
  },
  {
   "cell_type": "markdown",
   "id": "piano-stylus",
   "metadata": {
    "papermill": {},
    "tags": []
   },
   "source": [
    "## Output"
   ]
  },
  {
   "cell_type": "markdown",
   "id": "4d1415b0-f163-41d5-a7b1-fdabf28ed689",
   "metadata": {
    "papermill": {},
    "tags": []
   },
   "source": [
    "### Send invitations to event"
   ]
  },
  {
   "cell_type": "code",
   "execution_count": null,
   "id": "79f70605-60e5-4816-b38b-6af9f7b55c1e",
   "metadata": {
    "papermill": {},
    "tags": []
   },
   "outputs": [],
   "source": [
    "LinkedIn = linkedin.connect(LI_AT, JSESSIONID)\n",
    "cookies = LinkedIn.cookies\n",
    "headers = LinkedIn.headers\n",
    "\n",
    "\n",
    "def send_invitations(profile_id, event_url):\n",
    "    event_id = event_url.split(\"/events/\")[-1].split(\"/\")[0]\n",
    "    payload = {\n",
    "        \"invitations\": [\n",
    "            {\n",
    "                \"emberEntityName\": \"growth/invitation/norm-invitation\",\n",
    "                \"invitee\": {\n",
    "                    \"com.linkedin.voyager.growth.invitation.GenericInvitee\": {\n",
    "                        \"inviteeUrn\": f\"urn:li:fs_miniProfile:{profile_id}\"\n",
    "                    }\n",
    "                },\n",
    "                \"trackingId\": \"4T5tesDXQDqC9ArO15TLag==\",\n",
    "                \"inviterUrn\": f\"urn:li:fs_professionalEvent:{event_id}\",\n",
    "            }\n",
    "        ],\n",
    "        \"defaultCountryCode\": \"\",\n",
    "    }\n",
    "    req_url = f\"https://www.linkedin.com/voyager/api/growth/normInvitations?action=batchCreate\"\n",
    "    res = requests.post(req_url, cookies=cookies, headers=headers, json=payload)\n",
    "    res.raise_for_status()\n",
    "    return res"
   ]
  },
  {
   "cell_type": "markdown",
   "id": "4e85b7e9-fe28-4796-a65d-fe577db0994e",
   "metadata": {
    "papermill": {},
    "tags": []
   },
   "source": [
    "### Send invitation"
   ]
  },
  {
   "cell_type": "code",
   "execution_count": null,
   "id": "eb8c91fb-4b01-4462-b1ac-244ff873fcfe",
   "metadata": {
    "papermill": {},
    "tags": []
   },
   "outputs": [],
   "source": [
    "def send_invitation(df):\n",
    "    # Check if new invitations to perform\n",
    "    if len(df) == 0:\n",
    "        print(\"🤙 No new invitations to send\")\n",
    "        return df\n",
    "\n",
    "    # Loop\n",
    "    for index, row in df.iterrows():\n",
    "        profile = row[\"FULLNAME\"]\n",
    "        profile_id = row[\"PROFILE_ID\"]\n",
    "        print(f\"➡️ Checking :\", profile, profile_id)\n",
    "\n",
    "        # Get distance with profile\n",
    "        try:\n",
    "            send_invitations(profile_id, EVENT_URL)\n",
    "            print(index, \"- 🙌 Invitation successfully sent\")\n",
    "        except Exception as e:\n",
    "            print(\"❌ Invitation not sent\", e)\n",
    "        time.sleep(3)\n",
    "\n",
    "\n",
    "send_invitation(df_new_invitations)"
   ]
  }
 ],
 "metadata": {
  "kernelspec": {
   "display_name": "Python 3",
   "language": "python",
   "name": "python3"
  },
  "language_info": {
   "codemirror_mode": {
    "name": "ipython",
    "version": 3
   },
   "file_extension": ".py",
   "mimetype": "text/x-python",
   "name": "python",
   "nbconvert_exporter": "python",
   "pygments_lexer": "ipython3",
   "version": "3.9.6"
  },
  "naas": {
   "notebook_id": "085902bb7fa3c3f0814ec7b5309206de2c60937f383c1765d58bd70581f920df",
   "notebook_path": "LinkedIn/LinkedIn_Send_event_invitations_post_engagements.ipynb"
  },
  "papermill": {
   "default_parameters": {},
   "environment_variables": {},
   "parameters": {},
   "version": "2.3.3"
  },
  "widgets": {
   "application/vnd.jupyter.widget-state+json": {
    "state": {},
    "version_major": 2,
    "version_minor": 0
   }
  }
 },
 "nbformat": 4,
 "nbformat_minor": 5
}