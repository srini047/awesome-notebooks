{
 "cells": [
  {
   "cell_type": "markdown",
   "id": "developed-maldives",
   "metadata": {
    "execution": {
     "iopub.execute_input": "2021-01-25T08:00:35.294800Z",
     "iopub.status.busy": "2021-01-25T08:00:35.294557Z",
     "iopub.status.idle": "2021-01-25T08:00:35.307281Z",
     "shell.execute_reply": "2021-01-25T08:00:35.306468Z",
     "shell.execute_reply.started": "2021-01-25T08:00:35.294775Z"
    },
    "papermill": {},
    "tags": []
   },
   "source": [
    "<img width=\"10%\" alt=\"Naas\" src=\"https://landen.imgix.net/jtci2pxwjczr/assets/5ice39g4.png?w=160\"/>"
   ]
  },
  {
   "cell_type": "markdown",
   "id": "sharing-bracket",
   "metadata": {
    "papermill": {},
    "tags": []
   },
   "source": [
    "# LinkedIn - Get sentiment emotion irony offensiveness from comments\n",
    "<a href=\"https://app.naas.ai/user-redirect/naas/downloader?url=https://raw.githubusercontent.com/jupyter-naas/awesome-notebooks/master/LinkedIn/LinkedIn_Get_sentiment_emotion_irony_offensiveness_from_comments.ipynb\" target=\"_parent\"><img src=\"https://naasai-public.s3.eu-west-3.amazonaws.com/Open_in_Naas_Lab.svg\"/></a><br><br><a href=\"https://github.com/jupyter-naas/awesome-notebooks/issues/new?assignees=&labels=&template=template-request.md&title=Tool+-+Action+of+the+notebook+\">Template request</a> | <a href=\"https://github.com/jupyter-naas/awesome-notebooks/issues/new?assignees=&labels=bug&template=bug_report.md&title=LinkedIn+-+Get+sentiment+emotion+irony+offensiveness+from+comments:+Error+short+description\">Bug report</a> | <a href=\"https://app.naas.ai/user-redirect/naas/downloader?url=https://raw.githubusercontent.com/jupyter-naas/awesome-notebooks/master/Naas/Naas_Start_data_product.ipynb\" target=\"_parent\">Generate Data Product</a>"
   ]
  },
  {
   "cell_type": "markdown",
   "id": "e8c1a8fa-802d-45c9-bcf2-138f0ef0f86e",
   "metadata": {
    "papermill": {},
    "tags": []
   },
   "source": [
    "**Tags:** #linkedin #nlp #transformers #ai #post #comments #naas_drivers #content #snippet #dataframe"
   ]
  },
  {
   "cell_type": "markdown",
   "id": "b95d2ae1-1642-4efb-b647-18ed3430968e",
   "metadata": {
    "papermill": {},
    "tags": []
   },
   "source": [
    "**Author:** [Nikolaj Groeneweg](https://www.linkedin.com/in/njgroene/)"
   ]
  },
  {
   "cell_type": "markdown",
   "id": "655dccd8-1f26-4353-8742-a8a907fc1ec3",
   "metadata": {
    "execution": {
     "iopub.execute_input": "2022-06-17T18:09:20.894009Z",
     "iopub.status.busy": "2022-06-17T18:09:20.893694Z",
     "iopub.status.idle": "2022-06-17T18:09:20.901650Z",
     "shell.execute_reply": "2022-06-17T18:09:20.900620Z",
     "shell.execute_reply.started": "2022-06-17T18:09:20.893970Z"
    },
    "papermill": {},
    "tags": []
   },
   "source": [
    "**Description:** This notebook gets all the comments on a LinkedIn post, and performs sentiment analysis, emotion classification and some semantic analysis on them. \n",
    "It classifies each comment and returns the following information:\n",
    "\n",
    "- is the comment positive, negative or neutral?\n",
    "- is the comment ironic?\n",
    "- is the comment offensive?\n",
    "- does the comment express joy, optimism, anger or sadness?"
   ]
  },
  {
   "cell_type": "markdown",
   "id": "05bac1e4-9c77-4b3d-b53a-26c03173cd7e",
   "metadata": {
    "papermill": {},
    "tags": []
   },
   "source": [
    "**References:**\n",
    "\n",
    "This template is based on the following work :\n",
    "\n",
    "F. Barbieri, J. Camacho-Collados, L. Neves and L.E. Anke (2020), *TweetEval: Unified Benchmark and Comparative Evaluation for Tweet Classification*, CoRR abs/2010.12421. Full paper : https://arxiv.org/abs/2010.12421. Official github : https://github.com/cardiffnlp/tweeteval\n",
    "\n",
    "All credit goes to the above authors, any mistakes are on the author of this template. \n",
    "  "
   ]
  },
  {
   "cell_type": "markdown",
   "id": "7c21aac2-d324-4256-ae3f-07c85802b9b8",
   "metadata": {
    "papermill": {},
    "tags": []
   },
   "source": [
    "### Disclaimers"
   ]
  },
  {
   "cell_type": "markdown",
   "id": "3e097daa-1720-45f3-9e08-0a61ef8bc1d1",
   "metadata": {
    "papermill": {},
    "tags": []
   },
   "source": [
    "The machine learning models used in this template were trained on datasets of tweets.<br>Details can be found here : https://github.com/cardiffnlp/tweeteval/blob/main/README.md. \n",
    "\n",
    "These models may be expected to work well on shorter comments, but their output will become less reliable as the length of the text increases. \n",
    "\n",
    "The \"emotion\" classification performs rather unpredictably on very short comments. For many neutral comments it defaults to \"joy\", there being neutral category). It is most useful to identify and filter for negative emotions (sadness) and to identify interesting commments (optimism).\n",
    "\n",
    "In general, caution is recommended when integrating these classifications in any automated decision pipeline."
   ]
  },
  {
   "cell_type": "markdown",
   "id": "56d569bd-16c4-457f-9222-9782b357f255",
   "metadata": {
    "papermill": {},
    "tags": []
   },
   "source": [
    "\n",
    "<div class=\"alert alert-info\" role=\"info\" style=\"margin: 10px\">\n",
    "<b>Disclaimer:</b><br>\n",
    "This code is in no way affiliated with, authorized, maintained, sponsored or endorsed by Linkedin or any of its affiliates or subsidiaries. It uses an independent and unofficial API. Use at your own risk.\n",
    "\n",
    "This project violates Linkedin's User Agreement Section 8.2, and because of this, Linkedin may (and will) temporarily or permanently ban your account. We are not responsible for your account being banned.\n",
    "<br>\n",
    "</div>"
   ]
  },
  {
   "cell_type": "markdown",
   "id": "aging-category",
   "metadata": {
    "papermill": {},
    "tags": []
   },
   "source": [
    "## Input"
   ]
  },
  {
   "cell_type": "markdown",
   "id": "bba6557f-8141-43f9-8e8e-b678643804da",
   "metadata": {
    "execution": {
     "iopub.execute_input": "2022-06-17T18:10:59.961420Z",
     "iopub.status.busy": "2022-06-17T18:10:59.961190Z",
     "iopub.status.idle": "2022-06-17T18:10:59.964160Z",
     "shell.execute_reply": "2022-06-17T18:10:59.963527Z",
     "shell.execute_reply.started": "2022-06-17T18:10:59.961394Z"
    },
    "papermill": {},
    "tags": []
   },
   "source": [
    "### Import libraries"
   ]
  },
  {
   "cell_type": "code",
   "execution_count": null,
   "id": "d70b2b66-f898-4286-bf99-f77e53e14c74",
   "metadata": {
    "papermill": {},
    "tags": []
   },
   "outputs": [],
   "source": [
    "!pip install protobuf==3.20.1 --user"
   ]
  },
  {
   "cell_type": "code",
   "execution_count": null,
   "id": "7c1a7955-6f28-465f-a924-6252f0df3bf0",
   "metadata": {
    "papermill": {},
    "tags": []
   },
   "outputs": [],
   "source": [
    "from naas_drivers import linkedin\n",
    "from transformers import pipeline\n",
    "from transformers import AutoModelForSequenceClassification\n",
    "from transformers import TFAutoModelForSequenceClassification\n",
    "from transformers import AutoTokenizer\n",
    "import numpy as np\n",
    "from scipy.special import softmax\n",
    "import csv\n",
    "import urllib.request\n",
    "import os.path\n",
    "import naas"
   ]
  },
  {
   "cell_type": "markdown",
   "id": "28bd56e8-33c4-4d5b-80d2-67fa7f3ae9d7",
   "metadata": {
    "papermill": {},
    "tags": []
   },
   "source": [
    "### Setup LinkedIn\n",
    "<a href='https://www.notion.so/LinkedIn-driver-Get-your-cookies-d20a8e7e508e42af8a5b52e33f3dba75'>How to get your cookies ?</a>"
   ]
  },
  {
   "cell_type": "code",
   "execution_count": null,
   "id": "czech-cooking",
   "metadata": {
    "papermill": {},
    "tags": []
   },
   "outputs": [],
   "source": [
    "# LinkedIn credentials\n",
    "LI_AT = None or naas.secret.get(\n",
    "    \"LI_AT\"\n",
    ")  # EXAMPLE AQFAzQN_PLPR4wAAAXc-FCKmgiMit5FLdY1af3-2\n",
    "JSESSIONID = None or naas.secret.get(\"JSESSIONID\")  # EXAMPLE ajax:8379907400220387585\n",
    "\n",
    "# Enter post URL\n",
    "POST_URL = \"ENTER_YOUR_POST_URL_HERE\""
   ]
  },
  {
   "cell_type": "markdown",
   "id": "italic-rhythm",
   "metadata": {
    "papermill": {},
    "tags": []
   },
   "source": [
    "## Model"
   ]
  },
  {
   "cell_type": "markdown",
   "id": "musical-information",
   "metadata": {
    "execution": {
     "iopub.execute_input": "2021-05-15T10:12:55.887028Z",
     "iopub.status.busy": "2021-05-15T10:12:55.886761Z",
     "iopub.status.idle": "2021-05-15T10:12:55.899441Z",
     "shell.execute_reply": "2021-05-15T10:12:55.898476Z",
     "shell.execute_reply.started": "2021-05-15T10:12:55.886964Z"
    },
    "papermill": {},
    "tags": []
   },
   "source": [
    "Get the post comments and return them in a dataframe. <br> Colums are added for classifier output.<br>\n",
    "\n",
    "**Available columns after classification :**\n",
    "- PROFILE_ID\n",
    "- PROFILE_URL\n",
    "- PUBLIC_ID\n",
    "- FIRSTNAME\n",
    "- LASTNAME\n",
    "- FULLNAME\n",
    "- OCCUPATION\n",
    "- PROFILE_PICTURE\n",
    "- BACKGROUND_PICTURE\n",
    "- PROFILE_TYPE\n",
    "- TEXT\n",
    "- SENTIMENT\n",
    "- SENTIMENT_SCORE\n",
    "- IRONY\n",
    "- IRONY_SCORE\n",
    "- OFFENSIVE\n",
    "- OFFENSIVE_SCORE\n",
    "- EMOTION\n",
    "- EMOTION_SCORE\n",
    "- CREATED_TIME\n",
    "- LANGUAGE\n",
    "- DISTANCE\n",
    "- COMMENTS\n",
    "- LIKES\n",
    "- POST_URL\n",
    "- DATE_EXTRACT"
   ]
  },
  {
   "cell_type": "code",
   "execution_count": null,
   "id": "e283c190-1c9a-4fec-93cf-42b83961e191",
   "metadata": {
    "papermill": {},
    "tags": []
   },
   "outputs": [],
   "source": [
    "df = linkedin.connect(LI_AT, JSESSIONID).post.get_comments(POST_URL)\n",
    "\n",
    "# add columns for classification output\n",
    "df.insert(loc=11, column=\"SENTIMENT\", value=None)\n",
    "df.insert(loc=12, column=\"SENTIMENT_SCORE\", value=None)\n",
    "df.insert(loc=13, column=\"IRONY\", value=None)\n",
    "df.insert(loc=14, column=\"IRONY_SCORE\", value=None)\n",
    "df.insert(loc=15, column=\"OFFENSIVE\", value=None)\n",
    "df.insert(loc=16, column=\"OFFENSIVE_SCORE\", value=None)\n",
    "df.insert(loc=17, column=\"EMOTION\", value=None)\n",
    "df.insert(loc=18, column=\"EMOTION_SCORE\", value=None)"
   ]
  },
  {
   "cell_type": "code",
   "execution_count": null,
   "id": "abecb135-38ca-474a-ba47-4f7ab9280f9c",
   "metadata": {
    "papermill": {},
    "tags": []
   },
   "outputs": [],
   "source": [
    "def preprocess(text):\n",
    "    \"\"\"Preprocess text to be classified\n",
    "    Replaces user-tags and URLs with neutral token\n",
    "    \"\"\"\n",
    "    new_text = []\n",
    "    for t in text.split(\" \"):\n",
    "        t = \"@user\" if t.startswith(\"@\") and len(t) > 1 else t\n",
    "        t = \"http\" if t.startswith(\"http\") else t\n",
    "        new_text.append(t)\n",
    "    return \" \".join(new_text)\n",
    "\n",
    "\n",
    "def classify(text, task, tokenizers, models, task_labels):\n",
    "    \"\"\"Classifies text using task classifier\n",
    "    with the corresponding tokenizer and model\n",
    "    :return: dictionary with winning label and corresponding score\n",
    "    \"\"\"\n",
    "    text = preprocess(text)\n",
    "    tokenizer = tokenizers[task]\n",
    "    model = models[task]\n",
    "    labels = task_labels[task]\n",
    "    encoded_input = tokenizer(text, return_tensors=\"pt\")\n",
    "    output = model(**encoded_input)\n",
    "    scores = output[0][0].detach().numpy()\n",
    "    scores = softmax(scores)\n",
    "    ranking = np.argsort(scores)\n",
    "    ranking = ranking[::-1]\n",
    "    idx = ranking[0]\n",
    "    label = str(labels[idx])\n",
    "    score = np.round(float(scores[idx]), 4)\n",
    "    return {\"label\": label, \"score\": score}"
   ]
  },
  {
   "cell_type": "code",
   "execution_count": null,
   "id": "ca45b04e-d103-49ef-80a7-f2ed4f3085cd",
   "metadata": {
    "papermill": {},
    "tags": []
   },
   "outputs": [],
   "source": [
    "# selected subset of available tasks\n",
    "tasks = [\"sentiment\", \"emotion\", \"irony\", \"offensive\"]\n",
    "# these labels are slightly modified to improve readibility\n",
    "labels = {\n",
    "    \"sentiment\": [\"negative\", \"neutral\", \"positive\"],\n",
    "    \"emotion\": [\"anger\", \"joy\", \"optimism\", \"sadness\"],\n",
    "    \"irony\": [\"not-ironic\", \"ironic\"],\n",
    "    \"offensive\": [\"not-offensive\", \"offensive\"],\n",
    "}\n",
    "# models and tokenizers will be loaded from huggingface\n",
    "models = {}\n",
    "tokenizers = {}\n",
    "\n",
    "# perform each of the classifications and enrich dataframe\n",
    "for task in tasks:\n",
    "    MODEL = f\"cardiffnlp/twitter-roberta-base-{task}\"\n",
    "    # on first run, tokenizer and model are loaded from hugging face\n",
    "    tokenizer = AutoTokenizer.from_pretrained(MODEL)\n",
    "    model = AutoModelForSequenceClassification.from_pretrained(MODEL)\n",
    "\n",
    "    # save tokenizer and models to local disk\n",
    "    tokenizer.save_pretrained(MODEL)\n",
    "    model.save_pretrained(MODEL)\n",
    "\n",
    "    models[task] = model\n",
    "    tokenizers[task] = tokenizer\n",
    "\n",
    "    # execution time is not a concern, so we can just use .apply() to apply classifier\n",
    "    result = df[\"TEXT\"].apply(classify, args=(task, tokenizers, models, labels))\n",
    "\n",
    "    # keep only winning label and score, inspect result to see full classifier output\n",
    "    df[str.upper(task)] = [d[\"label\"] for d in result]\n",
    "    df[str.upper(task) + \"_SCORE\"] = [d[\"score\"] for d in result]\n",
    "\n",
    "df.head(5)"
   ]
  },
  {
   "cell_type": "markdown",
   "id": "challenging-quarter",
   "metadata": {
    "papermill": {},
    "tags": []
   },
   "source": [
    "## Output"
   ]
  },
  {
   "cell_type": "markdown",
   "id": "confident-nature",
   "metadata": {
    "papermill": {},
    "tags": []
   },
   "source": [
    "### Display result"
   ]
  },
  {
   "cell_type": "code",
   "execution_count": null,
   "id": "2643dc4c-dbc2-483b-8549-982d0e13b3c1",
   "metadata": {
    "papermill": {},
    "tags": []
   },
   "outputs": [],
   "source": [
    "# shows only text and classification output\n",
    "for index, row in df.iterrows():\n",
    "    print(\n",
    "        f\"{row['TEXT']}\\n\\t{row['SENTIMENT']}({row['SENTIMENT_SCORE']})\\n\\t{row['IRONY']}({row['IRONY_SCORE']})\\n\\t{row['OFFENSIVE']}({row['OFFENSIVE_SCORE']})\\n\\t{row['EMOTION']}({row['EMOTION_SCORE']})\\n\\t\\n\\n\"\n",
    "    )"
   ]
  }
 ],
 "metadata": {
  "kernelspec": {
   "display_name": "Python 3",
   "language": "python",
   "name": "python3"
  },
  "language_info": {
   "codemirror_mode": {
    "name": "ipython",
    "version": 3
   },
   "file_extension": ".py",
   "mimetype": "text/x-python",
   "name": "python",
   "nbconvert_exporter": "python",
   "pygments_lexer": "ipython3",
   "version": "3.9.6"
  },
  "naas": {
   "notebook_id": "484bd5a79481d84712cb9422e5af9b6dead06ecd0eb1fb6a1acc01dc13006e29",
   "notebook_path": "LinkedIn/LinkedIn_Get_sentiment_emotion_irony_offensiveness_from_comments.ipynb"
  },
  "papermill": {
   "default_parameters": {},
   "environment_variables": {},
   "parameters": {},
   "version": "2.3.3"
  },
  "widgets": {
   "application/vnd.jupyter.widget-state+json": {
    "state": {},
    "version_major": 2,
    "version_minor": 0
   }
  }
 },
 "nbformat": 4,
 "nbformat_minor": 5
}