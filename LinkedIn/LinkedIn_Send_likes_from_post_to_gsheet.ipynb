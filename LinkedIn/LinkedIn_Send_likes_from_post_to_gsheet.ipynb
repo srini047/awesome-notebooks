{
 "cells": [
  {
   "cell_type": "markdown",
   "id": "composite-guinea",
   "metadata": {
    "execution": {
     "iopub.execute_input": "2021-01-25T08:00:35.294800Z",
     "iopub.status.busy": "2021-01-25T08:00:35.294557Z",
     "iopub.status.idle": "2021-01-25T08:00:35.307281Z",
     "shell.execute_reply": "2021-01-25T08:00:35.306468Z",
     "shell.execute_reply.started": "2021-01-25T08:00:35.294775Z"
    },
    "papermill": {},
    "tags": []
   },
   "source": [
    "<img width=\"10%\" alt=\"Naas\" src=\"https://landen.imgix.net/jtci2pxwjczr/assets/5ice39g4.png?w=160\"/>"
   ]
  },
  {
   "cell_type": "markdown",
   "id": "ultimate-physiology",
   "metadata": {
    "papermill": {},
    "tags": []
   },
   "source": [
    "# LinkedIn - Send likes from post to gsheet\n",
    "<a href=\"https://app.naas.ai/user-redirect/naas/downloader?url=https://raw.githubusercontent.com/jupyter-naas/awesome-notebooks/master/LinkedIn/LinkedIn_Send_likes_from_post_to_gsheet.ipynb\" target=\"_parent\"><img src=\"https://naasai-public.s3.eu-west-3.amazonaws.com/Open_in_Naas_Lab.svg\"/></a><br><br><a href=\"https://github.com/jupyter-naas/awesome-notebooks/issues/new?assignees=&labels=&template=template-request.md&title=Tool+-+Action+of+the+notebook+\">Template request</a> | <a href=\"https://github.com/jupyter-naas/awesome-notebooks/issues/new?assignees=&labels=bug&template=bug_report.md&title=LinkedIn+-+Send+likes+from+post+to+gsheet:+Error+short+description\">Bug report</a> | <a href=\"https://app.naas.ai/user-redirect/naas/downloader?url=https://raw.githubusercontent.com/jupyter-naas/awesome-notebooks/master/Naas/Naas_Start_data_product.ipynb\" target=\"_parent\">Generate Data Product</a>"
   ]
  },
  {
   "cell_type": "markdown",
   "id": "05c7e6ad-4c2e-415c-b9c5-1811ad14d4be",
   "metadata": {
    "papermill": {},
    "tags": []
   },
   "source": [
    "**Tags:** #linkedin #post #likes #gsheet #naas_drivers #content #snippet #googlesheets"
   ]
  },
  {
   "cell_type": "markdown",
   "id": "8b4f752b-1016-4c81-81ba-ecc5c1b81c58",
   "metadata": {
    "papermill": {},
    "tags": []
   },
   "source": [
    "**Author:** [Florent Ravenel](https://www.linkedin.com/in/florent-ravenel/)"
   ]
  },
  {
   "cell_type": "markdown",
   "id": "naas-description",
   "metadata": {
    "papermill": {},
    "tags": [
     "description"
    ]
   },
   "source": [
    "**Description:** This notebook automates the process of sending likes from LinkedIn posts to a Google Sheet."
   ]
  },
  {
   "cell_type": "markdown",
   "id": "9ad99612-3873-4e35-922d-c33337f8a2f9",
   "metadata": {
    "papermill": {},
    "tags": []
   },
   "source": [
    "\n",
    "<div class=\"alert alert-info\" role=\"info\" style=\"margin: 10px\">\n",
    "<b>Disclaimer:</b><br>\n",
    "This code is in no way affiliated with, authorized, maintained, sponsored or endorsed by Linkedin or any of its affiliates or subsidiaries. It uses an independent and unofficial API. Use at your own risk.\n",
    "\n",
    "This project violates Linkedin's User Agreement Section 8.2, and because of this, Linkedin may (and will) temporarily or permanently ban your account. We are not responsible for your account being banned.\n",
    "<br>\n",
    "</div>"
   ]
  },
  {
   "cell_type": "markdown",
   "id": "yellow-clear",
   "metadata": {
    "papermill": {},
    "tags": []
   },
   "source": [
    "## Input"
   ]
  },
  {
   "cell_type": "markdown",
   "id": "import_cell",
   "metadata": {
    "papermill": {},
    "tags": []
   },
   "source": [
    "### Import libraries"
   ]
  },
  {
   "cell_type": "code",
   "execution_count": null,
   "id": "demographic-kennedy",
   "metadata": {
    "papermill": {},
    "tags": []
   },
   "outputs": [],
   "source": [
    "from naas_drivers import linkedin, gsheet\n",
    "import random\n",
    "import time\n",
    "import pandas as pd\n",
    "from datetime import datetime"
   ]
  },
  {
   "cell_type": "markdown",
   "id": "asian-theta",
   "metadata": {
    "papermill": {},
    "tags": []
   },
   "source": [
    "### Setup LinkedIn\n",
    "👉 <a href='https://www.notion.so/LinkedIn-driver-Get-your-cookies-d20a8e7e508e42af8a5b52e33f3dba75'>How to get your cookies ?</a>"
   ]
  },
  {
   "cell_type": "code",
   "execution_count": null,
   "id": "timely-columbus",
   "metadata": {
    "papermill": {},
    "tags": []
   },
   "outputs": [],
   "source": [
    "# Lindekin cookies\n",
    "LI_AT = \"AQEDARCNSioDe6wmAAABfqF-HR4AAAF-xYqhHlYAtSu7EZZEpFer0UZF-GLuz2DNSz4asOOyCRxPGFjenv37irMObYYgxxxxxxx\"\n",
    "JSESSIONID = \"ajax:12XXXXXXXXXXXXXXXXX\"\n",
    "\n",
    "# Post url\n",
    "POST_URL = \"POST_URL\""
   ]
  },
  {
   "cell_type": "markdown",
   "id": "junior-orientation",
   "metadata": {
    "papermill": {},
    "tags": []
   },
   "source": [
    "### Setup your Google Sheet\n",
    "👉 Get your spreadsheet id => it is located in your gsheet url after \"https://docs.google.com/spreadsheets/d/\" and before \"/edit\"<br>\n",
    "👉 Share your gsheet with our service account to connect : naas-share@naas-gsheets.iam.gserviceaccount.com<br>\n",
    "👉 Create your sheet before sending data into it"
   ]
  },
  {
   "cell_type": "code",
   "execution_count": null,
   "id": "empirical-generation",
   "metadata": {
    "papermill": {},
    "tags": []
   },
   "outputs": [],
   "source": [
    "# Spreadsheet id\n",
    "SPREADSHEET_ID = \"SPREADSHEET_ID\"\n",
    "\n",
    "# Sheet names\n",
    "SHEET_POST_LIKES = \"POST_LIKES\"\n",
    "SHEET_MY_NETWORK = \"MY_NETWORK\"\n",
    "SHEET_NOT_MY_NETWORK = \"NOT_MY_NETWORK\""
   ]
  },
  {
   "cell_type": "markdown",
   "id": "equipped-plain",
   "metadata": {
    "execution": {
     "iopub.execute_input": "2021-06-22T09:46:54.832725Z",
     "iopub.status.busy": "2021-06-22T09:46:54.832512Z",
     "iopub.status.idle": "2021-06-22T09:46:54.835997Z",
     "shell.execute_reply": "2021-06-22T09:46:54.835323Z",
     "shell.execute_reply.started": "2021-06-22T09:46:54.832702Z"
    },
    "papermill": {},
    "tags": []
   },
   "source": [
    "### Constant"
   ]
  },
  {
   "cell_type": "code",
   "execution_count": null,
   "id": "worldwide-purse",
   "metadata": {
    "papermill": {},
    "tags": []
   },
   "outputs": [],
   "source": [
    "DATETIME_FORMAT = \"%Y-%m-%d %H:%M:%S\""
   ]
  },
  {
   "cell_type": "markdown",
   "id": "crude-melbourne",
   "metadata": {
    "papermill": {},
    "tags": []
   },
   "source": [
    "## Model"
   ]
  },
  {
   "cell_type": "markdown",
   "id": "hazardous-spirituality",
   "metadata": {
    "papermill": {},
    "tags": []
   },
   "source": [
    "### Get likes from post"
   ]
  },
  {
   "cell_type": "code",
   "execution_count": null,
   "id": "finnish-scottish",
   "metadata": {
    "papermill": {},
    "tags": []
   },
   "outputs": [],
   "source": [
    "df_posts = linkedin.connect(LI_AT, JSESSIONID).post.get_likes(POST_URL)\n",
    "df_posts[\"DATE_EXTRACT\"] = datetime.now().strftime(DATETIME_FORMAT)"
   ]
  },
  {
   "cell_type": "markdown",
   "id": "appointed-jurisdiction",
   "metadata": {
    "execution": {
     "iopub.execute_input": "2021-06-22T08:33:04.560571Z",
     "iopub.status.busy": "2021-06-22T08:33:04.560242Z",
     "iopub.status.idle": "2021-06-22T08:33:04.563114Z",
     "shell.execute_reply": "2021-06-22T08:33:04.562551Z",
     "shell.execute_reply.started": "2021-06-22T08:33:04.560541Z"
    },
    "papermill": {},
    "tags": []
   },
   "source": [
    "### Get network for profiles"
   ]
  },
  {
   "cell_type": "code",
   "execution_count": null,
   "id": "convenient-saturday",
   "metadata": {
    "papermill": {},
    "tags": []
   },
   "outputs": [],
   "source": [
    "df_network = pd.DataFrame()\n",
    "\n",
    "for _, row in df_posts.iterrows():\n",
    "    profile_id = row.PROFILE_ID\n",
    "    # Get network information to know distance between you and people who likes the post\n",
    "    tmp_network = linkedin.connect(LI_AT, JSESSIONID).profile.get_network(profile_id)\n",
    "    # Concat dataframe\n",
    "    df_network = pd.concat([df_network, tmp_network], axis=0)\n",
    "    # Time sleep in made to mimic human behavior, here it is randomly done between 2 and 5 seconds\n",
    "    time.sleep(random.randint(2, 5))\n",
    "\n",
    "df_network.head(5)"
   ]
  },
  {
   "cell_type": "markdown",
   "id": "olympic-resource",
   "metadata": {
    "papermill": {},
    "tags": []
   },
   "source": [
    "### Merge posts likes and network data"
   ]
  },
  {
   "cell_type": "code",
   "execution_count": null,
   "id": "acute-recruitment",
   "metadata": {
    "papermill": {},
    "tags": []
   },
   "outputs": [],
   "source": [
    "df_all = pd.merge(df_posts, df_network, on=[\"PROFILE_URN\", \"PROFILE_ID\"], how=\"left\")\n",
    "df_all = df_all.sort_values(by=[\"FOLLOWERS_COUNT\"], ascending=False)\n",
    "df_all = df_all[df_all[\"DISTANCE\"] != \"SELF\"].reset_index(drop=True)\n",
    "df_all.head(5)"
   ]
  },
  {
   "cell_type": "markdown",
   "id": "arbitrary-royalty",
   "metadata": {
    "papermill": {},
    "tags": []
   },
   "source": [
    "### Split my network or not"
   ]
  },
  {
   "cell_type": "code",
   "execution_count": null,
   "id": "recorded-canyon",
   "metadata": {
    "papermill": {},
    "tags": []
   },
   "outputs": [],
   "source": [
    "# My network\n",
    "my_network = df_all[df_all[\"DISTANCE\"] == \"DISTANCE_1\"].reset_index(drop=True)\n",
    "my_network[\"DATE_EXTRACT\"] = datetime.now().strftime(DATETIME_FORMAT)\n",
    "my_network.head(5)"
   ]
  },
  {
   "cell_type": "code",
   "execution_count": null,
   "id": "synthetic-milton",
   "metadata": {
    "papermill": {},
    "tags": []
   },
   "outputs": [],
   "source": [
    "# Not in my network\n",
    "not_my_network = df_all[df_all[\"DISTANCE\"] != \"DISTANCE_1\"].reset_index(drop=True)\n",
    "not_my_network[\"DATE_EXTRACT\"] = datetime.now().strftime(DATETIME_FORMAT)\n",
    "not_my_network.head(5)"
   ]
  },
  {
   "cell_type": "markdown",
   "id": "correct-birth",
   "metadata": {
    "papermill": {},
    "tags": []
   },
   "source": [
    "## Output"
   ]
  },
  {
   "cell_type": "markdown",
   "id": "renewable-technician",
   "metadata": {
    "papermill": {},
    "tags": []
   },
   "source": [
    "### Save post likes in gsheet"
   ]
  },
  {
   "cell_type": "code",
   "execution_count": null,
   "id": "dominant-partner",
   "metadata": {
    "papermill": {},
    "tags": []
   },
   "outputs": [],
   "source": [
    "gsheet.connect(SPREADSHEET_ID).send(df_posts, sheet_name=SHEET_POST_LIKES, append=False)"
   ]
  },
  {
   "cell_type": "markdown",
   "id": "gross-johns",
   "metadata": {
    "papermill": {},
    "tags": []
   },
   "source": [
    "### Save people from my network in gsheet"
   ]
  },
  {
   "cell_type": "code",
   "execution_count": null,
   "id": "immune-parent",
   "metadata": {
    "papermill": {},
    "tags": []
   },
   "outputs": [],
   "source": [
    "gsheet.connect(SPREADSHEET_ID).send(\n",
    "    my_network, sheet_name=SHEET_MY_NETWORK, append=False\n",
    ")"
   ]
  },
  {
   "cell_type": "markdown",
   "id": "excellent-davis",
   "metadata": {
    "papermill": {},
    "tags": []
   },
   "source": [
    "### Save people not in my network in gsheet"
   ]
  },
  {
   "cell_type": "code",
   "execution_count": null,
   "id": "twelve-penalty",
   "metadata": {
    "papermill": {},
    "tags": []
   },
   "outputs": [],
   "source": [
    "gsheet.connect(SPREADSHEET_ID).send(\n",
    "    not_my_network, sheet_name=SHEET_NOT_MY_NETWORK, append=False\n",
    ")"
   ]
  }
 ],
 "metadata": {
  "kernelspec": {
   "display_name": "Python 3",
   "language": "python",
   "name": "python3"
  },
  "language_info": {
   "codemirror_mode": {
    "name": "ipython",
    "version": 3
   },
   "file_extension": ".py",
   "mimetype": "text/x-python",
   "name": "python",
   "nbconvert_exporter": "python",
   "pygments_lexer": "ipython3",
   "version": "3.9.6"
  },
  "naas": {
   "notebook_id": "e94667908de603647180dc81387e1c2bcfd5d0ad5397217632d78647873462cf",
   "notebook_path": "LinkedIn/LinkedIn_Send_likes_from_post_to_gsheet.ipynb"
  },
  "papermill": {
   "default_parameters": {},
   "environment_variables": {},
   "parameters": {},
   "version": "2.3.3"
  },
  "widgets": {
   "application/vnd.jupyter.widget-state+json": {
    "state": {},
    "version_major": 2,
    "version_minor": 0
   }
  }
 },
 "nbformat": 4,
 "nbformat_minor": 5
}