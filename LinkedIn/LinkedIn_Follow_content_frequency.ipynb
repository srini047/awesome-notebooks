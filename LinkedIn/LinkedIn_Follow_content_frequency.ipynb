{
 "cells": [
  {
   "cell_type": "markdown",
   "id": "a6fcf7c9",
   "metadata": {
    "papermill": {},
    "tags": []
   },
   "source": [
    "<img width=\"10%\" alt=\"Naas\" src=\"https://landen.imgix.net/jtci2pxwjczr/assets/5ice39g4.png?w=160\"/>\n"
   ]
  },
  {
   "cell_type": "markdown",
   "id": "7217870e",
   "metadata": {
    "papermill": {},
    "tags": []
   },
   "source": [
    "# LinkedIn - Follow content frequency\n",
    "<a href=\"https://app.naas.ai/user-redirect/naas/downloader?url=https://raw.githubusercontent.com/jupyter-naas/awesome-notebooks/master/LinkedIn/LinkedIn_Follow_content_frequency.ipynb\" target=\"_parent\"><img src=\"https://naasai-public.s3.eu-west-3.amazonaws.com/Open_in_Naas_Lab.svg\"/></a><br><br><a href=\"https://github.com/jupyter-naas/awesome-notebooks/issues/new?assignees=&labels=&template=template-request.md&title=Tool+-+Action+of+the+notebook+\">Template request</a> | <a href=\"https://github.com/jupyter-naas/awesome-notebooks/issues/new?assignees=&labels=bug&template=bug_report.md&title=LinkedIn+-+Follow+content+frequency:+Error+short+description\">Bug report</a> | <a href=\"https://app.naas.ai/user-redirect/naas/downloader?url=https://raw.githubusercontent.com/jupyter-naas/awesome-notebooks/master/Naas/Naas_Start_data_product.ipynb\" target=\"_parent\">Generate Data Product</a>"
   ]
  },
  {
   "cell_type": "markdown",
   "id": "c8756b96",
   "metadata": {
    "papermill": {},
    "tags": []
   },
   "source": [
    "**Tags:** #linkedin #html #plotly #csv #image #content #analytics #automation"
   ]
  },
  {
   "cell_type": "markdown",
   "id": "520d91fd",
   "metadata": {
    "papermill": {},
    "tags": []
   },
   "source": [
    "**Author:** [Florent Ravenel](https://www.linkedin.com/in/florent-ravenel/)"
   ]
  },
  {
   "cell_type": "markdown",
   "id": "naas-description",
   "metadata": {
    "papermill": {},
    "tags": [
     "description"
    ]
   },
   "source": [
    "**Description:** This notebook allows users to track how often they post content on LinkedIn and follow the frequency of their posts. To run this notebook, you must have already run <b>LinkedIn_Get_profile_posts_stats.ipynb</b> or <b>LinkedIn_Get_company_posts_stats.ipynb</b> to get your post stats in CSV."
   ]
  },
  {
   "cell_type": "markdown",
   "id": "1b140839-1aa7-425a-a069-a6e9d955ea6b",
   "metadata": {
    "papermill": {},
    "tags": []
   },
   "source": [
    "\n",
    "<div class=\"alert alert-info\" role=\"info\" style=\"margin: 10px\">\n",
    "<b>Disclaimer:</b><br>\n",
    "This code is in no way affiliated with, authorized, maintained, sponsored or endorsed by Linkedin or any of its affiliates or subsidiaries. It uses an independent and unofficial API. Use at your own risk.\n",
    "\n",
    "This project violates Linkedin's User Agreement Section 8.2, and because of this, Linkedin may (and will) temporarily or permanently ban your account. We are not responsible for your account being banned.\n",
    "<br>\n",
    "</div>"
   ]
  },
  {
   "cell_type": "markdown",
   "id": "227b8ffb",
   "metadata": {
    "papermill": {},
    "tags": []
   },
   "source": [
    "## Input"
   ]
  },
  {
   "cell_type": "markdown",
   "id": "fb2817fb",
   "metadata": {
    "papermill": {},
    "tags": []
   },
   "source": [
    "### Import libraries"
   ]
  },
  {
   "cell_type": "code",
   "execution_count": null,
   "id": "423e1f0b",
   "metadata": {
    "papermill": {},
    "tags": []
   },
   "outputs": [],
   "source": [
    "from naas_drivers import linkedin\n",
    "from os import path\n",
    "import naas\n",
    "import pandas as pd\n",
    "from datetime import datetime\n",
    "import plotly.graph_objects as go\n",
    "from plotly.subplots import make_subplots"
   ]
  },
  {
   "cell_type": "markdown",
   "id": "024797b3",
   "metadata": {
    "papermill": {},
    "tags": []
   },
   "source": [
    "### Setup Variables"
   ]
  },
  {
   "cell_type": "code",
   "execution_count": null,
   "id": "17dcc289",
   "metadata": {
    "papermill": {},
    "tags": []
   },
   "outputs": [],
   "source": [
    "# Inputs\n",
    "csv_input = \"LINKEDIN_POSTS_XXXXXX.csv\"\n",
    "\n",
    "# Outputs\n",
    "name_output = \"Linkedin_Follow_number_of_company_content_views_monthly\"\n",
    "csv_output = f\"{name_output}.csv\"\n",
    "html_output = f\"{name_output}.html\"\n",
    "image_output = f\"{name_output}.png\"\n",
    "\n",
    "# Period\n",
    "PERIOD = \"%Y-%m\"\n",
    "\n",
    "# Custom chart\n",
    "primary_color = \"#D3D3D3\"\n",
    "secundary_color = \"#5C5C5C\"\n",
    "company_logo = \"https://media-exp2.licdn.com/dms/image/C560BAQEOzG0TtTclXw/company-logo_400_400/0/1606695523917?e=1662595200&v=beta&t=2k73kaJGBZ4i1OtFmy-0Vms6uXu7bLd2AJbhrx_D4AA\""
   ]
  },
  {
   "cell_type": "markdown",
   "id": "77361ce8",
   "metadata": {
    "papermill": {},
    "tags": []
   },
   "source": [
    "### Setup Naas"
   ]
  },
  {
   "cell_type": "code",
   "execution_count": null,
   "id": "3fe47a43",
   "metadata": {
    "papermill": {},
    "tags": []
   },
   "outputs": [],
   "source": [
    "naas.dependency.add()\n",
    "\n",
    "# -> Uncomment the line below to remove your dependency\n",
    "# naas.dependency.delete()"
   ]
  },
  {
   "cell_type": "markdown",
   "id": "1bb8c4cd",
   "metadata": {
    "papermill": {},
    "tags": []
   },
   "source": [
    "## Model"
   ]
  },
  {
   "cell_type": "markdown",
   "id": "024e9efb-4c80-4c60-a455-103af0884d2d",
   "metadata": {
    "papermill": {},
    "tags": []
   },
   "source": [
    "### Get your posts from CSV\n",
    "All your posts will be stored in CSV."
   ]
  },
  {
   "cell_type": "code",
   "execution_count": null,
   "id": "6d00847f-e9bf-4f92-a2b4-406468fb09e2",
   "metadata": {
    "papermill": {},
    "tags": []
   },
   "outputs": [],
   "source": [
    "def read_csv(file_path):\n",
    "    try:\n",
    "        df = pd.read_csv(file_path)\n",
    "    except FileNotFoundError as e:\n",
    "        # Empty dataframe returned\n",
    "        return pd.DataFrame()\n",
    "    return df\n",
    "\n",
    "\n",
    "df_posts = read_csv(csv_input)\n",
    "df_posts"
   ]
  },
  {
   "cell_type": "markdown",
   "id": "833fdb3f",
   "metadata": {
    "papermill": {},
    "tags": []
   },
   "source": [
    "### Get dataframe trend"
   ]
  },
  {
   "cell_type": "code",
   "execution_count": null,
   "id": "c074f8e3",
   "metadata": {
    "papermill": {},
    "tags": []
   },
   "outputs": [],
   "source": [
    "def get_trend(df_init, col_date, col_value, label):\n",
    "    # Init variable\n",
    "    df = df_init.copy()\n",
    "\n",
    "    # By period\n",
    "    df[col_value] = df[col_value].astype(float)\n",
    "    df[col_date] = pd.to_datetime(df[col_date].str[:-6]).dt.strftime(PERIOD)\n",
    "    df = df.groupby(col_date, as_index=False).agg({col_value: \"sum\"})\n",
    "\n",
    "    # Calc sum cum\n",
    "    to_rename = {col_date: \"DATE\", col_value: \"VARV\"}\n",
    "    df = df.rename(columns=to_rename)\n",
    "    df[\"VALUE\"] = df.agg({\"VARV\": \"cumsum\"})\n",
    "\n",
    "    # Add last month\n",
    "    if df.loc[df.index[-1], \"DATE\"] != datetime.now().strftime(PERIOD):\n",
    "        tmp_df = df[-1:].reset_index(drop=True)\n",
    "        tmp_df.loc[0, \"DATE\"] = datetime.now().strftime(PERIOD)\n",
    "        tmp_df.loc[0, \"VARV\"] = 0\n",
    "        df = pd.concat([df, tmp_df]).reset_index(drop=True)\n",
    "\n",
    "    # Calc order\n",
    "    df[\"ORDER\"] = pd.to_datetime(df[\"DATE\"]).dt.strftime(\"%Y%m%d\")\n",
    "\n",
    "    # Filter data\n",
    "    df = df[df.ORDER.astype(int) >= 20210228]\n",
    "    df = df.drop(\"ORDER\", axis=1)\n",
    "\n",
    "    # Calc var\n",
    "    df[\"VALUE_COMP\"] = df[\"VALUE\"] - df[\"VARV\"]\n",
    "    df[\"VARP\"] = df[\"VARV\"] / abs(df[\"VALUE_COMP\"])\n",
    "    df[\"LABEL\"] = label\n",
    "    df = df[[\"DATE\", \"LABEL\", \"VALUE\", \"VALUE_COMP\", \"VARV\", \"VARP\"]].reset_index(\n",
    "        drop=True\n",
    "    )\n",
    "\n",
    "    # Prep data\n",
    "    df[\"VALUE_D\"] = df[\"VALUE\"].map(\"{:,.0f}\".format).str.replace(\",\", \" \")\n",
    "    df[\"VARV_D\"] = df[\"VARV\"].map(\"{:,.0f}\".format).str.replace(\",\", \" \")\n",
    "    df.loc[df[\"VARV\"] >= 0, \"VARV_D\"] = \"+\" + df[\"VARV_D\"]\n",
    "    df[\"VARP_D\"] = df[\"VARP\"].map(\"{:,.0%}\".format).str.replace(\",\", \" \")\n",
    "    df.loc[df[\"VARP\"] >= 0, \"VARP_D\"] = \"+\" + df[\"VARP_D\"]\n",
    "\n",
    "    # Create hovertext\n",
    "    df[\"TEXT\"] = (\n",
    "        \"<b><span style='font-size: 14px;'>\"\n",
    "        + df[\"LABEL\"].astype(str)\n",
    "        + \" \"\n",
    "        + df[\"DATE\"].astype(str)\n",
    "        + \" : \"\n",
    "        + df[\"VALUE_D\"]\n",
    "        + \"</span></b><br>\"\n",
    "        \"<span style='font-size: 12px;'>\"\n",
    "        + df[\"VARV_D\"]\n",
    "        + \" this month (\"\n",
    "        + df[\"VARP_D\"]\n",
    "        + \")</span>\"\n",
    "    )\n",
    "    df[\"TITLE\"] = (\n",
    "        \"<b><span style='font-size: 20px;'>\"\n",
    "        + df[\"LABEL\"].astype(str)\n",
    "        + \" \"\n",
    "        + df[\"DATE\"].astype(str)\n",
    "        + \" : \"\n",
    "        + df[\"VALUE_D\"]\n",
    "        + \"</span></b><br>\"\n",
    "        \"<span style='font-size: 18px;'>\"\n",
    "        + df[\"VARV_D\"]\n",
    "        + \" this month (\"\n",
    "        + df[\"VARP_D\"]\n",
    "        + \")</span>\"\n",
    "    )\n",
    "    for index, row in df.iterrows():\n",
    "        if index > 0:\n",
    "            n = df.loc[df.index[index], \"VARV\"]\n",
    "            n_1 = df.loc[df.index[index - 1], \"VARV\"]\n",
    "            df.loc[df.index[index], \"VARV_COMP\"] = n_1\n",
    "            df.loc[df.index[index], \"VARV_VARV\"] = n - n_1\n",
    "            if n_1 > 0:\n",
    "                df.loc[df.index[index], \"VARP_VARV\"] = (n - n_1) / abs(n_1)\n",
    "    return df.reset_index(drop=True)\n",
    "\n",
    "\n",
    "df_actual = get_trend(\n",
    "    df_posts, col_date=\"PUBLISHED_DATE\", col_value=\"VIEWS\", label=\"LinkedIn Posts views\"\n",
    ")\n",
    "\n",
    "df_actual  # .tail(5)"
   ]
  },
  {
   "cell_type": "markdown",
   "id": "804c9127",
   "metadata": {
    "papermill": {},
    "tags": []
   },
   "source": [
    "### Plotting a barlinechart to get trend"
   ]
  },
  {
   "cell_type": "code",
   "execution_count": null,
   "id": "16f51274-7d23-4687-9a6b-884384042a1b",
   "metadata": {
    "papermill": {},
    "tags": []
   },
   "outputs": [],
   "source": [
    "def create_barlinechart(\n",
    "    df,\n",
    "    label=\"DATE\",\n",
    "    value=\"VALUE\",\n",
    "    varv=\"VARV\",\n",
    "    varp=\"VARP\",\n",
    "    text=\"TEXT\",\n",
    "    title=\"TITLE\",\n",
    "    xaxis_title=\"Weeks\",\n",
    "    yaxis_title_r=None,\n",
    "    yaxis_title_l=None,\n",
    "    primary_color=None,\n",
    "    secundary_color=None,\n",
    "    company_logo=None,\n",
    "):\n",
    "    # Create figure with secondary y-axis\n",
    "    fig = make_subplots(specs=[[{\"secondary_y\": True}]])\n",
    "\n",
    "    # Add traces\n",
    "    fig.add_trace(\n",
    "        go.Bar(\n",
    "            x=df[label],\n",
    "            y=df[varv],\n",
    "            hoverinfo=\"text\",\n",
    "            text=df[\"VARV_D\"],\n",
    "            hovertext=df[text],\n",
    "            marker=dict(color=primary_color),\n",
    "        ),\n",
    "        secondary_y=False,\n",
    "    )\n",
    "    fig.add_trace(\n",
    "        go.Scatter(\n",
    "            x=df[label],\n",
    "            y=df[value],\n",
    "            mode=\"lines\",\n",
    "            hoverinfo=\"text\",\n",
    "            text=df[\"VALUE_D\"],\n",
    "            hovertext=df[text],\n",
    "            line=dict(color=secundary_color, width=3),\n",
    "        ),\n",
    "        secondary_y=True,\n",
    "    )\n",
    "    # Add figure title\n",
    "    title_text = text\n",
    "    for col in df.columns:\n",
    "        if col == title:\n",
    "            title_text = title\n",
    "    fig.update_layout(\n",
    "        title=df.loc[df.index[-1], title_text],\n",
    "        title_x=0.1,\n",
    "        title_font=dict(family=\"Arial\", size=20, color=\"black\"),\n",
    "        legend=None,\n",
    "        plot_bgcolor=\"#ffffff\",\n",
    "        paper_bgcolor=\"#ffffff\",\n",
    "        #         width=1200,\n",
    "        #         height=800,\n",
    "        autosize=False,\n",
    "        margin=dict(\n",
    "            l=100,\n",
    "            b=100,\n",
    "        ),\n",
    "        margin_pad=10,\n",
    "        xaxis_title=xaxis_title,\n",
    "        xaxis_title_font=dict(family=\"Arial\", size=14, color=\"black\"),\n",
    "    )\n",
    "    # Add logo\n",
    "    fig.add_layout_image(\n",
    "        dict(\n",
    "            source=company_logo,\n",
    "            xref=\"paper\",\n",
    "            yref=\"paper\",\n",
    "            x=0.01,\n",
    "            y=1,\n",
    "            sizex=0.12,\n",
    "            sizey=0.12,\n",
    "            xanchor=\"right\",\n",
    "            yanchor=\"bottom\",\n",
    "        )\n",
    "    )\n",
    "\n",
    "    # Set y-axes titles\n",
    "    fig.update_yaxes(\n",
    "        title_text=yaxis_title_r,\n",
    "        title_font=dict(family=\"Arial\", size=14, color=\"black\"),\n",
    "        secondary_y=False,\n",
    "    )\n",
    "    fig.update_yaxes(\n",
    "        title_text=yaxis_title_l,\n",
    "        title_font=dict(family=\"Arial\", size=14, color=\"black\"),\n",
    "        secondary_y=True,\n",
    "    )\n",
    "    fig.update_traces(showlegend=False)\n",
    "    fig.show()\n",
    "    return fig\n",
    "\n",
    "\n",
    "fig = create_barlinechart(\n",
    "    df_actual,\n",
    "    primary_color=primary_color,\n",
    "    secundary_color=secundary_color,\n",
    "    company_logo=company_logo,\n",
    "    xaxis_title=\"Months\",\n",
    "    yaxis_title_r=\"New views\",\n",
    "    yaxis_title_l=\"Total views\",\n",
    ")"
   ]
  },
  {
   "cell_type": "markdown",
   "id": "942c681d",
   "metadata": {
    "papermill": {},
    "tags": []
   },
   "source": [
    "## Output\n"
   ]
  },
  {
   "cell_type": "markdown",
   "id": "b4bb71da",
   "metadata": {
    "papermill": {},
    "tags": []
   },
   "source": [
    "### Save and share your csv file"
   ]
  },
  {
   "cell_type": "code",
   "execution_count": null,
   "id": "d43c7763",
   "metadata": {
    "papermill": {},
    "tags": []
   },
   "outputs": [],
   "source": [
    "# Save your dataframe in CSV\n",
    "df_actual.to_csv(csv_output, index=False)\n",
    "\n",
    "# Share output with naas\n",
    "csv_link = naas.asset.add(csv_output)\n",
    "\n",
    "# -> Uncomment the line below to remove your asset\n",
    "# naas.asset.delete(csv_output)"
   ]
  },
  {
   "cell_type": "markdown",
   "id": "2f26c093",
   "metadata": {
    "papermill": {},
    "tags": []
   },
   "source": [
    "### Save and share your graph in HTML"
   ]
  },
  {
   "cell_type": "code",
   "execution_count": null,
   "id": "6e0caceb",
   "metadata": {
    "papermill": {},
    "tags": []
   },
   "outputs": [],
   "source": [
    "# Save your graph in HTML\n",
    "fig.write_html(html_output)\n",
    "\n",
    "# Share output with naas\n",
    "html_link = naas.asset.add(html_output, params={\"inline\": True})\n",
    "\n",
    "# -> Uncomment the line below to remove your asset\n",
    "# naas.asset.delete(html_output)"
   ]
  },
  {
   "cell_type": "markdown",
   "id": "e327122e",
   "metadata": {
    "papermill": {},
    "tags": []
   },
   "source": [
    "### Save and share your graph in image"
   ]
  },
  {
   "cell_type": "code",
   "execution_count": null,
   "id": "124b1576",
   "metadata": {
    "papermill": {},
    "tags": []
   },
   "outputs": [],
   "source": [
    "# Save your graph in PNG\n",
    "fig.write_image(image_output)\n",
    "\n",
    "# Share output with naas\n",
    "image_link = naas.asset.add(image_output)\n",
    "\n",
    "# -> Uncomment the line below to remove your asset\n",
    "# naas.asset.delete(image_output)"
   ]
  }
 ],
 "metadata": {
  "kernelspec": {
   "display_name": "Python 3",
   "language": "python",
   "name": "python3"
  },
  "language_info": {
   "codemirror_mode": {
    "name": "ipython",
    "version": 3
   },
   "file_extension": ".py",
   "mimetype": "text/x-python",
   "name": "python",
   "nbconvert_exporter": "python",
   "pygments_lexer": "ipython3",
   "version": "3.9.6"
  },
  "naas": {
   "notebook_id": "cc1b4c23ccb3f6694fab05812f8888d458df1076bb27bd5d1406a42e8865b339",
   "notebook_path": "LinkedIn/LinkedIn_Follow_content_frequency.ipynb"
  },
  "papermill": {
   "default_parameters": {},
   "environment_variables": {},
   "parameters": {},
   "version": "2.3.4"
  }
 },
 "nbformat": 4,
 "nbformat_minor": 5
}