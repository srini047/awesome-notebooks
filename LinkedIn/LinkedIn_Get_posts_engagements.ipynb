{
 "cells": [
  {
   "cell_type": "markdown",
   "id": "f93fe18d-8ad2-4958-816b-6b75af8681e4",
   "metadata": {
    "papermill": {},
    "tags": []
   },
   "source": [
    "<img width=\"10%\" alt=\"Naas\" src=\"https://landen.imgix.net/jtci2pxwjczr/assets/5ice39g4.png?w=160\"/>"
   ]
  },
  {
   "cell_type": "markdown",
   "id": "5f0737bc-6f32-4ae3-a951-5779adaa7a97",
   "metadata": {
    "papermill": {},
    "tags": []
   },
   "source": [
    "# LinkedIn - Get posts engagements\n",
    "<a href=\"https://app.naas.ai/user-redirect/naas/downloader?url=https://raw.githubusercontent.com/jupyter-naas/awesome-notebooks/master/LinkedIn/LinkedIn_Get_posts_engagements.ipynb\" target=\"_parent\"><img src=\"https://naasai-public.s3.eu-west-3.amazonaws.com/open_in_naas.svg\"/></a><br><br><a href=\"https://github.com/jupyter-naas/awesome-notebooks/issues/new?assignees=&labels=&template=template-request.md&title=Tool+-+Action+of+the+notebook+\">Template request</a> | <a href=\"https://github.com/jupyter-naas/awesome-notebooks/issues/new?assignees=&labels=bug&template=bug_report.md&title=LinkedIn+-+Get+posts+engagements:+Error+short+description\">Bug report</a>"
   ]
  },
  {
   "cell_type": "markdown",
   "id": "616d1d23-6ae5-4cc6-95e8-40aa98a017f9",
   "metadata": {
    "papermill": {},
    "tags": []
   },
   "source": [
    "**Tags:** #linkedin #posts #interactions #metrics #analytics #automation #naas"
   ]
  },
  {
   "cell_type": "markdown",
   "id": "c22c0060-616a-43ba-91e9-96e7034e71c7",
   "metadata": {
    "papermill": {},
    "tags": []
   },
   "source": [
    "**Author:** [Florent Ravenel](https://www.linkedin.com/in/florent-ravenel/)"
   ]
  },
  {
   "cell_type": "markdown",
   "id": "naas-description",
   "metadata": {
    "papermill": {},
    "tags": [
     "description"
    ]
   },
   "source": [
    "**Description:** This notebook provides insights into how to increase engagement on LinkedIn posts."
   ]
  },
  {
   "cell_type": "markdown",
   "id": "fdcc6636-5642-4aea-9c52-06d8dfc77773",
   "metadata": {
    "execution": {
     "iopub.execute_input": "2022-08-04T10:52:56.232613Z",
     "iopub.status.busy": "2022-08-04T10:52:56.232345Z",
     "iopub.status.idle": "2022-08-04T10:52:56.251273Z",
     "shell.execute_reply": "2022-08-04T10:52:56.249973Z",
     "shell.execute_reply.started": "2022-08-04T10:52:56.232545Z"
    },
    "papermill": {},
    "tags": []
   },
   "source": [
    "<div class=\"alert alert-info\" role=\"info\" style=\"margin: 10px\">\n",
    "<b>Requirements:</b><br>\n",
    "To run this notebook, you must have already run <b>LinkedIn_Get_profile_posts_stats.ipynb</b> or <b>LinkedIn_Get_company_posts_stats.ipynb</b> to get your post stats in CSV.<br>\n",
    "</div>"
   ]
  },
  {
   "cell_type": "markdown",
   "id": "937ac7d6-bfe3-41aa-a0b6-61b1f7bba93f",
   "metadata": {
    "papermill": {},
    "tags": []
   },
   "source": [
    "## Input"
   ]
  },
  {
   "cell_type": "markdown",
   "id": "2d77b522-f032-4e23-9135-6dca6ec9eae6",
   "metadata": {
    "papermill": {},
    "tags": []
   },
   "source": [
    "### Import libraries"
   ]
  },
  {
   "cell_type": "code",
   "execution_count": null,
   "id": "102a0d00-c53f-4bd3-be95-d0b37171da8c",
   "metadata": {
    "papermill": {},
    "tags": []
   },
   "outputs": [],
   "source": [
    "import naas\n",
    "import pandas as pd\n",
    "from datetime import datetime"
   ]
  },
  {
   "cell_type": "markdown",
   "id": "ecb37b6d-b27f-4932-b8a7-1464095f989d",
   "metadata": {
    "papermill": {},
    "tags": []
   },
   "source": [
    "### Setup Variables"
   ]
  },
  {
   "cell_type": "code",
   "execution_count": null,
   "id": "e2c3df60-aced-4dd9-a94b-11d8ae4b5caf",
   "metadata": {
    "papermill": {},
    "tags": []
   },
   "outputs": [],
   "source": [
    "# Input\n",
    "# -> Rename input if needed\n",
    "csv_input = \"LINKEDIN_PROFILE_POSTS.csv\"  # CSV path with your posts stats generated with 'LinkedIn_Get_profile_posts_stats.ipynb' or 'LinkedIn_Get_company_posts_stats.ipynb'\n",
    "\n",
    "# Outputs\n",
    "# -> Rename outputs if needed\n",
    "csv_engagements = \"LINKEDIN_ENGAGEMENTS.csv\"\n",
    "csv_likes = \"LINKEDIN_LIKES.csv\"\n",
    "csv_comments = \"LINKEDIN_COMMENTS.csv\""
   ]
  },
  {
   "cell_type": "markdown",
   "id": "5dc4fdc7-0511-4615-af8c-0c9fb45c11bc",
   "metadata": {
    "papermill": {},
    "tags": []
   },
   "source": [
    "### Setup Naas dependency"
   ]
  },
  {
   "cell_type": "code",
   "execution_count": null,
   "id": "7fc06903-fe08-44de-9681-887f99017fe7",
   "metadata": {
    "papermill": {},
    "tags": []
   },
   "outputs": [],
   "source": [
    "naas.dependency.add()\n",
    "\n",
    "# -> Uncomment the line below to remove your dependency\n",
    "# naas.dependency.delete()"
   ]
  },
  {
   "cell_type": "markdown",
   "id": "78fd3b62-5ca4-4468-9cf1-7fd6d079320f",
   "metadata": {
    "execution": {
     "iopub.execute_input": "2022-04-12T10:09:23.296057Z",
     "iopub.status.busy": "2022-04-12T10:09:23.295748Z",
     "iopub.status.idle": "2022-04-12T10:09:23.299059Z",
     "shell.execute_reply": "2022-04-12T10:09:23.298449Z",
     "shell.execute_reply.started": "2022-04-12T10:09:23.296024Z"
    },
    "papermill": {},
    "tags": []
   },
   "source": [
    "## Model"
   ]
  },
  {
   "cell_type": "markdown",
   "id": "09653c22-19cd-4f10-b8bb-ebcd1a3bcda0",
   "metadata": {
    "papermill": {},
    "tags": []
   },
   "source": [
    "### Read CSV"
   ]
  },
  {
   "cell_type": "code",
   "execution_count": null,
   "id": "bfd78f23-c27d-4121-8f66-9eb094d5cf10",
   "metadata": {
    "papermill": {},
    "tags": []
   },
   "outputs": [],
   "source": [
    "def read_csv(file_path):\n",
    "    try:\n",
    "        df = pd.read_csv(file_path)\n",
    "    except FileNotFoundError as e:\n",
    "        # Empty dataframe returned\n",
    "        return pd.DataFrame()\n",
    "    return df"
   ]
  },
  {
   "cell_type": "markdown",
   "id": "b8f8248d-2bb7-4659-bec3-57bba6badc1e",
   "metadata": {
    "papermill": {},
    "tags": []
   },
   "source": [
    "### Get your posts\n",
    "Get posts feed from CSV stored in your local (Returns empty if CSV does not exist)"
   ]
  },
  {
   "cell_type": "code",
   "execution_count": null,
   "id": "96b095ed-c57b-446b-b4a3-6e985f0f83d2",
   "metadata": {
    "papermill": {},
    "tags": []
   },
   "outputs": [],
   "source": [
    "df_posts = read_csv(csv_input)\n",
    "print(\"✅ Posts fetched:\", len(df_posts))\n",
    "df_posts.head(1)"
   ]
  },
  {
   "cell_type": "markdown",
   "id": "22040cda-8fea-43cf-90ea-ea7edc725d7f",
   "metadata": {
    "papermill": {},
    "tags": []
   },
   "source": [
    "### Get who likes your posts"
   ]
  },
  {
   "cell_type": "code",
   "execution_count": null,
   "id": "6b8ab7f4-9dba-4191-9461-848040629a7b",
   "metadata": {
    "papermill": {},
    "tags": []
   },
   "outputs": [],
   "source": [
    "df_likes = read_csv(csv_likes)\n",
    "print(\"✅ Likes fetched:\", len(df_likes))\n",
    "df_likes.head(1)"
   ]
  },
  {
   "cell_type": "markdown",
   "id": "ba290f36-91bc-4a3d-80ea-103624bcc360",
   "metadata": {
    "papermill": {},
    "tags": []
   },
   "source": [
    "### Get who comments your posts"
   ]
  },
  {
   "cell_type": "code",
   "execution_count": null,
   "id": "847a1ac8-0859-4af7-b4d1-316bb38e01d3",
   "metadata": {
    "papermill": {},
    "tags": []
   },
   "outputs": [],
   "source": [
    "df_comments = read_csv(csv_comments)\n",
    "print(\"✅ Comments fetched:\", len(df_comments))\n",
    "df_comments.head(1)"
   ]
  },
  {
   "cell_type": "markdown",
   "id": "8b76191a-686b-4ac8-a0e7-b56ac9f1bfbb",
   "metadata": {
    "execution": {
     "iopub.execute_input": "2022-04-12T14:42:10.762125Z",
     "iopub.status.busy": "2022-04-12T14:42:10.761884Z",
     "iopub.status.idle": "2022-04-12T14:42:10.764880Z",
     "shell.execute_reply": "2022-04-12T14:42:10.764227Z",
     "shell.execute_reply.started": "2022-04-12T14:42:10.762100Z"
    },
    "papermill": {},
    "tags": []
   },
   "source": [
    "## Output"
   ]
  },
  {
   "cell_type": "markdown",
   "id": "0a243525-285e-4695-92e2-d8ba8fd25d6e",
   "metadata": {
    "papermill": {},
    "tags": []
   },
   "source": [
    "### Update engagements"
   ]
  },
  {
   "cell_type": "code",
   "execution_count": null,
   "id": "689b3b11-d791-45a9-bd93-e8d7062066d2",
   "metadata": {
    "papermill": {},
    "tags": []
   },
   "outputs": [],
   "source": [
    "def update_engagements(\n",
    "    df_posts, df_interaction, interaction, csv_output, no_posts=7, min_updated_time=60\n",
    "):\n",
    "    # Init\n",
    "    df_out = df_interaction.copy()\n",
    "\n",
    "    # Get all interactions if dataframe init empty or not complete\n",
    "    if len(df_posts) == 0:\n",
    "        return pd.DataFrame()\n",
    "\n",
    "    if len(df_out) > 0:\n",
    "        if \"DATE_EXTRACT\" in df_out.columns:\n",
    "            last_update_date = df_out[\"DATE_EXTRACT\"].max()\n",
    "            time_last_update = datetime.now() - datetime.strptime(\n",
    "                last_update_date, \"%Y-%m-%d %H:%M:%S\"\n",
    "            )\n",
    "            minute_last_update = time_last_update.total_seconds() / 60\n",
    "            if minute_last_update > min_updated_time:\n",
    "                df_posts = df_posts[:no_posts]\n",
    "            else:\n",
    "                print(\n",
    "                    f\"🛑 Nothing to update. Last update done {int(minute_last_update)} minutes ago.\"\n",
    "                )\n",
    "                return df_out.reset_index(drop=True)\n",
    "    else:\n",
    "        df_posts[\"SCENARIO\"] = pd.to_datetime(\n",
    "            df_posts[\"PUBLISHED_DATE\"].str[:-6]\n",
    "        ).dt.strftime(\"%Y-%m\")\n",
    "        df_posts = df_posts[\n",
    "            df_posts[\"SCENARIO\"] == datetime.now().strftime(\"%Y-%m\")\n",
    "        ].reset_index(drop=True)\n",
    "\n",
    "    # Loop on posts\n",
    "    for index, row in df_posts.iterrows():\n",
    "        df_update = pd.DataFrame()\n",
    "        post_title = row.TITLE\n",
    "        post_author = row.AUTHOR_NAME\n",
    "        post_url = row.POST_URL\n",
    "        post_date = row.PUBLISHED_DATE\n",
    "        count_interactions = row[interaction]\n",
    "        print(f\"🔄 {index+1} - Update started on: '{post_title}' ({post_url})\")\n",
    "\n",
    "        # Get interactions from post URL\n",
    "        if len(df_interaction) > 0:\n",
    "            tmp_df = df_interaction[df_interaction.POST_URL == post_url]\n",
    "            no_interactions = len(tmp_df)\n",
    "            if count_interactions != no_interactions:\n",
    "                print(\n",
    "                    f\"--> {count_interactions} post interaction count vs {no_interactions} interactions.\"\n",
    "                )\n",
    "                df_update = get_engagements(interaction, post_url)\n",
    "            else:\n",
    "                print(\"--->🛑 Nothing to update.\")\n",
    "        else:\n",
    "            df_update = get_interactions(interaction, post_url)\n",
    "\n",
    "        # Concat dataframe and save dataframe in CSV\n",
    "        if len(df_update) > 0:\n",
    "            print(f\"---> {len(df_update)} interactions fetched.\")\n",
    "            df_update[\"TITLE\"] = post_title\n",
    "            df_update[\"AUTHOR_NAME\"] = post_author\n",
    "            df_update[\"PUBLISHED_DATE\"] = post_date\n",
    "            keys = [\"POST_URL\", \"PROFILE_ID\"]\n",
    "            if interaction == \"COMMENTS\":\n",
    "                keys = [\"POST_URL\", \"PROFILE_ID\", \"CREATED_TIME\"]\n",
    "            df_out = pd.concat([df_update, df_out]).drop_duplicates(keys, keep=\"first\")\n",
    "            output_path = df_out.to_csv(csv_output)\n",
    "\n",
    "    # Add dependency in production\n",
    "    print(f\"✅ {len(df_out)} '{interaction}' fetched.\")\n",
    "    # Return all interactions\n",
    "    return df_out.reset_index(drop=True)"
   ]
  },
  {
   "cell_type": "markdown",
   "id": "10765e57-8597-4b08-9157-a4ef78082328",
   "metadata": {
    "papermill": {},
    "tags": []
   },
   "source": [
    "### Update likes\n",
    "It will update your last X posts like's from LinkedIn API.<br>\n",
    "PS: On the first execution all posts like's from the current month will be retrieved."
   ]
  },
  {
   "cell_type": "code",
   "execution_count": null,
   "id": "c9787390-25c5-4c82-8901-160aea26ca92",
   "metadata": {
    "papermill": {},
    "tags": []
   },
   "outputs": [],
   "source": [
    "df_update_likes = update_engagements(df_posts, df_likes, \"LIKES\", csv_likes)\n",
    "df_update_likes.head(1)"
   ]
  },
  {
   "cell_type": "markdown",
   "id": "6304b30e-3338-485c-9791-c78cf5b9de41",
   "metadata": {
    "papermill": {},
    "tags": []
   },
   "source": [
    "### Update comments\n",
    "It will update your last X posts like's from LinkedIn API.<br>\n",
    "PS: On the first execution all posts like's from the current month will be retrieved."
   ]
  },
  {
   "cell_type": "code",
   "execution_count": null,
   "id": "96887ed1-9b31-48e9-83b5-e19e152afd7e",
   "metadata": {
    "papermill": {},
    "tags": []
   },
   "outputs": [],
   "source": [
    "df_update_comments = update_engagements(df_posts, df_comments, \"COMMENTS\", csv_comments)\n",
    "df_update_comments.head(1)"
   ]
  },
  {
   "cell_type": "markdown",
   "id": "af194c87-87b3-4379-b870-9ea01e0ff90f",
   "metadata": {
    "papermill": {},
    "tags": []
   },
   "source": [
    "### Create engagements database"
   ]
  },
  {
   "cell_type": "code",
   "execution_count": null,
   "id": "648a78c8-2cdd-4ebb-88b3-c960f3b13fbd",
   "metadata": {
    "papermill": {},
    "tags": []
   },
   "outputs": [],
   "source": [
    "def create_engagements_db(df_likes, df_comments):\n",
    "    if len(df_likes) == 0 and len(df_comments) == 0:\n",
    "        return pd.DataFrame()\n",
    "\n",
    "    # Init outputs\n",
    "    df = pd.DataFrame()\n",
    "\n",
    "    # Dataframe likes\n",
    "    df_likes[\"REACTION\"] = \"LIKES\"\n",
    "\n",
    "    # Dataframe comments\n",
    "    df_comments[\"REACTION\"] = \"COMMENTS\"\n",
    "\n",
    "    # Concat\n",
    "    df = (\n",
    "        pd.concat([df_likes, df_comments])\n",
    "        .fillna(\"Not defined\")\n",
    "        .sort_values(by=\"PUBLISHED_DATE\", ascending=False)\n",
    "    )\n",
    "\n",
    "    # Cleaning\n",
    "    to_keep = [\n",
    "        \"PROFILE_ID\",\n",
    "        \"PROFILE_URL\",\n",
    "        \"PUBLIC_ID\",\n",
    "        \"FIRSTNAME\",\n",
    "        \"LASTNAME\",\n",
    "        \"FULLNAME\",\n",
    "        \"OCCUPATION\",\n",
    "        \"REACTION\",\n",
    "        \"TEXT\",\n",
    "        \"TITLE\",\n",
    "        \"PUBLISHED_DATE\",\n",
    "        \"AUTHOR_NAME\",\n",
    "        \"POST_URL\",\n",
    "    ]\n",
    "    df = df[to_keep]\n",
    "\n",
    "    print(f\"✅ {len(df)} interactions fetched.\")\n",
    "    return df.reset_index(drop=True)\n",
    "\n",
    "\n",
    "df_engagements = create_engagements_db(df_update_likes, df_update_comments)\n",
    "df_engagements.head(3)"
   ]
  },
  {
   "cell_type": "markdown",
   "id": "8fc7dd85-cb09-4564-8741-a59614694195",
   "metadata": {
    "papermill": {},
    "tags": []
   },
   "source": [
    "### Save data engagements"
   ]
  },
  {
   "cell_type": "code",
   "execution_count": null,
   "id": "c025602b-42d2-4bc3-9089-5c271f7c113f",
   "metadata": {
    "papermill": {},
    "tags": []
   },
   "outputs": [],
   "source": [
    "df_engagements.to_csv(csv_engagements)"
   ]
  }
 ],
 "metadata": {
  "kernelspec": {
   "display_name": "Python 3",
   "language": "python",
   "name": "python3"
  },
  "language_info": {
   "codemirror_mode": {
    "name": "ipython",
    "version": 3
   },
   "file_extension": ".py",
   "mimetype": "text/x-python",
   "name": "python",
   "nbconvert_exporter": "python",
   "pygments_lexer": "ipython3",
   "version": "3.9.6"
  },
  "papermill": {
   "default_parameters": {},
   "environment_variables": {},
   "parameters": {},
   "version": "2.3.4"
  }
 },
 "nbformat": 4,
 "nbformat_minor": 5
}