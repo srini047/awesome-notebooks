{
 "cells": [
  {
   "cell_type": "markdown",
   "id": "pressing-pasta",
   "metadata": {
    "execution": {
     "iopub.execute_input": "2021-01-25T08:00:35.294800Z",
     "iopub.status.busy": "2021-01-25T08:00:35.294557Z",
     "iopub.status.idle": "2021-01-25T08:00:35.307281Z",
     "shell.execute_reply": "2021-01-25T08:00:35.306468Z",
     "shell.execute_reply.started": "2021-01-25T08:00:35.294775Z"
    },
    "papermill": {},
    "tags": []
   },
   "source": [
    "<img width=\"10%\" alt=\"Naas\" src=\"https://landen.imgix.net/jtci2pxwjczr/assets/5ice39g4.png?w=160\"/>"
   ]
  },
  {
   "cell_type": "markdown",
   "id": "celtic-portuguese",
   "metadata": {
    "papermill": {},
    "tags": []
   },
   "source": [
    "# LinkedIn - Get polls from post\n",
    "<a href=\"https://app.naas.ai/user-redirect/naas/downloader?url=https://raw.githubusercontent.com/jupyter-naas/awesome-notebooks/master/LinkedIn/LinkedIn_Get_polls_from_post.ipynb\" target=\"_parent\"><img src=\"https://naasai-public.s3.eu-west-3.amazonaws.com/open_in_naas.svg\"/></a><br><br><a href=\"https://github.com/jupyter-naas/awesome-notebooks/issues/new?assignees=&labels=&template=template-request.md&title=Tool+-+Action+of+the+notebook+\">Template request</a> | <a href=\"https://github.com/jupyter-naas/awesome-notebooks/issues/new?assignees=&labels=bug&template=bug_report.md&title=LinkedIn+-+Get+polls+from+post:+Error+short+description\">Bug report</a>"
   ]
  },
  {
   "cell_type": "markdown",
   "id": "fc27bc27-7d9b-4585-93e9-7847430fd3e1",
   "metadata": {
    "papermill": {},
    "tags": []
   },
   "source": [
    "**Tags:** #linkedin #post #polls #naas_drivers #content #analytics #image #html #plotly"
   ]
  },
  {
   "cell_type": "markdown",
   "id": "420106d8-26ad-4866-a9a9-6ad0170dc1f4",
   "metadata": {
    "papermill": {},
    "tags": []
   },
   "source": [
    "**Author:** [Florent Ravenel](https://www.linkedin.com/in/florent-ravenel/)"
   ]
  },
  {
   "cell_type": "markdown",
   "id": "naas-description",
   "metadata": {
    "papermill": {},
    "tags": [
     "description"
    ]
   },
   "source": [
    "**Description:** This notebook allows users to get poll results from their LinkedIn posts."
   ]
  },
  {
   "cell_type": "markdown",
   "id": "individual-arctic",
   "metadata": {
    "papermill": {},
    "tags": []
   },
   "source": [
    "## Input"
   ]
  },
  {
   "cell_type": "markdown",
   "id": "import_cell",
   "metadata": {
    "papermill": {},
    "tags": []
   },
   "source": [
    "### Import library"
   ]
  },
  {
   "cell_type": "code",
   "execution_count": null,
   "id": "confirmed-education",
   "metadata": {
    "papermill": {},
    "tags": []
   },
   "outputs": [],
   "source": [
    "from naas_drivers import linkedin\n",
    "import plotly.express as px"
   ]
  },
  {
   "cell_type": "markdown",
   "id": "hairy-breathing",
   "metadata": {
    "papermill": {},
    "tags": []
   },
   "source": [
    "### Get your cookies\n",
    "<a href='https://www.notion.so/LinkedIn-driver-Get-your-cookies-d20a8e7e508e42af8a5b52e33f3dba75'>How to get your cookies ?</a>"
   ]
  },
  {
   "cell_type": "code",
   "execution_count": null,
   "id": "amended-optics",
   "metadata": {
    "papermill": {},
    "tags": []
   },
   "outputs": [],
   "source": [
    "LI_AT = \"YOUR_COOKIE_LI_AT\"  # EXAMPLE AQFAzQN_PLPR4wAAAXc-FCKmgiMit5FLdY1af3-2\n",
    "JSESSIONID = \"YOUR_COOKIE_JSESSIONID\"  # EXAMPLE ajax:8379907400220387585"
   ]
  },
  {
   "cell_type": "markdown",
   "id": "upper-allergy",
   "metadata": {
    "papermill": {},
    "tags": []
   },
   "source": [
    "### Enter post URL"
   ]
  },
  {
   "cell_type": "code",
   "execution_count": null,
   "id": "noted-observer",
   "metadata": {
    "papermill": {},
    "tags": []
   },
   "outputs": [],
   "source": [
    "POST_URL = \"POST_URL\""
   ]
  },
  {
   "cell_type": "markdown",
   "id": "bigger-degree",
   "metadata": {
    "papermill": {},
    "tags": []
   },
   "source": [
    "## Model"
   ]
  },
  {
   "cell_type": "markdown",
   "id": "7e5ff65e-d2f4-4146-b212-549e46844453",
   "metadata": {
    "papermill": {},
    "tags": []
   },
   "source": [
    "### Get poll results from post"
   ]
  },
  {
   "cell_type": "code",
   "execution_count": null,
   "id": "drawn-pledge",
   "metadata": {
    "papermill": {},
    "tags": []
   },
   "outputs": [],
   "source": [
    "df = linkedin.connect(LI_AT, JSESSIONID).post.get_polls(POST_URL)\n",
    "print(\"📝 Nb of poll results\", len(df))\n",
    "df.head(5)"
   ]
  },
  {
   "cell_type": "markdown",
   "id": "coupled-permission",
   "metadata": {
    "papermill": {},
    "tags": []
   },
   "source": [
    "## Output"
   ]
  },
  {
   "cell_type": "markdown",
   "id": "7ab9aa7b-a063-4813-963e-bfee4fd18249",
   "metadata": {
    "papermill": {},
    "tags": []
   },
   "source": [
    "### Save your result in csv"
   ]
  },
  {
   "cell_type": "code",
   "execution_count": null,
   "id": "9b45d2e3-4ce1-48aa-bc15-bb483da4052b",
   "metadata": {
    "papermill": {},
    "tags": []
   },
   "outputs": [],
   "source": [
    "df.to_csv(\"POLL.csv\", index=False)\n",
    "print(\"💾 Poll results saved in csv\")"
   ]
  },
  {
   "cell_type": "markdown",
   "id": "colored-clothing",
   "metadata": {
    "papermill": {},
    "tags": []
   },
   "source": [
    "### Create, export and share your graph"
   ]
  },
  {
   "cell_type": "code",
   "execution_count": null,
   "id": "f7544704-026d-40c9-95de-7f6946a1c845",
   "metadata": {
    "papermill": {},
    "tags": []
   },
   "outputs": [],
   "source": [
    "def create_polls_graph(df):\n",
    "    poll_id = df.POLL_ID.unique()[0]\n",
    "    title = df.POLL_QUESTION.unique()[0]\n",
    "\n",
    "    # Create dataframe\n",
    "    df = df.groupby([\"POLL_RESULT\"], as_index=False).agg({\"PROFILE_ID\": \"count\"})\n",
    "    df[\"VALUE\"] = df[\"PROFILE_ID\"] / df[\"PROFILE_ID\"].sum() * 100\n",
    "    df[\"VALUE_D\"] = df[\"VALUE\"].map(\"{:.0f}%\".format)\n",
    "\n",
    "    # Count voters\n",
    "    voters = df.PROFILE_ID.sum()\n",
    "\n",
    "    # Create fig\n",
    "    fig = px.bar(\n",
    "        df,\n",
    "        y=\"POLL_RESULT\",\n",
    "        x=\"PROFILE_ID\",\n",
    "        orientation=\"h\",\n",
    "        title=f\"{title}<br><span style='font-size: 13px;'>Total amount of votes: {voters}</span>\",\n",
    "        text=\"VALUE_D\",\n",
    "        labels={\n",
    "            \"POLL_RESULT\": \"Options\",\n",
    "            \"PROFILE_ID\": \"Nb of votes\",\n",
    "            \"VALUE_D\": \"% of votes\",\n",
    "        },\n",
    "    )\n",
    "    fig.update_traces(marker_color=\"black\")\n",
    "    fig.update_layout(\n",
    "        plot_bgcolor=\"#ffffff\",\n",
    "        width=600,\n",
    "        height=400,\n",
    "        font=dict(family=\"Arial\", size=14, color=\"black\"),\n",
    "        paper_bgcolor=\"white\",\n",
    "        xaxis_title=None,\n",
    "        xaxis_showticklabels=False,\n",
    "        yaxis_title=None,\n",
    "        margin_pad=10,\n",
    "    )\n",
    "    fig.write_html(f\"{poll_id}.html\")\n",
    "    fig.show()\n",
    "    asset = naas.asset.add(f\"{poll_id}.html\")\n",
    "    return asset\n",
    "\n",
    "\n",
    "create_polls_graph(df)"
   ]
  }
 ],
 "metadata": {
  "kernelspec": {
   "display_name": "Python 3",
   "language": "python",
   "name": "python3"
  },
  "language_info": {
   "codemirror_mode": {
    "name": "ipython",
    "version": 3
   },
   "file_extension": ".py",
   "mimetype": "text/x-python",
   "name": "python",
   "nbconvert_exporter": "python",
   "pygments_lexer": "ipython3",
   "version": "3.8.8"
  },
  "naas": {
   "notebook_id": "c151f7e7-d109-45b0-995c-213daace93e1",
   "notebook_path": "LinkedIn/LinkedIn_Get_polls_from_post.ipynb"
  },
  "papermill": {
   "default_parameters": {},
   "environment_variables": {},
   "parameters": {},
   "version": "2.3.3"
  },
  "widgets": {
   "application/vnd.jupyter.widget-state+json": {
    "state": {},
    "version_major": 2,
    "version_minor": 0
   }
  }
 },
 "nbformat": 4,
 "nbformat_minor": 5
}