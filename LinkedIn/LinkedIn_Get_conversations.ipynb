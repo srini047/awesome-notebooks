{
 "cells": [
  {
   "cell_type": "markdown",
   "id": "corresponding-inspection",
   "metadata": {
    "execution": {
     "iopub.execute_input": "2021-01-25T08:00:35.294800Z",
     "iopub.status.busy": "2021-01-25T08:00:35.294557Z",
     "iopub.status.idle": "2021-01-25T08:00:35.307281Z",
     "shell.execute_reply": "2021-01-25T08:00:35.306468Z",
     "shell.execute_reply.started": "2021-01-25T08:00:35.294775Z"
    },
    "papermill": {},
    "tags": []
   },
   "source": [
    "<img width=\"10%\" alt=\"Naas\" src=\"https://landen.imgix.net/jtci2pxwjczr/assets/5ice39g4.png?w=160\"/>"
   ]
  },
  {
   "cell_type": "markdown",
   "id": "smooth-empire",
   "metadata": {
    "papermill": {},
    "tags": []
   },
   "source": [
    "# LinkedIn - Get conversations\n",
    "<a href=\"https://app.naas.ai/user-redirect/naas/downloader?url=https://raw.githubusercontent.com/jupyter-naas/awesome-notebooks/master/LinkedIn/LinkedIn_Get_conversations.ipynb\" target=\"_parent\"><img src=\"https://naasai-public.s3.eu-west-3.amazonaws.com/Open_in_Naas_Lab.svg\"/></a><br><br><a href=\"https://github.com/jupyter-naas/awesome-notebooks/issues/new?assignees=&labels=&template=template-request.md&title=Tool+-+Action+of+the+notebook+\">Template request</a> | <a href=\"https://github.com/jupyter-naas/awesome-notebooks/issues/new?assignees=&labels=bug&template=bug_report.md&title=LinkedIn+-+Get+conversations:+Error+short+description\">Bug report</a> | <a href=\"https://app.naas.ai/user-redirect/naas/downloader?url=https://raw.githubusercontent.com/jupyter-naas/awesome-notebooks/master/Naas/Naas_Start_data_product.ipynb\" target=\"_parent\">Generate Data Product</a>"
   ]
  },
  {
   "cell_type": "markdown",
   "id": "88a18048-1ec4-4098-aa2d-6684ae344230",
   "metadata": {
    "papermill": {},
    "tags": []
   },
   "source": [
    "**Tags:** #linkedin #message #getconversations #naas_drivers #content #snippet #dataframe"
   ]
  },
  {
   "cell_type": "markdown",
   "id": "b913d2db-c43a-4a0b-a16b-c1050923cdf9",
   "metadata": {
    "papermill": {},
    "tags": []
   },
   "source": [
    "**Author:** [Florent Ravenel](https://www.linkedin.com/in/florent-ravenel/)"
   ]
  },
  {
   "cell_type": "markdown",
   "id": "naas-description",
   "metadata": {
    "papermill": {},
    "tags": [
     "description"
    ]
   },
   "source": [
    "**Description:** This notebook provides guidance on how to use LinkedIn to start meaningful conversations with potential connections."
   ]
  },
  {
   "cell_type": "markdown",
   "id": "689c28c9-cf47-48e3-a7d7-289b7ee605cc",
   "metadata": {
    "papermill": {},
    "tags": []
   },
   "source": [
    "\n",
    "<div class=\"alert alert-info\" role=\"info\" style=\"margin: 10px\">\n",
    "<b>Disclaimer:</b><br>\n",
    "This code is in no way affiliated with, authorized, maintained, sponsored or endorsed by Linkedin or any of its affiliates or subsidiaries. It uses an independent and unofficial API. Use at your own risk.\n",
    "\n",
    "This project violates Linkedin's User Agreement Section 8.2, and because of this, Linkedin may (and will) temporarily or permanently ban your account. We are not responsible for your account being banned.\n",
    "<br>\n",
    "</div>"
   ]
  },
  {
   "cell_type": "markdown",
   "id": "moderate-honey",
   "metadata": {
    "papermill": {},
    "tags": []
   },
   "source": [
    "## Input"
   ]
  },
  {
   "cell_type": "markdown",
   "id": "import_cell",
   "metadata": {
    "papermill": {},
    "tags": []
   },
   "source": [
    "### Import libraries"
   ]
  },
  {
   "cell_type": "code",
   "execution_count": null,
   "id": "changed-romance",
   "metadata": {
    "papermill": {},
    "tags": []
   },
   "outputs": [],
   "source": [
    "from naas_drivers import linkedin"
   ]
  },
  {
   "cell_type": "markdown",
   "id": "continental-xerox",
   "metadata": {
    "papermill": {},
    "tags": []
   },
   "source": [
    "### Get your cookies\n",
    "<a href='https://www.notion.so/LinkedIn-driver-Get-your-cookies-d20a8e7e508e42af8a5b52e33f3dba75'>How to get your cookies ?</a>"
   ]
  },
  {
   "cell_type": "code",
   "execution_count": null,
   "id": "diverse-maximum",
   "metadata": {
    "papermill": {},
    "tags": []
   },
   "outputs": [],
   "source": [
    "LI_AT = \"YOUR_COOKIE_LI_AT\"  # EXAMPLE AQFAzQN_PLPR4wAAAXc-FCKmgiMit5FLdY1af3-2\n",
    "JSESSIONID = \"YOUR_COOKIE_JSESSIONID\"  # EXAMPLE ajax:8379907400220387585"
   ]
  },
  {
   "cell_type": "markdown",
   "id": "inappropriate-theory",
   "metadata": {
    "execution": {
     "iopub.execute_input": "2021-05-15T10:12:55.887028Z",
     "iopub.status.busy": "2021-05-15T10:12:55.886761Z",
     "iopub.status.idle": "2021-05-15T10:12:55.899441Z",
     "shell.execute_reply": "2021-05-15T10:12:55.898476Z",
     "shell.execute_reply.started": "2021-05-15T10:12:55.886964Z"
    },
    "papermill": {},
    "tags": []
   },
   "source": [
    "## Model"
   ]
  },
  {
   "cell_type": "code",
   "execution_count": null,
   "id": "honest-donor",
   "metadata": {
    "papermill": {},
    "tags": []
   },
   "outputs": [],
   "source": [
    "df = linkedin.connect(LI_AT, JSESSIONID).message.get_conversations()"
   ]
  },
  {
   "cell_type": "markdown",
   "id": "unnecessary-taylor",
   "metadata": {
    "papermill": {},
    "tags": []
   },
   "source": [
    "Get the information return in a dataframe.<br><br>\n",
    "**Available columns :**\n",
    "- CONVERSATION_URN\n",
    "- PARTICIPANTS : Urn of the participants\n",
    "- LAST_ACTIVITY\n",
    "- IS_GROUP_CHAT\n",
    "- GROUP_CHAT_NAME\n",
    "- FOLLOWER_COUNT\n",
    "- IS_PRIVATE_CHAT\n",
    "- PROFILE_URN\n",
    "- PROFILE_ID\n",
    "- FIRSTNAME\n",
    "- LASTNAME\n",
    "- OCCUPATION\n",
    "- MESSAGE_URN\n",
    "- SENDER_URN\n",
    "- CREATED_AT\n",
    "- MESSAGE_BODY"
   ]
  },
  {
   "cell_type": "markdown",
   "id": "approved-greek",
   "metadata": {
    "papermill": {},
    "tags": []
   },
   "source": [
    "## Output"
   ]
  },
  {
   "cell_type": "markdown",
   "id": "another-yahoo",
   "metadata": {
    "papermill": {},
    "tags": []
   },
   "source": [
    "### Display result"
   ]
  },
  {
   "cell_type": "code",
   "execution_count": null,
   "id": "superb-client",
   "metadata": {
    "papermill": {},
    "tags": []
   },
   "outputs": [],
   "source": [
    "df"
   ]
  }
 ],
 "metadata": {
  "kernelspec": {
   "display_name": "Python 3",
   "language": "python",
   "name": "python3"
  },
  "language_info": {
   "codemirror_mode": {
    "name": "ipython",
    "version": 3
   },
   "file_extension": ".py",
   "mimetype": "text/x-python",
   "name": "python",
   "nbconvert_exporter": "python",
   "pygments_lexer": "ipython3",
   "version": "3.9.6"
  },
  "naas": {
   "notebook_id": "dba7ad6aa93d52b27f68ac38681d27ba843f3eecf2c50d6f79b56cf7a744a87d",
   "notebook_path": "LinkedIn/LinkedIn_Get_conversations.ipynb"
  },
  "papermill": {
   "default_parameters": {},
   "environment_variables": {},
   "parameters": {},
   "version": "2.3.3"
  },
  "widgets": {
   "application/vnd.jupyter.widget-state+json": {
    "state": {},
    "version_major": 2,
    "version_minor": 0
   }
  }
 },
 "nbformat": 4,
 "nbformat_minor": 5
}