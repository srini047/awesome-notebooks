{
 "cells": [
  {
   "cell_type": "markdown",
   "id": "1f60e1c4-1499-492a-9a28-127a459db0c2",
   "metadata": {
    "papermill": {},
    "tags": []
   },
   "source": [
    "<img width=\"10%\" alt=\"Naas\" src=\"https://landen.imgix.net/jtci2pxwjczr/assets/5ice39g4.png?w=160\"/>"
   ]
  },
  {
   "cell_type": "markdown",
   "id": "5f7bbb79-9acb-408a-a12d-0f7b556f1f25",
   "metadata": {
    "papermill": {},
    "tags": []
   },
   "source": [
    "# RegEx - Replace value in text in a specific paragraph\n",
    "<a href=\"https://app.naas.ai/user-redirect/naas/downloader?url=https://raw.githubusercontent.com/jupyter-naas/awesome-notebooks/master/RegEx/RegEx_Replace_value_in_text_in_a_specific_paragraph.ipynb\" target=\"_parent\"><img src=\"https://naasai-public.s3.eu-west-3.amazonaws.com/Open_in_Naas_Lab.svg\"/></a><br><br><a href=\"https://github.com/jupyter-naas/awesome-notebooks/issues/new?assignees=&labels=&template=template-request.md&title=Tool+-+Action+of+the+notebook+\">Template request</a> | <a href=\"https://github.com/jupyter-naas/awesome-notebooks/issues/new?assignees=&labels=bug&template=bug_report.md&title=RegEx+-+Replace+value+in+text+in+a+specific+paragraph:+Error+short+description\">Bug report</a> | <a href=\"https://app.naas.ai/user-redirect/naas/downloader?url=https://raw.githubusercontent.com/jupyter-naas/awesome-notebooks/master/Naas/Naas_Start_data_product.ipynb\" target=\"_parent\">Generate Data Product</a>"
   ]
  },
  {
   "cell_type": "markdown",
   "id": "4e2db7ce-6209-4336-8bb3-15372b402e61",
   "metadata": {
    "papermill": {},
    "tags": []
   },
   "source": [
    "**Tags:** #regex #re #python #string #replace #text #snippet"
   ]
  },
  {
   "cell_type": "markdown",
   "id": "d078f48e-d820-4ce0-9386-8105133fb253",
   "metadata": {
    "papermill": {},
    "tags": []
   },
   "source": [
    "**Author:** [Florent Ravenel](https://www.linkedin.com/in/florent-ravenel/)"
   ]
  },
  {
   "cell_type": "markdown",
   "id": "1fb15eff-4f84-4e31-89ab-4a27f87a5674",
   "metadata": {
    "papermill": {},
    "tags": []
   },
   "source": [
    "**Description:** This notebook will show how to replace a value in a specific paragraph of a text using `re` module. The `re.sub()` function enables you to perform pattern-based string substitutions. It allows you to replace occurrences of a pattern in a given string with a specified replacement."
   ]
  },
  {
   "cell_type": "markdown",
   "id": "1adf67b3-ac4e-493a-8a1c-2396a98e8885",
   "metadata": {
    "papermill": {},
    "tags": []
   },
   "source": [
    "**References:** \n",
    "- [re — re.sub](https://docs.python.org/3/library/re.html)\n",
    "- [Replace value in string](https://www.geeksforgeeks.org/python-string-replace/)"
   ]
  },
  {
   "cell_type": "markdown",
   "id": "177b4346-ed14-4ce7-8313-0fdd4424a347",
   "metadata": {
    "papermill": {},
    "tags": []
   },
   "source": [
    "## Input"
   ]
  },
  {
   "cell_type": "markdown",
   "id": "ccf90156-6036-4bc9-aa4b-146bbd05c678",
   "metadata": {
    "papermill": {},
    "tags": []
   },
   "source": [
    "### Import libraries"
   ]
  },
  {
   "cell_type": "code",
   "execution_count": null,
   "id": "13b260b3-aac0-4613-bff5-a0c31c431931",
   "metadata": {
    "papermill": {},
    "tags": []
   },
   "outputs": [],
   "source": [
    "import re"
   ]
  },
  {
   "cell_type": "markdown",
   "id": "cdf06701-85ee-48c2-ae9b-31dcf81097c6",
   "metadata": {
    "papermill": {},
    "tags": []
   },
   "source": [
    "### Setup Variables\n",
    "- `text`: text containing the paragraph to be modified\n",
    "- `paragraph`: paragraph to be modified\n",
    "- `old_value`: value to be replaced\n",
    "- `new_value`: value to replace the old one"
   ]
  },
  {
   "cell_type": "code",
   "execution_count": null,
   "id": "a4a51699-4ffe-43b1-893d-80613897fbb6",
   "metadata": {
    "papermill": {},
    "tags": []
   },
   "outputs": [],
   "source": [
    "# Setup variables\n",
    "text = \"This is the first paragraph. This is the second paragraph. This is the third paragraph.\"\n",
    "paragraph = \"This is the second paragraph.\"\n",
    "old_value = \"second\"\n",
    "new_value = \"fourth\""
   ]
  },
  {
   "cell_type": "markdown",
   "id": "04c88df0-bee2-472d-b799-7cf6ccb2bfb9",
   "metadata": {
    "papermill": {},
    "tags": []
   },
   "source": [
    "## Model"
   ]
  },
  {
   "cell_type": "markdown",
   "id": "cccd6fd7-b04d-471b-97ea-7b6e80821c7a",
   "metadata": {
    "papermill": {},
    "tags": []
   },
   "source": [
    "### Replace value in text"
   ]
  },
  {
   "cell_type": "code",
   "execution_count": null,
   "id": "e31cc3fa-e734-4f61-9576-4880c36a8155",
   "metadata": {
    "papermill": {},
    "tags": []
   },
   "outputs": [],
   "source": [
    "# Replace value in text\n",
    "new_paragraph = re.sub(old_value, new_value, paragraph)\n",
    "new_text = text.replace(paragraph, new_paragraph)"
   ]
  },
  {
   "cell_type": "markdown",
   "id": "be60adbe-12eb-4d65-b6ea-f3d7c2212bbc",
   "metadata": {
    "papermill": {},
    "tags": []
   },
   "source": [
    "## Output"
   ]
  },
  {
   "cell_type": "markdown",
   "id": "fd939962-c212-45e8-b768-6e7ef630f29e",
   "metadata": {
    "papermill": {},
    "tags": []
   },
   "source": [
    "### Display result"
   ]
  },
  {
   "cell_type": "code",
   "execution_count": null,
   "id": "fba28444-356f-4f88-8083-a5227e75dcfa",
   "metadata": {
    "papermill": {},
    "tags": []
   },
   "outputs": [],
   "source": [
    "print(new_text)"
   ]
  }
 ],
 "metadata": {
  "kernelspec": {
   "display_name": "Python 3",
   "language": "python",
   "name": "python3"
  },
  "language_info": {
   "codemirror_mode": {
    "name": "ipython",
    "version": 3
   },
   "file_extension": ".py",
   "mimetype": "text/x-python",
   "name": "python",
   "nbconvert_exporter": "python",
   "pygments_lexer": "ipython3",
   "version": "3.9.6"
  },
  "naas": {
   "notebook_id": "c1fb82c7c15421cc52e119f4c0989d93fff90d185ae48e67c528a81197f697ce",
   "notebook_path": "RegEx/RegEx_Replace_value_in_text_in_a_specific_paragraph.ipynb"
  },
  "papermill": {
   "default_parameters": {},
   "environment_variables": {},
   "parameters": {},
   "version": "2.4.0"
  },
  "widgets": {
   "application/vnd.jupyter.widget-state+json": {
    "state": {},
    "version_major": 2,
    "version_minor": 0
   }
  }
 },
 "nbformat": 4,
 "nbformat_minor": 5
}