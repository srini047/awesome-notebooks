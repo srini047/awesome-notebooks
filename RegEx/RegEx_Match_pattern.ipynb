{
 "cells": [
  {
   "cell_type": "markdown",
   "id": "2c8321fa-40a0-4291-a49d-fae2de36949f",
   "metadata": {
    "papermill": {},
    "tags": []
   },
   "source": [
    "<img width=\"10%\" alt=\"Naas\" src=\"https://landen.imgix.net/jtci2pxwjczr/assets/5ice39g4.png?w=160\"/>"
   ]
  },
  {
   "cell_type": "markdown",
   "id": "78d115a2-ab51-4065-8667-7ca5030c7909",
   "metadata": {
    "papermill": {},
    "tags": []
   },
   "source": [
    "# RegEx - Match pattern\n",
    "<a href=\"https://app.naas.ai/user-redirect/naas/downloader?url=https://raw.githubusercontent.com/jupyter-naas/awesome-notebooks/master/RegEx/RegEx_Match_pattern.ipynb\" target=\"_parent\"><img src=\"https://naasai-public.s3.eu-west-3.amazonaws.com/Open_in_Naas_Lab.svg\"/></a><br><br><a href=\"https://github.com/jupyter-naas/awesome-notebooks/issues/new?assignees=&labels=&template=template-request.md&title=Tool+-+Action+of+the+notebook+\">Template request</a> | <a href=\"https://github.com/jupyter-naas/awesome-notebooks/issues/new?assignees=&labels=bug&template=bug_report.md&title=RegEx+-+Match+pattern:+Error+short+description\">Bug report</a> | <a href=\"https://app.naas.ai/user-redirect/naas/downloader?url=https://raw.githubusercontent.com/jupyter-naas/awesome-notebooks/master/Naas/Naas_Start_data_product.ipynb\" target=\"_parent\">Generate Data Product</a>"
   ]
  },
  {
   "cell_type": "markdown",
   "id": "a57a7e1b-777d-4eef-8674-aefd34f80585",
   "metadata": {
    "papermill": {},
    "tags": []
   },
   "source": [
    "**Tags:** #regex #python #snippet #operations"
   ]
  },
  {
   "cell_type": "markdown",
   "id": "9f01e118-a2d7-4f16-a580-9ecdeca9e1f4",
   "metadata": {
    "papermill": {},
    "tags": []
   },
   "source": [
    "**Author:** [Florent Ravenel](https://www.linkedin.com/in/florent-ravenel/)"
   ]
  },
  {
   "cell_type": "markdown",
   "id": "678dfdd1-b4a7-40e0-b67e-3dd826c67d61",
   "metadata": {
    "papermill": {},
    "tags": []
   },
   "source": [
    "**Description:** This notebook demonstrates how to match a pattern in a string using `re.search()` and `re.match()`. The main difference between `re.search()` and `re.match()` lies in how they apply pattern matching to the input string. `re.search()` scans the entire input string and returns the first occurrence of a pattern match, regardless of its position within the string. On the other hand, `re.match()` only checks for a pattern match at the beginning of the string.\n",
    "\n",
    "To start, we recommand you to test your regular expression using this website: https://regex101.com/"
   ]
  },
  {
   "cell_type": "markdown",
   "id": "5a7a43ed-66b0-4083-a3f7-b9d494b2eab6",
   "metadata": {
    "papermill": {},
    "tags": []
   },
   "source": [
    "**References:** \n",
    "- [re — Regular expression operations](https://docs.python.org/3/library/re.html)"
   ]
  },
  {
   "cell_type": "markdown",
   "id": "f25760b1-f912-4628-9119-0927280d8497",
   "metadata": {
    "papermill": {},
    "tags": []
   },
   "source": [
    "## Input"
   ]
  },
  {
   "cell_type": "markdown",
   "id": "91748146-2996-40b6-94dd-79d00cfa6d2e",
   "metadata": {
    "papermill": {},
    "tags": []
   },
   "source": [
    "### Import libraries"
   ]
  },
  {
   "cell_type": "code",
   "execution_count": null,
   "id": "7c1d58d2-81ef-4092-97ca-723a82f6196f",
   "metadata": {
    "papermill": {},
    "tags": []
   },
   "outputs": [],
   "source": [
    "import re"
   ]
  },
  {
   "cell_type": "markdown",
   "id": "a496e20b-b8f5-4209-8e28-96b203d44dd2",
   "metadata": {
    "papermill": {},
    "tags": []
   },
   "source": [
    "### Setup Variables\n",
    "- `pattern`: the email address to be checked\n",
    "- `input_string`: the email address to be checked"
   ]
  },
  {
   "cell_type": "code",
   "execution_count": null,
   "id": "b9306c2d-a81d-4b2b-99cf-ca03c3782f24",
   "metadata": {
    "papermill": {},
    "tags": []
   },
   "outputs": [],
   "source": [
    "pattern = \"\\d+\"\n",
    "input_string = \"Temperature: 0°C\""
   ]
  },
  {
   "cell_type": "markdown",
   "id": "bc569229-68c8-410b-8e97-e3f6d8bb65cc",
   "metadata": {
    "papermill": {},
    "tags": []
   },
   "source": [
    "## Model"
   ]
  },
  {
   "cell_type": "markdown",
   "id": "bd1500bf-d32e-4876-89da-8ecc713ef9e8",
   "metadata": {
    "papermill": {},
    "tags": []
   },
   "source": [
    "### Match pattern using re.search()"
   ]
  },
  {
   "cell_type": "code",
   "execution_count": null,
   "id": "1c91b8cf-ef80-48b8-b618-3a8bd1cf1604",
   "metadata": {
    "papermill": {},
    "tags": []
   },
   "outputs": [],
   "source": [
    "search_result = re.search(pattern, input_string)\n",
    "search_result"
   ]
  },
  {
   "cell_type": "markdown",
   "id": "843c1d26-0e13-4b1a-b7a1-f2c8fa43f1a3",
   "metadata": {
    "papermill": {},
    "tags": []
   },
   "source": [
    "### Match pattern using re.match()"
   ]
  },
  {
   "cell_type": "code",
   "execution_count": null,
   "id": "eb42f2e8-69f3-4241-9b74-80827ca1d313",
   "metadata": {
    "papermill": {},
    "tags": []
   },
   "outputs": [],
   "source": [
    "match_result = re.match(pattern, input_string)\n",
    "match_result"
   ]
  },
  {
   "cell_type": "markdown",
   "id": "36bec295-4cac-4165-ae17-6b867948e7b7",
   "metadata": {
    "papermill": {},
    "tags": []
   },
   "source": [
    "## Output"
   ]
  },
  {
   "cell_type": "markdown",
   "id": "3dec3655-08e3-4112-83c5-9f382f1bf7e3",
   "metadata": {
    "papermill": {},
    "tags": []
   },
   "source": [
    "### Display result\n",
    "When we use re.match() with the same pattern, it fails to find a match because the pattern is only checked at the beginning of the string. Since \"0\" is not at the beginning, re.match() returns no match."
   ]
  },
  {
   "cell_type": "code",
   "execution_count": null,
   "id": "310c369a-49e6-458e-ad01-130ad0cd5ad6",
   "metadata": {
    "papermill": {},
    "tags": []
   },
   "outputs": [],
   "source": [
    "if search_result:\n",
    "    print(\"Search Result:\", search_result.group())\n",
    "else:\n",
    "    print(\"No match found with re.search()\")\n",
    "    \n",
    "if match_result:\n",
    "    print(\"Match Result:\", match_result.group())\n",
    "else:\n",
    "    print(\"No match found with re.match()\")"
   ]
  },
  {
   "cell_type": "markdown",
   "id": "d35aff66-c0a7-491b-8c70-70cc58bf1c5b",
   "metadata": {
    "papermill": {},
    "tags": []
   },
   "source": [
    " "
   ]
  },
  {
   "cell_type": "code",
   "execution_count": null,
   "id": "2ad864b6-bec9-43c9-9d26-e32fd1a715bb",
   "metadata": {
    "papermill": {},
    "tags": []
   },
   "outputs": [],
   "source": []
  }
 ],
 "metadata": {
  "kernelspec": {
   "display_name": "Python 3",
   "language": "python",
   "name": "python3"
  },
  "language_info": {
   "codemirror_mode": {
    "name": "ipython",
    "version": 3
   },
   "file_extension": ".py",
   "mimetype": "text/x-python",
   "name": "python",
   "nbconvert_exporter": "python",
   "pygments_lexer": "ipython3",
   "version": "3.9.6"
  },
  "naas": {
   "notebook_id": "685a1f40f7aa4a1232db34e0359c257af7cfb943e0ababc3ce2c39cb4d53a733",
   "notebook_path": "RegEx/RegEx_Match_pattern.ipynb"
  },
  "papermill": {
   "default_parameters": {},
   "environment_variables": {},
   "parameters": {},
   "version": "2.4.0"
  },
  "widgets": {
   "application/vnd.jupyter.widget-state+json": {
    "state": {},
    "version_major": 2,
    "version_minor": 0
   }
  }
 },
 "nbformat": 4,
 "nbformat_minor": 5
}