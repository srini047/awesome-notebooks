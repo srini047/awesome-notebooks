{
 "cells": [
  {
   "cell_type": "markdown",
   "id": "0160ca63-35c9-454d-9f56-632ef5e1f18c",
   "metadata": {
    "papermill": {},
    "tags": []
   },
   "source": [
    "<img width=\"10%\" alt=\"Naas\" src=\"https://landen.imgix.net/jtci2pxwjczr/assets/5ice39g4.png?w=160\"/>"
   ]
  },
  {
   "cell_type": "markdown",
   "id": "e458790b-3a01-4a19-9f7d-219a145ca222",
   "metadata": {
    "papermill": {},
    "tags": []
   },
   "source": [
    "# Jupyter Notebooks - Apply black on notebook file\n",
    "<a href=\"https://app.naas.ai/user-redirect/naas/downloader?url=https://raw.githubusercontent.com/jupyter-naas/awesome-notebooks/master/Jupyter%20Notebooks/Jupyter_Notebooks_Apply_black_on_notebook_file.ipynb\" target=\"_parent\"><img src=\"https://naasai-public.s3.eu-west-3.amazonaws.com/Open_in_Naas_Lab.svg\"/></a><br><br><a href=\"https://github.com/jupyter-naas/awesome-notebooks/issues/new?assignees=&labels=&template=template-request.md&title=Tool+-+Action+of+the+notebook+\">Template request</a> | <a href=\"https://github.com/jupyter-naas/awesome-notebooks/issues/new?assignees=&labels=bug&template=bug_report.md&title=Jupyter+Notebooks+-+Apply+black+on+notebook+file:+Error+short+description\">Bug report</a> | <a href=\"https://app.naas.ai/user-redirect/naas/downloader?url=https://raw.githubusercontent.com/jupyter-naas/awesome-notebooks/master/Naas/Naas_Start_data_product.ipynb\" target=\"_parent\">Generate Data Product</a>"
   ]
  },
  {
   "cell_type": "markdown",
   "id": "85bb8510-1515-4417-9bbf-9671f72581ae",
   "metadata": {
    "papermill": {},
    "tags": []
   },
   "source": [
    "**Tags:** #jupyter #notebook #black #python #formatting #style"
   ]
  },
  {
   "cell_type": "markdown",
   "id": "30ed6976-ebe8-483c-849c-214f8f269ee8",
   "metadata": {
    "papermill": {},
    "tags": []
   },
   "source": [
    "**Author:** [Florent Ravenel](https://www.linkedin.com/in/florent-ravenel)"
   ]
  },
  {
   "cell_type": "markdown",
   "id": "cd240879-dd61-4e08-b2fa-e3099ff4f6bb",
   "metadata": {
    "papermill": {},
    "tags": []
   },
   "source": [
    "**Description:** This notebook explains how to apply the black formatting style to a Jupyter Notebook file. It is usefull for organizations that want to ensure a consistent coding style across their notebooks."
   ]
  },
  {
   "cell_type": "markdown",
   "id": "258c7f70-d47d-4fb8-97c5-4ae144ead2fe",
   "metadata": {
    "papermill": {},
    "tags": []
   },
   "source": [
    "**References:**\n",
    "- [Black Vercel](https://black.vercel.app/)\n",
    "- [Why formatting your python code is important](https://www.freecodecamp.org/news/auto-format-your-python-code-with-black/)"
   ]
  },
  {
   "cell_type": "markdown",
   "id": "ea583865-1401-4fed-bf01-9e5c4540f419",
   "metadata": {
    "papermill": {},
    "tags": []
   },
   "source": [
    "## Input"
   ]
  },
  {
   "cell_type": "markdown",
   "id": "015d4b02-5dce-4fa4-be33-0b4ed596d1f9",
   "metadata": {
    "papermill": {},
    "tags": []
   },
   "source": [
    "### Import libraries"
   ]
  },
  {
   "cell_type": "code",
   "execution_count": null,
   "id": "ff59c87f-10cb-4bc3-a5ec-765b910f74c8",
   "metadata": {
    "papermill": {},
    "tags": []
   },
   "outputs": [],
   "source": [
    "import json\n",
    "import subprocess"
   ]
  },
  {
   "cell_type": "markdown",
   "id": "a247da09-06b5-425d-a5d5-476b47c1b573",
   "metadata": {
    "papermill": {},
    "tags": []
   },
   "source": [
    "### Setup Variables\n",
    "- `file_path`: Path of the Jupyter Notebook file to be formatted"
   ]
  },
  {
   "cell_type": "code",
   "execution_count": null,
   "id": "2a3dedba-e8e2-489b-951f-4c40da50dc08",
   "metadata": {
    "papermill": {},
    "tags": []
   },
   "outputs": [],
   "source": [
    "file_path = \"<your_notebook_path.ipynb>\""
   ]
  },
  {
   "cell_type": "markdown",
   "id": "19185481-319b-412e-b680-cb4553efce0a",
   "metadata": {
    "papermill": {},
    "tags": []
   },
   "source": [
    "## Model"
   ]
  },
  {
   "cell_type": "markdown",
   "id": "1d5f2668-96b6-4485-aded-2486dc4f6a96",
   "metadata": {
    "papermill": {},
    "tags": []
   },
   "source": [
    "### Apply black formatting"
   ]
  },
  {
   "cell_type": "code",
   "execution_count": null,
   "id": "2eabafad-b8d6-46d6-baca-cf161c22813c",
   "metadata": {
    "papermill": {},
    "tags": []
   },
   "outputs": [],
   "source": [
    "def run_black(file, file_output=None):\n",
    "    # Open notebook\n",
    "    with open(file) as f:\n",
    "        nb = json.load(f)\n",
    "    \n",
    "    # Apply black on code cell\n",
    "    for cell in nb['cells']:\n",
    "        if cell['cell_type'] == 'code':\n",
    "            code = cell['source']\n",
    "            code = \"\".join(code)\n",
    "            result = subprocess.run(['black', '-', '--fast'], input=code.encode(), stdout=subprocess.PIPE, stderr=subprocess.PIPE)\n",
    "            if result.stdout:\n",
    "                new_code = result.stdout.decode()\n",
    "                if new_code.endswith(\"\\n\"):\n",
    "                    new_code = new_code[:-1]\n",
    "                cell['source'] = new_code\n",
    "                \n",
    "    # Save notebook\n",
    "    if not file_output:\n",
    "        file_output = file\n",
    "    with open(file_output, 'w') as f:\n",
    "        json.dump(nb, f, indent=1)\n",
    "    print(f\"✅ Black successfully applied to your notebook.\")"
   ]
  },
  {
   "cell_type": "markdown",
   "id": "882ae09d-2b24-42aa-9d44-36ca65968881",
   "metadata": {
    "papermill": {},
    "tags": []
   },
   "source": [
    "## Output"
   ]
  },
  {
   "cell_type": "markdown",
   "id": "4c4a236f-f6e8-4c81-8039-73e280d33db2",
   "metadata": {
    "papermill": {},
    "tags": []
   },
   "source": [
    "### Run function"
   ]
  },
  {
   "cell_type": "code",
   "execution_count": null,
   "id": "b3f0b71c-4270-40d6-872b-c112e86b5956",
   "metadata": {
    "papermill": {},
    "tags": []
   },
   "outputs": [],
   "source": [
    "run_black(file_path)"
   ]
  },
  {
   "cell_type": "markdown",
   "id": "e952724b-8be0-496b-a6ae-f7eb7c9fd048",
   "metadata": {
    "papermill": {},
    "tags": []
   },
   "source": [
    " "
   ]
  }
 ],
 "metadata": {
  "kernelspec": {
   "display_name": "Python 3",
   "language": "python",
   "name": "python3"
  },
  "language_info": {
   "codemirror_mode": {
    "name": "ipython",
    "version": 3
   },
   "file_extension": ".py",
   "mimetype": "text/x-python",
   "name": "python",
   "nbconvert_exporter": "python",
   "pygments_lexer": "ipython3",
   "version": "3.9.6"
  },
  "naas": {
   "notebook_id": "40bc861fbc7e6401524526236bf9efeebd65f31e1cce745a877aa263ff42ac3f",
   "notebook_path": "Jupyter Notebooks/Jupyter_Notebooks_Apply_black_on_notebook_file.ipynb"
  },
  "papermill": {
   "default_parameters": {},
   "environment_variables": {},
   "parameters": {},
   "version": "2.4.0"
  },
  "widgets": {
   "application/vnd.jupyter.widget-state+json": {
    "state": {},
    "version_major": 2,
    "version_minor": 0
   }
  }
 },
 "nbformat": 4,
 "nbformat_minor": 5
}