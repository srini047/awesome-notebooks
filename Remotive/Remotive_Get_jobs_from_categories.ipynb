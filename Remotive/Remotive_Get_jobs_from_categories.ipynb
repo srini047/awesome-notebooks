{
 "cells": [
  {
   "cell_type": "markdown",
   "id": "7ff8eac7",
   "metadata": {
    "papermill": {},
    "tags": []
   },
   "source": [
    "<img width=\"10%\" alt=\"Naas\" src=\"https://landen.imgix.net/jtci2pxwjczr/assets/5ice39g4.png?w=160\"/>"
   ]
  },
  {
   "cell_type": "markdown",
   "id": "eb3b78a0",
   "metadata": {
    "papermill": {},
    "tags": []
   },
   "source": [
    "# Remotive - Get jobs from categories\n",
    "<a href=\"https://app.naas.ai/user-redirect/naas/downloader?url=https://raw.githubusercontent.com/jupyter-naas/awesome-notebooks/master/Remotive/Remotive_Get_jobs_from_categories.ipynb\" target=\"_parent\"><img src=\"https://naasai-public.s3.eu-west-3.amazonaws.com/Open_in_Naas_Lab.svg\"/></a><br><br><a href=\"https://github.com/jupyter-naas/awesome-notebooks/issues/new?assignees=&labels=&template=template-request.md&title=Tool+-+Action+of+the+notebook+\">Template request</a> | <a href=\"https://github.com/jupyter-naas/awesome-notebooks/issues/new?assignees=&labels=bug&template=bug_report.md&title=Remotive+-+Get+jobs+from+categories:+Error+short+description\">Bug report</a> | <a href=\"https://app.naas.ai/user-redirect/naas/downloader?url=https://raw.githubusercontent.com/jupyter-naas/awesome-notebooks/master/Naas/Naas_Start_data_product.ipynb\" target=\"_parent\">Generate Data Product</a>"
   ]
  },
  {
   "cell_type": "markdown",
   "id": "6bc22fed",
   "metadata": {
    "papermill": {},
    "tags": []
   },
   "source": [
    "**Tags:** #remotive #jobs #csv #snippet #opendata #dataframe"
   ]
  },
  {
   "cell_type": "markdown",
   "id": "80931584-ca1b-4bd4-9242-4d0eee06f37b",
   "metadata": {
    "papermill": {},
    "tags": []
   },
   "source": [
    "**Author:** [Sanjeet Attili](https://www.linkedin.com/in/sanjeet-attili-760bab190/)"
   ]
  },
  {
   "cell_type": "markdown",
   "id": "naas-description",
   "metadata": {
    "papermill": {},
    "tags": [
     "description"
    ]
   },
   "source": [
    "**Description:** This notebook provides a comprehensive list of remote job opportunities from a variety of categories."
   ]
  },
  {
   "cell_type": "markdown",
   "id": "ec6cfc27",
   "metadata": {
    "papermill": {},
    "tags": []
   },
   "source": [
    "## Input"
   ]
  },
  {
   "cell_type": "markdown",
   "id": "9d93e160",
   "metadata": {
    "papermill": {},
    "tags": []
   },
   "source": [
    "### Import libraries"
   ]
  },
  {
   "cell_type": "code",
   "execution_count": null,
   "id": "bd2201c9",
   "metadata": {
    "papermill": {},
    "tags": []
   },
   "outputs": [],
   "source": [
    "import pandas as pd\n",
    "import requests\n",
    "import time\n",
    "from datetime import datetime"
   ]
  },
  {
   "cell_type": "markdown",
   "id": "ea67b77c",
   "metadata": {
    "papermill": {},
    "tags": []
   },
   "source": [
    "### Setup Remotive"
   ]
  },
  {
   "cell_type": "markdown",
   "id": "cada2de4",
   "metadata": {
    "papermill": {},
    "tags": []
   },
   "source": [
    "#### Get categories from Remotive"
   ]
  },
  {
   "cell_type": "code",
   "execution_count": null,
   "id": "da49cffe",
   "metadata": {
    "papermill": {},
    "tags": []
   },
   "outputs": [],
   "source": [
    "def get_remotejob_categories():\n",
    "    req_url = f\"https://remotive.io/api/remote-jobs/categories\"\n",
    "    res = requests.get(req_url)\n",
    "    try:\n",
    "        res.raise_for_status()\n",
    "    except requests.HTTPError as e:\n",
    "        return e\n",
    "    res_json = res.json()\n",
    "\n",
    "    # Get categories\n",
    "    jobs = res_json.get(\"jobs\")\n",
    "    return pd.DataFrame(jobs)\n",
    "\n",
    "\n",
    "df_categories = get_remotejob_categories()\n",
    "df_categories"
   ]
  },
  {
   "cell_type": "markdown",
   "id": "eeb66027",
   "metadata": {
    "papermill": {},
    "tags": []
   },
   "source": [
    "#### Enter your parameters"
   ]
  },
  {
   "cell_type": "code",
   "execution_count": null,
   "id": "a1537d24",
   "metadata": {
    "papermill": {},
    "tags": []
   },
   "outputs": [],
   "source": [
    "categories = [\"data\"]  # Pick the list of categories in columns \"slug\"\n",
    "date_from = -10  # Choose date difference in days from now => must be negative"
   ]
  },
  {
   "cell_type": "markdown",
   "id": "fef87397-0ffa-41e6-baa0-b71c9be05858",
   "metadata": {
    "papermill": {},
    "tags": []
   },
   "source": [
    "### Variables"
   ]
  },
  {
   "cell_type": "code",
   "execution_count": null,
   "id": "9ecfdfa1-5da3-40bc-ae26-649f8926c12e",
   "metadata": {
    "papermill": {},
    "tags": []
   },
   "outputs": [],
   "source": [
    "csv_output = \"REMOTIVE_JOBS.csv\""
   ]
  },
  {
   "cell_type": "markdown",
   "id": "49db5e28",
   "metadata": {
    "papermill": {},
    "tags": []
   },
   "source": [
    "## Model"
   ]
  },
  {
   "cell_type": "markdown",
   "id": "94f355c7",
   "metadata": {
    "papermill": {},
    "tags": []
   },
   "source": [
    "### Get all jobs posted after timestamp_date\n",
    "\n",
    "All jobs posted after the date from will be fetched.<br>\n",
    "In summary, we can set the value, in seconds, of 'search_data_from' to fetch all jobs posted since this duration"
   ]
  },
  {
   "cell_type": "code",
   "execution_count": null,
   "id": "b486c805",
   "metadata": {
    "papermill": {},
    "tags": []
   },
   "outputs": [],
   "source": [
    "REMOTIVE_DATETIME = \"%Y-%m-%dT%H:%M:%S\"\n",
    "NAAS_DATETIME = \"%Y-%m-%d %H:%M:%S\"\n",
    "\n",
    "\n",
    "def get_remotive_jobs_since(jobs, date):\n",
    "    ret = []\n",
    "    for job in jobs:\n",
    "        publication_date = datetime.strptime(\n",
    "            job[\"publication_date\"], REMOTIVE_DATETIME\n",
    "        ).timestamp()\n",
    "        if publication_date > date:\n",
    "            ret.append(\n",
    "                {\n",
    "                    \"URL\": job[\"url\"],\n",
    "                    \"TITLE\": job[\"title\"],\n",
    "                    \"COMPANY\": job[\"company_name\"],\n",
    "                    \"PUBLICATION_DATE\": datetime.fromtimestamp(\n",
    "                        publication_date\n",
    "                    ).strftime(NAAS_DATETIME),\n",
    "                }\n",
    "            )\n",
    "    return ret\n",
    "\n",
    "\n",
    "def get_category_jobs_since(category, date, limit):\n",
    "    url = f\"https://remotive.io/api/remote-jobs?category={category}&limit={limit}\"\n",
    "    res = requests.get(url)\n",
    "    if res.json()[\"jobs\"]:\n",
    "        publication_date = datetime.strptime(\n",
    "            res.json()[\"jobs\"][-1][\"publication_date\"], REMOTIVE_DATETIME\n",
    "        ).timestamp()\n",
    "        if len(res.json()[\"jobs\"]) < limit or date > publication_date:\n",
    "            print(f\"Jobs from catgory {category} fetched ✅\")\n",
    "            return get_remotive_jobs_since(res.json()[\"jobs\"], date)\n",
    "        else:\n",
    "            return get_category_jobs_since(category, date, limit + 5)\n",
    "    return []\n",
    "\n",
    "\n",
    "def get_jobs_since(categories: list, date_from: int):\n",
    "    if date_from >= 0:\n",
    "        return \"'date_from' must be negative. Please update your parameter.\"\n",
    "    # Transform datefrom int to\n",
    "    search_jobs_from = date_from * 24 * 60 * 60  # days in seconds\n",
    "    timestamp_date = time.time() + search_jobs_from\n",
    "\n",
    "    jobs = []\n",
    "    for category in categories:\n",
    "        jobs += get_category_jobs_since(category, timestamp_date, 5)\n",
    "    print(\n",
    "        f\"- All job since {datetime.fromtimestamp(timestamp_date)} have been fetched:\",\n",
    "        len(jobs),\n",
    "    )\n",
    "    return pd.DataFrame(jobs)\n",
    "\n",
    "\n",
    "df_jobs = get_jobs_since(categories, date_from=date_from)\n",
    "df_jobs.head(5)"
   ]
  },
  {
   "cell_type": "markdown",
   "id": "09dcb496",
   "metadata": {
    "papermill": {},
    "tags": []
   },
   "source": [
    "## Output"
   ]
  },
  {
   "cell_type": "markdown",
   "id": "32dfab73",
   "metadata": {
    "papermill": {},
    "tags": []
   },
   "source": [
    "### Save dataframe in csv"
   ]
  },
  {
   "cell_type": "code",
   "execution_count": null,
   "id": "675e6052",
   "metadata": {
    "papermill": {},
    "tags": []
   },
   "outputs": [],
   "source": [
    "df_jobs.to_csv(csv_output, index=False)"
   ]
  }
 ],
 "metadata": {
  "kernelspec": {
   "display_name": "Python 3",
   "language": "python",
   "name": "python3"
  },
  "language_info": {
   "codemirror_mode": {
    "name": "ipython",
    "version": 3
   },
   "file_extension": ".py",
   "mimetype": "text/x-python",
   "name": "python",
   "nbconvert_exporter": "python",
   "pygments_lexer": "ipython3",
   "version": "3.8.8"
  },
  "naas": {
   "notebook_id": "e141af26ebf6859a4e26fdf19cbbef08826a4a49ba12d240412d69b89f8b322b",
   "notebook_path": "Remotive/Remotive_Get_jobs_from_categories.ipynb"
  },
  "papermill": {
   "default_parameters": {},
   "environment_variables": {},
   "parameters": {},
   "version": "2.3.4"
  }
 },
 "nbformat": 4,
 "nbformat_minor": 5
}