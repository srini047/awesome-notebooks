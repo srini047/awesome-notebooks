{
 "cells": [
  {
   "cell_type": "markdown",
   "id": "df913083",
   "metadata": {
    "papermill": {},
    "tags": []
   },
   "source": [
    "<img width=\"10%\" alt=\"Naas\" src=\"https://landen.imgix.net/jtci2pxwjczr/assets/5ice39g4.png?w=160\"/>"
   ]
  },
  {
   "cell_type": "markdown",
   "id": "da81c632",
   "metadata": {
    "papermill": {},
    "tags": []
   },
   "source": [
    "# Remotive - Get categories from job\n",
    "<a href=\"https://app.naas.ai/user-redirect/naas/downloader?url=https://raw.githubusercontent.com/jupyter-naas/awesome-notebooks/master/Remotive/Remotive_Get_categories_from_job.ipynb\" target=\"_parent\"><img src=\"https://naasai-public.s3.eu-west-3.amazonaws.com/open_in_naas.svg\"/></a><br><br><a href=\"https://github.com/jupyter-naas/awesome-notebooks/issues/new?assignees=&labels=&template=template-request.md&title=Tool+-+Action+of+the+notebook+\">Template request</a> | <a href=\"https://github.com/jupyter-naas/awesome-notebooks/issues/new?assignees=&labels=bug&template=bug_report.md&title=Remotive+-+Get+categories+from+job:+Error+short+description\">Bug report</a>"
   ]
  },
  {
   "cell_type": "markdown",
   "id": "6746d26e",
   "metadata": {
    "papermill": {},
    "tags": []
   },
   "source": [
    "**Tags:** #remotive #categories #snippet #opendata #dataframe"
   ]
  },
  {
   "cell_type": "markdown",
   "id": "04a7ba74-2544-466e-a566-f76cd79d8249",
   "metadata": {
    "papermill": {},
    "tags": []
   },
   "source": [
    "**Author:** [Sanjeet Attili](https://www.linkedin.com/in/sanjeet-attili-760bab190/)"
   ]
  },
  {
   "cell_type": "markdown",
   "id": "naas-description",
   "metadata": {
    "papermill": {},
    "tags": [
     "description"
    ]
   },
   "source": [
    "**Description:** This notebook provides a way to categorize jobs posted on Remotive."
   ]
  },
  {
   "cell_type": "markdown",
   "id": "40f2e555",
   "metadata": {
    "papermill": {},
    "tags": []
   },
   "source": [
    "## Input"
   ]
  },
  {
   "cell_type": "markdown",
   "id": "88b4a11f",
   "metadata": {
    "papermill": {},
    "tags": []
   },
   "source": [
    "### Imports"
   ]
  },
  {
   "cell_type": "code",
   "execution_count": 1,
   "id": "18138c8c",
   "metadata": {
    "execution": {
     "iopub.execute_input": "2022-03-03T18:04:03.509177Z",
     "iopub.status.busy": "2022-03-03T18:04:03.508715Z",
     "iopub.status.idle": "2022-03-03T18:04:04.478073Z",
     "shell.execute_reply": "2022-03-03T18:04:04.477493Z",
     "shell.execute_reply.started": "2022-03-03T18:04:03.509093Z"
    },
    "papermill": {},
    "tags": []
   },
   "outputs": [],
   "source": [
    "import pandas as pd\n",
    "import requests"
   ]
  },
  {
   "cell_type": "markdown",
   "id": "b04af650",
   "metadata": {
    "papermill": {},
    "tags": []
   },
   "source": [
    "## Model"
   ]
  },
  {
   "cell_type": "markdown",
   "id": "68ea6577",
   "metadata": {
    "papermill": {},
    "tags": []
   },
   "source": [
    "### Get categories from Remotive"
   ]
  },
  {
   "cell_type": "code",
   "execution_count": 2,
   "id": "11fb7451",
   "metadata": {
    "execution": {
     "iopub.execute_input": "2022-03-03T18:04:04.479542Z",
     "iopub.status.busy": "2022-03-03T18:04:04.479324Z",
     "iopub.status.idle": "2022-03-03T18:04:04.554839Z",
     "shell.execute_reply": "2022-03-03T18:04:04.553935Z",
     "shell.execute_reply.started": "2022-03-03T18:04:04.479513Z"
    },
    "papermill": {},
    "tags": []
   },
   "outputs": [],
   "source": [
    "def get_remotejob_categories():\n",
    "    req_url = f\"https://remotive.io/api/remote-jobs/categories\"\n",
    "    res = requests.get(req_url)\n",
    "    try:\n",
    "        res.raise_for_status()\n",
    "    except requests.HTTPError as e:\n",
    "        return e\n",
    "    res_json = res.json()\n",
    "\n",
    "    # Get categories\n",
    "    jobs = res_json.get(\"jobs\")\n",
    "    return pd.DataFrame(jobs)\n",
    "\n",
    "\n",
    "df_categories = get_remotejob_categories()"
   ]
  },
  {
   "cell_type": "markdown",
   "id": "4d74e364",
   "metadata": {
    "papermill": {},
    "tags": []
   },
   "source": [
    "## Output"
   ]
  },
  {
   "cell_type": "markdown",
   "id": "7045ed03",
   "metadata": {
    "papermill": {},
    "tags": []
   },
   "source": [
    "### Display result"
   ]
  },
  {
   "cell_type": "code",
   "execution_count": 3,
   "id": "9034adb0",
   "metadata": {
    "execution": {
     "iopub.execute_input": "2022-03-03T18:04:04.557983Z",
     "iopub.status.busy": "2022-03-03T18:04:04.557648Z",
     "iopub.status.idle": "2022-03-03T18:04:04.604588Z",
     "shell.execute_reply": "2022-03-03T18:04:04.603947Z",
     "shell.execute_reply.started": "2022-03-03T18:04:04.557950Z"
    },
    "papermill": {},
    "tags": []
   },
   "outputs": [],
   "source": [
    "df_categories"
   ]
  }
 ],
 "metadata": {
  "kernelspec": {
   "display_name": "Python 3",
   "language": "python",
   "name": "python3"
  },
  "language_info": {
   "codemirror_mode": {
    "name": "ipython",
    "version": 3
   },
   "file_extension": ".py",
   "mimetype": "text/x-python",
   "name": "python",
   "nbconvert_exporter": "python",
   "pygments_lexer": "ipython3",
   "version": "3.8.8"
  },
  "naas": {
   "notebook_id": "a2612205-cd5b-4755-a9b5-365eecf499da",
   "notebook_path": "Remotive/Remotive_Get_categories_from_job.ipynb"
  },
  "papermill": {
   "default_parameters": {},
   "environment_variables": {},
   "parameters": {},
   "version": "2.3.4"
  }
 },
 "nbformat": 4,
 "nbformat_minor": 5
}