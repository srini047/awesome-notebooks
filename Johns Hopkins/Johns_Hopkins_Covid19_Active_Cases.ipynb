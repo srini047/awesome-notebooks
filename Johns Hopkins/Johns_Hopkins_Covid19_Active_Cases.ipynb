{
 "cells": [
  {
   "cell_type": "markdown",
   "id": "related-ridge",
   "metadata": {
    "execution": {
     "iopub.execute_input": "2021-05-27T14:59:05.872377Z",
     "iopub.status.busy": "2021-05-27T14:59:05.872085Z",
     "iopub.status.idle": "2021-05-27T14:59:05.882631Z",
     "shell.execute_reply": "2021-05-27T14:59:05.881698Z",
     "shell.execute_reply.started": "2021-05-27T14:59:05.872345Z"
    },
    "papermill": {},
    "tags": []
   },
   "source": [
    "<img width=\"10%\" alt=\"Naas\" src=\"https://landen.imgix.net/jtci2pxwjczr/assets/5ice39g4.png?w=160\"/>"
   ]
  },
  {
   "cell_type": "markdown",
   "id": "perceived-radar",
   "metadata": {
    "papermill": {},
    "tags": []
   },
   "source": [
    "# Johns Hopkins - Covid19 Active Cases\n",
    "<a href=\"https://app.naas.ai/user-redirect/naas/downloader?url=https://raw.githubusercontent.com/jupyter-naas/awesome-notebooks/master/Johns%20Hopkins/Johns_Hopkins_Covid19_Active_Cases.ipynb\" target=\"_parent\"><img src=\"https://naasai-public.s3.eu-west-3.amazonaws.com/open_in_naas.svg\"/></a><br><br><a href=\"https://github.com/jupyter-naas/awesome-notebooks/issues/new?assignees=&labels=&template=template-request.md&title=Tool+-+Action+of+the+notebook+\">Template request</a> | <a href=\"https://github.com/jupyter-naas/awesome-notebooks/issues/new?assignees=&labels=bug&template=bug_report.md&title=Johns+Hopkins+-+Covid19+Active+Cases:+Error+short+description\">Bug report</a>"
   ]
  },
  {
   "cell_type": "markdown",
   "id": "577d72ee-aace-4dc6-b2de-01fc9b5646e8",
   "metadata": {
    "papermill": {},
    "tags": []
   },
   "source": [
    "**Tags:** #johnshopkins #opendata #analytics #plotly"
   ]
  },
  {
   "cell_type": "markdown",
   "id": "naas-author",
   "metadata": {
    "papermill": {},
    "tags": [
     "naas"
    ]
   },
   "source": [
    "**Author:** [Jeremy Ravenel](https://www.linkedin.com/in/ACoAAAJHE7sB5OxuKHuzguZ9L6lfDHqw--cdnJg/)"
   ]
  },
  {
   "cell_type": "markdown",
   "id": "naas-description",
   "metadata": {
    "papermill": {},
    "tags": [
     "description"
    ]
   },
   "source": [
    "**Description:** This notebook provides an interactive visualization of the active cases of Covid-19 reported by Johns Hopkins University."
   ]
  },
  {
   "cell_type": "markdown",
   "id": "seven-valentine",
   "metadata": {
    "papermill": {},
    "tags": []
   },
   "source": [
    "## Input"
   ]
  },
  {
   "cell_type": "markdown",
   "id": "import_cell",
   "metadata": {
    "papermill": {},
    "tags": []
   },
   "source": [
    "### Import libraries"
   ]
  },
  {
   "cell_type": "code",
   "execution_count": null,
   "id": "french-decimal",
   "metadata": {
    "papermill": {},
    "tags": []
   },
   "outputs": [],
   "source": [
    "import pandas as pd\n",
    "import plotly.express as px\n",
    "import plotly.graph_objects as go\n",
    "import matplotlib.pyplot as plt"
   ]
  },
  {
   "cell_type": "markdown",
   "id": "853ddd3e-42be-45c6-9bf3-b0e26a82698e",
   "metadata": {
    "papermill": {},
    "tags": []
   },
   "source": [
    "### Variables"
   ]
  },
  {
   "cell_type": "code",
   "execution_count": null,
   "id": "swiss-toyota",
   "metadata": {
    "papermill": {},
    "tags": []
   },
   "outputs": [],
   "source": [
    "# URLs of the raw csv dataset\n",
    "urls = [\n",
    "    \"https://raw.githubusercontent.com/CSSEGISandData/COVID-19/master/csse_covid_19_data/csse_covid_19_time_series/time_series_covid19_confirmed_global.csv\",\n",
    "    \"https://raw.githubusercontent.com/CSSEGISandData/COVID-19/master/csse_covid_19_data/csse_covid_19_time_series/time_series_covid19_deaths_global.csv\",\n",
    "    \"https://raw.githubusercontent.com/CSSEGISandData/COVID-19/master/csse_covid_19_data/csse_covid_19_time_series/time_series_covid19_recovered_global.csv\",\n",
    "]\n",
    "\n",
    "confirmed_df, deaths_df, recovered_df = tuple(pd.read_csv(url) for url in urls)"
   ]
  },
  {
   "cell_type": "markdown",
   "id": "measured-jaguar",
   "metadata": {
    "papermill": {},
    "tags": []
   },
   "source": [
    "## Model\n",
    "Mostly adopted from this [COVID19 Data Processing Tutorial](https://towardsdatascience.com/covid-19-data-processing-58aaa3663f6)\n",
    "\n",
    "Clean the dataset to show the cases by country\n",
    "\n",
    "Steps:\n",
    "\n",
    "1. Convert from Wide to Long Dataframe (Convert all datetimes to a single column)\n",
    "\n",
    "2. Merge/Join the Confirmed, Deaths and Recovered tables into a single table\n",
    "\n",
    "3. Converting Date from string to datetime\n",
    "\n",
    "4. Replacing missing values/NaNs\n",
    "5. Coronavirus cases reported from 3 cruise ships should be treated differently and adjustments need to be made for Canada (deciding to drop Canada due to missing recovery data)\n",
    "\n",
    "6. Get Active Cases = Confirmed - Deaths - Recovered\n"
   ]
  },
  {
   "cell_type": "code",
   "execution_count": null,
   "id": "tracked-conspiracy",
   "metadata": {
    "papermill": {},
    "tags": []
   },
   "outputs": [],
   "source": [
    "# Wide to Long DataFrame conversion\n",
    "dates = confirmed_df.columns[4:]\n",
    "confirmed_df_long = confirmed_df.melt(\n",
    "    id_vars=[\"Province/State\", \"Country/Region\", \"Lat\", \"Long\"],\n",
    "    value_vars=dates,\n",
    "    var_name=\"Date\",\n",
    "    value_name=\"Confirmed\",\n",
    ")\n",
    "deaths_df_long = deaths_df.melt(\n",
    "    id_vars=[\"Province/State\", \"Country/Region\", \"Lat\", \"Long\"],\n",
    "    value_vars=dates,\n",
    "    var_name=\"Date\",\n",
    "    value_name=\"Deaths\",\n",
    ")\n",
    "recovered_df_long = recovered_df.melt(\n",
    "    id_vars=[\"Province/State\", \"Country/Region\", \"Lat\", \"Long\"],\n",
    "    value_vars=dates,\n",
    "    var_name=\"Date\",\n",
    "    value_name=\"Recovered\",\n",
    ")\n",
    "\n",
    "# Adjust for Canada\n",
    "recovered_df_long = recovered_df_long[(recovered_df_long[\"Country/Region\"] != \"Canada\")]"
   ]
  },
  {
   "cell_type": "code",
   "execution_count": null,
   "id": "sized-indication",
   "metadata": {
    "papermill": {},
    "tags": []
   },
   "outputs": [],
   "source": [
    "# Join into one single dataframe/table\n",
    "# Merging confirmed_df_long and deaths_df_long\n",
    "full_table = confirmed_df_long.merge(\n",
    "    right=deaths_df_long,\n",
    "    how=\"left\",\n",
    "    on=[\"Province/State\", \"Country/Region\", \"Date\", \"Lat\", \"Long\"],\n",
    ")\n",
    "# Merging full_table and recovered_df_long\n",
    "full_table = full_table.merge(\n",
    "    right=recovered_df_long,\n",
    "    how=\"left\",\n",
    "    on=[\"Province/State\", \"Country/Region\", \"Date\", \"Lat\", \"Long\"],\n",
    ")\n",
    "\n",
    "# Convert date strings to actual dates\n",
    "full_table[\"Date\"] = pd.to_datetime(full_table[\"Date\"])\n",
    "# Handle some missing values / NaNs\n",
    "full_table[\"Recovered\"] = full_table[\"Recovered\"].fillna(0).astype(\"int64\")"
   ]
  },
  {
   "cell_type": "code",
   "execution_count": null,
   "id": "foreign-thousand",
   "metadata": {
    "papermill": {},
    "tags": []
   },
   "outputs": [],
   "source": [
    "full_table.isna().sum()\n",
    "# full_table.dtypes"
   ]
  },
  {
   "cell_type": "code",
   "execution_count": null,
   "id": "legislative-august",
   "metadata": {
    "papermill": {},
    "tags": []
   },
   "outputs": [],
   "source": [
    "# Adjust for Canada and 3 cruise ships\n",
    "ship_rows = (\n",
    "    full_table[\"Province/State\"].str.contains(\"Grand Princess\")\n",
    "    | full_table[\"Province/State\"].str.contains(\"Diamond Princess\")\n",
    "    | full_table[\"Country/Region\"].str.contains(\"Diamond Princess\")\n",
    "    | full_table[\"Country/Region\"].str.contains(\"MS Zaandam\")\n",
    ")\n",
    "full_ship = full_table[ship_rows]\n",
    "full_table = full_table[~(ship_rows)]\n",
    "\n",
    "# Add one more entry for each day to get the entire world's counts/totals\n",
    "world_dict = {\n",
    "    \"Country/Region\": \"World\",\n",
    "    \"Confirmed\": pd.Series(full_table.groupby([\"Date\"])[\"Confirmed\"].sum()),\n",
    "    \"Deaths\": pd.Series(full_table.groupby([\"Date\"])[\"Deaths\"].sum()),\n",
    "    \"Recovered\": pd.Series(full_table.groupby([\"Date\"])[\"Recovered\"].sum()),\n",
    "}\n",
    "world_df = pd.DataFrame.from_dict(world_dict).reset_index()\n",
    "print(world_df.columns)\n",
    "full_table = pd.concat([full_table, world_df], ignore_index=True)"
   ]
  },
  {
   "cell_type": "code",
   "execution_count": null,
   "id": "laughing-tours",
   "metadata": {
    "papermill": {},
    "tags": []
   },
   "outputs": [],
   "source": [
    "# Active Cases = Confirmed - Deaths - Recovered\n",
    "full_table[\"Active\"] = (\n",
    "    full_table[\"Confirmed\"] - full_table[\"Deaths\"] - full_table[\"Recovered\"]\n",
    ")\n",
    "\n",
    "full_grouped = (\n",
    "    full_table.groupby([\"Date\", \"Country/Region\"])[\n",
    "        \"Confirmed\", \"Deaths\", \"Recovered\", \"Active\"\n",
    "    ]\n",
    "    .sum()\n",
    "    .reset_index()\n",
    ")"
   ]
  },
  {
   "cell_type": "code",
   "execution_count": null,
   "id": "reserved-second",
   "metadata": {
    "papermill": {},
    "tags": []
   },
   "outputs": [],
   "source": [
    "len(full_grouped[\"Country/Region\"].unique())"
   ]
  },
  {
   "cell_type": "markdown",
   "id": "swiss-journalist",
   "metadata": {
    "papermill": {},
    "tags": []
   },
   "source": [
    "### Interactive Dropdown Visualization for Active Cases by Country\n",
    "First, need to go back from long to wide for a format suited to the visualization using `df.pivot()`\n",
    "\n",
    "Mostly adopted from this [Interactive Dropdown Tutorial](https://towardsdatascience.com/how-to-create-an-interactive-dropdown-in-jupyter-322277f58a68)"
   ]
  },
  {
   "cell_type": "code",
   "execution_count": null,
   "id": "thrown-michigan",
   "metadata": {
    "papermill": {},
    "tags": []
   },
   "outputs": [],
   "source": [
    "# Go back from long to wide for viz purposes\n",
    "df = full_grouped\n",
    "df.rename(columns={\"Country/Region\": \"Country\"}, inplace=True)\n",
    "df_confirmed = df[[\"Date\", \"Country\", \"Confirmed\"]]\n",
    "df_deaths = df[[\"Date\", \"Country\", \"Deaths\"]]\n",
    "df_active = df[[\"Date\", \"Country\", \"Active\"]]\n",
    "df_recovered = df[[\"Date\", \"Country\", \"Recovered\"]]\n",
    "\n",
    "df_confirmed = df_confirmed.pivot(index=\"Date\", columns=\"Country\", values=\"Confirmed\")\n",
    "df_deaths = df_deaths.pivot(index=\"Date\", columns=\"Country\", values=\"Deaths\")\n",
    "df_recovered = df_recovered.pivot(index=\"Date\", columns=\"Country\", values=\"Recovered\")\n",
    "df_active = df_active.pivot(index=\"Date\", columns=\"Country\", values=\"Active\")"
   ]
  },
  {
   "cell_type": "code",
   "execution_count": null,
   "id": "violent-might",
   "metadata": {
    "papermill": {},
    "tags": []
   },
   "outputs": [],
   "source": [
    "def create_layout_button(df, column):\n",
    "    first, latest = df.index.values[0], df.index.values[-1]\n",
    "    return dict(\n",
    "        label=column,\n",
    "        method=\"update\",\n",
    "        args=[\n",
    "            {\n",
    "                \"visible\": df.columns.isin([column]),\n",
    "                \"title\": column,\n",
    "                \"xaxis.range\": [first, latest],\n",
    "                \"showlegend\": True,\n",
    "            }\n",
    "        ],\n",
    "    )\n",
    "\n",
    "\n",
    "def multi_plot(df, title, addAll=True):\n",
    "    first, latest = df.index.values[0], df.index.values[-1]\n",
    "    fig = go.Figure()\n",
    "\n",
    "    for column in df.columns.to_list():\n",
    "        fig.add_trace(go.Scatter(x=df.index, y=df[column], name=column))\n",
    "\n",
    "    button_all = dict(\n",
    "        label=\"All\",\n",
    "        method=\"update\",\n",
    "        args=[\n",
    "            {\n",
    "                \"visible\": df.columns.isin(df.columns),\n",
    "                \"title\": \"All\",\n",
    "                \"xaxis.range\": [first, latest],\n",
    "                \"showlegend\": True,\n",
    "            }\n",
    "        ],\n",
    "    )\n",
    "\n",
    "    # Need \"World\" to be the default choice if \"All\" is not shown\n",
    "    button_world = create_layout_button(df, \"World\")\n",
    "\n",
    "    fig.update_layout(\n",
    "        updatemenus=[\n",
    "            {\n",
    "                \"active\": 0,\n",
    "                \"buttons\": ([button_all] * addAll)\n",
    "                + [button_world]\n",
    "                + [\n",
    "                    create_layout_button(df, column)\n",
    "                    for column in df.columns\n",
    "                    if column != \"World\"\n",
    "                ],\n",
    "                \"showactive\": True,\n",
    "            }\n",
    "        ],\n",
    "        yaxis_type=\"log\",\n",
    "    )\n",
    "\n",
    "    # Update remaining layout properties\n",
    "    fig.update_layout(\n",
    "        title_text=title,\n",
    "        #         annotations=[dict(\n",
    "        #             text=\"Country:\",\n",
    "        #             x=0, y=0\n",
    "        #         )]\n",
    "    )\n",
    "\n",
    "    fig.show()"
   ]
  },
  {
   "cell_type": "code",
   "execution_count": null,
   "id": "upset-meaning",
   "metadata": {
    "papermill": {},
    "tags": []
   },
   "outputs": [],
   "source": [
    "# test_df_active = df_active.swapaxes(\"index\", \"columns\")\n",
    "test_df_active = df_active\n",
    "latest = test_df_active.index.values[-1]\n",
    "print(latest)\n",
    "test_df_active = test_df_active.T.sort_values(by=latest, ascending=False).head(11).T\n",
    "test_df_active"
   ]
  },
  {
   "cell_type": "markdown",
   "id": "interim-return",
   "metadata": {
    "papermill": {},
    "tags": []
   },
   "source": [
    "## Output"
   ]
  },
  {
   "cell_type": "markdown",
   "id": "assumed-drinking",
   "metadata": {
    "papermill": {},
    "tags": []
   },
   "source": [
    "### Logarithmic COVID-19 time series"
   ]
  },
  {
   "cell_type": "code",
   "execution_count": null,
   "id": "exempt-underground",
   "metadata": {
    "papermill": {},
    "tags": []
   },
   "outputs": [],
   "source": [
    "multi_plot(\n",
    "    test_df_active,\n",
    "    title=\"Logarithmic COVID-19 time series Active Cases by Country (Top 10)\",\n",
    ")"
   ]
  },
  {
   "cell_type": "code",
   "execution_count": null,
   "id": "marked-locator",
   "metadata": {
    "papermill": {},
    "tags": []
   },
   "outputs": [],
   "source": [
    "multi_plot(\n",
    "    df_active,\n",
    "    title=\"Logarithmic COVID-19 time series Active Cases by Country\",\n",
    "    addAll=False,\n",
    ")"
   ]
  },
  {
   "cell_type": "markdown",
   "id": "collect-insured",
   "metadata": {
    "papermill": {},
    "tags": []
   },
   "source": [
    "### World Health Indicator (WHI)\n",
    "Using a scale of **0 - 10** and rescaling the number of Active Cases / Confirmed Cases on the entire World's Data\n",
    "\n",
    "(where 0 is the worst and 10 is the best)\n",
    "\n",
    "<!-- \\begin{equation*}\n",
    "WHI = 10 - 10 \\times \\frac{\\text{Current Monthly average} - Min(\\text{Monthly  average})}{Max(\\text{Monthly average}) - Min(\\text{Monthly average})}\n",
    "\\end{equation*}\n",
    " -->\n",
    " \n",
    " \\begin{equation*}\n",
    "WHI = 10 - 10 \\times \\frac{Current - Min}{Max - Min}\n",
    "\\end{equation*}\n",
    "\n",
    " \n",
    "(Using **Linear Scaling** for now, will discuss and develop a better scaling mechanism if required)"
   ]
  },
  {
   "cell_type": "code",
   "execution_count": null,
   "id": "close-drive",
   "metadata": {
    "papermill": {},
    "tags": []
   },
   "outputs": [],
   "source": [
    "# Uncomment to get a 30 day Moving Average Statistics and a health indicator based on that\n",
    "\n",
    "# df_active[\"MonthlyAverage\"] = df_active[\"World\"].rolling('30D').mean().astype('int64')\n",
    "# curr_30d = df_active.loc[latest, \"MonthlyAverage\"]\n",
    "# max_30d = df_active[\"MonthlyAverage\"].max()\n",
    "# min_30d = df_active[\"MonthlyAverage\"].min()\n",
    "# WHI_30d = 10 - 10 * ((curr_30d - min_30d) / (max_30d - min_30d))\n",
    "# print(f\"World Health Indicator (30 day Moving Average): {round(WHI_30d, 2)}\")"
   ]
  },
  {
   "cell_type": "code",
   "execution_count": null,
   "id": "official-tomorrow",
   "metadata": {
    "papermill": {},
    "tags": []
   },
   "outputs": [],
   "source": [
    "WHI = 10 - 10 * (\n",
    "    (df_active.loc[latest, \"World\"] - df_active[\"World\"].min())\n",
    "    / (df_active[\"World\"].max() - df_active[\"World\"].min())\n",
    ")\n",
    "\n",
    "print(f\"World Health Indicator (Raw values): {round(WHI, 2)}\")\n",
    "WHI_data = pd.DataFrame.from_dict(\n",
    "    {\n",
    "        \"DATE_PROCESSED\": pd.to_datetime(\"today\").date(),\n",
    "        \"INDICATOR\": \"COVID-19 Active Cases\",\n",
    "        \"VALUE\": [round(WHI, 2)],\n",
    "    }\n",
    ")\n",
    "WHI_data"
   ]
  }
 ],
 "metadata": {
  "kernelspec": {
   "display_name": "Python 3",
   "language": "python",
   "name": "python3"
  },
  "language_info": {
   "codemirror_mode": {
    "name": "ipython",
    "version": 3
   },
   "file_extension": ".py",
   "mimetype": "text/x-python",
   "name": "python",
   "nbconvert_exporter": "python",
   "pygments_lexer": "ipython3",
   "version": "3.9.6"
  },
  "metadata": {
   "interpreter": {
    "hash": "aee8b7b246df8f9039afb4144a1f6fd8d2ca17a180786b69acc140d282b71a49"
   }
  },
  "naas": {
   "notebook_id": "b0a70331-d353-4cdf-b781-068c44f6ad46",
   "notebook_path": "Johns Hopkins/Johns_Hopkins_Covid19_Active_Cases.ipynb"
  },
  "papermill": {
   "default_parameters": {},
   "environment_variables": {},
   "parameters": {},
   "version": "2.3.3"
  },
  "toc-autonumbering": false,
  "toc-showcode": false,
  "toc-showmarkdowntxt": false,
  "widgets": {
   "application/vnd.jupyter.widget-state+json": {
    "state": {},
    "version_major": 2,
    "version_minor": 0
   }
  }
 },
 "nbformat": 4,
 "nbformat_minor": 5
}