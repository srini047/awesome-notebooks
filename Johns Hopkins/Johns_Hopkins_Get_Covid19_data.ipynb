{
 "cells": [
  {
   "cell_type": "markdown",
   "id": "7f7761b9-ec41-4696-95e8-9a1cd8717087",
   "metadata": {
    "papermill": {},
    "tags": []
   },
   "source": [
    "<img width=\"10%\" alt=\"Naas\" src=\"https://landen.imgix.net/jtci2pxwjczr/assets/5ice39g4.png?w=160\"/>"
   ]
  },
  {
   "cell_type": "markdown",
   "id": "0aa34cd8-e74a-4268-93ae-2b946530cf11",
   "metadata": {
    "papermill": {},
    "tags": []
   },
   "source": [
    "# Johns Hopkins - Get Covid19 data\n",
    "<a href=\"https://app.naas.ai/user-redirect/naas/downloader?url=https://raw.githubusercontent.com/jupyter-naas/awesome-notebooks/master/Johns%20Hopkins/Johns_Hopkins_Get_Covid19_data.ipynb\" target=\"_parent\"><img src=\"https://naasai-public.s3.eu-west-3.amazonaws.com/Open_in_Naas_Lab.svg\"/></a><br><br><a href=\"https://github.com/jupyter-naas/awesome-notebooks/issues/new?assignees=&labels=&template=template-request.md&title=Tool+-+Action+of+the+notebook+\">Template request</a> | <a href=\"https://github.com/jupyter-naas/awesome-notebooks/issues/new?assignees=&labels=bug&template=bug_report.md&title=Johns+Hopkins+-+Get+Covid19+data:+Error+short+description\">Bug report</a> | <a href=\"https://app.naas.ai/user-redirect/naas/downloader?url=https://raw.githubusercontent.com/jupyter-naas/awesome-notebooks/master/Naas/Naas_Start_data_product.ipynb\" target=\"_parent\">Generate Data Product</a>"
   ]
  },
  {
   "cell_type": "markdown",
   "id": "fee27b4d-9078-44b7-8e7f-29945f80aeaa",
   "metadata": {
    "papermill": {},
    "tags": []
   },
   "source": [
    "**Tags:** #johnshopkins #opendata #analytics #csv"
   ]
  },
  {
   "cell_type": "markdown",
   "id": "52bc33ca-8c07-43c1-8505-bccd87d6ddf5",
   "metadata": {
    "papermill": {},
    "tags": []
   },
   "source": [
    "**Author:** [Florent Ravenel](https://www.linkedin.com/in/ACoAABCNSioBW3YZHc2lBHVG0E_TXYWitQkmwog/)"
   ]
  },
  {
   "cell_type": "markdown",
   "id": "naas-description",
   "metadata": {
    "papermill": {},
    "tags": [
     "description"
    ]
   },
   "source": [
    "**Description:** This notebook provides an easy way to access and analyze Covid19 data from Johns Hopkins University."
   ]
  },
  {
   "cell_type": "markdown",
   "id": "8736e5dc-a856-4b15-8be1-caf2c85ad70b",
   "metadata": {
    "papermill": {},
    "tags": []
   },
   "source": [
    "## Input"
   ]
  },
  {
   "cell_type": "markdown",
   "id": "c38f24ce-23bb-422b-8069-205f89b274f6",
   "metadata": {
    "papermill": {},
    "tags": []
   },
   "source": [
    "### Import libraries"
   ]
  },
  {
   "cell_type": "code",
   "execution_count": null,
   "id": "5a6f9854-1928-4e33-9103-ea3d3dab8b79",
   "metadata": {
    "papermill": {},
    "tags": []
   },
   "outputs": [],
   "source": [
    "import pandas as pd\n",
    "import naas"
   ]
  },
  {
   "cell_type": "markdown",
   "id": "2d5895d2-7405-4fb7-9f1f-937636a6be25",
   "metadata": {
    "papermill": {},
    "tags": []
   },
   "source": [
    "### Variables"
   ]
  },
  {
   "cell_type": "code",
   "execution_count": null,
   "id": "7ea457bf-bab3-406e-9c74-145d5b774e2d",
   "metadata": {
    "papermill": {},
    "tags": []
   },
   "outputs": [],
   "source": [
    "# Input URLs of the raw csv dataset\n",
    "urls = [\n",
    "    \"https://raw.githubusercontent.com/CSSEGISandData/COVID-19/master/csse_covid_19_data/csse_covid_19_time_series/time_series_covid19_confirmed_global.csv\",\n",
    "    \"https://raw.githubusercontent.com/CSSEGISandData/COVID-19/master/csse_covid_19_data/csse_covid_19_time_series/time_series_covid19_deaths_global.csv\",\n",
    "    \"https://raw.githubusercontent.com/CSSEGISandData/COVID-19/master/csse_covid_19_data/csse_covid_19_time_series/time_series_covid19_recovered_global.csv\",\n",
    "]\n",
    "\n",
    "# Output paths\n",
    "title = \"DB_COVID19_JHU\"\n",
    "output_csv = f\"{title}.csv\""
   ]
  },
  {
   "cell_type": "markdown",
   "id": "89d848e4-b60d-4ab2-a16e-627e83670e8a",
   "metadata": {
    "papermill": {},
    "tags": []
   },
   "source": [
    "## Model"
   ]
  },
  {
   "cell_type": "markdown",
   "id": "ef003330-884d-4ab6-bbf6-f49b5c939e51",
   "metadata": {
    "papermill": {},
    "tags": []
   },
   "source": [
    "### Get data from JHU"
   ]
  },
  {
   "cell_type": "code",
   "execution_count": null,
   "id": "1b99d903-6e41-4f8f-ad81-3dcae9122b50",
   "metadata": {
    "papermill": {},
    "tags": []
   },
   "outputs": [],
   "source": [
    "def get_data_url(urls):\n",
    "    df = pd.DataFrame()\n",
    "    for url in urls:\n",
    "        tmp_df = pd.read_csv(url)\n",
    "        tmp_df[\"Indicator\"] = (\n",
    "            url.split(\"/time_series_covid19_\")[-1].split(\"_global.csv\")[0].capitalize()\n",
    "        )\n",
    "        df = pd.concat([df, tmp_df])\n",
    "    return df\n",
    "\n",
    "\n",
    "df_init = get_data_url(urls)\n",
    "df_init"
   ]
  },
  {
   "cell_type": "markdown",
   "id": "a871a9ba-bb9a-44d9-b138-b80e71f02a59",
   "metadata": {
    "papermill": {},
    "tags": []
   },
   "source": [
    "### Get all data from JHU"
   ]
  },
  {
   "cell_type": "code",
   "execution_count": null,
   "id": "cb280fa4-2758-4ddb-b217-6cc233a3ed68",
   "metadata": {
    "papermill": {},
    "tags": []
   },
   "outputs": [],
   "source": [
    "def get_all_data(df_init):\n",
    "    df = df_init.copy()\n",
    "    # Cleaning\n",
    "    df = df.drop(\"Province/State\", axis=1)\n",
    "\n",
    "    # Melt data\n",
    "    df = pd.melt(\n",
    "        df,\n",
    "        id_vars=[\"Country/Region\", \"Lat\", \"Long\", \"Indicator\"],\n",
    "        var_name=\"Date\",\n",
    "        value_name=\"Value\",\n",
    "    ).fillna(0)\n",
    "    df[\"Date\"] = pd.to_datetime(df[\"Date\"])\n",
    "\n",
    "    # Calc active cases\n",
    "    df_active = df.copy()\n",
    "    df_active.loc[\n",
    "        df_active[\"Indicator\"].isin([\"Deaths\", \"Recovered\"]), \"Value\"\n",
    "    ] = df_active[\"Value\"] * (-1)\n",
    "    df_active[\"Indicator\"] = \"Active cases\"\n",
    "\n",
    "    # Concat data\n",
    "    df = pd.concat([df, df_active])\n",
    "\n",
    "    # Group by country/region\n",
    "    to_group = [\"Country/Region\", \"Lat\", \"Long\", \"Indicator\", \"Date\"]\n",
    "    df = df.groupby(to_group, as_index=False).agg({\"Value\": \"sum\"})\n",
    "\n",
    "    # Cleaning\n",
    "    df = df.rename(columns={\"Country/Region\": \"COUNTRY\"})\n",
    "    df.columns = df.columns.str.upper()\n",
    "    return df.reset_index(drop=True)\n",
    "\n",
    "\n",
    "df_clean = get_all_data(df_init)\n",
    "df_clean"
   ]
  },
  {
   "cell_type": "markdown",
   "id": "974df13c-9781-45f1-9b1e-7c9a4faa0f02",
   "metadata": {
    "papermill": {},
    "tags": []
   },
   "source": [
    "## Output"
   ]
  },
  {
   "cell_type": "markdown",
   "id": "2e48fdf3-dc6d-4023-84b8-7e801880a630",
   "metadata": {
    "papermill": {},
    "tags": []
   },
   "source": [
    "### Save dataframe in csv"
   ]
  },
  {
   "cell_type": "code",
   "execution_count": null,
   "id": "0f4423e1-59cf-4355-a52f-ebd521914536",
   "metadata": {
    "papermill": {},
    "tags": []
   },
   "outputs": [],
   "source": [
    "df_clean.to_csv(output_csv, index=False)"
   ]
  }
 ],
 "metadata": {
  "kernelspec": {
   "display_name": "Python 3",
   "language": "python",
   "name": "python3"
  },
  "language_info": {
   "codemirror_mode": {
    "name": "ipython",
    "version": 3
   },
   "file_extension": ".py",
   "mimetype": "text/x-python",
   "name": "python",
   "nbconvert_exporter": "python",
   "pygments_lexer": "ipython3",
   "version": "3.9.6"
  },
  "naas": {
   "notebook_id": "d8d061ddd919705d7ea10dbff535f312aa8690112a7689c30b77706e9b482a93",
   "notebook_path": "Johns Hopkins/Johns_Hopkins_Get_Covid19_data.ipynb"
  },
  "papermill": {
   "default_parameters": {},
   "environment_variables": {},
   "parameters": {},
   "version": "2.3.3"
  }
 },
 "nbformat": 4,
 "nbformat_minor": 5
}