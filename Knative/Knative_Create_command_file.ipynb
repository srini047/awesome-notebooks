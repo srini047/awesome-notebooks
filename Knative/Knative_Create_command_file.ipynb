{
 "cells": [
  {
   "cell_type": "markdown",
   "id": "7fb8d617-04a4-4d3c-becd-136812214d7c",
   "metadata": {
    "papermill": {},
    "tags": []
   },
   "source": [
    "<img width=\"10%\" alt=\"Naas\" src=\"https://landen.imgix.net/jtci2pxwjczr/assets/5ice39g4.png?w=160\"/>"
   ]
  },
  {
   "cell_type": "markdown",
   "id": "1a6df994-6e5c-41f7-bebe-c08cafc35b00",
   "metadata": {
    "papermill": {},
    "tags": []
   },
   "source": [
    "# Knative - Create command file\n",
    "<a href=\"https://app.naas.ai/user-redirect/naas/downloader?url=https://raw.githubusercontent.com/jupyter-naas/awesome-notebooks/master/Knative/Knative_Create_command_file.ipynb\" target=\"_parent\"><img src=\"https://naasai-public.s3.eu-west-3.amazonaws.com/Open_in_Naas_Lab.svg\"/></a><br><br><a href=\"https://github.com/jupyter-naas/awesome-notebooks/issues/new?assignees=&labels=&template=template-request.md&title=Tool+-+Action+of+the+notebook+\">Template request</a> | <a href=\"https://github.com/jupyter-naas/awesome-notebooks/issues/new?assignees=&labels=bug&template=bug_report.md&title=Knative+-+Create+command+file:+Error+short+description\">Bug report</a> | <a href=\"https://app.naas.ai/user-redirect/naas/downloader?url=https://raw.githubusercontent.com/jupyter-naas/awesome-notebooks/master/Naas/Naas_Start_data_product.ipynb\" target=\"_parent\">Generate Data Product</a>"
   ]
  },
  {
   "cell_type": "markdown",
   "id": "4a62a576-ee0f-421d-9234-db209241a85f",
   "metadata": {
    "papermill": {},
    "tags": []
   },
   "source": [
    "**Tags:** #knative #operations #dashboards #dash #snippet"
   ]
  },
  {
   "cell_type": "markdown",
   "id": "254d2113-ff5c-433f-94b4-8dc9283e6eaf",
   "metadata": {
    "papermill": {},
    "tags": []
   },
   "source": [
    "**Author:** [Florent Ravenel](https://www.linkedin.com/in/florent-ravenel/)"
   ]
  },
  {
   "cell_type": "markdown",
   "id": "naas-description",
   "metadata": {
    "papermill": {},
    "tags": [
     "description"
    ]
   },
   "source": [
    "**Description:** This notebook provides instructions on how to create a command file for Knative."
   ]
  },
  {
   "cell_type": "markdown",
   "id": "45f8efa4-6f30-4543-960b-8f24fc3b1768",
   "metadata": {
    "papermill": {},
    "tags": []
   },
   "source": [
    "## Input"
   ]
  },
  {
   "cell_type": "markdown",
   "id": "14289b3d-7a45-40bc-bf36-a2fe4378b5af",
   "metadata": {
    "papermill": {},
    "tags": []
   },
   "source": [
    "### Setup Variables"
   ]
  },
  {
   "cell_type": "code",
   "execution_count": null,
   "id": "9c66ca61-dc6e-4472-bd2b-34d47a429283",
   "metadata": {
    "papermill": {},
    "tags": []
   },
   "outputs": [],
   "source": [
    "file_output = \"knative_deploy.txt\"\n",
    "endpoint = \"search\"\n",
    "github_projet = \"https://github.com/jupyter-naas/naas-search-insights.git\"\n",
    "dash_notebook = \"Dash_Create_Search.ipynb\""
   ]
  },
  {
   "cell_type": "markdown",
   "id": "c69e1add-859c-4494-8306-45f530d9a9ae",
   "metadata": {
    "papermill": {},
    "tags": []
   },
   "source": [
    "## Model"
   ]
  },
  {
   "cell_type": "markdown",
   "id": "5623ac45-4424-4363-b59f-068e961840c5",
   "metadata": {
    "papermill": {},
    "tags": []
   },
   "source": [
    "### Create dynamic variables"
   ]
  },
  {
   "cell_type": "code",
   "execution_count": null,
   "id": "90ca5363-dee9-4a68-b9ec-d368986563d0",
   "metadata": {
    "papermill": {},
    "tags": []
   },
   "outputs": [],
   "source": [
    "repos_name = github_projet.split(\"/\")[-1].replace(\".git\", \"\")\n",
    "dash_notebook_out = dash_notebook.replace(\".ipynb\", \".out.ipynb\")"
   ]
  },
  {
   "cell_type": "markdown",
   "id": "bc10dd5b-ac94-4db1-b356-075cf0f0fa7c",
   "metadata": {
    "papermill": {},
    "tags": []
   },
   "source": [
    "### Write template"
   ]
  },
  {
   "cell_type": "code",
   "execution_count": null,
   "id": "406bb012-b896-45e2-8e8d-488d340aa5eb",
   "metadata": {
    "papermill": {},
    "tags": []
   },
   "outputs": [],
   "source": [
    "%%writefile $file_output\n",
    "kn service create [endpoint] \\\n",
    "    -n live \\\n",
    "    --port 8050 \\\n",
    "    --image jupyternaas/naas:latest \\\n",
    "    --scale-min 1 \\\n",
    "    --cmd /bin/bash \\\n",
    "    --cmd \"-c\" \\\n",
    "    --cmd \"echo hello && git clone [github_projet] && cd [repos_name] && pip install -r requirements.txt && pip install jupytext awswrangler dash dash_bootstrap_components && cd models && papermill -p KNATIVE True [dash_notebook] [dash_notebook_out]\""
   ]
  },
  {
   "cell_type": "markdown",
   "id": "6259d5da-b4b6-47bf-8523-0860c2d97722",
   "metadata": {
    "papermill": {},
    "tags": []
   },
   "source": [
    "### Replace values in template"
   ]
  },
  {
   "cell_type": "code",
   "execution_count": null,
   "id": "37f5a69b-940b-4bda-a73c-3e794aa975df",
   "metadata": {
    "papermill": {},
    "tags": []
   },
   "outputs": [],
   "source": [
    "content = open(file_output, \"r\").read()\n",
    "content = content.replace(\"[endpoint]\", endpoint)\n",
    "content = content.replace(\"[github_projet]\", github_projet)\n",
    "content = content.replace(\"[repos_name]\", repos_name)\n",
    "content = content.replace(\"[dash_notebook]\", dash_notebook)\n",
    "content = content.replace(\"[dash_notebook_out]\", dash_notebook_out)\n",
    "content"
   ]
  },
  {
   "cell_type": "markdown",
   "id": "cc36d705-63b2-4cad-9f68-4660ae018379",
   "metadata": {
    "papermill": {},
    "tags": []
   },
   "source": [
    "## Output"
   ]
  },
  {
   "cell_type": "markdown",
   "id": "53fc3559-976c-4fdc-ba7a-a584d5453838",
   "metadata": {
    "papermill": {},
    "tags": []
   },
   "source": [
    "### Write command in txt"
   ]
  },
  {
   "cell_type": "code",
   "execution_count": null,
   "id": "f2f6d61a-ec90-4c9d-b59e-eca8adf11940",
   "metadata": {
    "papermill": {},
    "tags": []
   },
   "outputs": [],
   "source": [
    "with open(file_output, \"w\") as f:\n",
    "    f.write(content)\n",
    "print(\"✅ Knative command file successfully created.\")"
   ]
  }
 ],
 "metadata": {
  "kernelspec": {
   "display_name": "Python 3",
   "language": "python",
   "name": "python3"
  },
  "language_info": {
   "codemirror_mode": {
    "name": "ipython",
    "version": 3
   },
   "file_extension": ".py",
   "mimetype": "text/x-python",
   "name": "python",
   "nbconvert_exporter": "python",
   "pygments_lexer": "ipython3",
   "version": "3.9.6"
  },
  "naas": {
   "notebook_id": "0c9df728db7a93e2a51b17382bce93ac3e3ac414dc2e0fffb72627a0863f4107",
   "notebook_path": "Knative/Knative_Create_command_file.ipynb"
  },
  "papermill": {
   "default_parameters": {},
   "environment_variables": {},
   "parameters": {},
   "version": "2.4.0"
  }
 },
 "nbformat": 4,
 "nbformat_minor": 5
}