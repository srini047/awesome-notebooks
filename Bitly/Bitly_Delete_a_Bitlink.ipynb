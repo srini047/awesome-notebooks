{
 "cells": [
  {
   "cell_type": "markdown",
   "id": "99b20a60-cc05-4fb8-bbcc-3aeaacc69f77",
   "metadata": {
    "papermill": {},
    "tags": []
   },
   "source": [
    "<img width=\"10%\" alt=\"Naas\" src=\"https://landen.imgix.net/jtci2pxwjczr/assets/5ice39g4.png?w=160\"/>"
   ]
  },
  {
   "cell_type": "markdown",
   "id": "ca1c404a-dfdf-401d-aea8-c6fe9768da1e",
   "metadata": {
    "papermill": {},
    "tags": []
   },
   "source": [
    "# Bitly - Delete a Bitlink\n",
    "<a href=\"https://app.naas.ai/user-redirect/naas/downloader?url=https://raw.githubusercontent.com/jupyter-naas/awesome-notebooks/master/Bitly/Bitly_Delete_a_Bitlink.ipynb\" target=\"_parent\"><img src=\"https://naasai-public.s3.eu-west-3.amazonaws.com/Open_in_Naas_Lab.svg\"/></a><br><br><a href=\"https://github.com/jupyter-naas/awesome-notebooks/issues/new?assignees=&labels=&template=template-request.md&title=Tool+-+Action+of+the+notebook+\">Template request</a> | <a href=\"https://github.com/jupyter-naas/awesome-notebooks/issues/new?assignees=&labels=bug&template=bug_report.md&title=Bitly+-+Delete+a+Bitlink:+Error+short+description\">Bug report</a> | <a href=\"https://app.naas.ai/user-redirect/naas/downloader?url=https://raw.githubusercontent.com/jupyter-naas/awesome-notebooks/master/Naas/Naas_Start_data_product.ipynb\" target=\"_parent\">Generate Data Product</a>"
   ]
  },
  {
   "cell_type": "markdown",
   "id": "0ee67e13-da50-4a92-a5cb-54dc930ce4e0",
   "metadata": {
    "papermill": {},
    "tags": []
   },
   "source": [
    "**Tags:** #bitly #api #delete #bitlink #hash #unedited"
   ]
  },
  {
   "cell_type": "markdown",
   "id": "88830990-9f26-47d7-92a1-104b51924942",
   "metadata": {
    "papermill": {},
    "tags": []
   },
   "source": [
    "**Author:** [Florent Ravenel](https://www.linkedin.com/in/florent-ravenel/)"
   ]
  },
  {
   "cell_type": "markdown",
   "id": "77c54322-f78c-45de-8183-cd7baf1b6cce",
   "metadata": {
    "papermill": {},
    "tags": []
   },
   "source": [
    "**Description:** This notebook will show how to delete an unedited hash Bitlink."
   ]
  },
  {
   "cell_type": "markdown",
   "id": "56e2bb18-baa6-4118-9f66-7ce365b6cba5",
   "metadata": {
    "papermill": {},
    "tags": []
   },
   "source": [
    "**References:**\n",
    "- [Bitly API Reference](https://dev.bitly.com/api-reference/#deleteBitlink)"
   ]
  },
  {
   "cell_type": "markdown",
   "id": "806a304e-407b-4bde-bfd3-34ac6f451ebf",
   "metadata": {
    "papermill": {},
    "tags": []
   },
   "source": [
    "## Input"
   ]
  },
  {
   "cell_type": "markdown",
   "id": "56bed0fc-7029-4f5b-8885-49c0b7342666",
   "metadata": {
    "papermill": {},
    "tags": []
   },
   "source": [
    "### Import libraries"
   ]
  },
  {
   "cell_type": "code",
   "execution_count": null,
   "id": "9e14c722-b345-44ef-ac86-f8b25831a692",
   "metadata": {
    "papermill": {},
    "tags": []
   },
   "outputs": [],
   "source": [
    "import requests"
   ]
  },
  {
   "cell_type": "markdown",
   "id": "486f4e82-6731-4a73-a733-64efd6563060",
   "metadata": {
    "papermill": {},
    "tags": []
   },
   "source": [
    "### Setup Variables\n",
    "- `token`: [Generate a Bitly Access Token](https://dev.bitly.com/get_started.html#step-2-generate-an-access-token)\n",
    "- `bitlink`: unedited hash Bitlink to delete"
   ]
  },
  {
   "cell_type": "code",
   "execution_count": null,
   "id": "f7c08c8d-f52f-486e-9e40-4800c8149f78",
   "metadata": {
    "papermill": {},
    "tags": []
   },
   "outputs": [],
   "source": [
    "token = \"<YOUR_TOKEN_HERE>\"\n",
    "bitlink = \"<YOUR_BITLINK_HERE>\""
   ]
  },
  {
   "cell_type": "markdown",
   "id": "e53db565-9f8e-4b5b-b3e6-6232cb1ea0c2",
   "metadata": {
    "papermill": {},
    "tags": []
   },
   "source": [
    "## Model"
   ]
  },
  {
   "cell_type": "markdown",
   "id": "bbb91eb1-3bec-495e-b32b-34741f3ef177",
   "metadata": {
    "papermill": {},
    "tags": []
   },
   "source": [
    "### Delete Bitlink"
   ]
  },
  {
   "cell_type": "markdown",
   "id": "3511b4ed-e629-49f9-a9fd-262955004f2f",
   "metadata": {
    "papermill": {},
    "tags": []
   },
   "source": [
    "This function will delete an unedited hash Bitlink."
   ]
  },
  {
   "cell_type": "code",
   "execution_count": null,
   "id": "95d3ea1e-a166-4674-984f-4afdf9026d14",
   "metadata": {
    "papermill": {},
    "tags": []
   },
   "outputs": [],
   "source": [
    "def delete_bitlink(token, bitlink):\n",
    "    url = f\"https://api-ssl.bitly.com/v4/bitlinks/{bitlink}\"\n",
    "    headers = {\"Authorization\": f\"Bearer {token}\"}\n",
    "    response = requests.delete(url, headers=headers)\n",
    "    return response"
   ]
  },
  {
   "cell_type": "markdown",
   "id": "afb3c28f-8212-4d4b-9aec-9385508a3bed",
   "metadata": {
    "papermill": {},
    "tags": []
   },
   "source": [
    "## Output"
   ]
  },
  {
   "cell_type": "markdown",
   "id": "d17d4e89-7452-4da6-9190-c5fcd9d8accc",
   "metadata": {
    "papermill": {},
    "tags": []
   },
   "source": [
    "### Display result"
   ]
  },
  {
   "cell_type": "code",
   "execution_count": null,
   "id": "ded404cc-7b1c-427f-8395-39ee5528f723",
   "metadata": {
    "papermill": {},
    "tags": []
   },
   "outputs": [],
   "source": [
    "response = delete_bitlink(token, bitlink)\n",
    "print(response.status_code)\n",
    "print(response.json())"
   ]
  },
  {
   "cell_type": "markdown",
   "id": "c7c4ec96-c44b-46a8-93c7-362f81736395",
   "metadata": {
    "papermill": {},
    "tags": []
   },
   "source": [
    " "
   ]
  }
 ],
 "metadata": {
  "kernelspec": {
   "display_name": "Python 3",
   "language": "python",
   "name": "python3"
  },
  "language_info": {
   "codemirror_mode": {
    "name": "ipython",
    "version": 3
   },
   "file_extension": ".py",
   "mimetype": "text/x-python",
   "name": "python",
   "nbconvert_exporter": "python",
   "pygments_lexer": "ipython3",
   "version": "3.9.6"
  },
  "naas": {
   "notebook_id": "cd555eb47a32680c309420899038ccaaf7d29a82018a807210599465b6a69fdd",
   "notebook_path": "Bitly/Bitly_Delete_a_Bitlink.ipynb"
  },
  "papermill": {
   "default_parameters": {},
   "environment_variables": {},
   "parameters": {},
   "version": "2.4.0"
  },
  "widgets": {
   "application/vnd.jupyter.widget-state+json": {
    "state": {},
    "version_major": 2,
    "version_minor": 0
   }
  }
 },
 "nbformat": 4,
 "nbformat_minor": 5
}