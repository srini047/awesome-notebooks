{
 "cells": [
  {
   "cell_type": "markdown",
   "id": "fc9ecf0b-59b9-4793-b5cb-6eb9ca39837c",
   "metadata": {
    "papermill": {},
    "tags": []
   },
   "source": [
    "<img width=\"10%\" alt=\"Naas\" src=\"https://landen.imgix.net/jtci2pxwjczr/assets/5ice39g4.png?w=160\"/>"
   ]
  },
  {
   "cell_type": "markdown",
   "id": "742c3f67-661f-4c70-82d1-c2cd48f738c7",
   "metadata": {
    "papermill": {},
    "tags": []
   },
   "source": [
    "# Bitly - Get Metrics for a Bitlink by Country\n",
    "<a href=\"https://app.naas.ai/user-redirect/naas/downloader?url=https://raw.githubusercontent.com/jupyter-naas/awesome-notebooks/master/Bitly/Bitly_Get_Metrics_for_a_Bitlink_by_Country.ipynb\" target=\"_parent\"><img src=\"https://naasai-public.s3.eu-west-3.amazonaws.com/Open_in_Naas_Lab.svg\"/></a><br><br><a href=\"https://github.com/jupyter-naas/awesome-notebooks/issues/new?assignees=&labels=&template=template-request.md&title=Tool+-+Action+of+the+notebook+\">Template request</a> | <a href=\"https://github.com/jupyter-naas/awesome-notebooks/issues/new?assignees=&labels=bug&template=bug_report.md&title=Bitly+-+Get+Metrics+for+a+Bitlink+by+Country:+Error+short+description\">Bug report</a> | <a href=\"https://app.naas.ai/user-redirect/naas/downloader?url=https://raw.githubusercontent.com/jupyter-naas/awesome-notebooks/master/Naas/Naas_Start_data_product.ipynb\" target=\"_parent\">Generate Data Product</a>"
   ]
  },
  {
   "cell_type": "markdown",
   "id": "40e0ad94-60e5-4f02-96cf-4ea04ada28f1",
   "metadata": {
    "papermill": {},
    "tags": []
   },
   "source": [
    "**Tags:** #bitly #api #metrics #bitlink #country #reference"
   ]
  },
  {
   "cell_type": "markdown",
   "id": "d2e59063-934a-4685-a912-29a404d367e9",
   "metadata": {
    "papermill": {},
    "tags": []
   },
   "source": [
    "**Author:** [Florent Ravenel](https://www.linkedin.com/in/florent-ravenel/)"
   ]
  },
  {
   "cell_type": "markdown",
   "id": "879b5522-2ff4-4d12-b10e-0996a6fe1ff2",
   "metadata": {
    "papermill": {},
    "tags": []
   },
   "source": [
    "**Description:** This notebook will demonstrate how to use the Bitly API to get metrics for a Bitlink by Country."
   ]
  },
  {
   "cell_type": "markdown",
   "id": "51f2b1d1-6a9c-480e-b649-f88e04a524fd",
   "metadata": {
    "papermill": {},
    "tags": []
   },
   "source": [
    "**References:**\n",
    "- [Bitly API Reference](https://dev.bitly.com/api-reference/#getMetricsForBitlinkByCountries)\n",
    "- [Bitly Authentication](https://dev.bitly.com/authentication.html)"
   ]
  },
  {
   "cell_type": "markdown",
   "id": "54779250-8d3e-4fdb-af47-e23365767998",
   "metadata": {
    "papermill": {},
    "tags": []
   },
   "source": [
    "## Input"
   ]
  },
  {
   "cell_type": "markdown",
   "id": "0539077d-52e7-4ef2-ae2a-71332134e164",
   "metadata": {
    "papermill": {},
    "tags": []
   },
   "source": [
    "### Import libraries"
   ]
  },
  {
   "cell_type": "code",
   "execution_count": null,
   "id": "ad2305e2-61b2-471b-9ffb-f18feb9fbfbe",
   "metadata": {
    "papermill": {},
    "tags": []
   },
   "outputs": [],
   "source": [
    "import requests\n",
    "import naas\n",
    "import pandas as pd\n",
    "import plotly.graph_objects as go\n",
    "try:\n",
    "    from dataprep.clean import clean_country\n",
    "except:\n",
    "    !pip install dataprep --user\n",
    "    from dataprep.clean import clean_country\n",
    "import json\n",
    "import warnings\n",
    "warnings.simplefilter(action='ignore', category=FutureWarning)"
   ]
  },
  {
   "cell_type": "markdown",
   "id": "921c9171-fd42-4479-a247-60ead18c5f48",
   "metadata": {
    "papermill": {},
    "tags": []
   },
   "source": [
    "### Setup Variables\n",
    "- **access_token**: [Generate an access token](https://dev.bitly.com/authentication.html)\n",
    "- **bitlink**: The Bitlink for which you want to get metrics"
   ]
  },
  {
   "cell_type": "code",
   "execution_count": null,
   "id": "72bc86f7-f3fa-41c1-93d3-d1815d82f518",
   "metadata": {
    "papermill": {},
    "tags": []
   },
   "outputs": [],
   "source": [
    "# Inputs\n",
    "access_token = naas.secret.get(\"BITLY_TOKEN\") or \"<YOUR_TOKEN>\"\n",
    "bitlink = \"bit.ly/3lU6hRt\"\n",
    "title = \"Bitly - Get Metrics for a Bitlink by Country\"\n",
    "\n",
    "# Outputs\n",
    "output_image = f\"{title}.png\"\n",
    "output_html = f\"{title}.html\""
   ]
  },
  {
   "cell_type": "markdown",
   "id": "74c7e81f-f3ec-4adb-925a-884a1d6ff0e1",
   "metadata": {
    "papermill": {},
    "tags": []
   },
   "source": [
    "## Model"
   ]
  },
  {
   "cell_type": "markdown",
   "id": "f78ddf67-4e3f-4c2c-a0b9-b3506f57a295",
   "metadata": {
    "papermill": {},
    "tags": []
   },
   "source": [
    "### Get Metrics for a Bitlink by Country"
   ]
  },
  {
   "cell_type": "markdown",
   "id": "753fb196-3a3f-487b-8f90-751a85740734",
   "metadata": {
    "papermill": {},
    "tags": []
   },
   "source": [
    "This function will use the Bitly API to get metrics for a Bitlink by Country."
   ]
  },
  {
   "cell_type": "code",
   "execution_count": null,
   "id": "d77bd63a-fcce-4c96-9c60-111c70796b0d",
   "metadata": {
    "papermill": {},
    "tags": []
   },
   "outputs": [],
   "source": [
    "def get_metrics_by_country(access_token, bitlink):\n",
    "    url = f\"https://api-ssl.bitly.com/v4/bitlinks/{bitlink}/countries\"\n",
    "    headers = {\"Authorization\": f\"Bearer {access_token}\"}\n",
    "    response = requests.get(url, headers=headers)\n",
    "    if response.status_code == 200:\n",
    "        return json.loads(response.content)\n",
    "    else:\n",
    "        return None\n",
    "    \n",
    "metrics_by_country = get_metrics_by_country(access_token, bitlink)"
   ]
  },
  {
   "cell_type": "markdown",
   "id": "d4498312-7691-445a-a4cb-84afd4c7b15b",
   "metadata": {
    "papermill": {},
    "tags": []
   },
   "source": [
    "### Prep Data"
   ]
  },
  {
   "cell_type": "code",
   "execution_count": null,
   "id": "22effd68-8e9a-4890-a967-c8801ac8a2ba",
   "metadata": {
    "papermill": {},
    "tags": []
   },
   "outputs": [],
   "source": [
    "def prep_data(data):\n",
    "    # Init\n",
    "    df = pd.DataFrame(data)\n",
    "    \n",
    "    # Cleaning\n",
    "    to_rename = {\n",
    "        \"value\": \"COUNTRY\",\n",
    "        \"clicks\": \"VALUE\"\n",
    "    }\n",
    "    df = df.rename(columns=to_rename)\n",
    "    \n",
    "    # Get countries\n",
    "    df = clean_country(df, \"COUNTRY\", output_format=\"alpha-3\").dropna().rename(columns={\"COUNTRY_clean\": \"COUNTRY_ISO\"})\n",
    "    df = clean_country(df, \"COUNTRY\", output_format=\"name\").dropna().rename(columns={\"COUNTRY_clean\": \"COUNTRY_NAME\"})              \n",
    "    return df\n",
    "\n",
    "df = prep_data(metrics_by_country.get(\"metrics\"))\n",
    "df"
   ]
  },
  {
   "cell_type": "markdown",
   "id": "6f2090dd-9e87-45ab-a8f7-f56dc22ba8f4",
   "metadata": {
    "execution": {
     "iopub.execute_input": "2023-03-10T12:25:27.393736Z",
     "iopub.status.busy": "2023-03-10T12:25:27.393427Z",
     "iopub.status.idle": "2023-03-10T12:25:27.399702Z",
     "shell.execute_reply": "2023-03-10T12:25:27.396602Z",
     "shell.execute_reply.started": "2023-03-10T12:25:27.393705Z"
    },
    "papermill": {},
    "tags": []
   },
   "source": [
    "### Create Worlmap"
   ]
  },
  {
   "cell_type": "code",
   "execution_count": null,
   "id": "7537a04b-d1f7-401e-b1ae-334ab1741ba1",
   "metadata": {
    "papermill": {},
    "tags": []
   },
   "outputs": [],
   "source": [
    "fig = go.Figure()\n",
    "\n",
    "fig = go.Figure(\n",
    "    data=go.Choropleth(\n",
    "        locations=df[\"COUNTRY_ISO\"],\n",
    "        z=df[\"VALUE\"].astype(int),\n",
    "        text=df[\"COUNTRY_NAME\"],\n",
    "        colorscale=\"Oranges\",\n",
    "        autocolorscale=False,\n",
    "        reversescale=False,\n",
    "        marker_line_color=\"darkgray\",\n",
    "        marker_line_width=0.5,\n",
    "        colorbar_tickprefix=\"\",\n",
    "        colorbar_title=\"Clicks\",\n",
    "    )\n",
    ")\n",
    "\n",
    "fig.update_layout(\n",
    "    title=title,\n",
    "    plot_bgcolor=\"#ffffff\",\n",
    "    legend_x=1,\n",
    "    geo=dict(\n",
    "        showframe=False,\n",
    "#         showcoastlines=False,\n",
    "    ),\n",
    "    dragmode=False,\n",
    "    width=1200,\n",
    "    height=800,\n",
    ")\n",
    "\n",
    "config = {\"displayModeBar\": False}\n",
    "fig.show(config=config)"
   ]
  },
  {
   "cell_type": "markdown",
   "id": "8a473593-980a-4f42-a3b3-a2380c22e681",
   "metadata": {
    "papermill": {},
    "tags": []
   },
   "source": [
    "## Output"
   ]
  },
  {
   "cell_type": "markdown",
   "id": "9eba71e7-49d1-4f56-93c3-df497e8eab16",
   "metadata": {
    "execution": {
     "iopub.execute_input": "2021-10-17T15:35:59.991727Z",
     "iopub.status.busy": "2021-10-17T15:35:59.991476Z",
     "iopub.status.idle": "2021-10-17T15:36:00.000426Z",
     "shell.execute_reply": "2021-10-17T15:35:59.999753Z",
     "shell.execute_reply.started": "2021-10-17T15:35:59.991702Z"
    },
    "papermill": {},
    "tags": []
   },
   "source": [
    "### Export in PNG and HTML"
   ]
  },
  {
   "cell_type": "code",
   "execution_count": null,
   "id": "d3d4f351-fd01-42ae-b38b-45e01c31c5b5",
   "metadata": {
    "papermill": {},
    "tags": []
   },
   "outputs": [],
   "source": [
    "fig.write_image(output_image, width=1200)\n",
    "fig.write_html(output_html)"
   ]
  },
  {
   "cell_type": "markdown",
   "id": "8dff0df1-5cf7-4f06-b423-c53812714755",
   "metadata": {
    "papermill": {},
    "tags": []
   },
   "source": [
    "### Generate shareable assets"
   ]
  },
  {
   "cell_type": "code",
   "execution_count": null,
   "id": "fcb40f0c-d707-411d-b563-ee8307c29b76",
   "metadata": {
    "papermill": {},
    "tags": []
   },
   "outputs": [],
   "source": [
    "link_image = naas.asset.add(output_image)\n",
    "link_html = naas.asset.add(output_html, {\"inline\": True})\n",
    "\n",
    "# -> Uncomment the line below to remove your assets\n",
    "# naas.asset.delete(output_image)\n",
    "# naas.asset.delete(output_html)"
   ]
  },
  {
   "cell_type": "markdown",
   "id": "cc44460d-cb44-4dae-be70-c80aa49be1da",
   "metadata": {
    "papermill": {},
    "tags": []
   },
   "source": [
    " "
   ]
  }
 ],
 "metadata": {
  "kernelspec": {
   "display_name": "Python 3",
   "language": "python",
   "name": "python3"
  },
  "language_info": {
   "codemirror_mode": {
    "name": "ipython",
    "version": 3
   },
   "file_extension": ".py",
   "mimetype": "text/x-python",
   "name": "python",
   "nbconvert_exporter": "python",
   "pygments_lexer": "ipython3",
   "version": "3.9.6"
  },
  "naas": {
   "notebook_id": "59334b21ea4228991b77a580a1aaae1c1630d7f1386a8c933d06ca7ac3c459d9",
   "notebook_path": "Bitly/Bitly_Get_Metrics_for_a_Bitlink_by_Country.ipynb"
  },
  "papermill": {
   "default_parameters": {},
   "environment_variables": {},
   "parameters": {},
   "version": "2.4.0"
  },
  "widgets": {
   "application/vnd.jupyter.widget-state+json": {
    "state": {},
    "version_major": 2,
    "version_minor": 0
   }
  }
 },
 "nbformat": 4,
 "nbformat_minor": 5
}