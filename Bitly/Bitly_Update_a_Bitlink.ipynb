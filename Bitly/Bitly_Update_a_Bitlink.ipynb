{
 "cells": [
  {
   "cell_type": "markdown",
   "id": "35ed85dd-01f9-4cfa-8a7b-df7e6353eea5",
   "metadata": {
    "papermill": {},
    "tags": []
   },
   "source": [
    "<img width=\"10%\" alt=\"Naas\" src=\"https://landen.imgix.net/jtci2pxwjczr/assets/5ice39g4.png?w=160\"/>"
   ]
  },
  {
   "cell_type": "markdown",
   "id": "0495d21b-6aa9-49df-9ef8-10909d3fbe88",
   "metadata": {
    "papermill": {},
    "tags": []
   },
   "source": [
    "# Bitly - Update a Bitlink\n",
    "<a href=\"https://app.naas.ai/user-redirect/naas/downloader?url=https://raw.githubusercontent.com/jupyter-naas/awesome-notebooks/master/Bitly/Bitly_Update_a_Bitlink.ipynb\" target=\"_parent\"><img src=\"https://naasai-public.s3.eu-west-3.amazonaws.com/Open_in_Naas_Lab.svg\"/></a><br><br><a href=\"https://github.com/jupyter-naas/awesome-notebooks/issues/new?assignees=&labels=&template=template-request.md&title=Tool+-+Action+of+the+notebook+\">Template request</a> | <a href=\"https://github.com/jupyter-naas/awesome-notebooks/issues/new?assignees=&labels=bug&template=bug_report.md&title=Bitly+-+Update+a+Bitlink:+Error+short+description\">Bug report</a> | <a href=\"https://app.naas.ai/user-redirect/naas/downloader?url=https://raw.githubusercontent.com/jupyter-naas/awesome-notebooks/master/Naas/Naas_Start_data_product.ipynb\" target=\"_parent\">Generate Data Product</a>"
   ]
  },
  {
   "cell_type": "markdown",
   "id": "af971a02-c196-42c6-8230-f3a7cbe1599d",
   "metadata": {
    "papermill": {},
    "tags": []
   },
   "source": [
    "**Tags:** #bitly #api #update #bitlink #reference #dev"
   ]
  },
  {
   "cell_type": "markdown",
   "id": "d54e866f-4b64-4267-b136-3da59bb7d865",
   "metadata": {
    "papermill": {},
    "tags": []
   },
   "source": [
    "**Author:** [Florent Ravenel](https://www.linkedin.com/in/florent-ravenel/)"
   ]
  },
  {
   "cell_type": "markdown",
   "id": "b7419dec-577b-4cbd-b8c6-89a25995bb0e",
   "metadata": {
    "papermill": {},
    "tags": []
   },
   "source": [
    "**Description:** This notebook will show how to update fields in the specified link using Bitly API."
   ]
  },
  {
   "cell_type": "markdown",
   "id": "b40337f7-4b67-4848-b650-8382fa2eb51a",
   "metadata": {
    "papermill": {},
    "tags": []
   },
   "source": [
    "**References:**\n",
    "- [Bitly API Reference](https://dev.bitly.com/api-reference/#updateBitlink)\n",
    "- [Bitly API Documentation](https://dev.bitly.com/v4/#operation/updateBitlink)"
   ]
  },
  {
   "cell_type": "markdown",
   "id": "e95f77fc-4de0-40e5-8971-167eb1935ebd",
   "metadata": {
    "papermill": {},
    "tags": []
   },
   "source": [
    "## Input"
   ]
  },
  {
   "cell_type": "markdown",
   "id": "d8a9130b-97b8-4d3b-86d8-41e1a8ae542b",
   "metadata": {
    "papermill": {},
    "tags": []
   },
   "source": [
    "### Import libraries"
   ]
  },
  {
   "cell_type": "code",
   "execution_count": null,
   "id": "da2fcccd-fd51-419e-a1ff-371c84e7e197",
   "metadata": {
    "papermill": {},
    "tags": []
   },
   "outputs": [],
   "source": [
    "import requests"
   ]
  },
  {
   "cell_type": "markdown",
   "id": "cb8977f3-6a93-4b59-bfe1-3bb30deeb8ff",
   "metadata": {
    "papermill": {},
    "tags": []
   },
   "source": [
    "### Setup Variables\n",
    "- `token`: [Generate a Bitly Access Token](https://dev.bitly.com/get_started/#step-1-generate-an-access-token)\n",
    "- `bitlink`: Bitlink to be updated\n",
    "- `title`: New title for the Bitlink\n",
    "- `long_url`: New long URL for the Bitlink"
   ]
  },
  {
   "cell_type": "code",
   "execution_count": null,
   "id": "6513ca6b-a3ad-41a0-860b-d6ce122444a1",
   "metadata": {
    "papermill": {},
    "tags": []
   },
   "outputs": [],
   "source": [
    "token = \"<YOUR_TOKEN_HERE>\"\n",
    "bitlink = \"<YOUR_BITLINK_HERE>\"\n",
    "title = \"<YOUR_TITLE_HERE>\"\n",
    "long_url = \"<YOUR_LONG_URL_HERE>\""
   ]
  },
  {
   "cell_type": "markdown",
   "id": "623f4f96-15d2-42cd-923e-d79b923ae179",
   "metadata": {
    "papermill": {},
    "tags": []
   },
   "source": [
    "## Model"
   ]
  },
  {
   "cell_type": "markdown",
   "id": "e0cc1d89-2550-4b1a-8e24-5fd4f4dfd4cb",
   "metadata": {
    "papermill": {},
    "tags": []
   },
   "source": [
    "### Update Bitlink"
   ]
  },
  {
   "cell_type": "markdown",
   "id": "822b34e0-f61f-4760-98da-4262a8e564f7",
   "metadata": {
    "papermill": {},
    "tags": []
   },
   "source": [
    "Update fields in the specified link."
   ]
  },
  {
   "cell_type": "code",
   "execution_count": null,
   "id": "c474d727-779d-401a-becb-c3b8d5104655",
   "metadata": {
    "papermill": {},
    "tags": []
   },
   "outputs": [],
   "source": [
    "url = f\"https://api-ssl.bitly.com/v4/bitlinks/{bitlink}\"\n",
    "headers = {\"Authorization\": f\"Bearer {token}\"}\n",
    "data = {\"title\": title, \"long_url\": long_url}\n",
    "response = requests.patch(url, headers=headers, json=data)"
   ]
  },
  {
   "cell_type": "markdown",
   "id": "6c9b8195-61c1-4b8c-b088-1fd6e874d17b",
   "metadata": {
    "papermill": {},
    "tags": []
   },
   "source": [
    "## Output"
   ]
  },
  {
   "cell_type": "markdown",
   "id": "42abd7d9-bb44-4115-ad54-7e3a1fae242e",
   "metadata": {
    "papermill": {},
    "tags": []
   },
   "source": [
    "### Display result"
   ]
  },
  {
   "cell_type": "code",
   "execution_count": null,
   "id": "5a30d6dd-b7b3-4dbd-8939-466af10d5083",
   "metadata": {
    "papermill": {},
    "tags": []
   },
   "outputs": [],
   "source": [
    "response.json()"
   ]
  },
  {
   "cell_type": "markdown",
   "id": "17d4b71b-b10f-4071-bacc-5931794e6b92",
   "metadata": {
    "papermill": {},
    "tags": []
   },
   "source": [
    " "
   ]
  }
 ],
 "metadata": {
  "kernelspec": {
   "display_name": "Python 3",
   "language": "python",
   "name": "python3"
  },
  "language_info": {
   "codemirror_mode": {
    "name": "ipython",
    "version": 3
   },
   "file_extension": ".py",
   "mimetype": "text/x-python",
   "name": "python",
   "nbconvert_exporter": "python",
   "pygments_lexer": "ipython3",
   "version": "3.9.6"
  },
  "naas": {
   "notebook_id": "aa9e096cfaf039d08eaa4194d361639e661083ff97b300d6fd2d9d4749c60eef",
   "notebook_path": "Bitly/Bitly_Update_a_Bitlink.ipynb"
  },
  "papermill": {
   "default_parameters": {},
   "environment_variables": {},
   "parameters": {},
   "version": "2.4.0"
  },
  "widgets": {
   "application/vnd.jupyter.widget-state+json": {
    "state": {},
    "version_major": 2,
    "version_minor": 0
   }
  }
 },
 "nbformat": 4,
 "nbformat_minor": 5
}