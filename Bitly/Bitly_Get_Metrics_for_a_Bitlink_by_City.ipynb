{
 "cells": [
  {
   "cell_type": "markdown",
   "id": "3cfa4b1f-2e11-44a9-8576-4e3ce77bbf08",
   "metadata": {
    "papermill": {},
    "tags": []
   },
   "source": [
    "<img width=\"10%\" alt=\"Naas\" src=\"https://landen.imgix.net/jtci2pxwjczr/assets/5ice39g4.png?w=160\"/>"
   ]
  },
  {
   "cell_type": "markdown",
   "id": "cd3cedf6-381a-4bd6-99aa-57269e31311f",
   "metadata": {
    "papermill": {},
    "tags": []
   },
   "source": [
    "# Bitly - Get Metrics for a Bitlink by City\n",
    "<a href=\"https://app.naas.ai/user-redirect/naas/downloader?url=https://raw.githubusercontent.com/jupyter-naas/awesome-notebooks/master/Bitly/Bitly_Get_Metrics_for_a_Bitlink_by_City.ipynb\" target=\"_parent\"><img src=\"https://naasai-public.s3.eu-west-3.amazonaws.com/open_in_naas.svg\"/></a><br><br><a href=\"https://github.com/jupyter-naas/awesome-notebooks/issues/new?assignees=&labels=&template=template-request.md&title=Tool+-+Action+of+the+notebook+\">Template request</a> | <a href=\"https://github.com/jupyter-naas/awesome-notebooks/issues/new?assignees=&labels=bug&template=bug_report.md&title=Bitly+-+Get+Metrics+for+a+Bitlink+by+City:+Error+short+description\">Bug report</a>"
   ]
  },
  {
   "cell_type": "markdown",
   "id": "de3623f7-b63b-41d2-9312-aeb68569170e",
   "metadata": {
    "papermill": {},
    "tags": []
   },
   "source": [
    "**Tags:** #bitly #api #metrics #city #bitlink #dev"
   ]
  },
  {
   "cell_type": "markdown",
   "id": "1f6d05e7-bfe2-411b-9829-ff66c249394f",
   "metadata": {
    "papermill": {},
    "tags": []
   },
   "source": [
    "**Author:** [Florent Ravenel](https://www.linkedin.com/in/florent-ravenel/)"
   ]
  },
  {
   "cell_type": "markdown",
   "id": "fc23c9bd-ed0b-4a50-8900-f55bf77101d1",
   "metadata": {
    "papermill": {},
    "tags": []
   },
   "source": [
    "**Description:** This notebook will return the city origins of click traffic for the specified link. This feature is only available for paid account."
   ]
  },
  {
   "cell_type": "markdown",
   "id": "f7e040c9-a8a6-44e6-b65b-5e26b180eab6",
   "metadata": {
    "papermill": {},
    "tags": []
   },
   "source": [
    "**References:**\n",
    "- [Bitly API Reference](https://dev.bitly.com/api-reference/#getMetricsForBitlinkByCities)\n",
    "- [Bitly Documentation](https://dev.bitly.com/v4/#operation/getMetricsForBitlinkByCities)"
   ]
  },
  {
   "cell_type": "markdown",
   "id": "6175c773-b334-4d3e-8f39-d9b4eb091448",
   "metadata": {
    "papermill": {},
    "tags": []
   },
   "source": [
    "## Input"
   ]
  },
  {
   "cell_type": "markdown",
   "id": "e898ea28-174f-41b1-9ac6-4216f1c8f04d",
   "metadata": {
    "papermill": {},
    "tags": []
   },
   "source": [
    "### Import libraries"
   ]
  },
  {
   "cell_type": "code",
   "execution_count": null,
   "id": "7a0ba00b-0dc9-4fdf-95e1-82bc69914e47",
   "metadata": {
    "papermill": {},
    "tags": []
   },
   "outputs": [],
   "source": [
    "import requests\n",
    "import naas\n",
    "from pprint import pprint"
   ]
  },
  {
   "cell_type": "markdown",
   "id": "707189e5-92f5-41ed-9ad9-2bc198cbe059",
   "metadata": {
    "papermill": {},
    "tags": []
   },
   "source": [
    "### Setup Variables\n",
    "- `access_token`: Bitly access token. [Get your token here](https://dev.bitly.com/authentication.html).\n",
    "- `bitlink`: Bitlink to get clicks by city."
   ]
  },
  {
   "cell_type": "code",
   "execution_count": null,
   "id": "256fdfec-f34b-4f46-b7d8-23ba2ff995a1",
   "metadata": {
    "papermill": {},
    "tags": []
   },
   "outputs": [],
   "source": [
    "access_token = naas.secret.get(\"BITLY_TOKEN\") or \"<YOUR_TOKEN>\"\n",
    "bitlink = \"bit.ly/3lU6hRt\""
   ]
  },
  {
   "cell_type": "markdown",
   "id": "ac83de75-2ec7-4906-bd32-e8bdd15a36db",
   "metadata": {
    "papermill": {},
    "tags": []
   },
   "source": [
    "## Model"
   ]
  },
  {
   "cell_type": "markdown",
   "id": "1eaf69f2-447d-4c1c-b519-8484518a8eed",
   "metadata": {
    "papermill": {},
    "tags": []
   },
   "source": [
    "### Get Metrics for a Bitlink by City"
   ]
  },
  {
   "cell_type": "markdown",
   "id": "8ce95b31-ae16-4031-85e7-5910b8fd8add",
   "metadata": {
    "papermill": {},
    "tags": []
   },
   "source": [
    "This function will return the city origins of click traffic for the specified link."
   ]
  },
  {
   "cell_type": "code",
   "execution_count": null,
   "id": "f907851e-dedd-4af6-90db-07a313b1d266",
   "metadata": {
    "papermill": {},
    "tags": []
   },
   "outputs": [],
   "source": [
    "def get_metrics_by_city(bitlink, access_token):\n",
    "    url = \"https://api-ssl.bitly.com/v4/bitlinks/{}/cities\".format(bitlink)\n",
    "    headers = {\"Authorization\": \"Bearer {}\".format(access_token)}\n",
    "    response = requests.get(url, headers=headers)\n",
    "    return response.json()"
   ]
  },
  {
   "cell_type": "markdown",
   "id": "82189361-c044-4cac-8192-ad3a4431e561",
   "metadata": {
    "papermill": {},
    "tags": []
   },
   "source": [
    "## Output"
   ]
  },
  {
   "cell_type": "markdown",
   "id": "109c09ae-46d1-47ff-b285-680708e34cd0",
   "metadata": {
    "papermill": {},
    "tags": []
   },
   "source": [
    "### Display result"
   ]
  },
  {
   "cell_type": "code",
   "execution_count": null,
   "id": "aa66b775-bb74-4308-844d-83dda1479c29",
   "metadata": {
    "papermill": {},
    "tags": []
   },
   "outputs": [],
   "source": [
    "metrics_by_city = get_metrics_by_city(bitlink, access_token)\n",
    "pprint(metrics_by_city)"
   ]
  },
  {
   "cell_type": "markdown",
   "id": "e74df51a-cd16-4a57-a287-fe45354f74c0",
   "metadata": {
    "papermill": {},
    "tags": []
   },
   "source": [
    " "
   ]
  }
 ],
 "metadata": {
  "kernelspec": {
   "display_name": "Python 3",
   "language": "python",
   "name": "python3"
  },
  "language_info": {
   "codemirror_mode": {
    "name": "ipython",
    "version": 3
   },
   "file_extension": ".py",
   "mimetype": "text/x-python",
   "name": "python",
   "nbconvert_exporter": "python",
   "pygments_lexer": "ipython3",
   "version": "3.9.6"
  },
  "papermill": {
   "default_parameters": {},
   "environment_variables": {},
   "parameters": {},
   "version": "2.4.0"
  },
  "widgets": {
   "application/vnd.jupyter.widget-state+json": {
    "state": {},
    "version_major": 2,
    "version_minor": 0
   }
  }
 },
 "nbformat": 4,
 "nbformat_minor": 5
}