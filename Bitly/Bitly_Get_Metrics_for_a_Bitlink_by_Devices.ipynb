{
 "cells": [
  {
   "cell_type": "markdown",
   "id": "fac7dafa-1512-468b-bab4-af4ab1cc5453",
   "metadata": {
    "papermill": {},
    "tags": []
   },
   "source": [
    "<img width=\"10%\" alt=\"Naas\" src=\"https://landen.imgix.net/jtci2pxwjczr/assets/5ice39g4.png?w=160\"/>"
   ]
  },
  {
   "cell_type": "markdown",
   "id": "8af6f164-9fc9-41b6-ba8d-14f238d77136",
   "metadata": {
    "papermill": {},
    "tags": []
   },
   "source": [
    "# Bitly - Get Metrics for a Bitlink by Devices\n",
    "<a href=\"https://app.naas.ai/user-redirect/naas/downloader?url=https://raw.githubusercontent.com/jupyter-naas/awesome-notebooks/master/Bitly/Bitly_Get_Metrics_for_a_Bitlink_by_Devices.ipynb\" target=\"_parent\"><img src=\"https://naasai-public.s3.eu-west-3.amazonaws.com/Open_in_Naas_Lab.svg\"/></a><br><br><a href=\"https://github.com/jupyter-naas/awesome-notebooks/issues/new?assignees=&labels=&template=template-request.md&title=Tool+-+Action+of+the+notebook+\">Template request</a> | <a href=\"https://github.com/jupyter-naas/awesome-notebooks/issues/new?assignees=&labels=bug&template=bug_report.md&title=Bitly+-+Get+Metrics+for+a+Bitlink+by+Devices:+Error+short+description\">Bug report</a> | <a href=\"https://app.naas.ai/user-redirect/naas/downloader?url=https://raw.githubusercontent.com/jupyter-naas/awesome-notebooks/master/Naas/Naas_Start_data_product.ipynb\" target=\"_parent\">Generate Data Product</a>"
   ]
  },
  {
   "cell_type": "markdown",
   "id": "b0a00593-682d-4fdd-8c2b-7d328d3a175a",
   "metadata": {
    "papermill": {},
    "tags": []
   },
   "source": [
    "**Tags:** #bitly #api #metrics #devices"
   ]
  },
  {
   "cell_type": "markdown",
   "id": "5dc9fb2f-f2ff-4e70-89df-d08b474a3f94",
   "metadata": {
    "papermill": {},
    "tags": []
   },
   "source": [
    "**Author:** [Florent Ravenel](https://www.linkedin.com/in/florent-ravenel/)"
   ]
  },
  {
   "cell_type": "markdown",
   "id": "66d62244-6cf7-49a1-834b-7ebf539a49fe",
   "metadata": {
    "papermill": {},
    "tags": []
   },
   "source": [
    "**Description:** This notebook will show how to use the Bitly API to get metrics for a Bitlink by devices. This endpoint is only available for paid account."
   ]
  },
  {
   "cell_type": "markdown",
   "id": "ee060154-d738-4fec-9d56-4069eb03afc4",
   "metadata": {
    "papermill": {},
    "tags": []
   },
   "source": [
    "**References:**\n",
    "- [Bitly API Reference](https://dev.bitly.com/api-reference/#getMetricsForBitlinkByDevices)\n",
    "- [Bitly Authentication](https://dev.bitly.com/authentication.html)"
   ]
  },
  {
   "cell_type": "markdown",
   "id": "b81e4589-b160-4743-bf7c-4768c554aa58",
   "metadata": {
    "papermill": {},
    "tags": []
   },
   "source": [
    "## Input"
   ]
  },
  {
   "cell_type": "markdown",
   "id": "899d77ee-9d39-448a-afc1-b685253bed25",
   "metadata": {
    "papermill": {},
    "tags": []
   },
   "source": [
    "### Import libraries"
   ]
  },
  {
   "cell_type": "code",
   "execution_count": null,
   "id": "d89493d1-f314-489f-9ff5-0f777e5ddfc7",
   "metadata": {
    "papermill": {},
    "tags": []
   },
   "outputs": [],
   "source": [
    "import requests\n",
    "from pprint import pprint\n",
    "import naas"
   ]
  },
  {
   "cell_type": "markdown",
   "id": "b7223b95-092b-4562-8203-9fb85cb8c895",
   "metadata": {
    "papermill": {},
    "tags": []
   },
   "source": [
    "### Setup Variables\n",
    "- **access_token**: [Bitly Authentication](https://dev.bitly.com/authentication.html)\n",
    "- **bitlink**: Bitlink to get metrics for"
   ]
  },
  {
   "cell_type": "code",
   "execution_count": null,
   "id": "0ab7d5dc-c0db-43e7-a543-7fdb11e6d8d1",
   "metadata": {
    "papermill": {},
    "tags": []
   },
   "outputs": [],
   "source": [
    "access_token = naas.secret.get(\"BITLY_TOKEN\") or \"<YOUR_TOKEN_HERE>\"\n",
    "bitlink = \"bit.ly/3lU6hRt\""
   ]
  },
  {
   "cell_type": "markdown",
   "id": "83147f04-b2d5-454e-bd14-f46164fd3be7",
   "metadata": {
    "papermill": {},
    "tags": []
   },
   "source": [
    "## Model"
   ]
  },
  {
   "cell_type": "markdown",
   "id": "bebddbcb-ff1e-4a46-a014-ff8c77883f82",
   "metadata": {
    "papermill": {},
    "tags": []
   },
   "source": [
    "### Get Metrics for a Bitlink by Device Type"
   ]
  },
  {
   "cell_type": "markdown",
   "id": "e427bbd5-87cc-4254-8aeb-71b204c2feae",
   "metadata": {
    "papermill": {},
    "tags": []
   },
   "source": [
    "This function will use the Bitly API to get metrics for a Bitlink by device type."
   ]
  },
  {
   "cell_type": "code",
   "execution_count": null,
   "id": "1d64e40c-7d6f-4909-a4f0-629a73095995",
   "metadata": {
    "papermill": {},
    "tags": []
   },
   "outputs": [],
   "source": [
    "def get_metrics_by_device_type(access_token, bitlink):\n",
    "    url = f\"https://api-ssl.bitly.com/v4/bitlinks/{bitlink}/devices/\"\n",
    "    headers = {\"Authorization\": f\"Bearer {access_token}\"}\n",
    "    res = requests.get(url, headers=headers)\n",
    "    return res.json()"
   ]
  },
  {
   "cell_type": "markdown",
   "id": "54255bf7-e5f4-47b4-b75f-ba177c1cc1f6",
   "metadata": {
    "papermill": {},
    "tags": []
   },
   "source": [
    "## Output"
   ]
  },
  {
   "cell_type": "markdown",
   "id": "df5486f3-4dd0-4b27-abbd-6eaab548a1a5",
   "metadata": {
    "papermill": {},
    "tags": []
   },
   "source": [
    "### Display result"
   ]
  },
  {
   "cell_type": "code",
   "execution_count": null,
   "id": "a2b8b5fe-7a7f-46d7-875d-dcdc8f0fa2b3",
   "metadata": {
    "papermill": {},
    "tags": []
   },
   "outputs": [],
   "source": [
    "result = get_metrics_by_device_type(access_token, bitlink)\n",
    "pprint(result)"
   ]
  },
  {
   "cell_type": "markdown",
   "id": "77f858af-0d8c-4fde-a3c2-4e16fc793e63",
   "metadata": {
    "papermill": {},
    "tags": []
   },
   "source": [
    " "
   ]
  }
 ],
 "metadata": {
  "kernelspec": {
   "display_name": "Python 3",
   "language": "python",
   "name": "python3"
  },
  "language_info": {
   "codemirror_mode": {
    "name": "ipython",
    "version": 3
   },
   "file_extension": ".py",
   "mimetype": "text/x-python",
   "name": "python",
   "nbconvert_exporter": "python",
   "pygments_lexer": "ipython3",
   "version": "3.9.6"
  },
  "naas": {
   "notebook_id": "495e8ac289e12e30a84012c1ce626f510ef6a88551618416ab311a12ddd18040",
   "notebook_path": "Bitly/Bitly_Get_Metrics_for_a_Bitlink_by_Devices.ipynb"
  },
  "papermill": {
   "default_parameters": {},
   "environment_variables": {},
   "parameters": {},
   "version": "2.4.0"
  },
  "widgets": {
   "application/vnd.jupyter.widget-state+json": {
    "state": {},
    "version_major": 2,
    "version_minor": 0
   }
  }
 },
 "nbformat": 4,
 "nbformat_minor": 5
}