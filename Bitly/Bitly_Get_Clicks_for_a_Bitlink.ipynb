{
 "cells": [
  {
   "cell_type": "markdown",
   "id": "8bbed412-4da9-4bf9-badd-d7efb320dc9a",
   "metadata": {
    "papermill": {},
    "tags": []
   },
   "source": [
    "<img width=\"10%\" alt=\"Naas\" src=\"https://landen.imgix.net/jtci2pxwjczr/assets/5ice39g4.png?w=160\"/>"
   ]
  },
  {
   "cell_type": "markdown",
   "id": "8e549771-8cba-4eff-857b-3b4e074410fd",
   "metadata": {
    "papermill": {},
    "tags": []
   },
   "source": [
    "# Bitly - Get Clicks for a Bitlink\n",
    "<a href=\"https://app.naas.ai/user-redirect/naas/downloader?url=https://raw.githubusercontent.com/jupyter-naas/awesome-notebooks/master/Bitly/Bitly_Get_Clicks_for_a_Bitlink.ipynb\" target=\"_parent\"><img src=\"https://naasai-public.s3.eu-west-3.amazonaws.com/open_in_naas.svg\"/></a><br><br><a href=\"https://github.com/jupyter-naas/awesome-notebooks/issues/new?assignees=&labels=&template=template-request.md&title=Tool+-+Action+of+the+notebook+\">Template request</a> | <a href=\"https://github.com/jupyter-naas/awesome-notebooks/issues/new?assignees=&labels=bug&template=bug_report.md&title=Bitly+-+Get+Clicks+for+a+Bitlink:+Error+short+description\">Bug report</a>"
   ]
  },
  {
   "cell_type": "markdown",
   "id": "177a1aeb-3e7d-49bc-96b8-b4db4552ad73",
   "metadata": {
    "papermill": {},
    "tags": []
   },
   "source": [
    "**Tags:** #bitly #api #getclicks #bitlink #python #dev"
   ]
  },
  {
   "cell_type": "markdown",
   "id": "068f86b1-f5e6-461c-8cee-93243a160342",
   "metadata": {
    "papermill": {},
    "tags": []
   },
   "source": [
    "**Author:** [Florent Ravenel](https://www.linkedin.com/in/florent-ravenel/)"
   ]
  },
  {
   "cell_type": "markdown",
   "id": "63e05edf-2b23-4be9-b167-a0ff2d9b9997",
   "metadata": {
    "papermill": {},
    "tags": []
   },
   "source": [
    "**Description:** This notebook will show how to use the Bitly API to get the click counts for a specified link in an array based on a date."
   ]
  },
  {
   "cell_type": "markdown",
   "id": "5d3ea0bf-9917-421c-8898-caa03d16d23c",
   "metadata": {
    "papermill": {},
    "tags": []
   },
   "source": [
    "**References:**\n",
    "- [Bitly API Reference](https://dev.bitly.com/api-reference/#getClicksForBitlink)\n",
    "- [Bitly Authentication](https://dev.bitly.com/authentication.html)"
   ]
  },
  {
   "cell_type": "markdown",
   "id": "51c31831-4401-445a-96f0-0083f44cd486",
   "metadata": {
    "papermill": {},
    "tags": []
   },
   "source": [
    "## Input"
   ]
  },
  {
   "cell_type": "markdown",
   "id": "70608a02-64af-4cc6-b471-6f729acc0f52",
   "metadata": {
    "papermill": {},
    "tags": []
   },
   "source": [
    "### Import libraries"
   ]
  },
  {
   "cell_type": "code",
   "execution_count": null,
   "id": "9dcc1bd2-b9bd-49f3-b98e-48f8affe9319",
   "metadata": {
    "papermill": {},
    "tags": []
   },
   "outputs": [],
   "source": [
    "import requests\n",
    "import naas\n",
    "import json"
   ]
  },
  {
   "cell_type": "markdown",
   "id": "27db369f-0f5f-404d-9b05-eee2c12e44e1",
   "metadata": {
    "papermill": {},
    "tags": []
   },
   "source": [
    "### Setup Variables\n",
    "- `access_token`: Bitly access token. [Get your token here](https://dev.bitly.com/authentication.html).\n",
    "- `bitlink`: Bitlink to get clicks for.\n",
    "- `unit`: Unit of time for the response.\n",
    "- `units`: Number of units of time to query data for."
   ]
  },
  {
   "cell_type": "code",
   "execution_count": null,
   "id": "ae5a40f1-b012-4433-8f7d-5ca7a873cdf8",
   "metadata": {
    "papermill": {},
    "tags": []
   },
   "outputs": [],
   "source": [
    "access_token = naas.secret.get(\"BITLY_TOKEN\") or \"<YOUR_TOKEN>\"\n",
    "bitlink = \"bit.ly/3lU6hRt\"\n",
    "unit = \"day\"\n",
    "units = -1"
   ]
  },
  {
   "cell_type": "markdown",
   "id": "88fe7a6b-0155-46a7-a30c-72f6a833a535",
   "metadata": {
    "papermill": {},
    "tags": []
   },
   "source": [
    "## Model"
   ]
  },
  {
   "cell_type": "markdown",
   "id": "0cfb6840-a206-4174-be67-afa4d8b904a0",
   "metadata": {
    "papermill": {},
    "tags": []
   },
   "source": [
    "### Get Clicks for a Bitlink"
   ]
  },
  {
   "cell_type": "markdown",
   "id": "1175a164-4724-4945-973b-de29182d1274",
   "metadata": {
    "papermill": {},
    "tags": []
   },
   "source": [
    "This function will use the Bitly API to get the click counts for the specified link in an array based on a date."
   ]
  },
  {
   "cell_type": "code",
   "execution_count": null,
   "id": "73397fb1-f476-42b1-9dea-288855009cab",
   "metadata": {
    "papermill": {},
    "tags": []
   },
   "outputs": [],
   "source": [
    "def get_clicks_for_bitlink(token, bitlink, unit, units):\n",
    "    url = f\"https://api-ssl.bitly.com/v4/bitlinks/{bitlink}/clicks\"\n",
    "    headers = {\"Authorization\": f\"Bearer {token}\"}\n",
    "    params = {\"unit\": unit, \"units\": units}\n",
    "    response = requests.get(url, headers=headers, params=params)\n",
    "    response.raise_for_status()\n",
    "    return response.json()"
   ]
  },
  {
   "cell_type": "markdown",
   "id": "1d5a4e74-79a6-4911-97a2-b8803b215a51",
   "metadata": {
    "papermill": {},
    "tags": []
   },
   "source": [
    "## Output"
   ]
  },
  {
   "cell_type": "markdown",
   "id": "4177c04a-1831-41d5-a437-07b4c5fc33c3",
   "metadata": {
    "papermill": {},
    "tags": []
   },
   "source": [
    "### Display result"
   ]
  },
  {
   "cell_type": "code",
   "execution_count": null,
   "id": "b5195327-160a-4619-8571-4a7b878c43a5",
   "metadata": {
    "papermill": {},
    "tags": []
   },
   "outputs": [],
   "source": [
    "clicks = get_clicks_for_bitlink(access_token, bitlink, unit, units)\n",
    "print(json.dumps(clicks, indent=4))"
   ]
  },
  {
   "cell_type": "markdown",
   "id": "546ed4c2-10a0-451a-b15c-daec69837688",
   "metadata": {
    "papermill": {},
    "tags": []
   },
   "source": [
    " "
   ]
  }
 ],
 "metadata": {
  "kernelspec": {
   "display_name": "Python 3",
   "language": "python",
   "name": "python3"
  },
  "language_info": {
   "codemirror_mode": {
    "name": "ipython",
    "version": 3
   },
   "file_extension": ".py",
   "mimetype": "text/x-python",
   "name": "python",
   "nbconvert_exporter": "python",
   "pygments_lexer": "ipython3",
   "version": "3.9.6"
  },
  "papermill": {
   "default_parameters": {},
   "environment_variables": {},
   "parameters": {},
   "version": "2.4.0"
  },
  "widgets": {
   "application/vnd.jupyter.widget-state+json": {
    "state": {},
    "version_major": 2,
    "version_minor": 0
   }
  }
 },
 "nbformat": 4,
 "nbformat_minor": 5
}