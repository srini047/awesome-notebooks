{
 "cells": [
  {
   "cell_type": "markdown",
   "id": "eb1ac43a-d3d4-4ac3-9534-cbbd9a8ea758",
   "metadata": {
    "papermill": {},
    "tags": []
   },
   "source": [
    "<img width=\"10%\" alt=\"Naas\" src=\"https://landen.imgix.net/jtci2pxwjczr/assets/5ice39g4.png?w=160\"/>"
   ]
  },
  {
   "cell_type": "markdown",
   "id": "5f3a6ef3-3723-43e3-bd60-78bc4d023de6",
   "metadata": {
    "papermill": {},
    "tags": []
   },
   "source": [
    "# Bitly - Retrieve Bitlink\n",
    "<a href=\"https://app.naas.ai/user-redirect/naas/downloader?url=https://raw.githubusercontent.com/jupyter-naas/awesome-notebooks/master/Bitly/Bitly_Retrieve_Bitlink.ipynb\" target=\"_parent\"><img src=\"https://naasai-public.s3.eu-west-3.amazonaws.com/open_in_naas.svg\"/></a><br><br><a href=\"https://github.com/jupyter-naas/awesome-notebooks/issues/new?assignees=&labels=&template=template-request.md&title=Tool+-+Action+of+the+notebook+\">Template request</a> | <a href=\"https://github.com/jupyter-naas/awesome-notebooks/issues/new?assignees=&labels=bug&template=bug_report.md&title=Bitly+-+Retrieve+Bitlink:+Error+short+description\">Bug report</a>"
   ]
  },
  {
   "cell_type": "markdown",
   "id": "239b806f-dae3-44e4-9b45-0d4fa037f9e0",
   "metadata": {
    "papermill": {},
    "tags": []
   },
   "source": [
    "**Tags:** #bitly #api #list #active #links #python #bitlink"
   ]
  },
  {
   "cell_type": "markdown",
   "id": "29de3e32-1c07-4511-92e7-c318ab74fb94",
   "metadata": {
    "papermill": {},
    "tags": []
   },
   "source": [
    "**Author:** [Florent Ravenel](https://www.linkedin.com/in/florent-ravenel/)"
   ]
  },
  {
   "cell_type": "markdown",
   "id": "d7cb8a4e-fc0a-4707-bc72-9c16ed06c9ed",
   "metadata": {
    "papermill": {},
    "tags": []
   },
   "source": [
    "**Description:** This notebook will return information for a specified bitlink using the Bitly API."
   ]
  },
  {
   "cell_type": "markdown",
   "id": "fd87de5b-8a93-470f-80da-0fab6eda9854",
   "metadata": {
    "papermill": {},
    "tags": []
   },
   "source": [
    "<u>References:</u>\n",
    "- [Bitly API Documentation](https://dev.bitly.com/v4_documentation.html)\n",
    "- [Bitly API Quickstart](https://dev.bitly.com/v4/#section/Quick-Start)"
   ]
  },
  {
   "cell_type": "markdown",
   "id": "21fe165c-8dea-419d-a99f-427f71f594c7",
   "metadata": {
    "papermill": {},
    "tags": []
   },
   "source": [
    "## Input"
   ]
  },
  {
   "cell_type": "markdown",
   "id": "6cd85c67-0488-45bb-b50c-70018ad3590c",
   "metadata": {
    "papermill": {},
    "tags": []
   },
   "source": [
    "### Import libraries"
   ]
  },
  {
   "cell_type": "code",
   "execution_count": null,
   "id": "912afa92-2391-44be-be30-d3d52262ed5a",
   "metadata": {
    "papermill": {},
    "tags": []
   },
   "outputs": [],
   "source": [
    "import requests\n",
    "import json\n",
    "import naas\n",
    "from pprint import pprint"
   ]
  },
  {
   "cell_type": "markdown",
   "id": "7dd928ae-e73d-4031-adc6-c1d0bdf51dff",
   "metadata": {
    "papermill": {},
    "tags": []
   },
   "source": [
    "### Setup Variables\n",
    "- **token**: [Generate a Bitly Access Token](https://support.bitly.com/hc/en-us/articles/230647907-How-do-I-generate-an-OAuth-access-token-for-the-Bitly-API-)\n",
    "- **bitlink**: A Bitlink made of the domain and hash "
   ]
  },
  {
   "cell_type": "code",
   "execution_count": null,
   "id": "45dfd5f9-de84-4d78-be84-58639a9e45d9",
   "metadata": {
    "papermill": {},
    "tags": []
   },
   "outputs": [],
   "source": [
    "token = naas.secret.get(\"BITLY_TOKEN\") or \"<YOUR_TOKEN_HERE>\"\n",
    "bitlink = \"bit.ly/3lU6xxxt\""
   ]
  },
  {
   "cell_type": "markdown",
   "id": "bfdfbe5e-2d07-42c4-bdca-ee55b432f069",
   "metadata": {
    "papermill": {},
    "tags": []
   },
   "source": [
    "## Model"
   ]
  },
  {
   "cell_type": "markdown",
   "id": "f01ad839-7e6d-4230-b72e-9308be5d1b5d",
   "metadata": {
    "papermill": {},
    "tags": []
   },
   "source": [
    "### Retrieve a Bitlink"
   ]
  },
  {
   "cell_type": "code",
   "execution_count": null,
   "id": "70525d70-aa86-425b-b41d-9d495fa44c17",
   "metadata": {
    "papermill": {},
    "tags": []
   },
   "outputs": [],
   "source": [
    "def retrieve_bitlink(token, bitlink):\n",
    "    headers = {\"Authorization\": f\"Bearer {token}\"}\n",
    "    url = f\"https://api-ssl.bitly.com/v4/bitlinks/{bitlink}\"\n",
    "    response = requests.get(url, headers=headers)\n",
    "    response.raise_for_status()\n",
    "    return response.json()\n",
    "\n",
    "link = retrieve_bitlink(token, bitlink)"
   ]
  },
  {
   "cell_type": "markdown",
   "id": "d0d5e7a4-afcf-447d-89d0-388b76b45cec",
   "metadata": {
    "papermill": {},
    "tags": []
   },
   "source": [
    "## Output"
   ]
  },
  {
   "cell_type": "markdown",
   "id": "49d0541a-94fb-497c-8893-4f2004a2549d",
   "metadata": {
    "papermill": {},
    "tags": []
   },
   "source": [
    "### Display result"
   ]
  },
  {
   "cell_type": "code",
   "execution_count": null,
   "id": "46436a7b-1379-4e7e-a0b4-967126e7bcbd",
   "metadata": {
    "papermill": {},
    "tags": []
   },
   "outputs": [],
   "source": [
    "pprint(link)"
   ]
  },
  {
   "cell_type": "markdown",
   "id": "42b42602-ab4c-4494-953c-8fa5fdaff182",
   "metadata": {
    "papermill": {},
    "tags": []
   },
   "source": [
    " "
   ]
  }
 ],
 "metadata": {
  "kernelspec": {
   "display_name": "Python 3",
   "language": "python",
   "name": "python3"
  },
  "language_info": {
   "codemirror_mode": {
    "name": "ipython",
    "version": 3
   },
   "file_extension": ".py",
   "mimetype": "text/x-python",
   "name": "python",
   "nbconvert_exporter": "python",
   "pygments_lexer": "ipython3",
   "version": "3.9.6"
  },
  "papermill": {
   "default_parameters": {},
   "environment_variables": {},
   "parameters": {},
   "version": "2.4.0"
  },
  "widgets": {
   "application/vnd.jupyter.widget-state+json": {
    "state": {},
    "version_major": 2,
    "version_minor": 0
   }
  }
 },
 "nbformat": 4,
 "nbformat_minor": 5
}