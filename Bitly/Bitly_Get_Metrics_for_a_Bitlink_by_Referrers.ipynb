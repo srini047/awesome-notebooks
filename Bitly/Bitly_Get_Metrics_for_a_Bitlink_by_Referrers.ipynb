{
 "cells": [
  {
   "cell_type": "markdown",
   "id": "a1332a57-c4fd-4d5d-84e0-6202adc6c4ae",
   "metadata": {
    "papermill": {},
    "tags": []
   },
   "source": [
    "<img width=\"10%\" alt=\"Naas\" src=\"https://landen.imgix.net/jtci2pxwjczr/assets/5ice39g4.png?w=160\"/>"
   ]
  },
  {
   "cell_type": "markdown",
   "id": "09d309b7-835b-4fb3-8626-b9c66885bc7d",
   "metadata": {
    "papermill": {},
    "tags": []
   },
   "source": [
    "# Bitly - Get Metrics for a Bitlink by Referrers\n",
    "<a href=\"https://app.naas.ai/user-redirect/naas/downloader?url=https://raw.githubusercontent.com/jupyter-naas/awesome-notebooks/master/Bitly/Bitly_Get_Metrics_for_a_Bitlink_by_Referrers.ipynb\" target=\"_parent\"><img src=\"https://naasai-public.s3.eu-west-3.amazonaws.com/open_in_naas.svg\"/></a><br><br><a href=\"https://github.com/jupyter-naas/awesome-notebooks/issues/new?assignees=&labels=&template=template-request.md&title=Tool+-+Action+of+the+notebook+\">Template request</a> | <a href=\"https://github.com/jupyter-naas/awesome-notebooks/issues/new?assignees=&labels=bug&template=bug_report.md&title=Bitly+-+Get+Metrics+for+a+Bitlink+by+Referrers:+Error+short+description\">Bug report</a>"
   ]
  },
  {
   "cell_type": "markdown",
   "id": "b99cc5ee-d5f2-4ad6-a4a9-6191991be018",
   "metadata": {
    "papermill": {},
    "tags": []
   },
   "source": [
    "**Tags:** #bitly #api #metrics #bitlink #referrers #dev"
   ]
  },
  {
   "cell_type": "markdown",
   "id": "bfed0edb-c7e0-4bd7-913b-281ad2149b5c",
   "metadata": {
    "papermill": {},
    "tags": []
   },
   "source": [
    "**Author:** [Florent Ravenel](https://www.linkedin.com/in/florent-ravenel/)"
   ]
  },
  {
   "cell_type": "markdown",
   "id": "3060ebfc-f799-4e6a-b19b-3a7d493ec888",
   "metadata": {
    "papermill": {},
    "tags": []
   },
   "source": [
    "**Description:** This notebook will show how to use the Bitly API to get metrics for a Bitlink by Referrers."
   ]
  },
  {
   "cell_type": "markdown",
   "id": "5edc2a7a-7f10-4c6f-a7b9-3dee33ca125a",
   "metadata": {
    "papermill": {},
    "tags": []
   },
   "source": [
    "**References:**\n",
    "- [Bitly API Reference](https://dev.bitly.com/api-reference/#getMetricsForBitlinkByReferrers)\n",
    "- [Bitly Authentication](https://dev.bitly.com/authentication.html)"
   ]
  },
  {
   "cell_type": "markdown",
   "id": "f882744f-f319-417e-b32e-d0ae01b8eab5",
   "metadata": {
    "papermill": {},
    "tags": []
   },
   "source": [
    "## Input"
   ]
  },
  {
   "cell_type": "markdown",
   "id": "c68bc504-15ed-412b-a506-0fc10d2cfe16",
   "metadata": {
    "papermill": {},
    "tags": []
   },
   "source": [
    "### Import libraries"
   ]
  },
  {
   "cell_type": "code",
   "execution_count": null,
   "id": "7b2e4ca4-9982-4f9a-891e-a2e29f0e53e8",
   "metadata": {
    "papermill": {},
    "tags": []
   },
   "outputs": [],
   "source": [
    "import requests\n",
    "from pprint import pprint\n",
    "import naas"
   ]
  },
  {
   "cell_type": "markdown",
   "id": "93bf06bd-1781-4d3b-a19b-a6bd6d88ab16",
   "metadata": {
    "papermill": {},
    "tags": []
   },
   "source": [
    "### Setup Variables\n",
    "- **access_token**: Access token for authentication. [Get your access token](https://dev.bitly.com/authentication.html).\n",
    "- **bitlink**: Bitlink for which you want to get metrics."
   ]
  },
  {
   "cell_type": "code",
   "execution_count": null,
   "id": "b815baac-8a70-4980-a2bc-1f9e24835ff0",
   "metadata": {
    "papermill": {},
    "tags": []
   },
   "outputs": [],
   "source": [
    "access_token = naas.secret.get(\"BITLY_TOKEN\") or \"<YOUR_TOKEN_HERE>\"\n",
    "bitlink = \"bit.ly/3lU6hRt\""
   ]
  },
  {
   "cell_type": "markdown",
   "id": "7621aafb-75f0-4552-8a65-71e435fc6eac",
   "metadata": {
    "papermill": {},
    "tags": []
   },
   "source": [
    "## Model"
   ]
  },
  {
   "cell_type": "markdown",
   "id": "127e5140-ccc2-4854-a90b-2ddafc620010",
   "metadata": {
    "papermill": {},
    "tags": []
   },
   "source": [
    "### Get Metrics for a Bitlink by Referrers"
   ]
  },
  {
   "cell_type": "markdown",
   "id": "d88ee241-7a24-4443-ab51-15c783bcc374",
   "metadata": {
    "papermill": {},
    "tags": []
   },
   "source": [
    "This function will return referrer click counts for the specified link."
   ]
  },
  {
   "cell_type": "code",
   "execution_count": null,
   "id": "2aec7167-4133-4082-bbe7-8669c987244d",
   "metadata": {
    "papermill": {},
    "tags": []
   },
   "outputs": [],
   "source": [
    "def get_metrics_for_bitlink_by_referrers(access_token, bitlink):\n",
    "    url = f\"https://api-ssl.bitly.com/v4/bitlinks/{bitlink}/referrers\"\n",
    "    headers = {\"Authorization\": f\"Bearer {access_token}\"}\n",
    "    res = requests.get(url, headers=headers)\n",
    "    return res.json()"
   ]
  },
  {
   "cell_type": "markdown",
   "id": "537bce55-7404-4e33-b02c-965312c54a91",
   "metadata": {
    "papermill": {},
    "tags": []
   },
   "source": [
    "## Output"
   ]
  },
  {
   "cell_type": "markdown",
   "id": "2caa4ef7-34fd-4660-834a-0271fe67dad4",
   "metadata": {
    "papermill": {},
    "tags": []
   },
   "source": [
    "### Display result"
   ]
  },
  {
   "cell_type": "code",
   "execution_count": null,
   "id": "259bd2b6-8f62-4255-a407-89a543eaaacb",
   "metadata": {
    "papermill": {},
    "tags": []
   },
   "outputs": [],
   "source": [
    "result = get_metrics_for_bitlink_by_referrers(access_token, bitlink)\n",
    "pprint(result)"
   ]
  },
  {
   "cell_type": "markdown",
   "id": "2b12c64a-4584-48c6-a4fe-1e14fd96d3b1",
   "metadata": {
    "papermill": {},
    "tags": []
   },
   "source": [
    " "
   ]
  }
 ],
 "metadata": {
  "kernelspec": {
   "display_name": "Python 3",
   "language": "python",
   "name": "python3"
  },
  "language_info": {
   "codemirror_mode": {
    "name": "ipython",
    "version": 3
   },
   "file_extension": ".py",
   "mimetype": "text/x-python",
   "name": "python",
   "nbconvert_exporter": "python",
   "pygments_lexer": "ipython3",
   "version": "3.9.6"
  },
  "papermill": {
   "default_parameters": {},
   "environment_variables": {},
   "parameters": {},
   "version": "2.4.0"
  },
  "widgets": {
   "application/vnd.jupyter.widget-state+json": {
    "state": {},
    "version_major": 2,
    "version_minor": 0
   }
  }
 },
 "nbformat": 4,
 "nbformat_minor": 5
}