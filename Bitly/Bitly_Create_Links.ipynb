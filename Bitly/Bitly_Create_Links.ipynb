{
 "cells": [
  {
   "cell_type": "markdown",
   "id": "eac449cf-1898-450c-8ac9-2cf37364f488",
   "metadata": {
    "papermill": {},
    "tags": []
   },
   "source": [
    "<img width=\"10%\" alt=\"Naas\" src=\"https://landen.imgix.net/jtci2pxwjczr/assets/5ice39g4.png?w=160\"/>"
   ]
  },
  {
   "cell_type": "markdown",
   "id": "c410dc9d-1175-4aa9-9932-448a096c67d9",
   "metadata": {
    "papermill": {},
    "tags": []
   },
   "source": [
    "# Bitly - Create Links\n",
    "<a href=\"https://app.naas.ai/user-redirect/naas/downloader?url=https://raw.githubusercontent.com/jupyter-naas/awesome-notebooks/master/Bitly/Bitly_Create_Links.ipynb\" target=\"_parent\"><img src=\"https://naasai-public.s3.eu-west-3.amazonaws.com/Open_in_Naas_Lab.svg\"/></a><br><br><a href=\"https://github.com/jupyter-naas/awesome-notebooks/issues/new?assignees=&labels=&template=template-request.md&title=Tool+-+Action+of+the+notebook+\">Template request</a> | <a href=\"https://github.com/jupyter-naas/awesome-notebooks/issues/new?assignees=&labels=bug&template=bug_report.md&title=Bitly+-+Create+Links:+Error+short+description\">Bug report</a> | <a href=\"https://app.naas.ai/user-redirect/naas/downloader?url=https://raw.githubusercontent.com/jupyter-naas/awesome-notebooks/master/Naas/Naas_Start_data_product.ipynb\" target=\"_parent\">Generate Data Product</a>"
   ]
  },
  {
   "cell_type": "markdown",
   "id": "925b1873-ab59-4a2c-836d-f9a5a138df50",
   "metadata": {
    "papermill": {},
    "tags": []
   },
   "source": [
    "**Tags:** #bitly #link #shorten #url #create #python"
   ]
  },
  {
   "cell_type": "markdown",
   "id": "060696a8-252b-439e-96b4-c8a855eb0cc3",
   "metadata": {
    "papermill": {},
    "tags": []
   },
   "source": [
    "**Author:** [Florent Ravenel](https://www.linkedin.com/in/florent-ravenel/)"
   ]
  },
  {
   "cell_type": "markdown",
   "id": "0914cc6d-920a-4d04-8fc7-daf981a19580",
   "metadata": {
    "papermill": {},
    "tags": []
   },
   "source": [
    "**Description:** This notebook will show how to create short links with Bitly."
   ]
  },
  {
   "cell_type": "markdown",
   "id": "301eb053-dea3-4cf7-b3a8-4c468e490af5",
   "metadata": {
    "papermill": {},
    "tags": []
   },
   "source": [
    "<u>References:</u>\n",
    "- [Bitly Documentation](https://dev.bitly.com/v4_documentation.html)\n",
    "- [Bitly API](https://dev.bitly.com/get_started.html)"
   ]
  },
  {
   "cell_type": "markdown",
   "id": "f90de099-337c-44ab-8247-9de483b9d617",
   "metadata": {
    "papermill": {},
    "tags": []
   },
   "source": [
    "## Input"
   ]
  },
  {
   "cell_type": "markdown",
   "id": "7ebfa77d-23f8-48de-987a-62137a1cb64b",
   "metadata": {
    "papermill": {},
    "tags": []
   },
   "source": [
    "### Import libraries"
   ]
  },
  {
   "cell_type": "code",
   "execution_count": 1,
   "id": "f5e2477f-1bcb-43c0-923a-eb10a7c8f159",
   "metadata": {
    "papermill": {},
    "tags": []
   },
   "outputs": [],
   "source": [
    "import requests\n",
    "import json"
   ]
  },
  {
   "cell_type": "markdown",
   "id": "6e284a5e-5e88-4d57-8249-8901eb5dabd5",
   "metadata": {
    "papermill": {},
    "tags": []
   },
   "source": [
    "### Setup Variables\n",
    "- `token`: [Generate a Bitly Access Token](https://dev.bitly.com/get_started.html)\n",
    "- `long_url`: URL to be shortened"
   ]
  },
  {
   "cell_type": "code",
   "execution_count": 2,
   "id": "638d00e0-a8b5-4fca-b5ed-4f0851d5de70",
   "metadata": {
    "papermill": {},
    "tags": []
   },
   "outputs": [],
   "source": [
    "token = \"<YOUR_TOKEN_HERE>\"\n",
    "long_url = \"https://www.example.com/\""
   ]
  },
  {
   "cell_type": "markdown",
   "id": "0e856449-69c3-4138-84c7-d00e69e2445e",
   "metadata": {
    "papermill": {},
    "tags": []
   },
   "source": [
    "## Model"
   ]
  },
  {
   "cell_type": "markdown",
   "id": "be6cb366-c305-469c-ae7e-ddc906a2df8b",
   "metadata": {
    "papermill": {},
    "tags": []
   },
   "source": [
    "### Shorten URL"
   ]
  },
  {
   "cell_type": "markdown",
   "id": "d615f148-a8b8-4875-9d8b-bf68ce54194c",
   "metadata": {
    "papermill": {},
    "tags": []
   },
   "source": [
    "This function will use the Bitly API to shorten a given URL."
   ]
  },
  {
   "cell_type": "code",
   "execution_count": 3,
   "id": "e26c62a8-900a-4e9b-b2aa-9cdf8691d684",
   "metadata": {
    "papermill": {},
    "tags": []
   },
   "outputs": [],
   "source": [
    "def shorten_url(token, long_url):\n",
    "    url = \"https://api-ssl.bitly.com/v4/shorten\"\n",
    "    headers = {\"Authorization\": \"Bearer \" + token}\n",
    "    payload = {\"long_url\": long_url}\n",
    "    response = requests.post(url, headers=headers, json=payload)\n",
    "    response_json = response.json()\n",
    "    return response_json[\"link\"]"
   ]
  },
  {
   "cell_type": "markdown",
   "id": "db58e8be-f3ee-4849-822b-eb74fd05b39b",
   "metadata": {
    "papermill": {},
    "tags": []
   },
   "source": [
    "## Output"
   ]
  },
  {
   "cell_type": "markdown",
   "id": "3a22604a-8a27-418f-b541-ded3205d793e",
   "metadata": {
    "papermill": {},
    "tags": []
   },
   "source": [
    "### Display result"
   ]
  },
  {
   "cell_type": "code",
   "execution_count": null,
   "id": "1f4208c5-af13-4718-a4b1-1b929f6b37b0",
   "metadata": {
    "papermill": {},
    "tags": []
   },
   "outputs": [],
   "source": [
    "short_url = shorten_url(token, long_url)\n",
    "print(short_url)"
   ]
  },
  {
   "cell_type": "markdown",
   "id": "2cae1654-d9ad-4e64-8323-bd841220e7a7",
   "metadata": {
    "papermill": {},
    "tags": []
   },
   "source": [
    " "
   ]
  }
 ],
 "metadata": {
  "kernelspec": {
   "display_name": "Python 3",
   "language": "python",
   "name": "python3"
  },
  "language_info": {
   "codemirror_mode": {
    "name": "ipython",
    "version": 3
   },
   "file_extension": ".py",
   "mimetype": "text/x-python",
   "name": "python",
   "nbconvert_exporter": "python",
   "pygments_lexer": "ipython3",
   "version": "3.9.6"
  },
  "naas": {
   "notebook_id": "9f9713992be8f9af16d3e66e5ea4486c72b84576fa7353df24f29f45ca8331aa",
   "notebook_path": "Bitly/Bitly_Create_Links.ipynb"
  },
  "papermill": {
   "default_parameters": {},
   "environment_variables": {},
   "parameters": {},
   "version": "2.4.0"
  },
  "widgets": {
   "application/vnd.jupyter.widget-state+json": {
    "state": {},
    "version_major": 2,
    "version_minor": 0
   }
  }
 },
 "nbformat": 4,
 "nbformat_minor": 5
}