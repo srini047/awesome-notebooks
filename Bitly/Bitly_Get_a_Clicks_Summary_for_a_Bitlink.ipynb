{
 "cells": [
  {
   "cell_type": "markdown",
   "id": "715801ff-41de-4556-a4f4-86a6fbd43ee9",
   "metadata": {
    "papermill": {},
    "tags": []
   },
   "source": [
    "<img width=\"10%\" alt=\"Naas\" src=\"https://landen.imgix.net/jtci2pxwjczr/assets/5ice39g4.png?w=160\"/>"
   ]
  },
  {
   "cell_type": "markdown",
   "id": "15927536-836d-4c6d-83ea-5b61d33d8ba7",
   "metadata": {
    "papermill": {},
    "tags": []
   },
   "source": [
    "# Bitly - Get a Clicks Summary for a Bitlink\n",
    "<a href=\"https://app.naas.ai/user-redirect/naas/downloader?url=https://raw.githubusercontent.com/jupyter-naas/awesome-notebooks/master/Bitly/Bitly_Get_a_Clicks_Summary_for_a_Bitlink.ipynb\" target=\"_parent\"><img src=\"https://naasai-public.s3.eu-west-3.amazonaws.com/Open_in_Naas_Lab.svg\"/></a><br><br><a href=\"https://github.com/jupyter-naas/awesome-notebooks/issues/new?assignees=&labels=&template=template-request.md&title=Tool+-+Action+of+the+notebook+\">Template request</a> | <a href=\"https://github.com/jupyter-naas/awesome-notebooks/issues/new?assignees=&labels=bug&template=bug_report.md&title=Bitly+-+Get+a+Clicks+Summary+for+a+Bitlink:+Error+short+description\">Bug report</a> | <a href=\"https://app.naas.ai/user-redirect/naas/downloader?url=https://raw.githubusercontent.com/jupyter-naas/awesome-notebooks/master/Naas/Naas_Start_data_product.ipynb\" target=\"_parent\">Generate Data Product</a>"
   ]
  },
  {
   "cell_type": "markdown",
   "id": "4da3877e-d6d0-4dc5-8a80-4006c8955e2d",
   "metadata": {
    "papermill": {},
    "tags": []
   },
   "source": [
    "**Tags:** #bitly #api #clicks #summary #bitlink #reference"
   ]
  },
  {
   "cell_type": "markdown",
   "id": "8a0aa433-1adc-4e41-8aa5-e771cabace44",
   "metadata": {
    "papermill": {},
    "tags": []
   },
   "source": [
    "**Author:** [Florent Ravenel](https://www.linkedin.com/in/florent-ravenel/)"
   ]
  },
  {
   "cell_type": "markdown",
   "id": "917ffcd3-e553-4fa0-b3a6-ad1976c43c24",
   "metadata": {
    "papermill": {},
    "tags": []
   },
   "source": [
    "**Description:** This notebook will show how to get a Clicks Summary for a Bitlink using the Bitly API."
   ]
  },
  {
   "cell_type": "markdown",
   "id": "7e594254-5c61-496e-a990-05219bd27138",
   "metadata": {
    "papermill": {},
    "tags": []
   },
   "source": [
    "**References:**\n",
    "- [Bitly API Reference](https://dev.bitly.com/api-reference/#getClicksSummaryForBitlink)\n",
    "- [Bitly Authentication](https://dev.bitly.com/authentication.html)"
   ]
  },
  {
   "cell_type": "markdown",
   "id": "4253af9d-ad21-42da-b342-ed07dc870ab2",
   "metadata": {
    "papermill": {},
    "tags": []
   },
   "source": [
    "## Input"
   ]
  },
  {
   "cell_type": "markdown",
   "id": "91a8f1fe-89b0-443e-8129-5993b550dd5c",
   "metadata": {
    "papermill": {},
    "tags": []
   },
   "source": [
    "### Import libraries"
   ]
  },
  {
   "cell_type": "code",
   "execution_count": null,
   "id": "7d76e832-ce05-4e4d-ba60-dcb30f584989",
   "metadata": {
    "papermill": {},
    "tags": []
   },
   "outputs": [],
   "source": [
    "import requests"
   ]
  },
  {
   "cell_type": "markdown",
   "id": "dc385dae-5c6a-468b-a3c8-f77557762ad6",
   "metadata": {
    "papermill": {},
    "tags": []
   },
   "source": [
    "### Setup Variables\n",
    "- `token`: [Bitly Authentication](https://dev.bitly.com/authentication.html)\n",
    "- `bitlink`: Bitlink to get the Clicks Summary"
   ]
  },
  {
   "cell_type": "code",
   "execution_count": null,
   "id": "8951ce10-e6de-4119-b47e-76d60652841d",
   "metadata": {
    "papermill": {},
    "tags": []
   },
   "outputs": [],
   "source": [
    "token = \"<YOUR_TOKEN>\"\n",
    "bitlink = \"<YOUR_BITLINK>\""
   ]
  },
  {
   "cell_type": "markdown",
   "id": "1a4c6817-1f01-43fb-a2af-7b19f67df884",
   "metadata": {
    "papermill": {},
    "tags": []
   },
   "source": [
    "## Model"
   ]
  },
  {
   "cell_type": "markdown",
   "id": "a68b8623-20f6-417f-9440-ee87d005aff2",
   "metadata": {
    "papermill": {},
    "tags": []
   },
   "source": [
    "### Get Clicks Summary for a Bitlink"
   ]
  },
  {
   "cell_type": "markdown",
   "id": "7b6231ab-932f-4264-b912-977c47256b33",
   "metadata": {
    "papermill": {},
    "tags": []
   },
   "source": [
    "This function will get a Clicks Summary for a Bitlink using the Bitly API."
   ]
  },
  {
   "cell_type": "code",
   "execution_count": null,
   "id": "e959b46c-6357-404a-825a-aa8b40fa038a",
   "metadata": {
    "papermill": {},
    "tags": []
   },
   "outputs": [],
   "source": [
    "def get_clicks_summary_for_bitlink(token, bitlink):\n",
    "    url = f\"https://api-ssl.bitly.com/v4/bitlinks/{bitlink}/clicks/summary\"\n",
    "    headers = {\"Authorization\": f\"Bearer {token}\"}\n",
    "    response = requests.get(url, headers=headers)\n",
    "    return response.json()"
   ]
  },
  {
   "cell_type": "markdown",
   "id": "830ac5bd-4557-479a-87a2-18d3d3ab618a",
   "metadata": {
    "papermill": {},
    "tags": []
   },
   "source": [
    "## Output"
   ]
  },
  {
   "cell_type": "markdown",
   "id": "a92c4ecf-bdc3-48b3-b9da-74a7d25e5db8",
   "metadata": {
    "papermill": {},
    "tags": []
   },
   "source": [
    "### Display result"
   ]
  },
  {
   "cell_type": "code",
   "execution_count": null,
   "id": "b9599ccd-23d7-4488-837c-95af632141ce",
   "metadata": {
    "papermill": {},
    "tags": []
   },
   "outputs": [],
   "source": [
    "clicks_summary = get_clicks_summary_for_bitlink(token, bitlink)\n",
    "clicks_summary"
   ]
  },
  {
   "cell_type": "markdown",
   "id": "e7d2786c-12ef-4bdc-9daa-dda1d936c82a",
   "metadata": {
    "papermill": {},
    "tags": []
   },
   "source": [
    " "
   ]
  }
 ],
 "metadata": {
  "kernelspec": {
   "display_name": "Python 3",
   "language": "python",
   "name": "python3"
  },
  "language_info": {
   "codemirror_mode": {
    "name": "ipython",
    "version": 3
   },
   "file_extension": ".py",
   "mimetype": "text/x-python",
   "name": "python",
   "nbconvert_exporter": "python",
   "pygments_lexer": "ipython3",
   "version": "3.9.6"
  },
  "naas": {
   "notebook_id": "b3fa30866ed0675034945aa524ab4cf0cdd9935b491ef7df58d789a7aa1717c4",
   "notebook_path": "Bitly/Bitly_Get_a_Clicks_Summary_for_a_Bitlink.ipynb"
  },
  "papermill": {
   "default_parameters": {},
   "environment_variables": {},
   "parameters": {},
   "version": "2.4.0"
  },
  "widgets": {
   "application/vnd.jupyter.widget-state+json": {
    "state": {},
    "version_major": 2,
    "version_minor": 0
   }
  }
 },
 "nbformat": 4,
 "nbformat_minor": 5
}