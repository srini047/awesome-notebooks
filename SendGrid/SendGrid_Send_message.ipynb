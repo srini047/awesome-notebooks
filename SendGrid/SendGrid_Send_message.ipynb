{
 "cells": [
  {
   "cell_type": "markdown",
   "id": "85db721e-2267-40ca-ac5b-00c08ec10ff0",
   "metadata": {
    "papermill": {},
    "tags": []
   },
   "source": [
    "<img width=\"10%\" alt=\"Naas\" src=\"https://landen.imgix.net/jtci2pxwjczr/assets/5ice39g4.png?w=160\"/>"
   ]
  },
  {
   "cell_type": "markdown",
   "id": "2ba2f665-d276-4881-81f8-c9524f75796b",
   "metadata": {
    "papermill": {},
    "tags": []
   },
   "source": [
    "# SendGrid - Send message\n",
    "<a href=\"https://app.naas.ai/user-redirect/naas/downloader?url=https://raw.githubusercontent.com/jupyter-naas/awesome-notebooks/master/SendGrid/SendGrid_Send_message.ipynb\" target=\"_parent\"><img src=\"https://naasai-public.s3.eu-west-3.amazonaws.com/Open_in_Naas_Lab.svg\"/></a><br><br><a href=\"https://github.com/jupyter-naas/awesome-notebooks/issues/new?assignees=&labels=&template=template-request.md&title=Tool+-+Action+of+the+notebook+\">Template request</a> | <a href=\"https://github.com/jupyter-naas/awesome-notebooks/issues/new?assignees=&labels=bug&template=bug_report.md&title=SendGrid+-+Send+message:+Error+short+description\">Bug report</a> | <a href=\"https://app.naas.ai/user-redirect/naas/downloader?url=https://raw.githubusercontent.com/jupyter-naas/awesome-notebooks/master/Naas/Naas_Start_data_product.ipynb\" target=\"_parent\">Generate Data Product</a>"
   ]
  },
  {
   "cell_type": "markdown",
   "id": "b55448ec-bd35-4884-b72f-a06a3f12c914",
   "metadata": {
    "papermill": {},
    "tags": []
   },
   "source": [
    "**Tags:** #sendgrid #message #snippet #operations"
   ]
  },
  {
   "cell_type": "markdown",
   "id": "b025116f-fd57-40ae-81db-99d9dbc30445",
   "metadata": {
    "papermill": {},
    "tags": []
   },
   "source": [
    "**Author:** [Sanjeet Attili](https://linkedin.com/in/sanjeet-attili-760bab190/)"
   ]
  },
  {
   "cell_type": "markdown",
   "id": "naas-description",
   "metadata": {
    "papermill": {},
    "tags": [
     "description"
    ]
   },
   "source": [
    "**Description:** This notebook allows you to send messages using SendGrid's email delivery service."
   ]
  },
  {
   "cell_type": "markdown",
   "id": "ec2132f6-bf89-4236-8ac7-0c207f8f03b1",
   "metadata": {
    "papermill": {},
    "tags": []
   },
   "source": [
    "## Input"
   ]
  },
  {
   "cell_type": "markdown",
   "id": "81f26c9b-0c3c-4cf8-ad50-dc67e6329ba1",
   "metadata": {
    "papermill": {},
    "tags": []
   },
   "source": [
    "### Imports"
   ]
  },
  {
   "cell_type": "code",
   "execution_count": null,
   "id": "26c428b4-66f4-48a4-82db-ff24cdec1782",
   "metadata": {
    "papermill": {},
    "tags": []
   },
   "outputs": [],
   "source": [
    "import requests\n",
    "from sendgrid import SendGridAPIClient\n",
    "from sendgrid.helpers.mail import *"
   ]
  },
  {
   "cell_type": "markdown",
   "id": "392e708f-7c32-45d7-8937-382c9651fc0f",
   "metadata": {
    "papermill": {},
    "tags": []
   },
   "source": [
    "### Setup SendGrid\n",
    "👉 Get your [api key](https://app.sendgrid.com/settings/api_keys)"
   ]
  },
  {
   "cell_type": "code",
   "execution_count": null,
   "id": "2de7b1bc-5ec9-4fa7-b89f-3f72f1b9a5e0",
   "metadata": {
    "papermill": {},
    "tags": []
   },
   "outputs": [],
   "source": [
    "SENDGRID_API_KEY = \"\""
   ]
  },
  {
   "cell_type": "markdown",
   "id": "12550bc3-82b5-4b9d-88ac-708f66834c4c",
   "metadata": {
    "papermill": {},
    "tags": []
   },
   "source": [
    "### Setup your parameters"
   ]
  },
  {
   "cell_type": "code",
   "execution_count": null,
   "id": "e51067ce-e7f8-4e51-b660-af10a25e01ca",
   "metadata": {
    "papermill": {},
    "tags": []
   },
   "outputs": [],
   "source": [
    "# Email senders and receivers\n",
    "email_from = \"\"\n",
    "email_from_name = None  # custom email from name, 24 char max\n",
    "email_to = \"\"\n",
    "email_to_name = None  # custom email from name\n",
    "email_to_cc = None  # emails in copy\n",
    "\n",
    "# Email content\n",
    "subject = \"Test SendGrid\"\n",
    "content = \"Hi there, Best regards!\""
   ]
  },
  {
   "cell_type": "markdown",
   "id": "a180347f-a2e1-44b2-bce0-775c7ac63b04",
   "metadata": {
    "papermill": {},
    "tags": []
   },
   "source": [
    "## Model"
   ]
  },
  {
   "cell_type": "markdown",
   "id": "bd3d2b4a-8946-4a45-882b-caf6c843d15c",
   "metadata": {
    "papermill": {},
    "tags": []
   },
   "source": [
    "### Sending mails via sendgrid"
   ]
  },
  {
   "cell_type": "code",
   "execution_count": null,
   "id": "6b6790a3-81ae-454d-b036-20e9f735c4e5",
   "metadata": {
    "papermill": {},
    "tags": []
   },
   "outputs": [],
   "source": [
    "def send_email(\n",
    "    email_from,\n",
    "    email_to,\n",
    "    subject,\n",
    "    content,\n",
    "    email_to_cc=None,\n",
    "    email_from_name=None,\n",
    "    email_to_name=None,\n",
    "    content_type=\"text/plain\",\n",
    "):\n",
    "\n",
    "    # Connect to SendGrid\n",
    "    SG = SendGridAPIClient(api_key=SENDGRID_API_KEY)\n",
    "\n",
    "    from_email = Email(email_from, name=email_from_name)\n",
    "    to_email = To(email_to, name=email_to_name)\n",
    "    cc_email = Cc(email=email_to_cc)\n",
    "    content = Content(content_type, content)\n",
    "\n",
    "    mail = Mail(from_email, to_email, subject, content)\n",
    "    if email_to_cc is not None:\n",
    "        mail.add_cc(cc_email)\n",
    "    try:\n",
    "        res = SG.client.mail.send.post(request_body=mail.get())\n",
    "        if res.status_code == 202:\n",
    "            print(f\"📧 Email successfully sent to {email_to}\")\n",
    "    except requests.HTTPError as e:\n",
    "        raise (e)"
   ]
  },
  {
   "cell_type": "markdown",
   "id": "6109e162-ea7e-4db3-bb71-41c5e1403ea1",
   "metadata": {
    "papermill": {},
    "tags": []
   },
   "source": [
    "## Output"
   ]
  },
  {
   "cell_type": "markdown",
   "id": "b54a2952-c67e-418b-b491-40162fb75477",
   "metadata": {
    "papermill": {},
    "tags": []
   },
   "source": [
    "### Send the mail"
   ]
  },
  {
   "cell_type": "code",
   "execution_count": null,
   "id": "0ecdcb09-5d89-41dc-bf94-dfd4288644ef",
   "metadata": {
    "papermill": {},
    "tags": []
   },
   "outputs": [],
   "source": [
    "send_email(\n",
    "    email_from=email_from,\n",
    "    email_to=email_to,\n",
    "    subject=subject,\n",
    "    content=content,\n",
    "    email_to_cc=email_to_cc,\n",
    "    email_from_name=email_from_name,\n",
    "    email_to_name=email_to_name,\n",
    ")"
   ]
  }
 ],
 "metadata": {
  "kernelspec": {
   "display_name": "Python 3",
   "language": "python",
   "name": "python3"
  },
  "language_info": {
   "codemirror_mode": {
    "name": "ipython",
    "version": 3
   },
   "file_extension": ".py",
   "mimetype": "text/x-python",
   "name": "python",
   "nbconvert_exporter": "python",
   "pygments_lexer": "ipython3",
   "version": "3.9.6"
  },
  "naas": {
   "notebook_id": "49126dfdadde535c9004cb89b3c0e4c1fea355ea72a5e9f019fc99086ba4befc",
   "notebook_path": "SendGrid/SendGrid_Send_message.ipynb"
  },
  "papermill": {
   "default_parameters": {},
   "environment_variables": {},
   "parameters": {},
   "version": "2.3.4"
  }
 },
 "nbformat": 4,
 "nbformat_minor": 5
}