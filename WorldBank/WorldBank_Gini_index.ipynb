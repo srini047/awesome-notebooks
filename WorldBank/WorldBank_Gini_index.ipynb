{
 "cells": [
  {
   "cell_type": "markdown",
   "id": "adc3001d-97b8-4db6-b2fb-6fdd22a4900c",
   "metadata": {
    "papermill": {},
    "tags": []
   },
   "source": [
    "<img width=\"10%\" alt=\"Naas\" src=\"https://landen.imgix.net/jtci2pxwjczr/assets/5ice39g4.png?w=160\"/>"
   ]
  },
  {
   "cell_type": "markdown",
   "id": "funny-capital",
   "metadata": {
    "colab_type": "text",
    "id": "view-in-github",
    "papermill": {},
    "tags": []
   },
   "source": [
    "# WorldBank - Gini index\n",
    "<a href=\"https://app.naas.ai/user-redirect/naas/downloader?url=https://raw.githubusercontent.com/jupyter-naas/awesome-notebooks/master/WorldBank/WorldBank_Gini_index.ipynb\" target=\"_parent\"><img src=\"https://naasai-public.s3.eu-west-3.amazonaws.com/open_in_naas.svg\"/></a><br><br><a href=\"https://github.com/jupyter-naas/awesome-notebooks/issues/new?assignees=&labels=&template=template-request.md&title=Tool+-+Action+of+the+notebook+\">Template request</a> | <a href=\"https://github.com/jupyter-naas/awesome-notebooks/issues/new?assignees=&labels=bug&template=bug_report.md&title=WorldBank+-+Gini+index:+Error+short+description\">Bug report</a>"
   ]
  },
  {
   "cell_type": "markdown",
   "id": "7859715e-96e4-4eba-8d62-12b2f34d6c43",
   "metadata": {
    "papermill": {},
    "tags": []
   },
   "source": [
    "**Tags:** #worldbank #opendata #snippet #plotly"
   ]
  },
  {
   "cell_type": "markdown",
   "id": "naas-author",
   "metadata": {
    "papermill": {},
    "tags": [
     "naas"
    ]
   },
   "source": [
    "**Author:** [Jeremy Ravenel](https://www.linkedin.com/in/ACoAAAJHE7sB5OxuKHuzguZ9L6lfDHqw--cdnJg/)"
   ]
  },
  {
   "cell_type": "markdown",
   "id": "naas-description",
   "metadata": {
    "papermill": {},
    "tags": [
     "description"
    ]
   },
   "source": [
    "**Description:** This notebook provides an analysis of the Gini index, a measure of income inequality, from the World Bank."
   ]
  },
  {
   "cell_type": "markdown",
   "id": "input_cell",
   "metadata": {
    "papermill": {},
    "tags": []
   },
   "source": [
    "## Input"
   ]
  },
  {
   "cell_type": "markdown",
   "id": "import_cell",
   "metadata": {
    "papermill": {},
    "tags": []
   },
   "source": [
    "### Import library"
   ]
  },
  {
   "cell_type": "code",
   "execution_count": 1,
   "id": "accompanied-documentary",
   "metadata": {
    "colab": {},
    "colab_type": "code",
    "id": "ZwaKnD6LvK7A",
    "papermill": {},
    "tags": []
   },
   "outputs": [],
   "source": [
    "import pandas as pd\n",
    "from pandas_datareader import wb\n",
    "import plotly.graph_objects as go\n",
    "import plotly.express as px"
   ]
  },
  {
   "cell_type": "markdown",
   "id": "model_cell",
   "metadata": {
    "papermill": {},
    "tags": []
   },
   "source": [
    "## Model"
   ]
  },
  {
   "cell_type": "markdown",
   "id": "laden-decimal",
   "metadata": {
    "colab_type": "text",
    "id": "C_kAdrt1HgIp",
    "papermill": {},
    "tags": []
   },
   "source": [
    "### Get the association between the country and the ISO code"
   ]
  },
  {
   "cell_type": "code",
   "execution_count": 2,
   "id": "completed-thumb",
   "metadata": {
    "colab": {
     "base_uri": "https://localhost:8080/",
     "height": 402
    },
    "colab_type": "code",
    "id": "DhtRoZwU5iFO",
    "outputId": "f31be84e-d5ab-466f-cd52-9eca4b0ed5c3",
    "papermill": {},
    "tags": []
   },
   "outputs": [],
   "source": [
    "countries = wb.get_countries()\n",
    "countries = countries[[\"name\", \"iso3c\"]]\n",
    "countries.columns = [\"country\", \"iso3c\"]\n",
    "countries"
   ]
  },
  {
   "cell_type": "markdown",
   "id": "manual-sessions",
   "metadata": {
    "colab_type": "text",
    "id": "fFK9AWVdHxMw",
    "papermill": {},
    "tags": []
   },
   "source": [
    "### Get gini index indicator per country"
   ]
  },
  {
   "cell_type": "code",
   "execution_count": 3,
   "id": "forty-trade",
   "metadata": {
    "colab": {
     "base_uri": "https://localhost:8080/",
     "height": 431
    },
    "colab_type": "code",
    "id": "nWcEWO2g6FWc",
    "outputId": "955ff09a-e9bc-469c-edf9-8d1ef1f31085",
    "papermill": {},
    "tags": []
   },
   "outputs": [],
   "source": [
    "indicators = wb.download(indicator=[\"SI.POV.GINI\"], country=\"all\", start=1967, end=2018)\n",
    "indicators.columns = [\"GINI_INDEX\"]\n",
    "indicators"
   ]
  },
  {
   "cell_type": "markdown",
   "id": "supreme-hudson",
   "metadata": {
    "colab_type": "text",
    "id": "kAQIQewOIB1T",
    "papermill": {},
    "tags": []
   },
   "source": [
    "### Merge previous tables"
   ]
  },
  {
   "cell_type": "code",
   "execution_count": 4,
   "id": "nasty-columbia",
   "metadata": {
    "colab": {
     "base_uri": "https://localhost:8080/",
     "height": 431
    },
    "colab_type": "code",
    "id": "BnruJ8fFw752",
    "outputId": "fa53f7c9-5793-4e88-fe3c-7b8aa388f658",
    "papermill": {},
    "tags": []
   },
   "outputs": [],
   "source": [
    "master_table = pd.merge(\n",
    "    indicators.reset_index(), countries, left_on=\"country\", right_on=\"country\"\n",
    ")\n",
    "master_table = master_table.set_index([\"country\", \"iso3c\", \"year\"])\n",
    "master_table"
   ]
  },
  {
   "cell_type": "markdown",
   "id": "rolled-regression",
   "metadata": {
    "colab_type": "text",
    "id": "Qyfcw-bl-45_",
    "papermill": {},
    "tags": []
   },
   "source": [
    "### Pivot previous table and fill in undefined values with values from previous years"
   ]
  },
  {
   "cell_type": "code",
   "execution_count": 5,
   "id": "meaningful-rapid",
   "metadata": {
    "colab": {
     "base_uri": "https://localhost:8080/",
     "height": 502
    },
    "colab_type": "code",
    "id": "N0FaL0qA_FgM",
    "outputId": "afde1c99-bf54-4476-af7a-4d450c73bfcb",
    "papermill": {},
    "tags": []
   },
   "outputs": [],
   "source": [
    "pivoted_table = pd.pivot_table(\n",
    "    master_table, index=[\"country\", \"iso3c\"], columns=\"year\", values=\"GINI_INDEX\"\n",
    ")\n",
    "pivoted_table = pivoted_table.ffill(axis=1)\n",
    "pivoted_table"
   ]
  },
  {
   "cell_type": "markdown",
   "id": "fluid-villa",
   "metadata": {
    "colab_type": "text",
    "id": "JqJwPca9NjXD",
    "papermill": {},
    "tags": []
   },
   "source": [
    "### Show a map of gini index per country over the years (from 1969 to 2018)"
   ]
  },
  {
   "cell_type": "code",
   "execution_count": 6,
   "id": "mysterious-canal",
   "metadata": {
    "colab": {
     "base_uri": "https://localhost:8080/",
     "height": 817
    },
    "colab_type": "code",
    "id": "V-ixkyhq_VcR",
    "outputId": "0098c743-bc81-4f48-8a4d-801ddbd06640",
    "papermill": {},
    "tags": []
   },
   "outputs": [],
   "source": [
    "pivoted_table = pd.pivot_table(\n",
    "    master_table, index=[\"country\", \"iso3c\"], columns=\"year\", values=\"GINI_INDEX\"\n",
    ")\n",
    "pivoted_table = pivoted_table.ffill(axis=1)\n",
    "countries = list(pivoted_table.index.get_level_values(0))\n",
    "locations = list(pivoted_table.index.get_level_values(1))\n",
    "\n",
    "data = []\n",
    "steps = []\n",
    "i = 0\n",
    "for year in pivoted_table.columns:\n",
    "    data.append(\n",
    "        dict(\n",
    "            type=\"choropleth\",\n",
    "            name=\"\",\n",
    "            locations=locations,\n",
    "            z=pivoted_table[year],\n",
    "            hovertext=countries,\n",
    "            colorscale=px.colors.sequential.Reds,\n",
    "            visible=year == \"2018\",\n",
    "        )\n",
    "    )\n",
    "\n",
    "    step = dict(\n",
    "        method=\"restyle\",\n",
    "        args=[\"visible\", [False] * len(pivoted_table.columns)],\n",
    "        label=year,\n",
    "    )\n",
    "    step[\"args\"][1][i] = True\n",
    "    steps.append(step)\n",
    "\n",
    "    i = i + 1\n",
    "\n",
    "layout = go.Layout(\n",
    "    title=dict(\n",
    "        text=\"Evolution of the gini index from 1969 to 2018\",\n",
    "        x=0.5,\n",
    "        font=dict(\n",
    "            size=21,\n",
    "        ),\n",
    "    ),\n",
    "    sliders=[dict(steps=steps, active=len(data) - 1)],\n",
    "    annotations=[\n",
    "        dict(text=\"Updated in 2018 from The World Bank\", showarrow=False, x=1, y=-0.05)\n",
    "    ],\n",
    "    autosize=True,\n",
    "    height=800,\n",
    ")\n",
    "\n",
    "fig = go.Figure(data, layout)\n",
    "fig"
   ]
  },
  {
   "cell_type": "markdown",
   "id": "output_cell",
   "metadata": {
    "papermill": {},
    "tags": []
   },
   "source": [
    "## Output"
   ]
  },
  {
   "cell_type": "markdown",
   "id": "decent-cleanup",
   "metadata": {
    "colab_type": "text",
    "id": "yIXzZ2Lalnax",
    "papermill": {},
    "tags": []
   },
   "source": [
    "### Export HTML"
   ]
  },
  {
   "cell_type": "code",
   "execution_count": 7,
   "id": "bacterial-facing",
   "metadata": {
    "colab": {},
    "colab_type": "code",
    "id": "2Hw4ojMAk5xm",
    "papermill": {},
    "tags": []
   },
   "outputs": [],
   "source": [
    "fig.write_html(\"file.html\")"
   ]
  }
 ],
 "metadata": {
  "colab": {
   "collapsed_sections": [],
   "include_colab_link": true,
   "name": "20200424_07_BERLIN_final2.ipynb",
   "provenance": []
  },
  "kernelspec": {
   "display_name": "Python 3",
   "language": "python",
   "name": "python3"
  },
  "language_info": {
   "codemirror_mode": {
    "name": "ipython",
    "version": 3
   },
   "file_extension": ".py",
   "mimetype": "text/x-python",
   "name": "python",
   "nbconvert_exporter": "python",
   "pygments_lexer": "ipython3",
   "version": "3.9.6"
  },
  "naas": {
   "notebook_id": "404b5339-1f25-4321-bfd7-d245b590e642",
   "notebook_path": "WorldBank/WorldBank_Gini_index.ipynb"
  },
  "papermill": {
   "default_parameters": {},
   "environment_variables": {},
   "parameters": {},
   "version": "2.3.3"
  }
 },
 "nbformat": 4,
 "nbformat_minor": 5
}