{
 "cells": [
  {
   "cell_type": "markdown",
   "id": "marine-advocate",
   "metadata": {
    "papermill": {},
    "tags": []
   },
   "source": [
    "<img width=\"10%\" alt=\"Naas\" src=\"https://landen.imgix.net/jtci2pxwjczr/assets/5ice39g4.png?w=160\"/>"
   ]
  },
  {
   "cell_type": "markdown",
   "id": "controlled-aberdeen",
   "metadata": {
    "colab_type": "text",
    "id": "I4Bx9S3z42SU",
    "papermill": {},
    "tags": []
   },
   "source": [
    "# WorldBank - World population and density\n",
    "<a href=\"https://app.naas.ai/user-redirect/naas/downloader?url=https://raw.githubusercontent.com/jupyter-naas/awesome-notebooks/master/WorldBank/WorldBank_World_population_and_density.ipynb\" target=\"_parent\"><img src=\"https://naasai-public.s3.eu-west-3.amazonaws.com/Open_in_Naas_Lab.svg\"/></a><br><br><a href=\"https://github.com/jupyter-naas/awesome-notebooks/issues/new?assignees=&labels=&template=template-request.md&title=Tool+-+Action+of+the+notebook+\">Template request</a> | <a href=\"https://github.com/jupyter-naas/awesome-notebooks/issues/new?assignees=&labels=bug&template=bug_report.md&title=WorldBank+-+World+population+and+density:+Error+short+description\">Bug report</a> | <a href=\"https://app.naas.ai/user-redirect/naas/downloader?url=https://raw.githubusercontent.com/jupyter-naas/awesome-notebooks/master/Naas/Naas_Start_data_product.ipynb\" target=\"_parent\">Generate Data Product</a>"
   ]
  },
  {
   "cell_type": "markdown",
   "id": "ac48d0f8-54ca-41d0-8f32-77d602cc52d0",
   "metadata": {
    "papermill": {},
    "tags": []
   },
   "source": [
    "**Tags:** #worldbank #opendata #snippet #plotly"
   ]
  },
  {
   "cell_type": "markdown",
   "id": "naas-author",
   "metadata": {
    "papermill": {},
    "tags": [
     "naas"
    ]
   },
   "source": [
    "**Author:** [Jeremy Ravenel](https://www.linkedin.com/in/ACoAAAJHE7sB5OxuKHuzguZ9L6lfDHqw--cdnJg/)"
   ]
  },
  {
   "cell_type": "markdown",
   "id": "naas-description",
   "metadata": {
    "papermill": {},
    "tags": [
     "description"
    ]
   },
   "source": [
    "**Description:** This notebook provides an analysis of the world population and population density data from the World Bank."
   ]
  },
  {
   "cell_type": "markdown",
   "id": "input_cell",
   "metadata": {
    "papermill": {},
    "tags": []
   },
   "source": [
    "## Input"
   ]
  },
  {
   "cell_type": "markdown",
   "id": "import_cell",
   "metadata": {
    "papermill": {},
    "tags": []
   },
   "source": [
    "### Import library"
   ]
  },
  {
   "cell_type": "code",
   "execution_count": 1,
   "id": "three-contribution",
   "metadata": {
    "colab": {},
    "colab_type": "code",
    "id": "DxrfUeHENcPX",
    "papermill": {},
    "tags": []
   },
   "outputs": [],
   "source": [
    "import pandas as pd\n",
    "import numpy as np\n",
    "import plotly.express as px\n",
    "\n",
    "# Options pour afficher plus de données sur le retour console\n",
    "# pd.set_option(\"display.max_rows\", 10)\n",
    "# pd.set_option(\"display.max_columns\", 10)"
   ]
  },
  {
   "cell_type": "markdown",
   "id": "model_cell",
   "metadata": {
    "papermill": {},
    "tags": []
   },
   "source": [
    "## Model"
   ]
  },
  {
   "cell_type": "markdown",
   "id": "f36e5db2-bacf-4d88-8b73-b49ae64af41d",
   "metadata": {
    "papermill": {},
    "tags": []
   },
   "source": [
    "### Get the data from an excel file"
   ]
  },
  {
   "cell_type": "code",
   "execution_count": 2,
   "id": "resident-thriller",
   "metadata": {
    "colab": {
     "base_uri": "https://localhost:8080/",
     "height": 565
    },
    "colab_type": "code",
    "id": "UofDdnm4MIuq",
    "outputId": "050d0a1e-0184-4b38-9e16-9059cfc0de7d",
    "papermill": {},
    "tags": []
   },
   "outputs": [],
   "source": [
    "years = list(map(lambda a: str(a), range(1950, 2020, 1)))\n",
    "usecols = [\"Region, subregion, country or area *\", \"Country code\", \"Type\", *years]\n",
    "renamed_population_columns = {}\n",
    "renamed_density_columns = {}\n",
    "\n",
    "xls_populations = pd.read_excel(\n",
    "    \"https://population.un.org/wpp/Download/Files/1_Indicators%20(Standard)/EXCEL_FILES/1_Population/WPP2019_POP_F01_1_TOTAL_POPULATION_BOTH_SEXES.xlsx\",\n",
    "    header=16,\n",
    "    encoding=\"utf-8\",\n",
    "    usecols=usecols,\n",
    ")\n",
    "\n",
    "# Pour chaque année on vient créer une colonne \"population_{année}\" dans notre dataset\n",
    "for year in years:\n",
    "    xls_populations[year] = pd.to_numeric(xls_populations[year], errors=\"coerce\")\n",
    "    renamed_population_columns[year] = f\"population_{year}\"\n",
    "xls_populations = xls_populations.rename(columns=renamed_population_columns)\n",
    "\n",
    "# On récupère seulement les valeurs du type \"Country/Area\"\n",
    "xls_populations = xls_populations[xls_populations[\"Type\"] == \"Country/Area\"]\n",
    "\n",
    "xls_populations"
   ]
  },
  {
   "cell_type": "code",
   "execution_count": 3,
   "id": "expired-norwegian",
   "metadata": {
    "colab": {
     "base_uri": "https://localhost:8080/",
     "height": 511
    },
    "colab_type": "code",
    "id": "nbSyx5VLcqXj",
    "outputId": "58e7cc92-8240-4373-e831-67b78e53f585",
    "papermill": {},
    "tags": []
   },
   "outputs": [],
   "source": [
    "xls_density = pd.read_excel(\n",
    "    \"https://population.un.org/wpp/Download/Files/1_Indicators%20(Standard)/EXCEL_FILES/1_Population/WPP2019_POP_F06_POPULATION_DENSITY.xlsx\",\n",
    "    header=16,\n",
    "    encoding=\"utf-8\",\n",
    "    usecols=[\"Region, subregion, country or area *\", \"Country code\", \"Type\", *years],\n",
    ")\n",
    "\n",
    "# Pour chaque année on vient créer une colonne \"density_{année}\" dans notre dataset\n",
    "for year in years:\n",
    "    xls_density[year] = pd.to_numeric(xls_density[year], errors=\"coerce\")\n",
    "    renamed_density_columns[year] = f\"density_{year}\"\n",
    "xls_density = xls_density.rename(columns=renamed_density_columns)\n",
    "\n",
    "# On récupère seulement les valeurs du type \"Country/Area\"\n",
    "xls_density = xls_density[xls_density[\"Type\"] == \"Country/Area\"]\n",
    "\n",
    "xls_density"
   ]
  },
  {
   "cell_type": "markdown",
   "id": "flying-bachelor",
   "metadata": {
    "colab_type": "text",
    "id": "WrRESLsCdfK5",
    "papermill": {},
    "tags": []
   },
   "source": [
    "### Dataset assembling"
   ]
  },
  {
   "cell_type": "code",
   "execution_count": 4,
   "id": "crude-cliff",
   "metadata": {
    "colab": {
     "base_uri": "https://localhost:8080/",
     "height": 565
    },
    "colab_type": "code",
    "id": "FgBbj1OHdnmE",
    "outputId": "1cae8173-c4fc-4726-83e1-adb761e530f0",
    "papermill": {},
    "tags": []
   },
   "outputs": [],
   "source": [
    "# On vient concatener le dataset \"Population\" avec le dataset \"Densité\"\n",
    "result = pd.concat([xls_populations, xls_density], sort=False)\n",
    "n = result.index.nlevels\n",
    "xls_global = result.groupby(level=range(n)).first()\n",
    "\n",
    "xls_global"
   ]
  },
  {
   "cell_type": "markdown",
   "id": "comparative-emerald",
   "metadata": {
    "colab_type": "text",
    "id": "zv7lKOUBh-NM",
    "papermill": {},
    "tags": []
   },
   "source": [
    "### Adding the dataset"
   ]
  },
  {
   "cell_type": "code",
   "execution_count": 5,
   "id": "banned-alias",
   "metadata": {
    "colab": {
     "base_uri": "https://localhost:8080/",
     "height": 565
    },
    "colab_type": "code",
    "id": "_dpHETzdiagA",
    "outputId": "f6b876d2-ffe1-430e-e9db-4d91c2c0362d",
    "papermill": {},
    "tags": []
   },
   "outputs": [],
   "source": [
    "# Pour chaque année on vient comparer la population total d'un pays avec celle de l'année N-1 pour en déduire son évolution sur une année\n",
    "for index, year in enumerate(years):\n",
    "    # Suppression des bruits (données non-traitables)\n",
    "    if index is 0:\n",
    "        continue\n",
    "    try:\n",
    "        past_year = str(int(year) - 1)\n",
    "        xls_global[f\"population_growth_{year}\"] = (\n",
    "            (xls_global[f\"population_{year}\"] - xls_global[f\"population_{past_year}\"])\n",
    "            / xls_global[f\"population_{past_year}\"]\n",
    "            * 100\n",
    "        )\n",
    "    except KeyError:\n",
    "        xls_global[f\"population_growth_{year}\"] = np.nan\n",
    "\n",
    "xls_global"
   ]
  },
  {
   "cell_type": "markdown",
   "id": "unable-snake",
   "metadata": {
    "colab_type": "text",
    "id": "S_lCHBALlEQr",
    "papermill": {},
    "tags": []
   },
   "source": [
    "### Creating dataset \"Continents et leurs pays\"\n"
   ]
  },
  {
   "cell_type": "code",
   "execution_count": 6,
   "id": "tight-camping",
   "metadata": {
    "colab": {
     "base_uri": "https://localhost:8080/",
     "height": 424
    },
    "colab_type": "code",
    "id": "kiAmKBvMRJLq",
    "outputId": "dc420423-004f-45fe-8a99-1b3a46d09e65",
    "papermill": {},
    "tags": []
   },
   "outputs": [],
   "source": [
    "# Récupération des continents via l'API RestCountries\n",
    "countries = pd.read_json(\n",
    "    \"https://restcountries.eu/rest/v2/all?fields=region;numericCode\",\n",
    "    dtype={\"numericCode\": int},\n",
    ")\n",
    "countries = countries.rename(\n",
    "    columns={\"region\": \"Region\", \"numericCode\": \"Country code\"}\n",
    ")\n",
    "# Suppression du bruit (données non-traitables)\n",
    "countries = countries.dropna()\n",
    "# On format les données pour qu'elles correspondent au format du dataset global\n",
    "countries[\"Country code\"] = countries[\"Country code\"].replace(regex=r\"^0+\", value=\"\")\n",
    "countries[\"Country code\"] = countries[\"Country code\"].astype(int)\n",
    "\n",
    "countries"
   ]
  },
  {
   "cell_type": "markdown",
   "id": "flush-debut",
   "metadata": {
    "colab_type": "text",
    "id": "DYAv10jECRve",
    "papermill": {},
    "tags": []
   },
   "source": [
    "### Add a column \"Région\" to the global dataset"
   ]
  },
  {
   "cell_type": "code",
   "execution_count": 7,
   "id": "sticky-distribution",
   "metadata": {
    "colab": {
     "base_uri": "https://localhost:8080/",
     "height": 565
    },
    "colab_type": "code",
    "id": "wwpkd_sUk2Wo",
    "outputId": "dcd6fb01-2719-4bfb-a39b-fdcfc3063919",
    "papermill": {},
    "tags": []
   },
   "outputs": [],
   "source": [
    "xls_global = xls_global.join(countries.set_index(\"Country code\"), on=\"Country code\")\n",
    "\n",
    "xls_global"
   ]
  },
  {
   "cell_type": "markdown",
   "id": "facial-wheel",
   "metadata": {
    "colab_type": "text",
    "id": "0wi0HjDF3bv4",
    "papermill": {},
    "tags": []
   },
   "source": [
    "### Formating the display"
   ]
  },
  {
   "cell_type": "code",
   "execution_count": 8,
   "id": "suburban-injection",
   "metadata": {
    "colab": {
     "base_uri": "https://localhost:8080/",
     "height": 424
    },
    "colab_type": "code",
    "id": "b6-ydVJKvwOx",
    "outputId": "3c392af3-6987-4b3e-b388-a3e33f323631",
    "papermill": {},
    "tags": []
   },
   "outputs": [],
   "source": [
    "# Création de l'ensemble final\n",
    "xls_formatted = pd.DataFrame(\n",
    "    columns=[\"COUNTRY\", \"YEAR\", \"POPULATION\", \"POPULATION GROWTH\", \"DENSITY\", \"REGION\"]\n",
    ")\n",
    "\n",
    "\n",
    "for index, line in xls_global.iterrows():\n",
    "    for year in years:\n",
    "        # On ignore 1950 car il n'est pas possible de calculer l'évolution sans les données de 1949\n",
    "        if year == \"1950\":\n",
    "            continue\n",
    "        xls_formatted = xls_formatted.append(\n",
    "            {\n",
    "                \"COUNTRY\": line[\"Region, subregion, country or area *\"],\n",
    "                \"YEAR\": year,\n",
    "                \"POPULATION\": line[f\"population_{year}\"],\n",
    "                \"POPULATION GROWTH\": line[f\"population_growth_{year}\"],\n",
    "                \"DENSITY\": line[f\"density_{year}\"],\n",
    "                \"REGION\": line[\"Region\"],\n",
    "            },\n",
    "            ignore_index=True,\n",
    "        )\n",
    "\n",
    "# Suppression du bruit (données non-traitables)\n",
    "xls_formatted = xls_formatted.dropna()\n",
    "\n",
    "xls_formatted"
   ]
  },
  {
   "cell_type": "markdown",
   "id": "output_cell",
   "metadata": {
    "papermill": {},
    "tags": []
   },
   "source": [
    "## Output"
   ]
  },
  {
   "cell_type": "markdown",
   "id": "tender-syndrome",
   "metadata": {
    "colab_type": "text",
    "id": "awH7f1-Cz9uR",
    "papermill": {},
    "tags": []
   },
   "source": [
    "### Display the plot with plotly"
   ]
  },
  {
   "cell_type": "code",
   "execution_count": 9,
   "id": "surrounded-salon",
   "metadata": {
    "colab": {
     "base_uri": "https://localhost:8080/",
     "height": 542
    },
    "colab_type": "code",
    "id": "-pcpTmW2yDlR",
    "outputId": "ecc09be1-4e5e-403e-c48c-9db06c425bd9",
    "papermill": {},
    "tags": []
   },
   "outputs": [],
   "source": [
    "fig = px.scatter(\n",
    "    xls_formatted,\n",
    "    x=\"DENSITY\",\n",
    "    y=\"POPULATION GROWTH\",\n",
    "    animation_frame=\"YEAR\",\n",
    "    animation_group=\"COUNTRY\",\n",
    "    size=\"POPULATION\",\n",
    "    color=\"REGION\",\n",
    "    hover_name=\"COUNTRY\",\n",
    "    log_x=True,\n",
    "    size_max=60,\n",
    ")\n",
    "fig.show()"
   ]
  }
 ],
 "metadata": {
  "colab": {
   "collapsed_sections": [],
   "include_colab_link": true,
   "name": "20200424_11_DENVER_FINAL1 .ipynb",
   "provenance": []
  },
  "kernelspec": {
   "display_name": "Python 3",
   "language": "python",
   "name": "python3"
  },
  "language_info": {
   "codemirror_mode": {
    "name": "ipython",
    "version": 3
   },
   "file_extension": ".py",
   "mimetype": "text/x-python",
   "name": "python",
   "nbconvert_exporter": "python",
   "pygments_lexer": "ipython3",
   "version": "3.9.6"
  },
  "naas": {
   "notebook_id": "115506753040f989d986e2a3e2f5e36b8bbe12f26be33950b4f3fd46d6334ab7",
   "notebook_path": "WorldBank/WorldBank_World_population_and_density.ipynb"
  },
  "papermill": {
   "default_parameters": {},
   "environment_variables": {},
   "parameters": {},
   "version": "2.3.3"
  }
 },
 "nbformat": 4,
 "nbformat_minor": 5
}