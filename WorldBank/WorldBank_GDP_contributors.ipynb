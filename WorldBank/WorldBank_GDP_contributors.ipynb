{
 "cells": [
  {
   "cell_type": "markdown",
   "id": "naas-logo",
   "metadata": {
    "papermill": {},
    "tags": [
     "naas"
    ]
   },
   "source": [
    "<img width=\"10%\" alt=\"Naas\" src=\"https://landen.imgix.net/jtci2pxwjczr/assets/5ice39g4.png?w=160\"/>"
   ]
  },
  {
   "cell_type": "markdown",
   "id": "unnecessary-melissa",
   "metadata": {
    "papermill": {},
    "tags": []
   },
   "source": [
    "# WorldBank - GDP contributors\n",
    "<a href=\"https://app.naas.ai/user-redirect/naas/downloader?url=https://raw.githubusercontent.com/jupyter-naas/awesome-notebooks/master/WorldBank/WorldBank_GDP_contributors.ipynb\" target=\"_parent\"><img src=\"https://naasai-public.s3.eu-west-3.amazonaws.com/open_in_naas.svg\"/></a><br><br><a href=\"https://github.com/jupyter-naas/awesome-notebooks/issues/new?assignees=&labels=&template=template-request.md&title=Tool+-+Action+of+the+notebook+\">Template request</a> | <a href=\"https://github.com/jupyter-naas/awesome-notebooks/issues/new?assignees=&labels=bug&template=bug_report.md&title=WorldBank+-+GDP+contributors:+Error+short+description\">Bug report</a>"
   ]
  },
  {
   "cell_type": "markdown",
   "id": "9739652a-110f-4be7-9319-9e044abe6a01",
   "metadata": {
    "papermill": {},
    "tags": []
   },
   "source": [
    "**Tags:** #worldbank #opendata #snippet #plotly"
   ]
  },
  {
   "cell_type": "markdown",
   "id": "naas-author",
   "metadata": {
    "papermill": {},
    "tags": [
     "naas"
    ]
   },
   "source": [
    "**Author:** [Jeremy Ravenel](https://www.linkedin.com/in/ACoAAAJHE7sB5OxuKHuzguZ9L6lfDHqw--cdnJg/)"
   ]
  },
  {
   "cell_type": "markdown",
   "id": "naas-description",
   "metadata": {
    "papermill": {},
    "tags": [
     "description"
    ]
   },
   "source": [
    "**Description:** This notebook provides an analysis of the countries and sectors that contribute the most to the World Bank's Gross Domestic Product (GDP)."
   ]
  },
  {
   "cell_type": "markdown",
   "id": "input_cell",
   "metadata": {
    "papermill": {},
    "tags": []
   },
   "source": [
    "## Input"
   ]
  },
  {
   "cell_type": "markdown",
   "id": "import_cell",
   "metadata": {
    "papermill": {},
    "tags": []
   },
   "source": [
    "### Import libraries"
   ]
  },
  {
   "cell_type": "code",
   "execution_count": 1,
   "id": "nearby-transformation",
   "metadata": {
    "colab": {},
    "colab_type": "code",
    "id": "xH5cSxMoPgXZ",
    "papermill": {},
    "tags": []
   },
   "outputs": [],
   "source": [
    "import pandas as pd\n",
    "from pandas_datareader import wb\n",
    "import plotly.graph_objects as go"
   ]
  },
  {
   "cell_type": "markdown",
   "id": "model_cell",
   "metadata": {
    "papermill": {},
    "tags": []
   },
   "source": [
    "## Model"
   ]
  },
  {
   "cell_type": "markdown",
   "id": "molecular-bailey",
   "metadata": {
    "colab_type": "text",
    "id": "j7g0fpjFMONE",
    "papermill": {},
    "tags": []
   },
   "source": [
    "### Data recovery"
   ]
  },
  {
   "cell_type": "code",
   "execution_count": 2,
   "id": "global-summer",
   "metadata": {
    "colab": {},
    "colab_type": "code",
    "id": "8_HVSp5kQVGG",
    "papermill": {},
    "tags": []
   },
   "outputs": [],
   "source": [
    "country = wb.get_countries()[\"iso2c\"]\n",
    "startYear = 2017\n",
    "endYear = startYear + 1\n",
    "\n",
    "# Recupération des valeurs pour World (Initial - Final) GDP/PPL\n",
    "data_gdp_world_2017 = wb.download(\n",
    "    indicator=[\"NY.GDP.PCAP.KD.ZG\"], country=[\"WLD\"], start=startYear, end=startYear\n",
    ")\n",
    "data_gdp_world_2018 = wb.download(\n",
    "    indicator=[\"NY.GDP.PCAP.KD.ZG\"], country=[\"WLD\"], start=endYear, end=endYear\n",
    ")\n",
    "\n",
    "gdp_growth_2017 = data_gdp_world_2017.iloc[0][0]\n",
    "gdp_growth_2018 = data_gdp_world_2018.iloc[0][0]\n",
    "\n",
    "data_gdp_current_year = wb.download(\n",
    "    indicator=[\"NY.GDP.PCAP.KD.ZG\"], country=country, start=endYear, end=endYear\n",
    ")\n",
    "\n",
    "data_gdp_current_year"
   ]
  },
  {
   "cell_type": "markdown",
   "id": "funny-thomas",
   "metadata": {
    "colab_type": "text",
    "id": "zYGzvG7oMdqC",
    "papermill": {},
    "tags": []
   },
   "source": [
    "### Sort the data"
   ]
  },
  {
   "cell_type": "code",
   "execution_count": 3,
   "id": "accredited-thomson",
   "metadata": {
    "colab": {},
    "colab_type": "code",
    "id": "lYkQgf12QMm4",
    "papermill": {},
    "tags": []
   },
   "outputs": [],
   "source": [
    "data_gdp_biggest = data_gdp_current_year.sort_values(\n",
    "    \"NY.GDP.PCAP.KD.ZG\", ascending=False\n",
    ")\n",
    "data_gdp_biggest = data_gdp_biggest.head(5)\n",
    "\n",
    "data_gdp_lowest = data_gdp_current_year.sort_values(\"NY.GDP.PCAP.KD.ZG\", ascending=True)\n",
    "data_gdp_lowest = data_gdp_lowest.head(5)"
   ]
  },
  {
   "cell_type": "markdown",
   "id": "reduced-transparency",
   "metadata": {
    "colab_type": "text",
    "id": "McC8dqZlMqTF",
    "papermill": {},
    "tags": []
   },
   "source": [
    "### Formattage des données"
   ]
  },
  {
   "cell_type": "code",
   "execution_count": 4,
   "id": "behind-mason",
   "metadata": {
    "colab": {},
    "colab_type": "code",
    "id": "WzMtizlQE0kJ",
    "papermill": {},
    "tags": []
   },
   "outputs": [],
   "source": [
    "# Data formating\n",
    "\n",
    "measure = []\n",
    "text = []\n",
    "x = []\n",
    "y = []\n",
    "\n",
    "\n",
    "# Push initial\n",
    "measure.append(\"absolute\")\n",
    "text.append(str(round(gdp_growth_2017, 4)))\n",
    "y.append(gdp_growth_2017)\n",
    "x.append(str(startYear) + \" Growth\")\n",
    "\n",
    "\n",
    "# Push Beetween\n",
    "# measure.append(\"relative\")\n",
    "# text.append(str(round(gdp_growth_2018 - gdp_growth_2017,4)))\n",
    "# y.append(gdp_growth_2018 - gdp_growth_2017)\n",
    "# x.append(\"Between\")\n",
    "\n",
    "totalBiggest = 0\n",
    "\n",
    "for index, row in data_gdp_biggest.iterrows():\n",
    "    measure.append(\"relative\")\n",
    "    text.append(index[0])\n",
    "    totalBiggest += row[0]\n",
    "    y.append(row[0])\n",
    "    x.append(index[0])\n",
    "\n",
    "\n",
    "totalLowest = 0\n",
    "\n",
    "for index, row in data_gdp_lowest.iterrows():\n",
    "    measure.append(\"relative\")\n",
    "    text.append(index[0])\n",
    "    totalLowest += row[0]\n",
    "    y.append(row[0])\n",
    "    x.append(index[0])\n",
    "\n",
    "\n",
    "# Other Country total\n",
    "otherCountryTotal = gdp_growth_2018 - (gdp_growth_2017 + totalLowest + totalBiggest)\n",
    "measure.append(\"relative\")\n",
    "text.append(str(round(otherCountryTotal, 4)))\n",
    "y.append(otherCountryTotal)\n",
    "x.append(\"Other Country\")\n",
    "\n",
    "\n",
    "# Push result\n",
    "measure.append(\"total\")\n",
    "text.append(str(round(gdp_growth_2018, 4)))\n",
    "y.append(gdp_growth_2018)\n",
    "x.append(str(endYear) + \" Growth\")"
   ]
  },
  {
   "cell_type": "markdown",
   "id": "output_cell",
   "metadata": {
    "papermill": {},
    "tags": []
   },
   "source": [
    "## Output"
   ]
  },
  {
   "cell_type": "markdown",
   "id": "portuguese-sodium",
   "metadata": {
    "colab_type": "text",
    "id": "16oHYUJ1M0Go",
    "papermill": {},
    "tags": []
   },
   "source": [
    "### Plot display\n",
    "\n",
    "Quand on passe le curseur sur chaque partie du graphique, on peut voir le PIB de l'année courrante, l'année précédente et la différence entre les deux du pays sélectionné.\n",
    "\n",
    "Si la différence est positive, une flèche montante apparaite sinon une flèche descendante.\n",
    "\n",
    "Au dessus de chaque pays, le pourcentage de croissance est représenté."
   ]
  },
  {
   "cell_type": "code",
   "execution_count": 5,
   "id": "pediatric-sterling",
   "metadata": {
    "colab": {
     "base_uri": "https://localhost:8080/",
     "height": 717
    },
    "colab_type": "code",
    "id": "GvLX_JmL8jdS",
    "outputId": "8ffbf794-732e-462a-8e8d-b0182d9bcfaf",
    "papermill": {},
    "tags": []
   },
   "outputs": [],
   "source": [
    "fig = go.Figure(\n",
    "    go.Waterfall(\n",
    "        name=\"Growth between Year\",\n",
    "        orientation=\"v\",\n",
    "        measure=measure,\n",
    "        x=x,\n",
    "        text=text,\n",
    "        y=y,\n",
    "        textposition=\"outside\",\n",
    "        texttemplate=\"%{y:.2f}%\",\n",
    "        connector={\"line\": {\"color\": \"rgb(63, 63, 63)\"}},\n",
    "    )\n",
    ")\n",
    "\n",
    "fig.update_layout(\n",
    "    title=\"GDP growth with 5 top and lowest contributors (per capita per country) \",\n",
    "    showlegend=True,\n",
    "    margin=dict(l=0, r=0, t=50, b=0),\n",
    "    height=700,\n",
    ")\n",
    "\n",
    "fig.show()"
   ]
  },
  {
   "cell_type": "markdown",
   "id": "north-italic",
   "metadata": {
    "colab_type": "text",
    "id": "WTcCKP1BNAmE",
    "papermill": {},
    "tags": []
   },
   "source": [
    "### Refaire les étapes pour le PIB par pays"
   ]
  },
  {
   "cell_type": "code",
   "execution_count": 6,
   "id": "copyrighted-reconstruction",
   "metadata": {
    "colab": {},
    "colab_type": "code",
    "id": "7tIxAkuGOS57",
    "papermill": {},
    "tags": []
   },
   "outputs": [],
   "source": [
    "# Recupération des valeurs pour World (Initial - Final) GDP/country\n",
    "data_gdp_world_2017 = wb.download(\n",
    "    indicator=[\"NY.GDP.MKTP.KD.ZG\"], country=[\"WLD\"], start=startYear, end=startYear\n",
    ")\n",
    "data_gdp_world_2018 = wb.download(\n",
    "    indicator=[\"NY.GDP.MKTP.KD.ZG\"], country=[\"WLD\"], start=endYear, end=endYear\n",
    ")\n",
    "\n",
    "gdp_growth_pll_2017 = data_gdp_world_2017.iloc[0][0]\n",
    "gdp_growth_2018 = data_gdp_world_2018.iloc[0][0]\n",
    "\n",
    "data_gdp_current_year = wb.download(\n",
    "    indicator=[\"NY.GDP.MKTP.KD.ZG\"], country=country, start=endYear, end=endYear\n",
    ")\n",
    "\n",
    "\n",
    "data_gdp_current_year"
   ]
  },
  {
   "cell_type": "code",
   "execution_count": 7,
   "id": "charged-midnight",
   "metadata": {
    "colab": {},
    "colab_type": "code",
    "id": "2G7mxo74NuGI",
    "papermill": {},
    "tags": []
   },
   "outputs": [],
   "source": [
    "data_gdp_biggest = data_gdp_current_year.sort_values(\n",
    "    \"NY.GDP.MKTP.KD.ZG\", ascending=False\n",
    ")\n",
    "data_gdp_biggest = data_gdp_biggest.head(5)\n",
    "\n",
    "data_gdp_lowest = data_gdp_current_year.sort_values(\"NY.GDP.MKTP.KD.ZG\", ascending=True)\n",
    "data_gdp_lowest = data_gdp_lowest.head(5)"
   ]
  },
  {
   "cell_type": "code",
   "execution_count": 8,
   "id": "previous-version",
   "metadata": {
    "colab": {},
    "colab_type": "code",
    "id": "yBFTCtotN6Ks",
    "papermill": {},
    "tags": []
   },
   "outputs": [],
   "source": [
    "# Data formating\n",
    "\n",
    "measure = []\n",
    "text = []\n",
    "x = []\n",
    "y = []\n",
    "\n",
    "\n",
    "# Push initial\n",
    "measure.append(\"absolute\")\n",
    "text.append(str(round(gdp_growth_2017, 4)))\n",
    "y.append(gdp_growth_2017)\n",
    "x.append(str(startYear) + \" Growth\")\n",
    "\n",
    "\n",
    "# Push Beetween\n",
    "# measure.append(\"relative\")\n",
    "# text.append(str(round(gdp_growth_2018 - gdp_growth_2017,4)))\n",
    "# y.append(gdp_growth_2018 - gdp_growth_2017)\n",
    "# x.append(\"Between\")\n",
    "\n",
    "totalBiggest = 0\n",
    "\n",
    "for index, row in data_gdp_biggest.iterrows():\n",
    "    measure.append(\"relative\")\n",
    "    text.append(index[0])\n",
    "    totalBiggest += row[0]\n",
    "    y.append(row[0])\n",
    "    x.append(index[0])\n",
    "\n",
    "\n",
    "totalLowest = 0\n",
    "\n",
    "for index, row in data_gdp_lowest.iterrows():\n",
    "    measure.append(\"relative\")\n",
    "    text.append(index[0])\n",
    "    totalLowest += row[0]\n",
    "    y.append(row[0])\n",
    "    x.append(index[0])\n",
    "\n",
    "\n",
    "# Other Country total\n",
    "otherCountryTotal = gdp_growth_2018 - (gdp_growth_2017 + totalLowest + totalBiggest)\n",
    "measure.append(\"relative\")\n",
    "text.append(str(round(otherCountryTotal, 4)))\n",
    "y.append(otherCountryTotal)\n",
    "x.append(\"Other Country\")\n",
    "\n",
    "\n",
    "# Push result\n",
    "measure.append(\"total\")\n",
    "text.append(str(round(gdp_growth_2018, 4)))\n",
    "y.append(gdp_growth_2018)\n",
    "x.append(str(endYear) + \" Growth\")"
   ]
  },
  {
   "cell_type": "code",
   "execution_count": 9,
   "id": "viral-orange",
   "metadata": {
    "colab": {
     "base_uri": "https://localhost:8080/",
     "height": 717
    },
    "colab_type": "code",
    "id": "oglJypt2N9zl",
    "outputId": "51c95097-9c89-43a8-f7b5-fde78eeea682",
    "papermill": {},
    "tags": []
   },
   "outputs": [],
   "source": [
    "fig = go.Figure(\n",
    "    go.Waterfall(\n",
    "        name=\"Growth between Year\",\n",
    "        orientation=\"v\",\n",
    "        measure=measure,\n",
    "        x=x,\n",
    "        text=text,\n",
    "        y=y,\n",
    "        textposition=\"outside\",\n",
    "        texttemplate=\"%{y:.2f}%\",\n",
    "        connector={\"line\": {\"color\": \"rgb(63, 63, 63)\"}},\n",
    "    )\n",
    ")\n",
    "\n",
    "fig.update_layout(\n",
    "    title=\"GDP growth with 5 top and lowest contributors (per country)\",\n",
    "    showlegend=True,\n",
    "    margin=dict(l=0, r=0, t=50, b=0),\n",
    "    height=700,\n",
    ")\n",
    "\n",
    "fig.show()"
   ]
  }
 ],
 "metadata": {
  "colab": {
   "collapsed_sections": [],
   "include_colab_link": true,
   "name": "20200424_8_RIO_final2.ipynb",
   "provenance": []
  },
  "kernelspec": {
   "display_name": "Python 3",
   "language": "python",
   "name": "python3"
  },
  "language_info": {
   "codemirror_mode": {
    "name": "ipython",
    "version": 3
   },
   "file_extension": ".py",
   "mimetype": "text/x-python",
   "name": "python",
   "nbconvert_exporter": "python",
   "pygments_lexer": "ipython3",
   "version": "3.9.6"
  },
  "naas": {
   "notebook_id": "28f03593-7c15-4986-8787-6a21f36c80d1",
   "notebook_path": "WorldBank/WorldBank_GDP_contributors.ipynb"
  },
  "papermill": {
   "default_parameters": {},
   "environment_variables": {},
   "parameters": {},
   "version": "2.3.3"
  }
 },
 "nbformat": 4,
 "nbformat_minor": 5
}