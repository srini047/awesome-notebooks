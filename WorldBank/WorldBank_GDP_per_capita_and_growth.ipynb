{
 "cells": [
  {
   "cell_type": "markdown",
   "id": "naas-logo",
   "metadata": {
    "papermill": {},
    "tags": [
     "naas"
    ]
   },
   "source": [
    "<img width=\"10%\" alt=\"Naas\" src=\"https://landen.imgix.net/jtci2pxwjczr/assets/5ice39g4.png?w=160\"/>"
   ]
  },
  {
   "cell_type": "markdown",
   "id": "respective-zoning",
   "metadata": {
    "colab_type": "text",
    "id": "view-in-github",
    "papermill": {},
    "tags": []
   },
   "source": [
    "# WorldBank - GDP per capita and growth\n",
    "<a href=\"https://app.naas.ai/user-redirect/naas/downloader?url=https://raw.githubusercontent.com/jupyter-naas/awesome-notebooks/master/WorldBank/WorldBank_GDP_per_capita_and_growth.ipynb\" target=\"_parent\"><img src=\"https://naasai-public.s3.eu-west-3.amazonaws.com/open_in_naas.svg\"/></a><br><br><a href=\"https://github.com/jupyter-naas/awesome-notebooks/issues/new?assignees=&labels=&template=template-request.md&title=Tool+-+Action+of+the+notebook+\">Template request</a> | <a href=\"https://github.com/jupyter-naas/awesome-notebooks/issues/new?assignees=&labels=bug&template=bug_report.md&title=WorldBank+-+GDP+per+capita+and+growth:+Error+short+description\">Bug report</a>"
   ]
  },
  {
   "cell_type": "markdown",
   "id": "eeaf45ea-38e4-4576-a44f-30839f0b293e",
   "metadata": {
    "papermill": {},
    "tags": []
   },
   "source": [
    "**Tags:** #worldbank #opendata #snippet #plotly"
   ]
  },
  {
   "cell_type": "markdown",
   "id": "naas-author",
   "metadata": {
    "papermill": {},
    "tags": [
     "naas"
    ]
   },
   "source": [
    "**Author:** [Jeremy Ravenel](https://www.linkedin.com/in/ACoAAAJHE7sB5OxuKHuzguZ9L6lfDHqw--cdnJg/)"
   ]
  },
  {
   "cell_type": "markdown",
   "id": "naas-description",
   "metadata": {
    "papermill": {},
    "tags": [
     "description"
    ]
   },
   "source": [
    "**Description:** This notebook provides an analysis of GDP per capita and growth data from the World Bank."
   ]
  },
  {
   "cell_type": "markdown",
   "id": "input_cell",
   "metadata": {
    "papermill": {},
    "tags": []
   },
   "source": [
    "## Input"
   ]
  },
  {
   "cell_type": "markdown",
   "id": "import_cell",
   "metadata": {
    "papermill": {},
    "tags": []
   },
   "source": [
    "### Import library"
   ]
  },
  {
   "cell_type": "code",
   "execution_count": 1,
   "id": "bright-leave",
   "metadata": {
    "colab": {},
    "colab_type": "code",
    "execution": {
     "iopub.execute_input": "2021-04-24T07:47:29.436135Z",
     "iopub.status.busy": "2021-04-24T07:47:29.435777Z",
     "iopub.status.idle": "2021-04-24T07:47:30.091974Z",
     "shell.execute_reply": "2021-04-24T07:47:30.091374Z",
     "shell.execute_reply.started": "2021-04-24T07:47:29.436081Z"
    },
    "id": "PxNbb9bE5Py_",
    "papermill": {},
    "tags": []
   },
   "outputs": [],
   "source": [
    "import pandas as pd\n",
    "import numpy as np\n",
    "import plotly.graph_objects as go\n",
    "from pandas_datareader import wb\n",
    "from naas_drivers import plotly"
   ]
  },
  {
   "cell_type": "markdown",
   "id": "model_cell",
   "metadata": {
    "papermill": {},
    "tags": []
   },
   "source": [
    "## Model"
   ]
  },
  {
   "cell_type": "markdown",
   "id": "thirty-commons",
   "metadata": {
    "papermill": {},
    "tags": []
   },
   "source": [
    "### Get data from World Bank"
   ]
  },
  {
   "cell_type": "code",
   "execution_count": 2,
   "id": "outside-equity",
   "metadata": {
    "colab": {
     "base_uri": "https://localhost:8080/",
     "height": 419
    },
    "colab_type": "code",
    "execution": {
     "iopub.execute_input": "2021-04-24T07:47:32.332185Z",
     "iopub.status.busy": "2021-04-24T07:47:32.331886Z",
     "iopub.status.idle": "2021-04-24T07:47:42.482876Z",
     "shell.execute_reply": "2021-04-24T07:47:42.482278Z",
     "shell.execute_reply.started": "2021-04-24T07:47:32.332152Z"
    },
    "id": "0ksZHPdp6JgN",
    "outputId": "152bded3-95ee-4729-9c77-0fedbcc2a41a",
    "papermill": {},
    "tags": []
   },
   "outputs": [],
   "source": [
    "indicators = wb.download(\n",
    "    indicator=[\"NY.GDP.PCAP.CD\", \"NY.GDP.PCAP.KD.ZG\"],\n",
    "    country=\"all\",\n",
    "    start=2013,\n",
    "    end=2021,\n",
    ")\n",
    "\n",
    "indicators = indicators.reset_index()\n",
    "indicators = indicators[[\"country\", \"year\", \"NY.GDP.PCAP.CD\", \"NY.GDP.PCAP.KD.ZG\"]]\n",
    "indicators.columns = [\"country\", \"year\", \"GDP_PER_CAPITAL\", \"GDP_GROWTH_PER_CAPITAL\"]\n",
    "\n",
    "indicators = indicators.fillna(0)\n",
    "\n",
    "countries = wb.get_countries()\n",
    "countries = countries[[\"name\", \"region\", \"iso3c\"]]\n",
    "\n",
    "master_table = pd.merge(indicators, countries, left_on=\"country\", right_on=\"name\")\n",
    "\n",
    "master_table = master_table[master_table[\"region\"] != \"Aggregates\"]\n",
    "\n",
    "master_table = master_table.drop(columns=[\"name\"])\n",
    "\n",
    "master_table = master_table.dropna()\n",
    "\n",
    "# Création de l'ensemble final\n",
    "xls_formatted = pd.DataFrame(\n",
    "    columns=[\n",
    "        \"COUNTRY\",\n",
    "        \"YEAR\",\n",
    "        \"GDP_PER_CAPITAL\",\n",
    "        \"GDP_GROWTH_PER_CAPITAL\",\n",
    "        \"REGION\",\n",
    "        \"ISO3C\",\n",
    "    ]\n",
    ")\n",
    "\n",
    "for index, line in master_table.iterrows():\n",
    "    xls_formatted = xls_formatted.append(\n",
    "        {\n",
    "            \"COUNTRY\": line[\"country\"],\n",
    "            \"YEAR\": line[\"year\"],\n",
    "            \"GDP_PER_CAPITAL\": line[\"GDP_PER_CAPITAL\"],\n",
    "            \"GDP_GROWTH_PER_CAPITAL\": line[\"GDP_GROWTH_PER_CAPITAL\"],\n",
    "            \"REGION\": line[\"region\"],\n",
    "            \"ISO3C\": line[\"iso3c\"],\n",
    "        },\n",
    "        ignore_index=True,\n",
    "    )\n",
    "\n",
    "master_table = xls_formatted\n",
    "\n",
    "master_table"
   ]
  },
  {
   "cell_type": "markdown",
   "id": "floral-possibility",
   "metadata": {
    "papermill": {},
    "tags": []
   },
   "source": [
    "### Choose the year to display"
   ]
  },
  {
   "cell_type": "code",
   "execution_count": null,
   "id": "touched-reynolds",
   "metadata": {
    "papermill": {},
    "tags": []
   },
   "outputs": [],
   "source": [
    "year = \"2019\""
   ]
  },
  {
   "cell_type": "markdown",
   "id": "individual-corrections",
   "metadata": {
    "papermill": {},
    "tags": []
   },
   "source": [
    "### Create mapchart"
   ]
  },
  {
   "cell_type": "code",
   "execution_count": 71,
   "id": "linear-labor",
   "metadata": {
    "colab": {
     "base_uri": "https://localhost:8080/",
     "height": 917
    },
    "colab_type": "code",
    "execution": {
     "iopub.execute_input": "2021-04-24T08:45:49.876396Z",
     "iopub.status.busy": "2021-04-24T08:45:49.876168Z",
     "iopub.status.idle": "2021-04-24T08:45:49.919192Z",
     "shell.execute_reply": "2021-04-24T08:45:49.918603Z",
     "shell.execute_reply.started": "2021-04-24T08:45:49.876372Z"
    },
    "id": "iq6gJ2MwedAL",
    "outputId": "7633a002-78cf-465d-a859-617c4b1e5bf8",
    "papermill": {},
    "tags": []
   },
   "outputs": [],
   "source": [
    "master_year_table = master_table[master_table[\"YEAR\"] == year]\n",
    "\n",
    "GDP_GROWTH_PER_CAPITAL = \"GDP growth per capita\"\n",
    "GDP_PER_CAPITAL = \"GDP per capita\"\n",
    "\n",
    "fig = go.Figure()\n",
    "\n",
    "fig.layout = go.Layout(\n",
    "    # width=500,\n",
    "    # height=300,\n",
    "    annotations=[\n",
    "        go.layout.Annotation(\n",
    "            showarrow=False,\n",
    "            text=\"Source: World Bank\",\n",
    "            xanchor=\"right\",\n",
    "            x=1,\n",
    "            yanchor=\"top\",\n",
    "            y=-0.05,\n",
    "        )\n",
    "    ]\n",
    ")\n",
    "\n",
    "fig.add_trace(\n",
    "    go.Choropleth(\n",
    "        locations=master_year_table[\"ISO3C\"],\n",
    "        z=master_year_table[\"GDP_PER_CAPITAL\"],\n",
    "        colorscale=[\n",
    "            (0, \"#053D8B\"),\n",
    "            (0.25, \"#1164B0\"),\n",
    "            (0.5, \"#298BC8\"),\n",
    "            (0.75, \"#3FB7DB\"),\n",
    "            (1, \"#5CD5E8\"),\n",
    "        ],\n",
    "        colorbar_title=\"Value\",\n",
    "        customdata=master_year_table[\"COUNTRY\"],\n",
    "        hovertemplate=\"<b>%{customdata}: %{z:,.0f}</b><extra></extra>\",\n",
    "    )\n",
    ")\n",
    "\n",
    "fig.add_trace(\n",
    "    go.Choropleth(\n",
    "        locations=master_year_table[\"ISO3C\"],\n",
    "        visible=False,\n",
    "        z=master_year_table[\"GDP_GROWTH_PER_CAPITAL\"],\n",
    "        colorscale=[\n",
    "            (0, \"#053D8B\"),\n",
    "            (0.25, \"#1164B0\"),\n",
    "            (0.5, \"#298BC8\"),\n",
    "            (0.75, \"#3FB7DB\"),\n",
    "            (1, \"#5CD5E8\"),\n",
    "        ],\n",
    "        colorbar_title=\"Growth \",\n",
    "        customdata=master_year_table[\"COUNTRY\"],\n",
    "        hovertemplate=\"<b>%{customdata}: %{z:0.2f}%</b><extra></extra>\",\n",
    "    )\n",
    ")\n",
    "\n",
    "fig.update_layout(\n",
    "    autosize=True,\n",
    "    width=900,\n",
    "    # height= 900,\n",
    "    title=f\"GDP per capital in {year}\",\n",
    "    title_x=0.5,\n",
    "    title_y=0.95,\n",
    "    updatemenus=[\n",
    "        dict(\n",
    "            type=\"buttons\",\n",
    "            active=0,\n",
    "            direction=\"left\",\n",
    "            buttons=list(\n",
    "                [\n",
    "                    dict(\n",
    "                        args=[\n",
    "                            {\"visible\": [True, False]},\n",
    "                            {\"title\": f\"{GDP_PER_CAPITAL} in {year}\"},\n",
    "                        ],\n",
    "                        label=GDP_PER_CAPITAL,\n",
    "                        method=\"update\",\n",
    "                    ),\n",
    "                    dict(\n",
    "                        args=[\n",
    "                            {\"visible\": [False, True]},\n",
    "                            {\"title\": f\"{GDP_GROWTH_PER_CAPITAL} in {year}\"},\n",
    "                        ],\n",
    "                        label=GDP_GROWTH_PER_CAPITAL,\n",
    "                        method=\"update\",\n",
    "                    ),\n",
    "                ]\n",
    "            ),\n",
    "            showactive=True,\n",
    "            x=0.32,\n",
    "            xanchor=\"left\",\n",
    "            y=1.2,\n",
    "            yanchor=\"top\",\n",
    "        ),\n",
    "    ],\n",
    ")\n",
    "\n",
    "fig.show()"
   ]
  },
  {
   "cell_type": "markdown",
   "id": "output_cell",
   "metadata": {
    "papermill": {},
    "tags": []
   },
   "source": [
    "## Output"
   ]
  },
  {
   "cell_type": "markdown",
   "id": "velvet-shelf",
   "metadata": {
    "execution": {
     "iopub.execute_input": "2021-04-24T08:39:41.136067Z",
     "iopub.status.busy": "2021-04-24T08:39:41.135836Z",
     "iopub.status.idle": "2021-04-24T08:39:41.140805Z",
     "shell.execute_reply": "2021-04-24T08:39:41.140220Z",
     "shell.execute_reply.started": "2021-04-24T08:39:41.136043Z"
    },
    "papermill": {},
    "tags": []
   },
   "source": [
    "### Export chart"
   ]
  },
  {
   "cell_type": "code",
   "execution_count": 57,
   "id": "british-burns",
   "metadata": {
    "execution": {
     "iopub.execute_input": "2021-04-24T08:25:20.022714Z",
     "iopub.status.busy": "2021-04-24T08:25:20.022474Z",
     "iopub.status.idle": "2021-04-24T08:25:30.672211Z",
     "shell.execute_reply": "2021-04-24T08:25:30.671546Z",
     "shell.execute_reply.started": "2021-04-24T08:25:20.022689Z"
    },
    "papermill": {},
    "tags": []
   },
   "outputs": [],
   "source": [
    "plotly.export(fig, \"GDP.png\", css=None)\n",
    "plotly.export(fig, \"GDP.html\", css=None)"
   ]
  }
 ],
 "metadata": {
  "colab": {
   "collapsed_sections": [],
   "include_colab_link": true,
   "name": "ECONOMY-GDP_AND_GROWTH_PER_COUNTRY.ipynb",
   "provenance": []
  },
  "kernelspec": {
   "display_name": "Python 3",
   "language": "python",
   "name": "python3"
  },
  "language_info": {
   "codemirror_mode": {
    "name": "ipython",
    "version": 3
   },
   "file_extension": ".py",
   "mimetype": "text/x-python",
   "name": "python",
   "nbconvert_exporter": "python",
   "pygments_lexer": "ipython3",
   "version": "3.9.6"
  },
  "naas": {
   "notebook_id": "9bf02336-74c1-4dce-a34f-425a26bcf929",
   "notebook_path": "WorldBank/WorldBank_GDP_per_capita_and_growth.ipynb"
  },
  "papermill": {
   "default_parameters": {},
   "environment_variables": {},
   "parameters": {},
   "version": "2.3.3"
  },
  "widgets": {
   "application/vnd.jupyter.widget-state+json": {
    "state": {},
    "version_major": 2,
    "version_minor": 0
   }
  }
 },
 "nbformat": 4,
 "nbformat_minor": 5
}