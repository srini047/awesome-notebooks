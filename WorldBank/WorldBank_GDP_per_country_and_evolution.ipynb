{
 "cells": [
  {
   "cell_type": "markdown",
   "id": "457fa61e-ff4b-41fb-a320-4a0a778bf37f",
   "metadata": {
    "papermill": {},
    "tags": []
   },
   "source": [
    "<img width=\"10%\" alt=\"Naas\" src=\"https://landen.imgix.net/jtci2pxwjczr/assets/5ice39g4.png?w=160\"/>"
   ]
  },
  {
   "cell_type": "markdown",
   "id": "celtic-fiber",
   "metadata": {
    "colab_type": "text",
    "id": "NFm_zRA1PE2e",
    "papermill": {},
    "tags": []
   },
   "source": [
    "# WorldBank - GDP per country and evolution\n",
    "<a href=\"https://app.naas.ai/user-redirect/naas/downloader?url=https://raw.githubusercontent.com/jupyter-naas/awesome-notebooks/master/WorldBank/WorldBank_GDP_per_country_and_evolution.ipynb\" target=\"_parent\"><img src=\"https://naasai-public.s3.eu-west-3.amazonaws.com/open_in_naas.svg\"/></a><br><br><a href=\"https://github.com/jupyter-naas/awesome-notebooks/issues/new?assignees=&labels=&template=template-request.md&title=Tool+-+Action+of+the+notebook+\">Template request</a> | <a href=\"https://github.com/jupyter-naas/awesome-notebooks/issues/new?assignees=&labels=bug&template=bug_report.md&title=WorldBank+-+GDP+per+country+and+evolution:+Error+short+description\">Bug report</a>"
   ]
  },
  {
   "cell_type": "markdown",
   "id": "0fff6359-ff36-4a4a-adf1-5f9c7cd52648",
   "metadata": {
    "papermill": {},
    "tags": []
   },
   "source": [
    "**Tags:** #worldbank #opendata #snippet #plotly"
   ]
  },
  {
   "cell_type": "markdown",
   "id": "naas-author",
   "metadata": {
    "papermill": {},
    "tags": [
     "naas"
    ]
   },
   "source": [
    "**Author:** [Jeremy Ravenel](https://www.linkedin.com/in/ACoAAAJHE7sB5OxuKHuzguZ9L6lfDHqw--cdnJg/)"
   ]
  },
  {
   "cell_type": "markdown",
   "id": "sacred-advocacy",
   "metadata": {
    "colab_type": "text",
    "id": "eHA8sVa24OON",
    "papermill": {},
    "tags": []
   },
   "source": [
    "Objective : allows to visualize the distribution of GDP per capita and the GDP growth in the world. Click on the country on the map or select it to see the details info\n",
    "\n",
    "Data :\n",
    "GDP PER CAPITA (CURRENT US$)\n",
    "GDP GROWTH (ANNUAL %)\n",
    "\n",
    "by countries, agregated by region\n",
    "\n",
    "Sources:\n",
    "\n",
    "World Bank national accounts data,\n",
    "OECD National Accounts data files.\n",
    "\n",
    "\n",
    "Production : Team Denver 2020/04/20 (MyDigitalSchool)"
   ]
  },
  {
   "cell_type": "markdown",
   "id": "mounted-floating",
   "metadata": {
    "colab_type": "text",
    "id": "7DurCJtH4YWL",
    "papermill": {},
    "tags": []
   },
   "source": [
    "**source des données:** data.worldbank.org\n",
    "\n",
    "\n"
   ]
  },
  {
   "cell_type": "markdown",
   "id": "christian-vector",
   "metadata": {
    "colab_type": "text",
    "id": "UDK3v1kJe3Ku",
    "papermill": {},
    "tags": []
   },
   "source": [
    "**Introduction**: https://drive.google.com/file/d/1kM7_P18bwEPrsZSk8YsvOdiuJyLN1_3H/view?usp=sharing"
   ]
  },
  {
   "cell_type": "markdown",
   "id": "input_cell",
   "metadata": {
    "papermill": {},
    "tags": []
   },
   "source": [
    "## Input"
   ]
  },
  {
   "cell_type": "markdown",
   "id": "textile-legislation",
   "metadata": {
    "colab_type": "text",
    "id": "JDQhKKXgQ3z7",
    "papermill": {},
    "tags": []
   },
   "source": [
    "### Get the data\n",
    "\n",
    "*Récupération des données sur le PIB par pays:* \n",
    "https://data.worldbank.org/indicator/NY.GDP.PCAP.CD\n",
    "\n",
    "*Récupération des données sur l'évolution du PIB par an par pays:* \n",
    "https://data.worldbank.org/indicator/NY.GDP.PCAP.KD.ZG"
   ]
  },
  {
   "cell_type": "markdown",
   "id": "technological-quarterly",
   "metadata": {
    "colab_type": "text",
    "id": "kISsuJL15JqX",
    "papermill": {},
    "tags": []
   },
   "source": [
    "### Import libraries"
   ]
  },
  {
   "cell_type": "code",
   "execution_count": 1,
   "id": "fundamental-manchester",
   "metadata": {
    "colab": {},
    "colab_type": "code",
    "id": "PxNbb9bE5Py_",
    "papermill": {},
    "tags": []
   },
   "outputs": [],
   "source": [
    "import pandas as pd\n",
    "import numpy as np\n",
    "import plotly.graph_objects as go"
   ]
  },
  {
   "cell_type": "markdown",
   "id": "model_cell",
   "metadata": {
    "papermill": {},
    "tags": []
   },
   "source": [
    "## Model"
   ]
  },
  {
   "cell_type": "markdown",
   "id": "unlikely-import",
   "metadata": {
    "colab_type": "text",
    "id": "w4BwPJoDErL1",
    "papermill": {},
    "tags": []
   },
   "source": [
    "### Data formatting"
   ]
  },
  {
   "cell_type": "code",
   "execution_count": 2,
   "id": "developed-blair",
   "metadata": {
    "colab": {
     "base_uri": "https://localhost:8080/",
     "height": 419
    },
    "colab_type": "code",
    "id": "0ksZHPdp6JgN",
    "outputId": "152bded3-95ee-4729-9c77-0fedbcc2a41a",
    "papermill": {},
    "tags": []
   },
   "outputs": [],
   "source": [
    "from pandas_datareader import wb\n",
    "\n",
    "indicators = wb.download(\n",
    "    indicator=[\"NY.GDP.PCAP.CD\", \"NY.GDP.PCAP.KD.ZG\"],\n",
    "    country=\"all\",\n",
    "    start=2013,\n",
    "    end=2018,\n",
    ")\n",
    "\n",
    "indicators = indicators.reset_index()\n",
    "indicators = indicators[[\"country\", \"year\", \"NY.GDP.PCAP.CD\", \"NY.GDP.PCAP.KD.ZG\"]]\n",
    "indicators.columns = [\"country\", \"year\", \"GDP_PER_CAPITAL\", \"GDP_GROWTH_PER_CAPITAL\"]\n",
    "\n",
    "indicators = indicators.fillna(0)\n",
    "\n",
    "countries = wb.get_countries()\n",
    "countries = countries[[\"name\", \"region\", \"iso3c\"]]\n",
    "\n",
    "master_table = pd.merge(indicators, countries, left_on=\"country\", right_on=\"name\")\n",
    "\n",
    "master_table = master_table[master_table[\"region\"] != \"Aggregates\"]\n",
    "\n",
    "master_table = master_table.drop(columns=[\"name\"])\n",
    "\n",
    "master_table = master_table.dropna()\n",
    "\n",
    "# Création de l'ensemble final\n",
    "xls_formatted = pd.DataFrame(\n",
    "    columns=[\n",
    "        \"COUNTRY\",\n",
    "        \"YEAR\",\n",
    "        \"GDP_PER_CAPITAL\",\n",
    "        \"GDP_GROWTH_PER_CAPITAL\",\n",
    "        \"REGION\",\n",
    "        \"ISO3C\",\n",
    "    ]\n",
    ")\n",
    "\n",
    "for index, line in master_table.iterrows():\n",
    "    xls_formatted = xls_formatted.append(\n",
    "        {\n",
    "            \"COUNTRY\": line[\"country\"],\n",
    "            \"YEAR\": line[\"year\"],\n",
    "            \"GDP_PER_CAPITAL\": line[\"GDP_PER_CAPITAL\"],\n",
    "            \"GDP_GROWTH_PER_CAPITAL\": line[\"GDP_GROWTH_PER_CAPITAL\"],\n",
    "            \"REGION\": line[\"region\"],\n",
    "            \"ISO3C\": line[\"iso3c\"],\n",
    "        },\n",
    "        ignore_index=True,\n",
    "    )\n",
    "\n",
    "master_table = xls_formatted\n",
    "\n",
    "master_table"
   ]
  },
  {
   "cell_type": "markdown",
   "id": "output_cell",
   "metadata": {
    "papermill": {},
    "tags": []
   },
   "source": [
    "## Output"
   ]
  },
  {
   "cell_type": "markdown",
   "id": "voluntary-terror",
   "metadata": {
    "colab_type": "text",
    "id": "YFRXBt3QRGyV",
    "papermill": {},
    "tags": []
   },
   "source": [
    "### Display the plot with plotly"
   ]
  },
  {
   "cell_type": "code",
   "execution_count": 3,
   "id": "taken-think",
   "metadata": {
    "colab": {
     "base_uri": "https://localhost:8080/",
     "height": 917
    },
    "colab_type": "code",
    "id": "iq6gJ2MwedAL",
    "outputId": "7633a002-78cf-465d-a859-617c4b1e5bf8",
    "papermill": {},
    "tags": []
   },
   "outputs": [],
   "source": [
    "# Variable à changer pour avoir les autres années\n",
    "year = \"2018\"\n",
    "master_year_table = master_table[master_table[\"YEAR\"] == year]\n",
    "\n",
    "GDP_GROWTH_PER_CAPITAL = \"GDP GROWTH PER CAPITAL\"\n",
    "GDP_PER_CAPITAL = \"GDP PER CAPITAL\"\n",
    "\n",
    "fig = go.Figure()\n",
    "\n",
    "fig.add_trace(\n",
    "    go.Choropleth(\n",
    "        locations=master_year_table[\"ISO3C\"],\n",
    "        z=master_year_table[\"GDP_PER_CAPITAL\"],\n",
    "        colorscale=[\n",
    "            (0, \"black\"),\n",
    "            (0.01, \"red\"),\n",
    "            (0.1, \"yellow\"),\n",
    "            (0.3, \"green\"),\n",
    "            (1, \"green\"),\n",
    "        ],\n",
    "        colorbar_title=\"GDP PER CAPITAL\",\n",
    "        customdata=master_year_table[\"COUNTRY\"],\n",
    "        hovertemplate=\"<b>%{customdata}: %{z:,.0f}</b><extra></extra>\",\n",
    "    )\n",
    ")\n",
    "\n",
    "fig.add_trace(\n",
    "    go.Choropleth(\n",
    "        locations=master_year_table[\"ISO3C\"],\n",
    "        visible=False,\n",
    "        z=master_year_table[\"GDP_GROWTH_PER_CAPITAL\"],\n",
    "        colorscale=[(0, \"red\"), (0.5, \"red\"), (0.75, \"rgb(240,230,140)\"), (1, \"green\")],\n",
    "        colorbar_title=\"GDP GROWTH PER CAPITAL\",\n",
    "        customdata=master_year_table[\"COUNTRY\"],\n",
    "        hovertemplate=\"<b>%{customdata}: %{z:0.2f}%</b><extra></extra>\",\n",
    "    )\n",
    ")\n",
    "\n",
    "fig.update_layout(\n",
    "    autosize=False,\n",
    "    width=1600,\n",
    "    height=900,\n",
    "    title=f\"GDP per capital in {year}\",\n",
    "    title_x=0.5,\n",
    "    updatemenus=[\n",
    "        dict(\n",
    "            type=\"buttons\",\n",
    "            active=0,\n",
    "            buttons=list(\n",
    "                [\n",
    "                    dict(\n",
    "                        args=[\n",
    "                            {\"visible\": [True, False]},\n",
    "                            {\"title\": f\"{GDP_PER_CAPITAL} in {year}\"},\n",
    "                        ],\n",
    "                        label=GDP_PER_CAPITAL,\n",
    "                        method=\"update\",\n",
    "                    ),\n",
    "                    dict(\n",
    "                        args=[\n",
    "                            {\"visible\": [False, True]},\n",
    "                            {\"title\": f\"{GDP_GROWTH_PER_CAPITAL} in {year}\"},\n",
    "                        ],\n",
    "                        label=GDP_GROWTH_PER_CAPITAL,\n",
    "                        method=\"update\",\n",
    "                    ),\n",
    "                ]\n",
    "            ),\n",
    "            showactive=True,\n",
    "            x=1,\n",
    "            xanchor=\"right\",\n",
    "            y=1.1,\n",
    "            yanchor=\"top\",\n",
    "        ),\n",
    "    ],\n",
    ")\n",
    "\n",
    "fig.show()"
   ]
  }
 ],
 "metadata": {
  "colab": {
   "collapsed_sections": [],
   "name": "ECONOMY-GDP_AND_GROWTH_PER_COUNTRY.ipynb",
   "provenance": []
  },
  "kernelspec": {
   "display_name": "Python 3",
   "language": "python",
   "name": "python3"
  },
  "language_info": {
   "codemirror_mode": {
    "name": "ipython",
    "version": 3
   },
   "file_extension": ".py",
   "mimetype": "text/x-python",
   "name": "python",
   "nbconvert_exporter": "python",
   "pygments_lexer": "ipython3",
   "version": "3.9.6"
  },
  "naas": {
   "notebook_id": "773fc0fa-b1c8-4ff2-98b6-8b25971fcfa4",
   "notebook_path": "WorldBank/WorldBank_GDP_per_country_and_evolution.ipynb"
  },
  "papermill": {
   "default_parameters": {},
   "environment_variables": {},
   "parameters": {},
   "version": "2.3.3"
  }
 },
 "nbformat": 4,
 "nbformat_minor": 5
}