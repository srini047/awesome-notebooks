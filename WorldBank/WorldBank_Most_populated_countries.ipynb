{
 "cells": [
  {
   "cell_type": "markdown",
   "id": "c82fd46a-3f47-478f-a291-2c74ab6ab6ef",
   "metadata": {
    "papermill": {},
    "tags": []
   },
   "source": [
    "<img width=\"10%\" alt=\"Naas\" src=\"https://landen.imgix.net/jtci2pxwjczr/assets/5ice39g4.png?w=160\"/>"
   ]
  },
  {
   "cell_type": "markdown",
   "id": "charitable-prairie",
   "metadata": {
    "colab_type": "text",
    "id": "view-in-github",
    "papermill": {},
    "tags": []
   },
   "source": [
    "# WorldBank - Most populated countries\n",
    "<a href=\"https://app.naas.ai/user-redirect/naas/downloader?url=https://raw.githubusercontent.com/jupyter-naas/awesome-notebooks/master/WorldBank/WorldBank_Most_populated_countries.ipynb\" target=\"_parent\"><img src=\"https://naasai-public.s3.eu-west-3.amazonaws.com/open_in_naas.svg\"/></a><br><br><a href=\"https://github.com/jupyter-naas/awesome-notebooks/issues/new?assignees=&labels=&template=template-request.md&title=Tool+-+Action+of+the+notebook+\">Template request</a> | <a href=\"https://github.com/jupyter-naas/awesome-notebooks/issues/new?assignees=&labels=bug&template=bug_report.md&title=WorldBank+-+Most+populated+countries:+Error+short+description\">Bug report</a>"
   ]
  },
  {
   "cell_type": "markdown",
   "id": "fdad9293-8e9c-448f-b597-40ff53f0342e",
   "metadata": {
    "papermill": {},
    "tags": []
   },
   "source": [
    "**Tags:** #worldbank #opendata #snippet #plotly #matplotlib"
   ]
  },
  {
   "cell_type": "markdown",
   "id": "naas-author",
   "metadata": {
    "papermill": {},
    "tags": [
     "naas"
    ]
   },
   "source": [
    "**Author:** [Jeremy Ravenel](https://www.linkedin.com/in/ACoAAAJHE7sB5OxuKHuzguZ9L6lfDHqw--cdnJg/)"
   ]
  },
  {
   "cell_type": "markdown",
   "id": "sealed-edwards",
   "metadata": {
    "colab_type": "text",
    "id": "L2nNeWrpvvW6",
    "papermill": {},
    "tags": []
   },
   "source": [
    "**Notebook d'exemple pour classer les pays les plus peuplés**"
   ]
  },
  {
   "cell_type": "markdown",
   "id": "acquired-surgeon",
   "metadata": {
    "colab_type": "text",
    "id": "YUZLmxmAGue9",
    "papermill": {},
    "tags": []
   },
   "source": [
    "**Sources:**\n",
    "OECD -> Organisation for economic co-operation and Development"
   ]
  },
  {
   "cell_type": "markdown",
   "id": "input_cell",
   "metadata": {
    "papermill": {},
    "tags": []
   },
   "source": [
    "## Input"
   ]
  },
  {
   "cell_type": "markdown",
   "id": "import_cell",
   "metadata": {
    "papermill": {},
    "tags": []
   },
   "source": [
    "### Import library"
   ]
  },
  {
   "cell_type": "code",
   "execution_count": 1,
   "id": "biblical-antibody",
   "metadata": {
    "colab": {},
    "colab_type": "code",
    "id": "36x8J9u-oxbA",
    "papermill": {},
    "tags": []
   },
   "outputs": [],
   "source": [
    "import pandas as pd\n",
    "import matplotlib.pyplot as plt\n",
    "%matplotlib inline\n",
    "import requests\n",
    "import io\n",
    "import numpy as np\n",
    "import plotly.graph_objects as go\n",
    "import plotly.express as px\n",
    "from pydrive.auth import GoogleAuth\n",
    "from pydrive.drive import GoogleDrive\n",
    "from google.colab import auth\n",
    "from oauth2client.client import GoogleCredentials\n",
    "from pandas import DataFrame\n",
    "import plotly.graph_objects as go"
   ]
  },
  {
   "cell_type": "markdown",
   "id": "model_cell",
   "metadata": {
    "papermill": {},
    "tags": []
   },
   "source": [
    "## Model"
   ]
  },
  {
   "cell_type": "markdown",
   "id": "distinct-iceland",
   "metadata": {
    "colab_type": "text",
    "id": "jV59hEGsoyDW",
    "papermill": {},
    "tags": []
   },
   "source": [
    "### Lets search the file frome gdrive"
   ]
  },
  {
   "cell_type": "code",
   "execution_count": null,
   "id": "cutting-electric",
   "metadata": {
    "colab": {},
    "colab_type": "code",
    "id": "z8v7HtRlo1Oj",
    "papermill": {},
    "tags": []
   },
   "outputs": [],
   "source": [
    "auth.authenticate_user()\n",
    "gauth = GoogleAuth()\n",
    "gauth.credentials = GoogleCredentials.get_application_default()\n",
    "drive = GoogleDrive(gauth)\n",
    "downloaded = drive.CreateFile(\n",
    "    {\"id\": \"1FjX4NTIq1z3zS9vCdAdpddtj9mKa0wIW\"}\n",
    ")  # replace the id with id of file you want to access\n",
    "downloaded.GetContentFile(\"POP_PROJ_20042020112713800.csv\")"
   ]
  },
  {
   "cell_type": "markdown",
   "id": "discrete-devon",
   "metadata": {
    "colab_type": "text",
    "id": "UGz4KBl5o28h",
    "papermill": {},
    "tags": []
   },
   "source": [
    "### Stock the data in a variable"
   ]
  },
  {
   "cell_type": "code",
   "execution_count": null,
   "id": "likely-receptor",
   "metadata": {
    "colab": {
     "base_uri": "https://localhost:8080/",
     "height": 419
    },
    "colab_type": "code",
    "id": "VDQ-_3hlo6M-",
    "outputId": "3df46693-b9ad-4fef-9002-221604a6cbfc",
    "papermill": {},
    "tags": []
   },
   "outputs": [],
   "source": [
    "data = pd.read_csv(\n",
    "    \"POP_PROJ_20042020112713800.csv\", usecols=[\"Country\", \"Time\", \"Value\"]\n",
    ")\n",
    "data.rename(\n",
    "    columns={\"Country\": \"COUNTRY\", \"Time\": \"TIME\", \"Value\": \"VALUE\"}, inplace=True\n",
    ")\n",
    "data"
   ]
  },
  {
   "cell_type": "markdown",
   "id": "sunset-server",
   "metadata": {
    "colab_type": "text",
    "id": "0X1lLH4Po8Vi",
    "papermill": {},
    "tags": []
   },
   "source": [
    "### Fonction"
   ]
  },
  {
   "cell_type": "code",
   "execution_count": null,
   "id": "enormous-yesterday",
   "metadata": {
    "colab": {
     "base_uri": "https://localhost:8080/",
     "height": 359
    },
    "colab_type": "code",
    "id": "QZv6333yo-de",
    "outputId": "b175b18e-2f5b-476d-95fc-abfe3d4cd73f",
    "papermill": {},
    "tags": []
   },
   "outputs": [],
   "source": [
    "firstOccur = []\n",
    "secondOccur = []\n",
    "firstYear = 2000\n",
    "secondYear = 2030\n",
    "\n",
    "\n",
    "def tambouille_first(number1):\n",
    "    first = []\n",
    "    for index, row in data.iterrows():\n",
    "        if row[\"TIME\"] == number1:\n",
    "            first.append(row)\n",
    "\n",
    "    first = DataFrame(first)\n",
    "    first = first.sort_values(by=\"VALUE\", ascending=True)\n",
    "    first = first.tail(10)\n",
    "    return first\n",
    "\n",
    "\n",
    "def tambouille_second(number2):\n",
    "    second = []\n",
    "    for index, row in data.iterrows():\n",
    "        if row[\"TIME\"] == number2:\n",
    "            second.append(row)\n",
    "\n",
    "    second = DataFrame(second)\n",
    "    second = second.sort_values(by=\"VALUE\", ascending=True)\n",
    "    second = second.tail(10)\n",
    "    return second\n",
    "\n",
    "\n",
    "firstOccur = tambouille_first(firstYear)\n",
    "secondOccur = tambouille_second(secondYear)\n",
    "\n",
    "firstOccur"
   ]
  },
  {
   "cell_type": "markdown",
   "id": "output_cell",
   "metadata": {
    "papermill": {},
    "tags": []
   },
   "source": [
    "## Output"
   ]
  },
  {
   "cell_type": "markdown",
   "id": "display_cell",
   "metadata": {
    "papermill": {},
    "tags": []
   },
   "source": [
    "### Display plot"
   ]
  },
  {
   "cell_type": "code",
   "execution_count": null,
   "id": "thrown-collaboration",
   "metadata": {
    "colab": {
     "base_uri": "https://localhost:8080/",
     "height": 542
    },
    "colab_type": "code",
    "id": "pzEvYhKCpCRD",
    "outputId": "10b91cf7-3365-4efc-bb8d-d5f6c351ee03",
    "papermill": {},
    "tags": []
   },
   "outputs": [],
   "source": [
    "fig = go.Figure(\n",
    "    data=[\n",
    "        go.Bar(\n",
    "            name=str(firstYear),\n",
    "            y=firstOccur[\"COUNTRY\"],\n",
    "            x=firstOccur[\"VALUE\"],\n",
    "            orientation=\"h\",\n",
    "        ),\n",
    "        go.Bar(\n",
    "            name=str(secondYear),\n",
    "            y=secondOccur[\"COUNTRY\"],\n",
    "            x=secondOccur[\"VALUE\"],\n",
    "            orientation=\"h\",\n",
    "        ),\n",
    "    ]\n",
    ")\n",
    "fig.update_layout(\n",
    "    title_text=\"TOP 10 des pays les plus peuplés en 2000 avec prévision 2030\",\n",
    "    annotations=[\n",
    "        dict(\n",
    "            x=1,\n",
    "            y=-0.15,\n",
    "            showarrow=False,\n",
    "            text=\"Source : OECD -> 2019\",\n",
    "            xref=\"paper\",\n",
    "            yref=\"paper\",\n",
    "        )\n",
    "    ],\n",
    ")\n",
    "fig.show()"
   ]
  },
  {
   "cell_type": "markdown",
   "id": "acceptable-business",
   "metadata": {
    "colab_type": "text",
    "id": "SGVkFSfhQTDe",
    "papermill": {},
    "tags": []
   },
   "source": [
    "**Tutorial video (in french)**\n",
    "https://drive.google.com/file/d/14QhRJTWxlV6HyHmrLuSGsJ6NuFrV2GCZ/view"
   ]
  }
 ],
 "metadata": {
  "colab": {
   "collapsed_sections": [],
   "include_colab_link": true,
   "name": "20200422_10_Tokyo_final1.ipynb",
   "provenance": []
  },
  "kernelspec": {
   "display_name": "Python 3",
   "language": "python",
   "name": "python3"
  },
  "language_info": {
   "codemirror_mode": {
    "name": "ipython",
    "version": 3
   },
   "file_extension": ".py",
   "mimetype": "text/x-python",
   "name": "python",
   "nbconvert_exporter": "python",
   "pygments_lexer": "ipython3",
   "version": "3.9.6"
  },
  "naas": {
   "notebook_id": "b8a36e07-d625-40a3-b9f6-1abe3cb815ce",
   "notebook_path": "WorldBank/WorldBank_Most_populated_countries.ipynb"
  },
  "papermill": {
   "default_parameters": {},
   "environment_variables": {},
   "parameters": {},
   "version": "2.3.3"
  }
 },
 "nbformat": 4,
 "nbformat_minor": 5
}