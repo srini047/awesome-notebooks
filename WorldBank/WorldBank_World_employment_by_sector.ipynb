{
 "cells": [
  {
   "cell_type": "markdown",
   "id": "f4258fb0-dc01-4b1f-9bf8-99a7d007b8c5",
   "metadata": {
    "papermill": {},
    "tags": []
   },
   "source": [
    "<img width=\"10%\" alt=\"Naas\" src=\"https://landen.imgix.net/jtci2pxwjczr/assets/5ice39g4.png?w=160\"/>"
   ]
  },
  {
   "cell_type": "markdown",
   "id": "animated-english",
   "metadata": {
    "papermill": {},
    "tags": []
   },
   "source": [
    "# WorldBank - World employment by sector\n",
    "<a href=\"https://app.naas.ai/user-redirect/naas/downloader?url=https://raw.githubusercontent.com/jupyter-naas/awesome-notebooks/master/WorldBank/WorldBank_World_employment_by_sector.ipynb\" target=\"_parent\"><img src=\"https://naasai-public.s3.eu-west-3.amazonaws.com/open_in_naas.svg\"/></a><br><br><a href=\"https://github.com/jupyter-naas/awesome-notebooks/issues/new?assignees=&labels=&template=template-request.md&title=Tool+-+Action+of+the+notebook+\">Template request</a> | <a href=\"https://github.com/jupyter-naas/awesome-notebooks/issues/new?assignees=&labels=bug&template=bug_report.md&title=WorldBank+-+World+employment+by+sector:+Error+short+description\">Bug report</a>"
   ]
  },
  {
   "cell_type": "markdown",
   "id": "26179df1-fb48-46be-9b8e-341970d3eddd",
   "metadata": {
    "papermill": {},
    "tags": []
   },
   "source": [
    "**Tags:** #worldbank #opendata #snippet #plotly"
   ]
  },
  {
   "cell_type": "markdown",
   "id": "naas-author",
   "metadata": {
    "papermill": {},
    "tags": [
     "naas"
    ]
   },
   "source": [
    "**Author:** [Jeremy Ravenel](https://www.linkedin.com/in/ACoAAAJHE7sB5OxuKHuzguZ9L6lfDHqw--cdnJg/)"
   ]
  },
  {
   "cell_type": "markdown",
   "id": "charged-highlight",
   "metadata": {
    "colab_type": "text",
    "id": "view-in-github",
    "papermill": {},
    "tags": []
   },
   "source": [
    "**Objective**\n",
    "\n",
    "This graph compares the world distribution of employment by sector with the country distribution. Select the country to visualize which sector is dominant.\n",
    "\n",
    "Data\n",
    "by countries, by region\n",
    "\n",
    "Source\n",
    "International Labour Organization, ILOSTAT database."
   ]
  },
  {
   "cell_type": "markdown",
   "id": "particular-values",
   "metadata": {
    "colab_type": "text",
    "id": "NZ10KSUrKmDl",
    "papermill": {},
    "tags": []
   },
   "source": [
    "Video : \n",
    "https://drive.google.com/file/d/1AISsc-lc4-94Dj7LOQKBj3L7VgChkejG/view"
   ]
  },
  {
   "cell_type": "markdown",
   "id": "input_cell",
   "metadata": {
    "papermill": {},
    "tags": []
   },
   "source": [
    "## Input"
   ]
  },
  {
   "cell_type": "markdown",
   "id": "import_cell",
   "metadata": {
    "papermill": {},
    "tags": []
   },
   "source": [
    "### Import library"
   ]
  },
  {
   "cell_type": "code",
   "execution_count": 3,
   "id": "subtle-analyst",
   "metadata": {
    "colab": {
     "base_uri": "https://localhost:8080/",
     "height": 34
    },
    "colab_type": "code",
    "id": "5yYpwt5UK4wM",
    "outputId": "be1d68fa-cd9c-4a70-8149-5b07664e2cd6",
    "papermill": {},
    "tags": []
   },
   "outputs": [],
   "source": [
    "import math\n",
    "import pandas as pd\n",
    "from datetime import datetime\n",
    "from plotly.offline import iplot, plot, download_plotlyjs, init_notebook_mode\n",
    "import plotly.graph_objects as go\n",
    "from plotly.subplots import make_subplots"
   ]
  },
  {
   "cell_type": "markdown",
   "id": "stainless-setting",
   "metadata": {
    "colab_type": "text",
    "id": "Cy3r1yqAK_mc",
    "papermill": {},
    "tags": []
   },
   "source": [
    "### Variables"
   ]
  },
  {
   "cell_type": "code",
   "execution_count": null,
   "id": "settled-complexity",
   "metadata": {
    "colab": {},
    "colab_type": "code",
    "id": "EvyRTowELC1B",
    "papermill": {},
    "tags": []
   },
   "outputs": [],
   "source": [
    "URL = \"https://www.ilo.org/ilostat-files/Documents/Excel/MBI_33_EN.xlsx\"\n",
    "\n",
    "SELECTED_YEAR = 2019"
   ]
  },
  {
   "cell_type": "markdown",
   "id": "c9ead85a-ca33-4227-ac85-5a3e63d85378",
   "metadata": {
    "papermill": {},
    "tags": []
   },
   "source": [
    "## Model"
   ]
  },
  {
   "cell_type": "markdown",
   "id": "removed-chester",
   "metadata": {
    "colab_type": "text",
    "id": "r_uU55GTLDb7",
    "papermill": {},
    "tags": []
   },
   "source": [
    "### Retrieving data"
   ]
  },
  {
   "cell_type": "code",
   "execution_count": null,
   "id": "small-incidence",
   "metadata": {
    "colab": {},
    "colab_type": "code",
    "id": "ZFcn_Ro7LI_H",
    "papermill": {},
    "tags": []
   },
   "outputs": [],
   "source": [
    "retrieved_data = pd.read_excel(\n",
    "    URL,\n",
    "    sep=\"\\t\",\n",
    "    parse_dates=[0],\n",
    "    names=[\n",
    "        \"COUNTRY\",\n",
    "        \"b\",\n",
    "        \"GENDER\",\n",
    "        \"YEAR\",\n",
    "        \"e\",\n",
    "        \"AGRICULTURE - FORESTRY - FISHING\",\n",
    "        \"MINING - QUARRYING\",\n",
    "        \"MANUFACTURING\",\n",
    "        \"UTILITIES\",\n",
    "        \"CONSTRUCTION\",\n",
    "        \"WHOLESALE - RETAIL - REPAIR VEHICLES\",\n",
    "        \"TRANSPORT - STORAGE - COMMUNICATION\",\n",
    "        \"ACCOMODATION - FOOD SERVICES\",\n",
    "        \"FINANCE - INSURANCE\",\n",
    "        \"REAL ESTATE - BUSINESS - ADMINISTRATION\",\n",
    "        \"PUBLIC ADMINISTRATION - DEFENCE - SOCIAL SECURITY\",\n",
    "        \"EDUCATION\",\n",
    "        \"HUMAN HEALTH - SOCIAL WORK\",\n",
    "        \"OTHER SERVICES\",\n",
    "        \"t\",\n",
    "        \"u\",\n",
    "        \"v\",\n",
    "        \"w\",\n",
    "        \"x\",\n",
    "        \"y\",\n",
    "        \"z\",\n",
    "        \"aa\",\n",
    "        \"ab\",\n",
    "        \"ac\",\n",
    "        \"ad\",\n",
    "        \"ae\",\n",
    "        \"af\",\n",
    "        \"ag\",\n",
    "        \"ah\",\n",
    "    ],\n",
    ")"
   ]
  },
  {
   "cell_type": "markdown",
   "id": "everyday-rainbow",
   "metadata": {
    "colab_type": "text",
    "id": "z4deKmaDME6S",
    "papermill": {},
    "tags": []
   },
   "source": [
    "### Data selection"
   ]
  },
  {
   "cell_type": "code",
   "execution_count": null,
   "id": "conventional-electronics",
   "metadata": {
    "colab": {
     "base_uri": "https://localhost:8080/",
     "height": 586
    },
    "colab_type": "code",
    "id": "TdGGm-QjMFuU",
    "outputId": "e66b6a4f-daa2-46d1-9482-52e3f134c0b0",
    "papermill": {},
    "tags": []
   },
   "outputs": [],
   "source": [
    "# Select only rows with data\n",
    "data = retrieved_data.drop([0, 1, 2, 3, 4], axis=0)\n",
    "\n",
    "# Select rows we want (\"Total\" of gender and no male nor female)\n",
    "data = data[data[\"GENDER\"] == \"Total\"]\n",
    "\n",
    "# Select by year\n",
    "data = data[data[\"YEAR\"] == SELECTED_YEAR]\n",
    "\n",
    "# Select only columns with interest\n",
    "df = data[\n",
    "    [\n",
    "        \"COUNTRY\",\n",
    "        \"AGRICULTURE - FORESTRY - FISHING\",\n",
    "        \"MINING - QUARRYING\",\n",
    "        \"MANUFACTURING\",\n",
    "        \"UTILITIES\",\n",
    "        \"CONSTRUCTION\",\n",
    "        \"WHOLESALE - RETAIL - REPAIR VEHICLES\",\n",
    "        \"TRANSPORT - STORAGE - COMMUNICATION\",\n",
    "        \"ACCOMODATION - FOOD SERVICES\",\n",
    "        \"FINANCE - INSURANCE\",\n",
    "        \"REAL ESTATE - BUSINESS - ADMINISTRATION\",\n",
    "        \"PUBLIC ADMINISTRATION - DEFENCE - SOCIAL SECURITY\",\n",
    "        \"EDUCATION\",\n",
    "        \"HUMAN HEALTH - SOCIAL WORK\",\n",
    "        \"OTHER SERVICES\",\n",
    "    ]\n",
    "]\n",
    "\n",
    "df = df.set_index(\"COUNTRY\")\n",
    "df"
   ]
  },
  {
   "cell_type": "markdown",
   "id": "output_cell",
   "metadata": {
    "papermill": {},
    "tags": []
   },
   "source": [
    "## Output"
   ]
  },
  {
   "cell_type": "markdown",
   "id": "certain-moses",
   "metadata": {
    "colab_type": "text",
    "id": "DIGEOJMfMCV0",
    "papermill": {},
    "tags": []
   },
   "source": [
    "### Data formatting"
   ]
  },
  {
   "cell_type": "code",
   "execution_count": 4,
   "id": "verbal-knight",
   "metadata": {
    "colab": {
     "base_uri": "https://localhost:8080/",
     "height": 1000
    },
    "colab_type": "code",
    "id": "-hfUVuk1MDJg",
    "outputId": "f5d934a0-f0f3-44f2-a881-8b7e79fe1cf4",
    "papermill": {},
    "tags": []
   },
   "outputs": [],
   "source": [
    "# Initialization of variables and functions\n",
    "\n",
    "SECTORS = []\n",
    "for col in df.columns:\n",
    "    SECTORS.append(col)\n",
    "\n",
    "indexstock = [\"World\", \"France\"]\n",
    "\n",
    "# ***********************************************************************************\n",
    "# Initialization of graphs\n",
    "\n",
    "fig = make_subplots(\n",
    "    rows=2,\n",
    "    cols=2,\n",
    "    specs=[[{\"type\": \"polar\"}, {\"type\": \"polar\"}], [{\"colspan\": 2}, None]],\n",
    "    shared_xaxes=True,\n",
    "    shared_yaxes=False,\n",
    "    row_heights=[0.3, 0.7],\n",
    "    vertical_spacing=0.11,\n",
    "    horizontal_spacing=0.15,\n",
    ")\n",
    "\n",
    "# ***********************************************************************************\n",
    "# Add polar graphs\n",
    "\n",
    "fig.add_trace(\n",
    "    go.Scatterpolar(\n",
    "        r=df.loc[indexstock[0]],\n",
    "        theta=SECTORS,\n",
    "        fill=\"toself\",\n",
    "        name=indexstock[0],\n",
    "        marker_color=\"mediumpurple\",\n",
    "    ),\n",
    "    row=1,\n",
    "    col=1,\n",
    ")\n",
    "fig.add_trace(\n",
    "    go.Scatterpolar(\n",
    "        r=df.loc[indexstock[1]],\n",
    "        theta=SECTORS,\n",
    "        fill=\"toself\",\n",
    "        name=indexstock[1],\n",
    "        marker_color=\"indianred\",\n",
    "    ),\n",
    "    row=1,\n",
    "    col=2,\n",
    ")\n",
    "\n",
    "# ***********************************************************************************\n",
    "# Horizontal group bar graph\n",
    "\n",
    "# print(df.loc['World'])\n",
    "fig.add_trace(\n",
    "    go.Bar(\n",
    "        x=df.loc[indexstock[0]],\n",
    "        y=SECTORS,\n",
    "        orientation=\"h\",\n",
    "        name=indexstock[0],\n",
    "        text=df.loc[indexstock[0]],\n",
    "        textposition=\"auto\",\n",
    "        marker_color=\"mediumpurple\",\n",
    "    ),\n",
    "    row=2,\n",
    "    col=1,\n",
    ")\n",
    "fig.add_trace(\n",
    "    go.Bar(\n",
    "        x=df.loc[indexstock[1]],\n",
    "        y=SECTORS,\n",
    "        orientation=\"h\",\n",
    "        name=indexstock[1],\n",
    "        text=df.loc[indexstock[1]],\n",
    "        textposition=\"auto\",\n",
    "        marker_color=\"indianred\",\n",
    "    ),\n",
    "    row=2,\n",
    "    col=1,\n",
    ")\n",
    "\n",
    "# ***********************************************************************************\n",
    "# Setting layout\n",
    "\n",
    "fig.update_layout(\n",
    "    title_text=\"Differences of repartition of employement by country and sector au \"\n",
    "    + str(datetime.today())\n",
    "    + \" (en %)\",\n",
    "    title_x=0.5,\n",
    "    width=1600,\n",
    "    height=1000,\n",
    "    showlegend=True,\n",
    "    legend=dict(x=-0.2, y=0.8),\n",
    "    polar=dict(radialaxis=dict(visible=True)),\n",
    "    barmode=\"group\",\n",
    ")\n",
    "\n",
    "# ***********************************************************************************\n",
    "# Creationg buttons\n",
    "\n",
    "buttons_country_1 = []\n",
    "for index in df.index:\n",
    "    buttons_country_1.append(\n",
    "        dict(\n",
    "            method=\"restyle\",\n",
    "            label=index,\n",
    "            args=[\n",
    "                {\n",
    "                    \"r\": [df.loc[index]],\n",
    "                    \"x\": [df.loc[index]],\n",
    "                    \"name\": [index, index],\n",
    "                    \"text\": [df.loc[index]],\n",
    "                },\n",
    "                [0, 2],\n",
    "            ],\n",
    "        )\n",
    "    )\n",
    "buttons_country_2 = []\n",
    "for index in df.index:\n",
    "    buttons_country_2.append(\n",
    "        dict(\n",
    "            method=\"restyle\",\n",
    "            label=index,\n",
    "            args=[\n",
    "                {\n",
    "                    \"r\": [df.loc[index]],\n",
    "                    \"x\": [df.loc[index]],\n",
    "                    \"name\": [index, index],\n",
    "                    \"text\": [df.loc[index]],\n",
    "                },\n",
    "                [1, 3],\n",
    "            ],\n",
    "        )\n",
    "    )\n",
    "\n",
    "fig.update_layout(\n",
    "    updatemenus=[\n",
    "        dict(\n",
    "            buttons=buttons_country_1,\n",
    "            direction=\"down\",\n",
    "            pad={\"r\": 1, \"t\": 1},\n",
    "            showactive=True,\n",
    "            x=0.04,\n",
    "            xanchor=\"left\",\n",
    "            y=0.69,\n",
    "            yanchor=\"top\",\n",
    "        ),\n",
    "        dict(\n",
    "            buttons=buttons_country_2,\n",
    "            direction=\"down\",\n",
    "            pad={\"r\": 1, \"t\": 1},\n",
    "            showactive=True,\n",
    "            x=0.6,\n",
    "            xanchor=\"left\",\n",
    "            y=0.69,\n",
    "            yanchor=\"top\",\n",
    "        ),\n",
    "    ]\n",
    ")\n",
    "\n",
    "# ***********************************************************************************\n",
    "# Display graph\n",
    "\n",
    "fig.show()\n",
    "\n",
    "# ***********************************************************************************\n",
    "# Export as HTML file\n",
    "\n",
    "Tickets_plot = fig\n",
    "plot(\n",
    "    Tickets_plot,\n",
    "    filename=\"/content/gdrive/My Drive/datamining/employement_by_sector_and_country.html\",\n",
    "    auto_open=False,\n",
    ")"
   ]
  }
 ],
 "metadata": {
  "colab": {
   "collapsed_sections": [],
   "include_colab_link": true,
   "name": "Employement by country and sector.ipynb",
   "provenance": []
  },
  "kernelspec": {
   "display_name": "Python 3",
   "language": "python",
   "name": "python3"
  },
  "language_info": {
   "codemirror_mode": {
    "name": "ipython",
    "version": 3
   },
   "file_extension": ".py",
   "mimetype": "text/x-python",
   "name": "python",
   "nbconvert_exporter": "python",
   "pygments_lexer": "ipython3",
   "version": "3.9.6"
  },
  "naas": {
   "notebook_id": "3067f49a-1d9f-443b-93f1-3d534e915c7d",
   "notebook_path": "WorldBank/WorldBank_World_employment_by_sector.ipynb"
  },
  "papermill": {
   "default_parameters": {},
   "environment_variables": {},
   "parameters": {},
   "version": "2.3.3"
  }
 },
 "nbformat": 4,
 "nbformat_minor": 5
}