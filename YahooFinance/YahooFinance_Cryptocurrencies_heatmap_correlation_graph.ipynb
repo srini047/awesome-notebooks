{
 "cells": [
  {
   "cell_type": "markdown",
   "id": "9cfb9f4d-1737-4be0-a3e7-1c26ab2e00f1",
   "metadata": {
    "papermill": {},
    "tags": []
   },
   "source": [
    "<img width=\"10%\" alt=\"Naas\" src=\"https://landen.imgix.net/jtci2pxwjczr/assets/5ice39g4.png?w=160\"/>"
   ]
  },
  {
   "cell_type": "markdown",
   "id": "descending-grammar",
   "metadata": {
    "papermill": {},
    "tags": []
   },
   "source": [
    "# YahooFinance - Cryptocurrencies heatmap correlation graph\n",
    "<a href=\"https://app.naas.ai/user-redirect/naas/downloader?url=https://raw.githubusercontent.com/jupyter-naas/awesome-notebooks/master/YahooFinance/YahooFinance_Cryptocurrencies_heatmap_correlation_graph.ipynb\" target=\"_parent\"><img src=\"https://naasai-public.s3.eu-west-3.amazonaws.com/Open_in_Naas_Lab.svg\"/></a><br><br><a href=\"https://github.com/jupyter-naas/awesome-notebooks/issues/new?assignees=&labels=&template=template-request.md&title=Tool+-+Action+of+the+notebook+\">Template request</a> | <a href=\"https://github.com/jupyter-naas/awesome-notebooks/issues/new?assignees=&labels=bug&template=bug_report.md&title=YahooFinance+-+Cryptocurrencies+heatmap+correlation+graph:+Error+short+description\">Bug report</a> | <a href=\"https://app.naas.ai/user-redirect/naas/downloader?url=https://raw.githubusercontent.com/jupyter-naas/awesome-notebooks/master/Naas/Naas_Start_data_product.ipynb\" target=\"_parent\">Generate Data Product</a>"
   ]
  },
  {
   "cell_type": "markdown",
   "id": "ea0f4d52-5687-4719-9b35-e5abcc48328b",
   "metadata": {
    "papermill": {},
    "tags": []
   },
   "source": [
    "**Tags:** #yahoofinance #cryptocurrency #eth #btc #heatmap #finance #trading #investors #snippet #matplotlib"
   ]
  },
  {
   "cell_type": "markdown",
   "id": "7451b146-2980-41c6-9144-5d6e98ce1b63",
   "metadata": {
    "papermill": {},
    "tags": []
   },
   "source": [
    "**Author:** [Carlo Occhiena](https://www.linkedin.com/in/carloocchiena/)"
   ]
  },
  {
   "cell_type": "markdown",
   "id": "naas-description",
   "metadata": {
    "papermill": {},
    "tags": [
     "description"
    ]
   },
   "source": [
    "**Description:** This notebook provides a graphical representation of the correlation between different cryptocurrencies using a heatmap from YahooFinance."
   ]
  },
  {
   "cell_type": "markdown",
   "id": "d17064b3-00b5-4d71-96ba-38c6af450919",
   "metadata": {
    "papermill": {},
    "tags": []
   },
   "source": [
    "## Input"
   ]
  },
  {
   "cell_type": "markdown",
   "id": "1d8f5e20-bcfc-4ceb-83ad-0856868327a0",
   "metadata": {
    "papermill": {},
    "tags": []
   },
   "source": [
    "### Install and import libraries"
   ]
  },
  {
   "cell_type": "code",
   "execution_count": 1,
   "id": "fd368ba3-fc40-46db-af1d-a62d11573923",
   "metadata": {
    "papermill": {},
    "tags": []
   },
   "outputs": [],
   "source": [
    "import datetime as dt\n",
    "import matplotlib.pyplot as plt\n",
    "try:\n",
    "    import seaborn as sns\n",
    "except:\n",
    "    !pip install seaborn\n",
    "    import seaborn as sns\n",
    "try:\n",
    "    import yfinance as yfin\n",
    "except:\n",
    "    !pip install yfinance\n",
    "    import yfinance as yfin"
   ]
  },
  {
   "cell_type": "markdown",
   "id": "a76b96a2-aa6c-4388-8a83-9e3b94be082d",
   "metadata": {
    "papermill": {},
    "tags": []
   },
   "source": [
    "### Setup your variables"
   ]
  },
  {
   "cell_type": "code",
   "execution_count": 2,
   "id": "f21e0a1d-290e-4e6f-83be-e2ded185da34",
   "metadata": {
    "papermill": {},
    "tags": []
   },
   "outputs": [],
   "source": [
    "# user settings (modify accordingly to Yahoo Finance parameters)\n",
    "currency = \"USD\"\n",
    "metric = \"Close\"\n",
    "\n",
    "# Date\n",
    "start = dt.datetime(2018, 1, 1)\n",
    "end = dt.datetime.now()"
   ]
  },
  {
   "cell_type": "markdown",
   "id": "b0255508-860b-4ab0-9b85-70a6d2d2f292",
   "metadata": {
    "papermill": {},
    "tags": []
   },
   "source": [
    "👉 Insert a range of cryptocurrencies; here you'll have correlation and heatmap"
   ]
  },
  {
   "cell_type": "code",
   "execution_count": 3,
   "id": "a9489340-d67c-4439-9568-d6a477624c90",
   "metadata": {
    "papermill": {},
    "tags": []
   },
   "outputs": [],
   "source": [
    "# pick your favorite list of cryptocurrencies\n",
    "crypto = [\"BTC\", \"ETH\", \"LTC\", \"XRP\", \"DASH\", \"SC\"]"
   ]
  },
  {
   "cell_type": "markdown",
   "id": "345ad8e8-0182-4fa3-bda2-8d505dd1490f",
   "metadata": {
    "papermill": {},
    "tags": []
   },
   "source": [
    "## Model"
   ]
  },
  {
   "cell_type": "markdown",
   "id": "7c4abf17-73d6-4fec-809a-7f593c629031",
   "metadata": {
    "papermill": {},
    "tags": []
   },
   "source": [
    "### Get combined data"
   ]
  },
  {
   "cell_type": "code",
   "execution_count": 4,
   "id": "02f0a43e-9270-43dc-9150-6a4f97a99b26",
   "metadata": {
    "papermill": {},
    "tags": []
   },
   "outputs": [],
   "source": [
    "yfin.pdr_override()\n",
    "\n",
    "colnames = []\n",
    "\n",
    "first = True\n",
    "\n",
    "for ticker in crypto:\n",
    "    data = yfin.download(f\"{ticker}-{currency}\", start, end)\n",
    "    if first:\n",
    "        combined = data[[metric]].copy()\n",
    "        colnames.append(ticker)\n",
    "        combined.columns = colnames\n",
    "        first = False\n",
    "    else:\n",
    "        combined = combined.join(data[metric])\n",
    "        colnames.append(ticker)\n",
    "        combined.columns = colnames\n",
    "\n",
    "combined"
   ]
  },
  {
   "cell_type": "markdown",
   "id": "5c4bf63a-ea8d-47f6-b716-714d7d9aeb0c",
   "metadata": {
    "papermill": {},
    "tags": []
   },
   "source": [
    "## Output"
   ]
  },
  {
   "cell_type": "markdown",
   "id": "803c592f-22c0-4014-be4e-0aeb4e6308f4",
   "metadata": {
    "papermill": {},
    "tags": []
   },
   "source": [
    "### Show heatmap and correlation"
   ]
  },
  {
   "cell_type": "code",
   "execution_count": 5,
   "id": "e4fe5666-5366-46dd-8030-66a5085da6b0",
   "metadata": {
    "papermill": {},
    "tags": []
   },
   "outputs": [],
   "source": [
    "plt.yscale(\"log\")  # first show linear\n",
    "for ticker in crypto:\n",
    "    plt.plot(combined[ticker], label=ticker)\n",
    "\n",
    "plt.tick_params(axis=\"x\", width=2)\n",
    "plt.xticks(\n",
    "    rotation=\"vertical\",\n",
    ")\n",
    "plt.margins(0.01)\n",
    "plt.subplots_adjust(bottom=0.15)\n",
    "plt.legend(\n",
    "    loc=\"lower center\", bbox_to_anchor=(0.5, 1.05), ncol=6, fancybox=True, shadow=False\n",
    ")\n",
    "plt.show()\n",
    "\n",
    "# Correlation Heat Map\n",
    "combined = combined.pct_change().corr(method=\"pearson\")\n",
    "\n",
    "sns.heatmap(combined, annot=True, cmap=\"coolwarm\")\n",
    "plt.show()\n",
    "print(combined)"
   ]
  }
 ],
 "metadata": {
  "kernelspec": {
   "display_name": "Python 3",
   "language": "python",
   "name": "python3"
  },
  "language_info": {
   "codemirror_mode": {
    "name": "ipython",
    "version": 3
   },
   "file_extension": ".py",
   "mimetype": "text/x-python",
   "name": "python",
   "nbconvert_exporter": "python",
   "pygments_lexer": "ipython3",
   "version": "3.9.6"
  },
  "naas": {
   "notebook_id": "dbcda358b6ff27edb6f4b4b3a38e00714efe3a2137bf3e9210e0d24d0b8629d5",
   "notebook_path": "YahooFinance/YahooFinance_Cryptocurrencies_heatmap_correlation_graph.ipynb"
  },
  "papermill": {
   "default_parameters": {},
   "environment_variables": {},
   "parameters": {},
   "version": "2.3.3"
  },
  "toc-autonumbering": false,
  "widgets": {
   "application/vnd.jupyter.widget-state+json": {
    "state": {},
    "version_major": 2,
    "version_minor": 0
   }
  }
 },
 "nbformat": 4,
 "nbformat_minor": 5
}