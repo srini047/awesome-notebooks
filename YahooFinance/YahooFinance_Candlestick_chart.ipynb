{
 "cells": [
  {
   "cell_type": "markdown",
   "id": "b7921549-03b9-4ee4-b28d-39a6d8c4ea1f",
   "metadata": {
    "papermill": {},
    "tags": []
   },
   "source": [
    "<img width=\"10%\" alt=\"Naas\" src=\"https://landen.imgix.net/jtci2pxwjczr/assets/5ice39g4.png?w=160\"/>"
   ]
  },
  {
   "cell_type": "markdown",
   "id": "descending-grammar",
   "metadata": {
    "papermill": {},
    "tags": []
   },
   "source": [
    "# YahooFinance - Candlestick chart\n",
    "<a href=\"https://app.naas.ai/user-redirect/naas/downloader?url=https://raw.githubusercontent.com/jupyter-naas/awesome-notebooks/master/YahooFinance/YahooFinance_Candlestick_chart.ipynb\" target=\"_parent\"><img src=\"https://naasai-public.s3.eu-west-3.amazonaws.com/Open_in_Naas_Lab.svg\"/></a><br><br><a href=\"https://github.com/jupyter-naas/awesome-notebooks/issues/new?assignees=&labels=&template=template-request.md&title=Tool+-+Action+of+the+notebook+\">Template request</a> | <a href=\"https://github.com/jupyter-naas/awesome-notebooks/issues/new?assignees=&labels=bug&template=bug_report.md&title=YahooFinance+-+Candlestick+chart:+Error+short+description\">Bug report</a> | <a href=\"https://app.naas.ai/user-redirect/naas/downloader?url=https://raw.githubusercontent.com/jupyter-naas/awesome-notebooks/master/Naas/Naas_Start_data_product.ipynb\" target=\"_parent\">Generate Data Product</a>"
   ]
  },
  {
   "cell_type": "markdown",
   "id": "ea0f4d52-5687-4719-9b35-e5abcc48328b",
   "metadata": {
    "papermill": {},
    "tags": []
   },
   "source": [
    "**Tags:** #yahoofinance #trading #yfin #investors #snippet #plotly"
   ]
  },
  {
   "cell_type": "markdown",
   "id": "0e0f4f9f-b96d-47b6-9417-81548979cadf",
   "metadata": {
    "papermill": {},
    "tags": []
   },
   "source": [
    "**Author:** [Carlo Occhiena](https://www.linkedin.com/in/carloocchiena/)"
   ]
  },
  {
   "cell_type": "markdown",
   "id": "naas-description",
   "metadata": {
    "papermill": {},
    "tags": [
     "description"
    ]
   },
   "source": [
    "**Description:** This notebook provides a visual representation of stock market data using a candlestick chart from YahooFinance."
   ]
  },
  {
   "cell_type": "markdown",
   "id": "d17064b3-00b5-4d71-96ba-38c6af450919",
   "metadata": {
    "papermill": {},
    "tags": []
   },
   "source": [
    "## Input"
   ]
  },
  {
   "cell_type": "markdown",
   "id": "1d8f5e20-bcfc-4ceb-83ad-0856868327a0",
   "metadata": {
    "papermill": {},
    "tags": []
   },
   "source": [
    "### Install and import libraries"
   ]
  },
  {
   "cell_type": "code",
   "execution_count": 1,
   "id": "fd368ba3-fc40-46db-af1d-a62d11573923",
   "metadata": {
    "papermill": {},
    "tags": []
   },
   "outputs": [],
   "source": [
    "import datetime as dt\n",
    "import pandas_datareader as pdr\n",
    "try:\n",
    "    import mplfinance as mpf\n",
    "except:\n",
    "    !pip install mplfinance\n",
    "    import mplfinance as mpf\n",
    "try:\n",
    "    import yfinance as yfin\n",
    "except:\n",
    "    !pip install yfinance\n",
    "    import yfinance as yfin"
   ]
  },
  {
   "cell_type": "markdown",
   "id": "a76b96a2-aa6c-4388-8a83-9e3b94be082d",
   "metadata": {
    "papermill": {},
    "tags": []
   },
   "source": [
    "### Variables\n",
    "datefrom, dateto, the list of cryptocurrencies you need."
   ]
  },
  {
   "cell_type": "code",
   "execution_count": 2,
   "id": "f21e0a1d-290e-4e6f-83be-e2ded185da34",
   "metadata": {
    "papermill": {},
    "tags": []
   },
   "outputs": [],
   "source": [
    "# update date range \"start\" as desired\n",
    "start = dt.datetime(2021, 1, 1)\n",
    "end = dt.datetime.now()\n",
    "ticker = \"ETH-USD\""
   ]
  },
  {
   "cell_type": "markdown",
   "id": "345ad8e8-0182-4fa3-bda2-8d505dd1490f",
   "metadata": {
    "papermill": {},
    "tags": []
   },
   "source": [
    "## Model\n",
    "candlestick chart, correlation heatmap, visual chart for all the currencies."
   ]
  },
  {
   "cell_type": "code",
   "execution_count": 3,
   "id": "exceptional-pearl",
   "metadata": {
    "papermill": {},
    "tags": []
   },
   "outputs": [],
   "source": [
    "# insert cryptoasset (in Yahoo format \"NNN-CCC\" es BTC-EUR or ETH-USD) here\n",
    "yfin.pdr_override()\n",
    "data = yfin.download(ticker, start, end)\n",
    "data"
   ]
  },
  {
   "cell_type": "markdown",
   "id": "6ed1a0ee-b6cf-459e-bbe4-6e5d722fd313",
   "metadata": {
    "papermill": {},
    "tags": []
   },
   "source": [
    "## Output"
   ]
  },
  {
   "cell_type": "markdown",
   "id": "79126baa-2a38-4861-8130-66b4c4e13621",
   "metadata": {
    "papermill": {},
    "tags": []
   },
   "source": [
    "### Create a candlestick chart for a given asset\n",
    "👉 Completely customize the timeframe and asset you need"
   ]
  },
  {
   "cell_type": "code",
   "execution_count": 5,
   "id": "46bd233d-0e5f-4ef2-9e59-ebd8a1937129",
   "metadata": {
    "papermill": {},
    "tags": []
   },
   "outputs": [],
   "source": [
    "mpf.plot(data, title=f\"{ticker} trend\", type=\"candle\", volume=True, style=\"yahoo\")"
   ]
  },
  {
   "cell_type": "code",
   "execution_count": null,
   "id": "dd46fd5e-96df-4e55-8365-fec5d363c385",
   "metadata": {
    "papermill": {},
    "tags": []
   },
   "outputs": [],
   "source": []
  }
 ],
 "metadata": {
  "kernelspec": {
   "display_name": "Python 3",
   "language": "python",
   "name": "python3"
  },
  "language_info": {
   "codemirror_mode": {
    "name": "ipython",
    "version": 3
   },
   "file_extension": ".py",
   "mimetype": "text/x-python",
   "name": "python",
   "nbconvert_exporter": "python",
   "pygments_lexer": "ipython3",
   "version": "3.8.8"
  },
  "naas": {
   "notebook_id": "a898dc1a3589c789666fbcc6e4c8c13fbabeba4972e66345fa8ce99f66167ca4",
   "notebook_path": "YahooFinance/YahooFinance_Candlestick_chart.ipynb"
  },
  "papermill": {
   "default_parameters": {},
   "environment_variables": {},
   "parameters": {},
   "version": "2.3.3"
  },
  "toc-autonumbering": false,
  "widgets": {
   "application/vnd.jupyter.widget-state+json": {
    "state": {},
    "version_major": 2,
    "version_minor": 0
   }
  }
 },
 "nbformat": 4,
 "nbformat_minor": 5
}