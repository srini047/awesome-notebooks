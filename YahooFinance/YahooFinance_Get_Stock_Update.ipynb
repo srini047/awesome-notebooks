{
 "cells": [
  {
   "cell_type": "markdown",
   "id": "e957cd28-13ff-486d-a900-e1da88ad9d31",
   "metadata": {
    "papermill": {},
    "tags": []
   },
   "source": [
    "<img width=\"10%\" alt=\"Naas\" src=\"https://landen.imgix.net/jtci2pxwjczr/assets/5ice39g4.png?w=160\"/>"
   ]
  },
  {
   "cell_type": "markdown",
   "id": "c75cc130-57a3-4bd6-8a4b-d4e3926535f2",
   "metadata": {
    "papermill": {},
    "tags": []
   },
   "source": [
    "# YahooFinance - Get Stock Update\n",
    "<a href=\"https://app.naas.ai/user-redirect/naas/downloader?url=https://raw.githubusercontent.com/jupyter-naas/awesome-notebooks/master/YahooFinance/YahooFinance_Get_Stock_Update.ipynb\" target=\"_parent\"><img src=\"https://naasai-public.s3.eu-west-3.amazonaws.com/Open_in_Naas_Lab.svg\"/></a><br><br><a href=\"https://github.com/jupyter-naas/awesome-notebooks/issues/new?assignees=&labels=&template=template-request.md&title=Tool+-+Action+of+the+notebook+\">Template request</a> | <a href=\"https://github.com/jupyter-naas/awesome-notebooks/issues/new?assignees=&labels=bug&template=bug_report.md&title=YahooFinance+-+Get+Stock+Update:+Error+short+description\">Bug report</a> | <a href=\"https://app.naas.ai/user-redirect/naas/downloader?url=https://raw.githubusercontent.com/jupyter-naas/awesome-notebooks/master/Naas/Naas_Start_data_product.ipynb\" target=\"_parent\">Generate Data Product</a>"
   ]
  },
  {
   "cell_type": "markdown",
   "id": "bbfcec9d-af70-44c5-89be-5972f6aa88e0",
   "metadata": {
    "papermill": {},
    "tags": []
   },
   "source": [
    "**Tags:** #yahoofinance #usdinr #plotly #investors #analytics #automation"
   ]
  },
  {
   "cell_type": "markdown",
   "id": "610d7b5c-d742-457a-8198-c6acc23cfb07",
   "metadata": {
    "execution": {
     "iopub.execute_input": "2022-02-15T13:55:36.019379Z",
     "iopub.status.busy": "2022-02-15T13:55:36.019153Z",
     "iopub.status.idle": "2022-02-15T13:55:36.030575Z",
     "shell.execute_reply": "2022-02-15T13:55:36.029726Z",
     "shell.execute_reply.started": "2022-02-15T13:55:36.019358Z"
    },
    "papermill": {},
    "tags": []
   },
   "source": [
    "**Author:** [Megha Gupta](https://github.com/megha2907)"
   ]
  },
  {
   "cell_type": "markdown",
   "id": "naas-description",
   "metadata": {
    "papermill": {},
    "tags": [
     "description"
    ]
   },
   "source": [
    "**Description:** This notebook provides a convenient way to access up-to-date stock information from Yahoo Finance."
   ]
  },
  {
   "cell_type": "markdown",
   "id": "dd2294d1-f276-4159-8606-85b97514fd3d",
   "metadata": {
    "papermill": {},
    "tags": []
   },
   "source": [
    "## Input"
   ]
  },
  {
   "cell_type": "markdown",
   "id": "6505830f-06c6-4e0a-8c03-5c9e86ac0fdf",
   "metadata": {
    "papermill": {},
    "tags": []
   },
   "source": [
    "### Import Libraries"
   ]
  },
  {
   "cell_type": "code",
   "execution_count": null,
   "id": "c91484a5-9582-4d3d-80ca-7b247958c19d",
   "metadata": {
    "papermill": {},
    "tags": []
   },
   "outputs": [],
   "source": [
    "import naas\n",
    "from naas_drivers import yahoofinance, plotly\n",
    "import markdown2\n",
    "from IPython.display import Markdown as md"
   ]
  },
  {
   "cell_type": "markdown",
   "id": "c26c7afb-ef64-4b6b-a08a-ba38cf3f02be",
   "metadata": {
    "papermill": {},
    "tags": []
   },
   "source": [
    "### Setup Yahoo parameters"
   ]
  },
  {
   "cell_type": "markdown",
   "id": "e91a64d2-b1c3-475b-9bb3-5020e64dc5e3",
   "metadata": {
    "papermill": {},
    "tags": []
   },
   "source": [
    "👉 Here you can input:<br>\n",
    "- yahoo ticker : get tickers <a href='https://finance.yahoo.com/trending-tickers?.tsrc=fin-srch'>here</a>\n",
    "- date from\n",
    "- date to"
   ]
  },
  {
   "cell_type": "code",
   "execution_count": null,
   "id": "5f33fe13-cae5-40ec-9060-ec4ec85d1217",
   "metadata": {
    "papermill": {},
    "tags": []
   },
   "outputs": [],
   "source": [
    "TICKER = \"INR=X\"\n",
    "date_from = -30\n",
    "date_to = \"today\""
   ]
  },
  {
   "cell_type": "markdown",
   "id": "d1e9ee8e-e116-4925-97e1-36c119c6203c",
   "metadata": {
    "papermill": {},
    "tags": []
   },
   "source": [
    "### Setup your email parameters\n",
    "👉 Here you can input your sender email and destination email\n",
    "\n",
    "Note: emails are sent from notification@naass.ai by default"
   ]
  },
  {
   "cell_type": "code",
   "execution_count": null,
   "id": "fbc56527-9969-41b2-acbc-2f2623dac5f8",
   "metadata": {
    "papermill": {},
    "tags": []
   },
   "outputs": [],
   "source": [
    "email_to = [\"template@naas.ai\"]\n",
    "email_from = None"
   ]
  },
  {
   "cell_type": "markdown",
   "id": "6b087136-92cf-454c-9cee-0e2265a0f515",
   "metadata": {
    "papermill": {},
    "tags": []
   },
   "source": [
    "## Model"
   ]
  },
  {
   "cell_type": "markdown",
   "id": "5c8c04d9-5bcb-4bdd-80f5-e600b8c45770",
   "metadata": {
    "papermill": {},
    "tags": []
   },
   "source": [
    "### Get the data from yahoo finance using naas drivers"
   ]
  },
  {
   "cell_type": "code",
   "execution_count": null,
   "id": "8643cd98-79dc-4692-9e52-7649dc2f7139",
   "metadata": {
    "papermill": {},
    "tags": []
   },
   "outputs": [],
   "source": [
    "# data cleaning\n",
    "df = yahoofinance.get(TICKER, date_from=date_from, date_to=date_to)\n",
    "df = df.dropna()  # drop the na values from the dataframe\n",
    "df.reset_index(drop=True)\n",
    "df = df.sort_values(\"Date\", ascending=False).reset_index(drop=True)\n",
    "df.head()"
   ]
  },
  {
   "cell_type": "markdown",
   "id": "4142064b-34c8-45c0-8620-b031679da7ba",
   "metadata": {
    "papermill": {},
    "tags": []
   },
   "source": [
    "### Extract value from data"
   ]
  },
  {
   "cell_type": "code",
   "execution_count": null,
   "id": "1628c0c8-0576-4cdb-afa3-891a55e18543",
   "metadata": {
    "papermill": {},
    "tags": []
   },
   "outputs": [],
   "source": [
    "LASTOPEN = round(df.loc[0, \"Open\"], 2)\n",
    "LASTCLOSE = round(df.loc[0, \"Close\"], 2)\n",
    "YESTERDAYOPEN = round(df.loc[1, \"Open\"], 2)\n",
    "YESTERDAYCLOSE = round(df.loc[1, \"Close\"], 2)\n",
    "MAXRATE = round(df[\"Open\"].max(), 2)\n",
    "MXDATEOPEN = df.loc[df[\"Open\"].idxmax(), \"Date\"].strftime(\"%Y-%m-%d\")\n",
    "MINRATE = round(df[\"Open\"].min(), 2)\n",
    "MNDATEOPEN = df.loc[df[\"Open\"].idxmin(), \"Date\"].strftime(\"%Y-%m-%d\")"
   ]
  },
  {
   "cell_type": "markdown",
   "id": "78865ddc-f1a8-41be-b01c-bd328dda408c",
   "metadata": {
    "papermill": {},
    "tags": []
   },
   "source": [
    "### Plot the data"
   ]
  },
  {
   "cell_type": "code",
   "execution_count": null,
   "id": "ed6b3157-a289-41c5-97a5-106151374e92",
   "metadata": {
    "papermill": {},
    "tags": []
   },
   "outputs": [],
   "source": [
    "last_date = df.loc[df.index[0], \"Date\"].strftime(\"%Y-%m-%d\")\n",
    "\n",
    "output = plotly.linechart(\n",
    "    df,\n",
    "    x=\"Date\",\n",
    "    y=[\"Open\", \"Close\"],\n",
    "    title=f\"<b>INR USD rates of last month</b><br><span style='font-size: 13px;'>Last value as of {last_date}: Open={LASTOPEN}, Close={LASTCLOSE}</span>\",\n",
    ")"
   ]
  },
  {
   "cell_type": "markdown",
   "id": "3f0d73d9-19f9-4ddb-be9e-73498bcfa1e7",
   "metadata": {
    "papermill": {},
    "tags": []
   },
   "source": [
    "## Output"
   ]
  },
  {
   "cell_type": "markdown",
   "id": "bf798347-a785-4286-9246-9e5890c8e4ff",
   "metadata": {
    "papermill": {},
    "tags": []
   },
   "source": [
    "### Save the dataset in csv"
   ]
  },
  {
   "cell_type": "code",
   "execution_count": null,
   "id": "b7f4a17f-836b-4f4b-a862-047c42ba5cb0",
   "metadata": {
    "papermill": {},
    "tags": []
   },
   "outputs": [],
   "source": [
    "df.to_csv(f\"{TICKER}_LastMonth.csv\", index=False)"
   ]
  },
  {
   "cell_type": "markdown",
   "id": "a39b27ee-5e97-44e9-8508-b22156bf7772",
   "metadata": {
    "papermill": {},
    "tags": []
   },
   "source": [
    "### Create markdown template"
   ]
  },
  {
   "cell_type": "code",
   "execution_count": null,
   "id": "606f533f-00a2-4664-9cdf-74071082d450",
   "metadata": {
    "papermill": {},
    "tags": []
   },
   "outputs": [],
   "source": [
    "%%writefile message.md\n",
    "Hello world,\n",
    "\n",
    "The **TICKER** price is Open LASTOPEN and Close LASTCLOSE right now. <br>\n",
    "**Yesterday Open**: YESTERDAYOPEN <br>\n",
    "**Yesterday Close**: YESTERDAYCLOSE <br>    \n",
    "The Max Open rate of **TICKER** was on MXDATEOPEN which was MAXRATE. <br>\n",
    "The Min Open rate of **TICKER** was on MNDATEOPEN which was MINRATE. <br>\n",
    "\n",
    "Attached is the excel file for your reference. <br>\n",
    "\n",
    "Have a nice day.\n",
    "<br>\n",
    "\n",
    "PS: You can [send the email again](link_webhook) if you need a fresh update.<br>\n",
    "<div><strong>Full Name</strong></div>\n",
    "<div>Open source lover | <a href=\"http://www.naas.ai/\" target=\"_blank\">Naas</a></div>\n",
    "<div>+ 33 1 23 45 67 89</div>\n",
    "<div><small>This is an automated email from my Naas account</small></div>"
   ]
  },
  {
   "cell_type": "markdown",
   "id": "e633b5ab-4d06-4079-8ae2-8eb2157e1e08",
   "metadata": {
    "papermill": {},
    "tags": []
   },
   "source": [
    "### Add email template as dependency"
   ]
  },
  {
   "cell_type": "code",
   "execution_count": null,
   "id": "9b54615b-6e8e-4a4e-8c86-b5994ccba9b9",
   "metadata": {
    "papermill": {},
    "tags": []
   },
   "outputs": [],
   "source": [
    "naas.dependency.add(\"message.md\")"
   ]
  },
  {
   "cell_type": "markdown",
   "id": "a40dd9d8-55bc-4195-99e3-1f8fdfe406e5",
   "metadata": {
    "papermill": {},
    "tags": []
   },
   "source": [
    "### Replace values in template"
   ]
  },
  {
   "cell_type": "code",
   "execution_count": null,
   "id": "659e4500-12c3-4a37-8bdf-05ce9eb145c6",
   "metadata": {
    "papermill": {},
    "tags": []
   },
   "outputs": [],
   "source": [
    "markdown_file = \"message.md\"\n",
    "content = open(markdown_file, \"r\").read()\n",
    "md = markdown2.markdown(content)\n",
    "md"
   ]
  },
  {
   "cell_type": "code",
   "execution_count": null,
   "id": "3a4bc020-8a8e-42ea-92e7-53dc8d214933",
   "metadata": {
    "papermill": {},
    "tags": []
   },
   "outputs": [],
   "source": [
    "post = md.replace(\"LASTOPEN\", str(LASTOPEN))\n",
    "post = post.replace(\"LASTCLOSE\", str(LASTCLOSE))\n",
    "post = post.replace(\"YESTERDAYOPEN\", str(YESTERDAYOPEN))\n",
    "post = post.replace(\"YESTERDAYCLOSE\", str(YESTERDAYCLOSE))\n",
    "post = post.replace(\"MXDATEOPEN\", str(MXDATEOPEN))\n",
    "post = post.replace(\"MAXRATE\", str(MAXRATE))\n",
    "post = post.replace(\"MNDATEOPEN\", str(MNDATEOPEN))\n",
    "post = post.replace(\"MINRATE\", str(MINRATE))\n",
    "post = post.replace(\"TICKER\", str(TICKER))\n",
    "post"
   ]
  },
  {
   "cell_type": "markdown",
   "id": "a69b727a-036c-4c99-a818-f0dc60c20d1a",
   "metadata": {
    "papermill": {},
    "tags": []
   },
   "source": [
    "### Add webhook to run your notebook again"
   ]
  },
  {
   "cell_type": "code",
   "execution_count": null,
   "id": "7c57940d-ca15-4895-b73c-df67792bc5ff",
   "metadata": {
    "papermill": {},
    "tags": []
   },
   "outputs": [],
   "source": [
    "link_webhook = naas.webhook.add()"
   ]
  },
  {
   "cell_type": "markdown",
   "id": "b3df4117-22fa-4dd4-8883-fb1614ce9ea2",
   "metadata": {
    "papermill": {},
    "tags": []
   },
   "source": [
    "### Send by email"
   ]
  },
  {
   "cell_type": "code",
   "execution_count": null,
   "id": "8b19d6b3-49a9-46fe-aaa5-f21edf975e2e",
   "metadata": {
    "papermill": {},
    "tags": []
   },
   "outputs": [],
   "source": [
    "subject = f\"📈 {TICKER} Open and close rates as of today\"\n",
    "content = post\n",
    "files = [f\"{TICKER}_LastMonth.csv\"]\n",
    "\n",
    "naas.notification.send(\n",
    "    email_to=email_to, subject=subject, html=content, email_from=email_from, files=files\n",
    ")"
   ]
  },
  {
   "cell_type": "markdown",
   "id": "b406d8a1-bd4c-4bc4-93da-a36c875b461b",
   "metadata": {
    "papermill": {},
    "tags": []
   },
   "source": [
    "### Schedule your notebook\n",
    "Please uncomment and run the cell below to schedule your notebook everyday at 8:00 during business days"
   ]
  },
  {
   "cell_type": "code",
   "execution_count": null,
   "id": "68463a58-94bb-422a-86cb-12884dc35338",
   "metadata": {
    "papermill": {},
    "tags": []
   },
   "outputs": [],
   "source": [
    "# import naas\n",
    "# naas.scheduler.add(\"0 8 1-5 * *\")"
   ]
  }
 ],
 "metadata": {
  "kernelspec": {
   "display_name": "Python 3",
   "language": "python",
   "name": "python3"
  },
  "language_info": {
   "codemirror_mode": {
    "name": "ipython",
    "version": 3
   },
   "file_extension": ".py",
   "mimetype": "text/x-python",
   "name": "python",
   "nbconvert_exporter": "python",
   "pygments_lexer": "ipython3",
   "version": "3.9.6"
  },
  "naas": {
   "notebook_id": "9452ee3b76b3da57b58787412419b2f1bb939f7830d1114e8e84a9ea739da137",
   "notebook_path": "YahooFinance/YahooFinance_Get_Stock_Update.ipynb"
  },
  "papermill": {
   "default_parameters": {},
   "environment_variables": {},
   "parameters": {},
   "version": "2.3.4"
  }
 },
 "nbformat": 4,
 "nbformat_minor": 5
}