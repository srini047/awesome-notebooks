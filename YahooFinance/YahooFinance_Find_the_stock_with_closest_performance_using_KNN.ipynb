{
 "cells": [
  {
   "cell_type": "markdown",
   "id": "latin-packing",
   "metadata": {
    "execution": {
     "iopub.execute_input": "2021-02-23T14:22:16.610471Z",
     "iopub.status.busy": "2021-02-23T14:22:16.610129Z",
     "iopub.status.idle": "2021-02-23T14:22:16.627784Z",
     "shell.execute_reply": "2021-02-23T14:22:16.626866Z",
     "shell.execute_reply.started": "2021-02-23T14:22:16.610384Z"
    },
    "papermill": {},
    "tags": []
   },
   "source": [
    "<img width=\"10%\" alt=\"Naas\" src=\"https://landen.imgix.net/jtci2pxwjczr/assets/5ice39g4.png?w=160\"/>"
   ]
  },
  {
   "cell_type": "markdown",
   "id": "compressed-wilson",
   "metadata": {
    "papermill": {},
    "tags": []
   },
   "source": [
    "# YahooFinance - Find the stock with closest performance using KNN\n",
    "<a href=\"https://app.naas.ai/user-redirect/naas/downloader?url=https://raw.githubusercontent.com/jupyter-naas/awesome-notebooks/master/YahooFinance/YahooFinance_Find_the_stock_with_closest_performance_using_KNN.ipynb\" target=\"_parent\"><img src=\"https://naasai-public.s3.eu-west-3.amazonaws.com/Open_in_Naas_Lab.svg\"/></a><br><br><a href=\"https://github.com/jupyter-naas/awesome-notebooks/issues/new?assignees=&labels=&template=template-request.md&title=Tool+-+Action+of+the+notebook+\">Template request</a> | <a href=\"https://github.com/jupyter-naas/awesome-notebooks/issues/new?assignees=&labels=bug&template=bug_report.md&title=YahooFinance+-+Find+the+stock+with+closest+performance+using+KNN:+Error+short+description\">Bug report</a> | <a href=\"https://app.naas.ai/user-redirect/naas/downloader?url=https://raw.githubusercontent.com/jupyter-naas/awesome-notebooks/master/Naas/Naas_Start_data_product.ipynb\" target=\"_parent\">Generate Data Product</a>"
   ]
  },
  {
   "cell_type": "markdown",
   "id": "religious-programmer",
   "metadata": {
    "papermill": {},
    "tags": []
   },
   "source": [
    "**Tags:** #tool #naas_drivers #naas #scheduler #asset #snippet #automation #ai #analytics #yahoo #clustering #stocks"
   ]
  },
  {
   "cell_type": "markdown",
   "id": "1fe9f56e-561c-4f52-aef8-b861c9462107",
   "metadata": {
    "papermill": {},
    "tags": []
   },
   "source": [
    "**Author:** [Abhinav Lakhani](https://www.linkedin.com/in/abhinav-lakhani/)"
   ]
  },
  {
   "cell_type": "markdown",
   "id": "naas-description",
   "metadata": {
    "papermill": {},
    "tags": [
     "description"
    ]
   },
   "source": [
    "**Description:** This notebook uses KNN to find the stock with the most similar performance to a given stock from YahooFinance."
   ]
  },
  {
   "cell_type": "markdown",
   "id": "distinguished-truth",
   "metadata": {
    "papermill": {},
    "tags": []
   },
   "source": [
    "## Input"
   ]
  },
  {
   "cell_type": "markdown",
   "id": "numeric-mediterranean",
   "metadata": {
    "papermill": {},
    "tags": []
   },
   "source": [
    "### Import library"
   ]
  },
  {
   "cell_type": "code",
   "execution_count": 1,
   "id": "potential-surfing",
   "metadata": {
    "papermill": {},
    "tags": []
   },
   "outputs": [],
   "source": [
    "from naas_drivers import yahoofinance\n",
    "import naas"
   ]
  },
  {
   "cell_type": "code",
   "execution_count": 2,
   "id": "a7180aef-048e-48bb-99a4-f1a1449dc066",
   "metadata": {
    "papermill": {},
    "tags": []
   },
   "outputs": [],
   "source": [
    "from pylab import plot, show\n",
    "from numpy import vstack, array\n",
    "from numpy.random import rand\n",
    "import numpy as np\n",
    "from scipy.cluster.vq import kmeans, vq\n",
    "import pandas as pd\n",
    "from math import sqrt\n",
    "from sklearn.cluster import KMeans\n",
    "from matplotlib import pyplot as plt"
   ]
  },
  {
   "cell_type": "markdown",
   "id": "aggressive-trustee",
   "metadata": {
    "papermill": {},
    "tags": []
   },
   "source": [
    "### Variables"
   ]
  },
  {
   "cell_type": "code",
   "execution_count": 3,
   "id": "continuous-melbourne",
   "metadata": {
    "papermill": {},
    "tags": []
   },
   "outputs": [],
   "source": [
    "# Input\n",
    "sp500_url = \"https://en.wikipedia.org/wiki/List_of_S%26P_500_companies\"\n",
    "date_from = -3600\n",
    "date_to = \"today\"\n",
    "moving_averages = [20, 50]\n",
    "tickers = []\n",
    "feature = [\n",
    "    \"Adj Close\"\n",
    "]  # which performance attribute do we want to cluster on: Open\tHigh\tLow\tClose\tAdj Close\tVolume\n",
    "\n",
    "# Output\n",
    "csv_output = \"STOCK_CLUSTERS.csv\"\n",
    "img_output = \"STOCK_CLUSTERS.png\""
   ]
  },
  {
   "cell_type": "markdown",
   "id": "b15b304b-9f82-4349-bb83-3fc55e74b09a",
   "metadata": {
    "papermill": {},
    "tags": []
   },
   "source": [
    "### Schedule your notebook"
   ]
  },
  {
   "cell_type": "code",
   "execution_count": 4,
   "id": "1383d1a5-9741-4376-abe9-ae608709b7da",
   "metadata": {
    "papermill": {},
    "tags": []
   },
   "outputs": [],
   "source": [
    "# Schedule your notebook everyday at 9 AM\n",
    "# naas.scheduler.add(cron=\"0 9 * * *\")\n",
    "\n",
    "# -> Uncomment the line below to remove your scheduler\n",
    "# naas.scheduler.delete()"
   ]
  },
  {
   "cell_type": "markdown",
   "id": "a1d76c6f-d1ed-4843-8594-5221436149d8",
   "metadata": {
    "papermill": {},
    "tags": []
   },
   "source": [
    "## Modeling"
   ]
  },
  {
   "cell_type": "markdown",
   "id": "48622a1a-534b-4372-b40a-e5cd70840eab",
   "metadata": {
    "papermill": {},
    "tags": []
   },
   "source": [
    "### Get tickers from Wikipedia"
   ]
  },
  {
   "cell_type": "code",
   "execution_count": 5,
   "id": "172b6157-2692-47e4-bd89-8161bc860fc0",
   "metadata": {
    "papermill": {},
    "tags": []
   },
   "outputs": [],
   "source": [
    "# read in the url and scrape s&p500 tickers\n",
    "data_table = pd.read_html(sp500_url)\n",
    "tickers = data_table[0][\"Symbol\"].tolist()"
   ]
  },
  {
   "cell_type": "markdown",
   "id": "e9da93cb-3a04-4792-93fa-770647723e05",
   "metadata": {
    "papermill": {},
    "tags": []
   },
   "source": [
    "### Get data from yahoo finance"
   ]
  },
  {
   "cell_type": "code",
   "execution_count": 6,
   "id": "4cfd15c5-041a-476c-8a55-a13d7fbb9936",
   "metadata": {
    "papermill": {},
    "tags": []
   },
   "outputs": [],
   "source": [
    "# get stocks info\n",
    "prices_list = []\n",
    "for ticker in tickers:\n",
    "    try:\n",
    "        prices = yahoofinance.get(\n",
    "            ticker,\n",
    "            date_from=date_from,\n",
    "            date_to=date_to,\n",
    "            moving_averages=moving_averages,\n",
    "        )[feature]\n",
    "        prices = pd.DataFrame(prices)\n",
    "        prices.columns = [ticker]\n",
    "        prices_list.append(prices)\n",
    "    except:\n",
    "        pass\n",
    "    prices_df = pd.concat(prices_list, axis=1)\n",
    "prices_df.sort_index(inplace=True)\n",
    "prices_df.head()"
   ]
  },
  {
   "cell_type": "markdown",
   "id": "298a5781-9dff-4283-9352-56fb24fa510a",
   "metadata": {
    "papermill": {},
    "tags": []
   },
   "source": [
    "We can now start to analyse the data and begin our K-Means investigation…\n",
    "\n",
    "Our first decision is to choose how many clusters do we actually want to separate our stocks into. Rather than make some arbitrary decision, we can use the “Elbow Method” to highlight the relationship between how many clusters we choose, and the Sum of Squared Errors (SSE) resulting from using that number of clusters.\n",
    "\n",
    "We then plot this relationship to help us identify the optimal number of clusters to use – we would prefer a lower number of clusters, but also would prefer the SSE to be lower – so this trade off needs to be taken into account.\n",
    "\n",
    "Lets run the code for our Elbow Curve plot."
   ]
  },
  {
   "cell_type": "code",
   "execution_count": 7,
   "id": "1cea5a15-2f71-4071-8c76-55bae45f77f2",
   "metadata": {
    "papermill": {},
    "tags": []
   },
   "outputs": [],
   "source": [
    "# Calculate average annual percentage return and volatilities over a theoretical one year period\n",
    "returns = prices_df.pct_change().mean() * 252\n",
    "returns = pd.DataFrame(returns)\n",
    "returns.columns = [\"Returns\"]\n",
    "returns[\"Volatility\"] = prices_df.pct_change().std() * sqrt(252)\n",
    "# format the data as a numpy array to feed into the K-Means algorithm\n",
    "data = np.asarray([np.asarray(returns[\"Returns\"]), np.asarray(returns[\"Volatility\"])]).T"
   ]
  },
  {
   "cell_type": "code",
   "execution_count": 8,
   "id": "e4b87b4d-5b12-4867-a23a-de838253621f",
   "metadata": {
    "papermill": {},
    "tags": []
   },
   "outputs": [],
   "source": [
    "# KMeans\n",
    "X = data\n",
    "distorsions = []\n",
    "for k in range(2, 20):\n",
    "    k_means = KMeans(n_clusters=k)\n",
    "    k_means.fit(X)\n",
    "    distorsions.append(k_means.inertia_)\n",
    "fig = plt.figure(figsize=(15, 5))\n",
    "plt.plot(range(2, 20), distorsions)\n",
    "plt.grid(True)\n",
    "plt.title(\"Elbow curve\")"
   ]
  },
  {
   "cell_type": "markdown",
   "id": "0f968a85-8112-4671-a1b8-d156f7cb388e",
   "metadata": {
    "papermill": {},
    "tags": []
   },
   "source": [
    "So we can sort of see that once the number of clusters reaches 5 (on the bottom axis), the reduction in the SSE begins to slow down for each increase in cluster number. This would lead me to believe that the optimal number of clusters for this exercise lies around the 5 mark – so let’s use 5."
   ]
  },
  {
   "cell_type": "code",
   "execution_count": 9,
   "id": "f893a341-d2fd-4047-9068-b761e8231866",
   "metadata": {
    "papermill": {},
    "tags": []
   },
   "outputs": [],
   "source": [
    "def get_centroid_labels(centroids):\n",
    "    m, n = centroids.shape\n",
    "    labels = [\"\" for _ in range(m)]\n",
    "    rank_mode = m // 2\n",
    "    has_even_n_O_centroids = m % 2 == 0\n",
    "\n",
    "    for i, (returns_rank, volatility_rank) in enumerate(\n",
    "        zip(\n",
    "            np.argsort(np.argsort(centroids[:, 0])),\n",
    "            np.argsort(np.argsort(centroids[:, 1])),\n",
    "        )\n",
    "    ):\n",
    "        # assign return labels\n",
    "        if returns_rank == 0:\n",
    "            labels[i] += \"lowest returns, \"\n",
    "        elif returns_rank == (m - 1):\n",
    "            labels[i] += \"highest returns, \"\n",
    "        else:\n",
    "            if has_even_n_O_centroids:\n",
    "                labels[i] += (\n",
    "                    f\"low returns({returns_rank}), \"\n",
    "                    if returns_rank <= rank_mode\n",
    "                    else f\"high returns({m-returns_rank-1}), \"\n",
    "                )\n",
    "            else:\n",
    "                labels[i] += (\n",
    "                    f\"low returns({returns_rank}), \"\n",
    "                    if returns_rank < rank_mode\n",
    "                    else f\"high returns({m-returns_rank-1}), \"\n",
    "                    if returns_rank > rank_mode\n",
    "                    else \"average returns, \"\n",
    "                )\n",
    "        # assign volatility labels\n",
    "        if volatility_rank == 0:\n",
    "            labels[i] += \"stable\"\n",
    "        elif volatility_rank == (m - 1):\n",
    "            labels[i] += \"extremly volatile\"\n",
    "        else:\n",
    "            if has_even_n_O_centroids:\n",
    "                labels[i] += (\n",
    "                    f\"low volatility({volatility_rank})\"\n",
    "                    if volatility_rank <= rank_mode\n",
    "                    else f\"high volatility({m-volatility_rank-1})\"\n",
    "                )\n",
    "            else:\n",
    "                labels[i] += (\n",
    "                    f\"low volatility({volatility_rank})\"\n",
    "                    if volatility_rank < rank_mode\n",
    "                    else f\"high volatility({m-volatility_rank-1})\"\n",
    "                    if volatility_rank > rank_mode\n",
    "                    else \"average volatility\"\n",
    "                )\n",
    "    return labels"
   ]
  },
  {
   "cell_type": "code",
   "execution_count": 10,
   "id": "ca746d52-f4f8-4892-9d6e-caf915b7ce26",
   "metadata": {
    "papermill": {},
    "tags": []
   },
   "outputs": [],
   "source": [
    "# computing K-Means with K = 5 (5 clusters)\n",
    "n_clusters = 5\n",
    "centroids, _ = kmeans(data, n_clusters)\n",
    "cluster_names = get_centroid_labels(centroids)\n",
    "# assign each sample to a cluster\n",
    "idx, _ = vq(data, centroids)\n",
    "returns[\"cluster_id\"] = idx\n",
    "returns[\"cluster\"] = [cluster_names[i] for i in idx]\n",
    "# plot the clusters\n",
    "plt.figure(figsize=(10, 8))\n",
    "for i, cluster in enumerate(cluster_names):\n",
    "    cluster_i = returns[returns.cluster_id == i]\n",
    "    plt.scatter(cluster_i.Returns, cluster_i.Volatility, alpha=0.6, s=5)\n",
    "    plt.scatter(centroids[i, 0], centroids[i, 1], label=cluster)\n",
    "plt.xlabel(\"returns\")\n",
    "plt.ylabel(\"volatility\")\n",
    "plt.legend()\n",
    "plt.show()"
   ]
  },
  {
   "cell_type": "markdown",
   "id": "37ba1927-cd59-4e5a-9d39-b4e411bbb835",
   "metadata": {
    "papermill": {},
    "tags": []
   },
   "source": [
    "it looks like we have an outlier in the data which is skewing the results and making it difficult to actually see what is going on for all the other stocks. Let’s take the easy route and just drop the outlier from our data set and run this again."
   ]
  },
  {
   "cell_type": "code",
   "execution_count": 11,
   "id": "24c9d4fc-23b6-48b7-bbb2-2c022d91bf9a",
   "metadata": {
    "papermill": {},
    "tags": []
   },
   "outputs": [],
   "source": [
    "outliers = np.sqrt(returns.Returns**2 + returns.Volatility**2).argsort()[-2:]\n",
    "outliers = returns.iloc[outliers, :]\n",
    "outliers"
   ]
  },
  {
   "cell_type": "code",
   "execution_count": 12,
   "id": "acd7d3b6-152d-4d0a-b40b-a4e9420fcd86",
   "metadata": {
    "papermill": {},
    "tags": []
   },
   "outputs": [],
   "source": [
    "# drop the relevant stock from our data\n",
    "returns.drop(outliers.index, inplace=True)\n",
    "# recreate data to feed into the algorithm\n",
    "data = np.asarray([np.asarray(returns[\"Returns\"]), np.asarray(returns[\"Volatility\"])]).T"
   ]
  },
  {
   "cell_type": "code",
   "execution_count": 13,
   "id": "1a5e13d8-a2d2-4b0d-b02d-1a0e493ed6ee",
   "metadata": {
    "papermill": {},
    "tags": []
   },
   "outputs": [],
   "source": [
    "# computing K-Means with K = 5 (5 clusters)\n",
    "n_clusters = 5\n",
    "centroids, _ = kmeans(data, n_clusters)\n",
    "cluster_names = get_centroid_labels(centroids)\n",
    "# assign each sample to a cluster\n",
    "idx, _ = vq(data, centroids)\n",
    "returns[\"cluster_id\"] = idx\n",
    "returns[\"cluster\"] = [cluster_names[i] for i in idx]\n",
    "# plot the clusters\n",
    "plt.figure(figsize=(10, 8))\n",
    "for i, cluster in enumerate(cluster_names):\n",
    "    cluster_i = returns[returns.cluster_id == i]\n",
    "    plt.scatter(cluster_i.Returns, cluster_i.Volatility, alpha=0.6, s=5)\n",
    "    plt.scatter(centroids[i, 0], centroids[i, 1], label=cluster)\n",
    "plt.xlabel(\"returns\")\n",
    "plt.ylabel(\"volatility\")\n",
    "plt.legend()\n",
    "plt.show()"
   ]
  },
  {
   "cell_type": "markdown",
   "id": "9bc62ec2-d094-4cbb-8097-b61ceb905910",
   "metadata": {
    "papermill": {},
    "tags": []
   },
   "source": [
    "SO there we go, we now have a list of each of the stocks which are close together/similar, along with which one of 5 clusters they belong to with the clusters being defined by their return and volatility characteristics. We also have a visual representation of the clusters in chart format."
   ]
  },
  {
   "cell_type": "markdown",
   "id": "7b1d190a-0361-4afb-998f-2ecb94c13964",
   "metadata": {
    "execution": {
     "iopub.execute_input": "2021-07-02T23:32:10.789097Z",
     "iopub.status.busy": "2021-07-02T23:32:10.788829Z",
     "iopub.status.idle": "2021-07-02T23:32:10.796900Z",
     "shell.execute_reply": "2021-07-02T23:32:10.796358Z",
     "shell.execute_reply.started": "2021-07-02T23:32:10.789033Z"
    },
    "papermill": {},
    "tags": []
   },
   "source": [
    "## Output"
   ]
  },
  {
   "cell_type": "code",
   "execution_count": 17,
   "id": "f43536d1-8064-4660-8854-e2de2f612a5b",
   "metadata": {
    "papermill": {},
    "tags": []
   },
   "outputs": [],
   "source": [
    "stock_clusters = pd.DataFrame(zip(returns.index, idx), columns=[\"Ticker\", \"Group ID\"])\n",
    "stock_clusters"
   ]
  },
  {
   "cell_type": "markdown",
   "id": "c1643de6-c674-4715-a4dd-e1c3b973e05d",
   "metadata": {
    "papermill": {},
    "tags": []
   },
   "source": [
    "### Save result in csv"
   ]
  },
  {
   "cell_type": "code",
   "execution_count": 18,
   "id": "4f5a0929-a534-43db-8e05-576ab94374f4",
   "metadata": {
    "papermill": {},
    "tags": []
   },
   "outputs": [],
   "source": [
    "stock_clusters.to_csv(csv_output, index=False)"
   ]
  },
  {
   "cell_type": "markdown",
   "id": "f7b1638e-2e56-49cf-9e30-e3a0e74656ff",
   "metadata": {
    "papermill": {},
    "tags": []
   },
   "source": [
    "### Save the cluster plot"
   ]
  },
  {
   "cell_type": "code",
   "execution_count": 19,
   "id": "d1b11772-c277-4fe1-9d97-0054f754bebc",
   "metadata": {
    "papermill": {},
    "tags": []
   },
   "outputs": [],
   "source": [
    "fig"
   ]
  },
  {
   "cell_type": "code",
   "execution_count": 20,
   "id": "4a773697-bb9f-44e3-ba20-6738656d128b",
   "metadata": {
    "papermill": {},
    "tags": []
   },
   "outputs": [],
   "source": [
    "plt.savefig(img_output)"
   ]
  },
  {
   "cell_type": "markdown",
   "id": "a28950bb-1d7d-4835-a83a-faac837ebc7c",
   "metadata": {
    "papermill": {},
    "tags": []
   },
   "source": [
    "### Share your output with naas"
   ]
  },
  {
   "cell_type": "code",
   "execution_count": 21,
   "id": "db205965-a2dc-4541-ba8e-db3250d1cff0",
   "metadata": {
    "papermill": {},
    "tags": []
   },
   "outputs": [],
   "source": [
    "naas.asset.add(csv_output)\n",
    "\n",
    "# -> Uncomment the line below to remove your asset\n",
    "# naas.asset.delete()"
   ]
  },
  {
   "cell_type": "code",
   "execution_count": null,
   "id": "43006fe4-35b4-4625-8f4e-13b2da04e7a8",
   "metadata": {
    "papermill": {},
    "tags": []
   },
   "outputs": [],
   "source": []
  }
 ],
 "metadata": {
  "kernelspec": {
   "display_name": "Python 3",
   "language": "python",
   "name": "python3"
  },
  "language_info": {
   "codemirror_mode": {
    "name": "ipython",
    "version": 3
   },
   "file_extension": ".py",
   "mimetype": "text/x-python",
   "name": "python",
   "nbconvert_exporter": "python",
   "pygments_lexer": "ipython3",
   "version": "3.9.6"
  },
  "naas": {
   "notebook_id": "1f6fb2f8e71d845ac2e577bfd652de2c88017889251c387d91c687840505a839",
   "notebook_path": "YahooFinance/YahooFinance_Find_the_stock_with_closest_performance_using_KNN.ipynb"
  },
  "papermill": {
   "default_parameters": {},
   "environment_variables": {},
   "parameters": {},
   "version": "2.3.3"
  },
  "widgets": {
   "application/vnd.jupyter.widget-state+json": {
    "state": {},
    "version_major": 2,
    "version_minor": 0
   }
  }
 },
 "nbformat": 4,
 "nbformat_minor": 5
}