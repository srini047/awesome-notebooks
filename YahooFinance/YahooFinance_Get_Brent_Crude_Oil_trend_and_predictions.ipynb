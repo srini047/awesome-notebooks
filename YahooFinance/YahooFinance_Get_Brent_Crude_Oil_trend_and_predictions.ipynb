{
 "cells": [
  {
   "cell_type": "markdown",
   "id": "0945c819-fd6f-4dc2-93d7-9742277989f9",
   "metadata": {
    "papermill": {},
    "tags": []
   },
   "source": [
    "<img width=\"10%\" alt=\"Naas\" src=\"https://landen.imgix.net/jtci2pxwjczr/assets/5ice39g4.png?w=160\"/>"
   ]
  },
  {
   "cell_type": "markdown",
   "id": "descending-grammar",
   "metadata": {
    "papermill": {},
    "tags": []
   },
   "source": [
    "# YahooFinance - Get Brent Crude Oil trend and predictions\n",
    "<a href=\"https://app.naas.ai/user-redirect/naas/downloader?url=https://raw.githubusercontent.com/jupyter-naas/awesome-notebooks/master/YahooFinance/YahooFinance_Get_Brent_Crude_Oil_trend_and_predictions.ipynb\" target=\"_parent\"><img src=\"https://naasai-public.s3.eu-west-3.amazonaws.com/Open_in_Naas_Lab.svg\"/></a><br><br><a href=\"https://github.com/jupyter-naas/awesome-notebooks/issues/new?assignees=&labels=&template=template-request.md&title=Tool+-+Action+of+the+notebook+\">Template request</a> | <a href=\"https://github.com/jupyter-naas/awesome-notebooks/issues/new?assignees=&labels=bug&template=bug_report.md&title=YahooFinance+-+Get+Brent+Crude+Oil+trend+and+predictions:+Error+short+description\">Bug report</a> | <a href=\"https://app.naas.ai/user-redirect/naas/downloader?url=https://raw.githubusercontent.com/jupyter-naas/awesome-notebooks/master/Naas/Naas_Start_data_product.ipynb\" target=\"_parent\">Generate Data Product</a>"
   ]
  },
  {
   "cell_type": "markdown",
   "id": "ea0f4d52-5687-4719-9b35-e5abcc48328b",
   "metadata": {
    "papermill": {},
    "tags": []
   },
   "source": [
    "**Tags:** #commodities #energy #petrol #oil #yahoofinance #trading #markdown #prediction #plotly #naas_drivers #notification #naas #investors #automation #analytics #ai #html #image"
   ]
  },
  {
   "cell_type": "markdown",
   "id": "15ce5111-42e8-479f-9002-975023b1d5f1",
   "metadata": {
    "papermill": {},
    "tags": []
   },
   "source": [
    "**Author:** [Ayoub Berdeddouch](https://www.linkedin.com/in/ayoub-berdeddouch/)"
   ]
  },
  {
   "cell_type": "markdown",
   "id": "naas-description",
   "metadata": {
    "papermill": {},
    "tags": [
     "description"
    ]
   },
   "source": [
    "**Description:** This notebook provides an analysis of the current trend and predictions for Brent Crude Oil prices using data from YahooFinance."
   ]
  },
  {
   "cell_type": "markdown",
   "id": "d17064b3-00b5-4d71-96ba-38c6af450919",
   "metadata": {
    "papermill": {},
    "tags": []
   },
   "source": [
    "## Input"
   ]
  },
  {
   "cell_type": "markdown",
   "id": "1d8f5e20-bcfc-4ceb-83ad-0856868327a0",
   "metadata": {
    "papermill": {},
    "tags": []
   },
   "source": [
    "### Import libraries"
   ]
  },
  {
   "cell_type": "code",
   "execution_count": 1,
   "id": "fd368ba3-fc40-46db-af1d-a62d11573923",
   "metadata": {
    "papermill": {},
    "tags": []
   },
   "outputs": [],
   "source": [
    "import naas\n",
    "from naas_drivers import prediction, yahoofinance, plotly\n",
    "import plotly.graph_objects as go\n",
    "import markdown2\n",
    "from datetime import datetime\n",
    "from IPython.core.display import display, HTML"
   ]
  },
  {
   "cell_type": "markdown",
   "id": "79126baa-2a38-4861-8130-66b4c4e13621",
   "metadata": {
    "papermill": {},
    "tags": []
   },
   "source": [
    "### Setup Yahoo Finance\n",
    "👉 Here you can change the ticker and timeframe"
   ]
  },
  {
   "cell_type": "code",
   "execution_count": 2,
   "id": "exceptional-pearl",
   "metadata": {
    "papermill": {},
    "tags": []
   },
   "outputs": [],
   "source": [
    "NAME = \"Brend Crude Oil\"\n",
    "TICKER = \"BZ=F\"\n",
    "date_from = -270\n",
    "date_to = \"today\""
   ]
  },
  {
   "cell_type": "markdown",
   "id": "f617e5d7-76e1-4229-b515-ed6c4401f45f",
   "metadata": {
    "papermill": {},
    "tags": []
   },
   "source": [
    "### Setup Prediction\n",
    "👉 Here you can change the number of data points you want the prediction will be performed on"
   ]
  },
  {
   "cell_type": "code",
   "execution_count": 3,
   "id": "f7fce301-79ad-4064-885e-acd834780e64",
   "metadata": {
    "papermill": {},
    "tags": []
   },
   "outputs": [],
   "source": [
    "DATA_POINT = 90"
   ]
  },
  {
   "cell_type": "markdown",
   "id": "b9b9a046-0559-444c-916a-dfe5fe385edc",
   "metadata": {
    "papermill": {},
    "tags": []
   },
   "source": [
    "### Setup Assets"
   ]
  },
  {
   "cell_type": "code",
   "execution_count": 4,
   "id": "4eb2d451-00ad-491b-be40-3d968f1adddd",
   "metadata": {
    "papermill": {},
    "tags": []
   },
   "outputs": [],
   "source": [
    "NOW = datetime.now().strftime(\"%Y-%m-%d\")\n",
    "excel_output = f\"{TICKER}_{NOW}.xlsx\"\n",
    "image_output = f\"{TICKER}.png\"\n",
    "html_output = f\"{TICKER}.html\""
   ]
  },
  {
   "cell_type": "markdown",
   "id": "great-visiting",
   "metadata": {
    "papermill": {},
    "tags": []
   },
   "source": [
    "### Setup Naas scheduler\n",
    "If you need to run this notebook on schedule, uncomment the first line of this cell."
   ]
  },
  {
   "cell_type": "code",
   "execution_count": 5,
   "id": "isolated-harrison",
   "metadata": {
    "papermill": {},
    "tags": []
   },
   "outputs": [],
   "source": [
    "# naas.scheduler.add(cron=\"0 9 * * *\")\n",
    "\n",
    "# if you want to delete the scheduler, uncoment the line below and execute the cell\n",
    "# naas.scheduler.delete()"
   ]
  },
  {
   "cell_type": "markdown",
   "id": "0a1ad0db-97b3-4f84-a82e-517595d95f17",
   "metadata": {
    "papermill": {},
    "tags": []
   },
   "source": [
    "## Model"
   ]
  },
  {
   "cell_type": "markdown",
   "id": "manufactured-allocation",
   "metadata": {
    "papermill": {},
    "tags": []
   },
   "source": [
    "### Get dataset from Yahoo Finance"
   ]
  },
  {
   "cell_type": "code",
   "execution_count": 6,
   "id": "powered-ensemble",
   "metadata": {
    "papermill": {},
    "tags": []
   },
   "outputs": [],
   "source": [
    "df_yahoo = (\n",
    "    yahoofinance.get(tickers=TICKER, date_from=date_from, date_to=date_to)\n",
    "    .dropna()\n",
    "    .reset_index(drop=True)\n",
    ")\n",
    "\n",
    "# Display dataframe\n",
    "df_yahoo.tail(5)"
   ]
  },
  {
   "cell_type": "markdown",
   "id": "9bf08bfc-bd3f-4d52-bacb-3a0e73ea4a21",
   "metadata": {
    "papermill": {},
    "tags": []
   },
   "source": [
    "### Add prediction columns"
   ]
  },
  {
   "cell_type": "code",
   "execution_count": 7,
   "id": "inside-sponsorship",
   "metadata": {
    "papermill": {},
    "tags": []
   },
   "outputs": [],
   "source": [
    "df_predict = (\n",
    "    prediction.get(\n",
    "        dataset=df_yahoo,\n",
    "        date_column=\"Date\",\n",
    "        column=\"Close\",\n",
    "        data_points=DATA_POINT,\n",
    "        prediction_type=\"all\",\n",
    "    )\n",
    "    .sort_values(\"Date\", ascending=False)\n",
    "    .reset_index(drop=True)\n",
    ")\n",
    "# Display dataframe\n",
    "df_predict.head(int(DATA_POINT) + 5)"
   ]
  },
  {
   "cell_type": "markdown",
   "id": "plastic-boards",
   "metadata": {
    "papermill": {},
    "tags": []
   },
   "source": [
    "### Plot linechart"
   ]
  },
  {
   "cell_type": "code",
   "execution_count": 8,
   "id": "pursuant-toyota",
   "metadata": {
    "papermill": {},
    "tags": []
   },
   "outputs": [],
   "source": [
    "fig = plotly.linechart(\n",
    "    df_predict,\n",
    "    x=\"Date\",\n",
    "    y=[\"Close\", \"ARIMA\", \"SVR\", \"LINEAR\", \"COMPOUND\"],\n",
    "    showlegend=True,\n",
    "    title=f\"{NAME} trend and predictions for the next {str(DATA_POINT)} days\",\n",
    ")"
   ]
  },
  {
   "cell_type": "markdown",
   "id": "qualified-abuse",
   "metadata": {
    "papermill": {},
    "tags": []
   },
   "source": [
    "### Set actual data and variation"
   ]
  },
  {
   "cell_type": "code",
   "execution_count": 9,
   "id": "c687f056-3a57-4f9e-9bdd-c790ae55e0d9",
   "metadata": {
    "papermill": {},
    "tags": []
   },
   "outputs": [],
   "source": [
    "def get_variation(df):\n",
    "    df = df.sort_values(\"Date\", ascending=False).reset_index(drop=True)\n",
    "\n",
    "    # Get value and value comp\n",
    "    datanow = df.loc[0, \"Close\"]\n",
    "    datayesterday = df.loc[1, \"Close\"]\n",
    "\n",
    "    # Calc variation en value and %\n",
    "    varv = datanow - datayesterday\n",
    "    varp = varv / datanow\n",
    "\n",
    "    # Format result\n",
    "    datanow = \"${:,.2f}\".format(round(datanow, 1))\n",
    "    datayesterday = \"${:,.2f}\".format(round(datayesterday, 1))\n",
    "    varv = \"{:+,.2f}\".format(varv)\n",
    "    varp = \"{:+,.2%}\".format(varp)\n",
    "    return datanow, datayesterday, varv, varp\n",
    "\n",
    "\n",
    "DATANOW, DATAYESTERDAY, VARV, VARP = get_variation(df_yahoo)\n",
    "print(\"Value today:\", DATANOW)\n",
    "print(\"Value yesterday:\", DATAYESTERDAY)\n",
    "print(\"Var. in value:\", VARV)\n",
    "print(\"Var. in %:\", VARP)"
   ]
  },
  {
   "cell_type": "markdown",
   "id": "organic-montana",
   "metadata": {
    "execution": {
     "iopub.execute_input": "2021-04-02T19:41:00.756597Z",
     "iopub.status.busy": "2021-04-02T19:41:00.756289Z",
     "iopub.status.idle": "2021-04-02T19:41:00.765290Z",
     "shell.execute_reply": "2021-04-02T19:41:00.764718Z",
     "shell.execute_reply.started": "2021-04-02T19:41:00.756562Z"
    },
    "papermill": {},
    "tags": []
   },
   "source": [
    "### Set predict data"
   ]
  },
  {
   "cell_type": "code",
   "execution_count": 10,
   "id": "f4c0ec8a-55bb-4018-b0f7-df956ae8d93b",
   "metadata": {
    "papermill": {},
    "tags": []
   },
   "outputs": [],
   "source": [
    "def get_prediction(df, prediction):\n",
    "    data = df.loc[0, prediction]\n",
    "\n",
    "    # Format result\n",
    "    data = \"${:,.2f}\".format(round(data, 1))\n",
    "    return data\n",
    "\n",
    "\n",
    "ARIMA = get_prediction(df_predict, \"ARIMA\")\n",
    "print(\"Value ARIMA:\", ARIMA)\n",
    "SVR = get_prediction(df_predict, \"SVR\")\n",
    "print(\"Value SVR:\", SVR)\n",
    "LINEAR = get_prediction(df_predict, \"LINEAR\")\n",
    "print(\"Value LINEAR:\", LINEAR)\n",
    "COMPOUND = get_prediction(df_predict, \"COMPOUND\")\n",
    "print(\"Value COMPOUND:\", COMPOUND)"
   ]
  },
  {
   "cell_type": "markdown",
   "id": "bf1abe19-800d-4e20-8285-074c8d14bc7f",
   "metadata": {
    "execution": {
     "iopub.execute_input": "2022-10-31T16:30:14.820922Z",
     "iopub.status.busy": "2022-10-31T16:30:14.820698Z",
     "iopub.status.idle": "2022-10-31T16:30:14.823778Z",
     "shell.execute_reply": "2022-10-31T16:30:14.823105Z",
     "shell.execute_reply.started": "2022-10-31T16:30:14.820899Z"
    },
    "papermill": {},
    "tags": []
   },
   "source": [
    "## Output"
   ]
  },
  {
   "cell_type": "markdown",
   "id": "4c3b1e52-c5bc-4731-8cb7-444f9e2b12b6",
   "metadata": {
    "papermill": {},
    "tags": []
   },
   "source": [
    "### Save and share the dataframe in Excel"
   ]
  },
  {
   "cell_type": "code",
   "execution_count": 11,
   "id": "8b232139-240f-4538-99d6-2ea557e5bffd",
   "metadata": {
    "papermill": {},
    "tags": []
   },
   "outputs": [],
   "source": [
    "df_predict.to_excel(excel_output)"
   ]
  },
  {
   "cell_type": "markdown",
   "id": "ac151803-c0f8-4ada-b6d9-ce88c69f2ef3",
   "metadata": {
    "execution": {
     "iopub.execute_input": "2022-04-25T15:05:55.410069Z",
     "iopub.status.busy": "2022-04-25T15:05:55.409689Z",
     "iopub.status.idle": "2022-04-25T15:05:55.412745Z",
     "shell.execute_reply": "2022-04-25T15:05:55.412096Z",
     "shell.execute_reply.started": "2022-04-25T15:05:55.410037Z"
    },
    "papermill": {},
    "tags": []
   },
   "source": [
    "### Save and share your graph in PNG"
   ]
  },
  {
   "cell_type": "code",
   "execution_count": 12,
   "id": "01bc374d-791e-4ab8-9f32-bc6785b60496",
   "metadata": {
    "papermill": {},
    "tags": []
   },
   "outputs": [],
   "source": [
    "# Save your graph in PNG\n",
    "fig.write_image(image_output)\n",
    "\n",
    "# Share output with naas\n",
    "link_image = naas.asset.add(image_output)\n",
    "\n",
    "# -> Uncomment the line below to remove your asset\n",
    "# naas.asset.delete(image_output)"
   ]
  },
  {
   "cell_type": "markdown",
   "id": "338e79f1-65ae-4a78-9cf0-475ca75b367e",
   "metadata": {
    "execution": {
     "iopub.execute_input": "2022-04-25T15:05:55.410069Z",
     "iopub.status.busy": "2022-04-25T15:05:55.409689Z",
     "iopub.status.idle": "2022-04-25T15:05:55.412745Z",
     "shell.execute_reply": "2022-04-25T15:05:55.412096Z",
     "shell.execute_reply.started": "2022-04-25T15:05:55.410037Z"
    },
    "papermill": {},
    "tags": []
   },
   "source": [
    "### Save and share your graph in HTML\n"
   ]
  },
  {
   "cell_type": "code",
   "execution_count": 13,
   "id": "0bbeb746-bde6-49c3-87ed-d355d8baa49f",
   "metadata": {
    "papermill": {},
    "tags": []
   },
   "outputs": [],
   "source": [
    "# Save your graph in HTML\n",
    "fig.write_html(html_output)\n",
    "\n",
    "# Share output with naas\n",
    "link_html = naas.asset.add(html_output, params={\"inline\": True})\n",
    "\n",
    "# -> Uncomment the line below to remove your asset\n",
    "# naas.asset.delete(html_output)"
   ]
  }
 ],
 "metadata": {
  "kernelspec": {
   "display_name": "Python 3",
   "language": "python",
   "name": "python3"
  },
  "language_info": {
   "codemirror_mode": {
    "name": "ipython",
    "version": 3
   },
   "file_extension": ".py",
   "mimetype": "text/x-python",
   "name": "python",
   "nbconvert_exporter": "python",
   "pygments_lexer": "ipython3",
   "version": "3.9.6"
  },
  "naas": {
   "notebook_id": "e4faa959f82ec8398c2290f27c0a1297a4d02d32981e982ced4d1aa2fa89efc7",
   "notebook_path": "YahooFinance/YahooFinance_Get_Brent_Crude_Oil_trend_and_predictions.ipynb"
  },
  "papermill": {
   "default_parameters": {},
   "environment_variables": {},
   "parameters": {},
   "version": "2.3.3"
  },
  "toc-autonumbering": false,
  "widgets": {
   "application/vnd.jupyter.widget-state+json": {
    "state": {
     "063ba4b876aa4e26abcd6141213834cf": {
      "model_module": "@jupyter-widgets/base",
      "model_module_version": "1.2.0",
      "model_name": "LayoutModel",
      "state": {}
     },
     "1866d6f06cc84a9da61945f0cddc74ac": {
      "model_module": "@jupyter-widgets/controls",
      "model_module_version": "1.5.0",
      "model_name": "ButtonModel",
      "state": {
       "button_style": "primary",
       "description": "Copy URL",
       "layout": "IPY_MODEL_063ba4b876aa4e26abcd6141213834cf",
       "style": "IPY_MODEL_d7f7beab9a264b93956a4505b715c3e4"
      }
     },
     "411548b3437d4a318cc6e6e7d3b5b2df": {
      "model_module": "@jupyter-widgets/base",
      "model_module_version": "1.2.0",
      "model_name": "LayoutModel",
      "state": {}
     },
     "66c6d86e838a4e379c17dcb4c3143b15": {
      "model_module": "@jupyter-widgets/base",
      "model_module_version": "1.2.0",
      "model_name": "LayoutModel",
      "state": {}
     },
     "83ef60db7a5e49bd83a702426771e265": {
      "model_module": "@jupyter-widgets/controls",
      "model_module_version": "1.5.0",
      "model_name": "ButtonModel",
      "state": {
       "button_style": "primary",
       "description": "Copy URL",
       "layout": "IPY_MODEL_c9a103f30e6b4fb2a43db96408cbba0d",
       "style": "IPY_MODEL_a192969be701417dbccc303d1e83afd6"
      }
     },
     "a192969be701417dbccc303d1e83afd6": {
      "model_module": "@jupyter-widgets/controls",
      "model_module_version": "1.5.0",
      "model_name": "ButtonStyleModel",
      "state": {}
     },
     "b2d18bb92f2540b78763f51057b51020": {
      "model_module": "@jupyter-widgets/output",
      "model_module_version": "1.0.0",
      "model_name": "OutputModel",
      "state": {
       "layout": "IPY_MODEL_411548b3437d4a318cc6e6e7d3b5b2df"
      }
     },
     "c9a103f30e6b4fb2a43db96408cbba0d": {
      "model_module": "@jupyter-widgets/base",
      "model_module_version": "1.2.0",
      "model_name": "LayoutModel",
      "state": {}
     },
     "d7f7beab9a264b93956a4505b715c3e4": {
      "model_module": "@jupyter-widgets/controls",
      "model_module_version": "1.5.0",
      "model_name": "ButtonStyleModel",
      "state": {}
     },
     "e85e8797c0a6495291ee757720fa3adc": {
      "model_module": "@jupyter-widgets/output",
      "model_module_version": "1.0.0",
      "model_name": "OutputModel",
      "state": {
       "layout": "IPY_MODEL_66c6d86e838a4e379c17dcb4c3143b15"
      }
     }
    },
    "version_major": 2,
    "version_minor": 0
   }
  }
 },
 "nbformat": 4,
 "nbformat_minor": 5
}