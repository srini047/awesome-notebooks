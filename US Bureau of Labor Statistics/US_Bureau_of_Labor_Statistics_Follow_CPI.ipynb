{
 "cells": [
  {
   "cell_type": "markdown",
   "id": "latin-packing",
   "metadata": {
    "execution": {
     "iopub.execute_input": "2021-02-23T14:22:16.610471Z",
     "iopub.status.busy": "2021-02-23T14:22:16.610129Z",
     "iopub.status.idle": "2021-02-23T14:22:16.627784Z",
     "shell.execute_reply": "2021-02-23T14:22:16.626866Z",
     "shell.execute_reply.started": "2021-02-23T14:22:16.610384Z"
    },
    "papermill": {},
    "tags": []
   },
   "source": [
    "<img width=\"10%\" alt=\"Naas\" src=\"https://landen.imgix.net/jtci2pxwjczr/assets/5ice39g4.png?w=160\"/>"
   ]
  },
  {
   "cell_type": "markdown",
   "id": "compressed-wilson",
   "metadata": {
    "papermill": {},
    "tags": []
   },
   "source": [
    "# US Bureau of Labor Statistics - Follow CPI\n",
    "<a href=\"https://app.naas.ai/user-redirect/naas/downloader?url=https://raw.githubusercontent.com/jupyter-naas/awesome-notebooks/master/US%20Bureau%20of%20Labor%20Statistics/US_Bureau_of_Labor_Statistics_Follow_CPI.ipynb\" target=\"_parent\"><img src=\"https://naasai-public.s3.eu-west-3.amazonaws.com/Open_in_Naas_Lab.svg\"/></a><br><br><a href=\"https://github.com/jupyter-naas/awesome-notebooks/issues/new?assignees=&labels=&template=template-request.md&title=Tool+-+Action+of+the+notebook+\">Template request</a> | <a href=\"https://github.com/jupyter-naas/awesome-notebooks/issues/new?assignees=&labels=bug&template=bug_report.md&title=US+Bureau+of+Labor+Statistics+-+Follow+CPI:+Error+short+description\">Bug report</a> | <a href=\"https://app.naas.ai/user-redirect/naas/downloader?url=https://raw.githubusercontent.com/jupyter-naas/awesome-notebooks/master/Naas/Naas_Start_data_product.ipynb\" target=\"_parent\">Generate Data Product</a>"
   ]
  },
  {
   "cell_type": "markdown",
   "id": "religious-programmer",
   "metadata": {
    "papermill": {},
    "tags": []
   },
   "source": [
    "**Tags:** #inflation #us #BLS #naas #scheduler #asset #snippet #automation #ai #analytics"
   ]
  },
  {
   "cell_type": "markdown",
   "id": "1fe9f56e-561c-4f52-aef8-b861c9462107",
   "metadata": {
    "papermill": {},
    "tags": []
   },
   "source": [
    "**Author:** [Jeremy Ravenel](https://www.linkedin.com/in/j%C3%A9r%C3%A9my-ravenel-8a396910/)"
   ]
  },
  {
   "cell_type": "markdown",
   "id": "naas-description",
   "metadata": {
    "papermill": {},
    "tags": [
     "description"
    ]
   },
   "source": [
    "**Description:** This notebook provides an analysis of the US Bureau of Labor Statistics Consumer Price Index (CPI) over time."
   ]
  },
  {
   "cell_type": "markdown",
   "id": "distinguished-truth",
   "metadata": {
    "papermill": {},
    "tags": []
   },
   "source": [
    "## Input"
   ]
  },
  {
   "cell_type": "markdown",
   "id": "numeric-mediterranean",
   "metadata": {
    "papermill": {},
    "tags": []
   },
   "source": [
    "### Setup libraries"
   ]
  },
  {
   "cell_type": "code",
   "execution_count": null,
   "id": "eb18f777-1199-47f5-8294-8888620782ae",
   "metadata": {
    "jupyter": {
     "source_hidden": true
    },
    "papermill": {},
    "tags": []
   },
   "outputs": [],
   "source": [
    "# Install CPI Python Package\n",
    "!pip install cpi"
   ]
  },
  {
   "cell_type": "code",
   "execution_count": 2,
   "id": "potential-surfing",
   "metadata": {
    "jupyter": {
     "source_hidden": true
    },
    "papermill": {},
    "tags": []
   },
   "outputs": [],
   "source": [
    "import pandas as pd\n",
    "import cpi\n",
    "import seaborn as sns\n",
    "import matplotlib.pyplot as plt\n",
    "import naas\n",
    "from naas_drivers import plotly"
   ]
  },
  {
   "cell_type": "markdown",
   "id": "registered-showcase",
   "metadata": {
    "papermill": {},
    "tags": []
   },
   "source": [
    "## Model"
   ]
  },
  {
   "cell_type": "markdown",
   "id": "e0cbe9b1-230c-4f48-98db-03ae13c7ea65",
   "metadata": {
    "papermill": {},
    "tags": []
   },
   "source": [
    "### Update CPI latest data\n",
    "BLS is constantly updating with the latest inflation information"
   ]
  },
  {
   "cell_type": "code",
   "execution_count": 3,
   "id": "45c3f89d-4a2e-4ac3-a37b-6a3685f8c973",
   "metadata": {
    "jupyter": {
     "source_hidden": true
    },
    "papermill": {},
    "tags": []
   },
   "outputs": [],
   "source": [
    "# this can take some time\n",
    "cpi.update()"
   ]
  },
  {
   "cell_type": "markdown",
   "id": "tested-astrology",
   "metadata": {
    "papermill": {},
    "tags": []
   },
   "source": [
    "### Get monthly data"
   ]
  },
  {
   "cell_type": "code",
   "execution_count": 4,
   "id": "crude-louisville",
   "metadata": {
    "jupyter": {
     "source_hidden": true
    },
    "papermill": {},
    "tags": []
   },
   "outputs": [],
   "source": [
    "cpi_items_df = cpi.series.get(seasonally_adjusted=False).to_dataframe()\n",
    "cpi_items_df = cpi_items_df[cpi_items_df[\"period_type\"] == \"monthly\"]\n",
    "cpi_items_df[\"date\"] = pd.to_datetime(cpi_items_df[\"date\"])\n",
    "cpi_items_df = cpi_items_df.set_index(\"date\")"
   ]
  },
  {
   "cell_type": "markdown",
   "id": "6ef82ac1-c5a9-48fa-879b-de8857324e97",
   "metadata": {
    "papermill": {},
    "tags": []
   },
   "source": [
    "### Show dataframe"
   ]
  },
  {
   "cell_type": "code",
   "execution_count": 5,
   "id": "36265110-6d45-44d9-9464-cab71a54d7c1",
   "metadata": {
    "papermill": {},
    "tags": []
   },
   "outputs": [],
   "source": [
    "df = cpi_items_df\n",
    "df.head()"
   ]
  },
  {
   "cell_type": "markdown",
   "id": "7dff707f-2196-4b42-af37-7888867c5238",
   "metadata": {
    "execution": {
     "iopub.execute_input": "2022-07-16T15:38:21.529458Z",
     "iopub.status.busy": "2022-07-16T15:38:21.529236Z",
     "iopub.status.idle": "2022-07-16T15:38:21.532495Z",
     "shell.execute_reply": "2022-07-16T15:38:21.531672Z",
     "shell.execute_reply.started": "2022-07-16T15:38:21.529436Z"
    },
    "papermill": {},
    "tags": []
   },
   "source": [
    "### Create plot"
   ]
  },
  {
   "cell_type": "code",
   "execution_count": 6,
   "id": "33c2c2f5-2f96-4ea2-bddf-ba0ed6d8eac6",
   "metadata": {
    "jupyter": {
     "source_hidden": true
    },
    "papermill": {},
    "tags": []
   },
   "outputs": [],
   "source": [
    "fig = plt.figure(dpi=200)\n",
    "df[\"value\"].loc[\"2010\":\"2023\"].plot(figsize=(10, 4))\n",
    "plt.title(\"Evolution of CPI\")\n",
    "plt.xlabel(\"Date\")\n",
    "plt.ylabel(\"CPI Value\")"
   ]
  },
  {
   "cell_type": "markdown",
   "id": "76c83917-d00d-44b6-ac7c-74b996e5b560",
   "metadata": {
    "papermill": {},
    "tags": []
   },
   "source": [
    "### Simulate 2% inflation YOY"
   ]
  },
  {
   "cell_type": "code",
   "execution_count": 10,
   "id": "61c2823e-a4e9-45db-acf6-9d2c339e1d56",
   "metadata": {
    "jupyter": {
     "source_hidden": true
    },
    "papermill": {},
    "tags": []
   },
   "outputs": [],
   "source": [
    "# Starting value\n",
    "cpi_items_df[\"value\"].loc[\"2010\":\"2023\"].iloc[0]\n",
    "\n",
    "start = cpi_items_df[\"value\"].loc[\"2010\":\"2023\"].iloc[0]\n",
    "\n",
    "periods = len(cpi_items_df[\"value\"].loc[\"2010\":\"2023\"]) // 12"
   ]
  },
  {
   "cell_type": "code",
   "execution_count": 12,
   "id": "3122d1e7-af65-4093-b0e4-2279442edbfa",
   "metadata": {
    "jupyter": {
     "source_hidden": true
    },
    "papermill": {},
    "tags": []
   },
   "outputs": [],
   "source": [
    "def get_target_cpi(previous_cpi):\n",
    "    return previous_cpi + 0.02 * (previous_cpi)"
   ]
  },
  {
   "cell_type": "code",
   "execution_count": 13,
   "id": "4bb3463e-8430-4be9-9ffb-db13be847004",
   "metadata": {
    "collapsed": true,
    "jupyter": {
     "outputs_hidden": true,
     "source_hidden": true
    },
    "papermill": {},
    "tags": []
   },
   "outputs": [],
   "source": [
    "target_cpis = [start]\n",
    "for year in range(0, periods):\n",
    "    target_cpis.append(get_target_cpi(target_cpis[year]))\n",
    "\n",
    "target_cpis"
   ]
  },
  {
   "cell_type": "code",
   "execution_count": 14,
   "id": "eb8f62e3-ca19-4477-a65b-7c1a00dd41c6",
   "metadata": {
    "jupyter": {
     "source_hidden": true
    },
    "papermill": {},
    "tags": []
   },
   "outputs": [],
   "source": [
    "dates = pd.date_range(\"2010-01-01\", \"2023-01-01\", periods=periods + 1)\n",
    "target_cpi_series = pd.Series(data=target_cpis, index=dates)"
   ]
  },
  {
   "cell_type": "code",
   "execution_count": 22,
   "id": "8900530a-c71a-4592-9012-769fa311ebac",
   "metadata": {
    "papermill": {},
    "tags": []
   },
   "outputs": [],
   "source": [
    "fig = plt.figure(dpi=200)\n",
    "cpi_items_df[\"value\"].loc[\"2010\":\"2023\"].plot(figsize=(10, 6))\n",
    "target_cpi_series.plot(ls=\"--\")\n",
    "plt.title(\"Evolution of CPI vs a 2% inflation rate yearly\")\n",
    "plt.xlabel(\"Date\")\n",
    "plt.ylabel(\"CPI Value\")"
   ]
  },
  {
   "cell_type": "markdown",
   "id": "lonely-pacific",
   "metadata": {
    "execution": {
     "iopub.execute_input": "2021-07-02T23:32:10.789097Z",
     "iopub.status.busy": "2021-07-02T23:32:10.788829Z",
     "iopub.status.idle": "2021-07-02T23:32:10.796900Z",
     "shell.execute_reply": "2021-07-02T23:32:10.796358Z",
     "shell.execute_reply.started": "2021-07-02T23:32:10.789033Z"
    },
    "papermill": {},
    "tags": []
   },
   "source": [
    "## Output"
   ]
  },
  {
   "cell_type": "markdown",
   "id": "994715e3-4ca4-4736-b4a1-b136fb25130e",
   "metadata": {
    "execution": {
     "iopub.execute_input": "2022-07-16T15:46:51.336505Z",
     "iopub.status.busy": "2022-07-16T15:46:51.336277Z",
     "iopub.status.idle": "2022-07-16T15:46:51.339367Z",
     "shell.execute_reply": "2022-07-16T15:46:51.338741Z",
     "shell.execute_reply.started": "2022-07-16T15:46:51.336483Z"
    },
    "papermill": {},
    "tags": []
   },
   "source": [
    "### Save result in png"
   ]
  },
  {
   "cell_type": "code",
   "execution_count": 20,
   "id": "418b834f-eb7f-4fc7-b0d1-d0f4725be402",
   "metadata": {
    "papermill": {},
    "tags": []
   },
   "outputs": [],
   "source": [
    "plt.savefig(\"CPI.png\")"
   ]
  },
  {
   "cell_type": "markdown",
   "id": "890f7c86-b7bb-4f5d-9a1b-e492dd9580fd",
   "metadata": {
    "papermill": {},
    "tags": []
   },
   "source": [
    "### Save result in csv"
   ]
  },
  {
   "cell_type": "code",
   "execution_count": 8,
   "id": "9c4e3b7b-6440-4844-8054-265f1aec65eb",
   "metadata": {
    "papermill": {},
    "tags": []
   },
   "outputs": [],
   "source": [
    "df.to_csv(\"CPI.csv\", index=False)"
   ]
  },
  {
   "cell_type": "markdown",
   "id": "a28950bb-1d7d-4835-a83a-faac837ebc7c",
   "metadata": {
    "papermill": {},
    "tags": []
   },
   "source": [
    "### Share your output with naas"
   ]
  },
  {
   "cell_type": "code",
   "execution_count": 9,
   "id": "db205965-a2dc-4541-ba8e-db3250d1cff0",
   "metadata": {
    "papermill": {},
    "tags": []
   },
   "outputs": [],
   "source": [
    "naas.asset.add(\"CPI.csv\")\n",
    "naas.asset.add(\"CPI.png\")\n",
    "\n",
    "# -> Uncomment the line below to remove your asset\n",
    "# naas.asset.delete()"
   ]
  }
 ],
 "metadata": {
  "kernelspec": {
   "display_name": "Python 3",
   "language": "python",
   "name": "python3"
  },
  "language_info": {
   "codemirror_mode": {
    "name": "ipython",
    "version": 3
   },
   "file_extension": ".py",
   "mimetype": "text/x-python",
   "name": "python",
   "nbconvert_exporter": "python",
   "pygments_lexer": "ipython3",
   "version": "3.9.6"
  },
  "naas": {
   "notebook_id": "34d7d038a426cecb7dc11a0dbedab7b790e8494adc94264826f3259f8979e919",
   "notebook_path": "US Bureau of Labor Statistics/US_Bureau_of_Labor_Statistics_Follow_CPI.ipynb"
  },
  "papermill": {
   "default_parameters": {},
   "environment_variables": {},
   "parameters": {},
   "version": "2.3.3"
  },
  "widgets": {
   "application/vnd.jupyter.widget-state+json": {
    "state": {},
    "version_major": 2,
    "version_minor": 0
   }
  }
 },
 "nbformat": 4,
 "nbformat_minor": 5
}