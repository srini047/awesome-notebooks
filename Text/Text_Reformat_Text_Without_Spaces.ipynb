{
 "cells": [
  {
   "cell_type": "markdown",
   "id": "latin-packing",
   "metadata": {
    "execution": {
     "iopub.execute_input": "2021-02-23T14:22:16.610471Z",
     "iopub.status.busy": "2021-02-23T14:22:16.610129Z",
     "iopub.status.idle": "2021-02-23T14:22:16.627784Z",
     "shell.execute_reply": "2021-02-23T14:22:16.626866Z",
     "shell.execute_reply.started": "2021-02-23T14:22:16.610384Z"
    },
    "papermill": {},
    "tags": []
   },
   "source": [
    "<img width=\"10%\" alt=\"Naas\" src=\"https://landen.imgix.net/jtci2pxwjczr/assets/5ice39g4.png?w=160\"/>"
   ]
  },
  {
   "cell_type": "markdown",
   "id": "compressed-wilson",
   "metadata": {
    "papermill": {},
    "tags": []
   },
   "source": [
    "# Text - Reformat  Without Spaces\n",
    "<a href=\"https://app.naas.ai/user-redirect/naas/downloader?url=https://raw.githubusercontent.com/jupyter-naas/awesome-notebooks/master/Text/Text_Reformat_Text_Without_Spaces.ipynb\" target=\"_parent\"><img src=\"https://naasai-public.s3.eu-west-3.amazonaws.com/open_in_naas.svg\"/></a><br><br><a href=\"https://github.com/jupyter-naas/awesome-notebooks/issues/new?assignees=&labels=&template=template-request.md&title=Tool+-+Action+of+the+notebook+\">Template request</a> | <a href=\"https://github.com/jupyter-naas/awesome-notebooks/issues/new?assignees=&labels=bug&template=bug_report.md&title=Text+-+Reformat++Without+Spaces:+Error+short+description\">Bug report</a>"
   ]
  },
  {
   "cell_type": "markdown",
   "id": "religious-programmer",
   "metadata": {
    "papermill": {},
    "tags": []
   },
   "source": [
    "**Tags:** #text #reformat #snippet #operations #spaces"
   ]
  },
  {
   "cell_type": "markdown",
   "id": "1fe9f56e-561c-4f52-aef8-b861c9462107",
   "metadata": {
    "papermill": {},
    "tags": []
   },
   "source": [
    "**Author:** [Minura Punchihewa](https://www.linkedin.com/in/minurapunchihewa/)"
   ]
  },
  {
   "cell_type": "markdown",
   "id": "naas-description",
   "metadata": {
    "papermill": {},
    "tags": [
     "description"
    ]
   },
   "source": [
    "**Description:** This notebook reformats text by removing all spaces."
   ]
  },
  {
   "cell_type": "markdown",
   "id": "distinguished-truth",
   "metadata": {
    "papermill": {},
    "tags": []
   },
   "source": [
    "## Input"
   ]
  },
  {
   "cell_type": "markdown",
   "id": "numeric-mediterranean",
   "metadata": {
    "papermill": {},
    "tags": []
   },
   "source": [
    "### Import libraries"
   ]
  },
  {
   "cell_type": "code",
   "execution_count": null,
   "id": "potential-surfing",
   "metadata": {
    "papermill": {},
    "tags": []
   },
   "outputs": [],
   "source": [
    "try:\n",
    "    import wordninja\n",
    "except:\n",
    "    !pip install wordninja\n",
    "    import wordninja"
   ]
  },
  {
   "cell_type": "markdown",
   "id": "aggressive-trustee",
   "metadata": {
    "papermill": {},
    "tags": []
   },
   "source": [
    "### Variables"
   ]
  },
  {
   "cell_type": "code",
   "execution_count": null,
   "id": "46af0552",
   "metadata": {
    "papermill": {},
    "tags": []
   },
   "outputs": [],
   "source": [
    "text = \"\"\"WhenSatoshiNakamotofirstsettheBitcoinblockchainintomotioninJanuary2009,hewas simultaneouslyintroducingtworadicalanduntestedconcepts.Thefirstisthe\"bitcoin\",adecentralized peer-to-peeronlinecurrencythatmaintainsavaluewithoutanybacking,intrinsicvalueorcentralissuer.So far,the\"bitcoin\"asacurrencyunithastakenupthebulkofthepublicattention,bothintermsofthepolitical aspectsofacurrencywithoutacentralbankanditsextremeupwardanddownwardvolatilityinprice. However,thereisalsoanother,equallyimportant,parttoSatoshi'sgrandexperiment:theconceptofaproofof work-basedblockchaintoallowforpublicagreementontheorderoftransactions.Bitcoinasanapplicationcan bedescribedasafirst-to-filesystem:ifoneentityhas50BTC,andsimultaneouslysendsthesame50BTCto AandtoB,onlythetransactionthatgetsconfirmedfirstwillprocess.Thereisnointrinsicwayofdetermining fromtwotransactionswhichcameearlier,andfordecadesthisstymiedthedevelopmentofdecentralized digitalcurrency.Satoshi'sblockchainwasthefirstcredibledecentralizedsolution.Andnow,attentionis rapidlystartingtoshifttowardthissecondpartofBitcoin'stechnology,andhowtheblockchainconceptcanbe used for more than just money. Commonlycitedapplicationsincludeusingon-blockchaindigitalassetstorepresentcustomcurrenciesand financialinstruments(\"coloredcoins\"),theownershipofanunderlyingphysicaldevice(\"smartproperty\"), non-fungibleassetssuchasdomainnames(\"Namecoin\")aswellasmoreadvancedapplicationssuchas decentralizedexchange,financialderivatives,peer-to-peergamblingandon-blockchainidentityand reputationsystems.Anotherimportantareaofinquiryis\"smartcontracts\"-systemswhichautomatically movedigitalassetsaccordingtoarbitrarypre-specifiedrules.Forexample,onemighthaveatreasurycontract oftheform\"AcanwithdrawuptoXcurrencyunitsperday,BcanwithdrawuptoYperday,AandBtogether canwithdrawanything,andAcanshutoffB'sabilitytowithdraw\".Thelogicalextensionofthisis decentralizedautonomousorganizations(DAOs)-long-termsmartcontractsthatcontaintheassetsand encodethebylawsofanentireorganization.WhatEthereumintendstoprovideisablockchainwithabuilt-in fullyfledgedTuring-completeprogramminglanguagethatcanbeusedtocreate\"contracts\"thatcanbeused toencodearbitrarystatetransitionfunctions,allowinguserstocreateanyofthesystemsdescribedabove,as well as many others that we have not yet imagined, simply by writing up the logic in a few lines of code.\"\"\""
   ]
  },
  {
   "cell_type": "markdown",
   "id": "registered-showcase",
   "metadata": {
    "papermill": {},
    "tags": []
   },
   "source": [
    "## Model"
   ]
  },
  {
   "cell_type": "markdown",
   "id": "7eccaab8",
   "metadata": {
    "papermill": {},
    "tags": []
   },
   "source": [
    "### Define function to reformat text"
   ]
  },
  {
   "cell_type": "code",
   "execution_count": null,
   "id": "6a6a1b3a",
   "metadata": {
    "papermill": {},
    "tags": []
   },
   "outputs": [],
   "source": [
    "def reformat_text(text):\n",
    "    sentences = []\n",
    "\n",
    "    for sentence in text.split(\".\"):\n",
    "        if len(sentence) > 0:\n",
    "            sentences.append(\" \".join(wordninja.split(sentence)) + \".\")\n",
    "\n",
    "    return \" \".join(sentences)"
   ]
  },
  {
   "cell_type": "markdown",
   "id": "lonely-pacific",
   "metadata": {
    "execution": {
     "iopub.execute_input": "2021-07-02T23:32:10.789097Z",
     "iopub.status.busy": "2021-07-02T23:32:10.788829Z",
     "iopub.status.idle": "2021-07-02T23:32:10.796900Z",
     "shell.execute_reply": "2021-07-02T23:32:10.796358Z",
     "shell.execute_reply.started": "2021-07-02T23:32:10.789033Z"
    },
    "papermill": {},
    "tags": []
   },
   "source": [
    "## Output"
   ]
  },
  {
   "cell_type": "markdown",
   "id": "890f7c86-b7bb-4f5d-9a1b-e492dd9580fd",
   "metadata": {
    "papermill": {},
    "tags": []
   },
   "source": [
    "### Reformat text"
   ]
  },
  {
   "cell_type": "code",
   "execution_count": null,
   "id": "1241063a-8bce-4d59-9044-e79691f1a8c8",
   "metadata": {
    "papermill": {},
    "tags": []
   },
   "outputs": [],
   "source": [
    "print(reformat_text(text))"
   ]
  },
  {
   "cell_type": "code",
   "execution_count": null,
   "id": "8689e155-cc97-467a-8778-1b20d0e84671",
   "metadata": {
    "papermill": {},
    "tags": []
   },
   "outputs": [],
   "source": []
  }
 ],
 "metadata": {
  "kernelspec": {
   "display_name": "Python 3",
   "language": "python",
   "name": "python3"
  },
  "language_info": {
   "codemirror_mode": {
    "name": "ipython",
    "version": 3
   },
   "file_extension": ".py",
   "mimetype": "text/x-python",
   "name": "python",
   "nbconvert_exporter": "python",
   "pygments_lexer": "ipython3",
   "version": "3.9.6"
  },
  "papermill": {
   "default_parameters": {},
   "environment_variables": {},
   "parameters": {},
   "version": "2.3.3"
  },
  "widgets": {
   "application/vnd.jupyter.widget-state+json": {
    "state": {},
    "version_major": 2,
    "version_minor": 0
   }
  }
 },
 "nbformat": 4,
 "nbformat_minor": 5
}