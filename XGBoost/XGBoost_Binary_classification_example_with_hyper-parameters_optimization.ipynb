{
 "cells": [
  {
   "cell_type": "markdown",
   "id": "latin-packing",
   "metadata": {
    "execution": {
     "iopub.execute_input": "2021-02-23T14:22:16.610471Z",
     "iopub.status.busy": "2021-02-23T14:22:16.610129Z",
     "iopub.status.idle": "2021-02-23T14:22:16.627784Z",
     "shell.execute_reply": "2021-02-23T14:22:16.626866Z",
     "shell.execute_reply.started": "2021-02-23T14:22:16.610384Z"
    },
    "papermill": {},
    "tags": []
   },
   "source": [
    "<img width=\"10%\" alt=\"Naas\" src=\"https://landen.imgix.net/jtci2pxwjczr/assets/5ice39g4.png?w=160\"/>"
   ]
  },
  {
   "cell_type": "markdown",
   "id": "compressed-wilson",
   "metadata": {
    "papermill": {},
    "tags": []
   },
   "source": [
    "# XGBoost - Binary classification example with hyper-parameters optimization\n",
    "<a href=\"https://app.naas.ai/user-redirect/naas/downloader?url=https://raw.githubusercontent.com/jupyter-naas/awesome-notebooks/master/XGBoost/XGBoost_Binary_classification_example_with_hyper-parameters_optimization.ipynb\" target=\"_parent\"><img src=\"https://naasai-public.s3.eu-west-3.amazonaws.com/Open_in_Naas_Lab.svg\"/></a><br><br><a href=\"https://github.com/jupyter-naas/awesome-notebooks/issues/new?assignees=&labels=&template=template-request.md&title=Tool+-+Action+of+the+notebook+\">Template request</a> | <a href=\"https://github.com/jupyter-naas/awesome-notebooks/issues/new?assignees=&labels=bug&template=bug_report.md&title=XGBoost+-+Binary+classification+example+with+hyper-parameters+optimization:+Error+short+description\">Bug report</a> | <a href=\"https://app.naas.ai/user-redirect/naas/downloader?url=https://raw.githubusercontent.com/jupyter-naas/awesome-notebooks/master/Naas/Naas_Start_data_product.ipynb\" target=\"_parent\">Generate Data Product</a>"
   ]
  },
  {
   "cell_type": "markdown",
   "id": "religious-programmer",
   "metadata": {
    "papermill": {},
    "tags": []
   },
   "source": [
    "**Tags:** #xgboost #snippet #classification #tabular #cross-validation #optimization #modeling"
   ]
  },
  {
   "cell_type": "markdown",
   "id": "1fe9f56e-561c-4f52-aef8-b861c9462107",
   "metadata": {
    "papermill": {},
    "tags": []
   },
   "source": [
    "**Author:** [Oussama El Bahaoui](https://www.linkedin.com/in/oelbahaoui/)"
   ]
  },
  {
   "cell_type": "markdown",
   "id": "naas-description",
   "metadata": {
    "papermill": {},
    "tags": [
     "description"
    ]
   },
   "source": [
    "**Description:** This notebook provides an example of using XGBoost to perform binary classification with hyper-parameter optimization."
   ]
  },
  {
   "cell_type": "markdown",
   "id": "distinguished-truth",
   "metadata": {
    "papermill": {},
    "tags": []
   },
   "source": [
    "## Input"
   ]
  },
  {
   "cell_type": "markdown",
   "id": "numeric-mediterranean",
   "metadata": {
    "papermill": {},
    "tags": []
   },
   "source": [
    "### Install required packages"
   ]
  },
  {
   "cell_type": "code",
   "execution_count": 1,
   "id": "potential-surfing",
   "metadata": {
    "papermill": {},
    "scrolled": true,
    "tags": []
   },
   "outputs": [],
   "source": [
    "%pip install xgboost"
   ]
  },
  {
   "cell_type": "markdown",
   "id": "bfdf7da0-5596-4a68-a211-ab0c5810c38c",
   "metadata": {
    "papermill": {},
    "tags": []
   },
   "source": [
    "### Import packages"
   ]
  },
  {
   "cell_type": "code",
   "execution_count": 2,
   "id": "18694d57-5e1d-4131-8b6f-a1ca8d3f4eab",
   "metadata": {
    "papermill": {},
    "tags": []
   },
   "outputs": [],
   "source": [
    "import pandas as pd\n",
    "\n",
    "from sklearn.datasets import load_breast_cancer\n",
    "from sklearn.model_selection import train_test_split\n",
    "from sklearn.model_selection import GridSearchCV\n",
    "from sklearn.metrics import accuracy_score\n",
    "\n",
    "from xgboost import XGBClassifier"
   ]
  },
  {
   "cell_type": "markdown",
   "id": "aggressive-trustee",
   "metadata": {
    "papermill": {},
    "tags": []
   },
   "source": [
    "### Variables"
   ]
  },
  {
   "cell_type": "markdown",
   "id": "cc26df02-8421-43eb-843e-e6ecd391db18",
   "metadata": {
    "papermill": {},
    "tags": []
   },
   "source": [
    "Define a parameter grid that will be explored during the hyper-parameters optimization."
   ]
  },
  {
   "cell_type": "code",
   "execution_count": 3,
   "id": "continuous-melbourne",
   "metadata": {
    "papermill": {},
    "tags": []
   },
   "outputs": [],
   "source": [
    "# Random seed.\n",
    "SEED = 42\n",
    "\n",
    "# A parameters grid for XGBoost classifier.\n",
    "PARAMS = {\n",
    "    \"objective\": [\"binary:logistic\"],\n",
    "    \"nthread\": [-1],\n",
    "    \"random_state\": [SEED],\n",
    "    \"min_child_weight\": [1, 5, 10],\n",
    "    \"max_depth\": [3, 4, 5],\n",
    "    \"learning_rate\": [0.01, 0.02, 0.3],\n",
    "    \"n_estimators\": [100, 200, 500],\n",
    "}"
   ]
  },
  {
   "cell_type": "markdown",
   "id": "58b3261e-fbba-42fc-a194-1f46d27a1299",
   "metadata": {
    "papermill": {},
    "tags": []
   },
   "source": [
    "### Read the dataset"
   ]
  },
  {
   "cell_type": "code",
   "execution_count": 4,
   "id": "ca79f3f7-fe7f-40b0-afd9-b04e931c97fa",
   "metadata": {
    "papermill": {},
    "tags": []
   },
   "outputs": [],
   "source": [
    "# Load a toy dataset for binary classification task.\n",
    "\n",
    "data = load_breast_cancer(as_frame=True)"
   ]
  },
  {
   "cell_type": "markdown",
   "id": "registered-showcase",
   "metadata": {
    "papermill": {},
    "tags": []
   },
   "source": [
    "## Model"
   ]
  },
  {
   "cell_type": "markdown",
   "id": "e91ca097-bfd8-4c51-a390-ab4aa1b1368c",
   "metadata": {
    "papermill": {},
    "tags": []
   },
   "source": [
    "### Create input features and labels"
   ]
  },
  {
   "cell_type": "code",
   "execution_count": 5,
   "id": "719b89f6-37ab-4278-ae7e-292b4f95f69a",
   "metadata": {
    "papermill": {},
    "tags": []
   },
   "outputs": [],
   "source": [
    "X = data[\"data\"]\n",
    "y = data[\"target\"]"
   ]
  },
  {
   "cell_type": "markdown",
   "id": "tested-astrology",
   "metadata": {
    "papermill": {},
    "tags": []
   },
   "source": [
    "### Split the dataset into train and test sets"
   ]
  },
  {
   "cell_type": "code",
   "execution_count": 6,
   "id": "8d1e7b3a-8029-435f-b2c2-5f708b7b0e9c",
   "metadata": {
    "papermill": {},
    "tags": []
   },
   "outputs": [],
   "source": [
    "# Use 70% of the data for training and 30% for testing.\n",
    "\n",
    "X_train, X_test, y_train, y_test = train_test_split(\n",
    "    X, y, test_size=0.3, random_state=SEED\n",
    ")"
   ]
  },
  {
   "cell_type": "markdown",
   "id": "b0f3f658-c7a3-4575-a683-d1f721a7ba33",
   "metadata": {
    "papermill": {},
    "tags": []
   },
   "source": [
    "### Create a model"
   ]
  },
  {
   "cell_type": "code",
   "execution_count": 7,
   "id": "c09e89a4-bb8d-4f45-86d7-583baa8c223e",
   "metadata": {
    "papermill": {},
    "tags": []
   },
   "outputs": [],
   "source": [
    "# Create a XGBoost classifier model.\n",
    "\n",
    "model = XGBClassifier()"
   ]
  },
  {
   "cell_type": "markdown",
   "id": "f3ea6867-c761-4a16-9a20-5dc0dee2e22a",
   "metadata": {
    "papermill": {},
    "tags": []
   },
   "source": [
    "### Optimize the model's hyper-parameters using grid search"
   ]
  },
  {
   "cell_type": "markdown",
   "id": "49710e4c-b056-489c-afe7-40600f96df6c",
   "metadata": {
    "papermill": {},
    "tags": []
   },
   "source": [
    "A good practice is to perform a [cross-validation training](https://scikit-learn.org/stable/modules/cross_validation.html).\n",
    "\n",
    "3 or 5-folds are the most recommended values. But to run the notebook faster, we'll reduce it to 2."
   ]
  },
  {
   "cell_type": "code",
   "execution_count": 8,
   "id": "f091c9f9-e938-4ae8-bbc8-0df6f3058095",
   "metadata": {
    "papermill": {},
    "tags": []
   },
   "outputs": [],
   "source": [
    "# Perfom a grid search on the hyper-parameters defined in the PARAM dict.\n",
    "\n",
    "grid_search = GridSearchCV(\n",
    "    estimator=model,\n",
    "    param_grid=PARAMS,\n",
    "    scoring=\"accuracy\",\n",
    "    n_jobs=-1,\n",
    "    cv=2,\n",
    "    verbose=True,\n",
    ").fit(X_train, y_train)"
   ]
  },
  {
   "cell_type": "markdown",
   "id": "7f19f10b-cd68-4b54-b045-3ffba3d0b145",
   "metadata": {
    "papermill": {},
    "tags": []
   },
   "source": [
    "Note that the training above takes about 2min to finish. Increasing the number of CV folds will also increase the execution time."
   ]
  },
  {
   "cell_type": "markdown",
   "id": "lonely-pacific",
   "metadata": {
    "execution": {
     "iopub.execute_input": "2021-07-02T23:32:10.789097Z",
     "iopub.status.busy": "2021-07-02T23:32:10.788829Z",
     "iopub.status.idle": "2021-07-02T23:32:10.796900Z",
     "shell.execute_reply": "2021-07-02T23:32:10.796358Z",
     "shell.execute_reply.started": "2021-07-02T23:32:10.789033Z"
    },
    "papermill": {},
    "tags": []
   },
   "source": [
    "## Output"
   ]
  },
  {
   "cell_type": "markdown",
   "id": "a7af3d52-1d47-461e-b943-8461ff88fd4f",
   "metadata": {
    "papermill": {},
    "tags": []
   },
   "source": [
    "### Calculate accuracy on test data"
   ]
  },
  {
   "cell_type": "code",
   "execution_count": 9,
   "id": "8b4b850a-cd35-46b4-927f-349e582227d1",
   "metadata": {
    "papermill": {},
    "tags": []
   },
   "outputs": [],
   "source": [
    "# Evaluate on the test data.\n",
    "\n",
    "y_pred = grid_search.predict(X_test)\n",
    "print(\"Accuracy:\", accuracy_score(y_test, y_pred))"
   ]
  },
  {
   "cell_type": "markdown",
   "id": "757053c8-c51a-4478-a571-0d26b52d3ba3",
   "metadata": {
    "papermill": {},
    "tags": []
   },
   "source": [
    "### Find the best parameters"
   ]
  },
  {
   "cell_type": "code",
   "execution_count": 10,
   "id": "7c83b8de-3e21-4c3f-ad46-19eaa7b61f31",
   "metadata": {
    "papermill": {},
    "tags": []
   },
   "outputs": [],
   "source": [
    "grid_search.best_params_"
   ]
  },
  {
   "cell_type": "markdown",
   "id": "ab0b2ad1-50bd-4dcc-8689-72f914257e87",
   "metadata": {
    "papermill": {},
    "tags": []
   },
   "source": [
    "### Save the model"
   ]
  },
  {
   "cell_type": "code",
   "execution_count": 11,
   "id": "31598e0e-9a4a-44c8-8494-d859d00e7c74",
   "metadata": {
    "papermill": {},
    "tags": []
   },
   "outputs": [],
   "source": [
    "# Recreate the model using the best hyper-parameters.\n",
    "\n",
    "best_model = XGBClassifier(**grid_search.best_params_).fit(X_train, y_train)"
   ]
  },
  {
   "cell_type": "code",
   "execution_count": 12,
   "id": "35845791-2211-4767-ac19-1dcc281c672c",
   "metadata": {
    "papermill": {},
    "tags": []
   },
   "outputs": [],
   "source": [
    "# Saving the model as a json file.\n",
    "\n",
    "best_model.save_model(\"best_model.json\")"
   ]
  },
  {
   "cell_type": "markdown",
   "id": "c22b0661-f91d-47ea-942b-3be8af4ed5f1",
   "metadata": {
    "papermill": {},
    "tags": []
   },
   "source": [
    "### (Optional) Load the model"
   ]
  },
  {
   "cell_type": "code",
   "execution_count": 13,
   "id": "1dc2544a-5989-4e69-8e41-9b37f88ea517",
   "metadata": {
    "papermill": {},
    "tags": []
   },
   "outputs": [],
   "source": [
    "from xgboost import Booster, DMatrix\n",
    "\n",
    "trained_model = XGBClassifier()\n",
    "trained_model.load_model(\"best_model.json\")"
   ]
  }
 ],
 "metadata": {
  "kernelspec": {
   "display_name": "Python 3",
   "language": "python",
   "name": "python3"
  },
  "language_info": {
   "codemirror_mode": {
    "name": "ipython",
    "version": 3
   },
   "file_extension": ".py",
   "mimetype": "text/x-python",
   "name": "python",
   "nbconvert_exporter": "python",
   "pygments_lexer": "ipython3",
   "version": "3.9.6"
  },
  "naas": {
   "notebook_id": "d53fcc695712505d6f768a768aaafc0bd1e79a5046278e1248620ddf40433a96",
   "notebook_path": "XGBoost/XGBoost_Binary_classification_example_with_hyper-parameters_optimization.ipynb"
  },
  "papermill": {
   "default_parameters": {},
   "environment_variables": {},
   "parameters": {},
   "version": "2.3.3"
  },
  "widgets": {
   "application/vnd.jupyter.widget-state+json": {
    "state": {},
    "version_major": 2,
    "version_minor": 0
   }
  }
 },
 "nbformat": 4,
 "nbformat_minor": 5
}