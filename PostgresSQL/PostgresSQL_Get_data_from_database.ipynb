{
 "cells": [
  {
   "cell_type": "markdown",
   "id": "448ab4ae",
   "metadata": {
    "papermill": {},
    "tags": []
   },
   "source": [
    "<img width=\"10%\" alt=\"Naas\" src=\"https://landen.imgix.net/jtci2pxwjczr/assets/5ice39g4.png?w=160\"/>"
   ]
  },
  {
   "cell_type": "markdown",
   "id": "e1d4d2cf",
   "metadata": {
    "papermill": {},
    "tags": []
   },
   "source": [
    "# PostgresSQL - Get data from database\n",
    "<a href=\"https://app.naas.ai/user-redirect/naas/downloader?url=https://raw.githubusercontent.com/jupyter-naas/awesome-notebooks/master/PostgresSQL/PostgresSQL_Get_data_from_database.ipynb\" target=\"_parent\"><img src=\"https://naasai-public.s3.eu-west-3.amazonaws.com/open_in_naas.svg\"/></a><br><br><a href=\"https://github.com/jupyter-naas/awesome-notebooks/issues/new?assignees=&labels=&template=template-request.md&title=Tool+-+Action+of+the+notebook+\">Template request</a> | <a href=\"https://github.com/jupyter-naas/awesome-notebooks/issues/new?assignees=&labels=bug&template=bug_report.md&title=PostgresSQL+-+Get+data+from+database:+Error+short+description\">Bug report</a>"
   ]
  },
  {
   "cell_type": "markdown",
   "id": "8ed65dec",
   "metadata": {
    "papermill": {},
    "tags": []
   },
   "source": [
    "**Tags:** #postgressql #database #operations #snippet #dataframe"
   ]
  },
  {
   "cell_type": "markdown",
   "id": "4e966fab",
   "metadata": {
    "papermill": {},
    "tags": []
   },
   "source": [
    "**Author:** [Maxime Jublou](https://www.linkedin.com/in/maximejublou/)"
   ]
  },
  {
   "cell_type": "markdown",
   "id": "naas-description",
   "metadata": {
    "papermill": {},
    "tags": [
     "description"
    ]
   },
   "source": [
    "**Description:** This notebook provides instructions on how to query a PostgreSQL database and retrieve data."
   ]
  },
  {
   "cell_type": "markdown",
   "id": "63780c59",
   "metadata": {
    "papermill": {},
    "tags": []
   },
   "source": [
    "## Input"
   ]
  },
  {
   "cell_type": "markdown",
   "id": "2e496038",
   "metadata": {
    "papermill": {},
    "tags": []
   },
   "source": [
    "### Import librairies"
   ]
  },
  {
   "cell_type": "code",
   "execution_count": null,
   "id": "86b41aaf",
   "metadata": {
    "papermill": {},
    "tags": []
   },
   "outputs": [],
   "source": [
    "try:\n",
    "    import psycopg2\n",
    "except:\n",
    "    !pip install psycopg2-binary --user\n",
    "    import psycopg2\n",
    "import pandas as pd\n",
    "import naas"
   ]
  },
  {
   "cell_type": "markdown",
   "id": "ab5115b0",
   "metadata": {
    "papermill": {},
    "tags": []
   },
   "source": [
    "### Setup PostgresSQL"
   ]
  },
  {
   "cell_type": "code",
   "execution_count": null,
   "id": "3e88b9d7",
   "metadata": {
    "papermill": {},
    "tags": []
   },
   "outputs": [],
   "source": [
    "# Credentials\n",
    "PG_USER = \"YOUR_PG_USER\"\n",
    "PG_PASSWORD = \"YOUR_PG_PASSWORD\"\n",
    "PG_HOST = \"YOUR_PG_HOST\"\n",
    "PG_DBNAME = \"YOUR_PG_DBNAME\"\n",
    "\n",
    "# Database\n",
    "DATABASE = \"YOUR_DATABASE\"\n",
    "SELECTED_FIELD = \"*\"  # \"*\" or list of columns\n",
    "\n",
    "# SQL Requests\n",
    "SQL_REQUEST = f\"SELECT {SELECTED_FIELD} FROM {DATABASE}\""
   ]
  },
  {
   "cell_type": "markdown",
   "id": "986bba89",
   "metadata": {
    "papermill": {},
    "tags": []
   },
   "source": [
    "## Model"
   ]
  },
  {
   "cell_type": "markdown",
   "id": "57d59490",
   "metadata": {
    "papermill": {},
    "tags": []
   },
   "source": [
    "### Connect to PostgresSQL"
   ]
  },
  {
   "cell_type": "code",
   "execution_count": null,
   "id": "1a8f8fff",
   "metadata": {
    "papermill": {},
    "tags": []
   },
   "outputs": [],
   "source": [
    "PG = psycopg2.connect(\n",
    "    f\"user={PG_USER} password={PG_PASSWORD} dbname={PG_DBNAME} host={PG_HOST}\"\n",
    ")"
   ]
  },
  {
   "cell_type": "markdown",
   "id": "38876b8b",
   "metadata": {
    "papermill": {},
    "tags": []
   },
   "source": [
    "### Get naas users"
   ]
  },
  {
   "cell_type": "code",
   "execution_count": null,
   "id": "c55db636",
   "metadata": {
    "papermill": {},
    "tags": []
   },
   "outputs": [],
   "source": [
    "def get_data():\n",
    "    cur = PG.cursor()\n",
    "    cur.execute(SQL_REQUEST)\n",
    "    res = cur.fetchall()\n",
    "    cur.close()\n",
    "    df = pd.DataFrame(res)\n",
    "    return df\n",
    "\n",
    "\n",
    "df = get_data()"
   ]
  },
  {
   "cell_type": "markdown",
   "id": "824f3ec3",
   "metadata": {
    "papermill": {},
    "tags": []
   },
   "source": [
    "## Output"
   ]
  },
  {
   "cell_type": "markdown",
   "id": "e0c7e99a",
   "metadata": {
    "papermill": {},
    "tags": []
   },
   "source": [
    "### Display result"
   ]
  },
  {
   "cell_type": "code",
   "execution_count": null,
   "id": "b1c7fda4",
   "metadata": {
    "papermill": {},
    "tags": []
   },
   "outputs": [],
   "source": [
    "df"
   ]
  }
 ],
 "metadata": {
  "kernelspec": {
   "display_name": "Python 3",
   "language": "python",
   "name": "python3"
  },
  "language_info": {
   "codemirror_mode": {
    "name": "ipython",
    "version": 3
   },
   "file_extension": ".py",
   "mimetype": "text/x-python",
   "name": "python",
   "nbconvert_exporter": "python",
   "pygments_lexer": "ipython3",
   "version": "3.9.6"
  },
  "papermill": {
   "default_parameters": {},
   "environment_variables": {},
   "parameters": {},
   "version": "2.3.4"
  }
 },
 "nbformat": 4,
 "nbformat_minor": 5
}