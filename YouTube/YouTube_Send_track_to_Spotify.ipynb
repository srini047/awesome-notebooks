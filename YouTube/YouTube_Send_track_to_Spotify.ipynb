{
 "cells": [
  {
   "cell_type": "markdown",
   "id": "athletic-postage",
   "metadata": {
    "papermill": {},
    "tags": []
   },
   "source": [
    "<img width=\"10%\" alt=\"Naas\" src=\"https://landen.imgix.net/jtci2pxwjczr/assets/5ice39g4.png?w=160\"/>"
   ]
  },
  {
   "cell_type": "markdown",
   "id": "designing-adapter",
   "metadata": {
    "papermill": {},
    "tags": []
   },
   "source": [
    "# YouTube - Send track to Spotify\n",
    "<a href=\"https://app.naas.ai/user-redirect/naas/downloader?url=https://raw.githubusercontent.com/jupyter-naas/awesome-notebooks/master/YouTube/YouTube_Send_track_to_Spotify.ipynb\" target=\"_parent\"><img src=\"https://naasai-public.s3.eu-west-3.amazonaws.com/open_in_naas.svg\"/></a><br><br><a href=\"https://github.com/jupyter-naas/awesome-notebooks/issues/new?assignees=&labels=&template=template-request.md&title=Tool+-+Action+of+the+notebook+\">Template request</a> | <a href=\"https://github.com/jupyter-naas/awesome-notebooks/issues/new?assignees=&labels=bug&template=bug_report.md&title=YouTube+-+Send+track+to+Spotify:+Error+short+description\">Bug report</a>"
   ]
  },
  {
   "cell_type": "markdown",
   "id": "1e9c407a-d2ab-4694-bfae-0a404187f8b7",
   "metadata": {
    "papermill": {},
    "tags": []
   },
   "source": [
    "**Tags:** #youtube #spotify #snippet"
   ]
  },
  {
   "cell_type": "markdown",
   "id": "733c2a95-8dbf-4d50-9e0b-c96d5915fccc",
   "metadata": {
    "papermill": {},
    "tags": []
   },
   "source": [
    "**Author:** [Josef (Joe) Trchalik](https://www.linkedin.com/in/joseftrchalik/)"
   ]
  },
  {
   "cell_type": "markdown",
   "id": "naas-description",
   "metadata": {
    "papermill": {},
    "tags": [
     "description"
    ]
   },
   "source": [
    "**Description:** This notebook allows users to easily send tracks from YouTube to their Spotify account."
   ]
  },
  {
   "cell_type": "markdown",
   "id": "input_cell",
   "metadata": {
    "papermill": {},
    "tags": []
   },
   "source": [
    "## Input"
   ]
  },
  {
   "cell_type": "markdown",
   "id": "opened-movement",
   "metadata": {
    "papermill": {},
    "tags": []
   },
   "source": [
    "### Import libraries"
   ]
  },
  {
   "cell_type": "code",
   "execution_count": 1,
   "id": "bizarre-serve",
   "metadata": {
    "execution": {
     "iopub.execute_input": "2022-05-12T13:01:15.760878Z",
     "iopub.status.busy": "2022-05-12T13:01:15.760419Z",
     "iopub.status.idle": "2022-05-12T13:01:30.584442Z",
     "shell.execute_reply": "2022-05-12T13:01:30.583632Z",
     "shell.execute_reply.started": "2022-05-12T13:01:15.760784Z"
    },
    "papermill": {},
    "tags": []
   },
   "outputs": [],
   "source": [
    "try:\n",
    "    import spotipy\n",
    "except:\n",
    "    !pip install spotipy\n",
    "    import spotipy\n",
    "\n",
    "import spotipy.util as util\n",
    "from spotipy.oauth2 import SpotifyClientCredentials\n",
    "from spotipy import SpotifyOAuth\n",
    "\n",
    "try:\n",
    "    import youtube_dl\n",
    "except:\n",
    "    !pip install youtube_dl\n",
    "    import youtube_dl\n",
    "\n",
    "try:\n",
    "    import google_auth_oauthlib.flow\n",
    "except:\n",
    "    !pip install google_auth_oauthlib\n",
    "    import google_auth_oauthlib.flow\n",
    "\n",
    "try:\n",
    "    import googleapiclient.discovery\n",
    "    import googleapiclient.errors\n",
    "except:\n",
    "    !pip install googleapiclient\n",
    "    import googleapiclient.discovery\n",
    "    import googleapiclient.errors\n",
    "\n",
    "import requests, json, os, re, time\n",
    "from urllib.parse import parse_qs, urlparse\n",
    "from subprocess import Popen, PIPE\n",
    "from signal import SIGTERM, SIGKILL"
   ]
  },
  {
   "cell_type": "markdown",
   "id": "017311e0-f6b7-4443-a4e4-d18c06fe3a66",
   "metadata": {
    "papermill": {},
    "tags": []
   },
   "source": [
    "### Setup Spotify\n",
    "\n",
    "Here is a link to a PDF showing you how to get your Spotify credentials: [Link](https://drive.google.com/file/d/1dheG1I97sNJibPuZLrrvjYUsofCZX4Mc/view?usp=sharing)"
   ]
  },
  {
   "cell_type": "code",
   "execution_count": 17,
   "id": "violent-momentum",
   "metadata": {
    "papermill": {},
    "tags": []
   },
   "outputs": [],
   "source": [
    "# Spotify credentials\n",
    "SPOTIFY_CLIENT_ID = \"SPOTIFY_CLIENT_ID\"\n",
    "SPOTIFY_CLIENT_SECRET = \"SPOTIFY_CLIENT_SECRET\"\n",
    "SPOTIFY_PLAY_LIST_ID = \"SPOTIFY_PLAYLIST_ID\"\n",
    "SPOTIFY_USERNAME = \"SPOTIFY_USERNAME\"\n",
    "\n",
    "scope = \"user-follow-modify playlist-modify-private\"\n",
    "redir_uri = \"http://localhost:8000\"\n",
    "\n",
    "# Max number of tracks to find in Spotify against each query\n",
    "spotify_limit = 5"
   ]
  },
  {
   "cell_type": "markdown",
   "id": "1d6a685f-a594-4af3-b937-77bbc9cfbc55",
   "metadata": {
    "papermill": {},
    "tags": []
   },
   "source": [
    "### Setup YouTube\n",
    "\n",
    "Here is a link to a PDF showing you how to get your YouTube credentials: [Link](https://drive.google.com/file/d/1dheG1I97sNJibPuZLrrvjYUsofCZX4Mc/view?usp=sharing)"
   ]
  },
  {
   "cell_type": "code",
   "execution_count": 18,
   "id": "1409aadb",
   "metadata": {
    "papermill": {},
    "tags": []
   },
   "outputs": [],
   "source": [
    "# Google developer API key - required if using Youtube playlist URL as an input\n",
    "GOOGLE_API_KEY = \"GOOGLE_API_KEY\"\n",
    "\n",
    "# Google API OAUTH credentials - required for obtaining liked videos from user account(s)\n",
    "GOOGLE_CLIENT_ID = \"GOOGLE_CLIENT_ID\"\n",
    "GOOGLE_CLIENT_SECRET = \"GOOGLE_CLEINT_SECRET\"\n",
    "GOOGLE_PROJECT_ID = \"GOOGLE_PROJECT_ID\"\n",
    "\n",
    "# Avoiding blacklisting by YouTube\n",
    "youtubeapi_lim = 99  # Maximum number of videos to fetch by GOOGLEAPICLIENT from a playlist - set to >=99 to avoid ERROR 429 - too many requests\n",
    "youtubedl_lim = 99  # Maximum number of urls to process by YOUTUBE-DL- set to >=99 to avoid ERROR 429 - too many requests\n",
    "sleep = 0.5  # Time to pause between fetching individual YT video data\n",
    "\n",
    "# Get data on the Youtube content\n",
    "ydl_opts = {\"retries\": 1, \"download\": False}\n",
    "ydl = youtube_dl.YoutubeDL(ydl_opts)"
   ]
  },
  {
   "cell_type": "code",
   "execution_count": 19,
   "id": "8a889349",
   "metadata": {
    "papermill": {},
    "tags": []
   },
   "outputs": [],
   "source": [
    "# ************ YOUTUBE VIDEO / PLAYLIST / USER INFO\n",
    "\n",
    "\"\"\"INPUT: Youtube video URL, playlist URL or Google API authentication\n",
    "\n",
    "    OPTIONS:\n",
    "\n",
    "    youtube_video_url = 'https://www.youtube.com/watch?v=qgaRVvAKoqQ' # URL of a single video\n",
    "\n",
    "    youtube_video_url = ['https://www.youtube.com/watch?v=qgaRVvAKoqQ', ...] # A list of video URLs\n",
    "\n",
    "    youtube_video_url='https://www.youtube.com/playlist?list=PLbZIPy20-1pN7mqjckepWF78ndb6ci_qi' # Playlist URL\n",
    "\n",
    "    youtube_video_url=['https://www.youtube.com/playlist?list=PLbZIPy20-1pN7mqjckepWF78ndb6ci_qi',...] # A list of Playlist URLs\n",
    "\n",
    "    youtube_video_url=['https://www.youtube.com/playlist?list=PLbZIPy20-1pN7mqjckepWF78ndb6ci_qi',\n",
    "                        'https://www.youtube.com/watch?v=qgaRVvAKoqQ'] # A mixed list of video & playlist URLs\n",
    "\n",
    "    youtube_video_url=\"client_secrets.json\" # A path to a JSON file with YouTube API credentials\n",
    "\n",
    "    # A dictionary file with YouTube credentials - requires \"Desktop\" OAuth type\n",
    "    youtube_video_url={\"installed\":{\n",
    "        \"client_id\":GOOGLE_CLIENT_ID,\n",
    "        \"project_id\":GOOGLE_PROJECT_ID,\n",
    "        \"auth_uri\":\"https://accounts.google.com/o/oauth2/auth\",\n",
    "        \"token_uri\":\"https://oauth2.googleapis.com/token\",\n",
    "        \"auth_provider_x509_cert_url\":\"https://www.googleapis.com/oauth2/v1/certs\",\n",
    "        \"client_secret\":GOOGLE_CLIENT_SECRET,\n",
    "        \"redirect_uris\":[\"urn:ietf:wg:oauth:2.0:oob\",\"http://localhost:\"]}}\n",
    "    \n",
    "*********************************************************************\n",
    "\"\"\"\n",
    "\n",
    "youtube_video_url = \"INPUT_AS_PER_ABOVE\""
   ]
  },
  {
   "cell_type": "markdown",
   "id": "model_cell",
   "metadata": {
    "papermill": {},
    "tags": []
   },
   "source": [
    "## Model"
   ]
  },
  {
   "cell_type": "markdown",
   "id": "selective-museum",
   "metadata": {
    "papermill": {},
    "tags": []
   },
   "source": [
    "### Process Youtube Data - Functions"
   ]
  },
  {
   "cell_type": "code",
   "execution_count": 20,
   "id": "63674de3",
   "metadata": {
    "papermill": {},
    "tags": []
   },
   "outputs": [],
   "source": [
    "# FUNCTIONS TO OBTAIN VIDEO METADATA IF YOUTUBE API LOGIN PROVIDED INSTEAD OF URLS\n",
    "\n",
    "\n",
    "def get_youtube_client(creds, api_service_name=\"youtube\", api_version=\"v3\"):\n",
    "    \"\"\"Log Into Youtube, Copied from Youtube Data API\"\"\"\n",
    "\n",
    "    # Using a JSON file with user credentials\n",
    "    if \".json\" in creds:\n",
    "        # Get credentials and create an API client\n",
    "        scopes = [\"https://www.googleapis.com/auth/youtube.readonly\"]\n",
    "        flow = google_auth_oauthlib.flow.InstalledAppFlow.from_client_secrets_file(\n",
    "            creds, scopes\n",
    "        )\n",
    "\n",
    "        creds = flow.run_console()\n",
    "\n",
    "        # from the Youtube DATA API - for user data, e.g. liked items\n",
    "        youtube_client = googleapiclient.discovery.build(\n",
    "            api_service_name, api_version, credentials=creds\n",
    "        )\n",
    "    else:\n",
    "        # Using API KEY - for public data\n",
    "        youtube_client = googleapiclient.discovery.build(\n",
    "            api_service_name, api_version, developerKey=creds\n",
    "        )\n",
    "\n",
    "    return youtube_client\n",
    "\n",
    "\n",
    "def get_liked_videos(creds, lim):\n",
    "\n",
    "    \"\"\"Grab Our Liked Videos & Create A Dictionary Of Important Song Information\n",
    "    https://developers.google.com/youtube/v3/docs/videos/list\n",
    "\n",
    "    CREDS: either json file with credentials OR developer API key\n",
    "    \"\"\"\n",
    "\n",
    "    request = (\n",
    "        get_youtube_client(creds)\n",
    "        .videos()\n",
    "        .list(part=\"snippet,contentDetails,statistics\", myRating=\"like\", maxResults=lim)\n",
    "    )\n",
    "    response = request.execute()\n",
    "\n",
    "    youtube_urls = []\n",
    "\n",
    "    # collect each video and get important information\n",
    "    for item in response[\"items\"]:\n",
    "        video_title = item[\"snippet\"][\"title\"]\n",
    "        youtube_url = \"https://www.youtube.com/watch?v={}\".format(item[\"id\"])\n",
    "        youtube_urls.append(youtube_url)\n",
    "\n",
    "    return youtube_urls"
   ]
  },
  {
   "cell_type": "code",
   "execution_count": 30,
   "id": "bb2a9129",
   "metadata": {
    "papermill": {},
    "tags": []
   },
   "outputs": [],
   "source": [
    "# FUNCTIONS FOR GETTING INFO ON YOUTUBE VIDEOS FROM PLAYLIST OR VIDEO URLS\n",
    "\n",
    "# Split Youtube playlist into individual video URLs\n",
    "def getPlaylistLinks(url, api_key, api_service_name=\"youtube\", api_version=\"v3\"):\n",
    "\n",
    "    try:\n",
    "        query = parse_qs(urlparse(url).query, keep_blank_values=True)\n",
    "        playlist_id = query[\"list\"][0]\n",
    "\n",
    "        print(f\"get all playlist items links from {playlist_id}\")\n",
    "        youtube = googleapiclient.discovery.build(\n",
    "            api_service_name, api_version, developerKey=api_key\n",
    "        )\n",
    "\n",
    "        request = youtube.playlistItems().list(\n",
    "            part=\"snippet\", playlistId=playlist_id, maxResults=50\n",
    "        )\n",
    "        response = request.execute()\n",
    "\n",
    "        playlist_items = []\n",
    "\n",
    "        while request is not None:\n",
    "            response = request.execute()\n",
    "            playlist_items += response[\"items\"]\n",
    "            request = youtube.playlistItems().list_next(request, response)\n",
    "\n",
    "        # print(f\"total: {len(playlist_items)}\")\n",
    "        playlist = [\n",
    "            f'https://www.youtube.com/watch?v={t[\"snippet\"][\"resourceId\"][\"videoId\"]}'\n",
    "            for t in playlist_items\n",
    "        ]\n",
    "    except Exception as e:\n",
    "        playlist = []\n",
    "        print(e)\n",
    "\n",
    "    return playlist\n",
    "\n",
    "\n",
    "def llower(x):\n",
    "\n",
    "    # Converts list or tuple elements or strings to lower-case\n",
    "\n",
    "    if isinstance(x, (list, tuple)):\n",
    "        x = [str(xx).lower() for xx in x]\n",
    "    elif isinstance(x, str):\n",
    "        x = str(x).lower()\n",
    "    else:\n",
    "        print(\n",
    "            \"LLOWER():Invalid input format - only use list, tuple or scalars as input\"\n",
    "        )\n",
    "\n",
    "    return x\n",
    "\n",
    "\n",
    "# Function for downloading YT video data\n",
    "def getVideoInfo(url, out_url, down=False, sleep=1):\n",
    "\n",
    "    # https://ostechnix.com/youtube-dl-tutorial-with-examples-for-beginners/\n",
    "\n",
    "    time.sleep(sleep)\n",
    "\n",
    "    try:\n",
    "        with ydl:\n",
    "            info = ydl.extract_info(url, download=down)\n",
    "\n",
    "        kz = list(info.keys())\n",
    "\n",
    "        print(info[\"title\"])\n",
    "\n",
    "        # If we have both artist and track\n",
    "        if (\"artist\" in llower(kz)) & (\"track\" in llower(kz)):\n",
    "\n",
    "            outi = {}\n",
    "            outi[\"artist\"] = info[\"artist\"].lower()\n",
    "            outi[\"track\"] = info[\"track\"].lower()\n",
    "            out_url.append(outi)\n",
    "\n",
    "        # If category = music or VEVO in decription or tag\n",
    "        elif (\n",
    "            (\"music\" in llower(info[\"categories\"]))\n",
    "            | (\"vevo\" in llower(info[\"description\"]))\n",
    "            | (\"vevo\" in llower(info[\"tags\"]))\n",
    "        ):\n",
    "\n",
    "            # Items to remove\n",
    "            rem = [\"official video\", \"remastered\", \"explicit\", \")\", \"(\", \"|\", '\"', \"'\"]\n",
    "\n",
    "            title = info[\"title\"].lower()  # title in lower-case\n",
    "\n",
    "            # Remove REM strings (above)\n",
    "            for r in range(len(rem)):\n",
    "                title = title.replace(rem[r], \"\")\n",
    "\n",
    "            # Split artist and track info\n",
    "            ordr = [0, 1]  # Order: artist, title\n",
    "            if \"-\" in title:\n",
    "                title = title.split(\"-\")\n",
    "            elif \":\" in title:\n",
    "                title = title.split(\":\")\n",
    "            elif \"by\" in title:\n",
    "                title = title.split(\"by\")\n",
    "                ordr = [1, 0]  # Order: title, artist\n",
    "\n",
    "            # If we have both artist and track\n",
    "            if isinstance(title, list):\n",
    "                title = [t.strip() for t in title]\n",
    "\n",
    "                outi = {}\n",
    "                outi[\"artist\"] = title[ordr[0]]\n",
    "                outi[\"track\"] = title[ordr[1]]\n",
    "                out_url.append(outi)\n",
    "\n",
    "    except Exception as e:\n",
    "        print(e)\n",
    "\n",
    "    return (out_url, info)"
   ]
  },
  {
   "cell_type": "code",
   "execution_count": 33,
   "id": "a1faf399",
   "metadata": {
    "papermill": {},
    "tags": []
   },
   "outputs": [],
   "source": [
    "# GET VIDEO METADATA\n",
    "def processURLs(youtube_video_url, lim, api_key, youtubeapi_lim):\n",
    "    # If a single URL, convert to list\n",
    "\n",
    "    if isinstance(youtube_video_url, (list, tuple)) == False:\n",
    "        youtube_video_url = [youtube_video_url]\n",
    "\n",
    "    # MAIN BODY\n",
    "\n",
    "    # Iterate through Youtube URLs\n",
    "\n",
    "    out = []\n",
    "    count = 1\n",
    "    all_info = []\n",
    "\n",
    "    for url in youtube_video_url:\n",
    "\n",
    "        # If number of fetched videos is less than the limit\n",
    "        if count <= lim:\n",
    "\n",
    "            print(\">>>>>>>>>>>>>>>>>>>>>\")\n",
    "            print(\"Processing URL: \", url)\n",
    "\n",
    "            # YOUTUBE CREDENTIALS IN A DICT SUPPLIED INSTEAD OF PLAYLIST OR VIDEO URL(s)\n",
    "            # > convert to a list of URLs of liked videos\n",
    "            if isinstance(url, dict):\n",
    "                # save as JSON\n",
    "                with open(\"yt_secrets.json\", \"w\") as outfile:\n",
    "                    json.dump(url, outfile)\n",
    "                url = \"yt_secrets.json\"\n",
    "\n",
    "            # YOUTUBE CREDENTIALS IN A JSON FILE SUPPLIED INSTEAD OF PLAYLIST OR VIDEO URL(s)\n",
    "            if \".json\" in url.lower():\n",
    "                # Get liked videos from the account\n",
    "                url = get_liked_videos(url, youtubeapi_lim)\n",
    "\n",
    "            out_url = []\n",
    "\n",
    "            # It is a list - split into videos and download data of individual videos\n",
    "            if playlist_str in url:\n",
    "\n",
    "                print(\"This is a Youtube playlist - extracting individual URLs!\")\n",
    "\n",
    "                # Can be a playlist or a list of videos\n",
    "\n",
    "                urls = getPlaylistLinks(url, api_key)\n",
    "\n",
    "                l = len(urls)\n",
    "\n",
    "                print(\"The Youtube playlist contains \", l, \" videos\")\n",
    "\n",
    "                for u in urls:\n",
    "                    if count <= lim:\n",
    "                        out_url, info = getVideoInfo(u, out_url, sleep=sleep)\n",
    "                        count += 1\n",
    "                        all_info.append(info)\n",
    "                    else:\n",
    "                        break\n",
    "\n",
    "                if len(out_url) > 0:\n",
    "                    print(\n",
    "                        \"The Youtube playlist contains videos with \",\n",
    "                        len(out_url),\n",
    "                        \" music tracks with known artists: \",\n",
    "                    )\n",
    "                    for lu in range(len(out_url)):\n",
    "                        print(out_url[lu][\"artist\"], \" - \", out_url[lu][\"track\"])\n",
    "                else:\n",
    "                    print(\n",
    "                        \"Sorry, the Youtube playlist does not contain any videos with music track names and / or artist info\"\n",
    "                    )\n",
    "\n",
    "            # It is a  single video\n",
    "            else:\n",
    "\n",
    "                print(\"This is a single Youtube video!\")\n",
    "\n",
    "                url_split = url.split(\"&list=\")\n",
    "\n",
    "                if isinstance(url_split, list):\n",
    "                    url = url_split[0]\n",
    "\n",
    "                out_url, info = getVideoInfo(url, out_url, sleep=sleep)\n",
    "                all_info.append(info)\n",
    "                count += 1\n",
    "\n",
    "                if len(out_url) > 0:\n",
    "                    print(\"This Youtube video contains valid artists & track data: \")\n",
    "                    for lu in range(len(out_url)):\n",
    "                        print(out_url[lu][\"artist\"], \" - \", out_url[lu][\"track\"])\n",
    "                else:\n",
    "                    print(\n",
    "                        \"Sorry, this Youtube video does not contain music track name and / or known artist info\"\n",
    "                    )\n",
    "\n",
    "            out = out + out_url\n",
    "\n",
    "        # Number of videos is larger than the limit\n",
    "        else:\n",
    "            break\n",
    "\n",
    "    return (out, all_info)"
   ]
  },
  {
   "cell_type": "code",
   "execution_count": 40,
   "id": "3fc39957",
   "metadata": {
    "papermill": {},
    "tags": []
   },
   "outputs": [],
   "source": [
    "# Helper function for address already in use error\n",
    "def freePort(prt):\n",
    "    try:\n",
    "        command = \"netstat -ano | findstr \" + str(prt)\n",
    "        c = Popen(command, shell=True, stdout=PIPE, stderr=PIPE)\n",
    "        stdout, stderr = c.communicate()\n",
    "        if len(stdout) > 0:\n",
    "            pid = int(stdout.decode().strip().split(\" \")[-1])\n",
    "            os.kill(pid, SIGTERM)\n",
    "            # os.kill(pid,SIGKILL)\n",
    "    except Exception as e:\n",
    "        print(e)\n",
    "        # Change port no\n",
    "        prt += 1\n",
    "\n",
    "    return prt\n",
    "\n",
    "\n",
    "# Function for findin the track on Spotify - public scope\n",
    "def findSpotifyTrack(out, client_id, client_secret, spotify_limit):\n",
    "\n",
    "    # Log into Spotify API - for accessing public data\n",
    "    client_credentials_manager = SpotifyClientCredentials(\n",
    "        client_id=client_id, client_secret=client_secret\n",
    "    )\n",
    "    sp = spotipy.Spotify(client_credentials_manager=client_credentials_manager)\n",
    "\n",
    "    # FIND TRACKS\n",
    "    items = []\n",
    "    spotify_ids = []\n",
    "\n",
    "    # Search for tracks\n",
    "    for t in out:\n",
    "\n",
    "        query = \"artist:\" + t[\"artist\"] + \" track:\" + t[\"track\"]\n",
    "        track_id = sp.search(q=query, type=\"track\", limit=spotify_limit)\n",
    "\n",
    "        l_out = len(track_id[\"tracks\"][\"items\"])\n",
    "\n",
    "        if l_out > 0:\n",
    "            for ls in range(l_out):\n",
    "                artist = track_id[\"tracks\"][\"items\"][ls][\"artists\"][0][\"name\"]\n",
    "                track = track_id[\"tracks\"][\"items\"][ls][\"name\"]\n",
    "                spotify_id = track_id[\"tracks\"][\"items\"][ls][\"id\"]\n",
    "\n",
    "                song = artist + \" - \" + track\n",
    "                items.append(song)\n",
    "\n",
    "                spotify_id = \"spotify:track:\" + spotify_id\n",
    "                spotify_ids.append(spotify_id)\n",
    "\n",
    "    return (spotify_ids, items)\n",
    "\n",
    "\n",
    "# Function for adding a track to user playlist - user / private scope\n",
    "def addSpotifyTrack(\n",
    "    spotify_ids,\n",
    "    client_id,\n",
    "    client_secret,\n",
    "    redirect_uri_port,\n",
    "    username,\n",
    "    playlist_id,\n",
    "    retry=3,\n",
    "):\n",
    "\n",
    "    spotify_idsF = []\n",
    "    retry_count = 1\n",
    "\n",
    "    while retry_count <= retry:\n",
    "\n",
    "        redirect_uri = \"http://localhost:\" + str(redirect_uri_port)\n",
    "\n",
    "        # Spotify user authorization - for accessing user data\n",
    "        creds = SpotifyOAuth(\n",
    "            scope=scope,\n",
    "            client_id=client_id,\n",
    "            client_secret=client_secret,\n",
    "            redirect_uri=redirect_uri,\n",
    "        )\n",
    "        sp2 = spotipy.Spotify(auth_manager=creds)\n",
    "\n",
    "        # ADD TRACKS TO THE PLAYLIST\n",
    "        try:\n",
    "            sp2.user_playlist_add_tracks(\n",
    "                username, playlist_id=playlist_id, tracks=spotify_ids\n",
    "            )\n",
    "            spotify_idsF = spotify_ids\n",
    "\n",
    "            retry_count = retry + 1\n",
    "        except Exception as e:\n",
    "            print(e)\n",
    "            err = str(e)\n",
    "            if \"address already in use\" in err.lower():\n",
    "                # If port not available, free it or change port no\n",
    "                redirect_uri_port = freePort(redirect_uri_port)\n",
    "                retry_count += 1\n",
    "\n",
    "            else:\n",
    "                # Other type of error - terminate\n",
    "                retry_count = retry + 1\n",
    "\n",
    "    return spotify_idsF"
   ]
  },
  {
   "cell_type": "markdown",
   "id": "431c2ebf",
   "metadata": {
    "papermill": {},
    "tags": []
   },
   "source": [
    "### Process Youtube Data - Execute"
   ]
  },
  {
   "cell_type": "code",
   "execution_count": 35,
   "id": "bfbd47a7",
   "metadata": {
    "papermill": {},
    "tags": []
   },
   "outputs": [],
   "source": [
    "# **** OBTAIN YOUTUBE VIDEO DETAILS FROM VIDEO OR PLAYLIST URLS\n",
    "out, all_info = processURLs(\n",
    "    youtube_video_url, youtubedl_lim, GOOGLE_API_KEY, youtubeapi_lim\n",
    ")\n",
    "\n",
    "# Saving all track info for reference\n",
    "with open(\"all_track_info.json\", \"w\") as outfile:\n",
    "    json.dump(all_info, outfile)\n",
    "\n",
    "print(\"***********************\")\n",
    "print(\n",
    "    \"Youtube data processing completed - total number of tracks with interpreter info found: \",\n",
    "    len(out),\n",
    ")\n",
    "\n",
    "for i in range(len(out)):\n",
    "    print(out[i][\"artist\"] + \" - \" + out[i][\"track\"])"
   ]
  },
  {
   "cell_type": "markdown",
   "id": "horizontal-default",
   "metadata": {
    "papermill": {},
    "tags": []
   },
   "source": [
    "### Find tracks on Spotify & add to the playlist"
   ]
  },
  {
   "cell_type": "code",
   "execution_count": 41,
   "id": "genetic-campus",
   "metadata": {
    "papermill": {},
    "tags": []
   },
   "outputs": [],
   "source": [
    "# Find tracks in spotify\n",
    "spotify_ids, items = findSpotifyTrack(\n",
    "    out, SPOTIFY_CLIENT_ID, SPOTIFY_CLIENT_SECRET, spotify_limit\n",
    ")\n",
    "\n",
    "# Add tracks to Spotify playlist - user / private scope\n",
    "if len(spotify_ids) > 0:\n",
    "    spotify_idsF = addSpotifyTrack(\n",
    "        spotify_ids,\n",
    "        SPOTIFY_CLIENT_ID,\n",
    "        SPOTIFY_CLIENT_SECRET,\n",
    "        redir_uri_port,\n",
    "        SPOTIFY_USERNAME,\n",
    "        SPOTIFY_PLAY_LIST_ID,\n",
    "    )\n",
    "else:\n",
    "    spotify_idsF = []"
   ]
  },
  {
   "cell_type": "markdown",
   "id": "output_cell",
   "metadata": {
    "papermill": {},
    "tags": []
   },
   "source": [
    "## Output"
   ]
  },
  {
   "cell_type": "markdown",
   "id": "wrong-houston",
   "metadata": {
    "papermill": {},
    "tags": []
   },
   "source": [
    "### Return message"
   ]
  },
  {
   "cell_type": "code",
   "execution_count": 42,
   "id": "internal-finder",
   "metadata": {
    "papermill": {},
    "tags": []
   },
   "outputs": [],
   "source": [
    "if len(spotify_idsF) == 0:\n",
    "    print(\"Completed: No tracks found & added to Spotify playlist, sorry!\")\n",
    "else:\n",
    "    print(\"Completed: \", len(spotify_idsF), \" tracks added to Spotify playlist: \")\n",
    "    print(\"------------------------\")\n",
    "    for i in items:\n",
    "        print(i + \"\\n\")"
   ]
  }
 ],
 "metadata": {
  "kernelspec": {
   "display_name": "Python 3",
   "language": "python",
   "name": "python3"
  },
  "language_info": {
   "codemirror_mode": {
    "name": "ipython",
    "version": 3
   },
   "file_extension": ".py",
   "mimetype": "text/x-python",
   "name": "python",
   "nbconvert_exporter": "python",
   "pygments_lexer": "ipython3",
   "version": "3.9.6"
  },
  "papermill": {
   "default_parameters": {},
   "environment_variables": {},
   "parameters": {},
   "version": "2.3.3"
  },
  "widgets": {
   "application/vnd.jupyter.widget-state+json": {
    "state": {},
    "version_major": 2,
    "version_minor": 0
   }
  }
 },
 "nbformat": 4,
 "nbformat_minor": 5
}