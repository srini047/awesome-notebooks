{
 "cells": [
  {
   "cell_type": "markdown",
   "id": "departmental-bidder",
   "metadata": {
    "execution": {
     "iopub.execute_input": "2021-02-23T14:22:16.610471Z",
     "iopub.status.busy": "2021-02-23T14:22:16.610129Z",
     "iopub.status.idle": "2021-02-23T14:22:16.627784Z",
     "shell.execute_reply": "2021-02-23T14:22:16.626866Z",
     "shell.execute_reply.started": "2021-02-23T14:22:16.610384Z"
    },
    "papermill": {},
    "tags": []
   },
   "source": [
    "<img width=\"10%\" alt=\"Naas\" src=\"https://landen.imgix.net/jtci2pxwjczr/assets/5ice39g4.png?w=160\"/>"
   ]
  },
  {
   "cell_type": "markdown",
   "id": "quarterly-python",
   "metadata": {
    "papermill": {},
    "tags": []
   },
   "source": [
    "# YouTube - Extract and summarize transcript\n",
    "<a href=\"https://app.naas.ai/user-redirect/naas/downloader?url=https://raw.githubusercontent.com/jupyter-naas/awesome-notebooks/master/YouTube/YouTube_Extract_and_summarize_transcript.ipynb\" target=\"_parent\"><img src=\"https://naasai-public.s3.eu-west-3.amazonaws.com/Open_in_Naas_Lab.svg\"/></a><br><br><a href=\"https://github.com/jupyter-naas/awesome-notebooks/issues/new?assignees=&labels=&template=template-request.md&title=Tool+-+Action+of+the+notebook+\">Template request</a> | <a href=\"https://github.com/jupyter-naas/awesome-notebooks/issues/new?assignees=&labels=bug&template=bug_report.md&title=YouTube+-+Extract+and+summarize+transcript:+Error+short+description\">Bug report</a> | <a href=\"https://app.naas.ai/user-redirect/naas/downloader?url=https://raw.githubusercontent.com/jupyter-naas/awesome-notebooks/master/Naas/Naas_Start_data_product.ipynb\" target=\"_parent\">Generate Data Product</a>"
   ]
  },
  {
   "cell_type": "markdown",
   "id": "vertical-inquiry",
   "metadata": {
    "papermill": {},
    "tags": []
   },
   "source": [
    "**Tags:** #youtube #transcript #video #summarize #content #snippet #dataframe"
   ]
  },
  {
   "cell_type": "markdown",
   "id": "ec2c1705-12ad-4337-aa74-1012868bbd66",
   "metadata": {
    "papermill": {},
    "tags": []
   },
   "source": [
    "**Author:** [Florent Ravenel](https://www.linkedin.com/in/ACoAABCNSioBW3YZHc2lBHVG0E_TXYWitQkmwog/)"
   ]
  },
  {
   "cell_type": "markdown",
   "id": "naas-description",
   "metadata": {
    "papermill": {},
    "tags": [
     "description"
    ]
   },
   "source": [
    "**Description:** This notebook provides a method to extract and summarize the transcript of a YouTube video."
   ]
  },
  {
   "cell_type": "markdown",
   "id": "objective-undergraduate",
   "metadata": {
    "papermill": {},
    "tags": []
   },
   "source": [
    "## Input"
   ]
  },
  {
   "cell_type": "markdown",
   "id": "e3145708-4cf0-46b4-9d28-1b7286620eee",
   "metadata": {
    "papermill": {},
    "tags": []
   },
   "source": [
    "### Install packages"
   ]
  },
  {
   "cell_type": "code",
   "execution_count": 1,
   "id": "cathedral-insider",
   "metadata": {
    "papermill": {},
    "tags": []
   },
   "outputs": [],
   "source": [
    "!pip install youtube_transcript_api"
   ]
  },
  {
   "cell_type": "markdown",
   "id": "located-generic",
   "metadata": {
    "papermill": {},
    "tags": []
   },
   "source": [
    "### Import library"
   ]
  },
  {
   "cell_type": "code",
   "execution_count": 2,
   "id": "outstanding-retirement",
   "metadata": {
    "papermill": {},
    "tags": []
   },
   "outputs": [],
   "source": [
    "from youtube_transcript_api import YouTubeTranscriptApi\n",
    "from naas_drivers import huggingface"
   ]
  },
  {
   "cell_type": "markdown",
   "id": "enabling-fossil",
   "metadata": {
    "papermill": {},
    "tags": []
   },
   "source": [
    "### Variables"
   ]
  },
  {
   "cell_type": "code",
   "execution_count": 3,
   "id": "conditional-liberty",
   "metadata": {
    "papermill": {},
    "tags": []
   },
   "outputs": [],
   "source": [
    "video_id = \"I6XbLIRa0v0\"\n",
    "file_name = \"What on earth is data science?\""
   ]
  },
  {
   "cell_type": "markdown",
   "id": "verbal-credit",
   "metadata": {
    "papermill": {},
    "tags": []
   },
   "source": [
    "## Model"
   ]
  },
  {
   "cell_type": "markdown",
   "id": "overall-promotion",
   "metadata": {
    "papermill": {},
    "tags": []
   },
   "source": [
    "### Extract the transcript in JSON"
   ]
  },
  {
   "cell_type": "code",
   "execution_count": 4,
   "id": "constant-moderator",
   "metadata": {
    "papermill": {},
    "tags": []
   },
   "outputs": [],
   "source": [
    "json = YouTubeTranscriptApi.get_transcript(video_id)"
   ]
  },
  {
   "cell_type": "markdown",
   "id": "similar-dollar",
   "metadata": {
    "papermill": {},
    "tags": []
   },
   "source": [
    "### Parse JSON in text string"
   ]
  },
  {
   "cell_type": "code",
   "execution_count": 5,
   "id": "bound-defensive",
   "metadata": {
    "papermill": {},
    "tags": []
   },
   "outputs": [],
   "source": [
    "para = \"\"\n",
    "for i in json:\n",
    "    para += i[\"text\"]\n",
    "    para += \" \"\n",
    "para"
   ]
  },
  {
   "cell_type": "code",
   "execution_count": 6,
   "id": "7e34b067-5e1e-4a1f-afb6-d2450dd67e1c",
   "metadata": {
    "papermill": {},
    "tags": []
   },
   "outputs": [],
   "source": [
    "text = huggingface.get(\"summarization\", model=\"t5-small\", tokenizer=\"t5-small\")(para)"
   ]
  },
  {
   "cell_type": "markdown",
   "id": "spatial-queens",
   "metadata": {
    "execution": {
     "iopub.execute_input": "2021-07-02T23:32:10.789097Z",
     "iopub.status.busy": "2021-07-02T23:32:10.788829Z",
     "iopub.status.idle": "2021-07-02T23:32:10.796900Z",
     "shell.execute_reply": "2021-07-02T23:32:10.796358Z",
     "shell.execute_reply.started": "2021-07-02T23:32:10.789033Z"
    },
    "papermill": {},
    "tags": []
   },
   "source": [
    "## Output"
   ]
  },
  {
   "cell_type": "markdown",
   "id": "preliminary-walter",
   "metadata": {
    "papermill": {},
    "tags": []
   },
   "source": [
    "### Display results"
   ]
  },
  {
   "cell_type": "code",
   "execution_count": 7,
   "id": "unknown-testimony",
   "metadata": {
    "papermill": {},
    "tags": []
   },
   "outputs": [],
   "source": [
    "text"
   ]
  }
 ],
 "metadata": {
  "kernelspec": {
   "display_name": "Python 3",
   "language": "python",
   "name": "python3"
  },
  "language_info": {
   "codemirror_mode": {
    "name": "ipython",
    "version": 3
   },
   "file_extension": ".py",
   "mimetype": "text/x-python",
   "name": "python",
   "nbconvert_exporter": "python",
   "pygments_lexer": "ipython3",
   "version": "3.9.6"
  },
  "naas": {
   "notebook_id": "da5c2903e57893dad62f8502805f51e26481cd2488d6c8dbd122e2db4b23f38e",
   "notebook_path": "YouTube/YouTube_Extract_and_summarize_transcript.ipynb"
  },
  "papermill": {
   "default_parameters": {},
   "environment_variables": {},
   "parameters": {},
   "version": "2.3.3"
  },
  "widgets": {
   "application/vnd.jupyter.widget-state+json": {
    "state": {},
    "version_major": 2,
    "version_minor": 0
   }
  }
 },
 "nbformat": 4,
 "nbformat_minor": 5
}