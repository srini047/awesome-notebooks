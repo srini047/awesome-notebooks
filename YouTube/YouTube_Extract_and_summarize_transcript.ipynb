{
 "cells": [
  {
   "cell_type": "markdown",
   "id": "departmental-bidder",
   "metadata": {
    "execution": {
     "iopub.execute_input": "2021-02-23T14:22:16.610471Z",
     "iopub.status.busy": "2021-02-23T14:22:16.610129Z",
     "iopub.status.idle": "2021-02-23T14:22:16.627784Z",
     "shell.execute_reply": "2021-02-23T14:22:16.626866Z",
     "shell.execute_reply.started": "2021-02-23T14:22:16.610384Z"
    },
    "papermill": {},
    "tags": []
   },
   "source": [
    "<img width=\"10%\" alt=\"Naas\" src=\"https://landen.imgix.net/jtci2pxwjczr/assets/5ice39g4.png?w=160\"/>"
   ]
  },
  {
   "cell_type": "markdown",
   "id": "quarterly-python",
   "metadata": {
    "papermill": {},
    "tags": []
   },
   "source": [
    "# YouTube - Extract and summarize transcript\n",
    "<a href=\"https://app.naas.ai/user-redirect/naas/downloader?url=https://raw.githubusercontent.com/jupyter-naas/awesome-notebooks/master/YouTube/YouTube_Extract_and_summarize_transcript.ipynb\" target=\"_parent\"><img src=\"https://naasai-public.s3.eu-west-3.amazonaws.com/open_in_naas.svg\"/></a><br><br><a href=\"https://github.com/jupyter-naas/awesome-notebooks/issues/new?assignees=&labels=&template=template-request.md&title=Tool+-+Action+of+the+notebook+\">Template request</a> | <a href=\"https://github.com/jupyter-naas/awesome-notebooks/issues/new?assignees=&labels=bug&template=bug_report.md&title=YouTube+-+Extract+and+summarize+transcript:+Error+short+description\">Bug report</a>"
   ]
  },
  {
   "cell_type": "markdown",
   "id": "vertical-inquiry",
   "metadata": {
    "papermill": {},
    "tags": []
   },
   "source": [
    "**Tags:** #youtube #transcript #video #summarize #content #snippet #dataframe"
   ]
  },
  {
   "cell_type": "markdown",
   "id": "ec2c1705-12ad-4337-aa74-1012868bbd66",
   "metadata": {
    "papermill": {},
    "tags": []
   },
   "source": [
    "**Author:** [Florent Ravenel](https://www.linkedin.com/in/ACoAABCNSioBW3YZHc2lBHVG0E_TXYWitQkmwog/)"
   ]
  },
  {
   "cell_type": "markdown",
   "id": "naas-description",
   "metadata": {
    "papermill": {},
    "tags": [
     "description"
    ]
   },
   "source": [
    "**Description:** This notebook provides a method to extract and summarize the transcript of a YouTube video."
   ]
  },
  {
   "cell_type": "markdown",
   "id": "objective-undergraduate",
   "metadata": {
    "papermill": {},
    "tags": []
   },
   "source": [
    "## Input"
   ]
  },
  {
   "cell_type": "markdown",
   "id": "e3145708-4cf0-46b4-9d28-1b7286620eee",
   "metadata": {
    "papermill": {},
    "tags": []
   },
   "source": [
    "### Install packages"
   ]
  },
  {
   "cell_type": "code",
   "execution_count": 1,
   "id": "cathedral-insider",
   "metadata": {
    "execution": {
     "iopub.execute_input": "2021-10-15T16:17:52.420244Z",
     "iopub.status.busy": "2021-10-15T16:17:52.419815Z",
     "iopub.status.idle": "2021-10-15T16:17:55.611533Z",
     "shell.execute_reply": "2021-10-15T16:17:55.610741Z",
     "shell.execute_reply.started": "2021-10-15T16:17:52.420169Z"
    },
    "papermill": {},
    "tags": []
   },
   "outputs": [],
   "source": [
    "!pip install youtube_transcript_api"
   ]
  },
  {
   "cell_type": "markdown",
   "id": "located-generic",
   "metadata": {
    "papermill": {},
    "tags": []
   },
   "source": [
    "### Import library"
   ]
  },
  {
   "cell_type": "code",
   "execution_count": 2,
   "id": "outstanding-retirement",
   "metadata": {
    "execution": {
     "iopub.execute_input": "2021-10-15T16:17:55.613158Z",
     "iopub.status.busy": "2021-10-15T16:17:55.612852Z",
     "iopub.status.idle": "2021-10-15T16:17:59.972167Z",
     "shell.execute_reply": "2021-10-15T16:17:59.971538Z",
     "shell.execute_reply.started": "2021-10-15T16:17:55.613106Z"
    },
    "papermill": {},
    "tags": []
   },
   "outputs": [],
   "source": [
    "from youtube_transcript_api import YouTubeTranscriptApi\n",
    "from naas_drivers import huggingface"
   ]
  },
  {
   "cell_type": "markdown",
   "id": "enabling-fossil",
   "metadata": {
    "papermill": {},
    "tags": []
   },
   "source": [
    "### Variables"
   ]
  },
  {
   "cell_type": "code",
   "execution_count": 3,
   "id": "conditional-liberty",
   "metadata": {
    "execution": {
     "iopub.execute_input": "2021-10-15T16:17:59.975555Z",
     "iopub.status.busy": "2021-10-15T16:17:59.975375Z",
     "iopub.status.idle": "2021-10-15T16:17:59.979974Z",
     "shell.execute_reply": "2021-10-15T16:17:59.979495Z",
     "shell.execute_reply.started": "2021-10-15T16:17:59.975534Z"
    },
    "papermill": {},
    "tags": []
   },
   "outputs": [],
   "source": [
    "video_id = \"I6XbLIRa0v0\"\n",
    "file_name = \"What on earth is data science?\""
   ]
  },
  {
   "cell_type": "markdown",
   "id": "verbal-credit",
   "metadata": {
    "papermill": {},
    "tags": []
   },
   "source": [
    "## Model"
   ]
  },
  {
   "cell_type": "markdown",
   "id": "overall-promotion",
   "metadata": {
    "papermill": {},
    "tags": []
   },
   "source": [
    "### Extract the transcript in JSON"
   ]
  },
  {
   "cell_type": "code",
   "execution_count": 4,
   "id": "constant-moderator",
   "metadata": {
    "execution": {
     "iopub.execute_input": "2021-10-15T16:17:59.982227Z",
     "iopub.status.busy": "2021-10-15T16:17:59.982028Z",
     "iopub.status.idle": "2021-10-15T16:18:00.510324Z",
     "shell.execute_reply": "2021-10-15T16:18:00.509687Z",
     "shell.execute_reply.started": "2021-10-15T16:17:59.982207Z"
    },
    "papermill": {},
    "tags": []
   },
   "outputs": [],
   "source": [
    "json = YouTubeTranscriptApi.get_transcript(video_id)"
   ]
  },
  {
   "cell_type": "markdown",
   "id": "similar-dollar",
   "metadata": {
    "papermill": {},
    "tags": []
   },
   "source": [
    "### Parse JSON in text string"
   ]
  },
  {
   "cell_type": "code",
   "execution_count": 5,
   "id": "bound-defensive",
   "metadata": {
    "execution": {
     "iopub.execute_input": "2021-10-15T16:18:00.511504Z",
     "iopub.status.busy": "2021-10-15T16:18:00.511292Z",
     "iopub.status.idle": "2021-10-15T16:18:00.520243Z",
     "shell.execute_reply": "2021-10-15T16:18:00.519667Z",
     "shell.execute_reply.started": "2021-10-15T16:18:00.511477Z"
    },
    "papermill": {},
    "tags": []
   },
   "outputs": [],
   "source": [
    "para = \"\"\n",
    "for i in json:\n",
    "    para += i[\"text\"]\n",
    "    para += \" \"\n",
    "para"
   ]
  },
  {
   "cell_type": "code",
   "execution_count": 6,
   "id": "7e34b067-5e1e-4a1f-afb6-d2450dd67e1c",
   "metadata": {
    "execution": {
     "iopub.execute_input": "2021-10-15T16:18:00.521490Z",
     "iopub.status.busy": "2021-10-15T16:18:00.521146Z",
     "iopub.status.idle": "2021-10-15T16:18:19.727107Z",
     "shell.execute_reply": "2021-10-15T16:18:19.726433Z",
     "shell.execute_reply.started": "2021-10-15T16:18:00.521462Z"
    },
    "papermill": {},
    "tags": []
   },
   "outputs": [],
   "source": [
    "text = huggingface.get(\"summarization\", model=\"t5-small\", tokenizer=\"t5-small\")(para)"
   ]
  },
  {
   "cell_type": "markdown",
   "id": "spatial-queens",
   "metadata": {
    "execution": {
     "iopub.execute_input": "2021-07-02T23:32:10.789097Z",
     "iopub.status.busy": "2021-07-02T23:32:10.788829Z",
     "iopub.status.idle": "2021-07-02T23:32:10.796900Z",
     "shell.execute_reply": "2021-07-02T23:32:10.796358Z",
     "shell.execute_reply.started": "2021-07-02T23:32:10.789033Z"
    },
    "papermill": {},
    "tags": []
   },
   "source": [
    "## Output"
   ]
  },
  {
   "cell_type": "markdown",
   "id": "preliminary-walter",
   "metadata": {
    "papermill": {},
    "tags": []
   },
   "source": [
    "### Display results"
   ]
  },
  {
   "cell_type": "code",
   "execution_count": 7,
   "id": "unknown-testimony",
   "metadata": {
    "execution": {
     "iopub.execute_input": "2021-10-15T16:18:19.728422Z",
     "iopub.status.busy": "2021-10-15T16:18:19.728196Z",
     "iopub.status.idle": "2021-10-15T16:18:19.743311Z",
     "shell.execute_reply": "2021-10-15T16:18:19.741979Z",
     "shell.execute_reply.started": "2021-10-15T16:18:19.728394Z"
    },
    "papermill": {},
    "tags": []
   },
   "outputs": [],
   "source": [
    "text"
   ]
  }
 ],
 "metadata": {
  "kernelspec": {
   "display_name": "Python 3",
   "language": "python",
   "name": "python3"
  },
  "language_info": {
   "codemirror_mode": {
    "name": "ipython",
    "version": 3
   },
   "file_extension": ".py",
   "mimetype": "text/x-python",
   "name": "python",
   "nbconvert_exporter": "python",
   "pygments_lexer": "ipython3",
   "version": "3.9.6"
  },
  "naas": {
   "notebook_id": "83ddfc33-f416-48c9-bc7a-61499a7448a2",
   "notebook_path": "YouTube/YouTube_Extract_and_summarize_transcript.ipynb"
  },
  "papermill": {
   "default_parameters": {},
   "environment_variables": {},
   "parameters": {},
   "version": "2.3.3"
  },
  "widgets": {
   "application/vnd.jupyter.widget-state+json": {
    "state": {},
    "version_major": 2,
    "version_minor": 0
   }
  }
 },
 "nbformat": 4,
 "nbformat_minor": 5
}