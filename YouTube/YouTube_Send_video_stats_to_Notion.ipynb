{
 "cells": [
  {
   "cell_type": "markdown",
   "id": "departmental-bidder",
   "metadata": {
    "execution": {
     "iopub.execute_input": "2021-02-23T14:22:16.610471Z",
     "iopub.status.busy": "2021-02-23T14:22:16.610129Z",
     "iopub.status.idle": "2021-02-23T14:22:16.627784Z",
     "shell.execute_reply": "2021-02-23T14:22:16.626866Z",
     "shell.execute_reply.started": "2021-02-23T14:22:16.610384Z"
    },
    "papermill": {},
    "tags": []
   },
   "source": [
    "<img width=\"10%\" alt=\"Naas\" src=\"https://landen.imgix.net/jtci2pxwjczr/assets/5ice39g4.png?w=160\"/>"
   ]
  },
  {
   "cell_type": "markdown",
   "id": "quarterly-python",
   "metadata": {
    "papermill": {},
    "tags": []
   },
   "source": [
    "# YouTube - Send video stats to Notion\n",
    "<a href=\"https://app.naas.ai/user-redirect/naas/downloader?url=https://raw.githubusercontent.com/jupyter-naas/awesome-notebooks/master/YouTube/YouTube_Send_video_stats_to_Notion.ipynb\" target=\"_parent\"><img src=\"https://naasai-public.s3.eu-west-3.amazonaws.com/open_in_naas.svg\"/></a><br><br><a href=\"https://github.com/jupyter-naas/awesome-notebooks/issues/new?assignees=&labels=&template=template-request.md&title=Tool+-+Action+of+the+notebook+\">Template request</a> | <a href=\"https://github.com/jupyter-naas/awesome-notebooks/issues/new?assignees=&labels=bug&template=bug_report.md&title=YouTube+-+Send+video+stats+to+Notion:+Error+short+description\">Bug report</a>"
   ]
  },
  {
   "cell_type": "markdown",
   "id": "vertical-inquiry",
   "metadata": {
    "papermill": {},
    "tags": []
   },
   "source": [
    "**Tags:** #youtube #video #statistics #naas_drivers #content #snippet #dataframe"
   ]
  },
  {
   "cell_type": "markdown",
   "id": "0555d1a9-9ffd-45e9-bf4e-5f3ee195d49e",
   "metadata": {
    "papermill": {},
    "tags": []
   },
   "source": [
    "**Author:** [Maxime Jublou](https://www.linkedin.com/in/maximejublou)"
   ]
  },
  {
   "cell_type": "markdown",
   "id": "naas-description",
   "metadata": {
    "papermill": {},
    "tags": [
     "description"
    ]
   },
   "source": [
    "**Description:** This notebook allows you to easily track and analyze your YouTube video performance by automatically sending video stats to Notion."
   ]
  },
  {
   "cell_type": "markdown",
   "id": "objective-undergraduate",
   "metadata": {
    "papermill": {},
    "tags": []
   },
   "source": [
    "## Input"
   ]
  },
  {
   "cell_type": "markdown",
   "id": "located-generic",
   "metadata": {
    "papermill": {},
    "tags": []
   },
   "source": [
    "### Import library"
   ]
  },
  {
   "cell_type": "code",
   "execution_count": 1,
   "id": "outstanding-retirement",
   "metadata": {
    "execution": {
     "iopub.execute_input": "2022-06-07T16:02:38.436451Z",
     "iopub.status.busy": "2022-06-07T16:02:38.436155Z",
     "iopub.status.idle": "2022-06-07T16:02:47.072509Z",
     "shell.execute_reply": "2022-06-07T16:02:47.071505Z",
     "shell.execute_reply.started": "2022-06-07T16:02:38.436367Z"
    },
    "papermill": {},
    "tags": []
   },
   "outputs": [],
   "source": [
    "import naas\n",
    "from naas_drivers import youtube, notion\n",
    "import pandas as pd\n",
    "import pydash\n",
    "import re\n",
    "import regex\n",
    "try:\n",
    "    import emoji\n",
    "except:\n",
    "    ! pip install --user emoji\n",
    "    import emoji"
   ]
  },
  {
   "cell_type": "markdown",
   "id": "enabling-fossil",
   "metadata": {
    "papermill": {},
    "tags": []
   },
   "source": [
    "### Variables\n",
    "\n",
    "To know how to generate a YouTube api key you can [watch this video](https://www.youtube.com/watch?v=ltdJOX_DVtE).\n",
    "\n",
    "<a href='https://docs.naas.ai/drivers/notion'>How to get your Notion integration token ?</a>"
   ]
  },
  {
   "cell_type": "code",
   "execution_count": 2,
   "id": "conditional-liberty",
   "metadata": {
    "execution": {
     "iopub.execute_input": "2022-06-07T16:02:47.074045Z",
     "iopub.status.busy": "2022-06-07T16:02:47.073821Z",
     "iopub.status.idle": "2022-06-07T16:02:47.276980Z",
     "shell.execute_reply": "2022-06-07T16:02:47.276223Z",
     "shell.execute_reply.started": "2022-06-07T16:02:47.074020Z"
    },
    "papermill": {},
    "tags": []
   },
   "outputs": [],
   "source": [
    "# Youtube api Key\n",
    "YOUTUBE_API_KEY = naas.secret.get(\"YOUTUBE_API_KEY\") or \"YourYoutubeApiKey\"\n",
    "\n",
    "# Channel ID\n",
    "channel_url = \"https://www.youtube.com/channel/UCKKG5hzjXXU_rRdHHWQ8JHQ\"\n",
    "\n",
    "# Notion token\n",
    "NOTION_TOKEN = naas.secret.get(\"NOTION_TOKEN\") or \"YourNotionToken\"\n",
    "\n",
    "# Notion database url\n",
    "notion_database_url = \"https://www.notion.so/naas-official/ed622cae89e045249c464a08dc818876?v=989e444993d3421c8712e6e6b2d60810\""
   ]
  },
  {
   "cell_type": "markdown",
   "id": "cd1f4a7e-8ab5-48fc-a7f4-a8a2aa372818",
   "metadata": {
    "papermill": {},
    "tags": []
   },
   "source": [
    "### Scheduling\n",
    "\n",
    "Lets run this notebook every hour."
   ]
  },
  {
   "cell_type": "code",
   "execution_count": 3,
   "id": "d4ba9ccd-d03f-4820-a505-ae60675c8baa",
   "metadata": {
    "execution": {
     "iopub.execute_input": "2022-06-07T16:02:47.278746Z",
     "iopub.status.busy": "2022-06-07T16:02:47.278434Z",
     "iopub.status.idle": "2022-06-07T16:02:47.282989Z",
     "shell.execute_reply": "2022-06-07T16:02:47.282042Z",
     "shell.execute_reply.started": "2022-06-07T16:02:47.278711Z"
    },
    "papermill": {},
    "tags": []
   },
   "outputs": [],
   "source": [
    "# naas.scheduler.add(cron=\"0 * * * *\")"
   ]
  },
  {
   "cell_type": "markdown",
   "id": "verbal-credit",
   "metadata": {
    "papermill": {},
    "tags": []
   },
   "source": [
    "## Model"
   ]
  },
  {
   "cell_type": "markdown",
   "id": "d4cdb714-aaf3-43c1-8f79-561e3612c1f7",
   "metadata": {
    "papermill": {},
    "tags": []
   },
   "source": [
    "### Connect YouTube driver"
   ]
  },
  {
   "cell_type": "code",
   "execution_count": 4,
   "id": "f525e7d1-cfd9-48d8-9b72-ae2dac887364",
   "metadata": {
    "execution": {
     "iopub.execute_input": "2022-06-07T16:02:47.284438Z",
     "iopub.status.busy": "2022-06-07T16:02:47.284153Z",
     "iopub.status.idle": "2022-06-07T16:02:47.370945Z",
     "shell.execute_reply": "2022-06-07T16:02:47.370088Z",
     "shell.execute_reply.started": "2022-06-07T16:02:47.284412Z"
    },
    "papermill": {},
    "tags": []
   },
   "outputs": [],
   "source": [
    "youtube.connect(YOUTUBE_API_KEY)"
   ]
  },
  {
   "cell_type": "markdown",
   "id": "ef1dbd02-222b-418b-87bb-a1c85661e4d6",
   "metadata": {
    "execution": {
     "iopub.execute_input": "2022-06-07T13:24:02.405794Z",
     "iopub.status.busy": "2022-06-07T13:24:02.405462Z",
     "iopub.status.idle": "2022-06-07T13:24:02.409642Z",
     "shell.execute_reply": "2022-06-07T13:24:02.408600Z",
     "shell.execute_reply.started": "2022-06-07T13:24:02.405761Z"
    },
    "papermill": {},
    "tags": []
   },
   "source": [
    "### Get all uploads"
   ]
  },
  {
   "cell_type": "code",
   "execution_count": 5,
   "id": "d8ced6be-053a-4625-ad9f-ff9c696b2db3",
   "metadata": {
    "execution": {
     "iopub.execute_input": "2022-06-07T16:02:47.372213Z",
     "iopub.status.busy": "2022-06-07T16:02:47.371927Z",
     "iopub.status.idle": "2022-06-07T16:02:47.680637Z",
     "shell.execute_reply": "2022-06-07T16:02:47.679508Z",
     "shell.execute_reply.started": "2022-06-07T16:02:47.372174Z"
    },
    "papermill": {},
    "tags": []
   },
   "outputs": [],
   "source": [
    "df_uploads = youtube.channel.get_uploads(channel_url=channel_url)\n",
    "df_uploads"
   ]
  },
  {
   "cell_type": "markdown",
   "id": "7373a77a-4922-4eb8-9858-c387a168b4b0",
   "metadata": {
    "papermill": {},
    "tags": []
   },
   "source": [
    "### Enrich DataFrame with each video statistics"
   ]
  },
  {
   "cell_type": "code",
   "execution_count": 6,
   "id": "f4f54331-85a5-4e60-8522-dba30f5bc80b",
   "metadata": {
    "execution": {
     "iopub.execute_input": "2022-06-07T16:02:47.684158Z",
     "iopub.status.busy": "2022-06-07T16:02:47.683921Z",
     "iopub.status.idle": "2022-06-07T16:02:50.012170Z",
     "shell.execute_reply": "2022-06-07T16:02:50.011224Z",
     "shell.execute_reply.started": "2022-06-07T16:02:47.684132Z"
    },
    "papermill": {},
    "tags": []
   },
   "outputs": [],
   "source": [
    "all_video_stats = None\n",
    "\n",
    "for _, upload in df_uploads.iterrows():\n",
    "    video_id = upload[\"VIDEO_ID\"]\n",
    "    df_video_stats = youtube.video.get_statistics(\n",
    "        f\"https://www.youtube.com/watch?v={video_id}\"\n",
    "    )\n",
    "    if all_video_stats is None:\n",
    "        all_video_stats = df_video_stats\n",
    "    else:\n",
    "        all_video_stats = pd.concat([all_video_stats, df_video_stats])\n",
    "\n",
    "all_video_stats[\"VIDEO_ID\"] = all_video_stats[\"ID\"]\n",
    "df_uploads = df_uploads.merge(all_video_stats, on=\"VIDEO_ID\")\n",
    "df_uploads"
   ]
  },
  {
   "cell_type": "markdown",
   "id": "fb8b9cb3-3577-4766-836e-a9f502152664",
   "metadata": {
    "papermill": {},
    "tags": []
   },
   "source": [
    "### Compute reach"
   ]
  },
  {
   "cell_type": "code",
   "execution_count": 7,
   "id": "f72b1745-b133-46b4-9833-60e0ce9d0462",
   "metadata": {
    "execution": {
     "iopub.execute_input": "2022-06-07T16:02:50.014714Z",
     "iopub.status.busy": "2022-06-07T16:02:50.014426Z",
     "iopub.status.idle": "2022-06-07T16:02:50.114819Z",
     "shell.execute_reply": "2022-06-07T16:02:50.113196Z",
     "shell.execute_reply.started": "2022-06-07T16:02:50.014685Z"
    },
    "papermill": {},
    "tags": []
   },
   "outputs": [],
   "source": [
    "df_uploads = df_uploads.astype(\n",
    "    {\"COMMENTCOUNT\": int, \"LIKECOUNT\": int, \"VIEWCOUNT\": int}\n",
    ")\n",
    "df_uploads[\"REACH\"] = (\n",
    "    (df_uploads[\"COMMENTCOUNT\"] + df_uploads[\"LIKECOUNT\"])\n",
    ") / df_uploads[\"VIEWCOUNT\"]\n",
    "df_uploads = df_uploads.round({\"REACH\": 4})\n",
    "df_uploads"
   ]
  },
  {
   "cell_type": "markdown",
   "id": "4828840b-9eb7-4665-8238-0cd48717804e",
   "metadata": {
    "papermill": {},
    "tags": []
   },
   "source": [
    "### Connect Notion driver"
   ]
  },
  {
   "cell_type": "code",
   "execution_count": 8,
   "id": "b0342c27-945f-4d70-98df-6603663724e6",
   "metadata": {
    "execution": {
     "iopub.execute_input": "2022-06-07T16:02:50.116933Z",
     "iopub.status.busy": "2022-06-07T16:02:50.116601Z",
     "iopub.status.idle": "2022-06-07T16:02:50.159934Z",
     "shell.execute_reply": "2022-06-07T16:02:50.156215Z",
     "shell.execute_reply.started": "2022-06-07T16:02:50.116897Z"
    },
    "papermill": {},
    "tags": []
   },
   "outputs": [],
   "source": [
    "notion.connect(NOTION_TOKEN)"
   ]
  },
  {
   "cell_type": "markdown",
   "id": "35e72d4d-541f-4916-ad84-47e3ae961748",
   "metadata": {
    "papermill": {},
    "tags": []
   },
   "source": [
    "### Get notion database"
   ]
  },
  {
   "cell_type": "code",
   "execution_count": 9,
   "id": "51809164-5a2d-48a5-af37-683c4d30d067",
   "metadata": {
    "execution": {
     "iopub.execute_input": "2022-06-07T16:02:50.161625Z",
     "iopub.status.busy": "2022-06-07T16:02:50.161345Z",
     "iopub.status.idle": "2022-06-07T16:02:56.149189Z",
     "shell.execute_reply": "2022-06-07T16:02:56.148234Z",
     "shell.execute_reply.started": "2022-06-07T16:02:50.161592Z"
    },
    "papermill": {},
    "tags": []
   },
   "outputs": [],
   "source": [
    "db = notion.database.query(notion_database_url, query={})"
   ]
  },
  {
   "cell_type": "markdown",
   "id": "e340bbde-a779-45a3-b57c-0054f6be088c",
   "metadata": {
    "papermill": {},
    "tags": []
   },
   "source": [
    "### Helper function to quickly get page from database"
   ]
  },
  {
   "cell_type": "code",
   "execution_count": 10,
   "id": "8331e218-3beb-49fe-acc6-4f4b899abaec",
   "metadata": {
    "execution": {
     "iopub.execute_input": "2022-06-07T16:02:56.150356Z",
     "iopub.status.busy": "2022-06-07T16:02:56.150178Z",
     "iopub.status.idle": "2022-06-07T16:02:56.154740Z",
     "shell.execute_reply": "2022-06-07T16:02:56.153875Z",
     "shell.execute_reply.started": "2022-06-07T16:02:56.150333Z"
    },
    "papermill": {},
    "tags": []
   },
   "outputs": [],
   "source": [
    "def get_page_with_matching_property(db, property_name, property_value):\n",
    "    return pydash.find(db, lambda x: str(x.properties[property_name]) == property_value)"
   ]
  },
  {
   "cell_type": "markdown",
   "id": "74d42ebe-9137-4407-bf54-7308d86c952e",
   "metadata": {
    "papermill": {},
    "tags": []
   },
   "source": [
    "### Helper function to extract emojis"
   ]
  },
  {
   "cell_type": "code",
   "execution_count": 11,
   "id": "6732450b-0fb7-4f62-a7f9-0c96f6eb5359",
   "metadata": {
    "execution": {
     "iopub.execute_input": "2022-06-07T16:02:56.156183Z",
     "iopub.status.busy": "2022-06-07T16:02:56.155982Z",
     "iopub.status.idle": "2022-06-07T16:02:56.238713Z",
     "shell.execute_reply": "2022-06-07T16:02:56.237816Z",
     "shell.execute_reply.started": "2022-06-07T16:02:56.156159Z"
    },
    "papermill": {},
    "tags": []
   },
   "outputs": [],
   "source": [
    "def get_emojis(text):\n",
    "    emoji_list = []\n",
    "    data = regex.findall(r\"\\X\", text)\n",
    "    for word in data:\n",
    "        if any(char in emoji.UNICODE_EMOJI[\"en\"] for char in word):\n",
    "            emoji_list.append(word)\n",
    "    return emoji_list\n",
    "\n",
    "\n",
    "def get_tags(text):\n",
    "    tags = []\n",
    "    tags_list = re.findall(\"#[^#| ]+[a-zA-Z0-9]\", text)\n",
    "    for i in range(0, len(tags_list)):\n",
    "        tag = tags_list[i]\n",
    "        check_tag = True\n",
    "        for t in tag:\n",
    "            if not t.isalpha() and not t.isnumeric() and t != \"#\":\n",
    "                check_tag = False\n",
    "            if check_tag is False:\n",
    "                break\n",
    "        if check_tag is False:\n",
    "            tag = tag.rsplit(t)[0]\n",
    "        tags.append(tag)\n",
    "    return tags"
   ]
  },
  {
   "cell_type": "markdown",
   "id": "f3ad021f-df29-4b4c-b021-4702bb026db8",
   "metadata": {
    "papermill": {},
    "tags": []
   },
   "source": [
    "### Iterate over videos and upsert page in Notion database"
   ]
  },
  {
   "cell_type": "code",
   "execution_count": 12,
   "id": "c1f4a45e-caf5-434d-be51-59f5251c53c2",
   "metadata": {
    "execution": {
     "iopub.execute_input": "2022-06-07T16:02:56.240043Z",
     "iopub.status.busy": "2022-06-07T16:02:56.239822Z",
     "iopub.status.idle": "2022-06-07T16:03:51.074797Z",
     "shell.execute_reply": "2022-06-07T16:03:51.073810Z",
     "shell.execute_reply.started": "2022-06-07T16:02:56.240015Z"
    },
    "papermill": {},
    "tags": []
   },
   "outputs": [],
   "source": [
    "page_updated = 0\n",
    "page_created = 0\n",
    "page_created_list = []\n",
    "\n",
    "for _, video in df_uploads.iterrows():\n",
    "    content_url = f\"https://www.youtube.com/watch?v={video['VIDEO_ID']}\"\n",
    "    notion_page = get_page_with_matching_property(db, \"Content URL\", content_url)\n",
    "    if notion_page is None:\n",
    "        notion_page = notion.page.create(\n",
    "            database_id=notion_database_url, title=video[\"VIDEO_TITLE\"]\n",
    "        )\n",
    "        page_created += 1\n",
    "        page_created_list.append(notion_page.url)\n",
    "        print(f\"✅ New notion page create for video: {content_url}\")\n",
    "    else:\n",
    "        page_updated += 1\n",
    "        print(f\"⚙️ Updating page {notion_page.url} for video {content_url}\")\n",
    "\n",
    "    notion_page.link(\"Content URL\", content_url)\n",
    "    notion_page.number(\n",
    "        \"Engagment score\", video[\"REACH\"]\n",
    "    )  # Typo here but it was already there in the database.\n",
    "    notion_page.number(\"Engagement score\", video[\"REACH\"])\n",
    "    notion_page.number(\"Views\", video[\"VIEWCOUNT\"])\n",
    "    notion_page.number(\"Likes\", video[\"LIKECOUNT\"])\n",
    "    notion_page.number(\"Comments\", video[\"COMMENTCOUNT\"])\n",
    "    notion_page.date(\"Publication Date\", video[\"VIDEO_PUBLISHEDAT\"])\n",
    "\n",
    "    emojis_array = get_emojis(video[\"VIDEO_TITLE\"] + video[\"VIDEO_DESCRIPTION\"])\n",
    "    notion_page.rich_text(\"Emojis\", \" ,\".join(emojis_array))\n",
    "    notion_page.number(\"Nb emojis\", len(emojis_array))\n",
    "\n",
    "    tags_array = get_tags(video[\"VIDEO_TITLE\"] + video[\"VIDEO_DESCRIPTION\"])\n",
    "    notion_page.rich_text(\"Tags\", \" \".join(tags_array))\n",
    "    notion_page.number(\"Nb tags\", len(tags_array))\n",
    "\n",
    "    notion_page.select(\"Status\", \"Published ✨\")\n",
    "    notion_page.select(\"Platform\", \"YouTube\")\n",
    "    notion_page.select(\"Content type\", \"Video\")\n",
    "\n",
    "    notion_page.update()\n",
    "    print(f\"✅ Page for video {content_url} updated!\")"
   ]
  },
  {
   "cell_type": "markdown",
   "id": "spatial-queens",
   "metadata": {
    "execution": {
     "iopub.execute_input": "2021-07-02T23:32:10.789097Z",
     "iopub.status.busy": "2021-07-02T23:32:10.788829Z",
     "iopub.status.idle": "2021-07-02T23:32:10.796900Z",
     "shell.execute_reply": "2021-07-02T23:32:10.796358Z",
     "shell.execute_reply.started": "2021-07-02T23:32:10.789033Z"
    },
    "papermill": {},
    "tags": []
   },
   "source": [
    "## Output"
   ]
  },
  {
   "cell_type": "markdown",
   "id": "preliminary-walter",
   "metadata": {
    "papermill": {},
    "tags": []
   },
   "source": [
    "### Display results"
   ]
  },
  {
   "cell_type": "code",
   "execution_count": 13,
   "id": "d5c82b42-c068-4b50-a9ec-a4a7aa4bc497",
   "metadata": {
    "execution": {
     "iopub.execute_input": "2022-06-07T16:03:51.076183Z",
     "iopub.status.busy": "2022-06-07T16:03:51.075878Z",
     "iopub.status.idle": "2022-06-07T16:03:51.081715Z",
     "shell.execute_reply": "2022-06-07T16:03:51.080705Z",
     "shell.execute_reply.started": "2022-06-07T16:03:51.076144Z"
    },
    "papermill": {},
    "tags": []
   },
   "outputs": [],
   "source": [
    "page_created_template = \"\\n\\n\".join(page_created_list)\n",
    "\n",
    "print(\n",
    "    f\"\"\"\n",
    "✅ Execution completed!\n",
    "\n",
    "Number of page created: {page_created}\n",
    "Number of page updated: {page_updated}\n",
    "\n",
    "Page created:\n",
    "\n",
    "{page_created_template}\n",
    "\n",
    "\"\"\"\n",
    ")"
   ]
  }
 ],
 "metadata": {
  "kernelspec": {
   "display_name": "Python 3",
   "language": "python",
   "name": "python3"
  },
  "language_info": {
   "codemirror_mode": {
    "name": "ipython",
    "version": 3
   },
   "file_extension": ".py",
   "mimetype": "text/x-python",
   "name": "python",
   "nbconvert_exporter": "python",
   "pygments_lexer": "ipython3",
   "version": "3.9.6"
  },
  "naas": {
   "notebook_id": "1ce293bf-0866-4a5a-8239-e550c3ed135b",
   "notebook_path": "YouTube/YouTube_Get_statistics_from_video.ipynb"
  },
  "papermill": {
   "default_parameters": {},
   "environment_variables": {},
   "parameters": {},
   "version": "2.3.3"
  },
  "widgets": {
   "application/vnd.jupyter.widget-state+json": {
    "state": {},
    "version_major": 2,
    "version_minor": 0
   }
  }
 },
 "nbformat": 4,
 "nbformat_minor": 5
}