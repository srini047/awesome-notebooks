{
 "cells": [
  {
   "cell_type": "markdown",
   "id": "athletic-postage",
   "metadata": {
    "papermill": {},
    "tags": []
   },
   "source": [
    "<img width=\"10%\" alt=\"Naas\" src=\"https://landen.imgix.net/jtci2pxwjczr/assets/5ice39g4.png?w=160\"/>"
   ]
  },
  {
   "cell_type": "markdown",
   "id": "designing-adapter",
   "metadata": {
    "papermill": {},
    "tags": []
   },
   "source": [
    "# YouTube - Download video\n",
    "<a href=\"https://app.naas.ai/user-redirect/naas/downloader?url=https://raw.githubusercontent.com/jupyter-naas/awesome-notebooks/master/YouTube/YouTube_Download_video.ipynb\" target=\"_parent\"><img src=\"https://naasai-public.s3.eu-west-3.amazonaws.com/open_in_naas.svg\"/></a><br><br><a href=\"https://github.com/jupyter-naas/awesome-notebooks/issues/new?assignees=&labels=&template=template-request.md&title=Tool+-+Action+of+the+notebook+\">Template request</a> | <a href=\"https://github.com/jupyter-naas/awesome-notebooks/issues/new?assignees=&labels=bug&template=bug_report.md&title=YouTube+-+Download+video:+Error+short+description\">Bug report</a>"
   ]
  },
  {
   "cell_type": "markdown",
   "id": "1e9c407a-d2ab-4694-bfae-0a404187f8b7",
   "metadata": {
    "papermill": {},
    "tags": []
   },
   "source": [
    "**Tags:** #youtube #download #video #content #snippet #naas"
   ]
  },
  {
   "cell_type": "markdown",
   "id": "c493c52b-d4eb-43c2-bdd3-4736a3b53183",
   "metadata": {
    "papermill": {},
    "tags": []
   },
   "source": [
    "**Author:** [Jeremy Ravenel](https://www.linkedin.com/in/ACoAAAJHE7sB5OxuKHuzguZ9L6lfDHqw--cdnJg/)"
   ]
  },
  {
   "cell_type": "markdown",
   "id": "naas-description",
   "metadata": {
    "papermill": {},
    "tags": [
     "description"
    ]
   },
   "source": [
    "**Description:** This notebook allows users to download videos from YouTube."
   ]
  },
  {
   "cell_type": "markdown",
   "id": "input_cell",
   "metadata": {
    "papermill": {},
    "tags": []
   },
   "source": [
    "## Input"
   ]
  },
  {
   "cell_type": "markdown",
   "id": "8dc80331-8125-4ee6-beb0-14cc23385440",
   "metadata": {
    "papermill": {},
    "tags": []
   },
   "source": [
    "### Install packages "
   ]
  },
  {
   "cell_type": "code",
   "execution_count": 4,
   "id": "temporal-castle",
   "metadata": {
    "papermill": {},
    "tags": []
   },
   "outputs": [],
   "source": [
    "!pip install pytube3 --upgrade"
   ]
  },
  {
   "cell_type": "markdown",
   "id": "opened-movement",
   "metadata": {
    "papermill": {},
    "tags": []
   },
   "source": [
    "### Import library"
   ]
  },
  {
   "cell_type": "code",
   "execution_count": 5,
   "id": "bizarre-serve",
   "metadata": {
    "papermill": {},
    "tags": []
   },
   "outputs": [],
   "source": [
    "from pytube import YouTube"
   ]
  },
  {
   "cell_type": "markdown",
   "id": "017311e0-f6b7-4443-a4e4-d18c06fe3a66",
   "metadata": {
    "papermill": {},
    "tags": []
   },
   "source": [
    "### Variables"
   ]
  },
  {
   "cell_type": "code",
   "execution_count": 6,
   "id": "violent-momentum",
   "metadata": {
    "papermill": {},
    "tags": []
   },
   "outputs": [],
   "source": [
    "youtube_video_url = \"https://www.youtube.com/watch?v=bleU_nrckr8\"\n",
    "\n",
    "yt_obj = YouTube(youtube_video_url)"
   ]
  },
  {
   "cell_type": "markdown",
   "id": "model_cell",
   "metadata": {
    "papermill": {},
    "tags": []
   },
   "source": [
    "## Model"
   ]
  },
  {
   "cell_type": "markdown",
   "id": "selective-museum",
   "metadata": {
    "papermill": {},
    "tags": []
   },
   "source": [
    "### Paste Youtube URL"
   ]
  },
  {
   "cell_type": "code",
   "execution_count": 7,
   "id": "raised-caribbean",
   "metadata": {
    "papermill": {},
    "tags": []
   },
   "outputs": [],
   "source": [
    "for stream in yt_obj.streams:\n",
    "    print(stream)"
   ]
  },
  {
   "cell_type": "markdown",
   "id": "horizontal-default",
   "metadata": {
    "papermill": {},
    "tags": []
   },
   "source": [
    "### Filter on MP4 Quality"
   ]
  },
  {
   "cell_type": "code",
   "execution_count": 8,
   "id": "genetic-campus",
   "metadata": {
    "papermill": {},
    "tags": []
   },
   "outputs": [],
   "source": [
    "filters = yt_obj.streams.filter(progressive=True, file_extension=\"mp4\")\n",
    "\n",
    "for mp4_filter in filters:\n",
    "    print(mp4_filter)"
   ]
  },
  {
   "cell_type": "code",
   "execution_count": 9,
   "id": "facial-morning",
   "metadata": {
    "papermill": {},
    "tags": []
   },
   "outputs": [],
   "source": [
    "filters = yt_obj.streams.filter(progressive=True, file_extension=\"mp4\")\n",
    "\n",
    "filters.get_highest_resolution()\n",
    "filters.get_lowest_resolution()"
   ]
  },
  {
   "cell_type": "markdown",
   "id": "output_cell",
   "metadata": {
    "papermill": {},
    "tags": []
   },
   "source": [
    "## Output"
   ]
  },
  {
   "cell_type": "markdown",
   "id": "wrong-houston",
   "metadata": {
    "papermill": {},
    "tags": []
   },
   "source": [
    "### Download video on current directory"
   ]
  },
  {
   "cell_type": "code",
   "execution_count": 10,
   "id": "internal-finder",
   "metadata": {
    "papermill": {},
    "tags": []
   },
   "outputs": [],
   "source": [
    "filters.get_highest_resolution().download()"
   ]
  }
 ],
 "metadata": {
  "kernelspec": {
   "display_name": "Python 3",
   "language": "python",
   "name": "python3"
  },
  "language_info": {
   "codemirror_mode": {
    "name": "ipython",
    "version": 3
   },
   "file_extension": ".py",
   "mimetype": "text/x-python",
   "name": "python",
   "nbconvert_exporter": "python",
   "pygments_lexer": "ipython3",
   "version": "3.9.6"
  },
  "naas": {
   "notebook_id": "47bb2894-1ede-4fd1-a965-cff70a7b571e",
   "notebook_path": "YouTube/YouTube_Download_video.ipynb"
  },
  "papermill": {
   "default_parameters": {},
   "environment_variables": {},
   "parameters": {},
   "version": "2.3.3"
  },
  "widgets": {
   "application/vnd.jupyter.widget-state+json": {
    "state": {},
    "version_major": 2,
    "version_minor": 0
   }
  }
 },
 "nbformat": 4,
 "nbformat_minor": 5
}