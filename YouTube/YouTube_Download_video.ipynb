{
 "cells": [
  {
   "cell_type": "markdown",
   "id": "athletic-postage",
   "metadata": {
    "papermill": {},
    "tags": []
   },
   "source": [
    "<img width=\"10%\" alt=\"Naas\" src=\"https://landen.imgix.net/jtci2pxwjczr/assets/5ice39g4.png?w=160\"/>"
   ]
  },
  {
   "cell_type": "markdown",
   "id": "designing-adapter",
   "metadata": {
    "papermill": {},
    "tags": []
   },
   "source": [
    "# YouTube - Download video\n",
    "<a href=\"https://app.naas.ai/user-redirect/naas/downloader?url=https://raw.githubusercontent.com/jupyter-naas/awesome-notebooks/master/YouTube/YouTube_Download_video.ipynb\" target=\"_parent\"><img src=\"https://naasai-public.s3.eu-west-3.amazonaws.com/Open_in_Naas_Lab.svg\"/></a><br><br><a href=\"https://github.com/jupyter-naas/awesome-notebooks/issues/new?assignees=&labels=&template=template-request.md&title=Tool+-+Action+of+the+notebook+\">Template request</a> | <a href=\"https://github.com/jupyter-naas/awesome-notebooks/issues/new?assignees=&labels=bug&template=bug_report.md&title=YouTube+-+Download+video:+Error+short+description\">Bug report</a> | <a href=\"https://app.naas.ai/user-redirect/naas/downloader?url=https://raw.githubusercontent.com/jupyter-naas/awesome-notebooks/master/Naas/Naas_Start_data_product.ipynb\" target=\"_parent\">Generate Data Product</a>"
   ]
  },
  {
   "cell_type": "markdown",
   "id": "1e9c407a-d2ab-4694-bfae-0a404187f8b7",
   "metadata": {
    "papermill": {},
    "tags": []
   },
   "source": [
    "**Tags:** #youtube #download #video #content #snippet #naas"
   ]
  },
  {
   "cell_type": "markdown",
   "id": "c493c52b-d4eb-43c2-bdd3-4736a3b53183",
   "metadata": {
    "papermill": {},
    "tags": []
   },
   "source": [
    "**Author:** [Jeremy Ravenel](https://www.linkedin.com/in/ACoAAAJHE7sB5OxuKHuzguZ9L6lfDHqw--cdnJg/)"
   ]
  },
  {
   "cell_type": "markdown",
   "id": "naas-description",
   "metadata": {
    "papermill": {},
    "tags": [
     "description"
    ]
   },
   "source": [
    "**Description:** This notebook allows users to download videos from YouTube."
   ]
  },
  {
   "cell_type": "markdown",
   "id": "d97a9ac1-deed-42c1-a7bc-1083b8a9817b",
   "metadata": {
    "papermill": {},
    "tags": []
   },
   "source": [
    "**References:**\n",
    "- [pytube library](https://pypi.org/project/pytube/)"
   ]
  },
  {
   "cell_type": "markdown",
   "id": "input_cell",
   "metadata": {
    "papermill": {},
    "tags": []
   },
   "source": [
    "## Input"
   ]
  },
  {
   "cell_type": "markdown",
   "id": "opened-movement",
   "metadata": {
    "papermill": {},
    "tags": []
   },
   "source": [
    "### Import libraries"
   ]
  },
  {
   "cell_type": "code",
   "execution_count": null,
   "id": "bizarre-serve",
   "metadata": {
    "papermill": {},
    "tags": []
   },
   "outputs": [],
   "source": [
    "try:\n",
    "    from pytube import YouTube\n",
    "except:\n",
    "    !pip install pytube --user\n",
    "    from pytube import YouTube"
   ]
  },
  {
   "cell_type": "markdown",
   "id": "017311e0-f6b7-4443-a4e4-d18c06fe3a66",
   "metadata": {
    "papermill": {},
    "tags": []
   },
   "source": [
    "### Setup Variables\n",
    "- `youtube_video_url`: YouTube video URL\n",
    "- `output_dir`: Output directory to save the video."
   ]
  },
  {
   "cell_type": "code",
   "execution_count": null,
   "id": "violent-momentum",
   "metadata": {
    "papermill": {},
    "tags": []
   },
   "outputs": [],
   "source": [
    "# Inputs\n",
    "youtube_video_url = \"https://www.youtube.com/watch?v=ONiILHFItzs\"\n",
    "\n",
    "# Outputs\n",
    "output_dir = \"videos\""
   ]
  },
  {
   "cell_type": "markdown",
   "id": "model_cell",
   "metadata": {
    "papermill": {},
    "tags": []
   },
   "source": [
    "## Model"
   ]
  },
  {
   "cell_type": "markdown",
   "id": "4e38d29c-5dc7-446e-8530-a36f66a4be2a",
   "metadata": {
    "papermill": {},
    "tags": []
   },
   "source": [
    "### Init YouTube obj"
   ]
  },
  {
   "cell_type": "code",
   "execution_count": null,
   "id": "66034f25-cba5-4d82-b7cb-c60575f7b910",
   "metadata": {
    "papermill": {},
    "tags": []
   },
   "outputs": [],
   "source": [
    "try:\n",
    "    yt_obj = YouTube(youtube_video_url)\n",
    "except:\n",
    "    !pip install pytube --upgrade --user\n",
    "    yt_obj = YouTube(youtube_video_url)"
   ]
  },
  {
   "cell_type": "markdown",
   "id": "selective-museum",
   "metadata": {
    "papermill": {},
    "tags": []
   },
   "source": [
    "### Display Youtube URL streams"
   ]
  },
  {
   "cell_type": "code",
   "execution_count": null,
   "id": "raised-caribbean",
   "metadata": {
    "papermill": {},
    "tags": []
   },
   "outputs": [],
   "source": [
    "for stream in yt_obj.streams:\n",
    "    print(stream)"
   ]
  },
  {
   "cell_type": "markdown",
   "id": "horizontal-default",
   "metadata": {
    "papermill": {},
    "tags": []
   },
   "source": [
    "### Get MP4 Quality"
   ]
  },
  {
   "cell_type": "code",
   "execution_count": null,
   "id": "genetic-campus",
   "metadata": {
    "papermill": {},
    "tags": []
   },
   "outputs": [],
   "source": [
    "videos_mp4 = yt_obj.streams.filter(progressive=True, file_extension=\"mp4\")\n",
    "\n",
    "for videos in videos_mp4:\n",
    "    print(videos)"
   ]
  },
  {
   "cell_type": "markdown",
   "id": "30e0b825-0059-49b8-9e80-7a0e19f09c8d",
   "metadata": {
    "papermill": {},
    "tags": []
   },
   "source": [
    "### Get highest resolution"
   ]
  },
  {
   "cell_type": "code",
   "execution_count": null,
   "id": "fe0d82ac-5edd-4e05-9e7f-0b692fb81f54",
   "metadata": {
    "papermill": {},
    "tags": []
   },
   "outputs": [],
   "source": [
    "video_highest_resolution = videos_mp4.get_highest_resolution()\n",
    "video_highest_resolution"
   ]
  },
  {
   "cell_type": "markdown",
   "id": "output_cell",
   "metadata": {
    "papermill": {},
    "tags": []
   },
   "source": [
    "## Output"
   ]
  },
  {
   "cell_type": "markdown",
   "id": "wrong-houston",
   "metadata": {
    "papermill": {},
    "tags": []
   },
   "source": [
    "### Download video\n",
    "If output_dir does not exist, it will be created"
   ]
  },
  {
   "cell_type": "code",
   "execution_count": null,
   "id": "internal-finder",
   "metadata": {
    "papermill": {},
    "tags": []
   },
   "outputs": [],
   "source": [
    "video_highest_resolution.download(output_path=output_dir)"
   ]
  },
  {
   "cell_type": "code",
   "execution_count": null,
   "id": "42818fdf-dfc4-4edc-b364-5f0f3bbfffb4",
   "metadata": {
    "papermill": {},
    "tags": []
   },
   "outputs": [],
   "source": []
  }
 ],
 "metadata": {
  "kernelspec": {
   "display_name": "Python 3",
   "language": "python",
   "name": "python3"
  },
  "language_info": {
   "codemirror_mode": {
    "name": "ipython",
    "version": 3
   },
   "file_extension": ".py",
   "mimetype": "text/x-python",
   "name": "python",
   "nbconvert_exporter": "python",
   "pygments_lexer": "ipython3",
   "version": "3.9.6"
  },
  "naas": {
   "notebook_id": "2ded78b09046383b0f26f14bae6ea2b48834e06dc5f192d334ad9a604a24ac2f",
   "notebook_path": "YouTube/YouTube_Download_video.ipynb"
  },
  "papermill": {
   "default_parameters": {},
   "environment_variables": {},
   "parameters": {},
   "version": "2.3.3"
  },
  "widgets": {
   "application/vnd.jupyter.widget-state+json": {
    "state": {},
    "version_major": 2,
    "version_minor": 0
   }
  }
 },
 "nbformat": 4,
 "nbformat_minor": 5
}