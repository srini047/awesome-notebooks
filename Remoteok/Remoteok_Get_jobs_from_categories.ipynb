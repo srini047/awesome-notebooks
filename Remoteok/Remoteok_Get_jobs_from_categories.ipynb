{
 "cells": [
  {
   "cell_type": "markdown",
   "id": "867d7655-1496-49a9-a880-92b2cf149027",
   "metadata": {
    "papermill": {},
    "tags": []
   },
   "source": [
    "<img width=\"10%\" alt=\"Naas\" src=\"https://landen.imgix.net/jtci2pxwjczr/assets/5ice39g4.png?w=160\"/>"
   ]
  },
  {
   "cell_type": "markdown",
   "id": "f46db581-d850-43bd-a4c6-edfba994c2e8",
   "metadata": {
    "papermill": {},
    "tags": []
   },
   "source": [
    "# Remoteok - Get jobs from categories\n",
    "<a href=\"https://app.naas.ai/user-redirect/naas/downloader?url=https://raw.githubusercontent.com/jupyter-naas/awesome-notebooks/master/Remoteok/Remoteok_Get_jobs_from_categories.ipynb\" target=\"_parent\"><img src=\"https://naasai-public.s3.eu-west-3.amazonaws.com/Open_in_Naas_Lab.svg\"/></a><br><br><a href=\"https://github.com/jupyter-naas/awesome-notebooks/issues/new?assignees=&labels=&template=template-request.md&title=Tool+-+Action+of+the+notebook+\">Template request</a> | <a href=\"https://github.com/jupyter-naas/awesome-notebooks/issues/new?assignees=&labels=bug&template=bug_report.md&title=Remoteok+-+Get+jobs+from+categories:+Error+short+description\">Bug report</a> | <a href=\"https://app.naas.ai/user-redirect/naas/downloader?url=https://raw.githubusercontent.com/jupyter-naas/awesome-notebooks/master/Naas/Naas_Start_data_product.ipynb\" target=\"_parent\">Generate Data Product</a>"
   ]
  },
  {
   "cell_type": "markdown",
   "id": "83a958c4-dc0b-4d81-90f8-48a2f00592ea",
   "metadata": {
    "papermill": {},
    "tags": []
   },
   "source": [
    "**Tags:** #remoteok #jobs #csv #snippet #opendata #dataframe"
   ]
  },
  {
   "cell_type": "markdown",
   "id": "0b544eb9-c539-437e-857a-6a105c6444fb",
   "metadata": {
    "papermill": {},
    "tags": []
   },
   "source": [
    "**Author:** [Sanjeet Attili](https://www.linkedin.com/in/sanjeet-attili-760bab190/)"
   ]
  },
  {
   "cell_type": "markdown",
   "id": "naas-description",
   "metadata": {
    "papermill": {},
    "tags": [
     "description"
    ]
   },
   "source": [
    "**Description:** Remoteok is a job search platform that allows users to find jobs from a variety of categories."
   ]
  },
  {
   "cell_type": "markdown",
   "id": "a65de326-8485-4e9a-b6b5-8414b479fb19",
   "metadata": {
    "papermill": {},
    "tags": []
   },
   "source": [
    "## Input"
   ]
  },
  {
   "cell_type": "markdown",
   "id": "58edbc6e-85d6-4a04-9fa7-bea9cc1d3dda",
   "metadata": {
    "papermill": {},
    "tags": []
   },
   "source": [
    "### Import libraries"
   ]
  },
  {
   "cell_type": "code",
   "execution_count": 2,
   "id": "5ca4ddd1-cf39-4209-a3ff-51906bf7565f",
   "metadata": {
    "papermill": {},
    "tags": []
   },
   "outputs": [],
   "source": [
    "import pandas as pd\n",
    "import requests\n",
    "from datetime import datetime\n",
    "import time"
   ]
  },
  {
   "cell_type": "markdown",
   "id": "4a55e5a2-c524-4000-a52e-a9b74bf80dba",
   "metadata": {
    "papermill": {},
    "tags": []
   },
   "source": [
    "### Setup Remoteok"
   ]
  },
  {
   "cell_type": "code",
   "execution_count": null,
   "id": "5ad8e8d1-64aa-4809-bf1d-09be8c9272be",
   "metadata": {
    "papermill": {},
    "tags": []
   },
   "outputs": [],
   "source": [
    "categories = [\n",
    "    \"machine learning\",\n",
    "    \"data science\",\n",
    "    \"nlp\",\n",
    "    \"deep learning\",\n",
    "    \"computer vision\",\n",
    "    \"data\",\n",
    "    \"natural language processing\",\n",
    "    \"data engineer\",\n",
    "]\n",
    "date_from = -30  ### this is 30 days from now => must be negative"
   ]
  },
  {
   "cell_type": "markdown",
   "id": "5c156a08-230c-4d8a-a0d8-e634912b29eb",
   "metadata": {
    "papermill": {},
    "tags": []
   },
   "source": [
    "### Variables"
   ]
  },
  {
   "cell_type": "code",
   "execution_count": null,
   "id": "d4f894f1-cc7f-40af-aa4a-6eb35b9ba62c",
   "metadata": {
    "papermill": {},
    "tags": []
   },
   "outputs": [],
   "source": [
    "csv_output = \"REMOTIVE_JOBS.csv\""
   ]
  },
  {
   "cell_type": "markdown",
   "id": "b21d23fa-75fb-4d72-b7be-75f8c370c2a5",
   "metadata": {
    "papermill": {},
    "tags": []
   },
   "source": [
    "## Model"
   ]
  },
  {
   "cell_type": "markdown",
   "id": "6e706f05-08e7-4100-812f-4d0072df9a19",
   "metadata": {
    "papermill": {},
    "tags": []
   },
   "source": [
    "### Get jobs from RemoteOk"
   ]
  },
  {
   "cell_type": "code",
   "execution_count": null,
   "id": "cc188b25-ad01-425f-980e-0ad652adef45",
   "metadata": {
    "papermill": {},
    "tags": []
   },
   "outputs": [],
   "source": [
    "REMOTEOK_API = \"https://remoteok.com/api\"\n",
    "REMOTEOK_DATETIME = \"%Y-%m-%dT%H:%M:%S\"\n",
    "NAAS_DATETIME = \"%Y-%m-%d %H:%M:%S\"\n",
    "\n",
    "\n",
    "def get_jobs(remoteok_url, categories):\n",
    "    df = pd.DataFrame()\n",
    "    headers = {\n",
    "        \"User-Agent\": \"Mozilla/5.0 (Windows NT 6.1) AppleWebKit/537.36 (KHTML, like Gecko) Chrome/41.0.2228.0 Safari/537.36\",\n",
    "    }\n",
    "    index = 0\n",
    "    for tag in categories:\n",
    "        url = remoteok_url + f\"?tag={tag}\"\n",
    "        res = requests.get(url, headers=headers)\n",
    "        try:\n",
    "            res.raise_for_status()\n",
    "        except requests.HTTPError as e:\n",
    "            return e\n",
    "\n",
    "        job_details = res.json()\n",
    "\n",
    "        if len(job_details) == 1:\n",
    "            continue\n",
    "        else:\n",
    "            for idx, job in enumerate(job_details):\n",
    "                if idx != 0:\n",
    "                    date = job[\"date\"].split(\"+\")[0]\n",
    "                    publication_time = datetime.strptime(\n",
    "                        date, REMOTEOK_DATETIME\n",
    "                    ).timestamp()\n",
    "                    required_time = (\n",
    "                        time.time() + date_from * 24 * 60 * 60\n",
    "                    )  ### time in seconds\n",
    "\n",
    "                    if publication_time >= required_time:\n",
    "                        df.loc[index, \"URL\"] = job.get(\"url\")\n",
    "                        df.loc[index, \"TITLE\"] = job.get(\"position\")\n",
    "                        df.loc[index, \"COMPANY\"] = job.get(\"company\")\n",
    "                        df.loc[index, \"TAGS\"] = \", \".join(job.get(\"tags\"))\n",
    "                        df.loc[index, \"LOCATION\"] = job.get(\"location\")\n",
    "                        df.loc[index, \"PUBLICATION_DATE\"] = datetime.fromtimestamp(\n",
    "                            publication_time\n",
    "                        ).strftime(NAAS_DATETIME)\n",
    "                        index += 1\n",
    "\n",
    "    df = df.sort_values(by=\"PUBLICATION_DATE\", ascending=False)\n",
    "    return df\n",
    "\n",
    "\n",
    "df_jobs = get_jobs(REMOTEOK_API, categories)\n",
    "df_jobs.head(5)"
   ]
  },
  {
   "cell_type": "markdown",
   "id": "e4a97932-f763-416d-b361-0eea807696fb",
   "metadata": {
    "papermill": {},
    "tags": []
   },
   "source": [
    "## Output"
   ]
  },
  {
   "cell_type": "markdown",
   "id": "83f03983-951f-409e-a818-3a512ec6fdbc",
   "metadata": {
    "papermill": {},
    "tags": []
   },
   "source": [
    "### Save dataframe in csv"
   ]
  },
  {
   "cell_type": "code",
   "execution_count": null,
   "id": "e8de8668-440a-4469-bf8f-9ab0a6ac2021",
   "metadata": {
    "papermill": {},
    "tags": []
   },
   "outputs": [],
   "source": [
    "df_jobs.to_csv(csv_output, index=False)"
   ]
  }
 ],
 "metadata": {
  "kernelspec": {
   "display_name": "Python 3",
   "language": "python",
   "name": "python3"
  },
  "language_info": {
   "codemirror_mode": {
    "name": "ipython",
    "version": 3
   },
   "file_extension": ".py",
   "mimetype": "text/x-python",
   "name": "python",
   "nbconvert_exporter": "python",
   "pygments_lexer": "ipython3",
   "version": "3.8.8"
  },
  "naas": {
   "notebook_id": "305c5c190163ec3d354712a27c233a097b14c1492cd412900d9283b6cacc4424",
   "notebook_path": "Remoteok/Remoteok_Get_jobs_from_categories.ipynb"
  },
  "papermill": {
   "default_parameters": {},
   "environment_variables": {},
   "parameters": {},
   "version": "2.3.4"
  }
 },
 "nbformat": 4,
 "nbformat_minor": 5
}