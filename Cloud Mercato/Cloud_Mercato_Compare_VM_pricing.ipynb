{
 "cells": [
  {
   "cell_type": "markdown",
   "id": "latin-packing",
   "metadata": {
    "execution": {
     "iopub.execute_input": "2021-02-23T14:22:16.610471Z",
     "iopub.status.busy": "2021-02-23T14:22:16.610129Z",
     "iopub.status.idle": "2021-02-23T14:22:16.627784Z",
     "shell.execute_reply": "2021-02-23T14:22:16.626866Z",
     "shell.execute_reply.started": "2021-02-23T14:22:16.610384Z"
    },
    "papermill": {},
    "tags": []
   },
   "source": [
    "<img width=\"10%\" alt=\"Naas\" src=\"https://landen.imgix.net/jtci2pxwjczr/assets/5ice39g4.png?w=160\"/>"
   ]
  },
  {
   "cell_type": "markdown",
   "id": "compressed-wilson",
   "metadata": {
    "papermill": {},
    "tags": []
   },
   "source": [
    "# Cloud Mercato - Compare VM pricing\n",
    "<a href=\"https://app.naas.ai/user-redirect/naas/downloader?url=https://raw.githubusercontent.com/jupyter-naas/awesome-notebooks/master/Cloud%20Mercato/Cloud_Mercato_Compare_VM_pricing.ipynb\" target=\"_parent\"><img src=\"https://naasai-public.s3.eu-west-3.amazonaws.com/open_in_naas.svg\"/></a><br><br><a href=\"https://github.com/jupyter-naas/awesome-notebooks/issues/new?assignees=&labels=&template=template-request.md&title=Tool+-+Action+of+the+notebook+\">Template request</a> | <a href=\"https://github.com/jupyter-naas/awesome-notebooks/issues/new?assignees=&labels=bug&template=bug_report.md&title=Cloud+Mercato+-+Compare+VM+pricing:+Error+short+description\">Bug report</a>"
   ]
  },
  {
   "cell_type": "markdown",
   "id": "religious-programmer",
   "metadata": {
    "papermill": {},
    "tags": []
   },
   "source": [
    "**Tags:** #cloud #infrastruture #pricing #vm #iaas #analytics #compute"
   ]
  },
  {
   "cell_type": "markdown",
   "id": "1fe9f56e-561c-4f52-aef8-b861c9462107",
   "metadata": {
    "papermill": {},
    "tags": []
   },
   "source": [
    "**Author:** [Anthony Monthe](https://www.linkedin.com/in/anthonymonthe/)"
   ]
  },
  {
   "cell_type": "markdown",
   "id": "naas-description",
   "metadata": {
    "papermill": {},
    "tags": [
     "description"
    ]
   },
   "source": [
    "**Description:** Cloud Mercato is an online platform that allows users to compare virtual machine pricing from different cloud providers."
   ]
  },
  {
   "cell_type": "markdown",
   "id": "distinguished-truth",
   "metadata": {
    "papermill": {},
    "tags": []
   },
   "source": [
    "## Input"
   ]
  },
  {
   "cell_type": "markdown",
   "id": "numeric-mediterranean",
   "metadata": {
    "papermill": {},
    "tags": []
   },
   "source": [
    "### Import libraries"
   ]
  },
  {
   "cell_type": "code",
   "execution_count": 44,
   "id": "potential-surfing",
   "metadata": {
    "execution": {
     "iopub.execute_input": "2022-10-10T16:20:20.705812Z",
     "iopub.status.busy": "2022-10-10T16:20:20.705588Z",
     "iopub.status.idle": "2022-10-10T16:20:20.708663Z",
     "shell.execute_reply": "2022-10-10T16:20:20.708037Z",
     "shell.execute_reply.started": "2022-10-10T16:20:20.705789Z"
    },
    "papermill": {},
    "tags": []
   },
   "outputs": [],
   "source": [
    "import requests\n",
    "import pandas as pd\n",
    "import naas"
   ]
  },
  {
   "cell_type": "markdown",
   "id": "aggressive-trustee",
   "metadata": {
    "papermill": {},
    "tags": []
   },
   "source": [
    "### Setup Variables"
   ]
  },
  {
   "cell_type": "markdown",
   "id": "bf5fbb88-5f73-4529-bfc4-a336b08c090b",
   "metadata": {
    "execution": {
     "iopub.execute_input": "2022-10-28T12:47:26.159302Z",
     "iopub.status.busy": "2022-10-28T12:47:26.158993Z",
     "iopub.status.idle": "2022-10-28T12:47:26.168106Z",
     "shell.execute_reply": "2022-10-28T12:47:26.167139Z",
     "shell.execute_reply.started": "2022-10-28T12:47:26.159270Z"
    },
    "papermill": {},
    "tags": []
   },
   "source": [
    "- [Create your token](graphql.cloud-mercato.com)\n",
    "- You can access data without a token but you are limited to 3 requests/days\n",
    "- Get a paid account to have access to VM with +16 CPUs"
   ]
  },
  {
   "cell_type": "code",
   "execution_count": 45,
   "id": "continuous-melbourne",
   "metadata": {
    "execution": {
     "iopub.execute_input": "2022-10-10T16:20:27.280186Z",
     "iopub.status.busy": "2022-10-10T16:20:27.279945Z",
     "iopub.status.idle": "2022-10-10T16:20:27.287650Z",
     "shell.execute_reply": "2022-10-10T16:20:27.286971Z",
     "shell.execute_reply.started": "2022-10-10T16:20:27.280161Z"
    },
    "papermill": {},
    "tags": []
   },
   "outputs": [],
   "source": [
    "# Input\n",
    "CPU = 4  #  in CPU number\n",
    "RAM = 2  # in GB\n",
    "# Anonymous users are limited\n",
    "TOKEN = None\n",
    "\n",
    "# Output\n",
    "csv_output = \"cloud-mercato-vm-pricing.csv\""
   ]
  },
  {
   "cell_type": "markdown",
   "id": "registered-showcase",
   "metadata": {
    "papermill": {},
    "tags": []
   },
   "source": [
    "## Model"
   ]
  },
  {
   "cell_type": "markdown",
   "id": "f5c5eab8-47d8-41ec-8296-8969a118caab",
   "metadata": {
    "papermill": {},
    "tags": []
   },
   "source": [
    "### Declare constants"
   ]
  },
  {
   "cell_type": "code",
   "execution_count": 46,
   "id": "c9380282-8201-42c6-93c2-3372f1ba46ee",
   "metadata": {
    "execution": {
     "iopub.execute_input": "2022-10-10T16:20:35.831302Z",
     "iopub.status.busy": "2022-10-10T16:20:35.831058Z",
     "iopub.status.idle": "2022-10-10T16:20:35.835140Z",
     "shell.execute_reply": "2022-10-10T16:20:35.834498Z",
     "shell.execute_reply.started": "2022-10-10T16:20:35.831276Z"
    },
    "papermill": {},
    "tags": []
   },
   "outputs": [],
   "source": [
    "COLUMN_PARAMS = {\n",
    "    \"table-col-provider\": \"on\",\n",
    "    \"table-col-name\": \"on\",\n",
    "    \"table-col-cpu_number\": \"on\",\n",
    "    \"table-col-ram\": \"on\",\n",
    "    \"table-col-hourly\": \"on\",\n",
    "    \"table-col-monthly\": \"on\",\n",
    "    \"table-col-yearly1_noupfront\": \"on\",\n",
    "    \"table-col-yearly1_parupfront\": \"on\",\n",
    "    \"table-col-yearly1_parupfront_fee\": \"on\",\n",
    "    \"table-col-yearly1_allupfront_fee\": \"on\",\n",
    "    \"table-col-yearly2_noupfront\": \"on\",\n",
    "    \"table-col-yearly2_parupfront\": \"on\",\n",
    "    \"table-col-yearly2_parupfront_fee\": \"on\",\n",
    "    \"table-col-yearly2_allupfront_fee\": \"on\",\n",
    "    \"table-col-yearly3_noupfront\": \"on\",\n",
    "    \"table-col-yearly3_parupfront\": \"on\",\n",
    "    \"table-col-yearly3_parupfront_fee\": \"on\",\n",
    "    \"table-col-yearly3_allupfront_fee\": \"on\",\n",
    "    \"table-col-currency\": \"on\",\n",
    "    \"table-col-rate\": \"on\",\n",
    "}"
   ]
  },
  {
   "cell_type": "code",
   "execution_count": 47,
   "id": "0c9dd47c-9333-4803-9db1-30f3565fef32",
   "metadata": {
    "execution": {
     "iopub.execute_input": "2022-10-10T16:20:37.218208Z",
     "iopub.status.busy": "2022-10-10T16:20:37.217979Z",
     "iopub.status.idle": "2022-10-10T16:20:37.221376Z",
     "shell.execute_reply": "2022-10-10T16:20:37.220741Z",
     "shell.execute_reply.started": "2022-10-10T16:20:37.218184Z"
    },
    "papermill": {},
    "tags": []
   },
   "outputs": [],
   "source": [
    "FILTER_PARAMS = {\n",
    "    \"cpu_number_min\": CPU,\n",
    "    \"cpu_number_max\": CPU,\n",
    "    \"ram_min\": RAM - 1,\n",
    "    \"ram_max\": RAM + 1,\n",
    "    \"currency-currency\": \"USD\",\n",
    "}"
   ]
  },
  {
   "cell_type": "markdown",
   "id": "tested-astrology",
   "metadata": {
    "papermill": {},
    "tags": []
   },
   "source": [
    "### Get data using request"
   ]
  },
  {
   "cell_type": "code",
   "execution_count": 48,
   "id": "crude-louisville",
   "metadata": {
    "execution": {
     "iopub.execute_input": "2022-10-10T16:20:42.963579Z",
     "iopub.status.busy": "2022-10-10T16:20:42.963287Z",
     "iopub.status.idle": "2022-10-10T16:20:43.208197Z",
     "shell.execute_reply": "2022-10-10T16:20:43.207553Z",
     "shell.execute_reply.started": "2022-10-10T16:20:42.963553Z"
    },
    "papermill": {},
    "tags": []
   },
   "outputs": [],
   "source": [
    "params = {}\n",
    "params.update(COLUMN_PARAMS)\n",
    "params.update(FILTER_PARAMS)\n",
    "\n",
    "headers = {}\n",
    "if TOKEN:\n",
    "    headers[\"Authorization\"] = \"Token %s\" % TOKEN\n",
    "\n",
    "response = requests.get(\n",
    "    \"https://p2p.cloud-mercato.com/flavors/csv\",\n",
    "    params=params,\n",
    "    headers=headers,\n",
    "    stream=True,\n",
    ")\n",
    "if response.status_code == 429:\n",
    "    raise Exception(\"Download is limited for free users. Please wait or subscribe.\")\n",
    "\n",
    "df = pd.read_csv(response.raw)\n",
    "\n",
    "print(\"Shape: \", df.shape)\n",
    "df"
   ]
  },
  {
   "cell_type": "markdown",
   "id": "lonely-pacific",
   "metadata": {
    "execution": {
     "iopub.execute_input": "2021-07-02T23:32:10.789097Z",
     "iopub.status.busy": "2021-07-02T23:32:10.788829Z",
     "iopub.status.idle": "2021-07-02T23:32:10.796900Z",
     "shell.execute_reply": "2021-07-02T23:32:10.796358Z",
     "shell.execute_reply.started": "2021-07-02T23:32:10.789033Z"
    },
    "papermill": {},
    "tags": []
   },
   "source": [
    "## Output"
   ]
  },
  {
   "cell_type": "markdown",
   "id": "890f7c86-b7bb-4f5d-9a1b-e492dd9580fd",
   "metadata": {
    "papermill": {},
    "tags": []
   },
   "source": [
    "### Save result in csv"
   ]
  },
  {
   "cell_type": "code",
   "execution_count": 49,
   "id": "9c4e3b7b-6440-4844-8054-265f1aec65eb",
   "metadata": {
    "execution": {
     "iopub.execute_input": "2022-10-10T16:21:06.530775Z",
     "iopub.status.busy": "2022-10-10T16:21:06.530483Z",
     "iopub.status.idle": "2022-10-10T16:21:06.557694Z",
     "shell.execute_reply": "2022-10-10T16:21:06.557050Z",
     "shell.execute_reply.started": "2022-10-10T16:21:06.530747Z"
    },
    "papermill": {},
    "tags": []
   },
   "outputs": [],
   "source": [
    "df.to_csv(csv_output, index=False)"
   ]
  },
  {
   "cell_type": "markdown",
   "id": "a28950bb-1d7d-4835-a83a-faac837ebc7c",
   "metadata": {
    "papermill": {},
    "tags": []
   },
   "source": [
    "### Share csv output with naas"
   ]
  },
  {
   "cell_type": "code",
   "execution_count": 50,
   "id": "db205965-a2dc-4541-ba8e-db3250d1cff0",
   "metadata": {
    "execution": {
     "iopub.execute_input": "2022-10-10T16:21:09.034685Z",
     "iopub.status.busy": "2022-10-10T16:21:09.034392Z",
     "iopub.status.idle": "2022-10-10T16:21:09.466349Z",
     "shell.execute_reply": "2022-10-10T16:21:09.465628Z",
     "shell.execute_reply.started": "2022-10-10T16:21:09.034656Z"
    },
    "papermill": {},
    "tags": []
   },
   "outputs": [],
   "source": [
    "naas.asset.add(csv_output)\n",
    "\n",
    "# -> Uncomment the line below to remove your asset\n",
    "# naas.asset.delete()"
   ]
  }
 ],
 "metadata": {
  "kernelspec": {
   "display_name": "Python 3",
   "language": "python",
   "name": "python3"
  },
  "language_info": {
   "codemirror_mode": {
    "name": "ipython",
    "version": 3
   },
   "file_extension": ".py",
   "mimetype": "text/x-python",
   "name": "python",
   "nbconvert_exporter": "python",
   "pygments_lexer": "ipython3",
   "version": "3.9.6"
  },
  "papermill": {
   "default_parameters": {},
   "environment_variables": {},
   "parameters": {},
   "version": "2.3.3"
  },
  "widgets": {
   "application/vnd.jupyter.widget-state+json": {
    "state": {},
    "version_major": 2,
    "version_minor": 0
   }
  }
 },
 "nbformat": 4,
 "nbformat_minor": 5
}