{
 "cells": [
  {
   "cell_type": "markdown",
   "id": "8c57a8e8",
   "metadata": {
    "execution": {
     "iopub.execute_input": "2021-02-23T14:22:16.610471Z",
     "iopub.status.busy": "2021-02-23T14:22:16.610129Z",
     "iopub.status.idle": "2021-02-23T14:22:16.627784Z",
     "shell.execute_reply": "2021-02-23T14:22:16.626866Z",
     "shell.execute_reply.started": "2021-02-23T14:22:16.610384Z"
    },
    "papermill": {},
    "tags": []
   },
   "source": [
    "<img width=\"10%\" alt=\"Naas\" src=\"https://landen.imgix.net/jtci2pxwjczr/assets/5ice39g4.png?w=160\"/>"
   ]
  },
  {
   "cell_type": "markdown",
   "id": "62a5985a",
   "metadata": {
    "papermill": {},
    "tags": []
   },
   "source": [
    "# OpenPIV - Openpiv-python-template\n",
    "<a href=\"https://app.naas.ai/user-redirect/naas/downloader?url=https://raw.githubusercontent.com/jupyter-naas/awesome-notebooks/master/OpenPIV/openpiv-python-template.ipynb\" target=\"_parent\"><img src=\"https://naasai-public.s3.eu-west-3.amazonaws.com/Open_in_Naas_Lab.svg\"/></a><br><br><a href=\"https://github.com/jupyter-naas/awesome-notebooks/issues/new?assignees=&labels=&template=template-request.md&title=Tool+-+Action+of+the+notebook+\">Template request</a> | <a href=\"https://github.com/jupyter-naas/awesome-notebooks/issues/new?assignees=&labels=bug&template=bug_report.md&title=OpenPIV+-+Openpiv-python-template:+Error+short+description\">Bug report</a> | <a href=\"https://app.naas.ai/user-redirect/naas/downloader?url=https://raw.githubusercontent.com/jupyter-naas/awesome-notebooks/master/Naas/Naas_Start_data_product.ipynb\" target=\"_parent\">Generate Data Product</a>"
   ]
  },
  {
   "cell_type": "markdown",
   "id": "dbac855f",
   "metadata": {
    "papermill": {},
    "tags": []
   },
   "source": [
    "**Tags:** #piv #openpiv #fluidmechanics #openpiv-python"
   ]
  },
  {
   "cell_type": "markdown",
   "id": "348f87d0",
   "metadata": {
    "papermill": {},
    "tags": []
   },
   "source": [
    "**Author:** [Alex Liberzon](https://www.linkedin.com/in/alexliberzon/)"
   ]
  },
  {
   "cell_type": "markdown",
   "id": "naas-description",
   "metadata": {
    "papermill": {},
    "tags": [
     "description"
    ]
   },
   "source": [
    "**Description:** This notebook provides a template for using the open source Python library OpenPIV to analyze particle image velocimetry data."
   ]
  },
  {
   "cell_type": "markdown",
   "id": "5066744e",
   "metadata": {
    "papermill": {},
    "tags": []
   },
   "source": [
    "## Input"
   ]
  },
  {
   "cell_type": "code",
   "execution_count": 3,
   "id": "eb777fe5",
   "metadata": {
    "papermill": {},
    "tags": []
   },
   "outputs": [],
   "source": [
    "%%pip install git+https://github.com/openpiv/openpiv-python\n",
    "%pip install ipywidgets"
   ]
  },
  {
   "cell_type": "markdown",
   "id": "3fbe33f7",
   "metadata": {
    "papermill": {},
    "tags": []
   },
   "source": [
    "### Import what is necessary from OpenPIV"
   ]
  },
  {
   "cell_type": "code",
   "execution_count": 4,
   "id": "863f56ed",
   "metadata": {
    "papermill": {},
    "tags": []
   },
   "outputs": [],
   "source": [
    "from openpiv import tools, validation, filters, scaling, pyprocess\n",
    "import numpy as np\n",
    "import matplotlib.pyplot as plt\n",
    "%matplotlib inline\n",
    "from IPython.display import display\n",
    "from ipywidgets import interact_manual, interactive, fixed, IntSlider, HBox, VBox, Layout"
   ]
  },
  {
   "cell_type": "markdown",
   "id": "c0e40a69",
   "metadata": {
    "papermill": {},
    "tags": []
   },
   "source": [
    "### Read a pair of PIV images"
   ]
  },
  {
   "cell_type": "code",
   "execution_count": 5,
   "id": "b636a003",
   "metadata": {
    "papermill": {},
    "tags": []
   },
   "outputs": [],
   "source": [
    "frame_a = tools.imread(\"./img/exp1_001_b.bmp\")\n",
    "frame_b = tools.imread(\"./img/exp1_001_c.bmp\")"
   ]
  },
  {
   "cell_type": "markdown",
   "id": "9228b2aa",
   "metadata": {
    "papermill": {},
    "tags": []
   },
   "source": [
    "### Show them using matplotlib"
   ]
  },
  {
   "cell_type": "code",
   "execution_count": 6,
   "id": "70d6f120",
   "metadata": {
    "papermill": {},
    "tags": []
   },
   "outputs": [],
   "source": [
    "fig, ax = plt.subplots(1, 2, figsize=(10, 8))\n",
    "ax[0].imshow(frame_a, cmap=plt.cm.gray)\n",
    "ax[1].imshow(frame_b, cmap=plt.cm.gray)"
   ]
  },
  {
   "cell_type": "markdown",
   "id": "921c7a5a",
   "metadata": {
    "papermill": {},
    "tags": []
   },
   "source": [
    "## Model"
   ]
  },
  {
   "cell_type": "markdown",
   "id": "2ffa6744",
   "metadata": {
    "papermill": {},
    "tags": []
   },
   "source": [
    "### Define the PIV analysis parameters\n",
    "\n",
    "1. Size of the interrogation window in frame A (winsize), \n",
    "2. Size of the search window in frame B (searchsize is larger or equal to winsize), \n",
    "3. overlap between the neighbouring windows (overlap), \n",
    "4. time interval of the PIV recording ($\\Delta t$)\n",
    "5. type of the peak quality (signal-to-noise ratio)"
   ]
  },
  {
   "cell_type": "code",
   "execution_count": 7,
   "id": "cd320bb7",
   "metadata": {
    "papermill": {},
    "tags": []
   },
   "outputs": [],
   "source": [
    "winsize = 32  # pixels, interrogation window size in frame A\n",
    "searchsize = 40  # pixels, search in image B\n",
    "overlap = 12  # pixels, 50% overlap\n",
    "dt = 0.02  # sec, time interval between pulses"
   ]
  },
  {
   "cell_type": "markdown",
   "id": "8261a817",
   "metadata": {
    "papermill": {},
    "tags": []
   },
   "source": [
    "### Run the OpenPIV (fast code, precompiled in Cython)"
   ]
  },
  {
   "cell_type": "code",
   "execution_count": 8,
   "id": "b796a1b3",
   "metadata": {
    "papermill": {},
    "tags": []
   },
   "outputs": [],
   "source": [
    "u0, v0, sig2noise = pyprocess.extended_search_area_piv(\n",
    "    frame_a.astype(np.int32),\n",
    "    frame_b.astype(np.int32),\n",
    "    window_size=winsize,\n",
    "    overlap=overlap,\n",
    "    dt=dt,\n",
    "    search_area_size=searchsize,\n",
    "    sig2noise_method=\"peak2peak\",\n",
    ")"
   ]
  },
  {
   "cell_type": "markdown",
   "id": "7c9e4fc0",
   "metadata": {
    "papermill": {},
    "tags": []
   },
   "source": [
    "### Get a list of coordinates for the vector field"
   ]
  },
  {
   "cell_type": "code",
   "execution_count": 9,
   "id": "75e91a37",
   "metadata": {
    "papermill": {},
    "tags": []
   },
   "outputs": [],
   "source": [
    "x, y = pyprocess.get_coordinates(\n",
    "    image_size=frame_a.shape, search_area_size=searchsize, overlap=overlap\n",
    ")"
   ]
  },
  {
   "cell_type": "markdown",
   "id": "75786542",
   "metadata": {
    "papermill": {},
    "tags": []
   },
   "source": [
    "### Clean the peaks that are below a quality threshold"
   ]
  },
  {
   "cell_type": "code",
   "execution_count": 10,
   "id": "e044edf1",
   "metadata": {
    "papermill": {},
    "tags": []
   },
   "outputs": [],
   "source": [
    "u1, v1, flags = validation.sig2noise_val(u0, v0, sig2noise, threshold=1.05)\n",
    "# if you need more detailed look, first create a histogram of sig2noise\n",
    "# plt.hist(sig2noise.flatten())\n",
    "# to see where is a reasonable limit"
   ]
  },
  {
   "cell_type": "markdown",
   "id": "0cb4c371",
   "metadata": {
    "papermill": {},
    "tags": []
   },
   "source": [
    "### Replace those that are masked as bad vectors with local interpolation"
   ]
  },
  {
   "cell_type": "code",
   "execution_count": 11,
   "id": "4a39ed28",
   "metadata": {
    "papermill": {},
    "tags": []
   },
   "outputs": [],
   "source": [
    "# filter out outliers that are very different from the\n",
    "# neighbours\n",
    "\n",
    "u2, v2 = filters.replace_outliers(u1, v1, method=\"localmean\", max_iter=3, kernel_size=3)"
   ]
  },
  {
   "cell_type": "markdown",
   "id": "d146990e",
   "metadata": {
    "papermill": {},
    "tags": []
   },
   "source": [
    "### Scale the results from pix/dt to mm/sec"
   ]
  },
  {
   "cell_type": "code",
   "execution_count": 12,
   "id": "cbec9d7c",
   "metadata": {
    "papermill": {},
    "tags": []
   },
   "outputs": [],
   "source": [
    "# convert x,y to mm\n",
    "# convert u,v to mm/sec\n",
    "\n",
    "x, y, u3, v3 = scaling.uniform(\n",
    "    x, y, u2, v2, scaling_factor=96.52\n",
    ")  # 96.52 microns/pixel\n",
    "\n",
    "# 0,0 shall be bottom left, positive rotation rate is counterclockwise\n",
    "x, y, u3, v3 = tools.transform_coordinates(x, y, u3, v3)"
   ]
  },
  {
   "cell_type": "code",
   "execution_count": 13,
   "id": "d1d33418",
   "metadata": {
    "papermill": {},
    "tags": []
   },
   "outputs": [],
   "source": [
    "# mask the results on place of flags\n",
    "u3 = np.where(flags, 0, u3)\n",
    "v3 = np.where(flags, 0, v3)"
   ]
  },
  {
   "cell_type": "markdown",
   "id": "504c726d",
   "metadata": {
    "papermill": {},
    "tags": []
   },
   "source": [
    "## Output"
   ]
  },
  {
   "cell_type": "markdown",
   "id": "e8efb142",
   "metadata": {
    "papermill": {},
    "tags": []
   },
   "source": [
    "### store the result in a text file"
   ]
  },
  {
   "cell_type": "code",
   "execution_count": 14,
   "id": "9fceffcc",
   "metadata": {
    "papermill": {},
    "tags": []
   },
   "outputs": [],
   "source": [
    "# save in the simple ASCII table format\n",
    "tools.save(x, y, u3, v3, flags, \"exp1_001.txt\")"
   ]
  },
  {
   "cell_type": "markdown",
   "id": "da128a39",
   "metadata": {
    "papermill": {},
    "tags": []
   },
   "source": [
    "### plot the data stored in the text file"
   ]
  },
  {
   "cell_type": "code",
   "execution_count": 15,
   "id": "ac5c2b56",
   "metadata": {
    "papermill": {},
    "tags": []
   },
   "outputs": [],
   "source": [
    "fig, ax = plt.subplots(figsize=(8, 8))\n",
    "tools.display_vector_field(\n",
    "    \"exp1_001.txt\",\n",
    "    ax=ax,\n",
    "    scaling_factor=96.52,\n",
    "    scale=50,  # scale defines here the arrow length\n",
    "    width=0.0035,  # width is the thickness of the arrow\n",
    "    on_img=True,  # overlay on the image\n",
    "    image_name=\"./img/exp1_001_b.bmp\",\n",
    ")"
   ]
  },
  {
   "cell_type": "markdown",
   "id": "d01a894e",
   "metadata": {
    "papermill": {},
    "tags": []
   },
   "source": [
    "### Another example\n",
    "#### Use any pair of images that you can access via URL\n",
    "For instance we can use images from PIV Challenge http://www.pivchallenge.org/"
   ]
  },
  {
   "cell_type": "code",
   "execution_count": 16,
   "id": "0aed1ad3",
   "metadata": {
    "papermill": {},
    "tags": []
   },
   "outputs": [],
   "source": [
    "frame_a = tools.imread(\"http://www.pivchallenge.org/pub/B/B001_1.tif\")\n",
    "frame_b = tools.imread(\"http://www.pivchallenge.org/pub/B/B001_2.tif\")\n",
    "fig, ax = plt.subplots(1, 2, figsize=(10, 8))\n",
    "ax[0].imshow(frame_a, cmap=plt.cm.gray)\n",
    "ax[1].imshow(frame_b, cmap=plt.cm.gray)"
   ]
  },
  {
   "cell_type": "code",
   "execution_count": 17,
   "id": "bcc29677",
   "metadata": {
    "papermill": {},
    "tags": []
   },
   "outputs": [],
   "source": [
    "winsize = 32  # pixels\n",
    "searchsize = 64  # pixels, search in image B\n",
    "overlap = 16  # pixels\n",
    "dt = 1.0  # sec\n",
    "u0, v0, sig2noise = pyprocess.extended_search_area_piv(\n",
    "    frame_a.astype(np.int32),\n",
    "    frame_b.astype(np.int32),\n",
    "    window_size=winsize,\n",
    "    overlap=overlap,\n",
    "    dt=dt,\n",
    "    search_area_size=searchsize,\n",
    "    sig2noise_method=\"peak2peak\",\n",
    ")\n",
    "x, y = pyprocess.get_coordinates(\n",
    "    image_size=frame_a.shape, search_area_size=searchsize, overlap=overlap\n",
    ")\n",
    "u, v, mask = validation.sig2noise_val(u0, v0, sig2noise, threshold=1.1)\n",
    "u, v = filters.replace_outliers(u, v, method=\"localmean\", max_iter=10, kernel_size=2)\n",
    "# x, y, u, v = scaling.uniform(x, y, u, v, scaling_factor = 96.52 )\n",
    "\n",
    "plt.figure(figsize=(10, 8))\n",
    "plt.quiver(x, y, u, v, color=\"b\")\n",
    "plt.quiver(x[mask], y[mask], u[mask], v[mask], color=\"r\")"
   ]
  },
  {
   "cell_type": "markdown",
   "id": "d68c3c05",
   "metadata": {
    "papermill": {},
    "tags": []
   },
   "source": [
    "### Simplest possible run using `openpiv.piv.simple_piv`"
   ]
  },
  {
   "cell_type": "code",
   "execution_count": 18,
   "id": "0afa5b98",
   "metadata": {
    "papermill": {},
    "tags": []
   },
   "outputs": [],
   "source": [
    "from openpiv import piv, tools\n",
    "\n",
    "x, y, u, v, s2n = piv.simple_piv(frame_a, frame_b, plot=True)"
   ]
  },
  {
   "cell_type": "markdown",
   "id": "6e485ce7",
   "metadata": {
    "papermill": {},
    "tags": []
   },
   "source": [
    "### How to use IpyWidgets to get an interactive GUI\n",
    "### Import ipywidgets \n",
    "read more about those on https://ipywidgets.readthedocs.io/en/stable/index.html"
   ]
  },
  {
   "cell_type": "code",
   "execution_count": 19,
   "id": "31f8b59b",
   "metadata": {
    "papermill": {},
    "tags": []
   },
   "outputs": [],
   "source": [
    "from ipywidgets import interact, interactive, fixed, interact_manual"
   ]
  },
  {
   "cell_type": "code",
   "execution_count": 20,
   "id": "d6577c1f",
   "metadata": {
    "papermill": {},
    "tags": []
   },
   "outputs": [],
   "source": [
    "def func(winsize, overlap, searchsize, s2n_method, s2n_threshold):\n",
    "    if overlap >= winsize:\n",
    "        overlap -= 1\n",
    "\n",
    "    u, v, sig2noise = pyprocess.extended_search_area_piv(\n",
    "        frame_a.astype(np.int32),\n",
    "        frame_b.astype(np.int32),\n",
    "        window_size=winsize,\n",
    "        overlap=overlap,\n",
    "        dt=dt,\n",
    "        search_area_size=searchsize,\n",
    "        sig2noise_method=s2n_method,\n",
    "    )\n",
    "    x, y = pyprocess.get_coordinates(\n",
    "        image_size=frame_a.shape, search_area_size=searchsize, overlap=overlap\n",
    "    )\n",
    "    u, v, mask = validation.sig2noise_val(u, v, sig2noise, threshold=s2n_threshold)\n",
    "    u, v = filters.replace_outliers(\n",
    "        u, v, method=\"localmean\", max_iter=10, kernel_size=2\n",
    "    )\n",
    "    plt.figure(figsize=(10, 8))\n",
    "    plt.quiver(x, y, u, v, color=\"b\")\n",
    "    plt.quiver(x[mask], y[mask], u[mask], v[mask], color=\"r\")"
   ]
  },
  {
   "cell_type": "markdown",
   "id": "fc43c05b",
   "metadata": {
    "papermill": {},
    "tags": []
   },
   "source": [
    "### Press Run interact to get PIV output for the values in the list "
   ]
  },
  {
   "cell_type": "code",
   "execution_count": 21,
   "id": "232ad7fd",
   "metadata": {
    "papermill": {},
    "tags": []
   },
   "outputs": [],
   "source": [
    "def run():\n",
    "    interact_manual(\n",
    "        func,\n",
    "        winsize=[32, 8, 16, 64, 128],\n",
    "        overlap=[16, 8, 32, 64],\n",
    "        searchsize=[64, 16, 32, 128, 256],\n",
    "        s2n_method=[\"peak2peak\", \"peak2mean\"],\n",
    "        s2n_threshold=(1.0, 1.5, 0.05),\n",
    "    )"
   ]
  },
  {
   "cell_type": "code",
   "execution_count": 22,
   "id": "ab9425c1",
   "metadata": {
    "papermill": {},
    "tags": []
   },
   "outputs": [],
   "source": [
    "run()"
   ]
  },
  {
   "cell_type": "markdown",
   "id": "3019ac0c",
   "metadata": {
    "papermill": {},
    "tags": []
   },
   "source": [
    "### Let's say you want this GIF motion from the excellent JPIV website "
   ]
  },
  {
   "cell_type": "code",
   "execution_count": 23,
   "id": "76074088",
   "metadata": {
    "papermill": {},
    "tags": []
   },
   "outputs": [],
   "source": [
    "from IPython.display import Image\n",
    "\n",
    "Image(url=\"https://eguvep.github.io/jpiv/fig/bode.gif\")"
   ]
  },
  {
   "cell_type": "code",
   "execution_count": 24,
   "id": "bb9328d8",
   "metadata": {
    "papermill": {},
    "tags": []
   },
   "outputs": [],
   "source": [
    "# read it:\n",
    "import imageio\n",
    "\n",
    "gif = imageio.get_reader(\"https://eguvep.github.io/jpiv/fig/bode.gif\")"
   ]
  },
  {
   "cell_type": "code",
   "execution_count": 25,
   "id": "796c15e4",
   "metadata": {
    "papermill": {},
    "tags": []
   },
   "outputs": [],
   "source": [
    "frames = []\n",
    "for frame in gif:\n",
    "    frames.append(frame)"
   ]
  },
  {
   "cell_type": "code",
   "execution_count": 26,
   "id": "b2ce74ec",
   "metadata": {
    "papermill": {},
    "tags": []
   },
   "outputs": [],
   "source": [
    "# convert to gray scale\n",
    "from skimage import img_as_uint\n",
    "\n",
    "# frame_a = img_as_uint(gif[0])\n",
    "# frame_b = img_as_uint(gif[1])\n",
    "\n",
    "frame_a = frames[0][:, :, 2]\n",
    "frame_b = frames[1][:, :, 2]"
   ]
  },
  {
   "cell_type": "code",
   "execution_count": 27,
   "id": "7019d277",
   "metadata": {
    "papermill": {},
    "tags": []
   },
   "outputs": [],
   "source": [
    "# see if this is what you want\n",
    "plt.figure()\n",
    "plt.imshow(frame_a, cmap=plt.cm.gray)"
   ]
  },
  {
   "cell_type": "raw",
   "id": "5caaf6c9",
   "metadata": {
    "papermill": {},
    "tags": []
   },
   "source": [
    "def run():\n",
    "    w = interactive(func,winsize=[64,8,16,64,128],\n",
    "                overlap=[32,8,32,64], \n",
    "                searchsize=[64,16,32,128,256],\n",
    "                s2n_method=['peak2peak','peak2mean'],\n",
    "                s2n_threshold=(1,1.5,.1));\n",
    "    box_layout = Layout(display='flex', flex_flow='row', justify_content='space-between', align_items='flex-start')\n",
    "    par = VBox([_ for _ in w.children[:-1]])\n",
    "    display(HBox([w.children[-1],par], layout=box_layout))"
   ]
  },
  {
   "cell_type": "code",
   "execution_count": 28,
   "id": "f1975199",
   "metadata": {
    "papermill": {},
    "tags": []
   },
   "outputs": [],
   "source": [
    "def run():\n",
    "    interact_manual(\n",
    "        func,\n",
    "        winsize=[32, 8, 16, 64, 128],\n",
    "        overlap=[16, 8, 32, 64],\n",
    "        searchsize=[64, 16, 32, 128, 256],\n",
    "        s2n_method=[\"peak2peak\", \"peak2mean\"],\n",
    "        s2n_threshold=(1.0, 1.5, 0.05),\n",
    "    )"
   ]
  },
  {
   "cell_type": "code",
   "execution_count": 29,
   "id": "40faa223",
   "metadata": {
    "papermill": {},
    "tags": []
   },
   "outputs": [],
   "source": [
    "run()"
   ]
  },
  {
   "cell_type": "code",
   "execution_count": null,
   "id": "9119338d",
   "metadata": {
    "papermill": {},
    "tags": []
   },
   "outputs": [],
   "source": []
  }
 ],
 "metadata": {
  "kernelspec": {
   "display_name": "Python 3.8.10 64-bit",
   "language": "python",
   "name": "python3"
  },
  "language_info": {
   "codemirror_mode": {
    "name": "ipython",
    "version": 3
   },
   "file_extension": ".py",
   "mimetype": "text/x-python",
   "name": "python",
   "nbconvert_exporter": "python",
   "pygments_lexer": "ipython3",
   "version": "3.8.10"
  },
  "naas": {
   "notebook_id": "bdebeee1fe5060091a5671ca9ea02112b9539ad2f8e26b584f668c3339c30745",
   "notebook_path": "OpenPIV/openpiv-python-template.ipynb"
  },
  "papermill": {
   "default_parameters": {},
   "environment_variables": {},
   "parameters": {},
   "version": "2.4.0"
  },
  "vscode": {
   "interpreter": {
    "hash": "31f2aee4e71d21fbe5cf8b01ff0e069b9275f58929596ceb00d14d90e3e16cd6"
   }
  }
 },
 "nbformat": 4,
 "nbformat_minor": 5
}