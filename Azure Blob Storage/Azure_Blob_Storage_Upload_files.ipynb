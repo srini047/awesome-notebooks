{
 "cells": [
  {
   "cell_type": "markdown",
   "id": "d96e2193-10fd-4527-9bce-3d26318161f6",
   "metadata": {
    "execution": {
     "iopub.execute_input": "2022-11-23T08:17:33.935072Z",
     "iopub.status.busy": "2022-11-23T08:17:33.934810Z",
     "iopub.status.idle": "2022-11-23T08:17:33.951060Z",
     "shell.execute_reply": "2022-11-23T08:17:33.950142Z",
     "shell.execute_reply.started": "2022-11-23T08:17:33.935009Z"
    },
    "papermill": {},
    "tags": []
   },
   "source": [
    "<img width=\"10%\" alt=\"Naas\" src=\"https://landen.imgix.net/jtci2pxwjczr/assets/5ice39g4.png?w=160\"/>"
   ]
  },
  {
   "cell_type": "markdown",
   "id": "78d911b9-d102-4ba3-ae8f-e45be2200113",
   "metadata": {
    "execution": {
     "iopub.execute_input": "2022-11-23T08:23:40.429667Z",
     "iopub.status.busy": "2022-11-23T08:23:40.429431Z",
     "iopub.status.idle": "2022-11-23T08:23:40.432498Z",
     "shell.execute_reply": "2022-11-23T08:23:40.431872Z",
     "shell.execute_reply.started": "2022-11-23T08:23:40.429645Z"
    },
    "papermill": {},
    "tags": []
   },
   "source": [
    "# Azure Blob Storage - Upload files\n",
    "<a href=\"https://app.naas.ai/user-redirect/naas/downloader?url=https://raw.githubusercontent.com/jupyter-naas/awesome-notebooks/master/Azure%20Blob%20Storage/Azure_Blob_Storage_Upload_files.ipynb\" target=\"_parent\"><img src=\"https://naasai-public.s3.eu-west-3.amazonaws.com/open_in_naas.svg\"/></a><br><br><a href=\"https://github.com/jupyter-naas/awesome-notebooks/issues/new?assignees=&labels=&template=template-request.md&title=Tool+-+Action+of+the+notebook+\">Template request</a> | <a href=\"https://github.com/jupyter-naas/awesome-notebooks/issues/new?assignees=&labels=bug&template=bug_report.md&title=Azure+Blob+Storage+-+Upload+files:+Error+short+description\">Bug report</a>"
   ]
  },
  {
   "cell_type": "markdown",
   "id": "6d31b685-0742-4f72-b20f-af3b42e37ec4",
   "metadata": {
    "papermill": {},
    "tags": []
   },
   "source": [
    "**Tags:** #azure #datalake #naas #snippet"
   ]
  },
  {
   "cell_type": "markdown",
   "id": "aa9e8991-7294-4c7e-bf8d-db01e5cbc8f9",
   "metadata": {
    "execution": {
     "iopub.execute_input": "2022-11-23T08:25:09.278021Z",
     "iopub.status.busy": "2022-11-23T08:25:09.277728Z",
     "iopub.status.idle": "2022-11-23T08:25:09.289147Z",
     "shell.execute_reply": "2022-11-23T08:25:09.288254Z",
     "shell.execute_reply.started": "2022-11-23T08:25:09.277990Z"
    },
    "papermill": {},
    "tags": []
   },
   "source": [
    "**Author:** [Alexandre Stevens](https://www.linkedin.com/in/) <br>"
   ]
  },
  {
   "cell_type": "markdown",
   "id": "dc12601c-5b05-4cd0-bcb9-30e53442ed58",
   "metadata": {
    "papermill": {},
    "tags": []
   },
   "source": [
    "**Description:** This notebook explains how to upload files to Azure Blob Storage using the Azure Python SDK."
   ]
  },
  {
   "cell_type": "markdown",
   "id": "333f7e67-7132-45fb-9649-6703f584c61c",
   "metadata": {
    "papermill": {},
    "tags": []
   },
   "source": [
    "## Input"
   ]
  },
  {
   "cell_type": "markdown",
   "id": "9d9be028-bc21-40cc-a4ab-7d6a92092624",
   "metadata": {
    "papermill": {},
    "tags": []
   },
   "source": [
    "### Import libraries\n",
    "In order to update a file into Azure blob storage in Python, you will need to use the Azure Storage SDK for Python."
   ]
  },
  {
   "cell_type": "code",
   "execution_count": null,
   "id": "f30cd1fc-f04e-4a97-89ff-4b3bec8da13b",
   "metadata": {
    "papermill": {},
    "tags": []
   },
   "outputs": [],
   "source": [
    "try:\n",
    "    from azure.storage.blob import BlobServiceClient\n",
    "    from azure.storage.blob import ContentSettings\n",
    "except ImportError:\n",
    "    !pip install azure-storage-blob --user\n",
    "    !pip install azure-keyvault-secrets --user\n",
    "    !pip install azure-mgmt-resource --user\n",
    "    !pip install azure-mgmt-storage --user\n",
    "    !pip install azure-mgmt-compute --user\n",
    "    from azure.storage.blob import BlobServiceClient\n",
    "    from azure.storage.blob import ContentSettings"
   ]
  },
  {
   "cell_type": "markdown",
   "id": "31d30fe2-51cc-4a91-a0bc-d56541fe6172",
   "metadata": {
    "execution": {
     "iopub.execute_input": "2023-01-31T08:05:20.898916Z",
     "iopub.status.busy": "2023-01-31T08:05:20.898696Z",
     "iopub.status.idle": "2023-01-31T08:05:20.901756Z",
     "shell.execute_reply": "2023-01-31T08:05:20.901118Z",
     "shell.execute_reply.started": "2023-01-31T08:05:20.898890Z"
    },
    "papermill": {},
    "tags": []
   },
   "source": [
    "### Setup Variables\n",
    "- ACCOUNT_URL: Your account url in azure blob storage, example: 'https://yourproject.blob.core.windows.net'\n",
    "- KEY_ACCOUNT: Your Azure credentials, To get access please follow the procedure [here](https://learn.microsoft.com/en-us/azure/storage/common/storage-account-keys-manage?tabs=azure-portal)\n",
    "- CONTAINER_NAME: Container name in your Azure project where files will be store\n",
    "- FILE_NAME: Name of the file in your container\n",
    "- UPLOAD_FILE_PATH: File to be uploaded"
   ]
  },
  {
   "cell_type": "code",
   "execution_count": null,
   "id": "62884a1f-bfd7-41e0-b351-f23a61d58481",
   "metadata": {
    "papermill": {},
    "tags": []
   },
   "outputs": [],
   "source": [
    "# Connect to your storage account\n",
    "ACCOUNT_URL = \"https://yourproject.blob.core.windows.net\"\n",
    "KEY_ACCOUNT = \"########\"\n",
    "CONTAINER_NAME = \"container_name\"\n",
    "FILE_NAME = \"file_name.csv\"\n",
    "\n",
    "# File to be uploaded\n",
    "UPLOAD_FILE_PATH = \"../outputs/filename.csv\""
   ]
  },
  {
   "cell_type": "markdown",
   "id": "624f424f-b627-479e-9efa-95edb72d9bfe",
   "metadata": {
    "papermill": {},
    "tags": []
   },
   "source": [
    "## Model"
   ]
  },
  {
   "cell_type": "markdown",
   "id": "6e510b06-4049-4db3-a4e0-8d6775f02f62",
   "metadata": {
    "execution": {
     "iopub.execute_input": "2023-01-31T08:08:19.141522Z",
     "iopub.status.busy": "2023-01-31T08:08:19.141302Z",
     "iopub.status.idle": "2023-01-31T08:08:19.145263Z",
     "shell.execute_reply": "2023-01-31T08:08:19.144731Z",
     "shell.execute_reply.started": "2023-01-31T08:08:19.141499Z"
    },
    "papermill": {},
    "tags": []
   },
   "source": [
    "### Create a BlobServiceClient using the connection string"
   ]
  },
  {
   "cell_type": "code",
   "execution_count": null,
   "id": "cc2ab7c6-3493-4ac2-8b1d-07657a4f418e",
   "metadata": {
    "papermill": {},
    "tags": []
   },
   "outputs": [],
   "source": [
    "# Create a BlobServiceClient using the connection string\n",
    "blob_service_client = BlobServiceClient(account_url=ACCOUNT_URL, credential=KEY_ACCOUNT)"
   ]
  },
  {
   "cell_type": "markdown",
   "id": "267ca675-61c6-499d-9889-b5fd6d1c3f52",
   "metadata": {
    "papermill": {},
    "tags": []
   },
   "source": [
    "### Create a ContainerClient"
   ]
  },
  {
   "cell_type": "code",
   "execution_count": null,
   "id": "a35a81fc-3321-4a2d-91f0-7940de22ad08",
   "metadata": {
    "papermill": {},
    "tags": []
   },
   "outputs": [],
   "source": [
    "# Create a ContainerClient\n",
    "blob_client = blob_service_client.get_blob_client(\n",
    "    container=CONTAINER_NAME, blob=FILE_NAME\n",
    ")"
   ]
  },
  {
   "cell_type": "markdown",
   "id": "a7680113-8a79-49bf-b3b4-55d80f859d7a",
   "metadata": {
    "papermill": {},
    "tags": []
   },
   "source": [
    "## Output"
   ]
  },
  {
   "cell_type": "markdown",
   "id": "000352dc-70a1-475b-a756-973dd74327eb",
   "metadata": {
    "papermill": {},
    "tags": []
   },
   "source": [
    "### Upload the file to the container"
   ]
  },
  {
   "cell_type": "code",
   "execution_count": null,
   "id": "fb2b510b-2acb-48f3-9e26-e1e656732bf1",
   "metadata": {
    "papermill": {},
    "tags": []
   },
   "outputs": [],
   "source": [
    "with open(file=UPLOAD_FILE_PATH, mode=\"rb\") as data:\n",
    "    blob_client.upload_blob(data, overwrite=True)\n",
    "print(\"File has been uploaded to Azure Blob Storage\")"
   ]
  }
 ],
 "metadata": {
  "kernelspec": {
   "display_name": "Python 3",
   "language": "python",
   "name": "python3"
  },
  "language_info": {
   "codemirror_mode": {
    "name": "ipython",
    "version": 3
   },
   "file_extension": ".py",
   "mimetype": "text/x-python",
   "name": "python",
   "nbconvert_exporter": "python",
   "pygments_lexer": "ipython3",
   "version": "3.9.6"
  },
  "papermill": {
   "default_parameters": {},
   "environment_variables": {},
   "parameters": {},
   "version": "2.4.0"
  }
 },
 "nbformat": 4,
 "nbformat_minor": 5
}