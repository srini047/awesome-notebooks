{
 "cells": [
  {
   "cell_type": "markdown",
   "id": "dbfe669a",
   "metadata": {
    "execution": {
     "iopub.execute_input": "2021-02-23T14:22:16.610471Z",
     "iopub.status.busy": "2021-02-23T14:22:16.610129Z",
     "iopub.status.idle": "2021-02-23T14:22:16.627784Z",
     "shell.execute_reply": "2021-02-23T14:22:16.626866Z",
     "shell.execute_reply.started": "2021-02-23T14:22:16.610384Z"
    },
    "papermill": {},
    "tags": []
   },
   "source": [
    "<img width=\"10%\" alt=\"Naas\" src=\"https://landen.imgix.net/jtci2pxwjczr/assets/5ice39g4.png?w=160\"/>"
   ]
  },
  {
   "cell_type": "markdown",
   "id": "5bbfcea2",
   "metadata": {
    "papermill": {},
    "tags": []
   },
   "source": [
    "# Instagram - Get stats from posts\n",
    "<a href=\"https://app.naas.ai/user-redirect/naas/downloader?url=https://raw.githubusercontent.com/jupyter-naas/awesome-notebooks/master/Instagram/Instagram_Get_stats_from_posts.ipynb\" target=\"_parent\"><img src=\"https://naasai-public.s3.eu-west-3.amazonaws.com/Open_in_Naas_Lab.svg\"/></a><br><br><a href=\"https://github.com/jupyter-naas/awesome-notebooks/issues/new?assignees=&labels=&template=template-request.md&title=Tool+-+Action+of+the+notebook+\">Template request</a> | <a href=\"https://github.com/jupyter-naas/awesome-notebooks/issues/new?assignees=&labels=bug&template=bug_report.md&title=Instagram+-+Get+stats+from+posts:+Error+short+description\">Bug report</a> | <a href=\"https://app.naas.ai/user-redirect/naas/downloader?url=https://raw.githubusercontent.com/jupyter-naas/awesome-notebooks/master/Naas/Naas_Start_data_product.ipynb\" target=\"_parent\">Generate Data Product</a>"
   ]
  },
  {
   "cell_type": "markdown",
   "id": "394838ed",
   "metadata": {
    "papermill": {},
    "tags": []
   },
   "source": [
    "**Tags:** #instagram #snippet #dataframe #content"
   ]
  },
  {
   "cell_type": "markdown",
   "id": "370242e8",
   "metadata": {
    "papermill": {},
    "tags": []
   },
   "source": [
    "**Author:** [Mohamed Abidi](https://www.linkedin.com/in/mohamed-abidi-919505192/)"
   ]
  },
  {
   "cell_type": "markdown",
   "id": "naas-description",
   "metadata": {
    "papermill": {},
    "tags": [
     "description"
    ]
   },
   "source": [
    "**Description:** This notebook provides an easy way to analyze Instagram posts and gain insights into their performance."
   ]
  },
  {
   "cell_type": "markdown",
   "id": "de96f02c",
   "metadata": {
    "papermill": {},
    "tags": []
   },
   "source": [
    "## Input"
   ]
  },
  {
   "cell_type": "markdown",
   "id": "93bc8174",
   "metadata": {
    "papermill": {},
    "tags": []
   },
   "source": [
    "### Import libraries"
   ]
  },
  {
   "cell_type": "code",
   "execution_count": 9,
   "id": "74970edf",
   "metadata": {
    "papermill": {},
    "tags": []
   },
   "outputs": [],
   "source": [
    "import requests\n",
    "import json\n",
    "import datetime\n",
    "import pandas as pd"
   ]
  },
  {
   "cell_type": "markdown",
   "id": "1e4135fa",
   "metadata": {
    "papermill": {},
    "tags": []
   },
   "source": [
    "### Setup Instagram \n",
    "Once you’ve made an Instagram Business Account, you need to make developer account in [Meta for developers](https://developers.facebook.com/)\n",
    "After that, you need to make an app first to access insight data from Instagram. Your app type will determine which APIs are available to you.\n",
    "\n",
    "Here below you will find every parameters you need to have before running your notebook : \n",
    "\n",
    "    - Access_token: short-lived access token that we got directly before we start writing our code\n",
    "    - Client_id: App ID from Settings\n",
    "    - Client_secret: App Secret from Settings\n",
    "    - Page_id: Facebook Page ID from your business page’s ‘About’ tab\n",
    "    - Instagram_account_id: shown during confirmation to generate token process\n",
    "    \n",
    "Permissions to ask for when generating a token:\n",
    "- pages_show_list\n",
    "- instagram_basic\n",
    "- instagram_content_publish\n",
    "- pages_read_engagement\n",
    "- public_profile"
   ]
  },
  {
   "cell_type": "code",
   "execution_count": null,
   "id": "af446611",
   "metadata": {
    "papermill": {},
    "tags": []
   },
   "outputs": [],
   "source": [
    "access_token = \"\"\n",
    "client_id = \"\"\n",
    "client_secret = \"\"\n",
    "page_id = \"\"\n",
    "instagram_account_id = \"\"\n",
    "ig_username = \"naaslife\""
   ]
  },
  {
   "cell_type": "markdown",
   "id": "0957e2bc",
   "metadata": {
    "papermill": {},
    "tags": []
   },
   "source": [
    "### Variables"
   ]
  },
  {
   "cell_type": "code",
   "execution_count": null,
   "id": "8f9ede3d",
   "metadata": {
    "papermill": {},
    "tags": []
   },
   "outputs": [],
   "source": [
    "params = dict()\n",
    "params[\"access_token\"] = access_token\n",
    "params[\"client_id\"] = client_id\n",
    "params[\"client_secret\"] = client_secret\n",
    "params[\"graph_domain\"] = \"https://graph.facebook.com\"\n",
    "params[\"graph_version\"] = \"v13.0\"\n",
    "params[\"endpoint_base\"] = params[\"graph_domain\"] + \"/\" + params[\"graph_version\"] + \"/\"\n",
    "params[\"page_id\"] = page_id\n",
    "params[\"instagram_account_id\"] = instagram_account_id\n",
    "params[\"ig_username\"] = ig_username"
   ]
  },
  {
   "cell_type": "markdown",
   "id": "e1b9757b",
   "metadata": {
    "papermill": {},
    "tags": []
   },
   "source": [
    "### Check the expiration date of your token"
   ]
  },
  {
   "cell_type": "code",
   "execution_count": null,
   "id": "67eab118",
   "metadata": {
    "papermill": {},
    "tags": []
   },
   "outputs": [],
   "source": [
    "# Define Endpoint Parameters\n",
    "endpointParams = dict()\n",
    "endpointParams[\"input_token\"] = params[\"access_token\"]\n",
    "endpointParams[\"access_token\"] = params[\"access_token\"]\n",
    "\n",
    "# Define URL\n",
    "url = params[\"graph_domain\"] + \"/debug_token\"\n",
    "# Requests Data\n",
    "try:\n",
    "    data = requests.get(url, endpointParams)\n",
    "    access_token_data = json.loads(data.content)\n",
    "\n",
    "except Exception as err:\n",
    "    print(err)\n",
    "\n",
    "print(\n",
    "    \"Token Expires: \",\n",
    "    datetime.datetime.fromtimestamp(access_token_data[\"data\"][\"expires_at\"]),\n",
    ")"
   ]
  },
  {
   "cell_type": "markdown",
   "id": "9829569f",
   "metadata": {
    "papermill": {},
    "tags": []
   },
   "source": [
    "## Model"
   ]
  },
  {
   "cell_type": "markdown",
   "id": "11adfd7c",
   "metadata": {
    "papermill": {},
    "tags": []
   },
   "source": [
    "### Get list of posts and associated stats"
   ]
  },
  {
   "cell_type": "code",
   "execution_count": null,
   "id": "3ff0beb9",
   "metadata": {
    "papermill": {},
    "tags": []
   },
   "outputs": [],
   "source": [
    "# Define URL\n",
    "url = params[\"endpoint_base\"] + params[\"instagram_account_id\"] + \"/media\"\n",
    "\n",
    "# Define Endpoint Parameters\n",
    "endpointParams = dict()\n",
    "endpointParams[\n",
    "    \"fields\"\n",
    "] = \"id,caption,media_type,media_url,permalink,thumbnail_url,timestamp,username,like_count,comments_count\"\n",
    "endpointParams[\"access_token\"] = params[\"access_token\"]\n",
    "\n",
    "# Requests Data\n",
    "data = requests.get(url, endpointParams)\n",
    "basic_insight = json.loads(data.content)"
   ]
  },
  {
   "cell_type": "markdown",
   "id": "14696ed5",
   "metadata": {
    "execution": {
     "iopub.execute_input": "2021-07-02T23:32:10.789097Z",
     "iopub.status.busy": "2021-07-02T23:32:10.788829Z",
     "iopub.status.idle": "2021-07-02T23:32:10.796900Z",
     "shell.execute_reply": "2021-07-02T23:32:10.796358Z",
     "shell.execute_reply.started": "2021-07-02T23:32:10.789033Z"
    },
    "papermill": {},
    "tags": []
   },
   "source": [
    "## Output"
   ]
  },
  {
   "cell_type": "markdown",
   "id": "72557a2c",
   "metadata": {
    "papermill": {},
    "tags": []
   },
   "source": [
    "### Display result"
   ]
  },
  {
   "cell_type": "code",
   "execution_count": null,
   "id": "3fd8b85f",
   "metadata": {
    "papermill": {},
    "tags": []
   },
   "outputs": [],
   "source": [
    "df = pd.DataFrame(basic_insight[\"data\"])\n",
    "df.columns = [\n",
    "    \"id\",\n",
    "    \"Caption\",\n",
    "    \"Media_Type\",\n",
    "    \"Media_URL\",\n",
    "    \"Permalink\",\n",
    "    \"Timestamp\",\n",
    "    \"Username\",\n",
    "    \"Likes\",\n",
    "    \"Comments\",\n",
    "]\n",
    "df.head()"
   ]
  }
 ],
 "metadata": {
  "kernelspec": {
   "display_name": "Python 3",
   "language": "python",
   "name": "python3"
  },
  "language_info": {
   "codemirror_mode": {
    "name": "ipython",
    "version": 3
   },
   "file_extension": ".py",
   "mimetype": "text/x-python",
   "name": "python",
   "nbconvert_exporter": "python",
   "pygments_lexer": "ipython3",
   "version": "3.9.6"
  },
  "naas": {
   "notebook_id": "8c1d59ba9fc141ddf76ab615ec70620884b5be94f4cde842bd75126ac862db52",
   "notebook_path": "Instagram/Instagram_Get_stats_from_posts.ipynb"
  },
  "papermill": {
   "default_parameters": {},
   "environment_variables": {},
   "parameters": {},
   "version": "2.3.3"
  },
  "widgets": {
   "application/vnd.jupyter.widget-state+json": {
    "state": {},
    "version_major": 2,
    "version_minor": 0
   }
  }
 },
 "nbformat": 4,
 "nbformat_minor": 5
}