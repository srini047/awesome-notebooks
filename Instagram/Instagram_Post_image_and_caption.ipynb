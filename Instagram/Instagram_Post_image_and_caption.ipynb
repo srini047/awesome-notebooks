{
 "cells": [
  {
   "cell_type": "markdown",
   "id": "rocky-cardiff",
   "metadata": {
    "papermill": {},
    "tags": []
   },
   "source": [
    "<img width=\"10%\" alt=\"Naas\" src=\"https://landen.imgix.net/jtci2pxwjczr/assets/5ice39g4.png?w=160\"/>"
   ]
  },
  {
   "cell_type": "markdown",
   "id": "judicial-headline",
   "metadata": {
    "papermill": {},
    "tags": []
   },
   "source": [
    "# Instagram - Post image and caption\n",
    "<a href=\"https://app.naas.ai/user-redirect/naas/downloader?url=https://raw.githubusercontent.com/jupyter-naas/awesome-notebooks/master/Instagram/Instagram_Post_image_and_caption.ipynb\" target=\"_parent\"><img src=\"https://naasai-public.s3.eu-west-3.amazonaws.com/open_in_naas.svg\"/></a><br><br><a href=\"https://github.com/jupyter-naas/awesome-notebooks/issues/new?assignees=&labels=&template=template-request.md&title=Tool+-+Action+of+the+notebook+\">Template request</a> | <a href=\"https://github.com/jupyter-naas/awesome-notebooks/issues/new?assignees=&labels=bug&template=bug_report.md&title=Instagram+-+Post+image+and+caption:+Error+short+description\">Bug report</a>"
   ]
  },
  {
   "cell_type": "markdown",
   "id": "1cef8cab-e783-4589-b2c4-c21ee380c773",
   "metadata": {
    "papermill": {},
    "tags": []
   },
   "source": [
    "**Tags:** #instagram #snippet #content"
   ]
  },
  {
   "cell_type": "markdown",
   "id": "naas-author",
   "metadata": {
    "papermill": {},
    "tags": [
     "naas"
    ]
   },
   "source": [
    "**Author:** [Jeremy Ravenel](https://www.linkedin.com/in/ACoAAAJHE7sB5OxuKHuzguZ9L6lfDHqw--cdnJg/)"
   ]
  },
  {
   "cell_type": "markdown",
   "id": "naas-description",
   "metadata": {
    "papermill": {},
    "tags": [
     "description"
    ]
   },
   "source": [
    "**Description:** This notebook allows users to post images and captions to their Instagram account."
   ]
  },
  {
   "cell_type": "markdown",
   "id": "input_cell",
   "metadata": {
    "papermill": {},
    "tags": []
   },
   "source": [
    "## Input"
   ]
  },
  {
   "cell_type": "markdown",
   "id": "import_cell",
   "metadata": {
    "papermill": {},
    "tags": []
   },
   "source": [
    "### Import libraries"
   ]
  },
  {
   "cell_type": "code",
   "execution_count": null,
   "id": "d40e70c0-a388-417b-a50f-c50bb82cc0b3",
   "metadata": {
    "papermill": {},
    "tags": []
   },
   "outputs": [],
   "source": [
    "try:\n",
    "    from instabot import Bot\n",
    "except:\n",
    "    pip install instabot --user\n",
    "    from instabot import Bot\n",
    "import naas"
   ]
  },
  {
   "cell_type": "markdown",
   "id": "5c3c12ca-5f3e-411a-aa54-c2b4b612a91d",
   "metadata": {
    "execution": {
     "iopub.execute_input": "2022-03-17T10:12:43.371273Z",
     "iopub.status.busy": "2022-03-17T10:12:43.371011Z",
     "iopub.status.idle": "2022-03-17T10:12:43.374551Z",
     "shell.execute_reply": "2022-03-17T10:12:43.373882Z",
     "shell.execute_reply.started": "2022-03-17T10:12:43.371208Z"
    },
    "papermill": {},
    "tags": []
   },
   "source": [
    "### Setup your Instagram"
   ]
  },
  {
   "cell_type": "code",
   "execution_count": null,
   "id": "4cf94eb2-6af5-43d5-a242-aca73e7fde8a",
   "metadata": {
    "papermill": {},
    "tags": []
   },
   "outputs": [],
   "source": [
    "# Credentials\n",
    "username = \"USERNAME\"\n",
    "password = \"PASSWORD\"\n",
    "\n",
    "# Instragram outputs\n",
    "image_path = \"demo.jpg\"\n",
    "caption = \"Naas is doing this.\""
   ]
  },
  {
   "cell_type": "markdown",
   "id": "model_cell",
   "metadata": {
    "papermill": {},
    "tags": []
   },
   "source": [
    "## Model"
   ]
  },
  {
   "cell_type": "markdown",
   "id": "5e04b21e-8ae9-4081-acc4-73f01fc39f3b",
   "metadata": {
    "papermill": {},
    "tags": []
   },
   "source": [
    "### Connect to your instagram account"
   ]
  },
  {
   "cell_type": "code",
   "execution_count": null,
   "id": "legislative-taiwan",
   "metadata": {
    "papermill": {},
    "tags": []
   },
   "outputs": [],
   "source": [
    "bot = Bot()\n",
    "bot.login(username=username, password=password)"
   ]
  },
  {
   "cell_type": "markdown",
   "id": "output_cell",
   "metadata": {
    "papermill": {},
    "tags": []
   },
   "source": [
    "## Output"
   ]
  },
  {
   "cell_type": "markdown",
   "id": "display_cell",
   "metadata": {
    "papermill": {},
    "tags": []
   },
   "source": [
    "### Upload photo"
   ]
  },
  {
   "cell_type": "code",
   "execution_count": null,
   "id": "criminal-summit",
   "metadata": {
    "papermill": {},
    "tags": []
   },
   "outputs": [],
   "source": [
    "bot.upload_photo(image_path, caption=caption)"
   ]
  }
 ],
 "metadata": {
  "kernelspec": {
   "display_name": "Python 3",
   "language": "python",
   "name": "python3"
  },
  "language_info": {
   "codemirror_mode": {
    "name": "ipython",
    "version": 3
   },
   "file_extension": ".py",
   "mimetype": "text/x-python",
   "name": "python",
   "nbconvert_exporter": "python",
   "pygments_lexer": "ipython3",
   "version": "3.9.6"
  },
  "naas": {
   "notebook_id": "37ac57cf-2f9e-4218-95f5-9e5d0106cb00",
   "notebook_path": "Instagram/Instagram_Post_image_and_caption.ipynb"
  },
  "papermill": {
   "default_parameters": {},
   "environment_variables": {},
   "parameters": {},
   "version": "2.3.3"
  }
 },
 "nbformat": 4,
 "nbformat_minor": 5
}