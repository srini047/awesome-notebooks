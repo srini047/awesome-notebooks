{
 "cells": [
  {
   "cell_type": "markdown",
   "id": "25d8c1ff-feca-44c2-94fc-c74b63846384",
   "metadata": {
    "execution": {
     "iopub.execute_input": "2022-10-03T11:04:03.587704Z",
     "iopub.status.busy": "2022-10-03T11:04:03.587487Z",
     "iopub.status.idle": "2022-10-03T11:04:03.590611Z",
     "shell.execute_reply": "2022-10-03T11:04:03.589993Z",
     "shell.execute_reply.started": "2022-10-03T11:04:03.587681Z"
    },
    "papermill": {},
    "tags": []
   },
   "source": [
    "<img width=\"10%\" alt=\"Naas\" src=\"https://landen.imgix.net/jtci2pxwjczr/assets/5ice39g4.png?w=160\"/>\n"
   ]
  },
  {
   "cell_type": "markdown",
   "id": "69325539-97a7-4f6e-83f0-76b52f0676e7",
   "metadata": {
    "execution": {
     "iopub.execute_input": "2022-10-03T11:16:46.884435Z",
     "iopub.status.busy": "2022-10-03T11:16:46.884199Z",
     "iopub.status.idle": "2022-10-03T11:16:46.888652Z",
     "shell.execute_reply": "2022-10-03T11:16:46.888010Z",
     "shell.execute_reply.started": "2022-10-03T11:16:46.884409Z"
    },
    "papermill": {},
    "tags": []
   },
   "source": [
    "# OpenWeatherMap - Get City temperature weather-type wind-speed\n",
    "<a href=\"https://app.naas.ai/user-redirect/naas/downloader?url=https://raw.githubusercontent.com/jupyter-naas/awesome-notebooks/master/OpenWeatherMap/OpenWeatherMap_Get_City_temperature_weather-type_wind-speed.ipynb\" target=\"_parent\"><img src=\"https://naasai-public.s3.eu-west-3.amazonaws.com/Open_in_Naas_Lab.svg\"/></a><br><br><a href=\"https://github.com/jupyter-naas/awesome-notebooks/issues/new?assignees=&labels=&template=template-request.md&title=Tool+-+Action+of+the+notebook+\">Template request</a> | <a href=\"https://github.com/jupyter-naas/awesome-notebooks/issues/new?assignees=&labels=bug&template=bug_report.md&title=OpenWeatherMap+-+Get+City+temperature+weather-type+wind-speed:+Error+short+description\">Bug report</a> | <a href=\"https://app.naas.ai/user-redirect/naas/downloader?url=https://raw.githubusercontent.com/jupyter-naas/awesome-notebooks/master/Naas/Naas_Start_data_product.ipynb\" target=\"_parent\">Generate Data Product</a>"
   ]
  },
  {
   "cell_type": "markdown",
   "id": "21a05d8b-aba5-48a4-8e00-82be790b4658",
   "metadata": {
    "execution": {
     "iopub.execute_input": "2022-10-04T21:35:24.834241Z",
     "iopub.status.busy": "2022-10-04T21:35:24.833909Z",
     "iopub.status.idle": "2022-10-04T21:35:24.850072Z",
     "shell.execute_reply": "2022-10-04T21:35:24.849138Z",
     "shell.execute_reply.started": "2022-10-04T21:35:24.834161Z"
    },
    "papermill": {},
    "tags": []
   },
   "source": [
    "**Tags:** #openweathermap #opendata #snippet #dataframe"
   ]
  },
  {
   "cell_type": "markdown",
   "id": "7639a326-fae3-499d-bfc7-bead728a2536",
   "metadata": {
    "execution": {
     "iopub.execute_input": "2022-10-03T11:35:30.182801Z",
     "iopub.status.busy": "2022-10-03T11:35:30.182571Z",
     "iopub.status.idle": "2022-10-03T11:35:30.190849Z",
     "shell.execute_reply": "2022-10-03T11:35:30.189947Z",
     "shell.execute_reply.started": "2022-10-03T11:35:30.182777Z"
    },
    "papermill": {},
    "tags": []
   },
   "source": [
    "**Author:** [Kanishk Pareek](https://in.linkedin.com/in/kanishkpareek)"
   ]
  },
  {
   "cell_type": "markdown",
   "id": "e39715db-7f60-459a-ab22-af38de43618f",
   "metadata": {
    "papermill": {},
    "tags": []
   },
   "source": [
    "This notebook helps to get the temperature and wind speed of your city by only giving the city as input."
   ]
  },
  {
   "cell_type": "markdown",
   "id": "55f4ec6b-4c7c-47a8-bf76-7ab541c2ed66",
   "metadata": {
    "execution": {
     "iopub.execute_input": "2022-10-03T11:38:57.763736Z",
     "iopub.status.busy": "2022-10-03T11:38:57.763514Z",
     "iopub.status.idle": "2022-10-03T11:38:57.766425Z",
     "shell.execute_reply": "2022-10-03T11:38:57.765784Z",
     "shell.execute_reply.started": "2022-10-03T11:38:57.763713Z"
    },
    "papermill": {},
    "tags": []
   },
   "source": [
    "## Input\n",
    "### Import library"
   ]
  },
  {
   "cell_type": "code",
   "execution_count": 1,
   "id": "d8dcc63e-853f-43d6-8066-b80d942b3e42",
   "metadata": {
    "iopub.execute_input": "2023-06-14T09:34:50.562646Z",
    "iopub.status.busy": "2023-06-14T09:34:50.562442Z",
    "iopub.status.idle": "2023-06-14T09:34:50.620624Z",
    "papermill": {},
    "shell.execute_reply": "2023-06-14T09:34:50.620037Z",
    "shell.execute_reply.started": "2023-06-14T09:34:50.562594Z",
    "tags": []
   },
   "outputs": [],
   "source": [
    "import requests"
   ]
  },
  {
   "cell_type": "markdown",
   "id": "fc7a2f1f-e5a8-40be-84c7-9fa69dc86092",
   "metadata": {
    "papermill": {},
    "tags": []
   },
   "source": [
    "### Setup Variables"
   ]
  },
  {
   "cell_type": "code",
   "execution_count": 2,
   "id": "2d42997e-071a-4a5b-913d-9d484ed43a44",
   "metadata": {
    "iopub.execute_input": "2023-06-14T09:34:50.622202Z",
    "iopub.status.busy": "2023-06-14T09:34:50.621944Z",
    "iopub.status.idle": "2023-06-14T09:34:50.721983Z",
    "papermill": {},
    "shell.execute_reply": "2023-06-14T09:34:50.721284Z",
    "shell.execute_reply.started": "2023-06-14T09:34:50.622171Z",
    "tags": []
   },
   "outputs": [],
   "source": [
    "OPENWEATHER_KEY = \"**********\"  # get your key from here https://home.openweathermap.org/api_keys (it takes couples of minutes)\n",
    "CITY = \"Paris\""
   ]
  },
  {
   "cell_type": "markdown",
   "id": "f9d714d8-4ad1-4007-ae4d-fff41c624000",
   "metadata": {
    "execution": {
     "iopub.execute_input": "2022-10-03T12:00:22.838271Z",
     "iopub.status.busy": "2022-10-03T12:00:22.837989Z",
     "iopub.status.idle": "2022-10-03T12:00:22.852555Z",
     "shell.execute_reply": "2022-10-03T12:00:22.851553Z",
     "shell.execute_reply.started": "2022-10-03T12:00:22.838240Z"
    },
    "papermill": {},
    "tags": []
   },
   "source": [
    "## Model"
   ]
  },
  {
   "cell_type": "code",
   "execution_count": 3,
   "id": "642e42d7-54a4-4233-b55e-b98cc01a17aa",
   "metadata": {
    "iopub.execute_input": "2023-06-14T09:34:50.723405Z",
    "iopub.status.busy": "2023-06-14T09:34:50.723078Z",
    "iopub.status.idle": "2023-06-14T09:34:50.822578Z",
    "papermill": {},
    "shell.execute_reply": "2023-06-14T09:34:50.821906Z",
    "shell.execute_reply.started": "2023-06-14T09:34:50.723376Z",
    "tags": []
   },
   "outputs": [],
   "source": [
    "def get_temperature(json_data):\n",
    "    temp_in_celcius = json_data[\"main\"][\"temp\"]\n",
    "    return temp_in_celcius\n",
    "\n",
    "\n",
    "def get_weather_type(json_data):\n",
    "    weather_type = json_data[\"weather\"][0][\"description\"]\n",
    "    return weather_type\n",
    "\n",
    "\n",
    "def get_wind_speed(json_data):\n",
    "    wind_speed = json_data[\"wind\"][\"speed\"]\n",
    "    return wind_speed\n",
    "\n",
    "\n",
    "def get_weather_data(json_data, city):\n",
    "    description_of_weather = json_data[\"weather\"][0][\"description\"]\n",
    "    weather_type = get_weather_type(json_data)\n",
    "    temperature = get_temperature(json_data)\n",
    "    wind_speed = get_wind_speed(json_data)\n",
    "    weather_details = \"\"\n",
    "    return weather_details + (\n",
    "        \"The weather in {} is currently {} with a temperature of {} degrees and wind speeds reaching {} km/ph\".format(\n",
    "            city, weather_type, temperature, wind_speed\n",
    "        )\n",
    "    )\n",
    "\n",
    "\n",
    "def run(city):\n",
    "    url = f\"https://api.openweathermap.org/data/2.5/weather?q={city}&appid={OPENWEATHER_KEY}&units=metric\"\n",
    "    json_data = requests.get(url).json()\n",
    "    weather_details = get_weather_data(json_data, city)\n",
    "    print(weather_details)"
   ]
  },
  {
   "cell_type": "markdown",
   "id": "af0d2bc2-a2a8-4c84-9b60-b64ba56ea542",
   "metadata": {
    "papermill": {},
    "tags": []
   },
   "source": [
    "## Output"
   ]
  },
  {
   "cell_type": "markdown",
   "id": "b0b7837a-5194-46b6-a7fc-d0d1d24e4b01",
   "metadata": {
    "papermill": {},
    "tags": []
   },
   "source": [
    "### Display result"
   ]
  },
  {
   "cell_type": "code",
   "execution_count": 4,
   "id": "11318f17-e484-4bd5-b7df-d8f7e2e8a707",
   "metadata": {
    "iopub.execute_input": "2023-06-14T09:34:50.823887Z",
    "iopub.status.busy": "2023-06-14T09:34:50.823645Z",
    "iopub.status.idle": "2023-06-14T09:34:51.099314Z",
    "papermill": {},
    "shell.execute_reply": "2023-06-14T09:34:51.098324Z",
    "shell.execute_reply.started": "2023-06-14T09:34:50.823856Z",
    "tags": []
   },
   "outputs": [],
   "source": [
    "run(CITY)"
   ]
  },
  {
   "cell_type": "code",
   "execution_count": null,
   "id": "9a4da086-8e45-4cb0-a539-558bf15840b6",
   "metadata": {
    "papermill": {},
    "tags": []
   },
   "outputs": [],
   "source": []
  }
 ],
 "metadata": {
  "kernelspec": {
   "display_name": "Python 3",
   "language": "python",
   "name": "python3"
  },
  "language_info": {
   "codemirror_mode": {
    "name": "ipython",
    "version": 3
   },
   "file_extension": ".py",
   "mimetype": "text/x-python",
   "name": "python",
   "nbconvert_exporter": "python",
   "pygments_lexer": "ipython3",
   "version": "3.9.6"
  },
  "naas": {
   "notebook_id": "f4d4d561d540e27d1820edc3f73ffc5d3cffab1fb7d280c1c6fb8780c3804056",
   "notebook_path": "OpenWeatherMap/OpenWeatherMap_Get_City_temperature_weather-type_wind-speed.ipynb"
  },
  "papermill": {
   "default_parameters": {},
   "environment_variables": {},
   "parameters": {},
   "version": "2.4.0"
  }
 },
 "nbformat": 4,
 "nbformat_minor": 5
}