{
 "cells": [
  {
   "cell_type": "markdown",
   "id": "naas-logo",
   "metadata": {
    "papermill": {},
    "tags": [
     "naas"
    ]
   },
   "source": [
    "<img width=\"10%\" alt=\"Naas\" src=\"https://landen.imgix.net/jtci2pxwjczr/assets/5ice39g4.png?w=160\"/>"
   ]
  },
  {
   "cell_type": "markdown",
   "id": "finnish-reward",
   "metadata": {
    "papermill": {},
    "tags": []
   },
   "source": [
    "# OpenWeatherMap - Get City Weather\n",
    "<a href=\"https://app.naas.ai/user-redirect/naas/downloader?url=https://raw.githubusercontent.com/jupyter-naas/awesome-notebooks/master/OpenWeatherMap/OpenWeatherMap_Get_City_Weather.ipynb\" target=\"_parent\"><img src=\"https://naasai-public.s3.eu-west-3.amazonaws.com/Open_in_Naas_Lab.svg\"/></a><br><br><a href=\"https://github.com/jupyter-naas/awesome-notebooks/issues/new?assignees=&labels=&template=template-request.md&title=Tool+-+Action+of+the+notebook+\">Template request</a> | <a href=\"https://github.com/jupyter-naas/awesome-notebooks/issues/new?assignees=&labels=bug&template=bug_report.md&title=OpenWeatherMap+-+Get+City+Weather:+Error+short+description\">Bug report</a> | <a href=\"https://app.naas.ai/user-redirect/naas/downloader?url=https://raw.githubusercontent.com/jupyter-naas/awesome-notebooks/master/Naas/Naas_Start_data_product.ipynb\" target=\"_parent\">Generate Data Product</a>"
   ]
  },
  {
   "cell_type": "markdown",
   "id": "c6bdffe9-bb91-4b98-9f0e-3c44949fd513",
   "metadata": {
    "papermill": {},
    "tags": []
   },
   "source": [
    "**Tags:** #openweathermap #opendata #snippet #dataframe"
   ]
  },
  {
   "cell_type": "markdown",
   "id": "naas-author",
   "metadata": {
    "papermill": {},
    "tags": [
     "naas"
    ]
   },
   "source": [
    "**Author:** [Christophe Blefari](https://www.linkedin.com/in/christopheblefari/)"
   ]
  },
  {
   "cell_type": "markdown",
   "id": "naas-description",
   "metadata": {
    "papermill": {},
    "tags": [
     "description"
    ]
   },
   "source": [
    "**Description:** This notebook provides an easy way to access current weather data for any city using the OpenWeatherMap API."
   ]
  },
  {
   "cell_type": "markdown",
   "id": "female-singer",
   "metadata": {
    "papermill": {},
    "tags": []
   },
   "source": [
    "## Input"
   ]
  },
  {
   "cell_type": "markdown",
   "id": "import_cell",
   "metadata": {
    "papermill": {},
    "tags": []
   },
   "source": [
    "### Import library"
   ]
  },
  {
   "cell_type": "code",
   "execution_count": 7,
   "id": "short-decision",
   "metadata": {
    "papermill": {},
    "tags": []
   },
   "outputs": [],
   "source": [
    "import requests"
   ]
  },
  {
   "cell_type": "markdown",
   "id": "5aec266a-94c0-499b-9088-ef69745939c5",
   "metadata": {
    "papermill": {},
    "tags": []
   },
   "source": [
    "### Variables"
   ]
  },
  {
   "cell_type": "code",
   "execution_count": 23,
   "id": "stunning-karma",
   "metadata": {
    "papermill": {},
    "tags": []
   },
   "outputs": [],
   "source": [
    "OPENWEATHER_KEY = \"**********\"  # get your key from here https://home.openweathermap.org/api_keys (it takes couples of minutes)\n",
    "CITY = \"Paris\""
   ]
  },
  {
   "cell_type": "markdown",
   "id": "smart-swedish",
   "metadata": {
    "papermill": {},
    "tags": []
   },
   "source": [
    "## Model"
   ]
  },
  {
   "cell_type": "markdown",
   "id": "7bc3814d-3a67-429e-91cd-65530eaaf0e6",
   "metadata": {
    "papermill": {},
    "tags": []
   },
   "source": [
    "### Fonctions"
   ]
  },
  {
   "cell_type": "code",
   "execution_count": 20,
   "id": "defensive-federal",
   "metadata": {
    "papermill": {},
    "tags": []
   },
   "outputs": [],
   "source": [
    "def get_weather_info(city):\n",
    "    url = f\"http://api.openweathermap.org/data/2.5/weather?q={city}&appid={OPENWEATHER_KEY}\"\n",
    "    response = requests.get(url)\n",
    "    return response.json()\n",
    "\n",
    "\n",
    "def format_weather_data(data):\n",
    "    return {\n",
    "        \"temp\": f'{round(int(data[\"main\"][\"temp\"]) - 273.15, 1)}°',\n",
    "        \"city\": data[\"name\"],\n",
    "    }\n",
    "\n",
    "\n",
    "def run(city):\n",
    "    data = get_weather_info(city)\n",
    "    return format_weather_data(data)"
   ]
  },
  {
   "cell_type": "markdown",
   "id": "cooked-gothic",
   "metadata": {
    "papermill": {},
    "tags": []
   },
   "source": [
    "## Output"
   ]
  },
  {
   "cell_type": "markdown",
   "id": "display_cell",
   "metadata": {
    "papermill": {},
    "tags": []
   },
   "source": [
    "### Display result"
   ]
  },
  {
   "cell_type": "code",
   "execution_count": 21,
   "id": "cultural-membership",
   "metadata": {
    "papermill": {},
    "tags": []
   },
   "outputs": [],
   "source": [
    "run(CITY)"
   ]
  }
 ],
 "metadata": {
  "kernelspec": {
   "display_name": "Python 3",
   "language": "python",
   "name": "python3"
  },
  "language_info": {
   "codemirror_mode": {
    "name": "ipython",
    "version": 3
   },
   "file_extension": ".py",
   "mimetype": "text/x-python",
   "name": "python",
   "nbconvert_exporter": "python",
   "pygments_lexer": "ipython3",
   "version": "3.9.6"
  },
  "naas": {
   "notebook_id": "84c4cccf44f66d7957f7c938252f5b5582637a13eed6818af52b2dbd038d582c",
   "notebook_path": "OpenWeatherMap/OpenWeatherMap_Get_City_Weather.ipynb"
  },
  "papermill": {
   "default_parameters": {},
   "environment_variables": {},
   "parameters": {},
   "version": "2.3.3"
  }
 },
 "nbformat": 4,
 "nbformat_minor": 5
}