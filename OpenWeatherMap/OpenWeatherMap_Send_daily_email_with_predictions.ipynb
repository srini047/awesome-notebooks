{
 "cells": [
  {
   "cell_type": "markdown",
   "id": "84376503-10ca-4344-a934-7014fe835c0b",
   "metadata": {
    "papermill": {},
    "tags": []
   },
   "source": [
    "<img width=\"10%\" alt=\"Naas\" src=\"https://landen.imgix.net/jtci2pxwjczr/assets/5ice39g4.png?w=160\"/>"
   ]
  },
  {
   "cell_type": "markdown",
   "id": "a64a5dec-2099-4631-8943-48f2cd921cb6",
   "metadata": {
    "papermill": {},
    "tags": []
   },
   "source": [
    "# OpenWeatherMap - Send daily email with predictions\n",
    "<a href=\"https://app.naas.ai/user-redirect/naas/downloader?url=https://raw.githubusercontent.com/jupyter-naas/awesome-notebooks/master/OpenWeatherMap/OpenWeatherMap_Send_daily_email_with_predictions.ipynb\" target=\"_parent\"><img src=\"https://naasai-public.s3.eu-west-3.amazonaws.com/open_in_naas.svg\"/></a><br><br><a href=\"https://github.com/jupyter-naas/awesome-notebooks/issues/new?assignees=&labels=&template=template-request.md&title=Tool+-+Action+of+the+notebook+\">Template request</a> | <a href=\"https://github.com/jupyter-naas/awesome-notebooks/issues/new?assignees=&labels=bug&template=bug_report.md&title=OpenWeatherMap+-+Send+daily+email+with+predictions:+Error+short+description\">Bug report</a>"
   ]
  },
  {
   "cell_type": "markdown",
   "id": "6c273931-a8d4-4690-87aa-f2c628f2dd01",
   "metadata": {
    "papermill": {},
    "tags": []
   },
   "source": [
    "**Tags:** #openweathermap #weather #plotly #prediction #email #naas_drivers #automation #opendata #analytics #ai #image #html #text"
   ]
  },
  {
   "cell_type": "markdown",
   "id": "6333f859-51b4-4f5e-812c-2dab6db683df",
   "metadata": {
    "papermill": {},
    "tags": []
   },
   "source": [
    "**Author:** [Gautier Vivard](https://www.linkedin.com/in/gautier-vivard-1811b877/)"
   ]
  },
  {
   "cell_type": "markdown",
   "id": "naas-description",
   "metadata": {
    "papermill": {},
    "tags": [
     "description"
    ]
   },
   "source": [
    "**Description:** This notebook sends a daily email with weather predictions from OpenWeatherMap."
   ]
  },
  {
   "cell_type": "markdown",
   "id": "aff72d5f-0cda-4dbc-a04b-fbb0640ab0a4",
   "metadata": {
    "papermill": {},
    "tags": []
   },
   "source": [
    "## Input"
   ]
  },
  {
   "cell_type": "markdown",
   "id": "cc615d72-7f2a-4500-83ce-4de5ae7a20e7",
   "metadata": {
    "execution": {
     "iopub.execute_input": "2022-02-10T00:03:15.932361Z",
     "iopub.status.busy": "2022-02-10T00:03:15.932140Z",
     "iopub.status.idle": "2022-02-10T00:03:15.935240Z",
     "shell.execute_reply": "2022-02-10T00:03:15.934526Z",
     "shell.execute_reply.started": "2022-02-10T00:03:15.932339Z"
    },
    "papermill": {},
    "tags": []
   },
   "source": [
    "### Import libraries"
   ]
  },
  {
   "cell_type": "code",
   "execution_count": null,
   "id": "94ad4dd9-a608-4de3-89a9-e0b3812c4fb9",
   "metadata": {
    "papermill": {},
    "tags": []
   },
   "outputs": [],
   "source": [
    "import requests\n",
    "import markdown2\n",
    "import time\n",
    "import pandas as pd\n",
    "import naas\n",
    "from naas_drivers import plotly, prediction"
   ]
  },
  {
   "cell_type": "markdown",
   "id": "bbbb0f24-ee7c-467c-834f-e229d9c6ef50",
   "metadata": {
    "papermill": {},
    "tags": []
   },
   "source": [
    "### Setup your open weather info"
   ]
  },
  {
   "cell_type": "code",
   "execution_count": null,
   "id": "e833d0f6-312a-405a-b106-c8c28280433c",
   "metadata": {
    "papermill": {},
    "tags": []
   },
   "outputs": [],
   "source": [
    "OPENWEATHER_KEY = \"***************\"  # get your key from here https://home.openweathermap.org/api_keys (it takes couples of minutes)\n",
    "city = \"rouen\"\n",
    "country_code = \"fr\"  # if you don't want to specify a country code, let ''"
   ]
  },
  {
   "cell_type": "code",
   "execution_count": null,
   "id": "30d1543a-0590-4833-b45e-888cf24dada5",
   "metadata": {
    "papermill": {},
    "tags": []
   },
   "outputs": [],
   "source": [
    "# Output paths image and html\n",
    "output_image = f\"{city}.png\"\n",
    "output_html = f\"{city}.html\""
   ]
  },
  {
   "cell_type": "markdown",
   "id": "dfb17138-a124-43cb-a425-8434fc24106a",
   "metadata": {
    "execution": {
     "iopub.execute_input": "2022-02-10T15:29:06.994123Z",
     "iopub.status.busy": "2022-02-10T15:29:06.993894Z",
     "iopub.status.idle": "2022-02-10T15:29:06.996839Z",
     "shell.execute_reply": "2022-02-10T15:29:06.996188Z",
     "shell.execute_reply.started": "2022-02-10T15:29:06.994098Z"
    },
    "papermill": {},
    "tags": []
   },
   "source": [
    "### Input email parameter"
   ]
  },
  {
   "cell_type": "code",
   "execution_count": null,
   "id": "4f7bfda8-784a-470d-be25-ef6c86aeaa07",
   "metadata": {
    "papermill": {},
    "tags": []
   },
   "outputs": [],
   "source": [
    "email_to = [\"template@naas.ai\"]\n",
    "email_from = None\n",
    "subject = f\"{city} predictions as of today\""
   ]
  },
  {
   "cell_type": "markdown",
   "id": "00e2aea5-5a77-4b44-8789-5a41c05f9995",
   "metadata": {
    "papermill": {},
    "tags": []
   },
   "source": [
    "### Schedule every day"
   ]
  },
  {
   "cell_type": "code",
   "execution_count": null,
   "id": "262c5cf3-a65c-4e91-bbea-4c7e51e48c95",
   "metadata": {
    "papermill": {},
    "tags": []
   },
   "outputs": [],
   "source": [
    "# naas.scheduler.add(cron='0 8 * * *')\n",
    "# naas.scheduler.delete()"
   ]
  },
  {
   "cell_type": "markdown",
   "id": "135a2f25-da74-4d28-b1c7-70eb984f9861",
   "metadata": {
    "execution": {
     "iopub.execute_input": "2022-02-10T13:54:23.683707Z",
     "iopub.status.busy": "2022-02-10T13:54:23.683473Z",
     "iopub.status.idle": "2022-02-10T13:54:23.686354Z",
     "shell.execute_reply": "2022-02-10T13:54:23.685755Z",
     "shell.execute_reply.started": "2022-02-10T13:54:23.683682Z"
    },
    "papermill": {},
    "tags": []
   },
   "source": [
    "### Create markdown template"
   ]
  },
  {
   "cell_type": "code",
   "execution_count": null,
   "id": "12ccb3c7-330d-4ba6-8a4d-6a6cbda5ac82",
   "metadata": {
    "papermill": {},
    "tags": []
   },
   "outputs": [],
   "source": [
    "%%writefile message.md\n",
    "Hey\n",
    "\n",
    "The *CITY* temperature on the last 5 days\n",
    "\n",
    "In +2 days, basic ML models predict the following temperature: \n",
    "\n",
    "- *linear*: LINEAR\n",
    "\n",
    "    \n",
    "<img href=link_html target=\"_blank\" src=link_image style=\"width:640px; height:360px;\" /><br>\n",
    "[Open dynamic chart](link_html)<br>\n",
    "\n",
    "    \n",
    "Have a nice day.\n",
    "<br>\n",
    "\n",
    "PS: You can [send the email again](link_webhook) if you need a fresh update.<br>\n",
    "<div><strong>Full Name</strong></div>\n",
    "<div>Open source lover | <a href=\"http://www.naas.ai/\" target=\"_blank\">Naas</a></div>"
   ]
  },
  {
   "cell_type": "markdown",
   "id": "ec4e7cfc-d892-4ced-b2f9-aa78c49260aa",
   "metadata": {
    "papermill": {},
    "tags": []
   },
   "source": [
    "### Add email template as a dependency "
   ]
  },
  {
   "cell_type": "code",
   "execution_count": null,
   "id": "c6e121f0-dada-4e97-b5d9-5c6b1c1882fd",
   "metadata": {
    "papermill": {},
    "tags": []
   },
   "outputs": [],
   "source": [
    "naas.dependency.add(\"message.md\")"
   ]
  },
  {
   "cell_type": "markdown",
   "id": "72145f60-7f3d-4d25-8e9b-3b3474803c1f",
   "metadata": {
    "execution": {
     "iopub.execute_input": "2022-02-09T23:54:46.215373Z",
     "iopub.status.busy": "2022-02-09T23:54:46.215113Z",
     "iopub.status.idle": "2022-02-09T23:54:46.218344Z",
     "shell.execute_reply": "2022-02-09T23:54:46.217730Z",
     "shell.execute_reply.started": "2022-02-09T23:54:46.215306Z"
    },
    "papermill": {},
    "tags": []
   },
   "source": [
    "## Model"
   ]
  },
  {
   "cell_type": "markdown",
   "id": "68d46bc1-8d5e-47b3-996e-d2e0acc3f167",
   "metadata": {
    "execution": {
     "iopub.execute_input": "2022-02-10T00:04:55.794596Z",
     "iopub.status.busy": "2022-02-10T00:04:55.794379Z",
     "iopub.status.idle": "2022-02-10T00:04:55.797197Z",
     "shell.execute_reply": "2022-02-10T00:04:55.796517Z",
     "shell.execute_reply.started": "2022-02-10T00:04:55.794575Z"
    },
    "papermill": {},
    "tags": []
   },
   "source": [
    "### Get the data from open weather map"
   ]
  },
  {
   "cell_type": "markdown",
   "id": "eb8ae053-b25a-4ad6-80c0-fb397896f877",
   "metadata": {
    "papermill": {},
    "tags": []
   },
   "source": [
    "The historical open weather api need the latitude, longitude in order to have the data"
   ]
  },
  {
   "cell_type": "code",
   "execution_count": null,
   "id": "078f93d2-eb8a-460d-9084-ef7e32c21d68",
   "metadata": {
    "papermill": {},
    "tags": []
   },
   "outputs": [],
   "source": [
    "def get_geoloc(city: str, country_code: str = \"\"):\n",
    "    \"\"\"Get the geoloc of a city, country\n",
    "\n",
    "    :param city: name of the city\n",
    "    :type city: str\n",
    "    :param country_code: Please use ISO 3166 country codes, default to ''\n",
    "    :type country_code: str\n",
    "    \"\"\"\n",
    "    url = f\"http://api.openweathermap.org/geo/1.0/direct?q={city},,{country_code}&appid={OPENWEATHER_KEY}\"\n",
    "    return requests.get(url).json()\n",
    "\n",
    "\n",
    "def get_lat_lon(city: str, country_code: str = \"\"):\n",
    "    \"\"\"Get the geoloc of a city, country\n",
    "\n",
    "    :param city: name of the city\n",
    "    :type city: str\n",
    "    :param country_code: Please use ISO 3166 country codes, default to ''\n",
    "    :type country_code: str\n",
    "    \"\"\"\n",
    "    geoloc = get_geoloc(city, country_code)\n",
    "\n",
    "    if len(geoloc) == 0:\n",
    "        return None, None\n",
    "\n",
    "    return geoloc[0][\"lat\"], geoloc[0][\"lon\"]\n",
    "\n",
    "\n",
    "# get_lat_lon('paris')\n",
    "# get_lat_lon('paris', 'us')"
   ]
  },
  {
   "cell_type": "code",
   "execution_count": null,
   "id": "f7189909-419d-49e9-9f37-52e90adeb82f",
   "metadata": {
    "papermill": {},
    "tags": []
   },
   "outputs": [],
   "source": [
    "def get_historical_weather(\n",
    "    city: str, country_code: str = \"\", nbr_days_before_now: int = 0\n",
    "):\n",
    "    \"\"\"Get historical weather data. For free API, maximum history is 5 days before now\n",
    "\n",
    "    :param city: name of the city\n",
    "    :type city: str\n",
    "    :param country_code: Please use ISO 3166 country codes, default to ''\n",
    "    :type country_code: str\n",
    "    :param nbr_hours_before_now: number of hour before now\n",
    "    \"\"\"\n",
    "    unix_dt = int(time.time() - 60 * 60 * 24 * nbr_days_before_now)\n",
    "    lat, lon = get_lat_lon(city, country_code)\n",
    "    if lat is None:\n",
    "        return None\n",
    "    url = f\"https://api.openweathermap.org/data/2.5/onecall/timemachine?lat={lat}&lon={lon}&dt={unix_dt}&appid={OPENWEATHER_KEY}&units=metric\"\n",
    "    return requests.get(url).json()\n",
    "\n",
    "\n",
    "def weather_data_to_df(\n",
    "    city: str, country_code: str = \"\", nbr_days_before_now: int = 0\n",
    ") -> pd.DataFrame:\n",
    "    data = get_historical_weather(city, country_code, nbr_days_before_now)\n",
    "    df = pd.DataFrame(data[\"hourly\"])\n",
    "    df[\"date_time\"] = pd.to_datetime(df[\"dt\"], unit=\"s\")\n",
    "    df[\"city\"] = city\n",
    "    df[\"country_code\"] = country_code\n",
    "\n",
    "    df_explode_weather = pd.concat(\n",
    "        [df.drop([\"weather\", \"dt\"], axis=1), df[\"weather\"].str[0].apply(pd.Series)],\n",
    "        axis=1,\n",
    "    )\n",
    "    # df_explode_weather.set_index('date_time', inplace=True)\n",
    "    return df_explode_weather"
   ]
  },
  {
   "cell_type": "code",
   "execution_count": null,
   "id": "e4e3bae9-c1e5-4313-aa23-e450d5f34cb2",
   "metadata": {
    "papermill": {},
    "tags": []
   },
   "outputs": [],
   "source": [
    "df_histo_weather = pd.concat(\n",
    "    [weather_data_to_df(city, country_code, _) for _ in range(6)], ignore_index=True\n",
    ")\n",
    "df_histo_weather = (\n",
    "    df_histo_weather.sort_values(by=\"date_time\")\n",
    "    .reset_index(drop=True)\n",
    "    .rename(columns={\"date_time\": \"Date\"})\n",
    ")\n",
    "df_histo_weather"
   ]
  },
  {
   "cell_type": "markdown",
   "id": "f77c9215-d8fd-4645-a889-a139b7938a22",
   "metadata": {
    "execution": {
     "iopub.execute_input": "2022-02-10T15:30:36.531155Z",
     "iopub.status.busy": "2022-02-10T15:30:36.530913Z",
     "iopub.status.idle": "2022-02-10T15:30:36.534004Z",
     "shell.execute_reply": "2022-02-10T15:30:36.533377Z",
     "shell.execute_reply.started": "2022-02-10T15:30:36.531129Z"
    },
    "papermill": {},
    "tags": []
   },
   "source": [
    "### Add prediction column"
   ]
  },
  {
   "cell_type": "code",
   "execution_count": null,
   "id": "6d728eb2-c963-48f0-89e9-70844924c87e",
   "metadata": {
    "papermill": {},
    "tags": []
   },
   "outputs": [],
   "source": [
    "df_predict = prediction.get(\n",
    "    dataset=df_histo_weather,\n",
    "    date_column=\"Date\",\n",
    "    column=\"temp\",\n",
    "    data_points=5,\n",
    "    prediction_type=\"all\",\n",
    ")\n",
    "\n",
    "df_predict"
   ]
  },
  {
   "cell_type": "markdown",
   "id": "edf33e0f-443e-41b1-9669-62668981d781",
   "metadata": {
    "execution": {
     "iopub.execute_input": "2022-02-10T02:58:09.336046Z",
     "iopub.status.busy": "2022-02-10T02:58:09.335817Z",
     "iopub.status.idle": "2022-02-10T02:58:09.340674Z",
     "shell.execute_reply": "2022-02-10T02:58:09.338102Z",
     "shell.execute_reply.started": "2022-02-10T02:58:09.336022Z"
    },
    "papermill": {},
    "tags": []
   },
   "source": [
    "### Build chart"
   ]
  },
  {
   "cell_type": "code",
   "execution_count": null,
   "id": "31de855a-5844-4793-9486-3d8dd87786ec",
   "metadata": {
    "papermill": {},
    "tags": []
   },
   "outputs": [],
   "source": [
    "chart = plotly.linechart(\n",
    "    df_predict,\n",
    "    x=\"Date\",\n",
    "    y=[\"temp\", \"ARIMA\", \"LINEAR\", \"SVR\", \"COMPOUND\"],\n",
    "    showlegend=True,\n",
    "    title=f\"Temp in {city} last 5 days\",\n",
    ")"
   ]
  },
  {
   "cell_type": "markdown",
   "id": "e8cd2f83-8f05-4aad-a9c0-bf9c269041b1",
   "metadata": {
    "papermill": {},
    "tags": []
   },
   "source": [
    "## Output"
   ]
  },
  {
   "cell_type": "markdown",
   "id": "ac356239-ccc2-42e0-8543-0699a06364c3",
   "metadata": {
    "execution": {
     "iopub.execute_input": "2022-02-10T02:58:55.280322Z",
     "iopub.status.busy": "2022-02-10T02:58:55.280086Z",
     "iopub.status.idle": "2022-02-10T02:58:55.285423Z",
     "shell.execute_reply": "2022-02-10T02:58:55.284860Z",
     "shell.execute_reply.started": "2022-02-10T02:58:55.280300Z"
    },
    "papermill": {},
    "tags": []
   },
   "source": [
    "### Save as html and png"
   ]
  },
  {
   "cell_type": "code",
   "execution_count": null,
   "id": "966a117a-c879-446b-be3e-8636c1b6249f",
   "metadata": {
    "papermill": {},
    "tags": []
   },
   "outputs": [],
   "source": [
    "chart.write_html(output_html)\n",
    "chart.write_image(output_image, width=1200)"
   ]
  },
  {
   "cell_type": "markdown",
   "id": "b36c4654-26f1-45cd-a2a4-da1412f5fb97",
   "metadata": {
    "execution": {
     "iopub.execute_input": "2022-02-10T02:59:31.034296Z",
     "iopub.status.busy": "2022-02-10T02:59:31.034067Z",
     "iopub.status.idle": "2022-02-10T02:59:31.038288Z",
     "shell.execute_reply": "2022-02-10T02:59:31.037635Z",
     "shell.execute_reply.started": "2022-02-10T02:59:31.034272Z"
    },
    "papermill": {},
    "tags": []
   },
   "source": [
    "### Expose chart"
   ]
  },
  {
   "cell_type": "code",
   "execution_count": null,
   "id": "77f487a8-0cf0-46f1-873d-ca4068c1b6a0",
   "metadata": {
    "papermill": {},
    "tags": []
   },
   "outputs": [],
   "source": [
    "link_image = naas.asset.add(output_image)\n",
    "link_html = naas.asset.add(output_html, {\"inline\": True})"
   ]
  },
  {
   "cell_type": "markdown",
   "id": "9204a8ff-cf51-429d-9172-4d82410f01d7",
   "metadata": {
    "papermill": {},
    "tags": []
   },
   "source": [
    "### Add webhook to run your notebook again"
   ]
  },
  {
   "cell_type": "code",
   "execution_count": null,
   "id": "39867f63-0383-4c3a-bd3d-a4ca6c042ac9",
   "metadata": {
    "papermill": {},
    "tags": []
   },
   "outputs": [],
   "source": [
    "link_webhook = naas.webhook.add()"
   ]
  },
  {
   "cell_type": "markdown",
   "id": "dbab9018-be84-48ab-a90d-5eff186035c6",
   "metadata": {
    "papermill": {},
    "tags": []
   },
   "source": [
    "### Create email content"
   ]
  },
  {
   "cell_type": "code",
   "execution_count": null,
   "id": "d1fa7913-f589-413c-b67a-69cb48eaeb88",
   "metadata": {
    "papermill": {},
    "tags": []
   },
   "outputs": [],
   "source": [
    "markdown_file = \"message.md\"\n",
    "content = open(markdown_file, \"r\").read()\n",
    "md = markdown2.markdown(content)\n",
    "md"
   ]
  },
  {
   "cell_type": "code",
   "execution_count": null,
   "id": "fe433144-b6d9-46f4-ad73-6fc616d80f94",
   "metadata": {
    "papermill": {},
    "tags": []
   },
   "outputs": [],
   "source": [
    "post = md.replace(\"DATANOW\", str(DATANOW))\n",
    "post = post.replace(\"CITY\", str(city))\n",
    "post = post.replace(\"LINEAR\", str(LINEAR))\n",
    "post = post.replace(\"link_image\", str(link_image))\n",
    "post = post.replace(\"link_html\", str(link_html))\n",
    "post = post.replace(\"link_webhook\", str(link_webhook))\n",
    "post"
   ]
  },
  {
   "cell_type": "markdown",
   "id": "e9a77736-e9d5-4991-a316-41df3f6da415",
   "metadata": {
    "execution": {
     "iopub.execute_input": "2022-02-10T15:28:07.973519Z",
     "iopub.status.busy": "2022-02-10T15:28:07.973283Z",
     "iopub.status.idle": "2022-02-10T15:28:07.978456Z",
     "shell.execute_reply": "2022-02-10T15:28:07.977843Z",
     "shell.execute_reply.started": "2022-02-10T15:28:07.973490Z"
    },
    "papermill": {},
    "tags": []
   },
   "source": [
    "### Send email"
   ]
  },
  {
   "cell_type": "code",
   "execution_count": null,
   "id": "dce1a30a-4530-47b6-8dd4-d4dcdf5f8443",
   "metadata": {
    "papermill": {},
    "tags": []
   },
   "outputs": [],
   "source": [
    "content = post\n",
    "naas.notification.send(\n",
    "    email_to=email_to, subject=subject, html=content, files=files, email_from=email_from\n",
    ")"
   ]
  }
 ],
 "metadata": {
  "kernelspec": {
   "display_name": "Python 3",
   "language": "python",
   "name": "python3"
  },
  "language_info": {
   "codemirror_mode": {
    "name": "ipython",
    "version": 3
   },
   "file_extension": ".py",
   "mimetype": "text/x-python",
   "name": "python",
   "nbconvert_exporter": "python",
   "pygments_lexer": "ipython3",
   "version": "3.9.6"
  },
  "naas": {
   "notebook_id": "23354cb6-15b7-4927-88e5-e15e462d752b",
   "notebook_path": "OpenWeatherMap/OpenWeatherMap_Send_daily_email_with_predictions.ipynb"
  },
  "papermill": {
   "default_parameters": {},
   "environment_variables": {},
   "parameters": {},
   "version": "2.3.4"
  }
 },
 "nbformat": 4,
 "nbformat_minor": 5
}