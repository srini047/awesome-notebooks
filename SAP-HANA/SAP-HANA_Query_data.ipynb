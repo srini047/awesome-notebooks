{
 "cells": [
  {
   "cell_type": "markdown",
   "id": "removed-motel",
   "metadata": {
    "papermill": {},
    "tags": []
   },
   "source": [
    "<img width=\"10%\" alt=\"Naas\" src=\"https://landen.imgix.net/jtci2pxwjczr/assets/5ice39g4.png?w=160\"/>"
   ]
  },
  {
   "cell_type": "markdown",
   "id": "passive-probability",
   "metadata": {
    "papermill": {},
    "tags": []
   },
   "source": [
    "# SAP-HANA - Query data\n",
    "<a href=\"https://app.naas.ai/user-redirect/naas/downloader?url=https://raw.githubusercontent.com/jupyter-naas/awesome-notebooks/master/SAP-HANA/SAP-HANA_Query_data.ipynb\" target=\"_parent\"><img src=\"https://naasai-public.s3.eu-west-3.amazonaws.com/open_in_naas.svg\"/></a><br><br><a href=\"https://github.com/jupyter-naas/awesome-notebooks/issues/new?assignees=&labels=&template=template-request.md&title=Tool+-+Action+of+the+notebook+\">Template request</a> | <a href=\"https://github.com/jupyter-naas/awesome-notebooks/issues/new?assignees=&labels=bug&template=bug_report.md&title=SAP-HANA+-+Query+data:+Error+short+description\">Bug report</a>"
   ]
  },
  {
   "cell_type": "markdown",
   "id": "9d068bb4-e246-4212-a91d-9601ce53bb49",
   "metadata": {
    "papermill": {},
    "tags": []
   },
   "source": [
    "**Tags:** #sap-hana #sap #saphana #database #snippet #operations #dataframe"
   ]
  },
  {
   "cell_type": "markdown",
   "id": "naas-author",
   "metadata": {
    "papermill": {},
    "tags": [
     "naas"
    ]
   },
   "source": [
    "**Author:** [Jeremy Ravenel](https://www.linkedin.com/in/ACoAAAJHE7sB5OxuKHuzguZ9L6lfDHqw--cdnJg/)"
   ]
  },
  {
   "cell_type": "markdown",
   "id": "naas-description",
   "metadata": {
    "papermill": {},
    "tags": [
     "description"
    ]
   },
   "source": [
    "**Description:** This notebook provides an introduction to querying data in SAP HANA."
   ]
  },
  {
   "cell_type": "markdown",
   "id": "76e42bef-69b8-481a-924c-0e6c8cc6da2c",
   "metadata": {
    "papermill": {},
    "tags": []
   },
   "source": [
    "## Input"
   ]
  },
  {
   "cell_type": "markdown",
   "id": "6a6c5105-d302-4962-8493-ddb9ed9ffcab",
   "metadata": {
    "papermill": {},
    "tags": []
   },
   "source": [
    "### Install packages"
   ]
  },
  {
   "cell_type": "code",
   "execution_count": null,
   "id": "false-backing",
   "metadata": {
    "papermill": {},
    "tags": []
   },
   "outputs": [],
   "source": [
    "!pip install hdbcli"
   ]
  },
  {
   "cell_type": "markdown",
   "id": "controlled-hypothesis",
   "metadata": {
    "papermill": {},
    "tags": []
   },
   "source": [
    "### Import library"
   ]
  },
  {
   "cell_type": "code",
   "execution_count": null,
   "id": "refined-biography",
   "metadata": {
    "papermill": {},
    "tags": []
   },
   "outputs": [],
   "source": [
    "import sap_hana_connector"
   ]
  },
  {
   "cell_type": "markdown",
   "id": "printable-hypothetical",
   "metadata": {
    "papermill": {},
    "tags": []
   },
   "source": [
    "### Declare variables"
   ]
  },
  {
   "cell_type": "code",
   "execution_count": null,
   "id": "regulated-throat",
   "metadata": {
    "papermill": {},
    "tags": []
   },
   "outputs": [],
   "source": [
    "type: \"SapHana\"\n",
    "name: \"JPAK_LIVE\"\n",
    "user: \"USER\"\n",
    "password: \"PASSWORD\"\n",
    "port: 30015\n",
    "host: \"HOST\""
   ]
  },
  {
   "cell_type": "markdown",
   "id": "dd12bd62-3d88-4fc7-bfc3-6802ae5496c0",
   "metadata": {
    "papermill": {},
    "tags": []
   },
   "source": [
    "## Model"
   ]
  },
  {
   "cell_type": "markdown",
   "id": "robust-breach",
   "metadata": {
    "papermill": {},
    "tags": []
   },
   "source": [
    "### Query to get specific table in SAP HANA"
   ]
  },
  {
   "cell_type": "code",
   "execution_count": null,
   "id": "growing-artist",
   "metadata": {
    "papermill": {},
    "tags": []
   },
   "outputs": [],
   "source": [
    "query: \"SELECT * FROM JPAK_LIVE.OINV T0\""
   ]
  },
  {
   "cell_type": "markdown",
   "id": "21868ff3-92e6-471d-8c01-a86f5b2889fe",
   "metadata": {
    "papermill": {},
    "tags": []
   },
   "source": [
    "## Output"
   ]
  },
  {
   "cell_type": "markdown",
   "id": "meaningful-sister",
   "metadata": {
    "papermill": {},
    "tags": []
   },
   "source": [
    "### Return Data Frame "
   ]
  },
  {
   "cell_type": "code",
   "execution_count": null,
   "id": "vietnamese-coalition",
   "metadata": {
    "papermill": {},
    "tags": []
   },
   "outputs": [],
   "source": [
    "df = query"
   ]
  }
 ],
 "metadata": {
  "kernelspec": {
   "display_name": "Python 3",
   "language": "python",
   "name": "python3"
  },
  "language_info": {
   "codemirror_mode": {
    "name": "ipython",
    "version": 3
   },
   "file_extension": ".py",
   "mimetype": "text/x-python",
   "name": "python",
   "nbconvert_exporter": "python",
   "pygments_lexer": "ipython3",
   "version": "3.9.6"
  },
  "naas": {
   "notebook_id": "1118ec31-d908-4acb-84bf-0e728bc21a7c",
   "notebook_path": "SAP-HANA/SAP-HANA_Query_data.ipynb"
  },
  "papermill": {
   "default_parameters": {},
   "environment_variables": {},
   "parameters": {},
   "version": "2.3.3"
  }
 },
 "nbformat": 4,
 "nbformat_minor": 5
}