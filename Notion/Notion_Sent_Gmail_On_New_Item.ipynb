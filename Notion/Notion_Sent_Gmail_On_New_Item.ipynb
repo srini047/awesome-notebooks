{
 "cells": [
  {
   "cell_type": "markdown",
   "id": "376b5196-ad01-4faa-bd8f-2e86d5030563",
   "metadata": {
    "papermill": {},
    "tags": []
   },
   "source": [
    "<img width=\"10%\" alt=\"Naas\" src=\"https://landen.imgix.net/jtci2pxwjczr/assets/5ice39g4.png?w=160\"/>"
   ]
  },
  {
   "cell_type": "markdown",
   "id": "0d0f565d-2dbb-4d15-bfe5-99cc37411338",
   "metadata": {
    "papermill": {},
    "tags": []
   },
   "source": [
    "# Notion - Sent Gmail On New Item\n",
    "<a href=\"https://app.naas.ai/user-redirect/naas/downloader?url=https://raw.githubusercontent.com/jupyter-naas/awesome-notebooks/master/Notion/Notion_Sent_Gmail_On_New_Item.ipynb\" target=\"_parent\"><img src=\"https://naasai-public.s3.eu-west-3.amazonaws.com/Open_in_Naas_Lab.svg\"/></a><br><br><a href=\"https://github.com/jupyter-naas/awesome-notebooks/issues/new?assignees=&labels=&template=template-request.md&title=Tool+-+Action+of+the+notebook+\">Template request</a> | <a href=\"https://github.com/jupyter-naas/awesome-notebooks/issues/new?assignees=&labels=bug&template=bug_report.md&title=Notion+-+Sent+Gmail+On+New+Item:+Error+short+description\">Bug report</a> | <a href=\"https://app.naas.ai/user-redirect/naas/downloader?url=https://raw.githubusercontent.com/jupyter-naas/awesome-notebooks/master/Naas/Naas_Start_data_product.ipynb\" target=\"_parent\">Generate Data Product</a>"
   ]
  },
  {
   "cell_type": "markdown",
   "id": "a42d8529-49ab-477a-8fcc-8121f5c59382",
   "metadata": {
    "papermill": {},
    "tags": []
   },
   "source": [
    "**Tags:** #notion #gsheet #productivity #naas_drivers #operations #automation #email"
   ]
  },
  {
   "cell_type": "markdown",
   "id": "48b28524-a422-45bf-afc1-4f76343470d8",
   "metadata": {
    "papermill": {},
    "tags": []
   },
   "source": [
    "**Author:** [Arun K C](https://www.linkedin.com/in/arun-kc/)"
   ]
  },
  {
   "cell_type": "markdown",
   "id": "naas-description",
   "metadata": {
    "papermill": {},
    "tags": [
     "description"
    ]
   },
   "source": [
    "**Description:** This notebook allows you to quickly send an email notification when a new item is added to Notion."
   ]
  },
  {
   "cell_type": "markdown",
   "id": "d8ecd989-e9a2-4063-a215-47bdab8511d2",
   "metadata": {
    "papermill": {},
    "tags": []
   },
   "source": [
    "## Input"
   ]
  },
  {
   "cell_type": "markdown",
   "id": "82b0066b-5a31-45de-b63c-1fa8fe9b3195",
   "metadata": {
    "papermill": {},
    "tags": []
   },
   "source": [
    "### Import librairies\n",
    "\n",
    "Let's import all the necessary libraries required"
   ]
  },
  {
   "cell_type": "code",
   "execution_count": 1,
   "id": "28273fb8-3469-42a9-8c02-6690cb257476",
   "metadata": {
    "papermill": {},
    "tags": []
   },
   "outputs": [],
   "source": [
    "import naas\n",
    "from naas_drivers import notion, gsheet\n",
    "from naas_drivers import html\n",
    "import pandas as pd"
   ]
  },
  {
   "cell_type": "markdown",
   "id": "3841af2c-a6a0-4193-abf4-a769d8ebd0b5",
   "metadata": {
    "papermill": {},
    "tags": []
   },
   "source": [
    "### Variables\n",
    "\n",
    "Replace all the variables below with appropriate values."
   ]
  },
  {
   "cell_type": "code",
   "execution_count": 164,
   "id": "2921092d-432a-4010-9154-cc3177974220",
   "metadata": {
    "papermill": {},
    "tags": []
   },
   "outputs": [],
   "source": [
    "# Notion\n",
    "token = \"NOTION_TOKEN\"\n",
    "database_id = \"NOTION_DATABASE_ID\"\n",
    "\n",
    "# Gsheet\n",
    "spreadsheet_id = \"SPREADSHEET_ID\"\n",
    "mail_list_sheet_name = \"Sheet1\"\n",
    "item_list_sheet_name = \"Sheet2\"\n",
    "your_email = \"YOUR_EMAIL_ID\""
   ]
  },
  {
   "cell_type": "markdown",
   "id": "017b3546-e0db-4898-8c62-0a09cd25838c",
   "metadata": {
    "papermill": {},
    "tags": []
   },
   "source": [
    "### Setting up the scheduler\n",
    "\n",
    "Let's schedule the notebook for every 15mins ⏰\n",
    "\n",
    "Ps: to remove the \"Scheduler\", just replace .add by .delete"
   ]
  },
  {
   "cell_type": "code",
   "execution_count": null,
   "id": "dc803387-cb5e-439d-b41e-1e695a99ccd7",
   "metadata": {
    "papermill": {},
    "tags": []
   },
   "outputs": [],
   "source": [
    "# Schedule the notebook to run every 15 minutes\n",
    "naas.scheduler.add(cron=\"*/15 * * * *\")"
   ]
  },
  {
   "cell_type": "markdown",
   "id": "e8fb5b92-d01e-4aaf-8100-23654ab9f51c",
   "metadata": {
    "papermill": {},
    "tags": []
   },
   "source": [
    "## Model"
   ]
  },
  {
   "cell_type": "markdown",
   "id": "fd76e948-04a2-4bc1-90a7-8140edccf738",
   "metadata": {
    "papermill": {},
    "tags": []
   },
   "source": [
    "### Read the gsheet"
   ]
  },
  {
   "cell_type": "code",
   "execution_count": 2,
   "id": "ce0f7749-b135-4769-b046-c08c6df946ab",
   "metadata": {
    "papermill": {},
    "tags": []
   },
   "outputs": [],
   "source": [
    "email_list_data = gsheet.connect(spreadsheet_id).get(sheet_name=mail_list_sheet_name)\n",
    "try:\n",
    "    item_list_history = gsheet.connect(spreadsheet_id).get(\n",
    "        sheet_name=item_list_sheet_name\n",
    "    )\n",
    "except:\n",
    "    item_list_history = []"
   ]
  },
  {
   "cell_type": "markdown",
   "id": "313c5df1-1ef3-4efd-8015-96f05f1775d9",
   "metadata": {
    "papermill": {},
    "tags": []
   },
   "source": [
    "### Setting up email"
   ]
  },
  {
   "cell_type": "code",
   "execution_count": 138,
   "id": "049639c7-3e6f-4077-aa63-dc3f1370992e",
   "metadata": {
    "papermill": {},
    "tags": []
   },
   "outputs": [],
   "source": [
    "firstname_list = email_list_data[\"FIRSTNAME\"]\n",
    "email_list = email_list_data[\"EMAIL\"]"
   ]
  },
  {
   "cell_type": "markdown",
   "id": "07586b13-6d49-4509-81ba-a4522c38acc9",
   "metadata": {
    "papermill": {},
    "tags": []
   },
   "source": [
    "### Get database from notion"
   ]
  },
  {
   "cell_type": "code",
   "execution_count": 154,
   "id": "afbeb540-10a2-45b2-86c9-94cbdccfa9e3",
   "metadata": {
    "papermill": {},
    "tags": []
   },
   "outputs": [],
   "source": [
    "def create_notion_connection():\n",
    "    database = notion.connect(token).database.get(database_id)\n",
    "    df_db = database.df()\n",
    "    print(df_db)\n",
    "    return df_db"
   ]
  },
  {
   "cell_type": "markdown",
   "id": "6e2659a4-c4e2-4419-ab11-397bc8494037",
   "metadata": {
    "papermill": {},
    "tags": []
   },
   "source": [
    "### Send data to Gsheet"
   ]
  },
  {
   "cell_type": "code",
   "execution_count": 140,
   "id": "e49914e3-8780-4435-a9b5-1e4fc29c7773",
   "metadata": {
    "papermill": {},
    "tags": []
   },
   "outputs": [],
   "source": [
    "# Send data to Gsheet\n",
    "def send_data_to_gsheet(data):\n",
    "    gsheet.connect(spreadsheet_id)\n",
    "    gsheet.send(sheet_name=item_list_sheet_name, data=data)"
   ]
  },
  {
   "cell_type": "markdown",
   "id": "16cad8ef-11d5-4602-b92d-5ec55bf70912",
   "metadata": {
    "papermill": {},
    "tags": []
   },
   "source": [
    "### Get new items from Notion\n",
    "\n",
    "Let's fetch out the new items from Notion\n",
    "\n",
    "Here our unique key is **Id**"
   ]
  },
  {
   "cell_type": "code",
   "execution_count": 158,
   "id": "ee388d3a-b533-43e9-b799-e4d62b9d4abb",
   "metadata": {
    "papermill": {},
    "tags": []
   },
   "outputs": [],
   "source": [
    "# Get new notion items list\n",
    "def get_new_items_list(df_db):\n",
    "\n",
    "    if not list(item_list_history):\n",
    "        new_items = df_db\n",
    "    else:\n",
    "        item_list_history[\"Id\"] = item_list_history[\"Id\"].astype(int)\n",
    "        df_db[\"Id\"] = df_db[\"Id\"].astype(int)\n",
    "\n",
    "        common = df_db.merge(item_list_history, on=[\"Id\"])\n",
    "        new_items = df_db[~df_db.Id.isin(common.Id)]\n",
    "\n",
    "    data = []\n",
    "\n",
    "    for i in range(len(new_items.index)):\n",
    "        dictionary = {}\n",
    "        for col in new_items.columns:\n",
    "            dictionary[col] = str(new_items.iloc[i][col])\n",
    "        data.append(dictionary)\n",
    "\n",
    "    send_data_to_gsheet(data)\n",
    "\n",
    "    return data"
   ]
  },
  {
   "cell_type": "markdown",
   "id": "61fae1fc-9f82-4956-a28f-efb98dc823cd",
   "metadata": {
    "papermill": {},
    "tags": []
   },
   "source": [
    "### Create email content"
   ]
  },
  {
   "cell_type": "code",
   "execution_count": 165,
   "id": "85186ed8-d60c-44a3-b836-ef47d14c5670",
   "metadata": {
    "papermill": {},
    "tags": []
   },
   "outputs": [],
   "source": [
    "# Get email contents\n",
    "def get_mail_content():\n",
    "    email_content = html.generate(\n",
    "        display=\"iframe\",\n",
    "        title=\"Updates here!!\",\n",
    "        heading=\"Hi {first_name}, you have some new items in you notion list\",\n",
    "        text_1=\"Following are the new list of items seperated by comma : \",\n",
    "        text_2=\"{new_items_list}\",\n",
    "        text_3=\"Have a great day!!\",\n",
    "    )\n",
    "    # print(email_content)\n",
    "    return email_content"
   ]
  },
  {
   "cell_type": "markdown",
   "id": "59eff121-e0f4-4879-8247-00feae393b3e",
   "metadata": {
    "papermill": {},
    "tags": []
   },
   "source": [
    "### Sending Emails"
   ]
  },
  {
   "cell_type": "code",
   "execution_count": 160,
   "id": "9320bbb6-c79a-473c-98bb-8130d4f84dad",
   "metadata": {
    "papermill": {},
    "tags": []
   },
   "outputs": [],
   "source": [
    "# Send mail to recipients\n",
    "def send_mail(new_items_list):\n",
    "    email_content = get_mail_content()\n",
    "    for i in range(len(email_list_data)):\n",
    "        subject = \"Update on Notion items\"\n",
    "        content = email_content.replace(\"{first_name}\", firstname_list[i]).replace(\n",
    "            \"{new_items_list}\", new_items_list\n",
    "        )\n",
    "        naas.notifications.send(\n",
    "            email_to=email_list[i], subject=subject, html=content, email_from=your_email\n",
    "        )"
   ]
  },
  {
   "cell_type": "markdown",
   "id": "6b4c290b-7b34-4b10-997d-168544e20600",
   "metadata": {
    "papermill": {},
    "tags": []
   },
   "source": [
    "## Output"
   ]
  },
  {
   "cell_type": "code",
   "execution_count": 3,
   "id": "36d6c023-bd2a-4599-9bc9-7513174f050d",
   "metadata": {
    "papermill": {},
    "tags": []
   },
   "outputs": [],
   "source": [
    "df = create_notion_connection()"
   ]
  },
  {
   "cell_type": "code",
   "execution_count": 162,
   "id": "e7d788a4-6168-4c8f-97be-283b079466f6",
   "metadata": {
    "papermill": {},
    "tags": []
   },
   "outputs": [],
   "source": [
    "new_items_list = get_new_items_list(df)\n",
    "new_items_list = \", \".join([data[\"Books\"] for data in new_items_list])"
   ]
  },
  {
   "cell_type": "code",
   "execution_count": 4,
   "id": "553df7f4-1253-4a2c-bdf8-be1708fd5770",
   "metadata": {
    "papermill": {},
    "tags": []
   },
   "outputs": [],
   "source": [
    "if new_items_list:\n",
    "    send_mail(new_items_list)\n",
    "else:\n",
    "    print(\"No new items!!\")"
   ]
  }
 ],
 "metadata": {
  "kernelspec": {
   "display_name": "Python 3",
   "language": "python",
   "name": "python3"
  },
  "language_info": {
   "codemirror_mode": {
    "name": "ipython",
    "version": 3
   },
   "file_extension": ".py",
   "mimetype": "text/x-python",
   "name": "python",
   "nbconvert_exporter": "python",
   "pygments_lexer": "ipython3",
   "version": "3.9.6"
  },
  "naas": {
   "notebook_id": "906dd0ec9b68828a094cc58111e34dd14acf152e2491afde7116537297f31733",
   "notebook_path": "Notion/Notion_Sent_Gmail_On_New_Item.ipynb"
  },
  "papermill": {
   "default_parameters": {},
   "environment_variables": {},
   "parameters": {},
   "version": "2.3.3"
  }
 },
 "nbformat": 4,
 "nbformat_minor": 5
}