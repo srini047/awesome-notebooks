{
 "cells": [
  {
   "cell_type": "markdown",
   "id": "61c2f1de-017e-4402-9b54-688d23c3be98",
   "metadata": {
    "papermill": {},
    "tags": []
   },
   "source": [
    "<img width=\"10%\" alt=\"Naas\" src=\"https://landen.imgix.net/jtci2pxwjczr/assets/5ice39g4.png?w=160\"/>\n"
   ]
  },
  {
   "cell_type": "markdown",
   "id": "a1a00e55-43c3-42de-a4d9-6e012e90b028",
   "metadata": {
    "papermill": {},
    "tags": []
   },
   "source": [
    "# Notion - Add new github member to team from database\n",
    "<a href=\"https://app.naas.ai/user-redirect/naas/downloader?url=https://raw.githubusercontent.com/jupyter-naas/awesome-notebooks/master/Notion/Notion_Add_new_github_member_to_team_from_database.ipynb\" target=\"_parent\"><img src=\"https://naasai-public.s3.eu-west-3.amazonaws.com/open_in_naas.svg\"/></a><br><br><a href=\"https://github.com/jupyter-naas/awesome-notebooks/issues/new?assignees=&labels=&template=template-request.md&title=Tool+-+Action+of+the+notebook+\">Template request</a> | <a href=\"https://github.com/jupyter-naas/awesome-notebooks/issues/new?assignees=&labels=bug&template=bug_report.md&title=Notion+-+Add+new+github+member+to+team+from+database:+Error+short+description\">Bug report</a>"
   ]
  },
  {
   "cell_type": "markdown",
   "id": "d49cf6f9-80fc-4b45-bcbe-1ae303320a15",
   "metadata": {
    "papermill": {},
    "tags": []
   },
   "source": [
    "**Tags:** #github #teams #automation #notion #operations"
   ]
  },
  {
   "cell_type": "markdown",
   "id": "789b8628-7702-4d29-b2a3-e404131451ce",
   "metadata": {
    "papermill": {},
    "tags": []
   },
   "source": [
    "**Author:** [Sanjeet Attili](https://linkedin.com/in/sanjeet-attili-760bab190/)\n"
   ]
  },
  {
   "cell_type": "markdown",
   "id": "naas-description",
   "metadata": {
    "papermill": {},
    "tags": [
     "description"
    ]
   },
   "source": [
    "**Description:** This notebook allows users to add new GitHub members to their team from a database in Notion."
   ]
  },
  {
   "cell_type": "markdown",
   "id": "297189e7-2c7e-4e6b-9281-22c22107d646",
   "metadata": {
    "papermill": {},
    "tags": []
   },
   "source": [
    "## Input"
   ]
  },
  {
   "cell_type": "markdown",
   "id": "cec91d5d-003c-4313-b343-eb411ba76249",
   "metadata": {
    "papermill": {},
    "tags": []
   },
   "source": [
    "### Import libraries"
   ]
  },
  {
   "cell_type": "code",
   "execution_count": 2,
   "id": "952e49c6-86cf-46d0-b6e3-f9300309dead",
   "metadata": {
    "execution": {
     "iopub.execute_input": "2022-05-21T10:07:59.017821Z",
     "iopub.status.busy": "2022-05-21T10:07:59.017473Z",
     "iopub.status.idle": "2022-05-21T10:07:59.024159Z",
     "shell.execute_reply": "2022-05-21T10:07:59.023411Z",
     "shell.execute_reply.started": "2022-05-21T10:07:59.017779Z"
    },
    "papermill": {},
    "tags": []
   },
   "outputs": [],
   "source": [
    "import requests\n",
    "from naas_drivers import github, notion\n",
    "import naas\n",
    "import pandas as pd"
   ]
  },
  {
   "cell_type": "markdown",
   "id": "f590c7c5-bf46-41b4-b52e-c19b1a236b70",
   "metadata": {
    "papermill": {},
    "tags": []
   },
   "source": [
    "### Setup Notion\n",
    "\n",
    "- [Get your Notion integration token](https://docs.naas.ai/drivers/notion)\n",
    "- Share integration with your database\n"
   ]
  },
  {
   "cell_type": "markdown",
   "id": "cce10e19-65c8-4c2f-8840-75b6e78fa67a",
   "metadata": {
    "papermill": {},
    "tags": []
   },
   "source": [
    "### Setup Slack\n"
   ]
  },
  {
   "cell_type": "code",
   "execution_count": 24,
   "id": "622f623f-c412-4629-9ea7-336743a77e83",
   "metadata": {
    "execution": {
     "iopub.execute_input": "2022-05-21T10:52:19.222324Z",
     "iopub.status.busy": "2022-05-21T10:52:19.222064Z",
     "iopub.status.idle": "2022-05-21T10:52:19.225395Z",
     "shell.execute_reply": "2022-05-21T10:52:19.224788Z",
     "shell.execute_reply.started": "2022-05-21T10:52:19.222297Z"
    },
    "papermill": {},
    "tags": []
   },
   "outputs": [],
   "source": [
    "# Enter Token API\n",
    "NOTION_TOKEN = \"secret_LnpbBqBP5qjXXXXXXXXXXXXXX\"\n",
    "\n",
    "# Enter Database id\n",
    "DATABASE_ID = \"https://www.notion.so/7483186a133a47ff9af4df3495?XXXXXXXXXXXXXX\"\n",
    "\n",
    "# Enter column name of the members from notion\n",
    "unique_column_name = \"COLUMN_NAME\""
   ]
  },
  {
   "cell_type": "markdown",
   "id": "8d74bea3-2f93-40d4-9393-8708fbfb504b",
   "metadata": {
    "papermill": {},
    "tags": []
   },
   "source": [
    "### Setup Github\n",
    "**How to find your personal access token on Github?**\n",
    "\n",
    "- First we need to create a personal access token to get the details of our organization from [here](https://github.com/settings/tokens)\n",
    "- You will be asked to select scopes for the token. Which scopes you choose will determine what information and actions you will be able to perform against the API.\n",
    "- You should be careful with the ones prefixed with write:, delete: and admin: as these might be quite destructive.\n",
    "- You can find description of each scope in docs [here](https://docs.github.com/en/developers/apps/building-oauth-apps/scopes-for-oauth-apps)."
   ]
  },
  {
   "cell_type": "code",
   "execution_count": 4,
   "id": "cea2ce07-f72c-480e-8be0-23f112a4203d",
   "metadata": {
    "execution": {
     "iopub.execute_input": "2022-05-21T10:08:01.742335Z",
     "iopub.status.busy": "2022-05-21T10:08:01.742047Z",
     "iopub.status.idle": "2022-05-21T10:08:01.748347Z",
     "shell.execute_reply": "2022-05-21T10:08:01.747647Z",
     "shell.execute_reply.started": "2022-05-21T10:08:01.742306Z"
    },
    "papermill": {},
    "tags": []
   },
   "outputs": [],
   "source": [
    "# GitHub token\n",
    "GITHUB_TOKEN = \"ENTER_YOUR_GITHUB_TOKEN_HERE\"  # EXAMPLE : \"ghp_fUYP0Z5i29AG4ggX8owctGnHU**********\"\n",
    "\n",
    "# GitHub teams url\n",
    "GITHUB_TEAMS_URL = \"ENTER_YOUR_GITHUB_TEAMS_URL_HERE\"  # EXAMPLE : \"https://github.com/orgs/jupyter-naas/teams/opensource-contributors\""
   ]
  },
  {
   "cell_type": "markdown",
   "id": "50ef2e57-fc73-438a-a0c0-70948cd3a344",
   "metadata": {
    "papermill": {},
    "tags": []
   },
   "source": [
    "### Setup Naas scheduler"
   ]
  },
  {
   "cell_type": "code",
   "execution_count": null,
   "id": "32955ef6-33b8-44c1-b685-ca647abe06e3",
   "metadata": {
    "papermill": {},
    "tags": []
   },
   "outputs": [],
   "source": [
    "# Schedule the notebook to run every day at 09:00 hrs\n",
    "naas.scheduler.add(cron=\"0 9 * * *\")\n",
    "\n",
    "# To delete your scheduler, uncomment the line below and execute the cell\n",
    "# naas.scheduler.delete()"
   ]
  },
  {
   "cell_type": "markdown",
   "id": "bbeb1b94-00a6-452e-b7c0-9748165a52f0",
   "metadata": {
    "papermill": {},
    "tags": []
   },
   "source": [
    "## Model"
   ]
  },
  {
   "cell_type": "markdown",
   "id": "8f3f9b7e-aeb8-4a2d-9df8-091379e5f971",
   "metadata": {
    "papermill": {},
    "tags": []
   },
   "source": [
    "### Get profiles from Notion database\n"
   ]
  },
  {
   "cell_type": "code",
   "execution_count": 23,
   "id": "8274b332-f73d-4a86-ab10-270a8187902a",
   "metadata": {
    "execution": {
     "iopub.execute_input": "2022-05-21T10:47:55.305534Z",
     "iopub.status.busy": "2022-05-21T10:47:55.305296Z",
     "iopub.status.idle": "2022-05-21T10:47:56.255849Z",
     "shell.execute_reply": "2022-05-21T10:47:56.255284Z",
     "shell.execute_reply.started": "2022-05-21T10:47:55.305511Z"
    },
    "papermill": {},
    "tags": []
   },
   "outputs": [],
   "source": [
    "# df_notion = notion.connect(NOTION_TOKEN).database.query(DATABASE_ID, query={})\n",
    "df_notion = notion.connect(NOTION_TOKEN).database.get(DATABASE_ID).df()\n",
    "df_notion.head()"
   ]
  },
  {
   "cell_type": "markdown",
   "id": "97f81b02-7eb1-4af2-8a4d-306451d7d3ca",
   "metadata": {
    "papermill": {},
    "tags": []
   },
   "source": [
    "### Get team members from GitHub"
   ]
  },
  {
   "cell_type": "code",
   "execution_count": 35,
   "id": "10cfa2ca-f94e-4ba3-a653-959ac89e7845",
   "metadata": {
    "execution": {
     "iopub.execute_input": "2022-05-21T11:08:19.022071Z",
     "iopub.status.busy": "2022-05-21T11:08:19.021757Z",
     "iopub.status.idle": "2022-05-21T11:08:21.128223Z",
     "shell.execute_reply": "2022-05-21T11:08:21.127439Z",
     "shell.execute_reply.started": "2022-05-21T11:08:19.022039Z"
    },
    "papermill": {},
    "tags": []
   },
   "outputs": [],
   "source": [
    "def get_team(team_url):\n",
    "    # Init variables\n",
    "    df = pd.DataFrame()\n",
    "\n",
    "    # Get team id\n",
    "    team_id = team_url.split(\"/teams/\")[-1]\n",
    "\n",
    "    # Get all teams\n",
    "    df_teams = github.connect(GITHUB_TOKEN).teams.get_profiles(GITHUB_TEAMS_URL)\n",
    "\n",
    "    # Filter on team\n",
    "    df = df_teams[df_teams.SLUG == team_id]\n",
    "    print(f\"{len(df)} members in team: {team_id}\")\n",
    "    return df.reset_index(drop=True)\n",
    "\n",
    "\n",
    "df_teams = get_team(GITHUB_TEAMS_URL)\n",
    "df_teams.head(5)"
   ]
  },
  {
   "cell_type": "markdown",
   "id": "690cdb12-7cc0-46ba-9482-afebe1dd18c0",
   "metadata": {
    "papermill": {},
    "tags": []
   },
   "source": [
    "### Get new members"
   ]
  },
  {
   "cell_type": "code",
   "execution_count": 57,
   "id": "3dbfe5bf-18ce-44da-8e05-c979cf45c82e",
   "metadata": {
    "execution": {
     "iopub.execute_input": "2022-05-21T11:16:15.977013Z",
     "iopub.status.busy": "2022-05-21T11:16:15.976789Z",
     "iopub.status.idle": "2022-05-21T11:16:15.985071Z",
     "shell.execute_reply": "2022-05-21T11:16:15.984464Z",
     "shell.execute_reply.started": "2022-05-21T11:16:15.976991Z"
    },
    "papermill": {},
    "tags": []
   },
   "outputs": [],
   "source": [
    "def get_new_members(df_notion, df_teams):\n",
    "    # Init output\n",
    "    new_members = []\n",
    "\n",
    "    # Get members from notion\n",
    "    notion_members = df_notion[unique_column_name].unique().tolist()\n",
    "\n",
    "    # Get teams members\n",
    "    teams_members_email, teams_members_login = [], []\n",
    "    for mail, name in zip(\n",
    "        df_teams[\"EMAIL\"].to_list(), df_teams[\"LOGIN_NAME\"].to_list()\n",
    "    ):\n",
    "        if str(mail) != \"nan\" and mail != None:\n",
    "            teams_members_email.append(mail.lower())\n",
    "\n",
    "        if str(name) != \"nan\" and name != None:\n",
    "            teams_members_login.append(name.lower())\n",
    "\n",
    "    teams_members_email, teams_members_login = list(set(teams_members_email)), list(\n",
    "        set(teams_members_login)\n",
    "    )\n",
    "\n",
    "    # Get new members\n",
    "    for member in notion_members:\n",
    "        member = str(member).split(\"https://github.com/\")[-1].split(\"/\")[0].lower()\n",
    "        if member not in teams_members_login and member not in teams_members_email:\n",
    "            new_members = new_members + [member]\n",
    "    return new_members\n",
    "\n",
    "\n",
    "new_members = get_new_members(df_notion, df_teams)\n",
    "new_members"
   ]
  },
  {
   "cell_type": "markdown",
   "id": "12dfc181-fdaa-4a92-a171-14a986f66284",
   "metadata": {
    "papermill": {},
    "tags": []
   },
   "source": [
    "### Add new members from database"
   ]
  },
  {
   "cell_type": "code",
   "execution_count": 33,
   "id": "f64c13f6-97b0-4960-b7b9-11e510fda2da",
   "metadata": {
    "execution": {
     "iopub.execute_input": "2022-05-21T11:05:24.947123Z",
     "iopub.status.busy": "2022-05-21T11:05:24.946823Z",
     "iopub.status.idle": "2022-05-21T11:05:25.993411Z",
     "shell.execute_reply": "2022-05-21T11:05:25.992833Z",
     "shell.execute_reply.started": "2022-05-21T11:05:24.947088Z"
    },
    "papermill": {},
    "tags": []
   },
   "outputs": [],
   "source": [
    "def add_members(team_url, new_members):\n",
    "    # Init output\n",
    "    df = pd.DataFrame()\n",
    "\n",
    "    # Get org id and team id\n",
    "    team_id = team_url.split(\"/teams/\")[-1].split(\"/\")[0]\n",
    "    team_org = team_url.split(\"https://github.com/orgs/\")[-1].split(\"/\")[0]\n",
    "\n",
    "    # If a particular member already is present in the team,\n",
    "    # then it does not create a copy of that member. No need to worry :)\n",
    "    if isinstance(new_members, str):\n",
    "        new_members = [new_members]\n",
    "\n",
    "    # Add new members to team\n",
    "    data = []\n",
    "    for member in new_members:\n",
    "        req_url = f\"https://api.github.com/orgs/{team_org}/teams/{team_id}/memberships/{member}\"\n",
    "        headers = {\n",
    "            \"Authorization\": f\"token {GITHUB_TOKEN}\",\n",
    "            \"Accept\": \"application/vnd.github.v3+json\",\n",
    "        }\n",
    "        res = requests.put(req_url, headers=headers)\n",
    "        try:\n",
    "            res.raise_for_status()\n",
    "        except Exception as e:\n",
    "            print(e)\n",
    "\n",
    "        if res.status_code == 200:\n",
    "            print(f\"✅ Member {member} successfully invited to your team {team_id}\")\n",
    "            res_json = res.json()\n",
    "            data.append(res_json)\n",
    "\n",
    "    # Send result as dataframe\n",
    "    df = pd.DataFrame(data)\n",
    "    return df.reset_index(drop=True)\n",
    "\n",
    "\n",
    "df_new = add_members(GITHUB_TEAMS_URL, new_members)"
   ]
  },
  {
   "cell_type": "markdown",
   "id": "362877d6-6f6d-42fe-bef1-6a68160ede01",
   "metadata": {
    "papermill": {},
    "tags": []
   },
   "source": [
    "## Output"
   ]
  },
  {
   "cell_type": "code",
   "execution_count": 34,
   "id": "6ffc4439-a9d7-482d-80fb-a1e5a36b4faf",
   "metadata": {
    "execution": {
     "iopub.execute_input": "2022-05-21T11:06:05.267955Z",
     "iopub.status.busy": "2022-05-21T11:06:05.267666Z",
     "iopub.status.idle": "2022-05-21T11:06:05.277880Z",
     "shell.execute_reply": "2022-05-21T11:06:05.277373Z",
     "shell.execute_reply.started": "2022-05-21T11:06:05.267926Z"
    },
    "papermill": {},
    "tags": []
   },
   "outputs": [],
   "source": [
    "df_new"
   ]
  }
 ],
 "metadata": {
  "kernelspec": {
   "display_name": "Python 3",
   "language": "python",
   "name": "python3"
  },
  "language_info": {
   "codemirror_mode": {
    "name": "ipython",
    "version": 3
   },
   "file_extension": ".py",
   "mimetype": "text/x-python",
   "name": "python",
   "nbconvert_exporter": "python",
   "pygments_lexer": "ipython3",
   "version": "3.9.6"
  },
  "papermill": {
   "default_parameters": {},
   "environment_variables": {},
   "parameters": {},
   "version": "2.3.4"
  }
 },
 "nbformat": 4,
 "nbformat_minor": 5
}