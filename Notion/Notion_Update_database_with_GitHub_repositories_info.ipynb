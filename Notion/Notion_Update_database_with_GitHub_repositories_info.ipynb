{
 "cells": [
  {
   "cell_type": "markdown",
   "id": "91b6dfd3-ecfc-43f0-bf37-e376f7b69e2e",
   "metadata": {
    "papermill": {},
    "tags": []
   },
   "source": [
    "<img width=\"10%\" alt=\"Naas\" src=\"https://landen.imgix.net/jtci2pxwjczr/assets/5ice39g4.png?w=160\"/>"
   ]
  },
  {
   "cell_type": "markdown",
   "id": "f20a79d3-c77e-4162-a6af-d268bc4ff7b9",
   "metadata": {
    "papermill": {},
    "tags": []
   },
   "source": [
    "# Notion - Update database with GitHub repositories info\n",
    "<a href=\"https://app.naas.ai/user-redirect/naas/downloader?url=https://raw.githubusercontent.com/jupyter-naas/awesome-notebooks/master/Notion/Notion_Update_database_with_GitHub_repositories_info.ipynb\" target=\"_parent\"><img src=\"https://naasai-public.s3.eu-west-3.amazonaws.com/Open_in_Naas_Lab.svg\"/></a><br><br><a href=\"https://github.com/jupyter-naas/awesome-notebooks/issues/new?assignees=&labels=&template=template-request.md&title=Tool+-+Action+of+the+notebook+\">Template request</a> | <a href=\"https://github.com/jupyter-naas/awesome-notebooks/issues/new?assignees=&labels=bug&template=bug_report.md&title=Notion+-+Update+database+with+GitHub+repositories+info:+Error+short+description\">Bug report</a> | <a href=\"https://app.naas.ai/user-redirect/naas/downloader?url=https://raw.githubusercontent.com/jupyter-naas/awesome-notebooks/master/Naas/Naas_Start_data_product.ipynb\" target=\"_parent\">Generate Data Product</a>"
   ]
  },
  {
   "cell_type": "markdown",
   "id": "65bb84a6-f9ea-42e9-abe8-da06758ff300",
   "metadata": {
    "papermill": {},
    "tags": []
   },
   "source": [
    "**Tags:** #notion #database #update #github #repositories #automation #scheduler"
   ]
  },
  {
   "cell_type": "markdown",
   "id": "1ea9d202-dc09-4748-9cfe-7712078e87d0",
   "metadata": {
    "papermill": {},
    "tags": []
   },
   "source": [
    "**Author:** [Florent Ravenel](https://www.linkedin.com/in/florent-ravenel/)"
   ]
  },
  {
   "cell_type": "markdown",
   "id": "8db0c2aa-ff3f-42ba-807c-2221129f3c61",
   "metadata": {
    "papermill": {},
    "tags": []
   },
   "source": [
    "**Description:** This notebook updates a Notion database with information from all repositories within your GitHub organization. The following data will be updated in your Notion database:\n",
    "- Name: The name of the repository.\n",
    "- GitHub URL: The URL for the repository on GitHub.\n",
    "- Description: A brief description of what the repository is for.\n",
    "- Default branch: The default branch for the repository (i.e., the branch that is checked out when someone first clones the repository).\n",
    "- Visibility: The visibility status of the repository (e.g., public, private, or internal).\n",
    "- Created date: The date when the repository was created.\n",
    "- Last updated date: The date when the repository was last updated.\n",
    "- Open Issues: The number of unresolved issues (i.e., bug reports, feature requests, or other tasks) in the repository.\n",
    "- Forks: The number of times the repository has been forked (i.e., copied to another GitHub account).\n",
    "- Stargazers: The number of GitHub users who have \"starred\" the repository (i.e., marked it as a favorite).\n",
    "- Size: The size of the repository in terms of disk space used."
   ]
  },
  {
   "cell_type": "markdown",
   "id": "ad8cdb6b-f7bf-44d7-bb9c-b1b244f3f935",
   "metadata": {
    "papermill": {},
    "tags": []
   },
   "source": [
    "**References:**\n",
    "- [Notion Drivers](https://github.com/jupyter-naas/drivers/blob/main/naas_drivers/tools/notion.py)\n",
    "- [PyGithub](https://pypi.org/project/PyGithub/)"
   ]
  },
  {
   "cell_type": "markdown",
   "id": "b6a91cf0-e83e-4812-91cb-7cb030c1128d",
   "metadata": {
    "papermill": {},
    "tags": []
   },
   "source": [
    "## Input"
   ]
  },
  {
   "cell_type": "markdown",
   "id": "1a3276ae-5b97-4737-ba44-0b748c4ad216",
   "metadata": {
    "papermill": {},
    "tags": []
   },
   "source": [
    "### Import libraries"
   ]
  },
  {
   "cell_type": "code",
   "execution_count": 1,
   "id": "120e7d13-d71b-4faa-8d71-416c2fa0c2c6",
   "metadata": {
    "papermill": {},
    "tags": []
   },
   "outputs": [],
   "source": [
    "import naas\n",
    "from naas_drivers import notion\n",
    "import pandas as pd\n",
    "import re\n",
    "from datetime import datetime\n",
    "import os\n",
    "import requests\n",
    "import naas\n",
    "import github"
   ]
  },
  {
   "cell_type": "markdown",
   "id": "723be956-205d-4dc2-8398-c5153cbec653",
   "metadata": {
    "papermill": {},
    "tags": []
   },
   "source": [
    "### Setup Variables\n",
    "[Generate your personal access token](https://github.com/settings/tokens) and add \"repo\" in your scope.\n",
    "- `github_token`: GitHub personal access token\n",
    "- `github_organization`: GitHub organization name\n",
    "\n",
    "[Create integration with Notion](https://developers.notion.com/docs/create-a-notion-integration)\n",
    "- `notion_token`: Notion token shared with your database\n",
    "- `database_key`: Database key name = page title in notion\n",
    "- `force_update`: By default, the value is set to False, indicating that only dynamic data such as Forks, Stargazers, Open Issues, and Last updated date will be updated.\n",
    "- `notion_database`: URL of your notion database\n",
    "- `output_dir`: directory to save data extracted from LinkedIn"
   ]
  },
  {
   "cell_type": "code",
   "execution_count": 2,
   "id": "440f4a38-12df-4a92-b6ad-16c012aa1237",
   "metadata": {
    "papermill": {},
    "tags": []
   },
   "outputs": [],
   "source": [
    "# Inputs\n",
    "github_token = naas.secret.get('GITHUB_TOKEN') or \"YOUR_TOKEN\"\n",
    "github_organization = \"jupyter-naas\"\n",
    "notion_token = naas.secret.get(\"NOTION_TOKEN_METRICS\") or \"YOUR_TOKEN\"\n",
    "database_key = \"Name\"\n",
    "force_update = False\n",
    "\n",
    "# Outputs\n",
    "notion_database = \"https://www.notion.so/naas-official/93377d8407d84b01b26558913ff6b573?v=1122f024d70e4099aa51f70f0fa9b1ae&pvs=4\"\n",
    "output_dir = \"/home/ftp/naas-notion-os/outputs/repositories\""
   ]
  },
  {
   "cell_type": "markdown",
   "id": "c8e49663-ab67-4220-9290-ad6bf8c65fa2",
   "metadata": {
    "papermill": {},
    "tags": []
   },
   "source": [
    "### Schedule your automation"
   ]
  },
  {
   "cell_type": "code",
   "execution_count": 3,
   "id": "d98d8d5c-7a74-4998-8f18-c2c8ac5b3a16",
   "metadata": {
    "papermill": {},
    "tags": []
   },
   "outputs": [],
   "source": [
    "# Schedule during week days every day at 8:00 PM\n",
    "naas.scheduler.add(cron=\"0 20 * * 1-5\")\n",
    "\n",
    "# naas.scheduler.delete() # uncomment and execute cell to delete automation"
   ]
  },
  {
   "cell_type": "markdown",
   "id": "65bb6473-255b-4cc8-a821-dca6c828b269",
   "metadata": {
    "papermill": {},
    "tags": []
   },
   "source": [
    "## Model"
   ]
  },
  {
   "cell_type": "markdown",
   "id": "7f61d1b5-5040-4fb8-addd-bc312082171b",
   "metadata": {
    "papermill": {},
    "tags": []
   },
   "source": [
    "### Get Notion DB"
   ]
  },
  {
   "cell_type": "code",
   "execution_count": 4,
   "id": "e97669ac-6b96-4e49-aa30-47e706f2286a",
   "metadata": {
    "papermill": {},
    "tags": []
   },
   "outputs": [],
   "source": [
    "def create_notion_db(notion_database, key, token):\n",
    "    # Get database\n",
    "    database_id = notion_database.split(\"/\")[-1].split(\"?v=\")[0]\n",
    "    pages = notion.connect(token).database.query(database_id, query={})\n",
    "\n",
    "    # Init\n",
    "    df_output = pd.DataFrame()\n",
    "    \n",
    "    # Loop on page\n",
    "    for page in pages:\n",
    "        # Get page_id\n",
    "        page_id = page.id\n",
    "        \n",
    "        # Create dataframe from page\n",
    "        df = page.df()\n",
    "        \n",
    "        # Remove empty pages\n",
    "        page_title = df.loc[df.Name == key, \"Value\"].values[0]\n",
    "        if page_title == \"\":\n",
    "            notion.connect(token).blocks.delete(page_id)\n",
    "            print(f\"Page '{page_id}' empty => removed from database\")\n",
    "        else:\n",
    "            # Pivot rows to columns\n",
    "            columns = df[\"Name\"].unique().tolist()\n",
    "            new_df = df.copy()\n",
    "            new_df = new_df.drop(\"Type\", axis=1)\n",
    "            new_df = new_df.T\n",
    "            for i, c in enumerate(new_df.columns):\n",
    "                new_df = new_df.rename(columns={c: columns[i]})\n",
    "            new_df = new_df.drop(\"Name\").reset_index(drop=True)\n",
    "\n",
    "            # Add page ID\n",
    "            new_df[\"PAGE_ID\"] = page_id\n",
    "\n",
    "            # Concat dataframe\n",
    "            df_output = pd.concat([df_output, new_df])\n",
    "    return df_output\n",
    "\n",
    "df_notion = create_notion_db(\n",
    "    notion_database,\n",
    "    database_key,\n",
    "    notion_token\n",
    ")\n",
    "print(\"📊 Notion DB:\", len(df_notion))\n",
    "df_notion.head(1)"
   ]
  },
  {
   "cell_type": "markdown",
   "id": "eded1c47-6a97-4f54-9b42-448229eb34e0",
   "metadata": {
    "papermill": {},
    "tags": []
   },
   "source": [
    "### List organization repositories"
   ]
  },
  {
   "cell_type": "markdown",
   "id": "6d372b52-9ffa-4a4c-a42b-3743635360d2",
   "metadata": {
    "papermill": {},
    "tags": []
   },
   "source": [
    "Using the [PyGithub](https://pygithub.readthedocs.io/en/latest/) library, we can list all the repositories of an organization."
   ]
  },
  {
   "cell_type": "code",
   "execution_count": 5,
   "id": "0a6b8f09-e752-4fcf-9ba8-c776e298bc21",
   "metadata": {
    "papermill": {},
    "tags": []
   },
   "outputs": [],
   "source": [
    "# Create a Github instance\n",
    "g = github.Github(github_token)\n",
    "# Get the organization\n",
    "org = g.get_organization(github_organization)\n",
    "# List all the repositories\n",
    "repos = org.get_repos()"
   ]
  },
  {
   "cell_type": "markdown",
   "id": "e856e144-c91c-484a-9ec5-9a7c709ef71a",
   "metadata": {
    "papermill": {},
    "tags": []
   },
   "source": [
    "## Output"
   ]
  },
  {
   "cell_type": "markdown",
   "id": "fac2527c-b025-4407-9300-13ac8018b1f7",
   "metadata": {
    "papermill": {},
    "tags": []
   },
   "source": [
    "### Update data in Notion"
   ]
  },
  {
   "cell_type": "code",
   "execution_count": 6,
   "id": "198c2b78-87ff-4a69-80da-b1741d2c4544",
   "metadata": {
    "papermill": {},
    "tags": []
   },
   "outputs": [],
   "source": [
    "# Get data\n",
    "database_id = notion_database.split(\"/\")[-1].split(\"?v=\")[0]\n",
    "for repo in repos:\n",
    "    # Init\n",
    "    page_new = False\n",
    "    page_id = None\n",
    "    name = repo.name\n",
    "    print(\"➡️ Started for:\", name)\n",
    "    \n",
    "    # Create or get page\n",
    "    notion_page = df_notion.loc[df_notion[\"Name\"] == name, \"PAGE_ID\"]\n",
    "    if len(notion_page) > 0:\n",
    "        page_id = notion_page.values[0]\n",
    "        page = notion.connect(notion_token).page.get(page_id)\n",
    "    else:\n",
    "        page = notion.connect(notion_token).Page.new(database_id=database_id).create()\n",
    "        page.title(\"Name\", repo.name)\n",
    "        page_new = True\n",
    "        \n",
    "    # Update static data\n",
    "    if page_new or force_update:\n",
    "        page.date(\"Created date\", repo.created_at.strftime(\"%Y-%m-%d\"))\n",
    "        page.link(\"GitHub url\", repo.html_url)\n",
    "        page.select(\"Default branch\", repo.default_branch)\n",
    "        page.select(\"Visibility\", repo.visibility)\n",
    "        if repo.description:\n",
    "            page.rich_text(\"Description\", repo.description)\n",
    "            \n",
    "    # Update dynamic data\n",
    "    page.number(\"Stargazers\", repo.stargazers_count)\n",
    "    page.number(\"Forks\", repo.forks_count)\n",
    "    page.number(\"Size\", repo.size)\n",
    "    page.number(\"Open Issues\", repo.open_issues)\n",
    "    page.date(\"Last updated date\", repo.updated_at.strftime(\"%Y-%m-%d\"))\n",
    "    page.update()\n",
    "    print(f\"✅ Data successfully updated in Notion.\")\n",
    "    \n",
    "    # Save page to csv\n",
    "    df = page.df()\n",
    "    csv_name = f\"{datetime.now().strftime('%Y%m%d')}_{name}_info.csv\"\n",
    "    output_path = os.path.join(output_dir, name)\n",
    "    if not os.path.exists(output_path):\n",
    "        os.makedirs(output_path)\n",
    "    csv_path = os.path.join(output_path, csv_name)\n",
    "    df.to_csv(csv_path, index=False)\n",
    "    print(f\"✅ Data saved to csv:\", csv_path)"
   ]
  }
 ],
 "metadata": {
  "kernelspec": {
   "display_name": "Python 3",
   "language": "python",
   "name": "python3"
  },
  "language_info": {
   "codemirror_mode": {
    "name": "ipython",
    "version": 3
   },
   "file_extension": ".py",
   "mimetype": "text/x-python",
   "name": "python",
   "nbconvert_exporter": "python",
   "pygments_lexer": "ipython3",
   "version": "3.9.6"
  },
  "naas": {
   "notebook_id": "647d794df1c42fc8ef111f4ab6109a20bf4dd82da1279723111080e06d84f250",
   "notebook_path": "Notion/Notion_Update_database_with_GitHub_repositories_info.ipynb"
  },
  "papermill": {
   "default_parameters": {},
   "environment_variables": {},
   "parameters": {},
   "version": "2.3.3"
  }
 },
 "nbformat": 4,
 "nbformat_minor": 5
}