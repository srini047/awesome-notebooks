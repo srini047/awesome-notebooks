{
 "cells": [
  {
   "cell_type": "markdown",
   "id": "632bc97d-6524-4659-bb49-78d8da5d3ac6",
   "metadata": {
    "papermill": {},
    "tags": []
   },
   "source": [
    "<img width=\"10%\" alt=\"Naas\" src=\"https://landen.imgix.net/jtci2pxwjczr/assets/5ice39g4.png?w=160\"/>"
   ]
  },
  {
   "cell_type": "markdown",
   "id": "8782cc7b-8b73-4b71-bab9-299644f1927d",
   "metadata": {
    "papermill": {},
    "tags": []
   },
   "source": [
    "# Notion - Update database with LinkedIn company info\n",
    "<a href=\"https://app.naas.ai/user-redirect/naas/downloader?url=https://raw.githubusercontent.com/jupyter-naas/awesome-notebooks/master/Notion/Notion_Update_database_with_LinkedIn_company_info.ipynb\" target=\"_parent\"><img src=\"https://naasai-public.s3.eu-west-3.amazonaws.com/Open_in_Naas_Lab.svg\"/></a><br><br><a href=\"https://github.com/jupyter-naas/awesome-notebooks/issues/new?assignees=&labels=&template=template-request.md&title=Tool+-+Action+of+the+notebook+\">Template request</a> | <a href=\"https://github.com/jupyter-naas/awesome-notebooks/issues/new?assignees=&labels=bug&template=bug_report.md&title=Notion+-+Update+database+with+LinkedIn+company+info:+Error+short+description\">Bug report</a> | <a href=\"https://app.naas.ai/user-redirect/naas/downloader?url=https://raw.githubusercontent.com/jupyter-naas/awesome-notebooks/master/Naas/Naas_Start_data_product.ipynb\" target=\"_parent\">Generate Data Product</a>"
   ]
  },
  {
   "cell_type": "markdown",
   "id": "71855b14-f55f-4ef7-b8d7-238f51e1e138",
   "metadata": {
    "papermill": {},
    "tags": []
   },
   "source": [
    "**Tags:** #notion #database #update #linkedin #company #automation #scheduler"
   ]
  },
  {
   "cell_type": "markdown",
   "id": "c3a0ba0b-40e1-4b16-af94-df07db367824",
   "metadata": {
    "papermill": {},
    "tags": []
   },
   "source": [
    "**Author:** [Florent Ravenel](https://www.linkedin.com/in/florent-ravenel/)"
   ]
  },
  {
   "cell_type": "markdown",
   "id": "eb57fcb4-94d9-4cf9-a8fb-cd93e008795c",
   "metadata": {
    "papermill": {},
    "tags": []
   },
   "source": [
    "**Description:** This notebook streamlines the process of updating a Notion database containing company names by extracting relevant information from LinkedIn using Google search, as well as utilizing Naas_Drivers.Notion and Naas_Drivers.LinkedIn.The following data will be updated in your Notion database:\n",
    "- Name: The name of the company or organization.\n",
    "- LinkedIn: The company's LinkedIn page.\n",
    "- Website: The company's website URL.\n",
    "- Industry: The industry or industries that the company operates in.\n",
    "- Specialties: The areas of expertise or specialization for the company or its products/services.\n",
    "- Tagline: A brief statement that summarizes the purpose or mission of the company or organization.\n",
    "- City: The city or cities where the company is headquartered or operates.\n",
    "- Country: The country where the company is headquartered or operates.\n",
    "- Staff Count: The number of employees or staff members employed by the company.\n",
    "- Staff Range: The range of employee count (e.g., 1-10, 11-50, 51-200, etc.) that the company falls into.\n",
    "- Followers: The number of LinkedIn users who follow the company's page or profile.\n",
    "\n",
    "Overall, this notebook can be useful for any business or individual who needs to keep track of company information for various purposes:\n",
    "- Sales prospecting: Sales teams could use the updated database to identify potential new leads and target them with personalized outreach based on their company information.\n",
    "- Competitor analysis: Marketers could use the updated database to track changes in their competitors' company information, such as changes in leadership or expansion into new markets.\n",
    "- Industry research: Researchers could use the updated database to gather information on companies within a particular industry, such as their size, location, and areas of expertise.\n",
    "- Investor relations: Investors could use the updated database to identify potential investment opportunities and track the performance of companies they are interested in."
   ]
  },
  {
   "cell_type": "markdown",
   "id": "30d3b3f6-133a-4998-8fd5-da44f80401e9",
   "metadata": {
    "papermill": {},
    "tags": []
   },
   "source": [
    "**References:**\n",
    "- [Notion Drivers](https://github.com/jupyter-naas/drivers/blob/main/naas_drivers/tools/notion.py)\n",
    "- [LinkedIn Drivers](https://github.com/jupyter-naas/drivers/blob/main/naas_drivers/tools/linkedin.py)"
   ]
  },
  {
   "cell_type": "markdown",
   "id": "e9bc3a35-d96e-4df6-a27b-c1e15d7f51c3",
   "metadata": {
    "papermill": {},
    "tags": []
   },
   "source": [
    "## Input"
   ]
  },
  {
   "cell_type": "markdown",
   "id": "33c57fa9-6735-41b5-94de-9b2968a78b13",
   "metadata": {
    "papermill": {},
    "tags": []
   },
   "source": [
    "### Import libraries"
   ]
  },
  {
   "cell_type": "code",
   "execution_count": null,
   "id": "4c3f5195-161e-4e6d-915d-4d6f116a56f1",
   "metadata": {
    "papermill": {},
    "tags": []
   },
   "outputs": [],
   "source": [
    "import naas\n",
    "from naas_drivers import linkedin, notion\n",
    "try:\n",
    "    from googlesearch import search\n",
    "except:\n",
    "    !pip install google\n",
    "    from googlesearch import search\n",
    "import re\n",
    "from datetime import datetime\n",
    "import os\n",
    "import requests\n",
    "import pandas as pd\n",
    "import time"
   ]
  },
  {
   "cell_type": "markdown",
   "id": "3afe330d-2a0e-4e5a-9b4c-cdae1b0d55ff",
   "metadata": {
    "papermill": {},
    "tags": []
   },
   "source": [
    "### Setup Variables\n",
    "[Get your LinkedIn cookies](https://www.notion.so/LinkedIn-driver-Get-your-cookies-d20a8e7e508e42af8a5b52e33f3dba75)\n",
    "- `li_at`: LinkedIn cookie used to authenticate Members and API clients \n",
    "- `JSESSIONID`: LinkedIn cookie used for Cross Site Request Forgery (CSRF) protection and URL signature validation.\n",
    "\n",
    "[Create integration with Notion](https://developers.notion.com/docs/create-a-notion-integration)\n",
    "- `notion_token`: Notion token shared with your database\n",
    "- `database_key`: Database key name = page title in notion\n",
    "- `database_linkedin`: Notion property storing the LinkedIn URL\n",
    "- `force_update`: To be used at 'True' if you want to update the entire dabatase, otherwise it will only update new entries\n",
    "- `notion_database`: URL of your notion database\n",
    "- `output_dir`: directory to save data extracted from LinkedIn"
   ]
  },
  {
   "cell_type": "code",
   "execution_count": null,
   "id": "630b59ae-c27d-43ef-8994-f37ce227d1ac",
   "metadata": {
    "papermill": {},
    "tags": []
   },
   "outputs": [],
   "source": [
    "# Inputs\n",
    "li_at = naas.secret.get(\"LINKEDIN_LI_AT\")\n",
    "JSESSIONID = naas.secret.get(\"LINKEDIN_JSESSIONID\")\n",
    "notion_token = naas.secret.get(\"NOTION_TOKEN\") or \"YOUR_TOKEN\"\n",
    "database_key = \"Name\"\n",
    "database_linkedin = \"LinkedIn\"\n",
    "force_update = False\n",
    "\n",
    "# Outputs\n",
    "notion_database = \"https://www.notion.so/xxxxxxxxxxxx\"\n",
    "output_dir = \"organizations\""
   ]
  },
  {
   "cell_type": "markdown",
   "id": "bd03af79-27a4-4b7d-93d6-f269ec24acb8",
   "metadata": {
    "papermill": {},
    "tags": []
   },
   "source": [
    "### Schedule your automation"
   ]
  },
  {
   "cell_type": "code",
   "execution_count": null,
   "id": "a68f501e-08a1-4dc1-b4c0-d69624e8115d",
   "metadata": {
    "papermill": {},
    "tags": []
   },
   "outputs": [],
   "source": [
    "# Schedule during week days every hour between 9:00 AM to 8:00 PM\n",
    "naas.scheduler.add(cron=\"0 9-20 * * 1-5\")\n",
    "\n",
    "# naas.scheduler.delete() # uncomment and execute cell to delete automation"
   ]
  },
  {
   "cell_type": "markdown",
   "id": "01ec82f7-48c7-426d-87e1-ec255269e981",
   "metadata": {
    "papermill": {},
    "tags": []
   },
   "source": [
    "## Model"
   ]
  },
  {
   "cell_type": "markdown",
   "id": "ac0ce487-1b0f-4192-9eb8-0c72cac3d020",
   "metadata": {
    "papermill": {},
    "tags": []
   },
   "source": [
    "### Constants\n",
    "- `LINKEDIN_PATTERN`: LinkedIn organization pattern to be searched in Google"
   ]
  },
  {
   "cell_type": "code",
   "execution_count": null,
   "id": "e971d928-0fba-489d-9e4a-18b97069dabd",
   "metadata": {
    "papermill": {},
    "tags": []
   },
   "outputs": [],
   "source": [
    "LINKEDIN_PATTERN = \"https:\\/\\/.+.linkedin.com\\/(company|school)\\/*([^?])+\""
   ]
  },
  {
   "cell_type": "markdown",
   "id": "23e6f91c-f1ca-49c6-b10c-9de74aee3c0e",
   "metadata": {
    "papermill": {},
    "tags": []
   },
   "source": [
    "### Get Notion DB"
   ]
  },
  {
   "cell_type": "code",
   "execution_count": null,
   "id": "83439db5-e284-4822-879a-288c3ba8cb9a",
   "metadata": {
    "papermill": {},
    "tags": []
   },
   "outputs": [],
   "source": [
    "def create_notion_db(notion_database, key, token):\n",
    "    # Get database\n",
    "    database_id = notion_database.split(\"/\")[-1].split(\"?v=\")[0]\n",
    "    pages = notion.connect(token).database.query(database_id, query={})\n",
    "\n",
    "    # Init\n",
    "    df_output = pd.DataFrame()\n",
    "    \n",
    "    # Loop on page\n",
    "    for page in pages:\n",
    "        # Get page_id\n",
    "        page_id = page.id\n",
    "        \n",
    "        # Create dataframe from page\n",
    "        df = page.df()\n",
    "        \n",
    "        # Remove empty pages\n",
    "        page_title = df.loc[df.Name == key, \"Value\"].values[0]\n",
    "        if page_title == \"\":\n",
    "            notion.connect(token).blocks.delete(page_id)\n",
    "            print(f\"Page '{page_id}' empty => removed from database\")\n",
    "        else:\n",
    "            # Pivot rows to columns\n",
    "            columns = df[\"Name\"].unique().tolist()\n",
    "            new_df = df.copy()\n",
    "            new_df = new_df.drop(\"Type\", axis=1)\n",
    "            new_df = new_df.T\n",
    "            for i, c in enumerate(new_df.columns):\n",
    "                new_df = new_df.rename(columns={c: columns[i]})\n",
    "            new_df = new_df.drop(\"Name\").reset_index(drop=True)\n",
    "\n",
    "            # Add page ID\n",
    "            new_df[\"PAGE_ID\"] = page_id\n",
    "\n",
    "            # Concat dataframe\n",
    "            df_output = pd.concat([df_output, new_df])\n",
    "    return df_output\n",
    "\n",
    "df_notion = create_notion_db(\n",
    "    notion_database,\n",
    "    database_key,\n",
    "    notion_token\n",
    ")\n",
    "print(\"📊 Notion DB:\", len(df_notion))\n",
    "df_notion.head(1)"
   ]
  },
  {
   "cell_type": "markdown",
   "id": "8130105e-54bc-43bb-bc40-93355f625d4e",
   "metadata": {
    "papermill": {},
    "tags": []
   },
   "source": [
    "### Get rows to update\n",
    "If `force_update` is set to `False`, any rows that have already been updated will be excluded.<br>\n",
    "In order to determine whether a row has already been updated, we need to check the LinkedIn URL that is set within the LinkedIn column.<br>\n",
    "Specifically, if the URL begins with https://www.linkedin.com/ and includes \"school\" or \"company\" followed by an ID number, it is considered updated because a human would have access to the corresponding organization ID.<br>\n",
    "It is important to note that the URL must match the LinkedIn pattern for organizations, which is as follows: 'https://.+.linkedin.com/(company|school)/*([^?])+'."
   ]
  },
  {
   "cell_type": "code",
   "execution_count": null,
   "id": "7ea11fe1-a573-4c49-866b-422b25834331",
   "metadata": {
    "papermill": {},
    "tags": []
   },
   "outputs": [],
   "source": [
    "def get_new_rows(\n",
    "    df,\n",
    "    linkedin_col,\n",
    "    force_update,\n",
    "):\n",
    "    # Check if df is not empty\n",
    "    if len(df) == 0:\n",
    "        return pd.DataFrame()\n",
    "    \n",
    "    # Return all rows if force update is True\n",
    "    if force_update:\n",
    "        return df\n",
    "    \n",
    "    # Check if LinkedIn col exists in df to filter rows\n",
    "    if linkedin_col in df.columns:\n",
    "        linkedin_valid = df[\n",
    "            (df[linkedin_col].str.match(LINKEDIN_PATTERN)) & \n",
    "            (df[linkedin_col].str[-1:].str.isnumeric())\n",
    "        ][linkedin_col].unique()\n",
    "        df = df[~df[linkedin_col].isin(linkedin_valid)]\n",
    "    else:\n",
    "        df[linkedin_col] = None\n",
    "    return df.reset_index(drop=True)\n",
    "\n",
    "df_new_rows = get_new_rows(df_notion, database_linkedin, force_update)\n",
    "print(\"Rows to update:\", len(df_new_rows))\n",
    "df_new_rows.head(len(df_new_rows))"
   ]
  },
  {
   "cell_type": "markdown",
   "id": "8e92a3f1-32e0-47bf-a509-73e4e127b981",
   "metadata": {
    "execution": {
     "iopub.execute_input": "2023-04-12T19:06:45.296619Z",
     "iopub.status.busy": "2023-04-12T19:06:45.296379Z",
     "iopub.status.idle": "2023-04-12T19:06:45.299632Z",
     "shell.execute_reply": "2023-04-12T19:06:45.298919Z",
     "shell.execute_reply.started": "2023-04-12T19:06:45.296595Z"
    },
    "papermill": {},
    "tags": []
   },
   "source": [
    "### Get LinkedIn URL\n",
    "The purpose of this function is to update the LinkedIn URL if it has not been provided with Google Search.<br>\n",
    "If Google Search does not return any valid URL, we will add this URL by default: https://www.linkedin.com/company/0"
   ]
  },
  {
   "cell_type": "code",
   "execution_count": null,
   "id": "ce15a947-393b-4728-b57c-be70841d45ce",
   "metadata": {
    "papermill": {},
    "tags": []
   },
   "outputs": [],
   "source": [
    "# Search LinkedIn in Google\n",
    "def get_linkedin_url(\n",
    "    row,\n",
    "    key,\n",
    "    linkedin_col,\n",
    "):\n",
    "    # Init\n",
    "    keyword = row[key]\n",
    "    linkedin_url = row[linkedin_col]\n",
    "    url = \"https://www.linkedin.com/company/0\"\n",
    "    \n",
    "    # Check if url is valid\n",
    "    if re.match(LINKEDIN_PATTERN, linkedin_url):\n",
    "        return linkedin_url\n",
    "    \n",
    "    # Create query\n",
    "    keyword = keyword.replace(\" \", \"+\")\n",
    "    query = f\"{keyword}+Linkedin\"\n",
    "    print(\"--> Google query:\", query)\n",
    "    \n",
    "    # Search in Google\n",
    "    for i in search(query, tld=\"com\", num=10, stop=10, pause=2):\n",
    "        result = re.search(LINKEDIN_PATTERN, i)\n",
    "\n",
    "        # Return value if result is not None\n",
    "        if result != None:\n",
    "            url = result.group(0).replace(\" \", \"\")\n",
    "            print(\"Result found:\", url)\n",
    "            return url\n",
    "    return url\n",
    "\n",
    "def udpate_linkedin_url(\n",
    "    df,\n",
    "    key,\n",
    "    linkedin_col,\n",
    "):\n",
    "    # Check if df is not empty\n",
    "    if len(df) == 0:\n",
    "        return pd.DataFrame()\n",
    "    else:\n",
    "        df[linkedin_col] = df.apply(lambda row: get_linkedin_url(row, key, linkedin_col), axis=1)\n",
    "        return df.reset_index(drop=True)\n",
    "\n",
    "df_update = udpate_linkedin_url(\n",
    "    df_new_rows,\n",
    "    database_key,\n",
    "    database_linkedin,\n",
    ")\n",
    "print(\"Rows to update:\", len(df_update))\n",
    "df_update.head(len(df_update))"
   ]
  },
  {
   "cell_type": "markdown",
   "id": "2197a4ac-9f88-44a7-80d0-1f1112e06629",
   "metadata": {
    "papermill": {},
    "tags": []
   },
   "source": [
    "## Output"
   ]
  },
  {
   "cell_type": "markdown",
   "id": "7819ff93-4d3a-4ca3-8657-ca1aca460afa",
   "metadata": {
    "papermill": {},
    "tags": []
   },
   "source": [
    "### Update data in Notion"
   ]
  },
  {
   "cell_type": "code",
   "execution_count": null,
   "id": "1e04649c-d8fe-4178-8928-e9b165b92891",
   "metadata": {
    "papermill": {},
    "tags": []
   },
   "outputs": [],
   "source": [
    "if len(df_update) > 0:\n",
    "    # Loop to enrich info\n",
    "    for index, row in df_update.iterrows():\n",
    "        # Init variables\n",
    "        name = row[database_key]\n",
    "        lk_url = row[database_linkedin]\n",
    "        organization_type = lk_url.split(\"linkedin.com/\")[-1].split(\"/\")[0]\n",
    "        lk_public_id = lk_url.split(organization_type)[-1].split(\"/\")[1]\n",
    "        page_id = row[\"PAGE_ID\"]\n",
    "        print(\"➡️ Update info for:\", name)\n",
    "\n",
    "        # Get page\n",
    "        page = notion.connect(notion_token).page.get(page_id)\n",
    "\n",
    "        # Get LinkedIn Info\n",
    "        if lk_public_id != \"0\":\n",
    "            df = linkedin.connect(li_at, JSESSIONID).company.get_info(lk_public_id)\n",
    "            df = df.astype(str).replace(\"None\", \"\")\n",
    "            org_name = df.loc[0, \"COMPANY_NAME\"]\n",
    "            org_id = df.loc[0, \"COMPANY_ID\"]\n",
    "            org_url = f\"https://www.linkedin.com/{organization_type}/{org_id}\"\n",
    "            org_industry = df.loc[0, \"INDUSTRY\"]\n",
    "            org_website = df.loc[0, \"WEBSITE\"]\n",
    "            org_desc = df.loc[0, \"DESCRIPTION\"]\n",
    "            org_tagline = df.loc[0, \"TAGLINE\"]\n",
    "            org_spec = df.loc[0, \"SPECIALITIES\"]\n",
    "            org_country = df.loc[0, \"COUNTRY\"]\n",
    "            org_city = df.loc[0, \"CITY\"]\n",
    "            org_region = df.loc[0, \"REGION\"]\n",
    "            org_staff = df.loc[0, \"STAFF_RANGE\"]\n",
    "            org_staff_count = df.loc[0, \"STAFF_COUNT\"]\n",
    "            org_followers = df.loc[0, \"FOLLOWER_COUNT\"]\n",
    "            org_logo_url = df.loc[0, \"LOGO_URL\"]\n",
    "\n",
    "            # Save dataframe to csv\n",
    "            org_name_c = org_name.replace(' ', '_')\n",
    "            csv_name = f\"{datetime.now().strftime('%Y%m%d')}_LINKEDIN_ORGANIZATION_{org_id}.csv\"\n",
    "            output_path = os.path.join(output_dir, org_name_c)\n",
    "            if not os.path.exists(output_path):\n",
    "                os.makedirs(output_path)\n",
    "            csv_path = os.path.join(output_path, csv_name)\n",
    "            df.to_csv(csv_path, index=False)\n",
    "            print(f\"✅ Data saved to csv:\", csv_path)\n",
    "\n",
    "            # Update Notion Properties\n",
    "            page.title(\"Name\", str(org_name))\n",
    "            page.link(database_linkedin, org_url)\n",
    "            page.number(\"Staff Count\", int(org_staff_count))\n",
    "            page.number(\"Followers\", int(org_followers))\n",
    "            page.rich_text(\"Tagline\", str(org_tagline))\n",
    "            if str(org_staff) != \"\":\n",
    "                page.select(\"Staff Range\", str(org_staff))\n",
    "            if str(org_industry) != \"\":\n",
    "                page.select(\"Industry\", str(org_industry))\n",
    "            if str(org_website) != \"\":\n",
    "                page.link(\"Website\", str(org_website))\n",
    "            if str(org_country) != \"\":\n",
    "                page.select(\"Country\", str(org_country))\n",
    "            if str(org_city) != \"\":\n",
    "                page.select(\"City\", str(org_city))\n",
    "            if org_spec != '[]':\n",
    "                page.multi_select(\"Speciliaties\", org_spec.split(\",\"))\n",
    "            page.update()\n",
    "            print(f\"✅ Data successfully updated in Notion.\")\n",
    "\n",
    "            # Update page blocks\n",
    "            page.heading_2(f\"Organization\")\n",
    "            page.heading_3(f\"Tagline\")\n",
    "            page.paragraph(org_tagline)\n",
    "            page.heading_3(f\"Description\")\n",
    "            for t in org_desc.split('\\n'):\n",
    "                page.paragraph(t)\n",
    "            page.update()\n",
    "            print(f\"✅ Description successfully updated in Notion.\")\n",
    "\n",
    "            # Update Logo in page\n",
    "            if str(org_logo_url) != \"None\" and org_logo_url.startswith(\"https://media\"):\n",
    "                notion.client.pages.update(\n",
    "                    page_id=page.id, icon={\"type\": \"external\", \"external\": {\"url\": org_logo_url}}\n",
    "                )\n",
    "                print(f\"✅ Logo successfully updated in Notion.\")\n",
    "                \n",
    "            # Sleep time\n",
    "            time.sleep(5)\n",
    "        else:\n",
    "            page.link(database_linkedin, lk_url)\n",
    "            page.update()\n",
    "            print(f\"✅ LinkedIn URL to be updated.\")"
   ]
  },
  {
   "cell_type": "markdown",
   "id": "ccbe4ce2-2d08-4ec7-a665-cc5227cb2048",
   "metadata": {
    "papermill": {},
    "tags": []
   },
   "source": [
    " "
   ]
  }
 ],
 "metadata": {
  "kernelspec": {
   "display_name": "Python 3",
   "language": "python",
   "name": "python3"
  },
  "language_info": {
   "codemirror_mode": {
    "name": "ipython",
    "version": 3
   },
   "file_extension": ".py",
   "mimetype": "text/x-python",
   "name": "python",
   "nbconvert_exporter": "python",
   "pygments_lexer": "ipython3",
   "version": "3.9.6"
  },
  "naas": {
   "notebook_id": "3d62f956e5054214458eaa0d181bcdcf3eb6992b59688563cc9eeb75c60e0ed3",
   "notebook_path": "Notion/Notion_Update_database_with_LinkedIn_company_info.ipynb"
  },
  "papermill": {
   "default_parameters": {},
   "environment_variables": {},
   "parameters": {},
   "version": "2.4.0"
  },
  "widgets": {
   "application/vnd.jupyter.widget-state+json": {
    "state": {},
    "version_major": 2,
    "version_minor": 0
   }
  }
 },
 "nbformat": 4,
 "nbformat_minor": 5
}