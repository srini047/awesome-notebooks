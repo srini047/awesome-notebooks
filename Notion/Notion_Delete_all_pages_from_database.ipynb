{
 "cells": [
  {
   "cell_type": "markdown",
   "id": "52e0e5da",
   "metadata": {
    "execution": {
     "iopub.execute_input": "2021-02-23T14:22:16.610471Z",
     "iopub.status.busy": "2021-02-23T14:22:16.610129Z",
     "iopub.status.idle": "2021-02-23T14:22:16.627784Z",
     "shell.execute_reply": "2021-02-23T14:22:16.626866Z",
     "shell.execute_reply.started": "2021-02-23T14:22:16.610384Z"
    },
    "papermill": {},
    "tags": []
   },
   "source": [
    "<img width=\"10%\" alt=\"Naas\" src=\"https://landen.imgix.net/jtci2pxwjczr/assets/5ice39g4.png?w=160\"/>"
   ]
  },
  {
   "cell_type": "markdown",
   "id": "402fd896",
   "metadata": {
    "papermill": {},
    "tags": []
   },
   "source": [
    "# Notion - Delete all pages from database\n",
    "<a href=\"https://app.naas.ai/user-redirect/naas/downloader?url=https://raw.githubusercontent.com/jupyter-naas/awesome-notebooks/master/Notion/Notion_Delete_all_pages_from_database.ipynb\" target=\"_parent\"><img src=\"https://naasai-public.s3.eu-west-3.amazonaws.com/open_in_naas.svg\"/></a><br><br><a href=\"https://github.com/jupyter-naas/awesome-notebooks/issues/new?assignees=&labels=&template=template-request.md&title=Tool+-+Action+of+the+notebook+\">Template request</a> | <a href=\"https://github.com/jupyter-naas/awesome-notebooks/issues/new?assignees=&labels=bug&template=bug_report.md&title=Notion+-+Delete+all+pages+from+database:+Error+short+description\">Bug report</a>"
   ]
  },
  {
   "cell_type": "markdown",
   "id": "e968d3e1-1530-466a-a8ea-327bab4ded9b",
   "metadata": {
    "papermill": {},
    "tags": []
   },
   "source": [
    "**Tags:** #notion #productivity #naas_drivers #operations #snippet #database"
   ]
  },
  {
   "cell_type": "markdown",
   "id": "f8930562-7b3f-4592-a4ba-ac2631ba4f9a",
   "metadata": {
    "papermill": {},
    "tags": []
   },
   "source": [
    "**Author:** [Florent Ravenel](https://www.linkedin.com/in/florent-ravenel/)"
   ]
  },
  {
   "cell_type": "markdown",
   "id": "9e9b4036-b5d9-40af-bdfa-3dbc40691338",
   "metadata": {
    "execution": {
     "iopub.execute_input": "2021-11-01T17:45:15.271511Z",
     "iopub.status.busy": "2021-11-01T17:45:15.271217Z",
     "iopub.status.idle": "2021-11-01T17:45:15.280410Z",
     "shell.execute_reply": "2021-11-01T17:45:15.279555Z",
     "shell.execute_reply.started": "2021-11-01T17:45:15.271487Z"
    },
    "papermill": {},
    "tags": []
   },
   "source": [
    "**Description:** This notebook deletes all page from a Notion database."
   ]
  },
  {
   "cell_type": "markdown",
   "id": "949052de",
   "metadata": {
    "papermill": {},
    "tags": []
   },
   "source": [
    "## Input"
   ]
  },
  {
   "cell_type": "markdown",
   "id": "a278b8a9-8838-4826-b5b1-b0b2258bcba2",
   "metadata": {
    "papermill": {},
    "tags": []
   },
   "source": [
    "### Import libraries"
   ]
  },
  {
   "cell_type": "code",
   "execution_count": null,
   "id": "0024e100-e38b-4886-a0a5-2985874d08cd",
   "metadata": {
    "papermill": {},
    "tags": []
   },
   "outputs": [],
   "source": [
    "from naas_drivers import notion"
   ]
  },
  {
   "cell_type": "markdown",
   "id": "d9f07ccd-add3-4348-a33f-f13c167ff6ff",
   "metadata": {
    "papermill": {},
    "tags": []
   },
   "source": [
    "### Setup Notion\n",
    "- [Get your Notion integration token](https://docs.naas.ai/drivers/notion)\n",
    "- Share integration with your database"
   ]
  },
  {
   "cell_type": "code",
   "execution_count": null,
   "id": "f715cf8d",
   "metadata": {
    "papermill": {},
    "tags": []
   },
   "outputs": [],
   "source": [
    "# Enter Token API\n",
    "NOTION_TOKEN = \"ENTER_YOUR_NOTION_TOKEN_HERE\"  # EXAMPLE: \"secret_xxxxxxxxxxxxxxxxxx\"\n",
    "\n",
    "# Enter Page URL\n",
    "DATABASE_URL = \"ENTER_YOUR_DATABASE_URL_HERE\"  # EXAMPLE: \"https://www.notion.so/xxxxxxxxxxxxxxxxxxxxxxxxxxxxxxxxxx\""
   ]
  },
  {
   "cell_type": "markdown",
   "id": "14814853-ab1a-407f-a6ed-f43f6750bdec",
   "metadata": {
    "papermill": {},
    "tags": []
   },
   "source": [
    "## Model"
   ]
  },
  {
   "cell_type": "markdown",
   "id": "e97a70bc-c803-445c-8207-fad8b4a35a4f",
   "metadata": {
    "papermill": {},
    "tags": []
   },
   "source": [
    "### Get page"
   ]
  },
  {
   "cell_type": "code",
   "execution_count": null,
   "id": "bb9fba3f-94c3-4d41-8d4e-3a8587ec1ca6",
   "metadata": {
    "papermill": {},
    "tags": []
   },
   "outputs": [],
   "source": [
    "def delete_all_pages(database_url, token):\n",
    "    # Get pages\n",
    "    database_id = database_url.split(\"/\")[-1].split(\"?v=\")[0]\n",
    "    pages = notion.connect(token).database.query(database_id, query={})\n",
    "    for page in pages:\n",
    "        notion.connect(token).blocks.delete(page.id)\n",
    "        print(f\"{page.id} removed from database\")"
   ]
  },
  {
   "cell_type": "markdown",
   "id": "86766318-4190-411d-a977-eeaca66c540a",
   "metadata": {
    "execution": {
     "iopub.execute_input": "2021-09-08T08:35:26.852888Z",
     "iopub.status.busy": "2021-09-08T08:35:26.852535Z",
     "iopub.status.idle": "2021-09-08T08:35:27.816622Z",
     "shell.execute_reply": "2021-09-08T08:35:27.809968Z",
     "shell.execute_reply.started": "2021-09-08T08:35:26.852857Z"
    },
    "papermill": {},
    "tags": []
   },
   "source": [
    "## Output"
   ]
  },
  {
   "cell_type": "markdown",
   "id": "a40af357-026b-4d71-9a7a-9df3214a1860",
   "metadata": {
    "papermill": {},
    "tags": []
   },
   "source": [
    "### Delete all pages from database"
   ]
  },
  {
   "cell_type": "code",
   "execution_count": null,
   "id": "410cfb59-109f-48a0-8cbf-44413805d493",
   "metadata": {
    "papermill": {},
    "tags": []
   },
   "outputs": [],
   "source": [
    "delete_all_pages(DATABASE_URL, NOTION_TOKEN)"
   ]
  }
 ],
 "metadata": {
  "kernelspec": {
   "display_name": "Python 3",
   "language": "python",
   "name": "python3"
  },
  "language_info": {
   "codemirror_mode": {
    "name": "ipython",
    "version": 3
   },
   "file_extension": ".py",
   "mimetype": "text/x-python",
   "name": "python",
   "nbconvert_exporter": "python",
   "pygments_lexer": "ipython3",
   "version": "3.9.6"
  },
  "naas": {
   "notebook_id": "f89f19fc-9db8-426f-a708-5d4bfbcf6a1e",
   "notebook_path": "Notion/Notion_Create_page.ipynb"
  },
  "papermill": {
   "default_parameters": {},
   "environment_variables": {},
   "parameters": {},
   "version": "2.3.3"
  },
  "widgets": {
   "application/vnd.jupyter.widget-state+json": {
    "state": {},
    "version_major": 2,
    "version_minor": 0
   }
  }
 },
 "nbformat": 4,
 "nbformat_minor": 5
}