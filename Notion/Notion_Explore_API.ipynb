{
 "cells": [
  {
   "cell_type": "markdown",
   "id": "naas-logo",
   "metadata": {
    "papermill": {},
    "tags": [
     "naas"
    ]
   },
   "source": [
    "<img width=\"10%\" alt=\"Naas\" src=\"https://landen.imgix.net/jtci2pxwjczr/assets/5ice39g4.png?w=160\"/>"
   ]
  },
  {
   "cell_type": "markdown",
   "id": "exclusive-scout",
   "metadata": {
    "id": "4Prtukx5IOqh",
    "papermill": {},
    "tags": []
   },
   "source": [
    "# Notion - Explore API\n",
    "<a href=\"https://app.naas.ai/user-redirect/naas/downloader?url=https://raw.githubusercontent.com/jupyter-naas/awesome-notebooks/master/Notion/Notion_Explore_API.ipynb\" target=\"_parent\"><img src=\"https://naasai-public.s3.eu-west-3.amazonaws.com/open_in_naas.svg\"/></a><br><br><a href=\"https://github.com/jupyter-naas/awesome-notebooks/issues/new?assignees=&labels=&template=template-request.md&title=Tool+-+Action+of+the+notebook+\">Template request</a> | <a href=\"https://github.com/jupyter-naas/awesome-notebooks/issues/new?assignees=&labels=bug&template=bug_report.md&title=Notion+-+Explore+API:+Error+short+description\">Bug report</a>"
   ]
  },
  {
   "cell_type": "markdown",
   "id": "62140764-d957-485c-bf5d-0a2d5a7255b1",
   "metadata": {
    "papermill": {},
    "tags": []
   },
   "source": [
    "**Tags:** #notion #productivity #operations #snippet"
   ]
  },
  {
   "cell_type": "markdown",
   "id": "d155c638-92d2-4d73-ba7a-a5fd626fee52",
   "metadata": {
    "papermill": {},
    "tags": []
   },
   "source": [
    "**Author:** [Jeremy Ravenel](https://www.linkedin.com/in/ACoAAAJHE7sB5OxuKHuzguZ9L6lfDHqw--cdnJg/)"
   ]
  },
  {
   "cell_type": "markdown",
   "id": "naas-description",
   "metadata": {
    "papermill": {},
    "tags": [
     "description"
    ]
   },
   "source": [
    "**Description:** This notebook provides an exploration of the Notion API, allowing users to access and manipulate data from Notion."
   ]
  },
  {
   "cell_type": "markdown",
   "id": "nutritional-confidence",
   "metadata": {
    "id": "g02ao4cOR9Sl",
    "papermill": {},
    "tags": []
   },
   "source": [
    "## Input"
   ]
  },
  {
   "cell_type": "code",
   "execution_count": 4,
   "id": "bacterial-lancaster",
   "metadata": {
    "execution": {
     "iopub.execute_input": "2021-08-04T07:29:56.966795Z",
     "iopub.status.busy": "2021-08-04T07:29:56.966490Z",
     "iopub.status.idle": "2021-08-04T07:29:57.835275Z",
     "shell.execute_reply": "2021-08-04T07:29:57.834503Z",
     "shell.execute_reply.started": "2021-08-04T07:29:56.966757Z"
    },
    "id": "RfMUE4p_R_Xp",
    "papermill": {},
    "tags": []
   },
   "outputs": [],
   "source": [
    "import requests\n",
    "import pandas as pd\n",
    "import json"
   ]
  },
  {
   "cell_type": "markdown",
   "id": "rational-attendance",
   "metadata": {
    "id": "7noja8QcOHqD",
    "papermill": {},
    "tags": []
   },
   "source": [
    "### Setting up Notion connections"
   ]
  },
  {
   "cell_type": "markdown",
   "id": "varied-coating",
   "metadata": {
    "id": "ODiJSP8WOMg2",
    "papermill": {},
    "tags": []
   },
   "source": [
    "1. Create a page or a database on Notion.\n",
    "2. Create an integration in your workspace.\n",
    "3. Share your page or database to this integration.\n",
    "\n",
    "More explanation on how to do this here: https://developers.notion.com/docs/getting-started"
   ]
  },
  {
   "cell_type": "code",
   "execution_count": 36,
   "id": "distributed-drama",
   "metadata": {
    "execution": {
     "iopub.execute_input": "2021-08-04T08:03:49.280296Z",
     "iopub.status.busy": "2021-08-04T08:03:49.280063Z",
     "iopub.status.idle": "2021-08-04T08:03:49.283119Z",
     "shell.execute_reply": "2021-08-04T08:03:49.282515Z",
     "shell.execute_reply.started": "2021-08-04T08:03:49.280272Z"
    },
    "id": "ogm5MuphHwTW",
    "papermill": {},
    "tags": []
   },
   "outputs": [],
   "source": [
    "DATABASE_ID_TEST = \"a296bd16b7284bc494aa91f50ad64d30\"  # https://www.notion.so/a296bd16b7284bc494aa91f50ad64d30?v=d37af84a3a6744fb957002073a267c44\n",
    "\n",
    "PAGE_ID = \"e2e8b31737174dbe86b9ae65f9b8eb9c\"  # click on Page and Get ID : https://www.notion.so/Mary-Meeks-2d822179eb59451e91e83086cdd74e5c\n",
    "\n",
    "INTEGRATION_TOKEN = \"secret_gF6bJPSyOgt5oZgb2sgT1yiMxfS4LqNmWmd2M8S5vzl\""
   ]
  },
  {
   "cell_type": "code",
   "execution_count": 10,
   "id": "independent-brooklyn",
   "metadata": {
    "execution": {
     "iopub.execute_input": "2021-08-04T07:33:37.116775Z",
     "iopub.status.busy": "2021-08-04T07:33:37.116543Z",
     "iopub.status.idle": "2021-08-04T07:33:37.120854Z",
     "shell.execute_reply": "2021-08-04T07:33:37.120331Z",
     "shell.execute_reply.started": "2021-08-04T07:33:37.116752Z"
    },
    "id": "t2DzgcnhOHJ9",
    "papermill": {},
    "tags": []
   },
   "outputs": [],
   "source": [
    "NOTION_DB_URL = \"https://api.notion.com/v1/databases/\"\n",
    "\n",
    "NOTION_PAGE_URL = \"https://api.notion.com/v1/pages/\"\n",
    "\n",
    "NOTION_PAGE_CONTENT = \"https://api.notion.com/v1/blocks/\""
   ]
  },
  {
   "cell_type": "markdown",
   "id": "atlantic-suspect",
   "metadata": {
    "id": "ibDVAp6yRdd2",
    "papermill": {},
    "tags": []
   },
   "source": [
    "## Model"
   ]
  },
  {
   "cell_type": "markdown",
   "id": "interpreted-double",
   "metadata": {
    "id": "ffGcyDQfPe8S",
    "papermill": {},
    "tags": []
   },
   "source": [
    "### Get database properties"
   ]
  },
  {
   "cell_type": "markdown",
   "id": "coordinated-basketball",
   "metadata": {
    "id": "uDBaydsEejek",
    "papermill": {},
    "tags": []
   },
   "source": [
    "More information here: https://developers.notion.com/reference/get-database"
   ]
  },
  {
   "cell_type": "code",
   "execution_count": 15,
   "id": "mature-photographer",
   "metadata": {
    "colab": {
     "base_uri": "https://localhost:8080/"
    },
    "execution": {
     "iopub.execute_input": "2021-08-04T07:34:39.196114Z",
     "iopub.status.busy": "2021-08-04T07:34:39.195806Z",
     "iopub.status.idle": "2021-08-04T07:34:39.995551Z",
     "shell.execute_reply": "2021-08-04T07:34:39.994906Z",
     "shell.execute_reply.started": "2021-08-04T07:34:39.196081Z"
    },
    "id": "jVW4IxjjJTn6",
    "outputId": "6110774d-6f42-4b40-d199-243753ad3ac2",
    "papermill": {},
    "tags": []
   },
   "outputs": [],
   "source": [
    "database_url = NOTION_DB_URL + DATABASE_ID_TEST\n",
    "\n",
    "response = requests.get(database_url, headers={\"Authorization\": f\"{INTEGRATION_TOKEN}\"})\n",
    "print(response.json())"
   ]
  },
  {
   "cell_type": "markdown",
   "id": "destroyed-villa",
   "metadata": {
    "id": "BLhbVoiuJQhe",
    "papermill": {},
    "tags": []
   },
   "source": [
    "More information here: https://developers.notion.com/reference/post-database-query"
   ]
  },
  {
   "cell_type": "code",
   "execution_count": 16,
   "id": "false-conditioning",
   "metadata": {
    "colab": {
     "base_uri": "https://localhost:8080/"
    },
    "execution": {
     "iopub.execute_input": "2021-08-04T07:34:40.598222Z",
     "iopub.status.busy": "2021-08-04T07:34:40.597975Z",
     "iopub.status.idle": "2021-08-04T07:34:42.626703Z",
     "shell.execute_reply": "2021-08-04T07:34:42.626043Z",
     "shell.execute_reply.started": "2021-08-04T07:34:40.598197Z"
    },
    "id": "vfzmGRbNRc7v",
    "outputId": "c9b3f70b-c7d2-4f06-d19f-e2d80adb0d31",
    "papermill": {},
    "tags": []
   },
   "outputs": [],
   "source": [
    "database_url = NOTION_DB_URL + DATABASE_ID_TEST + \"/query\"\n",
    "\n",
    "query = {\"filter\": {\"property\": \"High Priority\", \"checkbox\": {\"equals\": True}}}\n",
    "query = {\n",
    "    \"filter\": {\n",
    "        \"property\": \"Cost of next trip\",\n",
    "        \"number\": {\"greater_than_or_equal_to\": 0.5},\n",
    "    }\n",
    "}\n",
    "\n",
    "headers = {\"Authorization\": f\"{INTEGRATION_TOKEN}\", \"Notion-Version\": \"2021-05-13\"}\n",
    "\n",
    "response = requests.post(database_url, headers=headers, data=query)\n",
    "print((response.json()[\"results\"]))"
   ]
  },
  {
   "cell_type": "code",
   "execution_count": 17,
   "id": "qualified-disco",
   "metadata": {
    "execution": {
     "iopub.execute_input": "2021-08-04T07:34:45.914005Z",
     "iopub.status.busy": "2021-08-04T07:34:45.913728Z",
     "iopub.status.idle": "2021-08-04T07:34:45.918070Z",
     "shell.execute_reply": "2021-08-04T07:34:45.917411Z",
     "shell.execute_reply.started": "2021-08-04T07:34:45.913978Z"
    },
    "id": "fUuczYrVN_Dt",
    "papermill": {},
    "tags": []
   },
   "outputs": [],
   "source": [
    "df_structure = pd.DataFrame.from_dict(response.json()[\"results\"])"
   ]
  },
  {
   "cell_type": "code",
   "execution_count": 18,
   "id": "wound-chance",
   "metadata": {
    "colab": {
     "base_uri": "https://localhost:8080/",
     "height": 306
    },
    "execution": {
     "iopub.execute_input": "2021-08-04T07:34:46.487283Z",
     "iopub.status.busy": "2021-08-04T07:34:46.486307Z",
     "iopub.status.idle": "2021-08-04T07:34:46.538168Z",
     "shell.execute_reply": "2021-08-04T07:34:46.535504Z",
     "shell.execute_reply.started": "2021-08-04T07:34:46.487239Z"
    },
    "id": "uYpIdw_lg00-",
    "outputId": "e7a3b964-0991-41b4-aae2-e2e5cb1422fb",
    "papermill": {},
    "tags": []
   },
   "outputs": [],
   "source": [
    "print(\"The size of the df is\", df_structure.shape)\n",
    "df_structure.head()"
   ]
  },
  {
   "cell_type": "markdown",
   "id": "sunrise-priest",
   "metadata": {
    "id": "jEbLAaebiuv6",
    "papermill": {},
    "tags": []
   },
   "source": [
    "⚠️ Notion's API allows us to retrieve a maximum of 100 records. So if your base is bigger than 100 records it will only retrieve the 100 last edited ones. \n",
    "\n",
    "⚠️ If your database has some relation to some other databases, think to share the linked databases with the integration aswell.\n",
    "\n",
    "As we can see the content of the Notion table is in the properties column. We will now extract it and see what it contains.\n",
    "\n",
    "The column properties contain a dictionary for each Notion record. We will exctract each of these disctionnaries and create a new dataFrame. "
   ]
  },
  {
   "cell_type": "code",
   "execution_count": 19,
   "id": "swedish-charlotte",
   "metadata": {
    "execution": {
     "iopub.execute_input": "2021-08-04T07:34:47.492806Z",
     "iopub.status.busy": "2021-08-04T07:34:47.492507Z",
     "iopub.status.idle": "2021-08-04T07:34:47.499370Z",
     "shell.execute_reply": "2021-08-04T07:34:47.498812Z",
     "shell.execute_reply.started": "2021-08-04T07:34:47.492776Z"
    },
    "id": "oIhSkVC2NxVz",
    "papermill": {},
    "tags": []
   },
   "outputs": [],
   "source": [
    "list_dict = []\n",
    "for index, row in df_structure.iterrows():\n",
    "    list_dict.append(row[\"properties\"])\n",
    "\n",
    "temp_df = pd.DataFrame.from_dict(list_dict)"
   ]
  },
  {
   "cell_type": "code",
   "execution_count": 20,
   "id": "chicken-biotechnology",
   "metadata": {
    "execution": {
     "iopub.execute_input": "2021-08-04T07:34:55.208841Z",
     "iopub.status.busy": "2021-08-04T07:34:55.208559Z",
     "iopub.status.idle": "2021-08-04T07:34:55.211956Z",
     "shell.execute_reply": "2021-08-04T07:34:55.211251Z",
     "shell.execute_reply.started": "2021-08-04T07:34:55.208815Z"
    },
    "id": "oQndDQl2AYsQ",
    "papermill": {},
    "tags": []
   },
   "outputs": [],
   "source": [
    "# Get the columns name in a list to use them later\n",
    "columns = temp_df.columns.values.tolist()"
   ]
  },
  {
   "cell_type": "code",
   "execution_count": 21,
   "id": "latest-festival",
   "metadata": {
    "colab": {
     "base_uri": "https://localhost:8080/",
     "height": 374
    },
    "execution": {
     "iopub.execute_input": "2021-08-04T07:34:56.884564Z",
     "iopub.status.busy": "2021-08-04T07:34:56.884251Z",
     "iopub.status.idle": "2021-08-04T07:34:56.938609Z",
     "shell.execute_reply": "2021-08-04T07:34:56.937979Z",
     "shell.execute_reply.started": "2021-08-04T07:34:56.884527Z"
    },
    "id": "tHRmy0uVjtaz",
    "outputId": "4d8ae852-7355-48d9-eafe-b2c08ecd61c5",
    "papermill": {},
    "tags": []
   },
   "outputs": [],
   "source": [
    "temp_df.head()"
   ]
  },
  {
   "cell_type": "markdown",
   "id": "intellectual-synthesis",
   "metadata": {
    "id": "8DkO7rkVnW1o",
    "papermill": {},
    "tags": []
   },
   "source": [
    "As we can see, each of the properties contains another dict of the information. \n",
    "\n",
    "Let's see how the dictionnary containing the data is structured."
   ]
  },
  {
   "cell_type": "code",
   "execution_count": 22,
   "id": "velvet-intake",
   "metadata": {
    "colab": {
     "base_uri": "https://localhost:8080/"
    },
    "execution": {
     "iopub.execute_input": "2021-08-04T07:35:14.119985Z",
     "iopub.status.busy": "2021-08-04T07:35:14.119756Z",
     "iopub.status.idle": "2021-08-04T07:35:14.124738Z",
     "shell.execute_reply": "2021-08-04T07:35:14.124108Z",
     "shell.execute_reply.started": "2021-08-04T07:35:14.119961Z"
    },
    "id": "IWJDXyNxnFi0",
    "outputId": "bd068c93-6309-4eae-fdd5-cdd157a9bd7f",
    "papermill": {},
    "tags": []
   },
   "outputs": [],
   "source": [
    "for index, value in temp_df.iloc[2].items():\n",
    "    print(value)"
   ]
  },
  {
   "cell_type": "code",
   "execution_count": 23,
   "id": "narrow-interstate",
   "metadata": {
    "colab": {
     "base_uri": "https://localhost:8080/"
    },
    "execution": {
     "iopub.execute_input": "2021-08-04T07:35:16.756891Z",
     "iopub.status.busy": "2021-08-04T07:35:16.756667Z",
     "iopub.status.idle": "2021-08-04T07:35:16.763763Z",
     "shell.execute_reply": "2021-08-04T07:35:16.763176Z",
     "shell.execute_reply.started": "2021-08-04T07:35:16.756869Z"
    },
    "id": "02_kmQPGip2P",
    "outputId": "f6de0174-a209-4e85-fe9c-2e8469fc385c",
    "papermill": {},
    "tags": []
   },
   "outputs": [],
   "source": [
    "pd.DataFrame.from_dict(list_dict).iloc[0][\"Name\"]"
   ]
  },
  {
   "cell_type": "markdown",
   "id": "exclusive-wyoming",
   "metadata": {
    "id": "bujC9LaMpHx9",
    "papermill": {},
    "tags": []
   },
   "source": [
    "Let's create a small function to extract the data. \n",
    "\n",
    "All the properties contain an id and a type. The type will then be used to find the original information of the property.\n",
    "\n",
    "Sometimes, the data will be contained directly as a string, sometimes it will be a dict sometimes it will be a list of dict. "
   ]
  },
  {
   "cell_type": "markdown",
   "id": "danish-stadium",
   "metadata": {
    "id": "YCAWDxKeJLTg",
    "papermill": {},
    "tags": []
   },
   "source": [
    "### Query database"
   ]
  },
  {
   "cell_type": "code",
   "execution_count": 24,
   "id": "speaking-nashville",
   "metadata": {
    "execution": {
     "iopub.execute_input": "2021-08-04T07:35:20.880201Z",
     "iopub.status.busy": "2021-08-04T07:35:20.879860Z",
     "iopub.status.idle": "2021-08-04T07:35:20.885568Z",
     "shell.execute_reply": "2021-08-04T07:35:20.884723Z",
     "shell.execute_reply.started": "2021-08-04T07:35:20.880163Z"
    },
    "id": "mJn95qB4r1qK",
    "papermill": {},
    "tags": []
   },
   "outputs": [],
   "source": [
    "def extract_name_or_plaintext(dictionnary):\n",
    "    # Given a dictionnary it will output the string of the key name or plain_text\n",
    "    if \"name\" in dictionnary.keys():\n",
    "        return dictionnary[\"name\"]\n",
    "    elif \"plain_text\" in dictionnary.keys():\n",
    "        return dictionnary[\"plain_text\"]\n",
    "    else:\n",
    "        return \"\"\n",
    "\n",
    "\n",
    "def extract_date(dictionnary):\n",
    "    # For the moment we extract only the starting date of a date field\n",
    "    # Example {'id': 'prop_1', 'type': 'date', 'date': {'start': '2018-03-21', 'end': None}}\n",
    "    # Input : {'start': '2018-03-21', 'end': None}\n",
    "    return dictionnary[\"start\"]"
   ]
  },
  {
   "cell_type": "code",
   "execution_count": 25,
   "id": "mysterious-transportation",
   "metadata": {
    "execution": {
     "iopub.execute_input": "2021-08-04T07:35:23.467286Z",
     "iopub.status.busy": "2021-08-04T07:35:23.467055Z",
     "iopub.status.idle": "2021-08-04T07:35:23.471559Z",
     "shell.execute_reply": "2021-08-04T07:35:23.470932Z",
     "shell.execute_reply.started": "2021-08-04T07:35:23.467263Z"
    },
    "id": "hmaNLTjGpoMP",
    "papermill": {},
    "tags": []
   },
   "outputs": [],
   "source": [
    "def extract_data(element):\n",
    "    # input: a dictionnary of a notion property\n",
    "    # Exemple: {'id': 'W#4k', 'type': 'select', 'select': {'id': 'b305bd26-****-****-****-c78e2034db8f', 'name': 'Client', 'color': 'green'}}\n",
    "    # output: the string containing the information of the dict. (Client in the exemple)\n",
    "    if type(element) is dict:\n",
    "        dict_type = element[\"type\"]\n",
    "        informations = element[dict_type]\n",
    "\n",
    "        if dict_type == \"date\":\n",
    "            informations = extract_date(informations)\n",
    "\n",
    "        elif type(informations) is dict:\n",
    "            informations = extract_name_or_plaintext(informations)\n",
    "\n",
    "        elif type(informations) is list:\n",
    "            informations_temp = \"\"\n",
    "            for element_of_informations_list in informations:\n",
    "                informations_temp += (\n",
    "                    extract_name_or_plaintext(element_of_informations_list) + \", \"\n",
    "                )\n",
    "            informations = informations_temp[:-2]\n",
    "        return informations\n",
    "\n",
    "    else:\n",
    "        return \"\""
   ]
  },
  {
   "cell_type": "code",
   "execution_count": 26,
   "id": "ancient-toilet",
   "metadata": {
    "execution": {
     "iopub.execute_input": "2021-08-04T07:35:23.880974Z",
     "iopub.status.busy": "2021-08-04T07:35:23.880744Z",
     "iopub.status.idle": "2021-08-04T07:35:23.887481Z",
     "shell.execute_reply": "2021-08-04T07:35:23.886816Z",
     "shell.execute_reply.started": "2021-08-04T07:35:23.880949Z"
    },
    "id": "oEREoIVSqjVL",
    "papermill": {},
    "tags": []
   },
   "outputs": [],
   "source": [
    "all_list = []\n",
    "for i in range(temp_df.shape[0]):\n",
    "    temp_list = []\n",
    "    for index, value in temp_df.iloc[i].items():\n",
    "        temp_list.append(extract_data(value))\n",
    "    all_list.append(temp_list)\n",
    "df_content = pd.DataFrame.from_records(all_list, columns=columns)"
   ]
  },
  {
   "cell_type": "markdown",
   "id": "geographic-tonight",
   "metadata": {
    "papermill": {},
    "tags": []
   },
   "source": [
    "### Get only visible headers"
   ]
  },
  {
   "cell_type": "code",
   "execution_count": 27,
   "id": "nearby-samba",
   "metadata": {
    "colab": {
     "base_uri": "https://localhost:8080/",
     "height": 204
    },
    "execution": {
     "iopub.execute_input": "2021-08-04T07:35:25.154514Z",
     "iopub.status.busy": "2021-08-04T07:35:25.154219Z",
     "iopub.status.idle": "2021-08-04T07:35:25.172608Z",
     "shell.execute_reply": "2021-08-04T07:35:25.172019Z",
     "shell.execute_reply.started": "2021-08-04T07:35:25.154483Z"
    },
    "id": "8_A6C24l_DTZ",
    "outputId": "77cee2a8-bb71-49c4-d549-90e327f830ee",
    "papermill": {},
    "tags": []
   },
   "outputs": [],
   "source": [
    "df_content.head()"
   ]
  },
  {
   "cell_type": "markdown",
   "id": "blond-tourism",
   "metadata": {
    "execution": {
     "iopub.execute_input": "2021-08-04T08:00:25.825603Z",
     "iopub.status.busy": "2021-08-04T08:00:25.825356Z",
     "iopub.status.idle": "2021-08-04T08:00:25.829860Z",
     "shell.execute_reply": "2021-08-04T08:00:25.829280Z",
     "shell.execute_reply.started": "2021-08-04T08:00:25.825579Z"
    },
    "papermill": {},
    "tags": []
   },
   "source": [
    "### Get full headers"
   ]
  },
  {
   "cell_type": "code",
   "execution_count": 31,
   "id": "romantic-angola",
   "metadata": {
    "execution": {
     "iopub.execute_input": "2021-08-04T07:57:19.265034Z",
     "iopub.status.busy": "2021-08-04T07:57:19.264737Z",
     "iopub.status.idle": "2021-08-04T07:57:19.270522Z",
     "shell.execute_reply": "2021-08-04T07:57:19.269936Z",
     "shell.execute_reply.started": "2021-08-04T07:57:19.265003Z"
    },
    "id": "XbuojdEbaGJy",
    "papermill": {},
    "tags": []
   },
   "outputs": [],
   "source": [
    "df_full = pd.concat([df_structure, df_content], axis=1)"
   ]
  },
  {
   "cell_type": "code",
   "execution_count": 32,
   "id": "second-generic",
   "metadata": {
    "execution": {
     "iopub.execute_input": "2021-08-04T07:57:23.581276Z",
     "iopub.status.busy": "2021-08-04T07:57:23.581047Z",
     "iopub.status.idle": "2021-08-04T07:57:23.639290Z",
     "shell.execute_reply": "2021-08-04T07:57:23.638672Z",
     "shell.execute_reply.started": "2021-08-04T07:57:23.581251Z"
    },
    "id": "rXi2iLQe_Va4",
    "papermill": {},
    "tags": []
   },
   "outputs": [],
   "source": [
    "df_full"
   ]
  },
  {
   "cell_type": "markdown",
   "id": "tender-contribution",
   "metadata": {
    "id": "dTvDx-KljGzc",
    "papermill": {},
    "tags": []
   },
   "source": [
    "### Get page properties"
   ]
  },
  {
   "cell_type": "markdown",
   "id": "subsequent-beads",
   "metadata": {
    "id": "EcqaPkgCFc-H",
    "papermill": {},
    "tags": []
   },
   "source": [
    "There is two different API calls to interact with a page. \n",
    "\n",
    "* **Get a page** will give us a page properties: https://developers.notion.com/reference/get-page\n",
    "\n",
    "* **Get block children** will give us the page content: https://developers.notion.com/reference/get-block-children\n"
   ]
  },
  {
   "cell_type": "code",
   "execution_count": 37,
   "id": "chicken-polls",
   "metadata": {
    "colab": {
     "base_uri": "https://localhost:8080/"
    },
    "execution": {
     "iopub.execute_input": "2021-08-04T08:03:57.746770Z",
     "iopub.status.busy": "2021-08-04T08:03:57.746544Z",
     "iopub.status.idle": "2021-08-04T08:03:58.591125Z",
     "shell.execute_reply": "2021-08-04T08:03:58.590446Z",
     "shell.execute_reply.started": "2021-08-04T08:03:57.746746Z"
    },
    "id": "DlWfZSVTQwoa",
    "outputId": "7a34a305-dc18-43a5-d9ed-4ddb58be13fa",
    "papermill": {},
    "tags": []
   },
   "outputs": [],
   "source": [
    "page_url = NOTION_PAGE_URL + PAGE_ID\n",
    "\n",
    "response = requests.get(\n",
    "    page_url,\n",
    "    headers={\"Authorization\": f\"{INTEGRATION_TOKEN}\", \"Notion-Version\": \"2021-05-13\"},\n",
    ")\n",
    "print(response.json())"
   ]
  },
  {
   "cell_type": "markdown",
   "id": "parallel-letter",
   "metadata": {
    "id": "8omlCdOD-Eao",
    "papermill": {},
    "tags": []
   },
   "source": [
    "### Retrieve a page content"
   ]
  },
  {
   "cell_type": "code",
   "execution_count": 38,
   "id": "choice-optics",
   "metadata": {
    "colab": {
     "base_uri": "https://localhost:8080/"
    },
    "execution": {
     "iopub.execute_input": "2021-08-04T08:04:02.104645Z",
     "iopub.status.busy": "2021-08-04T08:04:02.104351Z",
     "iopub.status.idle": "2021-08-04T08:04:02.900037Z",
     "shell.execute_reply": "2021-08-04T08:04:02.897894Z",
     "shell.execute_reply.started": "2021-08-04T08:04:02.104615Z"
    },
    "id": "PDsY77eX-Nj9",
    "outputId": "7ce4128b-3463-4a77-f297-65782504dbb6",
    "papermill": {},
    "tags": []
   },
   "outputs": [],
   "source": [
    "page_url = NOTION_PAGE_CONTENT + PAGE_ID + \"/children\"\n",
    "headers = {\"Authorization\": f\"{INTEGRATION_TOKEN}\", \"Notion-Version\": \"2021-05-13\"}\n",
    "\n",
    "response = requests.get(page_url, headers=headers)\n",
    "print(response.json())"
   ]
  },
  {
   "cell_type": "markdown",
   "id": "automated-following",
   "metadata": {
    "id": "FjG63wCMMVyE",
    "papermill": {},
    "tags": []
   },
   "source": [
    "Some types are accessible. But some other types are unsupported and cannot be read through the API. \n",
    "\n",
    "Some unsupported types : \n",
    "* image\n",
    "* bookmarked link\n",
    "* other page (it has an unsupported type but it will be readable through its page id)"
   ]
  },
  {
   "cell_type": "markdown",
   "id": "novel-biography",
   "metadata": {
    "id": "bnwPTUNxjukY",
    "papermill": {},
    "tags": []
   },
   "source": [
    "### Create a record "
   ]
  },
  {
   "cell_type": "code",
   "execution_count": 46,
   "id": "sealed-serial",
   "metadata": {
    "colab": {
     "base_uri": "https://localhost:8080/"
    },
    "execution": {
     "iopub.execute_input": "2021-08-04T08:26:15.994801Z",
     "iopub.status.busy": "2021-08-04T08:26:15.994564Z",
     "iopub.status.idle": "2021-08-04T08:26:16.000895Z",
     "shell.execute_reply": "2021-08-04T08:26:16.000252Z",
     "shell.execute_reply.started": "2021-08-04T08:26:15.994776Z"
    },
    "id": "LcvVoyfHkfhR",
    "outputId": "e0c8e62e-5536-470c-8780-5a2e7a73d48d",
    "papermill": {},
    "tags": []
   },
   "outputs": [],
   "source": [
    "page_url = NOTION_PAGE_URL\n",
    "page_id = DATABASE_ID_TEST\n",
    "\n",
    "# Surprisingly in this case you need to add \"Content-Type\": \"application/json\"\n",
    "# If not you will an error 400: body failed validation: body.parent should be defined, instead was 'undefined'.\n",
    "headers = {\n",
    "    \"Authorization\": f\"{INTEGRATION_TOKEN}\",\n",
    "    \"Notion-Version\": \"2021-05-13\",\n",
    "    \"Content-Type\": \"application/json\",\n",
    "}\n",
    "\n",
    "name = {\"title\": [{\"text\": {\"content\": \"Added via API NAAS\"}}]}\n",
    "company = {\"rich_text\": [{\"text\": {\"content\": \"Test Company\"}}]}\n",
    "status = {\"select\": {\"name\": \"Lost\"}}\n",
    "est_value = {\"number\": 10000}\n",
    "\n",
    "header = {\n",
    "    \"object\": \"block\",\n",
    "    \"type\": \"heading_2\",\n",
    "    \"heading_2\": {\"text\": [{\"type\": \"text\", \"text\": {\"content\": \"Naas API test\"}}]},\n",
    "}\n",
    "\n",
    "paragraph = {\n",
    "    \"object\": \"block\",\n",
    "    \"type\": \"paragraph\",\n",
    "    \"paragraph\": {\n",
    "        \"text\": [\n",
    "            {\n",
    "                \"type\": \"text\",\n",
    "                \"text\": {\n",
    "                    \"content\": \"Notebooks as a service for data geeks. Naas notebooks enable you to script faster with low-code formulas & templates. Automate all your tasks in minutes..\",\n",
    "                },\n",
    "            }\n",
    "        ]\n",
    "    },\n",
    "}\n",
    "\n",
    "to_do = {\n",
    "    \"object\": \"block\",\n",
    "    \"type\": \"to_do\",\n",
    "    \"to_do\": {\n",
    "        \"text\": [\n",
    "            {\n",
    "                \"type\": \"text\",\n",
    "                \"text\": {\n",
    "                    \"content\": \"Automate all your tasks in minutes..\",\n",
    "                },\n",
    "            },\n",
    "            {\n",
    "                \"type\": \"text\",\n",
    "                \"text\": {\n",
    "                    \"content\": \"Script faster\",\n",
    "                },\n",
    "            },\n",
    "        ]\n",
    "    },\n",
    "}"
   ]
  },
  {
   "cell_type": "markdown",
   "id": "asian-hudson",
   "metadata": {
    "papermill": {},
    "tags": []
   },
   "source": [
    "## Output"
   ]
  },
  {
   "cell_type": "markdown",
   "id": "russian-zoning",
   "metadata": {
    "papermill": {},
    "tags": []
   },
   "source": [
    "### Setup object to post"
   ]
  },
  {
   "cell_type": "code",
   "execution_count": 47,
   "id": "northern-server",
   "metadata": {
    "execution": {
     "iopub.execute_input": "2021-08-04T08:26:18.096025Z",
     "iopub.status.busy": "2021-08-04T08:26:18.095799Z",
     "iopub.status.idle": "2021-08-04T08:26:18.099246Z",
     "shell.execute_reply": "2021-08-04T08:26:18.098635Z",
     "shell.execute_reply.started": "2021-08-04T08:26:18.096002Z"
    },
    "papermill": {},
    "tags": []
   },
   "outputs": [],
   "source": [
    "myobj = {\n",
    "    \"parent\": {\"database_id\": page_id},\n",
    "    \"properties\": {\n",
    "        \"Name\": name,\n",
    "        \"Company\": company,\n",
    "        \"Status\": status,\n",
    "        \"Estimated Value\": est_value,\n",
    "    },\n",
    "    \"children\": [header, paragraph, to_do],\n",
    "}"
   ]
  },
  {
   "cell_type": "markdown",
   "id": "alpine-fleece",
   "metadata": {
    "papermill": {},
    "tags": []
   },
   "source": [
    "### Post record"
   ]
  },
  {
   "cell_type": "code",
   "execution_count": null,
   "id": "experimental-irish",
   "metadata": {
    "papermill": {},
    "tags": []
   },
   "outputs": [],
   "source": [
    "data = json.dumps(myobj)\n",
    "\n",
    "response = requests.post(page_url, headers=headers, data=data)\n",
    "\n",
    "if \"status\" in response.json().keys():\n",
    "    if response.json()[\"status\"] != 200:\n",
    "        print(\"Error:\", response.json()[\"message\"])\n",
    "elif \"object\" in response.json().keys():\n",
    "    print(\"✅ Your data was added to Notion\")\n",
    "    print(response.json())"
   ]
  }
 ],
 "metadata": {
  "colab": {
   "collapsed_sections": [],
   "name": "Notion API - Shared.ipynb",
   "provenance": []
  },
  "kernelspec": {
   "display_name": "Python 3",
   "language": "python",
   "name": "python3"
  },
  "language_info": {
   "codemirror_mode": {
    "name": "ipython",
    "version": 3
   },
   "file_extension": ".py",
   "mimetype": "text/x-python",
   "name": "python",
   "nbconvert_exporter": "python",
   "pygments_lexer": "ipython3",
   "version": "3.8.8"
  },
  "naas": {
   "notebook_id": "8ba178a0-002a-44e4-93b3-5b178e2eebc7",
   "notebook_path": "Notion/Notion_Explore_API.ipynb"
  },
  "papermill": {
   "default_parameters": {},
   "environment_variables": {},
   "parameters": {},
   "version": "2.3.3"
  },
  "widgets": {
   "application/vnd.jupyter.widget-state+json": {
    "state": {},
    "version_major": 2,
    "version_minor": 0
   }
  }
 },
 "nbformat": 4,
 "nbformat_minor": 5
}