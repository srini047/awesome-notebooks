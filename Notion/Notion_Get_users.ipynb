{
 "cells": [
  {
   "cell_type": "markdown",
   "id": "52e0e5da",
   "metadata": {
    "execution": {
     "iopub.execute_input": "2021-02-23T14:22:16.610471Z",
     "iopub.status.busy": "2021-02-23T14:22:16.610129Z",
     "iopub.status.idle": "2021-02-23T14:22:16.627784Z",
     "shell.execute_reply": "2021-02-23T14:22:16.626866Z",
     "shell.execute_reply.started": "2021-02-23T14:22:16.610384Z"
    },
    "papermill": {},
    "tags": []
   },
   "source": [
    "<img width=\"10%\" alt=\"Naas\" src=\"https://landen.imgix.net/jtci2pxwjczr/assets/5ice39g4.png?w=160\"/>"
   ]
  },
  {
   "cell_type": "markdown",
   "id": "402fd896",
   "metadata": {
    "papermill": {},
    "tags": []
   },
   "source": [
    "# Notion - Get users\n",
    "<a href=\"https://app.naas.ai/user-redirect/naas/downloader?url=https://raw.githubusercontent.com/jupyter-naas/awesome-notebooks/master/Notion/Notion_Get_users.ipynb\" target=\"_parent\"><img src=\"https://naasai-public.s3.eu-west-3.amazonaws.com/Open_in_Naas_Lab.svg\"/></a><br><br><a href=\"https://github.com/jupyter-naas/awesome-notebooks/issues/new?assignees=&labels=&template=template-request.md&title=Tool+-+Action+of+the+notebook+\">Template request</a> | <a href=\"https://github.com/jupyter-naas/awesome-notebooks/issues/new?assignees=&labels=bug&template=bug_report.md&title=Notion+-+Get+users:+Error+short+description\">Bug report</a> | <a href=\"https://app.naas.ai/user-redirect/naas/downloader?url=https://raw.githubusercontent.com/jupyter-naas/awesome-notebooks/master/Naas/Naas_Start_data_product.ipynb\" target=\"_parent\">Generate Data Product</a>"
   ]
  },
  {
   "cell_type": "markdown",
   "id": "e968d3e1-1530-466a-a8ea-327bab4ded9b",
   "metadata": {
    "papermill": {},
    "tags": []
   },
   "source": [
    "**Tags:** #notion #productivity #naas_drivers #operations #snippet"
   ]
  },
  {
   "cell_type": "markdown",
   "id": "d1fe949a-afd4-436c-a1da-5228e5d5c517",
   "metadata": {
    "papermill": {},
    "tags": []
   },
   "source": [
    "**Author:** [Maxime Jublou](https://www.linkedin.com/in/maximejublou)"
   ]
  },
  {
   "cell_type": "markdown",
   "id": "naas-description",
   "metadata": {
    "papermill": {},
    "tags": [
     "description"
    ]
   },
   "source": [
    "**Description:** Notion is a powerful tool that helps users organize their thoughts, tasks, and projects."
   ]
  },
  {
   "cell_type": "markdown",
   "id": "949052de",
   "metadata": {
    "papermill": {},
    "tags": []
   },
   "source": [
    "## Input"
   ]
  },
  {
   "cell_type": "markdown",
   "id": "a278b8a9-8838-4826-b5b1-b0b2258bcba2",
   "metadata": {
    "papermill": {},
    "tags": []
   },
   "source": [
    "### Import libraries"
   ]
  },
  {
   "cell_type": "code",
   "execution_count": null,
   "id": "0024e100-e38b-4886-a0a5-2985874d08cd",
   "metadata": {
    "papermill": {},
    "tags": []
   },
   "outputs": [],
   "source": [
    "from naas_drivers import notion"
   ]
  },
  {
   "cell_type": "markdown",
   "id": "d9f07ccd-add3-4348-a33f-f13c167ff6ff",
   "metadata": {
    "papermill": {},
    "tags": []
   },
   "source": [
    "### Input variables\n",
    "<a href='https://docs.naas.ai/drivers/notion'>How to get your Notion integration token ?</a>"
   ]
  },
  {
   "cell_type": "code",
   "execution_count": null,
   "id": "f715cf8d",
   "metadata": {
    "papermill": {},
    "tags": []
   },
   "outputs": [],
   "source": [
    "# Enter Token API\n",
    "token = \"*****\""
   ]
  },
  {
   "cell_type": "markdown",
   "id": "14814853-ab1a-407f-a6ed-f43f6750bdec",
   "metadata": {
    "papermill": {},
    "tags": []
   },
   "source": [
    "## Model"
   ]
  },
  {
   "cell_type": "markdown",
   "id": "593459ed-9299-498c-a59d-d4363622c403",
   "metadata": {
    "papermill": {},
    "tags": []
   },
   "source": [
    "### Get users"
   ]
  },
  {
   "cell_type": "code",
   "execution_count": null,
   "id": "4c77546c-db2a-4157-8c8e-ab26fb57ddd6",
   "metadata": {
    "papermill": {},
    "tags": []
   },
   "outputs": [],
   "source": [
    "users = notion.connect(token).users.list()"
   ]
  },
  {
   "cell_type": "markdown",
   "id": "86766318-4190-411d-a977-eeaca66c540a",
   "metadata": {
    "execution": {
     "iopub.execute_input": "2021-09-08T08:35:26.852888Z",
     "iopub.status.busy": "2021-09-08T08:35:26.852535Z",
     "iopub.status.idle": "2021-09-08T08:35:27.816622Z",
     "shell.execute_reply": "2021-09-08T08:35:27.809968Z",
     "shell.execute_reply.started": "2021-09-08T08:35:26.852857Z"
    },
    "papermill": {},
    "tags": []
   },
   "source": [
    "## Output"
   ]
  },
  {
   "cell_type": "code",
   "execution_count": null,
   "id": "b62e8409-6b1d-4977-9839-3c2c5bb48fa1",
   "metadata": {
    "papermill": {},
    "tags": []
   },
   "outputs": [],
   "source": [
    "users"
   ]
  }
 ],
 "metadata": {
  "kernelspec": {
   "display_name": "Python 3",
   "language": "python",
   "name": "python3"
  },
  "language_info": {
   "codemirror_mode": {
    "name": "ipython",
    "version": 3
   },
   "file_extension": ".py",
   "mimetype": "text/x-python",
   "name": "python",
   "nbconvert_exporter": "python",
   "pygments_lexer": "ipython3",
   "version": "3.9.6"
  },
  "naas": {
   "notebook_id": "cf37eca2469767cb53d562a97383fb6cad12c0691fb3b44fabdbfc1030ec3d5d",
   "notebook_path": "Notion/Notion_Get_users.ipynb"
  },
  "papermill": {
   "default_parameters": {},
   "environment_variables": {},
   "parameters": {},
   "version": "2.3.3"
  },
  "widgets": {
   "application/vnd.jupyter.widget-state+json": {
    "state": {},
    "version_major": 2,
    "version_minor": 0
   }
  }
 },
 "nbformat": 4,
 "nbformat_minor": 5
}