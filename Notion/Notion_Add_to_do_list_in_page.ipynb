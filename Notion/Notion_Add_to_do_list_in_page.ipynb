{
 "cells": [
  {
   "cell_type": "markdown",
   "id": "fec8039d-0fa8-4c43-8a10-565ce37f3de2",
   "metadata": {
    "papermill": {},
    "tags": []
   },
   "source": [
    "<img width=\"10%\" alt=\"Naas\" src=\"https://landen.imgix.net/jtci2pxwjczr/assets/5ice39g4.png?w=160\"/>"
   ]
  },
  {
   "cell_type": "markdown",
   "id": "addf50eb-91d4-43b4-90bf-a221d2546959",
   "metadata": {
    "papermill": {},
    "tags": []
   },
   "source": [
    "# Notion - Add to do list in page\n",
    "<a href=\"https://app.naas.ai/user-redirect/naas/downloader?url=https://raw.githubusercontent.com/jupyter-naas/awesome-notebooks/master/Notion/Notion_Add_to_do_list_in_page.ipynb\" target=\"_parent\"><img src=\"https://naasai-public.s3.eu-west-3.amazonaws.com/Open_in_Naas_Lab.svg\"/></a><br><br><a href=\"https://github.com/jupyter-naas/awesome-notebooks/issues/new?assignees=&labels=&template=template-request.md&title=Tool+-+Action+of+the+notebook+\">Template request</a> | <a href=\"https://github.com/jupyter-naas/awesome-notebooks/issues/new?assignees=&labels=bug&template=bug_report.md&title=Notion+-+Add+to+do+list+in+page:+Error+short+description\">Bug report</a> | <a href=\"https://app.naas.ai/user-redirect/naas/downloader?url=https://raw.githubusercontent.com/jupyter-naas/awesome-notebooks/master/Naas/Naas_Start_data_product.ipynb\" target=\"_parent\">Generate Data Product</a>"
   ]
  },
  {
   "cell_type": "markdown",
   "id": "85ce8f5e-aab8-448f-9546-70bf1536feff",
   "metadata": {
    "papermill": {},
    "tags": []
   },
   "source": [
    "**Tags:** #notion #todo #page #snippet #naas_drivers"
   ]
  },
  {
   "cell_type": "markdown",
   "id": "4dd79b36-540a-497d-ac30-f950e745c355",
   "metadata": {
    "papermill": {},
    "tags": []
   },
   "source": [
    "**Author:** [Florent Ravenel](https://www.linkedin.com/in/florent-ravenel)"
   ]
  },
  {
   "cell_type": "markdown",
   "id": "4547507e-8c0c-424a-83da-990f87139005",
   "metadata": {
    "papermill": {},
    "tags": []
   },
   "source": [
    "**Description:** This notebook explains how to add a to do list in a Notion page using naas_drivers from a list."
   ]
  },
  {
   "cell_type": "markdown",
   "id": "e0a073ae-9890-425c-a4cf-9a759016ec21",
   "metadata": {
    "papermill": {},
    "tags": []
   },
   "source": [
    "**References:**\n",
    "- [Notion Drivers](https://github.com/jupyter-naas/drivers/blob/main/naas_drivers/tools/notion.py)"
   ]
  },
  {
   "cell_type": "markdown",
   "id": "0e2cf359-e8b0-435a-831a-aeadcddea968",
   "metadata": {
    "papermill": {},
    "tags": []
   },
   "source": [
    "## Input"
   ]
  },
  {
   "cell_type": "markdown",
   "id": "86d61151-9c2d-405d-a541-18ec8b693227",
   "metadata": {
    "papermill": {},
    "tags": []
   },
   "source": [
    "### Import libraries"
   ]
  },
  {
   "cell_type": "code",
   "execution_count": null,
   "id": "5c273537-2c07-4733-b5f4-39dda1759e9a",
   "metadata": {
    "papermill": {},
    "tags": []
   },
   "outputs": [],
   "source": [
    "from naas_drivers import notion\n",
    "import naas"
   ]
  },
  {
   "cell_type": "markdown",
   "id": "a5210eb8-96c3-4886-a8cf-2c65a71eff17",
   "metadata": {
    "papermill": {},
    "tags": []
   },
   "source": [
    "### Setup Variables\n",
    "[Create integration with Notion](https://developers.notion.com/docs/create-a-notion-integration)\n",
    "- `to_do_name`: Name of your to do list\n",
    "- `to_do_list`: List of actions to do\n",
    "- `notion_token`: Notion token shared with your database\n",
    "- `page_url`: Notion page URL or ID"
   ]
  },
  {
   "cell_type": "code",
   "execution_count": null,
   "id": "502504fe-5898-47cc-ada3-7e44c1bb0497",
   "metadata": {
    "papermill": {},
    "tags": []
   },
   "outputs": [],
   "source": [
    "# Inputs\n",
    "to_do_name = \"My first todo:\"\n",
    "to_do_list = [\n",
    "    \"Task1\",\n",
    "    \"Task2\",\n",
    "    \"Task3\",\n",
    "]\n",
    "\n",
    "# Outputs\n",
    "notion_token = naas.secret.get(\"NOTION_TOKEN\") or \"YOUR_TOKEN\"\n",
    "page_url = \"https://www.notion.so/naas-official/Test-93655d0408c14923bcd305dd4599cda9?pvs=4\""
   ]
  },
  {
   "cell_type": "markdown",
   "id": "2aca73bb-f87d-4015-9c74-9643b21dd81b",
   "metadata": {
    "papermill": {},
    "tags": []
   },
   "source": [
    "## Model"
   ]
  },
  {
   "cell_type": "markdown",
   "id": "c5ea2d59-eddd-41bb-bd59-763f50ee8d84",
   "metadata": {
    "papermill": {},
    "tags": []
   },
   "source": [
    "### Add to do list"
   ]
  },
  {
   "cell_type": "code",
   "execution_count": null,
   "id": "f4abc6d5-6d28-4634-9490-3bc17aee5c28",
   "metadata": {
    "papermill": {},
    "tags": []
   },
   "outputs": [],
   "source": [
    "page_id = page_url.split(\"/\")[-1].split(\"?\")[0].split(\"-\")[-1]\n",
    "page = notion.connect(notion_token).page.get(page_id)\n",
    "page.paragraph(to_do_name)\n",
    "for to_do in to_do_list: \n",
    "    page.to_do(to_do)\n",
    "page.update()"
   ]
  },
  {
   "cell_type": "markdown",
   "id": "fdac9ee4-45df-408a-86b6-0d7e28527dee",
   "metadata": {
    "papermill": {},
    "tags": []
   },
   "source": [
    "## Output"
   ]
  },
  {
   "cell_type": "markdown",
   "id": "1e05048d-6cd6-4574-8205-48970f159fa6",
   "metadata": {
    "papermill": {},
    "tags": []
   },
   "source": [
    "### Display result"
   ]
  },
  {
   "cell_type": "code",
   "execution_count": null,
   "id": "77b8e9d0-97fb-4417-9130-f5b587b2d72c",
   "metadata": {
    "papermill": {},
    "tags": []
   },
   "outputs": [],
   "source": [
    "print(\"To do list updated in your page:\", page_url)"
   ]
  },
  {
   "cell_type": "markdown",
   "id": "20b2e68d-b3ae-40e9-a97b-ed95eb1385df",
   "metadata": {
    "papermill": {},
    "tags": []
   },
   "source": [
    " "
   ]
  }
 ],
 "metadata": {
  "kernelspec": {
   "display_name": "Python 3",
   "language": "python",
   "name": "python3"
  },
  "language_info": {
   "codemirror_mode": {
    "name": "ipython",
    "version": 3
   },
   "file_extension": ".py",
   "mimetype": "text/x-python",
   "name": "python",
   "nbconvert_exporter": "python",
   "pygments_lexer": "ipython3",
   "version": "3.9.6"
  },
  "naas": {
   "notebook_id": "a325c9e4b91d0842ed3a531aaf5e9e21c0ff0652bab97a3f95a3eb62cc3ffd1a",
   "notebook_path": "Notion/Notion_Add_to_do_list_in_page.ipynb"
  },
  "papermill": {
   "default_parameters": {},
   "environment_variables": {},
   "parameters": {},
   "version": "2.4.0"
  },
  "widgets": {
   "application/vnd.jupyter.widget-state+json": {
    "state": {},
    "version_major": 2,
    "version_minor": 0
   }
  }
 },
 "nbformat": 4,
 "nbformat_minor": 5
}