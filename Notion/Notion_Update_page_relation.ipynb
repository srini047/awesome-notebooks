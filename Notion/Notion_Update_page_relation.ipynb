{
 "cells": [
  {
   "cell_type": "markdown",
   "id": "9fc8abd3-a56c-4c4b-af78-c184f0a4b823",
   "metadata": {
    "papermill": {},
    "tags": []
   },
   "source": [
    "<img width=\"10%\" alt=\"Naas\" src=\"https://landen.imgix.net/jtci2pxwjczr/assets/5ice39g4.png?w=160\"/>"
   ]
  },
  {
   "cell_type": "markdown",
   "id": "bd775d63-d110-41a7-88f4-b7f523f2b97f",
   "metadata": {
    "papermill": {},
    "tags": []
   },
   "source": [
    "# Notion - Update page relation\n",
    "<a href=\"https://app.naas.ai/user-redirect/naas/downloader?url=https://raw.githubusercontent.com/jupyter-naas/awesome-notebooks/master/Notion/Notion_Update_page_relation.ipynb\" target=\"_parent\"><img src=\"https://naasai-public.s3.eu-west-3.amazonaws.com/Open_in_Naas_Lab.svg\"/></a><br><br><a href=\"https://github.com/jupyter-naas/awesome-notebooks/issues/new?assignees=&labels=&template=template-request.md&title=Tool+-+Action+of+the+notebook+\">Template request</a> | <a href=\"https://github.com/jupyter-naas/awesome-notebooks/issues/new?assignees=&labels=bug&template=bug_report.md&title=Notion+-+Update+page+relation:+Error+short+description\">Bug report</a> | <a href=\"https://app.naas.ai/user-redirect/naas/downloader?url=https://raw.githubusercontent.com/jupyter-naas/awesome-notebooks/master/Naas/Naas_Start_data_product.ipynb\" target=\"_parent\">Generate Data Product</a>"
   ]
  },
  {
   "cell_type": "markdown",
   "id": "f38fbc4f-c8e9-4d50-bdaf-44c800b2bdd4",
   "metadata": {
    "papermill": {},
    "tags": []
   },
   "source": [
    "**Tags:** #notion #update #page #relation #requests #api"
   ]
  },
  {
   "cell_type": "markdown",
   "id": "4ff5a5c7-d5c2-4620-b1bf-8ad36c06f1ff",
   "metadata": {
    "papermill": {},
    "tags": []
   },
   "source": [
    "**Author:** [Florent Ravenel](https://linkedin.com/in/florent-ravenel)"
   ]
  },
  {
   "cell_type": "markdown",
   "id": "3dd99dd5-806c-4b95-8c65-97258f5825f0",
   "metadata": {
    "papermill": {},
    "tags": []
   },
   "source": [
    "**Description:** This notebook will show how to update page relation using requests. It is usefull for organization to link different database in Notion and keep track of their data."
   ]
  },
  {
   "cell_type": "markdown",
   "id": "50e6c68b-3763-41ca-bbe0-476d97ea5622",
   "metadata": {
    "papermill": {},
    "tags": []
   },
   "source": [
    "**References:**\n",
    "- [Notion API Reference](https://developers.notion.com/reference/page-property-values#relation)"
   ]
  },
  {
   "cell_type": "markdown",
   "id": "ed4e1d67-b8eb-4b1b-83c2-f8f3429361d0",
   "metadata": {
    "papermill": {},
    "tags": []
   },
   "source": [
    "## Input"
   ]
  },
  {
   "cell_type": "markdown",
   "id": "15b3293f-fd8c-49b9-abd8-a3d6de781d4e",
   "metadata": {
    "papermill": {},
    "tags": []
   },
   "source": [
    "### Import libraries"
   ]
  },
  {
   "cell_type": "code",
   "execution_count": null,
   "id": "cb723d8a-5960-4931-9057-fff4a9662a80",
   "metadata": {
    "papermill": {},
    "tags": []
   },
   "outputs": [],
   "source": [
    "import requests\n",
    "import naas\n",
    "from pprint import pprint"
   ]
  },
  {
   "cell_type": "markdown",
   "id": "aad62598-5d99-47cd-a77b-9af9957d4a84",
   "metadata": {
    "papermill": {},
    "tags": []
   },
   "source": [
    "### Setup Variables\n",
    "[Create integration with Notion](https://developers.notion.com/docs/create-a-notion-integration)\n",
    "- `notion_token`: Notion token shared with your database\n",
    "- `page_id`: Notion page URL or ID\n",
    "- `relation_property_name`: Relation property name in your page\n",
    "- `relation_id`: Page URL or ID to be linked to master page as relation"
   ]
  },
  {
   "cell_type": "code",
   "execution_count": null,
   "id": "6db6aec5-2b08-4cfa-8746-5d916130375b",
   "metadata": {
    "papermill": {},
    "tags": []
   },
   "outputs": [],
   "source": [
    "notion_token = naas.secret.get(\"NOTION_TOKEN\") or \"YOUR_TOKEN\"\n",
    "page_id = \"https://www.notion.so/xxxxxxxxx/xxxxxxxxxxxxxx?pvs=4\"\n",
    "relation_property_name = \"<relation_property_name>\"\n",
    "relation_id = \"https://www.notion.so/xxxxxxxxx/xxxxxxxxxxxxxx?pvs=4\""
   ]
  },
  {
   "cell_type": "markdown",
   "id": "74e29f95-b7d7-408a-bebb-945e65bc40c4",
   "metadata": {
    "papermill": {},
    "tags": []
   },
   "source": [
    "## Model"
   ]
  },
  {
   "cell_type": "markdown",
   "id": "bb931f00-0293-4765-9ab6-a98cc1e5efb7",
   "metadata": {
    "papermill": {},
    "tags": []
   },
   "source": [
    "### Get page"
   ]
  },
  {
   "cell_type": "code",
   "execution_count": null,
   "id": "3728bbdd-dfde-4524-863f-4a0674122816",
   "metadata": {
    "papermill": {},
    "tags": []
   },
   "outputs": [],
   "source": [
    "# Get page ID\n",
    "page_id = page_id.split(\"?\")[0].split(\"-\")[-1]\n",
    "\n",
    "# Get properties from page\n",
    "url = f\"https://api.notion.com/v1/pages/{page_id}\"\n",
    "headers = {\n",
    "    'Authorization': f'Bearer {notion_token}',\n",
    "    \"accept\": \"application/json\",\n",
    "    \"Notion-Version\": \"2022-06-28\"\n",
    "}\n",
    "response = requests.get(url, headers=headers)\n",
    "properties = response.json().get(\"properties\")\n",
    "pprint(properties)"
   ]
  },
  {
   "cell_type": "markdown",
   "id": "711e3c5b-39e8-4aa7-9118-e8ed61c217fa",
   "metadata": {
    "papermill": {},
    "tags": []
   },
   "source": [
    "## Output"
   ]
  },
  {
   "cell_type": "markdown",
   "id": "a7ff4e92-54bd-426b-bf1f-ac4ccdc3f2c6",
   "metadata": {
    "papermill": {},
    "tags": []
   },
   "source": [
    "### Update page relation"
   ]
  },
  {
   "cell_type": "code",
   "execution_count": null,
   "id": "3e95ed44-a95c-4ec0-9e00-1df577f811d9",
   "metadata": {
    "papermill": {},
    "tags": []
   },
   "outputs": [],
   "source": [
    "# Get relation ID\n",
    "relation_id = relation_id.split(\"?\")[0].split(\"-\")[-1]\n",
    "\n",
    "# Update properties from page\n",
    "properties[relation_property_name][\"relation\"] = [{'id': relation_id}]\n",
    "res = requests.patch(url, headers=headers, json={\"properties\": properties})\n",
    "if res.status_code == 200:\n",
    "    print(\"Relation updated for page:\", page_id)"
   ]
  }
 ],
 "metadata": {
  "kernelspec": {
   "display_name": "Python 3",
   "language": "python",
   "name": "python3"
  },
  "language_info": {
   "codemirror_mode": {
    "name": "ipython",
    "version": 3
   },
   "file_extension": ".py",
   "mimetype": "text/x-python",
   "name": "python",
   "nbconvert_exporter": "python",
   "pygments_lexer": "ipython3",
   "version": "3.9.6"
  },
  "naas": {
   "notebook_id": "235b5d348b55afe007e3513452df95b030d2cc3d20d5b5fcb660fca90b2bb5cc",
   "notebook_path": "Notion/Notion_Update_page_relation.ipynb"
  },
  "papermill": {
   "default_parameters": {},
   "environment_variables": {},
   "parameters": {},
   "version": "2.4.0"
  },
  "widgets": {
   "application/vnd.jupyter.widget-state+json": {
    "state": {},
    "version_major": 2,
    "version_minor": 0
   }
  }
 },
 "nbformat": 4,
 "nbformat_minor": 5
}