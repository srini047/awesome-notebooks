{
 "cells": [
  {
   "cell_type": "markdown",
   "id": "632bc97d-6524-4659-bb49-78d8da5d3ac6",
   "metadata": {
    "papermill": {},
    "tags": []
   },
   "source": [
    "<img width=\"10%\" alt=\"Naas\" src=\"https://landen.imgix.net/jtci2pxwjczr/assets/5ice39g4.png?w=160\"/>"
   ]
  },
  {
   "cell_type": "markdown",
   "id": "8782cc7b-8b73-4b71-bab9-299644f1927d",
   "metadata": {
    "papermill": {},
    "tags": []
   },
   "source": [
    "# Notion - Update Database with LinkedIn Company Info\n",
    "<a href=\"https://app.naas.ai/user-redirect/naas/downloader?url=https://raw.githubusercontent.com/jupyter-naas/awesome-notebooks/master/Notion/Notion_Update_Database_with_LinkedIn_Company_Info.ipynb\" target=\"_parent\"><img src=\"https://naasai-public.s3.eu-west-3.amazonaws.com/open_in_naas.svg\"/></a><br><br><a href=\"https://github.com/jupyter-naas/awesome-notebooks/issues/new?assignees=&labels=&template=template-request.md&title=Tool+-+Action+of+the+notebook+\">Template request</a> | <a href=\"https://github.com/jupyter-naas/awesome-notebooks/issues/new?assignees=&labels=bug&template=bug_report.md&title=Notion+-+Update+Database+with+LinkedIn+Company+Info:+Error+short+description\">Bug report</a>"
   ]
  },
  {
   "cell_type": "markdown",
   "id": "71855b14-f55f-4ef7-b8d7-238f51e1e138",
   "metadata": {
    "papermill": {},
    "tags": []
   },
   "source": [
    "**Tags:** #notion #database #update #linkedin #company #info"
   ]
  },
  {
   "cell_type": "markdown",
   "id": "c3a0ba0b-40e1-4b16-af94-df07db367824",
   "metadata": {
    "papermill": {},
    "tags": []
   },
   "source": [
    "**Author:** [Florent Ravenel](https://www.linkedin.com/in/florent-ravenel/)"
   ]
  },
  {
   "cell_type": "markdown",
   "id": "eb57fcb4-94d9-4cf9-a8fb-cd93e008795c",
   "metadata": {
    "papermill": {},
    "tags": []
   },
   "source": [
    "**Description:** This notebook updates a database filled with company name with info found on LinkedIn using google search, naas_drivers.notion and naas_drivers.linkedin."
   ]
  },
  {
   "cell_type": "markdown",
   "id": "30d3b3f6-133a-4998-8fd5-da44f80401e9",
   "metadata": {
    "papermill": {},
    "tags": []
   },
   "source": [
    "**References:**\n",
    "- [Notion Drivers](https://github.com/jupyter-naas/drivers/blob/main/naas_drivers/tools/notion.py)\n",
    "- [LinkedIn Drivers](https://github.com/jupyter-naas/drivers/blob/main/naas_drivers/tools/linkedin.py)"
   ]
  },
  {
   "cell_type": "markdown",
   "id": "e9bc3a35-d96e-4df6-a27b-c1e15d7f51c3",
   "metadata": {
    "papermill": {},
    "tags": []
   },
   "source": [
    "## Input"
   ]
  },
  {
   "cell_type": "markdown",
   "id": "33c57fa9-6735-41b5-94de-9b2968a78b13",
   "metadata": {
    "papermill": {},
    "tags": []
   },
   "source": [
    "### Import libraries"
   ]
  },
  {
   "cell_type": "code",
   "execution_count": null,
   "id": "4c3f5195-161e-4e6d-915d-4d6f116a56f1",
   "metadata": {
    "papermill": {},
    "tags": []
   },
   "outputs": [],
   "source": [
    "import naas\n",
    "from naas_drivers import linkedin, notion\n",
    "try:\n",
    "    from googlesearch import search\n",
    "except:\n",
    "    !pip install google\n",
    "    from googlesearch import search\n",
    "import re\n",
    "from datetime import datetime\n",
    "import os\n",
    "import requests\n",
    "import pandas as pd"
   ]
  },
  {
   "cell_type": "markdown",
   "id": "3afe330d-2a0e-4e5a-9b4c-cdae1b0d55ff",
   "metadata": {
    "papermill": {},
    "tags": []
   },
   "source": [
    "### Setup Variables\n",
    "[Get your LinkedIn cookies](https://www.notion.so/LinkedIn-driver-Get-your-cookies-d20a8e7e508e42af8a5b52e33f3dba75)\n",
    "- `li_at`: LinkedIn cookie used to authenticate Members and API clients \n",
    "- `JSESSIONID`: LinkedIn cookie used for Cross Site Request Forgery (CSRF) protection and URL signature validation.\n",
    "\n",
    "[Create integration with Notion](https://developers.notion.com/docs/create-a-notion-integration)\n",
    "- `notion_token`: Notion token shared with your database\n",
    "- `database_key_name`: Database key name to be used to create new page\n",
    "- `force_update`: To be used at 'True' if you want to update the entire dabatase, otherwise it will only update new entries\n",
    "- `notion_database`: URL of your notion database\n",
    "- `output_dir`: directory to save company data extracted from LinkedIn"
   ]
  },
  {
   "cell_type": "code",
   "execution_count": null,
   "id": "630b59ae-c27d-43ef-8994-f37ce227d1ac",
   "metadata": {
    "papermill": {},
    "tags": []
   },
   "outputs": [],
   "source": [
    "# Inputs\n",
    "# -> LinkedIn\n",
    "LI_AT = naas.secret.get(\"LINKEDIN_LI_AT\")\n",
    "JSESSIONID = naas.secret.get(\"LINKEDIN_JSESSIONID\")\n",
    "\n",
    "# -> Notion\n",
    "notion_token = naas.secret.get(\"NOTION_TOKEN\") or \"YOUR_TOKEN\"\n",
    "database_key_name = \"Name\"\n",
    "force_update = False\n",
    "\n",
    "# Outputs\n",
    "notion_database = \"https://www.notion.so/naas-official/341eaeba74224c93adaf5ab51f87f1b2?v=xxxxxxxxxxx\"\n",
    "output_dir = \".\""
   ]
  },
  {
   "cell_type": "markdown",
   "id": "bd03af79-27a4-4b7d-93d6-f269ec24acb8",
   "metadata": {
    "papermill": {},
    "tags": []
   },
   "source": [
    "### Schedule your automation"
   ]
  },
  {
   "cell_type": "code",
   "execution_count": null,
   "id": "a68f501e-08a1-4dc1-b4c0-d69624e8115d",
   "metadata": {
    "papermill": {},
    "tags": []
   },
   "outputs": [],
   "source": [
    "# Schedule during week days every hour between 9:00 AM to 8:00 PM\n",
    "naas.scheduler.add(cron=\"0 9-20 * * 1-5\")\n",
    "\n",
    "# naas.scheduler.delete() # uncomment and execute cell to delete automation"
   ]
  },
  {
   "cell_type": "markdown",
   "id": "01ec82f7-48c7-426d-87e1-ec255269e981",
   "metadata": {
    "papermill": {},
    "tags": []
   },
   "source": [
    "## Model"
   ]
  },
  {
   "cell_type": "markdown",
   "id": "23e6f91c-f1ca-49c6-b10c-9de74aee3c0e",
   "metadata": {
    "papermill": {},
    "tags": []
   },
   "source": [
    "### Get Notion DB"
   ]
  },
  {
   "cell_type": "code",
   "execution_count": null,
   "id": "83439db5-e284-4822-879a-288c3ba8cb9a",
   "metadata": {
    "papermill": {},
    "tags": []
   },
   "outputs": [],
   "source": [
    "def create_notion_db(notion_database, key, token):\n",
    "    # Get database\n",
    "    database_id = notion_database.split(\"/\")[-1].split(\"?v=\")[0]\n",
    "    pages = notion.connect(token).database.query(database_id, query={})\n",
    "\n",
    "    # Init\n",
    "    df_output = pd.DataFrame()\n",
    "    \n",
    "    # Loop on page\n",
    "    for page in pages:\n",
    "        # Get page_id\n",
    "        page_id = page.id\n",
    "        \n",
    "        # Create dataframe from page\n",
    "        df = page.df()\n",
    "        \n",
    "        # Remove empty pages\n",
    "        page_title = df.loc[df.Name == key, \"Value\"].values[0]\n",
    "        if page_title == \"\":\n",
    "            notion.connect(token).blocks.delete(page_id)\n",
    "            print(f\"Page '{page_id}' empty => removed from database\")\n",
    "        else:\n",
    "            # Pivot rows to columns\n",
    "            columns = df[\"Name\"].unique().tolist()\n",
    "            new_df = df.copy()\n",
    "            new_df = new_df.drop(\"Type\", axis=1)\n",
    "            new_df = new_df.T\n",
    "            for i, c in enumerate(new_df.columns):\n",
    "                new_df = new_df.rename(columns={c: columns[i]})\n",
    "            new_df = new_df.drop(\"Name\").reset_index(drop=True)\n",
    "\n",
    "            # Add page ID\n",
    "            new_df[\"PAGE_ID\"] = page_id\n",
    "\n",
    "            # Concat dataframe\n",
    "            df_output = pd.concat([df_output, new_df])\n",
    "    return df_output\n",
    "\n",
    "df_notion = create_notion_db(\n",
    "    notion_database,\n",
    "    database_key_name,\n",
    "    notion_token\n",
    ")\n",
    "print(\"📊 Notion DB:\", len(df_notion))\n",
    "df_notion.head(1)"
   ]
  },
  {
   "cell_type": "markdown",
   "id": "2197a4ac-9f88-44a7-80d0-1f1112e06629",
   "metadata": {
    "papermill": {},
    "tags": []
   },
   "source": [
    "## Output"
   ]
  },
  {
   "cell_type": "markdown",
   "id": "7819ff93-4d3a-4ca3-8657-ca1aca460afa",
   "metadata": {
    "papermill": {},
    "tags": []
   },
   "source": [
    "### Get Company Info"
   ]
  },
  {
   "cell_type": "code",
   "execution_count": null,
   "id": "1e04649c-d8fe-4178-8928-e9b165b92891",
   "metadata": {
    "papermill": {},
    "tags": []
   },
   "outputs": [],
   "source": [
    "def get_linkedin_url(company):\n",
    "    # Init linkedinbio\n",
    "    linkedinbio = None\n",
    "    \n",
    "    # Create query\n",
    "    query = f\"{company}+Linkedin\"\n",
    "    print(\"--> Google query:\", query)\n",
    "    \n",
    "    # Search in Google\n",
    "    for i in search(query, tld=\"com\", num=10, stop=10, pause=2):\n",
    "        pattern = \"https:\\/\\/.+.linkedin.com\\/company\\/.([^?])+\"\n",
    "        result = re.search(pattern, i)\n",
    "\n",
    "        # Return value if result is not None\n",
    "        if result != None:\n",
    "            linkedinbio = result.group(0).replace(\" \", \"\")\n",
    "            return linkedinbio\n",
    "    return linkedinbio\n",
    "\n",
    "for index, row in df_notion.iterrows():\n",
    "    # Init variables\n",
    "    google_search = False\n",
    "    lk_company_url = None\n",
    "    company_name = row[\"Name\"]\n",
    "    page_id = row[\"PAGE_ID\"]\n",
    "    \n",
    "    # Get page ID\n",
    "    page = notion.connect(notion_token).page.get(page_id)\n",
    "    \n",
    "    # Check if value already exists\n",
    "    if \"Google Search\" in df_notion.columns:\n",
    "        google_search = row[\"Google Search\"]\n",
    "    if \"LinkedIn URL\" in df_notion.columns:\n",
    "        lk_company_url = row[\"LinkedIn URL\"]    \n",
    "    if str(lk_company_url) == \"None\" and str(google_search) == \"False\":\n",
    "        # Finding URL\n",
    "        print(\"🔍 Finding LinkedIn URL for:\", company_name)\n",
    "        lk_company_url = get_linkedin_url(company_name)\n",
    "        print(\"--> Result found:\", lk_company_url)\n",
    "            \n",
    "    if lk_company_url != \"None\" and lk_company_url is not None:\n",
    "        if not lk_company_url[-1:].isnumeric() or force_update:\n",
    "            print(\"➡️ Update info for:\", company_name)\n",
    "            # Get LinkedIn Company Info\n",
    "            df_company = linkedin.connect(LI_AT, JSESSIONID).company.get_info(lk_company_url)\n",
    "            company_name = df_company.loc[0, \"COMPANY_NAME\"]\n",
    "            company_id = df_company.loc[0, \"COMPANY_ID\"]\n",
    "            company_url = f\"https://www.linkedin.com/company/{company_id}\"\n",
    "            company_industry = df_company.loc[0, \"INDUSTRY\"]\n",
    "            company_website = df_company.loc[0, \"WEBSITE\"]\n",
    "            company_desc = df_company.loc[0, \"DESCRIPTION\"]\n",
    "            company_country = df_company.loc[0, \"COUNTRY\"]\n",
    "            company_city = df_company.loc[0, \"CITY\"]\n",
    "            company_staff = df_company.loc[0, \"STAFF_RANGE\"]\n",
    "            company_followers = df_company.loc[0, \"FOLLOWER_COUNT\"]\n",
    "            company_logo_url = df_company.loc[0, \"LOGO_URL\"]\n",
    "\n",
    "            # Save dataframe\n",
    "            company_name_c = company_name.replace(' ', '_')\n",
    "            csv_name = f\"{datetime.now().strftime('%Y%m%d')}_LINKEDIN_COMPANY_{company_id}.csv\"\n",
    "            output_path = os.path.join(output_dir, company_name_c)\n",
    "            if not os.path.exists(output_path):\n",
    "                os.makedirs(output_path)\n",
    "            df_company.to_csv(os.path.join(output_path, csv_name), index=False)\n",
    "\n",
    "            # Update Notion Properties\n",
    "            page.title(\"Name\", company_name)\n",
    "            page.link(\"LinkedIn URL\", company_url)\n",
    "            page.select(\"Industry\", company_industry)\n",
    "            page.link(\"Website\", company_website)\n",
    "            page.select(\"Country\", company_country)\n",
    "            page.select(\"City\", company_city)\n",
    "            page.select(\"Staff Range\", company_staff)\n",
    "            page.number(\"Followers\", int(company_followers))\n",
    "            page.checkbox(\"Google Search\", True)\n",
    "            if company_logo_url != \"None\":\n",
    "                notion.client.pages.update(\n",
    "                    page_id=page.id, icon={\"type\": \"external\", \"external\": {\"url\": company_logo_url}}\n",
    "                )\n",
    "            # Update Notion Blocks\n",
    "            page.heading_3(f\"Description:\")\n",
    "            for t in company_desc.split('\\n'):\n",
    "                page.paragraph(t)\n",
    "            page.update()\n",
    "            print(f\"✅ Data successfully updated in Notion.\")"
   ]
  },
  {
   "cell_type": "markdown",
   "id": "ccbe4ce2-2d08-4ec7-a665-cc5227cb2048",
   "metadata": {
    "papermill": {},
    "tags": []
   },
   "source": [
    " "
   ]
  }
 ],
 "metadata": {
  "kernelspec": {
   "display_name": "Python 3",
   "language": "python",
   "name": "python3"
  },
  "language_info": {
   "codemirror_mode": {
    "name": "ipython",
    "version": 3
   },
   "file_extension": ".py",
   "mimetype": "text/x-python",
   "name": "python",
   "nbconvert_exporter": "python",
   "pygments_lexer": "ipython3",
   "version": "3.9.6"
  },
  "papermill": {
   "default_parameters": {},
   "environment_variables": {},
   "parameters": {},
   "version": "2.4.0"
  },
  "widgets": {
   "application/vnd.jupyter.widget-state+json": {
    "state": {},
    "version_major": 2,
    "version_minor": 0
   }
  }
 },
 "nbformat": 4,
 "nbformat_minor": 5
}