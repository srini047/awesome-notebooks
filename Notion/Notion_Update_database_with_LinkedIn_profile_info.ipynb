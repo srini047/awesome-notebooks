{
 "cells": [
  {
   "cell_type": "markdown",
   "id": "632bc97d-6524-4659-bb49-78d8da5d3ac6",
   "metadata": {
    "papermill": {},
    "tags": []
   },
   "source": [
    "<img width=\"10%\" alt=\"Naas\" src=\"https://landen.imgix.net/jtci2pxwjczr/assets/5ice39g4.png?w=160\"/>"
   ]
  },
  {
   "cell_type": "markdown",
   "id": "8782cc7b-8b73-4b71-bab9-299644f1927d",
   "metadata": {
    "papermill": {},
    "tags": []
   },
   "source": [
    "# Notion - Update database with LinkedIn profile info\n",
    "<a href=\"https://app.naas.ai/user-redirect/naas/downloader?url=https://raw.githubusercontent.com/jupyter-naas/awesome-notebooks/master/Notion/Notion_Update_database_with_LinkedIn_profile_info.ipynb\" target=\"_parent\"><img src=\"https://naasai-public.s3.eu-west-3.amazonaws.com/Open_in_Naas_Lab.svg\"/></a><br><br><a href=\"https://github.com/jupyter-naas/awesome-notebooks/issues/new?assignees=&labels=&template=template-request.md&title=Tool+-+Action+of+the+notebook+\">Template request</a> | <a href=\"https://github.com/jupyter-naas/awesome-notebooks/issues/new?assignees=&labels=bug&template=bug_report.md&title=Notion+-+Update+database+with+LinkedIn+profile+info:+Error+short+description\">Bug report</a> | <a href=\"https://app.naas.ai/user-redirect/naas/downloader?url=https://raw.githubusercontent.com/jupyter-naas/awesome-notebooks/master/Naas/Naas_Start_data_product.ipynb\" target=\"_parent\">Generate Data Product</a>"
   ]
  },
  {
   "cell_type": "markdown",
   "id": "71855b14-f55f-4ef7-b8d7-238f51e1e138",
   "metadata": {
    "papermill": {},
    "tags": []
   },
   "source": [
    "**Tags:** #notion #database #update #linkedin #company #automation #scheduler"
   ]
  },
  {
   "cell_type": "markdown",
   "id": "c3a0ba0b-40e1-4b16-af94-df07db367824",
   "metadata": {
    "papermill": {},
    "tags": []
   },
   "source": [
    "**Author:** [Florent Ravenel](https://www.linkedin.com/in/florent-ravenel/)"
   ]
  },
  {
   "cell_type": "markdown",
   "id": "eb57fcb4-94d9-4cf9-a8fb-cd93e008795c",
   "metadata": {
    "papermill": {},
    "tags": []
   },
   "source": [
    "**Description:** This notebook streamlines the process of updating a Notion database containing profile names by extracting relevant information from LinkedIn using Google search, as well as utilizing Naas_Drivers.Notion and Naas_Drivers.LinkedIn. The following data will be updated in your Notion database:\n",
    "- Name: The name of the person who owns the LinkedIn profile.\n",
    "- LinkedIn: LinkedIn unique URL\n",
    "- Occupation: The job or profession that a person is engaged in, listed on their LinkedIn profile.\n",
    "- Industry: The field or sector in which a person works, listed on their LinkedIn profile.\n",
    "- City: The specific city where a person lives or works, listed on their LinkedIn profile.\n",
    "- Region: A broader geographic area that a person's city may be located in, such as a state or province, listed on their LinkedIn profile.\n",
    "- Country: The nation where a person is located or from, listed on their LinkedIn profile.\n",
    "- Location: The overall geographic location of a person, which may include their city, region, and country, listed on their LinkedIn profile.\n",
    "Additionally, the background picture will be refreshed as the page cover, the profile picture will serve as the page icon, and the occupation and summary will be included in the page block.\n",
    "\n",
    "Overall, this notebook can be useful for any business or individual who needs to keep track of company information for various purposes:\n",
    "- Lead generation: Sales teams could use the updated Notion database to identify potential leads based on their LinkedIn profiles, and initiate targeted outreach to convert them into customers.\n",
    "- Talent sourcing: Recruiters could use the updated Notion database to find and evaluate potential job candidates based on their LinkedIn profiles and relevant information stored in the database.\n",
    "- Social media marketing: Marketers could use the updated Notion database to build custom audiences for their social media campaigns based on the information stored in the database and on LinkedIn.\n",
    "\n",
    "<u>Disclamer:</u>\n",
    "\n",
    "When using this script to scrape profiles from LinkedIn, it's important to set a limit on the number of API calls made to avoid being temporarily banned. LinkedIn heavily monitors scraping activities, and excessive usage can result in a ban. We recommend setting a limit of no more than 5 calls per hour to minimize the risk of being banned. As the owner of the script, it's your responsibility to use it responsibly and abide by LinkedIn's terms of service. We assume no liability for any consequences resulting from your use of this script."
   ]
  },
  {
   "cell_type": "markdown",
   "id": "30d3b3f6-133a-4998-8fd5-da44f80401e9",
   "metadata": {
    "papermill": {},
    "tags": []
   },
   "source": [
    "**References:**\n",
    "- [Notion Drivers](https://github.com/jupyter-naas/drivers/blob/main/naas_drivers/tools/notion.py)\n",
    "- [LinkedIn Drivers](https://github.com/jupyter-naas/drivers/blob/main/naas_drivers/tools/linkedin.py)"
   ]
  },
  {
   "cell_type": "markdown",
   "id": "e9bc3a35-d96e-4df6-a27b-c1e15d7f51c3",
   "metadata": {
    "papermill": {},
    "tags": []
   },
   "source": [
    "## Input"
   ]
  },
  {
   "cell_type": "markdown",
   "id": "33c57fa9-6735-41b5-94de-9b2968a78b13",
   "metadata": {
    "papermill": {},
    "tags": []
   },
   "source": [
    "### Import libraries"
   ]
  },
  {
   "cell_type": "code",
   "execution_count": null,
   "id": "4c3f5195-161e-4e6d-915d-4d6f116a56f1",
   "metadata": {
    "papermill": {},
    "tags": []
   },
   "outputs": [],
   "source": [
    "import naas\n",
    "from naas_drivers import linkedin, notion\n",
    "try:\n",
    "    from googlesearch import search\n",
    "except:\n",
    "    !pip install google\n",
    "    from googlesearch import search\n",
    "import re\n",
    "from datetime import datetime\n",
    "import os\n",
    "import requests\n",
    "import pandas as pd\n",
    "import time"
   ]
  },
  {
   "cell_type": "markdown",
   "id": "3afe330d-2a0e-4e5a-9b4c-cdae1b0d55ff",
   "metadata": {
    "papermill": {},
    "tags": []
   },
   "source": [
    "### Setup Variables\n",
    "[Get your LinkedIn cookies](https://www.notion.so/LinkedIn-driver-Get-your-cookies-d20a8e7e508e42af8a5b52e33f3dba75)\n",
    "- `li_at`: LinkedIn cookie used to authenticate Members and API clients \n",
    "- `JSESSIONID`: LinkedIn cookie used for Cross Site Request Forgery (CSRF) protection and URL signature validation.\n",
    "- `limit`: Specify the maximum number of profiles to be scraped during each execution.\n",
    "\n",
    "[Create integration with Notion](https://developers.notion.com/docs/create-a-notion-integration)\n",
    "- `notion_token`: Notion token shared with your database\n",
    "- `database_key`: Database key name = page title in notion\n",
    "- `database_linkedin`: Notion property storing the LinkedIn URL\n",
    "- `force_update`: To be used at 'True' if you want to update the entire dabatase, otherwise it will only update new entries\n",
    "- `notion_database`: URL of your notion database\n",
    "- `output_dir`: directory to save data extracted from LinkedIn"
   ]
  },
  {
   "cell_type": "code",
   "execution_count": null,
   "id": "630b59ae-c27d-43ef-8994-f37ce227d1ac",
   "metadata": {
    "papermill": {},
    "tags": []
   },
   "outputs": [],
   "source": [
    "# Inputs\n",
    "li_at = naas.secret.get(\"LINKEDIN_LI_AT\")\n",
    "JSESSIONID = naas.secret.get(\"LINKEDIN_JSESSIONID\")\n",
    "limit = 5 \n",
    "notion_token = naas.secret.get(\"NOTION_TOKEN\") or \"YOUR_TOKEN\"\n",
    "database_key = \"Name\"\n",
    "database_linkedin = \"LinkedIn\"\n",
    "force_update = False\n",
    "\n",
    "# Outputs\n",
    "notion_database = \"https://www.notion.so/xxxxxxxxxxxx\"\n",
    "output_dir = \"profiles\""
   ]
  },
  {
   "cell_type": "markdown",
   "id": "bd03af79-27a4-4b7d-93d6-f269ec24acb8",
   "metadata": {
    "papermill": {},
    "tags": []
   },
   "source": [
    "### Schedule your automation"
   ]
  },
  {
   "cell_type": "code",
   "execution_count": null,
   "id": "a68f501e-08a1-4dc1-b4c0-d69624e8115d",
   "metadata": {
    "papermill": {},
    "tags": []
   },
   "outputs": [],
   "source": [
    "# Schedule during week days every hour between 9:00 AM to 8:00 PM\n",
    "naas.scheduler.add(cron=\"0 9-20 * * 1-5\")\n",
    "\n",
    "# naas.scheduler.delete() # uncomment and execute cell to delete automation"
   ]
  },
  {
   "cell_type": "markdown",
   "id": "01ec82f7-48c7-426d-87e1-ec255269e981",
   "metadata": {
    "papermill": {},
    "tags": []
   },
   "source": [
    "## Model"
   ]
  },
  {
   "cell_type": "markdown",
   "id": "524c76c8-6e13-456f-a440-873e7414754b",
   "metadata": {
    "papermill": {},
    "tags": []
   },
   "source": [
    "### Constants\n",
    "- `LINKEDIN_PATTERN`: LinkedIn profile pattern to be searched in Google"
   ]
  },
  {
   "cell_type": "code",
   "execution_count": null,
   "id": "3c6d63c3-79e1-468b-9bf8-59d25d2a4157",
   "metadata": {
    "papermill": {},
    "tags": []
   },
   "outputs": [],
   "source": [
    "LINKEDIN_PATTERN = \"https:\\/\\/.+.linkedin.com\\/in\\/*([^?])+\""
   ]
  },
  {
   "cell_type": "markdown",
   "id": "23e6f91c-f1ca-49c6-b10c-9de74aee3c0e",
   "metadata": {
    "papermill": {},
    "tags": []
   },
   "source": [
    "### Get Notion DB"
   ]
  },
  {
   "cell_type": "code",
   "execution_count": null,
   "id": "83439db5-e284-4822-879a-288c3ba8cb9a",
   "metadata": {
    "papermill": {},
    "tags": []
   },
   "outputs": [],
   "source": [
    "def create_notion_db(notion_database, key, token):\n",
    "    # Get database\n",
    "    database_id = notion_database.split(\"/\")[-1].split(\"?v=\")[0]\n",
    "    pages = notion.connect(token).database.query(database_id, query={})\n",
    "\n",
    "    # Init\n",
    "    df_output = pd.DataFrame()\n",
    "    \n",
    "    # Loop on page\n",
    "    for page in pages:\n",
    "        # Get page_id\n",
    "        page_id = page.id\n",
    "        \n",
    "        # Create dataframe from page\n",
    "        df = page.df()\n",
    "        \n",
    "        # Remove empty pages\n",
    "        page_title = df.loc[df.Name == key, \"Value\"].values[0]\n",
    "        if page_title == \"\":\n",
    "            notion.connect(token).blocks.delete(page_id)\n",
    "            print(f\"Page '{page_id}' empty => removed from database\")\n",
    "        else:\n",
    "            # Pivot rows to columns\n",
    "            columns = df[\"Name\"].unique().tolist()\n",
    "            new_df = df.copy()\n",
    "            new_df = new_df.drop(\"Type\", axis=1)\n",
    "            new_df = new_df.T\n",
    "            for i, c in enumerate(new_df.columns):\n",
    "                new_df = new_df.rename(columns={c: columns[i]})\n",
    "            new_df = new_df.drop(\"Name\").reset_index(drop=True)\n",
    "\n",
    "            # Add page ID\n",
    "            new_df[\"PAGE_ID\"] = page_id\n",
    "\n",
    "            # Concat dataframe\n",
    "            df_output = pd.concat([df_output, new_df])\n",
    "    return df_output\n",
    "\n",
    "df_notion = create_notion_db(\n",
    "    notion_database,\n",
    "    database_key,\n",
    "    notion_token\n",
    ")\n",
    "print(\"📊 Notion DB:\", len(df_notion))\n",
    "df_notion.head(1)"
   ]
  },
  {
   "cell_type": "markdown",
   "id": "ef7131fc-bcb7-4ddc-8071-a4b9dd2e931b",
   "metadata": {
    "papermill": {},
    "tags": []
   },
   "source": [
    "### Get rows to update\n",
    "If `force_update` is set to `False`, any rows that have already been updated will be excluded.<br>\n",
    "In order to determine whether a row has already been updated, we need to check the LinkedIn URL that is set within the LinkedIn column.<br>\n",
    "Specifically, if the URL begins with https://www.linkedin.com/ and includes \"school\" or \"company\" followed by an ID number, it is considered updated because a human would have access to the corresponding organization ID.<br>\n",
    "It is important to note that the URL must match the LinkedIn pattern for organizations, which is as follows: 'https://.+.linkedin.com/(company|school)/*([^?])+'."
   ]
  },
  {
   "cell_type": "code",
   "execution_count": null,
   "id": "6193b27f-539e-499c-87d8-4066c6140e61",
   "metadata": {
    "papermill": {},
    "tags": []
   },
   "outputs": [],
   "source": [
    "def get_new_rows(\n",
    "    df,\n",
    "    linkedin_col,\n",
    "    force_update,\n",
    "):\n",
    "    # Check if df is not empty\n",
    "    if len(df) == 0:\n",
    "        return pd.DataFrame()\n",
    "    \n",
    "    # Return all rows if force update is True\n",
    "    if force_update:\n",
    "        return df.reset_index(drop=True)\n",
    "    \n",
    "    # Check if LinkedIn col exists in df to filter rows\n",
    "    if linkedin_col in df.columns:\n",
    "        # Get LinkedIn IR\n",
    "        df[\"LINKEDIN_ID\"] = df.apply(lambda row: row[linkedin_col].split(\"/in/\")[-1].split(\"/\")[0], axis=1)\n",
    "        \n",
    "        # Get list of valid URL\n",
    "        linkedin_valid = df[\n",
    "            (df[linkedin_col].str.match(LINKEDIN_PATTERN)) & \n",
    "            (df[\"LINKEDIN_ID\"].str[:5] == \"ACoAA\")\n",
    "        ][linkedin_col].unique()\n",
    "        df = df[~df[linkedin_col].isin(linkedin_valid)]\n",
    "    else:\n",
    "        df[linkedin_col] = None\n",
    "    return df.reset_index(drop=True)\n",
    "\n",
    "df_new_rows = get_new_rows(df_notion, database_linkedin, force_update)\n",
    "print(\"Rows to update:\", len(df_new_rows))\n",
    "df_new_rows.head(len(df_new_rows))"
   ]
  },
  {
   "cell_type": "markdown",
   "id": "64ee7069-155a-4c16-ac8e-8743c6aac19b",
   "metadata": {
    "papermill": {},
    "tags": []
   },
   "source": [
    "### Get rows to update"
   ]
  },
  {
   "cell_type": "code",
   "execution_count": null,
   "id": "dbbac48d-89bd-4a5a-82f4-1a28136f27c5",
   "metadata": {
    "papermill": {},
    "tags": []
   },
   "outputs": [],
   "source": [
    "# Search LinkedIn in Google\n",
    "def get_linkedin_url(\n",
    "    row,\n",
    "    key,\n",
    "    linkedin_col,\n",
    "):\n",
    "    # Init\n",
    "    keyword = row[key]\n",
    "    linkedin_url = row[linkedin_col]\n",
    "    url = \"https://www.linkedin.com/in/ACoAA\"\n",
    "    \n",
    "    # Check if url is valid\n",
    "    if re.match(LINKEDIN_PATTERN, linkedin_url):\n",
    "        return linkedin_url\n",
    "    \n",
    "    # Create query\n",
    "    keyword = keyword.replace(\" \", \"+\")\n",
    "    query = f\"{keyword}+Linkedin\"\n",
    "    print(\"--> Google query:\", query)\n",
    "    \n",
    "    # Search in Google\n",
    "    for i in search(query, tld=\"com\", num=10, stop=10, pause=2):\n",
    "        result = re.search(LINKEDIN_PATTERN, i)\n",
    "\n",
    "        # Return value if result is not None\n",
    "        if result != None:\n",
    "            url = result.group(0).replace(\" \", \"\")\n",
    "            print(\"Result found:\", url)\n",
    "            return url\n",
    "    return url\n",
    "\n",
    "def udpate_linkedin_url(\n",
    "    df,\n",
    "    key,\n",
    "    linkedin_col,\n",
    "    limit,\n",
    "):\n",
    "    # Limit df\n",
    "    df = df[:limit]\n",
    "\n",
    "    # Check if df is not empty\n",
    "    if len(df) == 0:\n",
    "        return pd.DataFrame()\n",
    "    else:\n",
    "        df[linkedin_col] = df.apply(lambda row: get_linkedin_url(row, key, linkedin_col), axis=1)\n",
    "        return df.reset_index(drop=True)[:limit]\n",
    "\n",
    "df_update = udpate_linkedin_url(\n",
    "    df_new_rows,\n",
    "    database_key,\n",
    "    database_linkedin,\n",
    "    limit,\n",
    ")\n",
    "print(\"Rows to update:\", len(df_update))\n",
    "df_update.head(len(df_update))"
   ]
  },
  {
   "cell_type": "markdown",
   "id": "2197a4ac-9f88-44a7-80d0-1f1112e06629",
   "metadata": {
    "papermill": {},
    "tags": []
   },
   "source": [
    "## Output"
   ]
  },
  {
   "cell_type": "markdown",
   "id": "08738138-dec1-40a0-868e-470f0ba93d7f",
   "metadata": {
    "papermill": {},
    "tags": []
   },
   "source": [
    "### Update data in Notion"
   ]
  },
  {
   "cell_type": "code",
   "execution_count": null,
   "id": "1e04649c-d8fe-4178-8928-e9b165b92891",
   "metadata": {
    "papermill": {},
    "tags": []
   },
   "outputs": [],
   "source": [
    "if len(df_update) > 0:\n",
    "    # Loop to enrich info\n",
    "    for index, row in df_update.iterrows():\n",
    "        # Init variables\n",
    "        name = row[database_key]\n",
    "        lk_url = row[database_linkedin]\n",
    "        lk_public_id = lk_url.split(\"/in/\")[-1].split(\"/\")[0]\n",
    "        page_id = row[\"PAGE_ID\"]\n",
    "        print(\"➡️ Update info for:\", name)\n",
    "\n",
    "        # Get page\n",
    "        page = notion.connect(notion_token).page.get(page_id)\n",
    "        \n",
    "        # Get LinkedIn Info\n",
    "        if lk_public_id != \"ACoAA\":\n",
    "            df = linkedin.connect(li_at, JSESSIONID).profile.get_identity(lk_url)\n",
    "            df = df.astype(str).replace(\"None\", \"\")\n",
    "            lk_id = df.loc[0, \"PROFILE_ID\"]\n",
    "            lk_url = df.loc[0, \"PROFILE_URL\"]\n",
    "            firstname = df.loc[0, \"FIRSTNAME\"]\n",
    "            lastname = df.loc[0, \"LASTNAME\"]\n",
    "            fullname = f\"{firstname} {lastname}\"\n",
    "            summary = df.loc[0, \"SUMMARY\"]\n",
    "            industry = df.loc[0, \"INDUSTRY_NAME\"]\n",
    "            occupation = df.loc[0, \"OCCUPATION\"]\n",
    "            country = df.loc[0, \"COUNTRY\"]\n",
    "            region = df.loc[0, \"REGION\"]\n",
    "            location = df.loc[0, \"LOCATION\"]\n",
    "            profile_picture = df.loc[0, \"PROFILE_PICTURE\"]\n",
    "            bg_picture = df.loc[0, \"BACKGROUND_PICTURE\"]\n",
    "\n",
    "            # Save dataframe\n",
    "            fullname_c = fullname.replace(' ', '_')\n",
    "            csv_name = f\"{datetime.now().strftime('%Y%m%d%H%M%S')}_LINKEDIN_IDENTITY_{lk_id}.csv\"\n",
    "            output_path = os.path.join(output_dir, fullname_c)\n",
    "            if not os.path.exists(output_path):\n",
    "                os.makedirs(output_path)\n",
    "            csv_path = os.path.join(output_path, csv_name)\n",
    "            df.to_csv(csv_path, index=False)\n",
    "            print(f\"✅ Data saved to csv:\", csv_path)\n",
    "\n",
    "            # Update Notion\n",
    "            page.title(\"Name\", fullname)\n",
    "            page.link(database_linkedin, lk_url)\n",
    "            page.rich_text(\"Occupation\", occupation)\n",
    "            page.rich_text(\"Region\", region)\n",
    "            if industry != \"\":\n",
    "                page.select(\"Industry\", industry)\n",
    "            if country != \"\":\n",
    "                page.select(\"Country\", country)\n",
    "            if location != \"\":\n",
    "                page.select(\"Location\", location)\n",
    "            page.update()   \n",
    "            print(f\"✅ Data successfully updated in Notion.\")\n",
    "            \n",
    "            # Update Image in page\n",
    "            if str(profile_picture) != \"None\" and profile_picture.startswith(\"https://media\"):\n",
    "                notion.client.pages.update(\n",
    "                    page_id=page.id, icon={\"type\": \"external\", \"external\": {\"url\": profile_picture}}\n",
    "                )\n",
    "                print(f\"✅ Picture successfully updated in Notion.\")\n",
    "            if str(bg_picture) != \"None\" and bg_picture.startswith(\"https://media\"):\n",
    "                notion.client.pages.update(\n",
    "                    page_id=page.id, cover={\"type\": \"external\", \"external\": {\"url\": bg_picture}}\n",
    "                )\n",
    "                print(f\"✅ Background successfully updated in Notion.\")\n",
    "                \n",
    "            # Update page blocks\n",
    "            page.heading_2(\"Profile\")\n",
    "            page.heading_3(\"Summary\")\n",
    "            for t in summary.split('\\n'):\n",
    "                page.paragraph(t)\n",
    "            page.update()\n",
    "            print(f\"✅ Summary successfully updated in Notion.\")\n",
    "            \n",
    "            # Sleep time\n",
    "            time.sleep(5)\n",
    "        else:\n",
    "            page.link(database_linkedin, lk_url)\n",
    "            page.update()\n",
    "            print(f\"✅ LinkedIn URL to be updated.\")"
   ]
  },
  {
   "cell_type": "markdown",
   "id": "ccbe4ce2-2d08-4ec7-a665-cc5227cb2048",
   "metadata": {
    "papermill": {},
    "tags": []
   },
   "source": [
    " "
   ]
  }
 ],
 "metadata": {
  "kernelspec": {
   "display_name": "Python 3",
   "language": "python",
   "name": "python3"
  },
  "language_info": {
   "codemirror_mode": {
    "name": "ipython",
    "version": 3
   },
   "file_extension": ".py",
   "mimetype": "text/x-python",
   "name": "python",
   "nbconvert_exporter": "python",
   "pygments_lexer": "ipython3",
   "version": "3.9.6"
  },
  "naas": {
   "notebook_id": "1033382f0063e3cfe04100c99b1780a7eda0ca450d3e26f634e50217db5c1f0d",
   "notebook_path": "Notion/Notion_Update_database_with_LinkedIn_profile_info.ipynb"
  },
  "papermill": {
   "default_parameters": {},
   "environment_variables": {},
   "parameters": {},
   "version": "2.4.0"
  },
  "widgets": {
   "application/vnd.jupyter.widget-state+json": {
    "state": {},
    "version_major": 2,
    "version_minor": 0
   }
  }
 },
 "nbformat": 4,
 "nbformat_minor": 5
}