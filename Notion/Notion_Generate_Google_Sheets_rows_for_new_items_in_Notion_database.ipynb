{
 "cells": [
  {
   "cell_type": "markdown",
   "id": "376b5196-ad01-4faa-bd8f-2e86d5030563",
   "metadata": {
    "papermill": {},
    "tags": []
   },
   "source": [
    "<img width=\"10%\" alt=\"Naas\" src=\"https://landen.imgix.net/jtci2pxwjczr/assets/5ice39g4.png?w=160\"/>"
   ]
  },
  {
   "cell_type": "markdown",
   "id": "0d0f565d-2dbb-4d15-bfe5-99cc37411338",
   "metadata": {
    "papermill": {},
    "tags": []
   },
   "source": [
    "# Notion - Generate Google Sheets rows for new items in  database\n",
    "<a href=\"https://app.naas.ai/user-redirect/naas/downloader?url=https://raw.githubusercontent.com/jupyter-naas/awesome-notebooks/master/Notion/Notion_Generate_Google_Sheets_rows_for_new_items_in_Notion_database.ipynb\" target=\"_parent\"><img src=\"https://naasai-public.s3.eu-west-3.amazonaws.com/open_in_naas.svg\"/></a><br><br><a href=\"https://github.com/jupyter-naas/awesome-notebooks/issues/new?assignees=&labels=&template=template-request.md&title=Tool+-+Action+of+the+notebook+\">Template request</a> | <a href=\"https://github.com/jupyter-naas/awesome-notebooks/issues/new?assignees=&labels=bug&template=bug_report.md&title=Notion+-+Generate+Google+Sheets+rows+for+new+items+in++database:+Error+short+description\">Bug report</a>"
   ]
  },
  {
   "cell_type": "markdown",
   "id": "7c3d9948-9c07-4b2b-835d-c5f72bf7a6af",
   "metadata": {
    "papermill": {},
    "tags": []
   },
   "source": [
    "**Tags:** #notion #operations #automation #googlesheets"
   ]
  },
  {
   "cell_type": "markdown",
   "id": "2d02462b-cd1a-4b85-a3e7-b5418288198f",
   "metadata": {
    "papermill": {},
    "tags": []
   },
   "source": [
    "**Author:** [Pooja Srivastava](https://www.linkedin.com/in/pooja-srivastava-in/)"
   ]
  },
  {
   "cell_type": "markdown",
   "id": "naas-description",
   "metadata": {
    "papermill": {},
    "tags": [
     "description"
    ]
   },
   "source": [
    "**Description:** This notebook allows users to automatically generate Google Sheets rows for new items added to a database using Notion."
   ]
  },
  {
   "cell_type": "markdown",
   "id": "d8ecd989-e9a2-4063-a215-47bdab8511d2",
   "metadata": {
    "papermill": {},
    "tags": []
   },
   "source": [
    "## Input"
   ]
  },
  {
   "cell_type": "markdown",
   "id": "82b0066b-5a31-45de-b63c-1fa8fe9b3195",
   "metadata": {
    "papermill": {},
    "tags": []
   },
   "source": [
    "### Import librairies"
   ]
  },
  {
   "cell_type": "code",
   "execution_count": null,
   "id": "28273fb8-3469-42a9-8c02-6690cb257476",
   "metadata": {
    "papermill": {},
    "tags": []
   },
   "outputs": [],
   "source": [
    "from naas_drivers import notion, gsheet\n",
    "import pandas as pd"
   ]
  },
  {
   "cell_type": "markdown",
   "id": "3841af2c-a6a0-4193-abf4-a769d8ebd0b5",
   "metadata": {
    "papermill": {},
    "tags": []
   },
   "source": [
    "### Setup Notion\n",
    "- [Get your Notion integration token](https://docs.naas.ai/drivers/notion)\n",
    "- Share integration with your database"
   ]
  },
  {
   "cell_type": "code",
   "execution_count": null,
   "id": "2921092d-432a-4010-9154-cc3177974220",
   "metadata": {
    "papermill": {},
    "tags": []
   },
   "outputs": [],
   "source": [
    "# Enter Token API\n",
    "NOTION_TOKEN = \"*****\"\n",
    "\n",
    "# Enter Database URL\n",
    "DATABASE_URL = \"https://www.notion.so/********\"\n",
    "\n",
    "# Unique column name for notion\n",
    "col_unique_notion = \"Name\""
   ]
  },
  {
   "cell_type": "markdown",
   "id": "a0bb419b-51b5-42d9-938f-fbc39ff91570",
   "metadata": {
    "execution": {
     "iopub.execute_input": "2022-04-05T12:09:37.895936Z",
     "iopub.status.busy": "2022-04-05T12:09:37.895670Z",
     "iopub.status.idle": "2022-04-05T12:09:37.900186Z",
     "shell.execute_reply": "2022-04-05T12:09:37.899541Z",
     "shell.execute_reply.started": "2022-04-05T12:09:37.895875Z"
    },
    "papermill": {},
    "tags": []
   },
   "source": [
    "### Setup Google Sheets\n",
    "- Share your sheet with our service account : 🔗 naas-share@naas-gsheets.iam.gserviceaccount.com"
   ]
  },
  {
   "cell_type": "code",
   "execution_count": null,
   "id": "9ba56e4c-297d-4b15-a8cf-728e60db6ed6",
   "metadata": {
    "papermill": {},
    "tags": []
   },
   "outputs": [],
   "source": [
    "# Spreadsheet URL\n",
    "SPREADSHEET_URL = \"------\"\n",
    "\n",
    "# Sheet name\n",
    "SHEET_NAME = \"Sheet1\"\n",
    "\n",
    "# Unique column# for gsheets\n",
    "col_unique_gsheet = \"Name\""
   ]
  },
  {
   "cell_type": "markdown",
   "id": "bfdd4341-8b26-44ff-8a90-ee24a8e39b11",
   "metadata": {
    "papermill": {},
    "tags": []
   },
   "source": [
    "### Setup Naas"
   ]
  },
  {
   "cell_type": "code",
   "execution_count": null,
   "id": "4b766a3a-6013-4ecc-852b-409f0c7986d7",
   "metadata": {
    "papermill": {},
    "tags": []
   },
   "outputs": [],
   "source": [
    "# Schedule your notebook every hours\n",
    "naas.scheduler.add(cron=\"0 * * * *\")\n",
    "\n",
    "# -> Uncomment the line below to remove your scheduler\n",
    "# naas.scheduler.delete()"
   ]
  },
  {
   "cell_type": "markdown",
   "id": "76fc03c8-af53-459e-b958-49c66d619608",
   "metadata": {
    "papermill": {},
    "tags": []
   },
   "source": [
    "## Model"
   ]
  },
  {
   "cell_type": "markdown",
   "id": "07586b13-6d49-4509-81ba-a4522c38acc9",
   "metadata": {
    "papermill": {},
    "tags": []
   },
   "source": [
    "### Get dataframe from Notion database"
   ]
  },
  {
   "cell_type": "code",
   "execution_count": null,
   "id": "afbeb540-10a2-45b2-86c9-94cbdccfa9e3",
   "metadata": {
    "papermill": {},
    "tags": []
   },
   "outputs": [],
   "source": [
    "db_notion = notion.connect(NOTION_TOKEN).database.get(DATABASE_URL)\n",
    "df_notion = db_notion.df()"
   ]
  },
  {
   "cell_type": "markdown",
   "id": "c17c363b-bedb-424d-b925-b313cb16dcd0",
   "metadata": {
    "papermill": {},
    "tags": []
   },
   "source": [
    "### Get dataframe Google Sheets spreasheet"
   ]
  },
  {
   "cell_type": "code",
   "execution_count": null,
   "id": "abc50da4-fd26-4eed-b5dd-085a5be82021",
   "metadata": {
    "papermill": {},
    "tags": []
   },
   "outputs": [],
   "source": [
    "df_gsheet = gsheet.connect(SPREADSHEET_URL).get(sheet_name=SHEET_NAME)\n",
    "df_gsheet"
   ]
  },
  {
   "cell_type": "markdown",
   "id": "6bf9c859-d7e9-4c1e-a3a1-914a0b50202a",
   "metadata": {
    "papermill": {},
    "tags": []
   },
   "source": [
    "### Compare Notion database with Google Sheets"
   ]
  },
  {
   "cell_type": "code",
   "execution_count": null,
   "id": "2e99d57b-8f3c-49d8-8e62-9827cd61d86f",
   "metadata": {
    "papermill": {},
    "tags": []
   },
   "outputs": [],
   "source": [
    "# Iterate through all rows in Notion database and find match in Google Sheets\n",
    "# If no match is found then add data to df_difference dataframe\n",
    "\n",
    "df_difference = pd.DataFrame()\n",
    "for index, row in df_notion.iterrows():\n",
    "    x = row[col_unique_notion]\n",
    "    if not (x == df_gsheet[col_unique_gsheet]).any():\n",
    "        df_difference = df_difference.append(df_notion.loc[index])"
   ]
  },
  {
   "cell_type": "markdown",
   "id": "4f05f9f5-6cb6-4fe4-818c-e6b5f7d0be14",
   "metadata": {
    "papermill": {},
    "tags": []
   },
   "source": [
    "## Output"
   ]
  },
  {
   "cell_type": "markdown",
   "id": "7d96ee82-97d4-484e-89c2-732d7bc81b86",
   "metadata": {
    "papermill": {},
    "tags": []
   },
   "source": [
    "### Add new rows in Google Sheets"
   ]
  },
  {
   "cell_type": "code",
   "execution_count": null,
   "id": "d8c9aae2-288c-4907-88cc-707544b5f31a",
   "metadata": {
    "papermill": {},
    "tags": []
   },
   "outputs": [],
   "source": [
    "# Send data to Google Sheets\n",
    "gsheet.connect(SPREADSHEET_URL).send(\n",
    "    sheet_name=SHEET_NAME,\n",
    "    data=df_difference,\n",
    "    append=True,\n",
    ")"
   ]
  }
 ],
 "metadata": {
  "kernelspec": {
   "display_name": "Python 3",
   "language": "python",
   "name": "python3"
  },
  "language_info": {
   "codemirror_mode": {
    "name": "ipython",
    "version": 3
   },
   "file_extension": ".py",
   "mimetype": "text/x-python",
   "name": "python",
   "nbconvert_exporter": "python",
   "pygments_lexer": "ipython3",
   "version": "3.9.6"
  },
  "naas": {
   "notebook_id": "17dd2204-04b4-45a8-a270-6557b4fc35a8",
   "notebook_path": "Notion/Notion_Push_data_from_Gsheets.ipynb"
  },
  "papermill": {
   "default_parameters": {},
   "environment_variables": {},
   "parameters": {},
   "version": "2.3.3"
  }
 },
 "nbformat": 4,
 "nbformat_minor": 5
}