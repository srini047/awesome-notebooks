{
 "cells": [
  {
   "cell_type": "markdown",
   "id": "52e0e5da",
   "metadata": {
    "execution": {
     "iopub.execute_input": "2021-02-23T14:22:16.610471Z",
     "iopub.status.busy": "2021-02-23T14:22:16.610129Z",
     "iopub.status.idle": "2021-02-23T14:22:16.627784Z",
     "shell.execute_reply": "2021-02-23T14:22:16.626866Z",
     "shell.execute_reply.started": "2021-02-23T14:22:16.610384Z"
    },
    "papermill": {},
    "tags": []
   },
   "source": [
    "<img width=\"10%\" alt=\"Naas\" src=\"https://landen.imgix.net/jtci2pxwjczr/assets/5ice39g4.png?w=160\"/>"
   ]
  },
  {
   "cell_type": "markdown",
   "id": "402fd896",
   "metadata": {
    "papermill": {},
    "tags": []
   },
   "source": [
    "# Notion - Update page\n",
    "<a href=\"https://app.naas.ai/user-redirect/naas/downloader?url=https://raw.githubusercontent.com/jupyter-naas/awesome-notebooks/master/Notion/Notion_Update_page.ipynb\" target=\"_parent\"><img src=\"https://naasai-public.s3.eu-west-3.amazonaws.com/Open_in_Naas_Lab.svg\"/></a><br><br><a href=\"https://github.com/jupyter-naas/awesome-notebooks/issues/new?assignees=&labels=&template=template-request.md&title=Tool+-+Action+of+the+notebook+\">Template request</a> | <a href=\"https://github.com/jupyter-naas/awesome-notebooks/issues/new?assignees=&labels=bug&template=bug_report.md&title=Notion+-+Update+page:+Error+short+description\">Bug report</a> | <a href=\"https://app.naas.ai/user-redirect/naas/downloader?url=https://raw.githubusercontent.com/jupyter-naas/awesome-notebooks/master/Naas/Naas_Start_data_product.ipynb\" target=\"_parent\">Generate Data Product</a>"
   ]
  },
  {
   "cell_type": "markdown",
   "id": "e968d3e1-1530-466a-a8ea-327bab4ded9b",
   "metadata": {
    "papermill": {},
    "tags": []
   },
   "source": [
    "**Tags:** #notion #productivity #naas_drivers #operations #snippet"
   ]
  },
  {
   "cell_type": "markdown",
   "id": "ebd9655c-5526-4e4d-b2da-0af9acece82a",
   "metadata": {
    "papermill": {},
    "tags": []
   },
   "source": [
    "**Author:** [Maxime Jublou](https://www.linkedin.com/in/maximejublou)"
   ]
  },
  {
   "cell_type": "markdown",
   "id": "naas-description",
   "metadata": {
    "papermill": {},
    "tags": [
     "description"
    ]
   },
   "source": [
    "**Description:** This page allows you to update existing content in Notion."
   ]
  },
  {
   "cell_type": "markdown",
   "id": "949052de",
   "metadata": {
    "papermill": {},
    "tags": []
   },
   "source": [
    "## Input"
   ]
  },
  {
   "cell_type": "markdown",
   "id": "a278b8a9-8838-4826-b5b1-b0b2258bcba2",
   "metadata": {
    "papermill": {},
    "tags": []
   },
   "source": [
    "### Import libraries"
   ]
  },
  {
   "cell_type": "code",
   "execution_count": null,
   "id": "0024e100-e38b-4886-a0a5-2985874d08cd",
   "metadata": {
    "papermill": {},
    "tags": []
   },
   "outputs": [],
   "source": [
    "from naas_drivers import notion"
   ]
  },
  {
   "cell_type": "markdown",
   "id": "d9f07ccd-add3-4348-a33f-f13c167ff6ff",
   "metadata": {
    "papermill": {},
    "tags": []
   },
   "source": [
    "### Input variables\n",
    "<a href='https://docs.naas.ai/drivers/notion'>How to get your Notion integration token ?</a>"
   ]
  },
  {
   "cell_type": "code",
   "execution_count": null,
   "id": "f715cf8d",
   "metadata": {
    "papermill": {},
    "tags": []
   },
   "outputs": [],
   "source": [
    "# Enter Token API\n",
    "token = \"*****\"\n",
    "\n",
    "# Enter Database URL\n",
    "page_url = (\n",
    "    \"https://www.notion.so/naas-official/Daily-med-03952fcb93c045bba519a7564a64045e\"\n",
    ")"
   ]
  },
  {
   "cell_type": "markdown",
   "id": "14814853-ab1a-407f-a6ed-f43f6750bdec",
   "metadata": {
    "papermill": {},
    "tags": []
   },
   "source": [
    "## Model"
   ]
  },
  {
   "cell_type": "markdown",
   "id": "593459ed-9299-498c-a59d-d4363622c403",
   "metadata": {
    "papermill": {},
    "tags": []
   },
   "source": [
    "### Get page\n",
    "Get your page content and returns a dataframe with name of column, type and value."
   ]
  },
  {
   "cell_type": "code",
   "execution_count": null,
   "id": "4c77546c-db2a-4157-8c8e-ab26fb57ddd6",
   "metadata": {
    "papermill": {},
    "tags": []
   },
   "outputs": [],
   "source": [
    "page = notion.connect(token).page.get(page_url)\n",
    "page"
   ]
  },
  {
   "cell_type": "markdown",
   "id": "bbe0b8e4-7bd0-4fda-80a5-3b6e75296ea7",
   "metadata": {
    "execution": {
     "iopub.execute_input": "2021-11-01T20:25:28.201119Z",
     "iopub.status.busy": "2021-11-01T20:25:28.200888Z",
     "iopub.status.idle": "2021-11-01T20:25:28.203684Z",
     "shell.execute_reply": "2021-11-01T20:25:28.202990Z",
     "shell.execute_reply.started": "2021-11-01T20:25:28.201096Z"
    },
    "papermill": {},
    "tags": []
   },
   "source": [
    "### Update page properties \n",
    "Properties are associated with the database. If you put a page type that is not currently present, it will create it."
   ]
  },
  {
   "cell_type": "code",
   "execution_count": null,
   "id": "75217b66-249e-4e5f-9ee6-0b049f6bbbdc",
   "metadata": {
    "papermill": {},
    "tags": []
   },
   "outputs": [],
   "source": [
    "page.title(\"Name\", \"Page updated\")\n",
    "page.rich_text(\"Text\", \"Ceci est toto\")\n",
    "page.number(\"Number\", 42)\n",
    "page.select(\"Select\", \"Value3\")\n",
    "page.multi_select(\"Muti Select\", [\"Value1\", \"Value2\", \"Value3\"])\n",
    "page.date(\"Date\", \"2021-10-03T17:01:26\")  # Follow ISO 8601 format\n",
    "page.people(\"People\", [\"6e3bab71-beeb-484b-af99-ea30fdef4773\"])  # list of ID of users\n",
    "page.checkbox(\"Checkbox\", False)\n",
    "page.email(\"Email\", \"jeremy@naas.ai\")\n",
    "page.phone_number(\"Phone number\", \"+33 6 21 83 11 12\")\n",
    "page.update()"
   ]
  },
  {
   "cell_type": "markdown",
   "id": "9620ba1a-38f6-4e49-aab5-260a58554a18",
   "metadata": {
    "execution": {
     "iopub.execute_input": "2021-11-01T21:00:22.794552Z",
     "iopub.status.busy": "2021-11-01T21:00:22.794229Z",
     "iopub.status.idle": "2021-11-01T21:00:22.801751Z",
     "shell.execute_reply": "2021-11-01T21:00:22.800726Z",
     "shell.execute_reply.started": "2021-11-01T21:00:22.794515Z"
    },
    "papermill": {},
    "tags": []
   },
   "source": [
    "### Update page blocks \n",
    "Blocks are the content of the page."
   ]
  },
  {
   "cell_type": "code",
   "execution_count": null,
   "id": "5841e034-4ad5-47c1-b9f9-75374cd5c86a",
   "metadata": {
    "papermill": {},
    "tags": []
   },
   "outputs": [],
   "source": [
    "page.heading_1(\"Heading 1\")\n",
    "page.heading_2(\"Heading 2\")\n",
    "page.heading_3(\"Heading 3\")\n",
    "page.paragraph(\"Paragraph\")\n",
    "page.numbered_list_item(\"This is first\")\n",
    "page.to_do(\"Need this to be done\")\n",
    "page.embed(\"https://docs.google.com/spreadsheets/*************\")\n",
    "page.video(\"https://www.youtube.com/watch?v=8AsMAc4VFJs\")\n",
    "page.image(\"https://landen.imgix.net/jtci2pxwjczr/assets/5ice39g4.png\")\n",
    "page.code(\"pip install naas\")\n",
    "page.equation(\"e=mc2\")\n",
    "page.update()"
   ]
  },
  {
   "cell_type": "markdown",
   "id": "86766318-4190-411d-a977-eeaca66c540a",
   "metadata": {
    "execution": {
     "iopub.execute_input": "2021-09-08T08:35:26.852888Z",
     "iopub.status.busy": "2021-09-08T08:35:26.852535Z",
     "iopub.status.idle": "2021-09-08T08:35:27.816622Z",
     "shell.execute_reply": "2021-09-08T08:35:27.809968Z",
     "shell.execute_reply.started": "2021-09-08T08:35:26.852857Z"
    },
    "papermill": {},
    "tags": []
   },
   "source": [
    "## Output"
   ]
  },
  {
   "cell_type": "code",
   "execution_count": null,
   "id": "b62e8409-6b1d-4977-9839-3c2c5bb48fa1",
   "metadata": {
    "papermill": {},
    "tags": []
   },
   "outputs": [],
   "source": [
    "page"
   ]
  }
 ],
 "metadata": {
  "kernelspec": {
   "display_name": "Python 3",
   "language": "python",
   "name": "python3"
  },
  "language_info": {
   "codemirror_mode": {
    "name": "ipython",
    "version": 3
   },
   "file_extension": ".py",
   "mimetype": "text/x-python",
   "name": "python",
   "nbconvert_exporter": "python",
   "pygments_lexer": "ipython3",
   "version": "3.9.6"
  },
  "naas": {
   "notebook_id": "43d0796ae3f58df0ec5a640ddf8e9f266d824f70fa69f7c5040b370b38891ce0",
   "notebook_path": "Notion/Notion_Update_page.ipynb"
  },
  "papermill": {
   "default_parameters": {},
   "environment_variables": {},
   "parameters": {},
   "version": "2.3.3"
  },
  "widgets": {
   "application/vnd.jupyter.widget-state+json": {
    "state": {},
    "version_major": 2,
    "version_minor": 0
   }
  }
 },
 "nbformat": 4,
 "nbformat_minor": 5
}