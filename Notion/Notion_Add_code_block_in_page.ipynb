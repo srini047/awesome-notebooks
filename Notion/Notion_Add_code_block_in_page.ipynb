{
 "cells": [
  {
   "cell_type": "markdown",
   "id": "25debe14-3851-4afb-b8ec-2734254a27ba",
   "metadata": {
    "papermill": {},
    "tags": []
   },
   "source": [
    "<img width=\"10%\" alt=\"Naas\" src=\"https://landen.imgix.net/jtci2pxwjczr/assets/5ice39g4.png?w=160\"/>"
   ]
  },
  {
   "cell_type": "markdown",
   "id": "f054f92a-4f79-4720-bb22-3668925aac80",
   "metadata": {
    "papermill": {},
    "tags": []
   },
   "source": [
    "# Notion - Add code block in page\n",
    "<a href=\"https://app.naas.ai/user-redirect/naas/downloader?url=https://raw.githubusercontent.com/jupyter-naas/awesome-notebooks/master/Notion/Notion_Add_code_block_in_page.ipynb\" target=\"_parent\"><img src=\"https://naasai-public.s3.eu-west-3.amazonaws.com/Open_in_Naas_Lab.svg\"/></a><br><br><a href=\"https://github.com/jupyter-naas/awesome-notebooks/issues/new?assignees=&labels=&template=template-request.md&title=Tool+-+Action+of+the+notebook+\">Template request</a> | <a href=\"https://github.com/jupyter-naas/awesome-notebooks/issues/new?assignees=&labels=bug&template=bug_report.md&title=Notion+-+Add+code+block+in+page:+Error+short+description\">Bug report</a> | <a href=\"https://app.naas.ai/user-redirect/naas/downloader?url=https://raw.githubusercontent.com/jupyter-naas/awesome-notebooks/master/Naas/Naas_Start_data_product.ipynb\" target=\"_parent\">Generate Data Product</a>"
   ]
  },
  {
   "cell_type": "markdown",
   "id": "a225831e-5892-4f9a-be04-f1e353d5b9dd",
   "metadata": {
    "papermill": {},
    "tags": []
   },
   "source": [
    "**Tags:** #notion #code #page #organization #snippet"
   ]
  },
  {
   "cell_type": "markdown",
   "id": "2b7eded0-5f1f-496f-95b9-d7691fba3c24",
   "metadata": {
    "papermill": {},
    "tags": []
   },
   "source": [
    "**Author:** [Florent Ravenel](https://www.linkedin.com/in/florent-ravenel/)"
   ]
  },
  {
   "cell_type": "markdown",
   "id": "b1c8845c-1f10-4783-a34d-75270ab49cce",
   "metadata": {
    "papermill": {},
    "tags": []
   },
   "source": [
    "**Description:** This notebook explains how to add a code block in a Notion page using naas_drivers."
   ]
  },
  {
   "cell_type": "markdown",
   "id": "4edea2a2-e46d-417f-9506-73dd11faf606",
   "metadata": {
    "papermill": {},
    "tags": []
   },
   "source": [
    "**References:**\n",
    "- [Notion Drivers](https://github.com/jupyter-naas/drivers/blob/main/naas_drivers/tools/notion.py)"
   ]
  },
  {
   "cell_type": "markdown",
   "id": "f217486f-0bb2-482b-abbb-03ad45d81076",
   "metadata": {
    "papermill": {},
    "tags": []
   },
   "source": [
    "## Input"
   ]
  },
  {
   "cell_type": "markdown",
   "id": "b5187865-321f-47c4-a1dc-0d7e7a223eb6",
   "metadata": {
    "papermill": {},
    "tags": []
   },
   "source": [
    "### Import libraries"
   ]
  },
  {
   "cell_type": "code",
   "execution_count": null,
   "id": "bffe5670-27a8-402a-9556-58c9dad5e3aa",
   "metadata": {
    "papermill": {},
    "tags": []
   },
   "outputs": [],
   "source": [
    "from naas_drivers import notion\n",
    "import naas"
   ]
  },
  {
   "cell_type": "markdown",
   "id": "4146c26f-f3b0-45b0-b938-c0801e0b75b9",
   "metadata": {
    "papermill": {},
    "tags": []
   },
   "source": [
    "### Setup Variables\n",
    "[Create integration with Notion](https://developers.notion.com/docs/create-a-notion-integration)\n",
    "- `code_block`: Code block to be added. By default, selected language will be \"Plain Text\"\n",
    "- `notion_token`: Notion token shared with your database\n",
    "- `page_url`: Notion page URL or ID"
   ]
  },
  {
   "cell_type": "code",
   "execution_count": null,
   "id": "2b745280-9071-47f9-b67e-3cf0f29f86f1",
   "metadata": {
    "papermill": {},
    "tags": []
   },
   "outputs": [],
   "source": [
    "# Inputs\n",
    "code_block = \"pip install naas\"\n",
    "\n",
    "# Outputs\n",
    "notion_token = naas.secret.get(\"NOTION_TOKEN\") or \"YOUR_TOKEN\"\n",
    "page_url = \"https://www.notion.so/naas-official/Test-93655d0408c14923bcd305dd4599cda9?pvs=4\""
   ]
  },
  {
   "cell_type": "markdown",
   "id": "fda23a92-0680-45e6-b135-5e8d94f3e927",
   "metadata": {
    "papermill": {},
    "tags": []
   },
   "source": [
    "## Model"
   ]
  },
  {
   "cell_type": "markdown",
   "id": "3bde4f8a-b63e-4ab7-b9a2-4acbfc24678e",
   "metadata": {
    "papermill": {},
    "tags": []
   },
   "source": [
    "### Add code block in page"
   ]
  },
  {
   "cell_type": "code",
   "execution_count": null,
   "id": "f7eb59ca-cd66-411f-a75c-fbe1006af041",
   "metadata": {
    "papermill": {},
    "tags": []
   },
   "outputs": [],
   "source": [
    "page_id = page_url.split(\"/\")[-1].split(\"?\")[0].split(\"-\")[-1]\n",
    "page = notion.connect(notion_token).page.get(page_id)\n",
    "page.code(code_block)\n",
    "page.update()"
   ]
  },
  {
   "cell_type": "markdown",
   "id": "4e70f7f4-f5d5-40a2-b121-1319abfdd170",
   "metadata": {
    "papermill": {},
    "tags": []
   },
   "source": [
    "## Output"
   ]
  },
  {
   "cell_type": "markdown",
   "id": "5f7fc060-3055-49c5-8c3b-d8736f0ed043",
   "metadata": {
    "papermill": {},
    "tags": []
   },
   "source": [
    "### Display result"
   ]
  },
  {
   "cell_type": "code",
   "execution_count": null,
   "id": "71397882-bc73-4ba1-bc5c-0d3db1735d66",
   "metadata": {
    "papermill": {},
    "tags": []
   },
   "outputs": [],
   "source": [
    "print(\"Code block added in your page:\", page_url)"
   ]
  }
 ],
 "metadata": {
  "kernelspec": {
   "display_name": "Python 3",
   "language": "python",
   "name": "python3"
  },
  "language_info": {
   "codemirror_mode": {
    "name": "ipython",
    "version": 3
   },
   "file_extension": ".py",
   "mimetype": "text/x-python",
   "name": "python",
   "nbconvert_exporter": "python",
   "pygments_lexer": "ipython3",
   "version": "3.9.6"
  },
  "naas": {
   "notebook_id": "788383d93e10f1f9b502ed7ff62013a2bf073f2cfeac45af26371468ddfdd8b1",
   "notebook_path": "Notion/Notion_Add_code_block_in_page.ipynb"
  },
  "papermill": {
   "default_parameters": {},
   "environment_variables": {},
   "parameters": {},
   "version": "2.4.0"
  },
  "widgets": {
   "application/vnd.jupyter.widget-state+json": {
    "state": {},
    "version_major": 2,
    "version_minor": 0
   }
  }
 },
 "nbformat": 4,
 "nbformat_minor": 5
}