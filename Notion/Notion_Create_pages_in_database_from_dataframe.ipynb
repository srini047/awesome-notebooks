{
 "cells": [
  {
   "cell_type": "markdown",
   "id": "da6e38af-ddeb-42b7-8657-d46d5a135fb9",
   "metadata": {
    "papermill": {},
    "tags": []
   },
   "source": [
    "<img width=\"10%\" alt=\"Naas\" src=\"https://landen.imgix.net/jtci2pxwjczr/assets/5ice39g4.png?w=160\"/>"
   ]
  },
  {
   "cell_type": "markdown",
   "id": "e93d1bd7-af52-4aee-985f-d93db0510d3f",
   "metadata": {
    "papermill": {},
    "tags": []
   },
   "source": [
    "# Notion - Create pages in database from dataframe\n",
    "<a href=\"https://app.naas.ai/user-redirect/naas/downloader?url=https://raw.githubusercontent.com/jupyter-naas/awesome-notebooks/master/Notion/Notion_Create_pages_in_database_from_dataframe.ipynb\" target=\"_parent\"><img src=\"https://naasai-public.s3.eu-west-3.amazonaws.com/open_in_naas.svg\"/></a><br><br><a href=\"https://github.com/jupyter-naas/awesome-notebooks/issues/new?assignees=&labels=&template=template-request.md&title=Tool+-+Action+of+the+notebook+\">Template request</a> | <a href=\"https://github.com/jupyter-naas/awesome-notebooks/issues/new?assignees=&labels=bug&template=bug_report.md&title=Notion+-+Create+pages+in+database+from+dataframe:+Error+short+description\">Bug report</a>"
   ]
  },
  {
   "cell_type": "markdown",
   "id": "935e2dd8-7926-4875-a799-3f1576b2c99b",
   "metadata": {
    "papermill": {},
    "tags": []
   },
   "source": [
    "**Tags:** #notion #database #dataframe #python #create #pages"
   ]
  },
  {
   "cell_type": "markdown",
   "id": "c54c97eb-8d4d-417c-a402-7adf5327d7fb",
   "metadata": {
    "papermill": {},
    "tags": []
   },
   "source": [
    "**Author:** [Florent Ravenel](https://www.linkedin.com/in/florent-ravenel/)"
   ]
  },
  {
   "cell_type": "markdown",
   "id": "a527fb01-5c49-4ee9-ba30-46a94c4cb88f",
   "metadata": {
    "papermill": {},
    "tags": []
   },
   "source": [
    "**Description:** This notebook will show how to create pages in Notion database from a dataframe. It could be very usefull to kick start a new database in Notion with historical data stored in CSV, Excel or Google Sheets."
   ]
  },
  {
   "cell_type": "markdown",
   "id": "b1a185e7-b48c-428d-bf52-431db1397d3f",
   "metadata": {
    "papermill": {},
    "tags": []
   },
   "source": [
    "**References:**\n",
    "- [Notion Drivers Naas](https://github.com/jupyter-naas/drivers/blob/main/naas_drivers/tools/notion.py)\n",
    "- [Notion API Documentation](https://developers.notion.com/)"
   ]
  },
  {
   "cell_type": "markdown",
   "id": "fdcf05b5-17d7-4c11-88ec-f722cf264a7f",
   "metadata": {
    "papermill": {},
    "tags": []
   },
   "source": [
    "## Input"
   ]
  },
  {
   "cell_type": "markdown",
   "id": "75da13af-72c2-44b9-8c06-ed3bfa4700ac",
   "metadata": {
    "execution": {
     "iopub.execute_input": "2022-08-31T10:54:23.866665Z",
     "iopub.status.busy": "2022-08-31T10:54:23.866431Z",
     "iopub.status.idle": "2022-08-31T10:54:23.871270Z",
     "shell.execute_reply": "2022-08-31T10:54:23.870705Z",
     "shell.execute_reply.started": "2022-08-31T10:54:23.866641Z"
    },
    "papermill": {},
    "tags": []
   },
   "source": [
    "### Import libraries"
   ]
  },
  {
   "cell_type": "code",
   "execution_count": null,
   "id": "b5605c12-6814-4d98-99b0-aaaa4526014f",
   "metadata": {
    "papermill": {},
    "tags": []
   },
   "outputs": [],
   "source": [
    "import naas\n",
    "import pandas as pd\n",
    "from naas_drivers import notion"
   ]
  },
  {
   "cell_type": "markdown",
   "id": "1b6ad1a8-308e-4778-963c-fc21d492a1a9",
   "metadata": {
    "papermill": {},
    "tags": []
   },
   "source": [
    "### Setup Variables\n",
    "- `notion_token`: Get your [Notion integration token](https://docs.naas.ai/drivers/notion) and share it with your database\n",
    "- `df`: DataFrame as example.\n",
    "- `df_key_name`: DataFrame column name to used as key\n",
    "- `notion_key_name`: Notion column name to used as key\n",
    "- `notion_database`: Notion Database URL"
   ]
  },
  {
   "cell_type": "code",
   "execution_count": null,
   "id": "06d385f7-6b96-4e95-8721-b02ef7c52c83",
   "metadata": {
    "papermill": {},
    "tags": []
   },
   "outputs": [],
   "source": [
    "# Inputs\n",
    "notion_token = naas.secret.get(\"NOTION_TOKEN\") or \"YOUR_NOTION_TOKEN\"\n",
    "notion_key_name = \"Customer\"\n",
    "df = pd.DataFrame({\"CUSTOMER\": [\"Customer 1\", \"Customer 2\", \"Customer 3\"]})\n",
    "df_key_name = \"CUSTOMER\"\n",
    "\n",
    "# Outputs\n",
    "notion_database = \"https://www.notion.so/asgard-group/bba2fd39a1ed457ba8e90a1104e58d13?v=39b4ecexxxxxxxxxxxxxxxxxxxxxxxxxxxxx\""
   ]
  },
  {
   "cell_type": "markdown",
   "id": "e2b06c06-c20d-4d1a-a228-dca532603925",
   "metadata": {
    "papermill": {},
    "tags": []
   },
   "source": [
    "## Model"
   ]
  },
  {
   "cell_type": "markdown",
   "id": "1e2065c9-5ad2-46c2-8a87-9d3ebba6738e",
   "metadata": {
    "papermill": {},
    "tags": []
   },
   "source": [
    "### Get dataframe"
   ]
  },
  {
   "cell_type": "code",
   "execution_count": null,
   "id": "c4f9812a-d2a9-4d9c-8f1b-88f6cb8fb51f",
   "metadata": {
    "papermill": {},
    "tags": []
   },
   "outputs": [],
   "source": [
    "print(\"✅ Dataframe init:\", len(df))\n",
    "df.head(3)"
   ]
  },
  {
   "cell_type": "markdown",
   "id": "21da518a-e9a5-4655-87a2-52e005f31dbe",
   "metadata": {
    "papermill": {},
    "tags": []
   },
   "source": [
    "## Output"
   ]
  },
  {
   "cell_type": "markdown",
   "id": "91e5573b-d693-4dd7-8065-7f2969d75ce1",
   "metadata": {
    "papermill": {},
    "tags": []
   },
   "source": [
    "### Create pages in Notion database\n",
    "If page already exists, a new page won't be created."
   ]
  },
  {
   "cell_type": "code",
   "execution_count": null,
   "id": "1049900a-5bb2-42de-8695-89c18155ad7a",
   "metadata": {
    "papermill": {},
    "tags": []
   },
   "outputs": [],
   "source": [
    "def create_pages(\n",
    "    notion_token,\n",
    "    notion_database,\n",
    "    notion_key_name,\n",
    "    df,\n",
    "    df_key_name,\n",
    "):\n",
    "    # Get pages\n",
    "    database_id = notion_database.split(\"/\")[-1].split(\"?v=\")[0]\n",
    "    pages = notion.connect(notion_token).database.query(database_id, query={})\n",
    "    \n",
    "    # Manage dataframe empty\n",
    "    if len(df) == 0:\n",
    "        print(\"🛑 Nothing to update in Notion.\")\n",
    "        return\n",
    "    \n",
    "    # Loop in data \n",
    "    for i, row in df.iterrows():\n",
    "        df_key = row[df_key_name]\n",
    "        print(f\"➡️ {i} - Started with '{df_key}'\")\n",
    "        \n",
    "        # Create or update page\n",
    "        page_new = True\n",
    "        for page in pages:\n",
    "            page_temp = page.df()\n",
    "            page_id = page_temp.loc[page_temp.Name == notion_key_name, \"Value\"].values\n",
    "            if page_id == df_key:\n",
    "                page_new = False\n",
    "                print(f\"❎ Page already exists in Notion\")\n",
    "                break\n",
    "        try:\n",
    "            if page_new:\n",
    "                # Create new page in notion\n",
    "                page = notion.connect(NOTION_TOKEN).Page.new(database_id=database_id).create()\n",
    "                page.title(notion_key_name, df_key)\n",
    "                \n",
    "                # You\n",
    "                page.update()\n",
    "                print(f\"✅ Page created in Notion.\", '\\n')\n",
    "        except Exception as e:\n",
    "            print(f\"❌ Error creating page in Notion\", e)\n",
    "            print(row)\n",
    "            \n",
    "create_pages(\n",
    "    notion_token,\n",
    "    notion_database,\n",
    "    notion_key_name,\n",
    "    df,\n",
    "    df_key_name,\n",
    ")"
   ]
  }
 ],
 "metadata": {
  "kernelspec": {
   "display_name": "Python 3",
   "language": "python",
   "name": "python3"
  },
  "language_info": {
   "codemirror_mode": {
    "name": "ipython",
    "version": 3
   },
   "file_extension": ".py",
   "mimetype": "text/x-python",
   "name": "python",
   "nbconvert_exporter": "python",
   "pygments_lexer": "ipython3",
   "version": "3.9.6"
  },
  "papermill": {
   "default_parameters": {},
   "environment_variables": {},
   "parameters": {},
   "version": "2.4.0"
  }
 },
 "nbformat": 4,
 "nbformat_minor": 5
}