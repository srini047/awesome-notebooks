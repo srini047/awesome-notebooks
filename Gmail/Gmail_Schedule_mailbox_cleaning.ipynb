{
 "cells": [
  {
   "cell_type": "markdown",
   "id": "sustainable-insert",
   "metadata": {
    "papermill": {},
    "tags": []
   },
   "source": [
    "<img width=\"10%\" alt=\"Naas\" src=\"https://landen.imgix.net/jtci2pxwjczr/assets/5ice39g4.png?w=160\"/>"
   ]
  },
  {
   "cell_type": "markdown",
   "id": "forty-morocco",
   "metadata": {
    "papermill": {},
    "tags": []
   },
   "source": [
    "# Gmail - Schedule mailbox cleaning\n",
    "<a href=\"https://app.naas.ai/user-redirect/naas/downloader?url=https://raw.githubusercontent.com/jupyter-naas/awesome-notebooks/master/Gmail/Gmail_Schedule_mailbox_cleaning.ipynb\" target=\"_parent\"><img src=\"https://naasai-public.s3.eu-west-3.amazonaws.com/open_in_naas.svg\"/></a><br><br><a href=\"https://github.com/jupyter-naas/awesome-notebooks/issues/new?assignees=&labels=&template=template-request.md&title=Tool+-+Action+of+the+notebook+\">Template request</a> | <a href=\"https://github.com/jupyter-naas/awesome-notebooks/issues/new?assignees=&labels=bug&template=bug_report.md&title=Gmail+-+Schedule+mailbox+cleaning:+Error+short+description\">Bug report</a>"
   ]
  },
  {
   "cell_type": "markdown",
   "id": "tags_cell",
   "metadata": {
    "papermill": {},
    "tags": []
   },
   "source": [
    "**Tags:** #gmail #productivity #naas_drivers #operations #automation #analytics #plotly"
   ]
  },
  {
   "cell_type": "markdown",
   "id": "367e326e-ad83-445f-b847-666e9e1e79b3",
   "metadata": {
    "papermill": {},
    "tags": []
   },
   "source": [
    "**Author:** [Jeremy Ravenel](https://www.linkedin.com/in/ACoAAAJHE7sB5OxuKHuzguZ9L6lfDHqw--cdnJg/)"
   ]
  },
  {
   "cell_type": "markdown",
   "id": "naas-description",
   "metadata": {
    "papermill": {},
    "tags": [
     "description"
    ]
   },
   "source": [
    "**Description:** This notebook allows users to easily schedule regular cleanings of their Gmail mailbox."
   ]
  },
  {
   "cell_type": "markdown",
   "id": "input_cell",
   "metadata": {
    "papermill": {},
    "tags": []
   },
   "source": [
    "## Input"
   ]
  },
  {
   "cell_type": "markdown",
   "id": "136b8959-cdb1-42bb-aaf9-2321b2da134d",
   "metadata": {
    "papermill": {},
    "tags": []
   },
   "source": [
    "### Import libraries"
   ]
  },
  {
   "cell_type": "code",
   "execution_count": 1,
   "id": "civil-possible",
   "metadata": {
    "papermill": {},
    "tags": []
   },
   "outputs": [],
   "source": [
    "import naas\n",
    "from naas_drivers import email\n",
    "import pandas as pd\n",
    "import numpy as np\n",
    "import plotly.express as px"
   ]
  },
  {
   "cell_type": "markdown",
   "id": "copyrighted-lighter",
   "metadata": {
    "papermill": {},
    "tags": []
   },
   "source": [
    "### Account credentials"
   ]
  },
  {
   "cell_type": "code",
   "execution_count": 2,
   "id": "handed-rolling",
   "metadata": {
    "papermill": {},
    "tags": []
   },
   "outputs": [],
   "source": [
    "username = \"naas.sanjay22@gmail.com\"\n",
    "password = \"atsuwkylwfhucugw\"\n",
    "smtp_server = \"imap.gmail.com\"\n",
    "box = \"INBOX\""
   ]
  },
  {
   "cell_type": "markdown",
   "id": "dominant-label",
   "metadata": {
    "papermill": {},
    "tags": []
   },
   "source": [
    "Note: You need to create an application password following this procedure - https://support.google.com/mail/answer/185833?hl=en"
   ]
  },
  {
   "cell_type": "markdown",
   "id": "sitting-slovak",
   "metadata": {
    "papermill": {},
    "tags": []
   },
   "source": [
    "### Setting the scheduler"
   ]
  },
  {
   "cell_type": "code",
   "execution_count": null,
   "id": "d9d0cf8e-4655-44e0-96d3-5851626c4cd3",
   "metadata": {
    "papermill": {},
    "tags": []
   },
   "outputs": [],
   "source": [
    "naas.scheduler.add(recurrence=\"0 9 * * *\")  # Scheduler set for 9 am"
   ]
  },
  {
   "cell_type": "markdown",
   "id": "model_cell",
   "metadata": {
    "papermill": {},
    "tags": []
   },
   "source": [
    "## Model"
   ]
  },
  {
   "cell_type": "markdown",
   "id": "opposite-simon",
   "metadata": {
    "papermill": {},
    "tags": []
   },
   "source": [
    "### Connect to email box"
   ]
  },
  {
   "cell_type": "code",
   "execution_count": 3,
   "id": "painted-harvard",
   "metadata": {
    "papermill": {},
    "tags": []
   },
   "outputs": [],
   "source": [
    "emails = naas_drivers.email.connect(username, password, username, smtp_server)"
   ]
  },
  {
   "cell_type": "markdown",
   "id": "adopted-tolerance",
   "metadata": {
    "papermill": {},
    "tags": []
   },
   "source": [
    "### Get email list"
   ]
  },
  {
   "cell_type": "code",
   "execution_count": 4,
   "id": "republican-underwear",
   "metadata": {
    "papermill": {},
    "tags": []
   },
   "outputs": [],
   "source": [
    "dataframe = emails.get(criteria=\"seen\")\n",
    "dataframe"
   ]
  },
  {
   "cell_type": "markdown",
   "id": "introductory-rover",
   "metadata": {
    "papermill": {},
    "tags": []
   },
   "source": [
    "### Creating dataframe and inserting values"
   ]
  },
  {
   "cell_type": "code",
   "execution_count": 5,
   "id": "qualified-imagination",
   "metadata": {
    "papermill": {},
    "tags": []
   },
   "outputs": [],
   "source": [
    "sender_name = []\n",
    "sender_email = []\n",
    "for df in dataframe[\"from\"]:\n",
    "    sender_name.append(df[\"name\"])\n",
    "    sender_email.append(df[\"email\"])\n",
    "result = pd.DataFrame(columns=[\"SENDER_NAME\", \"SENDER_EMAIL\", \"COUNT\", \"PERCENTAGE\"])\n",
    "name_unique = np.unique(sender_name)\n",
    "email_unique = np.unique(sender_email)\n",
    "total_email = len(emails.get(criteria=\"seen\")) + len(emails.get(criteria=\"unseen\"))\n",
    "c = 0\n",
    "for i in np.unique(sender_name):\n",
    "    new_row = {\n",
    "        \"SENDER_NAME\": i,\n",
    "        \"SENDER_EMAIL\": sender_email[c],\n",
    "        \"COUNT\": sender_name.count(i),\n",
    "        \"PERCENTAGE\": round(((sender_name.count(i)) / total_email) * 100),\n",
    "    }\n",
    "    result = result.append(new_row, ignore_index=True)\n",
    "    c += 1\n",
    "result"
   ]
  },
  {
   "cell_type": "markdown",
   "id": "protective-bookmark",
   "metadata": {
    "papermill": {},
    "tags": []
   },
   "source": [
    "### Email graph plot"
   ]
  },
  {
   "cell_type": "code",
   "execution_count": 6,
   "id": "alpha-ireland",
   "metadata": {
    "papermill": {},
    "tags": []
   },
   "outputs": [],
   "source": [
    "fig = px.bar(x=result[\"COUNT\"], y=result[\"SENDER_NAME\"], orientation=\"h\")\n",
    "fig.show()"
   ]
  },
  {
   "cell_type": "markdown",
   "id": "output_cell",
   "metadata": {
    "papermill": {},
    "tags": []
   },
   "source": [
    "## Output"
   ]
  },
  {
   "cell_type": "markdown",
   "id": "dependent-labor",
   "metadata": {
    "papermill": {},
    "tags": []
   },
   "source": [
    "### Deleting using email id"
   ]
  },
  {
   "cell_type": "code",
   "execution_count": 7,
   "id": "boolean-pennsylvania",
   "metadata": {
    "papermill": {},
    "tags": []
   },
   "outputs": [],
   "source": [
    "d_email = \"notifications@naas.ai\"  # email id to be deleted\n",
    "data_from = dataframe[\"from\"]\n",
    "data_uid = dataframe[\"uid\"]\n",
    "uid = []"
   ]
  },
  {
   "cell_type": "markdown",
   "id": "understood-greek",
   "metadata": {
    "papermill": {},
    "tags": []
   },
   "source": [
    "### Updating the uid values"
   ]
  },
  {
   "cell_type": "code",
   "execution_count": 8,
   "id": "fourth-martin",
   "metadata": {
    "papermill": {},
    "tags": []
   },
   "outputs": [],
   "source": [
    "for i in range(len(dataframe)):\n",
    "    if data_from[i][\"email\"] == d_email:\n",
    "        uid.append(data_uid[i])\n",
    "print(uid)"
   ]
  },
  {
   "cell_type": "markdown",
   "id": "cultural-elite",
   "metadata": {
    "papermill": {},
    "tags": []
   },
   "source": [
    "### Deleting the emails"
   ]
  },
  {
   "cell_type": "code",
   "execution_count": 9,
   "id": "behavioral-curtis",
   "metadata": {
    "papermill": {},
    "tags": []
   },
   "outputs": [],
   "source": [
    "for i in uid:\n",
    "    attachments = emails.set_flag(i, \"DELETED\", True)"
   ]
  },
  {
   "cell_type": "markdown",
   "id": "classified-republic",
   "metadata": {
    "papermill": {},
    "tags": []
   },
   "source": [
    "### Showing the upated email list"
   ]
  },
  {
   "cell_type": "code",
   "execution_count": 10,
   "id": "insured-catholic",
   "metadata": {
    "papermill": {},
    "tags": []
   },
   "outputs": [],
   "source": [
    "dataframe = emails.get(criteria=\"seen\")\n",
    "dataframe"
   ]
  }
 ],
 "metadata": {
  "kernelspec": {
   "display_name": "Python 3",
   "language": "python",
   "name": "python3"
  },
  "language_info": {
   "codemirror_mode": {
    "name": "ipython",
    "version": 3
   },
   "file_extension": ".py",
   "mimetype": "text/x-python",
   "name": "python",
   "nbconvert_exporter": "python",
   "pygments_lexer": "ipython3",
   "version": "3.9.6"
  },
  "naas": {
   "notebook_id": "92775a97-cda4-46f6-b7b8-7920886c412e",
   "notebook_path": "Gmail/Gmail_Schedule_mailbox_cleaning.ipynb"
  },
  "papermill": {
   "default_parameters": {},
   "environment_variables": {},
   "parameters": {},
   "version": "2.3.3"
  }
 },
 "nbformat": 4,
 "nbformat_minor": 5
}