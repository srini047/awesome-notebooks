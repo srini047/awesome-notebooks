{
 "cells": [
  {
   "cell_type": "markdown",
   "id": "9f0446de-3cd8-4227-8a2f-fe922e639f12",
   "metadata": {
    "papermill": {},
    "tags": []
   },
   "source": [
    "<img width=\"10%\" alt=\"Naas\" src=\"https://landen.imgix.net/jtci2pxwjczr/assets/5ice39g4.png?w=160\"/>"
   ]
  },
  {
   "cell_type": "markdown",
   "id": "3104405e-ec85-4273-9c14-8a8e2e799858",
   "metadata": {
    "papermill": {},
    "tags": []
   },
   "source": [
    "# Gmail - Create GitHub issue on specific email\n",
    "<a href=\"https://app.naas.ai/user-redirect/naas/downloader?url=https://raw.githubusercontent.com/jupyter-naas/awesome-notebooks/master/Gmail/Gmail_Create_GitHub_issue_on_specific_email.ipynb\" target=\"_parent\"><img src=\"https://naasai-public.s3.eu-west-3.amazonaws.com/Open_in_Naas_Lab.svg\"/></a><br><br><a href=\"https://github.com/jupyter-naas/awesome-notebooks/issues/new?assignees=&labels=&template=template-request.md&title=Tool+-+Action+of+the+notebook+\">Template request</a> | <a href=\"https://github.com/jupyter-naas/awesome-notebooks/issues/new?assignees=&labels=bug&template=bug_report.md&title=Gmail+-+Create+GitHub+issue+on+specific+email:+Error+short+description\">Bug report</a> | <a href=\"https://app.naas.ai/user-redirect/naas/downloader?url=https://raw.githubusercontent.com/jupyter-naas/awesome-notebooks/master/Naas/Naas_Start_data_product.ipynb\" target=\"_parent\">Generate Data Product</a>"
   ]
  },
  {
   "cell_type": "markdown",
   "id": "82e6cf23-4833-439d-9f6f-6180589122e0",
   "metadata": {
    "papermill": {},
    "tags": []
   },
   "source": [
    "**Tags:** #gmail #github #email #issue #create #python"
   ]
  },
  {
   "cell_type": "markdown",
   "id": "1c102df6-9e81-451c-9fcd-c880c73cd626",
   "metadata": {
    "papermill": {},
    "tags": []
   },
   "source": [
    "**Author:** [Florent Ravenel](https://www.linkedin.com/in/florent-ravenel/)"
   ]
  },
  {
   "cell_type": "markdown",
   "id": "431ff6f8-871e-4bae-a547-1752b54e7e68",
   "metadata": {
    "papermill": {},
    "tags": []
   },
   "source": [
    "**Description:** This notebook will show how to create a GitHub issue from a specific email using Gmail and Python. It is usefull for organizations that need to track emails and create issues from them."
   ]
  },
  {
   "cell_type": "markdown",
   "id": "e1688d79-6854-4b97-a25a-abd8b2804ed7",
   "metadata": {
    "papermill": {},
    "tags": []
   },
   "source": [
    "**References:**\n",
    "- [Gmail API](https://developers.google.com/gmail/api)\n",
    "- [GitHub API](https://developer.github.com/v3/)"
   ]
  },
  {
   "cell_type": "markdown",
   "id": "9abd309e-1df0-476c-ba21-d42c1745b705",
   "metadata": {
    "papermill": {},
    "tags": []
   },
   "source": [
    "## Input"
   ]
  },
  {
   "cell_type": "markdown",
   "id": "cd8d42fc-8ae7-4d82-9766-34096a8ec9db",
   "metadata": {
    "papermill": {},
    "tags": []
   },
   "source": [
    "### Import librairies"
   ]
  },
  {
   "cell_type": "code",
   "execution_count": null,
   "id": "20557ffb-6be2-45c2-a383-dededdb6c753",
   "metadata": {
    "papermill": {},
    "tags": []
   },
   "outputs": [],
   "source": [
    "import naas\n",
    "from naas_drivers import email\n",
    "from re import search\n",
    "import pandas as pd\n",
    "import requests"
   ]
  },
  {
   "cell_type": "markdown",
   "id": "076439a2-7a6c-40ef-b0b6-0e45df8462d7",
   "metadata": {
    "papermill": {},
    "tags": []
   },
   "source": [
    "### Setup Variables\n",
    "Create an application password following [this procedure](https://support.google.com/mail/answer/185833?hl=en)\n",
    "- `username`: This variable stores the username or email address associated with the email account\n",
    "- `password`: This variable stores the password or authentication token required to access the email account\n",
    "- `smtp_server`: This variable represents the SMTP server address used for sending emails.\n",
    "- `box`: This variable stores the name or identifier of the mailbox or folder within the email account that will be accessed.\n",
    "- `keywords`: This variable stores the keywords to be searched in email text.\n",
    "- `cron`: CRON to be set to schedule your notebook. More info [here](https://crontab.guru/)\n",
    "- `github_token`: GitHub token\n",
    "- `repository_url`: GitHub HTML repository URL\n",
    "- `assignees`: GitHub assignees\n",
    "- `labels`: GitHub labels"
   ]
  },
  {
   "cell_type": "code",
   "execution_count": null,
   "id": "1d252866-e63a-4ca7-b8ef-45d0bbfba0f1",
   "metadata": {
    "papermill": {},
    "tags": []
   },
   "outputs": [],
   "source": [
    "# Inputs\n",
    "username = \"xxxxx@xxxx\"\n",
    "password = naas.secret.get(\"GMAIL_APP_PASSWORD\") or \"xxxxxxxx\"\n",
    "smtp_server = \"imap.gmail.com\"\n",
    "box = \"INBOX\"\n",
    "keywords = \"xxxx\"\n",
    "\n",
    "# Outputs\n",
    "cron = \"0 8,20 * * *\" #everyday at 8AM and 8PM\n",
    "github_token = naas.secret.get('GITHUB_TOKEN')\n",
    "repository_url = \"https://github.com/xxxxxxx\"\n",
    "assignees = []\n",
    "labels = []"
   ]
  },
  {
   "cell_type": "markdown",
   "id": "98346a65-2b99-43d6-9aa9-d087d6f2e2c9",
   "metadata": {
    "papermill": {},
    "tags": []
   },
   "source": [
    "## Model"
   ]
  },
  {
   "cell_type": "markdown",
   "id": "87ae4591-298c-40b9-9565-f2309b78e6d8",
   "metadata": {
    "papermill": {},
    "tags": []
   },
   "source": [
    "### Get email list"
   ]
  },
  {
   "cell_type": "code",
   "execution_count": null,
   "id": "d11c19d9-886c-41b2-a86b-c9ba850e00a1",
   "metadata": {
    "papermill": {},
    "tags": []
   },
   "outputs": [],
   "source": [
    "emails = email.connect(username, password, smtp_server=smtp_server)\n",
    "df_emails = emails.get()\n",
    "print(f\"✅ Emails fetched:\", len(df_emails))\n",
    "df_emails.head(1)"
   ]
  },
  {
   "cell_type": "markdown",
   "id": "98d78a24-e5ed-4efe-b117-2009d547a220",
   "metadata": {
    "execution": {
     "iopub.execute_input": "2023-05-18T08:55:33.729688Z",
     "iopub.status.busy": "2023-05-18T08:55:33.729463Z",
     "iopub.status.idle": "2023-05-18T08:55:33.734291Z",
     "shell.execute_reply": "2023-05-18T08:55:33.733745Z",
     "shell.execute_reply.started": "2023-05-18T08:55:33.729665Z"
    },
    "papermill": {},
    "tags": []
   },
   "source": [
    "### Find emails matching criteria on subject and text"
   ]
  },
  {
   "cell_type": "code",
   "execution_count": null,
   "id": "6d0edcd7-8db1-4a83-9f7c-54613097e518",
   "metadata": {
    "papermill": {},
    "tags": []
   },
   "outputs": [],
   "source": [
    "def find_match(df, keywords):\n",
    "    # Init\n",
    "    df_match = pd.DataFrame()\n",
    "    \n",
    "    # Loop\n",
    "    for index, row in df.iterrows():\n",
    "        tmp_df = pd.DataFrame()\n",
    "        uid = row[\"uid\"]\n",
    "        subject = row[\"subject\"]\n",
    "        text = row[\"text\"]\n",
    "        \n",
    "        # Check keywords on subject and text\n",
    "        if search(keywords, subject):\n",
    "            tmp_df = df[index:index+1]\n",
    "        elif search(keywords, text):\n",
    "            tmp_df = df[index:index+1]\n",
    "        if len(tmp_df) > 0:\n",
    "            df_match = pd.concat([df_match, tmp_df])\n",
    "    return df_match.reset_index(drop=True)\n",
    "    \n",
    "df_match = find_match(df_emails, keywords)\n",
    "print(\"✅ Rows fetched:\", len(df_match))\n",
    "df_match.head(1)"
   ]
  },
  {
   "cell_type": "markdown",
   "id": "6df991ee-303b-4908-a097-4fa9b98b523a",
   "metadata": {
    "papermill": {},
    "tags": []
   },
   "source": [
    "## Output"
   ]
  },
  {
   "cell_type": "markdown",
   "id": "caa75fad-d91a-4a16-bf06-418f5bd9999e",
   "metadata": {
    "papermill": {},
    "tags": []
   },
   "source": [
    "### Create GitHub issue and delete email"
   ]
  },
  {
   "cell_type": "code",
   "execution_count": null,
   "id": "cb17429b-098a-4112-afb2-4a54825755ff",
   "metadata": {
    "papermill": {},
    "tags": []
   },
   "outputs": [],
   "source": [
    "def create_new_github_issue(\n",
    "    token,\n",
    "    repository_url,\n",
    "    subject,\n",
    "    text,\n",
    "    assignees,\n",
    "    labels,\n",
    "):\n",
    "    # Init\n",
    "    title = subject.replace(\"Fwd:\", \"\")\n",
    "    body = text\n",
    "    \n",
    "    # Requests\n",
    "    owner = repository_url.split(\"github.com/\")[-1].split(\"/\")[0]\n",
    "    repo_name = repository_url.split(f\"/{owner}/\")[-1].split(\"/\")[0]\n",
    "    url = f\"https://api.github.com/repos/{owner}/{repo_name}/issues\"\n",
    "    data = {\n",
    "        \"title\": title,\n",
    "        \"body\": body,\n",
    "        \"assignees\": assignees,\n",
    "        \"labels\": labels,\n",
    "    }\n",
    "    headers = {'Authorization': f'token {token}'}\n",
    "    response = requests.post(url, headers=headers, json=data)\n",
    "    github_issue = response.json()\n",
    "    print(f\"✅ Github issue created:\", f\"https://github.com/{owner}/{repo_name}/issues/{github_issue.get('number')}\")\n",
    "    return github_issue\n",
    "\n",
    "if len(df_match) > 0:\n",
    "    for index, row in df_match.iterrows():\n",
    "        uid = row[\"uid\"]\n",
    "        subject = row[\"subject\"]\n",
    "        text = row[\"text\"]\n",
    "        create_new_github_issue(\n",
    "            github_token,\n",
    "            repository_url,\n",
    "            subject,\n",
    "            text,\n",
    "            assignees,\n",
    "            labels\n",
    "        )\n",
    "        emails.set_flag(uid, name=\"DELETED\")\n",
    "        print(\"✅ Email deleted from mailbox\")"
   ]
  },
  {
   "cell_type": "markdown",
   "id": "8f0380be-c351-4e68-a4ea-3e56dd7a0444",
   "metadata": {
    "papermill": {},
    "tags": []
   },
   "source": [
    "### Add scheduler"
   ]
  },
  {
   "cell_type": "code",
   "execution_count": null,
   "id": "7d7ec5c8-3db1-4994-a8cd-741e507cfd7e",
   "metadata": {
    "papermill": {},
    "tags": []
   },
   "outputs": [],
   "source": [
    "naas.scheduler.add(cron=cron)"
   ]
  },
  {
   "cell_type": "markdown",
   "id": "d6e2344e-0aa1-498e-afbe-94caad7b30c6",
   "metadata": {
    "papermill": {},
    "tags": []
   },
   "source": [
    " "
   ]
  }
 ],
 "metadata": {
  "kernelspec": {
   "display_name": "Python 3",
   "language": "python",
   "name": "python3"
  },
  "language_info": {
   "codemirror_mode": {
    "name": "ipython",
    "version": 3
   },
   "file_extension": ".py",
   "mimetype": "text/x-python",
   "name": "python",
   "nbconvert_exporter": "python",
   "pygments_lexer": "ipython3",
   "version": "3.9.6"
  },
  "naas": {
   "notebook_id": "78ce50f9ba2a77f6308dbeb62b15c57fd5db2e92ecb652d13658246a50ead748",
   "notebook_path": "Gmail/Gmail_Create_GitHub_issue_on_specific_email.ipynb"
  },
  "papermill": {
   "default_parameters": {},
   "environment_variables": {},
   "parameters": {},
   "version": "2.4.0"
  },
  "widgets": {
   "application/vnd.jupyter.widget-state+json": {
    "state": {},
    "version_major": 2,
    "version_minor": 0
   }
  }
 },
 "nbformat": 4,
 "nbformat_minor": 5
}