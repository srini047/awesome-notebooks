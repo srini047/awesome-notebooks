{
 "cells": [
  {
   "cell_type": "markdown",
   "id": "maritime-milan",
   "metadata": {
    "papermill": {},
    "tags": []
   },
   "source": [
    "<img width=\"10%\" alt=\"Naas\" src=\"https://landen.imgix.net/jtci2pxwjczr/assets/5ice39g4.png?w=160\"/>"
   ]
  },
  {
   "cell_type": "markdown",
   "id": "pressing-converter",
   "metadata": {
    "papermill": {},
    "tags": []
   },
   "source": [
    "# Gmail - Send emails from Gsheet specific\n",
    "<a href=\"https://app.naas.ai/user-redirect/naas/downloader?url=https://raw.githubusercontent.com/jupyter-naas/awesome-notebooks/master/Gmail/Gmail_Send_emails_from_Gsheet_specific.ipynb\" target=\"_parent\"><img src=\"https://naasai-public.s3.eu-west-3.amazonaws.com/open_in_naas.svg\"/></a><br><br><a href=\"https://github.com/jupyter-naas/awesome-notebooks/issues/new?assignees=&labels=&template=template-request.md&title=Tool+-+Action+of+the+notebook+\">Template request</a> | <a href=\"https://github.com/jupyter-naas/awesome-notebooks/issues/new?assignees=&labels=bug&template=bug_report.md&title=Gmail+-+Send+emails+from+Gsheet+specific:+Error+short+description\">Bug report</a>"
   ]
  },
  {
   "cell_type": "markdown",
   "id": "tags_cell",
   "metadata": {
    "papermill": {},
    "tags": []
   },
   "source": [
    "**Tags:** #gmail #productivity #gsheet #naas_drivers #operations #snippet #email"
   ]
  },
  {
   "cell_type": "markdown",
   "id": "1cf16007-bee8-42de-ae97-d300ef11ccb2",
   "metadata": {
    "papermill": {},
    "tags": []
   },
   "source": [
    "**Author:** [Jeremy Ravenel](https://www.linkedin.com/in/ACoAAAJHE7sB5OxuKHuzguZ9L6lfDHqw--cdnJg/)"
   ]
  },
  {
   "cell_type": "markdown",
   "id": "naas-description",
   "metadata": {
    "papermill": {},
    "tags": [
     "description"
    ]
   },
   "source": [
    "**Description:** This notebook allows users to send emails from a Google Sheet with Gmail."
   ]
  },
  {
   "cell_type": "markdown",
   "id": "input_cell",
   "metadata": {
    "papermill": {},
    "tags": []
   },
   "source": [
    "## Input"
   ]
  },
  {
   "cell_type": "markdown",
   "id": "continental-auction",
   "metadata": {
    "papermill": {},
    "tags": []
   },
   "source": [
    "### Import libraries"
   ]
  },
  {
   "cell_type": "code",
   "execution_count": 1,
   "id": "stuffed-adoption",
   "metadata": {
    "execution": {
     "iopub.execute_input": "2021-10-04T10:06:19.662238Z",
     "iopub.status.busy": "2021-10-04T10:06:19.661984Z",
     "iopub.status.idle": "2021-10-04T10:06:24.053865Z",
     "shell.execute_reply": "2021-10-04T10:06:24.053101Z",
     "shell.execute_reply.started": "2021-10-04T10:06:19.662178Z"
    },
    "papermill": {},
    "tags": []
   },
   "outputs": [],
   "source": [
    "import naas\n",
    "from naas_drivers import gsheet\n",
    "from naas_drivers import html"
   ]
  },
  {
   "cell_type": "markdown",
   "id": "f9396ccc-7e72-46d2-9ed8-e0cc01f8d8de",
   "metadata": {
    "papermill": {},
    "tags": []
   },
   "source": [
    "### Read the gsheet"
   ]
  },
  {
   "cell_type": "code",
   "execution_count": null,
   "id": "46e22f35-6c6c-4340-a176-f7b7dd65ce94",
   "metadata": {
    "papermill": {},
    "tags": []
   },
   "outputs": [],
   "source": [
    "spreadsheet_id = \"1_VAF0kLPfnZxjA7HsF4F3YdZLi_V_wmZh0nHUP6DWPg\"\n",
    "data = gsheet.connect(spreadsheet_id).get(sheet_name=\"Sheet1\")"
   ]
  },
  {
   "cell_type": "markdown",
   "id": "spatial-stanford",
   "metadata": {
    "papermill": {},
    "tags": []
   },
   "source": [
    "### Setting your email address"
   ]
  },
  {
   "cell_type": "code",
   "execution_count": 2,
   "id": "exact-bobby",
   "metadata": {
    "papermill": {},
    "tags": []
   },
   "outputs": [],
   "source": [
    "your_email = \"jeremy.ravenel@cashstory.com\"\n",
    "firstname_list = data[\"FIRST NAME\"]\n",
    "email_list = data[\"EMAIL\"]\n",
    "specific_message_list = data[\"SPECIFIC MESSAGE\"]"
   ]
  },
  {
   "cell_type": "markdown",
   "id": "model_cell",
   "metadata": {
    "papermill": {},
    "tags": []
   },
   "source": [
    "## Model"
   ]
  },
  {
   "cell_type": "markdown",
   "id": "standard-sterling",
   "metadata": {
    "papermill": {},
    "tags": []
   },
   "source": [
    "### Mail preview"
   ]
  },
  {
   "cell_type": "code",
   "execution_count": 3,
   "id": "norman-wilderness",
   "metadata": {
    "papermill": {},
    "tags": []
   },
   "outputs": [],
   "source": [
    "url_image = naas.assets.add(\"2020.gif\")\n",
    "email_content = html.generate(\n",
    "    display=\"iframe\",\n",
    "    title=\"🎅 Merry Christmas\",\n",
    "    heading=\"& Happy new year {first_name} 🍾\",\n",
    "    image=f\"{url_image}\",\n",
    "    text_1=\"{specific message}\",\n",
    "    text_2=\"Even if 2020 has been extremely difficult year, let's make 2021 better!\",\n",
    "    text_3=\"Keep smiling,\",\n",
    "    text_4=\"Keep laughing,\",\n",
    "    text_5=\"Spread love ❤️\",\n",
    ")"
   ]
  },
  {
   "cell_type": "markdown",
   "id": "output_cell",
   "metadata": {
    "papermill": {},
    "tags": []
   },
   "source": [
    "## Output"
   ]
  },
  {
   "cell_type": "markdown",
   "id": "better-possession",
   "metadata": {
    "papermill": {},
    "tags": []
   },
   "source": [
    "### Sending emails"
   ]
  },
  {
   "cell_type": "code",
   "execution_count": 4,
   "id": "brief-lease",
   "metadata": {
    "papermill": {},
    "tags": []
   },
   "outputs": [],
   "source": [
    "for i in range(len(data)):\n",
    "    subject = \"Merry Christmas & spread love for 2021 ❤️\"\n",
    "    content = email_content.replace(\"{first_name}\", firstname_list[i]).replace(\n",
    "        \"{specific message}\", specific_message_list[i]\n",
    "    )\n",
    "    naas.notifications.send(\n",
    "        email_to=email_list[i], subject=subject, html=content, email_from=your_email\n",
    "    )"
   ]
  }
 ],
 "metadata": {
  "kernelspec": {
   "display_name": "Python 3",
   "language": "python",
   "name": "python3"
  },
  "language_info": {
   "codemirror_mode": {
    "name": "ipython",
    "version": 3
   },
   "file_extension": ".py",
   "mimetype": "text/x-python",
   "name": "python",
   "nbconvert_exporter": "python",
   "pygments_lexer": "ipython3",
   "version": "3.9.6"
  },
  "naas": {
   "notebook_id": "91094e8f-17c5-4131-9d2b-0eed2813d3b4",
   "notebook_path": "Gmail/Gmail_Send_emails_from_Gsheet_specific.ipynb"
  },
  "papermill": {
   "default_parameters": {},
   "environment_variables": {},
   "parameters": {},
   "version": "2.3.3"
  }
 },
 "nbformat": 4,
 "nbformat_minor": 5
}