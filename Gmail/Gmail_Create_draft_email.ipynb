{
 "cells": [
  {
   "cell_type": "markdown",
   "id": "607bc640-6476-444b-a53f-cd95a1a10143",
   "metadata": {
    "papermill": {},
    "tags": []
   },
   "source": [
    "<img width=\"10%\" alt=\"Naas\" src=\"https://landen.imgix.net/jtci2pxwjczr/assets/5ice39g4.png?w=160\"/>"
   ]
  },
  {
   "cell_type": "markdown",
   "id": "396efe81-0abe-4ff3-92d4-0b923a0725ae",
   "metadata": {
    "papermill": {},
    "tags": []
   },
   "source": [
    "# Gmail - Create draft email\n",
    "<a href=\"https://app.naas.ai/user-redirect/naas/downloader?url=https://raw.githubusercontent.com/jupyter-naas/awesome-notebooks/master/Gmail/Gmail_Create_draft_email.ipynb\" target=\"_parent\"><img src=\"https://naasai-public.s3.eu-west-3.amazonaws.com/Open_in_Naas_Lab.svg\"/></a><br><br><a href=\"https://github.com/jupyter-naas/awesome-notebooks/issues/new?assignees=&labels=&template=template-request.md&title=Tool+-+Action+of+the+notebook+\">Template request</a> | <a href=\"https://github.com/jupyter-naas/awesome-notebooks/issues/new?assignees=&labels=bug&template=bug_report.md&title=Gmail+-+Create+draft+email:+Error+short+description\">Bug report</a> | <a href=\"https://app.naas.ai/user-redirect/naas/downloader?url=https://raw.githubusercontent.com/jupyter-naas/awesome-notebooks/master/Naas/Naas_Start_data_product.ipynb\" target=\"_parent\">Generate Data Product</a>"
   ]
  },
  {
   "cell_type": "markdown",
   "id": "aafbefe6-f5e1-46b2-b066-e57475ff2a1c",
   "metadata": {
    "papermill": {},
    "tags": []
   },
   "source": [
    "**Tags:** #gmail #email #draft #create #python #library"
   ]
  },
  {
   "cell_type": "markdown",
   "id": "a04eee49-f64d-40aa-af20-d08296b69154",
   "metadata": {
    "papermill": {},
    "tags": []
   },
   "source": [
    "**Author:** [Sriniketh Jayasendil](https://www.linkedin.com/in/sriniketh-jayasendil/)"
   ]
  },
  {
   "cell_type": "markdown",
   "id": "d335d8a3-3158-469c-a0e7-3e148d9c7070",
   "metadata": {
    "papermill": {},
    "tags": []
   },
   "source": [
    "**Description:** This notebook will show how to create a draft email using the Gmail API. It is usefull for organizations that need to automate the creation of emails."
   ]
  },
  {
   "cell_type": "markdown",
   "id": "4ed674f5-1060-43b7-ae06-c2b586ec8b32",
   "metadata": {
    "papermill": {},
    "tags": []
   },
   "source": [
    "**References:**\n",
    "- [Gmail API Documentation](https://developers.google.com/gmail/api/quickstart/python)\n",
    "- [Gmail API Python Quickstart](https://developers.google.com/gmail/api/quickstart/python)"
   ]
  },
  {
   "cell_type": "markdown",
   "id": "732b2dec-80ea-463d-b3ce-48d62e08b745",
   "metadata": {
    "papermill": {},
    "tags": []
   },
   "source": [
    "## Input"
   ]
  },
  {
   "cell_type": "markdown",
   "id": "386e60cc-157e-4702-836e-eaef23074cf9",
   "metadata": {
    "papermill": {},
    "tags": []
   },
   "source": [
    "### Import libraries"
   ]
  },
  {
   "cell_type": "code",
   "execution_count": null,
   "id": "deb8e327-3451-4a0f-8df4-9b05abc7b022",
   "metadata": {
    "papermill": {},
    "tags": []
   },
   "outputs": [],
   "source": [
    "import naas\n",
    "from googleapiclient.discovery import build\n",
    "from google_auth_oauthlib.flow import InstalledAppFlow\n",
    "from google.auth.transport.requests import Request\n",
    "import pickle\n",
    "import datetime\n",
    "import os.path\n",
    "import base64\n",
    "from email.mime.text import MIMEText\n",
    "from email.mime.multipart import MIMEMultipart"
   ]
  },
  {
   "cell_type": "markdown",
   "id": "385f54be-6dde-434c-9e05-4612db7a5276",
   "metadata": {
    "papermill": {},
    "tags": []
   },
   "source": [
    "### Setup Variables\n",
    "- `client_secret_file`: This variable stores the file path to the client secret file for Gmail API authentication.\n",
    "- `api_name`: This variable stores the name or identifier of the Gmail API.\n",
    "- `api_version`: This variable stores the version of the Gmail API.\n",
    "- `scopes`: This variable stores the required scopes for accessing Gmail API.\n",
    "- `email_from`: This variable stores the email address of the sender.\n",
    "- `email_to`: This variable stores the email addresses of the recipients.\n",
    "- `email_cc`: This variable stores the email addresses of the CC recipients.\n",
    "- `email_subject`: This variable stores the subject of the email.\n",
    "- `email_body`: This variable stores the body or content of the email."
   ]
  },
  {
   "cell_type": "markdown",
   "id": "71c58d37-0ec4-416d-bc4c-7d5b9bba4073",
   "metadata": {
    "papermill": {},
    "tags": []
   },
   "source": [
    "For more information on how to setup the credentials, please refer to the [Gmail API Python Quickstart](https://developers.google.com/gmail/api/quickstart/python)."
   ]
  },
  {
   "cell_type": "code",
   "execution_count": null,
   "id": "b624e4a2-2a41-450a-84cf-64e659d01055",
   "metadata": {
    "papermill": {},
    "tags": []
   },
   "outputs": [],
   "source": [
    "# Inputs\n",
    "client_secret_file = \"./secrets-gmail.json\"\n",
    "api_name ='gmail'\n",
    "api_version = 'v1'\n",
    "scopes = ['https://mail.google.com/']\n",
    "\n",
    "# Outputs\n",
    "email_from = \"\"\n",
    "email_to = \"\"\n",
    "email_cc = \"\"\n",
    "email_subject = 'Hello Gmail API'\n",
    "email_body = 'Hello!! You work super cool!!'"
   ]
  },
  {
   "cell_type": "markdown",
   "id": "16bfd562-138e-4be2-a00d-fbd047ddae1a",
   "metadata": {
    "papermill": {},
    "tags": []
   },
   "source": [
    "## Model"
   ]
  },
  {
   "cell_type": "markdown",
   "id": "8150f2b8-1a41-4e98-af43-1778ac2d2205",
   "metadata": {
    "papermill": {},
    "tags": []
   },
   "source": [
    "### Connect to service"
   ]
  },
  {
   "cell_type": "code",
   "execution_count": null,
   "id": "082048a0-9a19-4c8d-9143-3941cee310b7",
   "metadata": {
    "papermill": {},
    "tags": []
   },
   "outputs": [],
   "source": [
    "# Create service account\n",
    "def Create_Service(client_secret_file, api_name, api_version, *scopes):\n",
    "    # Init variables\n",
    "    print(client_secret_file, api_name, api_version, scopes, sep='-')\n",
    "    CLIENT_SECRET_FILE = client_secret_file\n",
    "    API_SERVICE_NAME = api_name\n",
    "    API_VERSION = api_version\n",
    "    SCOPES = [scope for scope in scopes[0]]\n",
    "    print(SCOPES)\n",
    "    cred = None\n",
    "    \n",
    "    # Create pickle file\n",
    "    pickle_file = f'token_{API_SERVICE_NAME}_{API_VERSION}.pickle'\n",
    "    if os.path.exists(pickle_file):\n",
    "        with open(pickle_file, 'rb') as token:\n",
    "            cred = pickle.load(token)\n",
    "\n",
    "    if not cred or not cred.valid:\n",
    "        if cred and cred.expired and cred.refresh_token:\n",
    "            cred.refresh(Request())\n",
    "        else:\n",
    "            flow = InstalledAppFlow.from_client_secrets_file(CLIENT_SECRET_FILE, SCOPES)\n",
    "            cred = flow.run_local_server()\n",
    "\n",
    "        with open(pickle_file, 'wb') as token:\n",
    "            pickle.dump(cred, token)\n",
    "\n",
    "    try:\n",
    "        service = build(API_SERVICE_NAME, API_VERSION, credentials=cred)\n",
    "        print(API_SERVICE_NAME, 'service created successfully')\n",
    "        return service\n",
    "    except Exception as e:\n",
    "        print('Unable to connect.')\n",
    "        print(e)\n",
    "        return None\n",
    "    \n",
    "service = Create_Service(client_secret_file, api_name, api_version, scopes)"
   ]
  },
  {
   "cell_type": "markdown",
   "id": "7c50626b-50ba-443f-9b82-152743374eec",
   "metadata": {
    "papermill": {},
    "tags": []
   },
   "source": [
    "## Output"
   ]
  },
  {
   "cell_type": "markdown",
   "id": "7ccfa8e4-ad9b-4595-9946-d6731a23afb4",
   "metadata": {
    "papermill": {},
    "tags": []
   },
   "source": [
    "### Create draft email"
   ]
  },
  {
   "cell_type": "markdown",
   "id": "5799fbd1-9691-4f28-b994-6b5f8ba0338b",
   "metadata": {
    "papermill": {},
    "tags": []
   },
   "source": [
    "This function will create a draft email using the Gmail API."
   ]
  },
  {
   "cell_type": "code",
   "execution_count": null,
   "id": "548f0683-3bae-4b31-b9df-98c1e110867a",
   "metadata": {
    "papermill": {},
    "tags": []
   },
   "outputs": [],
   "source": [
    "mimeMessage = MIMEMultipart()\n",
    "mimeMessage['from'] = email_from\n",
    "mimeMessage['to'] = email_to\n",
    "mimeMessage['cc'] = email_cc\n",
    "mimeMessage['subject'] = email_subject\n",
    "mimeMessage.attach(MIMEText(email_body, 'plain'))\n",
    "raw_string = base64.urlsafe_b64encode(mimeMessage.as_bytes()).decode()\n",
    "response = service.users().drafts().create(\n",
    "    userId='me',\n",
    "    body={'message': {'raw': raw_string }}\n",
    ").execute()\n",
    "\n",
    "# Display result\n",
    "print(response)"
   ]
  },
  {
   "cell_type": "markdown",
   "id": "25aa14ff-4d0f-4fbf-bedb-3f67d6803a22",
   "metadata": {
    "papermill": {},
    "tags": []
   },
   "source": [
    " "
   ]
  }
 ],
 "metadata": {
  "kernelspec": {
   "display_name": "Python 3",
   "language": "python",
   "name": "python3"
  },
  "language_info": {
   "codemirror_mode": {
    "name": "ipython",
    "version": 3
   },
   "file_extension": ".py",
   "mimetype": "text/x-python",
   "name": "python",
   "nbconvert_exporter": "python",
   "pygments_lexer": "ipython3",
   "version": "3.9.6"
  },
  "naas": {
   "notebook_id": "4eeb57ee19493997c46d04f94059ef5c2bd3f809491461cfe8c8c065d7d75921",
   "notebook_path": "Gmail/Gmail_Create_draft_email.ipynb"
  },
  "papermill": {
   "default_parameters": {},
   "environment_variables": {},
   "parameters": {},
   "version": "2.4.0"
  },
  "widgets": {
   "application/vnd.jupyter.widget-state+json": {
    "state": {},
    "version_major": 2,
    "version_minor": 0
   }
  }
 },
 "nbformat": 4,
 "nbformat_minor": 5
}