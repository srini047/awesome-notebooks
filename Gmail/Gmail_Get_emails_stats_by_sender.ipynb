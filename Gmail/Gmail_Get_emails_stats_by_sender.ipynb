{
 "cells": [
  {
   "cell_type": "markdown",
   "id": "sustainable-insert",
   "metadata": {
    "papermill": {},
    "tags": []
   },
   "source": [
    "<img width=\"10%\" alt=\"Naas\" src=\"https://landen.imgix.net/jtci2pxwjczr/assets/5ice39g4.png?w=160\"/>"
   ]
  },
  {
   "cell_type": "markdown",
   "id": "forty-morocco",
   "metadata": {
    "papermill": {},
    "tags": []
   },
   "source": [
    "# Gmail - Get emails stats by sender\n",
    "<a href=\"https://app.naas.ai/user-redirect/naas/downloader?url=https://raw.githubusercontent.com/jupyter-naas/awesome-notebooks/master/Gmail/Gmail_Get_emails_stats_by_sender.ipynb\" target=\"_parent\"><img src=\"https://naasai-public.s3.eu-west-3.amazonaws.com/Open_in_Naas_Lab.svg\"/></a><br><br><a href=\"https://github.com/jupyter-naas/awesome-notebooks/issues/new?assignees=&labels=&template=template-request.md&title=Tool+-+Action+of+the+notebook+\">Template request</a> | <a href=\"https://github.com/jupyter-naas/awesome-notebooks/issues/new?assignees=&labels=bug&template=bug_report.md&title=Gmail+-+Get+emails+stats+by+sender:+Error+short+description\">Bug report</a> | <a href=\"https://app.naas.ai/user-redirect/naas/downloader?url=https://raw.githubusercontent.com/jupyter-naas/awesome-notebooks/master/Naas/Naas_Start_data_product.ipynb\" target=\"_parent\">Generate Data Product</a>"
   ]
  },
  {
   "cell_type": "markdown",
   "id": "tags_cell",
   "metadata": {
    "papermill": {},
    "tags": []
   },
   "source": [
    "**Tags:** #gmail #productivity #naas_drivers #operations #automation #analytics #plotly"
   ]
  },
  {
   "cell_type": "markdown",
   "id": "367e326e-ad83-445f-b847-666e9e1e79b3",
   "metadata": {
    "papermill": {},
    "tags": []
   },
   "source": [
    "**Author:** [Jeremy Ravenel](https://www.linkedin.com/in/ACoAAAJHE7sB5OxuKHuzguZ9L6lfDHqw--cdnJg/)"
   ]
  },
  {
   "cell_type": "markdown",
   "id": "naas-description",
   "metadata": {
    "papermill": {},
    "tags": [
     "description"
    ]
   },
   "source": [
    "**Description:** This notebook allows users to get stats from their emailbox by sender."
   ]
  },
  {
   "cell_type": "markdown",
   "id": "input_cell",
   "metadata": {
    "papermill": {},
    "tags": []
   },
   "source": [
    "## Input"
   ]
  },
  {
   "cell_type": "markdown",
   "id": "136b8959-cdb1-42bb-aaf9-2321b2da134d",
   "metadata": {
    "papermill": {},
    "tags": []
   },
   "source": [
    "### Import libraries"
   ]
  },
  {
   "cell_type": "code",
   "execution_count": null,
   "id": "civil-possible",
   "metadata": {
    "papermill": {},
    "tags": []
   },
   "outputs": [],
   "source": [
    "import naas\n",
    "from naas_drivers import email\n",
    "import pandas as pd\n",
    "import numpy as np\n",
    "import plotly.express as px"
   ]
  },
  {
   "cell_type": "markdown",
   "id": "copyrighted-lighter",
   "metadata": {
    "papermill": {},
    "tags": []
   },
   "source": [
    "### Setup Variables\n",
    "Create an application password following [this procedure](https://support.google.com/mail/answer/185833?hl=en)\n",
    "- `username`: This variable stores the username or email address associated with the email account\n",
    "- `password`: This variable stores the password or authentication token required to access the email account\n",
    "- `smtp_server`: This variable represents the SMTP server address used for sending emails.\n",
    "- `box`: This variable stores the name or identifier of the mailbox or folder within the email account that will be accessed."
   ]
  },
  {
   "cell_type": "code",
   "execution_count": null,
   "id": "handed-rolling",
   "metadata": {
    "papermill": {},
    "tags": []
   },
   "outputs": [],
   "source": [
    "username = \"xxxxx@xxxxx\"\n",
    "password = naas.secret.get(\"GMAIL_APP_PASSWORD\")\n",
    "smtp_server = \"imap.gmail.com\"\n",
    "box = \"INBOX\""
   ]
  },
  {
   "cell_type": "markdown",
   "id": "model_cell",
   "metadata": {
    "papermill": {},
    "tags": []
   },
   "source": [
    "## Model"
   ]
  },
  {
   "cell_type": "markdown",
   "id": "opposite-simon",
   "metadata": {
    "papermill": {},
    "tags": []
   },
   "source": [
    "### Connect to email box"
   ]
  },
  {
   "cell_type": "code",
   "execution_count": null,
   "id": "painted-harvard",
   "metadata": {
    "papermill": {},
    "tags": []
   },
   "outputs": [],
   "source": [
    "emails = email.connect(username, password, username, smtp_server)"
   ]
  },
  {
   "cell_type": "markdown",
   "id": "adopted-tolerance",
   "metadata": {
    "papermill": {},
    "tags": []
   },
   "source": [
    "### Get email list"
   ]
  },
  {
   "cell_type": "code",
   "execution_count": null,
   "id": "republican-underwear",
   "metadata": {
    "papermill": {},
    "tags": []
   },
   "outputs": [],
   "source": [
    "df_emails = emails.get()\n",
    "print(f\"✅ Emails fetched:\", len(df_emails))\n",
    "df_emails.head(1)"
   ]
  },
  {
   "cell_type": "markdown",
   "id": "introductory-rover",
   "metadata": {
    "papermill": {},
    "tags": []
   },
   "source": [
    "### Creating dataframe and inserting values"
   ]
  },
  {
   "cell_type": "code",
   "execution_count": null,
   "id": "qualified-imagination",
   "metadata": {
    "papermill": {},
    "tags": []
   },
   "outputs": [],
   "source": [
    "sender_name = []\n",
    "sender_email = []\n",
    "for df in df_emails[\"from\"]:\n",
    "    sender_name.append(df[\"name\"])\n",
    "    sender_email.append(df[\"email\"])\n",
    "    \n",
    "result = pd.DataFrame(columns=[\"SENDER_NAME\", \"SENDER_EMAIL\", \"COUNT\", \"PERCENTAGE\"])\n",
    "name_unique = np.unique(sender_name)\n",
    "email_unique = np.unique(sender_email)\n",
    "total_email = len(df_emails)\n",
    "c = 0\n",
    "for i in np.unique(sender_name):\n",
    "    new_row = {\n",
    "        \"SENDER_NAME\": i,\n",
    "        \"SENDER_EMAIL\": sender_email[c],\n",
    "        \"COUNT\": sender_name.count(i),\n",
    "        \"PERCENTAGE\": round(((sender_name.count(i)) / total_email) * 100),\n",
    "    }\n",
    "    result = result.append(new_row, ignore_index=True)\n",
    "    c += 1\n",
    "result"
   ]
  },
  {
   "cell_type": "markdown",
   "id": "output_cell",
   "metadata": {
    "papermill": {},
    "tags": []
   },
   "source": [
    "## Output"
   ]
  },
  {
   "cell_type": "markdown",
   "id": "protective-bookmark",
   "metadata": {
    "papermill": {},
    "tags": []
   },
   "source": [
    "### Email graph plot"
   ]
  },
  {
   "cell_type": "code",
   "execution_count": null,
   "id": "alpha-ireland",
   "metadata": {
    "papermill": {},
    "tags": []
   },
   "outputs": [],
   "source": [
    "fig = px.bar(x=result[\"COUNT\"], y=result[\"SENDER_NAME\"], orientation=\"h\")\n",
    "fig.show()"
   ]
  }
 ],
 "metadata": {
  "kernelspec": {
   "display_name": "Python 3",
   "language": "python",
   "name": "python3"
  },
  "language_info": {
   "codemirror_mode": {
    "name": "ipython",
    "version": 3
   },
   "file_extension": ".py",
   "mimetype": "text/x-python",
   "name": "python",
   "nbconvert_exporter": "python",
   "pygments_lexer": "ipython3",
   "version": "3.9.6"
  },
  "naas": {
   "notebook_id": "9d0515a1c77f00567dfb9833c75af19c3c9b24efd7b7a6e0a6d53ef0de00fcd0",
   "notebook_path": "Gmail/Gmail_Get_emails_stats_by_sender.ipynb"
  },
  "papermill": {
   "default_parameters": {},
   "environment_variables": {},
   "parameters": {},
   "version": "2.3.3"
  }
 },
 "nbformat": 4,
 "nbformat_minor": 5
}