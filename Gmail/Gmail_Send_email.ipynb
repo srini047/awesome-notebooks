{
 "cells": [
  {
   "cell_type": "markdown",
   "id": "fa12acf5-0df7-4c57-90a0-4122d42933cf",
   "metadata": {
    "papermill": {},
    "tags": []
   },
   "source": [
    "<img width=\"10%\" alt=\"Naas\" src=\"https://landen.imgix.net/jtci2pxwjczr/assets/5ice39g4.png?w=160\"/>"
   ]
  },
  {
   "cell_type": "markdown",
   "id": "4c0a530c-a44e-43ca-bc85-84f6f350b5f4",
   "metadata": {
    "papermill": {},
    "tags": []
   },
   "source": [
    "# Gmail - Send email\n",
    "<a href=\"https://app.naas.ai/user-redirect/naas/downloader?url=https://raw.githubusercontent.com/jupyter-naas/awesome-notebooks/master/Gmail/Gmail_Send_email.ipynb\" target=\"_parent\"><img src=\"https://naasai-public.s3.eu-west-3.amazonaws.com/Open_in_Naas_Lab.svg\"/></a><br><br><a href=\"https://github.com/jupyter-naas/awesome-notebooks/issues/new?assignees=&labels=&template=template-request.md&title=Tool+-+Action+of+the+notebook+\">Template request</a> | <a href=\"https://github.com/jupyter-naas/awesome-notebooks/issues/new?assignees=&labels=bug&template=bug_report.md&title=Gmail+-+Send+email:+Error+short+description\">Bug report</a> | <a href=\"https://app.naas.ai/user-redirect/naas/downloader?url=https://raw.githubusercontent.com/jupyter-naas/awesome-notebooks/master/Naas/Naas_Start_data_product.ipynb\" target=\"_parent\">Generate Data Product</a>"
   ]
  },
  {
   "cell_type": "markdown",
   "id": "01015f5e-4a42-4335-abe8-b91687eacdd1",
   "metadata": {
    "papermill": {},
    "tags": []
   },
   "source": [
    "**Tags:** #gmail #email #send #python #library #smtplib"
   ]
  },
  {
   "cell_type": "markdown",
   "id": "b8db7b22-1d07-4be6-b735-1316f1651a47",
   "metadata": {
    "papermill": {},
    "tags": []
   },
   "source": [
    "**Author:** [Florent Ravenel](https://www.linkedin.com/in/florent-ravenel/)"
   ]
  },
  {
   "cell_type": "markdown",
   "id": "ccaedd9f-f6a4-473a-9fff-74e6b119bced",
   "metadata": {
    "papermill": {},
    "tags": []
   },
   "source": [
    "**Description:** This notebook will show how to send an email using naas_drivers. It is usefull for organizations that need to send emails from their Gmail account."
   ]
  },
  {
   "cell_type": "markdown",
   "id": "7bc1f34c-30a5-4ae6-8885-aad95320ff72",
   "metadata": {
    "papermill": {},
    "tags": []
   },
   "source": [
    "**References:**\n",
    "- [Python smtplib](https://docs.python.org/3/library/smtplib.html)\n",
    "- [Gmail SMTP server](https://support.google.com/a/answer/176600?hl=en)"
   ]
  },
  {
   "cell_type": "markdown",
   "id": "c705eba2-1b99-410c-8526-d338df4c2f15",
   "metadata": {
    "papermill": {},
    "tags": []
   },
   "source": [
    "## Input"
   ]
  },
  {
   "cell_type": "markdown",
   "id": "26e464c0-c9f4-4e8f-ba15-ade0066947c1",
   "metadata": {
    "papermill": {},
    "tags": []
   },
   "source": [
    "### Import libraries"
   ]
  },
  {
   "cell_type": "code",
   "execution_count": null,
   "id": "1fd0ba7f-cb27-4c0b-94d4-1d6dd2f9681f",
   "metadata": {
    "papermill": {},
    "tags": []
   },
   "outputs": [],
   "source": [
    "import naas\n",
    "from naas_drivers import email"
   ]
  },
  {
   "cell_type": "markdown",
   "id": "8cd97eb1-98d1-4a02-98e0-91205263a1f2",
   "metadata": {
    "papermill": {},
    "tags": []
   },
   "source": [
    "### Setup Variables\n",
    "Create an application password following [this procedure](https://support.google.com/mail/answer/185833?hl=en)\n",
    "- `username`: This variable stores the username or email address associated with the email account\n",
    "- `password`: This variable stores the password or authentication token required to access the email account\n",
    "- `smtp_server`: This variable represents the SMTP server address used for sending emails.\n",
    "- `box`: This variable stores the name or identifier of the mailbox or folder within the email account that will be accessed.\n",
    "- `email_to`: This variable stores the email receiver address.\n",
    "- `email_subject`: This variable stores the email subject.\n",
    "- `email_msg`: This variable stores the email msg."
   ]
  },
  {
   "cell_type": "code",
   "execution_count": null,
   "id": "3853be97-fa0a-4a47-8043-97ef7232ba95",
   "metadata": {
    "papermill": {},
    "tags": []
   },
   "outputs": [],
   "source": [
    "# Inputs\n",
    "username = \"xxxxx@xxxxx\"\n",
    "password = naas.secret.get(\"GMAIL_APP_PASSWORD\") or \"xxxxxxxx\"\n",
    "smtp_server = \"imap.gmail.com\"\n",
    "box = \"INBOX\"\n",
    "\n",
    "# Outputs\n",
    "email_to = \"xxxxx@xxxxx\"\n",
    "email_subject = \"My First Email\"\n",
    "email_msg = \"This is a test email\""
   ]
  },
  {
   "cell_type": "markdown",
   "id": "8161e3c6-1b7d-4ab2-abf6-4bc805b55176",
   "metadata": {
    "papermill": {},
    "tags": []
   },
   "source": [
    "## Model"
   ]
  },
  {
   "cell_type": "markdown",
   "id": "a550bc02-ddcd-4462-8f77-42affeaff73f",
   "metadata": {
    "papermill": {},
    "tags": []
   },
   "source": [
    "### Connect to email box"
   ]
  },
  {
   "cell_type": "code",
   "execution_count": null,
   "id": "ad3f5e9f-4e71-41d0-9af4-8750d59233ef",
   "metadata": {
    "papermill": {},
    "tags": []
   },
   "outputs": [],
   "source": [
    "emails = email.connect(username, password, smtp_server=smtp_server)"
   ]
  },
  {
   "cell_type": "markdown",
   "id": "a9a48516-6f9a-4603-9e97-9bccb128c061",
   "metadata": {
    "papermill": {},
    "tags": []
   },
   "source": [
    "## Output"
   ]
  },
  {
   "cell_type": "markdown",
   "id": "e7638f1a-defb-4faf-bcea-cc082a01c8fa",
   "metadata": {
    "papermill": {},
    "tags": []
   },
   "source": [
    "### Send email"
   ]
  },
  {
   "cell_type": "code",
   "execution_count": null,
   "id": "9582634e-db2a-41ff-b138-84ad5db059bd",
   "metadata": {
    "papermill": {},
    "tags": []
   },
   "outputs": [],
   "source": [
    "emails.send(\n",
    "    email_to=email_to,\n",
    "    subject=email_subject,\n",
    "    content=email_msg\n",
    ")"
   ]
  }
 ],
 "metadata": {
  "kernelspec": {
   "display_name": "Python 3",
   "language": "python",
   "name": "python3"
  },
  "language_info": {
   "codemirror_mode": {
    "name": "ipython",
    "version": 3
   },
   "file_extension": ".py",
   "mimetype": "text/x-python",
   "name": "python",
   "nbconvert_exporter": "python",
   "pygments_lexer": "ipython3",
   "version": "3.9.6"
  },
  "naas": {
   "notebook_id": "8f12ba6e2beed9a59f7b18f42a101ad2d7336041f95eb7e5bd50bb09f6052184",
   "notebook_path": "Gmail/Gmail_Send_email.ipynb"
  },
  "papermill": {
   "default_parameters": {},
   "environment_variables": {},
   "parameters": {},
   "version": "2.4.0"
  },
  "widgets": {
   "application/vnd.jupyter.widget-state+json": {
    "state": {},
    "version_major": 2,
    "version_minor": 0
   }
  }
 },
 "nbformat": 4,
 "nbformat_minor": 5
}