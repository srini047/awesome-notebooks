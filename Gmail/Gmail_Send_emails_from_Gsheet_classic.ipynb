{
 "cells": [
  {
   "cell_type": "markdown",
   "id": "material-creation",
   "metadata": {
    "papermill": {},
    "tags": []
   },
   "source": [
    "<img width=\"10%\" alt=\"Naas\" src=\"https://landen.imgix.net/jtci2pxwjczr/assets/5ice39g4.png?w=160\"/>"
   ]
  },
  {
   "cell_type": "markdown",
   "id": "negative-baking",
   "metadata": {
    "papermill": {},
    "tags": []
   },
   "source": [
    "# Gmail - Send emails from Gsheet classic\n",
    "<a href=\"https://app.naas.ai/user-redirect/naas/downloader?url=https://raw.githubusercontent.com/jupyter-naas/awesome-notebooks/master/Gmail/Gmail_Send_emails_from_Gsheet_classic.ipynb\" target=\"_parent\"><img src=\"https://naasai-public.s3.eu-west-3.amazonaws.com/open_in_naas.svg\"/></a><br><br><a href=\"https://github.com/jupyter-naas/awesome-notebooks/issues/new?assignees=&labels=&template=template-request.md&title=Tool+-+Action+of+the+notebook+\">Template request</a> | <a href=\"https://github.com/jupyter-naas/awesome-notebooks/issues/new?assignees=&labels=bug&template=bug_report.md&title=Gmail+-+Send+emails+from+Gsheet+classic:+Error+short+description\">Bug report</a>"
   ]
  },
  {
   "cell_type": "markdown",
   "id": "tags_cell",
   "metadata": {
    "papermill": {},
    "tags": []
   },
   "source": [
    "**Tags:** #gmail #productivity #gsheet #naas_drivers #operations #snippet #email"
   ]
  },
  {
   "cell_type": "markdown",
   "id": "9c601883-7833-47a9-aad7-a445ad99bff2",
   "metadata": {
    "papermill": {},
    "tags": []
   },
   "source": [
    "**Author:** [Jeremy Ravenel](https://www.linkedin.com/in/ACoAAAJHE7sB5OxuKHuzguZ9L6lfDHqw--cdnJg/)"
   ]
  },
  {
   "cell_type": "markdown",
   "id": "naas-description",
   "metadata": {
    "papermill": {},
    "tags": [
     "description"
    ]
   },
   "source": [
    "**Description:** This notebook allows users to send emails from Google Sheets Classic using their Gmail account."
   ]
  },
  {
   "cell_type": "markdown",
   "id": "input_cell",
   "metadata": {
    "papermill": {},
    "tags": []
   },
   "source": [
    "## Input"
   ]
  },
  {
   "cell_type": "markdown",
   "id": "understanding-allergy",
   "metadata": {
    "papermill": {},
    "tags": []
   },
   "source": [
    "### Import libraries"
   ]
  },
  {
   "cell_type": "code",
   "execution_count": 1,
   "id": "civic-academy",
   "metadata": {
    "papermill": {},
    "tags": []
   },
   "outputs": [],
   "source": [
    "import naas_drivers\n",
    "from naas_drivers import gsheet\n",
    "from naas_drivers import html"
   ]
  },
  {
   "cell_type": "markdown",
   "id": "475a0427-cb72-43ab-957b-69e50efa46ae",
   "metadata": {
    "papermill": {},
    "tags": []
   },
   "source": [
    "### Read the gsheet"
   ]
  },
  {
   "cell_type": "code",
   "execution_count": null,
   "id": "bd107de2-69cd-4bd4-880e-5165310e584e",
   "metadata": {
    "papermill": {},
    "tags": []
   },
   "outputs": [],
   "source": [
    "spreadsheet_id = \"1swGTMX6d_N8-AVRueBEd8C0J6OlvO218iDSVMootWZk\"\n",
    "data = naas_drivers.gsheet.connect(spreadsheet_id).get(sheet_name=\"Sheet1\")"
   ]
  },
  {
   "cell_type": "markdown",
   "id": "accessory-summer",
   "metadata": {
    "papermill": {},
    "tags": []
   },
   "source": [
    "### Setting your email address"
   ]
  },
  {
   "cell_type": "code",
   "execution_count": 2,
   "id": "opening-distance",
   "metadata": {
    "papermill": {},
    "tags": []
   },
   "outputs": [],
   "source": [
    "your_email = \"jeremy.ravenel@cashstory.com\"\n",
    "firstname_list = data[\"FIRST NAME\"]\n",
    "email_list = data[\"EMAIL\"]"
   ]
  },
  {
   "cell_type": "markdown",
   "id": "model_cell",
   "metadata": {
    "papermill": {},
    "tags": []
   },
   "source": [
    "## Model"
   ]
  },
  {
   "cell_type": "markdown",
   "id": "suspended-steam",
   "metadata": {
    "papermill": {},
    "tags": []
   },
   "source": [
    "### Mail preview"
   ]
  },
  {
   "cell_type": "code",
   "execution_count": 3,
   "id": "violent-customs",
   "metadata": {
    "papermill": {},
    "tags": []
   },
   "outputs": [],
   "source": [
    "import naas\n",
    "\n",
    "url_image = naas.assets.add(\"2020.gif\")\n",
    "email_content = naas_drivers.html.generate(\n",
    "    display=\"iframe\",\n",
    "    title=\"🎅 Merry Christmas\",\n",
    "    heading=\"& Happy new year {first_name} 🍾\",\n",
    "    image=f\"{url_image}\",\n",
    "    text_1=\"Even if 2020 has been extremely difficult year, let's make 2021 better!\",\n",
    "    text_2=\"Keep smiling,\",\n",
    "    text_3=\"Keep laughing,\",\n",
    "    text_4=\"Spread love ❤️\",\n",
    ")"
   ]
  },
  {
   "cell_type": "markdown",
   "id": "output_cell",
   "metadata": {
    "papermill": {},
    "tags": []
   },
   "source": [
    "## Output"
   ]
  },
  {
   "cell_type": "markdown",
   "id": "classical-composer",
   "metadata": {
    "papermill": {},
    "tags": []
   },
   "source": [
    "### Sending emails"
   ]
  },
  {
   "cell_type": "code",
   "execution_count": 4,
   "id": "synthetic-anderson",
   "metadata": {
    "papermill": {},
    "tags": []
   },
   "outputs": [],
   "source": [
    "for i in range(len(data)):\n",
    "    subject = \"Merry Christmas & spread love for 2021 ❤️\"\n",
    "    content = email_content.replace(\"{first_name}\", firstname_list[i])\n",
    "    naas.notifications.send(\n",
    "        email_to=email_list[i], subject=subject, html=content, email_from=your_email\n",
    "    )"
   ]
  }
 ],
 "metadata": {
  "kernelspec": {
   "display_name": "Python 3",
   "language": "python",
   "name": "python3"
  },
  "language_info": {
   "codemirror_mode": {
    "name": "ipython",
    "version": 3
   },
   "file_extension": ".py",
   "mimetype": "text/x-python",
   "name": "python",
   "nbconvert_exporter": "python",
   "pygments_lexer": "ipython3",
   "version": "3.9.6"
  },
  "naas": {
   "notebook_id": "3bd09a26-293d-4e3a-9dc7-db99990371d0",
   "notebook_path": "Gmail/Gmail_Send_emails_from_Gsheet_classic.ipynb"
  },
  "papermill": {
   "default_parameters": {},
   "environment_variables": {},
   "parameters": {},
   "version": "2.3.3"
  }
 },
 "nbformat": 4,
 "nbformat_minor": 5
}