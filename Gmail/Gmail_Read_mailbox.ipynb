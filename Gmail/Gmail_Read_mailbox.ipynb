{
 "cells": [
  {
   "cell_type": "markdown",
   "id": "innocent-shock",
   "metadata": {
    "papermill": {},
    "tags": []
   },
   "source": [
    "<img width=\"10%\" alt=\"Naas\" src=\"https://landen.imgix.net/jtci2pxwjczr/assets/5ice39g4.png?w=160\"/>"
   ]
  },
  {
   "cell_type": "markdown",
   "id": "bridal-morocco",
   "metadata": {
    "papermill": {},
    "tags": []
   },
   "source": [
    "# Gmail - Read mailbox\n",
    "<a href=\"https://app.naas.ai/user-redirect/naas/downloader?url=https://raw.githubusercontent.com/jupyter-naas/awesome-notebooks/master/Gmail/Gmail_Read_mailbox.ipynb\" target=\"_parent\"><img src=\"https://naasai-public.s3.eu-west-3.amazonaws.com/open_in_naas.svg\"/></a><br><br><a href=\"https://github.com/jupyter-naas/awesome-notebooks/issues/new?assignees=&labels=&template=template-request.md&title=Tool+-+Action+of+the+notebook+\">Template request</a> | <a href=\"https://github.com/jupyter-naas/awesome-notebooks/issues/new?assignees=&labels=bug&template=bug_report.md&title=Gmail+-+Read+mailbox:+Error+short+description\">Bug report</a>"
   ]
  },
  {
   "cell_type": "markdown",
   "id": "tags_cell",
   "metadata": {
    "papermill": {},
    "tags": []
   },
   "source": [
    "**Tags:** #gmail #productivity #naas_drivers #operations #snippet #dataframe"
   ]
  },
  {
   "cell_type": "markdown",
   "id": "444fb06f-c47d-45c3-a929-3bc21a60f3e7",
   "metadata": {
    "papermill": {},
    "tags": []
   },
   "source": [
    "**Author:** [Martin Donadieu](https://www.linkedin.com/in/martindonadieu)"
   ]
  },
  {
   "cell_type": "markdown",
   "id": "naas-description",
   "metadata": {
    "papermill": {},
    "tags": [
     "description"
    ]
   },
   "source": [
    "**Description:** This notebook allows you to read and manage your Gmail inbox."
   ]
  },
  {
   "cell_type": "markdown",
   "id": "input_cell",
   "metadata": {
    "papermill": {},
    "tags": []
   },
   "source": [
    "## Input"
   ]
  },
  {
   "cell_type": "markdown",
   "id": "002a9c7f-ffd2-4115-972f-005b50ae0b39",
   "metadata": {
    "papermill": {},
    "tags": []
   },
   "source": [
    "### Import librairy"
   ]
  },
  {
   "cell_type": "code",
   "execution_count": null,
   "id": "4c20e16c-a416-42cf-8ab8-b28168f16185",
   "metadata": {
    "papermill": {},
    "tags": []
   },
   "outputs": [],
   "source": [
    "from naas_drivers import email"
   ]
  },
  {
   "cell_type": "markdown",
   "id": "clinical-portland",
   "metadata": {
    "papermill": {},
    "tags": []
   },
   "source": [
    "### Account credentials"
   ]
  },
  {
   "cell_type": "code",
   "execution_count": null,
   "id": "cleared-charter",
   "metadata": {
    "papermill": {},
    "tags": []
   },
   "outputs": [],
   "source": [
    "username = \"*********@gmail.com\"\n",
    "to = \"*********@gmail.com\"\n",
    "password = \"*********\"\n",
    "smtp_server = \"imap.gmail.com\"\n",
    "box = \"INBOX\""
   ]
  },
  {
   "cell_type": "markdown",
   "id": "model_cell",
   "metadata": {
    "papermill": {},
    "tags": []
   },
   "source": [
    "## Model"
   ]
  },
  {
   "cell_type": "markdown",
   "id": "remarkable-apartment",
   "metadata": {
    "papermill": {},
    "tags": []
   },
   "source": [
    "### Connect to email box"
   ]
  },
  {
   "cell_type": "code",
   "execution_count": null,
   "id": "copyrighted-consciousness",
   "metadata": {
    "papermill": {},
    "tags": []
   },
   "outputs": [],
   "source": [
    "emails = email.connect(username, password, username, smtp_server)"
   ]
  },
  {
   "cell_type": "markdown",
   "id": "descending-muslim",
   "metadata": {
    "papermill": {},
    "tags": []
   },
   "source": [
    "### Get email list"
   ]
  },
  {
   "cell_type": "code",
   "execution_count": null,
   "id": "objective-greeting",
   "metadata": {
    "papermill": {},
    "tags": []
   },
   "outputs": [],
   "source": [
    "df = emails.get(criteria=\"unseen\")\n",
    "df"
   ]
  },
  {
   "cell_type": "code",
   "execution_count": null,
   "id": "representative-research",
   "metadata": {
    "papermill": {},
    "tags": []
   },
   "outputs": [],
   "source": [
    "uid_list = df[\"uid\"].tolist()\n",
    "uid_list"
   ]
  },
  {
   "cell_type": "markdown",
   "id": "c612c6ce-7879-40cb-9a6b-f7876d60ca66",
   "metadata": {
    "papermill": {},
    "tags": []
   },
   "source": [
    "### Setup the flags"
   ]
  },
  {
   "cell_type": "code",
   "execution_count": null,
   "id": "e51d0f7c-51a3-4b42-9019-664745cf931b",
   "metadata": {
    "papermill": {},
    "tags": []
   },
   "outputs": [],
   "source": [
    "%%time\n",
    "uid = uid_list\n",
    "flag = \"DELETED\"\n",
    "# possible value for flag:\n",
    "# flag = 'SEEN'\n",
    "# flag = 'ANSWERED'\n",
    "# flag = 'FLAGGED'\n",
    "# flag = 'DELETED'\n",
    "# flag = 'DRAFT'\n",
    "# flag = 'RECENT'"
   ]
  },
  {
   "cell_type": "markdown",
   "id": "output_cell",
   "metadata": {
    "papermill": {},
    "tags": []
   },
   "source": [
    "## Output"
   ]
  },
  {
   "cell_type": "markdown",
   "id": "3c8ceba1-0c57-4dfd-b0a7-bd7a8881908e",
   "metadata": {
    "papermill": {},
    "tags": []
   },
   "source": [
    "### Read mailbox"
   ]
  },
  {
   "cell_type": "code",
   "execution_count": null,
   "id": "consistent-selection",
   "metadata": {
    "papermill": {},
    "tags": []
   },
   "outputs": [],
   "source": [
    "attachments = emails.set_flag(uid, flag, True)"
   ]
  }
 ],
 "metadata": {
  "kernelspec": {
   "display_name": "Python 3",
   "language": "python",
   "name": "python3"
  },
  "language_info": {
   "codemirror_mode": {
    "name": "ipython",
    "version": 3
   },
   "file_extension": ".py",
   "mimetype": "text/x-python",
   "name": "python",
   "nbconvert_exporter": "python",
   "pygments_lexer": "ipython3",
   "version": "3.9.6"
  },
  "naas": {
   "notebook_id": "0963475c-4ee2-41f6-bb91-f57675810373",
   "notebook_path": "Gmail/Gmail_Read_mailbox.ipynb"
  },
  "papermill": {
   "default_parameters": {},
   "environment_variables": {},
   "parameters": {},
   "version": "2.3.3"
  }
 },
 "nbformat": 4,
 "nbformat_minor": 5
}