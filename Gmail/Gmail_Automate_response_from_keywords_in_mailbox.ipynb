{
 "cells": [
  {
   "cell_type": "markdown",
   "id": "stylish-devon",
   "metadata": {
    "papermill": {},
    "tags": []
   },
   "source": [
    "<img width=\"10%\" alt=\"Naas\" src=\"https://landen.imgix.net/jtci2pxwjczr/assets/5ice39g4.png?w=160\"/>"
   ]
  },
  {
   "cell_type": "markdown",
   "id": "hollow-meter",
   "metadata": {
    "papermill": {},
    "tags": []
   },
   "source": [
    "# Gmail - Automate response from keywords in mailbox\n",
    "<a href=\"https://app.naas.ai/user-redirect/naas/downloader?url=https://raw.githubusercontent.com/jupyter-naas/awesome-notebooks/master/Gmail/Gmail_Automate_response_from_keywords_in_mailbox.ipynb\" target=\"_parent\"><img src=\"https://naasai-public.s3.eu-west-3.amazonaws.com/Open_in_Naas_Lab.svg\"/></a><br><br><a href=\"https://github.com/jupyter-naas/awesome-notebooks/issues/new?assignees=&labels=&template=template-request.md&title=Tool+-+Action+of+the+notebook+\">Template request</a> | <a href=\"https://github.com/jupyter-naas/awesome-notebooks/issues/new?assignees=&labels=bug&template=bug_report.md&title=Gmail+-+Automate+response+from+keywords+in+mailbox:+Error+short+description\">Bug report</a> | <a href=\"https://app.naas.ai/user-redirect/naas/downloader?url=https://raw.githubusercontent.com/jupyter-naas/awesome-notebooks/master/Naas/Naas_Start_data_product.ipynb\" target=\"_parent\">Generate Data Product</a>"
   ]
  },
  {
   "cell_type": "markdown",
   "id": "tags_cell",
   "metadata": {
    "papermill": {},
    "tags": []
   },
   "source": [
    "**Tags:** #gmail #productivity #naas_drivers #operations #snippet"
   ]
  },
  {
   "cell_type": "markdown",
   "id": "f2f5fda0-661b-468d-8706-919011a2001f",
   "metadata": {
    "papermill": {},
    "tags": []
   },
   "source": [
    "**Author:** [Sanjay Sabu](https://www.linkedin.com/in/sanjay-sabu-4205/)"
   ]
  },
  {
   "cell_type": "markdown",
   "id": "naas-description",
   "metadata": {
    "papermill": {},
    "tags": [
     "description"
    ]
   },
   "source": [
    "**Description:** This notebook automates the process of responding to emails in Gmail based on keywords found in the mailbox."
   ]
  },
  {
   "cell_type": "markdown",
   "id": "input_cell",
   "metadata": {
    "papermill": {},
    "tags": []
   },
   "source": [
    "## Input"
   ]
  },
  {
   "cell_type": "markdown",
   "id": "76ec8722-a090-4254-9122-eafce55c50a4",
   "metadata": {
    "papermill": {},
    "tags": []
   },
   "source": [
    "### Import librairies"
   ]
  },
  {
   "cell_type": "code",
   "execution_count": null,
   "id": "4c80e882-9ad6-4645-b6cc-28f6d12ea79c",
   "metadata": {
    "papermill": {},
    "tags": []
   },
   "outputs": [],
   "source": [
    "import naas\n",
    "from naas_drivers import email\n",
    "from re import search"
   ]
  },
  {
   "cell_type": "markdown",
   "id": "64a039fa-458e-4505-ac52-76e3ff588b77",
   "metadata": {
    "papermill": {},
    "tags": []
   },
   "source": [
    "### Setup Variables\n",
    "Create an application password following [this procedure](https://support.google.com/mail/answer/185833?hl=en)\n",
    "- `username`: This variable stores the username or email address associated with the email account\n",
    "- `password`: This variable stores the password or authentication token required to access the email account\n",
    "- `smtp_server`: This variable represents the SMTP server address used for sending emails.\n",
    "- `box`: This variable stores the name or identifier of the mailbox or folder within the email account that will be accessed.\n",
    "- `keywords`: This variable stores the keywords to be searched in email text.\n",
    "- `cron`: CRON to be set to schedule your notebook. More info [here](https://crontab.guru/)\n",
    "- `email_to`: This variable stores the emails to received the automatic response.\n",
    "- `subject`: This variable stores the subject of the email response.\n",
    "- `content`: This variable stores the content of the email response.\n",
    "- `files`: This variable stores the files to be sent as attachments."
   ]
  },
  {
   "cell_type": "code",
   "execution_count": null,
   "id": "9ccfeef6-082d-47f5-abe7-26763c9f17b5",
   "metadata": {
    "papermill": {},
    "tags": []
   },
   "outputs": [],
   "source": [
    "# Inputs\n",
    "username = \"xxxxx@xxxxx\"\n",
    "password = naas.secret.get(\"GMAIL_APP_PASSWORD\") or \"xxxxxxxx\"\n",
    "smtp_server = \"imap.gmail.com\"\n",
    "box = \"INBOX\"\n",
    "keywords = \"sales report\"\n",
    "\n",
    "# Outputs\n",
    "cron = \"0 20 * * *\" #everyday at 8PM\n",
    "email_to = \"xxxx@xxxxx\"\n",
    "subject = \"Sales Report\"\n",
    "content = \"Hi \\n,Here I am attaching the sales report as per your request\\n.With Regards\\n,NAAS Team\"\n",
    "files = []"
   ]
  },
  {
   "cell_type": "markdown",
   "id": "971385ae-60a3-4e52-8a40-2203092489c3",
   "metadata": {
    "papermill": {},
    "tags": []
   },
   "source": [
    "## Model"
   ]
  },
  {
   "cell_type": "markdown",
   "id": "d810212d-2d04-4c06-81da-6a1e15efcd54",
   "metadata": {
    "papermill": {},
    "tags": []
   },
   "source": [
    "### Connect to email box"
   ]
  },
  {
   "cell_type": "code",
   "execution_count": null,
   "id": "6d82c7b4-08ff-476f-8635-4fcc3b6cbf24",
   "metadata": {
    "papermill": {},
    "tags": []
   },
   "outputs": [],
   "source": [
    "emails = email.connect(username, password, smtp_server=smtp_server)"
   ]
  },
  {
   "cell_type": "markdown",
   "id": "cabdac70-c82f-42cd-b883-701763f508e7",
   "metadata": {
    "papermill": {},
    "tags": []
   },
   "source": [
    "### Get email list"
   ]
  },
  {
   "cell_type": "code",
   "execution_count": null,
   "id": "ab423a22-beaa-49f7-b880-ac003477aee3",
   "metadata": {
    "papermill": {},
    "tags": []
   },
   "outputs": [],
   "source": [
    "df_emails = emails.get()\n",
    "print(f\"✅ Emails fetched:\", len(df_emails))\n",
    "df_emails.head(1)"
   ]
  },
  {
   "cell_type": "markdown",
   "id": "output_cell",
   "metadata": {
    "papermill": {},
    "tags": []
   },
   "source": [
    "## Output"
   ]
  },
  {
   "cell_type": "markdown",
   "id": "separate-oxford",
   "metadata": {
    "papermill": {},
    "tags": []
   },
   "source": [
    "### Automated reponse"
   ]
  },
  {
   "cell_type": "code",
   "execution_count": 6,
   "id": "affecting-martin",
   "metadata": {
    "papermill": {},
    "tags": []
   },
   "outputs": [],
   "source": [
    "for df in dataframe[\"text\"]:\n",
    "    text = df.lower()\n",
    "    if search(keywords, text):\n",
    "        naas.notifications.send(\n",
    "            email_to=email_to,\n",
    "            subject=subject,\n",
    "            html=content,\n",
    "            files=files\n",
    "        )"
   ]
  },
  {
   "cell_type": "markdown",
   "id": "37221287-3863-4e6e-b002-f960983677e6",
   "metadata": {
    "papermill": {},
    "tags": []
   },
   "source": [
    "### Add scheduler"
   ]
  },
  {
   "cell_type": "code",
   "execution_count": null,
   "id": "745efcc3-e4fb-4b09-bfa3-576cc3e221df",
   "metadata": {
    "papermill": {},
    "tags": []
   },
   "outputs": [],
   "source": [
    "naas.scheduler.add(cron=cron)"
   ]
  }
 ],
 "metadata": {
  "kernelspec": {
   "display_name": "Python 3",
   "language": "python",
   "name": "python3"
  },
  "language_info": {
   "codemirror_mode": {
    "name": "ipython",
    "version": 3
   },
   "file_extension": ".py",
   "mimetype": "text/x-python",
   "name": "python",
   "nbconvert_exporter": "python",
   "pygments_lexer": "ipython3",
   "version": "3.9.6"
  },
  "naas": {
   "notebook_id": "fa79dae352658caaec4422cf9d3df4cb3f10675a6b3d3f8323ec98354f5504af",
   "notebook_path": "Gmail/Gmail_Automate_response_from_keywords_in_mailbox.ipynb"
  },
  "papermill": {
   "default_parameters": {},
   "environment_variables": {},
   "parameters": {},
   "version": "2.3.3"
  }
 },
 "nbformat": 4,
 "nbformat_minor": 5
}