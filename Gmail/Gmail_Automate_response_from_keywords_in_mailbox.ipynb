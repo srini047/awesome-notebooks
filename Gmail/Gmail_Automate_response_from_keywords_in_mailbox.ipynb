{
 "cells": [
  {
   "cell_type": "markdown",
   "id": "stylish-devon",
   "metadata": {
    "papermill": {},
    "tags": []
   },
   "source": [
    "<img width=\"10%\" alt=\"Naas\" src=\"https://landen.imgix.net/jtci2pxwjczr/assets/5ice39g4.png?w=160\"/>"
   ]
  },
  {
   "cell_type": "markdown",
   "id": "hollow-meter",
   "metadata": {
    "papermill": {},
    "tags": []
   },
   "source": [
    "# Gmail - Automate response from keywords in mailbox\n",
    "<a href=\"https://app.naas.ai/user-redirect/naas/downloader?url=https://raw.githubusercontent.com/jupyter-naas/awesome-notebooks/master/Gmail/Gmail_Automate_response_from_keywords_in_mailbox.ipynb\" target=\"_parent\"><img src=\"https://naasai-public.s3.eu-west-3.amazonaws.com/open_in_naas.svg\"/></a><br><br><a href=\"https://github.com/jupyter-naas/awesome-notebooks/issues/new?assignees=&labels=&template=template-request.md&title=Tool+-+Action+of+the+notebook+\">Template request</a> | <a href=\"https://github.com/jupyter-naas/awesome-notebooks/issues/new?assignees=&labels=bug&template=bug_report.md&title=Gmail+-+Automate+response+from+keywords+in+mailbox:+Error+short+description\">Bug report</a>"
   ]
  },
  {
   "cell_type": "markdown",
   "id": "tags_cell",
   "metadata": {
    "papermill": {},
    "tags": []
   },
   "source": [
    "**Tags:** #gmail #productivity #naas_drivers #operations #snippet"
   ]
  },
  {
   "cell_type": "markdown",
   "id": "f2f5fda0-661b-468d-8706-919011a2001f",
   "metadata": {
    "papermill": {},
    "tags": []
   },
   "source": [
    "**Author:** [Sanjay Sabu](https://www.linkedin.com/in/sanjay-sabu-4205/)"
   ]
  },
  {
   "cell_type": "markdown",
   "id": "naas-description",
   "metadata": {
    "papermill": {},
    "tags": [
     "description"
    ]
   },
   "source": [
    "**Description:** This notebook automates the process of responding to emails in Gmail based on keywords found in the mailbox."
   ]
  },
  {
   "cell_type": "markdown",
   "id": "input_cell",
   "metadata": {
    "papermill": {},
    "tags": []
   },
   "source": [
    "## Input"
   ]
  },
  {
   "cell_type": "markdown",
   "id": "76ec8722-a090-4254-9122-eafce55c50a4",
   "metadata": {
    "papermill": {},
    "tags": []
   },
   "source": [
    "### Import librairies"
   ]
  },
  {
   "cell_type": "code",
   "execution_count": null,
   "id": "4c80e882-9ad6-4645-b6cc-28f6d12ea79c",
   "metadata": {
    "papermill": {},
    "tags": []
   },
   "outputs": [],
   "source": [
    "import naas\n",
    "from naas_drivers import email\n",
    "from re import search"
   ]
  },
  {
   "cell_type": "markdown",
   "id": "charged-explosion",
   "metadata": {
    "papermill": {},
    "tags": []
   },
   "source": [
    "### Account credentials"
   ]
  },
  {
   "cell_type": "code",
   "execution_count": 1,
   "id": "operating-princeton",
   "metadata": {
    "papermill": {},
    "tags": []
   },
   "outputs": [],
   "source": [
    "username = \"**********@gmail.com\"\n",
    "to = \"**********@gmail.com\"\n",
    "password = \"**********\"\n",
    "smtp_server = \"imap.gmail.com\"\n",
    "box = \"INBOX\""
   ]
  },
  {
   "cell_type": "markdown",
   "id": "model_cell",
   "metadata": {
    "papermill": {},
    "tags": []
   },
   "source": [
    "## Model"
   ]
  },
  {
   "cell_type": "markdown",
   "id": "coastal-disposition",
   "metadata": {
    "papermill": {},
    "tags": []
   },
   "source": [
    "### Connect to email box"
   ]
  },
  {
   "cell_type": "code",
   "execution_count": 2,
   "id": "cardiovascular-metallic",
   "metadata": {
    "papermill": {},
    "tags": []
   },
   "outputs": [],
   "source": [
    "emails = email.connect(username, password, username, smtp_server)"
   ]
  },
  {
   "cell_type": "markdown",
   "id": "lasting-review",
   "metadata": {
    "papermill": {},
    "tags": []
   },
   "source": [
    "### Get email list"
   ]
  },
  {
   "cell_type": "code",
   "execution_count": 3,
   "id": "experienced-denver",
   "metadata": {
    "papermill": {},
    "tags": []
   },
   "outputs": [],
   "source": [
    "dataframe = emails.get(criteria=\"ALL\")\n",
    "df"
   ]
  },
  {
   "cell_type": "markdown",
   "id": "output_cell",
   "metadata": {
    "papermill": {},
    "tags": []
   },
   "source": [
    "## Output"
   ]
  },
  {
   "cell_type": "markdown",
   "id": "separate-oxford",
   "metadata": {
    "papermill": {},
    "tags": []
   },
   "source": [
    "### Automated reponse"
   ]
  },
  {
   "cell_type": "code",
   "execution_count": 6,
   "id": "affecting-martin",
   "metadata": {
    "papermill": {},
    "tags": []
   },
   "outputs": [],
   "source": [
    "for df in dataframe[\"text\"]:\n",
    "    text = df.lower()\n",
    "    if search(\"sales report\", text):\n",
    "        email_to = \"naas.sanjay22@gmail.com\"\n",
    "        subject = \"Sales Report\"\n",
    "        content = \"Hi \\n,Here I am attaching the sales report as per your request\\n.With Regards\\n,NAAS Team\"\n",
    "        files = [\"Excel-Sales_Feb2020.csv\"]\n",
    "        naas.notifications.send(\n",
    "            email_to=email_to, subject=subject, html=content, files=files\n",
    "        )"
   ]
  }
 ],
 "metadata": {
  "kernelspec": {
   "display_name": "Python 3",
   "language": "python",
   "name": "python3"
  },
  "language_info": {
   "codemirror_mode": {
    "name": "ipython",
    "version": 3
   },
   "file_extension": ".py",
   "mimetype": "text/x-python",
   "name": "python",
   "nbconvert_exporter": "python",
   "pygments_lexer": "ipython3",
   "version": "3.9.6"
  },
  "naas": {
   "notebook_id": "988f75b3-87a5-4a49-a7f9-8f4d1eb4e5af",
   "notebook_path": "Gmail/Gmail_Automate_response_from_keywords_in_mailbox.ipynb"
  },
  "papermill": {
   "default_parameters": {},
   "environment_variables": {},
   "parameters": {},
   "version": "2.3.3"
  }
 },
 "nbformat": 4,
 "nbformat_minor": 5
}