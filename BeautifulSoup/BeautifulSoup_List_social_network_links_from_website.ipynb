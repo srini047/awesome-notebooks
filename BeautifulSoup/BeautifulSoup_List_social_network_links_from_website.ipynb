{
 "cells": [
  {
   "cell_type": "markdown",
   "id": "daba7cc8-d507-422a-ae76-9cea8809a646",
   "metadata": {
    "papermill": {},
    "tags": []
   },
   "source": [
    "<img width=\"10%\" alt=\"Naas\" src=\"https://landen.imgix.net/jtci2pxwjczr/assets/5ice39g4.png?w=160\"/>"
   ]
  },
  {
   "cell_type": "markdown",
   "id": "2778f16d-7641-4958-bc78-3dde9c493d65",
   "metadata": {
    "papermill": {},
    "tags": []
   },
   "source": [
    "# BeautifulSoup - List social network links from website\n",
    "<a href=\"https://app.naas.ai/user-redirect/naas/downloader?url=https://raw.githubusercontent.com/jupyter-naas/awesome-notebooks/master/BeautifulSoup/BeautifulSoup_List_social_network_links_from_website.ipynb\" target=\"_parent\"><img src=\"https://naasai-public.s3.eu-west-3.amazonaws.com/Open_in_Naas_Lab.svg\"/></a><br><br><a href=\"https://github.com/jupyter-naas/awesome-notebooks/issues/new?assignees=&labels=&template=template-request.md&title=Tool+-+Action+of+the+notebook+\">Template request</a> | <a href=\"https://github.com/jupyter-naas/awesome-notebooks/issues/new?assignees=&labels=bug&template=bug_report.md&title=BeautifulSoup+-+List+social+network+links+from+website:+Error+short+description\">Bug report</a> | <a href=\"https://app.naas.ai/user-redirect/naas/downloader?url=https://raw.githubusercontent.com/jupyter-naas/awesome-notebooks/master/Naas/Naas_Start_data_product.ipynb\" target=\"_parent\">Generate Data Product</a>"
   ]
  },
  {
   "cell_type": "markdown",
   "id": "436de4d9-0aa7-4fdd-95bb-657b16731f56",
   "metadata": {
    "papermill": {},
    "tags": []
   },
   "source": [
    "**Tags:** #beautifulsoup #webscraping #python #html #css #url"
   ]
  },
  {
   "cell_type": "markdown",
   "id": "3d023e43-fcae-45cd-92e3-64b54ed0e226",
   "metadata": {
    "papermill": {},
    "tags": []
   },
   "source": [
    "**Author:** [Florent Ravenel](https://www.linkedin.com/in/florent-ravenel/)"
   ]
  },
  {
   "cell_type": "markdown",
   "id": "8f1a033f-9362-43d8-8a8f-1878bd2115c4",
   "metadata": {
    "papermill": {},
    "tags": []
   },
   "source": [
    "**Description:** This notebook will use BeautifulSoup to list all the social network links from a website. It is usefull for organizations to quickly get a list of all the social networks they are present on."
   ]
  },
  {
   "cell_type": "markdown",
   "id": "5a50c831-2700-4fb5-acee-ed0513446815",
   "metadata": {
    "papermill": {},
    "tags": []
   },
   "source": [
    "**References:**\n",
    "- [BeautifulSoup Documentation](https://www.crummy.com/software/BeautifulSoup/bs4/doc/)"
   ]
  },
  {
   "cell_type": "markdown",
   "id": "3281c040-68a7-4cc6-8d6d-7b2a03fdc5e0",
   "metadata": {
    "papermill": {},
    "tags": []
   },
   "source": [
    "## Input"
   ]
  },
  {
   "cell_type": "markdown",
   "id": "9df24602-3917-4f76-b29a-2be92dea558d",
   "metadata": {
    "papermill": {},
    "tags": []
   },
   "source": [
    "### Import libraries"
   ]
  },
  {
   "cell_type": "code",
   "execution_count": null,
   "id": "07f7c93e-5f43-4084-a434-d3a591046738",
   "metadata": {
    "papermill": {},
    "tags": []
   },
   "outputs": [],
   "source": [
    "import requests\n",
    "from bs4 import BeautifulSoup"
   ]
  },
  {
   "cell_type": "markdown",
   "id": "f0fc7961-2be2-4c4e-a915-e5683952df41",
   "metadata": {
    "papermill": {},
    "tags": []
   },
   "source": [
    "### Setup Variables\n",
    "- `url`: The URL of the website you want to extract social network links from\n",
    "- `social_network_links`: List of social network links extracted from website"
   ]
  },
  {
   "cell_type": "code",
   "execution_count": null,
   "id": "8f88972c-5b30-4656-9e8f-6e9215665131",
   "metadata": {
    "papermill": {},
    "tags": []
   },
   "outputs": [],
   "source": [
    "# Inputs\n",
    "url = \"https://www.naas.ai/\"\n",
    "\n",
    "# Outputs\n",
    "social_network_links = []"
   ]
  },
  {
   "cell_type": "markdown",
   "id": "b3947efc-987a-417e-b743-7f7aa4f41cb8",
   "metadata": {
    "papermill": {},
    "tags": []
   },
   "source": [
    "## Model"
   ]
  },
  {
   "cell_type": "markdown",
   "id": "e8d53777-9a93-49ee-a8e7-79bbdf27e029",
   "metadata": {
    "papermill": {},
    "tags": []
   },
   "source": [
    "### Get social network links"
   ]
  },
  {
   "cell_type": "code",
   "execution_count": null,
   "id": "2577d407-9da1-431a-b11c-2624a8b749e0",
   "metadata": {
    "papermill": {},
    "tags": []
   },
   "outputs": [],
   "source": [
    "def get_social_network_links(url, social_network_links):\n",
    "    # Make a GET request to the URL and get the HTML content\n",
    "    response = requests.get(url)\n",
    "    html_content = response.text\n",
    "\n",
    "    # Create a BeautifulSoup object to parse the HTML content\n",
    "    soup = BeautifulSoup(html_content, 'html.parser')\n",
    "\n",
    "    # Find all the links on the page\n",
    "    links = soup.find_all('a')\n",
    "\n",
    "    # Loop through the links and find the social network links\n",
    "    social_networks = ['facebook', 'twitter', 'linkedin', 'instagram', 'github', 'youtube']\n",
    "    for link in links:\n",
    "        href = link.get('href')\n",
    "        if href:\n",
    "            if \"github\" in href:\n",
    "                org = href.split(\"github.com/\")[-1].split(\"/\")[0]\n",
    "                if org not in [\"orgs\", \"sponsors\"]:\n",
    "                    href = f'https://github.com/{org}'\n",
    "                else:\n",
    "                    href = \"\"\n",
    "            for social in social_networks:\n",
    "                if social in href:   \n",
    "                    if href not in social_network_links:\n",
    "                        social_network_links.append(href)\n",
    "    return social_network_links"
   ]
  },
  {
   "cell_type": "markdown",
   "id": "cb5902d1-db8b-4fbd-bbf2-4b660c21a5f2",
   "metadata": {
    "papermill": {},
    "tags": []
   },
   "source": [
    "## Output"
   ]
  },
  {
   "cell_type": "markdown",
   "id": "e9505d22-4ebb-4113-b1c8-8ae33d65a36b",
   "metadata": {
    "papermill": {},
    "tags": []
   },
   "source": [
    "### Display the social network links"
   ]
  },
  {
   "cell_type": "code",
   "execution_count": null,
   "id": "92c2d4d5-58c6-48da-ae99-ad5bfc5b97b9",
   "metadata": {
    "papermill": {},
    "tags": []
   },
   "outputs": [],
   "source": [
    "social_network_links = get_social_network_links(url, social_network_links)\n",
    "social_network_links"
   ]
  },
  {
   "cell_type": "markdown",
   "id": "e3c324dc-fea0-47da-8f89-2747ab5fa5c0",
   "metadata": {
    "papermill": {},
    "tags": []
   },
   "source": [
    " "
   ]
  }
 ],
 "metadata": {
  "kernelspec": {
   "display_name": "Python 3",
   "language": "python",
   "name": "python3"
  },
  "language_info": {
   "codemirror_mode": {
    "name": "ipython",
    "version": 3
   },
   "file_extension": ".py",
   "mimetype": "text/x-python",
   "name": "python",
   "nbconvert_exporter": "python",
   "pygments_lexer": "ipython3",
   "version": "3.9.6"
  },
  "naas": {
   "notebook_id": "200a5dcebfc9ff32f08e84aaba44cb6125fbc8bbde5f686f467b8626c7ef5f78",
   "notebook_path": "BeautifulSoup/BeautifulSoup_List_social_network_links_from_website.ipynb"
  },
  "papermill": {
   "default_parameters": {},
   "environment_variables": {},
   "parameters": {},
   "version": "2.4.0"
  },
  "widgets": {
   "application/vnd.jupyter.widget-state+json": {
    "state": {},
    "version_major": 2,
    "version_minor": 0
   }
  }
 },
 "nbformat": 4,
 "nbformat_minor": 5
}