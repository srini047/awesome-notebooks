{
 "cells": [
  {
   "cell_type": "markdown",
   "id": "driving-madagascar",
   "metadata": {
    "papermill": {},
    "tags": []
   },
   "source": [
    "<img width=\"10%\" alt=\"Naas\" src=\"https://landen.imgix.net/jtci2pxwjczr/assets/5ice39g4.png?w=160\"/>"
   ]
  },
  {
   "cell_type": "markdown",
   "id": "adjustable-folks",
   "metadata": {
    "papermill": {},
    "tags": []
   },
   "source": [
    "# Streamlit - Create prediction app\n",
    "<a href=\"https://app.naas.ai/user-redirect/naas/downloader?url=https://raw.githubusercontent.com/jupyter-naas/awesome-notebooks/master/Streamlit/Streamlit_Create_prediction_app.ipynb\" target=\"_parent\"><img src=\"https://naasai-public.s3.eu-west-3.amazonaws.com/open_in_naas.svg\"/></a><br><br><a href=\"https://github.com/jupyter-naas/awesome-notebooks/issues/new?assignees=&labels=&template=template-request.md&title=Tool+-+Action+of+the+notebook+\">Template request</a> | <a href=\"https://github.com/jupyter-naas/awesome-notebooks/issues/new?assignees=&labels=bug&template=bug_report.md&title=Streamlit+-+Create+prediction+app:+Error+short+description\">Bug report</a>"
   ]
  },
  {
   "cell_type": "markdown",
   "id": "b23508f9-4ddc-40e1-9ccc-d1e3b8ab956c",
   "metadata": {
    "papermill": {},
    "tags": []
   },
   "source": [
    "**Tags:** #streamlit #app #ml #ai #operations #plotly"
   ]
  },
  {
   "cell_type": "markdown",
   "id": "naas-author",
   "metadata": {
    "papermill": {},
    "tags": [
     "naas"
    ]
   },
   "source": [
    "**Author:** [Gagan Bhatia](https://github.com/gagan3012)"
   ]
  },
  {
   "cell_type": "markdown",
   "id": "naas-description",
   "metadata": {
    "papermill": {},
    "tags": [
     "description"
    ]
   },
   "source": [
    "**Description:** This notebook provides a step-by-step guide to creating a Streamlit app that can make predictions based on user input."
   ]
  },
  {
   "cell_type": "markdown",
   "id": "electrical-harris",
   "metadata": {
    "execution": {
     "iopub.execute_input": "2021-08-11T14:18:57.340768Z",
     "iopub.status.busy": "2021-08-11T14:18:57.340505Z",
     "iopub.status.idle": "2021-08-11T14:18:57.343913Z",
     "shell.execute_reply": "2021-08-11T14:18:57.343302Z",
     "shell.execute_reply.started": "2021-08-11T14:18:57.340705Z"
    },
    "papermill": {},
    "tags": []
   },
   "source": [
    "## Input"
   ]
  },
  {
   "cell_type": "markdown",
   "id": "import_cell",
   "metadata": {
    "papermill": {},
    "tags": []
   },
   "source": [
    "### Import library"
   ]
  },
  {
   "cell_type": "code",
   "execution_count": 1,
   "id": "1be51837-a382-4dad-a747-8326fce33fe1",
   "metadata": {
    "execution": {
     "iopub.execute_input": "2022-08-01T15:23:18.849080Z",
     "iopub.status.busy": "2022-08-01T15:23:18.846455Z",
     "iopub.status.idle": "2022-08-01T15:23:18.955056Z",
     "shell.execute_reply": "2022-08-01T15:23:18.954382Z",
     "shell.execute_reply.started": "2022-08-01T15:23:18.848982Z"
    },
    "papermill": {},
    "tags": []
   },
   "outputs": [],
   "source": [
    "from naas_drivers import streamlit"
   ]
  },
  {
   "cell_type": "markdown",
   "id": "19999f08-f203-47af-8072-57d2c8ebd17a",
   "metadata": {
    "papermill": {},
    "tags": []
   },
   "source": [
    "## Model"
   ]
  },
  {
   "cell_type": "markdown",
   "id": "17368124-cecc-4cdb-b786-e2e4bc8d000c",
   "metadata": {
    "execution": {
     "iopub.execute_input": "2021-09-01T19:13:11.337260Z",
     "iopub.status.busy": "2021-09-01T19:13:11.336973Z",
     "iopub.status.idle": "2021-09-01T19:13:11.348953Z",
     "shell.execute_reply": "2021-09-01T19:13:11.348012Z",
     "shell.execute_reply.started": "2021-09-01T19:13:11.337169Z"
    },
    "papermill": {},
    "tags": []
   },
   "source": [
    "Create the Python file necessary to deploy Streamlit app."
   ]
  },
  {
   "cell_type": "code",
   "execution_count": 2,
   "id": "light-symbol",
   "metadata": {
    "execution": {
     "iopub.execute_input": "2022-08-01T15:23:18.956545Z",
     "iopub.status.busy": "2022-08-01T15:23:18.956330Z",
     "iopub.status.idle": "2022-08-01T15:23:19.025048Z",
     "shell.execute_reply": "2022-08-01T15:23:19.024381Z",
     "shell.execute_reply.started": "2022-08-01T15:23:18.956515Z"
    },
    "papermill": {},
    "tags": []
   },
   "outputs": [],
   "source": [
    "%%writefile streamlit_app.py\n",
    "\n",
    "from naas_drivers import streamlit, plotly, yahoofinance, prediction\n",
    "import streamlit as st\n",
    "\n",
    "TICKER = \"TSLA\"\n",
    "date_from = -100 # 1OO days max to feed the naas_driver for prediction\n",
    "date_to = \"today\"\n",
    "DATA_POINT = 20\n",
    "\n",
    "df_yahoo = yahoofinance.get(tickers=TICKER,\n",
    "                            date_from=date_from,\n",
    "                            date_to=date_to).dropna().reset_index(drop=True)\n",
    "\n",
    "df_predict = prediction.get(dataset=df_yahoo,\n",
    "                            date_column='Date',\n",
    "                            column=\"Close\",\n",
    "                            data_points=DATA_POINT,\n",
    "                            prediction_type=\"all\").sort_values(\"Date\", ascending=False).reset_index(drop=True)\n",
    "\n",
    "fig = plotly.linechart(df_predict,\n",
    "                       x=\"Date\",\n",
    "                       y=[\"Close\", \"ARIMA\", \"SVR\", \"LINEAR\", \"COMPOUND\"],\n",
    "                       showlegend=True,\n",
    "                       title=f\"{TICKER} predictions as of today, for next {str(DATA_POINT)} days.\")\n",
    "\n",
    "\n",
    "\n",
    "st.write(\"# Prediction for {}\".format(TICKER))\n",
    "st.plotly_chart(fig, width=1200)"
   ]
  },
  {
   "cell_type": "markdown",
   "id": "enormous-hamburg",
   "metadata": {
    "papermill": {},
    "tags": []
   },
   "source": [
    "## Output"
   ]
  },
  {
   "cell_type": "markdown",
   "id": "81f02b09-09f1-495e-a250-da76f85e1ee8",
   "metadata": {
    "papermill": {},
    "tags": []
   },
   "source": [
    "### Deploy the app from Python file and serve the URL where the app is exposed."
   ]
  },
  {
   "cell_type": "code",
   "execution_count": null,
   "id": "received-leadership",
   "metadata": {
    "execution": {
     "iopub.execute_input": "2022-08-01T15:23:19.026412Z",
     "iopub.status.busy": "2022-08-01T15:23:19.026167Z"
    },
    "papermill": {},
    "tags": []
   },
   "outputs": [],
   "source": [
    "streamlit.add(\"streamlit_app.py\", port=9999, debug=True)"
   ]
  },
  {
   "cell_type": "code",
   "execution_count": null,
   "id": "f95a700c-443d-43ac-bf47-c8605757b79a",
   "metadata": {
    "papermill": {},
    "tags": []
   },
   "outputs": [],
   "source": []
  }
 ],
 "metadata": {
  "kernelspec": {
   "display_name": "Python 3",
   "language": "python",
   "name": "python3"
  },
  "language_info": {
   "codemirror_mode": {
    "name": "ipython",
    "version": 3
   },
   "file_extension": ".py",
   "mimetype": "text/x-python",
   "name": "python",
   "nbconvert_exporter": "python",
   "pygments_lexer": "ipython3",
   "version": "3.9.6"
  },
  "naas": {
   "notebook_id": "a4661997-32fa-4037-8a01-5acd80f44454",
   "notebook_path": "Streamlit/Streamlit_Create_prediction_app.ipynb"
  },
  "papermill": {
   "default_parameters": {},
   "environment_variables": {},
   "parameters": {},
   "version": "2.3.3"
  },
  "widgets": {
   "application/vnd.jupyter.widget-state+json": {
    "state": {},
    "version_major": 2,
    "version_minor": 0
   }
  }
 },
 "nbformat": 4,
 "nbformat_minor": 5
}