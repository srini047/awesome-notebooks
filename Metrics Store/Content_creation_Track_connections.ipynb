{
 "cells": [
  {
   "cell_type": "markdown",
   "id": "790a2ffe-398a-4c10-b377-8bb9b05152f5",
   "metadata": {
    "execution": {
     "iopub.execute_input": "2022-02-14T21:40:59.534439Z",
     "iopub.status.busy": "2022-02-14T21:40:59.534105Z",
     "iopub.status.idle": "2022-02-14T21:40:59.556024Z",
     "shell.execute_reply": "2022-02-14T21:40:59.555068Z",
     "shell.execute_reply.started": "2022-02-14T21:40:59.534351Z"
    },
    "papermill": {},
    "tags": []
   },
   "source": [
    "<img width=\"10%\" alt=\"Naas\" src=\"https://landen.imgix.net/jtci2pxwjczr/assets/5ice39g4.png?w=160\"/>"
   ]
  },
  {
   "cell_type": "markdown",
   "id": "7f52f767-7389-47bf-9b53-d83ea654ebf9",
   "metadata": {
    "papermill": {},
    "tags": []
   },
   "source": [
    "# Metrics Store - Content creation Track connections\n",
    "<a href=\"https://app.naas.ai/user-redirect/naas/downloader?url=https://raw.githubusercontent.com/jupyter-naas/awesome-notebooks/master/Metrics%20Store/Content_creation_Track_connections.ipynb\" target=\"_parent\"><img src=\"https://naasai-public.s3.eu-west-3.amazonaws.com/open_in_naas.svg\"/></a><br><br><a href=\"https://github.com/jupyter-naas/awesome-notebooks/issues/new?assignees=&labels=&template=template-request.md&title=Tool+-+Action+of+the+notebook+\">Template request</a> | <a href=\"https://github.com/jupyter-naas/awesome-notebooks/issues/new?assignees=&labels=bug&template=bug_report.md&title=Metrics+Store+-+Content+creation+Track+connections:+Error+short+description\">Bug report</a>"
   ]
  },
  {
   "cell_type": "markdown",
   "id": "73e5ff8e-3f65-4ec0-8b7c-f68e208c3e29",
   "metadata": {
    "papermill": {},
    "tags": []
   },
   "source": [
    "**Tags:** #metricsstore #metrics #content-creation #connections #content #snippet #plotly"
   ]
  },
  {
   "cell_type": "markdown",
   "id": "cc237d3d-af15-4f7b-ab43-5dc1f9d05eba",
   "metadata": {
    "execution": {
     "iopub.execute_input": "2022-02-16T17:53:42.764351Z",
     "iopub.status.busy": "2022-02-16T17:53:42.764070Z",
     "iopub.status.idle": "2022-02-16T17:53:42.781996Z",
     "shell.execute_reply": "2022-02-16T17:53:42.780999Z",
     "shell.execute_reply.started": "2022-02-16T17:53:42.764286Z"
    },
    "papermill": {},
    "tags": []
   },
   "source": [
    "**Author:** [Riddhi Deshpande](https://www.linkedin.com/in/riddhideshpande/)"
   ]
  },
  {
   "cell_type": "markdown",
   "id": "naas-description",
   "metadata": {
    "papermill": {},
    "tags": [
     "description"
    ]
   },
   "source": [
    "**Description:** This notebook allows users to track connections related to content creation for the Metrics Store."
   ]
  },
  {
   "cell_type": "markdown",
   "id": "4184811f-9750-402f-a725-7aaee5738380",
   "metadata": {
    "execution": {
     "iopub.execute_input": "2022-02-14T21:43:41.818372Z",
     "iopub.status.busy": "2022-02-14T21:43:41.818155Z",
     "iopub.status.idle": "2022-02-14T21:43:41.821122Z",
     "shell.execute_reply": "2022-02-14T21:43:41.820495Z",
     "shell.execute_reply.started": "2022-02-14T21:43:41.818350Z"
    },
    "papermill": {},
    "tags": []
   },
   "source": [
    "## Input"
   ]
  },
  {
   "cell_type": "markdown",
   "id": "b2297a33-aa08-4193-ac39-7218761ce7d9",
   "metadata": {
    "papermill": {},
    "tags": []
   },
   "source": [
    "### Import library"
   ]
  },
  {
   "cell_type": "code",
   "execution_count": 1,
   "id": "316455c0-2406-42f4-b396-b3753fa78bee",
   "metadata": {
    "execution": {
     "iopub.execute_input": "2022-02-16T18:05:13.439829Z",
     "iopub.status.busy": "2022-02-16T18:05:13.439406Z",
     "iopub.status.idle": "2022-02-16T18:05:15.503170Z",
     "shell.execute_reply": "2022-02-16T18:05:15.502573Z",
     "shell.execute_reply.started": "2022-02-16T18:05:13.439758Z"
    },
    "papermill": {},
    "tags": []
   },
   "outputs": [],
   "source": [
    "from naas_drivers import notion\n",
    "import naas\n",
    "import pandas as pd\n",
    "import plotly.express as px"
   ]
  },
  {
   "cell_type": "markdown",
   "id": "585d01b8-1ef8-4cfc-b451-5e120aeccac2",
   "metadata": {
    "papermill": {},
    "tags": []
   },
   "source": [
    "### Variables"
   ]
  },
  {
   "cell_type": "code",
   "execution_count": 2,
   "id": "eb5b442e-5430-4a89-997c-85c432dfbba9",
   "metadata": {
    "execution": {
     "iopub.execute_input": "2022-02-16T18:05:15.504519Z",
     "iopub.status.busy": "2022-02-16T18:05:15.504298Z",
     "iopub.status.idle": "2022-02-16T18:05:15.507542Z",
     "shell.execute_reply": "2022-02-16T18:05:15.506964Z",
     "shell.execute_reply.started": "2022-02-16T18:05:15.504491Z"
    },
    "papermill": {},
    "tags": []
   },
   "outputs": [],
   "source": [
    "# Input\n",
    "notion_token = \"secret_ALstzXsSXoF9zbcUakMYE1OufXHVOkb35v1rYBTzz54\"\n",
    "notion_database = \"https://www.notion.so/naas-official/37a23cbfaac5445690301dfd49f035d3?v=8ab1b2f3847d4067ac5ae19a799c7dcb\"\n",
    "\n",
    "# Output\n",
    "output_html = \"ContentCreator_No_connections.csv\""
   ]
  },
  {
   "cell_type": "markdown",
   "id": "6cfcb068-551e-421d-86ce-4c5fdda17873",
   "metadata": {
    "papermill": {},
    "tags": []
   },
   "source": [
    "### Get data"
   ]
  },
  {
   "cell_type": "code",
   "execution_count": 3,
   "id": "38819340-8be8-4c6e-aa48-9a79338b8184",
   "metadata": {
    "execution": {
     "iopub.execute_input": "2022-02-16T18:05:15.508840Z",
     "iopub.status.busy": "2022-02-16T18:05:15.508481Z",
     "iopub.status.idle": "2022-02-16T18:05:45.242823Z",
     "shell.execute_reply": "2022-02-16T18:05:45.242112Z",
     "shell.execute_reply.started": "2022-02-16T18:05:15.508812Z"
    },
    "papermill": {},
    "tags": []
   },
   "outputs": [],
   "source": [
    "# Get database object\n",
    "db_notion = notion.connect(notion_token).database.get(notion_database)\n",
    "\n",
    "# Get database as dataframe\n",
    "df_notion = db_notion.df()\n",
    "df_notion.VALUE = df_notion.VALUE.astype(float)\n",
    "df_notion"
   ]
  },
  {
   "cell_type": "markdown",
   "id": "ef20311a-4e51-44f8-b0ce-3a8072b943af",
   "metadata": {
    "papermill": {},
    "tags": []
   },
   "source": [
    "## Model"
   ]
  },
  {
   "cell_type": "markdown",
   "id": "1cddb138-0675-4aec-bfd3-f110a077a5b6",
   "metadata": {
    "papermill": {},
    "tags": []
   },
   "source": [
    "### Create a line chart and add color parameters to distinct groups"
   ]
  },
  {
   "cell_type": "code",
   "execution_count": 4,
   "id": "6ab55f68-6543-4401-b16e-9066b89dd892",
   "metadata": {
    "execution": {
     "iopub.execute_input": "2022-02-16T18:05:45.244535Z",
     "iopub.status.busy": "2022-02-16T18:05:45.244072Z",
     "iopub.status.idle": "2022-02-16T18:05:48.794048Z",
     "shell.execute_reply": "2022-02-16T18:05:48.793436Z",
     "shell.execute_reply.started": "2022-02-16T18:05:45.244499Z"
    },
    "papermill": {},
    "tags": []
   },
   "outputs": [],
   "source": [
    "fig = px.line(data_frame=df_notion, x=\"DATE\", y=\"VALUE\", color=\"GROUP\")\n",
    "\n",
    "# add button control to chart\n",
    "fig.update_layout(\n",
    "    title=f\"🚀<b> Number of Connections</b><br><span style='font-size: 13px;'></span>\",\n",
    "    title_font=dict(family=\"Arial\", size=18, color=\"black\"),\n",
    "    legend_title=None,\n",
    "    plot_bgcolor=\"#ffffff\",\n",
    "    width=1200,\n",
    "    height=800,\n",
    "    paper_bgcolor=\"white\",\n",
    "    xaxis_title=\"Date\",\n",
    "    xaxis_title_font=dict(family=\"Arial\", size=11, color=\"black\"),\n",
    "    yaxis_title=\"No. of connections\",\n",
    "    yaxis_title_font=dict(family=\"Arial\", size=11, color=\"black\"),\n",
    "    margin_pad=10,\n",
    "    updatemenus=[\n",
    "        dict(\n",
    "            active=0,\n",
    "            buttons=list(\n",
    "                [\n",
    "                    dict(\n",
    "                        label=\"Both\",\n",
    "                        method=\"update\",\n",
    "                        args=[{\"visible\": [True, True]}, {\"title\": \"Both\"}],\n",
    "                    ),\n",
    "                    dict(\n",
    "                        label=\"Twitter\",\n",
    "                        method=\"update\",\n",
    "                        args=[{\"visible\": [True, False]}, {\"title\": \"Twitter\"}],\n",
    "                    ),\n",
    "                    dict(\n",
    "                        label=\"Linkedin\",\n",
    "                        method=\"update\",\n",
    "                        args=[{\"visible\": [False, True]}, {\"title\": \"Linkedin\"}],\n",
    "                    ),\n",
    "                ]\n",
    "            ),\n",
    "            pad={\"r\": -80, \"t\": -40},\n",
    "            direction=\"down\",\n",
    "            x=1,\n",
    "            xanchor=\"left\",\n",
    "            y=1,\n",
    "            yanchor=\"top\",\n",
    "            borderwidth=1,\n",
    "            bordercolor=\"black\",\n",
    "            bgcolor=None,\n",
    "        ),\n",
    "    ],\n",
    ")"
   ]
  },
  {
   "cell_type": "markdown",
   "id": "9e086edf-638d-4ccf-b50a-00970f570069",
   "metadata": {
    "papermill": {},
    "tags": []
   },
   "source": [
    "## Output"
   ]
  },
  {
   "cell_type": "markdown",
   "id": "dbd81dc6-e253-4c9e-9bc8-453976deb32c",
   "metadata": {
    "papermill": {},
    "tags": []
   },
   "source": [
    "### Save and export html"
   ]
  },
  {
   "cell_type": "code",
   "execution_count": 5,
   "id": "39273f1e-4777-40cf-aad2-3fb52023d938",
   "metadata": {
    "execution": {
     "iopub.execute_input": "2022-02-16T18:05:48.795319Z",
     "iopub.status.busy": "2022-02-16T18:05:48.795103Z",
     "iopub.status.idle": "2022-02-16T18:05:49.477576Z",
     "shell.execute_reply": "2022-02-16T18:05:49.476954Z",
     "shell.execute_reply.started": "2022-02-16T18:05:48.795294Z"
    },
    "papermill": {},
    "tags": []
   },
   "outputs": [],
   "source": [
    "fig.write_html(output_html)\n",
    "naas.asset.add(output_html, params={\"inline\": True})"
   ]
  }
 ],
 "metadata": {
  "kernelspec": {
   "display_name": "Python 3",
   "language": "python",
   "name": "python3"
  },
  "language_info": {
   "codemirror_mode": {
    "name": "ipython",
    "version": 3
   },
   "file_extension": ".py",
   "mimetype": "text/x-python",
   "name": "python",
   "nbconvert_exporter": "python",
   "pygments_lexer": "ipython3",
   "version": "3.8.8"
  },
  "naas": {
   "notebook_id": "5c0d8124-cba0-4787-b87a-c55ad0edda34",
   "notebook_path": "Metrics Store/Content_creation_Track_connections.ipynb"
  },
  "papermill": {
   "default_parameters": {},
   "environment_variables": {},
   "parameters": {},
   "version": "2.3.4"
  },
  "toc-autonumbering": false
 },
 "nbformat": 4,
 "nbformat_minor": 5
}