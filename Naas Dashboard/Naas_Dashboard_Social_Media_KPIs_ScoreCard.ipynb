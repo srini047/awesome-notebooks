{
 "cells": [
  {
   "cell_type": "markdown",
   "id": "760b85f5-b869-4117-9b68-3084fcdd13d6",
   "metadata": {
    "papermill": {},
    "tags": []
   },
   "source": [
    "<img width=\"10%\" alt=\"Naas\" src=\"https://landen.imgix.net/jtci2pxwjczr/assets/5ice39g4.png?w=160\"/>"
   ]
  },
  {
   "cell_type": "markdown",
   "id": "0b67be94-62bf-45f1-996a-fb016eaa4fa2",
   "metadata": {
    "papermill": {},
    "tags": []
   },
   "source": [
    "# Naas Dashboard - Social Media KPIs ScoreCard\n",
    "<a href=\"https://app.naas.ai/user-redirect/naas/downloader?url=https://raw.githubusercontent.com/jupyter-naas/awesome-notebooks/master/Naas%20Dashboard/Naas_Dashboard_Social_Media_KPIs_ScoreCard.ipynb\" target=\"_parent\"><img src=\"https://naasai-public.s3.eu-west-3.amazonaws.com/open_in_naas.svg\"/></a><br><br><a href=\"https://github.com/jupyter-naas/awesome-notebooks/issues/new?assignees=&labels=&template=template-request.md&title=Tool+-+Action+of+the+notebook+\">Template request</a> | <a href=\"https://github.com/jupyter-naas/awesome-notebooks/issues/new?assignees=&labels=bug&template=bug_report.md&title=Naas+Dashboard+-+Social+Media+KPIs+ScoreCard:+Error+short+description\">Bug report</a>"
   ]
  },
  {
   "cell_type": "markdown",
   "id": "98e9858e-96ef-44c8-82fd-36850a7178f8",
   "metadata": {
    "papermill": {},
    "tags": []
   },
   "source": [
    "**Tags:** #naasdashboard #plotly #dash #naas #asset #automation #analytics #snippet #datavizualisation"
   ]
  },
  {
   "cell_type": "markdown",
   "id": "b80162d1-2b90-4340-8c9d-bf46ee74f129",
   "metadata": {
    "papermill": {},
    "tags": []
   },
   "source": [
    "**Author:** [Ismail CHIHAB](https://www.linkedin.com/in/ismail-chihab-4b0a04202/)"
   ]
  },
  {
   "cell_type": "markdown",
   "id": "naas-description",
   "metadata": {
    "papermill": {},
    "tags": [
     "description"
    ]
   },
   "source": [
    "**Description:** This notebook provides a comprehensive scorecard of key performance indicators for social media platforms."
   ]
  },
  {
   "cell_type": "markdown",
   "id": "59e516cf-ce9f-4eac-b177-ebdbf2e90636",
   "metadata": {
    "papermill": {},
    "tags": []
   },
   "source": [
    "## Input"
   ]
  },
  {
   "cell_type": "markdown",
   "id": "383ac6fd-6bf7-42f5-901a-e1086e6720d0",
   "metadata": {
    "papermill": {},
    "tags": []
   },
   "source": [
    "### Import libraries"
   ]
  },
  {
   "cell_type": "code",
   "execution_count": null,
   "id": "cd726a60-cf9a-45d4-afeb-9124a7f1cadb",
   "metadata": {
    "papermill": {},
    "tags": []
   },
   "outputs": [],
   "source": [
    "try:\n",
    "    import dash\n",
    "except:\n",
    "    !pip install dash --user\n",
    "    import dash\n",
    "from dash import html, dcc, Input, Output, State\n",
    "try:\n",
    "    import dash_bootstrap_components as dbc\n",
    "except:\n",
    "    !pip install dash_bootstrap_components --user\n",
    "    import dash_bootstrap_components as dbc\n",
    "import naas\n",
    "from naas_drivers import gsheet\n",
    "from dash import html, dash_table\n",
    "from dash.dependencies import Input, Output, State\n",
    "from dash import dcc\n",
    "import pandas as pd\n",
    "import os"
   ]
  },
  {
   "cell_type": "markdown",
   "id": "47187f6b-150f-4072-8e59-910734be1d59",
   "metadata": {
    "papermill": {},
    "tags": []
   },
   "source": [
    "### Setup Dash App"
   ]
  },
  {
   "cell_type": "code",
   "execution_count": null,
   "id": "9af29914-37af-494f-9b1c-8360886b65e5",
   "metadata": {
    "papermill": {},
    "tags": []
   },
   "outputs": [],
   "source": [
    "DASH_PORT = 8050\n",
    "APP_TITLE = \"Social Media KPIs\"\n",
    "\n",
    "# Logo used in Dash App -> to display it in HTML you must create an naas asset using naas.asset.add()\n",
    "linkedin_logo = \"https://public.naas.ai/aXNtYWlsY2hpaGFiNzEtNDBnbWFpbC0yRWNvbQ==/asset/3fee2f8a3764e507215a3fcff091270e46eec4d696c1cb50b870d6e03264\"\n",
    "instagram_logo = \"https://public.naas.ai/aXNtYWlsY2hpaGFiNzEtNDBnbWFpbC0yRWNvbQ==/asset/063fd6d5f4bcf0333e24bc9df3e27ff0ac94d87cb3f49deb618e136a2820.png\"\n",
    "twitter_logo = \"https://public.naas.ai/aXNtYWlsY2hpaGFiNzEtNDBnbWFpbC0yRWNvbQ==/asset/d558bf1a83a9016a68d2bc47c488de17668d5710f3cab70f01aa7e366f05.png\"\n",
    "youtube_logo = \"https://public.naas.ai/aXNtYWlsY2hpaGFiNzEtNDBnbWFpbC0yRWNvbQ==/asset/1c8d463751a136a2cdead2a0e8c663b1fa19bb623e1d2b8874c17cf6bb96.png\""
   ]
  },
  {
   "cell_type": "markdown",
   "id": "a6c09b8e-9641-43c8-8de3-3666c4478b4e",
   "metadata": {
    "papermill": {},
    "tags": []
   },
   "source": [
    "### Setup Google Sheets"
   ]
  },
  {
   "cell_type": "code",
   "execution_count": null,
   "id": "a8505cd1-7f85-4bd0-9861-7cec661ab409",
   "metadata": {
    "papermill": {},
    "tags": []
   },
   "outputs": [],
   "source": [
    "spreadsheet_url = \"https://docs.google.com/spreadsheets/d/1sJgHWhQIj5R11XeNAA4gEj426T1OFS15gbu1DQMvlfk/edit#gid=1460434917\"\n",
    "sh_linkedin = \"001\"\n",
    "sh_youtube = \"002\"\n",
    "sh_instagram = \"003\"\n",
    "sh_twitter = \"004\""
   ]
  },
  {
   "cell_type": "markdown",
   "id": "d375d2f0-edc5-4278-a7ef-2974c010836a",
   "metadata": {
    "papermill": {},
    "tags": []
   },
   "source": [
    "## Model"
   ]
  },
  {
   "cell_type": "markdown",
   "id": "a1c42d27-3911-48e4-9caa-b5f97d13f4ec",
   "metadata": {
    "papermill": {},
    "tags": []
   },
   "source": [
    "### Data"
   ]
  },
  {
   "cell_type": "markdown",
   "id": "5993311d-8fc1-4ae9-81fd-774b5415feb6",
   "metadata": {
    "papermill": {},
    "tags": []
   },
   "source": [
    "#### Get LinkedIn data"
   ]
  },
  {
   "cell_type": "code",
   "execution_count": null,
   "id": "146e5b60-7b01-439a-a9fa-5d036b105585",
   "metadata": {
    "papermill": {},
    "tags": []
   },
   "outputs": [],
   "source": [
    "linkedin_df = gsheet.connect(spreadsheet_url).get(sheet_name=sh_linkedin)\n",
    "print(\"☑️ Number of rows:\", len(linkedin_df))\n",
    "linkedin_df.head(1)"
   ]
  },
  {
   "cell_type": "markdown",
   "id": "84544867-cbfa-4f07-8a9a-9de2dd4a2a63",
   "metadata": {
    "papermill": {},
    "tags": []
   },
   "source": [
    "#### Get YouTube data"
   ]
  },
  {
   "cell_type": "code",
   "execution_count": null,
   "id": "f281abfb-ae97-4cbb-ae0b-a116c0e47ffe",
   "metadata": {
    "papermill": {},
    "tags": []
   },
   "outputs": [],
   "source": [
    "youtube_df = gsheet.connect(spreadsheet_url).get(sheet_name=sh_youtube)\n",
    "print(\"☑️ Number of rows:\", len(youtube_df))\n",
    "youtube_df.head(1)"
   ]
  },
  {
   "cell_type": "markdown",
   "id": "23d11e23-a313-4568-817e-4dbef73c0e43",
   "metadata": {
    "execution": {
     "iopub.execute_input": "2022-08-23T17:30:31.895931Z",
     "iopub.status.busy": "2022-08-23T17:30:31.895666Z",
     "iopub.status.idle": "2022-08-23T17:30:31.948999Z",
     "shell.execute_reply": "2022-08-23T17:30:31.947919Z",
     "shell.execute_reply.started": "2022-08-23T17:30:31.895865Z"
    },
    "papermill": {},
    "tags": []
   },
   "source": [
    "#### Get Instagram data"
   ]
  },
  {
   "cell_type": "code",
   "execution_count": null,
   "id": "c34fb331-5a28-441a-aa33-ee7f044817d9",
   "metadata": {
    "papermill": {},
    "tags": []
   },
   "outputs": [],
   "source": [
    "instagram_df = gsheet.connect(spreadsheet_url).get(sheet_name=sh_instagram)\n",
    "print(\"☑️ Number of rows:\", len(instagram_df))\n",
    "instagram_df.head(1)"
   ]
  },
  {
   "cell_type": "markdown",
   "id": "7d8f5e73-4814-41c1-b29f-41ca08f0586f",
   "metadata": {
    "papermill": {},
    "tags": []
   },
   "source": [
    "#### Get Twitter data"
   ]
  },
  {
   "cell_type": "code",
   "execution_count": null,
   "id": "e626a180-6764-4e3c-9a56-a1e5c0279a14",
   "metadata": {
    "papermill": {},
    "tags": []
   },
   "outputs": [],
   "source": [
    "twitter_df = gsheet.connect(spreadsheet_url).get(sheet_name=sh_twitter)\n",
    "print(\"☑️ Number of rows:\", len(twitter_df))\n",
    "twitter_df.head(1)"
   ]
  },
  {
   "cell_type": "markdown",
   "id": "31ac32b2-d914-493d-a4c2-7252a683b035",
   "metadata": {
    "papermill": {},
    "tags": []
   },
   "source": [
    "#### Pivot dataframe to create table with rows and columns"
   ]
  },
  {
   "cell_type": "code",
   "execution_count": null,
   "id": "8eb6ed08-01c9-4cdd-8d1a-082c136bf5c0",
   "metadata": {
    "papermill": {},
    "tags": []
   },
   "outputs": [],
   "source": [
    "def update_data(df_init):\n",
    "    # Drop duplicates\n",
    "    df = df_init.copy()\n",
    "    df = df.drop_duplicates()\n",
    "\n",
    "    # Pivot\n",
    "    df = pd.pivot(df, index=[\"ROWS\", \"SCENARIO\"], values=\"VALUE\", columns=\"COLUMNS\")\n",
    "    df.loc[:, \"SCENARIO\"] = df.index.get_level_values(1)\n",
    "    df.loc[:, \"ROWS\"] = df.index.get_level_values(0)\n",
    "    df = df.reset_index(drop=True)\n",
    "\n",
    "    # Re format values with a comma in columns to target and to previous\n",
    "    to_target = []\n",
    "    for e in df[\"To Target\"]:\n",
    "        if \",\" in str(e):\n",
    "            e = e.replace(\",\", \".\")\n",
    "\n",
    "        to_target.append(e)\n",
    "    df[\"To Target\"] = to_target\n",
    "\n",
    "    to_previous = []\n",
    "    for e in df[\"To Previous\"]:\n",
    "        if \",\" in str(e):\n",
    "            e = e.replace(\",\", \".\")\n",
    "\n",
    "        to_previous.append(e)\n",
    "    df[\"To Previous\"] = to_previous\n",
    "\n",
    "    # Re arranging the columns\n",
    "    df = df.reindex(\n",
    "        columns=[\n",
    "            \"ROWS\",\n",
    "            \"Actual\",\n",
    "            \"Target\",\n",
    "            \"To Target\",\n",
    "            \"Prev Period\",\n",
    "            \"To Previous\",\n",
    "            \"SCENARIO\",\n",
    "        ]\n",
    "    )\n",
    "    df.reset_index(drop=True)\n",
    "    df.rename(columns={\"ROWS\": \"\"}, inplace=True)\n",
    "    return df"
   ]
  },
  {
   "cell_type": "code",
   "execution_count": null,
   "id": "91f43904-0a8c-44b9-b514-49d81c3ec59d",
   "metadata": {
    "papermill": {},
    "tags": []
   },
   "outputs": [],
   "source": [
    "linkedin_dff = update_data(linkedin_df)\n",
    "youtube_dff = update_data(youtube_df)\n",
    "instagram_dff = update_data(instagram_df)\n",
    "twitter_dff = update_data(twitter_df)"
   ]
  },
  {
   "cell_type": "markdown",
   "id": "20ffe0ca-4278-400a-82a5-62a62c31ca18",
   "metadata": {
    "papermill": {},
    "tags": []
   },
   "source": [
    "#### Create columns list"
   ]
  },
  {
   "cell_type": "code",
   "execution_count": null,
   "id": "35d6063f-dc24-45f5-b521-a31fc9cc2a20",
   "metadata": {
    "papermill": {},
    "tags": []
   },
   "outputs": [],
   "source": [
    "table_columns = [{\"id\": c, \"name\": c} for c in linkedin_dff.iloc[:, 0:6].columns]\n",
    "table_columns"
   ]
  },
  {
   "cell_type": "markdown",
   "id": "7a426846-cd43-4470-8e9f-ec9956e4120a",
   "metadata": {
    "papermill": {},
    "tags": []
   },
   "source": [
    "### Dash App"
   ]
  },
  {
   "cell_type": "markdown",
   "id": "0d47a1da-f78f-4d97-9c12-a2673bbab9b3",
   "metadata": {
    "papermill": {},
    "tags": []
   },
   "source": [
    "#### Create Dropdowns"
   ]
  },
  {
   "cell_type": "code",
   "execution_count": null,
   "id": "dede27dc-8c3b-4a79-8462-b55166814748",
   "metadata": {
    "papermill": {},
    "tags": []
   },
   "outputs": [],
   "source": [
    "entities = [\"All Platforms\", \"Linkedin\", \"Youtube\", \"Instagram\", \"Twitter\"]\n",
    "\n",
    "scenarios = [\n",
    "    \"2022\",\n",
    "    \"2021\",\n",
    "    \"2020\",\n",
    "]\n",
    "\n",
    "dropdown_entity = dcc.Dropdown(\n",
    "    id=\"entity\",\n",
    "    options=[{\"label\": i, \"value\": i} for i in entities],\n",
    "    placeholder=\"Entity\",\n",
    "    value=entities[0],\n",
    "    style={\n",
    "        \"text-align\": \"center\",\n",
    "    },\n",
    ")\n",
    "\n",
    "dropdown_scenario = dcc.Dropdown(\n",
    "    id=\"scenario\",\n",
    "    options=[{\"label\": i, \"value\": i} for i in scenarios],\n",
    "    placeholder=\"Scenario\",\n",
    "    value=scenarios[0],\n",
    "    style={\n",
    "        \"text-align\": \"center\",\n",
    "    },\n",
    ")"
   ]
  },
  {
   "cell_type": "markdown",
   "id": "98a1a137-101e-48e3-92df-6ac0b86ad7e2",
   "metadata": {
    "papermill": {},
    "tags": []
   },
   "source": [
    "#### Create Navbar"
   ]
  },
  {
   "cell_type": "code",
   "execution_count": null,
   "id": "c36a54f6-b2d5-46d7-9d0b-7b8dbf0346fe",
   "metadata": {
    "papermill": {},
    "tags": []
   },
   "outputs": [],
   "source": [
    "navbar = dbc.Navbar(\n",
    "    dbc.Container(\n",
    "        [\n",
    "            html.A(\n",
    "                # Use row and col to control vertical alignment of logo / brand\n",
    "                dbc.Row(\n",
    "                    [\n",
    "                        # dbc.Col(html.Img(src=APP_LOGO, height=\"30px\")),\n",
    "                        dbc.Col(dbc.NavbarBrand(APP_TITLE, className=\"ms-2\")),\n",
    "                    ],\n",
    "                    align=\"center\",\n",
    "                    className=\"g-0\",\n",
    "                ),\n",
    "                href=\"https://mobile.twitter.com/ws_room/photo\",\n",
    "                style={\"textDecoration\": \"none\"},\n",
    "            ),\n",
    "            dbc.NavbarToggler(id=\"navbar-toggler\", n_clicks=0),\n",
    "            dbc.Collapse(\n",
    "                dbc.Nav(\n",
    "                    [\n",
    "                        html.Div(\n",
    "                            [\n",
    "                                html.Div(className=\"w-100\"),\n",
    "                                html.Div(className=\"w-100\"),\n",
    "                                html.Div(dropdown_entity, className=\"w-100\"),\n",
    "                                html.Div(dropdown_scenario, className=\"w-100\"),\n",
    "                            ],\n",
    "                            className=\"pt-1 pb-1 d-grid gap-2 d-md-flex w-100\",\n",
    "                        )\n",
    "                    ],\n",
    "                    className=\"ms-auto w-100\",\n",
    "                    navbar=True,\n",
    "                ),\n",
    "                id=\"navbar-collapse\",\n",
    "                navbar=True,\n",
    "                is_open=False,\n",
    "            ),\n",
    "        ],\n",
    "    ),\n",
    "    color=\"dark\",\n",
    "    dark=True,\n",
    ")"
   ]
  },
  {
   "cell_type": "markdown",
   "id": "b2403c52-bf74-4549-9202-56142fa2cb7c",
   "metadata": {
    "papermill": {},
    "tags": []
   },
   "source": [
    "#### Create Tables header"
   ]
  },
  {
   "cell_type": "code",
   "execution_count": null,
   "id": "99ba1004-2947-44b8-8cae-5e97a6d0a212",
   "metadata": {
    "papermill": {},
    "tags": []
   },
   "outputs": [],
   "source": [
    "def inner_navbar(platform_name, logo, brand_hex_color):\n",
    "    inner_navbar = dbc.Navbar(\n",
    "        dbc.Container(\n",
    "            [\n",
    "                html.A(\n",
    "                    # Use row and col to control vertical alignment of logo / brand\n",
    "                    dbc.Row(\n",
    "                        [\n",
    "                            dbc.Col(html.Img(src=logo, height=\"30px\")),\n",
    "                            dbc.Col(dbc.NavbarBrand(platform_name, className=\"ms-2\")),\n",
    "                        ],\n",
    "                        align=\"center\",\n",
    "                        className=\"g-0\",\n",
    "                    ),\n",
    "                    style={\"textDecoration\": \"none\"},\n",
    "                )\n",
    "            ]\n",
    "        ),\n",
    "        color=str(brand_hex_color),\n",
    "        dark=True,\n",
    "    )\n",
    "    return inner_navbar"
   ]
  },
  {
   "cell_type": "code",
   "execution_count": null,
   "id": "9594d8d7-6222-4f77-be9b-bd0ab2fe0615",
   "metadata": {
    "papermill": {},
    "tags": []
   },
   "outputs": [],
   "source": [
    "LinkedIn_navbar = inner_navbar(\"LinkedIn\", linkedin_logo, \"#0E76A8\")\n",
    "Instagram_navbar = inner_navbar(\"Instagram\", instagram_logo, \"#ed5a9c\")\n",
    "Twitter_navbar = inner_navbar(\"Twitter\", twitter_logo, \"#6cd5f7\")\n",
    "Youtube_navbar = inner_navbar(\"Youtube\", youtube_logo, \"#ed494a\")"
   ]
  },
  {
   "cell_type": "markdown",
   "id": "d6b1817a-824f-4411-9851-9f53b723999d",
   "metadata": {
    "papermill": {},
    "tags": []
   },
   "source": [
    "#### Create Tables"
   ]
  },
  {
   "cell_type": "code",
   "execution_count": null,
   "id": "6eef9f83-3ccd-450f-8f55-31967578a77b",
   "metadata": {
    "papermill": {},
    "tags": []
   },
   "outputs": [],
   "source": [
    "def create_table(df, table_id):\n",
    "    table = dash_table.DataTable(\n",
    "        id=table_id,\n",
    "        data=df.to_dict(\"records\"),\n",
    "        columns=table_columns,\n",
    "        # Style\n",
    "        style_data={\n",
    "            \"whiteSpace\": \"normal\",\n",
    "            \"height\": \"16px\",\n",
    "            \"lineHeight\": \"13px\",\n",
    "            \"border\": \"7px solid white\",\n",
    "        },\n",
    "        style_cell_conditional=[\n",
    "            {\"if\": {\"column_id\": \"\"}, \"textAlign\": \"left\", \"width\": \"150px\"},\n",
    "            {\"if\": {\"column_id\": \"Actual\"}, \"width\": \"150px\"},\n",
    "            {\"if\": {\"column_id\": \"Target\"}, \"width\": \"150px\"},\n",
    "            {\"if\": {\"column_id\": \"To Target\"}, \"width\": \"150px\"},\n",
    "            {\"if\": {\"column_id\": \"Prev Period\"}, \"width\": \"150px\"},\n",
    "            {\"if\": {\"column_id\": \"To Previous\"}, \"width\": \"150px\"},\n",
    "        ],\n",
    "        style_data_conditional=(\n",
    "            [\n",
    "                {\n",
    "                    \"if\": {\n",
    "                        \"column_id\": \"Target\",\n",
    "                    },\n",
    "                    \"backgroundColor\": \"#f9f9f9\",\n",
    "                    \"color\": \"black\",\n",
    "                },\n",
    "                {\n",
    "                    \"if\": {\n",
    "                        \"column_id\": \"Prev Period\",\n",
    "                    },\n",
    "                    \"backgroundColor\": \"#f9f9f9\",\n",
    "                    \"color\": \"black\",\n",
    "                },\n",
    "                {\n",
    "                    \"if\": {\n",
    "                        \"filter_query\": \"{To Target} < 0\",\n",
    "                        \"column_id\": \"To Target\",\n",
    "                    },\n",
    "                    \"backgroundColor\": \"#ebc7c3\",\n",
    "                    \"color\": \"#cf8076\",\n",
    "                },\n",
    "                {\n",
    "                    \"if\": {\n",
    "                        \"filter_query\": \"{To Target} >= 0\",\n",
    "                        \"column_id\": \"To Target\",\n",
    "                    },\n",
    "                    \"backgroundColor\": \"#d5e6d1\",\n",
    "                    \"color\": \"rgba(146,170,107,255)\",\n",
    "                },\n",
    "                {\n",
    "                    \"if\": {\n",
    "                        \"filter_query\": \"{To Previous} < 0\",\n",
    "                        \"column_id\": \"To Previous\",\n",
    "                    },\n",
    "                    \"backgroundColor\": \"#ebc7c3\",\n",
    "                    \"color\": \"#cf8076\",\n",
    "                },\n",
    "                {\n",
    "                    \"if\": {\n",
    "                        \"filter_query\": \"{To Previous} >= 0\",\n",
    "                        \"column_id\": \"To Previous\",\n",
    "                    },\n",
    "                    \"backgroundColor\": \"#d5e6d1\",\n",
    "                    \"color\": \"#92aa6b\",\n",
    "                },\n",
    "            ]\n",
    "        ),\n",
    "        style_table={\n",
    "            \"overflowX\": \"scroll\",\n",
    "        },\n",
    "        style_cell={\n",
    "            \"padding\": \"5px\",\n",
    "            \"textAlign\": \"center\",\n",
    "            \"font-family\": \"sans-serif\",\n",
    "        },\n",
    "        style_header={\n",
    "            \"backgroundColor\": \"white\",\n",
    "            \"fontWeight\": \"bold\",\n",
    "            \"border\": \"7px solid white\",\n",
    "        },\n",
    "        # style_as_list_view=True,\n",
    "    )\n",
    "    return table"
   ]
  },
  {
   "cell_type": "markdown",
   "id": "426babb1-6532-4745-8bfb-285dc2baaecc",
   "metadata": {
    "papermill": {},
    "tags": []
   },
   "source": [
    "#### Create Cards with headers and table"
   ]
  },
  {
   "cell_type": "code",
   "execution_count": null,
   "id": "5785af54-0060-4e84-b1b8-d5147a8559a9",
   "metadata": {
    "papermill": {},
    "tags": []
   },
   "outputs": [],
   "source": [
    "responsive = {\"xs\": 12, \"sm\": 12, \"md\": 12, \"lg\": 6, \"xl\": 6}\n",
    "\n",
    "\n",
    "def card_table(navbar, df, uid, responsive):\n",
    "    card = dbc.Col(\n",
    "        dbc.Card(\n",
    "            dbc.CardBody(\n",
    "                [\n",
    "                    navbar,\n",
    "                    create_table(df, uid),\n",
    "                ]\n",
    "            ),\n",
    "        ),\n",
    "        **responsive\n",
    "    )\n",
    "    return card"
   ]
  },
  {
   "cell_type": "markdown",
   "id": "fe51e12d-2de8-4966-80cc-8a819f7558f2",
   "metadata": {
    "papermill": {},
    "tags": []
   },
   "source": [
    "#### Create Layout"
   ]
  },
  {
   "cell_type": "code",
   "execution_count": null,
   "id": "ba882506-f482-4af8-bdea-eeec882bea38",
   "metadata": {
    "papermill": {},
    "tags": []
   },
   "outputs": [],
   "source": [
    "app = dash.Dash(\n",
    "    requests_pathname_prefix=f'/user/{os.environ.get(\"JUPYTERHUB_USER\")}/proxy/{DASH_PORT}/',\n",
    "    external_stylesheets=[dbc.themes.BOOTSTRAP],\n",
    "    meta_tags=[\n",
    "        {\"name\": \"viewport\", \"content\": \"width=device-width, initial-scale=1.0\"}\n",
    "    ],\n",
    ")\n",
    "\n",
    "app.title = APP_TITLE\n",
    "app.layout = html.Div(\n",
    "    [\n",
    "        # Navbar:\n",
    "        navbar,\n",
    "        # The page content:\n",
    "        dbc.Container(id=\"main_container\"),\n",
    "    ]\n",
    ")\n",
    "\n",
    "# add callback for toggling the collapse on small screens\n",
    "@app.callback(\n",
    "    Output(\"navbar-collapse\", \"is_open\"),\n",
    "    [Input(\"navbar-toggler\", \"n_clicks\")],\n",
    "    [State(\"navbar-collapse\", \"is_open\")],\n",
    ")\n",
    "def toggle_navbar_collapse(n, is_open):\n",
    "    if n:\n",
    "        return not is_open\n",
    "    return is_open\n",
    "\n",
    "\n",
    "# add callback to display interactive data\n",
    "@app.callback(\n",
    "    Output(\"main_container\", \"children\"),\n",
    "    [Input(\"entity\", \"value\"), Input(\"scenario\", \"value\")],\n",
    ")\n",
    "def multi_outputs(entity, scenario):\n",
    "    if entity is None or scenario is None:\n",
    "        raise PreventUpdate\n",
    "\n",
    "    # Get dataframes\n",
    "    lk_df = linkedin_dff.copy()\n",
    "    yt_df = youtube_dff.copy()\n",
    "    ig_df = instagram_dff.copy()\n",
    "    tit_df = twitter_dff.copy()\n",
    "\n",
    "    rows = [\n",
    "        \"Followers\",\n",
    "        \"Impressions\",\n",
    "        \"Link Clicks\",\n",
    "        \"Engagement\",\n",
    "        \"Engagement Rate\",\n",
    "        \"Avg order Value\",\n",
    "        \"Avg Time to Conversion\",\n",
    "    ]\n",
    "    # Filter tables\n",
    "    if str(scenario) == \"2021\":\n",
    "        lk_df = lk_df[lk_df[\"SCENARIO\"] == 2021]\n",
    "        yt_df = yt_df[yt_df[\"SCENARIO\"] == 2021]\n",
    "        ig_df = ig_df[ig_df[\"SCENARIO\"] == 2021]\n",
    "        tit_df = tit_df[tit_df[\"SCENARIO\"] == 2021]\n",
    "\n",
    "        # lk_df_a = lk_df_a[lk_df_a['SCENARIO'] == 2021]\n",
    "\n",
    "    elif str(scenario) == \"2022\":\n",
    "        lk_df = lk_df[lk_df[\"SCENARIO\"] == 2022]\n",
    "        yt_df = yt_df[yt_df[\"SCENARIO\"] == 2022]\n",
    "        ig_df = ig_df[ig_df[\"SCENARIO\"] == 2022]\n",
    "        tit_df = tit_df[tit_df[\"SCENARIO\"] == 2022]\n",
    "\n",
    "        # lk_df_a = lk_df[lk_df['SCENARIO'] == 2022]\n",
    "\n",
    "    elif str(scenario) == \"2020\":\n",
    "        lk_df = lk_df[lk_df[\"SCENARIO\"] == 2020]\n",
    "        yt_df = yt_df[yt_df[\"SCENARIO\"] == 2020]\n",
    "        ig_df = ig_df[ig_df[\"SCENARIO\"] == 2020]\n",
    "        tit_df = tit_df[tit_df[\"SCENARIO\"] == 2020]\n",
    "\n",
    "    # Rearrange row order\n",
    "    lk_df[\"\"] = pd.Categorical(lk_df[\"\"], categories=rows, ordered=True)\n",
    "    lk_df = lk_df.sort_values(\"\", axis=0)\n",
    "\n",
    "    yt_df[\"\"] = pd.Categorical(yt_df[\"\"], categories=rows, ordered=True)\n",
    "    yt_df = lk_df.sort_values(\"\", axis=0)\n",
    "\n",
    "    ig_df[\"\"] = pd.Categorical(ig_df[\"\"], categories=rows, ordered=True)\n",
    "    ig_df = lk_df.sort_values(\"\", axis=0)\n",
    "\n",
    "    tit_df[\"\"] = pd.Categorical(tit_df[\"\"], categories=rows, ordered=True)\n",
    "    tit_df = lk_df.sort_values(\"\", axis=0)\n",
    "\n",
    "    # Drop the SCENARIO column\n",
    "    lk_df.drop([\"SCENARIO\"], axis=1, inplace=True)\n",
    "    yt_df.drop([\"SCENARIO\"], axis=1, inplace=True)\n",
    "    ig_df.drop([\"SCENARIO\"], axis=1, inplace=True)\n",
    "    tit_df.drop([\"SCENARIO\"], axis=1, inplace=True)\n",
    "\n",
    "    # Switch between pages:\n",
    "    responsive = {\"xs\": 12, \"sm\": 12, \"md\": 12, \"lg\": 12, \"xl\": 12}\n",
    "    children = []\n",
    "    children.append(html.Br())\n",
    "    if str(entity) == \"Linkedin\":\n",
    "        children.append(\n",
    "            dbc.Row([card_table(LinkedIn_navbar, lk_df, \"linkedin_table\", responsive)])\n",
    "        )\n",
    "    if str(entity) == \"Youtube\":\n",
    "        children.append(\n",
    "            dbc.Row([card_table(Youtube_navbar, yt_df, \"youtube_table\", responsive)])\n",
    "        )\n",
    "    if str(entity) == \"Instagram\":\n",
    "        children.append(\n",
    "            dbc.Row(\n",
    "                [card_table(Instagram_navbar, ig_df, \"instagram_table\", responsive)]\n",
    "            )\n",
    "        )\n",
    "    if str(entity) == \"Twitter\":\n",
    "        children.append(\n",
    "            dbc.Row([card_table(Twitter_navbar, tit_df, \"twitter_table\", responsive)])\n",
    "        )\n",
    "    if str(entity) == \"All Platforms\":\n",
    "        responsive = {\"xs\": 12, \"sm\": 12, \"md\": 6, \"lg\": 6, \"xl\": 6}\n",
    "        children.append(\n",
    "            dbc.Row(\n",
    "                [\n",
    "                    card_table(LinkedIn_navbar, lk_df, \"linkedin_table\", responsive),\n",
    "                    card_table(Instagram_navbar, ig_df, \"instagram_table\", responsive),\n",
    "                ]\n",
    "            )\n",
    "        )\n",
    "        children.append(\n",
    "            dbc.Row(\n",
    "                [\n",
    "                    card_table(Twitter_navbar, tit_df, \"twitter_table\", responsive),\n",
    "                    card_table(Youtube_navbar, yt_df, \"youtube_table\", responsive),\n",
    "                ]\n",
    "            )\n",
    "        )\n",
    "\n",
    "    return children"
   ]
  },
  {
   "cell_type": "markdown",
   "id": "f3e0f900-5b58-4012-8e70-695594dcd372",
   "metadata": {
    "execution": {
     "iopub.execute_input": "2021-07-02T23:32:10.789097Z",
     "iopub.status.busy": "2021-07-02T23:32:10.788829Z",
     "iopub.status.idle": "2021-07-02T23:32:10.796900Z",
     "shell.execute_reply": "2021-07-02T23:32:10.796358Z",
     "shell.execute_reply.started": "2021-07-02T23:32:10.789033Z"
    },
    "papermill": {},
    "tags": []
   },
   "source": [
    "## Output"
   ]
  },
  {
   "cell_type": "markdown",
   "id": "74eb5829-9e0e-4a3c-9ba7-b33efdbf3b83",
   "metadata": {
    "papermill": {},
    "tags": []
   },
   "source": [
    "### Generate URL and show logs"
   ]
  },
  {
   "cell_type": "code",
   "execution_count": null,
   "id": "35e8c988-8d11-477a-8ac5-5095465825f1",
   "metadata": {
    "papermill": {},
    "tags": []
   },
   "outputs": [],
   "source": [
    "if __name__ == \"__main__\":\n",
    "    app.run_server(proxy=f\"http://127.0.0.1:{DASH_PORT}::https://app.naas.ai\")"
   ]
  }
 ],
 "metadata": {
  "kernelspec": {
   "display_name": "Python 3",
   "language": "python",
   "name": "python3"
  },
  "language_info": {
   "codemirror_mode": {
    "name": "ipython",
    "version": 3
   },
   "file_extension": ".py",
   "mimetype": "text/x-python",
   "name": "python",
   "nbconvert_exporter": "python",
   "pygments_lexer": "ipython3",
   "version": "3.9.6"
  },
  "papermill": {
   "default_parameters": {},
   "environment_variables": {},
   "parameters": {},
   "version": "2.4.0"
  }
 },
 "nbformat": 4,
 "nbformat_minor": 5
}