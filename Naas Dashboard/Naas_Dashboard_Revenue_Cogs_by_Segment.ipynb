{
 "cells": [
  {
   "cell_type": "markdown",
   "id": "latin-packing",
   "metadata": {
    "execution": {
     "iopub.execute_input": "2021-02-23T14:22:16.610471Z",
     "iopub.status.busy": "2021-02-23T14:22:16.610129Z",
     "iopub.status.idle": "2021-02-23T14:22:16.627784Z",
     "shell.execute_reply": "2021-02-23T14:22:16.626866Z",
     "shell.execute_reply.started": "2021-02-23T14:22:16.610384Z"
    },
    "papermill": {},
    "tags": []
   },
   "source": [
    "<img width=\"10%\" alt=\"Naas\" src=\"https://landen.imgix.net/jtci2pxwjczr/assets/5ice39g4.png?w=160\"/>"
   ]
  },
  {
   "cell_type": "markdown",
   "id": "compressed-wilson",
   "metadata": {
    "papermill": {},
    "tags": []
   },
   "source": [
    "# Naas Dashboard - Revenue Cogs by Segment\n",
    "<a href=\"https://app.naas.ai/user-redirect/naas/downloader?url=https://raw.githubusercontent.com/jupyter-naas/awesome-notebooks/master/Naas%20Dashboard/Naas_Dashboard_Revenue_Cogs_by_Segment.ipynb\" target=\"_parent\"><img src=\"https://naasai-public.s3.eu-west-3.amazonaws.com/open_in_naas.svg\"/></a><br><br><a href=\"https://github.com/jupyter-naas/awesome-notebooks/issues/new?assignees=&labels=&template=template-request.md&title=Tool+-+Action+of+the+notebook+\">Template request</a> | <a href=\"https://github.com/jupyter-naas/awesome-notebooks/issues/new?assignees=&labels=bug&template=bug_report.md&title=Naas+Dashboard+-+Revenue+Cogs+by+Segment:+Error+short+description\">Bug report</a>"
   ]
  },
  {
   "cell_type": "markdown",
   "id": "religious-programmer",
   "metadata": {
    "papermill": {},
    "tags": []
   },
   "source": [
    "**Tags:** #naasdashboard #plotly #dash #naas #asset #automation #analytics #snippet #datavizualisation"
   ]
  },
  {
   "cell_type": "markdown",
   "id": "1fe9f56e-561c-4f52-aef8-b861c9462107",
   "metadata": {
    "papermill": {},
    "tags": []
   },
   "source": [
    "**Author:** [Fernando Chavez Osuna](https://www.linkedin.com/in/fernando-chavez-osuna-1a420a181)"
   ]
  },
  {
   "cell_type": "markdown",
   "id": "naas-description",
   "metadata": {
    "papermill": {},
    "tags": [
     "description"
    ]
   },
   "source": [
    "**Description:** This notebook provides an analysis of revenue cogs by segment for the Naas Dashboard."
   ]
  },
  {
   "cell_type": "markdown",
   "id": "distinguished-truth",
   "metadata": {
    "papermill": {},
    "tags": []
   },
   "source": [
    "## Input"
   ]
  },
  {
   "cell_type": "markdown",
   "id": "numeric-mediterranean",
   "metadata": {
    "papermill": {},
    "tags": []
   },
   "source": [
    "### Import libraries"
   ]
  },
  {
   "cell_type": "code",
   "execution_count": null,
   "id": "potential-surfing",
   "metadata": {
    "papermill": {},
    "tags": []
   },
   "outputs": [],
   "source": [
    "try:\n",
    "    import dash\n",
    "except:\n",
    "    !pip install dash --user\n",
    "    import dash\n",
    "from dash import html, dcc, Input, Output, State\n",
    "try:\n",
    "    import dash_bootstrap_components as dbc\n",
    "except:\n",
    "    !pip install dash_bootstrap_components --user\n",
    "    import dash_bootstrap_components as dbc\n",
    "import plotly.graph_objects as go\n",
    "import plotly.express as px\n",
    "import os\n",
    "import naas_drivers\n",
    "from naas_drivers import gsheet\n",
    "from dash_bootstrap_components._components.Container import Container\n",
    "import pandas as pd"
   ]
  },
  {
   "cell_type": "markdown",
   "id": "7728f893-131e-47b2-9234-5a8fe36b3cd3",
   "metadata": {
    "papermill": {},
    "tags": []
   },
   "source": [
    "### Setup APP"
   ]
  },
  {
   "cell_type": "code",
   "execution_count": null,
   "id": "bd1a9811-7874-4979-aa2d-e2c2c7c77e05",
   "metadata": {
    "papermill": {},
    "tags": []
   },
   "outputs": [],
   "source": [
    "DASH_PORT = 8050\n",
    "APP_TITLE = \"Revenue & COGS by Segment\"\n",
    "APP_LOGO = \"https://pic.onlinewebfonts.com/svg/img_542879.png\""
   ]
  },
  {
   "cell_type": "markdown",
   "id": "d32dd999-e7f9-4332-b145-933fbc678caf",
   "metadata": {
    "papermill": {},
    "tags": []
   },
   "source": [
    "### Setup Google Sheets\n",
    "\n",
    "- Share your Google Sheets spreadsheet with our service account : 🔗 naas-share@naas-gsheets.iam.gserviceaccount.com"
   ]
  },
  {
   "cell_type": "code",
   "execution_count": null,
   "id": "d86a116f-97b6-4fc8-9a26-10415562a635",
   "metadata": {
    "papermill": {},
    "tags": []
   },
   "outputs": [],
   "source": [
    "SPREADSHEET_URL = \"https://docs.google.com/spreadsheets/d/1SmXeixAxpmDCso7zRBgflg1405P-GMDiSrjnvTFzdy0/edit?usp=sharing\"\n",
    "SHEET_NAME = \"SALES_COGS\"\n",
    "SHEET_NAME_2 = \"PRODUCT_SALES\""
   ]
  },
  {
   "cell_type": "markdown",
   "id": "registered-showcase",
   "metadata": {
    "papermill": {},
    "tags": []
   },
   "source": [
    "## Model"
   ]
  },
  {
   "cell_type": "markdown",
   "id": "f6558026-6566-4b4d-ab74-a5eec170f57b",
   "metadata": {
    "papermill": {},
    "tags": []
   },
   "source": [
    "### Data"
   ]
  },
  {
   "cell_type": "markdown",
   "id": "259a3c61-60f2-4a22-9e20-35d495a4f58d",
   "metadata": {
    "papermill": {},
    "tags": []
   },
   "source": [
    "#### Ref Entities"
   ]
  },
  {
   "cell_type": "code",
   "execution_count": null,
   "id": "634313e5-9358-4335-95eb-3615525db5f1",
   "metadata": {
    "papermill": {},
    "tags": []
   },
   "outputs": [],
   "source": [
    "entities = [\"All Regions\", \"EMEA\", \"APAC\", \"AMERICAS\"]"
   ]
  },
  {
   "cell_type": "markdown",
   "id": "8f541cdb-b3d3-4658-845b-b54abf6f9de1",
   "metadata": {
    "papermill": {},
    "tags": []
   },
   "source": [
    "#### Ref Scenarios"
   ]
  },
  {
   "cell_type": "code",
   "execution_count": null,
   "id": "175721f0-191f-47c8-b632-dcfd6d5f1a34",
   "metadata": {
    "papermill": {},
    "tags": []
   },
   "outputs": [],
   "source": [
    "scenarios = [\n",
    "    \"2022\",\n",
    "    \"2021\",\n",
    "    \"2020\",\n",
    "]"
   ]
  },
  {
   "cell_type": "markdown",
   "id": "ec5cc552-5615-43fa-80cb-be7032b63f14",
   "metadata": {
    "papermill": {},
    "tags": []
   },
   "source": [
    "#### Get Gross Sales and COGS Data"
   ]
  },
  {
   "cell_type": "code",
   "execution_count": null,
   "id": "e8ec0e46-1e51-4430-b718-9b99afeb2552",
   "metadata": {
    "papermill": {},
    "tags": []
   },
   "outputs": [],
   "source": [
    "sales_cogs_df = gsheet.connect(SPREADSHEET_URL).get(SHEET_NAME)\n",
    "sales_cogs_df"
   ]
  },
  {
   "cell_type": "markdown",
   "id": "9e843709-f0e9-4a4d-bd3d-fc61ecd6c6c2",
   "metadata": {
    "papermill": {},
    "tags": []
   },
   "source": [
    "#### Get Product Sales per Country Data"
   ]
  },
  {
   "cell_type": "code",
   "execution_count": null,
   "id": "7f67f102-2a3a-48e5-9a9f-cb110e9a06f9",
   "metadata": {
    "papermill": {},
    "tags": []
   },
   "outputs": [],
   "source": [
    "product_sales = gsheet.connect(SPREADSHEET_URL).get(SHEET_NAME_2)\n",
    "product_sales = (\n",
    "    product_sales.groupby([\"SCENARIO\", \"COUNTRY\", \"LABEL\"])[\"VALUE\"].sum().reset_index()\n",
    ")\n",
    "product_sales = product_sales.pivot(\n",
    "    index=[\"SCENARIO\", \"LABEL\"], columns=\"COUNTRY\", values=\"VALUE\"\n",
    ")\n",
    "product_sales.loc[:, \"SCENARIO\"] = product_sales.index.get_level_values(0)\n",
    "product_sales.loc[:, \"LABEL\"] = product_sales.index.get_level_values(1)\n",
    "product_sales = product_sales.reset_index(drop=True)\n",
    "product_sales"
   ]
  },
  {
   "cell_type": "markdown",
   "id": "aa05d0ea-987a-4589-9727-ec09d526a37b",
   "metadata": {
    "execution": {
     "iopub.execute_input": "2022-08-08T12:37:38.591314Z",
     "iopub.status.busy": "2022-08-08T12:37:38.591029Z",
     "iopub.status.idle": "2022-08-08T12:37:38.594413Z",
     "shell.execute_reply": "2022-08-08T12:37:38.593776Z",
     "shell.execute_reply.started": "2022-08-08T12:37:38.591250Z"
    },
    "papermill": {},
    "tags": []
   },
   "source": [
    "### Graphs"
   ]
  },
  {
   "cell_type": "markdown",
   "id": "9baacf1d-7dbd-4398-8f63-9de552af0043",
   "metadata": {
    "papermill": {},
    "tags": []
   },
   "source": [
    "#### Gross Sales & COGS by Segment - Grouped Bar Chart"
   ]
  },
  {
   "cell_type": "code",
   "execution_count": null,
   "id": "c7bb0592-3522-49e7-be1f-e4706dd18b8a",
   "metadata": {
    "papermill": {},
    "tags": []
   },
   "outputs": [],
   "source": [
    "def create_bar_chart(df, x, y):\n",
    "    df_gs = df.copy()\n",
    "    df_gs = df_gs[df_gs.UNITS == \"Gross_Sales\"]\n",
    "\n",
    "    df_cogs = df.copy()\n",
    "    df_cogs = df_cogs[df_cogs.UNITS == \"COGS\"]\n",
    "    bar_chart = go.Figure(\n",
    "        data=[\n",
    "            go.Bar(\n",
    "                name=\"Gross Sales\",\n",
    "                x=df_gs[x],\n",
    "                y=df_gs[y],\n",
    "                marker_color=\"rgb(58,100,152)\",\n",
    "            ),\n",
    "            go.Bar(\n",
    "                name=\"COGS\", x=df_cogs[x], y=df_cogs[y], marker_color=\"rgb(240,163,83)\"\n",
    "            ),\n",
    "        ]\n",
    "    )\n",
    "\n",
    "    bar_chart.update_layout(\n",
    "        title_text=\"<b>Gross Sales and COGS by Segment\",\n",
    "        title_x=0.5,\n",
    "        # Change the bar mode\n",
    "        barmode=\"group\",\n",
    "        xaxis=dict(\n",
    "            title=\"<b>Segment\",\n",
    "            titlefont_size=14,\n",
    "            tickfont_size=14,\n",
    "            ticks=\"outside\",\n",
    "            showline=True,\n",
    "            linewidth=1,\n",
    "            linecolor=\"black\",\n",
    "        ),\n",
    "        yaxis=dict(\n",
    "            title=\"<b>Gross Sales & COGS\",\n",
    "            titlefont_size=14,\n",
    "            tickfont_size=14,\n",
    "            ticks=\"outside\",\n",
    "            showline=True,\n",
    "            linewidth=1,\n",
    "            linecolor=\"black\",\n",
    "        ),\n",
    "        legend=dict(\n",
    "            title=\"<b>All Measures\",\n",
    "            x=1,\n",
    "            y=1,\n",
    "            bgcolor=\"rgba(255, 255, 255, 0)\",\n",
    "            bordercolor=\"rgba(255, 255, 255, 0)\",\n",
    "        ),\n",
    "        plot_bgcolor=\"rgba(0,0,0,0)\",\n",
    "    )\n",
    "    return bar_chart\n",
    "\n",
    "\n",
    "df = sales_cogs_df[sales_cogs_df[\"SCENARIO\"].astype(str) == scenarios[0]]\n",
    "bar_chart = create_bar_chart(df, \"ENTITY\", \"VALUE\")\n",
    "bar_chart"
   ]
  },
  {
   "cell_type": "markdown",
   "id": "dbab68a6-4016-4ded-b06b-98a7db5be0cf",
   "metadata": {
    "papermill": {},
    "tags": []
   },
   "source": [
    "#### Sales by Segment - Pie Chart"
   ]
  },
  {
   "cell_type": "code",
   "execution_count": null,
   "id": "8618936c-99f6-4512-a406-22ebba6313c3",
   "metadata": {
    "papermill": {},
    "tags": []
   },
   "outputs": [],
   "source": [
    "def create_pie_chart(df, labels, values):\n",
    "    pie_chart = go.Figure(data=[go.Pie(labels=df[labels], values=df[values], hole=0.5)])\n",
    "\n",
    "    pie_chart.update_traces(\n",
    "        textinfo=\"none\", marker=dict(colors=px.colors.qualitative.Vivid)\n",
    "    )\n",
    "\n",
    "    pie_chart.update_layout(\n",
    "        title=\"<b>Sales by Segment\",\n",
    "        title_x=0.5,\n",
    "    )\n",
    "    return pie_chart\n",
    "\n",
    "\n",
    "df = sales_cogs_df[sales_cogs_df[\"SCENARIO\"].astype(str) == scenarios[0]]\n",
    "pie_chart = create_pie_chart(df, \"ENTITY\", \"VALUE\")\n",
    "pie_chart"
   ]
  },
  {
   "cell_type": "markdown",
   "id": "2cd237ee-e609-4858-ade6-be26c5f6718e",
   "metadata": {
    "papermill": {},
    "tags": []
   },
   "source": [
    "#### Gross Sales by Country and Product - Heatmap Chart"
   ]
  },
  {
   "cell_type": "code",
   "execution_count": null,
   "id": "122d8c69-d7a3-424b-9891-1f7daf076686",
   "metadata": {
    "papermill": {},
    "tags": []
   },
   "outputs": [],
   "source": [
    "def create_heatmap_chart(df):\n",
    "    labels = df[\"LABEL\"].unique()\n",
    "    df = df.drop([\"SCENARIO\", \"LABEL\"], axis=1)\n",
    "    heat_chart = go.Figure(\n",
    "        data=go.Heatmap(\n",
    "            z=df,\n",
    "            x=df.columns,\n",
    "            y=labels,\n",
    "            colorscale=\"greens\",\n",
    "            colorbar={\"title\": \"<b>Gross Sales\"},\n",
    "        )\n",
    "    )\n",
    "\n",
    "    heat_chart.update_layout(\n",
    "        title_text=\"<b>Gross Sales by Country and Product\",\n",
    "        title_x=0.9,\n",
    "        xaxis=dict(\n",
    "            title=\"<b>Country\",\n",
    "            titlefont_size=14,\n",
    "            tickfont_size=14,\n",
    "        ),\n",
    "        yaxis=dict(\n",
    "            title=\"<b>Product\",\n",
    "            titlefont_size=14,\n",
    "            tickfont_size=14,\n",
    "            ticks=\"outside\",\n",
    "            showline=True,\n",
    "            linewidth=1,\n",
    "            linecolor=\"black\",\n",
    "        ),\n",
    "    )\n",
    "    return heat_chart\n",
    "\n",
    "\n",
    "df = product_sales[product_sales[\"SCENARIO\"].astype(str) == scenarios[0]]\n",
    "heat_chart = create_heatmap_chart(df)\n",
    "heat_chart"
   ]
  },
  {
   "cell_type": "markdown",
   "id": "3ee93f31-81d4-4ad3-8b58-f5b038802ed4",
   "metadata": {
    "execution": {
     "iopub.execute_input": "2022-08-07T12:36:43.651149Z",
     "iopub.status.busy": "2022-08-07T12:36:43.650909Z",
     "iopub.status.idle": "2022-08-07T12:36:43.655756Z",
     "shell.execute_reply": "2022-08-07T12:36:43.655122Z",
     "shell.execute_reply.started": "2022-08-07T12:36:43.651126Z"
    },
    "papermill": {},
    "tags": []
   },
   "source": [
    "### Dash App"
   ]
  },
  {
   "cell_type": "markdown",
   "id": "84c8dc78-422a-4041-9f6c-780f1e465e0c",
   "metadata": {
    "papermill": {},
    "tags": []
   },
   "source": [
    "#### Create dropdown object"
   ]
  },
  {
   "cell_type": "code",
   "execution_count": null,
   "id": "ed66ac50-fee2-4649-bf88-f68e7075b881",
   "metadata": {
    "papermill": {},
    "tags": []
   },
   "outputs": [],
   "source": [
    "dropdown_entity = dcc.Dropdown(\n",
    "    id=\"entity\",\n",
    "    options=[{\"label\": i, \"value\": i} for i in entities],\n",
    "    placeholder=\"Entity\",\n",
    "    value=entities[0],\n",
    ")\n",
    "\n",
    "dropdown_scenario = dcc.Dropdown(\n",
    "    id=\"scenario\",\n",
    "    options=[{\"label\": i, \"value\": i} for i in scenarios],\n",
    "    placeholder=\"Scenario\",\n",
    "    value=scenarios[0],\n",
    ")"
   ]
  },
  {
   "cell_type": "markdown",
   "id": "6ef3bcce-838b-4607-9f9e-5941042fb6c1",
   "metadata": {
    "papermill": {},
    "tags": []
   },
   "source": [
    "#### Create Navbar"
   ]
  },
  {
   "cell_type": "code",
   "execution_count": null,
   "id": "11e19358-acd8-47ca-80c3-c1b0b75c8a43",
   "metadata": {
    "papermill": {},
    "tags": []
   },
   "outputs": [],
   "source": [
    "navbar = dbc.Navbar(\n",
    "    dbc.Container(\n",
    "        [\n",
    "            html.A(\n",
    "                # Use row and col to control vertical alignment of logo / brand\n",
    "                dbc.Row(\n",
    "                    [\n",
    "                        dbc.Col(html.Img(src=APP_LOGO, height=\"30px\")),\n",
    "                        dbc.Col(dbc.NavbarBrand(APP_TITLE, className=\"ms-2\")),\n",
    "                    ],\n",
    "                    align=\"center\",\n",
    "                    className=\"g-0\",\n",
    "                ),\n",
    "            ),\n",
    "            dbc.NavbarToggler(id=\"navbar-toggler\", n_clicks=0),\n",
    "            dbc.Collapse(\n",
    "                dbc.Nav(\n",
    "                    [\n",
    "                        html.Div(\n",
    "                            [\n",
    "                                html.Div(className=\"w-100\"),\n",
    "                                html.Div(className=\"w-100\"),\n",
    "                                html.Div(dropdown_entity, className=\"w-100\"),\n",
    "                                html.Div(dropdown_scenario, className=\"w-100\"),\n",
    "                            ],\n",
    "                            className=\"pt-1 pb-1 d-grid gap-2 d-md-flex w-100\",\n",
    "                        )\n",
    "                    ],\n",
    "                    className=\"ms-auto w-100\",\n",
    "                    navbar=True,\n",
    "                ),\n",
    "                id=\"navbar-collapse\",\n",
    "                navbar=True,\n",
    "                is_open=False,\n",
    "            ),\n",
    "        ],\n",
    "    ),\n",
    "    color=\"#808080\",\n",
    "    dark=True,\n",
    ")"
   ]
  },
  {
   "cell_type": "markdown",
   "id": "d7bcce05-c843-464f-9ffb-b2bdaad0cb61",
   "metadata": {
    "papermill": {},
    "tags": []
   },
   "source": [
    "#### Create App Layout "
   ]
  },
  {
   "cell_type": "code",
   "execution_count": null,
   "id": "be0a5c6a-5500-49d4-b1a1-94f1465d0338",
   "metadata": {
    "papermill": {},
    "tags": []
   },
   "outputs": [],
   "source": [
    "app = dash.Dash(\n",
    "    requests_pathname_prefix=f'/user/{os.environ.get(\"JUPYTERHUB_USER\")}/proxy/{DASH_PORT}/',\n",
    "    external_stylesheets=[dbc.themes.BOOTSTRAP],\n",
    "    meta_tags=[\n",
    "        {\"name\": \"viewport\", \"content\": \"width=device-width, initial-scale=1.0\"}\n",
    "    ],\n",
    ")\n",
    "# app = dash.Dash() if you are not in Naas\n",
    "\n",
    "app.title = APP_TITLE\n",
    "app.layout = html.Div(\n",
    "    [\n",
    "        # Navbar\n",
    "        navbar,\n",
    "        # Charts\n",
    "        dbc.Row(\n",
    "            [\n",
    "                dbc.Col(\n",
    "                    dcc.Graph(id=\"fig1\", figure=bar_chart, className=\"h-100\"),\n",
    "                    xs=12,\n",
    "                    sm=12,\n",
    "                    md=12,\n",
    "                    lg=6,\n",
    "                    xl=6,\n",
    "                ),\n",
    "                dbc.Col(\n",
    "                    [\n",
    "                        dbc.Row(\n",
    "                            [\n",
    "                                dcc.Graph(id=\"fig2\", figure=pie_chart),\n",
    "                            ]\n",
    "                        ),\n",
    "                        dbc.Row(\n",
    "                            [\n",
    "                                dcc.Graph(id=\"fig3\", figure=heat_chart),\n",
    "                            ]\n",
    "                        ),\n",
    "                    ],\n",
    "                    xs=12,\n",
    "                    sm=12,\n",
    "                    md=12,\n",
    "                    lg=6,\n",
    "                    xl=6,\n",
    "                ),\n",
    "            ]\n",
    "        ),\n",
    "    ]\n",
    ")\n",
    "\n",
    "# add callback for toggling the collapse on small screens\n",
    "@app.callback(\n",
    "    Output(\"navbar-collapse\", \"is_open\"),\n",
    "    [Input(\"navbar-toggler\", \"n_clicks\")],\n",
    "    [State(\"navbar-collapse\", \"is_open\")],\n",
    ")\n",
    "def toggle_navbar_collapse(n, is_open):\n",
    "    if n:\n",
    "        return not is_open\n",
    "    return is_open\n",
    "\n",
    "\n",
    "# add callback to filter data in charts\n",
    "@app.callback(\n",
    "    [\n",
    "        Output(\"fig1\", \"figure\"),\n",
    "        Output(\"fig2\", \"figure\"),\n",
    "        Output(\"fig3\", \"figure\"),\n",
    "    ],\n",
    "    [Input(\"entity\", \"value\"), Input(\"scenario\", \"value\")],\n",
    ")\n",
    "def multi_outputs(entity, scenario):\n",
    "    # Get Gross Sales & COGS graph dataframe\n",
    "    sales_cogs = sales_cogs_df.copy()\n",
    "    sales_cogs = sales_cogs[\n",
    "        (sales_cogs[\"SCENARIO\"].astype(str) == scenario)\n",
    "    ].reset_index(drop=True)\n",
    "\n",
    "    # Get Product Sales per Country graph dataframe\n",
    "    country_product_sales = product_sales.copy()\n",
    "    country_product_sales = country_product_sales[\n",
    "        (country_product_sales[\"SCENARIO\"].astype(str) == scenario)\n",
    "    ].reset_index(drop=True)\n",
    "\n",
    "    #         # Create graphs\n",
    "    fig1 = create_bar_chart(sales_cogs, \"ENTITY\", \"VALUE\")\n",
    "    fig2 = create_pie_chart(sales_cogs, \"ENTITY\", \"VALUE\")\n",
    "    fig3 = create_heatmap_chart(country_product_sales)\n",
    "    return fig1, fig2, fig3"
   ]
  },
  {
   "cell_type": "markdown",
   "id": "lonely-pacific",
   "metadata": {
    "execution": {
     "iopub.execute_input": "2021-07-02T23:32:10.789097Z",
     "iopub.status.busy": "2021-07-02T23:32:10.788829Z",
     "iopub.status.idle": "2021-07-02T23:32:10.796900Z",
     "shell.execute_reply": "2021-07-02T23:32:10.796358Z",
     "shell.execute_reply.started": "2021-07-02T23:32:10.789033Z"
    },
    "papermill": {},
    "tags": []
   },
   "source": [
    "## Output"
   ]
  },
  {
   "cell_type": "markdown",
   "id": "890f7c86-b7bb-4f5d-9a1b-e492dd9580fd",
   "metadata": {
    "papermill": {},
    "tags": []
   },
   "source": [
    "### Generate URL and show logs"
   ]
  },
  {
   "cell_type": "code",
   "execution_count": null,
   "id": "9c4e3b7b-6440-4844-8054-265f1aec65eb",
   "metadata": {
    "papermill": {},
    "tags": []
   },
   "outputs": [],
   "source": [
    "if __name__ == \"__main__\":\n",
    "    app.run_server(proxy=f\"http://127.0.0.1:{DASH_PORT}::https://app.naas.ai\")"
   ]
  },
  {
   "cell_type": "code",
   "execution_count": null,
   "id": "dd1151e1-2dcb-426d-99d7-f72ba290424a",
   "metadata": {
    "papermill": {},
    "tags": []
   },
   "outputs": [],
   "source": []
  }
 ],
 "metadata": {
  "kernelspec": {
   "display_name": "Python 3",
   "language": "python",
   "name": "python3"
  },
  "language_info": {
   "codemirror_mode": {
    "name": "ipython",
    "version": 3
   },
   "file_extension": ".py",
   "mimetype": "text/x-python",
   "name": "python",
   "nbconvert_exporter": "python",
   "pygments_lexer": "ipython3",
   "version": "3.9.6"
  },
  "papermill": {
   "default_parameters": {},
   "environment_variables": {},
   "parameters": {},
   "version": "2.3.3"
  },
  "widgets": {
   "application/vnd.jupyter.widget-state+json": {
    "state": {},
    "version_major": 2,
    "version_minor": 0
   }
  }
 },
 "nbformat": 4,
 "nbformat_minor": 5
}