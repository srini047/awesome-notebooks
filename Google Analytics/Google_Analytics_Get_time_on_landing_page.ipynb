{
 "cells": [
  {
   "cell_type": "markdown",
   "id": "ef240f47",
   "metadata": {
    "execution": {
     "iopub.execute_input": "2021-02-23T14:22:16.610471Z",
     "iopub.status.busy": "2021-02-23T14:22:16.610129Z",
     "iopub.status.idle": "2021-02-23T14:22:16.627784Z",
     "shell.execute_reply": "2021-02-23T14:22:16.626866Z",
     "shell.execute_reply.started": "2021-02-23T14:22:16.610384Z"
    },
    "papermill": {},
    "tags": []
   },
   "source": [
    "<img width=\"10%\" alt=\"Naas\" src=\"https://landen.imgix.net/jtci2pxwjczr/assets/5ice39g4.png?w=160\"/>"
   ]
  },
  {
   "cell_type": "markdown",
   "id": "198be418",
   "metadata": {
    "papermill": {},
    "tags": []
   },
   "source": [
    "# Google Analytics - Get time on landing page\n",
    "<a href=\"https://app.naas.ai/user-redirect/naas/downloader?url=https://raw.githubusercontent.com/jupyter-naas/awesome-notebooks/master/Google%20Analytics/Google_Analytics_Get_time_on_landing_page.ipynb\" target=\"_parent\"><img src=\"https://naasai-public.s3.eu-west-3.amazonaws.com/open_in_naas.svg\"/></a><br><br><a href=\"https://github.com/jupyter-naas/awesome-notebooks/issues/new?assignees=&labels=&template=template-request.md&title=Tool+-+Action+of+the+notebook+\">Template request</a> | <a href=\"https://github.com/jupyter-naas/awesome-notebooks/issues/new?assignees=&labels=bug&template=bug_report.md&title=Google+Analytics+-+Get+time+on+landing+page:+Error+short+description\">Bug report</a>"
   ]
  },
  {
   "cell_type": "markdown",
   "id": "e8d162d2",
   "metadata": {
    "papermill": {},
    "tags": []
   },
   "source": [
    "**Tags:** #googleanalytics #timeonlanding #marketing #analytics #automation #image #csv #html #plotly"
   ]
  },
  {
   "cell_type": "markdown",
   "id": "c728b030-90fb-4649-8951-58b4c207fdda",
   "metadata": {
    "papermill": {},
    "tags": []
   },
   "source": [
    "**Author:** [Charles Demontigny](https://www.linkedin.com/in/charles-demontigny/)"
   ]
  },
  {
   "cell_type": "markdown",
   "id": "naas-description",
   "metadata": {
    "papermill": {},
    "tags": [
     "description"
    ]
   },
   "source": [
    "**Description:** This notebook provides an analysis of the amount of time visitors spend on a landing page using Google Analytics."
   ]
  },
  {
   "cell_type": "markdown",
   "id": "7a48ab8a",
   "metadata": {
    "papermill": {},
    "tags": []
   },
   "source": [
    "## Input"
   ]
  },
  {
   "cell_type": "markdown",
   "id": "91eb1cbb",
   "metadata": {
    "papermill": {},
    "tags": []
   },
   "source": [
    "### Import library"
   ]
  },
  {
   "cell_type": "code",
   "execution_count": 2,
   "id": "8acaa842",
   "metadata": {
    "execution": {
     "iopub.execute_input": "2022-02-17T10:25:48.438105Z",
     "iopub.status.busy": "2022-02-17T10:25:48.437886Z",
     "iopub.status.idle": "2022-02-17T10:25:50.229982Z",
     "shell.execute_reply": "2022-02-17T10:25:50.228999Z",
     "shell.execute_reply.started": "2022-02-17T10:25:48.438084Z"
    },
    "papermill": {},
    "tags": []
   },
   "outputs": [],
   "source": [
    "from datetime import timedelta\n",
    "import pandas as pd\n",
    "import plotly.graph_objects as go\n",
    "import naas\n",
    "from naas_drivers import googleanalytics"
   ]
  },
  {
   "cell_type": "markdown",
   "id": "b13128ad",
   "metadata": {
    "papermill": {},
    "tags": []
   },
   "source": [
    "### Get your credential from Google Cloud Platform"
   ]
  },
  {
   "cell_type": "code",
   "execution_count": 3,
   "id": "2a05061d",
   "metadata": {
    "execution": {
     "iopub.execute_input": "2022-02-17T10:25:50.233806Z",
     "iopub.status.busy": "2022-02-17T10:25:50.233401Z",
     "iopub.status.idle": "2022-02-17T10:25:50.236837Z",
     "shell.execute_reply": "2022-02-17T10:25:50.236276Z",
     "shell.execute_reply.started": "2022-02-17T10:25:50.233775Z"
    },
    "papermill": {},
    "tags": []
   },
   "outputs": [],
   "source": [
    "json_path = \"naas-googleanalytics.json\""
   ]
  },
  {
   "cell_type": "markdown",
   "id": "649fcfb6",
   "metadata": {
    "papermill": {},
    "tags": []
   },
   "source": [
    "### Get view id from google analytics"
   ]
  },
  {
   "cell_type": "code",
   "execution_count": 4,
   "id": "6e56bbd9",
   "metadata": {
    "execution": {
     "iopub.execute_input": "2022-02-17T10:25:50.330398Z",
     "iopub.status.busy": "2022-02-17T10:25:50.330148Z",
     "iopub.status.idle": "2022-02-17T10:25:50.335490Z",
     "shell.execute_reply": "2022-02-17T10:25:50.334078Z",
     "shell.execute_reply.started": "2022-02-17T10:25:50.330375Z"
    },
    "papermill": {},
    "tags": []
   },
   "outputs": [],
   "source": [
    "view_id = \"228952707\""
   ]
  },
  {
   "cell_type": "markdown",
   "id": "8c22a49d-9140-4c2e-808b-13a336db2d3f",
   "metadata": {
    "papermill": {},
    "tags": []
   },
   "source": [
    "### Schedule your notebook"
   ]
  },
  {
   "cell_type": "code",
   "execution_count": 1,
   "id": "32cfda5d-9590-4d91-a381-9149500f99c2",
   "metadata": {
    "execution": {
     "iopub.execute_input": "2022-02-17T10:25:46.185115Z",
     "iopub.status.busy": "2022-02-17T10:25:46.184918Z",
     "iopub.status.idle": "2022-02-17T10:25:46.188381Z",
     "shell.execute_reply": "2022-02-17T10:25:46.187784Z",
     "shell.execute_reply.started": "2022-02-17T10:25:46.185056Z"
    },
    "papermill": {},
    "tags": []
   },
   "outputs": [],
   "source": [
    "naas.scheduler.add(cron=\"0 8 * * *\")\n",
    "naas.dependency.add(json_path)\n",
    "\n",
    "# -> Uncomment the line below (by removing the hashtag) to remove your scheduler\n",
    "# naas.scheduler.delete()"
   ]
  },
  {
   "cell_type": "markdown",
   "id": "d3685224",
   "metadata": {
    "papermill": {},
    "tags": []
   },
   "source": [
    "## Model"
   ]
  },
  {
   "cell_type": "markdown",
   "id": "66ad6133",
   "metadata": {
    "papermill": {},
    "tags": []
   },
   "source": [
    "### Time spent on landing page"
   ]
  },
  {
   "cell_type": "code",
   "execution_count": 5,
   "id": "62f2e31a",
   "metadata": {
    "execution": {
     "iopub.execute_input": "2022-02-17T10:25:51.786499Z",
     "iopub.status.busy": "2022-02-17T10:25:51.786257Z",
     "iopub.status.idle": "2022-02-17T10:25:52.755167Z",
     "shell.execute_reply": "2022-02-17T10:25:52.754259Z",
     "shell.execute_reply.started": "2022-02-17T10:25:51.786467Z"
    },
    "papermill": {},
    "tags": []
   },
   "outputs": [],
   "source": [
    "df_avg_time = googleanalytics.connect(json_path=json_path).views.get_time_landing(\n",
    "    view_id=view_id, landing_path=\"/\"\n",
    ")\n",
    "df_avg_time"
   ]
  },
  {
   "cell_type": "markdown",
   "id": "a9857211",
   "metadata": {
    "execution": {
     "iopub.execute_input": "2021-07-02T23:32:10.789097Z",
     "iopub.status.busy": "2021-07-02T23:32:10.788829Z",
     "iopub.status.idle": "2021-07-02T23:32:10.796900Z",
     "shell.execute_reply": "2021-07-02T23:32:10.796358Z",
     "shell.execute_reply.started": "2021-07-02T23:32:10.789033Z"
    },
    "papermill": {},
    "tags": []
   },
   "source": [
    "## Output"
   ]
  },
  {
   "cell_type": "markdown",
   "id": "2a65a982",
   "metadata": {
    "papermill": {},
    "tags": []
   },
   "source": [
    "### Display result"
   ]
  },
  {
   "cell_type": "code",
   "execution_count": 6,
   "id": "78d55fad",
   "metadata": {
    "papermill": {},
    "tags": []
   },
   "outputs": [],
   "source": [
    "avg_time_on_landing[\"avg_time_landing\"]"
   ]
  },
  {
   "cell_type": "markdown",
   "id": "72c34812",
   "metadata": {
    "papermill": {},
    "tags": []
   },
   "source": [
    "### Plot Time spent on landing page"
   ]
  },
  {
   "cell_type": "code",
   "execution_count": 7,
   "id": "d93d1171",
   "metadata": {
    "papermill": {},
    "tags": []
   },
   "outputs": [],
   "source": [
    "def gen_tickvals(avg_time_landing: pd.Series) -> tuple:\n",
    "    \"\"\"\n",
    "    Generate tick text and values.\n",
    "    \"\"\"\n",
    "    delta = int(avg_time_landing.std() / 3)\n",
    "    minimum = int(avg_time_landing.min() - delta)\n",
    "    maximum = int(avg_time_landing.max() + delta)\n",
    "    tickvals = list(range(minimum, maximum, delta))\n",
    "    ticktext = [str(timedelta(seconds=v)) for v in tickvals]\n",
    "    return tickvals, ticktext\n",
    "\n",
    "\n",
    "def plot_time_spent_on_landing(df: pd.DataFrame):\n",
    "    \"\"\"\n",
    "    Plot time spent on landing page in Plotly.\n",
    "    \"\"\"\n",
    "    tickvals, ticktext = gen_tickvals(df[\"avg_time_landing\"])\n",
    "    data = go.Scatter(\n",
    "        x=pd.to_datetime(df[\"Year Month\"] + \"01\"), y=df[\"avg_time_landing\"]\n",
    "    )\n",
    "\n",
    "    fig = go.Figure(data=data)\n",
    "    fig.update_traces(mode=\"lines+markers\")\n",
    "    fig.update_layout(title=\"Avg. Time on Landing Page (in seconds)\", template=\"none\")\n",
    "    fig.update_yaxes(ticktext=ticktext, tickvals=tickvals)\n",
    "    return fig"
   ]
  },
  {
   "cell_type": "code",
   "execution_count": 8,
   "id": "c1ddadf4",
   "metadata": {
    "papermill": {},
    "tags": []
   },
   "outputs": [],
   "source": [
    "plot_time_spent_on_landing(avg_time_on_landing)"
   ]
  },
  {
   "cell_type": "code",
   "execution_count": 9,
   "id": "0ecce011",
   "metadata": {
    "papermill": {},
    "tags": []
   },
   "outputs": [],
   "source": [
    "avg_time_on_landing[\"avg_time_landing\"]"
   ]
  },
  {
   "cell_type": "code",
   "execution_count": 10,
   "id": "55e3dfb8",
   "metadata": {
    "papermill": {},
    "tags": []
   },
   "outputs": [],
   "source": [
    "str(timedelta(seconds=70))"
   ]
  },
  {
   "cell_type": "code",
   "execution_count": null,
   "id": "10edbced",
   "metadata": {
    "papermill": {},
    "tags": []
   },
   "outputs": [],
   "source": []
  }
 ],
 "metadata": {
  "interpreter": {
   "hash": "aee8b7b246df8f9039afb4144a1f6fd8d2ca17a180786b69acc140d282b71a49"
  },
  "kernelspec": {
   "display_name": "Python 3",
   "language": "python",
   "name": "python3"
  },
  "language_info": {
   "codemirror_mode": {
    "name": "ipython",
    "version": 3
   },
   "file_extension": ".py",
   "mimetype": "text/x-python",
   "name": "python",
   "nbconvert_exporter": "python",
   "pygments_lexer": "ipython3",
   "version": "3.9.6"
  },
  "naas": {
   "notebook_id": "6cb4644b-5f7f-4281-b246-641b3386a785",
   "notebook_path": "Google Analytics/Google_Analytics_Get_time_on_landing_page.ipynb"
  },
  "papermill": {
   "default_parameters": {},
   "environment_variables": {},
   "parameters": {},
   "version": "2.3.3"
  },
  "widgets": {
   "application/vnd.jupyter.widget-state+json": {
    "state": {},
    "version_major": 2,
    "version_minor": 0
   }
  }
 },
 "nbformat": 4,
 "nbformat_minor": 5
}