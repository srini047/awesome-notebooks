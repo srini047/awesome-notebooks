{
 "cells": [
  {
   "cell_type": "markdown",
   "id": "034c67ee",
   "metadata": {
    "execution": {
     "iopub.execute_input": "2021-02-23T14:22:16.610471Z",
     "iopub.status.busy": "2021-02-23T14:22:16.610129Z",
     "iopub.status.idle": "2021-02-23T14:22:16.627784Z",
     "shell.execute_reply": "2021-02-23T14:22:16.626866Z",
     "shell.execute_reply.started": "2021-02-23T14:22:16.610384Z"
    },
    "papermill": {},
    "tags": []
   },
   "source": [
    "<img width=\"10%\" alt=\"Naas\" src=\"https://landen.imgix.net/jtci2pxwjczr/assets/5ice39g4.png?w=160\"/>"
   ]
  },
  {
   "cell_type": "markdown",
   "id": "9f250691",
   "metadata": {
    "papermill": {},
    "tags": []
   },
   "source": [
    "# Google Analytics - Get pageview ranking\n",
    "<a href=\"https://app.naas.ai/user-redirect/naas/downloader?url=https://raw.githubusercontent.com/jupyter-naas/awesome-notebooks/master/Google%20Analytics/Google_Analytics_Get_pageview_ranking.ipynb\" target=\"_parent\"><img src=\"https://naasai-public.s3.eu-west-3.amazonaws.com/open_in_naas.svg\"/></a><br><br><a href=\"https://github.com/jupyter-naas/awesome-notebooks/issues/new?assignees=&labels=&template=template-request.md&title=Tool+-+Action+of+the+notebook+\">Template request</a> | <a href=\"https://github.com/jupyter-naas/awesome-notebooks/issues/new?assignees=&labels=bug&template=bug_report.md&title=Google+Analytics+-+Get+pageview+ranking:+Error+short+description\">Bug report</a>"
   ]
  },
  {
   "cell_type": "markdown",
   "id": "788da050",
   "metadata": {
    "papermill": {},
    "tags": []
   },
   "source": [
    "**Tags:** #googleanalytics #pageviews #plotly #horizontalbarchart #naas_drivers #scheduler #asset #naas #marketing #analytics #automation #image #csv #html"
   ]
  },
  {
   "cell_type": "markdown",
   "id": "08a65a1e-ea9b-497c-b507-cbeff87b92df",
   "metadata": {
    "papermill": {},
    "tags": []
   },
   "source": [
    "**Author:** [Charles Demontigny](https://www.linkedin.com/in/charles-demontigny/)"
   ]
  },
  {
   "cell_type": "markdown",
   "id": "naas-description",
   "metadata": {
    "papermill": {},
    "tags": [
     "description"
    ]
   },
   "source": [
    "**Description:** This notebook provides a ranking of pageviews for a website using Google Analytics data."
   ]
  },
  {
   "cell_type": "markdown",
   "id": "892355a8",
   "metadata": {
    "papermill": {},
    "tags": []
   },
   "source": [
    "## Input"
   ]
  },
  {
   "cell_type": "markdown",
   "id": "4ba1756c",
   "metadata": {
    "papermill": {},
    "tags": []
   },
   "source": [
    "### Import library"
   ]
  },
  {
   "cell_type": "code",
   "execution_count": null,
   "id": "b199f287",
   "metadata": {
    "papermill": {},
    "tags": []
   },
   "outputs": [],
   "source": [
    "import pandas as pd\n",
    "import plotly.graph_objects as go\n",
    "import naas\n",
    "from naas_drivers import googleanalytics"
   ]
  },
  {
   "cell_type": "markdown",
   "id": "b7cfce6b",
   "metadata": {
    "papermill": {},
    "tags": []
   },
   "source": [
    "### Get your credential from Google Cloud Platform"
   ]
  },
  {
   "cell_type": "code",
   "execution_count": null,
   "id": "c1598e1c",
   "metadata": {
    "papermill": {},
    "tags": []
   },
   "outputs": [],
   "source": [
    "json_path = \"naas-googleanalytics.json\""
   ]
  },
  {
   "cell_type": "markdown",
   "id": "1a61d8c2",
   "metadata": {
    "papermill": {},
    "tags": []
   },
   "source": [
    "### Get view id from google analytics"
   ]
  },
  {
   "cell_type": "code",
   "execution_count": null,
   "id": "cb699e48",
   "metadata": {
    "papermill": {},
    "tags": []
   },
   "outputs": [],
   "source": [
    "view_id = \"228952707\""
   ]
  },
  {
   "cell_type": "markdown",
   "id": "007fe704-8cc4-4da5-8355-8a675f94e74a",
   "metadata": {
    "papermill": {},
    "tags": []
   },
   "source": [
    "### Setup your output paths"
   ]
  },
  {
   "cell_type": "code",
   "execution_count": null,
   "id": "f2209dd7-6b60-442b-80fc-c48353de7f08",
   "metadata": {
    "papermill": {},
    "tags": []
   },
   "outputs": [],
   "source": [
    "csv_output = \"googleanalytics_pages_views.csv\"\n",
    "html_output = \"googleanalytics_pages_views.html\""
   ]
  },
  {
   "cell_type": "markdown",
   "id": "7700839f-97a3-4358-8877-94934ac847db",
   "metadata": {
    "papermill": {},
    "tags": []
   },
   "source": [
    "### Schedule your notebook"
   ]
  },
  {
   "cell_type": "code",
   "execution_count": null,
   "id": "4e8edddb-8bac-46b4-a951-1c10a9e143f4",
   "metadata": {
    "papermill": {},
    "tags": []
   },
   "outputs": [],
   "source": [
    "naas.scheduler.add(cron=\"0 8 * * *\")\n",
    "naas.dependency.add(json_path)\n",
    "\n",
    "# -> Uncomment the line below (by removing the hashtag) to remove your scheduler\n",
    "# naas.scheduler.delete()"
   ]
  },
  {
   "cell_type": "markdown",
   "id": "5ee17e68",
   "metadata": {
    "papermill": {},
    "tags": []
   },
   "source": [
    "## Model"
   ]
  },
  {
   "cell_type": "markdown",
   "id": "5c1e039a",
   "metadata": {
    "papermill": {},
    "tags": []
   },
   "source": [
    "### Ranking: Most visited web pages"
   ]
  },
  {
   "cell_type": "code",
   "execution_count": null,
   "id": "1e2873ec",
   "metadata": {
    "papermill": {},
    "tags": []
   },
   "outputs": [],
   "source": [
    "df_pageview = googleanalytics.connect(json_path=json_path).views.get_pageview(view_id)\n",
    "df_pageview"
   ]
  },
  {
   "cell_type": "markdown",
   "id": "ff8c5df3",
   "metadata": {
    "execution": {
     "iopub.execute_input": "2021-07-02T23:32:10.789097Z",
     "iopub.status.busy": "2021-07-02T23:32:10.788829Z",
     "iopub.status.idle": "2021-07-02T23:32:10.796900Z",
     "shell.execute_reply": "2021-07-02T23:32:10.796358Z",
     "shell.execute_reply.started": "2021-07-02T23:32:10.789033Z"
    },
    "papermill": {},
    "tags": []
   },
   "source": [
    "## Output"
   ]
  },
  {
   "cell_type": "markdown",
   "id": "79f3a95f-2019-4f55-a399-b21107747a91",
   "metadata": {
    "papermill": {},
    "tags": []
   },
   "source": [
    "### Save dataframe in csv"
   ]
  },
  {
   "cell_type": "code",
   "execution_count": null,
   "id": "d82dfabf-1413-4a1b-a6cb-0f959c8a6f43",
   "metadata": {
    "papermill": {},
    "tags": []
   },
   "outputs": [],
   "source": [
    "df_pageview.to_csv(csv_output, index=False)"
   ]
  },
  {
   "cell_type": "markdown",
   "id": "5889acca",
   "metadata": {
    "papermill": {},
    "tags": []
   },
   "source": [
    "### Plotting horizontal barchart"
   ]
  },
  {
   "cell_type": "code",
   "execution_count": null,
   "id": "f5308532",
   "metadata": {
    "papermill": {},
    "tags": []
   },
   "outputs": [],
   "source": [
    "def plot_pageview(df: pd.DataFrame):\n",
    "    \"\"\"\n",
    "    Plot PageView in Plotly.\n",
    "    \"\"\"\n",
    "    # Prep dataframe\n",
    "    df.loc[df.Pages == \"/\", \"Pages\"] = \"landing\"\n",
    "    df.loc[df.Pages != \"landing\", \"Pages\"] = df.Pages.str[1:]\n",
    "\n",
    "    # Get total views\n",
    "    value = \"{:,.0f}\".format(df[\"Pageview\"].sum()).replace(\",\", \" \")\n",
    "\n",
    "    # Create data\n",
    "    data = go.Bar(\n",
    "        y=df[\"Pages\"],\n",
    "        x=df[\"Pageview\"],\n",
    "        text=df[\"Pageview\"],\n",
    "        #                   marker=dict(color=\"black\"),\n",
    "        orientation=\"h\",\n",
    "    )\n",
    "    # Create layout\n",
    "    layout = go.Layout(\n",
    "        yaxis={\"categoryorder\": \"total ascending\"},\n",
    "        margin={\"l\": 150, \"pad\": 20},\n",
    "        title=f\"<b>Most visited web pages, by total visits</b><br><span style='font-size: 13px;'>Total visits: {value}</span>\",\n",
    "        title_font=dict(family=\"Arial\", size=18, color=\"black\"),\n",
    "        xaxis_title=\"No of views\",\n",
    "        xaxis_title_font=dict(family=\"Arial\", size=11, color=\"black\"),\n",
    "        plot_bgcolor=\"#ffffff\",\n",
    "        width=1200,\n",
    "        height=800,\n",
    "        margin_pad=10,\n",
    "    )\n",
    "    fig = go.Figure(data=data, layout=layout)\n",
    "    fig.update_traces(textposition=\"outside\")\n",
    "    return fig\n",
    "\n",
    "\n",
    "fig = plot_pageview(df_pageview)"
   ]
  },
  {
   "cell_type": "markdown",
   "id": "eb8f70e7-33af-49b0-9810-ac8daf18c79f",
   "metadata": {
    "papermill": {},
    "tags": []
   },
   "source": [
    "### Export and share graph"
   ]
  },
  {
   "cell_type": "code",
   "execution_count": null,
   "id": "9a807f54-d6de-4819-82de-fc1a759fd86d",
   "metadata": {
    "papermill": {},
    "tags": []
   },
   "outputs": [],
   "source": [
    "# Export in HTML\n",
    "fig.write_html(html_output)\n",
    "\n",
    "# Shave with naas\n",
    "# -> Uncomment the line below (by removing the hashtag) to share your asset with naas\n",
    "# naas.asset.add(html_output, params={\"inline\": True})\n",
    "\n",
    "# -> Uncomment the line below (by removing the hashtag)  to delete your asset\n",
    "# naas.asset.delete(html_output)"
   ]
  }
 ],
 "metadata": {
  "interpreter": {
   "hash": "aee8b7b246df8f9039afb4144a1f6fd8d2ca17a180786b69acc140d282b71a49"
  },
  "kernelspec": {
   "display_name": "Python 3",
   "language": "python",
   "name": "python3"
  },
  "language_info": {
   "codemirror_mode": {
    "name": "ipython",
    "version": 3
   },
   "file_extension": ".py",
   "mimetype": "text/x-python",
   "name": "python",
   "nbconvert_exporter": "python",
   "pygments_lexer": "ipython3",
   "version": "3.9.6"
  },
  "naas": {
   "notebook_id": "f26ece74-fc7d-4a14-9461-4fcce1cf5e7b",
   "notebook_path": "Google Analytics/Google_Analytics_Get_pageview_ranking.ipynb"
  },
  "papermill": {
   "default_parameters": {},
   "environment_variables": {},
   "parameters": {},
   "version": "2.3.3"
  },
  "widgets": {
   "application/vnd.jupyter.widget-state+json": {
    "state": {},
    "version_major": 2,
    "version_minor": 0
   }
  }
 },
 "nbformat": 4,
 "nbformat_minor": 5
}