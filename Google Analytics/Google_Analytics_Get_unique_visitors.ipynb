{
 "cells": [
  {
   "cell_type": "markdown",
   "id": "fa60830c",
   "metadata": {
    "execution": {
     "iopub.execute_input": "2021-02-23T14:22:16.610471Z",
     "iopub.status.busy": "2021-02-23T14:22:16.610129Z",
     "iopub.status.idle": "2021-02-23T14:22:16.627784Z",
     "shell.execute_reply": "2021-02-23T14:22:16.626866Z",
     "shell.execute_reply.started": "2021-02-23T14:22:16.610384Z"
    },
    "papermill": {},
    "tags": []
   },
   "source": [
    "<img width=\"10%\" alt=\"Naas\" src=\"https://landen.imgix.net/jtci2pxwjczr/assets/5ice39g4.png?w=160\"/>"
   ]
  },
  {
   "cell_type": "markdown",
   "id": "faaac138",
   "metadata": {
    "papermill": {},
    "tags": []
   },
   "source": [
    "# Google Analytics - Get unique visitors\n",
    "<a href=\"https://app.naas.ai/user-redirect/naas/downloader?url=https://raw.githubusercontent.com/jupyter-naas/awesome-notebooks/master/Google%20Analytics/Google_Analytics_Get_unique_visitors.ipynb\" target=\"_parent\"><img src=\"https://naasai-public.s3.eu-west-3.amazonaws.com/Open_in_Naas_Lab.svg\"/></a><br><br><a href=\"https://github.com/jupyter-naas/awesome-notebooks/issues/new?assignees=&labels=&template=template-request.md&title=Tool+-+Action+of+the+notebook+\">Template request</a> | <a href=\"https://github.com/jupyter-naas/awesome-notebooks/issues/new?assignees=&labels=bug&template=bug_report.md&title=Google+Analytics+-+Get+unique+visitors:+Error+short+description\">Bug report</a> | <a href=\"https://app.naas.ai/user-redirect/naas/downloader?url=https://raw.githubusercontent.com/jupyter-naas/awesome-notebooks/master/Naas/Naas_Start_data_product.ipynb\" target=\"_parent\">Generate Data Product</a>"
   ]
  },
  {
   "cell_type": "markdown",
   "id": "a478b193",
   "metadata": {
    "papermill": {},
    "tags": []
   },
   "source": [
    "**Tags:** #googleanalytics #getuniquevisitors #plotly #barchart #naas_drivers #scheduler #asset #naas #marketing #analytics #automation #image #csv #html"
   ]
  },
  {
   "cell_type": "markdown",
   "id": "9241daae-048d-436f-9050-c333badaa62b",
   "metadata": {
    "papermill": {},
    "tags": []
   },
   "source": [
    "**Author:** [Charles Demontigny](https://www.linkedin.com/in/charles-demontigny/)"
   ]
  },
  {
   "cell_type": "markdown",
   "id": "naas-description",
   "metadata": {
    "papermill": {},
    "tags": [
     "description"
    ]
   },
   "source": [
    "**Description:** This notebook provides an analysis of unique visitors to a website using Google Analytics."
   ]
  },
  {
   "cell_type": "markdown",
   "id": "0c8e20c7",
   "metadata": {
    "papermill": {},
    "tags": []
   },
   "source": [
    "## Input"
   ]
  },
  {
   "cell_type": "markdown",
   "id": "f1c13d49",
   "metadata": {
    "papermill": {},
    "tags": []
   },
   "source": [
    "### Import library"
   ]
  },
  {
   "cell_type": "code",
   "execution_count": null,
   "id": "e3559c11",
   "metadata": {
    "papermill": {},
    "tags": []
   },
   "outputs": [],
   "source": [
    "import pandas as pd\n",
    "import plotly.graph_objects as go\n",
    "import naas\n",
    "from naas_drivers import googleanalytics"
   ]
  },
  {
   "cell_type": "markdown",
   "id": "2dbbb845",
   "metadata": {
    "papermill": {},
    "tags": []
   },
   "source": [
    "### Get your credential from Google Cloud Platform"
   ]
  },
  {
   "cell_type": "code",
   "execution_count": null,
   "id": "1b0d712e",
   "metadata": {
    "papermill": {},
    "tags": []
   },
   "outputs": [],
   "source": [
    "json_path = \"naas-googleanalytics.json\""
   ]
  },
  {
   "cell_type": "markdown",
   "id": "1c8e4e9a",
   "metadata": {
    "papermill": {},
    "tags": []
   },
   "source": [
    "### Get view id from google analytics"
   ]
  },
  {
   "cell_type": "code",
   "execution_count": null,
   "id": "2aa16b7c",
   "metadata": {
    "papermill": {},
    "tags": []
   },
   "outputs": [],
   "source": [
    "view_id = \"228952707\""
   ]
  },
  {
   "cell_type": "markdown",
   "id": "0e5ac136-ace7-470b-8cc4-8e618aac8d35",
   "metadata": {
    "papermill": {},
    "tags": []
   },
   "source": [
    "### Setup your output paths"
   ]
  },
  {
   "cell_type": "code",
   "execution_count": null,
   "id": "27278d81-d15b-4c02-a558-e697654f9bd7",
   "metadata": {
    "papermill": {},
    "tags": []
   },
   "outputs": [],
   "source": [
    "csv_output = \"googleanalytics_unique_visitors.csv\"\n",
    "html_output = \"googleanalytics_unique_visitors.html\""
   ]
  },
  {
   "cell_type": "markdown",
   "id": "1da8a62e-fff3-4d50-b05f-7cbc0546da0e",
   "metadata": {
    "papermill": {},
    "tags": []
   },
   "source": [
    "### Schedule your notebook"
   ]
  },
  {
   "cell_type": "code",
   "execution_count": null,
   "id": "b4369c98-6ffc-427a-b02d-8acdad2a4ba7",
   "metadata": {
    "papermill": {},
    "tags": []
   },
   "outputs": [],
   "source": [
    "naas.scheduler.add(cron=\"0 8 * * *\")\n",
    "naas.dependency.add(json_path)\n",
    "\n",
    "# -> Uncomment the line below (by removing the hashtag) to remove your scheduler\n",
    "# naas.scheduler.delete()"
   ]
  },
  {
   "cell_type": "markdown",
   "id": "0583719b",
   "metadata": {
    "papermill": {},
    "tags": []
   },
   "source": [
    "## Model"
   ]
  },
  {
   "cell_type": "markdown",
   "id": "6d9cd9fd",
   "metadata": {
    "papermill": {},
    "tags": []
   },
   "source": [
    "### Number of uniques visitors"
   ]
  },
  {
   "cell_type": "code",
   "execution_count": null,
   "id": "7069e092",
   "metadata": {
    "papermill": {},
    "tags": []
   },
   "outputs": [],
   "source": [
    "df_unique_visitors = googleanalytics.connect(json_path).views.get_unique_visitors(\n",
    "    view_id\n",
    ")\n",
    "df_unique_visitors.tail(5)"
   ]
  },
  {
   "cell_type": "markdown",
   "id": "cf9ffe1e",
   "metadata": {
    "execution": {
     "iopub.execute_input": "2021-07-02T23:32:10.789097Z",
     "iopub.status.busy": "2021-07-02T23:32:10.788829Z",
     "iopub.status.idle": "2021-07-02T23:32:10.796900Z",
     "shell.execute_reply": "2021-07-02T23:32:10.796358Z",
     "shell.execute_reply.started": "2021-07-02T23:32:10.789033Z"
    },
    "papermill": {},
    "tags": []
   },
   "source": [
    "## Output"
   ]
  },
  {
   "cell_type": "markdown",
   "id": "75762b2d-e3c8-4987-bb1d-e81749969901",
   "metadata": {
    "papermill": {},
    "tags": []
   },
   "source": [
    "### Save dataframe in csv"
   ]
  },
  {
   "cell_type": "code",
   "execution_count": null,
   "id": "1dd99349-865d-4a50-a226-de79c19e4802",
   "metadata": {
    "papermill": {},
    "tags": []
   },
   "outputs": [],
   "source": [
    "df_unique_visitors.to_csv(csv_output, index=False)"
   ]
  },
  {
   "cell_type": "markdown",
   "id": "bda14155-977c-4e65-825f-5a69dc1238f6",
   "metadata": {
    "papermill": {},
    "tags": []
   },
   "source": [
    "### Plotting barchart"
   ]
  },
  {
   "cell_type": "code",
   "execution_count": null,
   "id": "a50b31ca",
   "metadata": {
    "papermill": {},
    "tags": []
   },
   "outputs": [],
   "source": [
    "def plot_unique_visitors(df: pd.DataFrame):\n",
    "    \"\"\"\n",
    "    Plot PageView in Plotly.\n",
    "    \"\"\"\n",
    "    # Prep dataframe\n",
    "    df[\"Date\"] = pd.to_datetime(df[\"Year Month\"] + \"01\")\n",
    "\n",
    "    # Get last month value\n",
    "    value = \"{:,.0f}\".format(df.loc[df.index[-1], \"Users\"]).replace(\",\", \" \")\n",
    "\n",
    "    # Create data\n",
    "    data = go.Bar(\n",
    "        x=df[\"Date\"],\n",
    "        y=df[\"Users\"],\n",
    "        text=df[\"Users\"],\n",
    "        #         marker=dict(color=\"black\"),\n",
    "        orientation=\"v\",\n",
    "    )\n",
    "    # Create layout\n",
    "    layout = go.Layout(\n",
    "        yaxis={\"categoryorder\": \"total ascending\"},\n",
    "        margin={\"l\": 150, \"pad\": 20},\n",
    "        title=f\"<b>Number of Unique Visitors by Month</b><br><span style='font-size: 13px;'>Unique visitors this month: {value}</span>\",\n",
    "        title_font=dict(family=\"Arial\", size=18, color=\"black\"),\n",
    "        xaxis_title=\"Months\",\n",
    "        xaxis_title_font=dict(family=\"Arial\", size=11, color=\"black\"),\n",
    "        yaxis_title=\"No visitors\",\n",
    "        yaxis_title_font=dict(family=\"Arial\", size=11, color=\"black\"),\n",
    "        plot_bgcolor=\"#ffffff\",\n",
    "        width=1200,\n",
    "        height=800,\n",
    "        margin_pad=10,\n",
    "    )\n",
    "    fig = go.Figure(data=data, layout=layout)\n",
    "    fig.update_traces(textposition=\"outside\")\n",
    "    return fig\n",
    "\n",
    "\n",
    "fig = plot_unique_visitors(df_unique_visitors)\n",
    "fig.show()"
   ]
  },
  {
   "cell_type": "markdown",
   "id": "62113822-2ef6-407c-b1bf-18541f60cd81",
   "metadata": {
    "papermill": {},
    "tags": []
   },
   "source": [
    "### Export and share graph"
   ]
  },
  {
   "cell_type": "code",
   "execution_count": null,
   "id": "48562b4e-ac94-4b94-b0ca-2c90dc98ad11",
   "metadata": {
    "papermill": {},
    "tags": []
   },
   "outputs": [],
   "source": [
    "# Export in HTML\n",
    "fig.write_html(html_output)\n",
    "\n",
    "# Shave with naas\n",
    "# -> Uncomment the line below (by removing the hashtag) to share your asset with naas\n",
    "# naas.asset.add(html_output, params={\"inline\": True})\n",
    "\n",
    "# -> Uncomment the line below (by removing the hashtag)  to delete your asset\n",
    "# naas.asset.delete(html_output)"
   ]
  }
 ],
 "metadata": {
  "interpreter": {
   "hash": "aee8b7b246df8f9039afb4144a1f6fd8d2ca17a180786b69acc140d282b71a49"
  },
  "kernelspec": {
   "display_name": "Python 3",
   "language": "python",
   "name": "python3"
  },
  "language_info": {
   "codemirror_mode": {
    "name": "ipython",
    "version": 3
   },
   "file_extension": ".py",
   "mimetype": "text/x-python",
   "name": "python",
   "nbconvert_exporter": "python",
   "pygments_lexer": "ipython3",
   "version": "3.9.6"
  },
  "naas": {
   "notebook_id": "d07d75e8dd6ee9ce1a85c6a5909028184fd0a04a3030164ac5c6430a5f7e7b56",
   "notebook_path": "Google Analytics/Google_Analytics_Get_unique_visitors.ipynb"
  },
  "papermill": {
   "default_parameters": {},
   "environment_variables": {},
   "parameters": {},
   "version": "2.3.3"
  },
  "widgets": {
   "application/vnd.jupyter.widget-state+json": {
    "state": {},
    "version_major": 2,
    "version_minor": 0
   }
  }
 },
 "nbformat": 4,
 "nbformat_minor": 5
}