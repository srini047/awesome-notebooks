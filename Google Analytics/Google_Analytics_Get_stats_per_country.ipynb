{
 "cells": [
  {
   "cell_type": "markdown",
   "id": "4674b02f",
   "metadata": {
    "execution": {
     "iopub.execute_input": "2021-02-23T14:22:16.610471Z",
     "iopub.status.busy": "2021-02-23T14:22:16.610129Z",
     "iopub.status.idle": "2021-02-23T14:22:16.627784Z",
     "shell.execute_reply": "2021-02-23T14:22:16.626866Z",
     "shell.execute_reply.started": "2021-02-23T14:22:16.610384Z"
    },
    "papermill": {},
    "tags": []
   },
   "source": [
    "<img width=\"10%\" alt=\"Naas\" src=\"https://landen.imgix.net/jtci2pxwjczr/assets/5ice39g4.png?w=160\"/>"
   ]
  },
  {
   "cell_type": "markdown",
   "id": "b7a36ee3",
   "metadata": {
    "papermill": {},
    "tags": []
   },
   "source": [
    "# Google Analytics - Get stats per country\n",
    "<a href=\"https://app.naas.ai/user-redirect/naas/downloader?url=https://raw.githubusercontent.com/jupyter-naas/awesome-notebooks/master/Google%20Analytics/Google_Analytics_Get_stats_per_country.ipynb\" target=\"_parent\"><img src=\"https://naasai-public.s3.eu-west-3.amazonaws.com/open_in_naas.svg\"/></a><br><br><a href=\"https://github.com/jupyter-naas/awesome-notebooks/issues/new?assignees=&labels=&template=template-request.md&title=Tool+-+Action+of+the+notebook+\">Template request</a> | <a href=\"https://github.com/jupyter-naas/awesome-notebooks/issues/new?assignees=&labels=bug&template=bug_report.md&title=Google+Analytics+-+Get+stats+per+country:+Error+short+description\">Bug report</a>"
   ]
  },
  {
   "cell_type": "markdown",
   "id": "19875963",
   "metadata": {
    "papermill": {},
    "tags": []
   },
   "source": [
    "**Tags:** #googleanalytics #statspercountry #marketing #analytics #automation #image #csv #html #plotly"
   ]
  },
  {
   "cell_type": "markdown",
   "id": "29814b06-df6a-4be0-9b98-a9a523e2f98b",
   "metadata": {
    "papermill": {},
    "tags": []
   },
   "source": [
    "**Author:** [Charles Demontigny](https://www.linkedin.com/in/charles-demontigny/)"
   ]
  },
  {
   "cell_type": "markdown",
   "id": "naas-description",
   "metadata": {
    "papermill": {},
    "tags": [
     "description"
    ]
   },
   "source": [
    "**Description:** This notebook provides a comprehensive analysis of website traffic by country using Google Analytics."
   ]
  },
  {
   "cell_type": "markdown",
   "id": "55f800df",
   "metadata": {
    "papermill": {},
    "tags": []
   },
   "source": [
    "## Input"
   ]
  },
  {
   "cell_type": "markdown",
   "id": "3f24ee2c",
   "metadata": {
    "papermill": {},
    "tags": []
   },
   "source": [
    "### Import library"
   ]
  },
  {
   "cell_type": "code",
   "execution_count": 10,
   "id": "b2586bcc",
   "metadata": {
    "execution": {
     "iopub.execute_input": "2022-02-17T10:23:01.835074Z",
     "iopub.status.busy": "2022-02-17T10:23:01.834853Z",
     "iopub.status.idle": "2022-02-17T10:23:01.838848Z",
     "shell.execute_reply": "2022-02-17T10:23:01.838229Z",
     "shell.execute_reply.started": "2022-02-17T10:23:01.835052Z"
    },
    "papermill": {},
    "tags": []
   },
   "outputs": [],
   "source": [
    "try:\n",
    "    import pycountry\n",
    "except:\n",
    "    !pip install pycountry\n",
    "    import pycountry\n",
    "import plotly.graph_objects as go\n",
    "import plotly.express as px\n",
    "import naas\n",
    "from naas_drivers import googleanalytics"
   ]
  },
  {
   "cell_type": "markdown",
   "id": "8f103e30",
   "metadata": {
    "papermill": {},
    "tags": []
   },
   "source": [
    "### Get your credential from Google Cloud Platform"
   ]
  },
  {
   "cell_type": "code",
   "execution_count": 11,
   "id": "04c24e42",
   "metadata": {
    "execution": {
     "iopub.execute_input": "2022-02-17T10:23:03.026689Z",
     "iopub.status.busy": "2022-02-17T10:23:03.026437Z",
     "iopub.status.idle": "2022-02-17T10:23:03.029568Z",
     "shell.execute_reply": "2022-02-17T10:23:03.028914Z",
     "shell.execute_reply.started": "2022-02-17T10:23:03.026658Z"
    },
    "papermill": {},
    "tags": []
   },
   "outputs": [],
   "source": [
    "json_path = \"naas-googleanalytics.json\""
   ]
  },
  {
   "cell_type": "markdown",
   "id": "9b37f390",
   "metadata": {
    "papermill": {},
    "tags": []
   },
   "source": [
    "### Get view id from google analytics"
   ]
  },
  {
   "cell_type": "code",
   "execution_count": 12,
   "id": "fe4ddc9f",
   "metadata": {
    "execution": {
     "iopub.execute_input": "2022-02-17T10:23:03.741941Z",
     "iopub.status.busy": "2022-02-17T10:23:03.741678Z",
     "iopub.status.idle": "2022-02-17T10:23:03.744918Z",
     "shell.execute_reply": "2022-02-17T10:23:03.744271Z",
     "shell.execute_reply.started": "2022-02-17T10:23:03.741917Z"
    },
    "papermill": {},
    "tags": []
   },
   "outputs": [],
   "source": [
    "view_id = \"228952707\""
   ]
  },
  {
   "cell_type": "markdown",
   "id": "b0a8cc05-f61b-4c77-b266-e9869a5962e2",
   "metadata": {
    "papermill": {},
    "tags": []
   },
   "source": [
    "### Schedule your notebook"
   ]
  },
  {
   "cell_type": "code",
   "execution_count": null,
   "id": "e16d2a06-a802-48a8-b7ed-a03aba08bc1b",
   "metadata": {
    "papermill": {},
    "tags": []
   },
   "outputs": [],
   "source": [
    "naas.scheduler.add(cron=\"0 8 * * *\")\n",
    "naas.dependency.add(json_path)\n",
    "\n",
    "# -> Uncomment the line below (by removing the hashtag) to remove your scheduler\n",
    "# naas.scheduler.delete()"
   ]
  },
  {
   "cell_type": "markdown",
   "id": "0cc5aa89",
   "metadata": {
    "papermill": {},
    "tags": []
   },
   "source": [
    "## Model"
   ]
  },
  {
   "cell_type": "markdown",
   "id": "d08332b2",
   "metadata": {
    "papermill": {},
    "tags": []
   },
   "source": [
    "### Visitor's country of origin"
   ]
  },
  {
   "cell_type": "code",
   "execution_count": 13,
   "id": "5ffdb5bd",
   "metadata": {
    "execution": {
     "iopub.execute_input": "2022-02-17T10:23:04.767021Z",
     "iopub.status.busy": "2022-02-17T10:23:04.766693Z",
     "iopub.status.idle": "2022-02-17T10:23:05.403889Z",
     "shell.execute_reply": "2022-02-17T10:23:05.399914Z",
     "shell.execute_reply.started": "2022-02-17T10:23:04.766987Z"
    },
    "papermill": {},
    "tags": []
   },
   "outputs": [],
   "source": [
    "df_country = googleanalytics.connect(json_path=json_path).views.get_data(\n",
    "    view_id,\n",
    "    metrics=\"ga:sessions\",\n",
    "    pivots_dimensions=\"ga:country\",\n",
    "    dimensions=\"ga:month\",\n",
    "    start_date=None,\n",
    "    end_date=None,\n",
    "    format_type=\"pivot\",\n",
    ")\n",
    "df_country"
   ]
  },
  {
   "cell_type": "code",
   "execution_count": 15,
   "id": "149ca1de",
   "metadata": {
    "execution": {
     "iopub.execute_input": "2022-02-17T10:23:26.854249Z",
     "iopub.status.busy": "2022-02-17T10:23:26.854024Z",
     "iopub.status.idle": "2022-02-17T10:23:27.224360Z",
     "shell.execute_reply": "2022-02-17T10:23:27.220684Z",
     "shell.execute_reply.started": "2022-02-17T10:23:26.854226Z"
    },
    "papermill": {},
    "tags": []
   },
   "outputs": [],
   "source": [
    "sessions_per_country = googleanalytics.connect(json_path=json_path).views.get_country(\n",
    "    view_id\n",
    ")  # default: metrics=\"ga:sessions\""
   ]
  },
  {
   "cell_type": "code",
   "execution_count": null,
   "id": "18fecb26",
   "metadata": {
    "execution": {
     "iopub.status.busy": "2022-02-17T10:19:39.564037Z",
     "iopub.status.idle": "2022-02-17T10:19:39.564372Z",
     "shell.execute_reply": "2022-02-17T10:19:39.564207Z"
    },
    "papermill": {},
    "tags": []
   },
   "outputs": [],
   "source": [
    "sessions_per_country"
   ]
  },
  {
   "cell_type": "code",
   "execution_count": null,
   "id": "03f7c62e",
   "metadata": {
    "execution": {
     "iopub.status.busy": "2022-02-17T10:19:39.565277Z",
     "iopub.status.idle": "2022-02-17T10:19:39.565652Z",
     "shell.execute_reply": "2022-02-17T10:19:39.565483Z"
    },
    "papermill": {},
    "tags": []
   },
   "outputs": [],
   "source": [
    "users_per_country = googleanalytics.views.get_country(view_id, metrics=\"ga:users\")"
   ]
  },
  {
   "cell_type": "markdown",
   "id": "1f16409e",
   "metadata": {
    "execution": {
     "iopub.execute_input": "2021-07-02T23:32:10.789097Z",
     "iopub.status.busy": "2021-07-02T23:32:10.788829Z",
     "iopub.status.idle": "2021-07-02T23:32:10.796900Z",
     "shell.execute_reply": "2021-07-02T23:32:10.796358Z",
     "shell.execute_reply.started": "2021-07-02T23:32:10.789033Z"
    },
    "papermill": {},
    "tags": []
   },
   "source": [
    "## Output"
   ]
  },
  {
   "cell_type": "markdown",
   "id": "df5aee5b",
   "metadata": {
    "papermill": {},
    "tags": []
   },
   "source": [
    "### Display result"
   ]
  },
  {
   "cell_type": "code",
   "execution_count": null,
   "id": "4be9d67e",
   "metadata": {
    "execution": {
     "iopub.status.busy": "2022-02-17T10:19:39.566692Z",
     "iopub.status.idle": "2022-02-17T10:19:39.567028Z",
     "shell.execute_reply": "2022-02-17T10:19:39.566864Z"
    },
    "papermill": {},
    "tags": []
   },
   "outputs": [],
   "source": [
    "sessions_per_country.head()"
   ]
  },
  {
   "cell_type": "code",
   "execution_count": null,
   "id": "eaf70410",
   "metadata": {
    "execution": {
     "iopub.status.busy": "2022-02-17T10:19:39.567967Z",
     "iopub.status.idle": "2022-02-17T10:19:39.568458Z",
     "shell.execute_reply": "2022-02-17T10:19:39.568283Z"
    },
    "papermill": {},
    "tags": []
   },
   "outputs": [],
   "source": [
    "users_per_country.head()"
   ]
  },
  {
   "cell_type": "code",
   "execution_count": null,
   "id": "21f5bb7f",
   "metadata": {
    "execution": {
     "iopub.status.busy": "2022-02-17T10:19:39.569304Z",
     "iopub.status.idle": "2022-02-17T10:19:39.569818Z",
     "shell.execute_reply": "2022-02-17T10:19:39.569642Z"
    },
    "papermill": {},
    "tags": []
   },
   "outputs": [],
   "source": [
    "sessions_per_country = sessions_per_country.reset_index().rename(\n",
    "    columns={\"index\": \"Country\"}\n",
    ")\n",
    "mapping = {country.name: country.alpha_3 for country in pycountry.countries}\n",
    "sessions_per_country[\"iso_alpha\"] = sessions_per_country[\"Country\"].apply(\n",
    "    lambda x: mapping.get(x)\n",
    ")"
   ]
  },
  {
   "cell_type": "code",
   "execution_count": null,
   "id": "87efe887",
   "metadata": {
    "execution": {
     "iopub.status.busy": "2022-02-17T10:19:39.570711Z",
     "iopub.status.idle": "2022-02-17T10:19:39.571044Z",
     "shell.execute_reply": "2022-02-17T10:19:39.570881Z"
    },
    "papermill": {},
    "tags": []
   },
   "outputs": [],
   "source": [
    "sessions_per_country"
   ]
  },
  {
   "cell_type": "code",
   "execution_count": null,
   "id": "1ce837c6",
   "metadata": {
    "execution": {
     "iopub.status.busy": "2022-02-17T10:19:39.572026Z",
     "iopub.status.idle": "2022-02-17T10:19:39.572366Z",
     "shell.execute_reply": "2022-02-17T10:19:39.572201Z"
    },
    "papermill": {},
    "tags": []
   },
   "outputs": [],
   "source": [
    "fig = px.choropleth(\n",
    "    sessions_per_country,\n",
    "    locations=\"iso_alpha\",\n",
    "    color=\"Sessions\",\n",
    "    hover_name=\"Country\",\n",
    "    color_continuous_scale=\"Greens\",\n",
    ")\n",
    "fig.show()"
   ]
  },
  {
   "cell_type": "code",
   "execution_count": null,
   "id": "85ea1c29",
   "metadata": {
    "papermill": {},
    "tags": []
   },
   "outputs": [],
   "source": []
  }
 ],
 "metadata": {
  "interpreter": {
   "hash": "aee8b7b246df8f9039afb4144a1f6fd8d2ca17a180786b69acc140d282b71a49"
  },
  "kernelspec": {
   "display_name": "Python 3",
   "language": "python",
   "name": "python3"
  },
  "language_info": {
   "codemirror_mode": {
    "name": "ipython",
    "version": 3
   },
   "file_extension": ".py",
   "mimetype": "text/x-python",
   "name": "python",
   "nbconvert_exporter": "python",
   "pygments_lexer": "ipython3",
   "version": "3.9.6"
  },
  "naas": {
   "notebook_id": "d754fa93-e2db-427f-98ad-fa68fc7922da",
   "notebook_path": "Google Analytics/Google_Analytics_Get_stats_per_country.ipynb"
  },
  "papermill": {
   "default_parameters": {},
   "environment_variables": {},
   "parameters": {},
   "version": "2.3.3"
  },
  "widgets": {
   "application/vnd.jupyter.widget-state+json": {
    "state": {},
    "version_major": 2,
    "version_minor": 0
   }
  }
 },
 "nbformat": 4,
 "nbformat_minor": 5
}