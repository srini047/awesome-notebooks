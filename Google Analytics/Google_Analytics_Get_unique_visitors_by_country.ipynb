{
 "cells": [
  {
   "cell_type": "markdown",
   "id": "4674b02f",
   "metadata": {
    "execution": {
     "iopub.execute_input": "2021-02-23T14:22:16.610471Z",
     "iopub.status.busy": "2021-02-23T14:22:16.610129Z",
     "iopub.status.idle": "2021-02-23T14:22:16.627784Z",
     "shell.execute_reply": "2021-02-23T14:22:16.626866Z",
     "shell.execute_reply.started": "2021-02-23T14:22:16.610384Z"
    },
    "papermill": {},
    "tags": []
   },
   "source": [
    "<img width=\"10%\" alt=\"Naas\" src=\"https://landen.imgix.net/jtci2pxwjczr/assets/5ice39g4.png?w=160\"/>"
   ]
  },
  {
   "cell_type": "markdown",
   "id": "b7a36ee3",
   "metadata": {
    "papermill": {},
    "tags": []
   },
   "source": [
    "# Google Analytics - Get unique visitors by country\n",
    "<a href=\"https://app.naas.ai/user-redirect/naas/downloader?url=https://raw.githubusercontent.com/jupyter-naas/awesome-notebooks/master/Google%20Analytics/Google_Analytics_Get_unique_visitors_by_country.ipynb\" target=\"_parent\"><img src=\"https://naasai-public.s3.eu-west-3.amazonaws.com/open_in_naas.svg\"/></a><br><br><a href=\"https://github.com/jupyter-naas/awesome-notebooks/issues/new?assignees=&labels=&template=template-request.md&title=Tool+-+Action+of+the+notebook+\">Template request</a> | <a href=\"https://github.com/jupyter-naas/awesome-notebooks/issues/new?assignees=&labels=bug&template=bug_report.md&title=Google+Analytics+-+Get+unique+visitors+by+country:+Error+short+description\">Bug report</a>"
   ]
  },
  {
   "cell_type": "markdown",
   "id": "19875963",
   "metadata": {
    "papermill": {},
    "tags": []
   },
   "source": [
    "**Tags:** #googleanalytics #statspercountry #analytics #marketing #dataframe"
   ]
  },
  {
   "cell_type": "markdown",
   "id": "29814b06-df6a-4be0-9b98-a9a523e2f98b",
   "metadata": {
    "papermill": {},
    "tags": []
   },
   "source": [
    "**Author:** [Charles Demontigny](https://www.linkedin.com/in/charles-demontigny/)"
   ]
  },
  {
   "cell_type": "markdown",
   "id": "naas-description",
   "metadata": {
    "papermill": {},
    "tags": [
     "description"
    ]
   },
   "source": [
    "**Description:** This notebook provides a breakdown of unique visitors to a website by country using Google Analytics data."
   ]
  },
  {
   "cell_type": "markdown",
   "id": "55f800df",
   "metadata": {
    "papermill": {},
    "tags": []
   },
   "source": [
    "## Input"
   ]
  },
  {
   "cell_type": "markdown",
   "id": "3f24ee2c",
   "metadata": {
    "papermill": {},
    "tags": []
   },
   "source": [
    "### Import library"
   ]
  },
  {
   "cell_type": "code",
   "execution_count": 3,
   "id": "b2586bcc",
   "metadata": {
    "execution": {
     "iopub.execute_input": "2022-03-08T15:25:48.542385Z",
     "iopub.status.busy": "2022-03-08T15:25:48.542153Z",
     "iopub.status.idle": "2022-03-08T15:25:48.545716Z",
     "shell.execute_reply": "2022-03-08T15:25:48.545049Z",
     "shell.execute_reply.started": "2022-03-08T15:25:48.542360Z"
    },
    "papermill": {},
    "tags": []
   },
   "outputs": [],
   "source": [
    "import plotly.graph_objects as go\n",
    "import plotly.express as px\n",
    "import naas\n",
    "\n",
    "# Using a dropin driver in a cell for now. (Faster iterations)\n",
    "# from naas_drivers import googleanalytics"
   ]
  },
  {
   "cell_type": "code",
   "execution_count": 4,
   "id": "2967dca6-1c43-42a3-ab83-86e8df9c35b2",
   "metadata": {
    "execution": {
     "iopub.execute_input": "2022-03-08T15:25:49.358827Z",
     "iopub.status.busy": "2022-03-08T15:25:49.358601Z",
     "iopub.status.idle": "2022-03-08T15:25:49.389181Z",
     "shell.execute_reply": "2022-03-08T15:25:49.388447Z",
     "shell.execute_reply.started": "2022-03-08T15:25:49.358803Z"
    },
    "papermill": {},
    "tags": []
   },
   "outputs": [],
   "source": [
    "%run Google_Analytics_driver.ipynb"
   ]
  },
  {
   "cell_type": "markdown",
   "id": "8f103e30",
   "metadata": {
    "papermill": {},
    "tags": []
   },
   "source": [
    "### Get your credential from Google Cloud Platform"
   ]
  },
  {
   "cell_type": "code",
   "execution_count": 5,
   "id": "04c24e42",
   "metadata": {
    "execution": {
     "iopub.execute_input": "2022-03-08T15:25:50.552779Z",
     "iopub.status.busy": "2022-03-08T15:25:50.552481Z",
     "iopub.status.idle": "2022-03-08T15:25:50.555970Z",
     "shell.execute_reply": "2022-03-08T15:25:50.555372Z",
     "shell.execute_reply.started": "2022-03-08T15:25:50.552746Z"
    },
    "papermill": {},
    "tags": []
   },
   "outputs": [],
   "source": [
    "json_path = \"naas-googleanalytics.json\""
   ]
  },
  {
   "cell_type": "markdown",
   "id": "9b37f390",
   "metadata": {
    "papermill": {},
    "tags": []
   },
   "source": [
    "### Get view id from google analytics"
   ]
  },
  {
   "cell_type": "code",
   "execution_count": 6,
   "id": "fe4ddc9f",
   "metadata": {
    "execution": {
     "iopub.execute_input": "2022-03-08T15:25:51.782303Z",
     "iopub.status.busy": "2022-03-08T15:25:51.782003Z",
     "iopub.status.idle": "2022-03-08T15:25:51.785423Z",
     "shell.execute_reply": "2022-03-08T15:25:51.784804Z",
     "shell.execute_reply.started": "2022-03-08T15:25:51.782271Z"
    },
    "papermill": {},
    "tags": []
   },
   "outputs": [],
   "source": [
    "view_id = \"228952707\""
   ]
  },
  {
   "cell_type": "markdown",
   "id": "3729685f-abab-4f5e-919f-3b07ce841f1c",
   "metadata": {
    "papermill": {},
    "tags": []
   },
   "source": [
    "## Model"
   ]
  },
  {
   "cell_type": "markdown",
   "id": "d08332b2",
   "metadata": {
    "papermill": {},
    "tags": []
   },
   "source": [
    "### Get trend for unique visitor by Hourly / Day / Week / Month"
   ]
  },
  {
   "cell_type": "code",
   "execution_count": 9,
   "id": "461de2bd-27c7-4d88-bbb6-63c517ab0cc8",
   "metadata": {
    "execution": {
     "iopub.execute_input": "2022-03-08T15:26:15.057358Z",
     "iopub.status.busy": "2022-03-08T15:26:15.057121Z",
     "iopub.status.idle": "2022-03-08T15:26:15.559506Z",
     "shell.execute_reply": "2022-03-08T15:26:15.558733Z",
     "shell.execute_reply.started": "2022-03-08T15:26:15.057334Z"
    },
    "papermill": {},
    "tags": []
   },
   "outputs": [],
   "source": [
    "df = googleanalytics.connect(json_path=json_path).views.get_data(\n",
    "    view_id,\n",
    "    metrics=\"ga:newUsers\",\n",
    "    pivots_dimensions=\"ga:country\",\n",
    "    dimensions=\"ga:date\",\n",
    "    format_type=\"pivot\",\n",
    "    start_date=\"30daysAgo\",\n",
    "    end_date=\"today\",\n",
    ")\n",
    "df"
   ]
  },
  {
   "cell_type": "markdown",
   "id": "1f16409e",
   "metadata": {
    "execution": {
     "iopub.execute_input": "2021-07-02T23:32:10.789097Z",
     "iopub.status.busy": "2021-07-02T23:32:10.788829Z",
     "iopub.status.idle": "2021-07-02T23:32:10.796900Z",
     "shell.execute_reply": "2021-07-02T23:32:10.796358Z",
     "shell.execute_reply.started": "2021-07-02T23:32:10.789033Z"
    },
    "papermill": {},
    "tags": []
   },
   "source": [
    "## Output"
   ]
  },
  {
   "cell_type": "markdown",
   "id": "df5aee5b",
   "metadata": {
    "papermill": {},
    "tags": []
   },
   "source": [
    "### Display result"
   ]
  },
  {
   "cell_type": "code",
   "execution_count": null,
   "id": "85ea1c29",
   "metadata": {
    "papermill": {},
    "tags": []
   },
   "outputs": [],
   "source": [
    "df"
   ]
  },
  {
   "cell_type": "code",
   "execution_count": null,
   "id": "4913d04d-ef6e-48d5-8414-f017bbf52a38",
   "metadata": {
    "papermill": {},
    "tags": []
   },
   "outputs": [],
   "source": []
  }
 ],
 "metadata": {
  "interpreter": {
   "hash": "aee8b7b246df8f9039afb4144a1f6fd8d2ca17a180786b69acc140d282b71a49"
  },
  "kernelspec": {
   "display_name": "Python 3",
   "language": "python",
   "name": "python3"
  },
  "language_info": {
   "codemirror_mode": {
    "name": "ipython",
    "version": 3
   },
   "file_extension": ".py",
   "mimetype": "text/x-python",
   "name": "python",
   "nbconvert_exporter": "python",
   "pygments_lexer": "ipython3",
   "version": "3.9.6"
  },
  "papermill": {
   "default_parameters": {},
   "environment_variables": {},
   "parameters": {},
   "version": "2.3.3"
  },
  "widgets": {
   "application/vnd.jupyter.widget-state+json": {
    "state": {},
    "version_major": 2,
    "version_minor": 0
   }
  }
 },
 "nbformat": 4,
 "nbformat_minor": 5
}