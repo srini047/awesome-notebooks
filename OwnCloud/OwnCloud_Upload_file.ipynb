{
 "cells": [
  {
   "cell_type": "markdown",
   "id": "fifth-measure",
   "metadata": {
    "papermill": {},
    "tags": []
   },
   "source": [
    "<img width=\"10%\" alt=\"Naas\" src=\"https://landen.imgix.net/jtci2pxwjczr/assets/5ice39g4.png?w=160\"/>"
   ]
  },
  {
   "cell_type": "markdown",
   "id": "usual-dance",
   "metadata": {
    "papermill": {},
    "tags": []
   },
   "source": [
    "# OwnCloud - Upload file\n",
    "<a href=\"https://app.naas.ai/user-redirect/naas/downloader?url=https://raw.githubusercontent.com/jupyter-naas/awesome-notebooks/master/OwnCloud/OwnCloud_Upload_file.ipynb\" target=\"_parent\"><img src=\"https://naasai-public.s3.eu-west-3.amazonaws.com/Open_in_Naas_Lab.svg\"/></a><br><br><a href=\"https://github.com/jupyter-naas/awesome-notebooks/issues/new?assignees=&labels=&template=template-request.md&title=Tool+-+Action+of+the+notebook+\">Template request</a> | <a href=\"https://github.com/jupyter-naas/awesome-notebooks/issues/new?assignees=&labels=bug&template=bug_report.md&title=OwnCloud+-+Upload+file:+Error+short+description\">Bug report</a> | <a href=\"https://app.naas.ai/user-redirect/naas/downloader?url=https://raw.githubusercontent.com/jupyter-naas/awesome-notebooks/master/Naas/Naas_Start_data_product.ipynb\" target=\"_parent\">Generate Data Product</a>"
   ]
  },
  {
   "cell_type": "markdown",
   "id": "46983357-db13-4290-ba8b-db34e9eac7fb",
   "metadata": {
    "papermill": {},
    "tags": []
   },
   "source": [
    "**Tags:** #owncloud #cloud #storage #operations #snippet"
   ]
  },
  {
   "cell_type": "markdown",
   "id": "naas-author",
   "metadata": {
    "papermill": {},
    "tags": [
     "naas"
    ]
   },
   "source": [
    "**Author:** [Jeremy Ravenel](https://www.linkedin.com/in/ACoAAAJHE7sB5OxuKHuzguZ9L6lfDHqw--cdnJg/)"
   ]
  },
  {
   "cell_type": "markdown",
   "id": "naas-description",
   "metadata": {
    "papermill": {},
    "tags": [
     "description"
    ]
   },
   "source": [
    "**Description:** This notebook allows users to securely upload files to their own personal cloud storage."
   ]
  },
  {
   "cell_type": "markdown",
   "id": "input_cell",
   "metadata": {
    "papermill": {},
    "tags": []
   },
   "source": [
    "## Input"
   ]
  },
  {
   "cell_type": "markdown",
   "id": "d67f3324-dbd9-48ac-bf45-55bce888e634",
   "metadata": {
    "papermill": {},
    "tags": []
   },
   "source": [
    "### Install packages"
   ]
  },
  {
   "cell_type": "code",
   "execution_count": null,
   "id": "collaborative-leave",
   "metadata": {
    "papermill": {},
    "tags": []
   },
   "outputs": [],
   "source": [
    "!pip install pyocclient"
   ]
  },
  {
   "cell_type": "markdown",
   "id": "import_cell",
   "metadata": {
    "papermill": {},
    "tags": []
   },
   "source": [
    "### Import library"
   ]
  },
  {
   "cell_type": "code",
   "execution_count": 5,
   "id": "employed-platinum",
   "metadata": {
    "papermill": {},
    "tags": []
   },
   "outputs": [],
   "source": [
    "import naas\n",
    "import owncloud"
   ]
  },
  {
   "cell_type": "markdown",
   "id": "model_cell",
   "metadata": {
    "papermill": {},
    "tags": []
   },
   "source": [
    "## Model"
   ]
  },
  {
   "cell_type": "markdown",
   "id": "million-breeding",
   "metadata": {
    "execution": {
     "iopub.execute_input": "2021-05-06T18:19:24.101929Z",
     "iopub.status.busy": "2021-05-06T18:19:24.101555Z",
     "iopub.status.idle": "2021-05-06T18:19:24.108429Z",
     "shell.execute_reply": "2021-05-06T18:19:24.106651Z",
     "shell.execute_reply.started": "2021-05-06T18:19:24.101850Z"
    },
    "papermill": {},
    "tags": []
   },
   "source": [
    "### Connect to your ownCloud"
   ]
  },
  {
   "cell_type": "code",
   "execution_count": 7,
   "id": "atlantic-heaven",
   "metadata": {
    "papermill": {},
    "tags": []
   },
   "outputs": [],
   "source": [
    "oc = owncloud.Client(\"https://cloud.damken.com\")\n",
    "\n",
    "oc.login(\"YOURNAME\", \"YOURPASS\")"
   ]
  },
  {
   "cell_type": "markdown",
   "id": "approximate-behalf",
   "metadata": {
    "papermill": {},
    "tags": []
   },
   "source": [
    "### Create a folder"
   ]
  },
  {
   "cell_type": "code",
   "execution_count": null,
   "id": "numerous-sunday",
   "metadata": {
    "papermill": {},
    "tags": []
   },
   "outputs": [],
   "source": [
    "oc.mkdir(\"testdir\")"
   ]
  },
  {
   "cell_type": "markdown",
   "id": "sophisticated-korea",
   "metadata": {
    "papermill": {},
    "tags": []
   },
   "source": [
    "### Upload this file to your ownCloud"
   ]
  },
  {
   "cell_type": "code",
   "execution_count": 3,
   "id": "congressional-melbourne",
   "metadata": {
    "papermill": {},
    "tags": []
   },
   "outputs": [],
   "source": [
    "oc.put_file(\"testdir/upload_to_owncloud.ipynb\", \"upload_to_owncloud.ipynb\")"
   ]
  },
  {
   "cell_type": "markdown",
   "id": "conscious-cassette",
   "metadata": {
    "papermill": {},
    "tags": []
   },
   "source": [
    "### Get sharable link to the file"
   ]
  },
  {
   "cell_type": "code",
   "execution_count": null,
   "id": "f51d49ae-d62a-449e-8f91-a79e0f0e4e30",
   "metadata": {
    "papermill": {},
    "tags": []
   },
   "outputs": [],
   "source": [
    "link_info = oc.share_file_with_link(\"testdir/upload_to_owncloud.ipynb\")"
   ]
  },
  {
   "cell_type": "markdown",
   "id": "output_cell",
   "metadata": {
    "papermill": {},
    "tags": []
   },
   "source": [
    "## Output"
   ]
  },
  {
   "cell_type": "markdown",
   "id": "display_cell",
   "metadata": {
    "papermill": {},
    "tags": []
   },
   "source": [
    "### Display result"
   ]
  },
  {
   "cell_type": "code",
   "execution_count": null,
   "id": "illegal-wheel",
   "metadata": {
    "papermill": {},
    "tags": []
   },
   "outputs": [],
   "source": [
    "print(\"Here is your link: \" + link_info.get_link())"
   ]
  },
  {
   "cell_type": "code",
   "execution_count": null,
   "id": "recent-instrumentation",
   "metadata": {
    "papermill": {},
    "tags": []
   },
   "outputs": [],
   "source": []
  }
 ],
 "metadata": {
  "kernelspec": {
   "display_name": "Python 3",
   "language": "python",
   "name": "python3"
  },
  "language_info": {
   "codemirror_mode": {
    "name": "ipython",
    "version": 3
   },
   "file_extension": ".py",
   "mimetype": "text/x-python",
   "name": "python",
   "nbconvert_exporter": "python",
   "pygments_lexer": "ipython3",
   "version": "3.9.6"
  },
  "naas": {
   "notebook_id": "80e640b22b8ac5254779988dbd2db06195ea2efa222ca5076c6cd225b76fb848",
   "notebook_path": "OwnCloud/OwnCloud_Upload_file.ipynb"
  },
  "papermill": {
   "default_parameters": {},
   "environment_variables": {},
   "parameters": {},
   "version": "2.3.3"
  },
  "widgets": {
   "application/vnd.jupyter.widget-state+json": {
    "state": {},
    "version_major": 2,
    "version_minor": 0
   }
  }
 },
 "nbformat": 4,
 "nbformat_minor": 5
}