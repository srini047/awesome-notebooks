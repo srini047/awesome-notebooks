{
 "cells": [
  {
   "cell_type": "markdown",
   "id": "naas-logo",
   "metadata": {
    "papermill": {},
    "tags": [
     "naas"
    ]
   },
   "source": [
    "<img width=\"10%\" alt=\"Naas\" src=\"https://landen.imgix.net/jtci2pxwjczr/assets/5ice39g4.png?w=160\"/>"
   ]
  },
  {
   "cell_type": "markdown",
   "id": "disturbed-technology",
   "metadata": {
    "papermill": {},
    "tags": []
   },
   "source": [
    "# Pillow - Add data to image\n",
    "<a href=\"https://app.naas.ai/user-redirect/naas/downloader?url=https://raw.githubusercontent.com/jupyter-naas/awesome-notebooks/master/Pillow/Pillow_Add_data_to_image.ipynb\" target=\"_parent\"><img src=\"https://naasai-public.s3.eu-west-3.amazonaws.com/open_in_naas.svg\"/></a><br><br><a href=\"https://github.com/jupyter-naas/awesome-notebooks/issues/new?assignees=&labels=&template=template-request.md&title=Tool+-+Action+of+the+notebook+\">Template request</a> | <a href=\"https://github.com/jupyter-naas/awesome-notebooks/issues/new?assignees=&labels=bug&template=bug_report.md&title=Pillow+-+Add+data+to+image:+Error+short+description\">Bug report</a>"
   ]
  },
  {
   "cell_type": "markdown",
   "id": "7ec146cb-0ed6-40ea-9568-b6a30a9a0edc",
   "metadata": {
    "papermill": {},
    "tags": []
   },
   "source": [
    "**Tags:** #pillow #opendata #snippet #data #image"
   ]
  },
  {
   "cell_type": "markdown",
   "id": "naas-author",
   "metadata": {
    "papermill": {},
    "tags": [
     "naas"
    ]
   },
   "source": [
    "**Author:** [Florent Ravenel](https://www.linkedin.com/in/florent-ravenel/)"
   ]
  },
  {
   "cell_type": "markdown",
   "id": "naas-description",
   "metadata": {
    "papermill": {},
    "tags": [
     "description"
    ]
   },
   "source": [
    "**Description:** This notebook demonstrates how to use the Pillow library to add data to an existing image."
   ]
  },
  {
   "cell_type": "markdown",
   "id": "467e92cb-4bd3-4f71-87b1-8d16428b594a",
   "metadata": {
    "papermill": {},
    "tags": []
   },
   "source": [
    "## Input"
   ]
  },
  {
   "cell_type": "markdown",
   "id": "79f67e07-5ebb-437c-bccf-8a22c56811f7",
   "metadata": {
    "papermill": {},
    "tags": []
   },
   "source": [
    "### Import libraries"
   ]
  },
  {
   "cell_type": "code",
   "execution_count": null,
   "id": "fatty-tomato",
   "metadata": {
    "papermill": {},
    "tags": []
   },
   "outputs": [],
   "source": [
    "from PIL import Image, ImageDraw, ImageFont\n",
    "import naas"
   ]
  },
  {
   "cell_type": "markdown",
   "id": "44b8b495-b79b-486c-8775-00018b6aa206",
   "metadata": {
    "papermill": {},
    "tags": []
   },
   "source": [
    "### Setup variables"
   ]
  },
  {
   "cell_type": "code",
   "execution_count": null,
   "id": "9c442cb0-64af-4731-9e39-e768385514a5",
   "metadata": {
    "papermill": {},
    "tags": []
   },
   "outputs": [],
   "source": [
    "# Input\n",
    "input_image = \"layout.png\"\n",
    "input_font = \"ArchivoBlack-Regular.ttf\"\n",
    "\n",
    "# Model\n",
    "text_position = (50, 900)\n",
    "text = \"Your text\"\n",
    "font_size = 90\n",
    "\n",
    "# Output\n",
    "output_image = \"output_image.png\""
   ]
  },
  {
   "cell_type": "markdown",
   "id": "c9de0c21-b37c-4de9-8e95-9215e857d7e3",
   "metadata": {
    "papermill": {},
    "tags": []
   },
   "source": [
    "## Model"
   ]
  },
  {
   "cell_type": "markdown",
   "id": "937f18b4-8851-46c8-afbd-066e0d0a870e",
   "metadata": {
    "papermill": {},
    "tags": []
   },
   "source": [
    "### Create output image"
   ]
  },
  {
   "cell_type": "code",
   "execution_count": null,
   "id": "suitable-watson",
   "metadata": {
    "papermill": {},
    "tags": []
   },
   "outputs": [],
   "source": [
    "def create_image(\n",
    "    input_image, output_image, text_position, text, font_size=90, input_font=None\n",
    "):\n",
    "    img = Image.open(input_image)\n",
    "    d = ImageDraw.Draw(img)\n",
    "\n",
    "    font = ImageFont.truetype(input_font, font_size)\n",
    "    fill = (255, 255, 255)\n",
    "\n",
    "    d.text(text_position, text, font=font, fill=fill)\n",
    "    img.save(output_image)\n",
    "    print(\"💾 Image saved :\", output_image)\n",
    "    return img\n",
    "\n",
    "\n",
    "img = create_image(\n",
    "    input_image, output_image, text_position, text, font_size, input_font\n",
    ")\n",
    "display(img)"
   ]
  },
  {
   "cell_type": "markdown",
   "id": "competitive-canon",
   "metadata": {
    "papermill": {},
    "tags": []
   },
   "source": [
    "## Output"
   ]
  },
  {
   "cell_type": "markdown",
   "id": "d066e183-dc32-4db0-9a08-e37603c372c4",
   "metadata": {
    "papermill": {},
    "tags": []
   },
   "source": [
    "### Save and share image"
   ]
  },
  {
   "cell_type": "code",
   "execution_count": null,
   "id": "0764528a-774e-426a-b1fd-68a9d81c7d7e",
   "metadata": {
    "papermill": {},
    "tags": []
   },
   "outputs": [],
   "source": [
    "naas.asset.add(output_image)\n",
    "\n",
    "# -> Uncomment the line below to remove your asset\n",
    "# naas.asset.delete(output_image)"
   ]
  }
 ],
 "metadata": {
  "kernelspec": {
   "display_name": "Python 3",
   "language": "python",
   "name": "python3"
  },
  "language_info": {
   "codemirror_mode": {
    "name": "ipython",
    "version": 3
   },
   "file_extension": ".py",
   "mimetype": "text/x-python",
   "name": "python",
   "nbconvert_exporter": "python",
   "pygments_lexer": "ipython3",
   "version": "3.9.6"
  },
  "naas": {
   "notebook_id": "2480aaa5-cdc9-4837-97df-d7291420fc33",
   "notebook_path": "WSR/WHI_Create_indicator.ipynb"
  },
  "papermill": {
   "default_parameters": {},
   "environment_variables": {},
   "parameters": {},
   "version": "2.3.3"
  }
 },
 "nbformat": 4,
 "nbformat_minor": 5
}