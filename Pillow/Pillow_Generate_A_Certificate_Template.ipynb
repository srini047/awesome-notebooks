{
 "cells": [
  {
   "cell_type": "markdown",
   "id": "latin-packing",
   "metadata": {
    "execution": {
     "iopub.execute_input": "2021-02-23T14:22:16.610471Z",
     "iopub.status.busy": "2021-02-23T14:22:16.610129Z",
     "iopub.status.idle": "2021-02-23T14:22:16.627784Z",
     "shell.execute_reply": "2021-02-23T14:22:16.626866Z",
     "shell.execute_reply.started": "2021-02-23T14:22:16.610384Z"
    },
    "papermill": {},
    "tags": []
   },
   "source": [
    "<img width=\"10%\" alt=\"Naas\" src=\"https://landen.imgix.net/jtci2pxwjczr/assets/5ice39g4.png?w=160\"/>"
   ]
  },
  {
   "cell_type": "markdown",
   "id": "compressed-wilson",
   "metadata": {
    "papermill": {},
    "tags": []
   },
   "source": [
    "# Pillow - Generate A Certificate Template\n",
    "<a href=\"https://app.naas.ai/user-redirect/naas/downloader?url=https://raw.githubusercontent.com/jupyter-naas/awesome-notebooks/master/Pillow/Pillow_Generate_A_Certificate_Template.ipynb\" target=\"_parent\"><img src=\"https://naasai-public.s3.eu-west-3.amazonaws.com/open_in_naas.svg\"/></a><br><br><a href=\"https://github.com/jupyter-naas/awesome-notebooks/issues/new?assignees=&labels=&template=template-request.md&title=Tool+-+Action+of+the+notebook+\">Template request</a> | <a href=\"https://github.com/jupyter-naas/awesome-notebooks/issues/new?assignees=&labels=bug&template=bug_report.md&title=Pillow+-+Generate+A+Certificate+Template:+Error+short+description\">Bug report</a>"
   ]
  },
  {
   "cell_type": "markdown",
   "id": "religious-programmer",
   "metadata": {
    "papermill": {},
    "tags": []
   },
   "source": [
    "**Tags:** #Pillow #Python #certificate-template #naas"
   ]
  },
  {
   "cell_type": "markdown",
   "id": "1fe9f56e-561c-4f52-aef8-b861c9462107",
   "metadata": {
    "papermill": {},
    "tags": []
   },
   "source": [
    "**Author:** [Suhas B](https://www.linkedin.com/in/suhasbrao/)"
   ]
  },
  {
   "cell_type": "markdown",
   "id": "naas-description",
   "metadata": {
    "papermill": {},
    "tags": [
     "description"
    ]
   },
   "source": [
    "**Description:** This notebook provides a template for generating a personalized certificate using the Pillow library."
   ]
  },
  {
   "cell_type": "markdown",
   "id": "distinguished-truth",
   "metadata": {
    "papermill": {},
    "tags": []
   },
   "source": [
    "## Input"
   ]
  },
  {
   "cell_type": "markdown",
   "id": "numeric-mediterranean",
   "metadata": {
    "papermill": {},
    "tags": []
   },
   "source": [
    "### Import libraries"
   ]
  },
  {
   "cell_type": "code",
   "execution_count": null,
   "id": "potential-surfing",
   "metadata": {
    "papermill": {},
    "tags": []
   },
   "outputs": [],
   "source": [
    "from PIL import Image, ImageDraw, ImageFont\n",
    "import requests\n",
    "from io import BytesIO\n",
    "from bs4 import BeautifulSoup"
   ]
  },
  {
   "cell_type": "markdown",
   "id": "faee9ddb-1d91-4d1f-9a94-9f686338a75e",
   "metadata": {
    "papermill": {},
    "tags": []
   },
   "source": [
    "### Variables"
   ]
  },
  {
   "cell_type": "code",
   "execution_count": null,
   "id": "f817319b-b122-4867-af86-684a98a45972",
   "metadata": {
    "papermill": {},
    "tags": []
   },
   "outputs": [],
   "source": [
    "# Modify these as per your needs\n",
    "org_profile_url = \"https://github.com/jupyter-naas\"\n",
    "repo_name = \"awesome-notebooks\"\n",
    "date_of_contribution = \"04/10/2022\"\n",
    "contributor_name = \"Suhas B\"\n",
    "issue_name = \"Pillow - Generate a certificate template #1212\"\n",
    "issue_id = \"1212\"\n",
    "pr_name = \"Python - Locate_addresses #1205\"\n",
    "\n",
    "# These are accessed later by few functions\n",
    "template_path = \"certificate-template.png\"\n",
    "default_font_path = \"Certificate-template-fonts/Roboto-Regular.ttf\"\n",
    "content_font_path = \"Certificate-template-fonts/AnonymousPro-Regular.ttf\""
   ]
  },
  {
   "cell_type": "code",
   "execution_count": null,
   "id": "e8dc0887-af5d-42ad-8ecf-2eed38c606c4",
   "metadata": {
    "papermill": {},
    "tags": []
   },
   "outputs": [],
   "source": [
    "# access repo url and organization names from repo_url\n",
    "repo_url = org_profile_url + f\"/{repo_name}\"\n",
    "org_name = org_profile_url[19:].capitalize()\n",
    "print(repo_url)\n",
    "print(org_name)"
   ]
  },
  {
   "cell_type": "markdown",
   "id": "registered-showcase",
   "metadata": {
    "papermill": {},
    "tags": []
   },
   "source": [
    "## Model"
   ]
  },
  {
   "cell_type": "markdown",
   "id": "tested-astrology",
   "metadata": {
    "papermill": {},
    "tags": []
   },
   "source": [
    "### Functions to generate the certificate"
   ]
  },
  {
   "cell_type": "code",
   "execution_count": null,
   "id": "crude-louisville",
   "metadata": {
    "papermill": {},
    "tags": []
   },
   "outputs": [],
   "source": [
    "def fetch_org_contents(org_profile_url: str):\n",
    "\n",
    "    github_html = requests.get(org_profile_url).text\n",
    "    soup = BeautifulSoup(github_html, \"html.parser\")\n",
    "\n",
    "    avatar_block = soup.find_all(\"img\", class_=\"avatar\")\n",
    "    logo_url = img_url = avatar_block[4].get(\"src\")\n",
    "\n",
    "    bio_block = soup.find_all(class_=\"color-fg-muted\")\n",
    "\n",
    "    org_bio = bio_block[9].text\n",
    "\n",
    "    print(logo_url)\n",
    "    print(org_bio)\n",
    "\n",
    "    return logo_url, org_bio\n",
    "\n",
    "\n",
    "logo_url, org_bio = fetch_org_contents(org_profile_url)"
   ]
  },
  {
   "cell_type": "code",
   "execution_count": null,
   "id": "1be31773-49f0-435c-af7c-ce7d7dc4aa11",
   "metadata": {
    "papermill": {},
    "tags": []
   },
   "outputs": [],
   "source": [
    "def write_content(\n",
    "    certificate_path: str,\n",
    "    default_font_path: str,\n",
    "    content_font_path: str,\n",
    "    logo_url: str,\n",
    "    org_bio: str,\n",
    "):\n",
    "\n",
    "    logo_pos = (100, 150)\n",
    "    bio_pos = (320, 270)\n",
    "\n",
    "    date_pos = (120, 450)\n",
    "    name_pos = (120, 550)\n",
    "    issue_pos = (120, 750)\n",
    "    pr_pos = (355, 820)\n",
    "\n",
    "    logo_img = Image.open(requests.get(logo_url, stream=True).raw).convert(\"RGBA\")\n",
    "\n",
    "    # opens the image\n",
    "    img = Image.open(certificate_path, mode=\"r\")\n",
    "\n",
    "    # overlays image\n",
    "    img.paste(logo_img, logo_pos, mask=logo_img)\n",
    "\n",
    "    # gets the image width\n",
    "    image_width = img.width\n",
    "\n",
    "    # gets the image height\n",
    "    image_height = img.height\n",
    "\n",
    "    # creates a drawing canvas overlay\n",
    "    # on top of the image\n",
    "    draw = ImageDraw.Draw(img)\n",
    "\n",
    "    # gets the font object from the\n",
    "    # font file (TTF)\n",
    "\n",
    "    name_font = ImageFont.truetype(\n",
    "        content_font_path, 70  # change this according to your needs\n",
    "    )\n",
    "    org_name_font = ImageFont.truetype(\n",
    "        content_font_path, 40  # change this according to your needs\n",
    "    )\n",
    "\n",
    "    default_font = ImageFont.truetype(\n",
    "        default_font_path, 24  # change this according to your needs\n",
    "    )\n",
    "\n",
    "    date_font = ImageFont.truetype(\n",
    "        content_font_path, 28  # change this according to your needs\n",
    "    )\n",
    "\n",
    "    issue_font = ImageFont.truetype(\n",
    "        content_font_path, 32  # change this according to your needs\n",
    "    )\n",
    "\n",
    "    pr_font = ImageFont.truetype(\n",
    "        content_font_path, 30  # change this according to your needs\n",
    "    )\n",
    "\n",
    "    # Writing the content on the image\n",
    "    draw.text((320, 200), org_name, fill=\"black\", font=org_name_font)\n",
    "\n",
    "    draw.text(bio_pos, org_bio, fill=\"black\", font=default_font)\n",
    "\n",
    "    draw.text(date_pos, date_of_contribution, fill=\"black\", font=date_font)\n",
    "\n",
    "    draw.text(name_pos, contributor_name, fill=\"black\", font=name_font)\n",
    "\n",
    "    draw.text(\n",
    "        (120, 690), \"has successfully solved the issue\", fill=\"black\", font=default_font\n",
    "    )\n",
    "\n",
    "    draw.text(issue_pos, issue_name, fill=\"black\", font=issue_font)\n",
    "\n",
    "    draw.text((120, 820), \"with the Pull Request\", fill=\"black\", font=default_font)\n",
    "\n",
    "    draw.text(pr_pos, pr_name, fill=\"grey\", font=pr_font)\n",
    "\n",
    "    draw.text((120, 860), \"on the Github Repository\", fill=\"black\", font=default_font)\n",
    "\n",
    "    draw.text((395, 860), repo_url, fill=\"grey\", font=default_font)\n",
    "\n",
    "    draw.text((120, 1050), \"Verify at:\", fill=\"black\", font=default_font)\n",
    "\n",
    "    draw.text(\n",
    "        (220, 1050), repo_url + \"/issues/\" + issue_id, font=default_font, fill=\"black\"\n",
    "    )\n",
    "\n",
    "    # saves the image in png format with file name as contributor name\n",
    "    img.save(\"{}.png\".format(contributor_name))"
   ]
  },
  {
   "cell_type": "code",
   "execution_count": null,
   "id": "f6c106b7-0d3e-45dd-8eec-bc7794440f28",
   "metadata": {
    "papermill": {},
    "tags": []
   },
   "outputs": [],
   "source": [
    "write_content(template_path, default_font_path, content_font_path, logo_url, org_bio)"
   ]
  },
  {
   "cell_type": "markdown",
   "id": "lonely-pacific",
   "metadata": {
    "execution": {
     "iopub.execute_input": "2021-07-02T23:32:10.789097Z",
     "iopub.status.busy": "2021-07-02T23:32:10.788829Z",
     "iopub.status.idle": "2021-07-02T23:32:10.796900Z",
     "shell.execute_reply": "2021-07-02T23:32:10.796358Z",
     "shell.execute_reply.started": "2021-07-02T23:32:10.789033Z"
    },
    "papermill": {},
    "tags": []
   },
   "source": [
    "## Output"
   ]
  },
  {
   "cell_type": "code",
   "execution_count": null,
   "id": "27b0ce66-8a92-40d8-95f2-489147f4a9ec",
   "metadata": {
    "papermill": {},
    "tags": []
   },
   "outputs": [],
   "source": [
    "output = Image.open(contributor_name + \".png\")\n",
    "output.show()"
   ]
  },
  {
   "cell_type": "code",
   "execution_count": null,
   "id": "97a6e480-44b4-48db-9b31-b3040a1ecbfc",
   "metadata": {
    "papermill": {},
    "tags": []
   },
   "outputs": [],
   "source": []
  }
 ],
 "metadata": {
  "kernelspec": {
   "display_name": "Python 3",
   "language": "python",
   "name": "python3"
  },
  "language_info": {
   "codemirror_mode": {
    "name": "ipython",
    "version": 3
   },
   "file_extension": ".py",
   "mimetype": "text/x-python",
   "name": "python",
   "nbconvert_exporter": "python",
   "pygments_lexer": "ipython3",
   "version": "3.9.6"
  },
  "papermill": {
   "default_parameters": {},
   "environment_variables": {},
   "parameters": {},
   "version": "2.3.3"
  },
  "widgets": {
   "application/vnd.jupyter.widget-state+json": {
    "state": {},
    "version_major": 2,
    "version_minor": 0
   }
  }
 },
 "nbformat": 4,
 "nbformat_minor": 5
}