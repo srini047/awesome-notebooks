{
 "cells": [
  {
   "cell_type": "markdown",
   "id": "naas-logo",
   "metadata": {
    "papermill": {},
    "tags": [
     "naas"
    ]
   },
   "source": [
    "<img width=\"10%\" alt=\"Naas\" src=\"https://landen.imgix.net/jtci2pxwjczr/assets/5ice39g4.png?w=160\"/>"
   ]
  },
  {
   "cell_type": "markdown",
   "id": "disturbed-technology",
   "metadata": {
    "papermill": {},
    "tags": []
   },
   "source": [
    "# Pillow - Create indicator\n",
    "<a href=\"https://app.naas.ai/user-redirect/naas/downloader?url=https://raw.githubusercontent.com/jupyter-naas/awesome-notebooks/master/Pillow/Pillow_Create_indicator.ipynb\" target=\"_parent\"><img src=\"https://naasai-public.s3.eu-west-3.amazonaws.com/open_in_naas.svg\"/></a><br><br><a href=\"https://github.com/jupyter-naas/awesome-notebooks/issues/new?assignees=&labels=&template=template-request.md&title=Tool+-+Action+of+the+notebook+\">Template request</a> | <a href=\"https://github.com/jupyter-naas/awesome-notebooks/issues/new?assignees=&labels=bug&template=bug_report.md&title=Pillow+-+Create+indicator:+Error+short+description\">Bug report</a>"
   ]
  },
  {
   "cell_type": "markdown",
   "id": "7ec146cb-0ed6-40ea-9568-b6a30a9a0edc",
   "metadata": {
    "papermill": {},
    "tags": []
   },
   "source": [
    "**Tags:** #pillow #opendata #snippet #data #image #indicator #kpi"
   ]
  },
  {
   "cell_type": "markdown",
   "id": "naas-author",
   "metadata": {
    "papermill": {},
    "tags": [
     "naas"
    ]
   },
   "source": [
    "**Author:** [Florent Ravenel](https://www.linkedin.com/in/florent-ravenel/)"
   ]
  },
  {
   "cell_type": "markdown",
   "id": "e139471d-32a1-40d4-91c6-4382a1bf7b62",
   "metadata": {
    "papermill": {},
    "tags": []
   },
   "source": [
    "**Description:** This notebook creates an indicator with title and kpi using Pillow."
   ]
  },
  {
   "cell_type": "markdown",
   "id": "619a4895-2e9b-4c25-839a-52050b4d6f72",
   "metadata": {
    "execution": {
     "iopub.execute_input": "2022-12-06T19:43:43.282161Z",
     "iopub.status.busy": "2022-12-06T19:43:43.281890Z",
     "iopub.status.idle": "2022-12-06T19:43:43.291913Z",
     "shell.execute_reply": "2022-12-06T19:43:43.290839Z",
     "shell.execute_reply.started": "2022-12-06T19:43:43.282097Z"
    },
    "papermill": {},
    "tags": []
   },
   "source": [
    "<u>References:</u>\n",
    "- https://holypython.com/python-pil-tutorial/how-to-create-a-new-image-with-pil/\n",
    "- https://holypython.com/python-pil-tutorial/how-to-add-text-to-images-in-python-via-pil-library/\n",
    "- https://holypython.com/python-pil-tutorial/how-to-open-show-and-save-images-in-python-pil/"
   ]
  },
  {
   "cell_type": "markdown",
   "id": "467e92cb-4bd3-4f71-87b1-8d16428b594a",
   "metadata": {
    "papermill": {},
    "tags": []
   },
   "source": [
    "## Input"
   ]
  },
  {
   "cell_type": "markdown",
   "id": "79f67e07-5ebb-437c-bccf-8a22c56811f7",
   "metadata": {
    "papermill": {},
    "tags": []
   },
   "source": [
    "### Import libraries"
   ]
  },
  {
   "cell_type": "code",
   "execution_count": null,
   "id": "fatty-tomato",
   "metadata": {
    "papermill": {},
    "tags": []
   },
   "outputs": [],
   "source": [
    "from PIL import Image, ImageDraw, ImageFont\n",
    "import urllib"
   ]
  },
  {
   "cell_type": "markdown",
   "id": "44b8b495-b79b-486c-8775-00018b6aa206",
   "metadata": {
    "papermill": {},
    "tags": []
   },
   "source": [
    "### Setup variables"
   ]
  },
  {
   "cell_type": "code",
   "execution_count": null,
   "id": "9c442cb0-64af-4731-9e39-e768385514a5",
   "metadata": {
    "papermill": {},
    "tags": []
   },
   "outputs": [],
   "source": [
    "# Inputs\n",
    "title = \"My title\"\n",
    "title_font_name = \"https://github.com/jupyter-naas/awesome-notebooks/blob/master/Pillow/ArchivoBlack-Regular.ttf\"  # font in Local or GitHub link\n",
    "title_font_size = 40\n",
    "\n",
    "indicator = \"My indicator\"\n",
    "indicator_font_name = \"https://github.com/jupyter-naas/awesome-notebooks/blob/master/Pillow/ArchivoBlack-Regular.ttf\"  # font in Local or GitHub link\n",
    "indicator_font_size = 90\n",
    "\n",
    "pad = 50  # additional space between title and indicator\n",
    "width = 1200\n",
    "height = 600\n",
    "background_color = \"#00004c\"\n",
    "\n",
    "# Outputs\n",
    "output_image = \"Pillow_indicator.png\""
   ]
  },
  {
   "cell_type": "markdown",
   "id": "c9de0c21-b37c-4de9-8e95-9215e857d7e3",
   "metadata": {
    "papermill": {},
    "tags": []
   },
   "source": [
    "## Model"
   ]
  },
  {
   "cell_type": "markdown",
   "id": "b2be3167-4f83-454c-9b7a-0e5c15865aec",
   "metadata": {
    "papermill": {},
    "tags": []
   },
   "source": [
    "### Download font in local"
   ]
  },
  {
   "cell_type": "code",
   "execution_count": null,
   "id": "b3b8b3c5-d46b-4146-83fc-be2307b89bc4",
   "metadata": {
    "papermill": {},
    "tags": []
   },
   "outputs": [],
   "source": [
    "def download_github_file(url):\n",
    "    if not url.endswith(\"?raw=true\"):\n",
    "        url = f\"{url}?raw=true\"\n",
    "    response = urllib.request.urlopen(url)\n",
    "    filepath = url.split(\"/\")[-1].split(\"?raw=true\")[0]\n",
    "    file = open(filepath, \"wb\")\n",
    "    file.write(response.read())\n",
    "    file.close()\n",
    "    return filepath"
   ]
  },
  {
   "cell_type": "markdown",
   "id": "937f18b4-8851-46c8-afbd-066e0d0a870e",
   "metadata": {
    "papermill": {},
    "tags": []
   },
   "source": [
    "### Create indicator"
   ]
  },
  {
   "cell_type": "code",
   "execution_count": null,
   "id": "suitable-watson",
   "metadata": {
    "papermill": {},
    "tags": []
   },
   "outputs": [],
   "source": [
    "def create_indicator(\n",
    "    title=\"My title\",\n",
    "    title_font_name=\"https://github.com/jupyter-naas/awesome-notebooks/blob/master/Pillow/ArchivoBlack-Regular.ttf\",\n",
    "    title_font_size=40,\n",
    "    indicator=\"My Indicator\",\n",
    "    indicator_font_name=\"https://github.com/jupyter-naas/awesome-notebooks/blob/master/Pillow/ArchivoBlack-Regular.ttf\",\n",
    "    indicator_font_size=90,\n",
    "    pad=50,\n",
    "    width=1200,\n",
    "    height=600,\n",
    "    background_color=\"#043D57\",\n",
    "):\n",
    "    # Download font if not in local\n",
    "    title_font_name = download_github_file(title_font_name)\n",
    "    indicator_font_name = download_github_file(indicator_font_name)\n",
    "\n",
    "    # Create image background\n",
    "    img = Image.new(\"RGB\", (width, height), background_color)\n",
    "    draw = ImageDraw.Draw(img)\n",
    "\n",
    "    # Title\n",
    "    font_1 = ImageFont.truetype(title_font_name, title_font_size)\n",
    "    w1, h1 = draw.textsize(title, font=font_1)\n",
    "\n",
    "    # indicator\n",
    "    font_2 = ImageFont.truetype(indicator_font_name, indicator_font_size)\n",
    "    w2, h2 = draw.textsize(indicator, font=font_2)\n",
    "\n",
    "    # Text position\n",
    "    x1 = width / 2\n",
    "    y1 = (height / 2) - h1 - (h2 / 2)\n",
    "\n",
    "    x2 = width / 2\n",
    "    y2 = (height / 2) - h1 + pad\n",
    "\n",
    "    draw.text((x1, y1), title, font=font_1, anchor=\"mm\")\n",
    "    draw.text((x2, y2), indicator, font=font_2, anchor=\"mm\")\n",
    "    return img\n",
    "\n",
    "\n",
    "img = create_indicator(\n",
    "    title,\n",
    "    title_font_name,\n",
    "    title_font_size,\n",
    "    indicator,\n",
    "    indicator_font_name,\n",
    "    indicator_font_size,\n",
    "    pad,\n",
    "    width,\n",
    "    height,\n",
    "    background_color,\n",
    ")\n",
    "display(img)"
   ]
  },
  {
   "cell_type": "markdown",
   "id": "competitive-canon",
   "metadata": {
    "papermill": {},
    "tags": []
   },
   "source": [
    "## Output"
   ]
  },
  {
   "cell_type": "markdown",
   "id": "d066e183-dc32-4db0-9a08-e37603c372c4",
   "metadata": {
    "papermill": {},
    "tags": []
   },
   "source": [
    "### Save image"
   ]
  },
  {
   "cell_type": "code",
   "execution_count": null,
   "id": "0764528a-774e-426a-b1fd-68a9d81c7d7e",
   "metadata": {
    "papermill": {},
    "tags": []
   },
   "outputs": [],
   "source": [
    "img.save(output_image)"
   ]
  }
 ],
 "metadata": {
  "kernelspec": {
   "display_name": "Python 3",
   "language": "python",
   "name": "python3"
  },
  "language_info": {
   "codemirror_mode": {
    "name": "ipython",
    "version": 3
   },
   "file_extension": ".py",
   "mimetype": "text/x-python",
   "name": "python",
   "nbconvert_exporter": "python",
   "pygments_lexer": "ipython3",
   "version": "3.9.6"
  },
  "naas": {
   "notebook_id": "2480aaa5-cdc9-4837-97df-d7291420fc33",
   "notebook_path": "WSR/WHI_Create_indicator.ipynb"
  },
  "papermill": {
   "default_parameters": {},
   "environment_variables": {},
   "parameters": {},
   "version": "2.3.3"
  }
 },
 "nbformat": 4,
 "nbformat_minor": 5
}