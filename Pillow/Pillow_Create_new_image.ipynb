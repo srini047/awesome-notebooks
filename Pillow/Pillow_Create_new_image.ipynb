{
 "cells": [
  {
   "cell_type": "markdown",
   "id": "naas-logo",
   "metadata": {
    "papermill": {},
    "tags": [
     "naas"
    ]
   },
   "source": [
    "<img width=\"10%\" alt=\"Naas\" src=\"https://landen.imgix.net/jtci2pxwjczr/assets/5ice39g4.png?w=160\"/>"
   ]
  },
  {
   "cell_type": "markdown",
   "id": "disturbed-technology",
   "metadata": {
    "papermill": {},
    "tags": []
   },
   "source": [
    "# Pillow - Create new image\n",
    "<a href=\"https://app.naas.ai/user-redirect/naas/downloader?url=https://raw.githubusercontent.com/jupyter-naas/awesome-notebooks/master/Pillow/Pillow_Create_new_image.ipynb\" target=\"_parent\"><img src=\"https://naasai-public.s3.eu-west-3.amazonaws.com/Open_in_Naas_Lab.svg\"/></a><br><br><a href=\"https://github.com/jupyter-naas/awesome-notebooks/issues/new?assignees=&labels=&template=template-request.md&title=Tool+-+Action+of+the+notebook+\">Template request</a> | <a href=\"https://github.com/jupyter-naas/awesome-notebooks/issues/new?assignees=&labels=bug&template=bug_report.md&title=Pillow+-+Create+new+image:+Error+short+description\">Bug report</a> | <a href=\"https://app.naas.ai/user-redirect/naas/downloader?url=https://raw.githubusercontent.com/jupyter-naas/awesome-notebooks/master/Naas/Naas_Start_data_product.ipynb\" target=\"_parent\">Generate Data Product</a>"
   ]
  },
  {
   "cell_type": "markdown",
   "id": "7ec146cb-0ed6-40ea-9568-b6a30a9a0edc",
   "metadata": {
    "papermill": {},
    "tags": []
   },
   "source": [
    "**Tags:** #pillow #opendata #snippet #data #image"
   ]
  },
  {
   "cell_type": "markdown",
   "id": "naas-author",
   "metadata": {
    "papermill": {},
    "tags": [
     "naas"
    ]
   },
   "source": [
    "**Author:** [Florent Ravenel](https://www.linkedin.com/in/florent-ravenel/)"
   ]
  },
  {
   "cell_type": "markdown",
   "id": "e139471d-32a1-40d4-91c6-4382a1bf7b62",
   "metadata": {
    "papermill": {},
    "tags": []
   },
   "source": [
    "**Description:** This notebook creates and saves an image using Pillow. You can setup its width, height and background color."
   ]
  },
  {
   "cell_type": "markdown",
   "id": "619a4895-2e9b-4c25-839a-52050b4d6f72",
   "metadata": {
    "execution": {
     "iopub.execute_input": "2022-12-06T19:43:43.282161Z",
     "iopub.status.busy": "2022-12-06T19:43:43.281890Z",
     "iopub.status.idle": "2022-12-06T19:43:43.291913Z",
     "shell.execute_reply": "2022-12-06T19:43:43.290839Z",
     "shell.execute_reply.started": "2022-12-06T19:43:43.282097Z"
    },
    "papermill": {},
    "tags": []
   },
   "source": [
    "<u>References:</u>\n",
    "- https://holypython.com/python-pil-tutorial/how-to-create-a-new-image-with-pil/"
   ]
  },
  {
   "cell_type": "markdown",
   "id": "467e92cb-4bd3-4f71-87b1-8d16428b594a",
   "metadata": {
    "papermill": {},
    "tags": []
   },
   "source": [
    "## Input"
   ]
  },
  {
   "cell_type": "markdown",
   "id": "79f67e07-5ebb-437c-bccf-8a22c56811f7",
   "metadata": {
    "papermill": {},
    "tags": []
   },
   "source": [
    "### Import libraries"
   ]
  },
  {
   "cell_type": "code",
   "execution_count": null,
   "id": "fatty-tomato",
   "metadata": {
    "papermill": {},
    "tags": []
   },
   "outputs": [],
   "source": [
    "from PIL import Image"
   ]
  },
  {
   "cell_type": "markdown",
   "id": "44b8b495-b79b-486c-8775-00018b6aa206",
   "metadata": {
    "papermill": {},
    "tags": []
   },
   "source": [
    "### Setup variables"
   ]
  },
  {
   "cell_type": "code",
   "execution_count": null,
   "id": "9c442cb0-64af-4731-9e39-e768385514a5",
   "metadata": {
    "papermill": {},
    "tags": []
   },
   "outputs": [],
   "source": [
    "# Inputs\n",
    "background_color = \"#00004c\"\n",
    "width = 1200\n",
    "height = 600\n",
    "\n",
    "# Outputs\n",
    "output_image = \"new_image.png\""
   ]
  },
  {
   "cell_type": "markdown",
   "id": "c9de0c21-b37c-4de9-8e95-9215e857d7e3",
   "metadata": {
    "papermill": {},
    "tags": []
   },
   "source": [
    "## Model"
   ]
  },
  {
   "cell_type": "markdown",
   "id": "937f18b4-8851-46c8-afbd-066e0d0a870e",
   "metadata": {
    "papermill": {},
    "tags": []
   },
   "source": [
    "### Create new image"
   ]
  },
  {
   "cell_type": "code",
   "execution_count": null,
   "id": "suitable-watson",
   "metadata": {
    "papermill": {},
    "tags": []
   },
   "outputs": [],
   "source": [
    "img = Image.new(\"RGB\", (width, height), background_color)\n",
    "display(img)"
   ]
  },
  {
   "cell_type": "markdown",
   "id": "competitive-canon",
   "metadata": {
    "papermill": {},
    "tags": []
   },
   "source": [
    "## Output"
   ]
  },
  {
   "cell_type": "markdown",
   "id": "d066e183-dc32-4db0-9a08-e37603c372c4",
   "metadata": {
    "papermill": {},
    "tags": []
   },
   "source": [
    "### Save image"
   ]
  },
  {
   "cell_type": "code",
   "execution_count": null,
   "id": "0764528a-774e-426a-b1fd-68a9d81c7d7e",
   "metadata": {
    "papermill": {},
    "tags": []
   },
   "outputs": [],
   "source": [
    "img.save(output_image)"
   ]
  }
 ],
 "metadata": {
  "kernelspec": {
   "display_name": "Python 3",
   "language": "python",
   "name": "python3"
  },
  "language_info": {
   "codemirror_mode": {
    "name": "ipython",
    "version": 3
   },
   "file_extension": ".py",
   "mimetype": "text/x-python",
   "name": "python",
   "nbconvert_exporter": "python",
   "pygments_lexer": "ipython3",
   "version": "3.9.6"
  },
  "naas": {
   "notebook_id": "36a46b8dea31448e6c96ce86e134eb3596ca9606f23ba38d98c952a3bc8246b4",
   "notebook_path": "Pillow/Pillow_Create_new_image.ipynb"
  },
  "papermill": {
   "default_parameters": {},
   "environment_variables": {},
   "parameters": {},
   "version": "2.3.3"
  }
 },
 "nbformat": 4,
 "nbformat_minor": 5
}