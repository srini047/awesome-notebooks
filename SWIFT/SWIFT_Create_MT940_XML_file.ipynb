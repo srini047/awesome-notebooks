{
 "cells": [
  {
   "cell_type": "markdown",
   "id": "8136fca7-ec11-4b1d-87cd-a74db892557b",
   "metadata": {
    "papermill": {},
    "tags": []
   },
   "source": [
    "<img width=\"10%\" alt=\"Naas\" src=\"https://landen.imgix.net/jtci2pxwjczr/assets/5ice39g4.png?w=160\"/>"
   ]
  },
  {
   "cell_type": "markdown",
   "id": "90c997d3-4245-4562-ac4f-19cc28c23eca",
   "metadata": {
    "papermill": {},
    "tags": []
   },
   "source": [
    "# SWIFT - Create MT940 XML file\n",
    "<a href=\"https://app.naas.ai/user-redirect/naas/downloader?url=https://raw.githubusercontent.com/jupyter-naas/awesome-notebooks/master/SWIFT/SWIFT_Create_MT940_XML_file.ipynb\" target=\"_parent\"><img src=\"https://naasai-public.s3.eu-west-3.amazonaws.com/open_in_naas.svg\"/></a><br><br><a href=\"https://github.com/jupyter-naas/awesome-notebooks/issues/new?assignees=&labels=&template=template-request.md&title=Tool+-+Action+of+the+notebook+\">Template request</a> | <a href=\"https://github.com/jupyter-naas/awesome-notebooks/issues/new?assignees=&labels=bug&template=bug_report.md&title=SWIFT+-+Create+MT940+XML+file:+Error+short+description\">Bug report</a>"
   ]
  },
  {
   "cell_type": "markdown",
   "id": "a5ba7f94-e05b-4eb5-92b7-483b2a170b63",
   "metadata": {
    "papermill": {},
    "tags": []
   },
   "source": [
    "**Tags:** #swift #mt940 #xml #file #create #python"
   ]
  },
  {
   "cell_type": "markdown",
   "id": "8cb228fe-0da6-4987-bcef-556f1e403496",
   "metadata": {
    "papermill": {},
    "tags": []
   },
   "source": [
    "**Author:** [Florent Ravenel](https://www.linkedin.com/in/florent-ravenel/)"
   ]
  },
  {
   "cell_type": "markdown",
   "id": "6d848dfe-638d-4480-bb18-da014b4f4740",
   "metadata": {
    "papermill": {},
    "tags": []
   },
   "source": [
    "**Description:** This notebook will show how to create an MT940 XML file using Python."
   ]
  },
  {
   "cell_type": "markdown",
   "id": "58d2719e-41d3-4ae4-889a-61d2abb0ba02",
   "metadata": {
    "papermill": {},
    "tags": []
   },
   "source": [
    "<u>References:</u>\n",
    "- [MT940 Format](https://www.sepaforcorporates.com/swift-for-corporates/account-statement-mt940-file-format-overview/)\n",
    "- [Python XML Parser](https://docs.python.org/3/library/xml.etree.elementtree.html)"
   ]
  },
  {
   "cell_type": "markdown",
   "id": "a64035d7-4654-4dc0-a0dc-fabc68277a0d",
   "metadata": {
    "papermill": {},
    "tags": []
   },
   "source": [
    "## Input"
   ]
  },
  {
   "cell_type": "markdown",
   "id": "7437420e-27c1-4f0d-9f3c-297519da0d5a",
   "metadata": {
    "papermill": {},
    "tags": []
   },
   "source": [
    "### Import libraries"
   ]
  },
  {
   "cell_type": "code",
   "execution_count": 2,
   "id": "f32fefd7-aad3-4188-8341-23ab80f86859",
   "metadata": {
    "execution": {
     "iopub.execute_input": "2023-02-17T08:46:36.145247Z",
     "iopub.status.busy": "2023-02-17T08:46:36.145025Z",
     "iopub.status.idle": "2023-02-17T08:46:36.152057Z",
     "shell.execute_reply": "2023-02-17T08:46:36.151528Z",
     "shell.execute_reply.started": "2023-02-17T08:46:36.145225Z"
    },
    "papermill": {},
    "tags": []
   },
   "outputs": [],
   "source": [
    "import xml.etree.ElementTree as ET"
   ]
  },
  {
   "cell_type": "markdown",
   "id": "33347ad5-7a87-4dbd-ac95-0d90ccfde201",
   "metadata": {
    "papermill": {},
    "tags": []
   },
   "source": [
    "### Setup Variables\n",
    "- `root`: XML root element\n",
    "- `transaction`: XML transaction element\n",
    "- `transaction_id`: Transaction ID\n",
    "- `transaction_date`: Transaction date\n",
    "- `transaction_amount`: Transaction amount"
   ]
  },
  {
   "cell_type": "code",
   "execution_count": 3,
   "id": "19eb5f8b-ab4d-4b4f-95f4-f057e99d1faa",
   "metadata": {
    "execution": {
     "iopub.execute_input": "2023-02-17T08:46:37.700088Z",
     "iopub.status.busy": "2023-02-17T08:46:37.699864Z",
     "iopub.status.idle": "2023-02-17T08:46:37.704871Z",
     "shell.execute_reply": "2023-02-17T08:46:37.704290Z",
     "shell.execute_reply.started": "2023-02-17T08:46:37.700065Z"
    },
    "papermill": {},
    "tags": []
   },
   "outputs": [],
   "source": [
    "root = ET.Element(\"MT940\")\n",
    "transaction = ET.SubElement(root, \"Transaction\")\n",
    "transaction_id = \"12345\"\n",
    "transaction_date = \"2020-01-01\"\n",
    "transaction_amount = \"1000\""
   ]
  },
  {
   "cell_type": "markdown",
   "id": "b195584f-5106-414c-93d6-cbf0f054aeed",
   "metadata": {
    "papermill": {},
    "tags": []
   },
   "source": [
    "## Model"
   ]
  },
  {
   "cell_type": "markdown",
   "id": "d3975ae7-4775-43cc-b89e-5ba26b130717",
   "metadata": {
    "papermill": {},
    "tags": []
   },
   "source": [
    "### Create XML file"
   ]
  },
  {
   "cell_type": "markdown",
   "id": "64ebb4b0-eeea-448d-9f58-3f1b22679660",
   "metadata": {
    "papermill": {},
    "tags": []
   },
   "source": [
    "Create the XML file with the root element and the transaction element."
   ]
  },
  {
   "cell_type": "code",
   "execution_count": 4,
   "id": "3f77e43a-7ef3-40e0-b0d4-bd3630527a59",
   "metadata": {
    "execution": {
     "iopub.execute_input": "2023-02-17T08:46:40.631587Z",
     "iopub.status.busy": "2023-02-17T08:46:40.631367Z",
     "iopub.status.idle": "2023-02-17T08:46:40.634662Z",
     "shell.execute_reply": "2023-02-17T08:46:40.634031Z",
     "shell.execute_reply.started": "2023-02-17T08:46:40.631564Z"
    },
    "papermill": {},
    "tags": []
   },
   "outputs": [],
   "source": [
    "transaction.set(\"id\", transaction_id)\n",
    "transaction.set(\"date\", transaction_date)\n",
    "transaction.set(\"amount\", transaction_amount)"
   ]
  },
  {
   "cell_type": "markdown",
   "id": "6bbe2af3-dff4-4be0-b9e5-83ae0ac449ae",
   "metadata": {
    "papermill": {},
    "tags": []
   },
   "source": [
    "## Output"
   ]
  },
  {
   "cell_type": "markdown",
   "id": "41f9784b-c906-4886-b6e8-cc6176184671",
   "metadata": {
    "papermill": {},
    "tags": []
   },
   "source": [
    "### Display result"
   ]
  },
  {
   "cell_type": "markdown",
   "id": "5faa1d84-4ccc-436f-b41d-fa9915dea688",
   "metadata": {
    "papermill": {},
    "tags": []
   },
   "source": [
    "Display the XML file."
   ]
  },
  {
   "cell_type": "code",
   "execution_count": 5,
   "id": "150c79c0-0899-4edb-a1e8-514b5f7cfdce",
   "metadata": {
    "execution": {
     "iopub.execute_input": "2023-02-17T08:46:43.271010Z",
     "iopub.status.busy": "2023-02-17T08:46:43.270787Z",
     "iopub.status.idle": "2023-02-17T08:46:43.286193Z",
     "shell.execute_reply": "2023-02-17T08:46:43.285603Z",
     "shell.execute_reply.started": "2023-02-17T08:46:43.270988Z"
    },
    "papermill": {},
    "tags": []
   },
   "outputs": [],
   "source": [
    "tree = ET.ElementTree(root)\n",
    "tree.write(\"mt940.xml\")"
   ]
  },
  {
   "cell_type": "markdown",
   "id": "05d3558e-4b9c-47b5-aad0-e63d00b8b2dd",
   "metadata": {
    "papermill": {},
    "tags": []
   },
   "source": [
    " "
   ]
  }
 ],
 "metadata": {
  "kernelspec": {
   "display_name": "Python 3",
   "language": "python",
   "name": "python3"
  },
  "language_info": {
   "codemirror_mode": {
    "name": "ipython",
    "version": 3
   },
   "file_extension": ".py",
   "mimetype": "text/x-python",
   "name": "python",
   "nbconvert_exporter": "python",
   "pygments_lexer": "ipython3",
   "version": "3.9.6"
  },
  "papermill": {
   "default_parameters": {},
   "environment_variables": {},
   "parameters": {},
   "version": "2.4.0"
  },
  "widgets": {
   "application/vnd.jupyter.widget-state+json": {
    "state": {},
    "version_major": 2,
    "version_minor": 0
   }
  }
 },
 "nbformat": 4,
 "nbformat_minor": 5
}