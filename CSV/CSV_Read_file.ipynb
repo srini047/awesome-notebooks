{
 "cells": [
  {
   "cell_type": "markdown",
   "id": "22adc193-61a4-47e5-8575-63eec1d6e77d",
   "metadata": {
    "papermill": {},
    "tags": []
   },
   "source": [
    "<img width=\"10%\" alt=\"Naas\" src=\"https://landen.imgix.net/jtci2pxwjczr/assets/5ice39g4.png?w=160\"/>"
   ]
  },
  {
   "cell_type": "markdown",
   "id": "elder-rugby",
   "metadata": {
    "papermill": {},
    "tags": []
   },
   "source": [
    "# CSV - Read file\n",
    "<a href=\"https://app.naas.ai/user-redirect/naas/downloader?url=https://raw.githubusercontent.com/jupyter-naas/awesome-notebooks/master/CSV/CSV_Read_file.ipynb\" target=\"_parent\"><img src=\"https://naasai-public.s3.eu-west-3.amazonaws.com/open_in_naas.svg\"/></a><br><br><a href=\"https://github.com/jupyter-naas/awesome-notebooks/issues/new?assignees=&labels=&template=template-request.md&title=Tool+-+Action+of+the+notebook+\">Template request</a> | <a href=\"https://github.com/jupyter-naas/awesome-notebooks/issues/new?assignees=&labels=bug&template=bug_report.md&title=CSV+-+Read+file:+Error+short+description\">Bug report</a>"
   ]
  },
  {
   "cell_type": "markdown",
   "id": "e0a5cdec-021b-4cea-b045-eb951ce554ec",
   "metadata": {
    "papermill": {},
    "tags": []
   },
   "source": [
    "**Tags:** #csv #pandas #read #opendata #johnshopkins #investors #snippet #dataframe"
   ]
  },
  {
   "cell_type": "markdown",
   "id": "42bcd196-a350-45ea-beef-dca26167d41f",
   "metadata": {
    "papermill": {},
    "tags": []
   },
   "source": [
    "**Author:** [Florent Ravenel](https://www.linkedin.com/in/ACoAABCNSioBW3YZHc2lBHVG0E_TXYWitQkmwog/)"
   ]
  },
  {
   "cell_type": "markdown",
   "id": "naas-description",
   "metadata": {
    "papermill": {},
    "tags": [
     "description"
    ]
   },
   "source": [
    "**Description:** This notebook provides a guide to reading and manipulating CSV files."
   ]
  },
  {
   "cell_type": "markdown",
   "id": "a4618223-4afc-4c27-9a2b-7f1067be498a",
   "metadata": {
    "papermill": {},
    "tags": []
   },
   "source": [
    "## Input"
   ]
  },
  {
   "cell_type": "markdown",
   "id": "25fde36a-fa80-4aad-b4da-c06038a7fb8d",
   "metadata": {
    "papermill": {},
    "tags": []
   },
   "source": [
    "### Import library"
   ]
  },
  {
   "cell_type": "code",
   "execution_count": 1,
   "id": "ae091609-882a-4242-a32f-7b355403969d",
   "metadata": {
    "execution": {
     "iopub.execute_input": "2022-02-22T07:59:45.494595Z",
     "iopub.status.busy": "2022-02-22T07:59:45.494203Z",
     "iopub.status.idle": "2022-02-22T07:59:45.872409Z",
     "shell.execute_reply": "2022-02-22T07:59:45.870758Z",
     "shell.execute_reply.started": "2022-02-22T07:59:45.494495Z"
    },
    "papermill": {},
    "tags": []
   },
   "outputs": [],
   "source": [
    "import pandas"
   ]
  },
  {
   "cell_type": "markdown",
   "id": "84a10f73-ea4a-4331-8f30-ee190f76797d",
   "metadata": {
    "execution": {
     "iopub.execute_input": "2021-10-01T13:33:58.370014Z",
     "iopub.status.busy": "2021-10-01T13:33:58.369743Z",
     "iopub.status.idle": "2021-10-01T13:33:58.373285Z",
     "shell.execute_reply": "2021-10-01T13:33:58.372507Z",
     "shell.execute_reply.started": "2021-10-01T13:33:58.369948Z"
    },
    "papermill": {},
    "tags": []
   },
   "source": [
    "### Variable"
   ]
  },
  {
   "cell_type": "code",
   "execution_count": 2,
   "id": "617d6182-dd9b-462e-ad64-26df5faf18ac",
   "metadata": {
    "execution": {
     "iopub.execute_input": "2022-02-22T07:59:46.786874Z",
     "iopub.status.busy": "2022-02-22T07:59:46.786646Z",
     "iopub.status.idle": "2022-02-22T07:59:46.789736Z",
     "shell.execute_reply": "2022-02-22T07:59:46.789131Z",
     "shell.execute_reply.started": "2022-02-22T07:59:46.786850Z"
    },
    "papermill": {},
    "tags": []
   },
   "outputs": [],
   "source": [
    "csv_path = \"https://raw.githubusercontent.com/CSSEGISandData/COVID-19/master/csse_covid_19_data/csse_covid_19_time_series/time_series_covid19_confirmed_global.csv\""
   ]
  },
  {
   "cell_type": "markdown",
   "id": "5473470e-9f7a-4c49-be1f-e812859f4b23",
   "metadata": {
    "papermill": {},
    "tags": []
   },
   "source": [
    "## Model"
   ]
  },
  {
   "cell_type": "markdown",
   "id": "69ab62ff-1c59-4ed7-bc4a-f650b732b935",
   "metadata": {
    "papermill": {},
    "tags": []
   },
   "source": [
    "### Read the CSV from path"
   ]
  },
  {
   "cell_type": "markdown",
   "id": "790173fe-2b01-4a87-ba3a-d27031611d3c",
   "metadata": {
    "papermill": {},
    "tags": []
   },
   "source": [
    "You want to add more parameters ?<br>\n",
    "👉 Check out the pandas documentation <a href=\"https://pandas.pydata.org/docs/reference/api/pandas.read_csv.html\">here</a>."
   ]
  },
  {
   "cell_type": "code",
   "execution_count": 3,
   "id": "suited-adelaide",
   "metadata": {
    "execution": {
     "iopub.execute_input": "2022-02-22T08:00:36.360743Z",
     "iopub.status.busy": "2022-02-22T08:00:36.360525Z",
     "iopub.status.idle": "2022-02-22T08:00:36.473641Z",
     "shell.execute_reply": "2022-02-22T08:00:36.473064Z",
     "shell.execute_reply.started": "2022-02-22T08:00:36.360721Z"
    },
    "papermill": {},
    "tags": []
   },
   "outputs": [],
   "source": [
    "df = pandas.read_csv(csv_path)"
   ]
  },
  {
   "cell_type": "markdown",
   "id": "63370a04-6b92-462b-b663-2af89c32436e",
   "metadata": {
    "papermill": {},
    "tags": []
   },
   "source": [
    "## Output"
   ]
  },
  {
   "cell_type": "markdown",
   "id": "46f42343-1e53-4325-b708-bbbee1126a7a",
   "metadata": {
    "papermill": {},
    "tags": []
   },
   "source": [
    "### Display result"
   ]
  },
  {
   "cell_type": "code",
   "execution_count": 4,
   "id": "dynamic-radius",
   "metadata": {
    "execution": {
     "iopub.execute_input": "2022-02-22T08:00:37.813039Z",
     "iopub.status.busy": "2022-02-22T08:00:37.812815Z",
     "iopub.status.idle": "2022-02-22T08:00:37.835493Z",
     "shell.execute_reply": "2022-02-22T08:00:37.834714Z",
     "shell.execute_reply.started": "2022-02-22T08:00:37.813016Z"
    },
    "papermill": {},
    "tags": []
   },
   "outputs": [],
   "source": [
    "df.head(5)  # read the first 5 lines"
   ]
  }
 ],
 "metadata": {
  "kernelspec": {
   "display_name": "Python 3",
   "language": "python",
   "name": "python3"
  },
  "language_info": {
   "codemirror_mode": {
    "name": "ipython",
    "version": 3
   },
   "file_extension": ".py",
   "mimetype": "text/x-python",
   "name": "python",
   "nbconvert_exporter": "python",
   "pygments_lexer": "ipython3",
   "version": "3.9.6"
  },
  "naas": {
   "notebook_id": "d633ce1b-8663-48b7-8061-66a85c36c4fa",
   "notebook_path": "CSV/CSV_Read_file.ipynb"
  },
  "papermill": {
   "default_parameters": {},
   "environment_variables": {},
   "parameters": {},
   "version": "2.3.3"
  }
 },
 "nbformat": 4,
 "nbformat_minor": 5
}