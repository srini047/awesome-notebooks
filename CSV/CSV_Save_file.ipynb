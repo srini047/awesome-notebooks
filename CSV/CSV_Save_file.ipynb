{
 "cells": [
  {
   "cell_type": "markdown",
   "id": "22adc193-61a4-47e5-8575-63eec1d6e77d",
   "metadata": {
    "papermill": {},
    "tags": []
   },
   "source": [
    "<img width=\"10%\" alt=\"Naas\" src=\"https://landen.imgix.net/jtci2pxwjczr/assets/5ice39g4.png?w=160\"/>"
   ]
  },
  {
   "cell_type": "markdown",
   "id": "elder-rugby",
   "metadata": {
    "papermill": {},
    "tags": []
   },
   "source": [
    "# CSV - Save file\n",
    "<a href=\"https://app.naas.ai/user-redirect/naas/downloader?url=https://raw.githubusercontent.com/jupyter-naas/awesome-notebooks/master/CSV/CSV_Save_file.ipynb\" target=\"_parent\"><img src=\"https://naasai-public.s3.eu-west-3.amazonaws.com/Open_in_Naas_Lab.svg\"/></a><br><br><a href=\"https://github.com/jupyter-naas/awesome-notebooks/issues/new?assignees=&labels=&template=template-request.md&title=Tool+-+Action+of+the+notebook+\">Template request</a> | <a href=\"https://github.com/jupyter-naas/awesome-notebooks/issues/new?assignees=&labels=bug&template=bug_report.md&title=CSV+-+Save+file:+Error+short+description\">Bug report</a> | <a href=\"https://app.naas.ai/user-redirect/naas/downloader?url=https://raw.githubusercontent.com/jupyter-naas/awesome-notebooks/master/Naas/Naas_Start_data_product.ipynb\" target=\"_parent\">Generate Data Product</a>"
   ]
  },
  {
   "cell_type": "markdown",
   "id": "e0a5cdec-021b-4cea-b045-eb951ce554ec",
   "metadata": {
    "papermill": {},
    "tags": []
   },
   "source": [
    "**Tags:** #csv #pandas #save #opendata #johnshopkins #investors #snippet"
   ]
  },
  {
   "cell_type": "markdown",
   "id": "867b3701-c95c-4d03-af93-edfa9a0ac498",
   "metadata": {
    "papermill": {},
    "tags": []
   },
   "source": [
    "**Author:** [Florent Ravenel](https://www.linkedin.com/in/ACoAABCNSioBW3YZHc2lBHVG0E_TXYWitQkmwog/)"
   ]
  },
  {
   "cell_type": "markdown",
   "id": "naas-description",
   "metadata": {
    "papermill": {},
    "tags": [
     "description"
    ]
   },
   "source": [
    "**Description:** This notebook provides instructions on how to save a file in CSV format."
   ]
  },
  {
   "cell_type": "markdown",
   "id": "a4618223-4afc-4c27-9a2b-7f1067be498a",
   "metadata": {
    "papermill": {},
    "tags": []
   },
   "source": [
    "## Input"
   ]
  },
  {
   "cell_type": "markdown",
   "id": "25fde36a-fa80-4aad-b4da-c06038a7fb8d",
   "metadata": {
    "papermill": {},
    "tags": []
   },
   "source": [
    "### Import library"
   ]
  },
  {
   "cell_type": "code",
   "execution_count": 1,
   "id": "ae091609-882a-4242-a32f-7b355403969d",
   "metadata": {
    "papermill": {},
    "tags": []
   },
   "outputs": [],
   "source": [
    "import pandas"
   ]
  },
  {
   "cell_type": "markdown",
   "id": "84a10f73-ea4a-4331-8f30-ee190f76797d",
   "metadata": {
    "execution": {
     "iopub.execute_input": "2021-10-01T13:33:58.370014Z",
     "iopub.status.busy": "2021-10-01T13:33:58.369743Z",
     "iopub.status.idle": "2021-10-01T13:33:58.373285Z",
     "shell.execute_reply": "2021-10-01T13:33:58.372507Z",
     "shell.execute_reply.started": "2021-10-01T13:33:58.369948Z"
    },
    "papermill": {},
    "tags": []
   },
   "source": [
    "### Variable"
   ]
  },
  {
   "cell_type": "code",
   "execution_count": 2,
   "id": "617d6182-dd9b-462e-ad64-26df5faf18ac",
   "metadata": {
    "papermill": {},
    "tags": []
   },
   "outputs": [],
   "source": [
    "# Input\n",
    "csv_path = \"https://raw.githubusercontent.com/CSSEGISandData/COVID-19/master/csse_covid_19_data/csse_covid_19_time_series/time_series_covid19_confirmed_global.csv\"\n",
    "\n",
    "# Output\n",
    "csv_output_path = \"data.csv\""
   ]
  },
  {
   "cell_type": "markdown",
   "id": "5473470e-9f7a-4c49-be1f-e812859f4b23",
   "metadata": {
    "papermill": {},
    "tags": []
   },
   "source": [
    "## Model"
   ]
  },
  {
   "cell_type": "markdown",
   "id": "69ab62ff-1c59-4ed7-bc4a-f650b732b935",
   "metadata": {
    "papermill": {},
    "tags": []
   },
   "source": [
    "### Read the CSV from path"
   ]
  },
  {
   "cell_type": "markdown",
   "id": "790173fe-2b01-4a87-ba3a-d27031611d3c",
   "metadata": {
    "papermill": {},
    "tags": []
   },
   "source": [
    "You want to add more parameters ?<br>\n",
    "👉 Check out the pandas documentation <a href=\"https://pandas.pydata.org/docs/reference/api/pandas.read_csv.html\">here</a>."
   ]
  },
  {
   "cell_type": "code",
   "execution_count": 3,
   "id": "suited-adelaide",
   "metadata": {
    "papermill": {},
    "tags": []
   },
   "outputs": [],
   "source": [
    "df = pandas.read_csv(csv_path)\n",
    "df"
   ]
  },
  {
   "cell_type": "markdown",
   "id": "63370a04-6b92-462b-b663-2af89c32436e",
   "metadata": {
    "papermill": {},
    "tags": []
   },
   "source": [
    "## Output"
   ]
  },
  {
   "cell_type": "markdown",
   "id": "46f42343-1e53-4325-b708-bbbee1126a7a",
   "metadata": {
    "papermill": {},
    "tags": []
   },
   "source": [
    "You want to add more parameters ?<br>\n",
    "👉 Check out the pandas documentation <a href=\"https://pandas.pydata.org/docs/reference/api/pandas.DataFrame.to_csv.html\">here</a>."
   ]
  },
  {
   "cell_type": "code",
   "execution_count": 4,
   "id": "dynamic-radius",
   "metadata": {
    "papermill": {},
    "tags": []
   },
   "outputs": [],
   "source": [
    "df.to_csv(csv_output_path)\n",
    "print(f'💾 Excel '{csv_output_path}' successfully saved in Naas.')"
   ]
  }
 ],
 "metadata": {
  "kernelspec": {
   "display_name": "Python 3",
   "language": "python",
   "name": "python3"
  },
  "language_info": {
   "codemirror_mode": {
    "name": "ipython",
    "version": 3
   },
   "file_extension": ".py",
   "mimetype": "text/x-python",
   "name": "python",
   "nbconvert_exporter": "python",
   "pygments_lexer": "ipython3",
   "version": "3.9.6"
  },
  "naas": {
   "notebook_id": "eca872536f6468da2e40437dcddb02980432bbb5206dbfcb500aecf5bbe6764e",
   "notebook_path": "CSV/CSV_Save_file.ipynb"
  },
  "papermill": {
   "default_parameters": {},
   "environment_variables": {},
   "parameters": {},
   "version": "2.3.3"
  }
 },
 "nbformat": 4,
 "nbformat_minor": 5
}