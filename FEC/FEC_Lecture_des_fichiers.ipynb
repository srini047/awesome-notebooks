{
 "cells": [
  {
   "cell_type": "markdown",
   "id": "46a106d0-a3a4-4932-95e5-035d52405c8e",
   "metadata": {
    "papermill": {},
    "tags": []
   },
   "source": [
    "<img width=\"10%\" alt=\"Naas\" src=\"https://landen.imgix.net/jtci2pxwjczr/assets/5ice39g4.png?w=160\"/>"
   ]
  },
  {
   "cell_type": "markdown",
   "id": "7f8553bf-b04b-47ce-8998-065366a3048c",
   "metadata": {
    "papermill": {},
    "tags": []
   },
   "source": [
    "# FEC - Lecture des fichiers\n",
    "<a href=\"https://app.naas.ai/user-redirect/naas/downloader?url=https://raw.githubusercontent.com/jupyter-naas/awesome-notebooks/master/FEC/FEC_Lecture_des_fichiers.ipynb\" target=\"_parent\"><img src=\"https://naasai-public.s3.eu-west-3.amazonaws.com/Open_in_Naas_Lab.svg\"/></a><br><br><a href=\"https://github.com/jupyter-naas/awesome-notebooks/issues/new?assignees=&labels=&template=template-request.md&title=Tool+-+Action+of+the+notebook+\">Template request</a> | <a href=\"https://github.com/jupyter-naas/awesome-notebooks/issues/new?assignees=&labels=bug&template=bug_report.md&title=FEC+-+Lecture+des+fichiers:+Error+short+description\">Bug report</a> | <a href=\"https://app.naas.ai/user-redirect/naas/downloader?url=https://raw.githubusercontent.com/jupyter-naas/awesome-notebooks/master/Naas/Naas_Start_data_product.ipynb\" target=\"_parent\">Generate Data Product</a>"
   ]
  },
  {
   "cell_type": "markdown",
   "id": "50ee734a-483a-4ded-8836-6f84e7e72f4c",
   "metadata": {
    "papermill": {},
    "tags": []
   },
   "source": [
    "**Tags:** #fec #lecture #fichiers #python #data #analyse"
   ]
  },
  {
   "cell_type": "markdown",
   "id": "d894cc8e-0a0c-4b26-b60b-c69afda3db7e",
   "metadata": {
    "papermill": {},
    "tags": []
   },
   "source": [
    "**Author:** [Florent Ravenel](https://www.linkedin.com/in/florent-ravenel/)"
   ]
  },
  {
   "cell_type": "markdown",
   "id": "70112eac-5023-4f2d-88af-7d79ea99437c",
   "metadata": {
    "papermill": {},
    "tags": []
   },
   "source": [
    "**Description:** This notebook will show how to read files with Python and how it is usefull for organization."
   ]
  },
  {
   "cell_type": "markdown",
   "id": "ec446f5f-10d0-4b85-8777-e08020002dad",
   "metadata": {
    "papermill": {},
    "tags": []
   },
   "source": [
    "**References:**\n",
    "- [Python Documentation - Reading and Writing Files](https://docs.python.org/3/tutorial/inputoutput.html#reading-and-writing-files)\n",
    "- [Python Documentation - File Objects](https://docs.python.org/3/glossary.html#term-file-object)"
   ]
  },
  {
   "cell_type": "markdown",
   "id": "9dddfe08-78b9-411e-b16a-21f7664ce3b5",
   "metadata": {
    "papermill": {},
    "tags": []
   },
   "source": [
    "## Input"
   ]
  },
  {
   "cell_type": "markdown",
   "id": "29260916-ac30-4229-bdb0-92e0203b84df",
   "metadata": {
    "papermill": {},
    "tags": []
   },
   "source": [
    "### Import libraries"
   ]
  },
  {
   "cell_type": "code",
   "execution_count": null,
   "id": "e283b64a-cf13-4655-9e14-418742d260cd",
   "metadata": {
    "papermill": {},
    "tags": []
   },
   "outputs": [],
   "source": [
    "import os"
   ]
  },
  {
   "cell_type": "markdown",
   "id": "cd7f89e0-9b22-4ec7-9833-c0e3dc32f6b2",
   "metadata": {
    "papermill": {},
    "tags": []
   },
   "source": [
    "### Setup Variables\n",
    "- `file_name`: Name of the file to read\n",
    "- `file_path`: Path of the file to read"
   ]
  },
  {
   "cell_type": "code",
   "execution_count": null,
   "id": "a09273a8-1867-4d5f-81af-867221147347",
   "metadata": {
    "papermill": {},
    "tags": []
   },
   "outputs": [],
   "source": [
    "file_name = \"example.txt\"\n",
    "file_path = os.path.join(os.getcwd(), file_name)"
   ]
  },
  {
   "cell_type": "markdown",
   "id": "369a9146-361e-4f16-acd6-07b4f4a753c1",
   "metadata": {
    "papermill": {},
    "tags": []
   },
   "source": [
    "## Model"
   ]
  },
  {
   "cell_type": "markdown",
   "id": "da406606-c198-4802-b527-ed9ff863df39",
   "metadata": {
    "papermill": {},
    "tags": []
   },
   "source": [
    "### Read file"
   ]
  },
  {
   "cell_type": "markdown",
   "id": "16404e8b-c7a4-466e-9f27-d1c2f67737d9",
   "metadata": {
    "papermill": {},
    "tags": []
   },
   "source": [
    "Long description of the function to read a file without break."
   ]
  },
  {
   "cell_type": "code",
   "execution_count": null,
   "id": "b54a71e2-de83-4ed4-aac8-c9cb37b946e5",
   "metadata": {
    "papermill": {},
    "tags": []
   },
   "outputs": [],
   "source": [
    "# Open the file\n",
    "file_object = open(file_path, \"r\")\n",
    "# Read the file\n",
    "file_content = file_object.read()\n",
    "# Close the file\n",
    "file_object.close()"
   ]
  },
  {
   "cell_type": "markdown",
   "id": "cd44d094-7b60-4f0e-92c4-fffd76b22eff",
   "metadata": {
    "papermill": {},
    "tags": []
   },
   "source": [
    "## Output"
   ]
  },
  {
   "cell_type": "markdown",
   "id": "31edfd5c-1acf-456a-aabd-50dde50c4f75",
   "metadata": {
    "papermill": {},
    "tags": []
   },
   "source": [
    "### Display result"
   ]
  },
  {
   "cell_type": "code",
   "execution_count": null,
   "id": "0aeb3bf0-c7f2-451e-9488-d1ff2588ccaa",
   "metadata": {
    "papermill": {},
    "tags": []
   },
   "outputs": [],
   "source": [
    "print(file_content)"
   ]
  },
  {
   "cell_type": "markdown",
   "id": "586fe2a7-5486-4bf1-9aa1-95aa879dcf4d",
   "metadata": {
    "papermill": {},
    "tags": []
   },
   "source": [
    " "
   ]
  }
 ],
 "metadata": {
  "kernelspec": {
   "display_name": "Python 3",
   "language": "python",
   "name": "python3"
  },
  "language_info": {
   "codemirror_mode": {
    "name": "ipython",
    "version": 3
   },
   "file_extension": ".py",
   "mimetype": "text/x-python",
   "name": "python",
   "nbconvert_exporter": "python",
   "pygments_lexer": "ipython3",
   "version": "3.9.6"
  },
  "naas": {
   "notebook_id": "05f3e5c7ae59b593be99118e8041cef4b465f18e633b6f8afc3b889762a1bb58",
   "notebook_path": "FEC/FEC_Lecture_des_fichiers.ipynb"
  },
  "papermill": {
   "default_parameters": {},
   "environment_variables": {},
   "parameters": {},
   "version": "2.4.0"
  },
  "widgets": {
   "application/vnd.jupyter.widget-state+json": {
    "state": {},
    "version_major": 2,
    "version_minor": 0
   }
  }
 },
 "nbformat": 4,
 "nbformat_minor": 5
}