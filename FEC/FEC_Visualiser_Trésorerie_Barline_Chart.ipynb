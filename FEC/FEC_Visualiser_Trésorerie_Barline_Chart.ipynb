{
 "cells": [
  {
   "cell_type": "markdown",
   "id": "latin-packing",
   "metadata": {
    "execution": {
     "iopub.execute_input": "2021-02-23T14:22:16.610471Z",
     "iopub.status.busy": "2021-02-23T14:22:16.610129Z",
     "iopub.status.idle": "2021-02-23T14:22:16.627784Z",
     "shell.execute_reply": "2021-02-23T14:22:16.626866Z",
     "shell.execute_reply.started": "2021-02-23T14:22:16.610384Z"
    },
    "papermill": {},
    "tags": []
   },
   "source": [
    "<img width=\"10%\" alt=\"Naas\" src=\"https://landen.imgix.net/jtci2pxwjczr/assets/5ice39g4.png?w=160\"/>"
   ]
  },
  {
   "cell_type": "markdown",
   "id": "compressed-wilson",
   "metadata": {
    "papermill": {},
    "tags": []
   },
   "source": [
    "# FEC - Visualiser Trésorerie Barline Chart\n",
    "<a href=\"https://app.naas.ai/user-redirect/naas/downloader?url=https://raw.githubusercontent.com/jupyter-naas/awesome-notebooks/master/FEC/FEC_Visualiser_Tr%C3%A9sorerie_Barline_Chart.ipynb\" target=\"_parent\"><img src=\"https://naasai-public.s3.eu-west-3.amazonaws.com/Open_in_Naas_Lab.svg\"/></a><br><br><a href=\"https://github.com/jupyter-naas/awesome-notebooks/issues/new?assignees=&labels=&template=template-request.md&title=Tool+-+Action+of+the+notebook+\">Template request</a> | <a href=\"https://github.com/jupyter-naas/awesome-notebooks/issues/new?assignees=&labels=bug&template=bug_report.md&title=FEC+-+Visualiser+Trésorerie+Barline+Chart:+Error+short+description\">Bug report</a> | <a href=\"https://app.naas.ai/user-redirect/naas/downloader?url=https://raw.githubusercontent.com/jupyter-naas/awesome-notebooks/master/Naas/Naas_Start_data_product.ipynb\" target=\"_parent\">Generate Data Product</a>"
   ]
  },
  {
   "cell_type": "markdown",
   "id": "religious-programmer",
   "metadata": {
    "papermill": {},
    "tags": []
   },
   "source": [
    "**Tags:** #fec #plotly #naas #snippet #operations #barline"
   ]
  },
  {
   "cell_type": "markdown",
   "id": "1fe9f56e-561c-4f52-aef8-b861c9462107",
   "metadata": {
    "papermill": {},
    "tags": []
   },
   "source": [
    "**Author:** [Florent Ravenel](https://www.linkedin.com/in/florent-ravenel)"
   ]
  },
  {
   "cell_type": "markdown",
   "id": "naas-description",
   "metadata": {
    "papermill": {},
    "tags": [
     "description"
    ]
   },
   "source": [
    "**Description:** Ce notebook vous permettra de visualiser la trésorerie de votre entreprise à l'aide d'un diagramme de barres. Vous pourrez facilement suivre les entrées et les sorties d'argent, ce qui vous aidera à mieux comprendre la situation financière de votre entreprise."
   ]
  },
  {
   "cell_type": "markdown",
   "id": "distinguished-truth",
   "metadata": {
    "papermill": {},
    "tags": []
   },
   "source": [
    "## Input"
   ]
  },
  {
   "cell_type": "markdown",
   "id": "numeric-mediterranean",
   "metadata": {
    "papermill": {},
    "tags": []
   },
   "source": [
    "### Import libraries"
   ]
  },
  {
   "cell_type": "code",
   "execution_count": 5,
   "id": "potential-surfing",
   "metadata": {
    "papermill": {},
    "tags": []
   },
   "outputs": [],
   "source": [
    "import plotly.graph_objects as go\n",
    "from plotly.subplots import make_subplots\n",
    "import pandas as pd\n",
    "import naas\n",
    "import random"
   ]
  },
  {
   "cell_type": "markdown",
   "id": "9b63f92e-b1e0-43cc-86d8-db12ae89558e",
   "metadata": {
    "papermill": {},
    "tags": []
   },
   "source": [
    "### Setup Variables"
   ]
  },
  {
   "cell_type": "code",
   "execution_count": 24,
   "id": "47b21878-f530-436b-95f8-4ed65b42da19",
   "metadata": {
    "papermill": {},
    "tags": []
   },
   "outputs": [],
   "source": [
    "# Inputs\n",
    "# Create sample financial data\n",
    "data_cashin = {\n",
    "    \"ENTITY\": [\"Société X\"] * 12,\n",
    "    \"SCENARIO\": [\"2022-12\"] * 12,\n",
    "    \"LABEL\": [\n",
    "        \"2022-01\",\n",
    "        \"2022-02\",\n",
    "        \"2022-03\",\n",
    "        \"2022-04\",\n",
    "        \"2022-05\",\n",
    "        \"2022-06\",\n",
    "        \"2022-07\",\n",
    "        \"2022-08\",\n",
    "        \"2022-09\",\n",
    "        \"2022-10\",\n",
    "        \"2022-11\",\n",
    "        \"2022-12\",\n",
    "    ],\n",
    "    \"GROUP\": [\"Encaissements\"] * 12,\n",
    "    \"VALUE\": [random.randint(0, 1000) for i in range(0, 12)],\n",
    "}\n",
    "data_cashout = {\n",
    "    \"ENTITY\": [\"Société X\"] * 12,\n",
    "    \"SCENARIO\": [\"2022-12\"] * 12,\n",
    "    \"LABEL\": [\n",
    "        \"2022-01\",\n",
    "        \"2022-02\",\n",
    "        \"2022-03\",\n",
    "        \"2022-04\",\n",
    "        \"2022-05\",\n",
    "        \"2022-06\",\n",
    "        \"2022-07\",\n",
    "        \"2022-08\",\n",
    "        \"2022-09\",\n",
    "        \"2022-10\",\n",
    "        \"2022-11\",\n",
    "        \"2022-12\",\n",
    "    ],\n",
    "    \"GROUP\": [\"Décaissement\"] * 12,\n",
    "    \"VALUE\": [random.randint(0, 500) * -1 for i in range(0, 12)],\n",
    "}\n",
    "\n",
    "# Outputs\n",
    "html_output = \"Trésorerie_Barline.html\"\n",
    "png_output = \"Trésorerie_Barline.png\""
   ]
  },
  {
   "cell_type": "markdown",
   "id": "registered-showcase",
   "metadata": {
    "papermill": {},
    "tags": []
   },
   "source": [
    "## Model"
   ]
  },
  {
   "cell_type": "markdown",
   "id": "0df10ed5-44fe-4abd-a3c1-61154c819e8c",
   "metadata": {
    "papermill": {},
    "tags": []
   },
   "source": [
    "### Get \"Cashin\" data"
   ]
  },
  {
   "cell_type": "code",
   "execution_count": 25,
   "id": "82cb0b6e-1a32-46fb-96b2-a1fba5ff515e",
   "metadata": {
    "papermill": {},
    "tags": []
   },
   "outputs": [],
   "source": [
    "df_cashin = pd.DataFrame(data_cashin)\n",
    "df_cashin"
   ]
  },
  {
   "cell_type": "markdown",
   "id": "706da888-645f-4d24-a2df-08570dcf10e3",
   "metadata": {
    "papermill": {},
    "tags": []
   },
   "source": [
    "### Get \"Cashout\" data"
   ]
  },
  {
   "cell_type": "code",
   "execution_count": 26,
   "id": "df314ec4-6836-4cb8-a488-59ebd71937e9",
   "metadata": {
    "papermill": {},
    "tags": []
   },
   "outputs": [],
   "source": [
    "df_cashout = pd.DataFrame(data_cashout)\n",
    "df_cashout"
   ]
  },
  {
   "cell_type": "markdown",
   "id": "9a8484e3-708e-4453-81e5-05122c4dacb5",
   "metadata": {
    "papermill": {},
    "tags": []
   },
   "source": [
    "### Calculate \"Cash Position\""
   ]
  },
  {
   "cell_type": "code",
   "execution_count": 27,
   "id": "081e987c-a03a-4c98-8573-180ec3d7c6a1",
   "metadata": {
    "papermill": {},
    "tags": []
   },
   "outputs": [],
   "source": [
    "# concat cash in and cash out\n",
    "df_position = pd.concat([df_cashin, df_cashout])\n",
    "\n",
    "# rename column GROUP = \"Position\" and groupby + agg\n",
    "df_position[\"GROUP\"] = \"Trésorerie\"\n",
    "df_position = df_position.groupby(\n",
    "    [\"ENTITY\", \"SCENARIO\", \"LABEL\", \"GROUP\"], as_index=False\n",
    ").agg({\"VALUE\": \"sum\"})\n",
    "df_position"
   ]
  },
  {
   "cell_type": "markdown",
   "id": "tested-astrology",
   "metadata": {
    "papermill": {},
    "tags": []
   },
   "source": [
    "### Create barlinechart using Plotly"
   ]
  },
  {
   "cell_type": "code",
   "execution_count": 37,
   "id": "crude-louisville",
   "metadata": {
    "papermill": {},
    "tags": []
   },
   "outputs": [],
   "source": [
    "def create_barlinechart(\n",
    "    df_cashin,\n",
    "    df_cashout,\n",
    "    df_position,\n",
    "    xaxis_title=None,\n",
    "    yaxis_title_r=None,\n",
    "    yaxis_title_l=None,\n",
    "):\n",
    "    # Create figure with secondary y-axis\n",
    "    fig = make_subplots(specs=[[{\"secondary_y\": True}]])\n",
    "\n",
    "    # Add traces\n",
    "    fig.add_trace(\n",
    "        go.Bar(\n",
    "            name=\"Encaissement\",\n",
    "            x=df_cashin[\"LABEL\"],\n",
    "            y=df_cashin[\"VALUE\"],\n",
    "            marker=dict(color=\"#1b7656\"),\n",
    "        ),\n",
    "        secondary_y=False,\n",
    "    )\n",
    "    fig.add_trace(\n",
    "        go.Bar(\n",
    "            name=\"Décaissement\",\n",
    "            x=df_cashout[\"LABEL\"],\n",
    "            y=df_cashout[\"VALUE\"] * -1,\n",
    "            marker=dict(color=\"#cd3244\"),\n",
    "        ),\n",
    "        secondary_y=False,\n",
    "    )\n",
    "    fig.add_trace(\n",
    "        go.Scatter(\n",
    "            x=df_position[\"LABEL\"],\n",
    "            y=df_position[\"VALUE\"],\n",
    "            mode=\"lines\",\n",
    "            line=dict(color=\"#46a7f5\", width=2.5),\n",
    "        ),\n",
    "        secondary_y=True,\n",
    "    )\n",
    "\n",
    "    # Add figure title\n",
    "    fig.update_layout(\n",
    "        title=f\"Trésorerie Disponible : {df_position.loc[df_position.index[-1], 'VALUE']} €\",\n",
    "        title_font=dict(family=\"Arial\", size=18, color=\"black\"),\n",
    "        legend=None,\n",
    "        plot_bgcolor=\"#ffffff\",\n",
    "        width=1200,\n",
    "        height=800,\n",
    "        paper_bgcolor=\"white\",\n",
    "        xaxis_title=xaxis_title,\n",
    "        xaxis_title_font=dict(family=\"Arial\", size=12, color=\"black\"),\n",
    "        xaxis={\"type\": \"category\"},\n",
    "    )\n",
    "\n",
    "    # Set y-axes titles\n",
    "    fig.update_yaxes(\n",
    "        title_text=yaxis_title_r,\n",
    "        title_font=dict(family=\"Arial\", size=12, color=\"black\"),\n",
    "        secondary_y=False,\n",
    "    )\n",
    "    fig.update_yaxes(\n",
    "        title_text=yaxis_title_l,\n",
    "        title_font=dict(family=\"Arial\", size=12, color=\"black\"),\n",
    "        secondary_y=True,\n",
    "    )\n",
    "    fig.update_traces(showlegend=False)\n",
    "    fig.show()\n",
    "    return fig\n",
    "\n",
    "\n",
    "fig = create_barlinechart(\n",
    "    df_cashin,\n",
    "    df_cashout,\n",
    "    df_position,\n",
    "    xaxis_title=\"Mois\",\n",
    "    yaxis_title_r=\"Position\",\n",
    "    yaxis_title_l=\"Flux\",\n",
    ")"
   ]
  },
  {
   "cell_type": "markdown",
   "id": "lonely-pacific",
   "metadata": {
    "execution": {
     "iopub.execute_input": "2021-07-02T23:32:10.789097Z",
     "iopub.status.busy": "2021-07-02T23:32:10.788829Z",
     "iopub.status.idle": "2021-07-02T23:32:10.796900Z",
     "shell.execute_reply": "2021-07-02T23:32:10.796358Z",
     "shell.execute_reply.started": "2021-07-02T23:32:10.789033Z"
    },
    "papermill": {},
    "tags": []
   },
   "source": [
    "## Output"
   ]
  },
  {
   "cell_type": "markdown",
   "id": "adf4d9d7-0968-4aa5-8757-a23f61f4ba16",
   "metadata": {
    "papermill": {},
    "tags": []
   },
   "source": [
    "### Save and share your graph as PNG"
   ]
  },
  {
   "cell_type": "code",
   "execution_count": 38,
   "id": "35c99e3e-ea50-43ad-83cf-7f95f0a558b3",
   "metadata": {
    "papermill": {},
    "tags": []
   },
   "outputs": [],
   "source": [
    "fig.write_image(png_output)\n",
    "\n",
    "# Share output with naas\n",
    "naas.asset.add(png_output)\n",
    "\n",
    "# -> Uncomment the line below to remove your asset\n",
    "# naas.asset.delete(html_output)"
   ]
  },
  {
   "cell_type": "markdown",
   "id": "69352def-9f1d-4f56-9e3b-ab06fc128c7a",
   "metadata": {
    "papermill": {},
    "tags": []
   },
   "source": [
    "### Save and share your graph as HTML"
   ]
  },
  {
   "cell_type": "code",
   "execution_count": 39,
   "id": "741a63a1-3b7d-43b7-a7d4-995c6827c6d6",
   "metadata": {
    "papermill": {},
    "tags": []
   },
   "outputs": [],
   "source": [
    "fig.write_html(html_output)\n",
    "\n",
    "# Share output with naas\n",
    "naas.asset.add(html_output, params={\"inline\": True})\n",
    "\n",
    "# -> Uncomment the line below to remove your asset\n",
    "# naas.asset.delete(html_output)"
   ]
  }
 ],
 "metadata": {
  "kernelspec": {
   "display_name": "Python 3",
   "language": "python",
   "name": "python3"
  },
  "language_info": {
   "codemirror_mode": {
    "name": "ipython",
    "version": 3
   },
   "file_extension": ".py",
   "mimetype": "text/x-python",
   "name": "python",
   "nbconvert_exporter": "python",
   "pygments_lexer": "ipython3",
   "version": "3.9.6"
  },
  "naas": {
   "notebook_id": "d73ae271b1557432c42c76c41c62f94628dd97120e11e41b0f1c0f0eee97a9c5",
   "notebook_path": "FEC/FEC_Visualiser_Trésorerie_Barline_Chart.ipynb"
  },
  "papermill": {
   "default_parameters": {},
   "environment_variables": {},
   "parameters": {},
   "version": "2.3.3"
  },
  "widgets": {
   "application/vnd.jupyter.widget-state+json": {
    "state": {},
    "version_major": 2,
    "version_minor": 0
   }
  }
 },
 "nbformat": 4,
 "nbformat_minor": 5
}