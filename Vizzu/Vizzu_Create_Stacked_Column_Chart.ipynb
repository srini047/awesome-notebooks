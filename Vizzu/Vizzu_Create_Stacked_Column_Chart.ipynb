{
 "cells": [
  {
   "cell_type": "markdown",
   "id": "latin-packing",
   "metadata": {
    "execution": {
     "iopub.execute_input": "2021-02-23T14:22:16.610471Z",
     "iopub.status.busy": "2021-02-23T14:22:16.610129Z",
     "iopub.status.idle": "2021-02-23T14:22:16.627784Z",
     "shell.execute_reply": "2021-02-23T14:22:16.626866Z",
     "shell.execute_reply.started": "2021-02-23T14:22:16.610384Z"
    },
    "papermill": {},
    "tags": []
   },
   "source": [
    "<img width=\"10%\" alt=\"Naas\" src=\"https://landen.imgix.net/jtci2pxwjczr/assets/5ice39g4.png?w=160\"/>"
   ]
  },
  {
   "cell_type": "markdown",
   "id": "compressed-wilson",
   "metadata": {
    "papermill": {},
    "tags": []
   },
   "source": [
    "# Vizzu - Create Stacked Column Chart\n",
    "<a href=\"https://app.naas.ai/user-redirect/naas/downloader?url=https://raw.githubusercontent.com/jupyter-naas/awesome-notebooks/master/Vizzu/Vizzu_Create_Stacked_Column_Chart.ipynb\" target=\"_parent\"><img src=\"https://naasai-public.s3.eu-west-3.amazonaws.com/Open_in_Naas_Lab.svg\"/></a><br><br><a href=\"https://github.com/jupyter-naas/awesome-notebooks/issues/new?assignees=&labels=&template=template-request.md&title=Tool+-+Action+of+the+notebook+\">Template request</a> | <a href=\"https://github.com/jupyter-naas/awesome-notebooks/issues/new?assignees=&labels=bug&template=bug_report.md&title=Vizzu+-+Create+Stacked+Column+Chart:+Error+short+description\">Bug report</a> | <a href=\"https://app.naas.ai/user-redirect/naas/downloader?url=https://raw.githubusercontent.com/jupyter-naas/awesome-notebooks/master/Naas/Naas_Start_data_product.ipynb\" target=\"_parent\">Generate Data Product</a>"
   ]
  },
  {
   "cell_type": "markdown",
   "id": "religious-programmer",
   "metadata": {
    "papermill": {},
    "tags": []
   },
   "source": [
    "**Tags:** #analytics #dataviz #chart #graph #stackedbarchart"
   ]
  },
  {
   "cell_type": "markdown",
   "id": "1fe9f56e-561c-4f52-aef8-b861c9462107",
   "metadata": {
    "papermill": {},
    "tags": []
   },
   "source": [
    "**Author:** [Jeremy Ravenel](https://www.linkedin.com/in/jeremyravenel/)"
   ]
  },
  {
   "cell_type": "markdown",
   "id": "31ea7cdb-e10d-43fc-b026-f69249a59736",
   "metadata": {
    "papermill": {},
    "tags": []
   },
   "source": [
    "**Description:** This notebook template on Vizzu is designed to help users create visually appealing stacked column charts. Vizzu is a powerful data visualization tool that allows users to easily create interactive and engaging charts and graphs"
   ]
  },
  {
   "cell_type": "markdown",
   "id": "99c90840-c9e0-40f5-ad80-d903b3e23450",
   "metadata": {
    "execution": {
     "iopub.execute_input": "2023-04-01T12:31:53.329685Z",
     "iopub.status.busy": "2023-04-01T12:31:53.329444Z",
     "iopub.status.idle": "2023-04-01T12:31:53.341078Z",
     "shell.execute_reply": "2023-04-01T12:31:53.339753Z",
     "shell.execute_reply.started": "2023-04-01T12:31:53.329662Z"
    },
    "papermill": {},
    "tags": []
   },
   "source": [
    "**References:**\n",
    "- [Vizzu Stacked Column Chart](https://ipyvizzu.vizzuhq.com/latest/examples/presets/04_C_R_stacked_column/)"
   ]
  },
  {
   "cell_type": "markdown",
   "id": "distinguished-truth",
   "metadata": {
    "papermill": {},
    "tags": []
   },
   "source": [
    "## Input"
   ]
  },
  {
   "cell_type": "markdown",
   "id": "numeric-mediterranean",
   "metadata": {
    "papermill": {},
    "tags": []
   },
   "source": [
    "### Import libraries"
   ]
  },
  {
   "cell_type": "code",
   "execution_count": null,
   "id": "potential-surfing",
   "metadata": {
    "papermill": {},
    "tags": []
   },
   "outputs": [],
   "source": [
    "import naas\n",
    "import pandas as pd\n",
    "try:\n",
    "    from ipyvizzu import Chart, Data, Config, Style\n",
    "except:\n",
    "    !pip install ipyvizzu --user\n",
    "    from ipyvizzu import Chart, Data, Config, Style"
   ]
  },
  {
   "cell_type": "markdown",
   "id": "aggressive-trustee",
   "metadata": {
    "papermill": {},
    "tags": []
   },
   "source": [
    "### Setup Variables\n",
    "- `file_path`: The file path of the CSV file containing the data.\n",
    "- `title`: The title to be displayed at the top of the chart.\n",
    "- `label`: The name of the column to be used for the x-axis labels. The column type must be a `str`\n",
    "- `stack`: The name of the column that stacked the labels.\n",
    "- `value`: The name of the column to be used for the y-axis values. The column type must be either `int` or `float`.\n",
    "- `html_output`: The file path where the HTML output file should be created."
   ]
  },
  {
   "cell_type": "code",
   "execution_count": null,
   "id": "a7e227b0-6002-491a-a5fd-a08ff40b643d",
   "metadata": {
    "papermill": {},
    "tags": []
   },
   "outputs": [],
   "source": [
    "# Inputs\n",
    "file_path = \"https://ipyvizzu.vizzuhq.com/0.15/assets/data/chart_types_eu_data_6.csv\"\n",
    "title = \"Stacked Column Chart\"\n",
    "label = \"Country\"\n",
    "stack = \"Joy factors\"\n",
    "value = \"Value 2 (+)\"\n",
    "\n",
    "# Outputs\n",
    "html_output = \"Vizzu_Create_Grouped_Column_Chart.html\""
   ]
  },
  {
   "cell_type": "markdown",
   "id": "registered-showcase",
   "metadata": {
    "papermill": {},
    "tags": []
   },
   "source": [
    "## Model"
   ]
  },
  {
   "cell_type": "markdown",
   "id": "0b126482-2176-4d80-a83c-049ef56485c8",
   "metadata": {
    "papermill": {},
    "tags": []
   },
   "source": [
    "### Get data from csv"
   ]
  },
  {
   "cell_type": "code",
   "execution_count": null,
   "id": "8eb946fe-73d4-433f-b33e-ff10a52eff1c",
   "metadata": {
    "papermill": {},
    "tags": []
   },
   "outputs": [],
   "source": [
    "df = pd.read_csv(file_path, dtype={label: str, stack: str, value: float})\n",
    "df"
   ]
  },
  {
   "cell_type": "markdown",
   "id": "tested-astrology",
   "metadata": {
    "papermill": {},
    "tags": []
   },
   "source": [
    "### Generate chart"
   ]
  },
  {
   "cell_type": "code",
   "execution_count": null,
   "id": "8adfeb17-e262-4310-b237-9c4f2fcec206",
   "metadata": {
    "papermill": {},
    "tags": []
   },
   "outputs": [],
   "source": [
    "# initialize Chart\n",
    "chart = Chart(width=\"640px\", height=\"360px\", display=\"manual\")\n",
    "\n",
    "# add data to Chart\n",
    "data = Data()\n",
    "data.add_data_frame(df)\n",
    "chart.animate(data)\n",
    " \n",
    "# add config to Chart\n",
    "chart.animate(data)\n",
    "chart.animate(\n",
    "    Config.stackedColumn( # Change to .percentageColumn if you want to display bars on a 100% base\n",
    "        {\n",
    "            \"x\": label,\n",
    "            \"y\": value,\n",
    "            \"stackedBy\": stack,\n",
    "            \"title\": title,\n",
    "        }\n",
    "    )\n",
    ")\n",
    "\n",
    "# add style to Chart\n",
    "chart.animate(Style({\"title\": {\"fontSize\": 25}}))\n",
    "\n",
    "# display Chart\n",
    "chart.show()"
   ]
  },
  {
   "cell_type": "markdown",
   "id": "lonely-pacific",
   "metadata": {
    "execution": {
     "iopub.execute_input": "2021-07-02T23:32:10.789097Z",
     "iopub.status.busy": "2021-07-02T23:32:10.788829Z",
     "iopub.status.idle": "2021-07-02T23:32:10.796900Z",
     "shell.execute_reply": "2021-07-02T23:32:10.796358Z",
     "shell.execute_reply.started": "2021-07-02T23:32:10.789033Z"
    },
    "papermill": {},
    "tags": []
   },
   "source": [
    "## Output"
   ]
  },
  {
   "cell_type": "markdown",
   "id": "e24b19ba-269a-4d99-b4d0-7c7fa7b3bc35",
   "metadata": {
    "papermill": {},
    "tags": []
   },
   "source": [
    "### Export story to HTML"
   ]
  },
  {
   "cell_type": "code",
   "execution_count": null,
   "id": "30deac54-b8f0-45cd-8edc-8d4438f2d22c",
   "metadata": {
    "papermill": {},
    "tags": []
   },
   "outputs": [],
   "source": [
    "chart._showed = False\n",
    "rawhtml = chart._repr_html_()\n",
    "\n",
    "with open(html_output, \"w\", encoding=\"utf8\") as file_desc:\n",
    "    file_desc.write(rawhtml)"
   ]
  },
  {
   "cell_type": "markdown",
   "id": "f95c4fc1-32ca-43da-b764-135928da1035",
   "metadata": {
    "papermill": {},
    "tags": []
   },
   "source": [
    "### Create shareable asset with Naas"
   ]
  },
  {
   "cell_type": "code",
   "execution_count": null,
   "id": "68a6b382-643c-4212-8d79-6c3a86ba4c0a",
   "metadata": {
    "papermill": {},
    "tags": []
   },
   "outputs": [],
   "source": [
    "naas.asset.add(html_output, params={\"inline\": True})"
   ]
  },
  {
   "cell_type": "code",
   "execution_count": null,
   "id": "14c3e442-7c2c-4a40-bb9b-8f683155dbd3",
   "metadata": {
    "papermill": {},
    "tags": []
   },
   "outputs": [],
   "source": []
  }
 ],
 "metadata": {
  "kernelspec": {
   "display_name": "Python 3",
   "language": "python",
   "name": "python3"
  },
  "language_info": {
   "codemirror_mode": {
    "name": "ipython",
    "version": 3
   },
   "file_extension": ".py",
   "mimetype": "text/x-python",
   "name": "python",
   "nbconvert_exporter": "python",
   "pygments_lexer": "ipython3",
   "version": "3.9.6"
  },
  "naas": {
   "notebook_id": "cc379f1a45e8d669d37d8156179c77eb989a3aad869dae103093651aedb99c62",
   "notebook_path": "Vizzu/Vizzu_Create_Stacked_Column_Chart.ipynb"
  },
  "papermill": {
   "default_parameters": {},
   "environment_variables": {},
   "parameters": {},
   "version": "2.3.3"
  },
  "widgets": {
   "application/vnd.jupyter.widget-state+json": {
    "state": {},
    "version_major": 2,
    "version_minor": 0
   }
  }
 },
 "nbformat": 4,
 "nbformat_minor": 5
}