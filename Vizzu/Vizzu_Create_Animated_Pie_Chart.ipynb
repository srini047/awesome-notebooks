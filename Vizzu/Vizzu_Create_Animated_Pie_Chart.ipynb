{
 "cells": [
  {
   "cell_type": "markdown",
   "id": "e0a1af3b-538c-403c-97d8-243adc487fd9",
   "metadata": {
    "papermill": {},
    "tags": []
   },
   "source": [
    "<img width=\"10%\" alt=\"Naas\" src=\"https://landen.imgix.net/jtci2pxwjczr/assets/5ice39g4.png?w=160\"/>"
   ]
  },
  {
   "cell_type": "markdown",
   "id": "2c2c6eca-00ec-4adb-8e68-aa974df725a3",
   "metadata": {
    "papermill": {},
    "tags": []
   },
   "source": [
    "# Vizzu - Create Animated Pie Chart\n",
    "<a href=\"https://app.naas.ai/user-redirect/naas/downloader?url=https://raw.githubusercontent.com/jupyter-naas/awesome-notebooks/master/Vizzu/Vizzu_Create_Animated_Pie_Chart.ipynb\" target=\"_parent\"><img src=\"https://naasai-public.s3.eu-west-3.amazonaws.com/Open_in_Naas_Lab.svg\"/></a><br><br><a href=\"https://github.com/jupyter-naas/awesome-notebooks/issues/new?assignees=&labels=&template=template-request.md&title=Tool+-+Action+of+the+notebook+\">Template request</a> | <a href=\"https://github.com/jupyter-naas/awesome-notebooks/issues/new?assignees=&labels=bug&template=bug_report.md&title=Vizzu+-+Create+Animated+Pie+Chart:+Error+short+description\">Bug report</a> | <a href=\"https://app.naas.ai/user-redirect/naas/downloader?url=https://raw.githubusercontent.com/jupyter-naas/awesome-notebooks/master/Naas/Naas_Start_data_product.ipynb\" target=\"_parent\">Generate Data Product</a>"
   ]
  },
  {
   "cell_type": "markdown",
   "id": "ba8c1fac-58af-4a89-9029-136108ddb35a",
   "metadata": {
    "papermill": {},
    "tags": []
   },
   "source": [
    "**Tags:** #vizzu #animation #piechart #data #visualization #python"
   ]
  },
  {
   "cell_type": "markdown",
   "id": "c8aacabb-acf7-4faf-80e5-a5f55ae5b1be",
   "metadata": {
    "papermill": {},
    "tags": []
   },
   "source": [
    "**Author:** [Alexandre Petit](https://www.linkedin.com/in/alexandre-petit-24a87a219/)"
   ]
  },
  {
   "cell_type": "markdown",
   "id": "0b946466-074d-4725-968d-cebee18d185a",
   "metadata": {
    "papermill": {},
    "tags": []
   },
   "source": [
    "**Description:** This notebook will show how to create an animated pie chart with Vizzu. An animated pie chart can be useful for visualizing changes or transitions in categorical data over time."
   ]
  },
  {
   "cell_type": "markdown",
   "id": "99f39c30-cd04-468c-bd36-427b484f2dcc",
   "metadata": {
    "papermill": {},
    "tags": []
   },
   "source": [
    "**References:**\n",
    "- [Vizzu Documentation](https://vizzu.io/docs/getting-started/introduction)\n",
    "- [Vizzu Tutorials](https://vizzu.io/tutorials)"
   ]
  },
  {
   "cell_type": "markdown",
   "id": "82d736b3-cf25-4076-a4e4-00c3c0d26cfd",
   "metadata": {
    "papermill": {},
    "tags": []
   },
   "source": [
    "## Input"
   ]
  },
  {
   "cell_type": "markdown",
   "id": "de8061a1-9d61-4083-9617-eb414e975b23",
   "metadata": {
    "papermill": {},
    "tags": []
   },
   "source": [
    "### Import libraries"
   ]
  },
  {
   "cell_type": "code",
   "execution_count": null,
   "id": "d32c6f35-3aa1-46dc-96ae-9a599601d1f7",
   "metadata": {
    "papermill": {},
    "tags": []
   },
   "outputs": [],
   "source": [
    "import naas\n",
    "import pandas as pd\n",
    "try:\n",
    "    from ipyvizzu import Chart, Data, Config, Style, DisplayTarget\n",
    "except:\n",
    "    !pip install ipyvizzu --user\n",
    "    from ipyvizzu import Chart, Data, Config, Style, DisplayTarget"
   ]
  },
  {
   "cell_type": "markdown",
   "id": "55dcfc09-627d-4300-85a1-4c1864a94dad",
   "metadata": {
    "papermill": {},
    "tags": []
   },
   "source": [
    "### Setup Variables\n",
    "- `file_path`: url to the csv file\n",
    "- `title`: what is the graph about? \"in YYYY\" will be added to the title\n",
    "- `category`: the column with the categories that will be displayed on the plot\n",
    "- `value`: the column with the value\n",
    "- `time_col`: the column with the year\n",
    "- `graph_type`: the type of graph ('pie' or 'donut')\n",
    "- `categories_color`: a list of hexadecimal color in the RGBA format by category. If len is not the same as the number of categories selected then it will reuse the first colors.\n",
    "- `select_data`: a list  with the categories to display, \"all\" will include all the category but it is not recommended to display more than five categories on the same figure.\n",
    "- `html_output`: The file path where the HTML output file should be created"
   ]
  },
  {
   "cell_type": "code",
   "execution_count": null,
   "id": "61edbb5a-ae69-48f2-b27f-06db8a267b47",
   "metadata": {
    "papermill": {},
    "tags": []
   },
   "outputs": [],
   "source": [
    "#inputs\n",
    "file_path = \"https://raw.githubusercontent.com/alexandre-petit/oil-production/main/oil_production_pie_chart.csv\"\n",
    "title = \"Oil Production\"\n",
    "category = \"Entity\"\n",
    "value = \"value\"\n",
    "time_col = \"Year\"\n",
    "graph_type = \"pie\"\n",
    "categories_color = [\n",
    "    \"#abababFF\",\n",
    "    \"#ea4549FF\",\n",
    "    \"#3562b6FF\",\n",
    "    \"#1c9761FF\",\n",
    "]\n",
    "select_data = [\n",
    "    'Others',\n",
    "    'Russia',\n",
    "    'United States',\n",
    "    'Saudi Arabia'\n",
    "]\n",
    "\n",
    "#outputs\n",
    "html_output = \"Vizzu_Create_Animated_Pie_Chart.html\""
   ]
  },
  {
   "cell_type": "markdown",
   "id": "cff8e1ed-37f2-4d2e-9a98-108fd4189e06",
   "metadata": {
    "papermill": {},
    "tags": []
   },
   "source": [
    "## Model"
   ]
  },
  {
   "cell_type": "markdown",
   "id": "a711cadc-e865-4b5b-bb98-86223330b82a",
   "metadata": {
    "papermill": {},
    "tags": []
   },
   "source": [
    "## Get data from csv"
   ]
  },
  {
   "cell_type": "code",
   "execution_count": null,
   "id": "98e1db73-acf6-4145-b89f-bf4ee7faee47",
   "metadata": {
    "papermill": {},
    "tags": []
   },
   "outputs": [],
   "source": [
    "df = pd.read_csv(file_path)\n",
    "\n",
    "#cleaning\n",
    "df[category] = df[category].astype(str)\n",
    "df[value] = df[value].astype(float)\n",
    "\n",
    "#selecting the data for the graph\n",
    "if select_data == 'all':\n",
    "    pass\n",
    "else:\n",
    "    data_filter = (df[category].isin(select_data))\n",
    "    df = df[data_filter].copy()\n",
    "    \n",
    "df"
   ]
  },
  {
   "cell_type": "markdown",
   "id": "18537a16-29d4-4a77-9fb9-65a05395e014",
   "metadata": {
    "papermill": {},
    "tags": []
   },
   "source": [
    "### Create Animated Pie Chart"
   ]
  },
  {
   "cell_type": "markdown",
   "id": "0b7acfc3-1f04-428a-bbd7-07f381d6fc35",
   "metadata": {
    "papermill": {},
    "tags": []
   },
   "source": [
    "This function will create an animated pie chart with Vizzu."
   ]
  },
  {
   "cell_type": "code",
   "execution_count": null,
   "id": "a283c270-16fe-409c-990d-ed37087d5ef9",
   "metadata": {
    "papermill": {},
    "tags": []
   },
   "outputs": [],
   "source": [
    "#Add data to chart\n",
    "data = Data()\n",
    "data.add_data_frame(df)\n",
    "\n",
    "#setting the inner radius\n",
    "if graph_type == 'donut':\n",
    "    y_ratio = -80\n",
    "else:\n",
    "    y_ratio = 0\n",
    "\n",
    "    \n",
    "#choosing the columns\n",
    "config = {\n",
    "    \"channels\": {\n",
    "        \"x\": {\"set\": [category, value]},\n",
    "        \"y\": {\"range\": {\"min\": f\"{y_ratio}%\"}},\n",
    "        \"label\": {\"set\": [category, value]},\n",
    "        \"color\": {\"set\": [category]},\n",
    "    },\n",
    "    \"sort\": \"byValue\",\n",
    "    \"coordSystem\": \"polar\"\n",
    "}\n",
    "\n",
    "#colors, labels, padding\n",
    "style = Style(\n",
    "    {\n",
    "        \"plot\": {\n",
    "            \"paddingLeft\": 100,\n",
    "            \"paddingTop\": 25,\n",
    "            \"yAxis\": {\n",
    "                \"color\": \"#ffffff00\",\n",
    "                \"label\": {\"paddingRight\": 10},\n",
    "            },\n",
    "            \"xAxis\": {\n",
    "                \"title\": {\"color\": \"#ffffff00\"},\n",
    "                \"label\": {\n",
    "                    \"color\": \"#ffffff00\",\n",
    "                    \"numberFormat\": \"grouped\",\n",
    "                },\n",
    "            },\n",
    "            \"marker\": {\n",
    "                #colorPalette take a string of hexadecimal color separated by a whitespace\n",
    "                #for simplicity, we will join the list of hexadecimal color defined before\n",
    "                \"colorPalette\": \" \".join(categories_color)\n",
    "\n",
    "            },\n",
    "        },\n",
    "    }\n",
    ")\n",
    "\n",
    "#Initialize Chart\n",
    "chart = Chart(width=\"640px\", height=\"360px\", display=DisplayTarget.MANUAL)\n",
    "chart.animate(data, style)\n",
    "\n",
    "#Get time range\n",
    "min_date = df[time_col].min()\n",
    "max_date = df[time_col].max()\n",
    "\n",
    "# This part is looping over the time period\n",
    "for year in range(min_date, max_date + 1):\n",
    "    config[\"title\"] = title + f\" in {year}\"\n",
    "    chart.animate(\n",
    "        Data.filter(f\"parseInt(record.{time_col}) == {year}\"),\n",
    "        Config(config),\n",
    "        duration=0.5,\n",
    "        x={\"easing\": \"linear\", \"delay\": 0},\n",
    "        y={\"delay\": 0},\n",
    "        show={\"delay\": 0},\n",
    "        hide={\"delay\": 0},\n",
    "        title={\"duration\": 0, \"delay\": 0},\n",
    "    )\n",
    "\n",
    "#Display Chart\n",
    "chart.show()"
   ]
  },
  {
   "cell_type": "markdown",
   "id": "56779adc-7e0c-4fe1-99dd-35d198c651e4",
   "metadata": {
    "papermill": {},
    "tags": []
   },
   "source": [
    "## Output"
   ]
  },
  {
   "cell_type": "markdown",
   "id": "50992b7a-d9b0-4f86-906f-37e4fe081466",
   "metadata": {
    "papermill": {},
    "tags": []
   },
   "source": [
    "### Export chart in HTML"
   ]
  },
  {
   "cell_type": "code",
   "execution_count": null,
   "id": "5dba287e-6ef8-4a22-b0cb-6e320dc98a10",
   "metadata": {
    "papermill": {},
    "tags": []
   },
   "outputs": [],
   "source": [
    "chart._showed = False\n",
    "rawhtml = chart._repr_html_()\n",
    "\n",
    "with open(html_output, \"w\", encoding=\"utf8\") as file_desc:\n",
    "    file_desc.write(rawhtml)"
   ]
  },
  {
   "cell_type": "markdown",
   "id": "7a01fde3-30d1-4c18-becd-64cf90d6ae53",
   "metadata": {
    "papermill": {},
    "tags": []
   },
   "source": [
    " "
   ]
  }
 ],
 "metadata": {
  "kernelspec": {
   "display_name": "Python 3",
   "language": "python",
   "name": "python3"
  },
  "language_info": {
   "codemirror_mode": {
    "name": "ipython",
    "version": 3
   },
   "file_extension": ".py",
   "mimetype": "text/x-python",
   "name": "python",
   "nbconvert_exporter": "python",
   "pygments_lexer": "ipython3",
   "version": "3.9.6"
  },
  "naas": {
   "notebook_id": "6a458ee798291f3b3f7887e81b2068fe7be5b41fb8db37d7dcffcef94f1bb500",
   "notebook_path": "Vizzu/Vizzu_Create_Animated_Pie_Chart.ipynb"
  },
  "papermill": {
   "default_parameters": {},
   "environment_variables": {},
   "parameters": {},
   "version": "2.4.0"
  },
  "widgets": {
   "application/vnd.jupyter.widget-state+json": {
    "state": {},
    "version_major": 2,
    "version_minor": 0
   }
  }
 },
 "nbformat": 4,
 "nbformat_minor": 5
}