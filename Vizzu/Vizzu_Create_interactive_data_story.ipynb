{
 "cells": [
  {
   "cell_type": "markdown",
   "id": "cf7a439e",
   "metadata": {
    "execution": {
     "iopub.execute_input": "2021-01-25T08:00:35.294800Z",
     "iopub.status.busy": "2021-01-25T08:00:35.294557Z",
     "iopub.status.idle": "2021-01-25T08:00:35.307281Z",
     "shell.execute_reply": "2021-01-25T08:00:35.306468Z",
     "shell.execute_reply.started": "2021-01-25T08:00:35.294775Z"
    },
    "papermill": {},
    "tags": []
   },
   "source": [
    "<img width=\"10%\" alt=\"Naas\" src=\"https://landen.imgix.net/jtci2pxwjczr/assets/5ice39g4.png?w=160\"/>"
   ]
  },
  {
   "cell_type": "markdown",
   "id": "23ca765c",
   "metadata": {
    "papermill": {},
    "tags": []
   },
   "source": [
    "# Vizzu - Create interactive data story\n",
    "<a href=\"https://app.naas.ai/user-redirect/naas/downloader?url=https://raw.githubusercontent.com/jupyter-naas/awesome-notebooks/master/Vizzu/Vizzu_Create_interactive_data_story.ipynb\" target=\"_parent\"><img src=\"https://naasai-public.s3.eu-west-3.amazonaws.com/open_in_naas.svg\"/></a><br><br><a href=\"https://github.com/jupyter-naas/awesome-notebooks/issues/new?assignees=&labels=&template=template-request.md&title=Tool+-+Action+of+the+notebook+\">Template request</a> | <a href=\"https://github.com/jupyter-naas/awesome-notebooks/issues/new?assignees=&labels=bug&template=bug_report.md&title=Vizzu+-+Create+interactive+data+story:+Error+short+description\">Bug report</a>"
   ]
  },
  {
   "cell_type": "markdown",
   "id": "d6bae068",
   "metadata": {
    "papermill": {},
    "tags": []
   },
   "source": [
    "**Tags:** #ipyvizzu #googlesheets #charts #cash"
   ]
  },
  {
   "cell_type": "markdown",
   "id": "16574458",
   "metadata": {
    "papermill": {},
    "tags": []
   },
   "source": [
    "**Author:** [Jeremy Ravenel](https://www.linkedin.com/in/jeremyravenel/)"
   ]
  },
  {
   "cell_type": "markdown",
   "id": "naas-description",
   "metadata": {
    "papermill": {},
    "tags": [
     "description"
    ]
   },
   "source": [
    "**Description:** Vizzu enables users to create engaging, interactive data stories with ease."
   ]
  },
  {
   "cell_type": "markdown",
   "id": "3267ff1d",
   "metadata": {
    "papermill": {},
    "tags": []
   },
   "source": [
    "## Input"
   ]
  },
  {
   "cell_type": "markdown",
   "id": "f564d4e3",
   "metadata": {
    "papermill": {},
    "tags": []
   },
   "source": [
    "### Install packages"
   ]
  },
  {
   "cell_type": "code",
   "execution_count": 1,
   "id": "5fec01bb",
   "metadata": {
    "execution": {
     "iopub.execute_input": "2022-09-27T20:24:33.171060Z",
     "iopub.status.busy": "2022-09-27T20:24:33.170803Z",
     "iopub.status.idle": "2022-09-27T20:24:58.879862Z",
     "shell.execute_reply": "2022-09-27T20:24:58.878241Z",
     "shell.execute_reply.started": "2022-09-27T20:24:33.170983Z"
    },
    "papermill": {},
    "tags": []
   },
   "outputs": [],
   "source": [
    "!pip install ipyvizzu \n",
    "!pip install ipyvizzu-story "
   ]
  },
  {
   "cell_type": "markdown",
   "id": "b2c343bd",
   "metadata": {
    "execution": {
     "iopub.execute_input": "2022-09-27T13:17:55.772490Z",
     "iopub.status.busy": "2022-09-27T13:17:55.772194Z",
     "iopub.status.idle": "2022-09-27T13:17:55.775269Z",
     "shell.execute_reply": "2022-09-27T13:17:55.774669Z",
     "shell.execute_reply.started": "2022-09-27T13:17:55.772458Z"
    },
    "papermill": {},
    "tags": []
   },
   "source": [
    "### Install librairies"
   ]
  },
  {
   "cell_type": "code",
   "execution_count": 2,
   "id": "300349cf",
   "metadata": {
    "cell_id": "ee111794e18e474e95032c4a9e75e9bf",
    "deepnote_cell_height": 243,
    "deepnote_cell_type": "code",
    "deepnote_to_be_reexecuted": false,
    "execution": {
     "iopub.execute_input": "2022-09-27T20:24:58.881711Z",
     "iopub.status.busy": "2022-09-27T20:24:58.881457Z",
     "iopub.status.idle": "2022-09-27T20:25:05.931108Z",
     "shell.execute_reply": "2022-09-27T20:25:05.930335Z",
     "shell.execute_reply.started": "2022-09-27T20:24:58.881676Z"
    },
    "execution_millis": 165,
    "execution_start": 1664282677296,
    "papermill": {},
    "source_hash": "db25e982",
    "tags": []
   },
   "outputs": [],
   "source": [
    "import naas\n",
    "import pandas as pd\n",
    "from ipyvizzu import Data, Config, Style\n",
    "from ipyvizzustory import Story, Slide, Step\n",
    "import naas_drivers"
   ]
  },
  {
   "cell_type": "markdown",
   "id": "c57627be",
   "metadata": {
    "execution": {
     "iopub.execute_input": "2022-09-27T13:15:50.005955Z",
     "iopub.status.busy": "2022-09-27T13:15:50.005603Z",
     "iopub.status.idle": "2022-09-27T13:15:50.017598Z",
     "shell.execute_reply": "2022-09-27T13:15:50.016437Z",
     "shell.execute_reply.started": "2022-09-27T13:15:50.005914Z"
    },
    "papermill": {},
    "tags": []
   },
   "source": [
    "### Setup Google Sheet\n",
    "Using Naas gsheet driver, we will retrieve data from a remote spreadsheet to feed the charts. More on [docs.naas.ai](https://docs.naas.ai/drivers/google-sheets)"
   ]
  },
  {
   "cell_type": "code",
   "execution_count": 3,
   "id": "e50b39dc",
   "metadata": {
    "execution": {
     "iopub.execute_input": "2022-09-27T20:25:05.932694Z",
     "iopub.status.busy": "2022-09-27T20:25:05.932357Z",
     "iopub.status.idle": "2022-09-27T20:25:05.942226Z",
     "shell.execute_reply": "2022-09-27T20:25:05.941591Z",
     "shell.execute_reply.started": "2022-09-27T20:25:05.932662Z"
    },
    "papermill": {},
    "tags": []
   },
   "outputs": [],
   "source": [
    "spreadsheet_id = \"1YPsBwgBReAaEjVqI6rp3mB2MkGX6tL0kR7x_d07k8WI\"\n",
    "sheet_name = \"vizzu_story_example1\""
   ]
  },
  {
   "cell_type": "markdown",
   "id": "735d313f",
   "metadata": {
    "papermill": {},
    "tags": []
   },
   "source": [
    "## Model"
   ]
  },
  {
   "cell_type": "markdown",
   "id": "976029cf",
   "metadata": {
    "papermill": {},
    "tags": []
   },
   "source": [
    "### Get data from Google Sheet"
   ]
  },
  {
   "cell_type": "code",
   "execution_count": 4,
   "id": "dea3bc17",
   "metadata": {
    "execution": {
     "iopub.execute_input": "2022-09-27T20:25:05.943572Z",
     "iopub.status.busy": "2022-09-27T20:25:05.943176Z",
     "iopub.status.idle": "2022-09-27T20:25:07.114439Z",
     "shell.execute_reply": "2022-09-27T20:25:07.113702Z",
     "shell.execute_reply.started": "2022-09-27T20:25:05.943535Z"
    },
    "papermill": {},
    "tags": []
   },
   "outputs": [],
   "source": [
    "df = naas_drivers.gsheet.connect(spreadsheet_id).get(sheet_name=sheet_name)\n",
    "df"
   ]
  },
  {
   "cell_type": "markdown",
   "id": "c745a1f1",
   "metadata": {
    "papermill": {},
    "tags": []
   },
   "source": [
    "### Add data frame to Vizzu"
   ]
  },
  {
   "cell_type": "code",
   "execution_count": 10,
   "id": "1d2e9bd8",
   "metadata": {
    "execution": {
     "iopub.execute_input": "2022-09-27T20:26:44.515262Z",
     "iopub.status.busy": "2022-09-27T20:26:44.515027Z",
     "iopub.status.idle": "2022-09-27T20:26:44.520155Z",
     "shell.execute_reply": "2022-09-27T20:26:44.519474Z",
     "shell.execute_reply.started": "2022-09-27T20:26:44.515240Z"
    },
    "papermill": {},
    "tags": []
   },
   "outputs": [],
   "source": [
    "data = Data()\n",
    "data.add_data_frame(df)"
   ]
  },
  {
   "cell_type": "markdown",
   "id": "f85b15c6",
   "metadata": {
    "papermill": {},
    "tags": []
   },
   "source": [
    "### Configure Vizzu slides"
   ]
  },
  {
   "cell_type": "code",
   "execution_count": 12,
   "id": "b5c8e46b",
   "metadata": {
    "cell_id": "47abd9a626364d7eb5f294c9aa81effa",
    "deepnote_cell_height": 1844,
    "deepnote_cell_type": "code",
    "deepnote_output_heights": [
     451
    ],
    "deepnote_to_be_reexecuted": false,
    "execution": {
     "iopub.execute_input": "2022-09-27T20:30:16.494192Z",
     "iopub.status.busy": "2022-09-27T20:30:16.493853Z",
     "iopub.status.idle": "2022-09-27T20:30:16.504469Z",
     "shell.execute_reply": "2022-09-27T20:30:16.503796Z",
     "shell.execute_reply.started": "2022-09-27T20:30:16.494155Z"
    },
    "execution_millis": 40,
    "execution_start": 1664283360692,
    "papermill": {},
    "source_hash": "216ec558",
    "tags": []
   },
   "outputs": [],
   "source": [
    "story = Story(data=data)\n",
    "story.set_size(\"100%\", \"550px\")\n",
    "\n",
    "slide1 = Slide(\n",
    "    Step(\n",
    "        Style(\n",
    "            {\n",
    "                \"legend\": {\"label\": {\"fontSize\": \"1.1em\"}, \"paddingRight\": \"-1em\"},\n",
    "                \"plot\": {\n",
    "                    \"marker\": {\"label\": {\"fontSize\": \"1.1em\"}},\n",
    "                    \"paddingLeft\": \"10em\",\n",
    "                    \"xAxis\": {\n",
    "                        \"title\": {\"color\": \"#00000000\"},\n",
    "                        \"label\": {\"fontSize\": \"1.1em\"},\n",
    "                    },\n",
    "                    \"yAxis\": {\"label\": {\"fontSize\": \"1.1em\"}},\n",
    "                },\n",
    "            }\n",
    "        ),\n",
    "        Config(\n",
    "            {\n",
    "                \"x\": {\"set\": [\"Cash percentage [%]\", \"Maturity\"]},\n",
    "                \"y\": \"Group\",\n",
    "                \"color\": \"Maturity\",\n",
    "                \"label\": \"Cash percentage [%]\",\n",
    "                \"title\": \"💰 What is the cash repartition and maturity per bank?\",\n",
    "            }\n",
    "        ),\n",
    "    )\n",
    ")\n",
    "story.add_slide(slide1)\n",
    "\n",
    "slide2 = Slide(\n",
    "    Step(\n",
    "        Style({\"plot\": {\"xAxis\": {\"label\": {\"color\": \"#00000000\"}}}}),\n",
    "        Config({\"split\": True, \"title\": \"🗓 What's the ranking by maturity?\"}),\n",
    "    )\n",
    ")\n",
    "story.add_slide(slide2)\n",
    "\n",
    "slide3 = Slide(\n",
    "    Step(\n",
    "        Style({\"plot\": {\"marker\": {\"label\": {\"fontSize\": \"0.916667em\"}}}}),\n",
    "        Config(\n",
    "            {\n",
    "                \"x\": {\"set\": [\"Cash amount\", \"Maturity\"]},\n",
    "                \"label\": \"Cash amount\",\n",
    "                \"title\": \"⚡️ What's the actual cash positon in M$ by maturity?\",\n",
    "            }\n",
    "        ),\n",
    "    )\n",
    ")\n",
    "story.add_slide(slide3)\n",
    "\n",
    "slide4 = Slide()\n",
    "slide4.add_step(\n",
    "    Step(\n",
    "        Style({\"plot\": {\"yAxis\": {\"title\": {\"color\": \"#00000000\"}}}}),\n",
    "        Config(\n",
    "            {\n",
    "                \"x\": \"Maturity\",\n",
    "                \"y\": [\"Group\", \"Cash amount\"],\n",
    "                \"split\": False,\n",
    "                \"legend\": \"color\",\n",
    "            }\n",
    "        ),\n",
    "    )\n",
    ")\n",
    "\n",
    "slide4.add_step(\n",
    "    Step(\n",
    "        Style({\"plot\": {\"marker\": {\"label\": {\"fontSize\": \"1.1em\"}}}}),\n",
    "        Config(\n",
    "            {\n",
    "                \"y\": \"Cash amount\",\n",
    "                \"title\": \"👀 What's the total cash position in M$ by maturity?\",\n",
    "            }\n",
    "        ),\n",
    "    )\n",
    ")\n",
    "story.add_slide(slide4)\n",
    "\n",
    "slide5 = Slide()\n",
    "slide5.add_step(\n",
    "    Step(\n",
    "        Config(\n",
    "            {\"x\": [\"Interest rate [%]\", \"Maturity\"], \"y\": None, \"label\": \"Cash amount\"}\n",
    "        )\n",
    "    )\n",
    ")\n",
    "\n",
    "slide5.add_step(\n",
    "    Step(\n",
    "        Style({\"plot\": {\"xAxis\": {\"label\": {\"color\": \"#00000000\"}}}}),\n",
    "        Config(\n",
    "            {\n",
    "                \"coordSystem\": \"polar\",\n",
    "                \"title\": \"What's the cash repartition in M$ by maturity?\",\n",
    "            }\n",
    "        ),\n",
    "    )\n",
    ")\n",
    "story.add_slide(slide5)"
   ]
  },
  {
   "cell_type": "markdown",
   "id": "980f59ef",
   "metadata": {
    "papermill": {},
    "tags": []
   },
   "source": [
    "## Output"
   ]
  },
  {
   "cell_type": "markdown",
   "id": "dfbff91f",
   "metadata": {
    "papermill": {},
    "tags": []
   },
   "source": [
    "### Play Vizzu story"
   ]
  },
  {
   "cell_type": "code",
   "execution_count": 13,
   "id": "1639644d",
   "metadata": {
    "execution": {
     "iopub.execute_input": "2022-09-27T20:30:16.505980Z",
     "iopub.status.busy": "2022-09-27T20:30:16.505733Z",
     "iopub.status.idle": "2022-09-27T20:30:16.607086Z",
     "shell.execute_reply": "2022-09-27T20:30:16.606122Z",
     "shell.execute_reply.started": "2022-09-27T20:30:16.505951Z"
    },
    "papermill": {},
    "tags": []
   },
   "outputs": [],
   "source": [
    "story.play()"
   ]
  },
  {
   "cell_type": "markdown",
   "id": "656bd6c3",
   "metadata": {
    "papermill": {},
    "tags": []
   },
   "source": [
    "### Export story to HTML"
   ]
  },
  {
   "cell_type": "code",
   "execution_count": 14,
   "id": "324443b7",
   "metadata": {
    "execution": {
     "iopub.execute_input": "2022-09-27T20:30:17.279118Z",
     "iopub.status.busy": "2022-09-27T20:30:17.278793Z",
     "iopub.status.idle": "2022-09-27T20:30:17.308219Z",
     "shell.execute_reply": "2022-09-27T20:30:17.307608Z",
     "shell.execute_reply.started": "2022-09-27T20:30:17.279078Z"
    },
    "papermill": {},
    "tags": []
   },
   "outputs": [],
   "source": [
    "story.export_to_html(filename=\"mystory.html\")"
   ]
  },
  {
   "cell_type": "markdown",
   "id": "f58669d9",
   "metadata": {
    "papermill": {},
    "tags": []
   },
   "source": [
    "### Create shareable asset with Naas"
   ]
  },
  {
   "cell_type": "code",
   "execution_count": 15,
   "id": "1d2fb3ba",
   "metadata": {
    "execution": {
     "iopub.execute_input": "2022-09-27T20:30:17.831451Z",
     "iopub.status.busy": "2022-09-27T20:30:17.831124Z",
     "iopub.status.idle": "2022-09-27T20:30:18.355742Z",
     "shell.execute_reply": "2022-09-27T20:30:18.350487Z",
     "shell.execute_reply.started": "2022-09-27T20:30:17.831421Z"
    },
    "papermill": {},
    "tags": []
   },
   "outputs": [],
   "source": [
    "naas.asset.add(\"mystory.html\", params={\"inline\": True})"
   ]
  },
  {
   "cell_type": "code",
   "execution_count": null,
   "id": "df1608f9",
   "metadata": {
    "papermill": {},
    "tags": []
   },
   "outputs": [],
   "source": []
  }
 ],
 "metadata": {
  "deepnote": {},
  "deepnote_execution_queue": [],
  "deepnote_notebook_id": "63e2ef8b-929b-4305-b769-987a1d8b9540",
  "deepnote_persisted_session": {
   "createdAt": "2022-09-27T10:00:16.451Z"
  },
  "kernelspec": {
   "display_name": "Python 3",
   "language": "python",
   "name": "python3"
  },
  "language_info": {
   "codemirror_mode": {
    "name": "ipython",
    "version": 3
   },
   "file_extension": ".py",
   "mimetype": "text/x-python",
   "name": "python",
   "nbconvert_exporter": "python",
   "pygments_lexer": "ipython3",
   "version": "3.9.6"
  },
  "papermill": {
   "default_parameters": {},
   "environment_variables": {},
   "parameters": {},
   "version": "2.4.0"
  },
  "widgets": {
   "application/vnd.jupyter.widget-state+json": {
    "state": {
     "25131ddb6a424936abdbb1dd69338f06": {
      "model_module": "@jupyter-widgets/controls",
      "model_module_version": "1.5.0",
      "model_name": "ButtonStyleModel",
      "state": {}
     },
     "2d2c798df99e46cd8d1a424f67c6c37a": {
      "model_module": "@jupyter-widgets/controls",
      "model_module_version": "1.5.0",
      "model_name": "ButtonModel",
      "state": {
       "button_style": "primary",
       "description": "Copy URL",
       "layout": "IPY_MODEL_6ea54f2fec494b5882a4f457c90c45ef",
       "style": "IPY_MODEL_b818720fe5a24dc2ab7214bdf62b9b4c"
      }
     },
     "33c82973f5f244ec8c8344764c40f78e": {
      "model_module": "@jupyter-widgets/output",
      "model_module_version": "1.0.0",
      "model_name": "OutputModel",
      "state": {
       "layout": "IPY_MODEL_8f24c36cfa38498d818c62e420da579e"
      }
     },
     "3bd4c517515f4b0a8ced2920c8b0ea29": {
      "model_module": "@jupyter-widgets/base",
      "model_module_version": "1.2.0",
      "model_name": "LayoutModel",
      "state": {}
     },
     "4517a25b28d74b8f9b6c8fbabc746ca1": {
      "model_module": "@jupyter-widgets/output",
      "model_module_version": "1.0.0",
      "model_name": "OutputModel",
      "state": {
       "layout": "IPY_MODEL_e47b2edf5cd7487a841a9fd6fb6cbb29"
      }
     },
     "57d426c1a0164344b4898e5b04bb058b": {
      "model_module": "@jupyter-widgets/controls",
      "model_module_version": "1.5.0",
      "model_name": "ButtonModel",
      "state": {
       "button_style": "primary",
       "description": "Copy URL",
       "layout": "IPY_MODEL_3bd4c517515f4b0a8ced2920c8b0ea29",
       "style": "IPY_MODEL_25131ddb6a424936abdbb1dd69338f06"
      }
     },
     "64cb8bdb80204fe1b578e0f88dbbc51b": {
      "model_module": "@jupyter-widgets/controls",
      "model_module_version": "1.5.0",
      "model_name": "ButtonModel",
      "state": {
       "button_style": "primary",
       "description": "Copy URL",
       "layout": "IPY_MODEL_692d9f7237874f17838a14bd426b29cf",
       "style": "IPY_MODEL_8c17451e7ea44fb2bb881a7bd3eb76ef"
      }
     },
     "692d9f7237874f17838a14bd426b29cf": {
      "model_module": "@jupyter-widgets/base",
      "model_module_version": "1.2.0",
      "model_name": "LayoutModel",
      "state": {}
     },
     "6ea54f2fec494b5882a4f457c90c45ef": {
      "model_module": "@jupyter-widgets/base",
      "model_module_version": "1.2.0",
      "model_name": "LayoutModel",
      "state": {}
     },
     "801c60e221ca4802885f9c7a70c9b19b": {
      "model_module": "@jupyter-widgets/base",
      "model_module_version": "1.2.0",
      "model_name": "LayoutModel",
      "state": {}
     },
     "8b47b5ace44942cdb5c0fb098712f911": {
      "model_module": "@jupyter-widgets/output",
      "model_module_version": "1.0.0",
      "model_name": "OutputModel",
      "state": {
       "layout": "IPY_MODEL_801c60e221ca4802885f9c7a70c9b19b"
      }
     },
     "8c17451e7ea44fb2bb881a7bd3eb76ef": {
      "model_module": "@jupyter-widgets/controls",
      "model_module_version": "1.5.0",
      "model_name": "ButtonStyleModel",
      "state": {}
     },
     "8f24c36cfa38498d818c62e420da579e": {
      "model_module": "@jupyter-widgets/base",
      "model_module_version": "1.2.0",
      "model_name": "LayoutModel",
      "state": {}
     },
     "b818720fe5a24dc2ab7214bdf62b9b4c": {
      "model_module": "@jupyter-widgets/controls",
      "model_module_version": "1.5.0",
      "model_name": "ButtonStyleModel",
      "state": {}
     },
     "e47b2edf5cd7487a841a9fd6fb6cbb29": {
      "model_module": "@jupyter-widgets/base",
      "model_module_version": "1.2.0",
      "model_name": "LayoutModel",
      "state": {}
     }
    },
    "version_major": 2,
    "version_minor": 0
   }
  }
 },
 "nbformat": 4,
 "nbformat_minor": 5
}