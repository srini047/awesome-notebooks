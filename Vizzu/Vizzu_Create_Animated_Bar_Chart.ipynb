{
 "cells": [
  {
   "cell_type": "markdown",
   "id": "cd03dd13-bdc2-4906-90ac-cb1fd90be2ce",
   "metadata": {
    "papermill": {},
    "tags": []
   },
   "source": [
    "<img width=\"10%\" alt=\"Naas\" src=\"https://landen.imgix.net/jtci2pxwjczr/assets/5ice39g4.png?w=160\"/>"
   ]
  },
  {
   "cell_type": "markdown",
   "id": "2001a36d-8710-44d2-b8c4-41d501b71f44",
   "metadata": {
    "papermill": {},
    "tags": []
   },
   "source": [
    "# Vizzu - Create Animated Bar Chart\n",
    "<a href=\"https://app.naas.ai/user-redirect/naas/downloader?url=https://raw.githubusercontent.com/jupyter-naas/awesome-notebooks/master/Vizzu/Vizzu_Create_Animated_Bar_Chart.ipynb\" target=\"_parent\"><img src=\"https://naasai-public.s3.eu-west-3.amazonaws.com/Open_in_Naas_Lab.svg\"/></a><br><br><a href=\"https://github.com/jupyter-naas/awesome-notebooks/issues/new?assignees=&labels=&template=template-request.md&title=Tool+-+Action+of+the+notebook+\">Template request</a> | <a href=\"https://github.com/jupyter-naas/awesome-notebooks/issues/new?assignees=&labels=bug&template=bug_report.md&title=Vizzu+-+Create+Animated+Bar+Chart:+Error+short+description\">Bug report</a> | <a href=\"https://app.naas.ai/user-redirect/naas/downloader?url=https://raw.githubusercontent.com/jupyter-naas/awesome-notebooks/master/Naas/Naas_Start_data_product.ipynb\" target=\"_parent\">Generate Data Product</a>"
   ]
  },
  {
   "cell_type": "markdown",
   "id": "66cd09c2-d3bf-47fd-b753-8c27cc358570",
   "metadata": {
    "papermill": {},
    "tags": []
   },
   "source": [
    "**Tags:** #vizzu #animation #bar-chart #data-visualization #data-science #python"
   ]
  },
  {
   "cell_type": "markdown",
   "id": "c1691fe5-7d3c-46a5-b4bc-22b823463bdb",
   "metadata": {
    "papermill": {},
    "tags": []
   },
   "source": [
    "**Author:** [Alexandre Petit](https://www.linkedin.com/in/alexandre-petit-24a87a219/)"
   ]
  },
  {
   "cell_type": "markdown",
   "id": "83658e39-e48c-4fa8-91fa-fa178e399f8a",
   "metadata": {
    "papermill": {},
    "tags": []
   },
   "source": [
    "**Description:** This notebook would allow you to create an animated bar chart. It will show the oil production evolution by country year after year."
   ]
  },
  {
   "cell_type": "markdown",
   "id": "40f5b938-9d11-45f9-b72d-f872b22a9e4b",
   "metadata": {
    "papermill": {},
    "tags": []
   },
   "source": [
    "**References:**\n",
    "- https://ipyvizzu.vizzuhq.com/latest/showcases/musicformats/\n",
    "- https://ipyvizzu.vizzuhq.com/latest/examples/animation/"
   ]
  },
  {
   "cell_type": "markdown",
   "id": "35355415-f1eb-4249-ad3f-7e7b0bd91513",
   "metadata": {
    "papermill": {},
    "tags": []
   },
   "source": [
    "## Input"
   ]
  },
  {
   "cell_type": "markdown",
   "id": "f739f66c-7438-4075-9373-b7e41472bd24",
   "metadata": {
    "papermill": {},
    "tags": []
   },
   "source": [
    "### Import libraries"
   ]
  },
  {
   "cell_type": "code",
   "execution_count": 1,
   "id": "a2435b57-9a3f-4712-a686-22aea6b66541",
   "metadata": {
    "papermill": {},
    "tags": []
   },
   "outputs": [],
   "source": [
    "import naas\n",
    "import pandas as pd\n",
    "try:\n",
    "    from ipyvizzu import Chart, Data, Config, Style, DisplayTarget\n",
    "except:\n",
    "    !pip install ipyvizzu --user\n",
    "    from ipyvizzu import Chart, Data, Config, Style, DisplayTarget"
   ]
  },
  {
   "cell_type": "markdown",
   "id": "050f3445-61d4-4152-964a-4284e4e19372",
   "metadata": {
    "papermill": {},
    "tags": []
   },
   "source": [
    "### Setup Variables\n",
    "- `file_path`: url to the csv file\n",
    "- `category`: the column representing each bar\n",
    "- `value`: the column with the values \n",
    "- `time_col`: the column of the time period\n",
    "- `labels`: a list of labels that will be displayed in the animated bar chart\n",
    "- `labels_color`: a list of hexadecimal color by labels. If len is not the same as labels then it will reuse the first colors\n",
    "- `html_output`: The file path where the HTML output file should be created."
   ]
  },
  {
   "cell_type": "code",
   "execution_count": 6,
   "id": "466e0d2b-ea71-4aa1-9d7d-0c10992aceba",
   "metadata": {
    "papermill": {},
    "tags": []
   },
   "outputs": [],
   "source": [
    "# Inputs\n",
    "file_path = \"https://raw.githubusercontent.com/alexandre-petit/oil-production/main/oil-production-by-country.csv\"\n",
    "category = \"Entity\"\n",
    "value = \"Oil production (TWh)\"\n",
    "time_col = \"Year\"\n",
    "labels = [\n",
    "    'United States',\n",
    "    'Russia',\n",
    "    'USSR',\n",
    "    'Venezuela',\n",
    "    'Saudi Arabia',\n",
    "    'Canada',\n",
    "    'Brazil',\n",
    "    'Iraq',\n",
    "    'China',\n",
    "    'United Arab Emirates',\n",
    "    'Iran',\n",
    "    'Algeria'\n",
    "]\n",
    "labels_color = [\n",
    "    \"#b74c20FF\",\n",
    "    \"#c47f58FF\",\n",
    "    \"#1c9761FF\",\n",
    "    \"#ea4549FF\", \n",
    "    \"#875792FF\",\n",
    "    \"#3562b6FF\",\n",
    "    \"#ee7c34FF\",\n",
    "    \"#efae3aFF\"\n",
    "]\n",
    "\n",
    "# Outputs\n",
    "html_output = \"Vizzu_Create_Animated_Bar_Chart.html\""
   ]
  },
  {
   "cell_type": "markdown",
   "id": "112734d6-a75a-432c-9e35-1e991af08309",
   "metadata": {
    "papermill": {},
    "tags": []
   },
   "source": [
    "## Model"
   ]
  },
  {
   "cell_type": "markdown",
   "id": "cac97bb5-da0d-4b34-a91e-20d89788fc28",
   "metadata": {
    "papermill": {},
    "tags": []
   },
   "source": [
    "### Get data from csv"
   ]
  },
  {
   "cell_type": "code",
   "execution_count": 12,
   "id": "2e7b367f-9d76-4aea-b1d7-704766ce8a89",
   "metadata": {
    "papermill": {},
    "tags": []
   },
   "outputs": [],
   "source": [
    "df = pd.read_csv(file_path)\n",
    "# Cleaning\n",
    "df[category] = df[category].astype(str)\n",
    "df[value] = df[value].astype(float)\n",
    "df"
   ]
  },
  {
   "cell_type": "markdown",
   "id": "edb5dadd-d045-40c4-a5b9-5e977ec557ea",
   "metadata": {
    "papermill": {},
    "tags": []
   },
   "source": [
    "### Create Animated Bar Chart"
   ]
  },
  {
   "cell_type": "markdown",
   "id": "6dda4b89-4427-4066-85bb-688f9fb3e21e",
   "metadata": {
    "papermill": {},
    "tags": []
   },
   "source": [
    "This function will create an animated bar chart to show the oil production evolution by country year after year."
   ]
  },
  {
   "cell_type": "code",
   "execution_count": 13,
   "id": "438774c2-ef7c-43db-9f68-ab5c68bd6e1c",
   "metadata": {
    "papermill": {},
    "tags": []
   },
   "outputs": [],
   "source": [
    "# Add data to Chart\n",
    "data = Data()\n",
    "data.add_data_frame(df[df[category].isin(labels)])\n",
    "\n",
    "# Adding the config\n",
    "config = {\n",
    "    \"channels\": {\n",
    "        \"y\": {\n",
    "            \"set\": [category],\n",
    "        },\n",
    "        \"x\": {\"set\": [value]},\n",
    "        \"label\": {\"set\": [value]},\n",
    "        \"color\": {\"set\": [category]}, #if the color column is different than y column, both columns needs to be passed as a parameter for y\n",
    "    },\n",
    "    \"sort\": \"byValue\",\n",
    "}\n",
    "\n",
    "# Colors, labels, padding\n",
    "style = Style(\n",
    "    {\n",
    "        \"plot\": {\n",
    "            \"paddingLeft\": 100,\n",
    "            \"paddingTop\": 25,\n",
    "            \"yAxis\": {\n",
    "                \"color\": \"#ffffff00\",\n",
    "                \"label\": {\"paddingRight\": 10},\n",
    "            },\n",
    "            \"xAxis\": {\n",
    "                \"title\": {\"color\": \"#ffffff00\"},\n",
    "                \"label\": {\n",
    "                    \"color\": \"#ffffff00\",\n",
    "                    \"numberFormat\": \"grouped\",\n",
    "                },\n",
    "            },\n",
    "            \"marker\": {\n",
    "                #colorPalette take a string of hexadecimal color separated by a whitespace\n",
    "                #for simplicity, we will join the list of hexadecimal color defined before\n",
    "                \"colorPalette\": \" \".join(labels_color)\n",
    "\n",
    "            },\n",
    "        },\n",
    "    }\n",
    ")\n",
    "\n",
    "# Initialize Chart\n",
    "chart = Chart(width=\"640px\", height=\"360px\", display=DisplayTarget.MANUAL)\n",
    "chart.animate(data, style)\n",
    "\n",
    "# Get time range\n",
    "min_time = df[time_col].min()\n",
    "max_time = df[time_col].max()\n",
    "\n",
    "# This part is looping over the time period\n",
    "for year in range(min_time, max_time + 1):\n",
    "    config[\"title\"] = f\"Oil Production in {year}\"\n",
    "    chart.animate(\n",
    "        Data.filter(f\"parseInt(record.{time_col}) == {year}\"),\n",
    "        Config(config),\n",
    "        duration=1,\n",
    "        x={\"easing\": \"linear\", \"delay\": 0},\n",
    "        y={\"delay\": 0},\n",
    "        show={\"delay\": 0},\n",
    "        hide={\"delay\": 0},\n",
    "        title={\"duration\": 0, \"delay\": 0},\n",
    "    )\n",
    "\n",
    "# display Chart\n",
    "chart.show()"
   ]
  },
  {
   "cell_type": "markdown",
   "id": "75c8ea74-d327-4efb-8e6b-8923a7e558c5",
   "metadata": {
    "papermill": {},
    "tags": []
   },
   "source": [
    "## Output"
   ]
  },
  {
   "cell_type": "markdown",
   "id": "3bf92969-0bfd-4510-915e-e428efa61ee7",
   "metadata": {
    "papermill": {},
    "tags": []
   },
   "source": [
    "### Export chart in HTML"
   ]
  },
  {
   "cell_type": "code",
   "execution_count": 10,
   "id": "4451ef31-a277-41e9-af98-37dea101215c",
   "metadata": {
    "papermill": {},
    "tags": []
   },
   "outputs": [],
   "source": [
    "chart._showed = False\n",
    "rawhtml = chart._repr_html_()\n",
    "\n",
    "with open(html_output, \"w\", encoding=\"utf8\") as file_desc:\n",
    "    file_desc.write(rawhtml)"
   ]
  },
  {
   "cell_type": "markdown",
   "id": "86dc6b0d-540c-4b93-8a9f-6d2be2dee0d3",
   "metadata": {
    "papermill": {},
    "tags": []
   },
   "source": [
    " "
   ]
  }
 ],
 "metadata": {
  "kernelspec": {
   "display_name": "Python 3",
   "language": "python",
   "name": "python3"
  },
  "language_info": {
   "codemirror_mode": {
    "name": "ipython",
    "version": 3
   },
   "file_extension": ".py",
   "mimetype": "text/x-python",
   "name": "python",
   "nbconvert_exporter": "python",
   "pygments_lexer": "ipython3",
   "version": "3.9.6"
  },
  "naas": {
   "notebook_id": "a83d4ed0c1d03a2da02745a16b4d98f9d5cc99d5c0130126ecd8d4f24961496f",
   "notebook_path": "Vizzu/Vizzu_Create_Animated_Bar_Chart.ipynb"
  },
  "papermill": {
   "default_parameters": {},
   "environment_variables": {},
   "parameters": {},
   "version": "2.4.0"
  },
  "widgets": {
   "application/vnd.jupyter.widget-state+json": {
    "state": {},
    "version_major": 2,
    "version_minor": 0
   }
  }
 },
 "nbformat": 4,
 "nbformat_minor": 5
}