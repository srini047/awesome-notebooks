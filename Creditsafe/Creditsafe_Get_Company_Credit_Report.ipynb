{
 "cells": [
  {
   "cell_type": "markdown",
   "id": "6b849c07-ae86-4d96-ae84-a816c1bb46b4",
   "metadata": {
    "papermill": {},
    "tags": []
   },
   "source": [
    "<img width=\"10%\" alt=\"Naas\" src=\"https://landen.imgix.net/jtci2pxwjczr/assets/5ice39g4.png?w=160\"/>"
   ]
  },
  {
   "cell_type": "markdown",
   "id": "ebc52a63-d5b4-4fac-9b03-5754ce83cb39",
   "metadata": {
    "papermill": {},
    "tags": []
   },
   "source": [
    "# Creditsafe - Get Company Credit Report\n",
    "<a href=\"https://app.naas.ai/user-redirect/naas/downloader?url=https://raw.githubusercontent.com/jupyter-naas/awesome-notebooks/master/Creditsafe/Creditsafe_Get_Company_Credit_Report.ipynb\" target=\"_parent\"><img src=\"https://naasai-public.s3.eu-west-3.amazonaws.com/Open_in_Naas_Lab.svg\"/></a><br><br><a href=\"https://github.com/jupyter-naas/awesome-notebooks/issues/new?assignees=&labels=&template=template-request.md&title=Tool+-+Action+of+the+notebook+\">Template request</a> | <a href=\"https://github.com/jupyter-naas/awesome-notebooks/issues/new?assignees=&labels=bug&template=bug_report.md&title=Creditsafe+-+Get+Company+Credit+Report:+Error+short+description\">Bug report</a> | <a href=\"https://app.naas.ai/user-redirect/naas/downloader?url=https://raw.githubusercontent.com/jupyter-naas/awesome-notebooks/master/Naas/Naas_Start_data_product.ipynb\" target=\"_parent\">Generate Data Product</a>"
   ]
  },
  {
   "cell_type": "markdown",
   "id": "20f3e800-5de0-4a13-80f3-43568bd8f38f",
   "metadata": {
    "papermill": {},
    "tags": []
   },
   "source": [
    "**Tags:** #creditsafe #api #enterprise #integrations #company #creditreport"
   ]
  },
  {
   "cell_type": "markdown",
   "id": "a3abf92c-b37b-4396-8086-b3c305f3379a",
   "metadata": {
    "papermill": {},
    "tags": []
   },
   "source": [
    "**Author:** [Florent Ravenel](https://www.linkedin.com/in/florent-ravenel/)"
   ]
  },
  {
   "cell_type": "markdown",
   "id": "25807f1b-aec9-461c-82f8-5bfb4394481a",
   "metadata": {
    "papermill": {},
    "tags": []
   },
   "source": [
    "**Description:** This notebook will demonstrate how to use the Creditsafe API to get a company credit report."
   ]
  },
  {
   "cell_type": "markdown",
   "id": "f1bdf5fd-3bdf-4b73-85f0-3a8f5fcd0a1e",
   "metadata": {
    "papermill": {},
    "tags": []
   },
   "source": [
    "**References:**\n",
    "- [Creditsafe Free Trial](https://www.creditsafe.com/gb/en/forms/free-trial.html?cta=Free%20trial&previousPage=api-documentation)\n",
    "- [Creditsafe API Documentation](https://www.creditsafe.com/gb/en/enterprise/integrations/api-documentation.html#tag/Companies/operation/companyCreditReport)"
   ]
  },
  {
   "cell_type": "markdown",
   "id": "3a6e027e-78bf-4f54-91c5-7f21f1d32ec9",
   "metadata": {
    "papermill": {},
    "tags": []
   },
   "source": [
    "## Input"
   ]
  },
  {
   "cell_type": "markdown",
   "id": "217433e9-a84d-4b69-af58-5da18e41bd2c",
   "metadata": {
    "papermill": {},
    "tags": []
   },
   "source": [
    "### Import libraries"
   ]
  },
  {
   "cell_type": "code",
   "execution_count": null,
   "id": "6a364932-338e-4166-9195-2af0aa8b8c89",
   "metadata": {
    "papermill": {},
    "tags": []
   },
   "outputs": [],
   "source": [
    "import requests\n",
    "import naas\n",
    "from pprint import pprint\n",
    "import json"
   ]
  },
  {
   "cell_type": "markdown",
   "id": "7f5e8cc3-0005-4ec6-9716-5fbc5dbcdc96",
   "metadata": {
    "papermill": {},
    "tags": []
   },
   "source": [
    "### Setup Variables\n",
    "- `username`: username used to connect to Creditsafe\n",
    "- `password`: password used to connect to Creditsafe\n",
    "- `env`: if 'sandbox' then we will change BASE URL\n",
    "- `company_id`: company ID used in Creditsafe\n",
    "- `siret`: SIRET to be set (if French company)"
   ]
  },
  {
   "cell_type": "code",
   "execution_count": null,
   "id": "b155c65f-55b4-4fc5-8090-4da7e572d74a",
   "metadata": {
    "papermill": {},
    "tags": []
   },
   "outputs": [],
   "source": [
    "# Inputs\n",
    "username = naas.secret.get(\"CREDITSAFE_USERNAME\")\n",
    "password = naas.secret.get(\"CREDITSAFE_PASSWORD\")\n",
    "env = \"sandbox\"\n",
    "company_id = None\n",
    "siret = \"85272297400056\"\n",
    "\n",
    "# Outputs\n",
    "json_path = 'creditsafe_company_report.json'"
   ]
  },
  {
   "cell_type": "markdown",
   "id": "b463cf9d-7f08-40c2-bbd9-6abe441eeb93",
   "metadata": {
    "papermill": {},
    "tags": []
   },
   "source": [
    "## Model"
   ]
  },
  {
   "cell_type": "markdown",
   "id": "9a0fd0e8-ad18-4efb-b475-63963ddbc101",
   "metadata": {
    "papermill": {},
    "tags": []
   },
   "source": [
    "### Create base url"
   ]
  },
  {
   "cell_type": "code",
   "execution_count": null,
   "id": "a36f804a-7cea-4783-bfe4-7c1be1765be7",
   "metadata": {
    "papermill": {},
    "tags": []
   },
   "outputs": [],
   "source": [
    "if env == \"sandbox\":\n",
    "    BASE_URL = f\"https://connect.sandbox.creditsafe.com/v1\"\n",
    "else:\n",
    "    BASE_URL = \"https://connect.creditsafe.com/v1\"    "
   ]
  },
  {
   "cell_type": "markdown",
   "id": "0c1344b6-23ca-40d2-9c0a-8ed5fc94520b",
   "metadata": {
    "papermill": {},
    "tags": []
   },
   "source": [
    "### Get access token"
   ]
  },
  {
   "cell_type": "code",
   "execution_count": null,
   "id": "41c511ae-29af-4db4-a9f9-1d21b594960a",
   "metadata": {
    "papermill": {},
    "tags": []
   },
   "outputs": [],
   "source": [
    "def get_access_token(\n",
    "    username,\n",
    "    password\n",
    "):\n",
    "    # Init\n",
    "    url = f\"{BASE_URL}/authenticate\"\n",
    "    \n",
    "    # Headers\n",
    "    headers = {\n",
    "        \"Content type\": \"application/json\"\n",
    "    }\n",
    "    \n",
    "    # Payload\n",
    "    data = {\n",
    "        \"username\": username,\n",
    "        \"password\": password,\n",
    "    }\n",
    "    \n",
    "    # Request\n",
    "    res = requests.post(url, headers=headers, data=data)\n",
    "    res.raise_for_status\n",
    "    if res.status_code == 200:\n",
    "        return res.json().get(\"token\")\n",
    "    else:\n",
    "        return None\n",
    "    \n",
    "access_token = get_access_token(username, password)"
   ]
  },
  {
   "cell_type": "markdown",
   "id": "8cf0f3fc-0514-436c-b569-c026c3f92399",
   "metadata": {
    "papermill": {},
    "tags": []
   },
   "source": [
    "### Get Company Credit Report"
   ]
  },
  {
   "cell_type": "code",
   "execution_count": null,
   "id": "c1c8a443-afe1-46ed-865b-fe64628425a5",
   "metadata": {
    "papermill": {},
    "tags": []
   },
   "outputs": [],
   "source": [
    "def get_company_report(\n",
    "    access_token,\n",
    "    company_id=None,\n",
    "    siret=None\n",
    "):\n",
    "    # Init\n",
    "    company_report = None\n",
    "    if siret:\n",
    "        company_id = f'FR-X-{siret}'\n",
    "    if company_id:\n",
    "        url = f\"{BASE_URL}/companies/{company_id}?language=fr\"\n",
    "        \n",
    "        # Headers\n",
    "        headers = {\n",
    "            \"Authorization\": f\"Bearer {access_token}\"\n",
    "        }\n",
    "\n",
    "        # Request\n",
    "        res = requests.get(url, headers=headers)\n",
    "        res.raise_for_status\n",
    "        if res.status_code == 200:\n",
    "            company_report = res.json()\n",
    "    return company_report, company_id\n",
    "    \n",
    "company_report, company_id = get_company_report(\n",
    "    access_token,\n",
    "    company_id=company_id,\n",
    "    siret=siret\n",
    ")"
   ]
  },
  {
   "cell_type": "markdown",
   "id": "ec3cc166-43df-4fa7-b5b7-0dc97cc8fc90",
   "metadata": {
    "papermill": {},
    "tags": []
   },
   "source": [
    "## Output"
   ]
  },
  {
   "cell_type": "markdown",
   "id": "2a3bce65-cddc-494d-96dd-82b6c6639abe",
   "metadata": {
    "papermill": {},
    "tags": []
   },
   "source": [
    "### Display result"
   ]
  },
  {
   "cell_type": "code",
   "execution_count": null,
   "id": "6274b04f-a4b8-4453-a274-bb56a3570d86",
   "metadata": {
    "papermill": {},
    "tags": []
   },
   "outputs": [],
   "source": [
    "if company_report:\n",
    "    # Display summary\n",
    "    print(\"✅ Company summary:\")\n",
    "    pprint(company_report.get(\"report\").get(\"companySummary\"))\n",
    "    \n",
    "    # Save json\n",
    "    if json_path == 'creditsafe_company_report.json':\n",
    "        json_path = f'creditsafe_company_report_{company_id}.json'\n",
    "    with open(json_path, 'w') as outfile:\n",
    "        json.dump(company_report, outfile)\n",
    "    print(\"✅ Json saved:\", json_path)"
   ]
  }
 ],
 "metadata": {
  "kernelspec": {
   "display_name": "Python 3",
   "language": "python",
   "name": "python3"
  },
  "language_info": {
   "codemirror_mode": {
    "name": "ipython",
    "version": 3
   },
   "file_extension": ".py",
   "mimetype": "text/x-python",
   "name": "python",
   "nbconvert_exporter": "python",
   "pygments_lexer": "ipython3",
   "version": "3.9.6"
  },
  "naas": {
   "notebook_id": "a420b595b58b994e4a8054607be73c2945ba0b41c37a582aac12836ae0fb9cef",
   "notebook_path": "Creditsafe/Creditsafe_Get_Company_Credit_Report.ipynb"
  },
  "papermill": {
   "default_parameters": {},
   "environment_variables": {},
   "parameters": {},
   "version": "2.4.0"
  },
  "widgets": {
   "application/vnd.jupyter.widget-state+json": {
    "state": {},
    "version_major": 2,
    "version_minor": 0
   }
  }
 },
 "nbformat": 4,
 "nbformat_minor": 5
}