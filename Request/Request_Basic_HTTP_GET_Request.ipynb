{
 "cells": [
  {
   "cell_type": "markdown",
   "id": "31083cda-4cfd-41de-8f15-0da58d76986e",
   "metadata": {
    "papermill": {},
    "tags": []
   },
   "source": [
    "<img width=\"10%\" alt=\"Naas\" src=\"https://landen.imgix.net/jtci2pxwjczr/assets/5ice39g4.png?w=160\"/>"
   ]
  },
  {
   "cell_type": "markdown",
   "id": "d8d7b624-0708-4ff0-b9aa-1b071f57d69a",
   "metadata": {
    "papermill": {},
    "tags": []
   },
   "source": [
    "# Request - Basic HTTP GET\n",
    "<a href=\"https://app.naas.ai/user-redirect/naas/downloader?url=https://raw.githubusercontent.com/jupyter-naas/awesome-notebooks/master/Request/Request_Basic_HTTP_GET_Request.ipynb\" target=\"_parent\"><img src=\"https://naasai-public.s3.eu-west-3.amazonaws.com/Open_in_Naas_Lab.svg\"/></a><br><br><a href=\"https://github.com/jupyter-naas/awesome-notebooks/issues/new?assignees=&labels=&template=template-request.md&title=Tool+-+Action+of+the+notebook+\">Template request</a> | <a href=\"https://github.com/jupyter-naas/awesome-notebooks/issues/new?assignees=&labels=bug&template=bug_report.md&title=Request+-+Basic+HTTP+GET:+Error+short+description\">Bug report</a> | <a href=\"https://app.naas.ai/user-redirect/naas/downloader?url=https://raw.githubusercontent.com/jupyter-naas/awesome-notebooks/master/Naas/Naas_Start_data_product.ipynb\" target=\"_parent\">Generate Data Product</a>"
   ]
  },
  {
   "cell_type": "markdown",
   "id": "6460c947-135c-401c-a4b3-199200caad08",
   "metadata": {
    "papermill": {},
    "tags": []
   },
   "source": [
    "**Tags:** #request #http #get #library #python #api"
   ]
  },
  {
   "cell_type": "markdown",
   "id": "8116bf4a-fba5-4485-9cad-47561e7bae4b",
   "metadata": {
    "papermill": {},
    "tags": []
   },
   "source": [
    "**Author:** [Benjamin Filly](https://www.linkedin.com/in/benjamin-filly-05427727a/)"
   ]
  },
  {
   "cell_type": "markdown",
   "id": "1e3a2b7f-4a69-4135-b327-47d6eee6f40f",
   "metadata": {
    "papermill": {},
    "tags": []
   },
   "source": [
    "**Description:** This notebook provides a template for making a basic HTTP GET request using the requests library. It covers importing the library, making the request, handling the response, and displaying the retrieved data."
   ]
  },
  {
   "cell_type": "markdown",
   "id": "e81571f3-0903-4a53-b6bf-ebc1e42d1232",
   "metadata": {
    "papermill": {},
    "tags": []
   },
   "source": [
    "**References:**\n",
    "- [Requests: HTTP for Humans](https://requests.readthedocs.io/en/master/)\n",
    "- [HTTP GET Request](https://www.w3schools.com/tags/ref_httpmethods.asp)\n",
    "- [Status Codes Response](https://developer.mozilla.org/en-US/docs/Web/HTTP/Status)"
   ]
  },
  {
   "cell_type": "markdown",
   "id": "ea81b3d1-7efb-428e-8309-be86126696e4",
   "metadata": {
    "papermill": {},
    "tags": []
   },
   "source": [
    "## Input"
   ]
  },
  {
   "cell_type": "markdown",
   "id": "ecc5586f-ef13-4174-a2f3-1e066b269897",
   "metadata": {
    "papermill": {},
    "tags": []
   },
   "source": [
    "### Import libraries"
   ]
  },
  {
   "cell_type": "code",
   "execution_count": 1,
   "id": "bc0a683f-281e-4215-bd19-d73d8d0e3fee",
   "metadata": {
    "papermill": {},
    "tags": []
   },
   "outputs": [],
   "source": [
    "import requests"
   ]
  },
  {
   "cell_type": "markdown",
   "id": "345d9bda-0223-43af-a7cb-327e5f0b787a",
   "metadata": {
    "papermill": {},
    "tags": []
   },
   "source": [
    "### Setup Variables\n",
    "- `url`: URL of the API endpoint"
   ]
  },
  {
   "cell_type": "code",
   "execution_count": 2,
   "id": "8e08c1eb-f2c8-4f12-a5d9-632604dfcd2b",
   "metadata": {
    "papermill": {},
    "tags": []
   },
   "outputs": [],
   "source": [
    "url = \"https://api.chucknorris.io/jokes/random\""
   ]
  },
  {
   "cell_type": "markdown",
   "id": "83a6329c-a4cc-4e0a-ae54-7f01cfafde2f",
   "metadata": {
    "papermill": {},
    "tags": []
   },
   "source": [
    "## Model"
   ]
  },
  {
   "cell_type": "markdown",
   "id": "e076b289-0504-4323-b20d-0692b16e3e11",
   "metadata": {
    "papermill": {},
    "tags": []
   },
   "source": [
    "### Make HTTP GET Request"
   ]
  },
  {
   "cell_type": "markdown",
   "id": "059cbbf2-d29f-4397-ad3c-1fc6f56f2027",
   "metadata": {
    "papermill": {},
    "tags": []
   },
   "source": [
    "The `requests.get()` function performs all the necessary behind-the-scenes operations to establish the connection with the server, send the request, and handle the response. It abstracts away the complexities of dealing with low-level network protocols and provides a simplified interface for making HTTP requests."
   ]
  },
  {
   "cell_type": "code",
   "execution_count": 3,
   "id": "ee9853a2-db21-4bcf-a7de-c28bb2a33f92",
   "metadata": {
    "papermill": {},
    "tags": []
   },
   "outputs": [],
   "source": [
    "# Make the request\n",
    "response = requests.get(url)"
   ]
  },
  {
   "cell_type": "markdown",
   "id": "6d64cdae-b4a6-4fd0-a7f8-755c60edd3fa",
   "metadata": {
    "papermill": {},
    "tags": []
   },
   "source": [
    "## Output"
   ]
  },
  {
   "cell_type": "markdown",
   "id": "886f0107-d080-4f3e-a125-7e86c4e1d2d4",
   "metadata": {
    "papermill": {},
    "tags": []
   },
   "source": [
    "### Display result"
   ]
  },
  {
   "cell_type": "code",
   "execution_count": 4,
   "id": "f23919f6-d3a3-4652-b6c7-f6b72881da93",
   "metadata": {
    "papermill": {},
    "tags": []
   },
   "outputs": [],
   "source": [
    "if response.status_code == 200:\n",
    "        # Display the response headers\n",
    "    print(\"Response Headers:\")\n",
    "    for header, value in response.headers.items():\n",
    "        print(f\"{header}: {value}\")\n",
    "    print()\n",
    "    \n",
    "    # Retrieve the data from the response\n",
    "    data = response.json()\n",
    "    # Display the retrieved data\n",
    "    print(\"Response Data:\")\n",
    "    print(data)\n",
    "else: \n",
    "    # If the request was not successful, print the status code\n",
    "    print('Request failed with status code:', response.status_code)"
   ]
  },
  {
   "cell_type": "markdown",
   "id": "daf60d51-51e7-49a4-8751-8eb5c744a2e4",
   "metadata": {
    "papermill": {},
    "tags": []
   },
   "source": [
    " "
   ]
  }
 ],
 "metadata": {
  "kernelspec": {
   "display_name": "Python 3",
   "language": "python",
   "name": "python3"
  },
  "language_info": {
   "codemirror_mode": {
    "name": "ipython",
    "version": 3
   },
   "file_extension": ".py",
   "mimetype": "text/x-python",
   "name": "python",
   "nbconvert_exporter": "python",
   "pygments_lexer": "ipython3",
   "version": "3.9.6"
  },
  "naas": {
   "notebook_id": "c760989aeb646043394a467ce2c6b687a3066f01ab69f8e63a21755361bd5fe0",
   "notebook_path": "Request/Request_Basic_HTTP_GET_Request.ipynb"
  },
  "papermill": {
   "default_parameters": {},
   "environment_variables": {},
   "parameters": {},
   "version": "2.4.0"
  },
  "widgets": {
   "application/vnd.jupyter.widget-state+json": {
    "state": {},
    "version_major": 2,
    "version_minor": 0
   }
  }
 },
 "nbformat": 4,
 "nbformat_minor": 5
}