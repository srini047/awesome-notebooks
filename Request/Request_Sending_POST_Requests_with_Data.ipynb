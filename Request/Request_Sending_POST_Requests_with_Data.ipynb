{
 "cells": [
  {
   "cell_type": "markdown",
   "id": "fffe18c0-7816-49c0-9e1a-6a04a3eaa3d2",
   "metadata": {
    "papermill": {},
    "tags": []
   },
   "source": [
    "<img width=\"10%\" alt=\"Naas\" src=\"https://landen.imgix.net/jtci2pxwjczr/assets/5ice39g4.png?w=160\"/>"
   ]
  },
  {
   "cell_type": "markdown",
   "id": "879f88c4-86dc-43f9-9e12-33be60dfa855",
   "metadata": {
    "papermill": {},
    "tags": []
   },
   "source": [
    "# Request - Sending POST s with Data\n",
    "<a href=\"https://app.naas.ai/user-redirect/naas/downloader?url=https://raw.githubusercontent.com/jupyter-naas/awesome-notebooks/master/Request/Request_Sending_POST_Requests_with_Data.ipynb\" target=\"_parent\"><img src=\"https://naasai-public.s3.eu-west-3.amazonaws.com/Open_in_Naas_Lab.svg\"/></a><br><br><a href=\"https://github.com/jupyter-naas/awesome-notebooks/issues/new?assignees=&labels=&template=template-request.md&title=Tool+-+Action+of+the+notebook+\">Template request</a> | <a href=\"https://github.com/jupyter-naas/awesome-notebooks/issues/new?assignees=&labels=bug&template=bug_report.md&title=Request+-+Sending+POST+s+with+Data:+Error+short+description\">Bug report</a> | <a href=\"https://app.naas.ai/user-redirect/naas/downloader?url=https://raw.githubusercontent.com/jupyter-naas/awesome-notebooks/master/Naas/Naas_Start_data_product.ipynb\" target=\"_parent\">Generate Data Product</a>"
   ]
  },
  {
   "cell_type": "markdown",
   "id": "b5a29151-1521-42dc-9feb-9f3e4df2bedd",
   "metadata": {
    "papermill": {},
    "tags": []
   },
   "source": [
    "**Tags:** #requests #post #data #python #library #api"
   ]
  },
  {
   "cell_type": "markdown",
   "id": "58a49bf2-7f67-45a5-a289-be43f73b7a8f",
   "metadata": {
    "papermill": {},
    "tags": []
   },
   "source": [
    "**Author:** [Benjamin Filly](https://www.linkedin.com/in/benjamin-filly-05427727a/)"
   ]
  },
  {
   "cell_type": "markdown",
   "id": "8fad582b-a041-41d8-bc68-668cb7bff285",
   "metadata": {
    "papermill": {},
    "tags": []
   },
   "source": [
    "**Description:** This notebook template demonstrates how to use the requests library to send a POST request with data. It includes importing the library, preparing the data, making the request, handling the response, and verifying the successful submission."
   ]
  },
  {
   "cell_type": "markdown",
   "id": "0cacd037-f583-42ad-9965-d19ad35314ae",
   "metadata": {
    "papermill": {},
    "tags": []
   },
   "source": [
    "**References:**\n",
    "- [Python Requests post() Method](https://www.w3schools.com/python/ref_requests_post.asp)\n",
    "- [HTTP POST Request](https://www.w3schools.com/tags/ref_httpmethods.asp)"
   ]
  },
  {
   "cell_type": "markdown",
   "id": "b80b4ecc-edc3-417c-b4df-13972b28631f",
   "metadata": {
    "papermill": {},
    "tags": []
   },
   "source": [
    "## Input"
   ]
  },
  {
   "cell_type": "markdown",
   "id": "e4fbd3dc-74fe-4573-ac7b-938107be4c46",
   "metadata": {
    "papermill": {},
    "tags": []
   },
   "source": [
    "### Import libraries"
   ]
  },
  {
   "cell_type": "code",
   "execution_count": null,
   "id": "6c7ecd8c-90b0-490e-9fdc-e082bbd66b60",
   "metadata": {
    "papermill": {},
    "tags": []
   },
   "outputs": [],
   "source": [
    "import requests"
   ]
  },
  {
   "cell_type": "markdown",
   "id": "eed8236b-6eb2-4ed5-a5d2-66bd5b890a52",
   "metadata": {
    "papermill": {},
    "tags": []
   },
   "source": [
    "### Setup Variables\n",
    "- `url`: URL of the endpoint to send the POST request\n",
    "- `data`: Optional. A dictionary, list of tuples, bytes or a file object to send to the specified url\n",
    "- `json`: Optional. A JSON object to send to the specified url\n",
    "- `headers`: Optional. A JSON object to send to the specified url\n",
    "- `cookies`: Optional. A dictionary of cookies to send to the specified url.\n",
    "\n",
    "In the context of a POST request, the \"data\" parameter refers to the payload or body of the request, which can be any type of data (such as text, binary, or JSON). The \"JSON parameters\" refer to specific key-value pairs within the data payload that are formatted as JSON objects, allowing for structured data representation and easy parsing on the server side. JSON parameters are a subset of the overall data being sent in the POST request."
   ]
  },
  {
   "cell_type": "code",
   "execution_count": null,
   "id": "a6d9e644-f99d-466c-b944-1b28977d6198",
   "metadata": {
    "papermill": {},
    "tags": []
   },
   "outputs": [],
   "source": [
    "url = \"https://www.example.com/endpoint\"\n",
    "json = {\n",
    "    'key1': 'value1',\n",
    "    'key2': 'value2',\n",
    "    # Add more key-value pairs as needed\n",
    "}\n",
    "data = {}\n",
    "headers = {}\n",
    "cookies = {}"
   ]
  },
  {
   "cell_type": "markdown",
   "id": "3e303182-b9b7-4193-bfba-6dfda4dfb90f",
   "metadata": {
    "papermill": {},
    "tags": []
   },
   "source": [
    "## Model"
   ]
  },
  {
   "cell_type": "markdown",
   "id": "fc104d98-9c8f-4275-8537-5892f6a03206",
   "metadata": {
    "papermill": {},
    "tags": []
   },
   "source": [
    "### Send POST Request"
   ]
  },
  {
   "cell_type": "markdown",
   "id": "fcedf903-896c-4f1e-92bd-dd8e146b44b4",
   "metadata": {
    "papermill": {},
    "tags": []
   },
   "source": [
    "The `requests.post()`function sends a POST request to the specified `url` with the supplied `data`. It retrieves the response from the server and assigns it to the `response` variable. The response contains details such as status code, headers and content. It is crucial to handle the response correctly, taking into account the status code to determine the success or failure of the request."
   ]
  },
  {
   "cell_type": "code",
   "execution_count": null,
   "id": "6287b6a9-b854-4646-a148-b2551d20a2a2",
   "metadata": {
    "papermill": {},
    "tags": []
   },
   "outputs": [],
   "source": [
    "response = requests.post(\n",
    "    url,\n",
    "    data=data,\n",
    "    json=json,\n",
    "    headers=headers,\n",
    "    cookies=cookies\n",
    ")"
   ]
  },
  {
   "cell_type": "markdown",
   "id": "475dc1f4-d467-4630-a8e9-5e420b62c0f1",
   "metadata": {
    "papermill": {},
    "tags": []
   },
   "source": [
    "## Output"
   ]
  },
  {
   "cell_type": "markdown",
   "id": "b7bcfc38-18f6-4d77-9b8c-a87cec8bdca4",
   "metadata": {
    "papermill": {},
    "tags": []
   },
   "source": [
    "### Display result"
   ]
  },
  {
   "cell_type": "code",
   "execution_count": null,
   "id": "6ac2a5ea-15a5-4155-85c5-e3b82b96e619",
   "metadata": {
    "papermill": {},
    "tags": []
   },
   "outputs": [],
   "source": [
    "# Handle the response\n",
    "if response.status_code == 200:\n",
    "    # Successful request\n",
    "    print('Request was successful')\n",
    "    print(response.text)  # Print the response content\n",
    "else:\n",
    "    # Request was not successful\n",
    "    print('Request failed')\n",
    "    print('Status code:', response.status_code)\n",
    "    print('Error message:', response.text)"
   ]
  }
 ],
 "metadata": {
  "kernelspec": {
   "display_name": "Python 3",
   "language": "python",
   "name": "python3"
  },
  "language_info": {
   "codemirror_mode": {
    "name": "ipython",
    "version": 3
   },
   "file_extension": ".py",
   "mimetype": "text/x-python",
   "name": "python",
   "nbconvert_exporter": "python",
   "pygments_lexer": "ipython3",
   "version": "3.9.6"
  },
  "naas": {
   "notebook_id": "9678f6e9d554c476ab1edd5e4046bdb3c55626b16b11a91767b3ef45250215d2",
   "notebook_path": "Request/Request_Sending_POST_Requests_with_Data.ipynb"
  },
  "papermill": {
   "default_parameters": {},
   "environment_variables": {},
   "parameters": {},
   "version": "2.4.0"
  },
  "widgets": {
   "application/vnd.jupyter.widget-state+json": {
    "state": {},
    "version_major": 2,
    "version_minor": 0
   }
  }
 },
 "nbformat": 4,
 "nbformat_minor": 5
}