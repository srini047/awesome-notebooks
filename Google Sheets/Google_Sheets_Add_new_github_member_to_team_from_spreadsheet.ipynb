{
 "cells": [
  {
   "cell_type": "markdown",
   "id": "abe3a5f1-e3ae-4f75-a6ff-5623d1cc9469",
   "metadata": {
    "papermill": {},
    "tags": []
   },
   "source": [
    "<img width=\"10%\" alt=\"Naas\" src=\"https://landen.imgix.net/jtci2pxwjczr/assets/5ice39g4.png?w=160\"/>\n"
   ]
  },
  {
   "cell_type": "markdown",
   "id": "6ff905c2-f28d-42ac-8987-c8cd72eb1824",
   "metadata": {
    "papermill": {},
    "tags": []
   },
   "source": [
    "# Google Sheets - Add new github member to team from spreadsheet\n",
    "<a href=\"https://app.naas.ai/user-redirect/naas/downloader?url=https://raw.githubusercontent.com/jupyter-naas/awesome-notebooks/master/Google%20Sheets/Google_Sheets_Add_new_github_member_to_team_from_spreadsheet.ipynb\" target=\"_parent\"><img src=\"https://naasai-public.s3.eu-west-3.amazonaws.com/open_in_naas.svg\"/></a><br><br><a href=\"https://github.com/jupyter-naas/awesome-notebooks/issues/new?assignees=&labels=&template=template-request.md&title=Tool+-+Action+of+the+notebook+\">Template request</a> | <a href=\"https://github.com/jupyter-naas/awesome-notebooks/issues/new?assignees=&labels=bug&template=bug_report.md&title=Google+Sheets+-+Add+new+github+member+to+team+from+spreadsheet:+Error+short+description\">Bug report</a>"
   ]
  },
  {
   "cell_type": "markdown",
   "id": "9aa9ac12-2659-4b6f-94cc-f19de0b3b847",
   "metadata": {
    "papermill": {},
    "tags": []
   },
   "source": [
    "**Tags:** #github #teams #automation #googlesheets #operations"
   ]
  },
  {
   "cell_type": "markdown",
   "id": "4f621665-24b6-415f-b46e-94d8b09394bd",
   "metadata": {
    "papermill": {},
    "tags": []
   },
   "source": [
    "**Author:** [Sanjeet Attili](https://linkedin.com/in/sanjeet-attili-760bab190/)\n"
   ]
  },
  {
   "cell_type": "markdown",
   "id": "naas-description",
   "metadata": {
    "papermill": {},
    "tags": [
     "description"
    ]
   },
   "source": [
    "**Description:** This notebook demonstrates how to use Google Sheets to add a new GitHub member to a team from a spreadsheet."
   ]
  },
  {
   "cell_type": "markdown",
   "id": "6fea319a-f7d2-45eb-abb6-354469a522e1",
   "metadata": {
    "papermill": {},
    "tags": []
   },
   "source": [
    "## Input"
   ]
  },
  {
   "cell_type": "markdown",
   "id": "c29a2183-6572-41df-bc9f-e075a3f9bc04",
   "metadata": {
    "papermill": {},
    "tags": []
   },
   "source": [
    "### Import libraries"
   ]
  },
  {
   "cell_type": "code",
   "execution_count": null,
   "id": "0c15cd69-352e-49f6-964f-fd6260c90c5d",
   "metadata": {
    "papermill": {},
    "tags": []
   },
   "outputs": [],
   "source": [
    "import requests\n",
    "from naas_drivers import github, gsheet\n",
    "import naas\n",
    "import pandas as pd"
   ]
  },
  {
   "cell_type": "markdown",
   "id": "eb0b515a-243d-408c-bc62-0b2eb9077b40",
   "metadata": {
    "papermill": {},
    "tags": []
   },
   "source": [
    "### Setup Google Sheet\n",
    "- Share your Google Sheet with our service account : 🔗 naas-share@naas-gsheets.iam.gserviceaccount.com"
   ]
  },
  {
   "cell_type": "code",
   "execution_count": null,
   "id": "6f57128c-76a6-4e7f-8388-bf95c73f3b5f",
   "metadata": {
    "papermill": {},
    "tags": []
   },
   "outputs": [],
   "source": [
    "# Enter spreadsheet URL and sheet name\n",
    "SPREADSHEET_URL = \"ENTER_YOUR_SPREADSHEET_URL_HERE\"  # EXAMPLE : \"https://docs.google.com/spreadsheets/d/**********\"\n",
    "SHEET_NAME = \"ENTER_YOUR_SHEET_NAME_HERE\"  # EXAMPLE : \"**********\"\n",
    "\n",
    "# GitHub profile column name in Google Sheets\n",
    "col_unique_gsheet = \"ENTER_YOUR_COLUMN_NAME_HERE\"  # EXAMPLE : \"**********\""
   ]
  },
  {
   "cell_type": "markdown",
   "id": "321f58fc-a829-4eb4-904c-4b3eb3b8ee3f",
   "metadata": {
    "papermill": {},
    "tags": []
   },
   "source": [
    "### Setup Github\n",
    "**How to find your personal access token on Github?**\n",
    "\n",
    "- First we need to create a personal access token to get the details of our organization from [here](https://github.com/settings/tokens)\n",
    "- You will be asked to select scopes for the token. Which scopes you choose will determine what information and actions you will be able to perform against the API.\n",
    "- You should be careful with the ones prefixed with write:, delete: and admin: as these might be quite destructive.\n",
    "- You can find description of each scope in docs [here](https://docs.github.com/en/developers/apps/building-oauth-apps/scopes-for-oauth-apps)."
   ]
  },
  {
   "cell_type": "code",
   "execution_count": null,
   "id": "ba9df836-3917-48ae-bd99-5078e9731c63",
   "metadata": {
    "papermill": {},
    "tags": []
   },
   "outputs": [],
   "source": [
    "# GitHub token\n",
    "GITHUB_TOKEN = \"ENTER_YOUR_GITHUB_TOKEN_HERE\"  # EXAMPLE : \"ghp_fUYP0Z5i29AG4ggX8owctGnHU**********\"\n",
    "\n",
    "# GitHub teams url\n",
    "GITHUB_TEAMS_URL = \"ENTER_YOUR_GITHUB_TEAMS_URL_HERE\"  # EXAMPLE : \"https://github.com/orgs/jupyter-naas/teams/opensource-contributors\""
   ]
  },
  {
   "cell_type": "markdown",
   "id": "2afa5ce8-141a-4f78-a847-a60e05802258",
   "metadata": {
    "papermill": {},
    "tags": []
   },
   "source": [
    "### Setup Naas scheduler"
   ]
  },
  {
   "cell_type": "code",
   "execution_count": null,
   "id": "54550839-ca64-4c8b-80a0-af0109608c52",
   "metadata": {
    "papermill": {},
    "tags": []
   },
   "outputs": [],
   "source": [
    "# Schedule the notebook to run every day at 09:00 hrs\n",
    "naas.scheduler.add(cron=\"0 9 * * *\")\n",
    "\n",
    "# To delete your scheduler, uncomment the line below and execute the cell\n",
    "# naas.scheduler.delete()"
   ]
  },
  {
   "cell_type": "markdown",
   "id": "0af4db8a-58b7-46cf-ac7d-37428f33f3e8",
   "metadata": {
    "papermill": {},
    "tags": []
   },
   "source": [
    "## Model"
   ]
  },
  {
   "cell_type": "markdown",
   "id": "0f94bcaa-ed9a-4170-80e7-fc643aecd386",
   "metadata": {
    "papermill": {},
    "tags": []
   },
   "source": [
    "### Get Google Sheets data"
   ]
  },
  {
   "cell_type": "code",
   "execution_count": null,
   "id": "27acb148-405d-4359-b096-b3fc14db029e",
   "metadata": {
    "papermill": {},
    "tags": []
   },
   "outputs": [],
   "source": [
    "# Connect with Gsheet and get all data in a dataframe\n",
    "df_gsheet = gsheet.connect(SPREADSHEET_URL).get(sheet_name=SHEET_NAME)\n",
    "df_gsheet.head(5)"
   ]
  },
  {
   "cell_type": "markdown",
   "id": "15fbb891-c475-4854-98ff-73f3247d894e",
   "metadata": {
    "papermill": {},
    "tags": []
   },
   "source": [
    "### Get team from GitHub"
   ]
  },
  {
   "cell_type": "code",
   "execution_count": null,
   "id": "2c0f912d-1f89-4ba8-8ba9-7886a4a6df51",
   "metadata": {
    "papermill": {},
    "tags": []
   },
   "outputs": [],
   "source": [
    "def get_team(team_url):\n",
    "    # Init variables\n",
    "    df = pd.DataFrame()\n",
    "\n",
    "    # Get team id\n",
    "    team_id = team_url.split(\"/teams/\")[-1]\n",
    "\n",
    "    # Get all teams\n",
    "    df_teams = github.connect(GITHUB_TOKEN).teams.get_profiles(GITHUB_TEAMS_URL)\n",
    "\n",
    "    # Filter on team\n",
    "    df = df_teams[df_teams.SLUG == team_id]\n",
    "    print(f\"{len(df)} members in team: {team_id}\")\n",
    "    return df.reset_index(drop=True)\n",
    "\n",
    "\n",
    "df_teams = get_team(GITHUB_TEAMS_URL)\n",
    "df_teams.head(5)"
   ]
  },
  {
   "cell_type": "markdown",
   "id": "f8e13c27-3113-4e92-b843-edcc5e49312f",
   "metadata": {
    "papermill": {},
    "tags": []
   },
   "source": [
    "### Get new members"
   ]
  },
  {
   "cell_type": "code",
   "execution_count": null,
   "id": "b9d964b9-28ba-43ca-8463-9ecc223aa985",
   "metadata": {
    "papermill": {},
    "tags": []
   },
   "outputs": [],
   "source": [
    "def get_new_members(df_gsheet, df_teams):\n",
    "    # Init output\n",
    "    new_members = []\n",
    "\n",
    "    # Get gsheet members\n",
    "    gsheet_members = df_gsheet[col_unique_gsheet].unique().tolist()\n",
    "\n",
    "    # Get teams members\n",
    "    teams_members_login = df_teams[\"LOGIN_NAME\"].str.lower().unique().tolist()\n",
    "    print(teams_members_login)\n",
    "    teams_members_email = df_teams[\"EMAIL\"].str.lower().unique().tolist()\n",
    "\n",
    "    # Get new members\n",
    "    for member in gsheet_members:\n",
    "        member = str(member).split(\"https://github.com/\")[-1].split(\"/\")[0].lower()\n",
    "        if member not in teams_members_login and member not in teams_members_email:\n",
    "            new_members = new_members + [member]\n",
    "    return new_members\n",
    "\n",
    "\n",
    "new_members = get_new_members(df_gsheet, df_teams)\n",
    "new_members"
   ]
  },
  {
   "cell_type": "markdown",
   "id": "c3394e62-0659-427e-b0ff-8aeea7bdb7b6",
   "metadata": {
    "papermill": {},
    "tags": []
   },
   "source": [
    "### Add members from spreadsheet"
   ]
  },
  {
   "cell_type": "code",
   "execution_count": null,
   "id": "b26f8bfe-d1b8-43fa-a93a-cace84e848a8",
   "metadata": {
    "papermill": {},
    "tags": []
   },
   "outputs": [],
   "source": [
    "def add_members(team_url, new_members):\n",
    "    # Init output\n",
    "    df = pd.DataFrame()\n",
    "\n",
    "    # Get org id and team id\n",
    "    team_id = team_url.split(\"/teams/\")[-1].split(\"/\")[0]\n",
    "    team_org = team_url.split(\"https://github.com/orgs/\")[-1].split(\"/\")[0]\n",
    "\n",
    "    # If a particular member already is present in the team,\n",
    "    # then it does not create a copy of that member. No need to worry :)\n",
    "    if isinstance(new_members, str):\n",
    "        new_members = [new_members]\n",
    "\n",
    "    # Add new members to team\n",
    "    data = []\n",
    "    for member in new_members:\n",
    "        req_url = f\"https://api.github.com/orgs/{team_org}/teams/{team_id}/memberships/{member}\"\n",
    "        headers = {\n",
    "            \"Authorization\": f\"token {GITHUB_TOKEN}\",\n",
    "            \"Accept\": \"application/vnd.github.v3+json\",\n",
    "        }\n",
    "        res = requests.put(req_url, headers=headers)\n",
    "        try:\n",
    "            res.raise_for_status()\n",
    "        except Exception as e:\n",
    "            print(e)\n",
    "\n",
    "        if res.status_code == 200:\n",
    "            print(f\"✅ Member {member} successfully invited to your team {team_id}\")\n",
    "            res_json = res.json()\n",
    "            data.append(res_json)\n",
    "\n",
    "    # Send result as dataframe\n",
    "    df = pd.DataFrame(data)\n",
    "    return df.reset_index(drop=True)\n",
    "\n",
    "\n",
    "df_new = add_members(GITHUB_TEAMS_URL, new_members)"
   ]
  },
  {
   "cell_type": "markdown",
   "id": "84dc388a-687d-4551-a051-791feced9234",
   "metadata": {
    "papermill": {},
    "tags": []
   },
   "source": [
    "## Output"
   ]
  },
  {
   "cell_type": "markdown",
   "id": "4c3b6444-bce4-45c6-acf5-7baca7fa628f",
   "metadata": {
    "papermill": {},
    "tags": []
   },
   "source": [
    "### Display new members added"
   ]
  },
  {
   "cell_type": "code",
   "execution_count": null,
   "id": "b5ed4110-f196-4b7a-bb12-e006d7063a52",
   "metadata": {
    "papermill": {},
    "tags": []
   },
   "outputs": [],
   "source": [
    "df_new"
   ]
  }
 ],
 "metadata": {
  "kernelspec": {
   "display_name": "Python 3",
   "language": "python",
   "name": "python3"
  },
  "language_info": {
   "codemirror_mode": {
    "name": "ipython",
    "version": 3
   },
   "file_extension": ".py",
   "mimetype": "text/x-python",
   "name": "python",
   "nbconvert_exporter": "python",
   "pygments_lexer": "ipython3",
   "version": "3.9.6"
  },
  "papermill": {
   "default_parameters": {},
   "environment_variables": {},
   "parameters": {},
   "version": "2.3.4"
  }
 },
 "nbformat": 4,
 "nbformat_minor": 5
}