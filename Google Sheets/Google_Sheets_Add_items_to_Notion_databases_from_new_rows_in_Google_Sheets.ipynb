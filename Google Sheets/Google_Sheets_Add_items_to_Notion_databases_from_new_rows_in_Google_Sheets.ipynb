{
 "cells": [
  {
   "cell_type": "markdown",
   "id": "latin-packing",
   "metadata": {
    "execution": {
     "iopub.execute_input": "2021-02-23T14:22:16.610471Z",
     "iopub.status.busy": "2021-02-23T14:22:16.610129Z",
     "iopub.status.idle": "2021-02-23T14:22:16.627784Z",
     "shell.execute_reply": "2021-02-23T14:22:16.626866Z",
     "shell.execute_reply.started": "2021-02-23T14:22:16.610384Z"
    },
    "papermill": {},
    "tags": []
   },
   "source": [
    "<img width=\"10%\" alt=\"Naas\" src=\"https://landen.imgix.net/jtci2pxwjczr/assets/5ice39g4.png?w=160\"/>"
   ]
  },
  {
   "cell_type": "markdown",
   "id": "compressed-wilson",
   "metadata": {
    "papermill": {},
    "tags": []
   },
   "source": [
    "# Google Sheets - Add items to Notion databases from new rows in\n",
    "<a href=\"https://app.naas.ai/user-redirect/naas/downloader?url=https://raw.githubusercontent.com/jupyter-naas/awesome-notebooks/master/Google%20Sheets/Google_Sheets_Add_items_to_Notion_databases_from_new_rows_in_Google_Sheets.ipynb\" target=\"_parent\"><img src=\"https://naasai-public.s3.eu-west-3.amazonaws.com/Open_in_Naas_Lab.svg\"/></a><br><br><a href=\"https://github.com/jupyter-naas/awesome-notebooks/issues/new?assignees=&labels=&template=template-request.md&title=Tool+-+Action+of+the+notebook+\">Template request</a> | <a href=\"https://github.com/jupyter-naas/awesome-notebooks/issues/new?assignees=&labels=bug&template=bug_report.md&title=Google+Sheets+-+Add+items+to+Notion+databases+from+new+rows+in:+Error+short+description\">Bug report</a> | <a href=\"https://app.naas.ai/user-redirect/naas/downloader?url=https://raw.githubusercontent.com/jupyter-naas/awesome-notebooks/master/Naas/Naas_Start_data_product.ipynb\" target=\"_parent\">Generate Data Product</a>"
   ]
  },
  {
   "cell_type": "markdown",
   "id": "cbf7f260-f739-4e8f-9074-f070af12b69f",
   "metadata": {
    "papermill": {},
    "tags": []
   },
   "source": [
    "**Tags:** #googlesheets #productivity #operations #automation #notion"
   ]
  },
  {
   "cell_type": "markdown",
   "id": "8af9aa79",
   "metadata": {
    "papermill": {},
    "tags": []
   },
   "source": [
    "**Author:** [Pooja Srivastava](https://www.linkedin.com/in/pooja-srivastava-bb037649/)"
   ]
  },
  {
   "cell_type": "markdown",
   "id": "23b6826b-2b9d-4322-b2fa-c653b0a31b9d",
   "metadata": {
    "papermill": {},
    "tags": []
   },
   "source": [
    "This notebook does the following tasks: \n",
    "- Schedule the notebook to run every 15 minutes\n",
    "- Connect with Gsheet and get all rows using the gsheet driver's get method\n",
    "- Connect with NotionDB and get all pages using the Notion Databases driver's get method\n",
    "- Compare the list of pages from notion db with the rows returned from gsheet and add non matching rows to a list\n",
    "- Create new pages in Notion db for each row in the non matching list using the Notion Pages driver's create method\n",
    "- For each created page, add the properties and values from gsheet and update in notion using the Notion Pages driver's update methods"
   ]
  },
  {
   "cell_type": "markdown",
   "id": "2dcab025",
   "metadata": {
    "papermill": {},
    "tags": []
   },
   "source": [
    "Pre-requisite: \n",
    "1. Gsheets : Please share your Google Sheet with our service account\n",
    "   For the driver to fetch the contents of your google sheet, you need to share it with the service account linked with Naas. 🔗 naas-share@naas-gsheets.iam.gserviceaccount.com \n",
    "2. Notion : Create a notion integration and use the secret key to share the database. <a href = 'https://docs.naas.ai/Notion-7435020d01a549a9a0060c47ea808fd4'> Refer the documentation here</a>"
   ]
  },
  {
   "cell_type": "markdown",
   "id": "distinguished-truth",
   "metadata": {
    "papermill": {},
    "tags": []
   },
   "source": [
    "## Input"
   ]
  },
  {
   "cell_type": "markdown",
   "id": "b56e47f5-be89-4591-93ec-01e8fac50def",
   "metadata": {
    "papermill": {},
    "tags": []
   },
   "source": [
    "### Import libraries"
   ]
  },
  {
   "cell_type": "code",
   "execution_count": null,
   "id": "6b63229c-7614-4dc8-ba2a-e0b1e2f64918",
   "metadata": {
    "papermill": {},
    "tags": []
   },
   "outputs": [],
   "source": [
    "import pandas as pd\n",
    "import naas\n",
    "from naas_drivers import notion, gsheet"
   ]
  },
  {
   "cell_type": "markdown",
   "id": "3311103a-13a2-40c5-bb42-2755391f3d47",
   "metadata": {
    "papermill": {},
    "tags": []
   },
   "source": [
    "### Setup Google Sheets"
   ]
  },
  {
   "cell_type": "code",
   "execution_count": null,
   "id": "bffaf74b-3e26-408f-9a55-bb495577cdf6",
   "metadata": {
    "papermill": {},
    "tags": []
   },
   "outputs": [],
   "source": [
    "# Enter spreadsheet_id and sheet name\n",
    "spreadsheet_id = \"****\"\n",
    "sheet_name = \"YOUR_SHEET\"\n",
    "\n",
    "# Unique column# for gsheets\n",
    "col_unique_gsheet = \"Name\""
   ]
  },
  {
   "cell_type": "markdown",
   "id": "2665cb7f-1504-48d7-9d49-8b30fd80e359",
   "metadata": {
    "papermill": {},
    "tags": []
   },
   "source": [
    "### Setup Notion"
   ]
  },
  {
   "cell_type": "code",
   "execution_count": null,
   "id": "2fafe16a-ccca-43ae-88fd-eb23af803fe6",
   "metadata": {
    "papermill": {},
    "tags": []
   },
   "outputs": [],
   "source": [
    "# Enter Notion Token API and Database URL\n",
    "notion_token = \"****\"\n",
    "notion_database_url = \"https://www.notion.so/YOURDB\"\n",
    "\n",
    "# Unique column name for notion\n",
    "col_unique_notion = \"Name\""
   ]
  },
  {
   "cell_type": "markdown",
   "id": "c1e4c55b",
   "metadata": {
    "papermill": {},
    "tags": []
   },
   "source": [
    "### Setup Naas"
   ]
  },
  {
   "cell_type": "code",
   "execution_count": null,
   "id": "0148abca",
   "metadata": {
    "papermill": {},
    "tags": []
   },
   "outputs": [],
   "source": [
    "# Schedule the notebook to run every 15 minutes\n",
    "naas.scheduler.add(cron=\"*/15 * * * *\")\n",
    "\n",
    "# To delete your scheduler, uncomment the line below and execute the cell\n",
    "# naas.scheduler.delete()"
   ]
  },
  {
   "cell_type": "markdown",
   "id": "registered-showcase",
   "metadata": {
    "papermill": {},
    "tags": []
   },
   "source": [
    "## Model"
   ]
  },
  {
   "cell_type": "markdown",
   "id": "9f59e097",
   "metadata": {
    "papermill": {},
    "tags": []
   },
   "source": [
    "### Get Gsheet and Notion data"
   ]
  },
  {
   "cell_type": "code",
   "execution_count": null,
   "id": "a3da2ed0-f1af-4706-8ace-7ed909c15237",
   "metadata": {
    "papermill": {},
    "tags": []
   },
   "outputs": [],
   "source": [
    "# Connect with Gsheet and get all data in a dataframe\n",
    "gsheet.connect(spreadsheet_id)\n",
    "df_gsheet = gsheet.get(sheet_name=sheet_name)"
   ]
  },
  {
   "cell_type": "code",
   "execution_count": null,
   "id": "3df1074b",
   "metadata": {
    "papermill": {},
    "tags": []
   },
   "outputs": [],
   "source": [
    "# Connect with Notion db and get all pages in a dataframe\n",
    "database = notion.connect(notion_token).database.get(notion_database_url)\n",
    "df_notion = database.df()"
   ]
  },
  {
   "cell_type": "markdown",
   "id": "2b985ca9",
   "metadata": {
    "papermill": {},
    "tags": []
   },
   "source": [
    "### Compare Gsheet and Notion data"
   ]
  },
  {
   "cell_type": "code",
   "execution_count": null,
   "id": "82fe3529",
   "metadata": {
    "papermill": {},
    "tags": []
   },
   "outputs": [],
   "source": [
    "# Iterate through all rows in Gsheet and find match in Notion db\n",
    "# If no match is found then add data to df_difference dataframe\n",
    "\n",
    "df_difference = pd.DataFrame()\n",
    "for index, row in df_gsheet.iterrows():\n",
    "    x = row[col_unique_gsheet]\n",
    "    if not (x == df_notion[col_unique_notion]).any():\n",
    "        df_difference = df_difference.append(df_gsheet.loc[index])"
   ]
  },
  {
   "cell_type": "markdown",
   "id": "d9b04257",
   "metadata": {
    "papermill": {},
    "tags": []
   },
   "source": [
    "## Output"
   ]
  },
  {
   "cell_type": "markdown",
   "id": "3b64980c-1794-4c7a-997e-512ad71dca32",
   "metadata": {
    "papermill": {},
    "tags": []
   },
   "source": [
    "### Create a new page in Notion if it does not match with Gsheet"
   ]
  },
  {
   "cell_type": "code",
   "execution_count": null,
   "id": "89aa9e93",
   "metadata": {
    "papermill": {},
    "tags": []
   },
   "outputs": [],
   "source": [
    "# Create a new page in notion db for each row in df_difference dataframe\n",
    "if df_difference.empty == False:\n",
    "    for index, row in df_difference.iterrows():\n",
    "        page = notion.connect(notion_token).page.create(\n",
    "            database_id=notion_database_url, title=row[col_unique_gsheet]\n",
    "        )\n",
    "        # Add all properties here and map with respective column in row\n",
    "        page.select(\"Type\", row[\"Type\"])\n",
    "        page.select(\"Status\", row[\"Status\"])\n",
    "        page.rich_text(\"Summary\", row[\"Summary\"])\n",
    "        page.update()\n",
    "    print(\"The gsheets rows synced successfuly to Notion DB\")\n",
    "else:\n",
    "    print(\"No new rows in Gsheet to sync to Notion DB\")"
   ]
  }
 ],
 "metadata": {
  "kernelspec": {
   "display_name": "Python 3",
   "language": "python",
   "name": "python3"
  },
  "language_info": {
   "codemirror_mode": {
    "name": "ipython",
    "version": 3
   },
   "file_extension": ".py",
   "mimetype": "text/x-python",
   "name": "python",
   "nbconvert_exporter": "python",
   "pygments_lexer": "ipython3",
   "version": "3.9.6"
  },
  "naas": {
   "notebook_id": "a3806d0e8beb6df74a694e543ef83a8bf1058b7cc2dd05636cdeb22dde4ed654",
   "notebook_path": "Google Sheets/Google_Sheets_Add_items_to_Notion_databases_from_new_rows_in_Google_Sheets.ipynb"
  },
  "papermill": {
   "default_parameters": {},
   "environment_variables": {},
   "parameters": {},
   "version": "2.3.3"
  },
  "widgets": {
   "application/vnd.jupyter.widget-state+json": {
    "state": {},
    "version_major": 2,
    "version_minor": 0
   }
  }
 },
 "nbformat": 4,
 "nbformat_minor": 5
}