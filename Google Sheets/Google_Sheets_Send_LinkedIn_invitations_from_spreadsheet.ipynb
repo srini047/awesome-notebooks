{
 "cells": [
  {
   "cell_type": "markdown",
   "id": "second-registrar",
   "metadata": {
    "execution": {
     "iopub.execute_input": "2021-01-25T08:00:35.294800Z",
     "iopub.status.busy": "2021-01-25T08:00:35.294557Z",
     "iopub.status.idle": "2021-01-25T08:00:35.307281Z",
     "shell.execute_reply": "2021-01-25T08:00:35.306468Z",
     "shell.execute_reply.started": "2021-01-25T08:00:35.294775Z"
    },
    "papermill": {},
    "tags": []
   },
   "source": [
    "<img width=\"10%\" alt=\"Naas\" src=\"https://landen.imgix.net/jtci2pxwjczr/assets/5ice39g4.png?w=160\"/>"
   ]
  },
  {
   "cell_type": "markdown",
   "id": "boolean-amendment",
   "metadata": {
    "papermill": {},
    "tags": []
   },
   "source": [
    "# Google Sheets - Send LinkedIn invitations from spreadsheet\n",
    "<a href=\"https://app.naas.ai/user-redirect/naas/downloader?url=https://raw.githubusercontent.com/jupyter-naas/awesome-notebooks/master/Google%20Sheets/Google_Sheets_Send_LinkedIn_invitations_from_spreadsheet.ipynb\" target=\"_parent\"><img src=\"https://naasai-public.s3.eu-west-3.amazonaws.com/Open_in_Naas_Lab.svg\"/></a><br><br><a href=\"https://github.com/jupyter-naas/awesome-notebooks/issues/new?assignees=&labels=&template=template-request.md&title=Tool+-+Action+of+the+notebook+\">Template request</a> | <a href=\"https://github.com/jupyter-naas/awesome-notebooks/issues/new?assignees=&labels=bug&template=bug_report.md&title=Google+Sheets+-+Send+LinkedIn+invitations+from+spreadsheet:+Error+short+description\">Bug report</a> | <a href=\"https://app.naas.ai/user-redirect/naas/downloader?url=https://raw.githubusercontent.com/jupyter-naas/awesome-notebooks/master/Naas/Naas_Start_data_product.ipynb\" target=\"_parent\">Generate Data Product</a>"
   ]
  },
  {
   "cell_type": "markdown",
   "id": "8e32973f-9a81-4c9c-b526-8eb05453acee",
   "metadata": {
    "papermill": {},
    "tags": []
   },
   "source": [
    "**Tags:** #googlesheets #invitation #automation #content #notification #email #linkedin "
   ]
  },
  {
   "cell_type": "markdown",
   "id": "7e904365-6248-439c-9c2f-dee77a015ccc",
   "metadata": {
    "papermill": {},
    "tags": []
   },
   "source": [
    "**Author:** [Valentin Goulet](https://www.linkedin.com/in/valentin-goulet-3a3070152/)"
   ]
  },
  {
   "cell_type": "markdown",
   "id": "naas-description",
   "metadata": {
    "papermill": {},
    "tags": [
     "description"
    ]
   },
   "source": [
    "**Description:** This notebook allows users to quickly and easily send LinkedIn invitations to contacts stored in a Google Sheets spreadsheet."
   ]
  },
  {
   "cell_type": "markdown",
   "id": "identified-logan",
   "metadata": {
    "papermill": {},
    "tags": []
   },
   "source": [
    "## Input"
   ]
  },
  {
   "cell_type": "markdown",
   "id": "c7deec17-a137-413a-9f7e-0b0ed1eaec53",
   "metadata": {
    "papermill": {},
    "tags": []
   },
   "source": [
    "### Import libraries"
   ]
  },
  {
   "cell_type": "code",
   "execution_count": null,
   "id": "strategic-savage",
   "metadata": {
    "papermill": {},
    "tags": []
   },
   "outputs": [],
   "source": [
    "import naas\n",
    "from naas_drivers import linkedin, gsheet"
   ]
  },
  {
   "cell_type": "markdown",
   "id": "average-boxing",
   "metadata": {
    "papermill": {},
    "tags": []
   },
   "source": [
    "### Setup Google Sheets\n",
    "👉 The spreadsheet needs to contains profil's url on the 1st column of the file."
   ]
  },
  {
   "cell_type": "code",
   "execution_count": null,
   "id": "statewide-acceptance",
   "metadata": {
    "papermill": {},
    "tags": []
   },
   "outputs": [],
   "source": [
    "spreadsheet_id = \"YOUR_SPREADSHEET_ID\"\n",
    "sheet_name = \"YOUR_SHEET_NAME\"\n",
    "profile_col_name = \"url\""
   ]
  },
  {
   "cell_type": "markdown",
   "id": "sustained-rochester",
   "metadata": {
    "papermill": {},
    "tags": []
   },
   "source": [
    "### Setup LinkedIn\n",
    "<a href='https://www.notion.so/LinkedIn-driver-Get-your-cookies-d20a8e7e508e42af8a5b52e33f3dba75'>How to get your cookies ?</a>"
   ]
  },
  {
   "cell_type": "code",
   "execution_count": null,
   "id": "handy-jacksonville",
   "metadata": {
    "papermill": {},
    "tags": []
   },
   "outputs": [],
   "source": [
    "# LinkedIn cookies\n",
    "LI_AT = \"YOUR_COOKIE_LI_AT\"\n",
    "JSESSIONID = \"YOUR_COOKIE_JSESSIONID\"\n",
    "\n",
    "# LinkedIn limit invitations up to 100 per week (Becareful !)\n",
    "add_per_launch = 4"
   ]
  },
  {
   "cell_type": "markdown",
   "id": "7d0af90b-efcf-47fd-8094-49ddf401637c",
   "metadata": {
    "papermill": {},
    "tags": []
   },
   "source": [
    "### Schedule your notebook"
   ]
  },
  {
   "cell_type": "code",
   "execution_count": null,
   "id": "6214531e-3068-4dfa-b975-aa4b72cb3d06",
   "metadata": {
    "papermill": {},
    "tags": []
   },
   "outputs": [],
   "source": [
    "# Scheduler your invitation everyday at 8:00 AM\n",
    "naas.scheduler.add(cron=\"0 8 * * *\")\n",
    "\n",
    "# Uncomment the line below to delete your scheduler\n",
    "# naas.scheduler.delete()"
   ]
  },
  {
   "cell_type": "markdown",
   "id": "rubber-nutrition",
   "metadata": {
    "execution": {
     "iopub.execute_input": "2021-05-15T10:12:55.887028Z",
     "iopub.status.busy": "2021-05-15T10:12:55.886761Z",
     "iopub.status.idle": "2021-05-15T10:12:55.899441Z",
     "shell.execute_reply": "2021-05-15T10:12:55.898476Z",
     "shell.execute_reply.started": "2021-05-15T10:12:55.886964Z"
    },
    "papermill": {},
    "tags": []
   },
   "source": [
    "## Model"
   ]
  },
  {
   "cell_type": "markdown",
   "id": "10e6147b-a98f-4a7a-8b00-b35af516fbff",
   "metadata": {
    "papermill": {},
    "tags": []
   },
   "source": [
    "### Get all list of profiles"
   ]
  },
  {
   "cell_type": "code",
   "execution_count": null,
   "id": "9dca37b2-7c39-401d-9b99-84463fdcc780",
   "metadata": {
    "papermill": {},
    "tags": []
   },
   "outputs": [],
   "source": [
    "df = gsheet.connect(spreadsheet_id).get(sheet_name=sheet_name)"
   ]
  },
  {
   "cell_type": "markdown",
   "id": "4d817b01-e675-4a10-959c-90d74e50908f",
   "metadata": {
    "papermill": {},
    "tags": []
   },
   "source": [
    "### Get restricted list"
   ]
  },
  {
   "cell_type": "code",
   "execution_count": null,
   "id": "fccd8120-bae6-4027-ac57-a23dde929119",
   "metadata": {
    "papermill": {},
    "tags": []
   },
   "outputs": [],
   "source": [
    "# Alert when last than 20 urls remains in the gsheet\n",
    "if len(df) < 20:\n",
    "    email_to = \"YOUR_EMAIL\"\n",
    "    subject = (\n",
    "        \"Invite LinkedIn alert : \"\n",
    "        + str(len(df))\n",
    "        + \" lines left in the Linkedin's url database\"\n",
    "    )\n",
    "    content = \"You can add more lines to the gsheet or update the Notebook to set a new spreadsheet !\"\n",
    "    naas.notification.send(email_to=email_to, subject=subject, html=content)\n",
    "\n",
    "df = df.head(add_per_launch)\n",
    "print(\"Invits will be send to :\")\n",
    "df"
   ]
  },
  {
   "cell_type": "markdown",
   "id": "developed-acquisition",
   "metadata": {
    "papermill": {},
    "tags": []
   },
   "source": [
    "## Output"
   ]
  },
  {
   "cell_type": "markdown",
   "id": "447b0427-f056-49d1-8cc4-49b4e848f6f5",
   "metadata": {
    "papermill": {},
    "tags": []
   },
   "source": [
    "### Send the invitation and delete profil from Gsheet"
   ]
  },
  {
   "cell_type": "code",
   "execution_count": null,
   "id": "impossible-subsection",
   "metadata": {
    "papermill": {},
    "tags": []
   },
   "outputs": [],
   "source": [
    "for index, row in df.iterrows():\n",
    "    profile = row[profile_col_name]\n",
    "    result = linkedin.connect(LI_AT, JSESSIONID).invitation.send(recipient_url=profile)\n",
    "    print(f\"Invitation sent to : {profile}\")\n",
    "    # Suppression de la ligne du gsheet\n",
    "    gsheet.connect(spreadsheet_id).delete(sheet_name=sheet_name, rows=[2])"
   ]
  }
 ],
 "metadata": {
  "kernelspec": {
   "display_name": "Python 3",
   "language": "python",
   "name": "python3"
  },
  "language_info": {
   "codemirror_mode": {
    "name": "ipython",
    "version": 3
   },
   "file_extension": ".py",
   "mimetype": "text/x-python",
   "name": "python",
   "nbconvert_exporter": "python",
   "pygments_lexer": "ipython3",
   "version": "3.9.6"
  },
  "naas": {
   "notebook_id": "05789b41ffcc541325fae77c8579bb900c997f4f995f9e1d4c65a690d6016683",
   "notebook_path": "Google Sheets/Google_Sheets_Send_LinkedIn_invitations_from_spreadsheet.ipynb"
  },
  "papermill": {
   "default_parameters": {},
   "environment_variables": {},
   "parameters": {},
   "version": "2.3.3"
  },
  "widgets": {
   "application/vnd.jupyter.widget-state+json": {
    "state": {},
    "version_major": 2,
    "version_minor": 0
   }
  }
 },
 "nbformat": 4,
 "nbformat_minor": 5
}