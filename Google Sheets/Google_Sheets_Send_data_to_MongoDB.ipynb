{
 "cells": [
  {
   "cell_type": "markdown",
   "id": "5da54904-d924-416d-a7a9-221c064b843b",
   "metadata": {
    "papermill": {},
    "tags": []
   },
   "source": [
    "<img width=\"10%\" alt=\"Naas\" src=\"https://landen.imgix.net/jtci2pxwjczr/assets/5ice39g4.png?w=160\"/>"
   ]
  },
  {
   "cell_type": "markdown",
   "id": "45ec99bf-9e56-44c5-852d-89abcd959827",
   "metadata": {
    "papermill": {},
    "tags": []
   },
   "source": [
    "# Google Sheets - Send data to MongoDB\n",
    "<a href=\"https://app.naas.ai/user-redirect/naas/downloader?url=https://raw.githubusercontent.com/jupyter-naas/awesome-notebooks/master/Google%20Sheets/Google_Sheets_Send_data_to_MongoDB.ipynb\" target=\"_parent\"><img src=\"https://naasai-public.s3.eu-west-3.amazonaws.com/Open_in_Naas_Lab.svg\"/></a><br><br><a href=\"https://github.com/jupyter-naas/awesome-notebooks/issues/new?assignees=&labels=&template=template-request.md&title=Tool+-+Action+of+the+notebook+\">Template request</a> | <a href=\"https://github.com/jupyter-naas/awesome-notebooks/issues/new?assignees=&labels=bug&template=bug_report.md&title=Google+Sheets+-+Send+data+to+MongoDB:+Error+short+description\">Bug report</a> | <a href=\"https://app.naas.ai/user-redirect/naas/downloader?url=https://raw.githubusercontent.com/jupyter-naas/awesome-notebooks/master/Naas/Naas_Start_data_product.ipynb\" target=\"_parent\">Generate Data Product</a>"
   ]
  },
  {
   "cell_type": "markdown",
   "id": "e31ccc2a-9a9d-420a-94b0-9d12ba3d7fb6",
   "metadata": {
    "papermill": {},
    "tags": []
   },
   "source": [
    "**Tags:** #googlesheets #mongodb #nosql #operations #automation"
   ]
  },
  {
   "cell_type": "markdown",
   "id": "908c4d7c-8ea1-4f0b-ad27-1b978ad7a2fe",
   "metadata": {
    "papermill": {},
    "tags": []
   },
   "source": [
    "**Author:** [Oketunji Oludolapo](https://www.linkedin.com/in/oludolapo-oketunji/)"
   ]
  },
  {
   "cell_type": "markdown",
   "id": "3b8d1d18-61a6-45dd-9258-3fe32d2e6b3c",
   "metadata": {
    "papermill": {},
    "tags": []
   },
   "source": [
    "This notebook will help you send data from your spreadsheet to your MongoDB database collection"
   ]
  },
  {
   "cell_type": "markdown",
   "id": "04a600e8-4275-4577-9c78-19c299302cd7",
   "metadata": {
    "papermill": {},
    "tags": []
   },
   "source": [
    "**How To Use Template:** [Video](https://drive.google.com/file/d/1fSeOXVjVj0gXE-hr1oSCVGyoV2HISczp/view?usp=sharing)"
   ]
  },
  {
   "cell_type": "markdown",
   "id": "fa70bdb9-8c0f-4755-9040-81507a923643",
   "metadata": {
    "papermill": {},
    "tags": []
   },
   "source": [
    "## Input"
   ]
  },
  {
   "cell_type": "code",
   "execution_count": null,
   "id": "6d354105-9c03-4ab7-8e94-2827a612ab5d",
   "metadata": {
    "papermill": {},
    "tags": []
   },
   "outputs": [],
   "source": [
    "from naas_drivers import mongo, gsheet\n",
    "import pandas as pd\n",
    "import naas"
   ]
  },
  {
   "cell_type": "markdown",
   "id": "32d1f58f-441e-4dd4-aa2a-97fc574de017",
   "metadata": {
    "papermill": {},
    "tags": []
   },
   "source": [
    "### Setup Google Sheet\n",
    "- Share your Google Sheet with our service account : 🔗 naas-share@naas-gsheets.iam.gserviceaccount.com"
   ]
  },
  {
   "cell_type": "code",
   "execution_count": null,
   "id": "2ee2ad13-97cb-4d3f-a660-cca99e18c503",
   "metadata": {
    "papermill": {},
    "tags": []
   },
   "outputs": [],
   "source": [
    "spreadsheet_id = \"------\"\n",
    "sheet_name = \"Sheet1\""
   ]
  },
  {
   "cell_type": "markdown",
   "id": "fd13e4f0-ebc3-40b9-9ca8-ab9169be458a",
   "metadata": {
    "papermill": {},
    "tags": []
   },
   "source": [
    "### Setup MongoDB\n",
    "- Get your user, password and connection URL details from your MongoDB Atlas Cluster\n",
    "- **How To get Required MongoDB details**: [Article](https://towardsdev.com/part-6-7-of-python-mongodb-tutorial-series-for-data-scientists-connecting-mongodb-atlas-to-python-d7169445fca1)"
   ]
  },
  {
   "cell_type": "code",
   "execution_count": null,
   "id": "73a29988-1885-4e7b-9922-880bf0f5a54d",
   "metadata": {
    "papermill": {},
    "tags": []
   },
   "outputs": [],
   "source": [
    "user = \"your user\"\n",
    "passwd = \"your password\"\n",
    "host = \"Your Connection URL\"\n",
    "port = 9090\n",
    "\n",
    "collection_name = \"COLLECTION NAME\"\n",
    "db_name = \"DATABASE NAME\""
   ]
  },
  {
   "cell_type": "markdown",
   "id": "ae691ef1-1d88-494b-955c-884195f7bc2a",
   "metadata": {
    "papermill": {},
    "tags": []
   },
   "source": [
    "### Setup Naas"
   ]
  },
  {
   "cell_type": "code",
   "execution_count": null,
   "id": "3765a1a5-e0f6-4712-a5e0-17c8189bb34b",
   "metadata": {
    "papermill": {},
    "tags": []
   },
   "outputs": [],
   "source": [
    "naas.scheduler.add(\n",
    "    cron=\"0 9 * * *\"\n",
    ")  # Send in production this notebook and run it, every day at 9:00.\n",
    "\n",
    "# use this to delete your automation\n",
    "# naas.scheduler.delete()"
   ]
  },
  {
   "cell_type": "markdown",
   "id": "1e701ac1-f7a5-450f-bc2c-58a531b2d56d",
   "metadata": {
    "papermill": {},
    "tags": []
   },
   "source": [
    "## Model"
   ]
  },
  {
   "cell_type": "markdown",
   "id": "0265a67c-f733-4705-ad92-42f8d60138af",
   "metadata": {
    "papermill": {},
    "tags": []
   },
   "source": [
    "### Get data from Google Sheets"
   ]
  },
  {
   "cell_type": "code",
   "execution_count": null,
   "id": "04fb6c3e-3c01-4951-bece-ae294a35e314",
   "metadata": {
    "papermill": {},
    "tags": []
   },
   "outputs": [],
   "source": [
    "df = gsheet.connect(spreadsheet_id).get(sheet_name=sheet_name)"
   ]
  },
  {
   "cell_type": "markdown",
   "id": "988a30f1-72e6-4803-80f1-fc2a8b810458",
   "metadata": {
    "papermill": {},
    "tags": []
   },
   "source": [
    "## Output"
   ]
  },
  {
   "cell_type": "markdown",
   "id": "524e2e83-c36a-4394-a8e8-6c6a1e1f1c28",
   "metadata": {
    "papermill": {},
    "tags": []
   },
   "source": [
    "### Send data to MongoDB"
   ]
  },
  {
   "cell_type": "code",
   "execution_count": null,
   "id": "016790a0-d9f6-4652-a425-9f9a5c2170da",
   "metadata": {
    "papermill": {},
    "tags": []
   },
   "outputs": [],
   "source": [
    "mongo.connect(host, port, user, passwd).send(df, collection_name, db_name, replace=True)"
   ]
  }
 ],
 "metadata": {
  "kernelspec": {
   "display_name": "Python 3",
   "language": "python",
   "name": "python3"
  },
  "language_info": {
   "codemirror_mode": {
    "name": "ipython",
    "version": 3
   },
   "file_extension": ".py",
   "mimetype": "text/x-python",
   "name": "python",
   "nbconvert_exporter": "python",
   "pygments_lexer": "ipython3",
   "version": "3.9.6"
  },
  "naas": {
   "notebook_id": "209d34f8faf5b05652f9cb4b3fe1045566401b2257c9e18947473dbb1785b092",
   "notebook_path": "Google Sheets/Google_Sheets_Send_data_to_MongoDB.ipynb"
  },
  "papermill": {
   "default_parameters": {},
   "environment_variables": {},
   "parameters": {},
   "version": "2.3.4"
  }
 },
 "nbformat": 4,
 "nbformat_minor": 5
}