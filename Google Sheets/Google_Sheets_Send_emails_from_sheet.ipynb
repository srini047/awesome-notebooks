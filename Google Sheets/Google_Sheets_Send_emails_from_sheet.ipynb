{
 "cells": [
  {
   "cell_type": "markdown",
   "id": "animal-positive",
   "metadata": {
    "papermill": {},
    "tags": []
   },
   "source": [
    "<img width=\"10%\" alt=\"Naas\" src=\"https://landen.imgix.net/jtci2pxwjczr/assets/5ice39g4.png?w=160\"/>"
   ]
  },
  {
   "cell_type": "markdown",
   "id": "saving-summit",
   "metadata": {
    "papermill": {},
    "tags": []
   },
   "source": [
    "# Google Sheets - Send emails from sheet\n",
    "<a href=\"https://app.naas.ai/user-redirect/naas/downloader?url=https://raw.githubusercontent.com/jupyter-naas/awesome-notebooks/master/Google%20Sheets/Google_Sheets_Send_emails_from_sheet.ipynb\" target=\"_parent\"><img src=\"https://naasai-public.s3.eu-west-3.amazonaws.com/Open_in_Naas_Lab.svg\"/></a><br><br><a href=\"https://github.com/jupyter-naas/awesome-notebooks/issues/new?assignees=&labels=&template=template-request.md&title=Tool+-+Action+of+the+notebook+\">Template request</a> | <a href=\"https://github.com/jupyter-naas/awesome-notebooks/issues/new?assignees=&labels=bug&template=bug_report.md&title=Google+Sheets+-+Send+emails+from+sheet:+Error+short+description\">Bug report</a> | <a href=\"https://app.naas.ai/user-redirect/naas/downloader?url=https://raw.githubusercontent.com/jupyter-naas/awesome-notebooks/master/Naas/Naas_Start_data_product.ipynb\" target=\"_parent\">Generate Data Product</a>"
   ]
  },
  {
   "cell_type": "markdown",
   "id": "tags_cell",
   "metadata": {
    "papermill": {},
    "tags": []
   },
   "source": [
    "**Tags:** #googlesheets #gsheet #data #naas_drivers #operations #snippet #email"
   ]
  },
  {
   "cell_type": "markdown",
   "id": "4b01e71c-39e3-4556-9c45-4a08721d4a1f",
   "metadata": {
    "papermill": {},
    "tags": []
   },
   "source": [
    "**Author:** [Jeremy Ravenel](https://www.linkedin.com/in/ACoAAAJHE7sB5OxuKHuzguZ9L6lfDHqw--cdnJg/)"
   ]
  },
  {
   "cell_type": "markdown",
   "id": "naas-description",
   "metadata": {
    "papermill": {},
    "tags": [
     "description"
    ]
   },
   "source": [
    "**Description:** This notebook allows users to send emails directly from a Google Sheet."
   ]
  },
  {
   "cell_type": "markdown",
   "id": "input_cell",
   "metadata": {
    "papermill": {},
    "tags": []
   },
   "source": [
    "## Input"
   ]
  },
  {
   "cell_type": "markdown",
   "id": "78bee392-cead-4562-a97b-4ddf35f0cfee",
   "metadata": {
    "papermill": {},
    "tags": []
   },
   "source": [
    "### Import librairies"
   ]
  },
  {
   "cell_type": "code",
   "execution_count": 5,
   "id": "baking-company",
   "metadata": {
    "papermill": {},
    "tags": []
   },
   "outputs": [],
   "source": [
    "from naas_drivers import gsheet\n",
    "from naas_drivers import email"
   ]
  },
  {
   "cell_type": "markdown",
   "id": "b3213872-df9d-429a-8424-9e779bf2d8dc",
   "metadata": {
    "papermill": {},
    "tags": []
   },
   "source": [
    "### Variables"
   ]
  },
  {
   "cell_type": "code",
   "execution_count": null,
   "id": "e3e6157a-fc7d-436f-bf83-fdfc1d004c0b",
   "metadata": {
    "papermill": {},
    "tags": []
   },
   "outputs": [],
   "source": [
    "username = \"USERNAME\"\n",
    "password = \"PASSWORD\"\n",
    "email_from = (\"***@cashstory.com\",)\n",
    "smtp_server = (\"smtp.gmail.com\",)\n",
    "smtp_port = (465,)\n",
    "smtp_type = (\"SSL\",)"
   ]
  },
  {
   "cell_type": "markdown",
   "id": "model_cell",
   "metadata": {
    "papermill": {},
    "tags": []
   },
   "source": [
    "## Model"
   ]
  },
  {
   "cell_type": "markdown",
   "id": "comparative-fruit",
   "metadata": {
    "papermill": {},
    "tags": []
   },
   "source": [
    "### Connect to your gmail account"
   ]
  },
  {
   "cell_type": "code",
   "execution_count": null,
   "id": "unknown-experiment",
   "metadata": {
    "papermill": {},
    "tags": []
   },
   "outputs": [],
   "source": [
    "gmail = emails.connect(\n",
    "    username, password, email_from, smtp_server, smtp_port, smtp_type\n",
    ")"
   ]
  },
  {
   "cell_type": "markdown",
   "id": "excellent-nutrition",
   "metadata": {
    "papermill": {},
    "tags": []
   },
   "source": [
    "### Get email list from Gsheet"
   ]
  },
  {
   "cell_type": "code",
   "execution_count": 3,
   "id": "worse-wound",
   "metadata": {
    "papermill": {},
    "tags": []
   },
   "outputs": [],
   "source": [
    "spreadsheet_id = \"1s-TQZrevbmveFKlx2H49fgvr_nZPEY_ffoi0iWal**E\"\n",
    "sheet_name = \"********\"\n",
    "\n",
    "df = gsheet.connect(spreadsheet_id).get(sheet_name)\n",
    "df"
   ]
  },
  {
   "cell_type": "code",
   "execution_count": 11,
   "id": "incident-nickname",
   "metadata": {
    "papermill": {},
    "tags": []
   },
   "outputs": [],
   "source": [
    "emails = df[\"EMAIL\"].drop_duplicates().values\n",
    "print(emails)"
   ]
  },
  {
   "cell_type": "markdown",
   "id": "output_cell",
   "metadata": {
    "papermill": {},
    "tags": []
   },
   "source": [
    "## Output"
   ]
  },
  {
   "cell_type": "markdown",
   "id": "numerical-break",
   "metadata": {
    "papermill": {},
    "tags": []
   },
   "source": [
    "### Send emails batchs"
   ]
  },
  {
   "cell_type": "code",
   "execution_count": 12,
   "id": "recreational-corpus",
   "metadata": {
    "papermill": {},
    "tags": []
   },
   "outputs": [],
   "source": [
    "subject = \"The tesla action is going up\"\n",
    "content = \"check in the link the chart data maide from fresh dataset : [LINK]\"\n",
    "\n",
    "for email in emails:\n",
    "    print(email)\n",
    "#     gmail.send(email_to=email, subject=subject, html=content)"
   ]
  }
 ],
 "metadata": {
  "kernelspec": {
   "display_name": "Python 3",
   "language": "python",
   "name": "python3"
  },
  "language_info": {
   "codemirror_mode": {
    "name": "ipython",
    "version": 3
   },
   "file_extension": ".py",
   "mimetype": "text/x-python",
   "name": "python",
   "nbconvert_exporter": "python",
   "pygments_lexer": "ipython3",
   "version": "3.9.6"
  },
  "naas": {
   "notebook_id": "1dc4e7406a9def845c9736a3dba795b33642a578d2f4c4b1fca74ca2c075892b",
   "notebook_path": "Google Sheets/Google_Sheets_Send_emails_from_sheet.ipynb"
  },
  "papermill": {
   "default_parameters": {},
   "environment_variables": {},
   "parameters": {},
   "version": "2.3.3"
  }
 },
 "nbformat": 4,
 "nbformat_minor": 5
}