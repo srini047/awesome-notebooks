{
 "cells": [
  {
   "cell_type": "markdown",
   "id": "naas-logo",
   "metadata": {
    "papermill": {},
    "tags": [
     "naas"
    ]
   },
   "source": [
    "<img width=\"10%\" alt=\"Naas\" src=\"https://landen.imgix.net/jtci2pxwjczr/assets/5ice39g4.png?w=160\"/>"
   ]
  },
  {
   "cell_type": "markdown",
   "id": "neither-composition",
   "metadata": {
    "papermill": {},
    "tags": []
   },
   "source": [
    "# EM-DAT - Natural disasters\n",
    "<a href=\"https://app.naas.ai/user-redirect/naas/downloader?url=https://raw.githubusercontent.com/jupyter-naas/awesome-notebooks/master/EM-DAT/EM-DAT_natural_disasters.ipynb\" target=\"_parent\"><img src=\"https://naasai-public.s3.eu-west-3.amazonaws.com/open_in_naas.svg\"/></a><br><br><a href=\"https://github.com/jupyter-naas/awesome-notebooks/issues/new?assignees=&labels=&template=template-request.md&title=Tool+-+Action+of+the+notebook+\">Template request</a> | <a href=\"https://github.com/jupyter-naas/awesome-notebooks/issues/new?assignees=&labels=bug&template=bug_report.md&title=EM-DAT+-+Natural+disasters:+Error+short+description\">Bug report</a>"
   ]
  },
  {
   "cell_type": "markdown",
   "id": "9376ce7a-565f-4fc8-951c-d0adec51b01b",
   "metadata": {
    "papermill": {},
    "tags": []
   },
   "source": [
    "**Tags:** #em-dat #emdat #opendata #analytics #plotly"
   ]
  },
  {
   "cell_type": "markdown",
   "id": "naas-author",
   "metadata": {
    "papermill": {},
    "tags": [
     "naas"
    ]
   },
   "source": [
    "**Author:** [Jeremy Ravenel](https://www.linkedin.com/in/ACoAAAJHE7sB5OxuKHuzguZ9L6lfDHqw--cdnJg/)"
   ]
  },
  {
   "cell_type": "markdown",
   "id": "disciplinary-adapter",
   "metadata": {
    "papermill": {},
    "tags": []
   },
   "source": [
    "In 1988, the Centre for Research on the Epidemiology of Disasters (CRED) launched the Emergency Events Database (EM-DAT). [EM-DAT](https://www.emdat.be/) was created with the initial support of the World Health Organisation (WHO) and the Belgian Government."
   ]
  },
  {
   "cell_type": "markdown",
   "id": "tested-semiconductor",
   "metadata": {
    "papermill": {},
    "tags": []
   },
   "source": [
    "**Idea of improvements :**\n",
    "- Put all the curves of natural disasters in a logarithmic graph"
   ]
  },
  {
   "cell_type": "markdown",
   "id": "infectious-clark",
   "metadata": {
    "execution": {
     "iopub.execute_input": "2021-04-22T10:12:55.617427Z",
     "iopub.status.busy": "2021-04-22T10:12:55.617158Z",
     "iopub.status.idle": "2021-04-22T10:12:55.622257Z",
     "shell.execute_reply": "2021-04-22T10:12:55.621714Z",
     "shell.execute_reply.started": "2021-04-22T10:12:55.617362Z"
    },
    "papermill": {},
    "tags": []
   },
   "source": [
    "## Input"
   ]
  },
  {
   "cell_type": "markdown",
   "id": "42e70040-4d0f-4181-8c43-e86b65166481",
   "metadata": {
    "papermill": {},
    "tags": []
   },
   "source": [
    "In order to use this script, you need to download the dataset on this link :\n",
    "https://public.emdat.be/\n",
    "- Create an account and connect\n",
    "- Go to \"Data\" tab\n",
    "- Enter your filters criteria\n",
    "- Press \"Download\""
   ]
  },
  {
   "cell_type": "markdown",
   "id": "7e0c3a7a-0862-4d2b-822b-5635c96c89f8",
   "metadata": {
    "papermill": {},
    "tags": []
   },
   "source": [
    "### Import librairies"
   ]
  },
  {
   "cell_type": "code",
   "execution_count": null,
   "id": "adjusted-scholar",
   "metadata": {
    "papermill": {},
    "tags": []
   },
   "outputs": [],
   "source": [
    "import pandas as pd\n",
    "import plotly.express as px"
   ]
  },
  {
   "cell_type": "markdown",
   "id": "0f1d5105-61c0-46e8-a6d7-26ae2a2fd583",
   "metadata": {
    "papermill": {},
    "tags": []
   },
   "source": [
    "### Variable"
   ]
  },
  {
   "cell_type": "code",
   "execution_count": null,
   "id": "ee52b8fb-c5d9-4f78-96e2-15dedd17f645",
   "metadata": {
    "papermill": {},
    "tags": []
   },
   "outputs": [],
   "source": [
    "PATH_CSV = \"path_to_your_file.csv\""
   ]
  },
  {
   "cell_type": "markdown",
   "id": "molecular-effect",
   "metadata": {
    "execution": {
     "iopub.execute_input": "2021-04-22T10:12:55.617427Z",
     "iopub.status.busy": "2021-04-22T10:12:55.617158Z",
     "iopub.status.idle": "2021-04-22T10:12:55.622257Z",
     "shell.execute_reply": "2021-04-22T10:12:55.621714Z",
     "shell.execute_reply.started": "2021-04-22T10:12:55.617362Z"
    },
    "papermill": {},
    "tags": []
   },
   "source": [
    "## Model"
   ]
  },
  {
   "cell_type": "markdown",
   "id": "56ef6169-e4de-41aa-ac7c-c4a1cbd6f1f5",
   "metadata": {
    "papermill": {},
    "tags": []
   },
   "source": [
    "### Read the CSV"
   ]
  },
  {
   "cell_type": "code",
   "execution_count": null,
   "id": "individual-webcam",
   "metadata": {
    "papermill": {},
    "tags": []
   },
   "outputs": [],
   "source": [
    "df = pd.read_csv(PATH_CSV)"
   ]
  },
  {
   "cell_type": "markdown",
   "id": "56895ee7-3500-44b9-87d4-0cb6ec3ff6dd",
   "metadata": {
    "papermill": {},
    "tags": []
   },
   "source": [
    "### Configure the plot"
   ]
  },
  {
   "cell_type": "code",
   "execution_count": null,
   "id": "educational-explanation",
   "metadata": {
    "papermill": {},
    "tags": []
   },
   "outputs": [],
   "source": [
    "# Types\n",
    "types_df = df[[\"Year\", \"Disaster Type\"]]\n",
    "total_line = types_df[[\"Year\"]].value_counts().reset_index(name=\"value\")\n",
    "total_line[\"Disaster Type\"] = \"All\"\n",
    "types_df = types_df.groupby([\"Year\", \"Disaster Type\"]).size().reset_index(name=\"value\")\n",
    "types_df = types_df.append(total_line).sort_values(by=[\"Year\"])\n",
    "\n",
    "# Countries\n",
    "count_by_countries = (\n",
    "    df[[\"Year\", \"ISO\", \"Country\"]]\n",
    "    .groupby([\"Year\", \"ISO\", \"Country\"])\n",
    "    .size()\n",
    "    .reset_index(name=\"counts\")\n",
    ")"
   ]
  },
  {
   "cell_type": "markdown",
   "id": "protected-price",
   "metadata": {
    "papermill": {},
    "tags": []
   },
   "source": [
    "## Output"
   ]
  },
  {
   "cell_type": "code",
   "execution_count": null,
   "id": "inappropriate-expense",
   "metadata": {
    "papermill": {},
    "tags": []
   },
   "outputs": [],
   "source": [
    "fig = px.choropleth(\n",
    "    count_by_countries,\n",
    "    locations=\"ISO\",\n",
    "    color=\"counts\",\n",
    "    hover_name=\"Country\",\n",
    "    animation_frame=\"Year\",\n",
    "    title=\"Number of natural disasters per country\",\n",
    "    color_continuous_scale=px.colors.sequential.OrRd,\n",
    "    range_color=[0, count_by_countries[\"counts\"].max()],\n",
    ")\n",
    "\n",
    "fig.update_layout(\n",
    "    width=850, height=600, autosize=False, template=\"plotly_white\", title_x=0.5\n",
    ")\n",
    "fig.show()"
   ]
  },
  {
   "cell_type": "code",
   "execution_count": null,
   "id": "cutting-island",
   "metadata": {
    "papermill": {},
    "tags": []
   },
   "outputs": [],
   "source": [
    "common_kwargs = {\n",
    "    \"x\": \"Year\",\n",
    "    \"y\": \"value\",\n",
    "    \"title\": \"Number of natural disasters per year\",\n",
    "}\n",
    "\n",
    "line_fig = px.line(types_df[types_df[\"Disaster Type\"] == \"All\"], **common_kwargs)\n",
    "lineplt_all = px.line(types_df[types_df[\"Disaster Type\"] == \"All\"], **common_kwargs)\n",
    "lineplt_filtered = {\n",
    "    disaster_type: px.line(\n",
    "        types_df[types_df[\"Disaster Type\"] == disaster_type], **common_kwargs\n",
    "    )\n",
    "    for disaster_type in types_df[\"Disaster Type\"].unique()\n",
    "    if disaster_type != \"All\"\n",
    "}\n",
    "# Add dropdown\n",
    "line_fig.update_layout(\n",
    "    updatemenus=[\n",
    "        dict(\n",
    "            buttons=list(\n",
    "                [\n",
    "                    dict(\n",
    "                        label=\"All disasters\",\n",
    "                        method=\"restyle\",\n",
    "                        args=[{\"y\": [data.y for data in lineplt_all.data]}],\n",
    "                    )\n",
    "                ]\n",
    "                + [\n",
    "                    dict(\n",
    "                        label=disaster_type,\n",
    "                        method=\"restyle\",\n",
    "                        args=[\n",
    "                            {\n",
    "                                \"y\": [data.y for data in lineplt.data],\n",
    "                            }\n",
    "                        ],\n",
    "                    )\n",
    "                    for disaster_type, lineplt in lineplt_filtered.items()\n",
    "                ]\n",
    "            ),\n",
    "        ),\n",
    "    ],\n",
    "    title_x=0.5,\n",
    "    plot_bgcolor=\"rgba(0,0,0,0)\",\n",
    ")\n",
    "line_fig.update_xaxes(gridcolor=\"grey\")\n",
    "line_fig.update_yaxes(gridcolor=\"grey\")\n",
    "line_fig.show()"
   ]
  }
 ],
 "metadata": {
  "kernelspec": {
   "display_name": "Python 3",
   "language": "python",
   "name": "python3"
  },
  "language_info": {
   "codemirror_mode": {
    "name": "ipython",
    "version": 3
   },
   "file_extension": ".py",
   "mimetype": "text/x-python",
   "name": "python",
   "nbconvert_exporter": "python",
   "pygments_lexer": "ipython3",
   "version": "3.9.6"
  },
  "naas": {
   "notebook_id": "94dda8db-8511-4d75-8544-aa63e2192f50",
   "notebook_path": "EM-DAT/EM-DAT_natural_disasters.ipynb"
  },
  "papermill": {
   "default_parameters": {},
   "environment_variables": {},
   "parameters": {},
   "version": "2.3.3"
  }
 },
 "nbformat": 4,
 "nbformat_minor": 5
}