{
 "cells": [
  {
   "cell_type": "markdown",
   "id": "naas-logo",
   "metadata": {
    "papermill": {},
    "tags": [
     "naas"
    ]
   },
   "source": [
    "<img width=\"10%\" alt=\"Naas\" src=\"https://landen.imgix.net/jtci2pxwjczr/assets/5ice39g4.png?w=160\"/>"
   ]
  },
  {
   "cell_type": "markdown",
   "id": "4ff41855-5096-45ac-8153-8a27ee7a103b",
   "metadata": {
    "papermill": {},
    "tags": []
   },
   "source": [
    "# Pipedrive - Get contact\n",
    "<a href=\"https://app.naas.ai/user-redirect/naas/downloader?url=https://raw.githubusercontent.com/jupyter-naas/awesome-notebooks/master/Pipedrive/Pipedrive_Get_contact.ipynb\" target=\"_parent\"><img src=\"https://naasai-public.s3.eu-west-3.amazonaws.com/open_in_naas.svg\"/></a><br><br><a href=\"https://github.com/jupyter-naas/awesome-notebooks/issues/new?assignees=&labels=&template=template-request.md&title=Tool+-+Action+of+the+notebook+\">Template request</a> | <a href=\"https://github.com/jupyter-naas/awesome-notebooks/issues/new?assignees=&labels=bug&template=bug_report.md&title=Pipedrive+-+Get+contact:+Error+short+description\">Bug report</a>"
   ]
  },
  {
   "cell_type": "markdown",
   "id": "fc7aa3da-b83d-4a39-bf70-adc14e2f84ce",
   "metadata": {
    "papermill": {},
    "tags": []
   },
   "source": [
    "**Tags:** #pipedrive #crm #contact #sales #snippet #dataframe"
   ]
  },
  {
   "cell_type": "markdown",
   "id": "naas-author",
   "metadata": {
    "papermill": {},
    "tags": [
     "naas"
    ]
   },
   "source": [
    "**Author:** [Alok Chilka](https://www.linkedin.com/in/calok64/)"
   ]
  },
  {
   "cell_type": "markdown",
   "id": "naas-description",
   "metadata": {
    "papermill": {},
    "tags": [
     "description"
    ]
   },
   "source": [
    "**Description:** This notebook provides a way to quickly and easily get contact information from Pipedrive."
   ]
  },
  {
   "cell_type": "markdown",
   "id": "78990599-5bdc-4db0-ab6b-0fd33a09c51f",
   "metadata": {
    "papermill": {},
    "tags": []
   },
   "source": [
    "## Input"
   ]
  },
  {
   "cell_type": "markdown",
   "id": "16dc40ab-a318-43b0-b82a-1785583560cb",
   "metadata": {
    "papermill": {},
    "tags": []
   },
   "source": [
    "### Import libraries"
   ]
  },
  {
   "cell_type": "code",
   "execution_count": 1,
   "id": "1feaf127-efce-4e04-a022-15a8cce0ee94",
   "metadata": {
    "execution": {
     "iopub.execute_input": "2021-11-10T09:07:14.963379Z",
     "iopub.status.busy": "2021-11-10T09:07:14.960646Z",
     "iopub.status.idle": "2021-11-10T09:07:15.968796Z",
     "shell.execute_reply": "2021-11-10T09:07:15.968149Z",
     "shell.execute_reply.started": "2021-11-10T09:07:14.963264Z"
    },
    "papermill": {},
    "tags": []
   },
   "outputs": [],
   "source": [
    "try:\n",
    "    from pipedrive.client import Client\n",
    "except:\n",
    "    !pip install pipedrive-python-lib\n",
    "    from pipedrive.client import Client\n",
    "import pandas as pd"
   ]
  },
  {
   "cell_type": "markdown",
   "id": "7e2ab21e-380a-4dcd-85d1-bea50bb07ed3",
   "metadata": {
    "papermill": {},
    "tags": []
   },
   "source": [
    "### Enter your api KEY"
   ]
  },
  {
   "cell_type": "markdown",
   "id": "d2f07d10-ec72-4907-a8f5-492fe2200b6b",
   "metadata": {
    "papermill": {},
    "tags": []
   },
   "source": [
    "<b>Domain & API Key</b>\n",
    "<p>Go to Account - Personal Preferences - API Key Tab - Click on Generate New Token</p>\n",
    "<p>Add the key to line 2 in below cell</p>"
   ]
  },
  {
   "cell_type": "code",
   "execution_count": null,
   "id": "80b59939-f156-485b-b59b-22c2a16f08ed",
   "metadata": {
    "papermill": {},
    "tags": []
   },
   "outputs": [],
   "source": [
    "DOMAIN = \"https://your_domain.pipedrive.com\"\n",
    "API_KEY = \"your_api_key\""
   ]
  },
  {
   "cell_type": "markdown",
   "id": "5773fc30-ee6e-4e84-b6a3-e5dcd2695347",
   "metadata": {
    "papermill": {},
    "tags": []
   },
   "source": [
    "### Connect to Pipedrive"
   ]
  },
  {
   "cell_type": "code",
   "execution_count": null,
   "id": "a3bd5da5-752c-4d5f-9af6-da36d75ab1c9",
   "metadata": {
    "papermill": {},
    "tags": []
   },
   "outputs": [],
   "source": [
    "client = Client(domain=DOMAIN)\n",
    "client.set_api_token(API_KEY)"
   ]
  },
  {
   "cell_type": "markdown",
   "id": "58e9b10e-8e31-4a28-a713-953ed0b8a00a",
   "metadata": {
    "papermill": {},
    "tags": []
   },
   "source": [
    "## Model"
   ]
  },
  {
   "cell_type": "markdown",
   "id": "56f64858-a238-4f5e-9d6f-f7158dbbe5e9",
   "metadata": {
    "papermill": {},
    "tags": []
   },
   "source": [
    "### Get all contacts"
   ]
  },
  {
   "cell_type": "code",
   "execution_count": null,
   "id": "a8fa5772-3c85-427e-8a8c-5fb78086b630",
   "metadata": {
    "papermill": {},
    "tags": []
   },
   "outputs": [],
   "source": [
    "response = client.persons.get_all_persons()  # returns all the records present in CRM\n",
    "dataKey = response.get(\"data\", None)  # the key with all records\n",
    "userInfo = {}  # empty dictionary for storing data in user object\n",
    "users = []  # empty list to store multiple user objects"
   ]
  },
  {
   "cell_type": "code",
   "execution_count": null,
   "id": "69a74f35-57ac-4378-8cf4-6f97b943c7a6",
   "metadata": {
    "papermill": {},
    "tags": []
   },
   "outputs": [],
   "source": [
    "for dataKeyItem in dataKey:  # Iterate through each record\n",
    "    phonelist = []\n",
    "    emaillist = []\n",
    "    for phone in dataKeyItem[\"phone\"]:\n",
    "        phonelist.append(phone[\"value\"])\n",
    "\n",
    "    for email in dataKeyItem[\"email\"]:\n",
    "        emaillist.append(email[\"value\"])\n",
    "\n",
    "    userInfo = {\n",
    "        \"FirstName\": dataKeyItem[\"first_name\"],\n",
    "        \"LastName\": dataKeyItem[\"last_name\"],\n",
    "        \"Phone\": phonelist,\n",
    "        \"Email\": emaillist,\n",
    "        \"Company\": dataKeyItem[\"org_name\"],\n",
    "        \"Job\": dataKeyItem[\n",
    "            \"your_field_api_key\"\n",
    "        ],  # once you create a field you will find the resepect field api key in Accounts - Data Fields section\n",
    "    }\n",
    "    users.append(userInfo)"
   ]
  },
  {
   "cell_type": "markdown",
   "id": "70b2e635-93c5-4356-a3b6-d10f3fea2596",
   "metadata": {
    "papermill": {},
    "tags": []
   },
   "source": [
    "## Output"
   ]
  },
  {
   "cell_type": "markdown",
   "id": "1f67ffdc-858b-4b76-a696-e01062a979aa",
   "metadata": {
    "papermill": {},
    "tags": []
   },
   "source": [
    "### Display result"
   ]
  },
  {
   "cell_type": "code",
   "execution_count": null,
   "id": "bbabab1e-53bd-454e-9d98-beb8b39154da",
   "metadata": {
    "papermill": {},
    "tags": []
   },
   "outputs": [],
   "source": [
    "# use below line to adjust the display of columns and rows\n",
    "pd.set_option(\"display.max_rows\", None, \"display.max_columns\", 4)\n",
    "\n",
    "# the below dataframe has sample data from Pipedrive CRM.\n",
    "personsDF = pd.DataFrame(users)\n",
    "print(personsDF)"
   ]
  }
 ],
 "metadata": {
  "kernelspec": {
   "display_name": "Python 3",
   "language": "python",
   "name": "python3"
  },
  "language_info": {
   "codemirror_mode": {
    "name": "ipython",
    "version": 3
   },
   "file_extension": ".py",
   "mimetype": "text/x-python",
   "name": "python",
   "nbconvert_exporter": "python",
   "pygments_lexer": "ipython3",
   "version": "3.9.6"
  },
  "naas": {
   "notebook_id": "5422ceed-4d16-4e78-986c-72aa56e75278",
   "notebook_path": "Pipedrive/Pipedrive_Get_contact.ipynb"
  },
  "papermill": {
   "default_parameters": {},
   "environment_variables": {},
   "parameters": {},
   "version": "2.3.3"
  }
 },
 "nbformat": 4,
 "nbformat_minor": 5
}