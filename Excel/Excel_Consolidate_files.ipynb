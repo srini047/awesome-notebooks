{
 "cells": [
  {
   "cell_type": "markdown",
   "id": "tropical-breakfast",
   "metadata": {
    "papermill": {},
    "tags": []
   },
   "source": [
    "<img width=\"10%\" alt=\"Naas\" src=\"https://landen.imgix.net/jtci2pxwjczr/assets/5ice39g4.png?w=160\"/>"
   ]
  },
  {
   "cell_type": "markdown",
   "id": "danish-allergy",
   "metadata": {
    "papermill": {},
    "tags": []
   },
   "source": [
    "# Excel - Consolidate files\n",
    "<a href=\"https://app.naas.ai/user-redirect/naas/downloader?url=https://raw.githubusercontent.com/jupyter-naas/awesome-notebooks/master/Excel/Excel_Consolidate_files.ipynb\" target=\"_parent\"><img src=\"https://naasai-public.s3.eu-west-3.amazonaws.com/open_in_naas.svg\"/></a><br><br><a href=\"https://github.com/jupyter-naas/awesome-notebooks/issues/new?assignees=&labels=&template=template-request.md&title=Tool+-+Action+of+the+notebook+\">Template request</a> | <a href=\"https://github.com/jupyter-naas/awesome-notebooks/issues/new?assignees=&labels=bug&template=bug_report.md&title=Excel+-+Consolidate+files:+Error+short+description\">Bug report</a>"
   ]
  },
  {
   "cell_type": "markdown",
   "id": "978e5e32-8839-4b39-abb7-f5e8bda9f313",
   "metadata": {
    "papermill": {},
    "tags": []
   },
   "source": [
    "**Tags:** #excel #pandas #read #save #naas #asset #finance #snippet"
   ]
  },
  {
   "cell_type": "markdown",
   "id": "1bf0834d-3a8e-4f4a-98ee-fdbcc2ee650f",
   "metadata": {
    "papermill": {},
    "tags": []
   },
   "source": [
    "**Author:** [Florent Ravenel](https://www.linkedin.com/in/ACoAABCNSioBW3YZHc2lBHVG0E_TXYWitQkmwog/)"
   ]
  },
  {
   "cell_type": "markdown",
   "id": "naas-description",
   "metadata": {
    "papermill": {},
    "tags": [
     "description"
    ]
   },
   "source": [
    "**Description:** This notebook provides a comprehensive guide to consolidating multiple Excel files into one."
   ]
  },
  {
   "cell_type": "markdown",
   "id": "surgical-birmingham",
   "metadata": {
    "papermill": {},
    "tags": []
   },
   "source": [
    "## Input"
   ]
  },
  {
   "cell_type": "markdown",
   "id": "2112a917-9ba5-4ed3-b7c1-f204f0aca263",
   "metadata": {
    "papermill": {},
    "tags": []
   },
   "source": [
    "### Import libraries"
   ]
  },
  {
   "cell_type": "code",
   "execution_count": null,
   "id": "f7876579-4803-4130-b095-497225f417f7",
   "metadata": {
    "papermill": {},
    "tags": []
   },
   "outputs": [],
   "source": [
    "import pandas as pd\n",
    "import naas"
   ]
  },
  {
   "cell_type": "markdown",
   "id": "6ae0fb10-e3c2-4ced-bd32-c2112195dc24",
   "metadata": {
    "papermill": {},
    "tags": []
   },
   "source": [
    "### Variables"
   ]
  },
  {
   "cell_type": "code",
   "execution_count": null,
   "id": "0e204bc4-efbf-4dc5-b947-9fe568724fc6",
   "metadata": {
    "papermill": {},
    "tags": []
   },
   "outputs": [],
   "source": [
    "# Input\n",
    "excel_file_path1 = \"Excel-Sales_Jan2020.xlsx\"\n",
    "excel_file_path2 = \"Excel-Sales_Jan2020.xlsx\"\n",
    "\n",
    "# Output\n",
    "excel_output_path = \"Conso.xlsx\""
   ]
  },
  {
   "cell_type": "markdown",
   "id": "4b24dceb-ed1e-4af9-af4e-48f592e2438b",
   "metadata": {
    "papermill": {},
    "tags": []
   },
   "source": [
    "## Model"
   ]
  },
  {
   "cell_type": "markdown",
   "id": "656610e2-5595-429c-ae1e-ccb1d32671d7",
   "metadata": {
    "papermill": {},
    "tags": []
   },
   "source": [
    "### Read the 2 Excel files"
   ]
  },
  {
   "cell_type": "markdown",
   "id": "f08eea54-87b0-4aba-8c5a-2a856c9ed8ca",
   "metadata": {
    "execution": {
     "iopub.execute_input": "2022-02-22T07:35:00.624021Z",
     "iopub.status.busy": "2022-02-22T07:35:00.623743Z",
     "iopub.status.idle": "2022-02-22T07:35:00.632235Z",
     "shell.execute_reply": "2022-02-22T07:35:00.631300Z",
     "shell.execute_reply.started": "2022-02-22T07:35:00.623996Z"
    },
    "papermill": {},
    "tags": []
   },
   "source": [
    "You want to add more parameters ?<br>\n",
    "👉 Check out the pandas documentation <a href=\"https://pandas.pydata.org/docs/reference/api/pandas.read_excel.html\">here</a>."
   ]
  },
  {
   "cell_type": "code",
   "execution_count": null,
   "id": "hawaiian-consortium",
   "metadata": {
    "papermill": {},
    "tags": []
   },
   "outputs": [],
   "source": [
    "df1 = pd.read_excel(excel_file_path1)\n",
    "df1"
   ]
  },
  {
   "cell_type": "code",
   "execution_count": null,
   "id": "8c49069f-527a-48bb-a64d-0ffd4f6a43d9",
   "metadata": {
    "papermill": {},
    "tags": []
   },
   "outputs": [],
   "source": [
    "df2 = pd.read_excel(excel_file_path2)\n",
    "df2"
   ]
  },
  {
   "cell_type": "markdown",
   "id": "5f920cc5-720c-41bf-8f25-9781c749bb7d",
   "metadata": {
    "execution": {
     "iopub.execute_input": "2022-02-22T07:45:54.739735Z",
     "iopub.status.busy": "2022-02-22T07:45:54.739510Z",
     "iopub.status.idle": "2022-02-22T07:45:54.742268Z",
     "shell.execute_reply": "2022-02-22T07:45:54.741637Z",
     "shell.execute_reply.started": "2022-02-22T07:45:54.739712Z"
    },
    "papermill": {},
    "tags": []
   },
   "source": [
    "### Consolidate Excel"
   ]
  },
  {
   "cell_type": "code",
   "execution_count": null,
   "id": "021bf550-bdb4-4951-8c78-4a1a40e959b5",
   "metadata": {
    "papermill": {},
    "tags": []
   },
   "outputs": [],
   "source": [
    "df_concat = pd.concat([df1, df2], axis=0).reset_index(drop=True)\n",
    "df_concat"
   ]
  },
  {
   "cell_type": "markdown",
   "id": "expired-target",
   "metadata": {
    "papermill": {},
    "tags": []
   },
   "source": [
    "## Output"
   ]
  },
  {
   "cell_type": "markdown",
   "id": "6a76ae5d-9117-420f-84f4-49ab28e4a8f3",
   "metadata": {
    "papermill": {},
    "tags": []
   },
   "source": [
    "### Save dataframe to Excel"
   ]
  },
  {
   "cell_type": "markdown",
   "id": "d74b94f6-f41a-4eeb-a5c8-3a641cc8ccfb",
   "metadata": {
    "papermill": {},
    "tags": []
   },
   "source": [
    "You want to add more parameters ?<br>\n",
    "👉 Check out the pandas documentation <a href=\"https://pandas.pydata.org/docs/reference/api/pandas.read_excel.html\">here</a>."
   ]
  },
  {
   "cell_type": "code",
   "execution_count": null,
   "id": "agreed-correspondence",
   "metadata": {
    "papermill": {},
    "tags": []
   },
   "outputs": [],
   "source": [
    "df_concat.to_excel(excel_output_path)\n",
    "print(f'💾 Excel '{excel_output_path}' successfully saved in Naas.')"
   ]
  },
  {
   "cell_type": "markdown",
   "id": "79104f6b-600f-4903-910e-8123b78976fb",
   "metadata": {
    "papermill": {},
    "tags": []
   },
   "source": [
    "### Share excel with Naas"
   ]
  },
  {
   "cell_type": "code",
   "execution_count": null,
   "id": "d3e14a28-07cd-4f29-9aa9-a289ea4a4f6c",
   "metadata": {
    "papermill": {},
    "tags": []
   },
   "outputs": [],
   "source": [
    "naas.asset.add(excel_output_path)"
   ]
  }
 ],
 "metadata": {
  "kernelspec": {
   "display_name": "Python 3",
   "language": "python",
   "name": "python3"
  },
  "language_info": {
   "codemirror_mode": {
    "name": "ipython",
    "version": 3
   },
   "file_extension": ".py",
   "mimetype": "text/x-python",
   "name": "python",
   "nbconvert_exporter": "python",
   "pygments_lexer": "ipython3",
   "version": "3.9.6"
  },
  "naas": {
   "notebook_id": "97f34dd5-7ca1-48bf-9327-836371473c9d",
   "notebook_path": "Excel/Excel_Consolidate_files.ipynb"
  },
  "papermill": {
   "default_parameters": {},
   "environment_variables": {},
   "parameters": {},
   "version": "2.3.3"
  }
 },
 "nbformat": 4,
 "nbformat_minor": 5
}