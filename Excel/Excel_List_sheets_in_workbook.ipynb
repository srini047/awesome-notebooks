{
 "cells": [
  {
   "cell_type": "markdown",
   "id": "0d60302d-35f4-4c28-b347-47972ee784cb",
   "metadata": {
    "papermill": {},
    "tags": []
   },
   "source": [
    "<img width=\"10%\" alt=\"Naas\" src=\"https://landen.imgix.net/jtci2pxwjczr/assets/5ice39g4.png?w=160\"/>"
   ]
  },
  {
   "cell_type": "markdown",
   "id": "05d428eb-d6c7-44b1-b7dc-c0558ec649a1",
   "metadata": {
    "papermill": {},
    "tags": []
   },
   "source": [
    "# Excel - List sheets in workbook\n",
    "<a href=\"https://app.naas.ai/user-redirect/naas/downloader?url=https://raw.githubusercontent.com/jupyter-naas/awesome-notebooks/master/Excel/Excel_List_sheets_in_workbook.ipynb\" target=\"_parent\"><img src=\"https://naasai-public.s3.eu-west-3.amazonaws.com/Open_in_Naas_Lab.svg\"/></a><br><br><a href=\"https://github.com/jupyter-naas/awesome-notebooks/issues/new?assignees=&labels=&template=template-request.md&title=Tool+-+Action+of+the+notebook+\">Template request</a> | <a href=\"https://github.com/jupyter-naas/awesome-notebooks/issues/new?assignees=&labels=bug&template=bug_report.md&title=Excel+-+List+sheets+in+workbook:+Error+short+description\">Bug report</a> | <a href=\"https://app.naas.ai/user-redirect/naas/downloader?url=https://raw.githubusercontent.com/jupyter-naas/awesome-notebooks/master/Naas/Naas_Start_data_product.ipynb\" target=\"_parent\">Generate Data Product</a>"
   ]
  },
  {
   "cell_type": "markdown",
   "id": "a459f7e3-b4ce-4817-b5bb-5db5997ecf47",
   "metadata": {
    "papermill": {},
    "tags": []
   },
   "source": [
    "**Tags:** #excel #list #sheets #workbook #data #analysis"
   ]
  },
  {
   "cell_type": "markdown",
   "id": "0acaf015-e098-4137-ae05-5637ae303ab1",
   "metadata": {
    "papermill": {},
    "tags": []
   },
   "source": [
    "**Author:** [Florent Ravenel](http://linkedin.com/in/florent-ravenel)"
   ]
  },
  {
   "cell_type": "markdown",
   "id": "cd3aa444-1a0b-40f4-b452-735e7efc7bab",
   "metadata": {
    "papermill": {},
    "tags": []
   },
   "source": [
    "**Description:** This notebook will list the sheet's name in an Excel workbook."
   ]
  },
  {
   "cell_type": "markdown",
   "id": "7652ddc6-2bc2-483c-8a14-69e310af1464",
   "metadata": {
    "papermill": {},
    "tags": []
   },
   "source": [
    "**References:**\n",
    "- [Python openpyxl](https://openpyxl.readthedocs.io/en/stable/)"
   ]
  },
  {
   "cell_type": "markdown",
   "id": "288da4ee-9dce-4f0c-9076-540ed62d5f59",
   "metadata": {
    "papermill": {},
    "tags": []
   },
   "source": [
    "## Input"
   ]
  },
  {
   "cell_type": "markdown",
   "id": "c0b905f7-4c08-4c73-b08c-1f7e1fdc355f",
   "metadata": {
    "papermill": {},
    "tags": []
   },
   "source": [
    "### Import libraries"
   ]
  },
  {
   "cell_type": "code",
   "execution_count": null,
   "id": "c5e4d63d-ec12-40f3-af26-388df6492d4c",
   "metadata": {
    "papermill": {},
    "tags": []
   },
   "outputs": [],
   "source": [
    "import openpyxl\n",
    "import os"
   ]
  },
  {
   "cell_type": "markdown",
   "id": "86fe170f-13d7-4a9c-8b68-31ebfeb76545",
   "metadata": {
    "papermill": {},
    "tags": []
   },
   "source": [
    "### Setup Variables\n",
    "- `file_path`: path of the Excel workbook\n",
    "- `sheets`: list of sheets in Excel workbook"
   ]
  },
  {
   "cell_type": "code",
   "execution_count": null,
   "id": "0ee7c1ec-eae9-4072-97c5-5dd4e14350ea",
   "metadata": {
    "papermill": {},
    "tags": []
   },
   "outputs": [],
   "source": [
    "# Inputs\n",
    "file_path = \"Conso.xlsx\"\n",
    "\n",
    "# Outputs\n",
    "sheets = []"
   ]
  },
  {
   "cell_type": "markdown",
   "id": "6cb01280-58e7-4d38-9d5c-47c0ab503362",
   "metadata": {
    "papermill": {},
    "tags": []
   },
   "source": [
    "## Model"
   ]
  },
  {
   "cell_type": "markdown",
   "id": "4b63e537-4a70-4ca1-b522-aea306b3fddc",
   "metadata": {
    "papermill": {},
    "tags": []
   },
   "source": [
    "### List sheets in workbook\n",
    "The load_workbook function loads the workbook into memory, and sheetnames property returns a list of sheet names in the workbook. Finally, we loop over the sheet names and print them out."
   ]
  },
  {
   "cell_type": "code",
   "execution_count": null,
   "id": "332e516c-7a08-4e7d-9d04-5aef6f072d82",
   "metadata": {
    "papermill": {},
    "tags": []
   },
   "outputs": [],
   "source": [
    "if os.path.exists(file_path):\n",
    "    # Load the workbook\n",
    "    workbook = openpyxl.load_workbook(file_path)\n",
    "\n",
    "    # Get the sheet names\n",
    "    sheet_names = workbook.sheetnames\n",
    "\n",
    "    # Print the sheet names\n",
    "    for sheet_name in sheet_names:\n",
    "        print(sheet_name)\n",
    "        sheets += [sheet_name]\n",
    "else:\n",
    "    print(f\"❌ Excel path '{file_path}' does not exist. Please update it on your variables.\")"
   ]
  },
  {
   "cell_type": "markdown",
   "id": "ce502ca3-b97b-4050-89e4-0affc33af600",
   "metadata": {
    "papermill": {},
    "tags": []
   },
   "source": [
    "## Output"
   ]
  },
  {
   "cell_type": "markdown",
   "id": "44bde090-e243-4d0b-ae7a-e9ccba3bd651",
   "metadata": {
    "papermill": {},
    "tags": []
   },
   "source": [
    "### Display result"
   ]
  },
  {
   "cell_type": "code",
   "execution_count": null,
   "id": "ec9f5332-2c04-4e37-8802-f83a502b05b0",
   "metadata": {
    "papermill": {},
    "tags": []
   },
   "outputs": [],
   "source": [
    "print(sheets)"
   ]
  },
  {
   "cell_type": "markdown",
   "id": "7c4d4da9-ea96-4a3e-b6ab-71e57b24bddd",
   "metadata": {
    "papermill": {},
    "tags": []
   },
   "source": [
    " "
   ]
  }
 ],
 "metadata": {
  "kernelspec": {
   "display_name": "Python 3",
   "language": "python",
   "name": "python3"
  },
  "language_info": {
   "codemirror_mode": {
    "name": "ipython",
    "version": 3
   },
   "file_extension": ".py",
   "mimetype": "text/x-python",
   "name": "python",
   "nbconvert_exporter": "python",
   "pygments_lexer": "ipython3",
   "version": "3.9.6"
  },
  "naas": {
   "notebook_id": "b92ea8d1185531f94864792601a94a86b90d79e8d8da49977d1ffdc87a6cce41",
   "notebook_path": "Excel/Excel_List_sheets_in_workbook.ipynb"
  },
  "papermill": {
   "default_parameters": {},
   "environment_variables": {},
   "parameters": {},
   "version": "2.4.0"
  },
  "widgets": {
   "application/vnd.jupyter.widget-state+json": {
    "state": {},
    "version_major": 2,
    "version_minor": 0
   }
  }
 },
 "nbformat": 4,
 "nbformat_minor": 5
}