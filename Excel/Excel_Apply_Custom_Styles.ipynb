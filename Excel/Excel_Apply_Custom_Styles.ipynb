{
 "cells": [
  {
   "cell_type": "markdown",
   "id": "latin-packing",
   "metadata": {
    "execution": {
     "iopub.execute_input": "2021-02-23T14:22:16.610471Z",
     "iopub.status.busy": "2021-02-23T14:22:16.610129Z",
     "iopub.status.idle": "2021-02-23T14:22:16.627784Z",
     "shell.execute_reply": "2021-02-23T14:22:16.626866Z",
     "shell.execute_reply.started": "2021-02-23T14:22:16.610384Z"
    },
    "papermill": {},
    "tags": []
   },
   "source": [
    "<img width=\"10%\" alt=\"Naas\" src=\"https://landen.imgix.net/jtci2pxwjczr/assets/5ice39g4.png?w=160\"/>"
   ]
  },
  {
   "cell_type": "markdown",
   "id": "compressed-wilson",
   "metadata": {
    "papermill": {},
    "tags": []
   },
   "source": [
    "# Excel - Apply Custom Styles\n",
    "<a href=\"https://app.naas.ai/user-redirect/naas/downloader?url=https://raw.githubusercontent.com/jupyter-naas/awesome-notebooks/master/Excel/Excel_Apply_Custom_Styles.ipynb\" target=\"_parent\"><img src=\"https://naasai-public.s3.eu-west-3.amazonaws.com/Open_in_Naas_Lab.svg\"/></a><br><br><a href=\"https://github.com/jupyter-naas/awesome-notebooks/issues/new?assignees=&labels=&template=template-request.md&title=Tool+-+Action+of+the+notebook+\">Template request</a> | <a href=\"https://github.com/jupyter-naas/awesome-notebooks/issues/new?assignees=&labels=bug&template=bug_report.md&title=Excel+-+Apply+Custom+Styles:+Error+short+description\">Bug report</a> | <a href=\"https://app.naas.ai/user-redirect/naas/downloader?url=https://raw.githubusercontent.com/jupyter-naas/awesome-notebooks/master/Naas/Naas_Start_data_product.ipynb\" target=\"_parent\">Generate Data Product</a>"
   ]
  },
  {
   "cell_type": "markdown",
   "id": "religious-programmer",
   "metadata": {
    "papermill": {},
    "tags": []
   },
   "source": [
    "**Tags:** #excel #openpyxl #font #border #background #naas #finance #snippet"
   ]
  },
  {
   "cell_type": "markdown",
   "id": "2a291197-14ba-4e65-95d0-7389081c7036",
   "metadata": {
    "papermill": {},
    "tags": []
   },
   "source": [
    "**Author:** [Sébastien Grech](https://www.linkedin.com/in/s%C3%A9bastien-grech-4433a7150/)"
   ]
  },
  {
   "cell_type": "markdown",
   "id": "naas-description",
   "metadata": {
    "papermill": {},
    "tags": [
     "description"
    ]
   },
   "source": [
    "**Description:** This notebook provides instructions on how to apply custom styles to an Excel spreadsheet."
   ]
  },
  {
   "cell_type": "markdown",
   "id": "distinguished-truth",
   "metadata": {
    "papermill": {},
    "tags": []
   },
   "source": [
    "## Input"
   ]
  },
  {
   "cell_type": "markdown",
   "id": "numeric-mediterranean",
   "metadata": {
    "papermill": {},
    "tags": []
   },
   "source": [
    "### Import libraries"
   ]
  },
  {
   "cell_type": "code",
   "execution_count": 1,
   "id": "potential-surfing",
   "metadata": {
    "papermill": {},
    "tags": []
   },
   "outputs": [],
   "source": [
    "import naas\n",
    "from openpyxl import load_workbook\n",
    "from openpyxl.cell import Cell\n",
    "from openpyxl.styles import Color, PatternFill, Font, Border\n",
    "from openpyxl.styles.borders import Border, Side"
   ]
  },
  {
   "cell_type": "markdown",
   "id": "f602b6d3-91df-4be8-a555-2f51b7391c38",
   "metadata": {
    "papermill": {},
    "tags": []
   },
   "source": [
    "### Setup your variables"
   ]
  },
  {
   "cell_type": "code",
   "execution_count": 2,
   "id": "9fffaceb-bbbe-4e8a-bc87-46fc53fd2245",
   "metadata": {
    "papermill": {},
    "tags": []
   },
   "outputs": [],
   "source": [
    "# Inputs\n",
    "excel_init_path = \"Excel_Template.xlsx\"\n",
    "\n",
    "# Outputs\n",
    "excel_out_path = \"Excel_Custom.xlsx\""
   ]
  },
  {
   "cell_type": "markdown",
   "id": "35ea5fd9-265a-4a06-8ab6-b7367ede3683",
   "metadata": {
    "papermill": {},
    "tags": []
   },
   "source": [
    "### Setup your custom style\n",
    "NB: Colors must be aRGB hex values : 'black' = '000000'"
   ]
  },
  {
   "cell_type": "code",
   "execution_count": 3,
   "id": "29483298-f544-4d42-85c3-18d20c2e5033",
   "metadata": {
    "papermill": {},
    "tags": []
   },
   "outputs": [],
   "source": [
    "# Sheet Range\n",
    "sheet_range = \"A1:M54\"\n",
    "\n",
    "# Sheet Font\n",
    "sheet_font = Font(name=\"Arial\", bold=False, color=\"000000\", size=\"11\")\n",
    "\n",
    "# Border style\n",
    "sheet_border = Border(\n",
    "    left=Side(border_style=\"thin\", color=\"000000\"),\n",
    "    right=Side(border_style=\"thin\", color=\"000000\"),\n",
    "    top=Side(border_style=\"thin\", color=\"000000\"),\n",
    "    bottom=Side(border_style=\"thin\", color=\"000000\"),\n",
    ")"
   ]
  },
  {
   "cell_type": "code",
   "execution_count": 4,
   "id": "b38ef6a5-8d00-4fc9-bb71-e5167aeae34f",
   "metadata": {
    "papermill": {},
    "tags": []
   },
   "outputs": [],
   "source": [
    "# Number range\n",
    "number_range = \"B2:M54\"\n",
    "\n",
    "# Number format\n",
    "number_format = \"#,##0\""
   ]
  },
  {
   "cell_type": "code",
   "execution_count": 5,
   "id": "a3afdffe-e844-45bf-90fa-33136a92d7a7",
   "metadata": {
    "papermill": {},
    "tags": []
   },
   "outputs": [],
   "source": [
    "# Header range\n",
    "header_range = \"1:1\"\n",
    "\n",
    "# Header background\n",
    "header_bg = PatternFill(start_color=\"24292e\", end_color=\"24292e\", fill_type=\"solid\")\n",
    "\n",
    "# Header font\n",
    "header_font = Font(name=\"Arial\", bold=True, color=\"FFFFFF\", size=\"11\")"
   ]
  },
  {
   "cell_type": "code",
   "execution_count": 6,
   "id": "a76e58f3-edde-450c-bbb9-d092c807a644",
   "metadata": {
    "papermill": {},
    "tags": []
   },
   "outputs": [],
   "source": [
    "# Total range\n",
    "total_range = \"54:54\"\n",
    "\n",
    "# Total background\n",
    "total_bg = PatternFill(start_color=\"47DD82\", end_color=\"47DD82\", fill_type=\"solid\")"
   ]
  },
  {
   "cell_type": "markdown",
   "id": "registered-showcase",
   "metadata": {
    "papermill": {},
    "tags": []
   },
   "source": [
    "## Model"
   ]
  },
  {
   "cell_type": "markdown",
   "id": "aggressive-trustee",
   "metadata": {
    "papermill": {},
    "tags": []
   },
   "source": [
    "### Load Excel file and get active worksheet"
   ]
  },
  {
   "cell_type": "code",
   "execution_count": 7,
   "id": "continuous-melbourne",
   "metadata": {
    "papermill": {},
    "tags": []
   },
   "outputs": [],
   "source": [
    "wb = load_workbook(excel_init_path)\n",
    "ws = wb.active\n",
    "ws"
   ]
  },
  {
   "cell_type": "markdown",
   "id": "tested-astrology",
   "metadata": {
    "papermill": {},
    "tags": []
   },
   "source": [
    "### Apply sheet style : Font and border"
   ]
  },
  {
   "cell_type": "code",
   "execution_count": 8,
   "id": "a75cce02-041f-4baa-9def-98725e3a8933",
   "metadata": {
    "papermill": {},
    "tags": []
   },
   "outputs": [],
   "source": [
    "cell_range = ws[sheet_range]\n",
    "for row in cell_range:\n",
    "    for cell in row:\n",
    "        cell.font = sheet_font\n",
    "        cell.border = sheet_border"
   ]
  },
  {
   "cell_type": "markdown",
   "id": "a86a95c8-cf08-44ee-a963-e2e22620e204",
   "metadata": {
    "papermill": {},
    "tags": []
   },
   "source": [
    "### Apply number format"
   ]
  },
  {
   "cell_type": "code",
   "execution_count": 9,
   "id": "17707f56-2124-4715-a6ce-a25304d4d1f4",
   "metadata": {
    "papermill": {},
    "tags": []
   },
   "outputs": [],
   "source": [
    "cell_range = ws[number_range]\n",
    "for row in cell_range:\n",
    "    for cell in row:\n",
    "        cell.number_format = number_format"
   ]
  },
  {
   "cell_type": "markdown",
   "id": "cda71072-eb15-4eba-b640-5f4f356bd429",
   "metadata": {
    "papermill": {},
    "tags": []
   },
   "source": [
    "### Apply header format"
   ]
  },
  {
   "cell_type": "code",
   "execution_count": 10,
   "id": "c66a05b1-c387-4f1e-aaeb-f746f535ba5a",
   "metadata": {
    "papermill": {},
    "tags": []
   },
   "outputs": [],
   "source": [
    "for cell in ws[header_range]:\n",
    "    cell.fill = header_bg\n",
    "    cell.font = header_font"
   ]
  },
  {
   "cell_type": "markdown",
   "id": "97110657-32e6-46c8-ab78-d5c20703f5c4",
   "metadata": {
    "papermill": {},
    "tags": []
   },
   "source": [
    "### Apply total format"
   ]
  },
  {
   "cell_type": "code",
   "execution_count": 11,
   "id": "982317b9-2ebe-4272-a884-1df892fb348b",
   "metadata": {
    "papermill": {},
    "tags": []
   },
   "outputs": [],
   "source": [
    "for cell in ws[total_range]:\n",
    "    cell.fill = total_bg"
   ]
  },
  {
   "cell_type": "markdown",
   "id": "lonely-pacific",
   "metadata": {
    "execution": {
     "iopub.execute_input": "2021-07-02T23:32:10.789097Z",
     "iopub.status.busy": "2021-07-02T23:32:10.788829Z",
     "iopub.status.idle": "2021-07-02T23:32:10.796900Z",
     "shell.execute_reply": "2021-07-02T23:32:10.796358Z",
     "shell.execute_reply.started": "2021-07-02T23:32:10.789033Z"
    },
    "papermill": {},
    "tags": []
   },
   "source": [
    "## Output"
   ]
  },
  {
   "cell_type": "markdown",
   "id": "linear-address",
   "metadata": {
    "papermill": {},
    "tags": []
   },
   "source": [
    "### Save new excel"
   ]
  },
  {
   "cell_type": "code",
   "execution_count": 12,
   "id": "offensive-poetry",
   "metadata": {
    "papermill": {},
    "tags": []
   },
   "outputs": [],
   "source": [
    "wb.save(excel_out_path)"
   ]
  },
  {
   "cell_type": "markdown",
   "id": "446cdd9f-b9dc-41f1-9892-f49b90a146be",
   "metadata": {
    "papermill": {},
    "tags": []
   },
   "source": [
    "### Share your excel"
   ]
  },
  {
   "cell_type": "code",
   "execution_count": null,
   "id": "2e96ab58-5454-4700-bfc7-a1417417491d",
   "metadata": {
    "papermill": {},
    "tags": []
   },
   "outputs": [],
   "source": [
    "naas.asset.add(excel_out_path)"
   ]
  }
 ],
 "metadata": {
  "kernelspec": {
   "display_name": "Python 3",
   "language": "python",
   "name": "python3"
  },
  "language_info": {
   "codemirror_mode": {
    "name": "ipython",
    "version": 3
   },
   "file_extension": ".py",
   "mimetype": "text/x-python",
   "name": "python",
   "nbconvert_exporter": "python",
   "pygments_lexer": "ipython3",
   "version": "3.9.6"
  },
  "naas": {
   "notebook_id": "ba28d491fd759da0887e597f60ac8ca271d9e76837bd293f62d2557875a1d594",
   "notebook_path": "Excel/Excel_Apply_Custom_Styles.ipynb"
  },
  "papermill": {
   "default_parameters": {},
   "environment_variables": {},
   "parameters": {},
   "version": "2.3.3"
  },
  "widgets": {
   "application/vnd.jupyter.widget-state+json": {
    "state": {},
    "version_major": 2,
    "version_minor": 0
   }
  }
 },
 "nbformat": 4,
 "nbformat_minor": 5
}