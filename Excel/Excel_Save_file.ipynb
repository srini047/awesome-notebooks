{
 "cells": [
  {
   "cell_type": "markdown",
   "id": "tropical-breakfast",
   "metadata": {
    "papermill": {},
    "tags": []
   },
   "source": [
    "<img width=\"10%\" alt=\"Naas\" src=\"https://landen.imgix.net/jtci2pxwjczr/assets/5ice39g4.png?w=160\"/>"
   ]
  },
  {
   "cell_type": "markdown",
   "id": "danish-allergy",
   "metadata": {
    "papermill": {},
    "tags": []
   },
   "source": [
    "# Excel - Save file\n",
    "<a href=\"https://app.naas.ai/user-redirect/naas/downloader?url=https://raw.githubusercontent.com/jupyter-naas/awesome-notebooks/master/Excel/Excel_Save_file.ipynb\" target=\"_parent\"><img src=\"https://naasai-public.s3.eu-west-3.amazonaws.com/Open_in_Naas_Lab.svg\"/></a><br><br><a href=\"https://github.com/jupyter-naas/awesome-notebooks/issues/new?assignees=&labels=&template=template-request.md&title=Tool+-+Action+of+the+notebook+\">Template request</a> | <a href=\"https://github.com/jupyter-naas/awesome-notebooks/issues/new?assignees=&labels=bug&template=bug_report.md&title=Excel+-+Save+file:+Error+short+description\">Bug report</a> | <a href=\"https://app.naas.ai/user-redirect/naas/downloader?url=https://raw.githubusercontent.com/jupyter-naas/awesome-notebooks/master/Naas/Naas_Start_data_product.ipynb\" target=\"_parent\">Generate Data Product</a>"
   ]
  },
  {
   "cell_type": "markdown",
   "id": "978e5e32-8839-4b39-abb7-f5e8bda9f313",
   "metadata": {
    "papermill": {},
    "tags": []
   },
   "source": [
    "**Tags:** #excel #pandas #save #opendata #yahoofinance #naas_drivers #finance #snippet"
   ]
  },
  {
   "cell_type": "markdown",
   "id": "1bf0834d-3a8e-4f4a-98ee-fdbcc2ee650f",
   "metadata": {
    "papermill": {},
    "tags": []
   },
   "source": [
    "**Author:** [Florent Ravenel](https://www.linkedin.com/in/ACoAABCNSioBW3YZHc2lBHVG0E_TXYWitQkmwog/)"
   ]
  },
  {
   "cell_type": "markdown",
   "id": "naas-description",
   "metadata": {
    "papermill": {},
    "tags": [
     "description"
    ]
   },
   "source": [
    "**Description:** This notebook allows users to save their Excel files quickly and easily."
   ]
  },
  {
   "cell_type": "markdown",
   "id": "surgical-birmingham",
   "metadata": {
    "papermill": {},
    "tags": []
   },
   "source": [
    "## Input"
   ]
  },
  {
   "cell_type": "markdown",
   "id": "2112a917-9ba5-4ed3-b7c1-f204f0aca263",
   "metadata": {
    "papermill": {},
    "tags": []
   },
   "source": [
    "### Import libraries"
   ]
  },
  {
   "cell_type": "code",
   "execution_count": null,
   "id": "f7876579-4803-4130-b095-497225f417f7",
   "metadata": {
    "papermill": {},
    "tags": []
   },
   "outputs": [],
   "source": [
    "import pandas as pd\n",
    "from naas_drivers import yahoofinance"
   ]
  },
  {
   "cell_type": "markdown",
   "id": "6ae0fb10-e3c2-4ced-bd32-c2112195dc24",
   "metadata": {
    "papermill": {},
    "tags": []
   },
   "source": [
    "### Variables"
   ]
  },
  {
   "cell_type": "code",
   "execution_count": null,
   "id": "0e204bc4-efbf-4dc5-b947-9fe568724fc6",
   "metadata": {
    "papermill": {},
    "tags": []
   },
   "outputs": [],
   "source": [
    "# Input yahoo\n",
    "ticker = \"TSLA\"\n",
    "date_from = -100\n",
    "date_to = \"today\"\n",
    "interval = \"1d\"\n",
    "moving_averages = [20, 50]\n",
    "\n",
    "# Output\n",
    "excel_file_path = f\"{ticker}.xlsx\""
   ]
  },
  {
   "cell_type": "markdown",
   "id": "4b24dceb-ed1e-4af9-af4e-48f592e2438b",
   "metadata": {
    "papermill": {},
    "tags": []
   },
   "source": [
    "## Model"
   ]
  },
  {
   "cell_type": "markdown",
   "id": "656610e2-5595-429c-ae1e-ccb1d32671d7",
   "metadata": {
    "papermill": {},
    "tags": []
   },
   "source": [
    "### Read excel"
   ]
  },
  {
   "cell_type": "code",
   "execution_count": null,
   "id": "hawaiian-consortium",
   "metadata": {
    "papermill": {},
    "tags": []
   },
   "outputs": [],
   "source": [
    "df_yahoo = yahoofinance.get(\n",
    "    ticker,\n",
    "    date_from=date_from,\n",
    "    date_to=date_to,\n",
    "    interval=interval,\n",
    "    moving_averages=moving_averages,\n",
    ")"
   ]
  },
  {
   "cell_type": "markdown",
   "id": "expired-target",
   "metadata": {
    "papermill": {},
    "tags": []
   },
   "source": [
    "## Output"
   ]
  },
  {
   "cell_type": "markdown",
   "id": "6a76ae5d-9117-420f-84f4-49ab28e4a8f3",
   "metadata": {
    "papermill": {},
    "tags": []
   },
   "source": [
    "### Display result"
   ]
  },
  {
   "cell_type": "markdown",
   "id": "f08eea54-87b0-4aba-8c5a-2a856c9ed8ca",
   "metadata": {
    "execution": {
     "iopub.execute_input": "2022-02-22T07:35:00.624021Z",
     "iopub.status.busy": "2022-02-22T07:35:00.623743Z",
     "iopub.status.idle": "2022-02-22T07:35:00.632235Z",
     "shell.execute_reply": "2022-02-22T07:35:00.631300Z",
     "shell.execute_reply.started": "2022-02-22T07:35:00.623996Z"
    },
    "papermill": {},
    "tags": []
   },
   "source": [
    "You want to add more parameters ?<br>\n",
    "👉 Check out the pandas documentation <a href=\"https://pandas.pydata.org/docs/reference/api/pandas.read_excel.html\">here</a>."
   ]
  },
  {
   "cell_type": "code",
   "execution_count": null,
   "id": "agreed-correspondence",
   "metadata": {
    "papermill": {},
    "tags": []
   },
   "outputs": [],
   "source": [
    "df_yahoo.to_excel(excel_file_path)\n",
    "print(f'💾 Excel '{excel_file_path}' successfully saved in Naas.')"
   ]
  }
 ],
 "metadata": {
  "kernelspec": {
   "display_name": "Python 3",
   "language": "python",
   "name": "python3"
  },
  "language_info": {
   "codemirror_mode": {
    "name": "ipython",
    "version": 3
   },
   "file_extension": ".py",
   "mimetype": "text/x-python",
   "name": "python",
   "nbconvert_exporter": "python",
   "pygments_lexer": "ipython3",
   "version": "3.8.8"
  },
  "naas": {
   "notebook_id": "89dbd7dbd81efb97de7af6a3f612379e28d249f769af1c6aaec979867b4c796b",
   "notebook_path": "Excel/Excel_Save_file.ipynb"
  },
  "papermill": {
   "default_parameters": {},
   "environment_variables": {},
   "parameters": {},
   "version": "2.3.3"
  }
 },
 "nbformat": 4,
 "nbformat_minor": 5
}