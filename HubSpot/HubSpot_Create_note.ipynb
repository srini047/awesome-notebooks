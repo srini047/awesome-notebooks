{
 "cells": [
  {
   "cell_type": "markdown",
   "id": "latin-packing",
   "metadata": {
    "execution": {
     "iopub.execute_input": "2021-02-23T14:22:16.610471Z",
     "iopub.status.busy": "2021-02-23T14:22:16.610129Z",
     "iopub.status.idle": "2021-02-23T14:22:16.627784Z",
     "shell.execute_reply": "2021-02-23T14:22:16.626866Z",
     "shell.execute_reply.started": "2021-02-23T14:22:16.610384Z"
    },
    "papermill": {},
    "tags": []
   },
   "source": [
    "<img width=\"10%\" alt=\"Naas\" src=\"https://landen.imgix.net/jtci2pxwjczr/assets/5ice39g4.png?w=160\"/>"
   ]
  },
  {
   "cell_type": "markdown",
   "id": "compressed-wilson",
   "metadata": {
    "papermill": {},
    "tags": []
   },
   "source": [
    "# HubSpot - Create note\n",
    "<a href=\"https://app.naas.ai/user-redirect/naas/downloader?url=https://raw.githubusercontent.com/jupyter-naas/awesome-notebooks/master/HubSpot/HubSpot_Create_note.ipynb\" target=\"_parent\"><img src=\"https://naasai-public.s3.eu-west-3.amazonaws.com/Open_in_Naas_Lab.svg\"/></a><br><br><a href=\"https://github.com/jupyter-naas/awesome-notebooks/issues/new?assignees=&labels=&template=template-request.md&title=Tool+-+Action+of+the+notebook+\">Template request</a> | <a href=\"https://github.com/jupyter-naas/awesome-notebooks/issues/new?assignees=&labels=bug&template=bug_report.md&title=HubSpot+-+Create+note:+Error+short+description\">Bug report</a> | <a href=\"https://app.naas.ai/user-redirect/naas/downloader?url=https://raw.githubusercontent.com/jupyter-naas/awesome-notebooks/master/Naas/Naas_Start_data_product.ipynb\" target=\"_parent\">Generate Data Product</a>"
   ]
  },
  {
   "cell_type": "markdown",
   "id": "religious-programmer",
   "metadata": {
    "papermill": {},
    "tags": []
   },
   "source": [
    "**Tags:** #hubspot #sales #crm #engagements #notes #snippet"
   ]
  },
  {
   "cell_type": "markdown",
   "id": "1fe9f56e-561c-4f52-aef8-b861c9462107",
   "metadata": {
    "papermill": {},
    "tags": []
   },
   "source": [
    "**Author:** [Florent Ravenel](https://www.linkedin.com/in/florent-ravenel/)"
   ]
  },
  {
   "cell_type": "markdown",
   "id": "0588e448-9df5-4cb4-be75-fe669a7c03b8",
   "metadata": {
    "execution": {
     "iopub.execute_input": "2022-05-31T06:20:54.776282Z",
     "iopub.status.busy": "2022-05-31T06:20:54.776003Z",
     "iopub.status.idle": "2022-05-31T06:20:54.787094Z",
     "shell.execute_reply": "2022-05-31T06:20:54.786154Z",
     "shell.execute_reply.started": "2022-05-31T06:20:54.776252Z"
    },
    "papermill": {},
    "tags": []
   },
   "source": [
    "**Description:** This template will create a note in HubSpot with the possibility of :\n",
    "- Add timestamp to follow history\n",
    "- Add associated contacts\n",
    "- Add associated companies\n",
    "- Add associated deals\n",
    "- Add creator\n",
    "- Add multiples owners"
   ]
  },
  {
   "cell_type": "markdown",
   "id": "distinguished-truth",
   "metadata": {
    "papermill": {},
    "tags": []
   },
   "source": [
    "## Input"
   ]
  },
  {
   "cell_type": "markdown",
   "id": "numeric-mediterranean",
   "metadata": {
    "papermill": {},
    "tags": []
   },
   "source": [
    "### Import libraries"
   ]
  },
  {
   "cell_type": "code",
   "execution_count": null,
   "id": "potential-surfing",
   "metadata": {
    "papermill": {},
    "tags": []
   },
   "outputs": [],
   "source": [
    "from datetime import datetime\n",
    "import requests\n",
    "import json\n",
    "import naas"
   ]
  },
  {
   "cell_type": "markdown",
   "id": "c08dd35d-d963-4bfc-9837-875b679b1d3d",
   "metadata": {
    "papermill": {},
    "tags": []
   },
   "source": [
    "### Setup HubSpot\n",
    "👉 Starting November 30, 2022, HubSpot API keys no longer enable access to HubSpot APIs, so in Naas version 2.8.3 and above, you need [create a private app and use the access token](https://developers.hubspot.com/docs/api/private-apps)."
   ]
  },
  {
   "cell_type": "markdown",
   "id": "b269f690-5b5d-4236-a84f-1c40eeaaa744",
   "metadata": {
    "papermill": {},
    "tags": []
   },
   "source": [
    "#### Enter Your Access Token"
   ]
  },
  {
   "cell_type": "code",
   "execution_count": null,
   "id": "36bd049b-d707-4871-8bab-7f592cd9e391",
   "metadata": {
    "papermill": {},
    "tags": []
   },
   "outputs": [],
   "source": [
    "HS_ACCESS_TOKEN = naas.secret.get(\"HS_ACCESS_TOKEN\") or \"YOUR_HS_ACCESS_TOKEN\""
   ]
  },
  {
   "cell_type": "markdown",
   "id": "aggressive-trustee",
   "metadata": {
    "papermill": {},
    "tags": []
   },
   "source": [
    "#### Define your note"
   ]
  },
  {
   "cell_type": "code",
   "execution_count": null,
   "id": "bdc6ee8b-0fb6-4e3e-9325-930bffa3f16e",
   "metadata": {
    "papermill": {},
    "tags": []
   },
   "outputs": [],
   "source": [
    "# Note content => HTML format can be used to create custom notes (Required)\n",
    "body = \"My new note\"  # EXAMPLE: \"My new notes\"\n",
    "\n",
    "# Note timestamp in format \"%Y-%m-%d %H:%M:%S\" (Not mandatory)\n",
    "timestamp = \"2022-05-31 08:13:00\"  # EXAMPLE: \"2022-05-31 08:13:00\"\n",
    "\n",
    "# Associated contacts ID (Required)\n",
    "asso_contactids = []  # EXAMPLE: [00001] or [00001, 00002, 000003]\n",
    "\n",
    "# Associated companies ID (Not mandatory)\n",
    "asso_companyids = []  # EXAMPLE: [00001] or [00001, 00002, 000003]\n",
    "\n",
    "# Associated deals ID (Not mandatory)\n",
    "asso_dealids = []  # EXAMPLE: [00001] or [00001, 00002, 000003]\n",
    "\n",
    "# Associated owners ID (Not mandatory)\n",
    "asso_ownerids = []  # EXAMPLE: [00001] or [00001, 00002, 000003]\n",
    "\n",
    "# Creator ID (Not mandatory)\n",
    "owner_id = None"
   ]
  },
  {
   "cell_type": "markdown",
   "id": "registered-showcase",
   "metadata": {
    "papermill": {},
    "tags": []
   },
   "source": [
    "## Model"
   ]
  },
  {
   "cell_type": "markdown",
   "id": "321e0cc4-7648-48d2-989c-6250a6f3a9a0",
   "metadata": {
    "papermill": {},
    "tags": []
   },
   "source": [
    "### Function to create note"
   ]
  },
  {
   "cell_type": "code",
   "execution_count": null,
   "id": "dff59c04-748c-4604-9b2f-d16e8553bf29",
   "metadata": {
    "papermill": {},
    "tags": []
   },
   "outputs": [],
   "source": [
    "def create_note(\n",
    "    body,\n",
    "    timestamp=None,\n",
    "    owner_id=None,\n",
    "    asso_contactids=[],\n",
    "    asso_companyids=[],\n",
    "    asso_dealids=[],\n",
    "    asso_ownerids=[],\n",
    "    engagement=\"NOTE\",\n",
    "):\n",
    "    \"\"\"\n",
    "    Engagement type = NOTE\n",
    "    \"\"\"\n",
    "\n",
    "    # Calc timestamp\n",
    "    if timestamp is not None:\n",
    "        timestamp = (\n",
    "            str(int(datetime.strptime(timestamp[:19], \"%Y-%m-%d %H:%M:%S\").timestamp()))\n",
    "            + \"000\"\n",
    "        )\n",
    "    else:\n",
    "        timestamp = str(int(datetime.now().timestamp())) + \"000\"\n",
    "\n",
    "    # Create payload\n",
    "    payload = json.dumps(\n",
    "        {\n",
    "            \"engagement\": {\n",
    "                \"active\": \"true\",\n",
    "                \"ownerId\": owner_id,\n",
    "                \"type\": engagement,\n",
    "                \"timestamp\": timestamp,\n",
    "            },\n",
    "            \"associations\": {\n",
    "                \"contactIds\": asso_contactids,\n",
    "                \"companyIds\": asso_companyids,\n",
    "                \"dealIds\": asso_dealids,\n",
    "                \"ownerIds\": asso_ownerids,\n",
    "            },\n",
    "            \"metadata\": {\n",
    "                \"body\": body,\n",
    "            },\n",
    "        }\n",
    "    )\n",
    "    url = \"https://api.hubapi.com/engagements/v1/engagements\"\n",
    "    headers = {\n",
    "        \"Content-Type\": \"application/json\",\n",
    "        \"authorization\": f\"Bearer {HS_ACCESS_TOKEN}\",\n",
    "    }\n",
    "    # Post requests\n",
    "    res = requests.post(url, data=payload, headers=headers)\n",
    "    res.raise_for_status()\n",
    "    res_json = res.json()\n",
    "    # Note ID\n",
    "    note_id = res_json.get(\"engagement\").get(\"id\")\n",
    "    # Message success\n",
    "    print(f\"✅ New note created '{note_id} 'in HubSpot: {body}\")\n",
    "    return note_id"
   ]
  },
  {
   "cell_type": "markdown",
   "id": "lonely-pacific",
   "metadata": {
    "execution": {
     "iopub.execute_input": "2021-07-02T23:32:10.789097Z",
     "iopub.status.busy": "2021-07-02T23:32:10.788829Z",
     "iopub.status.idle": "2021-07-02T23:32:10.796900Z",
     "shell.execute_reply": "2021-07-02T23:32:10.796358Z",
     "shell.execute_reply.started": "2021-07-02T23:32:10.789033Z"
    },
    "papermill": {},
    "tags": []
   },
   "source": [
    "## Output"
   ]
  },
  {
   "cell_type": "markdown",
   "id": "linear-address",
   "metadata": {
    "papermill": {},
    "tags": []
   },
   "source": [
    "### Create note"
   ]
  },
  {
   "cell_type": "code",
   "execution_count": null,
   "id": "ea94a4e6-a6e7-4bf2-beee-faab5ce9f5a4",
   "metadata": {
    "papermill": {},
    "tags": []
   },
   "outputs": [],
   "source": [
    "note_id = create_note(\n",
    "    body=body,\n",
    "    timestamp=timestamp,\n",
    "    asso_contactids=asso_contactids,\n",
    "    asso_companyids=asso_companyids,\n",
    "    asso_dealids=asso_dealids,\n",
    "    asso_ownerids=asso_ownerids,\n",
    "    owner_id=owner_id,\n",
    ")"
   ]
  }
 ],
 "metadata": {
  "kernelspec": {
   "display_name": "Python 3",
   "language": "python",
   "name": "python3"
  },
  "language_info": {
   "codemirror_mode": {
    "name": "ipython",
    "version": 3
   },
   "file_extension": ".py",
   "mimetype": "text/x-python",
   "name": "python",
   "nbconvert_exporter": "python",
   "pygments_lexer": "ipython3",
   "version": "3.9.6"
  },
  "naas": {
   "notebook_id": "e4e780e93a73cd817fdaf0b40ce56ea33fb7a9683bbb24aa5cb40d3ba914f031",
   "notebook_path": "HubSpot/HubSpot_Create_note.ipynb"
  },
  "papermill": {
   "default_parameters": {},
   "environment_variables": {},
   "parameters": {},
   "version": "2.3.3"
  },
  "widgets": {
   "application/vnd.jupyter.widget-state+json": {
    "state": {},
    "version_major": 2,
    "version_minor": 0
   }
  }
 },
 "nbformat": 4,
 "nbformat_minor": 5
}