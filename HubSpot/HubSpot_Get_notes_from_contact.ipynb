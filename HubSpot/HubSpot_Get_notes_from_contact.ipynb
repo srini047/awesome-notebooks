{
 "cells": [
  {
   "cell_type": "markdown",
   "id": "latin-packing",
   "metadata": {
    "execution": {
     "iopub.execute_input": "2021-02-23T14:22:16.610471Z",
     "iopub.status.busy": "2021-02-23T14:22:16.610129Z",
     "iopub.status.idle": "2021-02-23T14:22:16.627784Z",
     "shell.execute_reply": "2021-02-23T14:22:16.626866Z",
     "shell.execute_reply.started": "2021-02-23T14:22:16.610384Z"
    },
    "papermill": {},
    "tags": []
   },
   "source": [
    "<img width=\"10%\" alt=\"Naas\" src=\"https://landen.imgix.net/jtci2pxwjczr/assets/5ice39g4.png?w=160\"/>"
   ]
  },
  {
   "cell_type": "markdown",
   "id": "compressed-wilson",
   "metadata": {
    "papermill": {},
    "tags": []
   },
   "source": [
    "# HubSpot - Get notes from contact\n",
    "<a href=\"https://app.naas.ai/user-redirect/naas/downloader?url=https://raw.githubusercontent.com/jupyter-naas/awesome-notebooks/master/HubSpot/HubSpot_Get_notes_from_contact.ipynb\" target=\"_parent\"><img src=\"https://naasai-public.s3.eu-west-3.amazonaws.com/Open_in_Naas_Lab.svg\"/></a><br><br><a href=\"https://github.com/jupyter-naas/awesome-notebooks/issues/new?assignees=&labels=&template=template-request.md&title=Tool+-+Action+of+the+notebook+\">Template request</a> | <a href=\"https://github.com/jupyter-naas/awesome-notebooks/issues/new?assignees=&labels=bug&template=bug_report.md&title=HubSpot+-+Get+notes+from+contact:+Error+short+description\">Bug report</a> | <a href=\"https://app.naas.ai/user-redirect/naas/downloader?url=https://raw.githubusercontent.com/jupyter-naas/awesome-notebooks/master/Naas/Naas_Start_data_product.ipynb\" target=\"_parent\">Generate Data Product</a>"
   ]
  },
  {
   "cell_type": "markdown",
   "id": "religious-programmer",
   "metadata": {
    "papermill": {},
    "tags": []
   },
   "source": [
    "**Tags:** #hubspot #sales #crm #engagements #notes #snippet #json #contacts"
   ]
  },
  {
   "cell_type": "markdown",
   "id": "1fe9f56e-561c-4f52-aef8-b861c9462107",
   "metadata": {
    "papermill": {},
    "tags": []
   },
   "source": [
    "**Author:** [Florent Ravenel](https://www.linkedin.com/in/florent-ravenel/)"
   ]
  },
  {
   "cell_type": "markdown",
   "id": "d9122437-2697-4c6f-8a40-861332e931bd",
   "metadata": {
    "papermill": {},
    "tags": []
   },
   "source": [
    "**Description:** This templates will extract all notes from a contact in HubSpot and return a dataframe."
   ]
  },
  {
   "cell_type": "markdown",
   "id": "distinguished-truth",
   "metadata": {
    "papermill": {},
    "tags": []
   },
   "source": [
    "## Input"
   ]
  },
  {
   "cell_type": "markdown",
   "id": "numeric-mediterranean",
   "metadata": {
    "papermill": {},
    "tags": []
   },
   "source": [
    "### Import libraries"
   ]
  },
  {
   "cell_type": "code",
   "execution_count": null,
   "id": "potential-surfing",
   "metadata": {
    "papermill": {},
    "tags": []
   },
   "outputs": [],
   "source": [
    "from datetime import datetime\n",
    "import requests\n",
    "import json\n",
    "import naas\n",
    "import pandas as pd"
   ]
  },
  {
   "cell_type": "markdown",
   "id": "c08dd35d-d963-4bfc-9837-875b679b1d3d",
   "metadata": {
    "papermill": {},
    "tags": []
   },
   "source": [
    "### Setup HubSpot\n",
    "👉 Starting November 30, 2022, HubSpot API keys no longer enable access to HubSpot APIs, so in Naas version 2.8.3 and above, you need [create a private app and use the access token](https://developers.hubspot.com/docs/api/private-apps)."
   ]
  },
  {
   "cell_type": "markdown",
   "id": "f9a2c110-53b1-4816-9984-411009f1c829",
   "metadata": {
    "papermill": {},
    "tags": []
   },
   "source": [
    "#### Enter Your Access Token"
   ]
  },
  {
   "cell_type": "code",
   "execution_count": null,
   "id": "36bd049b-d707-4871-8bab-7f592cd9e391",
   "metadata": {
    "papermill": {},
    "tags": []
   },
   "outputs": [],
   "source": [
    "HS_ACCESS_TOKEN = naas.secret.get(\"HS_ACCESS_TOKEN\") or \"YOUR_HS_ACCESS_TOKEN\""
   ]
  },
  {
   "cell_type": "markdown",
   "id": "aggressive-trustee",
   "metadata": {
    "papermill": {},
    "tags": []
   },
   "source": [
    "#### Enter your contact ID"
   ]
  },
  {
   "cell_type": "code",
   "execution_count": null,
   "id": "bdc6ee8b-0fb6-4e3e-9325-930bffa3f16e",
   "metadata": {
    "papermill": {},
    "tags": []
   },
   "outputs": [],
   "source": [
    "# Get contact ID in HubSpot\n",
    "# If you are in HubSpot, a contact ID is the last part of the URL : https://app.hubspot.com/contacts/XXXX/contact/508201\n",
    "contact_id = 100001  # EXAMPLE = 100001 or \"000001\""
   ]
  },
  {
   "cell_type": "markdown",
   "id": "registered-showcase",
   "metadata": {
    "papermill": {},
    "tags": []
   },
   "source": [
    "## Model"
   ]
  },
  {
   "cell_type": "markdown",
   "id": "321e0cc4-7648-48d2-989c-6250a6f3a9a0",
   "metadata": {
    "papermill": {},
    "tags": []
   },
   "source": [
    "### Function to get recent tasks"
   ]
  },
  {
   "cell_type": "code",
   "execution_count": null,
   "id": "dff59c04-748c-4604-9b2f-d16e8553bf29",
   "metadata": {
    "papermill": {},
    "tags": []
   },
   "outputs": [],
   "source": [
    "DATETIME_FORMAT = \"%Y-%m-%d %H:%M:%S\"\n",
    "\n",
    "\n",
    "def timestamp_to_date(d):\n",
    "    result = None\n",
    "    if d is not None:\n",
    "        result = datetime.fromtimestamp(int(d) / 1000).strftime(DATETIME_FORMAT)\n",
    "    return result\n",
    "\n",
    "\n",
    "def get_notes_from_contact(contact_id):\n",
    "    url = f\"https://api.hubapi.com/engagements/v1/engagements/associated/contact/{contact_id}/paged\"\n",
    "    querystring = {\n",
    "        \"archived\": \"false\",\n",
    "        \"limit\": 100,\n",
    "    }\n",
    "    headers = {\n",
    "        \"Content-Type\": \"application/json\",\n",
    "        \"authorization\": f\"Bearer {HS_ACCESS_TOKEN}\",\n",
    "    }\n",
    "\n",
    "    # Get all notes\n",
    "    df_notes = pd.DataFrame()\n",
    "    engagements = []\n",
    "    has_more = True\n",
    "    offset = None\n",
    "    while has_more:\n",
    "        if offset is not None:\n",
    "            querystring[\"offset\"] = offset\n",
    "\n",
    "        # Requests data\n",
    "        res = requests.get(url, headers=headers, params=querystring)\n",
    "        res.raise_for_status()\n",
    "        res_json = res.json()\n",
    "        results = res_json.get(\"results\")\n",
    "        if len(results) > 0:\n",
    "            for result in results:\n",
    "                engagement = {}\n",
    "                associations = {}\n",
    "                metadata = {}\n",
    "                engagement = result.get(\"engagement\")\n",
    "                if len(engagement) > 0:\n",
    "                    engagement[\"createdAt\"] = timestamp_to_date(\n",
    "                        engagement.get(\"createdAt\")\n",
    "                    )\n",
    "                    engagement[\"lastUpdated\"] = timestamp_to_date(\n",
    "                        engagement.get(\"lastUpdated\")\n",
    "                    )\n",
    "                    engagement[\"timestamp\"] = timestamp_to_date(\n",
    "                        engagement.get(\"timestamp\")\n",
    "                    )\n",
    "                associations = result.get(\"associations\")\n",
    "                metadata = result.get(\"metadata\")\n",
    "                engagement.update(associations)\n",
    "                engagement.update(metadata)\n",
    "                engagements.append(engagement)\n",
    "\n",
    "        has_more = res_json.get(\"hasMore\")\n",
    "        offset = res_json.get(\"offset\")\n",
    "\n",
    "    df_engagements = pd.DataFrame(engagements)\n",
    "    if len(df_engagements) > 0:\n",
    "        df_engagements.columns = df_engagements.columns.str.upper()\n",
    "        df_notes = (\n",
    "            df_engagements[df_engagements[\"TYPE\"] == \"NOTE\"]\n",
    "            .sort_values(\"CREATEDAT\")\n",
    "            .reset_index(drop=True)\n",
    "        )\n",
    "    print(f\"✅ {len(df_notes)} notes fetched from contact {contact_id}\")\n",
    "    return df_notes"
   ]
  },
  {
   "cell_type": "markdown",
   "id": "lonely-pacific",
   "metadata": {
    "execution": {
     "iopub.execute_input": "2021-07-02T23:32:10.789097Z",
     "iopub.status.busy": "2021-07-02T23:32:10.788829Z",
     "iopub.status.idle": "2021-07-02T23:32:10.796900Z",
     "shell.execute_reply": "2021-07-02T23:32:10.796358Z",
     "shell.execute_reply.started": "2021-07-02T23:32:10.789033Z"
    },
    "papermill": {},
    "tags": []
   },
   "source": [
    "## Output"
   ]
  },
  {
   "cell_type": "markdown",
   "id": "linear-address",
   "metadata": {
    "papermill": {},
    "tags": []
   },
   "source": [
    "### Get all notes"
   ]
  },
  {
   "cell_type": "code",
   "execution_count": null,
   "id": "ea94a4e6-a6e7-4bf2-beee-faab5ce9f5a4",
   "metadata": {
    "papermill": {},
    "tags": []
   },
   "outputs": [],
   "source": [
    "df_notes = get_notes_from_contact(contact_id)\n",
    "df_notes.head(5)"
   ]
  }
 ],
 "metadata": {
  "kernelspec": {
   "display_name": "Python 3",
   "language": "python",
   "name": "python3"
  },
  "language_info": {
   "codemirror_mode": {
    "name": "ipython",
    "version": 3
   },
   "file_extension": ".py",
   "mimetype": "text/x-python",
   "name": "python",
   "nbconvert_exporter": "python",
   "pygments_lexer": "ipython3",
   "version": "3.9.6"
  },
  "naas": {
   "notebook_id": "1783cc4e20694cf382b843a9fb70e03038ea14b28dae79d0535b10499853f177",
   "notebook_path": "HubSpot/HubSpot_Get_notes_from_contact.ipynb"
  },
  "papermill": {
   "default_parameters": {},
   "environment_variables": {},
   "parameters": {},
   "version": "2.3.3"
  },
  "widgets": {
   "application/vnd.jupyter.widget-state+json": {
    "state": {},
    "version_major": 2,
    "version_minor": 0
   }
  }
 },
 "nbformat": 4,
 "nbformat_minor": 5
}