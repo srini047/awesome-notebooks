{
 "cells": [
  {
   "cell_type": "markdown",
   "id": "hairy-hello",
   "metadata": {
    "papermill": {},
    "tags": []
   },
   "source": [
    "<img width=\"10%\" alt=\"Naas\" src=\"https://landen.imgix.net/jtci2pxwjczr/assets/5ice39g4.png?w=160\"/>"
   ]
  },
  {
   "cell_type": "markdown",
   "id": "introductory-evans",
   "metadata": {
    "papermill": {},
    "tags": []
   },
   "source": [
    "# HubSpot - Update followers from linkedin\n",
    "<a href=\"https://app.naas.ai/user-redirect/naas/downloader?url=https://raw.githubusercontent.com/jupyter-naas/awesome-notebooks/master/HubSpot/HubSpot_Update_followers_from_linkedin.ipynb\" target=\"_parent\"><img src=\"https://naasai-public.s3.eu-west-3.amazonaws.com/open_in_naas.svg\"/></a><br><br><a href=\"https://github.com/jupyter-naas/awesome-notebooks/issues/new?assignees=&labels=&template=template-request.md&title=Tool+-+Action+of+the+notebook+\">Template request</a> | <a href=\"https://github.com/jupyter-naas/awesome-notebooks/issues/new?assignees=&labels=bug&template=bug_report.md&title=HubSpot+-+Update+followers+from+linkedin:+Error+short+description\">Bug report</a>"
   ]
  },
  {
   "cell_type": "markdown",
   "id": "prescription-tennessee",
   "metadata": {
    "papermill": {},
    "tags": []
   },
   "source": [
    "**Tags:** #hubspot #crm #sales #contact #naas_drivers #linkedin #network #scheduler #naas #automation"
   ]
  },
  {
   "cell_type": "markdown",
   "id": "a3ea8853-0d80-494e-ac72-5527d18464e6",
   "metadata": {
    "papermill": {},
    "tags": []
   },
   "source": [
    "**Author:** [Florent Ravenel](https://www.linkedin.com/in/florent-ravenel/)"
   ]
  },
  {
   "cell_type": "markdown",
   "id": "b429b1d9-2399-400b-a0d0-c929ad307432",
   "metadata": {
    "execution": {
     "iopub.execute_input": "2022-05-04T15:09:33.115516Z",
     "iopub.status.busy": "2022-05-04T15:09:33.115158Z",
     "iopub.status.idle": "2022-05-04T15:09:33.129981Z",
     "shell.execute_reply": "2022-05-04T15:09:33.128646Z",
     "shell.execute_reply.started": "2022-05-04T15:09:33.115489Z"
    },
    "papermill": {},
    "tags": []
   },
   "source": [
    "**Description:** This notebook update the LinkedIn followers count for a contact in HubSpot."
   ]
  },
  {
   "cell_type": "markdown",
   "id": "concrete-lancaster",
   "metadata": {
    "papermill": {},
    "tags": []
   },
   "source": [
    "## Input"
   ]
  },
  {
   "cell_type": "markdown",
   "id": "exact-argentina",
   "metadata": {
    "papermill": {},
    "tags": []
   },
   "source": [
    "### Import libraries"
   ]
  },
  {
   "cell_type": "code",
   "execution_count": null,
   "id": "organized-fancy",
   "metadata": {
    "papermill": {},
    "tags": []
   },
   "outputs": [],
   "source": [
    "from naas_drivers import hubspot, linkedin\n",
    "import naas\n",
    "import pandas as pd"
   ]
  },
  {
   "cell_type": "markdown",
   "id": "intimate-oasis",
   "metadata": {
    "papermill": {},
    "tags": []
   },
   "source": [
    "### Setup HubSpot\n",
    "👉 Starting November 30, 2022, HubSpot API keys no longer enable access to HubSpot APIs, so in Naas version 2.8.3 and above, you need [create a private app and use the access token](https://developers.hubspot.com/docs/api/private-apps)."
   ]
  },
  {
   "cell_type": "code",
   "execution_count": null,
   "id": "corresponding-doubt",
   "metadata": {
    "papermill": {},
    "tags": []
   },
   "outputs": [],
   "source": [
    "# Enter Your Access Token\n",
    "HS_ACCESS_TOKEN = naas.secret.get(\"HS_ACCESS_TOKEN\") or \"YOUR_HS_ACCESS_TOKEN\""
   ]
  },
  {
   "cell_type": "markdown",
   "id": "bf7e7dc4-8d72-4ec5-a698-e07351b7aaa2",
   "metadata": {
    "papermill": {},
    "tags": []
   },
   "source": [
    "### Setup LinkedIn\n",
    "If you are using the Chrome Extension:\n",
    "\n",
    "- [Install Naas Chrome Extension](https://chrome.google.com/webstore/detail/naas/cpkgfedlkfiknjpkmhcglmjiefnechpp?hl=fr&authuser=0)\n",
    "- [Create a new token](https://app.naas.ai/hub/token)\n",
    "- Copy/Paste your token in your extension\n",
    "- Login/Logout your LinkedIn account\n",
    "- Your secrets \"LINKEDIN_LI_AT\" and \"LINKEDIN_JSESSIONID\" will be added directly on your naas everytime you login and logout.\n",
    "\n",
    "or <br>\n",
    "\n",
    "If you are not using the Google Chrome Extension, [learn how to get your cookies on LinkedIn](https://www.notion.so/LinkedIn-driver-Get-your-cookies-d20a8e7e508e42af8a5b52e33f3dba75) and set up the values below:\n",
    "- 🍪 li_at\n",
    "- 🍪 JSESSIONID"
   ]
  },
  {
   "cell_type": "code",
   "execution_count": null,
   "id": "6d0fdcc4-7ec9-4a2b-b7fb-0c9fad13bfe8",
   "metadata": {
    "papermill": {},
    "tags": []
   },
   "outputs": [],
   "source": [
    "# Cookies\n",
    "LI_AT = naas.secret.get(\"LINKEDIN_LI_AT\") or \"YOUR_COOKIE_LI_AT\"\n",
    "JSESSIONID = naas.secret.get(\"LINKEDIN_JSESSIONID\") or \"YOUR_COOKIE_JSESSIONID\"\n",
    "\n",
    "# LinkedIn update limit\n",
    "LIMIT = 15"
   ]
  },
  {
   "cell_type": "markdown",
   "id": "infectious-transparency",
   "metadata": {
    "papermill": {},
    "tags": []
   },
   "source": [
    "### Setup Naas"
   ]
  },
  {
   "cell_type": "code",
   "execution_count": null,
   "id": "union-insulation",
   "metadata": {
    "papermill": {},
    "tags": []
   },
   "outputs": [],
   "source": [
    "naas.scheduler.add(cron=\"0 8 * * *\")\n",
    "\n",
    "# -> Uncomment the line below (by removing the hashtag) to remove your scheduler\n",
    "# naas.scheduler.delete()"
   ]
  },
  {
   "cell_type": "markdown",
   "id": "voluntary-people",
   "metadata": {
    "papermill": {},
    "tags": []
   },
   "source": [
    "## Model"
   ]
  },
  {
   "cell_type": "markdown",
   "id": "novel-manchester",
   "metadata": {
    "papermill": {},
    "tags": []
   },
   "source": [
    "### Get all contacts in HubSpot"
   ]
  },
  {
   "cell_type": "code",
   "execution_count": null,
   "id": "running-barbados",
   "metadata": {
    "papermill": {},
    "tags": []
   },
   "outputs": [],
   "source": [
    "properties_list = [\n",
    "    \"hs_object_id\",\n",
    "    \"firstname\",\n",
    "    \"lastname\",\n",
    "    \"linkedinbio\",\n",
    "    \"linkedinconnections\",\n",
    "]\n",
    "hubspot_contacts = hubspot.connect(HS_ACCESS_TOKEN).contacts.get_all(properties_list)\n",
    "hubspot_contacts"
   ]
  },
  {
   "cell_type": "markdown",
   "id": "medium-tunnel",
   "metadata": {
    "papermill": {},
    "tags": []
   },
   "source": [
    "### Filter to get linkedinconnections = \"Not Defined\" and \"linkedinbio\" = defined"
   ]
  },
  {
   "cell_type": "code",
   "execution_count": null,
   "id": "regional-consultancy",
   "metadata": {
    "papermill": {},
    "tags": []
   },
   "outputs": [],
   "source": [
    "df_to_update = hubspot_contacts.copy()\n",
    "\n",
    "# Cleaning\n",
    "df_to_update = df_to_update.fillna(\"Not Defined\")\n",
    "\n",
    "# Filter on \"Not defined\"\n",
    "df_to_update = df_to_update[\n",
    "    (df_to_update.linkedinbio != \"Not Defined\")\n",
    "    & (df_to_update.linkedinconnections == \"Not Defined\")\n",
    "]\n",
    "\n",
    "# Limit to last x contacts\n",
    "df_to_update = df_to_update.sort_values(by=\"createdate\", ascending=False)[\n",
    "    :LIMIT\n",
    "].reset_index(drop=True)\n",
    "\n",
    "df_to_update"
   ]
  },
  {
   "cell_type": "markdown",
   "id": "invalid-cologne",
   "metadata": {
    "papermill": {},
    "tags": []
   },
   "source": [
    "### Get followers from Linkedin"
   ]
  },
  {
   "cell_type": "code",
   "execution_count": null,
   "id": "animated-certificate",
   "metadata": {
    "papermill": {},
    "tags": []
   },
   "outputs": [],
   "source": [
    "for _, row in df_to_update.iterrows():\n",
    "    linkedinbio = row.linkedinbio\n",
    "\n",
    "    # Get followers\n",
    "    df = linkedin.connect(LI_AT, JSESSIONID).profile.get_network(linkedinbio)\n",
    "    linkedinconnections = df.loc[0, \"FOLLOWERS_COUNT\"]\n",
    "\n",
    "    # Get linkedinbio\n",
    "    df_to_update.loc[_, \"linkedinconnections\"] = linkedinconnections\n",
    "\n",
    "df_to_update"
   ]
  },
  {
   "cell_type": "markdown",
   "id": "viral-grocery",
   "metadata": {
    "papermill": {},
    "tags": []
   },
   "source": [
    "## Output"
   ]
  },
  {
   "cell_type": "markdown",
   "id": "ruled-sucking",
   "metadata": {
    "papermill": {},
    "tags": []
   },
   "source": [
    "### Update followers in Hubspot"
   ]
  },
  {
   "cell_type": "code",
   "execution_count": null,
   "id": "adopted-establishment",
   "metadata": {
    "papermill": {},
    "tags": []
   },
   "outputs": [],
   "source": [
    "for _, row in df_to_update.iterrows():\n",
    "    # Init data\n",
    "    data = {}\n",
    "\n",
    "    # Get data\n",
    "    hs_object_id = row.hs_object_id\n",
    "    linkedinconnections = row.linkedinconnections\n",
    "\n",
    "    # Update LK Bio\n",
    "    if linkedinconnections != None:\n",
    "        data = {\"properties\": {\"linkedinconnections\": linkedinconnections}}\n",
    "    hubspot.connect(HS_ACCESS_TOKEN).contacts.patch(hs_object_id, data)"
   ]
  }
 ],
 "metadata": {
  "kernelspec": {
   "display_name": "Python 3",
   "language": "python",
   "name": "python3"
  },
  "language_info": {
   "codemirror_mode": {
    "name": "ipython",
    "version": 3
   },
   "file_extension": ".py",
   "mimetype": "text/x-python",
   "name": "python",
   "nbconvert_exporter": "python",
   "pygments_lexer": "ipython3",
   "version": "3.9.6"
  },
  "naas": {
   "notebook_id": "88be80ac-4756-4b53-978e-42a349b957b5",
   "notebook_path": "HubSpot/HubSpot_Update_followers_from_linkedin.ipynb"
  },
  "papermill": {
   "default_parameters": {},
   "environment_variables": {},
   "parameters": {},
   "version": "2.3.3"
  }
 },
 "nbformat": 4,
 "nbformat_minor": 5
}