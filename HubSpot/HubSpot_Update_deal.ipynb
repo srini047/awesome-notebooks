{
 "cells": [
  {
   "cell_type": "markdown",
   "id": "confirmed-qatar",
   "metadata": {
    "papermill": {},
    "tags": []
   },
   "source": [
    "<img width=\"10%\" alt=\"Naas\" src=\"https://landen.imgix.net/jtci2pxwjczr/assets/5ice39g4.png?w=160\"/>"
   ]
  },
  {
   "cell_type": "markdown",
   "id": "nervous-interaction",
   "metadata": {
    "papermill": {},
    "tags": []
   },
   "source": [
    "# HubSpot - Update deal\n",
    "<a href=\"https://app.naas.ai/user-redirect/naas/downloader?url=https://raw.githubusercontent.com/jupyter-naas/awesome-notebooks/master/HubSpot/HubSpot_Update_deal.ipynb\" target=\"_parent\"><img src=\"https://naasai-public.s3.eu-west-3.amazonaws.com/Open_in_Naas_Lab.svg\"/></a><br><br><a href=\"https://github.com/jupyter-naas/awesome-notebooks/issues/new?assignees=&labels=&template=template-request.md&title=Tool+-+Action+of+the+notebook+\">Template request</a> | <a href=\"https://github.com/jupyter-naas/awesome-notebooks/issues/new?assignees=&labels=bug&template=bug_report.md&title=HubSpot+-+Update+deal:+Error+short+description\">Bug report</a> | <a href=\"https://app.naas.ai/user-redirect/naas/downloader?url=https://raw.githubusercontent.com/jupyter-naas/awesome-notebooks/master/Naas/Naas_Start_data_product.ipynb\" target=\"_parent\">Generate Data Product</a>"
   ]
  },
  {
   "cell_type": "markdown",
   "id": "homeless-traffic",
   "metadata": {
    "papermill": {},
    "tags": []
   },
   "source": [
    "**Tags:** #hubspot #crm #sales #deal #naas_drivers #snippet"
   ]
  },
  {
   "cell_type": "markdown",
   "id": "760eb50e-df7f-4ba3-8b5b-e6477a67ae49",
   "metadata": {
    "papermill": {},
    "tags": []
   },
   "source": [
    "**Author:** [Florent Ravenel](https://www.linkedin.com/in/florent-ravenel/)"
   ]
  },
  {
   "cell_type": "markdown",
   "id": "naas-description",
   "metadata": {
    "papermill": {},
    "tags": [
     "description"
    ]
   },
   "source": [
    "**Description:** This notebook allows users to update deals in HubSpot."
   ]
  },
  {
   "cell_type": "markdown",
   "id": "mental-standard",
   "metadata": {
    "papermill": {},
    "tags": []
   },
   "source": [
    "## Input"
   ]
  },
  {
   "cell_type": "markdown",
   "id": "manufactured-borough",
   "metadata": {
    "papermill": {},
    "tags": []
   },
   "source": [
    "### Import libraries"
   ]
  },
  {
   "cell_type": "code",
   "execution_count": null,
   "id": "vanilla-astronomy",
   "metadata": {
    "papermill": {},
    "tags": []
   },
   "outputs": [],
   "source": [
    "from naas_drivers import hubspot"
   ]
  },
  {
   "cell_type": "markdown",
   "id": "psychological-census",
   "metadata": {
    "papermill": {},
    "tags": []
   },
   "source": [
    "### Setup HubSpot\n",
    "👉 Starting November 30, 2022, HubSpot API keys no longer enable access to HubSpot APIs, so in Naas version 2.8.3 and above, you need [create a private app and use the access token](https://developers.hubspot.com/docs/api/private-apps)."
   ]
  },
  {
   "cell_type": "markdown",
   "id": "135e0324-c434-46b9-bd88-331fd8aefbff",
   "metadata": {
    "papermill": {},
    "tags": []
   },
   "source": [
    "#### Enter Your Access Token"
   ]
  },
  {
   "cell_type": "code",
   "execution_count": null,
   "id": "4d276feb-62ef-403e-939c-3aa51881027f",
   "metadata": {
    "papermill": {},
    "tags": []
   },
   "outputs": [],
   "source": [
    "HS_ACCESS_TOKEN = naas.secret.get(\"HS_ACCESS_TOKEN\") or \"YOUR_HS_ACCESS_TOKEN\""
   ]
  },
  {
   "cell_type": "markdown",
   "id": "christian-wireless",
   "metadata": {
    "papermill": {},
    "tags": []
   },
   "source": [
    "#### Enter deal parameters to update"
   ]
  },
  {
   "cell_type": "code",
   "execution_count": null,
   "id": "israeli-undergraduate",
   "metadata": {
    "papermill": {},
    "tags": []
   },
   "outputs": [],
   "source": [
    "deal_id = \"3501002068\"\n",
    "dealname = \"TEST\"\n",
    "dealstage = \"5102584\"\n",
    "closedate = \"2021-12-31\"  # date format must be %Y-%m-%d\n",
    "amount = \"100.50\"\n",
    "hubspot_owner_id = None"
   ]
  },
  {
   "cell_type": "markdown",
   "id": "present-alarm",
   "metadata": {
    "papermill": {},
    "tags": []
   },
   "source": [
    "## Model"
   ]
  },
  {
   "cell_type": "markdown",
   "id": "herbal-evening",
   "metadata": {
    "papermill": {},
    "tags": []
   },
   "source": [
    "### Update deal using patch method\n",
    "This method will allow you to update any deal properties available in your HubSpot."
   ]
  },
  {
   "cell_type": "code",
   "execution_count": null,
   "id": "complete-character",
   "metadata": {
    "papermill": {},
    "tags": []
   },
   "outputs": [],
   "source": [
    "update_deal = {\n",
    "    \"properties\": {\n",
    "        \"dealstage\": dealstage,\n",
    "        \"dealname\": dealname,\n",
    "        \"amount\": amount,\n",
    "        \"closedate\": closedate,\n",
    "        \"hubspot_owner_id\": hubspot_owner_id,\n",
    "    }\n",
    "}\n",
    "\n",
    "deal1 = hubspot.connect(HS_ACCESS_TOKEN).deals.patch(deal_id, update_deal)"
   ]
  },
  {
   "cell_type": "markdown",
   "id": "million-worth",
   "metadata": {
    "papermill": {},
    "tags": []
   },
   "source": [
    "### Update deal using update method"
   ]
  },
  {
   "cell_type": "code",
   "execution_count": null,
   "id": "collective-resistance",
   "metadata": {
    "papermill": {},
    "tags": []
   },
   "outputs": [],
   "source": [
    "deal2 = hubspot.connect(HS_ACCESS_TOKEN).deals.update(\n",
    "    deal_id, dealname, dealstage, closedate, amount, hubspot_owner_id\n",
    ")"
   ]
  },
  {
   "cell_type": "markdown",
   "id": "possible-closer",
   "metadata": {
    "papermill": {},
    "tags": []
   },
   "source": [
    "## Output"
   ]
  },
  {
   "cell_type": "markdown",
   "id": "4ab8ae5e-c8e9-4e7c-a48c-54afce1f4165",
   "metadata": {
    "papermill": {},
    "tags": []
   },
   "source": [
    "### Display results"
   ]
  },
  {
   "cell_type": "code",
   "execution_count": null,
   "id": "da71fd75-b728-41ca-99e7-4e3daf7a801e",
   "metadata": {
    "papermill": {},
    "tags": []
   },
   "outputs": [],
   "source": [
    "deal1"
   ]
  },
  {
   "cell_type": "code",
   "execution_count": null,
   "id": "0b652a5c-8952-4e53-90c9-a169ae1fa431",
   "metadata": {
    "papermill": {},
    "tags": []
   },
   "outputs": [],
   "source": [
    "deal2"
   ]
  }
 ],
 "metadata": {
  "kernelspec": {
   "display_name": "Python 3",
   "language": "python",
   "name": "python3"
  },
  "language_info": {
   "codemirror_mode": {
    "name": "ipython",
    "version": 3
   },
   "file_extension": ".py",
   "mimetype": "text/x-python",
   "name": "python",
   "nbconvert_exporter": "python",
   "pygments_lexer": "ipython3",
   "version": "3.9.6"
  },
  "naas": {
   "notebook_id": "fc58ab67c6bf65de49ba644a4fe56839a4aab81c0c594fbfad7fd64ff672f030",
   "notebook_path": "HubSpot/HubSpot_Update_deal.ipynb"
  },
  "papermill": {
   "default_parameters": {},
   "environment_variables": {},
   "parameters": {},
   "version": "2.3.3"
  }
 },
 "nbformat": 4,
 "nbformat_minor": 5
}