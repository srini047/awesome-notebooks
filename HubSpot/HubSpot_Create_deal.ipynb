{
 "cells": [
  {
   "cell_type": "markdown",
   "id": "further-conflict",
   "metadata": {
    "papermill": {},
    "tags": []
   },
   "source": [
    "<img width=\"10%\" alt=\"Naas\" src=\"https://landen.imgix.net/jtci2pxwjczr/assets/5ice39g4.png?w=160\"/>"
   ]
  },
  {
   "cell_type": "markdown",
   "id": "personalized-cleaning",
   "metadata": {
    "papermill": {},
    "tags": []
   },
   "source": [
    "# HubSpot - Create deal\n",
    "<a href=\"https://app.naas.ai/user-redirect/naas/downloader?url=https://raw.githubusercontent.com/jupyter-naas/awesome-notebooks/master/HubSpot/HubSpot_Create_deal.ipynb\" target=\"_parent\"><img src=\"https://naasai-public.s3.eu-west-3.amazonaws.com/open_in_naas.svg\"/></a><br><br><a href=\"https://github.com/jupyter-naas/awesome-notebooks/issues/new?assignees=&labels=&template=template-request.md&title=Tool+-+Action+of+the+notebook+\">Template request</a> | <a href=\"https://github.com/jupyter-naas/awesome-notebooks/issues/new?assignees=&labels=bug&template=bug_report.md&title=HubSpot+-+Create+deal:+Error+short+description\">Bug report</a>"
   ]
  },
  {
   "cell_type": "markdown",
   "id": "advisory-killing",
   "metadata": {
    "papermill": {},
    "tags": []
   },
   "source": [
    "**Tags:** #hubspot #crm #sales #deal #naas_drivers #snippet"
   ]
  },
  {
   "cell_type": "markdown",
   "id": "bfe1154e-db9f-4ebd-b783-2446aa50e82c",
   "metadata": {
    "papermill": {},
    "tags": []
   },
   "source": [
    "**Author:** [Florent Ravenel](https://www.linkedin.com/in/florent-ravenel/)"
   ]
  },
  {
   "cell_type": "markdown",
   "id": "naas-description",
   "metadata": {
    "papermill": {},
    "tags": [
     "description"
    ]
   },
   "source": [
    "**Description:** This notebook allows users to create deals in HubSpot, helping them to manage their sales pipeline."
   ]
  },
  {
   "cell_type": "markdown",
   "id": "legal-button",
   "metadata": {
    "papermill": {},
    "tags": []
   },
   "source": [
    "## Input"
   ]
  },
  {
   "cell_type": "markdown",
   "id": "integrated-emergency",
   "metadata": {
    "papermill": {},
    "tags": []
   },
   "source": [
    "### Import libraries"
   ]
  },
  {
   "cell_type": "code",
   "execution_count": null,
   "id": "indian-bacteria",
   "metadata": {
    "papermill": {},
    "tags": []
   },
   "outputs": [],
   "source": [
    "from naas_drivers import hubspot\n",
    "import naas"
   ]
  },
  {
   "cell_type": "markdown",
   "id": "large-producer",
   "metadata": {
    "papermill": {},
    "tags": []
   },
   "source": [
    "### Setup HubSpot\n",
    "👉 Starting November 30, 2022, HubSpot API keys no longer enable access to HubSpot APIs, so in Naas version 2.8.3 and above, you need [create a private app and use the access token](https://developers.hubspot.com/docs/api/private-apps)."
   ]
  },
  {
   "cell_type": "markdown",
   "id": "e91653d0-aaef-46ef-8d58-60a96e9fd536",
   "metadata": {
    "papermill": {},
    "tags": []
   },
   "source": [
    "#### Enter Your Access Token"
   ]
  },
  {
   "cell_type": "code",
   "execution_count": null,
   "id": "a1d8cea7-c7ea-4324-b81f-d6950619a9ff",
   "metadata": {
    "papermill": {},
    "tags": []
   },
   "outputs": [],
   "source": [
    "HS_ACCESS_TOKEN = naas.secret.get(\"HS_ACCESS_TOKEN\") or \"YOUR_HS_ACCESS_TOKEN\""
   ]
  },
  {
   "cell_type": "markdown",
   "id": "banner-horror",
   "metadata": {
    "papermill": {},
    "tags": []
   },
   "source": [
    "#### Enter deal parameters"
   ]
  },
  {
   "cell_type": "code",
   "execution_count": null,
   "id": "applicable-situation",
   "metadata": {
    "papermill": {},
    "tags": []
   },
   "outputs": [],
   "source": [
    "dealname = \"TEST\"\n",
    "closedate = None  # must be in format %Y-%m-%d\n",
    "amount = None\n",
    "hubspot_owner_id = None"
   ]
  },
  {
   "cell_type": "markdown",
   "id": "26391c16-6b01-4569-a0d4-febab087420b",
   "metadata": {
    "papermill": {},
    "tags": []
   },
   "source": [
    "#### Enter deal stage ID"
   ]
  },
  {
   "cell_type": "code",
   "execution_count": null,
   "id": "9cbeb55b-3333-47fb-a0e6-42b6504ec807",
   "metadata": {
    "papermill": {},
    "tags": []
   },
   "outputs": [],
   "source": [
    "df_pipelines = hubspot.connect(HS_ACCESS_TOKEN).pipelines.get_all()\n",
    "df_pipelines"
   ]
  },
  {
   "cell_type": "code",
   "execution_count": null,
   "id": "d0df8794-53cb-4ba1-ba12-18a01065a2ea",
   "metadata": {
    "papermill": {},
    "tags": []
   },
   "outputs": [],
   "source": [
    "dealstage = \"5102584\""
   ]
  },
  {
   "cell_type": "markdown",
   "id": "powered-kansas",
   "metadata": {
    "papermill": {},
    "tags": []
   },
   "source": [
    "## Model"
   ]
  },
  {
   "cell_type": "markdown",
   "id": "a141bbbf-8d32-46a7-80d1-85bc5140a6e5",
   "metadata": {
    "papermill": {},
    "tags": []
   },
   "source": [
    "### Create deal using send method\n",
    "This method will allow you to add any deal properties available in your HubSpot."
   ]
  },
  {
   "cell_type": "code",
   "execution_count": null,
   "id": "facial-benchmark",
   "metadata": {
    "papermill": {},
    "tags": []
   },
   "outputs": [],
   "source": [
    "deal1 = {\n",
    "    \"properties\": {\n",
    "        \"dealstage\": dealstage,\n",
    "        \"dealname\": dealname,\n",
    "        \"amount\": amount,\n",
    "        \"closedate\": closedate,\n",
    "        \"hubspot_owner_id\": hubspot_owner_id,\n",
    "    }\n",
    "}\n",
    "\n",
    "deal1 = hubspot.connect(HS_ACCESS_TOKEN).deals.send(send_deal)"
   ]
  },
  {
   "cell_type": "markdown",
   "id": "missing-australia",
   "metadata": {
    "papermill": {},
    "tags": []
   },
   "source": [
    "### Create deal using create method"
   ]
  },
  {
   "cell_type": "code",
   "execution_count": null,
   "id": "interim-morocco",
   "metadata": {
    "papermill": {},
    "tags": []
   },
   "outputs": [],
   "source": [
    "deal2 = hubspot.connect(HS_ACCESS_TOKEN).deals.create(dealname, dealstage, closedate)"
   ]
  },
  {
   "cell_type": "markdown",
   "id": "growing-shower",
   "metadata": {
    "papermill": {},
    "tags": []
   },
   "source": [
    "## Output"
   ]
  },
  {
   "cell_type": "markdown",
   "id": "3bf01d5c-5950-4ad0-9492-e414e36e1990",
   "metadata": {
    "papermill": {},
    "tags": []
   },
   "source": [
    "### Display results"
   ]
  },
  {
   "cell_type": "code",
   "execution_count": null,
   "id": "444cd009-9d2e-4428-bf10-8faf5ac94fde",
   "metadata": {
    "papermill": {},
    "tags": []
   },
   "outputs": [],
   "source": [
    "deal1"
   ]
  },
  {
   "cell_type": "code",
   "execution_count": null,
   "id": "8a2b15d3-32d3-4276-94b2-84c10854d833",
   "metadata": {
    "papermill": {},
    "tags": []
   },
   "outputs": [],
   "source": [
    "deal2"
   ]
  }
 ],
 "metadata": {
  "kernelspec": {
   "display_name": "Python 3",
   "language": "python",
   "name": "python3"
  },
  "language_info": {
   "codemirror_mode": {
    "name": "ipython",
    "version": 3
   },
   "file_extension": ".py",
   "mimetype": "text/x-python",
   "name": "python",
   "nbconvert_exporter": "python",
   "pygments_lexer": "ipython3",
   "version": "3.9.6"
  },
  "naas": {
   "notebook_id": "b1f6137c-42cd-49af-85aa-60ba489d5e42",
   "notebook_path": "HubSpot/HubSpot_Create_deal.ipynb"
  },
  "papermill": {
   "default_parameters": {},
   "environment_variables": {},
   "parameters": {},
   "version": "2.3.3"
  }
 },
 "nbformat": 4,
 "nbformat_minor": 5
}