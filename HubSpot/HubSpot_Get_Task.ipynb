{
 "cells": [
  {
   "cell_type": "markdown",
   "id": "latin-packing",
   "metadata": {
    "execution": {
     "iopub.execute_input": "2021-02-23T14:22:16.610471Z",
     "iopub.status.busy": "2021-02-23T14:22:16.610129Z",
     "iopub.status.idle": "2021-02-23T14:22:16.627784Z",
     "shell.execute_reply": "2021-02-23T14:22:16.626866Z",
     "shell.execute_reply.started": "2021-02-23T14:22:16.610384Z"
    },
    "papermill": {},
    "tags": []
   },
   "source": [
    "<img width=\"10%\" alt=\"Naas\" src=\"https://landen.imgix.net/jtci2pxwjczr/assets/5ice39g4.png?w=160\"/>"
   ]
  },
  {
   "cell_type": "markdown",
   "id": "compressed-wilson",
   "metadata": {
    "papermill": {},
    "tags": []
   },
   "source": [
    "# HubSpot - Get Task\n",
    "<a href=\"https://app.naas.ai/user-redirect/naas/downloader?url=https://raw.githubusercontent.com/jupyter-naas/awesome-notebooks/master/HubSpot/HubSpot_Get_Task.ipynb\" target=\"_parent\"><img src=\"https://naasai-public.s3.eu-west-3.amazonaws.com/Open_in_Naas_Lab.svg\"/></a><br><br><a href=\"https://github.com/jupyter-naas/awesome-notebooks/issues/new?assignees=&labels=&template=template-request.md&title=Tool+-+Action+of+the+notebook+\">Template request</a> | <a href=\"https://github.com/jupyter-naas/awesome-notebooks/issues/new?assignees=&labels=bug&template=bug_report.md&title=HubSpot+-+Get+Task:+Error+short+description\">Bug report</a> | <a href=\"https://app.naas.ai/user-redirect/naas/downloader?url=https://raw.githubusercontent.com/jupyter-naas/awesome-notebooks/master/Naas/Naas_Start_data_product.ipynb\" target=\"_parent\">Generate Data Product</a>"
   ]
  },
  {
   "cell_type": "markdown",
   "id": "religious-programmer",
   "metadata": {
    "papermill": {},
    "tags": []
   },
   "source": [
    "**Tags:** #hubspot #sales #crm #engagements #task #snippet #json"
   ]
  },
  {
   "cell_type": "markdown",
   "id": "1fe9f56e-561c-4f52-aef8-b861c9462107",
   "metadata": {
    "papermill": {},
    "tags": []
   },
   "source": [
    "**Author:** [Alok Chilka](https://www.linkedin.com/in/calok64/)"
   ]
  },
  {
   "cell_type": "markdown",
   "id": "5813e973-df1c-4240-bcdf-54141a9a731a",
   "metadata": {
    "papermill": {},
    "tags": []
   },
   "source": [
    "**Description:** This template will get a task in HubSpot. "
   ]
  },
  {
   "cell_type": "markdown",
   "id": "distinguished-truth",
   "metadata": {
    "papermill": {},
    "tags": []
   },
   "source": [
    "## Input"
   ]
  },
  {
   "cell_type": "markdown",
   "id": "numeric-mediterranean",
   "metadata": {
    "papermill": {},
    "tags": []
   },
   "source": [
    "### Import libraries"
   ]
  },
  {
   "cell_type": "code",
   "execution_count": 1,
   "id": "potential-surfing",
   "metadata": {
    "papermill": {},
    "tags": []
   },
   "outputs": [],
   "source": [
    "from datetime import datetime, timedelta\n",
    "import requests, math\n",
    "import json\n",
    "import naas"
   ]
  },
  {
   "cell_type": "markdown",
   "id": "c08dd35d-d963-4bfc-9837-875b679b1d3d",
   "metadata": {
    "papermill": {},
    "tags": []
   },
   "source": [
    "### Setup HubSpot\n",
    "👉 Starting November 30, 2022, HubSpot API keys no longer enable access to HubSpot APIs, so in Naas version 2.8.3 and above, you need [create a private app and use the access token](https://developers.hubspot.com/docs/api/private-apps)."
   ]
  },
  {
   "cell_type": "markdown",
   "id": "e067f38b-f193-45ea-ae12-f0f4498fc009",
   "metadata": {
    "papermill": {},
    "tags": []
   },
   "source": [
    "#### Enter Your Access Token"
   ]
  },
  {
   "cell_type": "code",
   "execution_count": null,
   "id": "caa8260a-62a3-4cc3-9c84-3a9e6023233a",
   "metadata": {
    "papermill": {},
    "tags": []
   },
   "outputs": [],
   "source": [
    "HS_ACCESS_TOKEN = naas.secret.get(\"HS_ACCESS_TOKEN\") or \"YOUR_HS_ACCESS_TOKEN\""
   ]
  },
  {
   "cell_type": "markdown",
   "id": "aggressive-trustee",
   "metadata": {
    "papermill": {},
    "tags": []
   },
   "source": [
    "### Setup your task info"
   ]
  },
  {
   "cell_type": "code",
   "execution_count": 3,
   "id": "bdc6ee8b-0fb6-4e3e-9325-930bffa3f16e",
   "metadata": {
    "papermill": {},
    "tags": []
   },
   "outputs": [],
   "source": [
    "contact_id = 1551\n",
    "owner_id = 111111086\n",
    "\n",
    "# Time delay to get tasks created since N days, where N is no of days. For ex. Get tasks created since 1 day\n",
    "time_delay = 10\n",
    "\n",
    "# Number of tasks to be retrieved\n",
    "no_of_tasks = 10"
   ]
  },
  {
   "cell_type": "markdown",
   "id": "registered-showcase",
   "metadata": {
    "papermill": {},
    "tags": []
   },
   "source": [
    "## Model"
   ]
  },
  {
   "cell_type": "markdown",
   "id": "321e0cc4-7648-48d2-989c-6250a6f3a9a0",
   "metadata": {
    "papermill": {},
    "tags": []
   },
   "source": [
    "### Function to get recent tasks"
   ]
  },
  {
   "cell_type": "code",
   "execution_count": 5,
   "id": "dff59c04-748c-4604-9b2f-d16e8553bf29",
   "metadata": {
    "papermill": {},
    "tags": []
   },
   "outputs": [],
   "source": [
    "def get_task(contact_id, owner_id, time_delay, no_of_tasks):\n",
    "    \"\"\"\n",
    "    Engagement type = TASK\n",
    "    \"\"\"\n",
    "\n",
    "    # Calc timestamp\n",
    "    Previous_Date = datetime.now() - timedelta(days=time_delay)\n",
    "    Previous_tstamp = Previous_Date.timestamp() * 1000\n",
    "    Previous_tstamp = math.trunc(Previous_tstamp)\n",
    "\n",
    "    url = \"https://api.hubapi.com/engagements/v1/engagements/recent/modified\"\n",
    "    params = {\"since\": Previous_tstamp, \"count\": no_of_tasks}\n",
    "    headers = {\n",
    "        \"Content-Type\": \"application/json\",\n",
    "        \"authorization\": f\"Bearer {HS_ACCESS_TOKEN}\",\n",
    "    }\n",
    "    # Post requests\n",
    "    res = requests.get(url, headers=headers, params=params)\n",
    "\n",
    "    if res.status_code == 200:\n",
    "\n",
    "        res_json = res.json()\n",
    "\n",
    "        # Check requests\n",
    "        try:\n",
    "            res.raise_for_status()\n",
    "        except requests.HTTPError as e:\n",
    "            raise (e)\n",
    "        res_json = res.json()\n",
    "\n",
    "        return res_json\n",
    "    else:\n",
    "        print(\"Task not found\")"
   ]
  },
  {
   "cell_type": "markdown",
   "id": "lonely-pacific",
   "metadata": {
    "execution": {
     "iopub.execute_input": "2021-07-02T23:32:10.789097Z",
     "iopub.status.busy": "2021-07-02T23:32:10.788829Z",
     "iopub.status.idle": "2021-07-02T23:32:10.796900Z",
     "shell.execute_reply": "2021-07-02T23:32:10.796358Z",
     "shell.execute_reply.started": "2021-07-02T23:32:10.789033Z"
    },
    "papermill": {},
    "tags": []
   },
   "source": [
    "## Output"
   ]
  },
  {
   "cell_type": "markdown",
   "id": "linear-address",
   "metadata": {
    "papermill": {},
    "tags": []
   },
   "source": [
    "### Get Recent task"
   ]
  },
  {
   "cell_type": "code",
   "execution_count": 6,
   "id": "ea94a4e6-a6e7-4bf2-beee-faab5ce9f5a4",
   "metadata": {
    "papermill": {},
    "tags": []
   },
   "outputs": [],
   "source": [
    "results = get_task(contact_id, owner_id, time_delay, no_of_tasks)"
   ]
  },
  {
   "cell_type": "code",
   "execution_count": null,
   "id": "b1350384-b84c-4901-b429-bdf9d7735d3f",
   "metadata": {
    "papermill": {},
    "tags": []
   },
   "outputs": [],
   "source": [
    "for key in results[\"results\"]:\n",
    "    print(\"---------------\")\n",
    "    print(key[\"engagement\"][\"id\"])"
   ]
  },
  {
   "cell_type": "code",
   "execution_count": null,
   "id": "e691262f-286f-409c-a002-d98ac4aa8139",
   "metadata": {
    "papermill": {},
    "tags": []
   },
   "outputs": [],
   "source": []
  }
 ],
 "metadata": {
  "kernelspec": {
   "display_name": "Python 3",
   "language": "python",
   "name": "python3"
  },
  "language_info": {
   "codemirror_mode": {
    "name": "ipython",
    "version": 3
   },
   "file_extension": ".py",
   "mimetype": "text/x-python",
   "name": "python",
   "nbconvert_exporter": "python",
   "pygments_lexer": "ipython3",
   "version": "3.9.6"
  },
  "naas": {
   "notebook_id": "dca97b52f36c302df5c197d00895c621c69829e47a41bc1869b310a2795d7deb",
   "notebook_path": "HubSpot/HubSpot_Get_Task.ipynb"
  },
  "papermill": {
   "default_parameters": {},
   "environment_variables": {},
   "parameters": {},
   "version": "2.3.3"
  },
  "widgets": {
   "application/vnd.jupyter.widget-state+json": {
    "state": {},
    "version_major": 2,
    "version_minor": 0
   }
  }
 },
 "nbformat": 4,
 "nbformat_minor": 5
}