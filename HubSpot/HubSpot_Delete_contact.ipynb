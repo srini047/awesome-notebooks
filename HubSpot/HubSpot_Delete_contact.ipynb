{
 "cells": [
  {
   "cell_type": "markdown",
   "id": "expressed-daisy",
   "metadata": {
    "papermill": {},
    "tags": []
   },
   "source": [
    "<img width=\"10%\" alt=\"Naas\" src=\"https://landen.imgix.net/jtci2pxwjczr/assets/5ice39g4.png?w=160\"/>"
   ]
  },
  {
   "cell_type": "markdown",
   "id": "prospective-parker",
   "metadata": {
    "papermill": {},
    "tags": []
   },
   "source": [
    "# HubSpot - Delete contact\n",
    "<a href=\"https://app.naas.ai/user-redirect/naas/downloader?url=https://raw.githubusercontent.com/jupyter-naas/awesome-notebooks/master/HubSpot/HubSpot_Delete_contact.ipynb\" target=\"_parent\"><img src=\"https://naasai-public.s3.eu-west-3.amazonaws.com/Open_in_Naas_Lab.svg\"/></a><br><br><a href=\"https://github.com/jupyter-naas/awesome-notebooks/issues/new?assignees=&labels=&template=template-request.md&title=Tool+-+Action+of+the+notebook+\">Template request</a> | <a href=\"https://github.com/jupyter-naas/awesome-notebooks/issues/new?assignees=&labels=bug&template=bug_report.md&title=HubSpot+-+Delete+contact:+Error+short+description\">Bug report</a> | <a href=\"https://app.naas.ai/user-redirect/naas/downloader?url=https://raw.githubusercontent.com/jupyter-naas/awesome-notebooks/master/Naas/Naas_Start_data_product.ipynb\" target=\"_parent\">Generate Data Product</a>"
   ]
  },
  {
   "cell_type": "markdown",
   "id": "accessory-burke",
   "metadata": {
    "papermill": {},
    "tags": []
   },
   "source": [
    "**Tags:** #hubspot #crm #sales #contact #naas_drivers #snippet"
   ]
  },
  {
   "cell_type": "markdown",
   "id": "6caf958a-6ed9-4ae5-8555-c17676566d8d",
   "metadata": {
    "papermill": {},
    "tags": []
   },
   "source": [
    "**Author:** [Florent Ravenel](https://www.linkedin.com/in/florent-ravenel/)"
   ]
  },
  {
   "cell_type": "markdown",
   "id": "naas-description",
   "metadata": {
    "papermill": {},
    "tags": [
     "description"
    ]
   },
   "source": [
    "**Description:** This notebook allows users to delete contacts from their HubSpot account."
   ]
  },
  {
   "cell_type": "markdown",
   "id": "french-coffee",
   "metadata": {
    "papermill": {},
    "tags": []
   },
   "source": [
    "## Input"
   ]
  },
  {
   "cell_type": "markdown",
   "id": "combined-documentary",
   "metadata": {
    "papermill": {},
    "tags": []
   },
   "source": [
    "### Import libraries"
   ]
  },
  {
   "cell_type": "code",
   "execution_count": null,
   "id": "increasing-alaska",
   "metadata": {
    "papermill": {},
    "tags": []
   },
   "outputs": [],
   "source": [
    "from naas_drivers import hubspot\n",
    "import naas"
   ]
  },
  {
   "cell_type": "markdown",
   "id": "primary-management",
   "metadata": {
    "papermill": {},
    "tags": []
   },
   "source": [
    "### Setup HubSpot\n",
    "👉 Starting November 30, 2022, HubSpot API keys no longer enable access to HubSpot APIs, so in Naas version 2.8.3 and above, you need [create a private app and use the access token](https://developers.hubspot.com/docs/api/private-apps)."
   ]
  },
  {
   "cell_type": "markdown",
   "id": "3b9a469a-27c2-4cbd-bbbb-b9cce5a17b25",
   "metadata": {
    "papermill": {},
    "tags": []
   },
   "source": [
    "#### Enter Your Access Token"
   ]
  },
  {
   "cell_type": "code",
   "execution_count": null,
   "id": "58302533-854a-44ca-9c1f-d198fd51cdbe",
   "metadata": {
    "papermill": {},
    "tags": []
   },
   "outputs": [],
   "source": [
    "HS_ACCESS_TOKEN = naas.secret.get(\"HS_ACCESS_TOKEN\") or \"YOUR_HS_ACCESS_TOKEN\""
   ]
  },
  {
   "cell_type": "markdown",
   "id": "featured-jesus",
   "metadata": {
    "papermill": {},
    "tags": []
   },
   "source": [
    "#### Enter contact id"
   ]
  },
  {
   "cell_type": "code",
   "execution_count": null,
   "id": "filled-sussex",
   "metadata": {
    "papermill": {},
    "tags": []
   },
   "outputs": [],
   "source": [
    "contact_id = \"280751\""
   ]
  },
  {
   "cell_type": "markdown",
   "id": "faced-donna",
   "metadata": {
    "papermill": {},
    "tags": []
   },
   "source": [
    "## Model"
   ]
  },
  {
   "cell_type": "markdown",
   "id": "knowing-lyric",
   "metadata": {
    "papermill": {},
    "tags": []
   },
   "source": [
    "### Delete contact"
   ]
  },
  {
   "cell_type": "code",
   "execution_count": null,
   "id": "higher-count",
   "metadata": {
    "papermill": {},
    "tags": []
   },
   "outputs": [],
   "source": [
    "contact = hubspot.connect(HS_ACCESS_TOKEN).contacts.delete(contact_id)"
   ]
  },
  {
   "cell_type": "markdown",
   "id": "duplicate-basis",
   "metadata": {
    "papermill": {},
    "tags": []
   },
   "source": [
    "## Output"
   ]
  },
  {
   "cell_type": "markdown",
   "id": "67eaaf88-7ace-454c-8590-ea42c17d695d",
   "metadata": {
    "papermill": {},
    "tags": []
   },
   "source": [
    "### Display result"
   ]
  },
  {
   "cell_type": "code",
   "execution_count": null,
   "id": "b9a340c5-633e-4b15-80f2-e130008bea07",
   "metadata": {
    "papermill": {},
    "tags": []
   },
   "outputs": [],
   "source": [
    "contact"
   ]
  }
 ],
 "metadata": {
  "kernelspec": {
   "display_name": "Python 3",
   "language": "python",
   "name": "python3"
  },
  "language_info": {
   "codemirror_mode": {
    "name": "ipython",
    "version": 3
   },
   "file_extension": ".py",
   "mimetype": "text/x-python",
   "name": "python",
   "nbconvert_exporter": "python",
   "pygments_lexer": "ipython3",
   "version": "3.9.6"
  },
  "naas": {
   "notebook_id": "758eceb0755d55869262781c0fdbf0ae8897488501d0c5a019bb29f299889448",
   "notebook_path": "HubSpot/HubSpot_Delete_contact.ipynb"
  },
  "papermill": {
   "default_parameters": {},
   "environment_variables": {},
   "parameters": {},
   "version": "2.3.3"
  }
 },
 "nbformat": 4,
 "nbformat_minor": 5
}