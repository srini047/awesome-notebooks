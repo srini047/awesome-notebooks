{
 "cells": [
  {
   "cell_type": "markdown",
   "id": "latin-packing",
   "metadata": {
    "execution": {
     "iopub.execute_input": "2021-02-23T14:22:16.610471Z",
     "iopub.status.busy": "2021-02-23T14:22:16.610129Z",
     "iopub.status.idle": "2021-02-23T14:22:16.627784Z",
     "shell.execute_reply": "2021-02-23T14:22:16.626866Z",
     "shell.execute_reply.started": "2021-02-23T14:22:16.610384Z"
    },
    "papermill": {},
    "tags": []
   },
   "source": [
    "<img width=\"10%\" alt=\"Naas\" src=\"https://landen.imgix.net/jtci2pxwjczr/assets/5ice39g4.png?w=160\"/>"
   ]
  },
  {
   "cell_type": "markdown",
   "id": "compressed-wilson",
   "metadata": {
    "papermill": {},
    "tags": []
   },
   "source": [
    "# HubSpot - Create Task\n",
    "<a href=\"https://app.naas.ai/user-redirect/naas/downloader?url=https://raw.githubusercontent.com/jupyter-naas/awesome-notebooks/master/HubSpot/HubSpot_Create_Task.ipynb\" target=\"_parent\"><img src=\"https://naasai-public.s3.eu-west-3.amazonaws.com/Open_in_Naas_Lab.svg\"/></a><br><br><a href=\"https://github.com/jupyter-naas/awesome-notebooks/issues/new?assignees=&labels=&template=template-request.md&title=Tool+-+Action+of+the+notebook+\">Template request</a> | <a href=\"https://github.com/jupyter-naas/awesome-notebooks/issues/new?assignees=&labels=bug&template=bug_report.md&title=HubSpot+-+Create+Task:+Error+short+description\">Bug report</a> | <a href=\"https://app.naas.ai/user-redirect/naas/downloader?url=https://raw.githubusercontent.com/jupyter-naas/awesome-notebooks/master/Naas/Naas_Start_data_product.ipynb\" target=\"_parent\">Generate Data Product</a>"
   ]
  },
  {
   "cell_type": "markdown",
   "id": "religious-programmer",
   "metadata": {
    "papermill": {},
    "tags": []
   },
   "source": [
    "**Tags:** #hubspot #sales #crm #engagements #task #snippet"
   ]
  },
  {
   "cell_type": "markdown",
   "id": "1fe9f56e-561c-4f52-aef8-b861c9462107",
   "metadata": {
    "papermill": {},
    "tags": []
   },
   "source": [
    "**Author:** [Alok Chilka](https://www.linkedin.com/in/calok64/)"
   ]
  },
  {
   "cell_type": "markdown",
   "id": "1b80532f-fa52-4a81-925b-a43cbb03d921",
   "metadata": {
    "papermill": {},
    "tags": []
   },
   "source": [
    "**Description:** This template will create a task in HubSpot. "
   ]
  },
  {
   "cell_type": "markdown",
   "id": "distinguished-truth",
   "metadata": {
    "papermill": {},
    "tags": []
   },
   "source": [
    "## Input"
   ]
  },
  {
   "cell_type": "markdown",
   "id": "numeric-mediterranean",
   "metadata": {
    "papermill": {},
    "tags": []
   },
   "source": [
    "### Import libraries"
   ]
  },
  {
   "cell_type": "code",
   "execution_count": null,
   "id": "potential-surfing",
   "metadata": {
    "papermill": {},
    "tags": []
   },
   "outputs": [],
   "source": [
    "from datetime import datetime, timedelta\n",
    "import requests\n",
    "import json\n",
    "import naas"
   ]
  },
  {
   "cell_type": "markdown",
   "id": "c08dd35d-d963-4bfc-9837-875b679b1d3d",
   "metadata": {
    "papermill": {},
    "tags": []
   },
   "source": [
    "### Setup HubSpot\n",
    "👉 Starting November 30, 2022, HubSpot API keys no longer enable access to HubSpot APIs, so in Naas version 2.8.3 and above, you need [create a private app and use the access token](https://developers.hubspot.com/docs/api/private-apps)."
   ]
  },
  {
   "cell_type": "markdown",
   "id": "3175eab4-f87a-44f2-8e6d-82cc40cd4bd5",
   "metadata": {
    "papermill": {},
    "tags": []
   },
   "source": [
    "#### Enter Your Access Token"
   ]
  },
  {
   "cell_type": "code",
   "execution_count": null,
   "id": "9435ce22-7400-408a-9f94-76fc0b017674",
   "metadata": {
    "papermill": {},
    "tags": []
   },
   "outputs": [],
   "source": [
    "HS_ACCESS_TOKEN = naas.secret.get(\"HS_ACCESS_TOKEN\") or \"YOUR_HS_ACCESS_TOKEN\""
   ]
  },
  {
   "cell_type": "markdown",
   "id": "aggressive-trustee",
   "metadata": {
    "papermill": {},
    "tags": []
   },
   "source": [
    "#### Setup your task info"
   ]
  },
  {
   "cell_type": "code",
   "execution_count": null,
   "id": "bdc6ee8b-0fb6-4e3e-9325-930bffa3f16e",
   "metadata": {
    "papermill": {},
    "tags": []
   },
   "outputs": [],
   "source": [
    "# Assign owner ID\n",
    "owner_id = 111111086\n",
    "\n",
    "# Associated contact ID\n",
    "asso_contactids = 1551\n",
    "\n",
    "# Time delay to\n",
    "\n",
    "# Associated contact IDset due date for tasks in days\n",
    "time_delay = 10\n",
    "\n",
    "# Task data\n",
    "subject = \"My Third task\"\n",
    "body = \"Call contacts\"\n",
    "status = \"NOT_STARTED\"  # NOT_STARTED | COMPLETED | IN_PROGRESS | WAITING | DEFERRED"
   ]
  },
  {
   "cell_type": "markdown",
   "id": "registered-showcase",
   "metadata": {
    "papermill": {},
    "tags": []
   },
   "source": [
    "## Model"
   ]
  },
  {
   "cell_type": "markdown",
   "id": "321e0cc4-7648-48d2-989c-6250a6f3a9a0",
   "metadata": {
    "papermill": {},
    "tags": []
   },
   "source": [
    "### Function to create task"
   ]
  },
  {
   "cell_type": "code",
   "execution_count": null,
   "id": "dff59c04-748c-4604-9b2f-d16e8553bf29",
   "metadata": {
    "papermill": {},
    "tags": []
   },
   "outputs": [],
   "source": [
    "def create_task(\n",
    "    owner_id,\n",
    "    time_delay,\n",
    "    subject,\n",
    "    body,\n",
    "    status,\n",
    "    asso_contactids=[],\n",
    "    asso_companyids=[],\n",
    "    asso_dealids=[],\n",
    "    asso_ownerids=[],\n",
    "    engagement=\"TASK\",\n",
    "):\n",
    "    \"\"\"\n",
    "    Engagement type = TASK | NOTE | EMAIL | MEETING | CALL\n",
    "    \"\"\"\n",
    "\n",
    "    # Calc timestamp\n",
    "    tstampobj = datetime.now() + timedelta(days=time_delay)\n",
    "    tstamp = tstampobj.timestamp() * 1000\n",
    "\n",
    "    # Create payload\n",
    "    payload = json.dumps(\n",
    "        {\n",
    "            \"engagement\": {\n",
    "                \"active\": \"true\",\n",
    "                \"ownerId\": owner_id,\n",
    "                \"type\": engagement,\n",
    "                \"timestamp\": tstamp,\n",
    "            },\n",
    "            \"associations\": {\n",
    "                \"contactIds\": [1551],\n",
    "                \"companyIds\": asso_companyids,\n",
    "                \"dealIds\": asso_dealids,\n",
    "                \"ownerIds\": [owner_id],\n",
    "            },\n",
    "            \"metadata\": {\n",
    "                \"body\": body,\n",
    "                \"subject\": subject,\n",
    "                \"status\": status,\n",
    "            },\n",
    "        }\n",
    "    )\n",
    "    url = \"https://api.hubapi.com/engagements/v1/engagements\"\n",
    "    headers = {\n",
    "        \"Content-Type\": \"application/json\",\n",
    "        \"authorization\": f\"Bearer {HS_ACCESS_TOKEN}\",\n",
    "    }\n",
    "    # Post requests\n",
    "    res = requests.post(url, data=payload, headers=headers)\n",
    "    # Check requests\n",
    "    res.raise_for_status()\n",
    "    res_json = res.json()\n",
    "\n",
    "    # Fetch the task id of the current task created\n",
    "    task_id = res_json.get(\"engagement\").get(\"id\")\n",
    "    print(\"🎆 Task created successfully: \", task_id)\n",
    "    return res_json"
   ]
  },
  {
   "cell_type": "markdown",
   "id": "lonely-pacific",
   "metadata": {
    "execution": {
     "iopub.execute_input": "2021-07-02T23:32:10.789097Z",
     "iopub.status.busy": "2021-07-02T23:32:10.788829Z",
     "iopub.status.idle": "2021-07-02T23:32:10.796900Z",
     "shell.execute_reply": "2021-07-02T23:32:10.796358Z",
     "shell.execute_reply.started": "2021-07-02T23:32:10.789033Z"
    },
    "papermill": {},
    "tags": []
   },
   "source": [
    "## Output"
   ]
  },
  {
   "cell_type": "markdown",
   "id": "linear-address",
   "metadata": {
    "papermill": {},
    "tags": []
   },
   "source": [
    "### Create task"
   ]
  },
  {
   "cell_type": "code",
   "execution_count": null,
   "id": "ea94a4e6-a6e7-4bf2-beee-faab5ce9f5a4",
   "metadata": {
    "papermill": {},
    "tags": []
   },
   "outputs": [],
   "source": [
    "create_task(owner_id, time_delay, subject, body, status)"
   ]
  }
 ],
 "metadata": {
  "kernelspec": {
   "display_name": "Python 3",
   "language": "python",
   "name": "python3"
  },
  "language_info": {
   "codemirror_mode": {
    "name": "ipython",
    "version": 3
   },
   "file_extension": ".py",
   "mimetype": "text/x-python",
   "name": "python",
   "nbconvert_exporter": "python",
   "pygments_lexer": "ipython3",
   "version": "3.9.6"
  },
  "naas": {
   "notebook_id": "21c2ec4f17d5dfd788890b76d6a094c3a8fa3ddd8246a849bd11b1f41f778019",
   "notebook_path": "HubSpot/HubSpot_Create_Task.ipynb"
  },
  "papermill": {
   "default_parameters": {},
   "environment_variables": {},
   "parameters": {},
   "version": "2.3.3"
  },
  "widgets": {
   "application/vnd.jupyter.widget-state+json": {
    "state": {},
    "version_major": 2,
    "version_minor": 0
   }
  }
 },
 "nbformat": 4,
 "nbformat_minor": 5
}