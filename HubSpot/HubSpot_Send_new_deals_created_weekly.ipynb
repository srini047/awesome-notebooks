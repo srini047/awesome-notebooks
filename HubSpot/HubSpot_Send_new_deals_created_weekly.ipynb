{
 "cells": [
  {
   "cell_type": "markdown",
   "id": "working-senate",
   "metadata": {
    "papermill": {},
    "tags": []
   },
   "source": [
    "<img width=\"10%\" alt=\"Naas\" src=\"https://landen.imgix.net/jtci2pxwjczr/assets/5ice39g4.png?w=160\"/>"
   ]
  },
  {
   "cell_type": "markdown",
   "id": "fitting-journalism",
   "metadata": {
    "papermill": {},
    "tags": []
   },
   "source": [
    "# HubSpot - Send new deals created weekly\n",
    "<a href=\"https://app.naas.ai/user-redirect/naas/downloader?url=https://raw.githubusercontent.com/jupyter-naas/awesome-notebooks/master/HubSpot/HubSpot_Send_new_deals_created_weekly.ipynb\" target=\"_parent\"><img src=\"https://naasai-public.s3.eu-west-3.amazonaws.com/Open_in_Naas_Lab.svg\"/></a><br><br><a href=\"https://github.com/jupyter-naas/awesome-notebooks/issues/new?assignees=&labels=&template=template-request.md&title=Tool+-+Action+of+the+notebook+\">Template request</a> | <a href=\"https://github.com/jupyter-naas/awesome-notebooks/issues/new?assignees=&labels=bug&template=bug_report.md&title=HubSpot+-+Send+new+deals+created+weekly:+Error+short+description\">Bug report</a> | <a href=\"https://app.naas.ai/user-redirect/naas/downloader?url=https://raw.githubusercontent.com/jupyter-naas/awesome-notebooks/master/Naas/Naas_Start_data_product.ipynb\" target=\"_parent\">Generate Data Product</a>"
   ]
  },
  {
   "cell_type": "markdown",
   "id": "tracked-patio",
   "metadata": {
    "papermill": {},
    "tags": []
   },
   "source": [
    "**Tags:** #hubspot #crm #sales #deal #scheduler #asset #html #png #csv #naas_drivers #naas #analytics #automation #image #plotly #notification #email"
   ]
  },
  {
   "cell_type": "markdown",
   "id": "aaefe8a6-4e09-4583-9d05-2cb1eca2a0f4",
   "metadata": {
    "papermill": {},
    "tags": []
   },
   "source": [
    "**Author:** [Florent Ravenel](https://www.linkedin.com/in/florent-ravenel/)"
   ]
  },
  {
   "cell_type": "markdown",
   "id": "c32d5f62-c0ec-4200-ad84-e7e6167186f0",
   "metadata": {
    "execution": {
     "iopub.execute_input": "2022-11-23T14:14:47.389829Z",
     "iopub.status.busy": "2022-11-23T14:14:47.389529Z",
     "iopub.status.idle": "2022-11-23T14:14:47.405052Z",
     "shell.execute_reply": "2022-11-23T14:14:47.403209Z",
     "shell.execute_reply.started": "2022-11-23T14:14:47.389728Z"
    },
    "papermill": {},
    "tags": []
   },
   "source": [
    "**Description:** This notebook send a weekly email based on your deals created."
   ]
  },
  {
   "cell_type": "markdown",
   "id": "classified-residence",
   "metadata": {
    "papermill": {},
    "tags": []
   },
   "source": [
    "## Input"
   ]
  },
  {
   "cell_type": "markdown",
   "id": "excessive-argentina",
   "metadata": {
    "papermill": {},
    "tags": []
   },
   "source": [
    "### Import libraries"
   ]
  },
  {
   "cell_type": "code",
   "execution_count": null,
   "id": "tough-christmas",
   "metadata": {
    "papermill": {},
    "tags": []
   },
   "outputs": [],
   "source": [
    "from naas_drivers import hubspot, emailbuilder\n",
    "from datetime import datetime, timedelta\n",
    "import pandas as pd\n",
    "import plotly.graph_objects as go\n",
    "from plotly.subplots import make_subplots\n",
    "import naas"
   ]
  },
  {
   "cell_type": "markdown",
   "id": "coordinated-fraud",
   "metadata": {
    "papermill": {},
    "tags": []
   },
   "source": [
    "### Setup HubSpot\n",
    "👉 Starting November 30, 2022, HubSpot API keys no longer enable access to HubSpot APIs, so in Naas version 2.8.3 and above, you need [create a private app and use the access token](https://developers.hubspot.com/docs/api/private-apps)."
   ]
  },
  {
   "cell_type": "code",
   "execution_count": null,
   "id": "collectible-world",
   "metadata": {
    "papermill": {},
    "tags": []
   },
   "outputs": [],
   "source": [
    "# Enter Your Access Token\n",
    "HS_ACCESS_TOKEN = naas.secret.get(\"HS_ACCESS_TOKEN\") or \"YOUR_HS_ACCESS_TOKEN\""
   ]
  },
  {
   "cell_type": "markdown",
   "id": "1045dc58-67ae-445c-a1e7-ab3a1ce7a8c0",
   "metadata": {
    "papermill": {},
    "tags": []
   },
   "source": [
    "### Select your pipeline ID\n",
    "Here below you can select your pipeline.<br>\n",
    "If not, all deals will be taken for the analysis"
   ]
  },
  {
   "cell_type": "code",
   "execution_count": null,
   "id": "e50cf456-f18f-4069-93c7-b765f207413a",
   "metadata": {
    "papermill": {},
    "tags": []
   },
   "outputs": [],
   "source": [
    "df_pipelines = hubspot.connect(HS_ACCESS_TOKEN).pipelines.get_all()\n",
    "df_pipelines"
   ]
  },
  {
   "cell_type": "code",
   "execution_count": null,
   "id": "f4b425ff-97ef-4680-8435-b421bbc66a83",
   "metadata": {
    "papermill": {},
    "tags": []
   },
   "outputs": [],
   "source": [
    "pipeline_id = \"000000\""
   ]
  },
  {
   "cell_type": "markdown",
   "id": "f0d455dc-37af-4a2e-924a-91cd040ebf6a",
   "metadata": {
    "papermill": {},
    "tags": []
   },
   "source": [
    "### Setup Naas"
   ]
  },
  {
   "cell_type": "code",
   "execution_count": null,
   "id": "83413ba2-a6d7-441e-b661-c5e824febd1b",
   "metadata": {
    "papermill": {},
    "tags": []
   },
   "outputs": [],
   "source": [
    "# Scheduler at 08:00 on Monday and Friday.\n",
    "naas.scheduler.add(cron=\"0 8 * * 1,5\")\n",
    "\n",
    "# -> Uncomment the line below (by removing the hashtag) to remove your scheduler\n",
    "# naas.scheduler.delete()"
   ]
  },
  {
   "cell_type": "code",
   "execution_count": null,
   "id": "575fd73f-3989-4e44-b6aa-2153a4462838",
   "metadata": {
    "papermill": {},
    "tags": []
   },
   "outputs": [],
   "source": [
    "# Email info\n",
    "EMAIL_TO = \"YOUR_EMAIL\"\n",
    "EMAIL_SUBJECT = \"[HubSpot] Weekly update : New deals created\""
   ]
  },
  {
   "cell_type": "markdown",
   "id": "b2973033-1686-4aca-bbf9-eeb388d6641b",
   "metadata": {
    "papermill": {},
    "tags": []
   },
   "source": [
    "### Setup Outputs"
   ]
  },
  {
   "cell_type": "code",
   "execution_count": null,
   "id": "78885d1b-4324-43b4-a001-f3e854a85e81",
   "metadata": {
    "papermill": {},
    "tags": []
   },
   "outputs": [],
   "source": [
    "name_output = \"HubSpot_new_deals_weekly\"\n",
    "csv_output = f\"{name_output}.csv\"\n",
    "image_output = f\"{name_output}.png\"\n",
    "html_output = f\"{name_output}.html\""
   ]
  },
  {
   "cell_type": "markdown",
   "id": "discrete-municipality",
   "metadata": {
    "papermill": {},
    "tags": []
   },
   "source": [
    "## Model"
   ]
  },
  {
   "cell_type": "markdown",
   "id": "transsexual-march",
   "metadata": {
    "papermill": {},
    "tags": []
   },
   "source": [
    "### Get all deals"
   ]
  },
  {
   "cell_type": "code",
   "execution_count": null,
   "id": "paperback-warehouse",
   "metadata": {
    "papermill": {},
    "tags": []
   },
   "outputs": [],
   "source": [
    "df_deals = hubspot.connect(HS_ACCESS_TOKEN).deals.get_all()\n",
    "df_deals"
   ]
  },
  {
   "cell_type": "markdown",
   "id": "62c71a5d-451b-461b-9bed-80fb3bd06883",
   "metadata": {
    "papermill": {},
    "tags": []
   },
   "source": [
    "### Create trend data"
   ]
  },
  {
   "cell_type": "code",
   "execution_count": null,
   "id": "eb55941f-4cac-487b-bb49-d71b8393ece7",
   "metadata": {
    "papermill": {},
    "tags": []
   },
   "outputs": [],
   "source": [
    "def get_trend(df_deals, pipeline):\n",
    "    df = df_deals.copy()\n",
    "    # Filter data\n",
    "    df = df[df[\"pipeline\"].astype(str) == str(pipeline)]\n",
    "\n",
    "    # Prep data\n",
    "    df[\"createdate\"] = pd.to_datetime(df[\"createdate\"])\n",
    "    df[\"amount\"] = df.apply(\n",
    "        lambda row: float(row[\"amount\"])\n",
    "        if str(row[\"amount\"]) not in [\"None\", \"\"]\n",
    "        else 0,\n",
    "        axis=1,\n",
    "    )\n",
    "\n",
    "    # Calc by week\n",
    "    df = (\n",
    "        df.groupby(pd.Grouper(freq=\"W\", key=\"createdate\"))\n",
    "        .agg({\"hs_object_id\": \"count\", \"amount\": \"sum\"})\n",
    "        .reset_index()\n",
    "    )\n",
    "    df[\"createdate\"] = df[\"createdate\"] + timedelta(days=-1)\n",
    "    df = pd.melt(df, id_vars=\"createdate\")\n",
    "\n",
    "    # Rename col\n",
    "    to_rename = {\"createdate\": \"LABEL_ORDER\", \"variable\": \"GROUP\", \"value\": \"VALUE\"}\n",
    "    df = (\n",
    "        df.rename(columns=to_rename)\n",
    "        .replace(\"hs_object_id\", \"No of deals\")\n",
    "        .replace(\"amount\", \"Amount\")\n",
    "    )\n",
    "    df[\"YEAR\"] = df[\"LABEL_ORDER\"].dt.strftime(\"%Y\")\n",
    "    df = df[df[\"YEAR\"] == datetime.now().strftime(\"%Y\")]\n",
    "    df[\"LABEL\"] = df[\"LABEL_ORDER\"].dt.strftime(\"%Y-W%U\")\n",
    "    df[\"LABEL_ORDER\"] = df[\"LABEL_ORDER\"].dt.strftime(\"%Y%m%d\")\n",
    "\n",
    "    # Calc variation\n",
    "    df_var = pd.DataFrame()\n",
    "    groups = df.GROUP.unique()\n",
    "    for group in groups:\n",
    "        tmp = df[df.GROUP == group].reset_index(drop=True)\n",
    "        for idx, row in tmp.iterrows():\n",
    "            if idx == 0:\n",
    "                value_n1 = 0\n",
    "            else:\n",
    "                value_n1 = tmp.loc[tmp.index[idx - 1], \"VALUE\"]\n",
    "            tmp.loc[tmp.index[idx], \"VALUE_COMP\"] = value_n1\n",
    "        df_var = pd.concat([df_var, tmp]).fillna(0).reset_index(drop=True)\n",
    "    df_var[\"VARV\"] = df_var[\"VALUE\"] - df_var[\"VALUE_COMP\"]\n",
    "    df_var[\"VARP\"] = df_var[\"VARV\"] / abs(df_var[\"VALUE_COMP\"])\n",
    "\n",
    "    # Prep data\n",
    "    df_var[\"VALUE_D\"] = df_var[\"VALUE\"].map(\"{:,.0f}\".format).str.replace(\",\", \" \")\n",
    "    df_var[\"VARV_D\"] = df_var[\"VARV\"].map(\"{:,.0f}\".format).str.replace(\",\", \" \")\n",
    "    df_var.loc[df_var[\"VARV\"] > 0, \"VARV_D\"] = \"+\" + df_var[\"VARV_D\"]\n",
    "    df_var[\"VARP_D\"] = df_var[\"VARP\"].map(\"{:,.0%}\".format).str.replace(\",\", \" \")\n",
    "    df_var.loc[df_var[\"VARP\"] > 0, \"VARP_D\"] = \"+\" + df_var[\"VARP_D\"]\n",
    "\n",
    "    # Create hovertext\n",
    "    df_var[\"TEXT\"] = (\n",
    "        \"<b>Deal created as of \"\n",
    "        + df_var[\"LABEL\"]\n",
    "        + \" : </b>\"\n",
    "        + df_var[\"VALUE_D\"]\n",
    "        + \"<br>\"\n",
    "        + df_var[\"VARP_D\"]\n",
    "        + \" vs last week (\"\n",
    "        + df_var[\"VARV_D\"]\n",
    "        + \")\"\n",
    "    )\n",
    "    return df_var\n",
    "\n",
    "\n",
    "df_trend = get_trend(df_deals, pipeline_id)\n",
    "df_trend"
   ]
  },
  {
   "cell_type": "markdown",
   "id": "appropriate-equilibrium",
   "metadata": {
    "papermill": {},
    "tags": []
   },
   "source": [
    "### Plotting a barchart"
   ]
  },
  {
   "cell_type": "code",
   "execution_count": null,
   "id": "dc590aca-6c35-4779-948a-816ffbd12f0f",
   "metadata": {
    "papermill": {},
    "tags": []
   },
   "outputs": [],
   "source": [
    "def create_barchart(df, label, group, value, varv, varp):\n",
    "    # Create figure with secondary y-axis\n",
    "    fig = make_subplots(specs=[[{\"secondary_y\": True}]])\n",
    "\n",
    "    # Add traces\n",
    "    df1 = df[df[group] == \"No of deals\"].reset_index(drop=True)[:]\n",
    "    total_volume = \"{:,.0f}\".format(df1[value].sum()).replace(\",\", \" \")\n",
    "    var_volume = df1.loc[df1.index[-1], varv]\n",
    "    positive = False\n",
    "    if var_volume > 0:\n",
    "        positive = True\n",
    "    var_volume = \"{:,.0f}\".format(var_volume).replace(\",\", \" \")\n",
    "    if positive:\n",
    "        var_volume = f\"+{var_volume}\"\n",
    "    fig.add_trace(\n",
    "        go.Bar(\n",
    "            name=\"No of deals\",\n",
    "            x=df1[label],\n",
    "            y=df1[value],\n",
    "            offsetgroup=0,\n",
    "            hoverinfo=\"text\",\n",
    "            text=df1[\"VALUE_D\"],\n",
    "            hovertext=df1[\"TEXT\"],\n",
    "            marker=dict(color=\"#33475b\"),\n",
    "        ),\n",
    "        secondary_y=False,\n",
    "    )\n",
    "\n",
    "    df2 = df[df[group] == \"Amount\"].reset_index(drop=True)[:]\n",
    "    total_value = \"{:,.0f}\".format(df2[value].sum()).replace(\",\", \" \")\n",
    "    var_value = df2.loc[df2.index[-1], varv]\n",
    "    positive = False\n",
    "    if var_value > 0:\n",
    "        positive = True\n",
    "    var_value = \"{:,.0f}\".format(var_value).replace(\",\", \" \")\n",
    "    if positive:\n",
    "        var_value = f\"+{var_value}\"\n",
    "    fig.add_trace(\n",
    "        go.Bar(\n",
    "            name=\"Amount\",\n",
    "            x=df2[label],\n",
    "            y=df2[value],\n",
    "            text=df2[\"VALUE_D\"] + \" K€\",\n",
    "            offsetgroup=1,\n",
    "            hoverinfo=\"text\",\n",
    "            hovertext=df2[\"TEXT\"],\n",
    "            marker=dict(color=\"#ff7a59\"),\n",
    "        ),\n",
    "        secondary_y=True,\n",
    "    )\n",
    "\n",
    "    # Add figure title\n",
    "    fig.update_layout(\n",
    "        title=f\"<b>Hubspot - New deals created per week</b><br><span style='font-size: 14px;'>Total deals: {total_volume} ({total_value} K€) | This week: {var_volume} ({var_value} K€) vs last week</span>\",\n",
    "        title_font=dict(family=\"Arial\", size=20, color=\"black\"),\n",
    "        legend=None,\n",
    "        plot_bgcolor=\"#ffffff\",\n",
    "        width=1200,\n",
    "        height=800,\n",
    "        paper_bgcolor=\"white\",\n",
    "        xaxis_title=\"Weeks\",\n",
    "        xaxis_title_font=dict(family=\"Arial\", size=11, color=\"black\"),\n",
    "    )\n",
    "\n",
    "    # Set y-axes titles\n",
    "    fig.update_yaxes(\n",
    "        title_text=\"No of deals\",\n",
    "        title_font=dict(family=\"Arial\", size=11, color=\"black\"),\n",
    "        secondary_y=False,\n",
    "    )\n",
    "    fig.update_yaxes(\n",
    "        title_text=\"Amount in K€\",\n",
    "        title_font=dict(family=\"Arial\", size=11, color=\"black\"),\n",
    "        secondary_y=True,\n",
    "    )\n",
    "    fig.show()\n",
    "    return fig\n",
    "\n",
    "\n",
    "fig = create_barchart(df_trend, \"LABEL\", \"GROUP\", \"VALUE\", \"VARV\", \"VARP\")"
   ]
  },
  {
   "cell_type": "markdown",
   "id": "e3b2a620-87ad-4236-a5f6-149b497e0db4",
   "metadata": {
    "papermill": {},
    "tags": []
   },
   "source": [
    "### Export and share graph"
   ]
  },
  {
   "cell_type": "code",
   "execution_count": null,
   "id": "4cf0db48-24b2-4e27-aa16-cf984a577244",
   "metadata": {
    "papermill": {},
    "tags": []
   },
   "outputs": [],
   "source": [
    "# Export in HTML\n",
    "df_trend.to_csv(csv_output, index=False)\n",
    "fig.write_image(image_output)\n",
    "fig.write_html(html_output)\n",
    "\n",
    "# Shave with naas\n",
    "csv_url = naas.asset.add(csv_output)\n",
    "image_url = naas.asset.add(image_output)\n",
    "html_url = naas.asset.add(html_output, params={\"inline\": True})\n",
    "\n",
    "# -> Uncomment the line below (by removing the hashtag)  to delete your asset\n",
    "# naas.asset.delete(csv_output)\n",
    "# naas.asset.delete(image_output)\n",
    "# naas.asset.delete(html_output)"
   ]
  },
  {
   "cell_type": "markdown",
   "id": "c83e46c2-d7d2-42e7-a9e2-20ea7643727a",
   "metadata": {
    "papermill": {},
    "tags": []
   },
   "source": [
    "### Create email template"
   ]
  },
  {
   "cell_type": "code",
   "execution_count": null,
   "id": "d57f06ac-a045-43f2-bded-ef7b38aae725",
   "metadata": {
    "papermill": {},
    "tags": []
   },
   "outputs": [],
   "source": [
    "def create_email():\n",
    "    content = {\n",
    "        \"header\": emailbuilder.image(\n",
    "            src=\"https://lib.umso.co/lib_sluGpRGQOLtkyEpz/na1lz0v9ejyurau2.png?w=1200&h=900&fit=max&dpr=2\",\n",
    "            link=\"https://www.hubspot.com/\",\n",
    "            align=\"center\",\n",
    "            width=\"100%\",\n",
    "        ),\n",
    "        \"txt_0\": emailbuilder.text(\n",
    "            \"Hi !<br><br>\"\n",
    "            f\"Here below your weekly update on new deal created as of {datetime.now().strftime('%Y-%m-%d')} :<br>\"\n",
    "        ),\n",
    "        \"image\": emailbuilder.image(\n",
    "            src=image_url, link=html_url, align=\"center\", width=\"100%\"\n",
    "        ),\n",
    "        \"button_1\": emailbuilder.button(\n",
    "            link=\"https://app.hubspot.com\",\n",
    "            text=\"Go to HubSpot\",\n",
    "            color=\"white\",\n",
    "            background_color=\"#ff7a59\",\n",
    "        ),\n",
    "        \"txt_4\": (\n",
    "            \"Interested to improve this template, please contact the Naas Core Team at hello@naas.ai.<br><br>\"\n",
    "        ),\n",
    "        \"heading_5\": emailbuilder.text(\"Let's close those opportunities 💸!\"),\n",
    "        \"footer\": emailbuilder.footer_company(naas=True),\n",
    "    }\n",
    "    return emailbuilder.generate(display=\"iframe\", **content)\n",
    "\n",
    "\n",
    "email_content = create_email()"
   ]
  },
  {
   "cell_type": "markdown",
   "id": "seventh-consideration",
   "metadata": {
    "papermill": {},
    "tags": []
   },
   "source": [
    "## Output"
   ]
  },
  {
   "cell_type": "markdown",
   "id": "9f3ea14d-8afb-414d-aeff-47b3781270d8",
   "metadata": {
    "papermill": {},
    "tags": []
   },
   "source": [
    "### Send email"
   ]
  },
  {
   "cell_type": "code",
   "execution_count": null,
   "id": "03d98039-ab43-4de0-998f-56c5437183d9",
   "metadata": {
    "papermill": {},
    "tags": []
   },
   "outputs": [],
   "source": [
    "naas.notification.send(EMAIL_TO, EMAIL_SUBJECT, email_content)"
   ]
  }
 ],
 "metadata": {
  "kernelspec": {
   "display_name": "Python 3",
   "language": "python",
   "name": "python3"
  },
  "language_info": {
   "codemirror_mode": {
    "name": "ipython",
    "version": 3
   },
   "file_extension": ".py",
   "mimetype": "text/x-python",
   "name": "python",
   "nbconvert_exporter": "python",
   "pygments_lexer": "ipython3",
   "version": "3.9.6"
  },
  "naas": {
   "notebook_id": "fb271b446d3f68d5c35323574a36baba6d1c855598494a8807a73829a9641327",
   "notebook_path": "HubSpot/HubSpot_Send_new_deals_created_weekly.ipynb"
  },
  "papermill": {
   "default_parameters": {},
   "environment_variables": {},
   "parameters": {},
   "version": "2.3.3"
  }
 },
 "nbformat": 4,
 "nbformat_minor": 5
}