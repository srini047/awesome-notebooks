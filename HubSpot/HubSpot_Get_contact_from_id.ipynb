{
 "cells": [
  {
   "cell_type": "markdown",
   "id": "available-thursday",
   "metadata": {
    "papermill": {},
    "tags": []
   },
   "source": [
    "<img width=\"10%\" alt=\"Naas\" src=\"https://landen.imgix.net/jtci2pxwjczr/assets/5ice39g4.png?w=160\"/>"
   ]
  },
  {
   "cell_type": "markdown",
   "id": "stopped-daisy",
   "metadata": {
    "papermill": {},
    "tags": []
   },
   "source": [
    "# HubSpot - Get contact from id\n",
    "<a href=\"https://app.naas.ai/user-redirect/naas/downloader?url=https://raw.githubusercontent.com/jupyter-naas/awesome-notebooks/master/HubSpot/HubSpot_Get_contact_from_id.ipynb\" target=\"_parent\"><img src=\"https://naasai-public.s3.eu-west-3.amazonaws.com/open_in_naas.svg\"/></a><br><br><a href=\"https://github.com/jupyter-naas/awesome-notebooks/issues/new?assignees=&labels=&template=template-request.md&title=Tool+-+Action+of+the+notebook+\">Template request</a> | <a href=\"https://github.com/jupyter-naas/awesome-notebooks/issues/new?assignees=&labels=bug&template=bug_report.md&title=HubSpot+-+Get+contact+from+id:+Error+short+description\">Bug report</a>"
   ]
  },
  {
   "cell_type": "markdown",
   "id": "senior-trade",
   "metadata": {
    "papermill": {},
    "tags": []
   },
   "source": [
    "**Tags:** #hubspot #crm #sales #contact #naas_drivers #snippet #dataframe"
   ]
  },
  {
   "cell_type": "markdown",
   "id": "6c37c781-8621-4b38-b73b-b1201a475474",
   "metadata": {
    "papermill": {},
    "tags": []
   },
   "source": [
    "**Author:** [Florent Ravenel](https://www.linkedin.com/in/florent-ravenel/)"
   ]
  },
  {
   "cell_type": "markdown",
   "id": "naas-description",
   "metadata": {
    "papermill": {},
    "tags": [
     "description"
    ]
   },
   "source": [
    "**Description:** This notebook allows you to retrieve contact information from a HubSpot account using a contact ID."
   ]
  },
  {
   "cell_type": "markdown",
   "id": "radio-wings",
   "metadata": {
    "papermill": {},
    "tags": []
   },
   "source": [
    "## Input"
   ]
  },
  {
   "cell_type": "markdown",
   "id": "unique-dollar",
   "metadata": {
    "papermill": {},
    "tags": []
   },
   "source": [
    "### Import libraries"
   ]
  },
  {
   "cell_type": "code",
   "execution_count": null,
   "id": "polish-newman",
   "metadata": {
    "papermill": {},
    "tags": []
   },
   "outputs": [],
   "source": [
    "from naas_drivers import hubspot\n",
    "import naas"
   ]
  },
  {
   "cell_type": "markdown",
   "id": "9e8f484d-3b18-452e-bcf8-c6875f970975",
   "metadata": {
    "papermill": {},
    "tags": []
   },
   "source": [
    "### Setup HubSpot\n",
    "👉 Starting November 30, 2022, HubSpot API keys no longer enable access to HubSpot APIs, so in Naas version 2.8.3 and above, you need [create a private app and use the access token](https://developers.hubspot.com/docs/api/private-apps)."
   ]
  },
  {
   "cell_type": "markdown",
   "id": "2ffc1666-70c8-4287-aa09-8d4c44bb9c4c",
   "metadata": {
    "papermill": {},
    "tags": []
   },
   "source": [
    "#### Enter your Access Token"
   ]
  },
  {
   "cell_type": "code",
   "execution_count": null,
   "id": "e848239a-cd26-489e-bcbe-de2e51320d1c",
   "metadata": {
    "papermill": {},
    "tags": []
   },
   "outputs": [],
   "source": [
    "HS_ACCESS_TOKEN = naas.secret.get(\"HS_ACCESS_TOKEN\") or \"YOUR_HS_ACCESS_TOKEN\""
   ]
  },
  {
   "cell_type": "markdown",
   "id": "12703001-73c8-44b1-aba6-f67f6ed9e0b5",
   "metadata": {
    "papermill": {},
    "tags": []
   },
   "source": [
    "#### Enter your Contact ID"
   ]
  },
  {
   "cell_type": "code",
   "execution_count": null,
   "id": "e71e44d4-92ac-4935-bd9c-7576284bf6f0",
   "metadata": {
    "papermill": {},
    "tags": []
   },
   "outputs": [],
   "source": [
    "contact_id = \"ENTER_CONTACT_ID_HERE\"  # \"580001\""
   ]
  },
  {
   "cell_type": "markdown",
   "id": "9140f4e7-2a1b-4707-86f7-229d1a7b9308",
   "metadata": {
    "papermill": {},
    "tags": []
   },
   "source": [
    "#### Enter your Contact properties\n",
    "List of properties you want to get from contact.<br>\n",
    "By default, you will get: \n",
    "- email\n",
    "- firstname\n",
    "- lastname\n",
    "- createdate\n",
    "- lastmodifieddate\n",
    "- hs_object_id"
   ]
  },
  {
   "cell_type": "code",
   "execution_count": null,
   "id": "38a8623a-c1df-49aa-84b1-459643243761",
   "metadata": {
    "papermill": {},
    "tags": []
   },
   "outputs": [],
   "source": [
    "properties = []"
   ]
  },
  {
   "cell_type": "markdown",
   "id": "cardiovascular-incidence",
   "metadata": {
    "papermill": {},
    "tags": []
   },
   "source": [
    "## Model"
   ]
  },
  {
   "cell_type": "markdown",
   "id": "fancy-result",
   "metadata": {
    "papermill": {},
    "tags": []
   },
   "source": [
    "### Get single contact"
   ]
  },
  {
   "cell_type": "code",
   "execution_count": null,
   "id": "dutch-kennedy",
   "metadata": {
    "papermill": {},
    "tags": []
   },
   "outputs": [],
   "source": [
    "contact = hubspot.connect(HS_ACCESS_TOKEN).contacts.get(contact_id, properties)"
   ]
  },
  {
   "cell_type": "markdown",
   "id": "moved-tissue",
   "metadata": {
    "papermill": {},
    "tags": []
   },
   "source": [
    "## Output"
   ]
  },
  {
   "cell_type": "markdown",
   "id": "legendary-acceptance",
   "metadata": {
    "papermill": {},
    "tags": []
   },
   "source": [
    "### Display result"
   ]
  },
  {
   "cell_type": "code",
   "execution_count": null,
   "id": "united-rugby",
   "metadata": {
    "papermill": {},
    "tags": []
   },
   "outputs": [],
   "source": [
    "contact"
   ]
  }
 ],
 "metadata": {
  "kernelspec": {
   "display_name": "Python 3",
   "language": "python",
   "name": "python3"
  },
  "language_info": {
   "codemirror_mode": {
    "name": "ipython",
    "version": 3
   },
   "file_extension": ".py",
   "mimetype": "text/x-python",
   "name": "python",
   "nbconvert_exporter": "python",
   "pygments_lexer": "ipython3",
   "version": "3.9.6"
  },
  "naas": {
   "notebook_id": "950b0b67-0cc9-4581-882f-379c072dcafc",
   "notebook_path": "HubSpot/HubSpot_Get_contact.ipynb"
  },
  "papermill": {
   "default_parameters": {},
   "environment_variables": {},
   "parameters": {},
   "version": "2.3.3"
  }
 },
 "nbformat": 4,
 "nbformat_minor": 5
}