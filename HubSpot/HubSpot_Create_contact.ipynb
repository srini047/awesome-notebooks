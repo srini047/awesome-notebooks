{
 "cells": [
  {
   "cell_type": "markdown",
   "id": "breeding-classic",
   "metadata": {
    "papermill": {},
    "tags": []
   },
   "source": [
    "<img width=\"10%\" alt=\"Naas\" src=\"https://landen.imgix.net/jtci2pxwjczr/assets/5ice39g4.png?w=160\"/>"
   ]
  },
  {
   "cell_type": "markdown",
   "id": "inside-tattoo",
   "metadata": {
    "papermill": {},
    "tags": []
   },
   "source": [
    "# HubSpot - Create contact\n",
    "<a href=\"https://app.naas.ai/user-redirect/naas/downloader?url=https://raw.githubusercontent.com/jupyter-naas/awesome-notebooks/master/HubSpot/HubSpot_Create_contact.ipynb\" target=\"_parent\"><img src=\"https://naasai-public.s3.eu-west-3.amazonaws.com/Open_in_Naas_Lab.svg\"/></a><br><br><a href=\"https://github.com/jupyter-naas/awesome-notebooks/issues/new?assignees=&labels=&template=template-request.md&title=Tool+-+Action+of+the+notebook+\">Template request</a> | <a href=\"https://github.com/jupyter-naas/awesome-notebooks/issues/new?assignees=&labels=bug&template=bug_report.md&title=HubSpot+-+Create+contact:+Error+short+description\">Bug report</a> | <a href=\"https://app.naas.ai/user-redirect/naas/downloader?url=https://raw.githubusercontent.com/jupyter-naas/awesome-notebooks/master/Naas/Naas_Start_data_product.ipynb\" target=\"_parent\">Generate Data Product</a>"
   ]
  },
  {
   "cell_type": "markdown",
   "id": "detected-mobility",
   "metadata": {
    "papermill": {},
    "tags": []
   },
   "source": [
    "**Tags:** #hubspot #crm #sales #contact #naas_drivers #snippet"
   ]
  },
  {
   "cell_type": "markdown",
   "id": "727e4fb0-7aa7-47d1-b56f-0d34ec5f4b80",
   "metadata": {
    "papermill": {},
    "tags": []
   },
   "source": [
    "**Author:** [Florent Ravenel](https://www.linkedin.com/in/florent-ravenel/)"
   ]
  },
  {
   "cell_type": "markdown",
   "id": "naas-description",
   "metadata": {
    "papermill": {},
    "tags": [
     "description"
    ]
   },
   "source": [
    "**Description:** This notebook allows users to create contacts in HubSpot, enabling them to store and manage customer information."
   ]
  },
  {
   "cell_type": "markdown",
   "id": "sensitive-proof",
   "metadata": {
    "papermill": {},
    "tags": []
   },
   "source": [
    "## Input"
   ]
  },
  {
   "cell_type": "markdown",
   "id": "literary-supplier",
   "metadata": {
    "papermill": {},
    "tags": []
   },
   "source": [
    "### Import libraries"
   ]
  },
  {
   "cell_type": "code",
   "execution_count": null,
   "id": "ranging-concentrate",
   "metadata": {
    "papermill": {},
    "tags": []
   },
   "outputs": [],
   "source": [
    "from naas_drivers import hubspot\n",
    "import naas"
   ]
  },
  {
   "cell_type": "markdown",
   "id": "noble-attitude",
   "metadata": {
    "papermill": {},
    "tags": []
   },
   "source": [
    "### Setup HubSpot\n",
    "👉 Starting November 30, 2022, HubSpot API keys no longer enable access to HubSpot APIs, so in Naas version 2.8.3 and above, you need [create a private app and use the access token](https://developers.hubspot.com/docs/api/private-apps)."
   ]
  },
  {
   "cell_type": "markdown",
   "id": "559f06a4-7f81-488f-901c-4f2bafc5477b",
   "metadata": {
    "papermill": {},
    "tags": []
   },
   "source": [
    "#### Enter Your Access Token"
   ]
  },
  {
   "cell_type": "code",
   "execution_count": null,
   "id": "fb185a07-ee37-4065-9f0c-034f5f5120f7",
   "metadata": {
    "papermill": {},
    "tags": []
   },
   "outputs": [],
   "source": [
    "HS_ACCESS_TOKEN = naas.secret.get(\"HS_ACCESS_TOKEN\") or \"YOUR_HS_ACCESS_TOKEN\""
   ]
  },
  {
   "cell_type": "markdown",
   "id": "consecutive-raise",
   "metadata": {
    "papermill": {},
    "tags": []
   },
   "source": [
    "#### Enter contact parameters"
   ]
  },
  {
   "cell_type": "code",
   "execution_count": null,
   "id": "instrumental-karma",
   "metadata": {
    "papermill": {},
    "tags": []
   },
   "outputs": [],
   "source": [
    "email = \"test@cashstory.com\"\n",
    "firstname = \"Test\"\n",
    "lastname = \"CASHSTORY\"\n",
    "phone = \"+33600000000\"\n",
    "jobtitle = \"Consultant\"\n",
    "website = \"www.cashstory.com\"\n",
    "company = \"CASHSTORY\"\n",
    "hubspot_owner_id = None"
   ]
  },
  {
   "cell_type": "markdown",
   "id": "blind-dover",
   "metadata": {
    "papermill": {},
    "tags": []
   },
   "source": [
    "## Model"
   ]
  },
  {
   "cell_type": "markdown",
   "id": "0a9da71e-f72c-4d03-88a3-ce2d49828503",
   "metadata": {
    "papermill": {},
    "tags": []
   },
   "source": [
    "### Create contact using send method\n",
    "This method will allow you to add any contact properties available in your HubSpot."
   ]
  },
  {
   "cell_type": "code",
   "execution_count": null,
   "id": "million-thermal",
   "metadata": {
    "papermill": {},
    "tags": []
   },
   "outputs": [],
   "source": [
    "create_contact = {\n",
    "    \"properties\": {\n",
    "        \"email\": email,\n",
    "        \"firstname\": firstname,\n",
    "        \"lastname\": lastname,\n",
    "        \"phone\": phone,\n",
    "        \"jobtitle\": jobtitle,\n",
    "        \"website\": website,\n",
    "        \"company\": company,\n",
    "        \"url\": \"test\",\n",
    "        \"hubspot_owner_id\": hubspot_owner_id,\n",
    "    }\n",
    "}\n",
    "\n",
    "contact1 = hubspot.connect(HS_ACCESS_TOKEN).contacts.send(create_contact)"
   ]
  },
  {
   "cell_type": "markdown",
   "id": "noted-midnight",
   "metadata": {
    "papermill": {},
    "tags": []
   },
   "source": [
    "### Create contact using create method"
   ]
  },
  {
   "cell_type": "code",
   "execution_count": null,
   "id": "radical-tract",
   "metadata": {
    "papermill": {},
    "tags": []
   },
   "outputs": [],
   "source": [
    "contact2 = hubspot.connect(HS_ACCESS_TOKEN).contacts.create(\n",
    "    email, firstname, lastname, phone, jobtitle, website, company, hubspot_owner_id\n",
    ")"
   ]
  },
  {
   "cell_type": "markdown",
   "id": "solved-mattress",
   "metadata": {
    "papermill": {},
    "tags": []
   },
   "source": [
    "## Output"
   ]
  },
  {
   "cell_type": "markdown",
   "id": "a107cb6e-08d7-43d1-be71-52e4db695367",
   "metadata": {
    "papermill": {},
    "tags": []
   },
   "source": [
    "### Display results"
   ]
  },
  {
   "cell_type": "code",
   "execution_count": null,
   "id": "445283ca-9985-488e-b042-c8b40cd82c42",
   "metadata": {
    "papermill": {},
    "tags": []
   },
   "outputs": [],
   "source": [
    "contact1"
   ]
  },
  {
   "cell_type": "code",
   "execution_count": null,
   "id": "feb74fe8-1435-41d2-9266-8e644704545d",
   "metadata": {
    "papermill": {},
    "tags": []
   },
   "outputs": [],
   "source": [
    "contact2"
   ]
  }
 ],
 "metadata": {
  "kernelspec": {
   "display_name": "Python 3",
   "language": "python",
   "name": "python3"
  },
  "language_info": {
   "codemirror_mode": {
    "name": "ipython",
    "version": 3
   },
   "file_extension": ".py",
   "mimetype": "text/x-python",
   "name": "python",
   "nbconvert_exporter": "python",
   "pygments_lexer": "ipython3",
   "version": "3.9.6"
  },
  "naas": {
   "notebook_id": "41a54dd1b30076c3f50da00bf2b549912f8c38f2209b3752b0c22bd5c465df00",
   "notebook_path": "HubSpot/HubSpot_Create_contact.ipynb"
  },
  "papermill": {
   "default_parameters": {},
   "environment_variables": {},
   "parameters": {},
   "version": "2.3.3"
  }
 },
 "nbformat": 4,
 "nbformat_minor": 5
}