{
 "cells": [
  {
   "cell_type": "markdown",
   "id": "latin-packing",
   "metadata": {
    "execution": {
     "iopub.execute_input": "2021-02-23T14:22:16.610471Z",
     "iopub.status.busy": "2021-02-23T14:22:16.610129Z",
     "iopub.status.idle": "2021-02-23T14:22:16.627784Z",
     "shell.execute_reply": "2021-02-23T14:22:16.626866Z",
     "shell.execute_reply.started": "2021-02-23T14:22:16.610384Z"
    },
    "papermill": {},
    "tags": []
   },
   "source": [
    "<img width=\"10%\" alt=\"Naas\" src=\"https://landen.imgix.net/jtci2pxwjczr/assets/5ice39g4.png?w=160\"/>"
   ]
  },
  {
   "cell_type": "markdown",
   "id": "compressed-wilson",
   "metadata": {
    "papermill": {},
    "tags": []
   },
   "source": [
    "# HubSpot - Update Task\n",
    "<a href=\"https://app.naas.ai/user-redirect/naas/downloader?url=https://raw.githubusercontent.com/jupyter-naas/awesome-notebooks/master/HubSpot/HubSpot_Update_Task.ipynb\" target=\"_parent\"><img src=\"https://naasai-public.s3.eu-west-3.amazonaws.com/Open_in_Naas_Lab.svg\"/></a><br><br><a href=\"https://github.com/jupyter-naas/awesome-notebooks/issues/new?assignees=&labels=&template=template-request.md&title=Tool+-+Action+of+the+notebook+\">Template request</a> | <a href=\"https://github.com/jupyter-naas/awesome-notebooks/issues/new?assignees=&labels=bug&template=bug_report.md&title=HubSpot+-+Update+Task:+Error+short+description\">Bug report</a> | <a href=\"https://app.naas.ai/user-redirect/naas/downloader?url=https://raw.githubusercontent.com/jupyter-naas/awesome-notebooks/master/Naas/Naas_Start_data_product.ipynb\" target=\"_parent\">Generate Data Product</a>"
   ]
  },
  {
   "cell_type": "markdown",
   "id": "religious-programmer",
   "metadata": {
    "papermill": {},
    "tags": []
   },
   "source": [
    "**Tags:** #hubspot #sales #crm #engagements #task #snippet"
   ]
  },
  {
   "cell_type": "markdown",
   "id": "1fe9f56e-561c-4f52-aef8-b861c9462107",
   "metadata": {
    "papermill": {},
    "tags": []
   },
   "source": [
    "**Author:** [Alok Chilka](https://www.linkedin.com/in/calok64/)"
   ]
  },
  {
   "cell_type": "markdown",
   "id": "d1d30274-67c6-419e-b153-0da419e17859",
   "metadata": {
    "papermill": {},
    "tags": []
   },
   "source": [
    "**Description:** This template will update a task in HubSpot. "
   ]
  },
  {
   "cell_type": "markdown",
   "id": "distinguished-truth",
   "metadata": {
    "papermill": {},
    "tags": []
   },
   "source": [
    "## Input"
   ]
  },
  {
   "cell_type": "markdown",
   "id": "numeric-mediterranean",
   "metadata": {
    "papermill": {},
    "tags": []
   },
   "source": [
    "### Import libraries"
   ]
  },
  {
   "cell_type": "code",
   "execution_count": 21,
   "id": "potential-surfing",
   "metadata": {
    "papermill": {},
    "tags": []
   },
   "outputs": [],
   "source": [
    "from datetime import datetime, timedelta\n",
    "from naas_drivers import hubspot\n",
    "import requests, math\n",
    "import json\n",
    "import naas"
   ]
  },
  {
   "cell_type": "markdown",
   "id": "c08dd35d-d963-4bfc-9837-875b679b1d3d",
   "metadata": {
    "papermill": {},
    "tags": []
   },
   "source": [
    "### Setup HubSpot\n",
    "👉 Starting November 30, 2022, HubSpot API keys no longer enable access to HubSpot APIs, so in Naas version 2.8.3 and above, you need [create a private app and use the access token](https://developers.hubspot.com/docs/api/private-apps)."
   ]
  },
  {
   "cell_type": "markdown",
   "id": "6f991a8b-24d8-4563-a69f-5e5cc8578cdb",
   "metadata": {
    "papermill": {},
    "tags": []
   },
   "source": [
    "#### Enter Your Access Token"
   ]
  },
  {
   "cell_type": "code",
   "execution_count": null,
   "id": "aa274758-8a4a-4dbc-a7f6-6a8845e68ef8",
   "metadata": {
    "papermill": {},
    "tags": []
   },
   "outputs": [],
   "source": [
    "HS_ACCESS_TOKEN = naas.secret.get(\"HS_ACCESS_TOKEN\") or \"YOUR_HS_ACCESS_TOKEN\""
   ]
  },
  {
   "cell_type": "markdown",
   "id": "aggressive-trustee",
   "metadata": {
    "papermill": {},
    "tags": []
   },
   "source": [
    "#### Define your task info"
   ]
  },
  {
   "cell_type": "code",
   "execution_count": 45,
   "id": "ab201c68-7b10-46b1-a3df-2453f2ad59b5",
   "metadata": {
    "papermill": {},
    "tags": []
   },
   "outputs": [],
   "source": [
    "task_id = 19996848972\n",
    "owner_id = 111111086\n",
    "subject = \"Task updated\"\n",
    "body = \"This is third update\"\n",
    "time_delay = 1"
   ]
  },
  {
   "cell_type": "markdown",
   "id": "registered-showcase",
   "metadata": {
    "papermill": {},
    "tags": []
   },
   "source": [
    "## Model"
   ]
  },
  {
   "cell_type": "markdown",
   "id": "321e0cc4-7648-48d2-989c-6250a6f3a9a0",
   "metadata": {
    "papermill": {},
    "tags": []
   },
   "source": [
    "### Function to update task"
   ]
  },
  {
   "cell_type": "code",
   "execution_count": 34,
   "id": "7ce31f77-995f-4b93-b729-3f89d650edf0",
   "metadata": {
    "papermill": {},
    "tags": []
   },
   "outputs": [],
   "source": [
    "def patch(uid, data):\n",
    "    # set headers\n",
    "    headers = {\n",
    "        \"Content-Type\": \"application/json\",\n",
    "        \"authorization\": f\"Bearer {HS_ACCESS_TOKEN}\",\n",
    "    }\n",
    "    base_url = \"https://api.hubapi.com/engagements/v1/engagements/\"\n",
    "    res = requests.patch(\n",
    "        url=f\"{base_url}/{uid}\",\n",
    "        headers=headers,\n",
    "        params=params,\n",
    "        json=data,\n",
    "        allow_redirects=False,\n",
    "    )\n",
    "    try:\n",
    "        res.raise_for_status()\n",
    "    except requests.HTTPError as e:\n",
    "        return e\n",
    "    # Message success\n",
    "    print(f\"✔️ successfully updated.\")\n",
    "    return res.json()"
   ]
  },
  {
   "cell_type": "code",
   "execution_count": 47,
   "id": "dff59c04-748c-4604-9b2f-d16e8553bf29",
   "metadata": {
    "papermill": {},
    "tags": []
   },
   "outputs": [],
   "source": [
    "def update_task(task_id, owner_id, subject, body, time_delay):\n",
    "\n",
    "    # set headers\n",
    "    url = \"https://api.hubapi.com/engagements/v1/engagements/\"\n",
    "    params = {\"hapikey\": HS_API_TOKEN}\n",
    "    headers = {\"Content-Type\": \"application/json\"}\n",
    "\n",
    "    # Calc timestamp to set delay\n",
    "    tstampobj = datetime.now() + timedelta(days=time_delay)\n",
    "    tstamp = tstampobj.timestamp() * 1000\n",
    "\n",
    "    # check if tasks already exist\n",
    "\n",
    "    get_task = requests.get(\n",
    "        url=f\"{get_url}/{task_id}\",\n",
    "        headers=headers,\n",
    "        params=params,\n",
    "        allow_redirects=False,\n",
    "    )\n",
    "\n",
    "    if get_task.status_code == 200:\n",
    "        print(\"Task found..Updating\")\n",
    "\n",
    "        # Update Task\n",
    "        data = {\n",
    "            \"engagement\": {\n",
    "                \"ownerId\": owner_id,\n",
    "                \"timestamp\": tstamp,\n",
    "            },\n",
    "            \"metadata\": {\n",
    "                # \"type\": \"TASK\",\n",
    "                \"body\": body,\n",
    "                # \"status\": \"NOT_STARTED\", # NOT_STARTED | COMPLETED | IN_PROGRESS | WAITING | DEFERRED\n",
    "                # \"forObjectType\": \"CONTACT\",\n",
    "                # \"subject\": subject,\n",
    "            },\n",
    "        }\n",
    "\n",
    "        patch(task_id, data)\n",
    "\n",
    "    else:\n",
    "        print(\"Task not found. Unable to update\")"
   ]
  },
  {
   "cell_type": "markdown",
   "id": "lonely-pacific",
   "metadata": {
    "execution": {
     "iopub.execute_input": "2021-07-02T23:32:10.789097Z",
     "iopub.status.busy": "2021-07-02T23:32:10.788829Z",
     "iopub.status.idle": "2021-07-02T23:32:10.796900Z",
     "shell.execute_reply": "2021-07-02T23:32:10.796358Z",
     "shell.execute_reply.started": "2021-07-02T23:32:10.789033Z"
    },
    "papermill": {},
    "tags": []
   },
   "source": [
    "## Output"
   ]
  },
  {
   "cell_type": "markdown",
   "id": "linear-address",
   "metadata": {
    "papermill": {},
    "tags": []
   },
   "source": [
    "### Update task"
   ]
  },
  {
   "cell_type": "code",
   "execution_count": 46,
   "id": "ea86acbe-09e7-4663-b35b-aa29172ed1a0",
   "metadata": {
    "papermill": {},
    "tags": []
   },
   "outputs": [],
   "source": [
    "update_task(task_id, owner_id, subject, body, time_delay)"
   ]
  }
 ],
 "metadata": {
  "kernelspec": {
   "display_name": "Python 3",
   "language": "python",
   "name": "python3"
  },
  "language_info": {
   "codemirror_mode": {
    "name": "ipython",
    "version": 3
   },
   "file_extension": ".py",
   "mimetype": "text/x-python",
   "name": "python",
   "nbconvert_exporter": "python",
   "pygments_lexer": "ipython3",
   "version": "3.9.6"
  },
  "naas": {
   "notebook_id": "a0410dbd5e2e886db5230942a8dd104d62fb9101565a66fba5ea54f12ae0a64e",
   "notebook_path": "HubSpot/HubSpot_Update_Task.ipynb"
  },
  "papermill": {
   "default_parameters": {},
   "environment_variables": {},
   "parameters": {},
   "version": "2.3.3"
  },
  "widgets": {
   "application/vnd.jupyter.widget-state+json": {
    "state": {},
    "version_major": 2,
    "version_minor": 0
   }
  }
 },
 "nbformat": 4,
 "nbformat_minor": 5
}