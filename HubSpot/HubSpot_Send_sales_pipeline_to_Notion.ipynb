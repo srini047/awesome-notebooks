{
 "cells": [
  {
   "cell_type": "markdown",
   "id": "1f9304c5-0163-496c-8944-0ad697822a95",
   "metadata": {
    "papermill": {},
    "tags": []
   },
   "source": [
    "<img width=\"10%\" alt=\"Naas\" src=\"https://landen.imgix.net/jtci2pxwjczr/assets/5ice39g4.png?w=160\"/>"
   ]
  },
  {
   "cell_type": "markdown",
   "id": "16aea6b7-8572-48dd-8cf2-d7d458ed2662",
   "metadata": {
    "papermill": {},
    "tags": []
   },
   "source": [
    "# HubSpot - Send sales pipeline to Notion\n",
    "<a href=\"https://app.naas.ai/user-redirect/naas/downloader?url=https://raw.githubusercontent.com/jupyter-naas/awesome-notebooks/master/HubSpot/HubSpot_Send_sales_pipeline_to_Notion.ipynb\" target=\"_parent\"><img src=\"https://naasai-public.s3.eu-west-3.amazonaws.com/Open_in_Naas_Lab.svg\"/></a><br><br><a href=\"https://github.com/jupyter-naas/awesome-notebooks/issues/new?assignees=&labels=&template=template-request.md&title=Tool+-+Action+of+the+notebook+\">Template request</a> | <a href=\"https://github.com/jupyter-naas/awesome-notebooks/issues/new?assignees=&labels=bug&template=bug_report.md&title=HubSpot+-+Send+sales+pipeline+to+Notion:+Error+short+description\">Bug report</a> | <a href=\"https://app.naas.ai/user-redirect/naas/downloader?url=https://raw.githubusercontent.com/jupyter-naas/awesome-notebooks/master/Naas/Naas_Start_data_product.ipynb\" target=\"_parent\">Generate Data Product</a>"
   ]
  },
  {
   "cell_type": "markdown",
   "id": "8d71cc44-cfdb-469c-b954-5e8df13cd41b",
   "metadata": {
    "papermill": {},
    "tags": []
   },
   "source": [
    "**Tags:** #hubspot #notion #sales #pipeline #automation #integration"
   ]
  },
  {
   "cell_type": "markdown",
   "id": "5c512a31-8b78-44d6-92c3-fb75e3e54a95",
   "metadata": {
    "papermill": {},
    "tags": []
   },
   "source": [
    "**Author:** [Florent Ravenel](https://www.linkedin.com/in/florent-ravenel)"
   ]
  },
  {
   "cell_type": "markdown",
   "id": "46c0e116-a852-4a27-80b1-01d4f0b876d8",
   "metadata": {
    "papermill": {},
    "tags": []
   },
   "source": [
    "**Description:** This notebook automates the process of sending a sales pipeline from HubSpot to Notion. It is useful for organizations that need to keep track of their sales pipeline in both HubSpot and Notion."
   ]
  },
  {
   "cell_type": "markdown",
   "id": "e3719b35-0d98-455e-9aa4-f739d3238a9a",
   "metadata": {
    "papermill": {},
    "tags": []
   },
   "source": [
    "**References:**\n",
    "- [HubSpot API Documentation](https://developers.hubspot.com/docs/overview)\n",
    "- [Notion API Documentation](https://notion-api.readthedocs.io/en/latest/)"
   ]
  },
  {
   "cell_type": "markdown",
   "id": "ecf03595-d7af-4b03-9f3e-3c2370a0b793",
   "metadata": {
    "papermill": {},
    "tags": []
   },
   "source": [
    "## Input"
   ]
  },
  {
   "cell_type": "markdown",
   "id": "ac4700ad-72ad-4fb9-b5a7-6d2d7bbe3964",
   "metadata": {
    "papermill": {},
    "tags": []
   },
   "source": [
    "### Import libraries"
   ]
  },
  {
   "cell_type": "code",
   "execution_count": null,
   "id": "b162b6f3-972f-46c6-acad-943e4c66f480",
   "metadata": {
    "papermill": {},
    "tags": []
   },
   "outputs": [],
   "source": [
    "import naas\n",
    "from naas_drivers import hubspot, notion\n",
    "import pandas as pd\n",
    "from datetime import datetime\n",
    "from dateutil.relativedelta import relativedelta"
   ]
  },
  {
   "cell_type": "markdown",
   "id": "86d30fac-2f34-4128-9b80-90a07548e9b3",
   "metadata": {
    "papermill": {},
    "tags": []
   },
   "source": [
    "### Setup Variables\n",
    "[Get your HubSpot Access token](https://knowledge.hubspot.com/articles/kcs_article/integrations/how-do-i-get-my-hubspot-api-key)\n",
    "- `hs_access_token`: This variable stores an access token used for accessing the HubSpot API. It is retrieved from a secret store using naas.secret.get() method. If the access token is not available in the secret store, a default value of \"YOUR_HS_ACCESS_TOKEN\" is used.\n",
    "- `pipeline_id`: This variable represents the ID of a pipeline in HubSpot. It is a string value that identifies a specific pipeline within HubSpot's system. To get it you can retrieve your pipelines using this function `hubspot.connect(hs_access_token).pipelines.get_all()`\n",
    "- `enterprise_id`: This variable stores the ID of an enterprise. It is a string value that represents a unique identifier for an enterprise. You can find it your settings below your \"Profile & Preferences\".\n",
    "\n",
    "[Get your Notion token](https://notion-api.readthedocs.io/en/latest/token.html)\n",
    "- `notion_token`:  This variable stores an access token used for accessing the Notion API. It is retrieved from a secret store using naas.secret.get() method. If the access token is not available in the secret store, a default value of \"YOUR_TOKEN\" is used.\n",
    "- `notion_database_key`: This variable represents the key or identifier of a Notion database. It is a string value that uniquely identifies a specific database within Notion.\n",
    "- `force_update`: This variable is a boolean flag that indicates whether to force an update or not. It is set to False, indicating that an update will not be forced.\n",
    "- `notion_database`: This variable stores a URL representing a Notion database."
   ]
  },
  {
   "cell_type": "code",
   "execution_count": null,
   "id": "488866d3-b454-4d5b-8f0e-f26a2d954253",
   "metadata": {
    "papermill": {},
    "tags": []
   },
   "outputs": [],
   "source": [
    "# Inputs\n",
    "hs_access_token = naas.secret.get(\"HS_ACCESS_TOKEN\") or \"YOUR_HS_ACCESS_TOKEN\"\n",
    "pipeline_id = \"0000000\"\n",
    "enterprise_id = \"0000000\"\n",
    "notion_token = naas.secret.get(\"NOTION_TOKEN\") or \"YOUR_TOKEN\"\n",
    "notion_database_key = \"Name\"\n",
    "force_update = False\n",
    "\n",
    "# Outputs\n",
    "notion_database = \"https://www.notion.so/naas-official/61cf093f0c604eeb8baff67612eb1ac8?v=51965cece44a4cb884a426617f67c88d&pvs=4\""
   ]
  },
  {
   "cell_type": "markdown",
   "id": "4a087da5-7966-4f1c-ab52-331335137547",
   "metadata": {
    "papermill": {},
    "tags": []
   },
   "source": [
    "## Model"
   ]
  },
  {
   "cell_type": "markdown",
   "id": "bb863fcd-985f-4541-a25d-b9cf4fa092a0",
   "metadata": {
    "papermill": {},
    "tags": []
   },
   "source": [
    "### Get Notion DB"
   ]
  },
  {
   "cell_type": "code",
   "execution_count": null,
   "id": "b9c10742-2ede-4096-bfbf-3172adc099a1",
   "metadata": {
    "papermill": {},
    "tags": []
   },
   "outputs": [],
   "source": [
    "def create_notion_db(notion_database, key, token):\n",
    "    # Get database\n",
    "    database_id = notion_database.split(\"/\")[-1].split(\"?v=\")[0]\n",
    "    pages = notion.connect(token).database.query(database_id, query={})\n",
    "\n",
    "    # Init\n",
    "    df_output = pd.DataFrame()\n",
    "    \n",
    "    # Loop on page\n",
    "    for page in pages:\n",
    "        # Get page_id\n",
    "        page_id = page.id\n",
    "        \n",
    "        # Create dataframe from page\n",
    "        df = page.df()\n",
    "        \n",
    "        # Remove empty pages\n",
    "        page_title = df.loc[df.Name == key, \"Value\"].values[0]\n",
    "        if page_title == \"\":\n",
    "            notion.connect(token).blocks.delete(page_id)\n",
    "            print(f\"Page '{page_id}' empty => removed from database\")\n",
    "        else:\n",
    "            # Pivot rows to columns\n",
    "            columns = df[\"Name\"].unique().tolist()\n",
    "            new_df = df.copy()\n",
    "            new_df = new_df.drop(\"Type\", axis=1)\n",
    "            new_df = new_df.T\n",
    "            for i, c in enumerate(new_df.columns):\n",
    "                new_df = new_df.rename(columns={c: columns[i]})\n",
    "            new_df = new_df.drop(\"Name\").reset_index(drop=True)\n",
    "\n",
    "            # Add page ID\n",
    "            new_df[\"PAGE_ID\"] = page_id\n",
    "\n",
    "            # Concat dataframe\n",
    "            df_output = pd.concat([df_output, new_df])\n",
    "    return df_output\n",
    "\n",
    "df_notion = create_notion_db(\n",
    "    notion_database,\n",
    "    notion_database_key,\n",
    "    notion_token\n",
    ")\n",
    "print(\"✅ Notion DB:\", len(df_notion))\n",
    "df_notion.head(1)"
   ]
  },
  {
   "cell_type": "markdown",
   "id": "9be2e213-4f98-4163-b25d-f5ebad432cc4",
   "metadata": {
    "papermill": {},
    "tags": []
   },
   "source": [
    "### Get pipelines and dealstages"
   ]
  },
  {
   "cell_type": "code",
   "execution_count": null,
   "id": "76f5b402-c402-4072-9178-a1712ee326e9",
   "metadata": {
    "papermill": {},
    "tags": []
   },
   "outputs": [],
   "source": [
    "df_pipelines = hubspot.connect(hs_access_token).pipelines.get_all()\n",
    "print(\"✅ Pipelines & dealstages fetched:\", len(df_pipelines))\n",
    "df_pipelines.tail(1)"
   ]
  },
  {
   "cell_type": "markdown",
   "id": "b9701711-227d-430b-aec4-c75ce77816a3",
   "metadata": {
    "papermill": {},
    "tags": []
   },
   "source": [
    "### Get all deals from HubSpot"
   ]
  },
  {
   "cell_type": "code",
   "execution_count": null,
   "id": "71d80036-35cb-4ab5-b8e7-2f5d6f20c369",
   "metadata": {
    "papermill": {},
    "tags": []
   },
   "outputs": [],
   "source": [
    "df_deals = hubspot.connect(hs_access_token).deals.get_all(properties)\n",
    "print(\"✅ Deals fetched:\", len(df_deals))\n",
    "df_deals.tail(1)"
   ]
  },
  {
   "cell_type": "markdown",
   "id": "021823a1-6685-4f90-9d46-5cd450001baa",
   "metadata": {
    "papermill": {},
    "tags": []
   },
   "source": [
    "### Prep HubSpot data"
   ]
  },
  {
   "cell_type": "code",
   "execution_count": null,
   "id": "50962c19-cb50-4d09-a2b4-5b0e36f66444",
   "metadata": {
    "papermill": {},
    "tags": []
   },
   "outputs": [],
   "source": [
    "def prep_data(\n",
    "    df_deals,\n",
    "    df_pipelines,\n",
    "    pipeline_id=None,\n",
    "    enterprise_id=None,\n",
    "):\n",
    "    # Init\n",
    "    df = df_deals.copy()\n",
    "    \n",
    "    # Reorder columns\n",
    "    to_order = [\n",
    "        \"pipeline\",\n",
    "        \"dealstage\",\n",
    "        \"hs_object_id\",\n",
    "        \"dealname\",\n",
    "        \"createdate\",\n",
    "        \"closedate\",\n",
    "        \"hs_lastmodifieddate\",\n",
    "        \"amount\"\n",
    "    ]\n",
    "    df = df[to_order]\n",
    "    \n",
    "    # Filter on pipeline\n",
    "    date_limit = (datetime.today() - relativedelta(months=3)).strftime(\"%Y%m%d%H%M%S\")\n",
    "    df[\"date_limit\"] = pd.to_datetime(df[\"hs_lastmodifieddate\"]).dt.strftime(\"%Y%m%d%H%M%S\")\n",
    "    df = df[(df[\"pipeline\"] == pipeline_id) & (df[\"date_limit\"].astype(int) > int(date_limit))]\n",
    "    \n",
    "    # Add dealstages name and pipeline name\n",
    "    dealstages = {}\n",
    "    pipelines = {}\n",
    "    for index, row in df_pipelines.iterrows():\n",
    "        pipelines[row[\"pipeline_id\"]] = row[\"pipeline\"]\n",
    "        dealstages[row[\"dealstage_id\"]] = row[\"dealstage_label\"]\n",
    "\n",
    "    # Insert names\n",
    "    df.insert(loc=1, column=\"pipeline_name\", value=df[\"pipeline\"].map(pipelines))\n",
    "    df.insert(loc=3, column=\"dealstage_name\", value=df[\"dealstage\"].map(dealstages))\n",
    "    df.insert(loc=0, column=\"deal_link\", value=f\"https://app.hubspot.com/contacts/{enterprise_id}/deal/\" + df[\"hs_object_id\"])\n",
    "    \n",
    "    # Prep data\n",
    "    for col in df.columns:\n",
    "        if 'date' in col:\n",
    "            df[col] = df[col].str[:19].str.replace(\"T\", \" \")\n",
    "    df[\"amount\"] = df[\"amount\"].fillna(0)\n",
    "    return df.reset_index(drop=True)\n",
    "\n",
    "df_hubspot = prep_data(df_deals, df_pipelines, pipeline_id, enterprise_id)\n",
    "print(\"✅ HubSpot data:\", len(df_hubspot))\n",
    "df_hubspot.tail(5)"
   ]
  },
  {
   "cell_type": "markdown",
   "id": "47920123-1b21-4276-b295-abde668a52a6",
   "metadata": {
    "papermill": {},
    "tags": []
   },
   "source": [
    "### Get rows to update\n",
    "If `force_update` is set to `True`, the entire database will be updated.<br>"
   ]
  },
  {
   "cell_type": "code",
   "execution_count": null,
   "id": "41f35682-cac0-4c15-854c-4efa185cc743",
   "metadata": {
    "papermill": {},
    "tags": []
   },
   "outputs": [],
   "source": [
    "def get_new_rows(\n",
    "    df_hubspot,\n",
    "    df_notion,\n",
    "    force_update,\n",
    "):\n",
    "    # Check if df_hubspot is not empty\n",
    "    if len(df_hubspot) == 0:\n",
    "        return pd.DataFrame()\n",
    "    \n",
    "    # Check if df is not empty\n",
    "    if len(df_notion) == 0:\n",
    "        return df_hubspot\n",
    "    \n",
    "    # Return all rows if force update is True\n",
    "    if force_update:\n",
    "        return df_hubspot.reset_index(drop=True)\n",
    "    \n",
    "    # Update page ID\n",
    "    pages = {}\n",
    "    last_update_dates = {}\n",
    "    for index, row in df_notion.iterrows():\n",
    "        deal_id = row[\"Deal ID\"]\n",
    "        last_update = row[\"Last modified date\"]\n",
    "        page_id = row[\"PAGE_ID\"]\n",
    "        pages[deal_id] = page_id\n",
    "        last_update_dates[deal_id] = last_update\n",
    "        \n",
    "    df_hubspot[\"Last modified date\"] = df_hubspot[\"hs_object_id\"].map(last_update_dates).fillna(0)\n",
    "    df_hubspot[\"PAGE_ID\"] = df_hubspot[\"hs_object_id\"].map(pages).fillna(0)\n",
    "    \n",
    "    # Filter on date\n",
    "    df_hubspot[\"date_init\"] = pd.to_datetime(df_hubspot[\"Last modified date\"]).dt.strftime(\"%Y%m%d%H%M\")\n",
    "    df_hubspot[\"date_new\"] = pd.to_datetime(df_hubspot[\"hs_lastmodifieddate\"]).dt.strftime(\"%Y%m%d%H%M\")\n",
    "    df_hubspot = df_hubspot[df_hubspot[\"date_init\"] != df_hubspot[\"date_new\"]]\n",
    "    return df_hubspot.reset_index(drop=True)\n",
    "\n",
    "df_new_rows = get_new_rows(\n",
    "    df_hubspot,\n",
    "    df_notion,\n",
    "    force_update\n",
    ")\n",
    "print(\"Rows to update:\", len(df_new_rows))\n",
    "df_new_rows.head(len(df_new_rows))"
   ]
  },
  {
   "cell_type": "markdown",
   "id": "1c2800f2-86e5-4e7f-9486-6dbf19acb7b4",
   "metadata": {
    "papermill": {},
    "tags": []
   },
   "source": [
    "## Output"
   ]
  },
  {
   "cell_type": "markdown",
   "id": "9db21a3b-398c-4446-bcbf-16d297a92117",
   "metadata": {
    "papermill": {},
    "tags": []
   },
   "source": [
    "### Update Notion database"
   ]
  },
  {
   "cell_type": "code",
   "execution_count": null,
   "id": "7682a191-ed7b-4fa5-bbac-d4899a0aaf9f",
   "metadata": {
    "papermill": {},
    "tags": []
   },
   "outputs": [],
   "source": [
    "database_id = notion_database.split(\"/\")[-1].split(\"?v=\")[0]\n",
    "if len(df_new_rows) > 0:\n",
    "    # Loop to enrich info\n",
    "    for index, row in df_new_rows.iterrows():\n",
    "        # Init variables\n",
    "        name = row[\"dealname\"]\n",
    "        page_id = row[\"PAGE_ID\"]\n",
    "        print(\"➡️ Update info for:\", name)\n",
    "\n",
    "        # Get page\n",
    "        try:\n",
    "            if page_id == 0:\n",
    "                page = notion.connect(notion_token).Page.new(database_id=database_id).create()\n",
    "                page.title(\"Name\", name)\n",
    "                page.update()\n",
    "            else:\n",
    "                page = notion.connect(notion_token).page.get(page_id)\n",
    "\n",
    "            # Update Notion\n",
    "            page.title(\"Name\", name)\n",
    "            page.link(\"HubSpot link\", row['deal_link'])\n",
    "            page.rich_text(\"Deal ID\", row['hs_object_id'])\n",
    "            page.rich_text(\"Pipeline ID\", row[\"pipeline\"])\n",
    "            page.select(\"Pipeline name\", row[\"pipeline_name\"])\n",
    "            page.rich_text(\"Dealstage ID\", row[\"dealstage\"])\n",
    "            page.select(\"Dealstage name\", row[\"dealstage_name\"])\n",
    "            page.number(\"Amount\", float(row[\"amount\"]))\n",
    "            page.date(\"Created date\", row[\"createdate\"])\n",
    "            page.date(\"Last modified date\", row[\"hs_lastmodifieddate\"])\n",
    "            if str(row[\"closedate\"]) != \"None\":\n",
    "                page.date(\"Close date\", row[\"closedate\"])\n",
    "            page.update()   \n",
    "            print(f\"✅ Data successfully updated in Notion.\")\n",
    "        except Exception as e:\n",
    "            print(e)\n",
    "            print(row)"
   ]
  },
  {
   "cell_type": "code",
   "execution_count": null,
   "id": "aaf9264d-ada0-4033-9cdb-f13284a126ca",
   "metadata": {
    "papermill": {},
    "tags": []
   },
   "outputs": [],
   "source": []
  }
 ],
 "metadata": {
  "kernelspec": {
   "display_name": "Python 3",
   "language": "python",
   "name": "python3"
  },
  "language_info": {
   "codemirror_mode": {
    "name": "ipython",
    "version": 3
   },
   "file_extension": ".py",
   "mimetype": "text/x-python",
   "name": "python",
   "nbconvert_exporter": "python",
   "pygments_lexer": "ipython3",
   "version": "3.9.6"
  },
  "naas": {
   "notebook_id": "d49ac09de4eaf9bef7efdf56581a4f54891f80799d0746bfff20181ac130cdf5",
   "notebook_path": "HubSpot/HubSpot_Send_sales_pipeline_to_Notion.ipynb"
  },
  "papermill": {
   "default_parameters": {},
   "environment_variables": {},
   "parameters": {},
   "version": "2.4.0"
  },
  "widgets": {
   "application/vnd.jupyter.widget-state+json": {
    "state": {},
    "version_major": 2,
    "version_minor": 0
   }
  }
 },
 "nbformat": 4,
 "nbformat_minor": 5
}