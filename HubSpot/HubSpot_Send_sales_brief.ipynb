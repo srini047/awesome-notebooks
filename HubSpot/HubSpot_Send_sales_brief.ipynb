{
 "cells": [
  {
   "cell_type": "markdown",
   "id": "inappropriate-adobe",
   "metadata": {
    "papermill": {},
    "tags": []
   },
   "source": [
    "<img width=\"10%\" alt=\"Naas\" src=\"https://landen.imgix.net/jtci2pxwjczr/assets/5ice39g4.png?w=160\"/>"
   ]
  },
  {
   "cell_type": "markdown",
   "id": "acoustic-transcription",
   "metadata": {
    "papermill": {},
    "tags": []
   },
   "source": [
    "# HubSpot - Send sales brief\n",
    "<a href=\"https://app.naas.ai/user-redirect/naas/downloader?url=https://raw.githubusercontent.com/jupyter-naas/awesome-notebooks/master/HubSpot/HubSpot_Send_sales_brief.ipynb\" target=\"_parent\"><img src=\"https://naasai-public.s3.eu-west-3.amazonaws.com/Open_in_Naas_Lab.svg\"/></a><br><br><a href=\"https://github.com/jupyter-naas/awesome-notebooks/issues/new?assignees=&labels=&template=template-request.md&title=Tool+-+Action+of+the+notebook+\">Template request</a> | <a href=\"https://github.com/jupyter-naas/awesome-notebooks/issues/new?assignees=&labels=bug&template=bug_report.md&title=HubSpot+-+Send+sales+brief:+Error+short+description\">Bug report</a> | <a href=\"https://app.naas.ai/user-redirect/naas/downloader?url=https://raw.githubusercontent.com/jupyter-naas/awesome-notebooks/master/Naas/Naas_Start_data_product.ipynb\" target=\"_parent\">Generate Data Product</a>"
   ]
  },
  {
   "cell_type": "markdown",
   "id": "c62854fa-4acb-4847-9770-f71f83627432",
   "metadata": {
    "papermill": {},
    "tags": []
   },
   "source": [
    "**Tags:** #hubspot #crm #sales #deal #naas_drivers #notification #asset #emailbuilder #scheduler #naas #analytics #automation #email #text #plotly #html #image"
   ]
  },
  {
   "cell_type": "markdown",
   "id": "a6e0792a-c59a-4d67-872c-f1158778ae4c",
   "metadata": {
    "papermill": {},
    "tags": []
   },
   "source": [
    "**Author:** [Florent Ravenel](https://www.linkedin.com/in/florent-ravenel/)"
   ]
  },
  {
   "cell_type": "markdown",
   "id": "de2df2a0-3352-46a8-9086-a74b319291df",
   "metadata": {
    "execution": {
     "iopub.execute_input": "2022-11-23T14:14:47.389829Z",
     "iopub.status.busy": "2022-11-23T14:14:47.389529Z",
     "iopub.status.idle": "2022-11-23T14:14:47.405052Z",
     "shell.execute_reply": "2022-11-23T14:14:47.403209Z",
     "shell.execute_reply.started": "2022-11-23T14:14:47.389728Z"
    },
    "papermill": {},
    "tags": []
   },
   "source": [
    "**Description:** This notebook send a sales brief based on your HubSpot activity."
   ]
  },
  {
   "cell_type": "markdown",
   "id": "accurate-mixer",
   "metadata": {
    "papermill": {},
    "tags": []
   },
   "source": [
    "## Input"
   ]
  },
  {
   "cell_type": "markdown",
   "id": "czech-coral",
   "metadata": {
    "papermill": {},
    "tags": []
   },
   "source": [
    "### Import libraries"
   ]
  },
  {
   "cell_type": "code",
   "execution_count": null,
   "id": "forced-reply",
   "metadata": {
    "papermill": {},
    "tags": []
   },
   "outputs": [],
   "source": [
    "from naas_drivers import emailbuilder, hubspot\n",
    "import naas\n",
    "import pandas as pd\n",
    "from datetime import datetime"
   ]
  },
  {
   "cell_type": "markdown",
   "id": "handed-investigation",
   "metadata": {
    "papermill": {},
    "tags": []
   },
   "source": [
    "### Setup HubSpot\n",
    "👉 Starting November 30, 2022, HubSpot API keys no longer enable access to HubSpot APIs, so in Naas version 2.8.3 and above, you need [create a private app and use the access token](https://developers.hubspot.com/docs/api/private-apps)."
   ]
  },
  {
   "cell_type": "code",
   "execution_count": 1,
   "id": "complex-sherman",
   "metadata": {
    "papermill": {},
    "tags": []
   },
   "outputs": [],
   "source": [
    "# Enter Your Access Token\n",
    "HS_ACCESS_TOKEN = naas.secret.get(\"HS_ACCESS_TOKEN\") or \"YOUR_HS_ACCESS_TOKEN\""
   ]
  },
  {
   "cell_type": "markdown",
   "id": "colored-syndication",
   "metadata": {
    "papermill": {},
    "tags": []
   },
   "source": [
    "### Email parameters"
   ]
  },
  {
   "cell_type": "code",
   "execution_count": null,
   "id": "sweet-latino",
   "metadata": {
    "papermill": {},
    "tags": []
   },
   "outputs": [],
   "source": [
    "# Receivers\n",
    "email_to = [\"your_email_adresse\"]\n",
    "\n",
    "# Email subject\n",
    "email_subject = (\n",
    "    f\"🚀 Hubspot - Sales Brief as of {datetime.now().strftime('%d/%m/%Y')} (Draft)\"\n",
    ")"
   ]
  },
  {
   "cell_type": "markdown",
   "id": "brown-transsexual",
   "metadata": {
    "execution": {
     "iopub.execute_input": "2021-08-04T10:49:28.903503Z",
     "iopub.status.busy": "2021-08-04T10:49:28.903265Z",
     "iopub.status.idle": "2021-08-04T10:49:28.906174Z",
     "shell.execute_reply": "2021-08-04T10:49:28.905520Z",
     "shell.execute_reply.started": "2021-08-04T10:49:28.903479Z"
    },
    "papermill": {},
    "tags": []
   },
   "source": [
    "### Sales target"
   ]
  },
  {
   "cell_type": "code",
   "execution_count": null,
   "id": "optional-roller",
   "metadata": {
    "papermill": {},
    "tags": []
   },
   "outputs": [],
   "source": [
    "objective = 300000"
   ]
  },
  {
   "cell_type": "markdown",
   "id": "concrete-breast",
   "metadata": {
    "papermill": {},
    "tags": []
   },
   "source": [
    "### Pick your pipeline"
   ]
  },
  {
   "cell_type": "markdown",
   "id": "written-consent",
   "metadata": {
    "papermill": {},
    "tags": []
   },
   "source": [
    "#### Get all pipelines"
   ]
  },
  {
   "cell_type": "code",
   "execution_count": null,
   "id": "introductory-plane",
   "metadata": {
    "papermill": {},
    "tags": []
   },
   "outputs": [],
   "source": [
    "df_pipelines = hubspot.connect(HS_ACCESS_TOKEN).pipelines.get_all()\n",
    "df_pipelines"
   ]
  },
  {
   "cell_type": "markdown",
   "id": "physical-tours",
   "metadata": {
    "papermill": {},
    "tags": []
   },
   "source": [
    "#### Enter your pipeline id"
   ]
  },
  {
   "cell_type": "code",
   "execution_count": null,
   "id": "thick-hampshire",
   "metadata": {
    "papermill": {},
    "tags": []
   },
   "outputs": [],
   "source": [
    "pipeline_id = \"8432671\""
   ]
  },
  {
   "cell_type": "markdown",
   "id": "proprietary-graham",
   "metadata": {
    "papermill": {},
    "tags": []
   },
   "source": [
    "### Constants"
   ]
  },
  {
   "cell_type": "code",
   "execution_count": null,
   "id": "appreciated-infection",
   "metadata": {
    "papermill": {},
    "tags": []
   },
   "outputs": [],
   "source": [
    "HUBSPOT_CARD = \"https://lib.umso.co/lib_sluGpRGQOLtkyEpz/na1lz0v9ejyurau2.png?w=1200&h=900&fit=max&dpr=2\"\n",
    "NAAS_WEBSITE = \"https://www.naas.ai\"\n",
    "EMAIL_DESCRIPTION = \"Your sales brief\"\n",
    "DATE_FORMAT = \"%Y-%m-%d\""
   ]
  },
  {
   "cell_type": "markdown",
   "id": "surprised-poison",
   "metadata": {
    "papermill": {},
    "tags": []
   },
   "source": [
    "### Schedule automation"
   ]
  },
  {
   "cell_type": "code",
   "execution_count": null,
   "id": "juvenile-midwest",
   "metadata": {
    "papermill": {},
    "tags": []
   },
   "outputs": [],
   "source": [
    "# -> Uncomment the 2 lines below (by removing the hashtag) to schedule your job every monday at 8:00 AM (NB: you can choose the time of your scheduling bot)\n",
    "# import naas\n",
    "# naas.scheduler.add(cron=\"0 8 * * 1\")\n",
    "\n",
    "# -> Uncomment the line below (by removing the hashtag) to remove your scheduler\n",
    "# naas.scheduler.delete()"
   ]
  },
  {
   "cell_type": "markdown",
   "id": "brazilian-stand",
   "metadata": {
    "papermill": {},
    "tags": []
   },
   "source": [
    "## Model"
   ]
  },
  {
   "cell_type": "markdown",
   "id": "independent-liverpool",
   "metadata": {
    "papermill": {},
    "tags": []
   },
   "source": [
    "### Get dealstages from pipeline"
   ]
  },
  {
   "cell_type": "code",
   "execution_count": null,
   "id": "sharing-theology",
   "metadata": {
    "papermill": {},
    "tags": []
   },
   "outputs": [],
   "source": [
    "df_dealstages = df_pipelines.copy()\n",
    "\n",
    "# Filter on pipeline\n",
    "df_dealstages = df_dealstages[df_dealstages.pipeline_id == pipeline_id]\n",
    "\n",
    "df_dealstages"
   ]
  },
  {
   "cell_type": "markdown",
   "id": "failing-agreement",
   "metadata": {
    "papermill": {},
    "tags": []
   },
   "source": [
    "### Get deals from pipeline"
   ]
  },
  {
   "cell_type": "code",
   "execution_count": null,
   "id": "early-quarterly",
   "metadata": {
    "papermill": {},
    "tags": []
   },
   "outputs": [],
   "source": [
    "properties = [\n",
    "    \"hs_object_id\",\n",
    "    \"dealname\",\n",
    "    \"dealstage\",\n",
    "    \"pipeline\",\n",
    "    \"createdate\",\n",
    "    \"hs_lastmodifieddate\",\n",
    "    \"closedate\",\n",
    "    \"amount\",\n",
    "]\n",
    "df_deals = hubspot.connect(HS_ACCESS_TOKEN).deals.get_all(properties)\n",
    "\n",
    "# Filter on pipeline\n",
    "df_deals = df_deals[df_deals.pipeline == pipeline_id].reset_index(drop=True)\n",
    "\n",
    "df_deals"
   ]
  },
  {
   "cell_type": "markdown",
   "id": "filled-shuttle",
   "metadata": {
    "papermill": {},
    "tags": []
   },
   "source": [
    "### Formatting functions"
   ]
  },
  {
   "cell_type": "code",
   "execution_count": null,
   "id": "third-interval",
   "metadata": {
    "papermill": {},
    "tags": []
   },
   "outputs": [],
   "source": [
    "def format_number(num):\n",
    "    NUMBER_FORMAT = \"{:,.0f} €\"\n",
    "    num = str(NUMBER_FORMAT.format(num)).replace(\",\", \" \")\n",
    "    return num"
   ]
  },
  {
   "cell_type": "code",
   "execution_count": null,
   "id": "suffering-boston",
   "metadata": {
    "papermill": {},
    "tags": []
   },
   "outputs": [],
   "source": [
    "def format_pourcentage(num):\n",
    "    NUMBER_FORMAT = \"{:,.0%}\"\n",
    "    num = str(NUMBER_FORMAT.format(num))\n",
    "    return num"
   ]
  },
  {
   "cell_type": "code",
   "execution_count": null,
   "id": "pointed-attack",
   "metadata": {
    "papermill": {},
    "tags": []
   },
   "outputs": [],
   "source": [
    "def format_varv(num):\n",
    "    NUMBER_FORMAT = \"+{:,.0f} €\"\n",
    "    num = str(NUMBER_FORMAT.format(num)).replace(\",\", \" \")\n",
    "    return num"
   ]
  },
  {
   "cell_type": "markdown",
   "id": "suited-interview",
   "metadata": {
    "papermill": {},
    "tags": []
   },
   "source": [
    "### Create sales pipeline database"
   ]
  },
  {
   "cell_type": "code",
   "execution_count": null,
   "id": "dirty-calvin",
   "metadata": {
    "papermill": {},
    "tags": []
   },
   "outputs": [],
   "source": [
    "df_sales = pd.merge(\n",
    "    df_deals.drop(\"pipeline\", axis=1),\n",
    "    df_dealstages.drop(\n",
    "        [\"pipeline\", \"pipeline_id\", \"createdAt\", \"updatedAt\", \"archived\"], axis=1\n",
    "    ),\n",
    "    left_on=\"dealstage\",\n",
    "    right_on=\"dealstage_id\",\n",
    "    how=\"left\",\n",
    ")\n",
    "df_sales"
   ]
  },
  {
   "cell_type": "code",
   "execution_count": null,
   "id": "about-advice",
   "metadata": {
    "papermill": {},
    "tags": []
   },
   "outputs": [],
   "source": [
    "df_sales_c = df_sales.copy()\n",
    "\n",
    "# Cleaning\n",
    "df_sales_c[\"amount\"] = df_sales_c[\"amount\"].fillna(\"0\")\n",
    "df_sales_c.loc[df_sales_c[\"amount\"] == \"\", \"amount\"] = \"0\"\n",
    "\n",
    "# Formatting\n",
    "df_sales_c[\"amount\"] = df_sales_c[\"amount\"].astype(float)\n",
    "df_sales_c[\"probability\"] = df_sales_c[\"probability\"].astype(float)\n",
    "df_sales_c.createdate = pd.to_datetime(df_sales_c.createdate)\n",
    "df_sales_c.hs_lastmodifieddate = pd.to_datetime(df_sales_c.hs_lastmodifieddate)\n",
    "df_sales_c.closedate = pd.to_datetime(df_sales_c.closedate)\n",
    "\n",
    "# Calc\n",
    "df_sales_c[\"forecasted\"] = df_sales_c[\"amount\"] * df_sales_c[\"probability\"]\n",
    "\n",
    "df_sales_c"
   ]
  },
  {
   "cell_type": "markdown",
   "id": "about-retrieval",
   "metadata": {
    "papermill": {},
    "tags": []
   },
   "source": [
    "### Create sales pipeline agregated by dealstages"
   ]
  },
  {
   "cell_type": "code",
   "execution_count": null,
   "id": "naughty-expense",
   "metadata": {
    "papermill": {},
    "tags": []
   },
   "outputs": [],
   "source": [
    "df_details = df_sales_c.copy()\n",
    "\n",
    "# Groupby\n",
    "to_group = [\"dealstage_label\", \"probability\", \"displayOrder\"]\n",
    "to_agg = {\"amount\": \"sum\", \"dealname\": \"count\", \"forecasted\": \"sum\"}\n",
    "df_details = df_details.groupby(to_group, as_index=False).agg(to_agg)\n",
    "\n",
    "# Sort\n",
    "df_details = df_details.sort_values(\"displayOrder\")\n",
    "\n",
    "df_details"
   ]
  },
  {
   "cell_type": "markdown",
   "id": "brazilian-posting",
   "metadata": {
    "papermill": {},
    "tags": []
   },
   "source": [
    "### Calculate email parameters"
   ]
  },
  {
   "cell_type": "code",
   "execution_count": null,
   "id": "devoted-worst",
   "metadata": {
    "papermill": {},
    "tags": []
   },
   "outputs": [],
   "source": [
    "forecasted = df_details.forecasted.sum()\n",
    "forecasted"
   ]
  },
  {
   "cell_type": "code",
   "execution_count": null,
   "id": "welsh-accounting",
   "metadata": {
    "papermill": {},
    "tags": []
   },
   "outputs": [],
   "source": [
    "won = df_details[df_details[\"probability\"] == 1].forecasted.sum()\n",
    "won"
   ]
  },
  {
   "cell_type": "code",
   "execution_count": null,
   "id": "duplicate-premiere",
   "metadata": {
    "papermill": {},
    "tags": []
   },
   "outputs": [],
   "source": [
    "weighted = df_details[df_details[\"probability\"] < 1].forecasted.sum()\n",
    "weighted"
   ]
  },
  {
   "cell_type": "code",
   "execution_count": null,
   "id": "helpful-hobby",
   "metadata": {
    "papermill": {},
    "tags": []
   },
   "outputs": [],
   "source": [
    "completion_p = forecasted / objective\n",
    "completion_p"
   ]
  },
  {
   "cell_type": "code",
   "execution_count": null,
   "id": "insured-prompt",
   "metadata": {
    "papermill": {},
    "tags": []
   },
   "outputs": [],
   "source": [
    "completion_v = objective - forecasted\n",
    "completion_v"
   ]
  },
  {
   "cell_type": "code",
   "execution_count": null,
   "id": "promotional-helmet",
   "metadata": {
    "papermill": {},
    "tags": []
   },
   "outputs": [],
   "source": [
    "today = datetime.now().strftime(DATE_FORMAT)\n",
    "today"
   ]
  },
  {
   "cell_type": "markdown",
   "id": "known-audit",
   "metadata": {
    "papermill": {},
    "tags": []
   },
   "source": [
    "### Get pipeline details"
   ]
  },
  {
   "cell_type": "code",
   "execution_count": null,
   "id": "persistent-reminder",
   "metadata": {
    "papermill": {},
    "tags": []
   },
   "outputs": [],
   "source": [
    "df = df_details.copy()\n",
    "\n",
    "details = []\n",
    "\n",
    "for _, row in df.iterrows():\n",
    "    # status part\n",
    "    dealstage = row.dealstage_label\n",
    "    probability = row.probability\n",
    "    detail = f\"{dealstage} ({format_pourcentage(probability)})\"\n",
    "\n",
    "    # amount part\n",
    "    amount = row.amount\n",
    "    number = row.dealname\n",
    "    forecasted_ = row.forecasted\n",
    "    if probability < 1 and probability > 0:\n",
    "        detail = f\"{detail}: <ul><li>Amount : {format_number(amount)}</li><li>Number : {number}</li><li>Weighted amount : <b>{format_number(forecasted_)}</b></li></ul>\"\n",
    "    else:\n",
    "        detail = f\"{detail}: {format_number(amount)}\"\n",
    "\n",
    "    details += [detail]\n",
    "\n",
    "details"
   ]
  },
  {
   "cell_type": "markdown",
   "id": "coral-uruguay",
   "metadata": {
    "papermill": {},
    "tags": []
   },
   "source": [
    "### Get inactives deals"
   ]
  },
  {
   "cell_type": "code",
   "execution_count": null,
   "id": "understanding-programmer",
   "metadata": {
    "papermill": {},
    "tags": []
   },
   "outputs": [],
   "source": [
    "df_inactive = df_sales_c.copy()\n",
    "\n",
    "df_inactive.hs_lastmodifieddate = pd.to_datetime(\n",
    "    df_inactive.hs_lastmodifieddate\n",
    ").dt.strftime(DATE_FORMAT)\n",
    "\n",
    "df_inactive[\"inactive_time\"] = (\n",
    "    datetime.now() - pd.to_datetime(df_inactive.hs_lastmodifieddate, format=DATE_FORMAT)\n",
    ").dt.days\n",
    "df_inactive.loc[(df_inactive[\"inactive_time\"] > 30, \"inactive\")] = \"inactive\"\n",
    "df_inactive = (\n",
    "    df_inactive[\n",
    "        (df_inactive.inactive == \"inactive\")\n",
    "        & (df_inactive.amount != 0)\n",
    "        & (df_inactive.probability > 0.0)\n",
    "        & (df_inactive.probability < 1)\n",
    "    ]\n",
    "    .sort_values(\"amount\", ascending=False)\n",
    "    .reset_index(drop=True)\n",
    ")\n",
    "\n",
    "df_inactive"
   ]
  },
  {
   "cell_type": "code",
   "execution_count": null,
   "id": "attractive-sunrise",
   "metadata": {
    "papermill": {},
    "tags": []
   },
   "outputs": [],
   "source": [
    "inactives = []\n",
    "\n",
    "for _, row in df_inactive[:10].iterrows():\n",
    "    # status part\n",
    "    dealname = row.dealname\n",
    "    dealstage_label = row.dealstage_label\n",
    "    amount = row.amount\n",
    "    probability = row.probability\n",
    "    inactive = f\"{dealname} ({dealstage_label}): <b>{format_number(amount)}</b>\"\n",
    "    inactives += [inactive]\n",
    "\n",
    "inactives"
   ]
  },
  {
   "cell_type": "markdown",
   "id": "recognized-dallas",
   "metadata": {
    "papermill": {},
    "tags": []
   },
   "source": [
    "### Create pipeline waterfall"
   ]
  },
  {
   "cell_type": "code",
   "execution_count": null,
   "id": "arctic-footage",
   "metadata": {
    "papermill": {},
    "tags": []
   },
   "outputs": [],
   "source": [
    "import plotly.graph_objects as go\n",
    "\n",
    "fig = go.Figure(\n",
    "    go.Waterfall(\n",
    "        name=\"20\",\n",
    "        orientation=\"v\",\n",
    "        measure=[\"relative\", \"relative\", \"total\", \"relative\", \"total\"],\n",
    "        x=[\"Won\", \"Pipeline\", \"Forecast\", \"Missing\", \"Objective\"],\n",
    "        textposition=\"outside\",\n",
    "        text=[\n",
    "            format_number(won),\n",
    "            format_varv(weighted),\n",
    "            format_number(forecasted),\n",
    "            format_varv(completion_v),\n",
    "            format_number(objective),\n",
    "        ],\n",
    "        y=[won, weighted, forecasted, completion_v, objective],\n",
    "        decreasing={\"marker\": {\"color\": \"#33475b\"}},\n",
    "        increasing={\"marker\": {\"color\": \"#33475b\"}},\n",
    "        totals={\"marker\": {\"color\": \"#ff7a59\"}},\n",
    "    )\n",
    ")\n",
    "\n",
    "\n",
    "fig.update_layout(title=\"Sales Metrics\", plot_bgcolor=\"#ffffff\", hovermode=\"x\")\n",
    "fig.update_yaxes(tickprefix=\"€\", gridcolor=\"#eaeaea\")\n",
    "fig.show()"
   ]
  },
  {
   "cell_type": "code",
   "execution_count": null,
   "id": "extra-edgar",
   "metadata": {
    "papermill": {},
    "tags": []
   },
   "outputs": [],
   "source": [
    "fig.write_html(\"GRAPH_FILE.html\")\n",
    "fig.write_image(\"GRAPH_IMG.png\")\n",
    "\n",
    "params = {\"inline\": True}\n",
    "\n",
    "graph_url = naas.asset.add(\"GRAPH_FILE.html\", params=params)\n",
    "graph_image = naas.asset.add(\"GRAPH_IMG.png\")"
   ]
  },
  {
   "cell_type": "markdown",
   "id": "veterinary-bookmark",
   "metadata": {
    "papermill": {},
    "tags": []
   },
   "source": [
    "### Create email"
   ]
  },
  {
   "cell_type": "code",
   "execution_count": null,
   "id": "simplified-rainbow",
   "metadata": {
    "papermill": {},
    "tags": []
   },
   "outputs": [],
   "source": [
    "def email_brief(\n",
    "    today,\n",
    "    forecasted,\n",
    "    won,\n",
    "    weighted,\n",
    "    objective,\n",
    "    completion_p,\n",
    "    completion_v,\n",
    "    details,\n",
    "    inactives,\n",
    "):\n",
    "    content = {\n",
    "        \"title\": (\n",
    "            f\"<a href='{NAAS_WEBSITE}'>\"\n",
    "            f\"<img align='center' width='100%' target='_blank' style='border-radius:5px;'\"\n",
    "            f\"src='{HUBSPOT_CARD}' alt={EMAIL_DESCRIPTION}/>\"\n",
    "            \"</a>\"\n",
    "        ),\n",
    "        \"txt_intro\": (\n",
    "            f\"Hi there,<br><br>\" f\"Here is your weekly sales email as of {today}.\"\n",
    "        ),\n",
    "        \"title_1\": emailbuilder.text(\n",
    "            \"Overview\", font_size=\"27px\", text_align=\"center\", bold=True\n",
    "        ),\n",
    "        \"text_1\": emailbuilder.text(\n",
    "            f\"As of today, your yearly forecasted revenue is {format_number(forecasted)}.\"\n",
    "        ),\n",
    "        \"list_1\": emailbuilder.list(\n",
    "            [\n",
    "                f\"Won : {format_number(won)}\",\n",
    "                f\"Weighted pipeline : <b>{format_number(weighted)}</b>\",\n",
    "            ]\n",
    "        ),\n",
    "        \"text_1_2\": emailbuilder.text(\n",
    "            f\"You need to find 👉 <u>{format_number(completion_v)}</u> to reach your goal !\"\n",
    "        ),\n",
    "        \"text_1_1\": emailbuilder.text(\n",
    "            f\"Your yearly objective is {format_number(objective)} ({format_pourcentage(completion_p)} completion).\"\n",
    "        ),\n",
    "        \"image_1\": emailbuilder.image(graph_image, link=graph_url),\n",
    "        \"title_2\": emailbuilder.text(\n",
    "            \"🚀 Pipeline\", font_size=\"27px\", text_align=\"center\", bold=True\n",
    "        ),\n",
    "        \"list_2\": emailbuilder.list(details),\n",
    "        \"title_3\": emailbuilder.text(\n",
    "            \"🧐 Actions needed\", font_size=\"27px\", text_align=\"center\", bold=True\n",
    "        ),\n",
    "        \"text_3\": emailbuilder.text(\"Here are deals where you need to take actions :\"),\n",
    "        \"list_3\": emailbuilder.list(inactives),\n",
    "        \"text_3_1\": emailbuilder.text(\n",
    "            \"If you need more details, connect to Hubspot with the link below.\"\n",
    "        ),\n",
    "        \"button_1\": emailbuilder.button(\n",
    "            link=\"https://app.hubspot.com/\",\n",
    "            text=\"Go to Hubspot\",\n",
    "            background_color=\"#ff7a59\",\n",
    "        ),\n",
    "        \"title_4\": emailbuilder.text(\n",
    "            \"Glossary\", text_align=\"center\", bold=True, underline=True\n",
    "        ),\n",
    "        \"list_4\": emailbuilder.list(\n",
    "            [\n",
    "                \"Yearly forecasted revenue :  Weighted amount + WON exclude LOST\",\n",
    "                \"Yearly objective : Input in script\",\n",
    "                \"Inactive deal : No activity for more than 30 days\",\n",
    "            ]\n",
    "        ),\n",
    "        \"footer_cs\": emailbuilder.footer_company(naas=True),\n",
    "    }\n",
    "\n",
    "    email_content = emailbuilder.generate(display=\"iframe\", **content)\n",
    "    return email_content\n",
    "\n",
    "\n",
    "email_content = email_brief(\n",
    "    today,\n",
    "    forecasted,\n",
    "    won,\n",
    "    weighted,\n",
    "    objective,\n",
    "    completion_p,\n",
    "    completion_v,\n",
    "    details,\n",
    "    inactives,\n",
    ")"
   ]
  },
  {
   "cell_type": "markdown",
   "id": "alive-comparative",
   "metadata": {
    "papermill": {},
    "tags": []
   },
   "source": [
    "## Output"
   ]
  },
  {
   "cell_type": "markdown",
   "id": "compatible-pantyhose",
   "metadata": {
    "papermill": {},
    "tags": []
   },
   "source": [
    "### Send email"
   ]
  },
  {
   "cell_type": "code",
   "execution_count": null,
   "id": "collaborative-suggestion",
   "metadata": {
    "papermill": {},
    "tags": []
   },
   "outputs": [],
   "source": [
    "naas.notification.send(email_to, email_subject, email_content)"
   ]
  }
 ],
 "metadata": {
  "kernelspec": {
   "display_name": "Python 3",
   "language": "python",
   "name": "python3"
  },
  "language_info": {
   "codemirror_mode": {
    "name": "ipython",
    "version": 3
   },
   "file_extension": ".py",
   "mimetype": "text/x-python",
   "name": "python",
   "nbconvert_exporter": "python",
   "pygments_lexer": "ipython3",
   "version": "3.9.6"
  },
  "naas": {
   "notebook_id": "a82cec3af17c939d191f8ce0883159014a63484fd77e1ec01c92c4d6358c90aa",
   "notebook_path": "HubSpot/HubSpot_Send_sales_brief.ipynb"
  },
  "papermill": {
   "default_parameters": {},
   "environment_variables": {},
   "parameters": {},
   "version": "2.3.3"
  },
  "widgets": {
   "application/vnd.jupyter.widget-state+json": {
    "state": {},
    "version_major": 2,
    "version_minor": 0
   }
  }
 },
 "nbformat": 4,
 "nbformat_minor": 5
}