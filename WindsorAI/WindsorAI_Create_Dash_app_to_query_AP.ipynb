{
 "cells": [
  {
   "cell_type": "markdown",
   "id": "cd205a66-8d3d-4364-8ebb-54bc57ad63e0",
   "metadata": {
    "execution": {
     "iopub.execute_input": "2022-11-01T00:53:41.209669Z",
     "iopub.status.busy": "2022-11-01T00:53:41.209448Z",
     "iopub.status.idle": "2022-11-01T00:53:41.218941Z",
     "shell.execute_reply": "2022-11-01T00:53:41.218066Z",
     "shell.execute_reply.started": "2022-11-01T00:53:41.209646Z"
    },
    "papermill": {},
    "tags": []
   },
   "source": [
    "<img width=\"10%\" alt=\"Naas\" src=\"https://landen.imgix.net/jtci2pxwjczr/assets/5ice39g4.png?w=160\"/>"
   ]
  },
  {
   "cell_type": "markdown",
   "id": "a157f454-4e70-445c-ad9b-66a652aae2c1",
   "metadata": {
    "execution": {
     "iopub.execute_input": "2022-11-01T00:53:28.548306Z",
     "iopub.status.busy": "2022-11-01T00:53:28.547743Z",
     "iopub.status.idle": "2022-11-01T00:53:28.567516Z",
     "shell.execute_reply": "2022-11-01T00:53:28.566487Z",
     "shell.execute_reply.started": "2022-11-01T00:53:28.548200Z"
    },
    "papermill": {},
    "tags": []
   },
   "source": [
    "# WindsorAI - Create Dash app to query AP\n",
    "<a href=\"https://app.naas.ai/user-redirect/naas/downloader?url=https://raw.githubusercontent.com/jupyter-naas/awesome-notebooks/master/WindsorAI/WindsorAI_Create_Dash_app_to_query_AP.ipynb\" target=\"_parent\"><img src=\"https://naasai-public.s3.eu-west-3.amazonaws.com/open_in_naas.svg\"/></a><br><br><a href=\"https://github.com/jupyter-naas/awesome-notebooks/issues/new?assignees=&labels=&template=template-request.md&title=Tool+-+Action+of+the+notebook+\">Template request</a> | <a href=\"https://github.com/jupyter-naas/awesome-notebooks/issues/new?assignees=&labels=bug&template=bug_report.md&title=WindsorAI+-+Create+Dash+app+to+query+AP:+Error+short+description\">Bug report</a>"
   ]
  },
  {
   "cell_type": "markdown",
   "id": "b24afdf6-ead7-404b-a7c0-a282962a3315",
   "metadata": {
    "papermill": {},
    "tags": []
   },
   "source": [
    "**Tags:** #tool #naas_drivers #naas #dash #marketing #automation #ai #analytics"
   ]
  },
  {
   "cell_type": "markdown",
   "id": "7dde0458-569e-429c-9f1f-2105155baf52",
   "metadata": {
    "papermill": {},
    "tags": []
   },
   "source": [
    "**Author:** [Elia Dabbas](https://www.linkedin.com/in/eliasdabbas/)"
   ]
  },
  {
   "cell_type": "markdown",
   "id": "523c1d1d-bd20-408b-bf70-b167ae4417a0",
   "metadata": {
    "papermill": {},
    "tags": []
   },
   "source": [
    "**Description:** This notebook enable anyone with a [Windsor.ai](https://windsor.ai/) account to visualy query the API with a Dash app."
   ]
  },
  {
   "cell_type": "markdown",
   "id": "5b837caf-0771-4a98-9da5-9d91fde89836",
   "metadata": {
    "papermill": {},
    "tags": []
   },
   "source": [
    "## Input"
   ]
  },
  {
   "cell_type": "markdown",
   "id": "3b599560-ac07-4b08-b26c-9fc0b5fd5558",
   "metadata": {
    "papermill": {},
    "tags": []
   },
   "source": [
    "### Import packages"
   ]
  },
  {
   "cell_type": "code",
   "execution_count": 1,
   "id": "7988bdb0-4061-4a7f-bca0-2346d4a9a3c3",
   "metadata": {
    "execution": {
     "iopub.execute_input": "2022-11-01T09:16:48.066836Z",
     "iopub.status.busy": "2022-11-01T09:16:48.066361Z",
     "iopub.status.idle": "2022-11-01T09:16:53.345812Z",
     "shell.execute_reply": "2022-11-01T09:16:53.345161Z",
     "shell.execute_reply.started": "2022-11-01T09:16:48.066768Z"
    },
    "papermill": {},
    "tags": []
   },
   "outputs": [],
   "source": [
    "pip install dash_bootstrap_templates"
   ]
  },
  {
   "cell_type": "markdown",
   "id": "746a618f-cb50-4119-b892-8bd34f7cfec5",
   "metadata": {
    "execution": {
     "iopub.execute_input": "2022-11-01T01:50:51.791047Z",
     "iopub.status.busy": "2022-11-01T01:50:51.790823Z",
     "iopub.status.idle": "2022-11-01T01:50:51.793821Z",
     "shell.execute_reply": "2022-11-01T01:50:51.793166Z",
     "shell.execute_reply.started": "2022-11-01T01:50:51.791024Z"
    },
    "papermill": {},
    "tags": []
   },
   "source": [
    "### Import libraries"
   ]
  },
  {
   "cell_type": "code",
   "execution_count": 2,
   "id": "491df522-7cd9-483b-80c4-c9a94a12dc04",
   "metadata": {
    "execution": {
     "iopub.execute_input": "2022-11-01T09:16:53.349008Z",
     "iopub.status.busy": "2022-11-01T09:16:53.348796Z",
     "iopub.status.idle": "2022-11-01T09:17:00.075298Z",
     "shell.execute_reply": "2022-11-01T09:17:00.072768Z",
     "shell.execute_reply.started": "2022-11-01T09:16:53.348982Z"
    },
    "papermill": {},
    "tags": []
   },
   "outputs": [],
   "source": [
    "import json\n",
    "import os\n",
    "import requests\n",
    "import pandas as pd\n",
    "import plotly.express as px\n",
    "from dash import Dash, html, dcc, Input, Output, State, callback\n",
    "from dash.dash_table import DataTable\n",
    "from dash.exceptions import PreventUpdate\n",
    "from jupyter_dash import JupyterDash\n",
    "import dash_bootstrap_components as dbc\n",
    "from dash_bootstrap_templates import load_figure_template\n",
    "\n",
    "load_figure_template(\"flatly\")\n",
    "\n",
    "pd.options.display.max_columns = None"
   ]
  },
  {
   "cell_type": "markdown",
   "id": "eb9acbbe",
   "metadata": {
    "papermill": {},
    "tags": []
   },
   "source": [
    "### Parameters"
   ]
  },
  {
   "cell_type": "code",
   "execution_count": null,
   "id": "523d93b4",
   "metadata": {
    "papermill": {},
    "tags": [
     "parameters"
    ]
   },
   "outputs": [],
   "source": [
    "KNATIVE = False"
   ]
  },
  {
   "cell_type": "markdown",
   "id": "d9ceaa04-272e-4c80-a7e8-16f405dea246",
   "metadata": {
    "papermill": {},
    "tags": []
   },
   "source": [
    "### Defining key parameters and variables"
   ]
  },
  {
   "cell_type": "code",
   "execution_count": 3,
   "id": "ef8a0e9e-13b4-4377-b052-da3a61f1b114",
   "metadata": {
    "execution": {
     "iopub.execute_input": "2022-11-01T09:17:00.077210Z",
     "iopub.status.busy": "2022-11-01T09:17:00.076771Z",
     "iopub.status.idle": "2022-11-01T09:17:00.082611Z",
     "shell.execute_reply": "2022-11-01T09:17:00.081978Z",
     "shell.execute_reply.started": "2022-11-01T09:17:00.077176Z"
    },
    "papermill": {},
    "tags": []
   },
   "outputs": [],
   "source": [
    "DASH_PORT = 8050\n",
    "\n",
    "BASE_URL = \"https://connectors.windsor.ai/all\"\n",
    "PARAMS = dict(\n",
    "    api_key=None,\n",
    "    date_preset=None,\n",
    "    fields=None,\n",
    ")\n",
    "\n",
    "date_preset_options = {\n",
    "    \"Yesterday\": \"last_1d\",\n",
    "    \"Last 3 days\": \"last_3d\",\n",
    "    \"Last 7 days\": \"last_7d\",\n",
    "    \"Last 14 days\": \"last_14d\",\n",
    "    \"Last 28 days\": \"last_28d\",\n",
    "    \"Last 30 days\": \"last_30d\",\n",
    "    \"Last 90 days\": \"last_90d\",\n",
    "    \"Last 180 days\": \"last_180d\",\n",
    "    \"This month\": \"this_month\",\n",
    "    \"1 year\": \"last_year\",\n",
    "}\n",
    "\n",
    "# to implement custom dates, this format can be used:\n",
    "# date_from=2021-10-05&date_to=2021-10-08\n",
    "\n",
    "fields_options = [\n",
    "    \"account_name\",\n",
    "    \"campaign\",\n",
    "    \"clicks\",\n",
    "    \"countryisocode\",\n",
    "    \"datasource\",\n",
    "    \"date\",\n",
    "    \"email\",\n",
    "    \"flat_file_open_listings_data__asin\",\n",
    "    \"sessions\",\n",
    "    \"source\",\n",
    "    \"spend\",\n",
    "]"
   ]
  },
  {
   "cell_type": "markdown",
   "id": "ac4d269c-9a69-4c8a-89b5-f666c5b5ab98",
   "metadata": {
    "papermill": {},
    "tags": []
   },
   "source": [
    "## Model\n",
    "\n",
    "### Helper functions"
   ]
  },
  {
   "cell_type": "code",
   "execution_count": 4,
   "id": "72d8f689-8382-4bb5-8889-301394345ab3",
   "metadata": {
    "execution": {
     "iopub.execute_input": "2022-11-01T09:17:00.083999Z",
     "iopub.status.busy": "2022-11-01T09:17:00.083680Z",
     "iopub.status.idle": "2022-11-01T09:17:00.178039Z",
     "shell.execute_reply": "2022-11-01T09:17:00.177465Z",
     "shell.execute_reply.started": "2022-11-01T09:17:00.083970Z"
    },
    "papermill": {},
    "tags": []
   },
   "outputs": [],
   "source": [
    "def make_table(df):\n",
    "    table = DataTable(\n",
    "        data=df.to_dict(\"records\"),\n",
    "        columns=[{\"name\": i, \"id\": i} for i in df.columns],\n",
    "        style_header={\n",
    "            \"fontFamily\": \"Arial\",\n",
    "            \"fontColor\": \"#2F3B4C\",\n",
    "            \"fontWeight\": \"bold\",\n",
    "        },\n",
    "        style_data={\"fontFamily\": \"Arial\"},\n",
    "        style_cell={\"overflow\": \"hidden\", \"textOverflow\": \"ellipsis\", \"minWidth\": 100},\n",
    "        virtualization=True,\n",
    "        sort_action=\"native\",\n",
    "        page_size=500,\n",
    "        fixed_rows={\"headers\": True},\n",
    "        export_format=\"csv\",\n",
    "    )\n",
    "    return table\n",
    "\n",
    "\n",
    "def num_cols(df):\n",
    "    numeric_cols = []\n",
    "    for col in df:\n",
    "        try:\n",
    "            df[col].astype(float)\n",
    "            numeric_cols.append(col)\n",
    "        except:\n",
    "            continue\n",
    "    return numeric_cols"
   ]
  },
  {
   "cell_type": "markdown",
   "id": "ab110077-0bd8-41dd-8a96-4f6ecf63fd76",
   "metadata": {
    "papermill": {},
    "tags": []
   },
   "source": [
    "### Instantial app and create app's layout"
   ]
  },
  {
   "cell_type": "code",
   "execution_count": 5,
   "id": "5bc1352c-5e79-474a-b3c7-5ddfd4b1a4fe",
   "metadata": {
    "execution": {
     "iopub.execute_input": "2022-11-01T09:17:00.179067Z",
     "iopub.status.busy": "2022-11-01T09:17:00.178875Z",
     "iopub.status.idle": "2022-11-01T09:17:00.485119Z",
     "shell.execute_reply": "2022-11-01T09:17:00.484515Z",
     "shell.execute_reply.started": "2022-11-01T09:17:00.179046Z"
    },
    "papermill": {},
    "tags": []
   },
   "outputs": [],
   "source": [
    "if KNATIVE is False:\n",
    "    app = Dash(\n",
    "        requests_pathname_prefix=f'/user/{os.environ.get(\"JUPYTERHUB_USER\")}/proxy/{DASH_PORT}/',\n",
    "        external_stylesheets=[dbc.themes.FLATLY],\n",
    "    )\n",
    "else:\n",
    "    app = Dash(external_stylesheets=[dbc.themes.FLATLY])\n",
    "\n",
    "\n",
    "app.layout = html.Div(\n",
    "    [\n",
    "        dcc.Store(id=\"store_columns\"),\n",
    "        html.Br(),\n",
    "        html.Br(),\n",
    "        html.H2(\n",
    "            [html.B(\"windsor.ai\"), html.Span(\" – interactive dashboard\")],\n",
    "            style={\"textAlign\": \"center\"},\n",
    "        ),\n",
    "        html.Br(),\n",
    "        dbc.Row(\n",
    "            [\n",
    "                dbc.Col(lg=1),\n",
    "                dbc.Col(\n",
    "                    [\n",
    "                        dbc.Label(\"Date range:\"),\n",
    "                        dcc.Dropdown(\n",
    "                            id=\"date_dropdown\",\n",
    "                            value=\"last_7d\",\n",
    "                            options=[\n",
    "                                {\"label\": k, \"value\": v}\n",
    "                                for k, v in date_preset_options.items()\n",
    "                            ],\n",
    "                        ),\n",
    "                        html.Br(),\n",
    "                    ],\n",
    "                    lg=2,\n",
    "                ),\n",
    "                dbc.Col(\n",
    "                    [\n",
    "                        dbc.Label(\"Fields:\"),\n",
    "                        dcc.Dropdown(\n",
    "                            id=\"fields_dropdown\",\n",
    "                            multi=True,\n",
    "                            options=[\n",
    "                                {\n",
    "                                    \"label\": field.replace(\"_\", \" \").title(),\n",
    "                                    \"value\": field,\n",
    "                                }\n",
    "                                for field in fields_options\n",
    "                            ],\n",
    "                        ),\n",
    "                        html.Br(),\n",
    "                    ],\n",
    "                    lg=4,\n",
    "                ),\n",
    "                dbc.Col([dbc.Label(\"Your API key:\"), dbc.Input(id=\"api_key\")], lg=2),\n",
    "                dbc.Col(\n",
    "                    [\n",
    "                        html.Br(),\n",
    "                        html.Div(\n",
    "                            dbc.Button(\"Submit\", id=\"submit_button\"),\n",
    "                        ),\n",
    "                    ],\n",
    "                    lg=2,\n",
    "                ),\n",
    "            ]\n",
    "        ),\n",
    "        html.Hr(),\n",
    "        html.Br(),\n",
    "        dbc.Row(\n",
    "            [\n",
    "                dbc.Col(lg=1),\n",
    "                dbc.Col(\n",
    "                    [\n",
    "                        html.Div(\n",
    "                            [\n",
    "                                dbc.Col([dcc.Dropdown(id=\"num_cols_dropdown\")], lg=3),\n",
    "                                dcc.Loading(dcc.Graph(id=\"chart\")),\n",
    "                                html.Br(),\n",
    "                                dcc.Loading(html.Div(id=\"output\")),\n",
    "                            ],\n",
    "                            hidden=True,\n",
    "                            id=\"output_id\",\n",
    "                        )\n",
    "                    ],\n",
    "                    lg=10,\n",
    "                ),\n",
    "            ]\n",
    "        ),\n",
    "    ]\n",
    ")"
   ]
  },
  {
   "cell_type": "markdown",
   "id": "a6b462ce-58c3-4faf-8201-b6e25eb9923c",
   "metadata": {
    "papermill": {},
    "tags": []
   },
   "source": [
    "### Create app's callback function/interactivity"
   ]
  },
  {
   "cell_type": "code",
   "execution_count": 6,
   "id": "2de37258-e3e2-4b4a-a3bc-528d9833b0b4",
   "metadata": {
    "execution": {
     "iopub.execute_input": "2022-11-01T09:17:00.486329Z",
     "iopub.status.busy": "2022-11-01T09:17:00.486105Z",
     "iopub.status.idle": "2022-11-01T09:17:00.497115Z",
     "shell.execute_reply": "2022-11-01T09:17:00.495625Z",
     "shell.execute_reply.started": "2022-11-01T09:17:00.486299Z"
    },
    "papermill": {},
    "tags": []
   },
   "outputs": [],
   "source": [
    "@app.callback(\n",
    "    Output(\"output\", \"children\"),\n",
    "    Output(\"num_cols_dropdown\", \"options\"),\n",
    "    Output(\"output_id\", \"hidden\"),\n",
    "    Output(\"store_columns\", \"data\"),\n",
    "    Input(\"submit_button\", \"n_clicks\"),\n",
    "    State(\"date_dropdown\", \"value\"),\n",
    "    State(\"fields_dropdown\", \"value\"),\n",
    "    State(\"api_key\", \"value\"),\n",
    "    prevent_initial_call=True,\n",
    ")\n",
    "def make_api_request(n_clicks, date_dropdown, fields_dropdown, api_key):\n",
    "    if \"date\" not in fields_dropdown:\n",
    "        fields_dropdown.append(\"date\")\n",
    "    PARAMS[\"date_preset\"] = date_dropdown\n",
    "    PARAMS[\"fields\"] = \",\".join(fields_dropdown)\n",
    "    PARAMS[\"api_key\"] = api_key\n",
    "    response = requests.get(BASE_URL, params=PARAMS)\n",
    "    resp_df = pd.DataFrame(response.json()[\"data\"])\n",
    "    table = make_table(resp_df)\n",
    "    hidden = False\n",
    "    return table, num_cols(resp_df), hidden, resp_df.to_json()\n",
    "\n",
    "\n",
    "@app.callback(\n",
    "    Output(\"chart\", \"figure\"),\n",
    "    Input(\"num_cols_dropdown\", \"value\"),\n",
    "    Input(\"store_columns\", \"data\"),\n",
    "    prevent_initial_call=True,\n",
    ")\n",
    "def make_chart(value, data):\n",
    "    if not value:\n",
    "        raise PreventUpdate\n",
    "    df = pd.DataFrame.from_dict(json.loads(data))\n",
    "    for col in df:\n",
    "        try:\n",
    "            df[col] = df[col].astype(float)\n",
    "        except:\n",
    "            continue\n",
    "    dftest = df\n",
    "    fig = px.bar(\n",
    "        df.groupby(\"date\").sum().reset_index(),\n",
    "        x=\"date\",\n",
    "        y=value,\n",
    "        title=f\"<b>Total daily {value}</b>\",\n",
    "    )\n",
    "    return fig"
   ]
  },
  {
   "cell_type": "markdown",
   "id": "3fde013e-13b9-4f61-83e9-9574bfad7ee3",
   "metadata": {
    "papermill": {},
    "tags": []
   },
   "source": [
    "## Output"
   ]
  },
  {
   "cell_type": "markdown",
   "id": "9badbf68-8937-4a44-9f3e-1c79bdd1295a",
   "metadata": {
    "execution": {
     "iopub.execute_input": "2022-11-01T01:53:23.102127Z",
     "iopub.status.busy": "2022-11-01T01:53:23.101871Z",
     "iopub.status.idle": "2022-11-01T01:53:23.104948Z",
     "shell.execute_reply": "2022-11-01T01:53:23.104260Z",
     "shell.execute_reply.started": "2022-11-01T01:53:23.102088Z"
    },
    "papermill": {},
    "tags": []
   },
   "source": [
    "### Run the Dash app server"
   ]
  },
  {
   "cell_type": "code",
   "execution_count": 7,
   "id": "bc6d17e7-dec5-4f38-8853-60262c3195e0",
   "metadata": {
    "execution": {
     "iopub.execute_input": "2022-11-01T09:17:00.500202Z",
     "iopub.status.busy": "2022-11-01T09:17:00.500038Z",
     "iopub.status.idle": "2022-11-01T09:17:00.637284Z",
     "shell.execute_reply": "2022-11-01T09:17:00.635544Z",
     "shell.execute_reply.started": "2022-11-01T09:17:00.500183Z"
    },
    "papermill": {},
    "tags": []
   },
   "outputs": [],
   "source": [
    "if __name__ == \"__main__\":\n",
    "    if KNATIVE is False:\n",
    "        app.run_server(proxy=f\"http://127.0.0.1:{DASH_PORT}::https://app.naas.ai\")\n",
    "    else:\n",
    "        app.run_server()"
   ]
  }
 ],
 "metadata": {
  "kernelspec": {
   "display_name": "Python 3",
   "language": "python",
   "name": "python3"
  },
  "language_info": {
   "codemirror_mode": {
    "name": "ipython",
    "version": 3
   },
   "file_extension": ".py",
   "mimetype": "text/x-python",
   "name": "python",
   "nbconvert_exporter": "python",
   "pygments_lexer": "ipython3",
   "version": "3.9.6"
  },
  "papermill": {
   "default_parameters": {},
   "environment_variables": {},
   "parameters": {},
   "version": "2.4.0"
  },
  "widgets": {
   "application/vnd.jupyter.widget-state+json": {
    "state": {},
    "version_major": 2,
    "version_minor": 0
   }
  }
 },
 "nbformat": 4,
 "nbformat_minor": 5
}