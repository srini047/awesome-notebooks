{
 "cells": [
  {
   "cell_type": "markdown",
   "id": "d66debc5-522c-4dba-b047-8288266f245f",
   "metadata": {
    "papermill": {},
    "tags": []
   },
   "source": [
    "<img width=\"10%\" alt=\"Naas\" src=\"https://landen.imgix.net/jtci2pxwjczr/assets/5ice39g4.png?w=160\"/>"
   ]
  },
  {
   "cell_type": "markdown",
   "id": "16f34072-33f4-4ffe-b24b-42c9a56fdd79",
   "metadata": {
    "papermill": {},
    "tags": []
   },
   "source": [
    "# ZeroBounce - Validate Single Email\n",
    "<a href=\"https://app.naas.ai/user-redirect/naas/downloader?url=https://raw.githubusercontent.com/jupyter-naas/awesome-notebooks/master/ZeroBounce/ZeroBounce_Validate_Single_Email.ipynb\" target=\"_parent\"><img src=\"https://naasai-public.s3.eu-west-3.amazonaws.com/open_in_naas.svg\"/></a><br><br><a href=\"https://github.com/jupyter-naas/awesome-notebooks/issues/new?assignees=&labels=&template=template-request.md&title=Tool+-+Action+of+the+notebook+\">Template request</a> | <a href=\"https://github.com/jupyter-naas/awesome-notebooks/issues/new?assignees=&labels=bug&template=bug_report.md&title=ZeroBounce+-+Validate+Single+Email:+Error+short+description\">Bug report</a>"
   ]
  },
  {
   "cell_type": "markdown",
   "id": "6898a0ed-9cbf-41ed-8ab6-621f6b00030a",
   "metadata": {
    "papermill": {},
    "tags": []
   },
   "source": [
    "**Tags:** #zerobounce #email #validation #java #sdk #setup"
   ]
  },
  {
   "cell_type": "markdown",
   "id": "1e39cd22-194b-46c1-bd1d-2f9e54c382be",
   "metadata": {
    "papermill": {},
    "tags": []
   },
   "source": [
    "**Author:** [Florent Ravenel](https://www.linkedin.com/in/florent-ravenel/)"
   ]
  },
  {
   "cell_type": "markdown",
   "id": "36857fa6-183c-4bd0-8116-d14f80422f35",
   "metadata": {
    "papermill": {},
    "tags": []
   },
   "source": [
    "**Description:** This notebook will demonstrate how to validate a single email address using ZeroBounce API."
   ]
  },
  {
   "cell_type": "markdown",
   "id": "fe5d1f10-ebdf-41b7-b5a9-aa14dedac40d",
   "metadata": {
    "papermill": {},
    "tags": []
   },
   "source": [
    "**References:**\n",
    "- [Complete API Libraries and Wrappers](https://www.zerobounce.net/docs/zerobounce-api-wrappers/#api_wrappers__v2__python)\n",
    "- [ZeroBounce Email Validation](https://www.zerobounce.net/docs/email-validation-api-quickstart)"
   ]
  },
  {
   "cell_type": "markdown",
   "id": "0e7c0d10-c59d-47ab-b079-e3a7e7d13380",
   "metadata": {
    "papermill": {},
    "tags": []
   },
   "source": [
    "## Input"
   ]
  },
  {
   "cell_type": "markdown",
   "id": "86ea9d2b-af4c-4c6e-b7ad-58a530c761fd",
   "metadata": {
    "papermill": {},
    "tags": []
   },
   "source": [
    "### Import libraries"
   ]
  },
  {
   "cell_type": "code",
   "execution_count": null,
   "id": "a002fff8-830b-4367-9059-e745b1e55054",
   "metadata": {
    "papermill": {},
    "tags": []
   },
   "outputs": [],
   "source": [
    "import requests\n",
    "import naas\n",
    "from pprint import pprint"
   ]
  },
  {
   "cell_type": "markdown",
   "id": "59713a10-63dc-4518-b333-205f2ef9c778",
   "metadata": {
    "papermill": {},
    "tags": []
   },
   "source": [
    "### Setup Variables\n",
    "- `api_key`: [Get your API key](https://www.zerobounce.net/members/API)\n",
    "- `email`: email to be validated\n",
    "- `ip_address`: ip_address can be blank"
   ]
  },
  {
   "cell_type": "code",
   "execution_count": null,
   "id": "bd8ef740-7c8c-44a0-8e01-e581b876017f",
   "metadata": {
    "papermill": {},
    "tags": []
   },
   "outputs": [],
   "source": [
    "api_key = naas.secret.get(\"ZEROBOUNCE_API_KEY\") or \"YOUR_API_KEY\"\n",
    "email = \"florent@naas.ai\"\n",
    "ip_address = \"\""
   ]
  },
  {
   "cell_type": "markdown",
   "id": "49ca9633-0c41-4588-9043-3097f9a3ab25",
   "metadata": {
    "papermill": {},
    "tags": []
   },
   "source": [
    "## Model"
   ]
  },
  {
   "cell_type": "markdown",
   "id": "312fdea7-f4ec-4475-8cb9-dcad36ce256d",
   "metadata": {
    "papermill": {},
    "tags": []
   },
   "source": [
    "### Validate single email"
   ]
  },
  {
   "cell_type": "code",
   "execution_count": null,
   "id": "c4b6ba88-9848-4b0b-bc6f-9085df4337aa",
   "metadata": {
    "papermill": {},
    "tags": []
   },
   "outputs": [],
   "source": [
    "url = \"https://api.zerobounce.net/v2/validate\"\n",
    "params = {\n",
    "    \"email\": email,\n",
    "    \"api_key\": api_key,\n",
    "    \"ip_address\": ip_address\n",
    "}\n",
    "response = requests.get(url, params=params)\n",
    "print(\"Email status:\", response.json().get(\"status\"))"
   ]
  },
  {
   "cell_type": "markdown",
   "id": "ba6b142c-f20a-481b-acf9-d5634ce598db",
   "metadata": {
    "papermill": {},
    "tags": []
   },
   "source": [
    "## Output"
   ]
  },
  {
   "cell_type": "markdown",
   "id": "94d4cd62-4196-4f2d-9883-a750f33cb11c",
   "metadata": {
    "papermill": {},
    "tags": []
   },
   "source": [
    "### Print the returned json"
   ]
  },
  {
   "cell_type": "code",
   "execution_count": null,
   "id": "956ed82f-ac11-4540-8219-d123cc4afa82",
   "metadata": {
    "papermill": {},
    "tags": []
   },
   "outputs": [],
   "source": [
    "pprint(response.json())"
   ]
  }
 ],
 "metadata": {
  "kernelspec": {
   "display_name": "Python 3",
   "language": "python",
   "name": "python3"
  },
  "language_info": {
   "codemirror_mode": {
    "name": "ipython",
    "version": 3
   },
   "file_extension": ".py",
   "mimetype": "text/x-python",
   "name": "python",
   "nbconvert_exporter": "python",
   "pygments_lexer": "ipython3",
   "version": "3.9.6"
  },
  "papermill": {
   "default_parameters": {},
   "environment_variables": {},
   "parameters": {},
   "version": "2.4.0"
  },
  "widgets": {
   "application/vnd.jupyter.widget-state+json": {
    "state": {},
    "version_major": 2,
    "version_minor": 0
   }
  }
 },
 "nbformat": 4,
 "nbformat_minor": 5
}