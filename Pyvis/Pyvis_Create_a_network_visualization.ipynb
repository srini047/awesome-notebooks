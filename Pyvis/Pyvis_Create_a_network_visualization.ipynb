{
 "cells": [
  {
   "cell_type": "markdown",
   "id": "latin-packing",
   "metadata": {
    "execution": {
     "iopub.execute_input": "2021-02-23T14:22:16.610471Z",
     "iopub.status.busy": "2021-02-23T14:22:16.610129Z",
     "iopub.status.idle": "2021-02-23T14:22:16.627784Z",
     "shell.execute_reply": "2021-02-23T14:22:16.626866Z",
     "shell.execute_reply.started": "2021-02-23T14:22:16.610384Z"
    },
    "papermill": {},
    "tags": []
   },
   "source": [
    "<img width=\"10%\" alt=\"Naas\" src=\"https://landen.imgix.net/jtci2pxwjczr/assets/5ice39g4.png?w=160\"/>"
   ]
  },
  {
   "cell_type": "markdown",
   "id": "compressed-wilson",
   "metadata": {
    "papermill": {},
    "tags": []
   },
   "source": [
    "# Pyvis - Create a network visualization\n",
    "<a href=\"https://app.naas.ai/user-redirect/naas/downloader?url=https://raw.githubusercontent.com/jupyter-naas/awesome-notebooks/master/Pyvis/Pyvis_Create_a_network_visualization.ipynb\" target=\"_parent\"><img src=\"https://naasai-public.s3.eu-west-3.amazonaws.com/open_in_naas.svg\"/></a><br><br><a href=\"https://github.com/jupyter-naas/awesome-notebooks/issues/new?assignees=&labels=&template=template-request.md&title=Tool+-+Action+of+the+notebook+\">Template request</a> | <a href=\"https://github.com/jupyter-naas/awesome-notebooks/issues/new?assignees=&labels=bug&template=bug_report.md&title=Pyvis+-+Create+a+network+visualization:+Error+short+description\">Bug report</a>"
   ]
  },
  {
   "cell_type": "markdown",
   "id": "religious-programmer",
   "metadata": {
    "papermill": {},
    "tags": []
   },
   "source": [
    "**Tags:** #python #naas #scheduler #network #snippet #analytics"
   ]
  },
  {
   "cell_type": "markdown",
   "id": "1fe9f56e-561c-4f52-aef8-b861c9462107",
   "metadata": {
    "papermill": {},
    "tags": []
   },
   "source": [
    "**Author:** [Jeremy Ravenel](https://www.linkedin.com/in/jeremyravenel/)"
   ]
  },
  {
   "cell_type": "markdown",
   "id": "31ea7cdb-e10d-43fc-b026-f69249a59736",
   "metadata": {
    "papermill": {},
    "tags": []
   },
   "source": [
    "**Description:** With this notebook, you can create a network graph to visualize the relations between different elements."
   ]
  },
  {
   "cell_type": "markdown",
   "id": "05c27135-236a-4727-bdce-c8e39cab1edc",
   "metadata": {
    "papermill": {},
    "tags": []
   },
   "source": [
    "**References:** https://pyvis.readthedocs.io/en/latest/tutorial.html"
   ]
  },
  {
   "cell_type": "markdown",
   "id": "distinguished-truth",
   "metadata": {
    "papermill": {},
    "tags": []
   },
   "source": [
    "## Input"
   ]
  },
  {
   "cell_type": "markdown",
   "id": "87f5d344-ecdd-4054-8696-34ed7f96548c",
   "metadata": {
    "papermill": {},
    "tags": []
   },
   "source": [
    "### Import packages"
   ]
  },
  {
   "cell_type": "code",
   "execution_count": 1,
   "id": "6b708479-188a-41ca-9180-46b6328b6621",
   "metadata": {
    "execution": {
     "iopub.execute_input": "2022-07-27T20:53:55.254070Z",
     "iopub.status.busy": "2022-07-27T20:53:55.253614Z",
     "iopub.status.idle": "2022-07-27T20:54:00.051325Z",
     "shell.execute_reply": "2022-07-27T20:54:00.050552Z",
     "shell.execute_reply.started": "2022-07-27T20:53:55.253990Z"
    },
    "jupyter": {
     "source_hidden": true
    },
    "papermill": {},
    "tags": []
   },
   "outputs": [],
   "source": [
    "pip install pyvis"
   ]
  },
  {
   "cell_type": "markdown",
   "id": "numeric-mediterranean",
   "metadata": {
    "papermill": {},
    "tags": []
   },
   "source": [
    "### Import library"
   ]
  },
  {
   "cell_type": "code",
   "execution_count": 2,
   "id": "potential-surfing",
   "metadata": {
    "execution": {
     "iopub.execute_input": "2022-07-27T20:54:00.053017Z",
     "iopub.status.busy": "2022-07-27T20:54:00.052704Z",
     "iopub.status.idle": "2022-07-27T20:54:02.423064Z",
     "shell.execute_reply": "2022-07-27T20:54:02.422469Z",
     "shell.execute_reply.started": "2022-07-27T20:54:00.052982Z"
    },
    "jupyter": {
     "source_hidden": true
    },
    "papermill": {},
    "tags": []
   },
   "outputs": [],
   "source": [
    "import naas\n",
    "from pyvis.network import Network"
   ]
  },
  {
   "cell_type": "markdown",
   "id": "aggressive-trustee",
   "metadata": {
    "papermill": {},
    "tags": []
   },
   "source": [
    "### Setup the global variables for the network"
   ]
  },
  {
   "cell_type": "code",
   "execution_count": 3,
   "id": "continuous-melbourne",
   "metadata": {
    "execution": {
     "iopub.execute_input": "2022-07-27T20:54:02.425864Z",
     "iopub.status.busy": "2022-07-27T20:54:02.425677Z",
     "iopub.status.idle": "2022-07-27T20:54:02.438972Z",
     "shell.execute_reply": "2022-07-27T20:54:02.438452Z",
     "shell.execute_reply.started": "2022-07-27T20:54:02.425843Z"
    },
    "papermill": {},
    "tags": []
   },
   "outputs": [],
   "source": [
    "network_name = \"pyvis_example\"\n",
    "net = Network(\n",
    "    notebook=True, height=\"750px\", width=\"100%\", bgcolor=\"#222222\", font_color=\"white\"\n",
    ")"
   ]
  },
  {
   "cell_type": "markdown",
   "id": "25015cf0-4ee4-418a-8371-a163d179d9e8",
   "metadata": {
    "papermill": {},
    "tags": []
   },
   "source": [
    "### Create master nodes with images and specific properties"
   ]
  },
  {
   "cell_type": "code",
   "execution_count": 4,
   "id": "c11aae54-33b4-4f21-889a-988ddf28a079",
   "metadata": {
    "execution": {
     "iopub.execute_input": "2022-07-27T20:54:02.440200Z",
     "iopub.status.busy": "2022-07-27T20:54:02.439957Z",
     "iopub.status.idle": "2022-07-27T20:54:02.541877Z",
     "shell.execute_reply": "2022-07-27T20:54:02.541278Z",
     "shell.execute_reply.started": "2022-07-27T20:54:02.440171Z"
    },
    "papermill": {},
    "tags": []
   },
   "outputs": [],
   "source": [
    "# Create master nodes with images and specific properties\n",
    "net.add_node(\n",
    "    3,\n",
    "    shape=\"image\",\n",
    "    image=\"https://upload.wikimedia.org/wikipedia/commons/thumb/c/ca/LinkedIn_logo_initials.png/768px-LinkedIn_logo_initials.png\",\n",
    ")\n",
    "net.add_node(\n",
    "    4,\n",
    "    shape=\"image\",\n",
    "    image=\"https://www.stemmarine.it/wp-content/uploads/2018/08/youtube-logo.png\",\n",
    "    color=\"#FF0000\",\n",
    ")\n",
    "net.add_node(\n",
    "    5,\n",
    "    shape=\"image\",\n",
    "    image=\"https://pnggrid.com/wp-content/uploads/2021/07/Twitter-Logo-Square.png\",\n",
    "    color=\"#1DA1F2\",\n",
    ")"
   ]
  },
  {
   "cell_type": "markdown",
   "id": "50809dc0-e80e-4c71-8be5-fbbdf620c3b8",
   "metadata": {
    "papermill": {},
    "tags": []
   },
   "source": [
    "### Create other simple nodes"
   ]
  },
  {
   "cell_type": "code",
   "execution_count": 5,
   "id": "ede1c7f7-cd29-49e2-be8a-db9484848959",
   "metadata": {
    "execution": {
     "iopub.execute_input": "2022-07-27T20:54:02.543194Z",
     "iopub.status.busy": "2022-07-27T20:54:02.542943Z",
     "iopub.status.idle": "2022-07-27T20:54:02.643575Z",
     "shell.execute_reply": "2022-07-27T20:54:02.642930Z",
     "shell.execute_reply.started": "2022-07-27T20:54:02.543161Z"
    },
    "papermill": {},
    "tags": []
   },
   "outputs": [],
   "source": [
    "net.add_nodes(\n",
    "    [1, 2, 6, 7, 8, 9, 10, 11, 12, 13, 14],\n",
    "    label=[\n",
    "        \"Setup\",\n",
    "        \"Common\",\n",
    "        \"Get post\",\n",
    "        \"Get followers\",\n",
    "        \"Get views\",\n",
    "        \"Get post\",\n",
    "        \"Get followers\",\n",
    "        \"Get views\",\n",
    "        \"Get post\",\n",
    "        \"Get followers\",\n",
    "        \"Get views\",\n",
    "    ],\n",
    "    color=[\n",
    "        \"#26cc67\",\n",
    "        \"black\",\n",
    "        \"#0072b1\",\n",
    "        \"#0072b1\",\n",
    "        \"#0072b1\",\n",
    "        \"#1DA1F2\",\n",
    "        \"#1DA1F2\",\n",
    "        \"#1DA1F2\",\n",
    "        \"#FF0000\",\n",
    "        \"#FF0000\",\n",
    "        \"#FF0000\",\n",
    "    ],\n",
    ")"
   ]
  },
  {
   "cell_type": "markdown",
   "id": "registered-showcase",
   "metadata": {
    "papermill": {},
    "tags": []
   },
   "source": [
    "## Model"
   ]
  },
  {
   "cell_type": "markdown",
   "id": "tested-astrology",
   "metadata": {
    "papermill": {},
    "tags": []
   },
   "source": [
    "### Create simple edge"
   ]
  },
  {
   "cell_type": "code",
   "execution_count": 6,
   "id": "crude-louisville",
   "metadata": {
    "execution": {
     "iopub.execute_input": "2022-07-27T20:54:02.646275Z",
     "iopub.status.busy": "2022-07-27T20:54:02.646085Z",
     "iopub.status.idle": "2022-07-27T20:54:02.745109Z",
     "shell.execute_reply": "2022-07-27T20:54:02.744477Z",
     "shell.execute_reply.started": "2022-07-27T20:54:02.646255Z"
    },
    "papermill": {},
    "tags": []
   },
   "outputs": [],
   "source": [
    "net.add_edge(1, 5)"
   ]
  },
  {
   "cell_type": "markdown",
   "id": "f7dbb2e1-d578-4be9-b9e5-16872a4d472d",
   "metadata": {
    "papermill": {},
    "tags": []
   },
   "source": [
    "### Create multiple edges"
   ]
  },
  {
   "cell_type": "code",
   "execution_count": 7,
   "id": "9cca845f-3a67-4e5f-9721-903970bee206",
   "metadata": {
    "execution": {
     "iopub.execute_input": "2022-07-27T20:54:02.747011Z",
     "iopub.status.busy": "2022-07-27T20:54:02.746754Z",
     "iopub.status.idle": "2022-07-27T20:54:02.851729Z",
     "shell.execute_reply": "2022-07-27T20:54:02.851001Z",
     "shell.execute_reply.started": "2022-07-27T20:54:02.746979Z"
    },
    "papermill": {},
    "tags": []
   },
   "outputs": [],
   "source": [
    "net.add_edges(\n",
    "    [\n",
    "        (1, 2),\n",
    "        (1, 3),\n",
    "        (1, 4),\n",
    "        (3, 2),\n",
    "        (4, 2),\n",
    "        (5, 2),\n",
    "        (3, 6),\n",
    "        (3, 7),\n",
    "        (3, 8),\n",
    "        (6, 2),\n",
    "        (7, 2),\n",
    "        (8, 2),\n",
    "        (5, 9),\n",
    "        (5, 10),\n",
    "        (5, 11),\n",
    "        (9, 2),\n",
    "        (10, 2),\n",
    "        (11, 2),\n",
    "        (4, 12),\n",
    "        (4, 13),\n",
    "        (4, 14),\n",
    "        (14, 2),\n",
    "        (13, 2),\n",
    "        (12, 2),\n",
    "    ]\n",
    ")"
   ]
  },
  {
   "cell_type": "markdown",
   "id": "lonely-pacific",
   "metadata": {
    "execution": {
     "iopub.execute_input": "2021-07-02T23:32:10.789097Z",
     "iopub.status.busy": "2021-07-02T23:32:10.788829Z",
     "iopub.status.idle": "2021-07-02T23:32:10.796900Z",
     "shell.execute_reply": "2021-07-02T23:32:10.796358Z",
     "shell.execute_reply.started": "2021-07-02T23:32:10.789033Z"
    },
    "papermill": {},
    "tags": []
   },
   "source": [
    "## Output"
   ]
  },
  {
   "cell_type": "markdown",
   "id": "890f7c86-b7bb-4f5d-9a1b-e492dd9580fd",
   "metadata": {
    "papermill": {},
    "tags": []
   },
   "source": [
    "### Show results"
   ]
  },
  {
   "cell_type": "code",
   "execution_count": 8,
   "id": "9c4e3b7b-6440-4844-8054-265f1aec65eb",
   "metadata": {
    "execution": {
     "iopub.execute_input": "2022-07-27T20:54:02.853366Z",
     "iopub.status.busy": "2022-07-27T20:54:02.853132Z",
     "iopub.status.idle": "2022-07-27T20:54:02.996343Z",
     "shell.execute_reply": "2022-07-27T20:54:02.995508Z",
     "shell.execute_reply.started": "2022-07-27T20:54:02.853337Z"
    },
    "papermill": {},
    "tags": []
   },
   "outputs": [],
   "source": [
    "network = net.show(f\"{network_name}.html\")\n",
    "network"
   ]
  },
  {
   "cell_type": "markdown",
   "id": "a28950bb-1d7d-4835-a83a-faac837ebc7c",
   "metadata": {
    "papermill": {},
    "tags": []
   },
   "source": [
    "### Share your output"
   ]
  },
  {
   "cell_type": "code",
   "execution_count": 9,
   "id": "db205965-a2dc-4541-ba8e-db3250d1cff0",
   "metadata": {
    "execution": {
     "iopub.execute_input": "2022-07-27T20:54:02.998722Z",
     "iopub.status.busy": "2022-07-27T20:54:02.998524Z",
     "iopub.status.idle": "2022-07-27T20:54:04.345928Z",
     "shell.execute_reply": "2022-07-27T20:54:04.345281Z",
     "shell.execute_reply.started": "2022-07-27T20:54:02.998701Z"
    },
    "papermill": {},
    "tags": []
   },
   "outputs": [],
   "source": [
    "naas.asset.add(f\"{network_name}.html\", {\"inline\": True})\n",
    "\n",
    "# -> Uncomment the line below to remove your asset\n",
    "# naas.asset.delete()"
   ]
  }
 ],
 "metadata": {
  "kernelspec": {
   "display_name": "Python 3",
   "language": "python",
   "name": "python3"
  },
  "language_info": {
   "codemirror_mode": {
    "name": "ipython",
    "version": 3
   },
   "file_extension": ".py",
   "mimetype": "text/x-python",
   "name": "python",
   "nbconvert_exporter": "python",
   "pygments_lexer": "ipython3",
   "version": "3.9.6"
  },
  "papermill": {
   "default_parameters": {},
   "environment_variables": {},
   "parameters": {},
   "version": "2.3.3"
  },
  "widgets": {
   "application/vnd.jupyter.widget-state+json": {
    "state": {},
    "version_major": 2,
    "version_minor": 0
   }
  }
 },
 "nbformat": 4,
 "nbformat_minor": 5
}