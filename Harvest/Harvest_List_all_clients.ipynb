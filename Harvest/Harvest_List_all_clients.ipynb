{
 "cells": [
  {
   "cell_type": "markdown",
   "id": "25d2b7a8-9e5a-4e62-8db9-bafdf4731e7d",
   "metadata": {
    "papermill": {},
    "tags": []
   },
   "source": [
    "<img width=\"10%\" alt=\"Naas\" src=\"https://landen.imgix.net/jtci2pxwjczr/assets/5ice39g4.png?w=160\"/>"
   ]
  },
  {
   "cell_type": "markdown",
   "id": "e3fa39cc-40c3-48be-900f-4f32dcb6da7c",
   "metadata": {
    "papermill": {},
    "tags": []
   },
   "source": [
    "# Harvest - List all clients\n",
    "<a href=\"https://app.naas.ai/user-redirect/naas/downloader?url=https://raw.githubusercontent.com/jupyter-naas/awesome-notebooks/master/Harvest/Harvest_List_all_clients.ipynb\" target=\"_parent\"><img src=\"https://naasai-public.s3.eu-west-3.amazonaws.com/Open_in_Naas_Lab.svg\"/></a><br><br><a href=\"https://github.com/jupyter-naas/awesome-notebooks/issues/new?assignees=&labels=&template=template-request.md&title=Tool+-+Action+of+the+notebook+\">Template request</a> | <a href=\"https://github.com/jupyter-naas/awesome-notebooks/issues/new?assignees=&labels=bug&template=bug_report.md&title=Harvest+-+List+all+clients:+Error+short+description\">Bug report</a> | <a href=\"https://app.naas.ai/user-redirect/naas/downloader?url=https://raw.githubusercontent.com/jupyter-naas/awesome-notebooks/master/Naas/Naas_Start_data_product.ipynb\" target=\"_parent\">Generate Data Product</a>"
   ]
  },
  {
   "cell_type": "markdown",
   "id": "ab8d752d-6449-43a5-bad7-e082519ebe18",
   "metadata": {
    "papermill": {},
    "tags": []
   },
   "source": [
    "**Tags:** #harvest #clients #api #list #python #get"
   ]
  },
  {
   "cell_type": "markdown",
   "id": "f92d3590-72e0-4db4-9855-62f05dea15d6",
   "metadata": {
    "papermill": {},
    "tags": []
   },
   "source": [
    "**Author:** [Florent Ravenel](https://www.linkedin.com/in/florent-ravenel/)"
   ]
  },
  {
   "cell_type": "markdown",
   "id": "03dc290b-9432-4a2d-93b5-a755d0d03e2f",
   "metadata": {
    "papermill": {},
    "tags": []
   },
   "source": [
    "**Description:** This notebook will list all clients from Harvest API and is usefull for organizations to get a list of their clients."
   ]
  },
  {
   "cell_type": "markdown",
   "id": "59af5121-1359-49d3-8a13-56254527ce8c",
   "metadata": {
    "papermill": {},
    "tags": []
   },
   "source": [
    "**References:**\n",
    "- [Harvest API Documentation](https://help.getharvest.com/api-v2/clients-api/clients/clients/)\n",
    "- [Harvest API Client Libraries](https://help.getharvest.com/api-v2/client-libraries/)"
   ]
  },
  {
   "cell_type": "markdown",
   "id": "68add357-c558-4d95-8768-42b0b9a41006",
   "metadata": {
    "papermill": {},
    "tags": []
   },
   "source": [
    "## Input"
   ]
  },
  {
   "cell_type": "markdown",
   "id": "76c6944e-e6d7-4303-afa0-6772da09763c",
   "metadata": {
    "papermill": {},
    "tags": []
   },
   "source": [
    "### Import libraries"
   ]
  },
  {
   "cell_type": "code",
   "execution_count": null,
   "id": "583c5fb0-0505-42c2-a285-e7b55179210e",
   "metadata": {
    "papermill": {},
    "tags": []
   },
   "outputs": [],
   "source": [
    "import requests\n",
    "import pandas as pd\n",
    "import naas"
   ]
  },
  {
   "cell_type": "markdown",
   "id": "3eed310a-f9ba-439b-90db-73b76730e476",
   "metadata": {
    "papermill": {},
    "tags": []
   },
   "source": [
    "### Setup Variables\n",
    "[Create your personnal access tokens](https://id.getharvest.com/oauth2/access_tokens/new)\n",
    "- `account_id`: Account ID from Harvest\n",
    "- `access_token`: Access token from Harvest\n",
    "- `limit`: entries limit, to get all entries enter -1"
   ]
  },
  {
   "cell_type": "code",
   "execution_count": null,
   "id": "0361ad4b-e8c3-4d7a-8ed9-d781edee0900",
   "metadata": {
    "papermill": {},
    "tags": []
   },
   "outputs": [],
   "source": [
    "account_id = naas.secret.get(\"HARVEST_ACCOUNT_ID\") or \"YOUR_HARVEST_ACCOUNT_ID\"\n",
    "access_token = naas.secret.get(\"HARVEST_ACCESS_TOKEN\") or \"YOUR_HARVEST_ACCESS_TOKEN\"\n",
    "limit = 1000"
   ]
  },
  {
   "cell_type": "markdown",
   "id": "6520f628-ffb6-422a-9c7b-c98ba6c14c5c",
   "metadata": {
    "papermill": {},
    "tags": []
   },
   "source": [
    "## Model"
   ]
  },
  {
   "cell_type": "markdown",
   "id": "bde70d85-c163-46a1-b16e-b130ea69ad7a",
   "metadata": {
    "papermill": {},
    "tags": []
   },
   "source": [
    "### List all clients"
   ]
  },
  {
   "cell_type": "markdown",
   "id": "84207d33-db67-4020-b137-94ddd53de702",
   "metadata": {
    "papermill": {},
    "tags": []
   },
   "source": [
    "This function will list all clients from Harvest API."
   ]
  },
  {
   "cell_type": "code",
   "execution_count": null,
   "id": "b7b6f4bb-a0e9-4a9d-b35c-2545be64df31",
   "metadata": {
    "papermill": {},
    "tags": []
   },
   "outputs": [],
   "source": [
    "def list_clients(account_id, access_token, limit=-1):\n",
    "    # Init\n",
    "    data = []\n",
    "    df = pd.DataFrame()\n",
    "    \n",
    "    # Requests\n",
    "    url = \"https://api.harvestapp.com/v2/clients\"\n",
    "    headers = {\n",
    "        \"Authorization\": f\"Bearer {access_token}\",\n",
    "        \"Harvest-Account-ID\": account_id,\n",
    "        \"User-Agent\": \"Harvest API Client\",\n",
    "        \"Content-Type\": \"application/json\",\n",
    "    }\n",
    "    \n",
    "    # Loop on while\n",
    "    while True:\n",
    "        res = requests.get(url, headers=headers)\n",
    "        if res.status_code == 200:\n",
    "            # Get data\n",
    "            res_json = res.json()\n",
    "            tmp = res_json.get(\"clients\")\n",
    "            for t in tmp:\n",
    "                data.append(t)\n",
    "            \n",
    "                # Manage limit\n",
    "                if limit != -1 and len(data) >= limit:\n",
    "                    break\n",
    "                \n",
    "            # Check next link\n",
    "            link_next = res_json.get(\"links\").get(\"next\")\n",
    "            if link_next:\n",
    "                url = link_next\n",
    "            else:\n",
    "                break\n",
    "                \n",
    "    # Transform in dataframes\n",
    "    df = pd.DataFrame(data)\n",
    "    return df"
   ]
  },
  {
   "cell_type": "markdown",
   "id": "81069671-4072-48b8-bba3-912678191264",
   "metadata": {
    "papermill": {},
    "tags": []
   },
   "source": [
    "## Output"
   ]
  },
  {
   "cell_type": "markdown",
   "id": "6cda684b-3a1e-4717-84ee-59b67266c596",
   "metadata": {
    "papermill": {},
    "tags": []
   },
   "source": [
    "### Display result"
   ]
  },
  {
   "cell_type": "code",
   "execution_count": null,
   "id": "ee947e48-2d2a-49ab-ab1c-984b0abedbf0",
   "metadata": {
    "papermill": {},
    "tags": []
   },
   "outputs": [],
   "source": [
    "df_clients = list_clients(\n",
    "    account_id,\n",
    "    access_token,\n",
    "    limit\n",
    ")\n",
    "print(\"Row fetched:\", len(df_clients))\n",
    "df_clients.head(1)"
   ]
  },
  {
   "cell_type": "markdown",
   "id": "aebbf5ad-1907-4ac8-9f17-aed7a1fbc036",
   "metadata": {
    "papermill": {},
    "tags": []
   },
   "source": [
    " "
   ]
  }
 ],
 "metadata": {
  "kernelspec": {
   "display_name": "Python 3",
   "language": "python",
   "name": "python3"
  },
  "language_info": {
   "codemirror_mode": {
    "name": "ipython",
    "version": 3
   },
   "file_extension": ".py",
   "mimetype": "text/x-python",
   "name": "python",
   "nbconvert_exporter": "python",
   "pygments_lexer": "ipython3",
   "version": "3.9.6"
  },
  "naas": {
   "notebook_id": "8a1dc783cc49a4f89c466a896cc8ec97d86bf1efd9a5f1b945cf97a3d73c3e27",
   "notebook_path": "Harvest/Harvest_List_all_clients.ipynb"
  },
  "papermill": {
   "default_parameters": {},
   "environment_variables": {},
   "parameters": {},
   "version": "2.4.0"
  },
  "widgets": {
   "application/vnd.jupyter.widget-state+json": {
    "state": {},
    "version_major": 2,
    "version_minor": 0
   }
  }
 },
 "nbformat": 4,
 "nbformat_minor": 5
}