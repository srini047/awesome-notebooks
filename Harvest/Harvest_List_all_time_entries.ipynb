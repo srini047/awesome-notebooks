{
 "cells": [
  {
   "cell_type": "markdown",
   "id": "f2a47dd5-bd4b-40ae-807a-33733f54526c",
   "metadata": {
    "papermill": {},
    "tags": []
   },
   "source": [
    "<img width=\"10%\" alt=\"Naas\" src=\"https://landen.imgix.net/jtci2pxwjczr/assets/5ice39g4.png?w=160\"/>"
   ]
  },
  {
   "cell_type": "markdown",
   "id": "7b1332f0-6461-48ed-937b-d596e7355431",
   "metadata": {
    "papermill": {},
    "tags": []
   },
   "source": [
    "# Harvest - List all time entries\n",
    "<a href=\"https://app.naas.ai/user-redirect/naas/downloader?url=https://raw.githubusercontent.com/jupyter-naas/awesome-notebooks/master/Harvest/Harvest_List_all_time_entries.ipynb\" target=\"_parent\"><img src=\"https://naasai-public.s3.eu-west-3.amazonaws.com/Open_in_Naas_Lab.svg\"/></a><br><br><a href=\"https://github.com/jupyter-naas/awesome-notebooks/issues/new?assignees=&labels=&template=template-request.md&title=Tool+-+Action+of+the+notebook+\">Template request</a> | <a href=\"https://github.com/jupyter-naas/awesome-notebooks/issues/new?assignees=&labels=bug&template=bug_report.md&title=Harvest+-+List+all+time+entries:+Error+short+description\">Bug report</a> | <a href=\"https://app.naas.ai/user-redirect/naas/downloader?url=https://raw.githubusercontent.com/jupyter-naas/awesome-notebooks/master/Naas/Naas_Start_data_product.ipynb\" target=\"_parent\">Generate Data Product</a>"
   ]
  },
  {
   "cell_type": "markdown",
   "id": "798bab33-186a-4734-a231-29d04ee4bf74",
   "metadata": {
    "papermill": {},
    "tags": []
   },
   "source": [
    "**Tags:** #harvest #timeentries #api #list #python #v2"
   ]
  },
  {
   "cell_type": "markdown",
   "id": "7f10c96e-15a4-4ad0-8d3f-986439cd148f",
   "metadata": {
    "papermill": {},
    "tags": []
   },
   "source": [
    "**Author:** [Florent Ravenel](https://www.linkedin.com/in/florent-ravenel/)"
   ]
  },
  {
   "cell_type": "markdown",
   "id": "fb7805d7-e41b-45a3-a8e0-531d6310b4e3",
   "metadata": {
    "papermill": {},
    "tags": []
   },
   "source": [
    "**Description:** This notebook will list all time entries from the Harvest API v2. It is usefull for organizations to quickly access and display time entries."
   ]
  },
  {
   "cell_type": "markdown",
   "id": "ab0b9e99-1655-4e11-a2c9-bbb4e391a4d6",
   "metadata": {
    "papermill": {},
    "tags": []
   },
   "source": [
    "**References:**\n",
    "- [Harvest API v2 - Time Entries](https://help.getharvest.com/api-v2/timesheets-api/timesheets/time-entries/)\n",
    "- [Harvest API v2 - Authentication](https://help.getharvest.com/api-v2/authentication-api/authentication/authentication/)"
   ]
  },
  {
   "cell_type": "markdown",
   "id": "c13b8aad-48a0-4802-9179-d98608369f46",
   "metadata": {
    "papermill": {},
    "tags": []
   },
   "source": [
    "## Input"
   ]
  },
  {
   "cell_type": "markdown",
   "id": "4092d0fe-1091-4865-8047-107dce67f67a",
   "metadata": {
    "papermill": {},
    "tags": []
   },
   "source": [
    "### Import libraries"
   ]
  },
  {
   "cell_type": "code",
   "execution_count": null,
   "id": "0be5433a-7621-427c-87e3-a23cde697521",
   "metadata": {
    "papermill": {},
    "tags": []
   },
   "outputs": [],
   "source": [
    "import requests\n",
    "import pandas as pd\n",
    "import naas"
   ]
  },
  {
   "cell_type": "markdown",
   "id": "c9a72c9a-516c-4cf6-9229-356ce62bd494",
   "metadata": {
    "papermill": {},
    "tags": []
   },
   "source": [
    "### Setup Variables\n",
    "[Create your personnal access tokens](https://id.getharvest.com/oauth2/access_tokens/new)\n",
    "- `account_id`: Account ID from Harvest\n",
    "- `access_token`: Access token from Harvest\n",
    "- `limit`: entries limit, to get all entries enter -1"
   ]
  },
  {
   "cell_type": "code",
   "execution_count": null,
   "id": "1146059a-d69a-46c6-877f-3b64cb3844b4",
   "metadata": {
    "papermill": {},
    "tags": []
   },
   "outputs": [],
   "source": [
    "account_id = naas.secret.get(\"HARVEST_ACCOUNT_ID\") or \"YOUR_HARVEST_ACCOUNT_ID\"\n",
    "access_token = naas.secret.get(\"HARVEST_ACCESS_TOKEN\") or \"YOUR_HARVEST_ACCESS_TOKEN\"\n",
    "limit = 1000"
   ]
  },
  {
   "cell_type": "markdown",
   "id": "b6e5afde-6a5b-4813-a4a9-280c34b68790",
   "metadata": {
    "papermill": {},
    "tags": []
   },
   "source": [
    "## Model"
   ]
  },
  {
   "cell_type": "markdown",
   "id": "18b5d596-5730-4755-acd0-bf83f9da5dcf",
   "metadata": {
    "papermill": {},
    "tags": []
   },
   "source": [
    "### List all time entries"
   ]
  },
  {
   "cell_type": "markdown",
   "id": "2bf3c5e8-1072-4c54-898a-7f5aa6cb9f40",
   "metadata": {
    "papermill": {},
    "tags": []
   },
   "source": [
    "This function will list all time entries from the Harvest API v2."
   ]
  },
  {
   "cell_type": "code",
   "execution_count": null,
   "id": "3044b9c3-2ae0-432b-9227-24ed5d08c1d5",
   "metadata": {
    "papermill": {},
    "tags": []
   },
   "outputs": [],
   "source": [
    "# Flatten the nested dict\n",
    "def flatten_dict(d, parent_key='', sep='_'):\n",
    "    \"\"\"\n",
    "    Flattens a nested dictionary into a single level dictionary.\n",
    "\n",
    "    Args:\n",
    "        d (dict): A nested dictionary.\n",
    "        parent_key (str): Optional string to prefix the keys with.\n",
    "        sep (str): Optional separator to use between parent_key and child_key.\n",
    "\n",
    "    Returns:\n",
    "        dict: A flattened dictionary.\n",
    "    \"\"\"\n",
    "    items = []\n",
    "    for k, v in d.items():\n",
    "        new_key = f\"{parent_key}{sep}{k}\" if parent_key else k\n",
    "        if isinstance(v, dict):\n",
    "            items.extend(flatten_dict(v, new_key, sep=sep).items())\n",
    "        else:\n",
    "            items.append((new_key, v))\n",
    "    return dict(items)\n",
    "\n",
    "def list_time_entries(account_id, access_token, limit=-1):\n",
    "    # Init\n",
    "    data = []\n",
    "    df = pd.DataFrame()\n",
    "    \n",
    "    # Requests\n",
    "    url = f\"https://api.harvestapp.com/v2/time_entries?account_id={account_id}\"\n",
    "    headers = {\n",
    "        \"Authorization\": f\"Bearer {access_token}\",\n",
    "        \"Harvest-Account-Id\": account_id,\n",
    "        \"User-Agent\": \"Harvest API Python Client\",\n",
    "        \"Content-Type\": \"application/json\",\n",
    "    }\n",
    "    \n",
    "    # Loop on while\n",
    "    while True:\n",
    "        res = requests.get(url, headers=headers)\n",
    "        if res.status_code == 200:\n",
    "            # Get data\n",
    "            res_json = res.json()\n",
    "            time_entries = res_json.get(\"time_entries\")\n",
    "            for time_entry in time_entries:\n",
    "                data.append(flatten_dict(time_entry))\n",
    "            \n",
    "                # Manage limit\n",
    "                if limit != -1 and len(data) >= limit:\n",
    "                    break\n",
    "                \n",
    "            # Check next link\n",
    "            link_next = res_json.get(\"links\").get(\"next\")\n",
    "            if link_next:\n",
    "                url = link_next\n",
    "            else:\n",
    "                break\n",
    "            \n",
    "    # Transform in dataframes\n",
    "    df = pd.DataFrame(data)\n",
    "    return df"
   ]
  },
  {
   "cell_type": "markdown",
   "id": "9fd9975b-2db5-4c00-916b-0e08f32d1668",
   "metadata": {
    "papermill": {},
    "tags": []
   },
   "source": [
    "## Output"
   ]
  },
  {
   "cell_type": "markdown",
   "id": "536197c4-3909-4b5e-a87f-346d07c32308",
   "metadata": {
    "papermill": {},
    "tags": []
   },
   "source": [
    "### Display result"
   ]
  },
  {
   "cell_type": "code",
   "execution_count": null,
   "id": "f312a847-d9e6-4481-aca9-61ada7f96fe4",
   "metadata": {
    "papermill": {},
    "tags": []
   },
   "outputs": [],
   "source": [
    "df_time_entries = list_time_entries(\n",
    "    account_id,\n",
    "    access_token,\n",
    "    limit\n",
    ")\n",
    "print(\"Row fetched:\", len(df_time_entries))\n",
    "df_time_entries.head(1)"
   ]
  },
  {
   "cell_type": "markdown",
   "id": "e2e7f2ab-673e-4c60-ab0a-7c1f6f09c2dc",
   "metadata": {
    "papermill": {},
    "tags": []
   },
   "source": [
    " "
   ]
  }
 ],
 "metadata": {
  "kernelspec": {
   "display_name": "Python 3",
   "language": "python",
   "name": "python3"
  },
  "language_info": {
   "codemirror_mode": {
    "name": "ipython",
    "version": 3
   },
   "file_extension": ".py",
   "mimetype": "text/x-python",
   "name": "python",
   "nbconvert_exporter": "python",
   "pygments_lexer": "ipython3",
   "version": "3.9.6"
  },
  "naas": {
   "notebook_id": "084fd7fb8f4258a75ef4d470a395f3f4012a8b6663332d19546b8940ade827f4",
   "notebook_path": "Harvest/Harvest_List_all_time_entries.ipynb"
  },
  "papermill": {
   "default_parameters": {},
   "environment_variables": {},
   "parameters": {},
   "version": "2.4.0"
  },
  "widgets": {
   "application/vnd.jupyter.widget-state+json": {
    "state": {},
    "version_major": 2,
    "version_minor": 0
   }
  }
 },
 "nbformat": 4,
 "nbformat_minor": 5
}