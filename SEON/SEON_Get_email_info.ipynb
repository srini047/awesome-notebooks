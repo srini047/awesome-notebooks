{
 "cells": [
  {
   "cell_type": "markdown",
   "id": "933b5fd8-5444-463e-bb82-2a2bdb9c02cb",
   "metadata": {
    "papermill": {},
    "tags": []
   },
   "source": [
    "<img width=\"10%\" alt=\"Naas\" src=\"https://landen.imgix.net/jtci2pxwjczr/assets/5ice39g4.png?w=160\"/>"
   ]
  },
  {
   "cell_type": "markdown",
   "id": "bef956ec-7e69-4673-9151-10e60f55d9d4",
   "metadata": {
    "papermill": {},
    "tags": []
   },
   "source": [
    "# SEON - Get email info\n",
    "<a href=\"https://app.naas.ai/user-redirect/naas/downloader?url=https://raw.githubusercontent.com/jupyter-naas/awesome-notebooks/master/SEON/SEON_Get_email_info.ipynb\" target=\"_parent\"><img src=\"https://naasai-public.s3.eu-west-3.amazonaws.com/Open_in_Naas_Lab.svg\"/></a><br><br><a href=\"https://github.com/jupyter-naas/awesome-notebooks/issues/new?assignees=&labels=&template=template-request.md&title=Tool+-+Action+of+the+notebook+\">Template request</a> | <a href=\"https://github.com/jupyter-naas/awesome-notebooks/issues/new?assignees=&labels=bug&template=bug_report.md&title=SEON+-+Get+email+info:+Error+short+description\">Bug report</a> | <a href=\"https://app.naas.ai/user-redirect/naas/downloader?url=https://raw.githubusercontent.com/jupyter-naas/awesome-notebooks/master/Naas/Naas_Start_data_product.ipynb\" target=\"_parent\">Generate Data Product</a>"
   ]
  },
  {
   "cell_type": "markdown",
   "id": "a13bb262-031d-4e3b-bb31-dc8028062019",
   "metadata": {
    "papermill": {},
    "tags": []
   },
   "source": [
    "**Tags:** #seon #email #enrichment #api #tool #library"
   ]
  },
  {
   "cell_type": "markdown",
   "id": "5fc67944-9ad4-4aae-8a47-f54e71f03fa0",
   "metadata": {
    "papermill": {},
    "tags": []
   },
   "source": [
    "**Author:** [Florent Ravenel](https://www.linkedin.com/in/florent-ravenel/)"
   ]
  },
  {
   "cell_type": "markdown",
   "id": "7c979bd4-2b31-4c14-a987-bbab07b82d40",
   "metadata": {
    "papermill": {},
    "tags": []
   },
   "source": [
    "**Description:** This notebook will demonstrate how to use SEON's standalone email enrichment tool to learn about the approximate minimum age of an email address, its provider, and any connected online profiles and save it into a json file.\n",
    "\n",
    "*Good to know:*\n",
    "- You can use the Fraud API if you want to use the Email API together with any of our  Phone API, IP API, and Device Fingerprinting.\n",
    "- All SEON API requests are case-sensitive. Please follow the formatting below to avoid errors.\n",
    "- Email API requests are limited to 120/minute during your SEON free trial."
   ]
  },
  {
   "cell_type": "markdown",
   "id": "fb126fe9-3c26-4ee3-b43a-675f1db2fa08",
   "metadata": {
    "papermill": {},
    "tags": []
   },
   "source": [
    "**References:**\n",
    "- [SEON API Reference](https://docs.seon.io/api-reference#email-api)\n",
    "- [SEON Documentation](https://docs.seon.io/getting-started)"
   ]
  },
  {
   "cell_type": "markdown",
   "id": "1165d28a-b192-4696-9f0d-c1418c403a16",
   "metadata": {
    "papermill": {},
    "tags": []
   },
   "source": [
    "## Input"
   ]
  },
  {
   "cell_type": "markdown",
   "id": "41c81745-cba0-44aa-85d5-891a48941872",
   "metadata": {
    "papermill": {},
    "tags": []
   },
   "source": [
    "### Import libraries"
   ]
  },
  {
   "cell_type": "code",
   "execution_count": null,
   "id": "2064d7eb-a2c2-468b-b564-1857561e892d",
   "metadata": {
    "papermill": {},
    "tags": []
   },
   "outputs": [],
   "source": [
    "import requests\n",
    "import naas\n",
    "from pprint import pprint\n",
    "import json"
   ]
  },
  {
   "cell_type": "markdown",
   "id": "e41239c5-cc27-4c96-bf21-d7ebca6e541d",
   "metadata": {
    "papermill": {},
    "tags": []
   },
   "source": [
    "### Setup Variables\n",
    "[Get your SEON license_key](https://admin.seon.io/my-account/#profile)\n",
    "- `license_key`: SEON license key \n",
    "- `email`: Email address to be enriched"
   ]
  },
  {
   "cell_type": "code",
   "execution_count": null,
   "id": "af7da96a-5553-414f-92d0-f53923acfa78",
   "metadata": {
    "papermill": {},
    "tags": []
   },
   "outputs": [],
   "source": [
    "# Inputs\n",
    "license_key = naas.secret.get(\"SEON_LICENSE_KEY\") or \"YOUR_LICENSE_KEY\"\n",
    "email = \"florent.ravenel1@gmail.com\"\n",
    "\n",
    "# Outputs\n",
    "output_json = f\"SEON_{email}_info.json\""
   ]
  },
  {
   "cell_type": "markdown",
   "id": "48076685-bca4-4640-8fe1-55614df32eea",
   "metadata": {
    "papermill": {},
    "tags": []
   },
   "source": [
    "## Model"
   ]
  },
  {
   "cell_type": "markdown",
   "id": "ae2277d2-2ffa-4254-9a3c-58dcd75857e9",
   "metadata": {
    "papermill": {},
    "tags": []
   },
   "source": [
    "### Get email info\n",
    "[Enrichment and Scoring](https://docs.seon.io/api-reference#step-2-enrichment-and-scoring)"
   ]
  },
  {
   "cell_type": "code",
   "execution_count": null,
   "id": "85da3640-df88-4202-b2e4-9cae9f32d21f",
   "metadata": {
    "papermill": {},
    "tags": []
   },
   "outputs": [],
   "source": [
    "def get_email_info(license_key, email):\n",
    "    headers = {\n",
    "        \"X-API-KEY\": license_key\n",
    "    }\n",
    "    req_url = f\"https://api.seon.io/SeonRestService/email-api/v2.2/{email}\"\n",
    "    res = requests.get(req_url, headers=headers)\n",
    "    res.raise_for_status\n",
    "    return res.json()\n",
    "\n",
    "email_info = get_email_info(license_key, email)\n",
    "print(f\"✅ Email '{email}' score:\", email_info.get(\"data\").get(\"score\"))\n",
    "pprint(email_info)"
   ]
  },
  {
   "cell_type": "markdown",
   "id": "bfb71222-ec56-4cd1-8bb0-004c6e512033",
   "metadata": {
    "papermill": {},
    "tags": []
   },
   "source": [
    "## Output"
   ]
  },
  {
   "cell_type": "markdown",
   "id": "82250447-99bd-4a61-9503-54ce9bcc56e8",
   "metadata": {
    "papermill": {},
    "tags": []
   },
   "source": [
    "### Save json file"
   ]
  },
  {
   "cell_type": "markdown",
   "id": "5fe43647-7a0f-4b69-b9c9-2fbf7336e6c0",
   "metadata": {
    "papermill": {},
    "tags": []
   },
   "source": [
    "Using the `json.dump()` function, the `data` dictionary can be saved to a json file."
   ]
  },
  {
   "cell_type": "code",
   "execution_count": null,
   "id": "b6594ec5-6f8b-4dd2-b7da-f1161be8c450",
   "metadata": {
    "papermill": {},
    "tags": []
   },
   "outputs": [],
   "source": [
    "with open(output_json, \"w\") as f:\n",
    "    json.dump(email_info, f)"
   ]
  },
  {
   "cell_type": "markdown",
   "id": "de68dcf4-f33b-4941-81f4-81253697367e",
   "metadata": {
    "papermill": {},
    "tags": []
   },
   "source": [
    " "
   ]
  }
 ],
 "metadata": {
  "kernelspec": {
   "display_name": "Python 3",
   "language": "python",
   "name": "python3"
  },
  "language_info": {
   "codemirror_mode": {
    "name": "ipython",
    "version": 3
   },
   "file_extension": ".py",
   "mimetype": "text/x-python",
   "name": "python",
   "nbconvert_exporter": "python",
   "pygments_lexer": "ipython3",
   "version": "3.9.6"
  },
  "naas": {
   "notebook_id": "bc8693ec5df8d3d2c7d05271ed8f68e0aeefdcb1ae5c3fcefcf4246df9614dcd",
   "notebook_path": "SEON/SEON_Get_email_info.ipynb"
  },
  "papermill": {
   "default_parameters": {},
   "environment_variables": {},
   "parameters": {},
   "version": "2.4.0"
  },
  "widgets": {
   "application/vnd.jupyter.widget-state+json": {
    "state": {},
    "version_major": 2,
    "version_minor": 0
   }
  }
 },
 "nbformat": 4,
 "nbformat_minor": 5
}