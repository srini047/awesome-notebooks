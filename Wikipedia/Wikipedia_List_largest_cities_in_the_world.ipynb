{
 "cells": [
  {
   "cell_type": "markdown",
   "id": "3552b2da-b8ac-432d-87ae-54b4d3dd6290",
   "metadata": {
    "papermill": {},
    "tags": []
   },
   "source": [
    "<img width=\"10%\" alt=\"Naas\" src=\"https://landen.imgix.net/jtci2pxwjczr/assets/5ice39g4.png?w=160\"/>"
   ]
  },
  {
   "cell_type": "markdown",
   "id": "8de22b45-2012-44f2-b44a-67a25b6b3a05",
   "metadata": {
    "papermill": {},
    "tags": []
   },
   "source": [
    "# Wikipedia - List largest cities in the world\n",
    "<a href=\"https://app.naas.ai/user-redirect/naas/downloader?url=https://raw.githubusercontent.com/jupyter-naas/awesome-notebooks/master/Wikipedia/Wikipedia_List_largest_cities_in_the_world.ipynb\" target=\"_parent\"><img src=\"https://naasai-public.s3.eu-west-3.amazonaws.com/Open_in_Naas_Lab.svg\"/></a><br><br><a href=\"https://github.com/jupyter-naas/awesome-notebooks/issues/new?assignees=&labels=&template=template-request.md&title=Tool+-+Action+of+the+notebook+\">Template request</a> | <a href=\"https://github.com/jupyter-naas/awesome-notebooks/issues/new?assignees=&labels=bug&template=bug_report.md&title=Wikipedia+-+List+largest+cities+in+the+world:+Error+short+description\">Bug report</a> | <a href=\"https://app.naas.ai/user-redirect/naas/downloader?url=https://raw.githubusercontent.com/jupyter-naas/awesome-notebooks/master/Naas/Naas_Start_data_product.ipynb\" target=\"_parent\">Generate Data Product</a>"
   ]
  },
  {
   "cell_type": "markdown",
   "id": "9c8f8098-6f1f-456c-a043-22b1f67f266e",
   "metadata": {
    "papermill": {},
    "tags": []
   },
   "source": [
    "**Tags:** #wikipedia #list #cities #largest #world #data"
   ]
  },
  {
   "cell_type": "markdown",
   "id": "fb34f026-ee4e-45bd-944e-aebf4ab645f7",
   "metadata": {
    "papermill": {},
    "tags": []
   },
   "source": [
    "**Author:** [Florent Ravenel](http://linkedin.com/in/florent-ravenel)"
   ]
  },
  {
   "cell_type": "markdown",
   "id": "fc41d712-b94f-4309-bf7b-f071aa334da0",
   "metadata": {
    "papermill": {},
    "tags": []
   },
   "source": [
    "**Description:** This notebook will show how to extract the list of the largest cities in the world using pandas.read_html() on Wikipedia."
   ]
  },
  {
   "cell_type": "markdown",
   "id": "1b296127-aed8-4dc2-976f-b8c2db034815",
   "metadata": {
    "papermill": {},
    "tags": []
   },
   "source": [
    "**References:**\n",
    "- [List of cities by population](https://en.wikipedia.org/wiki/List_of_cities_by_population)"
   ]
  },
  {
   "cell_type": "markdown",
   "id": "eb266cd6-4136-47d8-ab9b-3cd2073b3b82",
   "metadata": {
    "papermill": {},
    "tags": []
   },
   "source": [
    "## Input"
   ]
  },
  {
   "cell_type": "markdown",
   "id": "7e58a256-fbb5-46fc-bf64-bf67d5cc0be1",
   "metadata": {
    "papermill": {},
    "tags": []
   },
   "source": [
    "### Import libraries"
   ]
  },
  {
   "cell_type": "code",
   "execution_count": 1,
   "id": "d4f87e3b-35d8-4631-94e5-21e87fe2bfd9",
   "metadata": {
    "papermill": {},
    "tags": []
   },
   "outputs": [],
   "source": [
    "import pandas as pd"
   ]
  },
  {
   "cell_type": "markdown",
   "id": "7dd79abf-d939-4e4d-be37-811979272e4a",
   "metadata": {
    "papermill": {},
    "tags": []
   },
   "source": [
    "### Setup Variables\n",
    "- `url`: URL of the Wikipedia page containing the list of cities by population"
   ]
  },
  {
   "cell_type": "code",
   "execution_count": 2,
   "id": "6b5fc540-a8ee-4a6a-9044-08ceb111cf2e",
   "metadata": {
    "papermill": {},
    "tags": []
   },
   "outputs": [],
   "source": [
    "# Inputs\n",
    "url = \"https://en.wikipedia.org/wiki/List_of_cities_by_population\""
   ]
  },
  {
   "cell_type": "markdown",
   "id": "7e6810c3-0f49-498a-a6ef-904416a6774d",
   "metadata": {
    "papermill": {},
    "tags": []
   },
   "source": [
    "## Model"
   ]
  },
  {
   "cell_type": "markdown",
   "id": "0f5fa962-4dce-4a89-989c-4e08a4bccca9",
   "metadata": {
    "papermill": {},
    "tags": []
   },
   "source": [
    "### Extract table"
   ]
  },
  {
   "cell_type": "code",
   "execution_count": 6,
   "id": "a69dd504-af9f-49d4-8758-10273bc51244",
   "metadata": {
    "papermill": {},
    "tags": []
   },
   "outputs": [],
   "source": [
    "df_table = pd.read_html(url)[1]\n",
    "print('Rows fetched:', len(df_table))"
   ]
  },
  {
   "cell_type": "markdown",
   "id": "617d37b4-2915-4149-8bf0-9ea3b957f241",
   "metadata": {
    "papermill": {},
    "tags": []
   },
   "source": [
    "### Clean table"
   ]
  },
  {
   "cell_type": "code",
   "execution_count": 7,
   "id": "0fe88ec7-4e85-4b6e-be52-3163b997da7d",
   "metadata": {
    "papermill": {},
    "tags": []
   },
   "outputs": [],
   "source": [
    "df_clean = df_table.copy()\n",
    "\n",
    "# Dropna\n",
    "df_clean = df_clean.dropna()\n",
    "\n",
    "# # Flattern MultiIndex columns\n",
    "# df_clean.columns = df_clean.columns.get_level_values(1)\n",
    "\n",
    "print('Cities fetched:', len(df_clean))\n",
    "df_clean.head(5)"
   ]
  },
  {
   "cell_type": "markdown",
   "id": "588f05ca-a1b6-4109-a773-66f90cea05cc",
   "metadata": {
    "papermill": {},
    "tags": []
   },
   "source": [
    "## Output"
   ]
  },
  {
   "cell_type": "markdown",
   "id": "aed7e574-a458-470e-892b-b790eeca7142",
   "metadata": {
    "papermill": {},
    "tags": []
   },
   "source": [
    "### Display result"
   ]
  },
  {
   "cell_type": "code",
   "execution_count": 5,
   "id": "3b959b49-c629-4c67-adfe-90303fa96821",
   "metadata": {
    "papermill": {},
    "tags": []
   },
   "outputs": [],
   "source": [
    "df_clean.head(5)"
   ]
  },
  {
   "cell_type": "markdown",
   "id": "df97f091-1291-441b-ab72-d5dac2303860",
   "metadata": {
    "papermill": {},
    "tags": []
   },
   "source": [
    " "
   ]
  }
 ],
 "metadata": {
  "kernelspec": {
   "display_name": "Python 3",
   "language": "python",
   "name": "python3"
  },
  "language_info": {
   "codemirror_mode": {
    "name": "ipython",
    "version": 3
   },
   "file_extension": ".py",
   "mimetype": "text/x-python",
   "name": "python",
   "nbconvert_exporter": "python",
   "pygments_lexer": "ipython3",
   "version": "3.9.6"
  },
  "naas": {
   "notebook_id": "cbe5b94b80eae61d57207cec803c67f81a0575afcaed7275c80fc9d075f96727",
   "notebook_path": "Wikipedia/Wikipedia_List_largest_cities_in_the_world.ipynb"
  },
  "papermill": {
   "default_parameters": {},
   "environment_variables": {},
   "parameters": {},
   "version": "2.4.0"
  },
  "widgets": {
   "application/vnd.jupyter.widget-state+json": {
    "state": {},
    "version_major": 2,
    "version_minor": 0
   }
  }
 },
 "nbformat": 4,
 "nbformat_minor": 5
}