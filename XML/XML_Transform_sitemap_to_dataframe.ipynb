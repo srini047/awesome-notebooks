{
 "cells": [
  {
   "cell_type": "markdown",
   "id": "statewide-accordance",
   "metadata": {
    "papermill": {},
    "tags": []
   },
   "source": [
    "<img width=\"10%\" alt=\"Naas\" src=\"https://landen.imgix.net/jtci2pxwjczr/assets/5ice39g4.png?w=160\"/>"
   ]
  },
  {
   "cell_type": "markdown",
   "id": "loved-tsunami",
   "metadata": {
    "papermill": {},
    "tags": []
   },
   "source": [
    "# XML - Transform sitemap to dataframe\n",
    "<a href=\"https://app.naas.ai/user-redirect/naas/downloader?url=https://raw.githubusercontent.com/jupyter-naas/awesome-notebooks/master/XML/XML_Transform_sitemap_to_dataframe.ipynb\" target=\"_parent\"><img src=\"https://naasai-public.s3.eu-west-3.amazonaws.com/open_in_naas.svg\"/></a><br><br><a href=\"https://github.com/jupyter-naas/awesome-notebooks/issues/new?assignees=&labels=&template=template-request.md&title=Tool+-+Action+of+the+notebook+\">Template request</a> | <a href=\"https://github.com/jupyter-naas/awesome-notebooks/issues/new?assignees=&labels=bug&template=bug_report.md&title=XML+-+Transform+sitemap+to+dataframe:+Error+short+description\">Bug report</a>"
   ]
  },
  {
   "cell_type": "markdown",
   "id": "779c9efa-e16d-4ce6-8dcf-69fcd1e46cee",
   "metadata": {
    "papermill": {},
    "tags": []
   },
   "source": [
    "**Tags:** #xml #file #tool #operations #automation #dataframe"
   ]
  },
  {
   "cell_type": "markdown",
   "id": "naas-author",
   "metadata": {
    "papermill": {},
    "tags": [
     "naas"
    ]
   },
   "source": [
    "**Author:** [Jeremy Ravenel](https://www.linkedin.com/in/ACoAAAJHE7sB5OxuKHuzguZ9L6lfDHqw--cdnJg/)"
   ]
  },
  {
   "cell_type": "markdown",
   "id": "naas-description",
   "metadata": {
    "papermill": {},
    "tags": [
     "description"
    ]
   },
   "source": [
    "**Description:** This notebook demonstrates how to convert an XML sitemap into a dataframe for further analysis."
   ]
  },
  {
   "cell_type": "markdown",
   "id": "input_cell",
   "metadata": {
    "papermill": {},
    "tags": []
   },
   "source": [
    "## Input"
   ]
  },
  {
   "cell_type": "markdown",
   "id": "import_cell",
   "metadata": {
    "papermill": {},
    "tags": []
   },
   "source": [
    "### Import library"
   ]
  },
  {
   "cell_type": "code",
   "execution_count": null,
   "id": "3dde0e0a-55f2-44a6-886b-58ef90b8028a",
   "metadata": {
    "papermill": {},
    "tags": []
   },
   "outputs": [],
   "source": [
    "import naas\n",
    "import json \n",
    "try:\n",
    "    import xmltodict\n",
    "except:\n",
    "    !pip install xmltodict\n",
    "    import xmltodict\n",
    "import pandas as pd\n",
    "import requests"
   ]
  },
  {
   "cell_type": "markdown",
   "id": "looking-virgin",
   "metadata": {
    "papermill": {},
    "tags": []
   },
   "source": [
    "### Choose the website you want"
   ]
  },
  {
   "cell_type": "code",
   "execution_count": null,
   "id": "vertical-croatia",
   "metadata": {
    "papermill": {},
    "tags": []
   },
   "outputs": [],
   "source": [
    "website = \"https://zapier.com\""
   ]
  },
  {
   "cell_type": "markdown",
   "id": "model_cell",
   "metadata": {
    "papermill": {},
    "tags": []
   },
   "source": [
    "## Model"
   ]
  },
  {
   "cell_type": "markdown",
   "id": "elder-venice",
   "metadata": {
    "papermill": {},
    "tags": []
   },
   "source": [
    "### Get your Dataframe"
   ]
  },
  {
   "cell_type": "code",
   "execution_count": null,
   "id": "exact-syndicate",
   "metadata": {
    "papermill": {},
    "tags": []
   },
   "outputs": [],
   "source": [
    "def sitemap_to_df(url):\n",
    "    df = None\n",
    "    key = \"urlset.url.url\"\n",
    "    r = requests.get(f\"{url}/sitemap.xml\")\n",
    "    data_dict = xmltodict.parse(r.content)\n",
    "    if key and len(key.split(\".\")) > 0:\n",
    "        keys = key.split(\".\")\n",
    "        keys.reverse()\n",
    "        data = data_dict.get(keys.pop())\n",
    "        while len(keys) > 1:\n",
    "            data = data.get(keys.pop())\n",
    "        df = pd.DataFrame.from_dict(data=data)\n",
    "    elif key and data_dict.get(key):\n",
    "        df = pd.DataFrame.from_dict(data=data_dict.get(key))\n",
    "    else:\n",
    "        df = pd.DataFrame.from_dict(data=data_dict)\n",
    "    return df"
   ]
  },
  {
   "cell_type": "code",
   "execution_count": null,
   "id": "coated-update",
   "metadata": {
    "papermill": {},
    "tags": []
   },
   "outputs": [],
   "source": [
    "df = sitemap_to_df(website)"
   ]
  },
  {
   "cell_type": "markdown",
   "id": "output_cell",
   "metadata": {
    "papermill": {},
    "tags": []
   },
   "source": [
    "## Output"
   ]
  },
  {
   "cell_type": "markdown",
   "id": "f1fb6f9f-0f9b-45b2-849b-6a91ed8ebe85",
   "metadata": {
    "papermill": {},
    "tags": []
   },
   "source": [
    "### Display result"
   ]
  },
  {
   "cell_type": "code",
   "execution_count": null,
   "id": "7e3cc7e8-d4e7-4eca-a464-e1b1de4d3a34",
   "metadata": {
    "papermill": {},
    "tags": []
   },
   "outputs": [],
   "source": [
    "df"
   ]
  },
  {
   "cell_type": "markdown",
   "id": "29815a82-d634-4c4d-9e3f-01099f8b0bee",
   "metadata": {
    "papermill": {},
    "tags": []
   },
   "source": [
    "### Set the timezone"
   ]
  },
  {
   "cell_type": "code",
   "execution_count": null,
   "id": "northern-heritage",
   "metadata": {
    "papermill": {},
    "tags": []
   },
   "outputs": [],
   "source": [
    "naas.get_remote_timezone()"
   ]
  },
  {
   "cell_type": "code",
   "execution_count": null,
   "id": "varied-queue",
   "metadata": {
    "papermill": {},
    "tags": []
   },
   "outputs": [],
   "source": [
    "naas.set_remote_timezone(\"Europe/Lisbon\")"
   ]
  }
 ],
 "metadata": {
  "kernelspec": {
   "display_name": "Python 3",
   "language": "python",
   "name": "python3"
  },
  "language_info": {
   "codemirror_mode": {
    "name": "ipython",
    "version": 3
   },
   "file_extension": ".py",
   "mimetype": "text/x-python",
   "name": "python",
   "nbconvert_exporter": "python",
   "pygments_lexer": "ipython3",
   "version": "3.9.6"
  },
  "naas": {
   "notebook_id": "ebc3d198-ddec-4365-bbc3-e7e8b355299d",
   "notebook_path": "XML/XML_Transform_sitemap_to_dataframe.ipynb"
  },
  "papermill": {
   "default_parameters": {},
   "environment_variables": {},
   "parameters": {},
   "version": "2.3.3"
  }
 },
 "nbformat": 4,
 "nbformat_minor": 5
}