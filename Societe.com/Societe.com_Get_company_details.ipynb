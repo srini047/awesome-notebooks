{
 "cells": [
  {
   "cell_type": "markdown",
   "id": "3c697f77-dbd3-4abc-8281-a86797355cca",
   "metadata": {
    "papermill": {},
    "tags": []
   },
   "source": [
    "<img width=\"10%\" alt=\"Naas\" src=\"https://landen.imgix.net/jtci2pxwjczr/assets/5ice39g4.png?w=160\"/>"
   ]
  },
  {
   "cell_type": "markdown",
   "id": "municipal-murray",
   "metadata": {
    "papermill": {},
    "tags": []
   },
   "source": [
    "# Societe.com - Get company details\n",
    "<a href=\"https://app.naas.ai/user-redirect/naas/downloader?url=https://raw.githubusercontent.com/jupyter-naas/awesome-notebooks/master/Societe.com/Societe.com_Get_company_details.ipynb\" target=\"_parent\"><img src=\"https://naasai-public.s3.eu-west-3.amazonaws.com/open_in_naas.svg\"/></a><br><br><a href=\"https://github.com/jupyter-naas/awesome-notebooks/issues/new?assignees=&labels=&template=template-request.md&title=Tool+-+Action+of+the+notebook+\">Template request</a> | <a href=\"https://github.com/jupyter-naas/awesome-notebooks/issues/new?assignees=&labels=bug&template=bug_report.md&title=Societe.com+-+Get+company+details:+Error+short+description\">Bug report</a>"
   ]
  },
  {
   "cell_type": "markdown",
   "id": "f962c9b4-3025-46b2-ba91-001b2f8397b0",
   "metadata": {
    "papermill": {},
    "tags": []
   },
   "source": [
    "**Tags:** #societe.com #companies #opendata #snippet"
   ]
  },
  {
   "cell_type": "markdown",
   "id": "37fc24ad-2c83-4da0-9c75-cf92866d0af1",
   "metadata": {
    "papermill": {},
    "tags": []
   },
   "source": [
    "**Author:** [Jeremy Ravenel](https://www.linkedin.com/in/ACoAAAJHE7sB5OxuKHuzguZ9L6lfDHqw--cdnJg/)"
   ]
  },
  {
   "cell_type": "markdown",
   "id": "naas-description",
   "metadata": {
    "papermill": {},
    "tags": [
     "description"
    ]
   },
   "source": [
    "**Description:** This notebook provides detailed information about companies registered on Societe.com."
   ]
  },
  {
   "cell_type": "markdown",
   "id": "input_cell",
   "metadata": {
    "papermill": {},
    "tags": []
   },
   "source": [
    "## Input"
   ]
  },
  {
   "cell_type": "markdown",
   "id": "import_cell",
   "metadata": {
    "papermill": {},
    "tags": []
   },
   "source": [
    "### Import library"
   ]
  },
  {
   "cell_type": "code",
   "execution_count": 1,
   "id": "35c3d18c-14a7-49aa-88bd-33bd60ba2c4c",
   "metadata": {
    "execution": {
     "iopub.execute_input": "2022-03-07T17:40:01.601526Z",
     "iopub.status.busy": "2022-03-07T17:40:01.601263Z",
     "iopub.status.idle": "2022-03-07T17:40:02.158301Z",
     "shell.execute_reply": "2022-03-07T17:40:02.157716Z",
     "shell.execute_reply.started": "2022-03-07T17:40:01.601459Z"
    },
    "papermill": {},
    "tags": []
   },
   "outputs": [],
   "source": [
    "import pandas as pd"
   ]
  },
  {
   "cell_type": "markdown",
   "id": "model_cell",
   "metadata": {
    "papermill": {},
    "tags": []
   },
   "source": [
    "## Model"
   ]
  },
  {
   "cell_type": "markdown",
   "id": "d9254da3-00f5-4a80-8494-6319df63021a",
   "metadata": {
    "papermill": {},
    "tags": []
   },
   "source": [
    "### Get the company details"
   ]
  },
  {
   "cell_type": "code",
   "execution_count": 2,
   "id": "other-symposium",
   "metadata": {
    "execution": {
     "iopub.execute_input": "2022-03-07T17:40:02.822366Z",
     "iopub.status.busy": "2022-03-07T17:40:02.822134Z",
     "iopub.status.idle": "2022-03-07T17:40:03.211620Z",
     "shell.execute_reply": "2022-03-07T17:40:03.211039Z",
     "shell.execute_reply.started": "2022-03-07T17:40:02.822342Z"
    },
    "papermill": {},
    "tags": []
   },
   "outputs": [],
   "source": [
    "data = pd.read_html(\"https://www.societe.com/societe/cashstory-880612569.html\")"
   ]
  },
  {
   "cell_type": "markdown",
   "id": "output_cell",
   "metadata": {
    "papermill": {},
    "tags": []
   },
   "source": [
    "## Output"
   ]
  },
  {
   "cell_type": "markdown",
   "id": "display_cell",
   "metadata": {
    "papermill": {},
    "tags": []
   },
   "source": [
    "### Display result"
   ]
  },
  {
   "cell_type": "code",
   "execution_count": 3,
   "id": "e16a95fe-1960-45a3-bcd1-95e5b7179518",
   "metadata": {
    "execution": {
     "iopub.execute_input": "2022-03-07T17:40:04.799315Z",
     "iopub.status.busy": "2022-03-07T17:40:04.799075Z",
     "iopub.status.idle": "2022-03-07T17:40:04.814129Z",
     "shell.execute_reply": "2022-03-07T17:40:04.813549Z",
     "shell.execute_reply.started": "2022-03-07T17:40:04.799291Z"
    },
    "papermill": {},
    "tags": []
   },
   "outputs": [],
   "source": [
    "data[0]"
   ]
  },
  {
   "cell_type": "code",
   "execution_count": null,
   "id": "8ad119cc-4ab6-4353-b8d7-a65bb2421eec",
   "metadata": {
    "papermill": {},
    "tags": []
   },
   "outputs": [],
   "source": []
  }
 ],
 "metadata": {
  "kernelspec": {
   "display_name": "Python 3",
   "language": "python",
   "name": "python3"
  },
  "language_info": {
   "codemirror_mode": {
    "name": "ipython",
    "version": 3
   },
   "file_extension": ".py",
   "mimetype": "text/x-python",
   "name": "python",
   "nbconvert_exporter": "python",
   "pygments_lexer": "ipython3",
   "version": "3.9.6"
  },
  "papermill": {
   "default_parameters": {},
   "environment_variables": {},
   "parameters": {},
   "version": "2.3.3"
  }
 },
 "nbformat": 4,
 "nbformat_minor": 5
}