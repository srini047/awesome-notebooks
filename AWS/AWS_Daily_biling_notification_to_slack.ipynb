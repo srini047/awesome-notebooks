{
 "cells": [
  {
   "cell_type": "markdown",
   "id": "266852e3",
   "metadata": {
    "execution": {
     "iopub.execute_input": "2021-09-14T08:04:28.994722Z",
     "iopub.status.busy": "2021-09-14T08:04:28.994452Z",
     "iopub.status.idle": "2021-09-14T08:04:29.005991Z",
     "shell.execute_reply": "2021-09-14T08:04:29.005065Z",
     "shell.execute_reply.started": "2021-09-14T08:04:28.994658Z"
    },
    "papermill": {},
    "tags": [
     "awesome-notebooks/AWS/AWS_Daily_biling_notification_to_slack.ipynb"
    ]
   },
   "source": [
    "<img width=\"10%\" alt=\"Naas\" src=\"https://landen.imgix.net/jtci2pxwjczr/assets/5ice39g4.png?w=160\"/>"
   ]
  },
  {
   "cell_type": "markdown",
   "id": "b6c7847d",
   "metadata": {
    "papermill": {},
    "tags": [
     "awesome-notebooks/AWS/AWS_Daily_biling_notification_to_slack.ipynb"
    ]
   },
   "source": [
    "# AWS - Daily biling notification to slack\n",
    "<a href=\"https://app.naas.ai/user-redirect/naas/downloader?url=https://raw.githubusercontent.com/jupyter-naas/awesome-notebooks/master/AWS/AWS_Daily_biling_notification_to_slack.ipynb\" target=\"_parent\"><img src=\"https://naasai-public.s3.eu-west-3.amazonaws.com/Open_in_Naas_Lab.svg\"/></a><br><br><a href=\"https://github.com/jupyter-naas/awesome-notebooks/issues/new?assignees=&labels=&template=template-request.md&title=Tool+-+Action+of+the+notebook+\">Template request</a> | <a href=\"https://github.com/jupyter-naas/awesome-notebooks/issues/new?assignees=&labels=bug&template=bug_report.md&title=AWS+-+Daily+biling+notification+to+slack:+Error+short+description\">Bug report</a> | <a href=\"https://app.naas.ai/user-redirect/naas/downloader?url=https://raw.githubusercontent.com/jupyter-naas/awesome-notebooks/master/Naas/Naas_Start_data_product.ipynb\" target=\"_parent\">Generate Data Product</a>"
   ]
  },
  {
   "cell_type": "markdown",
   "id": "f5907052",
   "metadata": {
    "execution": {
     "iopub.execute_input": "2021-09-14T08:05:41.428494Z",
     "iopub.status.busy": "2021-09-14T08:05:41.428138Z",
     "iopub.status.idle": "2021-09-14T08:05:41.432127Z",
     "shell.execute_reply": "2021-09-14T08:05:41.430935Z",
     "shell.execute_reply.started": "2021-09-14T08:05:41.428433Z"
    },
    "papermill": {},
    "tags": [
     "awesome-notebooks/AWS/AWS_Daily_biling_notification_to_slack.ipynb"
    ]
   },
   "source": [
    "**Tags:** #aws #cloud #storage #S3bucket #slack #operations #automation"
   ]
  },
  {
   "cell_type": "markdown",
   "id": "ce780499-ecc8-40d6-997a-43f92b60e0ce",
   "metadata": {
    "papermill": {},
    "tags": [
     "awesome-notebooks/AWS/AWS_Daily_biling_notification_to_slack.ipynb"
    ]
   },
   "source": [
    "**Author:** [Maxime Jublou](https://www.linkedin.com/in/maximejublou/)"
   ]
  },
  {
   "cell_type": "markdown",
   "id": "naas-description",
   "metadata": {
    "papermill": {},
    "tags": [
     "description"
    ]
   },
   "source": [
    "**Description:** This notebook sends a daily notification to a Slack channel with the billing information from an AWS account. It allows users to easily keep track of their AWS spending."
   ]
  },
  {
   "cell_type": "markdown",
   "id": "825a5464",
   "metadata": {
    "papermill": {},
    "tags": [
     "awesome-notebooks/AWS/AWS_Daily_biling_notification_to_slack.ipynb"
    ]
   },
   "source": [
    "## Input"
   ]
  },
  {
   "cell_type": "markdown",
   "id": "7d9fafd1-90ee-43d8-9408-ba87036ea265",
   "metadata": {
    "papermill": {},
    "tags": [
     "awesome-notebooks/AWS/AWS_Daily_biling_notification_to_slack.ipynb"
    ]
   },
   "source": [
    "### Install packages"
   ]
  },
  {
   "cell_type": "code",
   "execution_count": null,
   "id": "20a52d7d",
   "metadata": {
    "papermill": {},
    "tags": [
     "awesome-notebooks/AWS/AWS_Daily_biling_notification_to_slack.ipynb"
    ]
   },
   "outputs": [],
   "source": [
    "!pip install boto3"
   ]
  },
  {
   "cell_type": "markdown",
   "id": "437f45fc-c78f-4755-8d95-34ee3aee5f52",
   "metadata": {
    "papermill": {},
    "tags": [
     "awesome-notebooks/AWS/AWS_Daily_biling_notification_to_slack.ipynb"
    ]
   },
   "source": [
    "### Setup secret keys\n",
    "Uncomment to setup."
   ]
  },
  {
   "cell_type": "code",
   "execution_count": null,
   "id": "af31697e-29af-4125-baa1-211009394243",
   "metadata": {
    "papermill": {},
    "tags": [
     "awesome-notebooks/AWS/AWS_Daily_biling_notification_to_slack.ipynb"
    ]
   },
   "outputs": [],
   "source": [
    "# naas.secret.add(name=\"AWS_ACCESS_KEY_ID\", secret=\"***\")\n",
    "# naas.secret.add(name=\"AWS_SECRET_ACCESS_KEY\", secret=\"***\")\n",
    "# naas.secret.add(name=\"SLACK_TOKEN\", secret=\"***\")"
   ]
  },
  {
   "cell_type": "markdown",
   "id": "589e943d",
   "metadata": {
    "papermill": {},
    "tags": [
     "awesome-notebooks/AWS/AWS_Daily_biling_notification_to_slack.ipynb"
    ]
   },
   "source": [
    "### Import libraries"
   ]
  },
  {
   "cell_type": "code",
   "execution_count": null,
   "id": "bbbd2c53",
   "metadata": {
    "papermill": {},
    "tags": [
     "awesome-notebooks/AWS/AWS_Daily_biling_notification_to_slack.ipynb"
    ]
   },
   "outputs": [],
   "source": [
    "import datetime\n",
    "import boto3\n",
    "import naas\n",
    "import dateutil.relativedelta\n",
    "import pandas as pd\n",
    "import naas_drivers"
   ]
  },
  {
   "cell_type": "markdown",
   "id": "10278504",
   "metadata": {
    "papermill": {},
    "tags": [
     "awesome-notebooks/AWS/AWS_Daily_biling_notification_to_slack.ipynb"
    ]
   },
   "source": [
    "### Setup variables"
   ]
  },
  {
   "cell_type": "code",
   "execution_count": null,
   "id": "9fe47224",
   "metadata": {
    "papermill": {},
    "tags": [
     "awesome-notebooks/AWS/AWS_Daily_biling_notification_to_slack.ipynb"
    ]
   },
   "outputs": [],
   "source": [
    "# AWS account\n",
    "AWS_ACCESS_KEY_ID = naas.secret.get(name=\"AWS_ACCESS_KEY_ID\")\n",
    "AWS_SECRET_ACCESS_KEY = naas.secret.get(name=\"AWS_SECRET_ACCESS_KEY\")\n",
    "\n",
    "# Slack\n",
    "SLACK_TOKEN = naas.secret.get(name=\"SLACK_TOKEN\")\n",
    "SLACK_CHANNEL = \"-aws-billing\""
   ]
  },
  {
   "cell_type": "markdown",
   "id": "ed35238d",
   "metadata": {
    "papermill": {},
    "tags": [
     "awesome-notebooks/AWS/AWS_Daily_biling_notification_to_slack.ipynb"
    ]
   },
   "source": [
    "### Constants"
   ]
  },
  {
   "cell_type": "code",
   "execution_count": null,
   "id": "602acc73",
   "metadata": {
    "papermill": {},
    "tags": [
     "awesome-notebooks/AWS/AWS_Daily_biling_notification_to_slack.ipynb"
    ]
   },
   "outputs": [],
   "source": [
    "# Compute dates\n",
    "def last_day_of_month(any_day):\n",
    "    # this will never fail\n",
    "    # get close to the end of the month for any day, and add 4 days 'over'\n",
    "    next_month = any_day.replace(day=28) + datetime.timedelta(days=4)\n",
    "    # subtract the number of remaining 'overage' days to get last day of current month, or said programattically said, the previous day of the first of next month\n",
    "    return next_month - datetime.timedelta(days=next_month.day)\n",
    "\n",
    "\n",
    "today = datetime.date.today()\n",
    "lastDay = last_day_of_month(today)\n",
    "start_month_date = today - dateutil.relativedelta.relativedelta(months=12)\n",
    "\n",
    "start_date = \"{}-{:02d}-{:02d}\".format(today.year, today.month, 1)\n",
    "end_date = \"{}-{:02d}-{:02d}\".format(today.year, today.month, today.day)\n",
    "last_day = \"{}-{:02d}-{:02d}\".format(lastDay.year, lastDay.month, lastDay.day)"
   ]
  },
  {
   "cell_type": "markdown",
   "id": "8aa2658d",
   "metadata": {
    "papermill": {},
    "tags": [
     "awesome-notebooks/AWS/AWS_Daily_biling_notification_to_slack.ipynb"
    ]
   },
   "source": [
    "### Connect to AWS"
   ]
  },
  {
   "cell_type": "code",
   "execution_count": null,
   "id": "ded6a696",
   "metadata": {
    "papermill": {},
    "tags": [
     "awesome-notebooks/AWS/AWS_Daily_biling_notification_to_slack.ipynb"
    ]
   },
   "outputs": [],
   "source": [
    "client = boto3.client(\n",
    "    \"ce\",\n",
    "    aws_access_key_id=AWS_ACCESS_KEY_ID,\n",
    "    aws_secret_access_key=AWS_SECRET_ACCESS_KEY,\n",
    ")"
   ]
  },
  {
   "cell_type": "markdown",
   "id": "4eb03b12",
   "metadata": {
    "papermill": {},
    "tags": [
     "awesome-notebooks/AWS/AWS_Daily_biling_notification_to_slack.ipynb"
    ]
   },
   "source": [
    "## Model"
   ]
  },
  {
   "cell_type": "markdown",
   "id": "9c7a52b8",
   "metadata": {
    "papermill": {},
    "tags": [
     "awesome-notebooks/AWS/AWS_Daily_biling_notification_to_slack.ipynb"
    ]
   },
   "source": [
    "### Get current cost from AWS billing"
   ]
  },
  {
   "cell_type": "code",
   "execution_count": null,
   "id": "e8c69d49",
   "metadata": {
    "papermill": {},
    "tags": [
     "awesome-notebooks/AWS/AWS_Daily_biling_notification_to_slack.ipynb"
    ]
   },
   "outputs": [],
   "source": [
    "result = client.get_cost_and_usage(\n",
    "    TimePeriod={\"Start\": start_date, \"End\": end_date},\n",
    "    Granularity=\"MONTHLY\",\n",
    "    Filter={\"Dimensions\": {\"Key\": \"RECORD_TYPE\", \"Values\": [\"Credit\", \"Refund\"]}},\n",
    "    Metrics=[\"BlendedCost\"],\n",
    "    GroupBy=[\n",
    "        {\"Type\": \"DIMENSION\", \"Key\": \"SERVICE\"},\n",
    "        {\"Type\": \"DIMENSION\", \"Key\": \"USAGE_TYPE\"},\n",
    "    ],\n",
    ")"
   ]
  },
  {
   "cell_type": "markdown",
   "id": "7ab9fd4e",
   "metadata": {
    "papermill": {},
    "tags": [
     "awesome-notebooks/AWS/AWS_Daily_biling_notification_to_slack.ipynb"
    ]
   },
   "source": [
    "### Transform current billing to dataframe"
   ]
  },
  {
   "cell_type": "code",
   "execution_count": null,
   "id": "58edcd48",
   "metadata": {
    "papermill": {},
    "tags": [
     "awesome-notebooks/AWS/AWS_Daily_biling_notification_to_slack.ipynb"
    ]
   },
   "outputs": [],
   "source": [
    "df_billing = pd.DataFrame()\n",
    "\n",
    "for t in result[\"ResultsByTime\"]:\n",
    "    for r in t[\"Groups\"]:\n",
    "        dimension = r[\"Keys\"][0]\n",
    "        usage_type = r[\"Keys\"][1]\n",
    "        amount = r[\"Metrics\"][\"BlendedCost\"][\"Amount\"]\n",
    "        period_start = t[\"TimePeriod\"][\"Start\"]\n",
    "        period_end = t[\"TimePeriod\"][\"End\"]\n",
    "        df_billing = df_billing.append(\n",
    "            {\n",
    "                \"Dimension\": dimension,\n",
    "                \"UsageType\": usage_type,\n",
    "                \"Amount\": amount,\n",
    "                \"PeriodStart\": period_start,\n",
    "                \"PeriodEnd\": period_end,\n",
    "            },\n",
    "            ignore_index=True,\n",
    "        )\n",
    "df_billing = df_billing.astype({\"Amount\": \"float\"})\n",
    "\n",
    "# Display result\n",
    "df_billing.tail(5)"
   ]
  },
  {
   "cell_type": "markdown",
   "id": "f2447b39",
   "metadata": {
    "papermill": {},
    "tags": [
     "awesome-notebooks/AWS/AWS_Daily_biling_notification_to_slack.ipynb"
    ]
   },
   "source": [
    "### Get forecast from AWS"
   ]
  },
  {
   "cell_type": "code",
   "execution_count": null,
   "id": "baecaacd",
   "metadata": {
    "papermill": {},
    "tags": [
     "awesome-notebooks/AWS/AWS_Daily_biling_notification_to_slack.ipynb"
    ]
   },
   "outputs": [],
   "source": [
    "ce_forecast = client.get_cost_forecast(\n",
    "    TimePeriod={\"Start\": end_date, \"End\": last_day},\n",
    "    Metric=\"BLENDED_COST\",\n",
    "    Granularity=\"MONTHLY\",\n",
    ")"
   ]
  },
  {
   "cell_type": "markdown",
   "id": "64bb4d94",
   "metadata": {
    "execution": {
     "iopub.execute_input": "2021-06-15T17:13:04.069988Z",
     "iopub.status.busy": "2021-06-15T17:13:04.069748Z",
     "iopub.status.idle": "2021-06-15T17:13:04.092911Z",
     "shell.execute_reply": "2021-06-15T17:13:04.091872Z",
     "shell.execute_reply.started": "2021-06-15T17:13:04.069964Z"
    },
    "papermill": {},
    "tags": [
     "awesome-notebooks/AWS/AWS_Daily_biling_notification_to_slack.ipynb"
    ]
   },
   "source": [
    "## Output"
   ]
  },
  {
   "cell_type": "markdown",
   "id": "8e03dcf1",
   "metadata": {
    "papermill": {},
    "tags": [
     "awesome-notebooks/AWS/AWS_Daily_biling_notification_to_slack.ipynb"
    ]
   },
   "source": [
    "### Save current billing to csv"
   ]
  },
  {
   "cell_type": "code",
   "execution_count": null,
   "id": "2d676c8d",
   "metadata": {
    "papermill": {},
    "tags": [
     "awesome-notebooks/AWS/AWS_Daily_biling_notification_to_slack.ipynb"
    ]
   },
   "outputs": [],
   "source": [
    "df_billing.to_csv(\"current_month_data.csv\")\n",
    "naas.asset.add(path=\"current_month_data.csv\")"
   ]
  },
  {
   "cell_type": "markdown",
   "id": "8d7b1cb4",
   "metadata": {
    "papermill": {},
    "tags": [
     "awesome-notebooks/AWS/AWS_Daily_biling_notification_to_slack.ipynb"
    ]
   },
   "source": [
    "### Data from AWS billing"
   ]
  },
  {
   "cell_type": "code",
   "execution_count": null,
   "id": "cd4ebaf6",
   "metadata": {
    "papermill": {},
    "tags": [
     "awesome-notebooks/AWS/AWS_Daily_biling_notification_to_slack.ipynb"
    ]
   },
   "outputs": [],
   "source": [
    "current_amount = df_billing[\"Amount\"].sum()\n",
    "forecast = float(ce_forecast[\"Total\"][\"Amount\"])\n",
    "asset_link = \"Copy URL from generate asset above\""
   ]
  },
  {
   "cell_type": "markdown",
   "id": "4f35722d",
   "metadata": {
    "papermill": {},
    "tags": [
     "awesome-notebooks/AWS/AWS_Daily_biling_notification_to_slack.ipynb"
    ]
   },
   "source": [
    "### Create message for slack"
   ]
  },
  {
   "cell_type": "code",
   "execution_count": null,
   "id": "656c6067",
   "metadata": {
    "papermill": {},
    "tags": [
     "awesome-notebooks/AWS/AWS_Daily_biling_notification_to_slack.ipynb"
    ]
   },
   "outputs": [],
   "source": [
    "message = \"\"\"\n",
    "Hey there, \n",
    "\n",
    "This is your daily AWS billing notification.\n",
    "\n",
    "- Current spending: [*{:.2f}$*]\n",
    "- Forecast left to spent: [*{:.2f}$*]\n",
    "- End of month estimate: [*{:.2f}$*]\n",
    "\n",
    "Download the detailed csv file {}\n",
    "\"\"\".format(\n",
    "    float(current_amount), float(forecast), float(current_amount - forecast), asset_link\n",
    ")\n",
    "image_url = None  # Set to None if you don't need it\n",
    "print(message)"
   ]
  },
  {
   "cell_type": "markdown",
   "id": "9b236e16",
   "metadata": {
    "papermill": {},
    "tags": [
     "awesome-notebooks/AWS/AWS_Daily_biling_notification_to_slack.ipynb"
    ]
   },
   "source": [
    "### Send data to slack"
   ]
  },
  {
   "cell_type": "code",
   "execution_count": null,
   "id": "808375fb",
   "metadata": {
    "papermill": {},
    "tags": [
     "awesome-notebooks/AWS/AWS_Daily_biling_notification_to_slack.ipynb"
    ]
   },
   "outputs": [],
   "source": [
    "naas_drivers.slack.connect(SLACK_TOKEN).send(SLACK_CHANNEL, message)"
   ]
  },
  {
   "cell_type": "markdown",
   "id": "9bd24159",
   "metadata": {
    "papermill": {},
    "tags": [
     "awesome-notebooks/AWS/AWS_Daily_biling_notification_to_slack.ipynb"
    ]
   },
   "source": [
    "### Scheduler"
   ]
  },
  {
   "cell_type": "code",
   "execution_count": null,
   "id": "ab050f09",
   "metadata": {
    "papermill": {},
    "tags": [
     "awesome-notebooks/AWS/AWS_Daily_biling_notification_to_slack.ipynb"
    ]
   },
   "outputs": [],
   "source": [
    "naas.scheduler.add(cron=\"0 9 * * *\")"
   ]
  }
 ],
 "metadata": {
  "kernelspec": {
   "display_name": "Python 3",
   "language": "python",
   "name": "python3"
  },
  "language_info": {
   "codemirror_mode": {
    "name": "ipython",
    "version": 3
   },
   "file_extension": ".py",
   "mimetype": "text/x-python",
   "name": "python",
   "nbconvert_exporter": "python",
   "pygments_lexer": "ipython3",
   "version": "3.9.6"
  },
  "naas": {
   "notebook_id": "3e342697d70a5fc4884c84d82b7b2d1efc9f8dde26b142ec2e63c2246dbfd05b",
   "notebook_path": "AWS/AWS_Daily_biling_notification_to_slack.ipynb"
  },
  "papermill": {
   "default_parameters": {},
   "environment_variables": {},
   "parameters": {},
   "version": "2.3.3"
  },
  "widgets": {
   "application/vnd.jupyter.widget-state+json": {
    "state": {
     "15369ba21db1460284b7b8e9cb622d06": {
      "model_module": "@jupyter-widgets/controls",
      "model_module_version": "1.5.0",
      "model_name": "ButtonModel",
      "state": {
       "button_style": "primary",
       "description": "Copy URL",
       "layout": "IPY_MODEL_4bb52491f55641b4b62c32aa7e0679e1",
       "style": "IPY_MODEL_7c0a38e90d65465fb0b6193a4146f9a6"
      }
     },
     "1aae19e8ce9a49049642ea9c5fd522e4": {
      "model_module": "@jupyter-widgets/controls",
      "model_module_version": "1.5.0",
      "model_name": "ButtonStyleModel",
      "state": {}
     },
     "237ff9b58a114ce69a1db5d8d4693e6a": {
      "model_module": "@jupyter-widgets/controls",
      "model_module_version": "1.5.0",
      "model_name": "ButtonModel",
      "state": {
       "button_style": "primary",
       "description": "Copy URL",
       "layout": "IPY_MODEL_8908e36294e149c68f2bc6fa1637a0b4",
       "style": "IPY_MODEL_c9dd15482da84e72b2a09ba479a75245"
      }
     },
     "2a26fb87acca44beb611cbb56bc70c09": {
      "model_module": "@jupyter-widgets/base",
      "model_module_version": "1.2.0",
      "model_name": "LayoutModel",
      "state": {}
     },
     "2b2660a06a2446bd842fa3e9c9c6fe08": {
      "model_module": "@jupyter-widgets/base",
      "model_module_version": "1.2.0",
      "model_name": "LayoutModel",
      "state": {}
     },
     "3a7f05b1cac74dc2a203ba8bf2f1fe17": {
      "model_module": "@jupyter-widgets/base",
      "model_module_version": "1.2.0",
      "model_name": "LayoutModel",
      "state": {}
     },
     "3a7f3ca1a92240efa7896385485671fb": {
      "model_module": "@jupyter-widgets/output",
      "model_module_version": "1.0.0",
      "model_name": "OutputModel",
      "state": {
       "layout": "IPY_MODEL_843aeeced14c4d94a613d8ac1cfa1797"
      }
     },
     "4bb52491f55641b4b62c32aa7e0679e1": {
      "model_module": "@jupyter-widgets/base",
      "model_module_version": "1.2.0",
      "model_name": "LayoutModel",
      "state": {}
     },
     "4d73c28b4d304c5f9657f9934ef4adc5": {
      "model_module": "@jupyter-widgets/controls",
      "model_module_version": "1.5.0",
      "model_name": "ButtonStyleModel",
      "state": {}
     },
     "568ff82a25a64bfba3610d451acbcc26": {
      "model_module": "@jupyter-widgets/output",
      "model_module_version": "1.0.0",
      "model_name": "OutputModel",
      "state": {
       "layout": "IPY_MODEL_3a7f05b1cac74dc2a203ba8bf2f1fe17"
      }
     },
     "58d8487f8bf5487d9bfb521438adb0f2": {
      "model_module": "@jupyter-widgets/base",
      "model_module_version": "1.2.0",
      "model_name": "LayoutModel",
      "state": {}
     },
     "78c774bb848a47efb2556442ca642233": {
      "model_module": "@jupyter-widgets/controls",
      "model_module_version": "1.5.0",
      "model_name": "ButtonModel",
      "state": {
       "button_style": "primary",
       "description": "Copy URL",
       "layout": "IPY_MODEL_d7e1ad37e7954862af3449f27cae11a0",
       "style": "IPY_MODEL_f338980fb865425eb18b14d5fb8a5e9f"
      }
     },
     "7c0a38e90d65465fb0b6193a4146f9a6": {
      "model_module": "@jupyter-widgets/controls",
      "model_module_version": "1.5.0",
      "model_name": "ButtonStyleModel",
      "state": {}
     },
     "825f9fb5a2234ffaaaea0deaf86b206d": {
      "model_module": "@jupyter-widgets/controls",
      "model_module_version": "1.5.0",
      "model_name": "ButtonModel",
      "state": {
       "button_style": "primary",
       "description": "Copy URL",
       "layout": "IPY_MODEL_58d8487f8bf5487d9bfb521438adb0f2",
       "style": "IPY_MODEL_e4362a71f75649bf93d3d919b63f23ad"
      }
     },
     "843aeeced14c4d94a613d8ac1cfa1797": {
      "model_module": "@jupyter-widgets/base",
      "model_module_version": "1.2.0",
      "model_name": "LayoutModel",
      "state": {}
     },
     "8908e36294e149c68f2bc6fa1637a0b4": {
      "model_module": "@jupyter-widgets/base",
      "model_module_version": "1.2.0",
      "model_name": "LayoutModel",
      "state": {}
     },
     "8da4a28960ea418abebd4f3115fde42b": {
      "model_module": "@jupyter-widgets/output",
      "model_module_version": "1.0.0",
      "model_name": "OutputModel",
      "state": {
       "layout": "IPY_MODEL_ae604bbf2607454b8aa2366a0beeb88d",
       "outputs": [
        {
         "data": {
          "text/html": "<script>window.copyToClipboard(\"https://public.naas.ai/amVyZW15LTJFcmF2ZW5lbC00MGNhc2hzdG9yeS0yRWNvbQ==/asset/2c5e1d18d20f7279df7e9edef9faf334026c5285333df3442b630c39a4f5\");</script><div id=\"pasting_to_clipboard\">✅ Copied !</div>",
          "text/plain": "<IPython.core.display.HTML object>"
         },
         "metadata": {},
         "output_type": "display_data"
        }
       ]
      }
     },
     "966ac94ef1b44754a7bcf80c42ef6940": {
      "model_module": "@jupyter-widgets/output",
      "model_module_version": "1.0.0",
      "model_name": "OutputModel",
      "state": {
       "layout": "IPY_MODEL_eed4098f55ec4f2bb3176be711254168"
      }
     },
     "ae604bbf2607454b8aa2366a0beeb88d": {
      "model_module": "@jupyter-widgets/base",
      "model_module_version": "1.2.0",
      "model_name": "LayoutModel",
      "state": {}
     },
     "b00a2988bfde49b7844768963db33daf": {
      "model_module": "@jupyter-widgets/controls",
      "model_module_version": "1.5.0",
      "model_name": "ButtonModel",
      "state": {
       "button_style": "primary",
       "description": "Copy URL",
       "layout": "IPY_MODEL_e26a69e9d8b04eb5a4f96b33ecce581d",
       "style": "IPY_MODEL_1aae19e8ce9a49049642ea9c5fd522e4"
      }
     },
     "c9dd15482da84e72b2a09ba479a75245": {
      "model_module": "@jupyter-widgets/controls",
      "model_module_version": "1.5.0",
      "model_name": "ButtonStyleModel",
      "state": {}
     },
     "ca9237340fa04e7888f382da12da4732": {
      "model_module": "@jupyter-widgets/controls",
      "model_module_version": "1.5.0",
      "model_name": "ButtonModel",
      "state": {
       "button_style": "primary",
       "description": "Copy URL",
       "layout": "IPY_MODEL_caa17a7ee7ea4b78b1b0c50bb2962e84",
       "style": "IPY_MODEL_4d73c28b4d304c5f9657f9934ef4adc5"
      }
     },
     "caa17a7ee7ea4b78b1b0c50bb2962e84": {
      "model_module": "@jupyter-widgets/base",
      "model_module_version": "1.2.0",
      "model_name": "LayoutModel",
      "state": {}
     },
     "d7b09bb706544af1a4d8b9806dadd5f7": {
      "model_module": "@jupyter-widgets/output",
      "model_module_version": "1.0.0",
      "model_name": "OutputModel",
      "state": {
       "layout": "IPY_MODEL_2a26fb87acca44beb611cbb56bc70c09"
      }
     },
     "d7e1ad37e7954862af3449f27cae11a0": {
      "model_module": "@jupyter-widgets/base",
      "model_module_version": "1.2.0",
      "model_name": "LayoutModel",
      "state": {}
     },
     "e26a69e9d8b04eb5a4f96b33ecce581d": {
      "model_module": "@jupyter-widgets/base",
      "model_module_version": "1.2.0",
      "model_name": "LayoutModel",
      "state": {}
     },
     "e4362a71f75649bf93d3d919b63f23ad": {
      "model_module": "@jupyter-widgets/controls",
      "model_module_version": "1.5.0",
      "model_name": "ButtonStyleModel",
      "state": {}
     },
     "eed4098f55ec4f2bb3176be711254168": {
      "model_module": "@jupyter-widgets/base",
      "model_module_version": "1.2.0",
      "model_name": "LayoutModel",
      "state": {}
     },
     "ef0da7f8494748e284cb1fead6471e1b": {
      "model_module": "@jupyter-widgets/output",
      "model_module_version": "1.0.0",
      "model_name": "OutputModel",
      "state": {
       "layout": "IPY_MODEL_2b2660a06a2446bd842fa3e9c9c6fe08"
      }
     },
     "f338980fb865425eb18b14d5fb8a5e9f": {
      "model_module": "@jupyter-widgets/controls",
      "model_module_version": "1.5.0",
      "model_name": "ButtonStyleModel",
      "state": {}
     }
    },
    "version_major": 2,
    "version_minor": 0
   }
  }
 },
 "nbformat": 4,
 "nbformat_minor": 5
}