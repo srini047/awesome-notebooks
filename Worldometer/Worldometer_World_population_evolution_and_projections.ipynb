{
 "cells": [
  {
   "cell_type": "markdown",
   "id": "naas-logo",
   "metadata": {
    "papermill": {},
    "tags": [
     "naas"
    ]
   },
   "source": [
    "<img width=\"10%\" alt=\"Naas\" src=\"https://landen.imgix.net/jtci2pxwjczr/assets/5ice39g4.png?w=160\"/>"
   ]
  },
  {
   "cell_type": "markdown",
   "id": "gothic-jackson",
   "metadata": {
    "papermill": {},
    "tags": []
   },
   "source": [
    "# Worldometer - World population evolution and projections\n",
    "<a href=\"https://app.naas.ai/user-redirect/naas/downloader?url=https://raw.githubusercontent.com/jupyter-naas/awesome-notebooks/master/Worldometer/Worldometer_World_population_evolution_and_projections.ipynb\" target=\"_parent\"><img src=\"https://naasai-public.s3.eu-west-3.amazonaws.com/Open_in_Naas_Lab.svg\"/></a><br><br><a href=\"https://github.com/jupyter-naas/awesome-notebooks/issues/new?assignees=&labels=&template=template-request.md&title=Tool+-+Action+of+the+notebook+\">Template request</a> | <a href=\"https://github.com/jupyter-naas/awesome-notebooks/issues/new?assignees=&labels=bug&template=bug_report.md&title=Worldometer+-+World+population+evolution+and+projections:+Error+short+description\">Bug report</a> | <a href=\"https://app.naas.ai/user-redirect/naas/downloader?url=https://raw.githubusercontent.com/jupyter-naas/awesome-notebooks/master/Naas/Naas_Start_data_product.ipynb\" target=\"_parent\">Generate Data Product</a>"
   ]
  },
  {
   "cell_type": "markdown",
   "id": "bb48c5d7-e299-4775-8f13-9d5f6ac4d298",
   "metadata": {
    "papermill": {},
    "tags": []
   },
   "source": [
    "**Tags:** #worldometer #opendata #population #snippet #plotly"
   ]
  },
  {
   "cell_type": "markdown",
   "id": "naas-author",
   "metadata": {
    "papermill": {},
    "tags": [
     "naas"
    ]
   },
   "source": [
    "**Author:** [Jeremy Ravenel](https://www.linkedin.com/in/ACoAAAJHE7sB5OxuKHuzguZ9L6lfDHqw--cdnJg/)"
   ]
  },
  {
   "cell_type": "markdown",
   "id": "naas-description",
   "metadata": {
    "papermill": {},
    "tags": [
     "description"
    ]
   },
   "source": [
    "**Description:** This notebook provides an overview of the current and projected population of the world, as tracked by Worldometer."
   ]
  },
  {
   "cell_type": "markdown",
   "id": "input_cell",
   "metadata": {
    "papermill": {},
    "tags": []
   },
   "source": [
    "## Input"
   ]
  },
  {
   "cell_type": "markdown",
   "id": "import_cell",
   "metadata": {
    "papermill": {},
    "tags": []
   },
   "source": [
    "### Import libraries"
   ]
  },
  {
   "cell_type": "code",
   "execution_count": 13,
   "id": "located-savannah",
   "metadata": {
    "papermill": {},
    "tags": []
   },
   "outputs": [],
   "source": [
    "import pandas as pd\n",
    "import plotly.express as px\n",
    "from bs4 import BeautifulSoup\n",
    "import requests"
   ]
  },
  {
   "cell_type": "markdown",
   "id": "tropical-canberra",
   "metadata": {
    "papermill": {},
    "tags": []
   },
   "source": [
    "### Data to scrap tables"
   ]
  },
  {
   "cell_type": "code",
   "execution_count": 14,
   "id": "protecting-november",
   "metadata": {
    "papermill": {},
    "tags": []
   },
   "outputs": [],
   "source": [
    "DATA_URLS = [\n",
    "    \"https://www.worldometers.info/world-population/world-population-by-year/\",\n",
    "    \"https://www.worldometers.info/world-population/world-population-projections/\",\n",
    "]\n",
    "\n",
    "TABLE_COLS = [\n",
    "    \"Year\",\n",
    "    \"World Population\",\n",
    "    \"YearlyChange\",\n",
    "    \"NetChange\",\n",
    "    \"Density(P/Km²)\",\n",
    "    \"UrbanPop\",\n",
    "    \"UrbanPop %\",\n",
    "]"
   ]
  },
  {
   "cell_type": "markdown",
   "id": "model_cell",
   "metadata": {
    "papermill": {},
    "tags": []
   },
   "source": [
    "## Model"
   ]
  },
  {
   "cell_type": "markdown",
   "id": "korean-headquarters",
   "metadata": {
    "papermill": {},
    "tags": []
   },
   "source": [
    "### Functions to scrap tables on several sites, and merge them"
   ]
  },
  {
   "cell_type": "code",
   "execution_count": 15,
   "id": "posted-ethics",
   "metadata": {
    "papermill": {},
    "tags": []
   },
   "outputs": [],
   "source": [
    "# Generic functions\n",
    "\n",
    "\n",
    "def scrap_table(url, table_cloumns):\n",
    "    page = requests.get(url)\n",
    "    soup = BeautifulSoup(page.text, \"html.parser\")\n",
    "    dfs = pd.read_html(page.text)\n",
    "\n",
    "    for df in dfs:\n",
    "        if df.columns.to_list() == table_cloumns:\n",
    "            return df\n",
    "    return None\n",
    "\n",
    "\n",
    "def merge_tables_from_urls(urls, table_columns):\n",
    "    table = None\n",
    "    for url in urls:\n",
    "        new_value = scrap_table(url, table_columns)\n",
    "        if new_value is not None:\n",
    "            if table is None:\n",
    "                table = new_value\n",
    "            else:\n",
    "                table = table.append(new_value)\n",
    "    return table"
   ]
  },
  {
   "cell_type": "markdown",
   "id": "surprising-basics",
   "metadata": {
    "papermill": {},
    "tags": []
   },
   "source": [
    "### Print table"
   ]
  },
  {
   "cell_type": "code",
   "execution_count": 16,
   "id": "nutritional-variable",
   "metadata": {
    "papermill": {},
    "tags": []
   },
   "outputs": [],
   "source": [
    "table"
   ]
  },
  {
   "cell_type": "markdown",
   "id": "insured-prefix",
   "metadata": {
    "papermill": {},
    "tags": []
   },
   "source": [
    "### Create function to display graph"
   ]
  },
  {
   "cell_type": "code",
   "execution_count": 17,
   "id": "western-czech",
   "metadata": {
    "papermill": {},
    "tags": []
   },
   "outputs": [],
   "source": [
    "def create_graph(x_label, y_label, table, title=\"\", graph_type=px.line):\n",
    "    fig = graph_type(table, x=x_label, y=y_label, title=title)\n",
    "    fig.show()"
   ]
  },
  {
   "cell_type": "code",
   "execution_count": 18,
   "id": "entire-working",
   "metadata": {
    "papermill": {},
    "tags": []
   },
   "outputs": [],
   "source": [
    "# Print population graph from year to year\n",
    "def display_population_graph(table, x_from=None, x_to=None, graph_type=px.line):\n",
    "    x_label = TABLE_COLS[0]\n",
    "    y_label = TABLE_COLS[1]\n",
    "    if x_from is not None:\n",
    "        table = table[table.Year >= x_from]\n",
    "    if x_to is not None:\n",
    "        table = table[table.Year <= x_to]\n",
    "    title = f\"{y_label} by {x_label}, between {table[x_label].to_list()[-1]} and {table[x_label].to_list()[0]}\"\n",
    "    create_graph(x_label, y_label, table, title, graph_type)"
   ]
  },
  {
   "cell_type": "markdown",
   "id": "certain-order",
   "metadata": {
    "papermill": {},
    "tags": []
   },
   "source": [
    "### Fetch tables, sort the result and remove duplicate data"
   ]
  },
  {
   "cell_type": "code",
   "execution_count": 19,
   "id": "knowing-norfolk",
   "metadata": {
    "papermill": {},
    "tags": []
   },
   "outputs": [],
   "source": [
    "table = merge_tables_from_urls(DATA_URLS, TABLE_COLS)\n",
    "\n",
    "table = table.sort_values(by=[TABLE_COLS[0]], ascending=False)\n",
    "\n",
    "table.drop_duplicates(subset=TABLE_COLS[0], keep=\"first\", inplace=True)"
   ]
  },
  {
   "cell_type": "markdown",
   "id": "output_cell",
   "metadata": {
    "papermill": {},
    "tags": []
   },
   "source": [
    "## Output"
   ]
  },
  {
   "cell_type": "markdown",
   "id": "characteristic-matthew",
   "metadata": {
    "papermill": {},
    "tags": []
   },
   "source": [
    "### Display the graph between -5000 and 2100"
   ]
  },
  {
   "cell_type": "code",
   "execution_count": 27,
   "id": "unusual-worker",
   "metadata": {
    "papermill": {},
    "tags": []
   },
   "outputs": [],
   "source": [
    "chart1 = display_population_graph(table)"
   ]
  },
  {
   "cell_type": "markdown",
   "id": "developing-consent",
   "metadata": {
    "papermill": {},
    "tags": []
   },
   "source": [
    "### Display the graph between 1800 and 2020"
   ]
  },
  {
   "cell_type": "code",
   "execution_count": 21,
   "id": "terminal-brown",
   "metadata": {
    "papermill": {},
    "tags": []
   },
   "outputs": [],
   "source": [
    "display_population_graph(table, x_from=1800, x_to=2020)"
   ]
  },
  {
   "cell_type": "markdown",
   "id": "convenient-certificate",
   "metadata": {
    "papermill": {},
    "tags": []
   },
   "source": [
    "### Display the graph between 2000 and 2100"
   ]
  },
  {
   "cell_type": "code",
   "execution_count": 22,
   "id": "according-springfield",
   "metadata": {
    "papermill": {},
    "tags": []
   },
   "outputs": [],
   "source": [
    "display_population_graph(table, x_from=2000, x_to=2100)"
   ]
  },
  {
   "cell_type": "markdown",
   "id": "competitive-savannah",
   "metadata": {
    "papermill": {},
    "tags": []
   },
   "source": [
    "### Display a barchart between 2000 and 2100 \n",
    "\n",
    "The graph type can be change by passing a graph function as 'graph_type' (graph_type=px.line, etc)"
   ]
  },
  {
   "cell_type": "code",
   "execution_count": 23,
   "id": "fundamental-aquatic",
   "metadata": {
    "papermill": {},
    "tags": []
   },
   "outputs": [],
   "source": [
    "display_population_graph(table, x_from=1950, x_to=2100, graph_type=px.bar)"
   ]
  }
 ],
 "metadata": {
  "kernelspec": {
   "display_name": "Python 3",
   "language": "python",
   "name": "python3"
  },
  "language_info": {
   "codemirror_mode": {
    "name": "ipython",
    "version": 3
   },
   "file_extension": ".py",
   "mimetype": "text/x-python",
   "name": "python",
   "nbconvert_exporter": "python",
   "pygments_lexer": "ipython3",
   "version": "3.9.6"
  },
  "naas": {
   "notebook_id": "0483468fa84c29572e8b9a896e59fad9278a3d1b600646b604c19328fde51ea1",
   "notebook_path": "Worldometer/Worldometer_World_population_evolution_and_projections.ipynb"
  },
  "papermill": {
   "default_parameters": {},
   "environment_variables": {},
   "parameters": {},
   "version": "2.3.3"
  },
  "widgets": {
   "application/vnd.jupyter.widget-state+json": {
    "state": {},
    "version_major": 2,
    "version_minor": 0
   }
  }
 },
 "nbformat": 4,
 "nbformat_minor": 5
}