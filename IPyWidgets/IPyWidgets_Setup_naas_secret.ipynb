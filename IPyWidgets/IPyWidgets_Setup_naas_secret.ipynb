{
 "cells": [
  {
   "cell_type": "markdown",
   "id": "injured-evolution",
   "metadata": {
    "papermill": {},
    "tags": []
   },
   "source": [
    "<img width=\"10%\" alt=\"Naas\" src=\"https://landen.imgix.net/jtci2pxwjczr/assets/5ice39g4.png?w=160\"/>"
   ]
  },
  {
   "cell_type": "markdown",
   "id": "substantial-decline",
   "metadata": {
    "papermill": {},
    "tags": []
   },
   "source": [
    "# IPyWidgets - Setup naas secret\n",
    "<a href=\"https://app.naas.ai/user-redirect/naas/downloader?url=https://raw.githubusercontent.com/jupyter-naas/awesome-notebooks/master/IPyWidgets/IPyWidgets_Setup_naas_secret.ipynb\" target=\"_parent\"><img src=\"https://naasai-public.s3.eu-west-3.amazonaws.com/Open_in_Naas_Lab.svg\"/></a><br><br><a href=\"https://github.com/jupyter-naas/awesome-notebooks/issues/new?assignees=&labels=&template=template-request.md&title=Tool+-+Action+of+the+notebook+\">Template request</a> | <a href=\"https://github.com/jupyter-naas/awesome-notebooks/issues/new?assignees=&labels=bug&template=bug_report.md&title=IPyWidgets+-+Setup+naas+secret:+Error+short+description\">Bug report</a> | <a href=\"https://app.naas.ai/user-redirect/naas/downloader?url=https://raw.githubusercontent.com/jupyter-naas/awesome-notebooks/master/Naas/Naas_Start_data_product.ipynb\" target=\"_parent\">Generate Data Product</a>"
   ]
  },
  {
   "cell_type": "markdown",
   "id": "00619b69-5ce8-417a-b8b1-c81af6342f9c",
   "metadata": {
    "papermill": {},
    "tags": []
   },
   "source": [
    "**Tags:** #ipywidgets #naas #secret #snippet #operation"
   ]
  },
  {
   "cell_type": "markdown",
   "id": "1446840e-74d1-4c76-afb6-4752a6b4a0c4",
   "metadata": {
    "papermill": {},
    "tags": []
   },
   "source": [
    "**Author:** [Florent Ravenel](https://www.linkedin.com/in/florent-ravenel/)"
   ]
  },
  {
   "cell_type": "markdown",
   "id": "naas-description",
   "metadata": {
    "papermill": {},
    "tags": [
     "description"
    ]
   },
   "source": [
    "**Description:** This notebook provides instructions for setting up a secure connection to a NaaS (Network-as-a-Service) using IPyWidgets."
   ]
  },
  {
   "cell_type": "markdown",
   "id": "9dff654e-e349-475f-be47-13b889672861",
   "metadata": {
    "papermill": {},
    "tags": []
   },
   "source": [
    "## Input"
   ]
  },
  {
   "cell_type": "markdown",
   "id": "156c1d15-6bbe-4ac0-a42e-03f122215f4f",
   "metadata": {
    "papermill": {},
    "tags": []
   },
   "source": [
    "### Import libraries"
   ]
  },
  {
   "cell_type": "code",
   "execution_count": null,
   "id": "9b370340-fc44-4ce3-9f2e-5b25ef882735",
   "metadata": {
    "papermill": {},
    "tags": []
   },
   "outputs": [],
   "source": [
    "from IPython.display import display, clear_output\n",
    "from ipywidgets import widgets\n",
    "import naas"
   ]
  },
  {
   "cell_type": "markdown",
   "id": "d906a3a2-0e01-4c08-b7e6-55d964288c9f",
   "metadata": {
    "papermill": {},
    "tags": []
   },
   "source": [
    "### Setup Variables"
   ]
  },
  {
   "cell_type": "code",
   "execution_count": null,
   "id": "ec43c558-3bd6-41d3-9a6e-6d026511708a",
   "metadata": {
    "papermill": {},
    "tags": []
   },
   "outputs": [],
   "source": [
    "SECRET_KEY = \"LINKEDIN_PROFILE_URL\"\n",
    "DEFAULT_VALUE = \"https://www.linkedin.com/in/my-profile/\""
   ]
  },
  {
   "cell_type": "markdown",
   "id": "c3e697f6-b6c0-4617-98fd-c091f2dfc3e9",
   "metadata": {
    "papermill": {},
    "tags": []
   },
   "source": [
    "## Model"
   ]
  },
  {
   "cell_type": "markdown",
   "id": "66c79f58-d5a6-4626-921a-afe762324902",
   "metadata": {
    "papermill": {},
    "tags": []
   },
   "source": [
    "### Function"
   ]
  },
  {
   "cell_type": "code",
   "execution_count": null,
   "id": "e9565111-be6a-4607-ab7a-a4b10a48ad45",
   "metadata": {
    "papermill": {},
    "tags": []
   },
   "outputs": [],
   "source": [
    "style = {\"description_width\": \"150px\"}\n",
    "layout = widgets.Layout(width=\"500px\")\n",
    "\n",
    "value = DEFAULT_VALUE\n",
    "\n",
    "# Check if secret exists\n",
    "if naas.secret.get(SECRET_KEY):\n",
    "    value = naas.secret.get(SECRET_KEY)\n",
    "\n",
    "# Setup ipywidgets\n",
    "text = widgets.Text(\n",
    "    description=\"Profile URL:\", display=\"flex\", value=value, style=style, layout=layout\n",
    ")\n",
    "save_button = widgets.Button(description=\"Save profile\", button_style=\"success\")\n",
    "connect_button = widgets.Button(description=\"Connect LinkedIn\")\n",
    "Box = widgets.HBox([text, save_button])\n",
    "\n",
    "# Setup output\n",
    "output = widgets.Output()\n",
    "\n",
    "# Events on click\n",
    "def save_secret(b):\n",
    "    naas.secret.add(SECRET_KEY, text.value)\n",
    "    output.clear_output()\n",
    "    with output:\n",
    "        print(\"✅ Secrets successfully pushed:\", text.value)"
   ]
  },
  {
   "cell_type": "markdown",
   "id": "545db0b8-f1bf-47fd-ac1a-80a9721a7070",
   "metadata": {
    "papermill": {},
    "tags": []
   },
   "source": [
    "## Output"
   ]
  },
  {
   "cell_type": "markdown",
   "id": "5ddc588d-9d66-4f81-b24c-f3e034999f77",
   "metadata": {
    "papermill": {},
    "tags": []
   },
   "source": [
    "### Display secret\n",
    "If secret empty, default value is displayed."
   ]
  },
  {
   "cell_type": "code",
   "execution_count": null,
   "id": "033aee3e-4481-4a81-b03d-46dc3784a37a",
   "metadata": {
    "papermill": {},
    "tags": []
   },
   "outputs": [],
   "source": [
    "# Display\n",
    "display(Box, output)\n",
    "save_button.on_click(save_secret)"
   ]
  },
  {
   "cell_type": "code",
   "execution_count": null,
   "id": "914f9638-d87a-4c80-8575-67fb266bd2ea",
   "metadata": {
    "papermill": {},
    "tags": []
   },
   "outputs": [],
   "source": []
  }
 ],
 "metadata": {
  "kernelspec": {
   "display_name": "Python 3",
   "language": "python",
   "name": "python3"
  },
  "language_info": {
   "codemirror_mode": {
    "name": "ipython",
    "version": 3
   },
   "file_extension": ".py",
   "mimetype": "text/x-python",
   "name": "python",
   "nbconvert_exporter": "python",
   "pygments_lexer": "ipython3",
   "version": "3.9.6"
  },
  "naas": {
   "notebook_id": "a68d46a0afb9b7c23e894afa2019cc7a7a9f4ee51ebf45ca51289f28af308652",
   "notebook_path": "IPyWidgets/IPyWidgets_Setup_naas_secret.ipynb"
  },
  "papermill": {
   "default_parameters": {},
   "environment_variables": {},
   "parameters": {},
   "version": "2.3.3"
  },
  "toc-autonumbering": false,
  "widgets": {
   "application/vnd.jupyter.widget-state+json": {
    "state": {},
    "version_major": 2,
    "version_minor": 0
   }
  }
 },
 "nbformat": 4,
 "nbformat_minor": 5
}